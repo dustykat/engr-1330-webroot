{
 "cells": [
  {
   "cell_type": "markdown",
   "metadata": {},
   "source": [
    "**Download** (right-click, save target as ...) this page as a jupyterlab notebook from: [Exam 1](http://54.243.252.9/engr-1330-webroot/5-ExamProblems/Exam1/Exam1/.fall2021/Exam1-Fall2021-Deploy.ipynb)\n",
    "\n",
    "___"
   ]
  },
  {
   "cell_type": "markdown",
   "metadata": {},
   "source": [
    "# ENGR 1330 Exam 1 Sec 001 Fall 2021\n",
    "---\n",
    "Instructions:\n",
    "- Work directly in this notebook, upon completion render the notebook as a PDF file.\n",
    "- Upload your solution PDF **AND** the .ipynb  (2 files) to the Blackboard repository for grading!\n",
    "- Multiple attempts are allowed in the 48-hour time window\n",
    "- Internet resources are allowed, remember to cite what you copy from elsewhere.\n",
    "- Consulting with each other is **not** permitted.\n",
    "- Sharing work with each other is **not** permitted.\n",
    "- Working together is **not** permitted.\n",
    "\n",
    "---\n",
    "\n",
    "**Casillas, Jazmine**\n",
    "\n",
    "**R11706834**\n",
    "\n",
    "ENGR 1330 Exam 1 - Take-Home"
   ]
  },
  {
   "cell_type": "markdown",
   "metadata": {},
   "source": [
    "---\n",
    "\n",
    "## Question 1 (1 pts):\n",
    "Run the cell below, and leave the results in your notebook.  \n",
    "If you get an ERROR message, leave it and continue."
   ]
  },
  {
   "cell_type": "code",
   "execution_count": 1,
   "metadata": {},
   "outputs": [
    {
     "name": "stdout",
     "output_type": "stream",
     "text": [
      "Jazmines-MBP.attlocal.net\n",
      "jazminecasillas\n",
      "/Users/jazminecasillas/opt/anaconda3/bin/python\n"
     ]
    }
   ],
   "source": [
    "#### RUN! this Cell ####\n",
    "import sys\n",
    "! hostname\n",
    "! whoami\n",
    "print(sys.executable) # OK if generates an exception message on Windows machines \n",
    "# tested ok MacOS, arm linux, x86-64 linux, Windows 10VM, Windows Server"
   ]
  },
  {
   "cell_type": "markdown",
   "metadata": {},
   "source": [
    "---\n",
    "## Question 2 (4 pts): \n",
    "\n",
    "The script below is intended to print out all the leap years from 1952 to 1996 (inclusive). \n",
    "However, the programmer keeps getting an error and has become frustrated with it! Please have a look at the code, the error(s), and the output and fix it so that it does what the user wants. Then, explain what was wrong with the script and how you have managed to fix it.  "
   ]
  },
  {
   "cell_type": "code",
   "execution_count": 1,
   "metadata": {
    "collapsed": false,
    "jupyter": {
     "outputs_hidden": false
    }
   },
   "outputs": [
    {
     "name": "stdout",
     "output_type": "stream",
     "text": [
      "1952\n",
      "1953\n",
      "1954\n",
      "1955\n",
      "1956\n",
      "1957\n",
      "1958\n",
      "1959\n",
      "1960\n",
      "1961\n",
      "1962\n",
      "1963\n",
      "1964\n",
      "1965\n",
      "1966\n",
      "1967\n",
      "1968\n",
      "1969\n",
      "1970\n",
      "1971\n",
      "1972\n",
      "1973\n",
      "1974\n",
      "1975\n",
      "1976\n",
      "1977\n",
      "1978\n",
      "1979\n",
      "1980\n",
      "1981\n",
      "1982\n",
      "1983\n",
      "1984\n",
      "1985\n",
      "1986\n",
      "1987\n",
      "1988\n",
      "1989\n",
      "1990\n",
      "1991\n",
      "1992\n",
      "1993\n",
      "1994\n",
      "1995\n"
     ]
    }
   ],
   "source": [
    "for years in range(1952,1996): \n",
    "  print(years)"
   ]
  },
  {
   "cell_type": "markdown",
   "metadata": {},
   "source": [
    "### Deliverables\n",
    "- Error-free script\n",
    "- Correct Output (years 1952,1956 .... , 1996)\n",
    "- Explain the repairs (either direct comment in the code or narrative in markdown cell)"
   ]
  },
  {
   "cell_type": "markdown",
   "metadata": {},
   "source": [
    "---\n",
    "\n",
    "## Question 3 (10 pts): \n",
    "\n",
    "The script below is intended to compute the cosine of values from 0 to 10 (inclusive), store them in a separate list called `ylist`, and ultimately print out a table. However, the programmer keeps getting an error and has become frustrated with it! Please have a look at the code, the error(s), and the output and fix it so that it does what the user wants. Then, explain what was wrong with the script and how you have managed to fix it."
   ]
  },
  {
   "cell_type": "code",
   "execution_count": 7,
   "metadata": {
    "collapsed": false,
    "jupyter": {
     "outputs_hidden": false
    }
   },
   "outputs": [
    {
     "name": "stdout",
     "output_type": "stream",
     "text": [
      "     Cosines     \n",
      "   x    |  cos(x) \n",
      "--------|--------\n",
      "0.000   | 1.0000\n",
      "1.000   | 0.5403\n",
      "2.000   | -0.4161\n",
      "3.000   | -0.9900\n",
      "4.000   | -0.6536\n",
      "5.000   | 0.2837\n",
      "6.000   | 0.9602\n",
      "7.000   | 0.7539\n",
      "8.000   | -0.1455\n",
      "9.000   | -0.9111\n",
      "10.000   | -0.8391\n"
     ]
    }
   ],
   "source": [
    "xlist = []\n",
    "ylist = []\n",
    "\n",
    "print(\"     Cosines     \")\n",
    "print(\"   x   \",\"|\",\" cos(x) \")\n",
    "print(\"--------|--------\")\n",
    "\n",
    "for x in range(0,11):\n",
    "    xlist.append(x*1.0)\n",
    "    ylist.append(math.cos(x*1.0))\n",
    "    print('%.3f'%xlist[x],'  |', '%.4f'%ylist[x])"
   ]
  },
  {
   "cell_type": "markdown",
   "metadata": {},
   "source": [
    "### Deliverables\n",
    "- Error-free script\n",
    "- Correct Output (a table of x and cos(x)) for x values of (0.000,1.000,...,10.000)\n",
    "- Explain the repairs (either direct comment in the code or narrative in markdown cell)"
   ]
  },
  {
   "cell_type": "markdown",
   "metadata": {},
   "source": [
    "****************************************************************************************************************"
   ]
  },
  {
   "cell_type": "markdown",
   "metadata": {},
   "source": [
    "## Question 4 (10 pts):\n",
    "\n",
    "Create a function, named `mypolynomial` that takes the single positional argument `x` as input and produces an output value `y` for the equation\n",
    "\n",
    "$$ y = -5x^5 +4sin(x)^4 -3x^3 +2cos(x)^2 -x $$\n",
    "    \n",
    "Use the function to create a pair of lists of x raging from -10 to 10 (inclusive) in steps of 0.5, and the corresponding `y` values"
   ]
  },
  {
   "cell_type": "code",
   "execution_count": 9,
   "metadata": {
    "collapsed": false,
    "jupyter": {
     "outputs_hidden": false
    }
   },
   "outputs": [
    {
     "name": "stdout",
     "output_type": "stream",
     "text": [
      "   Table   \n",
      "  x | y\n",
      "------|------\n",
      "-10.0   |   503011.76\n",
      "-9.5   |   389474.08\n",
      "-9.0   |   297442.78\n",
      "-8.5   |   223705.88\n",
      "-8.0   |   165387.87\n",
      "-7.5   |   119928.81\n",
      "-7.0   |   85072.88\n",
      "-6.5   |   58846.82\n",
      "-6.0   |   39535.87\n",
      "-5.5   |   25670.84\n",
      "-5.0   |   16008.54\n",
      "-4.5   |   9508.02\n",
      "-4.0   |   5318.17\n",
      "-3.5   |   2760.03\n",
      "-3.0   |   1300.96\n",
      "-2.5   |   539.45\n",
      "-2.0   |   189.08\n",
      "-1.5   |   53.56\n",
      "-1.0   |   11.59\n",
      "-0.5   |   2.78\n",
      "0.0   |   2.00\n",
      "0.5   |   0.72\n",
      "1.0   |   -6.41\n",
      "1.5   |   -45.62\n",
      "2.0   |   -182.92\n",
      "2.5   |   -535.86\n",
      "3.0   |   -1297.04\n",
      "3.5   |   -2756.40\n",
      "4.0   |   -5313.83\n",
      "4.5   |   -9500.54\n",
      "5.0   |   -16001.46\n",
      "5.5   |   -25666.85\n",
      "6.0   |   -39532.13\n",
      "6.5   |   -58842.99\n",
      "7.0   |   -85069.12\n",
      "7.5   |   -119922.13\n",
      "8.0   |   -165380.13\n",
      "8.5   |   -223701.18\n",
      "9.0   |   -297439.22\n",
      "9.5   |   -389470.10\n",
      "10.0   |   -503008.24\n"
     ]
    }
   ],
   "source": [
    "# build your script here\n",
    "def mypolynomial(x):\n",
    "    y = -5*x**5 + 4*math.sin(x)**4 - 3*x**3 + 2*math.cos(x)**2 - x\n",
    "    return y\n",
    "print('   Table   ')\n",
    "print('  x','|','y')\n",
    "print('------|------')\n",
    "for i in range (-20, 21):\n",
    "    x = float(i)*0.5\n",
    "    y = mypolynomial(x)\n",
    "    print('%.1f' % x, '  |  ','%.2f' % y)"
   ]
  },
  {
   "cell_type": "markdown",
   "metadata": {},
   "source": [
    "### Deliverables\n",
    "- Error-free script\n",
    "- Tabular Output (a table of x and y) for x values of (-10.0,-9.5,...,10.0)"
   ]
  },
  {
   "cell_type": "markdown",
   "metadata": {},
   "source": [
    "---\n",
    "\n",
    "## Question 5 (10 pts): Time is on my side, or is it?\n",
    "\n",
    "\n",
    "<img src=\"https://upload.wikimedia.org/wikipedia/commons/8/88/World_Time_Zones_Map.png\" width=\"500\">\n",
    "\n",
    "When it is 8:00 in Lubbock,\n",
    "   - It is 9:00 in New York\n",
    "   - It is 14:00 in London\n",
    "   - It is 15:00 in Cairo\n",
    "   - It is 16:00 in Istanbul\n",
    "   - It is 19:00 in Hyderabad\n",
    "   - It is 22:00 in Tokyo <br>\n",
    "\n",
    "Write a function that reports the time in New York, London, Cairo, Istanbul, Hyderabad, and Tokyo based on the time in Lubbock. Use a 24-hour time format. Include error trapping that:<br>\n",
    "\n",
    "1. Issues a message like \"Please Enter A Number from 00 to 23\" if the first input is numeric but outside the range of [0,23].<br>\n",
    "2. Takes any numeric input for \"Lubbock time\" selection , and forces it into an integer.<br>\n",
    "3. Issues an appropriate message if the user's selection is non-numeric.<br>\n",
    "\n",
    "Test your function for these times:\n",
    "- 8:00\n",
    "- 15:00\n",
    "- 0:00"
   ]
  },
  {
   "cell_type": "code",
   "execution_count": 8,
   "metadata": {},
   "outputs": [
    {
     "name": "stdin",
     "output_type": "stream",
     "text": [
      "Enter Lubbock time :  0\n"
     ]
    },
    {
     "name": "stdout",
     "output_type": "stream",
     "text": [
      "\n",
      "When it is 0 : 00 in Lubbock\n",
      "\n",
      "\tIt is 1: 00 in New York\n",
      "\n",
      "\tIt is 6: 00 in London\n",
      "\n",
      "\tIt is 7: 00 in Cairo\n",
      "\n",
      "\tIt is 8: 00 in Istanbul\n",
      "\n",
      "\tIt is 11: 00 in Hyderabad\n",
      "\n",
      "\tIt is 14: 00 in Tokyo\n",
      "\n"
     ]
    }
   ],
   "source": [
    "a = [1, 6, 7, 8, 11, 14]\n",
    "name= [\"New York\", \"London\", \"Cairo\", \"Istanbul\", \"Hyderabad\", \"Tokyo\"]\n",
    "\n",
    "def city_time():\n",
    "    stri = input(\"Enter Lubbock time : \")\n",
    "\n",
    "    if stri.isnumeric():\n",
    "        val = int(stri)\n",
    "        if val < 0:\n",
    "            if val > 23:\n",
    "                print(\"Please enter a number from 00 to 23\")\n",
    "                city_time()\n",
    "                return\n",
    "\n",
    "        print(\"\\nWhen it is \"+str(val)+\" : 00 in Lubbock\\n\")\n",
    "\n",
    "        for i,j in zip(a,name):\n",
    "            if (val + i) > 23:\n",
    "                print(\"\\tIt is \"+ str(val + i - 23 )+\" : 00 in \"+j+\"\\n\")\n",
    "\n",
    "            else:\n",
    "                print(\"\\tIt is \"+ str(val + i) +\": 00 in \"+j+\"\\n\")\n",
    "\n",
    "    else:\n",
    "        print(\"Enter a numeric value\\n\")\n",
    "        city_time()\n",
    "        return\n",
    "\n",
    "city_time()"
   ]
  },
  {
   "cell_type": "markdown",
   "metadata": {},
   "source": [
    "### Deliverables\n",
    "- Error-free script\n",
    "- Runs that demonstrate:\n",
    "  - Initial prompt for input\n",
    "  - Detect non-numeric entry issues message\n",
    "  - Detect numeric entry, if acceptable perform time conversions\n",
    "- Runs (3) for the requested times\n",
    "\n",
    "---"
   ]
  },
  {
   "cell_type": "markdown",
   "metadata": {},
   "source": [
    "## Question 6 (15 pts):\n",
    "\n",
    "Recall our treasure hunt problem. In the lessons and laboratory we did complete searching of the map to find the treasure, but the real problem is to use the clues to guide the search.\n",
    "\n",
    "*The \"Treasure Hunt Problem\" is from the HackerRank.com avaiable at https://www.hackerrank.com/contests/startatastartup/challenges/treasure-hunt*\n",
    "\n",
    "#### Tresure Hunt Problem\n",
    "                  +-------------------------+\n",
    "                  ¦ 34 ¦ 21 ¦ 32 ¦ 41 ¦ 25  ¦\n",
    "                  +----+----+----+----+-----¦\n",
    "                  ¦ 14 ¦ 42 ¦ 43 ¦ 14 ¦ 31  ¦\n",
    "                  +----+----+----+----+-----¦\n",
    "                  ¦ 54 ¦ 45 ¦ 52 ¦ 42 ¦ 23  ¦\n",
    "                  +----+----+----+----+-----¦\n",
    "                  ¦ 33 ¦ 15 ¦ 51 ¦ 31 ¦ 35  ¦\n",
    "                  +----+----+----+----+-----¦\n",
    "                  ¦ 21 ¦ 52 ¦ 33 ¦ 13 ¦ 23  ¦\n",
    "                  +-------------------------+\n",
    "\n",
    "Write a script to explore the above array for a treasure. The values in the array are clues. Each cell contains an integer between 11 and 55; for each value the ten's digit represents the row number and the unit's digit represents the column number of the cell containing the next clue. Starting in the upper left corner (at 1,1), use the clues to guide your search of the array. (The first three steps are 11 -> 34 -> 42). The treasure is a cell whose value is the same as its coordinates. Your program must first read in the treasure map data into a 5 by 5 array. The treasure map is located at [http://54.243.252.9/engr-1330-webroot/8-Labs/Lab07/treasure1.txt](http://54.243.252.9/engr-1330-webroot/8-Labs/Lab07/treasure1.txt).\n",
    "Your program should output the cells it visits during its search, and a message indicating where you found the treasure."
   ]
  },
  {
   "cell_type": "code",
   "execution_count": 21,
   "metadata": {},
   "outputs": [
    {
     "name": "stdout",
     "output_type": "stream",
     "text": [
      "Visited cells: [(1, 1), (3, 4), (4, 2), (1, 5), (2, 5), (3, 1), (5, 4), (1, 3), (3, 2), (4, 5), (3, 5), (2, 3), (4, 3), (5, 1), (2, 1), (1, 4), (4, 1), (3, 3), (5, 2)]\n",
      "TREASURE FOUND AT: (5, 2)\n"
     ]
    }
   ],
   "source": [
    "# put your algorithm here\n",
    "# create storage for the map\n",
    "treasuremap = []\n",
    "# read in the data from the file\n",
    "with open('treasuremap.txt','r') as f:\n",
    "    for line in f:\n",
    "        inner_list = [elt.strip() for elt in line.split(',')]\n",
    "        treasuremap.append(inner_list)\n",
    "del treasuremap[0]\n",
    "for x in range(5):\n",
    "    del treasuremap[x][0]\n",
    "# start at 1,1 and follow the clues\n",
    "clue = treasuremap[0][0]\n",
    "row = 1\n",
    "col = 1\n",
    "visit = [(row,col)]\n",
    "while str(row)+str(col)!=clue:\n",
    "    row = int(clue[0])\n",
    "    col = int(clue[1])\n",
    "    clue = treasuremap[row-1][col-1]\n",
    "    visit.append((row,col))\n",
    "print('Visited cells:', visit)\n",
    "print('TREASURE FOUND AT:', visit[-1])\n",
    "# message of cell visited, is there a treasure ?\n",
    "# stop when find a treasure."
   ]
  },
  {
   "cell_type": "markdown",
   "metadata": {},
   "source": [
    "### Deliverables\n",
    "- Error-free script\n",
    "- Run that demonstrates:\n",
    "  - Read map from a file\n",
    "  - Navigates to treasure by following the clues (not enumerative search of the 2D list)\n",
    "  - Detect treasure, report the find, then stop searching\n",
    "  - Report no find, if there is no treasure\n"
   ]
  },
  {
   "cell_type": "markdown",
   "metadata": {},
   "source": [
    "---\n",
    "\n",
    "## Question 7 (15 pts) : Turn up the volume!\n",
    "\n",
    "<img src=\"https://sciencenotes.org/wp-content/uploads/2020/09/what-is-volume.jpg\" width=\"500\"> \n",
    "\n",
    "\n",
    "Create a VOLUME Function to compute the volume of Cylinders, Spheres, Cones, and Rectangular Boxes. This function should:\n",
    "- First, ask the user about __the shape of the object__ of interest using something like:<br>\n",
    "   - *\"Please choose the shape of the object. Enter 1 for \"Cylinder\", 2 for \"Sphere\", 3 for \"Cone\", or 4 for \"Rectangular Box\"\"*<br>\n",
    "- Second, based on user's choice in the previous step, __ask for the necessary inputs__.\n",
    "- Third, print out an statement with __the input values and the calculated volumes__.\n",
    "\n",
    "#### Include error trapping that:\n",
    "\n",
    "1. Issues a message that *\"The object should be either a Cylinder, a Sphere, a Cone, or a Rectangular Box. Please Enter A Number from 1,2,3, and 4!\"* if the first input is non-numeric.\n",
    "2. Takes any numeric input for the initial selection , and force it into an integer.\n",
    "4. Issues an appropriate message if the user's selection is numeric but outside the range of [1,4]\n",
    "3. Takes any numeric input for the shape characteristics , and force it into a float.\n",
    "4. Issues an appropriate message if the object characteristics are as non-numerics.\n",
    "\n",
    "#### Test the script for:\n",
    "1. Sphere, r=10\n",
    "2. Cylinder , r=3, h=10\n",
    "3. Rectangular Box, w=5, h=10, l=0.5\n",
    "\n",
    "\n",
    "- <font color=orange>__Volume of a Cylinder = πr²h__</font>\n",
    "- <font color=orange>__Volume of a Sphere = 4(πr3)/3__</font>\n",
    "- <font color=orange>__Volume of a Cone = (πr²h)/3__</font>\n",
    "- <font color=orange>__Volume of a Rectangular Box = whl__</font>"
   ]
  },
  {
   "cell_type": "code",
   "execution_count": 22,
   "metadata": {},
   "outputs": [
    {
     "name": "stdin",
     "output_type": "stream",
     "text": [
      "Please choose the shape of the object. Enter 1 for Cylinder, 2 for Sphere, 3 for Cone, or 4 for Rectangular Box 2\n",
      "Enter radius of Sphere: 10\n"
     ]
    },
    {
     "name": "stdout",
     "output_type": "stream",
     "text": [
      "Volume of  Sphere is 4188.790204786391\n"
     ]
    },
    {
     "name": "stdin",
     "output_type": "stream",
     "text": [
      "Please choose the shape of the object. Enter 1 for Cylinder, 2 for Sphere, 3 for Cone, or 4 for Rectangular Box 1\n",
      "Enter radius of Cylinder: 3\n",
      "Enter height of Cylinder: 10\n"
     ]
    },
    {
     "name": "stdout",
     "output_type": "stream",
     "text": [
      "Volume of  Cylinder is 282.7433388230814\n"
     ]
    },
    {
     "name": "stdin",
     "output_type": "stream",
     "text": [
      "Please choose the shape of the object. Enter 1 for Cylinder, 2 for Sphere, 3 for Cone, or 4 for Rectangular Box 4\n",
      "Enter box length: .5\n",
      "Enter box width: 5\n",
      "Enter box height: 10\n"
     ]
    },
    {
     "name": "stdout",
     "output_type": "stream",
     "text": [
      "Volume of  Rectangular_Box is 25.0\n"
     ]
    }
   ],
   "source": [
    "import math as m\n",
    "dic_shapes = {1:'Cylinder', 2:'Sphere', 3:'Cone', 4:'Rectangular_Box'}\n",
    "def user_input():\n",
    "    shape = input('Please choose the shape of the object. Enter 1 for Cylinder, 2 for Sphere, 3 for Cone, or 4 for Rectangular Box')\n",
    "    shape = int(check_user_input(shape))\n",
    "    return(shape)\n",
    "def user_flo(shape):\n",
    "    r = 1\n",
    "    h = 1\n",
    "    w = 1\n",
    "    l = 1\n",
    "    if shape == 1:\n",
    "        r = input('Enter radius of Cylinder:')\n",
    "        r = float(check_user_flo(r))\n",
    "        h = input('Enter height of Cylinder:')\n",
    "        h = float(check_user_flo(h))\n",
    "    elif shape == 2:\n",
    "        r = input('Enter radius of Sphere:')\n",
    "        r = float(check_user_flo(r))\n",
    "    elif shape == 3:\n",
    "        r = input('Enter radius of cone:')\n",
    "        r = float(check_user_flo(r))\n",
    "        h = input('Enter height of cone:')\n",
    "        h = float(check_user_flo(h))\n",
    "    elif shape == 4:\n",
    "        l = input('Enter box length:')\n",
    "        l = float(check_user_flo(l))\n",
    "        w = input('Enter box width:')\n",
    "        w = float(check_user_flo(w))\n",
    "        h = input('Enter box height:')\n",
    "        h = float(check_user_flo(h))\n",
    "    return(r,h,w,l)\n",
    "def check_user_input(x):\n",
    "    try:\n",
    "        int(x)\n",
    "        typr = True\n",
    "    except:\n",
    "        print('FOLLOW INSTRUCTIONS SHAPE HAS TO BE ONE OF 4')\n",
    "        typr = False\n",
    "    if typr == True:\n",
    "        a = int(x)\n",
    "    elif typr == False:\n",
    "        a = int(user_input())\n",
    "    return(a)\n",
    "def check_user_flo(x):\n",
    "    try:\n",
    "        float(x)\n",
    "        typr = True\n",
    "    except:\n",
    "        print('FOLLOW INSTRUCTIONS CHARACTERISTICS HAVE TO BE NUMERIC!')\n",
    "        typr = False\n",
    "    if typr == True:\n",
    "        a = float(x)\n",
    "    elif typr == False:\n",
    "        a,b,c,d = (user_flo(p))\n",
    "    return(a)\n",
    "def cal():\n",
    "    if p == 1:\n",
    "        vol = m.pi*r**2*h\n",
    "    elif p == 2:\n",
    "        vol = 4/3*m.pi*r**3\n",
    "    elif p == 3:\n",
    "        vol = m.pi*r**2*h/3\n",
    "    elif p == 4:\n",
    "        vol = w*h*l\n",
    "    print('Volume of ', dic_shapes[p], 'is', vol)\n",
    "    return\n",
    "count = 0\n",
    "while count < 3:\n",
    "    p = user_input()\n",
    "    while p < 1 or p > 4:\n",
    "        print('NUMBERS HAS TO BE 1,2,3, OR 4 READ INSTRUCTIONS!!!')\n",
    "        p = user_input()\n",
    "    r,h,w,l = user_flo(p)\n",
    "    cal()\n",
    "    count = count + 1\n"
   ]
  },
  {
   "cell_type": "markdown",
   "metadata": {},
   "source": [
    "### Deliverables\n",
    "- Error-free script\n",
    "- Runs that demonstrate:\n",
    "  - Initial prompt for input\n",
    "    - Message for incorrect inputs\n",
    "  - Secondary prompt for input based on shape\n",
    "      - Message for incorrect inputs\n",
    "  - Compute and report values\n",
    "- Runs (3) for the requested shapes\n",
    "\n",
    "---"
   ]
  },
  {
   "cell_type": "markdown",
   "metadata": {},
   "source": [
    "## Bonus Question: WHERE'S WALDO?\n",
    "\n",
    "<img src=\"http://alfalfastudio.com/wp-content/uploads/2020/01/Waldo_Header.jpg\" width=\"500\"> <br>\n",
    "\n",
    "\n",
    "A function is required to look at any given list, look for Waldo, and report whether Waldo is in the list or not. If he is, then his position (the index number) should be reported.\n",
    "\n",
    "*Hint: This is exactly like the JTOI function in lab, just change a few parts to find waldo!*\n",
    "\n",
    "1. Write an appropriate pseudocode for the this function. \n",
    "2. Write an appropriate code for this function. Make sure to add comments to make your code easy to understand. \n",
    "3. Test your code for the following objects:\n",
    "\n",
    "- list1 = [15,\"Wally\",54.3,\"Osvaldo\"]\n",
    "- list2 = [\"Waldo\",\"Wald\",2]\n",
    "- list3 = [1,2,3,4,5,6,7,8,\"WALDO\",10]\n"
   ]
  },
  {
   "cell_type": "code",
   "execution_count": null,
   "metadata": {},
   "outputs": [],
   "source": []
  }
 ],
 "metadata": {
  "kernelspec": {
   "display_name": "Python 3",
   "language": "python",
   "name": "python3"
  },
  "language_info": {
   "codemirror_mode": {
    "name": "ipython",
    "version": 3
   },
   "file_extension": ".py",
   "mimetype": "text/x-python",
   "name": "python",
   "nbconvert_exporter": "python",
   "pygments_lexer": "ipython3",
   "version": "3.8.8"
  }
 },
 "nbformat": 4,
 "nbformat_minor": 4
}
