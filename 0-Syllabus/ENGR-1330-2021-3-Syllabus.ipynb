{
 "cells": [
  {
   "cell_type": "markdown",
   "metadata": {},
   "source": [
    "Download this page as a jupyter notebook at [ENGR-1330-2021-3-Syllabus](http://54.243.252.9/engr-1330-webroot/0-Syllabus/ENGR-1330-2021-3-Syllabus.ipynb) **The syllabus changes from time-to-time** The webpage may become obsolete; the jupyter notebook is always current."
   ]
  },
  {
   "cell_type": "code",
   "execution_count": 1,
   "metadata": {},
   "outputs": [
    {
     "data": {
      "text/html": [
       "<style>\n",
       "  table {margin-left: 0 !important;}\n",
       "</style>\n"
      ],
      "text/plain": [
       "<IPython.core.display.HTML object>"
      ]
     },
     "metadata": {},
     "output_type": "display_data"
    }
   ],
   "source": [
    "%%html\n",
    "<style>\n",
    "  table {margin-left: 0 !important;}\n",
    "</style>"
   ]
  },
  {
   "cell_type": "markdown",
   "metadata": {},
   "source": [
    "---\n",
    "# ENGR 1330 Computational Thinking with Data Science"
   ]
  },
  {
   "cell_type": "markdown",
   "metadata": {},
   "source": [
    "## Course Description: \n",
    "Introducion to Python programming, its relevant modules and libraries, and computational thinking for solving problems in Data Science. Data science approaches for importing, manipulating, and analyzing data.  Modeling and visualizing real-world data sets in various science and engineering disciplines.\n",
    "\n",
    "3 credit hours comprising of lectures and hands-on lab sessions.\n",
    "\n",
    "This course provides a hands-on learning experience in programming and data science using iPython and JupyterLab. iPython is the interactive python kernel implemented in JupyterLab. \n",
    "\n",
    "## Prerequisites: \n",
    "\n",
    "Prior programming background is NOT required.  The course is intended for first-year WCOE students (aka engineering foundational) \n"
   ]
  },
  {
   "cell_type": "markdown",
   "metadata": {},
   "source": [
    "## COVID-19 Important Guidelines:\n",
    "* If Texas Tech University campus operations are required to change because of health concerns related to the COVID-19 pandemic, it is possible that this course will move to a fully online delivery format.  Should that be necessary, students will be advised of technical and/or equipment requirements, including remote proctoring software.  \n",
    "\n",
    "* Policy on absences resulting from illness: We anticipate that some students may have extended absences.  To avoid students feeling compelled to attend in-person class periods when having symptoms or feeling unwell, a standard policy is provided that holds students harmless for illness-related absences (see Section A below).\n",
    "\n",
    "\n",
    "### A. Illness-Based Absence Policy (Face-to-Face Classes)\n",
    "If at any time during the semester you are ill, in the interest of your own health and safety as well as the health and safety of your instructors and classmates, you are encouraged not to attend face-to-face class meetings or events.  Please review the steps outlined below that you should follow to ensure your absence for illness will be excused.  These steps also apply to not participating in synchronous online class meetings if you feel too ill to do so and missing specified assignment due dates in asynchronous online classes because of illness.\n",
    "\n",
    "1. If you are ill and think the symptoms might be COVID-19-related:\n",
    "\n",
    "    1. Call Student Health Services at 806.743.2848 or your health care provider.  During after-hours and on weekends, contact TTU COVID-19 Helpline at TBD.\n",
    "    2. Self-report as soon as possible using the Dean of Students COVID-19 webpage. This website has specific directions about how to upload documentation from a medical provider and what will happen if your illness renders you unable to participate in classes for more than one week.\n",
    "    3. If your illness is determined to be COVID-19-related, all remaining documentation and communication will be handled through the Office of the Dean of Students, including notification of your instructors of the time you may be absent from and may return to classes.\n",
    "    4. If your illness is determined not to be COVID-19-related, please follow steps 2.a-d below.\n",
    "\n",
    "\n",
    "2. If you are ill and can attribute your symptoms to something other than COVID-19:\n",
    "\n",
    "    1. If your illness renders you unable to attend face-to-face classes, participate in synchronous online classes, or miss specified assignment due dates in asynchronous online classes, you are encouraged to contact either Student Health Services at 806.743.2848 or your health care provider.  Note that Student Health Services and your own and other health care providers may arrange virtual visits.\n",
    "    2. During the health provider visit, request a “return to school” note.\n",
    "    3. E-mail the instructor a picture of that note.\n",
    "    4. Return to class by the next class period after the date indicated on your note.\n",
    "\n",
    "Following the steps outlined above helps to keep your instructors informed about your absences and ensures your absence or missing an assignment due date because of illness will be marked excused.  You will still be responsible to complete within a week of returning to class any assignments, quizzes, or exams you miss because of illness.\n",
    "\n",
    "### B. Illness-Based Absence Policy (Telepresence/On-Line Classes)\n",
    "Same as above with respect potential to infect others; go to a health care provider if you are ill.  Telepresence courses are recorded and will be available on TTU MediaSite and/or YouTube (unlisted).  Exercises, Quizzes, and Examinations are all administered by a Learning Management System (Blackboard) and students need to allow enough time to complete and upload their work.  Due date adjustments/late submits on case-by-case basis; documentation required as in subsection **A** above."
   ]
  },
  {
   "cell_type": "markdown",
   "metadata": {},
   "source": [
    "Update \\#1: [Provost 13 Aug 2021 Pandemic Guidance](https://54.243.252.9/engr-1330-webroot/0-Syllabus/August-2021-Update-Academic-Affairs-COVID-19-Guidance.pdf)\n",
    "\n",
    "Update \\#2: [Provost 27 Aug 2021 Pandemic Guidance](https://54.243.252.9/engr-1330-webroot/0-Syllabus/Guidance-instructors-academic-affairs.pdf)"
   ]
  },
  {
   "cell_type": "markdown",
   "metadata": {},
   "source": [
    "## Course Sections\n",
    "Lesson time, days, and location: \n",
    "\n",
    "- Lecture Section 001; CRN 42881; 0800-0920 T, TH ; Modality: Face-to-Face ; Location: Holden Hall 76\n",
    "\n",
    "- Laboratory Section D51; CRN 64441; 0930-1050 T, TH;  Modality: Telepresence (on-Line) Location: Internet\n",
    "\n",
    "\n",
    "<!--2. Section D01; CRN 63306; 1000-1120 T, TH ; Telepresence\n",
    "    2. Lab Section D61; CRN 63744; 1130-1250 T, TH-->\n",
    "\n",
    "## Course Instructor:\n",
    "\n",
    "Instructor: Theodore G. Cleveland, Ph.D., P.E., M. ASCE, F. EWRI\n",
    "\n",
    "Email: theodore.cleveland@ttu.edu  (put ENGR 1330 in subject line for email related to this class)\n",
    "\n",
    "Office location: CE 203F \n",
    "\n",
    "Office hours: 1400-1500 W, 1000-1100 F by **Zoom** \n",
    "\n",
    "## Teaching Assistant:\n",
    "\n",
    "Teaching Assistant: Josh Archer\n",
    "\n",
    "Email : Josh.Archer@ttu.edu (put ENGR 1330 in subject line for email related to this class)\n",
    "\n",
    "Office location:  (**Zoom**)\n",
    "\n",
    "Office hours: 0900-1000 M, 0900-1000 W or by **Zoom** appointment"
   ]
  },
  {
   "cell_type": "markdown",
   "metadata": {},
   "source": [
    "## Textbook: \n",
    "Ani Adhikari and John DeNero, Computational and Inferential Thinking, The Foundations of Data Science, Creative Commons Attribution-NonCommercial-NoDerivatives 4.0 International (CC BY-NC-ND 4.0).  Link: [https://www.inferentialthinking.com/chapters/intro](https://www.inferentialthinking.com/chapters/intro)\n",
    "\n",
    "Theodore G. Cleveland, Farhang Forghanparast, Dinesh Sundaravadivelu Devarajan, Turgut Batuhan Baturalp (Batu), Tanja Karp, Long Nguyen, and Mona Rizvi. (2021) *Computational Thinking and Data Science: A WebBook to Accompany ENGR 1330 at TTU*, Whitacre College of Engineering, DOI (pending) <!--[http://54.243.252.9/engr-1330-webbook/](http://54.243.252.9/engr-1330-webbook/)-->"
   ]
  },
  {
   "cell_type": "markdown",
   "metadata": {},
   "source": [
    "## Course Contents: \n",
    "* Computational thinking for problem-solving: Logical problem solving, decomposition, pattern recognition, abstraction, representation, algorithm design, and generalization.\n",
    "* Python Programming: \n",
    "    1. Variables, constants, data types, data structures, strings, math operators\n",
    "    2. boolean operators, expressions, program constructs, functions, \n",
    "    3. looping, I/O files, modules, and database.\n",
    "* Data science fundamentals:\n",
    "\t1. Experimental setup: \n",
    "        1. Importing and formatting data sets, \n",
    "        2. Displaying data, \n",
    "        3. Data pre-processing.\n",
    "\t2. Introductory statistical analysis with Python: \n",
    "        1. Elementary statistics, randomness, sampling, probability distributions,\n",
    "        2. Confidence intervals, hypothesis testing, and A/B testing.\n",
    "\t3. Basic data analysis, visualization, and machine learning: \n",
    "        1. Data pre-processing, \n",
    "        2. Supervised/unsupervised learning, \n",
    "        3. Performance evaluation metrics.\n",
    "\n"
   ]
  },
  {
   "cell_type": "markdown",
   "metadata": {},
   "source": [
    "## Learning Outcomes: \n",
    "On completion of the course, students will have\n",
    "* Created Python programs employing computational thinking concepts to\n",
    "* Employed Python libraries relevant to data science.\n",
    "* Downloaded data files from selected public sources and analyzed content.\n",
    "* Created scripts to perform fundamental data analytics and basic visualization.\n"
   ]
  },
  {
   "cell_type": "markdown",
   "metadata": {},
   "source": [
    "## ABET Student Outcomes\n",
    "* Engineering:\n",
    "    1. An ability to identify, formulate, and solve complex engineering problems by applying principles of engineering, science, and mathematics.\n",
    "    2. An ability to acquire and apply new knowledge as needed, using appropriate learning strategies. \n",
    "    \n",
    "\n",
    "* Computer Science:\n",
    "\n",
    "    1. Analyze a complex computing problem and to apply principles of computing and other relevant disciplines to identify solutions.  \n",
    "    2. Design, implement, and evaluate a computing-based solution to meet a given set of computing requirements in the context of the program’s discipline.  \n"
   ]
  },
  {
   "cell_type": "markdown",
   "metadata": {},
   "source": [
    "## Resources/Tools\n",
    "### Platforms for Python Programming (for your own computers)\n",
    "\n",
    "1. Anaconda platform [https://www.anaconda.com/](https://www.anaconda.com/): Anaconda distribution is an open-source Data Science Distribution Development Platform.  It includes Python 3 with over 1,500 data science packages making it easy to manage libraries and dependencies.  Available in Linux, Windows, and Mac OS X.  \n",
    "\n",
    "2. Jupyter [https://jupyter.org/](https://jupyter.org/): JupyterLab is a web-based interactive development environment for Jupyter notebooks, code, and data. JupyterLab is flexible: Configure and arrange the user interface to support a wide range of workflows in data science, scientific computing, and machine learning. `note` Anaconda for MacOS includes a JupyterLab instance, so a separate install is not required.\n",
    "\n",
    "### Additional Modules for Python Programming\n",
    "3. Math module [https://docs.python.org/3/library/math.html](https://docs.python.org/3/library/math.html): Gives access to the mathematical functions defined by the C standard e.g. factorial, gcd, exponential, logarithm. \n",
    "4. Operator module [https://docs.python.org/3/library/operator.html](https://docs.python.org/3/library/operator.html): Helps in exporting a set of efficient functions corresponding to the intrinsic operators of Python.  For example, the operator add(x,y) is equivalent to the expression x+y.\n",
    "\n",
    "### Python Modules for Data Science\n",
    "5. Scipy module [https://www.scipy.org/](https://www.scipy.org/): A Python-based ecosystem of open-source software for mathematics, science, and engineering. Some of the core packages are:\n",
    "    * Numpy: Provides n-dimensional array package\n",
    "    * Scipy: Fundamental for scientific computing (e.g. linear algorithm, optimization)\n",
    "    * Matplotlib: Visualizations/2D plotting\n",
    "    * IPython: Enhanced interactive console <<= this is the kernel used in JupyterLab\n",
    "    * Pandas: Data structures and data analysis\n",
    "6. Scikit-learn module [https://scikit-learn.org/stable/](https://scikit-learn.org/stable/): A library for machine learning in Python. It is a simple and efficient tool for predictive data analysis.  It is built on NumPy, SciPy, and matplotlib modules.\n",
    " \n",
    "### On-Line Options\n",
    "- AWS Lightsail Instance (use Windows Server 2000 template; lowest resource provision tier; AWS RDP client, or download and install own RDP client) \n",
    "    1. Then install Anaconda onto the AWS Instance\n",
    "\n",
    "### Hardware Requirements\n",
    "- Minimal, in fact this syllabus was created using a JupyterLab notebook (as a markdown processor) on a Raspberry Pi 4B, which technically cannot support a JupyterHub, but does.  \n",
    "- Your current laptop should be fine, or if you only have a chromebook, build an AWS instance.\n",
    "\n",
    "The college of engineering has specific laptop requirements for your other courses that are listed at [https://www.depts.ttu.edu/coe/dean/engineeringitservices/buyingtherightcomputer.php](https://www.depts.ttu.edu/coe/dean/engineeringitservices/buyingtherightcomputer.php)\n",
    "\n",
    "### Content Server\n",
    "Blackboard is used as the learning management system (LMS) for this class, and it uses web links to a content server at [http://54.243.252.9/engr-1330-webroot/](http://54.243.252.9/engr-1330-webroot/)  The Blackboard links will generally go directly to a section in the webroot, as do the internal links in the schedule, but feel free to explore by going in the front door!"
   ]
  },
  {
   "cell_type": "markdown",
   "metadata": {},
   "source": [
    "# Course Schedule"
   ]
  },
  {
   "cell_type": "markdown",
   "metadata": {},
   "source": [
    "### Week 1 Introduction\n",
    "---\n",
    "(480 cumulative minutes) \n",
    "\n",
    "|date|lesson topics|links    |laboratory topics|\n",
    "|:---|:---|:----|:---|\n",
    "|24Aug21|Computational Thinking and Data Science <br> - Syllabus  <br> - Computational Thinking Principles <br> - Data Science Principles  |[Lesson 0](http://54.243.252.9/engr-1330-webroot/1-Lessons/Lesson00/ENGR-1330-Lesson00.html) <br> <br> [Lab 0](http://54.243.252.9/engr-1330-webroot/8-Labs/Lab00/Lab00.html) <br> [Lab 0-HW](http://54.243.252.9/engr-1330-webroot/8-Labs/Lab00/Lab00-TH.html)|Setting up computational environment <br> - Setting a browser exception  <br> - Anaconda (PC/Mac) <br> - Anaconda on AWS |\n",
    "|26Aug21|Problem Solving with Computational Thinking <br> - CT and programming as a problem solving process <br> - Attribution via CCMR |[Lesson 1](http://54.243.252.9/engr-1330-webroot/1-Lessons/Lesson01/ENGR-1330-Lesson01.html) <br> <br> [Lab 1](http://54.243.252.9/engr-1330-webroot/8-Labs/Lab01/Lab01.html)<br>  [Lab 1-HW](http://54.243.252.9/engr-1330-webroot/8-Labs/Lab01/Lab01-TH.html)|iPython/JupyterLab fundamentals <br> - Code cells <br> - Markdown cells <br> - Exporting to a pdf <br> - Resetting a notebook <br> - Troubleshoot hung kernel|"
   ]
  },
  {
   "cell_type": "markdown",
   "metadata": {},
   "source": [
    "### Week 2 Programming Fundamentals\n",
    "---\n",
    "(960 cumulative minutes)\n",
    "\n",
    "|date|lesson|links|laboratory|\n",
    "|:---|:---|:---|:---|\n",
    "|31Aug21|Fundamental Arithmetic <br> - Data Types <br> - Variables and Constants <br> - Simple Arithmetic |[Lesson 2](http://54.243.252.9/engr-1330-webroot/1-Lessons/Lesson02/ENGR-1330-Lesson02.html) <br> <br> [Lab 2](http://54.243.252.9/engr-1330-webroot/8-Labs/Lab02/Lab02.html) <br> [Lab 2-HW](http://54.243.252.9/engr-1330-webroot/8-Labs/Lab02/Lab02-TH.html)|iPython/JupyterLab arithmetic <br> - Variables, Naming <br> - Data Types <br> - Expressions <br> - Simple Input/Output|\n",
    "|2Sep21|Data Structures <br> - lists, arrays, tuples, sets, dictionaries           <br> - Names, position, index, contents <br> - position keys |[Lesson 3](http://54.243.252.9/engr-1330-webroot/1-Lessons/Lesson03/ENGR-1330-Lesson03.html)  <br> <br> [Lab 3](http://54.243.252.9/engr-1330-webroot/8-Labs/Lab03/Lab03.html) <br> [Lab 3-HW](http://54.243.252.9/engr-1330-webroot/8-Labs/Lab03/Lab03-TH.html)|iPython/JupyterLab lists <br> - Lists <br> - dictionaries <br> - using keys <br> - position indices|"
   ]
  },
  {
   "cell_type": "markdown",
   "metadata": {},
   "source": [
    "### Week 3 Programming Fundamentals\n",
    "---\n",
    "(1440 cumulative minutes)\n",
    "\n",
    "|date|lesson|links|laboratory|\n",
    "|:---|:---|:---|:---|\n",
    "|7Sep21|User interaction <br> - input() <br> - triple quotes <br> - string manipulation <br> - special characters|[Lesson 4](http://54.243.252.9/engr-1330-webroot/1-Lessons/Lesson04/ENGR-1330-Lesson04.html) <br> <br> [Lab 4](http://54.243.252.9/engr-1330-webroot/8-Labs/Lab04/Lab04.html) <br> [Lab 4-HW](http://54.243.252.9/engr-1330-webroot/8-Labs/Lab04/Lab04-TH.html)|iPython/JupyterLab I/O exercises <br> - input() <br> - type casting <br> - output formats <br> - concatenation to build output strings|\n",
    "|9Sep21|Flow Control Structures <br> - Sequence <br> - Selection <br> - Repetition <br> - Loop structures <br> - Flowcharts; Psuedocode|[Lesson 5](http://54.243.252.9/engr-1330-webroot/1-Lessons/Lesson05/ENGR-1330-Lesson05.html) <br> <br> [Lab 5](http://54.243.252.9/engr-1330-webroot/8-Labs/Lab05/Lab05.html)<br> [Lab 5-HW](http://54.243.252.9/engr-1330-webroot/8-Labs/Lab05/Lab05-TH.html)|iPython/JupyterLab Sequence, Selection, and Loops <br> - FOR loops <br> - **range()** function <br> - WHILE loops <br> - Error trapping **try ... except** structure|"
   ]
  },
  {
   "cell_type": "markdown",
   "metadata": {},
   "source": [
    "### Week 4 Programming Fundamentals\n",
    "---\n",
    "(1920 cumulative minutes)\n",
    "\n",
    "|date|lesson|links|laboratory|\n",
    "|:---|:---|:---|:---|\n",
    "|14Sep21|Functions <br> - Intrinsic (core) <br> - Common external  <br> - User written <br> - Saving user written as a module|[Lesson 6](http://54.243.252.9/engr-1330-webroot/1-Lessons/Lesson06/ENGR-1330-Lesson06.html) <br> <br> [Lab 6](http://54.243.252.9/engr-1330-webroot/8-Labs/Lab06/Lab06.html) <br> [Lab 6-HW](http://54.243.252.9/engr-1330-webroot/8-Labs/Lab06/Lab06-TH.html)|iPython/JupyterLab Functions <br> - import packages <br> - aliasing <br> - user defined <br> - save as a file for later import|\n",
    "|16Sep21|Data Files <br> - open/read/close  <br> - open/write/close <br> - create/append/delete  |[Lesson 7](http://54.243.252.9/engr-1330-webroot/1-Lessons/Lesson07/ENGR-1330-Lesson07.html) <br> <br> [Lab 7](http://54.243.252.9/engr-1330-webroot/8-Labs/Lab07/Lab07.html) <br> [Lab 7-HW](http://54.243.252.9/engr-1330-webroot/8-Labs/Lab07/Lab07-TH.html)|iPython/JupyterLab file manipulation <br> - open/close/create/delete <br> - reading into lists <br> - writing output|"
   ]
  },
  {
   "cell_type": "markdown",
   "metadata": {},
   "source": [
    "### Week 5 Matrices\n",
    "---\n",
    "(2400 cumulative minutes)\n",
    "\n",
    "|date|lesson|links|laboratory|\n",
    "|:---|:---|:---|:---|\n",
    "|21Sep21|Vectors and Matrices (as lists) <br> - Vector/Matrix Addition/Multipication(Inner Product) <br> - Matrix Inversion (Concept of multiplicative inverse) <br> - Solving Linear Systems of Equations <br> - Gaussian Reduction without Pivoting  |[Lesson 8](http://54.243.252.9/engr-1330-webroot/1-Lessons/Lesson08/ENGR-1330-Lesson08.html) <br> <br> [Lab 8](http://54.243.252.9/engr-1330-webroot/8-Labs/Lab08/Lab08.html) <br> [Lab 8-HW](http://54.243.252.9/engr-1330-webroot/8-Labs/Lab08/Lab08-TH.html)|iPython/JupyterLab file manipulation <br> - open/close/create/delete <br> - reading into lists <br> - writing output|\n",
    "|23Sep21|<font color=red>**Exam 1** <br> - In class 25 multiple choice questions <br> - Take-home problems (48 hours to complete) <br> - Both supplied on Blackboard available 48 hour access window</font>|none|none|\n",
    "\n"
   ]
  },
  {
   "cell_type": "markdown",
   "metadata": {},
   "source": [
    "### Week 6 Matrices using NUMPY\n",
    "---\n",
    "(2880 cumulative minutes)\n",
    "\n",
    "|date|lesson|links|laboratory|\n",
    "|:---|:---|:---|:---|\n",
    "|28Sep21|Matrices using NUMPY<br> - Vector/Matrix Addition/Multipication(Inner Product) <br> - Matrix Inversion (Concept of multiplicative inverse) <br> - Solving Linear Systems of Equations |[Lesson 9](http://54.243.252.9/engr-1330-webroot/1-Lessons/Lesson09/ENGR-1330-Lesson09.html) <br> <br> [Lab 9](http://54.243.252.9/engr-1330-webroot/8-Labs/Lab09/Lab09.html) <br> [Lab 9-HW](http://54.243.252.9/engr-1330-webroot/8-Labs/Lab09/Lab09-TH.html)|iPython/JupyterLab file manipulation <br> - open/close/create/delete <br> - reading into lists <br> - writing output|\n",
    "|30Sep21|Database Concepts <br> - Records <br> - Fields <br> - Relational model <br> - Unique record identifier/Primary Key|[Lesson 10](http://54.243.252.9/engr-1330-webroot/1-Lessons/Lesson10/ENGR-1330-Lesson10.html) <br> <br> [Lab 10](http://54.243.252.9/engr-1330-webroot/8-Labs/Lab10/Lab01.html)<br>  [Lab 10-HW](http://54.243.252.9/engr-1330-webroot/8-Labs/Lab10/Lab10-TH.html)|Flat-File Database <br> - Searching a list <br> - Sorting a list (without sort method)|"
   ]
  },
  {
   "cell_type": "markdown",
   "metadata": {},
   "source": [
    "### Week 7 Databases using PANDAS\n",
    "---\n",
    "(3660 cumulative minutes)\n",
    "\n",
    "|date|lesson|links|laboratory|\n",
    "|:---|:---|:---|:---|\n",
    "|5Oct21|Databases using PANDAS <br> - Create tables <br> – Examine/extract contents <br> - Functions on elements |[Lesson 11](http://54.243.252.9/engr-1330-webroot/1-Lessons/Lesson10/ENGR-1330-Lesson11.html) <br> <br> [Lab 11](http://54.243.252.9/engr-1330-webroot/8-Labs/Lab11/Lab11.html)<br>  [Lab 11-HW](http://54.243.252.9/engr-1330-webroot/8-Labs/Lab11/Lab11-TH.html)|PANDAS Data frames: <br> - Create, index, summarize statistics <br> - fill and drop values <br> - read/write to file|\n",
    "|7Oct21|Plotting <br> - Plot types <br> - Plot uses <br> - Graphing conventions |[Lesson 12](http://54.243.252.9/engr-1330-webroot/1-Lessons/Lesson10/ENGR-1330-Lesson12.html) <br> <br> [Lab 12](http://54.243.252.9/engr-1330-webroot/8-Labs/Lab12/Lab12.html)<br>  [Lab 12-HW](http://54.243.252.9/engr-1330-webroot/8-Labs/Lab12/Lab12-TH.html)| Plotting Exercises <br> - Graphing Conventions <br> - Intreperting Graphs|"
   ]
  },
  {
   "cell_type": "markdown",
   "metadata": {},
   "source": [
    "### Week 8 Visual Display of Data using MATPLOTLIB\n",
    "---\n",
    "(3840 cumulative minutes)\n",
    "\n",
    "|date|lesson|links|laboratory|\n",
    "|:---|:---|:---|:---|\n",
    "|12Oct21|MATPLOTLIB package <br> - line plots <br> - scattergrams <br> - decorators |[Lesson 13](http://54.243.252.9/engr-1330-webroot/1-Lessons/Lesson10/ENGR-1330-Lesson10.html) <br> <br> [Lab 13](http://54.243.252.9/engr-1330-webroot/8-Labs/Lab10/Lab13.html)<br>  [Lab 13-HW](http://54.243.252.9/engr-1330-webroot/8-Labs/Lab10/Lab13-TH.html)|MATPLOTLIB Exercises <br> - Graphing Conventions <br> - Data Display for line charts, bar charts,<br> - box plot, scatter plot, and histograms|\n",
    "|14Oct21|Correlation,Causality, Randomness, and Probability <br> - Correlation compared to cause-effect <br> - Probability rules <br> - Conditional probabilities |[Lesson 14](http://54.243.252.9/engr-1330-webroot/1-Lessons/Lesson10/ENGR-1330-Lesson12.html) <br> <br> [Lab 14](http://54.243.252.9/engr-1330-webroot/8-Labs/Lab12/Lab12.html)<br>  [Lab 14-HW](http://54.243.252.9/engr-1330-webroot/8-Labs/Lab12/Lab12-TH.html)|Classical Gambling Simulations <br> - Dice <br> - Russian Roulette <br> - Monte Hall Simulation|\n",
    "\n",
    "\n"
   ]
  },
  {
   "cell_type": "markdown",
   "metadata": {},
   "source": [
    "### Week 9 Data Description \n",
    "---\n",
    "(4320 cumulative minutes)\n",
    "\n",
    "|date|lesson|links|laboratory|\n",
    "|:---|:---|:---|:---|\n",
    "|19Oct21|Descriptive Statistics <br> - Mean, median, mode (measures of central tendency) <br> - Variance, Standard deviation (measures of dispersion) <br> - Skew (measures of symmetry) <br> - Higher moments (pointyness ...) |[Lesson 15](http://54.243.252.9/engr-1330-webroot/1-Lessons/Lesson10/ENGR-1330-Lesson12.html) <br> <br> [Lab 15](http://54.243.252.9/engr-1330-webroot/8-Labs/Lab12/Lab12.html)<br>  [Lab 15-HW](http://54.243.252.9/engr-1330-webroot/8-Labs/Lab12/Lab12-TH.html)|iPython Descriptive Statistics <br> - Using SCIPY.STATS <br> - Using PANDAS <br> - Visualizing Results|\n",
    "|21Oct21|<font color=red>**Exam 2** <br> - In class 25 multiple choice questions <br> - Take-home problems (48 hours to complete) <br> - Both supplied on Blackboard available 48 hour access window</font>|none|none|"
   ]
  },
  {
   "cell_type": "markdown",
   "metadata": {},
   "source": [
    "### Week 10 Data Models and Decisions\n",
    "---\n",
    "(4800 cumulative minutes)\n",
    "\n",
    "|date|lesson|links|laboratory|\n",
    "|:---|:---|:---|:---|\n",
    "|26Oct21|Functions as Data Models <br> - A line <br> - Polynomials <br> - Normal Distribution Function <br> - Gamma Distribution Function <br> - Extreme Value Distribution Function |[Lesson 16](http://54.243.252.9/engr-1330-webroot/1-Lessons/Lesson10/ENGR-1330-Lesson12.html) <br> <br> [Lab 16](http://54.243.252.9/engr-1330-webroot/8-Labs/Lab12/Lab12.html)<br>  [Lab 16-HW](http://54.243.252.9/engr-1330-webroot/8-Labs/Lab12/Lab12-TH.html)|Functions and Observations on same plots <br> - Visual interpretation of results <br> - Judging the model | \n",
    "|28Oct21|Hypothesis Testing <br> - Comparing two (or more) collections of observations <br> - A/B Testing <br> - Parametric and Non-Parametric Tests|[Lesson 17](http://54.243.252.9/engr-1330-webroot/1-Lessons/Lesson10/ENGR-1330-Lesson12.html) <br> <br> [Lab 17](http://54.243.252.9/engr-1330-webroot/8-Labs/Lab12/Lab12.html)<br>  [Lab 17-HW](http://54.243.252.9/engr-1330-webroot/8-Labs/Lab12/Lab12-TH.html)|Hypothesis testing exercises <br> - Comparing proportions <br> - Type1 & Type2 errors <br> - Attained significance (p-value)|"
   ]
  },
  {
   "cell_type": "markdown",
   "metadata": {},
   "source": [
    "### Week 11 Prediction Engines\n",
    "---\n",
    "(5280 cumulative minutes)\n",
    "\n",
    "|date|lesson|links|laboratory|\n",
    "|:---|:---|:---|:---|\n",
    "|2Nov21|Interval Estimates <br> - Bootstrap <br> - Prediction intervals <br> - Parameter intervals|[Lesson 18](http://54.243.252.9/engr-1330-webroot/1-Lessons/Lesson10/ENGR-1330-Lesson12.html) <br> <br> [Lab 18](http://54.243.252.9/engr-1330-webroot/8-Labs/Lab12/Lab12.html)<br>  [Lab 18-HW](http://54.243.252.9/engr-1330-webroot/8-Labs/Lab12/Lab12-TH.html)|Interval Estimates Exercises <br> - Confidence interval concept <br> - Bootstrap simulations|\n",
    "|4Nov21|Data Models as Prediction Engines <br> - Data model as a prediction engine <br> - Assessing model quality by plotting <br> - Extrapolation |[Lesson 19](http://54.243.252.9/engr-1330-webroot/1-Lessons/Lesson10/ENGR-1330-Lesson12.html) <br> <br> [Lab 19](http://54.243.252.9/engr-1330-webroot/8-Labs/Lab12/Lab12.html)<br>  [Lab 19-HW](http://54.243.252.9/engr-1330-webroot/8-Labs/Lab12/Lab12-TH.html)|Predictions from Data <br> - Lagrange Polynomial Interpolation <br> - Arbitary functions|"
   ]
  },
  {
   "cell_type": "markdown",
   "metadata": {},
   "source": [
    "### Week 12 Prediction Engines\n",
    "---\n",
    "(5760 cumulative minutes)\n",
    "\n",
    "|date|lesson|links|laboratory|\n",
    "|:---|:---|:---|:---|\n",
    "|9Nov21|Regression Models <br> - Linear regression <br> - Ordinary Least Squares  <br> - Prediction interval estimates <br> - Design matrix|[Lesson 20](http://54.243.252.9/engr-1330-webroot/1-Lessons/Lesson10/ENGR-1330-Lesson12.html) <br> <br> [Lab 20](http://54.243.252.9/engr-1330-webroot/8-Labs/Lab12/Lab12.html)<br>  [Lab 20-HW](http://54.243.252.9/engr-1330-webroot/8-Labs/Lab12/Lab12-TH.html)|Applications of OLS <br>- linear <br> - polynomial <br> - exponential <br> - logarithmic|\n",
    "|11Nov21|Probability Estimation Modeling <br> – Order statistics (plotting positions)  <br> - Histograms <br> - Visual assessment of Fit| [Lesson 21](http://54.243.252.9/engr-1330-webroot/1-Lessons/Lesson10/ENGR-1330-Lesson12.html) <br> <br> [Lab 21](http://54.243.252.9/engr-1330-webroot/8-Labs/Lab12/Lab12.html)<br>  [Lab 21-HW](http://54.243.252.9/engr-1330-webroot/8-Labs/Lab12/Lab12-TH.html)|Applications <br> - Precipation  <br> - Discharge <br> - Income |"
   ]
  },
  {
   "cell_type": "markdown",
   "metadata": {},
   "source": [
    "### Week 13 Classification Engines\n",
    "---\n",
    "(6240 cumulative minutes)\n",
    "\n",
    "|date|lesson|links|laboratory|\n",
    "|:---|:---|:---|:---|\n",
    "|16Nov21|Classification <br> - Classification vs Prediction <br> - Logistic Regression |[Lesson 22](http://54.243.252.9/engr-1330-webroot/1-Lessons/Lesson10/ENGR-1330-Lesson12.html) <br> <br> [Lab 22](http://54.243.252.9/engr-1330-webroot/8-Labs/Lab12/Lab12.html)<br>  [Lab 22-HW](http://54.243.252.9/engr-1330-webroot/8-Labs/Lab12/Lab12-TH.html)|Logistic Regression Applications <br> - Odor in a Bayou <br> - Solids in Construction Site Runoff <br>|\n",
    "|18Nov21|<font color=red>**Exam 3** <br> - In class 25 multiple choice questions <br> - Take-home problems (48 hours to complete) <br> - Both supplied on Blackboard available 48 hour access window</font>|none|none|"
   ]
  },
  {
   "cell_type": "markdown",
   "metadata": {},
   "source": [
    "### Week 14/15 Classification and Wrap-Up\n",
    "---\n",
    "(6720 cumulative minutes)\n",
    "\n",
    "|date|lesson|links|laboratory|\n",
    "|:---|:---|:---|:---|\n",
    "|23Nov21|K Nearest Neighbor Classification <br> - Concept of distance <br> - Training (a model fitting analog)<br> - Confusion matrix, precision, recall, accuracy, F-score<br> - Making decisions |[Lesson 23](http://54.243.252.9/engr-1330-webroot/1-Lessons/Lesson10/ENGR-1330-Lesson12.html) <br> <br> [Lab 23](http://54.243.252.9/engr-1330-webroot/8-Labs/Lab12/Lab12.html)<br>  [Lab 23-HW](http://54.243.252.9/engr-1330-webroot/8-Labs/Lab12/Lab12-TH.html)| semester project workshop|\n",
    "|30Nov21|Project Presentations <br> - 5 minute per team <br> - Present as a progress report||semester project workshop|\n",
    "\n",
    "<font color=red>**Project Report Due 6 Dec 2021**</font>"
   ]
  },
  {
   "cell_type": "markdown",
   "metadata": {},
   "source": [
    "---\n",
    "## Course Assessment and Grading Criteria:\n",
    "There will be three exams and one comprehensive final project for this course.  \n",
    "\n",
    "In addition, lab notebooks, quizzes, and homework assignments also contribute to the final grade.  \n",
    "<strong>Late</strong> assignments will not be scored.  \n",
    "\n",
    "Grades will be based on the following components; weighting is approximate:\n",
    "\n",
    "|Assessment Instrument|Weight(%)|\n",
    "|---|---:|\n",
    "|Exam-1|15|\n",
    "|Exam-2|15|\n",
    "|Exam-3|15|\n",
    "|Lab Notebooks & Homework|30|\n",
    "|Quizzes|15|\n",
    "|Final project|10|\n",
    "|Overall total|100|\n",
    "\n",
    "Letter grades will be assigned using the following proportions:\n",
    "\n",
    "|Normalized Score Range|Letter Grade|\n",
    "|:-|---:|\n",
    "|≥ 90|A|\n",
    "|80-89|B|\n",
    "|70-79|C|\n",
    "|55-69|D|\n",
    "|< 55|F|\n",
    "\n",
    "\n"
   ]
  },
  {
   "cell_type": "markdown",
   "metadata": {},
   "source": [
    "## Classroom Policy:\n",
    "The following activities are not allowed in the classroom: Texting or talking on the cellphone or other electronic devices, and reading non-course related materials.\n",
    "### Telepresence (On-line) Laboratory/Courses\n",
    "Obviously electronic devices are vital; disrupting the conference is prohibited, please mute your microphone unless you have a question - consider typing your question into the chat window as well. Be aware of bandwidth issues and remember most lessons and laboratory sessions are recorded and posted on youtube.  Recording, editing, and rendering takes awhile, so expect 24-36 hour delay before video is available. Sometimes video capture fails and there will be missing audio and/or missing video."
   ]
  },
  {
   "cell_type": "markdown",
   "metadata": {},
   "source": [
    "---\n",
    "## ADA Statement: \n",
    "Any student who, because of a disability, may require special arrangements in order to meet the course requirements should contact the instructor as soon as possible to make necessary arrangements.  Students must present appropriate verification from Student Disability Services during the instructor's office hours.  Please note that instructors are not allowed to provide classroom accommodation to a student until appropriate verification from Student Disability Services has been provided.  For additional information, please contact Student Disability Services \n",
    "office in 335 West Hall or call 806.742.2405.\n",
    "\n",
    "## Academic Integrity Statement:\n",
    "Academic integrity is taking responsibility for one’s own class and/or course work, being individually accountable, and demonstrating intellectual honesty and ethical behavior.  Academic integrity is a personal choice to abide by the standards of intellectual honesty and responsibility.  Because education is a shared effort to achieve learning through the exchange of ideas, students, faculty, and staff have the collective responsibility to build mutual trust and respect.  Ethical behavior and independent thought are essential for the highest level of academic achievement, which then must be measured.  Academic achievement includes scholarship, teaching, and learning, all of which are shared endeavors.  Grades are a device used to quantify the successful accumulation of knowledge through learning.  Adhering to the standards of academic integrity ensures grades are earned honestly.  Academic integrity is the foundation upon which students, faculty, and staff build their educational and professional careers.  [Texas Tech University (“University”) Quality Enhancement Plan, Academic Integrity Task Force, 2010].\n",
    "\n",
    "## Religious Holy Day Statement: \n",
    "“Religious holy day” means a holy day observed by a religion whose places of worship are exempt from property taxation under Texas Tax Code §11.20.  A student who intends to observe a religious holy day should make that intention known to the instructor prior to the absence.  A student who is absent from classes for the observance of a religious holy day shall be allowed to take an examination or complete an assignment scheduled for that day within a reasonable time after the absence.  A student who is excused may not be penalized for the absence; however, the instructor may respond appropriately if the student fails to complete the assignment satisfactorily.\n",
    "\n",
    "---\n",
    "\n",
    "**DISCRIMINATION, HARASSMENT, AND SEXUAL VIOLENCE STATEMENT:**\n",
    "Texas Tech University is committed to providing and strengthening an educational, working, and living environment where students, faculty, staff, and visitors are free from gender and/or sex discrimination of any kind. Sexual assault, discrimination, harassment, and other Title IX violations are not tolerated by the University. Report any incidents to the Office for Student Rights & Resolution, (806)-742-SAFE (7233) or file a report online at titleix.ttu.edu/students. Faculty and staff members at TTU are committed to connecting you to resources on campus. Some of these available resources are: TTU Student Counseling Center, 806- 742-3674, https://www.depts.ttu.edu/scc/(Provides confidential support on campus.) TTU 24-hour Crisis Helpline, 806-742-5555, (Assists students who are experiencing a mental health or interpersonal violence crisis. If you call the helpline, you will speak with a mental health counselor.) Voice of Hope Lubbock Rape Crisis Center, 806-763-7273, voiceofhopelubbock.org (24-hour hotline that provides support for survivors of sexual violence.) The Risk, Intervention, Safety and Education (RISE) Office, 806-742-2110,  https://www.depts.ttu.edu/rise/ (Provides a range of resources and support options focused on prevention education and student wellness.) Texas Tech Police Department, 806-742- 3931,http://www.depts.ttu.edu/ttpd/ (To report criminal activity that occurs on or near Texas Tech campus.)\n",
    "\n",
    "**CIVILITY IN THE CLASSROOM STATEMENT:**\n",
    "Texas Tech University is a community of faculty, students, and staff that enjoys an expectation of cooperation, professionalism, and civility during the conduct of all forms of university business, including the conduct of student–student and student–faculty interactions in and out of the classroom. Further, the classroom is a setting in which an exchange of ideas and creative thinking should be encouraged and where intellectual growth and development are fostered. Students who disrupt this classroom mission by rude, sarcastic, threatening, abusive or obscene language and/or behavior will be subject to appropriate sanctions according to university policy. Likewise, faculty members are expected to maintain the highest standards of professionalism in all interactions with all constituents of the university.\n",
    "To ensure that you are fully engaged in class discussions and account team meetings during class time, you are expected to do the following:\n",
    "- Maintain the same level of civility and professionalism that would be expected in a face-to-face classroom setting.\n",
    "- Attend all classes regularly.\n",
    "- Log into the video conference on time and remain logged in for the duration of the class period.\n",
    "- Activate your camera so that you are visible to the instructor and other students in the class. If you have concerns about leaving your camera on (such as childcare obligations, privacy issues, or a particular circumstance during a class period), please talk to the instructor.\n",
    "- Refrain from engaging in non-class related activities during class time that create a distraction for other students in the class and/or limit your ability to engage in the course.\n",
    "Failure to meet these expectations may result in the following consequences:\n",
    "1. Being counted as absent for the class meeting.\n",
    "2. Not receiving credit for class participation for that class period.\n",
    "3. Other consequences as stipulated in the syllabus, Texas Tech Code of Student Conduct, or other university policy.\n",
    "Repeated failure to meet expectations (e.g., attendance, participation in class, etc.), in addition to the above consequences, may result in the one or more of the following consequences:\n",
    "1. Referral to the appropriate Associate Dean.\n",
    "2. Academic penalty, ranging from a warning to failure of the course.\n",
    "(www.depts.ttu.edu/ethics/matadorchallenge/ethicalprinciples.php).\n",
    "\n",
    "**LGBTQIA SUPPORT STATEMENT:**\n",
    "I identify as an ally to the lesbian, gay, bisexual, transgender, queer, intersex, and asexual (LGBTQIA) community, and I am available to listen and support you in an affirming manner. I can assist in connecting you with resources on campus to address problems you may face pertaining to sexual orientation and/or gender identity that could interfere with your success at Texas Tech. Please note that additional resources are available through the Office of LGBTQIA within the Center for Campus Life, Student Union Building Room 201, www.lgbtqia.ttu.edu, 806.742.5433.”\n",
    "\n",
    "Office of LGBTQIA, Student Union Building Room 201, www.lgbtqia.ttu.edu, 806.742.5433\n",
    "Within the Center for Campus Life, the Office serves the Texas Tech community through facilitation and leadership of programming and advocacy efforts. This work is aimed at strengthening the lesbian, gay, bisexual, transgender, queer, intersex, and asexual (LGBTQIA) community and sustaining an inclusive campus that welcomes people of all sexual orientations, gender identities, and gender expressions.\n"
   ]
  },
  {
   "cell_type": "markdown",
   "metadata": {},
   "source": [
    "## Ethical Conduct Addendum:\n",
    "Cheating is prohibited, and the representation of the work of another person as your own will be reported to Office of Student Services for further investigation and sanctions as appropriate. "
   ]
  },
  {
   "cell_type": "code",
   "execution_count": null,
   "metadata": {},
   "outputs": [],
   "source": []
  }
 ],
 "metadata": {
  "kernelspec": {
   "display_name": "Python 3",
   "language": "python",
   "name": "python3"
  },
  "language_info": {
   "codemirror_mode": {
    "name": "ipython",
    "version": 3
   },
   "file_extension": ".py",
   "mimetype": "text/x-python",
   "name": "python",
   "nbconvert_exporter": "python",
   "pygments_lexer": "ipython3",
   "version": "3.8.10"
  }
 },
 "nbformat": 4,
 "nbformat_minor": 4
}
