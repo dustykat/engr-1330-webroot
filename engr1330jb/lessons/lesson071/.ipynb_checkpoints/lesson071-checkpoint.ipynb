{
 "cells": [
  {
   "cell_type": "markdown",
   "metadata": {},
   "source": [
    "<div class=\"alert alert-block alert-info\">\n",
    "    <b><h1>ENGR 1330 Computational Thinking with Data Science </h1></b> \n",
    "</div> \n",
    "\n",
    "Copyright © 2021 Theodore G. Cleveland and Farhang Forghanparast\n",
    "\n",
    "Last GitHub Commit Date: \n",
    "    \n",
    "# 7.1: Files (Continued)\n",
    "- Download files from a remote server\n",
    "\n"
   ]
  },
  {
   "cell_type": "code",
   "execution_count": null,
   "metadata": {},
   "outputs": [],
   "source": []
  },
  {
   "cell_type": "markdown",
   "metadata": {},
   "source": [
    "---\n",
    "## Objectives\n",
    "1. Apply packages to directly obtain a file from a remote server\n"
   ]
  },
  {
   "cell_type": "markdown",
   "metadata": {},
   "source": [
    "---\n",
    "\n",
    "### Downloading files from websites \n",
    "\n",
    "This section shows how to get files from a remote computer.  In the previous example, we can avoid the tedious select-right-click-save target .... step.   There are several ways to get files here we examine just one.  \n",
    "\n",
    "The most important part is you need the FQDN (URL) to the file."
   ]
  },
  {
   "cell_type": "markdown",
   "metadata": {},
   "source": [
    "---\n",
    "\n",
    "### A Method to get the actual file from a remote web server (unencrypted)\n",
    "\n",
    "> - You know the FQDN to the file it will be in structure of \"http://server-name/.../filename.ext\"\n",
    "> - The server is running ordinary (unencrypted) web services, i.e. `http://...`\n",
    "\n",
    "We will need a module to interface with the remote server. Here we will use ``requests`` , so first we load the module\n",
    "\n",
    "> You may need to install the module into your anaconda environment using the anaconda power shell, on my computer the commands are:\n",
    "> - **sudo -H /opt/jupyterhub/bin/python3 -m pip install requests** \n",
    ">\n",
    "> Or:\n",
    "> - **sudo -H /opt/conda/envs/python/bin/python -m pip install requests**\n",
    ">\n",
    "> You will have to do some reading, but with any luck something similar will work for you. \n",
    "\n",
    "The example below will get a copy of a file named `all_quads_gross_evaporation.csv` that is stored on the class server, the FQDN/URL is http://54.243.252.9/engr-1330-webroot/4-Databases/all_quads_gross_evaporation.csv.  Here we can observe that the website is unencrypted `http` instead of `https`.  If we visit the URL we can confirm that the file exists (or get a 404 error, if there is no file)."
   ]
  },
  {
   "cell_type": "markdown",
   "metadata": {},
   "source": [
    "First we will import the requests module."
   ]
  },
  {
   "cell_type": "code",
   "execution_count": 13,
   "metadata": {},
   "outputs": [],
   "source": [
    "import requests # Module to process http/https requests"
   ]
  },
  {
   "cell_type": "markdown",
   "metadata": {},
   "source": [
    "Assuming the requests module loads, lets next clear any existing local (to our machine) copies of the file, in this example, we already have the name, so will just send a system command to delete the file.  This step is mostly for the classroom demonstration - the script will happily clobber existing files.\n",
    "\n",
    "> The system command below may be different on windoze!  What's here works on MacOS and Linux."
   ]
  },
  {
   "cell_type": "code",
   "execution_count": 14,
   "metadata": {},
   "outputs": [],
   "source": [
    "import sys # Module to process commands to/from the OS using a shell-type syntax\n",
    "! rm -rf all_quads_gross_evaporation.csv # delete file if it exists"
   ]
  },
  {
   "cell_type": "markdown",
   "metadata": {},
   "source": [
    "Now we will generate a ``GET`` request to the remote http server.  I chose to do so using a variable to store the remote URL so I can reuse code in future projects.  The ``GET`` request (an http/https method) is generated with the requests method ``get`` and assigned to an object named ``rget`` -- the name is arbitrary.  Next we extract the file from the ``rget`` object and write it to a local file with the name of the remote file - esentially automating the download process. "
   ]
  },
  {
   "cell_type": "code",
   "execution_count": 15,
   "metadata": {},
   "outputs": [],
   "source": [
    "remote_url=\"http://54.243.252.9/engr-1330-webroot/4-Databases/all_quads_gross_evaporation.csv\"  # set the url\n",
    "rget = requests.get(remote_url, allow_redirects=True)  # get the remote resource, follow imbedded links\n",
    "localfile = open('all_quads_gross_evaporation.csv','wb') # open connection to a local file same name as remote\n",
    "localfile.write(rget.content) # extract from the remote the contents,insert into the local file same name\n",
    "localfile.close() # close connection to the local file"
   ]
  },
  {
   "cell_type": "code",
   "execution_count": 16,
   "metadata": {},
   "outputs": [
    {
     "name": "stdout",
     "output_type": "stream",
     "text": [
      "<class '_io.BufferedWriter'>\n"
     ]
    }
   ],
   "source": [
    "print(type(localfile)) # verify object is an I/O object"
   ]
  },
  {
   "cell_type": "code",
   "execution_count": 17,
   "metadata": {},
   "outputs": [
    {
     "name": "stdout",
     "output_type": "stream",
     "text": [
      "/home/sensei/engr-1330-webroot/engr1330jb/lessons/lesson071\n",
      "total 692K\n",
      "drwxrwxr-x  3 sensei sensei 4.0K Feb 11 13:16 .\n",
      "drwxrwxr-x 25 sensei sensei 4.0K Feb 11 12:57 ..\n",
      "drwxrwxr-x  2 sensei sensei 4.0K Feb 11 13:03 .ipynb_checkpoints\n",
      "-rw-rw-r--  1 sensei sensei  120 Feb 11 13:07 A.txt\n",
      "-rw-rw-r--  1 sensei sensei 355K Feb 11 13:16 all_quads_gross_evaporation.csv\n",
      "-rw-rw-r--  1 sensei sensei 300K Feb 11 13:13 lesson071.html\n",
      "-rw-rw-r--  1 sensei sensei  20K Feb 11 13:16 lesson071.ipynb\n"
     ]
    }
   ],
   "source": [
    "# verify file exists\n",
    "! pwd # list absolute path to script directory\n",
    "! ls -lah # list directory contents, owner, file sizes ..."
   ]
  },
  {
   "cell_type": "markdown",
   "metadata": {},
   "source": [
    "Now we can list the file contents and check its structure, before proceeding."
   ]
  },
  {
   "cell_type": "code",
   "execution_count": 18,
   "metadata": {},
   "outputs": [
    {
     "name": "stdout",
     "output_type": "stream",
     "text": [
      "2019-12,2.18,3.11,3.23,3.23,3.23,2.18,3.01,3.14,3.23,3.16,2.17,3.03,3.47,3.75,2.83,2.1,1.58,3.58,4.1,4.21,2.73,2.12,1.89,1.97,2.13,1.85,1.3,2.57,3.8,4.06,3.53,1.37,2.06,2.21,1.53,2.27,1.86,1.7,1.95,2.64,3.21,3.29,3.79,3.86,3.57,3.24,1.74,1.69,3.7,2.84,2.34,1.89,2.03,3.24,3.33,3.28,3.42,3.51,3.38,3,1.8,1.65,2.3,2.5,2.14,1.85,3.28,3.28,3.33,3.24,2.8,2.66,2.06,2.06,2.04,1.71,2.09,1.98,2.72,2.58,2.65,2.35,2.39,2.31,2.71,3.03,3.05,2.47,2.98,3.06,3.06,3.0633,7.35,7.35,7.35.57,6.94,6.948.48,9.28,9.140.832.93,2.96,2.89,2.91,2.91,2.92,3.46,3.5"
     ]
    }
   ],
   "source": [
    "! cat all_quads_gross_evaporation.csv"
   ]
  },
  {
   "cell_type": "markdown",
   "metadata": {},
   "source": [
    "Structure kind of looks like a spreadsheet as expected; notice the unsuual character `^M`; this unprintable character is the *carriage return+line feed* control character for MS DOS (Windows) architecture.  The script below will actually strip and linefeed correctly, but sometimes all that is needed is to make a quick conversion using the system shell.\n",
    "\n",
    ":::{note}\n",
    "> Here are some simple system commands (on a Linux or MacOS) to handle the conversion for ASCII files\n",
    "> - `sed -e 's/$/\\r/' inputfile > outputfile`                # UNIX to DOS  (adding CRs)\n",
    "> - `sed -e 's/\\r$//' inputfile > outputfile`                # DOS  to UNIX (removing CRs)\n",
    "> - `perl -pe 's/\\r\\n|\\n|\\r/\\r\\n/g' inputfile > outputfile`  # Convert to DOS\n",
    "> - `perl -pe 's/\\r\\n|\\n|\\r/\\n/g'   inputfile > outputfile`  # Convert to UNIX\n",
    "> - `perl -pe 's/\\r\\n|\\n|\\r/\\r/g'   inputfile > outputfile`  # Convert to old Mac\n",
    "\n",
    "** Links to URLs with explaination in future revision **\n",
    ":::\n",
    "\n",
    "Now lets actually read the file into a list for some processing.  We will read it into a null list, and split on the commas (so we will be building a matrix of strings). Then we will print the first few rows and columns."
   ]
  },
  {
   "cell_type": "code",
   "execution_count": 19,
   "metadata": {},
   "outputs": [
    {
     "name": "stdout",
     "output_type": "stream",
     "text": [
      "['YYYY-MM', '104', '105', '106', '107', '108', '204', '205', '206', '207']\n",
      "['1954-01', '1.8', '1.8', '2.02', '2.24', '2.24', '2.34', '1.89', '1.8', '1.99']\n",
      "['1954-02', '4.27', '4.27', '4.13', '3.98', '3.9', '4.18', '4.26', '4.27', '4.26']\n",
      "['1954-03', '4.98', '4.98', '4.62', '4.25', '4.2', '5.01', '4.98', '4.98', '4.68']\n",
      "['1954-04', '6.09', '5.94', '5.94', '6.07', '5.27', '6.31', '5.98', '5.89', '5.72']\n",
      "['1954-05', '5.41', '5.09', '5.14', '4.4', '3.61', '5.57', '4.56', '4.47', '4.18']\n",
      "['1954-06', '9.56', '11.75', '12.1', '9.77', '8.06', '9.47', '8.42', '8.66', '8.78']\n",
      "['1954-07', '8.65', '11.12', '11.33', '11.12', '10.09', '9.44', '9.32', '9.42', '10.14']\n",
      "['1954-08', '5.81', '7.68', '9.97', '11.34', '9.76', '7.15', '8.56', '8.59', '9.43']\n",
      "['1954-09', '7.42', '10.41', '10.64', '8.68', '7.67', '7.39', '8.31', '8.65', '8.42']\n"
     ]
    }
   ],
   "source": [
    "# now lets process the file\n",
    "localfile = open('all_quads_gross_evaporation.csv','r') # open a connection for reading\n",
    "aList = [] # null list to store read\n",
    "rowNumA = 0 # counter to keep track of rows, \n",
    "for line in localfile:\n",
    "    #aList.append([str(n) for n in line.strip().split()])\n",
    "    aList.append([str(n) for n in line.strip().split(\",\")]) # process each line, strip whitespace, split on \",\"\n",
    "    rowNumA += 1 # increment the counter\n",
    "localfile.close() #close the connection - amatrix contains the file contents\n",
    "# print((aList[0])) # print 1st row\n",
    "for irow in range(0,10):\n",
    "    print([aList[irow][jcol] for jcol in range(0,10)])  # implied loop constructor syntax"
   ]
  },
  {
   "cell_type": "markdown",
   "metadata": {},
   "source": [
    "Now suppose we are interested in column with the label 910, we need to find the position of the column, and lets just print the dates (column 0) and the evaporation values for cell 910 (column unknown).\n",
    "\n",
    "We know the first row contains the column headings, so we can use a while loop to find the position like:"
   ]
  },
  {
   "cell_type": "code",
   "execution_count": 20,
   "metadata": {},
   "outputs": [
    {
     "name": "stdout",
     "output_type": "stream",
     "text": [
      "YYYY-MM 910\n",
      "1954-01 1.91\n",
      "1954-02 3.53\n",
      "1954-03 4.32\n",
      "1954-04 4.51\n",
      "1954-05 4.25\n",
      "1954-06 6.85\n",
      "1954-07 7.99\n",
      "1954-08 7.88\n",
      "1954-09 6.55\n"
     ]
    }
   ],
   "source": [
    "flag = True\n",
    "c910 = 0\n",
    "while flag:\n",
    "    try:\n",
    "        if aList[0][c910] == '910': # test if header is 910\n",
    "            flag = False # switch flag to exit loop\n",
    "        else :\n",
    "            c910 += 1 # increment counter if not right header\n",
    "    except:\n",
    "        print('No column position found, resetting to 0')\n",
    "        c910 = 0\n",
    "        break\n",
    "    \n",
    "if c910 != 0:\n",
    "    for irow in range(0,10): # activate to show first few rows\n",
    "#    for irow in range(0,rowNumA): # activate to print entire list\n",
    "        print(aList[irow][0],aList[irow][c910])  # implied loop constructor syntax    "
   ]
  },
  {
   "cell_type": "markdown",
   "metadata": {},
   "source": [
    "---\n",
    "\n",
    "### A Method to get the actual file from a remote web server (SSL/TLS encrypted)\n",
    "\n",
    "> - You know the FQDN to the file it will be in structure of \"https://server-name/.../filename.ext\"\n",
    "> - The server is running SSL/TLS web services, i.e. `https://...`\n",
    "> - The server has a CA certificate that is valid or possibly a self-signed certificate\n",
    "\n",
    "**This section is saved for future semesters**"
   ]
  },
  {
   "cell_type": "markdown",
   "metadata": {},
   "source": [
    "---\n",
    "\n",
    "#### Reading data from a file.\n",
    "\n",
    "Recall earlier we manually downlopaded files for reading as in :\n",
    "\n",
    "> To continue our exploration, suppose we want to read from a file, and we know it is a data file - in this section the files we will use are `A.txt`, `B.txt`, and `x.txt` all located > at http://54.243.252.9/engr-1330-webroot/4-Databases/ to follow along download these files to the directory where your script is running.\n",
    ">\n",
    "> Our task is to determine if $x$ is a solution to $A \\cdot x = B$\n",
    ">\n",
    ">From our problem solving protocol the algorithmic task is\n",
    ">\n",
    "> 1. Allocate objects to store file contents;\n",
    "> 1. Read in A,B, and x from respective files;\n",
    "> 2. Echo the inputs (pedagogical in this case);\n",
    "> 2. Perform the matrix arithmetic Ax = RHS;\n",
    "> 3. Test if RHS == B;\n",
    "> 4. Report results;"
   ]
  },
  {
   "cell_type": "markdown",
   "metadata": {},
   "source": [
    "Here we will insert the necessary script to automate the process.\n"
   ]
  },
  {
   "cell_type": "code",
   "execution_count": 21,
   "metadata": {},
   "outputs": [],
   "source": [
    "import requests # Module to process http/https requests\n",
    "remote_url=\"http://54.243.252.9/engr-1330-webroot/4-Databases/A.txt\"  # set the url\n",
    "rget = requests.get(remote_url, allow_redirects=True)  # get the remote resource, follow imbedded links\n",
    "localfile = open('A.txt','wb') # open connection to a local file same name as remote\n",
    "localfile.write(rget.content) # extract from the remote the contents,insert into the local file same name\n",
    "localfile.close() # close connection to the local file"
   ]
  },
  {
   "cell_type": "markdown",
   "metadata": {},
   "source": [
    "Now we read the file contents in a script"
   ]
  },
  {
   "cell_type": "code",
   "execution_count": 22,
   "metadata": {},
   "outputs": [],
   "source": [
    "# Code to read A, X, and b - Notice we need somewhere for the data to go, hence the null lists\n",
    "amatrix = [] # null list to store matrix read\n",
    "rowNumA = 0\n",
    "localfile = open(\"A.txt\",\"r\") # connect and read file for MATRIX A\n",
    "for line in localfile:\n",
    "    amatrix.append([float(n) for n in line.strip().split()])\n",
    "    rowNumA += 1\n",
    "localfile.close() # Disconnect the file\n",
    "colNumA = len(amatrix[0]) # get the column count"
   ]
  },
  {
   "cell_type": "code",
   "execution_count": 23,
   "metadata": {},
   "outputs": [
    {
     "name": "stdout",
     "output_type": "stream",
     "text": [
      "A matrix\n",
      "[4.0, 1.5, 0.7, 1.2, 0.5]\n",
      "[1.0, 6.0, 0.9, 1.4, 0.7]\n",
      "[0.5, 1.0, 3.9, 3.2, 0.9]\n",
      "[0.2, 2.0, 0.2, 7.5, 1.9]\n",
      "[1.7, 0.9, 1.2, 2.3, 4.9]\n"
     ]
    }
   ],
   "source": [
    "print('A matrix')\n",
    "for i in range(0,rowNumA,1):\n",
    "    print ( (amatrix[i][0:colNumA]))"
   ]
  },
  {
   "cell_type": "markdown",
   "metadata": {},
   "source": [
    "---\n",
    "## References\n",
    "1. Learn Python in One Day and Learn It Well. Python for Beginners with Hands-on Project. (Learn Coding Fast with Hands-On Project Book -- Kindle Edition by LCF Publishing (Author), Jamie Chan [https://www.amazon.com/Python-2nd-Beginners-Hands-Project-ebook/dp/B071Z2Q6TQ/ref=sr_1_3?dchild=1&keywords=learn+python+in+a+day&qid=1611108340&sr=8-3](https://www.amazon.com/Python-2nd-Beginners-Hands-Project-ebook/dp/B071Z2Q6TQ/ref=sr_1_3?dchild=1&keywords=learn+python+in+a+day&qid=1611108340&sr=8-3)\n",
    "\n",
    "---\n",
    "\n",
    "2. Read a file line by line [https://www.geeksforgeeks.org/read-a-file-line-by-line-in-python/](https://www.geeksforgeeks.org/read-a-file-line-by-line-in-python/)\n",
    "\n",
    "3. Read a file line by line (PLR approach) [https://www.pythonforbeginners.com/files/4-ways-to-read-a-text-file-line-by-line-in-python](https://www.pythonforbeginners.com/files/4-ways-to-read-a-text-file-line-by-line-in-python)\n",
    "\n",
    "4. Reading and writing files [https://www.pythonforbeginners.com/files/reading-and-writing-files-in-python](https://www.pythonforbeginners.com/files/reading-and-writing-files-in-python)\n",
    "\n",
    "5. Python Files I/O [https://www.tutorialspoint.com/python/python_files_io.htm](https://www.tutorialspoint.com/python/python_files_io.htm)\n",
    "\n",
    "6. Working with files in Python [https://realpython.com/working-with-files-in-python/](https://realpython.com/working-with-files-in-python/)\n",
    "\n",
    "7. File handling in Python [https://www.geeksforgeeks.org/file-handling-python/](https://www.geeksforgeeks.org/file-handling-python/)\n",
    "\n",
    "8. File operations in Python [https://www.programiz.com/python-programming/file-operation](https://www.programiz.com/python-programming/file-operation)\n",
    "\n",
    "---\n",
    "\n",
    "9. How to read a text file from a URL in Python [https://www.kite.com/python/answers/how-to-read-a-text-file-from-a-url-in-python](https://www.kite.com/python/answers/how-to-read-a-text-file-from-a-url-in-python)\n",
    "\n",
    "10. Downloading files from web using Python [https://www.tutorialspoint.com/downloading-files-from-web-using-python](https://www.tutorialspoint.com/downloading-files-from-web-using-python)\n",
    "\n",
    "11. An Efficient Way to Read Data from the Web Directly into Python without having to download it to your hard drive [https://towardsdatascience.com/an-efficient-way-to-read-data-from-the-web-directly-into-python-a526a0b4f4cb](https://towardsdatascience.com/an-efficient-way-to-read-data-from-the-web-directly-into-python-a526a0b4f4cb)\n",
    "\n",
    "---\n",
    "\n",
    "12. Web Requests with Python (using http and/or https) [https://www.pluralsight.com/guides/web-scraping-with-request-python](https://www.pluralsight.com/guides/web-scraping-with-request-python)\n",
    "\n",
    "13. Troubleshooting certificate errors (really common with https requests) [https://stackoverflow.com/questions/27835619/urllib-and-ssl-certificate-verify-failed-error](https://stackoverflow.com/questions/27835619/urllib-and-ssl-certificate-verify-failed-error)"
   ]
  },
  {
   "cell_type": "markdown",
   "metadata": {},
   "source": [
    "---\n",
    "\n",
    "## Laboratory 7.1\n",
    "\n",
    "**Examine** (click) Laboratory 7 as a webpage at [Laboratory 7.1.html](http://54.243.252.9/engr-1330-webroot/8-Labs/Lab071/Lab071.html)\n",
    "\n",
    "**Download** (right-click, save target as ...) Laboratory 7 as a jupyterlab notebook from [Laboratory 7.1.ipynb](http://54.243.252.9/engr-1330-webroot/8-Labs/Lab071/Lab071.ipynb)\n"
   ]
  },
  {
   "cell_type": "markdown",
   "metadata": {},
   "source": [
    "<hr><hr>\n",
    "\n",
    "## Exercise Set 7.1\n",
    "\n",
    "**Examine** (click) Exercise Set 7 as a webpage at [Exercise 7.1.html](http://54.243.252.9/engr-1330-webroot/8-Labs/Lab071/Lab071-TH.html)\n",
    "\n",
    "**Download** (right-click, save target as ...) Exercise Set 7 as a jupyterlab notebook at  [Exercise Set 7.1.ipynb](http://54.243.252.9/engr-1330-webroot/8-Labs/Lab071/Lab071-TH.ipynb)\n",
    "\n"
   ]
  },
  {
   "cell_type": "code",
   "execution_count": null,
   "metadata": {},
   "outputs": [],
   "source": []
  }
 ],
 "metadata": {
  "kernelspec": {
   "display_name": "Python 3",
   "language": "python",
   "name": "python3"
  },
  "language_info": {
   "codemirror_mode": {
    "name": "ipython",
    "version": 3
   },
   "file_extension": ".py",
   "mimetype": "text/x-python",
   "name": "python",
   "nbconvert_exporter": "python",
   "pygments_lexer": "ipython3",
   "version": "3.8.10"
  }
 },
 "nbformat": 4,
 "nbformat_minor": 4
}
