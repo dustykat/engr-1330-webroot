{
 "cells": [
  {
   "cell_type": "markdown",
   "metadata": {},
   "source": [
    "<div class=\"alert alert-block alert-info\">\n",
    "    <b><h1>ENGR 1330 Computational Thinking with Data Science </h1></b> \n",
    "</div> \n",
    "\n",
    "Copyright © 2021 Theodore G. Cleveland and Farhang Forghanparast\n",
    "\n",
    "Last GitHub Commit Date: \n",
    "    \n",
    "# Appendix: Integration of Functions and Tabular Data\n",
    "- Background\n",
    "- Rectangular, Trapezoidal, Parabolic Panels\n",
    "- Tabular Data\n",
    "- Exercises"
   ]
  },
  {
   "cell_type": "markdown",
   "metadata": {},
   "source": [
    "## Integration of Functions\n",
    "\n",
    "At this point we have enough Python to consider doing some useful computations. We\n",
    "will start with numerical integration because it is useful and only requires count-controlled\n",
    "repetition and single subscript lists.\n",
    "\n",
    "### Background\n",
    "\n",
    "Numerical integration is the numerical approximation of\n",
    "\n",
    "$\\begin{equation}\n",
    "I = \\int_a^b f(x)dx\n",
    "\\end{equation}$\n",
    "\n",
    "Consider the problem of determining the shaded area under the curve $y = f(x)$ from $x = a$ to $x = b$, as depicted in the figure below, and suppose that analytical integration is not feasible.\n",
    "\n",
    "![figure1](schematic_panels.png)\n",
    "     \n",
    "The function may be known in tabular form from experimental measurements or it may be known in an analytical form. \n",
    "The function is taken to be continuous within the interval $a < x < b$. We may divide the area into $n$ vertical panels, each of width $\\Delta x = (b - a)/n$, and then add the areas of all strips to obtain  $A~\\approx \\int ydx$.\n",
    "\n",
    "A representative panel of area $A_i$ is shown with darker shading in the figure. Three useful numerical approximations are listed in the following sections.  The approximations differ in how the function is represented by the panels --- in all cases the function is approximated by known polynomial models between the panel end points.\n",
    "\n",
    "In each case the greater the number of strips, and correspondingly smaller value of $\\Delta x$, the more accurate the approximation. Typically, one can begin with a relatively small number of panels and increase the number until the resulting area approximation stops changing."
   ]
  },
  {
   "cell_type": "markdown",
   "metadata": {},
   "source": [
    "### Rectangular Panels \n",
    "\n",
    "The figure below is a schematic of a rectangular panels.  The figure is assuming the function structure is known and can be evaluated at an arbitrary location in the $\\Delta x$ dimension.\n",
    "\n",
    "![figure2](rect_panels.png)\n",
    "\n",
    "Each panel is treated as a rectangle, as shown by the representative panel whose height $y_m$ is chosen visually so that the small cross-hatched areas are as nearly equal as possible. Thus, we form the sum $\\sum y_m$ of the effective heights and multiply by $\\Delta x$. For a function known in analytical form, a value for $y_m$ equal to that of the function at the midpoint $x_i + \\Delta x /2$ may be calculated and used in the summation.\n",
    "\n",
    "For tabulated functions, we have to choose to either take $y_m$ as the value at the left endpoint or right endpoint.    This limitation is often quite handy when we are trying to integrate a function that is integrable, but undefined on one endpoint.\n",
    "\n",
    "Lets try some examples in Python.\n",
    "\n",
    "Find the area under the curve $y= x\\sqrt{1+x^2}$  from $x = 0$ to $x = 2$.\n",
    "\n",
    "First lets read in the value for the lowerlimit, we will do some limited error checks to be sure user enters a number, but won't check that the number is non-negative."
   ]
  },
  {
   "cell_type": "markdown",
   "metadata": {
    "cocalc": {
     "outputs": {
      "1": {
       "name": "input",
       "opts": {
        "password": false,
        "prompt": "Enter a lower bound x_low \n"
       },
       "output_type": "stream",
       "value": "0"
      }
     }
    },
    "jupyter": {
     "outputs_hidden": false
    }
   },
   "source": [
    "```{note}\n",
    "The code below could be used for interactive inputs\n",
    "\n",
    "# RectangularPanels.py\n",
    "# Numerical Integration\n",
    "print (\"Program finds area under curve y = x * sqrt(1+x)\")\n",
    "# Get input data -- use error checking\n",
    "yes = 0\n",
    "while yes == 0:\n",
    "    x_low = input(\"Enter a lower bound x_low \\n\")\n",
    "    try:\n",
    "        x_low = float(x_low)\n",
    "        yes = 1\n",
    "    except:\n",
    "        print (\"x_low really needs to be a number, try again \\n\")\n",
    "# exit the while loop when finally have a valid number\n",
    "\n",
    "```"
   ]
  },
  {
   "cell_type": "markdown",
   "metadata": {},
   "source": [
    "Verify that value is indeed what we entered"
   ]
  },
  {
   "cell_type": "code",
   "execution_count": 30,
   "metadata": {
    "collapsed": false,
    "jupyter": {
     "outputs_hidden": false
    }
   },
   "outputs": [
    {
     "name": "stdout",
     "output_type": "stream",
     "text": [
      "2.0\n"
     ]
    }
   ],
   "source": [
    "x_low = 2.0 # replace with code above in proper use\n",
    "print(x_low)"
   ]
  },
  {
   "cell_type": "markdown",
   "metadata": {},
   "source": [
    "Now do the same for the upper limit, notice how we are using the ``yes`` variable.  We set a \"fail\" value, and demand input until we get \"success\".  The structure used here is called a ``try -- exception`` structure and is very common in programming.   Error checking is really important so that garbled input does not hang things up. "
   ]
  },
  {
   "cell_type": "markdown",
   "metadata": {
    "cocalc": {
     "outputs": {
      "0": {
       "name": "input",
       "opts": {
        "password": false,
        "prompt": "Enter an upper bound x_high \n"
       },
       "output_type": "stream",
       "value": "2"
      }
     }
    },
    "jupyter": {
     "outputs_hidden": false
    }
   },
   "source": [
    "```\n",
    "yes = 0\n",
    "while yes == 0:\n",
    "    x_high = input(\"Enter an upper bound x_high \\n\")\n",
    "    try:\n",
    "        x_high = float(x_high)\n",
    "        yes = 1\n",
    "    except:\n",
    "        print (\"x_high really needs to be a number, try again \\n\")\n",
    "# exit the while loop when finally have a valid number\n",
    "```"
   ]
  },
  {
   "cell_type": "markdown",
   "metadata": {},
   "source": [
    "Again verify!"
   ]
  },
  {
   "cell_type": "code",
   "execution_count": 12,
   "metadata": {
    "collapsed": false,
    "jupyter": {
     "outputs_hidden": false
    }
   },
   "outputs": [
    {
     "name": "stdout",
     "output_type": "stream",
     "text": [
      "4.0\n"
     ]
    }
   ],
   "source": [
    "x_high=4.0 # replace with code above in proper use\n",
    "print(x_high)"
   ]
  },
  {
   "cell_type": "markdown",
   "metadata": {},
   "source": [
    "Now use the try - exception structure to input how many panels we wish to use.  Notice you can enter a negative value which will ultimately break things. Also observe this value is an integer."
   ]
  },
  {
   "cell_type": "markdown",
   "metadata": {
    "cocalc": {
     "outputs": {
      "0": {
       "name": "input",
       "opts": {
        "password": false,
        "prompt": "Enter how many panels \n"
       },
       "output_type": "stream",
       "value": "4"
      }
     }
    },
    "jupyter": {
     "outputs_hidden": false
    }
   },
   "source": [
    "```\n",
    "yes = 0\n",
    "while yes == 0:\n",
    "    how_many = input(\"Enter how many panels \\n\")\n",
    "    try:\n",
    "        how_many = int(how_many)\n",
    "        yes = 1\n",
    "    except:\n",
    "        print (\"Panels really needs to be a number, try again \\n\")\n",
    "# exit the while loop when finally have a valid number\n",
    "```"
   ]
  },
  {
   "cell_type": "markdown",
   "metadata": {},
   "source": [
    "Again verify!"
   ]
  },
  {
   "cell_type": "code",
   "execution_count": 13,
   "metadata": {
    "collapsed": false,
    "jupyter": {
     "outputs_hidden": false
    }
   },
   "outputs": [
    {
     "name": "stdout",
     "output_type": "stream",
     "text": [
      "5\n"
     ]
    }
   ],
   "source": [
    "how_many=5 # replace with code above in proper use\n",
    "print(how_many)"
   ]
  },
  {
   "cell_type": "markdown",
   "metadata": {},
   "source": [
    "Now we can actually perform the integration by evaluating the function at the panel half-widths.\n",
    "In this example we are using primitive arithmetic, so the $\\sqrt{}$ is accomplished by exponentation, the syntax is ``c = a ** b`` is the operation $c = a^b$.\n",
    "\n",
    "The integration uses an accumulator, which is a memory location where subsquent results are added (accumulated) back into the accumulator.  This structure is so common that there are alternate, compact syntax to perform this task, here it is all out in the open.\n",
    "\n",
    "The counting loop where we evaluate the function at different ``x`` values, starts at 1 and ends at ``how_many+1`` because python ``for`` loops use an increment skip if equal structure. When the value in ``range`` equals ``how_many`` the ``for`` loop exits (``break`` is implied.)  A loop control structure starting from 0 is shown in the code as a comment line.  Simply uncomment this line, and comment the line just below to have the structure typical in python scripts.  In the start from 1 case, we want to evaluate at the last value of ``how_many``.  "
   ]
  },
  {
   "cell_type": "code",
   "execution_count": 14,
   "metadata": {
    "collapsed": false,
    "jupyter": {
     "outputs_hidden": false
    }
   },
   "outputs": [],
   "source": [
    "# OK we should have the three things we need for evaluating the integral\n",
    "delta_x = (x_high - x_low)/float(how_many)  # compute panel width\n",
    "xx = x_low + delta_x/2 # initial value for x\n",
    "### OK THIS IS THE ACTUAL INTEGRATOR PART ###\n",
    "accumulated_area = 0.0  # initial value in an accumulator\n",
    "#for i in range(0,how_many,1): #note we are counting from 0\n",
    "for i in range(1,how_many+1,1): #note we are counting from 1\n",
    "    accumulated_area = accumulated_area + ( xx * ( (1+xx**2)**(0.5) ) ) * delta_x\n",
    "    xx = xx + delta_x\n",
    "### AND WE ARE DONE INTEGRATING #############"
   ]
  },
  {
   "cell_type": "markdown",
   "metadata": {},
   "source": [
    "Finally, we want to report our result"
   ]
  },
  {
   "cell_type": "code",
   "execution_count": 15,
   "metadata": {
    "collapsed": false,
    "jupyter": {
     "outputs_hidden": false
    }
   },
   "outputs": [
    {
     "name": "stdout",
     "output_type": "stream",
     "text": [
      "Area under curve y = x * sqrt(1+x) from x =  0  to x =  4.0 \n",
      " is approximately:  22.84249406297622\n"
     ]
    }
   ],
   "source": [
    "print (\"Area under curve y = x * sqrt(1+x) from x = \",x_low,\\\n",
    "      \" to x = \",x_high,\"\\n is approximately: \",accumulated_area)\n",
    "# the backslash \\\n",
    "#       \" to x = .....     lets us use multiple lines\n",
    "# the \\n is a \"newline\" character "
   ]
  },
  {
   "cell_type": "markdown",
   "metadata": {},
   "source": [
    "The code implements rudimentary error checking -- it forces us to enter numeric values for the lower and upper values of $x$ as well as the number of panels to use.  It does not check for undefined ranges and such, but you should get the idea -- notice that a large fraction of the entire program is error trapping; this devotion to error trapping is typical for professional programs where you are going to distribute executable modules and not expect the end user to be a programmer.\n",
    "\n",
    "### Using the ``math`` package\n",
    "\n",
    "The actual computations are done rather crudely -- there is a math package that would give us the ability to compute the square root as a function call rather than exponentiation to a real values exponent.\n",
    "\n",
    "That is illustrated below"
   ]
  },
  {
   "cell_type": "code",
   "execution_count": 16,
   "metadata": {
    "cocalc": {
     "outputs": {
      "1": {
       "name": "input",
       "opts": {
        "password": false,
        "prompt": "Enter a lower bound x_low \n"
       },
       "output_type": "stream",
       "value": "0"
      },
      "2": {
       "name": "input",
       "opts": {
        "password": false,
        "prompt": "Enter an upper bound x_high \n"
       },
       "output_type": "stream",
       "value": "2"
      },
      "3": {
       "name": "input",
       "opts": {
        "password": false,
        "prompt": "Enter how many panels \n"
       },
       "output_type": "stream",
       "value": "4"
      }
     }
    },
    "collapsed": false,
    "jupyter": {
     "outputs_hidden": false
    }
   },
   "outputs": [
    {
     "name": "stdout",
     "output_type": "stream",
     "text": [
      "Program finds area under curve y = x * sqrt(1+x)\n",
      "Area under curve y = x * sqrt(1+x) from x =  0  to x =  2 \n",
      " is approximately:  3.3793974379024605\n"
     ]
    }
   ],
   "source": [
    "# RectangularPanels.py\n",
    "# Numerical Integration\n",
    "# Use built-in math functions\n",
    "import math  # a package of math functions\n",
    "# we are naming an object \"sqrt\" that will compute the square root\n",
    "def sqrt (x):\n",
    "        return math.sqrt(x)\n",
    "# saves us having to type math.NAME every time we wish to use a function\n",
    "# in this program not all that meaningful, but in complex programs handy!\n",
    "x_low=0 #this is for JB demo only\n",
    "x_high=2\n",
    "how_many=6\n",
    "print (\"Program finds area under curve y = x * sqrt(1+x)\")\n",
    "# Get input data -- use error checking\n",
    "yes = 1  #set to 0 for interacitve input\n",
    "while yes == 0:\n",
    "    x_low = input(\"Enter a lower bound x_low \\n\")\n",
    "    try:\n",
    "        x_low = float(x_low)\n",
    "        yes = 1\n",
    "    except:\n",
    "        print (\"x_low really needs to be a number, try again \\n\")\n",
    "yes = 1 #set to 0 for interacitve input\n",
    "while yes == 0:\n",
    "    x_high = input(\"Enter an upper bound x_high \\n\")\n",
    "    try:\n",
    "        x_high = float(x_high)\n",
    "        yes = 1\n",
    "    except:\n",
    "        print (\"x_high really needs to be a number, try again \\n\")\n",
    "yes = 1 #set to 0 for interacitve input\n",
    "while yes == 0:\n",
    "    how_many = input(\"Enter how many panels \\n\")\n",
    "    try:\n",
    "        how_many = int(how_many)\n",
    "        yes = 1\n",
    "    except:\n",
    "        print (\"Panels really needs to be a number, try again \\n\")\n",
    "        \n",
    "\n",
    "delta_x = (x_high - x_low)/float(how_many)  # compute panel width\n",
    "accumulated_area = 0.0  # initial value in an accumulator\n",
    "xx = x_low + delta_x/2 # initial value for x\n",
    "for i in range(1,how_many+1,1): #note we are counting from 1\n",
    "    accumulated_area = accumulated_area + ( xx * sqrt(1+xx**2) ) * delta_x\n",
    "    xx = xx + delta_x\n",
    "print (\"Area under curve y = x * sqrt(1+x) from x = \",x_low,\\\n",
    "      \" to x = \",x_high,\"\\n is approximately: \",accumulated_area)\n",
    "\n"
   ]
  },
  {
   "cell_type": "markdown",
   "metadata": {},
   "source": [
    "### Trapezoidal Panels\n",
    "The trapezoidal panels are approximated as shown in the figure below. \n",
    "\n",
    "![](trap_panels.png)\n",
    "\n",
    "The area $A_i$ is the average height $(y_i + y_{i+1} )/2$ times $\\Delta x$. Adding the areas gives the area approximation as tabulated.   For the example with the curvature shown, the approximation will be on the low side. For the reverse curvature, the approximation will be on the high side.  The trapezoidal approximation is commonly used with tabulated values.\n",
    "\n",
    "The script below illustrates the trapezoidal method for approximating an integral.  In the example, the left and right panel endpoints in $x$ are set as separate variables $x_{left}$ and $x_{right}$ and incremented by $\\Delta x$ as we step through the count-controlled repetition to accumulate the area.  The corresponding $y$ values are computed within the loop and averaged, then multiplied by $\\Delta x$ and added to the accumulator.  Finally the $x$ values are incremented --- for grins, we used the += operator on the accumulator\n"
   ]
  },
  {
   "cell_type": "code",
   "execution_count": 17,
   "metadata": {
    "cocalc": {
     "outputs": {
      "1": {
       "name": "input",
       "opts": {
        "password": false,
        "prompt": "Enter a lower bound x_low \n"
       },
       "output_type": "stream",
       "value": "0"
      },
      "2": {
       "name": "input",
       "opts": {
        "password": false,
        "prompt": "Enter an upper bound x_high \n"
       },
       "output_type": "stream",
       "value": "2"
      },
      "3": {
       "name": "input",
       "opts": {
        "password": false,
        "prompt": "Enter how many panels \n"
       },
       "output_type": "stream",
       "value": "4"
      }
     }
    },
    "collapsed": false,
    "jupyter": {
     "outputs_hidden": false
    }
   },
   "outputs": [
    {
     "name": "stdout",
     "output_type": "stream",
     "text": [
      "Program finds area under curve y = x * sqrt(1+x)\n",
      "Area under curve y = x * sqrt(1+x) from x =  0  to x =  2 \n",
      " is approximately:  3.4215064275621776\n"
     ]
    }
   ],
   "source": [
    "# TrapezoidalPanels.py\n",
    "# Numerical Integration\n",
    "# Use built-in math functions\n",
    "import math  # a package of math functions\n",
    "# we are naming an object \"sqrt\" that will compute the square root\n",
    "def sqrt (x):\n",
    "        return math.sqrt(x)\n",
    "# saves us having to type math.NAME every time we wish to use a function\n",
    "# in this program not all that meaningful, but in complex programs handy!\n",
    "x_low=0 #this is for JB demo only\n",
    "x_high=2\n",
    "how_many=6\n",
    "print (\"Program finds area under curve y = x * sqrt(1+x)\")\n",
    "# Get input data -- use error checking\n",
    "yes = 1\n",
    "while yes == 0:\n",
    "    x_low = input(\"Enter a lower bound x_low \\n\")\n",
    "    try:\n",
    "        x_low = float(x_low)\n",
    "        yes = 1\n",
    "    except:\n",
    "        print (\"x_low really needs to be a number, try again \\n\")\n",
    "yes = 1\n",
    "while yes == 0:\n",
    "    x_high = input(\"Enter an upper bound x_high \\n\")\n",
    "    try:\n",
    "        x_high = float(x_high)\n",
    "        yes = 1\n",
    "    except:\n",
    "        print (\"x_high really needs to be a number, try again \\n\")\n",
    "yes = 1\n",
    "while yes == 0:\n",
    "    how_many = input(\"Enter how many panels \\n\")\n",
    "    try:\n",
    "        how_many = int(how_many)\n",
    "        yes = 1\n",
    "    except:\n",
    "        print (\"Panels really needs to be a number, try again \\n\")\n",
    "delta_x = (x_high - x_low)/float(how_many)  # compute panel width\n",
    "accumulated_area = 0.0      # initial value in an accumulator\n",
    "x_left = x_low              # initial value for x_left edge panel\n",
    "x_right = x_left + delta_x  # initial value for x_right edge panel\n",
    "for i in range(1,how_many+1,1): #note we are counting from 1\n",
    "    y_left = ( x_left* sqrt(1+x_left**2) )\n",
    "    y_right = ( x_right* sqrt(1+x_right**2) )\n",
    "    accumulated_area += + (1./2.) * ( y_left + y_right ) * delta_x\n",
    "    x_left += delta_x\n",
    "    x_right += delta_x\n",
    "print (\"Area under curve y = x * sqrt(1+x) from x = \",x_low,\\\n",
    "      \" to x = \",x_high,\"\\n is approximately: \",accumulated_area)\n"
   ]
  },
  {
   "cell_type": "markdown",
   "metadata": {},
   "source": [
    "### Parabolic Panels\n",
    "Parabolic panels approximate the shape of the panel with a parabola.  The area between the chord and the curve (neglected in the trapezoidal solution) may be accounted for by approximating the function with a parabola passing through the points defined by three successive values of $y$.\n",
    "\n",
    "![](para-panels.png)\n",
    "\n",
    "This area may be calculated from the geometry of the parabola and added to the trapezoidal area of the pair of strips to give the area $\\Delta A$ of the pair as illustrated. Adding all of the $\\Delta A$s produces the tabulation shown, which is known as Simpson's rule. To use Simpson's rule, the number $n$ of strips must be even.\n",
    "\n",
    "The same example as presented for rectangular panels is repeated, except using parabolic panels.  The code is changed yet again because we will evaluate at each end of the panel as well as at an intermediate value."
   ]
  },
  {
   "cell_type": "code",
   "execution_count": 18,
   "metadata": {
    "cocalc": {
     "outputs": {
      "1": {
       "name": "input",
       "opts": {
        "password": false,
        "prompt": "Enter a lower bound x_low \n"
       },
       "output_type": "stream",
       "value": "0"
      },
      "2": {
       "name": "input",
       "opts": {
        "password": false,
        "prompt": "Enter an upper bound x_high \n"
       },
       "output_type": "stream",
       "value": "2"
      },
      "3": {
       "name": "input",
       "opts": {
        "password": false,
        "prompt": "Enter how many panels \n"
       },
       "output_type": "stream",
       "value": "4"
      }
     }
    },
    "collapsed": false,
    "jupyter": {
     "outputs_hidden": false
    }
   },
   "outputs": [
    {
     "name": "stdout",
     "output_type": "stream",
     "text": [
      "Program finds area under curve y = x * sqrt(1+x)\n",
      "Area under curve y = x * sqrt(1+x) from x =  0  to x =  1 \n",
      " is approximately:  0.6094186631272838\n"
     ]
    }
   ],
   "source": [
    "# ParabolicPanels.py\n",
    "# Numerical Integration\n",
    "# Use built-in math functions\n",
    "import math  # a package of math functions\n",
    "# we are naming an object \"sqrt\" that will compute the square root\n",
    "def sqrt (x):\n",
    "        return math.sqrt(x)\n",
    "# saves us having to type math.NAME every time we wish to use a function\n",
    "# in this program not all that meaningful, but in complex programs handy!\n",
    "x_low=0 #this is for JB demo only\n",
    "x_high=1\n",
    "how_many=4\n",
    "print (\"Program finds area under curve y = x * sqrt(1+x)\")\n",
    "# Get input data -- use error checking\n",
    "yes = 1\n",
    "while yes == 0:\n",
    "    x_low = input(\"Enter a lower bound x_low \\n\")\n",
    "    try:\n",
    "        x_low = float(x_low)\n",
    "        yes = 1\n",
    "    except:\n",
    "        print (\"x_low really needs to be a number, try again \\n\")\n",
    "yes = 1\n",
    "while yes == 0:\n",
    "    x_high = input(\"Enter an upper bound x_high \\n\")\n",
    "    try:\n",
    "        x_high = float(x_high)\n",
    "        yes = 1\n",
    "    except:\n",
    "        print (\"x_high really needs to be a number, try again \\n\")\n",
    "yes = 1\n",
    "while yes == 0:\n",
    "    how_many = input(\"Enter how many panels \\n\")\n",
    "    try:\n",
    "        how_many = int(how_many)\n",
    "        yes = 1\n",
    "    except:\n",
    "        print (\"Panels really needs to be a number, try again \\n\")\n",
    "delta_x = (x_high - x_low)/float(how_many)  # compute panel width\n",
    "accumulated_area = 0.0         # initial value in an accumulator\n",
    "x_left   = x_low               # initial value for x_left edge panel\n",
    "x_middle = x_left   + delta_x  # initial value for x_middle edge panel\n",
    "x_right  = x_middle + delta_x  # initial value for x_right edge panel\n",
    "how_many = int(how_many/2)     # using 2 panels every step, so 1/2 many steps -- force integer result \n",
    "for i in range(1,how_many+1,1): #note we are counting from 1\n",
    "    y_left   = ( x_left   * sqrt(1+   x_left**2) )\n",
    "    y_middle = ( x_middle * sqrt(1+ x_middle**2) )\n",
    "    y_right  = ( x_right  * sqrt(1+  x_right**2) )\n",
    "    accumulated_area = accumulated_area + \\\n",
    "                       (1./3.) * ( y_left + 4.* y_middle + y_right ) * delta_x\n",
    "    x_left   = x_left   + 2*delta_x\n",
    "    x_middle = x_left   +   delta_x\n",
    "    x_right  = x_middle +   delta_x\n",
    "print (\"Area under curve y = x * sqrt(1+x) from x = \",x_low,\\\n",
    "      \" to x = \",x_high,\"\\n is approximately: \",accumulated_area)\n",
    "\n"
   ]
  },
  {
   "cell_type": "markdown",
   "metadata": {},
   "source": [
    "If we study all the forms of the numerical method we observe that the numerical integration method is really the sum of function values at specific locations in the interval of interest, with each value multiplied by a specific weight.\n",
    "\n",
    "In this development the weights were based on polynomials, but other method use different weighting functions.  An extremely important method is called gaussian quadrature. This method is valuable because one can approximate convolution integrals quite effectively using quadrature routines, while the number of function evaluations for a polynomial based approximation could be hopeless.\n",
    "\n",
    "When the function values are tabular, we are going to have to accept the rectangular (with adaptations) and trapezoidal as our best tools to approximate an integral because we don't have any really effective way to evaluate the function between the tabulated values."
   ]
  },
  {
   "cell_type": "markdown",
   "metadata": {},
   "source": [
    "## Integration of Tabular Data\n",
    "\n",
    "This section is going to work with tabular data -- different from function evaluation, but\n",
    "similar. To be really useful, we need to learn how to read data from a file; manually\n",
    "entering tabular data is really time consuming, error prone, and just plain idiotic.\n",
    "\n",
    "So in this chapter we will learn how to read data from a file into a list, then we can process\n",
    "the list as if it were a function and integrate its contents.\n",
    "\n",
    "### Reading from a file --- open, read, close files\n",
    "\n",
    "First, lets consider a file named ``MyFile.txt``.   The extension is important so that the Shell does not think it is a Python script.\n",
    "The contents of ``MyFile.txt`` are:\n",
    "\n",
    "    1  1\n",
    "    2  4\n",
    "    3  9\n",
    "    4  16\n",
    "    5  25\n",
    "\n",
    "The code fragment below, will let us look at the file (already existing in our local directory)"
   ]
  },
  {
   "cell_type": "markdown",
   "metadata": {},
   "source": [
    "    "
   ]
  },
  {
   "cell_type": "code",
   "execution_count": 19,
   "metadata": {},
   "outputs": [
    {
     "name": "stdout",
     "output_type": "stream",
     "text": [
      "1  1\n",
      "2  4\n",
      "3  9\n",
      "4  16\n",
      "5  25\n"
     ]
    }
   ],
   "source": [
    "import subprocess # lets us run \"shell\" commands and recover stdio stream\n",
    "usefull_cat_call = subprocess.run([\"cat\",\"MyFile.txt\"], stdout=subprocess.PIPE, text=True) # this is the call to run the bash command \"cat MyFile.txt\" which will display the contents of the file if it exists.\n",
    "print(usefull_cat_call.stdout)"
   ]
  },
  {
   "cell_type": "markdown",
   "metadata": {},
   "source": [
    "Now that we know that the file exists,to read the contents into a Python script we have to do the following:\n",
    "\n",
    "- Open a connection to the file --- this is a concept common to all languages, it might be called something different, but the program needs to somehow know the location and name of the file.\n",
    "    \n",
    "- Read the contents into an object --- we have a lot of control on how this gets done, for the time being we won't exercise much control yet.  When you do substantial programs, you will depend on the control of the reads (and writes).\n",
    "    \n",
    "- Disconnect the file --- this too is common to all languages.  Its a really easy step to forget.  Not a big deal if the program ends as planned but terrible if there is a error in the program and the connection is still open.  Usually nothing bad happens, but with an open connection it is possible for the file to get damaged.   If that file represents millions of customers credit card numbers, that's kind of a problem, and time to go work on your resume, or get your passport collection out and choose a country without extradition.\n",
    "    \n",
    "The code fragment below performs these three tasks and prints the things we read"
   ]
  },
  {
   "cell_type": "code",
   "execution_count": 20,
   "metadata": {},
   "outputs": [
    {
     "name": "stdout",
     "output_type": "stream",
     "text": [
      "1  1\n",
      "2  4\n",
      "3  9\n",
      "4  16\n",
      "5  25"
     ]
    }
   ],
   "source": [
    "Afile = open(\"MyFile.txt\",\"r\") # open a connection to the file; set to \"read\"\n",
    "# read the five lines\n",
    "line1 = Afile.readline()\n",
    "line2 = Afile.readline()\n",
    "line3 = Afile.readline()\n",
    "line4 = Afile.readline()\n",
    "line5 = Afile.readline()\n",
    "Afile.close() # disconnect from the file\n",
    "# echo the input\n",
    "print(line1,end=\"\")\n",
    "print(line2,end=\"\")\n",
    "print(line3,end=\"\")\n",
    "print(line4,end=\"\")\n",
    "print(line5,end=\"\")"
   ]
  },
  {
   "cell_type": "markdown",
   "metadata": {},
   "source": [
    "### Read into a list\n",
    "A far more useful and elegant way to read from a file is to use a ``for`` loop.   The attribute ``line`` within a file is an iterable, hence construction the loop is pretty straightforward.   \n",
    "\n",
    "A script fragment below does the same thing as the example above, but uses a ``for`` loop to accomplish stepping through the file.   \n",
    "\n",
    "Additionally, I have added a counter to keep track of how many lines were read --- in a lot of engineering programs, the number of things read becomes important later in a program, hence it is usually a good idea to capture the count when the data are first read.\n",
    "\n",
    "First lets work out if we can automatically detect the end of the file.  So this script just reads and prints the attribute ``line`` from object ``Afile``.  \n",
    "Notice how the print statement is changed, to suppress the extra line feed."
   ]
  },
  {
   "cell_type": "code",
   "execution_count": 21,
   "metadata": {},
   "outputs": [
    {
     "name": "stdout",
     "output_type": "stream",
     "text": [
      "1  1\n",
      "2  4\n",
      "3  9\n",
      "4  16\n",
      "5  25\n",
      "File has  5  records (lines)\n"
     ]
    }
   ],
   "source": [
    "Afile = open(\"MyFile.txt\",\"r\") # open a connection to the file; set to \"read\"\n",
    "# read using a for loop, exit when at end of file  and report line count\n",
    "how_many_lines = 0 # start our counter!\n",
    "for line in Afile:\n",
    "    print(line,end=\"\")\n",
    "    how_many_lines += 1\n",
    "Afile.close() # disconnect from the file\n",
    "print(\"\\nFile has \",how_many_lines,\" records (lines)\")"
   ]
  },
  {
   "cell_type": "markdown",
   "metadata": {},
   "source": [
    "Now we will add a list to receive the input, here it reads the file above as a string into a list ``xy``, then splits that list and places the contents into two other lists, ``x`` and ``y``.  The script has several parts to discuss.   First, the destination variables (lists) must be created -- I used the null list concept here because I don't know how big the list is until I read the list.  \n",
    "Next I used the ``.append()`` method which operates on the ``xy`` list.  \n",
    "The arguments of the method ``[str(n) for n in line.strip().split()]`` tells the program that the elements are to be interpreted as a string, and to split (split) the line into sub-strings based on a null delimiter (whitespace), and to remove all the whitespace (strip) characters.   \n",
    "\n",
    "Once the line is split, the strings are appended into the ``xy`` list.  The ``xy`` list is printed to show that it is a list of 5 things, each thing being a string comprised of two sets of characters separated by a comma.   ``xy`` is a list of strings.\n",
    "\n",
    "The next section of the code then uses the ``pair`` function within another ``.append()`` method to break the character sets in each element of ``xy`` into two parts ``x`` and ``y``.  \n",
    "Lastly during the pair operation, the code also converts the data into real values (float) and then prints the data in two columns.    \n",
    "This seems like a lot of work, but we could easily get this code to be super reliable, then save it as a function and never have to write it again.   That too comes later -- suffice to say for now we can read a file, parse its contents into two lists $x$ and $y$.  Thus we are now able to integrate tabular data."
   ]
  },
  {
   "cell_type": "code",
   "execution_count": 22,
   "metadata": {
    "cocalc": {
     "outputs": {
      "1": {
       "name": "input",
       "opts": {
        "password": false,
        "prompt": "Enter a lower bound x_low \n"
       },
       "output_type": "stream",
       "value": "0"
      }
     }
    },
    "collapsed": false,
    "jupyter": {
     "outputs_hidden": false
    }
   },
   "outputs": [
    {
     "name": "stdout",
     "output_type": "stream",
     "text": [
      "1  1\n",
      "2  4\n",
      "3  9\n",
      "4  16\n",
      "5  25\n",
      "File has  5  records (lines)\n",
      "The list is: [['1', '1'], ['2', '4'], ['3', '9'], ['4', '16'], ['5', '25']]\n",
      "x =  1.0  y =  1.0\n",
      "x =  2.0  y =  4.0\n",
      "x =  3.0  y =  9.0\n",
      "x =  4.0  y =  16.0\n",
      "x =  5.0  y =  25.0\n"
     ]
    }
   ],
   "source": [
    "xy = [] # null list to store the lines\n",
    "x  = [] # a null list for the first column\n",
    "y  = [] # a null list for the second column\n",
    "Afile = open(\"MyFile.txt\",\"r\") # open a connection to the file; set to \"read\"\n",
    "# read using a for loop, exit when at end of file  and report line count\n",
    "how_many_lines = 0 # start our counter!\n",
    "for line in Afile:\n",
    "    print(line,end=\"\")\n",
    "    xy.append([str(n) for n in line.strip().split()]) # append line to xy, split the line on whitespace, strip out whitespace\n",
    "    how_many_lines += 1\n",
    "Afile.close() # disconnect from the file\n",
    "print(\"\\nFile has \",how_many_lines,\" records (lines)\")\n",
    "print(\"The list is: \",end=\"\")\n",
    "print(xy) # the list\n",
    "for pair in xy:  # parse into x and y\n",
    "    x.append(float(pair[0]))\n",
    "    y.append(float(pair[1]))\n",
    "# verify parsed\n",
    "for i in range (0,how_many_lines,1):\n",
    "    print(\"x = \",x[i],\" y = \",y[i])\n"
   ]
  },
  {
   "cell_type": "markdown",
   "metadata": {
    "jupyter": {
     "outputs_hidden": false
    }
   },
   "source": [
    "### Integrating the Tabular Data\n",
    "Suppose instead of a function we only have tabulations and wist to estimate the area under the curve represented by the tabular values.  Then our integration rules from the prior chapter still work more or less, except the rectangular panels will have to be shifted to either the left edge or right edge of a panel (where the tabulation exists).   \n",
    "\n",
    "Lets just examine an example.  Suppose some measurement technology produced a table of related values.   \n",
    "The excitation variable is ``x`` and ``f(x)`` is the response. \n",
    "\n",
    "        x    f(x) \n",
    "       1.0  1.543 \n",
    "       1.1  1.668 \n",
    "       1.2  1.811 \n",
    "       1.3  1.971 \n",
    "       1.4  2.151 \n",
    "       1.5  2.352 \n",
    "       1.6  2.577 \n",
    "       1.7  2.828 \n",
    "       1.8  3.107\n",
    "       \n",
    "To integrate this table using the trapezoidal method is straightforward.  \n",
    "We will modify our earlier code to read the table (which we put into a file), and compute the integral. "
   ]
  },
  {
   "cell_type": "code",
   "execution_count": 23,
   "metadata": {
    "cocalc": {
     "outputs": {
      "0": {
       "name": "input",
       "opts": {
        "password": false,
        "prompt": "Enter an upper bound x_high \n"
       },
       "output_type": "stream",
       "value": "2"
      }
     }
    },
    "collapsed": false,
    "jupyter": {
     "outputs_hidden": false
    }
   },
   "outputs": [
    {
     "name": "stdout",
     "output_type": "stream",
     "text": [
      "1.0  1.543 \n",
      "1.1  1.668 \n",
      "1.2  1.811 \n",
      "1.3  1.971 \n",
      "1.4  2.151 \n",
      "1.5  2.352 \n",
      "1.6  2.577 \n",
      "1.7  2.828 \n",
      "1.8  3.107\n",
      "File has  9  records (lines)\n",
      "The list is: [['1.0', '1.543'], ['1.1', '1.668'], ['1.2', '1.811'], ['1.3', '1.971'], ['1.4', '2.151'], ['1.5', '2.352'], ['1.6', '2.577'], ['1.7', '2.828'], ['1.8', '3.107']]\n",
      "x =  1.0  y =  1.543\n",
      "x =  1.1  y =  1.668\n",
      "x =  1.2  y =  1.811\n",
      "x =  1.3  y =  1.971\n",
      "x =  1.4  y =  2.151\n",
      "x =  1.5  y =  2.352\n",
      "x =  1.6  y =  2.577\n",
      "x =  1.7  y =  2.828\n",
      "x =  1.8  y =  3.107\n",
      "Area =  1.7683000000000002\n"
     ]
    }
   ],
   "source": [
    "# My Tabular Integration\n",
    "# Integrate a table of values using Trapezoidal Panels\n",
    "xy = [] # null list to store the lines\n",
    "x  = [] # a null list for the first column\n",
    "y  = [] # a null list for the second column\n",
    "Afile = open(\"MyTableOfData.txt\",\"r\") # open a connection to the file; set to \"read\"\n",
    "# read using a for loop, exit when at end of file  and report line count\n",
    "how_many_lines = 0 # start our counter!\n",
    "for line in Afile:\n",
    "    print(line,end=\"\")\n",
    "    xy.append([str(n) for n in line.strip().split()]) # append line to xy, split the line on whitespace, strip out whitespace\n",
    "    how_many_lines += 1\n",
    "Afile.close() # disconnect from the file\n",
    "print(\"\\nFile has \",how_many_lines,\" records (lines)\")\n",
    "print(\"The list is: \",end=\"\")\n",
    "print(xy) # the list\n",
    "for pair in xy:  # parse into x and y\n",
    "    x.append(float(pair[0]))\n",
    "    y.append(float(pair[1]))\n",
    "# verify parsed\n",
    "for i in range (0,how_many_lines,1):\n",
    "    print(\"x = \",x[i],\" y = \",y[i])\n",
    "# now the actual integration\n",
    "accumulated_area = 0 # an accumulator\n",
    "for i in range(0,how_many_lines-1,1): #index stops at n-1 things because each panel evaluated at both ends\n",
    "    delta_x = x[i+1]-x[i]\n",
    "    height =(y[i+1]+y[i])/2.0\n",
    "    accumulated_area += height*delta_x\n",
    "print(\"Area = \",accumulated_area)  # report the result\n"
   ]
  },
  {
   "cell_type": "markdown",
   "metadata": {},
   "source": [
    "Cool, it seems to work -- now tidy the code a bit by suppressing extra outputs"
   ]
  },
  {
   "cell_type": "code",
   "execution_count": 24,
   "metadata": {
    "cocalc": {
     "outputs": {
      "0": {
       "name": "input",
       "opts": {
        "password": false,
        "prompt": "Enter how many panels \n"
       },
       "output_type": "stream",
       "value": "4"
      }
     }
    },
    "collapsed": false,
    "jupyter": {
     "outputs_hidden": false
    }
   },
   "outputs": [
    {
     "name": "stdout",
     "output_type": "stream",
     "text": [
      "\n",
      "Records read =:  9\n",
      "x =  1.0  y =  1.543\n",
      "x =  1.1  y =  1.668\n",
      "x =  1.2  y =  1.811\n",
      "x =  1.3  y =  1.971\n",
      "x =  1.4  y =  2.151\n",
      "x =  1.5  y =  2.352\n",
      "x =  1.6  y =  2.577\n",
      "x =  1.7  y =  2.828\n",
      "x =  1.8  y =  3.107\n",
      "Area =  1.7683000000000002\n"
     ]
    }
   ],
   "source": [
    "# My Tabular Integration\n",
    "# Integrate a table of values using Trapezoidal Panels\n",
    "xy = [] # null list to store the lines\n",
    "x  = [] # a null list for the first column\n",
    "y  = [] # a null list for the second column\n",
    "Afile = open(\"MyTableOfData.txt\",\"r\") # open a connection to the file; set to \"read\"\n",
    "# read using a for loop, exit when at end of file  and report line count\n",
    "how_many_lines = 0 # start our counter!\n",
    "for line in Afile:\n",
    "    ##print(line,end=\"\")\n",
    "    xy.append([str(n) for n in line.strip().split()]) # append line to xy, split the line on whitespace, strip out whitespace\n",
    "    how_many_lines += 1\n",
    "Afile.close() # disconnect from the file\n",
    "print(\"\\nRecords read =: \",how_many_lines)\n",
    "##print(\"The list is: \",end=\"\")\n",
    "##print(xy) # the list\n",
    "for pair in xy:  # parse into x and y\n",
    "    x.append(float(pair[0]))\n",
    "    y.append(float(pair[1]))\n",
    "# verify parsed\n",
    "for i in range (0,how_many_lines,1):\n",
    "    print(\"x = \",x[i],\" y = \",y[i])\n",
    "# now the actual integration\n",
    "accumulated_area = 0 # an accumulator\n",
    "for i in range(0,how_many_lines-1,1): #index stops at n-1 things because each panel evaluated at both ends\n",
    "    delta_x = x[i+1]-x[i]\n",
    "    height =(y[i+1]+y[i])/2.0\n",
    "    accumulated_area += height*delta_x\n",
    "print(\"Area = \",accumulated_area)  # report the result"
   ]
  },
  {
   "cell_type": "markdown",
   "metadata": {},
   "source": [
    "Realistically the only other simple integration method for tabular data is the rectangular rule, either using the left edge of a panel or the right edge of a panel (and I suppose you could do both and average the result which would be the trapezoidal method)."
   ]
  },
  {
   "cell_type": "markdown",
   "metadata": {},
   "source": [
    "## Exercises\n",
    "\n",
    "1)  Approximate $\\int_0^2 f(x) dx$ from the tabulation in the Table below:\n",
    "   \n",
    "    x     f(x)\n",
    "    0.00  1.0000 \n",
    "    0.12  0.8869 \n",
    "    0.53  0.5886 \n",
    "    0.87  0.4190 \n",
    "    1.08  0.3396 \n",
    "    1.43  0.2393 \n",
    "    2.00  0.1353 "
   ]
  },
  {
   "cell_type": "code",
   "execution_count": 25,
   "metadata": {},
   "outputs": [],
   "source": [
    "#"
   ]
  },
  {
   "cell_type": "markdown",
   "metadata": {},
   "source": [
    "2) The table below is a tabulation of various values of the hyperbolic cosine function. \n",
    "\n",
    "    x     cosh(x)\n",
    "    1.0  1.54308063481524  \n",
    "    1.1   1.66851855382226  \n",
    "    1.2   1.81065556732437  \n",
    "    1.3   1.97091423032663  \n",
    "    1.4   2.15089846539314  \n",
    "    1.5   2.35240961524325  \n",
    "    1.6   2.57746447119489  \n",
    "    1.7   2.82831545788997  \n",
    "    1.8   3.10747317631727  \n",
    "    2.0   3.76219569108363  \n",
    "    2.2   4.56790832889823  \n",
    "    2.4   5.55694716696551  \n",
    "    2.6   6.76900580660801  \n",
    "    2.8   8.25272841686113  \n",
    "    3.0   10.0676619957778  \n",
    "    3.3   13.5747610440296  \n",
    "    3.6   18.3127790830626  \n",
    "    3.9   24.711345508488  \n",
    "    4.2   33.3506633088728  \n",
    "    4.6   49.7471837388392  \n",
    "    5.0   74.2099485247878  \n",
    "    5.5   122.348009517829  \n",
    "    6.0   201.715636122456  \n",
    "    7.0   548.317035155212  \n",
    "    8.0   1490.47916125218  \n",
    "    9.0   4051.54202549259  \n",
    "\n",
    "Approximate $\\int_1^{9.0} cosh(x) dx$ from the tabulation above."
   ]
  },
  {
   "cell_type": "code",
   "execution_count": 26,
   "metadata": {},
   "outputs": [],
   "source": [
    "#"
   ]
  },
  {
   "cell_type": "markdown",
   "metadata": {},
   "source": [
    "3) The table below is a tabulation of various values of the hyperbolic cosine function. \n",
    "\n",
    "    x     cosh(x)\n",
    "    1.0  1.54308063481524  \n",
    "    1.1   1.66851855382226  \n",
    "    1.2   1.81065556732437  \n",
    "    1.3   1.97091423032663  \n",
    "    1.4   2.15089846539314  \n",
    "    1.5   2.35240961524325  \n",
    "    1.6   2.57746447119489  \n",
    "    1.7   2.82831545788997  \n",
    "    1.8   3.10747317631727  \n",
    "    2.0   3.76219569108363  \n",
    "    2.2   4.56790832889823  \n",
    "    2.4   5.55694716696551  \n",
    "    2.6   6.76900580660801  \n",
    "    2.8   8.25272841686113  \n",
    "    3.0   10.0676619957778  \n",
    "    3.3   13.5747610440296  \n",
    "    3.6   18.3127790830626  \n",
    "    3.9   24.711345508488  \n",
    "    4.2   33.3506633088728  \n",
    "    4.6   49.7471837388392  \n",
    "    5.0   74.2099485247878  \n",
    "    5.5   122.348009517829  \n",
    "    6.0   201.715636122456  \n",
    "    7.0   548.317035155212  \n",
    "    8.0   1490.47916125218  \n",
    "    9.0   4051.54202549259  \n",
    "    \n",
    "Approximate $\\int_1^{4.2} cosh(x) dx$ from the tabulation above.  Briefly explain how you handle starting and stopping the integration from values that are intermediate and are tabulated."
   ]
  },
  {
   "cell_type": "code",
   "execution_count": 27,
   "metadata": {
    "collapsed": false,
    "jupyter": {
     "outputs_hidden": false
    }
   },
   "outputs": [],
   "source": [
    "#"
   ]
  },
  {
   "cell_type": "markdown",
   "metadata": {},
   "source": [
    "4) (Advanced) The table below is a tabulation of various values of the hyperbolic cosine function. \n",
    "\n",
    "    x     cosh(x)\n",
    "    1.0  1.54308063481524  \n",
    "    1.1   1.66851855382226  \n",
    "    1.2   1.81065556732437  \n",
    "    1.3   1.97091423032663  \n",
    "    1.4   2.15089846539314  \n",
    "    1.5   2.35240961524325  \n",
    "    1.6   2.57746447119489  \n",
    "    1.7   2.82831545788997  \n",
    "    1.8   3.10747317631727  \n",
    "    2.0   3.76219569108363  \n",
    "    2.2   4.56790832889823  \n",
    "    2.4   5.55694716696551  \n",
    "    2.6   6.76900580660801  \n",
    "    2.8   8.25272841686113  \n",
    "    3.0   10.0676619957778  \n",
    "    3.3   13.5747610440296  \n",
    "    3.6   18.3127790830626  \n",
    "    3.9   24.711345508488  \n",
    "    4.2   33.3506633088728  \n",
    "    4.6   49.7471837388392  \n",
    "    5.0   74.2099485247878  \n",
    "    5.5   122.348009517829  \n",
    "    6.0   201.715636122456  \n",
    "    7.0   548.317035155212  \n",
    "    8.0   1490.47916125218  \n",
    "    9.0   4051.54202549259  \n",
    "\n",
    "Approximate $\\int_1^{4.0} cosh(x) dx$ from the tabulation above.  Explain how handled working with values that fall between tabulated values."
   ]
  },
  {
   "cell_type": "code",
   "execution_count": 28,
   "metadata": {},
   "outputs": [],
   "source": [
    "# "
   ]
  },
  {
   "cell_type": "markdown",
   "metadata": {},
   "source": [
    "# References\n",
    "- [https://rstudio-pubs-static.s3.amazonaws.com/286315_f00cf07beb3945d2a0260d6eaecb5d36.html](https://rstudio-pubs-static.s3.amazonaws.com/286315_f00cf07beb3945d2a0260d6eaecb5d36.html)\n",
    "\n",
    "- Lagrangian Interpolation (Video) [https://www.youtube.com/watch?v=_zK_KhHW6og](https://www.youtube.com/watch?v=_zK_KhHW6og)\n",
    "\n",
    "- Lagrange Polynomials [https://en.wikipedia.org/wiki/Lagrange_polynomial](https://en.wikipedia.org/wiki/Lagrange_polynomial)"
   ]
  },
  {
   "cell_type": "code",
   "execution_count": null,
   "metadata": {},
   "outputs": [],
   "source": []
  }
 ],
 "metadata": {
  "kernelspec": {
   "display_name": "Python 3",
   "language": "python",
   "name": "python3"
  },
  "language_info": {
   "codemirror_mode": {
    "name": "ipython",
    "version": 3
   },
   "file_extension": ".py",
   "mimetype": "text/x-python",
   "name": "python",
   "nbconvert_exporter": "python",
   "pygments_lexer": "ipython3",
   "version": "3.8.10"
  }
 },
 "nbformat": 4,
 "nbformat_minor": 4
}
