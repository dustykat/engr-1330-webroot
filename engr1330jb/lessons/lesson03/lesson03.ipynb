{
 "cells": [
  {
   "cell_type": "code",
   "execution_count": null,
   "metadata": {},
   "outputs": [],
   "source": []
  },
  {
   "cell_type": "code",
   "execution_count": null,
   "metadata": {},
   "outputs": [],
   "source": []
  },
  {
   "cell_type": "markdown",
   "metadata": {},
   "source": [
    "<div class=\"alert alert-block alert-info\">\n",
    "    <b><h1>ENGR 1330 Computational Thinking with Data Science </h1></b> \n",
    "</div> \n",
    "\n",
    "Copyright © 2021 Theodore G. Cleveland and Farhang Forghanparast\n",
    "\n",
    "Last GitHub Commit Date: 4 Jan 22\n",
    "    \n",
    "# 3: Data Types and Typecasting \n",
    "- integer\n",
    "- float\n",
    "- string\n",
    "- boolean\n",
    "- String functions and operations\n",
    "- How to Build a Notebook (Another look at problem solving)"
   ]
  },
  {
   "cell_type": "markdown",
   "metadata": {},
   "source": [
    "## Data Type\n",
    "In the computer data are all binary digits (actually 0 and +5 volts). \n",
    "At a higher level of **abstraction** data are typed into integers, real, or alphanumeric representation. \n",
    "The type affects the kind of arithmetic operations that are allowed (as well as the kind of arithmetic - integer versus real arithmetic; lexicographical ordering of alphanumeric , etc.)\n",
    "In scientific programming, a common (and really difficult to detect) source of slight inaccuracies (that tend to snowball as the program runs) is mixed mode arithmetic required because two numeric values are of different types (integer and real).\n",
    "\n",
    "Learn more from the textbook\n",
    "\n",
    "[https://www.inferentialthinking.com/chapters/04/Data_Types.html](https://www.inferentialthinking.com/chapters/04/Data_Types.html)\n",
    "\n",
    "Here we present a quick summary\n",
    "\n",
    "### Integer\n",
    "Integers are numbers without any fractional portion (nothing after the decimal point { which\n",
    "is not used in integers). Numbers like -3, -2, -1, 0, 1, 2, 200 are integers. A number like 1.1\n",
    "is not an integer, and 1.0 is also not an integer (the presence of the decimal point makes the\n",
    "number a real).\n",
    "\n",
    "To declare an integer in Python, just assign the variable name to an integer for example\n",
    "\n",
    "    MyPhoneNumber = 14158576309\n",
    "    \n",
    "### Real (Float)\n",
    "A real or float is a number that has (or can have) a fractional portion - the number has\n",
    "decimal parts. The numbers 3.14159, -0.001, 11.11, 1., are all floats. \n",
    "The last one is especially tricky, if you don't notice the decimal point you might think it is an integer but the\n",
    "inclusion of the decimal point in Python tells the program that the value is to be treated as a \n",
    "float.\n",
    "To declare a \n",
    "float in Python, just assign the variable name to a \n",
    "float for example\n",
    "\n",
    "    MyMassInKilos = 74.8427\n",
    "\n",
    "### String(Alphanumeric)\n",
    "A string is a data type that is treated as text elements. The usual letters are strings, but\n",
    "numbers can be included. The numbers in a string are simply characters and cannot be\n",
    "directly used in arithmetic. \n",
    "There are some kinds of arithmetic that can be performed on strings but generally we process string variables to capture the text nature of their contents. \n",
    "To declare a string in Python, just assign the variable name to a string value - the trick is the value is enclosed in quotes. \n",
    "The quotes are delimiters that tell the program that the characters between the quotes are characters and are to be treated as literal representation.\n",
    "\n",
    "For example\n",
    "\n",
    "    MyName = 'Theodore'\n",
    "    MyCatName = \"Dusty\"\n",
    "    DustyMassInKilos = \"7.48427\"\n",
    "    \n",
    "are all string variables. \n",
    "The last assignment is made a string on purpose. \n",
    "String variables can be combined using an operation called concatenation. \n",
    "The symbol for concatenation is the plus symbol `+`.\n",
    "\n",
    "Strings can also be converted to all upper case using the `upper()` function. The syntax for\n",
    "the `upper()` function is `'string to be upper case'.upper()`. \n",
    "Notice the \"dot\" in the syntax. \n",
    "The operation passes everything to the left of the dot to the function which then\n",
    "operates on that content and returns the result all upper case (or an error if the input stream\n",
    "is not a string)."
   ]
  },
  {
   "cell_type": "code",
   "execution_count": 34,
   "metadata": {},
   "outputs": [
    {
     "name": "stdout",
     "output_type": "stream",
     "text": [
      "All about me\n",
      "Name:  Theodore  Mass : 74.8427 Kg\n",
      "Phone :  14158576309\n",
      "My cat's name : Dusty\n",
      "All about concatenation!\n",
      "A Silly String :  DustyTheodore7.48427\n",
      "A SILLY STRING :   DUSTYTHEODORE7.48427\n"
     ]
    }
   ],
   "source": [
    "# Variable Types Example\n",
    "MyPhoneNumber = 14158576309\n",
    "MyMassInKilos = 74.8427\n",
    "MyName = 'Theodore'\n",
    "MyCatName = \"Dusty\"\n",
    "DustyMassInKilos = \"7.48427\"\n",
    "print(\"All about me\")\n",
    "print(\"Name: \",MyName, \" Mass :\",MyMassInKilos,\"Kg\" )\n",
    "print('Phone : ',MyPhoneNumber)\n",
    "print('My cat\\'s name :', MyCatName)  # the \\ escape character is used to get the ' into the literal\n",
    "print(\"All about concatenation!\")\n",
    "print(\"A Silly String : \",MyCatName+MyName+DustyMassInKilos)\n",
    "print(\"A SILLY STRING :  \", (MyCatName+MyName+DustyMassInKilos).upper())"
   ]
  },
  {
   "cell_type": "markdown",
   "metadata": {},
   "source": [
    "Strings can be formatted using the `%` operator or the `format()` function. The concepts will\n",
    "be introduced later on as needed in the workbook, you can Google search for examples of\n",
    "how to do such formatting.\n",
    "\n",
    "### Boolean (Logical) \n",
    "\n",
    "Python boolean type is one of the built-in data types provided by Python, which represents one of the two values i.e. True or False. Generally, it is used to represent the truth values of the expressions.  The boolean value can be of two types only i.e. either True or False. The output <class ‘bool’> indicates the variable is a boolean data type."
   ]
  },
  {
   "cell_type": "code",
   "execution_count": 5,
   "metadata": {},
   "outputs": [
    {
     "data": {
      "text/plain": [
       "True"
      ]
     },
     "execution_count": 5,
     "metadata": {},
     "output_type": "execute_result"
    }
   ],
   "source": [
    "1 == 1"
   ]
  },
  {
   "cell_type": "code",
   "execution_count": 4,
   "metadata": {},
   "outputs": [
    {
     "data": {
      "text/plain": [
       "False"
      ]
     },
     "execution_count": 4,
     "metadata": {},
     "output_type": "execute_result"
    }
   ],
   "source": [
    "2 < 1"
   ]
  },
  {
   "cell_type": "code",
   "execution_count": 6,
   "metadata": {},
   "outputs": [
    {
     "data": {
      "text/plain": [
       "bool"
      ]
     },
     "execution_count": 6,
     "metadata": {},
     "output_type": "execute_result"
    }
   ],
   "source": [
    "type(1 == 1)"
   ]
  },
  {
   "cell_type": "markdown",
   "metadata": {},
   "source": [
    "Somewhat less confusing is to assign values to a variable "
   ]
  },
  {
   "cell_type": "code",
   "execution_count": 11,
   "metadata": {},
   "outputs": [
    {
     "name": "stdout",
     "output_type": "stream",
     "text": [
      "<class 'bool'> True\n"
     ]
    }
   ],
   "source": [
    "xx = True\n",
    "print(type(xx),xx) # type function and value of variable"
   ]
  },
  {
   "cell_type": "code",
   "execution_count": 13,
   "metadata": {},
   "outputs": [
    {
     "name": "stdout",
     "output_type": "stream",
     "text": [
      "False\n",
      "False\n",
      "False\n",
      "False\n",
      "False\n",
      "True\n"
     ]
    }
   ],
   "source": [
    "# Python program to illustrate\n",
    "# built-in method bool()\n",
    " \n",
    "# Returns False as x is not equal to y\n",
    "x = 5\n",
    "y = 10\n",
    "print(bool(x==y))\n",
    " \n",
    "# Returns False as x is None\n",
    "x = None\n",
    "print(bool(x))\n",
    " \n",
    "# Returns False as x is an empty sequence\n",
    "x = ()\n",
    "print(bool(x))\n",
    " \n",
    "# Returns False as x is an empty mapping\n",
    "x = {}\n",
    "print(bool(x))\n",
    " \n",
    "# Returns False as x is 0\n",
    "x = 0.0\n",
    "print(bool(x))\n",
    " \n",
    "# Returns True as x is a non empty string\n",
    "x = 'KittyKat'\n",
    "print(bool(x))"
   ]
  },
  {
   "cell_type": "markdown",
   "metadata": {},
   "source": [
    "Numbers can be used as bool values by using Python’s built-in bool() method. Any integer, floating-point number, or complex number having zero as a value is considered as False, while if they are having value as any positive or negative number then it is considered as True.\n",
    "\n",
    "Boolean Operations are simple arithmetic of True and False values. These values can be manipulated by the use of boolean operators which include AND, OR, and NOT. Common boolean operations are \n",
    "\n",
    "- or\n",
    "- and\n",
    "- not\n",
    "- == (equivalent)\n",
    "- != (not equivalent)\n",
    "\n",
    "Boolean are used extensively for program flow control."
   ]
  },
  {
   "cell_type": "markdown",
   "metadata": {},
   "source": [
    "### Changing Types\n",
    "A variable type can be changed. \n",
    "This activity is called type casting. \n",
    "Three functions allow\n",
    "type casting: `int()`, `float()`, and `str()`. \n",
    "The function names indicate the result of using\n",
    "the function, hence `int()` returns an integer, `float()` returns a \n",
    "float, and `str()` returns a\n",
    "string.\n",
    "\n",
    "There is also the useful function `type()` which returns the type of variable.  Some things cannot be re-typed, for example the string \"123IamAcat\" has no integer representation, although the first 3 characters are integer.\n",
    "\n"
   ]
  },
  {
   "cell_type": "code",
   "execution_count": 26,
   "metadata": {},
   "outputs": [
    {
     "name": "stdout",
     "output_type": "stream",
     "text": [
      "<class 'str'>\n",
      "<class 'int'>\n"
     ]
    }
   ],
   "source": [
    "s = \"123IamAcat\"\n",
    "print(type(s))\n",
    "# s = int(s) # this will generate an error, activate and see for yourself\n",
    "# print(type(s))\n",
    "s = int(s[0:2]) #but we can extract characters that are numeric - called slicing the string\n",
    "print(type(s))"
   ]
  },
  {
   "cell_type": "markdown",
   "metadata": {},
   "source": [
    "Some more examples:"
   ]
  },
  {
   "cell_type": "code",
   "execution_count": 35,
   "metadata": {},
   "outputs": [
    {
     "name": "stdout",
     "output_type": "stream",
     "text": [
      "234 876.543 What is your name?\n",
      "Integer as float 234.0\n",
      " as integer 234\n",
      "Integer as string 234\n",
      "Integer as hexadecimal 0xea\n",
      "Integer Type <class 'int'>\n"
     ]
    }
   ],
   "source": [
    "# Type Casting Examples\n",
    "MyInteger = 234\n",
    "MyFloat = 876.543\n",
    "MyString = 'What is your name?'\n",
    "print(MyInteger,MyFloat,MyString)\n",
    "print('Integer as float',float(MyInteger))\n",
    "print(' as integer',int(MyInteger))\n",
    "print('Integer as string',str(MyInteger))\n",
    "print('Integer as hexadecimal',hex(MyInteger))\n",
    "print('Integer Type',type((MyInteger)))  # insert the hex conversion and see what happens!"
   ]
  },
  {
   "cell_type": "markdown",
   "metadata": {},
   "source": [
    "## How to Build a Program/Notebook\n",
    "\n",
    "Recall our suggested problem solving protocol:\n",
    "\n",
    "1. Explicitly state the problem\n",
    "2. State the input information, governing equations or principles, and the required output information.\n",
    "3. Work a sample problem by-hand for testing the general solution.\n",
    "4. Develop a general solution method (coding).\n",
    "5. Test the general solution against the by-hand example, then apply to the real problem.\n",
    "6. Refine general solution for deployment (frequent use)\n",
    "\n",
    "The protocol below is shamelessly lifted from [http://users.csc.calpoly.edu/~jdalbey/101/Lectures/HowToBuildAProgram.html](http://users.csc.calpoly.edu/~jdalbey/101/Lectures/HowToBuildAProgram.html) here we are using the concept of program and notebook as the same thing.\n",
    "\n",
    "Building a program is not an art, it is an engineering process.  As such there is a process to follow with clearly defined steps.  \n",
    "\n",
    "### Analysis (Understand the Requirements)\n",
    "\n",
    "In this class you will usually be given the problem requirements, unlike the real-world where you have to elicit the requirements from a customer.  For you the first step will be to read the problem and be sure you understand what the program must do.  Summarize your understanding by writing the Input data, Output data, and Functions (operations or transformation on the data). In the context of our (WCOE) protocol this step comprises Steps 1 and 2.\n",
    "\n",
    "### Create a Test Plan\n",
    "\n",
    "You must be able to verify that your program works correctly once it is written.  Invent some actual input data values and manually compute the expected result.  In the context of our (WCOE) protocol this step comprises Steps 3.\n",
    "\n",
    "### Invent a Solution\n",
    "\n",
    "This is the creative, exploratory part of design where you figure out how to solve the problem.  Here is one strategy:\n",
    "\n",
    "- Solve the problem manually, the way you would do it as a human. Pay careful to attention what operations you perform and write down each step.\n",
    "- Look for a pattern in the steps you performed. \n",
    "- Determine how this pattern could be automated using the 3 algorithm building blocks (which we learn about a few lectures from now) (Sequence, Selection, Iteration).\n",
    "\n",
    "### Design (Formalize your solution)\n",
    "\n",
    "Arrange your solution into components; this is called the architecture.\n",
    "Write the algorithm for each component.  Refine your algorithm in a step-wise manner if necessary.\n",
    "Determine the data types and constraints for each data item.\n",
    "Review\n",
    "\n",
    "Perform a hand trace of your solution and simulate how the computer will carry out your algorithm.  Make sure your algorithm works correctly before you put it into the computer.\n",
    "\n",
    "### Implementation (coding)\n",
    "\n",
    "Translate your algorithm into a programming language and enter it into the computer.  \n",
    "Compile your source code to produce an executable program.\n",
    "You may want to compile and test each subprogram individually before combining them into a complete program.\n",
    "\n",
    "### Testing\n",
    "\n",
    "Execute the program using the Test Plans you created above.\n",
    "Correct any errors as necessary."
   ]
  },
  {
   "cell_type": "markdown",
   "metadata": {},
   "source": [
    "### Example of Problem Solving Process\n",
    "\n",
    "Consider an engineering material problem. \n",
    "\n",
    "```{figure} StressStrain.png\n",
    "---\n",
    "width: 500px\n",
    "name: StressStrain\n",
    "---\n",
    "Schematic of slender rod deformation under an applied load\n",
    "```\n",
    "{numref}`StressStrain` is a schematic of a situation where we wish to **classify** whether a material is loaded in the elastic or inelastic region as determined the stress (solid pressure) in a rod for some applied load.  The yield stress is the **classifier**, and once the material yields (begins to fail) it will not carry any additional load (until ultimate failure, when it carries no load).\n",
    "\n",
    "Following our problem solving protocol:\n",
    "\n",
    "**Step 1.** Compute the material stress under an applied load; determine if value exceedes yield stress, and report the loading condition\n",
    "\n",
    "**Step 2.** \n",
    "- Inputs: applied load, cross sectional area, yield stress\n",
    "- Governing equation: $\\sigma = \\frac{P}{A}$ when $\\frac{P}{A}$ is less than the yield stress, and is equal to the yield stress otherwise.\n",
    "- Outputs: The material stress $\\sigma$, and the classification elastic or inelastic.\n",
    "\n",
    "**Step 3.** Work a sample problem by-hand for testing the general solution.\n",
    "\n",
    "Assuming the yield stress is 1 million psi (units matter in an actual problem - kind of glossed over here)\n",
    "\n",
    "|Applied Load (lbf)|Cross Section Area (sq.in.)|Stress (psi)|Classification|\n",
    "|---:|---:|---:|---:|\n",
    "|10,000|1.0|10,000|Elastic|\n",
    "|10,000|0.1|100,000|Elastic|\n",
    "|100,000|0.1|1,000,000|Inelastic|\n",
    "\n",
    "\n",
    "The stress requires us to read in the load value, read in the cross sectional area, divide the load by the area, and compare the result to the yield stress.  If it exceeds the yield stress, then the actual stress is the yield stress, and the loading is inelastic, otherwise elastic\n",
    "\n",
    "$$ \\sigma = \\frac{P}{A} $$\n",
    "$$ \\text{If}~ \\sigma >= \\text{Yield Stress then report Inelastic} $$\n",
    "\n",
    "**Step 4.** Develop a general solution (code)\n",
    "\n",
    "{numref}`Flowchart` is a flow-chart for this problem.\n",
    "\n",
    "```{figure} Flowchart.png\n",
    "---\n",
    "width: 400px\n",
    "name: Flowchart\n",
    "---\n",
    "Flowchart for load classification\n",
    "```\n",
    "+\n",
    "An alternative would be some kind of psuedocode for the problem.\n",
    "\n",
    "**Step 5.** This step we would code the algorithm expressed in the figure and test it with the by-hand data and other small datasets until we are convinced it works correctly. We have not yet learned prompts to get input we simply direct assign values as below (and the conditional execution is the subject of a later lesson)\n",
    "\n",
    "In a simple JupyterLab script"
   ]
  },
  {
   "cell_type": "code",
   "execution_count": 1,
   "metadata": {},
   "outputs": [
    {
     "name": "stdout",
     "output_type": "stream",
     "text": [
      "Inelastic Region: Stress =  1000000.0\n"
     ]
    }
   ],
   "source": [
    "# Example 2 Problem Solving Process\n",
    "yield_stress = 1e6\n",
    "applied_load = 1e5\n",
    "cross_section = 0.1\n",
    "computed_stress = applied_load/cross_section\n",
    "if(computed_stress < yield_stress):\n",
    "    print(\"Elastic Region: Stress = \",computed_stress)\n",
    "elif(computed_stress >= yield_stress):\n",
    "    print(\"Inelastic Region: Stress = \",yield_stress)"
   ]
  },
  {
   "cell_type": "markdown",
   "metadata": {},
   "source": [
    "**Step 6.** This step we would refine the code to generalize the algorithm.  In the example we want a way to supply the inputs by user entry,and tidy the output by rounding to only two decimal places.  A little CCMR from [https://www.geeksforgeeks.org/taking-input-in-python/](https://www.geeksforgeeks.org/taking-input-in-python/) gives us a way to deal with the inputs and typecasting.  Some more CCMR from [https://www.programiz.com/python-programming/methods/built-in/round](https://www.programiz.com/python-programming/methods/built-in/round) gets us rounded out!"
   ]
  },
  {
   "cell_type": "markdown",
   "metadata": {},
   "source": [
    ":::{note} \n",
    "The code cell below contains interactive components, which will not compile into the Jupyter Book, so they are left for the reader to cut-and-paste.  We will demonstrate in class how these work.\n",
    ":::"
   ]
  },
  {
   "cell_type": "markdown",
   "metadata": {},
   "source": [
    "```\n",
    "# Example 2 Problem Solving Process\n",
    "yield_stress = float(input('Yield Stress (psi)'))\n",
    "applied_load = float(input('Applied Load (lbf)'))\n",
    "cross_section = float(input('Cross Section Area (sq.in.)'))\n",
    "computed_stress = applied_load/cross_section\n",
    "if(computed_stress < yield_stress):\n",
    "    print(\"Elastic Region: Stress = \",round(computed_stress,2))\n",
    "elif(computed_stress >= yield_stress):\n",
    "    print(\"Inelastic Region: Stress = \",round(yield_stress,2))\n",
    "    \n",
    "```"
   ]
  },
  {
   "cell_type": "markdown",
   "metadata": {},
   "source": [
    "So the simple task of computing the stress, is a bit more complex when decomposed, that it first appears, but illustrates a five step process (with a refinement step), and we have done our first **classification** problem, albeit a very simple case!"
   ]
  },
  {
   "cell_type": "markdown",
   "metadata": {},
   "source": [
    "## References"
   ]
  },
  {
   "cell_type": "markdown",
   "metadata": {},
   "source": [
    "1. Computational and Inferential Thinking Ani Adhikari and John DeNero, Computational and Inferential Thinking, The Foundations of Data Science, Creative Commons Attribution-NonCommercial-NoDerivatives 4.0 International (CC BY-NC-ND) Chapter 4 [https://www.inferentialthinking.com/chapters/04/Data_Types.html](https://www.inferentialthinking.com/chapters/04/Data_Types.html)\n",
    "\n",
    "3. Learn Python in One Day and Learn It Well. Python for Beginners with Hands-on Project. (Learn Coding Fast with Hands-On Project Book -- Kindle Edition by LCF Publishing (Author), Jamie Chan [https://www.amazon.com/Python-2nd-Beginners-Hands-Project-ebook/dp/B071Z2Q6TQ/ref=sr_1_3?dchild=1&keywords=learn+python+in+a+day&qid=1611108340&sr=8-3](https://www.amazon.com/Python-2nd-Beginners-Hands-Project-ebook/dp/B071Z2Q6TQ/ref=sr_1_3?dchild=1&keywords=learn+python+in+a+day&qid=1611108340&sr=8-3)"
   ]
  },
  {
   "cell_type": "markdown",
   "metadata": {},
   "source": [
    "---\n",
    "\n",
    "## Laboratory 3\n",
    "\n",
    "**Examine** (click) Laboratory 0 as a webpage at [Laboratory 3.html](http://54.243.252.9/engr-1330-webroot/8-Labs/Lab03/Lab03.html)\n",
    "\n",
    "**Download** (right-click, save target as ...) Laboratory 0 as a jupyterlab notebook from [Laboratory 3.ipynb](http://54.243.252.9/engr-1330-webroot/8-Labs/Lab03/Lab03.ipynb)\n"
   ]
  },
  {
   "cell_type": "markdown",
   "metadata": {},
   "source": [
    "<hr><hr>\n",
    "\n",
    "## Exercise Set 3\n",
    "\n",
    "**Examine** (click) Exercise Set 0 as a webpage at [Exercise 3.html](http://54.243.252.9/engr-1330-webroot/8-Labs/Lab03/Lab03-TH.html)\n",
    "\n",
    "**Download** (right-click, save target as ...) Exercise Set 0 as a jupyterlab notebook at  [Exercise Set 3.ipynb](http://54.243.252.9/engr-1330-webroot/8-Labs/Lab03/Lab03-TH.ipynb)\n",
    "\n"
   ]
  },
  {
   "cell_type": "code",
   "execution_count": null,
   "metadata": {},
   "outputs": [],
   "source": []
  }
 ],
 "metadata": {
  "kernelspec": {
   "display_name": "Python 3",
   "language": "python",
   "name": "python3"
  },
  "language_info": {
   "codemirror_mode": {
    "name": "ipython",
    "version": 3
   },
   "file_extension": ".py",
   "mimetype": "text/x-python",
   "name": "python",
   "nbconvert_exporter": "python",
   "pygments_lexer": "ipython3",
   "version": "3.8.10"
  }
 },
 "nbformat": 4,
 "nbformat_minor": 4
}
