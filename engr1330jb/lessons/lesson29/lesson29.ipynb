{
 "cells": [
  {
   "cell_type": "markdown",
   "metadata": {},
   "source": [
    "<div class=\"alert alert-block alert-info\">\n",
    "    <b><h1>ENGR 1330 Computational Thinking with Data Science </h1></b> \n",
    "</div> \n",
    "\n",
    "Copyright © 2021 Theodore G. Cleveland and Farhang Forghanparast\n",
    "\n",
    "Last GitHub Commit Date: \n",
    "    \n",
    "# 29: Multiple Linear Regression\n",
    "- Multiple predictors\n",
    "- Homebrew using Matrix Algebra\n",
    "- Using `statsmodel`\n",
    "- Interpreting results, is a predictor useful?"
   ]
  },
  {
   "cell_type": "markdown",
   "metadata": {},
   "source": [
    "## Multiple Linear Regression\n",
    "\n",
    "*What Is Multiple Linear Regression (MLR)?*\n",
    "\n",
    "Multiple linear regression (MLR), also known simply as multiple regression, is a statistical technique that uses several explanatory variables to predict the outcome of a response variable. The goal of multiple linear regression is to model the linear relationship between the explanatory (independent) variables and response (dependent) variables. In essence, multiple regression is the extension of ordinary least-squares (OLS) regression because it involves more than one explanatory variable.\n",
    "\n",
    ":::{admonition} Key Takeaways\n",
    ":class: tip\n",
    "- Multiple linear regression (MLR), also known simply as multiple regression, is a statistical technique that uses several explanatory variables to predict the outcome of a response variable.\n",
    "- Multiple regression is an extension of linear (OLS) regression that uses just one explanatory variable.\n",
    "- MLR is used extensively in engineering, econometrics, medical, and financial inference."
   ]
  },
  {
   "cell_type": "markdown",
   "metadata": {},
   "source": [
    " Formula and Calculation of Multiple Linear Regression\n",
    "\n",
    "The MLR formula is:\n",
    "\n",
    "$y_i=\\beta_0+\\beta_1 x_{i,1}+\\beta_2 x_{i,2} + \\dots + \\beta_p x_{i,p} + \\epsilon_i$\n",
    "\n",
    "where, \n",
    "\n",
    "$\\begin{aligned}\n",
    "&\\text{for } i = n \\text{ observations:}\\\\\n",
    "&y_i=\\text{dependent variable}\\\\\n",
    "&x_i=\\text{explanatory variables}\\\\\n",
    "&\\beta_0=\\text{y-intercept (constant term)}\\\\\n",
    "&\\beta_p=\\text{slope coefficients for each explanatory variable}\\\\\n",
    "&\\epsilon=\\text{the model's error term (also known as the residuals)}\n",
    "&\\end{aligned}$\n",
    "    \n",
    "Simple linear regression (we have already examined) is a function that allows us to make predictions about one variable (the dependent or response variable) based on the information that is known about another variable (the independent or predictor variable). \n",
    "Linear regression is only used when one has two continuous variables — an independent variable and a dependent variable. \n",
    "The independent variable is the parameter that is used to calculate the dependent variable or outcome. \n",
    "\n",
    "A multiple regression model extends to several explanatory variables.\n",
    "\n",
    "The multiple regression model is based on the following assumptions: \n",
    "\n",
    "1. There is a linear relationship between the dependent variables and the independent variables\n",
    "2. The independent variables are not too highly correlated with each other\n",
    "3. $y_i$ observations are selected independently and randomly from the population\n",
    "4. The residuals should be normally distributed with a mean of 0 and variance $\\sigma$\n",
    "\n",
    "We can test condition 4 using the hypothesis tests we already examined, and we can test conjecture 2 using the correlation matrix methods from earlier. Conjecture 1 we will examine by plotting, and 3 we are kind of stuck with (unless we know its not true).\n",
    "\n",
    "The coefficient of determination (R-squared) is a statistical metric that is used to measure how much of the variation in outcome can be explained by the variation in the independent variables. R$^2$ always increases as more predictors are added to the MLR model, even though the predictors may not be related to the outcome variable.\n",
    "\n",
    "Thus R$^2$ by itself can't thus be used to identify which predictors should be included in a model and which should be excluded. R$^2$ can only be between 0 and 1, where 0 indicates that the outcome cannot be predicted by any of the independent variables and 1 indicates that the outcome can be predicted without error from the independent variables.\n",
    "\n",
    "Generally we assess the value of a coefficient ($\\beta_i$) based on its interval estimate in the output table, if that interval includes 0 we might decide its a useless variable and drop it from the regression, reanalyze with fewer variables.\n"
   ]
  },
  {
   "cell_type": "markdown",
   "metadata": {},
   "source": [
    "### Homebrew using Linear Algebra\n",
    "\n",
    "Consider the example below.\n",
    "\n",
    ":::{note}\n",
    "The first part is just the linear solver script and support functions, these are copy-paste from prior lessons\n",
    ":::"
   ]
  },
  {
   "cell_type": "code",
   "execution_count": 28,
   "metadata": {},
   "outputs": [],
   "source": [
    "# linearsolver with pivoting adapted from \n",
    "# https://stackoverflow.com/questions/31957096/gaussian-elimination-with-pivoting-in-python/31959226\n",
    "def linearsolver(A,b):\n",
    "    n = len(A)\n",
    "    M = A\n",
    "\n",
    "    i = 0\n",
    "    for x in M:\n",
    "     x.append(b[i])\n",
    "     i += 1\n",
    "# row reduction with pivots\n",
    "    for k in range(n):\n",
    "     for i in range(k,n):\n",
    "       if abs(M[i][k]) > abs(M[k][k]):\n",
    "          M[k], M[i] = M[i],M[k]\n",
    "       else:\n",
    "          pass\n",
    "\n",
    "     for j in range(k+1,n):\n",
    "         q = float(M[j][k]) / M[k][k]\n",
    "         for m in range(k, n+1):\n",
    "            M[j][m] -=  q * M[k][m]\n",
    "# allocate space for result\n",
    "    x = [0 for i in range(n)]\n",
    "# back-substitution\n",
    "    x[n-1] =float(M[n-1][n])/M[n-1][n-1]\n",
    "    for i in range (n-1,-1,-1):\n",
    "      z = 0\n",
    "      for j in range(i+1,n):\n",
    "          z = z  + float(M[i][j])*x[j]\n",
    "      x[i] = float(M[i][n] - z)/M[i][i]\n",
    "# return result\n",
    "    return(x)\n",
    "#######\n",
    "# matrix multiply script\n",
    "def mmult(amatrix,bmatrix,rowNumA,colNumA,rowNumB,colNumB):\n",
    "    result_matrix = [[0 for j in range(colNumB)] for i in range(rowNumA)]\n",
    "    for i in range(0,rowNumA):\n",
    "        for j in range(0,colNumB):\n",
    "            for k in range(0,colNumA):\n",
    "                result_matrix[i][j]=result_matrix[i][j]+amatrix[i][k]*bmatrix[k][j]\n",
    "    return(result_matrix)\n",
    "# matrix vector multiply script\n",
    "def mvmult(amatrix,bvector,rowNumA,colNumA):\n",
    "    result_v = [0 for i in range(rowNumA)]\n",
    "    for i in range(0,rowNumA):\n",
    "        for j in range(0,colNumA):\n",
    "                result_v[i]=result_v[i]+amatrix[i][j]*bvector[j]\n",
    "    return(result_v)\n",
    "def myline(slope,intercept,value1,value2):\n",
    "    '''Returns a tuple ([x1,x2],[y1,y2]) from y=slope*value+intercept'''\n",
    "    listy = [] \n",
    "    listx = []\n",
    "    listx.append(value1)\n",
    "    listx.append(value2)\n",
    "    listy.append(slope*listx[0]+intercept)\n",
    "    listy.append(slope*listx[1]+intercept)\n",
    "    return(listx,listy)\n",
    "def makeAbear(xvalues,yvalues,xleft,yleft,xright,yright,xlab,ylab,title):\n",
    "# plotting function dependent on matplotlib installed above \n",
    "# xvalues, yvalues == data pairs to scatterplot; FLOAT\n",
    "# xleft,yleft == left endpoint line to draw; FLOAT\n",
    "# xright,yright == right endpoint line to draw; FLOAT\n",
    "# xlab,ylab == axis labels, STRINGS!!\n",
    "# title == Plot title, STRING\n",
    "    import matplotlib.pyplot \n",
    "    matplotlib.pyplot.scatter(xvalues,yvalues)\n",
    "    matplotlib.pyplot.plot([xleft, xright], [yleft, yright], 'k--', lw=2, color=\"red\")\n",
    "    matplotlib.pyplot.xlabel(xlab)\n",
    "    matplotlib.pyplot.ylabel(ylab)\n",
    "    matplotlib.pyplot.title(title)\n",
    "    matplotlib.pyplot.show()\n",
    "    return"
   ]
  },
  {
   "cell_type": "markdown",
   "metadata": {},
   "source": [
    "Here is the actual example"
   ]
  },
  {
   "cell_type": "code",
   "execution_count": 48,
   "metadata": {},
   "outputs": [
    {
     "data": {
      "image/png": "[encoded data removed]",
      "text/plain": [
       "<Figure size 432x288 with 1 Axes>"
      ]
     },
     "metadata": {
      "needs_background": "light"
     },
     "output_type": "display_data"
    }
   ],
   "source": [
    "# Make two lists\n",
    "yyy = [0,0,1,1,1.5,0.55,0.57,0.56,1.5,1.6,1.61,1.2,1.1,0.22,0.27,0.33]\n",
    "xxx = [-2,-1,0,1,2,-.5,-.4,-.3,1.5,1.7,1.9,0.55,0.57,-1.99,-1.66,-1.22]\n",
    "slope = 0.5  #0.129\n",
    "intercept = 1  # 22.813\n",
    "xlow = -3\n",
    "xhigh = 3\n",
    "object = myline(slope,intercept,xlow,xhigh)\n",
    "xone = object[0][0]; xtwo = object[0][1]; yone = object[1][0]; ytwo = object[1][1]\n",
    "makeAbear(xxx, yyy,xone,yone,xtwo,ytwo,'xxx','yyy','Plot of Y versus X')"
   ]
  },
  {
   "cell_type": "markdown",
   "metadata": {},
   "source": [
    "Now lets use our linear algebra solver, and also compute SSE from our fitted model."
   ]
  },
  {
   "cell_type": "code",
   "execution_count": 50,
   "metadata": {},
   "outputs": [
    {
     "data": {
      "image/png": "[encoded data removed]",
      "text/plain": [
       "<Figure size 432x288 with 1 Axes>"
      ]
     },
     "metadata": {
      "needs_background": "light"
     },
     "output_type": "display_data"
    }
   ],
   "source": [
    "colNumX=2 #\n",
    "rowNumX=len(xxx)\n",
    "xmatrix = [[1 for j in range(colNumX)]for i in range(rowNumX)]\n",
    "xtransp = [[1 for j in range(rowNumX)]for i in range(colNumX)]\n",
    "yvector = [0 for i in range(rowNumX)]\n",
    "for irow in range(rowNumX):\n",
    "    xmatrix[irow][1]=xxx[irow]\n",
    "    xtransp[1][irow]=xxx[irow]\n",
    "    yvector[irow]   =yyy[irow]\n",
    "xtx = [[0 for j in range(colNumX)]for i in range(colNumX)]\n",
    "xty = []\n",
    "\n",
    "xtx = mmult(xtransp,xmatrix,colNumX,rowNumX,rowNumX,colNumX)\n",
    "xty = mvmult(xtransp,yvector,colNumX,rowNumX)\n",
    "\n",
    "beta = []\n",
    "#solve XtXB = XtY for B\n",
    "beta = linearsolver(xtx,xty) #Solve the linear system\n",
    "\n",
    "\n",
    "sse = 0\n",
    "for irow in range(len(yvector)):\n",
    "    ym=(beta[0]+beta[1]*xxx[irow])\n",
    "    sse = sse + (ym-yvector[irow])**2\n",
    "\n",
    "slope = beta[1] #0.129\n",
    "intercept = beta[0]  # 22.813\n",
    "xlow = -3\n",
    "xhigh = 3\n",
    "object = myline(slope,intercept,xlow,xhigh)\n",
    "xone = object[0][0]; xtwo = object[0][1]; yone = object[1][0]; ytwo = object[1][1]\n",
    "titleline= \"Data model : y = \" + str(round(beta[0],2)) + \" + \" + str(round(beta[1],2)) + \"x \\n SSE = \" + str(round(sse,4))\n",
    "makeAbear(xxx, yyy,xone,yone,xtwo,ytwo,'xxx','yyy',titleline)\n",
    "\n"
   ]
  },
  {
   "cell_type": "markdown",
   "metadata": {},
   "source": [
    "So the model goes through the data (as it should), and the SSE is 0.3998.  How would we determine the RMSE based on our last lesson?"
   ]
  },
  {
   "cell_type": "code",
   "execution_count": 54,
   "metadata": {},
   "outputs": [
    {
     "name": "stdout",
     "output_type": "stream",
     "text": [
      "RMSE =  0.0297\n"
     ]
    }
   ],
   "source": [
    "RMSE = sse/len(yvector)\n",
    "print(\"RMSE = \",round(RMSE,4))"
   ]
  },
  {
   "cell_type": "markdown",
   "metadata": {},
   "source": [
    "So the RMSE is about 0.03.  Keep this in mind.\n",
    "\n",
    "Now lets change to a cubic data model\n",
    "\n",
    "$y_i=\\beta_0+\\beta_1 x_{i}+\\beta_2 x_{i}^2 +  \\beta_3 x_{i}^3 + \\epsilon_i$\n",
    "\n",
    "We already have the code, just need a few added columns (and rows)"
   ]
  },
  {
   "cell_type": "code",
   "execution_count": 57,
   "metadata": {},
   "outputs": [
    {
     "data": {
      "image/png": "[encoded data removed]",
      "text/plain": [
       "<Figure size 720x360 with 1 Axes>"
      ]
     },
     "metadata": {
      "needs_background": "light"
     },
     "output_type": "display_data"
    },
    {
     "name": "stdout",
     "output_type": "stream",
     "text": [
      "RMSE =  0.0195\n"
     ]
    }
   ],
   "source": [
    "colNumX=4 #\n",
    "rowNumX=len(xxx)\n",
    "xmatrix = [[1 for j in range(colNumX)]for i in range(rowNumX)]\n",
    "xtransp = [[1 for j in range(rowNumX)]for i in range(colNumX)]\n",
    "yvector = [0 for i in range(rowNumX)]\n",
    "for irow in range(rowNumX):\n",
    "    xmatrix[irow][1]=xxx[irow]\n",
    "    xmatrix[irow][2]=xxx[irow]**2\n",
    "    xmatrix[irow][3]=xxx[irow]**3\n",
    "    xtransp[1][irow]=xxx[irow]\n",
    "    xtransp[2][irow]=xxx[irow]**2\n",
    "    xtransp[3][irow]=xxx[irow]**3\n",
    "    yvector[irow]   =yyy[irow]\n",
    "xtx = [[0 for j in range(colNumX)]for i in range(colNumX)]\n",
    "xty = []\n",
    "\n",
    "xtx = mmult(xtransp,xmatrix,colNumX,rowNumX,rowNumX,colNumX)\n",
    "xty = mvmult(xtransp,yvector,colNumX,rowNumX)\n",
    "\n",
    "beta = []\n",
    "#solve XtXB = XtY for B\n",
    "beta = linearsolver(xtx,xty) #Solve the linear system\n",
    "howMany = 20\n",
    "xlow = -2\n",
    "xhigh = 2\n",
    "deltax = (xhigh - xlow)/howMany\n",
    "xmodel = []\n",
    "ymodel = []\n",
    "\n",
    "for i in range(howMany+1):\n",
    "    xnow = xlow + deltax*float(i)\n",
    "    xmodel.append(xnow)\n",
    "    ymodel.append(beta[0]+beta[1]*xnow+beta[2]*xnow**2+beta[3]*xnow**3)\n",
    "\n",
    "sse = 0\n",
    "for irow in range(len(yvector)):\n",
    "    ym=(beta[0]+beta[1]*xxx[irow]+beta[2]*xxx[irow]**2+beta[3]*xxx[irow]**3)\n",
    "    sse = sse + (ym-yvector[irow])**2\n",
    "\n",
    "# Now plot the sample values and plotting position\n",
    "import matplotlib.pyplot \n",
    "myfigure = matplotlib.pyplot.figure(figsize = (10,5)) # generate a object from the figure class, set aspect ratio\n",
    "\n",
    "# Built the plot\n",
    "matplotlib.pyplot.scatter(xxx, yyy,  color ='blue') \n",
    "matplotlib.pyplot.plot(xmodel, ymodel,  color ='red') \n",
    "matplotlib.pyplot.ylabel(\"Y\") \n",
    "matplotlib.pyplot.xlabel(\"X\") \n",
    "titleline= \"Data model : y = \" + str(round(beta[0],3)) + \" + \" + str(round(beta[1],3)) + \"x \" + str(round(beta[2],3)) + \"x^2 \" + str(round(beta[3],3)) + \"x^3 \\n SSE = \" + str(round(sse,4))\n",
    "matplotlib.pyplot.title(titleline) \n",
    "matplotlib.pyplot.show()\n",
    "\n",
    "RMSE = sse/len(yvector)\n",
    "print(\"RMSE = \",round(RMSE,4))"
   ]
  },
  {
   "cell_type": "markdown",
   "metadata": {},
   "source": [
    "So what did we gain?  \n",
    "\n",
    "Our RMSE went down (by about 30\\%), but look at the coefficients on the squared and cubic terms, they are an order of magnitude smaller than the intercept, and arguably pretty close to 0, so lets use a proper pakage to investigate.\n",
    "\n",
    ":::{admonition} Examine the $\\beta$'s \n",
    ":class: tip\n",
    "We whould always examine the parameters with the question in mind - are they possibly zero, meaning that variable has no predictive value.  If we are doing homebrew we have a lot of work ahead of us, so in the next section same data different toolkit.\n",
    ":::"
   ]
  },
  {
   "cell_type": "markdown",
   "metadata": {},
   "source": [
    "### Using `statsmodel` package\n",
    "\n",
    "First we load the packages (possibly again)"
   ]
  },
  {
   "cell_type": "code",
   "execution_count": 58,
   "metadata": {},
   "outputs": [],
   "source": [
    "## Using `statsmodel` package\n",
    "import numpy as np\n",
    "import pandas as pd\n",
    "import statistics\n",
    "import scipy.stats\n",
    "from matplotlib import pyplot as plt\n",
    "import statsmodels.formula.api as smf"
   ]
  },
  {
   "cell_type": "markdown",
   "metadata": {},
   "source": [
    "Check that we can make a datafranme"
   ]
  },
  {
   "cell_type": "code",
   "execution_count": 61,
   "metadata": {},
   "outputs": [
    {
     "data": {
      "text/html": [
       "<div>\n",
       "<style scoped>\n",
       "    .dataframe tbody tr th:only-of-type {\n",
       "        vertical-align: middle;\n",
       "    }\n",
       "\n",
       "    .dataframe tbody tr th {\n",
       "        vertical-align: top;\n",
       "    }\n",
       "\n",
       "    .dataframe thead th {\n",
       "        text-align: right;\n",
       "    }\n",
       "</style>\n",
       "<table border=\"1\" class=\"dataframe\">\n",
       "  <thead>\n",
       "    <tr style=\"text-align: right;\">\n",
       "      <th></th>\n",
       "      <th>X</th>\n",
       "      <th>Y</th>\n",
       "    </tr>\n",
       "  </thead>\n",
       "  <tbody>\n",
       "    <tr>\n",
       "      <th>0</th>\n",
       "      <td>-2.0</td>\n",
       "      <td>0.0</td>\n",
       "    </tr>\n",
       "    <tr>\n",
       "      <th>1</th>\n",
       "      <td>-1.0</td>\n",
       "      <td>0.0</td>\n",
       "    </tr>\n",
       "    <tr>\n",
       "      <th>2</th>\n",
       "      <td>0.0</td>\n",
       "      <td>1.0</td>\n",
       "    </tr>\n",
       "  </tbody>\n",
       "</table>\n",
       "</div>"
      ],
      "text/plain": [
       "     X    Y\n",
       "0 -2.0  0.0\n",
       "1 -1.0  0.0\n",
       "2  0.0  1.0"
      ]
     },
     "execution_count": 61,
     "metadata": {},
     "output_type": "execute_result"
    }
   ],
   "source": [
    "# Create a dataframe:\n",
    "data = pd.DataFrame({'X':xxx, 'Y':yyy})\n",
    "data.head(3)"
   ]
  },
  {
   "cell_type": "markdown",
   "metadata": {},
   "source": [
    "Now some modeling"
   ]
  },
  {
   "cell_type": "code",
   "execution_count": 63,
   "metadata": {},
   "outputs": [
    {
     "data": {
      "image/png": "[encoded data removed]",
      "text/plain": [
       "<Figure size 864x432 with 1 Axes>"
      ]
     },
     "metadata": {
      "needs_background": "light"
     },
     "output_type": "display_data"
    }
   ],
   "source": [
    "# Initialise and fit linear regression model using `statsmodels`\n",
    "model = smf.ols('Y ~ X', data=data) # model object constructor syntax\n",
    "model = model.fit()\n",
    "# Predict values\n",
    "y_pred = model.predict()\n",
    "# Plot regression against actual data\n",
    "plt.figure(figsize=(12, 6))\n",
    "plt.plot(data['X'], data['Y'], 'o')           # scatter plot showing actual data\n",
    "plt.plot(data['X'], y_pred, 'r', linewidth=2)   # regression line\n",
    "plt.xlabel('X')\n",
    "plt.ylabel('Y')\n",
    "plt.title('model vs observed')\n",
    "plt.show();"
   ]
  },
  {
   "cell_type": "markdown",
   "metadata": {},
   "source": [
    "Now lets extract information from the modeling tool"
   ]
  },
  {
   "cell_type": "code",
   "execution_count": 64,
   "metadata": {},
   "outputs": [
    {
     "name": "stdout",
     "output_type": "stream",
     "text": [
      "                            OLS Regression Results                            \n",
      "==============================================================================\n",
      "Dep. Variable:                      Y   R-squared:                       0.918\n",
      "Model:                            OLS   Adj. R-squared:                  0.912\n",
      "Method:                 Least Squares   F-statistic:                     157.4\n",
      "Date:                Sun, 10 Apr 2022   Prob (F-statistic):           5.28e-09\n",
      "Time:                        19:14:37   Log-Likelihood:                 6.8117\n",
      "No. Observations:                  16   AIC:                            -9.623\n",
      "Df Residuals:                      14   BIC:                            -8.078\n",
      "Df Model:                           1                                         \n",
      "Covariance Type:            nonrobust                                         \n",
      "==============================================================================\n",
      "                 coef    std err          t      P>|t|      [0.025      0.975]\n",
      "------------------------------------------------------------------------------\n",
      "Intercept      0.8094      0.042     19.157      0.000       0.719       0.900\n",
      "X              0.4001      0.032     12.545      0.000       0.332       0.468\n",
      "==============================================================================\n",
      "Omnibus:                        4.481   Durbin-Watson:                   2.048\n",
      "Prob(Omnibus):                  0.106   Jarque-Bera (JB):                2.323\n",
      "Skew:                          -0.900   Prob(JB):                        0.313\n",
      "Kurtosis:                       3.497   Cond. No.                         1.32\n",
      "==============================================================================\n",
      "\n",
      "Notes:\n",
      "[1] Standard Errors assume that the covariance matrix of the errors is correctly specified.\n"
     ]
    },
    {
     "name": "stderr",
     "output_type": "stream",
     "text": [
      "/opt/jupyterhub/lib/python3.8/site-packages/scipy/stats/stats.py:1603: UserWarning: kurtosistest only valid for n>=20 ... continuing anyway, n=16\n",
      "  warnings.warn(\"kurtosistest only valid for n>=20 ... continuing \"\n"
     ]
    }
   ],
   "source": [
    "print(model.summary())"
   ]
  },
  {
   "cell_type": "markdown",
   "metadata": {},
   "source": [
    ":::{admonition} Examine the lower and upper confodence limits on the parameters\n",
    ":class: tip\n",
    "Notice for this example: <br>\n",
    "Intercept      0.8094      0.042     19.157      0.000       0.719       0.900<br>\n",
    "X              0.4001      0.032     12.545      0.000       0.332       0.468<br>\n",
    "That the CI in both parameters excludes 0, suggesting that these two parameters are important.  In your statistic class you will learn more meaningful interpretation.\n",
    ":::\n",
    "\n",
    "Now lets amke a cubic model as in the homebrew example."
   ]
  },
  {
   "cell_type": "code",
   "execution_count": 97,
   "metadata": {},
   "outputs": [
    {
     "data": {
      "image/png": "[encoded data removed]",
      "text/plain": [
       "<Figure size 864x432 with 1 Axes>"
      ]
     },
     "metadata": {
      "needs_background": "light"
     },
     "output_type": "display_data"
    },
    {
     "name": "stdout",
     "output_type": "stream",
     "text": [
      "                            OLS Regression Results                            \n",
      "==============================================================================\n",
      "Dep. Variable:                      Y   R-squared:                       0.936\n",
      "Model:                            OLS   Adj. R-squared:                  0.920\n",
      "Method:                 Least Squares   F-statistic:                     58.81\n",
      "Date:                Sun, 10 Apr 2022   Prob (F-statistic):           1.90e-07\n",
      "Time:                        19:34:26   Log-Likelihood:                 8.8037\n",
      "No. Observations:                  16   AIC:                            -9.607\n",
      "Df Residuals:                      12   BIC:                            -6.517\n",
      "Df Model:                           3                                         \n",
      "Covariance Type:            nonrobust                                         \n",
      "==============================================================================\n",
      "                 coef    std err          t      P>|t|      [0.025      0.975]\n",
      "------------------------------------------------------------------------------\n",
      "Intercept      0.7824      0.062     12.646      0.000       0.648       0.917\n",
      "X              0.5410      0.091      5.975      0.000       0.344       0.738\n",
      "XX             0.0163      0.027      0.610      0.553      -0.042       0.074\n",
      "XXX           -0.0460      0.028     -1.659      0.123      -0.106       0.014\n",
      "==============================================================================\n",
      "Omnibus:                        3.898   Durbin-Watson:                   2.132\n",
      "Prob(Omnibus):                  0.142   Jarque-Bera (JB):                2.219\n",
      "Skew:                          -0.908   Prob(JB):                        0.330\n",
      "Kurtosis:                       3.171   Cond. No.                         10.6\n",
      "==============================================================================\n",
      "\n",
      "Notes:\n",
      "[1] Standard Errors assume that the covariance matrix of the errors is correctly specified.\n"
     ]
    },
    {
     "name": "stderr",
     "output_type": "stream",
     "text": [
      "/opt/jupyterhub/lib/python3.8/site-packages/scipy/stats/stats.py:1603: UserWarning: kurtosistest only valid for n>=20 ... continuing anyway, n=16\n",
      "  warnings.warn(\"kurtosistest only valid for n>=20 ... continuing \"\n"
     ]
    }
   ],
   "source": [
    "data['XX']=data['X']**2  # add a column of X^2\n",
    "data['XXX']=data['X']**3  # add a column of X^2\n",
    "\n",
    "# Initialise and fit linear regression model using `statsmodels`\n",
    "model = smf.ols('Y ~ X+XX+XXX', data=data) # model object constructor syntax\n",
    "model = model.fit()\n",
    "# Predict values\n",
    "y_pred = model.predict()\n",
    "# Plot\n",
    "plt.figure(figsize=(12, 6))\n",
    "plt.plot(data['X'], data['Y'], 'o')           # scatter plot showing actual data\n",
    "plt.plot(data['X'], y_pred, marker='s', color='r', linewidth=0)   # regression line\n",
    "plt.xlabel('X')\n",
    "plt.ylabel('Y')\n",
    "plt.title('model vs observed')\n",
    "plt.show();\n",
    "print(model.summary())"
   ]
  },
  {
   "cell_type": "markdown",
   "metadata": {},
   "source": [
    "So what did we gain?  \n",
    "\n",
    "Our adjusted R^2 went up a teeny bit, but look at the coefficients on the squared and cubic terms, they are an order of magnitude smaller than the intercept, and arguably pretty close to 0, so lets use a proper pakage to investigate.\n",
    "\n",
    ":::{admonition} Examine the $\\beta$'s \n",
    ":class: tip\n",
    "If we examine the report we see that the coefficients on the quadratic and cubic term could be zero with only a 5% error rate (95% chance that the value zero is included), so we would interpret these two predictors as suspected useless, and would be justified dropping these two variables and only using $x$ in this example.\n",
    ":::"
   ]
  },
  {
   "cell_type": "markdown",
   "metadata": {},
   "source": [
    "## References"
   ]
  },
  {
   "cell_type": "code",
   "execution_count": null,
   "metadata": {},
   "outputs": [],
   "source": []
  },
  {
   "cell_type": "markdown",
   "metadata": {},
   "source": [
    "<hr><hr>\n",
    "\n",
    "## Laboratory 29\n",
    "\n",
    "**Examine** (click) Laboratory 29 as a webpage at [Laboratory 29.html](http://54.243.252.9/engr-1330-webroot/8-Labs/Lab29/Lab29.html)\n",
    "\n",
    "**Download** (right-click, save target as ...) Laboratory 29 as a jupyterlab notebook from [Laboratory 29.ipynb](http://54.243.252.9/engr-1330-webroot/8-Labs/Lab29/Lab29.ipynb)\n"
   ]
  },
  {
   "cell_type": "markdown",
   "metadata": {},
   "source": [
    "<hr><hr>\n",
    "\n",
    "## Exercise Set 29\n",
    "\n",
    "**Examine** (click) Exercise Set 29 as a webpage at [Exercise 29.html](http://54.243.252.9/engr-1330-webroot/8-Labs/Lab29/Lab29-TH.html)\n",
    "\n",
    "**Download** (right-click, save target as ...) Exercise Set 29 as a jupyterlab notebook at  [Exercise Set 29.ipynb](http://54.243.252.9/engr-1330-webroot/8-Labs/Lab29/Lab29-TH.ipynb)\n"
   ]
  },
  {
   "cell_type": "code",
   "execution_count": null,
   "metadata": {},
   "outputs": [],
   "source": []
  }
 ],
 "metadata": {
  "kernelspec": {
   "display_name": "Python 3",
   "language": "python",
   "name": "python3"
  },
  "language_info": {
   "codemirror_mode": {
    "name": "ipython",
    "version": 3
   },
   "file_extension": ".py",
   "mimetype": "text/x-python",
   "name": "python",
   "nbconvert_exporter": "python",
   "pygments_lexer": "ipython3",
   "version": "3.8.10"
  }
 },
 "nbformat": 4,
 "nbformat_minor": 4
}
