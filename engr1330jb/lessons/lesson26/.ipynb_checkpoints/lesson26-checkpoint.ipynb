{
 "cells": [
  {
   "cell_type": "markdown",
   "metadata": {},
   "source": [
    "<div class=\"alert alert-block alert-info\">\n",
    "    <b><h1>ENGR 1330 Computational Thinking with Data Science </h1></b> \n",
    "</div> \n",
    "\n",
    "Copyright © 2021 Theodore G. Cleveland and Farhang Forghanparast\n",
    "\n",
    "Last GitHub Commit Date: 4 Nov 2021\n",
    "    \n",
    "# 26: Linear Regression\n",
    "- Purpose\n",
    "- Homebrew (using covariance formulas)\n",
    "- Homebrew using Matrix Algebra\n",
    "- Using packages: *numpy.linalg.lstsq* (future versions of this ebook)\n",
    "- Using packages: *statsmodel* package \n",
    "- Using packages: *sklearn* package\n",
    "- Why regression belongs to both statistics and machine learning \n",
    "- Learning algorithms used to create a linear regression model \n",
    "- Preparing data for linear regression "
   ]
  },
  {
   "cell_type": "code",
   "execution_count": null,
   "metadata": {},
   "outputs": [],
   "source": []
  },
  {
   "cell_type": "markdown",
   "metadata": {},
   "source": [
    "## What is Regression\n",
    "\n",
    "A **systematic** procedure to model the relationship between one dependent variable and one or more independent variables and quantify the uncertainty involved in *response predictions*.\n",
    "\n",
    "<!--![](https://www.thermofisher.com/blog/wp-content/uploads/sites/11/2018/01/istock-829172394_redumbrella.jpg)-->\n",
    "\n",
    "### Objectives\n",
    "\n",
    "- Create linear regression models from data using primitive python\n",
    "- Create linear regression models from data using NumPy and Pandas tools\n",
    "- Create presentation-quality graphs and charts for reporting results\n",
    "\n",
    "\n",
    "### Computational Thinking Concepts\n",
    "\n",
    "|Description|Computational Thinking Concept|\n",
    "|:---|:---|\n",
    "|Linear Model|Abstraction|\n",
    "|Response and Explanatory Variables|Decomposition|\n",
    "|Primitive arrays: vectors and matrices|Data Representation|\n",
    "|NumPy arrays: vectors and matrices|Data Representation|\n",
    "\n",
    "### Textbook Resources\n",
    "\n",
    "[https://inferentialthinking.com/chapters/15/Prediction.html](https://inferentialthinking.com/chapters/15/Prediction.html)\n",
    "\n",
    "<hr>\n"
   ]
  },
  {
   "cell_type": "markdown",
   "metadata": {},
   "source": [
    "## Data Modeling: Regression Approach\n",
    "\n",
    "Regression is a basic and commonly used type of predictive analysis.  \n",
    "\n",
    "The overall idea of regression is to assess: \n",
    "\n",
    "- does a set of predictor/explainatory variables (features) do a good job in predicting an outcome (dependent/response) variable?  \n",
    "- Which explainatory variables (features) in particular are significant predictors of the outcome variable, and in what way do they–indicated by the magnitude and sign of the beta estimates–impact the outcome variable?  \n",
    "- What is the estimated(predicted) value of the response under various excitation (explainatory) variable values?\n",
    "- What is the uncertainty involved in the prediction?\n",
    "\n",
    "These regression estimates are used to explain the relationship between one dependent variable and one or more independent variables.  \n",
    "\n",
    "The simplest form is a linear regression equation with one dependent(response) and one independent(explainatory) variable is defined by the formula \n",
    "\n",
    "$y_i = \\beta_0 + \\beta_1*x_i$, where $y_i$ = estimated dependent(response) variable value, $\\beta_0$ = constant(intercept), $\\beta_1$ = regression coefficient (slope), and $x_i$ = independent(predictor) variable value\n",
    "\n",
    "More complex forms involving non-linear (in the $\\beta_{i}$) parameters and non-linear combinations of the independent(predictor) variables are also used - these are beyond the scope of this lesson.\n",
    "\n",
    "We have already explored the underlying computations involved (without explaination) by just solving a particular linear equation system; what follows is some background on the source of that equation system.\n",
    "\n",
    "<hr>"
   ]
  },
  {
   "cell_type": "markdown",
   "metadata": {},
   "source": [
    "### Fundamental Questions\n",
    "\n",
    "- What is regression used for?\n",
    "- Why is it useful?\n",
    "\n",
    "Three major uses for regression analysis are (1) determining the strength of predictors, (2) forecasting an effect, and (3) trend forecasting.\n",
    "\n",
    "- First, the regression might be used to identify the strength of the effect that the independent variable(s) have on a dependent variable.  Typical questions are what is the strength of relationship between dose and effect, sales and marketing spending, or age and income.\n",
    "\n",
    "- Second, it can be used to forecast effects or impact of changes.  That is, the regression analysis helps us to understand how much the dependent variable changes with a change in one or more independent variables.  A typical question is, “how much additional sales income do I get for each additional $1000 spent on marketing?”\n",
    "\n",
    "- Third, regression analysis predicts trends and future values.  The regression analysis can be used to get point estimates.  A typical question is, “what will the price of gold be in 6 months?”"
   ]
  },
  {
   "cell_type": "markdown",
   "metadata": {},
   "source": [
    "Consider the image below from a Texas Instruments Calculator user manual\n",
    "\n",
    "![](http://54.243.252.9/engr-1330-webroot/1-Lessons/Lesson19/PsuedoLesson/ti-manual.png)\n",
    "\n",
    "In the context of our class, the straight solid line is the `Data Model` whose equation is\n",
    "$Y = \\beta_0 + \\beta_1*X$.\n",
    "The ordered pairs $(x_i,y_i)$ in the scatterplot are the observation (or training set).\n",
    "As depicted here $Y$ is the response to different values of the explainitory variable $X$. The typical convention is response on the up-down axis, but not always.\n",
    "The model parameters are $\\beta_0$ and $\\beta_1$ ; once known can estimate (predict) response to (as yet) unobserved values of $x$\n",
    "\n",
    "Classically, the normal equations are evaluated to find the model parameters:\n",
    "\n",
    "$\\beta_1 = \\frac{\\sum x\\sum y~-~N\\sum xy}{(\\sum x)^2~-~N\\sum x^2}$ and $\\beta_0 = \\bar y - \\beta_1 \\bar x$\n",
    "\n",
    "These two equations are the solution to the \"design matrix\" linear system earlier, but presented as a set of discrete arithmetic operations."
   ]
  },
  {
   "cell_type": "markdown",
   "metadata": {},
   "source": [
    "<hr><hr>\n",
    "\n",
    "### Classical Regression by Normal Equations\n",
    "\n",
    "We will illustrate the classical approach to finding the slope and intercept using the normal equations first a plotting function, then we will use the values from the Texas Instruments TI-55 user manual.\n",
    "\n",
    "First a way to plot:"
   ]
  },
  {
   "cell_type": "code",
   "execution_count": 1,
   "metadata": {},
   "outputs": [],
   "source": [
    "### Lets Make a Plotting Function\n",
    "\n",
    "def makeAbear(xvalues,yvalues,xleft,yleft,xright,yright,xlab,ylab,title):\n",
    "# plotting function dependent on matplotlib installed above \n",
    "# xvalues, yvalues == data pairs to scatterplot; FLOAT\n",
    "# xleft,yleft == left endpoint line to draw; FLOAT\n",
    "# xright,yright == right endpoint line to draw; FLOAT\n",
    "# xlab,ylab == axis labels, STRINGS!!\n",
    "# title == Plot title, STRING\n",
    "    import matplotlib.pyplot \n",
    "    matplotlib.pyplot.scatter(xvalues,yvalues)\n",
    "    matplotlib.pyplot.plot([xleft, xright], [yleft, yright], 'k--', lw=2, color=\"red\")\n",
    "    matplotlib.pyplot.xlabel(xlab)\n",
    "    matplotlib.pyplot.ylabel(ylab)\n",
    "    matplotlib.pyplot.title(title)\n",
    "    matplotlib.pyplot.show()\n",
    "    return"
   ]
  },
  {
   "cell_type": "markdown",
   "metadata": {},
   "source": [
    "Now the two lists to process"
   ]
  },
  {
   "cell_type": "code",
   "execution_count": 2,
   "metadata": {},
   "outputs": [
    {
     "data": {
      "image/png": "[encoded data removed]",
      "text/plain": [
       "<Figure size 432x288 with 1 Axes>"
      ]
     },
     "metadata": {
      "needs_background": "light"
     },
     "output_type": "display_data"
    }
   ],
   "source": [
    "# Make two lists\n",
    "sample_length = [101.3,103.7,98.6,99.9,97.2,100.1]\n",
    "sample_weight = [609,626,586,594,579,605]\n",
    "# We will assume weight is the explainatory variable, and it is to be used to predict length.\n",
    "makeAbear(sample_weight, sample_length,580,96,630,106,'Weight (g)','Length (cm)','Length versus Weight for \\n NASA CF0132 Fiber Reinforced Polymer')"
   ]
  },
  {
   "cell_type": "markdown",
   "metadata": {},
   "source": [
    "Notice the dashed line, we supplied only two (x,y) pairs to plot the line, so lets get a colonoscope and find where it came from."
   ]
  },
  {
   "cell_type": "code",
   "execution_count": 3,
   "metadata": {},
   "outputs": [],
   "source": [
    "def myline(slope,intercept,value1,value2):\n",
    "    '''Returns a tuple ([x1,x2],[y1,y2]) from y=slope*value+intercept'''\n",
    "    listy = [] \n",
    "    listx = []\n",
    "    listx.append(value1)\n",
    "    listx.append(value2)\n",
    "    listy.append(slope*listx[0]+intercept)\n",
    "    listy.append(slope*listx[1]+intercept)\n",
    "    return(listx,listy)"
   ]
  },
  {
   "cell_type": "markdown",
   "metadata": {},
   "source": [
    "The myline function returns a tuple, that we parse below to make the plot of the data model.  This is useful if we wish to plot beyond the range of the observations data."
   ]
  },
  {
   "cell_type": "code",
   "execution_count": 8,
   "metadata": {},
   "outputs": [
    {
     "data": {
      "image/png": "[encoded data removed]",
      "text/plain": [
       "<Figure size 432x288 with 1 Axes>"
      ]
     },
     "metadata": {
      "needs_background": "light"
     },
     "output_type": "display_data"
    }
   ],
   "source": [
    "slope = 0.13  #0.13\n",
    "intercept = 23 # 23\n",
    "xlow = 540 # here we define the lower bound of the model plot\n",
    "xhigh = 640 # upper bound\n",
    "object = myline(slope,intercept,xlow,xhigh)\n",
    "xone = object[0][0]; xtwo = object[0][1]; yone = object[1][0]; ytwo = object[1][1]\n",
    "makeAbear(sample_weight, sample_length,xone,yone,xtwo,ytwo,'Weight (g)','Length (cm)','Length versus Weight for \\n NASA CF0132 Fiber Reinforced Polymer')"
   ]
  },
  {
   "cell_type": "code",
   "execution_count": 9,
   "metadata": {},
   "outputs": [
    {
     "name": "stdout",
     "output_type": "stream",
     "text": [
      "540 93.2\n",
      "640 106.2\n"
     ]
    }
   ],
   "source": [
    "print(xone,yone)\n",
    "print(xtwo,ytwo)"
   ]
  },
  {
   "cell_type": "markdown",
   "metadata": {},
   "source": [
    "Now lets get \"optimal\" values of slope and intercept from the Normal equations"
   ]
  },
  {
   "cell_type": "code",
   "execution_count": 11,
   "metadata": {},
   "outputs": [
    {
     "name": "stdout",
     "output_type": "stream",
     "text": [
      "Linear Model is y=0.129 x + 22.813\n"
     ]
    }
   ],
   "source": [
    "# Evaluate the normal equations\n",
    "sumx = 0.0\n",
    "sumy = 0.0\n",
    "sumxy = 0.0\n",
    "sumx2 = 0.0\n",
    "sumy2 = 0.0\n",
    "for i in range(len(sample_weight)):\n",
    "    sumx = sumx + sample_weight[i]\n",
    "    sumx2 = sumx2 + sample_weight[i]**2\n",
    "    sumy = sumy + sample_length[i]\n",
    "    sumy2 = sumy2 + sample_length[i]**2\n",
    "    sumxy = sumxy + sample_weight[i]*sample_length[i]\n",
    "b1 = (sumx*sumy - len(sample_weight)*sumxy)/(sumx**2-len(sample_weight)*sumx2)\n",
    "b0 = sumy/len(sample_length) - b1* (sumx/len(sample_weight))\n",
    "lineout = (\"Linear Model is y=%.3f\" % b1) + (\"x + %.3f\" % b0)\n",
    "print(\"Linear Model is y=%.3f\" % b1 ,\"x + %.3f\" % b0)"
   ]
  },
  {
   "cell_type": "code",
   "execution_count": 12,
   "metadata": {},
   "outputs": [
    {
     "data": {
      "image/png": "[encoded data removed]",
      "text/plain": [
       "<Figure size 432x288 with 1 Axes>"
      ]
     },
     "metadata": {
      "needs_background": "light"
     },
     "output_type": "display_data"
    }
   ],
   "source": [
    "slope = 0.129  #0.129\n",
    "intercept = 22.813  # 22.813\n",
    "xlow = 540\n",
    "xhigh = 640\n",
    "object = myline(slope,intercept,xlow,xhigh)\n",
    "xone = object[0][0]; xtwo = object[0][1]; yone = object[1][0]; ytwo = object[1][1]\n",
    "makeAbear(sample_weight, sample_length,xone,yone,xtwo,ytwo,'Weight (g)','Length (cm)','Length versus Weight for \\n NASA CF0132 Fiber Reinforced Polymer')"
   ]
  },
  {
   "cell_type": "markdown",
   "metadata": {},
   "source": [
    "<hr>\n",
    "\n",
    "### Where do these normal equations come from?\n",
    "Consider our linear model $y = \\beta_0 + \\beta_1 \\cdot x + \\epsilon$. Where $\\epsilon$ is the error in the estimate. If we square each error and add them up (for our training set) we will have $\\sum \\epsilon^2 = \\sum (y_i - \\beta_0 - \\beta_1 \\cdot x_i)^2 $.  Our goal is to minimize this error by our choice of $\\beta_0 $ and $ \\beta_1 $\n",
    "\n",
    "The necessary and sufficient conditions for a minimum is that the first partial derivatives of the `error` as a function must vanish (be equal to zero).  We can leverage that requirement as\n",
    "\n",
    "$\\frac{\\partial(\\sum \\epsilon^2)}{\\partial \\beta_0} = \\frac{\\partial{\\sum (y_i - \\beta_0 - \\beta_1 \\cdot x_i)^2}}{\\partial \\beta_0} = - \\sum 2[y_i - \\beta_0 + \\beta_1 \\cdot x_i] = -2(\\sum_{i=1}^n y_i - n \\beta_0 - \\beta_1 \\sum_{i=1}^n x_i) = 0 $\n",
    "\n",
    "and\n",
    "\n",
    "$\\frac{\\partial(\\sum \\epsilon^2)}{\\partial \\beta_1} = \\frac{\\partial{\\sum (y_i - \\beta_0 - \\beta_1 \\cdot x_i)^2}}{\\partial \\beta_1} = - \\sum 2[y_i - \\beta_0 + \\beta_1 \\cdot x_i]x_i = -2(\\sum_{i=1}^n x_i y_i - n \\beta_0 \\sum_{i=1}^n x_i - \\beta_1 \\sum_{i=1}^n x_i^2) = 0 $\n",
    "\n",
    "Solving the two equations for $\\beta_0$ and $\\beta_1$ produces the normal equations (for linear least squares), which leads to\n",
    "\n",
    "$\\beta_1 = \\frac{\\sum x\\sum y~-~n\\sum xy}{(\\sum x)^2~-~n\\sum x^2}$\n",
    "$\\beta_0 = \\bar y - \\beta_1 \\bar x$\n",
    "\n"
   ]
  },
  {
   "cell_type": "markdown",
   "metadata": {},
   "source": [
    "Lets consider a more flexible way by fitting the data model using linear algebra instead of the summation notation.\n",
    "\n",
    "<hr><hr>\n",
    "\n",
    "### Computational Linear Algebra \n",
    "We will start again with our linear data model'\n",
    "\n",
    "```{note}\n",
    "The linear system below should be familiar, we used it in the Predictor-Response Data Model (without much background).  Here we learn it is simply the matrix equivalent of minimizing the sumn of squares error for each equation\n",
    "```\n",
    "\n",
    "$y_i = \\beta_0 + \\beta_1 \\cdot x_i + \\epsilon_i$  then replace with vectors as\n",
    "\n",
    "$$\n",
    "\\begin{gather}\n",
    "\\mathbf{Y}=\n",
    "\\begin{pmatrix}\n",
    "y_1 \\\\\n",
    "y_2 \\\\\n",
    "\\vdots \\\\\n",
    "y_n \\\\\n",
    "\\end{pmatrix}\n",
    "\\end{gather}\n",
    "$$\n",
    "\n",
    "$$\\begin{gather}\n",
    "\\mathbf{\\beta}=\n",
    "\\begin{pmatrix}\n",
    "\\beta_0 \\\\\n",
    "\\beta_1 \\\\\n",
    "\\end{pmatrix}\n",
    "\\end{gather}$$\n",
    "\n",
    "$$\\begin{gather}\n",
    "\\mathbf{X}=\n",
    "\\begin{pmatrix}\n",
    "1 & x_1 & x_1^2\\\\\n",
    "1 & x_2 & x_2^2\\\\\n",
    "\\vdots \\\\\n",
    "1 & x_n & x_n^2\\\\\n",
    "\\end{pmatrix}\n",
    "\\end{gather}$$\n",
    "\n",
    "$$\\begin{gather}\n",
    "\\mathbf{\\epsilon}=\n",
    "\\begin{pmatrix}\n",
    "\\epsilon_1 \\\\\n",
    "\\epsilon_2 \\\\\n",
    "\\vdots \\\\\n",
    "\\epsilon_n \\\\\n",
    "\\end{pmatrix}\n",
    "\\end{gather}$$\n",
    "\n",
    "So our system can now be expressed in matrix-vector form as\n",
    "\n",
    "$\\mathbf{Y}=\\mathbf{X}\\mathbf{\\beta}+\\mathbf{\\epsilon}$ if we perfrom the same vector calculus as before we will end up with a result where pre-multiply by the transpose of $\\mathbf{X}$ we will have a linear system in $\\mathbf{\\beta}$ which we can solve using Gaussian reduction, or LU decomposition or some other similar method.\n",
    "\n",
    "The resulting system (that minimizes $\\mathbf{\\epsilon^T}\\mathbf{\\epsilon}$) is\n",
    "\n",
    "$\\mathbf{X^T}\\mathbf{Y}=\\mathbf{X^T}\\mathbf{X}\\mathbf{\\beta}$ and solving for the parameters gives\n",
    "$\\mathbf{\\beta}=(\\mathbf{X^T}\\mathbf{X})^{-1}\\mathbf{X^T}\\mathbf{Y}$\n",
    "\n",
    "So lets apply it to our example - what follows is mostly in python primative"
   ]
  },
  {
   "cell_type": "code",
   "execution_count": 18,
   "metadata": {},
   "outputs": [],
   "source": [
    "# linearsolver with pivoting adapted from \n",
    "# https://stackoverflow.com/questions/31957096/gaussian-elimination-with-pivoting-in-python/31959226\n",
    "def linearsolver(A,b):\n",
    "    n = len(A)\n",
    "    M = A\n",
    "\n",
    "    i = 0\n",
    "    for x in M:\n",
    "     x.append(b[i])\n",
    "     i += 1\n",
    "# row reduction with pivots\n",
    "    for k in range(n):\n",
    "     for i in range(k,n):\n",
    "       if abs(M[i][k]) > abs(M[k][k]):\n",
    "          M[k], M[i] = M[i],M[k]\n",
    "       else:\n",
    "          pass\n",
    "\n",
    "     for j in range(k+1,n):\n",
    "         q = float(M[j][k]) / M[k][k]\n",
    "         for m in range(k, n+1):\n",
    "            M[j][m] -=  q * M[k][m]\n",
    "# allocate space for result\n",
    "    x = [0 for i in range(n)]\n",
    "# back-substitution\n",
    "    x[n-1] =float(M[n-1][n])/M[n-1][n-1]\n",
    "    for i in range (n-1,-1,-1):\n",
    "      z = 0\n",
    "      for j in range(i+1,n):\n",
    "          z = z  + float(M[i][j])*x[j]\n",
    "      x[i] = float(M[i][n] - z)/M[i][i]\n",
    "# return result\n",
    "    return(x)\n",
    "#######"
   ]
  },
  {
   "cell_type": "code",
   "execution_count": 19,
   "metadata": {},
   "outputs": [
    {
     "data": {
      "image/png": "[encoded data removed]",
      "text/plain": [
       "<Figure size 432x288 with 1 Axes>"
      ]
     },
     "metadata": {
      "needs_background": "light"
     },
     "output_type": "display_data"
    }
   ],
   "source": [
    "# matrix multiply script\n",
    "def mmult(amatrix,bmatrix,rowNumA,colNumA,rowNumB,colNumB):\n",
    "    result_matrix = [[0 for j in range(colNumB)] for i in range(rowNumA)]\n",
    "    for i in range(0,rowNumA):\n",
    "        for j in range(0,colNumB):\n",
    "            for k in range(0,colNumA):\n",
    "                result_matrix[i][j]=result_matrix[i][j]+amatrix[i][k]*bmatrix[k][j]\n",
    "    return(result_matrix)\n",
    "# matrix vector multiply script\n",
    "def mvmult(amatrix,bvector,rowNumA,colNumA):\n",
    "    result_v = [0 for i in range(rowNumA)]\n",
    "    for i in range(0,rowNumA):\n",
    "        for j in range(0,colNumA):\n",
    "                result_v[i]=result_v[i]+amatrix[i][j]*bvector[j]\n",
    "    return(result_v)\n",
    "\n",
    "colNumX=2 #\n",
    "rowNumX=len(sample_weight)\n",
    "xmatrix = [[1 for j in range(colNumX)]for i in range(rowNumX)]\n",
    "xtransp = [[1 for j in range(rowNumX)]for i in range(colNumX)]\n",
    "yvector = [0 for i in range(rowNumX)]\n",
    "for irow in range(rowNumX):\n",
    "    xmatrix[irow][1]=sample_weight[irow]\n",
    "    xtransp[1][irow]=sample_weight[irow]\n",
    "    yvector[irow]   =sample_length[irow]\n",
    "xtx = [[0 for j in range(colNumX)]for i in range(colNumX)]\n",
    "xty = []\n",
    "\n",
    "xtx = mmult(xtransp,xmatrix,colNumX,rowNumX,rowNumX,colNumX)\n",
    "xty = mvmult(xtransp,yvector,colNumX,rowNumX)\n",
    "\n",
    "beta = []\n",
    "#solve XtXB = XtY for B\n",
    "beta = linearsolver(xtx,xty) #Solve the linear system  What would the numpy equivalent be?\n",
    "\n",
    "slope = beta[1] #0.129\n",
    "intercept = beta[0]  # 22.813\n",
    "xlow = 580\n",
    "xhigh = 630\n",
    "object = myline(slope,intercept,xlow,xhigh)\n",
    "xone = object[0][0]; xtwo = object[0][1]; yone = object[1][0]; ytwo = object[1][1]\n",
    "makeAbear(sample_weight, sample_length,xone,yone,xtwo,ytwo,'Weight (g)','Length (cm)','Length versus Weight for \\n NASA CF0132 Fiber Reinforced Polymer')"
   ]
  },
  {
   "cell_type": "code",
   "execution_count": 20,
   "metadata": {},
   "outputs": [
    {
     "data": {
      "text/plain": [
       "[22.812624584693076, 0.12890365448509072]"
      ]
     },
     "execution_count": 20,
     "metadata": {},
     "output_type": "execute_result"
    }
   ],
   "source": [
    "beta"
   ]
  },
  {
   "cell_type": "markdown",
   "metadata": {},
   "source": [
    "---\n",
    "\n",
    "#### What's the Value of the Computational Linear Algebra ?\n",
    "\n",
    "The value comes when we have more explainatory variables, and we may want to deal with curvature.\n",
    "\n",
    "```{note}\n",
    "The lists below are different that the example above!\n",
    "```"
   ]
  },
  {
   "cell_type": "code",
   "execution_count": 21,
   "metadata": {},
   "outputs": [
    {
     "data": {
      "image/png": "[encoded data removed]",
      "text/plain": [
       "<Figure size 432x288 with 1 Axes>"
      ]
     },
     "metadata": {
      "needs_background": "light"
     },
     "output_type": "display_data"
    }
   ],
   "source": [
    "# Make two lists\n",
    "yyy = [0,0,1,1,3]\n",
    "xxx = [-2,-1,0,1,2]\n",
    "slope = 0.5  #0.129\n",
    "intercept = 1  # 22.813\n",
    "xlow = -3\n",
    "xhigh = 3\n",
    "object = myline(slope,intercept,xlow,xhigh)\n",
    "xone = object[0][0]; xtwo = object[0][1]; yone = object[1][0]; ytwo = object[1][1]\n",
    "makeAbear(xxx, yyy,xone,yone,xtwo,ytwo,'xxx','yyy','yyy versus xxx')"
   ]
  },
  {
   "cell_type": "code",
   "execution_count": 22,
   "metadata": {},
   "outputs": [
    {
     "data": {
      "image/png": "[encoded data removed]",
      "text/plain": [
       "<Figure size 432x288 with 1 Axes>"
      ]
     },
     "metadata": {
      "needs_background": "light"
     },
     "output_type": "display_data"
    }
   ],
   "source": [
    "colNumX=2 #\n",
    "rowNumX=len(xxx)\n",
    "xmatrix = [[1 for j in range(colNumX)]for i in range(rowNumX)]\n",
    "xtransp = [[1 for j in range(rowNumX)]for i in range(colNumX)]\n",
    "yvector = [0 for i in range(rowNumX)]\n",
    "for irow in range(rowNumX):\n",
    "    xmatrix[irow][1]=xxx[irow]\n",
    "    xtransp[1][irow]=xxx[irow]\n",
    "    yvector[irow]   =yyy[irow]\n",
    "xtx = [[0 for j in range(colNumX)]for i in range(colNumX)]\n",
    "xty = []\n",
    "\n",
    "xtx = mmult(xtransp,xmatrix,colNumX,rowNumX,rowNumX,colNumX)\n",
    "xty = mvmult(xtransp,yvector,colNumX,rowNumX)\n",
    "\n",
    "beta = []\n",
    "#solve XtXB = XtY for B\n",
    "beta = linearsolver(xtx,xty) #Solve the linear system\n",
    "\n",
    "slope = beta[1] #0.129\n",
    "intercept = beta[0]  # 22.813\n",
    "xlow = -3\n",
    "xhigh = 3\n",
    "object = myline(slope,intercept,xlow,xhigh)\n",
    "xone = object[0][0]; xtwo = object[0][1]; yone = object[1][0]; ytwo = object[1][1]\n",
    "makeAbear(xxx, yyy,xone,yone,xtwo,ytwo,'xxx','yyy','yyy versus xxx')"
   ]
  },
  {
   "cell_type": "code",
   "execution_count": 23,
   "metadata": {},
   "outputs": [],
   "source": [
    "colNumX=4 #\n",
    "rowNumX=len(xxx)\n",
    "xmatrix = [[1 for j in range(colNumX)]for i in range(rowNumX)]\n",
    "xtransp = [[1 for j in range(rowNumX)]for i in range(colNumX)]\n",
    "yvector = [0 for i in range(rowNumX)]\n",
    "for irow in range(rowNumX):\n",
    "    xmatrix[irow][1]=xxx[irow]\n",
    "    xmatrix[irow][2]=xxx[irow]**2\n",
    "    xmatrix[irow][3]=xxx[irow]**3\n",
    "    xtransp[1][irow]=xxx[irow]\n",
    "    xtransp[2][irow]=xxx[irow]**2\n",
    "    xtransp[3][irow]=xxx[irow]**3\n",
    "    yvector[irow]   =yyy[irow]\n",
    "xtx = [[0 for j in range(colNumX)]for i in range(colNumX)]\n",
    "xty = []\n",
    "\n",
    "xtx = mmult(xtransp,xmatrix,colNumX,rowNumX,rowNumX,colNumX)\n",
    "xty = mvmult(xtransp,yvector,colNumX,rowNumX)\n",
    "\n",
    "beta = []\n",
    "#solve XtXB = XtY for B\n",
    "beta = linearsolver(xtx,xty) #Solve the linear system\n",
    "\n"
   ]
  },
  {
   "cell_type": "code",
   "execution_count": 24,
   "metadata": {},
   "outputs": [
    {
     "data": {
      "image/png": "[encoded data removed]",
      "text/plain": [
       "<Figure size 720x360 with 1 Axes>"
      ]
     },
     "metadata": {
      "needs_background": "light"
     },
     "output_type": "display_data"
    }
   ],
   "source": [
    "howMany = 20\n",
    "xlow = -2\n",
    "xhigh = 2\n",
    "deltax = (xhigh - xlow)/howMany\n",
    "xmodel = []\n",
    "ymodel = []\n",
    "for i in range(howMany+1):\n",
    "    xnow = xlow + deltax*float(i)\n",
    "    xmodel.append(xnow)\n",
    "    ymodel.append(beta[0]+beta[1]*xnow+beta[2]*xnow**2)\n",
    "\n",
    "# Now plot the sample values and plotting position\n",
    "import matplotlib.pyplot \n",
    "myfigure = matplotlib.pyplot.figure(figsize = (10,5)) # generate a object from the figure class, set aspect ratio\n",
    "\n",
    "# Built the plot\n",
    "matplotlib.pyplot.scatter(xxx, yyy,  color ='blue') \n",
    "matplotlib.pyplot.plot(xmodel, ymodel,  color ='red') \n",
    "matplotlib.pyplot.ylabel(\"Y\") \n",
    "matplotlib.pyplot.xlabel(\"X\") \n",
    "mytitle = \"YYY versus XXX\"\n",
    "matplotlib.pyplot.title(mytitle) \n",
    "matplotlib.pyplot.show()"
   ]
  },
  {
   "cell_type": "markdown",
   "metadata": {},
   "source": [
    "### Using packages\n",
    "\n",
    "So in core python, there is a fair amount of work involved to write script - how about an easier way? First lets get things into a dataframe. Using the lists from the example above we can build a dataframe using pandas."
   ]
  },
  {
   "cell_type": "code",
   "execution_count": 25,
   "metadata": {},
   "outputs": [
    {
     "data": {
      "text/html": [
       "<div>\n",
       "<style scoped>\n",
       "    .dataframe tbody tr th:only-of-type {\n",
       "        vertical-align: middle;\n",
       "    }\n",
       "\n",
       "    .dataframe tbody tr th {\n",
       "        vertical-align: top;\n",
       "    }\n",
       "\n",
       "    .dataframe thead th {\n",
       "        text-align: right;\n",
       "    }\n",
       "</style>\n",
       "<table border=\"1\" class=\"dataframe\">\n",
       "  <thead>\n",
       "    <tr style=\"text-align: right;\">\n",
       "      <th></th>\n",
       "      <th>X</th>\n",
       "      <th>Y</th>\n",
       "    </tr>\n",
       "  </thead>\n",
       "  <tbody>\n",
       "    <tr>\n",
       "      <th>0</th>\n",
       "      <td>-2</td>\n",
       "      <td>0</td>\n",
       "    </tr>\n",
       "    <tr>\n",
       "      <th>1</th>\n",
       "      <td>-1</td>\n",
       "      <td>0</td>\n",
       "    </tr>\n",
       "    <tr>\n",
       "      <th>2</th>\n",
       "      <td>0</td>\n",
       "      <td>1</td>\n",
       "    </tr>\n",
       "    <tr>\n",
       "      <th>3</th>\n",
       "      <td>1</td>\n",
       "      <td>1</td>\n",
       "    </tr>\n",
       "    <tr>\n",
       "      <th>4</th>\n",
       "      <td>2</td>\n",
       "      <td>3</td>\n",
       "    </tr>\n",
       "  </tbody>\n",
       "</table>\n",
       "</div>"
      ],
      "text/plain": [
       "   X  Y\n",
       "0 -2  0\n",
       "1 -1  0\n",
       "2  0  1\n",
       "3  1  1\n",
       "4  2  3"
      ]
     },
     "execution_count": 25,
     "metadata": {},
     "output_type": "execute_result"
    }
   ],
   "source": [
    "# Load the necessary packages\n",
    "import numpy as np\n",
    "import pandas as pd\n",
    "import statistics \n",
    "from matplotlib import pyplot as plt\n",
    "\n",
    "# Create a dataframe:\n",
    "data = pd.DataFrame({'X':xxx, 'Y':yyy})\n",
    "data"
   ]
  },
  {
   "cell_type": "markdown",
   "metadata": {},
   "source": [
    "#### `statsmodel` package\n",
    "\n",
    "Now load in one of many modeling packages that have regression tools.  Here we use **statsmodel** which is an API (applications programming interface) with a nice formula syntax.  In the package call we use `Y~X` which is interpreted by the API as fit `Y` as a linear function of `X`, which interestingly is our design matrix from a few lessons ago."
   ]
  },
  {
   "cell_type": "code",
   "execution_count": 26,
   "metadata": {},
   "outputs": [],
   "source": [
    "# repeat using statsmodel\n",
    "import statsmodels.formula.api as smf\n",
    "\n",
    "# Initialise and fit linear regression model using `statsmodels`\n",
    "model = smf.ols('Y ~ X', data=data) # model object constructor syntax\n",
    "model = model.fit()"
   ]
  },
  {
   "cell_type": "markdown",
   "metadata": {},
   "source": [
    "Now recover the parameters of the model"
   ]
  },
  {
   "cell_type": "code",
   "execution_count": 27,
   "metadata": {},
   "outputs": [
    {
     "data": {
      "text/plain": [
       "Intercept    1.0\n",
       "X            0.7\n",
       "dtype: float64"
      ]
     },
     "execution_count": 27,
     "metadata": {},
     "output_type": "execute_result"
    }
   ],
   "source": [
    "model.params"
   ]
  },
  {
   "cell_type": "code",
   "execution_count": 28,
   "metadata": {},
   "outputs": [
    {
     "data": {
      "image/png": "[encoded data removed]",
      "text/plain": [
       "<Figure size 864x432 with 1 Axes>"
      ]
     },
     "metadata": {
      "needs_background": "light"
     },
     "output_type": "display_data"
    }
   ],
   "source": [
    "# Predict values\n",
    "y_pred = model.predict()\n",
    "\n",
    "# Plot regression against actual data\n",
    "plt.figure(figsize=(12, 6))\n",
    "plt.plot(data['X'], data['Y'], 'o')           # scatter plot showing actual data\n",
    "plt.plot(data['X'], y_pred, 'r', linewidth=2)   # regression line\n",
    "plt.xlabel('X')\n",
    "plt.ylabel('Y')\n",
    "plt.title('model vs observed')\n",
    "\n",
    "plt.show();"
   ]
  },
  {
   "cell_type": "markdown",
   "metadata": {},
   "source": [
    "We could use our own plotting functions if we wished, and would obtain an identical plot"
   ]
  },
  {
   "cell_type": "code",
   "execution_count": 30,
   "metadata": {},
   "outputs": [
    {
     "data": {
      "image/png": "[encoded data removed]",
      "text/plain": [
       "<Figure size 432x288 with 1 Axes>"
      ]
     },
     "metadata": {
      "needs_background": "light"
     },
     "output_type": "display_data"
    }
   ],
   "source": [
    "slope = model.params[1] #0.7\n",
    "intercept = model.params[0]  # 1.0\n",
    "xlow = -2\n",
    "xhigh = 2\n",
    "object = myline(slope,intercept,xlow,xhigh)\n",
    "xone = object[0][0]; xtwo = object[0][1]; yone = object[1][0]; ytwo = object[1][1]\n",
    "makeAbear(data['X'], data['Y'],xone,yone,xtwo,ytwo,'xxx','yyy','yyy versus xxx')"
   ]
  },
  {
   "cell_type": "markdown",
   "metadata": {},
   "source": [
    "Now lets add another column $x^2$ to introduce the ability to fit some curvature"
   ]
  },
  {
   "cell_type": "code",
   "execution_count": 31,
   "metadata": {},
   "outputs": [
    {
     "data": {
      "text/plain": [
       "Intercept    0.571429\n",
       "X            0.700000\n",
       "XX           0.214286\n",
       "dtype: float64"
      ]
     },
     "execution_count": 31,
     "metadata": {},
     "output_type": "execute_result"
    }
   ],
   "source": [
    "data['XX']=data['X']**2  # add a column of X^2\n",
    "model = smf.ols('Y ~ X + XX', data=data) # model object constructor syntax\n",
    "model = model.fit()\n",
    "model.params"
   ]
  },
  {
   "cell_type": "code",
   "execution_count": 32,
   "metadata": {},
   "outputs": [
    {
     "data": {
      "image/png": "[encoded data removed]",
      "text/plain": [
       "<Figure size 864x432 with 1 Axes>"
      ]
     },
     "metadata": {
      "needs_background": "light"
     },
     "output_type": "display_data"
    }
   ],
   "source": [
    "# Predict values\n",
    "y_pred = model.predict()\n",
    "\n",
    "# Plot regression against actual data\n",
    "plt.figure(figsize=(12, 6))\n",
    "plt.plot(data['X'], data['Y'], 'o')           # scatter plot showing actual data\n",
    "plt.plot(data['X'], y_pred, 'r', linewidth=2)   # regression line\n",
    "plt.xlabel('X')\n",
    "plt.ylabel('Y')\n",
    "plt.title('model vs observed')\n",
    "\n",
    "plt.show();"
   ]
  },
  {
   "cell_type": "markdown",
   "metadata": {},
   "source": [
    "Our homebrew plotting tool could be modified a bit (shown below just cause ...)"
   ]
  },
  {
   "cell_type": "code",
   "execution_count": 35,
   "metadata": {},
   "outputs": [
    {
     "data": {
      "image/png": "[encoded data removed]",
      "text/plain": [
       "<Figure size 720x360 with 1 Axes>"
      ]
     },
     "metadata": {
      "needs_background": "light"
     },
     "output_type": "display_data"
    }
   ],
   "source": [
    "myfigure = matplotlib.pyplot.figure(figsize = (10,5)) # generate a object from the figure class, set aspect ratio\n",
    "\n",
    "# Built the plot\n",
    "matplotlib.pyplot.scatter(data['X'], data['Y'],  color ='blue') \n",
    "matplotlib.pyplot.plot(data['X'], y_pred,  color ='red') \n",
    "matplotlib.pyplot.ylabel(\"Y\") \n",
    "matplotlib.pyplot.xlabel(\"X\") \n",
    "mytitle = \"YYY versus XXX\"\n",
    "matplotlib.pyplot.title(mytitle) \n",
    "matplotlib.pyplot.show()"
   ]
  },
  {
   "cell_type": "markdown",
   "metadata": {},
   "source": [
    "Another useful package is **sklearn** so repeat using that tool (same example)\n",
    "\n",
    "#### `sklearn` package"
   ]
  },
  {
   "cell_type": "code",
   "execution_count": 25,
   "metadata": {},
   "outputs": [],
   "source": [
    "# repeat using sklearn\n",
    "# Multiple Linear Regression with scikit-learn:\n",
    "from sklearn.linear_model import LinearRegression\n",
    "\n",
    "# Build linear regression model using X,XX as predictors\n",
    "# Split data into predictors X and output Y\n",
    "predictors = ['X', 'XX']\n",
    "X = data[predictors]\n",
    "y = data['Y']\n",
    "\n",
    "# Initialise and fit model\n",
    "lm = LinearRegression()  # This is the sklearn model tool here\n",
    "model = lm.fit(X, y)"
   ]
  },
  {
   "cell_type": "code",
   "execution_count": 26,
   "metadata": {},
   "outputs": [
    {
     "name": "stdout",
     "output_type": "stream",
     "text": [
      "alpha = 0.5714285714285716\n",
      "betas = [0.7        0.21428571]\n"
     ]
    }
   ],
   "source": [
    "print(f'alpha = {model.intercept_}')\n",
    "print(f'betas = {model.coef_}')"
   ]
  },
  {
   "cell_type": "code",
   "execution_count": 27,
   "metadata": {},
   "outputs": [
    {
     "data": {
      "image/png": "[encoded data removed]",
      "text/plain": [
       "<Figure size 864x432 with 1 Axes>"
      ]
     },
     "metadata": {
      "needs_background": "light"
     },
     "output_type": "display_data"
    }
   ],
   "source": [
    "fitted = model.predict(X)\n",
    "\n",
    "# Plot regression against actual data - What do we see?\n",
    "plt.figure(figsize=(12, 6))\n",
    "plt.plot(data['X'], data['Y'], 'o')           # scatter plot showing actual data\n",
    "plt.plot(data['X'], fitted,'r', linewidth=2)   # regression line\n",
    "plt.xlabel('x axis')\n",
    "plt.ylabel('y axis')\n",
    "plt.title('plot title')\n",
    "\n",
    "plt.show();"
   ]
  },
  {
   "cell_type": "markdown",
   "metadata": {},
   "source": [
    "#### Now repeat using the original Texas Instruments example\n"
   ]
  },
  {
   "cell_type": "code",
   "execution_count": 28,
   "metadata": {},
   "outputs": [
    {
     "data": {
      "text/html": [
       "<div>\n",
       "<style scoped>\n",
       "    .dataframe tbody tr th:only-of-type {\n",
       "        vertical-align: middle;\n",
       "    }\n",
       "\n",
       "    .dataframe tbody tr th {\n",
       "        vertical-align: top;\n",
       "    }\n",
       "\n",
       "    .dataframe thead th {\n",
       "        text-align: right;\n",
       "    }\n",
       "</style>\n",
       "<table border=\"1\" class=\"dataframe\">\n",
       "  <thead>\n",
       "    <tr style=\"text-align: right;\">\n",
       "      <th></th>\n",
       "      <th>X</th>\n",
       "      <th>Y</th>\n",
       "    </tr>\n",
       "  </thead>\n",
       "  <tbody>\n",
       "    <tr>\n",
       "      <th>0</th>\n",
       "      <td>609</td>\n",
       "      <td>101.3</td>\n",
       "    </tr>\n",
       "    <tr>\n",
       "      <th>1</th>\n",
       "      <td>626</td>\n",
       "      <td>103.7</td>\n",
       "    </tr>\n",
       "    <tr>\n",
       "      <th>2</th>\n",
       "      <td>586</td>\n",
       "      <td>98.6</td>\n",
       "    </tr>\n",
       "    <tr>\n",
       "      <th>3</th>\n",
       "      <td>594</td>\n",
       "      <td>99.9</td>\n",
       "    </tr>\n",
       "    <tr>\n",
       "      <th>4</th>\n",
       "      <td>579</td>\n",
       "      <td>97.2</td>\n",
       "    </tr>\n",
       "    <tr>\n",
       "      <th>5</th>\n",
       "      <td>605</td>\n",
       "      <td>100.1</td>\n",
       "    </tr>\n",
       "  </tbody>\n",
       "</table>\n",
       "</div>"
      ],
      "text/plain": [
       "     X      Y\n",
       "0  609  101.3\n",
       "1  626  103.7\n",
       "2  586   98.6\n",
       "3  594   99.9\n",
       "4  579   97.2\n",
       "5  605  100.1"
      ]
     },
     "execution_count": 28,
     "metadata": {},
     "output_type": "execute_result"
    }
   ],
   "source": [
    "sample_length = [101.3,103.7,98.6,99.9,97.2,100.1]\n",
    "sample_weight = [609,626,586,594,579,605]\n",
    "data = pd.DataFrame({'X':sample_weight, 'Y':sample_length})\n",
    "data"
   ]
  },
  {
   "cell_type": "code",
   "execution_count": 29,
   "metadata": {},
   "outputs": [
    {
     "name": "stdout",
     "output_type": "stream",
     "text": [
      "alpha = 22.812624584717568\n",
      "betas = [0.12890365]\n"
     ]
    }
   ],
   "source": [
    "\n",
    "# Build linear regression model using X,XX as predictors\n",
    "# Split data into predictors X and output Y\n",
    "predictors = ['X']\n",
    "X = data[predictors]\n",
    "y = data['Y']\n",
    "\n",
    "# Initialise and fit model\n",
    "lm = LinearRegression()\n",
    "model = lm.fit(X, y)\n",
    "print(f'alpha = {model.intercept_}')\n",
    "print(f'betas = {model.coef_}')"
   ]
  },
  {
   "cell_type": "code",
   "execution_count": 30,
   "metadata": {},
   "outputs": [
    {
     "data": {
      "image/png": "[encoded data removed]",
      "text/plain": [
       "<Figure size 864x432 with 1 Axes>"
      ]
     },
     "metadata": {
      "needs_background": "light"
     },
     "output_type": "display_data"
    }
   ],
   "source": [
    "fitted = model.predict(X)\n",
    "xvalue=data['X'].to_numpy()\n",
    "\n",
    "# Plot regression against actual data - What do we see?\n",
    "plt.figure(figsize=(12, 6))\n",
    "plt.plot(data['X'], data['Y'], 'o')           # scatter plot showing actual data\n",
    "plt.plot(xvalue, fitted, 'r', linewidth=2)   # regression line\n",
    "plt.xlabel('Sample Weight (g)')\n",
    "plt.ylabel('Sample Length (cm)')\n",
    "plt.title('Length versus Weight for \\n NASA CF0132 Fiber Reinforced Polymer')\n",
    "\n",
    "plt.show();"
   ]
  },
  {
   "cell_type": "markdown",
   "metadata": {},
   "source": [
    "### Summary\n",
    "\n",
    "We examined regression as a way to fit lines to data (and make predictions from those lines).  The methods presented are\n",
    "\n",
    "1. Using the normal equations (pretty much restricted to a linear model)\n",
    "2. Constructed as a linear system of equations using $Y=X \\cdot \\beta$ where $X$ is the design matrix.  We used homebrew solver, but `numpy.linalg` would be a better bet for practice.\n",
    "3. Using `statsmodel` package\n",
    "4. Using `sklearn` package\n",
    "\n",
    "```{note}\n",
    "There are probably dozens of other ways to perform linear regression - different packages and such.  Just read the package documentation, construct a simple example so you understand the function call(s) and you can regress to your heart's content.\n",
    "```"
   ]
  },
  {
   "cell_type": "markdown",
   "metadata": {},
   "source": [
    "## References"
   ]
  },
  {
   "cell_type": "markdown",
   "metadata": {},
   "source": [
    "- __\"Linear Regression in Python\"__ by __Sadrach Pierre__ available at* https://towardsdatascience.com/linear-regression-in-python-a1d8c13f3242 <br>\n",
    "- __\"Introduction to Linear Regression in Python\"__ available at* https://cmdlinetips.com/2019/09/introduction-to-linear-regression-in-python/ <br>\n",
    "- __\"Linear Regression in Python\"__ by __Mirko Stojiljković__ available at* https://realpython.com/linear-regression-in-python/ <br>\n",
    "- [https://inferentialthinking.com/chapters/15/Prediction.html](https://inferentialthinking.com/chapters/15/Prediction.html)<br>\n",
    "\n",
    ":::{admonition} If you can't read ...\n",
    ":class: tip\n",
    "\n",
    "- [__\"StatQuest: Fitting a line to data, aka least squares, aka linear regression.\"__ by __StatQuest with Josh Starmer__ *YouTube*](https://www.youtube.com/watch?v=PaFPbb66DxQ&list=PLblh5JKOoLUIzaEkCLIUxQFjPIlapw8nU) <br>\n",
    "- [__\"Statistics 101: Linear Regression, The Very Basics\"__ by __Brandon Foltz__ *YouTube*](https://www.youtube.com/watch?v=ZkjP5RJLQF4) <br>\n",
    "- [__\"How to Build a Linear Regression Model in Python | Part 1\" and 2,3,4!__ by __Sigma Coding__*YouTube*](https://www.youtube.com/watch?v=MRm5sBfdBBQ) <br>\n",
    ":::\n"
   ]
  },
  {
   "cell_type": "markdown",
   "metadata": {},
   "source": [
    "<hr><hr>\n",
    "\n",
    "## Laboratory 26\n",
    "\n",
    "**Examine** (click) Laboratory 26 as a webpage at [Laboratory 26.html](http://54.243.252.9/engr-1330-webroot/8-Labs/Lab26/Lab26.html)\n",
    "\n",
    "**Download** (right-click, save target as ...) Laboratory 26 as a jupyterlab notebook from [Laboratory 26.ipynb](http://54.243.252.9/engr-1330-webroot/8-Labs/Lab26/Lab26.ipynb)\n"
   ]
  },
  {
   "cell_type": "markdown",
   "metadata": {},
   "source": [
    "<hr><hr>\n",
    "\n",
    "## Exercise Set 26\n",
    "\n",
    "**Examine** (click) Exercise Set 26 as a webpage at [Exercise 26.html](http://54.243.252.9/engr-1330-webroot/8-Labs/Lab26/Lab26-TH.html)\n",
    "\n",
    "**Download** (right-click, save target as ...) Exercise Set 26 as a jupyterlab notebook at  [Exercise Set 26.ipynb](http://54.243.252.9/engr-1330-webroot/8-Labs/Lab26/Lab26-TH.ipynb)\n",
    "\n"
   ]
  }
 ],
 "metadata": {
  "kernelspec": {
   "display_name": "Python 3",
   "language": "python",
   "name": "python3"
  },
  "language_info": {
   "codemirror_mode": {
    "name": "ipython",
    "version": 3
   },
   "file_extension": ".py",
   "mimetype": "text/x-python",
   "name": "python",
   "nbconvert_exporter": "python",
   "pygments_lexer": "ipython3",
   "version": "3.8.10"
  }
 },
 "nbformat": 4,
 "nbformat_minor": 4
}
