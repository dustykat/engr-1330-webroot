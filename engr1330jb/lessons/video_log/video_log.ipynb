{
 "cells": [
  {
   "cell_type": "markdown",
   "metadata": {},
   "source": [
    "<div class=\"alert alert-block alert-info\">\n",
    "    <b><h1>ENGR 1330 Computational Thinking with Data Science </h1></b> \n",
    "</div> \n",
    "\n",
    "Copyright © 2021 Theodore G. Cleveland and Farhang Forghanparast\n",
    "\n",
    "Last GitHub Commit Date: \n",
    "    \n",
    "# Video Collection\n",
    "- Lesson Videos\n",
    "- Lab Videos\n",
    "- How-to ... videos"
   ]
  },
  {
   "cell_type": "markdown",
   "metadata": {},
   "source": [
    "## Lesson Videos\n",
    "\n",
    "### Spring 2022\n",
    "\n",
    "### Fall 2021\n",
    "\n",
    "- Intro to hypothesis tests [ENGR-1330-2021-3-Lesson16](https://youtu.be/BNwDQytvLeE)\n",
    "- A/B Tests, and other comparisons of collections [ENGR-1330-2021-3-Lesson17](https://youtu.be/ZbLTfSEoXP4)\n",
    "- Interval Estimates [ENGR-1330-2021-3-Lesson18](https://youtu.be/gy7jcXlXdTY)\n",
    "- Introduction to Regression[ENGR-1330-2021-3-Lesson19](https://youtu.be/FVXPSYTI9gs)\n",
    "- Prediction intervals [ENGR-1330-2021-3-Lesson20](https://youtu.be/5KevAWFdzg0)\n",
    "- Probability estimation data models [ENGR-1330-2021-3-Lesson21](https://youtu.be/2MLrixPHmnU)\n",
    "- Introduction to classification [ENGR-1330-2021-3-Lesson22](https://youtu.be/t2oBidpfWyE)\n",
    "- KNN Classification [ENGR-1330-2021-3-Lesson23](https://youtu.be/mydiKruTOzE)\n",
    "\n",
    "### Spring 2021\n",
    "\n",
    "### Fall 2020"
   ]
  },
  {
   "cell_type": "markdown",
   "metadata": {},
   "source": []
  },
  {
   "cell_type": "markdown",
   "metadata": {},
   "source": [
    "## Laboratory Videos\n",
    "\n",
    "### Spring 2022\n",
    "\n",
    "### Fall 2021\n",
    "\n",
    "### Spring 2021\n",
    "\n",
    "### Fall 2020\n",
    "\n",
    "\n"
   ]
  },
  {
   "cell_type": "markdown",
   "metadata": {},
   "source": [
    "## How-To Videos\n"
   ]
  },
  {
   "cell_type": "markdown",
   "metadata": {},
   "source": [
    "## References"
   ]
  },
  {
   "cell_type": "code",
   "execution_count": null,
   "metadata": {},
   "outputs": [],
   "source": []
  }
 ],
 "metadata": {
  "kernelspec": {
   "display_name": "Python 3",
   "language": "python",
   "name": "python3"
  },
  "language_info": {
   "codemirror_mode": {
    "name": "ipython",
    "version": 3
   },
   "file_extension": ".py",
   "mimetype": "text/x-python",
   "name": "python",
   "nbconvert_exporter": "python",
   "pygments_lexer": "ipython3",
   "version": "3.8.10"
  }
 },
 "nbformat": 4,
 "nbformat_minor": 4
}
