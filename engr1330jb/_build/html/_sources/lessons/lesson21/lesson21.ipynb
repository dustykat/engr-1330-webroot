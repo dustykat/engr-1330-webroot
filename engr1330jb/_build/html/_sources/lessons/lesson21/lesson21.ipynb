{
 "cells": [
  {
   "cell_type": "markdown",
   "metadata": {},
   "source": [
    "<div class=\"alert alert-block alert-info\">\n",
    "    <b><h1>ENGR 1330 Computational Thinking with Data Science </h1></b> \n",
    "</div> \n",
    "\n",
    "Copyright © 2021 Theodore G. Cleveland and Farhang Forghanparast\n",
    "\n",
    "Last GitHub Commit Date: \n",
    "    \n",
    "# 21: Testing Hypothesis - Comparing Collections\n",
    "- Comparing two (or more) collections of observations\n",
    "- Comparing proportions\n",
    "\n",
    "A procedure to systematically decide if two data collections are similar or substantially different.\n",
    "\n"
   ]
  },
  {
   "cell_type": "markdown",
   "metadata": {},
   "source": [
    "## Objectives\n",
    "- To apply fundamental concepts involved in probability estimation modeling and descriptive statistics;\n",
    "  - Concept of a hypothesis\n",
    "- Hypothesis components\n",
    "  - Null hypothesis and alternative hypothesis\n",
    "  - Normal distribution model\n",
    "  - One-tail, two-tail tests\n",
    "  - Attained significance\n",
    "- Decision Error\n",
    "  - Type-1, Type-2\n",
    "\n",
    "## Computational Thinking Concepts\n",
    "The CT concepts include:\n",
    "\n",
    "- Abstraction => Represent data behavior with a function \n",
    "- Pattern Recognition => Patterns in data models to make decision\n",
    "\n"
   ]
  },
  {
   "cell_type": "markdown",
   "metadata": {},
   "source": [
    "In engineering, when we wish to start asking questions about the data and interpret the results, we use statistical methods that provide a confidence or likelihood about the answers. In general, this class of methods is called statistical hypothesis testing, or significance tests. The material for today's lecture is inspired by and gathered from several resources including:\n",
    "\n",
    "- Hypothesis testing in Machine learning using Python by Yogesh Agrawal available at https://towardsdatascience.com/hypothesis-testing-in-machine-learning-using-python-a0dc89e169ce\n",
    "- Demystifying hypothesis testing with simple Python examples by Tirthajyoti Sarkar available at https://towardsdatascience.com/demystifying-hypothesis-testing-with-simple-python-examples-4997ad3c5294\n",
    "- A Gentle Introduction to Statistical Hypothesis Testing by Jason Brownlee available at https://machinelearningmastery.com/statistical-hypothesis-tests/\n",
    "\n",
    "### Fundamental Concepts"
   ]
  },
  {
   "cell_type": "markdown",
   "metadata": {},
   "source": [
    "#### <font color=crimson>What is hypothesis testing ?</font><br>\n",
    "Hypothesis testing is a statistical method that is used in making statistical decisions (about population) using experimental data (samples). Hypothesis Testing is basically an assumption that we make about the population parameter.<br>\n",
    "\n",
    "Example : You state \"on average, students in the class are taller than 5 ft and 4 inches\" or \"an average boy is taller than an average girl\" or \"a specific treatment is effective in treating COVID-19 patients\". <br>\n",
    "\n",
    "We need some mathematical way support that whatever we are stating is true. \n",
    "We validate these hypotheses, basing our conclusion on random samples and empirical distributions."
   ]
  },
  {
   "cell_type": "markdown",
   "metadata": {},
   "source": [
    "#### <font color=crimson>Why do we use it ?</font><br>\n",
    "Hypothesis testing is an essential procedure in experimentation. A hypothesis test evaluates two mutually exclusive statements about a population to determine which statement is supported by the sample data. When we say that a finding is **statistically significant**, it’s thanks to a hypothesis test."
   ]
  },
  {
   "cell_type": "markdown",
   "metadata": {},
   "source": [
    "### Comparing Two Collections\n",
    "\n",
    "Lets first examine a typical data question; you will need an empty notebook to follow along, as only the code is supplied!\n",
    "\n",
    "<font color=crimson>Do construction activities impact stormwater solids metrics?</font><br>\n",
    "\n"
   ]
  },
  {
   "cell_type": "markdown",
   "metadata": {},
   "source": [
    "The webroot for the subsequent examples/exercises is [http://54.243.252.9/engr-1330-webroot/9-MyJupyterNotebooks/41A-HypothesisTests/](http://54.243.252.9/engr-1330-webroot/9-MyJupyterNotebooks/41A-HypothesisTests/)\n",
    "\n",
    "### Background\n",
    "The Clean Water Act (CWA) prohibits storm water discharge from construction sites\n",
    "that disturb 5 or more acres, unless authorized by a National Pollutant Discharge\n",
    "Elimination System (NPDES) permit. Permittees must provide a site description,\n",
    "identify sources of contaminants that will affect storm water, identify appropriate\n",
    "measures to reduce pollutants in stormwater discharges, and implement these measures.\n",
    "The appropriate measures are further divided into four classes: erosion and\n",
    "sediment control, stabilization practices, structural practices, and storm water management.\n",
    "Collectively the site description and accompanying measures are known as\n",
    "the facility’s Storm Water Pollution Prevention Plan (SW3P).\n",
    "The permit contains no specific performance measures for construction activities,\n",
    "but states that ”EPA anticipates that storm water management will be able to\n",
    "provide for the removal of at least 80% of the total suspended solids (TSS).” The\n",
    "rules also note ”TSS can be used as an indicator parameter to characterize the\n",
    "control of other pollutants, including heavy metals, oxygen demanding pollutants,\n",
    "and nutrients commonly found in stormwater discharges”; therefore, solids control is\n",
    "critical to the success of any SW3P.\n",
    "Although the NPDES permit requires SW3Ps to be in-place, it does not require\n",
    "any performance measures as to the effectiveness of the controls with respect to\n",
    "construction activities. The reason for the exclusion was to reduce costs associated\n",
    "with monitoring storm water discharges, but unfortunately the exclusion also makes\n",
    "it difficult for a permittee to assess the effectiveness of the controls implemented at\n",
    "their site. Assessing the effectiveness of controls will aid the permittee concerned\n",
    "with selecting the most cost effective SW3P.<br>\n",
    "\n",
    "### Problem Statement <br>\n",
    "The files precon.CSV and durcon.CSV contain observations of cumulative\n",
    "rainfall, total solids, and total suspended solids collected from a construction\n",
    "site on Nasa Road 1 in Harris County. <br>\n",
    "The data in the file precon.CSV was collected `before` construction began. The data in the file durcon.CSV were collected `during` the construction activity.<br>\n",
    "The first column is the date that the observation was made, the second column the total solids (by standard methods), the third column is is the total suspended solids (also by standard methods), and the last column is the cumulative rainfall for that storm.<br>\n",
    "\n",
    "These data are not time series (there was sufficient time between site visits that you can safely assume each storm was independent.\n",
    "__Our task is to analyze these two data sets and decide if construction activities impact stormwater quality in terms of solids measures.__"
   ]
  },
  {
   "cell_type": "markdown",
   "metadata": {
    "jupyter": {
     "outputs_hidden": false
    }
   },
   "source": [
    "```\n",
    "import numpy as np\n",
    "import pandas as pd\n",
    "import matplotlib.pyplot as plt\n",
    "```"
   ]
  },
  {
   "cell_type": "markdown",
   "metadata": {},
   "source": [
    "Lets introduce script to automatically get the files from the named resource, in this case a web server!"
   ]
  },
  {
   "cell_type": "markdown",
   "metadata": {},
   "source": [
    "```\n",
    "import requests # Module to process http/https requests\n",
    "\n",
    "remote_url=\"http://54.243.252.9/engr-1330-webroot/9-MyJupyterNotebooks/41A-HypothesisTests/precon.csv\"  # set the url\n",
    "rget = requests.get(remote_url, allow_redirects=True)  # get the remote resource, follow imbedded links\n",
    "open('precon.csv','wb').write(rget.content) # extract from the remote the contents, assign to a local file same name\n",
    "\n",
    "remote_url=\"http://54.243.252.9/engr-1330-webroot/9-MyJupyterNotebooks/41A-HypothesisTests/durcon.csv\"  # set the url\n",
    "rget = requests.get(remote_url, allow_redirects=True)  # get the remote resource, follow imbedded links\n",
    "open('durcon.csv','wb').write(rget.content) # extract from the remote the contents, assign to a local file same name\n",
    "```"
   ]
  },
  {
   "cell_type": "markdown",
   "metadata": {},
   "source": [
    "Read and examine the files, see if we can understand their structure"
   ]
  },
  {
   "cell_type": "markdown",
   "metadata": {
    "jupyter": {
     "outputs_hidden": false
    }
   },
   "source": [
    "```\n",
    "precon = pd.read_csv(\"precon.csv\")\n",
    "durcon = pd.read_csv(\"durcon.csv\") \n",
    "```"
   ]
  },
  {
   "cell_type": "markdown",
   "metadata": {
    "jupyter": {
     "outputs_hidden": false
    }
   },
   "source": [
    "```\n",
    "precon.head()\n",
    "```"
   ]
  },
  {
   "cell_type": "markdown",
   "metadata": {
    "jupyter": {
     "outputs_hidden": false
    }
   },
   "source": [
    "```\n",
    "durcon.head()\n",
    "```"
   ]
  },
  {
   "cell_type": "markdown",
   "metadata": {
    "jupyter": {
     "outputs_hidden": false
    }
   },
   "source": [
    "```\n",
    "precon.describe()\n",
    "```"
   ]
  },
  {
   "cell_type": "markdown",
   "metadata": {
    "jupyter": {
     "outputs_hidden": false
    }
   },
   "source": [
    "```\n",
    "durcon.describe()\n",
    "```"
   ]
  },
  {
   "cell_type": "markdown",
   "metadata": {},
   "source": [
    "Lets make some exploratory histograms to guide our investigation\n",
    "\n",
    "- Is the rainfall different before construction?\n",
    "\n",
    "```\n",
    "precon['RAIN.PRE'].hist(alpha=0.4,color='red',density=\"True\")\n",
    "durcon['RAIN.DUR'].hist(alpha=0.4,color='blue',density=\"True\")\n",
    "```\n",
    "\n",
    "This will show that as \"distributions\" they look pretty similar, although the during construction data has a few larger events.\n",
    "\n",
    "Now\n",
    "\n",
    "- Is the total solids (TS) different before construction?\n",
    "\n",
    "```\n",
    "precon['TS.PRE'].hist(alpha=0.4,color='red',density=\"True\")\n",
    "durcon['TS.DUR'].hist(alpha=0.4,color='blue',density=\"True\")\n",
    "```\n",
    "\n",
    "Here it is hard to tell, but the preconstruction values are all to the left while the during construction phase has some large values.  \n",
    "\n",
    "Lets compare means and standard deviations\n",
    "\n",
    "$ \\mu TS_{pre} = 463 $<br>\n",
    "$ \\sigma TS_{pre} = 361 $<br>\n",
    "$ \\mu TS_{dur} = 3495 $<br>\n",
    "$ \\sigma TS_{dur} = 7104 $<br>\n",
    "\n",
    "Certainly different, and the mean during construction is 8 pre-construction standard deviations larger, hence supportive of a claim that there is a difference, however the standard deviation of the during phase is huge, easily encompassing the preconstruction mean, so is there really a difference?  We could resort to simulation to try to answer the question.\n",
    "\n",
    "```\n",
    "\n",
    "\n",
    "pre_s = np.random.normal(np.array(precon['TS.PRE']).mean(), np.array(precon['TS.PRE']).std(), 10000) # random sample from a normal distribution function\n",
    "dur_s = np.random.normal(np.array(durcon['TS.DUR']).mean(), np.array(durcon['TS.DUR']).std(), 10000) # random sample from a normal distribution function\n",
    "myfakedata_d = pd.DataFrame({'PreSim':pre_s,'DurSim':dur_s}) # make into a dataframe _d == derived\n",
    "fig, ax = plt.subplots()\n",
    "myfakedata_d.plot.hist(density=False, ax=ax, title='Histogram: Pre samples vs. Dur samples', bins=40)\n",
    "ax.set_ylabel('Count')\n",
    "ax.grid(axis='y')\n",
    "```\n",
    "\n",
    "Here we learn the standard deviations mean a lot, and the normal distribution is probably not the best model (negative solids don't make physical sense).  However it does point to the important issue, how to quantify the sameness or differences?  \n",
    "\n",
    "Thats the goal of hypothesis testing methods.\n",
    "\n",
    "In lab you will use similar explorations, and next time we will get into the actual methods."
   ]
  },
  {
   "cell_type": "markdown",
   "metadata": {},
   "source": [
    "## References"
   ]
  },
  {
   "cell_type": "code",
   "execution_count": null,
   "metadata": {},
   "outputs": [],
   "source": []
  },
  {
   "cell_type": "markdown",
   "metadata": {},
   "source": [
    "<hr>\n",
    "\n",
    "## Laboratory 21\n",
    "\n",
    "**Examine** (click) Laboratory 21 as a webpage at [Laboratory 21.html](http://54.243.252.9/engr-1330-webroot/8-Labs/Lab21/Lab21.html)\n",
    "\n",
    "**Download** (right-click, save target as ...) Laboratory 21 as a jupyterlab notebook from [Laboratory 21.ipynb](http://54.243.252.9/engr-1330-webroot/8-Labs/Lab17/Lab17.ipynb)\n"
   ]
  },
  {
   "cell_type": "markdown",
   "metadata": {},
   "source": [
    "<hr><hr>\n",
    "\n",
    "## Exercise Set 21\n",
    "\n",
    "**Examine** (click) Exercise Set 21 as a webpage at [Exercise 21.html](http://54.243.252.9/engr-1330-webroot/8-Labs/Lab21/Lab21-TH.html)\n",
    "\n",
    "**Download** (right-click, save target as ...) Exercise Set 21 as a jupyterlab notebook at  [Exercise Set 21.ipynb](http://54.243.252.9/engr-1330-webroot/8-Labs/Lab21/Lab21-TH.ipynb)\n",
    "\n"
   ]
  },
  {
   "cell_type": "code",
   "execution_count": null,
   "metadata": {},
   "outputs": [],
   "source": []
  }
 ],
 "metadata": {
  "kernelspec": {
   "display_name": "Python 3",
   "language": "python",
   "name": "python3"
  },
  "language_info": {
   "codemirror_mode": {
    "name": "ipython",
    "version": 3
   },
   "file_extension": ".py",
   "mimetype": "text/x-python",
   "name": "python",
   "nbconvert_exporter": "python",
   "pygments_lexer": "ipython3",
   "version": "3.8.10"
  }
 },
 "nbformat": 4,
 "nbformat_minor": 4
}
