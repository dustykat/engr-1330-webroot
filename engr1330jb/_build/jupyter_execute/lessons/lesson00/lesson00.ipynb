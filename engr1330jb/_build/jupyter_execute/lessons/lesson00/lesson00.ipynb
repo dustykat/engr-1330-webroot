{
 "cells": [
  {
   "cell_type": "markdown",
   "metadata": {},
   "source": [
    "<div class=\"alert alert-block alert-info\">\n",
    "    <b><h1>ENGR 1330 Computational Thinking with Data Science </h1></b> \n",
    "</div> \n",
    "\n",
    "Copyright © 2021 Theodore G. Cleveland and Farhang Forghanparast\n",
    "    \n",
    "# 0: Introduction\n",
    "- Introduction to Course and Web-enabled content\n",
    "- Computational thinking concepts \n",
    "- JupyterLab Environment for ENGR 1330 "
   ]
  },
  {
   "cell_type": "markdown",
   "metadata": {},
   "source": [
    "---\n",
    "## Course Content\n",
    "\n",
    "The course content is hosted at [http://54.243.252.9/engr-1330-webroot/](http://54.243.252.9/engr-1330-webroot/).  Direct access is not the intended way to get the content, as the web-site is comparatively unstructured.  Instead use the links in the syllabus located at [http://54.243.252.9/engr-1330-webroot/0-Syllabus/ENGR-1330-2022-1-Syllabus.html](http://54.243.252.9/engr-1330-webroot/0-Syllabus/ENGR-1330-2022-1-Syllabus.html) .  \n",
    "\n"
   ]
  },
  {
   "cell_type": "markdown",
   "metadata": {},
   "source": [
    "---\n",
    "\n",
    "## Computational Thinking Concepts\n",
    "\n",
    "Computational thinking (CT) refers to the thought processes involved in expressing solutions as computational steps or algorithms that can be carried out by a computer. Data science is one of several applications of CT.\n",
    "\n",
    "Much of what follows is borrowed from (https://www.ncbi.nlm.nih.gov/pmc/articles/PMC2696102/).\n",
    "\n",
    "Computational thinking is taking an approach to solving problems, designing systems and understanding human behaviour that draws on concepts fundamental to computing (http://www.cs.cmu.edu/~15110-s13/Wing06-ct.pdf).\n",
    "\n",
    "Computational thinking is a kind of analytical thinking:\n",
    "\n",
    "- It shares with mathematical thinking in the general ways in which we might approach solving a problem. \n",
    "- It shares with engineering thinking in the general ways in which we might approach designing and evaluating a large, complex system that operates within the constraints of the real world. - It shares with scientific thinking in the general ways in which we might approach understanding computability, intelligence, the mind and human behaviour.\n",
    "\n",
    "The essence of computational thinking is **abstraction** and **automation**. \n",
    "In computing, we abstract notions beyond the physical dimensions of time and space. Our abstractions are extremely general because they are symbolic, where numeric abstractions are just a special case.\n",
    "\n",
    "### CT Foundations\n",
    "\n",
    "CT is literally a process for breaking down a problem into smaller parts, looking for patterns in the problems, identifying what kind of information is needed, developing a step-by-step solution, and implementing that solution. \n",
    "\n",
    "1. Decomposition\n",
    "2. Pattern Recognition\n",
    "3. Abstraction\n",
    "4. Algorithms\n",
    "5. System Integration (implementation)\n",
    "\n",
    "#### Decomposition\n",
    "Decomposition is the process of taking a complex problem and breaking it into more manageable sub-problems. Examples include:  \n",
    "- Writing a paper:  \n",
    " - Introduction \n",
    " - Body \n",
    " - Conclusion \n",
    " \n",
    "- Wide-viewed (Panorama) image: \n",
    " - Taking multiple overlapped photos \n",
    " - Stitch them\n",
    " \n",
    "Decomposition often leaves a **framework** of sub-problems that later have to be **assembled (system integration)** to produce a desired solution.\n",
    " \n",
    "#### Pattern Recognition\n",
    "Refers to finding similarities, or shared characteristics of problems.  Allows a complex problem to become easier to solve. Allows use of same solution method for each occurrence of the pattern. \n",
    "\n",
    "Pattern recognition allows use of **automation** to process things - its a fundamental drilled shaft of CT.  It also provides a way to use analogs from old problems to address new situations; it also will require **assembly (system integration)** to produce a desired solution.\n",
    "\n",
    "#### Abstraction\n",
    "\n",
    "Determine important characteristics of the problem and ignore characteristics that are not important. Use these characteristics to create a representation of what we are trying to solve. \n",
    "\n",
    "Books in an online bookstore\n",
    "\n",
    "|Important| NOT important| \n",
    "|:--------|:-------------|\n",
    "|title    | Cover color  |\n",
    "|ISBN     |Author’s hometown| \n",
    "|Authors  | ... |\n",
    "|...      | ... |\n",
    "\n",
    "\n",
    "#### Algorithms\n",
    "Step-by-step instructions of how to solve a problem (https://en.wikipedia.org/wiki/Algorithm). \n",
    "Identifies what is to be done, and the order in which they should be done.\n",
    "\n",
    "```{figure} algorithm.png\n",
    "---\n",
    "width: 400px\n",
    "name: algorithm\n",
    "---\n",
    "Humorous \"algorithm\". Image from [https://www.newyorker.com/magazine/2021/01/18/whats-wrong-with-the-way-we-work?utm_source=pocket-newtab](https://www.newyorker.com/magazine/2021/01/18/whats-wrong-with-the-way-we-work?utm_source=pocket-newtab)\n",
    "```\n",
    "{numref}`algorithm`\n",
    "\n",
    "<!--![](algorithm.png) \n",
    "\n",
    "||Image from [https://www.newyorker.com/magazine/2021/01/18/whats-wrong-with-the-way-we-work?utm_source=pocket-newtab](https://www.newyorker.com/magazine/2021/01/18/whats-wrong-with-the-way-we-work?utm_source=pocket-newtab)||\n",
    "|---|------------|---| -->\n",
    "\n",
    "An algorithm is a **finite** sequence of defined, instructions, typically to solve a class of problems or to perform a computation. Algorithms are unambiguous and are used as specifications for performing calculations, data processing, automated reasoning, and other tasks. Starting from an initial state and initial input (perhaps empty), the instructions describe a computation that, when executed, proceeds through a finite number of defined successive states, eventually producing \"output\" and terminating at a final ending state. The transition from one state to the next is not necessarily deterministic; some algorithms, known as randomized algorithms, can incorporate random input.\n",
    "\n",
    "#### System Integration (implementation)\n",
    "\n",
    "System integration is the assembly of the parts above into the complete (integrated) solution.  Integration combines parts into a program which is the realization of an algorithm using a syntax that the computer can understand. "
   ]
  },
  {
   "cell_type": "markdown",
   "metadata": {},
   "source": [
    "## JupyterLab Environment"
   ]
  },
  {
   "cell_type": "markdown",
   "metadata": {},
   "source": [
    "## References\n",
    "\n",
    "1. Driscoll, M. (2021) *Jupyter Notebook: An Introduction*, [https://realpython.com/jupyter-notebook-introduction/](https://realpython.com/jupyter-notebook-introduction/) \n",
    "\n",
    "2. Computational and Inferential Thinking Ani Adhikari and John DeNero, Computational and Inferential Thinking, The Foundations of Data Science, Creative Commons Attribution-NonCommercial-NoDerivatives 4.0 International (CC BY-NC-ND) Chapter 1 [https://www.inferentialthinking.com/chapters/01/what-is-data-science.html](https://www.inferentialthinking.com/chapters/01/what-is-data-science.html)\n",
    "\n",
    "3. Learn Python the Hard Way (Online Book) [https://learnpythonthehardway.org/book/](https://learnpythonthehardway.org/book/)  Recommended for beginners who want a complete course in programming with Python.\n",
    "\n",
    "4. LearnPython.org (Interactive Tutorial) [https://www.learnpython.org/](https://www.learnpython.org/)  Short, interactive tutorial for those who just need a quick way to pick up Python syntax.\n",
    "\n",
    "5. How to Think Like a Computer Scientist (Interactive Book) [https://runestone.academy/runestone/books/published/thinkcspy/index.html](https://runestone.academy/runestone/books/published/thinkcspy/index.html) Interactive \"CS 101\" course taught in Python that really focuses on the art of problem solving. "
   ]
  },
  {
   "cell_type": "markdown",
   "metadata": {
    "jupyter": {
     "source_hidden": true
    }
   },
   "source": [
    "---\n",
    "\n",
    "## Laboratory 0\n",
    "\n",
    "**Examine** (click) Laboratory 0 as a webpage at [Laboratory 0.html](http://54.243.252.9/engr-1330-webroot/8-Labs/Lab00/Lab00.html)\n",
    "\n",
    "**Download** (right-click, save target as ...) Laboratory 0 as a jupyterlab notebook from [Laboratory 0.ipynb](http://54.243.252.9/engr-1330-webroot/8-Labs/Lab00/Lab00.ipynb)\n"
   ]
  },
  {
   "cell_type": "markdown",
   "metadata": {},
   "source": [
    "<hr><hr>\n",
    "\n",
    "## Exercise Set 0\n",
    "\n",
    "**Examine** (click) Exercise Set 0 as a webpage at [Exercise 0.html](http://54.243.252.9/engr-1330-webroot/8-Labs/Lab00/Lab00-TH.html)\n",
    "\n",
    "**Download** (right-click, save target as ...) Exercise Set 0 as a jupyterlab notebook at  [Exercise Set 0.ipynb](http://54.243.252.9/engr-1330-webroot/8-Labs/Lab00/Lab00-TH.ipynb)\n",
    "\n"
   ]
  },
  {
   "cell_type": "code",
   "execution_count": null,
   "metadata": {},
   "outputs": [],
   "source": []
  }
 ],
 "metadata": {
  "kernelspec": {
   "display_name": "Python 3",
   "language": "python",
   "name": "python3"
  },
  "language_info": {
   "codemirror_mode": {
    "name": "ipython",
    "version": 3
   },
   "file_extension": ".py",
   "mimetype": "text/x-python",
   "name": "python",
   "nbconvert_exporter": "python",
   "pygments_lexer": "ipython3",
   "version": "3.8.10"
  }
 },
 "nbformat": 4,
 "nbformat_minor": 4
}