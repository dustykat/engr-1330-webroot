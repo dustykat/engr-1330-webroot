{
 "cells": [
  {
   "cell_type": "markdown",
   "metadata": {},
   "source": [
    "<div class=\"alert alert-block alert-info\">\n",
    "    <b><h1>ENGR 1330 Computational Thinking with Data Science </h1></b> \n",
    "</div> \n",
    "\n",
    "Copyright © 2021 Theodore G. Cleveland and Farhang Forghanparast\n",
    "\n",
    "Last GitHub Commit Date: \n",
    "\n",
    "# 33: Classification Engines - Nearest Neighbor\n",
    "- Create KNN models to classify output based on multiple continuous inputs\n",
    "- Create presentation-quality graphs and charts for reporting results\n"
   ]
  },
  {
   "cell_type": "markdown",
   "metadata": {},
   "source": [
    "This lesson continues with classification engines, and in particular examines the nearest neighbor method\n",
    "<!--![](https://www.thermofisher.com/blog/wp-content/uploads/sites/11/2018/01/istock-829172394_redumbrella.jpg)-->\n",
    "\n",
    "## Objectives\n",
    "\n",
    "- Create KNN models to classify output based on multiple continuous inputs\n",
    "- Create presentation-quality graphs and charts for reporting results\n",
    "---\n",
    "\n",
    "## Computational Thinking Concepts\n",
    "\n",
    "|Description|Computational Thinking Concept|\n",
    "|:---|:---|\n",
    "|Logistic Model|Abstraction|\n",
    "|Response and Explanatory Variables|Decomposition|\n",
    "|Primitive arrays: vectors and matrices|Data Representation|\n",
    "|NumPy arrays: vectors and matrices|Data Representation|\n",
    "\n",
    "---\n",
    "\n",
    "## Textbook Resources\n",
    "\n",
    "[https://inferentialthinking.com/chapters/17/Classification.html](https://inferentialthinking.com/chapters/17/Classification.html)\n",
    "\n",
    "<hr>"
   ]
  },
  {
   "cell_type": "markdown",
   "metadata": {},
   "source": [
    "## About KNN\n",
    "\n",
    "The K-nearest neighbors (KNN) algorithm is a type of supervised machine learning algorithms. \n",
    "KNN is easy to implement in its most basic form, and yet performs quite complex classification tasks. It is a lazy learning algorithm since it doesn't have a specialized training phase. Rather, it uses all of the data for training while classifying a new data point or instance. KNN is a non-parametric learning algorithm, which means that it doesn't assume anything about the underlying data. This is an extremely useful feature since most of the real world data doesn't really follow any theoretical assumption.\n",
    "\n",
    "A more uppity description from [https://en.wikipedia.org/wiki/K-nearest_neighbors_algorithm](https://en.wikipedia.org/wiki/K-nearest_neighbors_algorithm) is:\n",
    "\n",
    ">In statistics, the k-nearest neighbors algorithm (k-NN) is a non-parametric classification method first developed by Evelyn Fix and Joseph Hodges in 1951, and later expanded by Thomas Cover. It is used for classification and regression. In both cases, the input consists of the k closest training examples in a data set. The output depends on whether k-NN is used for classification or regression:\n",
    ">\n",
    "> - In k-NN classification, the output is a class membership. An object is classified by a plurality vote of its neighbors, with the object being assigned to the class most common among its k nearest neighbors (k is a positive integer, typically small). If k = 1, then the object is simply assigned to the class of that single nearest neighbor.\n",
    ">\n",
    "> - In k-NN regression, the output is the property value for the object. This value is the average of the values of k nearest neighbors.\n",
    ">\n",
    ">k-NN is a type of classification where the function is only approximated locally and all computation is deferred until function evaluation. Since this algorithm relies on distance for classification, if the features represent different physical units or come in vastly different scales then normalizing the training data can improve its accuracy dramatically.\n",
    ">\n",
    ">Both for classification and regression, a useful technique can be to assign weights to the contributions of the neighbors, so that the nearer neighbors contribute more to the average than the more distant ones. For example, a common weighting scheme consists in giving each neighbor a weight of 1/d, where d is the distance to the neighbor.\n",
    ">\n",
    ">The neighbors are taken from a set of objects for which the class (for k-NN classification) or the object property value (for k-NN regression) is known. This can be thought of as the training set for the algorithm, though no explicit training step is required.\n",
    ">\n",
    ">A peculiarity of the k-NN algorithm is that it is sensitive to the local structure of the data. \n",
    "> ...\n",
    "\n",
    "## Background\n",
    "The First Law of Geography, according to Waldo Tobler, is \"everything is related to everything else, but near things are more related than distant things.\" \n",
    "The intuition behind the KNN algorithm is one of the simplest of all the supervised machine learning algorithms: \n",
    "\n",
    "<div><img src=\"https://geohealthinnovations.org/wp-content/uploads/2013/01/toblerquote.png\" width=\"200\" align=\"left\" style=\"padding-right: 20px\"></div> \n",
    "\n",
    "- It calculates the distance of a new data point to all other training data points. \n",
    "- The distance can be of any type e.g Euclidean or Manhattan etc. \n",
    "- It then selects the K-nearest data points, where K can be any integer. \n",
    "- Used as a classifier; it assigns the data point to the class to which the majority of the K data points belong.\n",
    "- Used as a predictor; it assigns to the data point a mean prediction value based on the associated values of the K data points. \n",
    "- An example of KNN as a predictor is the [SolidsInRivers](http://54.243.252.9/toolbox/geomorphology/SolidsInRivers/SolidsInRivers.html) estimation tool.\n",
    "<br><br>\n",
    "\n",
    "### Concept of Distance in N-Dimensional Space\n",
    "The concept of distance is vital to search engines; hence distance measures play an important role in machine learning. Three common used distance measures in machine learning are as follows:\n",
    "\n",
    "<div><img src=\"https://miro.medium.com/max/1576/1*vAtQZbROuTdp36aQQ8cqBA.png\" width=\"500\" align=\"left\" style=\"padding-right: 20px\"></div> \n",
    "        \n",
    "- Euclidean Distance: \n",
    "Calculates the distance between two real-valued vectors. Although there are other possible choices, most instance-based learners use Euclidean distance.\n",
    "        \n",
    "- Manhattan Distance: \n",
    "Also called the Taxicab distance or the City Block distance, calculates the distance between two real-valued vectors. It is perhaps more useful to vectors that describe objects on a uniform grid, like a chessboard or city blocks. The taxicab name for the measure refers to the intuition for what the measure calculates: the shortest path that a taxicab would take between city blocks (coordinates on the grid).\n",
    "        \n",
    "- Minkowski Distance: \n",
    "Calculates the distance between two real-valued vectors. It is a generalization of the Euclidean and Manhattan distance measures and adds a parameter, called the “order” or “p“, that allows different distance measures to be calculated. When p is set to 1, the calculation is the same as the Manhattan distance. When p is set to 2, it is the same as the Euclidean distance.  \n",
    "\n",
    "The [SolidsInRivers](http://54.243.252.9/toolbox/geomorphology/SolidsInRivers/SolidsInRivers.html) estimation tool, allows the user to specify the exponent in a Minkowski distance measure, and select the neighbor count (K).  Then it searches the database for the K nearest neighbors, and returns an estimate that is the arithmetic mean of these K values.\n",
    "\n",
    "### Data Normalization\n",
    "In KNN application the scale of predictors influences results; when the variables in the database are not expressed in the same magnitude, range, and scale. If values of one predictor are several orders of magnitude larger in the database than another predictor, the two are not directly comparable when computing a distance for the search algorithm. In such a case, one way to facilitate direct interpretation for comparing composite indices of the original data having different magnitudes and unit systems is to use normalization. Normalization serves the purpose of bringing the indicators into the same unit scale or unit base and makes distance computations appropriate. Normalizing data is done using various standardization techniques to assign a value to each variable so that they may be directly compared without unintentional bias due to differences in unit scale.\n",
    "#### Z-score Standardization\n",
    "Z-score standardization is a commonly used normalization method that converts all indicators to a common scale with an average of zero and standard deviation of one. \n",
    "This transformation is the same as computing a standard-normal score for each data value. \n",
    "\n",
    "$Z = \\frac{x-\\mu}{\\sigma}$\n",
    "\n",
    "where:<br>\n",
    "$x$ = Data point value <br>\n",
    "$\\mu$ = Mean <br>\n",
    "$\\sigma$ = Standard Deviation<br>\n",
    "\n",
    "\n",
    "The average of zero avoids the introduction of aggregation distortions stemming from differences in indicators’ means. \n",
    "The scaling factor is the standard deviation of the indicator across the various predictors being ranked. \n",
    "Thus, an indicator with extreme values will have intrinsically a greater effect on the composite indicator. \n",
    "The raw score on each data entry is converted to a Z-score, then distances are calculated using the Z-scores for each variable rather than the raw value. Upon completion of the distance calculations and selection of the nearest neighbors, the results are transformed back into the original values for subsequent presentation. Unit-Interval \n",
    "\n",
    "#### [0,1] Standardization\n",
    "An alternate approach for standardization is to use a mapping of each variable in the database to a [0,1] scale and linearly weight within the scale. \n",
    "This standardization has the same goal as Z-score, which is to prevent one variable from overwhelming the distance computations because of its relative magnitude. \n",
    "The unit interval [0,1] standardization technique differs from the Z-score in that the variability is governed by the minimum and maximum value for each variable, and hence **extrapolation is not feasible**. Because extrapolation is likely necessary until new records are added to any database, this standardization method is often useless.\n",
    " \n",
    "**That's enough background, now lets look at an example**"
   ]
  },
  {
   "cell_type": "markdown",
   "metadata": {},
   "source": [
    "## Example\n",
    "\n",
    "Let's see this algorithm in action with the help of a simple example. Suppose you have a dataset with two variables, which when plotted, looks like the one in the following figure.\n",
    "\n",
    "<img src=\"https://s3.amazonaws.com/stackabuse/media/k-nearest-neighbors-algorithm-python-scikit-learn-1.png\" width=\"500\">\n",
    "\n",
    "Your task is to classify a new data point with 'X' into \"Blue\" class or \"Red\" class. The coordinate values of the data point are x=45 and y=50. Suppose the value of K is 3. The KNN algorithm starts by calculating the distance of point X from all the points. It then finds the 3 nearest points with least distance to point X. This is shown in the figure below. The three nearest points have been encircled.\n",
    "\n",
    "<img src=\"https://s3.amazonaws.com/stackabuse/media/k-nearest-neighbors-algorithm-python-scikit-learn-2.png\" width=\"500\">\n",
    "\n",
    "\n",
    "The final step of the KNN algorithm is to assign new point to the class to which majority of the three nearest points belong. From the figure above we can see that the two of the three nearest points belong to the class \"Red\" while one belongs to the class \"Blue\". Therefore the new data point will be classified as \"Red\".\n",
    "\n",
    "<img src=\"https://miro.medium.com/max/1080/0*49s1xDlDKDsn55xa.gif\" width=\"500\">\n",
    "\n",
    "\n",
    "## Why KNN?\n",
    "\n",
    "<img src=\"https://miro.medium.com/max/1022/1*AuXDgGrr0wbCoF6KDXXSZQ.jpeg\" width=\"200\" align=\"left\" style=\"padding-right: 20px\">\n",
    "\n",
    "- It is extremely easy to implement\n",
    "- It is lazy learning algorithm and therefore requires no training prior to making real time predictions. This makes the KNN algorithm much faster than other algorithms that require training e.g SVM, linear regression, etc.\n",
    "- Since the algorithm requires no training before making predictions, new data can be added seamlessly.\n",
    "- There are only two parameters required to implement KNN i.e. the value of K and the distance function (e.g. Euclidean or Manhattan etc.)\n",
    "<br><br>\n",
    "\n"
   ]
  },
  {
   "cell_type": "markdown",
   "metadata": {},
   "source": [
    "<hr>\n",
    "<hr>"
   ]
  },
  {
   "cell_type": "markdown",
   "metadata": {},
   "source": [
    "## Example: Iris Plants Classification <br>\n",
    "\n",
    "<img src=\"https://i.etsystatic.com/10589108/r/il/213b38/1876572420/il_570xN.1876572420_ikcm.jpg\" width=\"200\" align=\"left\" style=\"padding-right: 20px\"> \n",
    "\n",
    "This is a well known problem and database to be found in the pattern recognition literature.  Fisher's paper is a classic in the field and is referenced frequently to this day. \n",
    "The Iris Flower Dataset involves predicting the flower species given measurements of iris flowers. \n",
    "\n",
    "The Iris Data Set contains information on sepal length, sepal width, petal length, petal width all in cm, and class of iris plants. \n",
    "The data set contains 3 classes of 50 instances each, where each class refers to a type of iris plant. \n",
    "Hence, it is a multiclass classification problem and the number of observations for each class is balanced.\n",
    "\n",
    "<img src=\"https://miro.medium.com/max/1000/1*lFC_U5j_Y8IXF4Ga87KNVg.png\" width=\"500\"><br>\n",
    "\n",
    "\n",
    "Let's use a KNN model in Python and see if we can classifity iris plants based on the four given predictors.\n",
    "\n",
    "<hr>\n",
    "\n",
    "*__Acknowledgements__*\n",
    "1. *Fisher,R.A. \"The use of multiple measurements in taxonomic problems\" Annual Eugenics, 7, Part II, 179-188 (1936); also in \"Contributions to Mathematical Statistics\" (John Wiley, NY, 1950).*\n",
    "2. *Duda,R.O., & Hart,P.E. (1973) Pattern Classification and Scene Analysis. (Q327.D83) John Wiley & Sons.  ISBN 0-471-22361-1.  See page 218.*\n",
    "3. *Dasarathy, B.V. (1980) \"Nosing Around the Neighborhood: A New System Structure and Classification Rule for Recognition in Partially Exposed Environments\".  IEEE Transactions on Pattern Analysis and Machine Intelligence, Vol. PAMI-2, No. 1, 67-71.*\n",
    "4. *Gates, G.W. (1972) \"The Reduced Nearest Neighbor Rule\".  IEEE Transactions on Information Theory, May 1972, 431-433.*      \n",
    "5. *See also: 1988 MLC Proceedings, 54-64.  Cheeseman et al's AUTOCLASS II conceptual clustering system finds 3 classes in the data.*"
   ]
  },
  {
   "cell_type": "markdown",
   "metadata": {},
   "source": [
    "Load some libraries:"
   ]
  },
  {
   "cell_type": "code",
   "execution_count": 1,
   "metadata": {},
   "outputs": [],
   "source": [
    "import numpy as np\n",
    "import pandas as pd\n",
    "from matplotlib import pyplot as plt\n",
    "import sklearn.metrics as metrics\n",
    "import seaborn as sns\n",
    "%matplotlib inline"
   ]
  },
  {
   "cell_type": "markdown",
   "metadata": {},
   "source": [
    "Read the dataset and explore it using tools such as descriptive statistics:"
   ]
  },
  {
   "cell_type": "code",
   "execution_count": 2,
   "metadata": {},
   "outputs": [],
   "source": [
    "# Read the remote directly from its url (Jupyter):\n",
    "url = \"https://archive.ics.uci.edu/ml/machine-learning-databases/iris/iris.data\"\n",
    "# Assign colum names to the dataset\n",
    "names = ['sepal-length', 'sepal-width', 'petal-length', 'petal-width', 'Class']\n",
    "# Read dataset to pandas dataframe\n",
    "dataset = pd.read_csv(url, names=names)"
   ]
  },
  {
   "cell_type": "code",
   "execution_count": 3,
   "metadata": {},
   "outputs": [
    {
     "data": {
      "text/html": [
       "<div>\n",
       "<style scoped>\n",
       "    .dataframe tbody tr th:only-of-type {\n",
       "        vertical-align: middle;\n",
       "    }\n",
       "\n",
       "    .dataframe tbody tr th {\n",
       "        vertical-align: top;\n",
       "    }\n",
       "\n",
       "    .dataframe thead th {\n",
       "        text-align: right;\n",
       "    }\n",
       "</style>\n",
       "<table border=\"1\" class=\"dataframe\">\n",
       "  <thead>\n",
       "    <tr style=\"text-align: right;\">\n",
       "      <th></th>\n",
       "      <th>sepal-length</th>\n",
       "      <th>sepal-width</th>\n",
       "      <th>petal-length</th>\n",
       "      <th>petal-width</th>\n",
       "      <th>Class</th>\n",
       "    </tr>\n",
       "  </thead>\n",
       "  <tbody>\n",
       "    <tr>\n",
       "      <th>145</th>\n",
       "      <td>6.7</td>\n",
       "      <td>3.0</td>\n",
       "      <td>5.2</td>\n",
       "      <td>2.3</td>\n",
       "      <td>Iris-virginica</td>\n",
       "    </tr>\n",
       "    <tr>\n",
       "      <th>146</th>\n",
       "      <td>6.3</td>\n",
       "      <td>2.5</td>\n",
       "      <td>5.0</td>\n",
       "      <td>1.9</td>\n",
       "      <td>Iris-virginica</td>\n",
       "    </tr>\n",
       "    <tr>\n",
       "      <th>147</th>\n",
       "      <td>6.5</td>\n",
       "      <td>3.0</td>\n",
       "      <td>5.2</td>\n",
       "      <td>2.0</td>\n",
       "      <td>Iris-virginica</td>\n",
       "    </tr>\n",
       "    <tr>\n",
       "      <th>148</th>\n",
       "      <td>6.2</td>\n",
       "      <td>3.4</td>\n",
       "      <td>5.4</td>\n",
       "      <td>2.3</td>\n",
       "      <td>Iris-virginica</td>\n",
       "    </tr>\n",
       "    <tr>\n",
       "      <th>149</th>\n",
       "      <td>5.9</td>\n",
       "      <td>3.0</td>\n",
       "      <td>5.1</td>\n",
       "      <td>1.8</td>\n",
       "      <td>Iris-virginica</td>\n",
       "    </tr>\n",
       "  </tbody>\n",
       "</table>\n",
       "</div>"
      ],
      "text/plain": [
       "     sepal-length  sepal-width  petal-length  petal-width           Class\n",
       "145           6.7          3.0           5.2          2.3  Iris-virginica\n",
       "146           6.3          2.5           5.0          1.9  Iris-virginica\n",
       "147           6.5          3.0           5.2          2.0  Iris-virginica\n",
       "148           6.2          3.4           5.4          2.3  Iris-virginica\n",
       "149           5.9          3.0           5.1          1.8  Iris-virginica"
      ]
     },
     "execution_count": 3,
     "metadata": {},
     "output_type": "execute_result"
    }
   ],
   "source": [
    "dataset.tail()"
   ]
  },
  {
   "cell_type": "code",
   "execution_count": 4,
   "metadata": {},
   "outputs": [
    {
     "data": {
      "text/html": [
       "<div>\n",
       "<style scoped>\n",
       "    .dataframe tbody tr th:only-of-type {\n",
       "        vertical-align: middle;\n",
       "    }\n",
       "\n",
       "    .dataframe tbody tr th {\n",
       "        vertical-align: top;\n",
       "    }\n",
       "\n",
       "    .dataframe thead th {\n",
       "        text-align: right;\n",
       "    }\n",
       "</style>\n",
       "<table border=\"1\" class=\"dataframe\">\n",
       "  <thead>\n",
       "    <tr style=\"text-align: right;\">\n",
       "      <th></th>\n",
       "      <th>sepal-length</th>\n",
       "      <th>sepal-width</th>\n",
       "      <th>petal-length</th>\n",
       "      <th>petal-width</th>\n",
       "    </tr>\n",
       "  </thead>\n",
       "  <tbody>\n",
       "    <tr>\n",
       "      <th>count</th>\n",
       "      <td>150.000000</td>\n",
       "      <td>150.000000</td>\n",
       "      <td>150.000000</td>\n",
       "      <td>150.000000</td>\n",
       "    </tr>\n",
       "    <tr>\n",
       "      <th>mean</th>\n",
       "      <td>5.843333</td>\n",
       "      <td>3.054000</td>\n",
       "      <td>3.758667</td>\n",
       "      <td>1.198667</td>\n",
       "    </tr>\n",
       "    <tr>\n",
       "      <th>std</th>\n",
       "      <td>0.828066</td>\n",
       "      <td>0.433594</td>\n",
       "      <td>1.764420</td>\n",
       "      <td>0.763161</td>\n",
       "    </tr>\n",
       "    <tr>\n",
       "      <th>min</th>\n",
       "      <td>4.300000</td>\n",
       "      <td>2.000000</td>\n",
       "      <td>1.000000</td>\n",
       "      <td>0.100000</td>\n",
       "    </tr>\n",
       "    <tr>\n",
       "      <th>25%</th>\n",
       "      <td>5.100000</td>\n",
       "      <td>2.800000</td>\n",
       "      <td>1.600000</td>\n",
       "      <td>0.300000</td>\n",
       "    </tr>\n",
       "    <tr>\n",
       "      <th>50%</th>\n",
       "      <td>5.800000</td>\n",
       "      <td>3.000000</td>\n",
       "      <td>4.350000</td>\n",
       "      <td>1.300000</td>\n",
       "    </tr>\n",
       "    <tr>\n",
       "      <th>75%</th>\n",
       "      <td>6.400000</td>\n",
       "      <td>3.300000</td>\n",
       "      <td>5.100000</td>\n",
       "      <td>1.800000</td>\n",
       "    </tr>\n",
       "    <tr>\n",
       "      <th>max</th>\n",
       "      <td>7.900000</td>\n",
       "      <td>4.400000</td>\n",
       "      <td>6.900000</td>\n",
       "      <td>2.500000</td>\n",
       "    </tr>\n",
       "  </tbody>\n",
       "</table>\n",
       "</div>"
      ],
      "text/plain": [
       "       sepal-length  sepal-width  petal-length  petal-width\n",
       "count    150.000000   150.000000    150.000000   150.000000\n",
       "mean       5.843333     3.054000      3.758667     1.198667\n",
       "std        0.828066     0.433594      1.764420     0.763161\n",
       "min        4.300000     2.000000      1.000000     0.100000\n",
       "25%        5.100000     2.800000      1.600000     0.300000\n",
       "50%        5.800000     3.000000      4.350000     1.300000\n",
       "75%        6.400000     3.300000      5.100000     1.800000\n",
       "max        7.900000     4.400000      6.900000     2.500000"
      ]
     },
     "execution_count": 4,
     "metadata": {},
     "output_type": "execute_result"
    }
   ],
   "source": [
    "dataset.describe()"
   ]
  },
  {
   "cell_type": "markdown",
   "metadata": {},
   "source": [
    "Split the predictors and target - similar to what we did for logisitc regression:"
   ]
  },
  {
   "cell_type": "code",
   "execution_count": 5,
   "metadata": {},
   "outputs": [],
   "source": [
    "X = dataset.iloc[:, :-1].values\n",
    "y = dataset.iloc[:, 4].values"
   ]
  },
  {
   "cell_type": "markdown",
   "metadata": {},
   "source": [
    "Then, the dataset should be split into training and testing. This way our algorithm is tested on un-seen data, as it would be in a real-world application. Let's go with a 80/20 split:"
   ]
  },
  {
   "cell_type": "code",
   "execution_count": 6,
   "metadata": {},
   "outputs": [],
   "source": [
    "from sklearn.model_selection import train_test_split\n",
    "X_train, X_test, y_train, y_test = train_test_split(X, y, test_size=0.2)\n",
    "\n",
    "#This means that out of total 150 records:\n",
    "#the training set will contain 120 records & \n",
    "#the test set contains 30 of those records."
   ]
  },
  {
   "cell_type": "markdown",
   "metadata": {},
   "source": [
    "It is extremely straight forward to train the KNN algorithm and make predictions with it, especially when using Scikit-Learn. The first step is to import the \"KNeighborsClassifier\" class from the \"sklearn.neighbors\" library. In the second line, this class is initialized with one parameter, i.e. \"n_neigbours\". This is basically the value for the K. There is no ideal value for K and it is selected after testing and evaluation, however to start out, 5 seems to be the most commonly used value for KNN algorithm."
   ]
  },
  {
   "cell_type": "code",
   "execution_count": 7,
   "metadata": {},
   "outputs": [
    {
     "data": {
      "text/plain": [
       "KNeighborsClassifier()"
      ]
     },
     "execution_count": 7,
     "metadata": {},
     "output_type": "execute_result"
    }
   ],
   "source": [
    "from sklearn.neighbors import KNeighborsClassifier\n",
    "classifier = KNeighborsClassifier(n_neighbors=5)\n",
    "classifier.fit(X_train, y_train)"
   ]
  },
  {
   "cell_type": "markdown",
   "metadata": {},
   "source": [
    "The final step is to make predictions on our test data. To do so, execute the following script:"
   ]
  },
  {
   "cell_type": "code",
   "execution_count": 8,
   "metadata": {},
   "outputs": [],
   "source": [
    "y_pred = classifier.predict(X_test)"
   ]
  },
  {
   "cell_type": "markdown",
   "metadata": {},
   "source": [
    "As it's time to evaluate our model, we will go to our rather new friends, confusion matrix, precision, recall and f1 score as the most commonly used discrete GOF metrics."
   ]
  },
  {
   "cell_type": "code",
   "execution_count": 9,
   "metadata": {},
   "outputs": [
    {
     "name": "stdout",
     "output_type": "stream",
     "text": [
      "[[ 9  0  0]\n",
      " [ 0  9  0]\n",
      " [ 0  1 11]]\n",
      "                 precision    recall  f1-score   support\n",
      "\n",
      "    Iris-setosa       1.00      1.00      1.00         9\n",
      "Iris-versicolor       0.90      1.00      0.95         9\n",
      " Iris-virginica       1.00      0.92      0.96        12\n",
      "\n",
      "       accuracy                           0.97        30\n",
      "      macro avg       0.97      0.97      0.97        30\n",
      "   weighted avg       0.97      0.97      0.97        30\n",
      "\n"
     ]
    }
   ],
   "source": [
    "from sklearn.metrics import classification_report, confusion_matrix\n",
    "print(confusion_matrix(y_test, y_pred))\n",
    "print(classification_report(y_test, y_pred))"
   ]
  },
  {
   "cell_type": "code",
   "execution_count": 10,
   "metadata": {},
   "outputs": [
    {
     "data": {
      "text/plain": [
       "Text(0.5, 15.0, 'Actual label')"
      ]
     },
     "execution_count": 10,
     "metadata": {},
     "output_type": "execute_result"
    },
    {
     "data": {
      "image/png": "[encoded data removed]",
      "text/plain": [
       "<Figure size 432x288 with 2 Axes>"
      ]
     },
     "metadata": {
      "filenames": {
       "image/png": "/home/sensei/engr-1330-webroot/engr1330jb/_build/jupyter_execute/lessons/lesson33/lesson33_22_1.png"
      },
      "needs_background": "light"
     },
     "output_type": "display_data"
    }
   ],
   "source": [
    "cm = pd.DataFrame(confusion_matrix(y_test, y_pred))\n",
    "sns.heatmap(cm, annot=True)\n",
    "plt.title('Confusion matrix', y=1.1)\n",
    "plt.ylabel('Predicted label')\n",
    "plt.xlabel('Actual label')"
   ]
  },
  {
   "cell_type": "markdown",
   "metadata": {},
   "source": [
    "What if we had used a different value for K? What is the best value for K?\n",
    "\n",
    "One way to help you find the best value of K is to plot the graph of K value and the corresponding error rate for the dataset. In this section, we will plot the mean error for the predicted values of test set for all the K values between 1 and 50. To do so, let's first calculate the mean of error for all the predicted values where K ranges from 1 and 50:"
   ]
  },
  {
   "cell_type": "code",
   "execution_count": 11,
   "metadata": {},
   "outputs": [],
   "source": [
    "error = []\n",
    "\n",
    "# Calculating error for K values between 1 and 50\n",
    "# In each iteration the mean error for predicted values of test set is calculated and\n",
    "# the result is appended to the error list.\n",
    "for i in range(1, 50):\n",
    "    knn = KNeighborsClassifier(n_neighbors=i)\n",
    "    knn.fit(X_train, y_train)\n",
    "    pred_i = knn.predict(X_test)\n",
    "    error.append(np.mean(pred_i != y_test))"
   ]
  },
  {
   "cell_type": "markdown",
   "metadata": {},
   "source": [
    "The next step is to plot the error values against K values:"
   ]
  },
  {
   "cell_type": "code",
   "execution_count": 12,
   "metadata": {},
   "outputs": [
    {
     "data": {
      "text/plain": [
       "Text(0, 0.5, 'Mean Error')"
      ]
     },
     "execution_count": 12,
     "metadata": {},
     "output_type": "execute_result"
    },
    {
     "data": {
      "image/png": "[encoded data removed]",
      "text/plain": [
       "<Figure size 864x432 with 1 Axes>"
      ]
     },
     "metadata": {
      "filenames": {
       "image/png": "/home/sensei/engr-1330-webroot/engr1330jb/_build/jupyter_execute/lessons/lesson33/lesson33_26_1.png"
      },
      "needs_background": "light"
     },
     "output_type": "display_data"
    }
   ],
   "source": [
    "plt.figure(figsize=(12, 6))\n",
    "plt.plot(range(1, 50), error, color='red', linestyle='dashed', marker='o',\n",
    "         markerfacecolor='blue', markersize=10)\n",
    "plt.title('Error Rate K Value')\n",
    "plt.xlabel('K Value')\n",
    "plt.ylabel('Mean Error')"
   ]
  },
  {
   "cell_type": "markdown",
   "metadata": {},
   "source": [
    "<hr>\n",
    "<hr>\n",
    "\n",
    "### Final remarks ...\n",
    "\n",
    "- KNN is a simple yet powerful classification algorithm.\n",
    "- It requires no training for making predictions, which is typically one of the most difficult parts of a machine learning algorithm.\n",
    "- The KNN algorithm have been widely used to find document similarity and pattern recognition.\n",
    "\n",
    "Here we presented it as a classifier, however if the output needs to be a predictor we can use \"regression\" type prediction using the KNN values to parameterize a data model.\n",
    "\n",
    "We will leave the task of making classifications of new inputs for a lab exercise.\n"
   ]
  },
  {
   "cell_type": "markdown",
   "metadata": {},
   "source": [
    "## References\n",
    "\n",
    "- Rashid, Tariq. Make Your Own Neural Network.  . Kindle Edition. \n",
    "- __\"K-Nearest Neighbors Algorithm in Python and Scikit-Learn\"__ by __Scott Robinson__ available at* https://stackabuse.com/k-nearest-neighbors-algorithm-in-python-and-scikit-learn/ <br>\n",
    "- __\"Develop k-Nearest Neighbors in Python From Scratch\"__ by __Jason Brownlee__ available at* https://machinelearningmastery.com/tutorial-to-implement-k-nearest-neighbors-in-python-from-scratch/ <br>\n",
    "- __\"4 Distance Measures for Machine Learning\"__ by __Jason Brownlee__ available at* https://machinelearningmastery.com/distance-measures-for-machine-learning/ <br>\n",
    "- __\"KNN Classification using Scikit-learn\"__ by __Avinash Navlani__  available at* https://www.datacamp.com/community/tutorials/k-nearest-neighbor-classification-scikit-learn <br>\n",
    "- __\"In-Depth: Decision Trees and Random Forests\"__ by __Jake VanderPlas__ available at *https://jakevdp.github.io/PythonDataScienceHandbook/05.08-random-forests.html <br>\n",
    "- __\"Powerful Guide to learn Random Forest (with codes in R & Python)\"__ by __SUNIL RAY__  available at *https://www.analyticsvidhya.com/blog/2015/09/random-forest-algorithm-multiple-challenges/?utm_source=blog <br>\n",
    "- __\"Introduction to Random forest – Simplified\"__ by __TAVISH SRIVASTAVA__  available at *https://www.analyticsvidhya.com/blog/2014/06/introduction-random-forest-simplified/ <br>\n",
    "\n",
    "*Here are some great reads on these topics:* \n",
    "- __\"KNN in Python\"__ by __Czako Zoltan__ available at* https://towardsdatascience.com/knn-in-python-835643e2fb53 <br>\n",
    "- __\"K Nearest Neighbor Algorithm In Python\"__ by __Cory Maklin__ available at* https://towardsdatascience.com/k-nearest-neighbor-python-2fccc47d2a55 <br>\n",
    "- __\"k-nearest neighbor algorithm in Python\"__ available at* https://www.geeksforgeeks.org/k-nearest-neighbor-algorithm-in-python/ <br>\n",
    "- __\"Using Random Forests in Python with Scikit-Learn\"__ available at *https://www.blopig.com/blog/2017/07/using-random-forests-in-python-with-scikit-learn/ <br>\n",
    "- __\"Random Forest Regression in Python\"__ available at *https://www.geeksforgeeks.org/random-forest-regression-in-python/ <br>\n",
    "- __\"Random Forest Algorithm with Python and Scikit-Learn\"__ by __Usman Malik__ available at *https://stackabuse.com/random-forest-algorithm-with-python-and-scikit-learn/ <br>\n",
    "\n",
    "\n",
    "*Here are some great videos on these topics:* \n",
    "- __\"StatQuest: K-nearest neighbors, Clearly Explained\"__ by __StatQuest with Josh Starmer__ available at* https://www.youtube.com/watch?v=HVXime0nQeI <br>\n",
    "- __\"How kNN algorithm works\"__ by __Thales Sehn Körting__ available at* https://www.youtube.com/watch?v=UqYde-LULfs <br>\n",
    "- __\"KNN Algorithm Using Python | How KNN Algorithm Works | Data Science For Beginners | Simplilearn\"__ by __Simplilearn__ available at* https://www.youtube.com/watch?v=4HKqjENq9OU <br>\n",
    "- __\"Decision Tree (CART) - Machine Learning Fun and Easy\"__ by __Augmented Startups__ available at *https://www.youtube.com/watch?v=DCZ3tsQIoGU <br>\n",
    "- __\"StatQuest: Random Forests Part 1 - Building, Using and Evaluating\"__ by __StatQuest with Josh Starmer__ available at *https://www.youtube.com/watch?v=J4Wdy0Wc_xQ <br>\n",
    "- __\"StatQuest: Random Forests Part 2: Missing data and clustering\"__ by __StatQuest with Josh Starmer__ available at *https://www.youtube.com/watch?v=sQ870aTKqiM <br>\n",
    "- __\"Random Forest - Fun and Easy Machine Learning\"__ by __Augmented Startups__ available at *https://www.youtube.com/watch?v=D_2LkhMJcfY <br>"
   ]
  },
  {
   "cell_type": "markdown",
   "metadata": {},
   "source": [
    "<hr><hr>\n",
    "\n",
    "## Laboratory 33 <font color=\"green\">(Last One; Yay!)</font>\n",
    "\n",
    "**Examine** (click) Laboratory 33 as a webpage at [Laboratory 33.html](http://54.243.252.9/engr-1330-webroot/8-Labs/Lab33/Lab33.html)\n",
    "\n",
    "**Download** (right-click, save target as ...) Laboratory 33 as a jupyterlab notebook from [Laboratory 33.ipynb](http://54.243.252.9/engr-1330-webroot/8-Labs/Lab33/Lab33.ipynb)\n"
   ]
  },
  {
   "cell_type": "markdown",
   "metadata": {},
   "source": [
    "<hr><hr>\n",
    "\n",
    "## Exercise Set 33 <font color=\"green\">(None)</font>\n",
    "\n",
    "**Examine** (click) Exercise Set 31 as a webpage at [Exercise 33.html](http://54.243.252.9/engr-1330-webroot/8-Labs/Lab33/Lab33-TH.html)\n",
    "\n",
    "**Download** (right-click, save target as ...) Exercise Set 33 as a jupyterlab notebook at  [Exercise Set 33.ipynb](http://54.243.252.9/engr-1330-webroot/8-Labs/Lab33/Lab33-TH.ipynb)\n"
   ]
  },
  {
   "cell_type": "markdown",
   "metadata": {},
   "source": [
    "## References"
   ]
  }
 ],
 "metadata": {
  "kernelspec": {
   "display_name": "Python 3",
   "language": "python",
   "name": "python3"
  },
  "language_info": {
   "codemirror_mode": {
    "name": "ipython",
    "version": 3
   },
   "file_extension": ".py",
   "mimetype": "text/x-python",
   "name": "python",
   "nbconvert_exporter": "python",
   "pygments_lexer": "ipython3",
   "version": "3.8.10"
  }
 },
 "nbformat": 4,
 "nbformat_minor": 4
}