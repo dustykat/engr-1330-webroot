{
 "cells": [
  {
   "cell_type": "markdown",
   "metadata": {},
   "source": [
    "<div class=\"alert alert-block alert-info\">\n",
    "    <b><h1>ENGR 1330 Computational Thinking with Data Science </h1></b> \n",
    "</div> \n",
    "\n",
    "Copyright © 2021 Theodore G. Cleveland and Farhang Forghanparast\n",
    "\n",
    "Last GitHub Commit Date: \n",
    "    \n",
    "# 15: The `matplotlib` package\n",
    "- explore different types of plots\n",
    "- user defined functions for specific plotting"
   ]
  },
  {
   "cell_type": "markdown",
   "metadata": {},
   "source": [
    "---\n",
    "\n",
    "## Objectives\n",
    "- Demonstrate common plot types and their uses\n",
    "- Define how to plot experimental data (observations) and theoretical data (model)\n",
    " 1. Marker conventions\n",
    " 2. Line conventions\n",
    " 3. Legends\n",
    "\n",
    "---\n",
    "\n",
    "### About `matplotlib`\n",
    "Quoting from: https://matplotlib.org/tutorials/introductory/pyplot.html#sphx-glr-tutorials-introductory-pyplot-py\n",
    "\n",
    "`matplotlib.pyplot` is a collection of functions that make matplotlib work like MATLAB. Each pyplot function makes some change to a figure: e.g., creates a figure, creates a plotting area in a figure, plots some lines in a plotting area, decorates the plot with labels, etc.\n",
    "\n",
    "In `matplotlib.pyplot` various states are preserved across function calls, so that it keeps track of things like the current figure and plotting area, and the plotting functions are directed to the current axes (please note that \"axes\" here and in most places in the documentation refers to the axes part of a figure and not the strict mathematical term for more than one axis).\n",
    "\n",
    "**Computational thinking (CT)** concepts involved are:\n",
    "\n",
    "- `Decomposition` : Break a problem down into smaller pieces; separating plotting from other parts of analysis simplifies maintenace of scripts\n",
    "- `Abstraction` : Pulling out specific differences to make one solution work for multiple problems; wrappers around generic plot calls enhances reuse \n",
    "- `Algorithms` : A list of steps that you can follow to finish a task; Often the last step and most important to make professional graphics to justify the expense (of paying you to do engineering) to the client."
   ]
  },
  {
   "cell_type": "markdown",
   "metadata": {},
   "source": [
    "## Background\n",
    "\n",
    "Data are not always numerical. \n",
    "Data can music (audio files), or places on a map (georeferenced attributes files), images (various imge files, e.g. .png, jpeg)\n",
    "\n",
    "They can also be categorical into which you can place individuals:\n",
    "- The individuals are cartons of ice-cream, and the category is the flavor in the carton\n",
    "- The individuals are professional basketball players, and the category is the player's team.\n",
    "\n",
    "---\n",
    "\n",
    "### Line Charts\n",
    "A line chart or line plot or line graph or curve chart is a type of chart which displays information as a series of data points called 'markers' connected by straight line segments.\n",
    "\n",
    "It is a basic type of chart common in many fields. It is similar to a scatter plot (below) except that the measurement points are **ordered** (typically by their x-axis value) and joined with straight line segments. \n",
    "\n",
    "A line chart is often used to visualize a trend in data over intervals of time – a time series – thus the line is often drawn chronologically. \n",
    "\n",
    "The x-axis spacing is sometimes tricky, hence line charts can unintentionally decieve - so be careful that it is the appropriate chart for your application.  \n",
    "\n",
    "We examined line charts in the prior lesson, so lets move on to other useful charts.\n",
    "\n",
    "---\n",
    "\n",
    "### Bar Graphs\n",
    "\n",
    "Bar charts (graphs) are good display tools to graphically represent categorical information.\n",
    "The bars are evenly spaced and of constant width. \n",
    "The height/length of each bar is proportional to the `relative frequency` of the corresponding category.\n",
    "\n",
    "`Relative frequency` is the ratio of how many things in the category to how many things in the whole collection.\n",
    "\n",
    "The example below uses `matplotlib` to create a box plot for the ice cream analogy, the example is adapted from an example at https://www.geeksforgeeks.org/bar-plot-in-matplotlib/"
   ]
  },
  {
   "cell_type": "code",
   "execution_count": 1,
   "metadata": {},
   "outputs": [
    {
     "data": {
      "image/png": "[encoded data removed]",
      "text/plain": [
       "<Figure size 720x360 with 1 Axes>"
      ]
     },
     "metadata": {
      "filenames": {
       "image/png": "/home/sensei/engr-1330-webroot/engr1330jb/_build/jupyter_execute/lessons/lesson15/lesson15_3_0.png"
      },
      "needs_background": "light"
     },
     "output_type": "display_data"
    }
   ],
   "source": [
    "ice_cream = {'Chocolate':16, 'Strawberry':5, 'Vanilla':9} # build a data model \n",
    "import matplotlib.pyplot # the python plotting library\n",
    "\n",
    "flavors = list(ice_cream.keys()) # make a list object based on flavors\n",
    "cartons = list(ice_cream.values()) # make a list object based on carton count -- assumes 1:1 association!\n",
    "\n",
    "myfigure = matplotlib.pyplot.figure(figsize = (10,5)) # generate a object from the figure class, set aspect ratio\n",
    "\n",
    "# Built the plot\n",
    "matplotlib.pyplot.bar(flavors, cartons, color ='teal', width = 0.4) \n",
    "matplotlib.pyplot.xlabel(\"Flavors\") \n",
    "matplotlib.pyplot.ylabel(\"No. of Cartons in Stock\") \n",
    "matplotlib.pyplot.title(\"Current Ice Cream in Storage\") \n",
    "matplotlib.pyplot.show() "
   ]
  },
  {
   "cell_type": "markdown",
   "metadata": {},
   "source": [
    "---\n",
    "\n",
    "Lets tidy up the script so it is more understandable, a small change in the import statement makes a simpler to read (for humans) script - also changed the bar colors just 'cause!"
   ]
  },
  {
   "cell_type": "code",
   "execution_count": 2,
   "metadata": {},
   "outputs": [
    {
     "data": {
      "image/png": "[encoded data removed]",
      "text/plain": [
       "<Figure size 720x360 with 1 Axes>"
      ]
     },
     "metadata": {
      "filenames": {
       "image/png": "/home/sensei/engr-1330-webroot/engr1330jb/_build/jupyter_execute/lessons/lesson15/lesson15_5_0.png"
      },
      "needs_background": "light"
     },
     "output_type": "display_data"
    }
   ],
   "source": [
    "ice_cream = {'Chocolate':16, 'Strawberry':5, 'Vanilla':9} # build a data model \n",
    "import matplotlib.pyplot as plt # the python plotting library\n",
    "\n",
    "flavors = list(ice_cream.keys()) # make a list object based on flavors\n",
    "cartons = list(ice_cream.values()) # make a list object based on carton count -- assumes 1:1 association!\n",
    "\n",
    "myfigure = plt.figure(figsize = (10,5)) # generate a object from the figure class, set aspect ratio\n",
    "\n",
    "# Built the plot\n",
    "plt.bar(flavors, cartons, color ='lightblue', width = 0.4) \n",
    "plt.xlabel(\"Flavors\") \n",
    "plt.ylabel(\"No. of Cartons in Stock\") \n",
    "plt.title(\"Current Ice Cream in Storage\") \n",
    "plt.show() "
   ]
  },
  {
   "cell_type": "markdown",
   "metadata": {},
   "source": [
    "---\n",
    "\n",
    "Now lets deconstruct the script a bit:\n",
    "\n",
    "    ice_cream = {'Chocolate':16, 'Strawberry':5, 'Vanilla':9} # build a data model \n",
    "    import matplotlib.pyplot as plt # the python plotting library\n",
    "\n",
    "    flavors = list(ice_cream.keys()) # make a list object based on flavors\n",
    "    cartons = list(ice_cream.values()) # make a list object based on carton count -- assumes 1:1 association!\n",
    "\n",
    "This part of the code creates a dictionary object, keys are the flavors, values are the carton counts (not the best way, but good for our learning needs).  Next we import the python plotting library from `matplotlib` and name it **plt** to keep the script a bit easier to read.\n",
    "\n",
    "\n",
    "\n",
    "Next we use the list method to create two lists from the dictionary, **flavors** and **cartons**.  Keep this in mind plotting is usually done on lists, so we need to prepare the structures properly.\n",
    "\n",
    "The next statement\n",
    "\n",
    "    myfigure = plt.figure(figsize = (10,5)) # generate a object from the figure class, set aspect ratio\n",
    "    \n",
    "Uses the figure class in **pyplot** from **matplotlib** to make a figure object named myfigure, the plot is built into this object.  Every call to a method in `plt` adds content to `myfigure` until we send the instruction to render the plot (`plt.show()`)\n",
    "\n",
    "The next portion of the script builds the plot:\n",
    "    \n",
    "    plt.bar(flavors, cartons, color ='orange', width = 0.4) # Build a bar chart, plot series flavor on x-axis, plot series carton on y-axis.  Make the bars orange, set bar width (units unspecified)\n",
    "    plt.xlabel(\"Flavors\") # Label the x-axis as Flavors\n",
    "    plt.ylabel(\"No. of Cartons in Stock\") # Label the x-axis as Flavors\n",
    "    plt.title(\"Current Ice Cream in Storage\") # Title for the whole plot\n",
    "    \n",
    "This last statement renders the plot to the graphics device (probably localhost in the web browser)\n",
    "\n",
    "    plt.show() \n",
    "    \n",
    "---\n",
    "\n",
    "Now lets add another set of categories to the plot and see what happens"
   ]
  },
  {
   "cell_type": "code",
   "execution_count": 3,
   "metadata": {},
   "outputs": [
    {
     "data": {
      "image/png": "[encoded data removed]",
      "text/plain": [
       "<Figure size 720x360 with 1 Axes>"
      ]
     },
     "metadata": {
      "filenames": {
       "image/png": "/home/sensei/engr-1330-webroot/engr1330jb/_build/jupyter_execute/lessons/lesson15/lesson15_7_0.png"
      },
      "needs_background": "light"
     },
     "output_type": "display_data"
    }
   ],
   "source": [
    "ice_cream = {'Chocolate':16, 'Strawberry':5, 'Vanilla':9} # build a data model \n",
    "eaters = {'Cats':6, 'Dogs':5, 'Ferrets':19} # build a data model \n",
    "import matplotlib.pyplot as plt # the python plotting library\n",
    "\n",
    "flavors = list(ice_cream.keys()) # make a list object based on flavors\n",
    "cartons = list(ice_cream.values()) # make a list object based on carton count -- assumes 1:1 association!\n",
    "\n",
    "animals = list(eaters.keys()) \n",
    "beasts = list(eaters.values()) \n",
    "myfigure = plt.figure(figsize = (10,5)) # generate a object from the figure class, set aspect ratio\n",
    "\n",
    "# Built the plot\n",
    "plt.bar(flavors, cartons, color ='orange', width = 0.4) \n",
    "plt.bar(animals, beasts, color ='green', width = 0.4) \n",
    "plt.xlabel(\"Flavors\") \n",
    "plt.ylabel(\"Counts: Cartons and Beasts\") \n",
    "plt.title(\"Current Ice Cream in Storage\") \n",
    "plt.show() "
   ]
  },
  {
   "cell_type": "markdown",
   "metadata": {},
   "source": [
    "---\n",
    "\n",
    "Now suppose we want horizontal bars we can search pyplot for such a thing.  If one types horizontal bar chart into the pyplot search engine there is a link that leads to:\n",
    "\n",
    "![](SearchPyplot.png)\n",
    "\n",
    "Which has the right look!  If we examine the script there is a method called `barh` so lets try that.\n",
    "\n",
    "```{note} \n",
    "Use the search engines to find out things you need to accomplish a task.\n",
    "```"
   ]
  },
  {
   "cell_type": "code",
   "execution_count": 4,
   "metadata": {},
   "outputs": [
    {
     "data": {
      "image/png": "[encoded data removed]",
      "text/plain": [
       "<Figure size 720x360 with 1 Axes>"
      ]
     },
     "metadata": {
      "filenames": {
       "image/png": "/home/sensei/engr-1330-webroot/engr1330jb/_build/jupyter_execute/lessons/lesson15/lesson15_9_0.png"
      },
      "needs_background": "light"
     },
     "output_type": "display_data"
    }
   ],
   "source": [
    "ice_cream = {'Chocolate':16, 'Strawberry':5, 'Vanilla':9} # build a data model \n",
    "eaters = {'Cats':6, 'Dogs':5, 'Ferrets':19} # build a data model \n",
    "import matplotlib.pyplot as plt # the python plotting library\n",
    "\n",
    "flavors = list(ice_cream.keys()) # make a list object based on flavors\n",
    "cartons = list(ice_cream.values()) # make a list object based on carton count -- assumes 1:1 association!\n",
    "\n",
    "animals = list(eaters.keys()) \n",
    "beasts = list(eaters.values()) \n",
    "myfigure = plt.figure(figsize = (10,5)) # generate a object from the figure class, set aspect ratio\n",
    "\n",
    "# Built the plot\n",
    "plt.barh(flavors, cartons, color ='orange') \n",
    "plt.barh(animals, beasts, color ='green') \n",
    "plt.xlabel(\"Flavors\") \n",
    "plt.ylabel(\"Counts: Cartons and Beasts\") \n",
    "plt.title(\"Current Ice Cream in Storage\") \n",
    "plt.show() "
   ]
  },
  {
   "cell_type": "markdown",
   "metadata": {},
   "source": [
    "---\n",
    "\n",
    "Now using pandas, we can build bar charts a bit easier."
   ]
  },
  {
   "cell_type": "code",
   "execution_count": 5,
   "metadata": {},
   "outputs": [
    {
     "data": {
      "text/html": [
       "<div>\n",
       "<style scoped>\n",
       "    .dataframe tbody tr th:only-of-type {\n",
       "        vertical-align: middle;\n",
       "    }\n",
       "\n",
       "    .dataframe tbody tr th {\n",
       "        vertical-align: top;\n",
       "    }\n",
       "\n",
       "    .dataframe thead th {\n",
       "        text-align: right;\n",
       "    }\n",
       "</style>\n",
       "<table border=\"1\" class=\"dataframe\">\n",
       "  <thead>\n",
       "    <tr style=\"text-align: right;\">\n",
       "      <th></th>\n",
       "      <th>Flavor</th>\n",
       "      <th>Number of Cartons</th>\n",
       "    </tr>\n",
       "  </thead>\n",
       "  <tbody>\n",
       "    <tr>\n",
       "      <th>0</th>\n",
       "      <td>Chocolate</td>\n",
       "      <td>16</td>\n",
       "    </tr>\n",
       "    <tr>\n",
       "      <th>1</th>\n",
       "      <td>Strawberry</td>\n",
       "      <td>5</td>\n",
       "    </tr>\n",
       "    <tr>\n",
       "      <th>2</th>\n",
       "      <td>Vanilla</td>\n",
       "      <td>9</td>\n",
       "    </tr>\n",
       "  </tbody>\n",
       "</table>\n",
       "</div>"
      ],
      "text/plain": [
       "       Flavor  Number of Cartons\n",
       "0   Chocolate                 16\n",
       "1  Strawberry                  5\n",
       "2     Vanilla                  9"
      ]
     },
     "execution_count": 5,
     "metadata": {},
     "output_type": "execute_result"
    }
   ],
   "source": [
    "import pandas as pd\n",
    "\n",
    "my_data = {\n",
    "    \"Flavor\": ['Chocolate', 'Strawberry', 'Vanilla'],\n",
    "    \"Number of Cartons\": [16, 5, 9]\n",
    "          }\n",
    "df = pd.DataFrame(my_data)\n",
    "df.head()"
   ]
  },
  {
   "cell_type": "code",
   "execution_count": 6,
   "metadata": {},
   "outputs": [
    {
     "data": {
      "text/plain": [
       "<AxesSubplot:xlabel='Flavor'>"
      ]
     },
     "execution_count": 6,
     "metadata": {},
     "output_type": "execute_result"
    },
    {
     "data": {
      "image/png": "[encoded data removed]",
      "text/plain": [
       "<Figure size 432x288 with 1 Axes>"
      ]
     },
     "metadata": {
      "filenames": {
       "image/png": "/home/sensei/engr-1330-webroot/engr1330jb/_build/jupyter_execute/lessons/lesson15/lesson15_12_1.png"
      },
      "needs_background": "light"
     },
     "output_type": "display_data"
    }
   ],
   "source": [
    "df.plot.bar(x='Flavor', y='Number of Cartons', color='magenta' )"
   ]
  },
  {
   "cell_type": "code",
   "execution_count": 7,
   "metadata": {},
   "outputs": [
    {
     "data": {
      "text/plain": [
       "<AxesSubplot:xlabel='Flavor'>"
      ]
     },
     "execution_count": 7,
     "metadata": {},
     "output_type": "execute_result"
    },
    {
     "data": {
      "image/png": "[encoded data removed]",
      "text/plain": [
       "<Figure size 432x288 with 1 Axes>"
      ]
     },
     "metadata": {
      "filenames": {
       "image/png": "/home/sensei/engr-1330-webroot/engr1330jb/_build/jupyter_execute/lessons/lesson15/lesson15_13_1.png"
      },
      "needs_background": "light"
     },
     "output_type": "display_data"
    }
   ],
   "source": [
    "df.plot.bar(x='Flavor', y='Number of Cartons', color=\"red\") # rotate the category labels"
   ]
  },
  {
   "cell_type": "code",
   "execution_count": 8,
   "metadata": {},
   "outputs": [
    {
     "data": {
      "image/png": "[encoded data removed]",
      "text/plain": [
       "<Figure size 720x360 with 1 Axes>"
      ]
     },
     "metadata": {
      "filenames": {
       "image/png": "/home/sensei/engr-1330-webroot/engr1330jb/_build/jupyter_execute/lessons/lesson15/lesson15_14_0.png"
      },
      "needs_background": "light"
     },
     "output_type": "display_data"
    }
   ],
   "source": [
    "import numpy as np \n",
    "import matplotlib.pyplot as plt  \n",
    "  \n",
    "   \n",
    "# creating the dataset \n",
    "data = {'C':20, 'C++':15, 'Java':30,  \n",
    "        'Python':35} \n",
    "courses = list(data.keys()) \n",
    "values = list(data.values()) \n",
    "   \n",
    "fig = plt.figure(figsize = (10, 5)) \n",
    "  \n",
    "# creating the bar plot \n",
    "plt.bar(courses, values, color ='maroon',  \n",
    "        width = 0.4) \n",
    "  \n",
    "plt.xlabel(\"Courses offered\") \n",
    "plt.ylabel(\"No. of students enrolled\") \n",
    "plt.title(\"Students enrolled in different courses\") \n",
    "plt.show() "
   ]
  },
  {
   "cell_type": "markdown",
   "metadata": {},
   "source": [
    "--- \n",
    "\n",
    "### Scatter Plots\n",
    "A scatter plot (also called a scatterplot, scatter graph, scatter chart, scattergram, or scatter diagram) is a type of plot or mathematical diagram using Cartesian coordinates to display values for typically two variables for a set of data. If the points are coded (color/shape/size), one additional variable can be displayed. The data are displayed as a collection of points, each having the value of one variable determining the position on the horizontal axis and the value of the other variable determining the position on the vertical axis.\n",
    "\n",
    "A scatter plot can be used either when one continuous variable that is under the control of the experimenter and the other depends on it or when both continuous variables are independent. If a parameter exists that is systematically incremented and/or decremented by the other, it is called the control parameter or independent variable and is customarily plotted along the horizontal axis. The measured or dependent variable is customarily plotted along the vertical axis. If no dependent variable exists, either type of variable can be plotted on either axis and a scatter plot will illustrate only the degree of correlation (not causation) between two variables.\n",
    "\n",
    "A scatter plot can suggest various kinds of correlations between variables with a certain confidence interval. For example, weight and height, weight would be on y axis and height would be on the x axis. \n",
    "Correlations may be positive (rising), negative (falling), or null (uncorrelated). \n",
    "If the pattern of dots slopes from lower left to upper right, it indicates a positive correlation between the variables being studied. \n",
    "If the pattern of dots slopes from upper left to lower right, it indicates a negative correlation. \n",
    "\n",
    "A line of best fit (alternatively called 'trendline') can be drawn in order to study the relationship between the variables. An equation for the correlation between the variables can be determined by established best-fit procedures. For a linear correlation, the best-fit procedure is known as linear regression and is guaranteed to generate a correct solution in a finite time. No universal best-fit procedure is guaranteed to generate a  solution for arbitrary relationships. \n",
    "A scatter plot is also very useful when we wish to see how two comparable data sets agree and to show nonlinear relationships between variables.\n",
    "\n",
    "Furthermore, if the data are represented by a mixture model of simple relationships, these relationships will be visually evident as superimposed patterns.\n",
    "\n",
    "Scatter charts can be built in the form of bubble, marker, or/and line charts.\n",
    "\n",
    "Much of the above is verbatim/adapted from: https://en.wikipedia.org/wiki/Scatter_plot\n",
    "\n",
    "The example below uses a database table from [galton_subset.csv](http://54.243.252.9/engr-1330-webroot/1-Lessons/Lesson12/galton_subset.csv)"
   ]
  },
  {
   "cell_type": "code",
   "execution_count": 9,
   "metadata": {},
   "outputs": [
    {
     "data": {
      "text/html": [
       "<div>\n",
       "<style scoped>\n",
       "    .dataframe tbody tr th:only-of-type {\n",
       "        vertical-align: middle;\n",
       "    }\n",
       "\n",
       "    .dataframe tbody tr th {\n",
       "        vertical-align: top;\n",
       "    }\n",
       "\n",
       "    .dataframe thead th {\n",
       "        text-align: right;\n",
       "    }\n",
       "</style>\n",
       "<table border=\"1\" class=\"dataframe\">\n",
       "  <thead>\n",
       "    <tr style=\"text-align: right;\">\n",
       "      <th></th>\n",
       "      <th>father</th>\n",
       "      <th>mother</th>\n",
       "      <th>child</th>\n",
       "    </tr>\n",
       "  </thead>\n",
       "  <tbody>\n",
       "    <tr>\n",
       "      <th>0</th>\n",
       "      <td>78.5</td>\n",
       "      <td>67.0</td>\n",
       "      <td>73.2</td>\n",
       "    </tr>\n",
       "    <tr>\n",
       "      <th>1</th>\n",
       "      <td>75.5</td>\n",
       "      <td>66.5</td>\n",
       "      <td>73.5</td>\n",
       "    </tr>\n",
       "    <tr>\n",
       "      <th>2</th>\n",
       "      <td>75.0</td>\n",
       "      <td>64.0</td>\n",
       "      <td>71.0</td>\n",
       "    </tr>\n",
       "    <tr>\n",
       "      <th>3</th>\n",
       "      <td>75.0</td>\n",
       "      <td>64.0</td>\n",
       "      <td>70.5</td>\n",
       "    </tr>\n",
       "    <tr>\n",
       "      <th>4</th>\n",
       "      <td>75.0</td>\n",
       "      <td>58.5</td>\n",
       "      <td>72.0</td>\n",
       "    </tr>\n",
       "  </tbody>\n",
       "</table>\n",
       "</div>"
      ],
      "text/plain": [
       "   father  mother  child\n",
       "0    78.5    67.0   73.2\n",
       "1    75.5    66.5   73.5\n",
       "2    75.0    64.0   71.0\n",
       "3    75.0    64.0   70.5\n",
       "4    75.0    58.5   72.0"
      ]
     },
     "execution_count": 9,
     "metadata": {},
     "output_type": "execute_result"
    }
   ],
   "source": [
    "# Example 1.  A data file containing heights of fathers, mothers, and sons is to be examined\n",
    "df = pd.read_csv('galton_subset.csv')\n",
    "df['child']= df['son'] ; df.drop('son', axis=1, inplace = True) # rename son to child - got to imagine there are some daughters\n",
    "df.head()"
   ]
  },
  {
   "cell_type": "code",
   "execution_count": 10,
   "metadata": {},
   "outputs": [],
   "source": [
    "# build some lists\n",
    "daddy = df['father'] ; mommy = df['mother'] ; baby = df['child']"
   ]
  },
  {
   "cell_type": "code",
   "execution_count": 11,
   "metadata": {},
   "outputs": [
    {
     "data": {
      "image/png": "[encoded data removed]",
      "text/plain": [
       "<Figure size 720x720 with 1 Axes>"
      ]
     },
     "metadata": {
      "filenames": {
       "image/png": "/home/sensei/engr-1330-webroot/engr1330jb/_build/jupyter_execute/lessons/lesson15/lesson15_18_0.png"
      },
      "needs_background": "light"
     },
     "output_type": "display_data"
    }
   ],
   "source": [
    "myfamily = plt.figure(figsize = (10, 10)) # build a square drawing canvass from figure class\n",
    "plt.scatter(baby, daddy, c='red') # basic scatter plot\n",
    "plt.show()"
   ]
  },
  {
   "cell_type": "code",
   "execution_count": 12,
   "metadata": {},
   "outputs": [
    {
     "data": {
      "image/png": "[encoded data removed]",
      "text/plain": [
       "<Figure size 720x720 with 1 Axes>"
      ]
     },
     "metadata": {
      "filenames": {
       "image/png": "/home/sensei/engr-1330-webroot/engr1330jb/_build/jupyter_execute/lessons/lesson15/lesson15_19_0.png"
      },
      "needs_background": "light"
     },
     "output_type": "display_data"
    }
   ],
   "source": [
    "# Looks lousy, needs some labels\n",
    "myfamily = plt.figure(figsize = (10, 10)) # build a square drawing canvass from figure class\n",
    "plt.scatter(baby, daddy, c='red' , label='Father') # one plot series\n",
    "plt.scatter(baby, mommy, c='blue', label='Mother') # two plot series\n",
    "plt.xlabel(\"Child's height\")\n",
    "plt.ylabel(\"Parents' height\")\n",
    "plt.legend()\n",
    "plt.show() # render the two plots"
   ]
  },
  {
   "cell_type": "code",
   "execution_count": null,
   "metadata": {},
   "outputs": [],
   "source": []
  },
  {
   "cell_type": "code",
   "execution_count": 13,
   "metadata": {},
   "outputs": [
    {
     "data": {
      "text/plain": [
       "<AxesSubplot:xlabel='child', ylabel='father'>"
      ]
     },
     "execution_count": 13,
     "metadata": {},
     "output_type": "execute_result"
    },
    {
     "data": {
      "image/png": "[encoded data removed]",
      "text/plain": [
       "<Figure size 432x288 with 1 Axes>"
      ]
     },
     "metadata": {
      "filenames": {
       "image/png": "/home/sensei/engr-1330-webroot/engr1330jb/_build/jupyter_execute/lessons/lesson15/lesson15_21_1.png"
      },
      "needs_background": "light"
     },
     "output_type": "display_data"
    }
   ],
   "source": [
    "# Repeat in pandas - The dataframe already is built\n",
    "df.plot.scatter(x=\"child\", y=\"father\")"
   ]
  },
  {
   "cell_type": "code",
   "execution_count": 14,
   "metadata": {},
   "outputs": [
    {
     "data": {
      "text/plain": [
       "Text(0, 0.5, \"Parents' Height\")"
      ]
     },
     "execution_count": 14,
     "metadata": {},
     "output_type": "execute_result"
    },
    {
     "data": {
      "image/png": "[encoded data removed]",
      "text/plain": [
       "<Figure size 432x288 with 1 Axes>"
      ]
     },
     "metadata": {
      "filenames": {
       "image/png": "/home/sensei/engr-1330-webroot/engr1330jb/_build/jupyter_execute/lessons/lesson15/lesson15_22_1.png"
      },
      "needs_background": "light"
     },
     "output_type": "display_data"
    }
   ],
   "source": [
    "ax = df.plot.scatter(x=\"child\", y=\"father\", c=\"red\", label='Father')\n",
    "df.plot.scatter(x=\"child\", y=\"mother\", c=\"blue\", label='Mother', ax=ax)\n",
    "\n",
    "ax.set_xlabel(\"Child's height\")\n",
    "ax.set_ylabel(\"Parents' Height\")"
   ]
  },
  {
   "cell_type": "code",
   "execution_count": 15,
   "metadata": {
    "collapsed": true,
    "jupyter": {
     "outputs_hidden": true
    }
   },
   "outputs": [
    {
     "data": {
      "text/plain": [
       "<AxesSubplot:xlabel='child', ylabel='father'>"
      ]
     },
     "execution_count": 15,
     "metadata": {},
     "output_type": "execute_result"
    },
    {
     "data": {
      "image/png": "[encoded data removed]",
      "text/plain": [
       "<Figure size 432x288 with 1 Axes>"
      ]
     },
     "metadata": {
      "filenames": {
       "image/png": "/home/sensei/engr-1330-webroot/engr1330jb/_build/jupyter_execute/lessons/lesson15/lesson15_23_1.png"
      },
      "needs_background": "light"
     },
     "output_type": "display_data"
    }
   ],
   "source": [
    "df.plot.scatter(x=\"child\", y=\"father\")"
   ]
  },
  {
   "cell_type": "markdown",
   "metadata": {},
   "source": [
    "--- \n",
    "\n",
    "## Histograms\n",
    "\n",
    "Quoting from https://en.wikipedia.org/wiki/Histogram\n",
    "\n",
    "\"A histogram is an approximate representation of the distribution of numerical data. It was first introduced by Karl Pearson.[1] To construct a histogram, the first step is to \"bin\" (or \"bucket\") the range of values—that is, divide the entire range of values into a series of intervals—and then count how many values fall into each interval. The bins are usually specified as consecutive, non-overlapping intervals of a variable. The bins (intervals) must be adjacent, and are often (but not required to be) of equal size.\n",
    "\n",
    "If the bins are of equal size, a rectangle is erected over the bin with height proportional to the frequency—the number of cases in each bin. A histogram may also be normalized to display \"relative\" frequencies. It then shows the proportion of cases that fall into each of several categories, with the sum of the heights equaling 1.\n",
    "\n",
    "However, bins need not be of equal width; in that case, the erected rectangle is defined to have its area proportional to the frequency of cases in the bin. The vertical axis is then not the frequency but frequency density—the number of cases per unit of the variable on the horizontal axis. Examples of variable bin width are displayed on Census bureau data below.\n",
    "\n",
    "As the adjacent bins leave no gaps, the rectangles of a histogram touch each other to indicate that the original variable is continuous.\n",
    "\n",
    "Histograms give a rough sense of the density of the underlying distribution of the data, and often for density estimation: estimating the probability density function of the underlying variable. The total area of a histogram used for probability density is always normalized to 1. If the length of the intervals on the x-axis are all 1, then a histogram is identical to a relative frequency plot.\n",
    "\n",
    "A histogram can be thought of as a simplistic kernel density estimation, which uses a kernel to smooth frequencies over the bins. This yields a smoother probability density function, which will in general more accurately reflect distribution of the underlying variable. The density estimate could be plotted as an alternative to the histogram, and is usually drawn as a curve rather than a set of boxes. Histograms are nevertheless preferred in applications, when their statistical properties need to be modeled. The correlated variation of a kernel density estimate is very difficult to describe mathematically, while it is simple for a histogram where each bin varies independently.\n",
    "\n",
    "An alternative to kernel density estimation is the average shifted histogram, which is fast to compute and gives a smooth curve estimate of the density without using kernels.\n",
    "\n",
    "The histogram is one of the seven basic tools of quality control.\n",
    "\n",
    "Histograms are sometimes confused with bar charts. A histogram is used for continuous data, where the bins represent ranges of data, while a bar chart is a plot of categorical variables. Some authors recommend that bar charts have gaps between the rectangles to clarify the distinction.\"\n",
    "\n",
    "The example below uses a database table from [top_movies.csv](http://54.243.252.9/engr-1330-webroot/1-Lessons/Lesson12/top_movies.csv)"
   ]
  },
  {
   "cell_type": "code",
   "execution_count": 16,
   "metadata": {},
   "outputs": [
    {
     "data": {
      "text/html": [
       "<div>\n",
       "<style scoped>\n",
       "    .dataframe tbody tr th:only-of-type {\n",
       "        vertical-align: middle;\n",
       "    }\n",
       "\n",
       "    .dataframe tbody tr th {\n",
       "        vertical-align: top;\n",
       "    }\n",
       "\n",
       "    .dataframe thead th {\n",
       "        text-align: right;\n",
       "    }\n",
       "</style>\n",
       "<table border=\"1\" class=\"dataframe\">\n",
       "  <thead>\n",
       "    <tr style=\"text-align: right;\">\n",
       "      <th></th>\n",
       "      <th>Title</th>\n",
       "      <th>Studio</th>\n",
       "      <th>Gross</th>\n",
       "      <th>Gross (Adjusted)</th>\n",
       "      <th>Year</th>\n",
       "    </tr>\n",
       "  </thead>\n",
       "  <tbody>\n",
       "    <tr>\n",
       "      <th>0</th>\n",
       "      <td>Star Wars: The Force Awakens</td>\n",
       "      <td>Buena Vista (Disney)</td>\n",
       "      <td>906723418</td>\n",
       "      <td>906723400</td>\n",
       "      <td>2015</td>\n",
       "    </tr>\n",
       "    <tr>\n",
       "      <th>1</th>\n",
       "      <td>Avatar</td>\n",
       "      <td>Fox</td>\n",
       "      <td>760507625</td>\n",
       "      <td>846120800</td>\n",
       "      <td>2009</td>\n",
       "    </tr>\n",
       "    <tr>\n",
       "      <th>2</th>\n",
       "      <td>Titanic</td>\n",
       "      <td>Paramount</td>\n",
       "      <td>658672302</td>\n",
       "      <td>1178627900</td>\n",
       "      <td>1997</td>\n",
       "    </tr>\n",
       "    <tr>\n",
       "      <th>3</th>\n",
       "      <td>Jurassic World</td>\n",
       "      <td>Universal</td>\n",
       "      <td>652270625</td>\n",
       "      <td>687728000</td>\n",
       "      <td>2015</td>\n",
       "    </tr>\n",
       "    <tr>\n",
       "      <th>4</th>\n",
       "      <td>Marvel's The Avengers</td>\n",
       "      <td>Buena Vista (Disney)</td>\n",
       "      <td>623357910</td>\n",
       "      <td>668866600</td>\n",
       "      <td>2012</td>\n",
       "    </tr>\n",
       "  </tbody>\n",
       "</table>\n",
       "</div>"
      ],
      "text/plain": [
       "                          Title                Studio      Gross  \\\n",
       "0  Star Wars: The Force Awakens  Buena Vista (Disney)  906723418   \n",
       "1                        Avatar                   Fox  760507625   \n",
       "2                       Titanic             Paramount  658672302   \n",
       "3                Jurassic World             Universal  652270625   \n",
       "4         Marvel's The Avengers  Buena Vista (Disney)  623357910   \n",
       "\n",
       "   Gross (Adjusted)  Year  \n",
       "0         906723400  2015  \n",
       "1         846120800  2009  \n",
       "2        1178627900  1997  \n",
       "3         687728000  2015  \n",
       "4         668866600  2012  "
      ]
     },
     "execution_count": 16,
     "metadata": {},
     "output_type": "execute_result"
    }
   ],
   "source": [
    "import pandas as pd\n",
    "\n",
    "df = pd.read_csv('top_movies.csv')\n",
    "df.head()"
   ]
  },
  {
   "cell_type": "code",
   "execution_count": 17,
   "metadata": {},
   "outputs": [
    {
     "data": {
      "text/plain": [
       "array([[<AxesSubplot:title={'center':'Gross'}>]], dtype=object)"
      ]
     },
     "execution_count": 17,
     "metadata": {},
     "output_type": "execute_result"
    },
    {
     "data": {
      "image/png": "[encoded data removed]",
      "text/plain": [
       "<Figure size 432x288 with 1 Axes>"
      ]
     },
     "metadata": {
      "filenames": {
       "image/png": "/home/sensei/engr-1330-webroot/engr1330jb/_build/jupyter_execute/lessons/lesson15/lesson15_26_1.png"
      },
      "needs_background": "light"
     },
     "output_type": "display_data"
    }
   ],
   "source": [
    "df[[\"Gross\"]].hist()"
   ]
  },
  {
   "cell_type": "code",
   "execution_count": null,
   "metadata": {},
   "outputs": [],
   "source": []
  },
  {
   "cell_type": "code",
   "execution_count": 18,
   "metadata": {},
   "outputs": [
    {
     "data": {
      "text/plain": [
       "array([[<AxesSubplot:title={'center':'Gross'}>]], dtype=object)"
      ]
     },
     "execution_count": 18,
     "metadata": {},
     "output_type": "execute_result"
    },
    {
     "data": {
      "image/png": "[encoded data removed]",
      "text/plain": [
       "<Figure size 432x288 with 1 Axes>"
      ]
     },
     "metadata": {
      "filenames": {
       "image/png": "/home/sensei/engr-1330-webroot/engr1330jb/_build/jupyter_execute/lessons/lesson15/lesson15_28_1.png"
      },
      "needs_background": "light"
     },
     "output_type": "display_data"
    }
   ],
   "source": [
    "df[[\"Gross\"]].hist(bins=100)"
   ]
  },
  {
   "cell_type": "code",
   "execution_count": 19,
   "metadata": {},
   "outputs": [
    {
     "data": {
      "text/html": [
       "<div>\n",
       "<style scoped>\n",
       "    .dataframe tbody tr th:only-of-type {\n",
       "        vertical-align: middle;\n",
       "    }\n",
       "\n",
       "    .dataframe tbody tr th {\n",
       "        vertical-align: top;\n",
       "    }\n",
       "\n",
       "    .dataframe thead th {\n",
       "        text-align: right;\n",
       "    }\n",
       "</style>\n",
       "<table border=\"1\" class=\"dataframe\">\n",
       "  <thead>\n",
       "    <tr style=\"text-align: right;\">\n",
       "      <th></th>\n",
       "      <th>Gross</th>\n",
       "      <th>Gross (Adjusted)</th>\n",
       "      <th>Year</th>\n",
       "    </tr>\n",
       "  </thead>\n",
       "  <tbody>\n",
       "    <tr>\n",
       "      <th>count</th>\n",
       "      <td>2.000000e+02</td>\n",
       "      <td>2.000000e+02</td>\n",
       "      <td>200.000000</td>\n",
       "    </tr>\n",
       "    <tr>\n",
       "      <th>mean</th>\n",
       "      <td>2.216196e+08</td>\n",
       "      <td>5.041983e+08</td>\n",
       "      <td>1986.620000</td>\n",
       "    </tr>\n",
       "    <tr>\n",
       "      <th>std</th>\n",
       "      <td>1.441574e+08</td>\n",
       "      <td>2.159814e+08</td>\n",
       "      <td>20.493548</td>\n",
       "    </tr>\n",
       "    <tr>\n",
       "      <th>min</th>\n",
       "      <td>9.183673e+06</td>\n",
       "      <td>3.222619e+08</td>\n",
       "      <td>1921.000000</td>\n",
       "    </tr>\n",
       "    <tr>\n",
       "      <th>25%</th>\n",
       "      <td>1.087824e+08</td>\n",
       "      <td>3.677804e+08</td>\n",
       "      <td>1973.000000</td>\n",
       "    </tr>\n",
       "    <tr>\n",
       "      <th>50%</th>\n",
       "      <td>2.001273e+08</td>\n",
       "      <td>4.388570e+08</td>\n",
       "      <td>1990.000000</td>\n",
       "    </tr>\n",
       "    <tr>\n",
       "      <th>75%</th>\n",
       "      <td>3.069535e+08</td>\n",
       "      <td>5.512131e+08</td>\n",
       "      <td>2003.250000</td>\n",
       "    </tr>\n",
       "    <tr>\n",
       "      <th>max</th>\n",
       "      <td>9.067234e+08</td>\n",
       "      <td>1.757788e+09</td>\n",
       "      <td>2015.000000</td>\n",
       "    </tr>\n",
       "  </tbody>\n",
       "</table>\n",
       "</div>"
      ],
      "text/plain": [
       "              Gross  Gross (Adjusted)         Year\n",
       "count  2.000000e+02      2.000000e+02   200.000000\n",
       "mean   2.216196e+08      5.041983e+08  1986.620000\n",
       "std    1.441574e+08      2.159814e+08    20.493548\n",
       "min    9.183673e+06      3.222619e+08  1921.000000\n",
       "25%    1.087824e+08      3.677804e+08  1973.000000\n",
       "50%    2.001273e+08      4.388570e+08  1990.000000\n",
       "75%    3.069535e+08      5.512131e+08  2003.250000\n",
       "max    9.067234e+08      1.757788e+09  2015.000000"
      ]
     },
     "execution_count": 19,
     "metadata": {},
     "output_type": "execute_result"
    }
   ],
   "source": [
    "df.describe()"
   ]
  },
  {
   "cell_type": "markdown",
   "metadata": {},
   "source": [
    "## Summary\n",
    "\n",
    "- line charts (previous lesson)\n",
    "- bar charts\n",
    "- scatterplots\n",
    "- histograms\n",
    "\n",
    "## References\n",
    "\n",
    "1. Grus, Joel (2015-04-14). Data Science from Scratch: First Principles with Python\n",
    "(Kindle Locations 1190-1191). O'Reilly Media. Kindle Edition. \n",
    "\n",
    "2. Call Expressions in \"Adhikari, A. and DeNero, J. Computational and Inferential Thinking The Foundations of Data Science\" https://www.inferentialthinking.com/chapters/03/3/Calls.html\n",
    "\n",
    "3. Functions and Tables in \"Adhikari, A. and DeNero, J. Computational and Inferential Thinking The Foundations of Data Science\" https://www.inferentialthinking.com/chapters/08/Functions_and_Tables.html\n",
    "\n",
    "4. Visualization in \"Adhikari, A. and DeNero, J. Computational and Inferential Thinking The Foundations of Data Science\" https://www.inferentialthinking.com/chapters/07/Visualization.html\n",
    "\n",
    "5. Documentation; The Python Standard Library; 9. Numeric and Mathematical Modules https://docs.python.org/2/library/math.html\n",
    "\n",
    "6. https://matplotlib.org/gallery/lines_bars_and_markers/horizontal_barchart_distribution.html?highlight=horizontal%20bar%20chart\n",
    "\n",
    "7. https://www.geeksforgeeks.org/bar-plot-in-matplotlib/"
   ]
  },
  {
   "cell_type": "markdown",
   "metadata": {},
   "source": [
    "## Addendum (Scripts that are Interactive)\n",
    "\n",
    ":::{note}\n",
    "The addendum is intended for in-class demonstration\n",
    ":::"
   ]
  },
  {
   "cell_type": "code",
   "execution_count": 20,
   "metadata": {
    "collapsed": false,
    "jupyter": {
     "outputs_hidden": false
    }
   },
   "outputs": [
    {
     "data": {
      "image/png": "[encoded data removed]",
      "text/plain": [
       "<Figure size 432x288 with 1 Axes>"
      ]
     },
     "metadata": {
      "filenames": {
       "image/png": "/home/sensei/engr-1330-webroot/engr1330jb/_build/jupyter_execute/lessons/lesson15/lesson15_32_0.png"
      },
      "needs_background": "light"
     },
     "output_type": "display_data"
    }
   ],
   "source": [
    "# python script to illustrate plotting\n",
    "# CODE BELOW IS ADAPTED FROM:\n",
    "# Grus, Joel (2015-04-14). Data Science from Scratch: First Principles with Python\n",
    "# (Kindle Locations 1190-1191). O'Reilly Media. Kindle Edition. \n",
    "#\n",
    "from matplotlib import pyplot as plt # import the plotting library from matplotlibplt.show()\n",
    "\n",
    "years = [1950, 1960, 1970, 1980, 1990, 2000, 2010]  # define one list for years\n",
    "gdp = [300.2, 543.3, 1075.9, 2862.5, 5979.6, 10289.7, 14958.3] # and another one for Gross Domestic Product (GDP)\n",
    "plt.plot( years, gdp, color ='green', marker ='o', linestyle ='solid') # create a line chart, years on x-axis, gdp on y-axis\n",
    "                                                                       # what if \"^\", \"P\", \"*\" for marker?\n",
    "                                                                       # what if \"red\" for color?  \n",
    "                                                                       # what if \"dashdot\", '--' for linestyle?  \n",
    "\n",
    "\n",
    "plt.title(\"Nominal GDP\")# add a title\n",
    "plt.ylabel(\"Billions of $\")# add a label to the x and y-axes\n",
    "plt.xlabel(\"Year\")\n",
    "plt.show() # display the plot"
   ]
  },
  {
   "cell_type": "markdown",
   "metadata": {},
   "source": [
    "Now lets put the plotting script into a function so we can make line charts of any two numeric lists"
   ]
  },
  {
   "cell_type": "code",
   "execution_count": 21,
   "metadata": {
    "collapsed": false,
    "jupyter": {
     "outputs_hidden": false
    }
   },
   "outputs": [],
   "source": [
    "def plotAline(list1,list2,strx,stry,strtitle): # plot list1 on x, list2 on y, xlabel, ylabel, title\n",
    "    from matplotlib import pyplot as plt # import the plotting library from matplotlibplt.show()\n",
    "    plt.plot( list1, list2, color ='green', marker ='o', linestyle ='solid') # create a line chart, years on x-axis, gdp on y-axis\n",
    "    plt.title(strtitle)# add a title\n",
    "    plt.ylabel(stry)# add a label to the x and y-axes\n",
    "    plt.xlabel(strx)\n",
    "    plt.show() # display the plot\n",
    "    return #null return"
   ]
  },
  {
   "cell_type": "code",
   "execution_count": 22,
   "metadata": {
    "collapsed": false,
    "jupyter": {
     "outputs_hidden": false
    }
   },
   "outputs": [
    {
     "name": "stdout",
     "output_type": "stream",
     "text": [
      "<class 'int'>\n",
      "<class 'float'>\n"
     ]
    },
    {
     "data": {
      "image/png": "[encoded data removed]",
      "text/plain": [
       "<Figure size 432x288 with 1 Axes>"
      ]
     },
     "metadata": {
      "filenames": {
       "image/png": "/home/sensei/engr-1330-webroot/engr1330jb/_build/jupyter_execute/lessons/lesson15/lesson15_35_1.png"
      },
      "needs_background": "light"
     },
     "output_type": "display_data"
    }
   ],
   "source": [
    "# wrapper\n",
    "years = [1950, 1960, 1970, 1980, 1990, 2000, 2010]  # define two lists years and gdp\n",
    "gdp = [300.2, 543.3, 1075.9, 2862.5, 5979.6, 10289.7, 14958.3]\n",
    "print(type(years[0]))\n",
    "print(type(gdp[0]))\n",
    "plotAline(years,gdp,\"Year\",\"Billions of $\",\"Nominal GDP\")"
   ]
  },
  {
   "cell_type": "markdown",
   "metadata": {},
   "source": [
    "## Example \n",
    "Use the plotting script and create a function that draws a straight line between two points."
   ]
  },
  {
   "cell_type": "markdown",
   "metadata": {
    "jupyter": {
     "outputs_hidden": false
    }
   },
   "source": [
    "```\n",
    "    def Line():\n",
    "    from matplotlib import pyplot as plt # import the plotting library from matplotlibplt.show()\n",
    "    x1 = input('Please enter x value for point 1')\n",
    "    y1 = input('Please enter y value for point 1')\n",
    "    x2 = input('Please enter x value for point 2')\n",
    "    y2 = input('Please enter y value for point 2')\n",
    "    xlist = [x1,x2]\n",
    "    ylist = [y1,y2]\n",
    "    plt.plot( xlist, ylist, color ='orange', marker ='*', linestyle ='solid') \n",
    "    #plt.title(strtitle)# add a title\n",
    "    plt.ylabel(\"Y-axis\")# add a label to the x and y-axes\n",
    "    plt.xlabel(\"X-axis\")\n",
    "    plt.show() # display the plot\n",
    "    return #null return\n",
    "```"
   ]
  },
  {
   "cell_type": "markdown",
   "metadata": {},
   "source": [
    "---\n",
    "\n",
    "## Laboratory 15\n",
    "\n",
    "**Examine** (click) Laboratory 15 as a webpage at [Laboratory 15.html](http://54.243.252.9/engr-1330-webroot/8-Labs/Lab15/Lab15.html)\n",
    "\n",
    "**Download** (right-click, save target as ...) Laboratory 15 as a jupyterlab notebook from [Laboratory 15.ipynb](http://54.243.252.9/engr-1330-webroot/8-Labs/Lab15/Lab15.ipynb)\n"
   ]
  },
  {
   "cell_type": "markdown",
   "metadata": {},
   "source": [
    "<hr><hr>\n",
    "\n",
    "## Exercise Set 15\n",
    "\n",
    "**Examine** (click) Exercise Set 15 as a webpage at [Exercise 15.html](http://54.243.252.9/engr-1330-webroot/8-Labs/Lab15/Lab15-TH.html)\n",
    "\n",
    "**Download** (right-click, save target as ...) Exercise Set 15 as a jupyterlab notebook at  [Exercise Set 7.1.ipynb](http://54.243.252.9/engr-1330-webroot/8-Labs/Lab15/Lab15-TH.ipynb)\n",
    "\n"
   ]
  },
  {
   "cell_type": "markdown",
   "metadata": {},
   "source": [
    "## References"
   ]
  },
  {
   "cell_type": "code",
   "execution_count": null,
   "metadata": {},
   "outputs": [],
   "source": []
  }
 ],
 "metadata": {
  "kernelspec": {
   "display_name": "Python 3",
   "language": "python",
   "name": "python3"
  },
  "language_info": {
   "codemirror_mode": {
    "name": "ipython",
    "version": 3
   },
   "file_extension": ".py",
   "mimetype": "text/x-python",
   "name": "python",
   "nbconvert_exporter": "python",
   "pygments_lexer": "ipython3",
   "version": "3.8.10"
  }
 },
 "nbformat": 4,
 "nbformat_minor": 4
}