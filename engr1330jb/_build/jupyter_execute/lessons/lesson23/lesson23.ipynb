{
 "cells": [
  {
   "cell_type": "markdown",
   "metadata": {},
   "source": [
    "<div class=\"alert alert-block alert-info\">\n",
    "    <b><h1>ENGR 1330 Computational Thinking with Data Science </h1></b> \n",
    "</div> \n",
    "\n",
    "Copyright © 2021 Theodore G. Cleveland and Farhang Forghanparast\n",
    "\n",
    "Last GitHub Commit Date: 16 Mar 2021\n",
    "    \n",
    "# 23: Testing Hypothesis (continued) \n",
    "- Attained significance (p-value)"
   ]
  },
  {
   "cell_type": "markdown",
   "metadata": {},
   "source": [
    "*Hypothesis Testing* A procedure to systematically decide if two data collections are similar or substantially different by comparing descriptive statistics (typically mean and variance).\n",
    "\n",
    "<!--![](https://www.thermofisher.com/blog/wp-content/uploads/sites/11/2018/01/istock-829172394_redumbrella.jpg)-->\n",
    "\n",
    "## Objectives\n",
    "- To apply fundamental concepts involved in probability estimation modeling and descriptive statistics;\n",
    "  - Use of non-standard external module\n",
    "  - Use of graphics to visualize hypothesis tests\n",
    "\n",
    "---\n",
    "\n",
    "## Computational Thinking Concepts\n",
    "The CT concepts include:\n",
    "\n",
    "- Abstraction => Represent data behavior with a statistic \n",
    "- Pattern Recognition => Compare patterns in (our) data models to make a decision\n",
    "---\n",
    "\n",
    "Lets actually examine the course textbook:\n",
    "[https://www.inferentialthinking.com/chapters/11/Testing_Hypotheses.html](https://www.inferentialthinking.com/chapters/11/Testing_Hypotheses.html)\n",
    "\n",
    "There is a \"secret\" module you need to install, without instructions of how!  Welcome to the world of obfuscation!"
   ]
  },
  {
   "cell_type": "markdown",
   "metadata": {},
   "source": [
    "> To get access to the datascience library in the textbook you use pip. <br>\n",
    "> On my server I did: `sudo -H /opt/jupyterhub/bin/python3 -m pip install datascience` <br>\n",
    "> On your anaconda environment the following might work: <br>\n",
    "> `! pip install datascience` <= put this into a Jupyter code cell and run it once!\n",
    "    "
   ]
  },
  {
   "cell_type": "code",
   "execution_count": 1,
   "metadata": {},
   "outputs": [],
   "source": [
    "# ! pip install datascience - activate if import fails\n",
    "import datascience\n",
    "import numpy as np\n",
    "import matplotlib \n",
    "import matplotlib.pyplot as plt\n",
    "#required to get kernel to render the image\n",
    "%matplotlib inline "
   ]
  },
  {
   "cell_type": "markdown",
   "metadata": {},
   "source": [
    "## Mendel's Pea Flowers\n",
    "\n",
    "Gregor Mendel (1822-1884) was an Austrian monk who is widely recognized as the founder of the modern field of genetics. \n",
    "\n",
    "<img src=\"http://54.243.252.9/engr-1330-webroot/1-Lessons/Lesson17/gotitfrommymama.jpg\" style=\"padding-right: 10px; padding-left: 10px;\" width=\"200\" align=\"left\">\n",
    "\n",
    "Mendel performed careful and large-scale experiments on plants to come up with fundamental laws of genetics.\n",
    "Many of his experiments were on varieties of pea plants. He formulated sets of assumptions about each variety; these were his models. He then tested the validity of his models by growing the plants and gathering data.\n",
    "\n",
    "<img src=\"http://54.243.252.9/engr-1330-webroot/1-Lessons/Lesson17/mendels-garden.jpg\" style=\"padding-right: 10px; padding-left: 10px;\" width=\"200\" align=\"right\" >\n",
    "\n",
    "Let's analyze the data from one such experiment to see if Mendel's model was good.\n",
    "\n",
    "In a particular variety, each plant has either purple flowers or white. The color in each plant is unaffected by the colors in other plants. Mendel hypothesized that the plants should bear purple or white flowers at random, in the ratio 3:1. \n",
    "\n",
    "### *Mendel's Model*\n",
    "\n",
    "For every plant, there is a 75% chance that it will have purple flowers, and a 25% chance that the flowers will be white, regardless of the colors in all the other plants.\n",
    "\n",
    "### Approach to Assessment\n",
    "\n",
    "To go about assessing Mendel's model, we can simulate plants under the assumptions of the model and see what it predicts. Then we will be able to compare the predictions with the data that Mendel recorded.\n",
    "The Statistic\n",
    "\n",
    "Our goal is to see whether or not Mendel's model is good. We need to simulate a statistic that will help us make this decision.\n",
    "\n",
    "If the model is good, the percent of purple-flowering plants in the sample should be close to 75%. If the model is not good, the percent purple-flowering will be away from 75%. It may be higher, or lower; the direction doesn't matter.\n",
    "\n",
    "The key for us is the distance between 75% and the percent of purple-flowering plants in the sample. Big distances are evidence that the model isn't good.\n",
    "\n",
    "> Our statistic, therefore, is the distance between the sample percent and 75%: <br><br>\n",
    "> $\\text{Distance} = ~∣\\frac{\\text{sample percent of purple}}{\\text{flowering plants}}|−75\\%$\n",
    "\n",
    "### Predicting the Statistic Under the Model\n",
    "\n",
    "To see how big the distance would be if Mendel's model were true, we can use sample_proportions to simulate the distance under the assumptions of the model.\n",
    "\n",
    "First, we have to figure out how many times to sample. To do this, remember that we are going to compare our simulation with Mendel's plants. So we should simulate the same number of plants that he had.\n",
    "\n",
    "Mendel grew a lot of plants. There were 929 plants of the variety corresponding to this model. So we have to sample 929 times.\n",
    "Generating One Value of the Statistic\n",
    "\n",
    "The steps in the calculation:\n",
    "\n",
    ">Sample 929 times at random from the distribution specified by the model and find the sample proportion in the purple-flowering category. <br>\n",
    ">Multiply the proportion by 100 to get a pecent.<br>\n",
    ">Subtract 75 and take the absolute value of the difference.<br>\n",
    "\n",
    "That's the statistic: the distance between the sample percent and 75.\n",
    "\n",
    "We will start by defining a function that takes a proportion and returns the absolute difference between the corresponding percent and 75.\n"
   ]
  },
  {
   "cell_type": "code",
   "execution_count": 2,
   "metadata": {},
   "outputs": [],
   "source": [
    "def distance_from_75(p):\n",
    "    return abs(100*p - 75)"
   ]
  },
  {
   "cell_type": "markdown",
   "metadata": {},
   "source": [
    "To simulate one value of the distance between the sample percent of purple-flowering plants and 75%, under the assumptions of Mendel's model, we have to first simulate the proportion of purple-flowering plants among 929 plants under the assumption of the model, and then calculate the discrepancy from 75%."
   ]
  },
  {
   "cell_type": "code",
   "execution_count": 3,
   "metadata": {},
   "outputs": [],
   "source": [
    "model_proportions = [0.75, 0.25]"
   ]
  },
  {
   "cell_type": "code",
   "execution_count": 4,
   "metadata": {},
   "outputs": [
    {
     "data": {
      "text/plain": [
       "0.618945102260497"
      ]
     },
     "execution_count": 4,
     "metadata": {},
     "output_type": "execute_result"
    }
   ],
   "source": [
    "proportion_purple_in_sample = datascience.sample_proportions(929, model_proportions).item(0)\n",
    "distance_from_75(proportion_purple_in_sample)\n",
    "#proportion_purple_in_sample"
   ]
  },
  {
   "cell_type": "markdown",
   "metadata": {},
   "source": [
    "That's one simulated value of the distance between the sample percent of purple-flowering plants and 75% as predicted by Mendel's model.\n",
    "### Running the Simulation\n",
    "\n",
    "To get a sense of how variable the distance could be, we have to simulate it many more times.\n",
    "\n",
    "We will generate 10,000 values of the distance. As before, we will first use the code we developed above to define a function that returns one simulated value Mendel's hypothesis.\n"
   ]
  },
  {
   "cell_type": "code",
   "execution_count": 5,
   "metadata": {},
   "outputs": [],
   "source": [
    "def one_simulated_distance():\n",
    "    proportion_purple_in_sample = datascience.sample_proportions(929, model_proportions).item(0)\n",
    "    return distance_from_75(proportion_purple_in_sample)"
   ]
  },
  {
   "cell_type": "markdown",
   "metadata": {},
   "source": [
    "Next, we will use a for loop to create 10,000 such simulated distances."
   ]
  },
  {
   "cell_type": "code",
   "execution_count": 6,
   "metadata": {},
   "outputs": [],
   "source": [
    "distances = datascience.make_array()\n",
    "\n",
    "repetitions = 10000\n",
    "for i in np.arange(repetitions):\n",
    "    distances = np.append(distances, one_simulated_distance())\n",
    "    \n",
    "len(distances);\n",
    "#distances[999]"
   ]
  },
  {
   "cell_type": "markdown",
   "metadata": {},
   "source": [
    "### The Prediction\n",
    "\n",
    "The empirical histogram of the simulated values shows the distribution of the distance as predicted by Mendel's model.  First we will plot a histogram of the simulated distances, small values (close to zero) are supportive of Mendel's model, larger values are not.\n"
   ]
  },
  {
   "cell_type": "code",
   "execution_count": 7,
   "metadata": {},
   "outputs": [
    {
     "data": {
      "image/png": "[encoded data removed]",
      "text/plain": [
       "<Figure size 432x288 with 1 Axes>"
      ]
     },
     "metadata": {
      "filenames": {
       "image/png": "/home/sensei/engr-1330-webroot/engr1330jb/_build/jupyter_execute/lessons/lesson23/lesson23_14_0.png"
      },
      "needs_background": "light"
     },
     "output_type": "display_data"
    }
   ],
   "source": [
    "plt.hist(distances,11)\n",
    "plt.show()"
   ]
  },
  {
   "cell_type": "markdown",
   "metadata": {},
   "source": [
    "Here we see that the majority of the distances are between 0-1, lets find the value of distance for the 25%,50%,75%, and 99%"
   ]
  },
  {
   "cell_type": "code",
   "execution_count": 8,
   "metadata": {},
   "outputs": [
    {
     "name": "stdout",
     "output_type": "stream",
     "text": [
      "25 % of the distances are between 0 and  0.46\n",
      "50 % of the distances are between 0 and  1.0\n",
      "75 % of the distances are between 0 and  1.64\n",
      "99 % of the distances are between 0 and  3.74\n"
     ]
    }
   ],
   "source": [
    "quants = np.quantile(distances,[0.25,0.50,0.75,0.99])\n",
    "print('25 % of the distances are between 0 and ',round(quants[0],2))\n",
    "print('50 % of the distances are between 0 and ',round(quants[1],2))\n",
    "print('75 % of the distances are between 0 and ',round(quants[2],2))\n",
    "print('99 % of the distances are between 0 and ',round(quants[3],2))"
   ]
  },
  {
   "cell_type": "markdown",
   "metadata": {},
   "source": [
    "The median distance is slightly less than 1, so for any single experiment half the time we expect distances less than 1, half greater."
   ]
  },
  {
   "cell_type": "code",
   "execution_count": 9,
   "metadata": {},
   "outputs": [
    {
     "data": {
      "image/png": "[encoded data removed]",
      "text/plain": [
       "<Figure size 432x288 with 1 Axes>"
      ]
     },
     "metadata": {
      "filenames": {
       "image/png": "/home/sensei/engr-1330-webroot/engr1330jb/_build/jupyter_execute/lessons/lesson23/lesson23_18_0.png"
      },
      "needs_background": "light"
     },
     "output_type": "display_data"
    }
   ],
   "source": [
    "datascience.Table().with_column(\n",
    "    'Distance between Sample % and 75%', distances\n",
    ").hist()"
   ]
  },
  {
   "cell_type": "markdown",
   "metadata": {},
   "source": [
    "\n",
    "\n",
    "Look on the horizontal axis to see the typical values of the distance, as predicted by the model. They are rather small. For example, a high proportion of the distances are in the range 0 to 1, meaning that for a high proportion of the samples, the percent of purple-flowering plants is within 1% of 75%, that is, the sample percent is in the range 74% to 76%.\n",
    "\n",
    "### Comparing the Prediction and the Data\n",
    "\n",
    "To assess the model, we have to compare this prediction with the data. Mendel recorded the number of purple and white flowering plants. In an actual experiment of the 929 plants that he grew, 705 were purple flowering. That's just about 75.89%.\n"
   ]
  },
  {
   "cell_type": "code",
   "execution_count": 10,
   "metadata": {},
   "outputs": [
    {
     "data": {
      "text/plain": [
       "75.89"
      ]
     },
     "execution_count": 10,
     "metadata": {},
     "output_type": "execute_result"
    }
   ],
   "source": [
    "100*round(705 / 929, 4)"
   ]
  },
  {
   "cell_type": "markdown",
   "metadata": {},
   "source": [
    "So the `observed value` of our statistic – the distance between Mendel's sample percent and 75 – is about 0.89:"
   ]
  },
  {
   "cell_type": "code",
   "execution_count": 11,
   "metadata": {},
   "outputs": [
    {
     "data": {
      "text/plain": [
       "0.89"
      ]
     },
     "execution_count": 11,
     "metadata": {},
     "output_type": "execute_result"
    }
   ],
   "source": [
    "observed_statistic = distance_from_75(705/929)\n",
    "round(observed_statistic, 2)"
   ]
  },
  {
   "cell_type": "markdown",
   "metadata": {},
   "source": [
    "\n",
    "\n",
    "Just by eye, locate roughly where 0.89 is on the horizontal axis of the histogram. You will see that it is clearly in the heart of the distribution predicted by Mendel's model.\n",
    "\n",
    "The cell below redraws the histogram with the observed value plotted on the horizontal axis.\n"
   ]
  },
  {
   "cell_type": "code",
   "execution_count": 12,
   "metadata": {},
   "outputs": [
    {
     "data": {
      "image/png": "[encoded data removed]",
      "text/plain": [
       "<Figure size 432x288 with 1 Axes>"
      ]
     },
     "metadata": {
      "filenames": {
       "image/png": "/home/sensei/engr-1330-webroot/engr1330jb/_build/jupyter_execute/lessons/lesson23/lesson23_24_0.png"
      },
      "needs_background": "light"
     },
     "output_type": "display_data"
    }
   ],
   "source": [
    "plt.hist(distances,11,alpha=0.5)\n",
    "plt.scatter(observed_statistic, 75.00, color='red', s=150);\n",
    "plt.show()"
   ]
  },
  {
   "cell_type": "markdown",
   "metadata": {},
   "source": [
    "Here's the same plot using the datascience module - essentially helps decorate the plot."
   ]
  },
  {
   "cell_type": "code",
   "execution_count": 13,
   "metadata": {},
   "outputs": [
    {
     "data": {
      "image/png": "[encoded data removed]",
      "text/plain": [
       "<Figure size 432x288 with 1 Axes>"
      ]
     },
     "metadata": {
      "filenames": {
       "image/png": "/home/sensei/engr-1330-webroot/engr1330jb/_build/jupyter_execute/lessons/lesson23/lesson23_26_0.png"
      },
      "needs_background": "light"
     },
     "output_type": "display_data"
    }
   ],
   "source": [
    "datascience.Table().with_column(\n",
    "    'Distance between Sample % and 75%', distances\n",
    ").hist() \n",
    "matplotlib.pyplot.scatter(observed_statistic, 0.00, color='red', s=150);"
   ]
  },
  {
   "cell_type": "markdown",
   "metadata": {},
   "source": [
    "The observed statistic is like a typical distance predicted by the model. By this measure, the data are consistent with the histogram that we generated under the assumptions of Mendel's model. This is evidence in favor of the model.\n",
    "\n",
    "We can further find the quantile associated with the observed statistic."
   ]
  },
  {
   "cell_type": "code",
   "execution_count": 14,
   "metadata": {},
   "outputs": [
    {
     "name": "stdout",
     "output_type": "stream",
     "text": [
      "The observed statistic : 0.888 is smaller than  54.89  percent of the simulated sample\n"
     ]
    }
   ],
   "source": [
    "qvalue=0.0 #quantile value to start\n",
    "tolerance=0.0001\n",
    "how_many= int(1/tolerance)\n",
    "for i in range(how_many): #brute force search\n",
    "    how_close = observed_statistic-np.quantile(distances,qvalue)\n",
    "    if how_close >= tolerance:\n",
    "        qvalue = qvalue+tolerance\n",
    "        #print(how_close,qvalue)\n",
    "    if how_close < tolerance:\n",
    "        #print(how_close,qvalue)\n",
    "        break\n",
    "print('The observed statistic :',round(observed_statistic,3),'is smaller than ',round(100*(1.0-qvalue),3),' percent of the simulated sample')"
   ]
  },
  {
   "cell_type": "markdown",
   "metadata": {},
   "source": [
    "This example is the essence of hypothesis tests that are conducted in all fields in which theory can be compared to observation.\n",
    "\n",
    "Here we used simulation to replicate many prospective experiments, by randomly sampling from a population that had the desired proportions. \n",
    "Then compared an actual experiment, to the simulated population behavoir using a histogram to learn where our measurement (test statistic) landed with respect to many other experiments.  Lastly, we can use quantiles (probability estimates) to judge the measurement's chance of occurance as compared to a random simulation of the correct behavior.  Here we found that our measurement is expected roughly half the time as compared to a random population **with the correct(null) proportions**\n",
    "\n",
    "The next section formalizes these kinds of tests when the population is not available (bear in mind the rules are built using simulations, then common patterns emerge and we use the patterns)\n",
    "\n",
    "---\n",
    "\n",
    "## Elements of a Statistical Test\n",
    "The four essential elements are:\n",
    "\n",
    "1. null hypothesis, $H_0$\n",
    "2. alternative hypothesis, $H_a$\n",
    "3. a test statistic \n",
    "4. a rejection region\n",
    "\n",
    "### \n",
    "\n",
    "Suppose we wish to test a hypothesis concerning a parameter $\\theta$ based on a random sample $Y_1,Y_2, \\dots ,Y_n$ from which we compute an estimate named $\\hat\\theta$.  Assume for this lesson that the estimator has an approximately normical distribution with mean $\\theta$ and variance $\\sigma_{\\hat\\theta}^2$\n",
    "\n",
    "Suppose $\\theta_0$ is a particular (target) value of $\\theta$, we wish to test $H_0:\\theta = \\theta_0$ versus $H_a:\\theta > \\theta_0$.\n",
    "\n",
    "The figure below depicts sampling distributions of $\\hat\\theta$ for different values of $\\theta$, including one that happens to center on $\\theta_0$\n",
    "\n",
    "<img src=\"http://54.243.252.9/engr-1330-webroot/1-Lessons/Lesson17/samplngDists.png\" style=\"padding-right: 10px; padding-left: 10px;\" width=\"300\" >\n",
    "\n",
    "If $\\hat\\theta$ is close to $\\theta_0$, it is reasonable to accept  $H_0$. \n",
    "However if $\\theta > \\theta_0$, it is more likely that $\\hat\\theta$ is going to be large.\n",
    "\n",
    "Thus large values of $\\hat\\theta$ (larger than $\\theta_0$) favor the rejection of $H_0:\\theta = \\theta_0$ and the acceptance of $H_a:\\theta > \\theta_0$.  Using the 4 elements as a guide, we can concisely state :\n",
    "\n",
    "|item|value| \n",
    "|:---|:---|\n",
    "|$H_0$|$\\theta = \\theta_0$|\n",
    "|$H_a$|$\\theta > \\theta_0$|\n",
    "|Test Statistic|$\\hat\\theta$|\n",
    "|Rejection Region|$RR = \\hat\\theta > k$ for some choice of $k$|\n",
    "\n",
    "The actual value of $RR$ is determined by setting the type-I-error prbability $\\alpha$ and choosing $k$ accordingly, such as in the figure below.\n",
    "\n",
    "<img src=\"http://54.243.252.9/engr-1330-webroot/1-Lessons/Lesson17/type1.png\" style=\"padding-right: 10px; padding-left: 10px;\" width=\"300\" >\n",
    "\n",
    "If $H_0$ is true, $\\hat\\theta$ having an approximately normal distribution with mean $\\theta_0$ and variance $\\sigma_{\\hat\\theta}^2$, if we desire a type-I-error probability of $\\alpha$ then\n",
    "\n",
    "$$k = \\theta_0 + z_{\\alpha} \\sigma_{\\hat\\theta}$$\n",
    "\n",
    "is the choice for $k$ where $P(Z > z_{\\alpha}) = \\alpha $ when $Z$ is a standard normal variate (our firend the Z-score).\n",
    "\n",
    "Our $RR$ can be expressed as:\n",
    "\n",
    "$$ RR = \\hat\\theta : \\frac{\\hat\\theta - \\theta_0}{\\sigma_{\\hat\\theta}} > z_{\\alpha}$$\n",
    "\n",
    "Thus our test is:\n",
    "\n",
    "|item|value| \n",
    "|:---|:------|\n",
    "|$H_0$|$\\theta = \\theta_0$|\n",
    "|$H_a$|$\\theta> \\theta_0$|\n",
    "|Test Statistic|$Z=\\frac{\\hat\\theta-\\theta_0}{\\sigma_{\\hat\\theta}}$ |\n",
    "|Rejection Region|$z>z_{\\alpha}$ for some value $\\alpha$|\n",
    "\n",
    "Recall we choose $\\alpha$"
   ]
  },
  {
   "cell_type": "markdown",
   "metadata": {},
   "source": [
    "### Example\n",
    "\n",
    "A machine in a factory must be stopped and maintained when its defects exceede 10% on the daily production runs.   A random sample of 100 items from one day of production contain 15 defective items and the shop foreman claims the machine must be maintained/repaired.  Does the sample evidence support the foreman's assertion?\n",
    "\n",
    "Lets apply our process.\n",
    "\n",
    "$Y$ denotes the number of defectives.  $Y$ will be a binomial variate (with value TRUE/FALSE or 0/1) with a probability of one outcome of $p$ and the other $1-p$.  Kind of like an oddly weighted coin.  Lets say the defect outcome is the value $p$. We will assume 100 is large enough so that we can approximate the binomial with a Z-score statistic.\n",
    "\n",
    "|item|value| \n",
    "|:---|:---|\n",
    "|$H_0$|$p = 0.10$|\n",
    "|$H_a$|$p > 0.10$|\n",
    "|Test Statistic|$$Z=\\frac{\\hat p-p_0}{\\sqrt{\\frac{p_0(1-p_0)}{n}}}$$ |\n",
    "|Rejection Region|$z>z_{\\alpha}$ for some value $\\alpha$|\n",
    "\n",
    "Lets choose $\\alpha = 0.01$ what is the value for $z_{\\alpha}$?"
   ]
  },
  {
   "cell_type": "code",
   "execution_count": 15,
   "metadata": {},
   "outputs": [
    {
     "name": "stdout",
     "output_type": "stream",
     "text": [
      "0.010035980100274067\n",
      "Do Not Reject Ho Test Statistic =  1.667 Rejection Value =  2.325  Type-I-error probability =  0.010036\n",
      "P-value at rejection =  0.04779\n"
     ]
    }
   ],
   "source": [
    "import math\n",
    "def normdist(x,mu,sigma):\n",
    "    argument = (x - mu)/(math.sqrt(2.0)*sigma)    \n",
    "    normdist = (1.0 + math.erf(argument))/2.0\n",
    "    return normdist\n",
    "\n",
    "sample_count = 100\n",
    "defect_count = 15\n",
    "phat = defect_count/sample_count\n",
    "pzero = 0.10\n",
    "\n",
    "z_test = (phat - pzero) / math.sqrt((pzero*(1.0-pzero))/(sample_count))\n",
    "\n",
    "z_alpha =  2.325 #1.646 #2.325 #here we find by trial and error\n",
    "quantile = 1-normdist(z_alpha,0,1)\n",
    "print(quantile)\n",
    "if z_test > z_alpha:\n",
    "    print(\"Reject Ho\",\"Test Statistic = \",round(z_test,3), \"Rejection Value = \",round(z_alpha,3),\" Type-I-error probability = \",round(quantile,6))\n",
    "else:\n",
    "    print(\"Do Not Reject Ho\",\"Test Statistic = \",round(z_test,3), \"Rejection Value = \",round(z_alpha,3),\" Type-I-error probability = \",round(quantile,6))\n",
    "\n",
    "# or we can compute p-value\n",
    "\n",
    "pvalue = 1-normdist(z_test,0,1)\n",
    "\n",
    "print(\"P-value at rejection = \",round(pvalue,6))\n",
    "    "
   ]
  },
  {
   "cell_type": "markdown",
   "metadata": {},
   "source": [
    "Now lets examine the actual defect distribution by simulation"
   ]
  },
  {
   "cell_type": "code",
   "execution_count": 16,
   "metadata": {},
   "outputs": [
    {
     "data": {
      "image/png": "[encoded data removed]",
      "text/plain": [
       "<Figure size 432x288 with 1 Axes>"
      ]
     },
     "metadata": {
      "filenames": {
       "image/png": "/home/sensei/engr-1330-webroot/engr1330jb/_build/jupyter_execute/lessons/lesson23/lesson23_33_0.png"
      },
      "needs_background": "light"
     },
     "output_type": "display_data"
    }
   ],
   "source": [
    "import random\n",
    "import matplotlib.pyplot as plt\n",
    "\n",
    "def sample_parts(how_many,proportion):\n",
    "    sample_list = [] #empty list to store results\n",
    "    for i in range(0,how_many):\n",
    "        temp = random.uniform(0, 1)\n",
    "        if temp <= proportion:\n",
    "            sample_list.append(0)\n",
    "        else:\n",
    "            sample_list.append(1)\n",
    "    return(sample_list)\n",
    "\n",
    "#machine_parts = sample_parts(100,0.10)\n",
    "#plt.hist(machine_parts, density = False)\n",
    "#plt.show()\n",
    "\n",
    "# simulate sampling then computing the defect rate\n",
    "defect_rate = []\n",
    "\n",
    "for j in range(1,5000): #change from 10 to 50,70,90,100,1000,2000,3000\n",
    "    machine_parts = sample_parts(j,0.10)\n",
    "    sample_count = len(machine_parts)\n",
    "    defect_count = sample_count - sum(machine_parts)\n",
    "    defect_rate.append(defect_count/sample_count)\n",
    "\n",
    "plt.hist(defect_rate,bins=9,density = True)\n",
    "#matplotlib.pyplot.scatter(0.15, 0.00, color='red', s=66);\n",
    "plt.show()"
   ]
  },
  {
   "cell_type": "markdown",
   "metadata": {},
   "source": [
    "### A/B Testing\n",
    "\n",
    "In modern data analytics, deciding whether two numerical samples come from the same underlying distribution is called A/B testing. The name refers to the labels of the two samples, A and B.\n",
    "\n",
    "An example will illustrate the concept"
   ]
  },
  {
   "cell_type": "markdown",
   "metadata": {},
   "source": [
    "### Example: Website Design: A practical example of A/B Testing\n",
    "*inspired by an example in __\"A/B Test Significance in Python\"__ by __Samuel Hinton__ available at* https://cosmiccoding.com.au/tutorials/ab_tests <br>\n",
    "![](https://www.invespcro.com/blog/images/blog-images/ab-test-1-1.jpg) <br>\n",
    "Imagine you’re in charge of a website (e.g., an online videogame shop). You have the current version of the website (aka. \"A\"), but aren’t happy with it. For instance, you are not selling as much as you like. You want to change the design of the \"Add to Cart\" button (aka. \"B\") and maybe that will increase your sells. <br>\n",
    "![](https://www.volusion.com/blog/content/images/wp/buttonaandbuttonn.jpg) <br>\n",
    "\n",
    "you set up your website so that half the people are directed to the old website, and half to one where you’ve made your change. You have data from both, and want to know, with confidence, “Does the change I made increase the sells?”.<br>\n",
    "\n",
    "*This is an A/B test. Often this is used interchangably with the term “split testing”, though in general A/B tests test small changes, and split testing might be when you present two entirely different websites to the user.* <br>\n",
    "\n",
    "#### Why not just change the website and monitor it for a week?\n",
    ">Good question - by having two sites active at once and randomly directing users to one or the other, you control for all other variables. If one week later puts you the week before Christmas, this will impact sales, and you might draw the wrong conclusion because of these confounding effects.\n",
    "#### Why is it not an A/B/C test?\n",
    "> One can have as many perturbations running as you want, but got to keep the name simple. The more perturbations you try though, the smaller a number of samples you’ll have for each case, and the harder it will be to draw statistically significant conclusions.\n",
    "\n",
    "Let us assume you have 1000 users, 550 were directed to site A, 450 to site B. In site A, 48 users made a purchase. In site B, 56 users made a purchase. Is this a statistically significant result?"
   ]
  },
  {
   "cell_type": "code",
   "execution_count": 17,
   "metadata": {},
   "outputs": [
    {
     "name": "stdout",
     "output_type": "stream",
     "text": [
      "0.08727272727272728\n",
      "0.12444444444444444\n"
     ]
    }
   ],
   "source": [
    "num_a= 550\n",
    "num_b = 450\n",
    "click_a= 48\n",
    "click_b = 56\n",
    "rate_a= click_a / num_a\n",
    "rate_b = click_b / num_b\n",
    "print(rate_a)\n",
    "print(rate_b)"
   ]
  },
  {
   "cell_type": "markdown",
   "metadata": {},
   "source": [
    "You can click a button, or not. Two discrete options are available, so this is a textbook binomial distribution, with some unknown rate for site A and site B. We don’t know the true click rate, but we can estimate it using our small sample."
   ]
  },
  {
   "cell_type": "code",
   "execution_count": 18,
   "metadata": {},
   "outputs": [
    {
     "data": {
      "image/png": "[encoded data removed]",
      "text/plain": [
       "<Figure size 432x288 with 1 Axes>"
      ]
     },
     "metadata": {
      "filenames": {
       "image/png": "/home/sensei/engr-1330-webroot/engr1330jb/_build/jupyter_execute/lessons/lesson23/lesson23_38_0.png"
      },
      "needs_background": "light"
     },
     "output_type": "display_data"
    }
   ],
   "source": [
    "import matplotlib.pyplot as plt\n",
    "import numpy as np\n",
    "from scipy.stats import binom\n",
    "\n",
    "# Determine the probability of having x number of clicks - Binomial Dist.\n",
    "clicks = np.arange(10, 100)\n",
    "prob_a = binom(num_a, rate_a).pmf(clicks)\n",
    "prob_b = binom(num_b, rate_b).pmf(clicks)\n",
    "\n",
    "# Make the bar plots.\n",
    "plt.bar(clicks, prob_a, label=\"A\", alpha=0.7)\n",
    "plt.bar(clicks, prob_b, label=\"B\", alpha=0.7)\n",
    "plt.legend()\n",
    "plt.xlabel(\"# of Sells\"); plt.ylabel(\"Probability\");"
   ]
  },
  {
   "cell_type": "markdown",
   "metadata": {},
   "source": [
    "So we can see here that b has an edge, but its certaintly possible if we pick two random points according to the histograms for A and B, that A might actually be higher than B! <Br>\n",
    "    \n",
    "As we’re interested in the average # of sells, this averaging of an underlying distribution means our final estimate will be well approximated by a normal distribution. So let’s reformulate, using the normal approximation here:"
   ]
  },
  {
   "cell_type": "code",
   "execution_count": 19,
   "metadata": {},
   "outputs": [
    {
     "data": {
      "image/png": "[encoded data removed]",
      "text/plain": [
       "<Figure size 432x288 with 1 Axes>"
      ]
     },
     "metadata": {
      "filenames": {
       "image/png": "/home/sensei/engr-1330-webroot/engr1330jb/_build/jupyter_execute/lessons/lesson23/lesson23_40_0.png"
      },
      "needs_background": "light"
     },
     "output_type": "display_data"
    }
   ],
   "source": [
    "from scipy.stats import norm\n",
    "\n",
    "# Where does this come from? See this link: https://en.wikipedia.org/wiki/Binomial_distribution#Normal_approximation\n",
    "std_a = np.sqrt(rate_a * (1 - rate_a) / num_a)\n",
    "std_b = np.sqrt(rate_b * (1 - rate_b) / num_b)\n",
    "\n",
    "click_rate = np.linspace(0, 0.2, 200)\n",
    "prob_a = norm(rate_a, std_a).pdf(click_rate)\n",
    "prob_b = norm(rate_b, std_b).pdf(click_rate)\n",
    "\n",
    "# Make the bar plots.\n",
    "plt.plot(click_rate, prob_a, label=\"A\")\n",
    "plt.plot(click_rate, prob_b, label=\"B\")\n",
    "plt.legend(frameon=False)\n",
    "plt.xlabel(\"Purchase rate\"); plt.ylabel(\"Probability\");"
   ]
  },
  {
   "cell_type": "markdown",
   "metadata": {},
   "source": [
    "This is also a better plot than the first one, because we’ve removed the confusing effect of site A and site B having a slightly different number of visitors had. So our question is still the same: What is the chance that a draw from B is higher than a draw from A. Is it significant? <br>\n",
    "\n",
    "To answer this, let us utilise the handy fact that the sum (or difference) of normally distributed random numbers is also normally distributed. This is simple - take the difference in the means and sum the variance. We’ll do two things below: First, get the z-score, and second, plot the proper distribution."
   ]
  },
  {
   "cell_type": "code",
   "execution_count": 20,
   "metadata": {},
   "outputs": [
    {
     "name": "stdout",
     "output_type": "stream",
     "text": [
      "zscore is 1.890, with p-value 0.029\n"
     ]
    },
    {
     "data": {
      "image/png": "[encoded data removed]",
      "text/plain": [
       "<Figure size 432x288 with 1 Axes>"
      ]
     },
     "metadata": {
      "filenames": {
       "image/png": "/home/sensei/engr-1330-webroot/engr1330jb/_build/jupyter_execute/lessons/lesson23/lesson23_42_1.png"
      },
      "needs_background": "light"
     },
     "output_type": "display_data"
    }
   ],
   "source": [
    "z_score = (rate_b - rate_a) / np.sqrt(std_a**2 + std_b**2)\n",
    "p = norm(rate_b - rate_a, np.sqrt(std_a**2 + std_b**2))\n",
    "\n",
    "x = np.linspace(-0.05, 0.15, 1000)\n",
    "y = p.pdf(x)\n",
    "area_under_curve = p.sf(0)\n",
    "plt.plot(x, y, label=\"PDF\")\n",
    "plt.fill_between(x, 0, y, where=x>0, label=\"Prob(b>a)\", alpha=0.3)\n",
    "plt.annotate(f\"Area={area_under_curve:0.3f}\", (0.02, 5))\n",
    "plt.legend()\n",
    "plt.xlabel(\"Difference in purchase rate\"); plt.ylabel(\"Prob\");\n",
    "\n",
    "print(f\"zscore is {z_score:0.3f}, with p-value {norm().sf(z_score):0.3f}\")"
   ]
  },
  {
   "cell_type": "markdown",
   "metadata": {},
   "source": [
    "we can say that given the null hypothesis (\"B is less than or equal to A\") is true , we would expect to get this result or a result more extreme only 2.9% of the time. As that is a significant result (typically p < 5%), we reject the null hypothesis, and state that we have evidence that B > A. <br>\n",
    "> We’ve made a lot of plots for this to try and explain the concept. You can easily write a tiny function to simplify all of this. Whether you want the confidence or the p-value just means changing the final \"norm.cdf\" to \"norm.sf\"."
   ]
  },
  {
   "cell_type": "code",
   "execution_count": 21,
   "metadata": {},
   "outputs": [
    {
     "name": "stdout",
     "output_type": "stream",
     "text": [
      "0.029402650172421833\n"
     ]
    }
   ],
   "source": [
    "def get_confidence_ab_test(click_a, num_a, click_b, num_b):\n",
    "    rate_a = click_a / num_a\n",
    "    rate_b = click_b / num_b\n",
    "    std_a = np.sqrt(rate_a * (1 - rate_a) / num_a)\n",
    "    std_b = np.sqrt(rate_b * (1 - rate_b) / num_b)\n",
    "    z_score = (rate_b - rate_a) / np.sqrt(std_a**2 + std_b**2)\n",
    "    return norm.sf(z_score)\n",
    "\n",
    "print(get_confidence_ab_test(click_a, num_a, click_b, num_b))"
   ]
  },
  {
   "cell_type": "markdown",
   "metadata": {},
   "source": [
    "Remember Non-parametric Statistical Hypothesis Tests? We can use them here as well! <br>\n",
    "\n",
    "Imagine we have the raw results of clicks (purchases), as 0s or 1s, as our distribution."
   ]
  },
  {
   "cell_type": "code",
   "execution_count": 22,
   "metadata": {},
   "outputs": [
    {
     "name": "stdout",
     "output_type": "stream",
     "text": [
      "Mann-Whitney U test for null hypothesis B <= A is 0.028\n"
     ]
    }
   ],
   "source": [
    "from scipy.stats import mannwhitneyu\n",
    "\n",
    "a_dist = np.zeros(num_a)\n",
    "a_dist[:click_a] = 1\n",
    "b_dist = np.zeros(num_b)\n",
    "b_dist[:click_b] = 1\n",
    "\n",
    "stat, p_value = mannwhitneyu(a_dist, b_dist, alternative=\"less\")\n",
    "print(f\"Mann-Whitney U test for null hypothesis B <= A is {p_value:0.3f}\")"
   ]
  },
  {
   "cell_type": "markdown",
   "metadata": {},
   "source": [
    "___\n",
    "\n",
    "## References\n",
    "\n",
    "1. https://www.inferentialthinking.com/chapters/11/Testing_Hypotheses.html\n",
    "\n",
    "2.  __\"Implementing A/B Tests in Python\"__ by __Robbie Geoghegan__  https://medium.com/@robbiegeoghegan/implementing-a-b-tests-in-python-514e9eb5b3a1 <br>\n",
    "3.  __\"The Math Behind A/B Testing with Example Python Code\"__ by __Nguyen Ngo__  https://towardsdatascience.com/the-math-behind-a-b-testing-with-example-code-part-1-of-2-7be752e1d06f <br>\n",
    "4.  __\"A/B Testing\"__  https://www.optimizely.com/optimization-glossary/ab-testing/ <br>\n",
    "5. __\"A/B Testing Guide\"__  https://vwo.com/ab-testing/ <br>"
   ]
  },
  {
   "cell_type": "code",
   "execution_count": null,
   "metadata": {},
   "outputs": [],
   "source": []
  },
  {
   "cell_type": "markdown",
   "metadata": {},
   "source": [
    "# Experimental Work for Future Semesters\n",
    "\n",
    "Code below to figure out how to manipulate histograms"
   ]
  },
  {
   "cell_type": "code",
   "execution_count": 23,
   "metadata": {},
   "outputs": [
    {
     "data": {
      "image/png": "[encoded data removed]",
      "text/plain": [
       "<Figure size 432x288 with 1 Axes>"
      ]
     },
     "metadata": {
      "filenames": {
       "image/png": "/home/sensei/engr-1330-webroot/engr1330jb/_build/jupyter_execute/lessons/lesson23/lesson23_50_0.png"
      },
      "needs_background": "light"
     },
     "output_type": "display_data"
    }
   ],
   "source": [
    "\n",
    "# Implementation of matplotlib function \n",
    "import matplotlib \n",
    "import numpy as np \n",
    "import matplotlib.pyplot as plt \n",
    "   \n",
    "np.random.seed(10**7) \n",
    "mu = 21 \n",
    "sigma = 21\n",
    "x = mu + sigma * np.random.randn(1000) \n",
    "   \n",
    "num_bins = 100\n",
    "   \n",
    "n, bins, patches = plt.hist(x, num_bins,  \n",
    "                            density = 1,  \n",
    "                            color ='green', \n",
    "                            alpha = 0.7) \n",
    "   \n",
    "y = ((1 / (np.sqrt(2 * np.pi) * sigma)) *\n",
    "     np.exp(-0.5 * (1 / sigma * (bins - mu))**2)) \n",
    "  \n",
    "plt.plot(bins, y, '--', color ='black') \n",
    "  \n",
    "plt.xlabel('X-Axis') \n",
    "plt.ylabel('Y-Axis') \n",
    "  \n",
    "plt.title('matplotlib.pyplot.hist() function Example\\n\\n', \n",
    "          fontweight =\"bold\") \n",
    "  \n",
    "plt.show() \n"
   ]
  },
  {
   "cell_type": "code",
   "execution_count": null,
   "metadata": {},
   "outputs": [],
   "source": []
  },
  {
   "cell_type": "markdown",
   "metadata": {},
   "source": [
    "## References"
   ]
  },
  {
   "cell_type": "code",
   "execution_count": null,
   "metadata": {},
   "outputs": [],
   "source": []
  }
 ],
 "metadata": {
  "kernelspec": {
   "display_name": "Python 3",
   "language": "python",
   "name": "python3"
  },
  "language_info": {
   "codemirror_mode": {
    "name": "ipython",
    "version": 3
   },
   "file_extension": ".py",
   "mimetype": "text/x-python",
   "name": "python",
   "nbconvert_exporter": "python",
   "pygments_lexer": "ipython3",
   "version": "3.8.10"
  }
 },
 "nbformat": 4,
 "nbformat_minor": 4
}