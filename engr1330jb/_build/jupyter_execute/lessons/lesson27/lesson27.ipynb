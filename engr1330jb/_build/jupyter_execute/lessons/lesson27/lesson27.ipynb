{
 "cells": [
  {
   "cell_type": "markdown",
   "metadata": {},
   "source": [
    "<div class=\"alert alert-block alert-info\">\n",
    "    <b><h1>ENGR 1330 Computational Thinking with Data Science </h1></b> \n",
    "</div> \n",
    "\n",
    "Copyright © 2021 Theodore G. Cleveland and Farhang Forghanparast\n",
    "\n",
    "Last GitHub Commit Date: \n",
    "    \n",
    "# 27: Project Planning Workshop\n",
    "- Team selection\n",
    "- Apportioning effort\n",
    "- Documenting effort\n",
    "- Roles and responsibilities\n"
   ]
  },
  {
   "cell_type": "markdown",
   "metadata": {},
   "source": [
    "# Team Size\n",
    "\n",
    "Teams should be comprised of 3-5 members, no less than 3, no more than 5.\n",
    "\n",
    "# Apportioning Effort\n",
    "\n",
    "Someone can be appointed team leader project manager. Others take on roles as suitable for their capability\n",
    "\n",
    "# Documenting Effort\n",
    "\n",
    "A weekly team report using a form similar to the example below\n",
    "\n",
    "![](EffortSheet.png)\n",
    "\n",
    "# Roles and Responsibilities\n",
    "\n",
    "Each team member should contribute.  Develop a communications plan (Slack, Discord, WhatsApp, ...) to arrange meetings to work on the project.  A team leader is responsible for the weekly report (it can be rotated) and the final products.  The team is responsible for identifying straphangers.  If you dont do anything, the rest of your team is supposed to rat you out so we can identify solo artists who are lousy teammates in future classes."
   ]
  },
  {
   "cell_type": "markdown",
   "metadata": {},
   "source": [
    "## References"
   ]
  },
  {
   "cell_type": "markdown",
   "metadata": {},
   "source": [
    "## Project Links\n",
    "\n",
    "1. [Concrete Strength](http://54.243.252.9/engr-1330-webroot/6-Projects/P-ConcreteStrength/ENGR-1330-ConcreteStrength-Project.html)\n",
    "\n",
    "2. [Streamflow Prediction](http://54.243.252.9/engr-1330-webroot/6-Projects/P-StreamflowAnalysis/ENGR-1330-Streamflow-Project.html)\n",
    "\n",
    "3. [Instrument Calibration](http://54.243.252.9/engr-1330-webroot/6-Projects/P-InstrumentCalibration/ENGR-1330-InstrumentCalibration-Project.html)"
   ]
  },
  {
   "cell_type": "markdown",
   "metadata": {},
   "source": [
    "<hr><hr>\n",
    "\n",
    "## Laboratory 27 (none)\n",
    "\n",
    "**Examine** (click) Laboratory 27 as a webpage at [Laboratory 27.html](http://54.243.252.9/engr-1330-webroot/8-Labs/Lab27/Lab27.html)\n",
    "\n",
    "**Download** (right-click, save target as ...) Laboratory 27 as a jupyterlab notebook from [Laboratory 27.ipynb](http://54.243.252.9/engr-1330-webroot/8-Labs/Lab27/Lab27.ipynb)\n"
   ]
  },
  {
   "cell_type": "markdown",
   "metadata": {},
   "source": [
    "<hr><hr>\n",
    "\n",
    "## Exercise Set 27 (none)\n",
    "\n",
    "**Examine** (click) Exercise Set 27 as a webpage at [Exercise 27.html](http://54.243.252.9/engr-1330-webroot/8-Labs/Lab27/Lab27-TH.html)\n",
    "\n",
    "**Download** (right-click, save target as ...) Exercise Set 27 as a jupyterlab notebook at  [Exercise Set 27.ipynb](http://54.243.252.9/engr-1330-webroot/8-Labs/Lab27/Lab27-TH.ipynb)\n",
    "\n"
   ]
  },
  {
   "cell_type": "code",
   "execution_count": null,
   "metadata": {},
   "outputs": [],
   "source": []
  }
 ],
 "metadata": {
  "kernelspec": {
   "display_name": "Python 3",
   "language": "python",
   "name": "python3"
  },
  "language_info": {
   "codemirror_mode": {
    "name": "ipython",
    "version": 3
   },
   "file_extension": ".py",
   "mimetype": "text/x-python",
   "name": "python",
   "nbconvert_exporter": "python",
   "pygments_lexer": "ipython3",
   "version": "3.8.10"
  }
 },
 "nbformat": 4,
 "nbformat_minor": 4
}