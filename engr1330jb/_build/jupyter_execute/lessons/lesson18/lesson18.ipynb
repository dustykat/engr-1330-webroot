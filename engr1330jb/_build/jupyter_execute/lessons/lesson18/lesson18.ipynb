{
 "cells": [
  {
   "cell_type": "markdown",
   "metadata": {},
   "source": [
    "<div class=\"alert alert-block alert-info\">\n",
    "    <b><h1>ENGR 1330 Computational Thinking with Data Science </h1></b> \n",
    "</div> \n",
    "\n",
    "Copyright © 2021 Theodore G. Cleveland and Farhang Forghanparast\n",
    "\n",
    "Last GitHub Commit Date: 31 January 2021\n",
    "    \n",
    "# 18: Causality, Correlation, Randomness, and Probability\n",
    "- Concept of causality and correlation (compare and contrast)\n",
    "- Randomness (a prelude to simulation)\n"
   ]
  },
  {
   "cell_type": "markdown",
   "metadata": {},
   "source": [
    "## Objectives\n",
    "\n",
    "- To understand the fundamental concepts involved in causality; and the difference between cause and correlation.\n",
    "- To understand the fundamental concepts involved in simulation.\n",
    "- To apply concepts involved in iteration.\n",
    "\n",
    "### Computational Thinking Concepts\n",
    "\n",
    "- Causality, Iteration, Simulation => `Algorithm Design`\n",
    "- Iteration, Simulation => `Create Computational Models`\n"
   ]
  },
  {
   "cell_type": "markdown",
   "metadata": {},
   "source": [
    "## Correlation and Causality"
   ]
  },
  {
   "cell_type": "markdown",
   "metadata": {},
   "source": [
    "### What is causality? (A long winded psuedo definition!)\n",
    "\n",
    "Causality is the relationship between causes and effects. \n",
    "The notion of causality does not have a uniform definition in the sciences, and is studied using philosophy and statistics. \n",
    "From the perspective of physics, it is generally believed that causality cannot occur between an effect and an event that is not in the back (past) light cone of said effect. \n",
    "Similarly, a cause could not have an effect outside its front (future) light cone.\n",
    "\n",
    "- Here are some recent articles regarding Closed Time Loops, that explains causal consistency. The second paper is by an undergraduate student! \n",
    "    1. https://journals.aps.org/prl/abstract/10.1103/PhysRevLett.125.040605\n",
    "\n",
    "    2. https://iopscience.iop.org/article/10.1088/1361-6382/aba4bc\n",
    "\n",
    "- Both to some extent theoretically support our popular notion of time travel (aka Dr. Who)  without pesky paradoxes; someone with creative writing juices, could have a good science fiction career using these papers as a starting thesis!\n",
    "\n",
    "In classical physics, an effect cannot occur before its cause. \n",
    "In Einstein's theory of special relativity, causality means that an effect can not occur from a cause that is not in the back (past) light cone of that event. \n",
    "Similarly, a cause cannot have an effect outside its front (future) light cone. \n",
    "These restrictions are consistent with the assumption that causal influences cannot travel faster than the speed of light and/or backwards in time. In quantum field theory, observables of events with a spacelike relationship, \"elsewhere\", have to commute, so the order of observations or measurements of such observables do not impact each other.\n",
    "\n",
    "Causality in this context should not be confused with Newton's second law, which is related to the conservation of momentum, and is a consequence of the spatial homogeneity of physical laws. The word causality in this context means that all effects must have specific causes. \n",
    "\n",
    "Another requirement, at least valid at the level of human experience, is that cause and effect be mediated across space and time (requirement of contiguity). This requirement has been very influential in the past, in the first place as a result of direct observation of causal processes (like pushing a cart), in the second place as a problematic aspect of Newton's theory of gravitation (attraction of the earth by the sun by means of action at a distance) replacing mechanistic proposals like Descartes' vortex theory; in the third place as an incentive to develop dynamic field theories (e.g., Maxwell's electrodynamics and Einstein's general theory of relativity) restoring contiguity in the transmission of influences in a more successful way than in Descartes' theory.\n",
    "\n",
    "Yada yada bla bla bla ..."
   ]
  },
  {
   "cell_type": "markdown",
   "metadata": {},
   "source": [
    "### Correlation (Causality's mimic!)\n",
    "\n",
    "The literary (as in writing!) formulation of causality is a \"why?, because ...\" structure (sort of like if=>then) The answer to a because question, should be the \"cause.\"  Many authors use \"since\" to imply cause, but it is incorrect grammar - since answers the question of when?\n",
    "\n",
    "Think \"CAUSE\" => \"EFFECT\"\n",
    "\n",
    "Correlation doesn’t mean cause (although it is a really good predictor of the crap we all buy - its why Amazon is sucessfull)\n",
    "\n",
    "Consider the chart below\n",
    "\n",
    "<!--![](correlationgraph.png)-->\n",
    "\n",
    "<img src=\"http://54.243.252.9/engr-1330-webroot/1-Lessons/Lesson14/correlationgraph.png\" width=\"600\">\n",
    "\n",
    "The correlation between money spent on pets and the number of lawyers is quite good (nearly perfect), so does having pets cause lawyers?  Of course not, the general social economic conditions that improve general wealth, and create sufficient disposable income to have pets (here we mean companion animals, not food on the hoof) also creates conditions for laywers to proliferate, hence a good correlation. \n",
    "\n",
    "Nice video : Correlation and Causation https://www.youtube.com/watch?v=1Sa2v7kVEc0\n",
    "<hr>\n",
    "\n",
    "Taking some cues from [http://water.usgs.gov/pubs/twri/twri4a3/](http://water.usgs.gov/pubs/twri/twri4a3/)\n",
    "\n",
    "> Concentrations of atrazine and nitrate in shallow groundwaters are measured in wells over a\n",
    "several county area. For each sample, the concentration of one is plotted versus the\n",
    "concentration of the other. As atrazine concentrations increase, so do nitrate. How might the\n",
    "strength of this association be measured and summarized?\n",
    "\n",
    "> Streams draining the Sierra Nevada mountains in California usually receive less precipitation in\n",
    "November than in other months. Has the amount of November precipitation significantly\n",
    "changed over the last 70 years, showing a gradual change in the climate of the area? How might\n",
    "this be tested?\n",
    "\n",
    "> The above situations require a measure of the strength of association between two continuous\n",
    "variables, such as between two chemical concentrations, or between amount of precipitation and\n",
    "time. How do they co-vary? One class of measures are called **correlation coefficients**. \n",
    "\n",
    "Also important is how the significance of that association can be tested for, to determine whether the observed pattern differs from what is expected due entirely to chance. \n",
    "\n",
    "Whenever a correlation coefficient is to be calculated, the data should be plotted on a scatterplot. No single numerical measure can substitute for the visual insight gained from a plot. Many different\n",
    "patterns can produce the same correlation coefficient, and similar strengths of relationships can\n",
    "produce differing coefficients, depending on the curvature of the relationship. "
   ]
  },
  {
   "cell_type": "markdown",
   "metadata": {},
   "source": [
    "### Association Measures (Covariance and Correlation)\n",
    "\n",
    "**Covariance:**\n",
    "is a measure of the joint variability of two random variables.  The formula to compute covariance is:\n",
    "\n",
    "$$cov(x,y)=\\frac{\\sum_{i=1}^{n}(x-\\bar x)(y-\\bar y)}{n-1}$$\n",
    "\n",
    "If the greater values of one variable mainly correspond with the greater values of the other variable, and the same holds for the lesser values, (i.e., the variables tend to show similar behavior), the covariance is positive. \n",
    "In the opposite case, when the greater values of one variable mainly correspond to the lesser values of the other, (i.e., the variables tend to show opposite behavior), the covariance is negative. \n",
    "The sign of the covariance therefore shows the tendency of any linear relationship between the variables. \n",
    "The magnitude of the covariance is not particularly useful to interpret because it depends on the magnitudes of the variables. \n",
    "\n",
    "<!--![](https://www.wallstreetmojo.com/wp-content/uploads/2019/03/Covariance-Formula.jpg) <br>-->\n",
    "\n",
    "A normalized version of the covariance, the correlation coefficient, however, is useful in terms of sign and magnitude.\n",
    "\n",
    "<!--![](https://media.geeksforgeeks.org/wp-content/uploads/Correl.png) <br>-->\n",
    "\n",
    "<img src=\"https://media.geeksforgeeks.org/wp-content/uploads/Correl.png\" width=\"500\">\n",
    "    \n",
    "**Correlation Coefficient:** is a measure how strong a relationship is between two variables. There are several types of correlation coefficients, but the most popular is Pearson’s. Pearson’s correlation (also called Pearson’s R) is a correlation coefficient commonly used in linear regression. Correlation coefficient formulas are used to find how strong a relationship is between data. The formula for Pearson’s R is:\n",
    "\n",
    "$$r=\\frac{n(\\sum xy)-(\\sum x)(\\sum y)}{[n\\sum x^2 - (\\sum x)^2][n\\sum y^2 - (\\sum y)^2]}$$\n",
    "\n",
    "<!--![](https://www.statisticshowto.com/wp-content/uploads/2012/10/pearson.gif) <br>-->\n",
    "    \n",
    "The correlation coefficient returns a value between -1 and 1, where:\n",
    "\n",
    "<img src=\"https://www.statisticshowto.com/wp-content/uploads/2012/10/pearson-2-small.png\" width=\"500\"> <br>\n",
    "\n",
    "- 1 : A correlation coefficient of 1 means that for every positive increase in one variable, there is a positive increase of a fixed proportion in the other. For example, shoe sizes go up in (almost) perfect correlation with foot length.\n",
    "- -1: A correlation coefficient of -1 means that for every positive increase in one variable, there is a negative decrease of a fixed proportion in the other. For example, the amount of gas in a tank decreases in (almost) perfect correlation with speed.\n",
    "- 0 : Zero means that for every increase, there isn’t a positive or negative increase. The two just aren’t related.\n",
    "\n",
    "---\n",
    "\n",
    "A simple example should illustrate the concept of association"
   ]
  },
  {
   "cell_type": "markdown",
   "metadata": {},
   "source": [
    "Consider a table of recorded times and speeds from some experimental observations:\n",
    "\n",
    "|Elapsed Time (s)|Speed (m/s)|\n",
    "|---:|---:|\n",
    "|0 |0|\n",
    "|1.0 |3|\n",
    "|2.0 |7|\n",
    "|3.0 |12|\n",
    "|4.0 |20|\n",
    "|5.0 |30|\n",
    "|6.0 | 45.6| \n",
    "|7.0 | 60.3 |\n",
    "|8.0 | 77.7 |\n",
    "|9.0 | 97.3 |\n",
    "|10.0| 121.1|"
   ]
  },
  {
   "cell_type": "markdown",
   "metadata": {},
   "source": [
    "Create a dataframe:"
   ]
  },
  {
   "cell_type": "code",
   "execution_count": 1,
   "metadata": {},
   "outputs": [
    {
     "data": {
      "text/html": [
       "<div>\n",
       "<style scoped>\n",
       "    .dataframe tbody tr th:only-of-type {\n",
       "        vertical-align: middle;\n",
       "    }\n",
       "\n",
       "    .dataframe tbody tr th {\n",
       "        vertical-align: top;\n",
       "    }\n",
       "\n",
       "    .dataframe thead th {\n",
       "        text-align: right;\n",
       "    }\n",
       "</style>\n",
       "<table border=\"1\" class=\"dataframe\">\n",
       "  <thead>\n",
       "    <tr style=\"text-align: right;\">\n",
       "      <th></th>\n",
       "      <th>Time</th>\n",
       "      <th>Speed</th>\n",
       "    </tr>\n",
       "  </thead>\n",
       "  <tbody>\n",
       "    <tr>\n",
       "      <th>0</th>\n",
       "      <td>0.0</td>\n",
       "      <td>0.0</td>\n",
       "    </tr>\n",
       "    <tr>\n",
       "      <th>1</th>\n",
       "      <td>1.0</td>\n",
       "      <td>3.0</td>\n",
       "    </tr>\n",
       "    <tr>\n",
       "      <th>2</th>\n",
       "      <td>2.0</td>\n",
       "      <td>7.0</td>\n",
       "    </tr>\n",
       "    <tr>\n",
       "      <th>3</th>\n",
       "      <td>3.0</td>\n",
       "      <td>12.0</td>\n",
       "    </tr>\n",
       "    <tr>\n",
       "      <th>4</th>\n",
       "      <td>4.0</td>\n",
       "      <td>20.0</td>\n",
       "    </tr>\n",
       "    <tr>\n",
       "      <th>5</th>\n",
       "      <td>5.0</td>\n",
       "      <td>30.0</td>\n",
       "    </tr>\n",
       "    <tr>\n",
       "      <th>6</th>\n",
       "      <td>6.0</td>\n",
       "      <td>45.6</td>\n",
       "    </tr>\n",
       "    <tr>\n",
       "      <th>7</th>\n",
       "      <td>7.0</td>\n",
       "      <td>60.3</td>\n",
       "    </tr>\n",
       "    <tr>\n",
       "      <th>8</th>\n",
       "      <td>8.0</td>\n",
       "      <td>77.7</td>\n",
       "    </tr>\n",
       "    <tr>\n",
       "      <th>9</th>\n",
       "      <td>9.0</td>\n",
       "      <td>97.3</td>\n",
       "    </tr>\n",
       "    <tr>\n",
       "      <th>10</th>\n",
       "      <td>10.0</td>\n",
       "      <td>121.2</td>\n",
       "    </tr>\n",
       "  </tbody>\n",
       "</table>\n",
       "</div>"
      ],
      "text/plain": [
       "    Time  Speed\n",
       "0    0.0    0.0\n",
       "1    1.0    3.0\n",
       "2    2.0    7.0\n",
       "3    3.0   12.0\n",
       "4    4.0   20.0\n",
       "5    5.0   30.0\n",
       "6    6.0   45.6\n",
       "7    7.0   60.3\n",
       "8    8.0   77.7\n",
       "9    9.0   97.3\n",
       "10  10.0  121.2"
      ]
     },
     "execution_count": 1,
     "metadata": {},
     "output_type": "execute_result"
    }
   ],
   "source": [
    "# Load the necessary packages\n",
    "import numpy as np\n",
    "import pandas as pd\n",
    "import statistics # this package contains correlation and covariance, so we don't have to write code\n",
    "from matplotlib import pyplot as plt\n",
    "\n",
    "# Create a dataframe:\n",
    "time = [0, 1.0, 2.0, 3.0, 4.0, 5.0, 6.0, 7.0, 8.0, 9.0, 10.0]\n",
    "speed = [0, 3, 7, 12, 20, 30, 45.6, 60.3, 77.7, 97.3, 121.2]\n",
    "data = pd.DataFrame({'Time':time, 'Speed':speed})\n",
    "data"
   ]
  },
  {
   "cell_type": "markdown",
   "metadata": {},
   "source": [
    "#### Now, let's explore the data:\n"
   ]
  },
  {
   "cell_type": "code",
   "execution_count": 2,
   "metadata": {},
   "outputs": [
    {
     "data": {
      "text/html": [
       "<div>\n",
       "<style scoped>\n",
       "    .dataframe tbody tr th:only-of-type {\n",
       "        vertical-align: middle;\n",
       "    }\n",
       "\n",
       "    .dataframe tbody tr th {\n",
       "        vertical-align: top;\n",
       "    }\n",
       "\n",
       "    .dataframe thead th {\n",
       "        text-align: right;\n",
       "    }\n",
       "</style>\n",
       "<table border=\"1\" class=\"dataframe\">\n",
       "  <thead>\n",
       "    <tr style=\"text-align: right;\">\n",
       "      <th></th>\n",
       "      <th>Time</th>\n",
       "      <th>Speed</th>\n",
       "    </tr>\n",
       "  </thead>\n",
       "  <tbody>\n",
       "    <tr>\n",
       "      <th>count</th>\n",
       "      <td>11.000000</td>\n",
       "      <td>11.000000</td>\n",
       "    </tr>\n",
       "    <tr>\n",
       "      <th>mean</th>\n",
       "      <td>5.000000</td>\n",
       "      <td>43.100000</td>\n",
       "    </tr>\n",
       "    <tr>\n",
       "      <th>std</th>\n",
       "      <td>3.316625</td>\n",
       "      <td>41.204077</td>\n",
       "    </tr>\n",
       "    <tr>\n",
       "      <th>min</th>\n",
       "      <td>0.000000</td>\n",
       "      <td>0.000000</td>\n",
       "    </tr>\n",
       "    <tr>\n",
       "      <th>25%</th>\n",
       "      <td>2.500000</td>\n",
       "      <td>9.500000</td>\n",
       "    </tr>\n",
       "    <tr>\n",
       "      <th>50%</th>\n",
       "      <td>5.000000</td>\n",
       "      <td>30.000000</td>\n",
       "    </tr>\n",
       "    <tr>\n",
       "      <th>75%</th>\n",
       "      <td>7.500000</td>\n",
       "      <td>69.000000</td>\n",
       "    </tr>\n",
       "    <tr>\n",
       "      <th>max</th>\n",
       "      <td>10.000000</td>\n",
       "      <td>121.200000</td>\n",
       "    </tr>\n",
       "  </tbody>\n",
       "</table>\n",
       "</div>"
      ],
      "text/plain": [
       "            Time       Speed\n",
       "count  11.000000   11.000000\n",
       "mean    5.000000   43.100000\n",
       "std     3.316625   41.204077\n",
       "min     0.000000    0.000000\n",
       "25%     2.500000    9.500000\n",
       "50%     5.000000   30.000000\n",
       "75%     7.500000   69.000000\n",
       "max    10.000000  121.200000"
      ]
     },
     "execution_count": 2,
     "metadata": {},
     "output_type": "execute_result"
    }
   ],
   "source": [
    "data.describe()"
   ]
  },
  {
   "cell_type": "code",
   "execution_count": 3,
   "metadata": {},
   "outputs": [
    {
     "name": "stdout",
     "output_type": "stream",
     "text": [
      "Variance of recorded times is  11.0\n",
      "Variance of recorded times is  1697.7759999999998\n"
     ]
    }
   ],
   "source": [
    "time_var = statistics.variance(time)\n",
    "speed_var = statistics.variance(speed)\n",
    "\n",
    "print(\"Variance of recorded times is \",time_var)\n",
    "print(\"Variance of recorded times is \",speed_var)"
   ]
  },
  {
   "cell_type": "markdown",
   "metadata": {},
   "source": [
    "Is there evidence of a relationship (based on covariance, correlation) between time and speed?"
   ]
  },
  {
   "cell_type": "code",
   "execution_count": 4,
   "metadata": {},
   "outputs": [
    {
     "data": {
      "text/html": [
       "<div>\n",
       "<style scoped>\n",
       "    .dataframe tbody tr th:only-of-type {\n",
       "        vertical-align: middle;\n",
       "    }\n",
       "\n",
       "    .dataframe tbody tr th {\n",
       "        vertical-align: top;\n",
       "    }\n",
       "\n",
       "    .dataframe thead th {\n",
       "        text-align: right;\n",
       "    }\n",
       "</style>\n",
       "<table border=\"1\" class=\"dataframe\">\n",
       "  <thead>\n",
       "    <tr style=\"text-align: right;\">\n",
       "      <th></th>\n",
       "      <th>Time</th>\n",
       "      <th>Speed</th>\n",
       "    </tr>\n",
       "  </thead>\n",
       "  <tbody>\n",
       "    <tr>\n",
       "      <th>Time</th>\n",
       "      <td>11.00</td>\n",
       "      <td>131.750</td>\n",
       "    </tr>\n",
       "    <tr>\n",
       "      <th>Speed</th>\n",
       "      <td>131.75</td>\n",
       "      <td>1697.776</td>\n",
       "    </tr>\n",
       "  </tbody>\n",
       "</table>\n",
       "</div>"
      ],
      "text/plain": [
       "         Time     Speed\n",
       "Time    11.00   131.750\n",
       "Speed  131.75  1697.776"
      ]
     },
     "execution_count": 4,
     "metadata": {},
     "output_type": "execute_result"
    }
   ],
   "source": [
    "# To find the covariance  \n",
    "data.cov() "
   ]
  },
  {
   "cell_type": "code",
   "execution_count": 5,
   "metadata": {},
   "outputs": [
    {
     "data": {
      "text/html": [
       "<div>\n",
       "<style scoped>\n",
       "    .dataframe tbody tr th:only-of-type {\n",
       "        vertical-align: middle;\n",
       "    }\n",
       "\n",
       "    .dataframe tbody tr th {\n",
       "        vertical-align: top;\n",
       "    }\n",
       "\n",
       "    .dataframe thead th {\n",
       "        text-align: right;\n",
       "    }\n",
       "</style>\n",
       "<table border=\"1\" class=\"dataframe\">\n",
       "  <thead>\n",
       "    <tr style=\"text-align: right;\">\n",
       "      <th></th>\n",
       "      <th>Time</th>\n",
       "      <th>Speed</th>\n",
       "    </tr>\n",
       "  </thead>\n",
       "  <tbody>\n",
       "    <tr>\n",
       "      <th>Time</th>\n",
       "      <td>1.000000</td>\n",
       "      <td>0.964082</td>\n",
       "    </tr>\n",
       "    <tr>\n",
       "      <th>Speed</th>\n",
       "      <td>0.964082</td>\n",
       "      <td>1.000000</td>\n",
       "    </tr>\n",
       "  </tbody>\n",
       "</table>\n",
       "</div>"
      ],
      "text/plain": [
       "           Time     Speed\n",
       "Time   1.000000  0.964082\n",
       "Speed  0.964082  1.000000"
      ]
     },
     "execution_count": 5,
     "metadata": {},
     "output_type": "execute_result"
    }
   ],
   "source": [
    "# To find the correlation among the columns \n",
    "# using pearson method \n",
    "data.corr(method ='pearson') "
   ]
  },
  {
   "cell_type": "markdown",
   "metadata": {},
   "source": [
    "These values suggest that time, $t$, is a good estimator of time (correlation is perfect as anticipated), and also a good estimator of speed, $u$, (nearly perfect).\n",
    "\n",
    "We can hack a useable linear model as:\n",
    "\n",
    "$u \\approx \\bar u + (cov(u,t)/cov(t,t))(t-\\bar t)$\n",
    "\n",
    "And assess the model by plotting"
   ]
  },
  {
   "cell_type": "code",
   "execution_count": 6,
   "metadata": {},
   "outputs": [],
   "source": [
    "import matplotlib.pyplot as plt\n",
    "def make2plot(listx1,listy1,listx2,listy2,strlablx,strlably,strtitle):\n",
    "    mydata = plt.figure(figsize = (10,5)) # build a square drawing canvass from figure class\n",
    "    plt.plot(listx1,listy1, c='red', marker='v',linewidth=0) # basic data plot\n",
    "    plt.plot(listx2,listy2, c='blue',linewidth=1) # basic model plot\n",
    "    plt.xlabel(strlablx)\n",
    "    plt.ylabel(strlably)\n",
    "    plt.legend(['Observations','Model'])# modify for argument insertion\n",
    "    plt.title(strtitle)\n",
    "    plt.show()\n",
    "    return"
   ]
  },
  {
   "cell_type": "code",
   "execution_count": 7,
   "metadata": {},
   "outputs": [
    {
     "data": {
      "image/png": "[encoded data removed]",
      "text/plain": [
       "<Figure size 720x360 with 1 Axes>"
      ]
     },
     "metadata": {
      "filenames": {
       "image/png": "/home/sensei/engr-1330-webroot/engr1330jb/_build/jupyter_execute/lessons/lesson18/lesson18_17_0.png"
      },
      "needs_background": "light"
     },
     "output_type": "display_data"
    }
   ],
   "source": [
    "model = data['Speed'].mean()+(data['Time']-data['Time'].mean())*(data.cov().iloc[1,0]/data.cov().iloc[0,0] )\n",
    "make2plot(data['Time'],data['Speed'],data['Time'],model,'Time','Speed','Speed vs Time using Correlation Model')"
   ]
  },
  {
   "cell_type": "markdown",
   "metadata": {},
   "source": [
    "---\n",
    "\n",
    "## Implications\n",
    "Most research questions attempt to explain cause and effect. \n",
    "- In experimental research, the relationship is constructed and the experiment is somewhat of a failure if none of the presumed causal (causal == explainatory) variables influence the response (response == effect)\n",
    "- In a data science experimental context, causality may be impossible to establish, however correlations can be established and exploited.\n",
    "\n",
    "In data science, many studies involve observations on a group of individuals, a factor of interest called a treatment (explainatory variable, predictor variable, predictor feature ...), and an outcome (response, effect, state, predicted value ...) measured on each individual.\n",
    "\n",
    "The presumptive establishment of causality takes place in two stages. \n",
    "\n",
    "1. First, an association is observed. Any relation between the treatment and the outcome is called an association (we can measure the strength of the association using correlation coefficients!).\n",
    "\n",
    "2. Second, A more careful analysis is used to establish causality. \n",
    "\n",
    "  1. One approach would be to control all variables other than the suspected (explainatory) variables, which for any meaningful process is essentially impossible. \n",
    "\n",
    "  2. Another approach is to establish randomized control studies:\n",
    "        \n",
    "   - Start with a sample from a population (e.g. volunteers to test Covid 19 vaccines)\n",
    "   - Randomly assign members to either\n",
    "    1. Control group\n",
    "    2. Treatment group\n",
    "    \n",
    "   - Expose the two groups identically, except the control group recieves a false (null) treatment\n",
    "   \n",
    "   - Compare the responses of the two groups, if they are same, there exists no evidence that the treatment variable CAUSES a response\n",
    "\n",
    "These concepts can be extended with some ingenuity to engineered systems and natural systems.\n",
    "\n",
    "---"
   ]
  },
  {
   "cell_type": "markdown",
   "metadata": {},
   "source": [
    "Consider\n",
    "\n",
    "<!--![](https://www.dshs.texas.gov/uploadedImages/Content/Prevention_and_Preparedness/IDCU/disease/influenza/surveillance/2010/Fig1FluTypesPosPerWeek.png)-->\n",
    "\n",
    "<img src=\"https://www.dshs.texas.gov/uploadedImages/Content/Prevention_and_Preparedness/IDCU/disease/influenza/surveillance/2010/Fig1FluTypesPosPerWeek.png\" width=\"600\">\n",
    "\n",
    "Data Science Questions:\n",
    "- Does going to school cause flu?\n",
    "- Does flu cause school attendance?\n",
    "- Does going to school contribute to the spread of flu?\n",
    "- Does the spread of flu contribute to the school attendance?\n",
    "- Are there other variables that affects both? \n",
    "\n",
    "  a. These are called  “confounding factors” or “lurking variables”.\n",
    "  \n",
    "  b. Cold weather?, more indoor time?, more interaction?\n",
    "  \n",
    "### Confounding Factors\n",
    "  \n",
    "An underlying difference between the two groups (other than the treatment) is called a confounding factor, because it might confound you (that is, mess you up) when you try to reach a conclusion.\n",
    "\n",
    "For example, Cold weather in the previous example.\n",
    "\n",
    "Confounding also occurs when explainatory variables are correlated to another, for instance flood flows are well correlated to drainage area, main channel length, mean annual precipitation, main channel slope, and elevation. However main channel length is itself strongly correlated to drainage area, so much so as to be nearly useless as an explainatory variable when drainage area is retained in a data model.  It would be a \"confounding variable\" in this context."
   ]
  },
  {
   "cell_type": "markdown",
   "metadata": {},
   "source": [
    "## Randomization\n",
    "\n",
    "To establish presumptive causality in  data science experiments, we need randomization tools.\n",
    "We can use Python to make psuedo-random choices. \n",
    "There are built-in functions in numpy library under random submodule.\n",
    "The `choice` function randomly picks one item from an array.\n",
    "\n",
    "The syntax is\n",
    "\n",
    "`np.random.choice(array_name)`, where array_name is the name of the array from which to make the choice.​"
   ]
  },
  {
   "cell_type": "code",
   "execution_count": 8,
   "metadata": {},
   "outputs": [
    {
     "data": {
      "text/plain": [
       "array(['control'], dtype='<U9')"
      ]
     },
     "execution_count": 8,
     "metadata": {},
     "output_type": "execute_result"
    }
   ],
   "source": [
    "#Making Random Choice from an Array (or list)\n",
    "import numpy as np\n",
    "two_groups = np.array(['treatment', 'control'])\n",
    "np.random.choice(two_groups,1)\n",
    "# mylist = ['treatment', 'control']  # this works too\n",
    "# np.random.choice(mylist)"
   ]
  },
  {
   "cell_type": "markdown",
   "metadata": {},
   "source": [
    "The difference of this function from others that we learned so far, is that it doesn’t give the same result every time.\n",
    "We can roll a dice using this function by randomly selecting from an array from 1 to 6. "
   ]
  },
  {
   "cell_type": "code",
   "execution_count": 9,
   "metadata": {},
   "outputs": [
    {
     "data": {
      "text/plain": [
       "'one'"
      ]
     },
     "execution_count": 9,
     "metadata": {},
     "output_type": "execute_result"
    }
   ],
   "source": [
    "my_die = np.array(['one', 'two','three', 'four','five', 'six'])\n",
    "np.random.choice(my_die)"
   ]
  },
  {
   "cell_type": "code",
   "execution_count": 10,
   "metadata": {},
   "outputs": [
    {
     "name": "stdout",
     "output_type": "stream",
     "text": [
      "roll #1  four\n",
      "roll #2  two\n",
      "roll #3  four\n",
      "roll #4  five\n",
      "roll #5  four\n",
      "roll #6  two\n"
     ]
    }
   ],
   "source": [
    "# now a bunch of rolls\n",
    "print('roll #1 ',np.random.choice(my_die) )\n",
    "print('roll #2 ',np.random.choice(my_die) )\n",
    "print('roll #3 ',np.random.choice(my_die) )\n",
    "print('roll #4 ',np.random.choice(my_die) )\n",
    "print('roll #5 ',np.random.choice(my_die) )\n",
    "print('roll #6 ',np.random.choice(my_die) )"
   ]
  },
  {
   "cell_type": "code",
   "execution_count": 11,
   "metadata": {},
   "outputs": [
    {
     "name": "stdout",
     "output_type": "stream",
     "text": [
      "['four' 'six' 'six' 'four' 'two' 'six']\n"
     ]
    }
   ],
   "source": [
    "# or multiple rolls, single call\n",
    "myDiceRolls = np.random.choice(my_die,6) \n",
    "print(myDiceRolls)"
   ]
  },
  {
   "cell_type": "markdown",
   "metadata": {},
   "source": [
    "We might need to repeat a process multiple times to reach better results or cover more results.\n",
    "Let’s create a game with following rules:\n",
    "\n",
    "- If the dice shows 1 or 2 spots, my net gain is -1 dollar.\n",
    "- If the dice shows 3 or 4 spots, my net gain is 0 dollars.\n",
    "- If the dice shows 5 or 6 spots, my net gain is 1 dollar."
   ]
  },
  {
   "cell_type": "code",
   "execution_count": 12,
   "metadata": {},
   "outputs": [
    {
     "name": "stdout",
     "output_type": "stream",
     "text": [
      "Amount in my account =: 1\n",
      "Place your bet!\n",
      "Roll the die!\n",
      "You Lose,  Bummer!\n",
      "Amount in my account =: 0\n"
     ]
    }
   ],
   "source": [
    "my_wallet = 1 # start with 1 dollars\n",
    "\n",
    "def place_a_bet(wallet):\n",
    "    print(\"Place your bet!\")\n",
    "    if wallet == 0:\n",
    "        print(\"You have no money, get out of my Casino!\")\n",
    "        return(wallet)\n",
    "    else:\n",
    "        wallet = wallet - 1\n",
    "        return(wallet)\n",
    "\n",
    "def make_a_roll(wallet):\n",
    "    \"\"\"Returns my net gain on one bet\"\"\"\n",
    "    print(\"Roll the die!\")\n",
    "    x = np.random.choice(np.arange(1, 7))  # roll a die once and record the number of spots\n",
    "    if x <= 2:\n",
    "        print(\"You Lose,  Bummer!\")\n",
    "        return(wallet) # lose the bet\n",
    "    elif x <= 4:\n",
    "        print(\"You Draw, Take your bet back.\")\n",
    "        wallet = wallet+1\n",
    "        return(wallet) # draw, get bet back\n",
    "    elif x <= 6:\n",
    "        print(\"You win a dollar!\")\n",
    "        wallet = wallet+2\n",
    "        return (wallet) # win, get bet back and win a dollar!\n",
    "    \n",
    "\n",
    "\n",
    "\n",
    "# Single play    \n",
    "print(\"Amount in my account =:\",my_wallet)\n",
    "my_wallet = place_a_bet(my_wallet)\n",
    "my_wallet = make_a_roll(my_wallet)\n",
    "print(\"Amount in my account =:\",my_wallet)\n"
   ]
  },
  {
   "cell_type": "markdown",
   "metadata": {},
   "source": [
    "A more automated solution is to use a for statement to loop over the contents of a sequence. Each result is called iteration. \n",
    "Here we use a for statement in a more realistic way: we print the results of betting five times on the die as described earlier. \n",
    "This process is called simulating the results of five bets. \n",
    "We use the word simulating to remind ourselves that we are not physically rolling dice and exchanging money but using Python to mimic the process."
   ]
  },
  {
   "cell_type": "code",
   "execution_count": 13,
   "metadata": {},
   "outputs": [
    {
     "name": "stdout",
     "output_type": "stream",
     "text": [
      "Amount in my account =: 10\n",
      "Place your bet!\n",
      "Roll the die!\n",
      "You win a dollar!\n",
      "After  1  plays\n",
      "\u001b[91mAmount in my account =: 11 \u001b[0m\n",
      "_______________________\n"
     ]
    }
   ],
   "source": [
    "# Some printing tricks\n",
    "CRED = '\\033[91m'\n",
    "CEND = '\\033[0m'\n",
    "\n",
    "my_wallet = 10\n",
    "how_many_throws = 1 \n",
    "\n",
    "for i in range(how_many_throws):\n",
    "    print(\"Amount in my account =:\",my_wallet)\n",
    "    my_wallet = place_a_bet(my_wallet)\n",
    "    my_wallet = make_a_roll(my_wallet)\n",
    "\n",
    "#print(CRED + \"Error, does not compute!\" + CEND)\n",
    "    print(\"After \",i+1,\" plays\")\n",
    "    print(CRED + \"Amount in my account =:\",my_wallet,CEND)\n",
    "    print(\"_______________________\")"
   ]
  },
  {
   "cell_type": "markdown",
   "metadata": {},
   "source": [
    "## Simulation of multiple gamblers/multiple visits to the Casino\n",
    "\n",
    "https://www.inferentialthinking.com/chapters/09/3/Simulation.html"
   ]
  },
  {
   "cell_type": "code",
   "execution_count": 14,
   "metadata": {},
   "outputs": [
    {
     "data": {
      "image/png": "[encoded data removed]",
      "text/plain": [
       "<Figure size 432x288 with 1 Axes>"
      ]
     },
     "metadata": {
      "filenames": {
       "image/png": "/home/sensei/engr-1330-webroot/engr1330jb/_build/jupyter_execute/lessons/lesson18/lesson18_31_0.png"
      },
      "needs_background": "light"
     },
     "output_type": "display_data"
    },
    {
     "data": {
      "text/html": [
       "<div>\n",
       "<style scoped>\n",
       "    .dataframe tbody tr th:only-of-type {\n",
       "        vertical-align: middle;\n",
       "    }\n",
       "\n",
       "    .dataframe tbody tr th {\n",
       "        vertical-align: top;\n",
       "    }\n",
       "\n",
       "    .dataframe thead th {\n",
       "        text-align: right;\n",
       "    }\n",
       "</style>\n",
       "<table border=\"1\" class=\"dataframe\">\n",
       "  <thead>\n",
       "    <tr style=\"text-align: right;\">\n",
       "      <th></th>\n",
       "      <th>0</th>\n",
       "    </tr>\n",
       "  </thead>\n",
       "  <tbody>\n",
       "    <tr>\n",
       "      <th>count</th>\n",
       "      <td>100.000000</td>\n",
       "    </tr>\n",
       "    <tr>\n",
       "      <th>mean</th>\n",
       "      <td>3.820000</td>\n",
       "    </tr>\n",
       "    <tr>\n",
       "      <th>std</th>\n",
       "      <td>2.720591</td>\n",
       "    </tr>\n",
       "    <tr>\n",
       "      <th>min</th>\n",
       "      <td>0.000000</td>\n",
       "    </tr>\n",
       "    <tr>\n",
       "      <th>25%</th>\n",
       "      <td>2.000000</td>\n",
       "    </tr>\n",
       "    <tr>\n",
       "      <th>50%</th>\n",
       "      <td>3.000000</td>\n",
       "    </tr>\n",
       "    <tr>\n",
       "      <th>75%</th>\n",
       "      <td>6.000000</td>\n",
       "    </tr>\n",
       "    <tr>\n",
       "      <th>max</th>\n",
       "      <td>13.000000</td>\n",
       "    </tr>\n",
       "  </tbody>\n",
       "</table>\n",
       "</div>"
      ],
      "text/plain": [
       "                0\n",
       "count  100.000000\n",
       "mean     3.820000\n",
       "std      2.720591\n",
       "min      0.000000\n",
       "25%      2.000000\n",
       "50%      3.000000\n",
       "75%      6.000000\n",
       "max     13.000000"
      ]
     },
     "execution_count": 14,
     "metadata": {},
     "output_type": "execute_result"
    }
   ],
   "source": [
    "outcomes = np.array([])  #null array to store outcomes\n",
    "\n",
    "# redefine functions to suppress output\n",
    "\n",
    "def place_a_bet(wallet):\n",
    "    # print(\"Place your bet!\")\n",
    "    if wallet == 0:\n",
    "        # print(\"You have no money, get out of my Casino!\")\n",
    "        return(wallet)\n",
    "    else:\n",
    "        wallet = wallet - 1\n",
    "        return(wallet)\n",
    "\n",
    "def make_a_roll(wallet):\n",
    "    \"\"\"Returns my net gain on one bet\"\"\"\n",
    "    # print(\"Roll the die!\")\n",
    "    x = np.random.choice(np.arange(1, 7))  # roll a die once and record the number of spots\n",
    "    if x <= 2:\n",
    "        #print(\"You Lose,  Bummer!\")\n",
    "        return(wallet) # lose the bet\n",
    "    elif x <= 4:\n",
    "        #print(\"You Draw, Take your bet back.\")\n",
    "        wallet = wallet+1\n",
    "        return(wallet) # draw, get bet back\n",
    "    elif x <= 6:\n",
    "        #print(\"You win a dollar!\")\n",
    "        wallet = wallet+2\n",
    "        return (wallet) # win, get bet back and win a dollar!\n",
    "    \n",
    "\n",
    "# Some printing tricks\n",
    "CRED = '\\033[91m'\n",
    "CEND = '\\033[0m'\n",
    "\n",
    "\n",
    "how_many_simulations = 100\n",
    "\n",
    "for j in range(how_many_simulations):\n",
    "    my_wallet = 1\n",
    "    how_many_throws = 30 \n",
    "\n",
    "    for i in range(how_many_throws):\n",
    "     #   print(\"Amount in my account =:\",my_wallet)\n",
    "        my_wallet = place_a_bet(my_wallet)\n",
    "        my_wallet = make_a_roll(my_wallet)\n",
    "\n",
    "#print(CRED + \"Error, does not compute!\" + CEND)\n",
    "#    print(\"After \",i+1,\" plays\")\n",
    "#    print(CRED + \"Amount in my account =:\",my_wallet,CEND)\n",
    "#    print(\"_______________________\")\n",
    "\n",
    "    outcomes = np.append(outcomes,my_wallet)\n",
    "\n",
    "# build a histogram chart - outcomes is an array\n",
    "\n",
    "import matplotlib.pyplot as plt\n",
    "from scipy.stats import gamma\n",
    "\n",
    "#ax.hist(r, density=True, histtype='stepfilled', alpha=0.2)\n",
    "plt.hist(outcomes, density=True, bins = 20)\n",
    "plt.xlabel(\"Dollars in Gamer's Wallet\")\n",
    "plt.ylabel('Relative Frequency')\n",
    "#### just a data model, gamma distribution ##############\n",
    "# code below adapted from https://docs.scipy.org/doc/scipy/reference/generated/scipy.stats.gamma.html\n",
    "a = 5 # bit of trial and error\n",
    "x = np.linspace(gamma.ppf(0.001, a),gamma.ppf(0.999, a), 1000)\n",
    "plt.plot(x, gamma.pdf(x, a, loc=-1.25, scale=1),'r-', lw=5, alpha=1.0, label='gamma pdf')\n",
    "#########################################################\n",
    "# Render the plot\n",
    "plt.show()\n",
    "\n",
    "#print(\"Expected value of wallet (mean) =: \",outcomes.mean())\n",
    "\n",
    "import pandas as pd\n",
    "df = pd.DataFrame(outcomes)\n",
    "df.describe()"
   ]
  },
  {
   "cell_type": "markdown",
   "metadata": {},
   "source": [
    "### Simulation\n",
    "\n",
    "Simulation is the process of using a computer to mimic a real experiment or process. \n",
    "In this class, those experiments will almost invariably involve chance.\n",
    "\n",
    "To summarize from: https://www.inferentialthinking.com/chapters/09/3/Simulation.html  \n",
    "\n",
    "- Step 1: What to Simulate: Specify the quantity you want to simulate. For example, you might decide that you want to simulate the outcomes of tosses of a coin.\n",
    "\n",
    "- Step 2: Simulating One Value: Figure out how to simulate one value of the quantity you specified in Step 1. (usually turn into a function for readability)\n",
    "\n",
    "- Step 3: Number of Repetitions: Decide how many times you want to simulate the quantity. You will have to repeat Step 2 that many times.\n",
    "\n",
    "- Step 4: Coding the Simulation: Put it all together in code.\n",
    "\n",
    "- Step 5: Interpret the results (plots, "
   ]
  },
  {
   "cell_type": "markdown",
   "metadata": {},
   "source": [
    "## Simulation Example\n",
    "\n",
    "Should I change my choice?\n",
    "\n",
    "Based on Monty Hall example from https://youtu.be/Xp6V_lO1ZKA But we already have a small car! \n",
    "(Also watch https://www.youtube.com/watch?v=6Ewq_ytHA7g to learn significance of the small car!)  \n",
    "\n",
    "Consider \n",
    "\n",
    "<!--![](montyhall.png)-->\n",
    "\n",
    "<img src=\"http://54.243.252.9/engr-1330-webroot/1-Lessons/Lesson14/montyhall.png\" width=\"600\">\n",
    "\n",
    "The gist of the game is that a contestent chooses a door, the host reveals one of the unselected doors and offers the contestant a chance to change their choice. Should the contestant stick with her initial choice, or switch to the other door? That is the Monty Hall problem.\n",
    "\n",
    "Using classical probability theory it is straightforward to show that:\n",
    " \n",
    "- The chance that the car is behind the originally chosen door is 1/3.\n",
    "- After Monty opens the door with the goat, the chance distribution changes. \n",
    "- If the contestant switches the decision, he/she doubles the chance.\n",
    "\n",
    "Suppose we have harder situations, can we use this simple problem to learn how to ask complex questions?"
   ]
  },
  {
   "cell_type": "code",
   "execution_count": 15,
   "metadata": {},
   "outputs": [],
   "source": [
    "import numpy as np\n",
    "import pandas as pd\n",
    "import matplotlib.pyplot as plt  \n",
    "\n",
    "def othergoat(x):         #Define a function to return \"the other goat\"!\n",
    "    if x == \"Goat 1\":\n",
    "        return \"Goat 2\"\n",
    "    elif x == \"Goat 2\":\n",
    "        return \"Goat 1\"\n",
    "\n",
    "Doors = np.array([\"Car\",\"Goat 1\",\"Goat 2\"])     #Define a list for objects behind the doors\n",
    "goats = np.array([\"Goat 1\" , \"Goat 2\"])          #Define a list for goats!\n",
    "\n",
    "def MHgame():\n",
    "    #Function to simulate the Monty Hall Game\n",
    "    #For each guess, return [\"the guess\",\"the revealed\", \"the remaining\"]\n",
    "    userguess=np.random.choice(Doors)         #randomly selects a door as userguess\n",
    "    if userguess == \"Goat 1\":\n",
    "        return [userguess, \"Goat 2\",\"Car\"]\n",
    "    if userguess == \"Goat 2\":\n",
    "        return [userguess, \"Goat 1\",\"Car\"]\n",
    "    if userguess == \"Car\":\n",
    "        revealed = np.random.choice(goats)\n",
    "        return [userguess, revealed,othergoat(revealed)]"
   ]
  },
  {
   "cell_type": "code",
   "execution_count": 16,
   "metadata": {},
   "outputs": [
    {
     "name": "stdout",
     "output_type": "stream",
     "text": [
      "['Goat 2', 'Goat 1', 'Car']\n",
      "Goat 2\n",
      "Goat 1\n",
      "Car\n"
     ]
    }
   ],
   "source": [
    "# Check and see if the MHgame function is doing what it is supposed to do:\n",
    "for i in np.arange(1):\n",
    "    a =MHgame()\n",
    "    print(a)\n",
    "    print(a[0])\n",
    "    print(a[1])\n",
    "    print(a[2])"
   ]
  },
  {
   "cell_type": "code",
   "execution_count": 17,
   "metadata": {},
   "outputs": [],
   "source": [
    "c1 = []         #Create an empty list for the userguess\n",
    "c2 = []         #Create an empty list for the revealed\n",
    "c3 = []         #Create an empty list for the remaining\n",
    "\n",
    "how_many_games = 10000\n",
    "\n",
    "for i in np.arange(how_many_games):         #Simulate the game for 1000 rounds - or any other number of rounds you desire\n",
    "    game = MHgame()\n",
    "    c1.append(game[0])             #In each round, add the first element to the userguess list\n",
    "    c2.append(game[1])             #In each round, add the second element to the revealed list\n",
    "    c3.append(game[2])             #In each round, add the third element to the remaining list"
   ]
  },
  {
   "cell_type": "code",
   "execution_count": 18,
   "metadata": {},
   "outputs": [
    {
     "data": {
      "text/html": [
       "<div>\n",
       "<style scoped>\n",
       "    .dataframe tbody tr th:only-of-type {\n",
       "        vertical-align: middle;\n",
       "    }\n",
       "\n",
       "    .dataframe tbody tr th {\n",
       "        vertical-align: top;\n",
       "    }\n",
       "\n",
       "    .dataframe thead th {\n",
       "        text-align: right;\n",
       "    }\n",
       "</style>\n",
       "<table border=\"1\" class=\"dataframe\">\n",
       "  <thead>\n",
       "    <tr style=\"text-align: right;\">\n",
       "      <th></th>\n",
       "      <th>Guess</th>\n",
       "      <th>Revealed</th>\n",
       "      <th>Remaining</th>\n",
       "    </tr>\n",
       "  </thead>\n",
       "  <tbody>\n",
       "    <tr>\n",
       "      <th>0</th>\n",
       "      <td>Goat 2</td>\n",
       "      <td>Goat 1</td>\n",
       "      <td>Car</td>\n",
       "    </tr>\n",
       "    <tr>\n",
       "      <th>1</th>\n",
       "      <td>Goat 2</td>\n",
       "      <td>Goat 1</td>\n",
       "      <td>Car</td>\n",
       "    </tr>\n",
       "    <tr>\n",
       "      <th>2</th>\n",
       "      <td>Car</td>\n",
       "      <td>Goat 2</td>\n",
       "      <td>Goat 1</td>\n",
       "    </tr>\n",
       "    <tr>\n",
       "      <th>3</th>\n",
       "      <td>Goat 2</td>\n",
       "      <td>Goat 1</td>\n",
       "      <td>Car</td>\n",
       "    </tr>\n",
       "    <tr>\n",
       "      <th>4</th>\n",
       "      <td>Car</td>\n",
       "      <td>Goat 1</td>\n",
       "      <td>Goat 2</td>\n",
       "    </tr>\n",
       "    <tr>\n",
       "      <th>...</th>\n",
       "      <td>...</td>\n",
       "      <td>...</td>\n",
       "      <td>...</td>\n",
       "    </tr>\n",
       "    <tr>\n",
       "      <th>9995</th>\n",
       "      <td>Car</td>\n",
       "      <td>Goat 1</td>\n",
       "      <td>Goat 2</td>\n",
       "    </tr>\n",
       "    <tr>\n",
       "      <th>9996</th>\n",
       "      <td>Goat 1</td>\n",
       "      <td>Goat 2</td>\n",
       "      <td>Car</td>\n",
       "    </tr>\n",
       "    <tr>\n",
       "      <th>9997</th>\n",
       "      <td>Car</td>\n",
       "      <td>Goat 2</td>\n",
       "      <td>Goat 1</td>\n",
       "    </tr>\n",
       "    <tr>\n",
       "      <th>9998</th>\n",
       "      <td>Goat 2</td>\n",
       "      <td>Goat 1</td>\n",
       "      <td>Car</td>\n",
       "    </tr>\n",
       "    <tr>\n",
       "      <th>9999</th>\n",
       "      <td>Goat 1</td>\n",
       "      <td>Goat 2</td>\n",
       "      <td>Car</td>\n",
       "    </tr>\n",
       "  </tbody>\n",
       "</table>\n",
       "<p>10000 rows × 3 columns</p>\n",
       "</div>"
      ],
      "text/plain": [
       "       Guess Revealed Remaining\n",
       "0     Goat 2   Goat 1       Car\n",
       "1     Goat 2   Goat 1       Car\n",
       "2        Car   Goat 2    Goat 1\n",
       "3     Goat 2   Goat 1       Car\n",
       "4        Car   Goat 1    Goat 2\n",
       "...      ...      ...       ...\n",
       "9995     Car   Goat 1    Goat 2\n",
       "9996  Goat 1   Goat 2       Car\n",
       "9997     Car   Goat 2    Goat 1\n",
       "9998  Goat 2   Goat 1       Car\n",
       "9999  Goat 1   Goat 2       Car\n",
       "\n",
       "[10000 rows x 3 columns]"
      ]
     },
     "execution_count": 18,
     "metadata": {},
     "output_type": "execute_result"
    }
   ],
   "source": [
    "#Create a data frame (gamedf) with 3 columns (\"Guess\",\"Revealed\", \"Remaining\") and 1000 (or how many number of rounds) rows\n",
    "gamedf = pd.DataFrame({'Guess':c1,\n",
    "                       'Revealed':c2,\n",
    "                       'Remaining':c3})\n",
    "gamedf"
   ]
  },
  {
   "cell_type": "code",
   "execution_count": 19,
   "metadata": {},
   "outputs": [],
   "source": [
    "# Get the count of each item in the first and 3rd column\n",
    "original_car =gamedf[gamedf.Guess == 'Car'].shape[0]\n",
    "remaining_car =gamedf[gamedf.Remaining == 'Car'].shape[0]\n",
    "\n",
    "original_g1 =gamedf[gamedf.Guess == 'Goat 1'].shape[0]\n",
    "remaining_g1 =gamedf[gamedf.Remaining == 'Goat 1'].shape[0]\n",
    "\n",
    "original_g2 =gamedf[gamedf.Guess == 'Goat 2'].shape[0]\n",
    "remaining_g2 =gamedf[gamedf.Remaining == 'Goat 2'].shape[0]"
   ]
  },
  {
   "cell_type": "code",
   "execution_count": 20,
   "metadata": {},
   "outputs": [
    {
     "data": {
      "image/png": "[encoded data removed]",
      "text/plain": [
       "<Figure size 432x288 with 1 Axes>"
      ]
     },
     "metadata": {
      "filenames": {
       "image/png": "/home/sensei/engr-1330-webroot/engr1330jb/_build/jupyter_execute/lessons/lesson18/lesson18_39_0.png"
      },
      "needs_background": "light"
     },
     "output_type": "display_data"
    }
   ],
   "source": [
    "# Let's plot a grouped barplot\n",
    "\n",
    "# set width of bar\n",
    "barWidth = 0.25\n",
    " \n",
    "# set height of bar\n",
    "bars1 = [original_car,original_g1,original_g2]\n",
    "bars2 = [remaining_car,remaining_g1,remaining_g2]\n",
    " \n",
    "# Set position of bar on X axis\n",
    "r1 = np.arange(len(bars1))\n",
    "r2 = [x + barWidth for x in r1]\n",
    " \n",
    "# Make the plot\n",
    "plt.bar(r1, bars1, color='darkorange', width=barWidth, edgecolor='white', label='Original Guess')\n",
    "plt.bar(r2, bars2, color='midnightblue', width=barWidth, edgecolor='white', label='Remaining Door')\n",
    " \n",
    "# Add xticks on the middle of the group bars\n",
    "plt.xlabel('Item', fontweight='bold')\n",
    "plt.xticks([r + barWidth/2 for r in range(len(bars1))], ['Car', 'Goat 1', 'Goat 2'])\n",
    " \n",
    "# Create legend & Show graphic\n",
    "plt.legend()\n",
    "plt.show()"
   ]
  },
  {
   "cell_type": "markdown",
   "metadata": {},
   "source": [
    "### Interpret Results\n",
    "\n",
    "<font color=crimson>__According to the plot, it is beneficial for the players to switch doors because the initial chance for being correct is only 1/3__</font>\n",
    "\n",
    "Does changing doors have a CAUSAL effect on outcome?"
   ]
  },
  {
   "cell_type": "markdown",
   "metadata": {},
   "source": [
    "---\n",
    "\n",
    "## Randomness and Probability\n",
    "\n",
    "The textbook presents randomness at: https://www.inferentialthinking.com/chapters/09/Randomness.html\n",
    "\n",
    "Section 9.5 of that link elaborates on probabilities\n",
    "\n",
    "\"Over the centuries, there has been considerable philosophical debate about what probabilities are. Some people think that probabilities are relative frequencies; others think they are long run relative frequencies; still others think that probabilities are a subjective measure of their own personal degree of uncertainty.\"\n",
    "\n",
    "As a practical matter, most probabilities are relative frequencies.  If you are a Bayesian statistician, its just conditioned relative frequency.  By convention, probabilities are numbers between 0 and 1, or, equivalently, 0% and 100%. Impossible events have probability 0. Events that are certain have probability 1.\n",
    "\n",
    "<img src=\"https://encrypted-tbn0.gstatic.com/images?q=tbn%3AANd9GcRY93kpa8YEikMTZsMZk8Rka4DTQrpxkDxmkA&usqp=CAU\" width=\"400\">\n",
    "\n",
    "As a silly example, the probability that a Great White shark will swim up your sewer pipe and bite you on the bottom, is zero.  Unless the sewer pipe is pretty big, the shark cannot physically get to you - hence impossible.  Now if you are swimming in a freshwater river, lets say the Columbia river on the Oregon border, that probability of sharkbite increases a bit, perhaps 1 in 100 million, or 0.000001% chance of a Great White shark (a pelagic species adapted to salt water), swimming upriver in freshwater, past a couple of fish ladders, still hungry enough bite your bottom. It would be a rare bite indeed; but not physically impossible.\n",
    "\n",
    "<img src=\"https://www.myyosemitepark.com/wp-content/uploads/2020/07/yt-galen-clark-overhanging-rock_georgefiske1900.jpg\" width=\"400\">\n",
    "\n",
    "At the other end of the scale, \"sure things\" have a probability close to 1. If you run and jump off Glacier point in Yosemite Valley, its almost guarenteed that you will have a 1000 foot plunge until you hit the apron of the cliff and make a big red smear - there could be a gust of wind pushing you away into the trees, but pretty unlikely. So without a squirrel suit and a parachute you are pretty much going to expire with probability 100% chance.\n",
    "\n",
    "Math is the main tool for finding probabilities exactly, though computers are useful for this purpose too. Simulation can provide excellent approximations. In this section, we will informally develop a few simple rules that govern the calculation of probabilities. In subsequent sections we will return to simulations to approximate probabilities of complex events.\n",
    "\n",
    "We will use the standard notation 𝑃(event) to denote the probability that \"event\" happens, and we will use the words \"chance\" and \"probability\" interchangeably.\n",
    "\n",
    "- Concepts of sample, population, and probabilities.\n",
    "- Computing probability: single events, both events, at least event.\n",
    "---"
   ]
  },
  {
   "cell_type": "markdown",
   "metadata": {},
   "source": [
    "## Simple Exclusion \n",
    "\n",
    "If the chance that event happens is 40%, then the chance that it doesn't happen is 60%. \n",
    "This natural calculation can be described in general as follows:\n",
    "\n",
    "𝑃(an event doesn't happen) = 1−𝑃(the event happens)\n",
    "\n",
    "The result is correct if the entireity of possibilities are enumerated, that is the entire population is described.\n",
    "\n",
    "---"
   ]
  },
  {
   "cell_type": "markdown",
   "metadata": {},
   "source": [
    "## Complete Enumeration\n",
    "\n",
    "If you are rolling an ordinary die, a natural assumption is that all six faces are equally likely. \n",
    "Then probabilities of how one roll comes out can be easily calculated as a ratio. \n",
    "For example, the chance that the die shows an even number is \n",
    "\n",
    "$$\\frac{number~of~even~faces}{number~of~all~faces} =  \\frac{\\#{2,4,6}}{\\#{1,2,3,4,5,6}} = \\frac{3}{6} $$\n",
    "\n",
    "Similarly,\n",
    "$$𝑃(die~shows~a~multiple~of~3) = \\frac{\\#{3,6}}{\\#{1,2,3,4,5,6}} = \\frac{2}{6}$$\n",
    "\n",
    "In general,\n",
    "$$𝑃(an event happens) = \\frac{outcomes that make the event happen}{all outcomes}$$\n",
    "\n",
    "Provided all the outcomes are equally likely.  As above, this presumes the entireity of possibilities are enumerated.  \n",
    "\n",
    "In the case of a single die, there are six outcomes - these comprise the entire **population** of outcomes.  If we roll two die there are 12 outcomes, three die 18 and so on.  \n",
    "\n",
    "Not all random phenomena are as simple as one roll of a die. The two main rules of probability, developed below, allow mathematicians to find probabilities even in complex situations.\n",
    "\n",
    "---"
   ]
  },
  {
   "cell_type": "markdown",
   "metadata": {},
   "source": [
    "## Conditioning (Two events must happen)\n",
    "\n",
    "Suppose you have a box that contains three tickets: one red, one blue, and one green. Suppose you draw two tickets at random without replacement; that is, you shuffle the three tickets, draw one, shuffle the remaining two, and draw another from those two. What is the chance you get the green ticket first, followed by the red one?\n",
    "\n",
    "There are six possible pairs of colors: RB, BR, RG, GR, BG, GB (we've abbreviated the names of each color to just its first letter). All of these are equally likely by the sampling scheme, and only one of them (GR) makes the event happen. So\n",
    "$$ 𝑃(green~first,~then~red) = \\frac{GR}{RB, BR, RG, GR, BG, GB} = \\frac{1}{6} $$\n",
    "\n",
    "But there is another way of arriving at the answer, by thinking about the event in two stages. First, the green ticket has to be drawn. That has chance 1/3, which means that the green ticket is drawn first in about 1/3 of all repetitions of the experiment. \n",
    "\n",
    "But that doesn't complete the event. Among the 1/3 of repetitions when green is drawn first, the red ticket has to be drawn next. \n",
    "That happens in about 1/2 of those repetitions, and so:\n",
    "\n",
    "$$𝑃(green~first,~then~red) = \\frac{1}{2} of \\frac{1}{3} = \\frac{1}{6} $$\n",
    "\n",
    "This calculation is usually written \"in chronological order,\" as follows.\n",
    "\n",
    "$$𝑃(green~first,~then~red) = \\frac{1}{3} of \\frac{1}{2} = \\frac{1}{6} $$\n",
    "\n",
    "The factor of $$\\frac{1}{2}$$ is called \" the **conditional** chance that the red ticket appears second, given that the green ticket appeared first.\"\n",
    "\n",
    "In general, we have the multiplication rule:\n",
    "\n",
    "$$ 𝑃(two~events~both~happen) = 𝑃(one~event~happens)\\times 𝑃(the~other~event~happens, given~that~the~first~one~happened) $$\n",
    "\n",
    "Thus, when there are two conditions – one event must happen, as well as another – the chance is a fraction of a fraction, which is smaller than either of the two component fractions. The more conditions that have to be satisfied, the less likely they are to all be satisfied.\n",
    "\n",
    "---\n"
   ]
  },
  {
   "cell_type": "markdown",
   "metadata": {},
   "source": [
    "## Partitioning (When sequence doesn't matter) - A kind of enumeration!\n",
    "\n",
    "Suppose instead we want the chance that one of the two tickets is green and the other red. \n",
    "This event doesn't specify the order in which the colors must appear. \n",
    "So they can appear in either order.\n",
    "\n",
    "A good way to tackle problems like this is to partition the event so that it can happen in exactly one of several different ways. \n",
    "The natural partition of \"one green and one red\" is: GR, RG.\n",
    "\n",
    "Each of GR and RG has chance 1/6 by the calculation above. \n",
    "\n",
    "So you can calculate the chance of \"one green and one red\" by adding them up.\n",
    " \n",
    "$$𝑃(one~green~and~one~red) = 𝑃(GR)+𝑃(RG) = \\frac{1}{6} + \\frac{1}{6} = \\frac{2}{6} $$\n",
    "\n",
    "In general, we have the addition rule:\n",
    "\n",
    "$$ 𝑃(an~event~happens) = 𝑃(first~way~it~can~happen)+𝑃(second~way~it~can~happen) $$\n",
    "\n",
    "provided the event happens in exactly one of the two ways.\n",
    "\n",
    "Thus, when an event can happen in one of two different ways, the chance that it happens is a sum of chances, and hence bigger than the chance of either of the individual ways.\n",
    "\n",
    "The multiplication rule has a natural extension to more than two events, as we will see below. So also the addition rule has a natural extension to events that can happen in one of several different ways.\n",
    "\n",
    "Learn more at: https://ocw.mit.edu/courses/mathematics/18-440-probability-and-random-variables-spring-2014/lecture-notes/MIT18_440S14_Lecture3.pdf\n",
    "\n",
    "---\n"
   ]
  },
  {
   "cell_type": "markdown",
   "metadata": {},
   "source": [
    "## At Least One Success (A kind of exclusion/partition)\n",
    "Data scientists work with random samples from populations. \n",
    "A question that sometimes arises is about the likelihood that a particular individual in the population is selected to be in the sample. \n",
    "To work out the chance, that individual is called a \"success,\" and the problem is to find the chance that the sample contains a success.\n",
    "\n",
    "To see how such chances might be calculated, we start with a simpler setting: tossing a coin two times.\n",
    "\n",
    "If you toss a coin twice, there are four equally likely outcomes: HH, HT, TH, and TT. \n",
    "We have abbreviated \"Heads\" to H and \"Tails\" to T. \n",
    "The chance of getting at least one head in two tosses is therefore 3/4.\n",
    "\n",
    "Another way of coming up with this answer is to work out what happens if you don't get at least one head: both the tosses have to land tails. So\n",
    "$$𝑃(at~least~one~head~in~two~tosses) = 1−𝑃(both~tails) = 1−\\frac{1}{4} = \\frac{3}{4}$$\n",
    "\n",
    "Notice also that\n",
    "$$𝑃(both~tails) = \\frac{1}{4} = \\frac{1}{2} \\times \\frac{1}{2} = (\\frac{1}{2})^2$$\n",
    "\n",
    "by the multiplication rule.\n",
    "\n",
    "These two observations allow us to find the chance of at least one head in any given number of tosses. For example,\n",
    "$$𝑃(at~least~one~head~in~17~tosses) = 1−𝑃(all~17~are~tails) = 1−(\\frac{1}{2})^{17}$$\n",
    "\n",
    "And now we are in a position to find the chance that the face with six spots comes up at least once in rolls of a die.\n",
    "\n",
    "For example,\n",
    "$$𝑃(a~single~roll~is~not~6) = 𝑃(1)+𝑃(2)+𝑃(3)+𝑃(4)+𝑃(5) = \\frac{5}{6}$$\n",
    "\n",
    "Therefore,\n",
    "$$𝑃(at~least~one~6~in~two~rolls) = 1−𝑃(both~rolls~are~not~6) = 1−(\\frac{5}{6})^2$$\n",
    "\n",
    "and\n",
    "$$𝑃(at~least~one~6~in~17~rolls) = 1−(\\frac{5}{6})^{17}$$\n",
    "\n",
    "The table below shows these probabilities as the number of rolls increases from 1 to 50."
   ]
  },
  {
   "cell_type": "code",
   "execution_count": 21,
   "metadata": {},
   "outputs": [
    {
     "data": {
      "text/plain": [
       "<AxesSubplot:xlabel='NumRolls', ylabel='Prob at least one 6'>"
      ]
     },
     "execution_count": 21,
     "metadata": {},
     "output_type": "execute_result"
    },
    {
     "data": {
      "image/png": "[encoded data removed]",
      "text/plain": [
       "<Figure size 432x288 with 1 Axes>"
      ]
     },
     "metadata": {
      "filenames": {
       "image/png": "/home/sensei/engr-1330-webroot/engr1330jb/_build/jupyter_execute/lessons/lesson18/lesson18_47_1.png"
      },
      "needs_background": "light"
     },
     "output_type": "display_data"
    }
   ],
   "source": [
    "import pandas as pd\n",
    "HowManyRollsToTake = 50\n",
    "numRolls = []\n",
    "probabilities = []\n",
    "for i in range(HowManyRollsToTake+1):\n",
    "    numRolls.append(i)\n",
    "    probabilities.append(1-(5/6)**i)\n",
    "\n",
    "rolls = {\n",
    "    \"NumRolls\": numRolls,\n",
    "    \"Prob at least one 6\": probabilities\n",
    "}\n",
    "\n",
    "df = pd.DataFrame(rolls)\n",
    "df.plot.scatter(x=\"NumRolls\", y=\"Prob at least one 6\")"
   ]
  },
  {
   "cell_type": "raw",
   "metadata": {},
   "source": [
    "df.describe()"
   ]
  },
  {
   "cell_type": "markdown",
   "metadata": {},
   "source": [
    "---\n",
    "\n",
    "## Why Should anyone buy Flood Insurance?\n",
    "\n",
    "Lets apply these ideas to insurance.\n",
    "\n",
    "<img src=\"https://www.snopes.com/uploads/2015/05/tropical-storm-allison-865x452.jpg\" width=\"500\">\n",
    "<!--![](https://www.snopes.com/uploads/2015/05/tropical-storm-allison-865x452.jpg)-->\n",
    "\n",
    "Suppose you have a house that is located in the 100-year ARI (Annual Recurrance Interval) regulatory flood plain; and you are in a community with a good engineer, who got the probability about correct, that is the chance in any year of a **total loss** is 1 in 100 or 0.01. Thus the chance of **no loss** in any year is 99 in 100 or 0.99 (pretty good odds)! \n",
    "\n",
    "So what is the chance during a 30-year loan, of no loss?\n",
    "\n",
    "We can just apply the multiplication rule on the **no loss** probability \n",
    " $$ P(No~Loss) = 0.99^{30} $$\n",
    "\n",
    "But lets simulate - literally adapting the prior script."
   ]
  },
  {
   "cell_type": "code",
   "execution_count": 22,
   "metadata": {},
   "outputs": [
    {
     "data": {
      "text/plain": [
       "<AxesSubplot:xlabel='Years from Start of Loan'>"
      ]
     },
     "execution_count": 22,
     "metadata": {},
     "output_type": "execute_result"
    },
    {
     "data": {
      "image/png": "[encoded data removed]",
      "text/plain": [
       "<Figure size 432x288 with 1 Axes>"
      ]
     },
     "metadata": {
      "filenames": {
       "image/png": "/home/sensei/engr-1330-webroot/engr1330jb/_build/jupyter_execute/lessons/lesson18/lesson18_50_1.png"
      },
      "needs_background": "light"
     },
     "output_type": "display_data"
    }
   ],
   "source": [
    "import pandas as pd\n",
    "HowManyYears = 60\n",
    "numYears = []\n",
    "nolossprobabilities = []\n",
    "lossprobabilities = []\n",
    "for i in range(HowManyYears+1):\n",
    "    numYears.append(i) # How many years in the sequence\n",
    "    nolossprobabilities.append((1-(1/100))**i) #Probability of No Loss after i-years\n",
    "    lossprobabilities.append(1 - (1-(1/100))**i) #Probability of Loss after i-years\n",
    "years = {\n",
    "    \"Years from Start of Loan\": numYears,\n",
    "    \"Probability of No Loss\": nolossprobabilities,\n",
    "    \"Probability of Loss\": lossprobabilities\n",
    "}\n",
    "\n",
    "df = pd.DataFrame(years)\n",
    "df.plot.line(x=\"Years from Start of Loan\", y=\"Probability of Loss\")\n",
    "# df.plot.line(x=\"Years from Start of Loan\", y=\"Probability of No Loss\")"
   ]
  },
  {
   "cell_type": "code",
   "execution_count": 23,
   "metadata": {},
   "outputs": [
    {
     "data": {
      "text/html": [
       "<div>\n",
       "<style scoped>\n",
       "    .dataframe tbody tr th:only-of-type {\n",
       "        vertical-align: middle;\n",
       "    }\n",
       "\n",
       "    .dataframe tbody tr th {\n",
       "        vertical-align: top;\n",
       "    }\n",
       "\n",
       "    .dataframe thead th {\n",
       "        text-align: right;\n",
       "    }\n",
       "</style>\n",
       "<table border=\"1\" class=\"dataframe\">\n",
       "  <thead>\n",
       "    <tr style=\"text-align: right;\">\n",
       "      <th></th>\n",
       "      <th>Years from Start of Loan</th>\n",
       "      <th>Probability of No Loss</th>\n",
       "      <th>Probability of Loss</th>\n",
       "    </tr>\n",
       "  </thead>\n",
       "  <tbody>\n",
       "    <tr>\n",
       "      <th>0</th>\n",
       "      <td>0</td>\n",
       "      <td>1.000000</td>\n",
       "      <td>0.000000</td>\n",
       "    </tr>\n",
       "    <tr>\n",
       "      <th>1</th>\n",
       "      <td>1</td>\n",
       "      <td>0.990000</td>\n",
       "      <td>0.010000</td>\n",
       "    </tr>\n",
       "    <tr>\n",
       "      <th>2</th>\n",
       "      <td>2</td>\n",
       "      <td>0.980100</td>\n",
       "      <td>0.019900</td>\n",
       "    </tr>\n",
       "    <tr>\n",
       "      <th>3</th>\n",
       "      <td>3</td>\n",
       "      <td>0.970299</td>\n",
       "      <td>0.029701</td>\n",
       "    </tr>\n",
       "    <tr>\n",
       "      <th>4</th>\n",
       "      <td>4</td>\n",
       "      <td>0.960596</td>\n",
       "      <td>0.039404</td>\n",
       "    </tr>\n",
       "    <tr>\n",
       "      <th>5</th>\n",
       "      <td>5</td>\n",
       "      <td>0.950990</td>\n",
       "      <td>0.049010</td>\n",
       "    </tr>\n",
       "    <tr>\n",
       "      <th>6</th>\n",
       "      <td>6</td>\n",
       "      <td>0.941480</td>\n",
       "      <td>0.058520</td>\n",
       "    </tr>\n",
       "    <tr>\n",
       "      <th>7</th>\n",
       "      <td>7</td>\n",
       "      <td>0.932065</td>\n",
       "      <td>0.067935</td>\n",
       "    </tr>\n",
       "    <tr>\n",
       "      <th>8</th>\n",
       "      <td>8</td>\n",
       "      <td>0.922745</td>\n",
       "      <td>0.077255</td>\n",
       "    </tr>\n",
       "    <tr>\n",
       "      <th>9</th>\n",
       "      <td>9</td>\n",
       "      <td>0.913517</td>\n",
       "      <td>0.086483</td>\n",
       "    </tr>\n",
       "    <tr>\n",
       "      <th>10</th>\n",
       "      <td>10</td>\n",
       "      <td>0.904382</td>\n",
       "      <td>0.095618</td>\n",
       "    </tr>\n",
       "    <tr>\n",
       "      <th>11</th>\n",
       "      <td>11</td>\n",
       "      <td>0.895338</td>\n",
       "      <td>0.104662</td>\n",
       "    </tr>\n",
       "    <tr>\n",
       "      <th>12</th>\n",
       "      <td>12</td>\n",
       "      <td>0.886385</td>\n",
       "      <td>0.113615</td>\n",
       "    </tr>\n",
       "    <tr>\n",
       "      <th>13</th>\n",
       "      <td>13</td>\n",
       "      <td>0.877521</td>\n",
       "      <td>0.122479</td>\n",
       "    </tr>\n",
       "    <tr>\n",
       "      <th>14</th>\n",
       "      <td>14</td>\n",
       "      <td>0.868746</td>\n",
       "      <td>0.131254</td>\n",
       "    </tr>\n",
       "    <tr>\n",
       "      <th>15</th>\n",
       "      <td>15</td>\n",
       "      <td>0.860058</td>\n",
       "      <td>0.139942</td>\n",
       "    </tr>\n",
       "    <tr>\n",
       "      <th>16</th>\n",
       "      <td>16</td>\n",
       "      <td>0.851458</td>\n",
       "      <td>0.148542</td>\n",
       "    </tr>\n",
       "    <tr>\n",
       "      <th>17</th>\n",
       "      <td>17</td>\n",
       "      <td>0.842943</td>\n",
       "      <td>0.157057</td>\n",
       "    </tr>\n",
       "    <tr>\n",
       "      <th>18</th>\n",
       "      <td>18</td>\n",
       "      <td>0.834514</td>\n",
       "      <td>0.165486</td>\n",
       "    </tr>\n",
       "    <tr>\n",
       "      <th>19</th>\n",
       "      <td>19</td>\n",
       "      <td>0.826169</td>\n",
       "      <td>0.173831</td>\n",
       "    </tr>\n",
       "    <tr>\n",
       "      <th>20</th>\n",
       "      <td>20</td>\n",
       "      <td>0.817907</td>\n",
       "      <td>0.182093</td>\n",
       "    </tr>\n",
       "    <tr>\n",
       "      <th>21</th>\n",
       "      <td>21</td>\n",
       "      <td>0.809728</td>\n",
       "      <td>0.190272</td>\n",
       "    </tr>\n",
       "    <tr>\n",
       "      <th>22</th>\n",
       "      <td>22</td>\n",
       "      <td>0.801631</td>\n",
       "      <td>0.198369</td>\n",
       "    </tr>\n",
       "    <tr>\n",
       "      <th>23</th>\n",
       "      <td>23</td>\n",
       "      <td>0.793614</td>\n",
       "      <td>0.206386</td>\n",
       "    </tr>\n",
       "    <tr>\n",
       "      <th>24</th>\n",
       "      <td>24</td>\n",
       "      <td>0.785678</td>\n",
       "      <td>0.214322</td>\n",
       "    </tr>\n",
       "    <tr>\n",
       "      <th>25</th>\n",
       "      <td>25</td>\n",
       "      <td>0.777821</td>\n",
       "      <td>0.222179</td>\n",
       "    </tr>\n",
       "    <tr>\n",
       "      <th>26</th>\n",
       "      <td>26</td>\n",
       "      <td>0.770043</td>\n",
       "      <td>0.229957</td>\n",
       "    </tr>\n",
       "    <tr>\n",
       "      <th>27</th>\n",
       "      <td>27</td>\n",
       "      <td>0.762343</td>\n",
       "      <td>0.237657</td>\n",
       "    </tr>\n",
       "    <tr>\n",
       "      <th>28</th>\n",
       "      <td>28</td>\n",
       "      <td>0.754719</td>\n",
       "      <td>0.245281</td>\n",
       "    </tr>\n",
       "    <tr>\n",
       "      <th>29</th>\n",
       "      <td>29</td>\n",
       "      <td>0.747172</td>\n",
       "      <td>0.252828</td>\n",
       "    </tr>\n",
       "  </tbody>\n",
       "</table>\n",
       "</div>"
      ],
      "text/plain": [
       "    Years from Start of Loan  Probability of No Loss  Probability of Loss\n",
       "0                          0                1.000000             0.000000\n",
       "1                          1                0.990000             0.010000\n",
       "2                          2                0.980100             0.019900\n",
       "3                          3                0.970299             0.029701\n",
       "4                          4                0.960596             0.039404\n",
       "5                          5                0.950990             0.049010\n",
       "6                          6                0.941480             0.058520\n",
       "7                          7                0.932065             0.067935\n",
       "8                          8                0.922745             0.077255\n",
       "9                          9                0.913517             0.086483\n",
       "10                        10                0.904382             0.095618\n",
       "11                        11                0.895338             0.104662\n",
       "12                        12                0.886385             0.113615\n",
       "13                        13                0.877521             0.122479\n",
       "14                        14                0.868746             0.131254\n",
       "15                        15                0.860058             0.139942\n",
       "16                        16                0.851458             0.148542\n",
       "17                        17                0.842943             0.157057\n",
       "18                        18                0.834514             0.165486\n",
       "19                        19                0.826169             0.173831\n",
       "20                        20                0.817907             0.182093\n",
       "21                        21                0.809728             0.190272\n",
       "22                        22                0.801631             0.198369\n",
       "23                        23                0.793614             0.206386\n",
       "24                        24                0.785678             0.214322\n",
       "25                        25                0.777821             0.222179\n",
       "26                        26                0.770043             0.229957\n",
       "27                        27                0.762343             0.237657\n",
       "28                        28                0.754719             0.245281\n",
       "29                        29                0.747172             0.252828"
      ]
     },
     "execution_count": 23,
     "metadata": {},
     "output_type": "execute_result"
    }
   ],
   "source": [
    "df.head(30)"
   ]
  },
  {
   "cell_type": "code",
   "execution_count": 24,
   "metadata": {},
   "outputs": [
    {
     "data": {
      "text/plain": [
       "0.2602996266117198"
      ]
     },
     "execution_count": 24,
     "metadata": {},
     "output_type": "execute_result"
    }
   ],
   "source": [
    "df[\"Probability of Loss\"].loc[30]"
   ]
  },
  {
   "cell_type": "markdown",
   "metadata": {},
   "source": [
    "## References\n",
    "\n",
    "1. https://www.inferentialthinking.com/chapters/09/Randomness.html\n",
    "\n",
    "2. https://ocw.mit.edu/courses/mathematics/18-440-probability-and-random-variables-spring-2014/lecture-notes/MIT18_440S14_Lecture3.pdf\n",
    "\n",
    "3. http://water.usgs.gov/pubs/twri/twri4a3/"
   ]
  },
  {
   "cell_type": "code",
   "execution_count": null,
   "metadata": {
    "jupyter": {
     "source_hidden": true
    }
   },
   "outputs": [],
   "source": []
  },
  {
   "cell_type": "markdown",
   "metadata": {},
   "source": [
    "<hr>\n",
    "\n",
    "## Laboratory 18\n",
    "\n",
    "**Examine** (click) Laboratory 18 as a webpage at [Laboratory 18.html](http://54.243.252.9/engr-1330-webroot/8-Labs/Lab18/Lab18.html)\n",
    "\n",
    "**Download** (right-click, save target as ...) Laboratory 18 as a jupyterlab notebook from [Laboratory 18.ipynb](http://54.243.252.9/engr-1330-webroot/8-Labs/Lab18/Lab18.ipynb)\n"
   ]
  },
  {
   "cell_type": "markdown",
   "metadata": {},
   "source": [
    "<hr><hr>\n",
    "\n",
    "## Exercise Set 18\n",
    "\n",
    "**Examine** (click) Exercise Set 18 as a webpage at [Exercise 18.html](http://54.243.252.9/engr-1330-webroot/8-Labs/Lab18/Lab18-TH.html)\n",
    "\n",
    "**Download** (right-click, save target as ...) Exercise Set 18 as a jupyterlab notebook at  [Exercise Set 18.ipynb](http://54.243.252.9/engr-1330-webroot/8-Labs/Lab18/Lab18-TH.ipynb)\n",
    "\n"
   ]
  },
  {
   "cell_type": "code",
   "execution_count": null,
   "metadata": {},
   "outputs": [],
   "source": []
  }
 ],
 "metadata": {
  "kernelspec": {
   "display_name": "Python 3",
   "language": "python",
   "name": "python3"
  },
  "language_info": {
   "codemirror_mode": {
    "name": "ipython",
    "version": 3
   },
   "file_extension": ".py",
   "mimetype": "text/x-python",
   "name": "python",
   "nbconvert_exporter": "python",
   "pygments_lexer": "ipython3",
   "version": "3.8.10"
  }
 },
 "nbformat": 4,
 "nbformat_minor": 4
}