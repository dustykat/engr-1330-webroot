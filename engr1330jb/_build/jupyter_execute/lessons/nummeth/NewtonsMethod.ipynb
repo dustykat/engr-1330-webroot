{
 "cells": [
  {
   "cell_type": "markdown",
   "metadata": {},
   "source": [
    "<div class=\"alert alert-block alert-info\">\n",
    "    <b><h1>ENGR 1330 Computational Thinking with Data Science </h1></b> \n",
    "</div> \n",
    "\n",
    "Copyright © 2021 Theodore G. Cleveland and Farhang Forghanparast\n",
    "\n",
    "Last GitHub Commit Date: \n",
    "    \n",
    "# Appendix: Newton's Method\n",
    "- Background\n",
    "- Analytical Derivatives\n",
    "- Numerical Derivatives\n",
    "- Examples"
   ]
  },
  {
   "cell_type": "markdown",
   "metadata": {},
   "source": [
    "## Numerical Methods - Single Variable Newtons Method\n",
    "The application of fundamental principles of modeling and mechanics often leads to an\n",
    "algebraic or transcendental equation that cannot be easily solved and represented in a closed\n",
    "form. In these cases a numerical method is required to obtain an estimate of the root or\n",
    "roots of the expression.\n",
    "\n",
    "Newton's method is an iterative technique that can produce good estimates of solutions to\n",
    "such equations. The method is employed by rewriting the equation in the form $f(x) = 0$,\n",
    "then successively manipulating guesses for $x$ until the function evaluates to a value close\n",
    "enough to zero for the modeler to accept.\n",
    "\n",
    "  ![figure](newton1.png)\n",
    "\n",
    "The figure above is a graph of some function whose intercept with the *x-axis* is unknown. The goal\n",
    "of Newton's method is to find this intersection (root) from a realistic first guess. Suppose\n",
    "the first guess is $x_1$, shown on the figure as the right-most specific value of $x$. The value\n",
    "of the function at this location is $f(x1)$. Because $x_1$ is supposed to be a root the difference\n",
    "from the value zero represents an error in the estimate. Newton's method simply provides a\n",
    "recipe for corrections to this error.\n",
    "\n",
    "Provided $x_1$ is not near a minimum or maximum (slope of the function is not zero) then a\n",
    "better estimate of the root can be obtained by extending a tangent line from $x_1, f(x_1)$ to\n",
    "the x-axis. The intersection of this line with the axis represents a better estimate of the\n",
    "root.  This new estimate is `x2`. A formula for $x_2$ can be derived from the geometry of the triangle\n",
    "$x_2,f(x_1),x_1$. Recall from calculus that the tangent to a function at a particular point is\n",
    "the first derivative of the function. Therefore, from the geometry of the triangle and the\n",
    "definition of tangent we can write, \n",
    "\n",
    "$\\begin{equation}\n",
    "tan(\\theta)=\\frac{df}{dx}\\Biggr\\vert_{x_1} = \\frac{f(x_1)}{x_1 - x_2}\n",
    "\\end{equation}$\n",
    "\n",
    "Solving the equation for $x_2$ results in a formula that expresses $x_2$ in terms of the first guess\n",
    "plus a correction term.\n",
    "\n",
    "$\\begin{equation}\n",
    "x_2=x_1 - \\frac{f(x_1)}{\\frac{df}{dx}\\vert_{x_1}} \n",
    "\\end{equation}$\n",
    "\n",
    "The second term on the right hand side is the correction term to the estimate on the right\n",
    "hand side. Once $x_2$ is calculated we can repeat the formula substituting $x_2$ for $x_1$ and $x_3$ for\n",
    "$x_2$ in the formula. Repeated application usually leads to one of three outcomes:\n",
    "\n",
    "1. a root;\n",
    "2. divergence to +/- $\\inf$ ; or\n",
    "3. cycling.\n",
    "\n",
    "These three outcomes are discussed below in various subsections along with some remedies.\n",
    "The generalized formula is\n",
    "\n",
    "$\\begin{equation}\n",
    "x_{k+1}=x_{k} - \\frac{  f(x_{k})  }{   \\frac{df}{dx}\\rvert_{x_k} } \n",
    "\\label{eqn:NewtonFormula}\n",
    "\\end{equation}$\n",
    "\n",
    "If the derivative is evaluated using analytical derivatives the method is called Newton's\n",
    "method, if approximations to the derivative are used, it is called a quasi-Newton method.\n",
    "\n",
    "## Newton's Method --- Using analytical derivatives\n",
    "This subsection is an example in Python of implementing Newton's method with analytical derivatives.   \n",
    "\n",
    "The recipe itself is:\n",
    "1) Write the function in proper form, and code it into a computer.\n",
    "2) Write the derivative in proper form and code it into a computer.\n",
    "3) Make an initial guess of the solution (0 and 1 are always convenient guesses).\n",
    "4) Evaluate the function, evaluate the derivative, calculate their ratio.\n",
    "5) Subtract the ratio from the current guess and save the result as the update.\n",
    "6) Test for stopping:\n",
    "     i) Did the update stay the same value? Yes, then stop, probably have a solution.\n",
    "    ii) Is the function nearly zero?  Yes, then stop we probably have a solution.\n",
    "    iii) Have we tried too many updates? Yes, then stop the process is probably cycling, stop.\n",
    "7) If stopping is indicated proceed to next step, otherwise proceed back to step 4.\n",
    "8) Stopping indicated, report last update as the result (or report failure to find solution), and related information about the status of the numerical method.\n",
    "\n",
    "\n",
    "The following example illustrates these step as well as an ipython implementation of Newton's method.\n",
    "\n",
    "Suppose we wish to find a root (value of `x`) that satisfies:\n",
    "\n",
    "$\\begin{equation}\n",
    "f(x) = e^x - 10 cos(x) -100\n",
    "\\end{equation}$\n",
    "\n",
    "Then we will need to code it into a script.   Here is a code fragment that will generate the prototype function"
   ]
  },
  {
   "cell_type": "code",
   "execution_count": 1,
   "metadata": {},
   "outputs": [],
   "source": [
    "#  import built in function for e^x, cosine\n",
    "from math import exp, cos, sin\n",
    "# Define the function\n",
    "def func(x):\n",
    "    func = exp(x) - 10*cos(x) - 100  #using the name as the temp var\n",
    "    return func"
   ]
  },
  {
   "cell_type": "markdown",
   "metadata": {},
   "source": [
    "Notice in the code fragment we import three built-in functions from the Python math package, specifically $\\exp()$, $\\sin()$, and $\\cos ()$.\n",
    "The next step is to code the derivative.   In this case the derivative is \n",
    "\n",
    "$\\begin{equation}\n",
    "\\frac{df}{dx}\\vert{(x)} = e^x + 10 \\sin(x)\n",
    "\\end{equation}$\n",
    "\n",
    "and the prototype function is coded as "
   ]
  },
  {
   "cell_type": "code",
   "execution_count": 2,
   "metadata": {},
   "outputs": [],
   "source": [
    "def dfdx(x):\n",
    "    dfdx = exp(x) + 10*sin(x)\n",
    "    return dfdx"
   ]
  },
  {
   "cell_type": "markdown",
   "metadata": {},
   "source": [
    "Next we will need script to read in an initial guess, and ask us how many trials we will use to try to find a solution, as well as how close to zero we should be before we declare victory."
   ]
  },
  {
   "cell_type": "markdown",
   "metadata": {},
   "source": [
    "```{note}\n",
    "The script below is a rudimentary interactive interface to read in data.  The examples use assigned inputs, but can be easily replaced with a script like the one below\n",
    "```\n",
    "\n",
    "```\n",
    "# Now for the Newton Method Implementation\n",
    "# Get initial guess, use a simple error trap\n",
    "yes=0\n",
    "while yes == 0:\n",
    "    xnow = input(\"Enter an initial guess for Newton method \\n\")\n",
    "    try:\n",
    "        xnow = float(xnow)\n",
    "        yes =1\n",
    "    except:\n",
    "        print (\"Value should be numeric, try again \\n\")\n",
    "# Get number trials, use a simple error trap\n",
    "yes=0\n",
    "while yes == 0:\n",
    "    HowMany = input(\"Enter iteration maximum \\n\")\n",
    "    try:\n",
    "        HowMany = int(HowMany)\n",
    "        yes =1\n",
    "    except:\n",
    "        print (\"Value should be numeric, try again \\n\")\n",
    "# Get stopping criterion\n",
    "yes=0\n",
    "while yes == 0:\n",
    "    HowSmall = input(\"Enter a solution tolerance (e.g. 1e-06) \\n\")\n",
    "    try:\n",
    "        HowSmall= float(HowSmall)\n",
    "        yes =1\n",
    "    except:\n",
    "        print (\"Value should be numeric, try again \\n\")\n",
    "```"
   ]
  },
  {
   "cell_type": "code",
   "execution_count": 3,
   "metadata": {},
   "outputs": [],
   "source": [
    "xnow = 1.0\n",
    "HowMany=40\n",
    "HowSmall=1e-06"
   ]
  },
  {
   "cell_type": "markdown",
   "metadata": {},
   "source": [
    "The use of `HowSmall` is called a zero tolerance.   \n",
    "We will use the same numerical value for two tolerance tests.   \n",
    "Also notice how we are using error traps to force numeric input.   \n",
    "Probably overkill for this example, but we already wrote the code in an earlier essay, so might as well reuse the code.  \n",
    "Professional codes do a lot of error checking before launching into the actual processing - especially if the processing part is time consuming, its worth the time to check for obvious errors before running for a few hours then at some point failing because of an input value error that was predictable.\n",
    "\n",
    "Now back to the tolerance tests. \n",
    "The first test is to determine if the update has changed or not.   \n",
    "If it has not, we may not have a correct answer, but there is no point continuing because the update is unlikely to move further.   \n",
    "The test is something like\n",
    "\n",
    "$\\begin{equation}\n",
    "\\text{IF}~\\lvert x_{k+1} - x_{k} \\rvert < \\text{Tol.~ THEN Exit and Report Results}\n",
    "\\end{equation}$\n",
    "\n",
    "The second test is if the function value is close to zero.   \n",
    "The structure of the test is similar, just an different argument.   The second test is something like\n",
    "\n",
    "$\\begin{equation}\n",
    "\\text{IF}~\\lvert f(x_{k+1}) \\rvert < \\text{Tol.~ THEN Exit and Report Results}\n",
    "\\end{equation}$\n",
    "\n",
    "One can see from the nature of the two tests that a programmer might want to make the tolerance values different.   \n",
    "This modification is left as a reader exercise.\n",
    "\n",
    "Checking for maximum iterations is relatively easy, we just include code that checks for normal exit the loop.\n",
    "\n",
    "Here is code fragment that implements the method, makes the various tests, and reports results."
   ]
  },
  {
   "cell_type": "code",
   "execution_count": 4,
   "metadata": {},
   "outputs": [
    {
     "name": "stdout",
     "output_type": "stream",
     "text": [
      "Update not changing \n",
      "\n",
      "Function value = 1.4210854715202004e-14\n",
      " Root value    = 4.593209147284144\n",
      "End of NewtonMethod.py \n"
     ]
    }
   ],
   "source": [
    "# now we begin the process\n",
    "count = 0\n",
    "for i in range(0,HowMany,1):\n",
    "    xnew = xnow - func(xnow)/dfdx(xnow)\n",
    "# stopping criteria -- update not changing\n",
    "    if abs(xnew - xnow) < HowSmall:\n",
    "        print (\"Update not changing \\n\")\n",
    "        print(\"Function value =\",func(xnew))\n",
    "        print(\" Root value    =\",xnew)\n",
    "        break\n",
    "    else:\n",
    "        xnow = xnew\n",
    "        count = count +1\n",
    "        continue\n",
    "# stopping criteria -- function close to zero\n",
    "    if abs( func(xnew) ) < HowSmall:\n",
    "        print (\"Function value close to zero \\n\")\n",
    "        print(\"Function value =\",func(xnew))\n",
    "        print(\" Root value    =\",xnew)\n",
    "        break\n",
    "    else:\n",
    "        xnow = xnew\n",
    "        count = count +1\n",
    "        continue\n",
    "# next step, then have either broken from the loop or iteration counted out\n",
    "if count == HowMany:\n",
    "    print(\" Iteration Limit Reached \")\n",
    "    print(\"Function value =\",func(xnew))\n",
    "    print(\" Root value    =\",xnew)\n",
    "print(\"End of NewtonMethod.py \")"
   ]
  },
  {
   "cell_type": "markdown",
   "metadata": {},
   "source": [
    "Now we simply connect the three fragments, and we would have a working Python script that implements Newton's method for the example equation.  The example is specific to the particular function provided, but the programmer could move the two functions `func` and `dfdx` into a user specified module, and then load that module in the program to make it even more generic.   The next section will use such an approach to illustrate the ability to build a generalized Newton method and <em>only have to program the function itself</em>"
   ]
  },
  {
   "cell_type": "markdown",
   "metadata": {},
   "source": [
    "### Newton's Method --- Using finite-differences to estimate derivatives\n",
    "A practical difficulty in using Newton's method is determining the value of the derivative in cases where differentiation is difficult.  \n",
    "In these cases we can replace the derivative by a finite difference equation and then proceed as in Newton's method. \n",
    "\n",
    "Recall from calculus that the derivative was defined as the limit of the difference quotient:\n",
    "\n",
    "$\\begin{equation}\n",
    "\\frac{df}{dx}\\vert_{x} = \\lim_{\\Delta x \\rightarrow 0}\\frac{f(x + \\Delta x) - f(x) }{\\Delta x}\n",
    "\\end{equation}$\n",
    "\n",
    "A good approximation to the derivative should be possible by using this formula with a small, but non-zero value for $\\Delta x$.\n",
    "\n",
    "$\\begin{equation}\n",
    "\\frac{df}{dx}\\vert_{x} \\approx \\frac{f(x + \\Delta x) - f(x) }{\\Delta x}\n",
    "\\end{equation}$\n",
    "\n",
    "When one replaces the derivative with the difference formula the root finding method the resulting update formula is\n",
    "\n",
    "$\\begin{equation}\n",
    "x_{k+1}=x_k - \\frac{f(x_k) \\Delta x}{f(x_k + \\Delta x)-f(x_k)} \n",
    "\\end{equation}$\n",
    "\n",
    "This root-finding method is called a quasi-Newton method.\n",
    "\n",
    "Here is the code fragment that we change by commenting out the analytical derivative and replacing it with a first-order finite difference approximation of the derivative.  The numerical value $1e-06$ is called the step size ($\\Delta x$)  and should be an input value (rather than built-in to the code as shown here) like the tolerance test values, and be passed to the function as another argument."
   ]
  },
  {
   "cell_type": "code",
   "execution_count": 5,
   "metadata": {},
   "outputs": [],
   "source": [
    "# reset the notebook\n",
    "%reset -f"
   ]
  },
  {
   "cell_type": "code",
   "execution_count": 6,
   "metadata": {},
   "outputs": [],
   "source": [
    "#  import built in function for e^x, cosine\n",
    "from math import exp, cos, sin\n",
    "# Define the function\n",
    "def func(x):\n",
    "    func = exp(x) - 10*cos(x) - 100  #using the name as the temp var\n",
    "    return func\n",
    "def dfdx(x):\n",
    "#    dfdx = exp(x) + 10*sin(x)\n",
    "    dfdx = (func(x + 1e-06) - func(x) )/ (1e-06)\n",
    "    return (dfdx)"
   ]
  },
  {
   "cell_type": "code",
   "execution_count": 7,
   "metadata": {},
   "outputs": [],
   "source": [
    "xnow = 2.0\n",
    "HowMany=33\n",
    "HowSmall=1e-09"
   ]
  },
  {
   "cell_type": "code",
   "execution_count": 8,
   "metadata": {},
   "outputs": [
    {
     "name": "stdout",
     "output_type": "stream",
     "text": [
      "Update not changing \n",
      "\n",
      "Function value = 1.4210854715202004e-14\n",
      " Root value    = 4.593209147284144\n",
      "End of NewtonMethod.py \n"
     ]
    }
   ],
   "source": [
    "# now we begin the process\n",
    "count = 0\n",
    "for i in range(0,HowMany,1):\n",
    "    xnew = xnow - func(xnow)/dfdx(xnow)\n",
    "# stopping criteria -- update not changing\n",
    "    if abs(xnew - xnow) < HowSmall:\n",
    "        print (\"Update not changing \\n\")\n",
    "        print(\"Function value =\",func(xnew))\n",
    "        print(\" Root value    =\",xnew)\n",
    "        break\n",
    "    else:\n",
    "        xnow = xnew\n",
    "        count = count +1\n",
    "        continue\n",
    "# stopping criteria -- function close to zero\n",
    "    if abs( func(xnew) ) < HowSmall:\n",
    "        print (\"Function value close to zero \\n\")\n",
    "        print(\"Function value =\",func(xnew))\n",
    "        print(\" Root value    =\",xnew)\n",
    "        break\n",
    "    else:\n",
    "        xnow = xnew\n",
    "        count = count +1\n",
    "        continue\n",
    "# next step, then have either broken from the loop or iteration counted out\n",
    "if count == HowMany:\n",
    "    print(\" Iteration Limit Reached \")\n",
    "    print(\"Function value =\",func(xnew))\n",
    "    print(\" Root value    =\",xnew)\n",
    "print(\"End of NewtonMethod.py \")"
   ]
  },
  {
   "cell_type": "markdown",
   "metadata": {},
   "source": [
    "Pretty much the same result, but now we don't have to determine the analytical derivative."
   ]
  },
  {
   "cell_type": "markdown",
   "metadata": {},
   "source": [
    "## Packages\n",
    "\n",
    "## References\n",
    "\n",
    "## Laboratory XX\n",
    "\n",
    "## Exercise Set XX"
   ]
  }
 ],
 "metadata": {
  "kernelspec": {
   "display_name": "Python 3",
   "language": "python",
   "name": "python3"
  },
  "language_info": {
   "codemirror_mode": {
    "name": "ipython",
    "version": 3
   },
   "file_extension": ".py",
   "mimetype": "text/x-python",
   "name": "python",
   "nbconvert_exporter": "python",
   "pygments_lexer": "ipython3",
   "version": "3.8.10"
  }
 },
 "nbformat": 4,
 "nbformat_minor": 4
}