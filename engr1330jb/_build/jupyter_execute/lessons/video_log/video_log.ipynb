{
 "cells": [
  {
   "cell_type": "markdown",
   "metadata": {},
   "source": [
    "<div class=\"alert alert-block alert-info\">\n",
    "    <b><h1>ENGR 1330 Computational Thinking with Data Science </h1></b> \n",
    "</div> \n",
    "\n",
    "Copyright © 2021 Theodore G. Cleveland and Farhang Forghanparast\n",
    "\n",
    "Last GitHub Commit Date: \n",
    "    \n",
    "# Video Archive\n",
    "\n",
    "A collection of links to author generated videos related to these notes.  The collection is historical in reverse chronological order (Newest to Oldest) by categories.  \n",
    "\n",
    "```{note}\n",
    "Potentional institutional users can see the evolution (de-evolution) of the course coverage as part of the ongoing course development cycle.\n",
    "```\n",
    "</hr>"
   ]
  },
  {
   "cell_type": "markdown",
   "metadata": {},
   "source": [
    "## Informational and How-To ... Videos\n",
    "\n",
    "- A quick tour of filesystems on MacOS, Windows, and Linux. [File Systems](https://youtu.be/gAk9Ee7_dhU)\n",
    "- How to set browser exception on Chrome browser. For students in ENGR 1330 using Chrome. [ENGR-1330-2021-HowToSetBrowserException Chrome](https://youtu.be/Uz84IpDn6pE)\n",
    "- Installing Anaconda IDE onto a windows machine (simulated using a Windows VM hosted on a Macintosh, but native install would be same).  [ENGR-1330-2021-D01/D04-AnacondaOnWindows10](https://youtu.be/xBfoK6jDpTw)\n",
    "- Anaconda IDE on an AWS Lightsail Instance, for students at TTU wishing to use AWS Cloud Computing. [ENGR-1330-2021-D01/D04  AnacondaOnAWS](https://youtu.be/s8CJKq2Rvgg)\n",
    "\n",
    "<hr>"
   ]
  },
  {
   "cell_type": "markdown",
   "metadata": {},
   "source": [
    "## Lesson Videos\n",
    "\n",
    "<hr>\n",
    "\n",
    "### Spring 2022\n",
    "\n",
    "<hr>\n",
    "\n",
    "### Fall 2021\n",
    "- First meeting, Fall 2021 [ENGR-1330-001-2021-3-Lesson00](https://youtu.be/HgtHt8JilUE)\n",
    "- Computational thinking as a problem solving process; Computing mean using CT principles to decompose the process. [ENGR-1330-2021-3-Lesson01](https://youtu.be/2hq5PzKRMQI)\n",
    "- Fundamental arithmetic, variables and expression, data types [ENGR-1330-2021-3-Lesson02](https://youtu.be/hhFV9oiEX20)\n",
    "- Data structures: lists, dictionary, tuple [ENGR-1330-2021-3-Lesson03](https://youtu.be/L3jF8guv_Ms)\n",
    "- Input/Output concepts. Interactive input. Explicit type casting after capturing input.[ENGR-1330-2021-3-Lesson04](https://youtu.be/9N4v6JXIuOA)\n",
    "- Sequence, selection and repetition.[ENGR-1330-2021-3-Lesson05](https://youtu.be/a_WuJb3WXmQ)\n",
    "- Functions; intrinsic, user defined.  Saving to a file. [ENGR-1330-2021-3-Lesson06](https://youtu.be/gOfdz53XFHU)\n",
    "- File manipulation; read/write.  Access files by URL [ENGR-1330-2021-3-Lesson07](https://youtu.be/-MqZoT2Hy3M)\n",
    "- Matrices as lists, a little intro to linear algebra (a lot more in the readings) [ENGR-1330-2021-3-Lesson08](https://youtu.be/gfl20vIwl3w)\n",
    "- Introduction to numpy.  Matrices using numpy. [ENGR-1330-2021-3-Lesson09](https://youtu.be/cvnZZhLmqhM)\n",
    "- Pandas (Video Failed)\n",
    "- Dataframes and file reading [ENGR-1330-2021-3-Lesson 11](https://youtu.be/rXtwG5n9vhU)\n",
    "- Plotting and Matplotlib introduction [ENGR-1330-2021-3-Lesson12](https://youtu.be/AEgtiK6nlpU)\n",
    "- Correlation, causality, probability [ENGR-1330-2021-3-Lesson14](https://youtu.be/KUQzWIhrd_c)\n",
    "- Descriptive statistics using primitive python, spipy, numpy, and pandas [ENGR-1330-2021-3-Lesson15](https://youtu.be/Wyz9C82wTQg)\n",
    "- Intro to hypothesis tests [ENGR-1330-2021-3-Lesson16](https://youtu.be/BNwDQytvLeE)\n",
    "- A/B Tests, and other comparisons of collections [ENGR-1330-2021-3-Lesson17](https://youtu.be/ZbLTfSEoXP4)\n",
    "- Interval Estimates [ENGR-1330-2021-3-Lesson18](https://youtu.be/gy7jcXlXdTY)\n",
    "- Introduction to Regression[ENGR-1330-2021-3-Lesson19](https://youtu.be/FVXPSYTI9gs)\n",
    "- Prediction intervals [ENGR-1330-2021-3-Lesson20](https://youtu.be/5KevAWFdzg0)\n",
    "- Probability estimation data models [ENGR-1330-2021-3-Lesson21](https://youtu.be/2MLrixPHmnU)\n",
    "- Introduction to classification [ENGR-1330-2021-3-Lesson22](https://youtu.be/t2oBidpfWyE)\n",
    "- KNN Classification [ENGR-1330-2021-3-Lesson23](https://youtu.be/mydiKruTOzE)\n",
    "\n",
    "<hr>\n",
    "\n",
    "### Spring 2021\n",
    "\n",
    "- Introduction to CT/DS; Blackboard; How to Set Browser Exception; Anaconda; JupyterLab and notebook components [ENGR-1330-2021-D01/D04-Lesson-0](https://youtu.be/fABt-XPzjH0)\n",
    "- Data Structures and Conditional Execution [ENGR-1330-2021-D01/D04_Lesson02](https://youtu.be/vTXFFl_tvnQ)\n",
    "- Repetition, Loops [ENGR-1330-2021-Lesson03](https://youtu.be/EuNBaF-vhAI)\n",
    "- FUNctions.  Fun with functions! [engr1330 lesson4](https://youtu.be/89GRMMleAwA)\n",
    "- Classes, Objects and Files (part 1 until network fail) [engr 1330 2021 lesson5 part1](https://youtu.be/LpoTvgqWGDo)\n",
    "- Classes, Objects, and Files. (part2 after network restore)[engr 1330 2021 lesson5 part2](https://youtu.be/7TxBqmQvmiA)\n",
    "- NumPy  external package; a little linear algebra [ENGR-1330-2021-Lesson7](https://youtu.be/0jniXexafjk)\n",
    "- Pandas package.  Table manipulation. Read/Write. [ENGR1330 Lesson8](https://youtu.be/lm2fvI-KK2w)\n",
    "- Plotting and matplotlib [engr1330 lesson9](https://youtu.be/XdiawAWZM3g)\n",
    "- Causation, correlation, chance and simulation.  Monty Hall analysis. [engr1330 lesson10](https://youtu.be/5Q9RxULBeq8)\n",
    "- Chance, Events and Simulation. A safe way to play Russian Roulette. [engr1330lesson11](https://youtu.be/cArJNcnzTII)\n",
    "- Data models using special functions. [engr1330 lesson12](https://youtu.be/5oWn_IJ4kg8)\n",
    "- Data Models using Probability Distribution Functions [engr1330 lesson13](https://youtu.be/gCrjEmUV0rs)\n",
    "- Hypothesis Testing (Introduction) [engr1330 lesson14](https://youtu.be/ecEk7bfC9S8)\n",
    "- Hypothesis Testing, And some debugging! [engr1330 lesson15](https://youtu.be/5qlMP3JF430)\n",
    "- A/B Testing (in Lab), Interval Estimates [engr1330 lesson16](https://youtu.be/W_i_k9cxNA8)\n",
    "- Interval Estimates (Continued) [engr1330 lesson17](https://youtu.be/Z3z5ZWkN36A)\n",
    "- Data Modeling - ML Approaches, Introduction to Regression Tools for Prediction Engines. [engr1330 lesson19](https://youtu.be/hPrxK7CDqMQ)\n",
    "- More on regression; MLS, WLS and some examples [engr1330 lesson20](https://youtu.be/XwyjNLGXYqA)\n",
    "- Target Shooting and Regression [engr1330lesson21](https://youtu.be/M3S-vQySOHY)\n",
    "- Introduction to Classification; Logistic Regression [engr1330 lesson22](https://youtu.be/vx5TkMsr4VI)\n",
    "- Fitted Model Quality Measures; Project Questions [engr1330 lesson23](https://youtu.be/um7WiaRFr90)\n",
    "- Classification Engines; KNN [egnr1330 lesson24](https://youtu.be/gi6cLAbPa8A)\n",
    "- Classification by KNN [engr1330 lesson25](https://youtu.be/SzEfWXDaKIw)\n",
    "- Random Forests, SVMs [engr1330 lesson26](https://youtu.be/bxeUW6H_FD8)\n",
    "\n",
    "<hr>\n",
    "\n",
    "### Fall 2020\n",
    "\n",
    "- KNN(Fall 2020) [engr1330 lesson24](https://youtu.be/Zg9q9HJdaaI)\n",
    "- Regression Trees, Random Forests (Fall 2020) [engr1330 lesson25](https://youtu.be/BPsHJvPNewM)"
   ]
  },
  {
   "cell_type": "markdown",
   "metadata": {},
   "source": []
  },
  {
   "cell_type": "markdown",
   "metadata": {},
   "source": [
    "## Laboratory Videos\n",
    "\n",
    "### Spring 2022\n",
    "\n",
    "### Fall 2021\n",
    "\n",
    "### Spring 2021\n",
    "\n",
    "### Fall 2020\n",
    "\n",
    "\n"
   ]
  },
  {
   "cell_type": "markdown",
   "metadata": {},
   "source": [
    "## References"
   ]
  },
  {
   "cell_type": "code",
   "execution_count": null,
   "metadata": {},
   "outputs": [],
   "source": []
  }
 ],
 "metadata": {
  "kernelspec": {
   "display_name": "Python 3",
   "language": "python",
   "name": "python3"
  },
  "language_info": {
   "codemirror_mode": {
    "name": "ipython",
    "version": 3
   },
   "file_extension": ".py",
   "mimetype": "text/x-python",
   "name": "python",
   "nbconvert_exporter": "python",
   "pygments_lexer": "ipython3",
   "version": "3.8.10"
  }
 },
 "nbformat": 4,
 "nbformat_minor": 4
}