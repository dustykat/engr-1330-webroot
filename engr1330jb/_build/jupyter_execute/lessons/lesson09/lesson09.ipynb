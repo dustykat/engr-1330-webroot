{
 "cells": [
  {
   "cell_type": "markdown",
   "metadata": {},
   "source": [
    "<div class=\"alert alert-block alert-info\">\n",
    "    <b><h1>ENGR 1330 Computational Thinking with Data Science </h1></b> \n",
    "</div> \n",
    "\n",
    "Copyright © 2021 Theodore G. Cleveland and Farhang Forghanparast\n",
    "\n",
    "Last GitHub Commit Date: \n",
    "    \n",
    "# 9: Matrix Manipulation(s) using *NumPy*\n",
    "- How to install\n",
    "    - conda\n",
    "    - pip in JupyterHub/Lab (on Linux)\n",
    "- About NumPy\n",
    "    - Arrays\n",
    "    - Array Methods\n",
    "    - Examples using NumPy to illustrate abstraction to maintainable scripts\n",
    "    \n",
    "---"
   ]
  },
  {
   "cell_type": "markdown",
   "metadata": {
    "jupyter": {
     "outputs_hidden": false
    }
   },
   "source": [
    "## Objectives\n",
    "- To understand the representation of data in different structure using the NumPy library(module).\n",
    "  - Access data within a NumPy array\n",
    "  - Perform arithmetic/mathematical operations on the contents of NumPy arrays\n"
   ]
  },
  {
   "cell_type": "markdown",
   "metadata": {},
   "source": [
    "---\n",
    "\n",
    "### Numpy\n",
    "Numpy is the core library for scientific computing in Python. It provides a high-performance multidimensional array object, and tools for working with these arrays. The library’s name is short for “Numeric Python” or “Numerical Python”. If you are curious about NumPy, this cheat sheet is recommended:\n",
    "https://s3.amazonaws.com/assets.datacamp.com/blog_assets/Numpy_Python_Cheat_Sheet.pdf\n",
    "\n",
    "NumPy library has two fundamental conceptualizations:\n",
    "- Data representation: Arrays \n",
    "  - vectors\n",
    "  - matrices\n",
    "- Data operations: \n",
    "  - Element-by-element arithmetic, and mathematical operations;\n",
    "  - Matrix/vector arithmetic\n",
    "  - Indexing\n",
    "  - Selection\n",
    "  - Copying"
   ]
  },
  {
   "cell_type": "markdown",
   "metadata": {},
   "source": [
    "---\n",
    "\n",
    "## Computational Thinking Concepts\n",
    "\n",
    "The CT concepts expressed within NumPy include:\n",
    "\n",
    "- `Decomposition` : Break a problem down into smaller pieces; Data interpretation, manipulation, and analysis of NumPy arrays is an act of decomposition.\n",
    "- `Abstraction` : Pulling out specific differences to make one solution work for multiple problems; The array is a data representation abstraction that allows for placeholder operations, later substituted with specific contents for a problem; enhances reuse and readability.  Generally we leverage the principle of algebraic replacement using these abstractions.\n",
    "- `Algorithms` : A list of steps that you can follow to finish a task; Data interpretation, manipulation, and analysis of NumPy arrays is generally implemented as part of a supervisory algorithm."
   ]
  },
  {
   "cell_type": "markdown",
   "metadata": {},
   "source": [
    "---\n",
    "\n",
    "## Module Set-Up\n",
    "\n",
    "In principle, NumPy should be available in a default Anaconda install \n",
    "- You should not have to do any extra installation steps to install the library in Python\n",
    "- You do have to **import** the library in your scripts\n",
    "\n",
    "How to check\n",
    "- Simply open a code cell and run `import numpy` if the notebook does not protest (i.e. pink block of error),  you is good to go."
   ]
  },
  {
   "cell_type": "code",
   "execution_count": 1,
   "metadata": {},
   "outputs": [],
   "source": [
    "import numpy"
   ]
  },
  {
   "cell_type": "markdown",
   "metadata": {},
   "source": [
    "If you do get an error, that means that you will probably have to install using `conda` or `pip`; generally this process of installation is only needed occassionally, you are installing into your kernel the needed funcrtionality.\n",
    "\n",
    ":::{note}\n",
    "On the **content server** the process is:\n",
    "\n",
    "1. Open a new terminal from the launcher\n",
    "2. Change to root user `su` then enter the root password\n",
    "3. `sudo -H /opt/jupyterhib/bin/python3 -m pip install numpy`\n",
    "4. Wait until the install is complete; for security, user `compthink` is not in the `sudo` group\n",
    "5. Verify the install by trying to execute `import numpy` as above.\n",
    "\n",
    "The process will be similar on a Macintosh, or Windows.   Best is to hope you have a sucessful anaconda install.\n",
    ":::\n",
    "\n",
    "If you have to do this kind of install, you will have to do some reading, some references I find useful are:\n",
    "1. https://jupyterlab.readthedocs.io/en/stable/user/extensions.html\n",
    "2. https://www.pugetsystems.com/labs/hpc/Note-How-To-Install-JupyterHub-on-a-Local-Server-1673/#InstallJupyterHub\n",
    "3. https://jupyterhub.readthedocs.io/en/stable/installation-guide-hard.html (This is the approach on the content server which has a functioning JupyterHub)\n",
    "\n",
    ":::{note}\n",
    "The conda installer is accessed using the conda powershell prompt, accessed from Anaconda Navigator.  \n",
    "\n",
    "Here are some useful videos:\n",
    "\n",
    "- [Conda and Pip Installer(s)](https://www.youtube.com/watch?v=Z_Kxg-EYvxM)\n",
    "- [Conda package manager](https://www.youtube.com/watch?v=JQtppspwtHE)\n",
    "- [Conda environments](https://www.youtube.com/watch?v=KBC3oc0VK0g)\n",
    "- [Anaconda environment - Conda package manager](https://www.youtube.com/watch?v=PPKj9ic5MmI)\n",
    "\n",
    ":::\n",
    "\n",
    "---\n"
   ]
  },
  {
   "cell_type": "markdown",
   "metadata": {},
   "source": [
    "## NumPy: AKA Numerical Python\n",
    "\n",
    "NumPy is a foundational library (module) for scientific computing.  Most if not all all data science libraries (modules) rely on NumPy as one of their building blocks to reduce the need to build certain operations in primative python.\n",
    "\n",
    "NumPy provides a multi-dimensional array object called ‘ndarray’ (n-dimensional array) and methods for:\n",
    "- Computations with arrays and mathematical operations between arrays (array-by-array and element-by-element)\n",
    "- Linear algebra operations \n",
    "- Psuedo random number generation\n",
    "\n",
    "As compared to the prior lesson, multi-dimensional arrays (lists) are far easier to manipulate using numpy."
   ]
  },
  {
   "cell_type": "markdown",
   "metadata": {},
   "source": [
    "--- \n",
    "\n",
    "### Arrays\n",
    "A numpy array is a grid of values, all of the same type, and is indexed by a tuple of nonnegative integers. The number of dimensions is the rank of the array; the shape of an array is a tuple of integers giving the size of the array along each dimension. \n",
    "\n",
    "The figure below is a visual depiction of numpy arrays of rank 1 and rank2.\n",
    "\n",
    "<img src=\"http://54.243.252.9/engr-1330-webroot/1-Lessons/Lesson09/numpyarray.png\" width=\"500\">\n",
    "\n",
    "In other words, an array contains information about the raw data, how to locate an element and how to interpret an element.To make a numpy array, you can just use the `np.array()` function. All you need to do is pass a list to it. Don’t forget that, in order to work with the `np.array()` function, you need to make sure that the `numpy` library is present in your environment.\n",
    "If you want to read more about the differences between a Python list and NumPy array, this link is recommended:\n",
    "[https://webcourses.ucf.edu/courses/1249560/pages/python-lists-vs-numpy-arrays-what-is-the-difference](https://webcourses.ucf.edu/courses/1249560/pages/python-lists-vs-numpy-arrays-what-is-the-difference)\n"
   ]
  },
  {
   "cell_type": "markdown",
   "metadata": {},
   "source": [
    "---\n",
    "\n",
    "### Example- 1D Arrays (Vectors)\n",
    "Let's create a 1D array from the 2000s (2000-2009): "
   ]
  },
  {
   "cell_type": "code",
   "execution_count": 2,
   "metadata": {},
   "outputs": [
    {
     "data": {
      "text/plain": [
       "list"
      ]
     },
     "execution_count": 2,
     "metadata": {},
     "output_type": "execute_result"
    }
   ],
   "source": [
    "import numpy             #First, we need to impoty \"numpy\"\n",
    "mylist = [2000,2001,2002,2003,2004,2005,2006,2007,2008,2009]         #Create a list of the years\n",
    "type(mylist)"
   ]
  },
  {
   "cell_type": "code",
   "execution_count": 3,
   "metadata": {},
   "outputs": [
    {
     "name": "stdout",
     "output_type": "stream",
     "text": [
      "[2000, 2001, 2002, 2003, 2004, 2005, 2006, 2007, 2008, 2009]\n"
     ]
    }
   ],
   "source": [
    "print(mylist)                 #Check how it looks"
   ]
  },
  {
   "cell_type": "code",
   "execution_count": 4,
   "metadata": {},
   "outputs": [
    {
     "data": {
      "text/plain": [
       "numpy.ndarray"
      ]
     },
     "execution_count": 4,
     "metadata": {},
     "output_type": "execute_result"
    }
   ],
   "source": [
    "mylist = numpy.array(mylist)              #Type cast it as a numpy array\n",
    "type(mylist)"
   ]
  },
  {
   "cell_type": "code",
   "execution_count": 5,
   "metadata": {},
   "outputs": [
    {
     "name": "stdout",
     "output_type": "stream",
     "text": [
      "[2000 2001 2002 2003 2004 2005 2006 2007 2008 2009]\n"
     ]
    }
   ],
   "source": [
    "print(mylist) "
   ]
  },
  {
   "cell_type": "code",
   "execution_count": 6,
   "metadata": {},
   "outputs": [
    {
     "data": {
      "text/plain": [
       "list"
      ]
     },
     "execution_count": 6,
     "metadata": {},
     "output_type": "execute_result"
    }
   ],
   "source": [
    "my2dlist = [[1,2,3],[4,5,6],[7,8,9]]\n",
    "type(my2dlist)"
   ]
  },
  {
   "cell_type": "code",
   "execution_count": 7,
   "metadata": {},
   "outputs": [
    {
     "name": "stdout",
     "output_type": "stream",
     "text": [
      "[[1, 2, 3], [4, 5, 6], [7, 8, 9]]\n"
     ]
    }
   ],
   "source": [
    "print(my2dlist) "
   ]
  },
  {
   "cell_type": "code",
   "execution_count": 8,
   "metadata": {},
   "outputs": [
    {
     "data": {
      "text/plain": [
       "numpy.ndarray"
      ]
     },
     "execution_count": 8,
     "metadata": {},
     "output_type": "execute_result"
    }
   ],
   "source": [
    "my2dlist= numpy.array(my2dlist)   #Type cast it as a numpy array\n",
    "type(mylist)"
   ]
  },
  {
   "cell_type": "code",
   "execution_count": 9,
   "metadata": {},
   "outputs": [
    {
     "name": "stdout",
     "output_type": "stream",
     "text": [
      "[[1 2 3]\n",
      " [4 5 6]\n",
      " [7 8 9]]\n"
     ]
    }
   ],
   "source": [
    "print(my2dlist)"
   ]
  },
  {
   "cell_type": "code",
   "execution_count": 10,
   "metadata": {},
   "outputs": [
    {
     "data": {
      "text/plain": [
       "3"
      ]
     },
     "execution_count": 10,
     "metadata": {},
     "output_type": "execute_result"
    }
   ],
   "source": [
    "len(my2dlist)  #how many rows"
   ]
  },
  {
   "cell_type": "code",
   "execution_count": 11,
   "metadata": {},
   "outputs": [
    {
     "data": {
      "text/plain": [
       "3"
      ]
     },
     "execution_count": 11,
     "metadata": {},
     "output_type": "execute_result"
    }
   ],
   "source": [
    "len(my2dlist[0])  #how many columns"
   ]
  },
  {
   "cell_type": "code",
   "execution_count": 12,
   "metadata": {},
   "outputs": [
    {
     "data": {
      "text/plain": [
       "(3, 3)"
      ]
     },
     "execution_count": 12,
     "metadata": {},
     "output_type": "execute_result"
    }
   ],
   "source": [
    "numpy.shape(my2dlist) # using the shape method"
   ]
  },
  {
   "cell_type": "markdown",
   "metadata": {},
   "source": [
    "---\n",
    "\n",
    "### Example: n-Dimensional Arrays\n",
    "\n",
    "We already made a 3X3 array, but let's create a 5x2 array from the 2000s (2000-2009):"
   ]
  },
  {
   "cell_type": "code",
   "execution_count": 13,
   "metadata": {},
   "outputs": [
    {
     "name": "stdout",
     "output_type": "stream",
     "text": [
      "[[2000, 2001], [2002, 2003], [2004, 2005], [2006, 2007], [2008, 2009]]\n",
      "(5, 2)\n",
      "[[2000 2001]\n",
      " [2002 2003]\n",
      " [2004 2005]\n",
      " [2006 2007]\n",
      " [2008 2009]]\n"
     ]
    }
   ],
   "source": [
    "myotherlist = [[2000,2001],[2002,2003],[2004,2005],[2006,2007],[2008,2009]]     #Since I want a 5x2 array, I should group the years two by two\n",
    "print(myotherlist)             #See how it looks as a list\n",
    "print(numpy.shape(myotherlist)) #check the shape\n",
    "print(numpy.array(myotherlist)   )       #See how it looks as a numpy array"
   ]
  },
  {
   "cell_type": "markdown",
   "metadata": {},
   "source": [
    "---\n",
    "\n",
    "#### Array Arithmetic\n",
    "Once you have created the arrays, you can do basic Numpy operations. Numpy offers a variety of operations applicable on arrays. From basic operations such as summation, subtraction, multiplication and division to more advanced and essential operations such as matrix multiplication and other elementwise operations. In the examples below, we will go over some of these:\n"
   ]
  },
  {
   "cell_type": "markdown",
   "metadata": {},
   "source": [
    "---\n",
    "\n",
    "### Example- 1D Array Arithmetic\n",
    "- Define a 1D array with [0,12,24,36,48,60,72,84,96]\n",
    "\n",
    "Lets do scalar multiplication, first as just a list!"
   ]
  },
  {
   "cell_type": "markdown",
   "metadata": {},
   "source": [
    "```\n",
    "# interactive cell - copy/paste into a notebook to run\n",
    "victorVector = [0,12,24,36,48,60,72,84,96]\n",
    "MyScalar = input(\"Enter scalar value \\n\")\n",
    "MyScalar = float(MyScalar)  # force a float\n",
    "# now perform element-by-element multiplication\n",
    "for i in range(0,len(victorVector),1):\n",
    "    victorVector[i] = MyScalar * victorVector[i] # this will change contents of amatrix\n",
    "print(victorVector)\n",
    "```"
   ]
  },
  {
   "cell_type": "markdown",
   "metadata": {},
   "source": [
    "Now using numpy"
   ]
  },
  {
   "cell_type": "code",
   "execution_count": 14,
   "metadata": {},
   "outputs": [
    {
     "name": "stdout",
     "output_type": "stream",
     "text": [
      "[ 0 12 24 36 48 60 72 84 96]\n"
     ]
    }
   ],
   "source": [
    "import numpy         #import numpy\n",
    "Array1 = numpy.array([0,12,24,36,48,60,72,84,96])     #Step1: Define Array1\n",
    "print(Array1)"
   ]
  },
  {
   "cell_type": "markdown",
   "metadata": {},
   "source": [
    "- Multiply all elements by scalar value (scalar multiplication), print result, leave array unchanged"
   ]
  },
  {
   "cell_type": "markdown",
   "metadata": {},
   "source": [
    "```\n",
    "# interactive cell - cut/paste into a notebook to run\n",
    "MyScalar = input(\"Enter scalar value \\n\")\n",
    "MyScalar = float(MyScalar)  # force a float\n",
    "# now perform element-by-element multiplication\n",
    "print(Array1*MyScalar)     #Step2: Multiple all elements by 2\n",
    "```"
   ]
  },
  {
   "cell_type": "markdown",
   "metadata": {},
   "source": [
    "- Take all elements to the power of 2"
   ]
  },
  {
   "cell_type": "code",
   "execution_count": 15,
   "metadata": {},
   "outputs": [
    {
     "name": "stdout",
     "output_type": "stream",
     "text": [
      "[   0  144  576 1296 2304 3600 5184 7056 9216]\n"
     ]
    }
   ],
   "source": [
    "print(Array1**2)     #Step3: Take all elements to the power of 2"
   ]
  },
  {
   "cell_type": "code",
   "execution_count": 16,
   "metadata": {},
   "outputs": [
    {
     "name": "stdout",
     "output_type": "stream",
     "text": [
      "[   0  144  576 1296 2304 3600 5184 7056 9216]\n"
     ]
    }
   ],
   "source": [
    "print(numpy.power(Array1,2)) #Another way to do the same thing, by using a function in numpy"
   ]
  },
  {
   "cell_type": "markdown",
   "metadata": {},
   "source": [
    "- Find the maximum value of the array and its position"
   ]
  },
  {
   "cell_type": "code",
   "execution_count": 17,
   "metadata": {},
   "outputs": [
    {
     "name": "stdout",
     "output_type": "stream",
     "text": [
      "96\n"
     ]
    }
   ],
   "source": [
    "print(numpy.max(Array1))     #Step4: Find the maximum value of the array"
   ]
  },
  {
   "cell_type": "code",
   "execution_count": 18,
   "metadata": {},
   "outputs": [
    {
     "name": "stdout",
     "output_type": "stream",
     "text": [
      "8\n"
     ]
    }
   ],
   "source": [
    "print(numpy.argmax(Array1))     ##Step4: Find the postition of the maximum value "
   ]
  },
  {
   "cell_type": "markdown",
   "metadata": {},
   "source": [
    "- Find the minimum value of the array and its position"
   ]
  },
  {
   "cell_type": "code",
   "execution_count": 19,
   "metadata": {},
   "outputs": [
    {
     "name": "stdout",
     "output_type": "stream",
     "text": [
      "0"
     ]
    },
    {
     "name": "stdout",
     "output_type": "stream",
     "text": [
      "\n"
     ]
    }
   ],
   "source": [
    "print(numpy.min(Array1))     #Step5: Find the minimum value of the array"
   ]
  },
  {
   "cell_type": "code",
   "execution_count": 20,
   "metadata": {},
   "outputs": [
    {
     "name": "stdout",
     "output_type": "stream",
     "text": [
      "0\n"
     ]
    }
   ],
   "source": [
    "print(numpy.argmin(Array1))     ##Step5: Find the postition of the minimum value "
   ]
  },
  {
   "cell_type": "markdown",
   "metadata": {},
   "source": [
    "- Define another 1D array with [-12,0,12,24,36,48,60,72,84]"
   ]
  },
  {
   "cell_type": "code",
   "execution_count": 21,
   "metadata": {
    "collapsed": false,
    "jupyter": {
     "outputs_hidden": false
    }
   },
   "outputs": [
    {
     "name": "stdout",
     "output_type": "stream",
     "text": [
      "[-12   0  12  24  36  48  60  72  84]\n"
     ]
    }
   ],
   "source": [
    "Array2 = numpy.array([-12,0,12,24,36,48,60,72,84])     #Step6: Define Array2\n",
    "print(Array2)"
   ]
  },
  {
   "cell_type": "markdown",
   "metadata": {},
   "source": [
    "- Find the element-by-element sum and difference of these two arrays"
   ]
  },
  {
   "cell_type": "code",
   "execution_count": 22,
   "metadata": {},
   "outputs": [
    {
     "name": "stdout",
     "output_type": "stream",
     "text": [
      "[-12  12  36  60  84 108 132 156 180]\n",
      "[12 12 12 12 12 12 12 12 12]\n"
     ]
    }
   ],
   "source": [
    "print(Array1+Array2)         #Step7: Sum of two arrays\n",
    "print(Array1-Array2)         #Step7: Difference of two arrays"
   ]
  },
  {
   "cell_type": "markdown",
   "metadata": {},
   "source": [
    "- Element-by-element multiplication of these two arrays"
   ]
  },
  {
   "cell_type": "code",
   "execution_count": 23,
   "metadata": {},
   "outputs": [
    {
     "name": "stdout",
     "output_type": "stream",
     "text": [
      "[   0    0  288  864 1728 2880 4320 6048 8064]\n"
     ]
    }
   ],
   "source": [
    "print(Array1*Array2)         #Step8: Find the multiplication of these two arrays"
   ]
  },
  {
   "cell_type": "markdown",
   "metadata": {},
   "source": [
    "---\n",
    "\n",
    "### Example- n-Dimensional Array Arithmetic\n",
    "- Define a 2x2 array with [5,10,15,20]"
   ]
  },
  {
   "cell_type": "code",
   "execution_count": 24,
   "metadata": {},
   "outputs": [
    {
     "name": "stdout",
     "output_type": "stream",
     "text": [
      "[[ 5 10]\n",
      " [15 20]]\n"
     ]
    }
   ],
   "source": [
    "import numpy         #import numpy\n",
    "Array1 = numpy.array([[5,10],[15,20]])     #Step1: Define Array1\n",
    "print(Array1)"
   ]
  },
  {
   "cell_type": "markdown",
   "metadata": {},
   "source": [
    "- Define another 2x2 array with [3,6,9,12]"
   ]
  },
  {
   "cell_type": "code",
   "execution_count": 25,
   "metadata": {},
   "outputs": [
    {
     "name": "stdout",
     "output_type": "stream",
     "text": [
      "[[ 3  6]\n",
      " [ 9 12]]\n"
     ]
    }
   ],
   "source": [
    "Array2 = numpy.array([[3,6],[9,12]])     #Step2: Define Array2\n",
    "print(Array2)"
   ]
  },
  {
   "cell_type": "markdown",
   "metadata": {},
   "source": [
    "- Find the sum and difference of these two arrays"
   ]
  },
  {
   "cell_type": "code",
   "execution_count": 26,
   "metadata": {},
   "outputs": [
    {
     "name": "stdout",
     "output_type": "stream",
     "text": [
      "[[ 8 16]\n",
      " [24 32]]\n",
      "[[2 4]\n",
      " [6 8]]\n"
     ]
    }
   ],
   "source": [
    "print(Array1+Array2)     #Step3: Find the summation\n",
    "print(Array1-Array2)     #Step3: Find the subtraction"
   ]
  },
  {
   "cell_type": "markdown",
   "metadata": {},
   "source": [
    "- Find the minimum number in the multiplication of these two arrays"
   ]
  },
  {
   "cell_type": "code",
   "execution_count": 27,
   "metadata": {},
   "outputs": [
    {
     "name": "stdout",
     "output_type": "stream",
     "text": [
      "[[105 150]\n",
      " [225 330]]\n",
      "[[105 150]\n",
      " [225 330]]\n",
      "105\n"
     ]
    }
   ],
   "source": [
    "MultArray = Array1@Array2         #Step4: To perform a typical matrix multiplication (or matrix product)\n",
    "print(MultArray)\n",
    "MultArray1 = Array1.dot(Array2)         #Step4: Another way To perform a  matrix multiplication\n",
    "print(MultArray1)\n",
    "print(numpy.min(MultArray))     #Step4: Find the minimum value of the multiplication"
   ]
  },
  {
   "cell_type": "markdown",
   "metadata": {},
   "source": [
    "Recall how we have to do the same if using ordinary lists, just for the first line in the block above:"
   ]
  },
  {
   "cell_type": "code",
   "execution_count": 28,
   "metadata": {},
   "outputs": [
    {
     "name": "stdout",
     "output_type": "stream",
     "text": [
      "[105, 150]\n",
      "[225, 330]\n"
     ]
    }
   ],
   "source": [
    "amatrix = [[5,10],[15,20]]\n",
    "bmatrix = [[3,6],[9,12]]\n",
    "cmatrix = [[0 for j in range(len(bmatrix[0]))] for i in range(len(amatrix))] # 2D list to receive input; explicit sizing\n",
    "# now for the multiplication\n",
    "for i in range(0,len(amatrix)):\n",
    "    for j in range(0,len(bmatrix[0])):\n",
    "        for k in range(0,len(amatrix[0])):\n",
    "            cmatrix[i][j]=cmatrix[i][j]+amatrix[i][k]*bmatrix[k][j]\n",
    "for i in range(len(cmatrix)): # print by row\n",
    "    print(cmatrix[i][:])"
   ]
  },
  {
   "cell_type": "markdown",
   "metadata": {},
   "source": [
    "There is considerable savings in code crafting using numpy; hence its popularity and utility.\n",
    "\n",
    "- Find the position of the maximum in the multiplication of these two arrays"
   ]
  },
  {
   "cell_type": "code",
   "execution_count": 29,
   "metadata": {},
   "outputs": [
    {
     "name": "stdout",
     "output_type": "stream",
     "text": [
      "3\n"
     ]
    }
   ],
   "source": [
    "print(numpy.argmax(MultArray))     ##Step5: Find the postition of the maximum value "
   ]
  },
  {
   "cell_type": "markdown",
   "metadata": {},
   "source": [
    "- Find the mean of the multiplication of these two arrays\n",
    "- Find the mean of the first row of the multiplication of these two arrays"
   ]
  },
  {
   "cell_type": "code",
   "execution_count": 30,
   "metadata": {
    "collapsed": false,
    "jupyter": {
     "outputs_hidden": false
    }
   },
   "outputs": [
    {
     "name": "stdout",
     "output_type": "stream",
     "text": [
      "202.5\n",
      "127.5\n"
     ]
    }
   ],
   "source": [
    "print(numpy.mean(MultArray))     ##Step6: Find the mean of the multiplication of these two arrays \n",
    "print(numpy.mean(MultArray[0,:]))     ##Step7: Find the mean of the first row of the multiplication of these two arrays "
   ]
  },
  {
   "cell_type": "markdown",
   "metadata": {},
   "source": [
    "Other functions to create NumPy arrays easily\n",
    "\n",
    "- `arange( )`: Returns evenly spaced array elements \n",
    "- `linspace( )`: Returns evenly spaced array elements \n",
    "- `zeros( )`: Returns an array of zeros\n",
    "- `ones( )`: Returns an array of ones\n",
    "- `random.randint(.)`: Returns random integers\n",
    "\n",
    "Functions to do basic operations on NumPy arrays\n",
    "\n",
    "- `min( )`: Returns minimum value in an array\n",
    "- `max( )`: Returns maximum value in an array\n",
    "- `argmin( )`: Returns minimum value position in an array\n",
    "- `argmax( )`: Returns maximum value position in an array \n",
    "- `reshape( )`: Reshaping an array to a specific shape\n",
    "- `sort( )`: Sorting an array in ascending order\n",
    "- `sum( )`: Summing the array elements (Demo)\n",
    "\n",
    "Functions to do mathematical operations on NumPy arrays\n",
    "\n",
    "- `sqrt( )`: Returns square root of array elements\n",
    "- `exp( )`: Returns exponential of array elements\n",
    "- `sin( )`: Returns trigonometric sine of array elements\n",
    "- `cos( )`: Returns trigonometric cosine of array elements \n",
    "- `log( )`: Returns natural logarithm of array elements\n",
    "- `log10( )`: Returns base 10 logarithm of array elements\n",
    "\n",
    "Indexing: An important step in manipulating and analyzing arrays\n",
    "- Conditional selection: Selecting array elements based on specific conditions typed using conditional operators\n",
    "- Copying: Use the copy( ) function to copy arrays and to preserve the original array\n",
    "\n",
    "There are linear algebra functions too, recall our matrices\n",
    "\n",
    "$$\n",
    "\\begin{gather}\n",
    "\\mathbf{A}=\n",
    "\\begin{pmatrix}\n",
    "2 & 3 \\\\\n",
    "4 & -3 \\\\\n",
    "\\end{pmatrix}\n",
    "\\end{gather}\n",
    "$$\n",
    "\n",
    "$$\n",
    "\\begin{gather}\n",
    "\\mathbf{A}^{-1}=\n",
    "\\begin{pmatrix}\n",
    "\\frac{1}{6} & \\frac{1}{6} \\\\\n",
    "~\\\\\n",
    "\\frac{2}{9} & -\\frac{1}{9} \\\\\n",
    "\\end{pmatrix}\n",
    "\\end{gather}\n",
    "$$\n",
    "\n",
    "We can get the inverse in numpy from:\n"
   ]
  },
  {
   "cell_type": "code",
   "execution_count": 31,
   "metadata": {},
   "outputs": [
    {
     "name": "stdout",
     "output_type": "stream",
     "text": [
      "[[1. 0.]\n",
      " [0. 1.]]\n",
      "[[ 2.  3.]\n",
      " [ 4. -3.]]\n"
     ]
    }
   ],
   "source": [
    "amatrix = [[2 ,  3 ],  # a and b are inverses of each other.\n",
    "           [4 , -3 ]]\n",
    "bmatrix = [[1/6 , 1/6 ],\n",
    "           [2/9 , -1/9]]  # if we invert b should get a back.\n",
    "amatrix = numpy.array(amatrix) # type cast to numpy arrays\n",
    "bmatrix = numpy.array(bmatrix)\n",
    "print(amatrix@bmatrix) # proof of inverse - should get identity\n",
    "print(numpy.linalg.inv(bmatrix)) # invert b, see if we get a  - sho 'nuff"
   ]
  },
  {
   "cell_type": "markdown",
   "metadata": {},
   "source": [
    "---\n",
    "\n",
    "## Arrays Comparison\n",
    "\n",
    "Comparing two NumPy arrays determines whether they are equivalent by checking if every element at each corresponding index are the same."
   ]
  },
  {
   "cell_type": "markdown",
   "metadata": {},
   "source": [
    "---\n",
    "\n",
    "### Example- 1D Array Comparison\n",
    "- Define a 1D array with [1.0,2.5,3.4,7,7]\n",
    "- Define another 1D array with [5.0/5.0,5.0/2,6.8/2,21/3,14/2]\n",
    "- Compare and see if the two arrays are equal\n",
    "- Define another 1D array with [6,1.4,2.2,7.5,7]\n",
    "- Compare and see if the first array is greater than or equal to the third array"
   ]
  },
  {
   "cell_type": "code",
   "execution_count": 32,
   "metadata": {
    "collapsed": false,
    "jupyter": {
     "outputs_hidden": false
    }
   },
   "outputs": [
    {
     "name": "stdout",
     "output_type": "stream",
     "text": [
      "[1.  2.5 3.4 7.  7. ]\n",
      "[1.  2.5 3.4 7.  7. ]\n",
      "[ True  True  True  True  True]\n",
      "[6.  1.4 2.2 7.5 7. ]\n",
      "[False  True  True False  True]\n"
     ]
    }
   ],
   "source": [
    "import numpy          #import numpy\n",
    "Array1 = numpy.array([1.0,2.5,3.4,7,7])     #Step1: Define Array1\n",
    "print(Array1)\n",
    "Array2 = numpy.array([5.0/5.0,5.0/2,6.8/2,21/3,14/2])     #Step2: Define Array1\n",
    "print(Array2)\n",
    "print(numpy.equal(Array1, Array2))             #Step3: Compare and see if the two arrays are equal\n",
    "Array3 = numpy.array([6,1.4,2.2,7.5,7])     #Step4: Define Array3\n",
    "print(Array3)\n",
    "print(numpy.greater_equal(Array1, Array3))             #Step3: Compare and see if the two arrays are equal\n"
   ]
  },
  {
   "cell_type": "markdown",
   "metadata": {},
   "source": [
    "---\n",
    "\n",
    "### Example n-Dimensional Array Comparison\n",
    "Using the numbers below:\n",
    "#### 4,9,23,39,40,55,68,72\n",
    "\n",
    "A) Create a 2x2 array with all the even numbers and print it out<br>\n",
    "B) Create a 2x2 array with all the odd numbers and print it out<br>\n",
    "C) Compare the two arrays using the \"less_equal\" function from numpy package\n",
    "---"
   ]
  },
  {
   "cell_type": "code",
   "execution_count": 33,
   "metadata": {
    "collapsed": false,
    "jupyter": {
     "outputs_hidden": false
    }
   },
   "outputs": [
    {
     "name": "stdout",
     "output_type": "stream",
     "text": [
      "[[ 4 40]\n",
      " [68 72]]"
     ]
    },
    {
     "name": "stdout",
     "output_type": "stream",
     "text": [
      "\n",
      "[[ 9 23]\n",
      " [39 55]]\n",
      "[[ True False]\n",
      " [False False]]\n"
     ]
    }
   ],
   "source": [
    "import numpy          #import numpy\n",
    "Array1 = numpy.array([[4,40],[68,72]])     #Step1: Define Array1\n",
    "print(Array1)\n",
    "Array2 = numpy.array([[9,23],[39,55]])     #Step2: Define Array2\n",
    "print(Array2)\n",
    "print(numpy.less_equal(Array1,Array2))\n"
   ]
  },
  {
   "cell_type": "markdown",
   "metadata": {},
   "source": [
    "---\n",
    "\n",
    "## Arrays Manipulation\n",
    "\n",
    "`numpy.copy()` allows us to create a copy of an array. This method is particularly useful when we need to manipulate an array while keeping an original copy in memory.\n",
    "\n",
    "The `numpy.delete()` function returns a new array with sub-arrays along an axis deleted. Let's have a look at the examples."
   ]
  },
  {
   "cell_type": "markdown",
   "metadata": {},
   "source": [
    "### Examples:  Copying and Deleting Arrays and Elements\n",
    "\n",
    "Below we will work a few examples.\n",
    "\n",
    "- Define a 1D array, named \"x\" with [1,2,3]"
   ]
  },
  {
   "cell_type": "code",
   "execution_count": 34,
   "metadata": {},
   "outputs": [
    {
     "name": "stdout",
     "output_type": "stream",
     "text": [
      "[1 2 3]\n"
     ]
    }
   ],
   "source": [
    "import numpy          #import numpy\n",
    "x = numpy.array([1,2,3])     #Step1: Define x\n",
    "print(x)"
   ]
  },
  {
   "cell_type": "markdown",
   "metadata": {},
   "source": [
    "- Assign \"y\" so that \"y=x\""
   ]
  },
  {
   "cell_type": "code",
   "execution_count": 35,
   "metadata": {},
   "outputs": [
    {
     "name": "stdout",
     "output_type": "stream",
     "text": [
      "[1 2 3]"
     ]
    },
    {
     "name": "stdout",
     "output_type": "stream",
     "text": [
      "\n"
     ]
    }
   ],
   "source": [
    "y = x                     #Step2: Assign y as y=x\n",
    "print(y)"
   ]
  },
  {
   "cell_type": "markdown",
   "metadata": {},
   "source": [
    "- Define \"z\" as a copy of \"x\""
   ]
  },
  {
   "cell_type": "code",
   "execution_count": 36,
   "metadata": {},
   "outputs": [
    {
     "name": "stdout",
     "output_type": "stream",
     "text": [
      "[1 2 3]\n"
     ]
    }
   ],
   "source": [
    "z = numpy.copy(x)    #Step3: Define z as a copy of x\n",
    "print(z)"
   ]
  },
  {
   "cell_type": "markdown",
   "metadata": {},
   "source": [
    "- Discuss the difference between y and z"
   ]
  },
  {
   "cell_type": "code",
   "execution_count": 37,
   "metadata": {},
   "outputs": [
    {
     "name": "stdout",
     "output_type": "stream",
     "text": [
      "x =  [1 2 3]\n",
      "y =  [1 2 3]\n",
      "z =  [1 2 3]\n"
     ]
    }
   ],
   "source": [
    "print('x = ',x)  # They look similar but ...\n",
    "print('y = ',y)\n",
    "print('z = ',z)"
   ]
  },
  {
   "cell_type": "markdown",
   "metadata": {},
   "source": [
    "now lets change a value in x, then print the contents again"
   ]
  },
  {
   "cell_type": "code",
   "execution_count": 38,
   "metadata": {},
   "outputs": [
    {
     "name": "stdout",
     "output_type": "stream",
     "text": [
      "x =  [100   2   3]\n",
      "y =  [100   2   3]\n",
      "z =  [1 2 3]\n"
     ]
    }
   ],
   "source": [
    "x[0] = 100\n",
    "print('x = ',x)  # For Step4: They look similar but ...\n",
    "print('y = ',y)\n",
    "print('z = ',z)"
   ]
  },
  {
   "cell_type": "markdown",
   "metadata": {},
   "source": [
    "Notice how x and y reflect the change, whats going on?  The assignment statement `y = x` creates equivalence in numpy; that is x and y are different names for the same object.  We can verify using the id() function which will return the address in memory of the head of the object."
   ]
  },
  {
   "cell_type": "code",
   "execution_count": 39,
   "metadata": {},
   "outputs": [
    {
     "name": "stdout",
     "output_type": "stream",
     "text": [
      " x object at hex address  0xffffa41a5e40\n",
      " y object at hex address  0xffffa41a5e40\n",
      " z object at hex address  0xffffa41a5670\n"
     ]
    }
   ],
   "source": [
    "print(' x object at hex address ',hex(id(x)))\n",
    "print(' y object at hex address ',hex(id(y)))\n",
    "print(' z object at hex address ',hex(id(z)))"
   ]
  },
  {
   "cell_type": "markdown",
   "metadata": {},
   "source": [
    "- Delete the second element of x"
   ]
  },
  {
   "cell_type": "code",
   "execution_count": 40,
   "metadata": {
    "collapsed": false,
    "jupyter": {
     "outputs_hidden": false
    }
   },
   "outputs": [
    {
     "name": "stdout",
     "output_type": "stream",
     "text": [
      "x =  [100   3]\n",
      "y =  [100   2   3]\n",
      "z =  [1 2 3]\n"
     ]
    }
   ],
   "source": [
    "x = numpy.delete(x, 1)      #Step5: Delete the second element of x, remember counting starts at zero\n",
    "print('x = ',x)  # For Step4: They look similar but ...\n",
    "print('y = ',y)\n",
    "print('z = ',z)"
   ]
  },
  {
   "cell_type": "code",
   "execution_count": 41,
   "metadata": {},
   "outputs": [
    {
     "name": "stdout",
     "output_type": "stream",
     "text": [
      " x object at hex address  0xffffa41a5ad0\n",
      " y object at hex address  0xffffa41a5e40\n",
      " z object at hex address  0xffffa41a5670\n"
     ]
    }
   ],
   "source": [
    "print(' x object at hex address ',hex(id(x))) # lets check the objects - now they are all different\n",
    "print(' y object at hex address ',hex(id(y)))\n",
    "print(' z object at hex address ',hex(id(z)))"
   ]
  },
  {
   "cell_type": "markdown",
   "metadata": {},
   "source": [
    "---\n",
    "\n",
    "## Sorting Arrays\n",
    "\n",
    "Sorting means putting elements in an ordered sequence. Ordered sequence is any sequence that has an order corresponding to elements, like numeric or alphabetical, ascending or descending. If you use the sort() method on a 2-D array, both arrays will be sorted.\n",
    "\n",
    "<!-- Recall the end of lesson on loops, showed some sorthing algorithms; some of which are implemented as part of numpy - as stated in that lesson, use the built-in methods unless you have a need to write the sorts in python primatives. -->\n"
   ]
  },
  {
   "cell_type": "markdown",
   "metadata": {},
   "source": [
    "---\n",
    "\n",
    "### Example:  Sorting 1D Arrays\n",
    "\n",
    "Define a 1D array as ['FIFA 2020','Red Dead Redemption','Fallout','GTA','NBA 2018','Need For Speed'] and print it out. Then, sort the array alphabetically._\n"
   ]
  },
  {
   "cell_type": "code",
   "execution_count": 42,
   "metadata": {
    "collapsed": false,
    "jupyter": {
     "outputs_hidden": false
    }
   },
   "outputs": [
    {
     "name": "stdout",
     "output_type": "stream",
     "text": [
      "['FIFA 2020' 'Red Dead Redemption' 'Fallout' 'GTA' 'NBA 2018'\n",
      " 'Need For Speed']\n",
      "['FIFA 2020' 'Fallout' 'GTA' 'NBA 2018' 'Need For Speed'\n",
      " 'Red Dead Redemption']\n"
     ]
    }
   ],
   "source": [
    "import numpy          #import numpy\n",
    "games = numpy.array(['FIFA 2020','Red Dead Redemption','Fallout','GTA','NBA 2018','Need For Speed'])\n",
    "print(games)\n",
    "print(numpy.sort(games))"
   ]
  },
  {
   "cell_type": "markdown",
   "metadata": {},
   "source": [
    "---\n",
    "\n",
    "### Example- Sorting n-Dimensional Arrays\n",
    "\n",
    "Define a 3x3 array with 17,-6,2,86,-12,0,0,23,12 and print it out. Then, sort the array."
   ]
  },
  {
   "cell_type": "code",
   "execution_count": 43,
   "metadata": {
    "collapsed": false,
    "jupyter": {
     "outputs_hidden": false
    }
   },
   "outputs": [
    {
     "name": "stdout",
     "output_type": "stream",
     "text": [
      "[[ 17  -6   2]\n",
      " [ 86 -12   0]\n",
      " [  0  23  12]]\n",
      "Along columns : \n",
      " [[  0 -12   0]\n",
      " [ 17  -6   2]\n",
      " [ 86  23  12]]\n",
      "Along rows : \n",
      " [[ -6   2  17]\n",
      " [-12   0  86]\n",
      " [  0  12  23]]\n",
      "Sorting by default : \n",
      " [[ -6   2  17]\n",
      " [-12   0  86]\n",
      " [  0  12  23]]\n",
      "Along None Axis : \n",
      " [-12  -6   0   0   2  12  17  23  86]\n"
     ]
    }
   ],
   "source": [
    "import numpy          #import numpy\n",
    "a = numpy.array([[17,-6,2],[86,-12,0],[0,23,12]])\n",
    "print(a)\n",
    "print (\"Along columns : \\n\", numpy.sort(a,axis = 0) ) #This will be sorting in each column\n",
    "print (\"Along rows : \\n\", numpy.sort(a,axis = 1) ) #This will be sorting in each row\n",
    "print (\"Sorting by default : \\n\", numpy.sort(a) )          #Same as above\n",
    "print (\"Along None Axis : \\n\", numpy.sort(a,axis = None) ) #This will be sorted like a 1D array"
   ]
  },
  {
   "cell_type": "markdown",
   "metadata": {},
   "source": [
    "---\n",
    "\n",
    "## Partitioning (Slice) Arrays\n",
    "\n",
    "Slicing in python means taking elements from one given index to another given index.\n",
    "\n",
    "- Slicing indices syntax: [start:end].\n",
    " - We can also define the step, like this: [start:end:step].\n",
    "  - If we don't pass start, default is 0\n",
    "  - If we don't pass end, default is the length of array in that dimension\n",
    "  - If we don't pass step, default is 1"
   ]
  },
  {
   "cell_type": "markdown",
   "metadata": {},
   "source": [
    "---\n",
    "\n",
    "### Example- Slicing 1D Arrays\n",
    "Define a 1D array as [1,3,5,7,9], slice out the [3,5,7] and print it out."
   ]
  },
  {
   "cell_type": "code",
   "execution_count": 44,
   "metadata": {
    "collapsed": false,
    "jupyter": {
     "outputs_hidden": false
    }
   },
   "outputs": [
    {
     "name": "stdout",
     "output_type": "stream",
     "text": [
      "[1 3 5 7 9]"
     ]
    },
    {
     "name": "stdout",
     "output_type": "stream",
     "text": [
      "\n",
      "[3 5 7]\n"
     ]
    }
   ],
   "source": [
    "import numpy          #import numpy\n",
    "a = numpy.array([1,3,5,7,9])     #Define the array\n",
    "print(a)\n",
    "aslice = a[1:4]             #slice the [3,5,7]\n",
    "print(aslice)               #print it out"
   ]
  },
  {
   "cell_type": "markdown",
   "metadata": {},
   "source": [
    "---\n",
    "\n",
    "### Example- Slicing n-Dimensional Arrays\n",
    "Define a 5x5 array with \"Superman, Batman, Jim Hammond, Captain America, Green Arrow, Aquaman, Wonder Woman, Martian Manhunter, Barry Allen, Hal Jordan, Hawkman, Ray Palmer, Spider Man, Thor, Hank Pym, Solar, Iron Man, Dr. Strange, Daredevil, Ted Kord, Captian Marvel, Black Panther, Wolverine, Booster Gold, Spawn \" and print it out. Then:\n",
    "- Slice the first column and print it out\n",
    "- Slice the third row and print it out\n",
    "- Slice 'Wolverine' and print it out\n",
    "- Slice a 3x3 array with 'Wonder Woman, Ray Palmer, Iron Man, Martian Manhunter, Spider Man, Dr. Strange, Barry Allen, Thor, Daredevil'"
   ]
  },
  {
   "cell_type": "code",
   "execution_count": 45,
   "metadata": {
    "collapsed": false,
    "jupyter": {
     "outputs_hidden": false
    }
   },
   "outputs": [
    {
     "name": "stdout",
     "output_type": "stream",
     "text": [
      "[['Superman' 'Batman' 'Jim Hammond' 'Captain America' 'Green Arrow']\n",
      " ['Aquaman' 'Wonder Woman' 'Martian Manhunter' 'Barry Allen' 'Hal Jordan']\n",
      " ['Hawkman' 'Ray Palmer' 'Spider Man' 'Thor' 'Hank Pym']\n",
      " ['Solar' 'Iron Man' 'Dr. Strange' 'Daredevil' 'Ted Kord']\n",
      " ['Captian Marvel' 'Black Panther' 'Wolverine' 'Booster Gold' 'Spawn']]\n",
      "['Superman' 'Aquaman' 'Hawkman' 'Solar' 'Captian Marvel']\n",
      "['Hawkman' 'Ray Palmer' 'Spider Man' 'Thor' 'Hank Pym']\n",
      "Wolverine\n",
      "[['Wonder Woman' 'Martian Manhunter' 'Barry Allen']\n",
      " ['Ray Palmer' 'Spider Man' 'Thor']\n",
      " ['Iron Man' 'Dr. Strange' 'Daredevil']]\n"
     ]
    }
   ],
   "source": [
    "import numpy          #import numpy\n",
    "Superheroes = numpy.array([['Superman', 'Batman', 'Jim Hammond', 'Captain America', 'Green Arrow'],\n",
    "               ['Aquaman', 'Wonder Woman', 'Martian Manhunter', 'Barry Allen', 'Hal Jordan'],\n",
    "               ['Hawkman', 'Ray Palmer', 'Spider Man', 'Thor', 'Hank Pym'],\n",
    "               ['Solar', 'Iron Man', 'Dr. Strange', 'Daredevil', 'Ted Kord'],\n",
    "               ['Captian Marvel', 'Black Panther', 'Wolverine', 'Booster Gold', 'Spawn']])\n",
    "print(Superheroes) #Step1\n",
    "print(Superheroes[:,0])\n",
    "print(Superheroes[2,:])\n",
    "print(Superheroes[4,2])\n",
    "print(Superheroes[1:4,1:4])"
   ]
  },
  {
   "cell_type": "markdown",
   "metadata": {},
   "source": [
    "---\n",
    "\n",
    "## Illustration of NumPy on a mechanics problem"
   ]
  },
  {
   "cell_type": "markdown",
   "metadata": {},
   "source": [
    "### Problem Statement\n",
    "\n",
    "The figure below is a simply supported, statically determinate truss with pin connections (zero moment transfer connections).   Find the forces in each member for the loading shown.\n",
    "\n",
    "<img src=\"http://54.243.252.9/engr-1330-webroot/1-Lessons/Lesson09/StaticTrussSketch.jpg\" width=\"500\" >\n",
    "\n",
    "This notebook will illustrate how to leverage a linear systems solver(s) to analyze the truss.  The approach uses concepts from statics and computational thinking.\n",
    "\n",
    "From statics\n",
    "\n",
    "- method of joints (for reactions and internal forcez)\n",
    "\n",
    "- direction cosines \n",
    "    \n",
    "From computational thinking\n",
    "\n",
    "- read input file\n",
    "\n",
    "- construct linear system $\\textbf{Ax=b}$; solve for $\\textbf{x}$\n",
    "\n",
    "- report results\n",
    "    "
   ]
  },
  {
   "cell_type": "markdown",
   "metadata": {},
   "source": [
    "Before even contemplating writing/using a program we need to build a mathematical model of the truss and assemble the system of linear equations that result from the model.  \n",
    "\n",
    "So the first step is to sketch a free-body-diagram as below and build a node naming convention and force names.\n",
    "\n",
    "<!--![](https://3.137.111.182/engr-1330-webroot/1-Lessons/Lesson07/OriginalPowerpoint/StaticTrussFBD.jpg)-->\n",
    "<img src=\"http://54.243.252.9/engr-1330-webroot/1-Lessons/Lesson09/StaticTrussFBD.jpg\" width=\"500\" >\n",
    "\n",
    "Next we will write the force balance for each of the six nodes ($N1$-$N6$), which will produce a total of 12 equations in the 12 unknowns (the 9 member forces, and 3 reactions).\n",
    "\n"
   ]
  },
  {
   "cell_type": "markdown",
   "metadata": {},
   "source": [
    "The figure below is the force balance for node $N1$, the two force equations (for the horizontal, $x$, direction and the vertical, $y$, direction) are listed below the figure.\n",
    "\n",
    "<!--![](https://3.137.111.182/engr-1330-webroot/1-Lessons/Lesson07/OriginalPowerpoint/Node1.jpg)-->\n",
    "<img src=\"http://54.243.252.9/engr-1330-webroot/1-Lessons/Lesson09/Node1.jpg\" width=\"200\" >\n",
    "\n",
    "$$\n",
    "\\begin{gather}\n",
    "\\begin{matrix}\n",
    "\\sum F_x = 0 = & +F_1cos(45) & + F_2 &  &  &  &  &  &  & + A_x &  &  & & & \\\\\n",
    "\\sum F_y = 0 = & +F_1sin(45) &  & &  &  &  &  &  &  &  & + A_y &  &  & \\\\\n",
    "\\end{matrix}\n",
    "\\end{gather}\n",
    "$$\n",
    "\n",
    "The equation above is the force balance equation pair for the node.  The $x$ component equation will later be named $N1_x$ to indicate it arises from Node 1, $x$ component equation.   A similar notation convention will also be adopted for the $y$ component equation.  There will be an equation pair for each node.\n"
   ]
  },
  {
   "cell_type": "markdown",
   "metadata": {},
   "source": [
    "Below is a sketch of the force balance for node $N2$, the two force equations (for the horizontal, $x$, direction and the vertical, $y$, direction) are listed below the figure.\n",
    "\n",
    "<!--![](https://3.137.111.182/engr-1330-webroot/1-Lessons/Lesson07/OriginalPowerpoint/Node2.jpg)-->\n",
    "<img src=\"http://54.243.252.9/engr-1330-webroot/1-Lessons/Lesson09/Node2.jpg\" width=\"200\" >\n",
    "\n",
    "$$\n",
    "\\begin{gather}\n",
    "\\begin{matrix}\n",
    "\\sum F_x = 0 = &  & -F_2 &  &  &  & +F_6 &  &  &  &  &  &  & & \\\\\n",
    "\\sum F_y = 0 =  &  &  & +F_3 &  &  &  &  &  &  &  &  &  & & \\\\\n",
    "\\end{matrix}\n",
    "\\end{gather}\n",
    "$$"
   ]
  },
  {
   "cell_type": "markdown",
   "metadata": {},
   "source": [
    "Below is a sketch of the force balance for node $N3$, the two force equations (for the horizontal, $x$, direction and the vertical, $y$, direction) are listed below the figure.\n",
    "\n",
    "<!-- ![](https://3.137.111.182/engr-1330-webroot/1-Lessons/Lesson07/OriginalPowerpoint/Node3.jpg) -->\n",
    "<img src=\"http://54.243.252.9/engr-1330-webroot/1-Lessons/Lesson09/Node3.jpg\" width=\"200\" >\n",
    "\n",
    "$$\n",
    "\\begin{gather}\n",
    "\\begin{matrix}\n",
    "\\sum F_x = 0 = &  &  &  &  & -F_5cos(30) & -F_6 & & +F_8 &  &  &  &  &  & \\\\\n",
    "\\sum F_y = 0 =  &  &  &  &  & F_5sin(30) &  & +F_7 &  &  &  &  &  &  & -P_3\\\\\n",
    "\\end{matrix}\n",
    "\\end{gather}\n",
    "$$\n",
    "\n",
    "Above is the force balance equation pair for node $N3$."
   ]
  },
  {
   "cell_type": "markdown",
   "metadata": {},
   "source": [
    "Below is a sketch of the force balance for node $N4$, the two force equations (for the horizontal, $x$, direction and the vertical, $y$, direction) are listed below the figure.\n",
    "\n",
    "<!-- ![](https://3.137.111.182/engr-1330-webroot/1-Lessons/Lesson07/OriginalPowerpoint/Node4.jpg) -->\n",
    "<img src=\"http://54.243.252.9/engr-1330-webroot/1-Lessons/Lesson09/Node4.jpg\" width=\"200\" >\n",
    "\n",
    "$$\n",
    "\\begin{gather}\n",
    "\\begin{matrix}\n",
    "\\sum F_x = 0 = &  &  &  &  &  &  &  & -F_8 & -F_9cos(45) &  &  &  &  & \\\\\n",
    "\\sum F_y = 0 =  &  &  &  &  &  &  &  &  & F_9sin(45) &  &  & +B_y  &  & \\\\\n",
    "\\end{matrix}\n",
    "\\end{gather}\n",
    "$$\n",
    "\n",
    "Above is the force balance equation pair for node $N4$."
   ]
  },
  {
   "cell_type": "markdown",
   "metadata": {},
   "source": [
    "Below is a sketch of the force balance for node $N5$, the two force equations (for the horizontal, $x$, direction and the vertical, $y$, direction) are listed below the figure.\n",
    "\n",
    "<!-- ![](https://3.137.111.182/engr-1330-webroot/1-Lessons/Lesson07/OriginalPowerpoint/Node5.jpg) -->\n",
    "<img src=\"http://54.243.252.9/engr-1330-webroot/1-Lessons/Lesson09/Node5.jpg\" width=\"200\" >\n",
    "\n",
    "$$\n",
    "\\begin{gather}\n",
    "\\begin{matrix}\n",
    "\\sum F_x = 0 = & -F_1cos(45) &  &   & +F_4 & +F_5cos(30) &  &  &  &  &  &  &  &  & \\\\\n",
    "\\sum F_y = 0 =  & -F_1sin(45) &  & -F_3 &   & -F_5sin(30) &  &  &  &  &  &  &  &  & -P_1\\\\\n",
    "\\end{matrix}\n",
    "\\end{gather}\n",
    "$$\n",
    "\n",
    "Above is the force balance equation pair for node $N5$."
   ]
  },
  {
   "cell_type": "markdown",
   "metadata": {},
   "source": [
    "Below is a sketch of the force balance for node $N6$, the two force equations (for the horizontal, $x$, direction and the vertical, $y$, direction) are listed below the figure.\n",
    "\n",
    "<!-- ![](https://3.137.111.182/engr-1330-webroot/1-Lessons/Lesson07/OriginalPowerpoint/Node6.jpg) -->\n",
    "<img src=\"http://54.243.252.9/engr-1330-webroot/1-Lessons/Lesson09/Node6.jpg\" width=\"200\" >\n",
    "\n",
    "$$\n",
    "\\begin{gather}\n",
    "\\begin{matrix}\n",
    "\\sum F_x = 0 = &  &  &  & -F_4 &  &  &  &  & F_9sin(45) &  &  &  &  & \\\\\n",
    "\\sum F_y = 0 =  &  &  &  &  &  &  & -F_7 &  & -F_9cos(45) &  &  &  &  & P_2\\\\\n",
    "\\end{matrix}\n",
    "\\end{gather}\n",
    "$$\n",
    "\n",
    "Above is the force balance equation pair for node $N6$.\n",
    "\n",
    "The next step is to gather the equation pairs into a system of linear equations.   \n",
    "We will move the known loads to the right hand side and essentially construct the matrix equation $\\mathbf{A}\\mathbf{x} = \\mathbf{b}$.   \n",
    "\n",
    "The system below is a matrix representation of the equation pairs with the forces moved to the right hand side $\\mathbf{b} = RHS$. \n",
    "\n",
    "$$\n",
    "\\begin{gather}\n",
    "\\begin{pmatrix}\n",
    "~ & F_1 & F_2 & F_3 & F_4 & F_5 & F_6 & F_7 & F_8 & F_9 & A_x & A_y & B_y & | & RHS\\\\\n",
    "\\hline\n",
    "N1_x & 0.707 & 1 & 0 & 0 & 0 & 0 & 0 & 0 & 0 & 1 & 0 & 0 & | & 0\\\\\n",
    "N1_y & 0.707 & 0 & 0 & 0 & 0 & 0 & 0 & 0 & 0 & 0 & 1 & 0 & | & 0\\\\\n",
    "N2_x & 0 & -1 & 0 & 0 & 0 & 1 & 0 & 0 & 0 & 0 & 0 & 0 & | & 0\\\\\n",
    "N2_y & 0 & 0 & 1 & 0 & 0 & 0 & 0 & 0 & 0 & 0 & 0 & 0 & | & 0\\\\\n",
    "N3_x & 0 & 0 & 0 & 0 & -0.866 & -1 & 0 & 1 & 0 & 0 & 0 & 0 & | & 0\\\\\n",
    "N3_y & 0 & 0 & 0 & 0 & 0.5 & 0 & 1 & 0 & 0 & 0 & 0 & 0 & | & P_3\\\\\n",
    "N4_x & 0 & 0 & 0 & 0 & 0 & 0 & 0 & -1 & -0.707 & 0 & 0 & 0 & | & 0\\\\\n",
    "N4_y & 0 & 0 & 0 & 0 & 0 & 0 & 0 & 0 & 0.707 & 0 & 0 & 0 & | & 0\\\\\n",
    "N5_x & -0.707 & 0 & 0 & 1 & 0.866 & 0 & 0 & 0 & 0 & 0 & 0 & 0 & | & 0\\\\\n",
    "N5_y & -0.707 & 0 & -1 & 0 & -0.5 & 0 & 0 & 0 & 0 & 0 & 0 & 0 & | & P_1\\\\\n",
    "N6_x & 0 & 0 & 0 & -1 & 0 & 0 & 0 & 0 & 0.707 & 0 & 0 & 0 & | & 0\\\\\n",
    "N6_y & 0 & 0 & 0 & 0 & 0 & 0 & -1 & 0 & -0.707 & 0 & 0 &  0 & | & -P_2\\\\\n",
    "\\end{pmatrix}\n",
    "\\end{gather}\n",
    "$$\n",
    "\n",
    "In the system, the rows are labeled on the left-most column with their node-related equation name.   \n",
    "Thus each row of the matrix corresponds to an equation derived from a node.   \n",
    "The columns are labeled with their respective unknown force (except the last column, which represents the right-hand-side of the system of linear equations).  \n",
    "Thus the coefficient in each column corresponds to a force in each node equation.   \n",
    "The sign of the coefficient refers to the assumed direction the force acts.   \n",
    "\n",
    "In the analysis all the members were assumed to be in tension (except for the reaction forces).   \n",
    "If a coefficient has a value of zero in a particular row, then that force does no act at the node to which the row corresponds.    "
   ]
  },
  {
   "cell_type": "markdown",
   "metadata": {},
   "source": [
    "From this representation the transition to the formal vector-matrix representation is straightforward. "
   ]
  },
  {
   "cell_type": "markdown",
   "metadata": {},
   "source": [
    "$$\n",
    "\\begin{gather}\n",
    "\\mathbf{A} =\n",
    "\\begin{pmatrix}\n",
    "0.707 & 1 & 0 & 0 & 0 & 0 & 0 & 0 & 0 & 1 & 0 & 0 \\\\\n",
    "0.707 & 0 & 0 & 0 & 0 & 0 & 0 & 0 & 0 & 0 & 1 & 0 \\\\\n",
    "0 & -1 & 0 & 0 & 0 & 1 & 0 & 0 & 0 & 0 & 0 & 0 \\\\\n",
    "0 & 0 & 1 & 0 & 0 & 0 & 0 & 0 & 0 & 0 & 0 & 0 \\\\\n",
    "0 & 0 & 0 & 0 & -0.866 & -1 & 0 & 1 & 0 & 0 & 0 & 0 \\\\\n",
    "0 & 0 & 0 & 0 & 0.5 & 0 & 1 & 0 & 0 & 0 & 0 & 0 \\\\\n",
    "0 & 0 & 0 & 0 & 0 & 0 & 0 & -1 & -0.707 & 0 & 0 & 0 \\\\\n",
    "0 & 0 & 0 & 0 & 0 & 0 & 0 & 0 & 0.707 & 0 & 0 & 0 \\\\\n",
    "-0.707 & 0 & 0 & 1 & 0.866 & 0 & 0 & 0 & 0 & 0 & 0 & 0 \\\\\n",
    "-0.707 & 0 & -1 & 0 & -0.5 & 0 & 0 & 0 & 0 & 0 & 0 & 0 \\\\\n",
    "0 & 0 & 0 & -1 & 0 & 0 & 0 & 0 & 0.707 & 0 & 0 & 0 \\\\\n",
    "0 & 0 & 0 & 0 & 0 & 0 & -1 & 0 & -0.707 & 0 & 0 &  0 \\\\\n",
    "\\end{pmatrix}\n",
    "\\end{gather}\n",
    "$$\n",
    "\n",
    "$$\n",
    "\\begin{gather}\n",
    "\\mathbf{x} =\n",
    "\\begin{pmatrix}\n",
    "F_1\\\\\n",
    "F_2\\\\\n",
    "F_3\\\\\n",
    "F_4\\\\\n",
    "F_5\\\\\n",
    "F_6\\\\\n",
    "F_7\\\\\n",
    "F_8\\\\\n",
    "F_9\\\\\n",
    "A_x\\\\\n",
    "A_y\\\\\n",
    "B_y\\\\\n",
    "\\end{pmatrix}\n",
    "\\end{gather}\n",
    "$$\n",
    "\n",
    "$$\n",
    "\\begin{gather}\n",
    "\\mathbf{b} =\n",
    "\\begin{pmatrix}\n",
    "0\\\\\n",
    "0\\\\\n",
    "0\\\\\n",
    "0\\\\\n",
    "0\\\\\n",
    "P_3\\\\\n",
    "0\\\\\n",
    "0\\\\\n",
    "0\\\\\n",
    "P_1\\\\\n",
    "0\\\\\n",
    "-P_2\\\\\n",
    "\\end{pmatrix}\n",
    "\\end{gather}\n",
    "$$\n",
    "\n",
    "The various matrices above are entere into text files named [A.txt](http://54.243.252.9/engr-1330-webroot/1-Lessons/Lesson09/A.txt) and [B.txt](http://54.243.252.9/engr-1330-webroot/1-Lessons/Lesson09/B.txt)"
   ]
  },
  {
   "cell_type": "code",
   "execution_count": 46,
   "metadata": {},
   "outputs": [
    {
     "name": "stdout",
     "output_type": "stream",
     "text": [
      "0.707106781\t1\t0\t0\t0\t0\t0\t0\t0\t1\t0\t0\r",
      "\r\n",
      "0.707106781\t0\t0\t0\t0\t0\t0\t0\t0\t0\t1\t0\r",
      "\r\n",
      "0\t-1\t0\t0\t0\t1\t0\t0\t0\t0\t0\t0\r",
      "\r\n",
      "0\t0\t1\t0\t0\t0\t0\t0\t0\t0\t0\t0\r",
      "\r\n",
      "0\t0\t0\t0\t-0.866\t-1\t0\t1\t0\t0\t0\t0\r",
      "\r\n",
      "0\t0\t0\t0\t0.5\t0\t1\t0\t0\t0\t0\t0\r",
      "\r\n",
      "0\t0\t0\t0\t0\t0\t0\t-1\t-0.707106781\t0\t0\t0\r",
      "\r\n",
      "0\t0\t0\t0\t0\t0\t0\t0\t0.707106781\t0\t0\t1\r",
      "\r\n",
      "-0.707106781\t0\t0\t1\t0.866\t0\t0\t0\t0\t0\t0\t0\r",
      "\r\n",
      "-0.707106781\t0\t-1\t0\t-0.5\t0\t0\t0\t0\t0\t0\t0\r",
      "\r\n",
      "0\t0\t0\t-1\t0\t0\t0\t0\t0.707106781\t0\t0\t0\r",
      "\r\n",
      "0\t0\t0\t0\t0\t0\t-1\t0\t-0.707106781\t0\t0\t0\r\n"
     ]
    }
   ],
   "source": [
    "# list contents of the A matrix, uses call to OS host\n",
    "#!(type A.txt) # windoze method\n",
    "!(cat A.txt) # linux, macOS"
   ]
  },
  {
   "cell_type": "code",
   "execution_count": 47,
   "metadata": {},
   "outputs": [
    {
     "name": "stdout",
     "output_type": "stream",
     "text": [
      "0.0\r",
      "\r\n",
      "0.0\r",
      "\r\n",
      "0.0\r",
      "\r\n",
      "0.0\r",
      "\r\n",
      "0.0\r",
      "\r\n",
      "500.0\r",
      "\r\n",
      "0.0\r",
      "\r\n",
      "0.0\r",
      "\r\n",
      "0.0\r",
      "\r\n",
      "1000.0\r",
      "\r\n",
      "0.0\r",
      "\r\n",
      "-500.0\r",
      "\r\n"
     ]
    }
   ],
   "source": [
    "# list contents of RHS or b vector\n",
    "#!(type B.txt) # winders method\n",
    "!(cat B.txt) # linux, macOS"
   ]
  },
  {
   "cell_type": "markdown",
   "metadata": {},
   "source": [
    "Now we use our solver tools, here I have not done much on tidy output, thats left for the reader."
   ]
  },
  {
   "cell_type": "code",
   "execution_count": 48,
   "metadata": {},
   "outputs": [
    {
     "name": "stdout",
     "output_type": "stream",
     "text": [
      "row ranks same -- continuing operation\n",
      "[0.707106781, 1.0, 0.0, 0.0, 0.0, 0.0, 0.0, 0.0, 0.0, 1.0, 0.0, 0.0] 0.0\n",
      "[0.707106781, 0.0, 0.0, 0.0, 0.0, 0.0, 0.0, 0.0, 0.0, 0.0, 1.0, 0.0] 0.0\n",
      "[0.0, -1.0, 0.0, 0.0, 0.0, 1.0, 0.0, 0.0, 0.0, 0.0, 0.0, 0.0] 0.0\n",
      "[0.0, 0.0, 1.0, 0.0, 0.0, 0.0, 0.0, 0.0, 0.0, 0.0, 0.0, 0.0] 0.0\n",
      "[0.0, 0.0, 0.0, 0.0, -0.866, -1.0, 0.0, 1.0, 0.0, 0.0, 0.0, 0.0] 0.0\n",
      "[0.0, 0.0, 0.0, 0.0, 0.5, 0.0, 1.0, 0.0, 0.0, 0.0, 0.0, 0.0] 500.0\n",
      "[0.0, 0.0, 0.0, 0.0, 0.0, 0.0, 0.0, -1.0, -0.707106781, 0.0, 0.0, 0.0] 0.0\n",
      "[0.0, 0.0, 0.0, 0.0, 0.0, 0.0, 0.0, 0.0, 0.707106781, 0.0, 0.0, 1.0] 0.0\n",
      "[-0.707106781, 0.0, 0.0, 1.0, 0.866, 0.0, 0.0, 0.0, 0.0, 0.0, 0.0, 0.0] 0.0\n",
      "[-0.707106781, 0.0, -1.0, 0.0, -0.5, 0.0, 0.0, 0.0, 0.0, 0.0, 0.0, 0.0] 1000.0\n",
      "[0.0, 0.0, 0.0, -1.0, 0.0, 0.0, 0.0, 0.0, 0.707106781, 0.0, 0.0, 0.0] 0.0\n",
      "[0.0, 0.0, 0.0, 0.0, 0.0, 0.0, -1.0, 0.0, -0.707106781, 0.0, 0.0, 0.0] -500.0\n",
      "-----------------------------\n",
      "-1035.2710218174145\n",
      "732.0471596998927\n",
      "0.0\n",
      "-267.9528403001072\n",
      "-535.9056806002143\n",
      "732.0471596998927\n",
      "767.9528403001071\n",
      "267.95284030010714\n",
      "-378.94254092877543\n",
      "0.0\n",
      "732.0471596998927\n",
      "267.9528403001072\n",
      "-----------------------------\n"
     ]
    }
   ],
   "source": [
    "# LinearSolverPivot.py\n",
    "# linearsolver with pivoting adapted from \n",
    "# https://stackoverflow.com/questions/31957096/gaussian-elimination-with-pivoting-in-python/31959226\n",
    "\n",
    "def linearsolver(A,b):\n",
    "    n = len(A)\n",
    "    M = A # this is equivalence, A is destroyed by algorithm\n",
    "\n",
    "    i = 0\n",
    "    for x in M:\n",
    "     x.append(b[i])\n",
    "     i += 1\n",
    "\n",
    "    for k in range(n):\n",
    "     for i in range(k,n):\n",
    "       if abs(M[i][k]) > abs(M[k][k]):\n",
    "          M[k], M[i] = M[i],M[k]\n",
    "       else:\n",
    "          pass\n",
    "\n",
    "     for j in range(k+1,n):\n",
    "         q = float(M[j][k]) / M[k][k]\n",
    "         for m in range(k, n+1):\n",
    "            M[j][m] -=  q * M[k][m]\n",
    "\n",
    "    x = [0 for i in range(n)]\n",
    "\n",
    "    x[n-1] =float(M[n-1][n])/M[n-1][n-1]\n",
    "    for i in range (n-1,-1,-1):\n",
    "      z = 0\n",
    "      for j in range(i+1,n):\n",
    "          z = z  + float(M[i][j])*x[j]\n",
    "      x[i] = float(M[i][n] - z)/M[i][i]\n",
    "#    print (x)\n",
    "    return(x)\n",
    "\n",
    "amatrix = [] # null list to store matrix reads\n",
    "bvector = []\n",
    "rowNumA = 0\n",
    "colNumA = 0\n",
    "rowNumB = 0\n",
    "afile = open(\"A.txt\",\"r\")  # connect and read file for MATRIX A \n",
    "for line in afile:\n",
    "    amatrix.append([float(n) for n in line.strip().split()])\n",
    "    rowNumA += 1\n",
    "afile.close() # Disconnect the file\n",
    "colNumA = len(amatrix[0])\n",
    "afile = open(\"B.txt\",\"r\")  # connect and read file for MATRIX B \n",
    "for line in afile:\n",
    "    bvector.append(float(line))  # vector read different -- just float the line\n",
    "    rowNumB += 1\n",
    "afile.close() # Disconnect the file\n",
    "#print (bvector)\n",
    "if rowNumA != rowNumB:   # check the arrays\n",
    "    print (\"row ranks not same -- aborting now\")\n",
    "    quit()\n",
    "else:\n",
    "    print (\"row ranks same -- continuing operation\")\n",
    "# print all columns each row\n",
    "cmatrix = [[0 for j in range(colNumA)]for i in range(rowNumA)]\n",
    "dmatrix = [[0 for j in range(colNumA)]for i in range(rowNumA)]\n",
    "xvector = [0 for i in range(rowNumA)]\n",
    "dvector = [0 for i in range(rowNumA)]\n",
    "for i in range(0,rowNumA,1):\n",
    "    print (amatrix[i][0:colNumA], bvector[i])\n",
    "print (\"-----------------------------\")\n",
    "# copy amatrix into cmatrix\n",
    "cmatrix = [[amatrix[i][j] for j in range(colNumA)]for i in range(rowNumA)]\n",
    "dmatrix = [[amatrix[i][j] for j in range(colNumA)]for i in range(rowNumA)]\n",
    "dvector = [bvector[i] for i in range(rowNumA)]\n",
    "xvector = linearsolver(cmatrix,bvector) # send cmatrix the copy of amatrix; the solver destroys the inputs, hence the copies\n",
    "for i in range(0,rowNumA,1):\n",
    "    print (xvector[i])\n",
    "print (\"-----------------------------\")"
   ]
  },
  {
   "cell_type": "markdown",
   "metadata": {},
   "source": [
    "Now lets do the same tasks using numpy"
   ]
  },
  {
   "cell_type": "code",
   "execution_count": 49,
   "metadata": {},
   "outputs": [
    {
     "name": "stdout",
     "output_type": "stream",
     "text": [
      "-1035.2710218174143\n",
      "732.0471596998927\n",
      "0.0\n",
      "-267.95284030010714\n",
      "-535.9056806002143\n",
      "732.0471596998927\n",
      "767.9528403001071\n",
      "267.9528403001071\n",
      "-378.9425409287754\n",
      "-3.9202487786118276e-14\n",
      "732.0471596998927\n",
      "267.95284030010714\n"
     ]
    }
   ],
   "source": [
    "import numpy \n",
    "# already read in the arrays\n",
    "A = numpy.array(amatrix)\n",
    "Ainv = numpy.linalg.inv(A)\n",
    "b = numpy.array(bvector)\n",
    "x = Ainv@b\n",
    "for i in range(0,len(x)):\n",
    "    print(x[i])"
   ]
  },
  {
   "cell_type": "code",
   "execution_count": 50,
   "metadata": {},
   "outputs": [
    {
     "name": "stdout",
     "output_type": "stream",
     "text": [
      "-1035.2710218174143\n",
      "732.0471596998927\n",
      "0.0\n",
      "-267.95284030010714\n",
      "-535.9056806002143\n",
      "732.0471596998927\n",
      "767.9528403001071\n",
      "267.9528403001071\n",
      "-378.9425409287754\n",
      "-3.9202487786118276e-14\n",
      "732.0471596998927\n",
      "267.95284030010714\n"
     ]
    }
   ],
   "source": [
    "import numpy \n",
    "# need to read in the arrays\n",
    "A = numpy.loadtxt(\"A.txt\")\n",
    "b = numpy.loadtxt(\"B.txt\")\n",
    "Ainv = numpy.linalg.inv(A)\n",
    "x = Ainv@b\n",
    "for i in range(0,len(x)):\n",
    "    print(x[i])"
   ]
  },
  {
   "cell_type": "code",
   "execution_count": 51,
   "metadata": {},
   "outputs": [
    {
     "name": "stdout",
     "output_type": "stream",
     "text": [
      "-1035.2710218174145\n",
      "732.0471596998927\n",
      "0.0\n",
      "-267.9528403001072\n",
      "-535.9056806002143\n",
      "732.0471596998927\n",
      "767.9528403001071\n",
      "267.95284030010714\n",
      "-378.94254092877543\n",
      "-3.9202487786118276e-14\n",
      "732.0471596998927\n",
      "267.95284030010714\n"
     ]
    }
   ],
   "source": [
    "import numpy \n",
    "# need to read in the arrays\n",
    "A = numpy.loadtxt(\"A.txt\")\n",
    "b = numpy.loadtxt(\"B.txt\")\n",
    "x = numpy.linalg.solve(A,b) # avoid inversion and just solve the linear system \n",
    "for i in range(0,len(x)):\n",
    "    print(x[i])"
   ]
  },
  {
   "cell_type": "markdown",
   "metadata": {},
   "source": [
    "---\n",
    "\n",
    "## References\n",
    "Johnson, J. (2020). Python Numpy Tutorial (with Jupyter and Colab). Retrieved September 15, 2020, from https://cs231n.github.io/python-numpy-tutorial/ \n",
    "\n",
    "Willems, K. (2019). (Tutorial) Python NUMPY Array TUTORIAL. Retrieved September 15, 2020, from https://www.datacamp.com/community/tutorials/python-numpy-tutorial?utm_source=adwords_ppc\n",
    "\n",
    "Willems, K. (2017). NumPy Cheat Sheet: Data Analysis in Python. Retrieved September 15, 2020, from https://www.datacamp.com/community/blog/python-numpy-cheat-sheet\n",
    "\n",
    "W3resource. (2020). NumPy: Compare two given arrays. Retrieved September 15, 2020, from https://www.w3resource.com/python-exercises/numpy/python-numpy-exercise-28.php\n",
    "\n",
    "Sorting https://www.programiz.com/python-programming/methods/list/sort\n",
    "\n",
    "Overland, B. (2018). Python Without Fear. Addison-Wesley \n",
    "ISBN 978-0-13-468747-6. \n",
    "\n",
    "Grus, Joel (2015). Data Science from Scratch: First Principles with Python O’Reilly\n",
    "Media. Kindle Edition.\n",
    "\n",
    "Precord, C. (2010) wxPython 2.8 Application Development Cookbook Packt Publishing Ltd. Birmingham , B27 6PA, UK \n",
    "ISBN 978-1-849511-78-0."
   ]
  },
  {
   "cell_type": "markdown",
   "metadata": {},
   "source": [
    "---\n",
    "\n",
    "## Laboratory 9\n",
    "\n",
    "**Examine** (click) Laboratory 9 as a webpage at [Laboratory 9.html](http://54.243.252.9/engr-1330-webroot/8-Labs/Lab09/Lab09.html)\n",
    "\n",
    "**Download** (right-click, save target as ...) Laboratory 9 as a jupyterlab notebook from [Laboratory 9.ipynb](http://54.243.252.9/engr-1330-webroot/8-Labs/Lab09/Lab09.ipynb)\n"
   ]
  },
  {
   "cell_type": "markdown",
   "metadata": {},
   "source": [
    "<hr><hr>\n",
    "\n",
    "## Exercise Set 9\n",
    "\n",
    "**Examine** (click) Exercise Set 9 as a webpage at [Exercise 9.html](http://54.243.252.9/engr-1330-webroot/8-Labs/Lab09/Lab09-TH.html)\n",
    "\n",
    "**Download** (right-click, save target as ...) Exercise Set 9 as a jupyterlab notebook at  [Exercise Set 9.ipynb](http://54.243.252.9/engr-1330-webroot/8-Labs/Lab09/Lab09-TH.ipynb)\n",
    "\n"
   ]
  },
  {
   "cell_type": "code",
   "execution_count": null,
   "metadata": {},
   "outputs": [],
   "source": []
  }
 ],
 "metadata": {
  "kernelspec": {
   "display_name": "Python 3",
   "language": "python",
   "name": "python3"
  },
  "language_info": {
   "codemirror_mode": {
    "name": "ipython",
    "version": 3
   },
   "file_extension": ".py",
   "mimetype": "text/x-python",
   "name": "python",
   "nbconvert_exporter": "python",
   "pygments_lexer": "ipython3",
   "version": "3.8.10"
  }
 },
 "nbformat": 4,
 "nbformat_minor": 4
}