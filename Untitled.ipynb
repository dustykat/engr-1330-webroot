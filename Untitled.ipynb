{
 "cells": [
  {
   "cell_type": "markdown",
   "metadata": {},
   "source": [
    "# Outline"
   ]
  },
  {
   "cell_type": "markdown",
   "metadata": {},
   "source": [
    "1. variables, data type\n",
    "- integer\n",
    "- float\n",
    "- string"
   ]
  },
  {
   "cell_type": "markdown",
   "metadata": {},
   "source": [
    "2. expressions\n",
    "- assignment\n",
    "- evaluating arithmetic expressions\n",
    "- simple output: print()"
   ]
  },
  {
   "cell_type": "markdown",
   "metadata": {},
   "source": [
    "3. simple input\n",
    "- replacing assignment with input()\n",
    "- reading from an existing file"
   ]
  },
  {
   "cell_type": "markdown",
   "metadata": {},
   "source": [
    "4. mutable data structures \n",
    "- lists\n",
    "- tuples\n",
    "- name;position;value"
   ]
  },
  {
   "cell_type": "markdown",
   "metadata": {},
   "source": [
    "5. immutable data structures \n",
    "- dictionaries\n",
    "- name;position;value"
   ]
  },
  {
   "cell_type": "markdown",
   "metadata": {},
   "source": [
    "6. algorithm building blocks\n",
    "- sequence\n",
    "- selection\n",
    "- repetition"
   ]
  },
  {
   "cell_type": "markdown",
   "metadata": {},
   "source": [
    "7. selection structures \n",
    "- Inline IF\n",
    "- IF ... ELSE block\n",
    "- nested if structures"
   ]
  },
  {
   "cell_type": "markdown",
   "metadata": {},
   "source": [
    "8. count controlled repetition \n",
    "- FOR structures\n",
    "- selection based loop exit/skip\n",
    "- nested loop structures"
   ]
  },
  {
   "cell_type": "markdown",
   "metadata": {},
   "source": [
    "9. sentinel controlled repetition\n",
    "- WHILE structures \n",
    "- selection based loop exit/skip\n",
    "- nested loop structures"
   ]
  },
  {
   "cell_type": "markdown",
   "metadata": {},
   "source": [
    "10. file manipulation\n",
    "- write to an existing file\n",
    "- create new file\n",
    "- get a file from a URL"
   ]
  },
  {
   "cell_type": "markdown",
   "metadata": {},
   "source": [
    "11. functions\n",
    "- intrinsic\n",
    "- external (core: e.g. math)\n",
    "- user-defined; concept of a prototype function, variable scope"
   ]
  },
  {
   "cell_type": "markdown",
   "metadata": {},
   "source": [
    "12. external modules\n",
    "- saving a user-defined function to a file\n",
    "- importing the file\n",
    "- running a file as a script"
   ]
  },
  {
   "cell_type": "markdown",
   "metadata": {},
   "source": [
    "13. array processing\n",
    "- a type of list \n",
    "- using array\n",
    "- using numpy\n",
    "- matrix arithmetic"
   ]
  },
  {
   "cell_type": "markdown",
   "metadata": {},
   "source": [
    "14. database processing\n",
    "- records,fields\n",
    "- unique identifiers/keys\n",
    "- create, read, update, delete\n",
    "- using pandas"
   ]
  },
  {
   "cell_type": "markdown",
   "metadata": {},
   "source": [
    "15. visual display of data \n",
    "- plot types\n",
    "- plot conventions\n",
    "- using matplotlib"
   ]
  },
  {
   "cell_type": "markdown",
   "metadata": {},
   "source": []
  },
  {
   "cell_type": "markdown",
   "metadata": {},
   "source": []
  },
  {
   "cell_type": "markdown",
   "metadata": {},
   "source": []
  },
  {
   "cell_type": "markdown",
   "metadata": {},
   "source": []
  },
  {
   "cell_type": "code",
   "execution_count": 25,
   "metadata": {},
   "outputs": [
    {
     "name": "stdout",
     "output_type": "stream",
     "text": [
      "2625.0\n",
      "31500.0\n",
      "937.5\n",
      "17100.0\n"
     ]
    }
   ],
   "source": [
    "DirectSalaryCost = 1400\n",
    "FringeBenefitCost = 0.25*DirectSalaryCost\n",
    "TotalDSC = DirectSalaryCost+FringeBenefitCost\n",
    "TotalAwardCost = 1.5*TotalDSC\n",
    "print(round(TotalAwardCost,2))\n",
    "print(round(TotalAwardCost*12,2))\n",
    "FeeToStudent = 200. # 9 credit hours required plus other non-escapable costs\n",
    "WitholdingTax = 0.15*TotalDSC # Estimate, probably get this back with tax return\n",
    "ActualPay = DirectSalaryCost-FeeToStudent-WitholdingTax\n",
    "print(round(ActualPay,2))\n",
    "print(round(12*(TotalAwardCost-DirectSalaryCost+FeeToStudent),2))"
   ]
  },
  {
   "cell_type": "code",
   "execution_count": 13,
   "metadata": {},
   "outputs": [
    {
     "name": "stdout",
     "output_type": "stream",
     "text": [
      "612.5\n"
     ]
    }
   ],
   "source": []
  },
  {
   "cell_type": "code",
   "execution_count": null,
   "metadata": {},
   "outputs": [],
   "source": []
  }
 ],
 "metadata": {
  "kernelspec": {
   "display_name": "Python 3",
   "language": "python",
   "name": "python3"
  },
  "language_info": {
   "codemirror_mode": {
    "name": "ipython",
    "version": 3
   },
   "file_extension": ".py",
   "mimetype": "text/x-python",
   "name": "python",
   "nbconvert_exporter": "python",
   "pygments_lexer": "ipython3",
   "version": "3.8.10"
  }
 },
 "nbformat": 4,
 "nbformat_minor": 4
}
