{
 "cells": [
  {
   "cell_type": "markdown",
   "metadata": {},
   "source": [
    "Download this page as a jupyter notebook at [Lesson 4](http://54.243.252.9/engr-1330-webroot/1-Lessons/Lesson04/ENGR-1330-Lesson04.ipynb)"
   ]
  },
  {
   "cell_type": "markdown",
   "metadata": {},
   "source": [
    "# ENGR 1330 Computational Thinking with Data Science \n",
    "Copyright © 2021 Theodore G. Cleveland, Farhang Forghanparast, and Mona Rizvi\n",
    "\n",
    "Last GitHub Commit Date: 29 August 2021\n",
    "\n",
    "## Lesson 4 User Interaction:\n",
    "- The `input()` function\n",
    "- triple quotes\n",
    "- escape characters\n",
    "- The `print()` function\n",
    "\n",
    "---"
   ]
  },
  {
   "cell_type": "code",
   "execution_count": 36,
   "metadata": {},
   "outputs": [
    {
     "name": "stdout",
     "output_type": "stream",
     "text": [
      "atomickitty\n",
      "sensei\n",
      "/home/sensei/engr-1330-webroot/1-Lessons/Lesson04\n",
      "/opt/jupyterhub/bin/python3\n"
     ]
    }
   ],
   "source": [
    "# Script block to identify host, user, and kernel\n",
    "import sys\n",
    "! hostname; ! whoami; ! pwd; \n",
    "print(sys.executable)"
   ]
  },
  {
   "cell_type": "code",
   "execution_count": 37,
   "metadata": {},
   "outputs": [
    {
     "data": {
      "text/html": [
       "<!-- Script Block to set tables to left alignment -->\n",
       "<style>\n",
       "  table {margin-left: 0 !important;}\n",
       "</style>\n"
      ],
      "text/plain": [
       "<IPython.core.display.HTML object>"
      ]
     },
     "metadata": {},
     "output_type": "display_data"
    }
   ],
   "source": [
    "%%html\n",
    "<!-- Script Block to set tables to left alignment -->\n",
    "<style>\n",
    "  table {margin-left: 0 !important;}\n",
    "</style>"
   ]
  },
  {
   "cell_type": "markdown",
   "metadata": {},
   "source": [
    "---\n",
    "## Objectives\n",
    "\n",
    "1. Develop awareness of interactive inputs\n",
    "2. Implement interactive inputs to generalize solution tools \n",
    "3. Develop awareness of output formatting to improve readability\n",
    "4. Implement output formats\n"
   ]
  },
  {
   "cell_type": "markdown",
   "metadata": {},
   "source": [
    "---\n",
    "\n",
    "## Input and Output\n",
    "- *Useful* programs take input and generate output\n",
    " - Command-line interface\n",
    " - Graphical user interface (GUI)\n",
    " - Files\n",
    " - Network sources\n",
    " - Databases\n",
    " \n",
    "### User Interaction\n",
    "\n",
    "Until this point we have explicitly specified input values for variables (and constants) in a script; now lets leverage intrinsic functions that lets us makes use of variables. We’ll revisit earlier examples, but this time we’ll make them interactive. Instead of just computing and sending output, we want read into variables values that may change from time to time. In order to do that, our script needs to be able to prompt us for information and display them on the screen.\n",
    "\n",
    "This whole process is the essence of user interaction, and from the simple examples herein, one builds more complex scripts."
   ]
  },
  {
   "cell_type": "markdown",
   "metadata": {},
   "source": [
    "### Command-line input\n",
    "- Function `input(prompt)`\n",
    " - prints the *optional* prompt on the command line, the prompt can be a string variable, or just a string literal\n",
    " - waits for the user to type something\n",
    " - the text is sent to the program only after the user types enter/return\n",
    " - the entered data is always interpreted as text, *even if it's numeric*"
   ]
  },
  {
   "cell_type": "markdown",
   "metadata": {},
   "source": [
    "### About the `input()` function\n",
    "\n",
    "Consider the script below"
   ]
  },
  {
   "cell_type": "code",
   "execution_count": 38,
   "metadata": {},
   "outputs": [
    {
     "name": "stdin",
     "output_type": "stream",
     "text": [
      "What is your name ? Jimmy Johns\n"
     ]
    },
    {
     "name": "stdout",
     "output_type": "stream",
     "text": [
      "Jimmy Johns\n"
     ]
    }
   ],
   "source": [
    "MyName=input('What is your name ?')\n",
    "print(MyName)"
   ]
  },
  {
   "cell_type": "markdown",
   "metadata": {},
   "source": [
    "The `input` method sent the string 'What is your name ?' to the screen, and then waited for the user to reply.  Upon reply, the input supplied was captured and then placed into the variable named `MyName`. \n",
    "\n",
    "Then the next statement, used the `print()` method to print the contents of `MyName` back to the screen.  From this simple structure we can create quite useful input and output. \n",
    "\n",
    "As a matter of good practice, we should explicitly type the input variable, as shown below which takes the input stream and converts it into a string."
   ]
  },
  {
   "cell_type": "code",
   "execution_count": 39,
   "metadata": {},
   "outputs": [
    {
     "name": "stdin",
     "output_type": "stream",
     "text": [
      "What is your name ? Taco Bell\n"
     ]
    },
    {
     "name": "stdout",
     "output_type": "stream",
     "text": [
      "Taco Bell\n"
     ]
    }
   ],
   "source": [
    "MyName=str(input('What is your name ?'))\n",
    "print(MyName)"
   ]
  },
  {
   "cell_type": "markdown",
   "metadata": {},
   "source": [
    "Below we prompt for a second input, in this case the user's age, which will be put into an integer.  As a sdie note, we are not error checking, so if an input stream that cannot be made into an integer is suppplied we will get an exception warning or an error message."
   ]
  },
  {
   "cell_type": "code",
   "execution_count": 40,
   "metadata": {},
   "outputs": [
    {
     "name": "stdin",
     "output_type": "stream",
     "text": [
      "How old are you ?  66\n"
     ]
    },
    {
     "name": "stdout",
     "output_type": "stream",
     "text": [
      "66\n"
     ]
    }
   ],
   "source": [
    "MyAge=int(input('How old are you ? '))\n",
    "print(MyAge)"
   ]
  },
  {
   "cell_type": "markdown",
   "metadata": {},
   "source": [
    "More examples"
   ]
  },
  {
   "cell_type": "code",
   "execution_count": 41,
   "metadata": {},
   "outputs": [
    {
     "name": "stdin",
     "output_type": "stream",
     "text": [
      "Please enter a value:  grow 3\n"
     ]
    },
    {
     "data": {
      "text/plain": [
       "'grow 3'"
      ]
     },
     "execution_count": 41,
     "metadata": {},
     "output_type": "execute_result"
    }
   ],
   "source": [
    "# Try getting some input\n",
    "value = input( \"Please enter a value: \") # input with a prompt\n",
    "# print(type(value)) # get data type -- note always a string\n",
    "# input() # without the prompt\n",
    "# print(hex(id(value))) # get memory location of value in hex - sometimes useful for squashing bugs\n",
    "value #return contents"
   ]
  },
  {
   "cell_type": "code",
   "execution_count": 42,
   "metadata": {},
   "outputs": [
    {
     "name": "stdin",
     "output_type": "stream",
     "text": [
      "Enter a value grow 3\n"
     ]
    },
    {
     "data": {
      "text/plain": [
       "'grow 3'"
      ]
     },
     "execution_count": 42,
     "metadata": {},
     "output_type": "execute_result"
    }
   ],
   "source": [
    "# building the prompt\n",
    "string_variable = 'Enter a value'\n",
    "value = input(string_variable)\n",
    "value"
   ]
  },
  {
   "cell_type": "markdown",
   "metadata": {},
   "source": [
    "### Command-line output\n",
    "- Function `print()`\n",
    " - prints the value(s) passed to it\n",
    " - automatically converts data values to strings\n",
    " - goes to the next line by default\n",
    " - separates values with space by default\n",
    " - optional arguments can set different separator and end of line values\n",
    "- Format output using string formatting functions"
   ]
  },
  {
   "cell_type": "markdown",
   "metadata": {},
   "source": [
    "## About the `print()` function\n",
    "\n",
    "The `print()` function is used to display information to users. \n",
    "It accepts zero or more expressions as parameters, separated by commas. \n",
    "\n",
    "Consider the statement below, how many parameters are in the parameter list?"
   ]
  },
  {
   "cell_type": "code",
   "execution_count": 43,
   "metadata": {},
   "outputs": [
    {
     "name": "stdout",
     "output_type": "stream",
     "text": [
      "Hello World, my name is Taco Bell and I am 66 years old.\n"
     ]
    }
   ],
   "source": [
    "print (\"Hello World, my name is\", MyName, \"and I am\", MyAge, \"years old.\")"
   ]
  },
  {
   "cell_type": "markdown",
   "metadata": {},
   "source": [
    "There are five parameters;\n",
    "\n",
    "1. \"Hello World, my name is\"\n",
    "2. MyName\n",
    "3. \"and I am\"\n",
    "4. MyAge\n",
    "5. \"years old\"\n",
    "\n",
    "Three of the parameters are string literals and are enclosed in quote marks, two are variables that are rendered as strings."
   ]
  },
  {
   "cell_type": "markdown",
   "metadata": {},
   "source": [
    "Some more examples"
   ]
  },
  {
   "cell_type": "code",
   "execution_count": 44,
   "metadata": {},
   "outputs": [
    {
     "name": "stdout",
     "output_type": "stream",
     "text": [
      "Here is a message.\n",
      "Here is a value: grow 3\n",
      "Don't go to next line. more text same line\n",
      "more text new line \n"
     ]
    }
   ],
   "source": [
    "# Examples of output\n",
    "\n",
    "print(\"Here is a message.\" )\n",
    "print(\"Here is a value:\", value )  # where did val come from?\n",
    "print(\"Don't go to next line.\", end = ' ' )\n",
    "print(\"more text same line\")\n",
    "print(\"more text new line \")\n"
   ]
  },
  {
   "cell_type": "markdown",
   "metadata": {},
   "source": [
    "### About Strings\n",
    "- A string is a complex data type\n",
    " - a *sequence* of characters that is *immutable*\n",
    " - individual characters are identified using indexing syntax: `s[position]`\n",
    " \n",
    "<!-- ![string indexing](string.png)-->\n",
    "<!--![](List-Slicing.jpg) -->\n",
    "![](http://54.243.252.9/engr-1330-webroot/1-Lessons/Lesson04/List-Slicing.jpg) \n",
    " \n",
    " - the general `len()` function returns the length of a string\n",
    "    "
   ]
  },
  {
   "cell_type": "code",
   "execution_count": 45,
   "metadata": {},
   "outputs": [
    {
     "name": "stdout",
     "output_type": "stream",
     "text": [
      "d\n",
      "s\n",
      "5\n"
     ]
    },
    {
     "data": {
      "text/plain": [
       "str"
      ]
     },
     "execution_count": 45,
     "metadata": {},
     "output_type": "execute_result"
    }
   ],
   "source": [
    "# Experiment with indexing syntax\n",
    "s = \"birds\"\n",
    "print(s[3])\n",
    "print(s[-1])\n",
    "print(len(s))\n",
    "type(s[3])"
   ]
  },
  {
   "cell_type": "markdown",
   "metadata": {},
   "source": [
    "### String Operators\n",
    "- `+`\n",
    " - concatenate strings\n",
    "- `==` `!=`\n",
    " - test the equality of strings\n",
    "- `<` `<=` `>` `>=`\n",
    " - compare strings alphabetically"
   ]
  },
  {
   "cell_type": "code",
   "execution_count": 46,
   "metadata": {},
   "outputs": [
    {
     "name": "stdout",
     "output_type": "stream",
     "text": [
      "catdog\n",
      "True\n",
      "False\n",
      "True\n"
     ]
    }
   ],
   "source": [
    "# String operators\n",
    "s1 = \"cat\"\n",
    "s2 = \"dog\"\n",
    "s3 = \"cat\"\n",
    "print(s1 + s2)\n",
    "print(s1 == s3)\n",
    "print(s2 < s1)\n",
    "print(\"Dog\" < \"cat\")"
   ]
  },
  {
   "cell_type": "markdown",
   "metadata": {},
   "source": [
    "### Special and unprintable characters\n",
    "\n",
    "- Represented with *escape* sequences\n",
    " - preceded by backslash `\\`\n",
    "- Common special characters\n",
    "\n",
    "|Character|Escape Sequence|\n",
    "|---------|---------------|\n",
    "|newline|`\\n`|\n",
    "|tab|`\\t`|\n",
    "|backslash|`\\\\`|\n",
    "|quotes|`\\'` `\\\"`|"
   ]
  },
  {
   "cell_type": "code",
   "execution_count": 47,
   "metadata": {},
   "outputs": [
    {
     "name": "stdout",
     "output_type": "stream",
     "text": [
      "hello\n",
      "\n",
      "1\t2\n",
      "ê\n"
     ]
    }
   ],
   "source": [
    "# Escape sequences\n",
    "print(\"hello\\n\")\n",
    "print(\"1\\t2\")\n",
    "print(\"\\xEA\")"
   ]
  },
  {
   "cell_type": "markdown",
   "metadata": {},
   "source": [
    "### About Escape Sequences\n",
    "\n",
    "Sometimes we may need to print some special “unprintable” characters such as a tab or a newline. \n",
    "In this case, you need to use the `\\` (backslash) character to escape characters that otherwise have a different meaning.  For instance to print a tab, we type the backslash character before the letter t, like this `\\t` using our earlier example we have:"
   ]
  },
  {
   "cell_type": "code",
   "execution_count": 48,
   "metadata": {},
   "outputs": [
    {
     "name": "stdout",
     "output_type": "stream",
     "text": [
      "Hello\t World, my name is Taco Bell and I am 66 years old.\n"
     ]
    }
   ],
   "source": [
    "print (\"Hello\\t World, my name is {} and I am {} years old.\".format(MyName,MyAge))"
   ]
  },
  {
   "cell_type": "markdown",
   "metadata": {},
   "source": [
    "Here are a few more examples:"
   ]
  },
  {
   "cell_type": "code",
   "execution_count": 49,
   "metadata": {},
   "outputs": [
    {
     "name": "stdout",
     "output_type": "stream",
     "text": [
      "Hello World\n",
      ", my name is Taco Bell and I am 66 years old.\n"
     ]
    }
   ],
   "source": [
    "#newline after World\n",
    "print (\"Hello World\\n, my name is {} and I am {} years old.\".format(MyName,MyAge)) "
   ]
  },
  {
   "cell_type": "code",
   "execution_count": 50,
   "metadata": {},
   "outputs": [
    {
     "name": "stdout",
     "output_type": "stream",
     "text": [
      "Hello World\\, my name is Taco Bell and I am 66 years old.\n"
     ]
    }
   ],
   "source": [
    "# backslash after World\n",
    "print (\"Hello World\\\\, my name is {} and I am {} years old.\".format(MyName,MyAge)) "
   ]
  },
  {
   "cell_type": "code",
   "execution_count": 51,
   "metadata": {},
   "outputs": [
    {
     "name": "stdout",
     "output_type": "stream",
     "text": [
      "I am 5'9\" tall\n"
     ]
    }
   ],
   "source": [
    "# embedded quotes in the string literal\n",
    "print (\"I am 5\\'9\\\" tall\") "
   ]
  },
  {
   "cell_type": "markdown",
   "metadata": {},
   "source": [
    "> If you do not want characters preceded by the `\\` character to be interpreted as special characters, you can use raw strings by adding an `r` before the first quote. \n",
    "For instance, if you do not want `\\t` to be interpreted as a tab in the string literal \"Hello\\tWorld\", you would type "
   ]
  },
  {
   "cell_type": "code",
   "execution_count": 52,
   "metadata": {},
   "outputs": [
    {
     "name": "stdout",
     "output_type": "stream",
     "text": [
      "Hello\\tWorld\n"
     ]
    }
   ],
   "source": [
    "print(r\"Hello\\tWorld\")"
   ]
  },
  {
   "cell_type": "markdown",
   "metadata": {},
   "source": [
    "### String slicing\n",
    "- expanded indexing\n",
    "- a slice of a string is a new string, composed of characters from the initial string\n",
    "\n",
    "|Syntax|Result|\n",
    "|------|------|\n",
    "|`s[start]`|a single character|\n",
    "|`s[start:end]`|a substring|\n",
    "|`s[start:end:step]`|a selection of characters|\n",
    "\n",
    "- the end position is not inclusive (up to but not including *end*)\n",
    "- the step can be positive or negative \n",
    " - a negative step proceeds backwards through the string\n",
    " \n",
    "### Empty and default values in slicing\n",
    "- the default step is `1`\n",
    "- the default end is `start+1`\n",
    "- an empty value for end means the end of the string (in the *step* direction)\n",
    "- an empty value for start means the start of the string (in the *step* direction)"
   ]
  },
  {
   "cell_type": "code",
   "execution_count": 53,
   "metadata": {},
   "outputs": [],
   "source": [
    "# What will this do?\n",
    "# s[-1::-1]"
   ]
  },
  {
   "cell_type": "markdown",
   "metadata": {},
   "source": [
    "### String functions\n",
    "|Name|Behavior|\n",
    "|----|--------|\n",
    "|s.split()|Split a string into pieces based on a delimiter|\n",
    "|s.strip()|Remove leading/trailing whitespace or other characters|\n",
    "|s.upper()|Convert a string to uppercase|\n",
    "|s.lower()|Convert a string to lowercase|\n",
    "|s.isnumeric()|Return True if a string is numeric|\n",
    "|s.find()|Return the index of a substring|\n",
    "|s.replace()|Replace one substring with another|\n",
    "|*Many, many, more ...*|Look them up as needed|"
   ]
  },
  {
   "cell_type": "code",
   "execution_count": 54,
   "metadata": {},
   "outputs": [
    {
     "name": "stdout",
     "output_type": "stream",
     "text": [
      "HELLO\n",
      "hello\n",
      "HELLO\n",
      "I am not a string.\n"
     ]
    },
    {
     "data": {
      "text/plain": [
       "True"
      ]
     },
     "execution_count": 54,
     "metadata": {},
     "output_type": "execute_result"
    }
   ],
   "source": [
    "# some string functions\n",
    "s = \"hello\"\n",
    "print(s.upper())\n",
    "print(s)\n",
    "str = s.upper()\n",
    "print(str)\n",
    "str = \"I am a string.\"\n",
    "print(str.replace(\"am\", \"am not\"))\n",
    "\"222\".isnumeric()"
   ]
  },
  {
   "cell_type": "code",
   "execution_count": 55,
   "metadata": {},
   "outputs": [
    {
     "name": "stdout",
     "output_type": "stream",
     "text": [
      "o\n",
      ".\n",
      "Fox\n",
      "Fox. Sox. Box. Knox. Knox in box. Fox in sox.\n",
      "FSB\n"
     ]
    }
   ],
   "source": [
    "s = \"Fox. Socks. Box. Knox. Knox in box. Fox in socks.\"\n",
    "print(s[1])\n",
    "print(s[-1])\n",
    "print(s[:3])\n",
    "print(s.replace(\"ocks\", \"ox\"))\n",
    "print(s[0] + s[5] + s[12])"
   ]
  },
  {
   "cell_type": "markdown",
   "metadata": {},
   "source": [
    "## The `%` operator\n",
    "Strings can be formatted using the `%` operator. This gives you greater control over how you want your string to be displayed and stored. The syntax for using the `%` operator is “string to be formatted” %(values or variables to be inserted into string, separated by commas)\n",
    "\n",
    "An example using the string constructor (`%`) form using a placeholder in the print function call is:"
   ]
  },
  {
   "cell_type": "code",
   "execution_count": 56,
   "metadata": {},
   "outputs": [
    {
     "name": "stdout",
     "output_type": "stream",
     "text": [
      "Hello World, my name is Taco Bell and I am 66 years old.\n"
     ]
    }
   ],
   "source": [
    "print (\"Hello World, my name is %s and I am %s years old.\" %(MyName,MyAge))"
   ]
  },
  {
   "cell_type": "markdown",
   "metadata": {},
   "source": [
    "Notice the syntax above.  The contents of the two variables are placed in the locations within the string indicated by the `%s` symbol, the tuple (MyName,MyAge) is parsed using this placeholder and converted into a string by the trailing `s` in the `%s` indicator.\n",
    "\n",
    "See what happens if we change the second `%s` into `%f` and run the script:"
   ]
  },
  {
   "cell_type": "code",
   "execution_count": 57,
   "metadata": {},
   "outputs": [
    {
     "name": "stdout",
     "output_type": "stream",
     "text": [
      "Hello World, my name is Taco Bell and I am 66.000000 years old.\n"
     ]
    }
   ],
   "source": [
    "print (\"Hello World, my name is %s and I am %f years old.\" %(MyName,MyAge))"
   ]
  },
  {
   "cell_type": "markdown",
   "metadata": {},
   "source": [
    "The change to `%f` turns the rendered tuple value into a float.  Using these structures gives us a lot of output flexibility. \n",
    "\n",
    "> The `%f` formatter can also be used to place the decimal by preceeding the f with the decimal point and the number of digits after the decimal you want to render as in:"
   ]
  },
  {
   "cell_type": "code",
   "execution_count": 58,
   "metadata": {},
   "outputs": [
    {
     "name": "stdout",
     "output_type": "stream",
     "text": [
      "Hello World, my name is Taco Bell and I am 66.0 years old.\n"
     ]
    }
   ],
   "source": [
    "print (\"Hello World, my name is %s and I am %.1f years old.\" %(MyName,MyAge))"
   ]
  },
  {
   "cell_type": "markdown",
   "metadata": {},
   "source": [
    "## About the `format()` method\n",
    "\n",
    "Similar to the `%`operator structure there is a `format()` method.  Using the same example, the `%s` symbol is replaced by a pair of curly brackets `{}` playing the same placeholder role, and the `format` keyword precedes the tuple as"
   ]
  },
  {
   "cell_type": "code",
   "execution_count": 59,
   "metadata": {},
   "outputs": [
    {
     "name": "stdout",
     "output_type": "stream",
     "text": [
      "Hello World, my name is Taco Bell and I am 66 years old.\n"
     ]
    }
   ],
   "source": [
    "print (\"Hello World, my name is {} and I am {} years old.\".format(MyName,MyAge))"
   ]
  },
  {
   "cell_type": "markdown",
   "metadata": {},
   "source": [
    "Observe the keyword `format` is joined to the string with a dot notation, because `format` is a formal method associated with all strings, and it is attached when the string literal is created.\n",
    "\n",
    "<!-- ![](Python-String-format-Method-Syntax.png) -->\n",
    "![](http://54.243.252.9/engr-1330-webroot/1-Lessons/Lesson04/Python-String-format-Method-Syntax.png)\n",
    "\n",
    "In this example the arguments to the method are the two variables, but other arguments and decorators are possible allowing for elaborate outputs.\n",
    "\n",
    "## Triple quotes\n",
    "\n",
    "If you need to display a long message, you can use the triple-quote symbol (‘’’ or “””) to span the  message over multiple lines. For instance:"
   ]
  },
  {
   "cell_type": "code",
   "execution_count": 60,
   "metadata": {},
   "outputs": [
    {
     "name": "stdout",
     "output_type": "stream",
     "text": [
      "Hello World, my name is Taco Bell and I am a resturant\n",
      "that is over 66 years old. We serve sodium chloride infused \n",
      "lipids in a variety of shapes\n"
     ]
    }
   ],
   "source": [
    "print ('''Hello World, my name is {} and I am a resturant\n",
    "that is over {} years old. We serve sodium chloride infused \n",
    "lipids in a variety of shapes'''.format(MyName,MyAge))"
   ]
  },
  {
   "cell_type": "markdown",
   "metadata": {},
   "source": [
    "## Future Versions\n",
    "- repr and map methods \n",
    "- color codes"
   ]
  },
  {
   "cell_type": "markdown",
   "metadata": {},
   "source": [
    "## Readings\n",
    "\n",
    "1. Computational and Inferential Thinking Ani Adhikari and John DeNero, Computational and Inferential Thinking, The Foundations of Data Science, Creative Commons Attribution-NonCommercial-NoDerivatives 4.0 International (CC BY-NC-ND) Chapters 3-6 https://www.inferentialthinking.com/chapters/03/programming-in-python.html\n",
    "\n",
    "3. LearnPython.org (Interactive Tutorial) (https://www.learnpython.org/)  Short, interactive tutorial for those who just need a quick way to pick up Python syntax.\n",
    "\n",
    "4. Brian Christian and Tom Griffiths (2016) ALGORITHMS TO LIVE BY: The Computer Science of Human Decisions Henry Holt and Co. (https://www.amazon.com/Algorithms-Live-Computer-Science-Decisions/dp/1627790365)\n",
    "\n",
    "1. Learn Python in One Day and Learn It Well. Python for Beginners with Hands-on Project. (Learn Coding Fast with Hands-On Project Book -- Kindle Edition by LCF Publishing (Author), Jamie Chan [https://www.amazon.com/Python-2nd-Beginners-Hands-Project-ebook/dp/B071Z2Q6TQ/ref=sr_1_3?dchild=1&keywords=learn+python+in+a+day&qid=1611108340&sr=8-3](https://www.amazon.com/Python-2nd-Beginners-Hands-Project-ebook/dp/B071Z2Q6TQ/ref=sr_1_3?dchild=1&keywords=learn+python+in+a+day&qid=1611108340&sr=8-3)\n",
    "\n",
    "2. Learn Python the Hard Way (Online Book) (https://learnpythonthehardway.org/book/)  Recommended for beginners who want a complete course in programming with Python.\n",
    "\n",
    "3. How to Learn Python for Data Science, The Self-Starter Way (https://elitedatascience.com/learn-python-for-data-science) \n",
    "\n",
    "4. String Literals [https://bic-berkeley.github.io/psych-214-fall-2016/string_literals.html](https://bic-berkeley.github.io/psych-214-fall-2016/string_literals.html)\n",
    "\n",
    "5. Tutorial on `input()` and `print()` functions [https://www.programiz.com/python-programming/input-output-import](https://www.programiz.com/python-programming/input-output-import)"
   ]
  },
  {
   "cell_type": "code",
   "execution_count": null,
   "metadata": {},
   "outputs": [],
   "source": []
  }
 ],
 "metadata": {
  "kernelspec": {
   "display_name": "Python 3",
   "language": "python",
   "name": "python3"
  },
  "language_info": {
   "codemirror_mode": {
    "name": "ipython",
    "version": 3
   },
   "file_extension": ".py",
   "mimetype": "text/x-python",
   "name": "python",
   "nbconvert_exporter": "python",
   "pygments_lexer": "ipython3",
   "version": "3.8.10"
  }
 },
 "nbformat": 4,
 "nbformat_minor": 4
}
