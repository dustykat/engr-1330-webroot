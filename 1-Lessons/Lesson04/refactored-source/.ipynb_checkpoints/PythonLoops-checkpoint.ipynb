{
 "cells": [
  {
   "cell_type": "markdown",
   "metadata": {},
   "source": [
    "# ENGR 1330 Computational Thinking with Data Science \n",
    "Last GitHub Commit Date: 31 January 2021\n",
    "\n",
    "## Lesson 4 Loops and Flowcharts: \n",
    "- Controlled repetition\n",
    "- Structured FOR Loop\n",
    "- Structured WHILE Loop\n",
    "- Representing computational processes with flowcharts, a graphical abstraction\n",
    "\n",
    "---\n",
    "### Special Script Blocks"
   ]
  },
  {
   "cell_type": "code",
   "execution_count": 2,
   "metadata": {},
   "outputs": [
    {
     "data": {
      "text/html": [
       "<!-- Script Block to set tables to left alignment -->\n",
       "<style>\n",
       "  table {margin-left: 0 !important;}\n",
       "</style>\n"
      ],
      "text/plain": [
       "<IPython.core.display.HTML object>"
      ]
     },
     "metadata": {},
     "output_type": "display_data"
    }
   ],
   "source": [
    "%%html\n",
    "<!-- Script Block to set tables to left alignment -->\n",
    "<style>\n",
    "  table {margin-left: 0 !important;}\n",
    "</style>"
   ]
  },
  {
   "cell_type": "markdown",
   "metadata": {},
   "source": [
    "---\n",
    "## Objectives\n",
    "\n",
    "1) Develop awareness of loops, and their utility in automation.\n",
    "\n",
    "  1. To understand loop types available in Python.\n",
    "  2. To understand and implement loops in various examples and configurations.\n",
    "    \n",
    "2) Develop awareness of flowcharts as a tool for:\n",
    "\n",
    "  1. Post-development documentation\n",
    "  2. Pre-development program design\n",
    "      \n"
   ]
  },
  {
   "cell_type": "markdown",
   "metadata": {},
   "source": [
    "---\n",
    "## Repetition and Loops\n",
    "\n",
    "**Computational thinking (CT)** concepts involved are:\n",
    "\n",
    "- `Decomposition` : Break a problem down into smaller pieces; the body of tasks in one repetition of a loop represent decomposition of the entire sets of repeated activities\n",
    "- `Pattern Recognition` : Finding similarities between things; the body of tasks in one repetition of a loop is the pattern, the indices and components that change are how we leverage reuse\n",
    "- `Abstraction` : Pulling out specific differences to make one solution work for multiple problems\n",
    "- `Algorithms` : A list of steps that you can follow to finish a task\n",
    "\n",
    "The action of doing something over and over again (repetition) is called a loop.  Basically, Loops repeats a portion of code a finite number of times until a process is complete. Repetitive tasks are very common and essential in programming. They save time in coding, minimize coding errors, and leverage the speed of electronic computation.\n",
    "\n",
    "### Loop Analogs\n",
    "If you think any mass manufacturing process, we apply the same process again and again. Even for something very simple such as preparing a peanut butter sandwich:\n",
    "\n",
    "Consider the ***flowchart*** in Figure 1, it represents a decomposition of sandwich assembly, but at a high level -- for instance, `Gather Ingredients` contains a lot of substeps that would need to be decomposed if fully automated assembly were to be accomplished; nevertheless lets stipulate that this flowchart will indeed construct a single sandwich.\n",
    "\n",
    "![](sandwichchart.png)\n",
    "\n",
    "|Figure 1|Supervisory Flowchart Sandwich Assembly (adapted from http://www.str-tn.org/subway_restaurant_training_manual.pdf) ||\n",
    "|:---|:---|:---|\n",
    "\n",
    "If we need to make 1000 peanut butter sandwichs we would then issue a directive to:\n",
    "\n",
    "1) Implement sandwich assembly, repeat 999 times (repeat is the loop structure) (A serial structure, 1 sandwich artist, doing same job over and over again)\n",
    "\n",
    "**OR**\n",
    "\n",
    "2) Implement 1000 sandwich assembly threads (A parallel structure, 1000 sandwich artists doing same job once)\n",
    "\n",
    "In general because we dont want to idle 999 sandwich artists, we would choose the serial structure, which frees 999 people to ask the existential question \"would you like fries with that?\"\n",
    "\n",
    "All cynicism aside, an automated process such as a loop, is typical in computational processing. \n",
    "\n",
    "***Aside*** NVIDIA CUDA, and AMD OpenGL compilers can detect the structure above, and if there are enough GPU threads available , create the 1000 sandwich artists (1000 GPU threads), and run the process in parallel -- the actual workload is unchanged in a thermodynamic sense, but the apparent time (in human terms) spent in sandwich creation is a fraction of the serial approach.  This parallelization is called unrolling the loop, and is a pretty common optimization step during compilation. This kind of programming is outside the scope of this class.\n",
    "\n",
    "Main attractiveness of loops is:\n",
    "- Leveraging  `pattern matching` and `automation`\n",
    "- Code is more organized and shorter,because a loop is a sequence of instructions that is continually repeated until a certain condition is reached. \n",
    "\n",
    "There are 2 main types loops based on the repetition control condition; `for` loops and `while`loops."
   ]
  },
  {
   "cell_type": "markdown",
   "metadata": {},
   "source": [
    "## For Loop (Count controlled repetition structure)\n",
    "Count-controlled repetition is also called definite repetition because the number of repetitions is known before the loop begins executing. \n",
    "When we do not know in advance the number of times we want to execute a statement, we cannot use count-controlled repetition. \n",
    "In such an instance, we would use sentinel-controlled repetition. \n",
    "\n",
    "A count-controlled repetition will exit after running a certain number of times. \n",
    "The count is kept in a variable called an index or counter. \n",
    "When the index reaches a certain value (the loop bound) the loop will end. \n",
    "\n",
    "Count-controlled repetition requires\n",
    "\n",
    "* control variable (or loop counter)\n",
    "* initial value of the control variable\n",
    "* increment (or decrement) by which the control variable is modified each iteration through the loop\n",
    "* condition that tests for the final value of the control variable \n",
    "\n",
    "We can use both `for` and `while` loops, for count controlled repetition, but the `for` loop in combination with the `range()` function is more common.\n",
    "\n",
    "### Structured `FOR` loop\n",
    "We have seen the for loop already, but we will formally introduce it here. The `for` loop executes a block of code repeatedly until the condition in the `for` statement is no longer true.\n",
    "\n",
    "### Looping through an iterable\n",
    "An iterable is anything that can be looped over - typically a list, string, or tuple. \n",
    "The syntax for looping through an iterable is illustrated by an example.\n",
    "\n",
    "First a generic syntax\n",
    "\n",
    "    for a in iterable:\n",
    "    print(a)\n",
    "    \n",
    "Notice our friends the colon `:` and the indentation.\n",
    "\n",
    "#### The `range()` function to create an iterable\n",
    "\n",
    "The `range(begin,end,increment)` function will create an iterable starting at a value of begin, in steps defined by increment (`begin += increment`), ending at `end`. \n",
    "\n",
    "So a generic syntax becomes\n",
    "\n",
    "    for a in range(begin,end,increment):\n",
    "    print(a)\n",
    "\n",
    "The examples that follow are count-controlled repetition (increment skip if greater)"
   ]
  },
  {
   "cell_type": "markdown",
   "metadata": {},
   "source": [
    "## Example `for` loops"
   ]
  },
  {
   "cell_type": "code",
   "execution_count": 12,
   "metadata": {},
   "outputs": [
    {
     "name": "stdin",
     "output_type": "stream",
     "text": [
      "Enter N 55\n"
     ]
    },
    {
     "name": "stdout",
     "output_type": "stream",
     "text": [
      "Sum from 1 to  55 is 1540.000\n"
     ]
    }
   ],
   "source": [
    "# sum numbers from 1 to n\n",
    "howmany = int(input('Enter N'))\n",
    "accumulator = 0.0\n",
    "for i in range(1,howmany+1,1):\n",
    "    accumulator = accumulator + float(i)\n",
    "print( 'Sum from 1 to ',howmany, 'is %.3f' % accumulator  )"
   ]
  },
  {
   "cell_type": "code",
   "execution_count": null,
   "metadata": {},
   "outputs": [],
   "source": [
    "# sum even numbers from 1 to n\n",
    "howmany = int(input('Enter N'))\n",
    "accumulator = 0.0\n",
    "for i in range(1,howmany+1,1):\n",
    "    if i%2 == 0:\n",
    "        accumulator = accumulator + float(i)\n",
    "print( 'Sum of Evens from 1 to ',howmany, 'is %.3f' % accumulator  )"
   ]
  },
  {
   "cell_type": "code",
   "execution_count": 5,
   "metadata": {},
   "outputs": [
    {
     "name": "stdin",
     "output_type": "stream",
     "text": [
      "Enter N 5\n"
     ]
    },
    {
     "name": "stdout",
     "output_type": "stream",
     "text": [
      "*\n",
      "**\n",
      "***\n",
      "****\n",
      "*****\n"
     ]
    }
   ],
   "source": [
    "howmany = int(input('Enter N'))\n",
    "linetoprint=''\n",
    "for i in range(1,howmany+1,1):\n",
    "    linetoprint=linetoprint + '*'\n",
    "    print(linetoprint)"
   ]
  },
  {
   "cell_type": "markdown",
   "metadata": {},
   "source": [
    "## Sentinel-controlled repetition.\n",
    "\n",
    "When loop control is based on the value of what we are processing, sentinel-controlled repetition is used. \n",
    "Sentinel-controlled repetition is also called indefinite repetition because it is not known in advance how many times the loop will be executed. \n",
    "It is a repetition procedure for solving a problem by using a sentinel value (also called a signal value, a dummy value or a flag value) to indicate \"end of process\". \n",
    "The sentinel value itself need not be a part of the processed data.\n",
    "\n",
    "One common example of using sentinel-controlled repetition is when we are processing data from a file and we do not know in advance when we would reach the end of the file. \n",
    "\n",
    "We can use both `for` and `while` loops, for __Sentinel__ controlled repetition, but the `while` loop is more common.\n",
    "\n",
    "### Structured `WHILE` loop\n",
    "The `while` loop repeats a block of instructions inside the loop while a condition remainsvtrue.\n",
    "\n",
    "First a generic syntax\n",
    "\n",
    "    while condition is true:\n",
    "        execute a\n",
    "        execute b\n",
    "    ....\n",
    "\n",
    "Notice our friends the colon `:` and the indentation again."
   ]
  },
  {
   "cell_type": "markdown",
   "metadata": {},
   "source": [
    "# Example `while` loops"
   ]
  },
  {
   "cell_type": "code",
   "execution_count": 6,
   "metadata": {},
   "outputs": [
    {
     "name": "stdin",
     "output_type": "stream",
     "text": [
      "Enter N 6\n"
     ]
    },
    {
     "name": "stdout",
     "output_type": "stream",
     "text": [
      "Sum from 1 to  6 is 21.000\n"
     ]
    }
   ],
   "source": [
    "# sum numbers from 1 to n\n",
    "howmany = int(input('Enter N'))\n",
    "accumulator = 0.0\n",
    "counter = 1\n",
    "while counter <= howmany:\n",
    "    accumulator = accumulator + float(counter)\n",
    "    counter += 1\n",
    "print( 'Sum from 1 to ',howmany, 'is %.3f' % accumulator  )"
   ]
  },
  {
   "cell_type": "code",
   "execution_count": 7,
   "metadata": {},
   "outputs": [
    {
     "name": "stdin",
     "output_type": "stream",
     "text": [
      "Enter N 6\n"
     ]
    },
    {
     "name": "stdout",
     "output_type": "stream",
     "text": [
      "Sum of Evens 1 to  6 is 12.000\n"
     ]
    }
   ],
   "source": [
    "# sum even numbers from 1 to n\n",
    "howmany = int(input('Enter N'))\n",
    "accumulator = 0.0\n",
    "counter = 1\n",
    "while counter <= howmany:\n",
    "    if counter%2 == 0:\n",
    "        accumulator = accumulator + float(counter)\n",
    "    counter += 1\n",
    "print( 'Sum of Evens 1 to ',howmany, 'is %.3f' % accumulator  )"
   ]
  },
  {
   "cell_type": "code",
   "execution_count": 8,
   "metadata": {},
   "outputs": [
    {
     "name": "stdin",
     "output_type": "stream",
     "text": [
      "Enter N 6\n"
     ]
    },
    {
     "name": "stdout",
     "output_type": "stream",
     "text": [
      "*\n",
      "**\n",
      "***\n",
      "****\n",
      "*****\n",
      "******\n"
     ]
    }
   ],
   "source": [
    "howmany = int(input('Enter N'))\n",
    "linetoprint=''\n",
    "counter = 1\n",
    "while counter <= howmany:\n",
    "    linetoprint=linetoprint + '*'\n",
    "    counter += 1\n",
    "    print(linetoprint)"
   ]
  },
  {
   "cell_type": "markdown",
   "metadata": {},
   "source": [
    "## Nested Repetition\n",
    "\n",
    "Nested repetition is when a control structure is placed inside of the body or main part of another control structure."
   ]
  },
  {
   "cell_type": "markdown",
   "metadata": {},
   "source": [
    "#### `break` to exit out of a loop\n",
    "\n",
    "Sometimes you may want to exit the loop when a certain condition different from the counting\n",
    "condition is met. Perhaps you are looping through a list and want to exit when you find the\n",
    "first element in the list that matches some criterion. The break keyword is useful for such\n",
    "an operation.\n",
    "\n",
    "For example run the following program:"
   ]
  },
  {
   "cell_type": "code",
   "execution_count": 4,
   "metadata": {
    "collapsed": true,
    "jupyter": {
     "outputs_hidden": true
    }
   },
   "outputs": [
    {
     "name": "stdout",
     "output_type": "stream",
     "text": [
      "i =  0 j =  2\n",
      "i =  1 j =  4\n",
      "i =  2 j =  6\n"
     ]
    }
   ],
   "source": [
    "#\n",
    "j = 0\n",
    "for i in range(0,9,1):\n",
    "    j += 2\n",
    "    print (\"i = \",i,\"j = \",j)\n",
    "    if j == 6:\n",
    "        break   "
   ]
  },
  {
   "cell_type": "code",
   "execution_count": 5,
   "metadata": {
    "collapsed": true,
    "jupyter": {
     "outputs_hidden": true
    }
   },
   "outputs": [
    {
     "name": "stdout",
     "output_type": "stream",
     "text": [
      "i =  0 j =  2\n",
      "i =  1 j =  4\n",
      "i =  2 j =  6\n",
      "i =  3 j =  8\n",
      "i =  4 j =  10\n"
     ]
    }
   ],
   "source": [
    "j = 0\n",
    "for i in range(0,5,1):\n",
    "    j += 2\n",
    "    print( \"i = \",i,\"j = \",j)\n",
    "    if j == 7:\n",
    "        break"
   ]
  },
  {
   "cell_type": "markdown",
   "metadata": {},
   "source": [
    "In the first case, the for loop only executes 3 times before the condition j == 6 is TRUE and the loop is exited. \n",
    "In the second case, j == 7 never happens so the loop completes all its anticipated traverses.\n",
    "\n",
    "In both cases an `if` statement was used within a for loop. Such \"mixed\" control structures\n",
    "are quite common (and pretty necessary). \n",
    "A `while` loop contained within a `for` loop, with several `if` statements would be very common and such a structure is called __nested control.__\n",
    "There is typically an upper limit to nesting but the limit is pretty large - easily in the\n",
    "hundreds. It depends on the language and the system architecture ; suffice to say it is not\n",
    "a practical limit except possibly for general-domain AI applications.\n",
    "<hr>"
   ]
  },
  {
   "cell_type": "markdown",
   "metadata": {},
   "source": [
    "We can also do mundane activities and leverage loops, arithmetic, and format codes to make useful tables like\n"
   ]
  },
  {
   "cell_type": "code",
   "execution_count": 6,
   "metadata": {
    "collapsed": true,
    "jupyter": {
     "outputs_hidden": true
    }
   },
   "outputs": [
    {
     "name": "stdout",
     "output_type": "stream",
     "text": [
      "     Cosines     \n",
      "   x    |  cos(x) \n",
      "--------|--------\n",
      "0.000   |  1.0000 \n",
      "0.100   |  0.9950 \n",
      "0.200   |  0.9801 \n",
      "0.300   |  0.9553 \n",
      "0.400   |  0.9211 \n",
      "0.500   |  0.8776 \n",
      "0.600   |  0.8253 \n",
      "0.700   |  0.7648 \n",
      "0.800   |  0.6967 \n",
      "0.900   |  0.6216 \n",
      "1.000   |  0.5403 \n",
      "1.100   |  0.4536 \n",
      "1.200   |  0.3624 \n",
      "1.300   |  0.2675 \n",
      "1.400   |  0.1700 \n",
      "1.500   |  0.0707 \n",
      "1.600   |  -0.0292 \n",
      "1.700   |  -0.1288 \n",
      "1.800   |  -0.2272 \n",
      "1.900   |  -0.3233 \n",
      "2.000   |  -0.4161 \n",
      "2.100   |  -0.5048 \n",
      "2.200   |  -0.5885 \n",
      "2.300   |  -0.6663 \n",
      "2.400   |  -0.7374 \n",
      "2.500   |  -0.8011 \n",
      "2.600   |  -0.8569 \n",
      "2.700   |  -0.9041 \n",
      "2.800   |  -0.9422 \n",
      "2.900   |  -0.9710 \n",
      "3.000   |  -0.9900 \n",
      "3.100   |  -0.9991 \n",
      "3.200   |  -0.9983 \n",
      "3.300   |  -0.9875 \n",
      "3.400   |  -0.9668 \n",
      "3.500   |  -0.9365 \n",
      "3.600   |  -0.8968 \n",
      "3.700   |  -0.8481 \n",
      "3.800   |  -0.7910 \n",
      "3.900   |  -0.7259 \n",
      "4.000   |  -0.6536 \n",
      "4.100   |  -0.5748 \n",
      "4.200   |  -0.4903 \n",
      "4.300   |  -0.4008 \n",
      "4.400   |  -0.3073 \n",
      "4.500   |  -0.2108 \n",
      "4.600   |  -0.1122 \n",
      "4.700   |  -0.0124 \n",
      "4.800   |  0.0875 \n",
      "4.900   |  0.1865 \n",
      "5.000   |  0.2837 \n",
      "5.100   |  0.3780 \n",
      "5.200   |  0.4685 \n",
      "5.300   |  0.5544 \n",
      "5.400   |  0.6347 \n",
      "5.500   |  0.7087 \n",
      "5.600   |  0.7756 \n",
      "5.700   |  0.8347 \n",
      "5.800   |  0.8855 \n",
      "5.900   |  0.9275 \n",
      "6.000   |  0.9602 \n",
      "6.100   |  0.9833 \n",
      "6.200   |  0.9965 \n",
      "6.300   |  0.9999 \n",
      "6.400   |  0.9932 \n",
      "6.500   |  0.9766 \n",
      "6.600   |  0.9502 \n",
      "6.700   |  0.9144 \n",
      "6.800   |  0.8694 \n",
      "6.900   |  0.8157 \n",
      "7.000   |  0.7539 \n",
      "7.100   |  0.6845 \n",
      "7.200   |  0.6084 \n",
      "7.300   |  0.5261 \n",
      "7.400   |  0.4385 \n",
      "7.500   |  0.3466 \n",
      "7.600   |  0.2513 \n",
      "7.700   |  0.1534 \n",
      "7.800   |  0.0540 \n",
      "7.900   |  -0.0460 \n",
      "8.000   |  -0.1455 \n",
      "8.100   |  -0.2435 \n",
      "8.200   |  -0.3392 \n",
      "8.300   |  -0.4314 \n",
      "8.400   |  -0.5193 \n",
      "8.500   |  -0.6020 \n",
      "8.600   |  -0.6787 \n",
      "8.700   |  -0.7486 \n",
      "8.800   |  -0.8111 \n",
      "8.900   |  -0.8654 \n",
      "9.000   |  -0.9111 \n",
      "9.100   |  -0.9477 \n",
      "9.200   |  -0.9748 \n",
      "9.300   |  -0.9922 \n",
      "9.400   |  -0.9997 \n",
      "9.500   |  -0.9972 \n",
      "9.600   |  -0.9847 \n",
      "9.700   |  -0.9624 \n",
      "9.800   |  -0.9304 \n",
      "9.900   |  -0.8892 \n",
      "10.000   |  -0.8391 \n",
      "10.100   |  -0.7806 \n",
      "10.200   |  -0.7143 \n",
      "10.300   |  -0.6408 \n",
      "10.400   |  -0.5610 \n",
      "10.500   |  -0.4755 \n",
      "10.600   |  -0.3853 \n",
      "10.700   |  -0.2913 \n",
      "10.800   |  -0.1943 \n",
      "10.900   |  -0.0954 \n",
      "11.000   |  0.0044 \n",
      "11.100   |  0.1042 \n",
      "11.200   |  0.2030 \n",
      "11.300   |  0.2997 \n",
      "11.400   |  0.3935 \n",
      "11.500   |  0.4833 \n",
      "11.600   |  0.5683 \n",
      "11.700   |  0.6476 \n",
      "11.800   |  0.7204 \n",
      "11.900   |  0.7861 \n",
      "12.000   |  0.8439 \n",
      "12.100   |  0.8932 \n",
      "12.200   |  0.9336 \n",
      "12.300   |  0.9647 \n",
      "12.400   |  0.9862 \n",
      "12.500   |  0.9978 \n",
      "12.600   |  0.9994 \n",
      "12.700   |  0.9911 \n",
      "12.800   |  0.9728 \n",
      "12.900   |  0.9449 \n",
      "13.000   |  0.9074 \n",
      "13.100   |  0.8610 \n",
      "13.200   |  0.8059 \n",
      "13.300   |  0.7427 \n",
      "13.400   |  0.6722 \n",
      "13.500   |  0.5949 \n",
      "13.600   |  0.5117 \n",
      "13.700   |  0.4234 \n",
      "13.800   |  0.3308 \n",
      "13.900   |  0.2349 \n",
      "14.000   |  0.1367 \n",
      "14.100   |  0.0372 \n",
      "14.200   |  -0.0628 \n",
      "14.300   |  -0.1621 \n",
      "14.400   |  -0.2598 \n",
      "14.500   |  -0.3549 \n",
      "14.600   |  -0.4465 \n",
      "14.700   |  -0.5336 \n",
      "14.800   |  -0.6154 \n",
      "14.900   |  -0.6910 \n",
      "15.000   |  -0.7597 \n",
      "15.100   |  -0.8208 \n",
      "15.200   |  -0.8737 \n",
      "15.300   |  -0.9179 \n",
      "15.400   |  -0.9530 \n",
      "15.500   |  -0.9785 \n",
      "15.600   |  -0.9942 \n"
     ]
    }
   ],
   "source": [
    "import math # package that contains cosine\n",
    "print(\"     Cosines     \")\n",
    "print(\"   x   \",\"|\",\" cos(x) \")\n",
    "print(\"--------|--------\")\n",
    "for i in range(0,157,1):\n",
    "    x = float(i)*0.1\n",
    "    print(\"%.3f\" % x, \"  |\", \" %.4f \"  % math.cos(x)) # note the format code and the placeholder % and syntax "
   ]
  },
  {
   "cell_type": "markdown",
   "metadata": {},
   "source": [
    "#### The `continue` statement\n",
    "The continue instruction skips the block of code after it is executed for that iteration. \n",
    "It is\n",
    "best illustrated by an example."
   ]
  },
  {
   "cell_type": "code",
   "execution_count": 7,
   "metadata": {
    "collapsed": true,
    "jupyter": {
     "outputs_hidden": true
    }
   },
   "outputs": [
    {
     "name": "stdout",
     "output_type": "stream",
     "text": [
      "\n",
      " i =  0 , j =  2\n",
      " this message will be skipped over if j = 6 \n",
      "\n",
      " i =  1 , j =  4\n",
      " this message will be skipped over if j = 6 \n",
      "\n",
      " i =  2 , j =  6\n",
      "\n",
      " i =  3 , j =  8\n",
      " this message will be skipped over if j = 6 \n",
      "\n",
      " i =  4 , j =  10\n",
      " this message will be skipped over if j = 6 \n"
     ]
    }
   ],
   "source": [
    "j = 0\n",
    "for i in range(0,5,1):\n",
    "    j += 2\n",
    "    print (\"\\n i = \", i , \", j = \", j) #here the \\n is a newline command\n",
    "    if j == 6:\n",
    "        continue\n",
    "    print(\" this message will be skipped over if j = 6 \") # still within the loop, so the skip is implemented"
   ]
  },
  {
   "cell_type": "markdown",
   "metadata": {},
   "source": [
    "#### The `try`, `except` structure\n",
    "\n",
    "An important control structure (and a pretty cool one for error trapping) is the `try`, `except`\n",
    "statement.\n",
    "\n",
    "The statement controls how the program proceeds when an error occurs in an instruction.\n",
    "The structure is really useful to trap likely errors (divide by zero, wrong kind of input) \n",
    "yet let the program keep running or at least issue a meaningful message to the user.\n",
    "\n",
    "The syntax is:\n",
    "\n",
    "    try:\n",
    "    do something\n",
    "    except:\n",
    "    do something else if ``do something'' returns an error\n",
    "\n",
    "Here is a really simple, but hugely important example:"
   ]
  },
  {
   "cell_type": "code",
   "execution_count": null,
   "metadata": {},
   "outputs": [],
   "source": [
    "#MyErrorTrap.py\n",
    "x = 12.\n",
    "y = 12.\n",
    "while y >= -12.: # sentinel controlled repetition\n",
    "    try:         \n",
    "        print (\"x = \", x, \"y = \", y, \"x/y = \", x/y)\n",
    "    except:\n",
    "        print (\"error divide by zero\")\n",
    "    y -= 1"
   ]
  },
  {
   "cell_type": "markdown",
   "metadata": {},
   "source": [
    "So this silly code starts with x fixed at a value of 12, and y starting at 12 and decreasing by\n",
    "1 until y equals -1. The code returns the ratio of x to y and at one point y is equal to zero\n",
    "and the division would be undefined. By trapping the error the code can issue us a measure\n",
    "and keep running.\n",
    "\n",
    "Modify the script as shown below,Run, and see what happens"
   ]
  },
  {
   "cell_type": "code",
   "execution_count": 8,
   "metadata": {
    "collapsed": true,
    "jupyter": {
     "outputs_hidden": true
    }
   },
   "outputs": [
    {
     "name": "stdout",
     "output_type": "stream",
     "text": [
      "x =  12.0 y =  12.0 x/y =  1.0\n",
      "x =  12.0 y =  11.0 x/y =  1.0909090909090908\n",
      "x =  12.0 y =  10.0 x/y =  1.2\n",
      "x =  12.0 y =  9.0 x/y =  1.3333333333333333\n",
      "x =  12.0 y =  8.0 x/y =  1.5\n",
      "x =  12.0 y =  7.0 x/y =  1.7142857142857142\n",
      "x =  12.0 y =  6.0 x/y =  2.0\n",
      "x =  12.0 y =  5.0 x/y =  2.4\n",
      "x =  12.0 y =  4.0 x/y =  3.0\n",
      "x =  12.0 y =  3.0 x/y =  4.0\n",
      "x =  12.0 y =  2.0 x/y =  6.0\n",
      "x =  12.0 y =  1.0 x/y =  12.0\n"
     ]
    },
    {
     "ename": "ZeroDivisionError",
     "evalue": "float division by zero",
     "output_type": "error",
     "traceback": [
      "\u001b[0;31m---------------------------------------------------------------------------\u001b[0m",
      "\u001b[0;31mZeroDivisionError\u001b[0m                         Traceback (most recent call last)",
      "\u001b[0;32m<ipython-input-8-82eeaceb9a12>\u001b[0m in \u001b[0;36m<module>\u001b[0;34m\u001b[0m\n\u001b[1;32m      3\u001b[0m \u001b[0my\u001b[0m \u001b[0;34m=\u001b[0m \u001b[0;36m12.\u001b[0m\u001b[0;34m\u001b[0m\u001b[0;34m\u001b[0m\u001b[0m\n\u001b[1;32m      4\u001b[0m \u001b[0;32mwhile\u001b[0m \u001b[0my\u001b[0m \u001b[0;34m>=\u001b[0m \u001b[0;34m-\u001b[0m\u001b[0;36m12.\u001b[0m\u001b[0;34m:\u001b[0m \u001b[0;31m# sentinel controlled repetition\u001b[0m\u001b[0;34m\u001b[0m\u001b[0;34m\u001b[0m\u001b[0m\n\u001b[0;32m----> 5\u001b[0;31m     \u001b[0mprint\u001b[0m \u001b[0;34m(\u001b[0m\u001b[0;34m\"x = \"\u001b[0m\u001b[0;34m,\u001b[0m \u001b[0mx\u001b[0m\u001b[0;34m,\u001b[0m \u001b[0;34m\"y = \"\u001b[0m\u001b[0;34m,\u001b[0m \u001b[0my\u001b[0m\u001b[0;34m,\u001b[0m \u001b[0;34m\"x/y = \"\u001b[0m\u001b[0;34m,\u001b[0m \u001b[0mx\u001b[0m\u001b[0;34m/\u001b[0m\u001b[0my\u001b[0m\u001b[0;34m)\u001b[0m\u001b[0;34m\u001b[0m\u001b[0;34m\u001b[0m\u001b[0m\n\u001b[0m\u001b[1;32m      6\u001b[0m     \u001b[0my\u001b[0m \u001b[0;34m-=\u001b[0m \u001b[0;36m1\u001b[0m\u001b[0;34m\u001b[0m\u001b[0;34m\u001b[0m\u001b[0m\n",
      "\u001b[0;31mZeroDivisionError\u001b[0m: float division by zero"
     ]
    }
   ],
   "source": [
    "#NoErrorTrap.py\n",
    "x = 12.\n",
    "y = 12.\n",
    "while y >= -12.: # sentinel controlled repetition\n",
    "    print (\"x = \", x, \"y = \", y, \"x/y = \", x/y)\n",
    "    y -= 1"
   ]
  },
  {
   "cell_type": "markdown",
   "metadata": {},
   "source": [
    "## Flowcharts\n",
    "\n",
    "### What is a Flowchart?\n",
    "\n",
    "A flowchart is a type of diagram that represents a workflow or process. A flowchart can also be defined as a diagrammatic representation of an algorithm, a step-by-step approach to solving a task.\n",
    "\n",
    "![](flowchart.png)\n",
    "\n",
    "|Figure 2|Repair Flowchart for a Lamp|https://en.wikipedia.org/wiki/Flowchart|\n",
    "|:---|:---|:---|\n",
    "\n",
    "The flowchart shows the steps as boxes of various kinds, and their order by connecting the boxes with arrows. This diagrammatic representation illustrates a solution model to a given problem. Flowcharts are used in analyzing, designing, documenting or managing a process or program in various fields.\n",
    "\n",
    "There is a symbol convention (a language) as depicted in Figure 2 below (from: https://en.wikipedia.org/wiki/Flowchart)\n",
    "\n",
    "![](flowchartsymbols.png)\n",
    "\n",
    "|Figure 1|Flowchart Symbols|https://en.wikipedia.org/wiki/Flowchart|\n",
    "|:---|:---|:---|\n",
    "\n",
    "IBM engineers implemented programming flowcharts based upon Goldstine and von Neumann's unpublished report, \"Planning and coding of problems for an electronic computing instrument, Part II, Volume 1\" (1947), which is reproduced in von Neumann's collected works.\n",
    "\n",
    "The flowchart became a popular tool for describing computer algorithms, but its popularity decreased in the 1970s, when interactive computer terminals and third-generation programming languages became common tools for computer programming, since algorithms can be expressed more concisely as source code in such languages. Often pseudo-code is used, which uses the common idioms of such languages without strictly adhering to the details of a particular one.\n",
    "\n",
    "Nowadays flowcharts are still used for describing computer algorithms.[9] Modern techniques such as UML activity diagrams and Drakon-charts can be considered to be extensions of the flowchart.\n",
    "\n",
    "Nearly all flowcharts focus on on some kind of control, rather than on the particular flow itself!  While quaint today, they are an effective way to document processes in a program and visualize structures.  We recomend you get in the habit of making rudimentary flowcharts, at least at the supervisory level (the sandwich chart above)\n",
    "\n",
    "### How are they useful?\n",
    "(paraphrased from https://www.breezetree.com/articles/top-reasons-to-flowchart)\n",
    "\n",
    "Sometimes it's more effective to visualize something graphically that it is to describe it with words. That is the essence of what flowcharts do for you. Flowcharts explain a process clearly through symbols and text. Moreover, flowcharts give you the gist of the process flow in a single glance. The following are some of the more salient reasons to use flowcharts.\n",
    "\n",
    "**Process Documentation / Training Materials**\n",
    "Another common use for flowcharts is to create process documentation. Although this reason overlaps with regulatory and quality management requirements (below), many non-regulated businesses use flowcharts for their documentation as well. These can range in form from high-level procedures to low-level, detailed work instructions.\n",
    "\n",
    "You may think that this applies mainly to large organizations, but small companies can greatly benefit from flowcharting their processes as well. Small enterprises need to be nimble and organized. Standardizing their processes is a great way to achieve this. In fact, the popular entrepreneurial book The E-Myth Revisited: Why Most Small Businesses Don't Work and What to Do About It by Michael Gerber is based on the fact that small businesses are more likely to succeed if they treat their operations like a franchise. in a nutshell, this means standardizing and documenting their business processes. There's no better way to do that than with flowcharts, right?\n",
    "\n",
    "Training materials are often created using flowcharts because they're visually stimulating and easy to understand. A nicely laid out flowchart will gain and hold the reader's attention when a block of text will often fail.\n",
    "\n",
    "\n",
    "**Workflow Management and Continuous Improvement**\n",
    "Workflows don't manage themselves. To ensure that you are meeting your customers' needs, you need to take control of your business processes. The first step to workflow management is to define the current state of your processes by creating an \"As-Is Flowchart\". That allows you to analyze your processes for waste and inefficiency. After you have identified areas for process improvement, you can then craft new flowcharts to document the leaner processes.\n",
    "\n",
    "\n",
    "**Programming**\n",
    "Information technology played a big influence on the use and spread of flowcharts in the 20th century. While Dr. W. Edwards Deming was advocating their use in quality management, professionals in the data processing world were using them to flesh out their programming logic. Flowcharts were a mainstay of procedural programming, however, and with the advent of object oriented programming and various modeling tools, the use of flowcharts for programming is no longer as commonplace as it once was.\n",
    "\n",
    "That said, even with in the scope of object oriented programming, complex program logic can be modeled effectively using a flowchart. Moreover, diagramming the user's experience as they navigate through a program is a valuable prerequisite prior to designing the user interface. So flowcharts still have their place in the world of programming.\n",
    "\n",
    "\n",
    "**Troubleshooting Guides**\n",
    "Most of us have come across a troubleshooting flowchart at one time or another. These are usually in the form of Decision Trees that progressively narrow the range of possible solutions based on a series of criteria. The effectiveness of these types of flowcharts depends on how neatly the range of problems and solutions can fit into a simple True/False diagnosis model. A well done troubleshooting flowcharts can cut the problem solving time greatly.\n",
    "\n",
    "**Regulatory and Quality Management Requirements**\n",
    "Your business processes may be subject to regulatory requirements such as Sarbanes-Oxley (SOX), which requires that your accounting procedures be clearly defined and documented. An easy way to do this is to create accounting flowcharts for all your accounting processes.\n",
    "\n",
    "Similarly, many organizations fall under certification requirements for quality management systems - such as ISO 9000, TS 16949, or one of the many others. In such environments, flowcharts are not only useful but in certain clauses they are actually mandated."
   ]
  },
  {
   "cell_type": "code",
   "execution_count": 11,
   "metadata": {},
   "outputs": [
    {
     "name": "stdout",
     "output_type": "stream",
     "text": [
      "atomickitty.aws\n",
      "compthink\n",
      "/opt/conda/envs/python/bin/python\n",
      "3.8.3 (default, Jul  2 2020, 16:21:59) \n",
      "[GCC 7.3.0]\n",
      "sys.version_info(major=3, minor=8, micro=3, releaselevel='final', serial=0)\n"
     ]
    }
   ],
   "source": [
    "import sys\n",
    "! hostname\n",
    "! whoami\n",
    "print(sys.executable)\n",
    "print(sys.version)\n",
    "print(sys.version_info)"
   ]
  },
  {
   "cell_type": "code",
   "execution_count": null,
   "metadata": {},
   "outputs": [],
   "source": []
  }
 ],
 "metadata": {
  "kernelspec": {
   "display_name": "Python 3",
   "language": "python",
   "name": "python3"
  },
  "language_info": {
   "codemirror_mode": {
    "name": "ipython",
    "version": 3
   },
   "file_extension": ".py",
   "mimetype": "text/x-python",
   "name": "python",
   "nbconvert_exporter": "python",
   "pygments_lexer": "ipython3",
   "version": "3.8.5"
  }
 },
 "nbformat": 4,
 "nbformat_minor": 4
}
