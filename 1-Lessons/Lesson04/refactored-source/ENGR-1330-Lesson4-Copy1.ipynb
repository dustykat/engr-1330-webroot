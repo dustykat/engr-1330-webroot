{
 "cells": [
  {
   "cell_type": "markdown",
   "metadata": {},
   "source": [
    "# ENGR 1330 Computational Thinking with Data Science \n",
    "Last GitHub Commit Date: 31 January 2021\n",
    "\n",
    "## Lesson 4 Loops and Flowcharts: \n",
    "- Controlled repetition\n",
    "- Structured FOR Loop\n",
    "- Structured WHILE Loop\n",
    "- Representing computational processes with flowcharts, a graphical abstraction\n",
    "\n",
    "---\n",
    "### Special Script Blocks"
   ]
  },
  {
   "cell_type": "code",
   "execution_count": 11,
   "metadata": {},
   "outputs": [
    {
     "data": {
      "text/html": [
       "<!-- Script Block to set tables to left alignment -->\n",
       "<style>\n",
       "  table {margin-left: 0 !important;}\n",
       "</style>\n"
      ],
      "text/plain": [
       "<IPython.core.display.HTML object>"
      ]
     },
     "metadata": {},
     "output_type": "display_data"
    }
   ],
   "source": [
    "%%html\n",
    "<!-- Script Block to set tables to left alignment -->\n",
    "<style>\n",
    "  table {margin-left: 0 !important;}\n",
    "</style>"
   ]
  },
  {
   "cell_type": "markdown",
   "metadata": {},
   "source": [
    "---\n",
    "## Objectives\n",
    "\n",
    "1) Develop awareness of loops, and their utility in automation. \n",
    "- To understand loop types available in Python.\n",
    "- To understand and implement loops in various examples and configurations.\n",
    "    \n",
    "2) Develop awareness of flowcharts as a tool for: \n",
    "- Post-development documentation\n",
    "- Pre-development program design\n",
    "      \n"
   ]
  },
  {
   "cell_type": "markdown",
   "metadata": {},
   "source": [
    "---\n",
    "## Repetition and Loops\n",
    "\n",
    "**Computational thinking (CT)** concepts involved are:\n",
    "\n",
    "- `Decomposition` : Break a problem down into smaller pieces; the body of tasks in one repetition of a loop represent decomposition of the entire sets of repeated activities\n",
    "- `Pattern Recognition` : Finding similarities between things; the body of tasks in one repetition of a loop is the pattern, the indices and components that change are how we leverage reuse\n",
    "- `Abstraction` : Pulling out specific differences to make one solution work for multiple problems\n",
    "- `Algorithms` : A list of steps that you can follow to finish a task\n",
    "\n",
    "The action of doing something over and over again (repetition) is called a loop.  Basically, Loops repeats a portion of code a finite number of times until a process is complete. Repetitive tasks are very common and essential in programming. They save time in coding, minimize coding errors, and leverage the speed of electronic computation.\n",
    "\n",
    "### Loop Analogs\n",
    "If you think any mass manufacturing process, we apply the same process again and again. Even for something very simple such as preparing a peanut butter sandwich:\n",
    "\n",
    "Consider the ***flowchart*** in Figure 1, it represents a decomposition of sandwich assembly, but at a high level -- for instance, `Gather Ingredients` contains a lot of substeps that would need to be decomposed if fully automated assembly were to be accomplished; nevertheless lets stipulate that this flowchart will indeed construct a single sandwich.\n",
    "\n",
    "![](sandwichchart.png)\n",
    "\n",
    "|Figure 1|Supervisory Flowchart Sandwich Assembly (adapted from http://www.str-tn.org/subway_restaurant_training_manual.pdf) ||\n",
    "|:---|:---|:---|\n",
    "\n",
    "If we need to make 1000 peanut butter sandwichs we would then issue a directive to:\n",
    "\n",
    "1) Implement sandwich assembly, repeat 999 times (repeat is the loop structure) (A serial structure, 1 sandwich artist, doing same job over and over again)\n",
    "\n",
    "**OR**\n",
    "\n",
    "2) Implement 1000 sandwich assembly threads (A parallel structure, 1000 sandwich artists doing same job once)\n",
    "\n",
    "In general because we dont want to idle 999 sandwich artists, we would choose the serial structure, which frees 999 people to ask the existential question \"would you like fries with that?\"\n",
    "\n",
    "All cynicism aside, an automated process such as a loop, is typical in computational processing. \n",
    "\n",
    "***Aside*** NVIDIA CUDA, and AMD OpenGL compilers can detect the structure above, and if there are enough GPU threads available , create the 1000 sandwich artists (1000 GPU threads), and run the process in parallel -- the actual workload is unchanged in a thermodynamic sense, but the apparent time (in human terms) spent in sandwich creation is a fraction of the serial approach.  This parallelization is called unrolling the loop, and is a pretty common optimization step during compilation. This kind of programming is outside the scope of this class.\n",
    "\n",
    "Main attractiveness of loops is:\n",
    "- Leveraging  `pattern matching` and `automation`\n",
    "- Code is more organized and shorter,because a loop is a sequence of instructions that is continually repeated until a certain condition is reached. \n",
    "\n",
    "There are 2 main types loops based on the repetition control condition; `for` loops and `while`loops."
   ]
  },
  {
   "cell_type": "markdown",
   "metadata": {},
   "source": [
    "\n",
    "## For Loop (Count controlled repetition structure)\n",
    "Count-controlled repetition is also called definite repetition because the number of repetitions is known before the loop begins executing. \n",
    "When we do not know in advance the number of times we want to execute a statement, we cannot use count-controlled repetition. \n",
    "In such an instance, we would use sentinel-controlled repetition. \n",
    "\n",
    "A count-controlled repetition will exit after running a certain number of times. \n",
    "The count is kept in a variable called an index or counter. \n",
    "When the index reaches a certain value (the loop bound) the loop will end. \n",
    "\n",
    "Count-controlled repetition requires\n",
    "\n",
    "* control variable (or loop counter)\n",
    "* initial value of the control variable\n",
    "* increment (or decrement) by which the control variable is modified each iteration through the loop\n",
    "* condition that tests for the final value of the control variable \n",
    "\n",
    "We can use both `for` and `while` loops, for count controlled repetition, but the `for` loop in combination with the `range()` function is more common.\n",
    "\n",
    "### Structured `FOR` loop\n",
    "We have seen the for loop already, but we will formally introduce it here. The `for` loop executes a block of code repeatedly until the condition in the `for` statement is no longer true.\n",
    "\n",
    "### Looping through an iterable\n",
    "An iterable is anything that can be looped over - typically a list, string, or tuple. \n",
    "The syntax for looping through an iterable is illustrated by an example.\n",
    "\n",
    "First a generic syntax\n",
    "\n",
    "    for a in iterable:\n",
    "    print(a)\n",
    "    \n",
    "Notice our friends the colon `:` and the indentation.\n",
    "\n",
    "#### The `range()` function to create an iterable\n",
    "\n",
    "The `range(begin,end,increment)` function will create an iterable starting at a value of begin, in steps defined by increment (`begin += increment`), ending at `end`. \n",
    "\n",
    "So a generic syntax becomes\n",
    "\n",
    "    for a in range(begin,end,increment):\n",
    "    print(a)\n",
    "\n",
    "The examples that follow are count-controlled repetition (increment skip if greater)"
   ]
  },
  {
   "cell_type": "markdown",
   "metadata": {},
   "source": [
    "## Example `for` loops"
   ]
  },
  {
   "cell_type": "code",
   "execution_count": 12,
   "metadata": {
    "jupyter": {
     "source_hidden": true
    }
   },
   "outputs": [
    {
     "name": "stdin",
     "output_type": "stream",
     "text": [
      "Enter N 33\n"
     ]
    },
    {
     "name": "stdout",
     "output_type": "stream",
     "text": [
      "Sum from 1 to  33 is 561.000\n"
     ]
    }
   ],
   "source": [
    "# sum numbers from 1 to n\n",
    "howmany = int(input('Enter N'))\n",
    "accumulator = 0.0\n",
    "for i in range(1,howmany+1,1):\n",
    "    accumulator = accumulator + float(i)\n",
    "print( 'Sum from 1 to ',howmany, 'is %.3f' % accumulator  )"
   ]
  },
  {
   "cell_type": "code",
   "execution_count": 13,
   "metadata": {},
   "outputs": [
    {
     "name": "stdin",
     "output_type": "stream",
     "text": [
      "Enter N 33\n"
     ]
    },
    {
     "name": "stdout",
     "output_type": "stream",
     "text": [
      "Sum of Evens from 1 to  33 is 272.000\n"
     ]
    }
   ],
   "source": [
    "# sum even numbers from 1 to n\n",
    "howmany = int(input('Enter N'))\n",
    "accumulator = 0.0\n",
    "for i in range(1,howmany+1,1):\n",
    "    if i%2 == 0:\n",
    "        accumulator = accumulator + float(i)\n",
    "print( 'Sum of Evens from 1 to ',howmany, 'is %.3f' % accumulator  )"
   ]
  },
  {
   "cell_type": "code",
   "execution_count": 14,
   "metadata": {
    "jupyter": {
     "source_hidden": true
    }
   },
   "outputs": [
    {
     "name": "stdin",
     "output_type": "stream",
     "text": [
      "Enter N 33\n"
     ]
    },
    {
     "name": "stdout",
     "output_type": "stream",
     "text": [
      "*\n",
      "**\n",
      "***\n",
      "****\n",
      "*****\n",
      "******\n",
      "*******\n",
      "********\n",
      "*********\n",
      "**********\n",
      "***********\n",
      "************\n",
      "*************\n",
      "**************\n",
      "***************\n",
      "****************\n",
      "*****************\n",
      "******************\n",
      "*******************\n",
      "********************\n",
      "*********************\n",
      "**********************\n",
      "***********************\n",
      "************************\n",
      "*************************\n",
      "**************************\n",
      "***************************\n",
      "****************************\n",
      "*****************************\n",
      "******************************\n",
      "*******************************\n",
      "********************************\n",
      "*********************************\n"
     ]
    }
   ],
   "source": [
    "howmany = int(input('Enter N'))\n",
    "linetoprint=''\n",
    "for i in range(1,howmany+1,1):\n",
    "    linetoprint=linetoprint + '*'\n",
    "    print(linetoprint)"
   ]
  },
  {
   "cell_type": "markdown",
   "metadata": {},
   "source": [
    "## Sentinel-controlled repetition.\n",
    "\n",
    "When loop control is based on the value of what we are processing, sentinel-controlled repetition is used. \n",
    "Sentinel-controlled repetition is also called indefinite repetition because it is not known in advance how many times the loop will be executed. \n",
    "It is a repetition procedure for solving a problem by using a sentinel value (also called a signal value, a dummy value or a flag value) to indicate \"end of process\". \n",
    "The sentinel value itself need not be a part of the processed data.\n",
    "\n",
    "One common example of using sentinel-controlled repetition is when we are processing data from a file and we do not know in advance when we would reach the end of the file. \n",
    "\n",
    "We can use both `for` and `while` loops, for __Sentinel__ controlled repetition, but the `while` loop is more common.\n",
    "\n",
    "### Structured `WHILE` loop\n",
    "The `while` loop repeats a block of instructions inside the loop while a condition remainsvtrue.\n",
    "\n",
    "First a generic syntax\n",
    "\n",
    "    while condition is true:\n",
    "        execute a\n",
    "        execute b\n",
    "    ....\n",
    "\n",
    "Notice our friends the colon `:` and the indentation again."
   ]
  },
  {
   "cell_type": "markdown",
   "metadata": {
    "jupyter": {
     "source_hidden": true
    }
   },
   "source": [
    "# Example `while` loops"
   ]
  },
  {
   "cell_type": "code",
   "execution_count": 15,
   "metadata": {
    "collapsed": true,
    "jupyter": {
     "outputs_hidden": true,
     "source_hidden": true
    }
   },
   "outputs": [
    {
     "name": "stdin",
     "output_type": "stream",
     "text": [
      "Enter N 33\n"
     ]
    },
    {
     "name": "stdout",
     "output_type": "stream",
     "text": [
      "Sum from 1 to  33 is 561.000\n"
     ]
    }
   ],
   "source": [
    "# sum numbers from 1 to n\n",
    "howmany = int(input('Enter N'))\n",
    "accumulator = 0.0\n",
    "counter = 1\n",
    "while counter <= howmany:\n",
    "    accumulator = accumulator + float(counter)\n",
    "    counter += 1\n",
    "print( 'Sum from 1 to ',howmany, 'is %.3f' % accumulator  )"
   ]
  },
  {
   "cell_type": "code",
   "execution_count": 16,
   "metadata": {
    "jupyter": {
     "source_hidden": true
    }
   },
   "outputs": [
    {
     "name": "stdin",
     "output_type": "stream",
     "text": [
      "Enter N 33\n"
     ]
    },
    {
     "name": "stdout",
     "output_type": "stream",
     "text": [
      "Sum of Evens 1 to  33 is 272.000\n"
     ]
    }
   ],
   "source": [
    "# sum even numbers from 1 to n\n",
    "howmany = int(input('Enter N'))\n",
    "accumulator = 0.0\n",
    "counter = 1\n",
    "while counter <= howmany:\n",
    "    if counter%2 == 0:\n",
    "        accumulator = accumulator + float(counter)\n",
    "    counter += 1\n",
    "print( 'Sum of Evens 1 to ',howmany, 'is %.3f' % accumulator  )"
   ]
  },
  {
   "cell_type": "code",
   "execution_count": 17,
   "metadata": {
    "jupyter": {
     "source_hidden": true
    }
   },
   "outputs": [
    {
     "name": "stdin",
     "output_type": "stream",
     "text": [
      "Enter N 33\n"
     ]
    },
    {
     "name": "stdout",
     "output_type": "stream",
     "text": [
      "*\n",
      "**\n",
      "***\n",
      "****\n",
      "*****\n",
      "******\n",
      "*******\n",
      "********\n",
      "*********\n",
      "**********\n",
      "***********\n",
      "************\n",
      "*************\n",
      "**************\n",
      "***************\n",
      "****************\n",
      "*****************\n",
      "******************\n",
      "*******************\n",
      "********************\n",
      "*********************\n",
      "**********************\n",
      "***********************\n",
      "************************\n",
      "*************************\n",
      "**************************\n",
      "***************************\n",
      "****************************\n",
      "*****************************\n",
      "******************************\n",
      "*******************************\n",
      "********************************\n",
      "*********************************\n"
     ]
    }
   ],
   "source": [
    "howmany = int(input('Enter N'))\n",
    "linetoprint=''\n",
    "counter = 1\n",
    "while counter <= howmany:\n",
    "    linetoprint=linetoprint + '*'\n",
    "    counter += 1\n",
    "    print(linetoprint)"
   ]
  },
  {
   "cell_type": "markdown",
   "metadata": {},
   "source": [
    "## Nested Repetition\n",
    "\n",
    "Nested repetition is when a control structure is placed inside of the body or main part of another control structure."
   ]
  },
  {
   "cell_type": "markdown",
   "metadata": {},
   "source": [
    "#### `break` to exit out of a loop\n",
    "\n",
    "Sometimes you may want to exit the loop when a certain condition different from the counting\n",
    "condition is met. Perhaps you are looping through a list and want to exit when you find the\n",
    "first element in the list that matches some criterion. The break keyword is useful for such\n",
    "an operation.\n",
    "\n",
    "For example run the following program:"
   ]
  },
  {
   "cell_type": "code",
   "execution_count": 18,
   "metadata": {},
   "outputs": [
    {
     "name": "stdout",
     "output_type": "stream",
     "text": [
      "i =  0 j =  2\n",
      "i =  1 j =  4\n",
      "i =  2 j =  6\n"
     ]
    }
   ],
   "source": [
    "#\n",
    "j = 0\n",
    "for i in range(0,9,1):\n",
    "    j += 2\n",
    "    print (\"i = \",i,\"j = \",j)\n",
    "    if j == 6:\n",
    "        break   "
   ]
  },
  {
   "cell_type": "code",
   "execution_count": 19,
   "metadata": {},
   "outputs": [
    {
     "name": "stdout",
     "output_type": "stream",
     "text": [
      "i =  0 j =  2\n",
      "i =  1 j =  4\n",
      "i =  2 j =  6\n",
      "i =  3 j =  8\n",
      "i =  4 j =  10\n"
     ]
    }
   ],
   "source": [
    "j = 0\n",
    "for i in range(0,5,1):\n",
    "    j += 2\n",
    "    print( \"i = \",i,\"j = \",j)\n",
    "    if j == 7:\n",
    "        break"
   ]
  },
  {
   "cell_type": "markdown",
   "metadata": {},
   "source": [
    "In the first case, the for loop only executes 3 times before the condition j == 6 is TRUE and the loop is exited. \n",
    "In the second case, j == 7 never happens so the loop completes all its anticipated traverses.\n",
    "\n",
    "In both cases an `if` statement was used within a for loop. Such \"mixed\" control structures\n",
    "are quite common (and pretty necessary). \n",
    "A `while` loop contained within a `for` loop, with several `if` statements would be very common and such a structure is called __nested control.__\n",
    "There is typically an upper limit to nesting but the limit is pretty large - easily in the\n",
    "hundreds. It depends on the language and the system architecture ; suffice to say it is not\n",
    "a practical limit except possibly for general-domain AI applications.\n",
    "<hr>"
   ]
  },
  {
   "cell_type": "markdown",
   "metadata": {},
   "source": [
    "We can also do mundane activities and leverage loops, arithmetic, and format codes to make useful tables like\n"
   ]
  },
  {
   "cell_type": "code",
   "execution_count": 20,
   "metadata": {},
   "outputs": [
    {
     "name": "stdout",
     "output_type": "stream",
     "text": [
      "     Cosines     \n",
      "   x    |  cos(x) \n",
      "--------|--------\n",
      "0.000   |  1.0000 \n",
      "0.100   |  0.9950 \n",
      "0.200   |  0.9801 \n",
      "0.300   |  0.9553 \n",
      "0.400   |  0.9211 \n",
      "0.500   |  0.8776 \n",
      "0.600   |  0.8253 \n",
      "0.700   |  0.7648 \n",
      "0.800   |  0.6967 \n",
      "0.900   |  0.6216 \n",
      "1.000   |  0.5403 \n",
      "1.100   |  0.4536 \n",
      "1.200   |  0.3624 \n",
      "1.300   |  0.2675 \n",
      "1.400   |  0.1700 \n",
      "1.500   |  0.0707 \n",
      "1.600   |  -0.0292 \n",
      "1.700   |  -0.1288 \n",
      "1.800   |  -0.2272 \n",
      "1.900   |  -0.3233 \n",
      "2.000   |  -0.4161 \n",
      "2.100   |  -0.5048 \n",
      "2.200   |  -0.5885 \n",
      "2.300   |  -0.6663 \n",
      "2.400   |  -0.7374 \n",
      "2.500   |  -0.8011 \n",
      "2.600   |  -0.8569 \n",
      "2.700   |  -0.9041 \n",
      "2.800   |  -0.9422 \n",
      "2.900   |  -0.9710 \n",
      "3.000   |  -0.9900 \n",
      "3.100   |  -0.9991 \n",
      "3.200   |  -0.9983 \n",
      "3.300   |  -0.9875 \n",
      "3.400   |  -0.9668 \n",
      "3.500   |  -0.9365 \n",
      "3.600   |  -0.8968 \n",
      "3.700   |  -0.8481 \n",
      "3.800   |  -0.7910 \n",
      "3.900   |  -0.7259 \n",
      "4.000   |  -0.6536 \n",
      "4.100   |  -0.5748 \n",
      "4.200   |  -0.4903 \n",
      "4.300   |  -0.4008 \n",
      "4.400   |  -0.3073 \n",
      "4.500   |  -0.2108 \n",
      "4.600   |  -0.1122 \n",
      "4.700   |  -0.0124 \n",
      "4.800   |  0.0875 \n",
      "4.900   |  0.1865 \n",
      "5.000   |  0.2837 \n",
      "5.100   |  0.3780 \n",
      "5.200   |  0.4685 \n",
      "5.300   |  0.5544 \n",
      "5.400   |  0.6347 \n",
      "5.500   |  0.7087 \n",
      "5.600   |  0.7756 \n",
      "5.700   |  0.8347 \n",
      "5.800   |  0.8855 \n",
      "5.900   |  0.9275 \n",
      "6.000   |  0.9602 \n",
      "6.100   |  0.9833 \n",
      "6.200   |  0.9965 \n",
      "6.300   |  0.9999 \n",
      "6.400   |  0.9932 \n",
      "6.500   |  0.9766 \n",
      "6.600   |  0.9502 \n",
      "6.700   |  0.9144 \n",
      "6.800   |  0.8694 \n",
      "6.900   |  0.8157 \n",
      "7.000   |  0.7539 \n",
      "7.100   |  0.6845 \n",
      "7.200   |  0.6084 \n",
      "7.300   |  0.5261 \n",
      "7.400   |  0.4385 \n",
      "7.500   |  0.3466 \n",
      "7.600   |  0.2513 \n",
      "7.700   |  0.1534 \n",
      "7.800   |  0.0540 \n",
      "7.900   |  -0.0460 \n",
      "8.000   |  -0.1455 \n",
      "8.100   |  -0.2435 \n",
      "8.200   |  -0.3392 \n",
      "8.300   |  -0.4314 \n",
      "8.400   |  -0.5193 \n",
      "8.500   |  -0.6020 \n",
      "8.600   |  -0.6787 \n",
      "8.700   |  -0.7486 \n",
      "8.800   |  -0.8111 \n",
      "8.900   |  -0.8654 \n",
      "9.000   |  -0.9111 \n",
      "9.100   |  -0.9477 \n",
      "9.200   |  -0.9748 \n",
      "9.300   |  -0.9922 \n",
      "9.400   |  -0.9997 \n",
      "9.500   |  -0.9972 \n",
      "9.600   |  -0.9847 \n",
      "9.700   |  -0.9624 \n",
      "9.800   |  -0.9304 \n",
      "9.900   |  -0.8892 \n",
      "10.000   |  -0.8391 \n",
      "10.100   |  -0.7806 \n",
      "10.200   |  -0.7143 \n",
      "10.300   |  -0.6408 \n",
      "10.400   |  -0.5610 \n",
      "10.500   |  -0.4755 \n",
      "10.600   |  -0.3853 \n",
      "10.700   |  -0.2913 \n",
      "10.800   |  -0.1943 \n",
      "10.900   |  -0.0954 \n",
      "11.000   |  0.0044 \n",
      "11.100   |  0.1042 \n",
      "11.200   |  0.2030 \n",
      "11.300   |  0.2997 \n",
      "11.400   |  0.3935 \n",
      "11.500   |  0.4833 \n",
      "11.600   |  0.5683 \n",
      "11.700   |  0.6476 \n",
      "11.800   |  0.7204 \n",
      "11.900   |  0.7861 \n",
      "12.000   |  0.8439 \n",
      "12.100   |  0.8932 \n",
      "12.200   |  0.9336 \n",
      "12.300   |  0.9647 \n",
      "12.400   |  0.9862 \n",
      "12.500   |  0.9978 \n",
      "12.600   |  0.9994 \n",
      "12.700   |  0.9911 \n",
      "12.800   |  0.9728 \n",
      "12.900   |  0.9449 \n",
      "13.000   |  0.9074 \n",
      "13.100   |  0.8610 \n",
      "13.200   |  0.8059 \n",
      "13.300   |  0.7427 \n",
      "13.400   |  0.6722 \n",
      "13.500   |  0.5949 \n",
      "13.600   |  0.5117 \n",
      "13.700   |  0.4234 \n",
      "13.800   |  0.3308 \n",
      "13.900   |  0.2349 \n",
      "14.000   |  0.1367 \n",
      "14.100   |  0.0372 \n",
      "14.200   |  -0.0628 \n",
      "14.300   |  -0.1621 \n",
      "14.400   |  -0.2598 \n",
      "14.500   |  -0.3549 \n",
      "14.600   |  -0.4465 \n",
      "14.700   |  -0.5336 \n",
      "14.800   |  -0.6154 \n",
      "14.900   |  -0.6910 \n",
      "15.000   |  -0.7597 \n",
      "15.100   |  -0.8208 \n",
      "15.200   |  -0.8737 \n",
      "15.300   |  -0.9179 \n",
      "15.400   |  -0.9530 \n",
      "15.500   |  -0.9785 \n",
      "15.600   |  -0.9942 \n"
     ]
    }
   ],
   "source": [
    "import math # package that contains cosine\n",
    "print(\"     Cosines     \")\n",
    "print(\"   x   \",\"|\",\" cos(x) \")\n",
    "print(\"--------|--------\")\n",
    "for i in range(0,157,1):\n",
    "    x = float(i)*0.1\n",
    "    print(\"%.3f\" % x, \"  |\", \" %.4f \"  % math.cos(x)) # note the format code and the placeholder % and syntax "
   ]
  },
  {
   "cell_type": "markdown",
   "metadata": {},
   "source": [
    "#### The `continue` statement\n",
    "The continue instruction skips the block of code after it is executed for that iteration. \n",
    "It is\n",
    "best illustrated by an example."
   ]
  },
  {
   "cell_type": "code",
   "execution_count": 21,
   "metadata": {},
   "outputs": [
    {
     "name": "stdout",
     "output_type": "stream",
     "text": [
      "\n",
      " i =  0 , j =  2\n",
      " this message will be skipped over if j = 6 \n",
      "\n",
      " i =  1 , j =  4\n",
      " this message will be skipped over if j = 6 \n",
      "\n",
      " i =  2 , j =  6\n",
      "\n",
      " i =  3 , j =  8\n",
      " this message will be skipped over if j = 6 \n",
      "\n",
      " i =  4 , j =  10\n",
      " this message will be skipped over if j = 6 \n"
     ]
    }
   ],
   "source": [
    "j = 0\n",
    "for i in range(0,5,1):\n",
    "    j += 2\n",
    "    print (\"\\n i = \", i , \", j = \", j) #here the \\n is a newline command\n",
    "    if j == 6:\n",
    "        continue\n",
    "    print(\" this message will be skipped over if j = 6 \") # still within the loop, so the skip is implemented"
   ]
  },
  {
   "cell_type": "markdown",
   "metadata": {},
   "source": [
    "#### The `try`, `except` structure\n",
    "\n",
    "An important control structure (and a pretty cool one for error trapping) is the `try`, `except`\n",
    "statement.\n",
    "\n",
    "The statement controls how the program proceeds when an error occurs in an instruction.\n",
    "The structure is really useful to trap likely errors (divide by zero, wrong kind of input) \n",
    "yet let the program keep running or at least issue a meaningful message to the user.\n",
    "\n",
    "The syntax is:\n",
    "\n",
    "    try:\n",
    "    do something\n",
    "    except:\n",
    "    do something else if ``do something'' returns an error\n",
    "\n",
    "Here is a really simple, but hugely important example:"
   ]
  },
  {
   "cell_type": "code",
   "execution_count": 5,
   "metadata": {},
   "outputs": [
    {
     "name": "stdout",
     "output_type": "stream",
     "text": [
      "x =  12.0 y =  12.0 x/y =  1.0\n",
      "x =  12.0 y =  11.0 x/y =  1.0909090909090908\n",
      "x =  12.0 y =  10.0 x/y =  1.2\n",
      "x =  12.0 y =  9.0 x/y =  1.3333333333333333\n",
      "x =  12.0 y =  8.0 x/y =  1.5\n",
      "x =  12.0 y =  7.0 x/y =  1.7142857142857142\n",
      "x =  12.0 y =  6.0 x/y =  2.0\n",
      "x =  12.0 y =  5.0 x/y =  2.4\n",
      "x =  12.0 y =  4.0 x/y =  3.0\n",
      "x =  12.0 y =  3.0 x/y =  4.0\n",
      "x =  12.0 y =  2.0 x/y =  6.0\n",
      "x =  12.0 y =  1.0 x/y =  12.0\n",
      "error divide by zero\n",
      "x =  12.0 y =  -1.0 x/y =  -12.0\n",
      "x =  12.0 y =  -2.0 x/y =  -6.0\n",
      "x =  12.0 y =  -3.0 x/y =  -4.0\n",
      "x =  12.0 y =  -4.0 x/y =  -3.0\n",
      "x =  12.0 y =  -5.0 x/y =  -2.4\n",
      "x =  12.0 y =  -6.0 x/y =  -2.0\n",
      "x =  12.0 y =  -7.0 x/y =  -1.7142857142857142\n",
      "x =  12.0 y =  -8.0 x/y =  -1.5\n",
      "x =  12.0 y =  -9.0 x/y =  -1.3333333333333333\n",
      "x =  12.0 y =  -10.0 x/y =  -1.2\n",
      "x =  12.0 y =  -11.0 x/y =  -1.0909090909090908\n",
      "x =  12.0 y =  -12.0 x/y =  -1.0\n",
      "x =  12.0 y =  -13.0 x/y =  -0.9230769230769231\n",
      "x =  12.0 y =  -14.0 x/y =  -0.8571428571428571\n",
      "x =  12.0 y =  -15.0 x/y =  -0.8\n",
      "x =  12.0 y =  -16.0 x/y =  -0.75\n",
      "x =  12.0 y =  -17.0 x/y =  -0.7058823529411765\n",
      "x =  12.0 y =  -18.0 x/y =  -0.6666666666666666\n",
      "x =  12.0 y =  -19.0 x/y =  -0.631578947368421\n",
      "x =  12.0 y =  -20.0 x/y =  -0.6\n",
      "x =  12.0 y =  -21.0 x/y =  -0.5714285714285714\n",
      "x =  12.0 y =  -22.0 x/y =  -0.5454545454545454\n",
      "x =  12.0 y =  -23.0 x/y =  -0.5217391304347826\n",
      "x =  12.0 y =  -24.0 x/y =  -0.5\n",
      "x =  12.0 y =  -25.0 x/y =  -0.48\n",
      "x =  12.0 y =  -26.0 x/y =  -0.46153846153846156\n",
      "x =  12.0 y =  -27.0 x/y =  -0.4444444444444444\n",
      "x =  12.0 y =  -28.0 x/y =  -0.42857142857142855\n",
      "x =  12.0 y =  -29.0 x/y =  -0.41379310344827586\n",
      "x =  12.0 y =  -30.0 x/y =  -0.4\n",
      "x =  12.0 y =  -31.0 x/y =  -0.3870967741935484\n",
      "x =  12.0 y =  -32.0 x/y =  -0.375\n",
      "x =  12.0 y =  -33.0 x/y =  -0.36363636363636365\n",
      "x =  12.0 y =  -34.0 x/y =  -0.35294117647058826\n",
      "x =  12.0 y =  -35.0 x/y =  -0.34285714285714286\n",
      "x =  12.0 y =  -36.0 x/y =  -0.3333333333333333\n",
      "x =  12.0 y =  -37.0 x/y =  -0.32432432432432434\n",
      "x =  12.0 y =  -38.0 x/y =  -0.3157894736842105\n",
      "x =  12.0 y =  -39.0 x/y =  -0.3076923076923077\n",
      "x =  12.0 y =  -40.0 x/y =  -0.3\n",
      "x =  12.0 y =  -41.0 x/y =  -0.2926829268292683\n",
      "x =  12.0 y =  -42.0 x/y =  -0.2857142857142857\n",
      "x =  12.0 y =  -43.0 x/y =  -0.27906976744186046\n",
      "x =  12.0 y =  -44.0 x/y =  -0.2727272727272727\n",
      "x =  12.0 y =  -45.0 x/y =  -0.26666666666666666\n",
      "x =  12.0 y =  -46.0 x/y =  -0.2608695652173913\n",
      "x =  12.0 y =  -47.0 x/y =  -0.2553191489361702\n",
      "x =  12.0 y =  -48.0 x/y =  -0.25\n",
      "x =  12.0 y =  -49.0 x/y =  -0.24489795918367346\n",
      "x =  12.0 y =  -50.0 x/y =  -0.24\n",
      "x =  12.0 y =  -51.0 x/y =  -0.23529411764705882\n",
      "x =  12.0 y =  -52.0 x/y =  -0.23076923076923078\n",
      "x =  12.0 y =  -53.0 x/y =  -0.22641509433962265\n",
      "x =  12.0 y =  -54.0 x/y =  -0.2222222222222222\n",
      "x =  12.0 y =  -55.0 x/y =  -0.21818181818181817\n",
      "x =  12.0 y =  -56.0 x/y =  -0.21428571428571427\n",
      "x =  12.0 y =  -57.0 x/y =  -0.21052631578947367\n",
      "x =  12.0 y =  -58.0 x/y =  -0.20689655172413793\n",
      "x =  12.0 y =  -59.0 x/y =  -0.2033898305084746\n",
      "x =  12.0 y =  -60.0 x/y =  -0.2\n",
      "x =  12.0 y =  -61.0 x/y =  -0.19672131147540983\n",
      "x =  12.0 y =  -62.0 x/y =  -0.1935483870967742\n",
      "x =  12.0 y =  -63.0 x/y =  -0.19047619047619047\n",
      "x =  12.0 y =  -64.0 x/y =  -0.1875\n",
      "x =  12.0 y =  -65.0 x/y =  -0.18461538461538463\n",
      "x =  12.0 y =  -66.0 x/y =  -0.18181818181818182\n",
      "x =  12.0 y =  -67.0 x/y =  -0.1791044776119403\n",
      "x =  12.0 y =  -68.0 x/y =  -0.17647058823529413\n",
      "x =  12.0 y =  -69.0 x/y =  -0.17391304347826086\n",
      "x =  12.0 y =  -70.0 x/y =  -0.17142857142857143\n",
      "x =  12.0 y =  -71.0 x/y =  -0.16901408450704225\n",
      "x =  12.0 y =  -72.0 x/y =  -0.16666666666666666\n",
      "x =  12.0 y =  -73.0 x/y =  -0.1643835616438356\n",
      "x =  12.0 y =  -74.0 x/y =  -0.16216216216216217\n",
      "x =  12.0 y =  -75.0 x/y =  -0.16\n",
      "x =  12.0 y =  -76.0 x/y =  -0.15789473684210525\n",
      "x =  12.0 y =  -77.0 x/y =  -0.15584415584415584\n",
      "x =  12.0 y =  -78.0 x/y =  -0.15384615384615385\n",
      "x =  12.0 y =  -79.0 x/y =  -0.1518987341772152\n",
      "x =  12.0 y =  -80.0 x/y =  -0.15\n",
      "x =  12.0 y =  -81.0 x/y =  -0.14814814814814814\n",
      "x =  12.0 y =  -82.0 x/y =  -0.14634146341463414\n",
      "x =  12.0 y =  -83.0 x/y =  -0.14457831325301204\n",
      "x =  12.0 y =  -84.0 x/y =  -0.14285714285714285\n",
      "x =  12.0 y =  -85.0 x/y =  -0.1411764705882353\n",
      "x =  12.0 y =  -86.0 x/y =  -0.13953488372093023\n",
      "x =  12.0 y =  -87.0 x/y =  -0.13793103448275862\n",
      "x =  12.0 y =  -88.0 x/y =  -0.13636363636363635\n",
      "x =  12.0 y =  -89.0 x/y =  -0.1348314606741573\n",
      "x =  12.0 y =  -90.0 x/y =  -0.13333333333333333\n",
      "x =  12.0 y =  -91.0 x/y =  -0.13186813186813187\n",
      "x =  12.0 y =  -92.0 x/y =  -0.13043478260869565\n",
      "x =  12.0 y =  -93.0 x/y =  -0.12903225806451613\n",
      "x =  12.0 y =  -94.0 x/y =  -0.1276595744680851\n",
      "x =  12.0 y =  -95.0 x/y =  -0.12631578947368421\n",
      "x =  12.0 y =  -96.0 x/y =  -0.125\n",
      "x =  12.0 y =  -97.0 x/y =  -0.12371134020618557\n",
      "x =  12.0 y =  -98.0 x/y =  -0.12244897959183673\n",
      "x =  12.0 y =  -99.0 x/y =  -0.12121212121212122\n",
      "x =  12.0 y =  -100.0 x/y =  -0.12\n",
      "x =  12.0 y =  -101.0 x/y =  -0.1188118811881188\n",
      "x =  12.0 y =  -102.0 x/y =  -0.11764705882352941\n",
      "x =  12.0 y =  -103.0 x/y =  -0.11650485436893204\n",
      "x =  12.0 y =  -104.0 x/y =  -0.11538461538461539\n",
      "x =  12.0 y =  -105.0 x/y =  -0.11428571428571428\n",
      "x =  12.0 y =  -106.0 x/y =  -0.11320754716981132\n",
      "x =  12.0 y =  -107.0 x/y =  -0.11214953271028037\n",
      "x =  12.0 y =  -108.0 x/y =  -0.1111111111111111\n",
      "x =  12.0 y =  -109.0 x/y =  -0.11009174311926606\n",
      "x =  12.0 y =  -110.0 x/y =  -0.10909090909090909\n",
      "x =  12.0 y =  -111.0 x/y =  -0.10810810810810811\n",
      "x =  12.0 y =  -112.0 x/y =  -0.10714285714285714\n",
      "x =  12.0 y =  -113.0 x/y =  -0.10619469026548672\n",
      "x =  12.0 y =  -114.0 x/y =  -0.10526315789473684\n",
      "x =  12.0 y =  -115.0 x/y =  -0.10434782608695652\n",
      "x =  12.0 y =  -116.0 x/y =  -0.10344827586206896\n",
      "x =  12.0 y =  -117.0 x/y =  -0.10256410256410256\n",
      "x =  12.0 y =  -118.0 x/y =  -0.1016949152542373\n",
      "x =  12.0 y =  -119.0 x/y =  -0.10084033613445378\n",
      "x =  12.0 y =  -120.0 x/y =  -0.1\n"
     ]
    }
   ],
   "source": [
    "#MyErrorTrap.py\n",
    "x = 12.\n",
    "y = 12.\n",
    "while y >= -120.: # sentinel controlled repetition\n",
    "    try:         \n",
    "        print (\"x = \", x, \"y = \", y, \"x/y = \", x/y)\n",
    "    except:\n",
    "        print (\"error divide by zero\")\n",
    "    y -= 1"
   ]
  },
  {
   "cell_type": "markdown",
   "metadata": {},
   "source": [
    "So this silly code starts with x fixed at a value of 12, and y starting at 12 and decreasing by\n",
    "1 until y equals -1. The code returns the ratio of x to y and at one point y is equal to zero\n",
    "and the division would be undefined. By trapping the error the code can issue us a measure\n",
    "and keep running.\n",
    "\n",
    "Modify the script as shown below,Run, and see what happens"
   ]
  },
  {
   "cell_type": "code",
   "execution_count": 23,
   "metadata": {},
   "outputs": [
    {
     "name": "stdout",
     "output_type": "stream",
     "text": [
      "x =  12.0 y =  12.0 x/y =  1.0\n",
      "x =  12.0 y =  11.0 x/y =  1.0909090909090908\n",
      "x =  12.0 y =  10.0 x/y =  1.2\n",
      "x =  12.0 y =  9.0 x/y =  1.3333333333333333\n",
      "x =  12.0 y =  8.0 x/y =  1.5\n",
      "x =  12.0 y =  7.0 x/y =  1.7142857142857142\n",
      "x =  12.0 y =  6.0 x/y =  2.0\n",
      "x =  12.0 y =  5.0 x/y =  2.4\n",
      "x =  12.0 y =  4.0 x/y =  3.0\n",
      "x =  12.0 y =  3.0 x/y =  4.0\n",
      "x =  12.0 y =  2.0 x/y =  6.0\n",
      "x =  12.0 y =  1.0 x/y =  12.0\n"
     ]
    },
    {
     "ename": "ZeroDivisionError",
     "evalue": "float division by zero",
     "output_type": "error",
     "traceback": [
      "\u001b[0;31m---------------------------------------------------------------------------\u001b[0m",
      "\u001b[0;31mZeroDivisionError\u001b[0m                         Traceback (most recent call last)",
      "\u001b[0;32m<ipython-input-23-82eeaceb9a12>\u001b[0m in \u001b[0;36m<module>\u001b[0;34m\u001b[0m\n\u001b[1;32m      3\u001b[0m \u001b[0my\u001b[0m \u001b[0;34m=\u001b[0m \u001b[0;36m12.\u001b[0m\u001b[0;34m\u001b[0m\u001b[0;34m\u001b[0m\u001b[0m\n\u001b[1;32m      4\u001b[0m \u001b[0;32mwhile\u001b[0m \u001b[0my\u001b[0m \u001b[0;34m>=\u001b[0m \u001b[0;34m-\u001b[0m\u001b[0;36m12.\u001b[0m\u001b[0;34m:\u001b[0m \u001b[0;31m# sentinel controlled repetition\u001b[0m\u001b[0;34m\u001b[0m\u001b[0;34m\u001b[0m\u001b[0m\n\u001b[0;32m----> 5\u001b[0;31m     \u001b[0mprint\u001b[0m \u001b[0;34m(\u001b[0m\u001b[0;34m\"x = \"\u001b[0m\u001b[0;34m,\u001b[0m \u001b[0mx\u001b[0m\u001b[0;34m,\u001b[0m \u001b[0;34m\"y = \"\u001b[0m\u001b[0;34m,\u001b[0m \u001b[0my\u001b[0m\u001b[0;34m,\u001b[0m \u001b[0;34m\"x/y = \"\u001b[0m\u001b[0;34m,\u001b[0m \u001b[0mx\u001b[0m\u001b[0;34m/\u001b[0m\u001b[0my\u001b[0m\u001b[0;34m)\u001b[0m\u001b[0;34m\u001b[0m\u001b[0;34m\u001b[0m\u001b[0m\n\u001b[0m\u001b[1;32m      6\u001b[0m     \u001b[0my\u001b[0m \u001b[0;34m-=\u001b[0m \u001b[0;36m1\u001b[0m\u001b[0;34m\u001b[0m\u001b[0;34m\u001b[0m\u001b[0m\n",
      "\u001b[0;31mZeroDivisionError\u001b[0m: float division by zero"
     ]
    }
   ],
   "source": [
    "#NoErrorTrap.py\n",
    "x = 12.\n",
    "y = 12.\n",
    "while y >= -12.: # sentinel controlled repetition\n",
    "    print (\"x = \", x, \"y = \", y, \"x/y = \", x/y)\n",
    "    y -= 1"
   ]
  },
  {
   "cell_type": "markdown",
   "metadata": {},
   "source": [
    "## Flowcharts\n",
    "\n",
    "### What is a Flowchart?\n",
    "\n",
    "A flowchart is a type of diagram that represents a workflow or process. A flowchart can also be defined as a diagrammatic representation of an algorithm, a step-by-step approach to solving a task.\n",
    "\n",
    "![](flowchart.png)\n",
    "\n",
    "|Figure 2|Repair Flowchart for a Lamp|https://en.wikipedia.org/wiki/Flowchart|\n",
    "|:---|:---|:---|\n",
    "\n",
    "The flowchart shows the steps as boxes of various kinds, and their order by connecting the boxes with arrows. This diagrammatic representation illustrates a solution model to a given problem. Flowcharts are used in analyzing, designing, documenting or managing a process or program in various fields.\n",
    "\n",
    "There is a symbol convention (a language) as depicted in Figure 2 below (from: https://en.wikipedia.org/wiki/Flowchart)\n",
    "\n",
    "![](flowchartsymbols.png)\n",
    "\n",
    "|Figure 1|Flowchart Symbols|https://en.wikipedia.org/wiki/Flowchart|\n",
    "|:---|:---|:---|\n",
    "\n",
    "IBM engineers implemented programming flowcharts based upon Goldstine and von Neumann's unpublished report, \"Planning and coding of problems for an electronic computing instrument, Part II, Volume 1\" (1947), which is reproduced in von Neumann's collected works.\n",
    "\n",
    "The flowchart became a popular tool for describing computer algorithms, but its popularity decreased in the 1970s, when interactive computer terminals and third-generation programming languages became common tools for computer programming, since algorithms can be expressed more concisely as source code in such languages. Often pseudo-code is used, which uses the common idioms of such languages without strictly adhering to the details of a particular one.\n",
    "\n",
    "Nowadays flowcharts are still used for describing computer algorithms.[9] Modern techniques such as UML activity diagrams and Drakon-charts can be considered to be extensions of the flowchart.\n",
    "\n",
    "Nearly all flowcharts focus on on some kind of control, rather than on the particular flow itself!  While quaint today, they are an effective way to document processes in a program and visualize structures.  We recomend you get in the habit of making rudimentary flowcharts, at least at the supervisory level (the sandwich chart above)\n",
    "\n",
    "### How are they useful?\n",
    "(paraphrased from https://www.breezetree.com/articles/top-reasons-to-flowchart)\n",
    "\n",
    "Sometimes it's more effective to visualize something graphically that it is to describe it with words. That is the essence of what flowcharts do for you. Flowcharts explain a process clearly through symbols and text. Moreover, flowcharts give you the gist of the process flow in a single glance. The following are some of the more salient reasons to use flowcharts.\n",
    "\n",
    "**Process Documentation / Training Materials**\n",
    "Another common use for flowcharts is to create process documentation. Although this reason overlaps with regulatory and quality management requirements (below), many non-regulated businesses use flowcharts for their documentation as well. These can range in form from high-level procedures to low-level, detailed work instructions.\n",
    "\n",
    "You may think that this applies mainly to large organizations, but small companies can greatly benefit from flowcharting their processes as well. Small enterprises need to be nimble and organized. Standardizing their processes is a great way to achieve this. In fact, the popular entrepreneurial book The E-Myth Revisited: Why Most Small Businesses Don't Work and What to Do About It by Michael Gerber is based on the fact that small businesses are more likely to succeed if they treat their operations like a franchise. in a nutshell, this means standardizing and documenting their business processes. There's no better way to do that than with flowcharts, right?\n",
    "\n",
    "Training materials are often created using flowcharts because they're visually stimulating and easy to understand. A nicely laid out flowchart will gain and hold the reader's attention when a block of text will often fail.\n",
    "\n",
    "\n",
    "**Workflow Management and Continuous Improvement**\n",
    "Workflows don't manage themselves. To ensure that you are meeting your customers' needs, you need to take control of your business processes. The first step to workflow management is to define the current state of your processes by creating an \"As-Is Flowchart\". That allows you to analyze your processes for waste and inefficiency. After you have identified areas for process improvement, you can then craft new flowcharts to document the leaner processes.\n",
    "\n",
    "\n",
    "**Programming**\n",
    "Information technology played a big influence on the use and spread of flowcharts in the 20th century. While Dr. W. Edwards Deming was advocating their use in quality management, professionals in the data processing world were using them to flesh out their programming logic. Flowcharts were a mainstay of procedural programming, however, and with the advent of object oriented programming and various modeling tools, the use of flowcharts for programming is no longer as commonplace as it once was.\n",
    "\n",
    "That said, even with in the scope of object oriented programming, complex program logic can be modeled effectively using a flowchart. Moreover, diagramming the user's experience as they navigate through a program is a valuable prerequisite prior to designing the user interface. So flowcharts still have their place in the world of programming.\n",
    "\n",
    "\n",
    "**Troubleshooting Guides**\n",
    "Most of us have come across a troubleshooting flowchart at one time or another. These are usually in the form of Decision Trees that progressively narrow the range of possible solutions based on a series of criteria. The effectiveness of these types of flowcharts depends on how neatly the range of problems and solutions can fit into a simple True/False diagnosis model. A well done troubleshooting flowcharts can cut the problem solving time greatly.\n",
    "\n",
    "**Regulatory and Quality Management Requirements**\n",
    "Your business processes may be subject to regulatory requirements such as Sarbanes-Oxley (SOX), which requires that your accounting procedures be clearly defined and documented. An easy way to do this is to create accounting flowcharts for all your accounting processes.\n",
    "\n",
    "Similarly, many organizations fall under certification requirements for quality management systems - such as ISO 9000, TS 16949, or one of the many others. In such environments, flowcharts are not only useful but in certain clauses they are actually mandated."
   ]
  },
  {
   "cell_type": "markdown",
   "metadata": {},
   "source": [
    "# Sorting (Important Flow Control Cases)\n",
    "**Advanced/Optional Topic**\n",
    "\n",
    "A frequent task in data science, engineering, etc. is the seemingly mundane task of\n",
    "sorting or ordering things. Here we explore a couple of simple sorting algorithms,\n",
    "just to show some of the thoughts that go into such a task, then will ultimately resort\n",
    "to the internal sorting routines built into Python.\n",
    "\n",
    "Sorting is frequently necessary when data are being handled; for example in integration\n",
    "and differentiation the data are usually presented to the various algorithms in ascending or\n",
    "descending order (at least on the x-axis).\n",
    "One may have tables of numbers, representing one or more explanatory variables, and one or\n",
    "more responses. At times we may need to arrange these tables in an order dictated by one\n",
    "or another of these various variables. Alternatively we may want to \f",
    "nd the median value\n",
    "or upper quartile of such a list { this task requires sorting.\n",
    "When sorting, one can also carry along operations to maintain correspondence with other\n",
    "lists (for lack of better name lets call this sort-and-carry).\n",
    "Tasks that fall under the broad category of sorting are:\n",
    "- Sort ; rearrange an array of numbers into numerical order (ascending or descending).\n",
    "- Sort and carry along ; rearrange an array of numbers into numerical order while per-\n",
    "forming the same rearrangement of one or more additional arrays so that the correspon-\n",
    "dence between elements in all arrays is maintained (the sets of arrays are essentially\n",
    "a relational database { so that each record (row) maintains the cross-record (\f",
    "elds;\n",
    "columns) relationship).\n",
    "- Index ; given an array, prepare an index table that is a table of pointers that indicates\n",
    "which number array element comes \f",
    "rst in numerical order, which is second, and so\n",
    "on.\n",
    "- Rank ; given an array, prepare a rank table that tells the numerical rank of an array\n",
    "element.\n",
    "The task of sorting `N` elements requires on the order of $K \\cdot Nlog2N$ operations. The\n",
    "algorithm inventor tries to make $K$ as small as possible (understanding that $K = 0$ is\n",
    "practically impossible). Three useful sorting algorithms are:\n",
    "    \n",
    "    1. Straight insertion sort;\n",
    "    2. Heapsort sort; and\n",
    "    3. Quicksort sort.\n",
    "    \n",
    "The choice of method depends on the size of the list that needs to be sorted. If the list is\n",
    "short (perhaps $N < 50$ elements) then straight insertion is fast enough, concise, and simple\n",
    "to program. For a long list ($N > 1000$ elements) Quicksort is faster, but achieves the speed\n",
    "by use of extra memory. Heapsort is also good for large lists, and is an in-place routine."
   ]
  },
  {
   "cell_type": "markdown",
   "metadata": {},
   "source": [
    "Python lists have a built-in `sort()` method that modifies the list in-place and a `sorted()`\n",
    "built-in function that builds a new sorted list from an iterable. So when sorting needs to\n",
    "be done, you should use the built-in tools. However, because it is a useful programming\n",
    "construct, the three sorting algorithms are presented as Python primitive codes."
   ]
  },
  {
   "cell_type": "markdown",
   "metadata": {},
   "source": [
    "### Bubble Sort\n",
    "The bubble sort is a place to start despite it's relative slowness. It is a pretty reviled\n",
    "algorithm (read the Wikipedia entry), but it is the algorithm that a naive programmer\n",
    "might cobble together in a hurry, and despite its shortcomings (it's really slow and\n",
    "inefficient), it is robust.\n",
    "\n",
    "Here is a description of the sorting task as described by Christian and Griffths (2016)\n",
    "(pg. 65):\n",
    "\n",
    "   \"Imagine you want to alphabetize your unsorted collection of books. A\n",
    "    natural approach would be just to scan across the shelf looking for out-\n",
    "    of-order pairs - Wallace followed by Pynchon, for instance - and \n",
    "    flipping them around. Put Pynchon ahead of Wallace, then continue your scan,\n",
    "    looping around to the beginning of the shelf each time you reach the end.\n",
    "    When you make a complete pass without finding any more out-of-order\n",
    "    pairs on the entire shelf, then you know the job is done.\n",
    "    This process is a Bubble Sort, and it lands us in quadratic time. There\n",
    "    are n books out of order, and each scan through the shelf can move each\n",
    "    one at most one position. (We spot a tiny problem, make a tiny fix.) So\n",
    "    in the worst case, where the shelf is perfectly backward, at least one book\n",
    "    will need to be moved n positions. Thus a maximum of n passes through\n",
    "    n books, which gives us O(n2) in the worst case. For instance, it\n",
    "    means that sorting five shelves of books will take not five times as long as\n",
    "    sorting a single shelf, but twenty-five times as long.\"\n",
    "\n",
    "Converting the word description into Python is fairly simple. We will have a vector of n\n",
    "numbers (we use a vector because its easy to step through the different positions),\n",
    "and we will scan through the vector once (and essentially find the smallest thing),\n",
    "and put it into the first position. Then we scan again from the second position and\n",
    "find the smallest thing remaining, and put it into the second position, and so on until\n",
    "the last scan which should have the remaining largest thing. If we desire a decreasing\n",
    "order, simply change the sense of the comparison.\n",
    "\n",
    "The algorithm defines an array and then sorts by repeated passes through the array.\n",
    "The program (outside of the sorting algorithm) is really quite simple.\n",
    "* Load contents into an array to be sorted.\n",
    "* Echo (print) the array (so we can verify the data are loaded as anticipated).\n",
    "* Loads the sorting function (the two loops)\n",
    "* Sort the array, put the results back into the array (an in-place sort).\n",
    "* Report the results."
   ]
  },
  {
   "cell_type": "code",
   "execution_count": null,
   "metadata": {},
   "outputs": [],
   "source": [
    "#array = [7,11,5,8,9,13,66,99,223]\n",
    "#array = [7,11,5]\n",
    "array=[1003 ,3.2 ,55.5 , -0.0001 , -6 ,666.6 ,102]\n",
    "howMany = len(array)\n",
    "print(\"Item Count = : \",howMany)\n",
    "print(\"Unsorted List : \", array)\n",
    "# insertion sort\n",
    "for irow in range(0, howMany-1) : \n",
    "    for jrow in range(0,(howMany-1-irow)) :\n",
    "        if array[jrow]> array[jrow+1] :\n",
    "            swap = array[jrow]\n",
    "            array[jrow]=array[jrow+1]\n",
    "            array[jrow+1]=swap\n",
    "        else:\n",
    "            continue\n",
    "#results  \n",
    "print(\"Sorted List : \", array, end =\"\")"
   ]
  },
  {
   "cell_type": "markdown",
   "metadata": {},
   "source": [
    "In the script we see that the program (near the bottom of the file) assigns the values to the vector named array and\n",
    "the initial order of the array is ${1003, 3.2, 55.5,-0.0001,-6, 666.6, 102}$. The smallest\n",
    "value in the example is -6 and it appears in the 5-th position, not the 1-st as it\n",
    "should.\n",
    "\n",
    "The first pass through the array will move the largest value, 1003, in sequence to the\n",
    "right until it occupies the last position. Repeated passes through the array move the\n",
    "remaining largest values to the right until the array is ordered. One can consider the\n",
    "values of the array at each scan of the array as a series of transformations (irow-th\n",
    "scan) -- in practical cases we don't necessarily care about the intermediate values,\n",
    "but here because the size is manageable and we are trying to get our feet wet with\n",
    "algorithms, we can look at the values.\n",
    "The sequence of results (transformations) after each pass through the array is shown\n",
    "in the following list:\n",
    "1. Initial value: [1003; 3,2; 55,5;-0,0001;-6; 666,6; 102].\n",
    "2. First pass: [3,2; 55,5;-0,0001;-6; 666,6; 102; 1003].\n",
    "3. Second pass: [3,2;-0,0001;-6; 55,5; 102; 666,6; 1003].\n",
    "4. Third pass: [-0,0001;-6; 3,2; 55,5; 102; 666,6; 1003].\n",
    "5. Fourth pass: [-6;-0,0001; 3,2; 55,5; 102; 666,6; 1003].\n",
    "6. Fifth pass: [-6;-0,0001; 3,2; 55,5; 102; 666,6; 1003]. Sorted, fast scan.\n",
    "7. Sixth pass: [-6;-0,0001; 3,2; 55,5; 102; 666,6; 1003]. Sorted, fast scan.\n",
    "We could probably add additional code to break from the scans when we have a single\n",
    "pass with no exchanges (like the last two scans) -- while meaningless in this example, for larger collections of\n",
    "things, being able to break out when the sorting is complete is a nice feature."
   ]
  },
  {
   "cell_type": "markdown",
   "metadata": {},
   "source": [
    "### Insertion Sort\n",
    "The next type of sorting would be to select one item and locate it either left or right\n",
    "of an adjacent item based on its size { like sorting a deck of cards, or perhaps a better\n",
    "description { again using the bookshelf analog from Christian and Griffths (2016)\n",
    "(pg. 65)\n",
    "\n",
    "You might take a different tack -- pulling all the books off the shelf\n",
    "and putting them back in place one by one. You'd put the ffrst book in\n",
    "the middle of the shelf, then take the second and compare it to the first,\n",
    "inserting it either to the right or to the left. Picking up the third book,\n",
    "you'd run through the books on the shelf from left to right until you found\n",
    "the right spot to tuck it in. Repeating this process, gradually all of the\n",
    "books would end up sorted on the shelf and you'd be done. Computer\n",
    "scientists call this, appropriately enough, Insertion Sort. The good news\n",
    "is that it's arguably even more intuitive than Bubble Sort and doesn't\n",
    "have quite the bad reputation. The bad news is that it's not actually that\n",
    "much faster. You still have to do one insertion for each book. And each\n",
    "insertion still involves moving past about half the books on the shelf, on\n",
    "average, to find the correct place.\n",
    "Although in practice Insertion Sort does run a bit faster than Bubble Sort,\n",
    "again we land squarely, if you will, in quadratic time. Sorting anything\n",
    "more than a single bookshelf is still an unwieldy prospect.\"\n",
    "Listing 8 is an R implementation of a straight insertion sort. The script is quite\n",
    "compact, and I used indentation and extra line spacing to keep track of the scoping\n",
    "delimiters. The sort works as follows, take the an element of the array (start with\n",
    "2 and work to the right) and put it into a temporary location (called swap in my\n",
    "script). Then compare locations to the left of swap. If smaller, then break from the\n",
    "loop, exchange values, otherwise the values are currently ordered. Repeat (starting\n",
    "at the next element) , when all elements have been traversed the resulting vector is\n",
    "sorted. Here are the transformations for each pass through the outer loop:\n",
    "\n",
    "#### Straight Insertion\n",
    "The straight insertion sort is the algorithm a card player would use to sort cards. Pick out\n",
    "the second card and put it into order with respect to the first; then pick the third card\n",
    "and insert it into sequence with the first two; continue until the last card is picked out and\n",
    "inserted. Once the last card is sequenced, the result is a sorted deck (list).\n",
    "Python implementation of such an algorithm is:"
   ]
  },
  {
   "cell_type": "code",
   "execution_count": null,
   "metadata": {},
   "outputs": [],
   "source": [
    "#array = [7,11,5,8,9,13,66,99,223]\n",
    "array = [7,11,5]\n",
    "howMany = len(array)\n",
    "print(\"Item Count = : \",howMany)\n",
    "print(\"Unsorted List : \", array, end =\"\")"
   ]
  },
  {
   "cell_type": "code",
   "execution_count": null,
   "metadata": {},
   "outputs": [],
   "source": [
    "# insertion sort\n",
    "for i in range(1, len(array)): # Traverse through 1 to len(arr) \n",
    "    key = array[i] \n",
    "        # Move elements of arr[0..i-1], that are \n",
    "        # greater than key, to one position ahead \n",
    "        # of their current position \n",
    "    j = i-1\n",
    "    while j >=0 and key < array[j] : \n",
    "            array[j+1] = array[j] \n",
    "            j -= 1\n",
    "    array[j+1] = key \n",
    "#results  \n",
    "print(\"Sorted List : \", array, end =\"\")"
   ]
  },
  {
   "cell_type": "markdown",
   "metadata": {},
   "source": [
    "Probably useful to put into a functional structure:"
   ]
  },
  {
   "cell_type": "code",
   "execution_count": null,
   "metadata": {},
   "outputs": [],
   "source": [
    "# Function to do insertion sort \n",
    "def insertionSort(array): \n",
    "    # Traverse through 1 to len(arr) \n",
    "    for i in range(1, len(array)): \n",
    "        key = array[i] \n",
    "        # Move elements of arr[0..i-1], that are \n",
    "        # greater than key, to one position ahead \n",
    "        # of their current position \n",
    "        j = i-1\n",
    "        while j >=0 and key < array[j] : \n",
    "                array[j+1] = array[j] \n",
    "                j -= 1\n",
    "        array[j+1] = key \n",
    "    return(array)"
   ]
  },
  {
   "cell_type": "code",
   "execution_count": null,
   "metadata": {},
   "outputs": [],
   "source": [
    "array = [7,11,5,8,9,13,66,99,223]\n",
    "print(\"Unsorted List : \", array)\n",
    "insertionSort(array)\n",
    "print(\"Sorted List : \", array, end =\"\")"
   ]
  },
  {
   "cell_type": "markdown",
   "metadata": {},
   "source": [
    "### Merge Sort\n",
    "\n",
    "A practical extension of these slow sorts is called the Merge Sort. It is an incredibly\n",
    "useful method. One simply breaks up the items into smaller arrays, sorts those arrays -\n",
    "then merges the sub-arrays into larger arrays (now already sorted), and \f",
    "nally merges\n",
    "the last two arrays into the \f",
    "nal, single, sorted array.\n",
    "Here is a better description, again from Christian and Griffths (2016):\n",
    "\n",
    "\" ... information processing began in the US censuses of the nineteenth\n",
    "century, with the development, by Herman Hollerith and later by IBM, of\n",
    "physical punch-card sorting devices. In 1936, IBM began producing a line\n",
    "of machines called \\collators\" that could merge two separately ordered\n",
    "stacks of cards into one. As long as the two stacks were themselves sorted,\n",
    "the procedure of merging them into a single sorted stack was incredibly\n",
    "straightforward and took linear time: simply compare the two top cards\n",
    "to each other, move the smaller of them to the new stack you're creating,\n",
    "and repeat until finished.\n",
    "\n",
    "The program that John von Neumann wrote in 1945 to demonstrate the\n",
    "power of the stored-program computer took the idea of collating to its\n",
    "beautiful and ultimate conclusion. Sorting two cards is simple: just put\n",
    "the smaller one on top. And given a pair of two-card stacks, both of them\n",
    "sorted, you can easily collate them into an ordered stack of four. Repeating\n",
    "this trick a few times, you'd build bigger and bigger stacks, each one of\n",
    "them already sorted. Soon enough, you could collate yourself a perfectly\n",
    "sorted full deck - with a final climactic merge, like a riffe shuffle's order-\n",
    "creating twin, producing the desired result. This approach is known today\n",
    "as Merge Sort, one of the legendary algorithms in computer science.\"\n",
    "\n",
    "There are several other variants related to Merge Sort; Quicksort and Heapsort being\n",
    "close relatives;"
   ]
  },
  {
   "cell_type": "code",
   "execution_count": null,
   "metadata": {},
   "outputs": [],
   "source": [
    "# Python program for implementation of MergeSort \n",
    "# https://www.geeksforgeeks.org/merge-sort/\n",
    "# This code is contributed by Mayank Khanna \n",
    "def mergeSort(arr): \n",
    "    if len(arr) >1: \n",
    "        mid = len(arr)//2 # Finding the mid of the array \n",
    "        L = arr[:mid] # Dividing the array elements  \n",
    "        R = arr[mid:] # into 2 halves \n",
    "  \n",
    "        mergeSort(L) # Sorting the first half \n",
    "        mergeSort(R) # Sorting the second half \n",
    "  \n",
    "        i = j = k = 0\n",
    "          \n",
    "        # Copy data to temp arrays L[] and R[] \n",
    "        while i < len(L) and j < len(R): \n",
    "            if L[i] < R[j]: \n",
    "                arr[k] = L[i] \n",
    "                i+= 1\n",
    "            else: \n",
    "                arr[k] = R[j] \n",
    "                j+= 1\n",
    "            k+= 1\n",
    "          \n",
    "        # Checking if any element was left \n",
    "        while i < len(L): \n",
    "            arr[k] = L[i] \n",
    "            i+= 1\n",
    "            k+= 1\n",
    "          \n",
    "        while j < len(R): \n",
    "            arr[k] = R[j] \n",
    "            j+= 1\n",
    "            k+= 1\n",
    "  \n",
    "# Code to print the list \n",
    "def printList(arr): \n",
    "    for i in range(len(arr)):         \n",
    "        print(arr[i], end =\" \") \n",
    "    print() \n",
    "  "
   ]
  },
  {
   "cell_type": "code",
   "execution_count": null,
   "metadata": {},
   "outputs": [],
   "source": [
    "# driver code to test the above code \n",
    "#if __name__ == '__main__': \n",
    "arr=[1003 ,3.2 ,55.5 , -0.0001 , -6 ,666.6 ,102]\n",
    "#arr = [12, 11, 13, 5, 6, 7]  \n",
    "print (\"Given array is\", end =\"\\n\")  \n",
    "printList(arr) \n",
    "mergeSort(arr) \n",
    "print(\"Sorted array is: \", end =\"\\n\") \n",
    "printList(arr) "
   ]
  },
  {
   "cell_type": "markdown",
   "metadata": {},
   "source": [
    "#### Heapsort\n",
    "\n",
    "Need narrative here"
   ]
  },
  {
   "cell_type": "code",
   "execution_count": null,
   "metadata": {},
   "outputs": [],
   "source": [
    "# Python program for implementation of heap Sort \n",
    "  \n",
    "# To heapify subtree rooted at index i. \n",
    "# n is size of heap \n",
    "def heapify(arr, n, i): \n",
    "    largest = i  # Initialize largest as root \n",
    "    l = 2 * i + 1     # left = 2*i + 1 \n",
    "    r = 2 * i + 2     # right = 2*i + 2 \n",
    "  \n",
    "    # See if left child of root exists and is \n",
    "    # greater than root \n",
    "    if l < n and arr[i] < arr[l]: \n",
    "        largest = l \n",
    "  \n",
    "    # See if right child of root exists and is \n",
    "    # greater than root \n",
    "    if r < n and arr[largest] < arr[r]: \n",
    "        largest = r \n",
    "  \n",
    "    # Change root, if needed \n",
    "    if largest != i: \n",
    "        arr[i],arr[largest] = arr[largest],arr[i]  # swap \n",
    "  \n",
    "        # Heapify the root. \n",
    "        heapify(arr, n, largest) \n",
    "  \n",
    "# The main function to sort an array of given size \n",
    "def heapSort(arr): \n",
    "    n = len(arr) \n",
    "  \n",
    "    # Build a maxheap. \n",
    "    # Since last parent will be at ((n//2)-1) we can start at that location. \n",
    "    for i in range(n // 2 - 1, -1, -1): \n",
    "        heapify(arr, n, i) \n",
    "  \n",
    "    # One by one extract elements \n",
    "    for i in range(n-1, 0, -1): \n",
    "        arr[i], arr[0] = arr[0], arr[i]   # swap \n",
    "        heapify(arr, i, 0) \n",
    "  "
   ]
  },
  {
   "cell_type": "code",
   "execution_count": null,
   "metadata": {},
   "outputs": [],
   "source": [
    "# Driver code to test above \n",
    "arr=[1003 ,3.2 ,55.5 , -0.0001 , -6 ,666.6 ,102]\n",
    "#arr = [ 12, 11, 13, 5, 6, 7] \n",
    "heapSort(arr) \n",
    "n = len(arr) \n",
    "print (\"Sorted array is\") \n",
    "for i in range(n): \n",
    "    print (\"%d\" %arr[i]), \n",
    "# This code is contributed by Mohit Kumra "
   ]
  },
  {
   "cell_type": "markdown",
   "metadata": {},
   "source": [
    "#### Lexicographical Sorting\n",
    "\n",
    "Need narrative here"
   ]
  },
  {
   "cell_type": "code",
   "execution_count": null,
   "metadata": {},
   "outputs": [],
   "source": [
    "\n",
    "# Python program to sort the words in lexicographical \n",
    "# order \n",
    "  \n",
    "def sortLexo(my_string): \n",
    "  \n",
    "    # Split the my_string till where space is found. \n",
    "    words = my_string.split() \n",
    "      \n",
    "    # sort() will sort the strings. \n",
    "    words.sort() \n",
    "  \n",
    "    # Iterate i through 'words' to print the words \n",
    "    # in alphabetical manner. \n",
    "    for i in words: \n",
    "        print( i )  \n",
    "  \n",
    "# Driver code  \n",
    "if __name__ == '__main__': \n",
    "      \n",
    "    my_string = \"hello this is example how to sort \" \\\n",
    "              \"the word in alphabetical manner\"\n",
    "    # Calling function \n",
    "    sortLexo(my_string) "
   ]
  },
  {
   "cell_type": "markdown",
   "metadata": {},
   "source": [
    "I conclude the section on sorting with one more quoted section from Christian and\n",
    "Griffiths (2016) about the value for sorting - which is already relevant to a lot of\n",
    "data science:\n",
    "\n",
    "\"The poster child for the advantages of sorting would be an Internet search\n",
    "engine like Google. It seems staggering to think that Google can take the\n",
    "search phrase you typed in and scour the entire Internet for it in less than\n",
    "half a second. Well, it can't - but it doesn't need to. \n",
    "\n",
    "If you're Google, you are almost certain that (a) your data will be searched, (b) it will be\n",
    "searched not just once but repeatedly, and (c) the time needed to sort is\n",
    "somehow less valuable\" than the time needed to search. (Here, sorting\n",
    "is done by machines ahead of time, before the results are needed, and\n",
    "searching is done by users for whom time is of the essence.) \n",
    "All of these factors point in favor of tremendous up-front sorting, which is indeed what\n",
    "Google and its fellow search engines do.\""
   ]
  },
  {
   "cell_type": "markdown",
   "metadata": {},
   "source": [
    "### References\n",
    "\n",
    "1. Computational and Inferential Thinking Ani Adhikari and John DeNero, Computational and Inferential Thinking, The Foundations of Data Science, Creative Commons Attribution-NonCommercial-NoDerivatives 4.0 International (CC BY-NC-ND) Chapters 3-6 https://www.inferentialthinking.com/chapters/03/programming-in-python.html\n",
    "\n",
    "2. Learn Python the Hard Way (Online Book) (https://learnpythonthehardway.org/book/)  Recommended for beginners who want a complete course in programming with Python.\n",
    "\n",
    "3. LearnPython.org (Interactive Tutorial) (https://www.learnpython.org/)  Short, interactive tutorial for those who just need a quick way to pick up Python syntax.\n",
    "\n",
    "4. Brian Christian and Tom Griffiths (2016) ALGORITHMS TO LIVE BY: The Computer Science of Human Decisions Henry Holt and Co. (https://www.amazon.com/Algorithms-Live-Computer-Science-Decisions/dp/1627790365)\n"
   ]
  },
  {
   "cell_type": "code",
   "execution_count": null,
   "metadata": {},
   "outputs": [],
   "source": [
    "import sys\n",
    "! hostname\n",
    "! whoami\n",
    "print(sys.executable)\n",
    "print(sys.version)\n",
    "print(sys.version_info)"
   ]
  },
  {
   "cell_type": "code",
   "execution_count": null,
   "metadata": {},
   "outputs": [],
   "source": []
  }
 ],
 "metadata": {
  "kernelspec": {
   "display_name": "Python 3",
   "language": "python",
   "name": "python3"
  },
  "language_info": {
   "codemirror_mode": {
    "name": "ipython",
    "version": 3
   },
   "file_extension": ".py",
   "mimetype": "text/x-python",
   "name": "python",
   "nbconvert_exporter": "python",
   "pygments_lexer": "ipython3",
   "version": "3.8.10"
  }
 },
 "nbformat": 4,
 "nbformat_minor": 4
}
