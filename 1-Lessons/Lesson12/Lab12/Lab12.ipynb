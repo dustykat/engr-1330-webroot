{
 "cells": [
  {
   "cell_type": "code",
   "execution_count": null,
   "metadata": {
    "collapsed": false,
    "jupyter": {
     "outputs_hidden": false
    }
   },
   "outputs": [],
   "source": [
    "%%html\n",
    "<!--Script block to left align Markdown Tables-->\n",
    "<style>\n",
    "  table {margin-left: 0 !important;}\n",
    "</style>"
   ]
  },
  {
   "cell_type": "markdown",
   "metadata": {},
   "source": [
    "## Full name: \n",
    "## R#: \n",
    "## HEX: \n",
    "## Title of the notebook\n",
    "## Date: "
   ]
  },
  {
   "cell_type": "markdown",
   "metadata": {},
   "source": [
    "# Descriptive Statistics with Python\n",
    "![](https://sd.keepcalms.com/i/keep-calm-and-study-descriptive-statistics.png)\n"
   ]
  },
  {
   "cell_type": "code",
   "execution_count": 58,
   "metadata": {
    "collapsed": false,
    "jupyter": {
     "outputs_hidden": false
    }
   },
   "outputs": [],
   "source": [
    "# Let's import the necessary libraries:\n",
    "import numpy as np\n",
    "import pandas as pd\n",
    "import statistics\n",
    "import scipy.stats\n",
    "import matplotlib.pyplot as plt "
   ]
  },
  {
   "cell_type": "markdown",
   "metadata": {},
   "source": [
    "### Example1: \n",
    "__1. Read the \"AirTraffic.csv\" file as a dataframe and check its first few rows.__<br>\n",
    "__2. Use descriptive functions of the Pandas library to learn more about the dataframe__<br>\n",
    "__3. Compute the arithmetic, harmonic, and geometric mean of 'Distance'.__<br>\n",
    "__4. Find the median of 'Distance'.__<br>\n",
    "__5. Find the most frequent origin country and the most frequent international (non US) destination.__<br>\n",
    "__6. Find the range of 'Distance'.__<br>\n",
    "__7. Find the IQR of 'Distance'.__<br>\n",
    "__8. Use descriptive functions of the Pandas library to get a 5-number summary of 'Distance'. Plot a box plot without outliers.__<br>\n",
    "__9. Find the variance and standard deviation of 'Distance'.__<br>\n",
    "__10. Find the skewness and kurtosis 'Distance'.__<br>"
   ]
  },
  {
   "cell_type": "code",
   "execution_count": 59,
   "metadata": {
    "collapsed": false,
    "jupyter": {
     "outputs_hidden": false
    }
   },
   "outputs": [
    {
     "data": {
      "text/html": [
       "<div>\n",
       "<style scoped>\n",
       "    .dataframe tbody tr th:only-of-type {\n",
       "        vertical-align: middle;\n",
       "    }\n",
       "\n",
       "    .dataframe tbody tr th {\n",
       "        vertical-align: top;\n",
       "    }\n",
       "\n",
       "    .dataframe thead th {\n",
       "        text-align: right;\n",
       "    }\n",
       "</style>\n",
       "<table border=\"1\" class=\"dataframe\">\n",
       "  <thead>\n",
       "    <tr style=\"text-align: right;\">\n",
       "      <th></th>\n",
       "      <th>DISTANCE</th>\n",
       "      <th>ORIGIN_COUNTRY_NAME</th>\n",
       "      <th>DEST_COUNTRY_NAME</th>\n",
       "      <th>AIRCRAFT_GROUP</th>\n",
       "      <th>CLASS</th>\n",
       "      <th>DATA_SOURCE</th>\n",
       "    </tr>\n",
       "  </thead>\n",
       "  <tbody>\n",
       "    <tr>\n",
       "      <th>0</th>\n",
       "      <td>3855</td>\n",
       "      <td>United States</td>\n",
       "      <td>Germany</td>\n",
       "      <td>6</td>\n",
       "      <td>G</td>\n",
       "      <td>IF</td>\n",
       "    </tr>\n",
       "    <tr>\n",
       "      <th>1</th>\n",
       "      <td>5805</td>\n",
       "      <td>United States</td>\n",
       "      <td>Germany</td>\n",
       "      <td>6</td>\n",
       "      <td>G</td>\n",
       "      <td>IF</td>\n",
       "    </tr>\n",
       "    <tr>\n",
       "      <th>2</th>\n",
       "      <td>801</td>\n",
       "      <td>United States</td>\n",
       "      <td>United States</td>\n",
       "      <td>6</td>\n",
       "      <td>G</td>\n",
       "      <td>DF</td>\n",
       "    </tr>\n",
       "    <tr>\n",
       "      <th>3</th>\n",
       "      <td>4343</td>\n",
       "      <td>United States</td>\n",
       "      <td>Germany</td>\n",
       "      <td>6</td>\n",
       "      <td>G</td>\n",
       "      <td>IF</td>\n",
       "    </tr>\n",
       "    <tr>\n",
       "      <th>4</th>\n",
       "      <td>5142</td>\n",
       "      <td>United States</td>\n",
       "      <td>Germany</td>\n",
       "      <td>6</td>\n",
       "      <td>G</td>\n",
       "      <td>IF</td>\n",
       "    </tr>\n",
       "  </tbody>\n",
       "</table>\n",
       "</div>"
      ],
      "text/plain": [
       "   DISTANCE ORIGIN_COUNTRY_NAME DEST_COUNTRY_NAME  AIRCRAFT_GROUP CLASS  \\\n",
       "0      3855       United States           Germany               6     G   \n",
       "1      5805       United States           Germany               6     G   \n",
       "2       801       United States     United States               6     G   \n",
       "3      4343       United States           Germany               6     G   \n",
       "4      5142       United States           Germany               6     G   \n",
       "\n",
       "  DATA_SOURCE  \n",
       "0          IF  \n",
       "1          IF  \n",
       "2          DF  \n",
       "3          IF  \n",
       "4          IF  "
      ]
     },
     "execution_count": 59,
     "metadata": {},
     "output_type": "execute_result"
    }
   ],
   "source": [
    "AT = pd.read_csv(\"AirTraffic.csv\")         #Read the .csv file a data frame\n",
    "AT.head()"
   ]
  },
  {
   "cell_type": "code",
   "execution_count": 60,
   "metadata": {
    "collapsed": false,
    "jupyter": {
     "outputs_hidden": false
    }
   },
   "outputs": [
    {
     "name": "stdout",
     "output_type": "stream",
     "text": [
      "<class 'pandas.core.frame.DataFrame'>\n",
      "RangeIndex: 118279 entries, 0 to 118278\n",
      "Data columns (total 6 columns):\n",
      " #   Column               Non-Null Count   Dtype \n",
      "---  ------               --------------   ----- \n",
      " 0   DISTANCE             118279 non-null  int64 \n",
      " 1   ORIGIN_COUNTRY_NAME  118279 non-null  object\n",
      " 2   DEST_COUNTRY_NAME    118279 non-null  object\n",
      " 3   AIRCRAFT_GROUP       118279 non-null  int64 \n",
      " 4   CLASS                118279 non-null  object\n",
      " 5   DATA_SOURCE          118279 non-null  object\n",
      "dtypes: int64(2), object(4)\n",
      "memory usage: 5.4+ MB\n"
     ]
    }
   ],
   "source": [
    "AT.info()"
   ]
  },
  {
   "cell_type": "code",
   "execution_count": 61,
   "metadata": {
    "collapsed": false,
    "jupyter": {
     "outputs_hidden": false
    }
   },
   "outputs": [
    {
     "name": "stdout",
     "output_type": "stream",
     "text": [
      "The arithmetic mean distance of the 2020 flights is  1101.12 miles\n",
      "The harmonic mean distance of the 2020 flights is  220.81 miles\n",
      "The geometric mean distance of the 2020 flights is  620.39 miles\n"
     ]
    }
   ],
   "source": [
    "Distance = AT['DISTANCE']\n",
    "# Use the mean function from the statistics library\n",
    "mean = statistics.mean(Distance)\n",
    "print(\"The arithmetic mean distance of the 2020 flights is \",round(mean,2),\"miles\")\n",
    "hmean = statistics.harmonic_mean(Distance)\n",
    "print(\"The harmonic mean distance of the 2020 flights is \",round(hmean,2),\"miles\")\n",
    "gmean = statistics.geometric_mean(Distance)\n",
    "print(\"The geometric mean distance of the 2020 flights is \",round(gmean,2),\"miles\")\n"
   ]
  },
  {
   "cell_type": "code",
   "execution_count": 62,
   "metadata": {
    "collapsed": false,
    "jupyter": {
     "outputs_hidden": false
    }
   },
   "outputs": [
    {
     "name": "stdout",
     "output_type": "stream",
     "text": [
      "The median of distance of the 2020  flights is  740 miles\n"
     ]
    }
   ],
   "source": [
    "Distance = AT['DISTANCE']\n",
    "# Use the mean function from the statistics library\n",
    "median = statistics.median(Distance)\n",
    "print(\"The median of distance of the 2020  flights is \",median,\"miles\")"
   ]
  },
  {
   "cell_type": "code",
   "execution_count": 63,
   "metadata": {
    "collapsed": false,
    "jupyter": {
     "outputs_hidden": false
    }
   },
   "outputs": [
    {
     "name": "stdout",
     "output_type": "stream",
     "text": [
      "['United States']\n",
      "['Canada']\n"
     ]
    }
   ],
   "source": [
    "Origin = AT['ORIGIN_COUNTRY_NAME']\n",
    "Destination = np.array(AT['DEST_COUNTRY_NAME'])\n",
    "Destination_nonUS = np.delete(Destination, np.where(Destination == 'United States'))\n",
    "\n",
    "mode_ori = statistics.multimode(Origin)\n",
    "mode_des = statistics.multimode(Destination_nonUS)\n",
    "\n",
    "print(mode_ori) #Returns a list of all modes\n",
    "print(mode_des) #Returns a list of all modes"
   ]
  },
  {
   "cell_type": "code",
   "execution_count": 64,
   "metadata": {
    "collapsed": false,
    "jupyter": {
     "outputs_hidden": false
    }
   },
   "outputs": [
    {
     "name": "stdout",
     "output_type": "stream",
     "text": [
      "The range of distance of the 2020  flights is  9778 miles\n"
     ]
    }
   ],
   "source": [
    "Distance = AT['DISTANCE']\n",
    "Range = np.ptp(Distance) #ptp stands for Peak To Peak\n",
    "print(\"The range of distance of the 2020  flights is \",Range,\"miles\")"
   ]
  },
  {
   "cell_type": "code",
   "execution_count": 65,
   "metadata": {
    "collapsed": false,
    "jupyter": {
     "outputs_hidden": false
    }
   },
   "outputs": [
    {
     "name": "stdout",
     "output_type": "stream",
     "text": [
      "[335.0, 740.0, 1303.0]\n",
      "The IQR of distance of the 2020  flights is  968.0 miles\n"
     ]
    }
   ],
   "source": [
    "Distance = AT['DISTANCE']\n",
    "Qs = statistics.quantiles(Distance, n=4, method='inclusive')\n",
    "print(Qs)\n",
    "IQR = scipy.stats.iqr(Distance)\n",
    "print(\"The IQR of distance of the 2020  flights is \",IQR,\"miles\")"
   ]
  },
  {
   "cell_type": "code",
   "execution_count": 66,
   "metadata": {
    "collapsed": false,
    "jupyter": {
     "outputs_hidden": false
    }
   },
   "outputs": [
    {
     "data": {
      "text/plain": [
       "count    118279.000000\n",
       "mean       1101.120165\n",
       "std        1260.423448\n",
       "min           1.000000\n",
       "25%         335.000000\n",
       "50%         740.000000\n",
       "75%        1303.000000\n",
       "max        9779.000000\n",
       "Name: DISTANCE, dtype: float64"
      ]
     },
     "execution_count": 66,
     "metadata": {},
     "output_type": "execute_result"
    }
   ],
   "source": [
    "Distance = AT['DISTANCE']\n",
    "Distance.describe()\n"
   ]
  },
  {
   "cell_type": "code",
   "execution_count": 67,
   "metadata": {
    "collapsed": false,
    "jupyter": {
     "outputs_hidden": false
    }
   },
   "outputs": [
    {
     "data": {
      "image/png": "[encoded data removed]",
      "text/plain": [
       "<Figure size 504x360 with 1 Axes>"
      ]
     },
     "execution_count": 67,
     "metadata": {
      "image/png": {
       "height": 302,
       "width": 437
      },
      "needs_background": "light"
     },
     "output_type": "execute_result"
    }
   ],
   "source": [
    "fig = plt.figure(figsize =(7, 5))\n",
    "plt.boxplot(Distance,medianprops={'linewidth': 1, 'color': 'purple'},showfliers=False)\n",
    "\n",
    "plt.show()"
   ]
  },
  {
   "cell_type": "code",
   "execution_count": 68,
   "metadata": {
    "collapsed": false,
    "jupyter": {
     "outputs_hidden": false
    }
   },
   "outputs": [
    {
     "name": "stdout",
     "output_type": "stream",
     "text": [
      "The variance and standard deviation of distance of the 2020 flights is  1588667.27  and  1260.42  respectively\n"
     ]
    }
   ],
   "source": [
    "Distance = AT['DISTANCE']\n",
    "var = statistics.variance(Distance)\n",
    "sd = statistics.stdev(Distance)\n",
    "print(\"The variance and standard deviation of distance of the 2020 flights is \",round(var,2),\" and \",round(sd,2),\" respectively\")"
   ]
  },
  {
   "cell_type": "code",
   "execution_count": 69,
   "metadata": {
    "collapsed": false,
    "jupyter": {
     "outputs_hidden": false
    }
   },
   "outputs": [
    {
     "name": "stdout",
     "output_type": "stream",
     "text": [
      "The skewness and kurtosis of distance of the 2020 flights is  2.63  and  8.13  respectively\n"
     ]
    }
   ],
   "source": [
    "Distance = AT['DISTANCE']\n",
    "skew = scipy.stats.skew(Distance)\n",
    "kurtosis = scipy.stats.kurtosis(Distance)\n",
    "print(\"The skewness and kurtosis of distance of the 2020 flights is \",round(skew,2),\" and \",round(kurtosis,2),\" respectively\")"
   ]
  },
  {
   "cell_type": "markdown",
   "metadata": {},
   "source": [
    "### Exercise1: \n",
    "__1. Read the \"Lubbock_Oct_T&P.csv\" file as a dataframe and check its first few rows.__<br>\n",
    "__2. Use descriptive functions of the Pandas library and explain the format of the dataframe__<br>\n",
    "__3. Compute the arithmetic, harmonic, and geometric mean of 'temperature'.__<br>\n",
    "__4. Find the median of 'precipitation' and 'temperature'.__<br>\n",
    "__5. Report whether set of 'temperature' has one mode, two modes, or multiple modes.__<br>\n",
    "__6. Find the range and IQR of 'precipitation'.__<br>\n",
    "__7. Find the 10th,40th, and 70th percentile of 'temperature'.__<br>\n",
    "__8. Provide a 5-number summary of 'precipitation'. Plot a box plot without outliers. Interpret it in your own words__<br>\n",
    "__9. Find the variance and standard deviation of 'precipitation'.__<br>\n",
    "__10. Find the skewness and kurtosis 'precipitation'.__<br>"
   ]
  },
  {
   "cell_type": "markdown",
   "metadata": {},
   "source": [
    "### Exercise2: Share your ideas on the importance and applications of descriptive statistics, especially in Engineering."
   ]
  },
  {
   "cell_type": "code",
   "execution_count": null,
   "metadata": {
    "collapsed": false,
    "jupyter": {
     "outputs_hidden": false
    }
   },
   "outputs": [],
   "source": []
  }
 ],
 "metadata": {
  "kernelspec": {
   "display_name": "Python 3",
   "language": "python",
   "name": "python3"
  },
  "language_info": {
   "codemirror_mode": {
    "name": "ipython",
    "version": 3
   },
   "file_extension": ".py",
   "mimetype": "text/x-python",
   "name": "python",
   "nbconvert_exporter": "python",
   "pygments_lexer": "ipython3",
   "version": "3.8.10"
  }
 },
 "nbformat": 4,
 "nbformat_minor": 4
}
