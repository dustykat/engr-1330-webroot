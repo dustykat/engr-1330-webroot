{
 "cells": [
  {
   "cell_type": "code",
   "execution_count": 3,
   "metadata": {},
   "outputs": [
    {
     "data": {
      "text/html": [
       "<!--Script block to left align Markdown Tables-->\n",
       "<style>\n",
       "  table {margin-left: 0 !important;}\n",
       "</style>\n"
      ],
      "text/plain": [
       "<IPython.core.display.HTML object>"
      ]
     },
     "metadata": {},
     "output_type": "display_data"
    }
   ],
   "source": [
    "%%html\n",
    "<!--Script block to left align Markdown Tables-->\n",
    "<style>\n",
    "  table {margin-left: 0 !important;}\n",
    "</style>"
   ]
  },
  {
   "cell_type": "code",
   "execution_count": 4,
   "metadata": {},
   "outputs": [
    {
     "name": "stdout",
     "output_type": "stream",
     "text": [
      "atomickitty.aws\n",
      "engr1330content\n",
      "/opt/conda/envs/python/bin/python\n",
      "3.8.3 (default, Jul  2 2020, 16:21:59) \n",
      "[GCC 7.3.0]\n",
      "sys.version_info(major=3, minor=8, micro=3, releaselevel='final', serial=0)\n"
     ]
    }
   ],
   "source": [
    "# Preamble script block to identify host, user, and kernel\n",
    "import sys\n",
    "! hostname\n",
    "! whoami\n",
    "print(sys.executable)\n",
    "print(sys.version)\n",
    "print(sys.version_info)"
   ]
  },
  {
   "cell_type": "markdown",
   "metadata": {},
   "source": [
    "# ENGR 1330 Computational Thinking with Data Science \n",
    "Last GitHub Commit Date: 16 Mar 2021\n",
    "\n",
    "## Lesson 20 : Multiple Linear Regression\n",
    "\n",
    "A procedure to use additional variables to make predictions.  OLS is not confined to a single explainatory variable; we can consider a collection of explainatory variables.\n",
    "\n",
    "## Objectives\n",
    "- To apply fundamental concepts involved in data modeling and regression;\n",
    "  - Is a single variable a good estimator of the target process?\n",
    "  - \n",
    "---\n",
    "\n",
    "## Computational Thinking Concepts\n",
    "The CT concepts include:\n",
    "\n",
    "- Abstraction => Represent data behavior with a model\n",
    "- Pattern Recognition => Compare patterns in (our) data models to make a decision\n",
    "---\n",
    "\n",
    "# Textbook Resources\n",
    "\n",
    "[https://inferentialthinking.com/chapters/15/Prediction.html](https://inferentialthinking.com/chapters/15/Prediction.html)\n",
    "\n",
    "You know the URL that no-one reads, perhaps because there is a \"secret\" module you need to install, without instructions of how! \n",
    "\n",
    "<hr>\n",
    "\n",
    "\n",
    "# An example of Multiple Linear Regression\n",
    "\n",
    "As an example consider EcommerceCustomers and the effect, if any, of advertising."
   ]
  },
  {
   "cell_type": "code",
   "execution_count": 36,
   "metadata": {},
   "outputs": [],
   "source": [
    "import pandas as pd\n",
    "import numpy as np\n",
    "import matplotlib.pyplot as plt\n",
    "import seaborn as sns"
   ]
  },
  {
   "cell_type": "code",
   "execution_count": 37,
   "metadata": {},
   "outputs": [
    {
     "data": {
      "text/html": [
       "<div>\n",
       "<style scoped>\n",
       "    .dataframe tbody tr th:only-of-type {\n",
       "        vertical-align: middle;\n",
       "    }\n",
       "\n",
       "    .dataframe tbody tr th {\n",
       "        vertical-align: top;\n",
       "    }\n",
       "\n",
       "    .dataframe thead th {\n",
       "        text-align: right;\n",
       "    }\n",
       "</style>\n",
       "<table border=\"1\" class=\"dataframe\">\n",
       "  <thead>\n",
       "    <tr style=\"text-align: right;\">\n",
       "      <th></th>\n",
       "      <th>Email</th>\n",
       "      <th>Address</th>\n",
       "      <th>Avatar</th>\n",
       "      <th>Avg. Session Length</th>\n",
       "      <th>Time on App</th>\n",
       "      <th>Time on Website</th>\n",
       "      <th>Length of Membership</th>\n",
       "      <th>Yearly Amount Spent</th>\n",
       "    </tr>\n",
       "  </thead>\n",
       "  <tbody>\n",
       "    <tr>\n",
       "      <th>0</th>\n",
       "      <td>mstephenson@fernandez.com</td>\n",
       "      <td>835 Frank Tunnel\\nWrightmouth, MI 82180-9605</td>\n",
       "      <td>Violet</td>\n",
       "      <td>34.497268</td>\n",
       "      <td>12.655651</td>\n",
       "      <td>39.577668</td>\n",
       "      <td>4.082621</td>\n",
       "      <td>587.951054</td>\n",
       "    </tr>\n",
       "    <tr>\n",
       "      <th>1</th>\n",
       "      <td>hduke@hotmail.com</td>\n",
       "      <td>4547 Archer Common\\nDiazchester, CA 06566-8576</td>\n",
       "      <td>DarkGreen</td>\n",
       "      <td>31.926272</td>\n",
       "      <td>11.109461</td>\n",
       "      <td>37.268959</td>\n",
       "      <td>2.664034</td>\n",
       "      <td>392.204933</td>\n",
       "    </tr>\n",
       "    <tr>\n",
       "      <th>2</th>\n",
       "      <td>pallen@yahoo.com</td>\n",
       "      <td>24645 Valerie Unions Suite 582\\nCobbborough, D...</td>\n",
       "      <td>Bisque</td>\n",
       "      <td>33.000915</td>\n",
       "      <td>11.330278</td>\n",
       "      <td>37.110597</td>\n",
       "      <td>4.104543</td>\n",
       "      <td>487.547505</td>\n",
       "    </tr>\n",
       "    <tr>\n",
       "      <th>3</th>\n",
       "      <td>riverarebecca@gmail.com</td>\n",
       "      <td>1414 David Throughway\\nPort Jason, OH 22070-1220</td>\n",
       "      <td>SaddleBrown</td>\n",
       "      <td>34.305557</td>\n",
       "      <td>13.717514</td>\n",
       "      <td>36.721283</td>\n",
       "      <td>3.120179</td>\n",
       "      <td>581.852344</td>\n",
       "    </tr>\n",
       "    <tr>\n",
       "      <th>4</th>\n",
       "      <td>mstephens@davidson-herman.com</td>\n",
       "      <td>14023 Rodriguez Passage\\nPort Jacobville, PR 3...</td>\n",
       "      <td>MediumAquaMarine</td>\n",
       "      <td>33.330673</td>\n",
       "      <td>12.795189</td>\n",
       "      <td>37.536653</td>\n",
       "      <td>4.446308</td>\n",
       "      <td>599.406092</td>\n",
       "    </tr>\n",
       "  </tbody>\n",
       "</table>\n",
       "</div>"
      ],
      "text/plain": [
       "                           Email  \\\n",
       "0      mstephenson@fernandez.com   \n",
       "1              hduke@hotmail.com   \n",
       "2               pallen@yahoo.com   \n",
       "3        riverarebecca@gmail.com   \n",
       "4  mstephens@davidson-herman.com   \n",
       "\n",
       "                                             Address            Avatar  \\\n",
       "0       835 Frank Tunnel\\nWrightmouth, MI 82180-9605            Violet   \n",
       "1     4547 Archer Common\\nDiazchester, CA 06566-8576         DarkGreen   \n",
       "2  24645 Valerie Unions Suite 582\\nCobbborough, D...            Bisque   \n",
       "3   1414 David Throughway\\nPort Jason, OH 22070-1220       SaddleBrown   \n",
       "4  14023 Rodriguez Passage\\nPort Jacobville, PR 3...  MediumAquaMarine   \n",
       "\n",
       "   Avg. Session Length  Time on App  Time on Website  Length of Membership  \\\n",
       "0            34.497268    12.655651        39.577668              4.082621   \n",
       "1            31.926272    11.109461        37.268959              2.664034   \n",
       "2            33.000915    11.330278        37.110597              4.104543   \n",
       "3            34.305557    13.717514        36.721283              3.120179   \n",
       "4            33.330673    12.795189        37.536653              4.446308   \n",
       "\n",
       "   Yearly Amount Spent  \n",
       "0           587.951054  \n",
       "1           392.204933  \n",
       "2           487.547505  \n",
       "3           581.852344  \n",
       "4           599.406092  "
      ]
     },
     "execution_count": 37,
     "metadata": {},
     "output_type": "execute_result"
    }
   ],
   "source": [
    "ecom = pd.read_csv(\"EcommerceCustomers.csv\") # Read the file as a .CSV assign to a dataframe evapdf\n",
    "ecom.head() # check structure"
   ]
  },
  {
   "cell_type": "code",
   "execution_count": 62,
   "metadata": {},
   "outputs": [
    {
     "data": {
      "text/plain": [
       "<AxesSubplot:xlabel='Length of Membership'>"
      ]
     },
     "execution_count": 62,
     "metadata": {},
     "output_type": "execute_result"
    },
    {
     "data": {
      "image/png": "[encoded data removed]",
      "text/plain": [
       "<Figure size 432x288 with 1 Axes>"
      ]
     },
     "metadata": {
      "needs_background": "light"
     },
     "output_type": "display_data"
    }
   ],
   "source": [
    "ecom.plot(x=\"Length of Membership\", y=\"Yearly Amount Spent\", style='o')"
   ]
  },
  {
   "cell_type": "code",
   "execution_count": 43,
   "metadata": {},
   "outputs": [],
   "source": [
    "#advrt = pd.read_csv(\"advertisingB.csv\") # Read the file as a .CSV assign to a dataframe \n",
    "#advrt.head() # check structure"
   ]
  },
  {
   "cell_type": "code",
   "execution_count": 44,
   "metadata": {},
   "outputs": [],
   "source": [
    "def linearsolver(A,b):\n",
    "    n = len(A)\n",
    "    M = A\n",
    "\n",
    "    i = 0\n",
    "    for x in M:\n",
    "     x.append(b[i])\n",
    "     i += 1\n",
    "\n",
    "    for k in range(n):\n",
    "     for i in range(k,n):\n",
    "       if abs(M[i][k]) > abs(M[k][k]):\n",
    "          M[k], M[i] = M[i],M[k]\n",
    "       else:\n",
    "          pass\n",
    "\n",
    "     for j in range(k+1,n):\n",
    "         q = float(M[j][k]) / M[k][k]\n",
    "         for m in range(k, n+1):\n",
    "            M[j][m] -=  q * M[k][m]\n",
    "\n",
    "    x = [0 for i in range(n)]\n",
    "\n",
    "    x[n-1] =float(M[n-1][n])/M[n-1][n-1]\n",
    "    for i in range (n-1,-1,-1):\n",
    "      z = 0\n",
    "      for j in range(i+1,n):\n",
    "          z = z  + float(M[i][j])*x[j]\n",
    "      x[i] = float(M[i][n] - z)/M[i][i]\n",
    "#    print (x)\n",
    "    return(x)\n",
    "\n",
    "def matrixvectormult(amatrix,xvector,rowNumA,colNumA):\n",
    "    bvector=[0.0 for i in range(rowNumA)]\n",
    "    for i in range(0,rowNumA):\n",
    "        for j in range(0,1):\n",
    "            for k in range(0,colNumA):\n",
    "                bvector[i]=bvector[i]+amatrix[i][k]*xvector[k]\n",
    "    return(bvector)"
   ]
  },
  {
   "cell_type": "code",
   "execution_count": 45,
   "metadata": {},
   "outputs": [],
   "source": [
    "apptime=ecom[\"Time on App\"]\n",
    "seslen=ecom[\"Avg. Session Length\"]\n",
    "memlen=ecom[\"Length of Membership\"]\n",
    "webtime=ecom[\"Time on Website\"]\n",
    "moneyshot=ecom[\"Yearly Amount Spent\"]"
   ]
  },
  {
   "cell_type": "code",
   "execution_count": 46,
   "metadata": {},
   "outputs": [],
   "source": [
    "colNum = 5\n",
    "rowNum = len(moneyshot)\n",
    "excitation_matrix = [[0 for j in range(colNum)] for i in range(rowNum)]\n",
    "#result_matrix = [[0 for j in range(colNumB)] for i in range(rowNumA)]\n",
    "for i in range(0,rowNum):\n",
    "    excitation_matrix[i][0]=1\n",
    "    excitation_matrix[i][1]=apptime[i]\n",
    "    excitation_matrix[i][2]=seslen[i]\n",
    "    excitation_matrix[i][3]=memlen[i]\n",
    "    excitation_matrix[i][4]=webtime[i]\n",
    "# observe the triple for-loop structure and the counting scheme\n",
    "xt_matrix = [[0 for j in range(rowNum)] for i in range(colNum)] #transpose the matrix\n",
    "for i in range(0,rowNum):\n",
    "    for j in range(0,colNum):\n",
    "        xt_matrix[j][i]=excitation_matrix[i][j]\n",
    "rowNumA = 5 # a == transpose(excitation_matrix)\n",
    "colNumA = rowNum \n",
    "rowNumB = rowNum\n",
    "colNumB = 5 # b == excitation_matrix\n",
    "xtx_matrix = [[0 for j in range(colNumB)] for i in range(rowNumA)]\n",
    "for i in range(0,rowNumA):\n",
    "    for j in range(0,colNumB):\n",
    "        for k in range(0,colNumA):\n",
    "            xtx_matrix[i][j]=xtx_matrix[i][j]+xt_matrix[i][k]*excitation_matrix[k][j]\n",
    "# observe the triple for-loop structure and the counting scheme\n",
    "xty_vector = []\n",
    "xty_vector = matrixvectormult(xt_matrix,moneyshot,rowNumA,colNumA)"
   ]
  },
  {
   "cell_type": "code",
   "execution_count": 47,
   "metadata": {},
   "outputs": [],
   "source": [
    "# copy amatrix into cmatrix\n",
    "cmatrix = [[xtx_matrix[i][j] for j in range(colNumB)]for i in range(rowNumA)]\n",
    "dvector = [xty_vector[i] for i in range(rowNumA)]\n",
    "\n",
    "dvector = linearsolver(xtx_matrix,xty_vector)"
   ]
  },
  {
   "cell_type": "code",
   "execution_count": 48,
   "metadata": {},
   "outputs": [
    {
     "data": {
      "text/plain": [
       "[-1051.5942552997137,\n",
       " 38.709153810827736,\n",
       " 25.734271084677594,\n",
       " 61.57732375487672,\n",
       " 0.4367388355965311]"
      ]
     },
     "execution_count": 48,
     "metadata": {},
     "output_type": "execute_result"
    }
   ],
   "source": [
    "dvector"
   ]
  },
  {
   "cell_type": "code",
   "execution_count": 49,
   "metadata": {},
   "outputs": [],
   "source": [
    "def moneyShot(app_time,session_length,member_length,website_time):\n",
    "    moneyShot = -1051.5942552997137+38.709153810827736*app_time+25.734271084677594*session_length+61.57732375487672*member_length+0.4367388355965311*website_time\n",
    "    return(moneyShot)"
   ]
  },
  {
   "cell_type": "code",
   "execution_count": 51,
   "metadata": {},
   "outputs": [
    {
     "data": {
      "image/png": "[encoded data removed]",
      "text/plain": [
       "<Figure size 432x288 with 1 Axes>"
      ]
     },
     "metadata": {
      "needs_background": "light"
     },
     "output_type": "display_data"
    },
    {
     "data": {
      "image/png": "[encoded data removed]",
      "text/plain": [
       "<Figure size 432x288 with 1 Axes>"
      ]
     },
     "metadata": {
      "needs_background": "light"
     },
     "output_type": "display_data"
    }
   ],
   "source": [
    "predicted_spend = []\n",
    "webtime = []\n",
    "avgtim=ecom[\"Time on App\"].mean()\n",
    "avgses=ecom[\"Avg. Session Length\"].mean()\n",
    "avgmem=ecom[\"Length of Membership\"].mean()\n",
    "avgweb=ecom[\"Time on Website\"].mean()\n",
    "varweb=ecom[\"Time on Website\"].std()\n",
    "\n",
    "low = avgweb - 3*varweb\n",
    "high = avgweb + 3*varweb\n",
    "hilo = high - low\n",
    "for i in range(101):\n",
    "    wtime = low + float(i)*hilo/100.\n",
    "    webtime.append(wtime)\n",
    "    predicted_spend.append(moneyShot(avgtim,avgses,avgmem,wtime))\n",
    "    \n",
    "import matplotlib.pyplot \n",
    "matplotlib.pyplot.scatter(webtime,predicted_spend)\n",
    "matplotlib.pyplot.xlabel('Time on Website - minutes')\n",
    "matplotlib.pyplot.ylabel('Customer Annual Spend ')\n",
    "matplotlib.pyplot.xlabel('Time on Website - minutes')\n",
    "matplotlib.pyplot.title('Spend versus Time on Website ')\n",
    "matplotlib.pyplot.show()\n",
    "\n",
    "# In class - add other components; examine apparent slope\n",
    "predicted_spend = []\n",
    "predictor = []\n",
    "avgtim=ecom[\"Time on App\"].mean()\n",
    "avgses=ecom[\"Avg. Session Length\"].mean()\n",
    "avgmem=ecom[\"Length of Membership\"].mean()\n",
    "varmem=ecom[\"Length of Membership\"].std()\n",
    "avgweb=ecom[\"Time on Website\"].mean()\n",
    "varweb=ecom[\"Time on Website\"].std()\n",
    "\n",
    "low = avgmem - 3*varmem\n",
    "high = avgmem + 3*varmem\n",
    "hilo = high - low\n",
    "for i in range(101):\n",
    "    wtime = low + float(i)*hilo/100.\n",
    "    predictor.append(wtime)\n",
    "    predicted_spend.append(moneyShot(avgtim,avgses,wtime,avgweb))\n",
    "    \n",
    "import matplotlib.pyplot \n",
    "matplotlib.pyplot.scatter(predictor,predicted_spend)\n",
    "matplotlib.pyplot.xlabel('Member Length - years')\n",
    "matplotlib.pyplot.ylabel('Customer Annual Spend ')\n",
    "matplotlib.pyplot.title('Spend versus Time on Website ')\n",
    "matplotlib.pyplot.show()"
   ]
  },
  {
   "cell_type": "markdown",
   "metadata": {},
   "source": [
    "# Weighted Least Squares\n",
    "\n",
    "https://scipython.com/book/chapter-8-scipy/examples/weighted-and-non-weighted-least-squares-fitting/\n",
    "\n",
    "Consider our last lesson where we used linear algebra to construct OLS regressions\n",
    "\n",
    "$\\mathbf{X^T}\\mathbf{Y}=\\mathbf{X^T}\\mathbf{X}\\mathbf{\\beta}$ \n",
    "\n",
    "If we were to insert an identy matrix (1s on the diagonal, 0s elsewhere) we could write:\n",
    "\n",
    "$\\mathbf{X^T}\\mathbf{I}\\mathbf{Y}=\\mathbf{X^T}\\mathbf{I}\\mathbf{X}\\mathbf{\\beta}$  and there is no change.\n"
   ]
  },
  {
   "cell_type": "markdown",
   "metadata": {},
   "source": [
    "https://www.statsmodels.org/0.6.1/examples/notebooks/generated/wls.html"
   ]
  },
  {
   "cell_type": "code",
   "execution_count": 52,
   "metadata": {},
   "outputs": [],
   "source": [
    "# copy/adapted from https://www.statsmodels.org/0.6.1/examples/notebooks/generated/wls.html\n",
    "\n",
    "\n",
    "from __future__ import print_function\n",
    "import numpy as np\n",
    "from scipy import stats\n",
    "import statsmodels.api as sm\n",
    "import matplotlib.pyplot as plt\n",
    "from statsmodels.sandbox.regression.predstd import wls_prediction_std\n",
    "from statsmodels.iolib.table import (SimpleTable, default_txt_fmt)\n",
    "np.random.seed(1024)"
   ]
  },
  {
   "cell_type": "code",
   "execution_count": 53,
   "metadata": {},
   "outputs": [],
   "source": [
    "nsample = 50\n",
    "x = np.linspace(0, 20, nsample)\n",
    "X = np.column_stack((x, (x - 5)**2))\n",
    "X = sm.add_constant(X)\n",
    "beta = [5., 0.5, -0.01]\n",
    "sig = 0.5\n",
    "w = np.ones(nsample)\n",
    "w[int(nsample * 6/10):] = 3\n",
    "y_true = np.dot(X, beta)\n",
    "e = np.random.normal(size=nsample)\n",
    "y = y_true + sig * w * e\n",
    "X = X[:,[0,1]]\n"
   ]
  },
  {
   "cell_type": "code",
   "execution_count": 55,
   "metadata": {},
   "outputs": [
    {
     "name": "stdout",
     "output_type": "stream",
     "text": [
      "                            WLS Regression Results                            \n",
      "==============================================================================\n",
      "Dep. Variable:                      y   R-squared:                       0.910\n",
      "Model:                            WLS   Adj. R-squared:                  0.909\n",
      "Method:                 Least Squares   F-statistic:                     487.9\n",
      "Date:                Tue, 06 Apr 2021   Prob (F-statistic):           8.52e-27\n",
      "Time:                        15:45:25   Log-Likelihood:                -57.048\n",
      "No. Observations:                  50   AIC:                             118.1\n",
      "Df Residuals:                      48   BIC:                             121.9\n",
      "Df Model:                           1                                         \n",
      "Covariance Type:            nonrobust                                         \n",
      "==============================================================================\n",
      "                 coef    std err          t      P>|t|      [0.025      0.975]\n",
      "------------------------------------------------------------------------------\n",
      "const          5.2726      0.185     28.488      0.000       4.900       5.645\n",
      "x1             0.4379      0.020     22.088      0.000       0.398       0.478\n",
      "==============================================================================\n",
      "Omnibus:                        5.040   Durbin-Watson:                   2.242\n",
      "Prob(Omnibus):                  0.080   Jarque-Bera (JB):                6.431\n",
      "Skew:                           0.024   Prob(JB):                       0.0401\n",
      "Kurtosis:                       4.756   Cond. No.                         17.0\n",
      "==============================================================================\n",
      "\n",
      "Warnings:\n",
      "[1] Standard Errors assume that the covariance matrix of the errors is correctly specified.\n"
     ]
    }
   ],
   "source": [
    "mod_wls = sm.WLS(y, X, weights=1./w)\n",
    "res_wls = mod_wls.fit()\n",
    "print(res_wls.summary())"
   ]
  },
  {
   "cell_type": "code",
   "execution_count": 56,
   "metadata": {},
   "outputs": [
    {
     "name": "stdout",
     "output_type": "stream",
     "text": [
      "[5.24256099 0.43486879]\n",
      "[5.27260714 0.43794441]\n"
     ]
    }
   ],
   "source": [
    "res_ols = sm.OLS(y, X).fit()\n",
    "print(res_ols.params)\n",
    "print(res_wls.params)"
   ]
  },
  {
   "cell_type": "code",
   "execution_count": 57,
   "metadata": {},
   "outputs": [],
   "source": [
    "covb = res_ols.cov_params()\n",
    "prediction_var = res_ols.mse_resid + (X * np.dot(covb,X.T).T).sum(1)\n",
    "prediction_std = np.sqrt(prediction_var)\n",
    "tppf = stats.t.ppf(0.975, res_ols.df_resid)"
   ]
  },
  {
   "cell_type": "code",
   "execution_count": 58,
   "metadata": {},
   "outputs": [],
   "source": [
    "prstd_ols, iv_l_ols, iv_u_ols = wls_prediction_std(res_ols)"
   ]
  },
  {
   "cell_type": "code",
   "execution_count": 59,
   "metadata": {},
   "outputs": [
    {
     "data": {
      "image/png": "[encoded data removed]",
      "text/plain": [
       "<Figure size 576x432 with 1 Axes>"
      ]
     },
     "metadata": {
      "needs_background": "light"
     },
     "output_type": "display_data"
    }
   ],
   "source": [
    "prstd, iv_l, iv_u = wls_prediction_std(res_wls)\n",
    "\n",
    "fig, ax = plt.subplots(figsize=(8,6))\n",
    "ax.plot(x, y, 'o', label=\"Data\")\n",
    "ax.plot(x, y_true, 'b-', label=\"True\")\n",
    "# OLS\n",
    "ax.plot(x, res_ols.fittedvalues, 'r--')\n",
    "ax.plot(x, iv_u_ols, 'r--', label=\"OLS\")\n",
    "ax.plot(x, iv_l_ols, 'r--')\n",
    "# WLS\n",
    "ax.plot(x, res_wls.fittedvalues, 'g--.')\n",
    "ax.plot(x, iv_u, 'g--', label=\"WLS\")\n",
    "ax.plot(x, iv_l, 'g--')\n",
    "ax.legend(loc=\"best\");"
   ]
  },
  {
   "cell_type": "code",
   "execution_count": 16,
   "metadata": {},
   "outputs": [
    {
     "name": "stdout",
     "output_type": "stream",
     "text": [
      "                            WLS Regression Results                            \n",
      "==============================================================================\n",
      "Dep. Variable:                      y   R-squared:                       0.841\n",
      "Model:                            WLS   Adj. R-squared:                  0.838\n",
      "Method:                 Least Squares   F-statistic:                     253.8\n",
      "Date:                Thu, 05 Nov 2020   Prob (F-statistic):           8.51e-21\n",
      "Time:                        13:07:55   Log-Likelihood:                -74.830\n",
      "No. Observations:                  50   AIC:                             153.7\n",
      "Df Residuals:                      48   BIC:                             157.5\n",
      "Df Model:                           1                                         \n",
      "Covariance Type:            nonrobust                                         \n",
      "==============================================================================\n",
      "                 coef    std err          t      P>|t|      [0.025      0.975]\n",
      "------------------------------------------------------------------------------\n",
      "const          5.0946      0.267     19.052      0.000       4.557       5.632\n",
      "x1             0.4484      0.028     15.933      0.000       0.392       0.505\n",
      "==============================================================================\n",
      "Omnibus:                       14.163   Durbin-Watson:                   1.358\n",
      "Prob(Omnibus):                  0.001   Jarque-Bera (JB):               15.559\n",
      "Skew:                          -1.145   Prob(JB):                     0.000418\n",
      "Kurtosis:                       4.492   Cond. No.                         17.3\n",
      "==============================================================================\n",
      "\n",
      "Warnings:\n",
      "[1] Standard Errors assume that the covariance matrix of the errors is correctly specified.\n"
     ]
    }
   ],
   "source": [
    "resid1 = res_ols.resid[w==1.]\n",
    "var1 = resid1.var(ddof=int(res_ols.df_model)+1)\n",
    "resid2 = res_ols.resid[w!=1.]\n",
    "var2 = resid2.var(ddof=int(res_ols.df_model)+1)\n",
    "w_est = w.copy()\n",
    "w_est[w!=1.] = np.sqrt(var2) / np.sqrt(var1)\n",
    "res_fwls = sm.WLS(y, X, 1./w_est).fit()\n",
    "print(res_fwls.summary())"
   ]
  },
  {
   "cell_type": "markdown",
   "metadata": {},
   "source": [
    "https://en.wikipedia.org/wiki/Weighted_least_squares\n",
    "\n",
    "https://scipython.com/book/chapter-8-scipy/examples/weighted-and-non-weighted-least-squares-fitting/"
   ]
  },
  {
   "cell_type": "code",
   "execution_count": null,
   "metadata": {},
   "outputs": [],
   "source": []
  }
 ],
 "metadata": {
  "kernelspec": {
   "display_name": "Python 3",
   "language": "python",
   "name": "python3"
  },
  "language_info": {
   "codemirror_mode": {
    "name": "ipython",
    "version": 3
   },
   "file_extension": ".py",
   "mimetype": "text/x-python",
   "name": "python",
   "nbconvert_exporter": "python",
   "pygments_lexer": "ipython3",
   "version": "3.8.10"
  }
 },
 "nbformat": 4,
 "nbformat_minor": 4
}
