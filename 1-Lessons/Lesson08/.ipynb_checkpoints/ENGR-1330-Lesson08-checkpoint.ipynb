{
 "cells": [
  {
   "cell_type": "markdown",
   "metadata": {},
   "source": [
    "Download this page as a jupyter notebook at [Lesson 8](http://54.243.252.9/engr-1330-webroot/1-Lessons/Lesson08/ENGR-1330-Lesson08.ipynb)"
   ]
  },
  {
   "cell_type": "markdown",
   "metadata": {},
   "source": [
    "# ENGR 1330 Computational Thinking with Data Science \n",
    "Copyright © 2021 Theodore G. Cleveland and Farhang Forghanparast\n",
    "\n",
    "Last GitHub Commit Date: 10 September 2021\n",
    "\n",
    "## Lesson 8 Matrix Arithmetic:\n",
    "- The Matrix:A data structure \n",
    "\n",
    "- Matrix Definition \n",
    "- Matrix Arithmetic\n",
    " - Multiply a matrix by a scalar .\n",
    " - Matrix addition (and subtraction) \n",
    " - Multiply a matrix \n",
    " - Identity matrix \n",
    " - Matrix Inverse \n",
    "   - Gauss-Jordan method of finding $A^{−1}$\n"
   ]
  },
  {
   "cell_type": "code",
   "execution_count": 6,
   "metadata": {},
   "outputs": [
    {
     "name": "stdout",
     "output_type": "stream",
     "text": [
      "atomickitty\n",
      "sensei\n",
      "/home/sensei/engr-1330-webroot/1-Lessons/Lesson08\n",
      "/opt/jupyterhub/bin/python3\n"
     ]
    }
   ],
   "source": [
    "# Script block to identify host, user, and kernel\n",
    "import sys\n",
    "! hostname; ! whoami; ! pwd; \n",
    "print(sys.executable)"
   ]
  },
  {
   "cell_type": "code",
   "execution_count": 7,
   "metadata": {},
   "outputs": [
    {
     "data": {
      "text/html": [
       "<!-- Script Block to set tables to left alignment -->\n",
       "<style>\n",
       "  table {margin-left: 0 !important;}\n",
       "</style>\n"
      ],
      "text/plain": [
       "<IPython.core.display.HTML object>"
      ]
     },
     "metadata": {},
     "output_type": "display_data"
    }
   ],
   "source": [
    "%%html\n",
    "<!-- Script Block to set tables to left alignment -->\n",
    "<style>\n",
    "  table {margin-left: 0 !important;}\n",
    "</style>"
   ]
  },
  {
   "cell_type": "markdown",
   "metadata": {},
   "source": [
    "---\n",
    "## Objectives\n",
    "1. Demonstrate matrices as a list of lists\n",
    "2. Demonstrate matrix arithmetic using fundamental arithmetic and list manipulation\n"
   ]
  },
  {
   "cell_type": "markdown",
   "metadata": {},
   "source": [
    "---\n",
    "\n",
    "# Matrices and Vectors\n",
    "\n",
    "A matrix is a rectangular array of numbers.\n",
    "\n",
    "\\begin{gather}\n",
    "\\begin{pmatrix}\n",
    "1 & 5 & 7 & 2\\\\\n",
    "2 & 9 & 17 & 5 \\\\\n",
    "11 & 15 & 8 & 3 \\\\\n",
    "\\end{pmatrix}\n",
    "\\end{gather}\n",
    "\n",
    "The size of a matrix is referred to in terms of the number of rows and the number of columns. \n",
    "The enclosing parenthesis are optional above, but become meaningful when writing multiple matrices next to each other.\n",
    "The above matrix is 3 by 4.  \n",
    "\n",
    "When we are discussing matrices we will often refer to specific numbers in the matrix.\n",
    "To refer to a specific element of a matrix we refer to the row number (i) and the column number (j).\n",
    "We will often call a specific element of the matrix, the $a_{i,j}$ -th element of the matrix.\n",
    "For example $a_{2,3}$ element in the above matrix is 17.  \n",
    "\n",
    "We have seen in Python that we would refer to the element as $a_{matrix}[i][j]$ or whatever the name of the matrix is in the program; with the caveat that the elements start counting at 0. For instance in the matrix above $a_{matrix}[0][0]$ contains the value 1.\n",
    "\n",
    "A vector is really just a matrix with a single column, but are often treated as different kinds of entities.\n",
    "In python core, a matrix is simply a list of lists - each row is a list, and the matrix is a collection of rows.  A vector is simply a collection (list) of elements (we can force a vector to be a matrix, but we would have a structure that builds a collection of single element lists)\n",
    "\n",
    "For small matrices we can build them with explicit code; but larger ones are usually kept in files (hence the file handling lesson prior to this lesson).  Also processing matrices as lists is ultimately cumbersome, so we will later employ the `numpy` package that greatly facilitates matrix manipulation - here we will learn about matrix manipulation for the pedagogcal aspect.\n",
    "\n",
    "To complete this section, lets create the matrix above and access its contents."
   ]
  },
  {
   "cell_type": "code",
   "execution_count": 8,
   "metadata": {},
   "outputs": [
    {
     "name": "stdout",
     "output_type": "stream",
     "text": [
      "rows =  3 cols =  4\n",
      "[1, 5, 7, 2]\n",
      "[2, 9, 17, 5]\n",
      "[11, 15, 8, 3]\n"
     ]
    }
   ],
   "source": [
    "amatrix = [[1 , 5 , 7 , 2],\n",
    "           [2 , 9 , 17 , 5],\n",
    "           [11 , 15 , 8 , 3]]\n",
    "print('rows = ',len(amatrix),'cols = ',len(amatrix[0]))\n",
    "for i in range(len(amatrix)): # print by row\n",
    "    print(amatrix[i][:])"
   ]
  },
  {
   "cell_type": "markdown",
   "metadata": {},
   "source": [
    "---\n",
    "\n",
    "\n"
   ]
  },
  {
   "cell_type": "markdown",
   "metadata": {},
   "source": [
    "---\n",
    "\n",
    "### Matrix Arithmetic\n",
    "Analysis of many problems in engineering result in systems of simultaneous equations.\n",
    "We typically represent systems of equations with a matrix. For example the two-\n",
    "equation system,\n",
    "\n",
    "\\begin{gather}\n",
    "\\begin{matrix}\n",
    "2x_1 & ~+~~3x_2  \\\\\n",
    "~\\\\\n",
    "4x_1 & ~-~~3x_2 \\\\\n",
    "\\end{matrix}\n",
    "\\begin{matrix}\n",
    "=~8\\\\\n",
    "~\\\\\n",
    "=~-2\\\\\n",
    "\\end{matrix}\n",
    "\\end{gather}\n",
    "\n",
    "Could be represented by set of vectors and matrices(Usually called ``vector-matrix'' form.   Additionally, a vector is really just a matrix with column rank = 1 (a single column matrix).)\n",
    "\n",
    "\\begin{gather}\n",
    "\\mathbf{A} =\n",
    "\\begin{pmatrix}\n",
    "2 & ~3 \\\\\n",
    "~\\\\\n",
    "4 & -3 \\\\\n",
    "\\end{pmatrix}\n",
    "~\n",
    "\\mathbf{x} =\n",
    "\\begin{pmatrix}\n",
    "x_1\\\\\n",
    "~\\\\\n",
    "x_2\\\\\n",
    "\\end{pmatrix}\n",
    "~\n",
    "\\mathbf{b} =\n",
    "\\begin{pmatrix}\n",
    "~8\\\\\n",
    "~\\\\\n",
    "-2\\\\\n",
    "\\end{pmatrix}\n",
    "\\end{gather}\n",
    "\n",
    "and the linear system then written as\n",
    "\n",
    "\\begin{gather}\n",
    "\\mathbf{A} \\cdot \\mathbf{x} = \\mathbf{b}\n",
    "\\end{gather}\n",
    "\n",
    "So the \"algebra\" is considerably simplified, at least for writing things, \n",
    "however we now have to be able to do things like multiplication (indicated by $ ~\\cdot $) as well as the concept of addition and subtraction, and division (multiplication by an inverse).  \n",
    "\n",
    "There are also several kinds of matrix multiplication -- the inner (or dot) product as required by the linear system, the vector (cross product), the exterior (wedge), and outer (tensor) product are a few of importance in both mathematics and engineering. \n"
   ]
  },
  {
   "cell_type": "markdown",
   "metadata": {},
   "source": [
    "---\n",
    "\n",
    "### Matrix Arithmetic\n",
    "\n",
    "#### Multiply a matrix by a scalar\n",
    "A scalar multiple of a matrix is simply each element of the matrix multiplied by the scalar value.\n",
    " Consider the matrix $\\mathbf{A}$ below.\n",
    "\\begin{gather}\n",
    "\\mathbf{A}=\n",
    "\\begin{pmatrix}\n",
    "1 & 5 & 7 \\\\\n",
    "2 & 9 & 3 \\\\\n",
    "4 & 4 & 8 \\\\\n",
    "\\end{pmatrix}\n",
    "\\end{gather}\n",
    "\n",
    "If the scalar is say 2, then $2 \\times \\mathbf{A}$ is computed by doubling each element of $\\mathbf{A}$, as\n",
    "\n",
    "\\begin{gather}\n",
    "2\\mathbf{A}=\n",
    "\\begin{pmatrix}\n",
    "2 & 10 & 14\\\\\n",
    "4 & 18 & 6 \\\\\n",
    "8 & 8 & 16 \\\\\n",
    "\\end{pmatrix}\n",
    "\\end{gather}"
   ]
  },
  {
   "cell_type": "code",
   "execution_count": 9,
   "metadata": {},
   "outputs": [
    {
     "name": "stdin",
     "output_type": "stream",
     "text": [
      "Enter scalar value for multiply matrix \n",
      " 2\n"
     ]
    },
    {
     "name": "stdout",
     "output_type": "stream",
     "text": [
      "[2.0, 10.0, 14.0]\n",
      "[4.0, 18.0, 6.0]\n",
      "[8.0, 8.0, 16.0]\n"
     ]
    }
   ],
   "source": [
    "amatrix = [[1 , 5 , 7 ],\n",
    "           [2 , 9 , 3],\n",
    "           [4 , 4 , 8 ]]\n",
    "MyScalar = input(\"Enter scalar value for multiply matrix \\n\")\n",
    "MyScalar = float(MyScalar)  # force a float\n",
    "# now perform element-by-element multiplication\n",
    "for i in range(0,len(amatrix),1):\n",
    "   for j in range(0,len(amatrix[0]),1):\n",
    "       amatrix[i][j] = MyScalar * amatrix[i][j] # this will change contents of amatrix\n",
    "for i in range(len(amatrix)): # print by row\n",
    "    print(amatrix[i][:])"
   ]
  },
  {
   "cell_type": "markdown",
   "metadata": {},
   "source": [
    "---\n",
    "\n",
    "#### Matrix addition (and subtraction)\n",
    "Matrix addition and subtraction are also element-by-element operations.\n",
    "In order to add or subtract two matrices they must be the same size and shape.\n",
    "This requirement means that they must have the same number of rows and columns.\n",
    "To add or subtract a matrix we simply add or subtract the corresponding elements from each matrix.\n",
    "\n",
    "For example consider the two matrices $\\mathbf{A}$ and $\\mathbf{B}$ below\n",
    "\n",
    "\\begin{gather}\n",
    "\\mathbf{A}=\n",
    "\\begin{pmatrix}\n",
    "1 & 5 & 7 \\\\\n",
    "2 & 9 & 3 \\\\\n",
    "\\end{pmatrix}\n",
    "~ \n",
    "\\mathbf{B}=\n",
    "\\begin{pmatrix}\n",
    "3 & -2 & 1 \\\\\n",
    "-2 & 1 & 1 \\\\\n",
    "\\end{pmatrix}\n",
    "\\end{gather}\n",
    "\n",
    "For example the sum of these two matrices is the matrix named $\\mathbf{A+B}$,  shown below:\n",
    "\n",
    "\\begin{gather}\n",
    "\\mathbf{A+B}=\n",
    "\\begin{pmatrix}\n",
    "1+3 & 5-2 & 7+1 \\\\\n",
    "2-2 & 9+1 & 3+1 \\\\\n",
    "\\end{pmatrix}\n",
    "=\n",
    "\\begin{pmatrix}\n",
    "4 & 3 & 8 \\\\\n",
    "0 & 10 & 4 \\\\\n",
    "\\end{pmatrix}\n",
    "\\end{gather}\n",
    "\n",
    "Now to do the operation in Python, we need to read in the matrices, perform the addition, and write the result.  "
   ]
  },
  {
   "cell_type": "code",
   "execution_count": 10,
   "metadata": {},
   "outputs": [
    {
     "name": "stdout",
     "output_type": "stream",
     "text": [
      "[4, 3, 8]\n",
      "[0, 10, 4]\n"
     ]
    }
   ],
   "source": [
    "amatrix = [[1 , 5 , 7 ],\n",
    "           [2 , 9 , 3]]\n",
    "bmatrix = [[3 , -2 , 1 ],\n",
    "           [-2 , 1 , 1]]\n",
    "cmatrix = [[0 for j in range(len(amatrix[0]))] for i in range(len(amatrix))] # 2D list to receive input; explicit sizing\n",
    "for i in range(len(amatrix)):\n",
    "    for j in range(len(amatrix[0])):\n",
    "        cmatrix[i][j]= amatrix[i][j] + bmatrix[i][j]\n",
    "for i in range(len(cmatrix)): # print by row\n",
    "    print(cmatrix[i][:])"
   ]
  },
  {
   "cell_type": "markdown",
   "metadata": {},
   "source": [
    "In the code example above I added a third matrix to store the result -- generally we don't want to clobber existing matrices; Also notice the construction of the third matrix, because I should know the size I can use a double constructor-type  iterator assignment to create and fill the matrix with zeros in the correct size and shape. \n",
    "\n",
    "Sometimes it doesn't matter if we clobber an existing matrix in which case something like:"
   ]
  },
  {
   "cell_type": "code",
   "execution_count": 11,
   "metadata": {},
   "outputs": [
    {
     "name": "stdout",
     "output_type": "stream",
     "text": [
      "[4, 3, 8]\n",
      "[0, 10, 4]\n"
     ]
    }
   ],
   "source": [
    "amatrix = [[1 , 5 , 7 ],\n",
    "           [2 , 9 , 3]]\n",
    "bmatrix = [[3 , -2 , 1 ],\n",
    "           [-2 , 1 , 1]]\n",
    "for i in range(len(amatrix)):\n",
    "    for j in range(len(amatrix[0])):\n",
    "        amatrix[i][j]= amatrix[i][j] + bmatrix[i][j] # amatrix is replaced with the sum\n",
    "for i in range(len(cmatrix)): # print by row\n",
    "    print(amatrix[i][:])"
   ]
  },
  {
   "cell_type": "markdown",
   "metadata": {},
   "source": [
    "would work just fine.  \n",
    "\n",
    "Subtraction is performed in a similar fashion, except the subtraction operator is used.  "
   ]
  },
  {
   "cell_type": "code",
   "execution_count": 12,
   "metadata": {},
   "outputs": [
    {
     "name": "stdout",
     "output_type": "stream",
     "text": [
      "[-2, 7, 6]\n",
      "[4, 8, 2]\n"
     ]
    }
   ],
   "source": [
    "amatrix = [[1 , 5 , 7 ],\n",
    "           [2 , 9 , 3]]\n",
    "bmatrix = [[3 , -2 , 1 ],\n",
    "           [-2 , 1 , 1]]\n",
    "cmatrix = [[0 for j in range(len(amatrix[0]))] for i in range(len(amatrix))] # 2D list to receive input; explicit sizing\n",
    "for i in range(len(amatrix)):\n",
    "    for j in range(len(amatrix[0])):\n",
    "        cmatrix[i][j]= amatrix[i][j] - bmatrix[i][j] # subtract bmatrix from amatrix\n",
    "for i in range(len(cmatrix)): # print by row\n",
    "    print(cmatrix[i][:])"
   ]
  },
  {
   "cell_type": "markdown",
   "metadata": {},
   "source": [
    "#### Matrix multiplication\n",
    "\n",
    "Matrix multiplication is  more complex than addition and subtraction.  There are several types of multiplication with respect to matrices, usually when matrix multiplication is mentioned without further qualification ,the implied meaning is the inner (or dot) product of the matrix and a vector (or another matrix) of the correct shapes.\n",
    "\n",
    "If two matrices such as a matrix $\\mathbf{A}$ (size L x m) and a matrix $\\mathbf{B}$ ( size m x n) are multiplied together, the resulting matrix $\\mathbf{C}$ has a size of L x n.  The order of multiplication of matrices is important (Matrix multiplication is not  transitive;  $\\mathbf{A}~\\mathbf{B} ~\\ne~  \\mathbf{B}~\\mathbf{A}$.).  \n",
    "\n",
    "To obtain $\\mathbf{C}$ = $\\mathbf{A}$ $\\mathbf{B}$, the number of columns in $\\mathbf{A}$ must be the same as the number of rows in $\\mathbf{B}$.  In order to carry out the matrix operations for multiplication of matrices, the $i,j$-th element of  $\\mathbf{C}$ is simply equal to the scalar (dot or inner) product of row $i$ of $\\mathbf{A}$ and column $j$ of $\\mathbf{B}$.\n",
    "\n",
    "Consider the example below \n",
    "\\begin{gather}\n",
    "\\mathbf{A}=\n",
    "\\begin{pmatrix}\n",
    "1 & 5 & 7 \\\\\n",
    "2 & 9 & 3 \\\\\n",
    "\\end{pmatrix}\n",
    "~ \n",
    "\\mathbf{B}=\n",
    "\\begin{pmatrix}\n",
    "3 & -2  \\\\\n",
    "-2 & 1 \\\\\n",
    "1 & 1 \\\\\n",
    "\\end{pmatrix}\n",
    "\\end{gather}\n",
    "\n",
    "Suppose we wish to compute the inner product $\\mathbf{A}~\\mathbf{B}$"
   ]
  },
  {
   "cell_type": "markdown",
   "metadata": {},
   "source": [
    "First, we would evaluate if the operation is even possible, $\\mathbf{A}$ has two rows and three columns.\n",
    "$\\mathbf{B}$ has three rows and two columns.  \n",
    "\n",
    "By our implied multiplication \"rules\" for the multiplication to be defined the first matrix must have the same number of rows as the second matrix has columns (in this case it does), and the result matrix will have the same number of rows as the first matrix, and the same number of columns as the second matrix (in this case the result will be a 2X2 matrix).\n",
    "\n",
    "\\begin{gather}\n",
    "\\mathbf{C}=\\mathbf{A}\\mathbf{B}=\n",
    "\\begin{pmatrix}\n",
    "c_{1,1} & c_{1,2} \\\\\n",
    "c_{2,1} & c_{2,2} \\\\\n",
    "\\end{pmatrix}\n",
    "\\end{gather}\n",
    "\n",
    "And each element of $\\mathbf{C}$ is the dot product of the row vector of $\\mathbf{A}$ and the column vector of $\\mathbf{B}$.\n",
    "\\newpage\n",
    "\n",
    "\\begin{gather}\n",
    "c_{1,1} =\n",
    "\\begin{pmatrix}\n",
    "1 & 5 & 7 \\\\\n",
    "\\end{pmatrix}\n",
    "\\cdot\n",
    "\\begin{pmatrix}\n",
    "3 \\\\\n",
    "-2 \\\\\n",
    "1 \\\\\n",
    "\\end{pmatrix}\n",
    "=\n",
    "\\begin{pmatrix}\n",
    "(1)(3) +(5)(-2) + (7)(1)\\\\\n",
    "\\end{pmatrix}\n",
    "= 0\n",
    "\\end{gather}\n",
    "\n",
    "\\begin{gather}\n",
    "c_{1,2} =\n",
    "\\begin{pmatrix}\n",
    "1 & 5 & 7 \\\\\n",
    "\\end{pmatrix}\n",
    "\\cdot\n",
    "\\begin{pmatrix}\n",
    "-2 \\\\\n",
    "1 \\\\\n",
    "1 \\\\\n",
    "\\end{pmatrix}\n",
    "=\n",
    "\\begin{pmatrix}\n",
    "(1)(-2) +(5)(1) + (7)(1)\\\\\n",
    "\\end{pmatrix}\n",
    "= 10\n",
    "\\end{gather}\n",
    "\n",
    "\n",
    "\\begin{gather}\n",
    "c_{2,1} =\n",
    "\\begin{pmatrix}\n",
    "2 & 9 & 3 \\\\\n",
    "\\end{pmatrix}\n",
    "\\cdot\n",
    "\\begin{pmatrix}\n",
    "3 \\\\\n",
    "-2 \\\\\n",
    "1 \\\\\n",
    "\\end{pmatrix}\n",
    "=\n",
    "\\begin{pmatrix}\n",
    "(2)(3) +(9)(-2) + (3)(1)\\\\\n",
    "\\end{pmatrix}\n",
    "= -9\n",
    "\\end{gather}\n",
    "\n",
    "\n",
    "\\begin{gather}\n",
    "c_{2,2} =\n",
    "\\begin{pmatrix}\n",
    "2 & 9 & 3 \\\\\n",
    "\\end{pmatrix}\n",
    "\\cdot\n",
    "\\begin{pmatrix}\n",
    "-2 \\\\\n",
    "1 \\\\\n",
    "1 \\\\\n",
    "\\end{pmatrix}\n",
    "=\n",
    "\\begin{pmatrix}\n",
    "(2)(-2) +(9)(1) + (3)(1)\\\\\n",
    "\\end{pmatrix}\n",
    "= 8\n",
    "\\end{gather}\n",
    "\n",
    "Making the substitutions results in :\n",
    "\n",
    "\\begin{gather}\n",
    "\\mathbf{C}=\\mathbf{A}\\mathbf{B}=\n",
    "\\begin{pmatrix}\n",
    "0 & 10 \\\\\n",
    "-9 & 8 \\\\\n",
    "\\end{pmatrix}\n",
    "\\end{gather}\n",
    "\n",
    "So in an algorithmic sense we will have to deal with three matrices, the two source matrices and the destination matrix.  \n",
    "We will also have to manage element-by-element multiplication and be able to correctly store through rows and columns.\n",
    "\n",
    "Here is the process in a script. The `bmatrix` object must be a 2D list, or it won't work"
   ]
  },
  {
   "cell_type": "code",
   "execution_count": 13,
   "metadata": {
    "collapsed": false,
    "jupyter": {
     "outputs_hidden": false
    }
   },
   "outputs": [
    {
     "name": "stdout",
     "output_type": "stream",
     "text": [
      "[0, 10]\n",
      "[-9, 8]\n"
     ]
    }
   ],
   "source": [
    "amatrix = [[1 , 5 , 7 ],\n",
    "           [2 , 9 , 3]]\n",
    "bmatrix = [[3 , -2 ], \n",
    "           [-2 , 1 ],\n",
    "           [ 1 , 1]]\n",
    "# destination matrix, rows count same a amatrix, columns count same as bmatrix\n",
    "cmatrix = [[0 for j in range(len(bmatrix[0]))] for i in range(len(amatrix))] # 2D list to receive input; explicit sizing\n",
    "# now for the multiplication\n",
    "for i in range(0,len(amatrix)):\n",
    "    for j in range(0,len(bmatrix[0])):\n",
    "        for k in range(0,len(amatrix[0])):\n",
    "            cmatrix[i][j]=cmatrix[i][j]+amatrix[i][k]*bmatrix[k][j]\n",
    "for i in range(len(cmatrix)): # print by row\n",
    "    print(cmatrix[i][:])\n"
   ]
  },
  {
   "cell_type": "markdown",
   "metadata": {},
   "source": [
    "#### Identity matrix\n",
    "In computational linear algebra we often need to make use of a special matrix called the \"Identity Matrix\".  \n",
    "The Identity Matrix is a square matrix with all zeros except the $i,i$-th element (diagonal) which is equal to 1:\n",
    "\n",
    "\\begin{gather}\n",
    "\\mathbf{I}_{3\\times3}=\n",
    "\\begin{pmatrix}\n",
    "1 & 0 & 0\\\\\n",
    "0 & 1 & 0\\\\\n",
    "0 & 0 & 1\\\\\n",
    "\\end{pmatrix}\n",
    "\\end{gather}\n",
    "\n",
    "Usually we don't bother with the size subscript used above and just stipulate that the matrix is sized as appropriate.\n",
    "\n",
    "Multiplying any matrix by (a correctly sized) identity matrix results in no change in the matrix.  \n",
    "\n",
    "$\\mathbf{I}\\mathbf{A} = \\mathbf{A}$  \n",
    "\n",
    "Using our script above\n"
   ]
  },
  {
   "cell_type": "code",
   "execution_count": 14,
   "metadata": {
    "collapsed": false,
    "jupyter": {
     "outputs_hidden": false
    }
   },
   "outputs": [
    {
     "name": "stdout",
     "output_type": "stream",
     "text": [
      "A matrix\n",
      "[1, 5, 7]\n",
      "[2, 9, 3]\n",
      "[4, 4, 8]\n",
      "B matrix\n",
      "[1, 0, 0]\n",
      "[0, 1, 0]\n",
      "[0, 0, 1]\n",
      "C = AB matrix\n",
      "[1, 5, 7]\n",
      "[2, 9, 3]\n",
      "[4, 4, 8]\n"
     ]
    }
   ],
   "source": [
    "amatrix = [[1 , 5 , 7 ],\n",
    "           [2 , 9 , 3],\n",
    "           [4 , 4 , 8 ]]\n",
    "print('A matrix')\n",
    "for i in range(len(amatrix)): # print by row\n",
    "    print(amatrix[i][:])\n",
    "bmatrix = [[1 , 0 , 0 ],\n",
    "           [0 , 1 , 0],\n",
    "           [0 , 0 , 1 ]]\n",
    "print('B matrix')\n",
    "for i in range(len(bmatrix)): # print by row\n",
    "    print(bmatrix[i][:])\n",
    "# destination matrix, rows count same a amatrix, columns count same as bmatrix\n",
    "cmatrix = [[0 for j in range(len(bmatrix[0]))] for i in range(len(amatrix))] # 2D list to receive input; explicit sizing\n",
    "# now for the multiplication\n",
    "for i in range(0,len(amatrix)):\n",
    "    for j in range(0,len(bmatrix[0])):\n",
    "        for k in range(0,len(amatrix[0])):\n",
    "            cmatrix[i][j]=cmatrix[i][j]+amatrix[i][k]*bmatrix[k][j]\n",
    "print('C = AB matrix')\n",
    "for i in range(len(cmatrix)): # print by row\n",
    "    print(cmatrix[i][:])"
   ]
  },
  {
   "cell_type": "markdown",
   "metadata": {},
   "source": [
    "#### Matrix Inverse\n",
    "In many practical computational and theoretical operations we employ the concept of the inverse of a matrix.\n",
    "The inverse is somewhat analogous to \"dividing\" by the matrix.  \n",
    "Consider our linear system \n",
    "\n",
    "\\begin{gather}\n",
    "\\mathbf{A} \\cdot \\mathbf{x} = \\mathbf{b}\n",
    "\\end{gather}\n",
    "\n",
    "If we wished to solve for $\\mathbf{x}$ we would \"divide\" both sides of the equation by $\\mathbf{A}$.\n",
    "Instead of division (which is essentially left undefined for matrices) we instead multiply by the inverse of the matrix (The matrix inverse is the multiplicative inverse of the matrix -- we are defining a division operation, just calling it something else.).\n",
    "\n",
    "The inverse of a matrix $\\mathbf{A}$ is denoted by $\\mathbf{A}^{-1}$ and by definition is a matrix such that when $\\mathbf{A}^{-1}$ and $\\mathbf{A}$ are multiplied together, the identity matrix $\\mathbf{I}$ results.  e.g. $\\mathbf{A}^{-1} \\mathbf{A} = \\mathbf{I}$\n",
    "\n",
    "Lets consider the matrixes below\n",
    "\\begin{gather}\n",
    "\\mathbf{A}=\n",
    "\\begin{pmatrix}\n",
    "2 & 3 \\\\\n",
    "4 & -3 \\\\\n",
    "\\end{pmatrix}\n",
    "\\end{gather}\n",
    "\n",
    "\\begin{gather}\n",
    "\\mathbf{A}^{-1}=\n",
    "\\begin{pmatrix}\n",
    "\\frac{1}{6} & \\frac{1}{6} \\\\\n",
    "~\\\\\n",
    "\\frac{2}{9} & -\\frac{1}{9} \\\\\n",
    "\\end{pmatrix}\n",
    "\\end{gather}\n",
    "\n",
    "We can check that the matrices are indeed inverses of each other using our Python code, performing the multiplication and then report the result. \n",
    "The result is the identity matrix regardless of the order of operation."
   ]
  },
  {
   "cell_type": "code",
   "execution_count": 15,
   "metadata": {
    "collapsed": false,
    "jupyter": {
     "outputs_hidden": false
    }
   },
   "outputs": [
    {
     "name": "stdout",
     "output_type": "stream",
     "text": [
      "A matrix\n",
      "[2, 3]\n",
      "[4, -3]\n",
      "A-inverse matrix\n",
      "[0.16666666666666666, 0.16666666666666666]\n",
      "[0.2222222222222222, -0.1111111111111111]\n",
      "C = A*A-inverse matrix\n",
      "[1.0, 0.0]\n",
      "[0.0, 1.0]\n"
     ]
    }
   ],
   "source": [
    "amatrix = [[2 ,  3 ],\n",
    "           [4 , -3 ]]\n",
    "print('A matrix')\n",
    "for i in range(len(amatrix)): # print by row\n",
    "    print(amatrix[i][:])\n",
    "bmatrix = [[1/6 , 1/6 ],\n",
    "           [2/9 , -1/9]]\n",
    "print('A-inverse matrix')\n",
    "for i in range(len(bmatrix)): # print by row\n",
    "    print(bmatrix[i][:])\n",
    "# destination matrix, rows count same a amatrix, columns count same as bmatrix\n",
    "cmatrix = [[0 for j in range(len(bmatrix[0]))] for i in range(len(amatrix))] # 2D list to receive input; explicit sizing\n",
    "# now for the multiplication\n",
    "for i in range(0,len(amatrix)):\n",
    "    for j in range(0,len(bmatrix[0])):\n",
    "        for k in range(0,len(amatrix[0])):\n",
    "            cmatrix[i][j]=cmatrix[i][j]+amatrix[i][k]*bmatrix[k][j]\n",
    "print('C = A*A-inverse matrix')\n",
    "for i in range(len(cmatrix)): # print by row\n",
    "    print(cmatrix[i][:])"
   ]
  },
  {
   "cell_type": "markdown",
   "metadata": {},
   "source": [
    "#### Gauss-Jordan method of finding $\\mathbf{A}^{-1}$ (Optional)\n",
    "There are a number of methods that can be used to find the inverse of a matrix using elementary row operations.\n",
    "An elementary row operation is any one of the three operations listed below:\n",
    "\n",
    "1. Multiply or divide an entire row by a constant.\n",
    "2. Add or subtract a multiple of one row to/from another.\n",
    "3. Exchange the position of any 2 rows.\n",
    "\n",
    "The Gauss-Jordan method of inverting a matrix can be divided into 4 main steps. \n",
    "In order to find the inverse we will be working with the original matrix, augmented with the identity matrix -- this new matrix is called the augmented matrix (because no-one has tried to think of a cooler name yet).  \n",
    "\n",
    "\\begin{gather}\n",
    "\\mathbf{A} | \\mathbf{I} =\n",
    "\\begin{pmatrix}\n",
    "2 & 3 & | & 1 & 0 \\\\\n",
    "4 & -3 & | & 0 & 1 \\\\\n",
    "\\end{pmatrix}\n",
    "\\end{gather}\n",
    "\n",
    "We will perform elementary row operations based on the left partition to convert it to an identity matrix -- we perform the same operations on the right partition and the result when we are done is the inverse of the original matrix.\n",
    "\n",
    "So here goes -- in the theory here, we also get to do infinite-precision arithmetic, no rounding/truncation errors.  \n",
    "\n",
    "\n",
    "> Divide row one by the $a_{1,1}$ value to force a $1$ in the $a_{1,1}$ position.   This is elementary row operation 1 in our list above.\n",
    "\n",
    "\\begin{gather}\n",
    "\\mathbf{A} | \\mathbf{I} =\n",
    "\\begin{pmatrix}\n",
    "2/2 & 3/2 & | & 1/2 & 0 \\\\\n",
    "4 & -3 & | & 0 & 1 \\\\\n",
    "\\end{pmatrix}\n",
    "=\n",
    "\\begin{pmatrix}\n",
    "1 & 3/2 & | & 1/2 & 0 \\\\\n",
    "4 & -3 & | & 0 & 1 \\\\\n",
    "\\end{pmatrix}\n",
    "\\end{gather}\n",
    "\n",
    "> For all rows below the first row, replace $row_j$ with $row_j - a_{j,1}*row_1$.\n",
    "This happens to be elementary row operation 2 in our list above.\n",
    "\n",
    "\\begin{gather}\n",
    "\\mathbf{A} | \\mathbf{I} =\n",
    "\\begin{pmatrix}\n",
    "1 & 3/2 & | & 1/2 & 0 \\\\\n",
    "4 - 4(1) & -3 - 4(3/2) & | & 0-4(1/2) & 1-4(0) \\\\\n",
    "\\end{pmatrix}\n",
    "=\n",
    "\\begin{pmatrix}\n",
    "1 & 3/2 & | & 1/2 & 0 \\\\\n",
    "0 & -9 & | & -2 & 1 \\\\\n",
    "\\end{pmatrix}\n",
    "\\end{gather}\n",
    "\n",
    "\n",
    "> Now multiply $row_2$ by $ \\frac{1}{ a_{2,2}} $.  This is again elementary row operation 1 in our list above.\n",
    "\n",
    "\\begin{gather}\n",
    "\\mathbf{A} | \\mathbf{I} =\n",
    "\\begin{pmatrix}\n",
    "1 & 3/2 & | & 1/2 & 0 \\\\\n",
    "0 & -9/-9 & | & -2/-9 & 1/-9 \\\\\n",
    "\\end{pmatrix}\n",
    "=\n",
    "\\begin{pmatrix}\n",
    "1 & 3/2 & | & 1/2 & 0 \\\\\n",
    "0 & 1 & | & 2/9 & -1/9 \\\\\n",
    "\\end{pmatrix}\n",
    "\\end{gather}\n",
    "\n",
    "> For all rows above and below this current row, replace $row_j$ with $row_j - a_{2,2}*row_2$.\n",
    "This happens to again be elementary row operation 2 in our list above.\n",
    "What we are doing is systematically converting the left matrix into an identity matrix by multiplication of constants and addition to eliminate off-diagonal values and force 1 on the diagonal.\n",
    "\n",
    "\\begin{gather}\n",
    "\\mathbf{A} | \\mathbf{I} = \\\\\n",
    "\\begin{pmatrix}\n",
    "1 & 3/2 - (3/2)(1) & | & 1/2 - (3/2)(2/9) & 0-(3/2)(-1/9) \\\\\n",
    "0 & 1 & | & 2/9 & -1/9 \\\\\n",
    "\\end{pmatrix}\n",
    "= \\\\\n",
    "\\begin{pmatrix}\n",
    "1 & 0 & | & 1/6 & 1/6 \\\\\n",
    "0 & 1 & | & 2/9 & -1/9 \\\\\n",
    "\\end{pmatrix}\n",
    "\\end{gather}\n",
    "\n",
    "> As far as this example is concerned we are done and have found the inverse.\n",
    "With more than a 2X2 system there will be many operations moving up and down the matrix to eliminate the off-diagonal terms.\n",
    "\n",
    "\n",
    "So the next logical step is to build an algorithm to perform these operations for us.\n",
    "\n",
    "The code for inversion is a bit long, but is included as a monolithic block so we dont break things.\n",
    "\n",
    "The first part reads in the matrix from a file named \"A.txt\", and then builds some workspaces for the inversion process.\n",
    "One of the workspaces is a matrix called \"bmatrix\" which is an identity matrix and is also the augmented portion of the system depicted in the 2X2 example.  The actual inverse gets stored in a matrix named \"xmatrix\", which is really a column-by-column collection of solutions to a linear system where the right hand side is the different columns of the identity matrix. "
   ]
  },
  {
   "cell_type": "code",
   "execution_count": 16,
   "metadata": {},
   "outputs": [
    {
     "name": "stdout",
     "output_type": "stream",
     "text": [
      "invert a matrix by Gaussian elimination - requires diagionally dominant system\n",
      "[4.0, 1.5, 0.7, 1.2, 0.5] [1.0, 0, 0, 0, 0]\n",
      "[1.0, 6.0, 0.9, 1.4, 0.7] [0, 1.0, 0, 0, 0]\n",
      "[0.5, 1.0, 3.9, 3.2, 0.9] [0, 0, 1.0, 0, 0]\n",
      "[0.2, 2.0, 0.2, 7.5, 1.9] [0, 0, 0, 1.0, 0]\n",
      "[1.7, 0.9, 1.2, 2.3, 4.9] [0, 0, 0, 0, 1.0]\n",
      "-----------------------------\n",
      "[      A-Matrix          ]|[       A-Inverse        ]\n",
      "_____________________________________________________\n",
      "[4.0, 1.5, 0.7, 1.2, 0.5] | [0.27196423630168165, -0.05581183146290884, -0.032853102922602934, -0.016869919448735553, -0.0072026931722172435]\n",
      "[1.0, 6.0, 0.9, 1.4, 0.7] | [-0.036786468827077756, 0.18691841183385363, -0.032062455842026744, -0.011456196435011407, -0.012617687833839365]\n",
      "[0.5, 1.0, 3.9, 3.2, 0.9] | [-0.025949127789423248, -0.0013334022990376664, 0.26826513178341493, -0.10875073215127727, -0.004266180002777282]\n",
      "[0.2, 2.0, 0.2, 7.5, 1.9] | [0.027047195749338872, -0.05063248905238324, 0.01649816113355711, 0.1486518640705042, -0.05619749842697155]\n",
      "[1.7, 0.9, 1.2, 2.3, 4.9] | [-0.0939389748254409, 0.009124153146082323, -0.05615458031041434, -0.03518550386250331, 0.23632125710787594]\n",
      "_____________________________________________________\n"
     ]
    }
   ],
   "source": [
    "# InvertASystem.py\n",
    "# Code to read A and b\n",
    "# Then solve Ax = b for x by Gaussian elimination with back substitution\n",
    "#\n",
    "print (\"invert a matrix by Gaussian elimination - requires diagionally dominant system\")\n",
    "\n",
    "amatrix = [] # null list to store matrix reads\n",
    "rowNumA = 0\n",
    "colNumA = 0\n",
    "afile = open(\"A.txt\",\"r\") # connect and read file for MATRIX A \n",
    "for line in afile:\n",
    "    amatrix.append([float(n) for n in line.strip().split()])\n",
    "    rowNumA += 1\n",
    "afile.close() # Disconnect the file\n",
    "colNumA = len(amatrix[0])\n",
    "bvector = [0 for i in range(rowNumA)] # will use as rhs in linear solver\n",
    "cmatrix = [[0 for j in range(colNumA)]for i in range(rowNumA)]\n",
    "dmatrix = [[0 for j in range(colNumA)]for i in range(rowNumA)]\n",
    "bmatrix = [[0 for j in range(colNumA)]for i in range(rowNumA)]\n",
    "xmatrix = [[0 for j in range(colNumA)]for i in range(rowNumA)]\n",
    "xvector = [0 for i in range(rowNumA)]\n",
    "for i in range(0,rowNumA,1):\n",
    "    bmatrix[i][i] = 1.0 #augmented partition\n",
    "    print (amatrix[i][0:colNumA], bmatrix[i][0:colNumA])\n",
    "print (\"-----------------------------\")\n",
    "dmatrix = [[amatrix[i][j] for j in range(colNumA)]for i in range(rowNumA)] # copy amatrix into dmatrix  -- this is a static copy\n",
    "\n",
    "# outer wrapper loop\n",
    "for jcol in range(rowNumA):\n",
    "    xvector = [0 for i in range(rowNumA)] # empty column of the inverse\n",
    "\n",
    "    for i in range(rowNumA):\n",
    "        bvector[i]=bmatrix[i][jcol]\n",
    "    amatrix = [[dmatrix[i][j] for j in range(colNumA)]for i in range(rowNumA)]\n",
    "    cmatrix = [[dmatrix[i][j] for j in range(colNumA)]for i in range(rowNumA)]\n",
    "\n",
    "    for k in range(rowNumA-1): # build the diagonal -- assume diagonally dominant\n",
    "        l = k+1\n",
    "        for i in range(l,rowNumA):\n",
    "            for j in range(colNumA):\n",
    "                cmatrix[i][j]=amatrix[i][j]-amatrix[k][j]*amatrix[i][k]/amatrix[k][k]\n",
    "            bvector[i] = bvector[i]-bvector[k]*amatrix[i][k]/amatrix[k][k]\n",
    "            bmatrix[i][jcol] = bmatrix[i][jcol]-bmatrix[k][jcol]*amatrix[i][k]/amatrix[k][k]\n",
    "        for i in range(rowNumA):\n",
    "            for j in range(colNumA):\n",
    "                amatrix[i][j] = cmatrix[i][j]\n",
    "# gaussian reduction done\n",
    "# now for the back substitution\n",
    "    for k in range(rowNumA-1,-1,-1):\n",
    "        sum = 0.0\n",
    "        sum1 = 0.0\n",
    "        for i in range(rowNumA):\n",
    "            if i == k:\n",
    "                continue \n",
    "            else:\n",
    "                sum = sum + amatrix[k][i]*xvector[i]\n",
    "                sum1 = sum1 + amatrix[k][i]*xmatrix[i][jcol]\n",
    "            xvector[k]=(bvector[k]-sum)/amatrix[k][k]\n",
    "            xmatrix[k][jcol]=(bmatrix[k][jcol]-sum1)/amatrix[k][k]\n",
    "# end of wrapper\n",
    "print (\"[      A-Matrix          ]|[       A-Inverse        ]\")\n",
    "print (\"_____________________________________________________\")\n",
    "for i in range(0,rowNumA,1):\n",
    "    print (dmatrix[i][0:colNumA],\"|\", xmatrix[i][0:colNumA])\n",
    "print (\"_____________________________________________________\")\n",
    "ofile = open(\"A-Matrix.txt\",\"w\") # \"w\" clobbers content already there!\n",
    "for i in range(0,rowNumA,1):\n",
    "    message = '  '.join(map(repr, dmatrix[i][0:colNumA])) + \"\\n\" \n",
    "    ofile.write(message)\n",
    "ofile.close()\n",
    "ofile = open(\"A-Inverse.txt\",\"w\") # \"w\" clobbers content already there!\n",
    "for i in range(0,rowNumA,1):\n",
    "    message = '  '.join(map(repr, xmatrix[i][0:colNumA])) + \"\\n\"\n",
    "    ofile.write(message)\n",
    "ofile.close()"
   ]
  },
  {
   "cell_type": "markdown",
   "metadata": {},
   "source": [
    "Yay it worked.  In practice we will not code our own inversion scripts, but will use `numpy`, however we now have a rudimentary script if we need it. How could we test if we indeed have an inverse?"
   ]
  },
  {
   "cell_type": "markdown",
   "metadata": {},
   "source": [
    "---\n",
    "## References\n",
    "1. Learn Python in One Day and Learn It Well. Python for Beginners with Hands-on Project. (Learn Coding Fast with Hands-On Project Book -- Kindle Edition by LCF Publishing (Author), Jamie Chan [https://www.amazon.com/Python-2nd-Beginners-Hands-Project-ebook/dp/B071Z2Q6TQ/ref=sr_1_3?dchild=1&keywords=learn+python+in+a+day&qid=1611108340&sr=8-3](https://www.amazon.com/Python-2nd-Beginners-Hands-Project-ebook/dp/B071Z2Q6TQ/ref=sr_1_3?dchild=1&keywords=learn+python+in+a+day&qid=1611108340&sr=8-3)\n",
    "\n",
    "---\n",
    "\n",
    "2. Matrix manipulation using `numpy` [https://www.geeksforgeeks.org/matrix-manipulation-python/](https://www.geeksforgeeks.org/matrix-manipulation-python/)\n",
    "\n",
    "3. Outer products [https://math.stackexchange.com/questions/973559/outer-product-of-two-matrices](https://math.stackexchange.com/questions/973559/outer-product-of-two-matrices)\n",
    "\n",
    "4. Inner products [https://mathworld.wolfram.com/InnerProduct.html](https://mathworld.wolfram.com/InnerProduct.html)\n"
   ]
  },
  {
   "cell_type": "code",
   "execution_count": null,
   "metadata": {},
   "outputs": [],
   "source": []
  },
  {
   "cell_type": "code",
   "execution_count": null,
   "metadata": {},
   "outputs": [],
   "source": []
  }
 ],
 "metadata": {
  "kernelspec": {
   "display_name": "Python 3",
   "language": "python",
   "name": "python3"
  },
  "language_info": {
   "codemirror_mode": {
    "name": "ipython",
    "version": 3
   },
   "file_extension": ".py",
   "mimetype": "text/x-python",
   "name": "python",
   "nbconvert_exporter": "python",
   "pygments_lexer": "ipython3",
   "version": "3.8.10"
  }
 },
 "nbformat": 4,
 "nbformat_minor": 4
}
