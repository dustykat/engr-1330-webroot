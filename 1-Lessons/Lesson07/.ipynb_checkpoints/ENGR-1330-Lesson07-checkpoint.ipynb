{
 "cells": [
  {
   "cell_type": "markdown",
   "metadata": {},
   "source": [
    "Download this page as a jupyter notebook at [Lesson 7](http://54.243.252.9/engr-1330-webroot/1-Lessons/Lesson07/ENGR-1330-Lesson07.ipynb)"
   ]
  },
  {
   "cell_type": "markdown",
   "metadata": {},
   "source": [
    "# ENGR 1330 Computational Thinking with Data Science \n",
    "Copyright © 2021 Theodore G. Cleveland and Farhang Forghanparast\n",
    "\n",
    "Last GitHub Commit Date: 10 September 2021\n",
    "\n",
    "## Lesson 7 Files: \n",
    "- Files and Filesystems\n",
    "- Opening and reading text (ascii) files\n",
    "- Using loops to read text files\n",
    "- Writing to text files\n",
    "- Download files from a remote server\n",
    "- Creating and deleting files from your notebook"
   ]
  },
  {
   "cell_type": "code",
   "execution_count": 2,
   "metadata": {},
   "outputs": [
    {
     "name": "stdout",
     "output_type": "stream",
     "text": [
      "atomickitty\n",
      "sensei\n",
      "/home/sensei/engr-1330-webroot/1-Lessons/Lesson07\n",
      "/opt/jupyterhub/bin/python3\n"
     ]
    }
   ],
   "source": [
    "# Script block to identify host, user, and kernel\n",
    "import sys\n",
    "! hostname; ! whoami; ! pwd; \n",
    "print(sys.executable)"
   ]
  },
  {
   "cell_type": "code",
   "execution_count": 3,
   "metadata": {},
   "outputs": [
    {
     "data": {
      "text/html": [
       "<!-- Script Block to set tables to left alignment -->\n",
       "<style>\n",
       "  table {margin-left: 0 !important;}\n",
       "</style>\n"
      ],
      "text/plain": [
       "<IPython.core.display.HTML object>"
      ]
     },
     "metadata": {},
     "output_type": "display_data"
    }
   ],
   "source": [
    "%%html\n",
    "<!-- Script Block to set tables to left alignment -->\n",
    "<style>\n",
    "  table {margin-left: 0 !important;}\n",
    "</style>"
   ]
  },
  {
   "cell_type": "markdown",
   "metadata": {},
   "source": [
    "---\n",
    "## Objectives\n",
    "1. Describe files, file types, and search paths \n",
    "2. Demonstrate file creation, and deletion in a script\n",
    "3. Demonstrate create, open, read from a file\n",
    "4. Demonstrate open, write to a file\n",
    "5. Apply packages to directly obtain a file from a remote server\n"
   ]
  },
  {
   "cell_type": "markdown",
   "metadata": {},
   "source": [
    "# Files and Filesystems\n",
    "\n",
    "A computer file is a computer resource for recording data discretely (not in the secretive context, but specifically somewhere on a piece of hardware) in a computer storage device. Just as words can be written to paper, so can information be written to a computer file. Files can be edited and transferred through the internet on that particular computer system.\n",
    "\n",
    "There are different types of computer files, designed for different purposes. A file may be designed to store a picture, a written message, a video, a computer program, or a wide variety of other kinds of data. Some types of files can store several types of information at once.\n",
    "\n",
    "By using computer programs, a person can open, read, change, save, and close a computer file. Computer files may be reopened, modified, and copied an arbitrary number of times.\n",
    "\n",
    "Typically, files are organised in a file system, which keeps track of where the files are located on disk and enables user access. "
   ]
  },
  {
   "cell_type": "markdown",
   "metadata": {},
   "source": [
    "---\n",
    "\n",
    "### File system\n",
    "In computing, a file system or filesystem, controls how data is stored and retrieved. \n",
    "Without a file system, data placed in a storage medium would be one large body of data with no way to tell where one piece of data stops and the next begins. \n",
    "By separating the data into pieces and giving each piece a name, the data is isolated and identified. \n",
    "Taking its name from the way paper-based data management system is named, each group of data is called a “file”. \n",
    "The structure and logic rules used to manage the groups of data and their names is called a “file system”.  \n",
    "\n",
    "The figure below is a graphical representation of the filesystem on my office computer.  I have the file browser listing the contants of a directory named `/src`.  It is contained in a directory named `/final_report`, which is contained in a higher level directory all the way up to `/Users` (`/` is aliased to `Macintosh HD` in the figure)\n",
    "\n",
    "<img src=\"./Filesystem-graphic.png\" width=\"700\">\n",
    "\n",
    "An equivalent representation, in a `bash` shell is shown in the figure below which is a capture of a terminal window.\n",
    "\n",
    "<img src=\"./Filesystem-shell.png\" width=\"700\">"
   ]
  },
  {
   "cell_type": "markdown",
   "metadata": {},
   "source": [
    "---\n",
    "\n",
    "### Path\n",
    "A path, the general form of the name of a file or directory, specifies a unique location in a file system. A path points to a file system location by following the directory tree hierarchy expressed in a string of characters in which path components, separated by a delimiting character, represent each directory. The delimiting character is most commonly the slash (`/`), the backslash character (`\\`), or colon (`:`), though some operating systems may use a different delimiter.\n",
    "Paths are used extensively in computing to represent the directory/file relationships common in modern operating systems, and are essential in the construction of Uniform Resource Locators (URLs). Resources can be represented by either absolute or relative paths.\n",
    "As an example consider the following two files:\n",
    "\n",
    "1. /Users/theodore/MyGit/@atomickitty/hurri-sensors/.git/Guest.conf \n",
    "2. /etc/apache2/users/Guest.conf\n",
    "\n",
    "They both have the same file name, but are located on different paths. \n",
    "Failure to provide the path when addressing the file can be a problem. \n",
    "Another way to interpret is that the two unique files actually have different names, and only part of those names is common (Guest.conf)\n",
    "The two names above (including the path) are called fully qualified filenames (or absolute names), a relative path (usually relative to the file or program of interest depends on where in the directory structure the file lives. \n",
    "If we are currently in the .git directory (the first file) the path to the file is just the filename."
   ]
  },
  {
   "cell_type": "markdown",
   "metadata": {},
   "source": [
    "---\n",
    "\n",
    "### File Types\n",
    "\n",
    "1. Text Files. Text files are regular files that contain information readable by the user. This information is usually stored as ASCII with various encoding extensions (to handle other alphabets and emojis). You can display and print these files. The lines of a text file must not contain NULL characters, and none can exceed a prescribed (by architecture) length, including the new-line character.  The term text file does not prevent the inclusion of control or other nonprintable characters (other than NUL). Therefore, standard utilities that list text files as inputs or outputs are either able to process the special characters gracefully or they explicitly describe their limitations within their individual sections.\n",
    "\n",
    "2. Binary Files. Binary files are regular files that contain information readable by the computer. Binary files may be executable files that instruct the system to accomplish a job. Commands and programs are stored in executable, binary files. Special compiling programs translate ASCII text into binary code.  The only real difference between text and binary files is that text files have lines of some prescribed length, with no NULL characters, each terminated by a new-line character.\n",
    "\n",
    "3. Directory Files. Directory files contain information the system needs to access all types of files, but they do not contain the actual file data. As a result, directories occupy less space than a regular file and give the file system structure flexibility and depth. Each directory entry represents either a file or a subdirectory. Each entry contains the name of the file and the file's index node reference number (i-node). The i-node points to the unique index node assigned to the file. The i-node describes the location of the data associated with the file. Directories are created and controlled by a separate set of commands."
   ]
  },
  {
   "cell_type": "markdown",
   "metadata": {},
   "source": [
    "---\n",
    "\n",
    "### File Manipulation\n",
    "\n",
    "For this lesson we examine just a handfull of file manipulations which are quite useful. Files can be \"created\",\"read\",\"updated\", or \"deleted\" (CRUD). "
   ]
  },
  {
   "cell_type": "markdown",
   "metadata": {},
   "source": [
    "#### Example: Examine our local directory\n",
    "First will use some system commands to view the contents of the local directory.  \n",
    "> The code blocks below are for Linux systems, and the instructions may not execute correctly on a windows machine"
   ]
  },
  {
   "cell_type": "code",
   "execution_count": 4,
   "metadata": {
    "collapsed": false,
    "jupyter": {
     "outputs_hidden": false
    }
   },
   "outputs": [
    {
     "name": "stdout",
     "output_type": "stream",
     "text": [
      "/home/sensei/engr-1330-webroot/1-Lessons/Lesson07\n"
     ]
    }
   ],
   "source": [
    "import sys\n",
    "! rm -rf myfirstfile.txt # delete file if it exists\n",
    "! pwd # list name of working directory, note it includes path, so it is an absolute path"
   ]
  },
  {
   "cell_type": "code",
   "execution_count": 5,
   "metadata": {
    "collapsed": false,
    "jupyter": {
     "outputs_hidden": false
    }
   },
   "outputs": [
    {
     "name": "stdout",
     "output_type": "stream",
     "text": [
      "total 548\n",
      "-rw-rw-r-- 1 sensei sensei 122198 Sep 10 20:57 ENGR-1330-Lesson07.ipynb\n",
      "-rw-rw-r-- 1 sensei sensei 343800 Sep 10 20:31 Filesystem-graphic.png\n",
      "-rw-rw-r-- 1 sensei sensei  88568 Sep 10 20:31 Filesystem-shell.png\n",
      "drwxr-xr-x 3 sensei sensei   4096 Jul 21 16:15 OriginalPowerpoint\n"
     ]
    }
   ],
   "source": [
    "! ls -l # list contents of working directory"
   ]
  },
  {
   "cell_type": "markdown",
   "metadata": {},
   "source": [
    "#### Example: Create a file, write to it. \n",
    "Below is an example of creating a file that does not yet exist.\n",
    "The script is a bit pendandic on purpose."
   ]
  },
  {
   "cell_type": "code",
   "execution_count": 6,
   "metadata": {
    "collapsed": false,
    "jupyter": {
     "outputs_hidden": false
    }
   },
   "outputs": [],
   "source": [
    "# create file example\n",
    "externalfile = open(\"myfirstfile.txt\",'w') # create connection to file, set to write (w), file does not need to exist\n",
    "mymessage = 'message in a bottle' #some object to write, in this case a string\n",
    "externalfile.write(mymessage)# write the contents of mymessage to the file\n",
    "externalfile.close() # close the file connection"
   ]
  },
  {
   "cell_type": "markdown",
   "metadata": {},
   "source": [
    "At this point our new file should exist, lets list the directory and see if that is so"
   ]
  },
  {
   "cell_type": "code",
   "execution_count": 7,
   "metadata": {
    "collapsed": false,
    "jupyter": {
     "outputs_hidden": false
    }
   },
   "outputs": [
    {
     "name": "stdout",
     "output_type": "stream",
     "text": [
      "total 552\n",
      "-rw-rw-r-- 1 sensei sensei 122198 Sep 10 20:57 ENGR-1330-Lesson07.ipynb\n",
      "-rw-rw-r-- 1 sensei sensei 343800 Sep 10 20:31 Filesystem-graphic.png\n",
      "-rw-rw-r-- 1 sensei sensei  88568 Sep 10 20:31 Filesystem-shell.png\n",
      "drwxr-xr-x 3 sensei sensei   4096 Jul 21 16:15 OriginalPowerpoint\n",
      "-rw-rw-r-- 1 sensei sensei     19 Sep 10 20:58 myfirstfile.txt\n"
     ]
    }
   ],
   "source": [
    "! ls -l # list contents of working directory"
   ]
  },
  {
   "cell_type": "markdown",
   "metadata": {},
   "source": [
    "Sure enough, its there, \n",
    "> We will use a Linux shell command `cat` to look at the contents of the file."
   ]
  },
  {
   "cell_type": "code",
   "execution_count": 8,
   "metadata": {
    "collapsed": false,
    "jupyter": {
     "outputs_hidden": false
    }
   },
   "outputs": [
    {
     "name": "stdout",
     "output_type": "stream",
     "text": [
      "message in a bottle"
     ]
    }
   ],
   "source": [
    "! cat myfirstfile.txt"
   ]
  },
  {
   "cell_type": "markdown",
   "metadata": {},
   "source": [
    "#### Example: Read from an existing file. \n",
    "\n",
    "We will continue using the file we just made, and read from it the example is below"
   ]
  },
  {
   "cell_type": "code",
   "execution_count": 6,
   "metadata": {
    "collapsed": false,
    "jupyter": {
     "outputs_hidden": false
    }
   },
   "outputs": [
    {
     "name": "stdout",
     "output_type": "stream",
     "text": [
      "message in a bottle\n"
     ]
    }
   ],
   "source": [
    "# read file example\n",
    "externalfile = open(\"myfirstfile.txt\",'r') # create connection to file, set to read (r), file must exist\n",
    "silly_string = externalfile.read() # read the contents\n",
    "externalfile.close() # close the file connection\n",
    "print(silly_string)"
   ]
  },
  {
   "cell_type": "markdown",
   "metadata": {
    "jupyter": {
     "outputs_hidden": false
    }
   },
   "source": [
    "These first two examples are supremely simple, but illustrate important points:\n",
    "\n",
    "1. The program establishes a connection to the file\n",
    "2. One connection exists, then read from, write to the file\n",
    "3. Close the connection (to clear the I/O buffer and release the connection thread)\n"
   ]
  },
  {
   "cell_type": "code",
   "execution_count": 9,
   "metadata": {},
   "outputs": [
    {
     "ename": "ValueError",
     "evalue": "I/O operation on closed file.",
     "output_type": "error",
     "traceback": [
      "\u001b[0;31m---------------------------------------------------------------------------\u001b[0m",
      "\u001b[0;31mValueError\u001b[0m                                Traceback (most recent call last)",
      "\u001b[0;32m<ipython-input-9-81084545fc2e>\u001b[0m in \u001b[0;36m<module>\u001b[0;34m\u001b[0m\n\u001b[1;32m      1\u001b[0m \u001b[0;31m# write without a connection\u001b[0m\u001b[0;34m\u001b[0m\u001b[0;34m\u001b[0m\u001b[0;34m\u001b[0m\u001b[0m\n\u001b[1;32m      2\u001b[0m \u001b[0mmymessage\u001b[0m \u001b[0;34m=\u001b[0m \u001b[0;34m'message in a bottle'\u001b[0m \u001b[0;31m#some object to write, in this case a string\u001b[0m\u001b[0;34m\u001b[0m\u001b[0;34m\u001b[0m\u001b[0m\n\u001b[0;32m----> 3\u001b[0;31m \u001b[0mexternalfile\u001b[0m\u001b[0;34m.\u001b[0m\u001b[0mwrite\u001b[0m\u001b[0;34m(\u001b[0m\u001b[0mmymessage\u001b[0m\u001b[0;34m)\u001b[0m\u001b[0;31m# write the contents of mymessage to the file\u001b[0m\u001b[0;34m\u001b[0m\u001b[0;34m\u001b[0m\u001b[0m\n\u001b[0m",
      "\u001b[0;31mValueError\u001b[0m: I/O operation on closed file."
     ]
    }
   ],
   "source": [
    "# write without a connection -- observe the error message\n",
    "mymessage = 'message in a bottle' #some object to write, in this case a string\n",
    "externalfile.write(mymessage)# write the contents of mymessage to the file"
   ]
  },
  {
   "cell_type": "code",
   "execution_count": 10,
   "metadata": {},
   "outputs": [
    {
     "ename": "ValueError",
     "evalue": "I/O operation on closed file.",
     "output_type": "error",
     "traceback": [
      "\u001b[0;31m---------------------------------------------------------------------------\u001b[0m",
      "\u001b[0;31mValueError\u001b[0m                                Traceback (most recent call last)",
      "\u001b[0;32m<ipython-input-10-38ae4e51ad51>\u001b[0m in \u001b[0;36m<module>\u001b[0;34m\u001b[0m\n\u001b[1;32m      1\u001b[0m \u001b[0;31m# read without a connection -- observe the error message\u001b[0m\u001b[0;34m\u001b[0m\u001b[0;34m\u001b[0m\u001b[0;34m\u001b[0m\u001b[0m\n\u001b[0;32m----> 2\u001b[0;31m \u001b[0msilly_string\u001b[0m \u001b[0;34m=\u001b[0m \u001b[0mexternalfile\u001b[0m\u001b[0;34m.\u001b[0m\u001b[0mread\u001b[0m\u001b[0;34m(\u001b[0m\u001b[0;34m)\u001b[0m \u001b[0;31m# read the contents\u001b[0m\u001b[0;34m\u001b[0m\u001b[0;34m\u001b[0m\u001b[0m\n\u001b[0m\u001b[1;32m      3\u001b[0m \u001b[0mprint\u001b[0m\u001b[0;34m(\u001b[0m\u001b[0msilly_string\u001b[0m\u001b[0;34m)\u001b[0m\u001b[0;34m\u001b[0m\u001b[0;34m\u001b[0m\u001b[0m\n",
      "\u001b[0;31mValueError\u001b[0m: I/O operation on closed file."
     ]
    }
   ],
   "source": [
    "# read without a connection -- observe the error message\n",
    "silly_string = externalfile.read() # read the contents\n",
    "print(silly_string)"
   ]
  },
  {
   "cell_type": "markdown",
   "metadata": {},
   "source": [
    "#### Example: Update a file.\n",
    "\n",
    "This example continues with our same file, but we will now add contents without destroying existing contents. The keyword is `append`"
   ]
  },
  {
   "cell_type": "code",
   "execution_count": 11,
   "metadata": {
    "collapsed": false,
    "jupyter": {
     "outputs_hidden": false
    }
   },
   "outputs": [],
   "source": [
    "externalfile = open(\"myfirstfile.txt\",'a') # create connection to file, set to append (a), file does not need to exist\n",
    "externalfile.write('\\n') # adds a newline character\n",
    "what_to_add = 'I love rock-and-roll, put another dime in the jukebox baby ... \\n' \n",
    "externalfile.write(what_to_add) # add a string including the linefeed\n",
    "what_to_add = '... the waiting is the hardest part \\n' \n",
    "externalfile.write(what_to_add) # add a string including the linefeed\n",
    "mylist = [1,2,3,4,5] # a list of numbers\n",
    "what_to_add = ','.join(map(repr, mylist)) + \"\\n\" # one way to write the list\n",
    "externalfile.write(what_to_add)\n",
    "what_to_add = ','.join(map(repr, mylist[0:len(mylist)])) + \"\\n\" # another way to write the list\n",
    "externalfile.write(what_to_add)\n",
    "externalfile.close()"
   ]
  },
  {
   "cell_type": "code",
   "execution_count": 12,
   "metadata": {},
   "outputs": [],
   "source": [
    "externalfile = open(\"myfirstfile.txt\",'a') # create connection to file, set to append (a), file does not need to exist\n",
    "externalfile.write('\\n') # adds a newline character\n",
    "what_to_add = 'I love rock-and-roll, put another dime in the jukebox baby ... \\n' \n",
    "externalfile.write(what_to_add) # add a string including the linefeed\n",
    "externalfile.close()"
   ]
  },
  {
   "cell_type": "markdown",
   "metadata": {},
   "source": [
    "As before we can examine the contents using a shell command sent from the notebook."
   ]
  },
  {
   "cell_type": "code",
   "execution_count": 13,
   "metadata": {
    "collapsed": false,
    "jupyter": {
     "outputs_hidden": false
    }
   },
   "outputs": [
    {
     "name": "stdout",
     "output_type": "stream",
     "text": [
      "message in a bottle\n",
      "I love rock-and-roll, put another dime in the jukebox baby ... \n",
      "... the waiting is the hardest part \n",
      "1,2,3,4,5\n",
      "1,2,3,4,5\n",
      "\n",
      "I love rock-and-roll, put another dime in the jukebox baby ... \n"
     ]
    }
   ],
   "source": [
    "! cat myfirstfile.txt"
   ]
  },
  {
   "cell_type": "markdown",
   "metadata": {},
   "source": [
    "#### Example: Delete a file\n",
    "\n",
    "Delete can be done by a system call as we did above to clear the local directory\n",
    "\n",
    "In a JupyterLab notebook, we can either use\n",
    "\n",
    "    import sys\n",
    "    ! rm -rf myfirstfile.txt # delete file if it exists\n",
    "\n",
    "or\n",
    "\n",
    "    import os\n",
    "    os.remove(\"myfirstfile.txt\")\n",
    "\n",
    "they both have same effect, both equally dangerous to your filesystem.\n",
    "\n",
    "\n",
    "Learn more about CRUD with text files at https://www.guru99.com/reading-and-writing-files-in-python.html\n",
    "\n",
    "Learn more about file delete at https://www.dummies.com/programming/python/how-to-delete-a-file-in-python/\n",
    "    "
   ]
  },
  {
   "cell_type": "code",
   "execution_count": 24,
   "metadata": {},
   "outputs": [
    {
     "name": "stdout",
     "output_type": "stream",
     "text": [
      "myfirstfile.txt  missing or deleted !\n"
     ]
    }
   ],
   "source": [
    "import os\n",
    "file2kill = \"myfirstfile.txt\"\n",
    "try:\n",
    "    os.remove(file2kill) # file must exist or will generate an exception\n",
    "except:\n",
    "    pass # example of using pass to improve readability\n",
    "print(file2kill, \" missing or deleted !\")"
   ]
  },
  {
   "cell_type": "markdown",
   "metadata": {},
   "source": [
    "A little discussion on the part where we wrote numbers\n",
    "\n",
    "    what_to_add = ','.join(map(repr, mylist[0:len(mylist)])) + \"\\n\"\n",
    "\n",
    "Here are descriptions of the two functions `map` and `repr`\n",
    "\n",
    "`map(function, iterable, ...)` Apply `function` to every item of iterable and return a list of the results. \n",
    "If additional iterable arguments are passed, function must take that many arguments and is applied to the items from all iterables in parallel. \n",
    "If one iterable is shorter than another it is assumed to be extended with None items. \n",
    "If function is None, the identity function is assumed; if there are multiple arguments, `map()` returns a list consisting of tuples containing the corresponding items from all iterables (a kind of transpose operation). \n",
    "The iterable arguments may be a sequence or any iterable object; the result is always a list.\n",
    "\n",
    "`repr(object)` Return a string containing a printable representation of an object. \n",
    "This is the same value yielded by conversions (reverse quotes). \n",
    "It is sometimes useful to be able to access this operation as an ordinary function. \n",
    "For many types, this function makes an attempt to return a string that would yield an object with the same value when passed to `eval()`, otherwise the representation is a string enclosed in angle brackets that contains the name of the type of the object together with additional information often including the name and address of the object. \n",
    "A class can control what this function returns for its instances by defining a `repr()` method.\n",
    "\n",
    "What they do in this script is important. \n",
    "The statement:\n",
    "\n",
    "    what_to_add = ’,’.join(map(repr, mylist[0:len(mylist)])) + \"\\n\"\n",
    "    \n",
    "is building a string that will be comprised of elements of mylist[0:len(mylist)].\n",
    "The `repr()` function gets these elements as they are represented in the computer, the delimiter a comma is added using the join method in Python, and because everything is now a string the\n",
    "\n",
    "    ... + \"\\n\"\n",
    "    \n",
    "puts a linefeed character at the end of the string so the output will start a new line the next time something is written."
   ]
  },
  {
   "cell_type": "markdown",
   "metadata": {},
   "source": [
    "## Example\n",
    "\n",
    "- create a text file, name it __\"MyFavoriteQuotation\"__.\n",
    "- Write __your favorite quotation__ in the file.\n",
    "- Read the file.\n",
    "- Add this string to it in a new line : \"And that's something I wish I had said...\"\n",
    "- Show the final outcome."
   ]
  },
  {
   "cell_type": "code",
   "execution_count": 15,
   "metadata": {},
   "outputs": [
    {
     "name": "stdout",
     "output_type": "stream",
     "text": [
      "The path of the righteous man is beset on all sides by the inequities of the selfish and the tyranny of evil men. Blessed is he who, in the name of charity and good will, shepherds the weak through the valley of darkness. For he is truly his brother’s keeper and the finder of lost children. And I will strike down upon thee with great vengeance and furious anger those who attempt to poison and destroy my brothers. And you will know my name is the Lord when I lay my vengeance upon you.The path of the righteous man is beset on all sides by the inequities of the selfish and the tyranny of evil men. Blessed is he who, in the name of charity and good will, shepherds the weak through the valley of darkness. For he is truly his brother’s keeper and the finder of lost children. And I will strike down upon thee with great vengeance and furious anger those who attempt to poison and destroy my brothers. And you will know my name is the Lord when I lay my vengeance upon you.\n",
      "And that's something I wish I had said ... \n"
     ]
    }
   ],
   "source": [
    "# create the \"My Favorite Quotation\" file:\n",
    "externalfile = open(\"MyFavoriteQuotation.txt\",'w')         # create connection to file, set to write (w)\n",
    "myquotation = 'The path of the righteous man is beset on all sides by the inequities of the selfish and the tyranny of evil men. Blessed is he who, in the name of charity and good will, shepherds the weak through the valley of darkness. For he is truly his brother’s keeper and the finder of lost children. And I will strike down upon thee with great vengeance and furious anger those who attempt to poison and destroy my brothers. And you will know my name is the Lord when I lay my vengeance upon you.' #My choice: quotation from Pulp Fiction\n",
    "externalfile.write(myquotation)# write the contents of mymessage to the file\n",
    "externalfile.close() # close the file connection\n",
    "#Let's read the file\n",
    "! cat MyFavoriteQuotation.txt \n",
    "# Let's add the string\n",
    "externalfile = open(\"MyFavoriteQuotation.txt\",'a')  #create connection to file, set to append (a)\n",
    "externalfile.write('\\n') # adds a newline character\n",
    "what_to_add = \"And that's something I wish I had said ... \\n\"\n",
    "externalfile.write(what_to_add)\n",
    "externalfile.close()\n",
    "#Let's read the file one last time\n",
    "! cat MyFavoriteQuotation.txt "
   ]
  },
  {
   "cell_type": "code",
   "execution_count": null,
   "metadata": {},
   "outputs": [],
   "source": []
  },
  {
   "cell_type": "code",
   "execution_count": null,
   "metadata": {},
   "outputs": [],
   "source": []
  },
  {
   "cell_type": "markdown",
   "metadata": {},
   "source": [
    "---\n",
    "\n",
    "## Downloading files from websites (optional)\n",
    "\n",
    "This section shows how to get files from a remote computer.   There are several ways to get the files, most importantly  you need the FQDN to the file."
   ]
  },
  {
   "cell_type": "markdown",
   "metadata": {},
   "source": [
    "### Method 1: Get data from a file on a remote server (unencrypted)\n",
    "This section shows how to obtain data files from public URLs.  \n",
    "\n",
    "Prerequesites:\n",
    "\n",
    "- You know the FQDN to the file it will be in structure of \"http://server-name/.../filename.ext\"\n",
    "- The server is running ordinary (unencrypted) web services, i.e. `http://...`\n",
    "\n",
    "#### Web Developer Notes\n",
    "If you want to distribute files (web developers) the files need to be in the server webroot, but can be deep into the heirarchial structure.\n",
    "\n",
    "Here we will do an example with a file that contains topographic data in XYZ format, without header information.\n",
    "\n",
    "The first few lines of the remote file look like:\n",
    "\n",
    "    74.90959724\t93.21251922\t0\n",
    "    75.17907367\t64.40278759\t0\n",
    "    94.9935575\t93.07951286\t0\n",
    "    95.26234119\t64.60091165\t0\n",
    "    54.04976655\t64.21159095\t0\n",
    "    54.52914363\t35.06934342\t0\n",
    "    75.44993558\t34.93079513\t0\n",
    "    75.09317373\t5.462959114\t0\n",
    "    74.87357468\t10.43130083\t0\n",
    "    74.86249082\t15.72938748\t0\n",
    "\n",
    "And importantly it is tab delimited.\n",
    "\n",
    "The module to manipulate url in python is called ``urllib``\n",
    "\n",
    "Google search to learn more, here we are using only a small component without exception trapping.\n",
    "    "
   ]
  },
  {
   "cell_type": "code",
   "execution_count": 50,
   "metadata": {},
   "outputs": [],
   "source": [
    "#Step 1: import needed modules to interact with the internet\n",
    "from urllib.request import urlopen # import a method that will connect to a url and read file contents\n",
    "import pandas #import pandas"
   ]
  },
  {
   "cell_type": "markdown",
   "metadata": {},
   "source": [
    "This next code fragment sets a string called ``remote_url``; it is just a variable, name can be anything that honors python naming rules.\n",
    "Then the ``urllib`` function ``urlopen`` with read and decode methods is employed, the result is stored in an object named ``elevationXYZ``"
   ]
  },
  {
   "cell_type": "code",
   "execution_count": 51,
   "metadata": {},
   "outputs": [],
   "source": [
    "#Step 2: make the connection to the remote file (actually its implementing \"bash curl -O http://fqdn/path ...\")\n",
    "remote_url = 'http://www.rtfmps.com/share_files/pip-corner-sumps.txt' # \n",
    "elevationXYZ = urlopen(remote_url).read().decode().split() # Gets the file contents as a single vector, comma delimited, file is not retained locally"
   ]
  },
  {
   "cell_type": "markdown",
   "metadata": {},
   "source": [
    "At this point the object exists as a single vector with hundreds of elements. We now need to structure the content.  Here using python primatives, and knowing how the data are supposed to look, we prepare variables to recieve the structured results"
   ]
  },
  {
   "cell_type": "code",
   "execution_count": 52,
   "metadata": {},
   "outputs": [],
   "source": [
    "#Step 3 Python primatives to structure the data, or use fancy modules (probably easy in numpy)\n",
    "howmany = len(elevationXYZ) # how long is the vector?\n",
    "nrow = int(howmany/3)\n",
    "xyz = [[0 for j in range(3)] for j in range(nrow)] # null space to receive data define columnX"
   ]
  },
  {
   "cell_type": "markdown",
   "metadata": {},
   "source": [
    "Now that everything is ready, we can extract from the object the values we want into ``xyz``"
   ]
  },
  {
   "cell_type": "code",
   "execution_count": 53,
   "metadata": {},
   "outputs": [],
   "source": [
    "#Step4 Now will build xyz as a matrix with 3 columns\n",
    "index = 0\n",
    "for irow in range(0,nrow):\n",
    "    xyz[irow][0]=float(elevationXYZ[index])\n",
    "    xyz[irow][1]=float(elevationXYZ[index+1])\n",
    "    xyz[irow][2]=float(elevationXYZ[index+2])\n",
    "    index += 3 #increment the index"
   ]
  },
  {
   "cell_type": "markdown",
   "metadata": {},
   "source": [
    "``xyz`` is now a 3-column float array and can now probably be treated as a data frame.\n",
    "Here we use a ``pandas`` method to build the dataframe."
   ]
  },
  {
   "cell_type": "code",
   "execution_count": 54,
   "metadata": {},
   "outputs": [],
   "source": [
    "df = pandas.DataFrame(xyz)"
   ]
  },
  {
   "cell_type": "markdown",
   "metadata": {},
   "source": [
    "Get some info, yep three columns (ordered triples to be precise!)"
   ]
  },
  {
   "cell_type": "code",
   "execution_count": 55,
   "metadata": {},
   "outputs": [
    {
     "name": "stdout",
     "output_type": "stream",
     "text": [
      "<class 'pandas.core.frame.DataFrame'>\n",
      "RangeIndex: 774 entries, 0 to 773\n",
      "Data columns (total 3 columns):\n",
      " #   Column  Non-Null Count  Dtype  \n",
      "---  ------  --------------  -----  \n",
      " 0   0       774 non-null    float64\n",
      " 1   1       774 non-null    float64\n",
      " 2   2       774 non-null    float64\n",
      "dtypes: float64(3)\n",
      "memory usage: 18.3 KB\n"
     ]
    }
   ],
   "source": [
    "df.info()"
   ]
  },
  {
   "cell_type": "markdown",
   "metadata": {},
   "source": [
    "And some summary statistics (meaningless for these data), but now have taken data from the internet and prepared it for analysis."
   ]
  },
  {
   "cell_type": "code",
   "execution_count": 56,
   "metadata": {},
   "outputs": [
    {
     "data": {
      "text/html": [
       "<div>\n",
       "<style scoped>\n",
       "    .dataframe tbody tr th:only-of-type {\n",
       "        vertical-align: middle;\n",
       "    }\n",
       "\n",
       "    .dataframe tbody tr th {\n",
       "        vertical-align: top;\n",
       "    }\n",
       "\n",
       "    .dataframe thead th {\n",
       "        text-align: right;\n",
       "    }\n",
       "</style>\n",
       "<table border=\"1\" class=\"dataframe\">\n",
       "  <thead>\n",
       "    <tr style=\"text-align: right;\">\n",
       "      <th></th>\n",
       "      <th>0</th>\n",
       "      <th>1</th>\n",
       "      <th>2</th>\n",
       "    </tr>\n",
       "  </thead>\n",
       "  <tbody>\n",
       "    <tr>\n",
       "      <th>count</th>\n",
       "      <td>774.000000</td>\n",
       "      <td>774.000000</td>\n",
       "      <td>774.000000</td>\n",
       "    </tr>\n",
       "    <tr>\n",
       "      <th>mean</th>\n",
       "      <td>52.064621</td>\n",
       "      <td>48.770060</td>\n",
       "      <td>2.364341</td>\n",
       "    </tr>\n",
       "    <tr>\n",
       "      <th>std</th>\n",
       "      <td>30.883400</td>\n",
       "      <td>32.886277</td>\n",
       "      <td>1.497413</td>\n",
       "    </tr>\n",
       "    <tr>\n",
       "      <th>min</th>\n",
       "      <td>-2.113554</td>\n",
       "      <td>-11.360960</td>\n",
       "      <td>0.000000</td>\n",
       "    </tr>\n",
       "    <tr>\n",
       "      <th>25%</th>\n",
       "      <td>25.640786</td>\n",
       "      <td>21.809579</td>\n",
       "      <td>2.000000</td>\n",
       "    </tr>\n",
       "    <tr>\n",
       "      <th>50%</th>\n",
       "      <td>55.795821</td>\n",
       "      <td>49.059950</td>\n",
       "      <td>2.000000</td>\n",
       "    </tr>\n",
       "    <tr>\n",
       "      <th>75%</th>\n",
       "      <td>76.752290</td>\n",
       "      <td>75.015933</td>\n",
       "      <td>4.000000</td>\n",
       "    </tr>\n",
       "    <tr>\n",
       "      <th>max</th>\n",
       "      <td>111.726727</td>\n",
       "      <td>115.123931</td>\n",
       "      <td>4.000000</td>\n",
       "    </tr>\n",
       "  </tbody>\n",
       "</table>\n",
       "</div>"
      ],
      "text/plain": [
       "                0           1           2\n",
       "count  774.000000  774.000000  774.000000\n",
       "mean    52.064621   48.770060    2.364341\n",
       "std     30.883400   32.886277    1.497413\n",
       "min     -2.113554  -11.360960    0.000000\n",
       "25%     25.640786   21.809579    2.000000\n",
       "50%     55.795821   49.059950    2.000000\n",
       "75%     76.752290   75.015933    4.000000\n",
       "max    111.726727  115.123931    4.000000"
      ]
     },
     "execution_count": 56,
     "metadata": {},
     "output_type": "execute_result"
    }
   ],
   "source": [
    "df.describe()"
   ]
  },
  {
   "cell_type": "markdown",
   "metadata": {},
   "source": [
    "And lets look at the first few rows"
   ]
  },
  {
   "cell_type": "code",
   "execution_count": 63,
   "metadata": {},
   "outputs": [
    {
     "data": {
      "text/html": [
       "<div>\n",
       "<style scoped>\n",
       "    .dataframe tbody tr th:only-of-type {\n",
       "        vertical-align: middle;\n",
       "    }\n",
       "\n",
       "    .dataframe tbody tr th {\n",
       "        vertical-align: top;\n",
       "    }\n",
       "\n",
       "    .dataframe thead th {\n",
       "        text-align: right;\n",
       "    }\n",
       "</style>\n",
       "<table border=\"1\" class=\"dataframe\">\n",
       "  <thead>\n",
       "    <tr style=\"text-align: right;\">\n",
       "      <th></th>\n",
       "      <th>0</th>\n",
       "      <th>1</th>\n",
       "      <th>2</th>\n",
       "    </tr>\n",
       "  </thead>\n",
       "  <tbody>\n",
       "    <tr>\n",
       "      <th>0</th>\n",
       "      <td>74.909597</td>\n",
       "      <td>93.212519</td>\n",
       "      <td>0.0</td>\n",
       "    </tr>\n",
       "    <tr>\n",
       "      <th>1</th>\n",
       "      <td>75.179074</td>\n",
       "      <td>64.402788</td>\n",
       "      <td>0.0</td>\n",
       "    </tr>\n",
       "    <tr>\n",
       "      <th>2</th>\n",
       "      <td>94.993557</td>\n",
       "      <td>93.079513</td>\n",
       "      <td>0.0</td>\n",
       "    </tr>\n",
       "    <tr>\n",
       "      <th>3</th>\n",
       "      <td>95.262341</td>\n",
       "      <td>64.600912</td>\n",
       "      <td>0.0</td>\n",
       "    </tr>\n",
       "    <tr>\n",
       "      <th>4</th>\n",
       "      <td>54.049767</td>\n",
       "      <td>64.211591</td>\n",
       "      <td>0.0</td>\n",
       "    </tr>\n",
       "  </tbody>\n",
       "</table>\n",
       "</div>"
      ],
      "text/plain": [
       "           0          1    2\n",
       "0  74.909597  93.212519  0.0\n",
       "1  75.179074  64.402788  0.0\n",
       "2  94.993557  93.079513  0.0\n",
       "3  95.262341  64.600912  0.0\n",
       "4  54.049767  64.211591  0.0"
      ]
     },
     "execution_count": 63,
     "metadata": {},
     "output_type": "execute_result"
    }
   ],
   "source": [
    "df.head()"
   ]
  },
  {
   "cell_type": "code",
   "execution_count": null,
   "metadata": {},
   "outputs": [],
   "source": []
  },
  {
   "cell_type": "markdown",
   "metadata": {},
   "source": [
    "---\n",
    "\n",
    "### Method: Get the actual file from a remote web server (unencrypted)\n",
    "\n",
    "> - You know the FQDN to the file it will be in structure of \"http://server-name/.../filename.ext\"\n",
    "> - The server is running ordinary (unencrypted) web services, i.e. `http://...`\n",
    "\n",
    "We will need a module to interface with the remote server. Here we will use ``requests`` , so first we load the module\n",
    "\n",
    "> You may need to install the module into your anaconda environment using the anaconda power shell, on my computer the commands are:\n",
    "> - sudo -H /opt/jupyterhub/bin/python3 -m pip install requests \n",
    ">\n",
    "> Or:\n",
    "> - sudo -H /opt/conda/envs/python/bin/python -m pip install requests\n",
    ">\n",
    "> You will have to do some reading, but with any luck something similar will work for you. "
   ]
  },
  {
   "cell_type": "code",
   "execution_count": 18,
   "metadata": {},
   "outputs": [],
   "source": [
    "import requests # Module to process http/https requests"
   ]
  },
  {
   "cell_type": "markdown",
   "metadata": {},
   "source": [
    "Now we will generate a ``GET`` request to the remote http server.  I chose to do so using a variable to store the remote URL so I can reuse code in future projects.  The ``GET`` request (an http/https method) is generated with the requests method ``get`` and assigned to an object named ``rget`` -- the name is arbitrary.  Next we extract the file from the ``rget`` object and write it to a local file with the name of the remote file - esentially automating the download process. Then we import the ``pandas`` module."
   ]
  },
  {
   "cell_type": "code",
   "execution_count": 22,
   "metadata": {},
   "outputs": [],
   "source": [
    "remote_url=\"http://54.243.252.9/engr-1330-psuedo-course/MyJupyterNotebooks/42-DataScience-EvaporationAnalysis/all_quads_gross_evaporation.csv\"  # set the url\n",
    "rget = requests.get(remote_url, allow_redirects=True)  # get the remote resource, follow imbedded links\n",
    "open('all_quads_gross_evaporation.csv','wb').write(rget.content) # extract from the remote the contents, assign to a local file same name\n",
    "import pandas as pd # Module to process dataframes (not absolutely needed but somewhat easier than using primatives, and gives graphing tools)"
   ]
  },
  {
   "cell_type": "code",
   "execution_count": 23,
   "metadata": {},
   "outputs": [
    {
     "name": "stdout",
     "output_type": "stream",
     "text": [
      "/home/sensei/engr-1330-webroot/1-Lessons/Lesson07\n",
      "total 928\n",
      "drwxr-xr-x  4 sensei sensei   4096 Sep 10 21:43 .\n",
      "drwxr-xr-x 28 sensei sensei   4096 Aug 23 16:10 ..\n",
      "drwxrwxr-x  2 sensei sensei   4096 Sep 10 21:43 .ipynb_checkpoints\n",
      "-rw-rw-r--  1 sensei sensei 127465 Sep 10 21:43 ENGR-1330-Lesson07.ipynb\n",
      "-rw-rw-r--  1 sensei sensei 343800 Sep 10 20:31 Filesystem-graphic.png\n",
      "-rw-rw-r--  1 sensei sensei  88568 Sep 10 20:31 Filesystem-shell.png\n",
      "drwxr-xr-x  3 sensei sensei   4096 Jul 21 16:15 OriginalPowerpoint\n",
      "-rw-rw-r--  1 sensei sensei 363498 Sep 10 21:44 all_quads_gross_evaporation.csv\n",
      "-rw-rw-r--  1 sensei sensei    206 Sep 10 21:08 myfirstfile.txt\n"
     ]
    }
   ],
   "source": [
    "# verify file exists\n",
    "! pwd\n",
    "! ls -la"
   ]
  },
  {
   "cell_type": "markdown",
   "metadata": {},
   "source": [
    "Now we can read the file contents and check its structure, before proceeding."
   ]
  },
  {
   "cell_type": "code",
   "execution_count": 24,
   "metadata": {},
   "outputs": [
    {
     "data": {
      "text/html": [
       "<div>\n",
       "<style scoped>\n",
       "    .dataframe tbody tr th:only-of-type {\n",
       "        vertical-align: middle;\n",
       "    }\n",
       "\n",
       "    .dataframe tbody tr th {\n",
       "        vertical-align: top;\n",
       "    }\n",
       "\n",
       "    .dataframe thead th {\n",
       "        text-align: right;\n",
       "    }\n",
       "</style>\n",
       "<table border=\"1\" class=\"dataframe\">\n",
       "  <thead>\n",
       "    <tr style=\"text-align: right;\">\n",
       "      <th></th>\n",
       "      <th>YYYY-MM</th>\n",
       "      <th>104</th>\n",
       "      <th>105</th>\n",
       "      <th>106</th>\n",
       "      <th>107</th>\n",
       "      <th>108</th>\n",
       "      <th>204</th>\n",
       "      <th>205</th>\n",
       "      <th>206</th>\n",
       "      <th>207</th>\n",
       "      <th>...</th>\n",
       "      <th>911</th>\n",
       "      <th>912</th>\n",
       "      <th>1008</th>\n",
       "      <th>1009</th>\n",
       "      <th>1010</th>\n",
       "      <th>1011</th>\n",
       "      <th>1108</th>\n",
       "      <th>1109</th>\n",
       "      <th>1110</th>\n",
       "      <th>1210</th>\n",
       "    </tr>\n",
       "  </thead>\n",
       "  <tbody>\n",
       "    <tr>\n",
       "      <th>0</th>\n",
       "      <td>1954-01-01</td>\n",
       "      <td>1.80</td>\n",
       "      <td>1.80</td>\n",
       "      <td>2.02</td>\n",
       "      <td>2.24</td>\n",
       "      <td>2.24</td>\n",
       "      <td>2.34</td>\n",
       "      <td>1.89</td>\n",
       "      <td>1.80</td>\n",
       "      <td>1.99</td>\n",
       "      <td>...</td>\n",
       "      <td>1.42</td>\n",
       "      <td>1.30</td>\n",
       "      <td>2.50</td>\n",
       "      <td>2.42</td>\n",
       "      <td>1.94</td>\n",
       "      <td>1.29</td>\n",
       "      <td>2.59</td>\n",
       "      <td>2.49</td>\n",
       "      <td>2.22</td>\n",
       "      <td>2.27</td>\n",
       "    </tr>\n",
       "    <tr>\n",
       "      <th>1</th>\n",
       "      <td>1954-02-01</td>\n",
       "      <td>4.27</td>\n",
       "      <td>4.27</td>\n",
       "      <td>4.13</td>\n",
       "      <td>3.98</td>\n",
       "      <td>3.90</td>\n",
       "      <td>4.18</td>\n",
       "      <td>4.26</td>\n",
       "      <td>4.27</td>\n",
       "      <td>4.26</td>\n",
       "      <td>...</td>\n",
       "      <td>2.59</td>\n",
       "      <td>2.51</td>\n",
       "      <td>4.71</td>\n",
       "      <td>4.30</td>\n",
       "      <td>3.84</td>\n",
       "      <td>2.50</td>\n",
       "      <td>5.07</td>\n",
       "      <td>4.62</td>\n",
       "      <td>4.05</td>\n",
       "      <td>4.18</td>\n",
       "    </tr>\n",
       "    <tr>\n",
       "      <th>2</th>\n",
       "      <td>1954-03-01</td>\n",
       "      <td>4.98</td>\n",
       "      <td>4.98</td>\n",
       "      <td>4.62</td>\n",
       "      <td>4.25</td>\n",
       "      <td>4.20</td>\n",
       "      <td>5.01</td>\n",
       "      <td>4.98</td>\n",
       "      <td>4.98</td>\n",
       "      <td>4.68</td>\n",
       "      <td>...</td>\n",
       "      <td>3.21</td>\n",
       "      <td>3.21</td>\n",
       "      <td>6.21</td>\n",
       "      <td>6.06</td>\n",
       "      <td>5.02</td>\n",
       "      <td>3.21</td>\n",
       "      <td>6.32</td>\n",
       "      <td>6.20</td>\n",
       "      <td>5.68</td>\n",
       "      <td>5.70</td>\n",
       "    </tr>\n",
       "    <tr>\n",
       "      <th>3</th>\n",
       "      <td>1954-04-01</td>\n",
       "      <td>6.09</td>\n",
       "      <td>5.94</td>\n",
       "      <td>5.94</td>\n",
       "      <td>6.07</td>\n",
       "      <td>5.27</td>\n",
       "      <td>6.31</td>\n",
       "      <td>5.98</td>\n",
       "      <td>5.89</td>\n",
       "      <td>5.72</td>\n",
       "      <td>...</td>\n",
       "      <td>3.83</td>\n",
       "      <td>3.54</td>\n",
       "      <td>6.45</td>\n",
       "      <td>6.25</td>\n",
       "      <td>4.92</td>\n",
       "      <td>3.54</td>\n",
       "      <td>6.59</td>\n",
       "      <td>6.44</td>\n",
       "      <td>5.88</td>\n",
       "      <td>5.95</td>\n",
       "    </tr>\n",
       "    <tr>\n",
       "      <th>4</th>\n",
       "      <td>1954-05-01</td>\n",
       "      <td>5.41</td>\n",
       "      <td>5.09</td>\n",
       "      <td>5.14</td>\n",
       "      <td>4.40</td>\n",
       "      <td>3.61</td>\n",
       "      <td>5.57</td>\n",
       "      <td>4.56</td>\n",
       "      <td>4.47</td>\n",
       "      <td>4.18</td>\n",
       "      <td>...</td>\n",
       "      <td>3.48</td>\n",
       "      <td>3.97</td>\n",
       "      <td>7.92</td>\n",
       "      <td>8.13</td>\n",
       "      <td>6.31</td>\n",
       "      <td>3.99</td>\n",
       "      <td>7.75</td>\n",
       "      <td>7.98</td>\n",
       "      <td>7.40</td>\n",
       "      <td>7.40</td>\n",
       "    </tr>\n",
       "  </tbody>\n",
       "</table>\n",
       "<p>5 rows × 93 columns</p>\n",
       "</div>"
      ],
      "text/plain": [
       "     YYYY-MM   104   105   106   107   108   204   205   206   207  ...   911  \\\n",
       "0 1954-01-01  1.80  1.80  2.02  2.24  2.24  2.34  1.89  1.80  1.99  ...  1.42   \n",
       "1 1954-02-01  4.27  4.27  4.13  3.98  3.90  4.18  4.26  4.27  4.26  ...  2.59   \n",
       "2 1954-03-01  4.98  4.98  4.62  4.25  4.20  5.01  4.98  4.98  4.68  ...  3.21   \n",
       "3 1954-04-01  6.09  5.94  5.94  6.07  5.27  6.31  5.98  5.89  5.72  ...  3.83   \n",
       "4 1954-05-01  5.41  5.09  5.14  4.40  3.61  5.57  4.56  4.47  4.18  ...  3.48   \n",
       "\n",
       "    912  1008  1009  1010  1011  1108  1109  1110  1210  \n",
       "0  1.30  2.50  2.42  1.94  1.29  2.59  2.49  2.22  2.27  \n",
       "1  2.51  4.71  4.30  3.84  2.50  5.07  4.62  4.05  4.18  \n",
       "2  3.21  6.21  6.06  5.02  3.21  6.32  6.20  5.68  5.70  \n",
       "3  3.54  6.45  6.25  4.92  3.54  6.59  6.44  5.88  5.95  \n",
       "4  3.97  7.92  8.13  6.31  3.99  7.75  7.98  7.40  7.40  \n",
       "\n",
       "[5 rows x 93 columns]"
      ]
     },
     "execution_count": 24,
     "metadata": {},
     "output_type": "execute_result"
    }
   ],
   "source": [
    "evapdf = pd.read_csv(\"all_quads_gross_evaporation.csv\",parse_dates=[\"YYYY-MM\"]) # Read the file as a .CSV assign to a dataframe evapdf\n",
    "evapdf.head() # check structure"
   ]
  },
  {
   "cell_type": "markdown",
   "metadata": {},
   "source": [
    "Structure looks like a spreadsheet as expected; lets plot the time series for cell '911'"
   ]
  },
  {
   "cell_type": "code",
   "execution_count": 68,
   "metadata": {},
   "outputs": [
    {
     "data": {
      "text/plain": [
       "<AxesSubplot:xlabel='YYYY-MM'>"
      ]
     },
     "execution_count": 68,
     "metadata": {},
     "output_type": "execute_result"
    },
    {
     "data": {
      "image/png": "[encoded data removed]",
      "text/plain": [
       "<Figure size 432x288 with 1 Axes>"
      ]
     },
     "metadata": {
      "needs_background": "light"
     },
     "output_type": "display_data"
    }
   ],
   "source": [
    "evapdf.plot.line(x='YYYY-MM',y='911') # Plot quadrant 911 evaporation time series "
   ]
  },
  {
   "cell_type": "markdown",
   "metadata": {},
   "source": [
    "### Method 3: Get the actual file from an encrypted server\n",
    "\n",
    "This section is saved for future semesters"
   ]
  },
  {
   "cell_type": "markdown",
   "metadata": {},
   "source": [
    "## References\n",
    "\n",
    "1. Grus, Joel (2015-04-14). Data Science from Scratch: First Principles with Python\n",
    "(Kindle Locations 1190-1191). O'Reilly Media. Kindle Edition. \n",
    "\n",
    "2. Call Expressions in \"Adhikari, A. and DeNero, J. Computational and Inferential Thinking The Foundations of Data Science\" https://www.inferentialthinking.com/chapters/03/3/Calls.html\n",
    "\n",
    "3. Functions and Tables in \"Adhikari, A. and DeNero, J. Computational and Inferential Thinking The Foundations of Data Science\" https://www.inferentialthinking.com/chapters/08/Functions_and_Tables.html\n",
    "\n",
    "4. Visualization in \"Adhikari, A. and DeNero, J. Computational and Inferential Thinking The Foundations of Data Science\" https://www.inferentialthinking.com/chapters/07/Visualization.html\n",
    "\n",
    "5. Documentation; The Python Standard Library; 9. Numeric and Mathematical Modules https://docs.python.org/2/library/math.html\n",
    "\n",
    "6. Code.org; Chris Bosh of Miami Heat and Jess Lee CEO of Polyvore. Let's use code to join Anna and Elsa as they explore the magic and beauty of ice. https://youtu.be/0eo0ESEX9DE\n",
    "\n",
    "7. ENGR-1330 Functions and Variable Scope (Fall 2020) https://3.137.111.182/engr-1330-webroot/1-Lessons/Lesson05/OriginalPowerpoint/PythonFunctions-VariableScope-ENGR1330-CTwithDS.pdf"
   ]
  },
  {
   "cell_type": "markdown",
   "metadata": {},
   "source": [
    "# Files and Filesystems\n",
    "\n",
    "## Background\n",
    "\n",
    "A computer file is a computer resource for recording data discretely (not in the secretive context, but specifically somewhere on a piece of hardware) in a computer storage device. Just as words can be written to paper, so can information be written to a computer file. Files can be edited and transferred through the internet on that particular computer system.\n",
    "\n",
    "There are different types of computer files, designed for different purposes. A file may be designed to store a picture, a written message, a video, a computer program, or a wide variety of other kinds of data. Some types of files can store several types of information at once.\n",
    "\n",
    "By using computer programs, a person can open, read, change, save, and close a computer file. Computer files may be reopened, modified, and copied an arbitrary number of times.\n",
    "\n",
    "Typically, files are organised in a file system, which keeps track of where the files are located on disk and enables user access. \n",
    "\n",
    "### File system\n",
    "In computing, a file system or filesystem, controls how data is stored and retrieved. \n",
    "Without a file system, data placed in a storage medium would be one large body of data with no way to tell where one piece of data stops and the next begins. \n",
    "By separating the data into pieces and giving each piece a name, the data is isolated and identified. \n",
    "Taking its name from the way paper-based data management system is named, each group of data is called a “file”. \n",
    "The structure and logic rules used to manage the groups of data and their names is called a “file system”.\n",
    "\n",
    "### Path\n",
    "A path, the general form of the name of a file or directory, specifies a unique location in a file system. A path points to a file system location by following the directory tree hierarchy expressed in a string of characters in which path components, separated by a delimiting character, represent each directory. The delimiting character is most commonly the slash (”/”), the backslash character (”\\”), or colon (”:”), though some operating systems may use a different delimiter.\n",
    "Paths are used extensively in computer science to represent the directory/file relationships common in modern operating systems, and are essential in the construction of Uniform Resource Locators (URLs). Resources can be represented by either absolute or relative paths.\n",
    "As an example consider the following two files:\n",
    "\n",
    "1. /Users/theodore/MyGit/@atomickitty/hurri-sensors/.git/Guest.conf \n",
    "2. /etc/apache2/users/Guest.conf\n",
    "\n",
    "They both have the same file name, but are located on different paths. \n",
    "Failure to provide the path when addressing the file can be a problem. \n",
    "Another way to interpret is that the two unique files actually have different names, and only part of those names is common (Guest.conf)\n",
    "The two names above (including the path) are called fully qualified filenames (or absolute names), a relative path (usually relative to the file or program of interest depends on where in the directory structure the file lives. \n",
    "If we are currently in the .git directory (the first file) the path to the file is just the filename.\n",
    "\n",
    "We have experienced path issues with dependencies on .png files - in general your JupyterLab notebooks on CoCalc can only look at the local directory which is why we have to copy files into the directory for things to work.\n",
    "\n",
    "### File Types\n",
    "\n",
    "1. Text Files. Text files are regular files that contain information readable by the user. This information is stored in ASCII. You can display and print these files. The lines of a text file must not contain NULL characters, and none can exceed a prescribed (by architecture) length, including the new-line character.  The term text file does not prevent the inclusion of control or other nonprintable characters (other than NUL). Therefore, standard utilities that list text files as inputs or outputs are either able to process the special characters gracefully or they explicitly describe their limitations within their individual sections.\n",
    "\n",
    "2. Binary Files. Binary files are regular files that contain information readable by the computer. Binary files may be executable files that instruct the system to accomplish a job. Commands and programs are stored in executable, binary files. Special compiling programs translate ASCII text into binary code.  The only difference between text and binary files is that text files have lines of less than some length, with no NULL characters, each terminated by a new-line character.\n",
    "\n",
    "3. Directory Files. Directory files contain information the system needs to access all types of files, but they do not contain the actual file data. As a result, directories occupy less space than a regular file and give the file system structure flexibility and depth. Each directory entry represents either a file or a subdirectory. Each entry contains the name of the file and the file's index node reference number (i-node). The i-node points to the unique index node assigned to the file. The i-node describes the location of the data associated with the file. Directories are created and controlled by a separate set of commands.\n",
    "\n",
    "### File Manipulation\n",
    "\n",
    "For this lesson we examine just a handfull of file manipulations which are quite useful. Files can be \"created\",\"read\",\"updated\", or \"deleted\" (CRUD). "
   ]
  },
  {
   "cell_type": "markdown",
   "metadata": {},
   "source": [
    "#### Example: Create a file, write to it. \n",
    "\n",
    "Below is an example of creating a file that does not yet exist.\n",
    "The script is a bit pendandic on purpose.\n",
    "\n",
    "First will use some system commands to view the contents of the local directory"
   ]
  },
  {
   "cell_type": "code",
   "execution_count": 17,
   "metadata": {
    "collapsed": false,
    "jupyter": {
     "outputs_hidden": false
    }
   },
   "outputs": [
    {
     "name": "stdout",
     "output_type": "stream",
     "text": [
      "/home/compthink/engr-1330-webroot/1-Lessons/Lesson06/OriginalPowerpoint\n"
     ]
    }
   ],
   "source": [
    "import sys\n",
    "! rm -rf myfirstfile.txt # delete file if it exists\n",
    "! pwd # list name of working directory, note it includes path, so it is an absolute path"
   ]
  },
  {
   "cell_type": "code",
   "execution_count": 18,
   "metadata": {
    "collapsed": false,
    "jupyter": {
     "outputs_hidden": false
    }
   },
   "outputs": [
    {
     "name": "stdout",
     "output_type": "stream",
     "text": [
      "total 116\n",
      "-rw-rw-r-- 1 compthink compthink  9353 Feb  7 01:33 ClassObjects_FileHandling_LabSession.ipynb\n",
      "-rw-rw-r-- 1 compthink compthink 38589 Feb  7 02:07 ClassObjects_FileHandling_LectureSession.ipynb\n",
      "-rw-rw-r-- 1 compthink compthink 46643 Feb  7 02:19 ENGR-1330-Lesson6-Dev.ipynb\n",
      "-rw-rw-r-- 1 compthink compthink   524 Feb  7 01:33 ReadingFile.txt\n",
      "-rw-rw-r-- 1 compthink compthink   111 Feb  7 01:33 sample-Copy1.txt\n",
      "-rw-rw-r-- 1 compthink compthink   153 Feb  7 01:33 sample.txt\n",
      "drwxrwxr-x 3 compthink compthink  4096 Feb  7 01:33 src\n"
     ]
    }
   ],
   "source": [
    "! ls -l # list contents of working directory"
   ]
  },
  {
   "cell_type": "code",
   "execution_count": 19,
   "metadata": {
    "collapsed": false,
    "jupyter": {
     "outputs_hidden": false
    }
   },
   "outputs": [],
   "source": [
    "# create file example\n",
    "externalfile = open(\"myfirstfile.txt\",'w') # create connection to file, set to write (w), file does not need to exist\n",
    "mymessage = 'message in a bottle' #some object to write, in this case a string\n",
    "externalfile.write(mymessage)# write the contents of mymessage to the file\n",
    "externalfile.close() # close the file connection"
   ]
  },
  {
   "cell_type": "markdown",
   "metadata": {},
   "source": [
    "At this point our new file should exist, lets list the directory and see if that is so"
   ]
  },
  {
   "cell_type": "code",
   "execution_count": 20,
   "metadata": {
    "collapsed": false,
    "jupyter": {
     "outputs_hidden": false
    }
   },
   "outputs": [
    {
     "name": "stdout",
     "output_type": "stream",
     "text": [
      "total 120\n",
      "-rw-rw-r-- 1 compthink compthink  9353 Feb  7 01:33 ClassObjects_FileHandling_LabSession.ipynb\n",
      "-rw-rw-r-- 1 compthink compthink 38589 Feb  7 02:07 ClassObjects_FileHandling_LectureSession.ipynb\n",
      "-rw-rw-r-- 1 compthink compthink 46643 Feb  7 02:19 ENGR-1330-Lesson6-Dev.ipynb\n",
      "-rw-rw-r-- 1 compthink compthink   524 Feb  7 01:33 ReadingFile.txt\n",
      "-rw-rw-r-- 1 compthink compthink    19 Feb  7 02:20 myfirstfile.txt\n",
      "-rw-rw-r-- 1 compthink compthink   111 Feb  7 01:33 sample-Copy1.txt\n",
      "-rw-rw-r-- 1 compthink compthink   153 Feb  7 01:33 sample.txt\n",
      "drwxrwxr-x 3 compthink compthink  4096 Feb  7 01:33 src\n"
     ]
    }
   ],
   "source": [
    "! ls -l # list contents of working directory"
   ]
  },
  {
   "cell_type": "markdown",
   "metadata": {},
   "source": [
    "Sure enough, its there, we will use a `bash` command `cat` to look at the contents of the file."
   ]
  },
  {
   "cell_type": "code",
   "execution_count": 21,
   "metadata": {
    "collapsed": false,
    "jupyter": {
     "outputs_hidden": false
    }
   },
   "outputs": [
    {
     "name": "stdout",
     "output_type": "stream",
     "text": [
      "message in a bottle"
     ]
    }
   ],
   "source": [
    "! cat myfirstfile.txt"
   ]
  },
  {
   "cell_type": "markdown",
   "metadata": {},
   "source": [
    "#### Example: Read from an existing file. \n",
    "\n",
    "We will continue using the file we just made, and read from it the example is below"
   ]
  },
  {
   "cell_type": "code",
   "execution_count": 6,
   "metadata": {
    "collapsed": false,
    "jupyter": {
     "outputs_hidden": false
    }
   },
   "outputs": [
    {
     "name": "stdout",
     "output_type": "stream",
     "text": [
      "message in a bottle\n"
     ]
    }
   ],
   "source": [
    "# read file example\n",
    "externalfile = open(\"myfirstfile.txt\",'r') # create connection to file, set to read (r), file must exist\n",
    "silly_string = externalfile.read() # read the contents\n",
    "externalfile.close() # close the file connection\n",
    "print(silly_string)"
   ]
  },
  {
   "cell_type": "code",
   "execution_count": null,
   "metadata": {
    "collapsed": false,
    "jupyter": {
     "outputs_hidden": false
    }
   },
   "outputs": [],
   "source": []
  },
  {
   "cell_type": "markdown",
   "metadata": {},
   "source": [
    "#### Example: Update a file.\n",
    "\n",
    "This example continues with our same file, but we will now add contents without destroying existing contents. The keyword is `append`"
   ]
  },
  {
   "cell_type": "code",
   "execution_count": 1,
   "metadata": {
    "collapsed": false,
    "jupyter": {
     "outputs_hidden": false
    }
   },
   "outputs": [],
   "source": [
    "externalfile = open(\"myfirstfile.txt\",'a') # create connection to file, set to append (a), file does not need to exist\n",
    "externalfile.write('\\n') # adds a newline character\n",
    "what_to_add = 'I love rock-and-roll, put another dime in the jukebox baby ... \\n' \n",
    "externalfile.write(what_to_add) # add a string including the linefeed\n",
    "what_to_add = '... the waiting is the hardest part \\n' \n",
    "externalfile.write(what_to_add) # add a string including the linefeed\n",
    "mylist = [1,2,3,4,5] # a list of numbers\n",
    "what_to_add = ','.join(map(repr, mylist)) + \"\\n\" # one way to write the list\n",
    "externalfile.write(what_to_add)\n",
    "what_to_add = ','.join(map(repr, mylist[0:len(mylist)])) + \"\\n\" # another way to write the list\n",
    "externalfile.write(what_to_add)\n",
    "externalfile.close()"
   ]
  },
  {
   "cell_type": "code",
   "execution_count": 2,
   "metadata": {},
   "outputs": [],
   "source": [
    "externalfile = open(\"myfirstfile.txt\",'a') # create connection to file, set to append (a), file does not need to exist\n",
    "externalfile.write('\\n') # adds a newline character\n",
    "what_to_add = 'I love rock-and-roll, put another dime in the jukebox baby ... \\n' \n",
    "externalfile.write(what_to_add) # add a string including the linefeed\n",
    "externalfile.close()"
   ]
  },
  {
   "cell_type": "markdown",
   "metadata": {},
   "source": [
    "As before we can examine the contents using a shell command sent from the notebook."
   ]
  },
  {
   "cell_type": "code",
   "execution_count": 3,
   "metadata": {
    "collapsed": false,
    "jupyter": {
     "outputs_hidden": false
    }
   },
   "outputs": [
    {
     "name": "stdout",
     "output_type": "stream",
     "text": [
      "\n",
      "I love rock-and-roll, put another dime in the jukebox baby ... \n",
      "... the waiting is the hardest part \n",
      "1,2,3,4,5\n",
      "1,2,3,4,5\n",
      "\n",
      "I love rock-and-roll, put another dime in the jukebox baby ... \n"
     ]
    }
   ],
   "source": [
    "! cat myfirstfile.txt"
   ]
  },
  {
   "cell_type": "markdown",
   "metadata": {},
   "source": [
    "#### Example: Delete a file\n",
    "\n",
    "Delete can be done by a system call as we did above to clear the local directory\n",
    "\n",
    "In a JupyterLab notebook, we can either use\n",
    "\n",
    "    import sys\n",
    "    ! rm -rf myfirstfile.txt # delete file if it exists\n",
    "\n",
    "or\n",
    "\n",
    "    import os\n",
    "    os.remove(\"myfirstfile.txt\")\n",
    "\n",
    "they both have same effect, both equally dangerous to your filesystem.\n",
    "\n",
    "\n",
    "Learn more about CRUD with text files at https://www.guru99.com/reading-and-writing-files-in-python.html\n",
    "\n",
    "Learn more about file delete at https://www.dummies.com/programming/python/how-to-delete-a-file-in-python/\n",
    "    "
   ]
  },
  {
   "cell_type": "code",
   "execution_count": 24,
   "metadata": {},
   "outputs": [
    {
     "name": "stdout",
     "output_type": "stream",
     "text": [
      "myfirstfile.txt  missing or deleted !\n"
     ]
    }
   ],
   "source": [
    "import os\n",
    "file2kill = \"myfirstfile.txt\"\n",
    "try:\n",
    "    os.remove(file2kill) # file must exist or will generate an exception\n",
    "except:\n",
    "    pass # example of using pass to improve readability\n",
    "print(file2kill, \" missing or deleted !\")"
   ]
  },
  {
   "cell_type": "markdown",
   "metadata": {},
   "source": [
    "A little discussion on the part where we wrote numbers\n",
    "\n",
    "    what_to_add = ','.join(map(repr, mylist[0:len(mylist)])) + \"\\n\"\n",
    "\n",
    "Here are descriptions of the two functions `map` and `repr`\n",
    "\n",
    "`map(function, iterable, ...)` Apply `function` to every item of iterable and return a list of the results. \n",
    "If additional iterable arguments are passed, function must take that many arguments and is applied to the items from all iterables in parallel. \n",
    "If one iterable is shorter than another it is assumed to be extended with None items. \n",
    "If function is None, the identity function is assumed; if there are multiple arguments, `map()` returns a list consisting of tuples containing the corresponding items from all iterables (a kind of transpose operation). \n",
    "The iterable arguments may be a sequence or any iterable object; the result is always a list.\n",
    "\n",
    "`repr(object)` Return a string containing a printable representation of an object. \n",
    "This is the same value yielded by conversions (reverse quotes). \n",
    "It is sometimes useful to be able to access this operation as an ordinary function. \n",
    "For many types, this function makes an attempt to return a string that would yield an object with the same value when passed to `eval()`, otherwise the representation is a string enclosed in angle brackets that contains the name of the type of the object together with additional information often including the name and address of the object. \n",
    "A class can control what this function returns for its instances by defining a `repr()` method.\n",
    "\n",
    "What they do in this script is important. \n",
    "The statement:\n",
    "\n",
    "    what_to_add = ’,’.join(map(repr, mylist[0:len(mylist)])) + \"\\n\"\n",
    "    \n",
    "is building a string that will be comprised of elements of mylist[0:len(mylist)].\n",
    "The `repr()` function gets these elements as they are represented in the computer, the delimiter a comma is added using the join method in Python, and because everything is now a string the\n",
    "\n",
    "    ... + \"\\n\"\n",
    "    \n",
    "puts a linefeed character at the end of the string so the output will start a new line the next time something is written."
   ]
  },
  {
   "cell_type": "markdown",
   "metadata": {},
   "source": [
    "## Example\n",
    "\n",
    "- create a text file, name it __\"MyFavoriteQuotation\"__.\n",
    "- Write __your favorite quotation__ in the file.\n",
    "- Read the file.\n",
    "- Add this string to it in a new line : \"And that's something I wish I had said...\"\n",
    "- Show the final outcome."
   ]
  },
  {
   "cell_type": "code",
   "execution_count": 15,
   "metadata": {},
   "outputs": [
    {
     "name": "stdout",
     "output_type": "stream",
     "text": [
      "The path of the righteous man is beset on all sides by the inequities of the selfish and the tyranny of evil men. Blessed is he who, in the name of charity and good will, shepherds the weak through the valley of darkness. For he is truly his brother’s keeper and the finder of lost children. And I will strike down upon thee with great vengeance and furious anger those who attempt to poison and destroy my brothers. And you will know my name is the Lord when I lay my vengeance upon you.The path of the righteous man is beset on all sides by the inequities of the selfish and the tyranny of evil men. Blessed is he who, in the name of charity and good will, shepherds the weak through the valley of darkness. For he is truly his brother’s keeper and the finder of lost children. And I will strike down upon thee with great vengeance and furious anger those who attempt to poison and destroy my brothers. And you will know my name is the Lord when I lay my vengeance upon you.\n",
      "And that's something I wish I had said ... \n"
     ]
    }
   ],
   "source": [
    "# create the \"My Favorite Quotation\" file:\n",
    "externalfile = open(\"MyFavoriteQuotation.txt\",'w')         # create connection to file, set to write (w)\n",
    "myquotation = 'The path of the righteous man is beset on all sides by the inequities of the selfish and the tyranny of evil men. Blessed is he who, in the name of charity and good will, shepherds the weak through the valley of darkness. For he is truly his brother’s keeper and the finder of lost children. And I will strike down upon thee with great vengeance and furious anger those who attempt to poison and destroy my brothers. And you will know my name is the Lord when I lay my vengeance upon you.' #My choice: quotation from Pulp Fiction\n",
    "externalfile.write(myquotation)# write the contents of mymessage to the file\n",
    "externalfile.close() # close the file connection\n",
    "#Let's read the file\n",
    "! cat MyFavoriteQuotation.txt \n",
    "# Let's add the string\n",
    "externalfile = open(\"MyFavoriteQuotation.txt\",'a')  #create connection to file, set to append (a)\n",
    "externalfile.write('\\n') # adds a newline character\n",
    "what_to_add = \"And that's something I wish I had said ... \\n\"\n",
    "externalfile.write(what_to_add)\n",
    "externalfile.close()\n",
    "#Let's read the file one last time\n",
    "! cat MyFavoriteQuotation.txt "
   ]
  },
  {
   "cell_type": "code",
   "execution_count": null,
   "metadata": {},
   "outputs": [],
   "source": []
  }
 ],
 "metadata": {
  "kernelspec": {
   "display_name": "Python 3",
   "language": "python",
   "name": "python3"
  },
  "language_info": {
   "codemirror_mode": {
    "name": "ipython",
    "version": 3
   },
   "file_extension": ".py",
   "mimetype": "text/x-python",
   "name": "python",
   "nbconvert_exporter": "python",
   "pygments_lexer": "ipython3",
   "version": "3.8.10"
  }
 },
 "nbformat": 4,
 "nbformat_minor": 4
}
