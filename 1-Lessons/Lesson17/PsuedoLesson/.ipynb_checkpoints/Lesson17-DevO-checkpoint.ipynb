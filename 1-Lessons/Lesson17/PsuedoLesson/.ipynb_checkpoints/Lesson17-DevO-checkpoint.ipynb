{
 "cells": [
  {
   "cell_type": "code",
   "execution_count": 1,
   "metadata": {},
   "outputs": [
    {
     "data": {
      "text/html": [
       "<!--Script block to left align Markdown Tables-->\n",
       "<style>\n",
       "  table {margin-left: 0 !important;}\n",
       "</style>\n"
      ],
      "text/plain": [
       "<IPython.core.display.HTML object>"
      ]
     },
     "metadata": {},
     "output_type": "display_data"
    }
   ],
   "source": [
    "%%html\n",
    "<!--Script block to left align Markdown Tables-->\n",
    "<style>\n",
    "  table {margin-left: 0 !important;}\n",
    "</style>"
   ]
  },
  {
   "cell_type": "code",
   "execution_count": 2,
   "metadata": {},
   "outputs": [
    {
     "name": "stdout",
     "output_type": "stream",
     "text": [
      "atomickitty\n",
      "compthink\n",
      "/opt/jupyterhub/bin/python3\n",
      "3.8.5 (default, Jan 27 2021, 15:41:15) \n",
      "[GCC 9.3.0]\n",
      "sys.version_info(major=3, minor=8, micro=5, releaselevel='final', serial=0)\n"
     ]
    }
   ],
   "source": [
    "# Preamble script block to identify host, user, and kernel\n",
    "import sys\n",
    "! hostname\n",
    "! whoami\n",
    "print(sys.executable)\n",
    "print(sys.version)\n",
    "print(sys.version_info)"
   ]
  },
  {
   "cell_type": "markdown",
   "metadata": {},
   "source": [
    "# ENGR 1330 Computational Thinking with Data Science \n",
    "Last GitHub Commit Date: 16 Mar 2021\n",
    "\n",
    "## Lesson 17 : A/B Testing and Confidence Intervals\n",
    "\n",
    "A procedure to systematically decide if two data collections are similar or substantially different, and quantify the probability of the differences\n",
    "\n",
    "<!--![](https://www.thermofisher.com/blog/wp-content/uploads/sites/11/2018/01/istock-829172394_redumbrella.jpg)-->\n",
    "\n",
    "## Objectives\n",
    "- To apply fundamental concepts involved in probability estimation modeling and descriptive statistics;\n",
    "  - Are two sets different from each other?\n",
    "  - What is the best estimate of a statistiv from a set, and its likely range?\n",
    "  - \n",
    "---\n",
    "\n",
    "## Computational Thinking Concepts\n",
    "The CT concepts include:\n",
    "\n",
    "- Abstraction => Represent data behavior with a statistic \n",
    "- Pattern Recognition => Compare patterns in (our) data models to make a decision\n",
    "---\n",
    "\n",
    "# Textbook Resources\n",
    "\n",
    "[https://www.inferentialthinking.com/chapters/11/Testing_Hypotheses.html](https://www.inferentialthinking.com/chapters/11/Testing_Hypotheses.html)\n",
    "\n",
    "You know the URL that no-one reads, perhaps because there is a \"secret\" module you need to install, without instructions of how! \n",
    "\n",
    "# A/B Testing \n",
    "\n",
    "Deciding whether two numerical samples come from the same underlying distribution is called A/B testing. The name refers to the labels of the two samples, A and B.  We have examined this kind of question already in prior labs.\n",
    "\n",
    "We leave you to examine the example in the textbook on your own.  "
   ]
  },
  {
   "cell_type": "markdown",
   "metadata": {},
   "source": [
    "<hr>\n",
    "\n",
    "Much of what follows below is borrowed with some changes for our class from: https://pubs.usgs.gov/tm/04/a03/tm4a3.pdf\n",
    "\n",
    "\n",
    "## Interval Estimates\n",
    "\n",
    "Several summary statistics were presented that described key attributes of a dataset, including sample estimates such as $\\bar x$ and $s^2$, of true and unknown population parameters, such as $\\mu$, the population mean, and $\\sigma^2$, the population variance. \n",
    "\n",
    "What follows are methods to describe the uncertainty or reliability of sample estimates. As an alternative to reporting a single estimate, the utility of reporting a range of values called an interval estimate is demonstrated. Both parametric and nonparametric interval estimates are presented. These intervals can also be used to test whether the population parameter is significantly different from some prespecified value.\n",
    "\n",
    "### Definition of Interval Estimates\n",
    "\n",
    "The sample median and sample mean are two types of estimates of the central tendency of a population. Such estimates are called point estimates. By themselves, point estimates do not portray the reliability, or lack of reliability (variability), of these estimates. For example, suppose that two datasets—X and Y—exist, both have a sample mean of about 50 and contain the same number of observations. "
   ]
  },
  {
   "cell_type": "code",
   "execution_count": 34,
   "metadata": {},
   "outputs": [
    {
     "name": "stdout",
     "output_type": "stream",
     "text": [
      "                X           Y\n",
      "count  500.000000  500.000000\n",
      "mean    51.754000   50.304000\n",
      "std     28.903985    5.705496\n",
      "min      1.000000   41.000000\n",
      "25%     28.000000   45.000000\n",
      "50%     51.000000   50.000000\n",
      "75%     77.000000   55.000000\n",
      "max    100.000000   60.000000\n"
     ]
    },
    {
     "data": {
      "text/plain": [
       "<AxesSubplot:ylabel='Frequency'>"
      ]
     },
     "execution_count": 34,
     "metadata": {},
     "output_type": "execute_result"
    },
    {
     "data": {
      "image/png": "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\n",
      "text/plain": [
       "<Figure size 432x288 with 1 Axes>"
      ]
     },
     "metadata": {
      "needs_background": "light"
     },
     "output_type": "display_data"
    }
   ],
   "source": [
    "x = numpy.random.choice(process1,500)\n",
    "y = numpy.random.choice(process2,500)\n",
    "\n",
    "# make lists into dataframe \n",
    "boxdf = pandas.DataFrame()\n",
    "boxdf['X']=x\n",
    "boxdf['Y']=y\n",
    "\n",
    "# describe lists/dataframe \n",
    "print(boxdf.describe())\n",
    "\n",
    "boxdf.plot.hist() # "
   ]
  },
  {
   "cell_type": "code",
   "execution_count": null,
   "metadata": {},
   "outputs": [],
   "source": []
  },
  {
   "cell_type": "markdown",
   "metadata": {},
   "source": [
    "The Y data all cluster tightly around 50; the X data are much more variable. The point estimate of 50 for dataset X is less certain than the point estimate for dataset Y because of the greater variability in the X data. Reporting only the sample (point) estimate of 50 fails to give any hint of this difference, although it is graphically quite evident.\n",
    "\n",
    "We would then recall we have been hypothesis testing the crap out of things, so we can apply those tools:"
   ]
  },
  {
   "cell_type": "code",
   "execution_count": 35,
   "metadata": {},
   "outputs": [
    {
     "name": "stdout",
     "output_type": "stream",
     "text": [
      "stat=0.953, p=0.000\n",
      "Probably not Gaussian\n"
     ]
    }
   ],
   "source": [
    "# are the samples approximatley normal?\n",
    "# the Shapiro-Wilk Normality Test for set1\n",
    "from scipy.stats import shapiro\n",
    "stat, p = shapiro(boxdf['X'])\n",
    "print('stat=%.3f, p=%.3f' % (stat, p))\n",
    "if p > 0.05:\n",
    "\tprint('Probably Gaussian')\n",
    "else:\n",
    "\tprint('Probably not Gaussian')"
   ]
  },
  {
   "cell_type": "code",
   "execution_count": 36,
   "metadata": {},
   "outputs": [
    {
     "name": "stdout",
     "output_type": "stream",
     "text": [
      "stat=0.951, p=0.000\n",
      "Probably not Gaussian\n"
     ]
    }
   ],
   "source": [
    "# are the samples approximatley normal?\n",
    "# the Shapiro-Wilk Normality Test for set1\n",
    "from scipy.stats import shapiro\n",
    "stat, p = shapiro(boxdf['Y'])\n",
    "print('stat=%.3f, p=%.3f' % (stat, p))\n",
    "if p > 0.05:\n",
    "\tprint('Probably Gaussian')\n",
    "else:\n",
    "\tprint('Probably not Gaussian')"
   ]
  },
  {
   "cell_type": "code",
   "execution_count": 37,
   "metadata": {},
   "outputs": [
    {
     "name": "stdout",
     "output_type": "stream",
     "text": [
      "statistic=121764.500, p-value at rejection =0.239\n",
      "Probably the same distribution\n"
     ]
    }
   ],
   "source": [
    "from scipy.stats import mannwhitneyu # import a useful non-parametric test\n",
    "stat, p = mannwhitneyu(boxdf['X'],boxdf['Y'])\n",
    "print('statistic=%.3f, p-value at rejection =%.3f' % (stat, p))\n",
    "if p > 0.05:\n",
    "    print('Probably the same mean')\n",
    "else:\n",
    "    print('Probably different mean')"
   ]
  },
  {
   "cell_type": "markdown",
   "metadata": {},
   "source": [
    "At this point we know that the mean values are about the same, but the two datasets are not alike (its the variance stupid!)\n",
    "\n",
    "As an alternative to just point estimates, interval estimates are intervals that have a stated probability of containing the true population value. In our example, the mean for Y is 50 and we are pretty sure of that, because the sample variance is small - if our sample had also tested as normal we could state that the estimate of population mean is 50 +/- 18 ( 3 standard deviations) with probability of 99%.  Such a statement is an interval estimate.\n",
    "\n",
    "In general, we will be presenting two-sided intervals (where the probability of the true value being higher than the upper limit is assumed to be equal to the probability of its being lower than the lower limit). There are also one-sided intervals. The intervals are wider for datasets having greater variability and the same number of data points. \n",
    "\n",
    "Thus, in the above example, an interval between 38 and 62 may have a 95-percent probability of containing the (unknown) true population mean of dataset Y. It would take a much wider interval, say between -6 and 106, to have the same probability of containing the true mean of dataset X. \n",
    "\n",
    "The difference in the reliability of the two estimates is therefore clearly stated using interval estimates. Interval estimates can provide two pieces of information which point estimates cannot:\n",
    "1. A statement of the probability or likelihood that the interval contains the true population value (its reliability).\n",
    "2. A statement of the likelihood that a single data point with specified magnitude comes from the population under study.\n",
    "\n",
    "Interval estimates for the first purpose are called confidence intervals; intervals for the second purpose are called prediction intervals. Though related, the two types of interval estimates are not identical, and should not be interchanged.\n",
    "\n",
    "# First a visit with our textbook!"
   ]
  },
  {
   "cell_type": "markdown",
   "metadata": {},
   "source": [
    "<hr>\n",
    "\n",
    "Much of what follows below is borrowed with minor changes for our class from: https://www.inferentialthinking.com/chapters/13/1/Percentiles.html\n",
    "\n",
    "\n",
    "## Percentiles\n",
    "\n",
    "Numerical data can be sorted in increasing or decreasing order. Thus the values of a numerical data set have a rank order. A percentile is the value at a particular rank.  *We have exploited this is our plotting position formulas earlier.*\n",
    "\n",
    "For example, if your score on a test is on the 95th percentile, a common interpretation is that only 5% of the scores were higher than yours. The median is the 50th percentile; it is commonly assumed that 50% the values in a data set are above the median.\n",
    "\n",
    "But some care is required in giving percentiles a precise definition that works for all ranks and all lists. To see why, consider an extreme example where all the students in a class score 75 on a test. Then 75 is a natural candidate for the median, but it's not true that 50% of the scores are above 75. Also, 75 is an equally natural candidate for the 95th percentile or the 25th or any other percentile. Ties – that is, equal data values – have to be taken into account when defining percentiles.\n",
    "\n",
    "You also have to be careful about exactly how far up the list to go when the relevant index isn't clear. For example, what should be the 87th percentile of a collection of 10 values? The 8th value of the sorted collection, or the 9th, or somewhere in between? *Again we have already addressed this issue with our plotting position formulas earlier.*\n",
    "\n",
    "## A Numerical Example \n",
    "\n",
    "Before giving a general definition of all percentiles, we will define the 80th percentile of a collection of values to be the smallest value in the collection that is at least as large as 80% of all of the values.\n",
    "\n",
    "For example, let's consider the sizes of the five largest continents – Africa, Antarctica, Asia, North America, and South America – rounded to the nearest million square miles."
   ]
  },
  {
   "cell_type": "code",
   "execution_count": 38,
   "metadata": {},
   "outputs": [],
   "source": [
    "import datascience\n",
    "sizes = datascience.make_array(12, 17, 6, 9, 7)"
   ]
  },
  {
   "cell_type": "markdown",
   "metadata": {},
   "source": [
    "The 80th percentile is the smallest value that is at least as large as 80% of the elements of sizes, that is, four-fifths of the five elements. That's 12:"
   ]
  },
  {
   "cell_type": "code",
   "execution_count": 39,
   "metadata": {},
   "outputs": [
    {
     "data": {
      "text/plain": [
       "array([ 6,  7,  9, 12, 17])"
      ]
     },
     "execution_count": 39,
     "metadata": {},
     "output_type": "execute_result"
    }
   ],
   "source": [
    "numpy.sort(sizes)"
   ]
  },
  {
   "cell_type": "markdown",
   "metadata": {},
   "source": [
    "The 80th percentile is a value on the list, namely 12. You can see that 80% of the values are less than or equal to it, and that it is the smallest value on the list for which this is true.\n",
    "\n",
    "Analogously, the 70th percentile is the smallest value in the collection that is at least as large as 70% of the elements of sizes. Now 70% of 5 elements is \"3.5 elements\", so the 70th percentile is the 4th element on the list. That's 12, the same as the 80th percentile for these data.  * Not terribly useful yet but wait there's more!*\n",
    "\n",
    "## The percentile function \n",
    "\n",
    "**A Data8 Function**\n",
    "\n",
    "The percentile function takes two arguments: a rank between 0 and 100, and a array. It returns the corresponding percentile of the array."
   ]
  },
  {
   "cell_type": "code",
<<<<<<< HEAD
   "execution_count": 11,
=======
   "execution_count": 40,
>>>>>>> 76755219a976e9ff6a2d2025d27e5e57d5870a46
   "metadata": {},
   "outputs": [
    {
     "data": {
      "text/plain": [
       "12"
      ]
     },
     "execution_count": 40,
     "metadata": {},
     "output_type": "execute_result"
    }
   ],
   "source": [
    "datascience.percentile(80, sizes)"
   ]
  },
  {
   "cell_type": "markdown",
   "metadata": {},
   "source": [
    "## The General Definition \n",
    "**Below is from the Data8 Textbook -- compare to our lab on plotting position formulas)**\n",
    "\n",
    "Let 𝑝 be a number between 0 and 100. The 𝑝-th percentile of a collection is the smallest value in the collection that is at least as large as p% of all the values.\n",
    "\n",
    "By this definition, any percentile between 0 and 100 can be computed for any collection of values, and it is always an element of the collection.\n",
    "\n",
    "In practical terms, suppose there are 𝑛 elements in the collection. To find the 𝑝-th percentile:\n",
    "\n",
    "- Sort the collection in increasing order.\n",
    "- Find p% of n: (𝑝/100)×𝑛 Call that 𝑘\n",
    "- If 𝑘 is an integer, take the 𝑘-th element of the sorted collection.\n",
    "- If 𝑘 is not an integer, round it up to the next integer, and take that element of the sorted collection.\n",
    "\n",
    "### Example \n",
    "The table scores_and_sections contains one row for each student in a class of 359 students. The columns are the student's discussion section and midterm score.\n",
    "\n",
    "Path to file is `http://54.243.252.9/engr-1330-psuedo-course/CECE-1330-PsuedoCourse/4-Databases/`\n"
   ]
  },
  {
   "cell_type": "raw",
   "metadata": {},
   "source": [
    "# copy the file\n",
    "! ls /home/compthink/CECE-1330-PsuedoCourse/4-Databases/\n",
    "#\n",
    "! cp /home/compthink/CECE-1330-PsuedoCourse/4-Databases/scores_by_section.csv ./"
   ]
  },
  {
   "cell_type": "markdown",
   "metadata": {},
   "source": [
    "The table scores_and_sections contains one row for each student in a class of 359 students. The columns are the student's discussion section and midterm score."
   ]
  },
  {
   "cell_type": "code",
   "execution_count": 41,
   "metadata": {},
   "outputs": [
    {
     "data": {
      "text/html": [
       "<table border=\"1\" class=\"dataframe\">\n",
       "    <thead>\n",
       "        <tr>\n",
       "            <th>Section</th> <th>Midterm</th>\n",
       "        </tr>\n",
       "    </thead>\n",
       "    <tbody>\n",
       "        <tr>\n",
       "            <td>1      </td> <td>22     </td>\n",
       "        </tr>\n",
       "        <tr>\n",
       "            <td>2      </td> <td>12     </td>\n",
       "        </tr>\n",
       "        <tr>\n",
       "            <td>2      </td> <td>23     </td>\n",
       "        </tr>\n",
       "        <tr>\n",
       "            <td>2      </td> <td>14     </td>\n",
       "        </tr>\n",
       "        <tr>\n",
       "            <td>1      </td> <td>20     </td>\n",
       "        </tr>\n",
       "        <tr>\n",
       "            <td>3      </td> <td>25     </td>\n",
       "        </tr>\n",
       "        <tr>\n",
       "            <td>4      </td> <td>19     </td>\n",
       "        </tr>\n",
       "        <tr>\n",
       "            <td>1      </td> <td>24     </td>\n",
       "        </tr>\n",
       "        <tr>\n",
       "            <td>5      </td> <td>8      </td>\n",
       "        </tr>\n",
       "        <tr>\n",
       "            <td>6      </td> <td>14     </td>\n",
       "        </tr>\n",
       "    </tbody>\n",
       "</table>\n",
       "<p>... (349 rows omitted)</p>"
      ],
      "text/plain": [
       "Section | Midterm\n",
       "1       | 22\n",
       "2       | 12\n",
       "2       | 23\n",
       "2       | 14\n",
       "1       | 20\n",
       "3       | 25\n",
       "4       | 19\n",
       "1       | 24\n",
       "5       | 8\n",
       "6       | 14\n",
       "... (349 rows omitted)"
      ]
     },
     "execution_count": 41,
     "metadata": {},
     "output_type": "execute_result"
    }
   ],
   "source": [
    "scores_and_sections = datascience.Table.read_table('scores_by_section.csv')\n",
    "scores_and_sections"
   ]
  },
  {
   "cell_type": "markdown",
   "metadata": {},
   "source": [
    "If we make a histogram (using the Data8 tools from our textbook) can we approximate the 85%?  (just by looking it seems to be at 22-ish from the plot)"
   ]
  },
  {
   "cell_type": "code",
   "execution_count": 42,
   "metadata": {},
   "outputs": [
    {
     "data": {
      "image/png": "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\n",
      "text/plain": [
       "<Figure size 432x288 with 1 Axes>"
      ]
     },
     "metadata": {
      "needs_background": "light"
     },
     "output_type": "display_data"
    }
   ],
   "source": [
    "scores_and_sections.select('Midterm').hist(bins=numpy.arange(-0.5, 25.6, 1))"
   ]
  },
  {
   "cell_type": "code",
   "execution_count": 43,
   "metadata": {},
   "outputs": [
    {
     "data": {
      "text/plain": [
       "22"
      ]
     },
     "execution_count": 43,
     "metadata": {},
     "output_type": "execute_result"
    }
   ],
   "source": [
    "datascience.percentile(85, scores_and_sections.column(1))"
   ]
  },
  {
   "cell_type": "markdown",
   "metadata": {},
   "source": [
    "So the eyeball value was not too bad! According to the percentile function, the 85th percentile was 22. To check that this is consistent with the definition, let's apply the definition directly.\n",
    "\n",
    "First, put the scores in increasing order:"
   ]
  },
  {
   "cell_type": "code",
<<<<<<< HEAD
   "execution_count": 15,
=======
   "execution_count": 44,
>>>>>>> 76755219a976e9ff6a2d2025d27e5e57d5870a46
   "metadata": {},
   "outputs": [
    {
     "data": {
      "text/plain": [
       "359"
      ]
     },
<<<<<<< HEAD
     "execution_count": 15,
=======
     "execution_count": 44,
>>>>>>> 76755219a976e9ff6a2d2025d27e5e57d5870a46
     "metadata": {},
     "output_type": "execute_result"
    }
   ],
   "source": [
    "sorted_scores = numpy.sort(scores_and_sections.column(1))\n",
    "len(sorted_scores)"
   ]
  },
  {
   "cell_type": "markdown",
   "metadata": {},
   "source": [
    "There are 359 scores in the array. So next, find 85% of 359, which is 305.15."
   ]
  },
  {
   "cell_type": "code",
<<<<<<< HEAD
   "execution_count": 16,
=======
   "execution_count": 45,
>>>>>>> 76755219a976e9ff6a2d2025d27e5e57d5870a46
   "metadata": {},
   "outputs": [
    {
     "data": {
      "text/plain": [
       "305.15"
      ]
     },
<<<<<<< HEAD
     "execution_count": 16,
=======
     "execution_count": 45,
>>>>>>> 76755219a976e9ff6a2d2025d27e5e57d5870a46
     "metadata": {},
     "output_type": "execute_result"
    }
   ],
   "source": [
    "0.85 * 359"
   ]
  },
  {
   "cell_type": "markdown",
   "metadata": {},
   "source": [
    "That's not an integer. By the definition, the 85th percentile is the 306th element of sorted_scores, which, by Python's indexing convention, is item 305 of the array."
   ]
  },
  {
   "cell_type": "code",
<<<<<<< HEAD
   "execution_count": 17,
=======
   "execution_count": 46,
>>>>>>> 76755219a976e9ff6a2d2025d27e5e57d5870a46
   "metadata": {},
   "outputs": [
    {
     "data": {
      "text/plain": [
       "22"
      ]
     },
<<<<<<< HEAD
     "execution_count": 17,
=======
     "execution_count": 46,
>>>>>>> 76755219a976e9ff6a2d2025d27e5e57d5870a46
     "metadata": {},
     "output_type": "execute_result"
    }
   ],
   "source": [
    "# The 306th element of the sorted array\n",
    "sorted_scores.item(305)"
   ]
  },
  {
   "cell_type": "markdown",
   "metadata": {},
   "source": [
    "That's the same as the answer we got by using percentile. In future, we will just use percentile.\n",
    "\n",
    "### Quartiles \n",
    "\n",
    "The first quartile of a numercial collection is the 25th percentile. The terminology arises from the first quarter. The second quartile is the median, and the third quartile is the 75th percentile.\n",
    "\n",
    "For our scores data, those values are:"
   ]
  },
  {
   "cell_type": "code",
<<<<<<< HEAD
   "execution_count": 18,
=======
   "execution_count": 47,
>>>>>>> 76755219a976e9ff6a2d2025d27e5e57d5870a46
   "metadata": {},
   "outputs": [
    {
     "name": "stdout",
     "output_type": "stream",
     "text": [
      "11\n",
      "16\n",
      "20\n"
     ]
    }
   ],
   "source": [
    "print(datascience.percentile(25, sorted_scores))\n",
    "print(datascience.percentile(50, sorted_scores))\n",
    "print(datascience.percentile(75, sorted_scores))"
   ]
  },
  {
   "cell_type": "code",
<<<<<<< HEAD
   "execution_count": 19,
=======
   "execution_count": 48,
>>>>>>> 76755219a976e9ff6a2d2025d27e5e57d5870a46
   "metadata": {},
   "outputs": [
    {
     "data": {
      "text/html": [
       "<div>\n",
       "<style scoped>\n",
       "    .dataframe tbody tr th:only-of-type {\n",
       "        vertical-align: middle;\n",
       "    }\n",
       "\n",
       "    .dataframe tbody tr th {\n",
       "        vertical-align: top;\n",
       "    }\n",
       "\n",
       "    .dataframe thead th {\n",
       "        text-align: right;\n",
       "    }\n",
       "</style>\n",
       "<table border=\"1\" class=\"dataframe\">\n",
       "  <thead>\n",
       "    <tr style=\"text-align: right;\">\n",
       "      <th></th>\n",
       "      <th>0</th>\n",
       "    </tr>\n",
       "  </thead>\n",
       "  <tbody>\n",
       "    <tr>\n",
       "      <th>count</th>\n",
       "      <td>359.000000</td>\n",
       "    </tr>\n",
       "    <tr>\n",
       "      <th>mean</th>\n",
       "      <td>15.493036</td>\n",
       "    </tr>\n",
       "    <tr>\n",
       "      <th>std</th>\n",
       "      <td>6.081323</td>\n",
       "    </tr>\n",
       "    <tr>\n",
       "      <th>min</th>\n",
       "      <td>0.000000</td>\n",
       "    </tr>\n",
       "    <tr>\n",
       "      <th>25%</th>\n",
       "      <td>11.000000</td>\n",
       "    </tr>\n",
       "    <tr>\n",
       "      <th>50%</th>\n",
       "      <td>16.000000</td>\n",
       "    </tr>\n",
       "    <tr>\n",
       "      <th>75%</th>\n",
       "      <td>20.000000</td>\n",
       "    </tr>\n",
       "    <tr>\n",
       "      <th>max</th>\n",
       "      <td>25.000000</td>\n",
       "    </tr>\n",
       "  </tbody>\n",
       "</table>\n",
       "</div>"
      ],
      "text/plain": [
       "                0\n",
       "count  359.000000\n",
       "mean    15.493036\n",
       "std      6.081323\n",
       "min      0.000000\n",
       "25%     11.000000\n",
       "50%     16.000000\n",
       "75%     20.000000\n",
       "max     25.000000"
      ]
     },
<<<<<<< HEAD
     "execution_count": 19,
=======
     "execution_count": 48,
>>>>>>> 76755219a976e9ff6a2d2025d27e5e57d5870a46
     "metadata": {},
     "output_type": "execute_result"
    }
   ],
   "source": [
    "pandas.DataFrame(sorted_scores).describe()"
   ]
  },
  {
   "cell_type": "markdown",
   "metadata": {},
   "source": [
    "### Bootstrapping\n",
    "\n",
    "A data scientist is using the data in a random sample to estimate an unknown parameter. She uses the sample to calculate the value of a statistic that she will use as her estimate.\n",
    "\n",
    "Once she has calculated the observed value of her statistic, she could just present it as her estimate and go on her merry way. But she knows that her random sample is just one of numerous possible random samples, and thus her estimate is just one of numerous plausible estimates.\n",
    "\n",
    "By how much could those estimates vary? To answer this, it appears as though she needs to draw another sample from the population, and compute a new estimate based on the new sample. But she doesn't have the cash to go back to the population and draw another sample.\n",
    "\n",
    "It looks as though the data scientist is stuck, but a method called the bootstrap (or just bootstrapping) can help out. Because it is not feasible to generate new samples from the population, the bootstrap generates new random samples by a method called resampling: the new samples are drawn at random from the original sample.  (Essentially, the orginal sample is now treated as a complete population - its a hack, but surprisingly useful)\n"
   ]
  },
  {
   "cell_type": "markdown",
   "metadata": {},
   "source": [
    "### Employee Compensation in the City of San Francisco\n",
    "\n",
    "SF OpenData is a website where the City and County of San Francisco make some of their data publicly available. One of the data sets contains compensation data for employees of the City. These include medical professionals at City-run hospitals, police officers, fire fighters, transportation workers, elected officials, and all other employees of the City.\n",
    "\n",
    "Compensation data for the calendar year 2015 are in the table sf2015."
   ]
  },
  {
   "cell_type": "code",
<<<<<<< HEAD
   "execution_count": 20,
=======
   "execution_count": 49,
>>>>>>> 76755219a976e9ff6a2d2025d27e5e57d5870a46
   "metadata": {},
   "outputs": [
    {
     "name": "stdout",
     "output_type": "stream",
     "text": [
      "cp: cannot stat '/home/compthink/CECE-1330-PsuedoCourse/4-Databases/san_francisco_2015.csv': No such file or directory\n"
     ]
    },
    {
     "data": {
      "text/html": [
       "<table border=\"1\" class=\"dataframe\">\n",
       "    <thead>\n",
       "        <tr>\n",
       "            <th>Year Type</th> <th>Year</th> <th>Organization Group Code</th> <th>Organization Group</th> <th>Department Code</th> <th>Department</th> <th>Union Code</th> <th>Union</th> <th>Job Family Code</th> <th>Job Family</th> <th>Job Code</th> <th>Job</th> <th>Employee Identifier</th> <th>Salaries</th> <th>Overtime</th> <th>Other Salaries</th> <th>Total Salary</th> <th>Retirement</th> <th>Health/Dental</th> <th>Other Benefits</th> <th>Total Benefits</th> <th>Total Compensation</th>\n",
       "        </tr>\n",
       "    </thead>\n",
       "    <tbody>\n",
       "        <tr>\n",
       "            <td>Calendar </td> <td>2015</td> <td>2                      </td> <td>Public Works, Transportation & Commerce </td> <td>WTR            </td> <td>PUC Water Department                  </td> <td>21        </td> <td>Prof & Tech Engineers - Miscellaneous, Local 21   </td> <td>2400           </td> <td>Lab, Pharmacy & Med Techs    </td> <td>2481    </td> <td>Water Qualitytech I/II        </td> <td>21538              </td> <td>82146   </td> <td>0       </td> <td>0             </td> <td>82146       </td> <td>16942.2   </td> <td>12340.9      </td> <td>6337.73       </td> <td>35620.8       </td> <td>117767            </td>\n",
       "        </tr>\n",
       "        <tr>\n",
       "            <td>Calendar </td> <td>2015</td> <td>2                      </td> <td>Public Works, Transportation & Commerce </td> <td>DPW            </td> <td>General Services Agency - Public Works</td> <td>12        </td> <td>Carpet, Linoleum and Soft Tile Workers, Local 12  </td> <td>7300           </td> <td>Journeyman Trade             </td> <td>7393    </td> <td>Soft Floor Coverer            </td> <td>5459               </td> <td>32165.8 </td> <td>973.19  </td> <td>848.96        </td> <td>33987.9     </td> <td>0         </td> <td>4587.51      </td> <td>2634.42       </td> <td>7221.93       </td> <td>41209.8           </td>\n",
       "        </tr>\n",
       "        <tr>\n",
       "            <td>Calendar </td> <td>2015</td> <td>4                      </td> <td>Community Health                        </td> <td>DPH            </td> <td>Public Health                         </td> <td>790       </td> <td>SEIU - Miscellaneous, Local 1021                  </td> <td>1600           </td> <td>Payroll, Billing & Accounting</td> <td>1636    </td> <td>Health Care Billing Clerk 2   </td> <td>41541              </td> <td>71311   </td> <td>5757.98 </td> <td>0             </td> <td>77069       </td> <td>14697.6   </td> <td>12424.5      </td> <td>6370.06       </td> <td>33492.2       </td> <td>110561            </td>\n",
       "        </tr>\n",
       "        <tr>\n",
       "            <td>Calendar </td> <td>2015</td> <td>4                      </td> <td>Community Health                        </td> <td>DPH            </td> <td>Public Health                         </td> <td>351       </td> <td>Municipal Executive Association - Miscellaneous   </td> <td>0900           </td> <td>Management                   </td> <td>2620    </td> <td>Food Service Mgr Administrator</td> <td>26718              </td> <td>28430.2 </td> <td>0       </td> <td>763.07        </td> <td>29193.3     </td> <td>0         </td> <td>4223.14      </td> <td>5208.51       </td> <td>9431.65       </td> <td>38625             </td>\n",
       "        </tr>\n",
       "        <tr>\n",
       "            <td>Calendar </td> <td>2015</td> <td>2                      </td> <td>Public Works, Transportation & Commerce </td> <td>MTA            </td> <td>Municipal Transportation Agency       </td> <td>790       </td> <td>SEIU - Miscellaneous, Local 1021                  </td> <td>8200           </td> <td>Protection & Apprehension    </td> <td>8201    </td> <td>School Crossing Guard         </td> <td>45810              </td> <td>7948.75 </td> <td>0       </td> <td>0             </td> <td>7948.75     </td> <td>0         </td> <td>2873.17      </td> <td>616.24        </td> <td>3489.41       </td> <td>11438.2           </td>\n",
       "        </tr>\n",
       "        <tr>\n",
       "            <td>Calendar </td> <td>2015</td> <td>1                      </td> <td>Public Protection                       </td> <td>POL            </td> <td>Police                                </td> <td>911       </td> <td>Police Officers' Association                      </td> <td>Q000           </td> <td>Police Services              </td> <td>Q002    </td> <td>Police Officer                </td> <td>32906              </td> <td>2235    </td> <td>0       </td> <td>0             </td> <td>2235        </td> <td>490.36    </td> <td>286.72       </td> <td>176.57        </td> <td>953.65        </td> <td>3188.65           </td>\n",
       "        </tr>\n",
       "        <tr>\n",
       "            <td>Calendar </td> <td>2015</td> <td>4                      </td> <td>Community Health                        </td> <td>DPH            </td> <td>Public Health                         </td> <td>791       </td> <td>SEIU - Staff and Per Diem Nurses, Local 1021      </td> <td>2300           </td> <td>Nursing                      </td> <td>2328    </td> <td>Nurse Practitioner            </td> <td>7506               </td> <td>187247  </td> <td>0       </td> <td>11704.1       </td> <td>198951      </td> <td>37683.7   </td> <td>12424.5      </td> <td>11221.7       </td> <td>61329.9       </td> <td>260281            </td>\n",
       "        </tr>\n",
       "        <tr>\n",
       "            <td>Calendar </td> <td>2015</td> <td>2                      </td> <td>Public Works, Transportation & Commerce </td> <td>MTA            </td> <td>Municipal Transportation Agency       </td> <td>253       </td> <td>Transport Workers - Transit Operators, Local 250-A</td> <td>9100           </td> <td>Street Transit               </td> <td>9163    </td> <td>Transit Operator              </td> <td>36773              </td> <td>66988.5 </td> <td>3512.88 </td> <td>2770.39       </td> <td>73271.8     </td> <td>19127.2   </td> <td>13203        </td> <td>5455.1        </td> <td>37785.3       </td> <td>111057            </td>\n",
       "        </tr>\n",
       "        <tr>\n",
       "            <td>Calendar </td> <td>2015</td> <td>6                      </td> <td>General Administration & Finance        </td> <td>CAT            </td> <td>City Attorney                         </td> <td>311       </td> <td>Municipal Attorneys' Association                  </td> <td>8100           </td> <td>Legal & Court                </td> <td>8177    </td> <td>Attorney (Civil/Criminal)     </td> <td>12963              </td> <td>135190  </td> <td>0       </td> <td>1562.5        </td> <td>136752      </td> <td>27501.8   </td> <td>12424.5      </td> <td>10103         </td> <td>50029.3       </td> <td>186781            </td>\n",
       "        </tr>\n",
       "        <tr>\n",
       "            <td>Calendar </td> <td>2015</td> <td>3                      </td> <td>Human Welfare & Neighborhood Development</td> <td>DSS            </td> <td>Human Services                        </td> <td>535       </td> <td>SEIU - Human Services, Local 1021                 </td> <td>9700           </td> <td>Community Development        </td> <td>9703    </td> <td>Emp & Training Spec 2         </td> <td>35179              </td> <td>70474.8 </td> <td>147.28  </td> <td>1647.24       </td> <td>72269.3     </td> <td>14650.3   </td> <td>10696.9      </td> <td>5993.11       </td> <td>31340.3       </td> <td>103610            </td>\n",
       "        </tr>\n",
       "    </tbody>\n",
       "</table>\n",
       "<p>... (42979 rows omitted)</p>"
      ],
      "text/plain": [
       "Year Type | Year | Organization Group Code | Organization Group                       | Department Code | Department                             | Union Code | Union                                              | Job Family Code | Job Family                    | Job Code | Job                            | Employee Identifier | Salaries | Overtime | Other Salaries | Total Salary | Retirement | Health/Dental | Other Benefits | Total Benefits | Total Compensation\n",
       "Calendar  | 2015 | 2                       | Public Works, Transportation & Commerce  | WTR             | PUC Water Department                   | 21         | Prof & Tech Engineers - Miscellaneous, Local 21    | 2400            | Lab, Pharmacy & Med Techs     | 2481     | Water Qualitytech I/II         | 21538               | 82146    | 0        | 0              | 82146        | 16942.2    | 12340.9       | 6337.73        | 35620.8        | 117767\n",
       "Calendar  | 2015 | 2                       | Public Works, Transportation & Commerce  | DPW             | General Services Agency - Public Works | 12         | Carpet, Linoleum and Soft Tile Workers, Local 12   | 7300            | Journeyman Trade              | 7393     | Soft Floor Coverer             | 5459                | 32165.8  | 973.19   | 848.96         | 33987.9      | 0          | 4587.51       | 2634.42        | 7221.93        | 41209.8\n",
       "Calendar  | 2015 | 4                       | Community Health                         | DPH             | Public Health                          | 790        | SEIU - Miscellaneous, Local 1021                   | 1600            | Payroll, Billing & Accounting | 1636     | Health Care Billing Clerk 2    | 41541               | 71311    | 5757.98  | 0              | 77069        | 14697.6    | 12424.5       | 6370.06        | 33492.2        | 110561\n",
       "Calendar  | 2015 | 4                       | Community Health                         | DPH             | Public Health                          | 351        | Municipal Executive Association - Miscellaneous    | 0900            | Management                    | 2620     | Food Service Mgr Administrator | 26718               | 28430.2  | 0        | 763.07         | 29193.3      | 0          | 4223.14       | 5208.51        | 9431.65        | 38625\n",
       "Calendar  | 2015 | 2                       | Public Works, Transportation & Commerce  | MTA             | Municipal Transportation Agency        | 790        | SEIU - Miscellaneous, Local 1021                   | 8200            | Protection & Apprehension     | 8201     | School Crossing Guard          | 45810               | 7948.75  | 0        | 0              | 7948.75      | 0          | 2873.17       | 616.24         | 3489.41        | 11438.2\n",
       "Calendar  | 2015 | 1                       | Public Protection                        | POL             | Police                                 | 911        | Police Officers' Association                       | Q000            | Police Services               | Q002     | Police Officer                 | 32906               | 2235     | 0        | 0              | 2235         | 490.36     | 286.72        | 176.57         | 953.65         | 3188.65\n",
       "Calendar  | 2015 | 4                       | Community Health                         | DPH             | Public Health                          | 791        | SEIU - Staff and Per Diem Nurses, Local 1021       | 2300            | Nursing                       | 2328     | Nurse Practitioner             | 7506                | 187247   | 0        | 11704.1        | 198951       | 37683.7    | 12424.5       | 11221.7        | 61329.9        | 260281\n",
       "Calendar  | 2015 | 2                       | Public Works, Transportation & Commerce  | MTA             | Municipal Transportation Agency        | 253        | Transport Workers - Transit Operators, Local 250-A | 9100            | Street Transit                | 9163     | Transit Operator               | 36773               | 66988.5  | 3512.88  | 2770.39        | 73271.8      | 19127.2    | 13203         | 5455.1         | 37785.3        | 111057\n",
       "Calendar  | 2015 | 6                       | General Administration & Finance         | CAT             | City Attorney                          | 311        | Municipal Attorneys' Association                   | 8100            | Legal & Court                 | 8177     | Attorney (Civil/Criminal)      | 12963               | 135190   | 0        | 1562.5         | 136752       | 27501.8    | 12424.5       | 10103          | 50029.3        | 186781\n",
       "Calendar  | 2015 | 3                       | Human Welfare & Neighborhood Development | DSS             | Human Services                         | 535        | SEIU - Human Services, Local 1021                  | 9700            | Community Development         | 9703     | Emp & Training Spec 2          | 35179               | 70474.8  | 147.28   | 1647.24        | 72269.3      | 14650.3    | 10696.9       | 5993.11        | 31340.3        | 103610\n",
       "... (42979 rows omitted)"
      ]
     },
<<<<<<< HEAD
     "execution_count": 20,
=======
     "execution_count": 49,
>>>>>>> 76755219a976e9ff6a2d2025d27e5e57d5870a46
     "metadata": {},
     "output_type": "execute_result"
    }
   ],
   "source": [
    "! cp /home/compthink/CECE-1330-PsuedoCourse/4-Databases/san_francisco_2015.csv ./\n",
    "sf2015 = datascience.Table.read_table('san_francisco_2015.csv')\n",
    "sf2015"
   ]
  },
  {
   "cell_type": "markdown",
   "metadata": {},
   "source": [
    "There is one row for each of 42,979 employees. There are numerous columns containing information about City departmental affiliation and details of the different parts of the employee's compensation package. Here is the row correspoding to the late Edward Lee, the Mayor at that time.\n",
    "\n"
   ]
  },
  {
   "cell_type": "code",
   "execution_count": 50,
   "metadata": {},
   "outputs": [
    {
     "data": {
      "text/html": [
       "<table border=\"1\" class=\"dataframe\">\n",
       "    <thead>\n",
       "        <tr>\n",
       "            <th>Year Type</th> <th>Year</th> <th>Organization Group Code</th> <th>Organization Group</th> <th>Department Code</th> <th>Department</th> <th>Union Code</th> <th>Union</th> <th>Job Family Code</th> <th>Job Family</th> <th>Job Code</th> <th>Job</th> <th>Employee Identifier</th> <th>Salaries</th> <th>Overtime</th> <th>Other Salaries</th> <th>Total Salary</th> <th>Retirement</th> <th>Health/Dental</th> <th>Other Benefits</th> <th>Total Benefits</th> <th>Total Compensation</th>\n",
       "        </tr>\n",
       "    </thead>\n",
       "    <tbody>\n",
       "        <tr>\n",
       "            <td>Calendar </td> <td>2015</td> <td>6                      </td> <td>General Administration & Finance</td> <td>MYR            </td> <td>Mayor     </td> <td>556       </td> <td>Elected Officials</td> <td>1100           </td> <td>Administrative & Mgmt (Unrep)</td> <td>1190    </td> <td>Mayor</td> <td>22433              </td> <td>288964  </td> <td>0       </td> <td>0             </td> <td>288964      </td> <td>58117     </td> <td>12424.5      </td> <td>20293         </td> <td>90834.5       </td> <td>379798            </td>\n",
       "        </tr>\n",
       "    </tbody>\n",
       "</table>"
      ],
      "text/plain": [
       "Year Type | Year | Organization Group Code | Organization Group               | Department Code | Department | Union Code | Union             | Job Family Code | Job Family                    | Job Code | Job   | Employee Identifier | Salaries | Overtime | Other Salaries | Total Salary | Retirement | Health/Dental | Other Benefits | Total Benefits | Total Compensation\n",
       "Calendar  | 2015 | 6                       | General Administration & Finance | MYR             | Mayor      | 556        | Elected Officials | 1100            | Administrative & Mgmt (Unrep) | 1190     | Mayor | 22433               | 288964   | 0        | 0              | 288964       | 58117      | 12424.5       | 20293          | 90834.5        | 379798"
      ]
     },
     "execution_count": 50,
     "metadata": {},
     "output_type": "execute_result"
    }
   ],
   "source": [
    "sf2015.where('Job', datascience.are.equal_to('Mayor'))"
   ]
  },
  {
   "cell_type": "markdown",
   "metadata": {},
   "source": [
    "We are going to study the final column, Total Compensation. That's the employee's salary plus the City's contribution towards his/her retirement and benefit plans.\n",
    "\n",
    "Financial packages in a calendar year can sometimes be hard to understand as they depend on the date of hire, whether the employee is changing jobs within the City, and so on. For example, the lowest values in the Total Compensation column look a little strange."
   ]
  },
  {
   "cell_type": "code",
   "execution_count": 52,
   "metadata": {},
   "outputs": [
    {
     "data": {
      "text/html": [
       "<table border=\"1\" class=\"dataframe\">\n",
       "    <thead>\n",
       "        <tr>\n",
       "            <th>Year Type</th> <th>Year</th> <th>Organization Group Code</th> <th>Organization Group</th> <th>Department Code</th> <th>Department</th> <th>Union Code</th> <th>Union</th> <th>Job Family Code</th> <th>Job Family</th> <th>Job Code</th> <th>Job</th> <th>Employee Identifier</th> <th>Salaries</th> <th>Overtime</th> <th>Other Salaries</th> <th>Total Salary</th> <th>Retirement</th> <th>Health/Dental</th> <th>Other Benefits</th> <th>Total Benefits</th> <th>Total Compensation</th>\n",
       "        </tr>\n",
       "    </thead>\n",
       "    <tbody>\n",
       "        <tr>\n",
       "            <td>Calendar </td> <td>2015</td> <td>1                      </td> <td>Public Protection                      </td> <td>FIR            </td> <td>Fire Department                   </td> <td>798       </td> <td>Firefighters - Miscellaneous, Local 798        </td> <td>H000           </td> <td>Fire Services           </td> <td>H002    </td> <td>Firefighter                  </td> <td>43833              </td> <td>0       </td> <td>0       </td> <td>0             </td> <td>0           </td> <td>0         </td> <td>0            </td> <td>-423.76       </td> <td>-423.76       </td> <td>-423.76           </td>\n",
       "        </tr>\n",
       "        <tr>\n",
       "            <td>Calendar </td> <td>2015</td> <td>4                      </td> <td>Community Health                       </td> <td>DPH            </td> <td>Public Health                     </td> <td>790       </td> <td>SEIU - Miscellaneous, Local 1021               </td> <td>9900           </td> <td>Public Service Aide     </td> <td>9924    </td> <td>PS Aide Health Services      </td> <td>27871              </td> <td>-292.4  </td> <td>0       </td> <td>0             </td> <td>-292.4      </td> <td>0         </td> <td>-95.58       </td> <td>-22.63        </td> <td>-118.21       </td> <td>-410.61           </td>\n",
       "        </tr>\n",
       "        <tr>\n",
       "            <td>Calendar </td> <td>2015</td> <td>1                      </td> <td>Public Protection                      </td> <td>JUV            </td> <td>Juvenile Probation                </td> <td>790       </td> <td>SEIU - Miscellaneous, Local 1021               </td> <td>8300           </td> <td>Correction & Detention  </td> <td>8320    </td> <td>Counselor, Juvenile Hall     </td> <td>10517              </td> <td>0       </td> <td>0       </td> <td>0             </td> <td>0           </td> <td>0         </td> <td>0            </td> <td>-159.12       </td> <td>-159.12       </td> <td>-159.12           </td>\n",
       "        </tr>\n",
       "        <tr>\n",
       "            <td>Calendar </td> <td>2015</td> <td>6                      </td> <td>General Administration & Finance       </td> <td>CPC            </td> <td>City Planning                     </td> <td>21        </td> <td>Prof & Tech Engineers - Miscellaneous, Local 21</td> <td>1000           </td> <td>Information Systems     </td> <td>1053    </td> <td>IS Business Analyst-Senior   </td> <td>18961              </td> <td>0       </td> <td>0       </td> <td>0             </td> <td>0           </td> <td>0         </td> <td>0            </td> <td>-26.53        </td> <td>-26.53        </td> <td>-26.53            </td>\n",
       "        </tr>\n",
       "        <tr>\n",
       "            <td>Calendar </td> <td>2015</td> <td>6                      </td> <td>General Administration & Finance       </td> <td>CPC            </td> <td>City Planning                     </td> <td>21        </td> <td>Prof & Tech Engineers - Miscellaneous, Local 21</td> <td>5200           </td> <td>Professional Engineering</td> <td>5277    </td> <td>Planner 1                    </td> <td>19387              </td> <td>0       </td> <td>0       </td> <td>0             </td> <td>0           </td> <td>0         </td> <td>0            </td> <td>-9.51         </td> <td>-9.51         </td> <td>-9.51             </td>\n",
       "        </tr>\n",
       "        <tr>\n",
       "            <td>Calendar </td> <td>2015</td> <td>2                      </td> <td>Public Works, Transportation & Commerce</td> <td>PUC            </td> <td>PUC Public Utilities Commission   </td> <td>21        </td> <td>Prof & Tech Engineers - Miscellaneous, Local 21</td> <td>1000           </td> <td>Information Systems     </td> <td>1044    </td> <td>IS Engineer-Principal        </td> <td>28988              </td> <td>0       </td> <td>0       </td> <td>0             </td> <td>0           </td> <td>0         </td> <td>0            </td> <td>-3.1          </td> <td>-3.1          </td> <td>-3.1              </td>\n",
       "        </tr>\n",
       "        <tr>\n",
       "            <td>Calendar </td> <td>2015</td> <td>1                      </td> <td>Public Protection                      </td> <td>JUV            </td> <td>Juvenile Probation                </td> <td>39        </td> <td>Stationary Engineers, Local 39                 </td> <td>7300           </td> <td>Journeyman Trade        </td> <td>7335    </td> <td>Senior Stationary Engineer   </td> <td>19125              </td> <td>0       </td> <td>0       </td> <td>0             </td> <td>0           </td> <td>0         </td> <td>0            </td> <td>-0.01         </td> <td>-0.01         </td> <td>-0.01             </td>\n",
       "        </tr>\n",
       "        <tr>\n",
       "            <td>Calendar </td> <td>2015</td> <td>1                      </td> <td>Public Protection                      </td> <td>ECD            </td> <td>Department of Emergency Management</td> <td>351       </td> <td>Municipal Executive Association - Miscellaneous</td> <td>0900           </td> <td>Management              </td> <td>0922    </td> <td>Manager I                    </td> <td>30025              </td> <td>0       </td> <td>0       </td> <td>0             </td> <td>0           </td> <td>0         </td> <td>0            </td> <td>0             </td> <td>0             </td> <td>0                 </td>\n",
       "        </tr>\n",
       "        <tr>\n",
       "            <td>Calendar </td> <td>2015</td> <td>7                      </td> <td>General City Responsibilities          </td> <td>UNA            </td> <td>General Fund Unallocated          </td> <td>790       </td> <td>SEIU - Miscellaneous, Local 1021               </td> <td>3200           </td> <td>Recreation              </td> <td>3280    </td> <td>Assistant Recreation Director</td> <td>49784              </td> <td>0       </td> <td>0       </td> <td>0             </td> <td>0           </td> <td>0         </td> <td>0            </td> <td>1.27          </td> <td>1.27          </td> <td>1.27              </td>\n",
       "        </tr>\n",
       "        <tr>\n",
       "            <td>Calendar </td> <td>2015</td> <td>4                      </td> <td>Community Health                       </td> <td>DPH            </td> <td>Public Health                     </td> <td>250       </td> <td>SEIU - Health Workers, Local 1021              </td> <td>2600           </td> <td>Dietary & Food          </td> <td>2654    </td> <td>Cook                         </td> <td>26768              </td> <td>0       </td> <td>0       </td> <td>2.21          </td> <td>2.21        </td> <td>0         </td> <td>0            </td> <td>0.17          </td> <td>0.17          </td> <td>2.38              </td>\n",
       "        </tr>\n",
       "    </tbody>\n",
       "</table>\n",
       "<p>... (42979 rows omitted)</p>"
      ],
      "text/plain": [
       "Year Type | Year | Organization Group Code | Organization Group                      | Department Code | Department                         | Union Code | Union                                           | Job Family Code | Job Family               | Job Code | Job                           | Employee Identifier | Salaries | Overtime | Other Salaries | Total Salary | Retirement | Health/Dental | Other Benefits | Total Benefits | Total Compensation\n",
       "Calendar  | 2015 | 1                       | Public Protection                       | FIR             | Fire Department                    | 798        | Firefighters - Miscellaneous, Local 798         | H000            | Fire Services            | H002     | Firefighter                   | 43833               | 0        | 0        | 0              | 0            | 0          | 0             | -423.76        | -423.76        | -423.76\n",
       "Calendar  | 2015 | 4                       | Community Health                        | DPH             | Public Health                      | 790        | SEIU - Miscellaneous, Local 1021                | 9900            | Public Service Aide      | 9924     | PS Aide Health Services       | 27871               | -292.4   | 0        | 0              | -292.4       | 0          | -95.58        | -22.63         | -118.21        | -410.61\n",
       "Calendar  | 2015 | 1                       | Public Protection                       | JUV             | Juvenile Probation                 | 790        | SEIU - Miscellaneous, Local 1021                | 8300            | Correction & Detention   | 8320     | Counselor, Juvenile Hall      | 10517               | 0        | 0        | 0              | 0            | 0          | 0             | -159.12        | -159.12        | -159.12\n",
       "Calendar  | 2015 | 6                       | General Administration & Finance        | CPC             | City Planning                      | 21         | Prof & Tech Engineers - Miscellaneous, Local 21 | 1000            | Information Systems      | 1053     | IS Business Analyst-Senior    | 18961               | 0        | 0        | 0              | 0            | 0          | 0             | -26.53         | -26.53         | -26.53\n",
       "Calendar  | 2015 | 6                       | General Administration & Finance        | CPC             | City Planning                      | 21         | Prof & Tech Engineers - Miscellaneous, Local 21 | 5200            | Professional Engineering | 5277     | Planner 1                     | 19387               | 0        | 0        | 0              | 0            | 0          | 0             | -9.51          | -9.51          | -9.51\n",
       "Calendar  | 2015 | 2                       | Public Works, Transportation & Commerce | PUC             | PUC Public Utilities Commission    | 21         | Prof & Tech Engineers - Miscellaneous, Local 21 | 1000            | Information Systems      | 1044     | IS Engineer-Principal         | 28988               | 0        | 0        | 0              | 0            | 0          | 0             | -3.1           | -3.1           | -3.1\n",
       "Calendar  | 2015 | 1                       | Public Protection                       | JUV             | Juvenile Probation                 | 39         | Stationary Engineers, Local 39                  | 7300            | Journeyman Trade         | 7335     | Senior Stationary Engineer    | 19125               | 0        | 0        | 0              | 0            | 0          | 0             | -0.01          | -0.01          | -0.01\n",
       "Calendar  | 2015 | 1                       | Public Protection                       | ECD             | Department of Emergency Management | 351        | Municipal Executive Association - Miscellaneous | 0900            | Management               | 0922     | Manager I                     | 30025               | 0        | 0        | 0              | 0            | 0          | 0             | 0              | 0              | 0\n",
       "Calendar  | 2015 | 7                       | General City Responsibilities           | UNA             | General Fund Unallocated           | 790        | SEIU - Miscellaneous, Local 1021                | 3200            | Recreation               | 3280     | Assistant Recreation Director | 49784               | 0        | 0        | 0              | 0            | 0          | 0             | 1.27           | 1.27           | 1.27\n",
       "Calendar  | 2015 | 4                       | Community Health                        | DPH             | Public Health                      | 250        | SEIU - Health Workers, Local 1021               | 2600            | Dietary & Food           | 2654     | Cook                          | 26768               | 0        | 0        | 2.21           | 2.21         | 0          | 0             | 0.17           | 0.17           | 2.38\n",
       "... (42979 rows omitted)"
      ]
     },
     "execution_count": 52,
     "metadata": {},
     "output_type": "execute_result"
    }
   ],
   "source": [
    "sf2015.sort('Total Compensation')"
   ]
  },
  {
   "cell_type": "markdown",
   "metadata": {},
   "source": [
    "For clarity of comparison, we will focus our attention on those who had at least the equivalent of a half-time job for the whole year. At a minimum wage of about \\\\$10 per hour, and 20 hours per week for 52 weeks, that's a salary of about \\\\$10,000."
   ]
  },
  {
   "cell_type": "code",
<<<<<<< HEAD
   "execution_count": 23,
=======
   "execution_count": 53,
>>>>>>> 76755219a976e9ff6a2d2025d27e5e57d5870a46
   "metadata": {},
   "outputs": [
    {
     "data": {
      "text/plain": [
       "36569"
      ]
     },
<<<<<<< HEAD
     "execution_count": 23,
=======
     "execution_count": 53,
>>>>>>> 76755219a976e9ff6a2d2025d27e5e57d5870a46
     "metadata": {},
     "output_type": "execute_result"
    }
   ],
   "source": [
    "sf2015 = sf2015.where('Salaries', datascience.are.above(10000))\n",
    "\n",
    "sf2015.num_rows"
   ]
  },
  {
   "cell_type": "markdown",
   "metadata": {},
   "source": [
    "#### Population and Parameter\n",
    "\n",
    "Let this table of just over 36,500 rows be our population. Here is a histogram of the total compensations."
   ]
  },
  {
   "cell_type": "code",
<<<<<<< HEAD
   "execution_count": 24,
=======
   "execution_count": 54,
>>>>>>> 76755219a976e9ff6a2d2025d27e5e57d5870a46
   "metadata": {},
   "outputs": [
    {
     "name": "stderr",
     "output_type": "stream",
     "text": [
      "/opt/jupyterhub/lib/python3.8/site-packages/datascience/tables.py:5206: UserWarning: FixedFormatter should only be used together with FixedLocator\n",
      "  axis.set_xticklabels(ticks, rotation='vertical')\n"
     ]
    },
    {
     "data": {
      "image/png": "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\n",
      "text/plain": [
       "<Figure size 432x288 with 1 Axes>"
      ]
     },
     "metadata": {
      "needs_background": "light"
     },
     "output_type": "display_data"
    }
   ],
   "source": [
    "sf_bins = numpy.arange(0, 700000, 25000)\n",
    "sf2015.select('Total Compensation').hist(bins=sf_bins)"
   ]
  },
  {
   "cell_type": "markdown",
   "metadata": {},
   "source": [
    "While most of the values are below \\\\$300,000, a few are quite a bit higher. For example, the total compensation of the Chief Investment Officer was almost \\\\$650,000. That is why the horizontal axis stretches to \\\\$700,000."
   ]
  },
  {
   "cell_type": "code",
<<<<<<< HEAD
   "execution_count": 25,
=======
   "execution_count": 56,
>>>>>>> 76755219a976e9ff6a2d2025d27e5e57d5870a46
   "metadata": {},
   "outputs": [
    {
     "data": {
      "text/html": [
       "<table border=\"1\" class=\"dataframe\">\n",
       "    <thead>\n",
       "        <tr>\n",
       "            <th>Year Type</th> <th>Year</th> <th>Organization Group Code</th> <th>Organization Group</th> <th>Department Code</th> <th>Department</th> <th>Union Code</th> <th>Union</th> <th>Job Family Code</th> <th>Job Family</th> <th>Job Code</th> <th>Job</th> <th>Employee Identifier</th> <th>Salaries</th> <th>Overtime</th> <th>Other Salaries</th> <th>Total Salary</th> <th>Retirement</th> <th>Health/Dental</th> <th>Other Benefits</th> <th>Total Benefits</th> <th>Total Compensation</th>\n",
       "        </tr>\n",
       "    </thead>\n",
       "    <tbody>\n",
       "        <tr>\n",
       "            <td>Calendar </td> <td>2015</td> <td>6                      </td> <td>General Administration & Finance</td> <td>RET            </td> <td>Retirement System                   </td> <td>351       </td> <td>Municipal Executive Association - Miscellaneous</td> <td>1100           </td> <td>Administrative & Mgmt (Unrep)</td> <td>1119    </td> <td>Chief Investment Officer</td> <td>46881              </td> <td>507832  </td> <td>0       </td> <td>0             </td> <td>507832      </td> <td>105053    </td> <td>12424.5      </td> <td>23566.2       </td> <td>141044        </td> <td>648875            </td>\n",
       "        </tr>\n",
       "        <tr>\n",
       "            <td>Calendar </td> <td>2015</td> <td>6                      </td> <td>General Administration & Finance</td> <td>ADM            </td> <td>General Services Agency - City Admin</td> <td>164       </td> <td>Physicians and Dentists - Miscellaneous        </td> <td>2500           </td> <td>Med Therapy & Auxiliary      </td> <td>2598    </td> <td>Asst Med Examiner       </td> <td>1016               </td> <td>279311  </td> <td>3829.36 </td> <td>114434        </td> <td>397574      </td> <td>56211.6   </td> <td>12424.5      </td> <td>14299.1       </td> <td>82935.2       </td> <td>480509            </td>\n",
       "        </tr>\n",
       "    </tbody>\n",
       "</table>\n",
       "<p>... (36567 rows omitted)</p>"
      ],
      "text/plain": [
       "<IPython.core.display.HTML object>"
      ]
     },
     "metadata": {},
     "output_type": "display_data"
    }
   ],
   "source": [
    "sf2015.sort('Total Compensation', descending=True).show(2)"
   ]
  },
  {
   "cell_type": "markdown",
   "metadata": {},
   "source": [
    "Now let the parameter be the median of the total compensations.\n",
    "\n",
    "Since we have the luxury of having all of the data from the population, we can simply calculate the parameter:"
   ]
  },
  {
   "cell_type": "code",
<<<<<<< HEAD
   "execution_count": 26,
=======
   "execution_count": 67,
>>>>>>> 76755219a976e9ff6a2d2025d27e5e57d5870a46
   "metadata": {},
   "outputs": [
    {
     "data": {
      "text/plain": [
       "110305.79"
      ]
     },
<<<<<<< HEAD
     "execution_count": 26,
=======
     "execution_count": 67,
>>>>>>> 76755219a976e9ff6a2d2025d27e5e57d5870a46
     "metadata": {},
     "output_type": "execute_result"
    }
   ],
   "source": [
    "pop_median = datascience.percentile(50, sf2015.column('Total Compensation'))\n",
    "pop_median"
   ]
  },
  {
   "cell_type": "markdown",
   "metadata": {
    "jupyter": {
     "source_hidden": true
    }
   },
   "source": [
    "The median total compensation of all employees was just over \\\\$110,300.\n",
    "\n",
    "From a practical perspective, there is no reason for us to draw a sample to estimate this parameter since we simply know its value. But in this section we are going to pretend we don't know the value, and see how well we can estimate it based on a random sample.\n",
    "\n",
    "### A Random Sample and an Estimate\n",
    "\n",
    "Let us draw a sample of 500 employees at random without replacement, and let the median total compensation of the sampled employees serve as our estimate of the parameter."
   ]
  },
  {
   "cell_type": "code",
<<<<<<< HEAD
   "execution_count": 27,
   "metadata": {},
=======
   "execution_count": 61,
   "metadata": {
    "jupyter": {
     "source_hidden": true
    }
   },
>>>>>>> 76755219a976e9ff6a2d2025d27e5e57d5870a46
   "outputs": [
    {
     "name": "stdout",
     "output_type": "stream",
     "text": [
<<<<<<< HEAD
      "Estimated Median =  116683.09\n"
=======
      "Estimated Median =  108807.73\n"
>>>>>>> 76755219a976e9ff6a2d2025d27e5e57d5870a46
     ]
    },
    {
     "data": {
<<<<<<< HEAD
      "image/png": "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\n",
=======
      "image/png": "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\n",
>>>>>>> 76755219a976e9ff6a2d2025d27e5e57d5870a46
      "text/plain": [
       "<Figure size 432x288 with 1 Axes>"
      ]
     },
     "metadata": {
      "needs_background": "light"
     },
     "output_type": "display_data"
    }
   ],
   "source": [
    "our_sample = sf2015.sample(500, with_replacement=False)\n",
    "our_sample.select('Total Compensation').hist(bins=sf_bins)\n",
    "est_median = datascience.percentile(50, our_sample.column('Total Compensation'))\n",
    "print('Estimated Median = ',est_median)"
   ]
  },
  {
   "cell_type": "markdown",
   "metadata": {
    "jupyter": {
     "source_hidden": true
    }
   },
   "source": [
    "The sample size is large, so that the distribution of the sample approximates that of the population, and consequently the sample median is not very far from the population median (though of course it is not exactly the same).\n",
    "\n",
    "So now we have one estimate of the parameter. But had the sample come out differently, the estimate would have had a different value. We would like to be able to quantify the amount by which the estimate could vary across samples. That measure of variability will help us measure how accurately we can estimate the parameter.\n",
    "\n",
    "To see how different the estimate would be if the sample had come out differently, we could just draw another sample from the population, but that would be cheating. We are trying to mimic real life, in which we won't have all the population data at hand.\n",
    "\n",
    "Somehow, we have to get another random sample without sampling from the population.\n",
    "\n",
    "### The Bootstrap: Resampling from the Sample\n",
    "What we do have is a large random sample from the population. As we know, a large random sample is likely to resemble the population from which it is drawn. This observation allows data scientists to lift themselves up by their own bootstraps: the sampling procedure can be replicated by sampling from the sample.\n",
    "\n",
    "Here are the steps of the bootstrap method for generating another random sample that resembles the population:\n",
    "\n",
    "    Treat the original sample as if it were the population.\n",
    "    Draw from the sample, at random with replacement, the same number of times as the original sample size.\n",
    "\n",
    "It is important to resample the same number of times as the original sample size. The reason is that the variability of an estimate depends on the size of the sample. Since our original sample consisted of 500 employees, our sample median was based on 500 values. To see how different the sample could have been, we have to compare it to the median of other samples of size 500.\n",
    "\n",
    "If we drew 500 times at random without replacement from our sample of size 500, we would just get the same sample back. By drawing with replacement, we create the possibility for the new samples to be different from the original, because some employees might be drawn more than once and others not at all.\n",
    "\n",
    "Why is this a good idea? Because the distribution of the original sample is likely to resemble the population (if we took enough instances), and the distributions of all the \"resamples\" are likely to resemble the original sample. Then by an appeal to the transitive axiom, the distributions of all the resamples are likely to resemble the population as well.\n",
    "\n",
    "### A Resampled Median\n",
    "\n",
    "Recall that when the sample method is used without specifying a sample size, by default the sample size equals the number of rows of the table from which the sample is drawn. That's perfect for the bootstrap! Here is one new sample drawn from the original sample, and the corresponding sample median."
   ]
  },
  {
   "cell_type": "code",
<<<<<<< HEAD
   "execution_count": 28,
   "metadata": {},
=======
   "execution_count": 62,
   "metadata": {
    "jupyter": {
     "source_hidden": true
    }
   },
>>>>>>> 76755219a976e9ff6a2d2025d27e5e57d5870a46
   "outputs": [
    {
     "data": {
      "text/plain": [
<<<<<<< HEAD
       "117124.37"
      ]
     },
     "execution_count": 28,
=======
       "114516.26"
      ]
     },
     "execution_count": 62,
>>>>>>> 76755219a976e9ff6a2d2025d27e5e57d5870a46
     "metadata": {},
     "output_type": "execute_result"
    },
    {
     "data": {
<<<<<<< HEAD
      "image/png": "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\n",
=======
      "image/png": "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\n",
>>>>>>> 76755219a976e9ff6a2d2025d27e5e57d5870a46
      "text/plain": [
       "<Figure size 432x288 with 1 Axes>"
      ]
     },
     "metadata": {
      "needs_background": "light"
     },
     "output_type": "display_data"
    }
   ],
   "source": [
    "resample_1 = our_sample.sample()\n",
    "resample_1.select('Total Compensation').hist(bins=sf_bins)\n",
    "resampled_median_1 = datascience.percentile(50, resample_1.column('Total Compensation'))\n",
    "resampled_median_1"
   ]
  },
  {
   "cell_type": "markdown",
   "metadata": {},
   "source": [
    "By resampling, we have another estimate of the population median. By resampling again and again, we will get many such estimates, and hence an empirical distribution of the estimates."
   ]
  },
  {
   "cell_type": "code",
<<<<<<< HEAD
   "execution_count": 29,
=======
   "execution_count": 63,
>>>>>>> 76755219a976e9ff6a2d2025d27e5e57d5870a46
   "metadata": {},
   "outputs": [
    {
     "data": {
      "text/plain": [
<<<<<<< HEAD
       "109602.14"
      ]
     },
     "execution_count": 29,
=======
       "111297.26"
      ]
     },
     "execution_count": 63,
>>>>>>> 76755219a976e9ff6a2d2025d27e5e57d5870a46
     "metadata": {},
     "output_type": "execute_result"
    }
   ],
   "source": [
    "resample_2 = our_sample.sample()\n",
    "resampled_median_2 = datascience.percentile(50, resample_2.column('Total Compensation'))\n",
    "resampled_median_2"
   ]
  },
  {
   "cell_type": "markdown",
   "metadata": {},
   "source": [
    "#### Bootstrap Empirical Distribution of the Sample Median\n",
    "\n",
    "Let us define a function `bootstrap_median` that takes our original sample, the label of the column containing the variable, and the number of bootstrap samples we want to take, and returns an array of the corresponding resampled medians.\n",
    "\n",
    "Each time we resample and find the median, we replicate the bootstrap process. So the number of bootstrap samples will be called the number of replications."
   ]
  },
  {
   "cell_type": "code",
<<<<<<< HEAD
   "execution_count": 30,
=======
   "execution_count": 64,
>>>>>>> 76755219a976e9ff6a2d2025d27e5e57d5870a46
   "metadata": {},
   "outputs": [],
   "source": [
    "def bootstrap_median(original_sample, label, replications):\n",
    "    \"\"\"Returns an array of bootstrapped sample medians:\n",
    "    original_sample: table containing the original sample\n",
    "    label: label of column containing the variable\n",
    "    replications: number of bootstrap samples\n",
    "    modified by t.g. cleveland for missing dependencies from \n",
    "    original UCB script\n",
    "    \"\"\"\n",
    "    just_one_column = original_sample.select(label)\n",
    "    medians = datascience.make_array()\n",
    "    for i in numpy.arange(replications):\n",
    "        bootstrap_sample = just_one_column.sample()\n",
    "        resampled_median = datascience.percentile(50, bootstrap_sample.column(0))\n",
    "        medians = numpy.append(medians, resampled_median)\n",
    "        \n",
    "    return medians"
   ]
  },
  {
   "cell_type": "markdown",
   "metadata": {},
   "source": [
    "We now replicate the bootstrap process 5,000 times. The array bstrap_medians contains the medians of all 5,000 bootstrap samples. Notice that the code takes longer to run than our previous code. It has a lot of resampling to do!"
   ]
  },
  {
   "cell_type": "code",
<<<<<<< HEAD
   "execution_count": 31,
=======
   "execution_count": 68,
>>>>>>> 76755219a976e9ff6a2d2025d27e5e57d5870a46
   "metadata": {},
   "outputs": [
    {
     "data": {
      "text/plain": [
       "array([106936.54, 108807.73, 104748.89, ..., 106652.86, 105122.29,\n",
       "       104909.84])"
      ]
     },
     "execution_count": 68,
     "metadata": {},
     "output_type": "execute_result"
    }
   ],
   "source": [
    "bstrap_medians = bootstrap_median(our_sample, 'Total Compensation', 5000) # change the 5 to 5000 for production run!\n",
    "bstrap_medians"
   ]
  },
  {
   "cell_type": "markdown",
   "metadata": {},
   "source": [
    "Here is the histogram of the 5000 medians. The red dot is the population parameter: it is the median of the entire population, which we happen to know but did not use in the bootstrap process."
   ]
  },
  {
   "cell_type": "code",
<<<<<<< HEAD
   "execution_count": 32,
=======
   "execution_count": 69,
>>>>>>> 76755219a976e9ff6a2d2025d27e5e57d5870a46
   "metadata": {},
   "outputs": [
    {
     "data": {
      "text/plain": [
<<<<<<< HEAD
       "<matplotlib.collections.PathCollection at 0x7f3e613801c0>"
      ]
     },
     "execution_count": 32,
=======
       "<matplotlib.collections.PathCollection at 0xffff853de580>"
      ]
     },
     "execution_count": 69,
>>>>>>> 76755219a976e9ff6a2d2025d27e5e57d5870a46
     "metadata": {},
     "output_type": "execute_result"
    },
    {
     "data": {
<<<<<<< HEAD
      "image/png": "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\n",
=======
      "image/png": "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\n",
>>>>>>> 76755219a976e9ff6a2d2025d27e5e57d5870a46
      "text/plain": [
       "<Figure size 432x288 with 1 Axes>"
      ]
     },
     "metadata": {
      "needs_background": "light"
     },
     "output_type": "display_data"
    }
   ],
   "source": [
    "resampled_medians = datascience.Table().with_column('Bootstrap Sample Median', bstrap_medians)\n",
    "\n",
    "#median_bins=np.arange(100000, 130000, 2500)\n",
    "#resampled_medians.hist(bins = median_bins)\n",
    "resampled_medians.hist()\n",
    "\n",
    "import matplotlib.pyplot \n",
    "matplotlib.pyplot.scatter(pop_median, 0, color='red', s=99)"
   ]
  },
  {
   "cell_type": "markdown",
   "metadata": {},
   "source": [
    "It is important to remember that the red dot is fixed: it is \\\\$110,305.79, the population median. The empirical histogram is the result of random draws, and will be situated randomly relative to the red dot.\n",
    "\n",
    "Remember also that the point of all these computations is to estimate the population median, which is the red dot. Our estimates are all the randomly generated sampled medians whose histogram you see above. We want those estimates to contain the parameter – it they don't, then they are off.\n",
    "\n",
    "### Do the Estimates Capture the Parameter?\n",
    "\n",
    "How often does the empirical histogram of the resampled medians sit firmly over the red dot, and not just brush the dot with its tails? To answer this, we must define \"sit firmly\". \n",
    "Let's take that to mean \"the middle 95% of the resampled medians contains the red dot\".\n",
    "\n",
    "Here are the two ends of the \"middle 95%\" interval of resampled medians:"
   ]
  },
  {
   "cell_type": "code",
<<<<<<< HEAD
   "execution_count": 33,
=======
   "execution_count": 70,
>>>>>>> 76755219a976e9ff6a2d2025d27e5e57d5870a46
   "metadata": {},
   "outputs": [
    {
     "name": "stdout",
     "output_type": "stream",
     "text": [
      "lower/upper bounds of 95-percent of sample range \n",
<<<<<<< HEAD
      " 108876.57   123076.11\n"
=======
      " 101066.92   113053.1\n"
>>>>>>> 76755219a976e9ff6a2d2025d27e5e57d5870a46
     ]
    }
   ],
   "source": [
    "left = datascience.percentile(2.5, bstrap_medians)\n",
    "right = datascience.percentile(97.5, bstrap_medians)\n",
    "print(\"lower/upper bounds of 95-percent of sample range \\n\",left,\" \",right)"
   ]
  },
  {
   "cell_type": "markdown",
   "metadata": {},
   "source": [
    "The population median of \\\\$110,305 is indeed between these two numbers. The interval and the population median are shown on the histogram below."
   ]
  },
  {
   "cell_type": "code",
<<<<<<< HEAD
   "execution_count": 34,
=======
   "execution_count": 71,
>>>>>>> 76755219a976e9ff6a2d2025d27e5e57d5870a46
   "metadata": {},
   "outputs": [
    {
     "data": {
<<<<<<< HEAD
      "image/png": "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\n",
=======
      "image/png": "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\n",
>>>>>>> 76755219a976e9ff6a2d2025d27e5e57d5870a46
      "text/plain": [
       "<Figure size 432x288 with 1 Axes>"
      ]
     },
     "metadata": {
      "needs_background": "light"
     },
     "output_type": "display_data"
    }
   ],
   "source": [
    "#median_bins=np.arange(100000, 130000, 2500)\n",
    "#resampled_medians.hist(bins = median_bins)\n",
    "resampled_medians.hist()\n",
    "\n",
    "matplotlib.pyplot.plot(datascience.make_array(left, right), datascience.make_array(0, 0), color='yellow', lw=9, zorder=1)\n",
    "matplotlib.pyplot.scatter(pop_median, 0, color='red', s=199, zorder=2);"
   ]
  },
  {
   "cell_type": "markdown",
   "metadata": {},
   "source": [
    "The \"middle 95%\" interval of estimates captured the parameter in our example. But was that a fluke?\n",
    "\n",
    "To see how frequently the interval contains the parameter, we have to run the entire process over and over again. Specifically, we will repeat the following process 100 times:\n",
    "\n",
    "    Draw an original sample of size 500 from the population.\n",
    "    Carry out 5,000 replications of the bootstrap process and generate the \"middle 95%\" interval of resampled medians.\n",
    "\n",
    "We will end up with 100 intervals, and count how many of them contain the population median.\n",
    "\n",
    "Spoiler alert: The statistical theory of the bootstrap says that the number should be around 95. It may be in the low 90s or high 90s, but not much farther off 95 than that."
   ]
  },
  {
   "cell_type": "code",
<<<<<<< HEAD
   "execution_count": 35,
=======
   "execution_count": 72,
>>>>>>> 76755219a976e9ff6a2d2025d27e5e57d5870a46
   "metadata": {},
   "outputs": [],
   "source": [
    "# THE BIG SIMULATION: This one takes several minutes.\n",
    "# Generate 100 intervals, in the table intervals\n",
    "# modified by tgc for UCB dependencies not loaded as part of textbook\n",
    "# test 26oct2020 on AWS server runtime == about 4 minutes\n",
    "# test 25mar2021 on RaspberryPi4-ubuntu-8GB == 11 minutes\n",
    "left_ends = datascience.make_array()\n",
    "right_ends = datascience.make_array()\n",
    "\n",
    "total_comps = sf2015.select('Total Compensation')\n",
    "\n",
    "for i in numpy.arange(100):\n",
    "    first_sample = total_comps.sample(500, with_replacement=False)\n",
    "    medians = bootstrap_median(first_sample, 'Total Compensation', 5000)\n",
    "    left_ends = numpy.append(left_ends, datascience.percentile(2.5, medians))\n",
    "    right_ends = numpy.append(right_ends, datascience.percentile(97.5, medians))\n",
    "\n",
    "intervals = datascience.Table().with_columns(\n",
    "    'Left', left_ends,\n",
    "    'Right', right_ends\n",
    ")"
   ]
  },
  {
   "cell_type": "markdown",
   "metadata": {},
   "source": [
    "For each of the 100 replications, we get one interval of estimates of the median."
   ]
  },
  {
   "cell_type": "code",
<<<<<<< HEAD
   "execution_count": 36,
=======
   "execution_count": 73,
>>>>>>> 76755219a976e9ff6a2d2025d27e5e57d5870a46
   "metadata": {},
   "outputs": [
    {
     "data": {
      "text/html": [
       "<table border=\"1\" class=\"dataframe\">\n",
       "    <thead>\n",
       "        <tr>\n",
       "            <th>Left</th> <th>Right</th>\n",
       "        </tr>\n",
       "    </thead>\n",
       "    <tbody>\n",
       "        <tr>\n",
<<<<<<< HEAD
       "            <td>103083 </td> <td>114184</td>\n",
       "        </tr>\n",
       "        <tr>\n",
       "            <td>105438 </td> <td>114596</td>\n",
       "        </tr>\n",
       "        <tr>\n",
       "            <td>110376 </td> <td>122139</td>\n",
       "        </tr>\n",
       "        <tr>\n",
       "            <td>97979.5</td> <td>110533</td>\n",
       "        </tr>\n",
       "        <tr>\n",
       "            <td>106331 </td> <td>115592</td>\n",
       "        </tr>\n",
       "        <tr>\n",
       "            <td>101350 </td> <td>113414</td>\n",
       "        </tr>\n",
       "        <tr>\n",
       "            <td>108267 </td> <td>118965</td>\n",
       "        </tr>\n",
       "        <tr>\n",
       "            <td>102832 </td> <td>113948</td>\n",
       "        </tr>\n",
       "        <tr>\n",
       "            <td>101759 </td> <td>114192</td>\n",
       "        </tr>\n",
       "        <tr>\n",
       "            <td>104551 </td> <td>114630</td>\n",
=======
       "            <td>101777</td> <td>114078</td>\n",
       "        </tr>\n",
       "        <tr>\n",
       "            <td>103873</td> <td>113829</td>\n",
       "        </tr>\n",
       "        <tr>\n",
       "            <td>106616</td> <td>115697</td>\n",
       "        </tr>\n",
       "        <tr>\n",
       "            <td>103609</td> <td>116756</td>\n",
       "        </tr>\n",
       "        <tr>\n",
       "            <td>107736</td> <td>119803</td>\n",
       "        </tr>\n",
       "        <tr>\n",
       "            <td>105030</td> <td>116761</td>\n",
       "        </tr>\n",
       "        <tr>\n",
       "            <td>108784</td> <td>119783</td>\n",
       "        </tr>\n",
       "        <tr>\n",
       "            <td>108085</td> <td>118268</td>\n",
       "        </tr>\n",
       "        <tr>\n",
       "            <td>101024</td> <td>111647</td>\n",
       "        </tr>\n",
       "        <tr>\n",
       "            <td>100759</td> <td>112783</td>\n",
>>>>>>> 76755219a976e9ff6a2d2025d27e5e57d5870a46
       "        </tr>\n",
       "    </tbody>\n",
       "</table>\n",
       "<p>... (90 rows omitted)</p>"
      ],
      "text/plain": [
<<<<<<< HEAD
       "Left    | Right\n",
       "103083  | 114184\n",
       "105438  | 114596\n",
       "110376  | 122139\n",
       "97979.5 | 110533\n",
       "106331  | 115592\n",
       "101350  | 113414\n",
       "108267  | 118965\n",
       "102832  | 113948\n",
       "101759  | 114192\n",
       "104551  | 114630\n",
       "... (90 rows omitted)"
      ]
     },
     "execution_count": 36,
=======
       "Left   | Right\n",
       "101777 | 114078\n",
       "103873 | 113829\n",
       "106616 | 115697\n",
       "103609 | 116756\n",
       "107736 | 119803\n",
       "105030 | 116761\n",
       "108784 | 119783\n",
       "108085 | 118268\n",
       "101024 | 111647\n",
       "100759 | 112783\n",
       "... (90 rows omitted)"
      ]
     },
     "execution_count": 73,
>>>>>>> 76755219a976e9ff6a2d2025d27e5e57d5870a46
     "metadata": {},
     "output_type": "execute_result"
    }
   ],
   "source": [
    "intervals"
   ]
  },
  {
   "cell_type": "markdown",
   "metadata": {},
   "source": [
    "The good intervals are those that contain the parameter we are trying to estimate. Typically the parameter is unknown, but in this section we happen to know what the parameter is."
   ]
  },
  {
   "cell_type": "code",
<<<<<<< HEAD
   "execution_count": 37,
=======
   "execution_count": 74,
>>>>>>> 76755219a976e9ff6a2d2025d27e5e57d5870a46
   "metadata": {},
   "outputs": [
    {
     "data": {
      "text/plain": [
       "110305.79"
      ]
     },
<<<<<<< HEAD
     "execution_count": 37,
=======
     "execution_count": 74,
>>>>>>> 76755219a976e9ff6a2d2025d27e5e57d5870a46
     "metadata": {},
     "output_type": "execute_result"
    }
   ],
   "source": [
    "pop_median"
   ]
  },
  {
   "cell_type": "markdown",
   "metadata": {},
   "source": [
    "How many of the 100 intervals contain the population median? That's the number of intervals where the left end is below the population median and the right end is above."
   ]
  },
  {
   "cell_type": "code",
<<<<<<< HEAD
   "execution_count": 38,
=======
   "execution_count": 76,
>>>>>>> 76755219a976e9ff6a2d2025d27e5e57d5870a46
   "metadata": {},
   "outputs": [
    {
     "data": {
      "text/plain": [
<<<<<<< HEAD
       "96"
      ]
     },
     "execution_count": 38,
=======
       "97"
      ]
     },
     "execution_count": 76,
>>>>>>> 76755219a976e9ff6a2d2025d27e5e57d5870a46
     "metadata": {},
     "output_type": "execute_result"
    }
   ],
   "source": [
    "intervals.where('Left', datascience.are.below(pop_median)).where('Right', datascience.are.above(pop_median)).num_rows"
   ]
  },
  {
   "cell_type": "markdown",
   "metadata": {},
   "source": [
    "It takes a few minutes to construct all the intervals, but try it again if you have the patience. Most likely, about 95 of the 100 intervals will be good ones: they will contain the parameter.\n",
    "\n",
    "It's hard to show you all the intervals on the horizontal axis as they have large overlaps – after all, they are all trying to estimate the same parameter. The graphic below shows each interval on the same axes by stacking them vertically. The vertical axis is simply the number of the replication from which the interval was generated.\n",
    "\n",
    "The red line is where the parameter is. Good intervals cover the parameter; there are about 95 of these, typically.\n",
    "\n",
    "If an interval doesn't cover the parameter, it's a dud. The duds are the ones where you can see \"daylight\" around the red line. There are very few of them – about 5, typically – but they do happen.\n",
    "\n",
    "Any method based on sampling has the possibility of being off. The beauty of methods based on random sampling is that we can quantify how often they are likely to be off."
   ]
  },
  {
   "cell_type": "code",
<<<<<<< HEAD
   "execution_count": 39,
=======
   "execution_count": 81,
>>>>>>> 76755219a976e9ff6a2d2025d27e5e57d5870a46
   "metadata": {},
   "outputs": [
    {
     "data": {
<<<<<<< HEAD
      "image/png": "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\n",
=======
      "image/png": "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\n",
>>>>>>> 76755219a976e9ff6a2d2025d27e5e57d5870a46
      "text/plain": [
       "<Figure size 1296x1296 with 1 Axes>"
      ]
     },
     "metadata": {
      "needs_background": "light"
     },
     "output_type": "display_data"
    }
   ],
   "source": [
    "replication_number = numpy.ndarray.astype(numpy.arange(1, 101), str)\n",
    "intervals2 = datascience.Table(replication_number).with_rows(datascience.make_array(left_ends, right_ends))\n",
    "\n",
    "matplotlib.pyplot.figure(figsize=(18,18))\n",
    "for i in numpy.arange(100):\n",
    "    ends = intervals2.column(i)\n",
    "    matplotlib.pyplot.plot(ends, datascience.make_array(i+1, i+1), color='blue')\n",
    "matplotlib.pyplot.plot(datascience.make_array(pop_median, pop_median), datascience.make_array(0, 100), color='red', lw=2)\n",
    "matplotlib.pyplot.xlabel('Median (dollars)')\n",
    "matplotlib.pyplot.ylabel('Replication')\n",
    "matplotlib.pyplot.title('Population Median and Intervals of Estimates');\n"
   ]
  },
  {
   "cell_type": "markdown",
   "metadata": {},
   "source": [
    "To summarize what the simulation shows, suppose you are estimating the population median by the following process:\n",
    "\n",
    "    Draw a large random sample from the population.\n",
    "    Bootstrap your random sample and get an estimate from the new random sample.\n",
    "    Repeat the above step thousands of times, and get thousands of estimates.\n",
    "    Pick off the \"middle 95%\" interval of all the estimates.\n",
    "\n",
    "That gives you one interval of estimates. Now if you repeat the entire process 100 times, ending up with 100 intervals, then about 95 of those 100 intervals will contain the population parameter.\n",
    "\n",
    "In other words, this process of estimation captures the parameter about 95% of the time.\n",
    "\n",
    "You can replace 95% by a different value, as long as it's not 100. Suppose you replace 95% by 80% and keep the sample size fixed at 500. Then your intervals of estimates will be shorter than those we simulated here, because the \"middle 80%\" is a smaller range than the \"middle 95%\". Only about 80% of your intervals will contain the parameter."
   ]
  },
  {
   "cell_type": "code",
   "execution_count": 40,
   "metadata": {},
   "outputs": [
    {
     "data": {
      "image/png": "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\n",
      "text/plain": [
       "<Figure size 576x576 with 1 Axes>"
      ]
     },
     "metadata": {
      "needs_background": "light"
     },
     "output_type": "display_data"
    }
   ],
   "source": [
<<<<<<< HEAD
    "# THE BIG SIMULATION: This one takes several minutes.\n",
    "# Generate 100 intervals, in the table intervals\n",
    "# modified by tgc for UCB dependencies not loaded as part of textbook\n",
    "# test 26oct2020 on AWS server runtime == about 4 minutes\n",
    "left_ends = datascience.make_array()\n",
    "right_ends = datascience.make_array()\n",
    "\n",
    "total_comps = sf2015.select('Total Compensation')\n",
    "\n",
    "for i in numpy.arange(100):\n",
    "    first_sample = total_comps.sample(500, with_replacement=False)\n",
    "    medians = bootstrap_median(first_sample, 'Total Compensation', 5000)\n",
    "    left_ends = numpy.append(left_ends, datascience.percentile(10, medians))\n",
    "    right_ends = numpy.append(right_ends, datascience.percentile(90, medians))\n",
    "\n",
    "intervals = datascience.Table().with_columns(\n",
    "    'Left', left_ends,\n",
    "    'Right', right_ends\n",
    ")\n",
    "\n",
    "replication_number = numpy.ndarray.astype(numpy.arange(1, 101), str)\n",
    "intervals3 = datascience.Table(replication_number).with_rows(datascience.make_array(left_ends, right_ends))\n",
    "\n",
    "matplotlib.pyplot.figure(figsize=(8,8))\n",
    "for i in numpy.arange(100):\n",
    "    ends = intervals3.column(i)\n",
    "    matplotlib.pyplot.plot(ends, datascience.make_array(i+1, i+1), color='gold')\n",
    "matplotlib.pyplot.plot(datascience.make_array(pop_median, pop_median), datascience.make_array(0, 100), color='red', lw=2)\n",
    "matplotlib.pyplot.xlabel('Median (dollars)')\n",
    "matplotlib.pyplot.ylabel('Replication')\n",
    "matplotlib.pyplot.title('Population Median and Intervals of Estimates');"
   ]
  },
  {
   "cell_type": "markdown",
   "metadata": {},
   "source": [
    "## Next Time\n",
    "Lesson 18 will continue along these lines, and present without much theory methods for different estimates -- they all share the same underlying principles illustrated here."
   ]
  },
  {
=======
    "## Next Time\n",
    "Lesson 18 will continue along these lines, and present without much theory methods for different estimates -- they all share the same underlying principles illustrated here."
   ]
  },
  {
>>>>>>> 76755219a976e9ff6a2d2025d27e5e57d5870a46
   "cell_type": "code",
   "execution_count": null,
   "metadata": {},
   "outputs": [],
   "source": []
  }
 ],
 "metadata": {
  "kernelspec": {
   "display_name": "Python 3",
   "language": "python",
   "name": "python3"
  },
  "language_info": {
   "codemirror_mode": {
    "name": "ipython",
    "version": 3
   },
   "file_extension": ".py",
   "mimetype": "text/x-python",
   "name": "python",
   "nbconvert_exporter": "python",
   "pygments_lexer": "ipython3",
   "version": "3.8.5"
  }
 },
 "nbformat": 4,
 "nbformat_minor": 4
}
