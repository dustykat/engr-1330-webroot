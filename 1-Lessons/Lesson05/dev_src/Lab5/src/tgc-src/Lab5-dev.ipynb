{
 "cells": [
  {
   "cell_type": "code",
   "execution_count": 17,
   "metadata": {},
   "outputs": [
    {
     "data": {
      "text/html": [
       "<!--Script block to left align Markdown Tables-->\n",
       "<style>\n",
       "  table {margin-left: 0 !important;}\n",
       "</style>\n"
      ],
      "text/plain": [
       "<IPython.core.display.HTML object>"
      ]
     },
     "metadata": {},
     "output_type": "display_data"
    }
   ],
   "source": [
    "%%html\n",
    "<!--Script block to left align Markdown Tables-->\n",
    "<style>\n",
    "  table {margin-left: 0 !important;}\n",
    "</style>"
   ]
  },
  {
   "cell_type": "code",
   "execution_count": 18,
   "metadata": {},
   "outputs": [
    {
     "name": "stdout",
     "output_type": "stream",
     "text": [
      "atomickitty.aws\n",
      "compthink\n",
      "/opt/conda/envs/python/bin/python\n",
      "3.8.3 (default, Jul  2 2020, 16:21:59) \n",
      "[GCC 7.3.0]\n",
      "sys.version_info(major=3, minor=8, micro=3, releaselevel='final', serial=0)\n"
     ]
    }
   ],
   "source": [
    "# Preamble script block to identify host, user, and kernel\n",
    "import sys\n",
    "! hostname\n",
    "! whoami\n",
    "print(sys.executable)\n",
    "print(sys.version)\n",
    "print(sys.version_info)"
   ]
  },
  {
   "cell_type": "markdown",
   "metadata": {},
   "source": [
    "### Full name: what-is-your-name\n",
    "### R#: what-is-your-R-number\n",
    "### HEX: what-is-your-R-number-in-HEX\n",
    "### Title of the notebook\n",
    "### Date: date"
   ]
  },
  {
   "cell_type": "markdown",
   "metadata": {},
   "source": [
    "# Laboratory 5. Functions\n",
    "Functions are simply pre-written code fragments that perform a certain task.\n",
    "In older procedural languages functions and subroutines are similar, but a function returns a value whereas\n",
    "a subroutine operates on data. \n",
    "The difference is subtle but important. \n",
    "\n",
    "More recent thinking has functions being able to operate on data (they always could) and the value returned may be simply an exit code.\n",
    "An analogy are the functions in *MS Excel*. \n",
    "To add numbers, we can use the sum(range) function and type `=sum(A1:A5)` instead of typing `=A1+A2+A3+A4+A5`\n",
    "\n",
    "## Calling the Function\n",
    "We call a function simply by typing the name of the function or by using the dot notation.\n",
    "Whether we can use the dot notation or not depends on how the function is written, whether it is part of a class, and how it is imported into a program.\n",
    "\n",
    "Some functions expect us to pass data to them to perform their tasks. \n",
    "These dataare known as parameters( older terminology is arguments, or argument list) and we pass them to the function by enclosing their values in parenthesis ( ) separated by commas. \n",
    "\n",
    "For instance, the `print()` function for displaying text on the screen is \\called\" by typing `print('Hello World')` where print is the name of the function and the literal (a string) 'Hello World' is the argument.\n",
    "\n",
    "## Program flow\n",
    "A function, whether built-in, or added must be defined *before* it is called, otherwise the script will fail.  Certain built-in functions \"self define\" upon start (such as `print()` and `type()` and we need not worry about those funtions).  The diagram below illustrates the requesite flow control for functions that need to be defined before use.\n",
    "\n",
    "![](flow-control-diagram.png)\n",
    "\n",
    "An example below  will illustrate, change the cell to code and run it, you should get an error.\n",
    "Then fixt the indicated line (remove the leading \"#\" in the import math ... line) and rerun, should get a functioning script."
   ]
  },
  {
   "cell_type": "code",
   "execution_count": 1,
   "metadata": {},
   "outputs": [
    {
     "name": "stdout",
     "output_type": "stream",
     "text": [
      "Using arithmetic square root of  4.0  is  2.0\n"
     ]
    },
    {
     "ename": "NameError",
     "evalue": "name 'math' is not defined",
     "output_type": "error",
     "traceback": [
      "\u001b[0;31m---------------------------------------------------------------------------\u001b[0m",
      "\u001b[0;31mNameError\u001b[0m                                 Traceback (most recent call last)",
      "\u001b[0;32m<ipython-input-1-737cf4e9f493>\u001b[0m in \u001b[0;36m<module>\u001b[0;34m\u001b[0m\n\u001b[1;32m      6\u001b[0m \u001b[0mprint\u001b[0m\u001b[0;34m(\u001b[0m\u001b[0;34m'Using arithmetic square root of '\u001b[0m\u001b[0;34m,\u001b[0m \u001b[0mx\u001b[0m\u001b[0;34m,\u001b[0m \u001b[0;34m' is '\u001b[0m\u001b[0;34m,\u001b[0m\u001b[0msqrt_by_arithmetic\u001b[0m \u001b[0;34m)\u001b[0m\u001b[0;34m\u001b[0m\u001b[0;34m\u001b[0m\u001b[0m\n\u001b[1;32m      7\u001b[0m \u001b[0;31m#import math # import the math package ## activate and rerun\u001b[0m\u001b[0;34m\u001b[0m\u001b[0;34m\u001b[0m\u001b[0;34m\u001b[0m\u001b[0m\n\u001b[0;32m----> 8\u001b[0;31m \u001b[0msqrt_by_math\u001b[0m \u001b[0;34m=\u001b[0m \u001b[0mmath\u001b[0m\u001b[0;34m.\u001b[0m\u001b[0msqrt\u001b[0m\u001b[0;34m(\u001b[0m\u001b[0mx\u001b[0m\u001b[0;34m)\u001b[0m  \u001b[0;31m# note the dot notation\u001b[0m\u001b[0;34m\u001b[0m\u001b[0;34m\u001b[0m\u001b[0m\n\u001b[0m\u001b[1;32m      9\u001b[0m \u001b[0mprint\u001b[0m\u001b[0;34m(\u001b[0m\u001b[0;34m'Using math package square root of '\u001b[0m\u001b[0;34m,\u001b[0m  \u001b[0mx\u001b[0m\u001b[0;34m,\u001b[0m\u001b[0;34m' is '\u001b[0m\u001b[0;34m,\u001b[0m\u001b[0msqrt_by_arithmetic\u001b[0m\u001b[0;34m)\u001b[0m\u001b[0;34m\u001b[0m\u001b[0;34m\u001b[0m\u001b[0m\n",
      "\u001b[0;31mNameError\u001b[0m: name 'math' is not defined"
     ]
    }
   ],
   "source": [
    "# reset the notebook using a magic function in JupyterLab\n",
    "%reset -f \n",
    "# An example, run once as is then activate indicated line, run again - what happens?\n",
    "x= 4.\n",
    "sqrt_by_arithmetic = x**0.5\n",
    "print('Using arithmetic square root of ', x, ' is ',sqrt_by_arithmetic )\n",
    "#import math # import the math package ## activate and rerun\n",
    "sqrt_by_math = math.sqrt(x)  # note the dot notation\n",
    "print('Using math package square root of ',  x,' is ',sqrt_by_arithmetic)"
   ]
  },
  {
   "cell_type": "markdown",
   "metadata": {},
   "source": [
    "An alternate way to load just the sqrt() function is shown below, either way is fine."
   ]
  },
  {
   "cell_type": "code",
   "execution_count": null,
   "metadata": {},
   "outputs": [],
   "source": [
    "# reset the notebook using a magic function in JupyterLab\n",
    "%reset -f \n",
    "# An example, run once as is then activate indicated line, run again - what happens?\n",
    "x= 4.\n",
    "sqrt_by_arithmetic = x**0.5\n",
    "print('Using arithmetic square root of ', x, ' is ',sqrt_by_arithmetic )\n",
    "#from math import sqrt # import sqrt from the math package ## activate and rerun\n",
    "sqrt_by_math = sqrt(x)  # note the notation\n",
    "print('Using math package square root of ',  x,' is ',sqrt_by_arithmetic)"
   ]
  },
  {
   "cell_type": "code",
   "execution_count": null,
   "metadata": {},
   "outputs": [],
   "source": []
  },
  {
   "cell_type": "markdown",
   "metadata": {},
   "source": [
    "## Built-In in Primitive Python (Base install)\n",
    "\n",
    "The base Python functions and types built into it that are always available, the figure below lists those functions.\n",
    "\n",
    "![](base-functions.png)\n",
    "\n",
    "Notice all have the structure of `function_name()`, except `__import__()` which has a constructor type structure, and is not intended for routine use.  We will learn about constructors later.\n"
   ]
  },
  {
   "cell_type": "markdown",
   "metadata": {},
   "source": [
    "## Added-In using External Packages/Modules and Libaries (e.g. math)\n",
    "\n",
    "Python is also distributed with a large number of external functions. \n",
    "These functions are saved\n",
    "in files known as modules. \n",
    "To use the built-in codes in Python modules, we have to import\n",
    "them into our programs first. We do that by using the import keyword. \n",
    "There are three\n",
    "ways to import:\n",
    "1. Import the entire module by writing import moduleName; For instance, to import the random module, we write import random. To use the randrange() function in the random module, we write random.randrange( 1, 10);28\n",
    "2. Import and rename the module by writing import random as r (where r is any name of your choice). Now to use the randrange() function, you simply write r.randrange(1, 10); and\n",
    "3. Import speci\f",
    "c functions from the module by writing from moduleName import name1[,name2[, ... nameN]]. For instance, to import the randrange() function from therandom module, we write from random import randrange. To import multiple functions, we separate them with a comma. To import the randrange() and randint() functions, we write from random import randrange, randint. To use the function now, we do not have to use the dot notation anymore. Just write randrange( 1, 10)."
   ]
  },
  {
   "cell_type": "code",
   "execution_count": null,
   "metadata": {},
   "outputs": [],
   "source": [
    "# Example 1 of import\n",
    "%reset -f \n",
    "import random\n",
    "low = 1 ; high = 10\n",
    "random.randrange(low,high) #generate random number in range low to high"
   ]
  },
  {
   "cell_type": "code",
   "execution_count": null,
   "metadata": {},
   "outputs": [],
   "source": [
    "# Example 2 of import\n",
    "%reset -f \n",
    "import random as r\n",
    "low = 1 ; high = 10\n",
    "r.randrange(low,high)"
   ]
  },
  {
   "cell_type": "code",
   "execution_count": null,
   "metadata": {},
   "outputs": [],
   "source": [
    "# Example 3 of import\n",
    "%reset -f \n",
    "from random import randrange \n",
    "low = 1 ; high = 10\n",
    "randrange(low,high)"
   ]
  },
  {
   "cell_type": "markdown",
   "metadata": {},
   "source": [
    "The modules that come with Python are extensive and listed at \n",
    "https://docs.python.org/3/py-modindex.html.\n",
    "There are also other modules that can be downloaded and used\n",
    "(just like user defined modules below). \n",
    "In these labs we are building primitive codes to learn how to code and how to create algorithms. \n",
    "For many practical cases you will want to load a well-tested package to accomplish the tasks. \n",
    "\n",
    "That exercise is saved for the end of the document.\n",
    "\n",
    "## User-Built \n",
    "We can define our own functions in Python and reuse them throughout the program.\n",
    "The syntax for defining a function is:\n",
    "\n",
    "    def functionName( argument ):\n",
    "        code detailing what the function should do\n",
    "        note the colon above and indentation\n",
    "        ...\n",
    "        ...\n",
    "        return [expression]\n",
    "        \n",
    "The keyword `def` tells the program that the indented code from the next line onwards is\n",
    "part of the function. \n",
    "The keyword `return `tells the program to return an answer from the\n",
    "function. \n",
    "There can be multiple return statements in a function. \n",
    "Once the function executes\n",
    "a return statement, the program exits the function and continues with *its* next executable\n",
    "statement. \n",
    "If the function does not need to return any value, you can omit the return\n",
    "statement.\n",
    "\n",
    "Functions can be pretty elaborate; they can search for things in a list, determine variable\n",
    "types, open and close files, read and write to files. \n",
    "\n",
    "To get started we will build a few really\n",
    "simple mathematical functions; we will need this skill in the future anyway, especially in\n",
    "scientific programming contexts."
   ]
  },
  {
   "cell_type": "markdown",
   "metadata": {},
   "source": [
    "### User-built within a Code Block\n",
    "For our first function we will code $$f(x) = x\\sqrt{1 + x}$$ into a function named `dusty()`.\n",
    "\n",
    "When you run the next cell, all it does is prototype the function (defines it), nothing happens until we use the function."
   ]
  },
  {
   "cell_type": "code",
   "execution_count": null,
   "metadata": {},
   "outputs": [],
   "source": [
    "def dusty(x) :\n",
    "    temp = x * ((1.0+x)**(0.5)) # don't need the math package\n",
    "    return temp\n",
    "# the function should make the evaluation\n",
    "# store in the local variable temp\n",
    "# return contents of temp"
   ]
  },
  {
   "cell_type": "code",
   "execution_count": null,
   "metadata": {},
   "outputs": [],
   "source": []
  },
  {
   "cell_type": "code",
   "execution_count": null,
   "metadata": {},
   "outputs": [],
   "source": [
    "# wrapper to run the dusty function\n",
    "yes = 0\n",
    "while yes == 0:\n",
    "    xvalue = input('enter a numeric value')\n",
    "    try:\n",
    "        xvalue = float(xvalue)\n",
    "        yes = 1\n",
    "    except:\n",
    "        print('enter a bloody number! Try again \\n')\n",
    "# call the function, get value , write output\n",
    "yvalue = dusty(xvalue)\n",
    "print('f(',xvalue,') = ',yvalue) # and we are done "
   ]
  },
  {
   "cell_type": "markdown",
   "metadata": {},
   "source": [
    "## Exercise 1 (4 points)\n",
    "\n",
    "Create the function $$f(x) = e^x - 10 cos(x) - 100$$ as a function (i.e. use the `def` keyword)\n",
    "\n",
    "    def name(parameters) :\n",
    "        operations on parameters\n",
    "        ...\n",
    "        ...\n",
    "        return (value, or null)\n",
    "\n",
    "Then apply your function to the value.\n",
    "\n",
    "Use your function to complete the table below:\n",
    "\n",
    "| x | f(x) |\n",
    "|---:|---:|\n",
    "| 0.0 | |\n",
    "| 1.50 | |\n",
    "| 2.00 | |\n",
    "| 2.25 | |\n",
    "| 3.0 | |\n",
    "| 4.25 | |\n",
    "| 4.50 | |\n",
    "| 4.75 | |\n",
    "| 5.00 | |\n",
    "| 6.00 | |\n",
    "\n",
    "You will reuse the function later in the exercises, so be sure it works.\n"
   ]
  },
  {
   "cell_type": "code",
   "execution_count": 7,
   "metadata": {},
   "outputs": [
    {
     "name": "stdout",
     "output_type": "stream",
     "text": [
      "---x--- | ---y---\n",
      "0.000   | -109.000\n",
      "1.500   | -96.226\n",
      "2.000   | -88.449\n",
      "2.250   | -84.231\n",
      "3.000   | -70.015\n",
      "4.250   | -25.434\n",
      "4.500   | -7.875\n",
      "4.750   | 15.208\n",
      "5.000   | 45.577\n",
      "6.000   | 293.827\n"
     ]
    }
   ],
   "source": [
    "# define function\n",
    "def func(x) :\n",
    "    import math\n",
    "    temp1 = math.exp(x)\n",
    "    temp2 = 10.0*math.cos(x)\n",
    "    result = temp1 - temp2 - 100.0\n",
    "    return(result)\n",
    "\n",
    "# wrapper\n",
    "\n",
    "x = [0.00, 1.50, 2.00 , 2.25, 3.00, 4.25, 4.50, 4.75, 5.0, 6.00]\n",
    "y = [] # null list to recieve results\n",
    "print('---x---','|','---y---')\n",
    "for i in range(len(x)):\n",
    "    y.append(func(x[i]))\n",
    "    print('%.3f  ' %x[i],'|' ' %.3f' %y[i])"
   ]
  },
  {
   "cell_type": "markdown",
   "metadata": {},
   "source": [
    "## Variable Scope\n",
    "An important concept when defining a function is the concept of variable scope. \n",
    "Variablesdefined inside a function are treated differently from variables defined outside. \n",
    "Firstly, any variable declared within a function is only accessible within the function. \n",
    "These are known as local variables. \n",
    "\n",
    "In the `dusty()` function, the variables `x` and `temp` are local to the function.\n",
    "Any variable declared outside a function in a main program is known as a program variable\n",
    "and is accessible anywhere in the program. \n",
    "\n",
    "In the example, the variables `xvalue` and `yvalue` are program variables (global to the program; if they are addressed within a function, they could be operated on.)\n",
    "Generally we want to protect the program variables from the function unless the intent is to change their values. \n",
    "The way the function is written in the example, the function cannot damage `xvalue` or `yvalue`.\n",
    "\n",
    "If a local variable shares the same name as a program variable, any code inside the function is\n",
    "accessing the local variable. Any code outside is accessing the program variable"
   ]
  },
  {
   "cell_type": "markdown",
   "metadata": {},
   "source": [
    "### As Separate Module/File\n",
    "\n",
    "In this section we will invent the `neko()` function, export it to a file, so we can reuse it in later notebooks without having to retype or cut-and-paste. The `neko()` function evaluates:\n",
    "\n",
    "$$f(x) = x\\sqrt{|(1 + x)|}$$\n",
    "\n",
    "Its the same as the dusty() function, except operates on the absolute value in the wadical.\n",
    "\n",
    "1. Create a text file named \"mylibrary.txt\"\n",
    "2. Copy the neko() function script below into that file.\n",
    "\n",
    "        def neko(input_argument) :\n",
    "            import math #ok to import into a function\n",
    "            local_variable = input_argument * math.sqrt(abs(1.0+input_argument))\n",
    "            return local_variable\n",
    "\n",
    "\n",
    "4. rename mylibrary.txt to mylibrary.py\n",
    "5. modify the wrapper script to use the neko function as an external module"
   ]
  },
  {
   "cell_type": "code",
   "execution_count": null,
   "metadata": {},
   "outputs": [],
   "source": [
    "# wrapper to run the neko function\n",
    "import mylibrary\n",
    "yes = 0\n",
    "while yes == 0:\n",
    "    xvalue = input('enter a numeric value')\n",
    "    try:\n",
    "        xvalue = float(xvalue)\n",
    "        yes = 1\n",
    "    except:\n",
    "        print('enter a bloody number! Try again \\n')\n",
    "# call the function, get value , write output\n",
    "yvalue = mylibrary.neko(xvalue)\n",
    "print('f(',xvalue,') = ',yvalue) # and we are done "
   ]
  },
  {
   "cell_type": "markdown",
   "metadata": {},
   "source": [
    "In JupyterHub environments, you may discover that changes you make to your external python file are not reflected when you re-run your script; you need to restart the kernel to get the changes to actually update. The figure below depicts the notebook, external file relatonship\n",
    "\n",
    "![](external-file-import.png)\n",
    "\n",
    "\n",
    "* Future version - explain absolute path\n",
    "\n",
    "## Exercise 1 (Optional, extra credit)\n",
    "\n",
    "Save your function from Exercise 1 into a module; write a wrapper to test the function."
   ]
  },
  {
   "cell_type": "markdown",
   "metadata": {},
   "source": [
    "## Rudimentary Graphics\n",
    "\n",
    "Graphing values is part of the broader field of data visualization, which has two main\n",
    "goals:\n",
    "\n",
    "   1. To explore data, and\n",
    "   2. To communicate data.\n",
    "\n",
    "In this subsection we will concentrate on introducing skills to start exploring data and to\n",
    "produce meaningful visualizations we can use throughout the rest of this notebook. \n",
    "Data visualization is a rich field of study that fills entire books.\n",
    "The reason to start visualization here instead of elsewhere is that with functions plotting\n",
    "is a natural activity and we have to import the `matplotlib` module to make the plots.\n",
    "\n",
    "The example below is code adapted from Grus (2015) that illustrates simple generic\n",
    "plots. I added a single line (label the x-axis), and corrected some transcription\n",
    "errors (not the original author's mistake, just the consequence of how the API handled the\n",
    "cut-and-paste), but otherwise the code is unchanged."
   ]
  },
  {
   "cell_type": "code",
   "execution_count": null,
   "metadata": {},
   "outputs": [],
   "source": [
    "# python script to illustrate plotting\n",
    "# CODE BELOW IS ADAPTED FROM:\n",
    "# Grus, Joel (2015-04-14). Data Science from Scratch: First Principles with Python\n",
    "# (Kindle Locations 1190-1191). O'Reilly Media. Kindle Edition. \n",
    "#\n",
    "from matplotlib import pyplot as plt # import the plotting library from matplotlibplt.show()\n",
    "\n",
    "years = [1950, 1960, 1970, 1980, 1990, 2000, 2010]  # define two lists years and gdp\n",
    "gdp = [300.2, 543.3, 1075.9, 2862.5, 5979.6, 10289.7, 14958.3]\n",
    "plt.plot( years, gdp, color ='green', marker ='o', linestyle ='solid') # create a line chart, years on x-axis, gdp on y-axis\n",
    "plt.title(\"Nominal GDP\")# add a title\n",
    "plt.ylabel(\"Billions of $\")# add a label to the x and y-axes\n",
    "plt.xlabel(\"Year\")\n",
    "plt.show() # display the plot"
   ]
  },
  {
   "cell_type": "markdown",
   "metadata": {},
   "source": [
    "Now lets put the plotting script into a function so we can make line charts of any two numeric lists"
   ]
  },
  {
   "cell_type": "code",
   "execution_count": 10,
   "metadata": {},
   "outputs": [],
   "source": [
    "def plotAline(list1,list2,strx,stry,strtitle): # plot list1 on x, list2 on y, xlabel, ylabel, title\n",
    "    from matplotlib import pyplot as plt # import the plotting library from matplotlibplt.show()\n",
    "    plt.plot( list1, list2, color ='green', marker ='o', linestyle ='solid') # create a line chart, years on x-axis, gdp on y-axis\n",
    "    plt.title(strtitle)# add a title\n",
    "    plt.ylabel(stry)# add a label to the x and y-axes\n",
    "    plt.xlabel(strx)\n",
    "    plt.show() # display the plot\n",
    "    return #null return"
   ]
  },
  {
   "cell_type": "code",
   "execution_count": null,
   "metadata": {},
   "outputs": [],
   "source": [
    "# wrapper\n",
    "years = [1950, 1960, 1970, 1980, 1990, 2000, 2010]  # define two lists years and gdp\n",
    "gdp = [300.2, 543.3, 1075.9, 2862.5, 5979.6, 10289.7, 14958.3]\n",
    "print(type(years[0]))\n",
    "print(type(gdp[0]))\n",
    "plotAline(years,gdp,\"Year\",\"Billions of $\",\"Nominal GDP\")"
   ]
  },
  {
   "cell_type": "markdown",
   "metadata": {},
   "source": [
    "## Exercise 2 (2 points)\n",
    "Copy the wrapper script for the `plotAline()` function, and modify the copy to create a plot of\n",
    "$$ y = x^2 $$\n",
    "for x raging from 0 to 9 (inclusive) in steps of 1.\n",
    "\n",
    "Label the plot and the plot axes.\n"
   ]
  },
  {
   "cell_type": "raw",
   "metadata": {},
   "source": [
    "xxx = [] # null list\n",
    "yyy = [] # null list\n",
    "for i in range(0,10):\n",
    "    xxx.append(1.0*i) #float i and append to the list\n",
    "for i in range(0,10):\n",
    "    yyy.append(xxx[i]**2)\n",
    "plotAline(xxx,yyy,\"X\",\"Y\",\"Plot of Y = X^2 \")"
   ]
  },
  {
   "cell_type": "markdown",
   "metadata": {},
   "source": [
    "## Exercise 3 (4 points) \n",
    "Use your function from Exercise 1. To create a plot of $$f(x)$$ , where\n",
    "$x$ ranges from 0 to 15 in increments of 0.25.\n",
    "\n",
    "Label the plot and the plot axes."
   ]
  },
  {
   "cell_type": "code",
   "execution_count": 13,
   "metadata": {},
   "outputs": [
    {
     "data": {
      "image/png": "[encoded data removed]",
      "text/plain": [
       "<Figure size 432x288 with 1 Axes>"
      ]
     },
     "metadata": {
      "needs_background": "light"
     },
     "output_type": "display_data"
    }
   ],
   "source": [
    "# wrapper\n",
    "\n",
    "x = [] # null list to recieve results\n",
    "y = [] # null list to recieve results\n",
    "whenToExit = 15.0\n",
    "howToIncrement = 0.25\n",
    "currentValue = 0.0\n",
    "while currentValue <= whenToExit:\n",
    "    x.append(currentValue)\n",
    "    y.append(func(currentValue))\n",
    "    currentValue += howToIncrement\n",
    "plotAline(x,y,'X-value','Y-value',\"Plot of exp(x) - 10cos(x)- 100\")"
   ]
  },
  {
   "cell_type": "markdown",
   "metadata": {},
   "source": [
    "## References\n",
    "\n",
    "1. Grus, Joel (2015-04-14). Data Science from Scratch: First Principles with Python\n",
    "(Kindle Locations 1190-1191). O'Reilly Media. Kindle Edition. \n",
    "\n",
    "2. Call Expressions in \"Adhikari, A. and DeNero, J. Computational and Inferential Thinking The Foundations of Data Science\" https://www.inferentialthinking.com/chapters/03/3/Calls.html\n",
    "\n",
    "3. Functions and Tables in \"Adhikari, A. and DeNero, J. Computational and Inferential Thinking The Foundations of Data Science\" https://www.inferentialthinking.com/chapters/08/Functions_and_Tables.html\n",
    "\n",
    "4. Visualization in \"Adhikari, A. and DeNero, J. Computational and Inferential Thinking The Foundations of Data Science\" https://www.inferentialthinking.com/chapters/07/Visualization.html\n"
   ]
  },
  {
   "cell_type": "code",
   "execution_count": null,
   "metadata": {},
   "outputs": [],
   "source": []
  }
 ],
 "metadata": {
  "kernelspec": {
   "display_name": "Python 38",
   "language": "python",
   "name": "python38"
  },
  "language_info": {
   "codemirror_mode": {
    "name": "ipython",
    "version": 3
   },
   "file_extension": ".py",
   "mimetype": "text/x-python",
   "name": "python",
   "nbconvert_exporter": "python",
   "pygments_lexer": "ipython3",
   "version": "3.8.3"
  }
 },
 "nbformat": 4,
 "nbformat_minor": 4
}
