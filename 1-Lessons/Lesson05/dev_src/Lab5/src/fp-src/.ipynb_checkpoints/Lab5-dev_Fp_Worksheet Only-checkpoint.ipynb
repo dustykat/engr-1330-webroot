{
 "cells": [
  {
   "cell_type": "markdown",
   "metadata": {},
   "source": [
    "## Full name: Farhang Forghanparast\n",
    "## R#: 321654987\n",
    "## HEX: 0x132c10cb\n",
    "## Title of the notebook\n",
    "## Date: 9/3/2020"
   ]
  },
  {
   "cell_type": "markdown",
   "metadata": {},
   "source": [
    "## Example\n",
    "\n",
    "Create the AVERAGE function for three values and test it for these values:\n",
    "- 3,4,5\n",
    "- 10,100,1000\n",
    "- -5,15,5"
   ]
  },
  {
   "cell_type": "code",
   "execution_count": 1,
   "metadata": {
    "collapsed": false,
    "jupyter": {
     "outputs_hidden": false
    }
   },
   "outputs": [],
   "source": [
    "def AVERAGE3(x,y,z) : #define the function \"AVERAGE3\"\n",
    "    Ave = (x+y+z)/3  #computes the average\n",
    "    return Ave"
   ]
  },
  {
   "cell_type": "code",
   "execution_count": 2,
   "metadata": {
    "collapsed": false,
    "jupyter": {
     "outputs_hidden": false
    }
   },
   "outputs": [
    {
     "name": "stdout",
     "output_type": "stream",
     "text": [
      "4.0\n",
      "370.0\n",
      "5.0\n"
     ]
    }
   ],
   "source": [
    "print(AVERAGE3(3,4,5))\n",
    "print(AVERAGE3(10,100,1000))\n",
    "print(AVERAGE3(-5,15,5))"
   ]
  },
  {
   "cell_type": "markdown",
   "metadata": {},
   "source": [
    "## Example\n",
    "\n",
    "Create the FC function to convert Fahrenhiet to Celsius and test it for these values:\n",
    "- 32\n",
    "- 15\n",
    "- 100\n",
    "\n",
    "*hint: Formula-(°F − 32) × 5/9 = °C"
   ]
  },
  {
   "cell_type": "code",
   "execution_count": 3,
   "metadata": {
    "collapsed": false,
    "jupyter": {
     "outputs_hidden": false
    }
   },
   "outputs": [],
   "source": [
    "def FC(x) : #define the function \"AVERAGE3\"\n",
    "    C = (x - 32)*5/9\n",
    "    return C"
   ]
  },
  {
   "cell_type": "code",
   "execution_count": 4,
   "metadata": {
    "collapsed": false,
    "jupyter": {
     "outputs_hidden": false
    }
   },
   "outputs": [
    {
     "name": "stdout",
     "output_type": "stream",
     "text": [
      "0.0\n",
      "-9.444444444444445\n",
      "37.77777777777778\n"
     ]
    }
   ],
   "source": [
    "print(FC(32))\n",
    "print(FC(15))\n",
    "print(FC(100))"
   ]
  },
  {
   "cell_type": "markdown",
   "metadata": {},
   "source": [
    "## Exercise 1\n",
    "\n",
    "Create the function $$f(x) = e^x - 10 cos(x) - 100$$ as a function (i.e. use the `def` keyword)\n",
    "\n",
    "    def name(parameters) :\n",
    "        operations on parameters\n",
    "        ...\n",
    "        ...\n",
    "        return (value, or null)\n",
    "\n",
    "Then apply your function to the value.\n",
    "\n",
    "Use your function to complete the table below:\n",
    "\n",
    "| x | f(x) |\n",
    "|---:|---:|\n",
    "| 0.0 | |\n",
    "| 1.50 | |\n",
    "| 2.00 | |\n",
    "| 2.25 | |\n",
    "| 3.0 | |\n",
    "| 4.25 | |\n"
   ]
  },
  {
   "cell_type": "code",
   "execution_count": null,
   "metadata": {
    "collapsed": false,
    "jupyter": {
     "outputs_hidden": false
    }
   },
   "outputs": [],
   "source": []
  },
  {
   "cell_type": "code",
   "execution_count": null,
   "metadata": {
    "collapsed": false,
    "jupyter": {
     "outputs_hidden": false
    }
   },
   "outputs": [],
   "source": []
  },
  {
   "cell_type": "markdown",
   "metadata": {},
   "source": [
    "## Example \n",
    "Use the plotting script and create a function that draws a straight line between two points."
   ]
  },
  {
   "cell_type": "code",
   "execution_count": 5,
   "metadata": {
    "collapsed": false,
    "jupyter": {
     "outputs_hidden": false
    }
   },
   "outputs": [],
   "source": [
    "def Line():\n",
    "    from matplotlib import pyplot as plt # import the plotting library from matplotlibplt.show()\n",
    "    x1 = input('Please enter x value for point 1')\n",
    "    y1 = input('Please enter y value for point 1')\n",
    "    x2 = input('Please enter x value for point 2')\n",
    "    y2 = input('Please enter y value for point 2')\n",
    "    xlist = [x1,x2]\n",
    "    ylist = [y1,y2]\n",
    "    plt.plot( xlist, ylist, color ='orange', marker ='*', linestyle ='solid') \n",
    "    #plt.title(strtitle)# add a title\n",
    "    plt.ylabel(\"Y-axis\")# add a label to the x and y-axes\n",
    "    plt.xlabel(\"X-axis\")\n",
    "    plt.show() # display the plot\n",
    "    return #null return\n"
   ]
  },
  {
   "cell_type": "code",
   "execution_count": 6,
   "metadata": {
    "cocalc": {
     "outputs": {
      "0": {
       "name": "input",
       "opts": {
        "password": false,
        "prompt": "Please enter x value for point 1"
       },
       "output_type": "stream",
       "value": "1"
      },
      "1": {
       "name": "input",
       "opts": {
        "password": false,
        "prompt": "Please enter y value for point 1"
       },
       "output_type": "stream"
      }
     }
    },
    "collapsed": false,
    "jupyter": {
     "outputs_hidden": false
    }
   },
   "outputs": [
    {
     "name": "stdin",
     "output_type": "stream",
     "text": [
      "Please enter x value for point 1 1\n",
      "Please enter y value for point 1 1\n",
      "Please enter x value for point 2 2\n",
      "Please enter y value for point 2 2\n"
     ]
    },
    {
     "data": {
      "image/png": "[encoded data removed]",
      "text/plain": [
       "<Figure size 432x288 with 1 Axes>"
      ]
     },
     "metadata": {
      "needs_background": "light"
     },
     "output_type": "display_data"
    }
   ],
   "source": [
    "Line()"
   ]
  },
  {
   "cell_type": "markdown",
   "metadata": {},
   "source": [
    "## Example- Lets have some fun! \n",
    "Copy the wrapper script for the `plotAline()` function, and modify the copy to create a plot of\n",
    "$$ x = 16sin^3(t) $$\n",
    "$$ y = 13cos(t) - 5cos(2t) - 2cos(3t) - cos(4t) $$\n",
    "for t raging from [0,2$\\Pi$] (inclusive).\n",
    "\n",
    "Label the plot and the plot axes.\n"
   ]
  },
  {
   "cell_type": "code",
   "execution_count": null,
   "metadata": {
    "collapsed": false,
    "jupyter": {
     "outputs_hidden": false
    }
   },
   "outputs": [],
   "source": [
    "from matplotlib import pyplot as plt # import the plotting library from matplotlibplt.show()\n",
    "import numpy as np # import NumPy: for large, multi-dimensional arrays and matrices, along with  high-level mathematical functions to operate on these arrays.\n",
    "pi = np.pi #pi value from the np package\n",
    "t= np.linspace(0,2*pi,360)# the NumPy function np.linspace is similar to the range()\n",
    "\n",
    "x = 16*np.sin(t)**3\n",
    "y = 13*np.cos(t) - 5*np.cos(2*t) - 2*np.cos(3*t) - np.cos(4*t)\n",
    "\n",
    "plt.plot( x, y, color ='purple', marker ='.', linestyle ='solid') \n",
    "plt.ylabel(\"Y-axis\")# add a label to the x and y-axes\n",
    "plt.xlabel(\"X-axis\")\n",
    "plt.axis('equal') #sets equal axis ratios\n",
    "plt.title(\"A Hopeless Romantic's Curve\")# add a title\n",
    "plt.show() # display the plot"
   ]
  },
  {
   "cell_type": "markdown",
   "metadata": {},
   "source": [
    "## Exercise 2\n",
    "Copy the wrapper script for the `plotAline()` function, and modify the copy to create a plot of\n",
    "$$ y = x^2 $$\n",
    "for x raging from 0 to 9 (inclusive) in steps of 1.\n",
    "\n",
    "Label the plot and the plot axes.\n"
   ]
  },
  {
   "cell_type": "code",
   "execution_count": null,
   "metadata": {
    "collapsed": false,
    "jupyter": {
     "outputs_hidden": false
    }
   },
   "outputs": [],
   "source": []
  },
  {
   "cell_type": "markdown",
   "metadata": {},
   "source": [
    "## Exercise 3 \n",
    "Use your function from Exercise 1. \n",
    "\n",
    "$$f(x) = e^x - 10 cos(x) - 100$$ \n",
    "\n",
    "And make a plot where $x$ ranges from 0 to 15 in increments of 0.25.  Label the plot and the plot axes."
   ]
  },
  {
   "cell_type": "code",
   "execution_count": null,
   "metadata": {},
   "outputs": [],
   "source": []
  },
  {
   "cell_type": "code",
   "execution_count": null,
   "metadata": {
    "collapsed": false,
    "jupyter": {
     "outputs_hidden": false
    }
   },
   "outputs": [],
   "source": []
  }
 ],
 "metadata": {
  "kernelspec": {
   "display_name": "Python 38",
   "language": "python",
   "name": "python38"
  },
  "language_info": {
   "codemirror_mode": {
    "name": "ipython",
    "version": 3
   },
   "file_extension": ".py",
   "mimetype": "text/x-python",
   "name": "python",
   "nbconvert_exporter": "python",
   "pygments_lexer": "ipython3",
   "version": "3.8.3"
  }
 },
 "nbformat": 4,
 "nbformat_minor": 4
}
