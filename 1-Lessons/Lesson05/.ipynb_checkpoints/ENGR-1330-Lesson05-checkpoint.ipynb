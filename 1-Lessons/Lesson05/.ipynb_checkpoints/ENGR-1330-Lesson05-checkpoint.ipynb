{
 "cells": [
  {
   "cell_type": "markdown",
   "metadata": {},
   "source": [
    "# ENGR 1330 Computational Thinking with Data Science \n",
    "Last GitHub Commit Date: 31 January 2021\n",
    "\n",
    "## Lesson 5 Functions: \n",
    "- Function definitions and uses\n",
    "- Built-in functions; External modules\n",
    "- User-Defined functions\n",
    "- Variable Scope; Function Scope\n",
    "\n",
    "---\n",
    "### Special Script Blocks"
   ]
  },
  {
   "cell_type": "code",
   "execution_count": 1,
   "metadata": {},
   "outputs": [
    {
     "data": {
      "text/html": [
       "<!-- Script Block to set tables to left alignment -->\n",
       "<style>\n",
       "  table {margin-left: 0 !important;}\n",
       "</style>\n"
      ],
      "text/plain": [
       "<IPython.core.display.HTML object>"
      ]
     },
     "metadata": {},
     "output_type": "display_data"
    }
   ],
   "source": [
    "%%html\n",
    "<!-- Script Block to set tables to left alignment -->\n",
    "<style>\n",
    "  table {margin-left: 0 !important;}\n",
    "</style>"
   ]
  },
  {
   "cell_type": "markdown",
   "metadata": {},
   "source": [
    "---\n",
    "## Objectives\n",
    "\n",
    "- To understand the role, types and usage of Functions.\n",
    "-  To understand and implement Functions in Python under various configurations.\n",
    "-  To understand the role and types of variable scopes.\n",
    "-  To understand and implement variable scopes in Python under various configurations.\n",
    " "
   ]
  },
  {
   "cell_type": "markdown",
   "metadata": {},
   "source": [
    "# Function\n",
    "Functions are simply pre-written code fragments that perform a certain task. In older procedural languages functions and subroutines are similar, but a function returns a value whereas a subroutine operates on data. The difference is subtle but important. \n",
    "\n",
    "More recent thinking has functions being able to operate on data (they always could) and the value returned may be simply an exit code. An analogy are the functions in *MS Excel*. To add numbers, we can use the sum(range) function and type `=sum(A1:A5)` instead of typing `=A1+A2+A3+A4+A5`\n",
    "\n",
    "**Computational thinking (CT)** concepts involved are:\n",
    "\n",
    "- `Decomposition` : Break a problem down into smaller pieces; the function can be a single piece, that is built tested and completely reliable, able to be used when needed.\n",
    "- `Abstraction` : Pulling out specific differences to make one solution work for multiple problems;\n",
    "- `Algorithms` : A list of steps that you can follow to finish a task;\n",
    "\n",
    "## Special Notes for ENGR 1330\n",
    "1. This notebook has graphics dependencies, remember to download the three .png files included in the web directory, if you want the images\n",
    "2. There is a python module dependency on a separate file named `mylibrary.py`, as with the .png files download this file to run this notebook without errors.  If you forget, its easy enough to create in realtime and that will be demonstrated below.\n",
    "\n",
    "## Calling the Function\n",
    "We call a function simply by typing the name of the function or by using the dot notation.\n",
    "Whether we can use the dot notation or not depends on how the function is written, whether it is part of a class, and how it is imported into a program.\n",
    "\n",
    "Some functions expect us to pass data to them to perform their tasks. \n",
    "These data are known as parameters( older terminology is arguments, or argument list) and we pass them to the function by enclosing their values in parenthesis ( ) separated by commas. \n",
    "\n",
    "For instance, the `print()` function for displaying text on the screen is \\called\" by typing `print('Hello World')` where print is the name of the function and the literal (a string) 'Hello World' is the argument.\n",
    "\n",
    "## Program flow\n",
    "A function, whether built-in, or added must be defined *before* it is called, otherwise the script will fail.  Certain built-in functions \"self define\" upon start (such as `print()` and `type()` and we need not worry about those funtions).  The diagram below illustrates the requesite flow control for functions that need to be defined before use.\n",
    "\n",
    "![](flow-control-diagram.png)\n",
    "\n",
    "An example below  will illustrate, change the cell to code and run it, you should get an error.\n",
    "Then fix the indicated line (remove the leading \"#\" in the import math ... line) and rerun, should get a functioning script."
   ]
  },
  {
   "cell_type": "code",
   "execution_count": 2,
   "metadata": {
    "collapsed": false,
    "jupyter": {
     "outputs_hidden": false
    }
   },
   "outputs": [
    {
     "name": "stdout",
     "output_type": "stream",
     "text": [
      "Using arithmetic square root of  4.0  is  2.0\n"
     ]
    },
    {
     "ename": "NameError",
     "evalue": "name 'math' is not defined",
     "output_type": "error",
     "traceback": [
      "\u001b[0;31m---------------------------------------------------------------------------\u001b[0m",
      "\u001b[0;31mNameError\u001b[0m                                 Traceback (most recent call last)",
      "\u001b[0;32m<ipython-input-2-a9bb754eacfd>\u001b[0m in \u001b[0;36m<module>\u001b[0;34m\u001b[0m\n\u001b[1;32m      6\u001b[0m \u001b[0mprint\u001b[0m\u001b[0;34m(\u001b[0m\u001b[0;34m'Using arithmetic square root of '\u001b[0m\u001b[0;34m,\u001b[0m \u001b[0mx\u001b[0m\u001b[0;34m,\u001b[0m \u001b[0;34m' is '\u001b[0m\u001b[0;34m,\u001b[0m\u001b[0msqrt_by_arithmetic\u001b[0m \u001b[0;34m)\u001b[0m\u001b[0;34m\u001b[0m\u001b[0;34m\u001b[0m\u001b[0m\n\u001b[1;32m      7\u001b[0m \u001b[0;31m#import math # import the math package ## activate and rerun\u001b[0m\u001b[0;34m\u001b[0m\u001b[0;34m\u001b[0m\u001b[0;34m\u001b[0m\u001b[0m\n\u001b[0;32m----> 8\u001b[0;31m \u001b[0msqrt_by_math\u001b[0m \u001b[0;34m=\u001b[0m \u001b[0mmath\u001b[0m\u001b[0;34m.\u001b[0m\u001b[0msqrt\u001b[0m\u001b[0;34m(\u001b[0m\u001b[0mx\u001b[0m\u001b[0;34m)\u001b[0m  \u001b[0;31m# note the dot notation\u001b[0m\u001b[0;34m\u001b[0m\u001b[0;34m\u001b[0m\u001b[0m\n\u001b[0m\u001b[1;32m      9\u001b[0m \u001b[0mprint\u001b[0m\u001b[0;34m(\u001b[0m\u001b[0;34m'Using math package square root of '\u001b[0m\u001b[0;34m,\u001b[0m  \u001b[0mx\u001b[0m\u001b[0;34m,\u001b[0m\u001b[0;34m' is '\u001b[0m\u001b[0;34m,\u001b[0m\u001b[0msqrt_by_arithmetic\u001b[0m\u001b[0;34m)\u001b[0m\u001b[0;34m\u001b[0m\u001b[0;34m\u001b[0m\u001b[0m\n",
      "\u001b[0;31mNameError\u001b[0m: name 'math' is not defined"
     ]
    }
   ],
   "source": [
    "# reset the notebook using a magic function in JupyterLab\n",
    "%reset -f \n",
    "# An example, run once as is then activate indicated line, run again - what happens?\n",
    "x= 4.\n",
    "sqrt_by_arithmetic = x**0.5\n",
    "print('Using arithmetic square root of ', x, ' is ',sqrt_by_arithmetic )\n",
    "#import math # import the math package ## activate and rerun\n",
    "sqrt_by_math = math.sqrt(x)  # note the dot notation\n",
    "print('Using math package square root of ',  x,' is ',sqrt_by_arithmetic)"
   ]
  },
  {
   "cell_type": "markdown",
   "metadata": {},
   "source": [
    "An alternate way to load just the sqrt() function is shown below, either way is fine."
   ]
  },
  {
   "cell_type": "code",
   "execution_count": 3,
   "metadata": {
    "collapsed": false,
    "jupyter": {
     "outputs_hidden": false
    }
   },
   "outputs": [
    {
     "name": "stdout",
     "output_type": "stream",
     "text": [
      "Using arithmetic square root of  4.0  is  2.0\n",
      "Using math package square root of  4.0  is  2.0\n"
     ]
    }
   ],
   "source": [
    "# reset the notebook using a magic function in JupyterLab\n",
    "%reset -f \n",
    "# An example, run once as is then activate indicated line, run again - what happens?\n",
    "x= 4.\n",
    "sqrt_by_arithmetic = x**0.5\n",
    "print('Using arithmetic square root of ', x, ' is ',sqrt_by_arithmetic )\n",
    "from math import sqrt # import sqrt from the math package ## activate and rerun\n",
    "sqrt_by_math = sqrt(x)  # note the notation\n",
    "print('Using math package square root of ',  x,' is ',sqrt_by_arithmetic)"
   ]
  },
  {
   "cell_type": "markdown",
   "metadata": {},
   "source": [
    "## Built-In in Primitive Python (Base install)\n",
    "\n",
    "The base Python functions and types built into it that are always available, the figure below lists those functions.\n",
    "\n",
    "![](base-functions.png)\n",
    "\n",
    "Notice all have the structure of `function_name()`, except `__import__()` which has a constructor type structure, and is not intended for routine use.  We will learn about constructors later.\n"
   ]
  },
  {
   "cell_type": "markdown",
   "metadata": {},
   "source": [
    "## Added-In using External Packages/Modules and Libaries (e.g. math)\n",
    "\n",
    "Python is also distributed with a large number of external functions. \n",
    "These functions are saved\n",
    "in files known as modules. \n",
    "To use the built-in codes in Python modules, we have to import\n",
    "them into our programs first. We do that by using the import keyword. \n",
    "There are three\n",
    "ways to import:\n",
    "1. Import the entire module by writing import moduleName; For instance, to import the random module, we write import random. To use the randrange() function in the random module, we write random.randrange( 1, 10);28\n",
    "2. Import and rename the module by writing import random as r (where r is any name of your choice). Now to use the randrange() function, you simply write r.randrange(1, 10); and\n",
    "3. Import specific functions from the module by writing from moduleName import name1[,name2[, ... nameN]]. For instance, to import the randrange() function from the random module, we write from random import randrange. To import multiple functions, we separate them with a comma. To import the randrange() and randint() functions, we write from random import randrange, randint. To use the function now, we do not have to use the dot notation anymore. Just write randrange( 1, 10)."
   ]
  },
  {
   "cell_type": "code",
   "execution_count": 4,
   "metadata": {
    "collapsed": false,
    "jupyter": {
     "outputs_hidden": false
    }
   },
   "outputs": [
    {
     "data": {
      "text/plain": [
       "3"
      ]
     },
     "execution_count": 4,
     "metadata": {},
     "output_type": "execute_result"
    }
   ],
   "source": [
    "# Example 1 of import\n",
    "%reset -f \n",
    "import random\n",
    "low = 1 ; high = 10\n",
    "random.randrange(low,high) #generate random number in range low to high"
   ]
  },
  {
   "cell_type": "code",
   "execution_count": 5,
   "metadata": {
    "collapsed": false,
    "jupyter": {
     "outputs_hidden": false
    }
   },
   "outputs": [
    {
     "data": {
      "text/plain": [
       "7"
      ]
     },
     "execution_count": 5,
     "metadata": {},
     "output_type": "execute_result"
    }
   ],
   "source": [
    "# Example 2 of import\n",
    "%reset -f \n",
    "import random as r\n",
    "low = 1 ; high = 10\n",
    "r.randrange(low,high)"
   ]
  },
  {
   "cell_type": "code",
   "execution_count": 6,
   "metadata": {
    "collapsed": false,
    "jupyter": {
     "outputs_hidden": false
    }
   },
   "outputs": [
    {
     "data": {
      "text/plain": [
       "6"
      ]
     },
     "execution_count": 6,
     "metadata": {},
     "output_type": "execute_result"
    }
   ],
   "source": [
    "# Example 3 of import\n",
    "%reset -f \n",
    "from random import randrange \n",
    "low = 1 ; high = 10\n",
    "randrange(low,high)"
   ]
  },
  {
   "cell_type": "markdown",
   "metadata": {},
   "source": [
    "The modules that come with Python are extensive and listed at \n",
    "https://docs.python.org/3/py-modindex.html.\n",
    "There are also other modules that can be downloaded and used\n",
    "(just like user defined modules below). \n",
    "In these labs we are building primitive codes to learn how to code and how to create algorithms. \n",
    "For many practical cases you will want to load a well-tested package to accomplish the tasks. \n",
    "\n",
    "That exercise is saved for the end of the document.\n",
    "\n",
    "## User-Built \n",
    "We can define our own functions in Python and reuse them throughout the program.\n",
    "The syntax for defining a function is:\n",
    "\n",
    "    def functionName( argument ):\n",
    "        code detailing what the function should do\n",
    "        note the colon above and indentation\n",
    "        ...\n",
    "        ...\n",
    "        return [expression]\n",
    "        \n",
    "The keyword `def` tells the program that the indented code from the next line onwards is\n",
    "part of the function. \n",
    "The keyword `return `tells the program to return an answer from the\n",
    "function. \n",
    "There can be multiple return statements in a function. \n",
    "Once the function executes\n",
    "a return statement, the program exits the function and continues with *its* next executable\n",
    "statement. \n",
    "If the function does not need to return any value, you can omit the return\n",
    "statement.\n",
    "\n",
    "Functions can be pretty elaborate; they can search for things in a list, determine variable\n",
    "types, open and close files, read and write to files. \n",
    "\n",
    "To get started we will build a few really\n",
    "simple mathematical functions; we will need this skill in the future anyway, especially in\n",
    "scientific programming contexts."
   ]
  },
  {
   "cell_type": "markdown",
   "metadata": {},
   "source": [
    "### User-built within a Code Block\n",
    "For our first function we will code $$f(x) = x\\sqrt{1 + x}$$ into a function named `dusty()`.\n",
    "\n",
    "When you run the next cell, all it does is prototype the function (defines it), nothing happens until we use the function."
   ]
  },
  {
   "cell_type": "code",
   "execution_count": 7,
   "metadata": {
    "collapsed": false,
    "jupyter": {
     "outputs_hidden": false
    }
   },
   "outputs": [],
   "source": [
    "def dusty(x) :\n",
    "    temp = x * ((1.0+x)**(0.5)) # don't need the math package\n",
    "    return temp\n",
    "# the function should make the evaluation\n",
    "# store in the local variable temp\n",
    "# return contents of temp"
   ]
  },
  {
   "cell_type": "code",
   "execution_count": null,
   "metadata": {
    "collapsed": false,
    "jupyter": {
     "outputs_hidden": false
    }
   },
   "outputs": [],
   "source": []
  },
  {
   "cell_type": "code",
   "execution_count": 8,
   "metadata": {
    "cocalc": {
     "outputs": {
      "0": {
       "name": "input",
       "opts": {
        "password": false,
        "prompt": "enter a numeric value"
       },
       "output_type": "stream",
       "value": "0"
      }
     }
    },
    "collapsed": false,
    "jupyter": {
     "outputs_hidden": false
    }
   },
   "outputs": [
    {
     "name": "stdin",
     "output_type": "stream",
     "text": [
      "enter a numeric value 3\n"
     ]
    },
    {
     "name": "stdout",
     "output_type": "stream",
     "text": [
      "f( 3.0 ) =  6.0\n"
     ]
    }
   ],
   "source": [
    "# wrapper to run the dusty function\n",
    "yes = 0\n",
    "while yes == 0:\n",
    "    xvalue = input('enter a numeric value')\n",
    "    try:\n",
    "        xvalue = float(xvalue)\n",
    "        yes = 1\n",
    "    except:\n",
    "        print('enter a bloody number! Try again \\n')\n",
    "# call the function, get value , write output\n",
    "yvalue = dusty(xvalue)\n",
    "print('f(',xvalue,') = ',yvalue) # and we are done "
   ]
  },
  {
   "cell_type": "markdown",
   "metadata": {},
   "source": [
    "## Example\n",
    "\n",
    "Create a Fahrenhiet to Celsius converter and test it for these values:\n",
    "\n",
    "- 32\n",
    "- 15\n",
    "- 100\n",
    "\n",
    "*hint: Formula-(°F − 32) × 5/9 = °C\n",
    "\n",
    "### Problem Solving Process\n",
    "\n",
    "#### Step 1\n",
    "Define the problem (problem statement):\n",
    "- Create a tool to convert Fahrenhiet to Celsius\n",
    "\n",
    "#### Step 2\n",
    "Gather information (identify known and unknown values, and governing equations)\n",
    "- Known: Input in F\n",
    "- Unknown: Output in C\n",
    "- Governing Principles: *Formula: (°F − 32) × 5/9 = °C*\n",
    "\n",
    "#### Step 3\n",
    "Generate and evaluate potential solutions\n",
    "- -40F = -40C\n",
    "- 32F = 0C\n",
    "- 212F = 100C"
   ]
  },
  {
   "cell_type": "markdown",
   "metadata": {},
   "source": [
    "#### Step 4\n",
    "Refine and implement a solution\n",
    "1. Create function to evaluate input and produce output"
   ]
  },
  {
   "cell_type": "code",
   "execution_count": 9,
   "metadata": {},
   "outputs": [],
   "source": [
    "def FC(x) : # convert F to C\n",
    "    C = (x - 32)*5/9\n",
    "    return C"
   ]
  },
  {
   "cell_type": "markdown",
   "metadata": {},
   "source": [
    "2. Create wrapper to prompt for input, execute function, label output"
   ]
  },
  {
   "cell_type": "code",
   "execution_count": 10,
   "metadata": {
    "collapsed": false,
    "jupyter": {
     "outputs_hidden": false
    }
   },
   "outputs": [
    {
     "name": "stdout",
     "output_type": "stream",
     "text": [
      "37.22222222222222\n"
     ]
    }
   ],
   "source": [
    "print(FC(99))"
   ]
  },
  {
   "cell_type": "markdown",
   "metadata": {},
   "source": [
    "#### Step 5\n",
    "Verify and test the solution."
   ]
  },
  {
   "cell_type": "code",
   "execution_count": 11,
   "metadata": {},
   "outputs": [
    {
     "name": "stdout",
     "output_type": "stream",
     "text": [
      "-40.0\n"
     ]
    }
   ],
   "source": [
    "print(FC(-40))"
   ]
  },
  {
   "cell_type": "code",
   "execution_count": 12,
   "metadata": {},
   "outputs": [
    {
     "name": "stdout",
     "output_type": "stream",
     "text": [
      "0.0\n"
     ]
    }
   ],
   "source": [
    "print(FC(32))"
   ]
  },
  {
   "cell_type": "code",
   "execution_count": 13,
   "metadata": {},
   "outputs": [
    {
     "name": "stdout",
     "output_type": "stream",
     "text": [
      "100.0\n"
     ]
    }
   ],
   "source": [
    "print(FC(212))"
   ]
  },
  {
   "cell_type": "markdown",
   "metadata": {},
   "source": [
    "#### Step 6\n",
    "Refine to be useful\n",
    "- Modify the wrapper to be interactive"
   ]
  },
  {
   "cell_type": "code",
   "execution_count": 14,
   "metadata": {},
   "outputs": [
    {
     "name": "stdin",
     "output_type": "stream",
     "text": [
      "Enter a temperature in Fairyheight -40\n"
     ]
    },
    {
     "name": "stdout",
     "output_type": "stream",
     "text": [
      "Temp:  -40.0 F =  -40.0  C\n"
     ]
    }
   ],
   "source": [
    "def F2C(x) : # convert F to C\n",
    "    C = (x - 32)*5/9\n",
    "    return C\n",
    "# wrapper to run the F2C function\n",
    "yes = 0\n",
    "while yes == 0:\n",
    "    xvalue = input('Enter a temperature in Fairyheight')\n",
    "    try:\n",
    "        xvalue = float(xvalue)\n",
    "        yes = 1\n",
    "    except:\n",
    "        print('Enter a bloody number! Try again \\n')\n",
    "# call the function, get value , write output\n",
    "yvalue = F2C(xvalue)\n",
    "print('Temp: ',xvalue,'F = ',yvalue,' C') # and we are done "
   ]
  },
  {
   "cell_type": "markdown",
   "metadata": {},
   "source": [
    "## Variable Scope\n",
    "An important concept when defining a function is the concept of variable scope. \n",
    "Variables defined inside a function are treated differently from variables defined outside. \n",
    "Firstly, any variable declared within a function is only accessible within the function. \n",
    "These are known as local variables. \n",
    "\n",
    "In the `dusty()` function, the variables `x` and `temp` are local to the function.\n",
    "Any variable declared outside a function in a main program is known as a program variable\n",
    "and is accessible anywhere in the program. \n",
    "\n",
    "In the example, the variables `xvalue` and `yvalue` are program variables (global to the program; if they are addressed within a function, they could be operated on.)\n",
    "Generally we want to protect the program variables from the function unless the intent is to change their values. \n",
    "The way the function is written in the example, the function cannot damage `xvalue` or `yvalue`.\n",
    "\n",
    "If a local variable shares the same name as a program variable, any code inside the function is\n",
    "accessing the local variable. Any code outside is accessing the program variable"
   ]
  },
  {
   "cell_type": "markdown",
   "metadata": {},
   "source": [
    "### As Separate Module/File\n",
    "\n",
    "In this section we will invent the `neko()` function, export it to a file, so we can reuse it in later notebooks without having to retype or cut-and-paste. The `neko()` function evaluates:\n",
    "\n",
    "$$f(x) = x\\sqrt{|(1 + x)|}$$\n",
    "\n",
    "Its the same as the dusty() function, except operates on the absolute value in the wadical.\n",
    "\n",
    "1. Create a text file named \"mylibrary.txt\"\n",
    "2. Copy the neko() function script below into that file.\n",
    "\n",
    "        def neko(input_argument) :\n",
    "            import math #ok to import into a function\n",
    "            local_variable = input_argument * math.sqrt(abs(1.0+input_argument))\n",
    "            return local_variable\n",
    "\n",
    "\n",
    "4. rename mylibrary.txt to mylibrary.py\n",
    "5. modify the wrapper script to use the neko function as an external module"
   ]
  },
  {
   "cell_type": "code",
   "execution_count": 15,
   "metadata": {
    "cocalc": {
     "outputs": {
      "0": {
       "name": "input",
       "opts": {
        "password": false,
        "prompt": "enter a numeric value"
       },
       "output_type": "stream",
       "value": "2.2"
      }
     }
    },
    "collapsed": false,
    "jupyter": {
     "outputs_hidden": false
    }
   },
   "outputs": [
    {
     "name": "stdin",
     "output_type": "stream",
     "text": [
      "enter a numeric value 2\n"
     ]
    },
    {
     "name": "stdout",
     "output_type": "stream",
     "text": [
      "f( 2.0 ) =  3.4641016151377544\n"
     ]
    }
   ],
   "source": [
    "# wrapper to run the neko function\n",
    "import mylibrary\n",
    "yes = 0\n",
    "while yes == 0:\n",
    "    xvalue = input('enter a numeric value')\n",
    "    try:\n",
    "        xvalue = float(xvalue)\n",
    "        yes = 1\n",
    "    except:\n",
    "        print('enter a bloody number! Try again \\n')\n",
    "# call the function, get value , write output\n",
    "yvalue = mylibrary.neko(xvalue)\n",
    "print('f(',xvalue,') = ',yvalue) # and we are done "
   ]
  },
  {
   "cell_type": "markdown",
   "metadata": {},
   "source": [
    "In JupyterHub environments, you may discover that changes you make to your external python file are not reflected when you re-run your script; you need to restart the kernel to get the changes to actually update. The figure below depicts the notebook, external file relatonship\n",
    "\n",
    "![](external-file-import.png)\n",
    "\n",
    "\n",
    "* Future version - explain absolute path"
   ]
  },
  {
   "cell_type": "markdown",
   "metadata": {},
   "source": [
    "## Rudimentary Graphics\n",
    "\n",
    "Graphing values is part of the broader field of data visualization, which has two main\n",
    "goals:\n",
    "\n",
    "   1. To explore data, and\n",
    "   2. To communicate data.\n",
    "\n",
    "In this subsection we will concentrate on introducing skills to start exploring data and to\n",
    "produce meaningful visualizations we can use throughout the rest of this notebook. \n",
    "Data visualization is a rich field of study that fills entire books.\n",
    "The reason to start visualization here instead of elsewhere is that with functions plotting\n",
    "is a natural activity and we have to import the matplotlib module to make the plots.\n",
    "\n",
    "The example below is code adapted from Grus (2015) that illustrates simple generic\n",
    "plots. I added a single line (label the x-axis), and corrected some transcription\n",
    "errors (not the original author's mistake, just the consequence of how the API handled the\n",
    "cut-and-paste), but otherwise the code is unchanged."
   ]
  },
  {
   "cell_type": "code",
   "execution_count": 16,
   "metadata": {
    "collapsed": false,
    "jupyter": {
     "outputs_hidden": false
    }
   },
   "outputs": [
    {
     "data": {
      "image/png": "[encoded data removed]",
      "text/plain": [
       "<Figure size 432x288 with 1 Axes>"
      ]
     },
     "metadata": {
      "needs_background": "light"
     },
     "output_type": "display_data"
    }
   ],
   "source": [
    "# python script to illustrate plotting\n",
    "# CODE BELOW IS ADAPTED FROM:\n",
    "# Grus, Joel (2015-04-14). Data Science from Scratch: First Principles with Python\n",
    "# (Kindle Locations 1190-1191). O'Reilly Media. Kindle Edition. \n",
    "#\n",
    "from matplotlib import pyplot as plt # import the plotting library from matplotlibplt.show()\n",
    "\n",
    "years = [1950, 1960, 1970, 1980, 1990, 2000, 2010]  # define one list for years\n",
    "gdp = [300.2, 543.3, 1075.9, 2862.5, 5979.6, 10289.7, 14958.3] # and another one for Gross Domestic Product (GDP)\n",
    "plt.plot( years, gdp, color ='green', marker ='o', linestyle ='solid') # create a line chart, years on x-axis, gdp on y-axis\n",
    "                                                                       # what if \"^\", \"P\", \"*\" for marker?\n",
    "                                                                       # what if \"red\" for color?  \n",
    "                                                                       # what if \"dashdot\", '--' for linestyle?  \n",
    "\n",
    "\n",
    "plt.title(\"Nominal GDP\")# add a title\n",
    "plt.ylabel(\"Billions of $\")# add a label to the x and y-axes\n",
    "plt.xlabel(\"Year\")\n",
    "plt.show() # display the plot"
   ]
  },
  {
   "cell_type": "markdown",
   "metadata": {},
   "source": [
    "Now lets put the plotting script into a function so we can make line charts of any two numeric lists"
   ]
  },
  {
   "cell_type": "code",
   "execution_count": 17,
   "metadata": {
    "collapsed": false,
    "jupyter": {
     "outputs_hidden": false
    }
   },
   "outputs": [],
   "source": [
    "def plotAline(list1,list2,strx,stry,strtitle): # plot list1 on x, list2 on y, xlabel, ylabel, title\n",
    "    from matplotlib import pyplot as plt # import the plotting library from matplotlibplt.show()\n",
    "    plt.plot( list1, list2, color ='green', marker ='o', linestyle ='solid') # create a line chart, years on x-axis, gdp on y-axis\n",
    "    plt.title(strtitle)# add a title\n",
    "    plt.ylabel(stry)# add a label to the x and y-axes\n",
    "    plt.xlabel(strx)\n",
    "    plt.show() # display the plot\n",
    "    return #null return"
   ]
  },
  {
   "cell_type": "code",
   "execution_count": 18,
   "metadata": {
    "collapsed": false,
    "jupyter": {
     "outputs_hidden": false
    }
   },
   "outputs": [
    {
     "name": "stdout",
     "output_type": "stream",
     "text": [
      "<class 'int'>\n",
      "<class 'float'>\n"
     ]
    },
    {
     "data": {
      "image/png": "[encoded data removed]",
      "text/plain": [
       "<Figure size 432x288 with 1 Axes>"
      ]
     },
     "metadata": {
      "needs_background": "light"
     },
     "output_type": "display_data"
    }
   ],
   "source": [
    "# wrapper\n",
    "years = [1950, 1960, 1970, 1980, 1990, 2000, 2010]  # define two lists years and gdp\n",
    "gdp = [300.2, 543.3, 1075.9, 2862.5, 5979.6, 10289.7, 14958.3]\n",
    "print(type(years[0]))\n",
    "print(type(gdp[0]))\n",
    "plotAline(years,gdp,\"Year\",\"Billions of $\",\"Nominal GDP\")"
   ]
  },
  {
   "cell_type": "markdown",
   "metadata": {},
   "source": [
    "## Example \n",
    "Use the plotting script and create a function that draws a straight line between two points."
   ]
  },
  {
   "cell_type": "code",
   "execution_count": 19,
   "metadata": {
    "collapsed": false,
    "jupyter": {
     "outputs_hidden": false
    }
   },
   "outputs": [],
   "source": [
    "def Line():\n",
    "    from matplotlib import pyplot as plt # import the plotting library from matplotlibplt.show()\n",
    "    x1 = input('Please enter x value for point 1')\n",
    "    y1 = input('Please enter y value for point 1')\n",
    "    x2 = input('Please enter x value for point 2')\n",
    "    y2 = input('Please enter y value for point 2')\n",
    "    xlist = [x1,x2]\n",
    "    ylist = [y1,y2]\n",
    "    plt.plot( xlist, ylist, color ='orange', marker ='*', linestyle ='solid') \n",
    "    #plt.title(strtitle)# add a title\n",
    "    plt.ylabel(\"Y-axis\")# add a label to the x and y-axes\n",
    "    plt.xlabel(\"X-axis\")\n",
    "    plt.show() # display the plot\n",
    "    return #null return"
   ]
  },
  {
   "cell_type": "code",
   "execution_count": 20,
   "metadata": {
    "cocalc": {
     "outputs": {
      "0": {
       "name": "input",
       "opts": {
        "password": false,
        "prompt": "Please enter x value for point 1"
       },
       "output_type": "stream",
       "value": "1"
      },
      "1": {
       "name": "input",
       "opts": {
        "password": false,
        "prompt": "Please enter y value for point 1"
       },
       "output_type": "stream",
       "value": ""
      }
     }
    },
    "collapsed": false,
    "jupyter": {
     "outputs_hidden": false
    }
   },
   "outputs": [
    {
     "name": "stdin",
     "output_type": "stream",
     "text": [
      "Please enter x value for point 1 0\n",
      "Please enter y value for point 1 0\n",
      "Please enter x value for point 2 24\n",
      "Please enter y value for point 2 12\n"
     ]
    },
    {
     "data": {
      "image/png": "[encoded data removed]",
      "text/plain": [
       "<Figure size 432x288 with 1 Axes>"
      ]
     },
     "metadata": {
      "needs_background": "light"
     },
     "output_type": "display_data"
    }
   ],
   "source": [
    "Line()"
   ]
  },
  {
   "cell_type": "markdown",
   "metadata": {},
   "source": [
    "## References\n",
    "\n",
    "1. Grus, Joel (2015-04-14). Data Science from Scratch: First Principles with Python\n",
    "(Kindle Locations 1190-1191). O'Reilly Media. Kindle Edition. \n",
    "\n",
    "2. Call Expressions in \"Adhikari, A. and DeNero, J. Computational and Inferential Thinking The Foundations of Data Science\" https://www.inferentialthinking.com/chapters/03/3/Calls.html\n",
    "\n",
    "3. Functions and Tables in \"Adhikari, A. and DeNero, J. Computational and Inferential Thinking The Foundations of Data Science\" https://www.inferentialthinking.com/chapters/08/Functions_and_Tables.html\n",
    "\n",
    "4. Visualization in \"Adhikari, A. and DeNero, J. Computational and Inferential Thinking The Foundations of Data Science\" https://www.inferentialthinking.com/chapters/07/Visualization.html\n",
    "\n",
    "5. Documentation; The Python Standard Library; 9. Numeric and Mathematical Modules https://docs.python.org/2/library/math.html\n",
    "\n",
    "6. Code.org; Chris Bosh of Miami Heat and Jess Lee CEO of Polyvore. Let's use code to join Anna and Elsa as they explore the magic and beauty of ice. https://youtu.be/0eo0ESEX9DE\n",
    "\n",
    "7. ENGR-1330 Functions and Variable Scope (Fall 2020) https://3.137.111.182/engr-1330-webroot/1-Lessons/Lesson05/OriginalPowerpoint/PythonFunctions-VariableScope-ENGR1330-CTwithDS.pdf"
   ]
  },
  {
   "cell_type": "code",
   "execution_count": 21,
   "metadata": {},
   "outputs": [
    {
     "name": "stdout",
     "output_type": "stream",
     "text": [
      "ip-172-26-4-2\n",
      "compthink\n",
      "/opt/jupyterhub/bin/python3\n",
      "3.8.5 (default, Jul 28 2020, 12:59:40) \n",
      "[GCC 9.3.0]\n",
      "sys.version_info(major=3, minor=8, micro=5, releaselevel='final', serial=0)\n"
     ]
    }
   ],
   "source": [
    "import sys\n",
    "! hostname\n",
    "! whoami\n",
    "print(sys.executable)\n",
    "print(sys.version)\n",
    "print(sys.version_info)"
   ]
  },
  {
   "cell_type": "code",
   "execution_count": null,
   "metadata": {},
   "outputs": [],
   "source": []
  }
 ],
 "metadata": {
  "kernelspec": {
   "display_name": "Python 3",
   "language": "python",
   "name": "python3"
  },
  "language_info": {
   "codemirror_mode": {
    "name": "ipython",
    "version": 3
   },
   "file_extension": ".py",
   "mimetype": "text/x-python",
   "name": "python",
   "nbconvert_exporter": "python",
   "pygments_lexer": "ipython3",
   "version": "3.8.5"
  }
 },
 "nbformat": 4,
 "nbformat_minor": 4
}
