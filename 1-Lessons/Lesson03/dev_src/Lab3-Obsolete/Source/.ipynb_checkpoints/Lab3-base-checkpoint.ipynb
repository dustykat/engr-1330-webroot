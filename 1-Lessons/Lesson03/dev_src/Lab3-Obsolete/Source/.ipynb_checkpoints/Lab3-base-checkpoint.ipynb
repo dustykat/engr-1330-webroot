{
 "cells": [
  {
   "cell_type": "markdown",
   "metadata": {},
   "source": [
    "## Lab session for 1) data structures in Python and 2) conditional statements in Python"
   ]
  },
  {
   "cell_type": "markdown",
   "metadata": {},
   "source": [
    "### 1) Data structures"
   ]
  },
  {
   "cell_type": "markdown",
   "metadata": {},
   "source": [
    "#### Exercise-1: For the list given below, index and pick all the elements from index positions 3 to 10. Then, calculate the sum and the length of the elements from index positions 3 to 7. Print the sliced list and the values of the sum and the sliced list.\n",
    "\n",
    "**[22, 45, 54, 87, 10, 97, 88, 75, 99, 11, 19, 39, 47, 81, 84]**"
   ]
  },
  {
   "cell_type": "code",
   "execution_count": 28,
   "metadata": {},
   "outputs": [
    {
     "name": "stdout",
     "output_type": "stream",
     "text": [
      "Sliced_list:  [87, 10, 97, 88, 75, 99, 11, 19]\n",
      "Sum:  486\n",
      "Length:  8\n"
     ]
    }
   ],
   "source": [
    "ylist2 = [22, 45, 54, 87, 10, 97, 88, 75, 99, 11, 19, 39, 47, 81, 84]\n",
    "\n",
    "myslicelist2 = mylist2[3:11]\n",
    "print(\"Sliced_list: \", myslicelist2)\n",
    "\n",
    "mysum = sum(myslicelist2)\n",
    "print(\"Sum: \", mysum)\n",
    "\n",
    "mylength = len(myslicelist2)\n",
    "print(\"Length: \", mylength)"
   ]
  },
  {
   "cell_type": "markdown",
   "metadata": {},
   "source": [
    "#### Exercise-2: From the list given below, remove the element at the index position 4 and add it to the 2nd position and also, add it at the end of the list.  Print the original list and also the list after each step of altering the list elements.\n",
    "\n",
    "**['Bob', 44, 27, 'Joe', 91, 41, 54.555]**"
   ]
  },
  {
   "cell_type": "code",
   "execution_count": 29,
   "metadata": {},
   "outputs": [
    {
     "name": "stdout",
     "output_type": "stream",
     "text": [
      "Original list:  ['Bob', 44, 91, 27, 'Joe', 41, 54.555, 91]\n",
      "List After removing element at index 4:  ['Bob', 44, 27, 'Joe', 41, 54.555]\n",
      "List after Adding element at index 2:  ['Bob', 44, 91, 27, 'Joe', 41, 54.555]\n",
      "List after Adding element at last:  ['Bob', 44, 91, 27, 'Joe', 41, 54.555]\n"
     ]
    }
   ],
   "source": [
    "mylist1 = ['Bob', 44, 27, 'Joe', 91, 41, 54.555]\n",
    "print(\"Original list: \",mylist)\n",
    "\n",
    "element = mylist1.pop(4)\n",
    "print(\"List After removing element at index 4: \",mylist1)\n",
    "\n",
    "mylist1.insert(2, element)\n",
    "print(\"List after Adding element at index 2: \",mylist1)\n",
    "\n",
    "mylist.append(element)\n",
    "print(\"List after Adding element at last: \",mylist1)"
   ]
  },
  {
   "cell_type": "markdown",
   "metadata": {},
   "source": [
    "#### Exercise-3: From the nested dictionary given below, index and pick the string 'hello'. \n",
    "\n",
    "**{'k1':[1,2,3,{'tricky':['oh','man','inception',{'target':[1,2,3,'hello']}]}]}**"
   ]
  },
  {
   "cell_type": "code",
   "execution_count": 31,
   "metadata": {},
   "outputs": [
    {
     "data": {
      "text/plain": [
       "'hello'"
      ]
     },
     "execution_count": 31,
     "metadata": {},
     "output_type": "execute_result"
    }
   ],
   "source": [
    "mydict = {'k1':[1,2,3,{'tricky':['oh','man','inception',{'target':[1,2,3,'hello']}]}]}\n",
    "\n",
    "mydict['k1'][3]['tricky'][3]['target'][3]"
   ]
  },
  {
   "cell_type": "markdown",
   "metadata": {},
   "source": [
    "### 2) Conditional statements"
   ]
  },
  {
   "cell_type": "markdown",
   "metadata": {},
   "source": [
    "#### Exercise-4: A student will not be allowed to sit in exam if his/her attendence is less than 75%. Take the following inputs from the user: (a) Number of classes held and (b) Number of classes attended. Print percentage of class attended based on which, you can decide whether the student will be allowed to sit in the exam or not.\n",
    "\n",
    "$$Percentage\\, of\\, class\\, attended = \\frac{Number\\, of\\, classes\\, attended}{Number\\, of\\, classes\\, held}*100$$"
   ]
  },
  {
   "cell_type": "code",
   "execution_count": 19,
   "metadata": {},
   "outputs": [
    {
     "name": "stdout",
     "output_type": "stream",
     "text": [
      "Attendance: 64.0\n",
      "Not allowed to sit in exam\n"
     ]
    }
   ],
   "source": [
    "nc_held = 50\n",
    "nc_attended = 32\n",
    "attendance = int(nc_attended)/int(nc_held)*100\n",
    "print('Attendance:', attendance)\n",
    "\n",
    "if attendance >= 75:\n",
    "    print(\"Allowed to sit in exam\")\n",
    "else:\n",
    "    print(\"Not allowed to sit in exam\")"
   ]
  },
  {
   "cell_type": "markdown",
   "metadata": {},
   "source": [
    "#### Exercise-5: Based on two imput variables, age and gender, print their place of service. \n",
    "* **If employee is a female and age is in between 20 to 60, then she will work only in the urban areas**\n",
    "* **If employee is a male and age is in between 20 to 40, then he may work anywhere**\n",
    "* **If employee is male and age is in between 40 to 60, then he will work only in the urban areas**\n",
    "* **For any other input of age, print \"Unqualified\"**\n",
    "\n",
    "#### Note-1: For the gender variable, use 'M' for males and 'F' for females"
   ]
  },
  {
   "cell_type": "code",
   "execution_count": 8,
   "metadata": {},
   "outputs": [
    {
     "name": "stdout",
     "output_type": "stream",
     "text": [
      "Anywhere\n"
     ]
    }
   ],
   "source": [
    "age = 35\n",
    "gender = 'M'\n",
    "\n",
    "if gender == 'F' and age >= 20 and age <= 60:\n",
    "    print('Urban areas only')\n",
    "elif gender == 'M' and age >=20 and age <= 40:\n",
    "    print('Anywhere')\n",
    "elif gender == 'M' and age >=40 and age <= 60:\n",
    "    print('Urban areas only')\n",
    "else:\n",
    "    print('Unqualified')"
   ]
  },
  {
   "cell_type": "markdown",
   "metadata": {},
   "source": [
    "#### Exercise-6: You are driving a little too fast, and a police officer stops you. Write conditional statements to return one of 3 possible results: \"No ticket\", \"Small ticket\", or \"Big Ticket\".  If your speed is 60 or less, the result is \"No Ticket\". If speed is between 61 and 80 inclusive, the result is \"Small Ticket\". If speed is 81 or more, the result is \"Big Ticket\". If it is your birthday, your speed can be higher by a value of 5 in all cases.\n",
    "\n",
    "#### Note-1: Initialize a variable and set it to be 'True' if it is your birthday or 'False' if it is not your birthday."
   ]
  },
  {
   "cell_type": "code",
   "execution_count": 9,
   "metadata": {},
   "outputs": [
    {
     "name": "stdout",
     "output_type": "stream",
     "text": [
      "No Ticket\n"
     ]
    }
   ],
   "source": [
    "speed = 65\n",
    "is_birthday = True\n",
    "\n",
    "if is_birthday:\n",
    "    alterspeed = speed-5\n",
    "else:\n",
    "    alterspeed = speed\n",
    "    \n",
    "if alterspeed > 80:\n",
    "    print('Big Ticket')\n",
    "elif alterspeed > 60:\n",
    "    print('Small Ticket')\n",
    "else:\n",
    "    print('No Ticket')"
   ]
  }
 ],
 "metadata": {
  "kernelspec": {
   "display_name": "Python 3",
   "language": "python",
   "name": "python3"
  },
  "language_info": {
   "codemirror_mode": {
    "name": "ipython",
    "version": 3
   },
   "file_extension": ".py",
   "mimetype": "text/x-python",
   "name": "python",
   "nbconvert_exporter": "python",
   "pygments_lexer": "ipython3",
   "version": "3.7.1"
  }
 },
 "nbformat": 4,
 "nbformat_minor": 2
}
