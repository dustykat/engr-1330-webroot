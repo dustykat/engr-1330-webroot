{
 "cells": [
  {
   "cell_type": "code",
   "execution_count": 1,
   "metadata": {
    "jupyter": {
     "source_hidden": true
    }
   },
   "outputs": [
    {
     "name": "stdout",
     "output_type": "stream",
     "text": [
      "atomickitty.aws\n",
      "compthink\n",
      "/opt/conda/envs/python/bin/python\n",
      "3.8.3 (default, Jul  2 2020, 16:21:59) \n",
      "[GCC 7.3.0]\n",
      "sys.version_info(major=3, minor=8, micro=3, releaselevel='final', serial=0)\n"
     ]
    }
   ],
   "source": [
    "# Preamble script block to identify host, user, and kernel\n",
    "import sys\n",
    "! hostname\n",
    "! whoami\n",
    "print(sys.executable)\n",
    "print(sys.version)\n",
    "print(sys.version_info)"
   ]
  },
  {
   "cell_type": "code",
   "execution_count": 2,
   "metadata": {
    "jupyter": {
     "source_hidden": true
    }
   },
   "outputs": [
    {
     "data": {
      "text/html": [
       "<!--Script block to left align Markdown Tables-->\n",
       "<style>\n",
       "  table {margin-left: 0 !important;}\n",
       "</style>\n"
      ],
      "text/plain": [
       "<IPython.core.display.HTML object>"
      ]
     },
     "metadata": {},
     "output_type": "display_data"
    }
   ],
   "source": [
    "%%html\n",
    "<!--Script block to left align Markdown Tables-->\n",
    "<style>\n",
    "  table {margin-left: 0 !important;}\n",
    "</style>"
   ]
  },
  {
   "cell_type": "markdown",
   "metadata": {},
   "source": [
    "# Laboratory 3. Data Structures and Conditional Execution"
   ]
  },
  {
   "cell_type": "markdown",
   "metadata": {},
   "source": [
    "## Data Structures\n",
    "\n",
    "### Lists (Array)\n",
    "\n",
    "A list is a collection of data that are somehow related. It is a convenient way to refer to a\n",
    "collection of similar things by a single name, and using an index (like a subscript in math)\n",
    "to identify a particular item.\n",
    "\n",
    "Consider the \"math-like\" variable $x$ below:\n",
    "\n",
    "\\begin{gather}\n",
    "x_0= 7 \\\\\n",
    "x_1= 11 \\\\\n",
    "x_2= 5 \\\\\n",
    "x_3= 9 \\\\\n",
    "x_4= 13 \\\\\n",
    "\\dots \\\\\n",
    "x_N= 223 \\\\\n",
    "\\end{gather}\n",
    "    \n",
    "The variable name is $x$ and the subscripts correspond to different values. \n",
    "Thus the `value` of the variable named $x$ associated with subscript $3$ is the number $9$.\n",
    "\n",
    "The figure below is a visual representation of a the concept that treats a variable as a collection of cells. \n",
    "\n",
    "![](array-image.jpg)\n",
    "\n",
    "In the figure, the variable name is `MyList`, the subscripts are replaced by an index\n",
    "which identifies which cell is being referenced. \n",
    "The value is the cell content at the particular index. \n",
    "\n",
    "So in the figure the value of `MyList` at Index = 3 is the number 9.'\n",
    "\n",
    "In engineering and data science we use lists a lot - we often call then vectors, arrays, matrices and such, but they are ultimately just lists.\n",
    "\n",
    "To declare a list you can write the list name and assign it values. \n",
    "The square brackets are used to identify that the variable is a list. \n",
    "Like:\n",
    "\n",
    "    MyList = [7,11,5,9,13,66,99,223]\n",
    "\n",
    "One can also declare a null list and use the `append()` method to fill it as needed.\n",
    "\n",
    "    MyOtherList = [ ]\n",
    "    \n",
    "Python indices start at ZERO. \n",
    "Alot of other lnguages start at ONE. \n",
    "Its just the convention. \n",
    "\n",
    "The first element in a list has an index of 0, the second an index of 1, and so on.\n",
    "We access the contents of a list by referring to its name and index. \n",
    "For example \n",
    "\n",
    "    MyList[3] has a value of the number 9."
   ]
  },
  {
   "cell_type": "markdown",
   "metadata": {},
   "source": [
    "#### Exercise-1: List Manipulation\n",
    "\n",
    "For the list given below, index and pick all the elements from index positions 3 to 10. \n",
    "Then, calculate the sum and the length of the elements from index positions 3 to 7. \n",
    "Print the sliced list and the values of the sum and the sliced list.\n",
    "\n",
    "**[22, 45, 54, 87, 10, 97, 88, 75, 99, 11, 19, 39, 47, 81, 84]**"
   ]
  },
  {
   "cell_type": "code",
   "execution_count": 3,
   "metadata": {},
   "outputs": [
    {
     "name": "stdout",
     "output_type": "stream",
     "text": [
      "Sliced_list:  [87, 10, 97, 88, 75, 99, 11, 19]\n",
      "Sum:  486\n",
      "Length:  8\n"
     ]
    }
   ],
   "source": [
    "mylist2 = [22, 45, 54, 87, 10, 97, 88, 75, 99, 11, 19, 39, 47, 81, 84]\n",
    "\n",
    "myslicelist2 = mylist2[3:11]\n",
    "print(\"Sliced_list: \", myslicelist2)\n",
    "\n",
    "mysum = sum(myslicelist2)\n",
    "print(\"Sum: \", mysum)\n",
    "\n",
    "mylength = len(myslicelist2)\n",
    "print(\"Length: \", mylength)"
   ]
  },
  {
   "cell_type": "markdown",
   "metadata": {},
   "source": [
    "#### Exercise-2: List Manipulation\n",
    "\n",
    "From the list given below, remove the element at the index position 4 and add it to the 2nd position and also, add it at the end of the list.  \n",
    "Print the original list and also the list after each step of altering the list elements.\n",
    "\n",
    "**['Bob', 44, 27, 'Joe', 91, 41, 54.555]**"
   ]
  },
  {
   "cell_type": "code",
   "execution_count": 4,
   "metadata": {},
   "outputs": [
    {
     "name": "stdout",
     "output_type": "stream",
     "text": [
      "Original list:  ['Bob', 44, 27, 'Joe', 91, 41, 54.555]\n",
      "List After removing element at index 4:  ['Bob', 44, 27, 'Joe', 41, 54.555]\n",
      "List after Adding element at index 2:  ['Bob', 44, 91, 27, 'Joe', 41, 54.555]\n",
      "List after Adding element at last:  ['Bob', 44, 91, 27, 'Joe', 41, 54.555, 91]\n"
     ]
    }
   ],
   "source": [
    "mylist1 = ['Bob', 44, 27, 'Joe', 91, 41, 54.555]\n",
    "print(\"Original list: \",mylist1)\n",
    "\n",
    "element = mylist1.pop(4)\n",
    "print(\"List After removing element at index 4: \",mylist1)\n",
    "\n",
    "mylist1.insert(2, element)\n",
    "print(\"List after Adding element at index 2: \",mylist1)\n",
    "\n",
    "mylist1.append(element)\n",
    "print(\"List after Adding element at last: \",mylist1)"
   ]
  },
  {
   "cell_type": "markdown",
   "metadata": {},
   "source": [
    "### Special List - Tuple\n",
    "\n",
    "A tuple is a special kind of list where the values cannot be changed after the list is created.\n",
    "It is useful for list-like things that are static - like days in a week, or months of a year.\n",
    "You declare a tuple like a list, except use round brackets instead of square brackets.\n",
    "\n",
    "    MyTupleName = (\"Jan\",\"Feb\",\"Mar\",\"Apr\",\"May\",\"Jun\",\"Jul\",\"Aug\",\"Sep\",\"Oct\",\"Nov\",\"Dec\")\n",
    "    \n",
    "### Special List - Dictionary\n",
    "\n",
    "A dictionary is a special kind of list where the items are related data PAIRS. \n",
    "It is a lot like a relational database (it probably is one in fact) where the first item in the pair is called the key, and must be unique in a dictionary, and the second item in the pair is the data.\n",
    "The second item could itself be a list, so a dictionary would be a meaningful way to build a\n",
    "database in Python.\n",
    "\n",
    "To declare a dictionary using `curly` brackets\n",
    "\n",
    "    MyPetsNamesAndMass = { \"Dusty\":7.8 , \"Aspen\":6.3, \"Merrimee\":0.03}\n",
    "\n",
    "To declare a dictionary using the `dict()` method\n",
    "\n",
    "    MyPetsNamesAndMassToo = dict(Dusty = 7.8 , Aspen = 6.3, Merrimee = 0.03)\n",
    "    \n",
    "Some examples follow:"
   ]
  },
  {
   "cell_type": "code",
   "execution_count": 5,
   "metadata": {},
   "outputs": [
    {
     "name": "stdout",
     "output_type": "stream",
     "text": [
      "5th element of the tuple May\n",
      "Aspen's mass =  6.3\n",
      "Merrimee's mass 0.03\n",
      "Merrimee's mass 0.01 She lost weight !\n",
      "Merrimee's mass 0.03\n"
     ]
    }
   ],
   "source": [
    "# Tuples\n",
    "MyTupleName = (\"Jan\",\"Feb\",\"Mar\",\"Apr\",\"May\",\"Jun\",\"Jul\",\"Aug\",\"Sep\",\"Oct\",\"Nov\",\"Dec\")\n",
    "# Access a Tuple\n",
    "print (\"5th element of the tuple\", MyTupleName[4])\n",
    "# Dictionary\n",
    "MyPetsNamesAndMass = { \"Dusty\":7.8 , \"Aspen\":6.3, \"Merrimee\":0.03}\n",
    "# Access the Dictionary\n",
    "print (\"Aspen's mass = \", MyPetsNamesAndMass[\"Aspen\"])\n",
    "# Change a value in a dictionary\n",
    "print (\"Merrimee's mass\" , MyPetsNamesAndMass[\"Merrimee\"])\n",
    "MyPetsNamesAndMass[\"Merrimee\"] = 0.01\n",
    "print (\"Merrimee's mass\" , MyPetsNamesAndMass[\"Merrimee\"], \"She lost weight !\")\n",
    "# Alternate dictionary\n",
    "MyPetsNamesAndMassToo = dict(Dusty = 7.8 , Aspen = 6.3, Merrimee = 0.03)\n",
    "print (\"Merrimee's mass\" , MyPetsNamesAndMassToo[\"Merrimee\"])\n",
    "# Attempt to change a Tuple\n",
    "#MyTupleName[3]=(\"Fred\") # Activate this line and see what happens!"
   ]
  },
  {
   "cell_type": "markdown",
   "metadata": {},
   "source": [
    "#### Exercise-3: Dictionary Manipulation\n",
    "\n",
    "From the nested dictionary given below, index and pick the string 'hello'. \n",
    "\n",
    "**{'k1':[1,2,3,{'tricky':['oh','man','inception',{'target':[1,2,3,'hello']}]}]}**"
   ]
  },
  {
   "cell_type": "code",
   "execution_count": 6,
   "metadata": {},
   "outputs": [
    {
     "data": {
      "text/plain": [
       "'hello'"
      ]
     },
     "execution_count": 6,
     "metadata": {},
     "output_type": "execute_result"
    }
   ],
   "source": [
    "mydict = {'k1':[1,2,3,{'tricky':['oh','man','inception',{'target':[1,2,3,'hello']}]}]}\n",
    "mydict['k1'][3]['tricky'][3]['target'][3]"
   ]
  },
  {
   "cell_type": "code",
   "execution_count": null,
   "metadata": {},
   "outputs": [],
   "source": []
  },
  {
   "cell_type": "markdown",
   "metadata": {},
   "source": [
    "### Conditional Execution"
   ]
  },
  {
   "cell_type": "markdown",
   "metadata": {},
   "source": [
    "Conditional statements are logical expressions that evaluate as TRUE or FALSE and using\n",
    "these results to perform further operations based on these conditions.\n",
    "All flow control in a program depends on evaluating conditions. The program will proceed\n",
    "diferently based on the outcome of one or more conditions - really sophisticated AI programs are a collection of conditions and correlations. \n",
    "Amazon knowing what you kind of want is based on correlations of your past behavior compared to other peoples similar, butmore recent behavior, and then it uses conditional statements to decide what item to offer you in your recommendation items. \n",
    "It's spooky, but ultimately just a program running in the background trying to make your money theirs.\n",
    "\n",
    "### Comparison\n",
    "\n",
    "The most common conditional operation is comparison. If we wish to compare whether two\n",
    "variables are the same we use the == (double equal sign).\n",
    "\n",
    "For example x == y means the program will ask whether x and y have the same value. \n",
    "If they do, the result is TRUE if not then the result is FALSE.\n",
    "\n",
    "Other comparison signs are `!=` does NOT equal, `<` smaller than, `> `larger than, `<= `less than or equal, and `>=` greater than or equal.\n",
    "\n",
    "There are also three logical operators when we want to build multiple compares\n",
    "(multiple conditioning); these are `and`, `or`, and `not`.\n",
    "\n",
    "The `and` operator returns TRUE if (and only if) **all** conditions are TRUE.\n",
    "For instance `5 == 5 and 5 < 6` will return a TRUE because both conditions are true.\n",
    "\n",
    "The `or` operator returns `TRUE` if at least one condition is true. \n",
    "If **all** conditions are FALSE, then it will return a FALSE. For instance `4 > 3 or 17 > 20 or 3 == 2` will return `TRUE`because the first condition is true.\n",
    "The `not` operator returns `TRUE` if the condition after the `not` keyword is false. Think of it\n",
    "as a way to do a logic reversal."
   ]
  },
  {
   "cell_type": "code",
   "execution_count": 7,
   "metadata": {},
   "outputs": [
    {
     "name": "stdout",
     "output_type": "stream",
     "text": [
      "x =:  7 y =:  10\n",
      "x is equal to y :  False\n",
      "x is not equal to y :  True\n",
      "x is greater than y :  False\n",
      "x is less than y :  True\n"
     ]
    }
   ],
   "source": [
    "# Compare\n",
    "x = 7\n",
    "y = 10\n",
    "print(\"x =: \",x,\"y =: \",y)\n",
    "print(\"x is equal to y : \",x==y)\n",
    "print(\"x is not equal to y : \",x!=y)\n",
    "print(\"x is greater than y : \",x>y)\n",
    "print(\"x is less than y : \",x<y)"
   ]
  },
  {
   "cell_type": "code",
   "execution_count": 8,
   "metadata": {},
   "outputs": [
    {
     "name": "stdout",
     "output_type": "stream",
     "text": [
      "5 == 5 and 5 < 6 ?  True\n",
      "4 > 3 or 17 > 20  True\n",
      "not 5 == 5 False\n"
     ]
    }
   ],
   "source": [
    "# Logical operators\n",
    "print(\"5 == 5 and 5 < 6 ? \",5 == 5 and 5 < 6)\n",
    "print(\"4 > 3 or 17 > 20 \",4 > 3 or 17 > 20)\n",
    "print(\"not 5 == 5\",not 5 == 5)"
   ]
  },
  {
   "cell_type": "markdown",
   "metadata": {},
   "source": [
    "### Block `if` statement\n",
    "The `if` statement is a common flow control statement. \n",
    "It allows the program to evaluate if a certain condition is satisfied and to perform a designed action based on the result of the evaluation. The structure of an `if` statement is\n",
    "\n",
    "    if condition1 is met:\n",
    "        do A\n",
    "    elif condition 2 is met:\n",
    "        do b\n",
    "    elif condition 3 is met:\n",
    "        do c\n",
    "    else:\n",
    "        do e\n",
    "        \n",
    "The `elif` means \"else if\". The `:` colon is an important part of the structure it tells where the action begins. Also there are no scope delimiters like (), or {} . \n",
    "Instead Python uses indentation to isolate blocks of code. \n",
    "\n",
    "\n",
    "This convention is hugely important - many other coding environments use delimiters (called scoping delimiters), but Python does not. The indentation itself is the scoping delimiter.\n",
    "\n",
    "The next code fragment illustrates illustrates how the `if` statements work. The program asks the user for input. The use of `raw_input()` will let the program read any input as a string\n",
    "so non-numeric results will not throw an error. \n",
    "The input is stored in the variable named `userInput`. \n",
    "Next the statement if `userInput == \"1\":` compares the value of `userInput`\n",
    "with the string `\"1\"`. If the value in the variable is indeed \\1\", then the program will execute\n",
    "the block of code in the indentation after the colon. \n",
    "In this case it will execute\n",
    "    \n",
    "    print \"Hello World\"\n",
    "    print \"How do you do? \"\n",
    "\n",
    "Alternatively, if the value of `userInput` is the string `'2'`, then the program will execute \n",
    "\n",
    "    print \"Snakes on a plane \"\n",
    "\n",
    "For all other values the program will execute\n",
    "\n",
    "    print \"You did not enter a valid number\""
   ]
  },
  {
   "cell_type": "code",
   "execution_count": 9,
   "metadata": {},
   "outputs": [
    {
     "name": "stdin",
     "output_type": "stream",
     "text": [
      "Enter the number 1 or 2 1\n"
     ]
    },
    {
     "name": "stdout",
     "output_type": "stream",
     "text": [
      "Hello World\n",
      "How do you do? \n"
     ]
    }
   ],
   "source": [
    "# Block if example\n",
    "userInput = input('Enter the number 1 or 2')\n",
    "# Use block if structure\n",
    "if userInput == '1':\n",
    "    print(\"Hello World\")\n",
    "    print(\"How do you do? \")\n",
    "elif userInput == '2':\n",
    "    print(\"Snakes on a plane \")\n",
    "    print(\"You did not enter a valid number\")\n",
    "else:\n",
    "    print(\"You did not enter 1 or 2\")"
   ]
  },
  {
   "cell_type": "markdown",
   "metadata": {},
   "source": [
    "### Inline `if` statement\n",
    "An inline `if` statement is a simpler form of an `if` statement and is more convenient if you\n",
    "only need to perform a simple conditional task. \n",
    "The syntax is:\n",
    "\n",
    "    do TaskA `if` condition is true `else` do TaskB\n",
    "    \n",
    "An example would be\n",
    "\n",
    "    myInt = 3\n",
    "    num1 = 12 if myInt == 0 else 13\n",
    "    num1\n",
    "\n",
    "An alternative way is to enclose the condition in brackets for some clarity like\n",
    "\n",
    "    myInt = 3\n",
    "    num1 = 12 if (myInt == 0) else 13\n",
    "    num1\n",
    "\n",
    "In either case the result is that `num1` will have the value `13` (unless you set myInt to 0).\n",
    "\n",
    "One can also use `if` to construct extremely inefficient loops.  "
   ]
  },
  {
   "cell_type": "markdown",
   "metadata": {},
   "source": [
    "### Exercise-4: Use of Conditional Execution\n",
    "\n",
    "A student will not be allowed to sit in exam if his/her attendence is less than 75%. \n",
    "Take the following inputs from the user: \n",
    "\n",
    "    1. Number of classes held.\n",
    "    2. Number of classes attended. \n",
    "   \n",
    "Compute the percentage of classes attended \n",
    "\n",
    "$$\\%_{attended} = \\frac{Classes_{attended}}{Classes_{total}}*100$$\n",
    "\n",
    "Use the result to decide whether the student will be allowed to sit in the exam or not."
   ]
  },
  {
   "cell_type": "code",
   "execution_count": 10,
   "metadata": {},
   "outputs": [
    {
     "name": "stdin",
     "output_type": "stream",
     "text": [
      "Enter total classes held 32\n",
      "Enter classes attended 12\n"
     ]
    },
    {
     "name": "stdout",
     "output_type": "stream",
     "text": [
      "Attendance: 37.5  percent\n",
      "Not allowed to sit in exam\n"
     ]
    }
   ],
   "source": [
    "nc_held = 50\n",
    "nc_attended = 32\n",
    "nc_held = input('Enter total classes held')\n",
    "nc_attended = input('Enter classes attended')\n",
    "attendance = int(nc_attended)/int(nc_held)*100\n",
    "print('Attendance:', attendance,' percent')\n",
    "\n",
    "if attendance >= 75:\n",
    "    print(\"Allowed to sit in exam\")\n",
    "else:\n",
    "    print(\"Not allowed to sit in exam\")"
   ]
  },
  {
   "cell_type": "markdown",
   "metadata": {},
   "source": [
    "#### Exercise-6: RoboCop Modification\n",
    "\n",
    "You are driving too fast, and a robotic police officer stops you. \n",
    "The robot is programmed with conditional statements to return one of 3 possible results: \n",
    "\"No ticket\",\"One hundred dollar fine\", or \"Five hundred dollar fine\". according to the following rules\n",
    "\n",
    "* If your speed is 60 or less, the result is \"No Ticket\". \n",
    "* If speed is between 61 and 80 inclusive, the result is a fine of \\$100. \n",
    "* If speed is 81 or more, the result is \\$500. \n",
    "* If it is your birthday, your speed can be higher by a value of 5 in all cases.\n",
    "\n",
    "You discover you are able to hack into the robot and can modify the fine script.\n",
    "\n",
    "Modify it so that:\n",
    "\n",
    "* If speed is between 75 and 85 inclusive, the result is a fine of \\$100.\n",
    "* If speed is 86 or more, the result is \\$500. \n",
    "\n",
    "Leave the rest unchanged.\n"
   ]
  },
  {
   "cell_type": "code",
   "execution_count": 11,
   "metadata": {},
   "outputs": [
    {
     "name": "stdin",
     "output_type": "stream",
     "text": [
      "How Fast ? (numeric) 66\n",
      "Is it your birthday?  (Yes or No) No\n"
     ]
    },
    {
     "name": "stdout",
     "output_type": "stream",
     "text": [
      "Fine = $100\n"
     ]
    }
   ],
   "source": [
    "# Input Speed\n",
    "speed = int(input('How Fast ? (numeric)'))\n",
    "# Input Birthday\n",
    "yes = 0\n",
    "# while loop \n",
    "while yes == 0:\n",
    "    userInput = input('Is it your birthday?  (Yes or No)')\n",
    "    try:\n",
    "        if userInput == 'Yes':\n",
    "            is_birthday = True\n",
    "        elif userInput == 'No':\n",
    "            is_birthday = False\n",
    "        yes = 1\n",
    "    except:\n",
    "        print (\"You did not enter Yes or No, try again \\n\")\n",
    "# Exit the while loop when finally have a valid answer\n",
    "\n",
    "if is_birthday:\n",
    "    alterspeed = speed-5\n",
    "else:\n",
    "    alterspeed = speed\n",
    "    \n",
    "if alterspeed > 80:    \n",
    "    print('Fine = $500')\n",
    "elif alterspeed > 60:   \n",
    "    print('Fine = $100')\n",
    "else:\n",
    "    print('No Ticket')"
   ]
  },
  {
   "cell_type": "code",
   "execution_count": null,
   "metadata": {},
   "outputs": [],
   "source": []
  }
 ],
 "metadata": {
  "kernelspec": {
   "display_name": "Python 38",
   "language": "python",
   "name": "python38"
  },
  "language_info": {
   "codemirror_mode": {
    "name": "ipython",
    "version": 3
   },
   "file_extension": ".py",
   "mimetype": "text/x-python",
   "name": "python",
   "nbconvert_exporter": "python",
   "pygments_lexer": "ipython3",
   "version": "3.8.3"
  }
 },
 "nbformat": 4,
 "nbformat_minor": 4
}
