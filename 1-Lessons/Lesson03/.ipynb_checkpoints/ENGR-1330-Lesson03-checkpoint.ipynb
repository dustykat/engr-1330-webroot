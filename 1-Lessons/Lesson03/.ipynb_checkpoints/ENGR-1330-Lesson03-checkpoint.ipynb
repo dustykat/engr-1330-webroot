{
 "cells": [
  {
   "cell_type": "markdown",
   "metadata": {},
   "source": [
    "Download this page as a jupyter notebook at [Lesson 3](http://54.243.252.9/engr-1330-webroot/1-Lessons/Lesson03/ENGR-1330-Lesson03.ipynb)"
   ]
  },
  {
   "cell_type": "markdown",
   "metadata": {},
   "source": [
    "# ENGR 1330 Computational Thinking with Data Science \n",
    "Copyright © 2021 Theodore G. Cleveland and Farhang Forghanparast\n",
    "\n",
    "Last GitHub Commit Date: 13 July 2021\n",
    "\n",
    "## Lesson 3 Data Structures: \n",
    "- Data structures; lists, arrays, tuples, sets, dictionaries\n",
    "- Name, index, contents; keys\n",
    "\n",
    "---"
   ]
  },
  {
   "cell_type": "code",
   "execution_count": 18,
   "metadata": {},
   "outputs": [
    {
     "name": "stdout",
     "output_type": "stream",
     "text": [
      "atomickitty\n",
      "sensei\n",
      "/home/sensei/engr-1330-webroot/1-Lessons/Lesson03\n",
      "/opt/jupyterhub/bin/python3\n"
     ]
    }
   ],
   "source": [
    "# Script block to identify host, user, and kernel\n",
    "import sys\n",
    "! hostname; ! whoami; ! pwd; \n",
    "print(sys.executable)"
   ]
  },
  {
   "cell_type": "code",
   "execution_count": 19,
   "metadata": {},
   "outputs": [
    {
     "data": {
      "text/html": [
       "<!-- Script Block to set tables to left alignment -->\n",
       "<style>\n",
       "  table {margin-left: 0 !important;}\n",
       "</style>\n"
      ],
      "text/plain": [
       "<IPython.core.display.HTML object>"
      ]
     },
     "metadata": {},
     "output_type": "display_data"
    }
   ],
   "source": [
    "%%html\n",
    "<!-- Script Block to set tables to left alignment -->\n",
    "<style>\n",
    "  table {margin-left: 0 !important;}\n",
    "</style>"
   ]
  },
  {
   "cell_type": "markdown",
   "metadata": {},
   "source": [
    "---\n",
    "## Objectives\n",
    "\n",
    "1. Awareness of data structures available in Python to store and manipulate data \n",
    "2. Implement arrays (lists), dictionaries, and tuples\n",
    "2. Address contents of lists , dictionaries, and tuples"
   ]
  },
  {
   "cell_type": "markdown",
   "metadata": {},
   "source": [
    "---\n",
    "## Data Structures and Conditional Statements\n",
    "\n",
    "**Computational thinking (CT)** concepts involved are:\n",
    "\n",
    "- `Decomposition` : Data interpretation, manipulation, and analysis of NumPy arrays\n",
    "- `Abstraction` : Data structures; Arrays, lists, tuples, sets, and dictionaries\n",
    "- `Algorithms` : Conditional statements\n",
    "\n",
    "## What is a data structure?\n",
    "\n",
    "Data Structures are a specialized means of organizing and storing data in computers in such a way that we can perform operations on the stored data more efficiently.\n",
    "\n",
    "In our iPython world the structures are illustrated in the figure below\n",
    "\n",
    "![](http://54.243.252.9/engr-1330-webroot/1-Lessons/Lesson03/data-structures.png)\n",
    "<!-- ![](data-structures.png) -->"
   ]
  },
  {
   "cell_type": "markdown",
   "metadata": {},
   "source": [
    "### Lists\n",
    "\n",
    "A list is a collection of data that are somehow related. It is a convenient way to refer to a\n",
    "collection of similar things by a single name, and using an index (like a subscript in math)\n",
    "to identify a particular item.\n",
    "\n",
    "Consider the \"math-like\" variable $x$ below:\n",
    "\n",
    "\\begin{gather}\n",
    "x_0= 7 \\\\\n",
    "x_1= 11 \\\\\n",
    "x_2= 5 \\\\\n",
    "x_3= 9 \\\\\n",
    "x_4= 13 \\\\\n",
    "\\dots \\\\\n",
    "x_N= 223 \\\\\n",
    "\\end{gather}\n",
    "    \n",
    "The variable name is $x$ and the subscripts correspond to different values. \n",
    "Thus the `value` of the variable named $x$ associated with subscript $3$ is the number $9$.\n",
    "\n",
    "The figure below is a visual representation of a the concept that treats a variable as a collection of cells. \n",
    "\n",
    "![](http://54.243.252.9/engr-1330-webroot/1-Lessons/Lesson03/array-image.jpg)\n",
    "<!-- ![](array-image.jpg) -->\n",
    "\n",
    "In the figure, the variable name is `MyList`, the subscripts are replaced by an index\n",
    "which identifies which cell is being referenced. \n",
    "The value is the cell content at the particular index. \n",
    "\n",
    "So in the figure the value of `MyList` at Index = 3 is the number 9.'\n",
    "\n",
    "In engineering and data science we use lists a lot - we often call then vectors, arrays, matrices and such, but they are ultimately just lists.\n",
    "\n",
    "To declare a list you can write the list name and assign it values. \n",
    "The square brackets are used to identify that the variable is a list. \n",
    "Like:\n",
    "\n",
    "    MyList = [7,11,5,9,13,66,99,223]\n",
    "\n",
    "One can also declare a null list and use the `append()` method to fill it as needed.\n",
    "\n",
    "    MyOtherList = [ ]\n",
    "    \n",
    "Python indices start at **ZERO**. \n",
    "A lot of other languages start at ONE. \n",
    "It's just the convention. \n",
    "\n",
    "The first element in a list has an index of 0, the second an index of 1, and so on.\n",
    "We access the contents of a list by referring to its name and index. \n",
    "For example \n",
    "\n",
    "    MyList[3] has a value of the number 9."
   ]
  },
  {
   "cell_type": "markdown",
   "metadata": {},
   "source": [
    "### Arrays\n",
    "\n",
    "Arrays are special lists that are used to store only elements of a specific data type, and require use of an external dependency (package) named **array**.  The package is installed with core python, so other than importing it into a script nothing else special is needed.\n",
    "\n",
    "Arrays are:\n",
    "-  Ordered: Elements in an array can be indexed\n",
    "-  Mutable: Elements in an array can be altered\n",
    "\n",
    "<!--![](https://pi.lbbcdn.com/wp-content/uploads/2020/01/Python-Arrays-Index-example-diagram.png)-->\n",
    "\n",
    "![](http://54.243.252.9/engr-1330-webroot/1-Lessons/Lesson03/python-arrays-index-local.png) \n",
    "\n",
    "<!-- ![](python-arrays-index-local.png)  -->\n",
    "\n",
    "Data type that an array must hold is specified using the type code when it is created\n",
    "- ‘f’ for float\n",
    "- ‘d’ for double\n",
    "- ‘i’ for signed int\n",
    "- ‘I’ for unsigned int\n",
    "\n",
    "More types are listed below\n",
    "\n",
    "\n",
    "|Type Code|C Data Type|Python Data Type|Minimum Size in Bytes|\n",
    "|:---|---|---|---:|\n",
    "|'b'|\tsigned char|int\t|1|\n",
    "|'B'|\tunsigned char\t|int\t|1|\n",
    "|'h'|\tsigned short\t|int\t|2|\n",
    "|'H'|\tunsigned short\t|int\t|2|\n",
    "|'i'|\tsigned int\t|int\t|2|\n",
    "|'I'|\tunsigned int\t|int\t|2|\n",
    "|'l'|\tsigned long\t|int\t|4|\n",
    "|'L'|\tunsigned long\t|int\t|4|\n",
    "|'q'|\tsigned long long\t|int\t|8|\n",
    "|'Q'|\tunsigned long long\t|int\t|8|\n",
    "|'f'|\tfloat\t|float\t|4|\n",
    "|'d'|\tdouble\t|float\t|8|\n",
    "\n",
    "To use arrays, a library named ‘array’ must be imported"
   ]
  },
  {
   "cell_type": "code",
   "execution_count": 20,
   "metadata": {},
   "outputs": [],
   "source": [
    "import array "
   ]
  },
  {
   "cell_type": "markdown",
   "metadata": {},
   "source": [
    "Creating an array that contains signed integer numbers"
   ]
  },
  {
   "cell_type": "code",
   "execution_count": 21,
   "metadata": {},
   "outputs": [],
   "source": [
    "myarray = array.array('i', [1, 2, 4, 8, 16, 32])"
   ]
  },
  {
   "cell_type": "code",
   "execution_count": 22,
   "metadata": {},
   "outputs": [
    {
     "data": {
      "text/plain": [
       "1"
      ]
     },
     "execution_count": 22,
     "metadata": {},
     "output_type": "execute_result"
    }
   ],
   "source": [
    "myarray[0] #1-st element, 0-th position"
   ]
  },
  {
   "cell_type": "code",
   "execution_count": 23,
   "metadata": {},
   "outputs": [],
   "source": [
    "import array as arr #import using an alias so the calls don't look so funny"
   ]
  },
  {
   "cell_type": "code",
   "execution_count": 24,
   "metadata": {},
   "outputs": [
    {
     "data": {
      "text/plain": [
       "1"
      ]
     },
     "execution_count": 24,
     "metadata": {},
     "output_type": "execute_result"
    }
   ],
   "source": [
    "myarray = arr.array('i', [1, 2, 4, 8, 16, 32])\n",
    "myarray[0] #1-st element, 0-th position"
   ]
  },
  {
   "cell_type": "markdown",
   "metadata": {},
   "source": [
    "Lists: Can store elements of different data types; like arrays they are (arrays are lists, but lists are not quite arrays!)\n",
    "- Ordered: Elements in a list can be indexed\n",
    "- Mutable: Elements in a list can be altered\n",
    "- Mathematical\toperations\tmust\tbe\tapplied\tto\teach element\tof\tthe\tlist\t"
   ]
  },
  {
   "cell_type": "markdown",
   "metadata": {},
   "source": [
    "### Tuple - A special list\n",
    "\n",
    "A tuple is a special kind of list where the **values cannot be changed** after the list is created.\n",
    "Such a property is called `immutable`\n",
    "It is useful for list-like things that are static - like days in a week, or months of a year.\n",
    "You declare a tuple like a list, except use round brackets instead of square brackets.\n",
    "\n",
    "    MyTupleName = (\"Jan\",\"Feb\",\"Mar\",\"Apr\",\"May\",\"Jun\",\"Jul\",\"Aug\",\"Sep\",\"Oct\",\"Nov\",\"Dec\")\n",
    "    \n",
    "Tuples are often created as output from packages and functions.\n",
    "\n",
    "Removing individual tuple elements is not possible. There is, of course, nothing wrong with putting together another tuple with the undesired elements discarded.\n",
    "\n",
    "To explicitly remove an entire tuple, just use the del statement."
   ]
  },
  {
   "cell_type": "code",
   "execution_count": 16,
   "metadata": {},
   "outputs": [
    {
     "name": "stdout",
     "output_type": "stream",
     "text": [
      "('a', 'b')\n",
      "('b', 'c')\n"
     ]
    }
   ],
   "source": [
    "a_tuple = (\"a\", \"b\")\n",
    "print(a_tuple)\n",
    "added_value = \"c\"\n",
    "added_value_tuple = (added_value,) # notice the dangling comma\n",
    "short_tuple =(a_tuple[1],) # notice the dangling comma\n",
    "new_tuple = short_tuple + added_value_tuple\n",
    "del(a_tuple) # kill the original\n",
    "print(new_tuple)"
   ]
  },
  {
   "cell_type": "markdown",
   "metadata": {},
   "source": [
    "\n",
    "### Dictionary - A special list\n",
    "\n",
    "A dictionary is a special kind of list where the items are related data `PAIRS`. \n",
    "It is a lot like a relational database (it probably is one in fact) where the first item in the pair is called the key, and must be unique in a dictionary, and the second item in the pair is the data.\n",
    "The second item could itself be a list, so a dictionary would be a meaningful way to build a\n",
    "database in Python.\n",
    "\n",
    "To declare a dictionary using `curly` brackets\n",
    "\n",
    "    MyPetsNamesAndMass = { \"Dusty\":7.8 , \"Aspen\":6.3, \"Merrimee\":0.03}\n",
    "\n",
    "To declare a dictionary using the `dict()` method\n",
    "\n",
    "    MyPetsNamesAndMassToo = dict(Dusty = 7.8 , Aspen = 6.3, Merrimee = 0.03)\n",
    "    \n",
    "Dictionary properties\n",
    "- Unordered: Elements in a dictionary cannot be\n",
    "- Mutable elements: Elements in a dictionary can be altered\n",
    "- Immutable keys: Keys in a dictionary cannot be altered"
   ]
  },
  {
   "cell_type": "code",
   "execution_count": 17,
   "metadata": {},
   "outputs": [
    {
     "name": "stdout",
     "output_type": "stream",
     "text": [
      "{'Dusty': 7.8, 'Aspen': 6.3, 'Merrimee': 0.03}\n",
      "{'Dusty': 7.8, 'Aspen': 6.3, 'Merrimee': 0.03}\n"
     ]
    }
   ],
   "source": [
    "MyPetsNamesAndMass = { \"Dusty\":7.8 , \"Aspen\":6.3, \"Merrimee\":0.03}\n",
    "MyPetsNamesAndMassToo = dict(Dusty = 7.8 , Aspen = 6.3, Merrimee = 0.03)\n",
    "print(MyPetsNamesAndMass)\n",
    "print(MyPetsNamesAndMassToo)"
   ]
  },
  {
   "cell_type": "markdown",
   "metadata": {},
   "source": [
    "### Sets - A special list\n",
    "\n",
    "Sets: Are used to store elements of different data types\n",
    "- Unordered: Elements in a set cannot be indexed\n",
    "- Mutable: Elements in a set can be altered\n",
    "- Non-repetition: Elements in a set are unique\n",
    "\n",
    "Elements of a set are enclosed in curly brackets { }\n",
    "- Creating sets that contains different data types\n",
    "- Sets cannot be nested"
   ]
  },
  {
   "cell_type": "markdown",
   "metadata": {},
   "source": [
    "### Example of a Dictionary\n",
    "A dictionary, using natural numbers as keys"
   ]
  },
  {
   "cell_type": "code",
   "execution_count": 18,
   "metadata": {},
   "outputs": [
    {
     "data": {
      "text/plain": [
       "dict"
      ]
     },
     "execution_count": 18,
     "metadata": {},
     "output_type": "execute_result"
    }
   ],
   "source": [
    "myset = {1:'one',2:'two',3:{1:'one',2:'two',3:'seven of nine'}}\n",
    "type(myset)"
   ]
  },
  {
   "cell_type": "code",
   "execution_count": 19,
   "metadata": {},
   "outputs": [
    {
     "data": {
      "text/plain": [
       "'seven of nine'"
      ]
     },
     "execution_count": 19,
     "metadata": {},
     "output_type": "execute_result"
    }
   ],
   "source": [
    "(myset.get(3)).get(3) # get element from key 3 of key 3 set"
   ]
  },
  {
   "cell_type": "markdown",
   "metadata": {},
   "source": [
    "### Example of a Set (no explicit keys)\n",
    "A set, three elements, no explicit keys"
   ]
  },
  {
   "cell_type": "code",
   "execution_count": 20,
   "metadata": {},
   "outputs": [
    {
     "data": {
      "text/plain": [
       "set"
      ]
     },
     "execution_count": 20,
     "metadata": {},
     "output_type": "execute_result"
    }
   ],
   "source": [
    "myset = {1,2,77}\n",
    "type(myset)"
   ]
  },
  {
   "cell_type": "markdown",
   "metadata": {},
   "source": [
    "Another set"
   ]
  },
  {
   "cell_type": "code",
   "execution_count": 24,
   "metadata": {},
   "outputs": [
    {
     "data": {
      "text/plain": [
       "set"
      ]
     },
     "execution_count": 24,
     "metadata": {},
     "output_type": "execute_result"
    }
   ],
   "source": [
    "urset={'apple','cat','rock',77,'sunset strip'}\n",
    "type(urset)"
   ]
  },
  {
   "cell_type": "markdown",
   "metadata": {},
   "source": [
    "#### Union and Intersection of two sets \n",
    "- Union joins all unique elements (null return only if all sets are empty)\n",
    "- Intersection extracts all common elements (null returns possible)"
   ]
  },
  {
   "cell_type": "code",
   "execution_count": 22,
   "metadata": {},
   "outputs": [
    {
     "name": "stdout",
     "output_type": "stream",
     "text": [
      "union is :  {1, 2, 'cat', 'rock', 77, 'apple', 'sunset strip'}\n",
      "intersection is :  {77}\n"
     ]
    }
   ],
   "source": [
    "# union (join) sets\n",
    "print('union is : ' ,myset | urset)\n",
    "# intersection of sets (shared elements)\n",
    "print('intersection is : ' ,myset & urset)"
   ]
  },
  {
   "cell_type": "markdown",
   "metadata": {},
   "source": [
    "Set constructor method is another way to create a set."
   ]
  },
  {
   "cell_type": "code",
   "execution_count": 25,
   "metadata": {},
   "outputs": [
    {
     "name": "stdout",
     "output_type": "stream",
     "text": [
      "{'banana', 'apple', 'cherry'}\n"
     ]
    }
   ],
   "source": [
    "thisset = set((\"apple\", \"banana\", \"cherry\")) # note the double round-brackets\n",
    "print(thisset) "
   ]
  },
  {
   "cell_type": "markdown",
   "metadata": {},
   "source": [
    "#### What's the difference between a set and dictionary? "
   ]
  },
  {
   "cell_type": "code",
   "execution_count": 27,
   "metadata": {},
   "outputs": [
    {
     "name": "stdout",
     "output_type": "stream",
     "text": [
      "<class 'dict'>\n",
      "<class 'set'>\n"
     ]
    }
   ],
   "source": [
    "# Empty dictionary\n",
    "webster = {}\n",
    "print(type(webster))\n",
    "# Empty set\n",
    "empty = set(())\n",
    "print(type(empty))"
   ]
  },
  {
   "cell_type": "markdown",
   "metadata": {},
   "source": [
    "From [https://stackoverflow.com/questions/34370599/difference-between-dict-and-set-python](https://stackoverflow.com/questions/34370599/difference-between-dict-and-set-python)\n",
    "\n",
    "\"Well, a set is like a dict with keys but no values, and they're both implemented using a hash table. But yes, it's a little annoying that the `{}` notation denotes an empty `dict` rather than an empty `set`, but that's a historical artifact.\""
   ]
  },
  {
   "cell_type": "markdown",
   "metadata": {},
   "source": [
    "## Readings\n",
    "\n",
    "1. Computational and Inferential Thinking Ani Adhikari and John DeNero, Computational and Inferential Thinking, The Foundations of Data Science, Creative Commons Attribution-NonCommercial-NoDerivatives 4.0 International (CC BY-NC-ND) Chapter 4 Subpart 3 https://www.inferentialthinking.com/chapters/04/3/Comparison.html\n",
    "\n",
    "2. Computational and Inferential Thinking Ani Adhikari and John DeNero, Computational and Inferential Thinking, The Foundations of Data Science, Creative Commons Attribution-NonCommercial-NoDerivatives 4.0 International (CC BY-NC-ND) Chapter 4 \n",
    "https://www.inferentialthinking.com/chapters/04/Data_Types.html\n",
    "\n",
    "3. Learn Python in One Day and Learn It Well. Python for Beginners with Hands-on Project. (Learn Coding Fast with Hands-On Project Book -- Kindle Edition by LCF Publishing (Author), Jamie Chan https://www.amazon.com/Python-2nd-Beginners-Hands-Project-ebook/dp/B071Z2Q6TQ/ref=sr_1_3?dchild=1&keywords=learn+python+in+a+day&qid=1611108340&sr=8-3\n",
    "\n",
    "4. Theodore G. Cleveland, Farhang Forghanparast, Dinesh Sundaravadivelu Devarajan, Turgut Batuhan Baturalp (Batu), Tanja Karp, Long Nguyen, and Mona Rizvi. (2021) Computational Thinking and Data Science: A WebBook to Accompany ENGR 1330 at TTU, Whitacre College of Engineering, DOI (pending)<!--[https://3.137.111.182/engr-1330-webroot/engr-1330-webbook/ctds-psuedocourse/site/](https://3.137.111.182/engr-1330-webroot/engr-1330-webbook/ctds-psuedocourse/site/)-->\n",
    "\n",
    "\n",
    "5. Sets (tutorial) [https://realpython.com/python-sets/](https://realpython.com/python-sets/)\n",
    "\n",
    "6. Arrays (tutorial) [https://www.geeksforgeeks.org/python-using-2d-arrays-lists-the-right-way/](https://www.geeksforgeeks.org/python-using-2d-arrays-lists-the-right-way/)\n"
   ]
  },
  {
   "cell_type": "code",
   "execution_count": null,
   "metadata": {},
   "outputs": [],
   "source": []
  },
  {
   "cell_type": "code",
   "execution_count": null,
   "metadata": {},
   "outputs": [],
   "source": []
  }
 ],
 "metadata": {
  "kernelspec": {
   "display_name": "Python 3",
   "language": "python",
   "name": "python3"
  },
  "language_info": {
   "codemirror_mode": {
    "name": "ipython",
    "version": 3
   },
   "file_extension": ".py",
   "mimetype": "text/x-python",
   "name": "python",
   "nbconvert_exporter": "python",
   "pygments_lexer": "ipython3",
   "version": "3.8.10"
  }
 },
 "nbformat": 4,
 "nbformat_minor": 4
}
