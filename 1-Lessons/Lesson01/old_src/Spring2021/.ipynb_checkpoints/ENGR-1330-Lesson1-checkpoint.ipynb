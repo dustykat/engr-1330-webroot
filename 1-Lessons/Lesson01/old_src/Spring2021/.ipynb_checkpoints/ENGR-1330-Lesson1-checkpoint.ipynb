{
 "cells": [
  {
   "cell_type": "markdown",
   "metadata": {},
   "source": [
    "# ENGR 1330 Computational Thinking with Data Science \n",
    "Last GitHub Commit Date: 13 January 2021\n",
    "## Lesson 1 Introduction to Computational Thinking with Data Science: \n",
    "- Computational thinking concepts \n",
    "- Data science and practices \n",
    "- JupyterLab (iPython) as a programming environment \n",
    "- Programming as a problem solving process\n",
    "- CCMR Approach\n",
    "\n",
    "### Special Script Blocks\n",
    "\n",
    "In the lesson notebooks there will usually be two script blocks, identical to the ones below.  \n",
    "\n",
    "- The first block identifies the particular computer, the user, and the python kernel in use.\n",
    "- The second block sets markdown tables to left edge when rendering.\n",
    "\n",
    "I usually put both blocks at the top of the notebook, just after some kind of title block, as done here."
   ]
  },
  {
   "cell_type": "code",
   "execution_count": 1,
   "metadata": {},
   "outputs": [
    {
     "name": "stdout",
     "output_type": "stream",
     "text": [
      "ip-172-26-4-2\n",
      "compthink\n",
      "/home/compthink/engr-1330-webroot/1-Lessons/Lesson01/OriginalPowerpoint\n",
      "/opt/jupyterhub/bin/python3\n",
      "3.8.5 (default, Jul 28 2020, 12:59:40) \n",
      "[GCC 9.3.0]\n",
      "sys.version_info(major=3, minor=8, micro=5, releaselevel='final', serial=0)\n"
     ]
    }
   ],
   "source": [
    "# Script block to identify host, user, and kernel\n",
    "import sys\n",
    "! hostname\n",
    "! whoami\n",
    "! pwd\n",
    "print(sys.executable)\n",
    "print(sys.version)\n",
    "print(sys.version_info)"
   ]
  },
  {
   "cell_type": "code",
   "execution_count": 2,
   "metadata": {},
   "outputs": [
    {
     "data": {
      "text/html": [
       "<!-- Script Block to set tables to left alignment -->\n",
       "<style>\n",
       "  table {margin-left: 0 !important;}\n",
       "</style>\n"
      ],
      "text/plain": [
       "<IPython.core.display.HTML object>"
      ]
     },
     "metadata": {},
     "output_type": "display_data"
    }
   ],
   "source": [
    "%%html\n",
    "<!-- Script Block to set tables to left alignment -->\n",
    "<style>\n",
    "  table {margin-left: 0 !important;}\n",
    "</style>"
   ]
  },
  {
   "cell_type": "markdown",
   "metadata": {},
   "source": [
    "## Computational Thinking Concepts\n",
    "\n",
    "Computational thinking (CT) refers to the thought processes involved in expressing solutions as computational steps or algorithms that can be carried out by a computer. \n",
    "\n",
    "Much of what follows is borrowed from (https://www.ncbi.nlm.nih.gov/pmc/articles/PMC2696102/).\n",
    "\n",
    "Computational thinking is taking an approach to solving problems, designing systems and understanding human behaviour that draws on concepts fundamental to computing (http://www.cs.cmu.edu/~15110-s13/Wing06-ct.pdf).\n",
    "\n",
    "Computational thinking is a kind of analytical thinking:\n",
    "\n",
    "- It shares with mathematical thinking in the general ways in which we might approach solving a problem. \n",
    "- It shares with engineering thinking in the general ways in which we might approach designing and evaluating a large, complex system that operates within the constraints of the real world. - It shares with scientific thinking in the general ways in which we might approach understanding computability, intelligence, the mind and human behaviour.\n",
    "\n",
    "The essence of computational thinking is **abstraction** and **automation**. \n",
    "In computing, we abstract notions beyond the physical dimensions of time and space. Our abstractions are extremely general because they are symbolic, where numeric abstractions are just a special case.\n",
    "\n",
    "### CT Foundations\n",
    "\n",
    "CT is literally a process for breaking down a problem into smaller parts, looking for patterns in the problems, identifying what kind of information is needed, developing a step-by-step solution, and implementing that solution. \n",
    "\n",
    "1. Decomposition\n",
    "2. Pattern Recognition\n",
    "3. Abstraction\n",
    "4. Algorithms\n",
    "5. System Integration (implementation)\n",
    "\n",
    "#### Decomposition\n",
    "Decomposition is the process of taking a complex problem and breaking it into more manageable sub-problems. Examples include:  \n",
    "- Writing a paper:  \n",
    " - Introduction \n",
    " - Body \n",
    " - Conclusion \n",
    " \n",
    "- Wide-viewed (Panorama) image: \n",
    " - Taking multiple overlapped photos \n",
    " - Stitch them\n",
    " \n",
    "Decomposition often leaves a **framework** of sub-problems that later have to be **assembled (system integration)** to produce a desired solution.\n",
    " \n",
    "#### Pattern Recognition\n",
    "Refers to finding similarities, or shared characteristics of problems.  Allows a complex problem to become easier to solve. Allows use of same solution method for each occurrence of the pattern. \n",
    "\n",
    "Pattern recognition allows use of **automation** to process things - its a fundamental drilled shaft of CT.  It also provides a way to use analogs from old problems to address new situations; it also will require **assembly (system integration)** to produce a desired solution.\n",
    "\n",
    "#### Abstraction\n",
    "\n",
    "Determine important characteristics of the problem and ignore characteristics that are not important. Use these characteristics to create a representation of what we are trying to solve. \n",
    "\n",
    "Books in an online bookstore\n",
    "\n",
    "|Important| NOT important| \n",
    "|:--------|:-------------|\n",
    "|title    | Cover color  |\n",
    "|ISBN     |Author’s hometown| \n",
    "|Authors  | ... |\n",
    "|...      | ... |\n",
    "\n",
    "\n",
    "#### Algorithms\n",
    "Step-by-step instructions of how to solve a problem (https://en.wikipedia.org/wiki/Algorithm). \n",
    "Identifies what is to be done, and the order in which they should be done.\n",
    "\n",
    "![](algorithm.png)\n",
    "\n",
    "||Image from https://www.newyorker.com/magazine/2021/01/18/whats-wrong-with-the-way-we-work?utm_source=pocket-newtab||\n",
    "|---|------------|---|\n",
    "\n",
    "An algorithm is a **finite** sequence of defined, instructions, typically to solve a class of problems or to perform a computation. Algorithms are unambiguous and are used as specifications for performing calculations, data processing, automated reasoning, and other tasks. Starting from an initial state and initial input (perhaps empty), the instructions describe a computation that, when executed, proceeds through a finite number of defined successive states, eventually producing \"output\" and terminating at a final ending state. The transition from one state to the next is not necessarily deterministic; some algorithms, known as randomized algorithms, can incorporate random input.\n",
    "\n",
    "#### System Integration (implementation)\n",
    "\n",
    "System integration is the assembly of the parts above into the complete (integrated) solution.  Integration combines parts into a program which is the realization of an algorithm using a syntax that the computer can understand. "
   ]
  },
  {
   "cell_type": "markdown",
   "metadata": {},
   "source": [
    "## Data Science and Practice\n",
    "\n",
    "Data science is leveraging existing data sources, to create new ones as needed in order to extract meaningful information and actionable insights through business domain expertise, effective communication and results interpretation. Data science uses relevant statistical techniques, programming languages, software packages and libraries, and data infrastructure; The insights are used to drive business decisions and take actions intended to achieve business goals. \n",
    "\n",
    "Why is this important for engineers? Because engineering is a business! \n",
    "\n",
    "A list of typical skills (https://elitedatascience.com/data-science-resources):\n",
    "\n",
    "- Foundational Skills\n",
    "    - **Programming and Data Manipulation** \n",
    "    - **Statistics and Probability**\n",
    "- Technical Skills\n",
    "    - Data Collection\n",
    "    - SQL\n",
    "    - **Data Visualization**\n",
    "    - **Applied Machine Learning**\n",
    "- Business Skills\n",
    "    - **Communication**\n",
    "    - Creativity and Innovation\n",
    "    - Operations and Strategy\n",
    "    - Business Analytics\n",
    "- Supplementary Skills\n",
    "    - Natural Language Processing\n",
    "    - Recommendation Systems\n",
    "    - **Time Series Analysis**\n",
    "- Practice\n",
    "    - **Projects**\n",
    "    - Competitions\n",
    "    - Problem Solving Challenges\n",
    "\n"
   ]
  },
  {
   "cell_type": "markdown",
   "metadata": {},
   "source": [
    "## JupyterLab (iPython) Environment\n",
    "\n",
    "### The tools:\n",
    "**JupyterLab** (https://jupyter.org/) is a web-based interactive development environment for Jupyter notebooks, code, and data. \n",
    "\n",
    "**Jupyter Notebook** is an open-source web application that allows you to create and share documents that contain live code, equations, visualizations and narrative text. Uses include: data organizing and transformation, numerical simulation, statistical modeling, visualization, machine learning, and other similar types of uses. \n",
    "\n",
    "**JupyterHub** (https://github.com/jupyterhub/jupyterhub) is a multi-user Hub that spawns, manages, and proxies multiple instances of the single-user Jupyter notebook server.\n",
    "\n",
    "All these tools allow use of various coding languages; Python is the choice for ENGR 1330.  Installing JupyterLab on your own computer is relatively straightforward if it is an Intel-based Linux, Macintosh, or Windows machine - simply use Anaconda (https://www.anaconda.com/) as the installer.\n",
    "\n",
    "Installing onto an ARM-based machine is more difficult, but possible (this notebook was created on a Raspberry Pi). With both Apple and Microsoft abandoning Intel you can expect Anaconda builds for aarch64 (ARM) in the future.  \n",
    "\n",
    "### This course:\n",
    "\n",
    "You will create and use Jupyter Notebooks that use the **ipython** kernel, the notebook files will look like `filename.ipynb`; these are ASCII files that the JupyterLab interprets and runs."
   ]
  },
  {
   "cell_type": "markdown",
   "metadata": {},
   "source": [
    "## Python\n",
    "\n",
    "The programming language we will use is Python (actually iPython). Python is an example of a high-level language; other high-level languages include C, C++, PHP, FORTRAN, ADA, Pascal, Go, Java, etc (there are a lot).\n",
    "\n",
    "As you might infer from the name high-level language, there are also low-level languages, sometimes referred to as machine languages or assembly languages. Machine language is the encoding of instructions in binary so that they can be directly executed by the computer. Assembly language uses a slightly easier format to refer to the low level instructions. Loosely speaking, computers can only execute programs written in low-level languages. To be exact, computers can actually only execute programs written in machine language. Thus, programs written in a high-level language (and even those in assembly language) have to be processed before they can run. This extra processing takes some time, which is a small disadvantage of high-level languages. However, the advantages to high-level languages are enormous.\n",
    "\n",
    "First, it is much easier to program in a high-level language. Programs written in a high-level language take less time to write, they are shorter and easier to read, and they are more likely to be correct. Second, high-level languages are portable, meaning that they can run on different kinds of computers with few or no modifications. Low-level programs can run on only one kind of computer and have to be rewritten to run on another.\n",
    "\n",
    "Due to these advantages, almost all programs are written in high-level languages. Low-level languages are used only for a few specialized applications, and for device drivers.\n",
    "\n",
    "Two kinds of programs process high-level languages into low-level languages: interpreters and compilers. An interpreter reads a high-level program and executes it, meaning that it does what the program says. It processes the program a little at a time, alternately reading lines and performing computations.\n",
    "\n",
    "![](interpreter.png)\n",
    "\n",
    "||Interpreted Program. Image from (https://runestone.academy/runestone/books/published/thinkcspy/GeneralIntro/ThePythonProgrammingLanguage.html)||\n",
    "|---|------------|---|\n",
    "\n",
    "A compiler reads the program and translates it completely before the program starts running. In this case, the high-level program is called the source code, and the translated program is called the object code or the executable. Once a program is compiled, you can execute it repeatedly without further translation.\n",
    "\n",
    "![](compiler.png)\n",
    "\n",
    "||Compiled Prorgam. Image from: (https://runestone.academy/runestone/books/published/thinkcspy/GeneralIntro/ThePythonProgrammingLanguage.html)||\n",
    "|---|------------|---|\n",
    "\n",
    "Many modern languages use both processes. They are first compiled into a lower level language, called byte code, and then interpreted by a program called a virtual machine. Python uses both processes, but because of the way programmers interact with it, it is usually considered an interpreted language.\n",
    "\n",
    "As a language, python is a formal language that has certain requirements and structure called \"syntax.\"\n",
    "\n",
    "Formal languages are languages that are designed by people for specific applications. For example, the notation that mathematicians use is a formal language that is particularly good at denoting relationships among numbers and symbols. Chemists use a formal language to represent the chemical structure of molecules. Programming languages are formal languages that have been designed to express computations.\n",
    "\n",
    "Formal languages have strict rules about syntax. For example, 3+3=6 is a syntactically correct mathematical statement, but 3=+6& is not. \n",
    "\n",
    "Syntax rules come in two flavors, pertaining to **tokens** and **structure**. **Tokens** are the basic elements of the language, such as words, numbers, and chemical elements. One of the problems with 3=+6& is that & is not a legal token in mathematics (at least as far as we know). \n",
    "\n",
    "The second type of syntax rule pertains to the structure of a statement— that is, the way the tokens are arranged. The statement 3=+6& is structurally illegal (in mathematics) because you don’t place a plus sign immediately after an equal sign (of course we will in python!). \n",
    "\n",
    "When you read a sentence in English or a statement in a formal language, you have to figure out what the structure of the sentence is; This process is called **parsing**.\n",
    "\n",
    "For example, when you hear the sentence, “The other shoe fell”, you understand that the other shoe is the subject and fell is the verb. Once you have parsed a sentence, you can figure out what it means, or the semantics of the sentence. Assuming that you know what a shoe is and what it means to fall, you will understand the general implication of this sentence.\n",
    "\n",
    "### Good Resources:\n",
    "\n",
    "- Learn Python the Hard Way (Online Book) (https://learnpythonthehardway.org/book/)  Recommended for beginners who want a complete course in programming with Python.\n",
    "- LearnPython.org (Interactive Tutorial) (https://www.learnpython.org/)  Short, interactive tutorial for those who just need a quick way to pick up Python syntax.\n",
    "- How to Think Like a Computer Scientist (Interactive Book) (https://runestone.academy/runestone/books/published/thinkcspy/index.html) Interactive \"CS 101\" course taught in Python that really focuses on the art of problem solving. \n",
    "- How to Learn Python for Data Science, The Self-Starter Way (https://elitedatascience.com/learn-python-for-data-science) \n",
    "\n"
   ]
  },
  {
   "cell_type": "markdown",
   "metadata": {},
   "source": [
    "## Programming as a problem solving process\n",
    "The entire point of this course is to develop problem solving skills and begin using some tools (Statistics, Numerical Methods, Data Science, implemented as JupyterLab/Python programs).\n",
    "\n",
    "The scientific method (https://en.wikipedia.org/wiki/Scientific_method) is one example of an effective problem solving strategy. Stated as a protocol it goes something like:\n",
    "\n",
    "1. Observation: Formulation of a question\n",
    "2. Hypothesis: A  conjecture that may explain observed behavior. Falsifiable by an experiment whose outcome conflicts with predictions deduced from the hypothesis\n",
    "3. Prediction: How the experiment should conclude if hypothesis is correct \n",
    "4. Testing: Experimental design, and conduct of the experiment.\n",
    "5. Analysis: Interpretation of experimental results\n",
    " \n",
    "This protocol can be directly adapted to CT/DS problems as:\n",
    "\n",
    "1. Define the problem (problem statement)\n",
    "2. Gather information (identify known and unknown values, and governing equations)\n",
    "3. Generate and evaluate potential solutions\n",
    "4. Refine and implement a solution\n",
    "5. Verify and test the solution.\n",
    "\n",
    "For actual computational methods the protocol becomes:\n",
    "\n",
    "1. Explicitly state the problem\n",
    "2. State:\n",
    "  - Input information\n",
    "  - Governing equations or principles, and \n",
    "  - The required output information.\n",
    "3. Work a sample problem by-hand for testing the general solution.\n",
    "4. Develop a general solution method (coding).\n",
    "5. Test the general solution against the by-hand example, then apply to the real problem.\n",
    "\n",
    "Oddly enough the first step is the most important and sometimes the most difficult. In a practical problem, step 2 is sometimes difficult because a skilled programmer is needed to translate the governing principles into an algorithm for the general solution (step 4)."
   ]
  },
  {
   "cell_type": "markdown",
   "metadata": {},
   "source": [
    "### Example 1 Problem Solving Process\n",
    "\n",
    "Consider a need to compute an arithmetic mean, what would the process look like?\n",
    "\n",
    "**Step 1.** Develop script to compute the arithmetic mean of a stream of data of unknown length.\n",
    "\n",
    "**Step 2.** \n",
    "  - Inputs: The data stream \n",
    "  - Governing equation: $ \\bar x = \\frac{1}{N} \\sum_{i=1}^{N} x_i $ where $N$ is the number of items in the data stream, and $x_i$ is the value of the i-th element.\n",
    "  - Outputs: The arithmetic mean $\\bar x$\n",
    "\n",
    "**Step 3.** Work a sample problem by-hand for testing the general solution.\n",
    "\n",
    "|Data|\n",
    "|---:|\n",
    "|23.43|\n",
    "|37.43|\n",
    "|34.91|\n",
    "|28.37|\n",
    "|30.62|\n",
    "\n",
    "The arithmetic mean requires us to count how many elements are in the data stream (in this case there are 5) and compute their sum (in this case 154.76), and finally divide the sum by the count and report this result as the arithmetic mean.\n",
    "\n",
    "$$ \\bar x = \\frac{1}{5}(23.43+37.43+34.91+28.37+30.62)=\\frac{154.76}{5}=30.95 $$\n",
    "\n",
    "**Step 4.** Develop a general solution (code)\n",
    "\n",
    "The by-hand exercise helps identify the required steps in an “algorithm” or recipe to compute mean values. First we essentially capture or read the values then count how many there are (either as we go or as a separate step), then sum the values, then divide the values by the count, and finally report the result.\n",
    "\n",
    "In a flow-chart it would look like:\n",
    "\n",
    "![](Lesson1-flowchart.png)\n",
    "\n",
    "||Flowchart for Artihmetic Mean Algorithm||\n",
    "|---|------------|---|\n",
    "\n",
    "**Step 5.** This step we would code the algorithm expressed in the figure and test it with the by-hand data and other small datasets until we are convinced it works correctly.\n",
    "\n",
    "In a simple JupyterLab script"
   ]
  },
  {
   "cell_type": "code",
   "execution_count": 3,
   "metadata": {},
   "outputs": [
    {
     "name": "stdout",
     "output_type": "stream",
     "text": [
      "arithmetic mean =  30.951999999999998\n"
     ]
    }
   ],
   "source": [
    "# Arithmetic Mean in Very Elementary and Primative Python\n",
    "xlist = [23.43,37.43,34.91,28.37,30.62] # list is a type of data structure\n",
    "howlong = len(xlist) # len is a built-in function that returns how many items in a list\n",
    "accumulator = 0 # a variable to accumulate the sum\n",
    "for i in range(howlong):\n",
    "    accumulator = accumulator + xlist[i]\n",
    "print(\"arithmetic mean = \",(accumulator/howlong))"
   ]
  },
  {
   "cell_type": "markdown",
   "metadata": {},
   "source": [
    "**Step 6.** This step we would refine the code to generalize the algorithm.  In the example we want a way to supply the `xlist` from a file perhaps, and tidy the output by rounding to only two decimal places - rounding is relatively simple:"
   ]
  },
  {
   "cell_type": "code",
   "execution_count": 4,
   "metadata": {},
   "outputs": [
    {
     "name": "stdout",
     "output_type": "stream",
     "text": [
      "arithmetic mean =  30.95\n"
     ]
    }
   ],
   "source": [
    "# Arithmetic Mean in Very Elementary and Primative Python\n",
    "xlist = [23.43,37.43,34.91,28.37,30.62] # list is a type of data structure\n",
    "howlong = len(xlist) # len is a built-in function that returns how many items in a list\n",
    "accumulator = 0 # a variable to accumulate the sum\n",
    "for i in range(howlong):\n",
    "    accumulator = accumulator + xlist[i]\n",
    "print(\"arithmetic mean = \",round((accumulator/howlong),2))"
   ]
  },
  {
   "cell_type": "markdown",
   "metadata": {},
   "source": [
    "Reading from a file, is a bit more complicated.  We need to create a connection to the file, then read the contents into our script, then put the contents into the `xlist`"
   ]
  },
  {
   "cell_type": "code",
   "execution_count": 5,
   "metadata": {},
   "outputs": [
    {
     "name": "stdout",
     "output_type": "stream",
     "text": [
      "arithmetic mean =  30.95\n"
     ]
    }
   ],
   "source": [
    "xlist=[] # list (null) is a type of data structure\n",
    "externalfile = open(\"data.txt\",'r') # create connection to file, set to read (r), file must exist\n",
    "how_many_lines = 0\n",
    "for line in externalfile: # parse each line, append to xlist\n",
    "    xlist.append(line)\n",
    "    how_many_lines += 1\n",
    "externalfile.close() # close the file connection\n",
    "\n",
    "howlong = len(xlist) # len is a built-in function that returns how many items in a list\n",
    "accumulator = 0 # a variable to accumulate the sum\n",
    "for i in range(howlong):\n",
    "    accumulator = accumulator + float(xlist[i])\n",
    "print(\"arithmetic mean = \",round((accumulator/howlong),2))"
   ]
  },
  {
   "cell_type": "markdown",
   "metadata": {},
   "source": [
    "Finally, if we want to reuse the code a lot, it is convienent to make it into a function"
   ]
  },
  {
   "cell_type": "code",
   "execution_count": 6,
   "metadata": {},
   "outputs": [],
   "source": [
    "def average(inputlist):\n",
    "# inputlist should be a list of values\n",
    "    howlong = len(inputlist) # len is a built-in function that returns how many items in a list\n",
    "    accumulator = 0 # a variable to accumulate the sum\n",
    "    for i in range(howlong):\n",
    "        accumulator = accumulator + float(inputlist[i])\n",
    "    result = (accumulator/howlong)\n",
    "    return(result)"
   ]
  },
  {
   "cell_type": "markdown",
   "metadata": {},
   "source": [
    "Put our file reading and compute mean code here"
   ]
  },
  {
   "cell_type": "code",
   "execution_count": 7,
   "metadata": {},
   "outputs": [
    {
     "name": "stdout",
     "output_type": "stream",
     "text": [
      "arithmetic mean =  30.95\n"
     ]
    }
   ],
   "source": [
    "xlist=[] # list (null) is a type of data structure\n",
    "externalfile = open(\"data.txt\",'r') # create connection to file, set to read (r), file must exist\n",
    "how_many_lines = 0\n",
    "for line in externalfile: # parse each line, append to xlist\n",
    "    xlist.append(line)\n",
    "    how_many_lines += 1\n",
    "externalfile.close() # close the file connection\n",
    "print(\"arithmetic mean = \",round(average(xlist),2))"
   ]
  },
  {
   "cell_type": "markdown",
   "metadata": {},
   "source": [
    "So the simple task of computing the mean of a collection of values, is a bit more complex when decomposed that it first appears, but illustrates a five step process (with a refinement step).  Throughout the course this process is always in the background."
   ]
  },
  {
   "cell_type": "markdown",
   "metadata": {},
   "source": [
    "## CCMR Approach\n",
    "\n",
    "A lot of the problems we will encounter from a CT/DS perspective have already been solved, or at least analogs have been solved.  It is perfectly acceptable to use prior work for a new set of conditions as long as proper attribution is made.  We call this process CCMR:\n",
    "\n",
    "1. **Copy:** Find a solution to your problem from some online example:  SourceForge, StackOverflow, GeeksForGeeks, DigitalOcean, etc.\n",
    "2. **Cite:** Cite the original source.  In general a citation will look like one of the references below, but a URL to the source is sufficient at first.\n",
    "3. **Modify:** Modify the original cited work for your specific needs.  Note the changes in the code using comment statements.\n",
    "4. **Run:** Apply the modified code to the problem of interest. \n",
    "\n",
    "In cases where we use CCMR we are not so much programming and developing our own work as scaffolding parts (https://en.wikipedia.org/wiki/Scaffold_(programming)) - a legitimate and valuable engineering activity."
   ]
  },
  {
   "cell_type": "markdown",
   "metadata": {},
   "source": [
    "## Readings\n",
    "\n",
    "Computational and Inferential Thinking Ani Adhikari and John DeNero, Computational and Inferential Thinking, The Foundations of Data Science, Creative Commons Attribution-NonCommercial-NoDerivatives 4.0 International (CC BY-NC-ND) Chapter 1 https://www.inferentialthinking.com/chapters/01/what-is-data-science.html"
   ]
  }
 ],
 "metadata": {
  "kernelspec": {
   "display_name": "Python 3",
   "language": "python",
   "name": "python3"
  },
  "language_info": {
   "codemirror_mode": {
    "name": "ipython",
    "version": 3
   },
   "file_extension": ".py",
   "mimetype": "text/x-python",
   "name": "python",
   "nbconvert_exporter": "python",
   "pygments_lexer": "ipython3",
   "version": "3.8.5"
  }
 },
 "nbformat": 4,
 "nbformat_minor": 4
}
