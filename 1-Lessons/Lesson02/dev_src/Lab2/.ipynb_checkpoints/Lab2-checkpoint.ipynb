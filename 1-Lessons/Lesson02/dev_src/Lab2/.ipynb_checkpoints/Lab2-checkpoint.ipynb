{
 "cells": [
  {
   "cell_type": "code",
   "execution_count": null,
   "metadata": {
    "jupyter": {
     "source_hidden": true
    }
   },
   "outputs": [],
   "source": [
    "# Preamble script block to identify host, user, and kernel\n",
    "import sys\n",
    "! hostname\n",
    "! whoami\n",
    "print(sys.executable)\n",
    "print(sys.version)\n",
    "print(sys.version_info)"
   ]
  },
  {
   "cell_type": "code",
   "execution_count": null,
   "metadata": {
    "jupyter": {
     "source_hidden": true
    }
   },
   "outputs": [],
   "source": [
    "%%html\n",
    "<!--Script block to left align Markdown Tables-->\n",
    "<style>\n",
    "  table {margin-left: 0 !important;}\n",
    "</style>"
   ]
  },
  {
   "cell_type": "markdown",
   "metadata": {},
   "source": [
    "# ENGR 1330 Sec D52/D54 Laboratory 2\n",
    "This laboratory is an introduction to variables, operators, expressions, basic I/O, and string manipulation.\n",
    "Notice there is code cell above, from this notebook forward please include and run the script in the cell, it will help in debugging a notebook."
   ]
  },
  {
   "cell_type": "markdown",
   "metadata": {},
   "source": [
    "## Variables\n",
    "\n",
    "Variables are names given to data that we want to store and manipulate in programs. A\n",
    "variable has a name and a value. The value representation depends on what type of object\n",
    "the variable represents.\n",
    "The utility of variables comes in when we have a structure that is universal, but values of\n",
    "variables within the structure will change - otherwise it would be simple enough to just\n",
    "hardwire the arithmetic.\n",
    "\n",
    "Suppose we want to store the time of concentration for some hydrologic calculation. \n",
    "To do so, we can name a variable `TimeOfConcentration`, and then `assign` a value to the variable,\n",
    "for instance:\n",
    "\n",
    "    TimeOfConcentration = 0.0\n",
    "    \n",
    "After this assignment statement the variable is created in the program and has a value of 0.0. \n",
    "The use of a decimal point in the initial assignment establishes the variable as a float (a real variable is called a floating point representation -- or just a float).\n",
    "\n",
    "### Naming Rules\n",
    "\n",
    "Variable names in Python can only contain letters (a - z, A - Z), numerals (0 - 9), or underscores. \n",
    "The first character cannot be a number, otherwise there is considerable freedom in naming. \n",
    "The names can be reasonably long. \n",
    "`runTime`, `run_Time`, `_run_Time2`, `_2runTime` are all valid names, but `2runTime` is not valid, and will create an error when you try to use it."
   ]
  },
  {
   "cell_type": "code",
   "execution_count": null,
   "metadata": {},
   "outputs": [],
   "source": [
    "# Script to illustrate variable names\n",
    "runTime = 1\n",
    "_2runTime = 2 # change to 2runTime = 2 and rerun script\n",
    "runTime2 = 2\n",
    "print(runTime,_2runTime,runTime2)"
   ]
  },
  {
   "cell_type": "markdown",
   "metadata": {},
   "source": [
    "There are some reserved words that cannot be used as variable names because they have preassigned meaning in Parseltongue. \n",
    "These words include `print`, `input`, `if`, `while`, and `for`. \n",
    "There are several more; the interpreter won't allow you to use these names as variables and will issue an error message when you attempt to run a program with such words used as variables.\n",
    "\n",
    "## Operators\n",
    "\n",
    "The `=` sign used in the variable definition is called an assignment operator (or assignment sign). \n",
    "The symbol means that the expression to the right of the symbol is to be evaluated and the result placed into the variable on the left side of the symbol.  The \"operation\" is assignment, the \"=\" symbol is the operator name.\n",
    "\n",
    "Consider the script below"
   ]
  },
  {
   "cell_type": "code",
   "execution_count": null,
   "metadata": {},
   "outputs": [],
   "source": [
    "# Assignment Operator\n",
    "x = 5\n",
    "y = 10\n",
    "print (x,y)\n",
    "x=y # reverse order y=x and re-run, what happens?\n",
    "print (x,y)"
   ]
  },
  {
   "cell_type": "markdown",
   "metadata": {},
   "source": [
    "So look at what happened. When we assigned values to the variables named `x` and `y`, they started life as 5 and 10. \n",
    "We then wrote those values to the console, and the program returned 5 and 10. \n",
    "Then we assigned `y` to `x` which took the value in y and replaced the value that was in x with this value. \n",
    "We then wrote the contents again, and both variables have the value 10.\n",
    "\n",
    "## Arithmetic Operators\n",
    "\n",
    "In addition to assignment we can also perform arithmetic operations on variables. The\n",
    "fundamental arithmetic operators are:\n",
    "\n",
    "| Symbol | Meaning | Example |\n",
    "|:---|:---|:---|\n",
    "|= |Assignment| x=3 Assigns value of 3 to x.|\n",
    "|+ |Addition| x+y Adds values in x and y.|\n",
    "|- |Subtraction| x-y Subtracts values in y from x.|\n",
    "|* |Multiplication| x*y Multiplies values in x and y.|\n",
    "|/ |Division| x/y Divides value in x by value in y.|\n",
    "|// |Floor division| x//y Divide x by y, truncate result to whole number.|\n",
    "|% |Modulus| x%y Returns remainder when x is divided by y.|\n",
    "|** |Exponentation| x**y Raises value in x by value in y. ( e.g. xy)|\n",
    "|+= |Additive assignment| x+=2 Equivalent to x = x+2.|\n",
    "|-= |Subtractive assignment| x-=2 Equivalent to x = x-2.|\n",
    "|*= |Multiplicative assignment| x*=3 Equivalent to x = x*3.|\n",
    "|/= |Divide assignment| x*/3 Equivalent to x = x/3.|\n",
    "\n",
    "Run the script in the next cell for some illustrative results"
   ]
  },
  {
   "cell_type": "code",
   "execution_count": null,
   "metadata": {},
   "outputs": [],
   "source": [
    "# Uniary Arithmetic Operators\n",
    "x = 10\n",
    "y = 5\n",
    "print(x, y)\n",
    "print(x+y)\n",
    "print(x-y)\n",
    "print(x*y)\n",
    "print(x/y)\n",
    "print((x+1)//y)\n",
    "print((x+1)%y)\n",
    "print(x**y)"
   ]
  },
  {
   "cell_type": "code",
   "execution_count": null,
   "metadata": {},
   "outputs": [],
   "source": [
    "# Arithmetic assignment operators\n",
    "x = 1\n",
    "x += 2\n",
    "print(type(x),x)\n",
    "x = 1\n",
    "x -= 2\n",
    "print(type(x),x)\n",
    "x = 1\n",
    "x *=3\n",
    "print(type(x),x)\n",
    "x = 10\n",
    "x /= 2\n",
    "print(type(x),x)  # Interesting what division does to variable type"
   ]
  },
  {
   "cell_type": "markdown",
   "metadata": {},
   "source": [
    "## Data Type\n",
    "In the computer data are all binary digits (actually 0 and +5 volts). \n",
    "At a higher level of abstraction data are typed into integers, real, or alphanumeric representation. \n",
    "The type affects the kind of arithmetic operations that are allowed (as well as the kind of arithmetic - integer versus real arithmetic; lexicographical ordering of alphanumeric , etc.)\n",
    "In scientific programming, a common (and really difficult to detect) source of slight inaccuracies (that tend to snowball as the program runs) is mixed mode arithmetic required because two numeric values are of different types (integer and real).\n",
    "\n",
    "Learn more from the textbook\n",
    "\n",
    "https://www.inferentialthinking.com/chapters/04/Data_Types.html\n",
    "\n",
    "Here we present a quick summary\n",
    "\n",
    "### Integer\n",
    "Integers are numbers without any fractional portion (nothing after the decimal point { which\n",
    "is not used in integers). Numbers like -3, -2, -1, 0, 1, 2, 200 are integers. A number like 1.1\n",
    "is not an integer, and 1.0 is also not an integer (the presence of the decimal point makes the\n",
    "number a real).\n",
    "\n",
    "To declare an integer in Python, just assign the variable name to an integer for example\n",
    "\n",
    "    MyPhoneNumber = 14158576309\n",
    "    \n",
    "### Real (Float)\n",
    "A real or float is a number that has (or can have) a fractional portion - the number has\n",
    "decimal parts. The numbers 3.14159, -0.001, 11.11, 1., are all floats. \n",
    "The last one is especially tricky, if you don't notice the decimal point you might think it is an integer but the\n",
    "inclusion of the decimal point in Python tells the program that the value is to be treated as a \n",
    "float.\n",
    "To declare a \n",
    "float in Python, just assign the variable name to a \n",
    "float for example\n",
    "\n",
    "    MyMassInKilos = 74.8427\n",
    "\n",
    "### String(Alphanumeric)\n",
    "A string is a data type that is treated as text elements. The usual letters are strings, but\n",
    "numbers can be included. The numbers in a string are simply characters and cannot be\n",
    "directly used in arithmetic. \n",
    "There are some kinds of arithmetic that can be performed on strings but generally we process string variables to capture the text nature of their contents. \n",
    "To declare a string in Python, just assign the variable name to a string value - the trick is the value is enclosed in quotes. \n",
    "The quotes are delimiters that tell the program that the characters between the quotes are characters and are to be treated as literal representation.\n",
    "\n",
    "For example\n",
    "\n",
    "    MyName = 'Theodore'\n",
    "    MyCatName = \"Dusty\"\n",
    "    DustyMassInKilos = \"7.48427\"\n",
    "    \n",
    "are all string variables. \n",
    "The last assignment is made a string on purpose. \n",
    "String variables can be combined using an operation called concatenation. \n",
    "The symbol for concatenation is the plus symbol `+`.\n",
    "\n",
    "Strings can also be converted to all upper case using the `upper()` function. The syntax for\n",
    "the `upper()` function is `'string to be upper case'.upper()`. \n",
    "Notice the \"dot\" in the syntax. \n",
    "The operation passes everything to the left of the dot to the function which then\n",
    "operates on that content and returns the result all upper case (or an error if the input stream\n",
    "is not a string)."
   ]
  },
  {
   "cell_type": "code",
   "execution_count": null,
   "metadata": {},
   "outputs": [],
   "source": [
    "# Variable Types Example\n",
    "MyPhoneNumber = 14158576309\n",
    "MyMassInKilos = 74.8427\n",
    "MyName = 'Theodore'\n",
    "MyCatName = \"Dusty\"\n",
    "DustyMassInKilos = \"7.48427\"\n",
    "print(\"All about me\")\n",
    "print(\"Name: \",MyName, \" Mass :\",MyMassInKilos,\"Kg\" )\n",
    "print('Phone : ',MyPhoneNumber)\n",
    "print('My cat\\'s name :', MyCatName)  # the \\ escape character is used to get the ' into the literal\n",
    "print(\"All about concatenation!\")\n",
    "print(\"A Silly String : \",MyCatName+MyName+DustyMassInKilos)\n",
    "print(\"A SILLY STRING :  \", (MyCatName+MyName+DustyMassInKilos).upper())"
   ]
  },
  {
   "cell_type": "markdown",
   "metadata": {},
   "source": [
    "Strings can be formatted using the `%` operator or the `format()` function. The concepts will\n",
    "be introduced later on as needed in the workbook, you can Google search for examples of\n",
    "how to do such formatting.\n",
    "\n",
    "### Changing Types\n",
    "A variable type can be changed. \n",
    "This activity is called type casting. \n",
    "Three functions allow\n",
    "type casting: `int()`, `float()`, and `str()`. \n",
    "The function names indicate the result of using\n",
    "the function, hence `int()` returns an integer, `float()` returns a \n",
    "oat, and `str()` returns a\n",
    "string.\n",
    "\n",
    "There is also the useful function `type()` which returns the type of variable.\n",
    "\n",
    "The easiest way to understand is to see an example. "
   ]
  },
  {
   "cell_type": "code",
   "execution_count": null,
   "metadata": {},
   "outputs": [],
   "source": [
    "# Type Casting Examples\n",
    "MyInteger = 234\n",
    "MyFloat = 876.543\n",
    "MyString = 'What is your name?'\n",
    "print(MyInteger,MyFloat,MyString)\n",
    "print('Integer as float',float(MyInteger))\n",
    "print('Float as integer',int(MyFloat))\n",
    "print('Integer as string',str(MyInteger))\n",
    "print('Integer as hexadecimal',hex(MyInteger))\n",
    "print('Integer Type',type((MyInteger)))  # insert the hex conversion and see what happens!"
   ]
  },
  {
   "cell_type": "markdown",
   "metadata": {},
   "source": [
    "## Expressions\n",
    "\n",
    "Expressions are the \"algebraic\" constructions that are evaluated and then placed into a variable.\n",
    "Consider\n",
    "\n",
    "    x1 = 7 + 3 * 6 / 2 - 1\n",
    "\n",
    "The expression is evaluated from the left to right and in words is\n",
    "\n",
    "    Into the object named x1 place the result of:\n",
    "    \n",
    "    integer 7 + (integer 6 divide by integer 2 = float 3 * integer 3 = float 9 - integer 1 = float 8) = float 15\n",
    "\n",
    "The division operation by default produces a float result unless forced otherwise.  The result is the variable `x1` is a float with a value of `15.0`\n",
    "    "
   ]
  },
  {
   "cell_type": "code",
   "execution_count": null,
   "metadata": {},
   "outputs": [],
   "source": [
    "# Expressions Example\n",
    "x1 = 7 + 3 * 6 // 2 - 1  # Change / into // and see what happens!\n",
    "print(type(x1),x1)\n",
    "## Simple I/O (Input/Output)"
   ]
  },
  {
   "cell_type": "markdown",
   "metadata": {},
   "source": [
    "## Simple string manipulation"
   ]
  },
  {
   "cell_type": "markdown",
   "metadata": {},
   "source": [
    "#### Exercise-1: Change the cell below to a code cell and run the script"
   ]
  },
  {
   "cell_type": "raw",
   "metadata": {},
   "source": [
    "print('Sup World?')\n",
    "print(3 + 2 )\n",
    "print('3 + 2')\n",
    "MyNumber = 3+2\n",
    "MyName = 'Dusty'\n",
    "print(MyName, MyNumber)\n",
    "print('MyName', 'MyNumber')"
   ]
  },
  {
   "cell_type": "markdown",
   "metadata": {},
   "source": [
    "#### Answer the following questions based on the output\n",
    "\n",
    "1.  What is the difference between `print( 3 + 2 )` and `print( '3 + 2')`?\n",
    "\n",
    "2.  What is the difference between `print( MyName, MyNumber)` and `print('MyName', 'MyNumber')`\n",
    "\n",
    "3.  Change `MyNumber = 3+2` to `MyNumber = 3+2.0`, and re-run the script, what happens? Why?\n",
    "\n",
    "Write your answers below: (Change the cells to Markdown)"
   ]
  },
  {
   "cell_type": "raw",
   "metadata": {},
   "source": [
    "1. Question 1 Answer"
   ]
  },
  {
   "cell_type": "raw",
   "metadata": {},
   "source": [
    "2. Question 2 Answer"
   ]
  },
  {
   "cell_type": "raw",
   "metadata": {},
   "source": [
    "3. Question 3 Answer"
   ]
  },
  {
   "cell_type": "markdown",
   "metadata": {},
   "source": [
    "#### Exercise-2: Variable Types\n",
    "\n",
    "Create a simple script that illustrates the following types of variables\n",
    "\n",
    "- integer\n",
    "- floating point (real)\n",
    "- string (alphanumeric)\n",
    "- boolean\n",
    "\n",
    "by \n",
    "\n",
    "1. Assigning a value to a string, integer, float, and boolean variable.  Use the names below\n",
    "\n",
    "        string_theory = ...\n",
    "        integer_type = ...\n",
    "        floating_point = ...\n",
    "        boolean_type = ...\n",
    "    \n",
    "    \n",
    "2. Then print the type and contents of each variable.\n",
    "\n",
    "        print(type(string_theory),string_theory) \n",
    "        print(type(integer_type), integer_type))\n",
    "        ...\n",
    "        ...\n"
   ]
  },
  {
   "cell_type": "code",
   "execution_count": null,
   "metadata": {},
   "outputs": [],
   "source": []
  },
  {
   "cell_type": "markdown",
   "metadata": {},
   "source": [
    "#### Exercise-3: Arithmetic and Expressions \n",
    "\n",
    "Calculate the expressions below by hand taking care to keep track of result type (integer or float)\n",
    "\n",
    "    x1 = 7 + 3 * 6 / 2 - 1\n",
    "    \n",
    "    x2 = 2 % 2 + 2 * 2 - 2 / 2\n",
    "    \n",
    "    x3 = ( 3 * 9 * ( 3 + ( 9 * 3 / ( 3 ) ) ) )\n",
    "\n",
    "Write your results below"
   ]
  },
  {
   "cell_type": "markdown",
   "metadata": {},
   "source": [
    "x1 (by hand) ="
   ]
  },
  {
   "cell_type": "markdown",
   "metadata": {},
   "source": [
    "x3 (by hand) ="
   ]
  },
  {
   "cell_type": "markdown",
   "metadata": {},
   "source": [
    "x3 (by hand) ="
   ]
  },
  {
   "cell_type": "markdown",
   "metadata": {},
   "source": [
    "Now write a script to evaluate and print the results, by\n",
    "\n",
    "1. Assigning a value to a variable.  Use the names above\n",
    "\n",
    "        x1 = 7 + 3 * 6 / 2 - 1\n",
    "        x2 = ...\n",
    "        x3 = ...\n",
    "    \n",
    "2. Then print the type and contents of each variable.\n",
    "\n",
    "        print(type(x1),x1) \n",
    "        print(type(x2),x2)\n",
    "        ...\n"
   ]
  },
  {
   "cell_type": "code",
   "execution_count": null,
   "metadata": {},
   "outputs": [],
   "source": []
  },
  {
   "cell_type": "markdown",
   "metadata": {},
   "source": [
    "#### Exercise-4: Simple Input/Output\n",
    "\n",
    "Get two floating point numbers via the `input()` function and store them under the variable names `float1` and `float2`.  \n",
    "\n",
    "    float1 = input(\"Please enter float1: \")\n",
    "    float1 = float(float1) \n",
    "    ...\n",
    "    \n",
    "Print `float1` and `float2` to the output screen.  \n",
    "\n",
    "    print(\"float1:\", float1)\n",
    "    ...\n",
    "\n",
    "Then check whether `float1` is greater than or equal to `float2`.\n"
   ]
  },
  {
   "cell_type": "code",
   "execution_count": null,
   "metadata": {},
   "outputs": [],
   "source": []
  },
  {
   "cell_type": "markdown",
   "metadata": {},
   "source": [
    "##### Optional\n",
    "\n",
    "Copy your script to an on-line Python compiler and run are the results the same?"
   ]
  },
  {
   "cell_type": "markdown",
   "metadata": {},
   "source": [
    "#### Exercise-5: String Element Manipulation \n",
    "\n",
    "Define the string given below in quotes to a meaningful variable name.\n",
    "\n",
    "    some_string ='Computational Thinking'\n",
    "\n",
    "Then\n",
    "\n",
    "1. Index and print all the elements from index positions 2 to 10.\n",
    "\n",
    "        begin = ???\n",
    "        end = ???\n",
    "        print(some_string[begin:end])\n",
    "        \n",
    "  \n",
    "2. Index and print the string 'Think'.\n",
    "\n"
   ]
  },
  {
   "cell_type": "code",
   "execution_count": null,
   "metadata": {},
   "outputs": [],
   "source": []
  }
 ],
 "metadata": {
  "kernelspec": {
   "display_name": "Python 38",
   "language": "python",
   "name": "python38"
  },
  "language_info": {
   "codemirror_mode": {
    "name": "ipython",
    "version": 3
   },
   "file_extension": ".py",
   "mimetype": "text/x-python",
   "name": "python",
   "nbconvert_exporter": "python",
   "pygments_lexer": "ipython3",
   "version": "3.8.3"
  }
 },
 "nbformat": 4,
 "nbformat_minor": 4
}
