{
 "cells": [
  {
   "cell_type": "markdown",
   "metadata": {},
   "source": [
    "## Lab session for variables, operators, expressions, basic I/O, and string manipulation"
   ]
  },
  {
   "cell_type": "markdown",
   "metadata": {},
   "source": [
    "#### Exercise-1: Run the script below (i.e. change the cell to a code cell and run the script)"
   ]
  },
  {
   "cell_type": "code",
   "execution_count": 17,
   "metadata": {},
   "outputs": [
    {
     "name": "stdout",
     "output_type": "stream",
     "text": [
      "Sup World?\n",
      "5\n",
      "3 + 2\n",
      "Dusty 5\n",
      "MyName MyNumber\n"
     ]
    }
   ],
   "source": [
    "print('Sup World?')\n",
    "print(3 + 2 )\n",
    "print('3 + 2')\n",
    "MyNumber = 3+2\n",
    "MyName = 'Dusty'\n",
    "print(MyName, MyNumber)\n",
    "print('MyName', 'MyNumber')"
   ]
  },
  {
   "cell_type": "markdown",
   "metadata": {},
   "source": [
    "**Answer the following questions based on the output**\n",
    "\n",
    "**1.  What is the difference between `print( 3 + 2 )` and `print( '3 + 2')`?**\n",
    "\n",
    "**2.  What is the difference between `print( MyName, MyNumber)` and `print('MyName', 'MyNumber')`?**\n",
    "\n",
    "**3.  Change `MyNumber = 3+2` to `MyNumber = 3+2.0`, and re-run the script, what happens? Why?**"
   ]
  },
  {
   "cell_type": "markdown",
   "metadata": {},
   "source": [
    "Write your answer here:"
   ]
  },
  {
   "cell_type": "markdown",
   "metadata": {},
   "source": [
    "1. The print statements write to the console, in this case an output cell\n",
    "   1. `print(3 + 2 )` prints the result of integer addition of 3 and 2, which is the integer 5. \n",
    "    \n",
    "   2. `print('3 + 2')` prints the literal (string) characters \"3\", \"+\", and \"2\" with a single whitespace between each character.\n",
    "   \n",
    "2. The print statements write to the console, in this case an output cell\n",
    "\n",
    "    1. `print( MyName, MyNumber)` prints the contents of the variables `MyName` and `MyNumber`, in this case `Dusty` and `5`\n",
    "    2. `print('MyName', 'MyNumber')` prints the literal strings `MyName` and `MyNumber`\n",
    "    \n",
    "3. Changing `MyNumber = 3+2` to `MyNumber = 3+2.0` changes the arithemetic to floating point because the 2.0 is a float.  The kernel performs mixed-mode arithmetic as float by default."
   ]
  },
  {
   "cell_type": "markdown",
   "metadata": {},
   "source": [
    "#### Exercise-2: Use the internet and search for Python variable types (https://www.inferentialthinking.com/chapters/04/Data_Types.html)\n",
    "\n",
    "**Create a simple script that illustrates the following types of variables**\n",
    "\n",
    "- **integer**\n",
    "- **floating point (real)**\n",
    "- **string (alphanumeric)**\n",
    "- **boolean**\n",
    "\n",
    "**by** \n",
    "\n",
    "**1. Assigning a value to a string, integer, float, and boolean variable.  Use meaningful names for each variable.**  \n",
    "**2. Print the contents of each variable.**"
   ]
  },
  {
   "cell_type": "code",
   "execution_count": 19,
   "metadata": {},
   "outputs": [
    {
     "name": "stdout",
     "output_type": "stream",
     "text": [
      "What's up?\n",
      "2\n",
      "2.0\n",
      "True\n"
     ]
    }
   ],
   "source": [
    "string_theory = \"What's up?\"\n",
    "integer_type = 2\n",
    "floating_point = 2.0\n",
    "boolean_type = True\n",
    "print(string_theory) # prints contents of string without literal delimiter (the quotes)\n",
    "print(integer_type)\n",
    "print(floating_point)\n",
    "print(boolean_type)"
   ]
  },
  {
   "cell_type": "markdown",
   "metadata": {},
   "source": [
    "#### Exercise-3: Run the code cell below.  Now, calculate the expressions in the code cell below by hand and see if your output matches the Python output.  "
   ]
  },
  {
   "cell_type": "code",
   "execution_count": 3,
   "metadata": {},
   "outputs": [
    {
     "name": "stdout",
     "output_type": "stream",
     "text": [
      "x1: 15.0\n",
      "x2: 3.0\n",
      "x3: 324.0\n"
     ]
    }
   ],
   "source": [
    "x1 = 7 + 3 * 6 / 2 - 1\n",
    "x2 = 2 % 2 + 2 * 2 - 2 / 2\n",
    "x3 = ( 3 * 9 * ( 3 + ( 9 * 3 / ( 3 ) ) ) )\n",
    "\n",
    "print(\"x1:\", x1)\n",
    "print(\"x2:\", x2)\n",
    "print(\"x3:\", x3)"
   ]
  },
  {
   "cell_type": "markdown",
   "metadata": {},
   "source": [
    "#### Exercise-4: Get two floating point numbers via the input() function and store them under the variable names 'float1' and 'float2'.  Print 'float1' and 'float2' to the output screen.  Following this, check whether 'float1' is greater than or equal to 'float2'."
   ]
  },
  {
   "cell_type": "code",
   "execution_count": 1,
   "metadata": {},
   "outputs": [
    {
     "name": "stdout",
     "output_type": "stream",
     "text": [
      "Please enter float1: 4.4\n",
      "float1: 4.4\n",
      "Please enter float2: 5.5\n",
      "float2: 5.5\n"
     ]
    },
    {
     "data": {
      "text/plain": [
       "False"
      ]
     },
     "execution_count": 1,
     "metadata": {},
     "output_type": "execute_result"
    }
   ],
   "source": [
    "float1 = input(\"Please enter float1: \")\n",
    "float1 = float(float1)\n",
    "print(\"float1:\", float1)\n",
    "float2 = input(\"Please enter float2: \")\n",
    "float2 = float(float2)\n",
    "print(\"float2:\", float2)\n",
    "\n",
    "float1 > float2"
   ]
  },
  {
   "cell_type": "markdown",
   "metadata": {},
   "source": [
    "#### Exercise-5: Define the string given below in quotes to a meaningul variable name.\n",
    "\n",
    "**'Computational Thinking'**\n",
    "\n",
    "**After initializing the variable:**\n",
    "\n",
    "**1. Index and print all the elements from index positions 2 to 10.**\n",
    "\n",
    "**2. Index and print the string 'Think'.**"
   ]
  },
  {
   "cell_type": "code",
   "execution_count": 21,
   "metadata": {},
   "outputs": [
    {
     "name": "stdout",
     "output_type": "stream",
     "text": [
      "mputation\n",
      "Think\n"
     ]
    }
   ],
   "source": [
    "mystring = 'Computational Thinking'\n",
    "print(mystring[2:11])\n",
    "print(mystring[14:19])"
   ]
  }
 ],
 "metadata": {
  "kernelspec": {
   "display_name": "Python 3",
   "language": "python",
   "name": "python3"
  },
  "language_info": {
   "codemirror_mode": {
    "name": "ipython",
    "version": 3
   },
   "file_extension": ".py",
   "mimetype": "text/x-python",
   "name": "python",
   "nbconvert_exporter": "python",
   "pygments_lexer": "ipython3",
   "version": "3.8.10"
  }
 },
 "nbformat": 4,
 "nbformat_minor": 4
}
