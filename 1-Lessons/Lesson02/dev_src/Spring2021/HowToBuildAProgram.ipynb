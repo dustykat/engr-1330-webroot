{
 "cells": [
  {
   "cell_type": "markdown",
   "metadata": {},
   "source": [
    "# How to Build a Program/Notebook\n",
    "The design protocol below, is similar to the 6-step process described in Lesson 0.  This document is shamelessly lifted from http://users.csc.calpoly.edu/~jdalbey/101/Lectures/HowToBuildAProgram.html here I am using the concept of program and notebook as the same thing.\n",
    "\n",
    "Building a program is not an art, it is an engineering process.  As such there is a process to follow with clearly defined steps.  \n",
    "\n",
    "## Analysis (Understand the Requirements)\n",
    "\n",
    "In this class you will be given the problem requirements, unlike the real-world where you have to elicit the requirements from a customer.  For you the first step will be to read the problem and be sure you understand what the program must do.  Summarize your understanding by writing the Input data, Output data, and Functions (operations or transformation on the data).\n",
    "\n",
    "## Create a Test Plan\n",
    "\n",
    "You must be able to verify that your program works correctly once it is written.  Invent some actual input data values and manually compute the expected result.  \n",
    "\n",
    "## Invent a Solution\n",
    "\n",
    "This is the creative, exploratory part of design where you figure out how to solve the problem.  Here is one strategy:\n",
    "Solve the problem manually, the way you would do it as a human.\n",
    "Pay careful to attention what operations you perform and write down each step.\n",
    "Look for a pattern in the steps you performed. \n",
    "Determine how this pattern could be automated using the 3 algorithm building blocks (Sequence, Selection, Iteration).\n",
    "\n",
    "## Design (Formalize your solution)\n",
    "\n",
    "Arrange your solution into components; this is called the architecture.\n",
    "Write the algorithm for each component.  Refine your algorithm in a step-wise manner if necessary.\n",
    "Determine the data types and constraints for each data item.\n",
    "Review\n",
    "\n",
    "Perform a hand trace of your solution and simulate how the computer will carry out your algorithm.  Make sure your algorithm works correctly before you put it into the computer.\n",
    "\n",
    "## Implementation (coding)\n",
    "\n",
    "Translate your algorithm into a programming language and enter it into the computer.  \n",
    "Compile your source code to produce an executable program.\n",
    "You may want to compile and test each subprogram individually before combining them into a complete program.\n",
    "\n",
    "## Testing\n",
    "\n",
    "Execute the program using the Test Plans you created above.\n",
    "Correct any errors as necessary.\n"
   ]
  }
 ],
 "metadata": {
  "kernelspec": {
   "display_name": "Python 3",
   "language": "python",
   "name": "python3"
  },
  "language_info": {
   "codemirror_mode": {
    "name": "ipython",
    "version": 3
   },
   "file_extension": ".py",
   "mimetype": "text/x-python",
   "name": "python",
   "nbconvert_exporter": "python",
   "pygments_lexer": "ipython3",
   "version": "3.8.5"
  }
 },
 "nbformat": 4,
 "nbformat_minor": 4
}
