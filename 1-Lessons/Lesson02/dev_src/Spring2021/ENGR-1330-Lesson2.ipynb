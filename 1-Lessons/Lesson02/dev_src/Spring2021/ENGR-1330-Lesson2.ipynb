{
 "cells": [
  {
   "cell_type": "markdown",
   "metadata": {},
   "source": [
    "# ENGR 1330 Computational Thinking with Data Science \n",
    "Last GitHub Commit Date: 19 January 2021\n",
    "## Lesson 2 Programming Fundamentals: \n",
    "- iPython, tokens, and structure\n",
    "- Data types (int, float, string, bool)\n",
    "- Variables, operators, expressions, basic I/O\n",
    "- String functions and operations\n",
    "\n",
    "### Special Script Blocks\n",
    "\n",
    "In the lesson notebooks there will usually be two script blocks, identical to the ones below.  \n",
    "\n",
    "- The first block identifies the particular computer, the user, and the python kernel in use.\n",
    "- The second block sets markdown tables to left edge when rendering.\n",
    "\n",
    "I usually put both blocks at the top of the notebook, just after some kind of title block, as done here."
   ]
  },
  {
   "cell_type": "code",
   "execution_count": 1,
   "metadata": {},
   "outputs": [
    {
     "name": "stdout",
     "output_type": "stream",
     "text": [
      "ip-172-26-4-2\n",
      "compthink\n",
      "/home/compthink/engr-1330-webroot/1-Lessons/Lesson02/OriginalPowerpoint\n",
      "/opt/jupyterhub/bin/python3\n",
      "3.8.5 (default, Jul 28 2020, 12:59:40) \n",
      "[GCC 9.3.0]\n",
      "sys.version_info(major=3, minor=8, micro=5, releaselevel='final', serial=0)\n"
     ]
    }
   ],
   "source": [
    "# Script block to identify host, user, and kernel\n",
    "import sys\n",
    "! hostname\n",
    "! whoami\n",
    "! pwd\n",
    "print(sys.executable)\n",
    "print(sys.version)\n",
    "print(sys.version_info)"
   ]
  },
  {
   "cell_type": "code",
   "execution_count": 2,
   "metadata": {},
   "outputs": [
    {
     "data": {
      "text/html": [
       "<!-- Script Block to set tables to left alignment -->\n",
       "<style>\n",
       "  table {margin-left: 0 !important;}\n",
       "</style>\n"
      ],
      "text/plain": [
       "<IPython.core.display.HTML object>"
      ]
     },
     "metadata": {},
     "output_type": "display_data"
    }
   ],
   "source": [
    "%%html\n",
    "<!-- Script Block to set tables to left alignment -->\n",
    "<style>\n",
    "  table {margin-left: 0 !important;}\n",
    "</style>"
   ]
  },
  {
   "cell_type": "code",
   "execution_count": 3,
   "metadata": {},
   "outputs": [],
   "source": [
    "%reset -f "
   ]
  },
  {
   "cell_type": "markdown",
   "metadata": {},
   "source": [
    "## Programming Fundamentals\n",
    "\n",
    "**Computational thinking (CT)** refers to the thought processes involved in expressing solutions as computational steps or algorithms that can be carried out by a computer.  CT is a process for breaking down a problem into smaller parts, looking for patterns in the problems, identifying what kind of information is needed, developing a step-by-step solution, and implementing that solution. Recall the 5 fundamental CT concepts are:\n",
    "\n",
    "1. Decomposition: the process of taking a complex problem and breaking it into more manageable sub-problems. Decomposition often leaves a **framework** of sub-problems that later have to be **assembled (system integration)** to produce a desired solution.\n",
    "2. Pattern Recognition: finding similarities, or shared characteristics of problems.  Allows a complex problem to become easier to solve. Allows use of same solution method ( **automation** ) for each occurrence of the pattern. \n",
    "3. Abstraction : Determine important characteristics of the problem and use these characteristics to create a representation of the problem. \n",
    "4. Algorithms : Step-by-step instructions of how to solve a problem (https://en.wikipedia.org/wiki/Algorithm). Identifies what is to be done, and the order in which they should be done.\n",
    "5. System Integration: the assembly of the parts above into the complete (integrated) solution.  Integration combines parts into a **program** which is the realization of an algorithm using a syntax that the computer can understand. \n",
    "\n",
    "**Programming** is (generally) writing code in a specific programming language to address a certain problem. In the above list it is largely contained within the algorithms concept.\n",
    "\n",
    "\n",
    "### iPython\n",
    "The programming language we will use is Python (actually iPython). Python is an example of a high-level language; there are also low-level languages, sometimes referred to as machine languages or assembly languages. Machine language is the encoding of instructions in binary so that they can be directly executed by the computer. Assembly language uses a slightly easier format to refer to the low level instructions. Loosely speaking, computers can only execute programs written in low-level languages. To be exact, computers can actually only execute programs written in machine language. Thus, programs written in a high-level language (and even those in assembly language) have to be processed before they can run. This extra processing takes some time, which is a small disadvantage of high-level languages. However, the advantages to high-level languages are enormous:\n",
    "\n",
    "- First, it is much easier to program in a high-level language. Programs written in a high-level language take less time to write, they are shorter and easier to read, and they are more likely to be correct. \n",
    "- Second, high-level languages are portable, meaning that they can run on different kinds of computers with just a  few modifications. \n",
    "- Low-level programs can run on only one kind of computer (chipset-specific for sure, in some cases hardware specific) and have to be rewritten to run on other processors. (e.g. x86-64 vs. arm7 vs. aarch64 vs. PowerPC ...)\n",
    "\n",
    "Due to these advantages, almost all programs are written in high-level languages. Low-level languages are used only for a few specialized applications.\n",
    "\n",
    "Two kinds of programs process high-level languages into low-level languages: interpreters and compilers. An interpreter reads a high-level program and executes it, meaning that it does what the program says. It processes the program a little at a time, alternately reading lines and performing computations.\n",
    "\n",
    "As a language, python is a formal language that has certain requirements and structure called \"syntax.\" Syntax rules come in two flavors, pertaining to **tokens** and **structure**. **Tokens** are the basic elements of the language, such as words, numbers, and chemical elements. The second type of syntax rule pertains to the **structure of a statement** specifically in the way the tokens are arranged. "
   ]
  },
  {
   "cell_type": "markdown",
   "metadata": {},
   "source": [
    "## Tokens and Structure\n",
    "\n",
    "Consider the relativistic equation relating energy, mass, and the speed of light \n",
    "$$ e = m \\cdot c^2 $$\n",
    "\n",
    "In this equation the tokens are $e$,$m$,$c$,$=$,$\\cdot$, and the structure is parsed from left to right as into the token named $e$ place the result of the product of the contents of the tokens $m$ and $c^2$. Given that the speed of light is some universal constant, the only things that can change are the contents of $m$ and the resulting change in $e$.  \n",
    "\n",
    "In the above discourse, the tokens $e$,$m$,$c$ are names for things that can have values -- we will call these variables (or constants as appropriate).  The tokens $=$,$\\cdot$, and $~^2$ are symbols for various arithmetic operations -- we will call these operators.  The structure of the equation is specific -- we will call it a statement.\n",
    "\n",
    "When we attempt to write and execute python scripts - we will make various mistakes; these will generate warnings and errors, which we will repair to make a working program.\n",
    "\n",
    "Consider our equation:"
   ]
  },
  {
   "cell_type": "code",
   "execution_count": 4,
   "metadata": {},
   "outputs": [
    {
     "ename": "NameError",
     "evalue": "name 'Mass' is not defined",
     "output_type": "error",
     "traceback": [
      "\u001b[0;31m---------------------------------------------------------------------------\u001b[0m",
      "\u001b[0;31mNameError\u001b[0m                                 Traceback (most recent call last)",
      "\u001b[0;32m<ipython-input-4-1c1f1fa5363a>\u001b[0m in \u001b[0;36m<module>\u001b[0;34m\u001b[0m\n\u001b[1;32m      1\u001b[0m \u001b[0;31m#clear all variables# Example\u001b[0m\u001b[0;34m\u001b[0m\u001b[0;34m\u001b[0m\u001b[0;34m\u001b[0m\u001b[0m\n\u001b[0;32m----> 2\u001b[0;31m \u001b[0mEnergy\u001b[0m \u001b[0;34m=\u001b[0m \u001b[0mMass\u001b[0m \u001b[0;34m*\u001b[0m \u001b[0mSpeedOfLight\u001b[0m\u001b[0;34m**\u001b[0m\u001b[0;36m2\u001b[0m\u001b[0;34m\u001b[0m\u001b[0;34m\u001b[0m\u001b[0m\n\u001b[0m",
      "\u001b[0;31mNameError\u001b[0m: name 'Mass' is not defined"
     ]
    }
   ],
   "source": [
    "#clear all variables# Example \n",
    "Energy = Mass * SpeedOfLight**2 "
   ]
  },
  {
   "cell_type": "markdown",
   "metadata": {},
   "source": [
    "Notice how the interpreter tells us that Mass is undefined - so a simple fix is to define it and try again"
   ]
  },
  {
   "cell_type": "code",
   "execution_count": 5,
   "metadata": {},
   "outputs": [
    {
     "ename": "NameError",
     "evalue": "name 'SpeedOfLight' is not defined",
     "output_type": "error",
     "traceback": [
      "\u001b[0;31m---------------------------------------------------------------------------\u001b[0m",
      "\u001b[0;31mNameError\u001b[0m                                 Traceback (most recent call last)",
      "\u001b[0;32m<ipython-input-5-a4a52966e6df>\u001b[0m in \u001b[0;36m<module>\u001b[0;34m\u001b[0m\n\u001b[1;32m      1\u001b[0m \u001b[0;31m# Example\u001b[0m\u001b[0;34m\u001b[0m\u001b[0;34m\u001b[0m\u001b[0;34m\u001b[0m\u001b[0m\n\u001b[1;32m      2\u001b[0m \u001b[0mMass\u001b[0m \u001b[0;34m=\u001b[0m \u001b[0;36m1000000\u001b[0m\u001b[0;34m\u001b[0m\u001b[0;34m\u001b[0m\u001b[0m\n\u001b[0;32m----> 3\u001b[0;31m \u001b[0mEnergy\u001b[0m \u001b[0;34m=\u001b[0m \u001b[0mMass\u001b[0m \u001b[0;34m*\u001b[0m \u001b[0mSpeedOfLight\u001b[0m\u001b[0;34m**\u001b[0m\u001b[0;36m2\u001b[0m\u001b[0;34m\u001b[0m\u001b[0;34m\u001b[0m\u001b[0m\n\u001b[0m",
      "\u001b[0;31mNameError\u001b[0m: name 'SpeedOfLight' is not defined"
     ]
    }
   ],
   "source": [
    "# Example \n",
    "Mass = 1000000\n",
    "Energy = Mass * SpeedOfLight**2 "
   ]
  },
  {
   "cell_type": "markdown",
   "metadata": {},
   "source": [
    "Notice how the interpreter now tells us that SpeedOfLight is undefined - so a simple fix is to define it and try again"
   ]
  },
  {
   "cell_type": "code",
   "execution_count": 6,
   "metadata": {},
   "outputs": [],
   "source": [
    "# Example \n",
    "Mass = 1000000  #kilograms\n",
    "SpeedOfLight = 299792458  #meters per second\n",
    "Energy = Mass * SpeedOfLight**2 "
   ]
  },
  {
   "cell_type": "markdown",
   "metadata": {},
   "source": [
    "Now the script ran without any reported errors, but we have not instructed the program on how to produce output.  To keep the example simple we will just add a generic print statement."
   ]
  },
  {
   "cell_type": "code",
   "execution_count": 7,
   "metadata": {},
   "outputs": [
    {
     "name": "stdout",
     "output_type": "stream",
     "text": [
      "Energy is: 89875517873681764000000 Newton meters\n"
     ]
    }
   ],
   "source": [
    "# Example \n",
    "Mass = 1000000  #kilograms\n",
    "SpeedOfLight = 299792458  #meters per second\n",
    "Energy = Mass * SpeedOfLight**2 \n",
    "print(\"Energy is:\", Energy, \"Newton meters\")"
   ]
  },
  {
   "cell_type": "markdown",
   "metadata": {},
   "source": [
    "Now lets examine our program.  Identify the tokens that have values, Identify the tokens that are symbols of operations, identify the structure."
   ]
  },
  {
   "cell_type": "markdown",
   "metadata": {},
   "source": [
    "## Variables\n",
    "\n",
    "Variables are names given to data that we want to store and manipulate in programs. A variable has a name and a value. The value representation depends on what type of object the variable represents. The utility of variables comes in when we have a structure that is universal, but values of variables within the structure will change - otherwise it would be simple enough to just hardwire the arithmetic.\n",
    "\n",
    "Suppose we want to store the time of concentration for some hydrologic calculation. \n",
    "To do so, we can name a variable `TimeOfConcentration`, and then `assign` a value to the variable,\n",
    "for instance:\n",
    "\n",
    "    TimeOfConcentration = 0.0\n",
    "    \n",
    "After this assignment statement the variable is created in the program and has a value of 0.0. \n",
    "The use of a decimal point in the initial assignment establishes the variable as a float (a real variable is called a floating point representation -- or just a float).\n",
    "\n",
    "### Naming Rules\n",
    "\n",
    "Variable names in Python can only contain letters (a - z, A - Z), numerals (0 - 9), or underscores. \n",
    "The first character cannot be a number, otherwise there is considerable freedom in naming. \n",
    "The names can be reasonably long. \n",
    "`runTime`, `run_Time`, `_run_Time2`, `_2runTime` are all valid names, but `2runTime` is not valid, and will create an error when you try to use it."
   ]
  },
  {
   "cell_type": "code",
   "execution_count": 8,
   "metadata": {},
   "outputs": [
    {
     "name": "stdout",
     "output_type": "stream",
     "text": [
      "1 2 2\n"
     ]
    }
   ],
   "source": [
    "# Script to illustrate variable names\n",
    "runTime = 1\n",
    "_2runTime = 2 # change to 2runTime = 2 and rerun script\n",
    "runTime2 = 2\n",
    "print(runTime,_2runTime,runTime2)"
   ]
  },
  {
   "cell_type": "markdown",
   "metadata": {},
   "source": [
    "There are some reserved words that cannot be used as variable names because they have preassigned meaning in Parseltongue. \n",
    "These words include `print`, `input`, `if`, `while`, and `for`. \n",
    "There are several more; the interpreter won't allow you to use these names as variables and will issue an error message when you attempt to run a program with such words used as variables."
   ]
  },
  {
   "cell_type": "markdown",
   "metadata": {},
   "source": [
    "## Operators\n",
    "\n",
    "The `=` sign used in the variable definition is called an assignment operator (or assignment sign). \n",
    "The symbol means that the expression to the right of the symbol is to be evaluated and the result placed into the variable on the left side of the symbol.  The \"operation\" is assignment, the \"=\" symbol is the operator name.\n",
    "\n",
    "Consider the script below"
   ]
  },
  {
   "cell_type": "code",
   "execution_count": 9,
   "metadata": {},
   "outputs": [
    {
     "name": "stdout",
     "output_type": "stream",
     "text": [
      "5 10\n",
      "10 10\n"
     ]
    }
   ],
   "source": [
    "# Assignment Operator\n",
    "x = 5\n",
    "y = 10\n",
    "print (x,y)\n",
    "x=y # reverse order y=x and re-run, what happens?\n",
    "print (x,y)"
   ]
  },
  {
   "cell_type": "markdown",
   "metadata": {},
   "source": [
    "So look at what happened. When we assigned values to the variables named `x` and `y`, they started life as 5 and 10. \n",
    "We then wrote those values to the console, and the program returned 5 and 10. \n",
    "Then we assigned `y` to `x` which took the value in y and replaced the value that was in x with this value. \n",
    "We then wrote the contents again, and both variables have the value 10."
   ]
  },
  {
   "cell_type": "markdown",
   "metadata": {},
   "source": [
    "## Arithmetic Operators\n",
    "\n",
    "In addition to assignment we can also perform arithmetic operations on variables. The\n",
    "fundamental arithmetic operators are:\n",
    "\n",
    "| Symbol | Meaning | Example |\n",
    "|:---|:---|:---|\n",
    "| = |Assignment| x=3 Assigns value of 3 to x.|\n",
    "| + |Addition| x+y Adds values in x and y.|\n",
    "| - |Subtraction| x-y Subtracts values in y from x.|\n",
    "| * |Multiplication| x*y Multiplies values in x and y.|\n",
    "| / |Division| x/y Divides value in x by value in y.|\n",
    "| // |Floor division| x//y Divide x by y, truncate result to whole number.|\n",
    "| % |Modulus| x%y Returns remainder when x is divided by y.|\n",
    "| ** |Exponentation| x ** y Raises value in x by value in y. ( e.g. x ** y)|\n",
    "| += |Additive assignment| x+=2 Equivalent to x = x+2.|\n",
    "| -= |Subtractive assignment| x-=2 Equivalent to x = x-2.|\n",
    "| *= |Multiplicative assignment| x\\*=3 Equivalent to x = x\\*3.|\n",
    "| /= |Divide assignment| x/3 Equivalent to x = x/3.|\n",
    "\n",
    "Run the script in the next cell for some illustrative results"
   ]
  },
  {
   "cell_type": "code",
   "execution_count": 10,
   "metadata": {},
   "outputs": [
    {
     "name": "stdout",
     "output_type": "stream",
     "text": [
      "10 5\n",
      "15\n",
      "5\n",
      "50\n",
      "2.0\n",
      "2\n",
      "1\n",
      "100000\n"
     ]
    }
   ],
   "source": [
    "# Uniary Arithmetic Operators\n",
    "x = 10\n",
    "y = 5\n",
    "print(x, y)\n",
    "print(x+y)\n",
    "print(x-y)\n",
    "print(x*y)\n",
    "print(x/y)\n",
    "print((x+1)//y)\n",
    "print((x+1)%y)\n",
    "print(x**y)"
   ]
  },
  {
   "cell_type": "code",
   "execution_count": 11,
   "metadata": {},
   "outputs": [
    {
     "name": "stdout",
     "output_type": "stream",
     "text": [
      "<class 'int'> 3\n",
      "<class 'int'> -1\n",
      "<class 'int'> 3\n",
      "<class 'float'> 5.0\n"
     ]
    }
   ],
   "source": [
    "# Arithmetic assignment operators\n",
    "x = 1\n",
    "x += 2\n",
    "print(type(x),x)\n",
    "x = 1\n",
    "x -= 2\n",
    "print(type(x),x)\n",
    "x = 1\n",
    "x *=3\n",
    "print(type(x),x)\n",
    "x = 10\n",
    "x /= 2\n",
    "print(type(x),x)  # Interesting what division does to variable type"
   ]
  },
  {
   "cell_type": "markdown",
   "metadata": {},
   "source": [
    "## Data Type\n",
    "In the computer data are all binary digits (actually 0 and +5 volts). \n",
    "At a higher level of **abstraction** data are typed into integers, real, or alphanumeric representation. \n",
    "The type affects the kind of arithmetic operations that are allowed (as well as the kind of arithmetic - integer versus real arithmetic; lexicographical ordering of alphanumeric , etc.)\n",
    "In scientific programming, a common (and really difficult to detect) source of slight inaccuracies (that tend to snowball as the program runs) is mixed mode arithmetic required because two numeric values are of different types (integer and real).\n",
    "\n",
    "Learn more from the textbook\n",
    "\n",
    "https://www.inferentialthinking.com/chapters/04/Data_Types.html\n",
    "\n",
    "Here we present a quick summary\n",
    "\n",
    "### Integer\n",
    "Integers are numbers without any fractional portion (nothing after the decimal point { which\n",
    "is not used in integers). Numbers like -3, -2, -1, 0, 1, 2, 200 are integers. A number like 1.1\n",
    "is not an integer, and 1.0 is also not an integer (the presence of the decimal point makes the\n",
    "number a real).\n",
    "\n",
    "To declare an integer in Python, just assign the variable name to an integer for example\n",
    "\n",
    "    MyPhoneNumber = 14158576309\n",
    "    \n",
    "### Real (Float)\n",
    "A real or float is a number that has (or can have) a fractional portion - the number has\n",
    "decimal parts. The numbers 3.14159, -0.001, 11.11, 1., are all floats. \n",
    "The last one is especially tricky, if you don't notice the decimal point you might think it is an integer but the\n",
    "inclusion of the decimal point in Python tells the program that the value is to be treated as a \n",
    "float.\n",
    "To declare a \n",
    "float in Python, just assign the variable name to a \n",
    "float for example\n",
    "\n",
    "    MyMassInKilos = 74.8427\n",
    "\n",
    "### String(Alphanumeric)\n",
    "A string is a data type that is treated as text elements. The usual letters are strings, but\n",
    "numbers can be included. The numbers in a string are simply characters and cannot be\n",
    "directly used in arithmetic. \n",
    "There are some kinds of arithmetic that can be performed on strings but generally we process string variables to capture the text nature of their contents. \n",
    "To declare a string in Python, just assign the variable name to a string value - the trick is the value is enclosed in quotes. \n",
    "The quotes are delimiters that tell the program that the characters between the quotes are characters and are to be treated as literal representation.\n",
    "\n",
    "For example\n",
    "\n",
    "    MyName = 'Theodore'\n",
    "    MyCatName = \"Dusty\"\n",
    "    DustyMassInKilos = \"7.48427\"\n",
    "    \n",
    "are all string variables. \n",
    "The last assignment is made a string on purpose. \n",
    "String variables can be combined using an operation called concatenation. \n",
    "The symbol for concatenation is the plus symbol `+`.\n",
    "\n",
    "Strings can also be converted to all upper case using the `upper()` function. The syntax for\n",
    "the `upper()` function is `'string to be upper case'.upper()`. \n",
    "Notice the \"dot\" in the syntax. \n",
    "The operation passes everything to the left of the dot to the function which then\n",
    "operates on that content and returns the result all upper case (or an error if the input stream\n",
    "is not a string)."
   ]
  },
  {
   "cell_type": "code",
   "execution_count": 1,
   "metadata": {},
   "outputs": [
    {
     "name": "stdout",
     "output_type": "stream",
     "text": [
      "All about me\n",
      "Name:  Theodore  Mass : 74.8427 Kg\n",
      "Phone :  14158576309\n",
      "My cat's name : Dusty\n",
      "All about concatenation!\n",
      "A Silly String :  DustyTheodore7.48427\n",
      "A SILLY STRING :   DUSTYTHEODORE7.48427\n"
     ]
    }
   ],
   "source": [
    "# Variable Types Example\n",
    "MyPhoneNumber = 14158576309\n",
    "MyMassInKilos = 74.8427\n",
    "MyName = 'Theodore'\n",
    "MyCatName = \"Dusty\"\n",
    "DustyMassInKilos = \"7.48427\"\n",
    "print(\"All about me\")\n",
    "print(\"Name: \",MyName, \" Mass :\",MyMassInKilos,\"Kg\" )\n",
    "print('Phone : ',MyPhoneNumber)\n",
    "print('My cat\\'s name :', MyCatName)  # the \\ escape character is used to get the ' into the literal\n",
    "print(\"All about concatenation!\")\n",
    "print(\"A Silly String : \",MyCatName+MyName+DustyMassInKilos)\n",
    "print(\"A SILLY STRING :  \", (MyCatName+MyName+DustyMassInKilos).upper())"
   ]
  },
  {
   "cell_type": "markdown",
   "metadata": {},
   "source": [
    "Strings can be formatted using the `%` operator or the `format()` function. The concepts will\n",
    "be introduced later on as needed in the workbook, you can Google search for examples of\n",
    "how to do such formatting.\n",
    "\n",
    "### Changing Types\n",
    "A variable type can be changed. \n",
    "This activity is called type casting. \n",
    "Three functions allow\n",
    "type casting: `int()`, `float()`, and `str()`. \n",
    "The function names indicate the result of using\n",
    "the function, hence `int()` returns an integer, `float()` returns a \n",
    "oat, and `str()` returns a\n",
    "string.\n",
    "\n",
    "There is also the useful function `type()` which returns the type of variable.\n",
    "\n",
    "The easiest way to understand is to see an example. "
   ]
  },
  {
   "cell_type": "code",
   "execution_count": 2,
   "metadata": {},
   "outputs": [
    {
     "name": "stdout",
     "output_type": "stream",
     "text": [
      "234 876.543 What is your name?\n",
      "Integer as float 234.0\n",
      "Float as integer 876\n",
      "Integer as string 234\n",
      "Integer as hexadecimal 0xea\n",
      "Integer Type <class 'int'>\n"
     ]
    }
   ],
   "source": [
    "# Type Casting Examples\n",
    "MyInteger = 234\n",
    "MyFloat = 876.543\n",
    "MyString = 'What is your name?'\n",
    "print(MyInteger,MyFloat,MyString)\n",
    "print('Integer as float',float(MyInteger))\n",
    "print('Float as integer',int(MyFloat))\n",
    "print('Integer as string',str(MyInteger))\n",
    "print('Integer as hexadecimal',hex(MyInteger))\n",
    "print('Integer Type',type((MyInteger)))  # insert the hex conversion and see what happens!"
   ]
  },
  {
   "cell_type": "markdown",
   "metadata": {},
   "source": [
    "## Expressions\n",
    "\n",
    "Expressions are the \"algebraic\" constructions that are evaluated and then placed into a variable.\n",
    "Consider\n",
    "\n",
    "    x1 = 7 + 3 * 6 / 2 - 1\n",
    "\n",
    "The expression is evaluated from the left to right and in words is\n",
    "\n",
    "    Into the object named x1 place the result of:\n",
    "    \n",
    "    integer 7 + (integer 6 divide by integer 2 = float 3 * integer 3 = float 9 - integer 1 = float 8) = float 15\n",
    "\n",
    "The division operation by default produces a float result unless forced otherwise.  The result is the variable `x1` is a float with a value of `15.0`"
   ]
  },
  {
   "cell_type": "code",
   "execution_count": 12,
   "metadata": {},
   "outputs": [
    {
     "name": "stdout",
     "output_type": "stream",
     "text": [
      "<class 'int'> 15\n"
     ]
    }
   ],
   "source": [
    "# Expressions Example\n",
    "x1 = 7 + 3 * 6 // 2 - 1  # Change / into // and see what happens!\n",
    "print(type(x1),x1)\n",
    "## Simple I/O (Input/Output)"
   ]
  },
  {
   "cell_type": "markdown",
   "metadata": {},
   "source": [
    "### Summary\n",
    "\n",
    "So far consider our story - a tool to help with problem solving is CT leading to an algorithm.  The tool to implement the algorithm is the program and in our case JupyterLab running iPython interpreter for us.\n",
    "\n",
    "As a formal language we introduced:\n",
    "- tokens\n",
    "- structure\n",
    "\n",
    "From these two constructs we further introduced **variables** (a kind of token), **data types** (an abstraction, and arguably a decomposition), and **expressions** (a structure).  We created simple scripts (with errors), examined the errors, corrected our script, and eventually got an answer.  So we are well on our way in CT as it applies in Engineering."
   ]
  },
  {
   "cell_type": "markdown",
   "metadata": {},
   "source": [
    "## Programming as a problem solving process\n",
    "Recall the entire point of this course is to develop problem solving skills and begin using some tools (Statistics, Numerical Methods, Data Science, implemented as JupyterLab/Python programs). Recall our suggested problem solving protocol:\n",
    "\n",
    "1. Explicitly state the problem\n",
    "2. State:\n",
    "  - Input information\n",
    "  - Governing equations or principles, and \n",
    "  - The required output information.\n",
    "3. Work a sample problem by-hand for testing the general solution.\n",
    "4. Develop a general solution method (coding).\n",
    "5. Test the general solution against the by-hand example, then apply to the real problem.\n",
    "6. Refine general solution for deployment (frequent use)\n",
    "\n",
    "Another protocol with the same goal is at https://3.137.111.182/engr-1330-webroot/1-Lessons/Lesson02/OriginalPowerpoint/HowToBuildAProgram.html   Notice the similarity!\n"
   ]
  },
  {
   "cell_type": "markdown",
   "metadata": {},
   "source": [
    "### Example 2 Problem Solving Process\n",
    "\n",
    "Consider an engineering material problem where we wish to classify whether a material in loaded in the elastic or inelastic region as determined the stress (solid pressure) in a rod for some applied load.  The yield stress is the classifier, and once the material yields (begins to fail) it will not carry any additional load (until ultimate failure, when it carries no load).\n",
    "\n",
    "![](StressStrain.png)\n",
    "\n",
    "**Step 1.** Compute the material stress under an applied load; determine if value exceedes yield stress, and report the loading condition\n",
    "\n",
    "**Step 2.** \n",
    "  - Inputs: applied load, cross sectional area, yield stress\n",
    "  - Governing equation: $ \\sigma = \\frac{P}{A} $ when $\\frac{P}{A} $ is less than the yield stress, and is equal to the yield stress otherwise.\n",
    "  - Outputs: The material stress $\\sigma $, and the classification elastic or inelastic.\n",
    "\n",
    "**Step 3.** Work a sample problem by-hand for testing the general solution.\n",
    "\n",
    "Assuming the yield stress is 1 million psi (units matter in an actual problem - kind of glossed over here)\n",
    "\n",
    "|Applied Load (lbf)|Cross Section Area (sq.in.)|Stress (psi)|Classification|\n",
    "|---:|---:|---:|---:|\n",
    "|10,000|1.0|10,000|Elastic|\n",
    "|10,000|0.1|100,000|Elastic|\n",
    "|100,000|0.1|1,000,000|Inelastic|\n",
    "\n",
    "\n",
    "The stress requires us to read in the load value, read in the cross sectional area, divide the load by the area, and compare the result to the yield stress.  If it exceeds the yield stress, then the actual stress is the yield stress, and the loading is inelastic, otherwise elastic\n",
    "\n",
    "$$ \\sigma = \\frac{P}{A} $$\n",
    "$$ If \\sigma >= \\text{Yield Stress  Report Inelastic} $$\n",
    "\n",
    "**Step 4.** Develop a general solution (code)\n",
    "\n",
    "In a flow-chart it would look like:\n",
    "\n",
    "![](Flowchart.png)\n",
    "\n",
    "||Flowchart for Artihmetic Mean Algorithm||\n",
    "|---|------------|---|\n",
    "\n",
    "**Step 5.** This step we would code the algorithm expressed in the figure and test it with the by-hand data and other small datasets until we are convinced it works correctly. We have not yet learned prompts to get input we simply direct assign values as below (and the conditional execution is the subject of a later lesson)\n",
    "\n",
    "In a simple JupyterLab script"
   ]
  },
  {
   "cell_type": "code",
   "execution_count": 23,
   "metadata": {},
   "outputs": [
    {
     "name": "stdout",
     "output_type": "stream",
     "text": [
      "Inelastic Region: Stress =  1000000.0\n"
     ]
    }
   ],
   "source": [
    "# Example 2 Problem Solving Process\n",
    "yield_stress = 1e6\n",
    "applied_load = 1e5\n",
    "cross_section = 0.1\n",
    "computed_stress = applied_load/cross_section\n",
    "if(computed_stress < yield_stress):\n",
    "    print(\"Elastic Region: Stress = \",computed_stress)\n",
    "elif(computed_stress >= yield_stress):\n",
    "    print(\"Inelastic Region: Stress = \",yield_stress)"
   ]
  },
  {
   "cell_type": "markdown",
   "metadata": {},
   "source": [
    "**Step 6.** This step we would refine the code to generalize the algorithm.  In the example we want a way to supply the inputs by user entry,and tidy the output by rounding to only two decimal places.  A little CCMR from https://www.geeksforgeeks.org/taking-input-in-python/ gives us a way to deal with the inputs and typecasting.  Some more CCMR from https://www.programiz.com/python-programming/methods/built-in/round gets us rounded out!"
   ]
  },
  {
   "cell_type": "code",
   "execution_count": 3,
   "metadata": {},
   "outputs": [
    {
     "name": "stdin",
     "output_type": "stream",
     "text": [
      "Yield Stress (psi) 1000000\n",
      "Applied Load (lbf) 100000\n",
      "Cross Section Area (sq.in.) 1\n"
     ]
    },
    {
     "name": "stdout",
     "output_type": "stream",
     "text": [
      "Elastic Region: Stress =  100000.0\n"
     ]
    }
   ],
   "source": [
    "# Example 2 Problem Solving Process\n",
    "yield_stress = float(input('Yield Stress (psi)'))\n",
    "applied_load = float(input('Applied Load (lbf)'))\n",
    "cross_section = float(input('Cross Section Area (sq.in.)'))\n",
    "computed_stress = applied_load/cross_section\n",
    "if(computed_stress < yield_stress):\n",
    "    print(\"Elastic Region: Stress = \",round(computed_stress,2))\n",
    "elif(computed_stress >= yield_stress):\n",
    "    print(\"Inelastic Region: Stress = \",round(yield_stress,2))"
   ]
  },
  {
   "cell_type": "markdown",
   "metadata": {},
   "source": [
    "So the simple task of computing the stress, is a bit more complex when decomposed, that it first appears, but illustrates a five step process (with a refinement step)."
   ]
  },
  {
   "cell_type": "markdown",
   "metadata": {},
   "source": [
    "## CCMR Approach\n",
    "\n",
    "A lot of the problems we will encounter from a CT/DS perspective have already been solved, or at least analogs have been solved.  It is perfectly acceptable to use prior work for a new set of conditions as long as proper attribution is made.  We call this process CCMR:\n",
    "\n",
    "1. **Copy:** Find a solution to your problem from some online example:  SourceForge, StackOverflow, GeeksForGeeks, DigitalOcean, etc.\n",
    "2. **Cite:** Cite the original source.  In general a citation will look like one of the references below, but a URL to the source is sufficient at first.\n",
    "3. **Modify:** Modify the original cited work for your specific needs.  Note the changes in the code using comment statements.\n",
    "4. **Run:** Apply the modified code to the problem of interest. \n",
    "\n",
    "In cases where we use CCMR we are not so much programming and developing our own work as scaffolding parts (https://en.wikipedia.org/wiki/Scaffold_(programming)) - a legitimate and valuable engineering activity."
   ]
  },
  {
   "cell_type": "markdown",
   "metadata": {},
   "source": [
    "## Readings\n",
    "\n",
    "1. Computational and Inferential Thinking Ani Adhikari and John DeNero, Computational and Inferential Thinking, The Foundations of Data Science, Creative Commons Attribution-NonCommercial-NoDerivatives 4.0 International (CC BY-NC-ND) Chapter 3 https://www.inferentialthinking.com/chapters/03/programming-in-python.html\n",
    "\n",
    "2. Computational and Inferential Thinking Ani Adhikari and John DeNero, Computational and Inferential Thinking, The Foundations of Data Science, Creative Commons Attribution-NonCommercial-NoDerivatives 4.0 International (CC BY-NC-ND) Chapter 4 \n",
    "https://www.inferentialthinking.com/chapters/04/Data_Types.html\n",
    "\n",
    "3. Learn Python in One Day and Learn It Well. Python for Beginners with Hands-on Project. (Learn Coding Fast with Hands-On Project Book -- Kindle Edition by LCF Publishing (Author), Jamie Chan https://www.amazon.com/Python-2nd-Beginners-Hands-Project-ebook/dp/B071Z2Q6TQ/ref=sr_1_3?dchild=1&keywords=learn+python+in+a+day&qid=1611108340&sr=8-3\n",
    "\n",
    "4. Learn Python the Hard Way (Online Book) (https://learnpythonthehardway.org/book/)  Recommended for beginners who want a complete course in programming with Python.\n",
    "\n",
    "5. LearnPython.org (Interactive Tutorial) (https://www.learnpython.org/)  Short, interactive tutorial for those who just need a quick way to pick up Python syntax.\n",
    "\n",
    "6.  How to Think Like a Computer Scientist (Interactive Book) (https://runestone.academy/runestone/books/published/thinkcspy/index.html) Interactive \"CS 101\" course taught in Python that really focuses on the art of problem solving. \n",
    "\n",
    "7. How to Learn Python for Data Science, The Self-Starter Way (https://elitedatascience.com/learn-python-for-data-science) "
   ]
  },
  {
   "cell_type": "code",
   "execution_count": null,
   "metadata": {},
   "outputs": [],
   "source": []
  }
 ],
 "metadata": {
  "kernelspec": {
   "display_name": "Python 3",
   "language": "python",
   "name": "python3"
  },
  "language_info": {
   "codemirror_mode": {
    "name": "ipython",
    "version": 3
   },
   "file_extension": ".py",
   "mimetype": "text/x-python",
   "name": "python",
   "nbconvert_exporter": "python",
   "pygments_lexer": "ipython3",
   "version": "3.8.5"
  }
 },
 "nbformat": 4,
 "nbformat_minor": 4
}
