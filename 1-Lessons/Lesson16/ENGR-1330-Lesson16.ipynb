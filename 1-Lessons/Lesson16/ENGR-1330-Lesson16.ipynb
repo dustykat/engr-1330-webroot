{
 "cells": [
  {
   "cell_type": "markdown",
   "metadata": {},
   "source": [
    "Download this page as a jupyter notebook at [Lesson 16](http://54.243.252.9/engr-1330-webroot/1-Lessons/Lesson16/ENGR-1330-Lesson16.ipynb)"
   ]
  },
  {
   "cell_type": "markdown",
   "metadata": {},
   "source": [
    "---\n",
    "\n",
    "# ENGR 1330 Computational Thinking with Data Science \n",
    "Last GitHub Commit Date: 31 January 2021\n",
    "\n",
    "## Lesson 16 Hypothesis Testing\n",
    "A procedure to systematically decide if two data collections are similar or substantially different.\n",
    "\n",
    "---"
   ]
  },
  {
   "cell_type": "code",
   "execution_count": 19,
   "metadata": {},
   "outputs": [
    {
     "name": "stdout",
     "output_type": "stream",
     "text": [
      "atomickitty\n",
      "sensei\n",
      "/home/sensei/engr-1330-webroot/1-Lessons/Lesson15\n",
      "/opt/jupyterhub/bin/python3\n"
     ]
    }
   ],
   "source": [
    "# Script block to identify host, user, and kernel\n",
    "import sys\n",
    "! hostname; ! whoami; ! pwd; \n",
    "print(sys.executable)"
   ]
  },
  {
   "cell_type": "code",
   "execution_count": 20,
   "metadata": {},
   "outputs": [
    {
     "data": {
      "text/html": [
       "<!--Script block to left align Markdown Tables-->\n",
       "<style>\n",
       "  table {margin-left: 0 !important;}\n",
       "</style>\n"
      ],
      "text/plain": [
       "<IPython.core.display.HTML object>"
      ]
     },
     "metadata": {},
     "output_type": "display_data"
    }
   ],
   "source": [
    "%%html\n",
    "<!--Script block to left align Markdown Tables-->\n",
    "<style>\n",
    "  table {margin-left: 0 !important;}\n",
    "</style>"
   ]
  },
  {
   "cell_type": "markdown",
   "metadata": {},
   "source": [
    "---\n",
    "\n",
    "## Objectives\n",
    "- To apply fundamental concepts involved in probability estimation modeling and descriptive statistics;\n",
    "  - Concept of a hypothesis\n",
    "- Hypothesis components\n",
    "  - Null hypothesis and alternative hypothesis\n",
    "  - Normal distribution model\n",
    "  - One-tail, two-tail tests\n",
    "  - Attained significance\n",
    "- Decision Error\n",
    "  - Type-1, Type-2\n",
    "\n",
    "  \n",
    "---\n",
    "\n",
    "## Computational Thinking Concepts\n",
    "The CT concepts include:\n",
    "\n",
    "- Abstraction => Represent data behavior with a function \n",
    "- Pattern Recognition => Patterns in data models to make decision\n",
    "---\n"
   ]
  },
  {
   "cell_type": "markdown",
   "metadata": {},
   "source": [
    " In statistics, when we wish to start asking questions about the data and interpret the results, we use statistical methods that provide a confidence or likelihood about the answers. In general, this class of methods is called statistical hypothesis testing, or significance tests. The material for today's lecture is inspired by and gathered from several resources including:\n",
    "1. Hypothesis testing in Machine learning using Python by Yogesh Agrawal available at https://towardsdatascience.com/hypothesis-testing-in-machine-learning-using-python-a0dc89e169ce\n",
    "2. Demystifying hypothesis testing with simple Python examples by Tirthajyoti Sarkar available at https://towardsdatascience.com/demystifying-hypothesis-testing-with-simple-python-examples-4997ad3c5294\n",
    "3. A Gentle Introduction to Statistical Hypothesis Testing by Jason Brownlee available at https://machinelearningmastery.com/statistical-hypothesis-tests/\n",
    "\n",
    "---\n",
    "### Fundamental Concepts"
   ]
  },
  {
   "cell_type": "markdown",
   "metadata": {},
   "source": [
    "#### <font color=crimson>What is hypothesis testing ?</font><br>\n",
    "Hypothesis testing is a statistical method that is used in making statistical decisions (about population) using experimental data (samples). Hypothesis Testing is basically an assumption that we make about the population parameter.<br>\n",
    "\n",
    "Example : You state \"on average, students in the class are taller than 5 ft and 4 inches\" or \"an average boy is taller than an average girl\" or \"a specific treatment is effective in treating COVID-19 patients\". <br>\n",
    "\n",
    "We need some mathematical way support that whatever we are stating is true. \n",
    "We validate these hypotheses, basing our conclusion on random samples and empirical distributions."
   ]
  },
  {
   "cell_type": "markdown",
   "metadata": {},
   "source": [
    "#### <font color=crimson>Why do we use it ?</font><br>\n",
    "Hypothesis testing is an essential procedure in experimentation. A hypothesis test evaluates two mutually exclusive statements about a population to determine which statement is supported by the sample data. When we say that a finding is **statistically significant**, it’s thanks to a hypothesis test."
   ]
  },
  {
   "cell_type": "markdown",
   "metadata": {},
   "source": [
    "![](https://luminousmen.com/media/demystifying-hypothesis-testing.jpg)"
   ]
  },
  {
   "cell_type": "markdown",
   "metadata": {},
   "source": [
    "#### <font color=crimson>What are important elements of hypothesis testing ?</font><br>\n",
    "__Null hypothesis__ :<br> \n",
    "    The assumption of a statistical test is called the null hypothesis, or hypothesis 0 (H0 for short). It is often called the default assumption, or the assumption that nothing has changed. In inferential statistics, the null hypothesis is a general statement or default position that there is no relationship between two measured phenomena, or no association among groups. In other words it is a basic assumption or made based on domain or problem knowledge.\n",
    "Example : a company' production is = 50 unit/per day.\n",
    "    \n",
    "__Alternative hypothesis :__<br> \n",
    "    A violation of the test’s assumption is often called the first hypothesis, hypothesis 1 or H1 for short. H1 is really a short hand for “some other hypothesis,” as all we know is that the evidence suggests that the H0 can be rejected. The alternative hypothesis is the hypothesis used in hypothesis testing that is contrary to the null hypothesis. It is usually taken to be that the observations are the result of a real effect (with some amount of chance variation superposed). \n",
    "Example : a company's production is !=50 unit/per day.\n",
    "    "
   ]
  },
  {
   "cell_type": "markdown",
   "metadata": {},
   "source": [
    "#### <font color=crimson>What is the basis of a hypothesis test?</font><br>\n",
    "The basis of a hypothesis test is often normalisation and standard normalisation. \n",
    "All our hypothesis revolve around these 2 terms.<br>\n",
    "\n",
    "![](https://miro.medium.com/max/350/1*U-cR-vP8pYUmLUDwCPv23A.png) <br>\n",
    "![](https://miro.medium.com/max/350/1*2vTwIrqdELKJY-tpheO7GA.jpeg) <br>\n",
    "\n",
    "in the 1st image, you can see there are different normal curves. Those normal curves have different means and variances. \n",
    "\n",
    "In the 2nd image if you notice the graph is properly distributed with a mean =0 and variance =1. Concept of z-score comes in picture when we use standardized normal data.\n",
    "\n",
    "#### Normal Distribution:\n",
    "A variable is said to be normally distributed or have a normal distribution if its distribution has the shape of a normal curve — a special bell-shaped curve. The graph of a normal distribution is called the normal curve, for which the mean, median, and mode are equal. (The 1st Image)\n",
    "#### Standardised Normal Distribution:\n",
    "A standard normal distribution is a normal distribution with mean 0 and standard deviation 1 (The 2nd Image)"
   ]
  },
  {
   "cell_type": "code",
   "execution_count": 146,
   "metadata": {},
   "outputs": [],
   "source": [
    "import math # lesson 13 functions\n",
    "\n",
    "def normdensity(x,mu,sigma):\n",
    "    weight = 1.0 /(sigma * math.sqrt(2.0*math.pi))\n",
    "    argument = ((x - mu)**2)/(2.0*sigma**2)\n",
    "    normdensity = weight*math.exp(-1.0*argument)\n",
    "    return normdensity\n",
    "\n",
    "def normdist(x,mu,sigma):\n",
    "    argument = (x - mu)/(math.sqrt(2.0)*sigma)    \n",
    "    normdist = (1.0 + math.erf(argument))/2.0\n",
    "    return normdist"
   ]
  },
  {
   "cell_type": "code",
   "execution_count": 152,
   "metadata": {},
   "outputs": [
    {
     "data": {
      "image/png": "[encoded data removed]",
      "text/plain": [
       "<Figure size 720x360 with 1 Axes>"
      ]
     },
     "metadata": {
      "needs_background": "light"
     },
     "output_type": "display_data"
    }
   ],
   "source": [
    "# create some observations\n",
    "import numpy\n",
    "mu = -2.0\n",
    "sigma = math.sqrt(0.5)\n",
    "observations = sigma * numpy.random.randn(10000) + mu\n",
    "observations = numpy.sort(observations)\n",
    "# print(observations)\n",
    "pdf = [0 for i in range(observations.size)]\n",
    "for i in range(observations.size):\n",
    "    pdf[i]=normdensity(observations[i],mu,sigma)\n",
    "#    pdf[i]=normdist(observations[i],mu,sigma)\n",
    "modeldom = numpy.linspace(mu-4*sigma,mu+4*sigma,200)\n",
    "modelran = [0 for i in range(modeldom.size)]\n",
    "for i in range(modeldom.size):\n",
    "    modelran[i]=normdensity(modeldom[i],mu,sigma)\n",
    "#    modelran[i]=normdist(modeldom[i],mu,sigma)\n",
    "import make2plot # http://54.243.252.9/engr-1330-webroot/1-Lessons/Lesson16/make2plot.py\n",
    "make2plot.make2plot(observations,pdf,modeldom,modelran,\"x\",\"pdf\",\"Normal Distribution\") # notice module_name.function_name(arguments) syntax"
   ]
  },
  {
   "cell_type": "markdown",
   "metadata": {},
   "source": [
    "#### <font color=crimson>Z score:</font><br>\n",
    "It is a method of expressing data in relation to the group mean. To obtain the Z-score of a particular data, we calculate its deviation from the mean and then divide it by the SD.<br> \n",
    "![](https://clavelresearch.files.wordpress.com/2019/03/z-score-sample.png) <br>\n",
    "\n",
    "The Z score is one way of standardizing a score so that it can be referred to a standard normal distribution curve.<br>  \n",
    "![](https://datalabbd.com/wp-content/uploads/2019/05/4a.png) <br>\n",
    "\n",
    "Read more on Z-Score @\n",
    "- Z-Score: Definition, Formula and Calculation* available at https://www.statisticshowto.com/probability-and-statistics/z-score/\n",
    "- Z-Score: Definition, Calculation and Interpretation* by Saul McLeod available at https://www.simplypsychology.org/z-score.html\n"
   ]
  },
  {
   "cell_type": "markdown",
   "metadata": {},
   "source": [
    "#### <font color=crimson>Tailing of Hypothesis:</font><br>\n",
    "   Depending on the research question hypothesis can be of 2 types. In the Nondirectional (two-tailed) test the Research Question is like: Is there a (statistically) significant difference between scores of Group-A and Group-B in a certain competition? In Directional (one-tailed) test the Research Question is like: Do Group-A score significantly higher than Group-B in a certain competition?<br> \n",
    "   \n",
    "![](https://datalabbd.com/wp-content/uploads/2019/05/4d.png) <br>\n",
    "\n",
    "Read more on Tailing @\n",
    "- One- and two-tailed tests available at https://en.wikipedia.org/wiki/One-_and_two-tailed_tests__\n",
    "- Z-Score: Definition, Calculation and Interpretation by Saul McLeod available at https://www.simplypsychology.org/z-score.html__"
   ]
  },
  {
   "cell_type": "code",
   "execution_count": 155,
   "metadata": {},
   "outputs": [
    {
     "data": {
      "image/png": "[encoded data removed]",
      "text/plain": [
       "<Figure size 720x360 with 1 Axes>"
      ]
     },
     "metadata": {
      "needs_background": "light"
     },
     "output_type": "display_data"
    },
    {
     "data": {
      "image/png": "[encoded data removed]",
      "text/plain": [
       "<Figure size 432x288 with 1 Axes>"
      ]
     },
     "metadata": {
      "needs_background": "light"
     },
     "output_type": "display_data"
    }
   ],
   "source": [
    "# two samples\n",
    "mu1 = -0.5\n",
    "sigma = math.sqrt(0.5)\n",
    "sample1 = sigma * numpy.random.randn(1000) + mu1\n",
    "sample1 = numpy.sort(sample1)\n",
    "mu2 = 0.0\n",
    "sigma = math.sqrt(0.5)\n",
    "sample2 = sigma * numpy.random.randn(1000) + mu2\n",
    "sample2 = numpy.sort(sample2)\n",
    "pdf1 = [0 for i in range(sample1.size)]\n",
    "for i in range(sample1.size):\n",
    "    pdf1[i]=normdensity(sample1[i],mu1,sigma)\n",
    "#    pdf[i]=normdist(observations[i],mu,sigma)\n",
    "pdf2 = [0 for i in range(sample2.size)]\n",
    "for i in range(sample2.size):\n",
    "    pdf2[i]=normdensity(sample2[i],mu2,sigma)\n",
    "#    modelran[i]=normdist(modeldom[i],mu,sigma)\n",
    "make2plot.make2plot(sample1,pdf1,sample2,pdf2,\"x\",\"pdf\",\"Normal Distribution\") # notice\n",
    "import matplotlib\n",
    "a = matplotlib.pyplot.hist(sample1,alpha=0.5)\n",
    "b = matplotlib.pyplot.hist(sample2,alpha=0.5)"
   ]
  },
  {
   "cell_type": "code",
   "execution_count": null,
   "metadata": {},
   "outputs": [],
   "source": [
    "\n"
   ]
  },
  {
   "cell_type": "markdown",
   "metadata": {},
   "source": [
    "#### <font color=crimson>Level of significance:</font><br>\n",
    "<!--![](https://saffold.com/blog/wp-content/uploads/2014/04/significance.png)<br>-->\n",
    "Refers to the degree of significance in which we accept or reject the null-hypothesis. 100% accuracy is not possible for accepting or rejecting a hypothesis, so we therefore select a level of significance.\n",
    "\n",
    "This is normally denoted with alpha and generally it is 0.05 or 5% , which means your output should be 95% confident to give similar kind of result in each sample. A smaller alpha value suggests a more robust interpretation of the null hypothesis, such as 1% or 0.1%."
   ]
  },
  {
   "cell_type": "markdown",
   "metadata": {},
   "source": [
    "#### <font color=crimson>P-value :</font><br>\n",
    "The P value, or calculated probability (attained significance), is the probability (p-value) of the collected data, given that the null hypothesis was true. \n",
    "The p-value reflects the strength of evidence against the null hypothesis. Accordingly, we’ll encounter two situations: the evidence is strong enough or not strong enough to reject the null hypothesis.\n",
    "\n",
    "The p-value is often compared to the pre-chosen alpha value. A result is statistically significant when the p-value is less than alpha. If your P value is less than the chosen significance level then you reject the null hypothesis i.e. accept that your sample gives reasonable evidence to support the alternative hypothesis.\n",
    "\n",
    "- If p-value > alpha: Do Not Reject the null hypothesis (i.e. not significant result).<br>\n",
    "- If p-value <= alpha: Reject the null hypothesis (i.e. significant result).<br>\n",
    "\n",
    "\n",
    "![](https://www.simplypsychology.org/p-value.png)<br>\n",
    "\n",
    "\n",
    "For example, if we were performing a test of whether a data sample was normal and we calculated a p-value of .07, we could state something like:\n",
    "\n",
    "**\"The test found that the data sample was normal, failing to reject the null hypothesis at a 5% significance level.\"**\n",
    "\n",
    "The significance level compliment is determined by subtracting it from 1 to give a **confidence level** of the hypothesis given the observed sample data.\n",
    "\n",
    "Therefore, statements such as the following can also be made:\n",
    "\n",
    "**\"The test found that the data was normal, failing to reject the null hypothesis at a 95% confidence level.\"**"
   ]
  },
  {
   "cell_type": "markdown",
   "metadata": {},
   "source": [
    "__Example :__<br>\n",
    "you have a coin and you don’t know whether that is fair or tricky so let’s decide null and alternate hypothes is<br>\n",
    "H0 : a coin is a fair coin.<br>\n",
    "H1 : a coin is a tricky coin. and alpha = 5% or 0.05<br>\n",
    "Now let’s toss the coin and calculate p- value ( probability value).<br>\n",
    "Toss a coin 1st time and result is tail- P-value = 50% (as head and tail have equal probability)<br>\n",
    "Toss a coin 2nd time and result is tail, now p-value = 50/2 = 25%<br>\n",
    "and similarly we Toss 6 consecutive times and got result as P-value = 1.5% but we set our significance level as 95% means 5% error rate is allowed and here we see we are beyond that level i.e. our null- hypothesis does not hold good so we need to reject and propose that this coin is not fair.\n",
    "\n",
    "_Read more on p-value @_<br>\n",
    "- __*P-values Explained By Data Scientist For Data Scientists* by *Admond Lee* available at https://towardsdatascience.com/p-values-explained-by-data-scientist-f40a746cfc8__<br>\n",
    "- __*What a p-Value Tells You about Statistical Data* by *Deborah J. Rumsey* available at https://www.dummies.com/education/math/statistics/what-a-p-value-tells-you-about-statistical-data/.__<br>\n",
    "- __*Key to statistical result interpretation: P-value in plain English* by *Tran Quang Hung* available at https://s4be.cochrane.org/blog/2016/03/21/p-value-in-plain-english-2/__<br>\n",
    "\n",
    "_Watch more on p-value @_<br>\n",
    "- *StatQuest: P Values, clearly explained* available at https://www.youtube.com/watch?v=5Z9OIYA8He8<br>\n",
    "- *Understanding the p-value - Statistics Help* available at https://www.youtube.com/watch?v=eyknGvncKLw<br>\n",
    "- *What Is A P-Value? - Clearly Explained* available at https://www.youtube.com/watch?v=ukcFrzt6cHk<br>\n"
   ]
  },
  {
   "cell_type": "markdown",
   "metadata": {},
   "source": [
    "#### <font color=crimson>“Reject” vs “Failure to Reject”</font><br>\n",
    "   The p-value is a probabilistic estimate. This means that when we interpret the result of a statistical test, we do not know what is true or false, only what is likely. Rejecting the null hypothesis means that there is sufficient statistical evidence (from the samples) that the null hypothesis does not look likely (for the population). Otherwise, it means that there is not sufficient statistical evidence to reject the null hypothesis.<br>\n",
    "\n",
    "We may think about the statistical test in terms of the dichotomy of rejecting and accepting the null hypothesis. The danger is that if we say that we “accept” the null hypothesis, the language suggests that the null hypothesis is true. Instead, it is safer to say that we “fail to reject” the null hypothesis, as in, there is insufficient statistical evidence to reject it.<br>"
   ]
  },
  {
   "cell_type": "markdown",
   "metadata": {},
   "source": [
    "#### <font color=crimson>Errors in Statistical Tests</font><br>\n",
    "The interpretation of a statistical hypothesis test is probabilistic. That means that the evidence of the test may suggest an outcome and be mistaken. For example, if alpha was 5%, it suggests that (at most) 1 time in 20 that the null hypothesis would be mistakenly rejected or failed to be rejected (e.g., because of the statistical noise in the data sample).<br>\n",
    "\n",
    "Having a small p-value (rejecting the null hypothesis) either means that the null hypothesis is false (we got it right) or it is true and some rare and unlikely event has been observed (we made a mistake). If this type of error is made, it is called a false positive. We falsely rejected of the null hypothesis. Alternately, given a large p-value (failing to reject the null hypothesis), it may mean that the null hypothesis is true (we got it right) or that the null hypothesis is false and some unlikely event occurred (we made a mistake). If this type of error is made, it is called a false negative. We falsely believe the null hypothesis or assumption of the statistical test.<br>\n",
    "\n",
    "![](https://res.cloudinary.com/data-science-dojo/image/upload/v1527879483/type1and2error_bglnqy.gif)<br>\n",
    "\n",
    "Each of these two types of error has a specific name:<br>\n",
    "   Type I Error: The incorrect rejection of a true null hypothesis or a false positive.<br>\n",
    "   Type II Error: The incorrect failure of rejection of a false null hypothesis or a false negative.<br>\n",
    "\n",
    "![](https://miro.medium.com/max/619/1*T5mfQqhcn-nB-n7LOiPv6A.png)<br>\n",
    "\n",
    "All statistical hypothesis tests have a risk of making either of these types of errors. False findings are more than possible; they are probable!<br>\n",
    "\n",
    "Ideally, we want to choose a significance level that minimizes the likelihood of one of these errors. E.g. a very small significance level. Although significance levels such as 0.05 and 0.01 are common in many fields of science, harder sciences, such as physics, are more aggressive.\n",
    "\n",
    "Read more on Type I and Type II Errors @<br>\n",
    "- Type I and type II errors available at https://en.wikipedia.org/wiki/Type_I_and_type_II_errors#:~:text=In%20statistical%20hypothesis%20testing%2C%20a,false%20negative%22%20finding%20or%20conclusion<br>\n",
    "- To Err is Human: What are Type I and II Errors? available at https://www.statisticssolutions.com/to-err-is-human-what-are-type-i-and-ii-errors/<br>\n",
    "- Statistics: What are Type 1 and Type 2 Errors? available at https://www.abtasty.com/blog/type-1-and-type-2-errors/<br>"
   ]
  },
  {
   "cell_type": "markdown",
   "metadata": {},
   "source": [
    "#### <font color=crimson>Some Important Statistical Hypothesis Tests</font><br>\n",
    "\n",
    "__Variable Distribution Type Tests (Gaussian)__\n",
    "- Shapiro-Wilk Test\n",
    "- D’Agostino’s K^2 Test\n",
    "- Anderson-Darling Test\n",
    "\n",
    "__Compare Sample Means (parametric)__\n",
    "- Student’s t-test\n",
    "- Paired Student’s t-test\n",
    "- Analysis of Variance Test (ANOVA)\n",
    "- Repeated Measures ANOVA Test\n",
    "\n",
    "__Compare Sample Means (nonparametric)__\n",
    "- Mann-Whitney U Test\n",
    "- Wilcoxon Signed-Rank Test\n",
    "- Kruskal-Wallis H Test\n",
    "- Friedman Test\n",
    "\n",
    "_Check these excellent links to read more on different Statistical Hypothesis Tests:_<br>\n",
    "- 17 Statistical Hypothesis Tests in Python (Cheat Sheet) by Jason Brownlee  available at https://machinelearningmastery.com/statistical-hypothesis-tests-in-python-cheat-sheet/<br>\n",
    "- Statistical Tests — When to use Which ? by Vibhor Nigam available at https://towardsdatascience.com/statistical-tests-when-to-use-which-704557554740<br>\n",
    "- Comparing Hypothesis Tests for Continuous, Binary, and Count Data by Jim Frost available at https://statisticsbyjim.com/hypothesis-testing/comparing-hypothesis-tests-data-types/<br>"
   ]
  },
  {
   "cell_type": "markdown",
   "metadata": {},
   "source": [
    "*****\n",
    "#### <font color=crimson>Normality Tests: Shapiro-Wilk Test</font><br>\n",
    "Tests whether a data sample has a Gaussian distribution.<br>\n",
    "\n",
    "Assumptions:<br>\n",
    "\n",
    "Observations in each sample are independent and identically distributed (iid).<br>\n",
    "\n",
    "Interpretation:<br>\n",
    "\n",
    "- H0: the sample has a Gaussian distribution.\n",
    "- H1: the sample does not have a Gaussian distribution."
   ]
  },
  {
   "cell_type": "code",
   "execution_count": 156,
   "metadata": {
    "collapsed": false,
    "jupyter": {
     "outputs_hidden": false
    }
   },
   "outputs": [
    {
     "data": {
      "text/plain": [
       "[0.873, 2.817, 0.121, -0.945, -0.055, -1.436, 0.36, -1.478, -1.637, -1.869]"
      ]
     },
     "execution_count": 156,
     "metadata": {},
     "output_type": "execute_result"
    }
   ],
   "source": [
    "# Example of the Shapiro-Wilk Normality Test\n",
    "from scipy.stats import shapiro\n",
    "data = [0.873, 2.817, 0.121, -0.945, -0.055, -1.436, 0.360, -1.478, -1.637, -1.869]\n",
    "data"
   ]
  },
  {
   "cell_type": "code",
   "execution_count": 157,
   "metadata": {
    "collapsed": false,
    "jupyter": {
     "outputs_hidden": false
    }
   },
   "outputs": [
    {
     "name": "stdout",
     "output_type": "stream",
     "text": [
      "stat=0.895, p=0.193\n",
      "Probably Gaussian\n"
     ]
    }
   ],
   "source": [
    "stat, p = shapiro(data)\n",
    "print('stat=%.3f, p=%.3f' % (stat, p))\n",
    "alpha = 0.05\n",
    "if p > alpha :\n",
    "\tprint('Probably Gaussian')\n",
    "else:\n",
    "\tprint('Probably not Gaussian')"
   ]
  },
  {
   "cell_type": "code",
   "execution_count": null,
   "metadata": {
    "collapsed": false,
    "jupyter": {
     "outputs_hidden": false
    }
   },
   "outputs": [],
   "source": []
  },
  {
   "cell_type": "markdown",
   "metadata": {},
   "source": [
    "*****\n",
    "#### <font color=crimson>Normality Tests: D’Agostino’s K^2 Test</font><br>\n",
    "Tests whether a data sample has a Gaussian distribution.<br>\n",
    "\n",
    "Assumptions:<br>\n",
    "\n",
    "Observations in each sample are independent and identically distributed (iid).<br>\n",
    "\n",
    "Interpretation:<br>\n",
    "\n",
    "- H0: the sample has a Gaussian distribution.\n",
    "- H1: the sample does not have a Gaussian distribution."
   ]
  },
  {
   "cell_type": "code",
   "execution_count": 158,
   "metadata": {
    "collapsed": false,
    "jupyter": {
     "outputs_hidden": false
    }
   },
   "outputs": [
    {
     "name": "stdout",
     "output_type": "stream",
     "text": [
      "stat=1.544, p=0.462\n",
      "Probably Gaussian\n"
     ]
    },
    {
     "name": "stderr",
     "output_type": "stream",
     "text": [
      "/opt/jupyterhub/lib/python3.8/site-packages/scipy/stats/stats.py:1603: UserWarning: kurtosistest only valid for n>=20 ... continuing anyway, n=10\n",
      "  warnings.warn(\"kurtosistest only valid for n>=20 ... continuing \"\n"
     ]
    }
   ],
   "source": [
    "# Example of the D'Agostino's K^2 Normality Test\n",
    "from scipy.stats import normaltest\n",
    "data = [0.873, 2.817, 0.121, -0.945, -0.055, -1.436, 0.360, -1.478, -1.637, -1.869]\n",
    "data2 = [1.142, -0.432, -0.938, -0.729, -0.846, -0.157, 0.500, 1.183, -1.075, -0.169]\n",
    "stat, p = normaltest(data2)\n",
    "print('stat=%.3f, p=%.3f' % (stat, p))\n",
    "if p > 0.05:\n",
    "\tprint('Probably Gaussian')\n",
    "else:\n",
    "\tprint('Probably not Gaussian')"
   ]
  },
  {
   "cell_type": "markdown",
   "metadata": {},
   "source": [
    "Read more on Normality Tests @<br>\n",
    "- A Gentle Introduction to Normality Tests in Python by Jason Brownlee available at https://machinelearningmastery.com/a-gentle-introduction-to-normality-tests-in-python/__<br>"
   ]
  },
  {
   "cell_type": "markdown",
   "metadata": {},
   "source": [
    "*****\n",
    "#### <font color=crimson>Parametric Statistical Hypothesis Tests: Student’s t-test</font><br>\n",
    "Tests whether the means of two independent samples are significantly different.\n",
    "\n",
    "Assumptions:<br>\n",
    "\n",
    "- Observations in each sample are independent and identically distributed (iid).<br>\n",
    "- Observations in each sample are normally distributed.<br>\n",
    "- Observations in each sample have the same variance.<br>\n",
    "\n",
    "Interpretation:\n",
    "\n",
    "- H0: the means of the samples are equal.<br>\n",
    "- H1: the means of the samples are unequal.<br>"
   ]
  },
  {
   "cell_type": "code",
   "execution_count": 159,
   "metadata": {},
   "outputs": [
    {
     "name": "stdout",
     "output_type": "stream",
     "text": [
      "-0.32489999999999997\n",
      "-0.15209999999999999\n"
     ]
    }
   ],
   "source": [
    "print(sum(data)/10)\n",
    "print(sum(data2)/10)"
   ]
  },
  {
   "cell_type": "code",
   "execution_count": 160,
   "metadata": {},
   "outputs": [
    {
     "name": "stdout",
     "output_type": "stream",
     "text": [
      "stat=-0.326, p=0.748\n",
      "Probably the same distribution\n"
     ]
    }
   ],
   "source": [
    "# Example of the Student's t-test\n",
    "from scipy.stats import ttest_ind\n",
    "data1 = [0.873, 2.817, 0.121, -0.945, -0.055, -1.436, 0.360, -1.478, -1.637, -1.869]\n",
    "#data2 = [0.873, 2.817, 0.121, -0.945, -0.055, -1.436, 0.360, -1.478, -1.637, -1.869]\n",
    "data2 = [1.142, -0.432, -0.938, -0.729, -0.846, -0.157, 0.500, 1.183, -1.075, -0.169]\n",
    "stat, p = ttest_ind(data1, data2)\n",
    "print('stat=%.3f, p=%.3f' % (stat, p))\n",
    "if p > 0.05:\n",
    "\tprint('Probably the same distribution')\n",
    "else:\n",
    "\tprint('Probably different distributions')"
   ]
  },
  {
   "cell_type": "code",
   "execution_count": 161,
   "metadata": {},
   "outputs": [
    {
     "name": "stdout",
     "output_type": "stream",
     "text": [
      "               0\n",
      "count  10.000000\n",
      "mean   -0.324900\n",
      "std     1.456854\n",
      "min    -1.869000\n",
      "25%    -1.467500\n",
      "50%    -0.500000\n",
      "75%     0.300250\n",
      "max     2.817000\n",
      "               0\n",
      "count  10.000000\n",
      "mean   -0.152100\n",
      "std     0.832985\n",
      "min    -1.075000\n",
      "25%    -0.816750\n",
      "50%    -0.300500\n",
      "75%     0.335750\n",
      "max     1.183000\n",
      "0   -0.238638\n",
      "dtype: float64\n"
     ]
    }
   ],
   "source": [
    "import numpy\n",
    "import pandas\n",
    "data1 = [0.873, 2.817, 0.121, -0.945, -0.055, -1.436, 0.360, -1.478, -1.637, -1.869]\n",
    "#data2 = [0.873, 2.817, 0.121, -0.945, -0.055, -1.436, 0.360, -1.478, -1.637, -1.869]\n",
    "data2 = [1.142, -0.432, -0.938, -0.729, -0.846, -0.157, 0.500, 1.183, -1.075, -0.169]\n",
    "\n",
    "obj1 = pandas.DataFrame(data1)\n",
    "obj2 = pandas.DataFrame(data2)\n",
    "\n",
    "print(obj1.describe())\n",
    "print(obj2.describe())\n",
    "\n",
    "myteststatistic =( obj1.mean() - obj2.mean() ) / ((obj1.std() / obj1.count()**(0.5)) + (obj2.std() / obj2.count()**(0.5)))\n",
    "\n",
    "print(myteststatistic)"
   ]
  },
  {
   "cell_type": "markdown",
   "metadata": {},
   "source": [
    "*****\n",
    "#### <font color=crimson>Parametric Statistical Hypothesis Tests: Paired Student’s t-test</font><br>\n",
    "Tests whether the means of two paired samples are significantly different.<br>\n",
    "\n",
    "Assumptions:<br>\n",
    "\n",
    "- Observations in each sample are independent and identically distributed (iid).<br>\n",
    "- Observations in each sample are normally distributed.<br>\n",
    "- Observations in each sample have the same variance.<br>\n",
    "- Observations across each sample are paired.<br>\n",
    "\n",
    "Interpretation:<br>\n",
    "\n",
    "- H0: the means of the samples are equal.<br>\n",
    "- H1: the means of the samples are unequal.<br>"
   ]
  },
  {
   "cell_type": "code",
   "execution_count": 162,
   "metadata": {
    "collapsed": false,
    "jupyter": {
     "outputs_hidden": false
    }
   },
   "outputs": [
    {
     "name": "stdout",
     "output_type": "stream",
     "text": [
      "stat=-0.334, p=0.746\n",
      "Probably the same distribution\n"
     ]
    }
   ],
   "source": [
    "# Example of the Paired Student's t-test\n",
    "from scipy.stats import ttest_rel\n",
    "data1 = [0.873, 2.817, 0.121, -0.945, -0.055, -1.436, 0.360, -1.478, -1.637, -1.869]\n",
    "data2 = [1.142, -0.432, -0.938, -0.729, -0.846, -0.157, 0.500, 1.183, -1.075, -0.169]\n",
    "stat, p = ttest_rel(data1, data2)\n",
    "print('stat=%.3f, p=%.3f' % (stat, p))\n",
    "if p > 0.05:\n",
    "\tprint('Probably the same distribution')\n",
    "else:\n",
    "\tprint('Probably different distributions')"
   ]
  },
  {
   "cell_type": "markdown",
   "metadata": {},
   "source": [
    "*****\n",
    "#### <font color=crimson>Parametric Statistical Hypothesis Tests: Analysis of Variance Test (ANOVA)</font><br>\n",
    "Tests whether the means of two or more independent samples are significantly different.<br>\n",
    "\n",
    "Assumptions:<br>\n",
    "\n",
    "- Observations in each sample are independent and identically distributed (iid).<br>\n",
    "- Observations in each sample are normally distributed.<br>\n",
    "- Observations in each sample have the same variance.<br>\n",
    "\n",
    "Interpretation:<br>\n",
    "\n",
    "- H0: the means of the samples are equal.<br>\n",
    "- H1: one or more of the means of the samples are unequal.<br>"
   ]
  },
  {
   "cell_type": "code",
   "execution_count": 66,
   "metadata": {
    "collapsed": false,
    "jupyter": {
     "outputs_hidden": false
    }
   },
   "outputs": [
    {
     "name": "stdout",
     "output_type": "stream",
     "text": [
      "stat=0.096, p=0.908\n",
      "Probably the same distribution\n"
     ]
    }
   ],
   "source": [
    "# Example of the Analysis of Variance Test\n",
    "from scipy.stats import f_oneway\n",
    "data1 = [0.873, 2.817, 0.121, -0.945, -0.055, -1.436, 0.360, -1.478, -1.637, -1.869]\n",
    "data2 = [1.142, -0.432, -0.938, -0.729, -0.846, -0.157, 0.500, 1.183, -1.075, -0.169]\n",
    "data3 = [-0.208, 0.696, 0.928, -1.148, -0.213, 0.229, 0.137, 0.269, -0.870, -1.204]\n",
    "stat, p = f_oneway(data1, data2, data3)\n",
    "print('stat=%.3f, p=%.3f' % (stat, p))\n",
    "if p > 0.05:\n",
    "\tprint('Probably the same distribution')\n",
    "else:\n",
    "\tprint('Probably different distributions')"
   ]
  },
  {
   "cell_type": "markdown",
   "metadata": {},
   "source": [
    "_Read more on Parametric Statistical Hypothesis Tests @_<br>\n",
    "- __*How to Calculate Parametric Statistical Hypothesis Tests in Python* by *Jason Brownlee* available at https://machinelearningmastery.com/parametric-statistical-significance-tests-in-python/__<br>"
   ]
  },
  {
   "cell_type": "markdown",
   "metadata": {},
   "source": [
    "*****\n",
    "#### <font color=crimson>Nonparametric Statistical Hypothesis Tests: Mann-Whitney U Test</font><br>\n",
    "Tests whether the distributions of two independent samples are equal or not.<br>\n",
    "\n",
    "Assumptions:<br>\n",
    "\n",
    "- Observations in each sample are independent and identically distributed (iid).<br>\n",
    "- Observations in each sample can be ranked.<br>\n",
    "\n",
    "Interpretation:<br>\n",
    "\n",
    "- H0: the distributions of both samples are equal.<br>\n",
    "- H1: the distributions of both samples are not equal.<br>"
   ]
  },
  {
   "cell_type": "code",
   "execution_count": 67,
   "metadata": {
    "collapsed": false,
    "jupyter": {
     "outputs_hidden": false
    }
   },
   "outputs": [
    {
     "name": "stdout",
     "output_type": "stream",
     "text": [
      "stat=40.000, p=0.236\n",
      "Probably the same distribution\n"
     ]
    }
   ],
   "source": [
    "# Example of the Mann-Whitney U Test\n",
    "from scipy.stats import mannwhitneyu\n",
    "data1 = [0.873, 2.817, 0.121, -0.945, -0.055, -1.436, 0.360, -1.478, -1.637, -1.869]\n",
    "data2 = [1.142, -0.432, -0.938, -0.729, -0.846, -0.157, 0.500, 1.183, -1.075, -0.169]\n",
    "stat, p = mannwhitneyu(data1, data2)\n",
    "print('stat=%.3f, p=%.3f' % (stat, p))\n",
    "if p > 0.05:\n",
    "\tprint('Probably the same distribution')\n",
    "else:\n",
    "\tprint('Probably different distributions')"
   ]
  },
  {
   "cell_type": "markdown",
   "metadata": {},
   "source": [
    "*****\n",
    "#### <font color=crimson>Nonparametric Statistical Hypothesis Tests: Wilcoxon Signed-Rank Test</font><br>\n",
    "Tests whether the distributions of two paired samples are equal or not.<br>\n",
    "\n",
    "Assumptions:<br>\n",
    "\n",
    "- Observations in each sample are independent and identically distributed (iid).:<br>\n",
    "- Observations in each sample can be ranked.<br>\n",
    "- Observations across each sample are paired.<br>\n",
    "\n",
    "Interpretation:<br>\n",
    "\n",
    "- H0: the distributions of both samples are equal.<br>\n",
    "- H1: the distributions of both samples are not equal.<br>"
   ]
  },
  {
   "cell_type": "code",
   "execution_count": 163,
   "metadata": {
    "collapsed": false,
    "jupyter": {
     "outputs_hidden": false
    }
   },
   "outputs": [
    {
     "name": "stdout",
     "output_type": "stream",
     "text": [
      "stat=21.000, p=0.557\n",
      "Probably the same distribution\n"
     ]
    }
   ],
   "source": [
    "# Example of the Wilcoxon Signed-Rank Test\n",
    "from scipy.stats import wilcoxon\n",
    "data1 = [0.873, 2.817, 0.121, -0.945, -0.055, -1.436, 0.360, -1.478, -1.637, -1.869]\n",
    "data2 = [1.142, -0.432, -0.938, -0.729, -0.846, -0.157, 0.500, 1.183, -1.075, -0.169]\n",
    "stat, p = wilcoxon(data1, data2)\n",
    "print('stat=%.3f, p=%.3f' % (stat, p))\n",
    "if p > 0.05:\n",
    "\tprint('Probably the same distribution')\n",
    "else:\n",
    "\tprint('Probably different distributions')"
   ]
  },
  {
   "cell_type": "markdown",
   "metadata": {},
   "source": [
    "*****\n",
    "#### <font color=crimson>Nonparametric Statistical Hypothesis Tests: Kruskal-Wallis H Test</font><br>\n",
    "Tests whether the distributions of two or more independent samples are equal or not.<br>\n",
    "\n",
    "Assumptions:<br>\n",
    "\n",
    "- Observations in each sample are independent and identically distributed (iid).<br>\n",
    "- Observations in each sample can be ranked.<br>\n",
    "\n",
    "Interpretation:<br>\n",
    "\n",
    "- H0: the distributions of all samples are equal.<br>\n",
    "- H1: the distributions of one or more samples are not equal.<br>"
   ]
  },
  {
   "cell_type": "code",
   "execution_count": 69,
   "metadata": {
    "collapsed": false,
    "jupyter": {
     "outputs_hidden": false
    }
   },
   "outputs": [
    {
     "name": "stdout",
     "output_type": "stream",
     "text": [
      "stat=0.571, p=0.450\n",
      "Probably the same distribution\n"
     ]
    }
   ],
   "source": [
    "# Example of the Kruskal-Wallis H Test\n",
    "from scipy.stats import kruskal\n",
    "data1 = [0.873, 2.817, 0.121, -0.945, -0.055, -1.436, 0.360, -1.478, -1.637, -1.869]\n",
    "data2 = [1.142, -0.432, -0.938, -0.729, -0.846, -0.157, 0.500, 1.183, -1.075, -0.169]\n",
    "stat, p = kruskal(data1, data2)\n",
    "print('stat=%.3f, p=%.3f' % (stat, p))\n",
    "if p > 0.05:\n",
    "\tprint('Probably the same distribution')\n",
    "else:\n",
    "\tprint('Probably different distributions')"
   ]
  },
  {
   "cell_type": "markdown",
   "metadata": {},
   "source": [
    "_Read more on Nonparametric Statistical Hypothesis Tests @_<br>\n",
    "- How to Calculate Nonparametric Statistical Hypothesis Tests in Python by Jason Brownlee available at https://machinelearningmastery.com/nonparametric-statistical-significance-tests-in-python/<br>"
   ]
  },
  {
   "cell_type": "markdown",
   "metadata": {},
   "source": [
    "*****\n",
    "#### <font color=crimson>Example with REAL data: Do construction activities impact stormwater solids metrics?</font><br>\n",
    "*****"
   ]
  },
  {
   "cell_type": "markdown",
   "metadata": {},
   "source": [
    "The webroot for the subsequent examples/exercises is [http://54.243.252.9/engr1330content/engr-1330-webroot/9-MyJupyterNotebooks/41A-HypothesisTests/](http://54.243.252.9/engr1330content/engr-1330-webroot/9-MyJupyterNotebooks/41A-HypothesisTests/)\n",
    "\n",
    "[Author Note:  Copy to .../site/Databases for future on-line textbook]\n",
    "\n",
    "\n",
    "### Background\n",
    "The Clean Water Act (CWA) prohibits storm water discharge from construction sites\n",
    "that disturb 5 or more acres, unless authorized by a National Pollutant Discharge\n",
    "Elimination System (NPDES) permit. Permittees must provide a site description,\n",
    "identify sources of contaminants that will affect storm water, identify appropriate\n",
    "measures to reduce pollutants in stormwater discharges, and implement these measures.\n",
    "The appropriate measures are further divided into four classes: erosion and\n",
    "sediment control, stabilization practices, structural practices, and storm water management.\n",
    "Collectively the site description and accompanying measures are known as\n",
    "the facility’s Storm Water Pollution Prevention Plan (SW3P).\n",
    "The permit contains no specific performance measures for construction activities,\n",
    "but states that ”EPA anticipates that storm water management will be able to\n",
    "provide for the removal of at least 80% of the total suspended solids (TSS).” The\n",
    "rules also note ”TSS can be used as an indicator parameter to characterize the\n",
    "control of other pollutants, including heavy metals, oxygen demanding pollutants,\n",
    "and nutrients commonly found in stormwater discharges”; therefore, solids control is\n",
    "critical to the success of any SW3P.\n",
    "Although the NPDES permit requires SW3Ps to be in-place, it does not require\n",
    "any performance measures as to the effectiveness of the controls with respect to\n",
    "construction activities. The reason for the exclusion was to reduce costs associated\n",
    "with monitoring storm water discharges, but unfortunately the exclusion also makes\n",
    "it difficult for a permittee to assess the effectiveness of the controls implemented at\n",
    "their site. Assessing the effectiveness of controls will aid the permittee concerned\n",
    "with selecting the most cost effective SW3P.<br>\n",
    "\n",
    "### Problem Statement <br>\n",
    "The files precon.CSV and durcon.CSV contain observations of cumulative\n",
    "rainfall, total solids, and total suspended solids collected from a construction\n",
    "site on Nasa Road 1 in Harris County. <br>\n",
    "The data in the file precon.CSV was collected `before` construction began. The data in the file durcon.CSV were collected `during` the construction activity.<br>\n",
    "The first column is the date that the observation was made, the second column the total solids (by standard methods), the third column is is the total suspended solids (also by standard methods), and the last column is the cumulative rainfall for that storm.<br>\n",
    "\n",
    "These data are not time series (there was sufficient time between site visits that you can safely assume each storm was independent.\n",
    "__Our task is to analyze these two data sets and decide if construction activities impact stormwater quality in terms of solids measures.__"
   ]
  },
  {
   "cell_type": "code",
   "execution_count": 21,
   "metadata": {
    "collapsed": false,
    "jupyter": {
     "outputs_hidden": false
    }
   },
   "outputs": [],
   "source": [
    "import numpy as np\n",
    "import pandas as pd\n",
    "import matplotlib.pyplot as plt"
   ]
  },
  {
   "cell_type": "markdown",
   "metadata": {},
   "source": [
    "Lets introduce script to automatically get the files from the named resource, in this case a web server!"
   ]
  },
  {
   "cell_type": "code",
   "execution_count": 70,
   "metadata": {},
   "outputs": [
    {
     "data": {
      "text/plain": [
       "713"
      ]
     },
     "execution_count": 70,
     "metadata": {},
     "output_type": "execute_result"
    }
   ],
   "source": [
    "import requests # Module to process http/https requests\n",
    "\n",
    "remote_url=\"http://54.243.252.9/engr1330content/engr-1330-webroot/9-MyJupyterNotebooks/41A-HypothesisTests/precon.csv\"  # set the url\n",
    "rget = requests.get(remote_url, allow_redirects=True)  # get the remote resource, follow imbedded links\n",
    "open('precon.csv','wb').write(rget.content) # extract from the remote the contents, assign to a local file same name\n",
    "\n",
    "remote_url=\"http://54.243.252.9/engr1330content/engr-1330-webroot/9-MyJupyterNotebooks/41A-HypothesisTests/durcon.csv\"  # set the url\n",
    "rget = requests.get(remote_url, allow_redirects=True)  # get the remote resource, follow imbedded links\n",
    "open('durcon.csv','wb').write(rget.content) # extract from the remote the contents, assign to a local file same name"
   ]
  },
  {
   "cell_type": "markdown",
   "metadata": {},
   "source": [
    "Read and examine the files, see if we can understand their structure"
   ]
  },
  {
   "cell_type": "code",
   "execution_count": 71,
   "metadata": {
    "collapsed": false,
    "jupyter": {
     "outputs_hidden": false
    }
   },
   "outputs": [],
   "source": [
    "precon = pd.read_csv(\"precon.csv\")\n",
    "durcon = pd.read_csv(\"durcon.csv\") "
   ]
  },
  {
   "cell_type": "code",
   "execution_count": 72,
   "metadata": {
    "collapsed": false,
    "jupyter": {
     "outputs_hidden": false
    }
   },
   "outputs": [
    {
     "data": {
      "text/html": [
       "<div>\n",
       "<style scoped>\n",
       "    .dataframe tbody tr th:only-of-type {\n",
       "        vertical-align: middle;\n",
       "    }\n",
       "\n",
       "    .dataframe tbody tr th {\n",
       "        vertical-align: top;\n",
       "    }\n",
       "\n",
       "    .dataframe thead th {\n",
       "        text-align: right;\n",
       "    }\n",
       "</style>\n",
       "<table border=\"1\" class=\"dataframe\">\n",
       "  <thead>\n",
       "    <tr style=\"text-align: right;\">\n",
       "      <th></th>\n",
       "      <th>DATE</th>\n",
       "      <th>TS.PRE</th>\n",
       "      <th>TSS.PRE</th>\n",
       "      <th>RAIN.PRE</th>\n",
       "    </tr>\n",
       "  </thead>\n",
       "  <tbody>\n",
       "    <tr>\n",
       "      <th>0</th>\n",
       "      <td>03/27/97</td>\n",
       "      <td>408.5</td>\n",
       "      <td>111.0</td>\n",
       "      <td>1.00</td>\n",
       "    </tr>\n",
       "    <tr>\n",
       "      <th>1</th>\n",
       "      <td>03/31/97</td>\n",
       "      <td>524.5</td>\n",
       "      <td>205.5</td>\n",
       "      <td>0.52</td>\n",
       "    </tr>\n",
       "    <tr>\n",
       "      <th>2</th>\n",
       "      <td>04/04/97</td>\n",
       "      <td>171.5</td>\n",
       "      <td>249.0</td>\n",
       "      <td>0.95</td>\n",
       "    </tr>\n",
       "    <tr>\n",
       "      <th>3</th>\n",
       "      <td>04/07/97</td>\n",
       "      <td>436.5</td>\n",
       "      <td>65.0</td>\n",
       "      <td>0.55</td>\n",
       "    </tr>\n",
       "    <tr>\n",
       "      <th>4</th>\n",
       "      <td>04/11/97</td>\n",
       "      <td>627.0</td>\n",
       "      <td>510.5</td>\n",
       "      <td>2.19</td>\n",
       "    </tr>\n",
       "    <tr>\n",
       "      <th>5</th>\n",
       "      <td>04/18/97</td>\n",
       "      <td>412.5</td>\n",
       "      <td>93.0</td>\n",
       "      <td>0.20</td>\n",
       "    </tr>\n",
       "    <tr>\n",
       "      <th>6</th>\n",
       "      <td>04/26/97</td>\n",
       "      <td>434.0</td>\n",
       "      <td>224.0</td>\n",
       "      <td>3.76</td>\n",
       "    </tr>\n",
       "    <tr>\n",
       "      <th>7</th>\n",
       "      <td>04/27/97</td>\n",
       "      <td>389.5</td>\n",
       "      <td>187.0</td>\n",
       "      <td>0.13</td>\n",
       "    </tr>\n",
       "    <tr>\n",
       "      <th>8</th>\n",
       "      <td>05/10/97</td>\n",
       "      <td>247.0</td>\n",
       "      <td>141.5</td>\n",
       "      <td>0.70</td>\n",
       "    </tr>\n",
       "    <tr>\n",
       "      <th>9</th>\n",
       "      <td>05/14/97</td>\n",
       "      <td>163.0</td>\n",
       "      <td>87.0</td>\n",
       "      <td>0.19</td>\n",
       "    </tr>\n",
       "    <tr>\n",
       "      <th>10</th>\n",
       "      <td>05/16/97</td>\n",
       "      <td>283.5</td>\n",
       "      <td>160.5</td>\n",
       "      <td>0.94</td>\n",
       "    </tr>\n",
       "    <tr>\n",
       "      <th>11</th>\n",
       "      <td>05/23/97</td>\n",
       "      <td>193.0</td>\n",
       "      <td>25.0</td>\n",
       "      <td>0.71</td>\n",
       "    </tr>\n",
       "    <tr>\n",
       "      <th>12</th>\n",
       "      <td>05/27/97</td>\n",
       "      <td>268.0</td>\n",
       "      <td>364.5</td>\n",
       "      <td>0.46</td>\n",
       "    </tr>\n",
       "    <tr>\n",
       "      <th>13</th>\n",
       "      <td>05/29/97</td>\n",
       "      <td>359.5</td>\n",
       "      <td>276.0</td>\n",
       "      <td>0.99</td>\n",
       "    </tr>\n",
       "    <tr>\n",
       "      <th>14</th>\n",
       "      <td>06/02/97</td>\n",
       "      <td>1742.0</td>\n",
       "      <td>1373.0</td>\n",
       "      <td>0.65</td>\n",
       "    </tr>\n",
       "    <tr>\n",
       "      <th>15</th>\n",
       "      <td>06/09/97</td>\n",
       "      <td>595.0</td>\n",
       "      <td>492.5</td>\n",
       "      <td>0.30</td>\n",
       "    </tr>\n",
       "    <tr>\n",
       "      <th>16</th>\n",
       "      <td>06/18/97</td>\n",
       "      <td>615.0</td>\n",
       "      <td>312.0</td>\n",
       "      <td>0.69</td>\n",
       "    </tr>\n",
       "  </tbody>\n",
       "</table>\n",
       "</div>"
      ],
      "text/plain": [
       "        DATE  TS.PRE  TSS.PRE  RAIN.PRE\n",
       "0   03/27/97   408.5    111.0      1.00\n",
       "1   03/31/97   524.5    205.5      0.52\n",
       "2   04/04/97   171.5    249.0      0.95\n",
       "3   04/07/97   436.5     65.0      0.55\n",
       "4   04/11/97   627.0    510.5      2.19\n",
       "5   04/18/97   412.5     93.0      0.20\n",
       "6   04/26/97   434.0    224.0      3.76\n",
       "7   04/27/97   389.5    187.0      0.13\n",
       "8   05/10/97   247.0    141.5      0.70\n",
       "9   05/14/97   163.0     87.0      0.19\n",
       "10  05/16/97   283.5    160.5      0.94\n",
       "11  05/23/97   193.0     25.0      0.71\n",
       "12  05/27/97   268.0    364.5      0.46\n",
       "13  05/29/97   359.5    276.0      0.99\n",
       "14  06/02/97  1742.0   1373.0      0.65\n",
       "15  06/09/97   595.0    492.5      0.30\n",
       "16  06/18/97   615.0    312.0      0.69"
      ]
     },
     "execution_count": 72,
     "metadata": {},
     "output_type": "execute_result"
    }
   ],
   "source": [
    "precon"
   ]
  },
  {
   "cell_type": "code",
   "execution_count": 73,
   "metadata": {
    "collapsed": false,
    "jupyter": {
     "outputs_hidden": false
    }
   },
   "outputs": [
    {
     "data": {
      "text/html": [
       "<div>\n",
       "<style scoped>\n",
       "    .dataframe tbody tr th:only-of-type {\n",
       "        vertical-align: middle;\n",
       "    }\n",
       "\n",
       "    .dataframe tbody tr th {\n",
       "        vertical-align: top;\n",
       "    }\n",
       "\n",
       "    .dataframe thead th {\n",
       "        text-align: right;\n",
       "    }\n",
       "</style>\n",
       "<table border=\"1\" class=\"dataframe\">\n",
       "  <thead>\n",
       "    <tr style=\"text-align: right;\">\n",
       "      <th></th>\n",
       "      <th>TS.DUR</th>\n",
       "      <th>TSS.DUR</th>\n",
       "      <th>RAIN.DUR</th>\n",
       "    </tr>\n",
       "  </thead>\n",
       "  <tbody>\n",
       "    <tr>\n",
       "      <th>0</th>\n",
       "      <td>3014.0</td>\n",
       "      <td>2871.5</td>\n",
       "      <td>1.59</td>\n",
       "    </tr>\n",
       "    <tr>\n",
       "      <th>1</th>\n",
       "      <td>1137.0</td>\n",
       "      <td>602.0</td>\n",
       "      <td>0.53</td>\n",
       "    </tr>\n",
       "    <tr>\n",
       "      <th>2</th>\n",
       "      <td>2362.5</td>\n",
       "      <td>2515.0</td>\n",
       "      <td>0.74</td>\n",
       "    </tr>\n",
       "    <tr>\n",
       "      <th>3</th>\n",
       "      <td>395.5</td>\n",
       "      <td>130.0</td>\n",
       "      <td>0.11</td>\n",
       "    </tr>\n",
       "    <tr>\n",
       "      <th>4</th>\n",
       "      <td>278.5</td>\n",
       "      <td>36.5</td>\n",
       "      <td>0.27</td>\n",
       "    </tr>\n",
       "    <tr>\n",
       "      <th>5</th>\n",
       "      <td>506.5</td>\n",
       "      <td>320.5</td>\n",
       "      <td>0.69</td>\n",
       "    </tr>\n",
       "    <tr>\n",
       "      <th>6</th>\n",
       "      <td>2829.5</td>\n",
       "      <td>3071.5</td>\n",
       "      <td>1.06</td>\n",
       "    </tr>\n",
       "    <tr>\n",
       "      <th>7</th>\n",
       "      <td>22209.5</td>\n",
       "      <td>17424.5</td>\n",
       "      <td>6.55</td>\n",
       "    </tr>\n",
       "    <tr>\n",
       "      <th>8</th>\n",
       "      <td>2491.5</td>\n",
       "      <td>1931.5</td>\n",
       "      <td>0.83</td>\n",
       "    </tr>\n",
       "    <tr>\n",
       "      <th>9</th>\n",
       "      <td>1278.0</td>\n",
       "      <td>1129.5</td>\n",
       "      <td>0.91</td>\n",
       "    </tr>\n",
       "    <tr>\n",
       "      <th>10</th>\n",
       "      <td>1428.5</td>\n",
       "      <td>1328.0</td>\n",
       "      <td>1.06</td>\n",
       "    </tr>\n",
       "    <tr>\n",
       "      <th>11</th>\n",
       "      <td>274.5</td>\n",
       "      <td>193.5</td>\n",
       "      <td>0.31</td>\n",
       "    </tr>\n",
       "    <tr>\n",
       "      <th>12</th>\n",
       "      <td>435.0</td>\n",
       "      <td>243.0</td>\n",
       "      <td>0.15</td>\n",
       "    </tr>\n",
       "    <tr>\n",
       "      <th>13</th>\n",
       "      <td>213.0</td>\n",
       "      <td>57.0</td>\n",
       "      <td>1.04</td>\n",
       "    </tr>\n",
       "    <tr>\n",
       "      <th>14</th>\n",
       "      <td>329.0</td>\n",
       "      <td>71.0</td>\n",
       "      <td>0.51</td>\n",
       "    </tr>\n",
       "    <tr>\n",
       "      <th>15</th>\n",
       "      <td>228.0</td>\n",
       "      <td>25.0</td>\n",
       "      <td>1.01</td>\n",
       "    </tr>\n",
       "    <tr>\n",
       "      <th>16</th>\n",
       "      <td>270.0</td>\n",
       "      <td>22.0</td>\n",
       "      <td>0.10</td>\n",
       "    </tr>\n",
       "    <tr>\n",
       "      <th>17</th>\n",
       "      <td>260.0</td>\n",
       "      <td>44.0</td>\n",
       "      <td>0.13</td>\n",
       "    </tr>\n",
       "    <tr>\n",
       "      <th>18</th>\n",
       "      <td>3176.5</td>\n",
       "      <td>2401.0</td>\n",
       "      <td>0.28</td>\n",
       "    </tr>\n",
       "    <tr>\n",
       "      <th>19</th>\n",
       "      <td>29954.5</td>\n",
       "      <td>24146.5</td>\n",
       "      <td>3.55</td>\n",
       "    </tr>\n",
       "    <tr>\n",
       "      <th>20</th>\n",
       "      <td>26099.5</td>\n",
       "      <td>15454.0</td>\n",
       "      <td>4.91</td>\n",
       "    </tr>\n",
       "    <tr>\n",
       "      <th>21</th>\n",
       "      <td>1484.0</td>\n",
       "      <td>1268.0</td>\n",
       "      <td>3.33</td>\n",
       "    </tr>\n",
       "    <tr>\n",
       "      <th>22</th>\n",
       "      <td>146.0</td>\n",
       "      <td>43.0</td>\n",
       "      <td>1.00</td>\n",
       "    </tr>\n",
       "    <tr>\n",
       "      <th>23</th>\n",
       "      <td>1069.0</td>\n",
       "      <td>891.0</td>\n",
       "      <td>0.51</td>\n",
       "    </tr>\n",
       "    <tr>\n",
       "      <th>24</th>\n",
       "      <td>242.0</td>\n",
       "      <td>38.0</td>\n",
       "      <td>0.14</td>\n",
       "    </tr>\n",
       "    <tr>\n",
       "      <th>25</th>\n",
       "      <td>5310.0</td>\n",
       "      <td>6103.0</td>\n",
       "      <td>0.50</td>\n",
       "    </tr>\n",
       "    <tr>\n",
       "      <th>26</th>\n",
       "      <td>2671.5</td>\n",
       "      <td>2737.0</td>\n",
       "      <td>0.75</td>\n",
       "    </tr>\n",
       "    <tr>\n",
       "      <th>27</th>\n",
       "      <td>214.0</td>\n",
       "      <td>29.0</td>\n",
       "      <td>0.10</td>\n",
       "    </tr>\n",
       "    <tr>\n",
       "      <th>28</th>\n",
       "      <td>1058.0</td>\n",
       "      <td>776.5</td>\n",
       "      <td>0.80</td>\n",
       "    </tr>\n",
       "    <tr>\n",
       "      <th>29</th>\n",
       "      <td>319.5</td>\n",
       "      <td>263.0</td>\n",
       "      <td>0.48</td>\n",
       "    </tr>\n",
       "    <tr>\n",
       "      <th>30</th>\n",
       "      <td>4864.0</td>\n",
       "      <td>4865.0</td>\n",
       "      <td>0.68</td>\n",
       "    </tr>\n",
       "    <tr>\n",
       "      <th>31</th>\n",
       "      <td>2647.0</td>\n",
       "      <td>2473.0</td>\n",
       "      <td>0.10</td>\n",
       "    </tr>\n",
       "    <tr>\n",
       "      <th>32</th>\n",
       "      <td>259.0</td>\n",
       "      <td>14.0</td>\n",
       "      <td>0.10</td>\n",
       "    </tr>\n",
       "    <tr>\n",
       "      <th>33</th>\n",
       "      <td>124.0</td>\n",
       "      <td>45.0</td>\n",
       "      <td>0.28</td>\n",
       "    </tr>\n",
       "    <tr>\n",
       "      <th>34</th>\n",
       "      <td>9014.5</td>\n",
       "      <td>7680.5</td>\n",
       "      <td>1.77</td>\n",
       "    </tr>\n",
       "    <tr>\n",
       "      <th>35</th>\n",
       "      <td>159.0</td>\n",
       "      <td>80.0</td>\n",
       "      <td>0.19</td>\n",
       "    </tr>\n",
       "    <tr>\n",
       "      <th>36</th>\n",
       "      <td>573.0</td>\n",
       "      <td>397.5</td>\n",
       "      <td>0.55</td>\n",
       "    </tr>\n",
       "  </tbody>\n",
       "</table>\n",
       "</div>"
      ],
      "text/plain": [
       "     TS.DUR  TSS.DUR  RAIN.DUR\n",
       "0    3014.0   2871.5      1.59\n",
       "1    1137.0    602.0      0.53\n",
       "2    2362.5   2515.0      0.74\n",
       "3     395.5    130.0      0.11\n",
       "4     278.5     36.5      0.27\n",
       "5     506.5    320.5      0.69\n",
       "6    2829.5   3071.5      1.06\n",
       "7   22209.5  17424.5      6.55\n",
       "8    2491.5   1931.5      0.83\n",
       "9    1278.0   1129.5      0.91\n",
       "10   1428.5   1328.0      1.06\n",
       "11    274.5    193.5      0.31\n",
       "12    435.0    243.0      0.15\n",
       "13    213.0     57.0      1.04\n",
       "14    329.0     71.0      0.51\n",
       "15    228.0     25.0      1.01\n",
       "16    270.0     22.0      0.10\n",
       "17    260.0     44.0      0.13\n",
       "18   3176.5   2401.0      0.28\n",
       "19  29954.5  24146.5      3.55\n",
       "20  26099.5  15454.0      4.91\n",
       "21   1484.0   1268.0      3.33\n",
       "22    146.0     43.0      1.00\n",
       "23   1069.0    891.0      0.51\n",
       "24    242.0     38.0      0.14\n",
       "25   5310.0   6103.0      0.50\n",
       "26   2671.5   2737.0      0.75\n",
       "27    214.0     29.0      0.10\n",
       "28   1058.0    776.5      0.80\n",
       "29    319.5    263.0      0.48\n",
       "30   4864.0   4865.0      0.68\n",
       "31   2647.0   2473.0      0.10\n",
       "32    259.0     14.0      0.10\n",
       "33    124.0     45.0      0.28\n",
       "34   9014.5   7680.5      1.77\n",
       "35    159.0     80.0      0.19\n",
       "36    573.0    397.5      0.55"
      ]
     },
     "execution_count": 73,
     "metadata": {},
     "output_type": "execute_result"
    }
   ],
   "source": [
    "durcon"
   ]
  },
  {
   "cell_type": "code",
   "execution_count": 74,
   "metadata": {
    "collapsed": false,
    "jupyter": {
     "outputs_hidden": false
    }
   },
   "outputs": [
    {
     "data": {
      "text/html": [
       "<div>\n",
       "<style scoped>\n",
       "    .dataframe tbody tr th:only-of-type {\n",
       "        vertical-align: middle;\n",
       "    }\n",
       "\n",
       "    .dataframe tbody tr th {\n",
       "        vertical-align: top;\n",
       "    }\n",
       "\n",
       "    .dataframe thead th {\n",
       "        text-align: right;\n",
       "    }\n",
       "</style>\n",
       "<table border=\"1\" class=\"dataframe\">\n",
       "  <thead>\n",
       "    <tr style=\"text-align: right;\">\n",
       "      <th></th>\n",
       "      <th>TS.PRE</th>\n",
       "      <th>TSS.PRE</th>\n",
       "      <th>RAIN.PRE</th>\n",
       "    </tr>\n",
       "  </thead>\n",
       "  <tbody>\n",
       "    <tr>\n",
       "      <th>count</th>\n",
       "      <td>17.000000</td>\n",
       "      <td>17.000000</td>\n",
       "      <td>17.000000</td>\n",
       "    </tr>\n",
       "    <tr>\n",
       "      <th>mean</th>\n",
       "      <td>462.941176</td>\n",
       "      <td>286.882353</td>\n",
       "      <td>0.878235</td>\n",
       "    </tr>\n",
       "    <tr>\n",
       "      <th>std</th>\n",
       "      <td>361.852779</td>\n",
       "      <td>312.659786</td>\n",
       "      <td>0.882045</td>\n",
       "    </tr>\n",
       "    <tr>\n",
       "      <th>min</th>\n",
       "      <td>163.000000</td>\n",
       "      <td>25.000000</td>\n",
       "      <td>0.130000</td>\n",
       "    </tr>\n",
       "    <tr>\n",
       "      <th>25%</th>\n",
       "      <td>268.000000</td>\n",
       "      <td>111.000000</td>\n",
       "      <td>0.460000</td>\n",
       "    </tr>\n",
       "    <tr>\n",
       "      <th>50%</th>\n",
       "      <td>408.500000</td>\n",
       "      <td>205.500000</td>\n",
       "      <td>0.690000</td>\n",
       "    </tr>\n",
       "    <tr>\n",
       "      <th>75%</th>\n",
       "      <td>524.500000</td>\n",
       "      <td>312.000000</td>\n",
       "      <td>0.950000</td>\n",
       "    </tr>\n",
       "    <tr>\n",
       "      <th>max</th>\n",
       "      <td>1742.000000</td>\n",
       "      <td>1373.000000</td>\n",
       "      <td>3.760000</td>\n",
       "    </tr>\n",
       "  </tbody>\n",
       "</table>\n",
       "</div>"
      ],
      "text/plain": [
       "            TS.PRE      TSS.PRE   RAIN.PRE\n",
       "count    17.000000    17.000000  17.000000\n",
       "mean    462.941176   286.882353   0.878235\n",
       "std     361.852779   312.659786   0.882045\n",
       "min     163.000000    25.000000   0.130000\n",
       "25%     268.000000   111.000000   0.460000\n",
       "50%     408.500000   205.500000   0.690000\n",
       "75%     524.500000   312.000000   0.950000\n",
       "max    1742.000000  1373.000000   3.760000"
      ]
     },
     "execution_count": 74,
     "metadata": {},
     "output_type": "execute_result"
    }
   ],
   "source": [
    "precon.describe()"
   ]
  },
  {
   "cell_type": "code",
   "execution_count": 75,
   "metadata": {
    "collapsed": false,
    "jupyter": {
     "outputs_hidden": false
    }
   },
   "outputs": [
    {
     "data": {
      "text/html": [
       "<div>\n",
       "<style scoped>\n",
       "    .dataframe tbody tr th:only-of-type {\n",
       "        vertical-align: middle;\n",
       "    }\n",
       "\n",
       "    .dataframe tbody tr th {\n",
       "        vertical-align: top;\n",
       "    }\n",
       "\n",
       "    .dataframe thead th {\n",
       "        text-align: right;\n",
       "    }\n",
       "</style>\n",
       "<table border=\"1\" class=\"dataframe\">\n",
       "  <thead>\n",
       "    <tr style=\"text-align: right;\">\n",
       "      <th></th>\n",
       "      <th>TS.DUR</th>\n",
       "      <th>TSS.DUR</th>\n",
       "      <th>RAIN.DUR</th>\n",
       "    </tr>\n",
       "  </thead>\n",
       "  <tbody>\n",
       "    <tr>\n",
       "      <th>count</th>\n",
       "      <td>37.000000</td>\n",
       "      <td>37.000000</td>\n",
       "      <td>37.000000</td>\n",
       "    </tr>\n",
       "    <tr>\n",
       "      <th>mean</th>\n",
       "      <td>3495.283784</td>\n",
       "      <td>2749.216216</td>\n",
       "      <td>1.016486</td>\n",
       "    </tr>\n",
       "    <tr>\n",
       "      <th>std</th>\n",
       "      <td>7104.602041</td>\n",
       "      <td>5322.194188</td>\n",
       "      <td>1.391886</td>\n",
       "    </tr>\n",
       "    <tr>\n",
       "      <th>min</th>\n",
       "      <td>124.000000</td>\n",
       "      <td>14.000000</td>\n",
       "      <td>0.100000</td>\n",
       "    </tr>\n",
       "    <tr>\n",
       "      <th>25%</th>\n",
       "      <td>270.000000</td>\n",
       "      <td>57.000000</td>\n",
       "      <td>0.270000</td>\n",
       "    </tr>\n",
       "    <tr>\n",
       "      <th>50%</th>\n",
       "      <td>1058.000000</td>\n",
       "      <td>602.000000</td>\n",
       "      <td>0.550000</td>\n",
       "    </tr>\n",
       "    <tr>\n",
       "      <th>75%</th>\n",
       "      <td>2671.500000</td>\n",
       "      <td>2515.000000</td>\n",
       "      <td>1.010000</td>\n",
       "    </tr>\n",
       "    <tr>\n",
       "      <th>max</th>\n",
       "      <td>29954.500000</td>\n",
       "      <td>24146.500000</td>\n",
       "      <td>6.550000</td>\n",
       "    </tr>\n",
       "  </tbody>\n",
       "</table>\n",
       "</div>"
      ],
      "text/plain": [
       "             TS.DUR       TSS.DUR   RAIN.DUR\n",
       "count     37.000000     37.000000  37.000000\n",
       "mean    3495.283784   2749.216216   1.016486\n",
       "std     7104.602041   5322.194188   1.391886\n",
       "min      124.000000     14.000000   0.100000\n",
       "25%      270.000000     57.000000   0.270000\n",
       "50%     1058.000000    602.000000   0.550000\n",
       "75%     2671.500000   2515.000000   1.010000\n",
       "max    29954.500000  24146.500000   6.550000"
      ]
     },
     "execution_count": 75,
     "metadata": {},
     "output_type": "execute_result"
    }
   ],
   "source": [
    "durcon.describe()"
   ]
  },
  {
   "cell_type": "code",
   "execution_count": 76,
   "metadata": {
    "collapsed": false,
    "jupyter": {
     "outputs_hidden": false
    }
   },
   "outputs": [
    {
     "data": {
      "text/plain": [
       "<AxesSubplot:>"
      ]
     },
     "execution_count": 76,
     "metadata": {},
     "output_type": "execute_result"
    },
    {
     "data": {
      "image/png": "[encoded data removed]",
      "text/plain": [
       "<Figure size 432x288 with 1 Axes>"
      ]
     },
     "metadata": {
      "needs_background": "light"
     },
     "output_type": "display_data"
    }
   ],
   "source": [
    "precon.plot.box()"
   ]
  },
  {
   "cell_type": "code",
   "execution_count": 77,
   "metadata": {
    "collapsed": false,
    "jupyter": {
     "outputs_hidden": false
    }
   },
   "outputs": [
    {
     "data": {
      "text/plain": [
       "<AxesSubplot:>"
      ]
     },
     "execution_count": 77,
     "metadata": {},
     "output_type": "execute_result"
    },
    {
     "data": {
      "image/png": "[encoded data removed]",
      "text/plain": [
       "<Figure size 432x288 with 1 Axes>"
      ]
     },
     "metadata": {
      "needs_background": "light"
     },
     "output_type": "display_data"
    }
   ],
   "source": [
    "durcon.plot.box()"
   ]
  },
  {
   "cell_type": "markdown",
   "metadata": {},
   "source": [
    "Here we see that the scales of the two data sets are quite different. Let's see if  the two construction phases represent approximately the same rainfall conditions? "
   ]
  },
  {
   "cell_type": "code",
   "execution_count": 78,
   "metadata": {
    "collapsed": false,
    "jupyter": {
     "outputs_hidden": false
    }
   },
   "outputs": [
    {
     "data": {
      "text/plain": [
       "count    17.000000\n",
       "mean      0.878235\n",
       "std       0.882045\n",
       "min       0.130000\n",
       "25%       0.460000\n",
       "50%       0.690000\n",
       "75%       0.950000\n",
       "max       3.760000\n",
       "Name: RAIN.PRE, dtype: float64"
      ]
     },
     "execution_count": 78,
     "metadata": {},
     "output_type": "execute_result"
    }
   ],
   "source": [
    "precon['RAIN.PRE'].describe()"
   ]
  },
  {
   "cell_type": "code",
   "execution_count": 79,
   "metadata": {
    "collapsed": false,
    "jupyter": {
     "outputs_hidden": false
    }
   },
   "outputs": [
    {
     "data": {
      "text/plain": [
       "count    37.000000\n",
       "mean      1.016486\n",
       "std       1.391886\n",
       "min       0.100000\n",
       "25%       0.270000\n",
       "50%       0.550000\n",
       "75%       1.010000\n",
       "max       6.550000\n",
       "Name: RAIN.DUR, dtype: float64"
      ]
     },
     "execution_count": 79,
     "metadata": {},
     "output_type": "execute_result"
    }
   ],
   "source": [
    "durcon['RAIN.DUR'].describe()"
   ]
  },
  {
   "cell_type": "markdown",
   "metadata": {},
   "source": [
    "If we look at the summary statistics, we might conclude there is more rainfall during construction, which could bias our interpretation, a box plot of just rainfall might be useful, as would hypothesis tests."
   ]
  },
  {
   "cell_type": "code",
   "execution_count": 80,
   "metadata": {
    "collapsed": false,
    "jupyter": {
     "outputs_hidden": false
    }
   },
   "outputs": [
    {
     "data": {
      "text/plain": [
       "<AxesSubplot:>"
      ]
     },
     "execution_count": 80,
     "metadata": {},
     "output_type": "execute_result"
    },
    {
     "data": {
      "image/png": "[encoded data removed]",
      "text/plain": [
       "<Figure size 432x288 with 1 Axes>"
      ]
     },
     "metadata": {
      "needs_background": "light"
     },
     "output_type": "display_data"
    }
   ],
   "source": [
    "precon['RAIN.PRE'].plot.box()"
   ]
  },
  {
   "cell_type": "code",
   "execution_count": 81,
   "metadata": {
    "collapsed": false,
    "jupyter": {
     "outputs_hidden": false
    }
   },
   "outputs": [
    {
     "data": {
      "text/plain": [
       "<AxesSubplot:>"
      ]
     },
     "execution_count": 81,
     "metadata": {},
     "output_type": "execute_result"
    },
    {
     "data": {
      "image/png": "[encoded data removed]",
      "text/plain": [
       "<Figure size 432x288 with 1 Axes>"
      ]
     },
     "metadata": {
      "needs_background": "light"
     },
     "output_type": "display_data"
    }
   ],
   "source": [
    "durcon['RAIN.DUR'].plot.box()"
   ]
  },
  {
   "cell_type": "markdown",
   "metadata": {},
   "source": [
    "Hard to tell from the plots, they look a little different, but are they? Lets apply some hypothesis tests"
   ]
  },
  {
   "cell_type": "code",
   "execution_count": 82,
   "metadata": {
    "collapsed": false,
    "jupyter": {
     "outputs_hidden": false
    }
   },
   "outputs": [
    {
     "name": "stdout",
     "output_type": "stream",
     "text": [
      "statistic=291.500, p-value at rejection =0.338\n",
      "Probably the same distribution\n"
     ]
    }
   ],
   "source": [
    "from scipy.stats import mannwhitneyu # import a useful non-parametric test\n",
    "stat, p = mannwhitneyu(precon['RAIN.PRE'],durcon['RAIN.DUR'])\n",
    "print('statistic=%.3f, p-value at rejection =%.3f' % (stat, p))\n",
    "if p > 0.05:\n",
    "    print('Probably the same distribution')\n",
    "else:\n",
    "    print('Probably different distributions')"
   ]
  },
  {
   "cell_type": "code",
   "execution_count": 83,
   "metadata": {
    "collapsed": false,
    "jupyter": {
     "outputs_hidden": false
    }
   },
   "outputs": [
    {
     "name": "stdout",
     "output_type": "stream",
     "text": [
      "statistic=-0.375, p-value at rejection =0.709 \n",
      "Probably the same distribution\n"
     ]
    }
   ],
   "source": [
    "from scipy import stats\n",
    "results = stats.ttest_ind(precon['RAIN.PRE'], durcon['RAIN.DUR'])\n",
    "print('statistic=%.3f, p-value at rejection =%.3f ' % (results[0], results[1]))\n",
    "if p > 0.05:\n",
    "    print('Probably the same distribution')\n",
    "else:\n",
    "    print('Probably different distributions')"
   ]
  },
  {
   "cell_type": "markdown",
   "metadata": {},
   "source": [
    "From these two tests (the data are NOT paired) we conclude that the two sets of data originate from the same distribution. Thus the question \"Do the two construction phases represent approximately the same rainfall conditions?\" can be safely answered in the affirmative.\n",
    "\n",
    "Continuing, lets ask the same about total solids, first plots:"
   ]
  },
  {
   "cell_type": "code",
   "execution_count": 36,
   "metadata": {
    "collapsed": false,
    "jupyter": {
     "outputs_hidden": false
    }
   },
   "outputs": [
    {
     "data": {
      "text/plain": [
       "<AxesSubplot:>"
      ]
     },
     "execution_count": 36,
     "metadata": {},
     "output_type": "execute_result"
    },
    {
     "data": {
      "image/png": "[encoded data removed]",
      "text/plain": [
       "<Figure size 432x288 with 1 Axes>"
      ]
     },
     "metadata": {
      "needs_background": "light"
     },
     "output_type": "display_data"
    }
   ],
   "source": [
    "precon['TS.PRE'].plot.box()"
   ]
  },
  {
   "cell_type": "code",
   "execution_count": 37,
   "metadata": {
    "collapsed": false,
    "jupyter": {
     "outputs_hidden": false
    }
   },
   "outputs": [
    {
     "data": {
      "text/plain": [
       "<AxesSubplot:>"
      ]
     },
     "execution_count": 37,
     "metadata": {},
     "output_type": "execute_result"
    },
    {
     "data": {
      "image/png": "[encoded data removed]",
      "text/plain": [
       "<Figure size 432x288 with 1 Axes>"
      ]
     },
     "metadata": {
      "needs_background": "light"
     },
     "output_type": "display_data"
    }
   ],
   "source": [
    "durcon['TS.DUR'].plot.box()"
   ]
  },
  {
   "cell_type": "markdown",
   "metadata": {},
   "source": [
    "Look at the difference in scales, the during construction phase, is about 5 to 10 times greater.\n",
    "But lets apply some tests to formalize our interpretation."
   ]
  },
  {
   "cell_type": "code",
   "execution_count": 84,
   "metadata": {
    "collapsed": false,
    "jupyter": {
     "outputs_hidden": false
    }
   },
   "outputs": [
    {
     "name": "stdout",
     "output_type": "stream",
     "text": [
      "statistic=221.000, p-value at rejection =0.042\n",
      "Probably different distributions\n"
     ]
    }
   ],
   "source": [
    "stat, p = mannwhitneyu(precon['TS.PRE'],durcon['TS.DUR'])\n",
    "print('statistic=%.3f, p-value at rejection =%.3f' % (stat, p))\n",
    "if p > 0.05:\n",
    "    print('Probably the same distribution')\n",
    "else:\n",
    "    print('Probably different distributions')"
   ]
  },
  {
   "cell_type": "code",
   "execution_count": 85,
   "metadata": {
    "collapsed": false,
    "jupyter": {
     "outputs_hidden": false
    }
   },
   "outputs": [
    {
     "name": "stdout",
     "output_type": "stream",
     "text": [
      "statistic=-1.750, p-value at rejection =0.086 \n",
      "Probably different distributions\n"
     ]
    }
   ],
   "source": [
    "results = stats.ttest_ind(precon['TS.PRE'], durcon['TS.DUR'])\n",
    "print('statistic=%.3f, p-value at rejection =%.3f ' % (results[0], results[1]))\n",
    "if p > 0.05:\n",
    "    print('Probably the same distribution')\n",
    "else:\n",
    "    print('Probably different distributions')"
   ]
  },
  {
   "cell_type": "markdown",
   "metadata": {},
   "source": [
    "Both these tests indicate that the data derive from distirbutions with different measures of central tendency (means). \n",
    "\n",
    "Lets now ask the question about normality, we will apply a test called normaltest. This function tests a null hypothesis that a sample comes from a normal distribution. It is based on D’Agostino and Pearson’s test that combines skew and kurtosis to produce an omnibus test of normality. We will likely get a warning because our sample size is pretty small."
   ]
  },
  {
   "cell_type": "code",
   "execution_count": 86,
   "metadata": {},
   "outputs": [
    {
     "name": "stdout",
     "output_type": "stream",
     "text": [
      "statistic=32.081, p-value at rejection =0.000\n",
      "Probably Not-normal distributed\n"
     ]
    },
    {
     "name": "stderr",
     "output_type": "stream",
     "text": [
      "/opt/conda/envs/python/lib/python3.8/site-packages/scipy/stats/stats.py:1603: UserWarning: kurtosistest only valid for n>=20 ... continuing anyway, n=17\n",
      "  warnings.warn(\"kurtosistest only valid for n>=20 ... continuing \"\n"
     ]
    }
   ],
   "source": [
    "stat, p = stats.normaltest(precon['TS.PRE'])\n",
    "print('statistic=%.3f, p-value at rejection =%.3f' % (stat, p))\n",
    "if p > 0.05:\n",
    "    print('Probably normal distributed')\n",
    "else:\n",
    "    print('Probably Not-normal distributed')"
   ]
  },
  {
   "cell_type": "code",
   "execution_count": 87,
   "metadata": {
    "collapsed": false,
    "jupyter": {
     "outputs_hidden": false
    }
   },
   "outputs": [
    {
     "name": "stdout",
     "output_type": "stream",
     "text": [
      "statistic=41.701, p-value at rejection =0.000\n",
      "Probably Not-normal distributed\n"
     ]
    }
   ],
   "source": [
    "stat, p = stats.normaltest(durcon['TS.DUR'])\n",
    "print('statistic=%.3f, p-value at rejection =%.3f' % (stat, p))\n",
    "if p > 0.05:\n",
    "    print('Probably normal distributed')\n",
    "else:\n",
    "    print('Probably Not-normal distributed')"
   ]
  },
  {
   "cell_type": "markdown",
   "metadata": {},
   "source": [
    "#### References\n",
    "\n",
    "D’Agostino, R. B. (1971), “An omnibus test of normality for moderate and large sample size”, Biometrika, 58, 341-348\n",
    "\n",
    "D’Agostino, R. and Pearson, E. S. (1973), “Tests for departure from normality”, Biometrika, 60, 613-622\n"
   ]
  },
  {
   "cell_type": "code",
   "execution_count": 7,
   "metadata": {},
   "outputs": [
    {
     "name": "stdout",
     "output_type": "stream",
     "text": [
      "HID  atomickitty.aws\n",
      "UID  engr1330content\n",
      "path to kernel == /opt/conda/envs/python/bin/python\n",
      "sys.version_info(major=3, minor=8, micro=3, releaselevel='final', serial=0)\n"
     ]
    }
   ],
   "source": [
    "# script block to identify host, user, and kernel\n",
    "import sys\n",
    "! echo 'HID ' $HOSTNAME\n",
    "! echo 'UID ' $USER\n",
    "print('path to kernel == ' + sys.executable)\n",
    "# print(sys.version)\n",
    "print(sys.version_info)\n",
    "#! pwd"
   ]
  },
  {
   "cell_type": "code",
   "execution_count": null,
   "metadata": {},
   "outputs": [],
   "source": []
  },
  {
   "cell_type": "markdown",
   "metadata": {},
   "source": [
    "## Functions as Data Models\n",
    "\n",
    "We have already examined functions as data models, and did trial and error fitting to \"calibrate\" a function to some data, then used that function to predict unobserved responses.  However there are ways to have the machine perform the fit on our behalf - here we will examine one such way on a subset of models."
   ]
  },
  {
   "cell_type": "markdown",
   "metadata": {},
   "source": [
    "### Polynomial data model: \n",
    "\n",
    "> Polynomial Model: $y_{model} = \\beta_0 + \\beta_1 x_{obs} + \\beta_2 x_{obs}^2 + ... + \\beta_n x_{obs}^n$ <br>\n",
    "<!--Logarithmic Model: $y_{model} = \\beta_0 + \\beta_1 log(x_{obs}) $<br>\n",
    "Power-Law Model: $y_{model} = \\beta_0 x_{obs}^{\\beta_1} $ <br>\n",
    "Exponential Model: $y_{model} = \\beta_0 e^{{\\beta_1}x_{obs}} $ -->\n",
    "\n",
    "One way to \"fit\" this models to data is to construct a design matrix $X$ comprised of $x_{obs}$ and ones (1). Then construct a linear system related to this design matrix.\n",
    "\n",
    "The data model as a linear system is:\n",
    "\n",
    "$$\\begin{gather}\n",
    "\\mathbf{X} \\cdot \\mathbf{\\beta} = \\mathbf{Y}\n",
    "\\end{gather}$$\n",
    "\n",
    "For example using the Polynomial Model (order 2 for brevity, but extendable as justified)\n",
    "\n",
    "\\begin{gather}\n",
    "\\mathbf{X}=\n",
    "\\begin{pmatrix}\n",
    "1 & x_1 & x_1^2\\\\\n",
    "~\\\\\n",
    "1 & x_2 & x_2^2\\\\\n",
    "~ \\\\\n",
    "1 & x_3 & x_3^2\\\\\n",
    "\\dots & \\dots & \\dots \\\\\n",
    "1 & x_n & x_n^2\\\\\n",
    "\\end{pmatrix}\n",
    "\\end{gather}\n",
    "\n",
    "\\begin{gather}\n",
    "\\mathbf{\\beta}=\n",
    "\\begin{pmatrix}\n",
    "\\beta_0 \\\\\n",
    "~\\\\\n",
    "\\beta_1 \\\\\n",
    "~ \\\\\n",
    "\\beta_2 \\\\\n",
    "\\end{pmatrix}\n",
    "\\end{gather}\n",
    "\n",
    "\\begin{gather}\n",
    "\\mathbf{X}=\n",
    "\\begin{pmatrix}\n",
    "y_1 \\\\\n",
    "~\\\\\n",
    "y_2 \\\\\n",
    "~ \\\\\n",
    "y_3 \\\\\n",
    "\\dots  \\\\\n",
    "y_n \\\\\n",
    "\\end{pmatrix}\n",
    "\\end{gather}\n",
    "\n",
    "To find the unknown $\\beta$ values the solution of the linear system below provides a \"best linear unbiased estimator (BLUE)\" fit\n",
    "\n",
    "$$\\begin{gather}\n",
    "[\\mathbf{X^T}\\mathbf{X}] \\cdot \\mathbf{\\beta} = [\\mathbf{X^T}]\\mathbf{Y}\n",
    "\\end{gather}$$\n",
    "\n",
    "or an alternative expression is\n",
    "\n",
    "$$\\begin{gather}\n",
    "\\mathbf{\\beta} = [\\mathbf{X^T}\\mathbf{X}]^{-1}[\\mathbf{X^T}]\\mathbf{Y}\n",
    "\\end{gather}$$\n",
    "\n",
    "Once the values for $\\beta$ are obtained then we can apply our plotting tools and use the model to extrapolate and interpolate.  The logarithmic, power, and exponential model will involve functions of $x$ which are known, and inverse transformations.\n",
    "\n",
    "Consider the data collected during the boost-phase of a ballistic missle.  The maximum speed of a solid-fueled missle at burn-out (when the boost-phase ends) is about 7km/s. Using this knowledge and the early-time telemetry below; fit a data model using the linear system approach and use the model to estimate boost phase burn-out.  Plot the model and data on the same axis to demonstrate the quality of the fit.\n",
    "\n",
    "|Elapsed Time (s)|Speed (m/s)|\n",
    "|---:|---:|\n",
    "|0 |0|\n",
    "|1.0 |3|\n",
    "|2.0 |7.4|\n",
    "|3.0 |16.2|\n",
    "|4.0 |23.5|\n",
    "|5.0 |32.2|\n",
    "|6.0 | 42.2| \n",
    "|7.0 | 65.1 |\n",
    "|8.0 | 73.5 |\n",
    "|9.0 | 99.3 |\n",
    "|10.0| 123.4|\n",
    "\n",
    "First lets make two lists"
   ]
  },
  {
   "cell_type": "code",
   "execution_count": 2,
   "metadata": {},
   "outputs": [],
   "source": [
    "time = [0,1.0,2.0,3.0,4.0,5.0,6.0,7.0,8.0,9.0,10.0]\n",
    "speed = [0,3,7.4,16.2,23.5,32.2,42.2, 65.1 ,73.5 ,99.3 ,123.4,]"
   ]
  },
  {
   "cell_type": "markdown",
   "metadata": {},
   "source": [
    "Then define our model structure, here just a polynomial of degree 2 (a quadratic)."
   ]
  },
  {
   "cell_type": "code",
   "execution_count": 3,
   "metadata": {},
   "outputs": [],
   "source": [
    "def polynomial(b0,b1,b2,time):\n",
    "    polynomial = b0+b1*time+b2*time**2\n",
    "    return(polynomial)"
   ]
  },
  {
   "cell_type": "markdown",
   "metadata": {},
   "source": [
    "Now we will use numpy to build the design matrix $X$ comprised of $x_{obs}$ and ones (1), and the various transposes, and such."
   ]
  },
  {
   "cell_type": "code",
   "execution_count": 4,
   "metadata": {},
   "outputs": [
    {
     "name": "stdout",
     "output_type": "stream",
     "text": [
      "[1.48181818 0.51818182 1.14545455]\n"
     ]
    }
   ],
   "source": [
    "import numpy\n",
    "X = [numpy.ones(len(time)),numpy.array(time),numpy.array(time)**2] # build the design X matrix #\n",
    "X = numpy.transpose(X) # get into correct shape for linear solver\n",
    "Y = numpy.array(speed) # build the response Y vector\n",
    "A = numpy.transpose(X)@X # build the XtX matrix\n",
    "b = numpy.transpose(X)@Y # build the XtY vector\n",
    "x = numpy.linalg.solve(A,b) # just solve the linear system \n",
    "print(x) # look at the answers"
   ]
  },
  {
   "cell_type": "markdown",
   "metadata": {},
   "source": [
    "Now make a list of model responses to input values"
   ]
  },
  {
   "cell_type": "code",
   "execution_count": 6,
   "metadata": {},
   "outputs": [
    {
     "name": "stdout",
     "output_type": "stream",
     "text": [
      "[1.4818181818181488, 3.1454545454545357, 7.1000000000000085, 13.345454545454567, 21.88181818181821, 32.70909090909094, 45.82727272727276, 61.236363636363656, 78.93636363636364, 98.92727272727271, 121.20909090909086]\n"
     ]
    }
   ],
   "source": [
    "responses = [0 for i in range(len(time))]\n",
    "for i in range(len(time)):\n",
    "    responses[i] = polynomial(x[0],x[1],x[2],time[i])\n",
    "print(responses) # look at the responses"
   ]
  },
  {
   "cell_type": "markdown",
   "metadata": {},
   "source": [
    "Import our plotting script, and plot the data (red) and the data model (blue) on same plot."
   ]
  },
  {
   "cell_type": "code",
   "execution_count": 18,
   "metadata": {},
   "outputs": [
    {
     "data": {
      "image/png": "[encoded data removed]",
      "text/plain": [
       "<Figure size 720x360 with 1 Axes>"
      ]
     },
     "metadata": {
      "needs_background": "light"
     },
     "output_type": "display_data"
    }
   ],
   "source": [
    "import make2plot # http://54.243.252.9/engr-1330-webroot/1-Lessons/Lesson16/make2plot.py\n",
    "make2plot.make2plot(time,speed,time,responses,\"Time\",\"Speed\",\"Kim's da bomb!\") # notice module_name.function_name(arguments) syntax"
   ]
  },
  {
   "cell_type": "code",
   "execution_count": 24,
   "metadata": {},
   "outputs": [
    {
     "name": "stdin",
     "output_type": "stream",
     "text": [
      "Enter estimated time since begin boost phase  77.5\n"
     ]
    },
    {
     "name": "stdout",
     "output_type": "stream",
     "text": [
      "Estimated Speed (m/sec) : 6921.527272727259\n"
     ]
    }
   ],
   "source": [
    "time_to_burnout = float(input('Enter estimated time since begin boost phase '))\n",
    "print('Estimated Speed (m/sec) :',polynomial(x[0],x[1],x[2],time_to_burnout))"
   ]
  },
  {
   "cell_type": "markdown",
   "metadata": {},
   "source": [
    "### Power-Law Model: \n",
    "A useful model in engineering is a power-law model \n",
    "> $y_{model} = \\beta_0 x_{obs}^{\\beta_1} $\n",
    "\n",
    "However it does not look very \"linear\", but a simple transformation by taking logs yields\n",
    "\n",
    "> $log(y_{model}) = log10(\\beta_0)+  \\beta_1 log10(x_{obs}) $\n",
    "\n",
    "which is linear in the unknown coefficients $\\beta_0$ and $\\beta_1$.\n",
    "\n",
    "Using the same data we can construct a power-law model, automatically fit it and then plot to find out how well our moeld performs.\n",
    "\n",
    "###\n",
    "\n",
    "<!--Logarithmic Model: $y_{model} = \\beta_0 + \\beta_1 log(x_{obs}) $<br>\n",
    "Power-Law Model: $y_{model} = \\beta_0 x_{obs}^{\\beta_1} $ <br>\n",
    "Exponential Model: $y_{model} = \\beta_0 e^{{\\beta_1}x_{obs}} $ -->"
   ]
  },
  {
   "cell_type": "code",
   "execution_count": 65,
   "metadata": {},
   "outputs": [],
   "source": [
    "def powerlaw(b0,b1,time):\n",
    "    powerlaw = b0*time**b1\n",
    "    return(powerlaw)"
   ]
  },
  {
   "cell_type": "code",
   "execution_count": 66,
   "metadata": {},
   "outputs": [
    {
     "name": "stdout",
     "output_type": "stream",
     "text": [
      "[0.7161876  1.18057628]\n"
     ]
    }
   ],
   "source": [
    "time = [0,1.0,2.0,3.0,4.0,5.0,6.0,7.0,8.0,9.0,10.0]\n",
    "speed = [0,3,7.4,16.2,23.5,32.2,42.2, 65.1 ,73.5 ,99.3 ,123.4,]\n",
    "for i in range(len(time)):\n",
    "    time[i]=time[i]+ 0.00001 # offset so don't log zeroes\n",
    "    speed[i]=speed[i]+ 0.00001\n",
    "    \n",
    "X = [numpy.ones(len(time)),numpy.array(numpy.log10(time))] # build the design X matrix \n",
    "X = numpy.transpose(X) # get into correct shape for linear solver\n",
    "Y = numpy.array(numpy.log10(speed)) # build the response Y vector\n",
    "A = numpy.transpose(X)@X # build the XtX matrix\n",
    "b = numpy.transpose(X)@Y # build the XtY vector\n",
    "x = numpy.linalg.solve(A,b) # just solve the linear system \n",
    "print(x) # look at the answers"
   ]
  },
  {
   "cell_type": "code",
   "execution_count": null,
   "metadata": {},
   "outputs": [],
   "source": []
  },
  {
   "cell_type": "code",
   "execution_count": 68,
   "metadata": {},
   "outputs": [
    {
     "name": "stdout",
     "output_type": "stream",
     "text": [
      "[3.342596386287005e-05, 5.202390954388261, 11.791910341727554, 19.031401381302594, 26.728168235782004, 34.783885276976775, 43.137709195328924, 51.74787306738311, 60.58374930205405, 69.62182252551928, 78.84341465786041]\n"
     ]
    }
   ],
   "source": [
    "responses = [0 for i in range(len(time))]\n",
    "for i in range(len(time)):\n",
    "    responses[i] = powerlaw(10**x[0],x[1],time[i])\n",
    "print(responses) # look at the responses"
   ]
  },
  {
   "cell_type": "code",
   "execution_count": 70,
   "metadata": {},
   "outputs": [
    {
     "data": {
      "image/png": "[encoded data removed]",
      "text/plain": [
       "<Figure size 720x360 with 1 Axes>"
      ]
     },
     "metadata": {
      "needs_background": "light"
     },
     "output_type": "display_data"
    }
   ],
   "source": [
    "make2plot.make2plot(time,speed,time,responses,\"Time\",\"Speed\",\"Power-Law Model\") # notice module_name.function_name(arguments) syntax"
   ]
  },
  {
   "cell_type": "markdown",
   "metadata": {},
   "source": [
    "### Exponential Model: \n",
    "Another useful model in engineering is an exponential model \n",
    "> $y_{model} = \\beta_0 e^{{\\beta_1}x_{obs}} $\n",
    "\n",
    "However it does not look very \"linear\", but a simple transformation by taking logs yields\n",
    "\n",
    "> $log(y_{model}) = log(\\beta_0)+  \\beta_1*(x_{obs}) $\n",
    "\n",
    "which is linear in the unknown coefficients $\\beta_0$ and $\\beta_1$.  Notice that it is quite similar to a power-law model, but not identical.\n",
    "\n",
    "Using the same data we can construct an exponential model, automatically fit it and then plot to find out how well our moeld performs.\n",
    "\n",
    "###\n",
    "\n",
    "<!--Logarithmic Model: $y_{model} = \\beta_0 + \\beta_1 log(x_{obs}) $<br>\n",
    "Power-Law Model: $y_{model} = \\beta_0 x_{obs}^{\\beta_1} $ <br>\n",
    "Exponential Model: $y_{model} = \\beta_0 e^{{\\beta_1}x_{obs}} $ -->"
   ]
  },
  {
   "cell_type": "code",
   "execution_count": 78,
   "metadata": {},
   "outputs": [],
   "source": [
    "def expmodel(b0,b1,time):\n",
    "    import math # somewhat overkill - but import wont hurt anything\n",
    "    expmodel = b0*math.exp(b1*time)\n",
    "    return(expmodel)"
   ]
  },
  {
   "cell_type": "code",
   "execution_count": 76,
   "metadata": {},
   "outputs": [
    {
     "name": "stdout",
     "output_type": "stream",
     "text": [
      "[-2.75609346  0.96267783]\n"
     ]
    }
   ],
   "source": [
    "time = [0,1.0,2.0,3.0,4.0,5.0,6.0,7.0,8.0,9.0,10.0]\n",
    "speed = [0,3,7.4,16.2,23.5,32.2,42.2, 65.1 ,73.5 ,99.3 ,123.4,]\n",
    "for i in range(len(time)):\n",
    "    time[i]=time[i]+ 0.00001 # offset so don't log zeroes\n",
    "    speed[i]=speed[i]+ 0.00001\n",
    "    \n",
    "X = [numpy.ones(len(time)),numpy.array(time)] # build the design X matrix \n",
    "X = numpy.transpose(X) # get into correct shape for linear solver\n",
    "Y = numpy.array(numpy.log(speed)) # build the response Y vector\n",
    "A = numpy.transpose(X)@X # build the XtX matrix\n",
    "b = numpy.transpose(X)@Y # build the XtY vector\n",
    "x = numpy.linalg.solve(A,b) # just solve the linear system \n",
    "print(x) # look at the answers"
   ]
  },
  {
   "cell_type": "code",
   "execution_count": null,
   "metadata": {},
   "outputs": [],
   "source": []
  },
  {
   "cell_type": "code",
   "execution_count": 79,
   "metadata": {},
   "outputs": [
    {
     "name": "stdout",
     "output_type": "stream",
     "text": [
      "[0.06354011563462764, 0.16639247070973495, 0.43573188421774983, 1.1410508787693752, 2.988069395650906, 7.82485591076801, 20.49094646643687, 53.6596318038999, 140.51845238317068, 367.97560468400997, 963.6175416544776]\n"
     ]
    }
   ],
   "source": [
    "responses = [0 for i in range(len(time))]\n",
    "import math\n",
    "for i in range(len(time)):\n",
    "    responses[i] = expmodel(math.exp(x[0]),x[1],time[i])\n",
    "print(responses) # look at the responses"
   ]
  },
  {
   "cell_type": "code",
   "execution_count": 80,
   "metadata": {},
   "outputs": [
    {
     "data": {
      "image/png": "[encoded data removed]",
      "text/plain": [
       "<Figure size 720x360 with 1 Axes>"
      ]
     },
     "metadata": {
      "needs_background": "light"
     },
     "output_type": "display_data"
    }
   ],
   "source": [
    "make2plot.make2plot(time,speed,time,responses,\"Time\",\"Speed\",\"Exponential Model\") # notice module_name.function_name(arguments) syntax"
   ]
  },
  {
   "cell_type": "markdown",
   "metadata": {},
   "source": [
    "## Descriptive Statistics with Python\n"
   ]
  },
  {
   "cell_type": "code",
   "execution_count": null,
   "metadata": {},
   "outputs": [],
   "source": []
  },
  {
   "cell_type": "markdown",
   "metadata": {},
   "source": [
    "A fundamental part of working with data is _**describing**_ it. Descriptive statistics help simplify and summarize large amounts of data in a sensible manner. In this lecture, we will discuss __descriptive statistics__ and cover a variety of methods for __summarizing, describing, and representing__ datasets in Python. The contents of this notebook are inspired by various online resources including the following links: <br>\n",
    "- \"Descriptive statistics with Python-NumPy\"\n",
    "by __*Rashmi Jain*__, available @ https://www.hackerearth.com/blog/developers/descriptive-statistics-python-numpy/.\n",
    "\n",
    "- \"Python Statistics Fundamentals: How to Describe Your Data\"\n",
    "by __*Mirko Stojiljković *__, available @ https://realpython.com/python-statistics/.\n",
    "\n",
    "- \"A Quick Guide on Descriptive Statistics using Pandas and Seaborn\"\n",
    "by __*Bee Guan Teo*__, available @ https://towardsdatascience.com/a-quick-guide-on-descriptive-statistics-using-pandas-and-seaborn-2aadc7395f32.\n",
    "\n",
    "- \"Tutorial: Basic Statistics in Python — Descriptive Statistics\"\n",
    ", available @ https://www.dataquest.io/blog/basic-statistics-with-python-descriptive-statistics/.\n",
    "\n",
    "\n",
    "\n",
    "We will use the __\"HighestGrossingMovies.csv\"__ dataset as an illustrative example. Let's have a look at it first."
   ]
  },
  {
   "cell_type": "code",
   "execution_count": 21,
   "metadata": {},
   "outputs": [],
   "source": [
    "######### CODE TO AUTOMATICALLY DOWNLOAD THE DATABASE ################\n",
    "#! pip install requests #install packages into local environment\n",
    "import requests # import needed modules to interact with the internet\n",
    "# make the connection to the remote file (actually its implementing \"bash curl -O http://fqdn/path ...\")\n",
    "remote_url = 'http://54.243.252.9/engr-1330-webroot/4-Databases/HighestGrossingMovies.csv' # a csv file\n",
    "response = requests.get(remote_url) # Gets the file contents puts into an object\n",
    "output = open('HighestGrossingMovies.csv', 'wb') # Prepare a destination, local\n",
    "output.write(response.content) # write contents of object to named local file\n",
    "output.close() # close the connection"
   ]
  },
  {
   "cell_type": "code",
   "execution_count": 23,
   "metadata": {
    "collapsed": false,
    "jupyter": {
     "outputs_hidden": false
    }
   },
   "outputs": [],
   "source": [
    "#Import the necessary external packages\n",
    "import numpy as np\n",
    "import pandas as pd"
   ]
  },
  {
   "cell_type": "code",
   "execution_count": 24,
   "metadata": {
    "collapsed": false,
    "jupyter": {
     "outputs_hidden": false
    }
   },
   "outputs": [
    {
     "data": {
      "text/html": [
       "<div>\n",
       "<style scoped>\n",
       "    .dataframe tbody tr th:only-of-type {\n",
       "        vertical-align: middle;\n",
       "    }\n",
       "\n",
       "    .dataframe tbody tr th {\n",
       "        vertical-align: top;\n",
       "    }\n",
       "\n",
       "    .dataframe thead th {\n",
       "        text-align: right;\n",
       "    }\n",
       "</style>\n",
       "<table border=\"1\" class=\"dataframe\">\n",
       "  <thead>\n",
       "    <tr style=\"text-align: right;\">\n",
       "      <th></th>\n",
       "      <th>Movie</th>\n",
       "      <th>Director</th>\n",
       "      <th>Year</th>\n",
       "      <th>Budget_million$</th>\n",
       "      <th>Gross_million$</th>\n",
       "    </tr>\n",
       "  </thead>\n",
       "  <tbody>\n",
       "    <tr>\n",
       "      <th>0</th>\n",
       "      <td>Gone with the Wind</td>\n",
       "      <td>Victor Fleming</td>\n",
       "      <td>1939</td>\n",
       "      <td>3.9</td>\n",
       "      <td>3706</td>\n",
       "    </tr>\n",
       "    <tr>\n",
       "      <th>1</th>\n",
       "      <td>Avatar</td>\n",
       "      <td>James Cameron</td>\n",
       "      <td>2009</td>\n",
       "      <td>237.0</td>\n",
       "      <td>3257</td>\n",
       "    </tr>\n",
       "    <tr>\n",
       "      <th>2</th>\n",
       "      <td>Titanic</td>\n",
       "      <td>James Cameron</td>\n",
       "      <td>1997</td>\n",
       "      <td>200.0</td>\n",
       "      <td>3081</td>\n",
       "    </tr>\n",
       "    <tr>\n",
       "      <th>3</th>\n",
       "      <td>Star Wars</td>\n",
       "      <td>George Lucas</td>\n",
       "      <td>1977</td>\n",
       "      <td>11.0</td>\n",
       "      <td>3043</td>\n",
       "    </tr>\n",
       "    <tr>\n",
       "      <th>4</th>\n",
       "      <td>Avengers: Endgame</td>\n",
       "      <td>Joe &amp; Anthony Russo</td>\n",
       "      <td>2019</td>\n",
       "      <td>356.0</td>\n",
       "      <td>2798</td>\n",
       "    </tr>\n",
       "    <tr>\n",
       "      <th>5</th>\n",
       "      <td>The Sound of Music</td>\n",
       "      <td>Robert Wise</td>\n",
       "      <td>1965</td>\n",
       "      <td>8.2</td>\n",
       "      <td>2549</td>\n",
       "    </tr>\n",
       "    <tr>\n",
       "      <th>6</th>\n",
       "      <td>E.T. the Extra-Terrestrial</td>\n",
       "      <td>Steven Spielberg</td>\n",
       "      <td>1982</td>\n",
       "      <td>10.5</td>\n",
       "      <td>2489</td>\n",
       "    </tr>\n",
       "    <tr>\n",
       "      <th>7</th>\n",
       "      <td>The Ten Commandments</td>\n",
       "      <td>Cecil B. DeMille</td>\n",
       "      <td>1956</td>\n",
       "      <td>13.0</td>\n",
       "      <td>2356</td>\n",
       "    </tr>\n",
       "    <tr>\n",
       "      <th>8</th>\n",
       "      <td>Doctor Zhivago</td>\n",
       "      <td>David Lean</td>\n",
       "      <td>1965</td>\n",
       "      <td>11.0</td>\n",
       "      <td>2233</td>\n",
       "    </tr>\n",
       "    <tr>\n",
       "      <th>9</th>\n",
       "      <td>Star Wars: The Force Awakens</td>\n",
       "      <td>J.J. Abrams</td>\n",
       "      <td>2015</td>\n",
       "      <td>306.0</td>\n",
       "      <td>2202</td>\n",
       "    </tr>\n",
       "  </tbody>\n",
       "</table>\n",
       "</div>"
      ],
      "text/plain": [
       "                          Movie             Director  Year  Budget_million$  \\\n",
       "0            Gone with the Wind       Victor Fleming  1939              3.9   \n",
       "1                        Avatar        James Cameron  2009            237.0   \n",
       "2                       Titanic        James Cameron  1997            200.0   \n",
       "3                     Star Wars         George Lucas  1977             11.0   \n",
       "4             Avengers: Endgame  Joe & Anthony Russo  2019            356.0   \n",
       "5            The Sound of Music          Robert Wise  1965              8.2   \n",
       "6    E.T. the Extra-Terrestrial     Steven Spielberg  1982             10.5   \n",
       "7          The Ten Commandments     Cecil B. DeMille  1956             13.0   \n",
       "8                Doctor Zhivago           David Lean  1965             11.0   \n",
       "9  Star Wars: The Force Awakens          J.J. Abrams  2015            306.0   \n",
       "\n",
       "   Gross_million$  \n",
       "0            3706  \n",
       "1            3257  \n",
       "2            3081  \n",
       "3            3043  \n",
       "4            2798  \n",
       "5            2549  \n",
       "6            2489  \n",
       "7            2356  \n",
       "8            2233  \n",
       "9            2202  "
      ]
     },
     "execution_count": 24,
     "metadata": {},
     "output_type": "execute_result"
    }
   ],
   "source": [
    "Movies = pd.read_csv(\"HighestGrossingMovies.csv\")         #Dataset of the Top10 highest-grossing films as of 2019 (adjusted for inflation)\n",
    "                                                          #5 columns (Movie, Director, Year, Budget, Gross) and 10 rows\n",
    "Movies"
   ]
  },
  {
   "cell_type": "markdown",
   "metadata": {},
   "source": [
    "Here is an overall look at some but not all of  measures we will be discussing today:\n",
    "<img src=\"https://slideplayer.com/slide/2346765/8/images/2/Summary+Measures+Describing+Data+Numerically+Central+Tendency.jpg\" width=\"500\" align=\"center\">\n"
   ]
  },
  {
   "cell_type": "markdown",
   "metadata": {},
   "source": [
    "### <font color=orange>Measures of Central Tendency</font>"
   ]
  },
  {
   "cell_type": "markdown",
   "metadata": {},
   "source": [
    "Centrality measures give us an estimate of the center of a distribution and a sense of a typical value we would expect to see. <br>\n",
    "The three major measures of center include __*the mean, median, and mode*__."
   ]
  },
  {
   "cell_type": "markdown",
   "metadata": {},
   "source": [
    "#### <font color=orange>Mean</font>"
   ]
  },
  {
   "cell_type": "markdown",
   "metadata": {},
   "source": [
    "The arithmetic mean (average) is the sum of all the values, divided by the number of values. Mean represents the typical value that acts as a yardstick for all observations.\n",
    "![](https://x-engineer.org/wp-content/uploads/2016/10/Arithmetic-mean-formula-244x142.jpg?a43cfa&a43cfa)\n",
    "\n",
    "Let's calculate the average budget of the Top10 highest-grossing films. "
   ]
  },
  {
   "cell_type": "code",
   "execution_count": 25,
   "metadata": {
    "collapsed": false,
    "jupyter": {
     "outputs_hidden": false
    }
   },
   "outputs": [
    {
     "data": {
      "text/plain": [
       "0      3.9\n",
       "1    237.0\n",
       "2    200.0\n",
       "3     11.0\n",
       "4    356.0\n",
       "5      8.2\n",
       "6     10.5\n",
       "7     13.0\n",
       "8     11.0\n",
       "9    306.0\n",
       "Name: Budget_million$, dtype: float64"
      ]
     },
     "execution_count": 25,
     "metadata": {},
     "output_type": "execute_result"
    }
   ],
   "source": [
    "Budget = Movies['Budget_million$']\n",
    "Budget"
   ]
  },
  {
   "cell_type": "markdown",
   "metadata": {},
   "source": [
    "We can use primitive python to calculate the mean of set of numbers:"
   ]
  },
  {
   "cell_type": "code",
   "execution_count": 26,
   "metadata": {
    "collapsed": false,
    "jupyter": {
     "outputs_hidden": false
    }
   },
   "outputs": [
    {
     "name": "stdout",
     "output_type": "stream",
     "text": [
      "The average budget of the Top10 highest-grossing films is  115.66 million USD\n"
     ]
    }
   ],
   "source": [
    "# Create a list of all the numbers:\n",
    "budget = [3.9,237,200,11,356,8.2,10.5,13,11,306]\n",
    "mean1 = sum(budget) / len(budget)\n",
    "print(\"The average budget of the Top10 highest-grossing films is \",mean1,\"million USD\")"
   ]
  },
  {
   "cell_type": "markdown",
   "metadata": {},
   "source": [
    "We can also utilize a variety of external libraries. (You may find some of them familiar!)"
   ]
  },
  {
   "cell_type": "code",
   "execution_count": 27,
   "metadata": {
    "collapsed": false,
    "jupyter": {
     "outputs_hidden": false
    }
   },
   "outputs": [],
   "source": [
    "# The usual suspects!\n",
    "import numpy as np\n",
    "import pandas as pd\n",
    "# Also, these two libraries offer useful functions for descriptive statistics\n",
    "import statistics\n",
    "import scipy.stats"
   ]
  },
  {
   "cell_type": "code",
   "execution_count": 28,
   "metadata": {
    "collapsed": false,
    "jupyter": {
     "outputs_hidden": false
    }
   },
   "outputs": [
    {
     "name": "stdout",
     "output_type": "stream",
     "text": [
      "The average budget of the Top10 highest-grossing films is  115.66 million USD\n"
     ]
    }
   ],
   "source": [
    "# Read the column of interest from the Movies dataframe\n",
    "Budget = Movies['Budget_million$']\n",
    "# Use the mean function from the Pandas library\n",
    "mean2 = Budget.mean()\n",
    "print(\"The average budget of the Top10 highest-grossing films is \",mean2,\"million USD\")"
   ]
  },
  {
   "cell_type": "code",
   "execution_count": 29,
   "metadata": {
    "collapsed": false,
    "jupyter": {
     "outputs_hidden": false
    }
   },
   "outputs": [
    {
     "name": "stdout",
     "output_type": "stream",
     "text": [
      "The average budget of the Top10 highest-grossing films is  115.66 million USD\n"
     ]
    }
   ],
   "source": [
    "# Read the column of interest from the Movies dataframe\n",
    "Budget = Movies['Budget_million$']\n",
    "# Use the mean function from the Numpy library\n",
    "mean3 = np.mean(Budget)\n",
    "print(\"The average budget of the Top10 highest-grossing films is \",mean3,\"million USD\")"
   ]
  },
  {
   "cell_type": "code",
   "execution_count": 30,
   "metadata": {
    "collapsed": false,
    "jupyter": {
     "outputs_hidden": false
    }
   },
   "outputs": [
    {
     "name": "stdout",
     "output_type": "stream",
     "text": [
      "The average budget of the Top10 highest-grossing films is  115.66 million USD\n"
     ]
    }
   ],
   "source": [
    "# Read the column of interest from the Movies dataframe\n",
    "Budget = Movies['Budget_million$']\n",
    "# Use the mean function from the statistics library\n",
    "mean4 = statistics.mean(Budget)\n",
    "print(\"The average budget of the Top10 highest-grossing films is \",mean4,\"million USD\")"
   ]
  },
  {
   "cell_type": "markdown",
   "metadata": {},
   "source": [
    "#### <font color=orange>Harmonic Mean</font>"
   ]
  },
  {
   "cell_type": "markdown",
   "metadata": {},
   "source": [
    "The harmonic mean is the reciprocal of the mean of the reciprocals of all items in the dataset.\n",
    "\n",
    "<img src=\"https://www.onlinemath4all.com/images/harmonicmean1.png\" align=\"right\">\n",
    "\n",
    "Let's calculate the harmonic mean for the same set of numbers:"
   ]
  },
  {
   "cell_type": "code",
   "execution_count": 31,
   "metadata": {
    "collapsed": false,
    "jupyter": {
     "outputs_hidden": false
    }
   },
   "outputs": [
    {
     "name": "stdout",
     "output_type": "stream",
     "text": [
      "The harmonic mean of the budget of the Top10 highest-grossing films is  13.38 million USD\n",
      "The harmonic mean of the budget of the Top10 highest-grossing films is  13.38 million USD\n",
      "The harmonic mean of the budget of the Top10 highest-grossing films is  13.38 million USD\n"
     ]
    }
   ],
   "source": [
    "# Primitive Python:\n",
    "budget = [3.9,237,200,11,356,8.2,10.5,13,11,306]\n",
    "hmean1 = len(budget) / sum(1 / item for item in budget)\n",
    "hmean1 = round(hmean1,2)\n",
    "print(\"The harmonic mean of the budget of the Top10 highest-grossing films is \",hmean1,\"million USD\")\n",
    "\n",
    "# via the Statistics library:\n",
    "Budget = Movies['Budget_million$']\n",
    "hmean2 = statistics.harmonic_mean(Budget)\n",
    "hmean2 = round(hmean2,2)\n",
    "print(\"The harmonic mean of the budget of the Top10 highest-grossing films is \",hmean2,\"million USD\")\n",
    "\n",
    "# via the scipy.stats library:\n",
    "Budget = Movies['Budget_million$']\n",
    "hmean3 = scipy.stats.hmean(Budget)\n",
    "hmean3 = round(hmean3,2)\n",
    "print(\"The harmonic mean of the budget of the Top10 highest-grossing films is \",hmean3,\"million USD\")"
   ]
  },
  {
   "cell_type": "markdown",
   "metadata": {},
   "source": [
    "#### <font color=orange>Geometric Mean</font>"
   ]
  },
  {
   "cell_type": "markdown",
   "metadata": {},
   "source": [
    "The geometric mean is the 𝑛-th root of the product of all 𝑛 elements 𝑥ᵢ in a dataset.\n",
    "\n",
    "![](https://ncalculators.com/images/formulas/geometric-mean.jpg)\n",
    "\n",
    "Let's calculate the geometric mean for the same set of numbers:"
   ]
  },
  {
   "cell_type": "code",
   "execution_count": 32,
   "metadata": {
    "collapsed": false,
    "jupyter": {
     "outputs_hidden": false
    }
   },
   "outputs": [
    {
     "name": "stdout",
     "output_type": "stream",
     "text": [
      "The geometric mean of the budget of the Top10 highest-grossing films is  34.96 million USD\n",
      "The geometric mean of the budget of the Top10 highest-grossing films is  34.96 million USD\n",
      "The geometric mean of the budget of the Top10 highest-grossing films is  34.96 million USD\n"
     ]
    }
   ],
   "source": [
    "# Primitive Python: -it is getting more lengthy and labour-intensive\n",
    "budget = [3.9,237,200,11,356,8.2,10.5,13,11,306]\n",
    "\n",
    "gmean1 = 1\n",
    "for item in budget:\n",
    "     gmean1 *= item\n",
    "\n",
    "gmean1 **= 1 / len(budget)\n",
    "gmean1 = round(gmean1,2)\n",
    "print(\"The geometric mean of the budget of the Top10 highest-grossing films is \",gmean1,\"million USD\")\n",
    "\n",
    "# via the Statistics library:\n",
    "Budget = Movies['Budget_million$']\n",
    "gmean2 = statistics.geometric_mean(Budget)\n",
    "gmean2 = round(gmean2,2)\n",
    "\n",
    "print(\"The geometric mean of the budget of the Top10 highest-grossing films is \",gmean2,\"million USD\")\n",
    "\n",
    "# via the scipy.stats library:\n",
    "Budget = Movies['Budget_million$']\n",
    "gmean3 = scipy.stats.gmean(Budget)\n",
    "gmean3 = round(gmean3,2)\n",
    "\n",
    "print(\"The geometric mean of the budget of the Top10 highest-grossing films is \",gmean3,\"million USD\")"
   ]
  },
  {
   "cell_type": "markdown",
   "metadata": {},
   "source": [
    "#### <font color=darkorange>Arithmetic or Geometric or Harmonic?- How to be Mean!</font>\n",
    "<img src=\"https://pbs.twimg.com/media/Dm2BdG2V4AE36xP.jpg\" width=\"500\" align=\"left\">\n",
    "\n",
    "- If values have the same units: Use the arithmetic mean. \n",
    "- If values have differing units: Use the geometric mean. \n",
    "- Also, commonly used for growth rates, like population growth or interest rates.\n",
    "- If values are rates: Use the harmonic mean. \n",
    "<br>\n",
    "<br>\n",
    "\n",
    "\n",
    "**Learn More:**\n",
    "If you are interested in knowing more about these 3 and their differences, you may find these sources interesting:\n",
    "- \"Arithmetic, Geometric, and Harmonic Means for Machine Learning Arithmetic, Geometric, and Harmonic Means for Machine Learning\" by Jason Brownlee, available @ https://machinelearningmastery.com/arithmetic-geometric-and-harmonic-means-for-machine-learning/#:~:text=The%20arithmetic%20mean%20is%20appropriate,with%20different%20measures%2C%20called%20rates.\n",
    "\n",
    "- \"On Average, You’re Using the Wrong Average: Geometric & Harmonic Means in Data Analysis\"\n",
    "by Daniel McNichol, available @ https://towardsdatascience.com/on-average-youre-using-the-wrong-average-geometric-harmonic-means-in-data-analysis-2a703e21ea0"
   ]
  },
  {
   "cell_type": "markdown",
   "metadata": {},
   "source": [
    "#### <font color=orange>Median</font>"
   ]
  },
  {
   "cell_type": "markdown",
   "metadata": {},
   "source": [
    "Median is the middle element of a sorted dataset. The value where the upper half of the data lies above it and lower half lies below it. In other words, it is the middle value of a data set. To calculate the median, arrange the data points in the increasing (or decreasing) order and the middle value is the median. If the number of elements 𝑛 of the dataset is odd, then the median is the value at the middle position: 0.5(𝑛 + 1). If 𝑛 is even, then the median is the arithmetic mean of the two values in the middle, that is, the items at the positions 0.5𝑛 and 0.5𝑛 + 1.\n",
    "Let's find the median of the gross of the Top10 highest-grossing films: "
   ]
  },
  {
   "cell_type": "code",
   "execution_count": 33,
   "metadata": {
    "collapsed": false,
    "jupyter": {
     "outputs_hidden": false
    }
   },
   "outputs": [
    {
     "data": {
      "text/plain": [
       "0    3706\n",
       "1    3257\n",
       "2    3081\n",
       "3    3043\n",
       "4    2798\n",
       "5    2549\n",
       "6    2489\n",
       "7    2356\n",
       "8    2233\n",
       "9    2202\n",
       "Name: Gross_million$, dtype: int64"
      ]
     },
     "execution_count": 33,
     "metadata": {},
     "output_type": "execute_result"
    }
   ],
   "source": [
    "Gross = Movies['Gross_million$']\n",
    "Gross"
   ]
  },
  {
   "cell_type": "markdown",
   "metadata": {},
   "source": [
    "We can use primitive python to calculate the median of a set of numbers:"
   ]
  },
  {
   "cell_type": "code",
   "execution_count": 34,
   "metadata": {
    "collapsed": false,
    "jupyter": {
     "outputs_hidden": false
    }
   },
   "outputs": [
    {
     "name": "stdout",
     "output_type": "stream",
     "text": [
      "The median of gross of the Top10 highest-grossing films is  2673.5 million USD\n"
     ]
    }
   ],
   "source": [
    "# Create a list of all the numbers:\n",
    "gross = [3706,3257,3081,3043,2798,2549,2489,2356,2233,2202]\n",
    "n = len(gross)\n",
    "if n % 2:\n",
    "     median1 = sorted(gross)[round(0.5*(n-1))]\n",
    "else:\n",
    "     gross_ord, index = sorted(gross), round(0.5 * n)\n",
    "     median1 = 0.5 * (gross_ord[index-1] + gross_ord[index])\n",
    "\n",
    "print(\"The median of gross of the Top10 highest-grossing films is \",median1,\"million USD\")"
   ]
  },
  {
   "cell_type": "markdown",
   "metadata": {},
   "source": [
    "We can use also use external libraries:"
   ]
  },
  {
   "cell_type": "code",
   "execution_count": 35,
   "metadata": {
    "collapsed": false,
    "jupyter": {
     "outputs_hidden": false
    },
    "scrolled": true
   },
   "outputs": [
    {
     "name": "stdout",
     "output_type": "stream",
     "text": [
      "The median of gross of the Top10 highest-grossing films is  2673.5 million USD\n",
      "The median of gross of the Top10 highest-grossing films is  2673.5 million USD\n",
      "The median of gross of the Top10 highest-grossing films is  2673.5 million USD\n",
      "low median : 2549\n",
      "high median : 2798\n"
     ]
    }
   ],
   "source": [
    "#via the Pandas library:\n",
    "Gross = Movies['Gross_million$']\n",
    "median2 = Gross.median()\n",
    "print(\"The median of gross of the Top10 highest-grossing films is \",median2,\"million USD\")\n",
    "\n",
    "#via the Numpy library:\n",
    "Gross = Movies['Gross_million$']\n",
    "median3 = np.median(Gross)\n",
    "print(\"The median of gross of the Top10 highest-grossing films is \",median3,\"million USD\")\n",
    "\n",
    "#via the Statistics library:\n",
    "Gross = Movies['Gross_million$']\n",
    "median4 = statistics.median(Gross)\n",
    "print(\"The median of gross of the Top10 highest-grossing films is \",median4,\"million USD\")\n",
    "#2 more functions from the same library- For even number of cases:\n",
    "print(\"low median :\",statistics.median_low(Gross))\n",
    "print(\"high median :\",statistics.median_high(Gross))"
   ]
  },
  {
   "cell_type": "markdown",
   "metadata": {},
   "source": [
    "The main difference between the behavior of the mean and median is related to dataset outliers or extremes. The mean is heavily affected by outliers, but the median only depends on outliers either slightly or not at all. You can compare the mean and median as one way to detect outliers and asymmetry in your data. Whether the mean value or the median value is more useful to you depends on the context of your particular problem. The mean is a better choice when there are no extreme values that can affect it. It is a better summary because the information from every observation is included rather than median, which is just the middle value. However, in the presence of outliers, median is considered a better alternative. Check this out:"
   ]
  },
  {
   "cell_type": "code",
   "execution_count": 36,
   "metadata": {
    "collapsed": false,
    "jupyter": {
     "outputs_hidden": false
    }
   },
   "outputs": [
    {
     "name": "stdout",
     "output_type": "stream",
     "text": [
      "12400.7\n",
      "2673.5\n"
     ]
    }
   ],
   "source": [
    "newgross = [99999,3257,3081,3043,2798,2549,2489,2356,2233,2202] #We have replaced 3706 with 99999- an extremely high number (an outlier)\n",
    "newmean = np.mean(newgross)\n",
    "newmedian = np.median(newgross)\n",
    "print(newmean)   #A huge change from the previous value (115.66) - Mean is very sensitive to outliers and extreme values\n",
    "print(newmedian) #No Change- the median only depends on outliers either slightly or not at all. "
   ]
  },
  {
   "cell_type": "markdown",
   "metadata": {},
   "source": [
    "To read more about the differences of mean and median, check these out:\n",
    "- \"Stuck in the middle – mean vs. median\"\n",
    ", available @ https://www.clinfo.eu/mean-median/\n",
    "\n",
    "- \"Mean vs Median: When to Use Which Measure?\"\n",
    ", available @ https://www.datascienceblog.net/post/basic-statistics/mean_vs_median/\n",
    "\n",
    "- \"Mean vs. Median\"\n",
    "by __*AnswerMiner*__, available @ https://www.answerminer.com/blog/mean-vs-median"
   ]
  },
  {
   "cell_type": "markdown",
   "metadata": {},
   "source": [
    "#### <font color=orange>Mode</font>"
   ]
  },
  {
   "cell_type": "markdown",
   "metadata": {},
   "source": [
    "The value that occurs the most number of times in our data set. Closely tied to the concept of frequency, mode provides information on the most recurrent elements in a dataset. When the mode is not unique, we say that the data set is bimodal, while a data set with more than two modes is multimodal. Let's find the mode in the gross of the Top10 highest-grossing films:"
   ]
  },
  {
   "cell_type": "code",
   "execution_count": 37,
   "metadata": {
    "collapsed": false,
    "jupyter": {
     "outputs_hidden": false
    }
   },
   "outputs": [
    {
     "name": "stdout",
     "output_type": "stream",
     "text": [
      "3706\n",
      "0    2202\n",
      "1    2233\n",
      "2    2356\n",
      "3    2489\n",
      "4    2549\n",
      "5    2798\n",
      "6    3043\n",
      "7    3081\n",
      "8    3257\n",
      "9    3706\n",
      "dtype: int64\n",
      "3706\n",
      "[3706, 3257, 3081, 3043, 2798, 2549, 2489, 2356, 2233, 2202]\n",
      "ModeResult(mode=array([2202]), count=array([1]))\n"
     ]
    }
   ],
   "source": [
    "# In primitive Python:\n",
    "# Create a list of all the numbers:\n",
    "gross = [3706,3257,3081,3043,2798,2549,2489,2356,2233,2202]\n",
    "mode1 = max((gross.count(item), item) for item in gross)[1]\n",
    "print(mode1) #Since each item is repeated only once, only the first element is printed- This is a multimodal set. \n",
    "\n",
    "#via the Pandas library:\n",
    "Gross = Movies['Gross_million$']\n",
    "mode2 = Gross.mode()\n",
    "print(mode2) #Returns all modal values- This is a multimodal set. \n",
    "\n",
    "#via the Statistics library:\n",
    "Gross = Movies['Gross_million$']\n",
    "mode3 = statistics.mode(Gross)\n",
    "print(mode3) #Return a single value\n",
    "mode4 = statistics.multimode(Gross)\n",
    "print(mode4) #Returns a list of all modes\n",
    "\n",
    "#via the scipy.stats library:\n",
    "Gross = Movies['Gross_million$']\n",
    "mode5 = scipy.stats.mode(Gross)\n",
    "print(mode5) #Returns the object with the modal value and the number of times it occurs- If multimodal: only the smallest value"
   ]
  },
  {
   "cell_type": "markdown",
   "metadata": {},
   "source": [
    "Mode is not useful when our distribution is flat; i.e., the frequencies of all groups are similar. Mode makes sense when we do not have a numeric-valued data set which is required in case of the mean and the median. For instance:"
   ]
  },
  {
   "cell_type": "code",
   "execution_count": 38,
   "metadata": {
    "collapsed": false,
    "jupyter": {
     "outputs_hidden": false
    }
   },
   "outputs": [
    {
     "name": "stdout",
     "output_type": "stream",
     "text": [
      "James Cameron\n",
      "0    James Cameron\n",
      "dtype: object\n"
     ]
    }
   ],
   "source": [
    "Director = Movies['Director']\n",
    "# via statistics:\n",
    "mode6 = statistics.mode(Director)\n",
    "print(mode6) #\"James Cameron\" with two films (x2 repeats) is the mode\n",
    "# via pandas:\n",
    "mode7 = Director.mode()\n",
    "print(mode7) #\"James Cameron\" with two films (x2 repeats) is the mode"
   ]
  },
  {
   "cell_type": "markdown",
   "metadata": {},
   "source": [
    "To read more about mode, check these out:\n",
    "- \"Mode: A statistical measure of central tendency\"\n",
    ", available @ https://corporatefinanceinstitute.com/resources/knowledge/other/mode/\n",
    "\n",
    "- \"When to use each measure of Central Tendency\"\n",
    ", available @ https://courses.lumenlearning.com/introstats1/chapter/when-to-use-each-measure-of-central-tendency/\n",
    "\n",
    "- \"Mean, Median, Mode: What They Are, How to Find Them\"\n",
    ", available @ https://www.statisticshowto.com/probability-and-statistics/statistics-definitions/mean-median-mode/"
   ]
  },
  {
   "cell_type": "markdown",
   "metadata": {},
   "source": [
    "### <font color=cyan>Measures of Dispersion</font>"
   ]
  },
  {
   "cell_type": "markdown",
   "metadata": {},
   "source": [
    "Measures of dispersion are values that describe how the data varies. It gives us a sense of how much the data tends to diverge from the typical value. Aka measures of variability, they quantify the spread of data points.The major measures of dispersion include __*range, percentiles, inter-quentile range, variance, standard deviation, skeness and kurtosis*__."
   ]
  },
  {
   "cell_type": "markdown",
   "metadata": {},
   "source": [
    "#### <font color=cyan>Range</font>"
   ]
  },
  {
   "cell_type": "markdown",
   "metadata": {},
   "source": [
    "The range gives a quick sense of the spread of the distribution to those who require only a rough indication of the data. There are some disadvantages of using the range as a measure of spread. One being it does not give any information of the data in between maximum and minimum. Also, the range is very sensitive to extreme values. Let's calculate the range for the budget of the Top10 highest-grossing films: "
   ]
  },
  {
   "cell_type": "code",
   "execution_count": 39,
   "metadata": {
    "collapsed": false,
    "jupyter": {
     "outputs_hidden": false
    }
   },
   "outputs": [
    {
     "name": "stdout",
     "output_type": "stream",
     "text": [
      "The range of the budget of the Top10 highest-grossing films is  352.1 million USD\n",
      "The range of the budget of the Top10 highest-grossing films is  352.1 million USD\n"
     ]
    }
   ],
   "source": [
    "# Primitive Python:\n",
    "budget = [3.9,237,200,11,356,8.2,10.5,13,11,306]\n",
    "range1 = max(budget)-min(budget)\n",
    "print(\"The range of the budget of the Top10 highest-grossing films is \",range1,\"million USD\")\n",
    "\n",
    "# via the Statistics library:\n",
    "Budget = Movies['Budget_million$']\n",
    "range2 = np.ptp(Budget) #ptp stands for Peak To Peak\n",
    "print(\"The range of the budget of the Top10 highest-grossing films is \",range2,\"million USD\")"
   ]
  },
  {
   "cell_type": "markdown",
   "metadata": {},
   "source": [
    "#### <font color=cyan>Percentiles and Quartiles</font>"
   ]
  },
  {
   "cell_type": "markdown",
   "metadata": {},
   "source": [
    "A measure which indicates the value below which a given percentage of points in a dataset fall. The sample 𝑝 percentile is the element in the dataset such that 𝑝% of the elements in the dataset are less than or equal to that value. Also, (100 − 𝑝)% of the elements are greater than or equal to that value. For example, median represents the 50th percentile. Similarly, we can have 0th percentile representing the minimum and 100th percentile representing the maximum of all data points. Percentile gives the relative position of a particular value within the dataset. It also helps in comparing the data sets which have different means and deviations.\n",
    "Each dataset has three quartiles, which are the percentiles that divide the dataset into four parts:\n",
    "\n",
    "- The first quartile (Q1) is the sample 25th percentile. It divides roughly 25% of the smallest items from the rest of the dataset.\n",
    "- The second quartile Q2) is the sample 50th percentile or the median. Approximately 25% of the items lie between the first and second quartiles and another 25% between the second and third quartiles.\n",
    "- The third quartile (Q3) is the sample 75th percentile. It divides roughly 25% of the largest items from the rest of the dataset."
   ]
  },
  {
   "cell_type": "code",
   "execution_count": 40,
   "metadata": {
    "collapsed": false,
    "jupyter": {
     "outputs_hidden": false
    }
   },
   "outputs": [
    {
     "name": "stdout",
     "output_type": "stream",
     "text": [
      "The 10th percentile of the budget of the Top10 highest-grossing films is  7.77\n",
      "The 40th and 70th percentile of the budget of the Top10 highest-grossing films are  [ 11.  211.1]\n",
      "The 10th percentile of the budget of the Top10 highest-grossing films is  7.77\n",
      "The quartiles of the budget of the Top10 highest-grossing films is  [10.625, 12.0, 227.75]\n"
     ]
    }
   ],
   "source": [
    "Budget = Movies['Budget_million$']\n",
    "#via Numpy:\n",
    "p10 = np.percentile(Budget, 10) #returns the 10th percentile\n",
    "print(\"The 10th percentile of the budget of the Top10 highest-grossing films is \",p10)\n",
    "p4070 = np.percentile(Budget, [40,70]) #returns the 40th and 70th percentile\n",
    "print(\"The 40th and 70th percentile of the budget of the Top10 highest-grossing films are \",p4070)\n",
    "#via Pandas:\n",
    "p10n = Budget.quantile(0.10) #returns the 10th percentile - notice the difference from Numpy\n",
    "print(\"The 10th percentile of the budget of the Top10 highest-grossing films is \",p10n)\n",
    "#via Statistics:\n",
    "Qs = statistics.quantiles(Budget, n=4, method='inclusive')     #The parameter n defines the number of resulting equal-probability percentiles: \n",
    "                                                               #n=4 returns the quartiles | n=2 returns the median\n",
    "print(\"The quartiles of the budget of the Top10 highest-grossing films is \",Qs)"
   ]
  },
  {
   "cell_type": "markdown",
   "metadata": {},
   "source": [
    "#### <font color=cyan>InterQuartile Range (IQR)</font>"
   ]
  },
  {
   "cell_type": "markdown",
   "metadata": {},
   "source": [
    "IQR is the difference between the third quartile and the first quartile (Q3-Q1). The interquartile range is a better option than range because it is not affected by outliers. It removes the outliers by just focusing on the distance within the middle 50% of the data."
   ]
  },
  {
   "cell_type": "code",
   "execution_count": 41,
   "metadata": {
    "collapsed": false,
    "jupyter": {
     "outputs_hidden": false
    }
   },
   "outputs": [
    {
     "name": "stdout",
     "output_type": "stream",
     "text": [
      "The IQR of the budget of the Top10 highest-grossing films is  217.125\n",
      "The IQR of the budget of the Top10 highest-grossing films is  217.125\n"
     ]
    }
   ],
   "source": [
    "Budget = Movies['Budget_million$']\n",
    "#via Numpy:\n",
    "IQR1 = np.percentile(Budget, 75) -np.percentile(Budget, 25)    #returns the IQR = Q3-Q1 = P75-P25\n",
    "print(\"The IQR of the budget of the Top10 highest-grossing films is \",IQR1)\n",
    "#via scipy.stats:\n",
    "IQR2 = scipy.stats.iqr(Budget)    #returns the IQR- Can be used for other percentile differences as well >> iqr(object, rng=(p1, p2))\n",
    "print(\"The IQR of the budget of the Top10 highest-grossing films is \",IQR2)"
   ]
  },
  {
   "cell_type": "markdown",
   "metadata": {},
   "source": [
    "#### <font color=cyan>The Five-number Summary</font>"
   ]
  },
  {
   "cell_type": "markdown",
   "metadata": {},
   "source": [
    "A five-number summary is especially useful in descriptive analyses or during the preliminary investigation of a large data set. A summary consists of five values: the most extreme values in the data set (the maximum and minimum values), the lower and upper quartiles, and the median. Five-number summary can be used to describe any data distribution. Boxplots are extremely useful graphical representation of the 5-number summary that we will discuss later."
   ]
  },
  {
   "cell_type": "code",
   "execution_count": 50,
   "metadata": {
    "collapsed": false,
    "jupyter": {
     "outputs_hidden": false
    }
   },
   "outputs": [
    {
     "data": {
      "text/plain": [
       "count     10.000000\n",
       "mean     115.660000\n",
       "std      142.739991\n",
       "min        3.900000\n",
       "25%       10.625000\n",
       "50%       12.000000\n",
       "75%      227.750000\n",
       "max      356.000000\n",
       "Name: Budget_million$, dtype: float64"
      ]
     },
     "execution_count": 50,
     "metadata": {},
     "output_type": "execute_result"
    }
   ],
   "source": [
    "Budget = Movies['Budget_million$']\n",
    "Budget.describe()     #Remember this jewel from Pandas? -It directly return the 5-number summary AND MORE!"
   ]
  },
  {
   "cell_type": "markdown",
   "metadata": {},
   "source": [
    "Boxplots are extremely useful graphical representation of the 5-number summary. It can show the range, interquartile range, median, mode, outliers, and all quartiles."
   ]
  },
  {
   "cell_type": "code",
   "execution_count": 51,
   "metadata": {
    "collapsed": false,
    "jupyter": {
     "outputs_hidden": false
    }
   },
   "outputs": [
    {
     "data": {
      "image/png": "[encoded data removed]",
      "text/plain": [
       "<Figure size 504x360 with 1 Axes>"
      ]
     },
     "metadata": {
      "needs_background": "light"
     },
     "output_type": "display_data"
    }
   ],
   "source": [
    "import matplotlib.pyplot as plt  #Required for the plot\n",
    "\n",
    "gross = [3706,3257,3081,3043,2798,2549,2489,2356,2233,2202,5000] #same data + an outlier: 5000\n",
    "\n",
    "fig = plt.figure(figsize =(7, 5))\n",
    "plt.boxplot(gross,medianprops={'linewidth': 1, 'color': 'purple'})\n",
    "\n",
    "plt.show()"
   ]
  },
  {
   "cell_type": "markdown",
   "metadata": {},
   "source": [
    "To read more about the 5-number summary, check these out:\n",
    "- \"Find a Five-Number Summary in Statistics: Easy Steps\"\n",
    ", available @ https://www.statisticshowto.com/how-to-find-a-five-number-summary-in-statistics/\n",
    "\n",
    "- \"The Five-Number Summary\"\n",
    ", available @ https://www.purplemath.com/modules/boxwhisk2.htm\n",
    "\n",
    "- \"What Is the 5 Number Summary?\"\n",
    "by __*Courtney Taylor*__, available @ https://www.statisticshowto.com/probability-and-statistics/statistics-definitions/mean-median-mode/"
   ]
  },
  {
   "cell_type": "markdown",
   "metadata": {},
   "source": [
    "#### <font color=cyan>Variance</font>"
   ]
  },
  {
   "cell_type": "markdown",
   "metadata": {},
   "source": [
    "The sample variance quantifies the spread of the data. It shows numerically how far the data points are from the mean. The observations may or may not be meaningful if observations in data sets are highly spread. Let's calculate the variance for budget of the Top10 highest-grossing films.\n",
    "\n",
    "![](https://miro.medium.com/max/666/0*ovSFlxj9RJMgtQoX.png)\n",
    "\n",
    "Note that if we are working with the entire population (and not the sample), the denominator should be \"n\" instead of \"n-1\"."
   ]
  },
  {
   "cell_type": "markdown",
   "metadata": {},
   "source": [
    "Note that if we are working with the entire population (and not the sample), the denominator should be \"n\" instead of \"n-1\"."
   ]
  },
  {
   "cell_type": "code",
   "execution_count": 52,
   "metadata": {
    "collapsed": false,
    "jupyter": {
     "outputs_hidden": false
    }
   },
   "outputs": [
    {
     "name": "stdout",
     "output_type": "stream",
     "text": [
      "The variance of the budget of the Top10 highest-grossing films is  20374.70488888889\n",
      "The variance of the budget of the Top10 highest-grossing films is  20374.70488888889\n"
     ]
    }
   ],
   "source": [
    "# Primitive Python:\n",
    "budget = [3.9,237,200,11,356,8.2,10.5,13,11,306]\n",
    "n = len(budget)\n",
    "mean = sum(budget) / n\n",
    "var1 = sum((item - mean)**2 for item in budget) / (n - 1)\n",
    "print(\"The variance of the budget of the Top10 highest-grossing films is \",var1)\n",
    "\n",
    "# via the Statistics library:\n",
    "Budget = Movies['Budget_million$']\n",
    "var2 = statistics.variance(Budget)\n",
    "print(\"The variance of the budget of the Top10 highest-grossing films is \",var2)"
   ]
  },
  {
   "cell_type": "markdown",
   "metadata": {},
   "source": [
    "#### <font color=cyan>Standard Deviation</font>"
   ]
  },
  {
   "cell_type": "markdown",
   "metadata": {},
   "source": [
    "The sample standard deviation is another measure of data spread. It’s connected to the sample variance, as standard deviation, 𝑠, is the positive square root of the sample variance. The standard deviation is often more convenient than the variance because it has the same unit as the data points.\n",
    "\n",
    "![](https://cdn.kastatic.org/googleusercontent/N8xzWFc6eo0XBHEXZjz1SwvLSnPezvhTRF1P17kdjUG_tnJivGKkyCxbwVe4MZ0-USOxIZBohgcjdi8e7Z4Hswcqfw)\n"
   ]
  },
  {
   "cell_type": "code",
   "execution_count": 53,
   "metadata": {
    "collapsed": false,
    "jupyter": {
     "outputs_hidden": false
    }
   },
   "outputs": [
    {
     "name": "stdout",
     "output_type": "stream",
     "text": [
      "The standard deviation of the budget of the Top10 highest-grossing films is  142.73999050332353 million USD\n",
      "The standard deviation of the budget of the Top10 highest-grossing films is  142.73999050332353 million USD\n"
     ]
    }
   ],
   "source": [
    "# Primitive Python:\n",
    "budget = [3.9,237,200,11,356,8.2,10.5,13,11,306]\n",
    "n = len(budget)\n",
    "mean = sum(budget) / n\n",
    "var = sum((item - mean)**2 for item in budget) / (n - 1)\n",
    "sd1 = var**0.5\n",
    "print(\"The standard deviation of the budget of the Top10 highest-grossing films is \",sd1,\"million USD\")\n",
    "\n",
    "# via the Statistics library:\n",
    "Budget = Movies['Budget_million$']\n",
    "sd2 = statistics.stdev(Budget)\n",
    "print(\"The standard deviation of the budget of the Top10 highest-grossing films is \",sd2,\"million USD\")"
   ]
  },
  {
   "cell_type": "markdown",
   "metadata": {},
   "source": [
    "#### <font color=pink>Skewness</font>"
   ]
  },
  {
   "cell_type": "markdown",
   "metadata": {},
   "source": [
    "The sample skewness measures the asymmetry of a data sample. There are several mathematical definitions of skewness. The Fisher-Pearson standardized moment coefficient is calculated by using mean, median and standard deviation of the data. \n",
    "\n",
    "![](https://miro.medium.com/max/560/1*B-n9Ujb_IPggKO9P52jrDA.png)\n",
    "\n",
    "Usually, negative skewness values indicate that there’s a dominant tail on the left side. Positive skewness values correspond to a longer or fatter tail on the right side. If the skewness is close to 0 (for example, between −0.5 and 0.5), then the dataset is considered quite symmetrical."
   ]
  },
  {
   "cell_type": "code",
   "execution_count": 54,
   "metadata": {
    "collapsed": false,
    "jupyter": {
     "outputs_hidden": false
    }
   },
   "outputs": [
    {
     "name": "stdout",
     "output_type": "stream",
     "text": [
      "The skewness of the budget of the Top10 highest-grossing films is  0.7636547490528159\n",
      "The skewness of the budget of the Top10 highest-grossing films is  0.763654749052816\n",
      "The skewness of the budget of the Top10 highest-grossing films is  0.763654749052816\n"
     ]
    }
   ],
   "source": [
    "# Primitive Python:\n",
    "budget = [3.9,237,200,11,356,8.2,10.5,13,11,306]\n",
    "n = len(budget)\n",
    "mean = sum(budget) / n\n",
    "var = sum((item - mean)**2 for item in budget) / (n - 1)\n",
    "std = var**0.5\n",
    "skew1 = (sum((item - mean)**3 for item in budget)\n",
    "         * n / ((n - 1) * (n - 2) * std**3))\n",
    "print(\"The skewness of the budget of the Top10 highest-grossing films is \",skew1)\n",
    "\n",
    "# via the scipy.stats library:\n",
    "Budget = Movies['Budget_million$']\n",
    "skew2 = scipy.stats.skew(Budget, bias=False)\n",
    "print(\"The skewness of the budget of the Top10 highest-grossing films is \",skew2)\n",
    "\n",
    "# via the Pandas library:\n",
    "Budget = Movies['Budget_million$']\n",
    "skew3 = Budget.skew()\n",
    "print(\"The skewness of the budget of the Top10 highest-grossing films is \",skew3)"
   ]
  },
  {
   "cell_type": "markdown",
   "metadata": {},
   "source": [
    "#### <font color=pink>Kurtosis</font>"
   ]
  },
  {
   "cell_type": "markdown",
   "metadata": {},
   "source": [
    "Kurtosis describes the peakedness of the distribution. In other words, Kurtosis identifies whether the tails of a given distribution contain extreme values. While Skewness essentially measures the symmetry of the distribution, kurtosis determines the heaviness of the distribution tails.\n",
    "\n",
    "![](https://miro.medium.com/max/2220/1*-UQjlHtFyW6m5gcyZ6db2A.png)\n",
    "\n",
    "If the distribution is tall and thin it is called a leptokurtic distribution. Values in a leptokurtic distribution are near the mean or at the extremes. A flat distribution where the values are moderately spread out (i.e., unlike leptokurtic) is called platykurtic distribution. A distribution whose shape is in between a leptokurtic distribution and a platykurtic distribution is called a mesokurtic distribution. "
   ]
  },
  {
   "cell_type": "code",
   "execution_count": 55,
   "metadata": {
    "collapsed": false,
    "jupyter": {
     "outputs_hidden": false
    }
   },
   "outputs": [
    {
     "name": "stdout",
     "output_type": "stream",
     "text": [
      "The kurtosis of the budget of the Top10 highest-grossing films is  -1.3110307923262225\n"
     ]
    }
   ],
   "source": [
    "# via the scipy.stats library:\n",
    "Budget = Movies['Budget_million$']\n",
    "Kurt = scipy.stats.kurtosis(Budget)\n",
    "print(\"The kurtosis of the budget of the Top10 highest-grossing films is \",Kurt) #a platykurtic distribution | the tails are heavy\n"
   ]
  },
  {
   "cell_type": "markdown",
   "metadata": {},
   "source": [
    "To read more about skewness and kurtosis, check these out:\n",
    "- \"Measures of Skewness and Kurtosis\"\n",
    ", available @ https://www.itl.nist.gov/div898/handbook/eda/section3/eda35b.htm#:~:text=Skewness%20is%20a%20measure%20of,relative%20to%20a%20normal%20distribution.\n",
    "\n",
    "- \"Are the Skewness and Kurtosis Useful Statistics?\"\n",
    ", available @ https://www.spcforexcel.com/knowledge/basic-statistics/are-skewness-and-kurtosis-useful-statistics\n",
    "\n",
    "- \"Skew and Kurtosis: 2 Important Statistics terms you need to know in Data Science\"\n",
    "by __*Diva Dugar*__, available @ https://codeburst.io/2-important-statistics-terms-you-need-to-know-in-data-science-skewness-and-kurtosis-388fef94eeaa\n",
    "\n",
    "- \"Measures of Shape: Skewness and Kurtosis\"\n",
    "by __*Stan Brown*__, available @ https://brownmath.com/stat/shape.htm"
   ]
  }
 ],
 "metadata": {
  "kernelspec": {
   "display_name": "Python 3",
   "language": "python",
   "name": "python3"
  },
  "language_info": {
   "codemirror_mode": {
    "name": "ipython",
    "version": 3
   },
   "file_extension": ".py",
   "mimetype": "text/x-python",
   "name": "python",
   "nbconvert_exporter": "python",
   "pygments_lexer": "ipython3",
   "version": "3.8.10"
  }
 },
 "nbformat": 4,
 "nbformat_minor": 4
}
