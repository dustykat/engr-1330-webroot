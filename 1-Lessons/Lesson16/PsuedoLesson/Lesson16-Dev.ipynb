{
 "cells": [
  {
   "cell_type": "code",
   "execution_count": 38,
   "metadata": {},
   "outputs": [
    {
     "name": "stdin",
     "output_type": "stream",
     "text": [
      "Once deleted, variables cannot be recovered. Proceed (y/[n])?  y\n"
     ]
    }
   ],
   "source": [
    "#preamble\n",
    "%reset"
   ]
  },
  {
   "cell_type": "code",
   "execution_count": 39,
   "metadata": {},
   "outputs": [
    {
     "data": {
      "text/html": [
       "<!--Script block to left align Markdown Tables-->\n",
       "<style>\n",
       "  table {margin-left: 0 !important;}\n",
       "</style>\n"
      ],
      "text/plain": [
       "<IPython.core.display.HTML object>"
      ]
     },
     "metadata": {},
     "output_type": "display_data"
    }
   ],
   "source": [
    "%%html\n",
    "<!--Script block to left align Markdown Tables-->\n",
    "<style>\n",
    "  table {margin-left: 0 !important;}\n",
    "</style>"
   ]
  },
  {
   "cell_type": "markdown",
   "metadata": {},
   "source": [
    "# ENGR 1330 Computational Thinking with Data Science \n",
    "Last GitHub Commit Date: 16 Mar 2021\n",
    "\n",
    "## Lesson 16 : Hypothesis Testing (Continued) \n",
    "\n",
    "A procedure to systematically decide if two data collections are similar or substantially different\n",
    "\n",
    "<!--![](https://www.thermofisher.com/blog/wp-content/uploads/sites/11/2018/01/istock-829172394_redumbrella.jpg)-->\n",
    "\n",
    "## Objectives\n",
    "- To apply fundamental concepts involved in probability estimation modeling and descriptive statistics;\n",
    "  - Use of non-standard external module\n",
    "  - Use of graphics to visualize hypothesis tests\n",
    "  - \n",
    "\n",
    "\n",
    "---\n",
    "\n",
    "## Computational Thinking Concepts\n",
    "The CT concepts include:\n",
    "\n",
    "- Abstraction => Represent data behavior with a statistic \n",
    "- Pattern Recognition => Compare patterns in (our) data models to make a decision\n",
    "---\n",
    "\n",
    "# Hypothesis Testing (Continued)\n",
    "\n",
    "Lets actually examine the textbook:\n",
    "[https://www.inferentialthinking.com/chapters/11/Testing_Hypotheses.html](https://www.inferentialthinking.com/chapters/11/Testing_Hypotheses.html)\n",
    "\n",
    "You know the URL that no-one reads, perhaps because there is a \"secret\" module you need to install, without instructions of how!  Welcome to the world of obfuscation!"
   ]
  },
  {
   "cell_type": "markdown",
   "metadata": {},
   "source": [
    "To get access to the datascience library in the textbook you use pip. On my server I did:\n",
    "\n",
    "    sudo -H /opt/conda/envs/python/bin/python -m pip install datascience\n",
    "    "
   ]
  },
  {
   "cell_type": "code",
   "execution_count": 2,
   "metadata": {},
   "outputs": [],
   "source": [
    "import datascience\n",
    "#import numpy as np\n",
    "#import matplotlib \n",
    "#import matplotlib.pyplot as plt"
   ]
  },
  {
   "cell_type": "markdown",
   "metadata": {},
   "source": [
    "## Mendel's Pea Flowers\n",
    "\n",
    "Gregor Mendel (1822-1884) was an Austrian monk who is widely recognized as the founder of the modern field of genetics. Mendel performed careful and large-scale experiments on plants to come up with fundamental laws of genetics.\n",
    "\n",
    "Many of his experiments were on varieties of pea plants. He formulated sets of assumptions about each variety; these were his models. He then tested the validity of his models by growing the plants and gathering data.\n",
    "\n",
    "Let's analyze the data from one such experiment to see if Mendel's model was good.\n",
    "\n",
    "In a particular variety, each plant has either purple flowers or white. The color in each plant is unaffected by the colors in other plants. Mendel hypothesized that the plants should bear purple or white flowers at random, in the ratio 3:1.\n",
    "### Mendel's Model\n",
    "\n",
    "For every plant, there is a 75% chance that it will have purple flowers, and a 25% chance that the flowers will be white, regardless of the colors in all the other plants.\n",
    "Approach to Assessment\n",
    "\n",
    "To go about assessing Mendel's model, we can simulate plants under the assumptions of the model and see what it predicts. Then we will be able to compare the predictions with the data that Mendel recorded.\n",
    "The Statistic\n",
    "\n",
    "Our goal is to see whether or not Mendel's model is good. We need to simulate a statistic that will help us make this decision.\n",
    "\n",
    "If the model is good, the percent of purple-flowering plants in the sample should be close to 75%. If the model is not good, the percent purple-flowering will be away from 75%. It may be higher, or lower; the direction doesn't matter.\n",
    "\n",
    "The key for us is the distance between 75% and the percent of purple-flowering plants in the sample. Big distances are evidence that the model isn't good.\n",
    "\n",
    "Our statistic, therefore, is the distance between the sample percent and 75%:\n",
    "\n",
    "$$∣\\text{sample percent of purple}-\\text{flowering plants}|−75\\%$$\n",
    "\n",
    "### Predicting the Statistic Under the Model\n",
    "\n",
    "To see how big the distance would be if Mendel's model were true, we can use sample_proportions to simulate the distance under the assumptions of the model.\n",
    "\n",
    "First, we have to figure out how many times to sample. To do this, remember that we are going to compare our simulation with Mendel's plants. So we should simulate the same number of plants that he had.\n",
    "\n",
    "Mendel grew a lot of plants. There were 929 plants of the variety corresponding to this model. So we have to sample 929 times.\n",
    "Generating One Value of the Statistic\n",
    "\n",
    "The steps in the calculation:\n",
    "\n",
    "    Sample 929 times at random from the distribution specified by the model and find the sample proportion in the purple-flowering category.\n",
    "    Multiply the proportion by 100 to get a pecent.\n",
    "    Subtract 75 and take the absolute value of the difference.\n",
    "\n",
    "That's the statistic: the distance between the sample percent and 75.\n",
    "\n",
    "We will start by defining a function that takes a proportion and returns the absolute difference between the corresponding percent and 75.\n"
   ]
  },
  {
   "cell_type": "code",
   "execution_count": 3,
   "metadata": {},
   "outputs": [],
   "source": [
    "def distance_from_75(p):\n",
    "    return abs(100*p - 75)"
   ]
  },
  {
   "cell_type": "markdown",
   "metadata": {},
   "source": [
    "To simulate one value of the distance between the sample percent of purple-flowering plants and 75%, under the assumptions of Mendel's model, we have to first simulate the proportion of purple-flowering plants among 929 plants under the assumption of the model, and then calculate the discrepancy from 75%."
   ]
  },
  {
   "cell_type": "code",
   "execution_count": 5,
   "metadata": {},
   "outputs": [],
   "source": [
    "model_proportions = [0.75, 0.25]"
   ]
  },
  {
   "cell_type": "code",
   "execution_count": 6,
   "metadata": {},
   "outputs": [
    {
     "data": {
      "text/plain": [
       "3.3638320775026926"
      ]
     },
     "execution_count": 6,
     "metadata": {},
     "output_type": "execute_result"
    }
   ],
   "source": [
    "proportion_purple_in_sample = datascience.sample_proportions(929, model_proportions).item(0)\n",
    "distance_from_75(proportion_purple_in_sample)\n",
    "#proportion_purple_in_sample"
   ]
  },
  {
   "cell_type": "markdown",
   "metadata": {},
   "source": [
    "That's one simulated value of the distance between the sample percent of purple-flowering plants and 75% as predicted by Mendel's model.\n",
    "### Running the Simulation\n",
    "\n",
    "To get a sense of how variable the distance could be, we have to simulate it many more times.\n",
    "\n",
    "We will generate 10,000 values of the distance. As before, we will first use the code we developed above to define a function that returns one simulated value Mendel's hypothesis.\n"
   ]
  },
  {
   "cell_type": "code",
   "execution_count": 7,
   "metadata": {},
   "outputs": [],
   "source": [
    "def one_simulated_distance():\n",
    "    proportion_purple_in_sample = datascience.sample_proportions(929, model_proportions).item(0)\n",
    "    return distance_from_75(proportion_purple_in_sample)"
   ]
  },
  {
   "cell_type": "markdown",
   "metadata": {},
   "source": [
    "Next, we will use a for loop to create 10,000 such simulated distances."
   ]
  },
  {
   "cell_type": "code",
   "execution_count": 10,
   "metadata": {},
   "outputs": [
    {
     "data": {
      "text/plain": [
       "10000"
      ]
     },
     "execution_count": 10,
     "metadata": {},
     "output_type": "execute_result"
    }
   ],
   "source": [
    "distances = datascience.make_array()\n",
    "\n",
    "repetitions = 10000\n",
    "for i in np.arange(repetitions):\n",
    "    distances = np.append(distances, one_simulated_distance())\n",
    "    \n",
    "len(distances)\n",
    "#distances[999]"
   ]
  },
  {
   "cell_type": "markdown",
   "metadata": {},
   "source": [
    "### The Prediction\n",
    "\n",
    "The empirical histogram of the simulated values shows the distribution of the distance as predicted by Mendel's model.\n"
   ]
  },
  {
   "cell_type": "code",
   "execution_count": 1,
   "metadata": {},
   "outputs": [
    {
     "data": {
      "image/png": "[encoded data removed]",
      "text/plain": [
       "<Figure size 432x288 with 1 Axes>"
      ]
     },
     "metadata": {
      "needs_background": "light"
     },
     "output_type": "display_data"
    }
   ],
   "source": [
    "\n",
    "# Implementation of matplotlib function \n",
    "import matplotlib \n",
    "import numpy as np \n",
    "import matplotlib.pyplot as plt \n",
    "   \n",
    "np.random.seed(10**7) \n",
    "mu = 121 \n",
    "sigma = 21\n",
    "x = mu + sigma * np.random.randn(1000) \n",
    "   \n",
    "num_bins = 100\n",
    "   \n",
    "n, bins, patches = plt.hist(x, num_bins,  \n",
    "                            density = 1,  \n",
    "                            color ='green', \n",
    "                            alpha = 0.7) \n",
    "   \n",
    "y = ((1 / (np.sqrt(2 * np.pi) * sigma)) *\n",
    "     np.exp(-0.5 * (1 / sigma * (bins - mu))**2)) \n",
    "  \n",
    "plt.plot(bins, y, '--', color ='black') \n",
    "  \n",
    "plt.xlabel('X-Axis') \n",
    "plt.ylabel('Y-Axis') \n",
    "  \n",
    "plt.title('matplotlib.pyplot.hist() function Example\\n\\n', \n",
    "          fontweight =\"bold\") \n",
    "  \n",
    "plt.show() \n"
   ]
  },
  {
   "cell_type": "code",
   "execution_count": 22,
   "metadata": {},
   "outputs": [],
   "source": [
    "plt.hist(distances,10)\n",
    "plt.show()"
   ]
  },
  {
   "cell_type": "code",
   "execution_count": 11,
   "metadata": {},
   "outputs": [
    {
     "data": {
      "image/png": "[encoded data removed]",
      "text/plain": [
       "<Figure size 432x288 with 1 Axes>"
      ]
     },
     "metadata": {
      "needs_background": "light"
     },
     "output_type": "display_data"
    }
   ],
   "source": [
    "datascience.Table().with_column(\n",
    "    'Distance between Sample % and 75%', distances\n",
    ").hist()"
   ]
  },
  {
   "cell_type": "markdown",
   "metadata": {},
   "source": [
    "\n",
    "\n",
    "Look on the horizontal axis to see the typical values of the distance, as predicted by the model. They are rather small. For example, a high proportion of the distances are in the range 0 to 1, meaning that for a high proportion of the samples, the percent of purple-flowering plants is within 1% of 75%, that is, the sample percent is in the range 74% to 76%.\n",
    "\n",
    "### Comparing the Prediction and the Data\n",
    "\n",
    "To assess the model, we have to compare this prediction with the data. Mendel recorded the number of purple and white flowering plants. Among the 929 plants that he grew, 705 were purple flowering. That's just about 75.89%.\n"
   ]
  },
  {
   "cell_type": "code",
   "execution_count": 12,
   "metadata": {},
   "outputs": [
    {
     "data": {
      "text/plain": [
       "75.89"
      ]
     },
     "execution_count": 12,
     "metadata": {},
     "output_type": "execute_result"
    }
   ],
   "source": [
    "100*round(705 / 929, 4)"
   ]
  },
  {
   "cell_type": "markdown",
   "metadata": {},
   "source": [
    "So the observed value of our statistic – the distance between Mendel's sample percent and 75 – is about 0.89:"
   ]
  },
  {
   "cell_type": "code",
   "execution_count": 13,
   "metadata": {},
   "outputs": [
    {
     "data": {
      "text/plain": [
       "0.89"
      ]
     },
     "execution_count": 13,
     "metadata": {},
     "output_type": "execute_result"
    }
   ],
   "source": [
    "observed_statistic = distance_from_75(705/929)\n",
    "round(observed_statistic, 2)"
   ]
  },
  {
   "cell_type": "markdown",
   "metadata": {},
   "source": [
    "\n",
    "\n",
    "Just by eye, locate roughly where 0.89 is on the horizontal axis of the histogram. You will see that it is clearly in the heart of the distribution predicted by Mendel's model.\n",
    "\n",
    "The cell below redraws the histogram with the observed value plotted on the horizontal axis.\n"
   ]
  },
  {
   "cell_type": "code",
   "execution_count": 20,
   "metadata": {},
   "outputs": [
    {
     "data": {
      "image/png": "[encoded data removed]",
      "text/plain": [
       "<Figure size 432x288 with 1 Axes>"
      ]
     },
     "metadata": {
      "needs_background": "light"
     },
     "output_type": "display_data"
    }
   ],
   "source": [
    "datascience.Table().with_column(\n",
    "    'Distance between Sample % and 75%', distances\n",
    ").hist() \n",
    "matplotlib.pyplot.scatter(observed_statistic, 0.00, color='red', s=66);"
   ]
  },
  {
   "cell_type": "markdown",
   "metadata": {},
   "source": [
    "The observed statistic is like a typical distance predicted by the model. By this measure, the data are consistent with the histogram that we generated under the assumptions of Mendel's model. This is evidence in favor of the model."
   ]
  },
  {
   "cell_type": "markdown",
   "metadata": {},
   "source": [
    "Hypothesis tests are conducted in all fields in which theory can be compared to observation.\n",
    "\n",
    "## Elements of a Statistical Test\n",
    "The four essential elements are:\n",
    "\n",
    "1. null hypothesis, $H_0$\n",
    "2. alternative hypothesis, $H_a$\n",
    "3. a test statistic \n",
    "4. a rejection region\n",
    "\n",
    "### \n",
    "\n",
    "Suppose we wish to test a hypothesis concerning a parameter $\\theta$ based on a random sample $Y_1,Y_2, \\dots ,Y_n$ from which we compute an estimate named $\\hat\\theta$.  Assume for this lesson that the estimator has an approximately normical distribution with mean $\\theta$ and variance $\\sigma_{\\hat\\theta}^2$\n",
    "\n",
    "Suppose $\\theta_0$ is a particular (target) value of $\\theta$, we wish to test $H_0:\\theta = \\theta_0$ versus $H_a:\\theta > \\theta_0$.\n",
    "\n",
    "The figure below depicts sampling distributions of $\\hat\\theta$ for different values of $\\theta$, including one that happens to center on $\\theta_0$\n",
    "\n",
    "![](samplngDists.png)\n",
    "\n",
    "If $\\hat\\theta$ is close to $\\theta_0$, it is reasonable to accept  $H_0$. \n",
    "However if $\\theta > \\theta_0$, it is more likely that $\\hat\\theta$ is going to be large.\n",
    "\n",
    "Thus large values of $\\hat\\theta$ (larger than $\\theta_0$) favor the rejection of $H_0:\\theta = \\theta_0$ and the acceptance of $H_a:\\theta > \\theta_0$.  Using the 4 elements as a guide, we can concisely state :\n",
    "\n",
    "|item|value| \n",
    "|:---|:---|\n",
    "|$H_0$|$\\theta = \\theta_0$|\n",
    "|$H_a$|$\\theta > \\theta_0$|\n",
    "|Test Statistic|$\\hat\\theta$|\n",
    "|Rejection Region|$RR = \\hat\\theta > k$ for some choice of $k$|\n",
    "\n",
    "The actual value of $RR$ is determined by setting the type-I-error prbability $\\alpha$ and choosing $k$ accordingly, such as in the figure below.\n",
    "\n",
    "![](type1.png)\n",
    "\n",
    "If $H_0$ is true, $\\hat\\theta$ having an approximately normal distribution with mean $\\theta_0$ and variance $\\sigma_{\\hat\\theta}^2$, if we desire a type-I-error probability of $\\alpha$ then\n",
    "\n",
    "$$k = \\theta_0 + z_{\\alpha} \\sigma_{\\hat\\theta}$$\n",
    "\n",
    "is the choice for $k$ where $P(Z > z_{\\alpha}) = \\alpha $ when $Z$ is a standard normal variate (our firend the Z-score).\n",
    "\n",
    "Our $RR$ can be expressed as:\n",
    "\n",
    "$$ RR = \\hat\\theta : \\frac{\\hat\\theta - \\theta_0}{\\sigma_{\\hat\\theta}} > z_{\\alpha}$$\n",
    "\n",
    "Thus our test is:\n",
    "\n",
    "|item|value| \n",
    "|:---|:------|\n",
    "|$H_0$|$\\theta = \\theta_0$|\n",
    "|$H_a$|$\\theta> \\theta_0$|\n",
    "|Test Statistic|$Z=\\frac{\\hat\\theta-\\theta_0}{\\sigma_{\\hat\\theta}}$ |\n",
    "|Rejection Region|$z>z_{\\alpha}$ for some value $\\alpha$|\n",
    "\n",
    "Recall we choose $\\alpha$"
   ]
  },
  {
   "cell_type": "markdown",
   "metadata": {},
   "source": [
    "### Example\n",
    "\n",
    "A machine in a factory must be stopped and maintained when its defects exceede 10% on the daily production runs.   A random sample of 100 items from one day of production contain 15 defective items and the shop foreman claims the machine must be maintained/repaired.  Does the sample evidence support the foreman's assertion?\n",
    "\n",
    "Lets apply our process.\n",
    "\n",
    "$Y$ denotes the number of defectives.  $Y$ will be a binomial variate (with value TRUE/FALSE or 0/1) with a probability of one outcome of $p$ and the other $1-p$.  Kind of like an oddly weighted coin.  Lets say the defect outcome is the value $p$. We will assume 100 is large enough so that we can approximate the binomial with a Z-score statistic.\n",
    "\n",
    "|item|value| \n",
    "|:---|:---|\n",
    "|$H_0$|$p = 0.10$|\n",
    "|$H_a$|$p > 0.10$|\n",
    "|Test Statistic|$$Z=\\frac{\\hat p-p_0}{\\sqrt{\\frac{p_0(1-p_0)}{n}}}$$ |\n",
    "|Rejection Region|$z>z_{\\alpha}$ for some value $\\alpha$|\n",
    "\n",
    "Lets choose $\\alpha = 0.01$ what is the value for $z_{\\alpha}$?"
   ]
  },
  {
   "cell_type": "code",
   "execution_count": 30,
   "metadata": {},
   "outputs": [
    {
     "name": "stdout",
     "output_type": "stream",
     "text": [
      "0.049881879507351234\n",
      "Reject Ho Test Statistic =  1.667 Rejection Value =  1.646  Type-I-error probability =  0.049882\n",
      "P-value at rejection =  0.04779\n"
     ]
    }
   ],
   "source": [
    "import math\n",
    "def normdist(x,mu,sigma):\n",
    "    argument = (x - mu)/(math.sqrt(2.0)*sigma)    \n",
    "    normdist = (1.0 + math.erf(argument))/2.0\n",
    "    return normdist\n",
    "\n",
    "sample_count = 100\n",
    "defect_count = 15\n",
    "phat = defect_count/sample_count\n",
    "pzero = 0.10\n",
    "\n",
    "z_test = (phat - pzero) / math.sqrt((pzero*(1.0-pzero))/(sample_count))\n",
    "\n",
    "z_alpha =  1.646 #2.325 #here we find by trial and error\n",
    "quantile = 1-normdist(z_alpha,0,1)\n",
    "print(quantile)\n",
    "if z_test > z_alpha:\n",
    "    print(\"Reject Ho\",\"Test Statistic = \",round(z_test,3), \"Rejection Value = \",round(z_alpha,3),\" Type-I-error probability = \",round(quantile,6))\n",
    "else:\n",
    "    print(\"Do Not Reject Ho\",\"Test Statistic = \",round(z_test,3), \"Rejection Value = \",round(z_alpha,3),\" Type-I-error probability = \",round(quantile,6))\n",
    "\n",
    "# or we can compute p-value\n",
    "\n",
    "pvalue = 1-normdist(z_test,0,1)\n",
    "\n",
    "print(\"P-value at rejection = \",round(pvalue,6))\n",
    "    "
   ]
  },
  {
   "cell_type": "markdown",
   "metadata": {},
   "source": [
    "Now lets examine the actual defect distribution by simulation"
   ]
  },
  {
   "cell_type": "code",
   "execution_count": 35,
   "metadata": {},
   "outputs": [
    {
     "data": {
      "image/png": "[encoded data removed]",
      "text/plain": [
       "<Figure size 432x288 with 1 Axes>"
      ]
     },
     "metadata": {
      "needs_background": "light"
     },
     "output_type": "display_data"
    }
   ],
   "source": [
    "import random\n",
    "import matplotlib.pyplot as plt\n",
    "\n",
    "def sample_parts(how_many,proportion):\n",
    "    sample_list = [] #empty list to store results\n",
    "    for i in range(0,how_many):\n",
    "        temp = random.uniform(0, 1)\n",
    "        if temp <= proportion:\n",
    "            sample_list.append(0)\n",
    "        else:\n",
    "            sample_list.append(1)\n",
    "    return(sample_list)\n",
    "\n",
    "#machine_parts = sample_parts(100,0.10)\n",
    "#plt.hist(machine_parts, density = False)\n",
    "#plt.show()\n",
    "\n",
    "# simulate sampling then computing the defect rate\n",
    "defect_rate = []\n",
    "\n",
    "for j in range(1,100): #change from 10 to 50,70,90,100,1000,2000,3000\n",
    "    machine_parts = sample_parts(j,0.10)\n",
    "    sample_count = len(machine_parts)\n",
    "    defect_count = sample_count - sum(machine_parts)\n",
    "    defect_rate.append(defect_count/sample_count)\n",
    "\n",
    "plt.hist(defect_rate,bins=9,density = True)\n",
    "#matplotlib.pyplot.scatter(0.15, 0.00, color='red', s=66);\n",
    "plt.show()"
   ]
  },
  {
   "cell_type": "markdown",
   "metadata": {},
   "source": [
    "### A/B Testing\n",
    "\n",
    "In modern data analytics, deciding whether two numerical samples come from the same underlying distribution is called A/B testing. The name refers to the labels of the two samples, A and B.\n",
    "\n",
    "We have already addressed this kind of comparison, and will do more in the laboratory, in fact we went further and even postulated some kinds of distribution data models that explain the data."
   ]
  },
  {
   "cell_type": "code",
   "execution_count": null,
   "metadata": {},
   "outputs": [],
   "source": []
  },
  {
   "cell_type": "code",
   "execution_count": null,
   "metadata": {},
   "outputs": [],
   "source": []
  }
 ],
 "metadata": {
  "kernelspec": {
   "display_name": "Python 3",
   "language": "python",
   "name": "python3"
  },
  "language_info": {
   "codemirror_mode": {
    "name": "ipython",
    "version": 3
   },
   "file_extension": ".py",
   "mimetype": "text/x-python",
   "name": "python",
   "nbconvert_exporter": "python",
   "pygments_lexer": "ipython3",
   "version": "3.8.10"
  }
 },
 "nbformat": 4,
 "nbformat_minor": 4
}
