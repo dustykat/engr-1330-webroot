{
 "cells": [
  {
   "cell_type": "code",
   "execution_count": 1,
   "metadata": {},
   "outputs": [
    {
     "data": {
      "text/html": [
       "<!--Script block to left align Markdown Tables-->\n",
       "<style>\n",
       "  table {margin-left: 0 !important;}\n",
       "</style>\n"
      ],
      "text/plain": [
       "<IPython.core.display.HTML object>"
      ]
     },
     "metadata": {},
     "output_type": "display_data"
    }
   ],
   "source": [
    "%%html\n",
    "<!--Script block to left align Markdown Tables-->\n",
    "<style>\n",
    "  table {margin-left: 0 !important;}\n",
    "</style>"
   ]
  },
  {
   "cell_type": "code",
   "execution_count": 2,
   "metadata": {},
   "outputs": [
    {
     "name": "stdout",
     "output_type": "stream",
     "text": [
      "atomickitty.aws\n",
      "compthink\n",
      "/opt/conda/envs/python/bin/python\n",
      "3.8.3 (default, Jul  2 2020, 16:21:59) \n",
      "[GCC 7.3.0]\n",
      "sys.version_info(major=3, minor=8, micro=3, releaselevel='final', serial=0)\n"
     ]
    }
   ],
   "source": [
    "# Preamble script block to identify host, user, and kernel\n",
    "import sys\n",
    "! hostname\n",
    "! whoami\n",
    "print(sys.executable)\n",
    "print(sys.version)\n",
    "print(sys.version_info)"
   ]
  },
  {
   "cell_type": "markdown",
   "metadata": {},
   "source": [
    "# ENGR 1330 Computational Thinking with Data Science \n",
    "Last GitHub Commit Date: 16 Mar 2021\n",
    "\n",
    "## Lesson 18 : Interval Estimates (Confidence and Prediction Intervals)\n",
    "\n",
    "A procedure to quantify the probability of an estimate being representative of an equivalent population value\n",
    "\n",
    "<!--![](https://www.thermofisher.com/blog/wp-content/uploads/sites/11/2018/01/istock-829172394_redumbrella.jpg)-->\n",
    "\n",
    "## Objectives\n",
    "- To apply fundamental concepts involved in probability estimation modeling and descriptive statistics;\n",
    "  - Is a descriptive statistic a good estimate of its population value?\n",
    "  - What is the best estimate of a statistic from a set, and its likely range?\n",
    "  - \n",
    "---\n",
    "\n",
    "## Computational Thinking Concepts\n",
    "The CT concepts include:\n",
    "\n",
    "- Abstraction => Represent data behavior with a statistic \n",
    "- Pattern Recognition => Compare patterns in (our) data models to make a decision\n",
    "---\n",
    "\n",
    "# Textbook Resources\n",
    "\n",
    "[https://www.inferentialthinking.com/chapters/11/Testing_Hypotheses.html](https://www.inferentialthinking.com/chapters/11/Testing_Hypotheses.html)\n",
    "\n",
    "You know the URL that no-one reads, perhaps because there is a \"secret\" module you need to install, without instructions of how! \n",
    "\n",
    "<hr>\n",
    "\n",
    "Much of what follows below is borrowed with some changes for our class from: https://pubs.usgs.gov/tm/04/a03/tm4a3.pdf"
   ]
  },
  {
   "cell_type": "markdown",
   "metadata": {},
   "source": [
    "\n",
    "\n",
    "Much of what follows below is borrowed with some changes for our class from: https://pubs.usgs.gov/tm/04/a03/tm4a3.pdf\n",
    "\n",
    "## Interval Estimates\n",
    "\n",
    "Several summary statistics were presented that described key attributes of a dataset, including sample estimates such as $\\bar x$ and $s^2$, of true and unknown population parameters, such as $\\mu$, the population mean, and $\\sigma^2$, the population variance.\n",
    "\n",
    "What follows are methods to describe the uncertainty or reliability of sample estimates. As an alternative to reporting a single estimate, the utility of reporting a range of values called an interval estimate is demonstrated. Both parametric and nonparametric interval estimates are presented. These intervals can also be used to test whether the population parameter is significantly different from some prespecified value.\n",
    "\n",
    "### Definition of Interval Estimates\n",
    "\n",
    "The sample median and sample mean are two types of estimates of the central tendency of a population. Such estimates are called point estimates. By themselves, point estimates do not portray the reliability, or lack of reliability (variability), of these estimates. For example, suppose that two datasets—X and Y—exist, both have a sample mean of about 50 and contain the same number of observations."
   ]
  },
  {
   "cell_type": "code",
   "execution_count": 10,
   "metadata": {},
   "outputs": [
    {
     "name": "stdout",
     "output_type": "stream",
     "text": [
      "                X           Y\n",
      "count  500.000000  500.000000\n",
      "mean    52.962000   50.708000\n",
      "std     28.531959    5.710688\n",
      "min      1.000000   41.000000\n",
      "25%     31.000000   46.000000\n",
      "50%     53.000000   50.000000\n",
      "75%     76.000000   56.000000\n",
      "max    100.000000   60.000000\n"
     ]
    },
    {
     "data": {
      "image/png": "[encoded data removed]",
      "text/plain": [
       "<Figure size 432x288 with 1 Axes>"
      ]
     },
     "metadata": {
      "needs_background": "light"
     },
     "output_type": "display_data"
    }
   ],
   "source": [
    "import numpy\n",
    "import pandas\n",
    "process1 = []\n",
    "process2 = []\n",
    "for i in range(1,101,1):\n",
    "    process1.append(i)\n",
    "for i in range(41,61,1):\n",
    "    process2.append(i)\n",
    "    \n",
    "x = numpy.random.choice(process1,500)\n",
    "y = numpy.random.choice(process2,500)\n",
    "\n",
    "# make lists into dataframe \n",
    "boxdf = pandas.DataFrame()\n",
    "boxdf['X']=x\n",
    "boxdf['Y']=y\n",
    "\n",
    "# describe lists/dataframe \n",
    "print(boxdf.describe())\n",
    "\n",
    "boxdf.plot.hist(alpha=0.5); # "
   ]
  },
  {
   "cell_type": "markdown",
   "metadata": {},
   "source": [
    "\n",
    "\n",
    "The Y data all cluster tightly around 50; the X data are much more variable. The point estimate of 50 for dataset X is less certain than the point estimate for dataset Y because of the greater variability in the X data. Reporting only the sample (point) estimate of 50 fails to give any hint of this difference, although it is graphically quite evident.\n",
    "\n",
    "We would then recall we have been hypothesis testing the crap out of things, so we can apply those tools:\n"
   ]
  },
  {
   "cell_type": "code",
   "execution_count": null,
   "metadata": {},
   "outputs": [],
   "source": []
  },
  {
   "cell_type": "code",
   "execution_count": null,
   "metadata": {},
   "outputs": [],
   "source": []
  },
  {
   "cell_type": "code",
   "execution_count": null,
   "metadata": {},
   "outputs": [],
   "source": []
  },
  {
   "cell_type": "markdown",
   "metadata": {},
   "source": [
    "# Interval Estimates (Continued)\n",
    "\n",
    "The prior lesson introduced interval estimates, here we will go through some useful estimate methods/examples largely borrowed from https://pubs.usgs.gov/tm/04/a03/tm4a3.pdf"
   ]
  },
  {
   "cell_type": "code",
   "execution_count": null,
   "metadata": {},
   "outputs": [],
   "source": []
  },
  {
   "cell_type": "markdown",
   "metadata": {},
   "source": [
    "## Confidence Intervals for the Median\n",
    "A confidence interval for the true population median may be computed in two ways: (1) without assuming the data follow any specific distribution (nonparametric), or (2) assuming they follow a distribution such as the lognormal (parametric)."
   ]
  },
  {
   "cell_type": "markdown",
   "metadata": {},
   "source": [
    "### Nonparametric Interval Estimate for the Median\n",
    "\n",
    "We will consider two nonparametric approaches to interval estimates for the median. The first is based on the binomial distribution and the second is a bootstrap method, which is a general approach to many estimation problems. Neither approach requires assumptions about the distribution of the random variable.\n",
    "\n",
    "For the binomial approach we start by selecting the desired significance level α, which is the acceptable risk of not including the true median. One-half of this risk (α/2) is assigned to each end of the interval. \n",
    "To compute the confidence interval for the median we use the cumulative distribution function (cdf) of the binomial distribution. Learn about the cdf at https://docs.scipy.org/doc/scipy/reference/generated/scipy.stats.binom.html\n",
    "\n",
    "Here's a way to learn, lets code up a script to plot the CDF, and see if it looks like a CDF, in this case we will plot the accumulated probability on the x-axis, and the random variable value on the y-axis."
   ]
  },
  {
   "cell_type": "code",
   "execution_count": 1,
   "metadata": {},
   "outputs": [
    {
     "data": {
      "image/png": "[encoded data removed]",
      "text/plain": [
       "<Figure size 576x576 with 1 Axes>"
      ]
     },
     "metadata": {
      "needs_background": "light"
     },
     "output_type": "display_data"
    }
   ],
   "source": [
    "import numpy\n",
    "import pandas\n",
    "import scipy.stats \n",
    "import matplotlib.pyplot\n",
    "\n",
    "n = 25\n",
    "p = 0.5\n",
    "prob = []\n",
    "xval = []\n",
    "for rv in range(0,n):\n",
    "    x=float(rv)\n",
    "    prob.append(scipy.stats.binom.cdf(x, n, p))\n",
    "    xval.append(x)\n",
    "\n",
    "matplotlib.pyplot.figure(figsize=(8,8))\n",
    "matplotlib.pyplot.plot(xval, prob,  lw=5)\n",
    "plottitle = 'Binomial CDF for n= ' + str(round(n,3))+ ' p = ' + str(round(p,3))\n",
    "matplotlib.pyplot.title(plottitle)\n",
    "matplotlib.pyplot.xlabel('Accumulated Probability')\n",
    "matplotlib.pyplot.ylabel('Random Variable Value')\n",
    "matplotlib.pyplot.show()"
   ]
  },
  {
   "cell_type": "markdown",
   "metadata": {},
   "source": [
    "To determine the 100 · (1 − α)-percent confidence interval we use the binomial distribution function to determine the critical values of the ranks of the dataset that correspond to α/2 and 1 − (α/2) points on the binomial cumulative distribution function. These critical values of the ranks are then associated with their data values to form the upper and lower confidence limits for the median. \n",
    "\n",
    "We then use the binomial distribution to answer the following question: How likely is it that the true population median, $c_{0.5}$, would be such that k of the n observed data would be above $c_{0.5}$ and n−k below $c_{0.5}$, where for example, k could be 0, 1, 2, 3,…, 25 out of n = 25? \n",
    "The binomial distribution with prob = 0.5 is used because the probability of being above the population median is 0.5. The resulting confidence interval will reflect the shape (skewed or symmetric) of the original data. \n",
    "\n",
    "Nonparametric intervals cannot exactly produce the desired confidence level when the sample sizes are small. This is because the possible values are discrete, jumping from one data value to the next at the ends of the intervals. However, confidence intervals close to those desired are available for all but the smallest sample sizes. The process of computing the confidence interval is best illustrated with an example.\n",
    "\n",
    "25 arsenic concentrations were reported for groundwaters of southeastern New Hampshire (Boudette and others, 1985). A boxplot of the data is shown. \n",
    "Compute the α = 0.05 interval estimate of the median concentration."
   ]
  },
  {
   "cell_type": "code",
   "execution_count": 2,
   "metadata": {
    "scrolled": true
   },
   "outputs": [],
   "source": [
    "arsenic_list = [1.3, 1.5, 1.8, 2.6, 2.8, 3.5, 4.0, 4.8, 8, 9.5, 12, 14, 19, 23, 41, 80, 100, 110, 120, 190, 240, 250, 300, 340, 580]"
   ]
  },
  {
   "cell_type": "code",
   "execution_count": 3,
   "metadata": {},
   "outputs": [
    {
     "data": {
      "image/png": "[encoded data removed]",
      "text/plain": [
       "<Figure size 432x432 with 1 Axes>"
      ]
     },
     "metadata": {
      "needs_background": "light"
     },
     "output_type": "display_data"
    }
   ],
   "source": [
    "matplotlib.pyplot.figure(figsize=(6,6))\n",
    "#matplotlib.pyplot.bar(arsenic_list,height=2.0)\n",
    "matplotlib.pyplot.boxplot(arsenic_list)\n",
    "matplotlib.pyplot.show()"
   ]
  },
  {
   "cell_type": "markdown",
   "metadata": {},
   "source": [
    "The sample median $\\hat{c}_{0.5} = 19$, which is the 13th observation ranked from smallest to largest in this sample size of 25. The binomial distribution is used to determine the 95-percent confidence interval for the true median concentration, $c_{0.5}$."
   ]
  },
  {
   "cell_type": "code",
   "execution_count": 4,
   "metadata": {},
   "outputs": [
    {
     "name": "stdout",
     "output_type": "stream",
     "text": [
      "sample median value =  19.0\n",
      "\n",
      "Element 13  of the sorted list is  19.0\n"
     ]
    }
   ],
   "source": [
    "print('sample median value = ',numpy.percentile(arsenic_list,50.0) )# median value using percentile function\n",
    "arsenic_list = numpy.sort(arsenic_list)\n",
    "index_value=13\n",
    "print('\\nElement',index_value,' of the sorted list is ',arsenic_list[index_value-1])"
   ]
  },
  {
   "cell_type": "markdown",
   "metadata": {},
   "source": [
    "The binomial distribution is used to determine the 95-percent confidence interval for the true median concentration, $c_{0.5}$. We obtain the critical values from the cumulative binomial distribution function by creating a list of binomial values of correct length that represents the index values, then pull from the sample actual values."
   ]
  },
  {
   "cell_type": "code",
   "execution_count": 5,
   "metadata": {},
   "outputs": [
    {
     "name": "stdout",
     "output_type": "stream",
     "text": [
      "Estimate of median is  19.0\n",
      "Approximate 95% confidence interval estimate is the median is located between  4.8 and 100.0\n",
      "Actual interval probability =  92.4  %\n"
     ]
    }
   ],
   "source": [
    "n=len(arsenic_list)\n",
    "p=0.5 # median is at 50%\n",
    "prob = []\n",
    "rank = []\n",
    "for rv in range(0,n):\n",
    "    x=float(rv)\n",
    "    prob.append(scipy.stats.binom.cdf(x, n, p))\n",
    "    rank.append(x)\n",
    "    \n",
    "for rv in range(0,n):\n",
    "    if prob[rv]>0.05 :\n",
    "        lower = arsenic_list[rv-1]\n",
    "        rlo = rank[rv-1]\n",
    "        break\n",
    "        \n",
    "for rv in range(0,n):\n",
    "    if prob[rv]>0.95 :\n",
    "        upper = arsenic_list[rv-1]\n",
    "        rup = rank[rv-1]\n",
    "        break\n",
    "\n",
    "print('Estimate of median is ',numpy.percentile(arsenic_list,50.0))\n",
    "print('Approximate 95% confidence interval estimate is the median is located between ',lower,'and', upper)\n",
    "\n",
    "print('Actual interval probability = ',100*round(scipy.stats.binom.cdf(rup, n, p) - scipy.stats.binom.cdf(rlo, n, p),3),' %')\n",
    "#print(arsenic_list[rlo-1])\n",
    "#print(arsenic_list[rup+1])"
   ]
  },
  {
   "cell_type": "markdown",
   "metadata": {},
   "source": [
    "This code indicates that the lower and upper confidence intervals are at ranks 7 and 16, and that these translate to concentration values of 4.8 and 100 (the 8th and 17th values on the sorted list of concentration values. \n",
    "\n",
    "Because the sample size is relatively small (n = 25) we know that the interval will not be an exact 95-percent confidence interval. We computed the probability that the interval will contain the true value using the binomial cumulative distribution function. \n",
    "\n",
    "The result tells us that the true probability for this range is 0.924, which is close to the desired probability of 0.95. Thus, one could say the closed interval [4.8, 100] is the best approximation to a 95-percent confidence interval for the median for these observations."
   ]
  },
  {
   "cell_type": "markdown",
   "metadata": {},
   "source": [
    "An alternative to the binomial distribution-based approach is to use bootstrapping. \n",
    "Bootstrapping (Efron and Tibshirani, 1994) is one of many computer-intensive methods that uses the observed data to represent the probability distribution from which the data were drawn, rather than assuming a normal or other theoretical distribution. Because of its robustness and coverage accuracy, the bootstrap method is commonly preferred for computing a confidence interval, especially when data are skewed or the distribution is unknown. \n",
    "The method also works well for data that do follow a specific distribution—in that case it returns interval endpoints very similar to those based on a distribution, for example t-intervals for the normal distribution.\n",
    "\n",
    "The bootstrap method consists of repeatedly resampling from the dataset, with replacement. \n",
    "The term “with replacement” means that each observation that has been selected is replaced in the dataset, which means that it can be selected multiple times in the sampling process. \n",
    "Two thousand to 10,000 resamples of the data are commonly used, and for many statistics it takes a small amount of computational time."
   ]
  },
  {
   "cell_type": "code",
   "execution_count": 6,
   "metadata": {},
   "outputs": [],
   "source": [
    "import random\n",
    "\n",
    "def one_sample(list_in,how_many):\n",
    "    \"\"\"Returns a list of a sample from a list of length how_many\n",
    "    from list_in \"\"\"\n",
    "    one_sample = random.choices(list_in,k=how_many) #sampling with replacement\n",
    "    return one_sample\n",
    "\n",
    "def bootstrap_median(original_sample, pulls, replications):\n",
    "    \"\"\"Returns an list of bootstrapped sample medians:\n",
    "    original_sample: list containing the original sample\n",
    "    replications: number of bootstrap samples\n",
    "    \"\"\"\n",
    "    #just_one_column = original_sample\n",
    "    medians = [] #null list to store results\n",
    "    for i in range(replications):\n",
    "        this_sample = one_sample(original_sample,pulls) #get 500 pulls from one sample\n",
    "        resampled_median = numpy.percentile(this_sample, 50)# get 50% percentile from the sample\n",
    "        medians.append(resampled_median)\n",
    "    return medians\n",
    "\n",
    "#mylist = bootstrap_median(arsenic_list,10,10)\n",
    "\n",
    "\n",
    "\n",
    "#matplotlib.pyplot.hist(mylist)\n",
    "left_ends = []\n",
    "right_ends = []\n",
    "for i in range(100):\n",
    "    base_sample = one_sample(arsenic_list,25)\n",
    "    medians = bootstrap_median(base_sample, 25 , 1000)\n",
    "    left_ends.append(numpy.percentile(medians,5))\n",
    "    right_ends.append(numpy.percentile(medians,95))"
   ]
  },
  {
   "cell_type": "code",
   "execution_count": 16,
   "metadata": {},
   "outputs": [
    {
     "data": {
      "image/png": "[encoded data removed]",
      "text/plain": [
       "<Figure size 576x576 with 1 Axes>"
      ]
     },
     "metadata": {
      "needs_background": "light"
     },
     "output_type": "display_data"
    }
   ],
   "source": [
    "matplotlib.pyplot.figure(figsize=(8,8))\n",
    "for i in range(100):\n",
    "    x = []\n",
    "    y = []\n",
    "    x.append(left_ends[i])\n",
    "    x.append(right_ends[i])\n",
    "    y.append(i)\n",
    "    y.append(i)\n",
    "    matplotlib.pyplot.plot(x, y,color=\"gold\")\n",
    "x = []\n",
    "y = []\n",
    "x.append(numpy.percentile(arsenic_list,50.0))\n",
    "x.append(numpy.percentile(arsenic_list,50.0))\n",
    "y.append(0)\n",
    "y.append(100)\n",
    "matplotlib.pyplot.plot(x, y, color='red', lw=2)\n",
    "matplotlib.pyplot.xlabel('Median')\n",
    "matplotlib.pyplot.ylabel('Replication')\n",
    "matplotlib.pyplot.title('Sample Median and Intervals of Estimates');"
   ]
  },
  {
   "cell_type": "code",
   "execution_count": null,
   "metadata": {},
   "outputs": [],
   "source": []
  }
 ],
 "metadata": {
  "kernelspec": {
   "display_name": "Python 3",
   "language": "python",
   "name": "python3"
  },
  "language_info": {
   "codemirror_mode": {
    "name": "ipython",
    "version": 3
   },
   "file_extension": ".py",
   "mimetype": "text/x-python",
   "name": "python",
   "nbconvert_exporter": "python",
   "pygments_lexer": "ipython3",
   "version": "3.8.10"
  }
 },
 "nbformat": 4,
 "nbformat_minor": 4
}
