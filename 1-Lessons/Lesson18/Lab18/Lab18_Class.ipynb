{
 "cells": [
  {
   "cell_type": "markdown",
   "metadata": {},
   "source": [
    "# Laboratory 18: <br>\n",
    "## <font color=red>MORE ON AB Testing</font>\n"
   ]
  },
  {
   "cell_type": "markdown",
   "metadata": {},
   "source": [
    "## Full name: \n",
    "## R#: \n",
    "## HEX: \n",
    "## Title of the notebook\n",
    "## Date: "
   ]
  },
  {
   "cell_type": "markdown",
   "metadata": {},
   "source": [
    "![](https://images.squarespace-cdn.com/content/v1/5b23d29d50a54f79d49fffb8/1529077484726-KEQCGOX5G15FE298P6IP/ke17ZwdGBToddI8pDm48kGB_9XwWHOwsoT33cARPHrYUqsxRUqqbr1mOJYKfIPR7LoDQ9mXPOjoJoqy81S2I8N_N4V1vUb5AoIIIbLZhVYxCRW4BPu10St3TBAUQYVKcWfYrknqgiTH9ixIn349FbV-Zc9M7Au2fJKx3KmAuM41Ik7-DEmQ0KVqLRfBWKsBS/1344.gif) <br>\n"
   ]
  },
  {
   "cell_type": "markdown",
   "metadata": {},
   "source": [
    "### Example 4: Times Roman or Times New Roman- That is the question! <br>\n",
    "![](https://scontent-dfw5-2.xx.fbcdn.net/v/t1.0-9/39467110_1088008158029768_8174427640329928704_o.jpg?_nc_cat=102&ccb=2&_nc_sid=09cbfe&_nc_ohc=yyNquQVydAIAX_Q0GVX&_nc_ht=scontent-dfw5-2.xx&oh=4b4079c31cc4d7f4ff080c6fb95b79be&oe=5FC014D6) <br>\n",
    "#### The Daily Planet newspaper is considering swiching from the Times Roman Font to the Times New Roman as an attempt to to make it easier for their audience to read the newspaper and hence, increase the online purchases. \n",
    "*hint: The Daily Planet is a fictional broadsheet newspaper appearing in American comic books published by DC Comics, commonly in association with Superman. Read more @ https://en.wikipedia.org/wiki/Daily_Planet<br>\n",
    "\n",
    "![](https://news-cdn.softpedia.com/images/fitted/620x/Times-New-Roman-The-Newpaper-Font-That-Took-Over-Windows-480938-3.jpg) <br>\n",
    "\n",
    "#### They have prepared two versions of their newspapers, one of each font. On the first day, they had a total of 1398 visitors. Randonmly, half of them (699 visitors) saw the original version (Time Roman) and the other half saw the alternative version (Times New Roman).    <br>\n",
    "#### The first group purchased a total of 175 copies of the newspaper. This number was 200 copies for the second group. Based on the observations of the first day, first, calculate the purchase rate for each group and then, decide whether the Daily Planet should change their font in order to increase the online engagement time?    <br>"
   ]
  },
  {
   "cell_type": "code",
   "execution_count": 5,
   "metadata": {},
   "outputs": [
    {
     "name": "stdout",
     "output_type": "stream",
     "text": [
      "The ratio for the first group is 0.250 copies sold per person\n",
      "The ratio for the first group is 0.286 copies sold per person\n",
      "Mann-Whitney U test for null hypothesis B <= A is 0.066\n"
     ]
    }
   ],
   "source": [
    "#Day 1\n",
    "group1= 699\n",
    "group2= 699\n",
    "sold1= 175\n",
    "sold2 = 200\n",
    "rate1=  sold1/group1\n",
    "rate2 = sold2/group2\n",
    "\n",
    "print(f\"The ratio for the first group is {rate1:0.3f} copies sold per person\")\n",
    "print(f\"The ratio for the first group is {rate2:0.3f} copies sold per person\")\n",
    "from scipy.stats import mannwhitneyu\n",
    "import numpy as np\n",
    "a_dist = np.zeros(group1)\n",
    "a_dist[:sold1] = 1\n",
    "b_dist = np.zeros(group2)\n",
    "b_dist[:sold2] = 1\n",
    "\n",
    "stat, p_value = mannwhitneyu(a_dist, b_dist, alternative=\"less\")\n",
    "print(f\"Mann-Whitney U test for null hypothesis B <= A is {p_value:0.3f}\")"
   ]
  },
  {
   "cell_type": "markdown",
   "metadata": {},
   "source": [
    "#### After a week, they had a total of 10086 visitors. Randonmly, half of them (5043 visitors) saw the original version (Time Roman) and the other half saw the alternative version (Times New Roman).    <br>\n",
    "#### The first group purchased a total of 1072 copies of the newspaper. This number was 1190 copies for the second group. Based on the observations of the first week, first, calculate the purchase rate for each group and then, decide whether the Daily Planet should change their font in order to increase the online engagement time?    <br>"
   ]
  },
  {
   "cell_type": "code",
   "execution_count": 8,
   "metadata": {},
   "outputs": [
    {
     "name": "stdout",
     "output_type": "stream",
     "text": [
      "The ratio for the first group is 0.213 copies sold per person\n",
      "The ratio for the first group is 0.236 copies sold per person\n",
      "Mann-Whitney U test for null hypothesis B <= A is 0.002\n"
     ]
    }
   ],
   "source": [
    "#Week 1\n",
    "group1= 5043\n",
    "group2= 5043\n",
    "sold1= 1072\n",
    "sold2 = 1190\n",
    "rate1=  sold1/group1\n",
    "rate2 = sold2/group2\n",
    "\n",
    "print(f\"The ratio for the first group is {rate1:0.3f} copies sold per person\")\n",
    "print(f\"The ratio for the first group is {rate2:0.3f} copies sold per person\")\n",
    "from scipy.stats import mannwhitneyu\n",
    "import numpy as np\n",
    "a_dist = np.zeros(group1)\n",
    "a_dist[:sold1] = 1\n",
    "b_dist = np.zeros(group2)\n",
    "b_dist[:sold2] = 1\n",
    "\n",
    "stat, p_value = mannwhitneyu(a_dist, b_dist, alternative=\"less\")\n",
    "print(f\"Mann-Whitney U test for null hypothesis B <= A is {p_value:0.3f}\")"
   ]
  },
  {
   "cell_type": "markdown",
   "metadata": {},
   "source": [
    "#### After a month, they had a total of 42000 visitors. Randonmly, half of them (21000 visitors) saw the original version (Time Roman) and the other half saw the alternative version (Times New Roman).    <br>\n",
    "#### The first group purchased a total of 4300 copies of the newspaper. This number was 5700 copies for the second group. Based on the observations of the first month, first, calculate the purchase rate for each group and then, decide whether the Daily Planet should change their font in order to increase the online engagement time?    <br>"
   ]
  },
  {
   "cell_type": "code",
   "execution_count": 9,
   "metadata": {},
   "outputs": [
    {
     "name": "stdout",
     "output_type": "stream",
     "text": [
      "The ratio for the first group is 0.205 copies sold per person\n",
      "The ratio for the first group is 0.271 copies sold per person\n",
      "Mann-Whitney U test for null hypothesis B <= A is 0.000\n"
     ]
    }
   ],
   "source": [
    "#Month 1\n",
    "group1= 21000\n",
    "group2= 21000\n",
    "sold1= 4300\n",
    "sold2 = 5700\n",
    "rate1=  sold1/group1\n",
    "rate2 = sold2/group2\n",
    "\n",
    "print(f\"The ratio for the first group is {rate1:0.3f} copies sold per person\")\n",
    "print(f\"The ratio for the first group is {rate2:0.3f} copies sold per person\")\n",
    "from scipy.stats import mannwhitneyu\n",
    "import numpy as np\n",
    "a_dist = np.zeros(group1)\n",
    "a_dist[:sold1] = 1\n",
    "b_dist = np.zeros(group2)\n",
    "b_dist[:sold2] = 1\n",
    "\n",
    "stat, p_value = mannwhitneyu(a_dist, b_dist, alternative=\"less\")\n",
    "print(f\"Mann-Whitney U test for null hypothesis B <= A is {p_value:0.3f}\")"
   ]
  },
  {
   "cell_type": "markdown",
   "metadata": {},
   "source": [
    "## <font color=red>MORE ON Confidence Interval</font>\n"
   ]
  },
  {
   "cell_type": "markdown",
   "metadata": {},
   "source": [
    "### Example5: From a normally distributed population, we randolmy took a sample of 100 adults with a mean height of 165 centimeters. Suppose the standard deviation of the population is 8: <br>\n",
    "### What is the estimated true population mean for the 95% confidence interva? <br>\n",
    "### How about 90% confidence interval? <br>\n",
    "### How about 99% confidence interval? <br>"
   ]
  },
  {
   "cell_type": "code",
   "execution_count": 10,
   "metadata": {},
   "outputs": [],
   "source": [
    "# Step 1- Organize the data\n",
    "n = 100                       #Sample size\n",
    "Xbar = 165                    #Sample mean\n",
    "std = 8                     #Standard deviation (σ)\n",
    "z_95 = 1.960                      #The z value associated with 95% Confidence Interval\n",
    "z_90 = 1.645                      #The z value associated with 90% Confidence Interval\n",
    "z_99 = 2.576                      #The z value associated with 90% Confidence Interval"
   ]
  },
  {
   "cell_type": "code",
   "execution_count": 11,
   "metadata": {},
   "outputs": [
    {
     "name": "stdout",
     "output_type": "stream",
     "text": [
      "The margin of error for 95% Confidence is equal to :  1.568\n",
      "The margin of error for 90% Confidence is equal to :  1.316\n",
      "The margin of error for 99% Confidence is equal to :  2.0608\n"
     ]
    }
   ],
   "source": [
    "# Step2- Calculate the margin of error\n",
    "import math\n",
    "margin_95 = z_95*(std/math.sqrt(n))\n",
    "print('The margin of error for 95% Confidence is equal to : ',margin_95)\n",
    "\n",
    "margin_90 = z_90*(std/math.sqrt(n))\n",
    "print('The margin of error for 90% Confidence is equal to : ',margin_90)\n",
    "\n",
    "margin_99 = z_99*(std/math.sqrt(n))\n",
    "print('The margin of error for 99% Confidence is equal to : ',margin_99)"
   ]
  },
  {
   "cell_type": "code",
   "execution_count": 12,
   "metadata": {},
   "outputs": [
    {
     "name": "stdout",
     "output_type": "stream",
     "text": [
      "the true population mean will be captured within the confidence interval of ( 163.432  ,  166.568 ) and the confidence is 95%\n",
      "the true population mean will be captured within the confidence interval of ( 163.684  ,  166.316 ) and the confidence is 90%\n",
      "the true population mean will be captured within the confidence interval of ( 162.9392  ,  167.0608 ) and the confidence is 99%\n"
     ]
    }
   ],
   "source": [
    "# Step3- Find the estimated true population mean \n",
    "low_95 = Xbar-margin_95\n",
    "high_95 = Xbar+margin_95\n",
    "print('the true population mean will be captured within the confidence interval of (',low_95,' , ',high_95,') and the confidence is 95%')\n",
    "\n",
    "low_90 = Xbar-margin_90\n",
    "high_90 = Xbar+margin_90\n",
    "print('the true population mean will be captured within the confidence interval of (',low_90,' , ',high_90,') and the confidence is 90%')\n",
    "\n",
    "low_99 = Xbar-margin_99\n",
    "high_99 = Xbar+margin_99\n",
    "print('the true population mean will be captured within the confidence interval of (',low_99,' , ',high_99,') and the confidence is 99%')"
   ]
  },
  {
   "cell_type": "markdown",
   "metadata": {},
   "source": [
    "### We took another sample of the same size and this time the mean height was 167 centimeters.  <br>\n",
    "### How does this new piece of information helps us in getting closer to a better estimation of the population mean? <br>\n"
   ]
  },
  {
   "cell_type": "code",
   "execution_count": 16,
   "metadata": {},
   "outputs": [],
   "source": [
    "# Step 1- Organize the data\n",
    "n = 100                       #Sample size\n",
    "Xbar = 167                    #Sample mean\n",
    "std = 8                     #Standard deviation (σ)\n",
    "z_95 = 1.960                      #The z value associated with 95% Confidence Interval\n",
    "z_90 = 1.645                      #The z value associated with 90% Confidence Interval\n",
    "z_99 = 2.576                      #The z value associated with 90% Confidence Interval"
   ]
  },
  {
   "cell_type": "code",
   "execution_count": 17,
   "metadata": {},
   "outputs": [
    {
     "name": "stdout",
     "output_type": "stream",
     "text": [
      "The margin of error for 95% Confidence is equal to :  1.568\n",
      "The margin of error for 90% Confidence is equal to :  1.316\n",
      "The margin of error for 99% Confidence is equal to :  2.0608\n"
     ]
    }
   ],
   "source": [
    "# Step2- Calculate the margin of error\n",
    "import math\n",
    "margin_95 = z_95*(std/math.sqrt(n))\n",
    "print('The margin of error for 95% Confidence is equal to : ',margin_95)\n",
    "\n",
    "margin_90 = z_90*(std/math.sqrt(n))\n",
    "print('The margin of error for 90% Confidence is equal to : ',margin_90)\n",
    "\n",
    "margin_99 = z_99*(std/math.sqrt(n))\n",
    "print('The margin of error for 99% Confidence is equal to : ',margin_99)"
   ]
  },
  {
   "cell_type": "code",
   "execution_count": 19,
   "metadata": {},
   "outputs": [
    {
     "name": "stdout",
     "output_type": "stream",
     "text": [
      "the true population mean will be captured within the confidence interval of ( 165.432  ,  168.568 ) and the confidence is 95%\n",
      "the true population mean will be captured within the confidence interval of ( 165.684  ,  168.316 ) and the confidence is 90%\n",
      "the true population mean will be captured within the confidence interval of ( 164.9392  ,  169.0608 ) and the confidence is 99%\n"
     ]
    }
   ],
   "source": [
    "# Step3- Find the estimated true population mean \n",
    "low_95 = Xbar-margin_95\n",
    "high_95 = Xbar+margin_95\n",
    "print('the true population mean will be captured within the confidence interval of (',low_95,' , ',high_95,') and the confidence is 95%')\n",
    "\n",
    "low_90 = Xbar-margin_90\n",
    "high_90 = Xbar+margin_90\n",
    "print('the true population mean will be captured within the confidence interval of (',low_90,' , ',high_90,') and the confidence is 90%')\n",
    "\n",
    "low_99 = Xbar-margin_99\n",
    "high_99 = Xbar+margin_99\n",
    "print('the true population mean will be captured within the confidence interval of (',low_99,' , ',high_99,') and the confidence is 99%')"
   ]
  },
  {
   "cell_type": "markdown",
   "metadata": {},
   "source": [
    "### Exercise 3: Do some research (fancy way of saying Google! ;) ) and answer the following questions:\n",
    "- Why do A/B testing?\n",
    "- What are the important steps of A/B testing?\n",
    "- List a few mistakes that you think may cause your A/B testing to go wrong.\n",
    "\n",
    "_Make sure to cite external resources if you use any._"
   ]
  },
  {
   "cell_type": "code",
   "execution_count": null,
   "metadata": {},
   "outputs": [],
   "source": []
  },
  {
   "cell_type": "code",
   "execution_count": null,
   "metadata": {},
   "outputs": [],
   "source": []
  },
  {
   "cell_type": "code",
   "execution_count": null,
   "metadata": {},
   "outputs": [],
   "source": []
  },
  {
   "cell_type": "markdown",
   "metadata": {},
   "source": [
    "![](https://media0.giphy.com/media/ccVHcvVSY1Zk0fWcDf/giphy.gif) <br>\n"
   ]
  }
 ],
 "metadata": {
  "kernelspec": {
   "display_name": "Python 3",
   "language": "python",
   "name": "python3"
  },
  "language_info": {
   "codemirror_mode": {
    "name": "ipython",
    "version": 3
   },
   "file_extension": ".py",
   "mimetype": "text/x-python",
   "name": "python",
   "nbconvert_exporter": "python",
   "pygments_lexer": "ipython3",
   "version": "3.8.10"
  }
 },
 "nbformat": 4,
 "nbformat_minor": 4
}
