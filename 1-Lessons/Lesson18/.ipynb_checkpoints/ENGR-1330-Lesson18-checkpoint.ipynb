{
 "cells": [
  {
   "cell_type": "markdown",
   "metadata": {},
   "source": [
    "Download this page as a jupyter notebook at [Lesson 18](http://54.243.252.9/engr-1330-webroot/1-Lessons/Lesson18/ENGR-1330-Lesson18.ipynb)"
   ]
  },
  {
   "cell_type": "code",
   "execution_count": 2,
   "metadata": {},
   "outputs": [
    {
     "name": "stdout",
     "output_type": "stream",
     "text": [
      "atomickitty.aws\n",
      "compthink\n",
      "/opt/conda/envs/python/bin/python\n",
      "3.8.3 (default, Jul  2 2020, 16:21:59) \n",
      "[GCC 7.3.0]\n",
      "sys.version_info(major=3, minor=8, micro=3, releaselevel='final', serial=0)\n"
     ]
    }
   ],
   "source": [
    "# Preamble script block to identify host, user, and kernel\n",
    "import sys\n",
    "! hostname\n",
    "! whoami\n",
    "print(sys.executable)\n",
    "print(sys.version)\n",
    "print(sys.version_info)"
   ]
  },
  {
   "cell_type": "code",
   "execution_count": 1,
   "metadata": {},
   "outputs": [
    {
     "data": {
      "text/html": [
       "<!--Script block to left align Markdown Tables-->\n",
       "<style>\n",
       "  table {margin-left: 0 !important;}\n",
       "</style>\n"
      ],
      "text/plain": [
       "<IPython.core.display.HTML object>"
      ]
     },
     "metadata": {},
     "output_type": "display_data"
    }
   ],
   "source": [
    "%%html\n",
    "<!--Script block to left align Markdown Tables-->\n",
    "<style>\n",
    "  table {margin-left: 0 !important;}\n",
    "</style>"
   ]
  },
  {
   "cell_type": "markdown",
   "metadata": {},
   "source": [
    "# ENGR 1330 Computational Thinking with Data Science \n",
    "Last GitHub Commit Date: 16 Mar 2021\n",
    "\n",
    "## Lesson 18 : Interval Estimates (Confidence and Prediction Intervals)\n",
    "\n",
    "A procedure to quantify the probability of an estimate being representative of an equivalent population value\n",
    "\n",
    "<!--![](https://www.thermofisher.com/blog/wp-content/uploads/sites/11/2018/01/istock-829172394_redumbrella.jpg)-->\n",
    "\n",
    "## Objectives\n",
    "- To apply fundamental concepts involved in probability estimation modeling and descriptive statistics;\n",
    "  - Is a descriptive statistic a good estimate of its population value?\n",
    "  - What is the best estimate of a statistic from a set, and its likely range?\n",
    "\n",
    "---\n",
    "\n",
    "## Computational Thinking Concepts\n",
    "The CT concepts include:\n",
    "\n",
    "- Abstraction => Represent data behavior with a statistic \n",
    "- Pattern Recognition => Compare patterns in (our) data models to make a decision\n",
    "---\n",
    "\n",
    "# Textbook Resources\n",
    "\n",
    "[https://www.inferentialthinking.com/chapters/11/Testing_Hypotheses.html](https://www.inferentialthinking.com/chapters/11/Testing_Hypotheses.html)\n",
    "\n",
    "<hr>\n"
   ]
  },
  {
   "cell_type": "markdown",
   "metadata": {},
   "source": [
    "\n",
    "\n",
    "Much of what follows below is borrowed with some changes for our class from: https://pubs.usgs.gov/tm/04/a03/tm4a3.pdf\n",
    "\n",
    "## Interval Estimates\n",
    "\n",
    "Several summary statistics were presented that described key attributes of a dataset, including sample estimates such as $\\bar x$ and $s^2$, of true and unknown population parameters, such as $\\mu$, the population mean, and $\\sigma^2$, the population variance.\n",
    "\n",
    "What follows are methods to describe the uncertainty or reliability of sample estimates. As an alternative to reporting a single estimate, the utility of reporting a range of values called an interval estimate is demonstrated. Both parametric and nonparametric interval estimates are presented. These intervals can also be used to test whether the population parameter is significantly different from some prespecified value.\n",
    "\n",
    "### Definition of Interval Estimates\n",
    "\n",
    "The sample median and sample mean are two types of estimates of the central tendency of a population. Such estimates are called point estimates. By themselves, point estimates do not portray the reliability, or lack of reliability (variability), of these estimates. For example, suppose that two datasets—X and Y—exist, both have a sample mean of about 50 and contain the same number of observations."
   ]
  },
  {
   "cell_type": "code",
   "execution_count": 2,
   "metadata": {},
   "outputs": [
    {
     "name": "stdout",
     "output_type": "stream",
     "text": [
      "                X           Y\n",
      "count  500.000000  500.000000\n",
      "mean    51.182000   50.560000\n",
      "std     29.200929    5.765838\n",
      "min      1.000000   41.000000\n",
      "25%     26.000000   45.000000\n",
      "50%     50.500000   51.000000\n",
      "75%     76.000000   56.000000\n",
      "max    100.000000   60.000000\n"
     ]
    },
    {
     "data": {
      "image/png": "[encoded data removed]",
      "text/plain": [
       "<Figure size 432x288 with 1 Axes>"
      ]
     },
     "metadata": {
      "needs_background": "light"
     },
     "output_type": "display_data"
    }
   ],
   "source": [
    "import numpy\n",
    "import pandas\n",
    "process1 = []\n",
    "process2 = []\n",
    "for i in range(1,101,1):\n",
    "    process1.append(i)\n",
    "for i in range(41,61,1):\n",
    "    process2.append(i)\n",
    "    \n",
    "x = numpy.random.choice(process1,500)\n",
    "y = numpy.random.choice(process2,500)\n",
    "\n",
    "# make lists into dataframe \n",
    "boxdf = pandas.DataFrame()\n",
    "boxdf['X']=x\n",
    "boxdf['Y']=y\n",
    "\n",
    "# describe lists/dataframe \n",
    "print(boxdf.describe())\n",
    "\n",
    "boxdf.plot.hist(alpha=0.5); # "
   ]
  },
  {
   "cell_type": "markdown",
   "metadata": {},
   "source": [
    "\n",
    "\n",
    "The Y data all cluster tightly around 50; the X data are much more variable. The point estimate of 50 for dataset X is less certain than the point estimate for dataset Y because of the greater variability in the X data. Reporting only the sample (point) estimate of 50 fails to give any hint of this difference, although it is graphically quite evident.\n",
    "\n",
    "We would then recall we have been hypothesis testing the crap out of things, so we can apply those tools:\n"
   ]
  },
  {
   "cell_type": "code",
   "execution_count": 5,
   "metadata": {},
   "outputs": [
    {
     "name": "stdout",
     "output_type": "stream",
     "text": [
      "stat=0.952, p=0.000\n",
      "Probably Abby Normal\n"
     ]
    }
   ],
   "source": [
    "# are the samples approximatley normal?\n",
    "# the Shapiro-Wilk Normality Test for X\n",
    "from scipy.stats import shapiro\n",
    "stat, p = shapiro(boxdf['X'])\n",
    "print('stat=%.3f, p=%.3f' % (stat, p))\n",
    "if p > 0.05:\n",
    "        print('Probably Normal')\n",
    "else:\n",
    "        print('Probably Abby Normal')"
   ]
  },
  {
   "cell_type": "code",
   "execution_count": 6,
   "metadata": {},
   "outputs": [
    {
     "name": "stdout",
     "output_type": "stream",
     "text": [
      "stat=0.947, p=0.000\n",
      "Probably Abby Normal\n"
     ]
    }
   ],
   "source": [
    "# are the samples approximatley normal?\n",
    "# the Shapiro-Wilk Normality Test for Y\n",
    "from scipy.stats import shapiro\n",
    "stat, p = shapiro(boxdf['Y'])\n",
    "print('stat=%.3f, p=%.3f' % (stat, p))\n",
    "if p > 0.05:\n",
    "        print('Probably Normal')\n",
    "else:\n",
    "        print('Probably Abby Normal')"
   ]
  },
  {
   "cell_type": "code",
   "execution_count": 7,
   "metadata": {},
   "outputs": [
    {
     "name": "stdout",
     "output_type": "stream",
     "text": [
      "statistic=124837.000, p-value at rejection =0.486\n",
      "Probably the same mean\n"
     ]
    }
   ],
   "source": [
    "from scipy.stats import mannwhitneyu # import a useful non-parametric test\n",
    "stat, p = mannwhitneyu(boxdf['X'],boxdf['Y'])\n",
    "print('statistic=%.3f, p-value at rejection =%.3f' % (stat, p))\n",
    "if p > 0.05:\n",
    "    print('Probably the same mean')\n",
    "else:\n",
    "    print('Probably different mean')"
   ]
  },
  {
   "cell_type": "markdown",
   "metadata": {},
   "source": [
    "At this point we know that the mean values are about the same, but the two datasets are not alike (its the variance stupid!)\n",
    "\n",
    "As an alternative to just point estimates, interval estimates are intervals that have a stated probability of containing the true population value. In our example, the mean for Y is 50 and we are pretty sure of that, because the sample variance is small - if our sample had also tested as normal we could state that the estimate of population mean is 50 +/- 18 ( 3 standard deviations) with probability of 99%. Such a statement is an interval estimate.\n",
    "\n",
    "In general, we will be presenting two-sided intervals (where the probability of the true value being higher than the upper limit is assumed to be equal to the probability of its being lower than the lower limit). There are also one-sided intervals. The intervals are wider for datasets having greater variability and the same number of data points.\n",
    "\n",
    "Thus, in the above example, an interval between 38 and 62 may have a 95-percent probability of containing the (unknown) true population mean of dataset Y. It would take a much wider interval, say between -6 and 106, to have the same probability of containing the true mean of dataset X.\n",
    "\n",
    "The difference in the reliability of the two estimates is therefore clearly stated using interval estimates. Interval estimates can provide two pieces of information which point estimates cannot:\n",
    "\n",
    "   > A statement of the probability or likelihood that the interval contains the true population value (its reliability), and <br>\n",
    "   > A statement of the likelihood that a single data point with specified magnitude comes from the population under study.\n",
    "\n",
    "Interval estimates for the first purpose are called confidence intervals; intervals for the second purpose are called prediction intervals. Though related, the two types of interval estimates are not identical, and should be interchanged."
   ]
  },
  {
   "cell_type": "markdown",
   "metadata": {},
   "source": [
    "---\n",
    "\n",
    "**First a visit with a textbook!**\n",
    "\n",
    "Much of what follows below is borrowed with minor changes for our class from: https://www.inferentialthinking.com/chapters/13/1/Percentiles.html\n",
    "\n",
    "### Percentiles\n",
    "\n",
    "Numerical data can be sorted in increasing or decreasing order. Thus the values of a numerical data set have a rank order. A percentile is the value at a particular rank. We have exploited this is our plotting position formulas earlier.\n",
    "\n",
    "For example, if your score on a test is on the 95th percentile, a common interpretation is that only 5% of the scores were higher than yours. The median is the 50th percentile; it is commonly assumed that 50% the values in a data set are above the median.\n",
    "\n",
    "But some care is required in giving percentiles a precise definition that works for all ranks and all lists. To see why, consider an extreme example where all the students in a class score 75 on a test. Then 75 is a natural candidate for the median, but it's not true that 50% of the scores are above 75. Also, 75 is an equally natural candidate for the 95th percentile or the 25th or any other percentile. Ties – that is, equal data values – have to be taken into account when defining percentiles.\n",
    "\n",
    "You also have to be careful about exactly how far up the list to go when the relevant index isn't clear. For example, what should be the 87th percentile of a collection of 10 values? The 8th value of the sorted collection, or the 9th, or somewhere in between? Again we have already addressed this issue with our plotting position formulas earlier.\n",
    "A Numerical Example\n",
    "\n",
    "Before giving a general definition of all percentiles, we will define the 80th percentile of a collection of values to be the smallest value in the collection that is at least as large as 80% of all of the values.\n",
    "\n",
    "For example, let's consider the sizes of the five largest continents – Africa, Antarctica, Asia, North America, and South America – rounded to the nearest million square miles.\n"
   ]
  },
  {
   "cell_type": "code",
   "execution_count": 8,
   "metadata": {},
   "outputs": [],
   "source": [
    "import datascience\n",
    "sizes = datascience.make_array(12, 17, 6, 9, 7)"
   ]
  },
  {
   "cell_type": "markdown",
   "metadata": {},
   "source": [
    "The 80th percentile is the smallest value that is at least as large as 80% of the elements of sizes, that is, four-fifths of the five elements. That's 12:"
   ]
  },
  {
   "cell_type": "code",
   "execution_count": 9,
   "metadata": {},
   "outputs": [
    {
     "data": {
      "text/plain": [
       "array([ 6,  7,  9, 12, 17])"
      ]
     },
     "execution_count": 9,
     "metadata": {},
     "output_type": "execute_result"
    }
   ],
   "source": [
    "numpy.sort(sizes)"
   ]
  },
  {
   "cell_type": "markdown",
   "metadata": {},
   "source": [
    "The 80th percentile is a value on the list, namely 12. You can see that 80% of the values are less than or equal to it, and that it is the smallest value on the list for which this is true.\n",
    "\n",
    "Analogously, the 70th percentile is the smallest value in the collection that is at least as large as 70% of the elements of sizes. Now 70% of 5 elements is \"3.5 elements\", so the 70th percentile is the 4th element on the list. That's 12, the same as the 80th percentile for these data. Not terribly useful yet but wait there's more!\n",
    "The percentile function\n",
    "\n",
    "#### The `datascience.percentile` function\n",
    "\n",
    "The percentile function takes two arguments: a rank between 0 and 100, and a array. It returns the corresponding percentile of the array."
   ]
  },
  {
   "cell_type": "code",
   "execution_count": 10,
   "metadata": {},
   "outputs": [
    {
     "data": {
      "text/plain": [
       "12"
      ]
     },
     "execution_count": 10,
     "metadata": {},
     "output_type": "execute_result"
    }
   ],
   "source": [
    "datascience.percentile(70, sizes)"
   ]
  },
  {
   "cell_type": "markdown",
   "metadata": {},
   "source": [
    "---\n",
    "\n",
    "## The General Definition \n",
    "**Below is from the Data8 Textbook -- compare to our future lab on plotting position formulas**\n",
    "\n",
    "Let 𝑝 be a number between 0 and 100. The 𝑝-th percentile of a collection is the smallest value in the collection that is at least as large as p% of all the values.\n",
    "\n",
    "By this definition, any percentile between 0 and 100 can be computed for any collection of values, and it is always an element of the collection.\n",
    "\n",
    "In practical terms, suppose there are 𝑛 elements in the collection. To find the 𝑝-th percentile:\n",
    "\n",
    "- Sort the collection in increasing order.\n",
    "- Find p% of n: (𝑝/100)×𝑛 Call that 𝑘\n",
    "- If 𝑘 is an integer, take the 𝑘-th element of the sorted collection.\n",
    "- If 𝑘 is not an integer, round it up to the next integer, and take that element of the sorted collection.\n",
    "\n",
    "### Example \n",
    "The table scores_and_sections contains one row for each student in a class of 359 students. The columns are the student's discussion section and midterm score.\n",
    "\n",
    "Path to file is `http://54.243.252.9/engr-1330-webroot/4-Databases/`\n"
   ]
  },
  {
   "cell_type": "code",
   "execution_count": 15,
   "metadata": {},
   "outputs": [],
   "source": [
    "import requests\n",
    "remote_url=\"http://54.243.252.9/engr-1330-webroot/4-Databases/scores_by_section.csv\"  # set the url\n",
    "rget = requests.get(remote_url, allow_redirects=True)  # get the remote resource, follow imbedded links\n",
    "open('scores_by_section.csv','wb').write(rget.content); # extract from the remote the contents, assign to a local file same name"
   ]
  },
  {
   "cell_type": "markdown",
   "metadata": {},
   "source": [
    "The table scores_and_sections contains one row for each student in a class of 359 students. The columns are the student's discussion section and midterm score."
   ]
  },
  {
   "cell_type": "code",
   "execution_count": 21,
   "metadata": {},
   "outputs": [
    {
     "data": {
      "text/html": [
       "<table border=\"1\" class=\"dataframe\">\n",
       "    <thead>\n",
       "        <tr>\n",
       "            <th>Section</th> <th>Midterm</th>\n",
       "        </tr>\n",
       "    </thead>\n",
       "    <tbody>\n",
       "        <tr>\n",
       "            <td>1      </td> <td>22     </td>\n",
       "        </tr>\n",
       "        <tr>\n",
       "            <td>2      </td> <td>12     </td>\n",
       "        </tr>\n",
       "        <tr>\n",
       "            <td>2      </td> <td>23     </td>\n",
       "        </tr>\n",
       "        <tr>\n",
       "            <td>2      </td> <td>14     </td>\n",
       "        </tr>\n",
       "        <tr>\n",
       "            <td>1      </td> <td>20     </td>\n",
       "        </tr>\n",
       "        <tr>\n",
       "            <td>3      </td> <td>25     </td>\n",
       "        </tr>\n",
       "        <tr>\n",
       "            <td>4      </td> <td>19     </td>\n",
       "        </tr>\n",
       "        <tr>\n",
       "            <td>1      </td> <td>24     </td>\n",
       "        </tr>\n",
       "        <tr>\n",
       "            <td>5      </td> <td>8      </td>\n",
       "        </tr>\n",
       "        <tr>\n",
       "            <td>6      </td> <td>14     </td>\n",
       "        </tr>\n",
       "    </tbody>\n",
       "</table>\n",
       "<p>... (349 rows omitted)</p>"
      ],
      "text/plain": [
       "Section | Midterm\n",
       "1       | 22\n",
       "2       | 12\n",
       "2       | 23\n",
       "2       | 14\n",
       "1       | 20\n",
       "3       | 25\n",
       "4       | 19\n",
       "1       | 24\n",
       "5       | 8\n",
       "6       | 14\n",
       "... (349 rows omitted)"
      ]
     },
     "execution_count": 21,
     "metadata": {},
     "output_type": "execute_result"
    }
   ],
   "source": [
    "scores_and_sections = datascience.Table.read_table('scores_by_section.csv')\n",
    "scores_and_sections"
   ]
  },
  {
   "cell_type": "markdown",
   "metadata": {},
   "source": [
    "If we make a histogram (using the Data8 tools from our textbook) can we approximate the 85%?  (just by looking it seems to be at 22-ish from the plot)"
   ]
  },
  {
   "cell_type": "code",
   "execution_count": 17,
   "metadata": {},
   "outputs": [
    {
     "data": {
      "image/png": "[encoded data removed]",
      "text/plain": [
       "<Figure size 432x288 with 1 Axes>"
      ]
     },
     "metadata": {
      "needs_background": "light"
     },
     "output_type": "display_data"
    }
   ],
   "source": [
    "scores_and_sections.select('Midterm').hist(bins=numpy.arange(-0.5, 25.6, 1))"
   ]
  },
  {
   "cell_type": "code",
   "execution_count": 23,
   "metadata": {},
   "outputs": [
    {
     "data": {
      "text/plain": [
       "22"
      ]
     },
     "execution_count": 23,
     "metadata": {},
     "output_type": "execute_result"
    }
   ],
   "source": [
    "datascience.percentile(85, scores_and_sections.column(1))"
   ]
  },
  {
   "cell_type": "markdown",
   "metadata": {},
   "source": [
    "So the eyeball value was not too bad! According to the percentile function, the 85th percentile was 22. To check that this is consistent with the definition, let's apply the definition directly.\n",
    "\n",
    "First, put the scores in increasing order:"
   ]
  },
  {
   "cell_type": "code",
   "execution_count": 24,
   "metadata": {},
   "outputs": [
    {
     "data": {
      "text/plain": [
       "359"
      ]
     },
     "execution_count": 24,
     "metadata": {},
     "output_type": "execute_result"
    }
   ],
   "source": [
    "sorted_scores = numpy.sort(scores_and_sections.column(1))\n",
    "len(sorted_scores)"
   ]
  },
  {
   "cell_type": "markdown",
   "metadata": {},
   "source": [
    "There are 359 scores in the array. So next, find 85% of 359, which is 305.15."
   ]
  },
  {
   "cell_type": "code",
   "execution_count": 26,
   "metadata": {},
   "outputs": [
    {
     "data": {
      "text/plain": [
       "305.15"
      ]
     },
     "execution_count": 26,
     "metadata": {},
     "output_type": "execute_result"
    }
   ],
   "source": [
    "0.85 * 359"
   ]
  },
  {
   "cell_type": "markdown",
   "metadata": {},
   "source": [
    "That's not an integer. By the definition, the 85th percentile is the 306th element of sorted_scores, which, by Python's indexing convention, is item 305 of the array."
   ]
  },
  {
   "cell_type": "code",
   "execution_count": 27,
   "metadata": {},
   "outputs": [
    {
     "data": {
      "text/plain": [
       "22"
      ]
     },
     "execution_count": 27,
     "metadata": {},
     "output_type": "execute_result"
    }
   ],
   "source": [
    "# The 306th element of the sorted array\n",
    "sorted_scores.item(305)"
   ]
  },
  {
   "cell_type": "markdown",
   "metadata": {},
   "source": [
    "That's the same as the answer we got by using percentile. In future, we will just use percentile.\n",
    "\n",
    "### Quartiles \n",
    "\n",
    "The first quartile of a numercial collection is the 25th percentile. The terminology arises from the first quarter. The second quartile is the median, and the third quartile is the 75th percentile.\n",
    "\n",
    "For our scores data, those values are:"
   ]
  },
  {
   "cell_type": "code",
   "execution_count": 28,
   "metadata": {},
   "outputs": [
    {
     "name": "stdout",
     "output_type": "stream",
     "text": [
      "11\n",
      "16\n",
      "20\n"
     ]
    }
   ],
   "source": [
    "print(datascience.percentile(25, sorted_scores))\n",
    "print(datascience.percentile(50, sorted_scores))\n",
    "print(datascience.percentile(75, sorted_scores))"
   ]
  },
  {
   "cell_type": "code",
   "execution_count": 29,
   "metadata": {},
   "outputs": [
    {
     "data": {
      "text/html": [
       "<div>\n",
       "<style scoped>\n",
       "    .dataframe tbody tr th:only-of-type {\n",
       "        vertical-align: middle;\n",
       "    }\n",
       "\n",
       "    .dataframe tbody tr th {\n",
       "        vertical-align: top;\n",
       "    }\n",
       "\n",
       "    .dataframe thead th {\n",
       "        text-align: right;\n",
       "    }\n",
       "</style>\n",
       "<table border=\"1\" class=\"dataframe\">\n",
       "  <thead>\n",
       "    <tr style=\"text-align: right;\">\n",
       "      <th></th>\n",
       "      <th>0</th>\n",
       "    </tr>\n",
       "  </thead>\n",
       "  <tbody>\n",
       "    <tr>\n",
       "      <th>count</th>\n",
       "      <td>359.000000</td>\n",
       "    </tr>\n",
       "    <tr>\n",
       "      <th>mean</th>\n",
       "      <td>15.493036</td>\n",
       "    </tr>\n",
       "    <tr>\n",
       "      <th>std</th>\n",
       "      <td>6.081323</td>\n",
       "    </tr>\n",
       "    <tr>\n",
       "      <th>min</th>\n",
       "      <td>0.000000</td>\n",
       "    </tr>\n",
       "    <tr>\n",
       "      <th>25%</th>\n",
       "      <td>11.000000</td>\n",
       "    </tr>\n",
       "    <tr>\n",
       "      <th>50%</th>\n",
       "      <td>16.000000</td>\n",
       "    </tr>\n",
       "    <tr>\n",
       "      <th>75%</th>\n",
       "      <td>20.000000</td>\n",
       "    </tr>\n",
       "    <tr>\n",
       "      <th>max</th>\n",
       "      <td>25.000000</td>\n",
       "    </tr>\n",
       "  </tbody>\n",
       "</table>\n",
       "</div>"
      ],
      "text/plain": [
       "                0\n",
       "count  359.000000\n",
       "mean    15.493036\n",
       "std      6.081323\n",
       "min      0.000000\n",
       "25%     11.000000\n",
       "50%     16.000000\n",
       "75%     20.000000\n",
       "max     25.000000"
      ]
     },
     "execution_count": 29,
     "metadata": {},
     "output_type": "execute_result"
    }
   ],
   "source": [
    "pandas.DataFrame(sorted_scores).describe()"
   ]
  },
  {
   "cell_type": "markdown",
   "metadata": {},
   "source": [
    "---\n",
    "\n",
    "### Bootstrapping (Hugely Important, but has a steep jargon curve)\n",
    "\n",
    "A data scientist is using the data in a random sample to estimate an unknown parameter. She uses the sample to calculate the value of a statistic that she will use as her estimate.\n",
    "\n",
    "Once she has calculated the observed value of her statistic, she could just present it as her estimate and go on her merry way. But she knows that her random sample is just one of numerous possible random samples, and thus her estimate is just one of numerous plausible estimates.\n",
    "\n",
    "By how much could those estimates vary? To answer this, it appears as though she needs to draw another sample from the population, and compute a new estimate based on the new sample. But she doesn't have the cash to go back to the population and draw another sample.\n",
    "\n",
    "It looks as though the data scientist is stuck, but a method called the bootstrap (or just bootstrapping) can help out. Because it is not feasible to generate new samples from the population, the bootstrap generates new random samples by a method called resampling: the new samples are drawn at random from the original sample.  (Essentially, the orginal sample is now treated as a complete population - its a hack, but surprisingly useful)\n"
   ]
  },
  {
   "cell_type": "markdown",
   "metadata": {},
   "source": [
    "### Employee Compensation in the City of San Francisco\n",
    "\n",
    "SF OpenData is a website where the City and County of San Francisco make some of their data publicly available. One of the data sets contains compensation data for employees of the City. These include medical professionals at City-run hospitals, police officers, fire fighters, transportation workers, elected officials, and all other employees of the City."
   ]
  },
  {
   "cell_type": "code",
   "execution_count": 30,
   "metadata": {},
   "outputs": [],
   "source": [
    "remote_url=\"http://54.243.252.9/engr-1330-webroot/4-Databases/san_francisco_2015.csv\"  # set the url\n",
    "rget = requests.get(remote_url, allow_redirects=True)  # get the remote resource, follow imbedded links\n",
    "open('san_francisco_2015.csv','wb').write(rget.content); # extract from the remote the contents, assign"
   ]
  },
  {
   "cell_type": "markdown",
   "metadata": {},
   "source": [
    "Compensation data for the calendar year 2015 are in the table sf2015."
   ]
  },
  {
   "cell_type": "code",
   "execution_count": 31,
   "metadata": {},
   "outputs": [
    {
     "data": {
      "text/html": [
       "<table border=\"1\" class=\"dataframe\">\n",
       "    <thead>\n",
       "        <tr>\n",
       "            <th>Year Type</th> <th>Year</th> <th>Organization Group Code</th> <th>Organization Group</th> <th>Department Code</th> <th>Department</th> <th>Union Code</th> <th>Union</th> <th>Job Family Code</th> <th>Job Family</th> <th>Job Code</th> <th>Job</th> <th>Employee Identifier</th> <th>Salaries</th> <th>Overtime</th> <th>Other Salaries</th> <th>Total Salary</th> <th>Retirement</th> <th>Health/Dental</th> <th>Other Benefits</th> <th>Total Benefits</th> <th>Total Compensation</th>\n",
       "        </tr>\n",
       "    </thead>\n",
       "    <tbody>\n",
       "        <tr>\n",
       "            <td>Calendar </td> <td>2015</td> <td>2                      </td> <td>Public Works, Transportation & Commerce </td> <td>WTR            </td> <td>PUC Water Department                  </td> <td>21        </td> <td>Prof & Tech Engineers - Miscellaneous, Local 21   </td> <td>2400           </td> <td>Lab, Pharmacy & Med Techs    </td> <td>2481    </td> <td>Water Qualitytech I/II        </td> <td>21538              </td> <td>82146   </td> <td>0       </td> <td>0             </td> <td>82146       </td> <td>16942.2   </td> <td>12340.9      </td> <td>6337.73       </td> <td>35620.8       </td> <td>117767            </td>\n",
       "        </tr>\n",
       "        <tr>\n",
       "            <td>Calendar </td> <td>2015</td> <td>2                      </td> <td>Public Works, Transportation & Commerce </td> <td>DPW            </td> <td>General Services Agency - Public Works</td> <td>12        </td> <td>Carpet, Linoleum and Soft Tile Workers, Local 12  </td> <td>7300           </td> <td>Journeyman Trade             </td> <td>7393    </td> <td>Soft Floor Coverer            </td> <td>5459               </td> <td>32165.8 </td> <td>973.19  </td> <td>848.96        </td> <td>33987.9     </td> <td>0         </td> <td>4587.51      </td> <td>2634.42       </td> <td>7221.93       </td> <td>41209.8           </td>\n",
       "        </tr>\n",
       "        <tr>\n",
       "            <td>Calendar </td> <td>2015</td> <td>4                      </td> <td>Community Health                        </td> <td>DPH            </td> <td>Public Health                         </td> <td>790       </td> <td>SEIU - Miscellaneous, Local 1021                  </td> <td>1600           </td> <td>Payroll, Billing & Accounting</td> <td>1636    </td> <td>Health Care Billing Clerk 2   </td> <td>41541              </td> <td>71311   </td> <td>5757.98 </td> <td>0             </td> <td>77069       </td> <td>14697.6   </td> <td>12424.5      </td> <td>6370.06       </td> <td>33492.2       </td> <td>110561            </td>\n",
       "        </tr>\n",
       "        <tr>\n",
       "            <td>Calendar </td> <td>2015</td> <td>4                      </td> <td>Community Health                        </td> <td>DPH            </td> <td>Public Health                         </td> <td>351       </td> <td>Municipal Executive Association - Miscellaneous   </td> <td>0900           </td> <td>Management                   </td> <td>2620    </td> <td>Food Service Mgr Administrator</td> <td>26718              </td> <td>28430.2 </td> <td>0       </td> <td>763.07        </td> <td>29193.3     </td> <td>0         </td> <td>4223.14      </td> <td>5208.51       </td> <td>9431.65       </td> <td>38625             </td>\n",
       "        </tr>\n",
       "        <tr>\n",
       "            <td>Calendar </td> <td>2015</td> <td>2                      </td> <td>Public Works, Transportation & Commerce </td> <td>MTA            </td> <td>Municipal Transportation Agency       </td> <td>790       </td> <td>SEIU - Miscellaneous, Local 1021                  </td> <td>8200           </td> <td>Protection & Apprehension    </td> <td>8201    </td> <td>School Crossing Guard         </td> <td>45810              </td> <td>7948.75 </td> <td>0       </td> <td>0             </td> <td>7948.75     </td> <td>0         </td> <td>2873.17      </td> <td>616.24        </td> <td>3489.41       </td> <td>11438.2           </td>\n",
       "        </tr>\n",
       "        <tr>\n",
       "            <td>Calendar </td> <td>2015</td> <td>1                      </td> <td>Public Protection                       </td> <td>POL            </td> <td>Police                                </td> <td>911       </td> <td>Police Officers' Association                      </td> <td>Q000           </td> <td>Police Services              </td> <td>Q002    </td> <td>Police Officer                </td> <td>32906              </td> <td>2235    </td> <td>0       </td> <td>0             </td> <td>2235        </td> <td>490.36    </td> <td>286.72       </td> <td>176.57        </td> <td>953.65        </td> <td>3188.65           </td>\n",
       "        </tr>\n",
       "        <tr>\n",
       "            <td>Calendar </td> <td>2015</td> <td>4                      </td> <td>Community Health                        </td> <td>DPH            </td> <td>Public Health                         </td> <td>791       </td> <td>SEIU - Staff and Per Diem Nurses, Local 1021      </td> <td>2300           </td> <td>Nursing                      </td> <td>2328    </td> <td>Nurse Practitioner            </td> <td>7506               </td> <td>187247  </td> <td>0       </td> <td>11704.1       </td> <td>198951      </td> <td>37683.7   </td> <td>12424.5      </td> <td>11221.7       </td> <td>61329.9       </td> <td>260281            </td>\n",
       "        </tr>\n",
       "        <tr>\n",
       "            <td>Calendar </td> <td>2015</td> <td>2                      </td> <td>Public Works, Transportation & Commerce </td> <td>MTA            </td> <td>Municipal Transportation Agency       </td> <td>253       </td> <td>Transport Workers - Transit Operators, Local 250-A</td> <td>9100           </td> <td>Street Transit               </td> <td>9163    </td> <td>Transit Operator              </td> <td>36773              </td> <td>66988.5 </td> <td>3512.88 </td> <td>2770.39       </td> <td>73271.8     </td> <td>19127.2   </td> <td>13203        </td> <td>5455.1        </td> <td>37785.3       </td> <td>111057            </td>\n",
       "        </tr>\n",
       "        <tr>\n",
       "            <td>Calendar </td> <td>2015</td> <td>6                      </td> <td>General Administration & Finance        </td> <td>CAT            </td> <td>City Attorney                         </td> <td>311       </td> <td>Municipal Attorneys' Association                  </td> <td>8100           </td> <td>Legal & Court                </td> <td>8177    </td> <td>Attorney (Civil/Criminal)     </td> <td>12963              </td> <td>135190  </td> <td>0       </td> <td>1562.5        </td> <td>136752      </td> <td>27501.8   </td> <td>12424.5      </td> <td>10103         </td> <td>50029.3       </td> <td>186781            </td>\n",
       "        </tr>\n",
       "        <tr>\n",
       "            <td>Calendar </td> <td>2015</td> <td>3                      </td> <td>Human Welfare & Neighborhood Development</td> <td>DSS            </td> <td>Human Services                        </td> <td>535       </td> <td>SEIU - Human Services, Local 1021                 </td> <td>9700           </td> <td>Community Development        </td> <td>9703    </td> <td>Emp & Training Spec 2         </td> <td>35179              </td> <td>70474.8 </td> <td>147.28  </td> <td>1647.24       </td> <td>72269.3     </td> <td>14650.3   </td> <td>10696.9      </td> <td>5993.11       </td> <td>31340.3       </td> <td>103610            </td>\n",
       "        </tr>\n",
       "    </tbody>\n",
       "</table>\n",
       "<p>... (42979 rows omitted)</p>"
      ],
      "text/plain": [
       "Year Type | Year | Organization Group Code | Organization Group                       | Department Code | Department                             | Union Code | Union                                              | Job Family Code | Job Family                    | Job Code | Job                            | Employee Identifier | Salaries | Overtime | Other Salaries | Total Salary | Retirement | Health/Dental | Other Benefits | Total Benefits | Total Compensation\n",
       "Calendar  | 2015 | 2                       | Public Works, Transportation & Commerce  | WTR             | PUC Water Department                   | 21         | Prof & Tech Engineers - Miscellaneous, Local 21    | 2400            | Lab, Pharmacy & Med Techs     | 2481     | Water Qualitytech I/II         | 21538               | 82146    | 0        | 0              | 82146        | 16942.2    | 12340.9       | 6337.73        | 35620.8        | 117767\n",
       "Calendar  | 2015 | 2                       | Public Works, Transportation & Commerce  | DPW             | General Services Agency - Public Works | 12         | Carpet, Linoleum and Soft Tile Workers, Local 12   | 7300            | Journeyman Trade              | 7393     | Soft Floor Coverer             | 5459                | 32165.8  | 973.19   | 848.96         | 33987.9      | 0          | 4587.51       | 2634.42        | 7221.93        | 41209.8\n",
       "Calendar  | 2015 | 4                       | Community Health                         | DPH             | Public Health                          | 790        | SEIU - Miscellaneous, Local 1021                   | 1600            | Payroll, Billing & Accounting | 1636     | Health Care Billing Clerk 2    | 41541               | 71311    | 5757.98  | 0              | 77069        | 14697.6    | 12424.5       | 6370.06        | 33492.2        | 110561\n",
       "Calendar  | 2015 | 4                       | Community Health                         | DPH             | Public Health                          | 351        | Municipal Executive Association - Miscellaneous    | 0900            | Management                    | 2620     | Food Service Mgr Administrator | 26718               | 28430.2  | 0        | 763.07         | 29193.3      | 0          | 4223.14       | 5208.51        | 9431.65        | 38625\n",
       "Calendar  | 2015 | 2                       | Public Works, Transportation & Commerce  | MTA             | Municipal Transportation Agency        | 790        | SEIU - Miscellaneous, Local 1021                   | 8200            | Protection & Apprehension     | 8201     | School Crossing Guard          | 45810               | 7948.75  | 0        | 0              | 7948.75      | 0          | 2873.17       | 616.24         | 3489.41        | 11438.2\n",
       "Calendar  | 2015 | 1                       | Public Protection                        | POL             | Police                                 | 911        | Police Officers' Association                       | Q000            | Police Services               | Q002     | Police Officer                 | 32906               | 2235     | 0        | 0              | 2235         | 490.36     | 286.72        | 176.57         | 953.65         | 3188.65\n",
       "Calendar  | 2015 | 4                       | Community Health                         | DPH             | Public Health                          | 791        | SEIU - Staff and Per Diem Nurses, Local 1021       | 2300            | Nursing                       | 2328     | Nurse Practitioner             | 7506                | 187247   | 0        | 11704.1        | 198951       | 37683.7    | 12424.5       | 11221.7        | 61329.9        | 260281\n",
       "Calendar  | 2015 | 2                       | Public Works, Transportation & Commerce  | MTA             | Municipal Transportation Agency        | 253        | Transport Workers - Transit Operators, Local 250-A | 9100            | Street Transit                | 9163     | Transit Operator               | 36773               | 66988.5  | 3512.88  | 2770.39        | 73271.8      | 19127.2    | 13203         | 5455.1         | 37785.3        | 111057\n",
       "Calendar  | 2015 | 6                       | General Administration & Finance         | CAT             | City Attorney                          | 311        | Municipal Attorneys' Association                   | 8100            | Legal & Court                 | 8177     | Attorney (Civil/Criminal)      | 12963               | 135190   | 0        | 1562.5         | 136752       | 27501.8    | 12424.5       | 10103          | 50029.3        | 186781\n",
       "Calendar  | 2015 | 3                       | Human Welfare & Neighborhood Development | DSS             | Human Services                         | 535        | SEIU - Human Services, Local 1021                  | 9700            | Community Development         | 9703     | Emp & Training Spec 2          | 35179               | 70474.8  | 147.28   | 1647.24        | 72269.3      | 14650.3    | 10696.9       | 5993.11        | 31340.3        | 103610\n",
       "... (42979 rows omitted)"
      ]
     },
     "execution_count": 31,
     "metadata": {},
     "output_type": "execute_result"
    }
   ],
   "source": [
    "sf2015 = datascience.Table.read_table('san_francisco_2015.csv')\n",
    "sf2015"
   ]
  },
  {
   "cell_type": "markdown",
   "metadata": {},
   "source": [
    "There is one row for each of 42,979 employees. There are numerous columns containing information about City departmental affiliation and details of the different parts of the employee's compensation package. Here is the row correspoding to the late Edward Lee, the Mayor at that time.\n",
    "\n"
   ]
  },
  {
   "cell_type": "code",
   "execution_count": 32,
   "metadata": {},
   "outputs": [
    {
     "data": {
      "text/html": [
       "<table border=\"1\" class=\"dataframe\">\n",
       "    <thead>\n",
       "        <tr>\n",
       "            <th>Year Type</th> <th>Year</th> <th>Organization Group Code</th> <th>Organization Group</th> <th>Department Code</th> <th>Department</th> <th>Union Code</th> <th>Union</th> <th>Job Family Code</th> <th>Job Family</th> <th>Job Code</th> <th>Job</th> <th>Employee Identifier</th> <th>Salaries</th> <th>Overtime</th> <th>Other Salaries</th> <th>Total Salary</th> <th>Retirement</th> <th>Health/Dental</th> <th>Other Benefits</th> <th>Total Benefits</th> <th>Total Compensation</th>\n",
       "        </tr>\n",
       "    </thead>\n",
       "    <tbody>\n",
       "        <tr>\n",
       "            <td>Calendar </td> <td>2015</td> <td>6                      </td> <td>General Administration & Finance</td> <td>MYR            </td> <td>Mayor     </td> <td>556       </td> <td>Elected Officials</td> <td>1100           </td> <td>Administrative & Mgmt (Unrep)</td> <td>1190    </td> <td>Mayor</td> <td>22433              </td> <td>288964  </td> <td>0       </td> <td>0             </td> <td>288964      </td> <td>58117     </td> <td>12424.5      </td> <td>20293         </td> <td>90834.5       </td> <td>379798            </td>\n",
       "        </tr>\n",
       "    </tbody>\n",
       "</table>"
      ],
      "text/plain": [
       "Year Type | Year | Organization Group Code | Organization Group               | Department Code | Department | Union Code | Union             | Job Family Code | Job Family                    | Job Code | Job   | Employee Identifier | Salaries | Overtime | Other Salaries | Total Salary | Retirement | Health/Dental | Other Benefits | Total Benefits | Total Compensation\n",
       "Calendar  | 2015 | 6                       | General Administration & Finance | MYR             | Mayor      | 556        | Elected Officials | 1100            | Administrative & Mgmt (Unrep) | 1190     | Mayor | 22433               | 288964   | 0        | 0              | 288964       | 58117      | 12424.5       | 20293          | 90834.5        | 379798"
      ]
     },
     "execution_count": 32,
     "metadata": {},
     "output_type": "execute_result"
    }
   ],
   "source": [
    "sf2015.where('Job', datascience.are.equal_to('Mayor'))"
   ]
  },
  {
   "cell_type": "markdown",
   "metadata": {},
   "source": [
    "We are going to study the final column, Total Compensation. That's the employee's salary plus the City's contribution towards his/her retirement and benefit plans.\n",
    "\n",
    "Financial packages in a calendar year can sometimes be hard to understand as they depend on the date of hire, whether the employee is changing jobs within the City, and so on. For example, the lowest values in the Total Compensation column look a little strange."
   ]
  },
  {
   "cell_type": "code",
   "execution_count": 33,
   "metadata": {},
   "outputs": [
    {
     "data": {
      "text/html": [
       "<table border=\"1\" class=\"dataframe\">\n",
       "    <thead>\n",
       "        <tr>\n",
       "            <th>Year Type</th> <th>Year</th> <th>Organization Group Code</th> <th>Organization Group</th> <th>Department Code</th> <th>Department</th> <th>Union Code</th> <th>Union</th> <th>Job Family Code</th> <th>Job Family</th> <th>Job Code</th> <th>Job</th> <th>Employee Identifier</th> <th>Salaries</th> <th>Overtime</th> <th>Other Salaries</th> <th>Total Salary</th> <th>Retirement</th> <th>Health/Dental</th> <th>Other Benefits</th> <th>Total Benefits</th> <th>Total Compensation</th>\n",
       "        </tr>\n",
       "    </thead>\n",
       "    <tbody>\n",
       "        <tr>\n",
       "            <td>Calendar </td> <td>2015</td> <td>1                      </td> <td>Public Protection                      </td> <td>FIR            </td> <td>Fire Department                   </td> <td>798       </td> <td>Firefighters - Miscellaneous, Local 798        </td> <td>H000           </td> <td>Fire Services           </td> <td>H002    </td> <td>Firefighter                  </td> <td>43833              </td> <td>0       </td> <td>0       </td> <td>0             </td> <td>0           </td> <td>0         </td> <td>0            </td> <td>-423.76       </td> <td>-423.76       </td> <td>-423.76           </td>\n",
       "        </tr>\n",
       "        <tr>\n",
       "            <td>Calendar </td> <td>2015</td> <td>4                      </td> <td>Community Health                       </td> <td>DPH            </td> <td>Public Health                     </td> <td>790       </td> <td>SEIU - Miscellaneous, Local 1021               </td> <td>9900           </td> <td>Public Service Aide     </td> <td>9924    </td> <td>PS Aide Health Services      </td> <td>27871              </td> <td>-292.4  </td> <td>0       </td> <td>0             </td> <td>-292.4      </td> <td>0         </td> <td>-95.58       </td> <td>-22.63        </td> <td>-118.21       </td> <td>-410.61           </td>\n",
       "        </tr>\n",
       "        <tr>\n",
       "            <td>Calendar </td> <td>2015</td> <td>1                      </td> <td>Public Protection                      </td> <td>JUV            </td> <td>Juvenile Probation                </td> <td>790       </td> <td>SEIU - Miscellaneous, Local 1021               </td> <td>8300           </td> <td>Correction & Detention  </td> <td>8320    </td> <td>Counselor, Juvenile Hall     </td> <td>10517              </td> <td>0       </td> <td>0       </td> <td>0             </td> <td>0           </td> <td>0         </td> <td>0            </td> <td>-159.12       </td> <td>-159.12       </td> <td>-159.12           </td>\n",
       "        </tr>\n",
       "        <tr>\n",
       "            <td>Calendar </td> <td>2015</td> <td>6                      </td> <td>General Administration & Finance       </td> <td>CPC            </td> <td>City Planning                     </td> <td>21        </td> <td>Prof & Tech Engineers - Miscellaneous, Local 21</td> <td>1000           </td> <td>Information Systems     </td> <td>1053    </td> <td>IS Business Analyst-Senior   </td> <td>18961              </td> <td>0       </td> <td>0       </td> <td>0             </td> <td>0           </td> <td>0         </td> <td>0            </td> <td>-26.53        </td> <td>-26.53        </td> <td>-26.53            </td>\n",
       "        </tr>\n",
       "        <tr>\n",
       "            <td>Calendar </td> <td>2015</td> <td>6                      </td> <td>General Administration & Finance       </td> <td>CPC            </td> <td>City Planning                     </td> <td>21        </td> <td>Prof & Tech Engineers - Miscellaneous, Local 21</td> <td>5200           </td> <td>Professional Engineering</td> <td>5277    </td> <td>Planner 1                    </td> <td>19387              </td> <td>0       </td> <td>0       </td> <td>0             </td> <td>0           </td> <td>0         </td> <td>0            </td> <td>-9.51         </td> <td>-9.51         </td> <td>-9.51             </td>\n",
       "        </tr>\n",
       "        <tr>\n",
       "            <td>Calendar </td> <td>2015</td> <td>2                      </td> <td>Public Works, Transportation & Commerce</td> <td>PUC            </td> <td>PUC Public Utilities Commission   </td> <td>21        </td> <td>Prof & Tech Engineers - Miscellaneous, Local 21</td> <td>1000           </td> <td>Information Systems     </td> <td>1044    </td> <td>IS Engineer-Principal        </td> <td>28988              </td> <td>0       </td> <td>0       </td> <td>0             </td> <td>0           </td> <td>0         </td> <td>0            </td> <td>-3.1          </td> <td>-3.1          </td> <td>-3.1              </td>\n",
       "        </tr>\n",
       "        <tr>\n",
       "            <td>Calendar </td> <td>2015</td> <td>1                      </td> <td>Public Protection                      </td> <td>JUV            </td> <td>Juvenile Probation                </td> <td>39        </td> <td>Stationary Engineers, Local 39                 </td> <td>7300           </td> <td>Journeyman Trade        </td> <td>7335    </td> <td>Senior Stationary Engineer   </td> <td>19125              </td> <td>0       </td> <td>0       </td> <td>0             </td> <td>0           </td> <td>0         </td> <td>0            </td> <td>-0.01         </td> <td>-0.01         </td> <td>-0.01             </td>\n",
       "        </tr>\n",
       "        <tr>\n",
       "            <td>Calendar </td> <td>2015</td> <td>1                      </td> <td>Public Protection                      </td> <td>ECD            </td> <td>Department of Emergency Management</td> <td>351       </td> <td>Municipal Executive Association - Miscellaneous</td> <td>0900           </td> <td>Management              </td> <td>0922    </td> <td>Manager I                    </td> <td>30025              </td> <td>0       </td> <td>0       </td> <td>0             </td> <td>0           </td> <td>0         </td> <td>0            </td> <td>0             </td> <td>0             </td> <td>0                 </td>\n",
       "        </tr>\n",
       "        <tr>\n",
       "            <td>Calendar </td> <td>2015</td> <td>7                      </td> <td>General City Responsibilities          </td> <td>UNA            </td> <td>General Fund Unallocated          </td> <td>790       </td> <td>SEIU - Miscellaneous, Local 1021               </td> <td>3200           </td> <td>Recreation              </td> <td>3280    </td> <td>Assistant Recreation Director</td> <td>49784              </td> <td>0       </td> <td>0       </td> <td>0             </td> <td>0           </td> <td>0         </td> <td>0            </td> <td>1.27          </td> <td>1.27          </td> <td>1.27              </td>\n",
       "        </tr>\n",
       "        <tr>\n",
       "            <td>Calendar </td> <td>2015</td> <td>4                      </td> <td>Community Health                       </td> <td>DPH            </td> <td>Public Health                     </td> <td>250       </td> <td>SEIU - Health Workers, Local 1021              </td> <td>2600           </td> <td>Dietary & Food          </td> <td>2654    </td> <td>Cook                         </td> <td>26768              </td> <td>0       </td> <td>0       </td> <td>2.21          </td> <td>2.21        </td> <td>0         </td> <td>0            </td> <td>0.17          </td> <td>0.17          </td> <td>2.38              </td>\n",
       "        </tr>\n",
       "    </tbody>\n",
       "</table>\n",
       "<p>... (42979 rows omitted)</p>"
      ],
      "text/plain": [
       "Year Type | Year | Organization Group Code | Organization Group                      | Department Code | Department                         | Union Code | Union                                           | Job Family Code | Job Family               | Job Code | Job                           | Employee Identifier | Salaries | Overtime | Other Salaries | Total Salary | Retirement | Health/Dental | Other Benefits | Total Benefits | Total Compensation\n",
       "Calendar  | 2015 | 1                       | Public Protection                       | FIR             | Fire Department                    | 798        | Firefighters - Miscellaneous, Local 798         | H000            | Fire Services            | H002     | Firefighter                   | 43833               | 0        | 0        | 0              | 0            | 0          | 0             | -423.76        | -423.76        | -423.76\n",
       "Calendar  | 2015 | 4                       | Community Health                        | DPH             | Public Health                      | 790        | SEIU - Miscellaneous, Local 1021                | 9900            | Public Service Aide      | 9924     | PS Aide Health Services       | 27871               | -292.4   | 0        | 0              | -292.4       | 0          | -95.58        | -22.63         | -118.21        | -410.61\n",
       "Calendar  | 2015 | 1                       | Public Protection                       | JUV             | Juvenile Probation                 | 790        | SEIU - Miscellaneous, Local 1021                | 8300            | Correction & Detention   | 8320     | Counselor, Juvenile Hall      | 10517               | 0        | 0        | 0              | 0            | 0          | 0             | -159.12        | -159.12        | -159.12\n",
       "Calendar  | 2015 | 6                       | General Administration & Finance        | CPC             | City Planning                      | 21         | Prof & Tech Engineers - Miscellaneous, Local 21 | 1000            | Information Systems      | 1053     | IS Business Analyst-Senior    | 18961               | 0        | 0        | 0              | 0            | 0          | 0             | -26.53         | -26.53         | -26.53\n",
       "Calendar  | 2015 | 6                       | General Administration & Finance        | CPC             | City Planning                      | 21         | Prof & Tech Engineers - Miscellaneous, Local 21 | 5200            | Professional Engineering | 5277     | Planner 1                     | 19387               | 0        | 0        | 0              | 0            | 0          | 0             | -9.51          | -9.51          | -9.51\n",
       "Calendar  | 2015 | 2                       | Public Works, Transportation & Commerce | PUC             | PUC Public Utilities Commission    | 21         | Prof & Tech Engineers - Miscellaneous, Local 21 | 1000            | Information Systems      | 1044     | IS Engineer-Principal         | 28988               | 0        | 0        | 0              | 0            | 0          | 0             | -3.1           | -3.1           | -3.1\n",
       "Calendar  | 2015 | 1                       | Public Protection                       | JUV             | Juvenile Probation                 | 39         | Stationary Engineers, Local 39                  | 7300            | Journeyman Trade         | 7335     | Senior Stationary Engineer    | 19125               | 0        | 0        | 0              | 0            | 0          | 0             | -0.01          | -0.01          | -0.01\n",
       "Calendar  | 2015 | 1                       | Public Protection                       | ECD             | Department of Emergency Management | 351        | Municipal Executive Association - Miscellaneous | 0900            | Management               | 0922     | Manager I                     | 30025               | 0        | 0        | 0              | 0            | 0          | 0             | 0              | 0              | 0\n",
       "Calendar  | 2015 | 7                       | General City Responsibilities           | UNA             | General Fund Unallocated           | 790        | SEIU - Miscellaneous, Local 1021                | 3200            | Recreation               | 3280     | Assistant Recreation Director | 49784               | 0        | 0        | 0              | 0            | 0          | 0             | 1.27           | 1.27           | 1.27\n",
       "Calendar  | 2015 | 4                       | Community Health                        | DPH             | Public Health                      | 250        | SEIU - Health Workers, Local 1021               | 2600            | Dietary & Food           | 2654     | Cook                          | 26768               | 0        | 0        | 2.21           | 2.21         | 0          | 0             | 0.17           | 0.17           | 2.38\n",
       "... (42979 rows omitted)"
      ]
     },
     "execution_count": 33,
     "metadata": {},
     "output_type": "execute_result"
    }
   ],
   "source": [
    "sf2015.sort('Total Compensation')"
   ]
  },
  {
   "cell_type": "markdown",
   "metadata": {},
   "source": [
    "For clarity of comparison, we will focus our attention on those who had at least the equivalent of a half-time job for the whole year. At a minimum wage of about \\\\$10 per hour, and 20 hours per week for 52 weeks, that's a salary of about \\\\$10,000."
   ]
  },
  {
   "cell_type": "code",
   "execution_count": 34,
   "metadata": {},
   "outputs": [
    {
     "data": {
      "text/plain": [
       "36569"
      ]
     },
     "execution_count": 34,
     "metadata": {},
     "output_type": "execute_result"
    }
   ],
   "source": [
    "sf2015 = sf2015.where('Salaries', datascience.are.above(10000))\n",
    "\n",
    "sf2015.num_rows"
   ]
  },
  {
   "cell_type": "markdown",
   "metadata": {},
   "source": [
    "#### Population and Parameter\n",
    "\n",
    "Let this table of just over 36,500 rows be our population. Here is a histogram of the total compensations."
   ]
  },
  {
   "cell_type": "code",
   "execution_count": 35,
   "metadata": {},
   "outputs": [
    {
     "name": "stderr",
     "output_type": "stream",
     "text": [
      "/opt/jupyterhub/lib/python3.8/site-packages/datascience/tables.py:5206: UserWarning: FixedFormatter should only be used together with FixedLocator\n",
      "  axis.set_xticklabels(ticks, rotation='vertical')\n"
     ]
    },
    {
     "data": {
      "image/png": "[encoded data removed]",
      "text/plain": [
       "<Figure size 432x288 with 1 Axes>"
      ]
     },
     "metadata": {
      "needs_background": "light"
     },
     "output_type": "display_data"
    }
   ],
   "source": [
    "sf_bins = numpy.arange(0, 700000, 25000)\n",
    "sf2015.select('Total Compensation').hist(bins=sf_bins)"
   ]
  },
  {
   "cell_type": "markdown",
   "metadata": {},
   "source": [
    "While most of the values are below \\\\$300,000, a few are quite a bit higher. For example, the total compensation of the Chief Investment Officer was almost \\\\$650,000. That is why the horizontal axis stretches to \\\\$700,000."
   ]
  },
  {
   "cell_type": "code",
   "execution_count": 70,
   "metadata": {},
   "outputs": [
    {
     "data": {
      "text/html": [
       "<table border=\"1\" class=\"dataframe\">\n",
       "    <thead>\n",
       "        <tr>\n",
       "            <th>Year Type</th> <th>Year</th> <th>Organization Group Code</th> <th>Organization Group</th> <th>Department Code</th> <th>Department</th> <th>Union Code</th> <th>Union</th> <th>Job Family Code</th> <th>Job Family</th> <th>Job Code</th> <th>Job</th> <th>Employee Identifier</th> <th>Salaries</th> <th>Overtime</th> <th>Other Salaries</th> <th>Total Salary</th> <th>Retirement</th> <th>Health/Dental</th> <th>Other Benefits</th> <th>Total Benefits</th> <th>Total Compensation</th>\n",
       "        </tr>\n",
       "    </thead>\n",
       "    <tbody>\n",
       "        <tr>\n",
       "            <td>Calendar </td> <td>2015</td> <td>6                      </td> <td>General Administration & Finance</td> <td>RET            </td> <td>Retirement System                   </td> <td>351       </td> <td>Municipal Executive Association - Miscellaneous</td> <td>1100           </td> <td>Administrative & Mgmt (Unrep)</td> <td>1119    </td> <td>Chief Investment Officer</td> <td>46881              </td> <td>507832  </td> <td>0       </td> <td>0             </td> <td>507832      </td> <td>105053    </td> <td>12424.5      </td> <td>23566.2       </td> <td>141044        </td> <td>648875            </td>\n",
       "        </tr>\n",
       "        <tr>\n",
       "            <td>Calendar </td> <td>2015</td> <td>6                      </td> <td>General Administration & Finance</td> <td>ADM            </td> <td>General Services Agency - City Admin</td> <td>164       </td> <td>Physicians and Dentists - Miscellaneous        </td> <td>2500           </td> <td>Med Therapy & Auxiliary      </td> <td>2598    </td> <td>Asst Med Examiner       </td> <td>1016               </td> <td>279311  </td> <td>3829.36 </td> <td>114434        </td> <td>397574      </td> <td>56211.6   </td> <td>12424.5      </td> <td>14299.1       </td> <td>82935.2       </td> <td>480509            </td>\n",
       "        </tr>\n",
       "    </tbody>\n",
       "</table>\n",
       "<p>... (36567 rows omitted)</p>"
      ],
      "text/plain": [
       "<IPython.core.display.HTML object>"
      ]
     },
     "metadata": {},
     "output_type": "display_data"
    }
   ],
   "source": [
    "sf2015.sort('Total Compensation', descending=True).show(2)"
   ]
  },
  {
   "cell_type": "markdown",
   "metadata": {},
   "source": [
    "Now let the parameter be the median of the total compensations.\n",
    "\n",
    "Since we have the luxury of having all of the data from the population, we can simply calculate the parameter:"
   ]
  },
  {
   "cell_type": "code",
   "execution_count": 36,
   "metadata": {},
   "outputs": [
    {
     "data": {
      "text/plain": [
       "110305.79"
      ]
     },
     "execution_count": 36,
     "metadata": {},
     "output_type": "execute_result"
    }
   ],
   "source": [
    "pop_median = datascience.percentile(50, sf2015.column('Total Compensation'))\n",
    "pop_median"
   ]
  },
  {
   "cell_type": "markdown",
   "metadata": {},
   "source": [
    "The median total compensation of all employees was just over \\\\$110,300.\n",
    "\n",
    "From a practical perspective, there is no reason for us to draw a sample to estimate this parameter since we simply know its value. But in this section we are going to pretend we don't know the value, and see how well we can estimate it based on a random sample.\n",
    "\n",
    "### A Random Sample and an Estimate\n",
    "\n",
    "Let us draw a sample of 500 employees at random without replacement, and let the median total compensation of the sampled employees serve as our estimate of the parameter."
   ]
  },
  {
   "cell_type": "code",
   "execution_count": 37,
   "metadata": {},
   "outputs": [
    {
     "name": "stdout",
     "output_type": "stream",
     "text": [
      "Estimated Median =  110566.68\n"
     ]
    },
    {
     "data": {
      "image/png": "[encoded data removed]",
      "text/plain": [
       "<Figure size 432x288 with 1 Axes>"
      ]
     },
     "metadata": {
      "needs_background": "light"
     },
     "output_type": "display_data"
    }
   ],
   "source": [
    "our_sample = sf2015.sample(500, with_replacement=False)\n",
    "our_sample.select('Total Compensation').hist(bins=sf_bins)\n",
    "est_median = datascience.percentile(50, our_sample.column('Total Compensation'))\n",
    "print('Estimated Median = ',est_median)"
   ]
  },
  {
   "cell_type": "markdown",
   "metadata": {},
   "source": [
    "The sample size is large, so that the distribution of the sample approximates that of the population, and consequently the sample median is not very far from the population median (though of course it is not exactly the same).\n",
    "\n",
    "So now we have one estimate of the parameter. But had the sample come out differently, the estimate would have had a different value. We would like to be able to quantify the amount by which the estimate could vary across samples. That measure of variability will help us measure how accurately we can estimate the parameter.\n",
    "\n",
    "To see how different the estimate would be if the sample had come out differently, we could just draw another sample from the population, but that would be cheating. We are trying to mimic real life, in which we won't have all the population data at hand.\n",
    "\n",
    "Somehow, we have to get another random sample without sampling from the population.\n",
    "\n",
    "### The Bootstrap: Resampling from the Sample\n",
    "What we do have is a large random sample from the population. As we know, a large random sample is likely to resemble the population from which it is drawn. This observation allows data scientists to lift themselves up by their own bootstraps: the sampling procedure can be replicated by sampling from the sample.\n",
    "\n",
    "Here are the steps of the bootstrap method for generating another random sample that resembles the population:\n",
    "\n",
    "  > - Treat the original sample as if it were the population.<br>\n",
    "  > - Draw from the sample, at random with replacement, the same number of times as the original sample size.\n",
    "\n",
    "It is important to resample the same number of times as the original sample size. The reason is that the variability of an estimate depends on the size of the sample. Since our original sample consisted of 500 employees, our sample median was based on 500 values. To see how different the sample could have been, we have to compare it to the median of other samples of size 500.\n",
    "\n",
    "If we drew 500 times at random without replacement from our sample of size 500, we would just get the same sample back. By drawing with replacement, we create the possibility for the new samples to be different from the original, because some employees might be drawn more than once and others not at all.\n",
    "\n",
    "Why is this a good idea? Because the distribution of the original sample is likely to resemble the population (if we took enough instances), and the distributions of all the \"resamples\" are likely to resemble the original sample. Then by an appeal to the transitive axiom, the distributions of all the resamples are likely to resemble the population as well.\n",
    "\n",
    "### A Resampled Median\n",
    "\n",
    "Recall that when the sample method is used without specifying a sample size, by default the sample size equals the number of rows of the table from which the sample is drawn. That's perfect for the bootstrap! Here is one new sample drawn from the original sample, and the corresponding sample median."
   ]
  },
  {
   "cell_type": "code",
   "execution_count": 38,
   "metadata": {},
   "outputs": [
    {
     "data": {
      "text/plain": [
       "111884.33"
      ]
     },
     "execution_count": 38,
     "metadata": {},
     "output_type": "execute_result"
    },
    {
     "data": {
      "image/png": "[encoded data removed]",
      "text/plain": [
       "<Figure size 432x288 with 1 Axes>"
      ]
     },
     "metadata": {
      "needs_background": "light"
     },
     "output_type": "display_data"
    }
   ],
   "source": [
    "resample_1 = our_sample.sample()\n",
    "resample_1.select('Total Compensation').hist(bins=sf_bins)\n",
    "resampled_median_1 = datascience.percentile(50, resample_1.column('Total Compensation'))\n",
    "resampled_median_1"
   ]
  },
  {
   "cell_type": "markdown",
   "metadata": {},
   "source": [
    "By resampling, we have another estimate of the population median. By resampling again and again, we will get many such estimates, and hence an empirical distribution of the estimates."
   ]
  },
  {
   "cell_type": "code",
   "execution_count": 39,
   "metadata": {},
   "outputs": [
    {
     "data": {
      "text/plain": [
       "106679.88"
      ]
     },
     "execution_count": 39,
     "metadata": {},
     "output_type": "execute_result"
    }
   ],
   "source": [
    "resample_2 = our_sample.sample()\n",
    "resampled_median_2 = datascience.percentile(50, resample_2.column('Total Compensation'))\n",
    "resampled_median_2"
   ]
  },
  {
   "cell_type": "markdown",
   "metadata": {},
   "source": [
    "#### Bootstrap Empirical Distribution of the Sample Median\n",
    "\n",
    "Let us define a function `bootstrap_median` that takes our original sample, the label of the column containing the variable, and the number of bootstrap samples we want to take, and returns an array of the corresponding resampled medians.\n",
    "\n",
    "Each time we resample and find the median, we replicate the bootstrap process. So the number of bootstrap samples will be called the number of replications."
   ]
  },
  {
   "cell_type": "code",
   "execution_count": 40,
   "metadata": {},
   "outputs": [],
   "source": [
    "def bootstrap_median(original_sample, label, replications):\n",
    "    \"\"\"Returns an array of bootstrapped sample medians:\n",
    "    original_sample: table containing the original sample\n",
    "    label: label of column containing the variable\n",
    "    replications: number of bootstrap samples\n",
    "    modified by t.g. cleveland for missing dependencies from \n",
    "    original UCB script\n",
    "    \"\"\"\n",
    "    just_one_column = original_sample.select(label)\n",
    "    medians = datascience.make_array()\n",
    "    for i in numpy.arange(replications):\n",
    "        bootstrap_sample = just_one_column.sample()\n",
    "        resampled_median = datascience.percentile(50, bootstrap_sample.column(0))\n",
    "        medians = numpy.append(medians, resampled_median)\n",
    "        \n",
    "    return medians"
   ]
  },
  {
   "cell_type": "markdown",
   "metadata": {},
   "source": [
    "We now replicate the bootstrap process 5,000 times. The array bstrap_medians contains the medians of all 5,000 bootstrap samples. Notice that the code takes longer to run than our previous code. It has a lot of resampling to do!"
   ]
  },
  {
   "cell_type": "code",
   "execution_count": 41,
   "metadata": {},
   "outputs": [],
   "source": [
    "bstrap_medians = bootstrap_median(our_sample, 'Total Compensation', 5000) # change the 5 to 5000 for production run!"
   ]
  },
  {
   "cell_type": "markdown",
   "metadata": {},
   "source": [
    "Here is the histogram of the 5000 medians. The red dot is the population parameter: it is the median of the entire population, which we happen to know but did not use in the bootstrap process."
   ]
  },
  {
   "cell_type": "code",
   "execution_count": 51,
   "metadata": {},
   "outputs": [
    {
     "data": {
      "image/png": "[encoded data removed]",
      "text/plain": [
       "<Figure size 432x288 with 1 Axes>"
      ]
     },
     "metadata": {
      "needs_background": "light"
     },
     "output_type": "display_data"
    }
   ],
   "source": [
    "resampled_medians = datascience.Table().with_column('Bootstrap Sample Median', bstrap_medians)\n",
    "\n",
    "#median_bins=np.arange(100000, 130000, 2500)\n",
    "#resampled_medians.hist(bins = median_bins)\n",
    "resampled_medians.hist()\n",
    "\n",
    "import matplotlib.pyplot \n",
    "matplotlib.pyplot.scatter(pop_median, 0,color='red', s=120 );"
   ]
  },
  {
   "cell_type": "markdown",
   "metadata": {},
   "source": [
    "It is important to remember that the red dot is fixed: it is \\\\$110,305.79, the population median. The empirical histogram is the result of random draws, and will be situated randomly relative to the red dot.\n",
    "\n",
    "Remember also that the point of all these computations is to estimate the population median, which is the red dot. Our estimates are all the randomly generated sampled medians whose histogram you see above. We want those estimates to contain the parameter – it they don't, then they are off.\n",
    "\n",
    "---\n",
    "\n",
    "### Do the Estimates Capture the Parameter?\n",
    "\n",
    "How often does the empirical histogram of the resampled medians sit firmly over the red dot, and not just brush the dot with its tails? To answer this, we must define \"sit firmly\". \n",
    "Let's take that to mean \"the middle 95% of the resampled medians contains the red dot\".\n",
    "\n",
    "Here are the two ends of the \"middle 95%\" interval of resampled medians:"
   ]
  },
  {
   "cell_type": "code",
   "execution_count": 52,
   "metadata": {},
   "outputs": [
    {
     "name": "stdout",
     "output_type": "stream",
     "text": [
      "lower/upper bounds of 95-percent of sample range \n",
      " 104877.51   114055.55\n"
     ]
    }
   ],
   "source": [
    "left = datascience.percentile(2.5, bstrap_medians)\n",
    "right = datascience.percentile(97.5, bstrap_medians)\n",
    "print(\"lower/upper bounds of 95-percent of sample range \\n\",left,\" \",right)"
   ]
  },
  {
   "cell_type": "markdown",
   "metadata": {},
   "source": [
    "The population median of \\\\$110,305 is indeed between these two numbers. The interval and the population median are shown on the histogram below."
   ]
  },
  {
   "cell_type": "code",
   "execution_count": 56,
   "metadata": {},
   "outputs": [
    {
     "name": "stderr",
     "output_type": "stream",
     "text": [
      "/opt/jupyterhub/lib/python3.8/site-packages/datascience/tables.py:5206: UserWarning: FixedFormatter should only be used together with FixedLocator\n",
      "  axis.set_xticklabels(ticks, rotation='vertical')\n"
     ]
    },
    {
     "data": {
      "image/png": "[encoded data removed]",
      "text/plain": [
       "<Figure size 432x288 with 1 Axes>"
      ]
     },
     "metadata": {
      "needs_background": "light"
     },
     "output_type": "display_data"
    }
   ],
   "source": [
    "#median_bins=np.arange(100000, 130000, 2500)\n",
    "#resampled_medians.hist(bins = median_bins)\n",
    "resampled_medians.hist()\n",
    "\n",
    "matplotlib.pyplot.plot(datascience.make_array(left, right), datascience.make_array(0, 0), color='yellow', lw=9, zorder=1)\n",
    "matplotlib.pyplot.scatter(pop_median, 0, color='red', s=200, zorder=2);"
   ]
  },
  {
   "cell_type": "markdown",
   "metadata": {},
   "source": [
    "The \"middle 95%\" interval of estimates captured the parameter in our example. But was that a fluke?\n",
    "\n",
    "To see how frequently the interval contains the parameter, we have to run the entire process over and over again. Specifically, we will repeat the following process 100 times:\n",
    "\n",
    "> - Draw an original sample of size 500 from the population.\n",
    "> - Carry out 5,000 replications of the bootstrap process and generate the \"middle 95%\" interval of resampled medians.\n",
    "\n",
    "We will end up with 100 intervals, and count how many of them contain the population median.\n",
    "\n",
    "Spoiler alert: The statistical theory of the bootstrap says that the number should be around 95. It may be in the low 90s or high 90s, but not much farther off 95 than that."
   ]
  },
  {
   "cell_type": "code",
   "execution_count": 57,
   "metadata": {},
   "outputs": [],
   "source": [
    "# THE BIG SIMULATION: This one takes several minutes.\n",
    "# Generate 100 intervals, in the table intervals\n",
    "# modified by tgc for UCB dependencies not loaded as part of textbook\n",
    "# test 26oct2020 on AWS server runtime == about 4 minutes\n",
    "left_ends = datascience.make_array()\n",
    "right_ends = datascience.make_array()\n",
    "\n",
    "total_comps = sf2015.select('Total Compensation')\n",
    "\n",
    "for i in numpy.arange(100):\n",
    "    first_sample = total_comps.sample(500, with_replacement=False)\n",
    "    medians = bootstrap_median(first_sample, 'Total Compensation', 5000)\n",
    "    left_ends = numpy.append(left_ends, datascience.percentile(2.5, medians))\n",
    "    right_ends = numpy.append(right_ends, datascience.percentile(97.5, medians))\n",
    "\n",
    "intervals = datascience.Table().with_columns(\n",
    "    'Left', left_ends,\n",
    "    'Right', right_ends\n",
    ")"
   ]
  },
  {
   "cell_type": "markdown",
   "metadata": {},
   "source": [
    "For each of the 100 replications, we get one interval of estimates of the median."
   ]
  },
  {
   "cell_type": "code",
   "execution_count": 58,
   "metadata": {},
   "outputs": [
    {
     "data": {
      "text/html": [
       "<table border=\"1\" class=\"dataframe\">\n",
       "    <thead>\n",
       "        <tr>\n",
       "            <th>Left</th> <th>Right</th>\n",
       "        </tr>\n",
       "    </thead>\n",
       "    <tbody>\n",
       "        <tr>\n",
       "            <td>106437 </td> <td>116393</td>\n",
       "        </tr>\n",
       "        <tr>\n",
       "            <td>100904 </td> <td>112427</td>\n",
       "        </tr>\n",
       "        <tr>\n",
       "            <td>106911 </td> <td>120385</td>\n",
       "        </tr>\n",
       "        <tr>\n",
       "            <td>99005.8</td> <td>110013</td>\n",
       "        </tr>\n",
       "        <tr>\n",
       "            <td>107401 </td> <td>118911</td>\n",
       "        </tr>\n",
       "        <tr>\n",
       "            <td>109602 </td> <td>120795</td>\n",
       "        </tr>\n",
       "        <tr>\n",
       "            <td>104475 </td> <td>115335</td>\n",
       "        </tr>\n",
       "        <tr>\n",
       "            <td>106226 </td> <td>116639</td>\n",
       "        </tr>\n",
       "        <tr>\n",
       "            <td>106346 </td> <td>120356</td>\n",
       "        </tr>\n",
       "        <tr>\n",
       "            <td>108781 </td> <td>120170</td>\n",
       "        </tr>\n",
       "    </tbody>\n",
       "</table>\n",
       "<p>... (90 rows omitted)</p>"
      ],
      "text/plain": [
       "Left    | Right\n",
       "106437  | 116393\n",
       "100904  | 112427\n",
       "106911  | 120385\n",
       "99005.8 | 110013\n",
       "107401  | 118911\n",
       "109602  | 120795\n",
       "104475  | 115335\n",
       "106226  | 116639\n",
       "106346  | 120356\n",
       "108781  | 120170\n",
       "... (90 rows omitted)"
      ]
     },
     "execution_count": 58,
     "metadata": {},
     "output_type": "execute_result"
    }
   ],
   "source": [
    "intervals"
   ]
  },
  {
   "cell_type": "markdown",
   "metadata": {},
   "source": [
    "The good intervals are those that contain the parameter we are trying to estimate. Typically the parameter is unknown, but in this section we happen to know what the parameter is."
   ]
  },
  {
   "cell_type": "code",
   "execution_count": 59,
   "metadata": {},
   "outputs": [
    {
     "data": {
      "text/plain": [
       "110305.79"
      ]
     },
     "execution_count": 59,
     "metadata": {},
     "output_type": "execute_result"
    }
   ],
   "source": [
    "pop_median"
   ]
  },
  {
   "cell_type": "markdown",
   "metadata": {},
   "source": [
    "How many of the 100 intervals contain the population median? That's the number of intervals where the left end is below the population median and the right end is above."
   ]
  },
  {
   "cell_type": "code",
   "execution_count": 60,
   "metadata": {},
   "outputs": [
    {
     "data": {
      "text/plain": [
       "98"
      ]
     },
     "execution_count": 60,
     "metadata": {},
     "output_type": "execute_result"
    }
   ],
   "source": [
    "intervals.where('Left', datascience.are.below(pop_median)).where('Right', datascience.are.above(pop_median)).num_rows"
   ]
  },
  {
   "cell_type": "markdown",
   "metadata": {},
   "source": [
    "It takes a few minutes to construct all the intervals, but try it again if you have the patience. Most likely, about 95 of the 100 intervals will be good ones: they will contain the parameter.\n",
    "\n",
    "It's hard to show you all the intervals on the horizontal axis as they have large overlaps – after all, they are all trying to estimate the same parameter. The graphic below shows each interval on the same axes by stacking them vertically. The vertical axis is simply the number of the replication from which the interval was generated.\n",
    "\n",
    "The red line is where the parameter is. Good intervals cover the parameter; there are about 95 of these, typically.\n",
    "\n",
    "If an interval doesn't cover the parameter, it's a dud. The duds are the ones where you can see \"daylight\" around the red line. There are very few of them – about 5, typically – but they do happen.\n",
    "\n",
    "Any method based on sampling has the possibility of being off. The beauty of methods based on random sampling is that we can quantify how often they are likely to be off."
   ]
  },
  {
   "cell_type": "code",
   "execution_count": 61,
   "metadata": {},
   "outputs": [
    {
     "data": {
      "image/png": "[encoded data removed]",
      "text/plain": [
       "<Figure size 576x576 with 1 Axes>"
      ]
     },
     "metadata": {
      "needs_background": "light"
     },
     "output_type": "display_data"
    }
   ],
   "source": [
    "replication_number = numpy.ndarray.astype(numpy.arange(1, 101), str)\n",
    "intervals2 = datascience.Table(replication_number).with_rows(datascience.make_array(left_ends, right_ends))\n",
    "\n",
    "matplotlib.pyplot.figure(figsize=(8,8))\n",
    "for i in numpy.arange(100):\n",
    "    ends = intervals2.column(i)\n",
    "    matplotlib.pyplot.plot(ends, datascience.make_array(i+1, i+1), color='gold')\n",
    "matplotlib.pyplot.plot(datascience.make_array(pop_median, pop_median), datascience.make_array(0, 100), color='red', lw=2)\n",
    "matplotlib.pyplot.xlabel('Median (dollars)')\n",
    "matplotlib.pyplot.ylabel('Replication')\n",
    "matplotlib.pyplot.title('Population Median and Intervals of Estimates');\n"
   ]
  },
  {
   "cell_type": "markdown",
   "metadata": {},
   "source": [
    "To summarize what the simulation shows, suppose you are estimating the population median by the following process:\n",
    "\n",
    "> - Draw a large random sample from the population.\n",
    "> - Bootstrap your random sample and get an estimate from the new random sample.\n",
    "> - Repeat the above step thousands of times, and get thousands of estimates.\n",
    "> - Pick off the \"middle 95%\" interval of all the estimates.\n",
    "\n",
    "That gives you one interval of estimates. Now if you repeat the entire process 100 times, ending up with 100 intervals, then about 95 of those 100 intervals will contain the population parameter.\n",
    "\n",
    "In other words, this process of estimation captures the parameter about 95% of the time.\n",
    "\n",
    "You can replace 95% by a different value, as long as it's not 100. Suppose you replace 95% by 80% and keep the sample size fixed at 500. Then your intervals of estimates will be shorter than those we simulated here, because the \"middle 80%\" is a smaller range than the \"middle 95%\". Only about 80% of your intervals will contain the parameter.\n",
    "\n",
    "Bootstrapping is often used to construct statistical tests (from known distributions)."
   ]
  },
  {
   "cell_type": "markdown",
   "metadata": {},
   "source": [
    "---\n",
    "---\n",
    "\n",
    "## Confidence Intervals for the Median\n",
    "\n",
    "A confidence interval for the true population median may be computed in two ways: (1) without assuming the data follow any specific distribution (nonparametric), or (2) assuming they follow a distribution such as the lognormal (parametric)."
   ]
  },
  {
   "cell_type": "markdown",
   "metadata": {},
   "source": [
    "---\n",
    "### Nonparametric Interval Estimate for the Median\n",
    "\n",
    "We will consider two nonparametric approaches to interval estimates for the median. The first is based on the binomial distribution and the second is a bootstrap method, which is a general approach to many estimation problems. Neither approach requires assumptions about the distribution of the random variable.\n",
    "\n",
    "For the binomial approach we start by selecting the desired significance level α, which is the acceptable risk of not including the true median. One-half of this risk (α/2) is assigned to each end of the interval. \n",
    "To compute the confidence interval for the median we use the cumulative distribution function (cdf) of the binomial distribution. Learn about the cdf at https://docs.scipy.org/doc/scipy/reference/generated/scipy.stats.binom.html\n",
    "\n",
    "Here's a way to learn, lets code up a script to plot the CDF, and see if it looks like a CDF, in this case we will plot the accumulated probability on the x-axis, and the random variable value on the y-axis."
   ]
  },
  {
   "cell_type": "code",
   "execution_count": 62,
   "metadata": {},
   "outputs": [
    {
     "data": {
      "image/png": "[encoded data removed]",
      "text/plain": [
       "<Figure size 576x576 with 1 Axes>"
      ]
     },
     "metadata": {
      "needs_background": "light"
     },
     "output_type": "display_data"
    }
   ],
   "source": [
    "import numpy\n",
    "import pandas\n",
    "import scipy.stats \n",
    "import matplotlib.pyplot\n",
    "\n",
    "n = 25\n",
    "p = 0.5\n",
    "prob = []\n",
    "xval = []\n",
    "for rv in range(0,n):\n",
    "    x=float(rv)\n",
    "    prob.append(scipy.stats.binom.cdf(x, n, p))\n",
    "    xval.append(x)\n",
    "\n",
    "matplotlib.pyplot.figure(figsize=(8,8))\n",
    "matplotlib.pyplot.plot(xval, prob,  lw=5)\n",
    "plottitle = 'Binomial CDF for n= ' + str(round(n,3))+ ' p = ' + str(round(p,3))\n",
    "matplotlib.pyplot.title(plottitle)\n",
    "matplotlib.pyplot.xlabel('Accumulated Probability')\n",
    "matplotlib.pyplot.ylabel('Random Variable Value')\n",
    "matplotlib.pyplot.show()"
   ]
  },
  {
   "cell_type": "markdown",
   "metadata": {},
   "source": [
    "To determine the 100 · (1 − α)-percent confidence interval we use the binomial distribution function to determine the critical values of the ranks of the dataset that correspond to α/2 and 1 − (α/2) points on the binomial cumulative distribution function. These critical values of the ranks are then associated with their data values to form the upper and lower confidence limits for the median. \n",
    "\n",
    "We then use the binomial distribution to answer the following question: How likely is it that the true population median, $c_{0.5}$, would be such that k of the n observed data would be above $c_{0.5}$ and n−k below $c_{0.5}$, where for example, k could be 0, 1, 2, 3,…, 25 out of n = 25? \n",
    "The binomial distribution with prob = 0.5 is used because the probability of being above the population median is 0.5. The resulting confidence interval will reflect the shape (skewed or symmetric) of the original data. \n",
    "\n",
    "Nonparametric intervals cannot exactly produce the desired confidence level when the sample sizes are small. This is because the possible values are discrete, jumping from one data value to the next at the ends of the intervals. However, confidence intervals close to those desired are available for all but the smallest sample sizes. The process of computing the confidence interval is best illustrated with an example.\n",
    "\n",
    "### Example: \n",
    "25 arsenic concentrations were reported for groundwaters of southeastern New Hampshire (Boudette and others, 1985). A boxplot of the data is shown. \n",
    "Compute the α = 0.05 interval estimate of the median concentration."
   ]
  },
  {
   "cell_type": "code",
   "execution_count": 64,
   "metadata": {
    "scrolled": true
   },
   "outputs": [],
   "source": [
    "arsenic_list = [1.3, 1.5, 1.8, 2.6, 2.8, 3.5, 4.0, 4.8, 8, 9.5, 12, 14, 19, 23, 41, 80, 100, 110, 120, 190, 240, 250, 300, 340, 580]"
   ]
  },
  {
   "cell_type": "code",
   "execution_count": 65,
   "metadata": {},
   "outputs": [
    {
     "data": {
      "image/png": "[encoded data removed]",
      "text/plain": [
       "<Figure size 432x432 with 1 Axes>"
      ]
     },
     "metadata": {
      "needs_background": "light"
     },
     "output_type": "display_data"
    }
   ],
   "source": [
    "matplotlib.pyplot.figure(figsize=(6,6))\n",
    "#matplotlib.pyplot.bar(arsenic_list,height=2.0)\n",
    "matplotlib.pyplot.boxplot(arsenic_list)\n",
    "matplotlib.pyplot.show()"
   ]
  },
  {
   "cell_type": "markdown",
   "metadata": {},
   "source": [
    "The sample median $\\hat{c}_{0.5} = 19$, which is the 13th observation ranked from smallest to largest in this sample size of 25. The binomial distribution is used to determine the 95-percent confidence interval for the true median concentration, $c_{0.5}$."
   ]
  },
  {
   "cell_type": "code",
   "execution_count": 66,
   "metadata": {},
   "outputs": [
    {
     "name": "stdout",
     "output_type": "stream",
     "text": [
      "sample median value =  19.0\n",
      "\n",
      "Element 13  of the sorted list is  19.0\n"
     ]
    }
   ],
   "source": [
    "print('sample median value = ',numpy.percentile(arsenic_list,50.0) )# median value using percentile function\n",
    "arsenic_list = numpy.sort(arsenic_list)\n",
    "index_value=13\n",
    "print('\\nElement',index_value,' of the sorted list is ',arsenic_list[index_value-1])"
   ]
  },
  {
   "cell_type": "markdown",
   "metadata": {},
   "source": [
    "The binomial distribution is used to determine the 95-percent confidence interval for the true median concentration, $c_{0.5}$. We obtain the critical values from the cumulative binomial distribution function by creating a list of binomial values of correct length that represents the index values, then pull from the sample actual values."
   ]
  },
  {
   "cell_type": "code",
   "execution_count": 67,
   "metadata": {},
   "outputs": [
    {
     "name": "stdout",
     "output_type": "stream",
     "text": [
      "Estimate of median is  19.0\n",
      "Approximate 95% confidence interval estimate is the median is located between  4.8 and 100.0\n",
      "Actual interval probability =  92.4  %\n"
     ]
    }
   ],
   "source": [
    "n=len(arsenic_list)\n",
    "p=0.5 # median is at 50%\n",
    "prob = []\n",
    "rank = []\n",
    "for rv in range(0,n):\n",
    "    x=float(rv)\n",
    "    prob.append(scipy.stats.binom.cdf(x, n, p))\n",
    "    rank.append(x)\n",
    "    \n",
    "for rv in range(0,n):\n",
    "    if prob[rv]>0.05 :\n",
    "        lower = arsenic_list[rv-1]\n",
    "        rlo = rank[rv-1]\n",
    "        break\n",
    "        \n",
    "for rv in range(0,n):\n",
    "    if prob[rv]>0.95 :\n",
    "        upper = arsenic_list[rv-1]\n",
    "        rup = rank[rv-1]\n",
    "        break\n",
    "\n",
    "print('Estimate of median is ',numpy.percentile(arsenic_list,50.0))\n",
    "print('Approximate 95% confidence interval estimate is the median is located between ',lower,'and', upper)\n",
    "\n",
    "print('Actual interval probability = ',100*round(scipy.stats.binom.cdf(rup, n, p) - scipy.stats.binom.cdf(rlo, n, p),3),' %')\n",
    "#print(arsenic_list[rlo-1])\n",
    "#print(arsenic_list[rup+1])"
   ]
  },
  {
   "cell_type": "markdown",
   "metadata": {},
   "source": [
    "This code indicates that the lower and upper confidence intervals are at ranks 7 and 16, and that these translate to concentration values of 4.8 and 100 (the 8th and 17th values on the sorted list of concentration values. \n",
    "\n",
    "Because the sample size is relatively small (n = 25) we know that the interval will not be an exact 95-percent confidence interval. We computed the probability that the interval will contain the true value using the binomial cumulative distribution function. \n",
    "\n",
    "The result tells us that the true probability for this range is 0.924, which is close to the desired probability of 0.95. Thus, one could say the closed interval [4.8, 100] is the best approximation to a 95-percent confidence interval for the median for these observations."
   ]
  },
  {
   "cell_type": "markdown",
   "metadata": {},
   "source": [
    "An alternative to the binomial distribution-based approach is to use bootstrapping. \n",
    "Bootstrapping (Efron and Tibshirani, 1994) is one of many computer-intensive methods that uses the observed data to represent the probability distribution from which the data were drawn, rather than assuming a normal or other theoretical distribution. Because of its robustness and coverage accuracy, the bootstrap method is commonly preferred for computing a confidence interval, especially when data are skewed or the distribution is unknown. \n",
    "The method also works well for data that do follow a specific distribution—in that case it returns interval endpoints very similar to those based on a distribution, for example t-intervals for the normal distribution.\n",
    "\n",
    "The bootstrap method consists of repeatedly resampling from the dataset, with replacement. \n",
    "The term “with replacement” means that each observation that has been selected is replaced in the dataset, which means that it can be selected multiple times in the sampling process. \n",
    "Two thousand to 10,000 resamples of the data are commonly used, and for many statistics it takes a small amount of computational time."
   ]
  },
  {
   "cell_type": "code",
   "execution_count": 68,
   "metadata": {},
   "outputs": [],
   "source": [
    "import random\n",
    "\n",
    "def one_sample(list_in,how_many):\n",
    "    \"\"\"Returns a list of a sample from a list of length how_many\n",
    "    from list_in \"\"\"\n",
    "    one_sample = random.choices(list_in,k=how_many) #sampling with replacement\n",
    "    return one_sample\n",
    "\n",
    "def bootstrap_median(original_sample, pulls, replications):\n",
    "    \"\"\"Returns an list of bootstrapped sample medians:\n",
    "    original_sample: list containing the original sample\n",
    "    replications: number of bootstrap samples\n",
    "    \"\"\"\n",
    "    #just_one_column = original_sample\n",
    "    medians = [] #null list to store results\n",
    "    for i in range(replications):\n",
    "        this_sample = one_sample(original_sample,pulls) #get 500 pulls from one sample\n",
    "        resampled_median = numpy.percentile(this_sample, 50)# get 50% percentile from the sample\n",
    "        medians.append(resampled_median)\n",
    "    return medians\n",
    "\n",
    "#mylist = bootstrap_median(arsenic_list,10,10)\n",
    "\n",
    "\n",
    "\n",
    "#matplotlib.pyplot.hist(mylist)\n",
    "left_ends = []\n",
    "right_ends = []\n",
    "for i in range(100):\n",
    "    base_sample = one_sample(arsenic_list,25)\n",
    "    medians = bootstrap_median(base_sample, 25 , 1000)\n",
    "    left_ends.append(numpy.percentile(medians,5))\n",
    "    right_ends.append(numpy.percentile(medians,95))"
   ]
  },
  {
   "cell_type": "code",
   "execution_count": 69,
   "metadata": {},
   "outputs": [
    {
     "data": {
      "image/png": "[encoded data removed]",
      "text/plain": [
       "<Figure size 576x576 with 1 Axes>"
      ]
     },
     "metadata": {
      "needs_background": "light"
     },
     "output_type": "display_data"
    }
   ],
   "source": [
    "matplotlib.pyplot.figure(figsize=(8,8))\n",
    "for i in range(100):\n",
    "    x = []\n",
    "    y = []\n",
    "    x.append(left_ends[i])\n",
    "    x.append(right_ends[i])\n",
    "    y.append(i)\n",
    "    y.append(i)\n",
    "    matplotlib.pyplot.plot(x, y,color=\"gold\")\n",
    "x = []\n",
    "y = []\n",
    "x.append(numpy.percentile(arsenic_list,50.0))\n",
    "x.append(numpy.percentile(arsenic_list,50.0))\n",
    "y.append(0)\n",
    "y.append(100)\n",
    "matplotlib.pyplot.plot(x, y, color='red', lw=2)\n",
    "matplotlib.pyplot.xlabel('Median')\n",
    "matplotlib.pyplot.ylabel('Replication')\n",
    "matplotlib.pyplot.title('Sample Median and Intervals of Estimates');"
   ]
  },
  {
   "cell_type": "markdown",
   "metadata": {},
   "source": [
    "---\n",
    "\n",
    "### Parametric Interval Estimate for the Median (Future Semester)"
   ]
  },
  {
   "cell_type": "markdown",
   "metadata": {},
   "source": [
    "---\n",
    "\n",
    "## Confidence Intervals for the Mean\n",
    "Interval estimates may also be computed for the true population mean μ. These are appropriate if the center of mass of the data is the statistic of interest (see chap. 1). Intervals symmetric around the sample mean X are computed most often. For large sample sizes a symmetric interval adequately describes the variation of the mean, regardless of the shape of the data distribution; this is because the distribution of the sample mean will be closely approximated by a normal distribution as sample sizes increase, even though the data may not be normally distributed. This property is called the Central Limit Theorem (Conover, 1999) and it holds for data that follow a distribution having finite variance. \n",
    "\n",
    "As such, the theorem includes most distributions of interest in engineering. For smaller sample sizes, however, the mean will not be normally distributed unless the data themselves are normally distributed. As skewness of the data increases, more data are required before the distribution of the mean can be adequately approximated by a normal distribution. For highly skewed distributions or data containing outliers, it may take as many as 100 observations before the mean will be sufficiently unaffected by the largest values to assume that its distribution will be symmetric."
   ]
  },
  {
   "cell_type": "markdown",
   "metadata": {},
   "source": [
    "### Symmetric Confidence Interval for the Mean\n",
    "\n",
    "Symmetric confidence intervals (small sample size) for the mean are computed using:\n",
    "\n",
    "![](symmetric-mean-CI.png)\n",
    "\n",
    "If 1 − α were the desired confidence level and the sample size was n, then the critical t-values would be tn\u001f21,\u001e",
    "\u001d",
    "\u001c",
    "\u001b\u001a\u0019\u0018 and tn121\u001f\u001f\u001e",
    "\u001d",
    "\u001c",
    "\u001b\u001a\u0019\u0018,. For example, if one wanted a 95-percent confidence interval, then α = 0.05. The critical values can be found on t-distribution tables or could be computed with a t-distribution quantile function.\n",
    "\n",
    "If the sample size, n, was 25, they would be quantile_t(0.025, 24) and quantile_t(0.975, 24) which are −2.064 and +2.064 respectively. The width of the confidence interval is a function of these critical values, the sample standard deviation of the data, and the sample size. When the sample size is small (n <70) and the data are highly skewed or contain outliers, the assumptions behind the t-interval do not hold. The resulting symmetric interval will be so wide that most observations will be included in it. In some cases, the lower limit of the confidence interval may be less than zero. A negative endpoint for a confidence interval for data that cannot be negative is a clear signal that the assumption of a symmetric confidence interval is not appropriate. For such data, assuming a lognormal distribution as described in section 3.4.2. will probably result in more realistic confidence intervals."
   ]
  },
  {
   "cell_type": "code",
   "execution_count": null,
   "metadata": {},
   "outputs": [],
   "source": [
    "# example"
   ]
  },
  {
   "cell_type": "markdown",
   "metadata": {},
   "source": [
    "Symmetric confidence intervals (large sample size) for the mean are computed using:\n",
    "\n",
    "`Insert Z-score CI formula here`\n",
    "\n",
    "|Continue example|\n",
    "\n",
    "<hr>\n",
    "Future semester content\n",
    "\n",
    "### Asymmetric Confidence Interval for the Mean (for Skewed Data)"
   ]
  },
  {
   "cell_type": "markdown",
   "metadata": {},
   "source": [
    "### Bootstrap Confidence Interval for the Mean for Cases with Small Sample Sizes or Highly Skewed Data\n",
    "\n",
    "## Confidence Interval for the Variance"
   ]
  },
  {
   "cell_type": "markdown",
   "metadata": {},
   "source": [
    "## Nonparametric Prediction Intervals"
   ]
  },
  {
   "cell_type": "markdown",
   "metadata": {},
   "source": [
    "### Two-sided Nonparametric Prediction Interval"
   ]
  },
  {
   "cell_type": "markdown",
   "metadata": {},
   "source": [
    "### One-sided Nonparametric Prediction Interval"
   ]
  },
  {
   "cell_type": "markdown",
   "metadata": {},
   "source": [
    "## Parametric Prediction Intervals"
   ]
  },
  {
   "cell_type": "markdown",
   "metadata": {},
   "source": [
    "### Symmetric Prediction Interval"
   ]
  },
  {
   "cell_type": "markdown",
   "metadata": {},
   "source": [
    "### Asymmetric Prediction Intervals"
   ]
  },
  {
   "cell_type": "markdown",
   "metadata": {},
   "source": [
    "## Confidence Intervals for Quantiles and Tolerance Limits"
   ]
  },
  {
   "cell_type": "markdown",
   "metadata": {},
   "source": [
    "### Confidence Intervals for Percentiles Versus Tolerance Intervals"
   ]
  },
  {
   "cell_type": "markdown",
   "metadata": {},
   "source": [
    "### Two-sided Confidence Intervals for Percentiles"
   ]
  },
  {
   "cell_type": "markdown",
   "metadata": {},
   "source": [
    "### Lower One-sided Tolerance Limits"
   ]
  },
  {
   "cell_type": "markdown",
   "metadata": {},
   "source": [
    "### Upper One-sided Tolerance Limits"
   ]
  },
  {
   "cell_type": "code",
   "execution_count": null,
   "metadata": {},
   "outputs": [],
   "source": []
  },
  {
   "cell_type": "code",
   "execution_count": null,
   "metadata": {},
   "outputs": [],
   "source": []
  },
  {
   "cell_type": "code",
   "execution_count": null,
   "metadata": {},
   "outputs": [],
   "source": []
  }
 ],
 "metadata": {
  "kernelspec": {
   "display_name": "Python 3",
   "language": "python",
   "name": "python3"
  },
  "language_info": {
   "codemirror_mode": {
    "name": "ipython",
    "version": 3
   },
   "file_extension": ".py",
   "mimetype": "text/x-python",
   "name": "python",
   "nbconvert_exporter": "python",
   "pygments_lexer": "ipython3",
   "version": "3.8.10"
  }
 },
 "nbformat": 4,
 "nbformat_minor": 4
}
