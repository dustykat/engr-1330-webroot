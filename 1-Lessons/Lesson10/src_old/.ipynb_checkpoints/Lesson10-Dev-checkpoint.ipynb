{
 "cells": [
  {
   "cell_type": "code",
   "execution_count": 224,
   "metadata": {
    "jupyter": {
     "source_hidden": true
    }
   },
   "outputs": [
    {
     "name": "stdout",
     "output_type": "stream",
     "text": [
      "atomickitty.aws\n",
      "compthink\n",
      "/opt/conda/envs/python/bin/python\n",
      "3.8.3 (default, Jul  2 2020, 16:21:59) \n",
      "[GCC 7.3.0]\n",
      "sys.version_info(major=3, minor=8, micro=3, releaselevel='final', serial=0)\n",
      "/home/compthink/CECE-1330-PsuedoCourse/1-Lessons/Lesson10/PsuedoLesson\n"
     ]
    }
   ],
   "source": [
    "# Preamble script block to identify host, user, and kernel\n",
    "import sys\n",
    "! hostname\n",
    "! whoami\n",
    "print(sys.executable)\n",
    "print(sys.version)\n",
    "print(sys.version_info)\n",
    "! pwd"
   ]
  },
  {
   "cell_type": "code",
   "execution_count": 225,
   "metadata": {
    "jupyter": {
     "source_hidden": true
    }
   },
   "outputs": [
    {
     "data": {
      "text/html": [
       "<!--Script block to left align Markdown Tables-->\n",
       "<style>\n",
       "  table {margin-left: 0 !important;}\n",
       "</style>\n"
      ],
      "text/plain": [
       "<IPython.core.display.HTML object>"
      ]
     },
     "metadata": {},
     "output_type": "display_data"
    }
   ],
   "source": [
    "%%html\n",
    "<!--Script block to left align Markdown Tables-->\n",
    "<style>\n",
    "  table {margin-left: 0 !important;}\n",
    "</style>"
   ]
  },
  {
   "cell_type": "markdown",
   "metadata": {},
   "source": [
    "# Data Modeling: The Statistical Approach:\n",
    "\n",
    "## Objectives\n",
    "- To understand the fundamental concepts involved in causality; and the difference between cause and correlation.\n",
    "\n",
    "- To understand the fundamental concepts involved in iteration.\n",
    "\n",
    "- To understand the fundamental concepts involved in simulation\n",
    "\n",
    "## Computational Thinking Concepts\n",
    "\n",
    "Causality, Iteration, Simulation => `Algorithm Design`\n",
    "\n",
    "Iteration, Simulation => `Create Computational Models`\n",
    "\n",
    "## Textbook Readings:\n",
    "\n",
    "https://www.inferentialthinking.com/chapters/09/Randomness.html\n"
   ]
  },
  {
   "cell_type": "markdown",
   "metadata": {},
   "source": [
    "## Correlation and Causality\n",
    "\n",
    "### What is causality? (A long winded psuedo definition!)\n",
    "\n",
    "Causality is the relationship between causes and effects. \n",
    "The notion of causality does not have a uniform definition in the sciences, and is studied using philosophy and statistics. \n",
    "From the perspective of physics, it is generally believed that causality cannot occur between an effect and an event that is not in the back (past) light cone of said effect. \n",
    "Similarly, a cause could not have an effect outside its front (future) light cone.\n",
    "\n",
    "- Here are some recent articles regarding Closed Time Loops, that explains causal consistency. The second paper is by an undergraduate student! \n",
    "    1. https://journals.aps.org/prl/abstract/10.1103/PhysRevLett.125.040605\n",
    "\n",
    "    2. https://iopscience.iop.org/article/10.1088/1361-6382/aba4bc\n",
    "\n",
    "- Both to some extent theoretically support our popular notion of time travel (aka Dr. Who)  without pesky paradoxes; someone with creative writing juices, could have a good science fiction career using these papers as a starting thesis!\n",
    "\n",
    "In classical physics, an effect cannot occur before its cause. \n",
    "In Einstein's theory of special relativity, causality means that an effect can not occur from a cause that is not in the back (past) light cone of that event. \n",
    "Similarly, a cause cannot have an effect outside its front (future) light cone. \n",
    "These restrictions are consistent with the assumption that causal influences cannot travel faster than the speed of light and/or backwards in time. In quantum field theory, observables of events with a spacelike relationship, \"elsewhere\", have to commute, so the order of observations or measurements of such observables do not impact each other.\n",
    "\n",
    "Causality in this context should not be confused with Newton's second law, which is related to the conservation of momentum, and is a consequence of the spatial homogeneity of physical laws. The word causality in this context means that all effects must have specific causes. \n",
    "\n",
    "Another requirement, at least valid at the level of human experience, is that cause and effect be mediated across space and time (requirement of contiguity). This requirement has been very influential in the past, in the first place as a result of direct observation of causal processes (like pushing a cart), in the second place as a problematic aspect of Newton's theory of gravitation (attraction of the earth by the sun by means of action at a distance) replacing mechanistic proposals like Descartes' vortex theory; in the third place as an incentive to develop dynamic field theories (e.g., Maxwell's electrodynamics and Einstein's general theory of relativity) restoring contiguity in the transmission of influences in a more successful way than in Descartes' theory.\n",
    "\n",
    "Yada yada bla bla bla ...\n",
    "\n",
    "### Correlation (Causality's mimic!)\n",
    "\n",
    "The literary (as in writing!) formulation of causality is a \"why?, because ...\" structure (sort of like if=>then) The answer to a because question, should be the \"cause.\"  Many authors use \"since\" to imply cause, but it is incorrect grammar - since answers the question of when?\n",
    "\n",
    "Think \"CAUSE\" => \"EFFECT\"\n",
    "\n",
    "Correlation doesn’t mean cause (although it is a really good predictor of the crap we all buy - its why Amazon is sucessfull)\n",
    "\n",
    "Consider the chart below\n",
    "\n",
    "![](correlationgraph.png)\n",
    "\n",
    "The correlation between money spent on pets and the number of lawyers is quite good (nearly perfect), so does having pets cause lawyers?  Of course not, the general social economic conditions that improve general wealth, and create sufficient disposable income to have pets (here we mean companion animals, not food on the hoof) also creates conditions for laywers to proliferate, hence a good correlation. \n",
    "\n",
    "Nice video : Correlation and Causation https://www.youtube.com/watch?v=1Sa2v7kVEc0\n",
    "<hr>\n",
    "Quoting from http://water.usgs.gov/pubs/twri/twri4a3/\n",
    "\n",
    "Concentrations of atrazine and nitrate in shallow groundwaters are measured in wells over a\n",
    "several county area. For each sample, the concentration of one is plotted versus the\n",
    "concentration of the other. As atrazine concentrations increase, so do nitrate. How might the\n",
    "strength of this association be measured and summarized?\n",
    "\n",
    "Streams draining the Sierra Nevada mountains in California usually receive less precipitation in\n",
    "November than in other months. Has the amount of November precipitation significantly\n",
    "changed over the last 70 years, showing a gradual change in the climate of the area? How might\n",
    "this be tested?\n",
    "\n",
    "The above situations require a measure of the strength of association between two continuous\n",
    "variables, such as between two chemical concentrations, or between amount of precipitation and\n",
    "time. How do they co-vary? One class of measures are called correlation coefficients. \n",
    "\n",
    "Also important is how the significance of that association can be tested for, to determine whether the observed pattern differs from what is expected due entirely to chance. \n",
    "\n",
    "Whenever a correlation coefficient is calculated, the data should be plotted on a scatterplot. No\n",
    "single numerical measure can substitute for the visual insight gained from a plot. Many different\n",
    "patterns can produce the same correlation coefficient, and similar strengths of relationships can\n",
    "produce differing coefficients, depending on the curvature of the relationship. \n",
    "\n",
    "### Implications\n",
    "Most research questions attempt to explain cause and effect. \n",
    "- In experimental research, the relationship is constructed and the experiment is somewhat of a failure if none of the presumed causal (causal == explainatory) variables influence the response (response == effect)\n",
    "- In a data science experimental context, causality may be impossible to establish, however correlations can be established and exploited.\n",
    "\n",
    "In data science, many studies involve observations on a group of individuals, a factor of interest called a treatment (explainatory variable, predictor variable, predictor feature ...), and an outcome (response, effect, state, predicted value ...) measured on each individual.\n",
    "\n",
    "The presumptive establishment of causality takes place in two stages. \n",
    "\n",
    "1. First, an association is observed. Any relation between the treatment and the outcome is called an association (we can measure the strength of the association using correlation coefficients!).\n",
    "\n",
    "2. Second, A more careful analysis is used to establish causality. \n",
    "\n",
    "    a. One approach would be to control all variables other than the suspected (explainatory) variables, which for any meaningful process is essentially impossible. \n",
    "\n",
    "    b. Another approach is to establish randomized control studies:\n",
    "        1. Start with a sample from a population (e.g. volunteers to test Covid 19 vaccines)\n",
    "        2. Randomly assign members to either\n",
    "            a. Control group\n",
    "            b. Treatment group\n",
    "        3. Expose the two groups identically, except the control group recieves a false (null) treatment\n",
    "        4. Compare the responses of the two groups, if they are same, there exists no evidence that the treatment variable CAUSES a response\n",
    "\n",
    "These concepts can be extended with some ingenuity to engineered systems and natural systems.\n",
    "\n",
    "\n"
   ]
  },
  {
   "cell_type": "markdown",
   "metadata": {},
   "source": [
    "Consider\n",
    "\n",
    "![](https://www.dshs.texas.gov/uploadedImages/Content/Prevention_and_Preparedness/IDCU/disease/influenza/surveillance/2010/Fig1FluTypesPosPerWeek.png)\n",
    "\n",
    "Data Science Questions:\n",
    "- Does going to school cause flu?\n",
    "- Does flu cause school attendance?\n",
    "- Does going to school contribute to the spread of flu?\n",
    "- Does the spread of flu contribute to the school attendance?\n",
    "- Are there other variables that affects both? \n",
    "\n",
    "  a. These are called  “confounding factors” or “lurking variables”.\n",
    "  \n",
    "  b. Cold weather?, more indoor time?, more interaction?\n",
    "  \n",
    "### Confounding Factors\n",
    "  \n",
    "An underlying difference between the two groups (other than the treatment) is called a confounding factor, because it might confound you (that is, mess you up) when you try to reach a conclusion.\n",
    "\n",
    "For example, Cold weather in the previous example.\n",
    "\n",
    "Confounding also occurs when explainatory variables are correlated to another, for instance flood flows are well correlated to drainage area, main channel length, mean annual precipitation, main channel slope, and elevation. However main channel length is itself strongly correlated to drainage area, so much so as to be nearly useless as an explainatory variable when drainage area is retained in a data model.  It would be a \"confounding variable\" in this context."
   ]
  },
  {
   "cell_type": "markdown",
   "metadata": {},
   "source": [
    "## Randomization\n",
    "\n",
    "To establish presumptive causality in our data science experiments, we need randomization tools.\n",
    "We can use Python to make psuedo-random choices. \n",
    "There are built-in functions in numpy library under random submodule.\n",
    "The `choice` function randomly picks one item from an array.\n",
    "\n",
    "The syntax is\n",
    "\n",
    "`np.random.choice(array_name)`, where array_name is the name of the array from which to make the choice.​"
   ]
  },
  {
   "cell_type": "code",
   "execution_count": 7,
   "metadata": {},
   "outputs": [
    {
     "data": {
      "text/plain": [
       "array(['treatment'], dtype='<U9')"
      ]
     },
     "execution_count": 7,
     "metadata": {},
     "output_type": "execute_result"
    }
   ],
   "source": [
    "#Making Random Choice from an Array (or list)\n",
    "import numpy as np\n",
    "two_groups = np.array(['treatment', 'control'])\n",
    "np.random.choice(two_groups,1)\n",
    "# mylist = ['treatment', 'control']  # this works too\n",
    "# np.random.choice(mylist)"
   ]
  },
  {
   "cell_type": "markdown",
   "metadata": {},
   "source": [
    "The difference of this function from others that we learned so far, is that it doesn’t give the same result every time.\n",
    "We can roll a dice using this function by randomly selecting from an array from 1 to 6. "
   ]
  },
  {
   "cell_type": "code",
   "execution_count": 11,
   "metadata": {},
   "outputs": [
    {
     "data": {
      "text/plain": [
       "'six'"
      ]
     },
     "execution_count": 11,
     "metadata": {},
     "output_type": "execute_result"
    }
   ],
   "source": [
    "my_die = np.array(['one', 'two','three', 'four','five', 'six'])\n",
    "np.random.choice(my_die)"
   ]
  },
  {
   "cell_type": "code",
   "execution_count": 12,
   "metadata": {},
   "outputs": [
    {
     "name": "stdout",
     "output_type": "stream",
     "text": [
      "roll #1  four\n",
      "roll #2  four\n",
      "roll #3  four\n",
      "roll #4  five\n",
      "roll #5  six\n",
      "roll #6  one\n"
     ]
    }
   ],
   "source": [
    "# now a bunch of rolls\n",
    "print('roll #1 ',np.random.choice(my_die) )\n",
    "print('roll #2 ',np.random.choice(my_die) )\n",
    "print('roll #3 ',np.random.choice(my_die) )\n",
    "print('roll #4 ',np.random.choice(my_die) )\n",
    "print('roll #5 ',np.random.choice(my_die) )\n",
    "print('roll #6 ',np.random.choice(my_die) )"
   ]
  },
  {
   "cell_type": "code",
   "execution_count": 14,
   "metadata": {},
   "outputs": [
    {
     "name": "stdout",
     "output_type": "stream",
     "text": [
      "['six' 'two' 'two' 'six' 'one' 'five']\n"
     ]
    },
    {
     "data": {
      "text/plain": [
       "'six'"
      ]
     },
     "execution_count": 14,
     "metadata": {},
     "output_type": "execute_result"
    }
   ],
   "source": [
    "# or multiple rolls, single call\n",
    "myDiceRolls = np.random.choice(my_die,6) \n",
    "print(myDiceRolls)"
   ]
  },
  {
   "cell_type": "markdown",
   "metadata": {},
   "source": [
    "We might need to repeat a process multiple times to reach better results or cover more results.\n",
    "Let’s create a game with following rules:\n",
    "\n",
    "- If the dice shows 1 or 2 spots, my net gain is -1 dollar.\n",
    "- If the dice shows 3 or 4 spots, my net gain is 0 dollars.\n",
    "- If the dice shows 5 or 6 spots, my net gain is 1 dollar."
   ]
  },
  {
   "cell_type": "code",
   "execution_count": 16,
   "metadata": {},
   "outputs": [
    {
     "name": "stdout",
     "output_type": "stream",
     "text": [
      "Amount in my account =: 1\n",
      "Place your bet!\n",
      "Roll the die!\n",
      "You Lose,  Bummer!\n",
      "Amount in my account =: 0\n"
     ]
    }
   ],
   "source": [
    "my_wallet = 1 # start with 1 dollars\n",
    "\n",
    "def place_a_bet(wallet):\n",
    "    print(\"Place your bet!\")\n",
    "    if wallet == 0:\n",
    "        print(\"You have no money, get out of my Casino!\")\n",
    "        return(wallet)\n",
    "    else:\n",
    "        wallet = wallet - 1\n",
    "        return(wallet)\n",
    "\n",
    "def make_a_roll(wallet):\n",
    "    \"\"\"Returns my net gain on one bet\"\"\"\n",
    "    print(\"Roll the die!\")\n",
    "    x = np.random.choice(np.arange(1, 7))  # roll a die once and record the number of spots\n",
    "    if x <= 2:\n",
    "        print(\"You Lose,  Bummer!\")\n",
    "        return(wallet) # lose the bet\n",
    "    elif x <= 4:\n",
    "        print(\"You Draw, Take your bet back.\")\n",
    "        wallet = wallet+1\n",
    "        return(wallet) # draw, get bet back\n",
    "    elif x <= 6:\n",
    "        print(\"You win a dollar!\")\n",
    "        wallet = wallet+2\n",
    "        return (wallet) # win, get bet back and win a dollar!\n",
    "    \n",
    "\n",
    "\n",
    "\n",
    "# Single play    \n",
    "print(\"Amount in my account =:\",my_wallet)\n",
    "my_wallet = place_a_bet(my_wallet)\n",
    "my_wallet = make_a_roll(my_wallet)\n",
    "print(\"Amount in my account =:\",my_wallet)\n"
   ]
  },
  {
   "cell_type": "markdown",
   "metadata": {},
   "source": [
    "A more automated solution is to use a for statement to loop over the contents of a sequence. Each result is called iteration. \n",
    "Here we use a for statement in a more realistic way: we print the results of betting five times on the die as described earlier. \n",
    "This process is called simulating the results of five bets. \n",
    "We use the word simulating to remind ourselves that we are not physically rolling dice and exchanging money but using Python to mimic the process."
   ]
  },
  {
   "cell_type": "code",
   "execution_count": 23,
   "metadata": {},
   "outputs": [
    {
     "name": "stdout",
     "output_type": "stream",
     "text": [
      "Amount in my account =: 10\n",
      "Place your bet!\n",
      "Roll the die!\n",
      "You win a dollar!\n",
      "After  1  plays\n",
      "\u001b[91mAmount in my account =: 11 \u001b[0m\n",
      "_______________________\n"
     ]
    }
   ],
   "source": [
    "# Some printing tricks\n",
    "CRED = '\\033[91m'\n",
    "CEND = '\\033[0m'\n",
    "\n",
    "my_wallet = 10\n",
    "how_many_throws = 1 \n",
    "\n",
    "for i in range(how_many_throws):\n",
    "    print(\"Amount in my account =:\",my_wallet)\n",
    "    my_wallet = place_a_bet(my_wallet)\n",
    "    my_wallet = make_a_roll(my_wallet)\n",
    "\n",
    "#print(CRED + \"Error, does not compute!\" + CEND)\n",
    "    print(\"After \",i+1,\" plays\")\n",
    "    print(CRED + \"Amount in my account =:\",my_wallet,CEND)\n",
    "    print(\"_______________________\")"
   ]
  },
  {
   "cell_type": "markdown",
   "metadata": {},
   "source": [
    "## Simulation of multiple gamblers/multiple visits to the Casino\n",
    "\n",
    "https://www.inferentialthinking.com/chapters/09/3/Simulation.html"
   ]
  },
  {
   "cell_type": "code",
   "execution_count": 30,
   "metadata": {},
   "outputs": [
    {
     "data": {
      "image/png": "[encoded data removed]",
      "text/plain": [
       "<Figure size 432x288 with 1 Axes>"
      ]
     },
     "metadata": {
      "needs_background": "light"
     },
     "output_type": "display_data"
    },
    {
     "data": {
      "text/html": [
       "<div>\n",
       "<style scoped>\n",
       "    .dataframe tbody tr th:only-of-type {\n",
       "        vertical-align: middle;\n",
       "    }\n",
       "\n",
       "    .dataframe tbody tr th {\n",
       "        vertical-align: top;\n",
       "    }\n",
       "\n",
       "    .dataframe thead th {\n",
       "        text-align: right;\n",
       "    }\n",
       "</style>\n",
       "<table border=\"1\" class=\"dataframe\">\n",
       "  <thead>\n",
       "    <tr style=\"text-align: right;\">\n",
       "      <th></th>\n",
       "      <th>0</th>\n",
       "    </tr>\n",
       "  </thead>\n",
       "  <tbody>\n",
       "    <tr>\n",
       "      <th>count</th>\n",
       "      <td>100000.000000</td>\n",
       "    </tr>\n",
       "    <tr>\n",
       "      <th>mean</th>\n",
       "      <td>1.632990</td>\n",
       "    </tr>\n",
       "    <tr>\n",
       "      <th>std</th>\n",
       "      <td>1.651133</td>\n",
       "    </tr>\n",
       "    <tr>\n",
       "      <th>min</th>\n",
       "      <td>0.000000</td>\n",
       "    </tr>\n",
       "    <tr>\n",
       "      <th>25%</th>\n",
       "      <td>0.000000</td>\n",
       "    </tr>\n",
       "    <tr>\n",
       "      <th>50%</th>\n",
       "      <td>1.000000</td>\n",
       "    </tr>\n",
       "    <tr>\n",
       "      <th>75%</th>\n",
       "      <td>2.000000</td>\n",
       "    </tr>\n",
       "    <tr>\n",
       "      <th>max</th>\n",
       "      <td>14.000000</td>\n",
       "    </tr>\n",
       "  </tbody>\n",
       "</table>\n",
       "</div>"
      ],
      "text/plain": [
       "                   0\n",
       "count  100000.000000\n",
       "mean        1.632990\n",
       "std         1.651133\n",
       "min         0.000000\n",
       "25%         0.000000\n",
       "50%         1.000000\n",
       "75%         2.000000\n",
       "max        14.000000"
      ]
     },
     "execution_count": 30,
     "metadata": {},
     "output_type": "execute_result"
    }
   ],
   "source": [
    "outcomes = np.array([])  #null array to store outcomes\n",
    "\n",
    "# redefine functions to suppress output\n",
    "\n",
    "def place_a_bet(wallet):\n",
    "    # print(\"Place your bet!\")\n",
    "    if wallet == 0:\n",
    "        # print(\"You have no money, get out of my Casino!\")\n",
    "        return(wallet)\n",
    "    else:\n",
    "        wallet = wallet - 1\n",
    "        return(wallet)\n",
    "\n",
    "def make_a_roll(wallet):\n",
    "    \"\"\"Returns my net gain on one bet\"\"\"\n",
    "    # print(\"Roll the die!\")\n",
    "    x = np.random.choice(np.arange(1, 7))  # roll a die once and record the number of spots\n",
    "    if x <= 2:\n",
    "        #print(\"You Lose,  Bummer!\")\n",
    "        return(wallet) # lose the bet\n",
    "    elif x <= 4:\n",
    "        #print(\"You Draw, Take your bet back.\")\n",
    "        wallet = wallet+1\n",
    "        return(wallet) # draw, get bet back\n",
    "    elif x <= 6:\n",
    "        #print(\"You win a dollar!\")\n",
    "        wallet = wallet+2\n",
    "        return (wallet) # win, get bet back and win a dollar!\n",
    "    \n",
    "\n",
    "# Some printing tricks\n",
    "CRED = '\\033[91m'\n",
    "CEND = '\\033[0m'\n",
    "\n",
    "\n",
    "how_many_simulations = 100000\n",
    "\n",
    "for j in range(how_many_simulations):\n",
    "    my_wallet = 1\n",
    "    how_many_throws = 30 \n",
    "\n",
    "    for i in range(how_many_throws):\n",
    "     #   print(\"Amount in my account =:\",my_wallet)\n",
    "        my_wallet = place_a_bet(my_wallet)\n",
    "        my_wallet = make_a_roll(my_wallet)\n",
    "\n",
    "#print(CRED + \"Error, does not compute!\" + CEND)\n",
    "#    print(\"After \",i+1,\" plays\")\n",
    "#    print(CRED + \"Amount in my account =:\",my_wallet,CEND)\n",
    "#    print(\"_______________________\")\n",
    "\n",
    "    outcomes = np.append(outcomes,my_wallet)\n",
    "\n",
    "# build a histogram chart - outcomes is an array\n",
    "\n",
    "import matplotlib.pyplot as plt\n",
    "from scipy.stats import gamma\n",
    "\n",
    "#ax.hist(r, density=True, histtype='stepfilled', alpha=0.2)\n",
    "plt.hist(outcomes, density=True, bins = 20)\n",
    "plt.xlabel(\"Dollars in Gamer's Wallet\")\n",
    "plt.ylabel('Relative Frequency')\n",
    "#### just a data model, gamma distribution ##############\n",
    "# code below adapted from https://docs.scipy.org/doc/scipy/reference/generated/scipy.stats.gamma.html\n",
    "a = 5 # bit of trial and error\n",
    "x = np.linspace(gamma.ppf(0.001, a),gamma.ppf(0.999, a), 1000)\n",
    "plt.plot(x, gamma.pdf(x, a, loc=-1.25, scale=1),'r-', lw=5, alpha=1.0, label='gamma pdf')\n",
    "#########################################################\n",
    "# Render the plot\n",
    "plt.show()\n",
    "\n",
    "#print(\"Expected value of wallet (mean) =: \",outcomes.mean())\n",
    "\n",
    "import pandas as pd\n",
    "df = pd.DataFrame(outcomes)\n",
    "df.describe()"
   ]
  },
  {
   "cell_type": "markdown",
   "metadata": {},
   "source": [
    "### Simulation\n",
    "\n",
    "Simulation is the process of using a computer to mimic a real experiment or process. \n",
    "In this class, those experiments will almost invariably involve chance.\n",
    "\n",
    "To summarize from: https://www.inferentialthinking.com/chapters/09/3/Simulation.html  \n",
    "\n",
    "- Step 1: What to Simulate: Specify the quantity you want to simulate. For example, you might decide that you want to simulate the outcomes of tosses of a coin.\n",
    "\n",
    "- Step 2: Simulating One Value: Figure out how to simulate one value of the quantity you specified in Step 1. (usually turn into a function for readability)\n",
    "\n",
    "- Step 3: Number of Repetitions: Decide how many times you want to simulate the quantity. You will have to repeat Step 2 that many times.\n",
    "\n",
    "- Step 4: Coding the Simulation: Put it all together in code.\n",
    "\n",
    "- Step 5: Interpret the results (plots, "
   ]
  },
  {
   "cell_type": "markdown",
   "metadata": {},
   "source": [
    "## Simulation Example\n",
    "\n",
    "Should I change my choice?\n",
    "\n",
    "Based on Monty Hall example from https://youtu.be/Xp6V_lO1ZKA But we already have a small car! \n",
    "(Also watch https://www.youtube.com/watch?v=6Ewq_ytHA7g to learn significance of the small car!)  \n",
    "\n",
    "Consider \n",
    "\n",
    "![](montyhall.png)\n",
    "\n",
    "    \n",
    "The gist of the game is that a contestent chooses a door, the host reveals one of the unselected doors and offers the contestant a chance to change their choice. Should the contestant stick with her initial choice, or switch to the other door? That is the Monty Hall problem.\n",
    "\n",
    "Using classical probability theory it is straightforward to show that:\n",
    " \n",
    "- The chance that the car is behind the originally chosen door is 1/3.\n",
    "- After Monty opens the door with the goat, the chance distribution changes. \n",
    "- If the contestant switches the decision, he/she doubles the chance.\n",
    "\n",
    "Suppose we have harder situations, can we use this simple problem to learn how to ask complex questions?"
   ]
  },
  {
   "cell_type": "code",
   "execution_count": 233,
   "metadata": {},
   "outputs": [],
   "source": [
    "import numpy as np\n",
    "import pandas as pd\n",
    "import matplotlib.pyplot as plt  \n",
    "\n",
    "def othergoat(x):         #Define a function to return \"the other goat\"!\n",
    "    if x == \"Goat 1\":\n",
    "        return \"Goat 2\"\n",
    "    elif x == \"Goat 2\":\n",
    "        return \"Goat 1\"\n",
    "\n",
    "Doors = np.array([\"Car\",\"Goat 1\",\"Goat 2\"])     #Define a list for objects behind the doors\n",
    "goats = np.array([\"Goat 1\" , \"Goat 2\"])          #Define a list for goats!\n",
    "\n",
    "def MHgame():\n",
    "    #Function to simulate the Monty Hall Game\n",
    "    #For each guess, return [\"the guess\",\"the revealed\", \"the remaining\"]\n",
    "    userguess=np.random.choice(Doors)         #randomly selects a door as userguess\n",
    "    if userguess == \"Goat 1\":\n",
    "        return [userguess, \"Goat 2\",\"Car\"]\n",
    "    if userguess == \"Goat 2\":\n",
    "        return [userguess, \"Goat 1\",\"Car\"]\n",
    "    if userguess == \"Car\":\n",
    "        revealed = np.random.choice(goats)\n",
    "        return [userguess, revealed,othergoat(revealed)]"
   ]
  },
  {
   "cell_type": "code",
   "execution_count": 234,
   "metadata": {},
   "outputs": [
    {
     "name": "stdout",
     "output_type": "stream",
     "text": [
      "['Car', 'Goat 1', 'Goat 2']\n",
      "Car\n",
      "Goat 1\n",
      "Goat 2\n"
     ]
    }
   ],
   "source": [
    "# Check and see if the MHgame function is doing what it is supposed to do:\n",
    "for i in np.arange(1):\n",
    "    a =MHgame()\n",
    "    print(a)\n",
    "    print(a[0])\n",
    "    print(a[1])\n",
    "    print(a[2])"
   ]
  },
  {
   "cell_type": "code",
   "execution_count": 235,
   "metadata": {},
   "outputs": [],
   "source": [
    "c1 = []         #Create an empty list for the userguess\n",
    "c2 = []         #Create an empty list for the revealed\n",
    "c3 = []         #Create an empty list for the remaining\n",
    "\n",
    "how_many_games = 1000\n",
    "\n",
    "for i in np.arange(how_many_games):         #Simulate the game for 1000 rounds - or any other number of rounds you desire\n",
    "    game = MHgame()\n",
    "    c1.append(game[0])             #In each round, add the first element to the userguess list\n",
    "    c2.append(game[1])             #In each round, add the second element to the revealed list\n",
    "    c3.append(game[2])             #In each round, add the third element to the remaining list"
   ]
  },
  {
   "cell_type": "code",
   "execution_count": 236,
   "metadata": {},
   "outputs": [
    {
     "data": {
      "text/html": [
       "<div>\n",
       "<style scoped>\n",
       "    .dataframe tbody tr th:only-of-type {\n",
       "        vertical-align: middle;\n",
       "    }\n",
       "\n",
       "    .dataframe tbody tr th {\n",
       "        vertical-align: top;\n",
       "    }\n",
       "\n",
       "    .dataframe thead th {\n",
       "        text-align: right;\n",
       "    }\n",
       "</style>\n",
       "<table border=\"1\" class=\"dataframe\">\n",
       "  <thead>\n",
       "    <tr style=\"text-align: right;\">\n",
       "      <th></th>\n",
       "      <th>Guess</th>\n",
       "      <th>Revealed</th>\n",
       "      <th>Remaining</th>\n",
       "    </tr>\n",
       "  </thead>\n",
       "  <tbody>\n",
       "    <tr>\n",
       "      <th>0</th>\n",
       "      <td>Goat 2</td>\n",
       "      <td>Goat 1</td>\n",
       "      <td>Car</td>\n",
       "    </tr>\n",
       "    <tr>\n",
       "      <th>1</th>\n",
       "      <td>Car</td>\n",
       "      <td>Goat 2</td>\n",
       "      <td>Goat 1</td>\n",
       "    </tr>\n",
       "    <tr>\n",
       "      <th>2</th>\n",
       "      <td>Goat 2</td>\n",
       "      <td>Goat 1</td>\n",
       "      <td>Car</td>\n",
       "    </tr>\n",
       "    <tr>\n",
       "      <th>3</th>\n",
       "      <td>Car</td>\n",
       "      <td>Goat 1</td>\n",
       "      <td>Goat 2</td>\n",
       "    </tr>\n",
       "    <tr>\n",
       "      <th>4</th>\n",
       "      <td>Goat 2</td>\n",
       "      <td>Goat 1</td>\n",
       "      <td>Car</td>\n",
       "    </tr>\n",
       "    <tr>\n",
       "      <th>...</th>\n",
       "      <td>...</td>\n",
       "      <td>...</td>\n",
       "      <td>...</td>\n",
       "    </tr>\n",
       "    <tr>\n",
       "      <th>995</th>\n",
       "      <td>Car</td>\n",
       "      <td>Goat 2</td>\n",
       "      <td>Goat 1</td>\n",
       "    </tr>\n",
       "    <tr>\n",
       "      <th>996</th>\n",
       "      <td>Goat 2</td>\n",
       "      <td>Goat 1</td>\n",
       "      <td>Car</td>\n",
       "    </tr>\n",
       "    <tr>\n",
       "      <th>997</th>\n",
       "      <td>Goat 2</td>\n",
       "      <td>Goat 1</td>\n",
       "      <td>Car</td>\n",
       "    </tr>\n",
       "    <tr>\n",
       "      <th>998</th>\n",
       "      <td>Goat 2</td>\n",
       "      <td>Goat 1</td>\n",
       "      <td>Car</td>\n",
       "    </tr>\n",
       "    <tr>\n",
       "      <th>999</th>\n",
       "      <td>Goat 1</td>\n",
       "      <td>Goat 2</td>\n",
       "      <td>Car</td>\n",
       "    </tr>\n",
       "  </tbody>\n",
       "</table>\n",
       "<p>1000 rows × 3 columns</p>\n",
       "</div>"
      ],
      "text/plain": [
       "      Guess Revealed Remaining\n",
       "0    Goat 2   Goat 1       Car\n",
       "1       Car   Goat 2    Goat 1\n",
       "2    Goat 2   Goat 1       Car\n",
       "3       Car   Goat 1    Goat 2\n",
       "4    Goat 2   Goat 1       Car\n",
       "..      ...      ...       ...\n",
       "995     Car   Goat 2    Goat 1\n",
       "996  Goat 2   Goat 1       Car\n",
       "997  Goat 2   Goat 1       Car\n",
       "998  Goat 2   Goat 1       Car\n",
       "999  Goat 1   Goat 2       Car\n",
       "\n",
       "[1000 rows x 3 columns]"
      ]
     },
     "execution_count": 236,
     "metadata": {},
     "output_type": "execute_result"
    }
   ],
   "source": [
    "#Create a data frame (gamedf) with 3 columns (\"Guess\",\"Revealed\", \"Remaining\") and 1000 (or how many number of rounds) rows\n",
    "gamedf = pd.DataFrame({'Guess':c1,\n",
    "                       'Revealed':c2,\n",
    "                       'Remaining':c3})\n",
    "gamedf"
   ]
  },
  {
   "cell_type": "code",
   "execution_count": 237,
   "metadata": {},
   "outputs": [],
   "source": [
    "# Get the count of each item in the first and 3rd column\n",
    "original_car =gamedf[gamedf.Guess == 'Car'].shape[0]\n",
    "remaining_car =gamedf[gamedf.Remaining == 'Car'].shape[0]\n",
    "\n",
    "original_g1 =gamedf[gamedf.Guess == 'Goat 1'].shape[0]\n",
    "remaining_g1 =gamedf[gamedf.Remaining == 'Goat 1'].shape[0]\n",
    "\n",
    "original_g2 =gamedf[gamedf.Guess == 'Goat 2'].shape[0]\n",
    "remaining_g2 =gamedf[gamedf.Remaining == 'Goat 2'].shape[0]"
   ]
  },
  {
   "cell_type": "code",
   "execution_count": 238,
   "metadata": {},
   "outputs": [
    {
     "data": {
      "image/png": "[encoded data removed]",
      "text/plain": [
       "<Figure size 432x288 with 1 Axes>"
      ]
     },
     "metadata": {
      "needs_background": "light"
     },
     "output_type": "display_data"
    }
   ],
   "source": [
    "# Let's plot a grouped barplot\n",
    "\n",
    "# set width of bar\n",
    "barWidth = 0.25\n",
    " \n",
    "# set height of bar\n",
    "bars1 = [original_car,original_g1,original_g2]\n",
    "bars2 = [remaining_car,remaining_g1,remaining_g2]\n",
    " \n",
    "# Set position of bar on X axis\n",
    "r1 = np.arange(len(bars1))\n",
    "r2 = [x + barWidth for x in r1]\n",
    " \n",
    "# Make the plot\n",
    "plt.bar(r1, bars1, color='darkorange', width=barWidth, edgecolor='white', label='Original Guess')\n",
    "plt.bar(r2, bars2, color='midnightblue', width=barWidth, edgecolor='white', label='Remaining Door')\n",
    " \n",
    "# Add xticks on the middle of the group bars\n",
    "plt.xlabel('Item', fontweight='bold')\n",
    "plt.xticks([r + barWidth/2 for r in range(len(bars1))], ['Car', 'Goat 1', 'Goat 2'])\n",
    " \n",
    "# Create legend & Show graphic\n",
    "plt.legend()\n",
    "plt.show()"
   ]
  },
  {
   "cell_type": "markdown",
   "metadata": {},
   "source": [
    "### Interpret Results\n",
    "\n",
    "<font color=crimson>__According to the plot, it is beneficial for the players to switch doors because the initial chance for being correct is only 1/3__</font>\n",
    "\n",
    "Does changing doors have a CAUSAL effect on outcome?"
   ]
  },
  {
   "cell_type": "markdown",
   "metadata": {},
   "source": [
    "References\n",
    "\n",
    "Ford, Martin. 2009 The Lights in the Tunnel: Automation, Accelerating Technology and the Economy of the Future (p. 107). Acculant Publishing. Kindle Edition. \n",
    "\n",
    "Computational and Inferential Thinking: The Foundations of Data Science. By Ani Adhikari and John DeNero, with Contributions by David Wagner and Henry Milner.  Creative Commons Attribution-NonCommercial-NoDerivatives 4.0 International (CC BY-NC-ND 4.0)."
   ]
  },
  {
   "cell_type": "code",
   "execution_count": null,
   "metadata": {},
   "outputs": [],
   "source": []
  }
 ],
 "metadata": {
  "kernelspec": {
   "display_name": "Python 38",
   "language": "python",
   "name": "python38"
  },
  "language_info": {
   "codemirror_mode": {
    "name": "ipython",
    "version": 3
   },
   "file_extension": ".py",
   "mimetype": "text/x-python",
   "name": "python",
   "nbconvert_exporter": "python",
   "pygments_lexer": "ipython3",
   "version": "3.8.3"
  }
 },
 "nbformat": 4,
 "nbformat_minor": 4
}
