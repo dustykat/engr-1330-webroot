{
 "cells": [
  {
   "cell_type": "code",
   "execution_count": null,
   "metadata": {},
   "outputs": [],
   "source": [
    "## Apply our tool to different data\n",
    "import pandas\n",
    "import numpy\n",
    "population = []\n",
    "for i in range(0,101,1):\n",
    "    population.append(i)\n",
    "sample = numpy.random.choice(population,25)\n",
    "# sort the sample in place!\n",
    "sample.sort()\n",
    "# built a relative frequency approximation to probability, assume each pick is equally likely\n",
    "weibull_pp = []\n",
    "for i in range(0,len(sample),1):\n",
    "    weibull_pp.append((i+1)/(len(sample)+1))\n",
    "    \n",
    "file1 = open(\"MyFile.txt\", \"w\")  \n",
    "for i in range(len(sample)):\n",
    "    file1.writelines([str(sample[i])+' ',str(weibull_pp[i])+'\\n'])\n",
    "file1.close()  "
   ]
  }
 ],
 "metadata": {
  "kernelspec": {
   "display_name": "Python 38",
   "language": "python",
   "name": "python38"
  },
  "language_info": {
   "codemirror_mode": {
    "name": "ipython",
    "version": 3
   },
   "file_extension": ".py",
   "mimetype": "text/x-python",
   "name": "python",
   "nbconvert_exporter": "python",
   "pygments_lexer": "ipython3",
   "version": "3.8.3"
  }
 },
 "nbformat": 4,
 "nbformat_minor": 4
}
