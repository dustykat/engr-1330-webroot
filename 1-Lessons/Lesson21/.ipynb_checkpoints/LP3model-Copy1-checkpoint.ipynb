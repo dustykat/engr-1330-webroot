{
 "cells": [
  {
   "cell_type": "markdown",
   "metadata": {},
   "source": [
    "# Jupyter Notebook for 0-6977\n",
    "The scripts below illustrate using results of PeakFQ to estimate aribtiary quantiles, for LP3 distribution model.  These are intended for pedagogical (training) purposes.\n",
    "\n",
    "## The LP3 model\n",
    "\n",
    "The Pearson Type 3 data model can be expressed using the Gamma Cumulative Density function as:\n",
    "\n",
    "$$ F(X) = 1.0 - \\int_{-\\infty}^{X}{\\frac{(\\frac{x-\\tau}{\\beta})^{\\alpha - 1} exp(-(\\frac{x-\\tau}{\\beta}))}{|\\beta|\\Gamma(\\alpha)} dx} $$\n",
    "\n",
    "where $F(X)$ is the quantile (exceedence probability) associated with the value $X$, and \n",
    "\n",
    "- $\\alpha = \\frac{4}{\\gamma}$\n",
    "- $\\beta = sign(\\gamma)\\sqrt{\\frac{\\sigma^2}{\\alpha}}$\n",
    "- $\\tau = \\mu - \\alpha \\beta$\n",
    "\n",
    "the values of $\\mu$,$\\sigma$,$\\gamma$ are sourced from the PeakFQ output as the mean, standard deviation, and skew, respectively as depicted in the figure below:\n",
    "\n",
    "![](PeakFQ.png)\n",
    "\n",
    "The remainder of this notebook, uses the quantile function above to estimate discharge values $X$ associated with arbitrary exceedence probabilities $F(X)$\n",
    "\n",
    "The first script block below: \n",
    "\n",
    "- Resets the notebook (clears the workspace)\n",
    "- Imports necessary packages (these should be available with ordinary Anaconda install)\n",
    "- Defines a few auxiliary functions"
   ]
  },
  {
   "cell_type": "code",
   "execution_count": 2,
   "metadata": {},
   "outputs": [],
   "source": [
    "%reset -f\n",
    "import pandas\n",
    "import scipy.stats # import scipy stats package\n",
    "import math        # import math package\n",
    "import numpy       # import numpy package\n",
    "import matplotlib.pyplot # the python plotting library\n",
    "# log and antilog\n",
    "def loggit(x):  # A prototype function to log10 transform x\n",
    "    return(math.log10(x))\n",
    "def antiloggit(x):  # A prototype function to inverse transform log10 x\n",
    "    return(10**(x))\n",
    "# plotting position functions\n",
    "def weibull_pp(sample): # plotting position function\n",
    "# returns a list of plotting positions; sample must be a numeric list\n",
    "    weibull_pp = [] # null list to return after fill\n",
    "    sample.sort(reverse=True) # sort the sample list in place\n",
    "    for i in range(0,len(sample),1):\n",
    "        weibull_pp.append((i+1)/(len(sample)+1))\n",
    "    return weibull_pp\n",
    "# LP3-core model\n",
    "def gammacdf(x,tau,alpha,beta): # Gamma Cumulative Density function - with three parameter to one parameter convert\n",
    "    xhat = x-tau\n",
    "    lamda = 1.0/beta\n",
    "    gammacdf = scipy.stats.gamma.cdf(lamda*xhat, alpha)\n",
    "    return gammacdf"
   ]
  },
  {
   "cell_type": "markdown",
   "metadata": {},
   "source": [
    "The script block below reads in the observations; it is not necessary but is included to make a graphic later. The graphic is useful to make initial guesses for the quantile finder."
   ]
  },
  {
   "cell_type": "code",
   "execution_count": 3,
   "metadata": {},
   "outputs": [],
   "source": [
    "observations = pandas.read_csv('guadelupe.txt')  #Reading a .csv file\n",
    "#observations.head() #examine structure just read\n",
    "sample = observations['Peak'].apply(loggit).tolist() # put the log peaks into a list\n",
    "plotting = weibull_pp(sample)"
   ]
  },
  {
   "cell_type": "markdown",
   "metadata": {},
   "source": [
    "This block uses values from PeakFQ to parameterize a LP3 distribution model, then build a set of values for plotting."
   ]
  },
  {
   "cell_type": "code",
   "execution_count": 4,
   "metadata": {},
   "outputs": [],
   "source": [
    "# all in log space\n",
    "model_mean  = 4.0289\n",
    "model_stdev = 0.7144\n",
    "model_skew  = -0.507 # scipy.stats.skew(sample)\n",
    "model_alpha = 4.0/(model_skew**2)\n",
    "model_beta  = numpy.sign(model_skew)*math.sqrt(model_stdev**2/model_alpha)\n",
    "model_tau   = model_mean - model_alpha*model_beta\n",
    "\n",
    "xmodel = []; ymodelcdf = []\n",
    "#xlow = (1); xhigh = (12) ; howMany = 100\n",
    "xlow = (0.9*min(sample)); xhigh = (1.1*max(sample)) ; howMany = 100\n",
    "xstep = (xhigh - xlow)/howMany\n",
    "for i in range(0,howMany+1,1):\n",
    "    xmodel.append(xlow + i*xstep)\n",
    "    yvalue = 1.0 - gammacdf(xlow + i*xstep,model_tau,model_alpha,model_beta) # exceedence probabilities\n",
    "    ymodelcdf.append(yvalue) "
   ]
  },
  {
   "cell_type": "markdown",
   "metadata": {},
   "source": [
    "The next block builds a plot; blue markers originate from the annual peak file from the NWIS website, the red curve is the LP3 distribution model."
   ]
  },
  {
   "cell_type": "code",
   "execution_count": 25,
   "metadata": {},
   "outputs": [
    {
     "data": {
      "image/png": "[encoded data removed]",
      "text/plain": [
       "<Figure size 648x432 with 1 Axes>"
      ]
     },
     "metadata": {
      "needs_background": "light"
     },
     "output_type": "display_data"
    }
   ],
   "source": [
    "sample.sort() \n",
    "# inverse transform the peaks, and the data model peaks\n",
    "psample = []\n",
    "for i in range(len(sample)):\n",
    "    psample.append(antiloggit(sample[i]))\n",
    "x = [] #null list for plotting\n",
    "for i in range(len(xmodel)):\n",
    "    x.append(antiloggit(xmodel[i]))\n",
    "myfigure = matplotlib.pyplot.figure(figsize = (9,6)) # generate a object from the figure class, set aspect ratio\n",
    "matplotlib.pyplot.yscale('log')\n",
    "#matplotlib.pyplot.xscale('log')\n",
    "matplotlib.pyplot.scatter(plotting, psample ,color ='blue') \n",
    "matplotlib.pyplot.plot(ymodelcdf, x, color ='red')\n",
    "matplotlib.pyplot.xlabel(\"Quantile Value\") \n",
    "matplotlib.pyplot.ylabel(\"Value of RV\") \n",
    "mytitle = \"Log Pearson Type III Distribution Data Model\\n \"\n",
    "mytitle += \"Mean = \" + str((model_mean)) + \"\\n\"\n",
    "mytitle += \"SD = \" + str((model_stdev)) + \"\\n\"\n",
    "mytitle += \"Skew = \" + str((model_skew)) + \"\\n\"\n",
    "#mytitle += \"Mean = \" + str(antiloggit(model_mean)) + \"\\n\"\n",
    "#mytitle += \"SD = \" + str(antiloggit(model_stdev)) + \"\\n\"\n",
    "#mytitle += \"Skew = \" + str(1-antiloggit(model_skew)) + \"\\n\"\n",
    "matplotlib.pyplot.title(mytitle) \n",
    "matplotlib.pyplot.show()"
   ]
  },
  {
   "cell_type": "markdown",
   "metadata": {},
   "source": [
    "Ths block below is where arbitrary quantiles can be found, the script uses Newton's method to equate a discharge value with a quantile.  It takes some analyst input to make a good initial guess, hence the plot."
   ]
  },
  {
   "cell_type": "code",
   "execution_count": 30,
   "metadata": {},
   "outputs": [
    {
     "name": "stdin",
     "output_type": "stream",
     "text": [
      "Enter Sample/Station Mean 4.0289\n",
      "Enter Sample/Station Std. Deviation 0.7144\n",
      "Enter Sample/Station GenSkew -0.507\n",
      "Enter a desired exceedence probability 0.01\n",
      "Enter a discharge guess, (the mean model value is 10688.09 ) 10200\n"
     ]
    },
    {
     "name": "stdout",
     "output_type": "stream",
     "text": [
      "Estimated discharge at AEP  0.01 is  264013.5  L3/T \n"
     ]
    }
   ],
   "source": [
    "# quantile finder\n",
    "import math # import math package\n",
    "import scipy.stats # import scipy stats package\n",
    "import scipy.optimize # import newton's method \n",
    "def loggit(x):  # A prototype function to log10 transform x\n",
    "    return(math.log10(x))\n",
    "def gammacdf(x,tau,alpha,beta): # Gamma Cumulative Density function - with three parameter to one parameter convert\n",
    "    xhat = x-tau\n",
    "    lamda = 1.0/beta\n",
    "    gammacdf = scipy.stats.gamma.cdf(lamda*xhat, alpha)\n",
    "    return gammacdf\n",
    "def f(x): # A prototype function to find x such that f(x)->0\n",
    "    global quantile\n",
    "    argument = loggit(x)\n",
    "    gammavalue = gammacdf(argument,model_tau,model_alpha,model_beta)\n",
    "    return gammavalue - quantile\n",
    "# below all in log space\n",
    "model_mean  = float(input(\"Enter Sample/Station Mean\")) # example = 4.0289\n",
    "model_stdev = float(input(\"Enter Sample/Station Std. Deviation\")) # example = 0.7144\n",
    "model_skew  = float(input(\"Enter Sample/Station GenSkew\"))# example -0.507\n",
    "# gamma equivalents                    \n",
    "model_alpha = 4.0/(model_skew**2)\n",
    "model_beta  = numpy.sign(model_skew)*math.sqrt(model_stdev**2/model_alpha)\n",
    "model_tau   = model_mean - model_alpha*model_beta\n",
    "# quantile finder\n",
    "quantile = float(input(\"Enter a desired exceedence probability\"))\n",
    "prompt = \"Enter a discharge guess, (the mean model value is \" + str(round(10**model_mean,2)) + \" )\"\n",
    "myguess =  float(input(prompt))\n",
    "myanswer = scipy.optimize.newton(f, myguess)\n",
    "print(\"Estimated discharge at AEP \",round(quantile,3),\"is \",round(myanswer,1),\" L3/T \")"
   ]
  },
  {
   "cell_type": "markdown",
   "metadata": {},
   "source": [
    "## Readings\n",
    "\n",
    "1. England, J.F., Jr., Cohn, T.A., Faber, B.A., Stedinger, J.R., Thomas, W.O., Jr., Veilleux, A.G., Kiang, J.E., and Mason, R.R., Jr., 2018, Guidelines for determining flood flow frequency—Bulletin 17C (ver. 1.1, May 2019): U.S. Geological Survey Techniques and Methods, book 4, chap. B5, 148 p., [https://doi.org/10.3133/tm4B5](https://doi.org/10.3133/tm4B5.).\n"
   ]
  },
  {
   "cell_type": "code",
   "execution_count": null,
   "metadata": {},
   "outputs": [],
   "source": []
  }
 ],
 "metadata": {
  "kernelspec": {
   "display_name": "Python 3",
   "language": "python",
   "name": "python3"
  },
  "language_info": {
   "codemirror_mode": {
    "name": "ipython",
    "version": 3
   },
   "file_extension": ".py",
   "mimetype": "text/x-python",
   "name": "python",
   "nbconvert_exporter": "python",
   "pygments_lexer": "ipython3",
   "version": "3.8.10"
  }
 },
 "nbformat": 4,
 "nbformat_minor": 4
}
