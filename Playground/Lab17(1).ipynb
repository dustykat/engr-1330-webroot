{
 "cells": [
  {
   "cell_type": "markdown",
   "metadata": {},
   "source": [
    "**Download** (right-click, save target as ...) this page as a jupyterlab notebook from: [Lab17](http://54.243.252.9/engr-1330-webroot/8-Labs/Lab17/Lab17.ipynb)\n",
    "\n",
    "___"
   ]
  },
  {
   "cell_type": "markdown",
   "metadata": {},
   "source": [
    "# <font color=darkgreen>Laboratory 17: Descriptive Statistics </font>\n",
    "\n",
    "Lewis, Toni\n",
    "\n",
    "R11635938\n",
    "\n",
    "ENGR 1330 Laboratory 17 - In-Lab\n"
   ]
  },
  {
   "cell_type": "markdown",
   "metadata": {},
   "source": [
    "# <font color=purple>Descriptive Statistics with Python</font>"
   ]
  },
  {
   "cell_type": "markdown",
   "metadata": {},
   "source": [
    "<img src=\"https://sd.keepcalms.com/i/keep-calm-and-study-descriptive-statistics.png\" width=\"300\" align=\"right\">\n",
    "\n",
    "A fundamental part of working with data is describing it. Descriptive statistics help simplify and summarize large amounts of data in a sensible manner. In this lecture, we will discuss descriptive statistics and cover a variety of methods for summarizing, describing, and representing datasets in Python. The contents of this notebook are inspired by various online resources including the following links:\n",
    "\n",
    "- \"Descriptive statistics with Python-NumPy\" by Rashmi Jain, available @ https://www.hackerearth.com/blog/developers/descriptive-statistics-python-numpy/.\n",
    "\n",
    "- \"Python Statistics Fundamentals: How to Describe Your Data\" by *Mirko Stojiljković *, available @ https://realpython.com/python-statistics/.\n",
    "\n",
    "- \"A Quick Guide on Descriptive Statistics using Pandas and Seaborn\" by Bee Guan Teo, available @ https://towardsdatascience.com/a-quick-guide-on-descriptive-statistics-using-pandas-and-seaborn-2aadc7395f32.\n",
    "\n",
    "- \"Tutorial: Basic Statistics in Python — Descriptive Statistics\" , available @ https://www.dataquest.io/blog/basic-statistics-with-python-descriptive-statistics/.\n"
   ]
  },
  {
   "cell_type": "markdown",
   "metadata": {},
   "source": [
    "## Example (from Lesson 15)\n",
    "\n",
    "We will use the __\"HighestGrossingMovies.csv\"__ dataset as an illustrative example. Let's have a look at it first."
   ]
  },
  {
   "cell_type": "code",
   "execution_count": 1,
   "metadata": {},
   "outputs": [],
   "source": [
    "######### CODE TO AUTOMATICALLY DOWNLOAD THE DATABASE ################\n",
    "#! pip install requests #install packages into local environment\n",
    "import requests # import needed modules to interact with the internet\n",
    "# make the connection to the remote file (actually its implementing \"bash curl -O http://fqdn/path ...\")\n",
    "remote_url = 'http://54.243.252.9/engr-1330-webroot/4-Databases/HighestGrossingMovies.csv' # a csv file\n",
    "response = requests.get(remote_url) # Gets the file contents puts into an object\n",
    "output = open('HighestGrossingMovies.csv', 'wb') # Prepare a destination, local\n",
    "output.write(response.content) # write contents of object to named local file\n",
    "output.close() # close the connection"
   ]
  },
  {
   "cell_type": "code",
   "execution_count": 2,
   "metadata": {},
   "outputs": [],
   "source": [
    "#Import the necessary external packages\n",
    "import numpy as np\n",
    "import pandas as pd"
   ]
  },
  {
   "cell_type": "code",
   "execution_count": 3,
   "metadata": {},
   "outputs": [
    {
     "data": {
      "text/html": [
       "<div>\n",
       "<style scoped>\n",
       "    .dataframe tbody tr th:only-of-type {\n",
       "        vertical-align: middle;\n",
       "    }\n",
       "\n",
       "    .dataframe tbody tr th {\n",
       "        vertical-align: top;\n",
       "    }\n",
       "\n",
       "    .dataframe thead th {\n",
       "        text-align: right;\n",
       "    }\n",
       "</style>\n",
       "<table border=\"1\" class=\"dataframe\">\n",
       "  <thead>\n",
       "    <tr style=\"text-align: right;\">\n",
       "      <th></th>\n",
       "      <th>Movie</th>\n",
       "      <th>Director</th>\n",
       "      <th>Year</th>\n",
       "      <th>Budget_million$</th>\n",
       "      <th>Gross_million$</th>\n",
       "    </tr>\n",
       "  </thead>\n",
       "  <tbody>\n",
       "    <tr>\n",
       "      <th>0</th>\n",
       "      <td>Gone with the Wind</td>\n",
       "      <td>Victor Fleming</td>\n",
       "      <td>1939</td>\n",
       "      <td>3.9</td>\n",
       "      <td>3706</td>\n",
       "    </tr>\n",
       "    <tr>\n",
       "      <th>1</th>\n",
       "      <td>Avatar</td>\n",
       "      <td>James Cameron</td>\n",
       "      <td>2009</td>\n",
       "      <td>237.0</td>\n",
       "      <td>3257</td>\n",
       "    </tr>\n",
       "    <tr>\n",
       "      <th>2</th>\n",
       "      <td>Titanic</td>\n",
       "      <td>James Cameron</td>\n",
       "      <td>1997</td>\n",
       "      <td>200.0</td>\n",
       "      <td>3081</td>\n",
       "    </tr>\n",
       "    <tr>\n",
       "      <th>3</th>\n",
       "      <td>Star Wars</td>\n",
       "      <td>George Lucas</td>\n",
       "      <td>1977</td>\n",
       "      <td>11.0</td>\n",
       "      <td>3043</td>\n",
       "    </tr>\n",
       "    <tr>\n",
       "      <th>4</th>\n",
       "      <td>Avengers: Endgame</td>\n",
       "      <td>Joe &amp; Anthony Russo</td>\n",
       "      <td>2019</td>\n",
       "      <td>356.0</td>\n",
       "      <td>2798</td>\n",
       "    </tr>\n",
       "    <tr>\n",
       "      <th>5</th>\n",
       "      <td>The Sound of Music</td>\n",
       "      <td>Robert Wise</td>\n",
       "      <td>1965</td>\n",
       "      <td>8.2</td>\n",
       "      <td>2549</td>\n",
       "    </tr>\n",
       "    <tr>\n",
       "      <th>6</th>\n",
       "      <td>E.T. the Extra-Terrestrial</td>\n",
       "      <td>Steven Spielberg</td>\n",
       "      <td>1982</td>\n",
       "      <td>10.5</td>\n",
       "      <td>2489</td>\n",
       "    </tr>\n",
       "    <tr>\n",
       "      <th>7</th>\n",
       "      <td>The Ten Commandments</td>\n",
       "      <td>Cecil B. DeMille</td>\n",
       "      <td>1956</td>\n",
       "      <td>13.0</td>\n",
       "      <td>2356</td>\n",
       "    </tr>\n",
       "    <tr>\n",
       "      <th>8</th>\n",
       "      <td>Doctor Zhivago</td>\n",
       "      <td>David Lean</td>\n",
       "      <td>1965</td>\n",
       "      <td>11.0</td>\n",
       "      <td>2233</td>\n",
       "    </tr>\n",
       "    <tr>\n",
       "      <th>9</th>\n",
       "      <td>Star Wars: The Force Awakens</td>\n",
       "      <td>J.J. Abrams</td>\n",
       "      <td>2015</td>\n",
       "      <td>306.0</td>\n",
       "      <td>2202</td>\n",
       "    </tr>\n",
       "  </tbody>\n",
       "</table>\n",
       "</div>"
      ],
      "text/plain": [
       "                          Movie             Director  Year  Budget_million$  \\\n",
       "0            Gone with the Wind       Victor Fleming  1939              3.9   \n",
       "1                        Avatar        James Cameron  2009            237.0   \n",
       "2                       Titanic        James Cameron  1997            200.0   \n",
       "3                     Star Wars         George Lucas  1977             11.0   \n",
       "4             Avengers: Endgame  Joe & Anthony Russo  2019            356.0   \n",
       "5            The Sound of Music          Robert Wise  1965              8.2   \n",
       "6    E.T. the Extra-Terrestrial     Steven Spielberg  1982             10.5   \n",
       "7          The Ten Commandments     Cecil B. DeMille  1956             13.0   \n",
       "8                Doctor Zhivago           David Lean  1965             11.0   \n",
       "9  Star Wars: The Force Awakens          J.J. Abrams  2015            306.0   \n",
       "\n",
       "   Gross_million$  \n",
       "0            3706  \n",
       "1            3257  \n",
       "2            3081  \n",
       "3            3043  \n",
       "4            2798  \n",
       "5            2549  \n",
       "6            2489  \n",
       "7            2356  \n",
       "8            2233  \n",
       "9            2202  "
      ]
     },
     "execution_count": 3,
     "metadata": {},
     "output_type": "execute_result"
    }
   ],
   "source": [
    "Movies = pd.read_csv(\"HighestGrossingMovies.csv\")         #Dataset of the Top10 highest-grossing films as of 2019 (adjusted for inflation)\n",
    "                                                          #5 columns (Movie, Director, Year, Budget, Gross) and 10 rows\n",
    "Movies"
   ]
  },
  {
   "cell_type": "markdown",
   "metadata": {},
   "source": [
    "### <font color=red>Measures of Central Tendency</font>"
   ]
  },
  {
   "cell_type": "markdown",
   "metadata": {},
   "source": [
    "Centrality measures give us an estimate of the center of a distribution and a sense of a typical value we would expect to see. <br>\n",
    "The three major measures of center include __*the mean, median, and mode*__."
   ]
  },
  {
   "cell_type": "markdown",
   "metadata": {},
   "source": [
    "#### <font color=crimson>Mean</font>"
   ]
  },
  {
   "cell_type": "markdown",
   "metadata": {},
   "source": [
    "Arithmetic mean aka average is the sum of all the values, divided by the number of values. \n",
    "\n",
    "$\\bar x= \\sum_{i=1}^{n} x_i $\n",
    "\n",
    "Let's calculate the average budget of the Top10 highest-grossing films. "
   ]
  },
  {
   "cell_type": "code",
   "execution_count": 4,
   "metadata": {},
   "outputs": [
    {
     "data": {
      "text/plain": [
       "0      3.9\n",
       "1    237.0\n",
       "2    200.0\n",
       "3     11.0\n",
       "4    356.0\n",
       "5      8.2\n",
       "6     10.5\n",
       "7     13.0\n",
       "8     11.0\n",
       "9    306.0\n",
       "Name: Budget_million$, dtype: float64"
      ]
     },
     "execution_count": 4,
     "metadata": {},
     "output_type": "execute_result"
    }
   ],
   "source": [
    "Budget = Movies['Budget_million$']\n",
    "Budget"
   ]
  },
  {
   "cell_type": "markdown",
   "metadata": {},
   "source": [
    "We can use primitive python to calculate the mean of set of numbers:"
   ]
  },
  {
   "cell_type": "code",
   "execution_count": 5,
   "metadata": {},
   "outputs": [
    {
     "name": "stdout",
     "output_type": "stream",
     "text": [
      "The average budget of the Top10 highest-grossing films is  115.66 million USD\n"
     ]
    }
   ],
   "source": [
    "# Create a list of all the numbers:\n",
    "budget = [3.9,237,200,11,356,8.2,10.5,13,11,306]\n",
    "mean1 = sum(budget) / len(budget)\n",
    "print(\"The average budget of the Top10 highest-grossing films is \",mean1,\"million USD\")"
   ]
  },
  {
   "cell_type": "markdown",
   "metadata": {},
   "source": [
    "We can also utilize a variety of external libraries. (You may find some of them familiar!)"
   ]
  },
  {
   "cell_type": "code",
   "execution_count": 6,
   "metadata": {},
   "outputs": [],
   "source": [
    "# The usual suspects!\n",
    "import numpy as np\n",
    "import pandas as pd\n",
    "# Also, these two libraries offer useful functions for descriptive statistics\n",
    "import statistics\n",
    "import scipy.stats"
   ]
  },
  {
   "cell_type": "code",
   "execution_count": 7,
   "metadata": {},
   "outputs": [
    {
     "name": "stdout",
     "output_type": "stream",
     "text": [
      "The average budget of the Top10 highest-grossing films is  115.66 million USD\n"
     ]
    }
   ],
   "source": [
    "# Read the column of interest from the Movies dataframe\n",
    "Budget = Movies['Budget_million$']\n",
    "# Use the mean function from the Pandas library\n",
    "mean2 = Budget.mean()\n",
    "print(\"The average budget of the Top10 highest-grossing films is \",mean2,\"million USD\")"
   ]
  },
  {
   "cell_type": "code",
   "execution_count": 8,
   "metadata": {},
   "outputs": [
    {
     "name": "stdout",
     "output_type": "stream",
     "text": [
      "The average budget of the Top10 highest-grossing films is  115.66 million USD\n"
     ]
    }
   ],
   "source": [
    "# Read the column of interest from the Movies dataframe\n",
    "Budget = Movies['Budget_million$']\n",
    "# Use the mean function from the Numpy library\n",
    "mean3 = np.mean(Budget)\n",
    "print(\"The average budget of the Top10 highest-grossing films is \",mean3,\"million USD\")"
   ]
  },
  {
   "cell_type": "code",
   "execution_count": 9,
   "metadata": {},
   "outputs": [
    {
     "name": "stdout",
     "output_type": "stream",
     "text": [
      "The average budget of the Top10 highest-grossing films is  115.66 million USD\n"
     ]
    }
   ],
   "source": [
    "# Read the column of interest from the Movies dataframe\n",
    "Budget = Movies['Budget_million$']\n",
    "# Use the mean function from the statistics library\n",
    "mean4 = statistics.mean(Budget)\n",
    "print(\"The average budget of the Top10 highest-grossing films is \",mean4,\"million USD\")"
   ]
  },
  {
   "cell_type": "markdown",
   "metadata": {},
   "source": [
    "#### <font color=crimson>Harmonic Mean</font>"
   ]
  },
  {
   "cell_type": "markdown",
   "metadata": {},
   "source": [
    "The harmonic mean is the reciprocal of the mean of the reciprocals of all items in the dataset.\n",
    "\n",
    "$ H = \\frac{n}{\\sum_{i=1}^{n} (\\frac{1}{x_i})} $\n",
    "\n",
    "Let's calculate the harmonic mean for the same set of numbers:"
   ]
  },
  {
   "cell_type": "code",
   "execution_count": 10,
   "metadata": {},
   "outputs": [
    {
     "name": "stdout",
     "output_type": "stream",
     "text": [
      "The harmonic mean of the budget of the Top10 highest-grossing films is  13.38 million USD\n",
      "The harmonic mean of the budget of the Top10 highest-grossing films is  13.38 million USD\n",
      "The harmonic mean of the budget of the Top10 highest-grossing films is  13.38 million USD\n"
     ]
    }
   ],
   "source": [
    "# Primitive Python:\n",
    "budget = [3.9,237,200,11,356,8.2,10.5,13,11,306]\n",
    "hmean1 = len(budget) / sum(1 / item for item in budget)\n",
    "hmean1 = round(hmean1,2)\n",
    "print(\"The harmonic mean of the budget of the Top10 highest-grossing films is \",hmean1,\"million USD\")\n",
    "\n",
    "# via the Statistics library:\n",
    "Budget = Movies['Budget_million$']\n",
    "hmean2 = statistics.harmonic_mean(Budget)\n",
    "hmean2 = round(hmean2,2)\n",
    "print(\"The harmonic mean of the budget of the Top10 highest-grossing films is \",hmean2,\"million USD\")\n",
    "\n",
    "# via the scipy.stats library:\n",
    "Budget = Movies['Budget_million$']\n",
    "hmean3 = scipy.stats.hmean(Budget)\n",
    "hmean3 = round(hmean3,2)\n",
    "print(\"The harmonic mean of the budget of the Top10 highest-grossing films is \",hmean3,\"million USD\")"
   ]
  },
  {
   "cell_type": "markdown",
   "metadata": {},
   "source": [
    "#### <font color=crimson>Geometric Mean</font>"
   ]
  },
  {
   "cell_type": "markdown",
   "metadata": {},
   "source": [
    "The geometric mean is the 𝑛-th root of the product of all 𝑛 elements 𝑥ᵢ in a dataset.\n",
    "\n",
    "$ (\\Pi_{i=1}^{n} a_i)^{1/n} = \\sqrt[\\leftroot{-2}\\uproot{2}n]{a_1 a_2 a_3 ... a_n}$\n",
    "\n",
    "\n",
    "Let's calculate the geometric mean for the same set of numbers:"
   ]
  },
  {
   "cell_type": "code",
   "execution_count": 11,
   "metadata": {},
   "outputs": [
    {
     "name": "stdout",
     "output_type": "stream",
     "text": [
      "The geometric mean of the budget of the Top10 highest-grossing films is  34.96 million USD\n",
      "The geometric mean of the budget of the Top10 highest-grossing films is  34.96 million USD\n",
      "The geometric mean of the budget of the Top10 highest-grossing films is  34.96 million USD\n"
     ]
    }
   ],
   "source": [
    "# Primitive Python: -it is getting more lengthy and labour-intensive\n",
    "budget = [3.9,237,200,11,356,8.2,10.5,13,11,306]\n",
    "\n",
    "gmean1 = 1\n",
    "for item in budget:\n",
    "     gmean1 *= item\n",
    "\n",
    "gmean1 **= 1 / len(budget)\n",
    "gmean1 = round(gmean1,2)\n",
    "print(\"The geometric mean of the budget of the Top10 highest-grossing films is \",gmean1,\"million USD\")\n",
    "\n",
    "# via the Statistics library:\n",
    "Budget = Movies['Budget_million$']\n",
    "gmean2 = statistics.geometric_mean(Budget)\n",
    "gmean2 = round(gmean2,2)\n",
    "\n",
    "print(\"The geometric mean of the budget of the Top10 highest-grossing films is \",gmean2,\"million USD\")\n",
    "\n",
    "# via the scipy.stats library:\n",
    "Budget = Movies['Budget_million$']\n",
    "gmean3 = scipy.stats.gmean(Budget)\n",
    "gmean3 = round(gmean3,2)\n",
    "\n",
    "print(\"The geometric mean of the budget of the Top10 highest-grossing films is \",gmean3,\"million USD\")"
   ]
  },
  {
   "cell_type": "markdown",
   "metadata": {},
   "source": [
    "#### <font color=crimson>Median</font>"
   ]
  },
  {
   "cell_type": "markdown",
   "metadata": {},
   "source": [
    "Median is the middle element of a sorted dataset. The value where the upper half of the data lies above it and lower half lies below it. In other words, it is the middle value of a data set. To calculate the median, arrange the data points in the increasing (or decreasing) order and the middle value is the median. If the number of elements 𝑛 of the dataset is odd, then the median is the value at the middle position: 0.5(𝑛 + 1). If 𝑛 is even, then the median is the arithmetic mean of the two values in the middle, that is, the items at the positions 0.5𝑛 and 0.5𝑛 + 1.\n",
    "Let's find the median of the gross of the Top10 highest-grossing films: "
   ]
  },
  {
   "cell_type": "code",
   "execution_count": 12,
   "metadata": {},
   "outputs": [
    {
     "data": {
      "text/plain": [
       "0    3706\n",
       "1    3257\n",
       "2    3081\n",
       "3    3043\n",
       "4    2798\n",
       "5    2549\n",
       "6    2489\n",
       "7    2356\n",
       "8    2233\n",
       "9    2202\n",
       "Name: Gross_million$, dtype: int64"
      ]
     },
     "execution_count": 12,
     "metadata": {},
     "output_type": "execute_result"
    }
   ],
   "source": [
    "Gross = Movies['Gross_million$']\n",
    "Gross"
   ]
  },
  {
   "cell_type": "markdown",
   "metadata": {},
   "source": [
    "We can use primitive python to calculate the median of a set of numbers:"
   ]
  },
  {
   "cell_type": "code",
   "execution_count": 13,
   "metadata": {},
   "outputs": [
    {
     "name": "stdout",
     "output_type": "stream",
     "text": [
      "The median of gross of the Top10 highest-grossing films is  2673.5 million USD\n"
     ]
    }
   ],
   "source": [
    "# Create a list of all the numbers:\n",
    "gross = [3706,3257,3081,3043,2798,2549,2489,2356,2233,2202]\n",
    "n = len(gross)\n",
    "if n % 2:\n",
    "     median1 = sorted(gross)[round(0.5*(n-1))]\n",
    "else:\n",
    "     gross_ord, index = sorted(gross), round(0.5 * n)\n",
    "     median1 = 0.5 * (gross_ord[index-1] + gross_ord[index])\n",
    "\n",
    "print(\"The median of gross of the Top10 highest-grossing films is \",median1,\"million USD\")"
   ]
  },
  {
   "cell_type": "markdown",
   "metadata": {},
   "source": [
    "We can use also use external libraries:"
   ]
  },
  {
   "cell_type": "code",
   "execution_count": 14,
   "metadata": {
    "scrolled": true
   },
   "outputs": [
    {
     "name": "stdout",
     "output_type": "stream",
     "text": [
      "The median of gross of the Top10 highest-grossing films is  2673.5 million USD\n",
      "The median of gross of the Top10 highest-grossing films is  2673.5 million USD\n",
      "The median of gross of the Top10 highest-grossing films is  2673.5 million USD\n",
      "low median : 2549\n",
      "high median : 2798\n"
     ]
    }
   ],
   "source": [
    "#via the Pandas library:\n",
    "Gross = Movies['Gross_million$']\n",
    "median2 = Gross.median()\n",
    "print(\"The median of gross of the Top10 highest-grossing films is \",median2,\"million USD\")\n",
    "\n",
    "#via the Numpy library:\n",
    "Gross = Movies['Gross_million$']\n",
    "median3 = np.median(Gross)\n",
    "print(\"The median of gross of the Top10 highest-grossing films is \",median3,\"million USD\")\n",
    "\n",
    "#via the Statistics library:\n",
    "Gross = Movies['Gross_million$']\n",
    "median4 = statistics.median(Gross)\n",
    "print(\"The median of gross of the Top10 highest-grossing films is \",median4,\"million USD\")\n",
    "#2 more functions from the same library- For even number of cases:\n",
    "print(\"low median :\",statistics.median_low(Gross))\n",
    "print(\"high median :\",statistics.median_high(Gross))"
   ]
  },
  {
   "cell_type": "markdown",
   "metadata": {},
   "source": [
    "The main difference between the behavior of the mean and median is related to dataset outliers or extremes. The mean is heavily affected by outliers, but the median only depends on outliers either slightly or not at all. You can compare the mean and median as one way to detect outliers and asymmetry in your data. Whether the mean value or the median value is more useful to you depends on the context of your particular problem. The mean is a better choice when there are no extreme values that can affect it. It is a better summary because the information from every observation is included rather than median, which is just the middle value. However, in the presence of outliers, median is considered a better alternative. Check this out:"
   ]
  },
  {
   "cell_type": "code",
   "execution_count": 15,
   "metadata": {},
   "outputs": [
    {
     "name": "stdout",
     "output_type": "stream",
     "text": [
      "12400.7\n",
      "2673.5\n"
     ]
    }
   ],
   "source": [
    "newgross = [99999,3257,3081,3043,2798,2549,2489,2356,2233,2202] #We have replaced 3706 with 99999- an extremely high number (an outlier)\n",
    "newmean = np.mean(newgross)\n",
    "newmedian = np.median(newgross)\n",
    "print(newmean)   #A huge change from the previous value (115.66) - Mean is very sensitive to outliers and extreme values\n",
    "print(newmedian) #No Change- the median only depends on outliers either slightly or not at all. "
   ]
  },
  {
   "cell_type": "markdown",
   "metadata": {},
   "source": [
    "To read more about the differences of mean and median, check these out:\n",
    "- \"Stuck in the middle – mean vs. median\"\n",
    ", available @ https://www.clinfo.eu/mean-median/\n",
    "\n",
    "- \"Mean vs Median: When to Use Which Measure?\"\n",
    ", available @ https://www.datascienceblog.net/post/basic-statistics/mean_vs_median/\n",
    "\n",
    "- \"Mean vs. Median\"\n",
    "by __*AnswerMiner*__, available @ https://www.answerminer.com/blog/mean-vs-median"
   ]
  },
  {
   "cell_type": "markdown",
   "metadata": {},
   "source": [
    "#### <font color=crimson>Mode</font>"
   ]
  },
  {
   "cell_type": "markdown",
   "metadata": {},
   "source": [
    "The value that occurs the most number of times in our data set. Closely tied to the concept of frequency, mode provides information on the most recurrent elements in a dataset. When the mode is not unique, we say that the data set is bimodal, while a data set with more than two modes is multimodal. Let's find the mode in the gross of the Top10 highest-grossing films:"
   ]
  },
  {
   "cell_type": "code",
   "execution_count": 16,
   "metadata": {},
   "outputs": [
    {
     "name": "stdout",
     "output_type": "stream",
     "text": [
      "3706\n",
      "0    2202\n",
      "1    2233\n",
      "2    2356\n",
      "3    2489\n",
      "4    2549\n",
      "5    2798\n",
      "6    3043\n",
      "7    3081\n",
      "8    3257\n",
      "9    3706\n",
      "dtype: int64\n",
      "3706\n",
      "[3706, 3257, 3081, 3043, 2798, 2549, 2489, 2356, 2233, 2202]\n",
      "ModeResult(mode=array([2202], dtype=int64), count=array([1]))\n"
     ]
    }
   ],
   "source": [
    "# In primitive Python:\n",
    "# Create a list of all the numbers:\n",
    "gross = [3706,3257,3081,3043,2798,2549,2489,2356,2233,2202]\n",
    "mode1 = max((gross.count(item), item) for item in gross)[1]\n",
    "print(mode1) #Since each item is repeated only once, only the first element is printed- This is a multimodal set. \n",
    "\n",
    "#via the Pandas library:\n",
    "Gross = Movies['Gross_million$']\n",
    "mode2 = Gross.mode()\n",
    "print(mode2) #Returns all modal values- This is a multimodal set. \n",
    "\n",
    "#via the Statistics library:\n",
    "Gross = Movies['Gross_million$']\n",
    "mode3 = statistics.mode(Gross)\n",
    "print(mode3) #Return a single value\n",
    "mode4 = statistics.multimode(Gross)\n",
    "print(mode4) #Returns a list of all modes\n",
    "\n",
    "#via the scipy.stats library:\n",
    "Gross = Movies['Gross_million$']\n",
    "mode5 = scipy.stats.mode(Gross)\n",
    "print(mode5) #Returns the object with the modal value and the number of times it occurs- If multimodal: only the smallest value"
   ]
  },
  {
   "cell_type": "markdown",
   "metadata": {},
   "source": [
    "Mode is not useful when our distribution is flat; i.e., the frequencies of all groups are similar. Mode makes sense when we do not have a numeric-valued data set which is required in case of the mean and the median. For instance:"
   ]
  },
  {
   "cell_type": "code",
   "execution_count": 17,
   "metadata": {},
   "outputs": [
    {
     "name": "stdout",
     "output_type": "stream",
     "text": [
      "James Cameron\n",
      "0    James Cameron\n",
      "dtype: object\n"
     ]
    }
   ],
   "source": [
    "Director = Movies['Director']\n",
    "# via statistics:\n",
    "mode6 = statistics.mode(Director)\n",
    "print(mode6) #\"James Cameron\" with two films (x2 repeats) is the mode\n",
    "# via pandas:\n",
    "mode7 = Director.mode()\n",
    "print(mode7) #\"James Cameron\" with two films (x2 repeats) is the mode"
   ]
  },
  {
   "cell_type": "markdown",
   "metadata": {},
   "source": [
    "To read more about mode, check these out:\n",
    "- \"Mode: A statistical measure of central tendency\"\n",
    ", available @ https://corporatefinanceinstitute.com/resources/knowledge/other/mode/\n",
    "\n",
    "- \"When to use each measure of Central Tendency\"\n",
    ", available @ https://courses.lumenlearning.com/introstats1/chapter/when-to-use-each-measure-of-central-tendency/\n",
    "\n",
    "- \"Mean, Median, Mode: What They Are, How to Find Them\"\n",
    ", available @ https://www.statisticshowto.com/probability-and-statistics/statistics-definitions/mean-median-mode/"
   ]
  },
  {
   "cell_type": "markdown",
   "metadata": {},
   "source": [
    "### <font color=red>Measures of Dispersion</font>"
   ]
  },
  {
   "cell_type": "markdown",
   "metadata": {},
   "source": [
    "Measures of dispersion are values that describe how the data varies. It gives us a sense of how much the data tends to diverge from the typical value. Aka measures of variability, they quantify the spread of data points.The major measures of dispersion include __*range, percentiles, inter-quentile range, variance, standard deviation, skeness and kurtosis*__."
   ]
  },
  {
   "cell_type": "markdown",
   "metadata": {},
   "source": [
    "#### <font color=crimson>Range</font>"
   ]
  },
  {
   "cell_type": "markdown",
   "metadata": {},
   "source": [
    "The range gives a quick sense of the spread of the distribution to those who require only a rough indication of the data. There are some disadvantages of using the range as a measure of spread. One being it does not give any information of the data in between maximum and minimum. Also, the range is very sensitive to extreme values. Let's calculate the range for the budget of the Top10 highest-grossing films: "
   ]
  },
  {
   "cell_type": "code",
   "execution_count": 18,
   "metadata": {},
   "outputs": [
    {
     "name": "stdout",
     "output_type": "stream",
     "text": [
      "The range of the budget of the Top10 highest-grossing films is  352.1 million USD\n",
      "The range of the budget of the Top10 highest-grossing films is  352.1 million USD\n"
     ]
    }
   ],
   "source": [
    "# Primitive Python:\n",
    "budget = [3.9,237,200,11,356,8.2,10.5,13,11,306]\n",
    "range1 = max(budget)-min(budget)\n",
    "print(\"The range of the budget of the Top10 highest-grossing films is \",range1,\"million USD\")\n",
    "\n",
    "# via the Statistics library:\n",
    "Budget = Movies['Budget_million$']\n",
    "range2 = np.ptp(Budget) #ptp stands for Peak To Peak\n",
    "print(\"The range of the budget of the Top10 highest-grossing films is \",range2,\"million USD\")"
   ]
  },
  {
   "cell_type": "markdown",
   "metadata": {},
   "source": [
    "#### <font color=crimson>Percentiles and Quartiles</font>"
   ]
  },
  {
   "cell_type": "markdown",
   "metadata": {},
   "source": [
    "A measure which indicates the value below which a given percentage of points in a dataset fall. The sample 𝑝 percentile is the element in the dataset such that 𝑝% of the elements in the dataset are less than or equal to that value. Also, (100 − 𝑝)% of the elements are greater than or equal to that value. For example, median represents the 50th percentile. Similarly, we can have 0th percentile representing the minimum and 100th percentile representing the maximum of all data points. Percentile gives the relative position of a particular value within the dataset. It also helps in comparing the data sets which have different means and deviations.\n",
    "Each dataset has three quartiles, which are the percentiles that divide the dataset into four parts:\n",
    "\n",
    "- The first quartile (Q1) is the sample 25th percentile. It divides roughly 25% of the smallest items from the rest of the dataset.\n",
    "- The second quartile Q2) is the sample 50th percentile or the median. Approximately 25% of the items lie between the first and second quartiles and another 25% between the second and third quartiles.\n",
    "- The third quartile (Q3) is the sample 75th percentile. It divides roughly 25% of the largest items from the rest of the dataset."
   ]
  },
  {
   "cell_type": "code",
   "execution_count": 20,
   "metadata": {},
   "outputs": [
    {
     "name": "stdout",
     "output_type": "stream",
     "text": [
      "The 10th percentile of the budget of the Top10 highest-grossing films is  7.77\n",
      "The 40th and 70th percentile of the budget of the Top10 highest-grossing films are  [ 11.  211.1]\n",
      "The 10th percentile of the budget of the Top10 highest-grossing films is  7.77\n",
      "The quartiles of the budget of the Top10 highest-grossing films is  [10.625, 12.0, 227.75]\n"
     ]
    }
   ],
   "source": [
    "Budget = Movies['Budget_million$']\n",
    "#via Numpy:\n",
    "p10 = np.percentile(Budget, 10) #returns the 10th percentile\n",
    "print(\"The 10th percentile of the budget of the Top10 highest-grossing films is \",p10)\n",
    "p4070 = np.percentile(Budget, [40,70]) #returns the 40th and 70th percentile\n",
    "print(\"The 40th and 70th percentile of the budget of the Top10 highest-grossing films are \",p4070)\n",
    "#via Pandas:\n",
    "p10n = Budget.quantile(0.10) #returns the 10th percentile - notice the difference from Numpy\n",
    "print(\"The 10th percentile of the budget of the Top10 highest-grossing films is \",p10n)\n",
    "#via Statistics:\n",
    "Qs = statistics.quantiles(Budget, n=4, method='inclusive')     #The parameter n defines the number of resulting equal-probability percentiles: \n",
    "                                                               #n=4 returns the quartiles | n=2 returns the median\n",
    "print(\"The quartiles of the budget of the Top10 highest-grossing films is \",Qs)"
   ]
  },
  {
   "cell_type": "markdown",
   "metadata": {},
   "source": [
    "#### <font color=crimson>InterQuartile Range (IQR)</font>"
   ]
  },
  {
   "cell_type": "markdown",
   "metadata": {},
   "source": [
    "IQR is the difference between the third quartile and the first quartile (Q3-Q1). The interquartile range is a better option than range because it is not affected by outliers. It removes the outliers by just focusing on the distance within the middle 50% of the data."
   ]
  },
  {
   "cell_type": "code",
   "execution_count": 21,
   "metadata": {},
   "outputs": [
    {
     "name": "stdout",
     "output_type": "stream",
     "text": [
      "The IQR of the budget of the Top10 highest-grossing films is  217.125\n",
      "The IQR of the budget of the Top10 highest-grossing films is  217.125\n"
     ]
    }
   ],
   "source": [
    "Budget = Movies['Budget_million$']\n",
    "#via Numpy:\n",
    "IQR1 = np.percentile(Budget, 75) -np.percentile(Budget, 25)    #returns the IQR = Q3-Q1 = P75-P25\n",
    "print(\"The IQR of the budget of the Top10 highest-grossing films is \",IQR1)\n",
    "#via scipy.stats:\n",
    "IQR2 = scipy.stats.iqr(Budget)    #returns the IQR- Can be used for other percentile differences as well >> iqr(object, rng=(p1, p2))\n",
    "print(\"The IQR of the budget of the Top10 highest-grossing films is \",IQR2)"
   ]
  },
  {
   "cell_type": "markdown",
   "metadata": {},
   "source": [
    "#### <font color=crimson>The Five-number Summary</font>"
   ]
  },
  {
   "cell_type": "markdown",
   "metadata": {},
   "source": [
    "A five-number summary is especially useful in descriptive analyses or during the preliminary investigation of a large data set. A summary consists of five values: the most extreme values in the data set (the maximum and minimum values), the lower and upper quartiles, and the median. Five-number summary can be used to describe any data distribution. Boxplots are extremely useful graphical representation of the 5-number summary that we will discuss later."
   ]
  },
  {
   "cell_type": "code",
   "execution_count": 22,
   "metadata": {},
   "outputs": [
    {
     "data": {
      "text/plain": [
       "count     10.000000\n",
       "mean     115.660000\n",
       "std      142.739991\n",
       "min        3.900000\n",
       "25%       10.625000\n",
       "50%       12.000000\n",
       "75%      227.750000\n",
       "max      356.000000\n",
       "Name: Budget_million$, dtype: float64"
      ]
     },
     "execution_count": 22,
     "metadata": {},
     "output_type": "execute_result"
    }
   ],
   "source": [
    "Budget = Movies['Budget_million$']\n",
    "Budget.describe()     #Remember this jewel from Pandas? -It directly return the 5-number summary AND MORE!"
   ]
  },
  {
   "cell_type": "markdown",
   "metadata": {},
   "source": [
    "Boxplots are extremely useful graphical representation of the 5-number summary. It can show the range, interquartile range, median, mode, outliers, and all quartiles."
   ]
  },
  {
   "cell_type": "code",
   "execution_count": 23,
   "metadata": {},
   "outputs": [
    {
     "data": {
      "image/png": "[encoded data removed]",
      "text/plain": [
       "<Figure size 504x360 with 1 Axes>"
      ]
     },
     "metadata": {
      "needs_background": "light"
     },
     "output_type": "display_data"
    }
   ],
   "source": [
    "import matplotlib.pyplot as plt  #Required for the plot\n",
    "\n",
    "gross = [3706,3257,3081,3043,2798,2549,2489,2356,2233,2202,5000] #same data + an outlier: 5000\n",
    "\n",
    "fig = plt.figure(figsize =(7, 5))\n",
    "plt.boxplot(gross,medianprops={'linewidth': 1, 'color': 'purple'})\n",
    "\n",
    "plt.show()"
   ]
  },
  {
   "cell_type": "markdown",
   "metadata": {},
   "source": [
    "#### <font color=crimson>Variance</font>"
   ]
  },
  {
   "cell_type": "markdown",
   "metadata": {},
   "source": [
    "The sample variance quantifies the spread of the data. It shows numerically how far the data points are from the mean. The observations may or may not be meaningful if observations in data sets are highly spread. Let's calculate the variance for budget of the Top10 highest-grossing films.\n",
    "\n",
    "![](https://miro.medium.com/max/666/0*ovSFlxj9RJMgtQoX.png)\n",
    "\n",
    "Note that if we are working with the entire population (and not the sample), the denominator should be \"n\" instead of \"n-1\"."
   ]
  },
  {
   "cell_type": "markdown",
   "metadata": {},
   "source": [
    "Note that if we are working with the entire population (and not the sample), the denominator should be \"n\" instead of \"n-1\"."
   ]
  },
  {
   "cell_type": "code",
   "execution_count": 24,
   "metadata": {},
   "outputs": [
    {
     "name": "stdout",
     "output_type": "stream",
     "text": [
      "The variance of the budget of the Top10 highest-grossing films is  20374.70488888889\n",
      "The variance of the budget of the Top10 highest-grossing films is  20374.70488888889\n"
     ]
    }
   ],
   "source": [
    "# Primitive Python:\n",
    "budget = [3.9,237,200,11,356,8.2,10.5,13,11,306]\n",
    "n = len(budget)\n",
    "mean = sum(budget) / n\n",
    "var1 = sum((item - mean)**2 for item in budget) / (n - 1)\n",
    "print(\"The variance of the budget of the Top10 highest-grossing films is \",var1)\n",
    "\n",
    "# via the Statistics library:\n",
    "Budget = Movies['Budget_million$']\n",
    "var2 = statistics.variance(Budget)\n",
    "print(\"The variance of the budget of the Top10 highest-grossing films is \",var2)"
   ]
  },
  {
   "cell_type": "markdown",
   "metadata": {},
   "source": [
    "#### <font color=crimson>Standard Deviation</font>"
   ]
  },
  {
   "cell_type": "markdown",
   "metadata": {},
   "source": [
    "The sample standard deviation is another measure of data spread. It’s connected to the sample variance, as standard deviation, 𝑠, is the positive square root of the sample variance. The standard deviation is often more convenient than the variance because it has the same unit as the data points.\n",
    "\n",
    "![](https://cdn.kastatic.org/googleusercontent/N8xzWFc6eo0XBHEXZjz1SwvLSnPezvhTRF1P17kdjUG_tnJivGKkyCxbwVe4MZ0-USOxIZBohgcjdi8e7Z4Hswcqfw)\n"
   ]
  },
  {
   "cell_type": "code",
   "execution_count": 26,
   "metadata": {},
   "outputs": [
    {
     "name": "stdout",
     "output_type": "stream",
     "text": [
      "The standard deviation of the budget of the Top10 highest-grossing films is  142.73999050332353 million USD\n",
      "The standard deviation of the budget of the Top10 highest-grossing films is  142.73999050332353 million USD\n"
     ]
    }
   ],
   "source": [
    "# Primitive Python:\n",
    "budget = [3.9,237,200,11,356,8.2,10.5,13,11,306]\n",
    "n = len(budget)\n",
    "mean = sum(budget) / n\n",
    "var = sum((item - mean)**2 for item in budget) / (n - 1)\n",
    "sd1 = var**0.5\n",
    "print(\"The standard deviation of the budget of the Top10 highest-grossing films is \",sd1,\"million USD\")\n",
    "\n",
    "# via the Statistics library:\n",
    "Budget = Movies['Budget_million$']\n",
    "sd2 = statistics.stdev(Budget)\n",
    "print(\"The standard deviation of the budget of the Top10 highest-grossing films is \",sd2,\"million USD\")"
   ]
  },
  {
   "cell_type": "markdown",
   "metadata": {},
   "source": [
    "#### <font color=crimson>Skewness</font>"
   ]
  },
  {
   "cell_type": "markdown",
   "metadata": {},
   "source": [
    "The sample skewness measures the asymmetry of a data sample. There are several mathematical definitions of skewness. The Fisher-Pearson standardized moment coefficient is calculated by using mean, median and standard deviation of the data. \n",
    "\n",
    "![](https://miro.medium.com/max/560/1*B-n9Ujb_IPggKO9P52jrDA.png)\n",
    "\n",
    "Usually, negative skewness values indicate that there’s a dominant tail on the left side. Positive skewness values correspond to a longer or fatter tail on the right side. If the skewness is close to 0 (for example, between −0.5 and 0.5), then the dataset is considered quite symmetrical."
   ]
  },
  {
   "cell_type": "code",
   "execution_count": 27,
   "metadata": {},
   "outputs": [
    {
     "name": "stdout",
     "output_type": "stream",
     "text": [
      "The skewness of the budget of the Top10 highest-grossing films is  0.763654749052816\n",
      "The skewness of the budget of the Top10 highest-grossing films is  0.763654749052816\n",
      "The skewness of the budget of the Top10 highest-grossing films is  0.763654749052816\n"
     ]
    }
   ],
   "source": [
    "# Primitive Python:\n",
    "budget = [3.9,237,200,11,356,8.2,10.5,13,11,306]\n",
    "n = len(budget)\n",
    "mean = sum(budget) / n\n",
    "var = sum((item - mean)**2 for item in budget) / (n - 1)\n",
    "std = var**0.5\n",
    "skew1 = (sum((item - mean)**3 for item in budget)\n",
    "         * n / ((n - 1) * (n - 2) * std**3))\n",
    "print(\"The skewness of the budget of the Top10 highest-grossing films is \",skew1)\n",
    "\n",
    "# via the scipy.stats library:\n",
    "Budget = Movies['Budget_million$']\n",
    "skew2 = scipy.stats.skew(Budget, bias=False)\n",
    "print(\"The skewness of the budget of the Top10 highest-grossing films is \",skew2)\n",
    "\n",
    "# via the Pandas library:\n",
    "Budget = Movies['Budget_million$']\n",
    "skew3 = Budget.skew()\n",
    "print(\"The skewness of the budget of the Top10 highest-grossing films is \",skew3)"
   ]
  },
  {
   "cell_type": "markdown",
   "metadata": {},
   "source": [
    "#### <font color=crimson>Kurtosis</font>"
   ]
  },
  {
   "cell_type": "markdown",
   "metadata": {},
   "source": [
    "Kurtosis describes the peakedness of the distribution. In other words, Kurtosis identifies whether the tails of a given distribution contain extreme values. While Skewness essentially measures the symmetry of the distribution, kurtosis determines the heaviness of the distribution tails.\n",
    "\n",
    "![](https://miro.medium.com/max/2220/1*-UQjlHtFyW6m5gcyZ6db2A.png)\n",
    "\n",
    "If the distribution is tall and thin it is called a leptokurtic distribution. Values in a leptokurtic distribution are near the mean or at the extremes. A flat distribution where the values are moderately spread out (i.e., unlike leptokurtic) is called platykurtic distribution. A distribution whose shape is in between a leptokurtic distribution and a platykurtic distribution is called a mesokurtic distribution. "
   ]
  },
  {
   "cell_type": "code",
   "execution_count": 28,
   "metadata": {},
   "outputs": [
    {
     "name": "stdout",
     "output_type": "stream",
     "text": [
      "The kurtosis of the budget of the Top10 highest-grossing films is  -1.3110307923262225\n"
     ]
    }
   ],
   "source": [
    "# via the scipy.stats library:\n",
    "Budget = Movies['Budget_million$']\n",
    "Kurt = scipy.stats.kurtosis(Budget)\n",
    "print(\"The kurtosis of the budget of the Top10 highest-grossing films is \",Kurt) #a platykurtic distribution | the tails are heavy\n"
   ]
  },
  {
   "cell_type": "markdown",
   "metadata": {},
   "source": [
    "To read more about skewness and kurtosis, check these out:\n",
    "- \"Measures of Skewness and Kurtosis\"\n",
    ", available @ https://www.itl.nist.gov/div898/handbook/eda/section3/eda35b.htm#:~:text=Skewness%20is%20a%20measure%20of,relative%20to%20a%20normal%20distribution.\n",
    "\n",
    "- \"Are the Skewness and Kurtosis Useful Statistics?\"\n",
    ", available @ https://www.spcforexcel.com/knowledge/basic-statistics/are-skewness-and-kurtosis-useful-statistics\n",
    "\n",
    "- \"Skew and Kurtosis: 2 Important Statistics terms you need to know in Data Science\"\n",
    "by __*Diva Dugar*__, available @ https://codeburst.io/2-important-statistics-terms-you-need-to-know-in-data-science-skewness-and-kurtosis-388fef94eeaa\n",
    "\n",
    "- \"Measures of Shape: Skewness and Kurtosis\"\n",
    "by __*Stan Brown*__, available @ https://brownmath.com/stat/shape.htm"
   ]
  },
  {
   "cell_type": "code",
   "execution_count": 29,
   "metadata": {
    "collapsed": false,
    "jupyter": {
     "outputs_hidden": false
    }
   },
   "outputs": [],
   "source": [
    "# Let's import the necessary libraries:\n",
    "import numpy as np\n",
    "import pandas as pd\n",
    "import statistics\n",
    "import scipy.stats\n",
    "import matplotlib.pyplot as plt "
   ]
  },
  {
   "cell_type": "markdown",
   "metadata": {},
   "source": [
    "___\n",
    "## Example: \n",
    "1. Read the `AirTraffic.csv` file as a dataframe and check its first few rows.<br>\n",
    "2. Use descriptive functions of the Pandas library to learn more about the dataframe<br>\n",
    "3. Compute the arithmetic and harmonic mean of `Distance`.<br>\n",
    "4. Find the median of `Distance`.<br>\n",
    "5. Find the range of `Distance`.<br>\n",
    "6. Find the IQR of `Distance`.<br>\n",
    "7. Use descriptive functions of the Pandas library to get a 5-number summary of 'Distance'. Plot a box plot without outliers.<br>\n",
    "8. Find the variance and standard deviation of `Distance`.<br>\n",
    "9. Find the skewness and kurtosis `Distance`.<br>"
   ]
  },
  {
   "cell_type": "code",
   "execution_count": 30,
   "metadata": {},
   "outputs": [],
   "source": [
    "######### CODE TO AUTOMATICALLY DOWNLOAD THE DATABASE ################\n",
    "#! pip install requests #install packages into local environment\n",
    "import requests # import needed modules to interact with the internet\n",
    "# make the connection to the remote file (actually its implementing \"bash curl -O http://fqdn/path ...\")\n",
    "remote_url = 'http://54.243.252.9/engr-1330-webroot/4-Databases/AirTraffic.csv' # a csv file\n",
    "response = requests.get(remote_url) # Gets the file contents puts into an object\n",
    "output = open('AirTraffic.csv', 'wb') # Prepare a destination, local\n",
    "output.write(response.content) # write contents of object to named local file\n",
    "output.close() # close the connection"
   ]
  },
  {
   "cell_type": "code",
   "execution_count": 31,
   "metadata": {},
   "outputs": [
    {
     "data": {
      "text/html": [
       "<div>\n",
       "<style scoped>\n",
       "    .dataframe tbody tr th:only-of-type {\n",
       "        vertical-align: middle;\n",
       "    }\n",
       "\n",
       "    .dataframe tbody tr th {\n",
       "        vertical-align: top;\n",
       "    }\n",
       "\n",
       "    .dataframe thead th {\n",
       "        text-align: right;\n",
       "    }\n",
       "</style>\n",
       "<table border=\"1\" class=\"dataframe\">\n",
       "  <thead>\n",
       "    <tr style=\"text-align: right;\">\n",
       "      <th></th>\n",
       "      <th>DISTANCE</th>\n",
       "      <th>ORIGIN_COUNTRY_NAME</th>\n",
       "      <th>DEST_COUNTRY_NAME</th>\n",
       "      <th>AIRCRAFT_GROUP</th>\n",
       "      <th>CLASS</th>\n",
       "      <th>DATA_SOURCE</th>\n",
       "    </tr>\n",
       "  </thead>\n",
       "  <tbody>\n",
       "    <tr>\n",
       "      <th>0</th>\n",
       "      <td>3855</td>\n",
       "      <td>United States</td>\n",
       "      <td>Germany</td>\n",
       "      <td>6</td>\n",
       "      <td>G</td>\n",
       "      <td>IF</td>\n",
       "    </tr>\n",
       "    <tr>\n",
       "      <th>1</th>\n",
       "      <td>5805</td>\n",
       "      <td>United States</td>\n",
       "      <td>Germany</td>\n",
       "      <td>6</td>\n",
       "      <td>G</td>\n",
       "      <td>IF</td>\n",
       "    </tr>\n",
       "    <tr>\n",
       "      <th>2</th>\n",
       "      <td>801</td>\n",
       "      <td>United States</td>\n",
       "      <td>United States</td>\n",
       "      <td>6</td>\n",
       "      <td>G</td>\n",
       "      <td>DF</td>\n",
       "    </tr>\n",
       "    <tr>\n",
       "      <th>3</th>\n",
       "      <td>4343</td>\n",
       "      <td>United States</td>\n",
       "      <td>Germany</td>\n",
       "      <td>6</td>\n",
       "      <td>G</td>\n",
       "      <td>IF</td>\n",
       "    </tr>\n",
       "    <tr>\n",
       "      <th>4</th>\n",
       "      <td>5142</td>\n",
       "      <td>United States</td>\n",
       "      <td>Germany</td>\n",
       "      <td>6</td>\n",
       "      <td>G</td>\n",
       "      <td>IF</td>\n",
       "    </tr>\n",
       "  </tbody>\n",
       "</table>\n",
       "</div>"
      ],
      "text/plain": [
       "   DISTANCE ORIGIN_COUNTRY_NAME DEST_COUNTRY_NAME  AIRCRAFT_GROUP CLASS  \\\n",
       "0      3855       United States           Germany               6     G   \n",
       "1      5805       United States           Germany               6     G   \n",
       "2       801       United States     United States               6     G   \n",
       "3      4343       United States           Germany               6     G   \n",
       "4      5142       United States           Germany               6     G   \n",
       "\n",
       "  DATA_SOURCE  \n",
       "0          IF  \n",
       "1          IF  \n",
       "2          DF  \n",
       "3          IF  \n",
       "4          IF  "
      ]
     },
     "execution_count": 31,
     "metadata": {},
     "output_type": "execute_result"
    }
   ],
   "source": [
    "AT = pd.read_csv(\"AirTraffic.csv\")         #Read the .csv file a data frame\n",
    "AT.head()"
   ]
  },
  {
   "cell_type": "code",
   "execution_count": null,
   "metadata": {
    "collapsed": false,
    "jupyter": {
     "outputs_hidden": false
    }
   },
   "outputs": [],
   "source": [
    "AT.info()"
   ]
  },
  {
   "cell_type": "code",
   "execution_count": null,
   "metadata": {
    "collapsed": false,
    "jupyter": {
     "outputs_hidden": false
    }
   },
   "outputs": [],
   "source": [
    "Distance = AT['DISTANCE']\n",
    "# Use the mean function from the statistics library\n",
    "mean = statistics.mean(Distance)\n",
    "print(\"The arithmetic mean distance of the 2020 flights is \",round(mean,2),\"miles\")\n",
    "hmean = statistics.harmonic_mean(Distance)\n",
    "print(\"The harmonic mean distance of the 2020 flights is \",round(hmean,2),\"miles\")"
   ]
  },
  {
   "cell_type": "code",
   "execution_count": null,
   "metadata": {
    "collapsed": false,
    "jupyter": {
     "outputs_hidden": false
    }
   },
   "outputs": [],
   "source": [
    "Distance = AT['DISTANCE']\n",
    "# Use the mean function from the statistics library\n",
    "median = statistics.median(Distance)\n",
    "print(\"The median of distance of the 2020  flights is \",median,\"miles\")"
   ]
  },
  {
   "cell_type": "code",
   "execution_count": null,
   "metadata": {
    "collapsed": false,
    "jupyter": {
     "outputs_hidden": false
    }
   },
   "outputs": [],
   "source": [
    "Distance = AT['DISTANCE']\n",
    "Range = np.ptp(Distance) #ptp stands for Peak To Peak\n",
    "print(\"The range of distance of the 2020  flights is \",Range,\"miles\")"
   ]
  },
  {
   "cell_type": "code",
   "execution_count": null,
   "metadata": {
    "collapsed": false,
    "jupyter": {
     "outputs_hidden": false
    }
   },
   "outputs": [],
   "source": [
    "Distance = AT['DISTANCE']\n",
    "\n",
    "IQR = scipy.stats.iqr(Distance)\n",
    "print(\"The IQR of distance of the 2020  flights is \",IQR,\"miles\")"
   ]
  },
  {
   "cell_type": "code",
   "execution_count": null,
   "metadata": {
    "collapsed": false,
    "jupyter": {
     "outputs_hidden": false
    }
   },
   "outputs": [],
   "source": [
    "Distance = AT['DISTANCE']\n",
    "Distance.describe()"
   ]
  },
  {
   "cell_type": "code",
   "execution_count": null,
   "metadata": {
    "collapsed": false,
    "jupyter": {
     "outputs_hidden": false
    }
   },
   "outputs": [],
   "source": [
    "fig = plt.figure(figsize =(7, 5))\n",
    "plt.boxplot(Distance,medianprops={'linewidth': 1, 'color': 'purple'},showfliers=False)\n",
    "\n",
    "plt.show()"
   ]
  },
  {
   "cell_type": "code",
   "execution_count": null,
   "metadata": {
    "collapsed": false,
    "jupyter": {
     "outputs_hidden": false
    }
   },
   "outputs": [],
   "source": [
    "Distance = AT['DISTANCE']\n",
    "var = statistics.variance(Distance)\n",
    "sd = statistics.stdev(Distance)\n",
    "print(\"The variance and standard deviation of distance of the 2020 flights is \",round(var,2),\" and \",round(sd,2),\" respectively\")"
   ]
  },
  {
   "cell_type": "code",
   "execution_count": null,
   "metadata": {
    "collapsed": false,
    "jupyter": {
     "outputs_hidden": false
    }
   },
   "outputs": [],
   "source": [
    "Distance = AT['DISTANCE']\n",
    "skew = scipy.stats.skew(Distance)\n",
    "kurtosis = scipy.stats.kurtosis(Distance)\n",
    "print(\"The skewness and kurtosis of distance of the 2020 flights is \",round(skew,2),\" and \",round(kurtosis,2),\" respectively\")"
   ]
  },
  {
   "cell_type": "markdown",
   "metadata": {},
   "source": [
    "___\n",
    "*Here are some great reads on this topic:* \n",
    "- __\"Python Statistics Fundamentals: How to Describe Your Data\"__ by __Mirko Stojiljković__ available at *https://realpython.com/python-statistics/* <br>\n",
    "- __\"Introduction to Descriptive Statistics and Probability for Data Science\"__ by __Abhishek Kumar__ available at *https://towardsdatascience.com/intro-to-descriptive-statistics-and-probability-for-data-science-8effec826488*<br>\n",
    "- __\"Statistics for Data Science — A beginners guide to Descriptive Statistics in Python\"__ by __Angel Das__ available at *https://towardsdatascience.com/statistics-for-data-science-a-beginners-guide-to-descriptive-statistics-in-python-9e0daa30809a*<br>\n",
    "- __\"Interpreting Data Using Descriptive Statistics with Python\"__ by __Deepika Singh__ available at *https://www.pluralsight.com/guides/interpreting-data-using-descriptive-statistics-python*<br>\n",
    "\n",
    "\n",
    "*Here are some great videos on these topics:* \n",
    "- __\"Descriptive Statistics Using Scipy , Numpy and Pandas in Python - Tutorial 13\"__ by __TheEngineeringWorld__ available at *https://www.youtube.com/watch?v=mWIwXqtZmd8* <br>\n",
    "- __\"Python for Data Analysis: Descriptive Statistics\"__ by __DataDaft__ available at *https://www.youtube.com/watch?v=3mELSEnGBvA* <br>\n",
    "- __\"Introduction to Descriptive Statistics\"__ by __Teresa Johnson__ available at *https://www.youtube.com/watch?v=QoQbR4lVLrs* <br>"
   ]
  },
  {
   "cell_type": "markdown",
   "metadata": {},
   "source": [
    "## Exercise: Why Descriptive Statistics?  <br>\n",
    "What is the importance and application of descriptive statistics, especially in Engineering?\n",
    "<br>(Cite any resources that you may use)"
   ]
  },
  {
   "cell_type": "markdown",
   "metadata": {},
   "source": [
    "It helps to display and convey important data info about the possible life of product, asset, or proccess. In other the words it explains the relaibility of a product, asset, or process.\n",
    "\n",
    "\n",
    "\n",
    "https://hpreliability.com/the-role-of-statistics-in-reliability-engineering/"
   ]
  }
 ],
 "metadata": {
  "kernelspec": {
   "display_name": "Python 3",
   "language": "python",
   "name": "python3"
  },
  "language_info": {
   "codemirror_mode": {
    "name": "ipython",
    "version": 3
   },
   "file_extension": ".py",
   "mimetype": "text/x-python",
   "name": "python",
   "nbconvert_exporter": "python",
   "pygments_lexer": "ipython3",
   "version": "3.8.10"
  }
 },
 "nbformat": 4,
 "nbformat_minor": 4
}
