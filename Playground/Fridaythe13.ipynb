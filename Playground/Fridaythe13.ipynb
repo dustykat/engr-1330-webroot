{
 "cells": [
  {
   "cell_type": "code",
   "execution_count": 38,
   "metadata": {},
   "outputs": [],
   "source": [
    "import timeit"
   ]
  },
  {
   "cell_type": "markdown",
   "metadata": {},
   "source": [
    "# Show me the Money\n",
    "\n",
    "Assume that you have access to 900,000 bank accounts belonging to other people. Assume that the account balances are uniformly distributed between \\\\$100 and \\\\$100,000. The interest rate for all the accounts is 5%, compounded daily. [Daily compounding](https://www.eduworks.com/Documents/Workshops/EdMedia1998/class/compound.htm) generally means that the stated annual rate is applied daily (also: [Daily compounding](https://www.cuemath.com/daily-compound-interest-formula/)) $\\frac{5\\%}{365}=0.01369\\%$ per day. \n",
    "The interest is added to the balance of each account, with the exception that the fractions of cents (anything past the third decimal place) that are truncated (dropped), this dropped value is what we are going to skim (steal). \n",
    "\n",
    "Let's pretend we are online robbers and we want to write some code to skim the excesss interest and place it into our own account. \n",
    "We are going to illegally skim the fractions that get truncated (dropped) out of the other people's accounts everytime their interest is calculated, and add the truncated amounts into our own account.\n",
    "Our account will begin with \\\\$0 but grow by the day.\n",
    "\n",
    "The daily interest is simply the product of the daily compounding rate and the account value $ P_{n+1} = P_{n} + i*P_{n}$  in this problem the result $i*P_{n}$ is only reported to the penny, any smaller part of the value is what we will skimm into the illegal bitcoin account.\n"
   ]
  },
  {
   "cell_type": "code",
   "execution_count": 139,
   "metadata": {},
   "outputs": [],
   "source": [
    "### First lets import some packages we will find useful\n",
    "import numpy as np\n",
    "import pandas as pd\n",
    "import timeit # a way to time processes"
   ]
  },
  {
   "cell_type": "markdown",
   "metadata": {},
   "source": [
    "First lets build the accounts"
   ]
  },
  {
   "cell_type": "code",
   "execution_count": 151,
   "metadata": {},
   "outputs": [
    {
     "name": "stdout",
     "output_type": "stream",
     "text": [
      "Total accounts value $ 4642295.14\n"
     ]
    }
   ],
   "source": [
    "accounts = 100 + (100000-100) * np.random.rand(90,1);\n",
    "accounts = np.floor(100*accounts)/100;\n",
    "\n",
    "print('Total accounts value $',round(accounts.sum(),2))"
   ]
  },
  {
   "cell_type": "code",
   "execution_count": 152,
   "metadata": {},
   "outputs": [
    {
     "data": {
      "text/plain": [
       "51581.057111111106"
      ]
     },
     "execution_count": 152,
     "metadata": {},
     "output_type": "execute_result"
    }
   ],
   "source": [
    "len(accounts)\n",
    "accounts.mean()"
   ]
  },
  {
   "cell_type": "markdown",
   "metadata": {},
   "source": [
    "Now let's produce a histogram of the accounts, easiest to just put into a dataframe"
   ]
  },
  {
   "cell_type": "code",
   "execution_count": 153,
   "metadata": {},
   "outputs": [],
   "source": [
    "df = pd.DataFrame(accounts)"
   ]
  },
  {
   "cell_type": "code",
   "execution_count": 154,
   "metadata": {},
   "outputs": [
    {
     "data": {
      "text/html": [
       "<div>\n",
       "<style scoped>\n",
       "    .dataframe tbody tr th:only-of-type {\n",
       "        vertical-align: middle;\n",
       "    }\n",
       "\n",
       "    .dataframe tbody tr th {\n",
       "        vertical-align: top;\n",
       "    }\n",
       "\n",
       "    .dataframe thead th {\n",
       "        text-align: right;\n",
       "    }\n",
       "</style>\n",
       "<table border=\"1\" class=\"dataframe\">\n",
       "  <thead>\n",
       "    <tr style=\"text-align: right;\">\n",
       "      <th></th>\n",
       "      <th>money</th>\n",
       "    </tr>\n",
       "  </thead>\n",
       "  <tbody>\n",
       "    <tr>\n",
       "      <th>0</th>\n",
       "      <td>4337.36</td>\n",
       "    </tr>\n",
       "    <tr>\n",
       "      <th>1</th>\n",
       "      <td>31911.20</td>\n",
       "    </tr>\n",
       "    <tr>\n",
       "      <th>2</th>\n",
       "      <td>7083.01</td>\n",
       "    </tr>\n",
       "    <tr>\n",
       "      <th>3</th>\n",
       "      <td>62761.98</td>\n",
       "    </tr>\n",
       "    <tr>\n",
       "      <th>4</th>\n",
       "      <td>24188.37</td>\n",
       "    </tr>\n",
       "  </tbody>\n",
       "</table>\n",
       "</div>"
      ],
      "text/plain": [
       "      money\n",
       "0   4337.36\n",
       "1  31911.20\n",
       "2   7083.01\n",
       "3  62761.98\n",
       "4  24188.37"
      ]
     },
     "execution_count": 154,
     "metadata": {},
     "output_type": "execute_result"
    }
   ],
   "source": [
    "df = df.rename(columns={0:'money'})\n",
    "df.head()"
   ]
  },
  {
   "cell_type": "code",
   "execution_count": 155,
   "metadata": {},
   "outputs": [
    {
     "data": {
      "text/plain": [
       "<AxesSubplot:>"
      ]
     },
     "execution_count": 155,
     "metadata": {},
     "output_type": "execute_result"
    },
    {
     "data": {
      "image/png": "[encoded data removed]",
      "text/plain": [
       "<Figure size 432x288 with 1 Axes>"
      ]
     },
     "metadata": {
      "needs_background": "light"
     },
     "output_type": "display_data"
    }
   ],
   "source": [
    "df['money'].hist(alpha=0.4,color='blue',bins=20)"
   ]
  },
  {
   "cell_type": "code",
   "execution_count": null,
   "metadata": {},
   "outputs": [],
   "source": []
  },
  {
   "cell_type": "markdown",
   "metadata": {},
   "source": [
    "Next lets build a function that computes the interest for a single account, and the proportion that is smaller than a penny and skim that."
   ]
  },
  {
   "cell_type": "code",
   "execution_count": 156,
   "metadata": {},
   "outputs": [],
   "source": [
    "# execute this code block to prototype the function\n",
    "def add_interest(current_value,daily_rate):\n",
    "    compounding_amount = current_value*daily_rate      # compute compounding amount.\n",
    "    whole_dollar_ammount = current_value*daily_rate//1 # compute compounding amount whole dollar portion\n",
    "    fractional_dollar_amount = compounding_amount - whole_dollar_ammount # compute compounding amount fractional dollar portion\n",
    "    pennies = fractional_dollar_amount*100//1  # compute portion of fraction that are pennies\n",
    "    skim = fractional_dollar_amount - pennies/100 \n",
    "    output=(whole_dollar_ammount+pennies/100,skim) # return a tuple of interest to add, and amount to skim\n",
    "    return(output) "
   ]
  },
  {
   "cell_type": "markdown",
   "metadata": {},
   "source": [
    "Now lets figure out how our function works, we will just take the first account and submit it to the function"
   ]
  },
  {
   "cell_type": "code",
   "execution_count": 157,
   "metadata": {},
   "outputs": [
    {
     "name": "stdout",
     "output_type": "stream",
     "text": [
      "Account value $ 4337.36  interest earned $ 0.59 truncated amount $ 0.004158904109588968\n"
     ]
    }
   ],
   "source": [
    "current_value = float(accounts[0])\n",
    "daily_rate = float(5/365/100)\n",
    "trash = add_interest(current_value,daily_rate)\n",
    "print('Account value $',accounts.item(0),' interest earned $', trash[0],'truncated amount $', trash[1])"
   ]
  },
  {
   "cell_type": "markdown",
   "metadata": {},
   "source": [
    "Ok so our function has two inputs and two outputs as a tuple.  We use indexing to pick the parts of the tuple corresponding to interest and skim.\n",
    "\n",
    "Now lets simulate a single day all accounts"
   ]
  },
  {
   "cell_type": "code",
   "execution_count": 158,
   "metadata": {},
   "outputs": [
    {
     "name": "stdout",
     "output_type": "stream",
     "text": [
      "We stole $ 0.3743013698630071 in  1  days\n"
     ]
    }
   ],
   "source": [
    "bitcoin = 0 # our ill-gotten gains account\n",
    "days = 0 # our counter of how many days have elapsed\n",
    "######### one day, all accounts ##############\n",
    "for i in range(len(accounts)):\n",
    "    accounts[i]=accounts[i]+add_interest(current_value,daily_rate)[0]\n",
    "    bitcoin = bitcoin + add_interest(current_value,daily_rate)[1]\n",
    "days = days + 1\n",
    "print('We stole $',bitcoin, 'in ',days,' days')"
   ]
  },
  {
   "cell_type": "code",
   "execution_count": 159,
   "metadata": {},
   "outputs": [
    {
     "name": "stdout",
     "output_type": "stream",
     "text": [
      "Total accounts value $ 4642348.24\n"
     ]
    }
   ],
   "source": [
    "print('Total accounts value $',round(accounts.sum(),2))"
   ]
  },
  {
   "cell_type": "markdown",
   "metadata": {},
   "source": [
    "Ok we are ready to wrap the script into a while loop to keep track of days"
   ]
  },
  {
   "cell_type": "code",
   "execution_count": 160,
   "metadata": {},
   "outputs": [
    {
     "name": "stdout",
     "output_type": "stream",
     "text": [
      "Total accounts value $ 45093160067.12\n"
     ]
    }
   ],
   "source": [
    "accounts = 100 + (100000-100) * np.random.rand(900000,1); # Reset all the accounts\n",
    "accounts = np.floor(100*accounts)/100;\n",
    "startingValue = round(accounts.sum(),2)\n",
    "print('Total accounts value $',startingValue)"
   ]
  },
  {
   "cell_type": "code",
   "execution_count": null,
   "metadata": {},
   "outputs": [],
   "source": [
    "######### one day ##############\n",
    "bitcoin = 0\n",
    "#days = 0\n",
    "daily_rate = float(5/365/100)\n",
    "while days < 10:\n",
    "    days += 1\n",
    "    start_time = timeit.default_timer()\n",
    "    for i in range(len(accounts)):\n",
    "        myvalue = accounts[i]\n",
    "        myname = add_interest(myvalue,daily_rate)\n",
    "        accounts[i]=accounts[i]+ myname[0]\n",
    "        bitcoin = bitcoin + myname[1]\n",
    "    elapsed = timeit.default_timer() - start_time\n",
    "    print('processed accounts in',elapsed,'seconds')\n",
    "    if days == 1:\n",
    "        print('We stole ',bitcoin, 'in ',days,' days')\n",
    "    elif days == 10:\n",
    "        print('We stole ',bitcoin, 'in ',days,' days')\n",
    "    elif days == 100:\n",
    "        print('We stole ',bitcoin, 'in ',days,' days')"
   ]
  },
  {
   "cell_type": "code",
   "execution_count": 164,
   "metadata": {},
   "outputs": [
    {
     "data": {
      "text/plain": [
       "(array([0.16]), array([0.0056]))"
      ]
     },
     "execution_count": 164,
     "metadata": {},
     "output_type": "execute_result"
    }
   ],
   "source": [
    "myname"
   ]
  },
  {
   "cell_type": "markdown",
   "metadata": {},
   "source": [
    "Lets re-examine the histogram of the account values.  We will see if the distribution shifts upward which it should."
   ]
  },
  {
   "cell_type": "code",
   "execution_count": 95,
   "metadata": {},
   "outputs": [
    {
     "name": "stdout",
     "output_type": "stream",
     "text": [
      "Total accounts value $ 45112638325.76\n",
      "Total gain for customers $ 51750000.0\n",
      "Total gain for thieves $ 41560.27\n"
     ]
    }
   ],
   "source": [
    "endingValue = round(accounts.sum(),2)\n",
    "print('Total accounts value $',round(endingValue,2))\n",
    "print('Total gain for customers $',round(endingValue-startingValue,2))\n",
    "print('Total gain for thieves $',round(bitcoin,2))"
   ]
  },
  {
   "cell_type": "code",
   "execution_count": null,
   "metadata": {},
   "outputs": [],
   "source": []
  }
 ],
 "metadata": {
  "kernelspec": {
   "display_name": "Python 3",
   "language": "python",
   "name": "python3"
  },
  "language_info": {
   "codemirror_mode": {
    "name": "ipython",
    "version": 3
   },
   "file_extension": ".py",
   "mimetype": "text/x-python",
   "name": "python",
   "nbconvert_exporter": "python",
   "pygments_lexer": "ipython3",
   "version": "3.8.10"
  }
 },
 "nbformat": 4,
 "nbformat_minor": 4
}
