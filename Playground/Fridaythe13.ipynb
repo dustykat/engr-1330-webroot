{
 "cells": [
  {
   "cell_type": "code",
   "execution_count": null,
   "metadata": {},
   "outputs": [],
   "source": [
    "import sys\n",
    "! ls -la"
   ]
  },
  {
   "cell_type": "code",
   "execution_count": null,
   "metadata": {},
   "outputs": [],
   "source": []
  },
  {
   "cell_type": "code",
   "execution_count": null,
   "metadata": {},
   "outputs": [],
   "source": [
    "import requests # Module to process http/https requests"
   ]
  },
  {
   "cell_type": "code",
   "execution_count": null,
   "metadata": {},
   "outputs": [],
   "source": [
    "remote_url=\"http://54.243.252.9/engr-1330-webroot/4-Databases/all_quads_gross_evaporation.csv\"  # set the url\n",
    "rget = requests.get(remote_url, allow_redirects=True)  # get the remote resource, follow imbedded links\n",
    "localfile = open('all_quads_gross_evaporation.csv','wb') # open connection to a local file same name as remote\n",
    "localfile.write(rget.content) # extract from the remote the contents,insert into the local file same name\n",
    "localfile.close() # close connection to the local file"
   ]
  },
  {
   "cell_type": "code",
   "execution_count": null,
   "metadata": {},
   "outputs": [],
   "source": [
    "flag = True\n",
    "c910 = 0\n",
    "while flag:\n",
    "    try:\n",
    "        if aList[0][c910] == '910': # test if header is 910\n",
    "            flag = False # switch flag to exit loop\n",
    "        else :\n",
    "            c910 += 1 # increment counter if not right header\n",
    "    except:\n",
    "        print('No column position found, resetting to 0')\n",
    "        c910 = 0\n",
    "        break\n",
    "    \n",
    "if c910 != 0:\n",
    "    for irow in range(0,10): # activate to show first few rows\n",
    "#    for irow in range(0,rowNumA): # activate to print entire list\n",
    "        print(aList[irow][0],aList[irow][c910])  # implied loop constructor syntax    "
   ]
  },
  {
   "cell_type": "code",
   "execution_count": 20,
   "metadata": {},
   "outputs": [],
   "source": [
    "import requests # Module to process http/https requests\n",
    "remote_url=\"http://54.243.252.9/engr-1330-webroot/4-Databases/A.txt\"  # set the url\n",
    "rget = requests.get(remote_url, allow_redirects=True)  # get the remote resource, follow imbedded links\n",
    "localfile = open('A.txt','wb') # open connection to a local file same name as remote\n",
    "localfile.write(rget.content) # extract from the remote the contents,insert into the local file same name\n",
    "localfile.close() # close connection to the local file"
   ]
  },
  {
   "cell_type": "code",
   "execution_count": 21,
   "metadata": {},
   "outputs": [
    {
     "name": "stdout",
     "output_type": "stream",
     "text": [
      "A matrix\n",
      "[4.0, 1.5, 0.7, 1.2, 0.5]\n",
      "[1.0, 6.0, 0.9, 1.4, 0.7]\n",
      "[0.5, 1.0, 3.9, 3.2, 0.9]\n",
      "[0.2, 2.0, 0.2, 7.5, 1.9]\n",
      "[1.7, 0.9, 1.2, 2.3, 4.9]\n"
     ]
    }
   ],
   "source": [
    "# Code to read A, X, and b - Notice we need somewhere for the data to go, hence the null lists\n",
    "amatrix = [] # null list to store matrix read\n",
    "rowNumA = 0\n",
    "localfile = open(\"A.txt\",\"r\") # connect and read file for MATRIX A\n",
    "for line in localfile:\n",
    "    amatrix.append([float(n) for n in line.strip().split()])\n",
    "    rowNumA += 1\n",
    "localfile.close() # Disconnect the file\n",
    "colNumA = len(amatrix[0]) # get the column count\n",
    "print('A matrix')\n",
    "for i in range(0,rowNumA,1):\n",
    "    print ( (amatrix[i][0:colNumA]))"
   ]
  },
  {
   "cell_type": "code",
   "execution_count": null,
   "metadata": {},
   "outputs": [],
   "source": []
  },
  {
   "cell_type": "code",
   "execution_count": null,
   "metadata": {},
   "outputs": [],
   "source": []
  }
 ],
 "metadata": {
  "kernelspec": {
   "display_name": "Python 3",
   "language": "python",
   "name": "python3"
  },
  "language_info": {
   "codemirror_mode": {
    "name": "ipython",
    "version": 3
   },
   "file_extension": ".py",
   "mimetype": "text/x-python",
   "name": "python",
   "nbconvert_exporter": "python",
   "pygments_lexer": "ipython3",
   "version": "3.8.10"
  }
 },
 "nbformat": 4,
 "nbformat_minor": 4
}
