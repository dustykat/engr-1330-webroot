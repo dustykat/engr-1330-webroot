{
 "cells": [
  {
   "cell_type": "markdown",
   "metadata": {},
   "source": [
    "# <font color=darkblue>ENGR 1330-2022-1 Exam2-Laboratory Portion  </font>\n",
    "\n",
    "**LAST NAME, FIRST NAME**\n",
    "\n",
    "**R00000000**\n",
    "\n",
    "ENGR 1330 Exam 2 - Laboratory/Programming Skills\n",
    "\n",
    "---\n",
    "\n",
    "**Download** (right-click, save target as ...) this page as a jupyterlab notebook from: [s22-ex2-deploy.ipynb](http://54.243.252.9/engr-1330-webroot/5-ExamProblems/Exam2/Exam2/spring2022/s22-ex2-deploy.ipynb)\n",
    "\n",
    "**If you are unable to download the file, create an empty notebook and copy paste the problems into Markdown cells and Code cells (problem-by-problem)**\n",
    "\n"
   ]
  },
  {
   "cell_type": "markdown",
   "metadata": {},
   "source": [
    "---\n",
    "\n",
    "## Problem 0 (5 pts) : <font color = 'magenta'>*Profile your computer*</font>\n",
    "\n",
    "Execute the code cell below exactly as written.  If you get an error just continue to the remaining problems."
   ]
  },
  {
   "cell_type": "code",
   "execution_count": 1,
   "metadata": {},
   "outputs": [
    {
     "name": "stdout",
     "output_type": "stream",
     "text": [
      "DESKTOP-4NI7OSD\n",
      "desktop-4ni7osd\\jowhi\n",
      "C:\\Users\\jowhi\\anaconda3\\python.exe\n",
      "3.9.7 (default, Sep 16 2021, 16:59:28) [MSC v.1916 64 bit (AMD64)]\n",
      "sys.version_info(major=3, minor=9, micro=7, releaselevel='final', serial=0)\n"
     ]
    }
   ],
   "source": [
    "# Preamble script block to identify host, user, and kernel\n",
    "import sys\n",
    "! hostname\n",
    "! whoami\n",
    "print(sys.executable)\n",
    "print(sys.version)\n",
    "print(sys.version_info)"
   ]
  },
  {
   "cell_type": "markdown",
   "metadata": {},
   "source": [
    "---\n",
    "\n",
    "## Problem 1 NUMPY (10 points) : <font color = 'magenta'> *Show me the money!* </font>\n",
    "\n",
    "Assume that you have access to 900,000 bank accounts belonging to other people. All of these account balances start with \\\\$101.23 USD in them. The interest rate for all the accounts is 5%, compounded daily. [Daily compounding](https://www.eduworks.com/Documents/Workshops/EdMedia1998/class/compound.htm) generally means that the stated annual rate is applied daily (also: [Daily compounding](https://www.cuemath.com/daily-compound-interest-formula/)) $\\frac{5\\%}{365}=0.01369\\%$ per day. \n",
    "The interest is added to the balance of each account, with the exception of the fractions of cents (anything past the third decimal place) that are truncated (dropped). \n",
    "\n",
    "Let's pretend we are online robbers and we want to write some code to skim the excesss interest and place it into our own account. We are going to illegally skim the fractions that get truncated (dropped) out of the other people's accounts evertime their interest is calculated, and add the truncated amounts into our own account. Our account will begin with $0 but grow by the day.\n",
    "\n",
    "Execute the code block below to create the accounts"
   ]
  },
  {
   "cell_type": "code",
   "execution_count": 2,
   "metadata": {},
   "outputs": [],
   "source": [
    "import numpy as np\n",
    "# create the accounts\n",
    "accounts = np.array([101.23 for i in range(900000)])"
   ]
  },
  {
   "cell_type": "markdown",
   "metadata": {},
   "source": [
    "The daily interest is simply the product of the daily compounding rate and the account value\n",
    "\n",
    "$ P_{n+1} = P_{n} + i*P_{n}$  in this problem the result $i*P_{n}$ is only reported to the penny, any smaller part of the value is skimmed into the illegal bitcoin account.\n",
    "\n",
    "A function that performs the computations is shown below"
   ]
  },
  {
   "cell_type": "code",
   "execution_count": 3,
   "metadata": {},
   "outputs": [],
   "source": [
    "# execute this code block to prototype the function\n",
    "def add_interest(current_value,daily_rate):\n",
    "    compounding_amount = current_value*daily_rate      # compute compounding amount.\n",
    "    whole_dollar_ammount = current_value*daily_rate//1 # compute compounding amount whole dollar portion\n",
    "    fractional_dollar_amount = compounding_amount - whole_dollar_ammount # compute compounding amount fractional dollar portion\n",
    "    pennies = fractional_dollar_amount*100//1  # compute portion of fraction that are pennies\n",
    "    skim = fractional_dollar_amount - pennies/100 \n",
    "    output=(whole_dollar_ammount+pennies/100,skim) # return a tuple of interest to add, and amount to skim\n",
    "    return(output) "
   ]
  },
  {
   "cell_type": "markdown",
   "metadata": {},
   "source": [
    "Implement the steps necessary to increase each of the 900,000 accounts by (5/365)% per day, truncate the accounts to the nearest penny, and add the truncated amount into a seperate account titled “bitcoin”\n",
    "    \n",
    "Using a repetition structure determine the abount in the bitcoin account after 1 day, 10 days and 100 days of stealing."
   ]
  },
  {
   "cell_type": "code",
   "execution_count": 7,
   "metadata": {},
   "outputs": [
    {
     "name": "stdout",
     "output_type": "stream",
     "text": [
      "Dollars (1st day): 3472.548300000006\n",
      "Dollars (10th day): 34780.92750000005\n",
      "Dollars (100th day): 353353.72500000324\n",
      "\n",
      "Final Amount: 1001370.1500000241 after 275 days.\n"
     ]
    }
   ],
   "source": [
    "# complete the script in this block, supply indicated code to compute the steal\n",
    "# generate the bitcoin account\n",
    "bitcoin = 0\n",
    "days = 0\n",
    "# compute daily addition to each account, sweep fractional portion into bitcoin\n",
    "while(1):\n",
    "    if(bitcoin>=1000000): break\n",
    "    if(days==1): print(f'Dollars (1st day): {bitcoin}')\n",
    "    elif(days==10): print(f'Dollars (10th day): {bitcoin}')\n",
    "    elif(days==100): print(f'Dollars (100th day): {bitcoin}')\n",
    "    \n",
    "    interest = add_interest(accounts, 0.01369/100)\n",
    "    accounts = (accounts + interest[0])\n",
    "    bitcoin = (bitcoin + np.sum(interest[1]))\n",
    "    days +=1\n",
    "print(f'\\nFinal Amount: {bitcoin} after {days} days.')\n",
    "# report bitcoin amount and days since steal begin"
   ]
  },
  {
   "cell_type": "markdown",
   "metadata": {},
   "source": []
  },
  {
   "cell_type": "markdown",
   "metadata": {},
   "source": [
    "## Problem 2 (5 pts) : <font color = 'magenta'>*Get the data files*</font>\n"
   ]
  },
  {
   "cell_type": "code",
   "execution_count": 8,
   "metadata": {},
   "outputs": [],
   "source": [
    "######### CODE TO AUTOMATICALLY DOWNLOAD THE DATABASE ################\n",
    "import requests # import needed modules to interact with the internet\n",
    "# make the connection to the remote file (actually its implementing \"bash curl -O http://fqdn/path ...\")\n",
    "remote_url = 'http://54.243.252.9/engr-1330-webroot/8-Labs/Lab15/galton_subset.csv' # a csv file\n",
    "response = requests.get(remote_url) # Gets the file contents puts into an object\n",
    "output = open('galton_subset.csv', 'wb') # Prepare a destination, local\n",
    "output.write(response.content) # write contents of object to named local file\n",
    "output.close() # close the connection"
   ]
  },
  {
   "cell_type": "markdown",
   "metadata": {},
   "source": [
    "---\n",
    "\n",
    "## Problem 3: Dataframe read/organize (10 pts): <font color = 'magenta'>*read file into a dataframe, rename columns, show a few rows of the dataframe*</font>\n",
    "\n",
    "Read the `galton_subset.csv` into a dataframe.  Name/rename the columns to **\"Father\",\"Mother\",\"Child\"**.  Display the first 9 rows of the dataframe."
   ]
  },
  {
   "cell_type": "code",
   "execution_count": 10,
   "metadata": {},
   "outputs": [
    {
     "name": "stdout",
     "output_type": "stream",
     "text": [
      "   Father  Mother  Child\n",
      "0    78.5    67.0   73.2\n",
      "1    75.5    66.5   73.5\n",
      "2    75.0    64.0   71.0\n",
      "3    75.0    64.0   70.5\n",
      "4    75.0    58.5   72.0\n",
      "5    74.0    68.0   76.5\n",
      "6    74.0    62.0   74.0\n",
      "7    73.0    67.0   71.0\n",
      "8    73.0    67.0   68.0\n"
     ]
    }
   ],
   "source": [
    "import matplotlib.pyplot as plt\n",
    "import pandas as pd\n",
    "\n",
    "df = pd.read_csv('galton_subset.csv')\n",
    "df = df.rename(columns={'father':'Father', 'mother':'Mother', 'son':'Child'})\n",
    "print(df.head(9))"
   ]
  },
  {
   "cell_type": "markdown",
   "metadata": {},
   "source": [
    "---\n",
    "\n",
    "## Problem 4 Dataframe analyze/summarize (10 pts): <font color = 'magenta'>*find mean values, father, mother, child*</font>\n",
    "\n",
    "Using the dataframe from the previous problem, find the average height of **\"Father\",\"Mother\",\"Child\"** columns (series) and the standard deviation of these columns.\n",
    "\n",
    "On average which category is taller (father, mother, child)?"
   ]
  },
  {
   "cell_type": "code",
   "execution_count": 11,
   "metadata": {},
   "outputs": [
    {
     "name": "stdout",
     "output_type": "stream",
     "text": [
      "\n",
      "Average Height Father: 69.09888268156425\n",
      "Standard Height: 2.546555038637643\n",
      "\n",
      "Average Height Mother: 63.99385474860336\n",
      "Standard Height: 2.366815572940062\n",
      "\n",
      "Average Height Child: 70.45474860335199\n",
      "Standard Height: 2.557060575105579\n",
      "\n",
      "Child is Tallest\n"
     ]
    }
   ],
   "source": [
    "avg_father = df['Father'].mean()\n",
    "avg_mother = df['Mother'].mean()\n",
    "avg_child = df['Child'].mean()\n",
    "\n",
    "sd_father = df['Father'].std()\n",
    "sd_mother = df['Mother'].std()\n",
    "sd_child = df['Child'].std()\n",
    "\n",
    "print(f'\\nAverage Height Father: {avg_father}')\n",
    "print(f'Standard Height: {sd_father}')\n",
    "\n",
    "print(f'\\nAverage Height Mother: {avg_mother}')\n",
    "print(f'Standard Height: {sd_mother}')\n",
    "\n",
    "print(f'\\nAverage Height Child: {avg_child}')\n",
    "print(f'Standard Height: {sd_child}')"
   ]
  },
  {
   "cell_type": "code",
   "execution_count": 13,
   "metadata": {},
   "outputs": [
    {
     "name": "stdout",
     "output_type": "stream",
     "text": [
      "\n",
      "Child is Tallest\n"
     ]
    }
   ],
   "source": [
    "# who is taller?\n",
    "print('\\nChild is Tallest')"
   ]
  },
  {
   "cell_type": "markdown",
   "metadata": {},
   "source": [
    "---\n",
    "\n",
    "## Problem 5 Dataframe Histograms (10 points) : <font color = 'magenta'> *histograms; df['...'].hist(alpha=0.5,color='...')* </font>\n",
    "Using the dataframe from the Problem 4, produce a histogram of fathers and a histogram of mothers on the same plot.  Do the histograms suggest that one group is shorter than the other? "
   ]
  },
  {
   "cell_type": "code",
   "execution_count": 14,
   "metadata": {},
   "outputs": [
    {
     "data": {
      "text/plain": [
       "<function matplotlib.pyplot.show(close=None, block=None)>"
      ]
     },
     "execution_count": 14,
     "metadata": {},
     "output_type": "execute_result"
    },
    {
     "data": {
      "image/png": "[encoded data removed]",
      "text/plain": [
       "<Figure size 432x288 with 1 Axes>"
      ]
     },
     "metadata": {
      "needs_background": "light"
     },
     "output_type": "display_data"
    }
   ],
   "source": [
    "df['Father'].hist(alpha=0.5,color='red')\n",
    "df['Mother'].hist(alpha=0.5,color='blue')\n",
    "plt.legend([\"Father\",\"Mother\"])\n",
    "plt.ylabel('Count')\n",
    "plt.xlabel('Height')\n",
    "plt.show"
   ]
  },
  {
   "cell_type": "code",
   "execution_count": 15,
   "metadata": {},
   "outputs": [
    {
     "name": "stdout",
     "output_type": "stream",
     "text": [
      "Mother appears to be shorter on average\n"
     ]
    }
   ],
   "source": [
    "# who is shorter?\n",
    "print(\"Mother appears to be shorter on average\")"
   ]
  },
  {
   "cell_type": "code",
   "execution_count": null,
   "metadata": {},
   "outputs": [],
   "source": []
  }
 ],
 "metadata": {
  "kernelspec": {
   "display_name": "Python 3",
   "language": "python",
   "name": "python3"
  },
  "language_info": {
   "codemirror_mode": {
    "name": "ipython",
    "version": 3
   },
   "file_extension": ".py",
   "mimetype": "text/x-python",
   "name": "python",
   "nbconvert_exporter": "python",
   "pygments_lexer": "ipython3",
   "version": "3.8.10"
  }
 },
 "nbformat": 4,
 "nbformat_minor": 4
}
