{
 "cells": [
  {
   "cell_type": "markdown",
   "metadata": {},
   "source": [
    "# Scheduling Example\n",
    "\n",
    "Suppose you are manufacturing two illegal substances in your dorm room, $\\textbf{A}$ and $\\textbf{B}$, which can be sold for $\\$$120 per unit for substance $\\textbf{A}$ and $\\$$80 for substance $\\textbf{B}$.  The cartel requires that at least 1000 total units be manufactured each month.  Product $\\textbf{A}$ requires five hours of labor, product $\\textbf{B}$ requires three hours of labor per unit.  The cost of your labor is $\\$$12 per hour, and a total of 8000 hours per month of labor is available (basically your whole floor). Determine a production schedule that will maximize the net revenue.  \n",
    "\n",
    "The conversion of this description into a mathematical program is the next important step \n",
    "\n",
    "## Decision Variables\n",
    "\n",
    "First we define decision variables (sadly we already made a bad decision working for the cartel, but let's make the best of our remaining time on Earth!)\n",
    "\n",
    "$x_1 = \\text{units of }A\\text{ per month}$ <br>\n",
    "$x_1 = \\text{units of }B\\text{ per month}$ <br>\n",
    "\n",
    "## Objective Function\n",
    "\n",
    "Here we wish to define the objective function, which in this example is net revenue\n",
    "\n",
    "$y(x_1,x_2) = [120 - (5 \\times 12)]x_1 + [80 - (3 \\times 12)]x_2$<br>\n",
    "\n",
    "In a Jupyter Notebook it would be something like:"
   ]
  },
  {
   "cell_type": "code",
   "execution_count": 2,
   "metadata": {},
   "outputs": [],
   "source": [
    "def myobj(x1,x2):\n",
    "    myobj = (120-5*12)*x1 + (80-3*12)*x2\n",
    "    return myobj"
   ]
  },
  {
   "cell_type": "markdown",
   "metadata": {},
   "source": [
    "## Constraints\n",
    "\n",
    "Next we need to define constraints.  The specific way will depend on the minimization package you choose, we will examine that later on.  Here we will list them and create functions to simply evaluate the constraints.\n",
    "\n",
    "### Minimium Required Production\n",
    "\n",
    "$x_1 + x_2 \\ge 1000$<br>\n",
    "\n",
    "### Maximum Available Budget for Labrador\n",
    "\n",
    "$5 x_1 + 3 x_2 \\le 8000$<br>\n",
    "\n",
    "### Non-Negativity\n",
    "\n",
    "$x_1 \\ge 0; x_2 \\ge 0$<br>"
   ]
  },
  {
   "cell_type": "code",
   "execution_count": 15,
   "metadata": {},
   "outputs": [],
   "source": [
    "def con1(x1,x2):\n",
    "    # con1 >= 0 is feasible\n",
    "    con1 = x1+x2 - 1000\n",
    "    return con1\n",
    "def con2(x1,x2):\n",
    "    # con2 >=0 is feasible\n",
    "    con2 = 8000 - 5*x1 -3*x2\n",
    "    return con2"
   ]
  },
  {
   "cell_type": "markdown",
   "metadata": {},
   "source": [
    "At this point we can build a model of the problem (no solution technique just yet).  The problem as stated is integer, but we will pretend that real-valued (fractional) units are OK.  \n",
    "\n",
    "Our program is below, we can even supply code to test for feasibility."
   ]
  },
  {
   "cell_type": "code",
   "execution_count": 43,
   "metadata": {},
   "outputs": [
    {
     "name": "stdout",
     "output_type": "stream",
     "text": [
      "Substance A produced =  500\n",
      "Substance B produced =  500\n",
      "Objective Function Value =  52000\n",
      "Minimun Production Constraint =  0\n",
      "Maximum Labor Budget =  4000\n",
      "Solution is FEASIBLE\n"
     ]
    }
   ],
   "source": [
    "def mymodel(x1,x2):\n",
    "    objvalue = myobj(x1,x2)\n",
    "    constraint1 = con1(x1,x2)\n",
    "    constraint2 = con2(x1,x2)\n",
    "# print current results\n",
    "    print(\"Substance A produced = \",x1)\n",
    "    print(\"Substance B produced = \",x2)\n",
    "    print(\"Objective Function Value = \",objvalue)\n",
    "    print(\"Minimun Production Constraint = \",constraint1)\n",
    "    print(\"Maximum Labor Budget = \",constraint2)\n",
    "    if constraint1 < 0 or constraint2 < 0 or x1 < 0 or x2 <0:\n",
    "        print(\"Solution is INFEASIBLE\")\n",
    "    else:\n",
    "        print(\"Solution is FEASIBLE\")\n",
    "    return\n",
    "x1=500\n",
    "x2=500\n",
    "mymodel(x1,x2)"
   ]
  },
  {
   "cell_type": "markdown",
   "metadata": {},
   "source": [
    "Observe our labor budget is still available, so we can increase production and improve our revenue; lets try more $\\textbf{B}$"
   ]
  },
  {
   "cell_type": "code",
   "execution_count": 53,
   "metadata": {},
   "outputs": [
    {
     "name": "stdout",
     "output_type": "stream",
     "text": [
      "Substance A produced =  500\n",
      "Substance B produced =  1833\n",
      "Objective Function Value =  110652\n",
      "Minimun Production Constraint =  1333\n",
      "Maximum Labor Budget =  1\n",
      "Solution is FEASIBLE\n"
     ]
    }
   ],
   "source": [
    "x1=500\n",
    "x2=1833\n",
    "mymodel(x1,x2)"
   ]
  },
  {
   "cell_type": "markdown",
   "metadata": {},
   "source": [
    "Now our revenue is over 2 times bigger that our initial guess.  Our next task is to automate the quest for a bestest solution.  \n",
    "\n",
    "### Grid Search Method\n",
    "\n",
    "The easiest approach (but computationally very expensive and incredibly slow) is a grid search - we simply specify values of $\\textbf{A}$ and $\\textbf{B}$ in a repetition structure, and compute the objective value and whether the solution is feasible, and just save the best.  The script below implements a crude search.\n",
    "\n",
    "First suppress all the output in the function "
   ]
  },
  {
   "cell_type": "code",
   "execution_count": 56,
   "metadata": {},
   "outputs": [],
   "source": [
    "def mymodel(x1,x2):\n",
    "    objvalue = myobj(x1,x2)\n",
    "    constraint1 = con1(x1,x2)\n",
    "    constraint2 = con2(x1,x2)\n",
    "# print current results\n",
    "#    print(\"Substance A produced = \",x1)\n",
    "#    print(\"Substance B produced = \",x2)\n",
    "#    print(\"Objective Function Value = \",objvalue)\n",
    "#    print(\"Minimun Production Constraint = \",constraint1)\n",
    "#    print(\"Maximum Labor Budget = \",constraint2)\n",
    "    if constraint1 < 0 or constraint2 < 0 or x1 < 0 or x2 < 0:\n",
    "#        print(\"Solution is INFEASIBLE\")\n",
    "        returncode = 0\n",
    "    else:\n",
    "#       print(\"Solution is FEASIBLE\")\n",
    "        returncode = 1\n",
    "    return (objvalue,returncode) # return a tuple"
   ]
  },
  {
   "cell_type": "markdown",
   "metadata": {},
   "source": [
    "Now a search code to search all combinations of $x_1$ and $x_2$ in the range [0,3000] (the range is an educated guess of the values to search)"
   ]
  },
  {
   "cell_type": "code",
   "execution_count": 62,
   "metadata": {},
   "outputs": [
    {
     "name": "stdout",
     "output_type": "stream",
     "text": [
      "Search complete  9000000  Total Combinations\n",
      "Found  1668 feasible solutions \n",
      " --- Best Solution ---\n",
      "Substance A produced =  1.0\n",
      "Substance B produced =  2665.0\n",
      "Objective Function Value =  117320.0\n",
      "Production Above Minimum =  1666.0\n",
      "Labor Budget Remaining =  0.0\n"
     ]
    }
   ],
   "source": [
    "Avector = [] # empty list to store values of A\n",
    "Bvector = [] # empty list to store values of B\n",
    "howmany = 0\n",
    "for i in range(3000):\n",
    "    Avector.append(float(i))\n",
    "    Bvector.append(float(i))\n",
    "# now the actual search\n",
    "big = -1 # a negative value, revenue needs to be positive\n",
    "xbest = -1 # variables to store our best solution\n",
    "ybest = -1\n",
    "feasible = 0\n",
    "for ix1 in range(3000):\n",
    "    for ix2 in range(3000):\n",
    "        howmany = howmany+1\n",
    "        result = mymodel(Avector[ix1],Bvector[ix2])\n",
    "        if result[1] == 1:\n",
    "            if result[0] > big:\n",
    "                feasible = feasible + 1\n",
    "                big = result[0]\n",
    "                xbest = Avector[ix1]\n",
    "                ybest = Bvector[ix2]\n",
    "\n",
    "print(\"Search complete \",howmany,\" Total Combinations\")\n",
    "print(\"Found \",feasible, \"feasible solutions \\n --- Best Solution ---\")\n",
    "print(\"Substance A produced = \",xbest)\n",
    "print(\"Substance B produced = \",ybest)\n",
    "print(\"Objective Function Value = \",big)\n",
    "print(\"Production Above Minimum = \",con1(xbest,ybest))\n",
    "print(\"Labor Budget Remaining = \",con2(xbest,ybest))        "
   ]
  },
  {
   "cell_type": "markdown",
   "metadata": {},
   "source": [
    "# Unconstrained Minimization"
   ]
  }
 ],
 "metadata": {
  "kernelspec": {
   "display_name": "Python 3",
   "language": "python",
   "name": "python3"
  },
  "language_info": {
   "codemirror_mode": {
    "name": "ipython",
    "version": 3
   },
   "file_extension": ".py",
   "mimetype": "text/x-python",
   "name": "python",
   "nbconvert_exporter": "python",
   "pygments_lexer": "ipython3",
   "version": "3.8.10"
  }
 },
 "nbformat": 4,
 "nbformat_minor": 4
}
