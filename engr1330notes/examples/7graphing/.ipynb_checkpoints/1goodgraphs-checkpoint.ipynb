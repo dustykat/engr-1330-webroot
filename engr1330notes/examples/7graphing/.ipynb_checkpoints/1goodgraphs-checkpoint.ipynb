{
 "cells": [
  {
   "cell_type": "markdown",
   "metadata": {},
   "source": [
    "# Characteristics of a Good Graph\n",
    "\n",
    "Constructing a graph involves more than just plotting data points; the graph must convey information in a clear and unambiguous fashion, and it should have a particular aesthetic.  So graphing is both art and science!\n",
    "\n",
    "{numref}`speed-time-7-1` is a plot of some observations of speed and elapsed time. The graph includes a **title**, and the axes are **labeled** including the relevant **dimensions** and/or **units**.  The plotted points are shown on a contrasting background.  The points themselves are not connected by any guidelines, a convention used for plotting data in contrast to a data model, which would be plotted as a continuous line (curve).\n",
    "\n",
    "```{figure} speed-time-7-1.png\n",
    "---\n",
    "width: 400px\n",
    "name: speed-time-7-1\n",
    "---\n",
    "A clear, aesthetic graph created for some observed values\n",
    "```\n",
    "Sometimes it is helpful to join the points with a line segment as in {numref}`speed-time-7-2`, but by convention, the data points being shown implies these are measured data.\n",
    "\n",
    "```{figure} speed-time-7-2.png\n",
    "---\n",
    "width: 400px\n",
    "name: speed-time-7-2\n",
    "---\n",
    "A clear, aesthetic graph created for some observed values, with guideline segments between the data points\n",
    "```\n",
    "\n",
    "\n",
    "\n",
    "\n"
   ]
  },
  {
   "cell_type": "markdown",
   "metadata": {},
   "source": [
    "{numref}`spring-force-7-1` is a graph in which the data points represent individual measurements.  In such situations, the data points may not define a smooth curve because of small variations  or small errors in the in the measurements, or even transcription errors. This lack of \"smooth\" is called *data scatter*; it is typical and anticipated.\n",
    "\n",
    "```{figure} spring-force-7-1.png\n",
    "---\n",
    "width: 400px\n",
    "name: spring-force-7-1\n",
    "---\n",
    "A graph showing measured data points\n",
    "```\n",
    "\n",
    ":::{warning}\n",
    "Real data should not be smooth, if it appears to be so, the analyst probably is inadvertently plotting model values and not the data.\n",
    ":::\n",
    "\n",
    "Measured data points should always be plotted individually, using a symbol for each data point, so that the scatter can be seen clearly as was done in {numref}`spring-force-7-1`.\n",
    "\n",
    "{numref}`spring-force-7-2` shows the same set of measured data with a *trendline* passed through the data. \n",
    "\n",
    "```{figure} spring-force-7-2.png\n",
    "---\n",
    "width: 400px\n",
    "name: spring-force-7-2\n",
    "---\n",
    "A trendline (data model) representing a set of measured data points\n",
    "```\n",
    "\n",
    ":::{note}\n",
    "The trendline is herein referred to as a *data model* to convey the idea that it is a model of how data are anticipated to behave.  Later in the document we examine many different kinds of data models used to build *prediction engines* or *classification engines* to support engineering judgement and design\n",
    ":::\n",
    "\n"
   ]
  },
  {
   "cell_type": "markdown",
   "metadata": {},
   "source": [
    "## Multiple Plots on a Single Graph\n",
    "\n",
    "{numref}`sphere-7-1` is a plot showing the surface ares and volums of a sphere as a function of the sphere's radius; hence two different data sets within the smae graph, each shown in a different color, and different marker-type.  Notice this chart includes a **legend**, that communicates to the viewer the identity of each data set.\n",
    "\n",
    "```{figure} sphere-7-1.png\n",
    "---\n",
    "width: 400px\n",
    "name: sphere-7-1\n",
    "---\n",
    "A graph showing two different data sets\n",
    "```"
   ]
  },
  {
   "cell_type": "markdown",
   "metadata": {},
   "source": [
    ":::{admonition} Summary\n",
    "The fundamental features of a good graph are:\n",
    "- Title\n",
    "- Axes labels with units \n",
    "- Grid lines\n",
    "- Different colors, line-type and/or markers for multiple data on same chart\n",
    "- A legend to identify the data set for multiple data or data models on same chart\n",
    ":::"
   ]
  }
 ],
 "metadata": {
  "kernelspec": {
   "display_name": "Python 3",
   "language": "python",
   "name": "python3"
  },
  "language_info": {
   "codemirror_mode": {
    "name": "ipython",
    "version": 3
   },
   "file_extension": ".py",
   "mimetype": "text/x-python",
   "name": "python",
   "nbconvert_exporter": "python",
   "pygments_lexer": "ipython3",
   "version": "3.8.10"
  }
 },
 "nbformat": 4,
 "nbformat_minor": 4
}
