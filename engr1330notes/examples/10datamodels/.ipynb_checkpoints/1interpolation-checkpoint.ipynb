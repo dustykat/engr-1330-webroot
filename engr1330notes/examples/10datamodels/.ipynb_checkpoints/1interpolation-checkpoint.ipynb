{
 "cells": [
  {
   "cell_type": "markdown",
   "metadata": {},
   "source": [
    "# Interpolation\n",
    "\n",
    "## Linear Interpolation\n",
    "\n",
    "This example presents a Jupyter Notebook that solves a common geopolitical problem, namely that of turning a capital city onto a smoking crater by a ballistic missle whose immediate post-boost phase velocity $v_o$ and angle relative to the Earth (treated as a plane) $\\Theta$ is known.\n",
    "\n",
    ":::{note}\n",
    "The example is primarily to illustrate the Jupyter environment, and many parts of the notebook are explained later in the course. \n",
    ":::\n",
    "\n",
    "## Logarithmic Interpolation\n",
    "\n",
    "## Polynomial Interpolation\n",
    "\n",
    "\n",
    "\n"
   ]
  }
 ],
 "metadata": {
  "kernelspec": {
   "display_name": "Python 3",
   "language": "python",
   "name": "python3"
  },
  "language_info": {
   "codemirror_mode": {
    "name": "ipython",
    "version": 3
   },
   "file_extension": ".py",
   "mimetype": "text/x-python",
   "name": "python",
   "nbconvert_exporter": "python",
   "pygments_lexer": "ipython3",
   "version": "3.8.10"
  }
 },
 "nbformat": 4,
 "nbformat_minor": 4
}
