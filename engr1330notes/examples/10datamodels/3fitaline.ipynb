{
 "cells": [
  {
   "cell_type": "markdown",
   "metadata": {},
   "source": [
    "# Fitting a Line to Data Using Packages\n",
    "\n",
    "So in core python, there is a fair amount of work involved to write a script to fit data - how about an easier way? \n",
    "\n",
    "Using packages specifically designed for line fitting is that easier way!  \n",
    "\n",
    "## Using `statsmodel` \n",
    "\n",
    "First lets get things into a dataframe. Using the lists from the example above we can build a dataframe using pandas.\n",
    "\n",
    ":::{note}\n",
    "Here we are cheating a little because we already know what packages we want to use\n",
    ":::\n"
   ]
  },
  {
   "cell_type": "code",
   "execution_count": 1,
   "metadata": {},
   "outputs": [],
   "source": [
    "#Load the necessary packages\n",
    "import numpy as np\n",
    "import pandas as pd\n",
    "import statistics \n",
    "from matplotlib import pyplot as plt\n",
    "import statsmodels.formula.api as smf # here is the regression package to fit lines"
   ]
  },
  {
   "cell_type": "markdown",
   "metadata": {},
   "source": [
    "Now build a dataframe"
   ]
  },
  {
   "cell_type": "code",
   "execution_count": 3,
   "metadata": {},
   "outputs": [
    {
     "data": {
      "text/html": [
       "<div>\n",
       "<style scoped>\n",
       "    .dataframe tbody tr th:only-of-type {\n",
       "        vertical-align: middle;\n",
       "    }\n",
       "\n",
       "    .dataframe tbody tr th {\n",
       "        vertical-align: top;\n",
       "    }\n",
       "\n",
       "    .dataframe thead th {\n",
       "        text-align: right;\n",
       "    }\n",
       "</style>\n",
       "<table border=\"1\" class=\"dataframe\">\n",
       "  <thead>\n",
       "    <tr style=\"text-align: right;\">\n",
       "      <th></th>\n",
       "      <th>X</th>\n",
       "      <th>Y</th>\n",
       "    </tr>\n",
       "  </thead>\n",
       "  <tbody>\n",
       "    <tr>\n",
       "      <th>0</th>\n",
       "      <td>2</td>\n",
       "      <td>2.0</td>\n",
       "    </tr>\n",
       "    <tr>\n",
       "      <th>1</th>\n",
       "      <td>4</td>\n",
       "      <td>3.5</td>\n",
       "    </tr>\n",
       "    <tr>\n",
       "      <th>2</th>\n",
       "      <td>11</td>\n",
       "      <td>8.0</td>\n",
       "    </tr>\n",
       "    <tr>\n",
       "      <th>3</th>\n",
       "      <td>7</td>\n",
       "      <td>4.5</td>\n",
       "    </tr>\n",
       "    <tr>\n",
       "      <th>4</th>\n",
       "      <td>17</td>\n",
       "      <td>9.5</td>\n",
       "    </tr>\n",
       "  </tbody>\n",
       "</table>\n",
       "</div>"
      ],
      "text/plain": [
       "    X    Y\n",
       "0   2  2.0\n",
       "1   4  3.5\n",
       "2  11  8.0\n",
       "3   7  4.5\n",
       "4  17  9.5"
      ]
     },
     "execution_count": 3,
     "metadata": {},
     "output_type": "execute_result"
    }
   ],
   "source": [
    "distance = [2,4,11,7,17]\n",
    "force = [2.0,3.5,8.0,4.5,9.5]\n",
    "data = pd.DataFrame({'X':distance, 'Y':force}) # we use X,Y as column names for simplicity\n",
    "data.head()"
   ]
  },
  {
   "cell_type": "markdown",
   "metadata": {},
   "source": [
    "Now we will define and fit a linear model to the data, observe the rather simple syntax, no for-loops!"
   ]
  },
  {
   "cell_type": "code",
   "execution_count": 4,
   "metadata": {},
   "outputs": [],
   "source": [
    "# Initialise and fit linear regression model using `statsmodels`\n",
    "model = smf.ols('Y ~ X', data=data) # model object constructor syntax\n",
    "model = model.fit()"
   ]
  },
  {
   "cell_type": "markdown",
   "metadata": {},
   "source": [
    "Now to get output from the model, first we will generate a summary table"
   ]
  },
  {
   "cell_type": "code",
   "execution_count": 5,
   "metadata": {},
   "outputs": [
    {
     "name": "stdout",
     "output_type": "stream",
     "text": [
      "                            OLS Regression Results                            \n",
      "==============================================================================\n",
      "Dep. Variable:                      Y   R-squared:                       0.958\n",
      "Model:                            OLS   Adj. R-squared:                  0.944\n",
      "Method:                 Least Squares   F-statistic:                     68.00\n",
      "Date:                Tue, 12 Apr 2022   Prob (F-statistic):            0.00373\n",
      "Time:                        21:07:25   Log-Likelihood:                -4.3518\n",
      "No. Observations:                   5   AIC:                             12.70\n",
      "Df Residuals:                       3   BIC:                             11.92\n",
      "Df Model:                           1                                         \n",
      "Covariance Type:            nonrobust                                         \n",
      "==============================================================================\n",
      "                 coef    std err          t      P>|t|      [0.025      0.975]\n",
      "------------------------------------------------------------------------------\n",
      "Intercept      1.2794      0.611      2.094      0.127      -0.665       3.224\n",
      "X              0.5147      0.062      8.246      0.004       0.316       0.713\n",
      "==============================================================================\n",
      "Omnibus:                          nan   Durbin-Watson:                   1.872\n",
      "Prob(Omnibus):                    nan   Jarque-Bera (JB):                0.884\n",
      "Skew:                           0.993   Prob(JB):                        0.643\n",
      "Kurtosis:                       2.453   Cond. No.                         18.1\n",
      "==============================================================================\n",
      "\n",
      "Notes:\n",
      "[1] Standard Errors assume that the covariance matrix of the errors is correctly specified.\n"
     ]
    },
    {
     "name": "stderr",
     "output_type": "stream",
     "text": [
      "/opt/jupyterhub/lib/python3.8/site-packages/statsmodels/stats/stattools.py:74: ValueWarning: omni_normtest is not valid with less than 8 observations; 5 samples were given.\n",
      "  warn(\"omni_normtest is not valid with less than 8 observations; %i \"\n"
     ]
    }
   ],
   "source": [
    "print(model.summary())"
   ]
  },
  {
   "cell_type": "markdown",
   "metadata": {},
   "source": [
    "The model parameters are contained in a tuple named `model.params` which we could query for making a plot.  Below we will access this as well as some other values from the fitting tool.  We can get a listing of all the available properties from the [package documentation](https://www.statsmodels.org/dev/generated/statsmodels.regression.linear_model.RegressionResults.html)"
   ]
  },
  {
   "cell_type": "code",
   "execution_count": 19,
   "metadata": {},
   "outputs": [
    {
     "data": {
      "image/png": "[encoded data removed]",
      "text/plain": [
       "<Figure size 864x432 with 1 Axes>"
      ]
     },
     "metadata": {
      "needs_background": "light"
     },
     "output_type": "display_data"
    }
   ],
   "source": [
    "# Predict values\n",
    "y_pred = model.predict()\n",
    "\n",
    "beta0 = model.params[0] # the fitted intercept\n",
    "beta1 = model.params[1]\n",
    "sse = model.ssr\n",
    "rsq = model.rsquared\n",
    "\n",
    "titleline = \"Spring Force \\n Data model y = \" + str(round(beta0,3)) + \" + \" + str(round(beta1,3)) + \"x\" # put the model into the title\n",
    "titleline = titleline + '\\n SSE = ' + str(round(sse,4)) + '\\n R^2 = ' + str(round(rsq,3)) \n",
    "\n",
    "# Plot regression against actual data\n",
    "plt.figure(figsize=(12, 6))\n",
    "plt.plot(data['X'], data['Y'], 'o')           # scatter plot showing actual data\n",
    "plt.plot(data['X'], y_pred, 'r', linewidth=1)   # regression line\n",
    "plt.xlabel('Displacement from Equilibrium Position (cm)')\n",
    "plt.ylabel('Force '+r'($\\frac{kg~m}{s^2}$)')\n",
    "plt.legend(['Observed Values','Data Model'])\n",
    "plt.title(titleline)\n",
    "\n",
    "plt.show();"
   ]
  },
  {
   "cell_type": "markdown",
   "metadata": {},
   "source": [
    "## Using `sklearn`\n",
    "\n",
    "Again we will use dataframes from pandas.  We have some reading to do at the [sklearn](https://scikit-learn.org/stable/auto_examples/linear_model/plot_ols.html) documentation site."
   ]
  },
  {
   "cell_type": "code",
   "execution_count": 21,
   "metadata": {},
   "outputs": [],
   "source": [
    "# repeat using sklearn\n",
    "# Multiple Linear Regression with scikit-learn:\n",
    "from sklearn.linear_model import LinearRegression\n",
    "\n",
    "# Build linear regression model using X as predictors\n",
    "# Split data into predictors X and output Y\n",
    "predictors = ['X'] # this seems odd, but will make sense when we add predictors later\n",
    "X = data[predictors]\n",
    "y = data['Y']\n",
    "\n",
    "# Initialise and fit model\n",
    "lm = LinearRegression()  # This is the sklearn model tool here\n",
    "model = lm.fit(X, y)"
   ]
  },
  {
   "cell_type": "markdown",
   "metadata": {},
   "source": [
    "Now the model is fit next we\n",
    "- Make predictions (`sklearn` specific calls)\n",
    "- Recover the betas\n",
    "- Compute SSE and $R^2$\n",
    "- Build a plot"
   ]
  },
  {
   "cell_type": "code",
   "execution_count": 40,
   "metadata": {},
   "outputs": [
    {
     "data": {
      "image/png": "[encoded data removed]",
      "text/plain": [
       "<Figure size 864x432 with 1 Axes>"
      ]
     },
     "metadata": {
      "needs_background": "light"
     },
     "output_type": "display_data"
    }
   ],
   "source": [
    "# Predict values\n",
    "y_pred = model.predict(X)\n",
    "\n",
    "beta0 = model.intercept_ # the fitted intercept\n",
    "beta1 = model.coef_[0]\n",
    "\n",
    "from sklearn.metrics import mean_squared_error, r2_score\n",
    "sse = len(y)*mean_squared_error(y,y_pred) # shenigians here to get value same as homebrew\n",
    "rsq = r2_score(y,y_pred) # no shenigians here, but goofy ass function call\n",
    "\n",
    "\n",
    "titleline = \"Spring Force \\n Data model y = \" + str(round(beta0,3)) + \" + \" + str(round(beta1,3)) + \"x\" # put the model into the title\n",
    "titleline = titleline + '\\n SSE = ' + str(round(sse,4)) + '\\n R^2 = ' + str(round(rsq,3)) \n",
    "\n",
    "# Plot regression against actual data\n",
    "plt.figure(figsize=(12, 6))\n",
    "plt.plot(data['X'], data['Y'], 'o')           # scatter plot showing actual data\n",
    "plt.plot(data['X'], y_pred, 'r', linewidth=1)   # regression line\n",
    "plt.xlabel('Displacement from Equilibrium Position (cm)')\n",
    "plt.ylabel('Force '+r'($\\frac{kg~m}{s^2}$)')\n",
    "plt.legend(['Observed Values','Data Model'])\n",
    "plt.title(titleline)\n",
    "\n",
    "plt.show();"
   ]
  },
  {
   "cell_type": "markdown",
   "metadata": {},
   "source": [
    "At this point we certainly have tools to fit straight lines.  \n",
    "\n",
    ":::{admonition} Summary\n",
    ":class: tip\n",
    "\n",
    "Use of a package greatly simplifies curve fitting, but we have to read how to use a package.\n",
    "\n",
    "- The goal is to fit a data model to data\n",
    "- `statsmodel` provides a nice interface, obtain same results as our homebrew scripts\n",
    "- `sklearn` is another package, also same results\n",
    "- Use the package you like, plot your results to check your conclusions\n",
    ":::\n",
    "\n",
    ":::{warning}\n",
    "The plots become tricky using the packages.  Here they look fine, but are actually flawed because the plot series are not sorted.  Remember line plots expect sorted x-values.  When we get to later plots we amy have to sort the predictions to get the plots to look decent.\n",
    ":::"
   ]
  },
  {
   "cell_type": "markdown",
   "metadata": {},
   "source": [
    "## References\n",
    "\n",
    "1. [Seabold, Skipper, and Josef Perktold. “statsmodels: Econometric and statistical modeling with python.” Proceedings of the 9th Python in Science Conference. 2010.](https://www.statsmodels.org/dev/index.html)\n",
    "2. [Scikit-learn: Machine Learning in Python, Pedregosa et al., JMLR 12, pp. 2825-2830, 2011.](https://scikit-learn.org/stable/index.html)\n",
    "\n"
   ]
  },
  {
   "cell_type": "code",
   "execution_count": null,
   "metadata": {},
   "outputs": [],
   "source": []
  }
 ],
 "metadata": {
  "kernelspec": {
   "display_name": "Python 3",
   "language": "python",
   "name": "python3"
  },
  "language_info": {
   "codemirror_mode": {
    "name": "ipython",
    "version": 3
   },
   "file_extension": ".py",
   "mimetype": "text/x-python",
   "name": "python",
   "nbconvert_exporter": "python",
   "pygments_lexer": "ipython3",
   "version": "3.8.10"
  }
 },
 "nbformat": 4,
 "nbformat_minor": 4
}
