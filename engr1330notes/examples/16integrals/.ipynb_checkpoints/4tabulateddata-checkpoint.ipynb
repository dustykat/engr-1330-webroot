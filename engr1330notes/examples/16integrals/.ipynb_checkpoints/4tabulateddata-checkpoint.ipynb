{
 "cells": [
  {
   "cell_type": "markdown",
   "metadata": {},
   "source": [
    "# Integration of Tabular Data\n",
    "\n",
    "This section is going to work with tabular data -- different from function evaluation, but\n",
    "similar. To be really useful, we need to learn how to read data from a file; manually\n",
    "entering tabular data is really time consuming, error prone, and just plain idiotic.\n",
    "\n",
    "So in this chapter we will learn how to read data from a file into a list, then we can process\n",
    "the list as if it were a function and integrate its contents.\n",
    "\n",
    "## Reading from a file --- open, read, close files\n",
    "\n",
    "First, lets consider a file named ``MyFile.txt``.   The extension is important so that the Shell does not think it is a Python script.\n",
    "The contents of ``MyFile.txt`` are:\n",
    "\n",
    "    1  1\n",
    "    2  4\n",
    "    3  9\n",
    "    4  16\n",
    "    5  25\n",
    "\n",
    "The code fragment below, will let us look at the file (already existing in our local directory)"
   ]
  },
  {
   "cell_type": "markdown",
   "metadata": {},
   "source": [
    "    "
   ]
  },
  {
   "cell_type": "code",
   "execution_count": 19,
   "metadata": {},
   "outputs": [
    {
     "name": "stdout",
     "output_type": "stream",
     "text": [
      "1  1\n",
      "2  4\n",
      "3  9\n",
      "4  16\n",
      "5  25\n"
     ]
    }
   ],
   "source": [
    "import subprocess # lets us run \"shell\" commands and recover stdio stream\n",
    "usefull_cat_call = subprocess.run([\"cat\",\"MyFile.txt\"], stdout=subprocess.PIPE, text=True) # this is the call to run the bash command \"cat MyFile.txt\" which will display the contents of the file if it exists.\n",
    "print(usefull_cat_call.stdout)"
   ]
  },
  {
   "cell_type": "markdown",
   "metadata": {},
   "source": [
    "Now that we know that the file exists,to read the contents into a Python script we have to do the following:\n",
    "\n",
    "- Open a connection to the file --- this is a concept common to all languages, it might be called something different, but the program needs to somehow know the location and name of the file.\n",
    "    \n",
    "- Read the contents into an object --- we have a lot of control on how this gets done, for the time being we won't exercise much control yet.  When you do substantial programs, you will depend on the control of the reads (and writes).\n",
    "    \n",
    "- Disconnect the file --- this too is common to all languages.  Its a really easy step to forget.  Not a big deal if the program ends as planned but terrible if there is a error in the program and the connection is still open.  Usually nothing bad happens, but with an open connection it is possible for the file to get damaged.   If that file represents millions of customers credit card numbers, that's kind of a problem, and time to go work on your resume, or get your passport collection out and choose a country without extradition.\n",
    "    \n",
    "The code fragment below performs these three tasks and prints the things we read"
   ]
  },
  {
   "cell_type": "code",
   "execution_count": 20,
   "metadata": {},
   "outputs": [
    {
     "name": "stdout",
     "output_type": "stream",
     "text": [
      "1  1\n",
      "2  4\n",
      "3  9\n",
      "4  16\n",
      "5  25"
     ]
    }
   ],
   "source": [
    "Afile = open(\"MyFile.txt\",\"r\") # open a connection to the file; set to \"read\"\n",
    "# read the five lines\n",
    "line1 = Afile.readline()\n",
    "line2 = Afile.readline()\n",
    "line3 = Afile.readline()\n",
    "line4 = Afile.readline()\n",
    "line5 = Afile.readline()\n",
    "Afile.close() # disconnect from the file\n",
    "# echo the input\n",
    "print(line1,end=\"\")\n",
    "print(line2,end=\"\")\n",
    "print(line3,end=\"\")\n",
    "print(line4,end=\"\")\n",
    "print(line5,end=\"\")"
   ]
  },
  {
   "cell_type": "markdown",
   "metadata": {},
   "source": [
    "### Read into a list\n",
    "A far more useful and elegant way to read from a file is to use a ``for`` loop.   The attribute ``line`` within a file is an iterable, hence construction the loop is pretty straightforward.   \n",
    "\n",
    "A script fragment below does the same thing as the example above, but uses a ``for`` loop to accomplish stepping through the file.   \n",
    "\n",
    "Additionally, I have added a counter to keep track of how many lines were read --- in a lot of engineering programs, the number of things read becomes important later in a program, hence it is usually a good idea to capture the count when the data are first read.\n",
    "\n",
    "First lets work out if we can automatically detect the end of the file.  So this script just reads and prints the attribute ``line`` from object ``Afile``.  \n",
    "Notice how the print statement is changed, to suppress the extra line feed."
   ]
  },
  {
   "cell_type": "code",
   "execution_count": 21,
   "metadata": {},
   "outputs": [
    {
     "name": "stdout",
     "output_type": "stream",
     "text": [
      "1  1\n",
      "2  4\n",
      "3  9\n",
      "4  16\n",
      "5  25\n",
      "File has  5  records (lines)\n"
     ]
    }
   ],
   "source": [
    "Afile = open(\"MyFile.txt\",\"r\") # open a connection to the file; set to \"read\"\n",
    "# read using a for loop, exit when at end of file  and report line count\n",
    "how_many_lines = 0 # start our counter!\n",
    "for line in Afile:\n",
    "    print(line,end=\"\")\n",
    "    how_many_lines += 1\n",
    "Afile.close() # disconnect from the file\n",
    "print(\"\\nFile has \",how_many_lines,\" records (lines)\")"
   ]
  },
  {
   "cell_type": "markdown",
   "metadata": {},
   "source": [
    "Now we will add a list to receive the input, here it reads the file above as a string into a list ``xy``, then splits that list and places the contents into two other lists, ``x`` and ``y``.  The script has several parts to discuss.   First, the destination variables (lists) must be created -- I used the null list concept here because I don't know how big the list is until I read the list.  \n",
    "Next I used the ``.append()`` method which operates on the ``xy`` list.  \n",
    "The arguments of the method ``[str(n) for n in line.strip().split()]`` tells the program that the elements are to be interpreted as a string, and to split (split) the line into sub-strings based on a null delimiter (whitespace), and to remove all the whitespace (strip) characters.   \n",
    "\n",
    "Once the line is split, the strings are appended into the ``xy`` list.  The ``xy`` list is printed to show that it is a list of 5 things, each thing being a string comprised of two sets of characters separated by a comma.   ``xy`` is a list of strings.\n",
    "\n",
    "The next section of the code then uses the ``pair`` function within another ``.append()`` method to break the character sets in each element of ``xy`` into two parts ``x`` and ``y``.  \n",
    "Lastly during the pair operation, the code also converts the data into real values (float) and then prints the data in two columns.    \n",
    "This seems like a lot of work, but we could easily get this code to be super reliable, then save it as a function and never have to write it again.   That too comes later -- suffice to say for now we can read a file, parse its contents into two lists $x$ and $y$.  Thus we are now able to integrate tabular data."
   ]
  },
  {
   "cell_type": "code",
   "execution_count": 22,
   "metadata": {
    "cocalc": {
     "outputs": {
      "1": {
       "name": "input",
       "opts": {
        "password": false,
        "prompt": "Enter a lower bound x_low \n"
       },
       "output_type": "stream",
       "value": "0"
      }
     }
    },
    "collapsed": false,
    "jupyter": {
     "outputs_hidden": false
    }
   },
   "outputs": [
    {
     "name": "stdout",
     "output_type": "stream",
     "text": [
      "1  1\n",
      "2  4\n",
      "3  9\n",
      "4  16\n",
      "5  25\n",
      "File has  5  records (lines)\n",
      "The list is: [['1', '1'], ['2', '4'], ['3', '9'], ['4', '16'], ['5', '25']]\n",
      "x =  1.0  y =  1.0\n",
      "x =  2.0  y =  4.0\n",
      "x =  3.0  y =  9.0\n",
      "x =  4.0  y =  16.0\n",
      "x =  5.0  y =  25.0\n"
     ]
    }
   ],
   "source": [
    "xy = [] # null list to store the lines\n",
    "x  = [] # a null list for the first column\n",
    "y  = [] # a null list for the second column\n",
    "Afile = open(\"MyFile.txt\",\"r\") # open a connection to the file; set to \"read\"\n",
    "# read using a for loop, exit when at end of file  and report line count\n",
    "how_many_lines = 0 # start our counter!\n",
    "for line in Afile:\n",
    "    print(line,end=\"\")\n",
    "    xy.append([str(n) for n in line.strip().split()]) # append line to xy, split the line on whitespace, strip out whitespace\n",
    "    how_many_lines += 1\n",
    "Afile.close() # disconnect from the file\n",
    "print(\"\\nFile has \",how_many_lines,\" records (lines)\")\n",
    "print(\"The list is: \",end=\"\")\n",
    "print(xy) # the list\n",
    "for pair in xy:  # parse into x and y\n",
    "    x.append(float(pair[0]))\n",
    "    y.append(float(pair[1]))\n",
    "# verify parsed\n",
    "for i in range (0,how_many_lines,1):\n",
    "    print(\"x = \",x[i],\" y = \",y[i])\n"
   ]
  },
  {
   "cell_type": "markdown",
   "metadata": {
    "jupyter": {
     "outputs_hidden": false
    }
   },
   "source": [
    "## Integrating the Tabular Data\n",
    "Suppose instead of a function we only have tabulations and wist to estimate the area under the curve represented by the tabular values.  Then our integration rules from the prior chapter still work more or less, except the rectangular panels will have to be shifted to either the left edge or right edge of a panel (where the tabulation exists).   \n",
    "\n",
    "Lets just examine an example.  Suppose some measurement technology produced a table of related values.   \n",
    "The excitation variable is ``x`` and ``f(x)`` is the response. \n",
    "\n",
    "        x    f(x) \n",
    "       1.0  1.543 \n",
    "       1.1  1.668 \n",
    "       1.2  1.811 \n",
    "       1.3  1.971 \n",
    "       1.4  2.151 \n",
    "       1.5  2.352 \n",
    "       1.6  2.577 \n",
    "       1.7  2.828 \n",
    "       1.8  3.107\n",
    "       \n",
    "To integrate this table using the trapezoidal method is straightforward.  \n",
    "We will modify our earlier code to read the table (which we put into a file), and compute the integral. "
   ]
  },
  {
   "cell_type": "code",
   "execution_count": 23,
   "metadata": {
    "cocalc": {
     "outputs": {
      "0": {
       "name": "input",
       "opts": {
        "password": false,
        "prompt": "Enter an upper bound x_high \n"
       },
       "output_type": "stream",
       "value": "2"
      }
     }
    },
    "collapsed": false,
    "jupyter": {
     "outputs_hidden": false
    }
   },
   "outputs": [
    {
     "name": "stdout",
     "output_type": "stream",
     "text": [
      "1.0  1.543 \n",
      "1.1  1.668 \n",
      "1.2  1.811 \n",
      "1.3  1.971 \n",
      "1.4  2.151 \n",
      "1.5  2.352 \n",
      "1.6  2.577 \n",
      "1.7  2.828 \n",
      "1.8  3.107\n",
      "File has  9  records (lines)\n",
      "The list is: [['1.0', '1.543'], ['1.1', '1.668'], ['1.2', '1.811'], ['1.3', '1.971'], ['1.4', '2.151'], ['1.5', '2.352'], ['1.6', '2.577'], ['1.7', '2.828'], ['1.8', '3.107']]\n",
      "x =  1.0  y =  1.543\n",
      "x =  1.1  y =  1.668\n",
      "x =  1.2  y =  1.811\n",
      "x =  1.3  y =  1.971\n",
      "x =  1.4  y =  2.151\n",
      "x =  1.5  y =  2.352\n",
      "x =  1.6  y =  2.577\n",
      "x =  1.7  y =  2.828\n",
      "x =  1.8  y =  3.107\n",
      "Area =  1.7683000000000002\n"
     ]
    }
   ],
   "source": [
    "# My Tabular Integration\n",
    "# Integrate a table of values using Trapezoidal Panels\n",
    "xy = [] # null list to store the lines\n",
    "x  = [] # a null list for the first column\n",
    "y  = [] # a null list for the second column\n",
    "Afile = open(\"MyTableOfData.txt\",\"r\") # open a connection to the file; set to \"read\"\n",
    "# read using a for loop, exit when at end of file  and report line count\n",
    "how_many_lines = 0 # start our counter!\n",
    "for line in Afile:\n",
    "    print(line,end=\"\")\n",
    "    xy.append([str(n) for n in line.strip().split()]) # append line to xy, split the line on whitespace, strip out whitespace\n",
    "    how_many_lines += 1\n",
    "Afile.close() # disconnect from the file\n",
    "print(\"\\nFile has \",how_many_lines,\" records (lines)\")\n",
    "print(\"The list is: \",end=\"\")\n",
    "print(xy) # the list\n",
    "for pair in xy:  # parse into x and y\n",
    "    x.append(float(pair[0]))\n",
    "    y.append(float(pair[1]))\n",
    "# verify parsed\n",
    "for i in range (0,how_many_lines,1):\n",
    "    print(\"x = \",x[i],\" y = \",y[i])\n",
    "# now the actual integration\n",
    "accumulated_area = 0 # an accumulator\n",
    "for i in range(0,how_many_lines-1,1): #index stops at n-1 things because each panel evaluated at both ends\n",
    "    delta_x = x[i+1]-x[i]\n",
    "    height =(y[i+1]+y[i])/2.0\n",
    "    accumulated_area += height*delta_x\n",
    "print(\"Area = \",accumulated_area)  # report the result\n"
   ]
  },
  {
   "cell_type": "markdown",
   "metadata": {},
   "source": [
    "Cool, it seems to work -- now tidy the code a bit by suppressing extra outputs"
   ]
  },
  {
   "cell_type": "code",
   "execution_count": 24,
   "metadata": {
    "cocalc": {
     "outputs": {
      "0": {
       "name": "input",
       "opts": {
        "password": false,
        "prompt": "Enter how many panels \n"
       },
       "output_type": "stream",
       "value": "4"
      }
     }
    },
    "collapsed": false,
    "jupyter": {
     "outputs_hidden": false
    }
   },
   "outputs": [
    {
     "name": "stdout",
     "output_type": "stream",
     "text": [
      "\n",
      "Records read =:  9\n",
      "x =  1.0  y =  1.543\n",
      "x =  1.1  y =  1.668\n",
      "x =  1.2  y =  1.811\n",
      "x =  1.3  y =  1.971\n",
      "x =  1.4  y =  2.151\n",
      "x =  1.5  y =  2.352\n",
      "x =  1.6  y =  2.577\n",
      "x =  1.7  y =  2.828\n",
      "x =  1.8  y =  3.107\n",
      "Area =  1.7683000000000002\n"
     ]
    }
   ],
   "source": [
    "# My Tabular Integration\n",
    "# Integrate a table of values using Trapezoidal Panels\n",
    "xy = [] # null list to store the lines\n",
    "x  = [] # a null list for the first column\n",
    "y  = [] # a null list for the second column\n",
    "Afile = open(\"MyTableOfData.txt\",\"r\") # open a connection to the file; set to \"read\"\n",
    "# read using a for loop, exit when at end of file  and report line count\n",
    "how_many_lines = 0 # start our counter!\n",
    "for line in Afile:\n",
    "    ##print(line,end=\"\")\n",
    "    xy.append([str(n) for n in line.strip().split()]) # append line to xy, split the line on whitespace, strip out whitespace\n",
    "    how_many_lines += 1\n",
    "Afile.close() # disconnect from the file\n",
    "print(\"\\nRecords read =: \",how_many_lines)\n",
    "##print(\"The list is: \",end=\"\")\n",
    "##print(xy) # the list\n",
    "for pair in xy:  # parse into x and y\n",
    "    x.append(float(pair[0]))\n",
    "    y.append(float(pair[1]))\n",
    "# verify parsed\n",
    "for i in range (0,how_many_lines,1):\n",
    "    print(\"x = \",x[i],\" y = \",y[i])\n",
    "# now the actual integration\n",
    "accumulated_area = 0 # an accumulator\n",
    "for i in range(0,how_many_lines-1,1): #index stops at n-1 things because each panel evaluated at both ends\n",
    "    delta_x = x[i+1]-x[i]\n",
    "    height =(y[i+1]+y[i])/2.0\n",
    "    accumulated_area += height*delta_x\n",
    "print(\"Area = \",accumulated_area)  # report the result"
   ]
  },
  {
   "cell_type": "markdown",
   "metadata": {},
   "source": [
    "Realistically the only other simple integration method for tabular data is the rectangular rule, either using the left edge of a panel or the right edge of a panel (and I suppose you could do both and average the result which would be the trapezoidal method)."
   ]
  }
 ],
 "metadata": {
  "kernelspec": {
   "display_name": "Python 3",
   "language": "python",
   "name": "python3"
  },
  "language_info": {
   "codemirror_mode": {
    "name": "ipython",
    "version": 3
   },
   "file_extension": ".py",
   "mimetype": "text/x-python",
   "name": "python",
   "nbconvert_exporter": "python",
   "pygments_lexer": "ipython3",
   "version": "3.8.10"
  }
 },
 "nbformat": 4,
 "nbformat_minor": 4
}
