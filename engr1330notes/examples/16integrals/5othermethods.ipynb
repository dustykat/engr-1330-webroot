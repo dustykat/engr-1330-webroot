{
 "cells": [
  {
   "cell_type": "markdown",
   "metadata": {},
   "source": [
    "# Other Methods\n",
    "\n",
    "## quadrature\n",
    "\n",
    "## packages\n",
    "\n",
    "\n",
    "\n"
   ]
  },
  {
   "cell_type": "markdown",
   "metadata": {},
   "source": [
    "## Exercises\n",
    "\n",
    "1)  Approximate $\\int_0^2 f(x) dx$ from the tabulation in the Table below:\n",
    "   \n",
    "    x     f(x)\n",
    "    0.00  1.0000 \n",
    "    0.12  0.8869 \n",
    "    0.53  0.5886 \n",
    "    0.87  0.4190 \n",
    "    1.08  0.3396 \n",
    "    1.43  0.2393 \n",
    "    2.00  0.1353 "
   ]
  },
  {
   "cell_type": "markdown",
   "metadata": {},
   "source": [
    "2) The table below is a tabulation of various values of the hyperbolic cosine function. \n",
    "\n",
    "    x     cosh(x)\n",
    "    1.0  1.54308063481524  \n",
    "    1.1   1.66851855382226  \n",
    "    1.2   1.81065556732437  \n",
    "    1.3   1.97091423032663  \n",
    "    1.4   2.15089846539314  \n",
    "    1.5   2.35240961524325  \n",
    "    1.6   2.57746447119489  \n",
    "    1.7   2.82831545788997  \n",
    "    1.8   3.10747317631727  \n",
    "    2.0   3.76219569108363  \n",
    "    2.2   4.56790832889823  \n",
    "    2.4   5.55694716696551  \n",
    "    2.6   6.76900580660801  \n",
    "    2.8   8.25272841686113  \n",
    "    3.0   10.0676619957778  \n",
    "    3.3   13.5747610440296  \n",
    "    3.6   18.3127790830626  \n",
    "    3.9   24.711345508488  \n",
    "    4.2   33.3506633088728  \n",
    "    4.6   49.7471837388392  \n",
    "    5.0   74.2099485247878  \n",
    "    5.5   122.348009517829  \n",
    "    6.0   201.715636122456  \n",
    "    7.0   548.317035155212  \n",
    "    8.0   1490.47916125218  \n",
    "    9.0   4051.54202549259  \n",
    "\n",
    "Approximate $\\int_1^{9.0} cosh(x) dx$ from the tabulation above."
   ]
  },
  {
   "cell_type": "markdown",
   "metadata": {},
   "source": [
    "3) The table below is a tabulation of various values of the hyperbolic cosine function. \n",
    "\n",
    "    x     cosh(x)\n",
    "    1.0  1.54308063481524  \n",
    "    1.1   1.66851855382226  \n",
    "    1.2   1.81065556732437  \n",
    "    1.3   1.97091423032663  \n",
    "    1.4   2.15089846539314  \n",
    "    1.5   2.35240961524325  \n",
    "    1.6   2.57746447119489  \n",
    "    1.7   2.82831545788997  \n",
    "    1.8   3.10747317631727  \n",
    "    2.0   3.76219569108363  \n",
    "    2.2   4.56790832889823  \n",
    "    2.4   5.55694716696551  \n",
    "    2.6   6.76900580660801  \n",
    "    2.8   8.25272841686113  \n",
    "    3.0   10.0676619957778  \n",
    "    3.3   13.5747610440296  \n",
    "    3.6   18.3127790830626  \n",
    "    3.9   24.711345508488  \n",
    "    4.2   33.3506633088728  \n",
    "    4.6   49.7471837388392  \n",
    "    5.0   74.2099485247878  \n",
    "    5.5   122.348009517829  \n",
    "    6.0   201.715636122456  \n",
    "    7.0   548.317035155212  \n",
    "    8.0   1490.47916125218  \n",
    "    9.0   4051.54202549259  \n",
    "    \n",
    "Approximate $\\int_1^{4.2} cosh(x) dx$ from the tabulation above.  Briefly explain how you handle starting and stopping the integration from values that are intermediate and are tabulated."
   ]
  },
  {
   "cell_type": "markdown",
   "metadata": {},
   "source": [
    "4) (Advanced) The table below is a tabulation of various values of the hyperbolic cosine function. \n",
    "\n",
    "    x     cosh(x)\n",
    "    1.0  1.54308063481524  \n",
    "    1.1   1.66851855382226  \n",
    "    1.2   1.81065556732437  \n",
    "    1.3   1.97091423032663  \n",
    "    1.4   2.15089846539314  \n",
    "    1.5   2.35240961524325  \n",
    "    1.6   2.57746447119489  \n",
    "    1.7   2.82831545788997  \n",
    "    1.8   3.10747317631727  \n",
    "    2.0   3.76219569108363  \n",
    "    2.2   4.56790832889823  \n",
    "    2.4   5.55694716696551  \n",
    "    2.6   6.76900580660801  \n",
    "    2.8   8.25272841686113  \n",
    "    3.0   10.0676619957778  \n",
    "    3.3   13.5747610440296  \n",
    "    3.6   18.3127790830626  \n",
    "    3.9   24.711345508488  \n",
    "    4.2   33.3506633088728  \n",
    "    4.6   49.7471837388392  \n",
    "    5.0   74.2099485247878  \n",
    "    5.5   122.348009517829  \n",
    "    6.0   201.715636122456  \n",
    "    7.0   548.317035155212  \n",
    "    8.0   1490.47916125218  \n",
    "    9.0   4051.54202549259  \n",
    "\n",
    "Approximate $\\int_1^{4.0} cosh(x) dx$ from the tabulation above.  Explain how handled working with values that fall between tabulated values."
   ]
  },
  {
   "cell_type": "markdown",
   "metadata": {},
   "source": [
    "# References\n",
    "- [https://rstudio-pubs-static.s3.amazonaws.com/286315_f00cf07beb3945d2a0260d6eaecb5d36.html](https://rstudio-pubs-static.s3.amazonaws.com/286315_f00cf07beb3945d2a0260d6eaecb5d36.html)\n",
    "\n",
    "- Lagrangian Interpolation (Video) [https://www.youtube.com/watch?v=_zK_KhHW6og](https://www.youtube.com/watch?v=_zK_KhHW6og)\n",
    "\n",
    "- Lagrange Polynomials [https://en.wikipedia.org/wiki/Lagrange_polynomial](https://en.wikipedia.org/wiki/Lagrange_polynomial)"
   ]
  }
 ],
 "metadata": {
  "kernelspec": {
   "display_name": "Python 3",
   "language": "python",
   "name": "python3"
  },
  "language_info": {
   "codemirror_mode": {
    "name": "ipython",
    "version": 3
   },
   "file_extension": ".py",
   "mimetype": "text/x-python",
   "name": "python",
   "nbconvert_exporter": "python",
   "pygments_lexer": "ipython3",
   "version": "3.8.10"
  }
 },
 "nbformat": 4,
 "nbformat_minor": 4
}
