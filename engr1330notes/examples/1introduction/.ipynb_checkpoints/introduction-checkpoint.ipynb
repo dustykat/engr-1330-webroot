{
 "cells": [
  {
   "cell_type": "markdown",
   "metadata": {},
   "source": [
    "# Computational Thinking and Jupyter Notebooks\n",
    "\n",
    "Engineering analysis is a systematic process that leverages computational thinking paradigms (models) for analyzing and understanding problems in the various fields of engineering.  Sucessful application of the process requires familarity with generic problem-solving techniques, understanding of relevant engineering fundamentals that apply to the particular problem, and a working knowledge of computational thinking solution procedures.\n",
    "\n",
    "It is also helpful to have a computer-based computation environment where stored instructions (a program) can be implemented to solve the problem easily once the problem is defined and set-up.  In this course that environment is a Jupyter Notebook using the iPython kernel.  Collectively we refer to these jointly as our Jupyter Notebook."
   ]
  }
 ],
 "metadata": {
  "kernelspec": {
   "display_name": "Python 3",
   "language": "python",
   "name": "python3"
  },
  "language_info": {
   "codemirror_mode": {
    "name": "ipython",
    "version": 3
   },
   "file_extension": ".py",
   "mimetype": "text/x-python",
   "name": "python",
   "nbconvert_exporter": "python",
   "pygments_lexer": "ipython3",
   "version": "3.8.10"
  }
 },
 "nbformat": 4,
 "nbformat_minor": 4
}
