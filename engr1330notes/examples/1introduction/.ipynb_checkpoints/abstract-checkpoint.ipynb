{
 "cells": [
  {
   "cell_type": "markdown",
   "metadata": {},
   "source": [
    "# Jupyter Notebooks\n",
    "\n",
    "In the recent past engineers learned complex mathematical procedures to find solutions (or good appriximations) to solve the varied equations involved in engineering calculations. Then these procedures were coded into a computer programming language (C, FORTRAN, ADA, and others), compiled, errors repaired and finally the actual problem addressed.  More recently spreadsheets (MS Excel, Borland (now Embarcadero) QuatroPro, Lotus 123, Libre Office Calc, and others) replaced a lot of this type of programming.  Even more recently Jupyter Notebooks enabled a technique called *Literate Programming* where narrative docomentation can be embedded within an executible document, and both the explaination and solution exist in a single tool.  \n",
    "\n",
    "Lengthly calculations are comparatively easy to arrange and organize, and output can be extensively explained directly in the tool in a clear and logical fashion.\n",
    "\n",
    ":::{note}\n",
    "This electronic book is just a collection of Jupyter Notebooks typeset using a program called Sphinx.  \n",
    ":::\n",
    "\n",
    "Jupyter Notebooks using the iPython kernel also have extensible features that allow:\n",
    "\n",
    "- Importing, exporting, storing (in a file) data (using core python, and/or pandas)\n",
    "- Graphical display of data (using matplotlib)\n",
    "- Statistical analysis of data (using numpy, pandas, statmodel, sklearn, and other packages)\n",
    "- Fitting algebraic data models through data sets (using core python, numpy, pandas, statmodel, sklearn, and other packages)\n",
    "- Solving single and simultaneous algebraic equations\n",
    "- Solving optimization problems\n",
    "- Solving classification-type machine learning problems\n",
    "- Solving prediction-type machine learning problems"
   ]
  },
  {
   "cell_type": "markdown",
   "metadata": {},
   "source": [
    "## Projectile Trajectory Analysis Example\n",
    "\n",
    "This example presents a Jupyter Notebook that solves a common geopolitical problem, namely that of turning a capital city onto a smoking crater by a ballistic missle whose immediate post-boost phase velocity $v_o$ and angle relative to the Earth (treated as a plane) $\\Theta$ is known.\n",
    "\n",
    ":::{note}\n",
    "The example is primarily to illustrate the Jupyter environment, and many parts of the notebook are explained later in the course. A problem solving protocol is explained later as well, so in this first example the reader will have to be mentally flexible.\n",
    ":::\n",
    "\n",
    "### Step 1: Problem Statement\n",
    "\n",
    "Determine the trajectory of a missle whose immediate post-boost phase velocity $V_o$ and angle relative to the Earth (treated as a plane) $\\Theta$ is known.  Produce a plot of the trajectory.\n",
    "\n",
    "### Step 2: Sketch the Situation\n",
    "\n",
    "A sketch of the situation is depicted in {numref}`1projectiletrajectory`.\n",
    "\n",
    "```{figure} 1projectiletrajectory.png\n",
    "---\n",
    "width: 500px\n",
    "name: 1projectiletrajectory\n",
    "---\n",
    "Schematic of Missle Trajectory\n",
    "```\n",
    "## Step 3: List Known and Unknown Values\n",
    "\n",
    "Known:\n",
    "\n",
    "- Initial angle, $\\Theta$\n",
    "- Initial velocity, $V_0$\n",
    "\n",
    "Unknown:\n",
    "\n",
    "- Coordinates of missle $x(t)$ and $y(t)$ at any time $t$ after boost\n",
    "\n",
    "## Step 4: Identify Governing Principles\n",
    "\n",
    "- Frictionless translation in horizontal direction, $x(t) = v_x t$\n",
    "- Frictionless translation in vertical gravitational field, $y(t)=v_y t - \\frac{gt^2}{2}$\n",
    "\n",
    "## Step 5: Analysis\n",
    "\n",
    "First define meaningful variables\n",
    "\n",
    "- $V_x = V_0 cos(\\Theta)$\n",
    "- $V_y = V_0 sin(\\Theta)$\n"
   ]
  },
  {
   "cell_type": "code",
   "execution_count": 27,
   "metadata": {},
   "outputs": [
    {
     "data": {
      "image/png": "[encoded data removed]",
      "text/plain": [
       "<Figure size 576x432 with 1 Axes>"
      ]
     },
     "metadata": {
      "needs_background": "light"
     },
     "output_type": "display_data"
    }
   ],
   "source": [
    "def x(vx,t): # horizontal displacement function\n",
    "    x = vx*t\n",
    "    return(x)\n",
    "\n",
    "def y(g,vy,t): # vertical displacement function\n",
    "    y = vy*t - (g*t**2)/2\n",
    "    return(y)\n",
    "\n",
    "# input data\n",
    "gravity = 32.2 # ft/sec^2\n",
    "vinit = 100 # ft/sec\n",
    "angledeg = 35 # degrees of arc\n",
    "import math # get math functions\n",
    "anglerad = math.pi*(angledeg/180)\n",
    "#####################################\n",
    "# intermediate values\n",
    "vx = vinit*math.cos(anglerad)\n",
    "vy = vinit*math.sin(anglerad)\n",
    "# calculate every timestep seconds\n",
    "timestep = 0.1 # seconds\n",
    "elapsedtime = [] # empty lists for output\n",
    "disth = []\n",
    "disty = []\n",
    "howmany = 40\n",
    "elapsedtime.append(0)\n",
    "disth.append(0)\n",
    "disty.append(0)\n",
    "for irow in range(1,howmany,1):\n",
    "    elapsedtime.append(elapsedtime[irow-1]+timestep)\n",
    "    disth.append(x(vx,elapsedtime[irow]))\n",
    "    disty.append(y(gravity,vy,elapsedtime[irow]))\n",
    "    if disty[irow] < 0:\n",
    "        break # exit the loop when missle falls back to Earth\n",
    "####################################\n",
    "# Now make a graph\n",
    "from matplotlib import pyplot as plt  \n",
    "mydata = plt.figure(figsize = (8,6)) # build a square drawing canvass from figure class\n",
    "plt.plot(disth, disty, c='red', marker='o',linewidth=1) # basic line plot\n",
    "plt.xlabel('Horizontal Displacement (ft)')\n",
    "plt.ylabel('Vertical Displacement (ft)')\n",
    "plt.ylim(0)\n",
    "plt.title('Missle Trajectory')\n",
    "plt.grid()\n",
    "plt.show(); \n",
    "#####################################\n"
   ]
  },
  {
   "cell_type": "code",
   "execution_count": null,
   "metadata": {},
   "outputs": [],
   "source": []
  }
 ],
 "metadata": {
  "kernelspec": {
   "display_name": "Python 3",
   "language": "python",
   "name": "python3"
  },
  "language_info": {
   "codemirror_mode": {
    "name": "ipython",
    "version": 3
   },
   "file_extension": ".py",
   "mimetype": "text/x-python",
   "name": "python",
   "nbconvert_exporter": "python",
   "pygments_lexer": "ipython3",
   "version": "3.8.10"
  }
 },
 "nbformat": 4,
 "nbformat_minor": 4
}
