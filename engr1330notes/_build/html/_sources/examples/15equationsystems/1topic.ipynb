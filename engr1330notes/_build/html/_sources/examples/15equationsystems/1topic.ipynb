{
 "cells": [
  {
   "cell_type": "markdown",
   "metadata": {},
   "source": [
    "# Simultaneous Linear Equations\n",
    "\n",
    "## Background\n",
    "\n",
    "## Homebrew (Core Python) Gaussian Reduction\n",
    "\n",
    "## Using `numpy` Gaussian Reduction\n",
    "\n",
    "# Linear System Applications\n",
    "\n",
    "## Static Truss\n",
    "\n",
    "## Feedback Reactor System\n",
    "\n",
    "## Heat Flow in a Plate (Optional)\n",
    "\n",
    "## Groundwater Flow in a Confined Aquifer (Optional)\n",
    "\n",
    "## Groundwater Flow in an Confined Aquifer (Optional)"
   ]
  }
 ],
 "metadata": {
  "kernelspec": {
   "display_name": "Python 3",
   "language": "python",
   "name": "python3"
  },
  "language_info": {
   "codemirror_mode": {
    "name": "ipython",
    "version": 3
   },
   "file_extension": ".py",
   "mimetype": "text/x-python",
   "name": "python",
   "nbconvert_exporter": "python",
   "pygments_lexer": "ipython3",
   "version": "3.8.10"
  }
 },
 "nbformat": 4,
 "nbformat_minor": 4
}
