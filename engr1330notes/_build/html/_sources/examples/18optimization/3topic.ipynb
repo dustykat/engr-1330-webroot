{
 "cells": [
  {
   "cell_type": "markdown",
   "metadata": {},
   "source": [
    "# Gradient Descent Methods\n",
    "\n",
    "## Steepest Descent\n",
    "\n",
    "## Using Packages\n",
    "\n",
    "## Unconstrained Minimization\n",
    "\n",
    "Example problem is \n",
    "\n",
    "$$f(x) = \\sum_{i = 1}^{N-1} \\:100(x_i - x_{i-1}^{2})$$"
   ]
  },
  {
   "cell_type": "markdown",
   "metadata": {},
   "source": [
    "### Nelder-Mead Method\n",
    "\n",
    "- Function calls only\n",
    "- Needs a starting vector that is non-degenerate"
   ]
  },
  {
   "cell_type": "markdown",
   "metadata": {},
   "source": []
  },
  {
   "cell_type": "code",
   "execution_count": 19,
   "metadata": {},
   "outputs": [
    {
     "name": "stdout",
     "output_type": "stream",
     "text": [
      "Optimization terminated successfully.\n",
      "         Current function value: 0.000066\n",
      "         Iterations: 141\n",
      "         Function evaluations: 243\n",
      "[0.99910115 0.99820923 0.99646346 0.99297555 0.98600385]\n"
     ]
    }
   ],
   "source": [
    "import numpy as np\n",
    "from scipy.optimize import minimize\n",
    "\n",
    "\n",
    "\n",
    "def rosen(x):\n",
    "    \"\"\"The Rosenbrock function\"\"\"\n",
    "    return sum(100.0*(x[1:]-x[:-1]**2.0)**2.0 + (1-x[:-1])**2.0)\n",
    "\n",
    "x0 = np.array([1.3, 0.7, 0.8, 1.9, 1.2])\n",
    "res = minimize(rosen, x0, method='nelder-mead',options={'disp': True})\n",
    "\n",
    "print(res.x)"
   ]
  },
  {
   "cell_type": "markdown",
   "metadata": {},
   "source": [
    "### Powell's Direction Set Method\n",
    "\n",
    "- Function calls only\n",
    "- Needs a starting vector that is non-degenerate"
   ]
  },
  {
   "cell_type": "code",
   "execution_count": 20,
   "metadata": {},
   "outputs": [
    {
     "name": "stdout",
     "output_type": "stream",
     "text": [
      "Optimization terminated successfully.\n",
      "         Current function value: 0.000000\n",
      "         Iterations: 18\n",
      "         Function evaluations: 1084\n",
      "[1. 1. 1. 1. 1.]\n"
     ]
    }
   ],
   "source": [
    "import numpy as np\n",
    "from scipy.optimize import minimize\n",
    "\n",
    "\n",
    "\n",
    "def rosen(x):\n",
    "    \"\"\"The Rosenbrock function\"\"\"\n",
    "    return sum(100.0*(x[1:]-x[:-1]**2.0)**2.0 + (1-x[:-1])**2.0)\n",
    "\n",
    "x0 = np.array([1.3, 0.7, 0.8, 1.9, 1.2])\n",
    "res = minimize(rosen, x0, method='powell',options={'disp': True})\n",
    "\n",
    "print(res.x)"
   ]
  },
  {
   "cell_type": "code",
   "execution_count": null,
   "metadata": {},
   "outputs": [],
   "source": [
    "def rosen(x):\n",
    "    nminus1 = len(x)-1\n",
    "    acc = 0.0\n",
    "    for i in range(nminus1):\n",
    "        acc = acc + 100*(x[i+1]-x[i]**2)\n",
    "    return acc"
   ]
  },
  {
   "cell_type": "code",
   "execution_count": 5,
   "metadata": {},
   "outputs": [
    {
     "name": "stdout",
     "output_type": "stream",
     "text": [
      " active_mask: array([0., 0.])\n",
      "        cost: 2.2211364862629114e-29\n",
      "         fun: array([-6.66133815e-15, -2.22044605e-16])\n",
      "        grad: array([ 1.33448809e-13, -6.66133815e-14])\n",
      "         jac: array([[-20.00000015,  10.        ],\n",
      "       [ -1.        ,   0.        ]])\n",
      "     message: '`gtol` termination condition is satisfied.'\n",
      "        nfev: 3\n",
      "        njev: 3\n",
      "  optimality: 1.3344880855256055e-13\n",
      "      status: 1\n",
      "     success: True\n",
      "           x: array([1., 1.])\n"
     ]
    }
   ],
   "source": [
    "import numpy as np\n",
    "from scipy.optimize import minimize\n",
    "\n",
    "\n",
    "#Rosenbrock Function\n",
    "def fun_rosenbrock(x):\n",
    "    return np.array([10 * (x[1] - x[0]**2), (1 - x[0])])\n",
    "   \n",
    "from scipy.optimize import least_squares\n",
    "input = np.array([2, 2])\n",
    "res = least_squares(fun_rosenbrock, input)\n",
    "\n",
    "print(res)"
   ]
  },
  {
   "cell_type": "code",
   "execution_count": 28,
   "metadata": {},
   "outputs": [
    {
     "name": "stdout",
     "output_type": "stream",
     "text": [
      "Optimization terminated successfully    (Exit mode 0)\n",
      "            Current function value: 0.342717574995039\n",
      "            Iterations: 4\n",
      "            Function evaluations: 13\n",
      "            Gradient evaluations: 4\n"
     ]
    }
   ],
   "source": [
    "def rosen_der(x):\n",
    "\n",
    "    xm = x[1:-1]\n",
    "\n",
    "    xm_m1 = x[:-2]\n",
    "\n",
    "    xm_p1 = x[2:]\n",
    "\n",
    "    der = np.zeros_like(x)\n",
    "\n",
    "    der[1:-1] = 200*(xm-xm_m1**2) - 400*(xm_p1 - xm**2)*xm - 2*(1-xm)\n",
    "\n",
    "    der[0] = -400*x[0]*(x[1]-x[0]**2) - 2*(1-x[0])\n",
    "\n",
    "    der[-1] = 200*(x[-1]-x[-2]**2)\n",
    "\n",
    "    return der\n",
    "\n",
    "from scipy.optimize import Bounds\n",
    "\n",
    "bounds = Bounds([0, -0.5], [1.0, 2.0])\n",
    "\n",
    "ineq_cons = {'type': 'ineq',\n",
    "\n",
    "             'fun' : lambda x: np.array([1 - x[0] - 2*x[1],\n",
    "\n",
    "                                         1 - x[0]**2 - x[1],\n",
    "\n",
    "                                         1 - x[0]**2 + x[1]]),\n",
    "\n",
    "#             'jac' : lambda x: np.array([[-1.0, -2.0],\n",
    "\n",
    "#                                         [-2*x[0], -1.0],\n",
    "\n",
    "#                                         [-2*x[0], 1.0]])\n",
    "            }\n",
    "\n",
    "eq_cons = {'type': 'eq',\n",
    "\n",
    "           'fun' : lambda x: np.array([2*x[0] + x[1] - 1]),\n",
    "\n",
    "#           'jac' : lambda x: np.array([2.0, 1.0])\n",
    "          }\n",
    "\n",
    "x0 = np.array([0.5, 0])\n",
    "\n",
    "res = minimize(rosen, x0, method='SLSQP', jac=\"2-point\",\n",
    "\n",
    "               constraints=[eq_cons, ineq_cons], options={'ftol': 1e-9, 'disp': True},\n",
    "\n",
    "               bounds=bounds)"
   ]
  },
  {
   "cell_type": "code",
   "execution_count": 26,
   "metadata": {},
   "outputs": [
    {
     "data": {
      "text/plain": [
       "     fun: 0.342717574995039\n",
       "     jac: array([-0.82675983, -0.41372783])\n",
       " message: 'Optimization terminated successfully'\n",
       "    nfev: 13\n",
       "     nit: 4\n",
       "    njev: 4\n",
       "  status: 0\n",
       " success: True\n",
       "       x: array([0.41494475, 0.1701105 ])"
      ]
     },
     "execution_count": 26,
     "metadata": {},
     "output_type": "execute_result"
    }
   ],
   "source": [
    "res"
   ]
  },
  {
   "cell_type": "code",
   "execution_count": null,
   "metadata": {},
   "outputs": [],
   "source": []
  }
 ],
 "metadata": {
  "kernelspec": {
   "display_name": "Python 3",
   "language": "python",
   "name": "python3"
  },
  "language_info": {
   "codemirror_mode": {
    "name": "ipython",
    "version": 3
   },
   "file_extension": ".py",
   "mimetype": "text/x-python",
   "name": "python",
   "nbconvert_exporter": "python",
   "pygments_lexer": "ipython3",
   "version": "3.8.10"
  }
 },
 "nbformat": 4,
 "nbformat_minor": 4
}
