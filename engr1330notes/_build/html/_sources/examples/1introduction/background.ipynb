{
 "cells": [
  {
   "cell_type": "markdown",
   "metadata": {},
   "source": [
    "# Problem Solving Philosophy\n",
    "\n",
    "It is important to develop problem-solving habits early in your career.  Some guidance is listed below - philosophical for sure but useful:\n",
    "1. Set aside time to think about the problem before attempting to solve it.  It might only be a few minutes, but think before plunging into solution methods; in fact rewrite the **problem statement in your own words** - that act alone may suggest a meaningful approach.\n",
    "2. Draw a **sketch** of the problem situation.  You may end up with several sketches.  The visual representation may also suggest meaningful steps to take.\n",
    "3. Understand the purpose of the problem and key points (This is called abstraction in Computational Thinking, we want to retain only the important features of the problem, and discard irrelevant information.\n",
    "4. Explictly list **known** and **unknown** values, using variable names (not just numbers) - again a type of abstraction.\n",
    "5. Explicitly state the **governing principles** that apply to the problem. Be certain you inderstand how these principles apply to the particular problem, if your not sure you can choose to ignore later on in the problem.\n",
    "6. Think about how to solve the problem before you actually begin. Many problems can be solved multiple different ways, some elegant, some ugly.  Will you need a computer? Are you going to use a librarian approach (Chegg)? How will you present results?  Advance planning will save you a lot of time.\n",
    "7. Take time to solve the problem; develop the solution in an orderly and logical fashion.  Be sure the work is clearly labeled. \n",
    "8. Once you have a solution think about it.  Does it make sense? What assurance do you have that it is correct? Incorrect results can often be detected by some afterthought.  \n",
    "> This reflection step is especially important if you Chegg the solution; the Chegg AI \"tutors\" are only pattern matching.  Check that the Chegg solution actually solves your problem and uses the same inputs.  If you are using a live human Chegg tutor, the pattern match is probably accurate\n",
    "9. Be sure the solution is clear and complete.  Is the solution presented in an orderly fashion?  Are the results labeled? Are units included with the numerical answers? Is the logic employed clear? Did you Chegg the solution? If yes, then you need to cite the source.  Did you get the solution from a blog post? Library? etc.  Cite the source you used. Is a table or graph required to present the results in a clear and consise manner?\n",
    "\n",
    "Problem solving is a skill that takes time and practice.  One gets better with a greater variety of increasingly complex problems.\n",
    "\n",
    "## Governing Principles\n",
    "\n",
    "### Physical World\n",
    "\n",
    "1. Equilibrium\n",
    "  - Force equilibrium\n",
    "  - Flux equilibrium\n",
    "  - Chemical equilibrium\n",
    "2. Conservation\n",
    "3. Rate phenomena\n",
    "\n",
    "### Data Science World\n"
   ]
  },
  {
   "cell_type": "code",
   "execution_count": null,
   "metadata": {},
   "outputs": [],
   "source": []
  }
 ],
 "metadata": {
  "kernelspec": {
   "display_name": "Python 3",
   "language": "python",
   "name": "python3"
  },
  "language_info": {
   "codemirror_mode": {
    "name": "ipython",
    "version": 3
   },
   "file_extension": ".py",
   "mimetype": "text/x-python",
   "name": "python",
   "nbconvert_exporter": "python",
   "pygments_lexer": "ipython3",
   "version": "3.8.10"
  }
 },
 "nbformat": 4,
 "nbformat_minor": 4
}
