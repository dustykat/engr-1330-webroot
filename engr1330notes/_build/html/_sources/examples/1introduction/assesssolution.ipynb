{
 "cells": [
  {
   "cell_type": "markdown",
   "metadata": {},
   "source": [
    "# Assessing the Accuracy of a Solution\n",
    "\n",
    "Suppose the solution below is presented for the example above.\n",
    "\n",
    "$$\\begin{matrix}\n",
    "i = 1.68 \\text{ amperes}& i_1 = 0.48 \\text{ amperes}& i_2 = 1.20 \\text{ amperes} \\\\\n",
    "V_1 = 12.0 \\text{ volts} & V_2 = 9.6 \\text{ volts}  & V_3 = 2.4 \\text{ volts}  \\\\\n",
    "\\end{matrix}$$\n",
    "\n",
    "1. Is the solution clear and complete?\n",
    "2. Does the solution seem correct?\n",
    "\n",
    "The solution is clear and complete values are supplied for relevant knowns and unknowns.\n",
    "\n",
    "Of the two branch currents, $i_1$ and $i_2$, the larger current in the solution is flowing through the rightmost path which has greater resistance - this result does not make sense.  Furthermore the larger voltage drop is reported on the smaller resistor in the path, this result too does not make much sense (Ohm's law is being violated).  Upon examination we could conclude that the values are correct, but the results transposed during transcription.\n",
    "\n",
    "The corrected solution is\n",
    "\n",
    "$$\\begin{matrix}\n",
    "i = 1.68 \\text{ amperes}& i_1 = 1.20 \\text{ amperes}& i_2 = 0.48 \\text{ amperes} \\\\\n",
    "V_1 = 12.0 \\text{ volts} & V_2 = 2.4 \\text{ volts}  & V_3 = 9.6 \\text{ volts}  \\\\\n",
    "\\end{matrix}$$\n",
    "\n",
    "This contemplative step is very important; ignore at your own risk.\n",
    "\n"
   ]
  },
  {
   "cell_type": "code",
   "execution_count": null,
   "metadata": {},
   "outputs": [],
   "source": []
  }
 ],
 "metadata": {
  "kernelspec": {
   "display_name": "Python 3",
   "language": "python",
   "name": "python3"
  },
  "language_info": {
   "codemirror_mode": {
    "name": "ipython",
    "version": 3
   },
   "file_extension": ".py",
   "mimetype": "text/x-python",
   "name": "python",
   "nbconvert_exporter": "python",
   "pygments_lexer": "ipython3",
   "version": "3.8.10"
  }
 },
 "nbformat": 4,
 "nbformat_minor": 4
}
