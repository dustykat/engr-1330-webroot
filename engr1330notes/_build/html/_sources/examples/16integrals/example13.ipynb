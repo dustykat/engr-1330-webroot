{
 "cells": [
  {
   "cell_type": "markdown",
   "metadata": {},
   "source": [
    "# Evaluating Integrals\n"
   ]
  },
  {
   "cell_type": "markdown",
   "metadata": {},
   "source": [
    "### Background\n",
    "\n",
    "Numerical integration is the numerical approximation of\n",
    "\n",
    "$\\begin{equation}\n",
    "I = \\int_a^b f(x)dx\n",
    "\\end{equation}$\n",
    "\n",
    "Consider the problem of determining the shaded area under the curve $y = f(x)$ from $x = a$ to $x = b$, as depicted in the figure below, and suppose that analytical integration is not feasible.\n",
    "\n",
    "![figure1](schematic_panels.png)\n",
    "     \n",
    "The function may be known in tabular form from experimental measurements or it may be known in an analytical form. \n",
    "The function is taken to be continuous within the interval $a < x < b$. We may divide the area into $n$ vertical panels, each of width $\\Delta x = (b - a)/n$, and then add the areas of all strips to obtain  $A~\\approx \\int ydx$.\n",
    "\n",
    "A representative panel of area $A_i$ is shown with darker shading in the figure. Three useful numerical approximations are listed in the following sections.  The approximations differ in how the function is represented by the panels --- in all cases the function is approximated by known polynomial models between the panel end points.\n",
    "\n",
    "In each case the greater the number of strips, and correspondingly smaller value of $\\Delta x$, the more accurate the approximation. Typically, one can begin with a relatively small number of panels and increase the number until the resulting area approximation stops changing."
   ]
  }
 ],
 "metadata": {
  "kernelspec": {
   "display_name": "Python 3",
   "language": "python",
   "name": "python3"
  },
  "language_info": {
   "codemirror_mode": {
    "name": "ipython",
    "version": 3
   },
   "file_extension": ".py",
   "mimetype": "text/x-python",
   "name": "python",
   "nbconvert_exporter": "python",
   "pygments_lexer": "ipython3",
   "version": "3.8.10"
  }
 },
 "nbformat": 4,
 "nbformat_minor": 4
}
