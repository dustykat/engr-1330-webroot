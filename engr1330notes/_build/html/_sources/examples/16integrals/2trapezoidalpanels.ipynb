{
 "cells": [
  {
   "cell_type": "markdown",
   "metadata": {},
   "source": [
    "# Trapezoidal Panels\n",
    "\n",
    "The trapezoidal panels are approximated as shown in the figure below. \n",
    "\n",
    "![](trap_panels.png)\n",
    "\n",
    "The area $A_i$ is the average height $(y_i + y_{i+1} )/2$ times $\\Delta x$. Adding the areas gives the area approximation as tabulated.   For the example with the curvature shown, the approximation will be on the low side. For the reverse curvature, the approximation will be on the high side.  The trapezoidal approximation is commonly used with tabulated values.\n",
    "\n",
    "The script below illustrates the trapezoidal method for approximating an integral.  In the example, the left and right panel endpoints in $x$ are set as separate variables $x_{left}$ and $x_{right}$ and incremented by $\\Delta x$ as we step through the count-controlled repetition to accumulate the area.  The corresponding $y$ values are computed within the loop and averaged, then multiplied by $\\Delta x$ and added to the accumulator.  Finally the $x$ values are incremented --- for grins, we used the += operator on the accumulator\n"
   ]
  },
  {
   "cell_type": "code",
   "execution_count": 17,
   "metadata": {
    "cocalc": {
     "outputs": {
      "1": {
       "name": "input",
       "opts": {
        "password": false,
        "prompt": "Enter a lower bound x_low \n"
       },
       "output_type": "stream",
       "value": "0"
      },
      "2": {
       "name": "input",
       "opts": {
        "password": false,
        "prompt": "Enter an upper bound x_high \n"
       },
       "output_type": "stream",
       "value": "2"
      },
      "3": {
       "name": "input",
       "opts": {
        "password": false,
        "prompt": "Enter how many panels \n"
       },
       "output_type": "stream",
       "value": "4"
      }
     }
    },
    "collapsed": false,
    "jupyter": {
     "outputs_hidden": false
    }
   },
   "outputs": [
    {
     "name": "stdout",
     "output_type": "stream",
     "text": [
      "Program finds area under curve y = x * sqrt(1+x)\n",
      "Area under curve y = x * sqrt(1+x) from x =  0  to x =  2 \n",
      " is approximately:  3.4215064275621776\n"
     ]
    }
   ],
   "source": [
    "# TrapezoidalPanels.py\n",
    "# Numerical Integration\n",
    "# Use built-in math functions\n",
    "import math  # a package of math functions\n",
    "# we are naming an object \"sqrt\" that will compute the square root\n",
    "def sqrt (x):\n",
    "        return math.sqrt(x)\n",
    "# saves us having to type math.NAME every time we wish to use a function\n",
    "# in this program not all that meaningful, but in complex programs handy!\n",
    "###################################\n",
    "x_low=0 #this is for JB demo only #\n",
    "x_high=2                          #\n",
    "how_many=6                        #\n",
    "###################################\n",
    "print (\"Program finds area under curve y = x * sqrt(1+x)\")\n",
    "# Get input data -- use error checking\n",
    "yes = 1 # Set this to 1 to activate interactive inputs\n",
    "while yes == 0:\n",
    "    x_low = input(\"Enter a lower bound x_low \\n\")\n",
    "    try:\n",
    "        x_low = float(x_low)\n",
    "        yes = 1\n",
    "    except:\n",
    "        print (\"x_low really needs to be a number, try again \\n\")\n",
    "yes = 1\n",
    "while yes == 0:\n",
    "    x_high = input(\"Enter an upper bound x_high \\n\")\n",
    "    try:\n",
    "        x_high = float(x_high)\n",
    "        yes = 1\n",
    "    except:\n",
    "        print (\"x_high really needs to be a number, try again \\n\")\n",
    "yes = 1\n",
    "while yes == 0:\n",
    "    how_many = input(\"Enter how many panels \\n\")\n",
    "    try:\n",
    "        how_many = int(how_many)\n",
    "        yes = 1\n",
    "    except:\n",
    "        print (\"Panels really needs to be a number, try again \\n\")\n",
    "delta_x = (x_high - x_low)/float(how_many)  # compute panel width\n",
    "accumulated_area = 0.0      # initial value in an accumulator\n",
    "x_left = x_low              # initial value for x_left edge panel\n",
    "x_right = x_left + delta_x  # initial value for x_right edge panel\n",
    "for i in range(1,how_many+1,1): #note we are counting from 1\n",
    "    y_left = ( x_left* sqrt(1+x_left**2) )\n",
    "    y_right = ( x_right* sqrt(1+x_right**2) )\n",
    "    accumulated_area += + (1./2.) * ( y_left + y_right ) * delta_x\n",
    "    x_left += delta_x\n",
    "    x_right += delta_x\n",
    "print (\"Area under curve y = x * sqrt(1+x) from x = \",x_low,\\\n",
    "      \" to x = \",x_high,\"\\n is approximately: \",accumulated_area)\n"
   ]
  }
 ],
 "metadata": {
  "kernelspec": {
   "display_name": "Python 3",
   "language": "python",
   "name": "python3"
  },
  "language_info": {
   "codemirror_mode": {
    "name": "ipython",
    "version": 3
   },
   "file_extension": ".py",
   "mimetype": "text/x-python",
   "name": "python",
   "nbconvert_exporter": "python",
   "pygments_lexer": "ipython3",
   "version": "3.8.10"
  }
 },
 "nbformat": 4,
 "nbformat_minor": 4
}
