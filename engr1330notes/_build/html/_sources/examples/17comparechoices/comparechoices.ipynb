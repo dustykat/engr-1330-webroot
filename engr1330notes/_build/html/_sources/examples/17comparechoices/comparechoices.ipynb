{
 "cells": [
  {
   "cell_type": "markdown",
   "metadata": {},
   "source": [
    "# Economic Modeling: Comparing Choices\n",
    "\n",
    "Engineering design results in a potential investment opportunity for the sponsoring company.  The desirability of proposed designs is measured in both economic and technical terms - if several designs are proposed the desirability of one investment opportunity over another is strictly based on economic criteria (here we are assuming that the designs are technically feasible). \n",
    "\n",
    "Our computational tools provide a means to make such economic analysis and document our efforts; they also allow for the examination of complex investment patterns projected over future time periods.  \n",
    "\n",
    ":::{note}\n",
    "Herein we simply present some fundamentals in engineering economic analysis.  Detailed examination is the subject of an entire semester course and outside the scope of this document.\n",
    ":::"
   ]
  }
 ],
 "metadata": {
  "kernelspec": {
   "display_name": "Python 3",
   "language": "python",
   "name": "python3"
  },
  "language_info": {
   "codemirror_mode": {
    "name": "ipython",
    "version": 3
   },
   "file_extension": ".py",
   "mimetype": "text/x-python",
   "name": "python",
   "nbconvert_exporter": "python",
   "pygments_lexer": "ipython3",
   "version": "3.8.10"
  }
 },
 "nbformat": 4,
 "nbformat_minor": 4
}
