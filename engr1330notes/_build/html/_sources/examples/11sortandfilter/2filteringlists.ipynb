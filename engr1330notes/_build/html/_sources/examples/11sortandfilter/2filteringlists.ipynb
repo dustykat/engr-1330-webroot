{
 "cells": [
  {
   "cell_type": "markdown",
   "metadata": {},
   "source": [
    "# Filtering Lists and Dataframes\n",
    "\n",
    "## importing pyplot sub-package\n",
    "\n",
    "- \n",
    "- \n",
    "- \n",
    "\n",
    "## line plots\n",
    "\n",
    "- Reasons to do so\n",
    "- \n",
    "\n",
    "## scatterplots"
   ]
  }
 ],
 "metadata": {
  "kernelspec": {
   "display_name": "Python 3",
   "language": "python",
   "name": "python3"
  },
  "language_info": {
   "codemirror_mode": {
    "name": "ipython",
    "version": 3
   },
   "file_extension": ".py",
   "mimetype": "text/x-python",
   "name": "python",
   "nbconvert_exporter": "python",
   "pygments_lexer": "ipython3",
   "version": "3.8.10"
  }
 },
 "nbformat": 4,
 "nbformat_minor": 4
}
