{
 "cells": [
  {
   "cell_type": "markdown",
   "metadata": {},
   "source": [
    "#  Saving and Printing a Notebook\n",
    "\n",
    "## Saving a Notebook\n",
    "\n",
    "- as .ipynb\n",
    "- as .txt\n",
    "\n",
    "\n",
    "## Exporting a Notebook\n",
    "\n",
    "- to PDF\n",
    "- to HTML\n",
    "- Use of HTML2PDF.com\n",
    "\n",
    "## Printing a Notebook\n",
    "\n",
    "- to PDF\n"
   ]
  }
 ],
 "metadata": {
  "kernelspec": {
   "display_name": "Python 3",
   "language": "python",
   "name": "python3"
  },
  "language_info": {
   "codemirror_mode": {
    "name": "ipython",
    "version": 3
   },
   "file_extension": ".py",
   "mimetype": "text/x-python",
   "name": "python",
   "nbconvert_exporter": "python",
   "pygments_lexer": "ipython3",
   "version": "3.8.10"
  }
 },
 "nbformat": 4,
 "nbformat_minor": 4
}