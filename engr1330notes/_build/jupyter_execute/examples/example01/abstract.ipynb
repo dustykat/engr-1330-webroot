{
 "cells": [
  {
   "cell_type": "markdown",
   "metadata": {},
   "source": [
    "# Jupyter Notebooks\n",
    "\n",
    "In the recent past engineers learned complex mathematical procedures to find solutions (or good appriximations) to solve the varied equations involved in engineering calculations. Then these procedures were coded into a computer programming language (C, FORTRAN, ADA, and others), compiled, errors repaired and finally the actual problem addressed.  More recently spreadsheets (MS Excel, Borland (now Embarcadero) QuatroPro, Lotus 123, Libre Office Calc, and others) replaced a lot of this type of programming.  Even more recently Jupyter Notebooks enabled a technique called *Literate Programming* where narrative docomentation can be embedded within an executible document, and both the explaination and solution exist in a single tool.  \n",
    "\n",
    "Lengthly calculations are comparatively easy to arrange and organize, and output can be extensively explained directly in the tool in a clear and logical fashion.\n",
    "\n",
    ":::{note}\n",
    "This electronic book is just a collection of Jupyter Notebooks typeset using a program called Sphinx.  \n",
    ":::\n",
    "\n",
    "Jupyter Notebooks using the iPython kernel also have extensible features that allow:\n",
    "\n",
    "- Importing, exporting, storing (in a file) data (using core python, and/or pandas)\n",
    "- Graphical display of data (using matplotlib)\n",
    "- Statistical analysis of data (using numpy, pandas, statmodel, sklearn, and other packages)\n",
    "- Fitting algebraic data models through data sets (using core python, numpy, pandas, statmodel, sklearn, and other packages)\n",
    "- Solving single and simultaneous algebraic equations\n",
    "- Solving optimization problems\n",
    "- Solving classification-type machine learning problems\n",
    "- Solving prediction-type machine learning problems\n",
    "\n",
    "## Projectile Trajectory Analysis Example\n",
    "\n",
    "This example presents a Jupyter Notebook that solves a common geopolitical problem, namely that of turning a capital city onto a smoking crater by a ballistic missle whose immediate post-boost phase velocity $v_o$ and angle relative to the Earth (treated as a plane) $\\Theta$ is known.\n",
    "\n",
    ":::{note}\n",
    "The example is primarily to illustrate the Jupyter environment, and many parts of the notebook are explained later in the course. \n",
    ":::\n",
    "\n",
    "\n",
    "\n"
   ]
  }
 ],
 "metadata": {
  "kernelspec": {
   "display_name": "Python 3",
   "language": "python",
   "name": "python3"
  },
  "language_info": {
   "codemirror_mode": {
    "name": "ipython",
    "version": 3
   },
   "file_extension": ".py",
   "mimetype": "text/x-python",
   "name": "python",
   "nbconvert_exporter": "python",
   "pygments_lexer": "ipython3",
   "version": "3.8.10"
  }
 },
 "nbformat": 4,
 "nbformat_minor": 4
}