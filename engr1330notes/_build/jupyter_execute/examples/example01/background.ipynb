{
 "cells": [
  {
   "cell_type": "markdown",
   "metadata": {},
   "source": [
    "# Problem Solving Philosophy\n",
    "\n",
    "1. Set aside time to think about the problem before attempting to solve it.  It might only be a few minutes, but think before plunging into solution methods; in fact rewrite the **problem statement in your own words** - that act alone may suggest a meaningful approach.\n",
    "2. Draw a **sketch** of the problem situation.  You may end up with several sketches.  The visual representation may also suggest meaningful steps to take.\n",
    "3. Understand the purpose of the problem and key points (This is called abstraction in Computational Thinking, we want to retain only the important features of the problem, and discard irrelevant information.\n",
    "4. Explictly list **known** and **unknown** values, using variable names (not just numbers).\n",
    "5. Explicitly state the **governing principles** that apply to the problem.\n",
    "\n",
    "## Governing Principles\n",
    "\n",
    "### Physical World\n",
    "\n",
    "1. Equilibrium\n",
    "  - Force equilibrium\n",
    "  - Flux equilibrium\n",
    "  - Chemical equilibrium\n",
    "2. Conservation\n",
    "3. Rate phenomena\n",
    "\n",
    "### Data Science World\n"
   ]
  }
 ],
 "metadata": {
  "kernelspec": {
   "display_name": "Python 3",
   "language": "python",
   "name": "python3"
  },
  "language_info": {
   "codemirror_mode": {
    "name": "ipython",
    "version": 3
   },
   "file_extension": ".py",
   "mimetype": "text/x-python",
   "name": "python",
   "nbconvert_exporter": "python",
   "pygments_lexer": "ipython3",
   "version": "3.8.10"
  }
 },
 "nbformat": 4,
 "nbformat_minor": 4
}