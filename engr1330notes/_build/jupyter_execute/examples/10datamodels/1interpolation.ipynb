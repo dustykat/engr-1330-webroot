{
 "cells": [
  {
   "cell_type": "markdown",
   "metadata": {},
   "source": [
    "# Interpolation\n",
    "\n",
    "## Linear Interpolation\n",
    "\n",
    "This example presents a Jupyter Notebook that solves a common geopolitical problem, namely that of turning a capital city onto a smoking crater by a ballistic missle whose immediate post-boost phase velocity $v_o$ and angle relative to the Earth (treated as a plane) $\\Theta$ is known.\n",
    "\n",
    ":::{note}\n",
    "The example is primarily to illustrate the Jupyter environment, and many parts of the notebook are explained later in the course. \n",
    ":::\n",
    "\n",
    "## Logarithmic Interpolation\n",
    "\n",
    "\n",
    "\n",
    "\n"
   ]
  },
  {
   "cell_type": "markdown",
   "metadata": {},
   "source": [
    "## Polynomial Interpolation\n",
    "\n",
    "This next section examines a type of data model useful for interpolating data that are known to be accurate (very small measurement error)\n",
    "\n",
    "### Background \n",
    "\n",
    "The Starship rocket in the figure below sends a lot of telemetry data to both on-board and off-board (ground-based) control computers.  \n",
    "\n",
    "![https://upload.wikimedia.org/wikipedia/commons/thumb/b/b9/SpaceX_Starship_SN8_launch_as_viewed_from_South_Padre_Island.jpg/800px-SpaceX_Starship_SN8_launch_as_viewed_from_South_Padre_Island.jpg](800px-SpaceX_Starship_SN8_launch_as_viewed_from_South_Padre_Island.png)\n",
    "\n",
    "Suppose telemetry is received every 1/10 of a second, providing the altitude (position) of the craft, something like the figure below.\n",
    "\n",
    "![](altitude-time.png)\n",
    "\n",
    "How can one estimate the altitude at intermediate times (between the 1/10 of a second \"true\" values)?\n",
    "\n",
    "The problem is a type of interpolation problem similar to calculating material properties from tables for intermediate values by assuming a straight line passed between the two values from the table. However it may not be appropriate to assume that the altitudes are linear with time.  The special challenge comes when we want to estimate intermediate values when there is a maximum or minimum in the tabular structure, and we will have to process many records for different cases.\n",
    "\n",
    "The classical approach to such a problem is to fit a polynomial to the tabular results and interrogate the resulting polynomial to obtain estimates of the intermediate values.  This prediction engine (the polynomial) is required to return the exact value at a observation location (in our case a 1/10 second interval).  This requirement is quite distinct from other types of prediction engines we will study."
   ]
  },
  {
   "cell_type": "markdown",
   "metadata": {},
   "source": [
    "<hr>\n",
    "\n",
    "### Lagrangian Interpolation\n",
    "\n",
    "Polynomial interpolation is the method of determining a polynomial that fits a set of given points. There are several approaches to polynomial interpolation, of which one of the most well known is the Lagrangian method. The Lagrangian polynomial [https://en.wikipedia.org/wiki/Lagrange_polynomial](https://en.wikipedia.org/wiki/Lagrange_polynomial) is the polynomial of order $n-1$, where $n$ is he number of tabular data pairs we wish to interpolate. \n",
    "\n",
    "Suppose we have a table of data (or telemetry sent back from our rocket), of $x-$ and $f(x)$-values:\n",
    "\n",
    "|$$x~$$  | $$~f(x)$$   |\n",
    "|:---  | :--- |\n",
    "|$$x_1$$ |$$f_1$$|\n",
    "|$$x_2$$   |$$f_2$$|\n",
    "|$$x_3$$   |$$f_3$$|\n",
    "|$$x_4$$ |$$f_4$$|\n",
    "\n",
    "The highest order polynomial that can be passed through these four data pairs is a cubic.  A Lagrangian form for such a cubic is\n",
    "\n",
    "$$ P_3(x) = f(x_1)\\frac{(x-x_2)(x-x_3)(x-x_4)}{(x_1-x_2)(x_1-x_3)(x_1-x_4)} + f(x_2)\\frac{(x-x_1)(x-x_3)(x-x_4)}{(x_2-x_1)(x_2-x_3)(x_2-x_4)} + f(x_3)\\frac{(x-x_1)(x-x_2)(x-x_4)}{(x_3-x_1)(x_3-x_2)(x_3-x_4)} +f(x_4)\\frac{(x-x_1)(x-x_2)(x-x_3)}{(x_4-x_1)(x_4-x_2)(x_4-x_3)} $$\n",
    "\n",
    "Notice that it is constructed of four terms, each of which is a cubic in $x$; hence the sum is a cubic also.  The pattern of each term is to form the numerator as a product of differences of the form $(x-x_i)$, omitting one $x_i$ in each term, the ommitted term is used in the denominator as a replacement for $x$ in each position in the numerator.  In each term, the difference factor is multiplied by the value $f_i$ corresponding to the $x_i$ ommitted in the numerator. The Lagragian polynomial for other degrees of interpolating polynomials employs this same pattern of forming a sum of polynomials of the desired degree. \n",
    "\n",
    "Of importance is that the polynomial is intended to be used for interpolation, that is the value we seek $P(x^*)$ assumes we will supply $x^*$ in the range $[x_1 , x_4]$.  Going outside this range is called extrapolation, and interpolator-type prediction engines are the wromg tool!"
   ]
  },
  {
   "cell_type": "markdown",
   "metadata": {},
   "source": [
    "<hr>\n",
    "\n",
    "### Example 1\n",
    "\n",
    "Consider the three observations below, estimate (predict) the value for $f(2.3)$.\n",
    "\n",
    "|$$x~$$  | $$~f(x)$$   |\n",
    "|:---  | :--- |\n",
    "|1.1  |10.6|\n",
    "|1.7  |15.2|\n",
    "|3.0  |20.3|\n",
    "\n",
    "The Lagrangian form of the highest order of polynomial that can pass through the 3 data pairs is the quadratic:\n",
    "\n",
    "$$ P_2(x) = f(x_1)\\frac{(x-x_2)(x-x_3)}{(x_1-x_2)(x_1-x_3)} + f(x_2)\\frac{(x-x_1)(x-x_3)}{(x_2-x_1)(x_2-x_3)} + f(x_3)\\frac{(x-x_1)(x-x_2)}{(x_3-x_1)(x_3-x_2)} $$\n",
    "\n",
    "Once the denominators are completed, it is relatively straightforward to compute the estimate (prediction), in this case\n",
    "\n",
    "$$ P_2(x) = (10.6)\\frac{(x-1.7)(x-3.0)}{(1.1-1.7)(1.1-3.0)} + (15.2)\\frac{(x-1.1)(x-3.0)}{(1.7-1.1)(1.7-3.0)} + (20.3)\\frac{(x-1.1)(x-1.7)}{(3.0-1.1)(3.0-1.7)} $$\n",
    "\n",
    "At $x=2.3$ the result is $P_2(2.3)=18.38$.  \n",
    "\n",
    "Naturally, we want to use Computational Thinking principles, to pattern match and generalize the arithmetic as below."
   ]
  },
  {
   "cell_type": "code",
   "execution_count": 1,
   "metadata": {},
   "outputs": [],
   "source": [
    "def lagint(xlist,ylist,xpred):\n",
    "    # lagrangian interpolation of order len(xlist)-1 \n",
    "    # \n",
    "    lagint = 0.0 # ypred is an accumulator, and will be output\n",
    "    norder = len(xlist)\n",
    "    for i in range(norder):\n",
    "        term = ylist[i] # build up terms of polynomial\n",
    "        for j in range(norder):\n",
    "            if (i != j):\n",
    "                term = term * (xpred-xlist[j])/(xlist[i]-xlist[j])\n",
    "#            pass # may not need this expression\n",
    "        lagint = lagint + term\n",
    "#    print(i,j) #debugging expression\n",
    "    return(lagint)"
   ]
  },
  {
   "cell_type": "code",
   "execution_count": 2,
   "metadata": {},
   "outputs": [
    {
     "name": "stdout",
     "output_type": "stream",
     "text": [
      "18.38\n"
     ]
    }
   ],
   "source": [
    "xtable = [1.1,1.7,3.0]\n",
    "ytable = [10.6,15.2,20.3]\n",
    "\n",
    "xwant = 2.3\n",
    "\n",
    "print(round(lagint(xtable,ytable,xwant),2))"
   ]
  },
  {
   "cell_type": "markdown",
   "metadata": {},
   "source": [
    "<hr>\n",
    "\n",
    "### Example 2\n",
    "\n",
    "This example is copied from [https://rstudio-pubs-static.s3.amazonaws.com/286315_f00cf07beb3945d2a0260d6eaecb5d36.html](https://rstudio-pubs-static.s3.amazonaws.com/286315_f00cf07beb3945d2a0260d6eaecb5d36.html)\n",
    "\n",
    "In the original source the author plots the resulting function, we can do the same here.  First the observation set:\n",
    "\n",
    "|$$x~$$  | $$~f(x)$$   |\n",
    "|:---  | :--- |\n",
    "|0 |7|\n",
    "|2 |11|\n",
    "|3 |28|\n",
    "|4 |63|\n",
    "\n",
    "Next we will plot the interpolating polynomial from $x=0$ to $x=4$ in steps of 0.1"
   ]
  },
  {
   "cell_type": "code",
   "execution_count": 3,
   "metadata": {},
   "outputs": [
    {
     "name": "stdout",
     "output_type": "stream",
     "text": [
      "0.067\n"
     ]
    }
   ],
   "source": [
    "xtable = [0.1,0.3,0.5,0.7,0.9,1.1,1.3]\n",
    "ytable = [0.003,0.067,0.148,0.248,0.370,0.518,0.697]\n",
    "xwant = 0.3\n",
    "print(lagint(xtable,ytable,xwant))"
   ]
  },
  {
   "cell_type": "code",
   "execution_count": 4,
   "metadata": {},
   "outputs": [],
   "source": [
    "# Observations\n",
    "xtable = [0,2,3,4]\n",
    "ytable = [7,11,28,63]\n",
    "#\n",
    "xpred = [] # empty list to store results for plotting\n",
    "ypred = [] # empty list to store results for plotting\n",
    "#\n",
    "step_size = 0.10  # step size\n",
    "how_many = int((xtable[len(xtable)-1])/step_size)\n",
    "# build the predictions\n",
    "for i in range(how_many+1): \n",
    "    xpred.append(float(i)*step_size)\n",
    "    ypred.append(lagint(xtable,ytable,float(i)*step_size))\n",
    "#print(lagint(xtable,ytable,xwant))"
   ]
  },
  {
   "cell_type": "code",
   "execution_count": 5,
   "metadata": {},
   "outputs": [
    {
     "data": {
      "image/png": "[encoded data removed]",
      "text/plain": [
       "<Figure size 432x432 with 1 Axes>"
      ]
     },
     "metadata": {
      "filenames": {
       "image/png": "/home/sensei/ce-5333-sensors-webroot/p4ebyexample/p4ebyexample/_build/jupyter_execute/examples/10datamodels/1interpolation_9_0.png"
      },
      "needs_background": "light"
     },
     "output_type": "display_data"
    }
   ],
   "source": [
    "import matplotlib.pyplot # the python plotting library\n",
    "myfigure = matplotlib.pyplot.figure(figsize = (6,6)) # generate a object from the figure class, set aspect ratio\n",
    "matplotlib.pyplot.scatter(xtable, ytable ,color ='red') # The observations as points\n",
    "matplotlib.pyplot.plot(xpred, ypred, color ='blue') # the polynomial\n",
    "matplotlib.pyplot.xlabel(\"Input Value\") \n",
    "matplotlib.pyplot.ylabel(\"Function Value\") \n",
    "mytitle = \"Interpolating Polynomial Fit to Observations\\n \"\n",
    "mytitle += \"Blue Markers are Observations \" + \"\\n\"\n",
    "mytitle += \"Red Curve is Fitted Polynomial \"+ \"\\n\"\n",
    "matplotlib.pyplot.title(mytitle) \n",
    "matplotlib.pyplot.show()"
   ]
  },
  {
   "cell_type": "code",
   "execution_count": 6,
   "metadata": {},
   "outputs": [
    {
     "ename": "NameError",
     "evalue": "name 'ssq_err' is not defined",
     "output_type": "error",
     "traceback": [
      "\u001b[0;31m---------------------------------------------------------------------------\u001b[0m",
      "\u001b[0;31mNameError\u001b[0m                                 Traceback (most recent call last)",
      "\u001b[0;32m<ipython-input-6-d20951032f5b>\u001b[0m in \u001b[0;36m<module>\u001b[0;34m\u001b[0m\n\u001b[1;32m      7\u001b[0m     \u001b[0mypred\u001b[0m\u001b[0;34m.\u001b[0m\u001b[0mappend\u001b[0m\u001b[0;34m(\u001b[0m\u001b[0mlagint\u001b[0m\u001b[0;34m(\u001b[0m\u001b[0mxtable\u001b[0m\u001b[0;34m,\u001b[0m\u001b[0mytable\u001b[0m\u001b[0;34m,\u001b[0m\u001b[0mxtable\u001b[0m\u001b[0;34m[\u001b[0m\u001b[0mi\u001b[0m\u001b[0;34m]\u001b[0m\u001b[0;34m)\u001b[0m\u001b[0;34m)\u001b[0m\u001b[0;34m\u001b[0m\u001b[0;34m\u001b[0m\u001b[0m\n\u001b[1;32m      8\u001b[0m \u001b[0;34m\u001b[0m\u001b[0m\n\u001b[0;32m----> 9\u001b[0;31m \u001b[0mprint\u001b[0m\u001b[0;34m(\u001b[0m\u001b[0;34m'Interpolation Error'\u001b[0m\u001b[0;34m,\u001b[0m\u001b[0mssq_err\u001b[0m\u001b[0;34m(\u001b[0m\u001b[0mytable\u001b[0m\u001b[0;34m,\u001b[0m\u001b[0mypred\u001b[0m\u001b[0;34m)\u001b[0m\u001b[0;34m)\u001b[0m\u001b[0;34m\u001b[0m\u001b[0;34m\u001b[0m\u001b[0m\n\u001b[0m",
      "\u001b[0;31mNameError\u001b[0m: name 'ssq_err' is not defined"
     ]
    }
   ],
   "source": [
    "xtable = [0,2,3,4]\n",
    "ytable = [7,11,28,63]\n",
    "\n",
    "ypred = []\n",
    "\n",
    "for i in range(len(xtable)): \n",
    "    ypred.append(lagint(xtable,ytable,xtable[i]))\n",
    "\n",
    "print('Interpolation Error',ssq_err(ytable,ypred))"
   ]
  },
  {
   "cell_type": "markdown",
   "metadata": {},
   "source": [
    "Now to finish the story lets apply our generic polynomial model to the same data and see what we can learn"
   ]
  },
  {
   "cell_type": "code",
   "execution_count": 75,
   "metadata": {},
   "outputs": [
    {
     "data": {
      "image/png": "[encoded data removed]",
      "text/plain": [
       "<Figure size 720x360 with 1 Axes>"
      ]
     },
     "metadata": {
      "filenames": {
       "image/png": "/home/sensei/ce-5333-sensors-webroot/p4ebyexample/p4ebyexample/_build/jupyter_execute/examples/10datamodels/1interpolation_12_0.png"
      },
      "needs_background": "light"
     },
     "output_type": "display_data"
    }
   ],
   "source": [
    "# observations\n",
    "xtable = [0,2,3,4]\n",
    "ytable = [7,11,28,63]\n",
    "#\n",
    "# build a data model\n",
    "intercept=7\n",
    "linear=0.69\n",
    "quadratic=-0.95\n",
    "cubic=1.06\n",
    "#\n",
    "xpred = [] # empty list to store results for plotting\n",
    "ypred = [] # empty list to store results for plotting\n",
    "#\n",
    "step_size = 0.10  # step size\n",
    "how_many = int((xtable[len(xtable)-1])/step_size)\n",
    "# build the predictions\n",
    "for i in range(how_many+1): \n",
    "    xpred.append(float(i)*step_size)\n",
    "    ypred.append(polynomial(intercept,linear,quadratic,cubic,xpred[i]))\n",
    "\n",
    "make2plot(xtable,ytable,xpred,ypred,'Input Value','Function Value','Plot of model and observations')"
   ]
  },
  {
   "cell_type": "code",
   "execution_count": 78,
   "metadata": {},
   "outputs": [
    {
     "name": "stdout",
     "output_type": "stream",
     "text": [
      "Interpolation Error 5.9031999999999885\n"
     ]
    }
   ],
   "source": [
    "xtable = [0,2,3,4]\n",
    "ytable = [7,11,28,63]\n",
    "\n",
    "ypred = []\n",
    "\n",
    "for i in range(len(xtable)): \n",
    "    ypred.append(polynomial(intercept,linear,quadratic,cubic,xtable[i]))\n",
    "\n",
    "print('Interpolation Error',ssq_err(ytable,ypred))"
   ]
  },
  {
   "cell_type": "markdown",
   "metadata": {},
   "source": [
    "Unlike the Lagrangian interpolation, here we can extrapolate, simply by using the data model."
   ]
  },
  {
   "cell_type": "markdown",
   "metadata": {},
   "source": [
    "<hr>\n",
    "\n",
    "## References\n",
    "\n",
    "1. Grus, Joel (2015-04-14). Data Science from Scratch: First Principles with Python\n",
    "(Kindle Locations 1190-1191). O'Reilly Media. Kindle Edition. \n",
    "\n",
    "2. Call Expressions in \"Adhikari, A. and DeNero, J. Computational and Inferential Thinking The Foundations of Data Science\" https://www.inferentialthinking.com/chapters/03/3/Calls.html\n",
    "\n",
    "3. Functions and Tables in \"Adhikari, A. and DeNero, J. Computational and Inferential Thinking The Foundations of Data Science\" https://www.inferentialthinking.com/chapters/08/Functions_and_Tables.html\n",
    "\n",
    "4. Visualization in \"Adhikari, A. and DeNero, J. Computational and Inferential Thinking The Foundations of Data Science\" https://www.inferentialthinking.com/chapters/07/Visualization.html\n",
    "\n",
    "5. Documentation; The Python Standard Library; 9. Numeric and Mathematical Modules https://docs.python.org/2/library/math.html\n",
    "\n",
    "6. https://matplotlib.org/gallery/lines_bars_and_markers/horizontal_barchart_distribution.html?highlight=horizontal%20bar%20chart\n",
    "\n",
    "7. https://www.geeksforgeeks.org/bar-plot-in-matplotlib/"
   ]
  }
 ],
 "metadata": {
  "kernelspec": {
   "display_name": "Python 3",
   "language": "python",
   "name": "python3"
  },
  "language_info": {
   "codemirror_mode": {
    "name": "ipython",
    "version": 3
   },
   "file_extension": ".py",
   "mimetype": "text/x-python",
   "name": "python",
   "nbconvert_exporter": "python",
   "pygments_lexer": "ipython3",
   "version": "3.8.10"
  }
 },
 "nbformat": 4,
 "nbformat_minor": 4
}