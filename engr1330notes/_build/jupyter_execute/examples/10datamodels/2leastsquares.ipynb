{
 "cells": [
  {
   "cell_type": "markdown",
   "metadata": {},
   "source": [
    "# Least Squares Minimization Method\n",
    "\n",
    "The least-squares \"method\" fits a curve to an aggregate (or cloud) of data.  It is used when working with measured data where data scatter is an important consideration.  Like interpolation, its utility in engineering is in making predictions of responses at as of yet unobserved instances.  Unlike the results can be (and are) used for extrapolation beyond the range of observations.\n",
    "\n",
    ":::{note}\n",
    "Least squares is really just a metric of fit, there are others.  If the residuals (errors) happen to be normally distributed, then some useful statistical interpretations are available.  Actual computations are accomplished using some version of \n",
    "- normal equations (based on means and variances)\n",
    "- linear algebra (based on a design matrix)\n",
    "\n",
    "In practice packages are employed to simplify the exercise, generally some type of regression package such as\n",
    "\n",
    "- `statsmodel`\n",
    "- `sklearn`\n",
    "\n",
    "is employed as are a few others common in the python world.  The homebrew work herein is strictly pedagogical and you should employ packages after you have a good feel for whats going on under the hood (of a package)\n",
    ":::\n",
    "\n",
    "## Background\n",
    "\n",
    "Consider {numref}`leastsquares-10-1`.  The sketch has four points and a curve passing through the data cloud (admittedly not much of a cloud with only 4 points!) The points are labeled as $P_1=(x_1,y_1)$, $P_2=(x_2,y_2)$, $P_3=(x_3,y_3)$, and $P_4=(x_4,y_4)$ the equation of the curve that is passed through the points is $y=f(x)$.\n",
    "\n",
    "```{figure} leastsquares-10-1.png\n",
    "---\n",
    "width: 400px\n",
    "\n",
    "name: leastsquares-10-1\n",
    "---\n",
    "A curve passing through four dater points\n",
    "\n",
    "```\n",
    "\n",
    "For each point $P_i=(x_i,y_i)$ we can define an *error*, $e_i$ as the difference between $y_i$ and $f(x_i)$ as \n",
    "\n",
    "$$e_i=y_i-f(x_i)$$\n",
    "\n",
    "for each of the data points.  In {numref}`leastsquares-10-1` the $e_2$ is the difference between $y_2$ and $f(x_2)$.  The curve $y=f(x)$ is actually some specific equation; for instance if we are fitting a line the curve is \n",
    "\n",
    "$$f(x)=\\beta_0 + \\beta_1 \\cdot x$$ \n",
    "\n",
    "\n",
    "and the goal is to find values of $\\beta_0$ and $\\beta_1$ that produce a good curve fit.  \n",
    "\n",
    ":::{admonition} Fitting Strategy\n",
    ":class: tip\n",
    "\n",
    "The overall strategy in fitting a data model (curve) to a set of data points is to find an appropriate set of values for the coefficients in the specific data model.  For instance in the linear model above the goal is to find $\\beta_0$ and $\\beta_1$\n",
    "\n",
    ":::\n",
    "\n",
    "We would like to choose the unknown coefficients in a manner that makes the errors, $e_i$, as small in magnitude as possible (i.e. zero!).  One approach could be to select coefficients so the sum of the errors is minimized, however large positive errors could cancel large negative errors, and while the metric would get small the fit would be poor.\n",
    "\n",
    "An obvious choice to mitigate this problem are to minimize the sum of squared errors.  The squared error will always be nonnegative regardless of whether the individual error is positive or negative; thus one is always summing positive numbers eliminating the possibility that large errors might cancel each other because of opposite signs.\n",
    "\n",
    "### Linear Least Squares\n",
    "\n",
    "The linear data model produces the following error structure\n",
    "\n",
    "$$e_i=y_i-(\\beta_0 + \\beta_1 \\cdot x_i)$$\n",
    "\n",
    "If we let $z$ represent the sum of squared errors we have\n",
    "\n",
    "$$z=[y_1-(\\beta_0 + \\beta_1 \\cdot x_1)]^2 + [y_2-(\\beta_0 + \\beta_1 \\cdot x_2)]^2 + \\dots + [y_n-(\\beta_0 + \\beta_1 \\cdot x_n)]^2$$\n",
    "\n",
    "or \n",
    "\n",
    "$$z = \\sum_{i=1}^n[y_i-(\\beta_0 + \\beta_1 \\cdot x_i)]^2$$\n",
    "\n",
    "Our goal is to minimize $z$ by choice of $\\beta_0$ and $\\beta_1$.  Recall from calculus that the necessary and sufficient condition for a minimum is that the partial derivatives of $z$ with respect to $\\beta_0$ and $\\beta_1$ must vanish. \n",
    "\n",
    "We can stipulate these conditions as\n",
    "\n",
    "$$\\frac{\\partial z}{\\partial \\beta_0} = -2\\sum_{i=1}^n[y_i-(\\beta_0 + \\beta_1 \\cdot x_i)]^2 =0 $$\n",
    "\n",
    "and\n",
    "\n",
    "$$\\frac{\\partial z}{\\partial \\beta_1} = -2\\sum_{i=1}^n x_i [y_i-(\\beta_0 + \\beta_1 \\cdot x_i)]^2 =0 $$\n",
    "\n",
    "Performing a little algebra we can arrive at\n",
    "\n",
    "$$ \\beta_1 \\sum_{i=1}^n x_i + n \\beta_0 = \\sum_{i=1}^n y_i  $$\n",
    "\n",
    "and\n",
    "\n",
    "$$\\beta_1 \\sum_{i=1}^n x_i^2 + \\beta_0 \\sum_{i=1}^n x_i = \\sum_{i=1}^n x_i y_i  $$\n",
    "\n",
    "Now we have two equations in two unknowns which can be solved as\n",
    "\n",
    "$$ \\beta_1 = \\frac{\\sum_{i=1}^n x_i \\sum_{i=1}^n y_i -n \\sum_{i=1}^n x_i y_i  }{(\\sum_{i=1}^n x_i)^2 -n \\sum_{i=1}^n x_i^2} $$\n",
    "\n",
    "$$ \\beta_0 = \\frac{1}{n}\\sum_{i=1}^n y_i - \\beta_1 \\frac{1}{n} \\sum_{i=1}^n x_i$$\n",
    "\n",
    ":::{note}\n",
    "These two equations are also known as the normal equations - and will result if we apply Maximum Likelihood Estimation to the error function assuming the error distribution is normal with zero mean and finite variance.\n",
    ":::"
   ]
  },
  {
   "cell_type": "markdown",
   "metadata": {},
   "source": [
    "### Example 10-1\n",
    "\n",
    "An engineer measured the force exherted by a spring as a function of its displacement from an equilibrium distance.  Here are the data.\n",
    "\n",
    "|ObservationID|Distance(cm)|Force(N)|\n",
    "|:---|---:|---:|\n",
    "|1|2|2.0|\n",
    "|2|4|3.5|\n",
    "|3|11|8.0|\n",
    "|4|7|4.5|\n",
    "|5|17|9.5|\n",
    "\n",
    "Determine the \"best fit\" straight line that passes through the aggregate of the data using least-squares method, plot the data and the resulting line.  Estimate the force corresponding to a displacement of 8.5 cm.\n"
   ]
  },
  {
   "cell_type": "markdown",
   "metadata": {},
   "source": [
    "#### Create the Data:\n",
    "Create the data - in this instance the problem is small enough to simply create two lists\n"
   ]
  },
  {
   "cell_type": "code",
   "execution_count": 1,
   "metadata": {},
   "outputs": [],
   "source": [
    "# data\n",
    "distance = [2,4,11,7,17]\n",
    "force = [2.0,3.5,8.0,4.5,9.5]"
   ]
  },
  {
   "cell_type": "markdown",
   "metadata": {},
   "source": [
    "#### Code the Formulas\n",
    "\n",
    "Now to use the normal equations we will use equivalent names $x$ and $y$ so we can employ the equations as written.\n",
    "\n",
    ":::{admonition} Aside\n",
    ":class: tip\n",
    "Here we are employing the principle of algebraic substitution, a type of abstraction.  One does not need to do this and could simply operate on the original names, but many people find that confusing.\n",
    ":::"
   ]
  },
  {
   "cell_type": "code",
   "execution_count": 2,
   "metadata": {},
   "outputs": [],
   "source": [
    "# equivalent names\n",
    "y = force\n",
    "x = distance\n",
    "x2 = [] # empty list \n",
    "xy = [] # empty list\n",
    "n = len(x)\n",
    "# components of the fitting model\n",
    "for irow in range(n):\n",
    "    x2.append(x[irow]**2)\n",
    "    xy.append(x[irow]*y[irow])\n",
    "beta1 = (sum(x)*sum(y) - n*sum(xy))/(sum(x)**2 - n*sum(x2))\n",
    "beta0 = (sum(y)/n) - beta1*(sum(x)/n)"
   ]
  },
  {
   "cell_type": "markdown",
   "metadata": {},
   "source": [
    "#### Prepare the PLot\n",
    "\n",
    "Now we have evaluated the equations as written and recovered $\\beta_0$ and $\\beta_1$.  So now lets set up the plotting.\n",
    "\n",
    "1. We will need the plotting package\n",
    "2. We will need to use the equation we just found to make the data model line - you will see we automate it a little bit below."
   ]
  },
  {
   "cell_type": "code",
   "execution_count": 3,
   "metadata": {},
   "outputs": [],
   "source": [
    "# import the package\n",
    "from matplotlib import pyplot as plt\n",
    "\n",
    "# make a list for plotting\n",
    "xmodel = [0.8*min(x),1.1*max(x)] # a little beyond the range of the data\n",
    "ymodel = []\n",
    "for i in range(len(xmodel)):\n",
    "    ymodel.append(xmodel[i]*beta1+beta0) #make a model to plot"
   ]
  },
  {
   "cell_type": "markdown",
   "metadata": {},
   "source": [
    "#### Render the Plot\n",
    "\n",
    "Now we can render the plot - notice we put the equation into the title line and have a LaTex-like string in the `ylabel` line."
   ]
  },
  {
   "cell_type": "code",
   "execution_count": 4,
   "metadata": {},
   "outputs": [
    {
     "data": {
      "image/png": "[encoded data removed]",
      "text/plain": [
       "<Figure size 576x432 with 1 Axes>"
      ]
     },
     "metadata": {
      "filenames": {
       "image/png": "/home/sensei/ce-5333-sensors-webroot/p4ebyexample/p4ebyexample/_build/jupyter_execute/examples/10datamodels/2leastsquares_9_0.png"
      },
      "needs_background": "light"
     },
     "output_type": "display_data"
    }
   ],
   "source": [
    "titleline = \"Spring Force \\n Data model y = \" + str(round(beta0,3)) + \" + \" + str(round(beta1,3)) + \"x\" # put the model into the title\n",
    "# Create a line chart of displacement on x axis and force on y axis\n",
    "mydata = plt.figure(figsize = (8,6)) # build a square drawing canvass from figure class\n",
    "plt.plot(x, y, c='red', marker='o',linewidth=0) # basic line plot\n",
    "plt.plot(xmodel,ymodel,c='blue',linewidth=1)\n",
    "plt.xlabel('Displacement from Equilibrium Position (cm)')\n",
    "plt.ylabel('Force '+r'($\\frac{kg~m}{s^2}$)')\n",
    "plt.legend(['Observed Values','Data Model'])\n",
    "plt.title(titleline)\n",
    "plt.grid()\n",
    "plt.show()"
   ]
  },
  {
   "cell_type": "markdown",
   "metadata": {},
   "source": [
    "#### Apply the Data Model\n",
    "\n",
    "Now the last part of the problem; estimate force at $x=8.5~cm$.  Looking at the data model, it looks like a value between 5.5 and 6 Newtons, but we can do better because we have a model:"
   ]
  },
  {
   "cell_type": "code",
   "execution_count": 5,
   "metadata": {},
   "outputs": [
    {
     "name": "stdout",
     "output_type": "stream",
     "text": [
      "Estimated force at displacement x=  8.5 cm is  5.65  Newtons\n"
     ]
    }
   ],
   "source": [
    "yestimate = (8.5)*beta1+beta0\n",
    "print(\"Estimated force at displacement x= \",8.5,\"cm is \",round(yestimate,2),' Newtons')"
   ]
  },
  {
   "cell_type": "markdown",
   "metadata": {},
   "source": [
    "### Assessing the Fit\n",
    "\n",
    "Once we have fit a line, we should evaluate the error structure.  \n",
    "\n",
    "#### Sum of Squared Errors\n",
    "\n",
    "One important measure is the sum of squared errors (SSE);\n",
    "\n",
    "$$SSE = \\sum_{i=1}^n [y_i-f(x_i)]^2$$\n",
    "\n",
    ":::{note}\n",
    "We intentionally switched back to $f(x)$ instead or retaining the equation of a line, any model will produce an error structure, so we are not limited to just linear models.\n",
    ":::\n",
    "\n",
    "The SSE is an indication of the quality of the fit a smaller number is better, and SSE is useful when comparing several different data models (different $f(x)$'s) of the same data set.  The curve producing the smallest SSE is usually the desired data model from the collection.\n",
    "\n",
    "####  Coefficient of Determination (R$^2$)\n",
    "\n",
    "Another indicator of fit quality is the [coefficient of determination](https://en.wikipedia.org/wiki/Coefficient_of_determination) usually symbolized as $R^2$.  Its formula is\n",
    "\n",
    "$$ R^2 = 1- \\frac{SSE}{SST} = 1 - \\frac{\\sum_{i=1}^n [y_i-f(x_i)]^2}{\\sum_{i=1}^n [y_i-\\bar y]^2} $$\n",
    "\n",
    "The coefficient will approach 1 when the SSE gets close to zero usually indicating a useable fit (but you should plot to be sure).\n",
    "\n",
    "### Example 10-2\n",
    "\n",
    "Continue the example above and assess the fit quality using SSE and $R^2$\n",
    "\n",
    "#### Build the Statistics\n",
    "\n",
    "Simply create empty lists, compute the summands, then sum up the lists"
   ]
  },
  {
   "cell_type": "code",
   "execution_count": 6,
   "metadata": {},
   "outputs": [],
   "source": [
    "se = [] #empty list for squared errors\n",
    "st = [] #empty list for squared deviations of y from its mean\n",
    "for irow in range(n):\n",
    "    se.append((y[irow]-beta0-beta1*x[irow])**2) # build the sq. err\n",
    "    st.append((y[irow]-(sum(y)/n))**2) # inefficient computation here! but faithful to the equation\n",
    "sse = sum(se) # we will add this to the title shortly\n",
    "sst = sum(st) # we will add this to the title shortly"
   ]
  },
  {
   "cell_type": "markdown",
   "metadata": {},
   "source": [
    "Now we have the values, simple enough to just add to the plot."
   ]
  },
  {
   "cell_type": "code",
   "execution_count": 7,
   "metadata": {},
   "outputs": [
    {
     "data": {
      "image/png": "[encoded data removed]",
      "text/plain": [
       "<Figure size 576x432 with 1 Axes>"
      ]
     },
     "metadata": {
      "filenames": {
       "image/png": "/home/sensei/ce-5333-sensors-webroot/p4ebyexample/p4ebyexample/_build/jupyter_execute/examples/10datamodels/2leastsquares_15_0.png"
      },
      "needs_background": "light"
     },
     "output_type": "display_data"
    }
   ],
   "source": [
    "titleline = \"Spring Force \\n Data model y = \" + str(round(beta0,3)) + \" + \" + str(round(beta1,3)) + \"x\" # put the model into the title\n",
    "titleline = titleline + '\\n SSE = ' + str(round(sse,4)) + '\\n R^2 = ' + str(round(1.-sse/sst,3)) \n",
    "# Create a line chart of displacement on x axis and force on y axis\n",
    "mydata = plt.figure(figsize = (8,6)) # build a square drawing canvass from figure class\n",
    "plt.plot(x, y, c='red', marker='o',linewidth=0) # basic line plot\n",
    "plt.plot(xmodel,ymodel,c='blue',linewidth=1)\n",
    "plt.xlabel('Displacement from Equilibrium Position (cm)')\n",
    "plt.ylabel('Force '+r'($\\frac{kg~m}{s^2}$)')\n",
    "plt.legend(['Observed Values','Data Model'])\n",
    "plt.title(titleline)\n",
    "plt.grid()\n",
    "plt.show()"
   ]
  },
  {
   "cell_type": "markdown",
   "metadata": {},
   "source": [
    "The $R^2$ value is close to 1 suggesting a good fit, hence for these data we would be comfortable choosing the line as our data model."
   ]
  },
  {
   "cell_type": "code",
   "execution_count": null,
   "metadata": {},
   "outputs": [],
   "source": []
  }
 ],
 "metadata": {
  "kernelspec": {
   "display_name": "Python 3",
   "language": "python",
   "name": "python3"
  },
  "language_info": {
   "codemirror_mode": {
    "name": "ipython",
    "version": 3
   },
   "file_extension": ".py",
   "mimetype": "text/x-python",
   "name": "python",
   "nbconvert_exporter": "python",
   "pygments_lexer": "ipython3",
   "version": "3.8.10"
  }
 },
 "nbformat": 4,
 "nbformat_minor": 4
}