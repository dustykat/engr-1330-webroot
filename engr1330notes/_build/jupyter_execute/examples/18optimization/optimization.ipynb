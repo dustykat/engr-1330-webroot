{
 "cells": [
  {
   "cell_type": "markdown",
   "metadata": {},
   "source": [
    "# Optimization Modeling\n",
    "\n",
    "Most engineering problems have multiple workable solutions (called feasible solutions).  Usually we apply some metric (measurement) of fitness (such as cost, weight, yield, $\\dots$ , or a linear or nonlinear combination of multiple measures) that distinguish one solution from another.  If a particular solution requires time-travel, that would be infeasible (circa 2022) and removed from consideration without bothering to determine its fitness in the other measures.\n",
    "\n",
    "The mathematical expression of fitness is called the *objective function* (also *merit function*, *cost function*, *performance function* are some other frequently appearing names for the same thing - a measure of how \"good\" the solution is!).  The supporting conditions, conservation laws, capacity restrictions, or other technical limitations that must be satisfied are called *constraints* (or *design requirements*, *feasibility conditions*, *auxiliary conditions*) \n",
    "\n",
    "When selecting an optimal solution (or non-inferior solution) we seek design values that minimize or maximize the *objective function* while simultaneously satisfying all the *constraints*.\n",
    "\n",
    ":::{note}\n",
    "Our least-squares regression analysis that led to the normal equations in line fitting is an example of an optimization problem.  The objective function was the SSE, the constraints were mostly that the $\\beta_i$'s are real valued numbers.  This is an example of unconstrained optimization - a valuable subset of the overall optimization process.\n",
    ":::\n",
    "\n",
    "For example, suppose we want to determine the lightest weight bridge that will satisfy a given set of design requirements.  The objective function is the bridge weight expressed in terms of the dimensions of the structural elements.  The constraints will be various force and moment relationships that must be satisfied (we want the bridge to actually work!). A typical problem is to determine the dimensions of the structural elements that will minimize the weight of the bridge, subject to the appliciable constraints.  Such problems are known as optimization problems and solutions are found using mathematical programming.\n",
    "\n",
    "Generally speaking solving linear and non-linear programming problems is relatively straightforward (given the right packages) but the formulation of the problem requires considerable care.  \n",
    "\n",
    ":::{warning}\n",
    "Recall in our problem solving process, the problem statement was a first step to success - in mathematical programming it is a vital step, and if done haphazardly the program will fail, when the actual problem has a solution. Development of the skill to deal with such an outcome is largely experience based - the abstraction process is also vital here.\n",
    ":::"
   ]
  },
  {
   "cell_type": "markdown",
   "metadata": {},
   "source": [
    "## Optimization Problem Characteristics\n",
    "\n",
    "An optimization problem is written using the following logic.\n",
    "\n",
    "Find values of the independent (*design, policy, or decision are other common names for these variables*) variables $x_1,x_2,\\dots,x_n$ that will minimize (or maximize) the objective function $y=f(x_1,x_2,\\dots,x_n)$.\n",
    "\n",
    "The resulting solutions must also satisfy one or more constraint conditions usually expressed as equations or inequalities as:\n",
    "\n",
    "$g_{eq;j}(x_1,x_2,\\dots,x_n) = 0$ <br>\n",
    "$g_{le;j}(x_1,x_2,\\dots,x_n) \\le 0$ <br>\n",
    "$g_{ge;j}(x_1,x_2,\\dots,x_n) \\ge 0$ <br>\n",
    "\n",
    "for $j=1,2,\\dots,m$ where $m$ is the total number of constraints.\n",
    "\n",
    "In addition, the permissible values of the independent variables are usually restricted to be non-negative as,\n",
    "\n",
    "$x_i \\ge 0~\\text{for}~~i=1,2,\\dots,n$\n",
    "\n",
    "A further constraint, common in logistics problems is that the independent variables are integer.  \n",
    "\n",
    ":::{warning}\n",
    "Optimization problems that are integer constrained are difficult to solve elegantly.  Don't be fooled into thinking that a real-valued solution rounded to the nearest integer is \"optimal\"; it might not even be feasible. It is a reasonable hack to get started, and often is a good enough approximation - just check that the result is at least feasible before commiting to the solution.\n",
    ":::\n",
    "\n"
   ]
  },
  {
   "cell_type": "code",
   "execution_count": null,
   "metadata": {},
   "outputs": [],
   "source": []
  }
 ],
 "metadata": {
  "kernelspec": {
   "display_name": "Python 3",
   "language": "python",
   "name": "python3"
  },
  "language_info": {
   "codemirror_mode": {
    "name": "ipython",
    "version": 3
   },
   "file_extension": ".py",
   "mimetype": "text/x-python",
   "name": "python",
   "nbconvert_exporter": "python",
   "pygments_lexer": "ipython3",
   "version": "3.8.10"
  }
 },
 "nbformat": 4,
 "nbformat_minor": 4
}