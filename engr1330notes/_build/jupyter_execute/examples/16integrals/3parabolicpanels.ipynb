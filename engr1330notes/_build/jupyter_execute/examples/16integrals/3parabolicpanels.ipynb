{
 "cells": [
  {
   "cell_type": "markdown",
   "metadata": {},
   "source": [
    "# Parabolic Panels\n",
    "Parabolic panels approximate the shape of the panel with a parabola.  The area between the chord and the curve (neglected in the trapezoidal solution) may be accounted for by approximating the function with a parabola passing through the points defined by three successive values of $y$.\n",
    "\n",
    "![](para-panels.png)\n",
    "\n",
    "This area may be calculated from the geometry of the parabola and added to the trapezoidal area of the pair of strips to give the area $\\Delta A$ of the pair as illustrated. Adding all of the $\\Delta A$s produces the tabulation shown, which is known as Simpson's rule. To use Simpson's rule, the number $n$ of strips must be even.\n",
    "\n",
    "The same example as presented for rectangular panels is repeated, except using parabolic panels.  The code is changed yet again because we will evaluate at each end of the panel as well as at an intermediate value."
   ]
  },
  {
   "cell_type": "code",
   "execution_count": 1,
   "metadata": {
    "cocalc": {
     "outputs": {
      "1": {
       "name": "input",
       "opts": {
        "password": false,
        "prompt": "Enter a lower bound x_low \n"
       },
       "output_type": "stream",
       "value": "0"
      },
      "2": {
       "name": "input",
       "opts": {
        "password": false,
        "prompt": "Enter an upper bound x_high \n"
       },
       "output_type": "stream",
       "value": "2"
      },
      "3": {
       "name": "input",
       "opts": {
        "password": false,
        "prompt": "Enter how many panels \n"
       },
       "output_type": "stream",
       "value": "4"
      }
     }
    },
    "collapsed": false,
    "jupyter": {
     "outputs_hidden": false
    }
   },
   "outputs": [
    {
     "name": "stdout",
     "output_type": "stream",
     "text": [
      "Program finds area under curve y = x * sqrt(1+x)\n",
      "Area under curve y = x * sqrt(1+x) from x =  0  to x =  1 \n",
      " is approximately:  0.6094186631272838\n"
     ]
    }
   ],
   "source": [
    "# ParabolicPanels.py\n",
    "# Numerical Integration\n",
    "# Use built-in math functions\n",
    "import math  # a package of math functions\n",
    "# we are naming an object \"sqrt\" that will compute the square root\n",
    "def sqrt (x):\n",
    "        return math.sqrt(x)\n",
    "# saves us having to type math.NAME every time we wish to use a function\n",
    "# in this program not all that meaningful, but in complex programs handy!\n",
    "x_low=0 #this is for JB demo only\n",
    "x_high=1\n",
    "how_many=4\n",
    "print (\"Program finds area under curve y = x * sqrt(1+x)\")\n",
    "# Get input data -- use error checking\n",
    "yes = 1\n",
    "while yes == 0:\n",
    "    x_low = input(\"Enter a lower bound x_low \\n\")\n",
    "    try:\n",
    "        x_low = float(x_low)\n",
    "        yes = 1\n",
    "    except:\n",
    "        print (\"x_low really needs to be a number, try again \\n\")\n",
    "yes = 1\n",
    "while yes == 0:\n",
    "    x_high = input(\"Enter an upper bound x_high \\n\")\n",
    "    try:\n",
    "        x_high = float(x_high)\n",
    "        yes = 1\n",
    "    except:\n",
    "        print (\"x_high really needs to be a number, try again \\n\")\n",
    "yes = 1\n",
    "while yes == 0:\n",
    "    how_many = input(\"Enter how many panels \\n\")\n",
    "    try:\n",
    "        how_many = int(how_many)\n",
    "        yes = 1\n",
    "    except:\n",
    "        print (\"Panels really needs to be a number, try again \\n\")\n",
    "delta_x = (x_high - x_low)/float(how_many)  # compute panel width\n",
    "accumulated_area = 0.0         # initial value in an accumulator\n",
    "x_left   = x_low               # initial value for x_left edge panel\n",
    "x_middle = x_left   + delta_x  # initial value for x_middle edge panel\n",
    "x_right  = x_middle + delta_x  # initial value for x_right edge panel\n",
    "how_many = int(how_many/2)     # using 2 panels every step, so 1/2 many steps -- force integer result \n",
    "for i in range(1,how_many+1,1): #note we are counting from 1\n",
    "    y_left   = ( x_left   * sqrt(1+   x_left**2) )\n",
    "    y_middle = ( x_middle * sqrt(1+ x_middle**2) )\n",
    "    y_right  = ( x_right  * sqrt(1+  x_right**2) )\n",
    "    accumulated_area = accumulated_area + \\\n",
    "                       (1./3.) * ( y_left + 4.* y_middle + y_right ) * delta_x\n",
    "    x_left   = x_left   + 2*delta_x\n",
    "    x_middle = x_left   +   delta_x\n",
    "    x_right  = x_middle +   delta_x\n",
    "print (\"Area under curve y = x * sqrt(1+x) from x = \",x_low,\\\n",
    "      \" to x = \",x_high,\"\\n is approximately: \",accumulated_area)\n",
    "\n"
   ]
  },
  {
   "cell_type": "markdown",
   "metadata": {},
   "source": [
    "If we study all the forms of the numerical method we observe that the numerical integration method is really the sum of function values at specific locations in the interval of interest, with each value multiplied by a specific weight.\n",
    "\n",
    "In this development the weights were based on polynomials, but other method use different weighting functions.  An extremely important method is called gaussian quadrature. This method is valuable because one can approximate convolution integrals quite effectively using quadrature routines, while the number of function evaluations for a polynomial based approximation could be hopeless.\n",
    "\n",
    "When the function values are tabular, we are going to have to accept the rectangular (with adaptations) and trapezoidal as our best tools to approximate an integral because we don't have any effective way to evaluate the function between the tabulated values."
   ]
  }
 ],
 "metadata": {
  "kernelspec": {
   "display_name": "Python 3",
   "language": "python",
   "name": "python3"
  },
  "language_info": {
   "codemirror_mode": {
    "name": "ipython",
    "version": 3
   },
   "file_extension": ".py",
   "mimetype": "text/x-python",
   "name": "python",
   "nbconvert_exporter": "python",
   "pygments_lexer": "ipython3",
   "version": "3.8.10"
  }
 },
 "nbformat": 4,
 "nbformat_minor": 4
}