{
 "cells": [
  {
   "cell_type": "markdown",
   "metadata": {},
   "source": [
    "# Rectangular Panels\n",
    "\n",
    "\n",
    ":::{note}\n",
    "These instructions .. \n",
    ":::\n",
    "\n",
    "\n",
    "\n"
   ]
  },
  {
   "cell_type": "markdown",
   "metadata": {},
   "source": [
    "The figure below is a schematic of a rectangular panels.  The figure is assuming the function structure is known and can be evaluated at an arbitrary location in the $\\Delta x$ dimension.\n",
    "\n",
    "![figure2](rect_panels.png)\n",
    "\n",
    "Each panel is treated as a rectangle, as shown by the representative panel whose height $y_m$ is chosen visually so that the small cross-hatched areas are as nearly equal as possible. Thus, we form the sum $\\sum y_m$ of the effective heights and multiply by $\\Delta x$. For a function known in analytical form, a value for $y_m$ equal to that of the function at the midpoint $x_i + \\Delta x /2$ may be calculated and used in the summation.\n",
    "\n",
    "For tabulated functions, we have to choose to either take $y_m$ as the value at the left endpoint or right endpoint.    This limitation is often quite handy when we are trying to integrate a function that is integrable, but undefined on one endpoint.\n",
    "\n",
    "Lets try some examples in Python.\n",
    "\n",
    "Find the area under the curve $y= x\\sqrt{1+x^2}$  from $x = 0$ to $x = 2$.\n",
    "\n",
    "First lets read in the value for the lowerlimit, we will do some limited error checks to be sure user enters a number, but won't check that the number is non-negative."
   ]
  },
  {
   "cell_type": "markdown",
   "metadata": {
    "cocalc": {
     "outputs": {
      "1": {
       "name": "input",
       "opts": {
        "password": false,
        "prompt": "Enter a lower bound x_low \n"
       },
       "output_type": "stream",
       "value": "0"
      }
     }
    },
    "jupyter": {
     "outputs_hidden": false
    }
   },
   "source": [
    ":::{admonition} Interactive Code\n",
    "The code below could be used for interactive inputs\n",
    "\n",
    "\n",
    "    \n",
    "    # RectangularPanels.py\n",
    "    # Numerical Integration\n",
    "    print (\"Program finds area under curve y = x * sqrt(1+x)\")\n",
    "    # Get input data -- use error checking\n",
    "    yes = 0\n",
    "    while yes == 0:\n",
    "        x_low = input(\"Enter a lower bound x_low \\n\")\n",
    "        try:\n",
    "            x_low = float(x_low)\n",
    "            yes = 1\n",
    "        except:\n",
    "        print (\"x_low really needs to be a number, try again \\n\")\n",
    "        \n",
    "    # exit the while loop when finally have a valid number\n",
    "    \n",
    "    \n",
    "\n",
    ":::"
   ]
  },
  {
   "cell_type": "markdown",
   "metadata": {},
   "source": [
    "Verify that value is indeed what we entered"
   ]
  },
  {
   "cell_type": "code",
   "execution_count": 1,
   "metadata": {},
   "outputs": [
    {
     "name": "stdout",
     "output_type": "stream",
     "text": [
      "2.0\n"
     ]
    }
   ],
   "source": [
    "x_low = 2.0 # replace with code above in proper use\n",
    "print(x_low)"
   ]
  },
  {
   "cell_type": "markdown",
   "metadata": {},
   "source": [
    "Now do the same for the upper limit, notice how we are using the ``yes`` variable.  We set a \"fail\" value, and demand input until we get \"success\".  The structure used here is called a ``try -- exception`` structure and is very common in programming.   Error checking is really important so that garbled input does not hang things up. "
   ]
  },
  {
   "cell_type": "markdown",
   "metadata": {
    "cocalc": {
     "outputs": {
      "0": {
       "name": "input",
       "opts": {
        "password": false,
        "prompt": "Enter an upper bound x_high \n"
       },
       "output_type": "stream",
       "value": "2"
      }
     }
    },
    "jupyter": {
     "outputs_hidden": false
    }
   },
   "source": [
    ":::{admonition} Interactive Code\n",
    "The code below could be used for interactive inputs\n",
    "    \n",
    "    yes = 0\n",
    "    while yes == 0:\n",
    "        x_high = input(\"Enter an upper bound x_high \\n\")\n",
    "        try:\n",
    "            x_high = float(x_high)\n",
    "            yes = 1\n",
    "        except:\n",
    "            print (\"x_high really needs to be a number, try again \\n\")\n",
    "    # exit the while loop when finally have a valid number\n",
    "    \n",
    ":::"
   ]
  },
  {
   "cell_type": "markdown",
   "metadata": {},
   "source": [
    "Again verify!"
   ]
  },
  {
   "cell_type": "code",
   "execution_count": 2,
   "metadata": {
    "collapsed": false,
    "jupyter": {
     "outputs_hidden": false
    }
   },
   "outputs": [
    {
     "name": "stdout",
     "output_type": "stream",
     "text": [
      "4.0\n"
     ]
    }
   ],
   "source": [
    "x_high=4.0 # replace with code above in proper use\n",
    "print(x_high)"
   ]
  },
  {
   "cell_type": "markdown",
   "metadata": {},
   "source": [
    "Now use the try - exception structure to input how many panels we wish to use.  Notice you can enter a negative value which will ultimately break things. Also observe this value is an integer."
   ]
  },
  {
   "cell_type": "markdown",
   "metadata": {
    "cocalc": {
     "outputs": {
      "0": {
       "name": "input",
       "opts": {
        "password": false,
        "prompt": "Enter how many panels \n"
       },
       "output_type": "stream",
       "value": "4"
      }
     }
    },
    "jupyter": {
     "outputs_hidden": false
    }
   },
   "source": [
    ":::{admonition} Interactive Code\n",
    "The code below could be used for interactive inputs\n",
    "    \n",
    "    yes = 0\n",
    "    while yes == 0:\n",
    "        how_many = input(\"Enter how many panels \\n\")\n",
    "        try:\n",
    "            how_many = int(how_many)\n",
    "            yes = 1\n",
    "        except:\n",
    "            print (\"Panels really needs to be a number, try again \\n\")\n",
    "    # exit the while loop when finally have a valid number\n",
    "    \n",
    ":::"
   ]
  },
  {
   "cell_type": "markdown",
   "metadata": {},
   "source": [
    "Again verify!"
   ]
  },
  {
   "cell_type": "code",
   "execution_count": 3,
   "metadata": {
    "collapsed": false,
    "jupyter": {
     "outputs_hidden": false
    }
   },
   "outputs": [
    {
     "name": "stdout",
     "output_type": "stream",
     "text": [
      "5\n"
     ]
    }
   ],
   "source": [
    "how_many=5 # replace with code above in proper use\n",
    "print(how_many)"
   ]
  },
  {
   "cell_type": "markdown",
   "metadata": {},
   "source": [
    "Now we can actually perform the integration by evaluating the function at the panel half-widths.\n",
    "In this example we are using primitive arithmetic, so the $\\sqrt{}$ is accomplished by exponentation, the syntax is ``c = a ** b`` is the operation $c = a^b$.\n",
    "\n",
    "The integration uses an accumulator, which is a memory location where subsquent results are added (accumulated) back into the accumulator.  This structure is so common that there are alternate, compact syntax to perform this task, here it is all out in the open.\n",
    "\n",
    "The counting loop where we evaluate the function at different ``x`` values, starts at 1 and ends at ``how_many+1`` because python ``for`` loops use an increment skip if equal structure. When the value in ``range`` equals ``how_many`` the ``for`` loop exits (``break`` is implied.)  A loop control structure starting from 0 is shown in the code as a comment line.  Simply uncomment this line, and comment the line just below to have the structure typical in python scripts.  In the start from 1 case, we want to evaluate at the last value of ``how_many``.  "
   ]
  },
  {
   "cell_type": "code",
   "execution_count": 4,
   "metadata": {
    "collapsed": false,
    "jupyter": {
     "outputs_hidden": false
    }
   },
   "outputs": [],
   "source": [
    "# OK we should have the three things we need for evaluating the integral\n",
    "delta_x = (x_high - x_low)/float(how_many)  # compute panel width\n",
    "xx = x_low + delta_x/2 # initial value for x\n",
    "### OK THIS IS THE ACTUAL INTEGRATOR PART ###\n",
    "accumulated_area = 0.0  # initial value in an accumulator\n",
    "#for i in range(0,how_many,1): #note we are counting from 0\n",
    "for i in range(1,how_many+1,1): #note we are counting from 1\n",
    "    accumulated_area = accumulated_area + ( xx * ( (1+xx**2)**(0.5) ) ) * delta_x\n",
    "    xx = xx + delta_x\n",
    "### AND WE ARE DONE INTEGRATING #############"
   ]
  },
  {
   "cell_type": "markdown",
   "metadata": {},
   "source": [
    "Finally, we want to report our result"
   ]
  },
  {
   "cell_type": "code",
   "execution_count": 5,
   "metadata": {
    "collapsed": false,
    "jupyter": {
     "outputs_hidden": false
    }
   },
   "outputs": [
    {
     "name": "stdout",
     "output_type": "stream",
     "text": [
      "Area under curve y = x * sqrt(1+x) from x =  2.0  to x =  4.0 \n",
      " is approximately:  19.610958667237167\n"
     ]
    }
   ],
   "source": [
    "print (\"Area under curve y = x * sqrt(1+x) from x = \",x_low,\\\n",
    "      \" to x = \",x_high,\"\\n is approximately: \",accumulated_area)\n",
    "# the backslash \\\n",
    "#       \" to x = .....     lets us use multiple lines\n",
    "# the \\n is a \"newline\" character "
   ]
  },
  {
   "cell_type": "markdown",
   "metadata": {},
   "source": [
    "The code implements rudimentary error checking -- it forces us to enter numeric values for the lower and upper values of $x$ as well as the number of panels to use.  It does not check for undefined ranges and such, but you should get the idea -- notice that a large fraction of the entire program is error trapping; this devotion to error trapping is typical for professional programs where you are going to distribute executable modules and not expect the end user to be a programmer.\n",
    "\n",
    "## Using the `math` package\n",
    "\n",
    "The actual computations are done rather crudely -- there is a math package that would give us the ability to compute the square root as a function call rather than exponentiation to a real values exponent.\n",
    "\n",
    "That is illustrated below"
   ]
  },
  {
   "cell_type": "code",
   "execution_count": 6,
   "metadata": {
    "cocalc": {
     "outputs": {
      "1": {
       "name": "input",
       "opts": {
        "password": false,
        "prompt": "Enter a lower bound x_low \n"
       },
       "output_type": "stream",
       "value": "0"
      },
      "2": {
       "name": "input",
       "opts": {
        "password": false,
        "prompt": "Enter an upper bound x_high \n"
       },
       "output_type": "stream",
       "value": "2"
      },
      "3": {
       "name": "input",
       "opts": {
        "password": false,
        "prompt": "Enter how many panels \n"
       },
       "output_type": "stream",
       "value": "4"
      }
     }
    },
    "collapsed": false,
    "jupyter": {
     "outputs_hidden": false
    }
   },
   "outputs": [
    {
     "name": "stdout",
     "output_type": "stream",
     "text": [
      "Program finds area under curve y = x * sqrt(1+x)\n",
      "Area under curve y = x * sqrt(1+x) from x =  0  to x =  2 \n",
      " is approximately:  3.3793974379024605\n"
     ]
    }
   ],
   "source": [
    "# RectangularPanels.py\n",
    "# Numerical Integration\n",
    "# Use built-in math functions\n",
    "import math  # a package of math functions\n",
    "# we are naming an object \"sqrt\" that will compute the square root\n",
    "def sqrt (x):\n",
    "        return math.sqrt(x)\n",
    "# saves us having to type math.NAME every time we wish to use a function\n",
    "# in this program not all that meaningful, but in complex programs handy!\n",
    "x_low=0 #this is for JB demo only\n",
    "x_high=2\n",
    "how_many=6\n",
    "print (\"Program finds area under curve y = x * sqrt(1+x)\")\n",
    "# Get input data -- use error checking\n",
    "yes = 1  #set to 0 for interacitve input\n",
    "while yes == 0:\n",
    "    x_low = input(\"Enter a lower bound x_low \\n\")\n",
    "    try:\n",
    "        x_low = float(x_low)\n",
    "        yes = 1\n",
    "    except:\n",
    "        print (\"x_low really needs to be a number, try again \\n\")\n",
    "yes = 1 #set to 0 for interacitve input\n",
    "while yes == 0:\n",
    "    x_high = input(\"Enter an upper bound x_high \\n\")\n",
    "    try:\n",
    "        x_high = float(x_high)\n",
    "        yes = 1\n",
    "    except:\n",
    "        print (\"x_high really needs to be a number, try again \\n\")\n",
    "yes = 1 #set to 0 for interacitve input\n",
    "while yes == 0:\n",
    "    how_many = input(\"Enter how many panels \\n\")\n",
    "    try:\n",
    "        how_many = int(how_many)\n",
    "        yes = 1\n",
    "    except:\n",
    "        print (\"Panels really needs to be a number, try again \\n\")\n",
    "        \n",
    "\n",
    "delta_x = (x_high - x_low)/float(how_many)  # compute panel width\n",
    "accumulated_area = 0.0  # initial value in an accumulator\n",
    "xx = x_low + delta_x/2 # initial value for x\n",
    "for i in range(1,how_many+1,1): #note we are counting from 1\n",
    "    accumulated_area = accumulated_area + ( xx * sqrt(1+xx**2) ) * delta_x\n",
    "    xx = xx + delta_x\n",
    "print (\"Area under curve y = x * sqrt(1+x) from x = \",x_low,\\\n",
    "      \" to x = \",x_high,\"\\n is approximately: \",accumulated_area)\n",
    "\n"
   ]
  }
 ],
 "metadata": {
  "kernelspec": {
   "display_name": "Python 3",
   "language": "python",
   "name": "python3"
  },
  "language_info": {
   "codemirror_mode": {
    "name": "ipython",
    "version": 3
   },
   "file_extension": ".py",
   "mimetype": "text/x-python",
   "name": "python",
   "nbconvert_exporter": "python",
   "pygments_lexer": "ipython3",
   "version": "3.8.10"
  }
 },
 "nbformat": 4,
 "nbformat_minor": 4
}