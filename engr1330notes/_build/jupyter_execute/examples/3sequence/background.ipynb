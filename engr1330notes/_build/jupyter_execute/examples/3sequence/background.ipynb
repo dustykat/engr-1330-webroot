{
 "cells": [
  {
   "cell_type": "markdown",
   "metadata": {},
   "source": [
    "# Starting Jupyter\n",
    "\n",
    "## Cell Types\n",
    "\n",
    "- Markdown\n",
    "- Code\n",
    "- Raw\n",
    "\n",
    "## Interrupting the Kernel\n",
    "\n",
    "- Reasons to do so\n",
    "- "
   ]
  }
 ],
 "metadata": {
  "kernelspec": {
   "display_name": "Python 3",
   "language": "python",
   "name": "python3"
  },
  "language_info": {
   "codemirror_mode": {
    "name": "ipython",
    "version": 3
   },
   "file_extension": ".py",
   "mimetype": "text/x-python",
   "name": "python",
   "nbconvert_exporter": "python",
   "pygments_lexer": "ipython3",
   "version": "3.8.10"
  }
 },
 "nbformat": 4,
 "nbformat_minor": 4
}