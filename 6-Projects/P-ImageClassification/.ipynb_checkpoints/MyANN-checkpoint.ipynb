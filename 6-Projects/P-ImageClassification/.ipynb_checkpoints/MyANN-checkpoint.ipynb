{
 "cells": [
  {
   "cell_type": "code",
   "execution_count": 1,
   "metadata": {},
   "outputs": [
    {
     "name": "stdout",
     "output_type": "stream",
     "text": [
      "Echo system status -- reset environment if kernel NOT 3.8...\n",
      "/opt/jupyterhub/bin/python3\n",
      "3.6.9 (default, Oct  8 2020, 12:12:24) \n",
      "[GCC 8.4.0]\n",
      "sys.version_info(major=3, minor=6, micro=9, releaselevel='final', serial=0)\n"
     ]
    }
   ],
   "source": [
    "import sys\n",
    "print(\"Echo system status -- reset environment if kernel NOT 3.8...\")\n",
    "print(sys.executable)\n",
    "print(sys.version)\n",
    "print(sys.version_info)\n",
    "# testing on aws lightsail instance 21 July 2020"
   ]
  },
  {
   "cell_type": "markdown",
   "metadata": {},
   "source": [
    "\n",
    "# Warning!!\n",
    "\n",
    "**This notebook takes a long time to run (3+ minutes on 1GB/1CPU/2GHz)**"
   ]
  },
  {
   "cell_type": "markdown",
   "metadata": {},
   "source": [
    "# Artifical Neural Network\n",
    "\n",
    "From Wikipedia:\n",
    "\n",
    "An artificial neural network is an interconnected group of nodes, inspired by a simplification of neurons in a brain. Here, each circular node represents an artificial neuron and an arrow represents a connection from the output of one artificial neuron to the input of another.\n",
    "Artificial neural networks (ANN) or connectionist systems are computing systems vaguely inspired by the biological neural networks that constitute animal brains. \n",
    "Such systems \"learn\" to perform tasks by considering examples, generally without being programmed with task-specific rules. For example, in image recognition, they might learn to identify images that contain cats by analyzing example images that have been manually labeled as \"cat\" or \"no cat\" and using the results to identify cats in other images. \n",
    "They do this without any prior knowledge of cats, for example, that they have fur, tails, whiskers and cat-like faces. \n",
    "Instead, they automatically generate identifying characteristics from the examples that they process.\n",
    "\n",
    "An ANN is based on a collection of connected units or nodes called artificial neurons, which loosely model the neurons in a biological brain. Each connection, like the synapses in a biological brain, can transmit a signal to other neurons. An artificial neuron that receives a signal then processes it and can signal neurons connected to it.\n",
    "\n",
    "In ANN implementations, the \"signal\" at a connection is a real number, and the output of each neuron is computed by some non-linear function of the sum of its inputs. The connections are called edges. Neurons and edges typically have a weight that adjusts as learning proceeds. The weight increases or decreases the strength of the signal at a connection. Neurons may have a threshold such that a signal is sent only if the aggregate signal crosses that threshold. Typically, neurons are aggregated into layers. Different layers may perform different transformations on their inputs. Signals travel from the first layer (the input layer), to the last layer (the output layer), possibly after traversing the layers multiple times.\n",
    "\n",
    "The original goal of the ANN approach was to solve problems in the same way that a human brain would. But over time, attention moved to performing specific tasks, leading to deviations from biology. ANNs have been used on a variety of tasks, including computer vision, speech recognition, machine translation, social network filtering, playing board and video games, medical diagnosis, and even in activities that have traditionally been considered as reserved to humans, like painting.\n",
    "\n",
    "First some set-up, for the next part of the background:"
   ]
  },
  {
   "cell_type": "code",
   "execution_count": 1,
   "metadata": {},
   "outputs": [],
   "source": [
    "import numpy              # useful numerical routines\n",
    "import scipy.special      # special functions library\n",
    "import scipy.misc         # image processing code\n",
    "import imageio\n",
    "import matplotlib.pyplot  # import plotting routines"
   ]
  },
  {
   "cell_type": "markdown",
   "metadata": {},
   "source": [
    "## Classification\n",
    "\n",
    "Computers are nothing more than calculators at heart. They are very very fast at doing  arithmetic.  This is great for doing tasks that match what a calculator does: summing numbers to work out sales, applying percentages to work out tax, plotting graphs of existing data.  \n",
    "Even watching catchup TV or streaming music through your computer doesn’t involve much  more than the computer executing simple arithmetic instructions again and again. \n",
    "It may  surprise you but reconstructing a video frame from the ones and zeros that are piped across the  internet to your computer is done using arithmetic not much more complex than the sums we  did at school.  \n",
    "Adding up numbers really quickly  thousands, or even millions of times a second  may be impressive  but it isn’t intelligence. \n",
    "\n",
    "A human may find it hard to do large sums very quickly but the  process of doing it doesn’t require much intelligence at all. It simply requires an ability to follow  very basic instructions, and this is what the electronics inside a computer does.  Now let’s flips things and turn the tables on computers!  Look at the following images and see if you can recognise what they contain: \n",
    "\n",
    "![](image_src/pictures.png)\n",
    "\n",
    "You can immediately recognize people, a cat, and a tree -- you are ably to classify the pictures very fast.\n",
    "We can process the quite large amount of information that the images contain, and very  successfully process it to recognise what’s in the image. This kind of task isn’t easy for  computers  in fact it’s incredibly difficult. \n",
    "\n",
    "Consider what happens when we reduce the information into a 27X27 pixel map to see one reason why classification is hard for a machine -- a resolution issue, also we will see how at reduce resolution the pictures look alike.\n",
    "\n",
    "First render the people image in reduced resolution about 1/2 of the original -- still barely recognizable for us humans"
   ]
  },
  {
   "cell_type": "code",
   "execution_count": 2,
   "metadata": {},
   "outputs": [
    {
     "data": {
      "image/png": "[encoded data removed]",
      "text/plain": [
       "<Figure size 432x288 with 1 Axes>"
      ]
     },
     "metadata": {
      "needs_background": "light"
     },
     "output_type": "display_data"
    }
   ],
   "source": [
    "img_array = imageio.imread(\"image_src/people784.png\", as_gray = True)\n",
    "img_data0 = 255.0 - img_array.reshape(784)\n",
    "img_data0 = ((img_data0/255.0)*0.99) + 0.01\n",
    "matplotlib.pyplot.imshow(numpy.asfarray(img_data0).reshape((28,28)),cmap = 'Greys') # construct a graphic object #\n",
    "matplotlib.pyplot.show() # show the graphic object to a window #\n",
    "matplotlib.pyplot.close('all')"
   ]
  },
  {
   "cell_type": "code",
   "execution_count": 3,
   "metadata": {},
   "outputs": [
    {
     "name": "stdout",
     "output_type": "stream",
     "text": [
      "people784 statistics :  0.48325375 0.06275265\n"
     ]
    }
   ],
   "source": [
    "print(\"people784 statistics : \",img_data0.mean(),img_data0.var())"
   ]
  },
  {
   "cell_type": "markdown",
   "metadata": {},
   "source": [
    "Now render the cat image in reduced resolution about 1/2 of the original -- still  recognizable for us humans"
   ]
  },
  {
   "cell_type": "code",
   "execution_count": 5,
   "metadata": {},
   "outputs": [
    {
     "data": {
      "image/png": "[encoded data removed]",
      "text/plain": [
       "<Figure size 432x288 with 1 Axes>"
      ]
     },
     "metadata": {
      "needs_background": "light"
     },
     "output_type": "display_data"
    }
   ],
   "source": [
    "img_array = imageio.imread(\"image_src/cat784.png\", as_gray = True)\n",
    "img_data1 = 255.0 - img_array.reshape(784)\n",
    "img_data1 = ((img_data1/255.0)*0.99) + 0.01\n",
    "matplotlib.pyplot.imshow(numpy.asfarray(img_data1).reshape((28,28)),cmap = 'Greys') # construct a graphic object #\n",
    "matplotlib.pyplot.show() # show the graphic object to a window #\n",
    "matplotlib.pyplot.close('all')"
   ]
  },
  {
   "cell_type": "code",
   "execution_count": 9,
   "metadata": {},
   "outputs": [
    {
     "name": "stdout",
     "output_type": "stream",
     "text": [
      "cat784 statistics :  0.60355407 0.023282547\n"
     ]
    }
   ],
   "source": [
    "print(\"cat784 statistics : \",img_data1.mean(),img_data1.var())"
   ]
  },
  {
   "cell_type": "markdown",
   "metadata": {},
   "source": [
    "Now render the tree image in reduced resolution about 1/3 of the original -- still  recognizable for us humans"
   ]
  },
  {
   "cell_type": "code",
   "execution_count": 10,
   "metadata": {},
   "outputs": [
    {
     "data": {
      "image/png": "[encoded data removed]",
      "text/plain": [
       "<Figure size 432x288 with 1 Axes>"
      ]
     },
     "metadata": {
      "needs_background": "light"
     },
     "output_type": "display_data"
    }
   ],
   "source": [
    "img_array = imageio.imread(\"image_src/tree784.png\", as_gray = True)\n",
    "img_data2 = 255.0 - img_array.reshape(784)\n",
    "img_data2 = ((img_data2/255.0)*0.99) + 0.01\n",
    "matplotlib.pyplot.imshow(numpy.asfarray(img_data2).reshape((28,28)),cmap = 'Greys') # construct a graphic object #\n",
    "matplotlib.pyplot.show() # show the graphic object to a window #\n",
    "matplotlib.pyplot.close('all')"
   ]
  },
  {
   "cell_type": "code",
   "execution_count": 11,
   "metadata": {},
   "outputs": [
    {
     "name": "stdout",
     "output_type": "stream",
     "text": [
      "tree784 statistics :  0.484061 0.049499817\n"
     ]
    }
   ],
   "source": [
    "print(\"tree784 statistics : \",img_data2.mean(),img_data2.var())"
   ]
  },
  {
   "cell_type": "markdown",
   "metadata": {},
   "source": [
    "Using the image statistics, which is just the gray-scale value of each pixel (0-254), we see that the images are different with this simple metric but not by much\n",
    "\n",
    "    Image       Mean           Variance\n",
    "    People    0.48325375     0.06275265\n",
    "    Cat       0.60355407     0.023282547\n",
    "    Tree      0.484061       0.049499817\n",
    "    \n",
    "If we used just a statistical description, in the mean people and tree are the same, whereas a cat is different. But not all cats will have the same mean (or variance).  So simplistic numerical descriptors are useless, we need more that a couple of metrics for the image perhaps higher moments, or a way to consider all pixels at once -- sort of like a regression model. \n",
    "\n",
    "We humans naturally fill in missing information and can classify very fast  -- cognative scientists think (now thats a pun!) that our mind performs \"regressions\" on the whole image and reduces it to a set of classifiers then these are compared in our brain to historical results and the classification that throw off the most dopamine (our brain's drug of choice) is selected.  It happens fast because the chemical reactions involved can be processed in parallel, the message is sent evreywhere at once and the molecules themselves don't even have to arrive for the classification to occur.\n",
    "\n",
    "## Things to do\n",
    "link videos\n",
    "- explain prediction vs clasification\n",
    "- explain neuron functions\n",
    "- ANN \n",
    "\n",
    "write ups/future fixes\n",
    "\n",
    "- modify so my photos can be added to a training file\n",
    "- modify so can ask for filenames\n",
    "- modify so can render images and send output to PDF/PNG files\n",
    "- modify to do something engineering useful -- like partition watersheds into developed, undeveloped and a few other classes based on GoogleEarth image captures"
   ]
  },
  {
   "cell_type": "code",
   "execution_count": 11,
   "metadata": {},
   "outputs": [
    {
     "data": {
      "text/plain": [
       "167.49328344742662"
      ]
     },
     "execution_count": 11,
     "metadata": {},
     "output_type": "execute_result"
    }
   ],
   "source": [
    "(28054)**(1/2) #not sure why I put this here, looks like figuring pixel counts"
   ]
  },
  {
   "cell_type": "markdown",
   "metadata": {},
   "source": [
    "### Define the ANN class \n",
    "Need write up on OOP and why using classes."
   ]
  },
  {
   "cell_type": "code",
   "execution_count": null,
   "metadata": {},
   "outputs": [],
   "source": []
  },
  {
   "cell_type": "code",
   "execution_count": 12,
   "metadata": {},
   "outputs": [
    {
     "name": "stdout",
     "output_type": "stream",
     "text": [
      "neuralNetwork Class Loads OK\n"
     ]
    }
   ],
   "source": [
    "class neuralNetwork:  # Class Definitions \n",
    "\n",
    "    # initialize the neural network\n",
    "    def __init__(self, inputnodes, hiddennodes, outputnodes, learningrate):\n",
    "        # set number of nodes in input, hidden, and output layer\n",
    "        self.inodes = inputnodes\n",
    "        self.hnodes = hiddennodes\n",
    "        self.onodes = outputnodes\n",
    "\n",
    "        # learning rate\n",
    "        self.lr = learningrate\n",
    "        \n",
    "        # initalize weight matrices\n",
    "        #\n",
    "        # link weight matrices, wih (input to hidden) and\n",
    "        #                       who (hidden to output)\n",
    "        # weights inside the arrays are w_i_j where link is from node i\n",
    "        # to node j in next layer\n",
    "        #\n",
    "        # w11 w21\n",
    "        # w12 w22 etc.\n",
    "        \n",
    "        self.wih = (numpy.random.rand(self.hnodes, self.inodes) - 0.5)\n",
    "        self.who = (numpy.random.rand(self.onodes, self.hnodes) - 0.5)\n",
    "\n",
    "        # activation function\n",
    "        self.activation_function = lambda x:scipy.special.expit(x)\n",
    "        pass\n",
    "\n",
    "    # train the neural network\n",
    "    def train(self, inputs_list, targets_list):\n",
    "        # convert input list into 2D array\n",
    "        inputs = numpy.array(inputs_list, ndmin=2).T\n",
    "\n",
    "        # convert target list into 2D array\n",
    "        targets = numpy.array(targets_list, ndmin=2).T\n",
    "        \n",
    "        # calculate signals into hidden layer\n",
    "        hidden_inputs = numpy.dot(self.wih, inputs)\n",
    "\n",
    "        # calculate signals from hidden layer\n",
    "        hidden_outputs = self.activation_function(hidden_inputs)\n",
    "\n",
    "        # calculate signals into output layer\n",
    "        final_inputs = numpy.dot(self.who, hidden_outputs)\n",
    "\n",
    "        # calculate signals from output layer\n",
    "        final_outputs = self.activation_function(final_inputs)\n",
    "\n",
    "        # calculate output errors (target - model)\n",
    "        output_errors = targets - final_outputs\n",
    "\n",
    "        # calculate hidden layer errors (split by weigths recombined in hidden layer)\n",
    "        hidden_errors = numpy.dot(self.who.T, output_errors)\n",
    "\n",
    "        # update the weights for the links from hidden to output layer\n",
    "        self.who += self.lr * numpy.dot((output_errors * final_outputs * (1.0 - final_outputs)), numpy.transpose(hidden_outputs))\n",
    "\n",
    "        # update the weights for the links from input to hidden layer\n",
    "        self.wih += self.lr * numpy.dot((hidden_errors * hidden_outputs * (1.0 - hidden_outputs)), numpy.transpose(inputs))                                       \n",
    "        \n",
    "        pass\n",
    "\n",
    "    # query the neural network\n",
    "    def query(self, inputs_list):\n",
    "        # convert input list into 2D array\n",
    "        inputs = numpy.array(inputs_list, ndmin=2).T\n",
    "\n",
    "        # calculate signals into hidden layer\n",
    "        hidden_inputs = numpy.dot(self.wih, inputs)\n",
    "\n",
    "        # calculate signals from hidden layer\n",
    "        hidden_outputs = self.activation_function(hidden_inputs)\n",
    "\n",
    "        # calculate signals into output layer\n",
    "        final_inputs = numpy.dot(self.who, hidden_outputs)\n",
    "\n",
    "        # calculate signals from output layer\n",
    "        final_outputs = self.activation_function(final_inputs)\n",
    "\n",
    "        return final_outputs\n",
    "\n",
    "        pass\n",
    "print(\"neuralNetwork Class Loads OK\")"
   ]
  },
  {
   "cell_type": "markdown",
   "metadata": {},
   "source": [
    "### Explain why a test case"
   ]
  },
  {
   "cell_type": "code",
   "execution_count": 13,
   "metadata": {},
   "outputs": [
    {
     "name": "stdout",
     "output_type": "stream",
     "text": [
      "Instance n Created\n"
     ]
    }
   ],
   "source": [
    "# Test case 1 p130 MYONN\n",
    "# number of input, hidden, and output nodes\n",
    "input_nodes  = 784    # 28X28 Pixel Image \n",
    "hidden_nodes = 110    # Should be smaller than input count (or kind of useless)\n",
    "output_nodes =  10    # Classifications\n",
    "learning_rate = 0.1   # set learning rate\n",
    "n = neuralNetwork(input_nodes,hidden_nodes,output_nodes,learning_rate) # create an instance\n",
    "print(\"Instance n Created\")"
   ]
  },
  {
   "cell_type": "markdown",
   "metadata": {},
   "source": [
    "## Explain Training\n",
    "\n",
    "### Explain Concept of Learning Rate and Training Episodes (kind of a bootstrap here!)"
   ]
  },
  {
   "cell_type": "code",
   "execution_count": 14,
   "metadata": {},
   "outputs": [
    {
     "name": "stdout",
     "output_type": "stream",
     "text": [
      "training records processed   =  60000\n",
      "training episodes            =  1\n"
     ]
    }
   ],
   "source": [
    "# load a training file\n",
    "# replace code here with a URL get\n",
    "## training_data_file = open(\"mnist_train_100.csv\",'r') #connect the file#\n",
    "training_data_file = open(\"mnist_train.csv\",'r') #connect the file#\n",
    "training_data_list = training_data_file.readlines() #read entire contents of file into object: data_list#\n",
    "training_data_file.close() #disconnect the file#\n",
    "# print(len(training_data_list))   ## activate for debugging otherwise leave disabled\n",
    "# train the neural network\n",
    "howManyTrainingTimes = 0\n",
    "for times in range(0,1):  # added outer loop for repeat training same data set\n",
    "    howManyTrainingRecords = 0\n",
    "    for record in training_data_list:\n",
    "    # split the values on the commas\n",
    "        all_values = record.split(',') # split datalist on commas - all records.  Is thing going to work? #\n",
    "        inputs = (numpy.asfarray(all_values[1:])/255.0 * 0.99) + 0.01\n",
    "#        inputs = (numpy.asfarray(all_values[1:])/255.0 * 0.99) + 0.01\n",
    "    # print(inputs)          ## activate for debugging otherwise leave disabled\n",
    "    # create target output values -- all 0.01 except for the label of 0.99\n",
    "        targets = numpy.zeros(output_nodes) + 0.01\n",
    "    # all_values[0] is the target for this record\n",
    "        targets[int(all_values[0])] = 0.99\n",
    "        n.train(inputs, targets)\n",
    "        howManyTrainingRecords += 1\n",
    "        pass\n",
    "    howManyTrainingTimes += 1\n",
    "    learning_rate *= 0.9\n",
    "    pass\n",
    "print (\"training records processed   = \",howManyTrainingRecords)\n",
    "print (\"training episodes            = \",howManyTrainingTimes)\n",
    "# load a production file\n",
    "## test_data_file = open(\"mnist_test_10.csv\",'r') #connect the file#\n",
    "test_data_file = open(\"mnist_test.csv\",'r') #connect the file#\n",
    "test_data_list = test_data_file.readlines() #read entire contents of file into object: data_list#\n",
    "test_data_file.close() #disconnect the file#"
   ]
  },
  {
   "cell_type": "markdown",
   "metadata": {},
   "source": [
    "**Runtime above cell ~ 3 minutes on AWS 1GB/1CPU/2GHz virtual machine**\n",
    "\n",
    "## Explain Testing"
   ]
  },
  {
   "cell_type": "code",
   "execution_count": 15,
   "metadata": {},
   "outputs": [
    {
     "name": "stdout",
     "output_type": "stream",
     "text": [
      "production records processed = 10000\n",
      "performance =  0.9472\n"
     ]
    }
   ],
   "source": [
    "# test the neural network\n",
    "scorecard = [] # empty array for keeping score\n",
    "\n",
    "# run through the records in test_data_list\n",
    "howManyTestRecords = 0\n",
    "for record in test_data_list:\n",
    "    # split the values on the commas\n",
    "    all_values = record.split(',') # split datalist on commas - all records #\n",
    "    correct_label = int(all_values[0]) # correct answer is first element of all_values\n",
    "    # scale and shift the inputs\n",
    "    inputs = (numpy.asfarray(all_values[1:])/255.0 * 0.99) + 0.01\n",
    "    # query the neural network\n",
    "    outputs = n.query(inputs)\n",
    "    predict_label = numpy.argmax(outputs)\n",
    "    ##    print \"predict =\",predict_label,correct_label,\"= correct\" # activate for small test sets only!\n",
    "    if (predict_label == correct_label):\n",
    "        scorecard.append(1)\n",
    "    else:\n",
    "        scorecard.append(0)\n",
    "        pass\n",
    "    howManyTestRecords += 1\n",
    "    pass\n",
    "print (\"production records processed =\", howManyTestRecords)\n",
    "## print scorecard   # activate for small test sets only!\n",
    "# calculate performance score, fraction of correct answers\n",
    "scorecard_array = numpy.asfarray(scorecard)\n",
    "print (\"performance = \",scorecard_array.sum()/scorecard_array.size)"
   ]
  },
  {
   "cell_type": "markdown",
   "metadata": {},
   "source": [
    "## Explain using own images\n",
    "\n",
    "How were images obtained?\n",
    "\n",
    "How are they pre-processed to get 28x28 size? (GraphicConverter and linear aggregation) -- This can probably be done in python subsystem (function) this worksheet.\n",
    "\n",
    "Why are the colors and alpha-channel squashed into greyscale?\n",
    "\n",
    "Play with the training episodes - see if can get 90% recognition (9/10) correct.  Examine failed recognition, try to explain why."
   ]
  },
  {
   "cell_type": "code",
   "execution_count": 30,
   "metadata": {},
   "outputs": [
    {
     "data": {
      "image/png": "[encoded data removed]",
      "text/plain": [
       "<Figure size 432x288 with 1 Axes>"
      ]
     },
     "metadata": {
      "needs_background": "light"
     },
     "output_type": "display_data"
    },
    {
     "name": "stdout",
     "output_type": "stream",
     "text": [
      "my number = 0  my network thinks its =  0\n"
     ]
    }
   ],
   "source": [
    "# lets try one of my own pictures\n",
    "# first read and render\n",
    "#img_array = scipy.misc.imread(\"MyZero.png\", flatten = True) Fuckers deprecated this utility!\n",
    "img_array = imageio.imread(\"image_src/MyZero.png\", as_gray = True)\n",
    "img_data = 255.0 - img_array.reshape(784)\n",
    "img_data = ((img_data/255.0)*0.99) + 0.01\n",
    "matplotlib.pyplot.imshow(numpy.asfarray(img_data).reshape((28,28)),cmap = 'Greys') # construct a graphic object #\n",
    "matplotlib.pyplot.show() # show the graphic object to a window #\n",
    "matplotlib.pyplot.close('all')\n",
    "\n",
    "mynumber = n.query(img_data)\n",
    "mylabel = numpy.argmax(mynumber)\n",
    "\n",
    "print (\"my number = 0 \",\"my network thinks its = \",mylabel)"
   ]
  },
  {
   "cell_type": "code",
   "execution_count": 31,
   "metadata": {},
   "outputs": [],
   "source": [
    "m0=img_data.mean()\n",
    "v0=img_data.var()"
   ]
  },
  {
   "cell_type": "code",
   "execution_count": 49,
   "metadata": {},
   "outputs": [
    {
     "data": {
      "image/png": "[encoded data removed]",
      "text/plain": [
       "<Figure size 432x288 with 1 Axes>"
      ]
     },
     "metadata": {
      "needs_background": "light"
     },
     "output_type": "display_data"
    },
    {
     "name": "stdout",
     "output_type": "stream",
     "text": [
      "my number = 1  my network thinks its =  1\n"
     ]
    }
   ],
   "source": [
    "#first read and render\n",
    "img_array = imageio.imread(\"image_src/MyOne.png\", as_gray = True)\n",
    "img_data = 255.0 - img_array.reshape(784)\n",
    "img_data = ((img_data/255.0)*0.99) + 0.01\n",
    "matplotlib.pyplot.imshow(numpy.asfarray(img_data).reshape((28,28)),cmap = 'Greys') # construct a graphic object #\n",
    "matplotlib.pyplot.show() # show the graphic object to a window #\n",
    "matplotlib.pyplot.close('all')\n",
    "\n",
    "mynumber = n.query(img_data)\n",
    "mylabel = numpy.argmax(mynumber)\n",
    "\n",
    "print (\"my number = 1 \",\"my network thinks its = \",mylabel)"
   ]
  },
  {
   "cell_type": "code",
   "execution_count": 50,
   "metadata": {},
   "outputs": [],
   "source": [
    "m1=img_data.mean()\n",
    "v1=img_data.var()"
   ]
  },
  {
   "cell_type": "code",
   "execution_count": 33,
   "metadata": {},
   "outputs": [
    {
     "data": {
      "image/png": "[encoded data removed]",
      "text/plain": [
       "<Figure size 432x288 with 1 Axes>"
      ]
     },
     "metadata": {
      "needs_background": "light"
     },
     "output_type": "display_data"
    },
    {
     "name": "stdout",
     "output_type": "stream",
     "text": [
      "my number = 2  my network thinks its =  2\n"
     ]
    }
   ],
   "source": [
    "#first read and render\n",
    "img_array = imageio.imread(\"image_src/MyTwo.png\", as_gray = True)\n",
    "img_data = 255.0 - img_array.reshape(784)\n",
    "img_data = ((img_data/255.0)*0.99) + 0.01\n",
    "matplotlib.pyplot.imshow(numpy.asfarray(img_data).reshape((28,28)),cmap = 'Greys') # construct a graphic object #\n",
    "matplotlib.pyplot.show() # show the graphic object to a window #\n",
    "matplotlib.pyplot.close('all')\n",
    "\n",
    "mynumber = n.query(img_data)\n",
    "mylabel = numpy.argmax(mynumber)\n",
    "\n",
    "print (\"my number = 2 \",\"my network thinks its = \",mylabel)"
   ]
  },
  {
   "cell_type": "code",
   "execution_count": 34,
   "metadata": {},
   "outputs": [],
   "source": [
    "m2=img_data.mean()\n",
    "v2=img_data.var()"
   ]
  },
  {
   "cell_type": "code",
   "execution_count": 35,
   "metadata": {},
   "outputs": [
    {
     "data": {
      "image/png": "[encoded data removed]",
      "text/plain": [
       "<Figure size 432x288 with 1 Axes>"
      ]
     },
     "metadata": {
      "needs_background": "light"
     },
     "output_type": "display_data"
    },
    {
     "name": "stdout",
     "output_type": "stream",
     "text": [
      "my number = 3  my network thinks its =  3\n"
     ]
    }
   ],
   "source": [
    "#first read and render\n",
    "img_array = imageio.imread(\"image_src/MyThree.png\", as_gray = True)\n",
    "img_data = 255.0 - img_array.reshape(784)\n",
    "img_data = ((img_data/255.0)*0.99) + 0.01\n",
    "matplotlib.pyplot.imshow(numpy.asfarray(img_data).reshape((28,28)),cmap = 'Greys') # construct a graphic object #\n",
    "matplotlib.pyplot.show() # show the graphic object to a window #\n",
    "matplotlib.pyplot.close('all')\n",
    "mynumber = n.query(img_data)\n",
    "mylabel = numpy.argmax(mynumber)\n",
    "\n",
    "print (\"my number = 3 \",\"my network thinks its = \",mylabel)"
   ]
  },
  {
   "cell_type": "code",
   "execution_count": 36,
   "metadata": {},
   "outputs": [],
   "source": [
    "m3=img_data.mean()\n",
    "v3=img_data.var()"
   ]
  },
  {
   "cell_type": "code",
   "execution_count": 37,
   "metadata": {},
   "outputs": [
    {
     "data": {
      "image/png": "[encoded data removed]",
      "text/plain": [
       "<Figure size 432x288 with 1 Axes>"
      ]
     },
     "metadata": {
      "needs_background": "light"
     },
     "output_type": "display_data"
    },
    {
     "name": "stdout",
     "output_type": "stream",
     "text": [
      "my number = 4  my network thinks its =  4\n"
     ]
    }
   ],
   "source": [
    "#first read and render\n",
    "img_array = imageio.imread(\"image_src/MyFour.png\", as_gray = True)\n",
    "img_data = 255.0 - img_array.reshape(784)\n",
    "img_data = ((img_data/255.0)*0.99) + 0.01\n",
    "matplotlib.pyplot.imshow(numpy.asfarray(img_data).reshape((28,28)),cmap = 'Greys') # construct a graphic object #\n",
    "matplotlib.pyplot.show() # show the graphic object to a window #\n",
    "matplotlib.pyplot.close('all')\n",
    "\n",
    "mynumber = n.query(img_data)\n",
    "mylabel = numpy.argmax(mynumber)\n",
    "\n",
    "print (\"my number = 4 \",\"my network thinks its = \",mylabel)"
   ]
  },
  {
   "cell_type": "code",
   "execution_count": 38,
   "metadata": {},
   "outputs": [],
   "source": [
    "m4=img_data.mean()\n",
    "v4=img_data.var()"
   ]
  },
  {
   "cell_type": "code",
   "execution_count": 39,
   "metadata": {},
   "outputs": [
    {
     "data": {
      "image/png": "[encoded data removed]",
      "text/plain": [
       "<Figure size 432x288 with 1 Axes>"
      ]
     },
     "metadata": {
      "needs_background": "light"
     },
     "output_type": "display_data"
    },
    {
     "name": "stdout",
     "output_type": "stream",
     "text": [
      "my number = 5  my network thinks its =  5\n"
     ]
    }
   ],
   "source": [
    "#first read and render\n",
    "img_array = imageio.imread(\"image_src/MyFive.png\", as_gray = True)\n",
    "img_data = 255.0 - img_array.reshape(784)\n",
    "img_data = ((img_data/255.0)*0.99) + 0.01\n",
    "matplotlib.pyplot.imshow(numpy.asfarray(img_data).reshape((28,28)),cmap = 'Greys') # construct a graphic object #\n",
    "matplotlib.pyplot.show() # show the graphic object to a window #\n",
    "matplotlib.pyplot.close('all')\n",
    "\n",
    "mynumber = n.query(img_data)\n",
    "mylabel = numpy.argmax(mynumber)\n",
    "\n",
    "print (\"my number = 5 \",\"my network thinks its = \",mylabel)"
   ]
  },
  {
   "cell_type": "code",
   "execution_count": 40,
   "metadata": {},
   "outputs": [],
   "source": [
    "m5=img_data.mean()\n",
    "v5=img_data.var()"
   ]
  },
  {
   "cell_type": "code",
   "execution_count": 41,
   "metadata": {},
   "outputs": [
    {
     "data": {
      "image/png": "[encoded data removed]",
      "text/plain": [
       "<Figure size 432x288 with 1 Axes>"
      ]
     },
     "metadata": {
      "needs_background": "light"
     },
     "output_type": "display_data"
    },
    {
     "name": "stdout",
     "output_type": "stream",
     "text": [
      "my number = 6  my network thinks its =  5\n"
     ]
    }
   ],
   "source": [
    "#first read and render\n",
    "img_array = imageio.imread(\"image_src/MySix.png\", as_gray = True)\n",
    "img_data = 255.0 - img_array.reshape(784)\n",
    "img_data = ((img_data/255.0)*0.99) + 0.01\n",
    "matplotlib.pyplot.imshow(numpy.asfarray(img_data).reshape((28,28)),cmap = 'Greys') # construct a graphic object #\n",
    "matplotlib.pyplot.show() # show the graphic object to a window #\n",
    "matplotlib.pyplot.close('all')\n",
    "\n",
    "mynumber = n.query(img_data)\n",
    "mylabel = numpy.argmax(mynumber)\n",
    "\n",
    "print (\"my number = 6 \",\"my network thinks its = \",mylabel)\n"
   ]
  },
  {
   "cell_type": "code",
   "execution_count": 42,
   "metadata": {},
   "outputs": [],
   "source": [
    "m6=img_data.mean()\n",
    "v6=img_data.var()"
   ]
  },
  {
   "cell_type": "code",
   "execution_count": 43,
   "metadata": {},
   "outputs": [
    {
     "data": {
      "image/png": "[encoded data removed]",
      "text/plain": [
       "<Figure size 432x288 with 1 Axes>"
      ]
     },
     "metadata": {
      "needs_background": "light"
     },
     "output_type": "display_data"
    },
    {
     "name": "stdout",
     "output_type": "stream",
     "text": [
      "my number = 7  my network thinks its =  7\n"
     ]
    }
   ],
   "source": [
    "#first read and render\n",
    "img_array = imageio.imread(\"image_src/MySeven.png\", as_gray = True)\n",
    "img_data = 255.0 - img_array.reshape(784)\n",
    "img_data = ((img_data/255.0)*0.99) + 0.01\n",
    "matplotlib.pyplot.imshow(numpy.asfarray(img_data).reshape((28,28)),cmap = 'Greys') # construct a graphic object #\n",
    "matplotlib.pyplot.show() # show the graphic object to a window #\n",
    "matplotlib.pyplot.close('all')\n",
    "\n",
    "mynumber = n.query(img_data)\n",
    "mylabel = numpy.argmax(mynumber)\n",
    "\n",
    "print (\"my number = 7 \",\"my network thinks its = \",mylabel)"
   ]
  },
  {
   "cell_type": "code",
   "execution_count": 44,
   "metadata": {},
   "outputs": [],
   "source": [
    "m7=img_data.mean()\n",
    "v7=img_data.var()"
   ]
  },
  {
   "cell_type": "code",
   "execution_count": 45,
   "metadata": {},
   "outputs": [
    {
     "data": {
      "image/png": "[encoded data removed]",
      "text/plain": [
       "<Figure size 432x288 with 1 Axes>"
      ]
     },
     "metadata": {
      "needs_background": "light"
     },
     "output_type": "display_data"
    },
    {
     "name": "stdout",
     "output_type": "stream",
     "text": [
      "my number = 8  my network thinks its =  8\n"
     ]
    }
   ],
   "source": [
    "#first read and render\n",
    "img_array = imageio.imread(\"image_src/MyEight.png\", as_gray = True)\n",
    "img_data = 255.0 - img_array.reshape(784)\n",
    "img_data = ((img_data/255.0)*0.99) + 0.01\n",
    "matplotlib.pyplot.imshow(numpy.asfarray(img_data).reshape((28,28)),cmap = 'Greys') # construct a graphic object #\n",
    "matplotlib.pyplot.show() # show the graphic object to a window #\n",
    "matplotlib.pyplot.close('all')\n",
    "\n",
    "mynumber = n.query(img_data)\n",
    "mylabel = numpy.argmax(mynumber)\n",
    "\n",
    "print (\"my number = 8 \",\"my network thinks its = \",mylabel)"
   ]
  },
  {
   "cell_type": "code",
   "execution_count": 46,
   "metadata": {},
   "outputs": [],
   "source": [
    "m8=img_data.mean()\n",
    "v8=img_data.var()"
   ]
  },
  {
   "cell_type": "code",
   "execution_count": 47,
   "metadata": {},
   "outputs": [
    {
     "data": {
      "image/png": "[encoded data removed]",
      "text/plain": [
       "<Figure size 432x288 with 1 Axes>"
      ]
     },
     "metadata": {
      "needs_background": "light"
     },
     "output_type": "display_data"
    },
    {
     "name": "stdout",
     "output_type": "stream",
     "text": [
      "my number = 9  my network thinks its =  9\n"
     ]
    }
   ],
   "source": [
    "#first read and render\n",
    "img_array = imageio.imread(\"image_src/MyNine.png\", as_gray = True)\n",
    "img_data = 255.0 - img_array.reshape(784)\n",
    "img_data = ((img_data/255.0)*0.99) + 0.01\n",
    "matplotlib.pyplot.imshow(numpy.asfarray(img_data).reshape((28,28)),cmap = 'Greys') # construct a graphic object #\n",
    "matplotlib.pyplot.show() # show the graphic object to a window #\n",
    "matplotlib.pyplot.close('all')\n",
    "\n",
    "mynumber = n.query(img_data)\n",
    "mylabel = numpy.argmax(mynumber)\n",
    "\n",
    "print (\"my number = 9 \",\"my network thinks its = \",mylabel)\n",
    "pass    \n"
   ]
  },
  {
   "cell_type": "code",
   "execution_count": 51,
   "metadata": {},
   "outputs": [
    {
     "name": "stdout",
     "output_type": "stream",
     "text": [
      "my 0 statistics :  0.10840577 0.07128458\n",
      "my 1 statistics :  0.0691415 0.045747854\n",
      "my 2 statistics :  0.10085894 0.06906258\n",
      "my 3 statistics :  0.15961523 0.071290515\n",
      "my 4 statistics :  0.1313567 0.06362193\n",
      "my 5 statistics :  0.11012904 0.07498277\n",
      "my 6 statistics :  0.18414135 0.09940878\n",
      "my 7 statistics :  0.11907936 0.056603365\n",
      "my 8 statistics :  0.12214256 0.08051322\n",
      "my 9 statistics :  0.0691415 0.045747854\n"
     ]
    }
   ],
   "source": [
    "m9=img_data.mean()\n",
    "v9=img_data.var()\n",
    "\n",
    "\n",
    "print(\"my 0 statistics : \",m0,v0)\n",
    "print(\"my 1 statistics : \",m1,v1)\n",
    "print(\"my 2 statistics : \",m2,v2)\n",
    "print(\"my 3 statistics : \",m3,v3)\n",
    "print(\"my 4 statistics : \",m4,v4)\n",
    "print(\"my 5 statistics : \",m5,v5)\n",
    "print(\"my 6 statistics : \",m6,v6)\n",
    "print(\"my 7 statistics : \",m7,v7)\n",
    "print(\"my 8 statistics : \",m8,v8)\n",
    "print(\"my 9 statistics : \",m9,v9)"
   ]
  },
  {
   "cell_type": "markdown",
   "metadata": {},
   "source": [
    "\n",
    "\n",
    "## References\n",
    "http://myselph.de/neuralNet.html\n",
    "\n",
    "LazyProgrammer. Unsupervised Machine Learning in Python: Master Data Science and Machine Learning with Cluster Analysis, Gaussian Mixture Models, and Principal Components Analysis . Kindle Edition. \n",
    "\n",
    "Rashid, Tariq. Make Your Own Neural Network. Kindle Edition. \n",
    "\n",
    "https://www.digitalocean.com/community/tutorials/an-introduction-to-machine-learning"
   ]
  },
  {
   "cell_type": "code",
   "execution_count": null,
   "metadata": {},
   "outputs": [],
   "source": [
    "######## Useful Stuff Below ######################\n",
    "\n",
    "##an_input_list = ([1.0,0.5,-1.5])\n",
    "##print(\"Trying a Query - input list first\")\n",
    "##print(an_input_list)\n",
    "##print(\"Now the response\")\n",
    "##print(n.query(an_input_list))\n",
    "##print(\"Instance works up to pg 138\")\n",
    "\n",
    "### get a single test record\n",
    "##all_values = test_data_list[0].split(',')\n",
    "##print('classification for this test record = ', all_values[0])\n",
    "####image_array = numpy.asfarray(all_values[1:]).reshape((28,28))\n",
    "####matplotlib.pyplot.imshow(image_array) # construct a graphic object #\n",
    "####matplotlib.pyplot.show() # show the graphic object to a window #\n",
    "##print( n.query((numpy.asfarray(all_values[1:])/255.0 * 0.99) + 0.01) )\n",
    "\n",
    "##image_array = numpy.asfarray(scaled_input).reshape((28,28))\n",
    "##matplotlib.pyplot.imshow(image_array) # construct a graphic object #\n",
    "##matplotlib.pyplot.show() # show the graphic object to a window #\n",
    "##matplotlib.pyplot.imshow(image_array, cmap = 'Greys', interpolation = 'nearest' ) # construct a graphic object #\n",
    "##matplotlib.pyplot.show() # show the graphic object to a window #\n",
    "# \n"
   ]
  }
 ],
 "metadata": {
  "kernelspec": {
   "display_name": "Python 38",
   "language": "python",
   "name": "python38"
  },
  "language_info": {
   "codemirror_mode": {
    "name": "ipython",
    "version": 3
   },
   "file_extension": ".py",
   "mimetype": "text/x-python",
   "name": "python",
   "nbconvert_exporter": "python",
   "pygments_lexer": "ipython3",
   "version": "3.8.3"
  }
 },
 "nbformat": 4,
 "nbformat_minor": 4
}
