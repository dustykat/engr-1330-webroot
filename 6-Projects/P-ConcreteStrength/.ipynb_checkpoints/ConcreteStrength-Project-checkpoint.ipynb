{
 "cells": [
  {
   "cell_type": "code",
   "execution_count": 6,
   "metadata": {},
   "outputs": [
    {
     "data": {
      "text/html": [
       "<!--Script block to left align Markdown Tables-->\n",
       "<style>\n",
       "  table {margin-left: 0 !important;}\n",
       "</style>\n"
      ],
      "text/plain": [
       "<IPython.core.display.HTML object>"
      ]
     },
     "metadata": {},
     "output_type": "display_data"
    }
   ],
   "source": [
    "%%html\n",
    "<!--Script block to left align Markdown Tables-->\n",
    "<style>\n",
    "  table {margin-left: 0 !important;}\n",
    "</style>"
   ]
  },
  {
   "cell_type": "markdown",
   "metadata": {},
   "source": [
    "# ENGR 1330 – Computational Thinking and Data Science Fall 2020"
   ]
  },
  {
   "cell_type": "markdown",
   "metadata": {},
   "source": [
    "## Concrete Strength Predictor Final Project - Background\n",
    "\n",
    "The Compressive Strength of Concrete determines the quality of Concrete. \n",
    "The strength is determined by a standard crushing test on a concrete cylinder, that requires engineers to build small concrete cylinders with different combinations of raw materials and test these cylinders for strength variations with a change in each raw material. \n",
    "The recommended wait time for testing the cylinder is 28 days to ensure correct results, although there are formulas for making estimates from shorter cure times.\n",
    "The formal 28-day approach consumes a lot of time and labor to prepare different prototypes and test them; the method itself is error prone and mistakes can cause the wait time to drastically increase.\n",
    "\n",
    "One way of reducing the wait time and reducing the number of combinations to try is to make use of digital simulations, where we can provide information to the computer about what we know and the computer tries different combinations to predict the compressive strength.\n",
    "This approach can reduce the number of combinations we can try physically and reduce the total amount of time for experimentation. \n",
    "But, to design such software we have to know the relations between all the raw materials and how one material affects the strength. \n",
    "It is possible to derive mathematical equations and run simulations based on these equations, but we cannot expect the relations to be same in real-world. \n",
    "Also, these tests have been performed for many numbers of times now and we have enough real-world data that can be used for predictive modelling.\n",
    "\n",
    "\n",
    "## Objective(s):\n",
    "- Literature scan on concrete design, and utility of a predictive approach\n",
    "- Analyse an existing concrete compressive strength database and build a data model to predict the compressive strength of a concrete mixture.\n",
    "- Build an interface to allow users to enter concrete mixtures and return an estimated strength and an assessment of the uncertainty in the estimate\n",
    "- Build an interface to allow users to add observations to the underlying database, and automatically update the Data Model to incorporate the new observations"
   ]
  },
  {
   "cell_type": "markdown",
   "metadata": {},
   "source": [
    "## Tasks: \n",
    "\n",
    "**Literature Research:**\n",
    "- Describe the challenge of concrete mixture design and the importance of compressive strength.\n",
    "- Summarize the value of a data model in the context of the conventional approach to strength prediction\n",
    "\n",
    "Some places to start are:\n",
    "- I-Cheng Yeh, “ Modeling of strength of high performance concrete using artificial neural networks,” Cement and Concrete Research, Vol. 28, №12, pp. 1797–1808 (1998). https://archive.ics.uci.edu/ml/datasets/Concrete+Compressive+Strength\n",
    "\n",
    "- Laskar, Aminul Islam. (2011). Mix design of high-performance concrete. Materials Research, 14(4), 429-433. Epub November 21, 2011.https://doi.org/10.1590/S1516-14392011005000088 or http://54.243.252.9/engr-1330-psuedo-course/CECE-1330-PsuedoCourse/6-Projects/P-ConcreteStrength/Mix_Design_of_High-performance_Concrete.pdf\n",
    "\n",
    "-  Ahsanul Kabir, Md Monjurul Hasan, Khasro Miah, “ Strength Prediction Model for Concrete”, ACEE Int. J. on Civil and Environmental Engineering, Vol. 2, №1, Aug 2013.\n",
    "\n",
    "- https://towardsdatascience.com/concrete-compressive-strength-prediction-using-machine-learning-4a531b3c43f3\n",
    "\n",
    "- Castro, A.L. & Liborio, J.B.L. & Valenzuela, Federico & Pandolfelli, Victor. (2008). The application of rheological concepts on the evaluation of high-performance concrete workability. American Concrete Institute, ACI Special Publication. 119-131.  copy at: http://54.243.252.9/engr-1330-psuedo-course/CECE-1330-PsuedoCourse/6-Projects/P-ConcreteStrength/ArtigoHPC026_CASTROetalfinal.pdf\n",
    "\n",
    "- de Larrard, François & Sedran, Thierry. (2002). Mixture-proportioning of high-performance concrete. Cement and Concrete Research. 32. 1699-1704. 10.1016/S0008-8846(02)00861-X. copy at: http://54.243.252.9/engr-1330-psuedo-course/CECE-1330-PsuedoCourse/6-Projects/P-ConcreteStrength/Mixture-ProportioningCCR-deLarrardSedran-full.pdf\n",
    "\n",
    "**Database Acquisition**\n",
    "- Get the database from the repository: https://archive.ics.uci.edu/ml/machine-learning-databases/concrete/compressive/Concrete_Data.xls\n",
    "- Supply links to any additional databases discovered during the literature research\n",
    "- A copy of the database is located at: http://54.243.252.9/engr-1330-psuedo-course/CECE-1330-PsuedoCourse/6-Projects/P-ConcreteStrength/concreteData.xls If you cannot access the original database you can use this copy\n",
    "\n",
    "**Exploratory Data Analysis**\n",
    "- Describe (in words) the database.\n",
    "- Reformat as needed (column headings perhaps) the database for subsequent analysis.\n",
    "- Select possible data model structures (multi-feature linear model, power-law, ...)\n",
    "- Select possible data model \"fitting\" tools (ordinary least squares,lasso regression, decision trees, random forests, ...)\n",
    "\n",
    "**Model Building**\n",
    "- Build data models\n",
    "- Assess data model quality (decide which model is best) \n",
    "- Build the input data interface for using the \"best\" model\n",
    "- Using your best model determine projected concrete strength for 5 possible mixtures in the table below:\n",
    "\n",
    "|Cement|BlastFurnaceSlag|FlyAsh |CoarseAggregate|FineAggregate|Water|Superplasticizer|Age|\n",
    "|:---|:---|:---|:---|:---|:---|:---|:---|\n",
    "|175.0|13.0|172.0|1000.0|856.0|156.0|4.0|3.0|\n",
    "|320.0|0.0|0.0|970.0|850.0|192.0|0.0|7.0|\n",
    "|320.0|0.0|126.0|860.0|856.0|209.0|5.70|28.0|\n",
    "|320.0|73.0|54.0|972.0|773.0|181.0|6.0|45.0|     \n",
    "|530.0|359.0|200.0|1145.0|992.0|247.0|32.0|365.0|                \n",
    "       \n",
    "**Documentation**\n",
    "- Training video on how to use your tool, and demonstrate the tool(s) as they are run\n",
    "- Project management video \n",
    "- Interim report (see deliverables below); this document must be rendered as a .pdf, but you are free to use your favorite writing software (Word,LibreOffice, ...).\n",
    "- Final Report (see deliverables below)"
   ]
  },
  {
   "cell_type": "code",
   "execution_count": null,
   "metadata": {},
   "outputs": [],
   "source": [
    "strength = b0+b1*BlastSlag+b2*FlyAsh+b3*Coarse+ ....\n",
    "log(strength) = log(b0+b1*BlastSlag+b2*FlyAsh+b3*Coarse+ ....)\n",
    "strength = b0*(Blast**e1* Fly**e2* Doarse**e3...)"
   ]
  },
  {
   "cell_type": "markdown",
   "metadata": {},
   "source": [
    "## Deliverables:\n",
    "\n",
    "#### Part 1 (due November 24):\n",
    "A report that briefly describes the concrete strength database and how you plan to solve the tasks of creating a suitable data model.  \n",
    "- Break down each task into manageable subtasks and describe how you intend to solve the subtasks and how you will test each task. (Perhaps make a simple Gantt Chart)\n",
    "- Address the responsibilities of each team member for tasks completed and tasks to be completed until the end of the semester. (Perhaps make explicit subtask assignments)\n",
    "\n",
    "Your report should be limited to 4 pages, 12 pt font size, double linespacing (exclusive of references which are NOT included in the page count).  You need to cite/reference all sources you used.  \n",
    "\n",
    "#### Part 2 (due on Final Exam day):\n",
    "- A well-documented JupyterLab (using a python kernel) analysis and implementation for the data model.\n",
    "- A well-documented JupyterLab (using a python kernel) implementation for the data model user interface.\n",
    "- A well-documented JupyterLab (using a python kernel) implementation for the database update interface.\n",
    "\n",
    "**Above items can reside in a single notebook; but clearly identify sections that perform different tasks.**\n",
    "\n",
    "- A how-to video demonstrating performance and description of problems that you were not able to solve.\n",
    "- A project management video (up to 5 minutes) in which you explain how you completed the project and how you worked as a team.\n",
    "\n",
    "**Above items can reside in a single video; but structure the video into the two parts; use an obvious transition when moving from \"how to ...\" into the project management portion.**  Keep the total video length to less than 10 minutes; submit as an *unlisted* YouTube video, and just supply the link (someone on each team is likely to have a YouTube creator account).  Keep in mind a 10 minute video can approach 100MB file size before compression, so it won't upload to Blackboard and cannot be emailed."
   ]
  },
  {
   "cell_type": "code",
   "execution_count": null,
   "metadata": {},
   "outputs": [],
   "source": []
  }
 ],
 "metadata": {
  "kernelspec": {
   "display_name": "Python 3",
   "language": "python",
   "name": "python3"
  },
  "language_info": {
   "codemirror_mode": {
    "name": "ipython",
    "version": 3
   },
   "file_extension": ".py",
   "mimetype": "text/x-python",
   "name": "python",
   "nbconvert_exporter": "python",
   "pygments_lexer": "ipython3",
   "version": "3.8.5"
  }
 },
 "nbformat": 4,
 "nbformat_minor": 4
}
