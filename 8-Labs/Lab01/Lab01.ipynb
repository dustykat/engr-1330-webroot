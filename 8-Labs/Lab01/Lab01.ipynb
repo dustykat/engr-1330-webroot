{
 "cells": [
  {
   "cell_type": "markdown",
   "metadata": {},
   "source": [
    "**Download** (right-click, save target as ...) this page as a jupyterlab notebook from:\n",
    "\n",
    "[Laboratory 1](http://54.243.252.9/engr-1330-webroot/8-Labs/Lab01/Lab01.ipynb)\n",
    "\n",
    "___\n"
   ]
  },
  {
   "cell_type": "markdown",
   "metadata": {},
   "source": [
    "# <font color=darkblue>Laboratory 1: Self-Study \"Programming Principles\" </font>\n",
    "\n",
    "**LAST NAME, FIRST NAME**\n",
    "\n",
    "**R00000000**\n",
    "\n",
    "ENGR 1330 Laboratory 1 - Homework\n",
    "\n",
    "\n",
    "### Purpose : \n",
    "Demonstrate self-training using on-line tools\n",
    " \n",
    "### Assessment Criteria : \n",
    "Completion certificate issued by the training vendor.  \n",
    "\n",
    "___"
   ]
  },
  {
   "cell_type": "markdown",
   "metadata": {},
   "source": [
    "## Exercise 1\n",
    "\n",
    "Complete the on-line training course [Introduction to Programming](https://www.kaggle.com/learn/intro-to-programming?utm_medium=email&utm_source=gamma&utm_campaign=intro-programming-announcement).  \n",
    "Submit the completion certificate issued by the on-line vendor showing success\n",
    "\n",
    "> The vendor claims the course is free, if you hit a paywall stop - screen capture the paywall and submit that screen capture <br>\n",
    "> The vendor estimates total time to complete is 5 hours, so plan your effort accordingly <br>\n",
    "> The certificate is worth up to 2.5% of the course grade\n",
    "\n",
    "---"
   ]
  }
 ],
 "metadata": {
  "kernelspec": {
   "display_name": "Python 3",
   "language": "python",
   "name": "python3"
  },
  "language_info": {
   "codemirror_mode": {
    "name": "ipython",
    "version": 3
   },
   "file_extension": ".py",
   "mimetype": "text/x-python",
   "name": "python",
   "nbconvert_exporter": "python",
   "pygments_lexer": "ipython3",
   "version": "3.8.10"
  }
 },
 "nbformat": 4,
 "nbformat_minor": 4
}
