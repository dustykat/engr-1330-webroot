{
 "cells": [
  {
   "cell_type": "markdown",
   "metadata": {},
   "source": [
    "**Download** (right-click, save target as ...) this page as a jupyterlab notebook from:\n",
    "\n",
    "[Laboratory 1-HW](http://54.243.252.9/engr-1330-webroot/8-Labs/Lab01/Lab01-TH.ipynb)\n",
    "\n",
    "___\n"
   ]
  },
  {
   "cell_type": "markdown",
   "metadata": {},
   "source": [
    "# <font color=darkblue>Laboratory 1: A Notebook Like No Other!</font>\n",
    "\n",
    "**LAST NAME, FIRST NAME**\n",
    "\n",
    "**R00000000**\n",
    "\n",
    "ENGR 1330 Laboratory 1 - Homework\n"
   ]
  },
  {
   "cell_type": "markdown",
   "metadata": {},
   "source": [
    "___\n",
    "## Exercise1: Playing with a Markdown cell  <br>\n",
    "\n",
    "### Use the empty Markdown cell below, set it up so that it meets all the mentioned requirements:\n",
    "\n",
    "\"O Captain! my Captain! our fearful trip is done,\n",
    "The ship has weather’d every rack, the prize we sought is won,\n",
    "The port is near, the bells I hear, the people all exulting,\n",
    "While follow eyes the steady keel, the vessel grim and daring;\"\n",
    "<br> <font color=red>[Have this verse in blue and italic]</font><br>\n",
    "\n",
    "But O heart! heart! heart!\n",
    "O the bleeding drops of red,\n",
    "Where on the deck my Captain lies,\n",
    "Fallen cold and dead.\n",
    "<br> <font color=red>[Have this verse as indented quoting]</font><br>\n",
    "\n",
    "\n",
    "O Captain! my Captain! rise up and hear the bells;\n",
    "Rise up—for you the flag is flung—for you the bugle trills,\n",
    "For you bouquets and ribbon’d wreaths—for you the shores a-crowding,\n",
    "For you they call, the swaying mass, their eager faces turning;\n",
    "<br> <font color=red>[Have this verse in pink and bold]</font><br>\n",
    "\n",
    "Here Captain! dear father!\n",
    "This arm beneath your head!\n",
    "It is some dream that on the deck,\n",
    "You’ve fallen cold and dead.\n",
    "<br> <font color=red>[Have this verse as indented quoting]</font><br>\n",
    "\n",
    "My Captain does not answer, his lips are pale and still,\n",
    "My father does not feel my arm, he has no pulse nor will,\n",
    "The ship is anchor’d safe and sound, its voyage closed and done,\n",
    "From fearful trip the victor ship comes in with object won;\n",
    "<br> <font color=red>[Have this verse in orange, italic and bold]</font><br>\n",
    "\n",
    "Exult O shores, and ring O bells!\n",
    "But I with mournful tread,\n",
    "Walk the deck my Captain lies,\n",
    "Fallen cold and dead.\"\n",
    "<br> <font color=red>[Have this verse as indented quoting]</font><br>\n",
    "\n",
    "\n",
    "<br> <font color=red>[Attach an image of WALT WHITMAN from an online resource here.]</font><br>\n",
    "\n"
   ]
  },
  {
   "cell_type": "markdown",
   "metadata": {},
   "source": []
  }
 ],
 "metadata": {
  "kernelspec": {
   "display_name": "Python 3",
   "language": "python",
   "name": "python3"
  },
  "language_info": {
   "codemirror_mode": {
    "name": "ipython",
    "version": 3
   },
   "file_extension": ".py",
   "mimetype": "text/x-python",
   "name": "python",
   "nbconvert_exporter": "python",
   "pygments_lexer": "ipython3",
   "version": "3.8.10"
  }
 },
 "nbformat": 4,
 "nbformat_minor": 4
}
