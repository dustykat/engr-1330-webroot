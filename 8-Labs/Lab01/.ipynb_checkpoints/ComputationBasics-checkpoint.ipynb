{
 "cells": [
  {
   "cell_type": "markdown",
   "metadata": {},
   "source": [
    "\n",
    "## Basics of Computation in Python\n"
   ]
  },
  {
   "cell_type": "markdown",
   "metadata": {},
   "source": [
    "### Python\n",
    "- Programming language\n",
    "- High-level\n",
    "- Interpreted\n",
    "- Data science and machine learning"
   ]
  },
  {
   "cell_type": "markdown",
   "metadata": {},
   "source": [
    "### Expressions\n",
    "- The Python interpreter can evaluate an expression\n",
    "- An expression alone doesn’t do anything\n",
    " - `3 + 2`\n",
    " - `8 + 2 * 3`\n",
    "- An expression alone is not a line of code (instruction)\n",
    " - Useful for testing\n",
    " - Bad for maintainability\n",
    "\n"
   ]
  },
  {
   "cell_type": "code",
   "execution_count": null,
   "metadata": {},
   "outputs": [],
   "source": [
    "# Did you know? The command for commenting a block of code in Jupyter notebook is CTRL-/\n",
    "# Highlight some lines of code and type CTRL-/ to comment or uncomment them all\n",
    "\n",
    "# Try some expressions\n",
    "3 + 2\n",
    "# 3 + 2 * 8\n",
    "# 8 - 4\n"
   ]
  },
  {
   "cell_type": "markdown",
   "metadata": {},
   "source": [
    "### Arithmetic Operators\n",
    "- Python’s basic arithmetic operators:\n",
    "\n",
    "\n",
    "| Operator | Meaning | Example |\n",
    "|----------|---------|---------|\n",
    "|`+`|add|`3+2`|\n",
    "|`-`|subtract|`5-2`|\n",
    "|`*`|multiply|`6*2`|\n",
    "|`\\`|divide|`8/2`|\n",
    "|`**`|raise to the power|`2**3`|\n",
    "|`%`|modulus (remainder)|`7%3`|\n",
    "|`//`|floor division (integer division)|`7//3`|\n",
    "\n",
    "\n",
    "- The order of precedence among the arithmetic operators is:\n",
    " - First: expressions in parentheses\n",
    " - Second: exponentiation\n",
    " - Third: multiplication and division operators\n",
    " - Last: addition and subtraction operators"
   ]
  },
  {
   "cell_type": "code",
   "execution_count": null,
   "metadata": {},
   "outputs": [],
   "source": [
    "# Try some arithmetic operators\n",
    "# Notice how Python only outputs the value of the expression on the last line\n",
    "\n",
    "2 + 3 * (8 + 2**3)\n",
    "8%3\n"
   ]
  },
  {
   "cell_type": "markdown",
   "metadata": {},
   "source": [
    "### Comparison and Logical Operators\n",
    "- Evaluate to a Boolean value\n",
    "- Comparison operators\n",
    "\n",
    "| Operator | Meaning | Example |\n",
    "|----------|---------|---------|\n",
    "|`<`|add|`3 < 2`|\n",
    "|`>`|greater than|`3 > 2`|\n",
    "|`<=`|less than or equal to|`3 <= 3`|\n",
    "|`>=`|greater than or equal to|`5 >= 3`|\n",
    "|`==`|equal to|`4 == 2`|\n",
    "|`%`|not equal to|`4 != 2`|\n",
    "\n",
    "- Logical operators\n",
    "\n",
    "| Operator | Meaning | Example |\n",
    "|----------|---------|---------|\n",
    "|`and`|True if both operands are True|`3 > 2 and 4 != 2`|\n",
    "|`or`|True if at least one operand is True|`3 < 2 and 4 != 2`|\n",
    "|`not`|True if the operand is False|`not 4 == 3`|\n"
   ]
  },
  {
   "cell_type": "code",
   "execution_count": null,
   "metadata": {},
   "outputs": [],
   "source": [
    "# Try some logical operators\n",
    "3 < 2 and 4 != 2"
   ]
  },
  {
   "cell_type": "markdown",
   "metadata": {},
   "source": [
    "### Python Data Types\n",
    "- Every piece of data has a type\n",
    "- Basic Data Types\n",
    "| Name | Type | Example |\n",
    "|------|------|---------|\n",
    "|`int`|integer|`-27`|\n",
    "|`float`|floating point (decimal)|`27.1`|\n",
    "|`bool`|Boolean|`True`|\n",
    "|`str`|character string|`\"hello\"`|\n",
    "\n",
    "- There are many more built-in data types\n",
    "- Programmers can define their own custom data types\n"
   ]
  },
  {
   "cell_type": "markdown",
   "metadata": {},
   "source": [
    "### Variables\n",
    "- A variable is a name for a memory area where data is stored\n",
    " - it allows data values to *change* rather than remain *constant*\n",
    "- Defined by initial assignment to a value\n",
    "- Variable names\n",
    " - should be meaningful, for readability\n",
    " - can contain letters, digits and underscore character\n",
    " - may not start with a digit\n",
    " - may not be a Python *reserved word*\n",
    "- The same variable can refer to values of any data type"
   ]
  },
  {
   "cell_type": "markdown",
   "metadata": {},
   "source": [
    "### Assignment Operators\n",
    "- Assigns a value to a variable\n",
    " - Example: `val = 4`\n",
    " - Read it as: set `val` to `4`\n",
    " - Interpret it as: Put `4` into the memory area that `val` refers to\n",
    "- Operators\n",
    " - Simple assignment\n",
    "   \n",
    "   `size = 17.5`\n",
    " - The assignment expression evaluates to the assigned value\n",
    "   \n",
    "   `size := 17.5`\n",
    " - Shorthand (`+=`, `-=`, `*=`, etc.)\n",
    "   \n",
    "   `size += 2` is shorthand for `size = size + 2`"
   ]
  },
  {
   "cell_type": "code",
   "execution_count": null,
   "metadata": {},
   "outputs": [],
   "source": [
    "# Demonstrate some assignment operations\n",
    "width = 4\n",
    "#length := width\n",
    "#length += 2\n",
    "# area = length * width"
   ]
  },
  {
   "cell_type": "markdown",
   "metadata": {},
   "source": [
    "### Data Type Conversions\n",
    "- A variable can refer to values of different types\n",
    "- Check the data type of a variable's value: `type(length)`\n",
    "- Convert a value to a different type (if legal)\n",
    "\n",
    "`val = 4\n",
    "fval = float(val)\n",
    "sval = str(fval)`\n",
    "- Note: a conversion function does not change the data type of the input parameter"
   ]
  },
  {
   "cell_type": "code",
   "execution_count": null,
   "metadata": {},
   "outputs": [],
   "source": [
    "# Try conversions\n",
    "val = 4\n",
    "type(val)\n",
    "# fval = float(val)\n",
    "# type(fval)\n",
    "# type(val)\n",
    "\n",
    "# bval = bool(val) # what does this mean? what number is False?\n",
    "# bval\n",
    "\n",
    "# sval = str(fval)\n",
    "# type(sval)\n",
    "# sval\n",
    "\n",
    "# sval = \"hello\"\n",
    "# int(sval)\n"
   ]
  },
  {
   "cell_type": "markdown",
   "metadata": {},
   "source": [
    "### Input and Output\n",
    "- *Useful* programs take inoput and generate output\n",
    " - Command-line interface\n",
    " - Graphical user interface (GUI)\n",
    " - Files\n",
    " - Network sources\n",
    " - Databases"
   ]
  },
  {
   "cell_type": "markdown",
   "metadata": {},
   "source": [
    "### Command-line input\n",
    "- Function `input(prompt)`\n",
    " - prints the *optional* prompt on the command line\n",
    " - waits for the user to type something\n",
    " - the text is sent to the program only after the user types enter/return\n",
    " - the entered data is always interpreted as text, *even if it's numeric*"
   ]
  },
  {
   "cell_type": "code",
   "execution_count": null,
   "metadata": {},
   "outputs": [],
   "source": [
    "# Try getting some input\n",
    "value = input( \"Please enter a value: \")\n",
    "value\n",
    "\n",
    "# type(value)\n",
    "\n",
    "# input()"
   ]
  },
  {
   "cell_type": "markdown",
   "metadata": {},
   "source": [
    "### Command-line output\n",
    "- Function `print()`\n",
    " - prints the value(s) passed to it\n",
    " - automatically converts data values to strings\n",
    " - goes to the next line by default\n",
    " - separates values with space by default\n",
    " - optional arguments can set different separator and end of line values\n",
    "- Format output using string formatting functions"
   ]
  },
  {
   "cell_type": "markdown",
   "metadata": {},
   "source": [
    "# Examples of output\n",
    "\n",
    "print( \"Here is a message.\" )\n",
    "print( \"Here is a value:\", val )  # where did val come from?\n",
    "print( \"Don't go to next line.\", end = ' ' )\n",
    "print(\"more text\")\n",
    "print(\"more text\")\n"
   ]
  },
  {
   "cell_type": "markdown",
   "metadata": {},
   "source": [
    "### Strings\n",
    "- A string is a complex data type\n",
    " - a *sequence* of characters that is *immutable*\n",
    " - individual characters are identified using indexing syntax: `s[position]`\n",
    " ![string indexing](string.png)   \n",
    " - the general `len()` function returns the length of a string\n",
    "    "
   ]
  },
  {
   "cell_type": "code",
   "execution_count": null,
   "metadata": {},
   "outputs": [],
   "source": [
    "# Experiment with indexing syntax\n",
    "s = \"birds\"\n",
    "print(s[3])\n",
    "print(s[-1])\n",
    "print(len(s))\n",
    "type(s[3])"
   ]
  },
  {
   "cell_type": "markdown",
   "metadata": {},
   "source": [
    "### String Operators\n",
    "- `+`\n",
    " - concatenate strings\n",
    "- `==` `!=`\n",
    " - test the equality of strings\n",
    "- `<` `<=` `>` `>=`\n",
    " - compare strings alphabetically"
   ]
  },
  {
   "cell_type": "code",
   "execution_count": null,
   "metadata": {},
   "outputs": [],
   "source": [
    "# String operators\n",
    "s1 = \"cat\"\n",
    "s2 = \"dog\"\n",
    "s3 = \"cat\"\n",
    "print(s1 + s2)\n",
    "print(s1 == s3)\n",
    "print(s2 < s1)\n",
    "print(\"Dog\" < \"cat\")"
   ]
  },
  {
   "cell_type": "markdown",
   "metadata": {},
   "source": [
    "### Special and unprintable characters\n",
    "- Represented with *escape* sequences\n",
    " - preceded by backslash `\\`\n",
    "- Common special characters\n",
    "|Character|Escape Sequence|\n",
    "|---------|---------------|\n",
    "|newline|`\\n`|\n",
    "|tab|`\\t`|\n",
    "|backslash|`\\\\`|\n",
    "|quotes|`\\'` `\\\"`|"
   ]
  },
  {
   "cell_type": "code",
   "execution_count": null,
   "metadata": {},
   "outputs": [],
   "source": [
    "# Escape sequences\n",
    "print(\"hello\\n\")\n",
    "print(\"1\\t2\")\n",
    "print(\"\\xEA\")"
   ]
  },
  {
   "cell_type": "markdown",
   "metadata": {},
   "source": [
    "### String slicing\n",
    "- expanded indexing\n",
    "- a slice of a string is a new string, composed of characters from the initial string\n",
    "|Syntax|Result|\n",
    "|------|------|\n",
    "|`s[start]`|a single character|\n",
    "|`s[start:end]`|a substring|\n",
    "|`s[start:end:step]`|a selection of characters|\n",
    "- the end position is not inclusive (up to but not including *end*)\n",
    "- the step can be positive or negative \n",
    " - a negative step proceeds backwards through the string\n",
    " \n",
    "### Empty and default values in slicing\n",
    "- the default step is `1`\n",
    "- the default end is `start+1`\n",
    "- an empty value for end means the end of the string (in the *step* direction)\n",
    "- an empty value for start means the start of the string (in the *step* direction)"
   ]
  },
  {
   "cell_type": "code",
   "execution_count": null,
   "metadata": {},
   "outputs": [],
   "source": [
    "# What will this do?\n",
    "# s[-1::-1]"
   ]
  },
  {
   "cell_type": "markdown",
   "metadata": {},
   "source": [
    "### String functions\n",
    "|Name|Behavior|\n",
    "|----|--------|\n",
    "|s.split()|Split a string into pieces based on a delimiter|\n",
    "|s.strip()|Remove leading/trailing whitespace or other characters|\n",
    "|s.upper()|Convert a string to uppercase|\n",
    "|s.lower()|Convert a string to lowercase|\n",
    "|s.isnumeric()|Return True if a string is numeric|\n",
    "|s.find()|Return the index of a substring|\n",
    "|s.replace()|Replace one substring with another|\n",
    "|*Many, many, more ...*|Look them up as needed|"
   ]
  },
  {
   "cell_type": "code",
   "execution_count": null,
   "metadata": {},
   "outputs": [],
   "source": [
    "# some string functions\n",
    "s = \"hello\"\n",
    "print(s.upper())\n",
    "print(s)\n",
    "str = s.upper()\n",
    "print(str)\n",
    "str = \"I am a string.\"\n",
    "print(str.replace(\"am\", \"am not\"))\n",
    "\"222\".isnumeric()"
   ]
  },
  {
   "cell_type": "code",
   "execution_count": 46,
   "metadata": {},
   "outputs": [
    {
     "name": "stdout",
     "output_type": "stream",
     "text": [
      "o\n",
      ".\n",
      "Fox\n",
      "Fox. Sox. Box. Knox. Knox in box. Fox in sox.\n",
      "FSB\n"
     ]
    }
   ],
   "source": [
    "s = \"Fox. Socks. Box. Knox. Knox in box. Fox in socks.\"\n",
    "print(s[1])\n",
    "print(s[-1])\n",
    "print(s[:3])\n",
    "print(s.replace(\"ocks\", \"ox\"))\n",
    "print(s[0] + s[5] + s[12])"
   ]
  },
  {
   "cell_type": "code",
   "execution_count": null,
   "metadata": {},
   "outputs": [],
   "source": []
  }
 ],
 "metadata": {
  "kernelspec": {
   "display_name": "Python 3",
   "language": "python",
   "name": "python3"
  },
  "language_info": {
   "codemirror_mode": {
    "name": "ipython",
    "version": 3
   },
   "file_extension": ".py",
   "mimetype": "text/x-python",
   "name": "python",
   "nbconvert_exporter": "python",
   "pygments_lexer": "ipython3",
   "version": "3.8.5"
  }
 },
 "nbformat": 4,
 "nbformat_minor": 4
}
