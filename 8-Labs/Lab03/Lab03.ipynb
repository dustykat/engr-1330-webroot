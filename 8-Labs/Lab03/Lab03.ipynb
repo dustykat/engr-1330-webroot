{
 "cells": [
  {
   "cell_type": "markdown",
   "metadata": {},
   "source": [
    "**Download** (right-click, save target as ...) this page as a jupyterlab notebook from:\n",
    "\n",
    "[Laboratory 3](http://54.243.252.9/engr-1330-webroot/8-Labs/Lab03/Lab03.ipynb)\n",
    "\n",
    "___"
   ]
  },
  {
   "cell_type": "markdown",
   "metadata": {},
   "source": [
    "# <font color=darkblue>Laboratory 3: Expressions  </font>\n",
    "\n",
    "**LAST NAME, FIRST NAME**\n",
    "\n",
    "**R00000000**\n",
    "\n",
    "ENGR 1330 Laboratory 3 - In-Lab\n",
    "\n"
   ]
  },
  {
   "cell_type": "code",
   "execution_count": 3,
   "metadata": {},
   "outputs": [
    {
     "name": "stdout",
     "output_type": "stream",
     "text": [
      "atomickitty\n",
      "sensei\n",
      "/opt/jupyterhub/bin/python3\n",
      "3.8.10 (default, Jun  2 2021, 10:49:15) \n",
      "[GCC 9.4.0]\n",
      "sys.version_info(major=3, minor=8, micro=10, releaselevel='final', serial=0)\n"
     ]
    }
   ],
   "source": [
    "# Preamble script block to identify host, user, and kernel\n",
    "import sys\n",
    "! hostname\n",
    "! whoami\n",
    "print(sys.executable)\n",
    "print(sys.version)\n",
    "print(sys.version_info)"
   ]
  },
  {
   "cell_type": "markdown",
   "metadata": {},
   "source": [
    "Example 1: Calculate the sum of two numbers\n",
    "\n",
    "Given two integer numbers return their sum."
   ]
  },
  {
   "cell_type": "code",
   "execution_count": 3,
   "metadata": {},
   "outputs": [
    {
     "name": "stdout",
     "output_type": "stream",
     "text": [
      "23\n"
     ]
    }
   ],
   "source": [
    "number1 = 11\n",
    "number2 = 12\n",
    "result = number1+number2\n",
    "print(result)"
   ]
  },
  {
   "cell_type": "markdown",
   "metadata": {},
   "source": [
    "Example 2: Calculate the product of two numbers\n",
    "\n",
    "Given two integer numbers return their product."
   ]
  },
  {
   "cell_type": "code",
   "execution_count": null,
   "metadata": {},
   "outputs": [],
   "source": [
    "number1 = 11\n",
    "number2 = 12\n",
    "result = number1*number2\n",
    "print(result)"
   ]
  },
  {
   "cell_type": "markdown",
   "metadata": {},
   "source": [
    "Exercise 1: Given two integer numbers return their product only if the product is greater than 1000, else return their sum.\n",
    "\n",
    "- Apply the principles of problem solving in the lesson (the yield stress example).\n",
    "- Using the same approach link the two examples above to complete the exercise\n",
    "- Use the following inputs\n",
    "- Case 1: `number1 = 20` and `number2 = 30`\n",
    "- Case 2: `number1 = 40` and `number2 = 30`"
   ]
  },
  {
   "cell_type": "code",
   "execution_count": 4,
   "metadata": {},
   "outputs": [],
   "source": [
    "# put your Case 1 code here"
   ]
  },
  {
   "cell_type": "code",
   "execution_count": 5,
   "metadata": {},
   "outputs": [],
   "source": [
    "# put your Case 2 code here"
   ]
  },
  {
   "cell_type": "markdown",
   "metadata": {},
   "source": [
    "Exercise 2: Write a program to check if the given number is a palindrome number. A palindrome number is a number that is same after reverse. For example 545, is a palindrome number."
   ]
  },
  {
   "cell_type": "code",
   "execution_count": null,
   "metadata": {},
   "outputs": [],
   "source": [
    "# put your Case 1 code here"
   ]
  },
  {
   "cell_type": "code",
   "execution_count": null,
   "metadata": {},
   "outputs": [],
   "source": [
    "# put your Case 2 code here"
   ]
  },
  {
   "cell_type": "markdown",
   "metadata": {},
   "source": [
    "___\n",
    "## Readings\n",
    "\n",
    "\n",
    "*Here are some great reads on this topic:*\n",
    "- __\"Expressions and Statements in Python\"__ by __Md.Imran__ available at *https://codepict.com/expressions-and-statements-in-python/* <br>\n",
    "- __\"Conditional Statements in Python\"__ by __John Sturtz__ available at *https://realpython.com/python-conditional-statements/ <br>\n",
    "- __\"Python If Statement explained with examples\"__ by __CHAITANYA SINGH__ available at *https://beginnersbook.com/2018/01/python-if-statement-example/ <br>\n",
    "\n",
    "*Here are some great videos on these topics:* \n",
    "- __\"Python Expressions\"__ *https://www.youtube.com/watch?v=hecHkaSt4iY* <br>\n",
    "- __\"How to Use If Else Statements in Python (Python Tutorial #2)\"__ by __CS Dojo__ available at *https://www.youtube.com/watch?v=AWek49wXGzI <br>\n",
    "- __\"Python If Statements | Python Tutorial #10\"__ by __Amigoscode__ available at *https://www.youtube.com/watch?v=wKQRmXR3jhc <br>"
   ]
  },
  {
   "cell_type": "markdown",
   "metadata": {},
   "source": []
  }
 ],
 "metadata": {
  "kernelspec": {
   "display_name": "Python 3",
   "language": "python",
   "name": "python3"
  },
  "language_info": {
   "codemirror_mode": {
    "name": "ipython",
    "version": 3
   },
   "file_extension": ".py",
   "mimetype": "text/x-python",
   "name": "python",
   "nbconvert_exporter": "python",
   "pygments_lexer": "ipython3",
   "version": "3.8.10"
  }
 },
 "nbformat": 4,
 "nbformat_minor": 4
}
