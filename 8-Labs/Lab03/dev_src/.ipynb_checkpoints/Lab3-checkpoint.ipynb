{
 "cells": [
  {
   "cell_type": "markdown",
   "metadata": {},
   "source": [
    "**Download** (right-click, save target as ...) this page as a jupyterlab notebook from:\n",
    "\n",
    "[Lab3](https://atomickitty.ddns.net:8000/user/sensei/files/engr-1330-webroot/engr-1330-webbook/ctds-psuedocourse/docs/8-Labs/Lab2/Lab3_Dev.ipynb?_xsrf=2%7C1b4d47c3%7C0c3aca0c53606a3f4b71c448b09296ae%7C1623531240)\n",
    "\n",
    "___"
   ]
  },
  {
   "cell_type": "markdown",
   "metadata": {},
   "source": [
    "# <font color=darkred>Laboratory 3: Structures and Conditions. </font>\n",
    "\n"
   ]
  },
  {
   "cell_type": "code",
   "execution_count": 1,
   "metadata": {},
   "outputs": [
    {
     "name": "stdout",
     "output_type": "stream",
     "text": [
      "DESKTOP-EH6HD63\n",
      "desktop-eh6hd63\\farha\n",
      "C:\\Users\\Farha\\Anaconda3\\python.exe\n",
      "3.7.4 (default, Aug  9 2019, 18:34:13) [MSC v.1915 64 bit (AMD64)]\n",
      "sys.version_info(major=3, minor=7, micro=4, releaselevel='final', serial=0)\n"
     ]
    }
   ],
   "source": [
    "# Preamble script block to identify host, user, and kernel\n",
    "import sys\n",
    "! hostname\n",
    "! whoami\n",
    "print(sys.executable)\n",
    "print(sys.version)\n",
    "print(sys.version_info)"
   ]
  },
  {
   "cell_type": "markdown",
   "metadata": {},
   "source": [
    "## Full name: \n",
    "## R#: \n",
    "## Title of the notebook:\n",
    "## Date: \n",
    "___"
   ]
  },
  {
   "cell_type": "markdown",
   "metadata": {},
   "source": [
    "![](https://i.pinimg.com/originals/a0/f8/5c/a0f85c35e406acb5b84c13dae888d5a3.gif) <br>\n"
   ]
  },
  {
   "cell_type": "markdown",
   "metadata": {},
   "source": [
    "## <font color=purple>Data Structures: List (Array)</font>\n",
    "\n",
    "A list is a collection of data that are somehow related. It is a convenient way to refer to a\n",
    "collection of similar things by a single name, and using an index (like a subscript in math)\n",
    "to identify a particular item.\n",
    "\n",
    "Consider the \"math-like\" variable $x$ below:\n",
    "\n",
    "\\begin{gather}\n",
    "\n",
    "x_0= 7 \\\\\n",
    "x_1= 11 \\\\\n",
    "x_2= 5 \\\\\n",
    "x_3= 9 \\\\\n",
    "x_4= 13 \\\\\n",
    "\\... \\\\\n",
    "x_N= 223 \\\\\n",
    "\n",
    "\\end{gather}\n",
    "    \n",
    "The variable name is $x$ and the subscripts correspond to different values. \n",
    "Thus the `value` of the variable named $x$ associated with subscript $3$ is the number $9$.\n",
    "\n",
    "The figure below is a visual representation of a the concept that treats a variable as a collection of cells. \n",
    "\n",
    "![](array-image.jpg)\n",
    "\n",
    "In the figure, the variable name is `MyList`, the subscripts are replaced by an index\n",
    "which identifies which cell is being referenced. \n",
    "The value is the cell content at the particular index. \n",
    "\n",
    "So in the figure the value of `MyList` at Index = 3 is the number 9.'\n",
    "\n",
    "In engineering and data science we use lists a lot - we often call then vectors, arrays, matrices and such, but they are ultimately just lists.\n",
    "\n",
    "To declare a list you can write the list name and assign it values. \n",
    "The square brackets are used to identify that the variable is a list. \n",
    "Like:\n",
    "\n",
    "    MyList = [7,11,5,9,13,66,99,223]\n",
    "\n",
    "One can also declare a null list and use the `append()` method to fill it as needed.\n",
    "\n",
    "    MyOtherList = [ ]\n",
    "    \n",
    "Python indices start at ZERO. \n",
    "Alot of other lnguages start at ONE. \n",
    "Its just the convention. \n",
    "\n",
    "The first element in a list has an index of 0, the second an index of 1, and so on.\n",
    "We access the contents of a list by referring to its name and index. \n",
    "For example \n",
    "\n",
    "    MyList[3] has a value of the number 9."
   ]
  },
  {
   "cell_type": "code",
   "execution_count": 1,
   "metadata": {},
   "outputs": [
    {
     "name": "stdout",
     "output_type": "stream",
     "text": [
      "[765]\n",
      "[7, 11, 5, 9, 13, 66, 99, 223]\n",
      "sublist is:  [9, 13, 66]\n",
      "Sum:  88\n",
      "Length:  3\n"
     ]
    }
   ],
   "source": [
    "MyOtherList = [] #Create an empty list\n",
    "MyOtherList.append(765) #Add one item to the list\n",
    "print(MyOtherList)\n",
    "\n",
    "MyList = [7,11,5,9,13,66,99,223] #Define a list \n",
    "print(MyList)\n",
    "\n",
    "sublist = MyList[3:6] #slice a sublist\n",
    "print(\"sublist is: \", sublist)\n",
    "\n",
    "mysum = sum(sublist) #sum the numbers in the sublist\n",
    "print(\"Sum: \", mysum)\n",
    "\n",
    "mylength = len(sublist) #get the length of the sublist\n",
    "print(\"Length: \", mylength)"
   ]
  },
  {
   "cell_type": "markdown",
   "metadata": {},
   "source": [
    "## <font color=purple>Data Structures: Special List | Tuple</font>\n",
    "\n",
    "A tuple is a special kind of list where the values cannot be changed after the list is created.\n",
    "It is useful for list-like things that are static - like days in a week, or months of a year.\n",
    "You declare a tuple like a list, except use round brackets instead of square brackets.\n",
    "\n",
    "    MyTupleName = (\"Jan\",\"Feb\",\"Mar\",\"Apr\",\"May\",\"Jun\",\"Jul\",\"Aug\",\"Sep\",\"Oct\",\"Nov\",\"Dec\")\n",
    "    \n",
    "## <font color=purple>Data Structures: Special List | Dictionary</font>\n",
    "\n",
    "A dictionary is a special kind of list where the items are related data PAIRS. \n",
    "It is a lot like a relational database (it probably is one in fact) where the first item in the pair is called the key, and must be unique in a dictionary, and the second item in the pair is the data.\n",
    "The second item could itself be a list, so a dictionary would be a meaningful way to build a\n",
    "database in Python.\n",
    "\n",
    "To declare a dictionary using `curly` brackets\n",
    "\n",
    "    MyPetsNamesAndMass = { \"Dusty\":7.8 , \"Aspen\":6.3, \"Merrimee\":0.03}\n",
    "\n",
    "To declare a dictionary using the `dict()` method\n",
    "\n",
    "    MyPetsNamesAndMassToo = dict(Dusty = 7.8 , Aspen = 6.3, Merrimee = 0.03)\n",
    "    \n",
    "___\n",
    "Some examples follow:"
   ]
  },
  {
   "cell_type": "code",
   "execution_count": 3,
   "metadata": {},
   "outputs": [
    {
     "data": {
      "text/plain": [
       "('Jan',\n",
       " 'Feb',\n",
       " 'Mar',\n",
       " 'Apr',\n",
       " 'May',\n",
       " 'Jun',\n",
       " 'Jul',\n",
       " 'Aug',\n",
       " 'Sep',\n",
       " 'Oct',\n",
       " 'Nov',\n",
       " 'Dec')"
      ]
     },
     "execution_count": 3,
     "metadata": {},
     "output_type": "execute_result"
    }
   ],
   "source": [
    "MyTupleName = (\"Jan\",\"Feb\",\"Mar\",\"Apr\",\"May\",\"Jun\",\"Jul\",\"Aug\",\"Sep\",\"Oct\",\"Nov\",\"Dec\")\n",
    "MyTupleName"
   ]
  },
  {
   "cell_type": "code",
   "execution_count": 4,
   "metadata": {},
   "outputs": [
    {
     "name": "stdout",
     "output_type": "stream",
     "text": [
      "{'Dusty': 7.8, 'Aspen': 6.3, 'Merrimee': 0.03}\n",
      "{'Dusty': 7.8, 'Aspen': 6.3, 'Merrimee': 0.03}\n"
     ]
    }
   ],
   "source": [
    "MyPetsNamesAndMass = { \"Dusty\":7.8 , \"Aspen\":6.3, \"Merrimee\":0.03}\n",
    "print(MyPetsNamesAndMass)\n",
    "MyPetsNamesAndMassToo = dict(Dusty = 7.8 , Aspen = 6.3, Merrimee = 0.03)\n",
    "print(MyPetsNamesAndMassToo)"
   ]
  },
  {
   "cell_type": "code",
   "execution_count": 5,
   "metadata": {},
   "outputs": [
    {
     "name": "stdout",
     "output_type": "stream",
     "text": [
      "5th element of the tuple: May\n",
      "Aspen's mass =  6.3\n",
      "Merrimee's mass 0.03\n",
      "Merrimee's mass 0.01 She lost weight !\n",
      "Merrimee's mass 0.03\n"
     ]
    }
   ],
   "source": [
    "# Tuples\n",
    "MyTupleName = (\"Jan\",\"Feb\",\"Mar\",\"Apr\",\"May\",\"Jun\",\"Jul\",\"Aug\",\"Sep\",\"Oct\",\"Nov\",\"Dec\")\n",
    "# Access a Tuple\n",
    "print (\"5th element of the tuple:\", MyTupleName[4])\n",
    "# Dictionary\n",
    "MyPetsNamesAndMass = { \"Dusty\":7.8 , \"Aspen\":6.3, \"Merrimee\":0.03}\n",
    "# Access the Dictionary\n",
    "print (\"Aspen's mass = \", MyPetsNamesAndMass[\"Aspen\"])\n",
    "# Change a value in a dictionary\n",
    "print (\"Merrimee's mass\" , MyPetsNamesAndMass[\"Merrimee\"])\n",
    "MyPetsNamesAndMass[\"Merrimee\"] = 0.01\n",
    "print (\"Merrimee's mass\" , MyPetsNamesAndMass[\"Merrimee\"], \"She lost weight !\")\n",
    "# Alternate dictionary\n",
    "MyPetsNamesAndMassToo = dict(Dusty = 7.8 , Aspen = 6.3, Merrimee = 0.03)\n",
    "print (\"Merrimee's mass\" , MyPetsNamesAndMassToo[\"Merrimee\"])\n",
    "# Attempt to change a Tuple\n",
    "#MyTupleName[3]=(\"Fred\") # Activate this line and see what happens!"
   ]
  },
  {
   "cell_type": "markdown",
   "metadata": {},
   "source": [
    "___\n",
    "### Example: Nested Dictionary\n",
    "\n",
    "From the dictionary below, print \"Pandemic\" and \"Tokyo\":"
   ]
  },
  {
   "cell_type": "code",
   "execution_count": 6,
   "metadata": {},
   "outputs": [
    {
     "name": "stdout",
     "output_type": "stream",
     "text": [
      "{'Quentin': 'Tarantino', '2020': [2020, 'COVID', 19, 'Pandemic'], 'Bond': ['James', 'Gun', ('Paris', 'Tokyo', 'London')]}\n"
     ]
    }
   ],
   "source": [
    "FD = {\"Quentin\":\"Tarantino\",\"2020\":[2020,\"COVID\",19,\"Pandemic\"],\"Bond\":[\"James\",\"Gun\",(\"Paris\",\"Tokyo\",\"London\")]} #A nested dictionary\n",
    "print(FD)"
   ]
  },
  {
   "cell_type": "code",
   "execution_count": 7,
   "metadata": {},
   "outputs": [
    {
     "data": {
      "text/plain": [
       "'Pandemic'"
      ]
     },
     "execution_count": 7,
     "metadata": {},
     "output_type": "execute_result"
    }
   ],
   "source": [
    "FD['2020'][3]"
   ]
  },
  {
   "cell_type": "code",
   "execution_count": 8,
   "metadata": {},
   "outputs": [
    {
     "data": {
      "text/plain": [
       "'Tokyo'"
      ]
     },
     "execution_count": 8,
     "metadata": {},
     "output_type": "execute_result"
    }
   ],
   "source": [
    "FD['Bond'][2][1]"
   ]
  },
  {
   "cell_type": "markdown",
   "metadata": {},
   "source": [
    "___\n",
    "![](https://www.xelplus.com/wp-content/uploads/2018/08/VBA-IF.jpg) <br>\n",
    "\n",
    "\n",
    "## <font color=purple>Conditional Execution</font>\n",
    "\n",
    "Conditional statements are logical expressions that evaluate as TRUE or FALSE and using\n",
    "these results to perform further operations based on these conditions.\n",
    "All flow control in a program depends on evaluating conditions. The program will proceed\n",
    "diferently based on the outcome of one or more conditions - really sophisticated AI programs are a collection of conditions and correlations. \n",
    "Amazon knowing what you kind of want is based on correlations of your past behavior compared to other peoples similar, butmore recent behavior, and then it uses conditional statements to decide what item to offer you in your recommendation items. \n",
    "It's spooky, but ultimately just a program running in the background trying to make your money theirs.\n",
    "\n",
    "## <font color=purple>Conditional Execution: Comparison</font>\n",
    "\n",
    "The most common conditional operation is comparison. If we wish to compare whether two\n",
    "variables are the same we use the == (double equal sign).\n",
    "\n",
    "For example x == y means the program will ask whether x and y have the same value. \n",
    "If they do, the result is TRUE if not then the result is FALSE.\n",
    "\n",
    "Other comparison signs are `!=` does NOT equal, `<` smaller than, `> `larger than, `<= `less than or equal, and `>=` greater than or equal.\n",
    "\n",
    "There are also three logical operators when we want to build multiple compares\n",
    "(multiple conditioning); these are `and`, `or`, and `not`.\n",
    "\n",
    "The `and` operator returns TRUE if (and only if) **all** conditions are TRUE.\n",
    "For instance `5 == 5 and 5 < 6` will return a TRUE because both conditions are true.\n",
    "\n",
    "The `or` operator returns `TRUE` if at least one condition is true. \n",
    "If **all** conditions are FALSE, then it will return a FALSE. For instance `4 > 3 or 17 > 20 or 3 == 2` will return `TRUE`because the first condition is true.\n",
    "The `not` operator returns `TRUE` if the condition after the `not` keyword is false. Think of it\n",
    "as a way to do a logic reversal."
   ]
  },
  {
   "cell_type": "code",
   "execution_count": 9,
   "metadata": {},
   "outputs": [
    {
     "name": "stdout",
     "output_type": "stream",
     "text": [
      "x =:  7 y =:  10\n",
      "x is equal to y :  False\n",
      "x is not equal to y :  True\n",
      "x is greater than y :  False\n",
      "x is less than y :  True\n"
     ]
    }
   ],
   "source": [
    "# Compare\n",
    "x = 7\n",
    "y = 10\n",
    "print(\"x =: \",x,\"y =: \",y)\n",
    "print(\"x is equal to y : \",x==y)\n",
    "print(\"x is not equal to y : \",x!=y)\n",
    "print(\"x is greater than y : \",x>y)\n",
    "print(\"x is less than y : \",x<y)"
   ]
  },
  {
   "cell_type": "code",
   "execution_count": 10,
   "metadata": {},
   "outputs": [
    {
     "name": "stdout",
     "output_type": "stream",
     "text": [
      "5 == 5 and 5 < 6 ?  True\n",
      "4 > 3 or 17 > 20  True\n",
      "not 5 == 5 False\n"
     ]
    }
   ],
   "source": [
    "# Logical operators\n",
    "print(\"5 == 5 and 5 < 6 ? \",5 == 5 and 5 < 6)\n",
    "print(\"4 > 3 or 17 > 20 \",4 > 3 or 17 > 20)\n",
    "print(\"not 5 == 5\",not 5 == 5)"
   ]
  },
  {
   "cell_type": "markdown",
   "metadata": {},
   "source": [
    "## <font color=purple>Conditional Execution:  Block `if` statement</font>\n",
    "\n",
    "![](https://pythonexamples.org/wp-content/uploads/2020/07/python-if.gif) <br>\n",
    "\n",
    "The `if` statement is a common flow control statement. \n",
    "It allows the program to evaluate if a certain condition is satisfied and to perform a designed action based on the result of the evaluation. The structure of an `if` statement is\n",
    "\n",
    "    if condition1 is met:\n",
    "        do A\n",
    "    elif condition 2 is met:\n",
    "        do b\n",
    "    elif condition 3 is met:\n",
    "        do c\n",
    "    else:\n",
    "        do e\n",
    "        \n",
    "The `elif` means \"else if\". The `:` colon is an important part of the structure it tells where the action begins. Also there are no scope delimiters like (), or {} . \n",
    "Instead Python uses indentation to isolate blocks of code. \n",
    "\n",
    "\n",
    "This convention is hugely important - many other coding environments use delimiters (called scoping delimiters), but Python does not. The indentation itself is the scoping delimiter.\n",
    "\n",
    "The next code fragment illustrates illustrates how the `if` statements work. The program asks the user for input. The use of `raw_input()` will let the program read any input as a string\n",
    "so non-numeric results will not throw an error. \n",
    "The input is stored in the variable named `userInput`. \n",
    "Next the statement if `userInput == \"1\":` compares the value of `userInput`\n",
    "with the string `\"1\"`. If the value in the variable is indeed \\1\", then the program will execute\n",
    "the block of code in the indentation after the colon. \n",
    "In this case it will execute\n",
    "    \n",
    "    print \"Hello World\"\n",
    "    print \"How do you do? \"\n",
    "\n",
    "Alternatively, if the value of `userInput` is the string `'2'`, then the program will execute \n",
    "\n",
    "    print \"Snakes on a plane \"\n",
    "\n",
    "For all other values the program will execute\n",
    "\n",
    "    print \"You did not enter a valid number\""
   ]
  },
  {
   "cell_type": "code",
   "execution_count": 11,
   "metadata": {},
   "outputs": [
    {
     "name": "stdout",
     "output_type": "stream",
     "text": [
      "Enter the number 1 or 21\n",
      "Hello World\n",
      "How do you do? \n"
     ]
    }
   ],
   "source": [
    "# Block if example\n",
    "userInput = input('Enter the number 1 or 2')\n",
    "# Use block if structure\n",
    "if userInput == '1':\n",
    "    print(\"Hello World\")\n",
    "    print(\"How do you do? \")\n",
    "elif userInput == '2':\n",
    "    print(\"Snakes on a plane \")\n",
    "else:\n",
    "    print(\"You did not enter a valid number\")"
   ]
  },
  {
   "cell_type": "markdown",
   "metadata": {},
   "source": [
    "## <font color=purple>Conditional Execution:  Inline `if` statement</font>\n",
    "\n",
    "An inline `if` statement is a simpler form of an `if` statement and is more convenient if you\n",
    "only need to perform a simple conditional task. \n",
    "The syntax is:\n",
    "\n",
    "    do TaskA `if` condition is true `else` do TaskB\n",
    "    \n",
    "An example would be\n",
    "\n",
    "    myInt = 3\n",
    "    num1 = 12 if myInt == 0 else 13\n",
    "    num1\n",
    "\n",
    "An alternative way is to enclose the condition in brackets for some clarity like\n",
    "\n",
    "    myInt = 3\n",
    "    num1 = 12 if (myInt == 0) else 13\n",
    "    num1\n",
    "\n",
    "In either case the result is that `num1` will have the value `13` (unless you set myInt to 0).\n",
    "\n",
    "One can also use `if` to construct extremely inefficient loops.  "
   ]
  },
  {
   "cell_type": "code",
   "execution_count": 12,
   "metadata": {},
   "outputs": [
    {
     "data": {
      "text/plain": [
       "12"
      ]
     },
     "execution_count": 12,
     "metadata": {},
     "output_type": "execute_result"
    }
   ],
   "source": [
    "myInt = 0\n",
    "num1 = 12 if (myInt == 0) else 13\n",
    "num1"
   ]
  },
  {
   "cell_type": "markdown",
   "metadata": {},
   "source": [
    "___\n",
    "### Example: Pass or Fail?\n",
    "\n",
    "Take the following inputs from the user: \n",
    "\n",
    "    1. Grade for Lesson 1 (from 0 to 5)\n",
    "    2. Grade for Lesson 2 (from 0 to 5)\n",
    "    3. Grade for Lesson 3 (from 0 to 5)\n",
    "   \n",
    "Compute the average of the three grades. Use the result to decide whether the student will pass or fail."
   ]
  },
  {
   "cell_type": "code",
   "execution_count": 13,
   "metadata": {},
   "outputs": [
    {
     "name": "stdout",
     "output_type": "stream",
     "text": [
      "Enter the grade for Lesson 12\n",
      "Enter the grade for Lesson 25\n",
      "Enter the grade for Lesson 31\n",
      "Average Course Grade: 2.6666666666666665\n",
      "Failed\n"
     ]
    }
   ],
   "source": [
    "Lesson1 = int(input('Enter the grade for Lesson 1'))\n",
    "Lesson2 = int(input('Enter the grade for Lesson 2'))\n",
    "Lesson3 = int(input('Enter the grade for Lesson 3'))\n",
    "\n",
    "\n",
    "Average = int(Lesson1+Lesson2+Lesson3)/3\n",
    "print('Average Course Grade:',Average)\n",
    "\n",
    "if Average >= 5:\n",
    "    print(\"Passed\")\n",
    "else:\n",
    "    print(\"Failed\")"
   ]
  },
  {
   "cell_type": "markdown",
   "metadata": {},
   "source": [
    "___\n",
    "![](https://media2.giphy.com/media/5nj4ZZWl6QwneEaBX4/source.gif) <br>\n",
    "\n",
    "\n",
    "*Here are some great reads on this topic:* \n",
    "- __\"Common Python Data Structures (Guide)\"__ by __Dan Bader__ available at *https://realpython.com/python-data-structures/<br>\n",
    "- __\"Data Structures You Need To Learn In Python\"__ by __Akash__ available at *https://www.edureka.co/blog/data-structures-in-python/ <br>\n",
    "- __\"Data Structures in Python— A Brief Introduction\"__ by __Sowmya Krishnan__ available at *https://towardsdatascience.com/data-structures-in-python-a-brief-introduction-b4135d7a9b7d <br>\n",
    "- __\"Everything you Should Know About Data Structures in Python\"__ by __ANIRUDDHA BHANDARI__ available at *https://www.analyticsvidhya.com/blog/2020/06/data-structures-python/ <br>\n",
    "- __\"Conditional Statements in Python\"__ by __John Sturtz__ available at *https://realpython.com/python-conditional-statements/ <br>\n",
    "- __\"Python If Statement explained with examples\"__ by __CHAITANYA SINGH__ available at *https://beginnersbook.com/2018/01/python-if-statement-example/ <br>\n",
    "\n",
    "*Here are some great videos on these topics:* \n",
    "- __\"Python: Data Structures - Lists, Tuples, Sets & Dictionaries tutorial\"__ by __Joe James__ available at *https://www.youtube.com/watch?v=R-HLU9Fl5ug&t=92s <br>\n",
    "- __\"Python Tutorial for Beginners 5: Dictionaries - Working with Key-Value Pairs\"__ by __Corey Schafer__ available at *https://www.youtube.com/watch?v=daefaLgNkw0 <br>\n",
    "- __\"How to Use If Else Statements in Python (Python Tutorial #2)\"__ by __CS Dojo__ available at *https://www.youtube.com/watch?v=AWek49wXGzI <br>\n",
    "- __\"Python If Statements | Python Tutorial #10\"__ by __Amigoscode__ available at *https://www.youtube.com/watch?v=wKQRmXR3jhc <br>"
   ]
  },
  {
   "cell_type": "markdown",
   "metadata": {},
   "source": [
    "![](https://media.csesoc.org.au/content/images/2019/10/learn11.gif) <br>\n"
   ]
  },
  {
   "cell_type": "markdown",
   "metadata": {},
   "source": [
    "___\n",
    "## Exercise: Why dictionaries? <br>\n",
    "\n",
    "\n",
    "### Why do we need to use dictionaries in python? \n",
    "\n",
    "#### * Make sure to cite any resources that you may use. "
   ]
  },
  {
   "cell_type": "markdown",
   "metadata": {},
   "source": []
  },
  {
   "cell_type": "markdown",
   "metadata": {},
   "source": [
    "![](https://i.pinimg.com/736x/11/95/21/11952124e4a15426652cd4ab727570fb.jpg)"
   ]
  }
 ],
 "metadata": {
  "kernelspec": {
   "display_name": "Python 3",
   "language": "python",
   "name": "python3"
  },
  "language_info": {
   "codemirror_mode": {
    "name": "ipython",
    "version": 3
   },
   "file_extension": ".py",
   "mimetype": "text/x-python",
   "name": "python",
   "nbconvert_exporter": "python",
   "pygments_lexer": "ipython3",
   "version": "3.8.5"
  }
 },
 "nbformat": 4,
 "nbformat_minor": 4
}
