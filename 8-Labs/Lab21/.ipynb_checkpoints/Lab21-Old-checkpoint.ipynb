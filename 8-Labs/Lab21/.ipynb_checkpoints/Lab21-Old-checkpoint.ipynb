{
 "cells": [
  {
   "cell_type": "markdown",
   "metadata": {},
   "source": [
    "# Laboratory 13 Probability Modeling"
   ]
  },
  {
   "cell_type": "markdown",
   "metadata": {},
   "source": [
    "## Full name: \n",
    "## R#: \n",
    "## HEX: \n",
    "## Title of the notebook\n",
    "## Date: "
   ]
  },
  {
   "cell_type": "markdown",
   "metadata": {},
   "source": [
    "# Estimate the magnitude of the annual peak flow at Spring Ck near Spring, TX.\n",
    "\n",
    "The file `08068500.pkf` is an actual WATSTORE formatted file for a USGS gage at Spring Creek, Texas. The first few lines of the file look like:\n",
    "\n",
    "    Z08068500                       USGS \n",
    "    H08068500       3006370952610004848339SW12040102409    409     72.6             \n",
    "    N08068500       Spring Ck nr Spring, TX\n",
    "    Y08068500       \n",
    "    308068500       19290530  483007              34.30        1879          \n",
    "    308068500       19390603    838               13.75                    \n",
    "    308068500       19400612   3420               21.42                    \n",
    "    308068500       19401125  42700               33.60                    \n",
    "    308068500       19420409  14200               27.78                    \n",
    "    308068500       19430730   8000               25.09                    \n",
    "    308068500       19440319   5260               23.15                    \n",
    "    308068500       19450830  31100               32.79                    \n",
    "    308068500       19460521  12200               27.97                 \n",
    "    \n",
    "The first column are some agency codes that identify the station , the second column after the fourth row is a date in YYYYMMDD format, the third column is a discharge in CFS, the fourth and fifth column are not relevant for this laboratory exercise.  The file was downloadef from\n",
    "\n",
    "https://nwis.waterdata.usgs.gov/tx/nwis/peak?site_no=08068500&agency_cd=USGS&format=hn2\n",
    "\n",
    "In the original file there are a couple of codes that are manually removed:\n",
    "\n",
    "- 19290530  483007;  the trailing 7 is a code identifying a break in the series (non-sequential)\n",
    "- 20170828  784009; the trailing 9 identifies the historical peak\n",
    "\n",
    "The laboratory task is to fit the data models to this data, decide the best model from visual perspective, and report from that data model the magnitudes of peak flow associated with the probebilitiess below (i.e. populate the table)\n",
    "\n",
    "|Exceedence Probability|Flow Value|Remarks|\n",
    "|:---|:---|:---|\n",
    "|25% |????| 75% chance of greater value|           \n",
    "|50% |????| 50% chance of greater value|            \n",
    "|75% |????| 25% chance of greater value|            \n",
    "|90% |????| 10% chance of greater value|\n",
    "|99% |????| 1% chance of greater value (in flood statistics, this is the 1 in 100-yr chance event)|\n",
    "|99.8%|????| 0.002% chance of greater value (in flood statistics, this is the 1 in 500-yr chance event)|\n",
    "|99.9%|????| 0.001% chance of greater value (in flood statistics, this is the 1 in 1000-yr chance event)|\n",
    "\n",
    "The first step is to read the file, skipping the first part, then build a dataframe:\n"
   ]
  },
  {
   "cell_type": "code",
   "execution_count": 83,
   "metadata": {},
   "outputs": [],
   "source": [
    "# Read the data file\n",
    "amatrix = [] # null list to store matrix reads\n",
    "rowNumA = 0\n",
    "matrix1=[]\n",
    "col0=[]\n",
    "col1=[]\n",
    "col2=[]\n",
    "with open('08068500.pkf','r') as afile:\n",
    "    lines_after_4 = afile.readlines()[4:]\n",
    "afile.close() # Disconnect the file\n",
    "howmanyrows = len(lines_after_4)\n",
    "for i in range(howmanyrows):\n",
    "    matrix1.append(lines_after_4[i].strip().split())\n",
    "for i in range(howmanyrows):\n",
    "    col0.append(matrix1[i][0])\n",
    "    col1.append(matrix1[i][1])\n",
    "    col2.append(matrix1[i][2])\n",
    "# col2 is date, col3 is peak flow\n",
    "#now build a datafranem"
   ]
  },
  {
   "cell_type": "code",
   "execution_count": 84,
   "metadata": {},
   "outputs": [],
   "source": [
    "import pandas \n",
    "df = pandas.DataFrame(col0)\n",
    "df['date']= col1\n",
    "df['flow']= col2"
   ]
  },
  {
   "cell_type": "code",
   "execution_count": 85,
   "metadata": {},
   "outputs": [
    {
     "data": {
      "text/html": [
       "<div>\n",
       "<style scoped>\n",
       "    .dataframe tbody tr th:only-of-type {\n",
       "        vertical-align: middle;\n",
       "    }\n",
       "\n",
       "    .dataframe tbody tr th {\n",
       "        vertical-align: top;\n",
       "    }\n",
       "\n",
       "    .dataframe thead th {\n",
       "        text-align: right;\n",
       "    }\n",
       "</style>\n",
       "<table border=\"1\" class=\"dataframe\">\n",
       "  <thead>\n",
       "    <tr style=\"text-align: right;\">\n",
       "      <th></th>\n",
       "      <th>0</th>\n",
       "      <th>date</th>\n",
       "      <th>flow</th>\n",
       "    </tr>\n",
       "  </thead>\n",
       "  <tbody>\n",
       "    <tr>\n",
       "      <th>0</th>\n",
       "      <td>308068500</td>\n",
       "      <td>19290530</td>\n",
       "      <td>48300</td>\n",
       "    </tr>\n",
       "    <tr>\n",
       "      <th>1</th>\n",
       "      <td>308068500</td>\n",
       "      <td>19390603</td>\n",
       "      <td>838</td>\n",
       "    </tr>\n",
       "    <tr>\n",
       "      <th>2</th>\n",
       "      <td>308068500</td>\n",
       "      <td>19400612</td>\n",
       "      <td>3420</td>\n",
       "    </tr>\n",
       "    <tr>\n",
       "      <th>3</th>\n",
       "      <td>308068500</td>\n",
       "      <td>19401125</td>\n",
       "      <td>42700</td>\n",
       "    </tr>\n",
       "    <tr>\n",
       "      <th>4</th>\n",
       "      <td>308068500</td>\n",
       "      <td>19420409</td>\n",
       "      <td>14200</td>\n",
       "    </tr>\n",
       "  </tbody>\n",
       "</table>\n",
       "</div>"
      ],
      "text/plain": [
       "           0      date   flow\n",
       "0  308068500  19290530  48300\n",
       "1  308068500  19390603    838\n",
       "2  308068500  19400612   3420\n",
       "3  308068500  19401125  42700\n",
       "4  308068500  19420409  14200"
      ]
     },
     "execution_count": 85,
     "metadata": {},
     "output_type": "execute_result"
    }
   ],
   "source": [
    "df.head()"
   ]
  },
  {
   "cell_type": "markdown",
   "metadata": {},
   "source": [
    "Now explore if you can plot the dataframe as a plot of peaks versus date."
   ]
  },
  {
   "cell_type": "code",
   "execution_count": 86,
   "metadata": {},
   "outputs": [],
   "source": [
    "# Plot here"
   ]
  },
  {
   "cell_type": "markdown",
   "metadata": {},
   "source": [
    "From here on you can proceede using the lecture notebook as a go-by, although you should use functions as much as practical to keep your work concise"
   ]
  },
  {
   "cell_type": "code",
   "execution_count": 87,
   "metadata": {},
   "outputs": [],
   "source": [
    "# Descriptive Statistics "
   ]
  },
  {
   "cell_type": "code",
   "execution_count": 88,
   "metadata": {},
   "outputs": [],
   "source": [
    "# Weibull Plotting Position Function"
   ]
  },
  {
   "cell_type": "code",
   "execution_count": 89,
   "metadata": {},
   "outputs": [],
   "source": [
    "# Normal Quantile Function "
   ]
  },
  {
   "cell_type": "code",
   "execution_count": 90,
   "metadata": {},
   "outputs": [],
   "source": [
    "# Fitting Data to Normal Data Model "
   ]
  },
  {
   "cell_type": "markdown",
   "metadata": {},
   "source": [
    "## Normal Distribution Data Model\n",
    "|Exceedence Probability|Flow Value|Remarks|\n",
    "|:---|:---|:---|\n",
    "|25% |????| 75% chance of greater value|           \n",
    "|50% |????| 50% chance of greater value|            \n",
    "|75% |????| 25% chance of greater value|            \n",
    "|90% |????| 10% chance of greater value|\n",
    "|99% |????| 1% chance of greater value (in flood statistics, this is the 1 in 100-yr chance event)|\n",
    "|99.8%|????| 0.002% chance of greater value (in flood statistics, this is the 1 in 500-yr chance event)|\n",
    "|99.9%|????| 0.001% chance of greater value (in flood statistics, this is the 1 in 1000-yr chance event)|\n",
    "\n",
    "<hr>"
   ]
  },
  {
   "cell_type": "code",
   "execution_count": 91,
   "metadata": {},
   "outputs": [],
   "source": [
    "# Log-Normal Quantile Function "
   ]
  },
  {
   "cell_type": "code",
   "execution_count": 92,
   "metadata": {},
   "outputs": [],
   "source": [
    "# Fitting Data to Normal Data Model "
   ]
  },
  {
   "cell_type": "markdown",
   "metadata": {},
   "source": [
    "## Log-Normal Distribution Data Model\n",
    "|Exceedence Probability|Flow Value|Remarks|\n",
    "|:---|:---|:---|\n",
    "|25% |????| 75% chance of greater value|           \n",
    "|50% |????| 50% chance of greater value|            \n",
    "|75% |????| 25% chance of greater value|            \n",
    "|90% |????| 10% chance of greater value|\n",
    "|99% |????| 1% chance of greater value (in flood statistics, this is the 1 in 100-yr chance event)|\n",
    "|99.8%|????| 0.002% chance of greater value (in flood statistics, this is the 1 in 500-yr chance event)|\n",
    "|99.9%|????| 0.001% chance of greater value (in flood statistics, this is the 1 in 1000-yr chance event)|\n",
    "\n",
    "<hr>"
   ]
  },
  {
   "cell_type": "code",
   "execution_count": 93,
   "metadata": {},
   "outputs": [],
   "source": [
    "# Gumbell EV1 Quantile Function"
   ]
  },
  {
   "cell_type": "code",
   "execution_count": 94,
   "metadata": {},
   "outputs": [],
   "source": [
    "# Fitting Data to Gumbell EV1 Data Model "
   ]
  },
  {
   "cell_type": "markdown",
   "metadata": {},
   "source": [
    "## Gumbell Double Exponential (EV1) Distribution Data Model\n",
    "|Exceedence Probability|Flow Value|Remarks|\n",
    "|:---|:---|:---|\n",
    "|25% |????| 75% chance of greater value|           \n",
    "|50% |????| 50% chance of greater value|            \n",
    "|75% |????| 25% chance of greater value|            \n",
    "|90% |????| 10% chance of greater value|\n",
    "|99% |????| 1% chance of greater value (in flood statistics, this is the 1 in 100-yr chance event)|\n",
    "|99.8%|????| 0.002% chance of greater value (in flood statistics, this is the 1 in 500-yr chance event)|\n",
    "|99.9%|????| 0.001% chance of greater value (in flood statistics, this is the 1 in 1000-yr chance event)|\n",
    "\n",
    "<hr>"
   ]
  },
  {
   "cell_type": "code",
   "execution_count": 95,
   "metadata": {},
   "outputs": [],
   "source": [
    "# Gamma (Pearson Type III) Quantile Function"
   ]
  },
  {
   "cell_type": "code",
   "execution_count": 96,
   "metadata": {},
   "outputs": [],
   "source": [
    "# Fitting Data to Pearson (Gamma) III Data Model \n",
    "# This is new, in lecture the fit was to log-Pearson, same procedure, but not log transformed"
   ]
  },
  {
   "cell_type": "markdown",
   "metadata": {},
   "source": [
    "## Pearson III Distribution Data Model \n",
    "|Exceedence Probability|Flow Value|Remarks|\n",
    "|:---|:---|:---|\n",
    "|25% |????| 75% chance of greater value|           \n",
    "|50% |????| 50% chance of greater value|            \n",
    "|75% |????| 25% chance of greater value|            \n",
    "|90% |????| 10% chance of greater value|\n",
    "|99% |????| 1% chance of greater value (in flood statistics, this is the 1 in 100-yr chance event)|\n",
    "|99.8%|????| 0.002% chance of greater value (in flood statistics, this is the 1 in 500-yr chance event)|\n",
    "|99.9%|????| 0.001% chance of greater value (in flood statistics, this is the 1 in 1000-yr chance event)|\n",
    "\n",
    "<hr>"
   ]
  },
  {
   "cell_type": "code",
   "execution_count": 97,
   "metadata": {},
   "outputs": [],
   "source": [
    "# Fitting Data to Log-Pearson (Log-Gamma) III Data Model "
   ]
  },
  {
   "cell_type": "markdown",
   "metadata": {},
   "source": [
    "## Log-Pearson III Distribution Data Model\n",
    "|Exceedence Probability|Flow Value|Remarks|\n",
    "|:---|:---|:---|\n",
    "|25% |????| 75% chance of greater value|           \n",
    "|50% |????| 50% chance of greater value|            \n",
    "|75% |????| 25% chance of greater value|            \n",
    "|90% |????| 10% chance of greater value|\n",
    "|99% |????| 1% chance of greater value (in flood statistics, this is the 1 in 100-yr chance event)|\n",
    "|99.8%|????| 0.002% chance of greater value (in flood statistics, this is the 1 in 500-yr chance event)|\n",
    "|99.9%|????| 0.001% chance of greater value (in flood statistics, this is the 1 in 1000-yr chance event)|\n",
    "\n",
    "<hr>"
   ]
  },
  {
   "cell_type": "markdown",
   "metadata": {},
   "source": [
    "# Summary of \"Best\" Data Model based on Graphical Fit"
   ]
  }
 ],
 "metadata": {
  "kernelspec": {
   "display_name": "Python 38",
   "language": "python",
   "name": "python38"
  },
  "language_info": {
   "codemirror_mode": {
    "name": "ipython",
    "version": 3
   },
   "file_extension": ".py",
   "mimetype": "text/x-python",
   "name": "python",
   "nbconvert_exporter": "python",
   "pygments_lexer": "ipython3",
   "version": "3.8.3"
  }
 },
 "nbformat": 4,
 "nbformat_minor": 4
}
