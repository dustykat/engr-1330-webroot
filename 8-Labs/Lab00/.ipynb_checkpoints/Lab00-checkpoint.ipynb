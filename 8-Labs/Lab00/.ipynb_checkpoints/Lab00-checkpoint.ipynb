{
 "cells": [
  {
   "cell_type": "markdown",
   "metadata": {},
   "source": [
    "**Download** (right-click, save target as ...) this page as a jupyterlab notebook from:\n",
    "\n",
    "[Laboratory 0](http://54.243.252.9/engr-1330-webroot/8-Labs/Lab00/Lab00.ipynb)\n",
    "\n",
    "___\n"
   ]
  },
  {
   "cell_type": "markdown",
   "metadata": {},
   "source": [
    "**LAST NAME, FIRST NAME**\n",
    "\n",
    "**R00000000**\n",
    "\n",
    "ENGR 1330 Laboratory 0"
   ]
  },
  {
   "cell_type": "markdown",
   "metadata": {},
   "source": [
    "# <font color=darkblue>Laboratory 0: Installing The Computing Environment</font>\n",
    "\n",
    "Objective: To get a working JupyterLab/Notebook environment on your laptop."
   ]
  },
  {
   "cell_type": "markdown",
   "metadata": {},
   "source": [
    "> This \"document\" is a Jupyter Notebook; the medium that we will be using throughout the semester. \n",
    "___\n",
    "\n",
    "## ENGR-1330 Computing Environment\n",
    "\n",
    "The computing environment we will use is a Jupyter Notebook running an iPython computation kernel.  The simplest way to get a working environent is to install Anaconda on your laptop.  \n",
    "\n",
    "The remainder of this lab meeting is to get your Anaconda install started and maybe even completed.  If you started before lab, you may be in good shape.\n",
    "\n",
    "![](http://54.243.252.9/engr-1330-webroot/8-Labs/Lab00/anaconda-meta.jpg)\n",
    "\n",
    "<br>\n",
    "\n",
    "There are online services that allow you create, modify, and export Jupyter notebooks. However, to have this on your local machines (computers), you can install [Anaconda](https://www.anaconda.com/products/individual). Anaconda is a package of different software suites/launchers including \"Jupyter Notebook\". \n",
    "\n",
    "You can find videos on how to install Anaconda on your devices on BlackBoard:\n",
    "- Go to [Anaconda.com](https://www.anaconda.com/products/individual)\n",
    "- Scroll down to the bottom of the page or click on products > individual edition\n",
    "- Download the correct version for your operating system: Windows, MacOS, and Linux; and possibly hardware - This may take a while depending on your connection speed\n",
    "- Once the installer file is downloaded, run it and install Anaconda on your machine.\n",
    "    - Anaconda requires almost 3 GB of free space\n",
    "    - Install it in a separate folder- Preferably on a drive with lots of free memory!\n",
    "    - BE PATIENT!- It will take a while. \n",
    "___"
   ]
  },
  {
   "cell_type": "markdown",
   "metadata": {},
   "source": [
    "**To Download A Visual Guide On Installing ANACONDA** ,right-click, and download (save) this file:\n",
    "\n",
    "[ANACONDA Install Help](https://54.243.252.9/engr-1330-webroot/8-Labs/Lab00/Anaconda%20Install.pptx)\n",
    "\n",
    "___\n",
    "\n",
    "The exercises below require you to have a working Jupyter instance - get it installed then complete the lab."
   ]
  },
  {
   "cell_type": "markdown",
   "metadata": {},
   "source": [
    "## Exercise 0.1\n",
    "\n",
    "Visit  *Jupyter Notebook: An Introduction*, [https://realpython.com/jupyter-notebook-introduction/](https://realpython.com/jupyter-notebook-introduction/) and examine the contents.\n",
    "\n",
    "In the section **Running Cells** the author presents something similar to \"hello world\".  \n",
    "Run the example in *Jupyter Notebook: An Introduction* in the cell below\n"
   ]
  },
  {
   "cell_type": "raw",
   "metadata": {},
   "source": [
    "\\# Put the Python code in this cell (change cell type to Code) and run it"
   ]
  },
  {
   "cell_type": "markdown",
   "metadata": {},
   "source": [
    "## Exercise 0.2\n",
    "\n",
    "Continuing with *Jupyter Notebook: An Introduction* In the section **Headers** the author presents an example of different header levals (it is the first example in the section).\n",
    "\n",
    "Repeat the example in the cell below, be sure its a markdown cell and run it - you should get results similar to the example in the document."
   ]
  },
  {
   "cell_type": "raw",
   "metadata": {},
   "source": [
    "\\# put the example here -  3 lines, (change cell type to Markdown) and run it"
   ]
  },
  {
   "cell_type": "markdown",
   "metadata": {},
   "source": [
    "## Submitting your completed lab notebook\n",
    "\n",
    "When you have sucessfully completed the lab assignments supply the missing information at the top of the file \n",
    "\n",
    "> **LAST NAME, FIRST NAME**\n",
    ">\n",
    "> **R00000000**\n",
    "\n",
    "then \n",
    "\n",
    "- run all cells (laboratory instructor will show how)\n",
    "- export notebook as PDF \n",
    "  - usually printing to a PDF works,\n",
    "  - if you get an nbconvert error, then export as html, use the [html2pdf](https://html2pdf.com/) online converter\n",
    "- upload your pdf to the Blackboard server to hand in your completed laboratory"
   ]
  },
  {
   "cell_type": "markdown",
   "metadata": {},
   "source": [
    "## Readings\n",
    "\n",
    "Driscoll, M. (2021) *Jupyter Notebook: An Introduction*, [https://realpython.com/jupyter-notebook-introduction/](https://realpython.com/jupyter-notebook-introduction/) "
   ]
  }
 ],
 "metadata": {
  "kernelspec": {
   "display_name": "Python 3",
   "language": "python",
   "name": "python3"
  },
  "language_info": {
   "codemirror_mode": {
    "name": "ipython",
    "version": 3
   },
   "file_extension": ".py",
   "mimetype": "text/x-python",
   "name": "python",
   "nbconvert_exporter": "python",
   "pygments_lexer": "ipython3",
   "version": "3.8.10"
  }
 },
 "nbformat": 4,
 "nbformat_minor": 4
}
