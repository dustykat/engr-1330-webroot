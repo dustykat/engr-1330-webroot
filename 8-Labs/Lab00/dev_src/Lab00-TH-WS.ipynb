{
 "cells": [
  {
   "cell_type": "markdown",
   "metadata": {},
   "source": [
    "**Download** (right-click, save target as ...) this page as a jupyterlab notebook from:\n",
    "\n",
    "[Laboratory 0-TH](https://atomickitty.ddns.net/engr-1330-webroot/8-Labs/Lab00/Lab00-TH.ipynb)\n",
    "\n",
    "___\n"
   ]
  },
  {
   "cell_type": "markdown",
   "metadata": {},
   "source": [
    "# <font color=darkblue>Laboratory 0 - Homework: Yes, That's how we count in python!</font>\n",
    "\n",
    "**LAST NAME, FIRST NAME**\n",
    "\n",
    "**R00000000**\n",
    "\n",
    "ENGR 1330 Laboratory 0 - Homework\n",
    "\n",
    "---\n"
   ]
  },
  {
   "cell_type": "markdown",
   "metadata": {},
   "source": [
    "## Exercise 1 \n",
    "\n",
    "Watch the Harvard computational thinking video [https://www.youtube.com/watch?v=jjqgP9dpD1k&t=12s](https://www.youtube.com/watch?v=jjqgP9dpD1k&t=12s)\n",
    "\n",
    "At some point in the video, the instructor programs a virtual cat to meow. Then he programs the cat to meow repeatedly.  What kind of programming construct is the video presenting at this point (they state the structure while demonstrated)"
   ]
  },
  {
   "cell_type": "markdown",
   "metadata": {},
   "source": [
    "**A Loop Structure**"
   ]
  },
  {
   "cell_type": "markdown",
   "metadata": {},
   "source": [
    "## Exercise 2\n",
    "\n",
    "Visit  *Jupyter Notebook: An Introduction*, [https://realpython.com/jupyter-notebook-introduction/](https://realpython.com/jupyter-notebook-introduction/) and examine the contents.\n",
    "\n",
    "In the section **Running Cells** the author presents something similar to \"hello world\".  \n",
    "Run the example in *Jupyter Notebook: An Introduction* in the cell below\n"
   ]
  },
  {
   "cell_type": "code",
   "execution_count": 1,
   "metadata": {},
   "outputs": [
    {
     "name": "stdout",
     "output_type": "stream",
     "text": [
      "Hello Jupyter!\n"
     ]
    }
   ],
   "source": [
    "print('Hello Jupyter!')"
   ]
  },
  {
   "cell_type": "markdown",
   "metadata": {},
   "source": [
    "## Exercise 3\n",
    "\n",
    "Continuing with *Jupyter Notebook: An Introduction* In the section **Headers** the author presents an example of different header levals (it is the first example in the section).\n",
    "\n",
    "Repeat the example in the cell below, be sure its a markdown cell and run it - you should get results similar to the example in the document."
   ]
  },
  {
   "cell_type": "markdown",
   "metadata": {},
   "source": [
    "# Header 1\n",
    "## Header 2\n",
    "### Header 3"
   ]
  }
 ],
 "metadata": {
  "kernelspec": {
   "display_name": "Python 3",
   "language": "python",
   "name": "python3"
  },
  "language_info": {
   "codemirror_mode": {
    "name": "ipython",
    "version": 3
   },
   "file_extension": ".py",
   "mimetype": "text/x-python",
   "name": "python",
   "nbconvert_exporter": "python",
   "pygments_lexer": "ipython3",
   "version": "3.8.10"
  }
 },
 "nbformat": 4,
 "nbformat_minor": 4
}
