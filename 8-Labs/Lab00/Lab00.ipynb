{
 "cells": [
  {
   "cell_type": "markdown",
   "metadata": {},
   "source": [
    "**Download** (right-click, save target as ...) this page as a jupyterlab notebook from:\n",
    "\n",
    "[Laboratory 0](http://54.243.252.9/engr-1330-webroot/8-Labs/Lab00/Lab00.ipynb)\n",
    "\n",
    "___\n"
   ]
  },
  {
   "cell_type": "markdown",
   "metadata": {},
   "source": [
    "# <font color=darkblue>Laboratory 0: Yes, That's how we count in python!</font>\n",
    "\n"
   ]
  },
  {
   "cell_type": "markdown",
   "metadata": {},
   "source": [
    "Counting, is our most fundamental arithmetic construct.  Where it start matters.  \n",
    "\n",
    "At Harvard they start at (0) zero [https://www.youtube.com/watch?v=jjqgP9dpD1k&t=12s](https://www.youtube.com/watch?v=jjqgP9dpD1k&t=12s), at MIT they start at (1) one [https://www.youtube.com/watch?v=3zTO3LEY-cM](https://www.youtube.com/watch?v=3zTO3LEY-cM), and the rest of us are a bit (pun intended) confused! \n",
    "\n",
    "Well python developers decided to start at Zero, hence laboratory 0 - our beginning.\n",
    "\n",
    "Our goal is to get a working JupyterLab/Notebook environment on your laptop."
   ]
  },
  {
   "cell_type": "markdown",
   "metadata": {},
   "source": [
    "## This \"document\" is a Jupyter Notebook; the medium that we will be using throughout the semester. \n",
    "___\n",
    "\n",
    "## How do you get here?\n",
    "\n",
    "We suggest, recommend (demand?) you install Anaconda on your laptop.  The remainder of this lab meeting is to get your Anaconda install started and maybe even completed.  If you started before lab, you may be in good shape.\n",
    "\n",
    "\n",
    "![](http://54.243.252.9/engr-1330-webroot/8-Labs/Lab00/anaconda-meta.jpg)\n",
    "\n",
    "<br>\n",
    "\n",
    "There are online services that allow you create, modify, and export Jupyter notebooks. However, to have this on your local machines (computers), you can install [Anaconda](https://www.anaconda.com/products/individual). Anaconda is a package of different software suites/launchers including \"Jupyter Notebook\". \n",
    "\n",
    "You can find videos on how to install Anaconda on your devices on BlackBoard:\n",
    "- Go to [Anaconda.com](https://www.anaconda.com/products/individual)\n",
    "- Scroll down to the bottom of the page or click on products > individual edition\n",
    "- Download the correct version for your operating system: Windows, MacOS, and Linux; and possibly hardware - This may take a while depending on your connection speed\n",
    "- Once the installer file is downloaded, run it and install Anaconda on your machine.\n",
    "    - Anaconda requires almost 3 GB of free space\n",
    "    - Install it in a separate folder- Preferably on a drive with lots of free memory!\n",
    "    - BE PATIENT!- It will take a while. \n",
    "    \n",
    "**MacOS and Windows are x86-64 architecture. Chromebooks, Apple M1/M2, Raspberry Pi are arm64 architecture** \n",
    "___"
   ]
  },
  {
   "cell_type": "markdown",
   "metadata": {},
   "source": [
    "**To Download A Visual Guide On Installing ANACONDA** ,right-click, and download (save) this file:\n",
    "\n",
    "[ANACONDA Install Help](https://54.243.252.9/engr-1330-webroot/8-Labs/Lab00/Anaconda%20Install.pptx)\n",
    "\n",
    "___\n"
   ]
  },
  {
   "cell_type": "markdown",
   "metadata": {},
   "source": [
    "## Lab Exercise 0.1\n",
    "The classic hello world script!"
   ]
  },
  {
   "cell_type": "code",
   "execution_count": 1,
   "metadata": {},
   "outputs": [
    {
     "name": "stdout",
     "output_type": "stream",
     "text": [
      "hello YOUR NAME HERE\n"
     ]
    }
   ],
   "source": [
    "print('hello YOUR NAME HERE') # activate and run this cell"
   ]
  },
  {
   "cell_type": "markdown",
   "metadata": {},
   "source": [
    "## Lab Exercise 0.2\n",
    "Identify the cell types below:"
   ]
  },
  {
   "cell_type": "code",
   "execution_count": 2,
   "metadata": {},
   "outputs": [],
   "source": [
    "# I am what kind of cell am I? "
   ]
  },
  {
   "cell_type": "code",
   "execution_count": 3,
   "metadata": {},
   "outputs": [],
   "source": [
    "# Change me to a Markdown cell, and run it"
   ]
  },
  {
   "cell_type": "raw",
   "metadata": {},
   "source": [
    "# I am what kind of cell am I? "
   ]
  },
  {
   "cell_type": "markdown",
   "metadata": {},
   "source": [
    "## Submitting your laboratory.\n",
    "\n",
    "Replace the missing items below\n",
    "\n",
    "**LAST NAME, FIRST NAME**\n",
    "\n",
    "**R00000000**\n",
    "\n",
    "ENGR 1330 Laboratory 0\n",
    "\n",
    "then \n",
    "\n",
    "- run all cells (laboratory instructor will show how)\n",
    "- export notebook as PDF (if nbconvert error, then export as html, use html2pdf online converter)\n",
    "- upload your pdf to the Blackboard server to hand in your completed laboratory"
   ]
  },
  {
   "cell_type": "markdown",
   "metadata": {},
   "source": [
    "## Readings\n",
    "\n",
    "Driscoll, M. (2021) *Jupyter Notebook: An Introduction*, [https://realpython.com/jupyter-notebook-introduction/](https://realpython.com/jupyter-notebook-introduction/) "
   ]
  },
  {
   "cell_type": "code",
   "execution_count": null,
   "metadata": {},
   "outputs": [],
   "source": []
  }
 ],
 "metadata": {
  "kernelspec": {
   "display_name": "Python 3",
   "language": "python",
   "name": "python3"
  },
  "language_info": {
   "codemirror_mode": {
    "name": "ipython",
    "version": 3
   },
   "file_extension": ".py",
   "mimetype": "text/x-python",
   "name": "python",
   "nbconvert_exporter": "python",
   "pygments_lexer": "ipython3",
   "version": "3.8.10"
  }
 },
 "nbformat": 4,
 "nbformat_minor": 4
}
