{
 "cells": [
  {
   "cell_type": "markdown",
   "metadata": {},
   "source": [
    "**Download** (right-click, save target as ...) this page as a jupyterlab notebook from: [Lab4-HW](http://54.243.252.9/engr-1330-webroot/8-Labs/Lab04/Lab04-TH.ipynb)\n",
    "\n",
    "___"
   ]
  },
  {
   "cell_type": "markdown",
   "metadata": {},
   "source": [
    "# <font color=darkred>Laboratory 4: Input and Output </font>\n",
    "\n",
    "**LAST NAME, FIRST NAME**\n",
    "\n",
    "**R00000000**\n",
    "\n",
    "ENGR 1330 Laboratory 4 - Homework\n"
   ]
  },
  {
   "cell_type": "code",
   "execution_count": 78,
   "metadata": {},
   "outputs": [
    {
     "name": "stdout",
     "output_type": "stream",
     "text": [
      "atomickitty\n",
      "sensei\n",
      "/opt/jupyterhub/bin/python3\n",
      "3.8.10 (default, Jun  2 2021, 10:49:15) \n",
      "[GCC 9.4.0]\n",
      "sys.version_info(major=3, minor=8, micro=10, releaselevel='final', serial=0)\n"
     ]
    }
   ],
   "source": [
    "# Preamble script block to identify host, user, and kernel\n",
    "import sys\n",
    "! hostname\n",
    "! whoami\n",
    "print(sys.executable)\n",
    "print(sys.version)\n",
    "print(sys.version_info)"
   ]
  },
  {
   "cell_type": "markdown",
   "metadata": {},
   "source": [
    "## Exercise 1 : Find the Treasure Part 1\n",
    "\n",
    "Consider the structure below (a treasure map)\n",
    "\n",
    "                  +-------------------------+\n",
    "                  ¦ 34 ¦ 21 ¦ 32 ¦ 41 ¦ 25  ¦\n",
    "                  +----+----+----+----+-----¦\n",
    "                  ¦ 14 ¦ 42 ¦ 43 ¦ 14 ¦ 31  ¦\n",
    "                  +----+----+----+----+-----¦\n",
    "                  ¦ 54 ¦ 45 ¦ 52 ¦ 42 ¦ 23  ¦\n",
    "                  +----+----+----+----+-----¦\n",
    "                  ¦ 33 ¦ 15 ¦ 51 ¦ 31 ¦ 35  ¦\n",
    "                  +----+----+----+----+-----¦\n",
    "                  ¦ 21 ¦ 52 ¦ 33 ¦ 13 ¦ 23  ¦\n",
    "                  +-------------------------+\n",
    "\n",
    "## Background\n",
    "\n",
    "Eventually we will write a program to explore the above matrix for a treasure, but first lets understand the map structure. The values in the array are clues. \n",
    "\n",
    "Each cell in the matrix contains an integer between 11 and 55; for each value the ten's digit represents the row number and the unit's digit represents the column number of the cell containing the next clue.\n",
    "\n",
    "For example starting in the upper left corner (at row = 1,column = 1), use the clues to guide your search of the array. So (1,1) contains 34.  Next move to (3,4), which contains 43. Move to (4,2), which contains 15, and so on. \n",
    "\n",
    "The treasure is a cell whose value is the same as its coordinates. \n",
    "\n",
    "The program must eventually read in the treasure map data into a 5 by 5 array, and should output the cells it visits during its search, and a message indicating where you found the treasure.\n",
    "\n",
    "*The \"Treasure Hunt Problem\" is from the HackerRank.com avaiable at https://www.hackerrank.com/contests/startatastartup/challenges/treasure-hunt*"
   ]
  },
  {
   "cell_type": "code",
   "execution_count": 90,
   "metadata": {},
   "outputs": [],
   "source": [
    "# script to generate the treasure map (do not modify)\n",
    "treasuremap = [] # empty list to store row, column information\n",
    "treasuremap.append([34,21,32,41,25]) # first row of the map\n",
    "treasuremap.append([14,42,43,14,31]) # second row of the map\n",
    "treasuremap.append([54,45,52,42,23])# third row of the map\n",
    "treasuremap.append([33,15,51,31,35])# fourth row of the map\n",
    "treasuremap.append([21,52,33,13,23])# fifth row of the map"
   ]
  },
  {
   "cell_type": "markdown",
   "metadata": {},
   "source": [
    "**Now for your problem** Write a script to take input from user in terms of row number and column number.  Return contents of treasure map at position indicated by the row and column to the user."
   ]
  },
  {
   "cell_type": "code",
   "execution_count": 91,
   "metadata": {},
   "outputs": [
    {
     "name": "stdout",
     "output_type": "stream",
     "text": [
      "32\n"
     ]
    }
   ],
   "source": [
    "# script to access (1,3)  modify for interactive input\n",
    "row = 1\n",
    "column = 3\n",
    "print(treasuremap[row-1][column-1]) # print a single element"
   ]
  },
  {
   "cell_type": "markdown",
   "metadata": {},
   "source": [
    "## Exercise 2 -- Following the Clues\n",
    "\n",
    "Using your treasure map script and start at (1,1).  Use the output clues as input and rerun the script. Stop when you have found the treasure.  Here are a few to work with, remember to use the interactive input version that you created, you can add cells as needed, and cut and paste to generate the necessary sequence of cells"
   ]
  },
  {
   "cell_type": "code",
   "execution_count": 102,
   "metadata": {},
   "outputs": [
    {
     "name": "stdout",
     "output_type": "stream",
     "text": [
      "34\n"
     ]
    }
   ],
   "source": [
    "# script to access (1,1)  modify for interactive input\n",
    "row = 1\n",
    "column = 1\n",
    "print(treasuremap[row-1][column-1]) # print a single element"
   ]
  },
  {
   "cell_type": "code",
   "execution_count": 103,
   "metadata": {},
   "outputs": [
    {
     "name": "stdout",
     "output_type": "stream",
     "text": [
      "42\n"
     ]
    }
   ],
   "source": [
    "# script to access (3,4)  modify for interactive input\n",
    "row = 3\n",
    "column = 4\n",
    "print(treasuremap[row-1][column-1]) # print a single element"
   ]
  },
  {
   "cell_type": "code",
   "execution_count": 104,
   "metadata": {},
   "outputs": [
    {
     "name": "stdout",
     "output_type": "stream",
     "text": [
      "15\n"
     ]
    }
   ],
   "source": [
    "# script to access (4,2)  modify for interactive input\n",
    "row = 4\n",
    "column = 2\n",
    "print(treasuremap[row-1][column-1]) # print a single element"
   ]
  },
  {
   "cell_type": "code",
   "execution_count": null,
   "metadata": {},
   "outputs": [],
   "source": []
  }
 ],
 "metadata": {
  "kernelspec": {
   "display_name": "Python 3",
   "language": "python",
   "name": "python3"
  },
  "language_info": {
   "codemirror_mode": {
    "name": "ipython",
    "version": 3
   },
   "file_extension": ".py",
   "mimetype": "text/x-python",
   "name": "python",
   "nbconvert_exporter": "python",
   "pygments_lexer": "ipython3",
   "version": "3.8.10"
  }
 },
 "nbformat": 4,
 "nbformat_minor": 4
}
