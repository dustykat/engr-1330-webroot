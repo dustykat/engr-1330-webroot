{
 "cells": [
  {
   "cell_type": "markdown",
   "metadata": {},
   "source": [
    "**Download** (right-click, save target as ...) this page as a jupyterlab notebook from:\n",
    "\n",
    "[Laboratory 2](http://54.243.252.9/engr-1330-webroot/8-Labs/Lab02/Lab02.ipynb)\n",
    "\n",
    "___\n"
   ]
  },
  {
   "cell_type": "markdown",
   "metadata": {},
   "source": [
    "# <font color=darkblue>Laboratory 2: Elementary Computation </font>\n",
    "\n",
    "**LAST NAME, FIRST NAME**\n",
    "\n",
    "**R00000000**\n",
    "\n",
    "ENGR 1330 Laboratory 2 - In-Lab\n"
   ]
  },
  {
   "cell_type": "markdown",
   "metadata": {},
   "source": [
    "Welcome to your first (or second) <span style='background:yellow'>Jupyter Notebook</span>. This is the medium that we will be using throughout the semester. \n",
    "___\n",
    "\n",
    "**Why is this called a notebook?**\n",
    "Because you can write stuff in it!\n",
    "\n",
    "**Is that it?**\n",
    "Nope! you can **write** and **run** <span style='background:yellow'>CODE</span> in this notebook! Plus a bunch of other cool stuff such as making graphs, running tests and simulations, adding images, and building documents (such as this one!)."
   ]
  },
  {
   "cell_type": "markdown",
   "metadata": {},
   "source": [
    "Notice the code cell below!  From this notebook forward please include and run the script in the cell, it will help in debugging a notebook. Its ok if the code makes no sense right now - mostly the cell executes system commands If you change machines, and rerun the cell the output will change (its supposed to!)"
   ]
  },
  {
   "cell_type": "code",
   "execution_count": 2,
   "metadata": {},
   "outputs": [
    {
     "name": "stdout",
     "output_type": "stream",
     "text": [
      "atomickitty\n",
      "sensei\n",
      "/opt/jupyterhub/bin/python3\n",
      "3.8.10 (default, Jun  2 2021, 10:49:15) \n",
      "[GCC 9.4.0]\n",
      "sys.version_info(major=3, minor=8, micro=10, releaselevel='final', serial=0)\n"
     ]
    }
   ],
   "source": [
    "# Preamble script block to identify host, user, and kernel\n",
    "import sys\n",
    "! hostname\n",
    "! whoami\n",
    "print(sys.executable)\n",
    "print(sys.version)\n",
    "print(sys.version_info)"
   ]
  },
  {
   "cell_type": "markdown",
   "metadata": {},
   "source": [
    "## Now, let's get to work!\n",
    "\n",
    "First lets re-hash (huge pun here!) the preceeding lesson, but this time with feeling! ( Kentucky Fried Movie?)\n",
    "\n",
    "## <font color=purple>Variables</font>\n",
    "\n",
    "Variables are names given to data that we want to store and manipulate in programs. A\n",
    "variable has a name and a value. The value representation depends on what type of object\n",
    "the variable represents.\n",
    "The utility of variables comes in when we have a structure that is universal, but values of\n",
    "variables within the structure will change - otherwise it would be simple enough to just\n",
    "hardwire the arithmetic.\n",
    "\n",
    "Suppose we want to store the time of concentration for some hydrologic calculation. \n",
    "To do so, we can name a variable `TimeOfConcentration`, and then `assign` a value to the variable,\n",
    "for instance:"
   ]
  },
  {
   "cell_type": "code",
   "execution_count": 9,
   "metadata": {},
   "outputs": [],
   "source": [
    "TimeOfConcentration = 0.0"
   ]
  },
  {
   "cell_type": "markdown",
   "metadata": {},
   "source": [
    "After this assignment statement the variable is created in the program and has a value of 0.0. \n",
    "The use of a decimal point in the initial assignment establishes the variable as a float (a real variable is called a floating point representation -- or just a float)."
   ]
  },
  {
   "cell_type": "code",
   "execution_count": 10,
   "metadata": {},
   "outputs": [
    {
     "data": {
      "text/plain": [
       "5.0"
      ]
     },
     "execution_count": 10,
     "metadata": {},
     "output_type": "execute_result"
    }
   ],
   "source": [
    "TimeOfConcentration + 5"
   ]
  },
  {
   "cell_type": "markdown",
   "metadata": {},
   "source": [
    "### <font color=purple>Naming Rules</font>\n",
    "\n",
    "Variable names in Python can only contain letters (a - z, A - Z), numerals (0 - 9), or underscores. \n",
    "The first character cannot be a number, otherwise there is considerable freedom in naming. \n",
    "The names can be reasonably long. \n",
    "`runTime`, `run_Time`, `_run_Time2`, `_2runTime` are all valid names, but `2runTime` is not valid, and will create an error when you try to use it."
   ]
  },
  {
   "cell_type": "code",
   "execution_count": 11,
   "metadata": {},
   "outputs": [
    {
     "name": "stdout",
     "output_type": "stream",
     "text": [
      "1 2 2\n"
     ]
    }
   ],
   "source": [
    "# Script to illustrate variable names\n",
    "runTime = 1\n",
    "_2runTime = 2 # change to 2runTime = 2 and rerun script\n",
    "runTime2 = 2\n",
    "print(runTime,_2runTime,runTime2)"
   ]
  },
  {
   "cell_type": "markdown",
   "metadata": {},
   "source": [
    "There are some reserved words that cannot be used as variable names because they have preassigned meaning in Parseltongue. These words include print, input, if, while, and for. There are several more; the interpreter won't allow you to use these names as variables and will issue an error message when you attempt to run a program with such words used as variables."
   ]
  },
  {
   "cell_type": "markdown",
   "metadata": {},
   "source": [
    "___\n",
    "## <font color=purple>Operators</font>\n",
    "\n",
    "The `=` sign used in the variable definition is called an assignment operator (or assignment sign). \n",
    "The symbol means that the expression to the right of the symbol is to be evaluated and the result placed into the variable on the left side of the symbol.  The \"operation\" is assignment, the \"=\" symbol is the operator name.\n",
    "\n",
    "Consider the script below:"
   ]
  },
  {
   "cell_type": "code",
   "execution_count": 12,
   "metadata": {},
   "outputs": [
    {
     "name": "stdout",
     "output_type": "stream",
     "text": [
      "5 10\n",
      "10 10\n"
     ]
    }
   ],
   "source": [
    "# Assignment Operator\n",
    "x = 5\n",
    "y = 10\n",
    "print (x,y)\n",
    "x=y # reverse order y=x and re-run, what happens?\n",
    "print (x,y)"
   ]
  },
  {
   "cell_type": "markdown",
   "metadata": {},
   "source": [
    "So look at what happened. When we assigned values to the variables named `x` and `y`, they started life as 5 and 10. \n",
    "We then wrote those values to the console, and the program returned 5 and 10. \n",
    "Then we assigned `y` to `x` which took the value in y and replaced the value that was in x with this value. \n",
    "We then wrote the contents again, and both variables have the value 10.\n",
    "\n",
    "## What's with the hash symbol # ?\n",
    "\n",
    "> Comments in a code cell are added by writing a hashtag symbol (#) followed by any text of your choice. Any text that follows the hashtag symbol on the same line is ignored by the Python interpreter.  In a Markdown cell the symbol is used to delimit headings.  In a raw cell its just a character.\n",
    "\n",
    "Its a pretty common comment symbol, some languages use any letter in the first column (FORTRAN) which allows something called conditional compilation, other symbols are:\n",
    "\n",
    " - % Tex/LaTex\n",
    " - \\**  Javascript \n",
    " - <!-- --!> in HTML and Javascript\n",
    " - = =  PERL\n",
    " - /* */ in C\n",
    "\n",
    "## About Commenting\n",
    "\n",
    "When you are writing a program/notebook, your intent is always clear and self-evident to you. Odd thing, a month later, when you return to the program, it is quite confusing and unclear. No one is certain how the confusion creeps into a program, but it nearly always does.\n",
    "\n",
    "To fight the bafflement, and to help yourself others understand your code, you need to use comments. Comments are text that is ignored by the interpreter, but that can inform the reader of what you are doing at any particular point in your program.\n",
    "\n",
    "Some recommend writing comments at the top of each function, explaining what the function does and what values it returns. Functions should be named so that little ambiguity exists about what they do, and confusing and obscure bits of code should be redesigned and rewritten so as to be self-evident. Comments should not be used to clarify obscure code; instead, fix the code. In short, you should write your code well, and use comments to supplement understanding. \n",
    "\n",
    "Comments that state the obvious are counterproductive because the code might change and the programmer might neglect to update the comment. What is obvious to one person might be obscure to another, however, so judgment is required when adding comments. The bottom line is that **comments** should not say what is happening, they **should say why it is happening**."
   ]
  },
  {
   "cell_type": "markdown",
   "metadata": {},
   "source": [
    "___\n",
    "## <font color=purple>Arithmetic Operators</font>\n",
    "\n",
    "In addition to assignment we can also perform arithmetic operations on variables. The\n",
    "fundamental arithmetic operators are:\n",
    "\n",
    "| Symbol | Meaning | Example |\n",
    "|:---|:---|:---|\n",
    "| = |Assignment| x=3 Assigns value of 3 to x.|\n",
    "| + |Addition| x+y Adds values in x and y.|\n",
    "| - |Subtraction| x-y Subtracts values in y from x.|\n",
    "|$*$ |Multiplication| x*y Multiplies values in x and y.|\n",
    "| / |Division| x/y Divides value in x by value in y.|\n",
    "| // |Floor division| x//y Divide x by y, truncate result to whole number.|\n",
    "| % |Modulus| x%y Returns remainder when x is divided by y.|\n",
    "|$**$ |Exponentation| x$**$y Raises value in x by value in y. ( e.g. xy)|\n",
    "| += |Additive assignment| x+=2 Equivalent to x = x+2.|\n",
    "| -= |Subtractive assignment| x-=2 Equivalent to x = x-2.|\n",
    "| *= |Multiplicative assignment| x\\*=3 Equivalent to x = x\\*3.|\n",
    "| /= |Divide assignment| x/3 Equivalent to x = x/3.|\n",
    "\n",
    "Run the script in the next cell for some illustrative results"
   ]
  },
  {
   "cell_type": "code",
   "execution_count": 3,
   "metadata": {},
   "outputs": [
    {
     "name": "stdout",
     "output_type": "stream",
     "text": [
      "10 5\n",
      "15\n",
      "5\n",
      "50\n",
      "2.0\n",
      "2\n",
      "1\n",
      "100000\n"
     ]
    }
   ],
   "source": [
    "# Uniary Arithmetic Operators\n",
    "x = 10\n",
    "y = 5\n",
    "print(x, y)\n",
    "print(x+y)\n",
    "print(x-y)\n",
    "print(x*y)\n",
    "print(x/y)\n",
    "print((x+1)//y)\n",
    "print((x+1)%y)\n",
    "print(x**y)"
   ]
  },
  {
   "cell_type": "code",
   "execution_count": 14,
   "metadata": {},
   "outputs": [
    {
     "name": "stdout",
     "output_type": "stream",
     "text": [
      "<class 'int'> 3\n",
      "<class 'int'> -1\n",
      "<class 'int'> 3\n",
      "<class 'float'> 5.0\n"
     ]
    }
   ],
   "source": [
    "# Arithmetic assignment operators\n",
    "x = 1\n",
    "x += 2\n",
    "print(type(x),x)\n",
    "x = 1\n",
    "x -= 2\n",
    "print(type(x),x)\n",
    "x = 1\n",
    "x *=3\n",
    "print(type(x),x)\n",
    "x = 10\n",
    "x /= 2\n",
    "print(type(x),x)  # Interesting what division does to variable type"
   ]
  },
  {
   "cell_type": "markdown",
   "metadata": {},
   "source": [
    "___\n",
    "## <font color=purple>Data Type</font>\n",
    "In the computer data are all binary digits (actually 0 and +5 volts). \n",
    "At a higher level of abstraction data are typed into integers, real, or alphanumeric representation. \n",
    "The type affects the kind of arithmetic operations that are allowed (as well as the kind of arithmetic - integer versus real arithmetic; lexicographical ordering of alphanumeric , etc.)\n",
    "In scientific programming, a common (and really difficult to detect) source of slight inaccuracies (that tend to snowball as the program runs) is mixed mode arithmetic required because two numeric values are of different types (integer and real).\n",
    "\n",
    "Learn more from the textbook\n",
    "\n",
    "https://www.inferentialthinking.com/chapters/04/Data_Types.html\n",
    "\n",
    "Here we present a quick summary\n",
    "\n",
    "### <font color=purple>Integer</font>\n",
    "Integers are numbers without any fractional portion (nothing after the decimal point { which\n",
    "is not used in integers). Numbers like -3, -2, -1, 0, 1, 2, 200 are integers. A number like 1.1\n",
    "is not an integer, and 1.0 is also not an integer (the presence of the decimal point makes the\n",
    "number a real).\n",
    "\n",
    "To declare an integer in Python, just assign the variable name to an integer for example\n",
    "\n",
    "    MyPhoneNumber = 14158576309\n",
    "    \n",
    "### <font color=purple>Real (Float)</font>\n",
    "A real or float is a number that has (or can have) a fractional portion - the number has\n",
    "decimal parts. The numbers 3.14159, -0.001, 11.11, 1., are all floats. \n",
    "The last one is especially tricky, if you don't notice the decimal point you might think it is an integer but the\n",
    "inclusion of the decimal point in Python tells the program that the value is to be treated as a \n",
    "float.\n",
    "To declare a \n",
    "float in Python, just assign the variable name to a \n",
    "float for example\n",
    "\n",
    "    MyMassInKilos = 74.8427\n",
    "\n",
    "### <font color=purple>String(Alphanumeric)</font>\n",
    "A string is a data type that is treated as text elements. The usual letters are strings, but\n",
    "numbers can be included. The numbers in a string are simply characters and cannot be\n",
    "directly used in arithmetic. \n",
    "There are some kinds of arithmetic that can be performed on strings but generally we process string variables to capture the text nature of their contents. \n",
    "To declare a string in Python, just assign the variable name to a string value - the trick is the value is enclosed in quotes. \n",
    "The quotes are delimiters that tell the program that the characters between the quotes are characters and are to be treated as literal representation.\n",
    "\n",
    "For example\n",
    "\n",
    "    MyName = 'Theodore'\n",
    "    MyCatName = \"Dusty\"\n",
    "    DustyMassInKilos = \"7.48427\"\n",
    "    \n",
    "are all string variables. \n",
    "The last assignment is made a string on purpose. \n",
    "String variables can be combined using an operation called concatenation. \n",
    "The symbol for concatenation is the plus symbol `+`.\n",
    "\n",
    "Strings can also be converted to all upper case using the `upper()` function. The syntax for\n",
    "the `upper()` function is `'string to be upper case'.upper()`. \n",
    "Notice the \"dot\" in the syntax. \n",
    "The operation passes everything to the left of the dot to the function which then\n",
    "operates on that content and returns the result all upper case (or an error if the input stream\n",
    "is not a string)."
   ]
  },
  {
   "cell_type": "code",
   "execution_count": 30,
   "metadata": {},
   "outputs": [
    {
     "name": "stdout",
     "output_type": "stream",
     "text": [
      "All about me\n",
      "Name:  Theodore  Mass : 74.8427 Kg\n",
      "Phone :  14158576309\n",
      "My cat's name : Dusty\n",
      "All about concatenation!\n",
      "A Silly String :  DustyTheodore7.48427\n",
      "A SILLY STRING :   DUSTYTHEODORE7.48427\n",
      "Theo\n"
     ]
    }
   ],
   "source": [
    "# Variable Types Example\n",
    "MyPhoneNumber = 14158576309\n",
    "MyMassInKilos = 74.8427\n",
    "MyName = 'Theodore'\n",
    "MyCatName = \"Dusty\"\n",
    "DustyMassInKilos = \"7.48427\"\n",
    "print(\"All about me\")\n",
    "print(\"Name: \",MyName, \" Mass :\",MyMassInKilos,\"Kg\" )\n",
    "print('Phone : ',MyPhoneNumber)\n",
    "print('My cat\\'s name :', MyCatName)  # the \\ escape character is used to get the ' into the literal\n",
    "print(\"All about concatenation!\")\n",
    "print(\"A Silly String : \",MyCatName+MyName+DustyMassInKilos)\n",
    "print(\"A SILLY STRING :  \", (MyCatName+MyName+DustyMassInKilos).upper())\n",
    "print(MyName[0:4])    # Notice how the string is sliced- This is Python: ALWAYS start counting from zero!"
   ]
  },
  {
   "cell_type": "markdown",
   "metadata": {},
   "source": [
    "Strings can be formatted using the `%` operator or the `format()` function. The concepts will\n",
    "be introduced later on as needed in the workbook, you can Google search for examples of\n",
    "how to do such formatting.\n",
    "\n",
    "### <font color=purple>Changing Types</font>\n",
    "A variable type can be changed. \n",
    "This activity is called type casting. \n",
    "Three functions allow\n",
    "type casting: `int()`, `float()`, and `str()`. \n",
    "The function names indicate the result of using\n",
    "the function, hence `int()` returns an integer, `float()` returns a \n",
    "oat, and `str()` returns a\n",
    "string.\n",
    "\n",
    "There is also the useful function `type()` which returns the type of variable.\n",
    "\n",
    "The easiest way to understand is to see an example. "
   ]
  },
  {
   "cell_type": "code",
   "execution_count": 7,
   "metadata": {},
   "outputs": [
    {
     "name": "stdout",
     "output_type": "stream",
     "text": [
      "234 876.543 What is your name?\n",
      "Integer as float 234.0\n",
      "Float as integer 876\n",
      "Integer as string 234\n",
      "Integer as hexadecimal 0xea\n",
      "Integer Type <class 'int'>\n"
     ]
    }
   ],
   "source": [
    "# Type Casting Examples\n",
    "MyInteger = 234\n",
    "MyFloat = 876.543\n",
    "MyString = 'What is your name?'\n",
    "print(MyInteger,MyFloat,MyString)\n",
    "print('Integer as float',float(MyInteger))\n",
    "print('Float as integer',int(MyFloat))\n",
    "print('Integer as string',str(MyInteger))\n",
    "print('Integer as hexadecimal',hex(MyInteger))\n",
    "print('Integer Type',type((MyInteger)))  # insert the hex conversion and see what happens!"
   ]
  },
  {
   "cell_type": "markdown",
   "metadata": {},
   "source": [
    "___\n",
    "## <font color=purple>Expressions</font>\n",
    "\n",
    "Expressions are the \"algebraic\" constructions that are evaluated and then placed into a variable.\n",
    "\n",
    "Consider\n",
    "\n",
    "    x1 = 7 + 3 * 6 / 2 - 1\n",
    "\n",
    "The expression is evaluated from the left to right and in words is\n",
    "\n",
    "    Into the object named x1 place the result of:\n",
    "    \n",
    "    integer 7 + (integer 6 divide by integer 2 = float 3 * integer 3 = float 9 - integer 1 = float 8) = float 15\n",
    "\n",
    "The division operation by default produces a float result unless forced otherwise.  The result is the variable `x1` is a float with a value of `15.0`\n",
    "    "
   ]
  },
  {
   "cell_type": "code",
   "execution_count": 4,
   "metadata": {},
   "outputs": [
    {
     "name": "stdout",
     "output_type": "stream",
     "text": [
      "<class 'int'> 15\n"
     ]
    }
   ],
   "source": [
    "# Expressions Example\n",
    "x1 = 7 + 3 * 6 // 2 - 1  # Change / into // and see what happens!\n",
    "print(type(x1),x1)\n",
    "## Simple I/O (Input/Output)"
   ]
  },
  {
   "cell_type": "markdown",
   "metadata": {},
   "source": [
    "### Example: Simple Input/Output\n",
    "\n",
    "Here we introduce some I/O we will spend more time in later lessons on more elaborate constructs, but this gets us away from explicit assignment and lest us have some script interactions\n",
    "\n",
    "Get two floating point numbers via the `input()` function and store them under the variable names `float1` and `float2`. Then, compare them, and try a few operations on them!\n",
    "\n",
    "    float1 = input(\"Please enter float1: \")\n",
    "    float1 = float(float1) \n",
    "    ...\n",
    "    \n",
    "Print `float1` and `float2` to the output screen.  \n",
    "\n",
    "    print(\"float1:\", float1)\n",
    "    ...\n",
    "\n",
    "Then check whether `float1` is greater than or equal to `float2`.\n"
   ]
  },
  {
   "cell_type": "code",
   "execution_count": 22,
   "metadata": {},
   "outputs": [
    {
     "name": "stdout",
     "output_type": "stream",
     "text": [
      "Please enter float1: 2.5\n",
      "Please enter float2: 5\n"
     ]
    }
   ],
   "source": [
    "float1 = input(\"Please enter float1: \")\n",
    "float2 = input(\"Please enter float2: \")"
   ]
  },
  {
   "cell_type": "code",
   "execution_count": 23,
   "metadata": {},
   "outputs": [
    {
     "name": "stdout",
     "output_type": "stream",
     "text": [
      "float1: 2.5\n",
      "float2: 5\n"
     ]
    }
   ],
   "source": [
    "print(\"float1:\", float1)\n",
    "print(\"float2:\", float2)"
   ]
  },
  {
   "cell_type": "code",
   "execution_count": 24,
   "metadata": {},
   "outputs": [],
   "source": [
    "float1 = float(float1)\n",
    "float2 = float(float2)"
   ]
  },
  {
   "cell_type": "code",
   "execution_count": 25,
   "metadata": {},
   "outputs": [
    {
     "name": "stdout",
     "output_type": "stream",
     "text": [
      "float1: 2.5\n",
      "float2: 5.0\n"
     ]
    }
   ],
   "source": [
    "print(\"float1:\", float1)\n",
    "print(\"float2:\", float2)"
   ]
  },
  {
   "cell_type": "code",
   "execution_count": 26,
   "metadata": {},
   "outputs": [
    {
     "data": {
      "text/plain": [
       "False"
      ]
     },
     "execution_count": 26,
     "metadata": {},
     "output_type": "execute_result"
    }
   ],
   "source": [
    "float1>float2"
   ]
  },
  {
   "cell_type": "code",
   "execution_count": 27,
   "metadata": {},
   "outputs": [
    {
     "data": {
      "text/plain": [
       "7.5"
      ]
     },
     "execution_count": 27,
     "metadata": {},
     "output_type": "execute_result"
    }
   ],
   "source": [
    "float1+float2"
   ]
  },
  {
   "cell_type": "code",
   "execution_count": 28,
   "metadata": {},
   "outputs": [
    {
     "data": {
      "text/plain": [
       "0.5"
      ]
     },
     "execution_count": 28,
     "metadata": {},
     "output_type": "execute_result"
    }
   ],
   "source": [
    "float1/float2"
   ]
  },
  {
   "cell_type": "markdown",
   "metadata": {},
   "source": [
    "___\n",
    "## Readings\n",
    "\n",
    "\n",
    "*Here are some great reads on this topic:* \n",
    "- \"Variables in Python\" by John Sturtz available at [https://realpython.com/python-variables/](https://realpython.com/python-variables/) <br>\n",
    "- __\"A Beginner’s Guide To Python Variables\"__ by __Avijeet Biswal__ available at [https://www.simplilearn.com/tutorials/python-tutorial/python-variables](https://www.simplilearn.com/tutorials/python-tutorial/python-variables) <br>\n",
    "- __\"A Very Basic Introduction to Variables in Python\"__ by __Dr. Python__ available at [https://medium.com/@doctorsmonsters/a-very-basic-introduction-to-variables-in-python-4231e36dac52](https://medium.com/@doctorsmonsters/a-very-basic-introduction-to-variables-in-python-4231e36dac5) <br>\n",
    "\n",
    "\n",
    "*Here are some great videos on these topics:* \n",
    "- __\"Python Tutorial for Absolute Beginners #1 - What Are Variables?\"__ by __CS Dojo__ available at [https://www.youtube.com/watch?v=Z1Yd7upQsXY](https://www.youtube.com/watch?v=Z1Yd7upQsXY)<br>\n",
    "- __\"#4 Python Tutorial for Beginners | Variables in Python\"__ by __Telusko__ available at *[https://www.youtube.com/watch?v=TqPzwenhMj0](https://www.youtube.com/watch?v=TqPzwenhMj0) <br>\n",
    "- __\"Variables and Types in Python\"__ by __DataCamp__ available at *[https://www.youtube.com/watch?v=OH86oLzVzzw](https://www.youtube.com/watch?v=OH86oLzVzzw) <br>"
   ]
  }
 ],
 "metadata": {
  "kernelspec": {
   "display_name": "Python 3",
   "language": "python",
   "name": "python3"
  },
  "language_info": {
   "codemirror_mode": {
    "name": "ipython",
    "version": 3
   },
   "file_extension": ".py",
   "mimetype": "text/x-python",
   "name": "python",
   "nbconvert_exporter": "python",
   "pygments_lexer": "ipython3",
   "version": "3.8.10"
  }
 },
 "nbformat": 4,
 "nbformat_minor": 4
}
