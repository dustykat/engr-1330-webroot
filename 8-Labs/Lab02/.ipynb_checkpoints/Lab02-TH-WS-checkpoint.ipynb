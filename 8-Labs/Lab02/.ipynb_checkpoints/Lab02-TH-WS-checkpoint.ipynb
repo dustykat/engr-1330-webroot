{
 "cells": [
  {
   "cell_type": "markdown",
   "metadata": {},
   "source": [
    "**Download** (right-click, save target as ...) this page as a jupyterlab notebook from:\n",
    "\n",
    "[Laboratory 2 - HW](https://atomickitty.ddns.net/engr-1330-webroot/8-Labs/Lab02/Lab02-TH.ipynb)\n",
    "\n",
    "___\n"
   ]
  },
  {
   "cell_type": "markdown",
   "metadata": {},
   "source": [
    "# <font color=darkblue>Laboratory 2: First Steps ... </font>\n",
    "\n",
    "**LAST NAME, FIRST NAME**\n",
    "\n",
    "**R00000000**\n",
    "\n",
    "ENGR 1330 Laboratory 2 - Homework\n"
   ]
  },
  {
   "cell_type": "markdown",
   "metadata": {},
   "source": [
    "Notice the code cell below!  From this notebook forward please include and run the script in the cell, it will help in debugging a notebook. Its ok if the code makes no sense right now - mostly the cell executes system commands. As you change machines, and rerun the cell the output will change (its supposed to!)"
   ]
  },
  {
   "cell_type": "code",
   "execution_count": 7,
   "metadata": {},
   "outputs": [
    {
     "name": "stdout",
     "output_type": "stream",
     "text": [
      "atomickitty\n",
      "sensei\n",
      "/opt/jupyterhub/bin/python3\n",
      "3.8.10 (default, Jun  2 2021, 10:49:15) \n",
      "[GCC 9.4.0]\n",
      "sys.version_info(major=3, minor=8, micro=10, releaselevel='final', serial=0)\n"
     ]
    }
   ],
   "source": [
    "# Preamble script block to identify host, user, and kernel\n",
    "import sys\n",
    "! hostname\n",
    "! whoami\n",
    "print(sys.executable)\n",
    "print(sys.version)\n",
    "print(sys.version_info)"
   ]
  },
  {
   "cell_type": "markdown",
   "metadata": {},
   "source": [
    "## Exercise 1\n",
    "\n",
    "The cell below is type RAW, change it into a code cell and activate (suppress the comments) and run the script.\n",
    "\n",
    "What is the value of area? "
   ]
  },
  {
   "cell_type": "code",
   "execution_count": 8,
   "metadata": {},
   "outputs": [],
   "source": [
    "# Demonstrate some assignment operations\n",
    "width = 4\n",
    "length = width\n",
    "length += 2\n",
    "area = length * width"
   ]
  },
  {
   "cell_type": "markdown",
   "metadata": {},
   "source": [
    "Copy your working script below and add necessary code to output the value of area."
   ]
  },
  {
   "cell_type": "code",
   "execution_count": 9,
   "metadata": {},
   "outputs": [
    {
     "name": "stdout",
     "output_type": "stream",
     "text": [
      "Value of area is  24\n"
     ]
    }
   ],
   "source": [
    "# copy here\n",
    "print('Value of area is ',area)"
   ]
  },
  {
   "cell_type": "markdown",
   "metadata": {},
   "source": [
    "## Exercise 2\n",
    "\n",
    "Change the RAW cell below into a Code cell, and run the script (fix any syntax errors)"
   ]
  },
  {
   "cell_type": "code",
   "execution_count": 21,
   "metadata": {},
   "outputs": [
    {
     "name": "stdout",
     "output_type": "stream",
     "text": [
      "integers and reals\n",
      "x1 =  1.0  y1 =  1.0  z1 =  1\n",
      "x2 =  5.0  y2 =  5.0  z2 =  5\n",
      "x1/x2 =  0.2  y1/y2 =  0.2  z1/z2 =  0\n"
     ]
    }
   ],
   "source": [
    "# data types\n",
    "print ('integers and reals')\n",
    "x1 = 1.0\n",
    "y1 = 1.\n",
    "z1 = 1\n",
    "x2 = 5.0\n",
    "y2 = 5.\n",
    "z2 = 5\n",
    "print ('x1 = ', x1, ' y1 = ', y1, ' z1 = ', z1)\n",
    "print ('x2 = ', x2, ' y2 = ', y2, ' z2 = ', z2)\n",
    "print ('x1/x2 = ',x1/x2,' y1/y2 = ',y1/y2,' z1/z2 = ',z1//z2)"
   ]
  },
  {
   "cell_type": "markdown",
   "metadata": {},
   "source": [
    "a. Of the six variables, which are integers?"
   ]
  },
  {
   "cell_type": "code",
   "execution_count": 14,
   "metadata": {},
   "outputs": [
    {
     "name": "stdout",
     "output_type": "stream",
     "text": [
      "x1 is type:  <class 'float'>\n",
      "y1 is type:  <class 'float'>\n",
      "z1 is type:  <class 'int'>\n",
      "x2 is type:  <class 'float'>\n",
      "y2 is type:  <class 'float'>\n",
      "z2 is type:  <class 'int'>\n"
     ]
    }
   ],
   "source": [
    "# put your answer here\n",
    "print('x1 is type: ',type(x1))\n",
    "print('y1 is type: ',type(y1))\n",
    "print('z1 is type: ',type(z1))\n",
    "print('x2 is type: ',type(x2))\n",
    "print('y2 is type: ',type(y2))\n",
    "print('z2 is type: ',type(z2))"
   ]
  },
  {
   "cell_type": "code",
   "execution_count": 15,
   "metadata": {},
   "outputs": [
    {
     "name": "stdout",
     "output_type": "stream",
     "text": [
      "z1 and z2 are integer, rest are real (floats)\n"
     ]
    }
   ],
   "source": [
    "print('z1 and z2 are integer, rest are real (floats)')"
   ]
  },
  {
   "cell_type": "markdown",
   "metadata": {},
   "source": [
    "b. What is the difference (in effect) between x1=1.0 and y1=1.?"
   ]
  },
  {
   "cell_type": "code",
   "execution_count": 16,
   "metadata": {},
   "outputs": [
    {
     "name": "stdout",
     "output_type": "stream",
     "text": [
      "0xffff8549ad50\n",
      "0xffff8549ad70\n"
     ]
    }
   ],
   "source": [
    "# put your answer here\n",
    "print(hex(id(x1))) # give the memory location of x1\n",
    "print(hex(id(y1))) # give the memory location of x1"
   ]
  },
  {
   "cell_type": "code",
   "execution_count": 18,
   "metadata": {},
   "outputs": [
    {
     "name": "stdout",
     "output_type": "stream",
     "text": [
      "1.0\n",
      "1.0\n"
     ]
    }
   ],
   "source": [
    "# now the contents, again in hex just because\n",
    "print(x1) # give the contents location of x1\n",
    "print(y1) # give the contents location of x1"
   ]
  },
  {
   "cell_type": "code",
   "execution_count": 19,
   "metadata": {},
   "outputs": [
    {
     "name": "stdout",
     "output_type": "stream",
     "text": [
      "The two variables have different locations, but identical values!\n"
     ]
    }
   ],
   "source": [
    "print('The two variables have different locations, but identical values!')"
   ]
  },
  {
   "cell_type": "markdown",
   "metadata": {},
   "source": [
    "c. Examine the division results; Why does z1//z2 return a value of 0?"
   ]
  },
  {
   "cell_type": "code",
   "execution_count": 22,
   "metadata": {},
   "outputs": [
    {
     "name": "stdout",
     "output_type": "stream",
     "text": [
      "Floor division returns how many integer times the denominator divides the numerator. In the example, the value is zero with remainder one\n"
     ]
    }
   ],
   "source": [
    "# put your answer here\n",
    "print('Floor division returns how many integer times the denominator divides the numerator. In the example, the value is zero with remainder one')"
   ]
  },
  {
   "cell_type": "markdown",
   "metadata": {},
   "source": [
    "___\n",
    "## Exercise 3\n",
    "\n",
    "Exploring arithmetic. First define three variables a,b, and c."
   ]
  },
  {
   "cell_type": "code",
   "execution_count": 23,
   "metadata": {},
   "outputs": [],
   "source": [
    "# change this cell to CODE to run\n",
    "a = 21\n",
    "b = 10\n",
    "c = 0"
   ]
  },
  {
   "cell_type": "markdown",
   "metadata": {},
   "source": [
    "Then change the cell below to code and run it."
   ]
  },
  {
   "cell_type": "code",
   "execution_count": 24,
   "metadata": {},
   "outputs": [
    {
     "name": "stdout",
     "output_type": "stream",
     "text": [
      "Value of c is  31\n"
     ]
    }
   ],
   "source": [
    "# change this cell to CODE to run\n",
    "c = a + b\n",
    "print (\"Value of c is \", c)"
   ]
  },
  {
   "cell_type": "markdown",
   "metadata": {},
   "source": [
    "Now using the example in the cell above,  exaluate the following expressions in the indicated cells below:"
   ]
  },
  {
   "cell_type": "code",
   "execution_count": 25,
   "metadata": {},
   "outputs": [
    {
     "name": "stdout",
     "output_type": "stream",
     "text": [
      "Value of c is  11\n"
     ]
    }
   ],
   "source": [
    "#c = a - b\n",
    "c = a - b\n",
    "print (\"Value of c is \", c)"
   ]
  },
  {
   "cell_type": "code",
   "execution_count": 26,
   "metadata": {},
   "outputs": [
    {
     "name": "stdout",
     "output_type": "stream",
     "text": [
      "Value of c is  210\n"
     ]
    }
   ],
   "source": [
    "#c = a * b\n",
    "c = a * b\n",
    "print (\"Value of c is \", c)"
   ]
  },
  {
   "cell_type": "code",
   "execution_count": 27,
   "metadata": {},
   "outputs": [
    {
     "name": "stdout",
     "output_type": "stream",
     "text": [
      "Value of c is  31\n"
     ]
    }
   ],
   "source": [
    "#c = a / b\n",
    "c = a + b\n",
    "print (\"Value of c is \", c)"
   ]
  },
  {
   "cell_type": "code",
   "execution_count": 28,
   "metadata": {},
   "outputs": [
    {
     "name": "stdout",
     "output_type": "stream",
     "text": [
      "Value of c is  1\n"
     ]
    }
   ],
   "source": [
    "#c = a % b\n",
    "c = a % b\n",
    "print (\"Value of c is \", c)"
   ]
  },
  {
   "cell_type": "code",
   "execution_count": 29,
   "metadata": {},
   "outputs": [
    {
     "name": "stdout",
     "output_type": "stream",
     "text": [
      "Value of c is  8\n"
     ]
    }
   ],
   "source": [
    "#a = 2, b = 3, c = a** b\n",
    "a = 2\n",
    "b = 3\n",
    "c = pow(a,b)\n",
    "print (\"Value of c is \", c)"
   ]
  },
  {
   "cell_type": "code",
   "execution_count": 30,
   "metadata": {},
   "outputs": [
    {
     "name": "stdout",
     "output_type": "stream",
     "text": [
      "Value of c is  2\n"
     ]
    }
   ],
   "source": [
    "#a = 10, b = 5, c = a//b\n",
    "a = 10\n",
    "b = 5\n",
    "c = a // b\n",
    "print (\"Value of c is \", c)"
   ]
  }
 ],
 "metadata": {
  "kernelspec": {
   "display_name": "Python 3",
   "language": "python",
   "name": "python3"
  },
  "language_info": {
   "codemirror_mode": {
    "name": "ipython",
    "version": 3
   },
   "file_extension": ".py",
   "mimetype": "text/x-python",
   "name": "python",
   "nbconvert_exporter": "python",
   "pygments_lexer": "ipython3",
   "version": "3.8.10"
  }
 },
 "nbformat": 4,
 "nbformat_minor": 4
}
