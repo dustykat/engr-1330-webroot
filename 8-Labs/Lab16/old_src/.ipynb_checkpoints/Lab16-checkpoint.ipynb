{
 "cells": [
  {
   "cell_type": "markdown",
   "metadata": {},
   "source": [
    "**Download** (right-click, save target as ...) this page as a jupyterlab notebook from: (LINK NEEDS FIXING!)\n",
    "\n",
    "[Lab16](https://atomickitty.ddns.net:8000/user/sensei/files/engr-1330-webroot/engr-1330-webbook/ctds-psuedocourse/docs/8-Labs/Lab8/Lab9_Dev.ipynb?_xsrf=2%7C1b4d47c3%7C0c3aca0c53606a3f4b71c448b09296ae%7C1623531240)\n",
    "\n",
    "___"
   ]
  },
  {
   "cell_type": "markdown",
   "metadata": {},
   "source": [
    "# <font color=darkred>Laboratory 16: \"Functions for Probability Modeling\"</font>"
   ]
  },
  {
   "cell_type": "code",
   "execution_count": 3,
   "metadata": {},
   "outputs": [
    {
     "name": "stdout",
     "output_type": "stream",
     "text": [
      "DESKTOP-EH6HD63\n",
      "desktop-eh6hd63\\farha\n",
      "C:\\Users\\Farha\\Anaconda3\\python.exe\n",
      "3.7.4 (default, Aug  9 2019, 18:34:13) [MSC v.1915 64 bit (AMD64)]\n",
      "sys.version_info(major=3, minor=7, micro=4, releaselevel='final', serial=0)\n"
     ]
    }
   ],
   "source": [
    "# Preamble script block to identify host, user, and kernel\n",
    "import sys\n",
    "! hostname\n",
    "! whoami\n",
    "print(sys.executable)\n",
    "print(sys.version)\n",
    "print(sys.version_info)"
   ]
  },
  {
   "cell_type": "markdown",
   "metadata": {},
   "source": [
    "## Full name: \n",
    "## R#: \n",
    "## Title of the notebook:\n",
    "## Date:\n",
    "___"
   ]
  },
  {
   "cell_type": "markdown",
   "metadata": {},
   "source": [
    "![](https://qph.fs.quoracdn.net/main-qimg-5436df4f7719276c692a841e1afb72a6)\n",
    "\n"
   ]
  },
  {
   "cell_type": "markdown",
   "metadata": {},
   "source": [
    "### Important Terminology:\n",
    "__Population:__ In statistics, a population is the entire pool from which a statistical sample is drawn. A population may refer to an entire group of people, objects, events, hospital visits, or measurements. <br>\n",
    "__Sample:__ In statistics and quantitative research methodology, a sample is a set of individuals or objects collected or selected from a statistical population by a defined procedure. The elements of a sample are known as sample points, sampling units or observations.<br>\n",
    "__Distribution (Data Model):__ A data distribution is a special function or a listing which shows all the possible values (or intervals) of the data. It also (and this is important) tells you how often each value occurs. <br>\n",
    "\n",
    "__*From https://www.investopedia.com/terms*__<br>\n",
    "__*https://www.statisticshowto.com/data-distribution/*__"
   ]
  },
  {
   "cell_type": "markdown",
   "metadata": {},
   "source": [
    "### Important Steps in going from samples to population:\n",
    "1. __Get descriptive statistics- mean, variance, std. dev.__\n",
    "2. __Use plotting position formulas (e.g., weibull, gringorten, cunnane) and plot the SAMPLES (data you already have)__\n",
    "3. __Use different data models (e.g., normal, log-normal, Gumbell) and find the one that better FITs your samples- Visual or Numerical__\n",
    "4. __Use the data model that provides the best fit to infer about the POPULATION__"
   ]
  },
  {
   "cell_type": "markdown",
   "metadata": {},
   "source": [
    "# Estimate the magnitude of the annual peak flow at Spring Ck near Spring, TX.\n",
    "\n",
    "The file `08068500.pkf` is an actual WATSTORE formatted file for a USGS gage at Spring Creek, Texas. The first few lines of the file look like:\n",
    "\n",
    "    Z08068500                       USGS \n",
    "    H08068500       3006370952610004848339SW12040102409    409     72.6             \n",
    "    N08068500       Spring Ck nr Spring, TX\n",
    "    Y08068500       \n",
    "    308068500       19290530  483007              34.30        1879          \n",
    "    308068500       19390603    838               13.75                    \n",
    "    308068500       19400612   3420               21.42                    \n",
    "    308068500       19401125  42700               33.60                    \n",
    "    308068500       19420409  14200               27.78                    \n",
    "    308068500       19430730   8000               25.09                    \n",
    "    308068500       19440319   5260               23.15                    \n",
    "    308068500       19450830  31100               32.79                    \n",
    "    308068500       19460521  12200               27.97                 \n",
    "    \n",
    "The first column are some agency codes that identify the station , the second column after the fourth row is a date in YYYYMMDD format, the third column is a discharge in CFS, the fourth and fifth column are not relevant for this laboratory exercise.  The file was downloadef from\n",
    "\n",
    "https://nwis.waterdata.usgs.gov/tx/nwis/peak?site_no=08068500&agency_cd=USGS&format=hn2\n",
    "\n",
    "In the original file there are a couple of codes that are manually removed:\n",
    "\n",
    "- 19290530  483007;  the trailing 7 is a code identifying a break in the series (non-sequential)\n",
    "- 20170828  784009; the trailing 9 identifies the historical peak\n",
    "\n",
    "The laboratory task is to fit the data models to this data, decide the best model from visual perspective, and report from that data model the magnitudes of peak flow associated with the probebilitiess below (i.e. populate the table)\n",
    "\n",
    "|Exceedence Probability|Flow Value|Remarks|\n",
    "|:---|:---|:---|\n",
    "|25% |????| 75% chance of greater value|           \n",
    "|50% |????| 50% chance of greater value|            \n",
    "|75% |????| 25% chance of greater value|            \n",
    "|90% |????| 10% chance of greater value|\n",
    "|99% |????| 1% chance of greater value (in flood statistics, this is the 1 in 100-yr chance event)|\n",
    "|99.8%|????| 0.002% chance of greater value (in flood statistics, this is the 1 in 500-yr chance event)|\n",
    "|99.9%|????| 0.001% chance of greater value (in flood statistics, this is the 1 in 1000-yr chance event)|\n",
    "\n",
    "The first step is to read the file, skipping the first part, then build a dataframe:\n"
   ]
  },
  {
   "cell_type": "code",
   "execution_count": 50,
   "metadata": {},
   "outputs": [],
   "source": [
    "# Read the data file\n",
    "amatrix = [] # null list to store matrix reads\n",
    "rowNumA = 0\n",
    "matrix1=[]\n",
    "col0=[]\n",
    "col1=[]\n",
    "col2=[]\n",
    "with open('08068500.pkf','r') as afile:\n",
    "    lines_after_4 = afile.readlines()[4:]\n",
    "afile.close() # Disconnect the file\n",
    "howmanyrows = len(lines_after_4)\n",
    "for i in range(howmanyrows):\n",
    "    matrix1.append(lines_after_4[i].strip().split())\n",
    "for i in range(howmanyrows):\n",
    "    col0.append(int(matrix1[i][0]))\n",
    "    col1.append(matrix1[i][1])\n",
    "    col2.append(int(matrix1[i][2])) #We need to conver it to integers \n",
    "# col2 is date, col3 is peak flow\n",
    "#now build a datafranem"
   ]
  },
  {
   "cell_type": "code",
   "execution_count": 51,
   "metadata": {},
   "outputs": [],
   "source": [
    "import pandas \n",
    "df = pandas.DataFrame(col0)\n",
    "df['date']= col1\n",
    "df['flow']= col2"
   ]
  },
  {
   "cell_type": "code",
   "execution_count": 52,
   "metadata": {},
   "outputs": [
    {
     "data": {
      "text/html": [
       "<div>\n",
       "<style scoped>\n",
       "    .dataframe tbody tr th:only-of-type {\n",
       "        vertical-align: middle;\n",
       "    }\n",
       "\n",
       "    .dataframe tbody tr th {\n",
       "        vertical-align: top;\n",
       "    }\n",
       "\n",
       "    .dataframe thead th {\n",
       "        text-align: right;\n",
       "    }\n",
       "</style>\n",
       "<table border=\"1\" class=\"dataframe\">\n",
       "  <thead>\n",
       "    <tr style=\"text-align: right;\">\n",
       "      <th></th>\n",
       "      <th>0</th>\n",
       "      <th>date</th>\n",
       "      <th>flow</th>\n",
       "    </tr>\n",
       "  </thead>\n",
       "  <tbody>\n",
       "    <tr>\n",
       "      <td>0</td>\n",
       "      <td>308068500</td>\n",
       "      <td>19290530</td>\n",
       "      <td>48300</td>\n",
       "    </tr>\n",
       "    <tr>\n",
       "      <td>1</td>\n",
       "      <td>308068500</td>\n",
       "      <td>19390603</td>\n",
       "      <td>838</td>\n",
       "    </tr>\n",
       "    <tr>\n",
       "      <td>2</td>\n",
       "      <td>308068500</td>\n",
       "      <td>19400612</td>\n",
       "      <td>3420</td>\n",
       "    </tr>\n",
       "    <tr>\n",
       "      <td>3</td>\n",
       "      <td>308068500</td>\n",
       "      <td>19401125</td>\n",
       "      <td>42700</td>\n",
       "    </tr>\n",
       "    <tr>\n",
       "      <td>4</td>\n",
       "      <td>308068500</td>\n",
       "      <td>19420409</td>\n",
       "      <td>14200</td>\n",
       "    </tr>\n",
       "  </tbody>\n",
       "</table>\n",
       "</div>"
      ],
      "text/plain": [
       "           0      date   flow\n",
       "0  308068500  19290530  48300\n",
       "1  308068500  19390603    838\n",
       "2  308068500  19400612   3420\n",
       "3  308068500  19401125  42700\n",
       "4  308068500  19420409  14200"
      ]
     },
     "execution_count": 52,
     "metadata": {},
     "output_type": "execute_result"
    }
   ],
   "source": [
    "df.head()"
   ]
  },
  {
   "cell_type": "markdown",
   "metadata": {},
   "source": [
    "Now explore if you can plot the dataframe as a plot of peaks versus date."
   ]
  },
  {
   "cell_type": "code",
   "execution_count": 53,
   "metadata": {},
   "outputs": [
    {
     "data": {
      "text/plain": [
       "[<matplotlib.lines.Line2D at 0x2289cf2e648>]"
      ]
     },
     "execution_count": 53,
     "metadata": {},
     "output_type": "execute_result"
    },
    {
     "data": {
      "image/png": "[encoded data removed]",
      "text/plain": [
       "<Figure size 720x360 with 1 Axes>"
      ]
     },
     "metadata": {
      "needs_background": "light"
     },
     "output_type": "display_data"
    }
   ],
   "source": [
    "import matplotlib.pyplot # the python plotting library\n",
    "import numpy as np\n",
    "\n",
    "date = df['date']\n",
    "flow = df['flow']\n",
    "\n",
    "# Plot here\n",
    "myfigure = matplotlib.pyplot.figure(figsize = (10,5)) # generate an object from the figure class, set aspect ratio\n",
    "\n",
    "matplotlib.pyplot.plot(date,flow, color ='blue')\n",
    "\n"
   ]
  },
  {
   "cell_type": "markdown",
   "metadata": {},
   "source": [
    "From here on you can proceede using the lecture notebook as a go-by, although you should use functions as much as practical to keep your work concise"
   ]
  },
  {
   "cell_type": "code",
   "execution_count": 23,
   "metadata": {},
   "outputs": [
    {
     "data": {
      "text/plain": [
       "count       80.000000\n",
       "mean     11197.800000\n",
       "std      15022.831582\n",
       "min        381.000000\n",
       "25%       3360.000000\n",
       "50%       7190.000000\n",
       "75%      11500.000000\n",
       "max      78800.000000\n",
       "Name: flow, dtype: float64"
      ]
     },
     "execution_count": 23,
     "metadata": {},
     "output_type": "execute_result"
    }
   ],
   "source": [
    "# Descriptive Statistics\n",
    "flow.describe()"
   ]
  },
  {
   "cell_type": "code",
   "execution_count": 54,
   "metadata": {},
   "outputs": [],
   "source": [
    "# Weibull Plotting Position Function\n",
    "# sort the flow in place!\n",
    "flow1 = np.array(flow)\n",
    "flow1.sort()\n",
    "# built a relative frequency approximation to probability, assume each pick is equally likely\n",
    "weibull_pp = []\n",
    "for i in range(0,len(flow1),1):\n",
    "    weibull_pp.append((i+1)/(len(flow1)+1))"
   ]
  },
  {
   "cell_type": "code",
   "execution_count": 55,
   "metadata": {},
   "outputs": [
    {
     "name": "stdout",
     "output_type": "stream",
     "text": [
      "[  381   407   408   838  1010  1300  1330  1400  1400  1420  1430  1590\n",
      "  1770  2400  2430  2970  2970  3010  3150  3180  3420  3560  3570  3850\n",
      "  3900  4130  4600  4640  4660  5260  5260  5280  5410  5520  5550  5830\n",
      "  5980  6600  6720  7040  7340  7340  7500  7560  7700  8000  8230  8350\n",
      "  8590  8640  8750  8760  9120  9610  9860 10000 10300 10400 10700 11300\n",
      " 12100 12200 12500 14000 14200 14600 14700 15400 19300 19300 20400 20700\n",
      " 23300 30200 31100 42700 48300 60000 78400 78800]\n"
     ]
    }
   ],
   "source": [
    "print(flow1)"
   ]
  },
  {
   "cell_type": "code",
   "execution_count": 56,
   "metadata": {},
   "outputs": [
    {
     "name": "stdout",
     "output_type": "stream",
     "text": [
      "[0.012345679012345678, 0.024691358024691357, 0.037037037037037035, 0.04938271604938271, 0.06172839506172839, 0.07407407407407407, 0.08641975308641975, 0.09876543209876543, 0.1111111111111111, 0.12345679012345678, 0.13580246913580246, 0.14814814814814814, 0.16049382716049382, 0.1728395061728395, 0.18518518518518517, 0.19753086419753085, 0.20987654320987653, 0.2222222222222222, 0.2345679012345679, 0.24691358024691357, 0.25925925925925924, 0.2716049382716049, 0.2839506172839506, 0.2962962962962963, 0.30864197530864196, 0.32098765432098764, 0.3333333333333333, 0.345679012345679, 0.35802469135802467, 0.37037037037037035, 0.38271604938271603, 0.3950617283950617, 0.4074074074074074, 0.41975308641975306, 0.43209876543209874, 0.4444444444444444, 0.4567901234567901, 0.4691358024691358, 0.48148148148148145, 0.49382716049382713, 0.5061728395061729, 0.5185185185185185, 0.5308641975308642, 0.5432098765432098, 0.5555555555555556, 0.5679012345679012, 0.5802469135802469, 0.5925925925925926, 0.6049382716049383, 0.6172839506172839, 0.6296296296296297, 0.6419753086419753, 0.654320987654321, 0.6666666666666666, 0.6790123456790124, 0.691358024691358, 0.7037037037037037, 0.7160493827160493, 0.7283950617283951, 0.7407407407407407, 0.7530864197530864, 0.7654320987654321, 0.7777777777777778, 0.7901234567901234, 0.8024691358024691, 0.8148148148148148, 0.8271604938271605, 0.8395061728395061, 0.8518518518518519, 0.8641975308641975, 0.8765432098765432, 0.8888888888888888, 0.9012345679012346, 0.9135802469135802, 0.9259259259259259, 0.9382716049382716, 0.9506172839506173, 0.9629629629629629, 0.9753086419753086, 0.9876543209876543]\n"
     ]
    }
   ],
   "source": [
    "print(weibull_pp)"
   ]
  },
  {
   "cell_type": "code",
   "execution_count": 59,
   "metadata": {},
   "outputs": [
    {
     "data": {
      "text/plain": [
       "<matplotlib.collections.PathCollection at 0x2289d221488>"
      ]
     },
     "execution_count": 59,
     "metadata": {},
     "output_type": "execute_result"
    },
    {
     "data": {
      "image/png": "[encoded data removed]",
      "text/plain": [
       "<Figure size 864x360 with 1 Axes>"
      ]
     },
     "metadata": {
      "needs_background": "light"
     },
     "output_type": "display_data"
    }
   ],
   "source": [
    "myfigure = matplotlib.pyplot.figure(figsize = (12,5)) # generate a object from the figure class, set aspect ratio\n",
    "matplotlib.pyplot.scatter(weibull_pp, flow1 ,color ='blue') "
   ]
  },
  {
   "cell_type": "markdown",
   "metadata": {},
   "source": [
    "> __What is Weibull function?__\n",
    "The Weibull plotting position for the rth ranked (from largest to smallest) datum from a sample of size n is the quotient <br>\n",
    "r / (n+1) <br>\n",
    "It is recommended for use __when the form of the underlying distribution is unknown__ and when unbiased exceedance probabilities are desired. <br>\n",
    "*From Glossary of Meteorology @ https://glossary.ametsoc.org/wiki/Weibull_plotting_position#:~:text=The%20Weibull%20plotting%20position%20for,unbiased%20exceedance%20probabilities%20are%20desired*"
   ]
  },
  {
   "cell_type": "code",
   "execution_count": 60,
   "metadata": {},
   "outputs": [],
   "source": [
    "# Normal Quantile Function\n",
    "import math\n",
    "\n",
    "def normdist(x,mu,sigma):\n",
    "    argument = (x - mu)/(math.sqrt(2.0)*sigma)    \n",
    "    normdist = (1.0 + math.erf(argument))/2.0\n",
    "    return normdist\n",
    "\n",
    "mu = flow1.mean() # Fitted Model\n",
    "sigma = flow1.std()\n",
    "x = []; ycdf = []\n",
    "xlow = 0; xhigh = 1.2*max(flow1) ; howMany = 100\n",
    "xstep = (xhigh - xlow)/howMany\n",
    "for i in range(0,howMany+1,1):\n",
    "    x.append(xlow + i*xstep)\n",
    "    yvalue = normdist(xlow + i*xstep,mu,sigma)\n",
    "    ycdf.append(yvalue) \n"
   ]
  },
  {
   "cell_type": "code",
   "execution_count": 63,
   "metadata": {},
   "outputs": [
    {
     "data": {
      "image/png": "[encoded data removed]",
      "text/plain": [
       "<Figure size 864x360 with 1 Axes>"
      ]
     },
     "metadata": {
      "needs_background": "light"
     },
     "output_type": "display_data"
    }
   ],
   "source": [
    "# Fitting Data to Normal Data Model \n",
    "# Now plot the sample values and plotting position\n",
    "myfigure = matplotlib.pyplot.figure(figsize = (12,5)) # generate a object from the figure class, set aspect ratio\n",
    "matplotlib.pyplot.scatter(weibull_pp, flow1 ,color ='blue') \n",
    "matplotlib.pyplot.plot(ycdf, x, color ='red') \n",
    "matplotlib.pyplot.xlabel(\"Quantile Value\") \n",
    "matplotlib.pyplot.ylabel(\"Value of Flow\") \n",
    "mytitle = \"Normal Distribution Data Model sample mean = : \" + str(mu)+ \" sample variance =:\" + str(sigma**2)\n",
    "matplotlib.pyplot.title(mytitle) \n",
    "matplotlib.pyplot.show()"
   ]
  },
  {
   "cell_type": "markdown",
   "metadata": {},
   "source": [
    "## Normal Distribution Data Model\n",
    "|Exceedence Probability|Flow Value|Remarks|\n",
    "|:---|:---|:---|\n",
    "|25% |????| 75% chance of greater value|           \n",
    "|50% |????| 50% chance of greater value|            \n",
    "|75% |????| 25% chance of greater value|            \n",
    "|90% |????| 10% chance of greater value|\n",
    "|99% |????| 1% chance of greater value (in flood statistics, this is the 1 in 100-yr chance event)|\n",
    "|99.8%|????| 0.002% chance of greater value (in flood statistics, this is the 1 in 500-yr chance event)|\n",
    "|99.9%|????| 0.001% chance of greater value (in flood statistics, this is the 1 in 1000-yr chance event)|\n",
    "\n",
    "<hr>"
   ]
  },
  {
   "cell_type": "code",
   "execution_count": 29,
   "metadata": {},
   "outputs": [
    {
     "name": "stdout",
     "output_type": "stream",
     "text": [
      "1128.5828928044123\n",
      "0.2499999999999999\n",
      "11197.800000000001\n",
      "0.5\n",
      "21267.01710719559\n",
      "0.7500000000000001\n",
      "30329.626604901816\n",
      "0.9\n",
      "54164.850888691755\n",
      "0.998\n",
      "57330.776807175724\n",
      "0.9990000000000001\n"
     ]
    }
   ],
   "source": [
    "from scipy.optimize import newton\n",
    "\n",
    "myguess = 1200\n",
    "def f(x):\n",
    "    mu = flow1.mean()\n",
    "    sigma = flow1.std()\n",
    "    quantile = 0.25\n",
    "    argument = (x - mu)/(math.sqrt(2.0)*sigma)    \n",
    "    normdist = (1.0 + math.erf(argument))/2.0\n",
    "    return normdist - quantile\n",
    "\n",
    "print(newton(f, myguess))\n",
    "print(normdist(newton(f, myguess),mu,sigma))\n",
    "\n",
    "#############################\n",
    "def f(x):\n",
    "    mu = flow1.mean()\n",
    "    sigma = flow1.std()\n",
    "    quantile = 0.50\n",
    "    argument = (x - mu)/(math.sqrt(2.0)*sigma)    \n",
    "    normdist = (1.0 + math.erf(argument))/2.0\n",
    "    return normdist - quantile\n",
    "\n",
    "print(newton(f, myguess))\n",
    "print(normdist(newton(f, myguess),mu,sigma))\n",
    "#############################\n",
    "def f(x):\n",
    "    mu = flow1.mean()\n",
    "    sigma = flow1.std()\n",
    "    quantile = 0.75\n",
    "    argument = (x - mu)/(math.sqrt(2.0)*sigma)    \n",
    "    normdist = (1.0 + math.erf(argument))/2.0\n",
    "    return normdist - quantile\n",
    "\n",
    "print(newton(f, myguess))\n",
    "print(normdist(newton(f, myguess),mu,sigma))\n",
    "#############################\n",
    "def f(x):\n",
    "    mu = flow1.mean()\n",
    "    sigma = flow1.std()\n",
    "    quantile = 0.90\n",
    "    argument = (x - mu)/(math.sqrt(2.0)*sigma)    \n",
    "    normdist = (1.0 + math.erf(argument))/2.0\n",
    "    return normdist - quantile\n",
    "\n",
    "print(newton(f, myguess))\n",
    "print(normdist(newton(f, myguess),mu,sigma))\n",
    "#############################\n",
    "def f(x):\n",
    "    mu = flow1.mean()\n",
    "    sigma = flow1.std()\n",
    "    quantile = 0.998\n",
    "    argument = (x - mu)/(math.sqrt(2.0)*sigma)    \n",
    "    normdist = (1.0 + math.erf(argument))/2.0\n",
    "    return normdist - quantile\n",
    "\n",
    "print(newton(f, myguess))\n",
    "print(normdist(newton(f, myguess),mu,sigma))\n",
    "#############################\n",
    "def f(x):\n",
    "    mu = flow1.mean()\n",
    "    sigma = flow1.std()\n",
    "    quantile = 0.999\n",
    "    argument = (x - mu)/(math.sqrt(2.0)*sigma)    \n",
    "    normdist = (1.0 + math.erf(argument))/2.0\n",
    "    return normdist - quantile\n",
    "\n",
    "print(newton(f, myguess))\n",
    "print(normdist(newton(f, myguess),mu,sigma))"
   ]
  },
  {
   "cell_type": "markdown",
   "metadata": {},
   "source": [
    "|Exceedence Probability|Flow Value|Remarks|\n",
    "|:---|:---|:---|\n",
    "|25% |1128.58| 75% chance of greater value|           \n",
    "|50% |11197.80| 50% chance of greater value|            \n",
    "|75% |30329.63| 25% chance of greater value|            \n",
    "|90% |54164.85| 10% chance of greater value|\n",
    "|99% |????| 1% chance of greater value (in flood statistics, this is the 1 in 100-yr chance event)|\n",
    "|99.8%|54164.85| 0.002% chance of greater value (in flood statistics, this is the 1 in 500-yr chance event)|\n",
    "|99.9%|57330.78| 0.001% chance of greater value (in flood statistics, this is the 1 in 1000-yr chance event)|\n",
    "\n",
    "<hr>"
   ]
  },
  {
   "cell_type": "code",
   "execution_count": 64,
   "metadata": {},
   "outputs": [],
   "source": [
    "# Log-Normal Quantile Function\n",
    "def loggit(x):  # A prototype function to log transform x\n",
    "    return(math.log(x))\n",
    "\n",
    "flow2 = df['flow'].apply(loggit).tolist() # put the peaks into a list\n",
    "flow2_mean = np.array(flow2).mean()\n",
    "flow2_variance = np.array(flow2).std()**2\n",
    "flow2.sort() # sort the sample in place!\n",
    "weibull_pp = [] # built a relative frequency approximation to probability, assume each pick is equally likely\n",
    "for i in range(0,len(flow2),1):\n",
    "    weibull_pp.append((i+1)/(len(flow2)+1))\n",
    "################\n",
    "mu = flow2_mean # Fitted Model in Log Space\n",
    "sigma = math.sqrt(flow2_variance)\n",
    "x = []; ycdf = []\n",
    "xlow = 1; xhigh = 1.05*max(flow2) ; howMany = 100\n",
    "xstep = (xhigh - xlow)/howMany\n",
    "for i in range(0,howMany+1,1):\n",
    "    x.append(xlow + i*xstep)\n",
    "    yvalue = normdist(xlow + i*xstep,mu,sigma)\n",
    "    ycdf.append(yvalue) "
   ]
  },
  {
   "cell_type": "code",
   "execution_count": 65,
   "metadata": {},
   "outputs": [
    {
     "data": {
      "image/png": "[encoded data removed]",
      "text/plain": [
       "<Figure size 504x648 with 1 Axes>"
      ]
     },
     "metadata": {
      "needs_background": "light"
     },
     "output_type": "display_data"
    }
   ],
   "source": [
    "# Fitting Data to Log-Normal Data Model\n",
    "# Now plot the sample values and plotting position\n",
    "myfigure = matplotlib.pyplot.figure(figsize = (7,9)) # generate a object from the figure class, set aspect ratio\n",
    "matplotlib.pyplot.scatter(weibull_pp, flow2 ,color ='blue') \n",
    "matplotlib.pyplot.plot(ycdf, x, color ='red') \n",
    "matplotlib.pyplot.xlabel(\"Quantile Value\") \n",
    "matplotlib.pyplot.ylabel(\"log of Flow\") \n",
    "mytitle = \"Log Normal Data Model log sample mean = : \" + str(flow2_mean)+ \" log sample variance  =:\" + str(flow2_variance)\n",
    "matplotlib.pyplot.title(mytitle) \n",
    "matplotlib.pyplot.show()"
   ]
  },
  {
   "cell_type": "code",
   "execution_count": 66,
   "metadata": {},
   "outputs": [
    {
     "data": {
      "image/png": "[encoded data removed]",
      "text/plain": [
       "<Figure size 504x648 with 1 Axes>"
      ]
     },
     "metadata": {
      "needs_background": "light"
     },
     "output_type": "display_data"
    }
   ],
   "source": [
    "def antiloggit(x):  # A prototype function to log transform x\n",
    "    return(math.exp(x))\n",
    "\n",
    "flow3 = df['flow'].tolist() # pull original list\n",
    "flow3.sort() # sort in place\n",
    "################\n",
    "mu = flow2_mean # Fitted Model in Log Space\n",
    "sigma = math.sqrt(flow2_variance)\n",
    "x = []; ycdf = []\n",
    "xlow = 1; xhigh = 1.05*max(flow2) ; howMany = 100\n",
    "xstep = (xhigh - xlow)/howMany\n",
    "for i in range(0,howMany+1,1):\n",
    "    x.append(antiloggit(xlow + i*xstep))\n",
    "    yvalue = normdist(xlow + i*xstep,mu,sigma)\n",
    "    ycdf.append(yvalue) \n",
    "# Now plot the sample values and plotting position\n",
    "myfigure = matplotlib.pyplot.figure(figsize = (7,9)) # generate a object from the figure class, set aspect ratio\n",
    "matplotlib.pyplot.scatter(weibull_pp, flow3 ,color ='blue') \n",
    "matplotlib.pyplot.plot(ycdf, x, color ='red') \n",
    "matplotlib.pyplot.xlabel(\"Quantile Value\") \n",
    "matplotlib.pyplot.ylabel(\"Value of Flow\") \n",
    "mytitle = \"Log Normal Data Model sample log mean = : \" + str((flow2_mean))+ \" sample log variance  =:\" + str((flow2_variance))\n",
    "matplotlib.pyplot.title(mytitle) \n",
    "matplotlib.pyplot.show()"
   ]
  },
  {
   "cell_type": "markdown",
   "metadata": {},
   "source": [
    "## Log-Normal Distribution Data Model\n",
    "|Exceedence Probability|Flow Value|Remarks|\n",
    "|:---|:---|:---|\n",
    "|25% |????| 75% chance of greater value|           \n",
    "|50% |????| 50% chance of greater value|            \n",
    "|75% |????| 25% chance of greater value|            \n",
    "|90% |????| 10% chance of greater value|\n",
    "|99% |????| 1% chance of greater value (in flood statistics, this is the 1 in 100-yr chance event)|\n",
    "|99.8%|????| 0.002% chance of greater value (in flood statistics, this is the 1 in 500-yr chance event)|\n",
    "|99.9%|????| 0.001% chance of greater value (in flood statistics, this is the 1 in 1000-yr chance event)|\n",
    "\n",
    "<hr>"
   ]
  },
  {
   "cell_type": "code",
   "execution_count": 34,
   "metadata": {},
   "outputs": [
    {
     "name": "stdout",
     "output_type": "stream",
     "text": [
      "2930.9043006567786\n",
      "0.2500000000000001\n",
      "6214.9579846906345\n",
      "0.5\n",
      "13178.766274563899\n",
      "0.7500000000000001\n",
      "25922.5572160778\n",
      "0.9000000000000002\n",
      "83048.86984807049\n",
      "0.99\n",
      "153602.4541787375\n",
      "0.998\n",
      "194551.74365124086\n",
      "0.9990000000000001\n"
     ]
    }
   ],
   "source": [
    "from scipy.optimize import newton\n",
    "myguess = 4000\n",
    "\n",
    "def f(x):\n",
    "    mu = 8.734714243614741\n",
    "    sigma = 1.1143949244101454\n",
    "    quantile = 0.25\n",
    "    argument = (loggit(x) - mu)/(math.sqrt(2.0)*sigma)    \n",
    "    normdist = (1.0 + math.erf(argument))/2.0\n",
    "    return normdist - quantile\n",
    "\n",
    "print(newton(f, myguess))\n",
    "print(normdist(loggit(newton(f, myguess)),mu,sigma))\n",
    "##################################################\n",
    "def f(x):\n",
    "    mu = 8.734714243614741\n",
    "    sigma = 1.1143949244101454\n",
    "    quantile = 0.50\n",
    "    argument = (loggit(x) - mu)/(math.sqrt(2.0)*sigma)    \n",
    "    normdist = (1.0 + math.erf(argument))/2.0\n",
    "    return normdist - quantile\n",
    "\n",
    "print(newton(f, myguess))\n",
    "print(normdist(loggit(newton(f, myguess)),mu,sigma))\n",
    "##################################################\n",
    "def f(x):\n",
    "    mu = 8.734714243614741\n",
    "    sigma = 1.1143949244101454\n",
    "    quantile = 0.75\n",
    "    argument = (loggit(x) - mu)/(math.sqrt(2.0)*sigma)    \n",
    "    normdist = (1.0 + math.erf(argument))/2.0\n",
    "    return normdist - quantile\n",
    "\n",
    "print(newton(f, myguess))\n",
    "print(normdist(loggit(newton(f, myguess)),mu,sigma))\n",
    "##################################################\n",
    "def f(x):\n",
    "    mu = 8.734714243614741\n",
    "    sigma = 1.1143949244101454\n",
    "    quantile = 0.90\n",
    "    argument = (loggit(x) - mu)/(math.sqrt(2.0)*sigma)    \n",
    "    normdist = (1.0 + math.erf(argument))/2.0\n",
    "    return normdist - quantile\n",
    "\n",
    "print(newton(f, myguess))\n",
    "print(normdist(loggit(newton(f, myguess)),mu,sigma))\n",
    "##################################################\n",
    "def f(x):\n",
    "    mu = 8.734714243614741\n",
    "    sigma = 1.1143949244101454\n",
    "    quantile = 0.99\n",
    "    argument = (loggit(x) - mu)/(math.sqrt(2.0)*sigma)    \n",
    "    normdist = (1.0 + math.erf(argument))/2.0\n",
    "    return normdist - quantile\n",
    "\n",
    "print(newton(f, myguess))\n",
    "print(normdist(loggit(newton(f, myguess)),mu,sigma))\n",
    "##################################################\n",
    "def f(x):\n",
    "    mu = 8.734714243614741\n",
    "    sigma = 1.1143949244101454\n",
    "    quantile = 0.998\n",
    "    argument = (loggit(x) - mu)/(math.sqrt(2.0)*sigma)    \n",
    "    normdist = (1.0 + math.erf(argument))/2.0\n",
    "    return normdist - quantile\n",
    "\n",
    "print(newton(f, myguess))\n",
    "print(normdist(loggit(newton(f, myguess)),mu,sigma))\n",
    "##################################################\n",
    "def f(x):\n",
    "    mu = 8.734714243614741\n",
    "    sigma = 1.1143949244101454\n",
    "    quantile = 0.999\n",
    "    argument = (loggit(x) - mu)/(math.sqrt(2.0)*sigma)    \n",
    "    normdist = (1.0 + math.erf(argument))/2.0\n",
    "    return normdist - quantile\n",
    "\n",
    "print(newton(f, myguess))\n",
    "print(normdist(loggit(newton(f, myguess)),mu,sigma))\n",
    "##################################################"
   ]
  },
  {
   "cell_type": "code",
   "execution_count": 67,
   "metadata": {},
   "outputs": [],
   "source": [
    "# Gumbell EV1 Quantile Function\n",
    "def ev1dist(x,alpha,beta):\n",
    "    argument = (x - alpha)/beta\n",
    "    constant = 1.0/beta\n",
    "    ev1dist = math.exp(-1.0*math.exp(-1.0*argument))\n",
    "    return ev1dist\n",
    "\n",
    "flow4 = df['flow'].tolist() # put the peaks into a list\n",
    "flow4_mean = np.array(flow4).mean()\n",
    "flow4_variance = np.array(flow4).std()**2\n",
    "alpha_mom = flow4_mean*math.sqrt(6)/math.pi\n",
    "beta_mom = math.sqrt(flow4_variance)*0.45\n",
    "flow4.sort() # sort the sample in place!\n",
    "weibull_pp = [] # built a relative frequency approximation to probability, assume each pick is equally likely\n",
    "for i in range(0,len(flow4),1):\n",
    "    weibull_pp.append((i+1)/(len(flow4)+1))\n",
    "################\n",
    "mu = flow4_mean # Fitted Model\n",
    "sigma = math.sqrt(flow4_variance)\n",
    "x = []; ycdf = []\n",
    "xlow = 0; xhigh = 1.2*max(flow4) ; howMany = 100\n",
    "xstep = (xhigh - xlow)/howMany\n",
    "for i in range(0,howMany+1,1):\n",
    "    x.append(xlow + i*xstep)\n",
    "    yvalue = ev1dist(xlow + i*xstep,alpha_mom,beta_mom)\n",
    "    ycdf.append(yvalue) "
   ]
  },
  {
   "cell_type": "code",
   "execution_count": 68,
   "metadata": {},
   "outputs": [
    {
     "data": {
      "image/png": "[encoded data removed]",
      "text/plain": [
       "<Figure size 504x576 with 1 Axes>"
      ]
     },
     "metadata": {
      "needs_background": "light"
     },
     "output_type": "display_data"
    }
   ],
   "source": [
    "# Fitting Data to Gumbell EV1 Data Model \n",
    "# Now plot the sample values and plotting position\n",
    "myfigure = matplotlib.pyplot.figure(figsize = (7,8)) # generate a object from the figure class, set aspect ratio\n",
    "matplotlib.pyplot.scatter(weibull_pp, flow4 ,color ='blue') \n",
    "matplotlib.pyplot.plot(ycdf, x, color ='red') \n",
    "matplotlib.pyplot.xlabel(\"Quantile Value\") \n",
    "matplotlib.pyplot.ylabel(\"Value of Flow\") \n",
    "mytitle = \"Extreme Value Type 1 Distribution Data Model sample mean = : \" + str(flow4_mean)+ \" sample variance =:\" + str(flow4_variance)\n",
    "matplotlib.pyplot.title(mytitle) \n",
    "matplotlib.pyplot.show()"
   ]
  },
  {
   "cell_type": "markdown",
   "metadata": {},
   "source": [
    "## Gumbell Double Exponential (EV1) Distribution Data Model\n",
    "|Exceedence Probability|Flow Value|Remarks|\n",
    "|:---|:---|:---|\n",
    "|25% |????| 75% chance of greater value|           \n",
    "|50% |????| 50% chance of greater value|            \n",
    "|75% |????| 25% chance of greater value|            \n",
    "|90% |????| 10% chance of greater value|\n",
    "|99% |????| 1% chance of greater value (in flood statistics, this is the 1 in 100-yr chance event)|\n",
    "|99.8%|????| 0.002% chance of greater value (in flood statistics, this is the 1 in 500-yr chance event)|\n",
    "|99.9%|????| 0.001% chance of greater value (in flood statistics, this is the 1 in 1000-yr chance event)|\n",
    "\n",
    "<hr>"
   ]
  },
  {
   "cell_type": "code",
   "execution_count": 37,
   "metadata": {},
   "outputs": [
    {
     "name": "stdout",
     "output_type": "stream",
     "text": [
      "6536.595933014118\n",
      "0.25\n",
      "11193.082189211951\n",
      "0.5\n",
      "17100.702987342494\n",
      "0.7499999999999999\n",
      "23848.60817221199\n",
      "0.9\n",
      "39634.18362687675\n",
      "0.99\n",
      "50473.21664381971\n",
      "0.998\n",
      "55133.066049399946\n",
      "0.999\n"
     ]
    }
   ],
   "source": [
    "from scipy.optimize import newton\n",
    "\n",
    "myguess= 4000\n",
    "def f(x):\n",
    "    alpha = 8730.888840854457\n",
    "    beta = 6717.889629784229\n",
    "    quantile = 0.25\n",
    "    argument = (x - alpha)/beta\n",
    "    constant = 1.0/beta\n",
    "    ev1dist = math.exp(-1.0*math.exp(-1.0*argument))\n",
    "    return ev1dist - quantile\n",
    "\n",
    "print(newton(f, myguess))\n",
    "print(ev1dist(newton(f, myguess),alpha_mom,beta_mom))\n",
    "##############################################################\n",
    "def f(x):\n",
    "    alpha = 8730.888840854457\n",
    "    beta = 6717.889629784229\n",
    "    quantile = 0.50\n",
    "    argument = (x - alpha)/beta\n",
    "    constant = 1.0/beta\n",
    "    ev1dist = math.exp(-1.0*math.exp(-1.0*argument))\n",
    "    return ev1dist - quantile\n",
    "\n",
    "print(newton(f, myguess))\n",
    "print(ev1dist(newton(f, myguess),alpha_mom,beta_mom))\n",
    "##############################################################\n",
    "def f(x):\n",
    "    alpha = 8730.888840854457\n",
    "    beta = 6717.889629784229\n",
    "    quantile = 0.75\n",
    "    argument = (x - alpha)/beta\n",
    "    constant = 1.0/beta\n",
    "    ev1dist = math.exp(-1.0*math.exp(-1.0*argument))\n",
    "    return ev1dist - quantile\n",
    "\n",
    "print(newton(f, myguess))\n",
    "print(ev1dist(newton(f, myguess),alpha_mom,beta_mom))\n",
    "##############################################################\n",
    "def f(x):\n",
    "    alpha = 8730.888840854457\n",
    "    beta = 6717.889629784229\n",
    "    quantile = 0.90\n",
    "    argument = (x - alpha)/beta\n",
    "    constant = 1.0/beta\n",
    "    ev1dist = math.exp(-1.0*math.exp(-1.0*argument))\n",
    "    return ev1dist - quantile\n",
    "\n",
    "print(newton(f, myguess))\n",
    "print(ev1dist(newton(f, myguess),alpha_mom,beta_mom))\n",
    "##############################################################\n",
    "def f(x):\n",
    "    alpha = 8730.888840854457\n",
    "    beta = 6717.889629784229\n",
    "    quantile = 0.99\n",
    "    argument = (x - alpha)/beta\n",
    "    constant = 1.0/beta\n",
    "    ev1dist = math.exp(-1.0*math.exp(-1.0*argument))\n",
    "    return ev1dist - quantile\n",
    "\n",
    "print(newton(f, myguess))\n",
    "print(ev1dist(newton(f, myguess),alpha_mom,beta_mom))\n",
    "##############################################################\n",
    "def f(x):\n",
    "    alpha = 8730.888840854457\n",
    "    beta = 6717.889629784229\n",
    "    quantile = 0.998\n",
    "    argument = (x - alpha)/beta\n",
    "    constant = 1.0/beta\n",
    "    ev1dist = math.exp(-1.0*math.exp(-1.0*argument))\n",
    "    return ev1dist - quantile\n",
    "\n",
    "print(newton(f, myguess))\n",
    "print(ev1dist(newton(f, myguess),alpha_mom,beta_mom))\n",
    "##############################################################\n",
    "def f(x):\n",
    "    alpha = 8730.888840854457\n",
    "    beta = 6717.889629784229\n",
    "    quantile = 0.999\n",
    "    argument = (x - alpha)/beta\n",
    "    constant = 1.0/beta\n",
    "    ev1dist = math.exp(-1.0*math.exp(-1.0*argument))\n",
    "    return ev1dist - quantile\n",
    "\n",
    "print(newton(f, myguess))\n",
    "print(ev1dist(newton(f, myguess),alpha_mom,beta_mom))\n",
    "##############################################################"
   ]
  },
  {
   "cell_type": "code",
   "execution_count": 69,
   "metadata": {},
   "outputs": [],
   "source": [
    "# Gamma (Pearson Type III) Quantile Function\n",
    "import scipy.stats # import scipy stats package\n",
    "import math        # import math package\n",
    "import numpy       # import numpy package\n",
    "# log and antilog\n",
    "def loggit(x):  # A prototype function to log transform x\n",
    "    return(math.log(x))\n",
    "def antiloggit(x):  # A prototype function to log transform x\n",
    "    return(math.exp(x))\n",
    "def weibull_pp(sample): # plotting position function\n",
    "# returns a list of plotting positions; sample must be a numeric list\n",
    "    weibull_pp = [] # null list to return after fill\n",
    "    sample.sort() # sort the sample list in place\n",
    "    for i in range(0,len(sample),1):\n",
    "        weibull_pp.append((i+1)/(len(sample)+1))\n",
    "    return weibull_pp\n",
    "def gammacdf(x,tau,alpha,beta): # Gamma Cumulative Density function - with three parameter to one parameter convert\n",
    "    xhat = x-tau\n",
    "    lamda = 1.0/beta\n",
    "    gammacdf = scipy.stats.gamma.cdf(lamda*xhat, alpha)\n",
    "    return gammacdf"
   ]
  },
  {
   "cell_type": "code",
   "execution_count": 70,
   "metadata": {},
   "outputs": [],
   "source": [
    "flow5 = df['flow'].tolist() # put the log peaks into a list\n",
    "flow5_mean  = np.array(flow5).mean()\n",
    "flow5_stdev = np.array(flow5).std()\n",
    "flow5_skew  = scipy.stats.skew(flow5)\n",
    "flow5_alpha = 4.0/(flow5_skew**2)\n",
    "flow5_beta  = np.sign(flow5_skew)*math.sqrt(flow5_stdev**2/flow5_alpha)\n",
    "flow5_tau   = flow5_mean - flow5_alpha*flow5_beta\n",
    "#\n",
    "plotting = weibull_pp(flow5)\n",
    "#\n",
    "x = []; ycdf = []\n",
    "xlow = (0.9*min(flow5)); xhigh = (1.1*max(flow5)) ; howMany = 100\n",
    "xstep = (xhigh - xlow)/howMany\n",
    "for i in range(0,howMany+1,1):\n",
    "    x.append(xlow + i*xstep)\n",
    "    yvalue = gammacdf(xlow + i*xstep,flow5_tau,flow5_alpha,flow5_beta)\n",
    "    ycdf.append(yvalue) "
   ]
  },
  {
   "cell_type": "code",
   "execution_count": 71,
   "metadata": {},
   "outputs": [
    {
     "data": {
      "image/png": "[encoded data removed]",
      "text/plain": [
       "<Figure size 504x576 with 1 Axes>"
      ]
     },
     "metadata": {
      "needs_background": "light"
     },
     "output_type": "display_data"
    }
   ],
   "source": [
    "# Fitting Data to Pearson (Gamma) III Data Model \n",
    "# This is new, in lecture the fit was to log-Pearson, same procedure, but not log transformed\n",
    "myfigure = matplotlib.pyplot.figure(figsize = (7,8)) # generate a object from the figure class, set aspect ratio\n",
    "matplotlib.pyplot.scatter(plotting, flow5 ,color ='blue') \n",
    "matplotlib.pyplot.plot(ycdf, x, color ='red') \n",
    "matplotlib.pyplot.xlabel(\"Quantile Value\") \n",
    "matplotlib.pyplot.ylabel(\"Value of Flow\") \n",
    "mytitle = \"Pearson (Gamma) Type III Distribution Data Model\\n \"\n",
    "mytitle += \"Mean = \" + str(flow5_mean) + \"\\n\"\n",
    "mytitle += \"SD = \" + str(flow5_stdev) + \"\\n\"\n",
    "mytitle += \"Skew = \" + str(flow5_skew) + \"\\n\"\n",
    "matplotlib.pyplot.title(mytitle) \n",
    "matplotlib.pyplot.show()"
   ]
  },
  {
   "cell_type": "markdown",
   "metadata": {},
   "source": [
    "## Pearson III Distribution Data Model \n",
    "|Exceedence Probability|Flow Value|Remarks|\n",
    "|:---|:---|:---|\n",
    "|25% |????| 75% chance of greater value|           \n",
    "|50% |????| 50% chance of greater value|            \n",
    "|75% |????| 25% chance of greater value|            \n",
    "|90% |????| 10% chance of greater value|\n",
    "|99% |????| 1% chance of greater value (in flood statistics, this is the 1 in 100-yr chance event)|\n",
    "|99.8%|????| 0.002% chance of greater value (in flood statistics, this is the 1 in 500-yr chance event)|\n",
    "|99.9%|????| 0.001% chance of greater value (in flood statistics, this is the 1 in 1000-yr chance event)|\n",
    "\n",
    "<hr>"
   ]
  },
  {
   "cell_type": "code",
   "execution_count": 41,
   "metadata": {},
   "outputs": [
    {
     "name": "stdout",
     "output_type": "stream",
     "text": [
      "1356.6347332854966\n",
      "0.43456260236933913\n",
      "22646.13938948754\n"
     ]
    }
   ],
   "source": [
    "print(flow5_tau)\n",
    "print(flow5_alpha)\n",
    "print(flow5_beta)"
   ]
  },
  {
   "cell_type": "code",
   "execution_count": 42,
   "metadata": {},
   "outputs": [
    {
     "name": "stdout",
     "output_type": "stream",
     "text": [
      "2077.9070960392946\n",
      "0.25\n",
      "5267.02594598091\n",
      "0.5\n",
      "14029.404138740409\n",
      "0.75\n",
      "28734.914752838442\n",
      "0.9\n",
      "71869.9637302461\n",
      "0.99\n",
      "104294.440621576\n",
      "0.998\n",
      "118564.83951972787\n",
      "0.999\n"
     ]
    }
   ],
   "source": [
    "from scipy.optimize import newton\n",
    "myguess = 4000\n",
    "def f(x):\n",
    "    sample_tau = 1356.6347332854966\n",
    "    sample_alpha = 0.43456260236933913\n",
    "    sample_beta = 22646.13938948754\n",
    "    quantile = 0.25\n",
    "    #argument = loggit(x)\n",
    "    gammavalue = gammacdf(x,sample_tau,sample_alpha,sample_beta)\n",
    "    return gammavalue - quantile\n",
    "\n",
    "print(newton(f, myguess))\n",
    "print(round(gammacdf(newton(f, myguess),flow5_tau,flow5_alpha,flow5_beta),4))\n",
    "#####################################################################################\n",
    "def f(x):\n",
    "    sample_tau = 1356.6347332854966\n",
    "    sample_alpha = 0.43456260236933913\n",
    "    sample_beta = 22646.13938948754\n",
    "    quantile = 0.50\n",
    "    #argument = loggit(x)\n",
    "    gammavalue = gammacdf(x,sample_tau,sample_alpha,sample_beta)\n",
    "    return gammavalue - quantile\n",
    "\n",
    "print(newton(f, myguess))\n",
    "print(round(gammacdf(newton(f, myguess),flow5_tau,flow5_alpha,flow5_beta),4))\n",
    "#####################################################################################\n",
    "def f(x):\n",
    "    sample_tau = 1356.6347332854966\n",
    "    sample_alpha = 0.43456260236933913\n",
    "    sample_beta = 22646.13938948754\n",
    "    quantile = 0.75\n",
    "    #argument = loggit(x)\n",
    "    gammavalue = gammacdf(x,sample_tau,sample_alpha,sample_beta)\n",
    "    return gammavalue - quantile\n",
    "\n",
    "print(newton(f, myguess))\n",
    "print(round(gammacdf(newton(f, myguess),flow5_tau,flow5_alpha,flow5_beta),4))\n",
    "#####################################################################################\n",
    "def f(x):\n",
    "    sample_tau = 1356.6347332854966\n",
    "    sample_alpha = 0.43456260236933913\n",
    "    sample_beta = 22646.13938948754\n",
    "    quantile = 0.90\n",
    "    #argument = loggit(x)\n",
    "    gammavalue = gammacdf(x,sample_tau,sample_alpha,sample_beta)\n",
    "    return gammavalue - quantile\n",
    "\n",
    "print(newton(f, myguess))\n",
    "print(round(gammacdf(newton(f, myguess),flow5_tau,flow5_alpha,flow5_beta),4))\n",
    "#####################################################################################\n",
    "def f(x):\n",
    "    sample_tau = 1356.6347332854966\n",
    "    sample_alpha = 0.43456260236933913\n",
    "    sample_beta = 22646.13938948754\n",
    "    quantile = 0.99\n",
    "    #argument = loggit(x)\n",
    "    gammavalue = gammacdf(x,sample_tau,sample_alpha,sample_beta)\n",
    "    return gammavalue - quantile\n",
    "\n",
    "print(newton(f, myguess))\n",
    "print(round(gammacdf(newton(f, myguess),flow5_tau,flow5_alpha,flow5_beta),4))\n",
    "#####################################################################################\n",
    "def f(x):\n",
    "    sample_tau = 1356.6347332854966\n",
    "    sample_alpha = 0.43456260236933913\n",
    "    sample_beta = 22646.13938948754\n",
    "    quantile = 0.998\n",
    "    #argument = loggit(x)\n",
    "    gammavalue = gammacdf(x,sample_tau,sample_alpha,sample_beta)\n",
    "    return gammavalue - quantile\n",
    "\n",
    "print(newton(f, myguess))\n",
    "print(round(gammacdf(newton(f, myguess),flow5_tau,flow5_alpha,flow5_beta),4))\n",
    "#####################################################################################\n",
    "def f(x):\n",
    "    sample_tau = 1356.6347332854966\n",
    "    sample_alpha = 0.43456260236933913\n",
    "    sample_beta = 22646.13938948754\n",
    "    quantile = 0.999\n",
    "    #argument = loggit(x)\n",
    "    gammavalue = gammacdf(x,sample_tau,sample_alpha,sample_beta)\n",
    "    return gammavalue - quantile\n",
    "\n",
    "print(newton(f, myguess))\n",
    "print(round(gammacdf(newton(f, myguess),flow5_tau,flow5_alpha,flow5_beta),4))\n",
    "#####################################################################################"
   ]
  },
  {
   "cell_type": "code",
   "execution_count": 72,
   "metadata": {},
   "outputs": [],
   "source": [
    "# Fitting Data to Log-Pearson (Log-Gamma) III Data Model \n",
    "flow6 = df['flow'].apply(loggit).tolist() # put the log peaks into a list\n",
    "flow6_mean  = np.array(flow6).mean()\n",
    "flow6_stdev = np.array(flow6).std()\n",
    "flow6_skew  = scipy.stats.skew(flow6)\n",
    "flow6_alpha = 4.0/(flow6_skew**2)\n",
    "flow6_beta  = np.sign(flow6_skew)*math.sqrt(flow6_stdev**2/flow6_alpha)\n",
    "flow6_tau   = flow6_mean - flow6_alpha*flow6_beta\n",
    "#\n",
    "plotting = weibull_pp(flow6)\n",
    "#\n",
    "x = []; ycdf = []\n",
    "xlow = (0.9*min(flow6)); xhigh = (1.1*max(flow6)) ; howMany = 100\n",
    "xstep = (xhigh - xlow)/howMany\n",
    "for i in range(0,howMany+1,1):\n",
    "    x.append(xlow + i*xstep)\n",
    "    yvalue = gammacdf(xlow + i*xstep,flow6_tau,flow6_alpha,flow6_beta)\n",
    "    ycdf.append(yvalue) "
   ]
  },
  {
   "cell_type": "code",
   "execution_count": 73,
   "metadata": {},
   "outputs": [
    {
     "data": {
      "image/png": "[encoded data removed]",
      "text/plain": [
       "<Figure size 504x576 with 1 Axes>"
      ]
     },
     "metadata": {
      "needs_background": "light"
     },
     "output_type": "display_data"
    }
   ],
   "source": [
    "# reverse transform the peaks, and the data model peaks\n",
    "for i in range(len(flow6)):\n",
    "    flow6[i] = antiloggit(flow6[i])\n",
    "for i in range(len(x)):\n",
    "    x[i] = antiloggit(x[i])\n",
    "\n",
    "rycdf = ycdf[::-1]\n",
    "myfigure = matplotlib.pyplot.figure(figsize = (7,8)) # generate a object from the figure class, set aspect ratio\n",
    "matplotlib.pyplot.scatter(plotting, flow6 ,color ='blue') \n",
    "matplotlib.pyplot.plot(rycdf, x, color ='red') \n",
    "matplotlib.pyplot.xlabel(\"Quantile Value\") \n",
    "matplotlib.pyplot.ylabel(\"Value of RV\") \n",
    "mytitle = \"Log Pearson Type III Distribution Data Model\\n \"\n",
    "mytitle += \"Mean = \" + str(antiloggit(flow6_mean)) + \"\\n\"\n",
    "mytitle += \"SD = \" + str(antiloggit(flow6_stdev)) + \"\\n\"\n",
    "mytitle += \"Skew = \" + str(antiloggit(flow6_skew)) + \"\\n\"\n",
    "matplotlib.pyplot.title(mytitle) \n",
    "matplotlib.pyplot.show()"
   ]
  },
  {
   "cell_type": "code",
   "execution_count": null,
   "metadata": {},
   "outputs": [],
   "source": []
  },
  {
   "cell_type": "markdown",
   "metadata": {},
   "source": [
    "___\n",
    "![](https://media2.giphy.com/media/5nj4ZZWl6QwneEaBX4/source.gif) <br>\n",
    "\n",
    "\n",
    "*Here are some great reads on this topic:* \n",
    "- __\"Introduction to Probability distributions\"__ by __Megha Singhal__ available at *https://medium.datadriveninvestor.com/introduction-to-probability-distributions-56b5253344b8* <br>\n",
    "- __\"A Gentle Introduction to Probability Distributions\"__ by __Jason Brownlee__ available at *https://machinelearningmastery.com/what-are-probability-distributions/*<br>\n",
    "- __\"Python Probability Distributions – Normal, Binomial, Poisson, Bernoulli\"__ available at *https://data-flair.training/blogs/python-probability-distributions/*<br>\n",
    "\n",
    "\n",
    "*Here are some great videos on these topics:* \n",
    "- __\"Python for Data Analysis: Probability Distributions\"__ by __DataDaft__ available at *https://www.youtube.com/watch?v=uial-2girHQ* <br>\n",
    "- __\"Python Tutorial: Probability distributions\"__ by __DataCamp__ available at *https://www.youtube.com/watch?v=HR59jIi5tFE* <br>\n",
    "- __\"Statistics basics. Working with probability distributions in SciPy\"__ by __HidrologíaUC__ available at *https://www.youtube.com/watch?v=biuz0yS8Z5Y* <br>"
   ]
  },
  {
   "cell_type": "markdown",
   "metadata": {},
   "source": [
    "___\n",
    "![](https://media2.giphy.com/media/dNgK7Ws7y176U/200.gif) <br>\n"
   ]
  },
  {
   "cell_type": "markdown",
   "metadata": {},
   "source": [
    "## Exercise: Extreme Value Distributions  <br>\n",
    "![](https://upload.wikimedia.org/wikipedia/commons/thumb/7/7d/Gumbel-Cumulative.svg/650px-Gumbel-Cumulative.svg.png) <br>\n",
    "\n",
    "### Why do we use EV distributions? What are some of the applications?\n",
    "\n",
    "#### _Make sure to cite any resources that you may use._ "
   ]
  },
  {
   "cell_type": "code",
   "execution_count": null,
   "metadata": {},
   "outputs": [],
   "source": []
  },
  {
   "cell_type": "markdown",
   "metadata": {},
   "source": [
    "![](https://i.pinimg.com/originals/f2/41/bd/f241bd0c7db6ac112b804e9487a849db.jpg)"
   ]
  },
  {
   "cell_type": "code",
   "execution_count": null,
   "metadata": {},
   "outputs": [],
   "source": []
  }
 ],
 "metadata": {
  "kernelspec": {
   "display_name": "Python 3",
   "language": "python",
   "name": "python3"
  },
  "language_info": {
   "codemirror_mode": {
    "name": "ipython",
    "version": 3
   },
   "file_extension": ".py",
   "mimetype": "text/x-python",
   "name": "python",
   "nbconvert_exporter": "python",
   "pygments_lexer": "ipython3",
   "version": "3.7.4"
  }
 },
 "nbformat": 4,
 "nbformat_minor": 4
}
