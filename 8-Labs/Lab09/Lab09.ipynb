{
 "cells": [
  {
   "cell_type": "markdown",
   "metadata": {},
   "source": [
    "Download this page as a jupyter notebook at [Lab 9](http://54.243.252.9/engr-1330-webroot/8-Labs/Lab09/Lab09.ipynb)"
   ]
  },
  {
   "cell_type": "markdown",
   "metadata": {},
   "source": [
    "# <font color=darkred>Laboratory 9: Matrices a Blue Pill Approach </font>\n",
    "\n",
    "**LAST NAME, FIRST NAME**\n",
    "\n",
    "**R00000000**\n",
    "\n",
    "ENGR 1330 Laboratory 9 - In-Lab "
   ]
  },
  {
   "cell_type": "code",
   "execution_count": 32,
   "metadata": {},
   "outputs": [
    {
     "name": "stdout",
     "output_type": "stream",
     "text": [
      "atomickitty\n",
      "sensei\n",
      "/opt/jupyterhub/bin/python3\n",
      "3.8.10 (default, Jun  2 2021, 10:49:15) \n",
      "[GCC 9.4.0]\n",
      "sys.version_info(major=3, minor=8, micro=10, releaselevel='final', serial=0)\n"
     ]
    }
   ],
   "source": [
    "# Preamble script block to identify host, user, and kernel\n",
    "import sys\n",
    "! hostname\n",
    "! whoami\n",
    "print(sys.executable)\n",
    "print(sys.version)\n",
    "print(sys.version_info)"
   ]
  },
  {
   "cell_type": "markdown",
   "metadata": {},
   "source": [
    "<img src=\"https://upload.wikimedia.org/wikipedia/commons/thumb/3/31/NumPy_logo_2020.svg/1280px-NumPy_logo_2020.svg.png\" width=\"500\" >"
   ]
  },
  {
   "cell_type": "markdown",
   "metadata": {},
   "source": [
    "## <font color=purple>Numpy</font>\n",
    "Numpy is the core library for scientific computing in Python. It provides a high-performance multidimensional array object, and tools for working with these arrays. The library’s name is short for “Numeric Python” or “Numerical Python”. If you are curious about NumPy, this cheat sheet is recommended:\n",
    "https://s3.amazonaws.com/assets.datacamp.com/blog_assets/Numpy_Python_Cheat_Sheet.pdf\n",
    "\n",
    "### <font color=purple>Arrays</font>\n",
    "\n",
    "A numpy array is a grid of values, all of the same type, and is indexed by a tuple of nonnegative integers. The number of dimensions is the rank of the array; the shape of an array is a tuple of integers giving the size of the array along each dimension. In other words, an array contains information about the raw data, how to locate an element and how to interpret an element.To make a numpy array, you can just use the np.array() function. All you need to do is pass a list to it. Don’t forget that, in order to work with the np.array() function, you need to make sure that the numpy library is present in your environment.\n",
    "If you want to read more about the differences between a Python list and NumPy array, this link is recommended:\n",
    "https://webcourses.ucf.edu/courses/1249560/pages/python-lists-vs-numpy-arrays-what-is-the-difference\n",
    "\n"
   ]
  },
  {
   "cell_type": "markdown",
   "metadata": {},
   "source": [
    "___\n",
    "### Example- 1D Arrays\n",
    "__Let's create a 1D array from the 2000s (2000-2009):__ "
   ]
  },
  {
   "cell_type": "code",
   "execution_count": 1,
   "metadata": {
    "collapsed": false,
    "jupyter": {
     "outputs_hidden": false
    }
   },
   "outputs": [
    {
     "name": "stdout",
     "output_type": "stream",
     "text": [
      "[2000, 2001, 2002, 2003, 2004, 2005, 2006, 2007, 2008, 2009]\n"
     ]
    },
    {
     "data": {
      "text/plain": [
       "array([2000, 2001, 2002, 2003, 2004, 2005, 2006, 2007, 2008, 2009])"
      ]
     },
     "execution_count": 1,
     "metadata": {},
     "output_type": "execute_result"
    }
   ],
   "source": [
    "import numpy as np             #First, we need to impoty \"numpy\"\n",
    "mylist = [2000,2001,2002,2003,2004,2005,2006,2007,2008,2009]         #Create a list of the years\n",
    "print(mylist)                 #Check how it looks\n",
    "np.array(mylist)              #Define it as a numpy array\n"
   ]
  },
  {
   "cell_type": "markdown",
   "metadata": {},
   "source": [
    "___\n",
    "### Example- n-Dimensional Arrays\n",
    "__Let's create a 5x2 array from the 2000s (2000-2009):__ "
   ]
  },
  {
   "cell_type": "code",
   "execution_count": 2,
   "metadata": {
    "collapsed": false,
    "jupyter": {
     "outputs_hidden": false
    }
   },
   "outputs": [
    {
     "name": "stdout",
     "output_type": "stream",
     "text": [
      "[[2000, 2001], [2002, 2003], [2004, 2005], [2006, 2007], [2008, 2009]]\n"
     ]
    },
    {
     "data": {
      "text/plain": [
       "array([[2000, 2001],\n",
       "       [2002, 2003],\n",
       "       [2004, 2005],\n",
       "       [2006, 2007],\n",
       "       [2008, 2009]])"
      ]
     },
     "execution_count": 2,
     "metadata": {},
     "output_type": "execute_result"
    }
   ],
   "source": [
    "myotherlist = [[2000,2001],[2002,2003],[2004,2005],[2006,2007],[2008,2009]]     #Since I want a 5x2 array, I should group the years two by two\n",
    "print(myotherlist)             #See how it looks as a list\n",
    "np.array(myotherlist)          #See how it looks as a numpy array"
   ]
  },
  {
   "cell_type": "markdown",
   "metadata": {},
   "source": [
    "### <font color=purple>Arrays Arithmetic</font>\n",
    "\n",
    "Once you have created the arrays, you can do basic Numpy operations. Numpy offers a variety of operations applicable on arrays. From basic operations such as summation, subtraction, multiplication and division to more advanced and essential operations such as matrix multiplication and other elementwise operations. In the examples below, we will go over some of these:\n"
   ]
  },
  {
   "cell_type": "markdown",
   "metadata": {},
   "source": [
    "___\n",
    "### Example- 1D Array Arithmetic\n",
    "- Define a 1D array with [0,12,24,36,48,60,72,84,96]\n",
    "- Multiple all elements by 2\n",
    "- Take all elements to the power of 2\n",
    "- Find the maximum value of the array and its position\n",
    "- Find the minimum value of the array and its position\n",
    "- Define another 1D array with [-12,0,12,24,36,48,60,72,84]\n",
    "- Find the summation and subtraction of these two arrays\n",
    "- Find the multiplication of these two arrays"
   ]
  },
  {
   "cell_type": "code",
   "execution_count": 3,
   "metadata": {
    "collapsed": false,
    "jupyter": {
     "outputs_hidden": false
    }
   },
   "outputs": [
    {
     "name": "stdout",
     "output_type": "stream",
     "text": [
      "[ 0 12 24 36 48 60 72 84 96]\n",
      "[  0  24  48  72  96 120 144 168 192]\n",
      "[   0  144  576 1296 2304 3600 5184 7056 9216]\n",
      "[   0  144  576 1296 2304 3600 5184 7056 9216]\n",
      "96\n",
      "8\n",
      "0\n",
      "0\n",
      "[-12   0  12  24  36  48  60  72  84]\n",
      "[-12  12  36  60  84 108 132 156 180]\n",
      "[12 12 12 12 12 12 12 12 12]\n",
      "[   0    0  288  864 1728 2880 4320 6048 8064]\n"
     ]
    }
   ],
   "source": [
    "import numpy as np         #import numpy\n",
    "Array1 = np.array([0,12,24,36,48,60,72,84,96])     #Step1: Define Array1\n",
    "print(Array1)\n",
    "print(Array1*2)     #Step2: Multiple all elements by 2\n",
    "print(Array1**2)     #Step3: Take all elements to the power of 2\n",
    "print(np.power(Array1,2)) #Another way to do the same thing, by using a function in numpy\n",
    "print(np.max(Array1))     #Step4: Find the maximum value of the array\n",
    "print(np.argmax(Array1))     ##Step4: Find the postition of the maximum value \n",
    "print(np.min(Array1))     #Step5: Find the minimum value of the array\n",
    "print(np.argmin(Array1))     ##Step5: Find the postition of the minimum value \n",
    "Array2 = np.array([-12,0,12,24,36,48,60,72,84])     #Step6: Define Array2\n",
    "print(Array2)\n",
    "print(Array1+Array2)         #Step7: Find the summation of these two arrays\n",
    "print(Array1-Array2)         #Step7: Find the subtraction of these two arrays\n",
    "print(Array1*Array2)         #Step8: Find the multiplication of these two arrays\n"
   ]
  },
  {
   "cell_type": "markdown",
   "metadata": {},
   "source": [
    "You can see it is considerably easier than manipulating as a list - be aware that the multiply above is element-by-element and not the inner product of two matrices (as was shown in Lesson 08)\n",
    "___\n",
    "### Example- n-Dimensional Array Arithmetic\n",
    "- Define a 2x2 array with [5,10,15,20]\n",
    "- Define another 2x2 array with [3,6,9,12]\n",
    "- Find the summation and subtraction of these two arrays\n",
    "- Find the minimum number in the multiplication of these two arrays\n",
    "- Find the position of the maximum in the multiplication of these two arrays\n",
    "- Find the mean of the multiplication of these two arrays\n",
    "- Find the mean of the first row of the multiplication of these two arrays\n"
   ]
  },
  {
   "cell_type": "code",
   "execution_count": 4,
   "metadata": {
    "collapsed": false,
    "jupyter": {
     "outputs_hidden": false
    }
   },
   "outputs": [
    {
     "name": "stdout",
     "output_type": "stream",
     "text": [
      "[[ 5 10]\n",
      " [15 20]]\n",
      "[[ 3  6]\n",
      " [ 9 12]]\n",
      "[[ 8 16]\n",
      " [24 32]]\n",
      "[[2 4]\n",
      " [6 8]]\n",
      "[[105 150]\n",
      " [225 330]]\n",
      "[[105 150]\n",
      " [225 330]]\n",
      "105\n",
      "3\n",
      "202.5\n",
      "127.5\n"
     ]
    }
   ],
   "source": [
    "import numpy as np         #import numpy\n",
    "Array1 = np.array([[5,10],[15,20]])     #Step1: Define Array1\n",
    "print(Array1)\n",
    "Array2 = np.array([[3,6],[9,12]])     #Step2: Define Array2\n",
    "print(Array2)\n",
    "print(Array1+Array2)     #Step3: Find the summation\n",
    "print(Array1-Array2)     #Step3: Find the subtraction\n",
    "MultArray = Array1@Array2         #Step4: To perform a typical matrix multiplication (or matrix product)\n",
    "MultArray1 = Array1.dot(Array2)         #Step4: Another way To perform a  matrix multiplication\n",
    "print(MultArray)\n",
    "print(MultArray1)\n",
    "print(np.min(MultArray))     #Step4: Find the minimum value of the multiplication\n",
    "print(np.argmax(MultArray))     ##Step5: Find the postition of the maximum value \n",
    "print(np.mean(MultArray))     ##Step6: Find the mean of the multiplication of these two arrays \n",
    "print(np.mean(MultArray[0,:]))     ##Step7: Find the mean of the first row of the multiplication of these two arrays \n"
   ]
  },
  {
   "cell_type": "markdown",
   "metadata": {},
   "source": [
    "___\n",
    "### <font color=purple>Arrays Comparison</font>\n",
    "\n",
    "\n",
    "Comparing two NumPy arrays determines whether they are equivalent by checking if every element at each corresponding index are the same.\n",
    "\n",
    "![](https://www.w3resource.com/w3r_images/python-numpy-image-exercise-28.png)"
   ]
  },
  {
   "cell_type": "markdown",
   "metadata": {},
   "source": [
    "___\n",
    "### Example- 1D Array Comparison\n",
    "- Define a 1D array with [1.0,2.5,3.4,7,7]\n",
    "- Define another 1D array with [5.0/5.0,5.0/2,6.8/2,21/3,14/2]\n",
    "- Compare and see if the two arrays are equal\n",
    "- Define another 1D array with [6,1.4,2.2,7.5,7]\n",
    "- Compare and see if the first array is greater than or equal to the third array"
   ]
  },
  {
   "cell_type": "code",
   "execution_count": 5,
   "metadata": {
    "collapsed": false,
    "jupyter": {
     "outputs_hidden": false
    }
   },
   "outputs": [
    {
     "name": "stdout",
     "output_type": "stream",
     "text": [
      "[1.  2.5 3.4 7.  7. ]\n",
      "[1.  2.5 3.4 7.  7. ]\n",
      "[ True  True  True  True  True]\n",
      "[6.  1.4 2.2 7.5 7. ]\n",
      "[False  True  True False  True]\n"
     ]
    }
   ],
   "source": [
    "import numpy as np         #import numpy\n",
    "Array1 = np.array([1.0,2.5,3.4,7,7])     #Step1: Define Array1\n",
    "print(Array1)\n",
    "Array2 = np.array([5.0/5.0,5.0/2,6.8/2,21/3,14/2])     #Step2: Define Array1\n",
    "print(Array2)\n",
    "print(np.equal(Array1, Array2))             #Step3: Compare and see if the two arrays are equal\n",
    "Array3 = np.array([6,1.4,2.2,7.5,7])     #Step4: Define Array3\n",
    "print(Array3)\n",
    "print(np.greater_equal(Array1, Array3))             #Step3: Compare and see if the two arrays are equal\n"
   ]
  },
  {
   "cell_type": "markdown",
   "metadata": {},
   "source": [
    "___\n",
    "### <font color=purple>Arrays Manipulation</font>\n",
    "\n",
    "numpy.copy() allows us to create a copy of an array. This is particularly useful when we need to manipulate an array while keeping an original copy in memory.\n",
    "The numpy.delete() function returns a new array with sub-arrays along an axis deleted. Here is a poctoral representation:\n",
    "\n",
    "<img src=\"https://codetorial.net/numpy/_images/numpy_delete_01.png\" width=\"600\" >\n",
    "\n",
    "Here is another pictorial representation:\n",
    "\n",
    "<img src=\"https://www.w3resource.com/w3r_images/numpy-manipulation-delete-function-image-1.png\" width=\"400\" >\n",
    "\n",
    "Let's have a look at the examples."
   ]
  },
  {
   "cell_type": "markdown",
   "metadata": {},
   "source": [
    "___\n",
    "### Example- Copying and Deleting Arrays and Elements\n",
    "- Define a 1D array, named \"x\" with [1,2,3]\n",
    "- Define \"y\" so that \"y=x\"\n",
    "- Define \"z\" as a copy of \"x\"\n",
    "- Discuss the difference between y and z\n",
    "- Delete the second element of x"
   ]
  },
  {
   "cell_type": "code",
   "execution_count": 6,
   "metadata": {
    "collapsed": false,
    "jupyter": {
     "outputs_hidden": false
    }
   },
   "outputs": [
    {
     "name": "stdout",
     "output_type": "stream",
     "text": [
      "[1 2 3]\n",
      "[1 2 3]\n",
      "[1 2 3]\n",
      "[1 8 3]\n",
      "[1 8 3]\n",
      "[1 2 3]\n",
      "[1 3]\n"
     ]
    }
   ],
   "source": [
    "import numpy as np         #import numpy\n",
    "x = np.array([1,2,3])     #Step1: Define x\n",
    "print(x)\n",
    "y = x                     #Step2: Define y as y=x\n",
    "print(y)\n",
    "z = np.copy(x)            #Step3: Define z as a copy of x\n",
    "print(z)\n",
    "# For Step4: They look similar but check this out:\n",
    "x[1] = 8                  # If we change x ...\n",
    "print(x)\n",
    "print(y)\n",
    "print(z)\n",
    "# By modifying x, y changes but z remains as a copy of the initial version of x.\n",
    "x = np.delete(x, 1)      #Step5: Delete the second element of x\n",
    "print(x)"
   ]
  },
  {
   "cell_type": "markdown",
   "metadata": {},
   "source": [
    "___\n",
    "### <font color=purple>Sorting Arrays</font>\n",
    "\n",
    "Sorting means putting elements in an ordered sequence. Ordered sequence is any sequence that has an order corresponding to elements, like numeric or alphabetical, ascending or descending. If you use the sort() method on a 2-D array, both arrays will be sorted.\n",
    "\n",
    "<img src=\"https://www.w3resource.com/w3r_images/numpy-sorting-and-searching-image-exercise-1.svg\" width=\"800\" >"
   ]
  },
  {
   "cell_type": "markdown",
   "metadata": {},
   "source": [
    "___\n",
    "### Example- Sorting 1D Arrays\n",
    "__Define a 1D array as ['FIFA 2020','Red Dead Redemption','Fallout','GTA','NBA 2018','Need For Speed'] and print it out. Then, sort the array alphabetically.__\n"
   ]
  },
  {
   "cell_type": "code",
   "execution_count": 10,
   "metadata": {
    "collapsed": false,
    "jupyter": {
     "outputs_hidden": false
    }
   },
   "outputs": [
    {
     "name": "stdout",
     "output_type": "stream",
     "text": [
      "['FIFA 2020' 'Red Dead Redemption' 'Fallout' 'GTA' 'NBA 2018'\n",
      " 'Need For Speed']\n",
      "['FIFA 2020' 'Fallout' 'GTA' 'NBA 2018' 'Need For Speed'\n",
      " 'Red Dead Redemption']\n"
     ]
    }
   ],
   "source": [
    "import numpy as np         #import numpy\n",
    "games = np.array(['FIFA 2020','Red Dead Redemption','Fallout','GTA','NBA 2018','Need For Speed'])\n",
    "print(games)\n",
    "print(np.sort(games))"
   ]
  },
  {
   "cell_type": "markdown",
   "metadata": {},
   "source": [
    "___\n",
    "### Example- Sorting n-Dimensional Arrays\n",
    "__Define a 3x3 array with 17,-6,2,86,-12,0,0,23,12 and print it out. Then, sort the array.__"
   ]
  },
  {
   "cell_type": "code",
   "execution_count": 18,
   "metadata": {
    "collapsed": false,
    "jupyter": {
     "outputs_hidden": false
    }
   },
   "outputs": [
    {
     "name": "stdout",
     "output_type": "stream",
     "text": [
      "[[ 17  -6   2]\n",
      " [ 86 -12   0]\n",
      " [  0  23  12]]\n",
      "Along columns : \n",
      " [[  0 -12   0]\n",
      " [ 17  -6   2]\n",
      " [ 86  23  12]]\n",
      "Along rows : \n",
      " [[ -6   2  17]\n",
      " [-12   0  86]\n",
      " [  0  12  23]]\n",
      "Sorting by default : \n",
      " [[ -6   2  17]\n",
      " [-12   0  86]\n",
      " [  0  12  23]]\n",
      "Along None Axis : \n",
      " [-12  -6   0   0   2  12  17  23  86]\n"
     ]
    }
   ],
   "source": [
    "import numpy as np         #import numpy\n",
    "a = np.array([[17,-6,2],[86,-12,0],[0,23,12]])\n",
    "print(a)\n",
    "print (\"Along columns : \\n\", np.sort(a,axis = 0) ) #This will be sorting in each column\n",
    "print (\"Along rows : \\n\", np.sort(a,axis = 1) ) #This will be sorting in each row\n",
    "print (\"Sorting by default : \\n\", np.sort(a) )          #Same as above\n",
    "print (\"Along None Axis : \\n\", np.sort(a,axis = None) ) #This will be sorted like a 1D array\n"
   ]
  },
  {
   "cell_type": "markdown",
   "metadata": {},
   "source": [
    "___\n",
    "### <font color=purple>Partitioning (Slice) Arrays</font>\n",
    "\n",
    "\n",
    "Slicing in python means taking elements from one given index to another given index.\n",
    "\n",
    "We can do slicing like this: [start:end].\n",
    "\n",
    "We can also define the step, like this: [start:end:step].\n",
    "\n",
    "If we don't pass start its considered 0\n",
    "\n",
    "If we don't pass end its considered length of array in that dimension\n",
    "\n",
    "If we don't pass step its considered 1\n",
    "\n",
    "<img src=\"https://media.geeksforgeeks.org/wp-content/uploads/Numpy1.jpg\" width=\"600\" >"
   ]
  },
  {
   "cell_type": "markdown",
   "metadata": {},
   "source": [
    "___\n",
    "### Example- Slicing 1D Arrays\n",
    "__Define a 1D array as [1,3,5,7,9], slice out the [3,5,7] and print it out.__"
   ]
  },
  {
   "cell_type": "code",
   "execution_count": 34,
   "metadata": {
    "collapsed": false,
    "jupyter": {
     "outputs_hidden": false
    }
   },
   "outputs": [
    {
     "name": "stdout",
     "output_type": "stream",
     "text": [
      "[1 3 5 7 9]\n",
      "[3 5 7]\n"
     ]
    }
   ],
   "source": [
    "import numpy as np         #import numpy\n",
    "a = np.array([1,3,5,7,9])     #Define the array\n",
    "print(a)\n",
    "aslice = a[1:4]             #slice the [3,5,7]\n",
    "print(aslice)               #print it out\n"
   ]
  },
  {
   "cell_type": "markdown",
   "metadata": {},
   "source": [
    "___\n",
    "### Example- Slicing n-Dimensional Arrays\n",
    "__Define a 5x5 array with \"Superman, Batman, Jim Hammond, Captain America, Green Arrow, Aquaman, Wonder Woman, Martian Manhunter, Barry Allen, Hal Jordan, Hawkman, Ray Palmer, Spider Man, Thor, Hank Pym, Solar, Iron Man, Dr. Strange, Daredevil, Ted Kord, Captian Marvel, Black Panther, Wolverine, Booster Gold, Spawn \" and print it out. Then:__\n",
    "- Slice the first column and print it out\n",
    "- Slice the third row and print it out\n",
    "- Slice 'Wolverine' and print it out\n",
    "- Slice a 3x3 array with 'Wonder Woman, Ray Palmer, Iron Man, Martian Manhunter, Spider Man, Dr. Strange, Barry Allen, Thor, Daredevil'"
   ]
  },
  {
   "cell_type": "code",
   "execution_count": 35,
   "metadata": {
    "collapsed": false,
    "jupyter": {
     "outputs_hidden": false
    }
   },
   "outputs": [
    {
     "name": "stdout",
     "output_type": "stream",
     "text": [
      "[['Superman' 'Batman' 'Jim Hammond' 'Captain America' 'Green Arrow']\n",
      " ['Aquaman' 'Wonder Woman' 'Martian Manhunter' 'Barry Allen' 'Hal Jordan']\n",
      " ['Hawkman' 'Ray Palmer' 'Spider Man' 'Thor' 'Hank Pym']\n",
      " ['Solar' 'Iron Man' 'Dr. Strange' 'Daredevil' 'Ted Kord']\n",
      " ['Captian Marvel' 'Black Panther' 'Wolverine' 'Booster Gold' 'Spawn']]\n",
      "['Superman' 'Aquaman' 'Hawkman' 'Solar' 'Captian Marvel']\n",
      "['Hawkman' 'Ray Palmer' 'Spider Man' 'Thor' 'Hank Pym']\n",
      "Wolverine\n",
      "[['Wonder Woman' 'Martian Manhunter' 'Barry Allen']\n",
      " ['Ray Palmer' 'Spider Man' 'Thor']\n",
      " ['Iron Man' 'Dr. Strange' 'Daredevil']]\n"
     ]
    }
   ],
   "source": [
    "import numpy as np         #import numpy\n",
    "Superheroes = np.array([['Superman', 'Batman', 'Jim Hammond', 'Captain America', 'Green Arrow'],\n",
    "               ['Aquaman', 'Wonder Woman', 'Martian Manhunter', 'Barry Allen', 'Hal Jordan'],\n",
    "               ['Hawkman', 'Ray Palmer', 'Spider Man', 'Thor', 'Hank Pym'],\n",
    "               ['Solar', 'Iron Man', 'Dr. Strange', 'Daredevil', 'Ted Kord'],\n",
    "               ['Captian Marvel', 'Black Panther', 'Wolverine', 'Booster Gold', 'Spawn']])\n",
    "print(Superheroes) #Step1\n",
    "print(Superheroes[:,0])\n",
    "print(Superheroes[2,:])\n",
    "print(Superheroes[4,2])\n",
    "print(Superheroes[1:4,1:4])"
   ]
  },
  {
   "cell_type": "markdown",
   "metadata": {},
   "source": [
    "___\n",
    "## <font color=orange>This is a Numpy Cheat Sheet- similar to the one you had on top of this notebook!</font>\n",
    "\n",
    "![](https://blog.finxter.com/wp-content/uploads/2019/10/grafik-1-1024x725.png)\n",
    "\n",
    "### Check out this link for more: <br>\n",
    "https://blog.finxter.com/collection-10-best-numpy-cheat-sheets-every-python-coder-must-own/"
   ]
  },
  {
   "cell_type": "markdown",
   "metadata": {},
   "source": [
    "## Exercise: Python List vs. Numpy Arrays? <br>\n",
    "\n",
    "- What are some differences between Python lists and Numpy arrays? \n",
    "\n",
    "Put your answer in the empty markdown cell below; Make sure to cite any resources that you may use. "
   ]
  },
  {
   "cell_type": "markdown",
   "metadata": {},
   "source": [
    "*Use this markdown cell for your answer*"
   ]
  },
  {
   "cell_type": "markdown",
   "metadata": {},
   "source": [
    "___\n",
    "\n",
    "*Here are some of the resources used for creating this notebook:* \n",
    "- Johnson, J. (2020). Python Numpy Tutorial (with Jupyter and Colab). Retrieved September 15, 2020, from https://cs231n.github.io/python-numpy-tutorial/ <br>\n",
    "- Willems, K. (2019). (Tutorial) Python NUMPY Array TUTORIAL. Retrieved September 15, 2020, from https://www.datacamp.com/community/tutorials/python-numpy-tutorial?utm_source=adwords_ppc <br>\n",
    "- Willems, K. (2017). NumPy Cheat Sheet: Data Analysis in Python. Retrieved September 15, 2020, from https://www.datacamp.com/community/blog/python-numpy-cheat-sheet <br>\n",
    "- W3resource. (2020). NumPy: Compare two given arrays. Retrieved September 15, 2020, from https://www.w3resource.com/python-exercises/numpy/python-numpy-exercise-28.php <br>\n",
    "\n",
    "\n",
    "\n",
    "*Here are some great reads on this topic:* \n",
    "- __\"Python NumPy Tutorial\"__ available at *https://www.geeksforgeeks.org/python-numpy-tutorial/<br>\n",
    "- __\"What Is NumPy?\"__ a collection of blogs, available at *https://realpython.com/tutorials/numpy/ <br>\n",
    "- __\"Look Ma, No For-Loops: Array Programming With NumPy\"__ by __Brad Solomon__ available at *https://realpython.com/numpy-array-programming/ <br>\n",
    "- __\"The Ultimate Beginner’s Guide to NumPy\"__ by __Anne Bonner__ available at *https://towardsdatascience.com/the-ultimate-beginners-guide-to-numpy-f5a2f99aef54 <br>\n",
    "\n",
    "\n",
    "*Here are some great videos on these topics:* \n",
    "- __\"Learn NUMPY in 5 minutes - BEST Python Library!\"__ by __Python Programmer__ available at *https://www.youtube.com/watch?v=xECXZ3tyONo <br>\n",
    "- __\"Python NumPy Tutorial for Beginners\"__ by __freeCodeCamp.org__ available at *https://www.youtube.com/watch?v=QUT1VHiLmmI <br>\n",
    "- __\"Complete Python NumPy Tutorial (Creating Arrays, Indexing, Math, Statistics, Reshaping)\"__ by __Keith Galli__ available at *https://www.youtube.com/watch?v=GB9ByFAIAH4 <br>\n",
    "- __\"Python NumPy Tutorial | NumPy Array | Python Tutorial For Beginners | Python Training | Edureka\"__ by __edureka!__ available at *https://www.youtube.com/watch?v=8JfDAm9y_7s <br>"
   ]
  }
 ],
 "metadata": {
  "kernelspec": {
   "display_name": "Python 3",
   "language": "python",
   "name": "python3"
  },
  "language_info": {
   "codemirror_mode": {
    "name": "ipython",
    "version": 3
   },
   "file_extension": ".py",
   "mimetype": "text/x-python",
   "name": "python",
   "nbconvert_exporter": "python",
   "pygments_lexer": "ipython3",
   "version": "3.8.10"
  }
 },
 "nbformat": 4,
 "nbformat_minor": 4
}
