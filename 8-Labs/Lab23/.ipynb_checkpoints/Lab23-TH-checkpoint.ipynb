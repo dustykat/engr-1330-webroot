{
 "cells": [
  {
   "cell_type": "markdown",
   "metadata": {},
   "source": [
    "**Download** (right-click, save target as ...) this page as a jupyterlab notebook from: [ES-23](http://54.243.252.9/engr-1330-webroot/8-Labs/Lab23/Lab23-TH.ipynb)\n",
    "\n",
    "___"
   ]
  },
  {
   "cell_type": "markdown",
   "metadata": {},
   "source": [
    "# <font color=darkred>Exercise Set 23: \"Confidence Intervals | AB Testing\"</font>\n",
    "\n",
    "LAST NAME, FIRST NAME\n",
    "\n",
    "R00000000\n",
    "\n",
    "ENGR 1330 ES-23 - Homework"
   ]
  },
  {
   "cell_type": "markdown",
   "metadata": {},
   "source": [
    "## Exercise 1 (Interval Estimate): \n",
    "From a normally distributed population, we randolmy took a sample of 200 dogs with a mean weight of 70 pounds. Suppose the standard deviation of the population is 20: <br>\n",
    "- What is the estimated true population mean for the 95% confidence interva? <br>\n",
    "- How about 90% confidence interval? <br>\n",
    "- How about 99% confidence interval? <br>"
   ]
  },
  {
   "cell_type": "code",
   "execution_count": 1,
   "metadata": {},
   "outputs": [],
   "source": [
    "# 95% confidence interval"
   ]
  },
  {
   "cell_type": "code",
   "execution_count": 2,
   "metadata": {},
   "outputs": [],
   "source": [
    "# 90% confidence interval"
   ]
  },
  {
   "cell_type": "code",
   "execution_count": 3,
   "metadata": {},
   "outputs": [],
   "source": [
    "# 99% confidence interval"
   ]
  },
  {
   "cell_type": "markdown",
   "metadata": {},
   "source": [
    "## Exercise 2 (Interval Estimate):\n",
    "Download the data frame DogWeights. Describe the dataframe;  how many rows?; what is the mean dog weight?; what is the standard deviation?; make a histogram of the dataframe\n",
    "\n",
    "Assuming the dataframe is the entire population evaluate the value of your confidence interval estimates:\n",
    "\n",
    "- For the 95% confidence interval simulate 20 random samples of size 200 from the population, from those samples estimate the mean (20 estimates). Then determine how many of your 20 estimates produce a mean value within the confidence interval you determine in Exercise 1 above.\n",
    "\n",
    "- Repeat for the 99% confidence interval, but simulate 100 random samples of size 200.  Again how many of the 100 estimates fall within the confidence interval you determined in Exercise 1 above."
   ]
  },
  {
   "cell_type": "code",
   "execution_count": 4,
   "metadata": {},
   "outputs": [],
   "source": [
    "# download the file\n",
    "######### CODE TO AUTOMATICALLY DOWNLOAD THE DATABASE ################\n",
    "#! pip install requests #install packages into local environment\n",
    "import requests # import needed modules to interact with the internet\n",
    "# make the connection to the remote file (actually its implementing \"bash curl -O http://fqdn/path ...\")\n",
    "remote_url = 'http://54.243.252.9/engr-1330-webroot/8-Labs/Lab23/DogWeights.csv' # a csv file\n",
    "response = requests.get(remote_url) # Gets the file contents puts into an object\n",
    "output = open('DogWeights.csv', 'wb') # Prepare a destination, local\n",
    "output.write(response.content) # write contents of object to named local file\n",
    "output.close() # close the connection\n",
    "\n",
    "# describe the dataframe\n",
    "\n",
    "# how many rows?\n",
    "# what is the mean dog weight?\n",
    "# what is the standard deviation?\n",
    "# make a histogram of the dataframe"
   ]
  },
  {
   "cell_type": "code",
   "execution_count": 5,
   "metadata": {},
   "outputs": [],
   "source": [
    "# 95% confidence interval"
   ]
  },
  {
   "cell_type": "code",
   "execution_count": 6,
   "metadata": {},
   "outputs": [],
   "source": [
    "# 99% confidence interval"
   ]
  },
  {
   "cell_type": "markdown",
   "metadata": {},
   "source": [
    "## Exercise 3 (A/B Test):\n",
    "Amazon is considering changing the color of their logo. The smile will be green instead of orange! \n",
    "![](https://cdn.dribbble.com/users/1923171/screenshots/12213742/amazon.gif) <br>\n",
    "\n",
    " Let us assume out of 5000 users, they have directed 2500 to site A with the previous logo, and the rest to site B with the new logo. In the first group, 1863 users made a purchase. In the second group, 1904 users made a purchase. Is this a statistically significant result? Should Amazon change their logo in order to make more sells?"
   ]
  },
  {
   "cell_type": "code",
   "execution_count": 28,
   "metadata": {},
   "outputs": [],
   "source": []
  }
 ],
 "metadata": {
  "kernelspec": {
   "display_name": "Python 3",
   "language": "python",
   "name": "python3"
  },
  "language_info": {
   "codemirror_mode": {
    "name": "ipython",
    "version": 3
   },
   "file_extension": ".py",
   "mimetype": "text/x-python",
   "name": "python",
   "nbconvert_exporter": "python",
   "pygments_lexer": "ipython3",
   "version": "3.8.10"
  }
 },
 "nbformat": 4,
 "nbformat_minor": 4
}
