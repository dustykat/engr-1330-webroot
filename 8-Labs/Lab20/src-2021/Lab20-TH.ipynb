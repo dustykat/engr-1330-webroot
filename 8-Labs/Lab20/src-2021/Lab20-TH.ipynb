{
 "cells": [
  {
   "cell_type": "markdown",
   "metadata": {},
   "source": [
    "**Download** (right-click, save target as ...) this page as a jupyterlab notebook [Lab20-TH](http://54.243.252.9/engr-1330-webroot/8-Labs/Lab20/Lab20-TH.ipynb)\n",
    "\n",
    "___"
   ]
  },
  {
   "cell_type": "markdown",
   "metadata": {},
   "source": [
    "# <font color=darkred>Laboratory 20: Regression Goodness of Fit </font>\n",
    "\n",
    "LAST NAME, FIRST NAME\n",
    "\n",
    "R00000000\n",
    "\n",
    "ENGR 1330 Laboratory 20 - Homework\n",
    "\n",
    "___\n"
   ]
  },
  {
   "cell_type": "code",
   "execution_count": 1,
   "metadata": {},
   "outputs": [
    {
     "name": "stdout",
     "output_type": "stream",
     "text": [
      "atomickitty\n",
      "sensei\n",
      "/opt/jupyterhub/bin/python3\n",
      "3.8.10 (default, Sep 28 2021, 16:10:42) \n",
      "[GCC 9.3.0]\n",
      "sys.version_info(major=3, minor=8, micro=10, releaselevel='final', serial=0)\n"
     ]
    }
   ],
   "source": [
    "# Preamble script block to identify host, user, and kernel\n",
    "import sys\n",
    "! hostname\n",
    "! whoami\n",
    "print(sys.executable)\n",
    "print(sys.version)\n",
    "print(sys.version_info)"
   ]
  },
  {
   "cell_type": "markdown",
   "metadata": {},
   "source": [
    "<div class=\"alert alert-block alert-danger\">\n",
    "    <b><h1>Exercise: Ice Cream Cones!  </h1></b> \n",
    "</div><br>\n",
    "\n",
    "\n"
   ]
  },
  {
   "cell_type": "markdown",
   "metadata": {},
   "source": [
    "\n",
    "\n",
    "![](https://s23991.pcdn.co/wp-content/uploads/2020/07/waffle-cones.jpg)   \n",
    "\n",
    "\n",
    "#### The 'icecreamcone.csv' file,  has the recordings on daily  temperature, relative humidity, cone strength, and cone weight based on noon readings for 20 days of cone making. Follow the steps and answer the following questions:\n",
    "\n",
    "- Step1: Read the \"icecreamcone.csv\" file as a dataframe. Explore the dataframe and in a markdown cell breifly describe it in your own words. <br>\n",
    "\n",
    "- Step2: Calculate and compare the correlation coefficient of the cone's weight with all the other parameters. In a markdown cell, explain the results and state which parameters have the strongest and weakest relationship with the cone's weight of a vehicle. \n",
    "\n",
    "- Step3: Use linear regression modeling with statsmodels, get the linear model's coefficients, make a plot and VISUALLY assess the quality of a linear fit with humidity as the predictor, and cone's weight as outcome. Then, use RMSE, Pearson's r, and NSE to describe the performance of your model. Explain the result of this analysis in a markdown cell.\n",
    "\n",
    "- Step4: Use linear regression modeling with statsmodels, get the linear model's coefficients, make a plot and VISUALLY assess the quality of a linear fit with cone's strength as the predictor, and cone's weight as outcome. Then, use RMSE, Pearson's r, and NSE to describe the performance of your model. Explain the result of this analysis in a markdown cell.\n",
    "\n",
    "- Step5: Use multiple linear regression modeling with scikit-learn and use all the three predictor parameters to predict cone's weight. Then, use RMSE, Pearson's r, and NSE to describe the performance of your model. Explain the result of this analysis in a markdown cell.\n",
    "\n",
    "- Step6: As a conclusion, make a statement about the quality of the three predictive models you wrote and compare their performances. \n",
    "\n",
    "*Data Source: V.T. Huang, S.T. Luebbers, J.B. Lindamood, P.M.T. Hansen (1989). \"Ice Cream Cone Baking: 2. Textured Characteristics of Rolled Sugar Cones,\" Food Hydrocolloids, Vol. 3, #1, pp. 41-55.*"
   ]
  },
  {
   "cell_type": "code",
   "execution_count": 1,
   "metadata": {},
   "outputs": [],
   "source": [
    "import requests # Module to process http/https requests\n",
    "remote_url=\"http://54.243.252.9/engr-1330-webroot/4-Databases/icecreamcone.csv\"  # set the url\n",
    "rget = requests.get(remote_url, allow_redirects=True)  # get the remote resource, follow imbedded links\n",
    "open('icecreamcone.csv','wb').write(rget.content); # extract from the remote the contents, assign to a local file same name"
   ]
  },
  {
   "cell_type": "code",
   "execution_count": 10,
   "metadata": {},
   "outputs": [],
   "source": [
    "#Step1:Read the \"icecreamcone.csv\" file as a dataframe\n",
    "\n"
   ]
  },
  {
   "cell_type": "code",
   "execution_count": 11,
   "metadata": {},
   "outputs": [],
   "source": [
    "# Explore the dataframe: Describe the df\n"
   ]
  },
  {
   "cell_type": "code",
   "execution_count": 12,
   "metadata": {},
   "outputs": [],
   "source": [
    "#Step2: Calculate and compare the correlation coefficient\n",
    "#What can we infer?\n"
   ]
  },
  {
   "cell_type": "code",
   "execution_count": null,
   "metadata": {},
   "outputs": [],
   "source": [
    "\n"
   ]
  },
  {
   "cell_type": "code",
   "execution_count": 13,
   "metadata": {},
   "outputs": [],
   "source": [
    "#Step3: humidity as the predictor\n"
   ]
  },
  {
   "cell_type": "code",
   "execution_count": 14,
   "metadata": {},
   "outputs": [],
   "source": [
    "#GOF metrics:\n"
   ]
  },
  {
   "cell_type": "code",
   "execution_count": 15,
   "metadata": {},
   "outputs": [],
   "source": [
    "#Step4: strength as the predictor\n",
    "\n"
   ]
  },
  {
   "cell_type": "code",
   "execution_count": 16,
   "metadata": {},
   "outputs": [],
   "source": [
    "#GOF metrics:\n"
   ]
  },
  {
   "cell_type": "code",
   "execution_count": 17,
   "metadata": {},
   "outputs": [],
   "source": [
    "#Step5: 3 predictor - Multiple Linear Regression\n",
    "\n"
   ]
  },
  {
   "cell_type": "code",
   "execution_count": 18,
   "metadata": {},
   "outputs": [],
   "source": [
    "#GOF metrics:\n",
    "\n"
   ]
  },
  {
   "cell_type": "code",
   "execution_count": 19,
   "metadata": {},
   "outputs": [],
   "source": [
    "#Step6:"
   ]
  },
  {
   "cell_type": "code",
   "execution_count": 4,
   "metadata": {},
   "outputs": [],
   "source": [
    "\n"
   ]
  },
  {
   "cell_type": "markdown",
   "metadata": {},
   "source": [
    "## References\n",
    "\n",
    "*This notebook was inspired by several blogposts including:*\n",
    "- __\"Introduction to Linear Regression in Python\"__ by __Lorraine Li__ available at* https://towardsdatascience.com/introduction-to-linear-regression-in-python-c12a072bedf0 <br>\n",
    "- __\"In Depth: Linear Regression\"__ available at* https://jakevdp.github.io/PythonDataScienceHandbook/05.06-linear-regression.html <br>\n",
    "- __\"A friendly introduction to linear regression (using Python)\"__ available at* https://www.dataschool.io/linear-regression-in-python/ <br>\n",
    "- __\"What is Maximum Likelihood Estimation — Examples in Python\"__ by __Robert R.F. DeFilippi__ available at* https://medium.com/@rrfd/what-is-maximum-likelihood-estimation-examples-in-python-791153818030 <br>\n",
    "- __\"Linear Regression\"__ by __William Fleshman__  available at* https://towardsdatascience.com/linear-regression-91eeae7d6a2e <br>\n",
    "- __\"Regression Accuracy Check in Python (MAE, MSE, RMSE, R-Squared)\"__ available at* https://www.datatechnotes.com/2019/10/accuracy-check-in-python-mae-mse-rmse-r.html <br>\n",
    "\n",
    "*Here are some great reads on these topics:* \n",
    "- __\"Linear Regression in Python\"__ by __Sadrach Pierre__ available at* https://towardsdatascience.com/linear-regression-in-python-a1d8c13f3242 <br>\n",
    "- __\"Introduction to Linear Regression in Python\"__ available at* https://cmdlinetips.com/2019/09/introduction-to-linear-regression-in-python/ <br>\n",
    "- __\"Linear Regression in Python\"__ by __Mirko Stojiljković__ available at* https://realpython.com/linear-regression-in-python/ <br>\n",
    "- __\"A Gentle Introduction to Linear Regression With Maximum Likelihood Estimation\"__ by __Jason Brownlee__ available at* https://machinelearningmastery.com/linear-regression-with-maximum-likelihood-estimation/ <br>\n",
    "- __\"Metrics To Evaluate Machine Learning Algorithms in Python\"__ by __Jason Brownlee__ available at* https://machinelearningmastery.com/metrics-evaluate-machine-learning-algorithms-python/ <br>\n",
    "- __\"A Gentle Introduction to Maximum Likelihood Estimation\"__ by __Jonathan Balaban__ available at* https://towardsdatascience.com/a-gentle-introduction-to-maximum-likelihood-estimation-9fbff27ea12f <br>\n",
    "- __\"Regression: An Explanation of Regression Metrics And What Can Go Wrong\"__ by __Divyanshu Mishra__ available at* https://towardsdatascience.com/regression-an-explanation-of-regression-metrics-and-what-can-go-wrong-a39a9793d914 <br>\n",
    "- __\"Tutorial: Understanding Regression Error Metrics in Python\"__ available at* https://www.dataquest.io/blog/understanding-regression-error-metrics/ <br>\n",
    "\n",
    "*Here are some great videos on these topics:* \n",
    "- __\"StatQuest: Fitting a line to data, aka least squares, aka linear regression.\"__ by __StatQuest with Josh Starmer__ available at* https://www.youtube.com/watch?v=PaFPbb66DxQ&list=PLblh5JKOoLUIzaEkCLIUxQFjPIlapw8nU <br>\n",
    "- __\"Statistics 101: Linear Regression, The Very Basics\"__ by __Brandon Foltz__ available at* https://www.youtube.com/watch?v=ZkjP5RJLQF4 <br>\n",
    "- __\"How to Build a Linear Regression Model in Python | Part 1\" and 2,3,4!__ by __Sigma Coding__ available at* https://www.youtube.com/watch?v=MRm5sBfdBBQ <br>\n",
    "- __\"StatQuest: Maximum Likelihood, clearly explained!!!\"__ by __StatQuest with Josh Starmer__ available at* https://www.youtube.com/watch?v=XepXtl9YKwc <br>\n",
    "- __\"Maximum Likelihood for Regression Coefficients (part 1 of 3)\" and part 2 and 3__ by __Professor Knudson__ available at* https://www.youtube.com/watch?v=avs4V7wBRw0 <br>\n",
    "- __\"StatQuest: R-squared explained\"__ by __StatQuest with Josh Starmer__ available at* https://www.youtube.com/watch?v=2AQKmw14mHM <br>"
   ]
  },
  {
   "cell_type": "code",
   "execution_count": null,
   "metadata": {},
   "outputs": [],
   "source": []
  }
 ],
 "metadata": {
  "kernelspec": {
   "display_name": "Python 3",
   "language": "python",
   "name": "python3"
  },
  "language_info": {
   "codemirror_mode": {
    "name": "ipython",
    "version": 3
   },
   "file_extension": ".py",
   "mimetype": "text/x-python",
   "name": "python",
   "nbconvert_exporter": "python",
   "pygments_lexer": "ipython3",
   "version": "3.8.10"
  }
 },
 "nbformat": 4,
 "nbformat_minor": 4
}
