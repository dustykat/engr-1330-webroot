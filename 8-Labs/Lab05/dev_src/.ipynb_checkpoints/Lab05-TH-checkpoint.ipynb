{
 "cells": [
  {
   "cell_type": "markdown",
   "metadata": {},
   "source": [
    "**Download** (right-click, save target as ...) this page as a jupyterlab notebook from: [Lab5-HW](http://54.243.252.9/engr-1330-webroot/8-Labs/Lab05/Lab05-TH.ipynb)\n",
    "\n",
    "___"
   ]
  },
  {
   "cell_type": "markdown",
   "metadata": {},
   "source": [
    "# <font color=darkred>Laboratory 5: Sequence, Selection, and Repetition - Oh My! </font>\n",
    "\n",
    "**LAST NAME, FIRST NAME**\n",
    "\n",
    "**R00000000**\n",
    "\n",
    "ENGR 1330 Laboratory 5 - Homework"
   ]
  },
  {
   "cell_type": "code",
   "execution_count": 10,
   "metadata": {},
   "outputs": [
    {
     "name": "stdout",
     "output_type": "stream",
     "text": [
      "atomickitty\n",
      "sensei\n",
      "/opt/jupyterhub/bin/python3\n",
      "3.8.10 (default, Jun  2 2021, 10:49:15) \n",
      "[GCC 9.4.0]\n",
      "sys.version_info(major=3, minor=8, micro=10, releaselevel='final', serial=0)\n"
     ]
    }
   ],
   "source": [
    "# Preamble script block to identify host, user, and kernel\n",
    "import sys\n",
    "! hostname\n",
    "! whoami\n",
    "print(sys.executable)\n",
    "print(sys.version)\n",
    "print(sys.version_info)"
   ]
  },
  {
   "cell_type": "markdown",
   "metadata": {},
   "source": [
    "## Exercise 1 : Find the Treasure Part 1\n",
    "\n",
    "Consider the structure below (a treasure map)\n",
    "\n",
    "                  +-------------------------+\n",
    "                  ¦ 34 ¦ 21 ¦ 32 ¦ 41 ¦ 25  ¦\n",
    "                  +----+----+----+----+-----¦\n",
    "                  ¦ 14 ¦ 42 ¦ 43 ¦ 14 ¦ 31  ¦\n",
    "                  +----+----+----+----+-----¦\n",
    "                  ¦ 54 ¦ 45 ¦ 52 ¦ 42 ¦ 23  ¦\n",
    "                  +----+----+----+----+-----¦\n",
    "                  ¦ 33 ¦ 15 ¦ 51 ¦ 31 ¦ 35  ¦\n",
    "                  +----+----+----+----+-----¦\n",
    "                  ¦ 21 ¦ 52 ¦ 33 ¦ 13 ¦ 23  ¦\n",
    "                  +-------------------------+\n",
    "\n",
    "In this problem you are to write a program to explore the above array for a treasure. The values in the array are clues. Each cell contains an integer between 11 and 55; for each value the ten's digit represents the row number and the unit's digit represents the column number of the cell containing the next clue. Starting in the upper left corner (at 1,1), use the clues to guide your search of the array. (The first three clues are 11, 34, 42). The treasure is a cell whose value is the same as its coordinates. Your program must first read in the treasure map data into a 5 by 5 array. Your program should output the cells it visits during its search, and a message indicating where you found the treasure.\n",
    "\n",
    "*The \"Treasure Hunt Problem\" is from the HackerRank.com avaiable at https://www.hackerrank.com/contests/startatastartup/challenges/treasure-hunt*\n",
    "\n",
    "**Now for your problem** we have not yet learned how to read from files, its a small problem so lets just construct the map manually by a sequence of expressions; I've done the first two rows, so you only have to complete the script and **supply rows 3,4, and 5**"
   ]
  },
  {
   "cell_type": "code",
   "execution_count": 11,
   "metadata": {},
   "outputs": [
    {
     "name": "stdout",
     "output_type": "stream",
     "text": [
      "[[34, 21, 32, 41, 25], [14, 42, 43, 14, 31]]\n",
      "32\n"
     ]
    }
   ],
   "source": [
    "treasuremap = [] # empty list to store row, column information\n",
    "treasuremap.append([34,21,32,41,25]) # first row of the map\n",
    "treasuremap.append([14,42,43,14,31]) # second row of the map\n",
    "# third row of the map\n",
    "# fourth row of the map\n",
    "# fifth row of the map\n",
    "print(treasuremap) # print the map (which is a list)\n",
    "row = 1\n",
    "column = 3\n",
    "print(treasuremap[row-1][column-1]) # print a single element"
   ]
  },
  {
   "cell_type": "markdown",
   "metadata": {},
   "source": [
    "## Exercise 2: A RoboCop Selects Your Speeding Ticket Amount <br>\n",
    "\n",
    "You are driving too fast, and a robotic police officer stops you. \n",
    "The robot is programmed with conditional statements to return one of 3 possible results: \n",
    "\"No ticket\",\"One hundred dollar fine\", or \"Five hundred dollar fine\". according to the following rules\n",
    "\n",
    "* If your speed is 60 or less, the result is \"No Ticket\". \n",
    "* If speed is between 61 and 80 inclusive, the result is a fine of \\$100. \n",
    "* If speed is 81 or more, the result is \\$500. \n",
    "* If it is your birthday, your speed can be higher by a value of 5 in all cases.\n",
    "\n",
    "You discover you are able to hack into the robot and can modify the fine script.\n",
    "\n",
    "Modify it so that:\n",
    "\n",
    "* If speed is between 75 and 85 inclusive, the result is a fine of \\$100.\n",
    "* If speed is 86 or more, the result is \\$500. \n",
    "\n",
    "Leave the rest unchanged.\n",
    "\n"
   ]
  },
  {
   "cell_type": "code",
   "execution_count": 12,
   "metadata": {},
   "outputs": [
    {
     "name": "stdin",
     "output_type": "stream",
     "text": [
      "How Fast ? (numeric) 82\n",
      "Is it your birthday?  (Yes or No) No\n"
     ]
    },
    {
     "name": "stdout",
     "output_type": "stream",
     "text": [
      "Fine = $500\n"
     ]
    }
   ],
   "source": [
    "# Original Script\n",
    "# Input Speed\n",
    "speed = int(input('How Fast ? (numeric)'))\n",
    "# Input Birthday\n",
    "yes = 0\n",
    "# while loop \n",
    "while yes == 0:\n",
    "    userInput = str(input('Is it your birthday?  (Yes or No)'))\n",
    "    try: # check for valid input\n",
    "        if userInput == 'Yes' or userInput == 'No': # valid input\n",
    "            if userInput == 'Yes':\n",
    "                is_birthday = True\n",
    "            elif userInput == 'No':\n",
    "                is_birthday = False\n",
    "            yes = 1  # flip the value to exit the while loop when finally have a valid answer\n",
    "        else:\n",
    "            print(\"You did not enter Yes or No, try again \\n\")\n",
    "    except:\n",
    "        continue # continues the loop (yes is still 0)\n",
    "# adjust speed based on birthday\n",
    "if is_birthday:\n",
    "    alterspeed = speed-5\n",
    "else:\n",
    "    alterspeed = speed\n",
    "# determine outcome, fine or free to go    \n",
    "if alterspeed > 80:    \n",
    "    print('Fine = $500')\n",
    "elif alterspeed > 60:   \n",
    "    print('Fine = $100')\n",
    "else:\n",
    "    print('No Ticket')"
   ]
  },
  {
   "cell_type": "markdown",
   "metadata": {},
   "source": [
    "## Exercise 1 Part 2 -- Adding Some Selection\n",
    "\n",
    "Using your treasure map script a selection statement that tests if a cell contains treasure (does the cell value agree with the row and column index), but it needs useful messages - **add the messages**."
   ]
  },
  {
   "cell_type": "code",
   "execution_count": 13,
   "metadata": {},
   "outputs": [
    {
     "name": "stdout",
     "output_type": "stream",
     "text": [
      "[[34, 21, 32, 41, 25], [14, 42, 43, 14, 31]]\n",
      "32\n"
     ]
    }
   ],
   "source": [
    "treasuremap = [] # empty list to store row, column information\n",
    "treasuremap.append([34,21,32,41,25]) # first row of the map\n",
    "treasuremap.append([14,42,43,14,31]) # second row of the map\n",
    "# third row of the map\n",
    "# fourth row of the map\n",
    "# fifth row of the map\n",
    "print(treasuremap) # print the map (which is a list)\n",
    "row = 1\n",
    "column = 3\n",
    "print(treasuremap[row-1][column-1]) # print a single element\n",
    "maprowval = str(treasuremap[row-1][column-1])[0]\n",
    "mapcolval = str(treasuremap[row-1][column-1])[1]\n",
    "if int(maprowval) == row and int(mapcolval) == column :\n",
    "    # message here for treasure\n",
    "    pass #comment this line out when have message\n",
    "else:\n",
    "    # message here for no treasure\n",
    "    pass #comment this line out when have message\n"
   ]
  },
  {
   "cell_type": "markdown",
   "metadata": {},
   "source": [
    "___\n",
    "\n",
    "## Exercise 3: A Loop for Leaps! \n",
    "\n",
    "1904 was a leap year. Create a script that prints out all the leap years from in the 20th century (1904-1999). "
   ]
  },
  {
   "cell_type": "code",
   "execution_count": 14,
   "metadata": {},
   "outputs": [],
   "source": [
    "# A loop for leaps - some hints\n",
    "# Make a script that prints all years from 1904-1999; then modify to just print the leaps!"
   ]
  },
  {
   "cell_type": "markdown",
   "metadata": {},
   "source": [
    "---\n",
    "\n",
    "## Exercise 4: Whats your sine? \n",
    "\n",
    "Print a table of the sines of angles (in radians) between 0 and 1.57 with steps of 0.01. The script below might help (it will need modification!)"
   ]
  },
  {
   "cell_type": "code",
   "execution_count": 15,
   "metadata": {},
   "outputs": [
    {
     "name": "stdout",
     "output_type": "stream",
     "text": [
      "     Cosines     \n",
      "   x    |  cos(x) \n",
      "--------|--------\n",
      "0.000   |  1.0000 \n",
      "0.010   |  1.0000 \n",
      "0.020   |  0.9998 \n",
      "0.030   |  0.9996 \n",
      "0.040   |  0.9992 \n",
      "0.050   |  0.9988 \n",
      "0.060   |  0.9982 \n",
      "0.070   |  0.9976 \n",
      "0.080   |  0.9968 \n",
      "0.090   |  0.9960 \n"
     ]
    }
   ],
   "source": [
    "import math # package that contains cosine\n",
    "print(\"     Cosines     \")\n",
    "print(\"   x   \",\"|\",\" cos(x) \")\n",
    "print(\"--------|--------\")\n",
    "for i in range(0,10,1):\n",
    "    x = float(i)*0.01\n",
    "    print(\"%.3f\" % x, \"  |\", \" %.4f \"  % math.cos(x)) # note the format code and the placeholder % and syntax of using package"
   ]
  },
  {
   "cell_type": "markdown",
   "metadata": {},
   "source": [
    "---\n",
    "\n",
    "## Exercise 5: Cutting Corners!\n",
    "Consider the script below, it produces a triangle of lower case 'x' that is 13 lines tall.  Modify the script to allow:\n",
    "\n",
    "1. The user to specify the number of lines (bigger than zero, and less than some upper bound, 40 is probably good so everything fits on the screen.\n",
    "2. The user can specify the character, such as 'x' or 'X' or an 'O' or some  other printable character.\n"
   ]
  },
  {
   "cell_type": "code",
   "execution_count": 16,
   "metadata": {},
   "outputs": [
    {
     "name": "stdout",
     "output_type": "stream",
     "text": [
      "x\n",
      "xx\n",
      "xxx\n",
      "xxxx\n",
      "xxxxx\n",
      "xxxxxx\n",
      "xxxxxxx\n",
      "xxxxxxxx\n",
      "xxxxxxxxx\n",
      "xxxxxxxxxx\n",
      "xxxxxxxxxxx\n",
      "xxxxxxxxxxxx\n",
      "xxxxxxxxxxxxx\n"
     ]
    }
   ],
   "source": [
    "# Modify this script\n",
    "howmany = 13\n",
    "mychar = 'x'\n",
    "linetoprint=''\n",
    "counter = 1\n",
    "while counter <= howmany:\n",
    "    linetoprint=linetoprint + mychar\n",
    "    counter += 1\n",
    "    print(linetoprint)"
   ]
  },
  {
   "cell_type": "markdown",
   "metadata": {},
   "source": [
    "## Exercise 5: Calling in Different Markers\n",
    "\n",
    "Modify your solution above to produce:\n",
    "\n",
    "```\n",
    "W\n",
    "WW\n",
    "WWW\n",
    "WWWW\n",
    "WWWWW\n",
    "WWWWWW\n",
    "WWWWWWT\n",
    "WWWWWWTT\n",
    "WWWWWWTTT\n",
    "WWWWWWTTTT\n",
    "WWWWWWTTTTT\n",
    "WWWWWWTTTTTF\n",
    "WWWWWWTTTTTFF\n",
    "WWWWWWTTTTTFFF\n",
    "WWWWWWTTTTTFFFF\n",
    "WWWWWWTTTTTFFFFF\n",
    "WWWWWWTTTTTFFFFFF\n",
    "WWWWWWTTTTTFFFFFFF\n",
    "```\n",
    "\n",
    "where the 'W','T','F' are user inputs."
   ]
  },
  {
   "cell_type": "markdown",
   "metadata": {},
   "source": [
    "---\n",
    "\n",
    "## Exercise 1 : Part 3 - Completing the Hunt\n",
    "\n",
    "Now using your script from Part 2, and the example below (incomplete - thats your job) insert your selection script code into the appropriate place and find the treasure.\n",
    "             \n",
    "                  +-------------------------+\n",
    "                  ¦ 34 ¦ 21 ¦ 32 ¦ 41 ¦ 25  ¦\n",
    "                  +----+----+----+----+-----¦\n",
    "                  ¦ 14 ¦ 42 ¦ 43 ¦ 14 ¦ 31  ¦\n",
    "                  +----+----+----+----+-----¦\n",
    "                  ¦ 54 ¦ 45 ¦ 52 ¦ 42 ¦ 23  ¦\n",
    "                  +----+----+----+----+-----¦\n",
    "                  ¦ 33 ¦ 15 ¦ 51 ¦ 31 ¦ 35  ¦\n",
    "                  +----+----+----+----+-----¦\n",
    "                  ¦ 21 ¦ 52 ¦ 33 ¦ 13 ¦ 23  ¦\n",
    "                  +-------------------------+"
   ]
  },
  {
   "cell_type": "code",
   "execution_count": 17,
   "metadata": {},
   "outputs": [
    {
     "name": "stdout",
     "output_type": "stream",
     "text": [
      "[34, 21, 32, 41, 25]\n",
      "[14, 42, 43, 14, 31]\n",
      "34\n",
      "21\n",
      "32\n",
      "41\n",
      "25\n",
      "14\n",
      "42\n",
      "43\n",
      "14\n",
      "31\n"
     ]
    }
   ],
   "source": [
    "treasuremap = [] # empty list to store row, column information\n",
    "treasuremap.append([34,21,32,41,25]) # first row of the map\n",
    "treasuremap.append([14,42,43,14,31]) # second row of the map\n",
    "# third row of the map\n",
    "# fourth row of the map\n",
    "# fifth row of the map\n",
    "########################\n",
    "for i in range(0,2,1): \n",
    "    print(treasuremap[i][:]) # print the map by row\n",
    "########################\n",
    "for i in range(0,2,1): # visit the rows\n",
    "    for j in range(0,5,1): # visit the columns\n",
    "        print(treasuremap[i][j]) # print the element by element, suppress when working\n",
    "        # get row and column from i and j values\n",
    "        # get maprowval and mapcolval as in part 2\n",
    "        # test if cell is a treasure cell or not as in part 2 and issue message"
   ]
  },
  {
   "cell_type": "code",
   "execution_count": null,
   "metadata": {},
   "outputs": [],
   "source": []
  }
 ],
 "metadata": {
  "kernelspec": {
   "display_name": "Python 3",
   "language": "python",
   "name": "python3"
  },
  "language_info": {
   "codemirror_mode": {
    "name": "ipython",
    "version": 3
   },
   "file_extension": ".py",
   "mimetype": "text/x-python",
   "name": "python",
   "nbconvert_exporter": "python",
   "pygments_lexer": "ipython3",
   "version": "3.8.10"
  }
 },
 "nbformat": 4,
 "nbformat_minor": 4
}
