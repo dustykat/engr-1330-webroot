{
 "cells": [
  {
   "cell_type": "markdown",
   "metadata": {},
   "source": [
    "**Download** (right-click, save target as ...) this page as a jupyterlab notebook from:\n",
    "\n",
    "[Lab5](https://atomickitty.ddns.net:8000/user/sensei/files/engr-1330-webroot/engr-1330-webbook/ctds-psuedocourse/docs/8-Labs/Lab5/Lab5_Dev.ipynb?_xsrf=2%7C1b4d47c3%7C0c3aca0c53606a3f4b71c448b09296ae%7C1623531240)\n",
    "\n",
    "___"
   ]
  },
  {
   "cell_type": "markdown",
   "metadata": {},
   "source": [
    "# <font color=darkred>Laboratory 5: Working with Files </font>"
   ]
  },
  {
   "cell_type": "code",
   "execution_count": 1,
   "metadata": {},
   "outputs": [
    {
     "name": "stdout",
     "output_type": "stream",
     "text": [
      "ip-172-26-4-2\n",
      "sensei\n",
      "/opt/jupyterhub/bin/python3\n",
      "3.8.5 (default, May 27 2021, 13:30:53) \n",
      "[GCC 9.3.0]\n",
      "sys.version_info(major=3, minor=8, micro=5, releaselevel='final', serial=0)\n"
     ]
    }
   ],
   "source": [
    "# Preamble script block to identify host, user, and kernel\n",
    "import sys\n",
    "! hostname\n",
    "! whoami\n",
    "print(sys.executable)\n",
    "print(sys.version)\n",
    "print(sys.version_info)"
   ]
  },
  {
   "cell_type": "markdown",
   "metadata": {},
   "source": [
    "## Full name: \n",
    "## R#: \n",
    "## Title of the notebook:\n",
    "## Date:\n",
    "___"
   ]
  },
  {
   "cell_type": "markdown",
   "metadata": {},
   "source": [
    "![](https://thumbs.gfycat.com/PaleGargantuanCooter-size_restricted.gif) <br>\n",
    "\n",
    "\n",
    "### <font color=purple>Background</font>\n",
    "\n",
    "A computer file is a computer resource for recording data discretely (not in the secretive context, but specifically somewhere on a piece of hardware) in a computer storage device. Just as words can be written to paper, so can information be written to a computer file. Files can be edited and transferred through the internet on that particular computer system.\n",
    "\n",
    "There are different types of computer files, designed for different purposes. A file may be designed to store a picture, a written message, a video, a computer program, or a wide variety of other kinds of data. Some types of files can store several types of information at once.\n",
    "\n",
    "By using computer programs, a person can open, read, change, save, and close a computer file. Computer files may be reopened, modified, and copied an arbitrary number of times.\n",
    "\n",
    "Typically, files are organised in a file system, which keeps track of where the files are located on disk and enables user access. \n",
    "\n",
    "### <font color=purple>File system</font>\n",
    "\n",
    "In computing, a file system or filesystem, controls how data is stored and retrieved. \n",
    "Without a file system, data placed in a storage medium would be one large body of data with no way to tell where one piece of data stops and the next begins. \n",
    "By separating the data into pieces and giving each piece a name, the data is isolated and identified. \n",
    "Taking its name from the way paper-based data management system is named, each group of data is called a “file”. \n",
    "The structure and logic rules used to manage the groups of data and their names is called a “file system”.\n",
    "\n",
    "### <font color=purple>Path</font>\n",
    "\n",
    "A path, the general form of the name of a file or directory, specifies a unique location in a file system. A path points to a file system location by following the directory tree hierarchy expressed in a string of characters in which path components, separated by a delimiting character, represent each directory. The delimiting character is most commonly the slash (”/”), the backslash character (”\\”), or colon (”:”), though some operating systems may use a different delimiter.\n",
    "Paths are used extensively in computer science to represent the directory/file relationships common in modern operating systems, and are essential in the construction of Uniform Resource Locators (URLs). Resources can be represented by either absolute or relative paths.\n",
    "As an example consider the following two files:\n",
    "\n",
    "1. /Users/theodore/MyGit/@atomickitty/hurri-sensors/.git/Guest.conf \n",
    "2. /etc/apache2/users/Guest.conf\n",
    "\n",
    "They both have the same file name, but are located on different paths. \n",
    "Failure to provide the path when addressing the file can be a problem. \n",
    "Another way to interpret is that the two unique files actually have different names, and only part of those names is common (Guest.conf)\n",
    "The two names above (including the path) are called fully qualified filenames (or absolute names), a relative path (usually relative to the file or program of interest depends on where in the directory structure the file lives. \n",
    "If we are currently in the .git directory (the first file) the path to the file is just the filename.\n",
    "\n",
    "We have experienced path issues with dependencies on .png files - in general your JupyterLab notebooks on CoCalc can only look at the local directory which is why we have to copy files into the directory for things to work.\n",
    "\n",
    "### <font color=purple>File Types</font>\n",
    "\n",
    "1. Text Files. Text files are regular files that contain information readable by the user. This information is stored in ASCII. You can display and print these files. The lines of a text file must not contain NULL characters, and none can exceed a prescribed (by architecture) length, including the new-line character.  The term text file does not prevent the inclusion of control or other nonprintable characters (other than NUL). Therefore, standard utilities that list text files as inputs or outputs are either able to process the special characters gracefully or they explicitly describe their limitations within their individual sections.\n",
    "\n",
    "2. Binary Files. Binary files are regular files that contain information readable by the computer. Binary files may be executable files that instruct the system to accomplish a job. Commands and programs are stored in executable, binary files. Special compiling programs translate ASCII text into binary code.  The only difference between text and binary files is that text files have lines of less than some length, with no NULL characters, each terminated by a new-line character.\n",
    "\n",
    "3. Directory Files. Directory files contain information the system needs to access all types of files, but they do not contain the actual file data. As a result, directories occupy less space than a regular file and give the file system structure flexibility and depth. Each directory entry represents either a file or a subdirectory. Each entry contains the name of the file and the file's index node reference number (i-node). The i-node points to the unique index node assigned to the file. The i-node describes the location of the data associated with the file. Directories are created and controlled by a separate set of commands.\n",
    "\n",
    "### <font color=purple>File Manipulation</font>\n",
    "\n",
    "For this laboratory we will learn just a handfull of file manipulations which are quite useful. Files can be \"created\",\"read\",\"updated\", or \"deleted\" (CRUD). "
   ]
  },
  {
   "cell_type": "markdown",
   "metadata": {},
   "source": [
    "___\n",
    "### Example: Create a file, write to it. \n",
    "\n",
    "Below is an example of creating a file that does not yet exist.\n",
    "The script is a bit pendandic on purpose.\n",
    "\n",
    "First will use some system commands to view the contents of the local directory"
   ]
  },
  {
   "cell_type": "code",
   "execution_count": 31,
   "metadata": {},
   "outputs": [
    {
     "data": {
      "text/plain": [
       "'C:\\\\Users\\\\Farha'"
      ]
     },
     "execution_count": 31,
     "metadata": {},
     "output_type": "execute_result"
    }
   ],
   "source": [
    "import sys\n",
    "! del  myfirstfile.txt  # delete file if it exists, Use rm -f on Mac \n",
    "%pwd  # list name of working directory, note it includes path, so it is an absolute path"
   ]
  },
  {
   "cell_type": "code",
   "execution_count": 32,
   "metadata": {},
   "outputs": [],
   "source": [
    "# create file example\n",
    "externalfile = open(\"myfirstfile.txt\",'w') # create connection to file, set to write (w), file does not need to exist\n",
    "mymessage = 'message in a bottle' #some object to write, in this case a string\n",
    "externalfile.write(mymessage)# write the contents of mymessage to the file\n",
    "externalfile.close() # close the file connection"
   ]
  },
  {
   "cell_type": "markdown",
   "metadata": {},
   "source": [
    "At this point our new file should exist, lets list the directory and see if that is so"
   ]
  },
  {
   "cell_type": "markdown",
   "metadata": {},
   "source": [
    "Sure enough, its there, we will use a `bash` command `cat` to look at the contents of the file."
   ]
  },
  {
   "cell_type": "code",
   "execution_count": 33,
   "metadata": {},
   "outputs": [
    {
     "name": "stdout",
     "output_type": "stream",
     "text": [
      "message in a bottle\n"
     ]
    }
   ],
   "source": [
    "! type myfirstfile.txt"
   ]
  },
  {
   "cell_type": "markdown",
   "metadata": {},
   "source": [
    "Thats about it, use of system commands, of course depends on the system, the examples above should work OK on CoCalc or a Macintosh; on Winderz the shell commands are a little different.  If you have the linux subsystem installed then these should work as is."
   ]
  },
  {
   "cell_type": "markdown",
   "metadata": {},
   "source": [
    "___\n",
    "### Example: Read from an existing file. \n",
    "\n",
    "We will continue using the file we just made, and read from it the example is below"
   ]
  },
  {
   "cell_type": "code",
   "execution_count": 34,
   "metadata": {
    "collapsed": false,
    "jupyter": {
     "outputs_hidden": false
    }
   },
   "outputs": [
    {
     "name": "stdout",
     "output_type": "stream",
     "text": [
      "message in a bottle\n"
     ]
    }
   ],
   "source": [
    "# read file example\n",
    "externalfile = open(\"myfirstfile.txt\",'r') # create connection to file, set to read (r), file must exist\n",
    "silly_string = externalfile.read() # read the contents\n",
    "externalfile.close() # close the file connection\n",
    "print(silly_string)"
   ]
  },
  {
   "cell_type": "markdown",
   "metadata": {},
   "source": [
    "___\n",
    "#### Example: Update a file.\n",
    "\n",
    "This example continues with our same file, but we will now add contents without destroying existing contents. The keyword is `append`"
   ]
  },
  {
   "cell_type": "code",
   "execution_count": 35,
   "metadata": {
    "collapsed": false,
    "jupyter": {
     "outputs_hidden": false
    }
   },
   "outputs": [],
   "source": [
    "externalfile = open(\"myfirstfile.txt\",'a') # create connection to file, set to append (a), file does not need to exist\n",
    "externalfile.write('\\n') # adds a newline character\n",
    "what_to_add = 'I love rock-and-roll, put another dime in the jukebox baby ... \\n' \n",
    "externalfile.write(what_to_add) # add a string including the linefeed\n",
    "what_to_add = '... the waiting is the hardest part \\n' \n",
    "externalfile.write(what_to_add) # add a string including the linefeed\n",
    "mylist = [1,2,3,4,5] # a list of numbers\n",
    "what_to_add = ','.join(map(repr, mylist)) + \"\\n\" # one way to write the list\n",
    "externalfile.write(what_to_add)\n",
    "what_to_add = ','.join(map(repr, mylist[0:len(mylist)])) + \"\\n\" # another way to write the list\n",
    "externalfile.write(what_to_add)\n",
    "externalfile.close()"
   ]
  },
  {
   "cell_type": "markdown",
   "metadata": {},
   "source": [
    "As before we can examine the contents using a shell command sent from the notebook."
   ]
  },
  {
   "cell_type": "code",
   "execution_count": 36,
   "metadata": {
    "collapsed": false,
    "jupyter": {
     "outputs_hidden": false
    }
   },
   "outputs": [
    {
     "name": "stdout",
     "output_type": "stream",
     "text": [
      "message in a bottle\n",
      "I love rock-and-roll, put another dime in the jukebox baby ... \n",
      "... the waiting is the hardest part \n",
      "1,2,3,4,5\n",
      "1,2,3,4,5\n"
     ]
    }
   ],
   "source": [
    "! type myfirstfile.txt"
   ]
  },
  {
   "cell_type": "markdown",
   "metadata": {},
   "source": [
    "___\n",
    "A little discussion on the part where we wrote numbers\n",
    "\n",
    ">    what_to_add = ','.join(map(repr, mylist[0:len(mylist)])) + \"\\n\"\n",
    "\n",
    "Here are descriptions of the two functions `map` and `repr`\n",
    "\n",
    "`map(function, iterable, ...)` Apply `function` to every item of iterable and return a list of the results. \n",
    "If additional iterable arguments are passed, function must take that many arguments and is applied to the items from all iterables in parallel. \n",
    "If one iterable is shorter than another it is assumed to be extended with None items. \n",
    "If function is None, the identity function is assumed; if there are multiple arguments, `map()` returns a list consisting of tuples containing the corresponding items from all iterables (a kind of transpose operation). \n",
    "The iterable arguments may be a sequence or any iterable object; the result is always a list.\n",
    "\n",
    "`repr(object)` Return a string containing a printable representation of an object. \n",
    "This is the same value yielded by conversions (reverse quotes). \n",
    "It is sometimes useful to be able to access this operation as an ordinary function. \n",
    "For many types, this function makes an attempt to return a string that would yield an object with the same value when passed to `eval()`, otherwise the representation is a string enclosed in angle brackets that contains the name of the type of the object together with additional information often including the name and address of the object. \n",
    "A class can control what this function returns for its instances by defining a `repr()` method.\n",
    "\n",
    "What they do in this script is important. \n",
    "The statement:\n",
    "\n",
    "    what_to_add = ’,’.join(map(repr, mylist[0:len(mylist)])) + \"\\n\"\n",
    "    \n",
    "is building a string that will be comprised of elements of mylist[0:len(mylist)].\n",
    "The `repr()` function gets these elements as they are represented in the computer, the delimiter a comma is added using the join method in Python, and because everything is now a string the\n",
    "\n",
    "    ... + \"\\n\"\n",
    "    \n",
    "puts a linefeed character at the end of the string so the output will start a new line the next time something is written."
   ]
  },
  {
   "cell_type": "markdown",
   "metadata": {},
   "source": [
    "___\n",
    "#### Example: Delete a file\n",
    "\n",
    "Delete can be done by a system call as we did above to clear the local directory\n",
    "\n",
    "In a JupyterLab notebook, we can either use\n",
    "\n",
    "    import sys\n",
    "    ! del  myfirstfile.txt  # delete file if it exists, Use rm -f on Mac\n",
    "\n",
    "or\n",
    "\n",
    "    import os\n",
    "    os.remove(\"myfirstfile.txt\")\n",
    "\n",
    "they both have same effect, both equally dangerous to your filesystem.\n",
    "\n",
    "\n",
    "Learn more about CRUD with text files at https://www.guru99.com/reading-and-writing-files-in-python.html\n",
    "\n",
    "Learn more about file delete at https://www.dummies.com/programming/python/how-to-delete-a-file-in-python/\n",
    "    "
   ]
  },
  {
   "cell_type": "code",
   "execution_count": 37,
   "metadata": {
    "collapsed": false,
    "jupyter": {
     "outputs_hidden": false
    }
   },
   "outputs": [
    {
     "name": "stdout",
     "output_type": "stream",
     "text": [
      "myfirstfile.txt  missing or deleted !\n"
     ]
    }
   ],
   "source": [
    "# import os\n",
    "file2kill = \"myfirstfile.txt\"\n",
    "try:\n",
    "    os.remove(file2kill) # file must exist or will generate an exception\n",
    "except:\n",
    "    pass # example of using pass to improve readability\n",
    "print(file2kill, \" missing or deleted !\")"
   ]
  },
  {
   "cell_type": "markdown",
   "metadata": {},
   "source": [
    "___\n",
    "![](https://media2.giphy.com/media/5nj4ZZWl6QwneEaBX4/source.gif) <br>\n",
    "\n",
    "\n",
    "*Here are some great reads on this topic:* \n",
    "- __\"Python Classes and Objects\"__ available at *https://www.geeksforgeeks.org/python-classes-and-objects/<br>\n",
    "- __\"Object-Oriented Programming (OOP) in Python 3\"__ by __David Amos__ available at *https://realpython.com/python3-object-oriented-programming/ <br>\n",
    "- __\"Python File Operations – Read and Write to files with Python\"__ available at *https://www.journaldev.com/14408/python-read-file-open-write-delete-copy <br>\n",
    "\n",
    "*Here are some great videos on these topics:* \n",
    "- __\"Python OOP Tutorial 1: Classes and Instances\"__ by __Corey Schafer__ available at *https://www.youtube.com/watch?v=ZDa-Z5JzLYM <br>\n",
    "- __\"Python Object Oriented Programming (OOP) - For Beginners\"__ by __Tech With Tim__ available at *https://www.youtube.com/watch?v=JeznW_7DlB0 <br>\n",
    "- __\"Python Classes and Objects || Python Tutorial || Learn Python Programming\"__ by __Socratica__ available at *https://www.youtube.com/watch?v=apACNr7DC_s <br>\n",
    "- __\"Python Tutorial: File Objects - Reading and Writing to Files\"__ by __Corey Schafer__ available at *https://www.youtube.com/watch?v=Uh2ebFW8OYM <br>"
   ]
  },
  {
   "cell_type": "markdown",
   "metadata": {},
   "source": [
    "___\n",
    "![](https://media.csesoc.org.au/content/images/2019/10/learn11.gif) <br>\n"
   ]
  },
  {
   "cell_type": "markdown",
   "metadata": {},
   "source": [
    "## Exercise: Your Favorite Quotation! <br>\n",
    "\n",
    "- create a text file, name it __\"MyFavoriteQuotation\"__.\n",
    "- Write __your favorite quotation__ in the file.\n",
    "- Read the file.\n",
    "- Add this string to it in a new line : \"And that's something I wish I had said...\"\n",
    "- Show the final outcome."
   ]
  },
  {
   "cell_type": "code",
   "execution_count": 40,
   "metadata": {},
   "outputs": [
    {
     "name": "stdout",
     "output_type": "stream",
     "text": [
      "The path of the righteous man is beset on all sides by the inequities of the selfish and the tyranny of evil men. Blessed is he who, in the name of charity and good will, shepherds the weak through the valley of darkness. For he is truly his brother’s keeper and the finder of lost children. And I will strike down upon thee with great vengeance and furious anger those who attempt to poison and destroy my brothers. And you will know my name is the Lord when I lay my vengeance upon you.\n",
      "And that's something I wish I had said ... \n"
     ]
    }
   ],
   "source": [
    "# create the \"My Favorite Quotation\" file:\n",
    "externalfile = open(\"MyFavoriteQuotation.txt\",'w')         # create connection to file, set to write (w)\n",
    "myquotation = 'The path of the righteous man is beset on all sides by the inequities of the selfish and the tyranny of evil men. Blessed is he who, in the name of charity and good will, shepherds the weak through the valley of darkness. For he is truly his brother’s keeper and the finder of lost children. And I will strike down upon thee with great vengeance and furious anger those who attempt to poison and destroy my brothers. And you will know my name is the Lord when I lay my vengeance upon you.' #My choice: quotation from Pulp Fiction\n",
    "externalfile.write(myquotation)# write the contents of mymessage to the file\n",
    "externalfile.close() # close the file connection\n",
    "#Let's read the file\n",
    "#! type MyFavoriteQuotation.txt \n",
    "# Let's add the string\n",
    "externalfile = open(\"MyFavoriteQuotation.txt\",'a')  #create connection to file, set to append (a)\n",
    "externalfile.write('\\n') # adds a newline character\n",
    "what_to_add = \"And that's something I wish I had said ... \\n\"\n",
    "externalfile.write(what_to_add)\n",
    "externalfile.close()\n",
    "#Let's read the file one last time\n",
    "! type MyFavoriteQuotation.txt "
   ]
  },
  {
   "cell_type": "markdown",
   "metadata": {},
   "source": [
    "![](https://quotefancy.com/media/wallpaper/3840x2160/6361186-George-Bernard-Shaw-Quote-Life-isn-t-about-finding-yourself-Life.jpg)"
   ]
  },
  {
   "cell_type": "code",
   "execution_count": null,
   "metadata": {},
   "outputs": [],
   "source": []
  }
 ],
 "metadata": {
  "kernelspec": {
   "display_name": "Python 3",
   "language": "python",
   "name": "python3"
  },
  "language_info": {
   "codemirror_mode": {
    "name": "ipython",
    "version": 3
   },
   "file_extension": ".py",
   "mimetype": "text/x-python",
   "name": "python",
   "nbconvert_exporter": "python",
   "pygments_lexer": "ipython3",
   "version": "3.8.10"
  }
 },
 "nbformat": 4,
 "nbformat_minor": 4
}
