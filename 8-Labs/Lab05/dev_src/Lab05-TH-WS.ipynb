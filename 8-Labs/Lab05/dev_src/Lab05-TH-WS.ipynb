{
 "cells": [
  {
   "cell_type": "markdown",
   "metadata": {},
   "source": [
    "**Download** (right-click, save target as ...) this page as a jupyterlab notebook from: [Lab5](https://atomickitty.ddns.net/engr-1330-webroot/8-Labs/Lab05/Lab05.ipynb)\n",
    "\n",
    "___"
   ]
  },
  {
   "cell_type": "markdown",
   "metadata": {},
   "source": [
    "# <font color=darkred>Laboratory 5: Sequence, Selection, and Repetition - Oh My! </font>\n",
    "\n",
    "**LAST NAME, FIRST NAME**\n",
    "\n",
    "**R00000000**\n",
    "\n",
    "ENGR 1330 Laboratory 5 - Homework"
   ]
  },
  {
   "cell_type": "code",
   "execution_count": 13,
   "metadata": {},
   "outputs": [
    {
     "name": "stdout",
     "output_type": "stream",
     "text": [
      "atomickitty\n",
      "sensei\n",
      "/opt/jupyterhub/bin/python3\n",
      "3.8.10 (default, Jun  2 2021, 10:49:15) \n",
      "[GCC 9.4.0]\n",
      "sys.version_info(major=3, minor=8, micro=10, releaselevel='final', serial=0)\n"
     ]
    }
   ],
   "source": [
    "# Preamble script block to identify host, user, and kernel\n",
    "import sys\n",
    "! hostname\n",
    "! whoami\n",
    "print(sys.executable)\n",
    "print(sys.version)\n",
    "print(sys.version_info)"
   ]
  },
  {
   "cell_type": "markdown",
   "metadata": {},
   "source": [
    "## Exercise 1 : Find the Treasure Part 1\n",
    "\n",
    "Consider the structure below (a treasure map)\n",
    "\n",
    "                  +-------------------------+\n",
    "                  ¦ 34 ¦ 21 ¦ 32 ¦ 41 ¦ 25  ¦\n",
    "                  +----+----+----+----+-----¦\n",
    "                  ¦ 14 ¦ 42 ¦ 43 ¦ 14 ¦ 31  ¦\n",
    "                  +----+----+----+----+-----¦\n",
    "                  ¦ 54 ¦ 45 ¦ 52 ¦ 42 ¦ 23  ¦\n",
    "                  +----+----+----+----+-----¦\n",
    "                  ¦ 33 ¦ 15 ¦ 51 ¦ 31 ¦ 35  ¦\n",
    "                  +----+----+----+----+-----¦\n",
    "                  ¦ 21 ¦ 52 ¦ 33 ¦ 13 ¦ 23  ¦\n",
    "                  +-------------------------+\n",
    "\n",
    "In this problem you are to write a program to explore the above array for a treasure. The values in the array are clues. Each cell contains an integer between 11 and 55; for each value the ten's digit represents the row number and the unit's digit represents the column number of the cell containing the next clue. Starting in the upper left corner (at 1,1), use the clues to guide your search of the array. (The first three clues are 11, 34, 42). The treasure is a cell whose value is the same as its coordinates. Your program must first read in the treasure map data into a 5 by 5 array. Your program should output the cells it visits during its search, and a message indicating where you found the treasure.\n",
    "\n",
    "*The \"Treasure Hunt Problem\" is from the HackerRank.com avaiable at https://www.hackerrank.com/contests/startatastartup/challenges/treasure-hunt*\n",
    "\n",
    "**Now for your problem** we have not yet learned how to read from files, its a small problem so lets just construct the map manually by a sequence of expressions; Ive done the first two rows, so you only have to complete the script."
   ]
  },
  {
   "cell_type": "code",
   "execution_count": 20,
   "metadata": {},
   "outputs": [
    {
     "name": "stdout",
     "output_type": "stream",
     "text": [
      "[[34, 21, 32, 41, 25], [14, 42, 43, 14, 31], [34, 21, 32, 41, 25], [14, 42, 43, 14, 31], [54, 45, 52, 42, 23], [33, 15, 51, 31, 35], [21, 52, 33, 13, 23]]\n",
      "32\n"
     ]
    }
   ],
   "source": [
    "treasuremap = [] # empty list to store row, column information\n",
    "treasuremap.append([34,21,32,41,25]) # first row of the map\n",
    "treasuremap.append([14,42,43,14,31]) # second row of the map\n",
    "treasuremap.append([34,21,32,41,25]) # first row of the map\n",
    "treasuremap.append([14,42,43,14,31]) # second row of the map\n",
    "treasuremap.append([54,45,52,42,23]) # third row of the map\n",
    "treasuremap.append([33,15,51,31,35]) # fourth row of the map\n",
    "treasuremap.append([21,52,33,13,23]) # fifth row of the map\n",
    "print(treasuremap) # print the map (which is a list)\n",
    "row = 1\n",
    "column = 3\n",
    "print(treasuremap[row-1][column-1]) # print a single element"
   ]
  },
  {
   "cell_type": "markdown",
   "metadata": {},
   "source": [
    "## Exercise 2: A RoboCop Selects Your Speeding Ticket Amount <br>\n",
    "\n",
    "You are driving too fast, and a robotic police officer stops you. \n",
    "The robot is programmed with conditional statements to return one of 3 possible results: \n",
    "\"No ticket\",\"One hundred dollar fine\", or \"Five hundred dollar fine\". according to the following rules\n",
    "\n",
    "* If your speed is 60 or less, the result is \"No Ticket\". \n",
    "* If speed is between 61 and 80 inclusive, the result is a fine of \\$100. \n",
    "* If speed is 81 or more, the result is \\$500. \n",
    "* If it is your birthday, your speed can be higher by a value of 5 in all cases.\n",
    "\n",
    "You discover you are able to hack into the robot and can modify the fine script.\n",
    "\n",
    "Modify it so that:\n",
    "\n",
    "* If speed is between 75 and 85 inclusive, the result is a fine of \\$100.\n",
    "* If speed is 86 or more, the result is \\$500. \n",
    "\n",
    "Leave the rest unchanged.\n",
    "\n"
   ]
  },
  {
   "cell_type": "code",
   "execution_count": 18,
   "metadata": {},
   "outputs": [
    {
     "name": "stdin",
     "output_type": "stream",
     "text": [
      "How Fast ? (numeric) 92\n",
      "Is it your birthday?  (Yes or No) y\n"
     ]
    },
    {
     "name": "stdout",
     "output_type": "stream",
     "text": [
      "Fine = $500\n"
     ]
    }
   ],
   "source": [
    "# Original Script\n",
    "# Input Speed\n",
    "speed = int(input('How Fast ? (numeric)'))\n",
    "# Input Birthday\n",
    "yes = 0\n",
    "# while loop \n",
    "while yes == 0:\n",
    "    userInput = str(input('Is it your birthday?  (Yes or No)'))\n",
    "    try:\n",
    "        if userInput == 'Yes' or 'yes' or 'y' or 'Y':\n",
    "            is_birthday = True\n",
    "        elif userInput == 'No' or 'no' or 'n' or 'N' or 'nein':\n",
    "            is_birthday = False\n",
    "        yes = 1\n",
    "    except:\n",
    "        print (\"You did not enter Yes or No, try again \\n\")\n",
    "# Exit the while loop when finally have a valid answer\n",
    "\n",
    "if is_birthday:\n",
    "    alterspeed = speed-5\n",
    "else:\n",
    "    alterspeed = speed\n",
    "    \n",
    "if alterspeed > 86:    \n",
    "    print('Fine = $500')\n",
    "elif alterspeed > 75:   \n",
    "    print('Fine = $100')\n",
    "else:\n",
    "    print('No Ticket')"
   ]
  },
  {
   "cell_type": "markdown",
   "metadata": {},
   "source": [
    "## Exercise 1 Part 2 -- Adding Some Selection\n",
    "\n",
    "Using your treasure map script a selection statement that tests if a cell contains treasure (does the cell value agree with the row and column index), but it needs useful messages - **add the messages**."
   ]
  },
  {
   "cell_type": "code",
   "execution_count": 19,
   "metadata": {},
   "outputs": [
    {
     "name": "stdout",
     "output_type": "stream",
     "text": [
      "[[34, 21, 32, 41, 25], [14, 42, 43, 14, 31], [54, 45, 52, 42, 23], [33, 15, 51, 31, 35], [21, 52, 33, 13, 23]]\n",
      "Cell  32  contains nothing\n"
     ]
    }
   ],
   "source": [
    "treasuremap = [] # empty list to store row, column information\n",
    "treasuremap.append([34,21,32,41,25]) # first row of the map\n",
    "treasuremap.append([14,42,43,14,31]) # second row of the map\n",
    "treasuremap.append([54,45,52,42,23]) # third row of the map\n",
    "treasuremap.append([33,15,51,31,35]) # fourth row of the map\n",
    "treasuremap.append([21,52,33,13,23]) # fifth row of the map\n",
    "\n",
    "print(treasuremap) # print the map (which is a list)\n",
    "row = 1\n",
    "column = 3\n",
    "#print(treasuremap[row-1][column-1]) # print a single element\n",
    "maprowval = str(treasuremap[row-1][column-1])[0]\n",
    "mapcolval = str(treasuremap[row-1][column-1])[1]\n",
    "if int(maprowval) == row and int(mapcolval) == column :\n",
    "    print('Cell ',treasuremap[row-1][column-1],' contains TREASURE')\n",
    "    pass #comment this line out when have message\n",
    "else:\n",
    "    print('Cell ',treasuremap[row-1][column-1],' contains nothing')\n",
    "    pass #comment this line out when have message\n"
   ]
  },
  {
   "cell_type": "markdown",
   "metadata": {},
   "source": [
    "___\n",
    "\n",
    "## Exercise 3: A Loop for Leaps! \n",
    "\n",
    "1904 was a leap year. Create a script that prints out all the leap years from in the 20th century (1904-1999). "
   ]
  },
  {
   "cell_type": "code",
   "execution_count": 15,
   "metadata": {},
   "outputs": [
    {
     "name": "stdout",
     "output_type": "stream",
     "text": [
      "1904\n",
      "1908\n",
      "1912\n",
      "1916\n",
      "1920\n",
      "1924\n",
      "1928\n",
      "1932\n",
      "1936\n",
      "1940\n",
      "1944\n",
      "1948\n",
      "1952\n",
      "1956\n",
      "1960\n",
      "1964\n",
      "1968\n",
      "1972\n",
      "1976\n",
      "1980\n",
      "1984\n",
      "1988\n",
      "1992\n",
      "1996\n"
     ]
    }
   ],
   "source": [
    "# A loop for leaps - some hints\n",
    "# Make a script that prints all years from 1904-1999; then modify to just print the leaps!\n",
    "for i in range(1904,2000,4):\n",
    "    print(i)"
   ]
  },
  {
   "cell_type": "markdown",
   "metadata": {},
   "source": [
    "---\n",
    "\n",
    "## Exercise 4: Whats your sine? \n",
    "\n",
    "Print a table of the sines of angles (in radians) between 0 and 1.57 with steps of 0.01. The script below might help (it will need modification!)"
   ]
  },
  {
   "cell_type": "code",
   "execution_count": 7,
   "metadata": {},
   "outputs": [
    {
     "name": "stdout",
     "output_type": "stream",
     "text": [
      "     Sines     \n",
      "   x    |  sin(x) \n",
      "--------|--------\n",
      "0.000   |  0.0000 \n",
      "0.010   |  0.0100 \n",
      "0.020   |  0.0200 \n",
      "0.030   |  0.0300 \n",
      "0.040   |  0.0400 \n",
      "0.050   |  0.0500 \n",
      "0.060   |  0.0600 \n",
      "0.070   |  0.0699 \n",
      "0.080   |  0.0799 \n",
      "0.090   |  0.0899 \n",
      "0.100   |  0.0998 \n",
      "0.110   |  0.1098 \n",
      "0.120   |  0.1197 \n",
      "0.130   |  0.1296 \n",
      "0.140   |  0.1395 \n",
      "0.150   |  0.1494 \n",
      "0.160   |  0.1593 \n",
      "0.170   |  0.1692 \n",
      "0.180   |  0.1790 \n",
      "0.190   |  0.1889 \n",
      "0.200   |  0.1987 \n",
      "0.210   |  0.2085 \n",
      "0.220   |  0.2182 \n",
      "0.230   |  0.2280 \n",
      "0.240   |  0.2377 \n",
      "0.250   |  0.2474 \n",
      "0.260   |  0.2571 \n",
      "0.270   |  0.2667 \n",
      "0.280   |  0.2764 \n",
      "0.290   |  0.2860 \n",
      "0.300   |  0.2955 \n",
      "0.310   |  0.3051 \n",
      "0.320   |  0.3146 \n",
      "0.330   |  0.3240 \n",
      "0.340   |  0.3335 \n",
      "0.350   |  0.3429 \n",
      "0.360   |  0.3523 \n",
      "0.370   |  0.3616 \n",
      "0.380   |  0.3709 \n",
      "0.390   |  0.3802 \n",
      "0.400   |  0.3894 \n",
      "0.410   |  0.3986 \n",
      "0.420   |  0.4078 \n",
      "0.430   |  0.4169 \n",
      "0.440   |  0.4259 \n",
      "0.450   |  0.4350 \n",
      "0.460   |  0.4439 \n",
      "0.470   |  0.4529 \n",
      "0.480   |  0.4618 \n",
      "0.490   |  0.4706 \n",
      "0.500   |  0.4794 \n",
      "0.510   |  0.4882 \n",
      "0.520   |  0.4969 \n",
      "0.530   |  0.5055 \n",
      "0.540   |  0.5141 \n",
      "0.550   |  0.5227 \n",
      "0.560   |  0.5312 \n",
      "0.570   |  0.5396 \n",
      "0.580   |  0.5480 \n",
      "0.590   |  0.5564 \n",
      "0.600   |  0.5646 \n",
      "0.610   |  0.5729 \n",
      "0.620   |  0.5810 \n",
      "0.630   |  0.5891 \n",
      "0.640   |  0.5972 \n",
      "0.650   |  0.6052 \n",
      "0.660   |  0.6131 \n",
      "0.670   |  0.6210 \n",
      "0.680   |  0.6288 \n",
      "0.690   |  0.6365 \n",
      "0.700   |  0.6442 \n",
      "0.710   |  0.6518 \n",
      "0.720   |  0.6594 \n",
      "0.730   |  0.6669 \n",
      "0.740   |  0.6743 \n",
      "0.750   |  0.6816 \n",
      "0.760   |  0.6889 \n",
      "0.770   |  0.6961 \n",
      "0.780   |  0.7033 \n",
      "0.790   |  0.7104 \n",
      "0.800   |  0.7174 \n",
      "0.810   |  0.7243 \n",
      "0.820   |  0.7311 \n",
      "0.830   |  0.7379 \n",
      "0.840   |  0.7446 \n",
      "0.850   |  0.7513 \n",
      "0.860   |  0.7578 \n",
      "0.870   |  0.7643 \n",
      "0.880   |  0.7707 \n",
      "0.890   |  0.7771 \n",
      "0.900   |  0.7833 \n",
      "0.910   |  0.7895 \n",
      "0.920   |  0.7956 \n",
      "0.930   |  0.8016 \n",
      "0.940   |  0.8076 \n",
      "0.950   |  0.8134 \n",
      "0.960   |  0.8192 \n",
      "0.970   |  0.8249 \n",
      "0.980   |  0.8305 \n",
      "0.990   |  0.8360 \n",
      "1.000   |  0.8415 \n",
      "1.010   |  0.8468 \n",
      "1.020   |  0.8521 \n",
      "1.030   |  0.8573 \n",
      "1.040   |  0.8624 \n",
      "1.050   |  0.8674 \n",
      "1.060   |  0.8724 \n",
      "1.070   |  0.8772 \n",
      "1.080   |  0.8820 \n",
      "1.090   |  0.8866 \n",
      "1.100   |  0.8912 \n",
      "1.110   |  0.8957 \n",
      "1.120   |  0.9001 \n",
      "1.130   |  0.9044 \n",
      "1.140   |  0.9086 \n",
      "1.150   |  0.9128 \n",
      "1.160   |  0.9168 \n",
      "1.170   |  0.9208 \n",
      "1.180   |  0.9246 \n",
      "1.190   |  0.9284 \n",
      "1.200   |  0.9320 \n",
      "1.210   |  0.9356 \n",
      "1.220   |  0.9391 \n",
      "1.230   |  0.9425 \n",
      "1.240   |  0.9458 \n",
      "1.250   |  0.9490 \n",
      "1.260   |  0.9521 \n",
      "1.270   |  0.9551 \n",
      "1.280   |  0.9580 \n",
      "1.290   |  0.9608 \n",
      "1.300   |  0.9636 \n",
      "1.310   |  0.9662 \n",
      "1.320   |  0.9687 \n",
      "1.330   |  0.9711 \n",
      "1.340   |  0.9735 \n",
      "1.350   |  0.9757 \n",
      "1.360   |  0.9779 \n",
      "1.370   |  0.9799 \n",
      "1.380   |  0.9819 \n",
      "1.390   |  0.9837 \n",
      "1.400   |  0.9854 \n",
      "1.410   |  0.9871 \n",
      "1.420   |  0.9887 \n",
      "1.430   |  0.9901 \n",
      "1.440   |  0.9915 \n",
      "1.450   |  0.9927 \n",
      "1.460   |  0.9939 \n",
      "1.470   |  0.9949 \n",
      "1.480   |  0.9959 \n",
      "1.490   |  0.9967 \n",
      "1.500   |  0.9975 \n",
      "1.510   |  0.9982 \n",
      "1.520   |  0.9987 \n",
      "1.530   |  0.9992 \n",
      "1.540   |  0.9995 \n",
      "1.550   |  0.9998 \n",
      "1.560   |  0.9999 \n",
      "1.570   |  1.0000 \n"
     ]
    }
   ],
   "source": [
    "import math # package that contains sine\n",
    "print(\"     Sines     \")\n",
    "print(\"   x   \",\"|\",\" sin(x) \")\n",
    "print(\"--------|--------\")\n",
    "for i in range(0,158,1):\n",
    "    x = float(i)*0.01\n",
    "    print(\"%.3f\" % x, \"  |\", \" %.4f \"  % math.sin(x)) # note the format code and the placeholder % and syntax of using package"
   ]
  },
  {
   "cell_type": "markdown",
   "metadata": {},
   "source": [
    "---\n",
    "\n",
    "## Exercise 5: Cutting Corners!\n",
    "Consider the script below, it produces a triangle of lower case 'x' that is 13 lines tall.  Modify the script to allow:\n",
    "\n",
    "1. The user to specify the number of lines (bigger than zero, and less than some upper bound, 40 is probably good so everything fits on the screen.\n",
    "2. The user can specify the character, such as 'x' or 'X' or an 'O' or some  other printable character.\n"
   ]
  },
  {
   "cell_type": "code",
   "execution_count": 22,
   "metadata": {},
   "outputs": [
    {
     "name": "stdout",
     "output_type": "stream",
     "text": [
      "x\n",
      "xx\n",
      "xxx\n",
      "xxxx\n",
      "xxxxx\n",
      "xxxxxx\n",
      "xxxxxxx\n",
      "xxxxxxxx\n",
      "xxxxxxxxx\n",
      "xxxxxxxxxx\n",
      "xxxxxxxxxxx\n",
      "xxxxxxxxxxxx\n",
      "xxxxxxxxxxxxx\n"
     ]
    }
   ],
   "source": [
    "# Modify this script\n",
    "howmany = 13\n",
    "mychar = 'x'\n",
    "linetoprint=''\n",
    "counter = 1\n",
    "while counter <= howmany:\n",
    "    linetoprint=linetoprint + mychar\n",
    "    counter += 1\n",
    "    print(linetoprint)"
   ]
  },
  {
   "cell_type": "markdown",
   "metadata": {},
   "source": [
    "## Exercise 5: Calling in Different Markers\n",
    "\n",
    "Modify your solution above to produce:\n",
    "\n",
    "```\n",
    "W\n",
    "WW\n",
    "WWW\n",
    "WWWW\n",
    "WWWWW\n",
    "WWWWWW\n",
    "WWWWWWT\n",
    "WWWWWWTT\n",
    "WWWWWWTTT\n",
    "WWWWWWTTTT\n",
    "WWWWWWTTTTT\n",
    "WWWWWWTTTTTF\n",
    "WWWWWWTTTTTFF\n",
    "WWWWWWTTTTTFFF\n",
    "WWWWWWTTTTTFFFF\n",
    "WWWWWWTTTTTFFFFF\n",
    "WWWWWWTTTTTFFFFFF\n",
    "WWWWWWTTTTTFFFFFFF\n",
    "```\n",
    "\n",
    "where the 'W','T','F' are user inputs."
   ]
  },
  {
   "cell_type": "markdown",
   "metadata": {},
   "source": []
  },
  {
   "cell_type": "markdown",
   "metadata": {},
   "source": [
    "## Exercise 1 : Part 3 - Completing the Hunt\n",
    "\n",
    "Now using your script from Part 2, and the example below (incomplete - thats your job) insert your selection script code into the appropriate place and find the treasure.  **(i.e. Have your script visit every cell and test for treasure)**\n",
    "\n",
    "                  +-------------------------+\n",
    "                  ¦ 34 ¦ 21 ¦ 32 ¦ 41 ¦ 25  ¦\n",
    "                  +----+----+----+----+-----¦\n",
    "                  ¦ 14 ¦ 42 ¦ 43 ¦ 14 ¦ 31  ¦\n",
    "                  +----+----+----+----+-----¦\n",
    "                  ¦ 54 ¦ 45 ¦ 52 ¦ 42 ¦ 23  ¦\n",
    "                  +----+----+----+----+-----¦\n",
    "                  ¦ 33 ¦ 15 ¦ 51 ¦ 31 ¦ 35  ¦\n",
    "                  +----+----+----+----+-----¦\n",
    "                  ¦ 21 ¦ 52 ¦ 33 ¦ 13 ¦ 23  ¦\n",
    "                  +-------------------------+"
   ]
  },
  {
   "cell_type": "code",
   "execution_count": 12,
   "metadata": {},
   "outputs": [
    {
     "name": "stdout",
     "output_type": "stream",
     "text": [
      "[34, 21, 32, 41, 25]\n",
      "[14, 42, 43, 14, 31]\n",
      "[54, 45, 52, 42, 23]\n",
      "[33, 15, 51, 31, 35]\n",
      "[21, 52, 33, 13, 23]\n",
      "Cell  34  contains no treasure\n",
      "Cell  21  contains no treasure\n",
      "Cell  32  contains no treasure\n",
      "Cell  41  contains no treasure\n",
      "Cell  25  contains no treasure\n",
      "Cell  14  contains no treasure\n",
      "Cell  42  contains no treasure\n",
      "Cell  43  contains no treasure\n",
      "Cell  14  contains no treasure\n",
      "Cell  31  contains no treasure\n",
      "Cell  54  contains no treasure\n",
      "Cell  45  contains no treasure\n",
      "Cell  52  contains no treasure\n",
      "Cell  42  contains no treasure\n",
      "Cell  23  contains no treasure\n",
      "Cell  33  contains no treasure\n",
      "Cell  15  contains no treasure\n",
      "Cell  51  contains no treasure\n",
      "Cell  31  contains no treasure\n",
      "Cell  35  contains no treasure\n",
      "Cell  21  contains no treasure\n",
      "Cell  52  contains TREASURE \n",
      "Cell  33  contains no treasure\n",
      "Cell  13  contains no treasure\n",
      "Cell  23  contains no treasure\n"
     ]
    }
   ],
   "source": [
    "treasuremap = [] # empty list to store row, column information\n",
    "treasuremap.append([34,21,32,41,25]) # first row of the map\n",
    "treasuremap.append([14,42,43,14,31]) # second row of the map\n",
    "treasuremap.append([54,45,52,42,23]) # second row of the map\n",
    "treasuremap.append([33,15,51,31,35]) # second row of the map\n",
    "treasuremap.append([21,52,33,13,23]) # second row of the map\n",
    "# third row of the map\n",
    "# fourth row of the map\n",
    "# fifth row of the map\n",
    "########################\n",
    "for i in range(0,5,1):\n",
    "    print(treasuremap[i][:]) # print the map by row\n",
    "########################\n",
    "for i in range(0,5,1): # visit the rows\n",
    "    for j in range(0,5,1): # visit the columns\n",
    "# get row and column from i and j values\n",
    "        row = i+1\n",
    "        column = j+1\n",
    "# get maprowval and mapcolval\n",
    "        maprowval = str(treasuremap[row-1][column-1])[0]\n",
    "        mapcolval = str(treasuremap[row-1][column-1])[1]\n",
    "# test if cell is a treasure cell or not\n",
    "        if int(maprowval) == row and int(mapcolval) == column :\n",
    "            print('Cell ',treasuremap[i][j], ' contains TREASURE ') # print the map by row\n",
    "            pass #comment this line out when have message\n",
    "        else:\n",
    "            print('Cell ',treasuremap[i][j], ' contains no treasure') # message here for no treasure\n",
    "            pass #comment this line out when have message"
   ]
  },
  {
   "cell_type": "code",
   "execution_count": null,
   "metadata": {},
   "outputs": [],
   "source": []
  }
 ],
 "metadata": {
  "kernelspec": {
   "display_name": "Python 3",
   "language": "python",
   "name": "python3"
  },
  "language_info": {
   "codemirror_mode": {
    "name": "ipython",
    "version": 3
   },
   "file_extension": ".py",
   "mimetype": "text/x-python",
   "name": "python",
   "nbconvert_exporter": "python",
   "pygments_lexer": "ipython3",
   "version": "3.8.10"
  }
 },
 "nbformat": 4,
 "nbformat_minor": 4
}
