{
 "cells": [
  {
   "cell_type": "markdown",
   "metadata": {},
   "source": [
    "**Download** (right-click, save target as ...) this page as a jupyterlab notebook from: [Lab5](http://54.243.252.9/engr-1330-webroot/8-Labs/Lab05/Lab05.ipynb)\n",
    "\n",
    "___"
   ]
  },
  {
   "cell_type": "markdown",
   "metadata": {},
   "source": [
    "# <font color=darkred>Laboratory 5: Sequence, Selection, and Repetition - Oh My! </font>\n",
    "\n",
    "**LAST NAME, FIRST NAME**\n",
    "\n",
    "**R00000000**\n",
    "\n",
    "ENGR 1330 Laboratory 5 - In-Lab"
   ]
  },
  {
   "cell_type": "code",
   "execution_count": 13,
   "metadata": {},
   "outputs": [
    {
     "name": "stdout",
     "output_type": "stream",
     "text": [
      "atomickitty\n",
      "sensei\n",
      "/opt/jupyterhub/bin/python3\n",
      "3.8.10 (default, Jun  2 2021, 10:49:15) \n",
      "[GCC 9.4.0]\n",
      "sys.version_info(major=3, minor=8, micro=10, releaselevel='final', serial=0)\n"
     ]
    }
   ],
   "source": [
    "# Preamble script block to identify host, user, and kernel\n",
    "import sys\n",
    "! hostname\n",
    "! whoami\n",
    "print(sys.executable)\n",
    "print(sys.version)\n",
    "print(sys.version_info)"
   ]
  },
  {
   "cell_type": "markdown",
   "metadata": {},
   "source": [
    "## Sequence\n",
    "\n",
    "Our first structure is sequential.  To belabor the concept we will compute a short list of cubes, by cubing each element in a list and placing it into another list. The example below is dumb, but useful to introduce repetition later in the lab.  \n",
    "\n",
    "First an unusual cell, used to reset a notebook - it will clear the workspace.  Here we use it so the notebook will work the same for everyone (at least at first)."
   ]
  },
  {
   "cell_type": "code",
   "execution_count": 14,
   "metadata": {},
   "outputs": [],
   "source": [
    "# reset this notebook\n",
    "%reset -f \n",
    "# do a manual kernel restart to get the execution count to restart at one"
   ]
  },
  {
   "cell_type": "code",
   "execution_count": 15,
   "metadata": {},
   "outputs": [],
   "source": [
    "# AList = [0.0,1.0,2.0,3.0,4.0] # Create a list of floats"
   ]
  },
  {
   "cell_type": "code",
   "execution_count": 16,
   "metadata": {},
   "outputs": [],
   "source": [
    "# BList = [] #empty list to accept values"
   ]
  },
  {
   "cell_type": "code",
   "execution_count": 17,
   "metadata": {},
   "outputs": [],
   "source": [
    "# position = -1 # set position pointer to -1"
   ]
  },
  {
   "cell_type": "code",
   "execution_count": 18,
   "metadata": {},
   "outputs": [],
   "source": [
    "# position = position + 1 # increment position \n",
    "# BList.append(pow(AList[position],3)) # append to BList to build list of cubes"
   ]
  },
  {
   "cell_type": "code",
   "execution_count": 19,
   "metadata": {},
   "outputs": [],
   "source": [
    "# position = position + 1\n",
    "# BList.append(pow(AList[position],3))"
   ]
  },
  {
   "cell_type": "code",
   "execution_count": 20,
   "metadata": {},
   "outputs": [],
   "source": [
    "# position = position + 1\n",
    "# BList.append(pow(AList[position],3))"
   ]
  },
  {
   "cell_type": "code",
   "execution_count": 21,
   "metadata": {},
   "outputs": [],
   "source": [
    "# position = position + 1\n",
    "# BList.append(pow(AList[position],3))"
   ]
  },
  {
   "cell_type": "code",
   "execution_count": 22,
   "metadata": {},
   "outputs": [],
   "source": [
    "# position = position + 1\n",
    "# BList.append(pow(AList[position],3))"
   ]
  },
  {
   "cell_type": "code",
   "execution_count": 23,
   "metadata": {},
   "outputs": [],
   "source": [
    "# print(BList)"
   ]
  },
  {
   "cell_type": "markdown",
   "metadata": {},
   "source": [
    "### Selection\n",
    "\n",
    "Our next structure is selection, illustrated by a simple example\n",
    "\n",
    "A council member will not be allowed to vote on an ordinance if his/her attendence at council meetings is less than 75%. \n",
    "Take the following inputs from the user: \n",
    "\n",
    "    1. Number of council meetings held.\n",
    "    2. Number of council meetings attended. \n",
    "   \n",
    "Compute the percentage of meetings attended \n",
    "\n",
    "$$\\%_{attended} = \\frac{Meetings_{attended}}{Meetings_{total}}*100$$\n",
    "\n",
    "Use the result to decide whether the council member will be allowed to vote or not."
   ]
  },
  {
   "cell_type": "code",
   "execution_count": 24,
   "metadata": {},
   "outputs": [],
   "source": [
    "# use our simple I/O methods to obtain council persons name\n",
    "# council_name = str(input('enter council person name'))"
   ]
  },
  {
   "cell_type": "code",
   "execution_count": 25,
   "metadata": {},
   "outputs": [],
   "source": [
    "# use our simple I/O methods to obtain meeting count\n",
    "# meetings_total = int(input('How many meetings since last vote?'))"
   ]
  },
  {
   "cell_type": "code",
   "execution_count": 26,
   "metadata": {},
   "outputs": [],
   "source": [
    "# use our simple I/O methods to obtain meetings attended\n",
    "# prompt_string = 'How many meetings did ' + council_name + ' attend? '\n",
    "# meetings_attended = int(input(prompt_string))"
   ]
  },
  {
   "cell_type": "code",
   "execution_count": 27,
   "metadata": {},
   "outputs": [],
   "source": [
    "# compute percent_attendence\n",
    "# percent_attend = 100.0*(meetings_attended/meetings_total) #the 100.0 forces float"
   ]
  },
  {
   "cell_type": "code",
   "execution_count": 28,
   "metadata": {},
   "outputs": [],
   "source": [
    "# select and make eligibility report\n",
    "# if percent_attend < 75:\n",
    "#     print('Council person ',council_name,' attended ',percent_attend,' percent of meetings and is NOT eligible to vote')\n",
    "# else:\n",
    "#     print('Council person ',council_name,' attended ',percent_attend,' percent of meetings and is eligible to vote')"
   ]
  },
  {
   "cell_type": "markdown",
   "metadata": {},
   "source": [
    "## <font color=purple>Repetition (Loops)</font>\n",
    "- Controlled repetition\n",
    "- Structured FOR Loop\n",
    "- Structured WHILE Loop"
   ]
  },
  {
   "cell_type": "markdown",
   "metadata": {},
   "source": [
    "### <font color=purple>Count controlled repetition</font>\n",
    "![](https://chortle.ccsu.edu/assemblytutorial/Chapter-18/countingLoop.gif) <br>\n",
    "\n",
    "Count-controlled repetition is also called definite repetition because the number of repetitions is known before the loop begins executing. \n",
    "When we do not know in advance the number of times we want to execute a statement, we cannot use count-controlled repetition. \n",
    "In such an instance, we would use sentinel-controlled repetition. \n",
    "\n",
    "A count-controlled repetition will exit after running a certain number of times. \n",
    "The count is kept in a variable called an index or counter. \n",
    "When the index reaches a certain value (the loop bound) the loop will end. \n",
    "\n",
    "Count-controlled repetition requires\n",
    "\n",
    "* control variable (or loop counter)\n",
    "* initial value of the control variable\n",
    "* increment (or decrement) by which the control variable is modified each iteration through the loop\n",
    "* condition that tests for the final value of the control variable \n",
    "\n",
    "We can use both `for` and `while` loops, for count controlled repetition, but the `for` loop in combination with the `range()` function is more common.\n",
    "\n",
    "#### Structured `FOR` loop\n",
    "We have seen the for loop already, but we will formally introduce it here. The `for` loop executes a block of code repeatedly until the condition in the `for` statement is no longer true.\n",
    "\n",
    "#### Looping through an iterable\n",
    "An iterable is anything that can be looped over - typically a list, string, or tuple. \n",
    "The syntax for looping through an iterable is illustrated by an example.\n",
    "\n",
    "First a generic syntax\n",
    "\n",
    "    for a in iterable:\n",
    "       print(a)\n",
    "    \n",
    "Notice the colon `:` and the indentation.\n",
    "Now a specific example:"
   ]
  },
  {
   "cell_type": "markdown",
   "metadata": {},
   "source": [
    "___\n",
    "### Example: A Loop to Begin With! \n",
    "\n",
    "Make a list with \"Walter\", \"Jesse\", \"Gus, \"Hank\". Then, write a loop that prints all the elements of your lisk."
   ]
  },
  {
   "cell_type": "code",
   "execution_count": 29,
   "metadata": {},
   "outputs": [],
   "source": [
    "# # set a list\n",
    "# BB = [\"Walter\",\"Jesse\",\"Gus\",\"Hank\"]\n",
    "# # loop thru the list\n",
    "# for AllStrings in BB:\n",
    "#     print(AllStrings)"
   ]
  },
  {
   "cell_type": "markdown",
   "metadata": {},
   "source": [
    "___\n",
    "#### The `range()` function to create an iterable\n",
    "\n",
    "The `range(begin,end,increment)` function will create an iterable starting at a value of begin, in steps defined by increment (`begin += increment`), ending at `end`. \n",
    "\n",
    "So a generic syntax becomes\n",
    "\n",
    "    for a in range(begin,end,increment):\n",
    "       print(a)\n",
    "\n",
    "The example that follows is count-controlled repetition (increment skip if greater)"
   ]
  },
  {
   "cell_type": "code",
   "execution_count": 30,
   "metadata": {},
   "outputs": [],
   "source": [
    "# # set a list\n",
    "# BB = [\"Walter\",\"Jesse\",\"Gus\",\"Hank\"]\n",
    "# # loop thru the list\n",
    "# for i in range(0,4,1): # Change the numbers, what happens?\n",
    "#     print(BB[i])"
   ]
  },
  {
   "cell_type": "markdown",
   "metadata": {},
   "source": [
    "___\n",
    "### Example: That's odd! \n",
    "\n",
    "Write a loop to print all the odd numbers between 0 and 10."
   ]
  },
  {
   "cell_type": "code",
   "execution_count": 31,
   "metadata": {},
   "outputs": [],
   "source": [
    "# # For loop with range\n",
    "# for x in range(1,10,2): # a sequence from 2 to 5 with steps of 1\n",
    "#   print(x)"
   ]
  },
  {
   "cell_type": "markdown",
   "metadata": {},
   "source": [
    "___\n",
    "### <font color=purple>Sentinel-controlled repetition</font>\n",
    "![](https://media.geeksforgeeks.org/wp-content/uploads/20191119172228/Flow-Diagram-do-while-loop.jpg) <br>\n",
    "\n",
    "When loop control is based on the value of what we are processing, sentinel-controlled repetition is used. \n",
    "Sentinel-controlled repetition is also called indefinite repetition because it is not known in advance how many times the loop will be executed. \n",
    "\n",
    "\n",
    "<!--![](https://media0.giphy.com/media/3Xw8jY3zbFRtFd6eK8/giphy.gif) <br>-->\n",
    "\n",
    "It is a repetition procedure for solving a problem by using a sentinel value (also called a signal value, a dummy value or a flag value) to indicate \"end of process\". \n",
    "The sentinel value itself need not be a part of the processed data.\n",
    "\n",
    "One common example of using sentinel-controlled repetition is when we are processing data from a file and we do not know in advance when we would reach the end of the file. \n",
    "\n",
    "We can use both `for` and `while` loops, for __Sentinel__ controlled repetition, but the `while` loop is more common.\n",
    "\n",
    "#### Structured `WHILE` loop\n",
    "The `while` loop repeats a block of instructions inside the loop while a condition remainsvtrue.\n",
    "\n",
    "First a generic syntax\n",
    "\n",
    "    while condition is true:\n",
    "        execute a\n",
    "        execute b\n",
    "    ....\n",
    "\n",
    "Notice our friend, the colon `:` and the indentation again."
   ]
  },
  {
   "cell_type": "code",
   "execution_count": 32,
   "metadata": {},
   "outputs": [],
   "source": [
    "# # set a counter\n",
    "# counter = 5\n",
    "# # while loop\n",
    "# while counter > 0:\n",
    "#     print(\"Counter = \",counter)\n",
    "#     counter = counter -1"
   ]
  },
  {
   "cell_type": "markdown",
   "metadata": {},
   "source": [
    "> The while loop structure just depicted is a \"decrement, skip if equal\" in lower level languages. The next structure, also a while loop is an \"increment, skip if greater\" structure."
   ]
  },
  {
   "cell_type": "code",
   "execution_count": 33,
   "metadata": {},
   "outputs": [],
   "source": [
    "# # set a counter\n",
    "# counter = 0\n",
    "# # while loop\n",
    "# while counter <= 5:  # change this line to: while counter <= 5: what happens?\n",
    "#     print (\"Counter = \",counter)\n",
    "#     counter = counter +1  # change this line to: counter +=1  what happens?\n"
   ]
  },
  {
   "cell_type": "markdown",
   "metadata": {},
   "source": [
    "Beware, its easy to create an infinite loop with this structure.  The lab instructor will do so, and illustrate how to regain control of your computer when you do.  "
   ]
  },
  {
   "cell_type": "markdown",
   "metadata": {},
   "source": [
    "___\n",
    "### <font color=purple>Nested Repetition | Loops within Loops</font>\n",
    " \n",
    "<!-- ![](https://i.gifer.com/7kmF.gif) <br> -->\n",
    "\n"
   ]
  },
  {
   "cell_type": "markdown",
   "metadata": {},
   "source": [
    "> Round like a circle in a spiral, like a wheel within a wheel <br>\n",
    "Never ending or beginning on an ever spinning reel <br>\n",
    "Like a snowball down a mountain, or a carnival balloon <br>\n",
    "Like a carousel that's turning running rings around the moon <br>\n",
    "Like a clock whose hands are sweeping past the minutes of its face <br>\n",
    "And the world is like an apple whirling silently in space <br>\n",
    "Like the circles that you find in the windmills of your mind! <br>\n",
    "<br>\n",
    "***Windmills of Your Mind lyrics © Sony/ATV Music Publishing LLC, BMG Rights Management*** <br>\n",
    "***Songwriters: Marilyn Bergman / Michel Legrand / Alan Bergman*** <br>\n",
    "***Recommended versions: Neil Diamond | Dusty Springfield | Farhad Mehrad***  <br>"
   ]
  },
  {
   "cell_type": "markdown",
   "metadata": {},
   "source": [
    "\"Like the circles that you find in the windmills of your mind\", Nested repetition is when a control structure is placed inside of the body or main part of another control structure.\n",
    "\n",
    "#### `break` to exit out of a loop\n",
    "\n",
    "Sometimes you may want to exit the loop when a certain condition different from the counting\n",
    "condition is met. Perhaps you are looping through a list and want to exit when you find the\n",
    "first element in the list that matches some criterion. The break keyword is useful for such\n",
    "an operation.\n",
    "For example run the following program:"
   ]
  },
  {
   "cell_type": "code",
   "execution_count": 34,
   "metadata": {},
   "outputs": [],
   "source": [
    "# #\n",
    "# j = 0\n",
    "# for i in range(0,5,1):\n",
    "#     j += 2\n",
    "#     print (\"i = \",i,\"j = \",j)\n",
    "#     if j == 6:\n",
    "#         break"
   ]
  },
  {
   "cell_type": "code",
   "execution_count": 35,
   "metadata": {},
   "outputs": [],
   "source": [
    "# # One Small Change\n",
    "# j = 0\n",
    "# for i in range(0,5,1):\n",
    "#     j += 2\n",
    "#     print( \"i = \",i,\"j = \",j)\n",
    "#     if j == 7:\n",
    "#         break"
   ]
  },
  {
   "cell_type": "markdown",
   "metadata": {},
   "source": [
    "In the first case, the for loop only executes 3 times before the condition j == 6 is TRUE and the loop is exited. \n",
    "In the second case, j == 7 never happens so the loop completes all its anticipated traverses.\n",
    "\n",
    "In both cases an `if` statement was used within a for loop. Such \"mixed\" control structures\n",
    "are quite common (and pretty necessary). \n",
    "A `while` loop contained within a `for` loop, with several `if` statements would be very common and such a structure is called __nested control.__\n",
    "There is typically an upper limit to nesting but the limit is pretty large - easily in the\n",
    "hundreds. It depends on the language and the system architecture ; suffice to say it is not\n",
    "a practical limit except possibly for general-domain AI applications.\n",
    "<hr>\n",
    "We can also do mundane activities and leverage loops, arithmetic, and format codes to make useful tables like\n"
   ]
  },
  {
   "cell_type": "markdown",
   "metadata": {},
   "source": [
    "### Example: Cosines in the loop! \n",
    "\n",
    "Write a loop to print a table of the cosines of numbers between 0 and 0.01 with steps of 0.001."
   ]
  },
  {
   "cell_type": "code",
   "execution_count": 36,
   "metadata": {},
   "outputs": [],
   "source": [
    "# import math # package that contains cosine\n",
    "# print(\"     Cosines     \")\n",
    "# print(\"   x   \",\"|\",\" cos(x) \")\n",
    "# print(\"--------|--------\")\n",
    "# for i in range(0,100,1):\n",
    "#     x = float(i)*0.001\n",
    "#     print(\"%.3f\" % x, \"  |\", \" %.4f \"  % math.cos(x)) # note the format code and the placeholder % and syntax of using package"
   ]
  },
  {
   "cell_type": "markdown",
   "metadata": {},
   "source": [
    "___\n",
    "### Example: Getting the hang of it! \n",
    "\n",
    "Write a Python script that takes a real input value (a float) for x and returns the y\n",
    "value according to the rules below\n",
    "\n",
    "\\begin{gather}\n",
    "y = x~for~0 <= x < 1 \\\\\n",
    "y = x^2~for~1 <= x < 2 \\\\\n",
    "y = x + 2~for~2 <= x < 3 \\\\\n",
    "\\end{gather}\n",
    "\n",
    "Test the script with x values of 0.0, 1.0, 1.1, and 2.1. <br>\n",
    "add functionality to **automaticaly** populate the table below:\n",
    "\n",
    "|x|y(x)|\n",
    "|---:|---:|\n",
    "|0.0|  |\n",
    "|1.0|  |\n",
    "|2.0|  |\n",
    "|3.0|  |\n",
    "|4.0|  |\n",
    "|5.0|  |"
   ]
  },
  {
   "cell_type": "code",
   "execution_count": 37,
   "metadata": {},
   "outputs": [],
   "source": [
    "# userInput = input('Enter enter a float') #ask for user's input\n",
    "# x = float(userInput)\n",
    "# print(\"x:\", x)\n",
    "\n",
    "# if x >= 0 and x < 1:\n",
    "#     y = x\n",
    "#     print(\"y is equal to\",y)\n",
    "# elif x >= 1 and x < 2:\n",
    "#     y = x*x\n",
    "#     print(\"y is equal to\",y)\n",
    "# else:\n",
    "#     y = x+2\n",
    "#     print(\"y is equal to\",y)"
   ]
  },
  {
   "cell_type": "code",
   "execution_count": 38,
   "metadata": {},
   "outputs": [],
   "source": [
    "# without pretty table\n",
    "\n",
    "# print(\"---x---\",\"|\",\"---y---\")\n",
    "# print(\"--------|--------\")\n",
    "# for x in range(0,6,1):\n",
    "#     if x >= 0 and x < 1:\n",
    "#         y = x\n",
    "#         print(\"%4.f\" % x, \"   |\", \" %4.f \" % y)\n",
    "#     elif x >= 1 and x < 2:\n",
    "#         y = x*x\n",
    "#         print(\"%4.f\" % x, \"   |\", \" %4.f \" % y)\n",
    "#     else:\n",
    "#         y = x+2\n",
    "#         print(\"%4.f\" % x, \"   |\", \" %4.f \" % y)"
   ]
  },
  {
   "cell_type": "code",
   "execution_count": 39,
   "metadata": {},
   "outputs": [],
   "source": [
    "# # with pretty table\n",
    "\n",
    "# from prettytable import PrettyTable #Required to create tables\n",
    "\n",
    "# t = PrettyTable(['x', 'y']) #Define an empty table\n",
    "\n",
    "\n",
    "# for x in range(0,6,1):\n",
    "#     if x >= 0 and x < 1:\n",
    "#         y = x\n",
    "#         print(\"for x equal to\", x, \", y is equal to\",y)\n",
    "#         t.add_row([x, y]) #will add a row to the table \"t\"\n",
    "#     elif x >= 1 and x < 2:\n",
    "#         y = x*x\n",
    "#         print(\"for x equal to\", x, \", y is equal to\",y)\n",
    "#         t.add_row([x, y])\n",
    "#     else:\n",
    "#         y = x+2\n",
    "#         print(\"for x equal to\", x, \", y is equal to\",y)\n",
    "#         t.add_row([x, y])\n",
    "\n",
    "# print(t)"
   ]
  },
  {
   "cell_type": "markdown",
   "metadata": {},
   "source": [
    "___\n",
    "#### The `continue` statement\n",
    "The continue instruction skips the block of code after it is executed for that iteration, and continues with the loop traverse\n",
    "It is\n",
    "best illustrated by an example."
   ]
  },
  {
   "cell_type": "code",
   "execution_count": 40,
   "metadata": {},
   "outputs": [],
   "source": [
    "# j = 0\n",
    "# for i in range(0,5,1):\n",
    "#     j += 2\n",
    "#     print (\"\\n i = \", i , \", j = \", j) #here the \\n is a newline command\n",
    "#     if j == 6:\n",
    "#         continue\n",
    "#     else:\n",
    "#         print(\" this message will be skipped over if j = 6 \") # still within the loop, so the skip is implemented\n",
    "    \n",
    "# #When j ==6 the line after the continue keyword is not printed. \n",
    "# #Other than that one difference the rest of the script runs normally."
   ]
  },
  {
   "cell_type": "markdown",
   "metadata": {},
   "source": [
    "___\n",
    "#### The `try`, `except` structure\n",
    "\n",
    "An important control structure (and a pretty cool one for error trapping) is the `try`, `except`\n",
    "statement.\n",
    "\n",
    "The statement controls how the program proceeds when an error occurs in an instruction.\n",
    "The structure is really useful to trap likely errors (divide by zero, wrong kind of input) \n",
    "yet let the program keep running or at least issue a meaningful message to the user.\n",
    "\n",
    "The syntax is:\n",
    "\n",
    "    try:\n",
    "    do something\n",
    "    except:\n",
    "    do something else if ``do something'' returns an error\n",
    "\n",
    "Here is a really simple, but hugely important example:"
   ]
  },
  {
   "cell_type": "code",
   "execution_count": 41,
   "metadata": {},
   "outputs": [],
   "source": [
    "#MyErrorTrap.py\n",
    "# x = 12.\n",
    "# y = 12.\n",
    "# while y >= -12.: # sentinel controlled repetition\n",
    "#     try:         \n",
    "#         print (\"x = \", x, \"y = \", y, \"x/y = \", x/y)\n",
    "#     except:\n",
    "#         print (\"error divide by zero\")\n",
    "#     y -= 1"
   ]
  },
  {
   "cell_type": "markdown",
   "metadata": {},
   "source": [
    "So this silly code starts with x fixed at a value of 12, and y starting at 12 and decreasing by\n",
    "1 until y equals -1. The code returns the ratio of x to y and at one point y is equal to zero\n",
    "and the division would be undefined. By trapping the error the code can issue us a measure\n",
    "and keep running.\n",
    "\n",
    "Modify the script as shown below,Run, and see what happens"
   ]
  },
  {
   "cell_type": "code",
   "execution_count": 42,
   "metadata": {},
   "outputs": [],
   "source": [
    "#NoErrorTrap.py\n",
    "# x = 12.\n",
    "# y = 12.\n",
    "# while y >= -12.: # sentinel controlled repetition\n",
    "#     print (\"x = \", x, \"y = \", y, \"x/y = \", x/y)\n",
    "#     y -= 1"
   ]
  },
  {
   "cell_type": "markdown",
   "metadata": {},
   "source": [
    "___\n",
    "## Readings\n",
    "\n",
    "*Here are some great reads on this topic:* \n",
    "- \"Python for Loop\" available at [https://www.programiz.com/python-programming/for-loop/](https://www.programiz.com/python-programming/for-loop/)<br>\n",
    "- \"Python \"for\" Loops (Definite Iteration)\" by John Sturtz available at [https://realpython.com/python-for-loop/](https://realpython.com/python-for-loop/) <br>\n",
    "- \"Python \"while\" Loops (Indefinite Iteration)\" by John Sturtz available at [https://realpython.com/python-while-loop/](https://realpython.com/python-while-loop/) <br>\n",
    "- \"loops in python\" available at [https://www.geeksforgeeks.org/loops-in-python/ ](https://www.geeksforgeeks.org/loops-in-python/) <br>\n",
    "- \"Python Exceptions: An Introduction\" by Said van de Klundert available at [https://realpython.com/python-exceptions/](https://realpython.com/python-exceptions/) <br>\n",
    "\n",
    "*Here are some great videos on these topics:* \n",
    "- \"Python For Loops - Python Tutorial for Absolute Beginners\" by Programming with Mosh available at [https://www.youtube.com/watch?v=94UHCEmprCY](https://www.youtube.com/watch?v=94UHCEmprCY) <br>\n",
    "- \"Python Tutorial for Beginners 7: Loops and Iterations - For/While Loops\" by Corey Schafer available at [https://www.youtube.com/watch?v=6iF8Xb7Z3wQ](https://www.youtube.com/watch?v=6iF8Xb7Z3wQ) <br>\n",
    "- \"Python 3 Programming Tutorial - For loop\" by sentdex available at [https://www.youtube.com/watch?v=xtXexPSfcZg ](https://www.youtube.com/watch?v=xtXexPSfcZg) <br><br>"
   ]
  },
  {
   "cell_type": "code",
   "execution_count": null,
   "metadata": {},
   "outputs": [],
   "source": []
  }
 ],
 "metadata": {
  "kernelspec": {
   "display_name": "Python 3",
   "language": "python",
   "name": "python3"
  },
  "language_info": {
   "codemirror_mode": {
    "name": "ipython",
    "version": 3
   },
   "file_extension": ".py",
   "mimetype": "text/x-python",
   "name": "python",
   "nbconvert_exporter": "python",
   "pygments_lexer": "ipython3",
   "version": "3.8.10"
  }
 },
 "nbformat": 4,
 "nbformat_minor": 4
}
