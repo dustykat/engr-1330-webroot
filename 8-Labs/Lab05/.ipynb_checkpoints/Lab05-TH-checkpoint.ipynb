{
 "cells": [
  {
   "cell_type": "markdown",
   "metadata": {},
   "source": [
    "**Download** (right-click, save target as ...) this page as a jupyterlab notebook from: [Lab5-HW](http://54.243.252.9/engr-1330-webroot/8-Labs/Lab05/Lab05-TH.ipynb)\n",
    "\n",
    "___"
   ]
  },
  {
   "cell_type": "markdown",
   "metadata": {},
   "source": [
    "# <font color=darkred>Exercise Set 5: Sequence, Selection, and Repetition - Oh My! </font>\n",
    "\n",
    "**LAST NAME, FIRST NAME**\n",
    "\n",
    "**R00000000**\n",
    "\n",
    "ENGR 1330 ES-5 - Homework"
   ]
  },
  {
   "cell_type": "code",
   "execution_count": 6,
   "metadata": {},
   "outputs": [
    {
     "name": "stdout",
     "output_type": "stream",
     "text": [
      "atomickitty\n",
      "sensei\n",
      "/opt/jupyterhub/bin/python3\n",
      "3.8.10 (default, Nov 26 2021, 20:14:08) \n",
      "[GCC 9.3.0]\n",
      "sys.version_info(major=3, minor=8, micro=10, releaselevel='final', serial=0)\n"
     ]
    }
   ],
   "source": [
    "# Preamble script block to identify host, user, and kernel\n",
    "import sys\n",
    "! hostname\n",
    "! whoami\n",
    "print(sys.executable)\n",
    "print(sys.version)\n",
    "print(sys.version_info)"
   ]
  },
  {
   "cell_type": "markdown",
   "metadata": {},
   "source": [
    "## Exercise 1 : Find the Treasure Part 1\n",
    "\n",
    "Consider the structure below (a treasure map)\n",
    "\n",
    "                  +-------------------------+\n",
    "                  ¦ 34 ¦ 21 ¦ 32 ¦ 41 ¦ 25  ¦\n",
    "                  +----+----+----+----+-----¦\n",
    "                  ¦ 14 ¦ 42 ¦ 43 ¦ 14 ¦ 31  ¦\n",
    "                  +----+----+----+----+-----¦\n",
    "                  ¦ 54 ¦ 45 ¦ 52 ¦ 42 ¦ 23  ¦\n",
    "                  +----+----+----+----+-----¦\n",
    "                  ¦ 33 ¦ 15 ¦ 51 ¦ 31 ¦ 35  ¦\n",
    "                  +----+----+----+----+-----¦\n",
    "                  ¦ 21 ¦ 52 ¦ 33 ¦ 13 ¦ 23  ¦\n",
    "                  +-------------------------+\n",
    "\n",
    "In this problem you are to write a program to explore the above array for a treasure. The values in the array are clues. Each cell contains an integer between 11 and 55; for each value the ten's digit represents the row number and the unit's digit represents the column number of the cell containing the next clue. Starting in the upper left corner (at 1,1), use the clues to guide your search of the array. (The first three clues are 11, 34, 42). The treasure is a cell whose value is the same as its coordinates. Your program must first read in the treasure map data into a 5 by 5 array. Your program should output the cells it visits during its search, and a message indicating where you found the treasure.\n",
    "\n",
    "*The \"Treasure Hunt Problem\" is from the HackerRank.com avaiable at https://www.hackerrank.com/contests/startatastartup/challenges/treasure-hunt*\n",
    "\n",
    "**Now for your problem** we have not yet learned how to read from files, its a small problem so lets just construct the map manually by a sequence of expressions; Your colleague got it started, but three of the rows are duplicates of the second row; repair the script and demonstrate that the repair correctly prints the treasure map."
   ]
  },
  {
   "cell_type": "code",
   "execution_count": null,
   "metadata": {},
   "outputs": [],
   "source": [
    "treasuremap = [] # empty list to store row, column information\n",
    "treasuremap.append([34,21,32,41,25]) # first row of the map\n",
    "treasuremap.append([14,42,43,14,31]) # second row of the map\n",
    "treasuremap.append([14,42,43,14,31])# third row of the map\n",
    "treasuremap.append([14,42,43,14,31])# fourth row of the map\n",
    "treasuremap.append([14,42,43,14,31])# fifth row of the map\n",
    "print(treasuremap) # print the map (which is a list)"
   ]
  },
  {
   "cell_type": "markdown",
   "metadata": {},
   "source": [
    "## Exercise 1 Part 2 -- Adding Some Selection\n",
    "\n",
    "Using your corrected treasure map; script a selection statement that tests if a cell contains treasure (does the cell value agree with the row and column index), but it needs useful messages - **add the messages**.\n",
    "\n",
    "Test your script using:\n",
    "- Case 1 `row=1` `column=3`\n",
    "- Case 2 `row=5` `column=2`"
   ]
  },
  {
   "cell_type": "code",
   "execution_count": null,
   "metadata": {},
   "outputs": [],
   "source": [
    "row = 1\n",
    "column = 3\n",
    "print(treasuremap[row-1][column-1]) # print a single element\n",
    "maprowval = str(treasuremap[row-1][column-1])[0]\n",
    "mapcolval = str(treasuremap[row-1][column-1])[1]\n",
    "if int(maprowval) == row and int(mapcolval) == column :\n",
    "    # message here for treasure\n",
    "    pass #comment this line out when have message\n",
    "else:\n",
    "    # message here for no treasure\n",
    "    pass #comment this line out when have message\n"
   ]
  },
  {
   "cell_type": "markdown",
   "metadata": {},
   "source": [
    "---\n",
    "\n",
    "## Exercise 1 : Part 3 - Completing the Hunt\n",
    "\n",
    "Now you have all the parts needed to automatically find the treasure using your script from Part 2, and the scaffold below (incomplete - thats your job) insert your selection script code into the appropriate place and find the treasure.  Stop the search when the treasure is found.\n",
    "             \n",
    "                  +-------------------------+\n",
    "                  ¦ 34 ¦ 21 ¦ 32 ¦ 41 ¦ 25  ¦\n",
    "                  +----+----+----+----+-----¦\n",
    "                  ¦ 14 ¦ 42 ¦ 43 ¦ 14 ¦ 31  ¦\n",
    "                  +----+----+----+----+-----¦\n",
    "                  ¦ 54 ¦ 45 ¦ 52 ¦ 42 ¦ 23  ¦\n",
    "                  +----+----+----+----+-----¦\n",
    "                  ¦ 33 ¦ 15 ¦ 51 ¦ 31 ¦ 35  ¦\n",
    "                  +----+----+----+----+-----¦\n",
    "                  ¦ 21 ¦ 52 ¦ 33 ¦ 13 ¦ 23  ¦\n",
    "                  +-------------------------+"
   ]
  },
  {
   "cell_type": "code",
   "execution_count": null,
   "metadata": {},
   "outputs": [],
   "source": [
    "# put the correct treasure map here\n",
    "########################\n",
    "for i in range(0,5,1): \n",
    "    print(treasuremap[i][:]) # print the map by row\n",
    "########################\n",
    "for i in range(0,5,1): # visit the rows\n",
    "    for j in range(0,5,1): # visit the columns\n",
    "        print(treasuremap[i][j]) # print the element by element, suppress when working\n",
    "        # get row and column from i and j values\n",
    "        # get maprowval and mapcolval as in part 2\n",
    "        # test if cell is a treasure cell or not as in part 2 and issue message"
   ]
  },
  {
   "cell_type": "markdown",
   "metadata": {},
   "source": [
    "___\n",
    "\n",
    "## Exercise 2: A Loop for Leaps! \n",
    "\n",
    "1904 was a leap year. Create a script that prints out all the leap years from in the 20th century (1904-1999). "
   ]
  },
  {
   "cell_type": "code",
   "execution_count": 14,
   "metadata": {},
   "outputs": [],
   "source": [
    "# A loop for leaps - some hints\n",
    "# Make a script that prints all years from 1904-1999; then modify to just print the leaps!"
   ]
  },
  {
   "cell_type": "markdown",
   "metadata": {},
   "source": [
    "---\n",
    "\n",
    "## Exercise 3: Whats your sine? \n",
    "\n",
    "Print a table of the sines of angles (in radians) between 0 and 1.57 with steps of 0.01. The script below might help (it will need modification!)"
   ]
  },
  {
   "cell_type": "code",
   "execution_count": null,
   "metadata": {},
   "outputs": [],
   "source": [
    "import math # package that contains trig functions\n",
    "print(\"     Cosines     \")\n",
    "print(\"   x   \",\"|\",\" cos(x) \")\n",
    "print(\"--------|--------\")\n",
    "for i in range(0,10,1):\n",
    "    x = float(i)*0.01\n",
    "    print(\"%.3f\" % x, \"  |\", \" %.4f \"  % math.cos(x)) # note the format code and the placeholder % and syntax of using package"
   ]
  }
 ],
 "metadata": {
  "kernelspec": {
   "display_name": "Python 3",
   "language": "python",
   "name": "python3"
  },
  "language_info": {
   "codemirror_mode": {
    "name": "ipython",
    "version": 3
   },
   "file_extension": ".py",
   "mimetype": "text/x-python",
   "name": "python",
   "nbconvert_exporter": "python",
   "pygments_lexer": "ipython3",
   "version": "3.8.10"
  }
 },
 "nbformat": 4,
 "nbformat_minor": 4
}
