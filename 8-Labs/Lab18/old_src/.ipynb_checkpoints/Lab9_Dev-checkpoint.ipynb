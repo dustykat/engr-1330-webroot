{
 "cells": [
  {
   "cell_type": "markdown",
   "metadata": {},
   "source": [
    "# <font color=darkred>Laboratory 9: \"A Bullet or A Goat?\" or \"Things you should know before playing with strangers!\"</font>"
   ]
  },
  {
   "cell_type": "code",
   "execution_count": 3,
   "metadata": {},
   "outputs": [
    {
     "name": "stdout",
     "output_type": "stream",
     "text": [
      "DESKTOP-EH6HD63\n",
      "desktop-eh6hd63\\farha\n",
      "C:\\Users\\Farha\\Anaconda3\\python.exe\n",
      "3.7.4 (default, Aug  9 2019, 18:34:13) [MSC v.1915 64 bit (AMD64)]\n",
      "sys.version_info(major=3, minor=7, micro=4, releaselevel='final', serial=0)\n"
     ]
    }
   ],
   "source": [
    "# Preamble script block to identify host, user, and kernel\n",
    "import sys\n",
    "! hostname\n",
    "! whoami\n",
    "print(sys.executable)\n",
    "print(sys.version)\n",
    "print(sys.version_info)"
   ]
  },
  {
   "cell_type": "markdown",
   "metadata": {},
   "source": [
    "## Full name: \n",
    "## R#: \n",
    "## Title of the notebook:\n",
    "## Date:\n",
    "___"
   ]
  },
  {
   "cell_type": "markdown",
   "metadata": {},
   "source": [
    "# <font color=purple>Simulation, Games, and Probability</font>"
   ]
  },
  {
   "cell_type": "markdown",
   "metadata": {},
   "source": [
    "## What is Russian roulette?\n",
    ">Russian roulette (Russian: русская рулетка, russkaya ruletka) is a lethal game of chance in which a player places a single round in a revolver, spins the cylinder, places the muzzle against their head, and pulls the trigger in hopes that the loaded chamber does not align with the primer percussion mechanism and the barrel, causing the weapon to discharge. Russian refers to the supposed country of origin, and roulette to the element of risk-taking and the spinning of the revolver's cylinder, which is reminiscent of a spinning roulette wheel. <br>\n",
    "- Wikipedia @ https://en.wikipedia.org/wiki/Russian_roulette"
   ]
  },
  {
   "cell_type": "markdown",
   "metadata": {},
   "source": [
    "<img src=\"https://emblemsbf.com/img/27699.webp\">"
   ]
  },
  {
   "cell_type": "markdown",
   "metadata": {},
   "source": [
    ">A game of dafts, a game of chance <br>\n",
    "One where revolver's the one to dance <br>\n",
    "Rounds and rounds, it goes and spins <br>\n",
    "Makes you regret all those sins <br> \\\n",
    "A game of fools, one of lethality  <br>\n",
    "With a one to six probability <br>\n",
    "There were two guys and a gun <br>\n",
    "With six chambers but only one... <br> \\\n",
    "CLICK, one pushed the gun <br>\n",
    "CLICK, one missed the fun <br>\n",
    "CLICK, \"that awful sound\" ... <br>\n",
    "BANG!, one had his brains all around! <br>"
   ]
  },
  {
   "cell_type": "markdown",
   "metadata": {},
   "source": [
    "___\n",
    "### Example: Simulate a game of Russian Roulette:\n",
    "- For 2 rounds\n",
    "- For 5 rounds\n",
    "- For 10 rounds"
   ]
  },
  {
   "cell_type": "code",
   "execution_count": 4,
   "metadata": {
    "collapsed": false,
    "jupyter": {
     "outputs_hidden": false
    }
   },
   "outputs": [
    {
     "name": "stdout",
     "output_type": "stream",
     "text": [
      "[0 0]\n"
     ]
    }
   ],
   "source": [
    "import numpy as np                     #import numpy\n",
    "revolver = np.array([1,0,0,0,0,0])     #create a numpy array with 1 bullet and 5 empty chambers\n",
    "print(np.random.choice(revolver,2))              #randomly select a value from revolver - simulation"
   ]
  },
  {
   "cell_type": "code",
   "execution_count": 5,
   "metadata": {
    "collapsed": false,
    "jupyter": {
     "outputs_hidden": false
    }
   },
   "outputs": [
    {
     "name": "stdout",
     "output_type": "stream",
     "text": [
      "[0 0 0 0 0]\n"
     ]
    }
   ],
   "source": [
    "print(np.random.choice(revolver,5))"
   ]
  },
  {
   "cell_type": "code",
   "execution_count": 6,
   "metadata": {
    "collapsed": false,
    "jupyter": {
     "outputs_hidden": false
    }
   },
   "outputs": [
    {
     "name": "stdout",
     "output_type": "stream",
     "text": [
      "[0 0 0 0 1 0 0 0 0 1]\n"
     ]
    }
   ],
   "source": [
    "print(np.random.choice(revolver,10))"
   ]
  },
  {
   "cell_type": "markdown",
   "metadata": {},
   "source": [
    "![](https://blog.uvm.edu/aivakhiv/files/2020/06/d4cawex-fd18072b-6140-48d9-93d7-0fa9435abf0e.png)"
   ]
  },
  {
   "cell_type": "markdown",
   "metadata": {},
   "source": [
    "___\n",
    "### Example: Simulate the results of throwing a D6 (regular dice) for 10 times. "
   ]
  },
  {
   "cell_type": "code",
   "execution_count": 7,
   "metadata": {
    "collapsed": false,
    "jupyter": {
     "outputs_hidden": false
    }
   },
   "outputs": [
    {
     "data": {
      "text/plain": [
       "array([6, 2, 3, 2, 6, 3, 4, 1, 6, 2])"
      ]
     },
     "execution_count": 7,
     "metadata": {},
     "output_type": "execute_result"
    }
   ],
   "source": [
    "import numpy as np                     #import numpy\n",
    "dice = np.array([1,2,3,4,5,6])         #create a numpy array with values of a D6\n",
    "np.random.choice(dice,10)              #randomly selecting a value from dice for 10 times- simulation"
   ]
  },
  {
   "cell_type": "markdown",
   "metadata": {},
   "source": [
    "___\n",
    "### Example: Assume the following rules:\n",
    "\n",
    "- If the dice shows 1 or 2 spots, my net gain is -1 dollar.\n",
    "\n",
    "- If the dice shows 3 or 4 spots, my net gain is 0 dollars.\n",
    "\n",
    "- If the dice shows 5 or 6 spots, my net gain is 1 dollar.\n",
    "\n",
    "__Define a function to simulate a game with the above rules, assuming a D6, and compute the net gain of the player over any given number of rolls. <br>\n",
    "Compute the net gain for 5, 50, and 500 rolls__"
   ]
  },
  {
   "cell_type": "code",
   "execution_count": 8,
   "metadata": {
    "collapsed": false,
    "jupyter": {
     "outputs_hidden": false
    }
   },
   "outputs": [],
   "source": [
    "def D6game(nrolls):\n",
    "    import numpy as np                     #import numpy\n",
    "    dice = np.array([1,2,3,4,5,6])         #create a numpy array with values of a D6\n",
    "    rolls = np.random.choice(dice,nrolls)  #randomly selecting a value from dice for nrolls times- simulation\n",
    "    gainlist =[]                           #create an empty list for gains|losses\n",
    "    for i in np.arange(len(rolls)):        #Apply the rules \n",
    "        if rolls[i]<=2:\n",
    "            gainlist.append(-1)\n",
    "        elif rolls[i]<=4:\n",
    "            gainlist.append(0)\n",
    "        elif rolls[i]<=6:\n",
    "            gainlist.append(+1)\n",
    "    return (np.sum(gainlist))              #sum up all gains|losses\n",
    "#   return (gainlist,\"The net gain is equal to:\",np.sum(gainlist))\n"
   ]
  },
  {
   "cell_type": "code",
   "execution_count": 9,
   "metadata": {
    "collapsed": false,
    "jupyter": {
     "outputs_hidden": false
    }
   },
   "outputs": [
    {
     "data": {
      "text/plain": [
       "3"
      ]
     },
     "execution_count": 9,
     "metadata": {},
     "output_type": "execute_result"
    }
   ],
   "source": [
    "D6game(5)"
   ]
  },
  {
   "cell_type": "code",
   "execution_count": 10,
   "metadata": {
    "collapsed": false,
    "jupyter": {
     "outputs_hidden": false
    }
   },
   "outputs": [
    {
     "data": {
      "text/plain": [
       "14"
      ]
     },
     "execution_count": 10,
     "metadata": {},
     "output_type": "execute_result"
    }
   ],
   "source": [
    "D6game(50)"
   ]
  },
  {
   "cell_type": "code",
   "execution_count": 11,
   "metadata": {
    "collapsed": false,
    "jupyter": {
     "outputs_hidden": false
    }
   },
   "outputs": [
    {
     "data": {
      "text/plain": [
       "-16"
      ]
     },
     "execution_count": 11,
     "metadata": {},
     "output_type": "execute_result"
    }
   ],
   "source": [
    "D6game(500)"
   ]
  },
  {
   "cell_type": "markdown",
   "metadata": {},
   "source": [
    "![](https://www.gannett-cdn.com/media/2017/09/30/USATODAY/USATODAY/636423937425139027-XXX-D4-MONTY-HALL-27-TV.jpg?width=2560)"
   ]
  },
  {
   "cell_type": "markdown",
   "metadata": {},
   "source": [
    "### Let's Make A Deal Game Show and Monty Hall Problem \n",
    "__The Monty Hall problem is a brain teaser, in the form of a probability puzzle, loosely based on the American television game show Let's Make a Deal and named after its original host, Monty Hall. The problem was originally posed (and solved) in a letter by Steve Selvin to the American Statistician in 1975 (Selvin 1975a), (Selvin 1975b).__\n",
    "\n",
    ">\"Suppose you're on a game show, and you're given the choice of three doors: Behind one door is a car; behind the others, goats. You pick a door, say No. 1, and the host, who knows what's behind the doors, opens another door, say No. 3, which has a goat. He then says to you, \"Do you want to pick door No. 2?\" Is it to your advantage to switch your choice?\"\n",
    "\n",
    "__*From Wikipedia: https://en.wikipedia.org/wiki/Monty_Hall_problem*__"
   ]
  },
  {
   "cell_type": "markdown",
   "metadata": {},
   "source": [
    "![](https://thumbs.gfycat.com/ClearcutFragrantArcherfish-size_restricted.gif)"
   ]
  },
  {
   "cell_type": "markdown",
   "metadata": {},
   "source": [
    "![](http://www.bcmath.ca/m10h/The%20Monty%20Hall%20Problem%20(Web)/data/img1.png)"
   ]
  },
  {
   "cell_type": "markdown",
   "metadata": {},
   "source": [
    "![](https://webstockreview.net/images/clipart-door-orange-door-3.png)"
   ]
  },
  {
   "cell_type": "markdown",
   "metadata": {},
   "source": [
    "![](https://brilliant-staff-media.s3-us-west-2.amazonaws.com/tiffany-wang/UcEdvPuGYw.png)"
   ]
  },
  {
   "cell_type": "markdown",
   "metadata": {},
   "source": [
    "___\n",
    "### Example: Simulate Monty Hall Game for 1000 times. Use a barplot and discuss whether players are better off sticking to their initial choice, or switching doors? "
   ]
  },
  {
   "cell_type": "code",
   "execution_count": 12,
   "metadata": {
    "collapsed": false,
    "jupyter": {
     "outputs_hidden": false
    }
   },
   "outputs": [],
   "source": [
    "def othergoat(x):         #Define a function to return \"the other goat\"!\n",
    "    if x == \"Goat 1\":\n",
    "        return \"Goat 2\"\n",
    "    elif x == \"Goat 2\":\n",
    "        return \"Goat 1\""
   ]
  },
  {
   "cell_type": "code",
   "execution_count": 13,
   "metadata": {
    "collapsed": false,
    "jupyter": {
     "outputs_hidden": false
    }
   },
   "outputs": [],
   "source": [
    "Doors = np.array([\"Car\",\"Goat 1\",\"Goat 2\"])     #Define a list for objects behind the doors\n",
    "goats = np.array([\"Goat 1\" , \"Goat 2\"])          #Define a list for goats!\n",
    "\n",
    "def MHgame():\n",
    "    #Function to simulate the Monty Hall Game\n",
    "    #For each guess, return [\"the guess\",\"the revealed\", \"the remaining\"]\n",
    "    userguess=np.random.choice(Doors)         #randomly selects a door as userguess\n",
    "    if userguess == \"Goat 1\":\n",
    "        return [userguess, \"Goat 2\",\"Car\"]\n",
    "    if userguess == \"Goat 2\":\n",
    "        return [userguess, \"Goat 1\",\"Car\"]\n",
    "    if userguess == \"Car\":\n",
    "        revealed = np.random.choice(goats)\n",
    "        return [userguess, revealed,othergoat(revealed)]"
   ]
  },
  {
   "cell_type": "code",
   "execution_count": 14,
   "metadata": {
    "collapsed": false,
    "jupyter": {
     "outputs_hidden": false
    }
   },
   "outputs": [
    {
     "name": "stdout",
     "output_type": "stream",
     "text": [
      "['Car', 'Goat 2', 'Goat 1']\n",
      "Car\n",
      "Goat 2\n",
      "Goat 1\n"
     ]
    }
   ],
   "source": [
    "# Check and see if the MHgame function is doing what it is supposed to do:\n",
    "for i in np.arange(1):\n",
    "    a =MHgame()\n",
    "    print(a)\n",
    "    print(a[0])\n",
    "    print(a[1])\n",
    "    print(a[2])"
   ]
  },
  {
   "cell_type": "code",
   "execution_count": 15,
   "metadata": {
    "collapsed": false,
    "jupyter": {
     "outputs_hidden": false
    }
   },
   "outputs": [],
   "source": [
    "c1 = []         #Create an empty list for the userguess\n",
    "c2 = []         #Create an empty list for the revealed\n",
    "c3 = []         #Create an empty list for the remaining\n",
    "for i in np.arange(1000):         #Simulate the game for 1000 rounds - or any other number of rounds you desire\n",
    "    game = MHgame()\n",
    "    c1.append(game[0])             #In each round, add the first element to the userguess list\n",
    "    c2.append(game[1])             #In each round, add the second element to the revealed list\n",
    "    c3.append(game[2])             #In each round, add the third element to the remaining list\n"
   ]
  },
  {
   "cell_type": "code",
   "execution_count": 17,
   "metadata": {
    "collapsed": false,
    "jupyter": {
     "outputs_hidden": false
    }
   },
   "outputs": [
    {
     "data": {
      "text/html": [
       "<div>\n",
       "<style scoped>\n",
       "    .dataframe tbody tr th:only-of-type {\n",
       "        vertical-align: middle;\n",
       "    }\n",
       "\n",
       "    .dataframe tbody tr th {\n",
       "        vertical-align: top;\n",
       "    }\n",
       "\n",
       "    .dataframe thead th {\n",
       "        text-align: right;\n",
       "    }\n",
       "</style>\n",
       "<table border=\"1\" class=\"dataframe\">\n",
       "  <thead>\n",
       "    <tr style=\"text-align: right;\">\n",
       "      <th></th>\n",
       "      <th>Guess</th>\n",
       "      <th>Revealed</th>\n",
       "      <th>Remaining</th>\n",
       "    </tr>\n",
       "  </thead>\n",
       "  <tbody>\n",
       "    <tr>\n",
       "      <td>0</td>\n",
       "      <td>Goat 2</td>\n",
       "      <td>Goat 1</td>\n",
       "      <td>Car</td>\n",
       "    </tr>\n",
       "    <tr>\n",
       "      <td>1</td>\n",
       "      <td>Car</td>\n",
       "      <td>Goat 2</td>\n",
       "      <td>Goat 1</td>\n",
       "    </tr>\n",
       "    <tr>\n",
       "      <td>2</td>\n",
       "      <td>Goat 1</td>\n",
       "      <td>Goat 2</td>\n",
       "      <td>Car</td>\n",
       "    </tr>\n",
       "    <tr>\n",
       "      <td>3</td>\n",
       "      <td>Goat 2</td>\n",
       "      <td>Goat 1</td>\n",
       "      <td>Car</td>\n",
       "    </tr>\n",
       "    <tr>\n",
       "      <td>4</td>\n",
       "      <td>Goat 1</td>\n",
       "      <td>Goat 2</td>\n",
       "      <td>Car</td>\n",
       "    </tr>\n",
       "    <tr>\n",
       "      <td>...</td>\n",
       "      <td>...</td>\n",
       "      <td>...</td>\n",
       "      <td>...</td>\n",
       "    </tr>\n",
       "    <tr>\n",
       "      <td>995</td>\n",
       "      <td>Goat 1</td>\n",
       "      <td>Goat 2</td>\n",
       "      <td>Car</td>\n",
       "    </tr>\n",
       "    <tr>\n",
       "      <td>996</td>\n",
       "      <td>Goat 2</td>\n",
       "      <td>Goat 1</td>\n",
       "      <td>Car</td>\n",
       "    </tr>\n",
       "    <tr>\n",
       "      <td>997</td>\n",
       "      <td>Car</td>\n",
       "      <td>Goat 2</td>\n",
       "      <td>Goat 1</td>\n",
       "    </tr>\n",
       "    <tr>\n",
       "      <td>998</td>\n",
       "      <td>Car</td>\n",
       "      <td>Goat 2</td>\n",
       "      <td>Goat 1</td>\n",
       "    </tr>\n",
       "    <tr>\n",
       "      <td>999</td>\n",
       "      <td>Goat 1</td>\n",
       "      <td>Goat 2</td>\n",
       "      <td>Car</td>\n",
       "    </tr>\n",
       "  </tbody>\n",
       "</table>\n",
       "<p>1000 rows × 3 columns</p>\n",
       "</div>"
      ],
      "text/plain": [
       "      Guess Revealed Remaining\n",
       "0    Goat 2   Goat 1       Car\n",
       "1       Car   Goat 2    Goat 1\n",
       "2    Goat 1   Goat 2       Car\n",
       "3    Goat 2   Goat 1       Car\n",
       "4    Goat 1   Goat 2       Car\n",
       "..      ...      ...       ...\n",
       "995  Goat 1   Goat 2       Car\n",
       "996  Goat 2   Goat 1       Car\n",
       "997     Car   Goat 2    Goat 1\n",
       "998     Car   Goat 2    Goat 1\n",
       "999  Goat 1   Goat 2       Car\n",
       "\n",
       "[1000 rows x 3 columns]"
      ]
     },
     "execution_count": 17,
     "metadata": {},
     "output_type": "execute_result"
    }
   ],
   "source": [
    "import pandas as pd\n",
    "#Create a data frame (gamedf) with 3 columns (\"Guess\",\"Revealed\", \"Remaining\") and 1000 (or how many number of rounds) rows\n",
    "gamedf = pd.DataFrame({'Guess':c1,\n",
    "                       'Revealed':c2,\n",
    "                       'Remaining':c3})\n",
    "gamedf"
   ]
  },
  {
   "cell_type": "code",
   "execution_count": 18,
   "metadata": {
    "collapsed": false,
    "jupyter": {
     "outputs_hidden": false
    }
   },
   "outputs": [],
   "source": [
    "# Get the count of each item in the first and 3rd column\n",
    "original_car =gamedf[gamedf.Guess == 'Car'].shape[0]\n",
    "remaining_car =gamedf[gamedf.Remaining == 'Car'].shape[0]\n",
    "\n",
    "original_g1 =gamedf[gamedf.Guess == 'Goat 1'].shape[0]\n",
    "remaining_g1 =gamedf[gamedf.Remaining == 'Goat 1'].shape[0]\n",
    "\n",
    "original_g2 =gamedf[gamedf.Guess == 'Goat 2'].shape[0]\n",
    "remaining_g2 =gamedf[gamedf.Remaining == 'Goat 2'].shape[0]"
   ]
  },
  {
   "cell_type": "code",
   "execution_count": 20,
   "metadata": {
    "collapsed": false,
    "jupyter": {
     "outputs_hidden": false
    }
   },
   "outputs": [
    {
     "data": {
      "image/png": "[encoded data removed]",
      "text/plain": [
       "<Figure size 432x288 with 1 Axes>"
      ]
     },
     "metadata": {
      "needs_background": "light"
     },
     "output_type": "display_data"
    }
   ],
   "source": [
    "# Let's plot a grouped barplot\n",
    "import matplotlib.pyplot as plt  \n",
    "\n",
    "# set width of bar\n",
    "barWidth = 0.25\n",
    " \n",
    "# set height of bar\n",
    "bars1 = [original_car,original_g1,original_g2]\n",
    "bars2 = [remaining_car,remaining_g1,remaining_g2]\n",
    " \n",
    "# Set position of bar on X axis\n",
    "r1 = np.arange(len(bars1))\n",
    "r2 = [x + barWidth for x in r1]\n",
    " \n",
    "# Make the plot\n",
    "plt.bar(r1, bars1, color='darkorange', width=barWidth, edgecolor='white', label='Original Guess')\n",
    "plt.bar(r2, bars2, color='midnightblue', width=barWidth, edgecolor='white', label='Remaining Door')\n",
    " \n",
    "# Add xticks on the middle of the group bars\n",
    "plt.xlabel('Item', fontweight='bold')\n",
    "plt.xticks([r + barWidth/2 for r in range(len(bars1))], ['Car', 'Goat 1', 'Goat 2'])\n",
    " \n",
    "# Create legend & Show graphic\n",
    "plt.legend()\n",
    "plt.show()\n"
   ]
  },
  {
   "cell_type": "markdown",
   "metadata": {},
   "source": [
    "<font color=crimson>__According to the plot, it is statitically beneficial for the players to switch doors because the initial chance for being correct is only 1/3__</font>"
   ]
  },
  {
   "cell_type": "markdown",
   "metadata": {},
   "source": [
    "![](http://imgs.xkcd.com/comics/monty_hall.png)"
   ]
  },
  {
   "cell_type": "markdown",
   "metadata": {},
   "source": [
    "___\n",
    "### Example: What if there were 4 doors and 3 goats?"
   ]
  },
  {
   "cell_type": "code",
   "execution_count": 21,
   "metadata": {
    "collapsed": false,
    "jupyter": {
     "outputs_hidden": false
    }
   },
   "outputs": [],
   "source": [
    "import numpy as np\n",
    "import pandas as pd\n",
    "import matplotlib.pyplot as plt  \n",
    "\n",
    "Doors = np.array([\"Car\",\"Goat 1\",\"Goat 2\",\"Goat 3\"])     #Define a list for objects behind the doors\n",
    "goats = np.array([\"Goat 1\" , \"Goat 2\",\"Goat 3\"])          #Define a list for goats!\n",
    "\n"
   ]
  },
  {
   "cell_type": "code",
   "execution_count": 22,
   "metadata": {
    "collapsed": false,
    "jupyter": {
     "outputs_hidden": false
    }
   },
   "outputs": [],
   "source": [
    "def othergoat12(x):         #Define a function to return \"the other goat\"!\n",
    "    if x == \"Goat 1\":\n",
    "        return \"Goat 2\"\n",
    "    elif x == \"Goat 2\":\n",
    "        return \"Goat 1\"\n",
    "    \n",
    "def othergoat23(x):         #Define a function to return \"the other goat\"!\n",
    "    if x == \"Goat 2\":\n",
    "        return \"Goat 3\"\n",
    "    elif x == \"Goat 3\":\n",
    "        return \"Goat 2\"\n",
    "    \n",
    "def othergoat13(x):         #Define a function to return \"the other goat\"!\n",
    "    if x == \"Goat 1\":\n",
    "        return \"Goat 3\"\n",
    "    elif x == \"Goat 3\":\n",
    "        return \"Goat 1\"\n",
    "#####################################    \n",
    "def othergoat123(x):         #Define a function to return \"the other goat\"!\n",
    "    if x == \"Goat 1\":\n",
    "        return np.random.choice([\"Goat 2\",\"Goat 3\"])\n",
    "    elif x == \"Goat 2\":\n",
    "        return np.random.choice([\"Goat 1\",\"Goat 3\"])\n",
    "    elif x == \"Goat 3\":\n",
    "        return np.random.choice([\"Goat 1\",\"Goat 2\"])"
   ]
  },
  {
   "cell_type": "code",
   "execution_count": 23,
   "metadata": {
    "collapsed": false,
    "jupyter": {
     "outputs_hidden": false
    }
   },
   "outputs": [],
   "source": [
    "def MHgame():\n",
    "    #Function to simulate the Monty Hall Game\n",
    "    #For each guess, return [\"the guess\",\"the revealed\", \"unrevealed1\", \"unrevealed2\"]\n",
    "    goats = np.array([\"Goat 1\" , \"Goat 2\",\"Goat 3\"])\n",
    "    userguess=np.random.choice(Doors)         #randomly selects a door as userguess\n",
    "    if userguess == \"Goat 1\":                          #If the user chooses Goat 1\n",
    "        revealed = np.random.choice(goats[np.arange(len(goats))!=0])\n",
    "        unrevealed1 = othergoat23(revealed)\n",
    "        unrevealed2 = \"Car\"\n",
    "        return [userguess, revealed,unrevealed1,unrevealed2]\n",
    "    if userguess == \"Goat 2\":                          #If the user chooses Goat 2\n",
    "        revealed = np.random.choice(goats[np.arange(len(goats))!=1])\n",
    "        unrevealed1 = othergoat13(revealed)\n",
    "        unrevealed2 = \"Car\"\n",
    "        return [userguess, revealed,unrevealed1,unrevealed2]\n",
    "    if userguess == \"Goat 3\":                          #If the user chooses Goat 3\n",
    "        revealed = np.random.choice(goats[np.arange(len(goats))!=2])\n",
    "        unrevealed1 = othergoat12(revealed)\n",
    "        unrevealed2 = \"Car\"\n",
    "        return [userguess, revealed,unrevealed1,unrevealed2]\n",
    "    if userguess == \"Car\":                          #If the user chooses Car\n",
    "        revealed = np.random.choice(goats)\n",
    "        newgoat = goats[goats != revealed]\n",
    "        unrevealed1 = newgoat[0]\n",
    "        unrevealed2 = newgoat[1]\n",
    "        return [userguess, revealed,unrevealed1,unrevealed2]"
   ]
  },
  {
   "cell_type": "code",
   "execution_count": 24,
   "metadata": {
    "collapsed": false,
    "jupyter": {
     "outputs_hidden": false
    }
   },
   "outputs": [
    {
     "name": "stdout",
     "output_type": "stream",
     "text": [
      "['Goat 3', 'Goat 2', 'Goat 1', 'Car']\n",
      "Goat 3\n",
      "Goat 2\n",
      "Goat 1\n",
      "Car\n"
     ]
    }
   ],
   "source": [
    "# Check and see if the MHgame function is doing what it is supposed to do:\n",
    "for i in np.arange(1):\n",
    "    a =MHgame()\n",
    "    print(a)\n",
    "    print(a[0])\n",
    "    print(a[1])\n",
    "    print(a[2])\n",
    "    print(a[3])"
   ]
  },
  {
   "cell_type": "code",
   "execution_count": 25,
   "metadata": {
    "collapsed": false,
    "jupyter": {
     "outputs_hidden": false
    }
   },
   "outputs": [],
   "source": [
    "c1 = []         #Create an empty list for the userguess\n",
    "c2 = []         #Create an empty list for the revealed\n",
    "c3 = []         #Create an empty list for the remaining1\n",
    "c4 = []         #Create an empty list for the remaining2\n",
    "\n",
    "for i in np.arange(1000):         #Simulate the game for 1000 rounds - or any other number of rounds you desire\n",
    "    game = MHgame()\n",
    "    c1.append(game[0])             #In each round, add the first element to the userguess list\n",
    "    c2.append(game[1])             #In each round, add the second element to the revealed list\n",
    "    c3.append(game[2])             #In each round, add the third element to the remaining list1\n",
    "    c4.append(game[3])             #In each round, add the fourth element to the remaining list2\n"
   ]
  },
  {
   "cell_type": "code",
   "execution_count": 26,
   "metadata": {
    "collapsed": false,
    "jupyter": {
     "outputs_hidden": false
    }
   },
   "outputs": [
    {
     "data": {
      "text/html": [
       "<div>\n",
       "<style scoped>\n",
       "    .dataframe tbody tr th:only-of-type {\n",
       "        vertical-align: middle;\n",
       "    }\n",
       "\n",
       "    .dataframe tbody tr th {\n",
       "        vertical-align: top;\n",
       "    }\n",
       "\n",
       "    .dataframe thead th {\n",
       "        text-align: right;\n",
       "    }\n",
       "</style>\n",
       "<table border=\"1\" class=\"dataframe\">\n",
       "  <thead>\n",
       "    <tr style=\"text-align: right;\">\n",
       "      <th></th>\n",
       "      <th>Guess</th>\n",
       "      <th>Revealed</th>\n",
       "      <th>Remaining1</th>\n",
       "      <th>Remaining2</th>\n",
       "    </tr>\n",
       "  </thead>\n",
       "  <tbody>\n",
       "    <tr>\n",
       "      <td>0</td>\n",
       "      <td>Goat 1</td>\n",
       "      <td>Goat 3</td>\n",
       "      <td>Goat 2</td>\n",
       "      <td>Car</td>\n",
       "    </tr>\n",
       "    <tr>\n",
       "      <td>1</td>\n",
       "      <td>Goat 1</td>\n",
       "      <td>Goat 3</td>\n",
       "      <td>Goat 2</td>\n",
       "      <td>Car</td>\n",
       "    </tr>\n",
       "    <tr>\n",
       "      <td>2</td>\n",
       "      <td>Goat 3</td>\n",
       "      <td>Goat 2</td>\n",
       "      <td>Goat 1</td>\n",
       "      <td>Car</td>\n",
       "    </tr>\n",
       "    <tr>\n",
       "      <td>3</td>\n",
       "      <td>Goat 2</td>\n",
       "      <td>Goat 1</td>\n",
       "      <td>Goat 3</td>\n",
       "      <td>Car</td>\n",
       "    </tr>\n",
       "    <tr>\n",
       "      <td>4</td>\n",
       "      <td>Goat 1</td>\n",
       "      <td>Goat 3</td>\n",
       "      <td>Goat 2</td>\n",
       "      <td>Car</td>\n",
       "    </tr>\n",
       "    <tr>\n",
       "      <td>...</td>\n",
       "      <td>...</td>\n",
       "      <td>...</td>\n",
       "      <td>...</td>\n",
       "      <td>...</td>\n",
       "    </tr>\n",
       "    <tr>\n",
       "      <td>995</td>\n",
       "      <td>Car</td>\n",
       "      <td>Goat 3</td>\n",
       "      <td>Goat 1</td>\n",
       "      <td>Goat 2</td>\n",
       "    </tr>\n",
       "    <tr>\n",
       "      <td>996</td>\n",
       "      <td>Car</td>\n",
       "      <td>Goat 1</td>\n",
       "      <td>Goat 2</td>\n",
       "      <td>Goat 3</td>\n",
       "    </tr>\n",
       "    <tr>\n",
       "      <td>997</td>\n",
       "      <td>Goat 2</td>\n",
       "      <td>Goat 3</td>\n",
       "      <td>Goat 1</td>\n",
       "      <td>Car</td>\n",
       "    </tr>\n",
       "    <tr>\n",
       "      <td>998</td>\n",
       "      <td>Car</td>\n",
       "      <td>Goat 3</td>\n",
       "      <td>Goat 1</td>\n",
       "      <td>Goat 2</td>\n",
       "    </tr>\n",
       "    <tr>\n",
       "      <td>999</td>\n",
       "      <td>Goat 3</td>\n",
       "      <td>Goat 1</td>\n",
       "      <td>Goat 2</td>\n",
       "      <td>Car</td>\n",
       "    </tr>\n",
       "  </tbody>\n",
       "</table>\n",
       "<p>1000 rows × 4 columns</p>\n",
       "</div>"
      ],
      "text/plain": [
       "      Guess Revealed Remaining1 Remaining2\n",
       "0    Goat 1   Goat 3     Goat 2        Car\n",
       "1    Goat 1   Goat 3     Goat 2        Car\n",
       "2    Goat 3   Goat 2     Goat 1        Car\n",
       "3    Goat 2   Goat 1     Goat 3        Car\n",
       "4    Goat 1   Goat 3     Goat 2        Car\n",
       "..      ...      ...        ...        ...\n",
       "995     Car   Goat 3     Goat 1     Goat 2\n",
       "996     Car   Goat 1     Goat 2     Goat 3\n",
       "997  Goat 2   Goat 3     Goat 1        Car\n",
       "998     Car   Goat 3     Goat 1     Goat 2\n",
       "999  Goat 3   Goat 1     Goat 2        Car\n",
       "\n",
       "[1000 rows x 4 columns]"
      ]
     },
     "execution_count": 26,
     "metadata": {},
     "output_type": "execute_result"
    }
   ],
   "source": [
    "import pandas as pd\n",
    "#Create a data frame (gamedf) with 3 columns (\"Guess\",\"Revealed\", \"Remaining\") and 1000 (or how many number of rounds) rows\n",
    "gamedf = pd.DataFrame({'Guess':c1,\n",
    "                       'Revealed':c2,\n",
    "                       'Remaining1':c3,\n",
    "                       'Remaining2':c4})\n",
    "gamedf"
   ]
  },
  {
   "cell_type": "code",
   "execution_count": 27,
   "metadata": {
    "collapsed": false,
    "jupyter": {
     "outputs_hidden": false
    }
   },
   "outputs": [],
   "source": [
    "# Get the count of each item in the first and (3rd+4th) column\n",
    "original_car =gamedf[gamedf.Guess == 'Car'].shape[0]\n",
    "remaining_car =gamedf[gamedf.Remaining1 == 'Car'].shape[0] + gamedf[gamedf.Remaining2 == 'Car'].shape[0]\n",
    "\n",
    "original_g1 =gamedf[gamedf.Guess == 'Goat 1'].shape[0]\n",
    "remaining_g1 =gamedf[gamedf.Remaining1 == 'Goat 1'].shape[0] + gamedf[gamedf.Remaining2 == 'Goat 1'].shape[0]\n",
    "\n",
    "original_g2 =gamedf[gamedf.Guess == 'Goat 2'].shape[0]\n",
    "remaining_g2 =gamedf[gamedf.Remaining1 == 'Goat 2'].shape[0] + gamedf[gamedf.Remaining2 == 'Goat 2'].shape[0]\n",
    "\n",
    "original_g3 =gamedf[gamedf.Guess == 'Goat 3'].shape[0]\n",
    "remaining_g3 =gamedf[gamedf.Remaining1 == 'Goat 3'].shape[0] + gamedf[gamedf.Remaining2 == 'Goat 3'].shape[0]"
   ]
  },
  {
   "cell_type": "code",
   "execution_count": 28,
   "metadata": {
    "collapsed": false,
    "jupyter": {
     "outputs_hidden": false
    }
   },
   "outputs": [
    {
     "data": {
      "image/png": "[encoded data removed]",
      "text/plain": [
       "<Figure size 432x288 with 1 Axes>"
      ]
     },
     "metadata": {
      "needs_background": "light"
     },
     "output_type": "display_data"
    }
   ],
   "source": [
    "# Let's plot a grouped barplot\n",
    "import matplotlib.pyplot as plt  \n",
    "\n",
    "# set width of bar\n",
    "barWidth = 0.25\n",
    " \n",
    "# set height of bar\n",
    "bars1 = [original_car,original_g1,original_g2,original_g3]\n",
    "bars2 = [remaining_car,remaining_g1,remaining_g2,remaining_g3]\n",
    " \n",
    "# Set position of bar on X axis\n",
    "r1 = np.arange(len(bars1))\n",
    "r2 = [x + barWidth for x in r1]\n",
    " \n",
    "# Make the plot\n",
    "plt.bar(r1, bars1, color='darkorange', width=barWidth, edgecolor='white', label='Original Guess')\n",
    "plt.bar(r2, bars2, color='midnightblue', width=barWidth, edgecolor='white', label='Remaining Door')\n",
    " \n",
    "# Add xticks on the middle of the group bars\n",
    "plt.xlabel('Item', fontweight='bold')\n",
    "plt.xticks([r + barWidth/2 for r in range(len(bars1))], ['Car', 'Goat 1', 'Goat 2','Goat 3'])\n",
    " \n",
    "# Create legend & Show graphic\n",
    "plt.legend()\n",
    "plt.show()\n"
   ]
  },
  {
   "cell_type": "markdown",
   "metadata": {},
   "source": [
    "<font color=crimson>__Comparison of the plots show that as the number of doors (and goats) increases, it makes even more sense to switch!__</font>"
   ]
  },
  {
   "cell_type": "markdown",
   "metadata": {},
   "source": [
    "___\n",
    "![](https://media2.giphy.com/media/5nj4ZZWl6QwneEaBX4/source.gif) <br>\n",
    "\n",
    "\n",
    "*Here are some great reads on this topic:* \n",
    "- __\"Simulate the Monty Hall Problem Using Python\"__ by __randerson112358__ available at *https://medium.com/swlh/simulate-the-monty-hall-problem-using-python-7b76b943640e* <br>\n",
    "- __\"The Monty Hall problem\"__ available at *https://scipython.com/book/chapter-4-the-core-python-language-ii/examples/the-monty-hall-problem/*<br>\n",
    "\n",
    "*Here are some great videos on these topics:* \n",
    "- __\"Monty Hall Problem - Numberphile\"__ by __Numberphile__ available at *https://www.youtube.com/watch?v=4Lb-6rxZxx0* <br>\n",
    "- __\"The Monty Hall Problem\"__ by __D!NG__ available at *https://www.youtube.com/watch?v=TVq2ivVpZgQ* <br>\n",
    "- __\"21 - Monty Hall - PROPENSITY BASED THEORETICAL MODEL PROBABILITY - MATHEMATICS in the MOVIES\"__ by __Motivating Mathematical Education and STEM__ available at *https://www.youtube.com/watch?v=iBdjqtR2iK4* <br>\n",
    "- __\"The Monty Hall Problem\"__ by __niansenx__ available at *https://www.youtube.com/watch?v=mhlc7peGlGg* <br>\n",
    "- __\"The Monty Hall Problem - Explained\"__ by __AsapSCIENCE__ available at *https://www.youtube.com/watch?v=9vRUxbzJZ9Y* <br>"
   ]
  },
  {
   "cell_type": "markdown",
   "metadata": {},
   "source": [
    "___\n",
    "![](https://media2.giphy.com/media/dNgK7Ws7y176U/200.gif) <br>\n"
   ]
  },
  {
   "cell_type": "markdown",
   "metadata": {},
   "source": [
    "## Exercise: Three Prisoners problem  <br>\n",
    "\n",
    "### Three prisoners, A, B, and C, are in separate cells and sentenced to death. The governor has selected one of them at random to be pardoned. The warden knows which one is pardoned, but is not allowed to tell. Prisoner A begs the warden to let him know the identity of one of the two who are going to be executed. \"If B is to be pardoned, give me C's name. If C is to be pardoned, give me B's name. And if I'm to be pardoned, secretly flip a coin to decide whether to name B or C.\"\n",
    "\n",
    "### The warden tells A that B is to be executed. Prisoner A is pleased because he believes that his probability of surviving has gone up from 1/3 to 1/2, as it is now between him and C. Prisoner A secretly tells C the news, who reasons that A's chance of being pardoned is unchanged at 1/3, but he is pleased because his own chance has gone up to 2/3. Which prisoner is correct?\n",
    "\n",
    "### Answer the question and explain your answer.  \n",
    "\n",
    "<br>\n",
    "<br>\n",
    "\n",
    "#### _The Three Prisoners problem appeared in Martin Gardner's \"Mathematical Games\" column in Scientific American in 1959._\n",
    "#### _Make sure to cite any resources that you may use._ "
   ]
  },
  {
   "cell_type": "code",
   "execution_count": null,
   "metadata": {},
   "outputs": [],
   "source": []
  },
  {
   "cell_type": "markdown",
   "metadata": {},
   "source": [
    "![](https://cdn.quotes.pub/660x400/thats-too-bad-mr-hall-said-opening-door-579647.jpg)"
   ]
  }
 ],
 "metadata": {
  "kernelspec": {
   "display_name": "Python 3",
   "language": "python",
   "name": "python3"
  },
  "language_info": {
   "codemirror_mode": {
    "name": "ipython",
    "version": 3
   },
   "file_extension": ".py",
   "mimetype": "text/x-python",
   "name": "python",
   "nbconvert_exporter": "python",
   "pygments_lexer": "ipython3",
   "version": "3.8.10"
  }
 },
 "nbformat": 4,
 "nbformat_minor": 4
}
