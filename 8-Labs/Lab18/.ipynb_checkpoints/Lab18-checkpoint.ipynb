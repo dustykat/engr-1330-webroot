{
 "cells": [
  {
   "cell_type": "markdown",
   "metadata": {},
   "source": [
    "**Download** (right-click, save target as ...) this page as a jupyterlab notebook from: (LINK NEEDS FIXING!)\n",
    "\n",
    "[Lab18](https://atomickitty.ddns.net:8000/user/sensei/files/engr-1330-webroot/engr-1330-webbook/ctds-psuedocourse/docs/8-Labs/Lab8/Lab9_Dev.ipynb?_xsrf=2%7C1b4d47c3%7C0c3aca0c53606a3f4b71c448b09296ae%7C1623531240)\n",
    "\n",
    "___"
   ]
  },
  {
   "cell_type": "markdown",
   "metadata": {},
   "source": [
    "# <font color=darkred>Laboratory 18: \"Reject it or Fail!\" or a Lab on \"Hypothesis Testing\" </font>"
   ]
  },
  {
   "cell_type": "code",
   "execution_count": 100,
   "metadata": {},
   "outputs": [
    {
     "name": "stdout",
     "output_type": "stream",
     "text": [
      "DESKTOP-EH6HD63\n",
      "desktop-eh6hd63\\farha\n",
      "C:\\Users\\Farha\\Anaconda3\\python.exe\n",
      "3.7.4 (default, Aug  9 2019, 18:34:13) [MSC v.1915 64 bit (AMD64)]\n",
      "sys.version_info(major=3, minor=7, micro=4, releaselevel='final', serial=0)\n"
     ]
    }
   ],
   "source": [
    "# Preamble script block to identify host, user, and kernel\n",
    "import sys\n",
    "! hostname\n",
    "! whoami\n",
    "print(sys.executable)\n",
    "print(sys.version)\n",
    "print(sys.version_info)"
   ]
  },
  {
   "cell_type": "code",
   "execution_count": 5,
   "metadata": {},
   "outputs": [
    {
     "name": "stdout",
     "output_type": "stream",
     "text": [
      "0x75bcd15\n"
     ]
    }
   ],
   "source": [
    "A = 123456789 #lET'S SAY THAT THIS IS MY R NUMBER\n",
    "print(hex(A))\n",
    "#print(bin(A))"
   ]
  },
  {
   "cell_type": "markdown",
   "metadata": {},
   "source": [
    "## Full name: \n",
    "## R#: \n",
    "## HEX: \n",
    "## Title of the notebook\n",
    "## Date: "
   ]
  },
  {
   "cell_type": "markdown",
   "metadata": {},
   "source": [
    "#### Remember where we left our last laboratory session? \n",
    "\n",
    "![](https://media.tumblr.com/tumblr_mbui1kpPoU1rxdw8g.gif)\n"
   ]
  },
  {
   "cell_type": "markdown",
   "metadata": {},
   "source": [
    "#### Accept my gratitude if you do! But in case you saw Agent K and Agent J sometime after Thursday or for any other reason, do not recall it, here is where were we left things:\n",
    "#### We had a dataset with two sets of numbers (Set 1 and Set2). We did a bunch of stuff and decided that the Normal Distribution Data Model provides a good fit for both of sample sets. We, then used the right parameters for Normal Data Model (mean and standard deviation) to generate one new sample set based on each set. We then looked at the four sets next to each other and asked a rather simple question: Are these sets different or similar?\n",
    "#### While we reached some assertions based on visual assessment, we did not manage to solidify our assertation in any numerical way. Well, now is the time! "
   ]
  },
  {
   "cell_type": "code",
   "execution_count": 7,
   "metadata": {},
   "outputs": [],
   "source": [
    "#Load the necessary packages\n",
    "import numpy as np\n",
    "import pandas as pd\n",
    "import matplotlib.pyplot as plt"
   ]
  },
  {
   "cell_type": "code",
   "execution_count": 2,
   "metadata": {
    "collapsed": false,
    "jupyter": {
     "outputs_hidden": false
    }
   },
   "outputs": [],
   "source": [
    "#Previously ...\n",
    "data = pd.read_csv(\"lab13_data.csv\") \n",
    "set1 = np.array(data['Set1'])\n",
    "set2 = np.array(data['Set2'])\n",
    "mu1 = set1.mean()\n",
    "sd1 = set1.std()\n",
    "mu2 = set2.mean()\n",
    "sd2 = set2.std()\n",
    "set1_s = np.random.normal(mu1, sd1, 100)\n",
    "set2_s = np.random.normal(mu2, sd2, 100)\n",
    "data2 = pd.DataFrame({'Set1s':set1_s,'Set2s':set2_s})\n"
   ]
  },
  {
   "cell_type": "code",
   "execution_count": 3,
   "metadata": {
    "collapsed": false,
    "jupyter": {
     "outputs_hidden": false
    }
   },
   "outputs": [
    {
     "data": {
      "image/png": "[encoded data removed]",
      "text/plain": [
       "<Figure size 432x288 with 1 Axes>"
      ]
     },
     "metadata": {
      "needs_background": "light"
     },
     "output_type": "display_data"
    }
   ],
   "source": [
    "#Previously ...\n",
    "fig, ax = plt.subplots()\n",
    "data2.plot.hist(density=False, ax=ax, title='Histogram: Set1 and Set1 samples vs. Set2 and Set2 samples', bins=40)\n",
    "data.plot.hist(density=False, ax=ax, bins=40)\n",
    "\n",
    "ax.set_ylabel('Count')\n",
    "ax.grid(axis='y')"
   ]
  },
  {
   "cell_type": "code",
   "execution_count": 4,
   "metadata": {
    "collapsed": false,
    "jupyter": {
     "outputs_hidden": false
    }
   },
   "outputs": [
    {
     "data": {
      "image/png": "[encoded data removed]",
      "text/plain": [
       "<Figure size 720x504 with 1 Axes>"
      ]
     },
     "metadata": {
      "needs_background": "light"
     },
     "output_type": "display_data"
    }
   ],
   "source": [
    "#Previously ...\n",
    "fig = plt.figure(figsize =(10, 7)) \n",
    "plt.boxplot ([set1, set1_s, set2, set2_s],1, '')\n",
    "plt.show()"
   ]
  },
  {
   "cell_type": "markdown",
   "metadata": {},
   "source": [
    "__We can use statistical hypothesis tests to confirm that our sets are from Normal Distribution Data Models. We can use the Shapiro-Wilk Normality Test:__"
   ]
  },
  {
   "cell_type": "code",
   "execution_count": 5,
   "metadata": {
    "collapsed": false,
    "jupyter": {
     "outputs_hidden": false
    }
   },
   "outputs": [
    {
     "name": "stdout",
     "output_type": "stream",
     "text": [
      "stat=0.992, p=0.793\n",
      "Probably Gaussian\n"
     ]
    }
   ],
   "source": [
    "# the Shapiro-Wilk Normality Test for set1\n",
    "from scipy.stats import shapiro\n",
    "\n",
    "stat, p = shapiro(data['Set1'])\n",
    "print('stat=%.3f, p=%.3f' % (stat, p))\n",
    "if p > 0.05:\n",
    "\tprint('Probably Gaussian')\n",
    "else:\n",
    "\tprint('Probably not Gaussian')"
   ]
  },
  {
   "cell_type": "code",
   "execution_count": 6,
   "metadata": {
    "collapsed": false,
    "jupyter": {
     "outputs_hidden": false
    }
   },
   "outputs": [
    {
     "name": "stdout",
     "output_type": "stream",
     "text": [
      "stat=0.981, p=0.151\n",
      "Probably Gaussian\n"
     ]
    }
   ],
   "source": [
    "# the Shapiro-Wilk Normality Test for set2\n",
    "from scipy.stats import shapiro\n",
    "\n",
    "stat, p = shapiro(data['Set2'])\n",
    "print('stat=%.3f, p=%.3f' % (stat, p))\n",
    "if p > 0.05:\n",
    "\tprint('Probably Gaussian')\n",
    "else:\n",
    "\tprint('Probably not Gaussian')"
   ]
  },
  {
   "cell_type": "markdown",
   "metadata": {},
   "source": [
    "__Now let's confirm that set1 and set1_s are from the same distribution. We can use the Mann-Whitney U Test for this:__"
   ]
  },
  {
   "cell_type": "code",
   "execution_count": 10,
   "metadata": {
    "collapsed": false,
    "jupyter": {
     "outputs_hidden": false
    }
   },
   "outputs": [
    {
     "name": "stdout",
     "output_type": "stream",
     "text": [
      "statistic=4902.000, p-value at rejection =0.406\n",
      "Probably the same distribution\n"
     ]
    }
   ],
   "source": [
    "from scipy.stats import mannwhitneyu # import a useful non-parametric test\n",
    "stat, p = mannwhitneyu(data['Set1'],data2['Set1s'])\n",
    "print('statistic=%.3f, p-value at rejection =%.3f' % (stat, p))\n",
    "if p > 0.05:\n",
    "    print('Probably the same distribution')\n",
    "else:\n",
    "    print('Probably different distributions')"
   ]
  },
  {
   "cell_type": "markdown",
   "metadata": {},
   "source": [
    "__Let's also confirm that set2 and set2_s are from the same distribution:__"
   ]
  },
  {
   "cell_type": "code",
   "execution_count": 11,
   "metadata": {
    "collapsed": false,
    "jupyter": {
     "outputs_hidden": false
    }
   },
   "outputs": [
    {
     "name": "stdout",
     "output_type": "stream",
     "text": [
      "statistic=4811.000, p-value at rejection =0.323\n",
      "Probably the same distribution\n"
     ]
    }
   ],
   "source": [
    "from scipy.stats import mannwhitneyu # import a useful non-parametric test\n",
    "stat, p = mannwhitneyu(data['Set2'],data2['Set2s'])\n",
    "print('statistic=%.3f, p-value at rejection =%.3f' % (stat, p))\n",
    "if p > 0.05:\n",
    "    print('Probably the same distribution')\n",
    "else:\n",
    "    print('Probably different distributions')"
   ]
  },
  {
   "cell_type": "markdown",
   "metadata": {},
   "source": [
    "__Based on the results we can say set1 and set1_s probably belong to the same distrubtion. The same can be stated about set2 and set2_s. Now let's check and see if set1 and set2 are SIGNIFICANTLY different or not?__"
   ]
  },
  {
   "cell_type": "code",
   "execution_count": 12,
   "metadata": {
    "collapsed": false,
    "jupyter": {
     "outputs_hidden": false
    }
   },
   "outputs": [
    {
     "name": "stdout",
     "output_type": "stream",
     "text": [
      "statistic=0.000, p-value at rejection =0.000\n",
      "Probably different distributions\n"
     ]
    }
   ],
   "source": [
    "from scipy.stats import mannwhitneyu # import a useful non-parametric test\n",
    "stat, p = mannwhitneyu(data['Set1'],data['Set2'])\n",
    "print('statistic=%.3f, p-value at rejection =%.3f' % (stat, p))\n",
    "if p > 0.05:\n",
    "    print('Probably the same distribution')\n",
    "else:\n",
    "    print('Probably different distributions')"
   ]
  },
  {
   "cell_type": "markdown",
   "metadata": {},
   "source": [
    "__The test's result indicate that the set1 and set2 belong to distirbutions with different measures of central tendency (means). We can check the same for set1_s and set2_s as well:__"
   ]
  },
  {
   "cell_type": "code",
   "execution_count": 13,
   "metadata": {
    "collapsed": false,
    "jupyter": {
     "outputs_hidden": false
    }
   },
   "outputs": [
    {
     "name": "stdout",
     "output_type": "stream",
     "text": [
      "statistic=0.000, p-value at rejection =0.000\n",
      "Probably different distributions\n"
     ]
    }
   ],
   "source": [
    "from scipy.stats import mannwhitneyu # import a useful non-parametric test\n",
    "stat, p = mannwhitneyu(data2['Set1s'],data2['Set2s'])\n",
    "print('statistic=%.3f, p-value at rejection =%.3f' % (stat, p))\n",
    "if p > 0.05:\n",
    "    print('Probably the same distribution')\n",
    "else:\n",
    "    print('Probably different distributions')"
   ]
  },
  {
   "cell_type": "markdown",
   "metadata": {},
   "source": [
    "__Now we can state at a 95% confidence level that set1 and set2 are different. The same for set1s and set2s.__"
   ]
  },
  {
   "cell_type": "markdown",
   "metadata": {},
   "source": [
    "___\n",
    "### Example: A dataset containing marks obtained by students on basic skills like basic math and language skills (reading and writing) is collected from an educational institution and we have been tasked to give them some important inferences. \n",
    "\n",
    "> Hypothesis: There is no difference in means of student performance in any of basic literacy skills i.e. reading, writing, math.\n",
    "\n",
    "___\n",
    "*This is based on an example by Joju John Varghese on \"Hypothesis Testing for Inference using a Dataset\" available @ https://medium.com/swlh/hypothesis-testing-for-inference-using-a-data-set-aaa799e94cdf. The dataset is available @ https://www.kaggle.com/spscientist/students-performance-in-exams.*"
   ]
  },
  {
   "cell_type": "code",
   "execution_count": 8,
   "metadata": {
    "collapsed": false,
    "jupyter": {
     "outputs_hidden": false
    }
   },
   "outputs": [
    {
     "data": {
      "text/html": [
       "<div>\n",
       "<style scoped>\n",
       "    .dataframe tbody tr th:only-of-type {\n",
       "        vertical-align: middle;\n",
       "    }\n",
       "\n",
       "    .dataframe tbody tr th {\n",
       "        vertical-align: top;\n",
       "    }\n",
       "\n",
       "    .dataframe thead th {\n",
       "        text-align: right;\n",
       "    }\n",
       "</style>\n",
       "<table border=\"1\" class=\"dataframe\">\n",
       "  <thead>\n",
       "    <tr style=\"text-align: right;\">\n",
       "      <th></th>\n",
       "      <th>gender</th>\n",
       "      <th>race/ethnicity</th>\n",
       "      <th>parental level of education</th>\n",
       "      <th>lunch</th>\n",
       "      <th>test preparation course</th>\n",
       "      <th>math score</th>\n",
       "      <th>reading score</th>\n",
       "      <th>writing score</th>\n",
       "    </tr>\n",
       "  </thead>\n",
       "  <tbody>\n",
       "    <tr>\n",
       "      <td>0</td>\n",
       "      <td>female</td>\n",
       "      <td>group B</td>\n",
       "      <td>bachelor's degree</td>\n",
       "      <td>standard</td>\n",
       "      <td>none</td>\n",
       "      <td>72</td>\n",
       "      <td>72</td>\n",
       "      <td>74</td>\n",
       "    </tr>\n",
       "    <tr>\n",
       "      <td>1</td>\n",
       "      <td>female</td>\n",
       "      <td>group C</td>\n",
       "      <td>some college</td>\n",
       "      <td>standard</td>\n",
       "      <td>completed</td>\n",
       "      <td>69</td>\n",
       "      <td>90</td>\n",
       "      <td>88</td>\n",
       "    </tr>\n",
       "    <tr>\n",
       "      <td>2</td>\n",
       "      <td>female</td>\n",
       "      <td>group B</td>\n",
       "      <td>master's degree</td>\n",
       "      <td>standard</td>\n",
       "      <td>none</td>\n",
       "      <td>90</td>\n",
       "      <td>95</td>\n",
       "      <td>93</td>\n",
       "    </tr>\n",
       "    <tr>\n",
       "      <td>3</td>\n",
       "      <td>male</td>\n",
       "      <td>group A</td>\n",
       "      <td>associate's degree</td>\n",
       "      <td>free/reduced</td>\n",
       "      <td>none</td>\n",
       "      <td>47</td>\n",
       "      <td>57</td>\n",
       "      <td>44</td>\n",
       "    </tr>\n",
       "    <tr>\n",
       "      <td>4</td>\n",
       "      <td>male</td>\n",
       "      <td>group C</td>\n",
       "      <td>some college</td>\n",
       "      <td>standard</td>\n",
       "      <td>none</td>\n",
       "      <td>76</td>\n",
       "      <td>78</td>\n",
       "      <td>75</td>\n",
       "    </tr>\n",
       "  </tbody>\n",
       "</table>\n",
       "</div>"
      ],
      "text/plain": [
       "   gender race/ethnicity parental level of education         lunch  \\\n",
       "0  female        group B           bachelor's degree      standard   \n",
       "1  female        group C                some college      standard   \n",
       "2  female        group B             master's degree      standard   \n",
       "3    male        group A          associate's degree  free/reduced   \n",
       "4    male        group C                some college      standard   \n",
       "\n",
       "  test preparation course  math score  reading score  writing score  \n",
       "0                    none          72             72             74  \n",
       "1               completed          69             90             88  \n",
       "2                    none          90             95             93  \n",
       "3                    none          47             57             44  \n",
       "4                    none          76             78             75  "
      ]
     },
     "execution_count": 8,
     "metadata": {},
     "output_type": "execute_result"
    }
   ],
   "source": [
    "df = pd.read_csv(\"StudentsPerformance.csv\") \n",
    "df.head()"
   ]
  },
  {
   "cell_type": "code",
   "execution_count": 16,
   "metadata": {},
   "outputs": [
    {
     "data": {
      "text/html": [
       "<div>\n",
       "<style scoped>\n",
       "    .dataframe tbody tr th:only-of-type {\n",
       "        vertical-align: middle;\n",
       "    }\n",
       "\n",
       "    .dataframe tbody tr th {\n",
       "        vertical-align: top;\n",
       "    }\n",
       "\n",
       "    .dataframe thead th {\n",
       "        text-align: right;\n",
       "    }\n",
       "</style>\n",
       "<table border=\"1\" class=\"dataframe\">\n",
       "  <thead>\n",
       "    <tr style=\"text-align: right;\">\n",
       "      <th></th>\n",
       "      <th>math score</th>\n",
       "      <th>reading score</th>\n",
       "      <th>writing score</th>\n",
       "    </tr>\n",
       "  </thead>\n",
       "  <tbody>\n",
       "    <tr>\n",
       "      <td>count</td>\n",
       "      <td>1000.00000</td>\n",
       "      <td>1000.000000</td>\n",
       "      <td>1000.000000</td>\n",
       "    </tr>\n",
       "    <tr>\n",
       "      <td>mean</td>\n",
       "      <td>66.08900</td>\n",
       "      <td>69.169000</td>\n",
       "      <td>68.054000</td>\n",
       "    </tr>\n",
       "    <tr>\n",
       "      <td>std</td>\n",
       "      <td>15.16308</td>\n",
       "      <td>14.600192</td>\n",
       "      <td>15.195657</td>\n",
       "    </tr>\n",
       "    <tr>\n",
       "      <td>min</td>\n",
       "      <td>0.00000</td>\n",
       "      <td>17.000000</td>\n",
       "      <td>10.000000</td>\n",
       "    </tr>\n",
       "    <tr>\n",
       "      <td>25%</td>\n",
       "      <td>57.00000</td>\n",
       "      <td>59.000000</td>\n",
       "      <td>57.750000</td>\n",
       "    </tr>\n",
       "    <tr>\n",
       "      <td>50%</td>\n",
       "      <td>66.00000</td>\n",
       "      <td>70.000000</td>\n",
       "      <td>69.000000</td>\n",
       "    </tr>\n",
       "    <tr>\n",
       "      <td>75%</td>\n",
       "      <td>77.00000</td>\n",
       "      <td>79.000000</td>\n",
       "      <td>79.000000</td>\n",
       "    </tr>\n",
       "    <tr>\n",
       "      <td>max</td>\n",
       "      <td>100.00000</td>\n",
       "      <td>100.000000</td>\n",
       "      <td>100.000000</td>\n",
       "    </tr>\n",
       "  </tbody>\n",
       "</table>\n",
       "</div>"
      ],
      "text/plain": [
       "       math score  reading score  writing score\n",
       "count  1000.00000    1000.000000    1000.000000\n",
       "mean     66.08900      69.169000      68.054000\n",
       "std      15.16308      14.600192      15.195657\n",
       "min       0.00000      17.000000      10.000000\n",
       "25%      57.00000      59.000000      57.750000\n",
       "50%      66.00000      70.000000      69.000000\n",
       "75%      77.00000      79.000000      79.000000\n",
       "max     100.00000     100.000000     100.000000"
      ]
     },
     "execution_count": 16,
     "metadata": {},
     "output_type": "execute_result"
    }
   ],
   "source": [
    "df.describe()"
   ]
  },
  {
   "cell_type": "code",
   "execution_count": 20,
   "metadata": {},
   "outputs": [],
   "source": [
    "set1 = df['math score']\n",
    "set2 = df['reading score']\n",
    "set3 = df['writing score']"
   ]
  },
  {
   "cell_type": "code",
   "execution_count": 28,
   "metadata": {},
   "outputs": [
    {
     "data": {
      "text/plain": [
       "Text(0.5, 0, 'Test Results')"
      ]
     },
     "execution_count": 28,
     "metadata": {},
     "output_type": "execute_result"
    },
    {
     "data": {
      "image/png": "[encoded data removed]",
      "text/plain": [
       "<Figure size 432x288 with 1 Axes>"
      ]
     },
     "metadata": {
      "needs_background": "light"
     },
     "output_type": "display_data"
    }
   ],
   "source": [
    "import seaborn as sns\n",
    "sns.distplot(set1,color='navy', rug=True)\n",
    "sns.distplot(set2,color='darkorange', rug=True)\n",
    "sns.distplot(set3,color='green', rug=True)\n",
    "plt.xlim(0,100)\n",
    "plt.xlabel('Test Results')\n"
   ]
  },
  {
   "cell_type": "markdown",
   "metadata": {},
   "source": [
    "####  It seems that all three samples have the same population means and it seems there is no significant difference between them at all. Let's set the null and alternative hypothesis:\n",
    "\n",
    "> Ho: There is no difference in performance of students between math, reading and writing skills. <br>\n",
    "Ha: There is a difference in performance of students between math, reading and writing skills. <br>"
   ]
  },
  {
   "cell_type": "code",
   "execution_count": 30,
   "metadata": {},
   "outputs": [
    {
     "name": "stdout",
     "output_type": "stream",
     "text": [
      "statistic=441452.500, p-value at rejection =0.000\n",
      "Probably different distributions\n"
     ]
    }
   ],
   "source": [
    "from scipy.stats import mannwhitneyu # import a useful non-parametric test\n",
    "stat, p = mannwhitneyu(set1,set2)\n",
    "print('statistic=%.3f, p-value at rejection =%.3f' % (stat, p))\n",
    "if p > 0.05:\n",
    "    print('Probably the same distribution')\n",
    "else:\n",
    "    print('Probably different distributions')"
   ]
  },
  {
   "cell_type": "code",
   "execution_count": 31,
   "metadata": {},
   "outputs": [
    {
     "name": "stdout",
     "output_type": "stream",
     "text": [
      "statistic=461212.500, p-value at rejection =0.001\n",
      "Probably different distributions\n"
     ]
    }
   ],
   "source": [
    "from scipy.stats import mannwhitneyu # import a useful non-parametric test\n",
    "stat, p = mannwhitneyu(set1,set3)\n",
    "print('statistic=%.3f, p-value at rejection =%.3f' % (stat, p))\n",
    "if p > 0.05:\n",
    "    print('Probably the same distribution')\n",
    "else:\n",
    "    print('Probably different distributions')"
   ]
  },
  {
   "cell_type": "code",
   "execution_count": 32,
   "metadata": {},
   "outputs": [
    {
     "name": "stdout",
     "output_type": "stream",
     "text": [
      "statistic=480672.000, p-value at rejection =0.067\n",
      "Probably the same distribution\n"
     ]
    }
   ],
   "source": [
    "from scipy.stats import mannwhitneyu # import a useful non-parametric test\n",
    "stat, p = mannwhitneyu(set2,set3)\n",
    "print('statistic=%.3f, p-value at rejection =%.3f' % (stat, p))\n",
    "if p > 0.05:\n",
    "    print('Probably the same distribution')\n",
    "else:\n",
    "    print('Probably different distributions')"
   ]
  },
  {
   "cell_type": "code",
   "execution_count": 37,
   "metadata": {},
   "outputs": [
    {
     "name": "stdout",
     "output_type": "stream",
     "text": [
      "Statistics=21.225, p=0.000\n",
      "Probably different distributions\n"
     ]
    }
   ],
   "source": [
    "from scipy.stats import kruskal\n",
    "stat, p = kruskal(set1, set2, set3)\n",
    "print('Statistics=%.3f, p=%.3f' % (stat, p))\n",
    "# interpret\n",
    "alpha = 0.05\n",
    "if p > 0.05:\n",
    "    print('Probably the same distribution')\n",
    "else:\n",
    "    print('Probably different distributions')"
   ]
  },
  {
   "cell_type": "markdown",
   "metadata": {},
   "source": [
    "___"
   ]
  },
  {
   "cell_type": "markdown",
   "metadata": {},
   "source": [
    "### Example: Website Design: A practical example of A/B Testing\n",
    "*inspired by an example in __\"A/B Test Significance in Python\"__ by __Samuel Hinton__ available at* https://cosmiccoding.com.au/tutorials/ab_tests <br>\n",
    "![](https://www.invespcro.com/blog/images/blog-images/ab-test-1-1.jpg) <br>\n",
    "#### Imagine you’re in charge of a website (e.g., an online videogame shop). You have the current version of the website (aka. \"A\"), but aren’t happy with it. For instance, you are not selling as much as you like. You want to change the design of the \"Add to Cart\" button (aka. \"B\") and maybe that will increase your sells. <br>\n",
    "![](https://www.volusion.com/blog/content/images/wp/buttonaandbuttonn.jpg) <br>\n",
    "\n",
    "#### you set up your website so that half the people are directed to the old website, and half to one where you’ve made your change. You have data from both, and want to know, with confidence, “Does the change I made increase the sells?”.<br>\n",
    "\n",
    "*This is an A/B test. Often this is used interchangably with the term “split testing”, though in general A/B tests test small changes, and split testing might be when you present two entirely different websites to the user.* <br>\n",
    "\n",
    "#### Why not just change the website and monitor it for a week?\n",
    "    Good question - by having two sites active at once and randomly directing users to one or the other, you control for all other variables. If one week later puts you the week before Christmas, this will impact sales, and you might draw the wrong conclusion because of these confounding effects.\n",
    "#### Why is it not an A/B/C test?\n",
    "    you can have as many perturbations running as you want, but got to keep the name simple. The more perturbations you try though, the smaller a number of samples you’ll have for each case, and the harder it will be to draw statistically significant conclusions.\n",
    "\n",
    "#### Let us assume you have 1000 users, 550 were directed to site A, 450 to site B. In site A, 48 users made a purchase. In site B, 56 users made a purchase. Is this a statistically significant result?"
   ]
  },
  {
   "cell_type": "code",
   "execution_count": 20,
   "metadata": {},
   "outputs": [
    {
     "name": "stdout",
     "output_type": "stream",
     "text": [
      "0.08727272727272728\n",
      "0.12444444444444444\n"
     ]
    }
   ],
   "source": [
    "num_a= 550\n",
    "num_b = 450\n",
    "click_a= 48\n",
    "click_b = 56\n",
    "rate_a= click_a / num_a\n",
    "rate_b = click_b / num_b\n",
    "print(rate_a)\n",
    "print(rate_b)"
   ]
  },
  {
   "cell_type": "markdown",
   "metadata": {},
   "source": [
    "#### You can click a button, or not. Two discrete options are available, so this is a textbook binomial distribution, with some unknown rate for site A and site B. We don’t know the true click rate, but we can estimate it using our small sample."
   ]
  },
  {
   "cell_type": "code",
   "execution_count": 22,
   "metadata": {},
   "outputs": [
    {
     "data": {
      "image/png": "[encoded data removed]",
      "text/plain": [
       "<Figure size 432x288 with 1 Axes>"
      ]
     },
     "metadata": {
      "needs_background": "light"
     },
     "output_type": "display_data"
    }
   ],
   "source": [
    "import matplotlib.pyplot as plt\n",
    "import numpy as np\n",
    "from scipy.stats import binom\n",
    "\n",
    "# Determine the probability of having x number of clicks - Binomial Dist.\n",
    "clicks = np.arange(10, 100)\n",
    "prob_a = binom(num_a, rate_a).pmf(clicks)\n",
    "prob_b = binom(num_b, rate_b).pmf(clicks)\n",
    "\n",
    "# Make the bar plots.\n",
    "plt.bar(clicks, prob_a, label=\"A\", alpha=0.7)\n",
    "plt.bar(clicks, prob_b, label=\"B\", alpha=0.7)\n",
    "plt.legend()\n",
    "plt.xlabel(\"# of Sells\"); plt.ylabel(\"Probability\");"
   ]
  },
  {
   "cell_type": "markdown",
   "metadata": {},
   "source": [
    "#### So we can see here that b has an edge, but its certaintly possible if we pick two random points according to the histograms for A and B, that A might actually be higher than B! <Br>\n",
    "    \n",
    "#### As we’re interested in the average # of sells, this averaging of an underlying distribution means our final estimate will be well approximated by a normal distribution. So let’s reformulate, using the normal approximation here:"
   ]
  },
  {
   "cell_type": "code",
   "execution_count": 23,
   "metadata": {},
   "outputs": [
    {
     "data": {
      "text/plain": [
       "Text(0, 0.5, 'Probability')"
      ]
     },
     "execution_count": 23,
     "metadata": {},
     "output_type": "execute_result"
    },
    {
     "data": {
      "image/png": "[encoded data removed]",
      "text/plain": [
       "<Figure size 432x288 with 1 Axes>"
      ]
     },
     "metadata": {
      "needs_background": "light"
     },
     "output_type": "display_data"
    }
   ],
   "source": [
    "from scipy.stats import norm\n",
    "\n",
    "# Where does this come from? See this link: https://en.wikipedia.org/wiki/Binomial_distribution#Normal_approximation\n",
    "std_a = np.sqrt(rate_a * (1 - rate_a) / num_a)\n",
    "std_b = np.sqrt(rate_b * (1 - rate_b) / num_b)\n",
    "\n",
    "click_rate = np.linspace(0, 0.2, 200)\n",
    "prob_a = norm(rate_a, std_a).pdf(click_rate)\n",
    "prob_b = norm(rate_b, std_b).pdf(click_rate)\n",
    "\n",
    "# Make the bar plots.\n",
    "plt.plot(click_rate, prob_a, label=\"A\")\n",
    "plt.plot(click_rate, prob_b, label=\"B\")\n",
    "plt.legend(frameon=False)\n",
    "plt.xlabel(\"Purchase rate\"); plt.ylabel(\"Probability\")"
   ]
  },
  {
   "cell_type": "markdown",
   "metadata": {},
   "source": [
    "#### This is also a better plot than the first one, because we’ve removed the confusing effect of site A and site B having a slightly different number of visitors had. So our question is still the same: What is the chance that a draw from B is higher than a draw from A. Is it significant? <br>\n",
    "#### To answer this, let us utilise the handy fact that the sum (or difference) of normally distributed random numbers is also a normal. This is simple - take the difference in the means and sum the variance. We’ll do two things below: First, get the z-score, and second, plot the proper distribution.\n",
    "\n"
   ]
  },
  {
   "cell_type": "code",
   "execution_count": 24,
   "metadata": {},
   "outputs": [
    {
     "name": "stdout",
     "output_type": "stream",
     "text": [
      "zscore is 1.890, with p-value 0.029\n"
     ]
    },
    {
     "data": {
      "image/png": "[encoded data removed]",
      "text/plain": [
       "<Figure size 432x288 with 1 Axes>"
      ]
     },
     "metadata": {
      "needs_background": "light"
     },
     "output_type": "display_data"
    }
   ],
   "source": [
    "z_score = (rate_b - rate_a) / np.sqrt(std_a**2 + std_b**2)\n",
    "p = norm(rate_b - rate_a, np.sqrt(std_a**2 + std_b**2))\n",
    "\n",
    "x = np.linspace(-0.05, 0.15, 1000)\n",
    "y = p.pdf(x)\n",
    "area_under_curve = p.sf(0)\n",
    "plt.plot(x, y, label=\"PDF\")\n",
    "plt.fill_between(x, 0, y, where=x>0, label=\"Prob(b>a)\", alpha=0.3)\n",
    "plt.annotate(f\"Area={area_under_curve:0.3f}\", (0.02, 5))\n",
    "plt.legend()\n",
    "plt.xlabel(\"Difference in purchase rate\"); plt.ylabel(\"Prob\");\n",
    "\n",
    "print(f\"zscore is {z_score:0.3f}, with p-value {norm().sf(z_score):0.3f}\")"
   ]
  },
  {
   "cell_type": "markdown",
   "metadata": {},
   "source": [
    "#### we can say that given the null hypothesis (\"B is less than or equal to A\") is true , we would expect to get this result or a result more extreme only 2.9% of the time. As that is a significant result (typically p < 5%), we reject the null hypothesis, and state that we have evidence that B > A. <br>\n",
    "#### we’ve made a lot of plots for this to try and explain the concept. You can easily write a tiny function to simplify all of this. Whether you want the confidence or the p-value just means changing the final \"norm.cdf\" to \"norm.sf\"."
   ]
  },
  {
   "cell_type": "code",
   "execution_count": 25,
   "metadata": {},
   "outputs": [
    {
     "name": "stdout",
     "output_type": "stream",
     "text": [
      "0.029402650172421833\n"
     ]
    }
   ],
   "source": [
    "def get_confidence_ab_test(click_a, num_a, click_b, num_b):\n",
    "    rate_a = click_a / num_a\n",
    "    rate_b = click_b / num_b\n",
    "    std_a = np.sqrt(rate_a * (1 - rate_a) / num_a)\n",
    "    std_b = np.sqrt(rate_b * (1 - rate_b) / num_b)\n",
    "    z_score = (rate_b - rate_a) / np.sqrt(std_a**2 + std_b**2)\n",
    "    return norm.sf(z_score)\n",
    "\n",
    "print(get_confidence_ab_test(click_a, num_a, click_b, num_b))"
   ]
  },
  {
   "cell_type": "markdown",
   "metadata": {},
   "source": [
    "#### Remember Non-parametric Statistical Hypothesis Tests? We can use them here as well! <br>\n",
    "#### Imagine we have the raw results of clicks (purchases), as 0s or 1s, as our distribution."
   ]
  },
  {
   "cell_type": "code",
   "execution_count": 26,
   "metadata": {},
   "outputs": [
    {
     "name": "stdout",
     "output_type": "stream",
     "text": [
      "Mann-Whitney U test for null hypothesis B <= A is 0.028\n"
     ]
    }
   ],
   "source": [
    "from scipy.stats import mannwhitneyu\n",
    "\n",
    "a_dist = np.zeros(num_a)\n",
    "a_dist[:click_a] = 1\n",
    "b_dist = np.zeros(num_b)\n",
    "b_dist[:click_b] = 1\n",
    "\n",
    "stat, p_value = mannwhitneyu(a_dist, b_dist, alternative=\"less\")\n",
    "print(f\"Mann-Whitney U test for null hypothesis B <= A is {p_value:0.3f}\")"
   ]
  },
  {
   "cell_type": "markdown",
   "metadata": {},
   "source": [
    "___"
   ]
  },
  {
   "cell_type": "markdown",
   "metadata": {},
   "source": [
    "### Example: Times Roman or Times New Roman- That is the question! <br>\n",
    "![](https://media-exp1.licdn.com/dms/image/C4E1BAQEr76SyZsyo2w/company-background_10000/0/1553614927942?e=2159024400&v=beta&t=UKNhG-wjqdLnaYir1kVvVRyHdJodkMriZe_Wltqp424) <br>\n",
    "#### The Daily Planet newspaper is considering swiching from the Times Roman Font to the Times New Roman as an attempt to to make it easier for their audience to read the newspaper and hence, increase the online purchases. \n",
    "*hint: The Daily Planet is a fictional broadsheet newspaper appearing in American comic books published by DC Comics, commonly in association with Superman. Read more @ https://en.wikipedia.org/wiki/Daily_Planet<br>\n",
    "\n",
    "![](https://news-cdn.softpedia.com/images/fitted/620x/Times-New-Roman-The-Newpaper-Font-That-Took-Over-Windows-480938-3.jpg) <br>\n",
    "\n",
    "#### They have prepared two versions of their newspapers, one of each font. On the first day, they had a total of 1398 visitors. Randonmly, half of them (699 visitors) saw the original version (Time Roman) and the other half saw the alternative version (Times New Roman).    <br>\n",
    "#### The first group purchased a total of 175 copies of the newspaper. This number was 200 copies for the second group. Based on the observations of the first day, first, calculate the purchase rate for each group and then, decide whether the Daily Planet should change their font in order to increase the online engagement time?    <br>"
   ]
  },
  {
   "cell_type": "code",
   "execution_count": 2,
   "metadata": {},
   "outputs": [
    {
     "name": "stdout",
     "output_type": "stream",
     "text": [
      "The ratio for the first group is 0.2504 copies sold per person\n",
      "The ratio for the second group is 0.2861 copies sold per person\n",
      "Mann-Whitney U test for null hypothesis B <= A is 0.066\n"
     ]
    }
   ],
   "source": [
    "#Day 1\n",
    "group1= 699\n",
    "group2= 699\n",
    "sold1= 175\n",
    "sold2 = 200\n",
    "rate1=  sold1/group1\n",
    "rate2 = sold2/group2\n",
    "\n",
    "print(f\"The ratio for the first group is {rate1:0.4f} copies sold per person\")\n",
    "print(f\"The ratio for the second group is {rate2:0.4f} copies sold per person\")\n",
    "from scipy.stats import mannwhitneyu\n",
    "import numpy as np\n",
    "a_dist = np.zeros(group1)\n",
    "a_dist[:sold1] = 1\n",
    "b_dist = np.zeros(group2)\n",
    "b_dist[:sold2] = 1\n",
    "\n",
    "stat, p_value = mannwhitneyu(a_dist, b_dist, alternative=\"less\")\n",
    "print(f\"Mann-Whitney U test for null hypothesis B <= A is {p_value:0.3f}\")"
   ]
  },
  {
   "cell_type": "markdown",
   "metadata": {},
   "source": [
    "#### After a week, they had a total of 10086 visitors. Randonmly, half of them (5043 visitors) saw the original version (Time Roman) and the other half saw the alternative version (Times New Roman).    <br>\n",
    "#### The first group purchased a total of 1072 copies of the newspaper. This number was 1190 copies for the second group. Based on the observations of the first week, first, calculate the purchase rate for each group and then, decide whether the Daily Planet should change their font in order to increase the online engagement time?    <br>"
   ]
  },
  {
   "cell_type": "code",
   "execution_count": 161,
   "metadata": {},
   "outputs": [
    {
     "name": "stdout",
     "output_type": "stream",
     "text": [
      "The ratio for the first group is 0.213 copies sold per person\n",
      "The ratio for the second group is 0.236 copies sold per person\n",
      "Mann-Whitney U test for null hypothesis B <= A is 0.002\n"
     ]
    }
   ],
   "source": [
    "#Week 1\n",
    "group1= 5043\n",
    "group2= 5043\n",
    "sold1= 1072\n",
    "sold2 = 1190\n",
    "rate1=  sold1/group1\n",
    "rate2 = sold2/group2\n",
    "\n",
    "print(f\"The ratio for the first group is {rate1:0.3f} copies sold per person\")\n",
    "print(f\"The ratio for the second group is {rate2:0.3f} copies sold per person\")\n",
    "from scipy.stats import mannwhitneyu\n",
    "import numpy as np\n",
    "a_dist = np.zeros(group1)\n",
    "a_dist[:sold1] = 1\n",
    "b_dist = np.zeros(group2)\n",
    "b_dist[:sold2] = 1\n",
    "\n",
    "stat, p_value = mannwhitneyu(a_dist, b_dist, alternative=\"less\")\n",
    "print(f\"Mann-Whitney U test for null hypothesis B <= A is {p_value:0.3f}\")"
   ]
  },
  {
   "cell_type": "markdown",
   "metadata": {},
   "source": [
    "#### After a month, they had a total of 42000 visitors. Randonmly, half of them (21000 visitors) saw the original version (Time Roman) and the other half saw the alternative version (Times New Roman).    <br>\n",
    "#### The first group purchased a total of 4300 copies of the newspaper. This number was 5700 copies for the second group. Based on the observations of the first month, first, calculate the purchase rate for each group and then, decide whether the Daily Planet should change their font in order to increase the online engagement time?    <br>"
   ]
  },
  {
   "cell_type": "code",
   "execution_count": 5,
   "metadata": {},
   "outputs": [
    {
     "name": "stdout",
     "output_type": "stream",
     "text": [
      "The ratio for the first group is 0.205 copies sold per person\n",
      "The ratio for the second group is 0.271 copies sold per person\n",
      "Mann-Whitney U test for null hypothesis B <= A is 0.000000000000000\n"
     ]
    }
   ],
   "source": [
    "#Month 1\n",
    "group1= 21000\n",
    "group2= 21000\n",
    "sold1= 4300\n",
    "sold2 = 5700\n",
    "rate1=  sold1/group1\n",
    "rate2 = sold2/group2\n",
    "\n",
    "print(f\"The ratio for the first group is {rate1:0.3f} copies sold per person\")\n",
    "print(f\"The ratio for the second group is {rate2:0.3f} copies sold per person\")\n",
    "from scipy.stats import mannwhitneyu\n",
    "import numpy as np\n",
    "a_dist = np.zeros(group1)\n",
    "a_dist[:sold1] = 1\n",
    "b_dist = np.zeros(group2)\n",
    "b_dist[:sold2] = 1\n",
    "\n",
    "stat, p_value = mannwhitneyu(a_dist, b_dist, alternative=\"less\")\n",
    "print(f\"Mann-Whitney U test for null hypothesis B <= A is {p_value:0.15f}\")"
   ]
  },
  {
   "cell_type": "markdown",
   "metadata": {},
   "source": [
    "___\n",
    "![](https://media2.giphy.com/media/5nj4ZZWl6QwneEaBX4/source.gif) <br>\n",
    "\n",
    "\n",
    "__*Here are some great reads on this topic:*__ \n",
    "- __\"Hypothesis testing in Machine learning using Python\"__ by __Yogesh Agrawal__ available at *https://towardsdatascience.com/hypothesis-testing-in-machine-learning-using-python-a0dc89e169ce* <br>\n",
    "- __\"Quick Guide To Perform Hypothesis Testing\"__ available at *https://www.analyticsvidhya.com/blog/2020/12/quick-guide-to-perform-hypothesis-testing/*<br>\n",
    "- __\"A Gentle Introduction to Statistical Hypothesis Testing\"__ by __Jason Brownlee__ available at *https://machinelearningmastery.com/statistical-hypothesis-tests/*<br>\n",
    "- __\"17 Statistical Hypothesis Tests in Python (Cheat Sheet)\"__ by __Jason Brownlee__ available at *https://machinelearningmastery.com/statistical-hypothesis-tests-in-python-cheat-sheet/*<br>\n",
    "\n",
    "\n",
    "__*Some great reads on A/B Testing:*__\n",
    "-  __\"Implementing A/B Tests in Python\"__ by __Robbie Geoghegan__ available at* https://medium.com/@robbiegeoghegan/implementing-a-b-tests-in-python-514e9eb5b3a1 <br>\n",
    "-  __\"The Math Behind A/B Testing with Example Python Code\"__ by __Nguyen Ngo__ available at* https://towardsdatascience.com/the-math-behind-a-b-testing-with-example-code-part-1-of-2-7be752e1d06f <br>\n",
    "-  __\"A/B Testing\"__ available at* https://www.optimizely.com/optimization-glossary/ab-testing/ <br>\n",
    "-  __\"A/B Testing Guide\"__ available at* https://vwo.com/ab-testing/ <br>\n",
    "\n",
    "__*Some great videos:*__\n",
    "-  __\"What is A/B Testing? | Data Science in Minutes\"__ by __Data Science Dojo__ available at* https://www.youtube.com/watch?v=zFMgpxG-chM <br>\n",
    "-  __\"A/B Testing Intro: Why, What, Where, & How to A/B Test\"__ by __Testing Theory__ available at* https://www.youtube.com/watch?v=CH89jd4haRE <br>\n",
    "-  __\"A/B Testing\"__ by __Udacity__ available at* https://www.youtube.com/watch?v=8H6QmMQWPEI <br>\n",
    "- __\"Statistical Hypothesis Testing- Data Science with Python\"__ by __Technology for Noobs__ available at *https://www.youtube.com/watch?v=kd6zKBa9Rfk* <br>\n",
    "- __\"Hypothesis Testing, p-value & Confidence Intervals, Exploratory Data Analysis In Python Statistics\"__ by __TheEngineeringWorld__ available at *https://www.youtube.com/watch?v=kz1IXqcFVCo* <br>\n",
    "- __\"Python Tutorial : Hypothesis tests\"__ by __DataCamp__ available at *https://www.youtube.com/watch?v=6wbldEMpRXc* <br>"
   ]
  },
  {
   "cell_type": "markdown",
   "metadata": {},
   "source": [
    "___\n",
    "![](https://media2.giphy.com/media/dNgK7Ws7y176U/200.gif) <br>\n"
   ]
  },
  {
   "cell_type": "markdown",
   "metadata": {},
   "source": [
    "## Exercise: Wait a minute ... Isn't The Kruskal-Wallis test missing something?  <br>\n",
    "\n",
    "### We used the Kruskal-Wallis to check whether the three sets belong to the same distribution or at least one of them is different. The question is, how can we find the sets that are different? What is the missing piece in tests such as The Kruskal-Wallis Test?  \n",
    "\n",
    "#### _Make sure to cite any resources that you may use._ "
   ]
  },
  {
   "cell_type": "code",
   "execution_count": null,
   "metadata": {},
   "outputs": [],
   "source": []
  },
  {
   "cell_type": "markdown",
   "metadata": {},
   "source": [
    "![](http://img.picturequotes.com/2/124/123499/one-finds-the-truth-by-making-a-hypothesis-and-comparing-observations-with-the-hypothesis-quote-1.jpg)"
   ]
  }
 ],
 "metadata": {
  "kernelspec": {
   "display_name": "Python 3",
   "language": "python",
   "name": "python3"
  },
  "language_info": {
   "codemirror_mode": {
    "name": "ipython",
    "version": 3
   },
   "file_extension": ".py",
   "mimetype": "text/x-python",
   "name": "python",
   "nbconvert_exporter": "python",
   "pygments_lexer": "ipython3",
   "version": "3.7.4"
  }
 },
 "nbformat": 4,
 "nbformat_minor": 4
}
