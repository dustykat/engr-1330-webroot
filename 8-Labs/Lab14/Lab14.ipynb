{
 "cells": [
  {
   "cell_type": "markdown",
   "metadata": {},
   "source": [
    "**Download** (right-click, save target as ...) this page as a jupyterlab notebook from: [Lab14](http://54.243.252.9/engr-1330-webroot/8-Labs/Lab14/Lab14.ipynb)\n",
    "\n",
    "___"
   ]
  },
  {
   "cell_type": "markdown",
   "metadata": {},
   "source": [
    "# <font color=darkgreen>Laboratory 14: Data Models and Graphing </font>\n",
    "\n",
    "LAST NAME, FIRST NAME\n",
    "\n",
    "R00000000\n",
    "\n",
    "ENGR 1330 Laboratory 13 - In-Lab\n"
   ]
  },
  {
   "cell_type": "code",
   "execution_count": 6,
   "metadata": {},
   "outputs": [
    {
     "name": "stdout",
     "output_type": "stream",
     "text": [
      "atomickitty\n",
      "sensei\n",
      "/opt/jupyterhub/bin/python3\n",
      "3.8.10 (default, Nov 26 2021, 20:14:08) \n",
      "[GCC 9.3.0]\n",
      "sys.version_info(major=3, minor=8, micro=10, releaselevel='final', serial=0)\n"
     ]
    }
   ],
   "source": [
    "# Preamble script block to identify host, user, and kernel\n",
    "import sys\n",
    "! hostname\n",
    "! whoami\n",
    "print(sys.executable)\n",
    "print(sys.version)\n",
    "print(sys.version_info)"
   ]
  },
  {
   "cell_type": "markdown",
   "metadata": {},
   "source": [
    "## Example 1\n",
    "\n",
    "Consider the data below\n",
    "\n",
    "|Methanol Mole Fraction (Liquid Phase)| Methanol Mole Fraction (Vapor Phase) |\n",
    "|---|---|\n",
    "|1.0| 1.0 |\n",
    "|0.882| 0.929 |\n",
    "|0.765| 0.849 |\n",
    "|0.653| 0.764 |\n",
    "|0.545| 0.673 |\n",
    "|0.443| 0.575 |\n",
    "|0.344| 0.471 |\n",
    "|0.25 | 0.359 |\n",
    "|0.159| 0.241 |\n",
    "|0.072| 0.114 |\n",
    "|0.0  | 0.0   |\n",
    " \n",
    "Estimate the vapor mole fraction of methanol corresponding to the liquid mole fraction of methanol of x = 0.15.  \n",
    "\n",
    "Let's  try a few different functional forms as a data model; first linear, then quadratic, and then a power-law model.\n",
    "\n",
    "As a first step, lets import some minimal needed packages, and build a plotting function."
   ]
  },
  {
   "cell_type": "code",
   "execution_count": 7,
   "metadata": {},
   "outputs": [],
   "source": [
    "import matplotlib.pyplot as plt\n",
    "def make2plot(listx1,listy1,listx2,listy2,strlablx,strlably,strtitle):\n",
    "    mydata = plt.figure(figsize = (10,5)) # build a square drawing canvass from figure class\n",
    "    plt.plot(listx1,listy1, c='red', marker='v',linewidth=0) # basic data plot\n",
    "    plt.plot(listx2,listy2, c='blue',linewidth=1) # basic model plot\n",
    "    plt.xlabel(strlablx)\n",
    "    plt.ylabel(strlably)\n",
    "    plt.legend(['Observations','Model'])# modify for argument insertion\n",
    "    plt.title(strtitle)\n",
    "    plt.show()\n",
    "    return"
   ]
  },
  {
   "cell_type": "markdown",
   "metadata": {},
   "source": [
    "Next lets define some data models; linear, quadratic, and power-law"
   ]
  },
  {
   "cell_type": "code",
   "execution_count": 8,
   "metadata": {},
   "outputs": [],
   "source": [
    "def linear(b0,b1,x):\n",
    "    ''' \n",
    "    linear data model, b0,b1 are parameters\n",
    "    return y = b0+b1*x\n",
    "    '''\n",
    "    linear=b0+b1*x\n",
    "    return(linear)\n",
    "\n",
    "def quadratic(b0,b1,b2,x):\n",
    "    ''' \n",
    "    quadratic data model, b0,b1 are parameters\n",
    "    return y = b0+b1*x+b2*x^2\n",
    "    '''\n",
    "    quadratic=b0+b1*x+b2*x**2\n",
    "    return(quadratic)  \n",
    "\n",
    "def powerlaw(b0,b1,b2,x):\n",
    "    '''\n",
    "    power law data model\n",
    "    return y = b0 + b1*x**b2'''\n",
    "    powerlaw=b0+b1*x**b2\n",
    "    return(powerlaw)\n",
    "\n",
    "def residue(list1,list2,list3):\n",
    "    ''' \n",
    "    compute residues\n",
    "    list3 = list1 - list2\n",
    "    return residuals in list3\n",
    "    '''\n",
    "    if len(list1)!=len(list2) or len(list1)!=len(list3):\n",
    "        print('Lists unequal length, undefined operations')\n",
    "        return\n",
    "    for i in range(len(list1)):\n",
    "        list3[i]=list1[i]-list2[i]\n",
    "    return(list3)"
   ]
  },
  {
   "cell_type": "markdown",
   "metadata": {},
   "source": [
    "Now lets make some model fits (trial-and-error); First the needed data"
   ]
  },
  {
   "cell_type": "code",
   "execution_count": 9,
   "metadata": {},
   "outputs": [],
   "source": [
    "xtable = [1.0,0.882,0.765,0.653,0.545,0.443,0.344,0.25,0.159,0.072,0]\n",
    "ytable = [1.0 ,0.929 ,0.849 ,0.764 ,0.673 ,0.575 ,0.471 ,0.359 ,0.241 ,0.114 ,0]\n"
   ]
  },
  {
   "cell_type": "code",
   "execution_count": 10,
   "metadata": {},
   "outputs": [
    {
     "name": "stdin",
     "output_type": "stream",
     "text": [
      "Enter b0 value 0\n",
      "Enter b1 value .7\n"
     ]
    },
    {
     "data": {
      "image/png": "[encoded data removed]",
      "text/plain": [
       "<Figure size 720x360 with 1 Axes>"
      ]
     },
     "metadata": {
      "needs_background": "light"
     },
     "output_type": "display_data"
    }
   ],
   "source": [
    "# Fit a data model - linear model\n",
    "intercept=float(input('Enter b0 value'))\n",
    "slope=float(input('Enter b1 value'))\n",
    "# build a data model\n",
    "modelYYY = [] # empty list\n",
    "for i in range(len(xtable)):\n",
    "    modelYYY.append(linear(intercept,slope,xtable[i]))\n",
    "# Plotting results\n",
    "make2plot(xtable,ytable,xtable,modelYYY,'time (sec.)','speed (m/s)','Plot of model and observations')"
   ]
  },
  {
   "cell_type": "code",
   "execution_count": 11,
   "metadata": {},
   "outputs": [
    {
     "name": "stdout",
     "output_type": "stream",
     "text": [
      "2.3959000000000006\n",
      "0.6424237700000002\n"
     ]
    }
   ],
   "source": [
    "# get the residues\n",
    "resids = [0 for i in range(len(xtable))] # empty list\n",
    "residue(ytable,modelYYY,resids)\n",
    "print(sum(resids))\n",
    "for i in range(len(resids)):\n",
    "    resids[i]=resids[i]**2\n",
    "print(sum(resids))"
   ]
  },
  {
   "cell_type": "code",
   "execution_count": 12,
   "metadata": {},
   "outputs": [
    {
     "name": "stdin",
     "output_type": "stream",
     "text": [
      "Enter b0 value 0\n",
      "Enter b1 value 1\n",
      "Enter b2 value -.7\n"
     ]
    },
    {
     "data": {
      "image/png": "[encoded data removed]",
      "text/plain": [
       "<Figure size 720x360 with 1 Axes>"
      ]
     },
     "metadata": {
      "needs_background": "light"
     },
     "output_type": "display_data"
    }
   ],
   "source": [
    "# Fit a data model - quadratic model\n",
    "intercept=float(input('Enter b0 value'))\n",
    "slope=float(input('Enter b1 value'))\n",
    "curvature = float(input('Enter b2 value'))\n",
    "# build a data model\n",
    "modelYYY = [] # empty list\n",
    "for i in range(len(xtable)):\n",
    "    modelYYY.append(quadratic(intercept,slope,curvature,xtable[i]))\n",
    "# Plotting results\n",
    "make2plot(xtable,ytable,xtable,modelYYY,'time (sec.)','speed (m/s)','Plot of model and observations')"
   ]
  },
  {
   "cell_type": "code",
   "execution_count": 13,
   "metadata": {},
   "outputs": [
    {
     "name": "stdout",
     "output_type": "stream",
     "text": [
      "3.3078930999999994\n",
      "1.5160922471302898\n"
     ]
    }
   ],
   "source": [
    "# get the residues\n",
    "resids = [0 for i in range(len(xtable))] # empty list\n",
    "residue(ytable,modelYYY,resids)\n",
    "print(sum(resids))\n",
    "for i in range(len(resids)):\n",
    "    resids[i]=resids[i]**2\n",
    "print(sum(resids))"
   ]
  },
  {
   "cell_type": "code",
   "execution_count": 14,
   "metadata": {},
   "outputs": [
    {
     "name": "stdin",
     "output_type": "stream",
     "text": [
      "Enter b0 value 1\n",
      "Enter b1 value 0.2\n",
      "Enter b2 value 2\n"
     ]
    },
    {
     "data": {
      "image/png": "[encoded data removed]",
      "text/plain": [
       "<Figure size 720x360 with 1 Axes>"
      ]
     },
     "metadata": {
      "needs_background": "light"
     },
     "output_type": "display_data"
    }
   ],
   "source": [
    "# Fit a data model - power-law model\n",
    "intercept=float(input('Enter b0 value'))\n",
    "slope=float(input('Enter b1 value'))\n",
    "exponent=float(input('Enter b2 value'))\n",
    "# build a data model\n",
    "modelYYY = [] # empty list\n",
    "for i in range(len(xtable)):\n",
    "    modelYYY.append(powerlaw(intercept,slope,exponent,xtable[i]))\n",
    "# Plotting results\n",
    "make2plot(xtable,ytable,xtable,modelYYY,'time (sec.)','speed (m/s)','Plot of model and observations')"
   ]
  },
  {
   "cell_type": "code",
   "execution_count": 15,
   "metadata": {},
   "outputs": [
    {
     "name": "stdout",
     "output_type": "stream",
     "text": [
      "-5.7238266\n",
      "3.73436693472084\n"
     ]
    }
   ],
   "source": [
    "# get the residues\n",
    "resids = [0 for i in range(len(xtable))] # empty list\n",
    "residue(ytable,modelYYY,resids)\n",
    "print(sum(resids))\n",
    "for i in range(len(resids)):\n",
    "    resids[i]=resids[i]**2\n",
    "print(sum(resids))"
   ]
  },
  {
   "cell_type": "markdown",
   "metadata": {},
   "source": [
    "Now choose which data model to use and make the estimate"
   ]
  },
  {
   "cell_type": "code",
   "execution_count": 16,
   "metadata": {},
   "outputs": [
    {
     "name": "stdin",
     "output_type": "stream",
     "text": [
      "Liquid Phase Mole Fraction .4\n"
     ]
    },
    {
     "name": "stdout",
     "output_type": "stream",
     "text": [
      "Estimated Vapor Phase Mole Fraction :  0.572\n"
     ]
    }
   ],
   "source": [
    "xwant = float(input('Liquid Phase Mole Fraction'))\n",
    "print('Estimated Vapor Phase Mole Fraction : ',round(quadratic(0.0,1.75,-.8,xwant),3))"
   ]
  },
  {
   "cell_type": "markdown",
   "metadata": {},
   "source": [
    "### Exercise 1\n",
    "A meaningful modification is to make the estimate using all the models (you will have to use care in parameter names, but its an easy mod!).  It is left as an exercise."
   ]
  },
  {
   "cell_type": "markdown",
   "metadata": {},
   "source": [
    "## Example 2\n",
    "\n",
    "Same data as above, only this time use interpolating polynomials (as in the lesson).\n",
    "\n",
    "|Methanol Mole Fraction (Liquid Phase)| Methanol Mole Fraction (Vapor Phase) |\n",
    "|---|---|\n",
    "|1.0| 1.0 |\n",
    "|0.882| 0.929 |\n",
    "|0.765| 0.849 |\n",
    "|0.653| 0.764 |\n",
    "|0.545| 0.673 |\n",
    "|0.443| 0.575 |\n",
    "|0.344| 0.471 |\n",
    "|0.25 | 0.359 |\n",
    "|0.159| 0.241 |\n",
    "|0.072| 0.114 |\n",
    "|0.0  | 0.0   |\n",
    " \n",
    "Estimate (interpolate) the vapor mole fraction of methanol corresponding to the liquid mole fraction of methanol of x = 0.15."
   ]
  },
  {
   "cell_type": "code",
   "execution_count": 17,
   "metadata": {},
   "outputs": [],
   "source": [
    "def lagint(xlist,ylist,xpred): # build an interpolator function\n",
    "    # lagrangian interpolation of order len(xlist)-1 \n",
    "    # \n",
    "    lagint = 0.0 # an accumulator, and will be output\n",
    "    norder = len(xlist)\n",
    "    for i in range(norder):\n",
    "        term = ylist[i] # build up terms of polynomial\n",
    "        for j in range(norder):\n",
    "            if (i != j):\n",
    "                term = term * (xpred-xlist[j])/(xlist[i]-xlist[j])\n",
    "#            pass # may not need this expression\n",
    "        lagint = lagint + term\n",
    "#    print(i,j) #debugging expression\n",
    "    return(lagint)"
   ]
  },
  {
   "cell_type": "code",
   "execution_count": 18,
   "metadata": {},
   "outputs": [
    {
     "data": {
      "image/png": "[encoded data removed]",
      "text/plain": [
       "<Figure size 648x432 with 1 Axes>"
      ]
     },
     "metadata": {
      "needs_background": "light"
     },
     "output_type": "display_data"
    }
   ],
   "source": [
    "xtable = [1.0,0.882,0.765,0.653,0.545,0.443,0.344,0.25,0.159,0.072,0]\n",
    "ytable = [1.0 ,0.929 ,0.849 ,0.764 ,0.673 ,0.575 ,0.471 ,0.359 ,0.241 ,0.114 ,0 ]\n",
    "\n",
    "xpred = [] # empty list to store results for plotting\n",
    "ypred = [] # empty list to store results for plotting\n",
    "\n",
    "step_size = 0.1  # step size\n",
    "how_many = int(1.0/step_size)\n",
    "\n",
    "# build the predictions\n",
    "for i in range(how_many+1): \n",
    "    xpred.append(float(i)*step_size)\n",
    "    ypred.append(lagint(xtable,ytable,float(i)*step_size))\n",
    "\n",
    "    \n",
    "    #print(lagint(xtable,ytable,xwant))\n",
    "#print(round(lagint(xtable,ytable,xwant),3))\n",
    "import matplotlib.pyplot # the python plotting library\n",
    "myfigure = matplotlib.pyplot.figure(figsize = (9,6)) # generate a object from the figure class, set aspect ratio\n",
    "matplotlib.pyplot.scatter(xtable, ytable ,color ='red') # The observations as points\n",
    "matplotlib.pyplot.plot(xpred, ypred, color ='blue') # the polynomial\n",
    "matplotlib.pyplot.xlabel(\"Mole Fraction - Liquid Phase\") \n",
    "matplotlib.pyplot.ylabel(\"Mole Fraction - Vaopr Phase\") \n",
    "mytitle = \"Interpolating Polynomial Fit to Observations\\n \"\n",
    "mytitle += \"Red Markers are Observations \" + \"\\n\"\n",
    "mytitle += \"Blue Curve is Fitted Polynomial \"+ \"\\n\"\n",
    "matplotlib.pyplot.title(mytitle) \n",
    "matplotlib.pyplot.show()"
   ]
  },
  {
   "cell_type": "code",
   "execution_count": 19,
   "metadata": {},
   "outputs": [
    {
     "name": "stdin",
     "output_type": "stream",
     "text": [
      "Liquid Phase Mole Fraction 0.5\n"
     ]
    },
    {
     "name": "stdout",
     "output_type": "stream",
     "text": [
      "Estimated Vapor Phase Mole Fraction :  0.631\n"
     ]
    }
   ],
   "source": [
    "xwant = float(input('Liquid Phase Mole Fraction'))\n",
    "print('Estimated Vapor Phase Mole Fraction : ',round(lagint(xtable,ytable,xwant),3))"
   ]
  },
  {
   "cell_type": "code",
   "execution_count": null,
   "metadata": {},
   "outputs": [],
   "source": []
  }
 ],
 "metadata": {
  "kernelspec": {
   "display_name": "Python 3",
   "language": "python",
   "name": "python3"
  },
  "language_info": {
   "codemirror_mode": {
    "name": "ipython",
    "version": 3
   },
   "file_extension": ".py",
   "mimetype": "text/x-python",
   "name": "python",
   "nbconvert_exporter": "python",
   "pygments_lexer": "ipython3",
   "version": "3.8.10"
  }
 },
 "nbformat": 4,
 "nbformat_minor": 4
}
