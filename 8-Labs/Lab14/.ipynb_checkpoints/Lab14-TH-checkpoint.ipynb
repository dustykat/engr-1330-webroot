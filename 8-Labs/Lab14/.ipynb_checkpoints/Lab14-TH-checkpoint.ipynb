{
 "cells": [
  {
   "cell_type": "markdown",
   "metadata": {},
   "source": [
    "**Download** (right-click, save target as ...) this page as a jupyterlab notebook from: [Lab14-TH](http://54.243.252.9/engr-1330-webroot/8-Labs/Lab14/Lab14-TH.ipynb)\n",
    "\n",
    "___"
   ]
  },
  {
   "cell_type": "markdown",
   "metadata": {},
   "source": [
    "# <font color=green>Exercise 14: Data Models and Plotting </font>\n",
    "\n",
    "LAST NAME, FIRST NAME\n",
    "\n",
    "R00000000\n",
    "\n",
    "ENGR 1330 ES-14 - Homework\n"
   ]
  },
  {
   "cell_type": "markdown",
   "metadata": {},
   "source": [
    "## Exercise 0: Profile your computer"
   ]
  },
  {
   "cell_type": "code",
   "execution_count": 9,
   "metadata": {},
   "outputs": [
    {
     "name": "stdout",
     "output_type": "stream",
     "text": [
      "atomickitty\n",
      "sensei\n",
      "/opt/jupyterhub/bin/python3\n",
      "3.8.10 (default, Nov 26 2021, 20:14:08) \n",
      "[GCC 9.3.0]\n",
      "sys.version_info(major=3, minor=8, micro=10, releaselevel='final', serial=0)\n"
     ]
    }
   ],
   "source": [
    "# Preamble script block to identify host, user, and kernel\n",
    "import sys\n",
    "! hostname\n",
    "! whoami\n",
    "print(sys.executable)\n",
    "print(sys.version)\n",
    "print(sys.version_info)"
   ]
  },
  {
   "cell_type": "markdown",
   "metadata": {},
   "source": [
    "## Exercise 1: Data Modeling by Trial-and-Error\n",
    "\n",
    "### Background\n",
    "Most drugs have therapeutic benefits when the drug is above a “therapeutic threshold” but toxic side effects above a “toxic threshold”. Dosing protocols are intended to maintain the level of the drug in the patient’s blood within a “therapeutic window” that between these two thresholds. Using mathematical models helps an engineer optimize the drug design so the entire delivery process is as efficient as possible and localized drug concentrations are kept within a therapeutic window.  Here you will test some mathematical models for just one part of this process - an in vitro experiment of drug release from a nanoparticle. (“Nanosystems for Simultaneous Imaging and Drug Delivery to T Cells”, by Fahmy et al, AAPS Journal, 2007 vol 9.). The experimental results are listed below\n",
    "\n",
    "\n",
    "|Time(Days) | $\\mu$-grams released|\n",
    "|---|---|\n",
    "|0 |2.5|\n",
    "|0.25|3.6|\n",
    "|0.5|5.3|\n",
    "|1|9.5|\n",
    "|2|14.0|\n",
    "|3|16.5|\n",
    "|4|18.8|\n",
    "|5|21.5|\n",
    "|6|23.2|\n",
    "|8|26.8|\n",
    "|10|28.4|\n",
    "\n",
    "1. Plot the drug release data with time on the horizontal axis, and mass released on the vertical axis. Use red circles as the marker.  \n",
    "\n",
    "2. Create and plot a linear data model using a blue curve for the model. $\\mu g_{release} = \\beta_0 + \\beta_1 \\cdot t_{days}$ \n",
    "\n",
    "3. Create a list of prediction error; produce a histogram of these errors (called residuals).\n",
    "\n",
    "4. Compute the sum of the squares of all of the residuals. "
   ]
  },
  {
   "cell_type": "code",
   "execution_count": 10,
   "metadata": {},
   "outputs": [],
   "source": [
    "# code here\n",
    "# plotting function\n",
    "# linear model function\n",
    "# supply data\n",
    "# build lists of observation\n",
    "# build lists of model\n",
    "# plot\n",
    "# prediction residuals\n",
    "# sum_of_squares"
   ]
  },
  {
   "cell_type": "markdown",
   "metadata": {},
   "source": [
    "## Exercise-2: Examine a different model\n",
    "\n",
    "Using the drug release data, repeat your analysis using a 2-nd order polynomial data model \n",
    "\n",
    "$\\mu g_{release} = \\beta_0 + \\beta_1 \\cdot t_{days} + \\beta_2 \\cdot t_{days}^2 $ \n",
    "\n",
    "1. Perform your trial-and-error fit for this model. Report the sum of square of residuals of your fitted data model.\n"
   ]
  },
  {
   "cell_type": "code",
   "execution_count": 11,
   "metadata": {},
   "outputs": [],
   "source": [
    "# code here\n",
    "# quadratic model function\n",
    "# build lists of model\n",
    "# plot\n",
    "# prediction residuals\n",
    "# sum_of_squares"
   ]
  },
  {
   "cell_type": "markdown",
   "metadata": {},
   "source": [
    "## Exercise-3: Examine a different model\n",
    "\n",
    "Using the drug release data, repeat your analysis using a 3-rd order polynomial data model \n",
    "\n",
    "$\\mu g_{release} = \\beta_0 + \\beta_1 \\cdot t_{days} + \\beta_2 \\cdot t_{days}^2 + \\beta_3 \\cdot t_{days}^3$ \n",
    "\n",
    "1. Perform your trial-and-error fit. Report the sum of square of residuals of your fitted data model.\n",
    "\n",
    "2. What is the order of the polynomial that gives the best fit in terms of the lowest sum of square of residuals? "
   ]
  },
  {
   "cell_type": "code",
   "execution_count": 12,
   "metadata": {},
   "outputs": [],
   "source": [
    "# code here\n",
    "# cubic model function\n",
    "# build lists of model\n",
    "# plot\n",
    "# prediction residuals\n",
    "# sum_of_squares"
   ]
  },
  {
   "cell_type": "markdown",
   "metadata": {},
   "source": [
    "## Exercise-4: Examine a different model\n",
    "\n",
    "Using the drug release data, repeat your analysis using an exponential-decay type model \n",
    "\n",
    "$\\mu g_{release} = \\beta_0 (1- e^{-\\beta_1 \\cdot t_{days}}) $ \n",
    "\n",
    "1. Perform your trial-and-error fit for this model. Report the sum of square of residuals of your fitted data model."
   ]
  },
  {
   "cell_type": "code",
   "execution_count": 13,
   "metadata": {},
   "outputs": [],
   "source": [
    "# code here\n",
    "# exponential decay model function\n",
    "# build lists of model\n",
    "# plot\n",
    "# prediction residuals\n",
    "# sum_of_squares"
   ]
  },
  {
   "cell_type": "markdown",
   "metadata": {},
   "source": [
    "## Exercise-5: Decide\n",
    "\n",
    "Which of the drug-release models do you like best?  Why?  The parameters in the exponential-decay model have bio-chemical conceptual meaning.  What is the significance of $\\beta_0$ in this model? (Consider what happens as time gets large)"
   ]
  },
  {
   "cell_type": "code",
   "execution_count": 14,
   "metadata": {},
   "outputs": [],
   "source": [
    "# change to markdown and write your answer"
   ]
  },
  {
   "cell_type": "markdown",
   "metadata": {},
   "source": [
    "## Exercise-5: (continued) Use your model to predict behavior\n",
    "\n",
    "Using your favorite data model predict the drug release for days 11-21 inclusive.  Compare your predictions to observations reported from the drug trials below:\n",
    "\n",
    "|Time(Days) | $\\mu$-grams released|\n",
    "|---|---|\n",
    "|12 |28.4|\n",
    "|16 |28.5|\n",
    "|21 |29.5|\n"
   ]
  },
  {
   "cell_type": "code",
   "execution_count": 15,
   "metadata": {},
   "outputs": [],
   "source": [
    "# code here\n",
    "# add new data to observations\n",
    "# use favorite model function with already determined parameters\n",
    "# build lists of model\n",
    "# plot\n",
    "# compute prediction error \n",
    "# report error for 12,16,21 days values"
   ]
  },
  {
   "cell_type": "markdown",
   "metadata": {},
   "source": [
    "<!--## Exercise-6: Interpolating Polynomials\n",
    "\n",
    "In a radiation-induced polymerization study, a gamma source was used to give measured doses of radiation. The dosage varied with position in the apparatus, with the following data being recorded:\n",
    "\n",
    "|Position from emitter (inches)  | Dosage Rate, $10^5$ rads/hr  |\n",
    "|:---  | :--- |\n",
    "|0   |1.90|\n",
    "|0.5 |2.39|\n",
    "|1.0 |2.71|\n",
    "|1.5 |2.98|\n",
    "|2.0 |3.20|\n",
    "|3.0 |3.20|\n",
    "|3.5 |2.98|\n",
    "|4.0 |2.74|\n",
    "\n",
    "For some reason, the reading at 2.5 inches was not reported, but the value of radiation at that distance is needed; estimate the dosage level at 2.5 inches using a lagrange interpolation-type prediction engine.  Plot the interpolating function as well as the observations.-->"
   ]
  }
 ],
 "metadata": {
  "kernelspec": {
   "display_name": "Python 3",
   "language": "python",
   "name": "python3"
  },
  "language_info": {
   "codemirror_mode": {
    "name": "ipython",
    "version": 3
   },
   "file_extension": ".py",
   "mimetype": "text/x-python",
   "name": "python",
   "nbconvert_exporter": "python",
   "pygments_lexer": "ipython3",
   "version": "3.8.10"
  }
 },
 "nbformat": 4,
 "nbformat_minor": 4
}
