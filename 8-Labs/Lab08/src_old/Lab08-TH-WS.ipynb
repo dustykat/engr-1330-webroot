{
 "cells": [
  {
   "cell_type": "markdown",
   "metadata": {},
   "source": [
    "**Download** (right-click, save target as ...) this page as a jupyterlab notebook from: [Lab8-TH](http://54.243.252.9/engr-1330-webroot/8-Labs/Lab08/Lab08-TH.ipynb)\n",
    "\n",
    "___"
   ]
  },
  {
   "cell_type": "markdown",
   "metadata": {},
   "source": [
    "# <font color=darkred>Laboratory 8: Matrices a Red Pill Approach </font>\n",
    "\n",
    "**LAST NAME, FIRST NAME**\n",
    "\n",
    "**R00000000**\n",
    "\n",
    "ENGR 1330 Laboratory 8 - Homework"
   ]
  },
  {
   "cell_type": "code",
   "execution_count": 11,
   "metadata": {},
   "outputs": [
    {
     "name": "stdout",
     "output_type": "stream",
     "text": [
      "atomickitty\n",
      "sensei\n",
      "/opt/jupyterhub/bin/python3\n",
      "3.8.10 (default, Jun  2 2021, 10:49:15) \n",
      "[GCC 9.4.0]\n",
      "sys.version_info(major=3, minor=8, micro=10, releaselevel='final', serial=0)\n"
     ]
    }
   ],
   "source": [
    "# Preamble script block to identify host, user, and kernel\n",
    "import sys\n",
    "! hostname\n",
    "! whoami\n",
    "print(sys.executable)\n",
    "print(sys.version)\n",
    "print(sys.version_info)"
   ]
  },
  {
   "cell_type": "markdown",
   "metadata": {},
   "source": [
    "\n",
    "___\n",
    "\n",
    "## Reading Files\n"
   ]
  },
  {
   "cell_type": "markdown",
   "metadata": {},
   "source": [
    "## Exercise 0 \n",
    "Define the matrix A and the vector u in Python. Then perform all of the tasks below. \n",
    "\n",
    "\\begin{gather}\n",
    "\\mathbf{A} =\n",
    "\\begin{pmatrix}\n",
    "1 & 3 & 5 & 7 \\\\\n",
    "2 & 4 & 6 & 8 \\\\\n",
    "-3 & -2 & -1 & 0 \\\\\n",
    "\\end{pmatrix}\n",
    "~ \\mathbf{u} = \n",
    "\\begin{pmatrix}\n",
    "10 \\\\\n",
    "20 \\\\\n",
    "30 \\\\\n",
    "\\end{pmatrix}\n",
    "\\end{gather}\n",
    "\n",
    "1. Print the matrix A\n",
    "2. Print the vector u\n",
    "3. Print the shape of A \n",
    "4. Print the shape of u\n",
    "5. Print the first column of A\n",
    "6. Print the first two rows of A\n",
    "7. Print the first two entries of u\n",
    "8. Print the last two entries of u\n",
    "9. Print the bottom left 2×2 partition (submatrix) of A\n",
    "10. Print the middle two elements of the middle row of A\n",
    "\n",
    "---\n",
    "\n",
    "Use the code blocks below to craft your answer."
   ]
  },
  {
   "cell_type": "code",
   "execution_count": 12,
   "metadata": {},
   "outputs": [],
   "source": [
    "#%reset -f # only if necessary"
   ]
  },
  {
   "cell_type": "code",
   "execution_count": 27,
   "metadata": {},
   "outputs": [
    {
     "name": "stdout",
     "output_type": "stream",
     "text": [
      "A - matrix\n",
      "[1, 3, 5, 7]\n",
      "[2, 4, 6, 8]\n",
      "[-3, -2, -1, 0]\n",
      "u - vector\n",
      "[10, 20, 30]\n",
      "A rows =  3 A cols =  4\n",
      "determine and Print the shape of u\n",
      "u rows =  3\n",
      "Print the first column of A\n",
      "1\n",
      "2\n",
      "-3\n",
      "Print the first two rows of A\n",
      "[1, 3, 5, 7]\n",
      "[2, 4, 6, 8]\n",
      "Print the first two entries of u\n",
      "10\n",
      "20\n",
      "Print the last two entries of u\n",
      "[20, 30]\n",
      "Print the bottom left 2×2 partition (submatrix) of A\n",
      "[2, 4]\n",
      "[-3, -2]\n",
      "Print the middle two elements of the middle row of A\n",
      "[4, 6]\n"
     ]
    }
   ],
   "source": [
    "# read/create matrix A\n",
    "A = [[1,3,5,7],\n",
    "      [2,4,6,8],\n",
    "       [-3,-2,-1,0]]\n",
    "# read/create vector u\n",
    "u = [10,20,30]\n",
    "# print A\n",
    "print(\"A - matrix\")\n",
    "for i in range(len(A)):\n",
    "    print(A[i])\n",
    "\n",
    "# print u\n",
    "print(\"u - vector\")\n",
    "print(u)\n",
    "# determine and Print the shape of A \n",
    "rows = len(A)\n",
    "cols = len(A[0])\n",
    "print('A rows = ',rows,'A cols = ',cols)\n",
    "print('determine and Print the shape of u')\n",
    "print('u rows = ',len(u))\n",
    "print('Print the first column of A')\n",
    "for i in range(len(A)):\n",
    "    print(A[i][0])\n",
    "print('Print the first two rows of A')\n",
    "print(A[0])\n",
    "print(A[1])\n",
    "print('Print the first two entries of u')\n",
    "print(u[0])\n",
    "print(u[1])\n",
    "print('Print the last two entries of u')\n",
    "print(u[-2:])\n",
    "print('Print the bottom left 2×2 partition (submatrix) of A')\n",
    "for i in range(1,len(A)):\n",
    "    print(A[i][:2])\n",
    "print('Print the middle two elements of the middle row of A')\n",
    "print(A[1][1:3])\n"
   ]
  },
  {
   "cell_type": "markdown",
   "metadata": {},
   "source": [
    "## Exercise 1\n",
    "\n",
    "Use your script to multiply two matrices, just like in the Lab (in-Lab portion).\n",
    "Apply the script to find $\\mathbf{A}\\mathbf{B}$ where.\n",
    "\n",
    "\\begin{gather}\n",
    "\\mathbf{A} =\n",
    "\\begin{pmatrix}\n",
    "1 & 2 \\\\\n",
    "3 & 4 \\\\\n",
    "5 & 6  \\\\\n",
    "\\end{pmatrix}\n",
    "~~~~ \\mathbf{B} = \n",
    "\\begin{pmatrix}\n",
    "7 & 8 & 9 \\\\\n",
    "10 & 11 & 12 \\\\\n",
    "\\end{pmatrix}\n",
    "\\end{gather}"
   ]
  },
  {
   "cell_type": "markdown",
   "metadata": {},
   "source": [
    "The two matrices are located in files:\n",
    "\n",
    "[http://54.243.252.9/engr-1330-webroot/8-Labs/Lab08/Amat.txt](http://54.243.252.9/engr-1330-webroot/8-Labs/Lab08/Amat.txt)\n",
    "\n",
    "and:\n",
    "\n",
    "[http://54.243.252.9/engr-1330-webroot/8-Labs/Lab08/Bmat.txt](http://54.243.252.9/engr-1330-webroot/8-Labs/Lab08/Bmat.txt)\n",
    "\n",
    "You should download these files before proceeding"
   ]
  },
  {
   "cell_type": "code",
   "execution_count": 32,
   "metadata": {},
   "outputs": [
    {
     "name": "stdout",
     "output_type": "stream",
     "text": [
      "A matrix\n",
      "[1.0, 2.0]\n",
      "[3.0, 4.0]\n",
      "[5.0, 6.0]\n",
      "B matrix\n",
      "[7.0, 8.0, 9.0]\n",
      "[10.0, 11.0, 12.0]\n",
      "AB matrix\n",
      "[27.0, 30.0, 33.0]\n",
      "[61.0, 68.0, 75.0]\n",
      "[95.0, 106.0, 117.0]\n"
     ]
    }
   ],
   "source": [
    "# read file Amat.txt\n",
    "A = [] # empty list to the map information\n",
    "infile = open(\"Amat.txt\",\"r\") # open a read connection\n",
    "for line in infile:\n",
    "    A.append([float(n) for n in line.strip().split(\",\")])\n",
    "infile.close()\n",
    "# read file Bmat.txt\n",
    "B = [] # empty list to the map information\n",
    "infile = open(\"Bmat.txt\",\"r\") # open a read connection\n",
    "for line in infile:\n",
    "    B.append([float(n) for n in line.strip().split(\",\")])\n",
    "infile.close()\n",
    "# create a destination matrix ABmatrix\n",
    "AB = [[0 for i in range(len(B[0]))] for i in range(len(A))]\n",
    "# print Amat\n",
    "print('A matrix')\n",
    "for i in range(len(A)):\n",
    "    print(A[i])\n",
    "# print Bmat\n",
    "print('B matrix')\n",
    "for i in range(len(B)):\n",
    "    print(B[i])\n",
    "# perform the multiplication put the result into ABmatrix \n",
    "for i in range(0,len(A)):\n",
    "    for j in range(0,len(B[0])):\n",
    "        for k in range(0,len(A[0])):\n",
    "           AB[i][j]=AB[i][j]+A[i][k]*B[k][j]\n",
    "# print ABmatrix\n",
    "print('AB matrix')\n",
    "for i in range(len(AB)):\n",
    "    print(AB[i])"
   ]
  },
  {
   "cell_type": "markdown",
   "metadata": {},
   "source": [
    "___\n",
    "\n",
    "## References\n",
    "\n",
    "1. A linear algebra primer [https://numericalmethodssullivan.github.io/ch-linearalgebra.html](https://numericalmethodssullivan.github.io/ch-linearalgebra.html)\n",
    "\n",
    "3. Python file manipulations [https://www.tutorialspoint.com/python/python_files_io.htm](https://www.tutorialspoint.com/python/python_files_io.htm)\n",
    "\n",
    "2. A Complete Beginners Guide to Matrix Multiplication for Data Science with Python Numpy [https://towardsdatascience.com/a-complete-beginners-guide-to-matrix-multiplication-for-data-science-with-python-numpy-9274ecfc1dc6](https://towardsdatascience.com/a-complete-beginners-guide-to-matrix-multiplication-for-data-science-with-python-numpy-9274ecfc1dc6)\n",
    "\n"
   ]
  }
 ],
 "metadata": {
  "kernelspec": {
   "display_name": "Python 3",
   "language": "python",
   "name": "python3"
  },
  "language_info": {
   "codemirror_mode": {
    "name": "ipython",
    "version": 3
   },
   "file_extension": ".py",
   "mimetype": "text/x-python",
   "name": "python",
   "nbconvert_exporter": "python",
   "pygments_lexer": "ipython3",
   "version": "3.8.10"
  }
 },
 "nbformat": 4,
 "nbformat_minor": 4
}
