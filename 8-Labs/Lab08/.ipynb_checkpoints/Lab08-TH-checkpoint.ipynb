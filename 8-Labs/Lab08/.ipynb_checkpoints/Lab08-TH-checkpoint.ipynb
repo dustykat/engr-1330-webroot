{
 "cells": [
  {
   "cell_type": "markdown",
   "metadata": {},
   "source": [
    "**Download** (right-click, save target as ...) this page as a jupyterlab notebook from: [Lab8-TH](http://54.243.252.9/engr-1330-webroot/8-Labs/Lab08/Lab08-TH.ipynb)\n",
    "\n",
    "___"
   ]
  },
  {
   "cell_type": "markdown",
   "metadata": {},
   "source": [
    "# <font color=darkred>Exercise Set 8: Matrices a Red Pill Approach </font>\n",
    "\n",
    "**LAST NAME, FIRST NAME**\n",
    "\n",
    "**R00000000**\n",
    "\n",
    "ENGR 1330 ES 8 - Homework"
   ]
  },
  {
   "cell_type": "code",
   "execution_count": 11,
   "metadata": {},
   "outputs": [
    {
     "name": "stdout",
     "output_type": "stream",
     "text": [
      "atomickitty\n",
      "sensei\n",
      "/opt/jupyterhub/bin/python3\n",
      "3.8.10 (default, Jun  2 2021, 10:49:15) \n",
      "[GCC 9.4.0]\n",
      "sys.version_info(major=3, minor=8, micro=10, releaselevel='final', serial=0)\n"
     ]
    }
   ],
   "source": [
    "# Preamble script block to identify host, user, and kernel\n",
    "import sys\n",
    "! hostname\n",
    "! whoami\n",
    "print(sys.executable)\n",
    "print(sys.version)\n",
    "print(sys.version_info)"
   ]
  },
  {
   "cell_type": "markdown",
   "metadata": {},
   "source": [
    "\n",
    "___\n",
    "\n",
    "## Reading Files\n"
   ]
  },
  {
   "cell_type": "markdown",
   "metadata": {},
   "source": [
    "## Exercise 0 \n",
    "Define the matrix A and the vector u in Python. Then perform all of the tasks below. \n",
    "\n",
    "\\begin{gather}\n",
    "\\mathbf{A} =\n",
    "\\begin{pmatrix}\n",
    "1 & 3 & 5 & 7 \\\\\n",
    "2 & 4 & 6 & 8 \\\\\n",
    "-3 & -2 & -1 & 0 \\\\\n",
    "\\end{pmatrix}\n",
    "~ \\mathbf{u} = \n",
    "\\begin{pmatrix}\n",
    "10 \\\\\n",
    "20 \\\\\n",
    "30 \\\\\n",
    "\\end{pmatrix}\n",
    "\\end{gather}\n",
    "\n",
    "1. Print the matrix A\n",
    "2. Print the vector u\n",
    "3. Print the shape of A \n",
    "4. Print the shape of u\n",
    "5. Print the first column of A\n",
    "6. Print the first two rows of A\n",
    "7. Print the first two entries of u\n",
    "8. Print the last two entries of u\n",
    "9. Print the bottom left 2×2 partition (submatrix) of A\n",
    "10. Print the middle two elements of the middle row of A\n",
    "\n",
    "---\n",
    "\n",
    "Use the code blocks below to craft your answer."
   ]
  },
  {
   "cell_type": "code",
   "execution_count": 12,
   "metadata": {},
   "outputs": [],
   "source": [
    "#%reset -f # only if necessary"
   ]
  },
  {
   "cell_type": "code",
   "execution_count": 13,
   "metadata": {},
   "outputs": [],
   "source": [
    "# read/create matrix A\n",
    "# read/create vector u\n",
    "# print A\n",
    "# print u\n",
    "# determine and Print the shape of A \n",
    "# determine andPrint the shape of u\n",
    "# Print the first column of A\n",
    "# Print the first two rows of A\n",
    "# Print the first two entries of u\n",
    "# Print the last two entries of u\n",
    "# Print the bottom left 2×2 partition (submatrix) of A\n",
    "# Print the middle two elements of the middle row of A"
   ]
  },
  {
   "cell_type": "markdown",
   "metadata": {},
   "source": [
    "## Exercise 1\n",
    "\n",
    "Use your script to multiply two matrices, just like in the Lab (in-Lab portion).\n",
    "Apply the script to find $\\mathbf{A}\\mathbf{B}$ where.\n",
    "\n",
    "\\begin{gather}\n",
    "\\mathbf{A} =\n",
    "\\begin{pmatrix}\n",
    "1 & 2 \\\\\n",
    "3 & 4 \\\\\n",
    "5 & 6  \\\\\n",
    "\\end{pmatrix}\n",
    "~~~~ \\mathbf{B} = \n",
    "\\begin{pmatrix}\n",
    "7 & 8 & 9 \\\\\n",
    "10 & 11 & 12 \\\\\n",
    "\\end{pmatrix}\n",
    "\\end{gather}"
   ]
  },
  {
   "cell_type": "markdown",
   "metadata": {},
   "source": [
    "The two matrices are located in files:\n",
    "\n",
    "[http://54.243.252.9/engr-1330-webroot/8-Labs/Lab08/Amat.txt](http://54.243.252.9/engr-1330-webroot/8-Labs/Lab08/Amat.txt)\n",
    "\n",
    "and:\n",
    "\n",
    "[http://54.243.252.9/engr-1330-webroot/8-Labs/Lab08/Bmat.txt](http://54.243.252.9/engr-1330-webroot/8-Labs/Lab08/Bmat.txt)\n",
    "\n",
    "You should download these files before proceeding"
   ]
  },
  {
   "cell_type": "code",
   "execution_count": 14,
   "metadata": {},
   "outputs": [],
   "source": [
    "# read file Amat.txt\n",
    "# read file Bmat.txt\n",
    "# create a destination matrix ABmatrix\n",
    "# print Amat\n",
    "# print Bmat\n",
    "# perform the multiplication put the result into ABmatrix \n",
    "# print ABmatrix"
   ]
  },
  {
   "cell_type": "markdown",
   "metadata": {},
   "source": [
    "___\n",
    "\n",
    "## References\n",
    "\n",
    "1. A linear algebra primer [https://numericalmethodssullivan.github.io/ch-linearalgebra.html](https://numericalmethodssullivan.github.io/ch-linearalgebra.html)\n",
    "\n",
    "3. Python file manipulations [https://www.tutorialspoint.com/python/python_files_io.htm](https://www.tutorialspoint.com/python/python_files_io.htm)\n",
    "\n",
    "2. A Complete Beginners Guide to Matrix Multiplication for Data Science with Python Numpy [https://towardsdatascience.com/a-complete-beginners-guide-to-matrix-multiplication-for-data-science-with-python-numpy-9274ecfc1dc6](https://towardsdatascience.com/a-complete-beginners-guide-to-matrix-multiplication-for-data-science-with-python-numpy-9274ecfc1dc6)\n",
    "\n"
   ]
  }
 ],
 "metadata": {
  "kernelspec": {
   "display_name": "Python 3",
   "language": "python",
   "name": "python3"
  },
  "language_info": {
   "codemirror_mode": {
    "name": "ipython",
    "version": 3
   },
   "file_extension": ".py",
   "mimetype": "text/x-python",
   "name": "python",
   "nbconvert_exporter": "python",
   "pygments_lexer": "ipython3",
   "version": "3.8.10"
  }
 },
 "nbformat": 4,
 "nbformat_minor": 4
}
