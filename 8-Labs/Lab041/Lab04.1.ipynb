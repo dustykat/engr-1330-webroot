{
 "cells": [
  {
   "cell_type": "markdown",
   "metadata": {},
   "source": [
    "**Download** (right-click, save target as ...) this page as a jupyterlab notebook from:\n",
    "\n",
    "[Laboratory 4.1](http://54.243.252.9/engr-1330-webroot/8-Labs/Lab041/Lab04.1.ipynb)\n",
    "\n",
    "___"
   ]
  },
  {
   "cell_type": "markdown",
   "metadata": {},
   "source": [
    "# <font color=darkblue>Laboratory 4.1: Data Structures  </font>\n",
    "\n",
    "**LAST NAME, FIRST NAME**\n",
    "\n",
    "**R00000000**\n",
    "\n",
    "ENGR 1330 Laboratory 4.1 - In-Lab\n",
    "\n"
   ]
  },
  {
   "cell_type": "code",
   "execution_count": 1,
   "metadata": {},
   "outputs": [
    {
     "name": "stdout",
     "output_type": "stream",
     "text": [
      "atomickitty\n",
      "sensei\n",
      "/opt/jupyterhub/bin/python3\n",
      "3.8.10 (default, Nov 26 2021, 20:14:08) \n",
      "[GCC 9.3.0]\n",
      "sys.version_info(major=3, minor=8, micro=10, releaselevel='final', serial=0)\n"
     ]
    }
   ],
   "source": [
    "# Preamble script block to identify host, user, and kernel\n",
    "import sys\n",
    "! hostname\n",
    "! whoami\n",
    "print(sys.executable)\n",
    "print(sys.version)\n",
    "print(sys.version_info)"
   ]
  },
  {
   "cell_type": "markdown",
   "metadata": {},
   "source": [
    "## <font color=purple>Data Structures: List </font>\n",
    "\n",
    "A list is a collection of data that are somehow related. \n",
    "It is a convenient way to refer to a collection of similar things by a single name, and using an index (like a subscript in math)\n",
    "to identify a particular item.\n",
    "\n",
    "In engineering and data science we use lists a lot - we often call them vectors, arrays, matrices and such, but they are ultimately just lists.\n",
    "\n",
    "To declare a list you can write the list name and assign it values. \n",
    "The square brackets are used to identify that the variable is a list. \n",
    "Like:\n",
    "\n",
    "    MyList = [7,11,5,9,13,66,99,223]\n",
    "\n",
    "One can also declare a null list and use the `append()` method to fill it as needed.\n",
    "\n",
    "    MyOtherList = [ ]\n",
    "    \n",
    "Python indices start at ZERO. \n",
    "Alot of other lnguages start at ONE. \n",
    "Its just the convention. \n",
    "\n",
    "The first element in a list has an index of 0, the second an index of 1, and so on.\n",
    "We access the contents of a list by referring to its name and index. \n",
    "For example \n",
    "\n",
    "    MyList[3] has a value of the number 9."
   ]
  },
  {
   "cell_type": "code",
   "execution_count": 6,
   "metadata": {},
   "outputs": [
    {
     "name": "stdout",
     "output_type": "stream",
     "text": [
      "[]\n",
      "[765]\n",
      "[7, 11, 5, 9, 13, 66, 99, 223]\n",
      "sublist is:  [9, 13, 66]\n",
      "Sum:  88\n",
      "Length:  3\n"
     ]
    }
   ],
   "source": [
    "MyOtherList = [] #Create an empty list\n",
    "print(MyOtherList)\n",
    "MyOtherList.append(765) #Add one item to the list\n",
    "print(MyOtherList)\n",
    "\n",
    "MyList = [7,11,5,9,13,66,99,223] #Define a list \n",
    "print(MyList)\n",
    "\n",
    "sublist = MyList[3:6] #slice a sublist\n",
    "print(\"sublist is: \", sublist)\n",
    "\n",
    "mysum = sum(sublist) #sum the numbers in the sublist\n",
    "print(\"Sum: \", mysum)\n",
    "\n",
    "mylength = len(sublist) #get the length of the sublist\n",
    "print(\"Length: \", mylength)"
   ]
  },
  {
   "cell_type": "markdown",
   "metadata": {},
   "source": [
    "## <font color=purple>Data Structures: Special List | Tuple</font>\n",
    "\n",
    "A tuple is a special kind of list where the values cannot be changed after the list is created.\n",
    "It is useful for list-like things that are static - like days in a week, or months of a year.\n",
    "You declare a tuple like a list, except use round brackets instead of square brackets.\n",
    "\n",
    "    MyTupleName = (\"Jan\",\"Feb\",\"Mar\",\"Apr\",\"May\",\"Jun\",\"Jul\",\"Aug\",\"Sep\",\"Oct\",\"Nov\",\"Dec\")\n",
    "    \n",
    "## <font color=purple>Data Structures: Special List | Dictionary</font>\n",
    "\n",
    "A dictionary is a special kind of list where the items are related data PAIRS. \n",
    "The second item could itself be a list, so a dictionary would be a meaningful way to build a database in Python.\n",
    "\n",
    "To declare a dictionary using `curly` brackets\n",
    "\n",
    "    MyPetsNamesAndMass = { \"Dusty\":7.8 , \"Aspen\":6.3, \"Merrimee\":0.03}\n",
    "\n",
    "To declare a dictionary using the `dict()` method\n",
    "\n",
    "    MyPetsNamesAndMassToo = dict(Dusty = 7.8 , Aspen = 6.3, Merrimee = 0.03)\n",
    "    \n",
    "___\n",
    "Some examples follow:"
   ]
  },
  {
   "cell_type": "code",
   "execution_count": 14,
   "metadata": {},
   "outputs": [
    {
     "name": "stdout",
     "output_type": "stream",
     "text": [
      "('Jan', 'Feb', 'Mar', 'Apr', 'May', 'Jun', 'Jul', 'Aug', 'Sep', 'Oct', 'Nov', 'Dec')\n"
     ]
    }
   ],
   "source": [
    "MyTupleName = (\"Jan\",\"Feb\",\"Mar\",\"Apr\",\"May\",\"Jun\",\"Jul\",\"Aug\",\"Sep\",\"Oct\",\"Nov\",\"Dec\")\n",
    "print(MyTupleName)"
   ]
  },
  {
   "cell_type": "code",
   "execution_count": 15,
   "metadata": {},
   "outputs": [
    {
     "name": "stdout",
     "output_type": "stream",
     "text": [
      "{'Dusty': 7.8, 'Aspen': 6.3, 'Merrimee': 0.03}\n",
      "{'Dusty': 7.8, 'Aspen': 6.3, 'Merrimee': 0.04}\n"
     ]
    }
   ],
   "source": [
    "MyPetsNamesAndMass = { \"Dusty\":7.8 , \"Aspen\":6.3, \"Merrimee\":0.03}\n",
    "print(MyPetsNamesAndMass)\n",
    "MyPetsNamesAndMassToo = dict(Dusty = 7.8 , Aspen = 6.3, Merrimee = 0.04)\n",
    "print(MyPetsNamesAndMassToo)"
   ]
  },
  {
   "cell_type": "code",
   "execution_count": 5,
   "metadata": {},
   "outputs": [
    {
     "name": "stdout",
     "output_type": "stream",
     "text": [
      "5th element of the tuple: May\n",
      "Aspen's mass =  6.3\n",
      "Merrimee's mass 0.03\n",
      "Merrimee's mass 0.01 She lost weight !\n",
      "Merrimee's mass 0.03\n"
     ]
    }
   ],
   "source": [
    "# Tuples\n",
    "MyTupleName = (\"Jan\",\"Feb\",\"Mar\",\"Apr\",\"May\",\"Jun\",\"Jul\",\"Aug\",\"Sep\",\"Oct\",\"Nov\",\"Dec\")\n",
    "# Access a Tuple\n",
    "print (\"5th element of the tuple:\", MyTupleName[4])\n",
    "# Dictionary\n",
    "MyPetsNamesAndMass = { \"Dusty\":7.8 , \"Aspen\":6.3, \"Merrimee\":0.03}\n",
    "# Access the Dictionary\n",
    "print (\"Aspen's mass = \", MyPetsNamesAndMass[\"Aspen\"])\n",
    "# Change a value in a dictionary\n",
    "print (\"Merrimee's mass\" , MyPetsNamesAndMass[\"Merrimee\"])\n",
    "MyPetsNamesAndMass[\"Merrimee\"] = 0.01\n",
    "print (\"Merrimee's mass\" , MyPetsNamesAndMass[\"Merrimee\"], \"She lost weight !\")\n",
    "# Alternate dictionary\n",
    "MyPetsNamesAndMassToo = dict(Dusty = 7.8 , Aspen = 6.3, Merrimee = 0.03)\n",
    "print (\"Merrimee's mass\" , MyPetsNamesAndMassToo[\"Merrimee\"])\n",
    "# Attempt to change a Tuple\n",
    "#MyTupleName[3]=(\"Fred\") # Activate this line and see what happens!"
   ]
  },
  {
   "cell_type": "markdown",
   "metadata": {},
   "source": [
    "___\n",
    "### Example: Nested Dictionary\n",
    "\n",
    "From the dictionary below, print \"Pandemic\" and \"Tokyo\":"
   ]
  },
  {
   "cell_type": "code",
   "execution_count": 17,
   "metadata": {},
   "outputs": [
    {
     "name": "stdout",
     "output_type": "stream",
     "text": [
      "{'Quentin': 'Tarantino', '2020': [2020, 'COVID', 19, 'Pandemic'], 'Bond': ['James', 'Gun', ('Paris', 'Tokyo', 'London')]}\n"
     ]
    }
   ],
   "source": [
    "FD = {\"Quentin\":\"Tarantino\",\"2020\":[2020,\"COVID\",19,\"Pandemic\"],\"Bond\":[\"James\",\"Gun\",(\"Paris\",\"Tokyo\",\"London\")]} #A nested dictionary\n",
    "print(FD)"
   ]
  },
  {
   "cell_type": "code",
   "execution_count": 18,
   "metadata": {},
   "outputs": [
    {
     "data": {
      "text/plain": [
       "'Pandemic'"
      ]
     },
     "execution_count": 18,
     "metadata": {},
     "output_type": "execute_result"
    }
   ],
   "source": [
    "FD['2020'][3]"
   ]
  },
  {
   "cell_type": "code",
   "execution_count": 19,
   "metadata": {},
   "outputs": [
    {
     "data": {
      "text/plain": [
       "'Tokyo'"
      ]
     },
     "execution_count": 19,
     "metadata": {},
     "output_type": "execute_result"
    }
   ],
   "source": [
    "FD['Bond'][2][1]"
   ]
  },
  {
   "cell_type": "code",
   "execution_count": 26,
   "metadata": {},
   "outputs": [
    {
     "data": {
      "text/plain": [
       "'Paris'"
      ]
     },
     "execution_count": 26,
     "metadata": {},
     "output_type": "execute_result"
    }
   ],
   "source": [
    "FD['Bond']\n",
    "FD['Bond'][2]\n",
    "FD['Bond'][2][0]"
   ]
  },
  {
   "cell_type": "markdown",
   "metadata": {},
   "source": [
    "___\n",
    "## Readings\n",
    "\n",
    "\n",
    "*Here are some great reads on this topic:* \n",
    "- __\"Common Python Data Structures (Guide)\"__ by __Dan Bader__ available at *https://realpython.com/python-data-structures/<br>\n",
    "- __\"Data Structures You Need To Learn In Python\"__ by __Akash__ available at *https://www.edureka.co/blog/data-structures-in-python/ <br>\n",
    "- __\"Data Structures in Python— A Brief Introduction\"__ by __Sowmya Krishnan__ available at *https://towardsdatascience.com/data-structures-in-python-a-brief-introduction-b4135d7a9b7d <br>\n",
    "- __\"Everything you Should Know About Data Structures in Python\"__ by __ANIRUDDHA BHANDARI__ available at *https://www.analyticsvidhya.com/blog/2020/06/data-structures-python/ <br>\n",
    "- __\"Conditional Statements in Python\"__ by __John Sturtz__ available at *https://realpython.com/python-conditional-statements/ <br>\n",
    "- __\"Python If Statement explained with examples\"__ by __CHAITANYA SINGH__ available at *https://beginnersbook.com/2018/01/python-if-statement-example/ <br>\n",
    "\n",
    "*Here are some great videos on these topics:* \n",
    "- __\"Python: Data Structures - Lists, Tuples, Sets & Dictionaries tutorial\"__ by __Joe James__ available at *https://www.youtube.com/watch?v=R-HLU9Fl5ug&t=92s <br>\n",
    "- __\"Python Tutorial for Beginners 5: Dictionaries - Working with Key-Value Pairs\"__ by __Corey Schafer__ available at *https://www.youtube.com/watch?v=daefaLgNkw0 <br>\n",
    "- __\"How to Use If Else Statements in Python (Python Tutorial #2)\"__ by __CS Dojo__ available at *https://www.youtube.com/watch?v=AWek49wXGzI <br>\n",
    "- __\"Python If Statements | Python Tutorial #10\"__ by __Amigoscode__ available at *https://www.youtube.com/watch?v=wKQRmXR3jhc <br>"
   ]
  },
  {
   "cell_type": "markdown",
   "metadata": {},
   "source": []
  }
 ],
 "metadata": {
  "kernelspec": {
   "display_name": "Python 3",
   "language": "python",
   "name": "python3"
  },
  "language_info": {
   "codemirror_mode": {
    "name": "ipython",
    "version": 3
   },
   "file_extension": ".py",
   "mimetype": "text/x-python",
   "name": "python",
   "nbconvert_exporter": "python",
   "pygments_lexer": "ipython3",
   "version": "3.8.10"
  }
 },
 "nbformat": 4,
 "nbformat_minor": 4
}
