{
 "cells": [
  {
   "cell_type": "code",
   "execution_count": null,
   "metadata": {},
   "outputs": [],
   "source": []
  },
  {
   "cell_type": "markdown",
   "metadata": {},
   "source": [
    "**Download** (right-click, save target as ...) this page as a jupyterlab notebook [ES-28](http://54.243.252.9/engr-1330-webroot/8-Labs/Lab28/Lab28-TH.ipynb)\n",
    "\n",
    "___"
   ]
  },
  {
   "cell_type": "markdown",
   "metadata": {},
   "source": [
    "# <font color=darkred>Exercise Set 28: Assessing Fitness; Prediction Intervals </font>\n",
    "\n",
    "LAST NAME, FIRST NAME\n",
    "\n",
    "R00000000\n",
    "\n",
    "ENGR 1330 ES-28 - Homework\n",
    "\n",
    "___\n"
   ]
  },
  {
   "cell_type": "markdown",
   "metadata": {},
   "source": [
    "## Exercise 1\n",
    "\n",
    "[Consumer Reports](https://web.consumerreports.org/test/SEM/version12.htm?EXTKEY=SG72CR0&ds_rl=1265560&ds_rl=1247084&ds_rl=1247078&gclid=EAIaIQobChMI_r_ljY2D9wIV3nxvBB2H4A5UEAAYASAAEgLqPvD_BwE&gclsrc=aw.ds) once tabulated the list of vehicle weights versus overall gasoline mileage for several different sizes and types of cars:\n",
    "\n",
    "|Weight (lbs)|Mileage (mpg)|\n",
    "|---:|---:|\n",
    "|2775|33|\n",
    "|2495|27|\n",
    "|2405|29|\n",
    "|2545|28|\n",
    "|2270|34|\n",
    "|2560|24|\n",
    "|3050|23| \n",
    "|3710|24|\n",
    "|3085|23|\n",
    "|2940|21|\n",
    "|2395|26|\n",
    "|3325|20|\n",
    "|3200|21|\n",
    "|3450|19|\n",
    "|3515|21|\n",
    "|3495|19|\n",
    "|4010|19|\n",
    "|4205|17| \n",
    "|2900|24|\n",
    "|2555|28|\n",
    "|2790|21|\n",
    "|2190|34|\n",
    "\n",
    "Fit a linear data model to the data, plot the data and model.  Determine the equation of the data model and the corresponding RMSE and R$^2$ value.\n",
    "\n",
    "Based on your results, how well are the data modeled by a linear data model?  How might a better data model be obtained?"
   ]
  },
  {
   "cell_type": "code",
   "execution_count": null,
   "metadata": {},
   "outputs": [],
   "source": []
  }
 ],
 "metadata": {
  "kernelspec": {
   "display_name": "Python 3",
   "language": "python",
   "name": "python3"
  },
  "language_info": {
   "codemirror_mode": {
    "name": "ipython",
    "version": 3
   },
   "file_extension": ".py",
   "mimetype": "text/x-python",
   "name": "python",
   "nbconvert_exporter": "python",
   "pygments_lexer": "ipython3",
   "version": "3.8.10"
  }
 },
 "nbformat": 4,
 "nbformat_minor": 4
}
