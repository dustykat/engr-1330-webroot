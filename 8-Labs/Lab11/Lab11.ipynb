{
 "cells": [
  {
   "cell_type": "markdown",
   "metadata": {},
   "source": [
    "Download this page as a jupyter notebook at [Lab 11](http://54.243.252.9/engr-1330-webroot/8-Labs/Lab11/Lab11.ipynb)"
   ]
  },
  {
   "cell_type": "markdown",
   "metadata": {},
   "source": [
    "# <font color=darkred>Laboratory 11: Databases </font>\n",
    "\n",
    "**LAST NAME, FIRST NAME**\n",
    "\n",
    "**R00000000**\n",
    "\n",
    "ENGR 1330 Laboratory 11 - In Lab"
   ]
  },
  {
   "cell_type": "code",
   "execution_count": null,
   "metadata": {},
   "outputs": [],
   "source": [
    "# Preamble script block to identify host, user, and kernel\n",
    "import sys\n",
    "! hostname\n",
    "! whoami\n",
    "print(sys.executable)\n",
    "print(sys.version)\n",
    "print(sys.version_info)"
   ]
  },
  {
   "cell_type": "markdown",
   "metadata": {},
   "source": [
    "## <font color=purple>Pandas Cheat Sheet(s)</font>\n",
    "The Pandas library is a preferred tool for data scientists to perform data manipulation and analysis, next to matplotlib for data visualization and NumPy for scientific computing in Python. \n",
    "\n",
    "The fast, flexible, and expressive Pandas data structures are designed to make real-world data analysis significantly easier, but this might not be immediately the case for those who are just getting started with it. Exactly because there is so much functionality built into this package that the options are overwhelming.\n",
    "\n",
    "Hence summary sheets will be useful\n",
    "\n",
    "- A summary sheet: [https://pandas.pydata.org/Pandas_Cheat_Sheet.pdf](https://pandas.pydata.org/Pandas_Cheat_Sheet.pdf)\n",
    "\n",
    "- A different one: [http://datacamp-community-prod.s3.amazonaws.com/f04456d7-8e61-482f-9cc9-da6f7f25fc9b](http://datacamp-community-prod.s3.amazonaws.com/f04456d7-8e61-482f-9cc9-da6f7f25fc9b)"
   ]
  },
  {
   "cell_type": "markdown",
   "metadata": {},
   "source": [
    "# Pandas\n",
    "\n",
    "A data table is called a `DataFrame` in pandas (and other programming environments too).\n",
    "\n",
    "The figure below from https://pandas.pydata.org/docs/getting_started/index.html illustrates a dataframe model:\n",
    "\n",
    "![](01-table-dataframe.png) \n",
    "\n",
    "Each column and each row in a dataframe is called a series, the header row, and index column are special.\n",
    "\n",
    "To use pandas, we need to import the module, often pandas has numpy as a dependency so it also must be imported"
   ]
  },
  {
   "cell_type": "code",
   "execution_count": null,
   "metadata": {},
   "outputs": [],
   "source": [
    "import numpy \n",
    "import pandas "
   ]
  },
  {
   "cell_type": "markdown",
   "metadata": {},
   "source": [
    "# Dataframe-structure using primative python\n",
    "\n",
    "First lets construct a dataframe like object using python primatives.\n",
    "We will construct 3 lists, one for row names, one for column names, and one for the content."
   ]
  },
  {
   "cell_type": "code",
   "execution_count": null,
   "metadata": {},
   "outputs": [],
   "source": [
    "mytabular = numpy.random.randint(1,100,(5,4))\n",
    "myrowname = ['A','B','C','D','E']\n",
    "mycolname = ['W','X','Y','Z']\n",
    "mytable = [['' for jcol in range(len(mycolname)+1)] for irow in range(len(myrowname)+1)] #non-null destination matrix, note the implied loop construction"
   ]
  },
  {
   "cell_type": "markdown",
   "metadata": {},
   "source": [
    "The above builds a placeholder named `mytable` for the psuedo-dataframe.\n",
    "Next we populate the table, using a for loop to write the column names in the first row, row names in the first column, and the table fill for the rest of the table."
   ]
  },
  {
   "cell_type": "code",
   "execution_count": null,
   "metadata": {},
   "outputs": [],
   "source": [
    "for irow in range(1,len(myrowname)+1): # write the row names\n",
    "    mytable[irow][0]=myrowname[irow-1]\n",
    "for jcol in range(1,len(mycolname)+1): # write the column names\n",
    "    mytable[0][jcol]=mycolname[jcol-1]  \n",
    "for irow in range(1,len(myrowname)+1): # fill the table (note the nested loop)\n",
    "    for jcol in range(1,len(mycolname)+1):\n",
    "        mytable[irow][jcol]=mytabular[irow-1][jcol-1]"
   ]
  },
  {
   "cell_type": "markdown",
   "metadata": {},
   "source": [
    "Now lets print the table out by row and we see we have a very dataframe-like structure"
   ]
  },
  {
   "cell_type": "code",
   "execution_count": null,
   "metadata": {},
   "outputs": [],
   "source": [
    "for irow in range(0,len(myrowname)+1):\n",
    "    print(mytable[irow][0:len(mycolname)+1])"
   ]
  },
  {
   "cell_type": "markdown",
   "metadata": {},
   "source": [
    "We can also query by row "
   ]
  },
  {
   "cell_type": "code",
   "execution_count": null,
   "metadata": {},
   "outputs": [],
   "source": [
    "print(mytable[3][0:len(mycolname)+1])"
   ]
  },
  {
   "cell_type": "markdown",
   "metadata": {},
   "source": [
    "Or by column"
   ]
  },
  {
   "cell_type": "code",
   "execution_count": null,
   "metadata": {},
   "outputs": [],
   "source": [
    "for irow in range(0,len(myrowname)+1):  #cannot use implied loop in a column slice\n",
    "    print(mytable[irow][2])"
   ]
  },
  {
   "cell_type": "markdown",
   "metadata": {},
   "source": [
    "Or by row+column index; sort of looks like a spreadsheet syntax."
   ]
  },
  {
   "cell_type": "code",
   "execution_count": null,
   "metadata": {},
   "outputs": [],
   "source": [
    "print(' ',mytable[0][3])\n",
    "print(mytable[3][0],mytable[3][3])"
   ]
  },
  {
   "cell_type": "markdown",
   "metadata": {},
   "source": [
    "# Create a proper dataframe\n",
    "We will now do the same using pandas"
   ]
  },
  {
   "cell_type": "code",
   "execution_count": null,
   "metadata": {},
   "outputs": [],
   "source": [
    "df = pandas.DataFrame(numpy.random.randint(1,100,(5,4)), ['A','B','C','D','E'], ['W','X','Y','Z'])\n",
    "df"
   ]
  },
  {
   "cell_type": "markdown",
   "metadata": {},
   "source": [
    "We can also turn our table into a dataframe, notice how the constructor adds header row and index column"
   ]
  },
  {
   "cell_type": "code",
   "execution_count": null,
   "metadata": {},
   "outputs": [],
   "source": [
    "df1 = pandas.DataFrame(mytable)\n",
    "df1"
   ]
  },
  {
   "cell_type": "markdown",
   "metadata": {},
   "source": [
    "To get proper behavior, we can just reuse our original objects"
   ]
  },
  {
   "cell_type": "code",
   "execution_count": null,
   "metadata": {},
   "outputs": [],
   "source": [
    "df2 = pandas.DataFrame(mytabular,myrowname,mycolname)\n",
    "df2"
   ]
  },
  {
   "cell_type": "markdown",
   "metadata": {},
   "source": [
    "### Getting the shape of dataframes\n",
    "\n",
    "The shape method will return the row and column rank (count) of a dataframe.\n"
   ]
  },
  {
   "cell_type": "code",
   "execution_count": null,
   "metadata": {},
   "outputs": [],
   "source": [
    "df.shape"
   ]
  },
  {
   "cell_type": "code",
   "execution_count": null,
   "metadata": {},
   "outputs": [],
   "source": [
    "df1.shape"
   ]
  },
  {
   "cell_type": "code",
   "execution_count": null,
   "metadata": {},
   "outputs": [],
   "source": [
    "df2.shape"
   ]
  },
  {
   "cell_type": "markdown",
   "metadata": {},
   "source": [
    "### Appending new columns\n",
    "To append a column simply assign a value to a new column name to the dataframe"
   ]
  },
  {
   "cell_type": "code",
   "execution_count": null,
   "metadata": {},
   "outputs": [],
   "source": [
    "df['new']= 'NA'\n",
    "df"
   ]
  },
  {
   "cell_type": "markdown",
   "metadata": {},
   "source": [
    "## Appending new rows\n",
    "A bit trickier but we can create a copy of a row and concatenate it back into the dataframe."
   ]
  },
  {
   "cell_type": "code",
   "execution_count": null,
   "metadata": {},
   "outputs": [],
   "source": [
    "newrow = df.loc[['E']].rename(index={\"E\": \"X\"}) # create a single row, rename the index\n",
    "newtable = pandas.concat([df,newrow]) # concatenate the row to bottom of df - note the syntax"
   ]
  },
  {
   "cell_type": "code",
   "execution_count": null,
   "metadata": {},
   "outputs": [],
   "source": [
    "newtable"
   ]
  },
  {
   "cell_type": "markdown",
   "metadata": {},
   "source": [
    "### Removing Rows and Columns\n",
    "\n",
    "To remove a column is straightforward, we use the drop method"
   ]
  },
  {
   "cell_type": "code",
   "execution_count": null,
   "metadata": {},
   "outputs": [],
   "source": [
    "newtable.drop('new', axis=1, inplace = True)\n",
    "newtable"
   ]
  },
  {
   "cell_type": "markdown",
   "metadata": {},
   "source": [
    "To remove a row, you really got to want to, easiest is probablty to create a new dataframe with the row removed"
   ]
  },
  {
   "cell_type": "code",
   "execution_count": null,
   "metadata": {},
   "outputs": [],
   "source": [
    "newtable = newtable.loc[['A','B','D','E','X']] # select all rows except C\n",
    "newtable"
   ]
  },
  {
   "cell_type": "markdown",
   "metadata": {},
   "source": [
    "# Indexing\n",
    "We have already been indexing, but a few examples follow:"
   ]
  },
  {
   "cell_type": "code",
   "execution_count": null,
   "metadata": {},
   "outputs": [],
   "source": [
    "newtable['X'] #Selecing a single column"
   ]
  },
  {
   "cell_type": "code",
   "execution_count": null,
   "metadata": {},
   "outputs": [],
   "source": [
    "newtable[['X','W']] #Selecing a multiple columns"
   ]
  },
  {
   "cell_type": "code",
   "execution_count": null,
   "metadata": {},
   "outputs": [],
   "source": [
    "newtable.loc['E'] #Selecing rows based on label via loc[ ] indexer"
   ]
  },
  {
   "cell_type": "code",
   "execution_count": null,
   "metadata": {},
   "outputs": [],
   "source": [
    "newtable.loc[['E','X','B']] #Selecing multiple rows based on label via loc[ ] indexer"
   ]
  },
  {
   "cell_type": "code",
   "execution_count": null,
   "metadata": {},
   "outputs": [],
   "source": [
    "newtable.loc[['B','E','D'],['X','Y']] #Selecting elemens via both rows and columns via loc[ ] indexer"
   ]
  },
  {
   "cell_type": "markdown",
   "metadata": {},
   "source": [
    "# Conditional Selection"
   ]
  },
  {
   "cell_type": "code",
   "execution_count": null,
   "metadata": {},
   "outputs": [],
   "source": [
    "df = pandas.DataFrame({'col1':[1,2,3,4,5,6,7,8],\n",
    "                   'col2':[444,555,666,444,666,111,222,222],\n",
    "                   'col3':['orange','apple','grape','mango','jackfruit','watermelon','banana','peach']})\n",
    "df"
   ]
  },
  {
   "cell_type": "code",
   "execution_count": null,
   "metadata": {},
   "outputs": [],
   "source": [
    "#What fruit corresponds to the number 555 in ‘col2’?\n",
    "\n",
    "df[df['col2']==555]['col3']"
   ]
  },
  {
   "cell_type": "code",
   "execution_count": null,
   "metadata": {},
   "outputs": [],
   "source": [
    "#What fruit corresponds to the minimum number in ‘col2’?\n",
    "\n",
    "df[df['col2']==df['col2'].min()]['col3']"
   ]
  },
  {
   "cell_type": "markdown",
   "metadata": {},
   "source": [
    "# Descriptor Functions"
   ]
  },
  {
   "cell_type": "code",
   "execution_count": null,
   "metadata": {},
   "outputs": [],
   "source": [
    "#Creating a dataframe from a dictionary\n",
    "\n",
    "df = pandas.DataFrame({'col1':[1,2,3,4,5,6,7,8],\n",
    "                   'col2':[444,555,666,444,666,111,222,222],\n",
    "                   'col3':['orange','apple','grape','mango','jackfruit','watermelon','banana','peach']})\n",
    "df"
   ]
  },
  {
   "cell_type": "markdown",
   "metadata": {},
   "source": [
    "### `head` method\n",
    "\n",
    "Returns the first few rows, useful to infer structure"
   ]
  },
  {
   "cell_type": "code",
   "execution_count": null,
   "metadata": {},
   "outputs": [],
   "source": [
    "#Returns only the first five rows\n",
    "\n",
    "df.head()"
   ]
  },
  {
   "cell_type": "markdown",
   "metadata": {},
   "source": [
    "### `info` method\n",
    "\n",
    "Returns the data model (data column count, names, data types)"
   ]
  },
  {
   "cell_type": "code",
   "execution_count": null,
   "metadata": {},
   "outputs": [],
   "source": [
    "#Info about the dataframe\n",
    "\n",
    "df.info()"
   ]
  },
  {
   "cell_type": "markdown",
   "metadata": {},
   "source": [
    "### `describe` method\n",
    "\n",
    "Returns summary statistics of each numeric column.  \n",
    "Also returns the minimum and maximum value in each column, and the IQR (Interquartile Range).  \n",
    "Again useful to understand structure of the columns."
   ]
  },
  {
   "cell_type": "code",
   "execution_count": null,
   "metadata": {},
   "outputs": [],
   "source": [
    "#Statistics of the dataframe\n",
    "\n",
    "df.describe()"
   ]
  },
  {
   "cell_type": "markdown",
   "metadata": {},
   "source": [
    "### Counting and Sum methods\n",
    "\n",
    "There are also methods for counts and sums by specific columns"
   ]
  },
  {
   "cell_type": "code",
   "execution_count": null,
   "metadata": {},
   "outputs": [],
   "source": [
    "df['col2'].sum() #Sum of a specified column"
   ]
  },
  {
   "cell_type": "markdown",
   "metadata": {},
   "source": [
    "The `unique` method returns a list of unique values (filters out duplicates in the list, underlying dataframe is preserved)"
   ]
  },
  {
   "cell_type": "code",
   "execution_count": null,
   "metadata": {},
   "outputs": [],
   "source": [
    "df['col2'].unique() #Returns the list of unique values along the indexed column "
   ]
  },
  {
   "cell_type": "markdown",
   "metadata": {},
   "source": [
    "The `nunique` method returns a count of unique values"
   ]
  },
  {
   "cell_type": "code",
   "execution_count": null,
   "metadata": {},
   "outputs": [],
   "source": [
    "df['col2'].nunique() #Returns the total number of unique values along the indexed column "
   ]
  },
  {
   "cell_type": "markdown",
   "metadata": {},
   "source": [
    "The `value_counts()` method returns the count of each unique value (kind of like a histogram, but each value is the bin)"
   ]
  },
  {
   "cell_type": "code",
   "execution_count": null,
   "metadata": {},
   "outputs": [],
   "source": [
    "df['col2'].value_counts()  #Returns the number of occurences of each unique value"
   ]
  },
  {
   "cell_type": "markdown",
   "metadata": {},
   "source": [
    "## Using functions in dataframes - symbolic apply\n",
    "\n",
    "The power of pandas is an ability to apply a function to each element of a dataframe series (or a whole frame) by a technique called symbolic (or synthetic programming) application of the function.\n",
    "\n",
    "Its pretty complicated but quite handy, best shown by an example"
   ]
  },
  {
   "cell_type": "code",
   "execution_count": null,
   "metadata": {},
   "outputs": [],
   "source": [
    "def times2(x):  # A prototype function to scalar multiply an object x by 2\n",
    "    return(x*2)\n",
    "\n",
    "print(df)\n",
    "print('Apply the times2 function to col2')\n",
    "df['col2'].apply(times2) #Symbolic apply the function to each element of column col2, result is another dataframe"
   ]
  },
  {
   "cell_type": "markdown",
   "metadata": {},
   "source": [
    "## Sorts "
   ]
  },
  {
   "cell_type": "code",
   "execution_count": null,
   "metadata": {},
   "outputs": [],
   "source": [
    "df.sort_values('col2', ascending = True) #Sorting based on columns "
   ]
  },
  {
   "cell_type": "markdown",
   "metadata": {},
   "source": [
    "## Exercise 1\n",
    "Create a prototype function to compute the cube root of a numeric object (literally two lines to define the function), recall exponentation is available in primative python.\n",
    "\n",
    "Apply your function to column **'X'** of dataframe **`newtable`** created above"
   ]
  },
  {
   "cell_type": "code",
   "execution_count": null,
   "metadata": {},
   "outputs": [],
   "source": [
    "# Define your function here:\n",
    "\n",
    "\n",
    "\n",
    "# Symbolic apply here:\n",
    "\n",
    "\n"
   ]
  },
  {
   "cell_type": "markdown",
   "metadata": {},
   "source": [
    "# Aggregating (Grouping Values) dataframe contents\n"
   ]
  },
  {
   "cell_type": "code",
   "execution_count": null,
   "metadata": {},
   "outputs": [],
   "source": [
    "#Creating a dataframe from a dictionary\n",
    "\n",
    "data = {\n",
    "    'key' : ['A', 'B', 'C', 'A', 'B', 'C'],\n",
    "    'data1' : [1, 2, 3, 4, 5, 6],\n",
    "    'data2' : [10, 11, 12, 13, 14, 15],\n",
    "    'data3' : [20, 21, 22, 13, 24, 25]\n",
    "}\n",
    "\n",
    "df1 = pandas.DataFrame(data)\n",
    "df1"
   ]
  },
  {
   "cell_type": "code",
   "execution_count": null,
   "metadata": {},
   "outputs": [],
   "source": [
    "# Grouping and summing values in all the columns based on the column 'key'\n",
    "\n",
    "df1.groupby('key').sum()"
   ]
  },
  {
   "cell_type": "code",
   "execution_count": null,
   "metadata": {},
   "outputs": [],
   "source": [
    "# Grouping and summing values in the selected columns based on the column 'key'\n",
    "\n",
    "df1.groupby('key')[['data1', 'data2']].sum()"
   ]
  },
  {
   "cell_type": "markdown",
   "metadata": {},
   "source": [
    "# Filtering out missing values"
   ]
  },
  {
   "cell_type": "code",
   "execution_count": null,
   "metadata": {},
   "outputs": [],
   "source": [
    "#Creating a dataframe from a dictionary\n",
    "\n",
    "df = pandas.DataFrame({'col1':[1,2,3,4,None,6,7,None],\n",
    "                   'col2':[444,555,None,444,666,111,None,222],\n",
    "                   'col3':['orange','apple','grape','mango','jackfruit','watermelon','banana','peach']})\n",
    "df"
   ]
  },
  {
   "cell_type": "markdown",
   "metadata": {},
   "source": [
    "Below we drop any row that contains a `NaN` code."
   ]
  },
  {
   "cell_type": "code",
   "execution_count": null,
   "metadata": {},
   "outputs": [],
   "source": [
    "df_dropped = df.dropna()\n",
    "df_dropped"
   ]
  },
  {
   "cell_type": "markdown",
   "metadata": {},
   "source": [
    "Below we replace `NaN` codes with some value, in this case 0"
   ]
  },
  {
   "cell_type": "code",
   "execution_count": null,
   "metadata": {},
   "outputs": [],
   "source": [
    "df_filled1 = df.fillna(0)\n",
    "df_filled1"
   ]
  },
  {
   "cell_type": "markdown",
   "metadata": {},
   "source": [
    "Below we replace `NaN` codes with some value, in this case the mean value of of the column in which the missing value code resides."
   ]
  },
  {
   "cell_type": "code",
   "execution_count": null,
   "metadata": {},
   "outputs": [],
   "source": [
    "df_filled2 = df.fillna(df.mean())\n",
    "df_filled2"
   ]
  },
  {
   "cell_type": "markdown",
   "metadata": {},
   "source": [
    "## Exercise 2\n",
    "Replace the **'NaN'** codes with the string 'missing' in dataframe **'df'**"
   ]
  },
  {
   "cell_type": "code",
   "execution_count": null,
   "metadata": {},
   "outputs": [],
   "source": [
    "# Replace the NaN with the string 'missing' here:\n",
    "\n"
   ]
  },
  {
   "cell_type": "code",
   "execution_count": null,
   "metadata": {},
   "outputs": [],
   "source": []
  }
 ],
 "metadata": {
  "kernelspec": {
   "display_name": "Python 3",
   "language": "python",
   "name": "python3"
  },
  "language_info": {
   "codemirror_mode": {
    "name": "ipython",
    "version": 3
   },
   "file_extension": ".py",
   "mimetype": "text/x-python",
   "name": "python",
   "nbconvert_exporter": "python",
   "pygments_lexer": "ipython3",
   "version": "3.8.10"
  }
 },
 "nbformat": 4,
 "nbformat_minor": 4
}
