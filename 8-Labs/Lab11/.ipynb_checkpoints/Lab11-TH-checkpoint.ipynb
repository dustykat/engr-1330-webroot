{
 "cells": [
  {
   "cell_type": "markdown",
   "metadata": {},
   "source": [
    "Download this page as a jupyter notebook at [Lab 11-TH](http://54.243.252.9/engr-1330-webroot/8-Labs/Lab11/Lab11-TH.ipynb)"
   ]
  },
  {
   "cell_type": "markdown",
   "metadata": {},
   "source": [
    "# <font color=darkred>ES-11: Databases </font>\n",
    "\n",
    "**LAST NAME, FIRST NAME**\n",
    "\n",
    "**R00000000**\n",
    "\n",
    "ENGR 1330 Laboratory 11 - Homework"
   ]
  },
  {
   "cell_type": "code",
   "execution_count": null,
   "metadata": {},
   "outputs": [],
   "source": [
    "# Preamble script block to identify host, user, and kernel\n",
    "import sys\n",
    "! hostname\n",
    "! whoami\n",
    "print(sys.executable)\n",
    "print(sys.version)\n",
    "print(sys.version_info)"
   ]
  },
  {
   "cell_type": "markdown",
   "metadata": {},
   "source": [
    "## <font color=purple>Pandas Cheat Sheet(s)</font>\n",
    "The Pandas library is a preferred tool for data scientists to perform data manipulation and analysis, next to matplotlib for data visualization and NumPy for scientific computing in Python. \n",
    "\n",
    "The fast, flexible, and expressive Pandas data structures are designed to make real-world data analysis significantly easier, but this might not be immediately the case for those who are just getting started with it. Exactly because there is so much functionality built into this package that the options are overwhelming.\n",
    "\n",
    "Hence summary sheets will be useful\n",
    "\n",
    "- A summary sheet: [https://pandas.pydata.org/Pandas_Cheat_Sheet.pdf](https://pandas.pydata.org/Pandas_Cheat_Sheet.pdf)\n",
    "\n",
    "- A different one: [http://datacamp-community-prod.s3.amazonaws.com/f04456d7-8e61-482f-9cc9-da6f7f25fc9b](http://datacamp-community-prod.s3.amazonaws.com/f04456d7-8e61-482f-9cc9-da6f7f25fc9b)"
   ]
  },
  {
   "cell_type": "code",
   "execution_count": null,
   "metadata": {},
   "outputs": [],
   "source": [
    "import pandas\n",
    "import numpy"
   ]
  },
  {
   "cell_type": "markdown",
   "metadata": {},
   "source": [
    "# Exercise 1: Reading a File into a Dataframe\n",
    "\n",
    "Pandas has methods to read common file types, such as `csv`,`xlsx`, and `json`.  Ordinary text files are also quite manageable.  (We will study these more in Lesson 11)\n",
    "\n",
    "Here are the steps to follow:\n",
    "\n",
    "1. Download the file [CSV_ReadingFile.csv](http://54.243.252.9/engr-1330-webroot/8-Labs/Lab11/CSV_ReadingFile.csv) to your local computer\n",
    "2. Run the cell below - it connects to the file, reads it into the object `readfilecsv'\n",
    "3. Print the contents of the object `readfilecsv'"
   ]
  },
  {
   "cell_type": "code",
   "execution_count": null,
   "metadata": {},
   "outputs": [],
   "source": [
    "# download the file (do this before running the script)\n",
    "readfilecsv = pandas.read_csv('CSV_ReadingFile.csv')  # Reading a .csv file\n",
    "# print the contents of readfilecsv "
   ]
  },
  {
   "cell_type": "code",
   "execution_count": null,
   "metadata": {},
   "outputs": [],
   "source": [
    "# How many rows are in the data table?  more code here\n",
    "# How many columns?"
   ]
  },
  {
   "cell_type": "markdown",
   "metadata": {},
   "source": [
    "## Exercise 2\n",
    "Now that you have downloaded and read a file, lets do it again, but with feeling! \n",
    "\n",
    "Download the file named [concreteData.xls](http://54.243.252.9/engr-1330-webroot/8-Labs/Lab11/concreteData.xls) to your local computer.\n",
    "\n",
    "> The file is an Excel 97-2004 Workbook; you probably cannot inspect it within Anaconda (but maybe yes).  File size is about 130K, we are going to rely on Pandas to work here!\n",
    "\n",
    "Read the file into a dataframe object named **'concreteData'** the method name is\n",
    "\n",
    "> - object_name = pandas.read_excel(filename) \n",
    "> - It should work as above if you replace the correct placeholders\n",
    "\n",
    "Then perform the following activities.\n",
    "\n",
    "1. Read the file into an object"
   ]
  },
  {
   "cell_type": "code",
   "execution_count": null,
   "metadata": {},
   "outputs": [],
   "source": [
    "# code here looks like object_name = pandas.read_excel(filename)  "
   ]
  },
  {
   "cell_type": "markdown",
   "metadata": {},
   "source": [
    "1. Examine the first few rows of the dataframe and describe the structure (using words) in a markdown cell just after you run the descriptor method"
   ]
  },
  {
   "cell_type": "code",
   "execution_count": null,
   "metadata": {},
   "outputs": [],
   "source": [
    "# code here looks like object_name.head()"
   ]
  },
  {
   "cell_type": "markdown",
   "metadata": {},
   "source": [
    "2. Simplify the column names to \"Cement\", \"BlastFurnaceSlag\", \"FlyAsh\", \"Water\", \"Superplasticizer\", \"CoarseAggregate\", \"FineAggregate\", \"Age\", \"CC_Strength\""
   ]
  },
  {
   "cell_type": "code",
   "execution_count": null,
   "metadata": {},
   "outputs": [],
   "source": [
    "# code here"
   ]
  },
  {
   "cell_type": "markdown",
   "metadata": {},
   "source": [
    "3. Determine and report summary statistics for each of the columns."
   ]
  },
  {
   "cell_type": "code",
   "execution_count": null,
   "metadata": {},
   "outputs": [],
   "source": [
    "# code here"
   ]
  },
  {
   "cell_type": "markdown",
   "metadata": {},
   "source": [
    "4. Then run the script below into your notebook (after the summary statistics), describe the output (using words) in a markdown cell.\n",
    "   "
   ]
  },
  {
   "cell_type": "code",
   "execution_count": null,
   "metadata": {},
   "outputs": [],
   "source": [
    "# After concreteData exists, and is non-empty; how do you know?\n",
    "# then run the code block below -- It takes awhile to render output, give it a minute:\n",
    "import matplotlib.pyplot  \n",
    "import seaborn \n",
    "%matplotlib inline\n",
    "seaborn.pairplot(concreteData)\n",
    "matplotlib.pyplot.show()"
   ]
  },
  {
   "cell_type": "code",
   "execution_count": null,
   "metadata": {},
   "outputs": [],
   "source": [
    "# specify/summarize the output here!"
   ]
  }
 ],
 "metadata": {
  "kernelspec": {
   "display_name": "Python 3",
   "language": "python",
   "name": "python3"
  },
  "language_info": {
   "codemirror_mode": {
    "name": "ipython",
    "version": 3
   },
   "file_extension": ".py",
   "mimetype": "text/x-python",
   "name": "python",
   "nbconvert_exporter": "python",
   "pygments_lexer": "ipython3",
   "version": "3.8.10"
  }
 },
 "nbformat": 4,
 "nbformat_minor": 4
}
