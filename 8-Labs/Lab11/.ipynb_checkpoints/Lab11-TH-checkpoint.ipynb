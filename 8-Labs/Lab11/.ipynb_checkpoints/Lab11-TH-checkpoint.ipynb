{
 "cells": [
  {
   "cell_type": "markdown",
   "metadata": {},
   "source": [
    "**Download** (right-click, save target as ...) this page as a jupyterlab notebook from: [Lab11-TH](http://54.243.252.9/engr-1330-webroot/8-Labs/Lab11/Lab11-TH.ipynb)\n",
    "\n",
    "___"
   ]
  },
  {
   "cell_type": "markdown",
   "metadata": {},
   "source": [
    "Laboratory 11: Dataframes (Continued)\n",
    "\n",
    "LAST NAME, FIRST NAME\n",
    "\n",
    "R00000000\n",
    "\n",
    "ENGR 1330 Laboratory 11 - Homework\n",
    "\n",
    "# Preamble script block to identify host, user, and kernel"
   ]
  },
  {
   "cell_type": "markdown",
   "metadata": {},
   "source": [
    "---\n",
    "\n",
    "## Exercise 1: \n",
    "Follow the steps below:\n",
    "1. STEP 0: install necessary libraries (numpy and pandas)\n",
    "2. STEP 1: There are 8 digits in your R#. Define a 2x4 array with these 8 digits, name it \"Rarray\", and print it"
   ]
  },
  {
   "cell_type": "code",
   "execution_count": 1,
   "metadata": {},
   "outputs": [],
   "source": [
    "# step 0 and step 1 go here!\n"
   ]
  },
  {
   "cell_type": "markdown",
   "metadata": {},
   "source": [
    "3. STEP 2: Find the maximum value of the \"Rarray\" and its position"
   ]
  },
  {
   "cell_type": "code",
   "execution_count": 2,
   "metadata": {},
   "outputs": [],
   "source": [
    "# step 2 goes here!\n"
   ]
  },
  {
   "cell_type": "markdown",
   "metadata": {},
   "source": [
    "4. STEP 3: Sort the \"Rarray\" along the rows, store it in a new array named \"Rarraysort\", and print the new array out"
   ]
  },
  {
   "cell_type": "code",
   "execution_count": 3,
   "metadata": {},
   "outputs": [],
   "source": [
    "# step 3 goes here!\n"
   ]
  },
  {
   "cell_type": "markdown",
   "metadata": {},
   "source": [
    "5. STEP 4: Define and print a 4x4 array that has the \"Rarray\" as its two first rows, and \"Rarraysort\" as its next rows. Name this new array \"DoubleRarray\""
   ]
  },
  {
   "cell_type": "code",
   "execution_count": 4,
   "metadata": {},
   "outputs": [],
   "source": [
    "# step 4 goes here!\n",
    "\n"
   ]
  },
  {
   "cell_type": "markdown",
   "metadata": {},
   "source": [
    "6. STEP 5: Slice and print a 4x3 array from the \"DoubleRarray\" that contains the last three columns of it. Name this new array \"SliceRarray\"."
   ]
  },
  {
   "cell_type": "code",
   "execution_count": 5,
   "metadata": {},
   "outputs": [],
   "source": [
    "# step 5 goes here!\n"
   ]
  },
  {
   "cell_type": "markdown",
   "metadata": {},
   "source": [
    "7. STEP 6: Define the \"SliceRarray\" as a panda dataframe:\n",
    "    - name it \"Rdataframe\",\n",
    "    - name the rows as \"Row A\",\"Row B\",\"Row C\", and \"Row D\"\n",
    "    - name the columns as \"Column 1\", \"Column 2\", and \"Column 3\""
   ]
  },
  {
   "cell_type": "code",
   "execution_count": 6,
   "metadata": {},
   "outputs": [],
   "source": [
    "# step 6 goes here!"
   ]
  },
  {
   "cell_type": "markdown",
   "metadata": {},
   "source": [
    "8. STEP 7: Print  the first few rows of the \"Rdataframe\"."
   ]
  },
  {
   "cell_type": "code",
   "execution_count": 7,
   "metadata": {},
   "outputs": [],
   "source": [
    "# step 7 goes here!"
   ]
  },
  {
   "cell_type": "markdown",
   "metadata": {},
   "source": [
    "9. STEP 8: Create a new dataframe object (\"R2dataframe\") by adding a column to the \"Rdataframe\", name it \"Column X\" and fill it with \"None\" values. Then, use the appropriate descriptor function and print the data model (data column count, names, data types) of the \"R2dataframe\"\n"
   ]
  },
  {
   "cell_type": "code",
   "execution_count": 8,
   "metadata": {},
   "outputs": [],
   "source": [
    "# step 8 goes here!"
   ]
  },
  {
   "cell_type": "markdown",
   "metadata": {},
   "source": [
    "10. STEP 9: Replace the **'None'** in the \"R2dataframe\" with 0. Then, print the summary statistics of each numeric column in the data frame.\n"
   ]
  },
  {
   "cell_type": "code",
   "execution_count": 9,
   "metadata": {},
   "outputs": [],
   "source": [
    "# step 9 goes here!"
   ]
  },
  {
   "cell_type": "markdown",
   "metadata": {},
   "source": [
    "11. STEP 10: Define a function based on the equation below: \n",
    "\n",
    "$$ y = x^2 - 5x +7 $$\n",
    "\n",
    "apply the function to the entire \"R2dataframe\", store the results in a new dataframe (\"R3dataframe\"), and print the results and the summary statistics again."
   ]
  },
  {
   "cell_type": "code",
   "execution_count": 10,
   "metadata": {},
   "outputs": [],
   "source": [
    "# step 10 goes here!"
   ]
  },
  {
   "cell_type": "markdown",
   "metadata": {},
   "source": [
    "12. STEP 11: Print the number of occurrences of each unique value in \"Column 3\"\n"
   ]
  },
  {
   "cell_type": "code",
   "execution_count": 11,
   "metadata": {},
   "outputs": [],
   "source": [
    "# step 11 goes here!"
   ]
  },
  {
   "cell_type": "markdown",
   "metadata": {},
   "source": [
    "13. STEP 12: Sort the data frame with respect to \"Column 1\" with a descending order and print it\n",
    "\n"
   ]
  },
  {
   "cell_type": "code",
   "execution_count": 12,
   "metadata": {},
   "outputs": [],
   "source": [
    "# step 12 goes here!"
   ]
  },
  {
   "cell_type": "markdown",
   "metadata": {},
   "source": [
    "14. STEP 13: Write the final format of the \"R3dataframe\" on a CSV file, named \"Rfile.csv\"\n"
   ]
  },
  {
   "cell_type": "code",
   "execution_count": 13,
   "metadata": {},
   "outputs": [],
   "source": [
    "# step 13 goes here!"
   ]
  },
  {
   "cell_type": "markdown",
   "metadata": {},
   "source": [
    "15. STEP14: Read the \"Rfile.csv\" and print its content.<br>\n",
    "** __Make sure to attach the \"Rfile.csv\" file to your submission.__"
   ]
  },
  {
   "cell_type": "code",
   "execution_count": 18,
   "metadata": {},
   "outputs": [],
   "source": [
    "# step 14 goes here!"
   ]
  },
  {
   "cell_type": "markdown",
   "metadata": {},
   "source": [
    "---\n",
    "\n",
    "## Exercise 2: \n",
    "\n",
    "Precipitation records for Lubbock from 1895 to 2019 for the month of October is located in the file http://54.243.252.9/engr-1330-webroot/4-Databases/Lubbockdata.csv. Using this file:\n",
    "\n",
    "1. Download the file and read it into a dataframe\n",
    "2. Describe the entire data set. [Script]\n",
    "3. Produce a plot of year vs precipitation. [Script + Plot 1: data==blue]\n",
    "4. Split the data into two parts at the year 1960. [Script]\n",
    "5. Describe the two data series you have created. [Script]\n",
    "6. Plot the two series on the same plot. [Script + Plot 2: data1==blue, data2==green]"
   ]
  },
  {
   "cell_type": "code",
   "execution_count": null,
   "metadata": {},
   "outputs": [],
   "source": [
    "#Download the file and read it into a dataframe [Script]"
   ]
  },
  {
   "cell_type": "code",
   "execution_count": null,
   "metadata": {},
   "outputs": [],
   "source": [
    "#Describe the entire data set. [Script]"
   ]
  },
  {
   "cell_type": "code",
   "execution_count": null,
   "metadata": {},
   "outputs": [],
   "source": [
    "#Produce a plot of year vs precipitation. [Script + Plot 1: data==blue]"
   ]
  },
  {
   "cell_type": "code",
   "execution_count": null,
   "metadata": {},
   "outputs": [],
   "source": [
    "#Split the data into two parts at the year 1960. [Script]"
   ]
  },
  {
   "cell_type": "code",
   "execution_count": null,
   "metadata": {},
   "outputs": [],
   "source": [
    "#Describe the two data series you have created. [Script]"
   ]
  },
  {
   "cell_type": "code",
   "execution_count": null,
   "metadata": {},
   "outputs": [],
   "source": [
    "#Plot the two series on the same plot. [Script + Plot 2: data1==blue, data2==green]"
   ]
  }
 ],
 "metadata": {
  "kernelspec": {
   "display_name": "Python 3",
   "language": "python",
   "name": "python3"
  },
  "language_info": {
   "codemirror_mode": {
    "name": "ipython",
    "version": 3
   },
   "file_extension": ".py",
   "mimetype": "text/x-python",
   "name": "python",
   "nbconvert_exporter": "python",
   "pygments_lexer": "ipython3",
   "version": "3.8.10"
  }
 },
 "nbformat": 4,
 "nbformat_minor": 4
}
