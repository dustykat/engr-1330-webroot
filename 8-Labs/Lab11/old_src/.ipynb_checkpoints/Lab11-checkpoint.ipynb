{
 "cells": [
  {
   "cell_type": "markdown",
   "metadata": {
    "jupyter": {
     "source_hidden": true
    }
   },
   "source": [
    "**Download** (right-click, save target as ...) this page as a jupyterlab notebook from: [Lab11](http://54.243.252.9/engr-1330-webroot/8-Labs/Lab11/Lab11.ipynb)\n",
    "\n",
    "___"
   ]
  },
  {
   "cell_type": "markdown",
   "metadata": {},
   "source": [
    "Laboratory 11: Dataframes (Continued)\n",
    "\n",
    "LAST NAME, FIRST NAME\n",
    "\n",
    "R00000000\n",
    "\n",
    "ENGR 1330 Laboratory 11 - In-Lab\n",
    "\n",
    "# Preamble script block to identify host, user, and kernel"
   ]
  },
  {
   "cell_type": "code",
   "execution_count": null,
   "metadata": {},
   "outputs": [],
   "source": [
    "import sys\n",
    "! hostname\n",
    "! whoami\n",
    "print(sys.executable)\n",
    "print(sys.version)\n",
    "print(sys.version_info)"
   ]
  },
  {
   "cell_type": "markdown",
   "metadata": {},
   "source": [
    "___\n",
    "### Exercise 1: Population Lines\n",
    "\n",
    "Use pandas to read a dataframe from the file [http://54.243.252.9/engr-1330-webroot/4-Databases/census_18.csv](http://54.243.252.9/engr-1330-webroot/4-Databases/census_18.csv).  \n",
    "Then produce a line plot of the counts by age for the 2010 census, x-axis will be the series `age`, y-axis will be the census values for `2010`."
   ]
  },
  {
   "cell_type": "code",
   "execution_count": null,
   "metadata": {},
   "outputs": [],
   "source": [
    "# get the file (using requests, or just download to your computer by hand)\n",
    "import requests # Module to process http/https requests\n",
    "#\n",
    "remote_url=\"http://54.243.252.9/engr-1330-webroot/4-Databases/census_18.csv\"  # set the url\n",
    "rget = requests.get(remote_url, allow_redirects=True)  # get the remote resource, follow imbedded links\n",
    "#\n",
    "junk = open('census_18.csv','wb').write(rget.content) # extract from the remote the contents, assign to a local file same name"
   ]
  },
  {
   "cell_type": "code",
   "execution_count": null,
   "metadata": {},
   "outputs": [],
   "source": [
    "# read the file into a dataframe\n",
    "import pandas as pd\n",
    "df = pd.read_csv('census_18.csv')\n",
    "df.head() # Examine dataframe layout"
   ]
  },
  {
   "cell_type": "code",
   "execution_count": null,
   "metadata": {},
   "outputs": [],
   "source": [
    "# plotting calls here\n",
    "df.plot.line(x=\"\", y=\"\", label=\"\", c=\"\")# Make a plot fill in the parameters"
   ]
  },
  {
   "cell_type": "markdown",
   "metadata": {},
   "source": [
    "---\n",
    "\n",
    "## Exercise 2: \n",
    "Using your dataframe from above, plot both the 2010 and 2014 census values by age. Plot the 2010 distribution in blue and the 2014 distribution in red."
   ]
  },
  {
   "cell_type": "code",
   "execution_count": null,
   "metadata": {},
   "outputs": [],
   "source": [
    "ax = df.plot.line(x=\"\", y=\"\", label=\"\", c=\"blue\") # fill in the parameters\n",
    "df.plot.line(x=\"\", y=\"\", label=\"\", c=\"red\", ax=ax)"
   ]
  },
  {
   "cell_type": "markdown",
   "metadata": {},
   "source": [
    "## Exercise 3. \n",
    "\n",
    "1. What is population for age = 9 for the 2010 census?\n",
    "2. What is population for age = 9 for the 2014 census?\n",
    "3. Is the portion of population over 9 years old increasing? decreasing? staying the same?"
   ]
  },
  {
   "cell_type": "code",
   "execution_count": null,
   "metadata": {},
   "outputs": [],
   "source": [
    "# use pandas/numpy functions to answer questions\n"
   ]
  }
 ],
 "metadata": {
  "kernelspec": {
   "display_name": "Python 3",
   "language": "python",
   "name": "python3"
  },
  "language_info": {
   "codemirror_mode": {
    "name": "ipython",
    "version": 3
   },
   "file_extension": ".py",
   "mimetype": "text/x-python",
   "name": "python",
   "nbconvert_exporter": "python",
   "pygments_lexer": "ipython3",
   "version": "3.8.10"
  }
 },
 "nbformat": 4,
 "nbformat_minor": 4
}
