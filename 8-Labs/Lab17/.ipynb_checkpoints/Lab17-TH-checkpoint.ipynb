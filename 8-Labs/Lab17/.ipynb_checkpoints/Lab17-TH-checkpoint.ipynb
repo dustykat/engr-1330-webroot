{
 "cells": [
  {
   "cell_type": "markdown",
   "metadata": {},
   "source": [
    "**Download** (right-click, save target as ...) this page as a jupyterlab notebook from: [Lab17-TH](http://54.243.252.9/engr-1330-webroot/8-Labs/Lab17/Lab17-TH.ipynb)\n",
    "\n",
    "___"
   ]
  },
  {
   "cell_type": "markdown",
   "metadata": {},
   "source": [
    "# <font color=darkgreen>Exercise Set 17: Descriptive Statistics </font>\n",
    "\n",
    "LAST NAME, FIRST NAME\n",
    "\n",
    "R00000000\n",
    "\n",
    "ENGR 1330 ES-17 - Homework\n",
    "\n",
    "<hr>\n",
    "\n",
    "Exercise 0:  Profile your computer\n"
   ]
  },
  {
   "cell_type": "code",
   "execution_count": 1,
   "metadata": {},
   "outputs": [
    {
     "name": "stdout",
     "output_type": "stream",
     "text": [
      "atomickitty\n",
      "sensei\n",
      "/opt/jupyterhub/bin/python3\n",
      "3.8.10 (default, Nov 26 2021, 20:14:08) \n",
      "[GCC 9.3.0]\n",
      "sys.version_info(major=3, minor=8, micro=10, releaselevel='final', serial=0)\n"
     ]
    }
   ],
   "source": [
    "# Preamble script block to identify host, user, and kernel\n",
    "import sys\n",
    "! hostname\n",
    "! whoami\n",
    "print(sys.executable)\n",
    "print(sys.version)\n",
    "print(sys.version_info)"
   ]
  },
  {
   "cell_type": "code",
   "execution_count": 5,
   "metadata": {},
   "outputs": [],
   "source": [
    "# Let's import the necessary libraries:\n",
    "import numpy as np\n",
    "import pandas as pd\n",
    "import statistics\n",
    "import scipy.stats\n",
    "import matplotlib.pyplot as plt "
   ]
  },
  {
   "cell_type": "markdown",
   "metadata": {},
   "source": [
    "<hr>\n",
    "\n",
    "### Exercise1: \n",
    "\n",
    "1. Read the \"Lubbock_Oct_T&P.csv\" file as a dataframe and check its first few rows.<br>\n",
    "2. Use descriptive functions of the Pandas library and explain the format of the dataframe<br>\n",
    "3. Compute the arithmetic, harmonic, and geometric mean of 'temperature'.<br>\n",
    "4. Find the median of 'precipitation' and 'temperature'.<br>\n",
    "5. Report whether set of 'temperature' has one mode, two modes, or multiple modes.<br>\n",
    "6. Find the range and IQR of 'precipitation'.<br>\n",
    "7. Find the 10th,40th, and 70th percentile of 'temperature'.<br>\n",
    "8. Provide a 5-number summary of 'precipitation'. Plot a box plot without outliers. Interpret it in your own words<br>\n",
    "9. Find the variance and standard deviation of 'precipitation'.<br>\n",
    "10. Find the skewness and kurtosis 'precipitation'.<br>"
   ]
  },
  {
   "cell_type": "code",
   "execution_count": 6,
   "metadata": {},
   "outputs": [],
   "source": [
    "######### CODE TO AUTOMATICALLY DOWNLOAD THE DATABASE ################\n",
    "#! pip install requests #install packages into local environment\n",
    "import requests # import needed modules to interact with the internet\n",
    "# make the connection to the remote file (actually its implementing \"bash curl -O http://fqdn/path ...\")\n",
    "remote_url = 'http://54.243.252.9/engr-1330-webroot/4-Databases/Lubbock_Oct_T&P.csv' # a csv file\n",
    "response = requests.get(remote_url) # Gets the file contents puts into an object\n",
    "output = open('Lubbock_Oct_T&P.csv', 'wb') # Prepare a destination, local\n",
    "output.write(response.content) # write contents of object to named local file\n",
    "output.close() # close the connection"
   ]
  },
  {
   "cell_type": "markdown",
   "metadata": {},
   "source": [
    "**If you get an error, or an empty file, then download using your browser and mouse.**"
   ]
  },
  {
   "cell_type": "code",
   "execution_count": 7,
   "metadata": {},
   "outputs": [],
   "source": [
    "#code here\n",
    "# read the data into a dataframe\n",
    "# info about the dataframe\n",
    "# descriptive statistics for temperature\n",
    "# median of precipitation and temperature\n",
    "# how many modes temperature\n",
    "# IQR precipitation\n",
    "# Selected quantiles for temperature\n",
    "# 5-number summary precipitation\n",
    "# Boxplot\n",
    "# Variance and standard deviation of 'precipitation'\n",
    "# Skewness and kurtosis 'precipitation'"
   ]
  },
  {
   "cell_type": "markdown",
   "metadata": {},
   "source": [
    "---"
   ]
  }
 ],
 "metadata": {
  "kernelspec": {
   "display_name": "Python 3",
   "language": "python",
   "name": "python3"
  },
  "language_info": {
   "codemirror_mode": {
    "name": "ipython",
    "version": 3
   },
   "file_extension": ".py",
   "mimetype": "text/x-python",
   "name": "python",
   "nbconvert_exporter": "python",
   "pygments_lexer": "ipython3",
   "version": "3.8.10"
  }
 },
 "nbformat": 4,
 "nbformat_minor": 4
}
