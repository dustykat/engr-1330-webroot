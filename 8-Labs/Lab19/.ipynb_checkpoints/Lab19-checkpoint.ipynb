{
 "cells": [
  {
   "cell_type": "code",
   "execution_count": null,
   "metadata": {},
   "outputs": [],
   "source": []
  },
  {
   "cell_type": "markdown",
   "metadata": {},
   "source": [
    "**Download** (right-click, save target as ...) this page as a jupyterlab notebook [Lab19](http://54.243.252.9/engr-1330-webroot/8-Labs/Lab19/Lab19.ipynb)\n",
    "\n",
    "___"
   ]
  },
  {
   "cell_type": "markdown",
   "metadata": {},
   "source": [
    "# <font color=darkred>Laboratory 19: Regression Models </font>\n",
    "\n",
    "LAST NAME, FIRST NAME\n",
    "\n",
    "R00000000\n",
    "\n",
    "ENGR 1330 Laboratory 19 - In Lab\n",
    "\n",
    "___\n"
   ]
  },
  {
   "cell_type": "code",
   "execution_count": 1,
   "metadata": {},
   "outputs": [
    {
     "name": "stdout",
     "output_type": "stream",
     "text": [
      "atomickitty\n",
      "sensei\n",
      "/opt/jupyterhub/bin/python3\n",
      "3.8.10 (default, Sep 28 2021, 16:10:42) \n",
      "[GCC 9.3.0]\n",
      "sys.version_info(major=3, minor=8, micro=10, releaselevel='final', serial=0)\n"
     ]
    }
   ],
   "source": [
    "# Preamble script block to identify host, user, and kernel\n",
    "import sys\n",
    "! hostname\n",
    "! whoami\n",
    "print(sys.executable)\n",
    "print(sys.version)\n",
    "print(sys.version_info)"
   ]
  },
  {
   "cell_type": "markdown",
   "metadata": {},
   "source": [
    "## Prediction Engines and Regression\n",
    "The human brain is amazing and mysterious in many ways. \n",
    "Have a look at these sequences. \n",
    "You, with the assistance of your brain, can guess the next item in each sequence, right? <br>\n",
    "\n",
    "- A,B,C,D,E, ____ ?\n",
    "- 5,10,15,20,25, ____ ?\n",
    "- 2,4,8,16,32 ____ ?\n",
    "- 0,1,1,2,3, ____ ?\n",
    "- 1, 11, 21, 1211,111221, ____ ?\n",
    "\n",
    "![](https://3.bp.blogspot.com/-cZXhOB-3MCI/U8zCNevhDUI/AAAAAAAABd4/HK-3xKM_SlQ/s1600/The+Golden+Ratio+Spiral+.jpg) <br>\n",
    "![](https://i.pinimg.com/originals/80/50/e5/8050e54fd2b4ceb033c8b98586a12972.jpg) <br>\n",
    "![](https://eternallivinghome.files.wordpress.com/2019/11/image-4.png?w=409) <br>\n",
    "![](https://eternallivinghome.files.wordpress.com/2019/11/image-2.png) <br>\n",
    "![](https://eternallivinghome.files.wordpress.com/2019/11/image-1.png?w=414) <br>\n",
    "![](https://eternallivinghome.files.wordpress.com/2019/11/image-6.png?w=507) <br>\n",
    "![](https://eternallivinghome.files.wordpress.com/2019/11/image-20.png?w=506) <br>\n",
    "![](https://eternallivinghome.files.wordpress.com/2019/11/image-8.png) <br>\n",
    "![](https://eternallivinghome.files.wordpress.com/2019/11/image-22.png?w=1024) <br>\n",
    "\n",
    "\n",
    "But how does our brain do this? How do we **'guess | predict'** the next step? \n",
    "Is it that there is only one possible option? is it that we have the previous items? or is it the relationship between the items?<br>\n",
    "\n",
    "What if we have more than a single sequence? Maybe two sets of numbers? How can we predict the next \"item\" in a situation like that? <br>\n",
    "![](https://media.makeameme.org/created/ring-that-bell-ws9mb9.jpg) <br>\n",
    "\n",
    "Blue Points? Red Line? Fit? Does it ring any bells? <br>\n",
    "\n",
    "![](https://38.media.tumblr.com/d51a8aa16dd9e4d40b718b1af803b9be/tumblr_n9kohlL3AR1tofduqo1_500.gif) <br>\n",
    "\n",
    "---\n",
    "---\n",
    "---\n",
    "# Example \n",
    "The table below contains some experimental observations.\n",
    "\n",
    "|Elapsed Time (s)|Speed (m/s)|\n",
    "|---:|---:|\n",
    "|0 |0|\n",
    "|1.0 |3|\n",
    "|2.0 |7|\n",
    "|3.0 |12|\n",
    "|4.0 |20|\n",
    "|5.0 |30|\n",
    "|6.0 | 45.6| \n",
    "|7.0 | 60.3 |\n",
    "|8.0 | 77.7 |\n",
    "|9.0 | 97.3 |\n",
    "|10.0| 121.1|\n",
    "\n",
    "1. Plot the speed vs time (speed on y-axis, time on x-axis) using a scatter plot.  Use blue markers. \n",
    "2. Plot a red line on the scatterplot based on the linear model $f(x) = mx + b$ \n",
    "3. By trial-and-error find values of $m$ and $b$ that provide a good visual fit (i.e. makes the red line explain the blue markers).\n",
    "4. Using this data model estimate the speed at $t = 15~\\texttt{sec.}$\n",
    "---\n",
    "---\n",
    "---\n",
    "![](https://media1.tenor.com/images/e43d77dca4b2096cad8226e150ae072f/tenor.gif?itemid=17107650) <br>\n",
    "\n",
    "\n",
    "\n"
   ]
  },
  {
   "cell_type": "code",
   "execution_count": null,
   "metadata": {},
   "outputs": [],
   "source": []
  },
  {
   "cell_type": "markdown",
   "metadata": {},
   "source": [
    "### Terminology:\n",
    "\n",
    ">Linear **Regression**:\n",
    "    a predictive analytics technique that uses observed data to predict an output variable.<br>\n",
    ">The **Predictor** variable (input):\n",
    "    the variable(s) that help predict the value of the output variable. It is commonly referred to as X.<br>\n",
    ">The **Output/Response** variable:\n",
    "    the variable that we want to predict. It is commonly referred to as Y.\n",
    "    \n",
    "To estimate Y using linear regression, we stipulate the model equation: $Y_e = \\beta X + \\alpha $,\n",
    "where $Y_ₑ$ is the estimated or predicted value of Y based on our linear equation. <br>\n",
    "\n",
    "A meaningful goal is to find statistically significant values of the parameters $\\alpha$ and $\\beta$ that minimise the difference between $Y_o$ and $Y_e$. \n",
    "If we are able to determine the optimum values of these two parameters, then we will have the line of best fit that we can use to predict the values of Y, given the value of X. <br>\n",
    "\n",
    "So, how do we estimate α and β? <br>\n",
    "![](https://media3.giphy.com/media/EijsQdawZkiqY/200.gif) <br>\n",
    "\n",
    "We can use a method called Ordinary Least Squares (OLS). <br>\n",
    "![](https://miro.medium.com/max/338/1*VVA0rF6MWXcw1JmRNFA87g.png) <br>\n",
    "\n",
    "The objective of the least squares method is to find values of $\\alpha$ and $\\beta$ that minimise the sum of the squared difference between $Y_o$ and $Y_e$ (distance between the linear fit and the observed points). \n",
    "We will not go through the derivation here, but using calculus we can show that the values of the unknown parameters are as follows: <br>\n",
    "![](https://miro.medium.com/max/222/0*gR-W7RFar9ijxwAa) <br>\n",
    " where $\\bar X$ is the mean of $X$ values and $\\bar Y$ is the mean of $Y$ values. $\\beta$ is simply the covariance of $X$ and $Y$ (Cov(X, Y) divided by the variance of $X$ (Var(X)). <br>\n",
    "\n",
    ">Covariance: In probability theory and statistics, covariance is a measure of the joint variability of two random variables. If the greater values of one variable mainly correspond with the greater values of the other variable, and the same holds for the lesser values, (i.e., the variables tend to show similar behavior), the covariance is positive. In the opposite case, when the greater values of one variable mainly correspond to the lesser values of the other, (i.e., the variables tend to show opposite behavior), the covariance is negative. The sign of the covariance therefore shows the tendency in the linear relationship between the variables. The magnitude of the covariance is not easy to interpret because it is not normalized and hence depends on the magnitudes of the variables. The normalized version of the covariance, the correlation coefficient, however, shows by its magnitude the strength of the linear relation.\n",
    "\n",
    "<img src=\"https://www.wallstreetmojo.com/wp-content/uploads/2019/03/Covariance-Formula.jpg\" width=\"400\"> <br><br>\n",
    "<img src=\"https://media.geeksforgeeks.org/wp-content/uploads/Correl.png\" width=\"400\"> <br>\n",
    "    \n",
    ">The Correlation Coefficient: Correlation coefficients are used in statistics to measure how strong a relationship is between two variables. There are several types of correlation coefficient, but the most popular is Pearson’s. Pearson’s correlation (also called Pearson’s R) is a correlation coefficient commonly used in linear regression.Correlation coefficient formulas are used to find how strong a relationship is between data. The formula for Pearson’s R:\n",
    "\n",
    "<img src=\"https://www.statisticshowto.com/wp-content/uploads/2012/10/pearson.gif\" width=\"400\"> <br><br>\n",
    "    \n",
    "> The formulas return a value between -1 and 1, where:\n",
    "\n",
    "![](https://www.statisticshowto.com/wp-content/uploads/2012/10/pearson-2-small.png) <br>\n",
    "\n",
    "> 1 : A correlation coefficient of 1 means that for every positive increase in one variable, there is a positive increase of a fixed proportion in the other. For example, shoe sizes go up in (almost) perfect correlation with foot length.<br>\n",
    "> -1: A correlation coefficient of -1 means that for every positive increase in one variable, there is a negative decrease of a fixed proportion in the other. For example, the amount of gas in a tank decreases in (almost) perfect correlation with speed.<br>\n",
    "> 0 : Zero means that for every increase, there isn’t a positive or negative increase. The two just aren’t related.<br>\n"
   ]
  },
  {
   "cell_type": "markdown",
   "metadata": {},
   "source": [
    "### Now Let's have a look at the Example<br>\n",
    "We had a table of recorded times and speeds from some experimental observations:\n",
    "\n",
    "|Elapsed Time (s)|Speed (m/s)|\n",
    "|---:|---:|\n",
    "|0 |0|\n",
    "|1.0 |3|\n",
    "|2.0 |7|\n",
    "|3.0 |12|\n",
    "|4.0 |20|\n",
    "|5.0 |30|\n",
    "|6.0 | 45.6| \n",
    "|7.0 | 60.3 |\n",
    "|8.0 | 77.7 |\n",
    "|9.0 | 97.3 |\n",
    "|10.0| 121.1|"
   ]
  },
  {
   "cell_type": "markdown",
   "metadata": {},
   "source": [
    "#### First let's create a dataframe:\n"
   ]
  },
  {
   "cell_type": "code",
   "execution_count": 1,
   "metadata": {},
   "outputs": [
    {
     "data": {
      "text/html": [
       "<div>\n",
       "<style scoped>\n",
       "    .dataframe tbody tr th:only-of-type {\n",
       "        vertical-align: middle;\n",
       "    }\n",
       "\n",
       "    .dataframe tbody tr th {\n",
       "        vertical-align: top;\n",
       "    }\n",
       "\n",
       "    .dataframe thead th {\n",
       "        text-align: right;\n",
       "    }\n",
       "</style>\n",
       "<table border=\"1\" class=\"dataframe\">\n",
       "  <thead>\n",
       "    <tr style=\"text-align: right;\">\n",
       "      <th></th>\n",
       "      <th>Time</th>\n",
       "      <th>Speed</th>\n",
       "    </tr>\n",
       "  </thead>\n",
       "  <tbody>\n",
       "    <tr>\n",
       "      <th>0</th>\n",
       "      <td>0.0</td>\n",
       "      <td>0.0</td>\n",
       "    </tr>\n",
       "    <tr>\n",
       "      <th>1</th>\n",
       "      <td>1.0</td>\n",
       "      <td>3.0</td>\n",
       "    </tr>\n",
       "    <tr>\n",
       "      <th>2</th>\n",
       "      <td>2.0</td>\n",
       "      <td>7.0</td>\n",
       "    </tr>\n",
       "    <tr>\n",
       "      <th>3</th>\n",
       "      <td>3.0</td>\n",
       "      <td>12.0</td>\n",
       "    </tr>\n",
       "    <tr>\n",
       "      <th>4</th>\n",
       "      <td>4.0</td>\n",
       "      <td>20.0</td>\n",
       "    </tr>\n",
       "    <tr>\n",
       "      <th>5</th>\n",
       "      <td>5.0</td>\n",
       "      <td>30.0</td>\n",
       "    </tr>\n",
       "    <tr>\n",
       "      <th>6</th>\n",
       "      <td>6.0</td>\n",
       "      <td>45.6</td>\n",
       "    </tr>\n",
       "    <tr>\n",
       "      <th>7</th>\n",
       "      <td>7.0</td>\n",
       "      <td>60.3</td>\n",
       "    </tr>\n",
       "    <tr>\n",
       "      <th>8</th>\n",
       "      <td>8.0</td>\n",
       "      <td>77.7</td>\n",
       "    </tr>\n",
       "    <tr>\n",
       "      <th>9</th>\n",
       "      <td>9.0</td>\n",
       "      <td>97.3</td>\n",
       "    </tr>\n",
       "    <tr>\n",
       "      <th>10</th>\n",
       "      <td>10.0</td>\n",
       "      <td>121.2</td>\n",
       "    </tr>\n",
       "  </tbody>\n",
       "</table>\n",
       "</div>"
      ],
      "text/plain": [
       "    Time  Speed\n",
       "0    0.0    0.0\n",
       "1    1.0    3.0\n",
       "2    2.0    7.0\n",
       "3    3.0   12.0\n",
       "4    4.0   20.0\n",
       "5    5.0   30.0\n",
       "6    6.0   45.6\n",
       "7    7.0   60.3\n",
       "8    8.0   77.7\n",
       "9    9.0   97.3\n",
       "10  10.0  121.2"
      ]
     },
     "execution_count": 1,
     "metadata": {},
     "output_type": "execute_result"
    }
   ],
   "source": [
    "# Load the necessary packages\n",
    "import numpy as np\n",
    "import pandas as pd\n",
    "import statistics \n",
    "from matplotlib import pyplot as plt\n",
    "\n",
    "# Create a dataframe:\n",
    "time = [0, 1.0, 2.0, 3.0, 4.0, 5.0, 6.0, 7.0, 8.0, 9.0, 10.0]\n",
    "speed = [0, 3, 7, 12, 20, 30, 45.6, 60.3, 77.7, 97.3, 121.2]\n",
    "data = pd.DataFrame({'Time':time, 'Speed':speed})\n",
    "data"
   ]
  },
  {
   "cell_type": "markdown",
   "metadata": {},
   "source": [
    "Now, let's explore the data:\n"
   ]
  },
  {
   "cell_type": "code",
   "execution_count": 2,
   "metadata": {},
   "outputs": [
    {
     "data": {
      "text/html": [
       "<div>\n",
       "<style scoped>\n",
       "    .dataframe tbody tr th:only-of-type {\n",
       "        vertical-align: middle;\n",
       "    }\n",
       "\n",
       "    .dataframe tbody tr th {\n",
       "        vertical-align: top;\n",
       "    }\n",
       "\n",
       "    .dataframe thead th {\n",
       "        text-align: right;\n",
       "    }\n",
       "</style>\n",
       "<table border=\"1\" class=\"dataframe\">\n",
       "  <thead>\n",
       "    <tr style=\"text-align: right;\">\n",
       "      <th></th>\n",
       "      <th>Time</th>\n",
       "      <th>Speed</th>\n",
       "    </tr>\n",
       "  </thead>\n",
       "  <tbody>\n",
       "    <tr>\n",
       "      <td>count</td>\n",
       "      <td>11.000000</td>\n",
       "      <td>11.000000</td>\n",
       "    </tr>\n",
       "    <tr>\n",
       "      <td>mean</td>\n",
       "      <td>5.000000</td>\n",
       "      <td>43.100000</td>\n",
       "    </tr>\n",
       "    <tr>\n",
       "      <td>std</td>\n",
       "      <td>3.316625</td>\n",
       "      <td>41.204077</td>\n",
       "    </tr>\n",
       "    <tr>\n",
       "      <td>min</td>\n",
       "      <td>0.000000</td>\n",
       "      <td>0.000000</td>\n",
       "    </tr>\n",
       "    <tr>\n",
       "      <td>25%</td>\n",
       "      <td>2.500000</td>\n",
       "      <td>9.500000</td>\n",
       "    </tr>\n",
       "    <tr>\n",
       "      <td>50%</td>\n",
       "      <td>5.000000</td>\n",
       "      <td>30.000000</td>\n",
       "    </tr>\n",
       "    <tr>\n",
       "      <td>75%</td>\n",
       "      <td>7.500000</td>\n",
       "      <td>69.000000</td>\n",
       "    </tr>\n",
       "    <tr>\n",
       "      <td>max</td>\n",
       "      <td>10.000000</td>\n",
       "      <td>121.200000</td>\n",
       "    </tr>\n",
       "  </tbody>\n",
       "</table>\n",
       "</div>"
      ],
      "text/plain": [
       "            Time       Speed\n",
       "count  11.000000   11.000000\n",
       "mean    5.000000   43.100000\n",
       "std     3.316625   41.204077\n",
       "min     0.000000    0.000000\n",
       "25%     2.500000    9.500000\n",
       "50%     5.000000   30.000000\n",
       "75%     7.500000   69.000000\n",
       "max    10.000000  121.200000"
      ]
     },
     "execution_count": 2,
     "metadata": {},
     "output_type": "execute_result"
    }
   ],
   "source": [
    "data.describe()"
   ]
  },
  {
   "cell_type": "code",
   "execution_count": 2,
   "metadata": {},
   "outputs": [
    {
     "name": "stdout",
     "output_type": "stream",
     "text": [
      "Variance of recorded times is  11.0\n",
      "Variance of recorded times is  1697.7759999999998\n"
     ]
    }
   ],
   "source": [
    "time_var = statistics.variance(time)\n",
    "speed_var = statistics.variance(speed)\n",
    "\n",
    "print(\"Variance of recorded times is \",time_var)\n",
    "print(\"Variance of recorded times is \",speed_var)"
   ]
  },
  {
   "cell_type": "markdown",
   "metadata": {},
   "source": [
    "Is there a relationship ( based on covariance, correlation) between time and speed?"
   ]
  },
  {
   "cell_type": "code",
   "execution_count": 3,
   "metadata": {},
   "outputs": [
    {
     "data": {
      "text/html": [
       "<div>\n",
       "<style scoped>\n",
       "    .dataframe tbody tr th:only-of-type {\n",
       "        vertical-align: middle;\n",
       "    }\n",
       "\n",
       "    .dataframe tbody tr th {\n",
       "        vertical-align: top;\n",
       "    }\n",
       "\n",
       "    .dataframe thead th {\n",
       "        text-align: right;\n",
       "    }\n",
       "</style>\n",
       "<table border=\"1\" class=\"dataframe\">\n",
       "  <thead>\n",
       "    <tr style=\"text-align: right;\">\n",
       "      <th></th>\n",
       "      <th>Time</th>\n",
       "      <th>Speed</th>\n",
       "    </tr>\n",
       "  </thead>\n",
       "  <tbody>\n",
       "    <tr>\n",
       "      <th>Time</th>\n",
       "      <td>11.00</td>\n",
       "      <td>131.750</td>\n",
       "    </tr>\n",
       "    <tr>\n",
       "      <th>Speed</th>\n",
       "      <td>131.75</td>\n",
       "      <td>1697.776</td>\n",
       "    </tr>\n",
       "  </tbody>\n",
       "</table>\n",
       "</div>"
      ],
      "text/plain": [
       "         Time     Speed\n",
       "Time    11.00   131.750\n",
       "Speed  131.75  1697.776"
      ]
     },
     "execution_count": 3,
     "metadata": {},
     "output_type": "execute_result"
    }
   ],
   "source": [
    "# To find the covariance  \n",
    "data.cov() "
   ]
  },
  {
   "cell_type": "code",
   "execution_count": 4,
   "metadata": {},
   "outputs": [
    {
     "data": {
      "text/html": [
       "<div>\n",
       "<style scoped>\n",
       "    .dataframe tbody tr th:only-of-type {\n",
       "        vertical-align: middle;\n",
       "    }\n",
       "\n",
       "    .dataframe tbody tr th {\n",
       "        vertical-align: top;\n",
       "    }\n",
       "\n",
       "    .dataframe thead th {\n",
       "        text-align: right;\n",
       "    }\n",
       "</style>\n",
       "<table border=\"1\" class=\"dataframe\">\n",
       "  <thead>\n",
       "    <tr style=\"text-align: right;\">\n",
       "      <th></th>\n",
       "      <th>Time</th>\n",
       "      <th>Speed</th>\n",
       "    </tr>\n",
       "  </thead>\n",
       "  <tbody>\n",
       "    <tr>\n",
       "      <th>Time</th>\n",
       "      <td>1.000000</td>\n",
       "      <td>0.964082</td>\n",
       "    </tr>\n",
       "    <tr>\n",
       "      <th>Speed</th>\n",
       "      <td>0.964082</td>\n",
       "      <td>1.000000</td>\n",
       "    </tr>\n",
       "  </tbody>\n",
       "</table>\n",
       "</div>"
      ],
      "text/plain": [
       "           Time     Speed\n",
       "Time   1.000000  0.964082\n",
       "Speed  0.964082  1.000000"
      ]
     },
     "execution_count": 4,
     "metadata": {},
     "output_type": "execute_result"
    }
   ],
   "source": [
    "# To find the correlation among the columns \n",
    "# using pearson method \n",
    "data.corr(method ='pearson') "
   ]
  },
  {
   "cell_type": "markdown",
   "metadata": {},
   "source": [
    "Let's do linear regression with primitive Python:\n",
    "- To estimate \"y\" using the OLS method, we need to calculate \"xmean\" and \"ymean\", the covariance of X and y (\"xycov\"), and the variance of X (\"xvar\") before we can determine the values for alpha and beta. In our case, X is time and y is Speed."
   ]
  },
  {
   "cell_type": "code",
   "execution_count": 6,
   "metadata": {},
   "outputs": [
    {
     "name": "stdout",
     "output_type": "stream",
     "text": [
      "alpha = -16.78636363636363\n",
      "beta = 11.977272727272727\n"
     ]
    }
   ],
   "source": [
    "# Calculate the mean of X and y\n",
    "xmean = np.mean(time)\n",
    "ymean = np.mean(speed)\n",
    "\n",
    "# Calculate the terms needed for the numator and denominator of beta\n",
    "data['xycov'] = (data['Time'] - xmean) * (data['Speed'] - ymean)\n",
    "data['xvar'] = (data['Time'] - xmean)**2\n",
    "\n",
    "# Calculate beta and alpha\n",
    "beta = data['xycov'].sum() / data['xvar'].sum()\n",
    "alpha = ymean - (beta * xmean)\n",
    "print(f'alpha = {alpha}')\n",
    "print(f'beta = {beta}')\n"
   ]
  },
  {
   "cell_type": "markdown",
   "metadata": {},
   "source": [
    "We now have an estimate for alpha and beta! Our model can be written as $Y_e = 11.977 X -16.786$, and we can make predictions:"
   ]
  },
  {
   "cell_type": "code",
   "execution_count": 7,
   "metadata": {},
   "outputs": [
    {
     "name": "stdout",
     "output_type": "stream",
     "text": [
      "[-16.78636364  -4.80909091   7.16818182  19.14545455  31.12272727\n",
      "  43.1         55.07727273  67.05454545  79.03181818  91.00909091\n",
      " 102.98636364]\n"
     ]
    }
   ],
   "source": [
    "X = np.array(time)\n",
    "\n",
    "ypred = alpha + beta * X\n",
    "print(ypred)"
   ]
  },
  {
   "cell_type": "markdown",
   "metadata": {},
   "source": [
    " Let’s plot our prediction `ypred` against the actual values of `y`, to get a better visual understanding of our model:"
   ]
  },
  {
   "cell_type": "code",
   "execution_count": 9,
   "metadata": {},
   "outputs": [
    {
     "data": {
      "image/png": "[encoded data removed]",
      "text/plain": [
       "<Figure size 864x432 with 1 Axes>"
      ]
     },
     "metadata": {
      "needs_background": "light"
     },
     "output_type": "display_data"
    }
   ],
   "source": [
    "# Plot regression against actual data\n",
    "plt.figure(figsize=(12, 6))\n",
    "plt.plot(X, ypred, color=\"red\")     # regression line\n",
    "plt.plot(time, speed, 'ro', color=\"blue\")   # scatter plot showing actual data\n",
    "plt.title('Actual vs Predicted')\n",
    "plt.xlabel('Time (s)')\n",
    "plt.ylabel('Speed (m/s)')\n",
    "\n",
    "plt.show();"
   ]
  },
  {
   "cell_type": "markdown",
   "metadata": {},
   "source": [
    "The red line is our line of best fit, $Y_e = 11.977 X -16.786$. \n",
    "We can see from this graph that there is a positive linear relationship between X and y. \n",
    "Using our model, we can predict y from any value of X! <br>\n",
    "\n",
    "For example, if we had a value X = 20, we can predict that:"
   ]
  },
  {
   "cell_type": "code",
   "execution_count": 10,
   "metadata": {},
   "outputs": [
    {
     "name": "stdout",
     "output_type": "stream",
     "text": [
      "222.7590909090909\n"
     ]
    }
   ],
   "source": [
    "ypred_20 = alpha + beta * 20\n",
    "print(ypred_20)"
   ]
  },
  {
   "cell_type": "markdown",
   "metadata": {},
   "source": [
    "### Linear Regression with `statsmodels` package:\n",
    "First, we use statsmodels’ ols function to initialise our simple linear regression model. \n",
    "This takes the formula y ~ X, where X is the predictor variable (Time) and y is the output variable (Speed). \n",
    "Then, we fit the model by calling the OLS object’s fit() method.\n",
    "\n",
    "The syntax is a bit clunky, but after we read the statsmodel examples (where?):"
   ]
  },
  {
   "cell_type": "code",
   "execution_count": 11,
   "metadata": {},
   "outputs": [],
   "source": [
    "import statsmodels.formula.api as smf\n",
    "\n",
    "# Initialise and fit linear regression model using `statsmodels`\n",
    "model = smf.ols('Speed ~ Time', data=data) # model object constructor syntax\n",
    "model = model.fit()"
   ]
  },
  {
   "cell_type": "markdown",
   "metadata": {},
   "source": [
    "We no longer have to calculate alpha and beta ourselves as this method does it automatically for us! Calling model.params will show us the model’s parameters:"
   ]
  },
  {
   "cell_type": "code",
   "execution_count": 12,
   "metadata": {},
   "outputs": [
    {
     "data": {
      "text/plain": [
       "Intercept   -16.786364\n",
       "Time         11.977273\n",
       "dtype: float64"
      ]
     },
     "execution_count": 12,
     "metadata": {},
     "output_type": "execute_result"
    }
   ],
   "source": [
    "model.params"
   ]
  },
  {
   "cell_type": "markdown",
   "metadata": {},
   "source": [
    "In the notation that we have been using, $\\alpha$ is the intercept and $\\beta$ is the slope i.e. $\\alpha$ =-16.786364 and $\\beta$ = 11.977273.\n",
    "\n",
    "Here we replicate the process, but using values from the model object"
   ]
  },
  {
   "cell_type": "code",
   "execution_count": 13,
   "metadata": {},
   "outputs": [
    {
     "data": {
      "image/png": "[encoded data removed]",
      "text/plain": [
       "<Figure size 864x432 with 1 Axes>"
      ]
     },
     "metadata": {
      "needs_background": "light"
     },
     "output_type": "display_data"
    }
   ],
   "source": [
    "# Predict values\n",
    "speed_pred = model.predict()\n",
    "\n",
    "# Plot regression against actual data\n",
    "plt.figure(figsize=(12, 6))\n",
    "plt.plot(data['Time'], data['Speed'], 'o')           # scatter plot showing actual data\n",
    "plt.plot(data['Time'], speed_pred, 'r', linewidth=2)   # regression line\n",
    "plt.xlabel('Time (s)')\n",
    "plt.ylabel('Speed (m/s)')\n",
    "plt.title('model vs observed')\n",
    "\n",
    "plt.show();"
   ]
  },
  {
   "cell_type": "markdown",
   "metadata": {},
   "source": [
    "How good do you feel about this predictive model? Will you trust it?"
   ]
  },
  {
   "cell_type": "markdown",
   "metadata": {},
   "source": [
    "### Example 2: Advertising and Sells! <br>\n",
    "This is a classic regression problem. we have a dataset of the spendings on TV, Radio, and Newspaper advertisements and number of sales for a specific product. We are interested in exploring the relationship between these parameters and answering the following questions:\n",
    "- Can TV advertising spending predict the number of sales for the product?\n",
    "- Can Radio advertising spending predict the number of sales for the product?\n",
    "- Can Newspaper advertising spending predict the number of sales for the product?\n",
    "- Can we use the three of them to predict the number of sales for the product? | Multiple Linear Regression Model\n",
    "- Which parameter is a better predictor of the number of sales for the product?"
   ]
  },
  {
   "cell_type": "code",
   "execution_count": 14,
   "metadata": {},
   "outputs": [],
   "source": [
    "import requests # Module to process http/https requests\n",
    "remote_url=\"http://54.243.252.9/engr-1330-webroot/4-Databases/Advertising.csv\"  # set the url\n",
    "rget = requests.get(remote_url, allow_redirects=True)  # get the remote resource, follow imbedded links\n",
    "open('Advertising.csv','wb').write(rget.content); # extract from the remote the contents, assign to a local file same name"
   ]
  },
  {
   "cell_type": "code",
   "execution_count": 15,
   "metadata": {},
   "outputs": [
    {
     "data": {
      "text/html": [
       "<div>\n",
       "<style scoped>\n",
       "    .dataframe tbody tr th:only-of-type {\n",
       "        vertical-align: middle;\n",
       "    }\n",
       "\n",
       "    .dataframe tbody tr th {\n",
       "        vertical-align: top;\n",
       "    }\n",
       "\n",
       "    .dataframe thead th {\n",
       "        text-align: right;\n",
       "    }\n",
       "</style>\n",
       "<table border=\"1\" class=\"dataframe\">\n",
       "  <thead>\n",
       "    <tr style=\"text-align: right;\">\n",
       "      <th></th>\n",
       "      <th>TV</th>\n",
       "      <th>Radio</th>\n",
       "      <th>Newspaper</th>\n",
       "      <th>Sales</th>\n",
       "    </tr>\n",
       "  </thead>\n",
       "  <tbody>\n",
       "    <tr>\n",
       "      <th>0</th>\n",
       "      <td>230.1</td>\n",
       "      <td>37.8</td>\n",
       "      <td>69.2</td>\n",
       "      <td>22.1</td>\n",
       "    </tr>\n",
       "    <tr>\n",
       "      <th>1</th>\n",
       "      <td>44.5</td>\n",
       "      <td>39.3</td>\n",
       "      <td>45.1</td>\n",
       "      <td>10.4</td>\n",
       "    </tr>\n",
       "    <tr>\n",
       "      <th>2</th>\n",
       "      <td>17.2</td>\n",
       "      <td>45.9</td>\n",
       "      <td>69.3</td>\n",
       "      <td>9.3</td>\n",
       "    </tr>\n",
       "    <tr>\n",
       "      <th>3</th>\n",
       "      <td>151.5</td>\n",
       "      <td>41.3</td>\n",
       "      <td>58.5</td>\n",
       "      <td>18.5</td>\n",
       "    </tr>\n",
       "    <tr>\n",
       "      <th>4</th>\n",
       "      <td>180.8</td>\n",
       "      <td>10.8</td>\n",
       "      <td>58.4</td>\n",
       "      <td>12.9</td>\n",
       "    </tr>\n",
       "  </tbody>\n",
       "</table>\n",
       "</div>"
      ],
      "text/plain": [
       "      TV  Radio  Newspaper  Sales\n",
       "0  230.1   37.8       69.2   22.1\n",
       "1   44.5   39.3       45.1   10.4\n",
       "2   17.2   45.9       69.3    9.3\n",
       "3  151.5   41.3       58.5   18.5\n",
       "4  180.8   10.8       58.4   12.9"
      ]
     },
     "execution_count": 15,
     "metadata": {},
     "output_type": "execute_result"
    }
   ],
   "source": [
    "# Import and display first rows of the advertising dataset\n",
    "\n",
    "df = pd.read_csv('Advertising.csv')\n",
    "df.head()"
   ]
  },
  {
   "cell_type": "code",
   "execution_count": 16,
   "metadata": {},
   "outputs": [
    {
     "data": {
      "text/html": [
       "<div>\n",
       "<style scoped>\n",
       "    .dataframe tbody tr th:only-of-type {\n",
       "        vertical-align: middle;\n",
       "    }\n",
       "\n",
       "    .dataframe tbody tr th {\n",
       "        vertical-align: top;\n",
       "    }\n",
       "\n",
       "    .dataframe thead th {\n",
       "        text-align: right;\n",
       "    }\n",
       "</style>\n",
       "<table border=\"1\" class=\"dataframe\">\n",
       "  <thead>\n",
       "    <tr style=\"text-align: right;\">\n",
       "      <th></th>\n",
       "      <th>TV</th>\n",
       "      <th>Radio</th>\n",
       "      <th>Newspaper</th>\n",
       "      <th>Sales</th>\n",
       "    </tr>\n",
       "  </thead>\n",
       "  <tbody>\n",
       "    <tr>\n",
       "      <th>count</th>\n",
       "      <td>200.000000</td>\n",
       "      <td>200.000000</td>\n",
       "      <td>200.000000</td>\n",
       "      <td>200.000000</td>\n",
       "    </tr>\n",
       "    <tr>\n",
       "      <th>mean</th>\n",
       "      <td>147.042500</td>\n",
       "      <td>23.264000</td>\n",
       "      <td>30.554000</td>\n",
       "      <td>14.022500</td>\n",
       "    </tr>\n",
       "    <tr>\n",
       "      <th>std</th>\n",
       "      <td>85.854236</td>\n",
       "      <td>14.846809</td>\n",
       "      <td>21.778621</td>\n",
       "      <td>5.217457</td>\n",
       "    </tr>\n",
       "    <tr>\n",
       "      <th>min</th>\n",
       "      <td>0.700000</td>\n",
       "      <td>0.000000</td>\n",
       "      <td>0.300000</td>\n",
       "      <td>1.600000</td>\n",
       "    </tr>\n",
       "    <tr>\n",
       "      <th>25%</th>\n",
       "      <td>74.375000</td>\n",
       "      <td>9.975000</td>\n",
       "      <td>12.750000</td>\n",
       "      <td>10.375000</td>\n",
       "    </tr>\n",
       "    <tr>\n",
       "      <th>50%</th>\n",
       "      <td>149.750000</td>\n",
       "      <td>22.900000</td>\n",
       "      <td>25.750000</td>\n",
       "      <td>12.900000</td>\n",
       "    </tr>\n",
       "    <tr>\n",
       "      <th>75%</th>\n",
       "      <td>218.825000</td>\n",
       "      <td>36.525000</td>\n",
       "      <td>45.100000</td>\n",
       "      <td>17.400000</td>\n",
       "    </tr>\n",
       "    <tr>\n",
       "      <th>max</th>\n",
       "      <td>296.400000</td>\n",
       "      <td>49.600000</td>\n",
       "      <td>114.000000</td>\n",
       "      <td>27.000000</td>\n",
       "    </tr>\n",
       "  </tbody>\n",
       "</table>\n",
       "</div>"
      ],
      "text/plain": [
       "               TV       Radio   Newspaper       Sales\n",
       "count  200.000000  200.000000  200.000000  200.000000\n",
       "mean   147.042500   23.264000   30.554000   14.022500\n",
       "std     85.854236   14.846809   21.778621    5.217457\n",
       "min      0.700000    0.000000    0.300000    1.600000\n",
       "25%     74.375000    9.975000   12.750000   10.375000\n",
       "50%    149.750000   22.900000   25.750000   12.900000\n",
       "75%    218.825000   36.525000   45.100000   17.400000\n",
       "max    296.400000   49.600000  114.000000   27.000000"
      ]
     },
     "execution_count": 16,
     "metadata": {},
     "output_type": "execute_result"
    }
   ],
   "source": [
    "# Describe the df\n",
    "df.describe()"
   ]
  },
  {
   "cell_type": "code",
   "execution_count": 17,
   "metadata": {},
   "outputs": [],
   "source": [
    "tv = np.array(df['TV'])\n",
    "radio = np.array(df['Radio'])\n",
    "newspaper = np.array(df['Newspaper'])\n",
    "newspaper = np.array(df['Sales'])\n"
   ]
  },
  {
   "cell_type": "code",
   "execution_count": 18,
   "metadata": {},
   "outputs": [
    {
     "data": {
      "text/html": [
       "<div>\n",
       "<style scoped>\n",
       "    .dataframe tbody tr th:only-of-type {\n",
       "        vertical-align: middle;\n",
       "    }\n",
       "\n",
       "    .dataframe tbody tr th {\n",
       "        vertical-align: top;\n",
       "    }\n",
       "\n",
       "    .dataframe thead th {\n",
       "        text-align: right;\n",
       "    }\n",
       "</style>\n",
       "<table border=\"1\" class=\"dataframe\">\n",
       "  <thead>\n",
       "    <tr style=\"text-align: right;\">\n",
       "      <th></th>\n",
       "      <th>TV</th>\n",
       "      <th>Radio</th>\n",
       "      <th>Newspaper</th>\n",
       "      <th>Sales</th>\n",
       "    </tr>\n",
       "  </thead>\n",
       "  <tbody>\n",
       "    <tr>\n",
       "      <th>TV</th>\n",
       "      <td>7370.949893</td>\n",
       "      <td>69.862492</td>\n",
       "      <td>105.919452</td>\n",
       "      <td>350.390195</td>\n",
       "    </tr>\n",
       "    <tr>\n",
       "      <th>Radio</th>\n",
       "      <td>69.862492</td>\n",
       "      <td>220.427743</td>\n",
       "      <td>114.496979</td>\n",
       "      <td>44.635688</td>\n",
       "    </tr>\n",
       "    <tr>\n",
       "      <th>Newspaper</th>\n",
       "      <td>105.919452</td>\n",
       "      <td>114.496979</td>\n",
       "      <td>474.308326</td>\n",
       "      <td>25.941392</td>\n",
       "    </tr>\n",
       "    <tr>\n",
       "      <th>Sales</th>\n",
       "      <td>350.390195</td>\n",
       "      <td>44.635688</td>\n",
       "      <td>25.941392</td>\n",
       "      <td>27.221853</td>\n",
       "    </tr>\n",
       "  </tbody>\n",
       "</table>\n",
       "</div>"
      ],
      "text/plain": [
       "                    TV       Radio   Newspaper       Sales\n",
       "TV         7370.949893   69.862492  105.919452  350.390195\n",
       "Radio        69.862492  220.427743  114.496979   44.635688\n",
       "Newspaper   105.919452  114.496979  474.308326   25.941392\n",
       "Sales       350.390195   44.635688   25.941392   27.221853"
      ]
     },
     "execution_count": 18,
     "metadata": {},
     "output_type": "execute_result"
    }
   ],
   "source": [
    "# Get Variance and Covariance - What can we infer?\n",
    "df.cov()"
   ]
  },
  {
   "cell_type": "code",
   "execution_count": 19,
   "metadata": {},
   "outputs": [
    {
     "data": {
      "text/html": [
       "<div>\n",
       "<style scoped>\n",
       "    .dataframe tbody tr th:only-of-type {\n",
       "        vertical-align: middle;\n",
       "    }\n",
       "\n",
       "    .dataframe tbody tr th {\n",
       "        vertical-align: top;\n",
       "    }\n",
       "\n",
       "    .dataframe thead th {\n",
       "        text-align: right;\n",
       "    }\n",
       "</style>\n",
       "<table border=\"1\" class=\"dataframe\">\n",
       "  <thead>\n",
       "    <tr style=\"text-align: right;\">\n",
       "      <th></th>\n",
       "      <th>TV</th>\n",
       "      <th>Radio</th>\n",
       "      <th>Newspaper</th>\n",
       "      <th>Sales</th>\n",
       "    </tr>\n",
       "  </thead>\n",
       "  <tbody>\n",
       "    <tr>\n",
       "      <th>TV</th>\n",
       "      <td>1.000000</td>\n",
       "      <td>0.054809</td>\n",
       "      <td>0.056648</td>\n",
       "      <td>0.782224</td>\n",
       "    </tr>\n",
       "    <tr>\n",
       "      <th>Radio</th>\n",
       "      <td>0.054809</td>\n",
       "      <td>1.000000</td>\n",
       "      <td>0.354104</td>\n",
       "      <td>0.576223</td>\n",
       "    </tr>\n",
       "    <tr>\n",
       "      <th>Newspaper</th>\n",
       "      <td>0.056648</td>\n",
       "      <td>0.354104</td>\n",
       "      <td>1.000000</td>\n",
       "      <td>0.228299</td>\n",
       "    </tr>\n",
       "    <tr>\n",
       "      <th>Sales</th>\n",
       "      <td>0.782224</td>\n",
       "      <td>0.576223</td>\n",
       "      <td>0.228299</td>\n",
       "      <td>1.000000</td>\n",
       "    </tr>\n",
       "  </tbody>\n",
       "</table>\n",
       "</div>"
      ],
      "text/plain": [
       "                 TV     Radio  Newspaper     Sales\n",
       "TV         1.000000  0.054809   0.056648  0.782224\n",
       "Radio      0.054809  1.000000   0.354104  0.576223\n",
       "Newspaper  0.056648  0.354104   1.000000  0.228299\n",
       "Sales      0.782224  0.576223   0.228299  1.000000"
      ]
     },
     "execution_count": 19,
     "metadata": {},
     "output_type": "execute_result"
    }
   ],
   "source": [
    "# Get Correlation Coefficient - What can we infer?\n",
    "df.corr(method ='pearson') "
   ]
  },
  {
   "cell_type": "code",
   "execution_count": 20,
   "metadata": {},
   "outputs": [
    {
     "name": "stdout",
     "output_type": "stream",
     "text": [
      "Intercept    7.032594\n",
      "TV           0.047537\n",
      "dtype: float64\n"
     ]
    }
   ],
   "source": [
    "# Answer the first question: Can TV advertising spending predict the number of sales for the product?\n",
    "import statsmodels.formula.api as smf\n",
    "\n",
    "# Initialise and fit linear regression model using `statsmodels`\n",
    "model = smf.ols('Sales ~ TV', data=df)\n",
    "model = model.fit()\n",
    "print(model.params)"
   ]
  },
  {
   "cell_type": "code",
   "execution_count": 22,
   "metadata": {},
   "outputs": [
    {
     "data": {
      "image/png": "[encoded data removed]",
      "text/plain": [
       "<Figure size 864x432 with 1 Axes>"
      ]
     },
     "metadata": {
      "needs_background": "light"
     },
     "output_type": "display_data"
    }
   ],
   "source": [
    "# Predict values\n",
    "TV_pred = model.predict()\n",
    "\n",
    "# Plot regression against actual data - What do we see?\n",
    "plt.figure(figsize=(12, 6))\n",
    "plt.plot(df['TV'], df['Sales'], 'o')           # scatter plot showing actual data\n",
    "plt.plot(df['TV'], TV_pred, 'r', linewidth=2)   # regression line\n",
    "plt.xlabel('TV advertising spending')\n",
    "plt.ylabel('Sales')\n",
    "plt.title('Predicting with TV spendings only')\n",
    "\n",
    "plt.show()"
   ]
  },
  {
   "cell_type": "code",
   "execution_count": 23,
   "metadata": {},
   "outputs": [
    {
     "name": "stdout",
     "output_type": "stream",
     "text": [
      "Intercept    9.311638\n",
      "Radio        0.202496\n",
      "dtype: float64\n"
     ]
    }
   ],
   "source": [
    "# Answer the second question: Can Radio advertising spending predict the number of sales for the product?\n",
    "import statsmodels.formula.api as smf\n",
    "\n",
    "# Initialise and fit linear regression model using `statsmodels`\n",
    "model = smf.ols('Sales ~ Radio', data=df)\n",
    "model = model.fit()\n",
    "print(model.params)"
   ]
  },
  {
   "cell_type": "code",
   "execution_count": 24,
   "metadata": {},
   "outputs": [
    {
     "data": {
      "image/png": "[encoded data removed]",
      "text/plain": [
       "<Figure size 864x432 with 1 Axes>"
      ]
     },
     "metadata": {
      "needs_background": "light"
     },
     "output_type": "display_data"
    }
   ],
   "source": [
    "# Predict values\n",
    "RADIO_pred = model.predict()\n",
    "\n",
    "# Plot regression against actual data - What do we see?\n",
    "plt.figure(figsize=(12, 6))\n",
    "plt.plot(df['Radio'], df['Sales'], 'o')           # scatter plot showing actual data\n",
    "plt.plot(df['Radio'], RADIO_pred, 'r', linewidth=2)   # regression line\n",
    "plt.xlabel('Radio advertising spending')\n",
    "plt.ylabel('Sales')\n",
    "plt.title('Predicting with Radio spendings only')\n",
    "\n",
    "plt.show()"
   ]
  },
  {
   "cell_type": "code",
   "execution_count": 25,
   "metadata": {},
   "outputs": [
    {
     "name": "stdout",
     "output_type": "stream",
     "text": [
      "Intercept    12.351407\n",
      "Newspaper     0.054693\n",
      "dtype: float64\n"
     ]
    }
   ],
   "source": [
    "# Answer the third question: Can Newspaper advertising spending predict the number of sales for the product?\n",
    "import statsmodels.formula.api as smf\n",
    "\n",
    "# Initialise and fit linear regression model using `statsmodels`\n",
    "model = smf.ols('Sales ~ Newspaper', data=df)\n",
    "model = model.fit()\n",
    "print(model.params)"
   ]
  },
  {
   "cell_type": "code",
   "execution_count": 26,
   "metadata": {},
   "outputs": [
    {
     "data": {
      "image/png": "[encoded data removed]",
      "text/plain": [
       "<Figure size 864x432 with 1 Axes>"
      ]
     },
     "metadata": {
      "needs_background": "light"
     },
     "output_type": "display_data"
    }
   ],
   "source": [
    "# Predict values\n",
    "NP_pred = model.predict()\n",
    "\n",
    "# Plot regression against actual data - What do we see?\n",
    "plt.figure(figsize=(12, 6))\n",
    "plt.plot(df['Newspaper'], df['Sales'], 'o')           # scatter plot showing actual data\n",
    "plt.plot(df['Newspaper'], NP_pred, 'r', linewidth=2)   # regression line\n",
    "plt.xlabel('Newspaper advertising spending')\n",
    "plt.ylabel('Sales')\n",
    "plt.title('Predicting with Newspaper spendings only')\n",
    "\n",
    "plt.show()"
   ]
  },
  {
   "cell_type": "markdown",
   "metadata": {},
   "source": [
    "On my computer I had to install the sklearn package for the next step using:\n",
    "`!sudo /opt/jupyterhub/bin/pip install sklearn`\n",
    "\n",
    "Anaconda users will execute a similar command for either their notebook (with the ! symbol) or from the Anaconda Power Prompt."
   ]
  },
  {
   "cell_type": "code",
   "execution_count": 28,
   "metadata": {},
   "outputs": [],
   "source": [
    "# Answer the fourth question: Can we use the three of them to predict the number of sales for the product?\n",
    "# This is a case of multiple linear regression model. This is simply a linear regression model with more than one predictor:\n",
    "# and is modelled by:  Yₑ = α + β₁X₁ + β₂X₂ + … + βₚXₚ , where p is the number of predictors.\n",
    "# In this case: Sales = α + β1*TV + β2*Radio + β3*Newspaper\n",
    "# Multiple Linear Regression with scikit-learn:\n",
    "from sklearn.linear_model import LinearRegression\n",
    "\n",
    "# Build linear regression model using TV,Radio and Newspaper as predictors\n",
    "# Split data into predictors X and output Y\n",
    "predictors = ['TV', 'Radio', 'Newspaper']\n",
    "X = df[predictors]\n",
    "y = df['Sales']\n",
    "\n",
    "# Initialise and fit model\n",
    "lm = LinearRegression()\n",
    "model = lm.fit(X, y)"
   ]
  },
  {
   "cell_type": "code",
   "execution_count": 29,
   "metadata": {},
   "outputs": [
    {
     "name": "stdout",
     "output_type": "stream",
     "text": [
      "alpha = 2.9388893694594014\n",
      "betas = [ 0.04576465  0.18853002 -0.00103749]\n"
     ]
    }
   ],
   "source": [
    "print(f'alpha = {model.intercept_}')\n",
    "print(f'betas = {model.coef_}')"
   ]
  },
  {
   "cell_type": "code",
   "execution_count": 30,
   "metadata": {},
   "outputs": [
    {
     "name": "stdout",
     "output_type": "stream",
     "text": [
      "[54.32241174]\n"
     ]
    },
    {
     "name": "stderr",
     "output_type": "stream",
     "text": [
      "/opt/jupyterhub/lib/python3.8/site-packages/sklearn/base.py:445: UserWarning: X does not have valid feature names, but LinearRegression was fitted with feature names\n",
      "  warnings.warn(\n"
     ]
    }
   ],
   "source": [
    "# Therefore, our model can be written as:\n",
    "#Sales = 2.938 + 0.046*TV + 0.1885*Radio -0.001*Newspaper\n",
    "# we can predict sales from any combination of TV and Radio and Newspaper advertising costs! \n",
    "#For example, if we wanted to know how many sales we would make if we invested \n",
    "# $300 in TV advertising and $200 in Radio advertising and $50 in Newspaper advertising\n",
    "#all we have to do is plug in the values:\n",
    "new_X = [[300, 200,50]]\n",
    "print(model.predict(new_X))"
   ]
  },
  {
   "cell_type": "code",
   "execution_count": 31,
   "metadata": {},
   "outputs": [],
   "source": [
    "# Answer the final question : Which parameter is a better predictor of the number of sales for the product?\n",
    "# How can we answer that?\n",
    "# WHAT CAN WE INFER FROM THE BETAs ?\n"
   ]
  },
  {
   "cell_type": "markdown",
   "metadata": {},
   "source": [
    "## References\n",
    "\n",
    "*This notebook was inspired by a several blogposts including:* \n",
    "- __\"Introduction to Linear Regression in Python\"__ by __Lorraine Li__ available at* https://towardsdatascience.com/introduction-to-linear-regression-in-python-c12a072bedf0 <br>\n",
    "- __\"In Depth: Linear Regression\"__ available at* https://jakevdp.github.io/PythonDataScienceHandbook/05.06-linear-regression.html <br>\n",
    "- __\"A friendly introduction to linear regression (using Python)\"__ available at* https://www.dataschool.io/linear-regression-in-python/ <br>\n",
    "\n",
    "*Here are some great reads on linear regression:* \n",
    "- __\"Linear Regression in Python\"__ by __Sadrach Pierre__ available at* https://towardsdatascience.com/linear-regression-in-python-a1d8c13f3242 <br>\n",
    "- __\"Introduction to Linear Regression in Python\"__ available at* https://cmdlinetips.com/2019/09/introduction-to-linear-regression-in-python/ <br>\n",
    "- __\"Linear Regression in Python\"__ by __Mirko Stojiljković__ available at* https://realpython.com/linear-regression-in-python/ <br>\n",
    "\n",
    "*Here are some great videos on linear regression:* \n",
    "- __\"StatQuest: Fitting a line to data, aka least squares, aka linear regression.\"__ by __StatQuest with Josh Starmer__ available at* https://www.youtube.com/watch?v=PaFPbb66DxQ&list=PLblh5JKOoLUIzaEkCLIUxQFjPIlapw8nU <br>\n",
    "- __\"Statistics 101: Linear Regression, The Very Basics\"__ by __Brandon Foltz__ available at* https://www.youtube.com/watch?v=ZkjP5RJLQF4 <br>\n",
    "- __\"How to Build a Linear Regression Model in Python | Part 1\" and 2,3,4!__ by __Sigma Coding__ available at* https://www.youtube.com/watch?v=MRm5sBfdBBQ <br>"
   ]
  },
  {
   "cell_type": "markdown",
   "metadata": {},
   "source": [
    "## Multiple Regression\n",
    "The sklearn example is a multiple regression example where there multiple inputs - we can use it and a little trick to improve our time-speed example"
   ]
  },
  {
   "cell_type": "code",
   "execution_count": 32,
   "metadata": {},
   "outputs": [
    {
     "data": {
      "text/html": [
       "<div>\n",
       "<style scoped>\n",
       "    .dataframe tbody tr th:only-of-type {\n",
       "        vertical-align: middle;\n",
       "    }\n",
       "\n",
       "    .dataframe tbody tr th {\n",
       "        vertical-align: top;\n",
       "    }\n",
       "\n",
       "    .dataframe thead th {\n",
       "        text-align: right;\n",
       "    }\n",
       "</style>\n",
       "<table border=\"1\" class=\"dataframe\">\n",
       "  <thead>\n",
       "    <tr style=\"text-align: right;\">\n",
       "      <th></th>\n",
       "      <th>Time</th>\n",
       "      <th>Speed</th>\n",
       "      <th>xycov</th>\n",
       "      <th>xvar</th>\n",
       "    </tr>\n",
       "  </thead>\n",
       "  <tbody>\n",
       "    <tr>\n",
       "      <th>0</th>\n",
       "      <td>0.0</td>\n",
       "      <td>0.0</td>\n",
       "      <td>215.5</td>\n",
       "      <td>25.0</td>\n",
       "    </tr>\n",
       "    <tr>\n",
       "      <th>1</th>\n",
       "      <td>1.0</td>\n",
       "      <td>3.0</td>\n",
       "      <td>160.4</td>\n",
       "      <td>16.0</td>\n",
       "    </tr>\n",
       "    <tr>\n",
       "      <th>2</th>\n",
       "      <td>2.0</td>\n",
       "      <td>7.0</td>\n",
       "      <td>108.3</td>\n",
       "      <td>9.0</td>\n",
       "    </tr>\n",
       "    <tr>\n",
       "      <th>3</th>\n",
       "      <td>3.0</td>\n",
       "      <td>12.0</td>\n",
       "      <td>62.2</td>\n",
       "      <td>4.0</td>\n",
       "    </tr>\n",
       "    <tr>\n",
       "      <th>4</th>\n",
       "      <td>4.0</td>\n",
       "      <td>20.0</td>\n",
       "      <td>23.1</td>\n",
       "      <td>1.0</td>\n",
       "    </tr>\n",
       "  </tbody>\n",
       "</table>\n",
       "</div>"
      ],
      "text/plain": [
       "   Time  Speed  xycov  xvar\n",
       "0   0.0    0.0  215.5  25.0\n",
       "1   1.0    3.0  160.4  16.0\n",
       "2   2.0    7.0  108.3   9.0\n",
       "3   3.0   12.0   62.2   4.0\n",
       "4   4.0   20.0   23.1   1.0"
      ]
     },
     "execution_count": 32,
     "metadata": {},
     "output_type": "execute_result"
    }
   ],
   "source": [
    "# make sure dataframe still exists\n",
    "data.head()"
   ]
  },
  {
   "cell_type": "code",
   "execution_count": 42,
   "metadata": {},
   "outputs": [
    {
     "data": {
      "image/png": "[encoded data removed]",
      "text/plain": [
       "<Figure size 864x432 with 1 Axes>"
      ]
     },
     "metadata": {
      "needs_background": "light"
     },
     "output_type": "display_data"
    }
   ],
   "source": [
    "# Yay - lets use sklearn to do a linear fit\n",
    "predictors = ['Time']\n",
    "X = data[predictors]\n",
    "y = data['Speed']\n",
    "\n",
    "# Initialise and fit model\n",
    "lm = LinearRegression()\n",
    "model = lm.fit(X, y)\n",
    "\n",
    "fitted = model.predict(X)\n",
    "\n",
    "# Plot regression against actual data - What do we see?\n",
    "plt.figure(figsize=(12, 6))\n",
    "plt.plot(data['Time'], data['Speed'], 'o')           # scatter plot showing actual data\n",
    "plt.plot(data['Time'], fitted, 'r', linewidth=2)   # regression line\n",
    "plt.xlabel('x axis')\n",
    "plt.ylabel('y axis')\n",
    "plt.title('plot title')\n",
    "\n",
    "plt.show();"
   ]
  },
  {
   "cell_type": "markdown",
   "metadata": {},
   "source": [
    "At this point so what?  Well lets add a column to the dataframe"
   ]
  },
  {
   "cell_type": "code",
   "execution_count": 43,
   "metadata": {},
   "outputs": [],
   "source": [
    "data['TimeSq']=data['Time']**2 # add a column of time squared"
   ]
  },
  {
   "cell_type": "code",
   "execution_count": 44,
   "metadata": {},
   "outputs": [
    {
     "data": {
      "text/html": [
       "<div>\n",
       "<style scoped>\n",
       "    .dataframe tbody tr th:only-of-type {\n",
       "        vertical-align: middle;\n",
       "    }\n",
       "\n",
       "    .dataframe tbody tr th {\n",
       "        vertical-align: top;\n",
       "    }\n",
       "\n",
       "    .dataframe thead th {\n",
       "        text-align: right;\n",
       "    }\n",
       "</style>\n",
       "<table border=\"1\" class=\"dataframe\">\n",
       "  <thead>\n",
       "    <tr style=\"text-align: right;\">\n",
       "      <th></th>\n",
       "      <th>Time</th>\n",
       "      <th>Speed</th>\n",
       "      <th>xycov</th>\n",
       "      <th>xvar</th>\n",
       "      <th>TimeSq</th>\n",
       "    </tr>\n",
       "  </thead>\n",
       "  <tbody>\n",
       "    <tr>\n",
       "      <th>0</th>\n",
       "      <td>0.0</td>\n",
       "      <td>0.0</td>\n",
       "      <td>215.5</td>\n",
       "      <td>25.0</td>\n",
       "      <td>0.0</td>\n",
       "    </tr>\n",
       "    <tr>\n",
       "      <th>1</th>\n",
       "      <td>1.0</td>\n",
       "      <td>3.0</td>\n",
       "      <td>160.4</td>\n",
       "      <td>16.0</td>\n",
       "      <td>1.0</td>\n",
       "    </tr>\n",
       "    <tr>\n",
       "      <th>2</th>\n",
       "      <td>2.0</td>\n",
       "      <td>7.0</td>\n",
       "      <td>108.3</td>\n",
       "      <td>9.0</td>\n",
       "      <td>4.0</td>\n",
       "    </tr>\n",
       "    <tr>\n",
       "      <th>3</th>\n",
       "      <td>3.0</td>\n",
       "      <td>12.0</td>\n",
       "      <td>62.2</td>\n",
       "      <td>4.0</td>\n",
       "      <td>9.0</td>\n",
       "    </tr>\n",
       "    <tr>\n",
       "      <th>4</th>\n",
       "      <td>4.0</td>\n",
       "      <td>20.0</td>\n",
       "      <td>23.1</td>\n",
       "      <td>1.0</td>\n",
       "      <td>16.0</td>\n",
       "    </tr>\n",
       "  </tbody>\n",
       "</table>\n",
       "</div>"
      ],
      "text/plain": [
       "   Time  Speed  xycov  xvar  TimeSq\n",
       "0   0.0    0.0  215.5  25.0     0.0\n",
       "1   1.0    3.0  160.4  16.0     1.0\n",
       "2   2.0    7.0  108.3   9.0     4.0\n",
       "3   3.0   12.0   62.2   4.0     9.0\n",
       "4   4.0   20.0   23.1   1.0    16.0"
      ]
     },
     "execution_count": 44,
     "metadata": {},
     "output_type": "execute_result"
    }
   ],
   "source": [
    "data.head()"
   ]
  },
  {
   "cell_type": "markdown",
   "metadata": {},
   "source": [
    "Now modify the model a bit"
   ]
  },
  {
   "cell_type": "code",
   "execution_count": 54,
   "metadata": {},
   "outputs": [
    {
     "data": {
      "image/png": "[encoded data removed]",
      "text/plain": [
       "<Figure size 864x432 with 1 Axes>"
      ]
     },
     "metadata": {
      "needs_background": "light"
     },
     "output_type": "display_data"
    },
    {
     "name": "stdout",
     "output_type": "stream",
     "text": [
      "Speed at time = 77.0 is  [7001.4969697]\n"
     ]
    }
   ],
   "source": [
    "# Yay - lets use sklearn to do a multiple linear fit\n",
    "predictors = ['Time','TimeSq'] # use time and time_squared as predictors\n",
    "X = data[predictors]\n",
    "y = data['Speed']\n",
    "\n",
    "# Initialise and fit model\n",
    "lm = LinearRegression()\n",
    "model = lm.fit(X, y)\n",
    "\n",
    "fitted = model.predict(X)\n",
    "\n",
    "# Plot regression against actual data - What do we see?\n",
    "plt.figure(figsize=(12, 6))\n",
    "plt.plot(data['Time'], data['Speed'], 'o')           # scatter plot showing actual data\n",
    "plt.plot(data['Time'], fitted, 'r', linewidth=2)   # regression line\n",
    "plt.xlabel('x axis')\n",
    "plt.ylabel('y axis')\n",
    "plt.title('plot title')\n",
    "\n",
    "plt.show();\n",
    "\n",
    "# code below for next section consistency\n",
    "import warnings\n",
    "warnings.filterwarnings('ignore')\n",
    "new_X = [[77., 77.**2]]\n",
    "print('Speed at time =',new_X[0][0],'is ',model.predict(new_X))"
   ]
  },
  {
   "cell_type": "markdown",
   "metadata": {},
   "source": [
    "Which model do you prefer? Why?\n",
    "\n"
   ]
  },
  {
   "cell_type": "markdown",
   "metadata": {},
   "source": [
    "---\n",
    "\n",
    "## So how did this little change work?\n",
    "\n",
    "Back to the days of pterodactyls ...\n",
    "\n",
    "Consider the polynomial data model below: \n",
    "\n",
    "> Polynomial Model: $y_{model} = \\beta_0 + \\beta_1 x_{obs} + \\beta_2 x_{obs}^2 + ... + \\beta_n x_{obs}^n$ <br>\n",
    "<!--Logarithmic Model: $y_{model} = \\beta_0 + \\beta_1 log(x_{obs}) $<br>\n",
    "Power-Law Model: $y_{model} = \\beta_0 x_{obs}^{\\beta_1} $ <br>\n",
    "Exponential Model: $y_{model} = \\beta_0 e^{{\\beta_1}x_{obs}} $ -->\n",
    "\n",
    "One way to \"fit\" this models to data is to construct a design matrix $X$ comprised of $x_{obs}$ and ones (1). Then construct a linear system related to this design matrix.\n",
    "\n",
    "The data model as a linear system is:\n",
    "\n",
    "$$\\begin{gather}\n",
    "\\mathbf{X} \\cdot \\mathbf{\\beta} = \\mathbf{Y}\n",
    "\\end{gather}$$\n",
    "\n",
    "For example using the Polynomial Model (order 2 for brevity, but extendable as justified)\n",
    "\n",
    "\\begin{gather}\n",
    "\\mathbf{X}=\n",
    "\\begin{pmatrix}\n",
    "1 & x_1 & x_1^2\\\\\n",
    "~\\\\\n",
    "1 & x_2 & x_2^2\\\\\n",
    "~ \\\\\n",
    "1 & x_3 & x_3^2\\\\\n",
    "\\dots & \\dots & \\dots \\\\\n",
    "1 & x_n & x_n^2\\\\\n",
    "\\end{pmatrix}\n",
    "\\end{gather}\n",
    "\n",
    "\\begin{gather}\n",
    "\\mathbf{\\beta}=\n",
    "\\begin{pmatrix}\n",
    "\\beta_0 \\\\\n",
    "~\\\\\n",
    "\\beta_1 \\\\\n",
    "~ \\\\\n",
    "\\beta_2 \\\\\n",
    "\\end{pmatrix}\n",
    "\\end{gather}\n",
    "\n",
    "\\begin{gather}\n",
    "\\mathbf{X}=\n",
    "\\begin{pmatrix}\n",
    "y_1 \\\\\n",
    "~\\\\\n",
    "y_2 \\\\\n",
    "~ \\\\\n",
    "y_3 \\\\\n",
    "\\dots  \\\\\n",
    "y_n \\\\\n",
    "\\end{pmatrix}\n",
    "\\end{gather}\n",
    "\n",
    "To find the unknown $\\beta$ values the solution of the linear system below provides a \"best linear unbiased estimator (BLUE)\" fit\n",
    "\n",
    "$$\\begin{gather}\n",
    "[\\mathbf{X^T}\\mathbf{X}] \\cdot \\mathbf{\\beta} = [\\mathbf{X^T}]\\mathbf{Y}\n",
    "\\end{gather}$$\n",
    "\n",
    "or an alternative expression is\n",
    "\n",
    "$$\\begin{gather}\n",
    "\\mathbf{\\beta} = [\\mathbf{X^T}\\mathbf{X}]^{-1}[\\mathbf{X^T}]\\mathbf{Y}\n",
    "\\end{gather}$$\n",
    "\n",
    "Once the values for $\\beta$ are obtained then we can apply our plotting tools and use the model to extrapolate and interpolate.  The logarithmic, power, and exponential model will involve functions of $x$ which are known, and inverse transformations.\n",
    "\n",
    "Consider the data collected during the boost-phase of a ballistic missle.  The maximum speed of a solid-fueled missle at burn-out (when the boost-phase ends) is about 7km/s. Using this knowledge and the early-time telemetry below; fit a data model using the linear system approach and use the model to estimate boost phase burn-out.  Plot the model and data on the same axis to demonstrate the quality of the fit.\n",
    "\n",
    "|Elapsed Time (s)|Speed (m/s)|\n",
    "|---:|---:|\n",
    "|0 |0|\n",
    "|1.0 |3|\n",
    "|2.0 |7.4|\n",
    "|3.0 |16.2|\n",
    "|4.0 |23.5|\n",
    "|5.0 |32.2|\n",
    "|6.0 | 42.2| \n",
    "|7.0 | 65.1 |\n",
    "|8.0 | 73.5 |\n",
    "|9.0 | 99.3 |\n",
    "|10.0| 123.4|"
   ]
  },
  {
   "cell_type": "code",
   "execution_count": 56,
   "metadata": {},
   "outputs": [
    {
     "data": {
      "image/png": "[encoded data removed]",
      "text/plain": [
       "<Figure size 720x360 with 1 Axes>"
      ]
     },
     "metadata": {
      "needs_background": "light"
     },
     "output_type": "display_data"
    },
    {
     "name": "stdout",
     "output_type": "stream",
     "text": [
      "Estimated time to burn-out is:  77.94  seconds;  Speed at burn-out is:  7000.097032727258  meters/second\n"
     ]
    }
   ],
   "source": [
    "# start with the early-time data\n",
    "time = [0,1.0,2.0,3.0,4.0,5.0,6.0,7.0,8.0,9.0,10.0]\n",
    "speed = [0,3,7.4,16.2,23.5,32.2,42.2, 65.1 ,73.5 ,99.3 ,123.4,]\n",
    "##############################\n",
    "import numpy\n",
    "X = [numpy.ones(len(time)),numpy.array(time),numpy.array(time)**2] # build the design X matrix #\n",
    "X = numpy.transpose(X) # get into correct shape for linear solver\n",
    "Y = numpy.array(speed) # build the response Y vector\n",
    "A = numpy.transpose(X)@X # build the XtX matrix\n",
    "b = numpy.transpose(X)@Y # build the XtY vector\n",
    "x = numpy.linalg.solve(A,b) # avoid inversion and just solve the linear system \n",
    "#print(x)\n",
    "def polynomial(b0,b1,b2,time):\n",
    "    polynomial = b0+b1*time+b2*time**2\n",
    "    return(polynomial)\n",
    "\n",
    "my_model = [0 for i in range(len(time))]\n",
    "for i in range(len(time)):\n",
    "    my_model[i] = polynomial(x[0],x[1],x[2],time[i])\n",
    "#print(my_model)\n",
    "\n",
    "import matplotlib.pyplot as plt\n",
    "def make2plot(listx1,listy1,listx2,listy2,strlablx,strlably,strtitle):\n",
    "    mydata = plt.figure(figsize = (10,5)) # build a square drawing canvass from figure class\n",
    "    plt.plot(listx1,listy1, c='red', marker='v',linewidth=0) # basic data plot\n",
    "    plt.plot(listx2,listy2, c='blue',linewidth=1) # basic model plot\n",
    "    plt.xlabel(strlablx)\n",
    "    plt.ylabel(strlably)\n",
    "    plt.legend(['Observations','Model'])# modify for argument insertion\n",
    "    plt.title(strtitle)\n",
    "    plt.show()\n",
    "    return\n",
    "\n",
    "make2plot(time,speed,time,my_model,\"Time\",\"Speed\",\"Kim's da bomb!\");\n",
    "\n",
    "ttb = 77.94\n",
    "print('Estimated time to burn-out is: ',ttb,' seconds;  Speed at burn-out is: ',polynomial(x[0],x[1],x[2],ttb),' meters/second')"
   ]
  },
  {
   "cell_type": "code",
   "execution_count": null,
   "metadata": {},
   "outputs": [],
   "source": []
  }
 ],
 "metadata": {
  "kernelspec": {
   "display_name": "Python 3",
   "language": "python",
   "name": "python3"
  },
  "language_info": {
   "codemirror_mode": {
    "name": "ipython",
    "version": 3
   },
   "file_extension": ".py",
   "mimetype": "text/x-python",
   "name": "python",
   "nbconvert_exporter": "python",
   "pygments_lexer": "ipython3",
   "version": "3.8.10"
  }
 },
 "nbformat": 4,
 "nbformat_minor": 4
}
