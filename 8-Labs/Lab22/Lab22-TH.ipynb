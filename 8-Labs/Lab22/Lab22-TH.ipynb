{
 "cells": [
  {
   "cell_type": "markdown",
   "metadata": {},
   "source": [
    "**Download** (right-click, save target as ...) this page as a jupyterlab notebook [Lab22-TH](http://54.243.252.9/engr-1330-webroot/8-Labs/Lab22/Lab22-TH.ipynb)\n",
    "\n",
    "___"
   ]
  },
  {
   "cell_type": "markdown",
   "metadata": {},
   "source": [
    "# <font color=darkred>Exercise Set 22: \"Reject it or Fail!\" or a Lab on \"Hypothesis Testing\" </font>\n",
    "\n",
    "LAST NAME, FIRST NAME\n",
    "\n",
    "R00000000\n",
    "\n",
    "ENGR 1330 Exercise Set 22 \n",
    "\n",
    "___"
   ]
  },
  {
   "cell_type": "markdown",
   "metadata": {},
   "source": [
    "## Exercise 1\n",
    "The data below are the impact impact strength of packaging materials in foot-pounds of two branded boxes. Produce a histogram of the two series, and determine if there is evidence of a difference in mean strength between the two brands.  Use an appropriate hypothesis test to support your assertion at a level of significance of $\\alpha = 0.10$. \n",
    "\n",
    "| Amazon Branded Boxes | Walmart Branded Boxes |\n",
    "|:---|:---|\n",
    "| 1.25| 0.89|\n",
    "| 1.16| 1.01|\n",
    "| 1.33| 0.97|\n",
    "| 1.15| 0.95|\n",
    "| 1.23| 0.94|\n",
    "| 1.20| 1.02|\n",
    "| 1.32| 0.98|\n",
    "| 1.28| 1.06|\n",
    "| 1.21| 0.98|\n",
    "| 1.14| 0.94|\n",
    "| 1.17| 1.02|\n",
    "| 1.34| 0.98|\n",
    "\n",
    "## Deliverables:\n",
    "\n",
    "- Working scripts that produce perform the necessary tests\n",
    "- Narrative (or print blocks) that supply answer questions\n",
    "- CCMR citations for sources  (URL for outside sources is OK)\n",
    "\n",
    "## Hints:\n",
    "\n",
    "- A suggested set of code cells is listed below\n",
    "- Add/remove cells as needed for your solution"
   ]
  },
  {
   "cell_type": "code",
   "execution_count": 1,
   "metadata": {},
   "outputs": [],
   "source": [
    "# define lists and make into dataframe "
   ]
  },
  {
   "cell_type": "code",
   "execution_count": 24,
   "metadata": {},
   "outputs": [],
   "source": [
    "# describe lists/dataframe "
   ]
  },
  {
   "cell_type": "code",
   "execution_count": 25,
   "metadata": {},
   "outputs": [],
   "source": [
    "# histograms"
   ]
  },
  {
   "cell_type": "code",
   "execution_count": 26,
   "metadata": {},
   "outputs": [],
   "source": [
    "# hypothesis tests are means same? (test for nomrality then t-test if normal; mann-whitney if non-normal)"
   ]
  },
  {
   "cell_type": "code",
   "execution_count": 27,
   "metadata": {},
   "outputs": [],
   "source": [
    "# interpret findings (could be a markdown cell, or embed into code)"
   ]
  }
 ],
 "metadata": {
  "kernelspec": {
   "display_name": "Python 3",
   "language": "python",
   "name": "python3"
  },
  "language_info": {
   "codemirror_mode": {
    "name": "ipython",
    "version": 3
   },
   "file_extension": ".py",
   "mimetype": "text/x-python",
   "name": "python",
   "nbconvert_exporter": "python",
   "pygments_lexer": "ipython3",
   "version": "3.8.10"
  }
 },
 "nbformat": 4,
 "nbformat_minor": 4
}
