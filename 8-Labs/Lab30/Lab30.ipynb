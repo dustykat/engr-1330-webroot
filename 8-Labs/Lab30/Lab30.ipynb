{
 "cells": [
  {
   "cell_type": "code",
   "execution_count": null,
   "metadata": {},
   "outputs": [],
   "source": []
  },
  {
   "cell_type": "markdown",
   "metadata": {},
   "source": [
    "**Download** (right-click, save target as ...) this page as a jupyterlab notebook [Lab 30](http://54.243.252.9/engr-1330-webroot/8-Labs/Lab30/Lab30.ipynb)\n",
    "\n",
    "___"
   ]
  },
  {
   "cell_type": "markdown",
   "metadata": {},
   "source": [
    "# <font color=darkblue>Laboratory 30: Logarithmic and Power-Law Models </font>\n",
    "\n",
    "LAST NAME, FIRST NAME\n",
    "\n",
    "R00000000\n",
    "\n",
    "ENGR 1330 Laboratory 30 - In Lab\n",
    "\n",
    "___\n"
   ]
  },
  {
   "cell_type": "markdown",
   "metadata": {},
   "source": [
    "## Background\n",
    "\n",
    "The last couple lessons contain the needed logic, so just apply to the problem below\n",
    "\n",
    "## Exercise 1\n",
    "\n",
    "Using methods in the lesson, fit an appropriate data model to the voltage versus time data below. Use the data model to determine\n",
    "\n",
    "1. What voltage do you expect after 1.5 seconds?\n",
    "2. What voltage do you expect after 15.0 seconds?\n",
    "3. How long will it take for the voltage to decline to 1.5 volts?\n",
    "4. How long will it take for the voltage to decline to 0.17 volts?\n",
    "\n",
    "|Time(sec)|Voltage(V)|\n",
    "|---:|---:|\n",
    "|0|9.8|\n",
    "|1|5.9|\n",
    "|2|3.9|\n",
    "|3|2.1|\n",
    "|4|1.0|\n",
    "|5|0.8|\n",
    "|6|0.6|\n",
    "|7|0.4|\n",
    "|8|0.3|\n",
    "|9|0.2|\n",
    "|10|0.1|\n"
   ]
  },
  {
   "cell_type": "code",
   "execution_count": null,
   "metadata": {},
   "outputs": [],
   "source": [
    "# Load the necessary packages\n",
    "# build the data lists\n",
    "# build a dataframe\n",
    "# Initialise and fit regression model using `statsmodels`\n",
    "# Predict values\n",
    "# Plot regression against actual data\n",
    "# Is the model \"good\" if not try a different data model (linear,exponential,power law,logarithmic,polynomial)\n",
    "\n",
    "# with your \"good\" model answer the questions"
   ]
  }
 ],
 "metadata": {
  "kernelspec": {
   "display_name": "Python 3",
   "language": "python",
   "name": "python3"
  },
  "language_info": {
   "codemirror_mode": {
    "name": "ipython",
    "version": 3
   },
   "file_extension": ".py",
   "mimetype": "text/x-python",
   "name": "python",
   "nbconvert_exporter": "python",
   "pygments_lexer": "ipython3",
   "version": "3.8.10"
  }
 },
 "nbformat": 4,
 "nbformat_minor": 4
}
