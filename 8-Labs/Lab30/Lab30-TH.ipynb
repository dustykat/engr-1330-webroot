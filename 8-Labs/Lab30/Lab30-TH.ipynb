{
 "cells": [
  {
   "cell_type": "code",
   "execution_count": null,
   "metadata": {},
   "outputs": [],
   "source": []
  },
  {
   "cell_type": "markdown",
   "metadata": {},
   "source": [
    "**Download** (right-click, save target as ...) this page as a jupyterlab notebook [Lab29](http://54.243.252.9/engr-1330-webroot/8-Labs/Lab30/Lab30-TH.ipynb)\n",
    "\n",
    "___"
   ]
  },
  {
   "cell_type": "markdown",
   "metadata": {},
   "source": [
    "# <font color=darkblue>Laboratory 30: Exponential, Logarithmic, Power-Law Models </font>\n",
    "\n",
    "LAST NAME, FIRST NAME\n",
    "\n",
    "R00000000\n",
    "\n",
    "ENGR 1330 Exercise 30 - Homework\n",
    "\n",
    "___\n"
   ]
  },
  {
   "cell_type": "markdown",
   "metadata": {},
   "source": [
    "## Exercise 1\n",
    "\n",
    "The following data are the temperature as a function of vertical depth in a chemically active settling pond. \n",
    "\n",
    "|Depth (cm)|Temp ($^o$C)|\n",
    "|---:|---:|\n",
    "|0.1|21.2|\n",
    "|0.8|27.3|\n",
    "|3.6|31.8|\n",
    "|12| 35.6|\n",
    "|120 | 42.3|\n",
    "|390 | 45.9|\n",
    "|710 | 47.7|\n",
    "|1200| 49.2|\n",
    "|1800| 50.5|\n",
    "|2400| 51.4|\n",
    "\n",
    "Fit the following data models.\n",
    "\n",
    "1. Linear data model\n",
    "2. Exponential data model\n",
    "3. Logarithmic data model\n",
    "4. Power-law model\n",
    "\n",
    "Produce a plot of the data and data model for each model (4 plots)\n",
    "\n",
    "Select the \"best\" model based on the $R^2$ value. \n",
    "\n",
    "Use the best model to predict the temperature at 1 meter and 2 meters depth.\n",
    "\n"
   ]
  },
  {
   "cell_type": "code",
   "execution_count": 1,
   "metadata": {},
   "outputs": [],
   "source": [
    "# Load the necessary packages\n",
    "import numpy as np\n",
    "import pandas as pd\n",
    "import statistics \n",
    "import math\n",
    "from matplotlib import pyplot as plt\n",
    "import statsmodels.formula.api as smf"
   ]
  },
  {
   "cell_type": "code",
   "execution_count": null,
   "metadata": {},
   "outputs": [],
   "source": [
    "# build the data lists\n",
    "# build a dataframe\n",
    "# Initialise and fit a linear regression model using `statsmodels`\n",
    "# Predict values\n",
    "# Plot regression against actual data\n"
   ]
  },
  {
   "cell_type": "code",
   "execution_count": null,
   "metadata": {},
   "outputs": [],
   "source": [
    "# build the data lists\n",
    "# build a dataframe\n",
    "# Initialise and fit an exponential regression model using `statsmodels`\n",
    "# Predict values\n",
    "# Plot regression against actual data\n"
   ]
  },
  {
   "cell_type": "code",
   "execution_count": null,
   "metadata": {},
   "outputs": [],
   "source": [
    "# build the data lists\n",
    "# build a dataframe\n",
    "# Initialise and fit a logarithmic regression model using `statsmodels`\n",
    "# Predict values\n",
    "# Plot regression against actual data\n"
   ]
  },
  {
   "cell_type": "code",
   "execution_count": null,
   "metadata": {},
   "outputs": [],
   "source": [
    "# build the data lists\n",
    "# build a dataframe\n",
    "# Initialise and fit a power-law regression model using `statsmodels`\n",
    "# Predict values\n",
    "# Plot regression against actual data\n"
   ]
  },
  {
   "cell_type": "code",
   "execution_count": null,
   "metadata": {},
   "outputs": [],
   "source": [
    "# Choose the \"good\" data model\n",
    "# With your \"good\" model answer the questions"
   ]
  },
  {
   "cell_type": "code",
   "execution_count": null,
   "metadata": {},
   "outputs": [],
   "source": []
  }
 ],
 "metadata": {
  "kernelspec": {
   "display_name": "Python 3",
   "language": "python",
   "name": "python3"
  },
  "language_info": {
   "codemirror_mode": {
    "name": "ipython",
    "version": 3
   },
   "file_extension": ".py",
   "mimetype": "text/x-python",
   "name": "python",
   "nbconvert_exporter": "python",
   "pygments_lexer": "ipython3",
   "version": "3.8.10"
  }
 },
 "nbformat": 4,
 "nbformat_minor": 4
}
