{
 "cells": [
  {
   "cell_type": "markdown",
   "metadata": {},
   "source": [
    "**Download** (right-click, save target as ...) this page as a jupyterlab notebook from: [Lab12](http://54.243.252.9/engr-1330-webroot/8-Labs/Lab12/Lab12.ipynb)\n",
    "\n",
    "___"
   ]
  },
  {
   "cell_type": "markdown",
   "metadata": {},
   "source": [
    "# <font color=darkred>Laboratory 12: Practice with Pandas </font>\n",
    "\n",
    "**LAST NAME, FIRST NAME**\n",
    "\n",
    "**R00000000**\n",
    "\n",
    "ENGR 1330 Laboratory 7.1 - In-Lab"
   ]
  },
  {
   "cell_type": "markdown",
   "metadata": {},
   "source": [
    "## Exercise 1\n",
    "Profile your computer\n",
    "\n",
    "Run the script below exactly as written"
   ]
  },
  {
   "cell_type": "code",
   "execution_count": 6,
   "metadata": {},
   "outputs": [
    {
     "name": "stdout",
     "output_type": "stream",
     "text": [
      "atomickitty\n",
      "sensei\n",
      "/opt/jupyterhub/bin/python3\n"
     ]
    }
   ],
   "source": [
    "import sys\n",
    "! hostname\n",
    "! whoami\n",
    "print(sys.executable)"
   ]
  },
  {
   "cell_type": "markdown",
   "metadata": {},
   "source": [
    "___\n",
    "\n",
    "## Exercise 2\n",
    "\n",
    "This laboratory will work with a winequality database, our first step is to get the database.  Run the script below to get the database.  If it does not work for you, then manually get the database from the URL in the script"
   ]
  },
  {
   "cell_type": "code",
   "execution_count": 9,
   "metadata": {},
   "outputs": [],
   "source": [
    "######### CODE TO AUTOMATICALLY DOWNLOAD THE DATABASE ################\n",
    "#! pip install requests #install packages into local environment\n",
    "import requests # import needed modules to interact with the internet\n",
    "# make the connection to the remote file (actually its implementing \"bash curl -O http://fqdn/path ...\")\n",
    "remote_url = 'https://archive.ics.uci.edu/ml/machine-learning-databases/wine-quality/winequality-red.csv' # a csv file\n",
    "response = requests.get(remote_url) # Gets the file contents puts into an object\n",
    "output = open('winequality-red.csv', 'wb') # Prepare a destination, local\n",
    "output.write(response.content) # write contents of object to named local file\n",
    "output.close() # close the connection"
   ]
  },
  {
   "cell_type": "markdown",
   "metadata": {},
   "source": [
    "1. Verify you have the database.  Paste a screen capture of your proof of sucessful download.  Ways to verify:\n",
    "- Open the database in the file system; screen capture the database or\n",
    "- Use a system command like ! ls -la winequality-red.csv, observe the output.  The file should have a non-zero size."
   ]
  },
  {
   "cell_type": "code",
   "execution_count": 10,
   "metadata": {},
   "outputs": [
    {
     "name": "stdout",
     "output_type": "stream",
     "text": [
      "-rw-rw-r-- 1 sensei sensei 84199 Feb 15 23:20 winequality-red.csv\n"
     ]
    }
   ],
   "source": [
    "! ls -la winequality-red.csv"
   ]
  },
  {
   "cell_type": "markdown",
   "metadata": {},
   "source": [
    "2.  Read the data as a data frame and print the first few rows. In a few lines explain what can be understood about the data from this."
   ]
  },
  {
   "cell_type": "code",
   "execution_count": null,
   "metadata": {},
   "outputs": [],
   "source": [
    "# your code here"
   ]
  },
  {
   "cell_type": "markdown",
   "metadata": {},
   "source": [
    "### Put your explaination here\n",
    "\n",
    "...\n",
    "\n",
    "..."
   ]
  },
  {
   "cell_type": "markdown",
   "metadata": {},
   "source": [
    "2.  Use the appropriate function and get a summary of information on the data frame. Explain what you can learn from this summary report."
   ]
  },
  {
   "cell_type": "code",
   "execution_count": null,
   "metadata": {},
   "outputs": [],
   "source": []
  },
  {
   "cell_type": "markdown",
   "metadata": {},
   "source": [
    "3.  Are there any missing values in the data? Justify your answer. "
   ]
  },
  {
   "cell_type": "code",
   "execution_count": null,
   "metadata": {},
   "outputs": [],
   "source": []
  },
  {
   "cell_type": "markdown",
   "metadata": {},
   "source": [
    "4.  Use the appropriate function and get the 5-number summary for the data frame. Explain what you can learn from this summary report for each column."
   ]
  },
  {
   "cell_type": "code",
   "execution_count": null,
   "metadata": {},
   "outputs": [],
   "source": []
  },
  {
   "cell_type": "markdown",
   "metadata": {},
   "source": [
    "5.  Rename the \"quality (score _0to10)\" column heading to \"quality\""
   ]
  },
  {
   "cell_type": "code",
   "execution_count": null,
   "metadata": {},
   "outputs": [],
   "source": []
  },
  {
   "cell_type": "markdown",
   "metadata": {},
   "source": [
    "6.  Make a subset of all the wines with a quality above 7. Name this subset \"TopQ\"."
   ]
  },
  {
   "cell_type": "code",
   "execution_count": null,
   "metadata": {},
   "outputs": [],
   "source": []
  },
  {
   "cell_type": "markdown",
   "metadata": {},
   "source": [
    "7. What percentage of wines in \"TopQ\" has an alcohol content less than 10%? What is this percentage out of the entire set of wine (the original data)?"
   ]
  },
  {
   "cell_type": "code",
   "execution_count": null,
   "metadata": {},
   "outputs": [],
   "source": []
  },
  {
   "cell_type": "markdown",
   "metadata": {},
   "source": [
    "8. Print the above subset of the dataframe, sorted by wine quality. "
   ]
  },
  {
   "cell_type": "code",
   "execution_count": null,
   "metadata": {},
   "outputs": [],
   "source": []
  },
  {
   "cell_type": "markdown",
   "metadata": {},
   "source": [
    "9. Define a function that labels the wines based on their quality according to the table below: <br>\n",
    "\n",
    "|Quality Score|Label.|\n",
    "|---:|---:|\n",
    "|q>= 7|Top|\n",
    "|5<q<7|Average|\n",
    "|q<=5|Low|"
   ]
  },
  {
   "cell_type": "code",
   "execution_count": null,
   "metadata": {},
   "outputs": [],
   "source": []
  },
  {
   "cell_type": "markdown",
   "metadata": {},
   "source": [
    "10. Apply the function on the data frame and store the result in a new column \"Qlabel\"."
   ]
  },
  {
   "cell_type": "code",
   "execution_count": null,
   "metadata": {},
   "outputs": [],
   "source": []
  },
  {
   "cell_type": "markdown",
   "metadata": {},
   "source": [
    "11. Report the share of each quality label in percentage."
   ]
  },
  {
   "cell_type": "code",
   "execution_count": null,
   "metadata": {},
   "outputs": [],
   "source": []
  },
  {
   "cell_type": "markdown",
   "metadata": {},
   "source": [
    "12. Plot a histogram of pH for all the Low quality wines. Explain what you can infer from this plot."
   ]
  },
  {
   "cell_type": "code",
   "execution_count": null,
   "metadata": {},
   "outputs": [],
   "source": []
  },
  {
   "cell_type": "markdown",
   "metadata": {},
   "source": [
    "13. Make a similar histogram for pH for all the Top quality wines. "
   ]
  },
  {
   "cell_type": "code",
   "execution_count": null,
   "metadata": {},
   "outputs": [],
   "source": []
  },
  {
   "cell_type": "markdown",
   "metadata": {},
   "source": [
    "### Bonus\n",
    "Put the new histogram and the previous one next to each other and explain what you can infer by comparing them."
   ]
  },
  {
   "cell_type": "markdown",
   "metadata": {},
   "source": []
  }
 ],
 "metadata": {
  "kernelspec": {
   "display_name": "Python 3",
   "language": "python",
   "name": "python3"
  },
  "language_info": {
   "codemirror_mode": {
    "name": "ipython",
    "version": 3
   },
   "file_extension": ".py",
   "mimetype": "text/x-python",
   "name": "python",
   "nbconvert_exporter": "python",
   "pygments_lexer": "ipython3",
   "version": "3.8.10"
  }
 },
 "nbformat": 4,
 "nbformat_minor": 4
}
