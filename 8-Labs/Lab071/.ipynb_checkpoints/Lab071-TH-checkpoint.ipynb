{
 "cells": [
  {
   "cell_type": "markdown",
   "metadata": {},
   "source": [
    "**Download** (right-click, save target as ...) this page as a jupyterlab notebook from: [ES-7.1-TH](http://54.243.252.9/engr-1330-webroot/8-Labs/Lab071/Lab071-TH.ipynb)\n",
    "\n",
    "___"
   ]
  },
  {
   "cell_type": "markdown",
   "metadata": {},
   "source": [
    "# <font color=darkred>Exercise Set 7.1: FILE it for later ...  </font>\n",
    "\n",
    "**LAST NAME, FIRST NAME**\n",
    "\n",
    "**R00000000**\n",
    "\n",
    "ENGR 1330 ES-7 - Homework"
   ]
  },
  {
   "cell_type": "markdown",
   "metadata": {},
   "source": [
    "\n",
    "___\n",
    "\n",
    "## Reading and Writing Files - using `requests` \n"
   ]
  },
  {
   "cell_type": "markdown",
   "metadata": {},
   "source": [
    "## Exercise 1\n",
    "The file [http://54.243.252.9/engr-1330-webroot/8-Labs/Lab07/ts-data.txt](http://54.243.252.9/engr-1330-webroot/8-Labs/Lab07/ts-data.txt) contains two columns as shown below:\n",
    "\n",
    "        Time,Speed\n",
    "        0.0,0.0\n",
    "        1.0,3.0\n",
    "        2.0,7.0\n",
    "        3.0,12.0\n",
    "        4.0,20.0\n",
    "        5.0,30.0\n",
    "        6.0,45.6\n",
    "        \n",
    "The first column is time in seconds, the second is the speed of an object in meters/second.  \n",
    "\n",
    "\n",
    "First download the file using the **requests** module\n",
    "\n",
    ">```\n",
    "import requests # Module to process http/https requests\n",
    "remote_url=\"http://54.243.252.9/engr-1330-webroot/8-Labs/Lab07/ts-data.txt\"  # set the url\n",
    "rget = requests.get(remote_url, allow_redirects=True)  # get the remote resource, follow imbedded links\n",
    "localfile = open('ts-data.txt','wb') # open connection to a local file same name as remote\n",
    "localfile.write(rget.content) # extract from the remote the contents,insert into the local file same name\n",
    "localfile.close() # close connection to the local file\n",
    "\n",
    "\n",
    "Build a script that reads the data in the file, and then captures from the first row the two column labels (as strings) to be passed to the `plotAline` function below.  Also put the numeric values into two lists as floats for passing to the `plotAline` function.  Put your code after the `plotAline` definition"
   ]
  },
  {
   "cell_type": "code",
   "execution_count": 20,
   "metadata": {},
   "outputs": [],
   "source": [
    "# use this code as-is!\n",
    "\n",
    "import sys\n",
    "! hostname\n",
    "! whoami\n",
    "print(sys.executable)\n",
    "print(sys.version)\n",
    "print(sys.version_info)\n",
    "\n",
    "def plotAline(list1,list2,strx,stry,strtitle): # plot list1 on x, list2 on y, xlabel, ylabel, title\n",
    "    from matplotlib import pyplot as plt # import the plotting library from matplotlibplt.show()\n",
    "    plt.plot( list1, list2, color ='green', marker ='o', linestyle ='solid') # create a line chart, years on x-axis, gdp on y-axis\n",
    "    plt.title(strtitle)# add a title\n",
    "    plt.ylabel(stry)# add a label to the x and y-axes\n",
    "    plt.xlabel(strx)\n",
    "    plt.show() # display the plot\n",
    "    return #null return"
   ]
  },
  {
   "cell_type": "code",
   "execution_count": 21,
   "metadata": {},
   "outputs": [],
   "source": [
    "# put your code here !\n",
    "# download the file\n",
    "# read the file \n",
    "#   open file connection\n",
    "#   read line 1\n",
    "#   parse the line to get values for strx and stry to send to the plotter\n",
    "#   for ... read remaining lines\n",
    "#   close the connection\n",
    "# process lines to build lists\n",
    "# list1 = ...\n",
    "# list2 = ...\n",
    "# strx = '...'\n",
    "# stry = '...'\n",
    "# plot_title = '...'\n",
    "# plotAline(list1,list2,strx,stry,plot_title) #activate this line to make the plot"
   ]
  },
  {
   "cell_type": "markdown",
   "metadata": {},
   "source": [
    "___\n",
    "\n",
    "## References\n",
    "\n",
    "1. Python file manipulations [https://www.tutorialspoint.com/python/python_files_io.htm](https://www.tutorialspoint.com/python/python_files_io.htm)\n",
    "\n",
    "2. **requests** module. [https://docs.python-requests.org/en/latest/](https://docs.python-requests.org/en/latest/)\n",
    "\n"
   ]
  },
  {
   "cell_type": "code",
   "execution_count": null,
   "metadata": {},
   "outputs": [],
   "source": []
  }
 ],
 "metadata": {
  "kernelspec": {
   "display_name": "Python 3",
   "language": "python",
   "name": "python3"
  },
  "language_info": {
   "codemirror_mode": {
    "name": "ipython",
    "version": 3
   },
   "file_extension": ".py",
   "mimetype": "text/x-python",
   "name": "python",
   "nbconvert_exporter": "python",
   "pygments_lexer": "ipython3",
   "version": "3.8.10"
  }
 },
 "nbformat": 4,
 "nbformat_minor": 4
}
