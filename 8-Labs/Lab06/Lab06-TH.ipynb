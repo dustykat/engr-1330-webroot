{
 "cells": [
  {
   "cell_type": "markdown",
   "metadata": {},
   "source": [
    "**Download** (right-click, save target as ...) this page as a jupyterlab notebook from: [Lab6-HW](https://atomickitty.ddns.net/engr-1330-webroot/8-Labs/Lab06/Lab06-TH.ipynb)\n",
    "\n",
    "___"
   ]
  },
  {
   "cell_type": "markdown",
   "metadata": {},
   "source": [
    "# <font color=darkred>Laboratory 6: FUN with functions </font>\n",
    "\n",
    "**LAST NAME, FIRST NAME**\n",
    "\n",
    "**R00000000**\n",
    "\n",
    "ENGR 1330 Laboratory 6 - Homework"
   ]
  },
  {
   "cell_type": "code",
   "execution_count": 1,
   "metadata": {},
   "outputs": [
    {
     "name": "stdout",
     "output_type": "stream",
     "text": [
      "atomickitty\n",
      "sensei\n",
      "/opt/jupyterhub/bin/python3\n",
      "3.8.10 (default, Jun  2 2021, 10:49:15) \n",
      "[GCC 9.4.0]\n",
      "sys.version_info(major=3, minor=8, micro=10, releaselevel='final', serial=0)\n"
     ]
    }
   ],
   "source": [
    "# Preamble script block to identify host, user, and kernel\n",
    "import sys\n",
    "! hostname\n",
    "! whoami\n",
    "print(sys.executable)\n",
    "print(sys.version)\n",
    "print(sys.version_info)"
   ]
  },
  {
   "cell_type": "markdown",
   "metadata": {},
   "source": [
    "___\n",
    "\n",
    "## Exercise 1 \n",
    "\n",
    "Make a function that cubes its input:\n",
    "\n",
    "$$ f(x) = x^3 $$\n",
    "\n",
    "and test it for the following values of x:\n",
    "\n",
    "- -1\n",
    "- 0.0\n",
    "- 1.0\n",
    "- 2.0\n",
    "- 3.0"
   ]
  },
  {
   "cell_type": "markdown",
   "metadata": {},
   "source": [
    "---\n",
    "\n",
    "## Exercise 2\n",
    "\n",
    "Generate two lists:\n",
    "\n",
    "1. `x` ranging from 0 to 9 in steps of 1\n",
    "2. `f(x)` from your function in Exercise 1\n",
    "\n",
    "Use the `plotAline()` function (below) to create a plot of\n",
    "\n",
    "$$ y = x^3 $$\n",
    "\n",
    "for x raging from 0 to 9 (inclusive) in steps of 1.\n",
    "\n",
    "Label the plot and the plot axes.\n",
    "\n",
    "A wrapper script is included below that needs completion to work and draw the plot."
   ]
  },
  {
   "cell_type": "code",
   "execution_count": 47,
   "metadata": {},
   "outputs": [],
   "source": [
    "def plotAline(list1,list2,strx,stry,strtitle): # plot list1 on x, list2 on y, xlabel, ylabel, title\n",
    "    import matplotlib.pyplot # import the plotting library from matplotlib.pyplot\n",
    "    matplotlib.pyplot.plot( list1, list2, color ='green', marker ='o', linestyle ='solid') # create a line chart, years on x-axis, gdp on y-axis\n",
    "    matplotlib.pyplot.title(strtitle)# add a title\n",
    "    matplotlib.pyplot.ylabel(stry)# add a label to the x and y-axes\n",
    "    matplotlib.pyplot.xlabel(strx)\n",
    "    matplotlib.pyplot.show() # display the plot\n",
    "    return #null return"
   ]
  },
  {
   "cell_type": "code",
   "execution_count": 1,
   "metadata": {},
   "outputs": [],
   "source": [
    "# wrapper script\n",
    "x = []  # define two lists \n",
    "y = []\n",
    "plotAline(x,y,\"x\",\" x^3\",\"Plot of y=x^3\")"
   ]
  },
  {
   "cell_type": "markdown",
   "metadata": {},
   "source": [
    "___\n",
    "## Exercise 3\n",
    "\n",
    "Modify the wrapper script for the `plotAline()` function to create a plot of\n",
    "$$ x = 16sin^3(t) $$\n",
    "$$ y = 13cos(t) - 5cos(2t) - 2cos(3t) - cos(4t) $$\n",
    "for t raging from [0,2$\\Pi$] (inclusive).\n",
    "\n",
    "Label the plot and the plot axes.\n"
   ]
  },
  {
   "cell_type": "code",
   "execution_count": null,
   "metadata": {},
   "outputs": [],
   "source": []
  }
 ],
 "metadata": {
  "kernelspec": {
   "display_name": "Python 3",
   "language": "python",
   "name": "python3"
  },
  "language_info": {
   "codemirror_mode": {
    "name": "ipython",
    "version": 3
   },
   "file_extension": ".py",
   "mimetype": "text/x-python",
   "name": "python",
   "nbconvert_exporter": "python",
   "pygments_lexer": "ipython3",
   "version": "3.8.10"
  }
 },
 "nbformat": 4,
 "nbformat_minor": 4
}
