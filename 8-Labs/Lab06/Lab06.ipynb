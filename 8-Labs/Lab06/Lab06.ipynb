{
 "cells": [
  {
   "cell_type": "markdown",
   "metadata": {},
   "source": [
    "**Download** (right-click, save target as ...) this page as a jupyterlab notebook from: [Lab6](http://54.243.252.9/engr-1330-webroot/8-Labs/Lab06/Lab06.ipynb)\n",
    "\n",
    "___"
   ]
  },
  {
   "cell_type": "markdown",
   "metadata": {},
   "source": [
    "# <font color=darkred>Laboratory 6: FUN with functions </font>\n",
    "\n",
    "**LAST NAME, FIRST NAME**\n",
    "\n",
    "**R00000000**\n",
    "\n",
    "ENGR 1330 Laboratory 6 - In-Lab"
   ]
  },
  {
   "cell_type": "code",
   "execution_count": 1,
   "metadata": {},
   "outputs": [
    {
     "name": "stdout",
     "output_type": "stream",
     "text": [
      "atomickitty\n",
      "sensei\n",
      "/opt/jupyterhub/bin/python3\n",
      "3.8.10 (default, Jun  2 2021, 10:49:15) \n",
      "[GCC 9.4.0]\n",
      "sys.version_info(major=3, minor=8, micro=10, releaselevel='final', serial=0)\n"
     ]
    }
   ],
   "source": [
    "# Preamble script block to identify host, user, and kernel\n",
    "import sys\n",
    "! hostname\n",
    "! whoami\n",
    "print(sys.executable)\n",
    "print(sys.version)\n",
    "print(sys.version_info)"
   ]
  },
  {
   "cell_type": "markdown",
   "metadata": {},
   "source": [
    "\n",
    "___"
   ]
  },
  {
   "cell_type": "markdown",
   "metadata": {},
   "source": [
    "## <font color=purple>What is a function in Python?</font>\n",
    "\n",
    "Functions are simply pre-written code fragments that perform a certain task.\n",
    "\n",
    "___\n",
    "## <font color=purple>How do I implement (call) the function?</font>\n",
    "\n",
    "We call a function simply by typing the name of the function or by using the dot notation.\n",
    "Whether we can use the dot notation or not depends on how the function is written, whether it is part of a class, and how it is imported into a program.\n",
    "\n",
    "Some functions expect us to pass data to them to perform their tasks. \n",
    "These data are known as parameters( older terminology is arguments, or argument list) and we pass them to the function by enclosing their values in parenthesis ( ) separated by commas. \n",
    "\n",
    "For instance, the `print()` function for displaying text on the screen is \\called\" by typing `print('Hello World')` where print is the name of the function and the literal (a string) 'Hello World' is the argument.\n",
    "___\n",
    "## <font color=purple>How does a function fit within the program flow ?</font>\n",
    "\n",
    "A function, whether built-in, or added **must be defined before it is called**, otherwise the script will fail.  \n",
    "Certain built-in functions \"self define\" upon start (such as `print()` and `type()` and we need not worry about those funtions).  "
   ]
  },
  {
   "cell_type": "markdown",
   "metadata": {},
   "source": [
    "___\n",
    "\n",
    "## Example(s)\n",
    "The example below illustrate some features of functions. The forst code block should generate an error because the **math** package is not yet imported (if you have it from another notebook, just restart the kernel to clear everything).\n",
    "Then fix the indicated line (remove the leading \"#\" in the import math ... line) and rerun, should get a functioning script.\n",
    "\n",
    "The second block of code uses an alias (remaming) technique to import a specific function contained within an external module."
   ]
  },
  {
   "cell_type": "code",
   "execution_count": 2,
   "metadata": {},
   "outputs": [
    {
     "name": "stdout",
     "output_type": "stream",
     "text": [
      "Using arithmetic square root of  4.0  is  2.0\n"
     ]
    },
    {
     "ename": "NameError",
     "evalue": "name 'math' is not defined",
     "output_type": "error",
     "traceback": [
      "\u001b[0;31m---------------------------------------------------------------------------\u001b[0m",
      "\u001b[0;31mNameError\u001b[0m                                 Traceback (most recent call last)",
      "\u001b[0;32m<ipython-input-2-a9bb754eacfd>\u001b[0m in \u001b[0;36m<module>\u001b[0;34m\u001b[0m\n\u001b[1;32m      6\u001b[0m \u001b[0mprint\u001b[0m\u001b[0;34m(\u001b[0m\u001b[0;34m'Using arithmetic square root of '\u001b[0m\u001b[0;34m,\u001b[0m \u001b[0mx\u001b[0m\u001b[0;34m,\u001b[0m \u001b[0;34m' is '\u001b[0m\u001b[0;34m,\u001b[0m\u001b[0msqrt_by_arithmetic\u001b[0m \u001b[0;34m)\u001b[0m\u001b[0;34m\u001b[0m\u001b[0;34m\u001b[0m\u001b[0m\n\u001b[1;32m      7\u001b[0m \u001b[0;31m#import math # import the math package ## activate and rerun\u001b[0m\u001b[0;34m\u001b[0m\u001b[0;34m\u001b[0m\u001b[0;34m\u001b[0m\u001b[0m\n\u001b[0;32m----> 8\u001b[0;31m \u001b[0msqrt_by_math\u001b[0m \u001b[0;34m=\u001b[0m \u001b[0mmath\u001b[0m\u001b[0;34m.\u001b[0m\u001b[0msqrt\u001b[0m\u001b[0;34m(\u001b[0m\u001b[0mx\u001b[0m\u001b[0;34m)\u001b[0m  \u001b[0;31m# note the dot notation\u001b[0m\u001b[0;34m\u001b[0m\u001b[0;34m\u001b[0m\u001b[0m\n\u001b[0m\u001b[1;32m      9\u001b[0m \u001b[0mprint\u001b[0m\u001b[0;34m(\u001b[0m\u001b[0;34m'Using math package square root of '\u001b[0m\u001b[0;34m,\u001b[0m  \u001b[0mx\u001b[0m\u001b[0;34m,\u001b[0m\u001b[0;34m' is '\u001b[0m\u001b[0;34m,\u001b[0m\u001b[0msqrt_by_arithmetic\u001b[0m\u001b[0;34m)\u001b[0m\u001b[0;34m\u001b[0m\u001b[0;34m\u001b[0m\u001b[0m\n",
      "\u001b[0;31mNameError\u001b[0m: name 'math' is not defined"
     ]
    }
   ],
   "source": [
    "# reset the notebook using a magic function in JupyterLab\n",
    "%reset -f \n",
    "# An example, run once as is then activate indicated line, run again - what happens?\n",
    "x= 4.\n",
    "sqrt_by_arithmetic = x**0.5\n",
    "print('Using arithmetic square root of ', x, ' is ',sqrt_by_arithmetic )\n",
    "#import math # import the math package ## activate and rerun\n",
    "sqrt_by_math = math.sqrt(x)  # note the dot notation\n",
    "print('Using math package square root of ',  x,' is ',sqrt_by_arithmetic)"
   ]
  },
  {
   "cell_type": "code",
   "execution_count": 3,
   "metadata": {},
   "outputs": [
    {
     "name": "stdout",
     "output_type": "stream",
     "text": [
      "Using arithmetic square root of  4.0  is  2.0\n",
      "Using math package square root of  4.0  is  2.0\n"
     ]
    }
   ],
   "source": [
    "# Here is an alternative way: We just load the function that we want:\n",
    "# reset the notebook using a magic function in JupyterLab\n",
    "%reset -f \n",
    "# An example, run once as is then activate indicated line, run again - what happens?\n",
    "x= 4.\n",
    "sqrt_by_arithmetic = x**0.5\n",
    "print('Using arithmetic square root of ', x, ' is ',sqrt_by_arithmetic )\n",
    "from math import sqrt # import sqrt from the math package ## activate and rerun\n",
    "sqrt_by_math = sqrt(x)  # note the notation\n",
    "print('Using math package square root of ',  x,' is ',sqrt_by_arithmetic)"
   ]
  },
  {
   "cell_type": "markdown",
   "metadata": {},
   "source": [
    "___\n",
    "## <font color=purple>Added-In using External Packages/Modules and Libaries (e.g. math)</font>\n",
    "\n",
    "Python is also distributed with a large number of external functions. \n",
    "These functions are saved in files known as modules or libraries or packages. \n",
    "To use the built-in codes in Python modules, we have to import the modules themselves into our programs first. \n",
    "We do that by using the `import` keyword. \n",
    "There are three\n",
    "ways to import:\n",
    "1. Import the entire module by writing import moduleName; For instance, to import the random module, we write import random. To use the randrange() function in the random module, we write random.randrange( 1, 10);28\n",
    "2. Import and rename the module by writing import random as r (where r is any name of your choice). Now to use the randrange() function, you simply write r.randrange(1, 10); and\n",
    "3. Import specific functions from the module by writing from moduleName import name1[,name2[, ... nameN]]. For instance, to import the randrange() function from the random module, we write from random import randrange. To import multiple functions, we separate them with a comma. To import the randrange() and randint() functions, we write from random import randrange, randint. To use the function now, we do not have to use the dot notation anymore. Just write randrange( 1, 10)."
   ]
  },
  {
   "cell_type": "code",
   "execution_count": 5,
   "metadata": {},
   "outputs": [
    {
     "data": {
      "text/plain": [
       "4"
      ]
     },
     "execution_count": 5,
     "metadata": {},
     "output_type": "execute_result"
    }
   ],
   "source": [
    "# Example 1 of import\n",
    "%reset -f \n",
    "import random\n",
    "low = 1 ; high = 10\n",
    "random.randrange(low,high) #generate random number in range low to high"
   ]
  },
  {
   "cell_type": "code",
   "execution_count": 6,
   "metadata": {},
   "outputs": [
    {
     "data": {
      "text/plain": [
       "7"
      ]
     },
     "execution_count": 6,
     "metadata": {},
     "output_type": "execute_result"
    }
   ],
   "source": [
    "# Example 2 of import\n",
    "%reset -f \n",
    "import random as r\n",
    "low = 1 ; high = 10\n",
    "r.randrange(low,high)"
   ]
  },
  {
   "cell_type": "code",
   "execution_count": 7,
   "metadata": {},
   "outputs": [
    {
     "data": {
      "text/plain": [
       "5"
      ]
     },
     "execution_count": 7,
     "metadata": {},
     "output_type": "execute_result"
    }
   ],
   "source": [
    "# Example 3 of import\n",
    "%reset -f \n",
    "from random import randrange \n",
    "low = 1 ; high = 10\n",
    "randrange(low,high)"
   ]
  },
  {
   "cell_type": "markdown",
   "metadata": {},
   "source": [
    "___\n",
    "\n",
    "The modules that come with Python are extensive and listed at \n",
    "https://docs.python.org/3/py-modindex.html.\n",
    "There are also other modules that can be downloaded, installed into your python system, then imported into your codes.\n",
    "(just like user defined modules below). \n",
    "In lab we are building fairly primitive codes to learn how to code and how to create algorithms. \n",
    "\n",
    "For many practical cases you will want to load a well-tested package to accomplish the tasks, and only enough of your own scripting to implement the package."
   ]
  },
  {
   "cell_type": "markdown",
   "metadata": {},
   "source": [
    "## <font color=purple>How do I make my own functions?</font>\n",
    "\n",
    "We can define our own functions in Python and reuse them throughout the program.\n",
    "The syntax for defining a function is:\n",
    "\n",
    "    def functionName( argument ):\n",
    "        code detailing what the function should do\n",
    "        note the colon above and indentation\n",
    "        ...\n",
    "        ...\n",
    "        return [expression]\n",
    "        \n",
    "The keyword `def` tells the program that the indented code from the next line onwards is\n",
    "part of the function. \n",
    "The keyword `return `tells the program to return an answer from the\n",
    "function. \n",
    "There can be multiple return statements in a function. \n",
    "Once the function executes\n",
    "a return statement, the program exits the function and continues with *its* next executable\n",
    "statement. \n",
    "If the function does not need to return any value, you can omit the return\n",
    "statement, although my preference is to always have a return, even if null.\n",
    "\n",
    "Functions can be pretty elaborate; they can search for things in a list, determine variable\n",
    "types, open and close files, read and write to files. \n",
    "\n",
    "To get started we will build a few really\n",
    "simple mathematical functions; we will need this skill in the future anyway, especially in\n",
    "scientific programming contexts."
   ]
  },
  {
   "cell_type": "markdown",
   "metadata": {},
   "source": [
    "___\n",
    "### <font color=purple>User-built within a Code Block</font>\n",
    " \n",
    "For our first function we will code $$f(x) = x\\sqrt{1 + x}$$ into a function named `dusty()`.\n",
    "\n",
    "When you run the next cell, all it does is prototype the function (defines it), nothing happens until we use the function."
   ]
  },
  {
   "cell_type": "code",
   "execution_count": 9,
   "metadata": {},
   "outputs": [],
   "source": [
    "def dusty(x) :\n",
    "    temp = x * ((1.0+x)**(0.5)) # don't need the math package\n",
    "    return temp\n",
    "# the function should make the evaluation\n",
    "# store in the local variable temp\n",
    "# return contents of temp"
   ]
  },
  {
   "cell_type": "code",
   "execution_count": 10,
   "metadata": {},
   "outputs": [
    {
     "name": "stdin",
     "output_type": "stream",
     "text": [
      "enter a numeric value 4\n"
     ]
    },
    {
     "name": "stdout",
     "output_type": "stream",
     "text": [
      "f( 4.0 ) =  8.94427190999916\n"
     ]
    }
   ],
   "source": [
    "# wrapper to run the dusty function\n",
    "yes = 0\n",
    "while yes == 0:\n",
    "    xvalue = input('enter a numeric value')\n",
    "    try:\n",
    "        xvalue = float(xvalue)\n",
    "        yes = 1\n",
    "    except:\n",
    "        print('enter a bloody number! Try again \\n')\n",
    "# call the function, get value , write output\n",
    "yvalue = dusty(xvalue)\n",
    "print('f(',xvalue,') = ',yvalue) # and we are done "
   ]
  },
  {
   "cell_type": "markdown",
   "metadata": {},
   "source": [
    "___\n",
    "### Example: The Average Function\n",
    "\n",
    "Create the AVERAGE function for three values and test it for these values:\n",
    "- 3,4,5\n",
    "- 10,100,1000\n",
    "- -5,15,5"
   ]
  },
  {
   "cell_type": "code",
   "execution_count": 11,
   "metadata": {},
   "outputs": [],
   "source": [
    "# def AVERAGE3(x,y,z) : #define the function \"AVERAGE3\"\n",
    "#     avg = (x+y+z)/3  #computes the average\n",
    "#     return avg"
   ]
  },
  {
   "cell_type": "code",
   "execution_count": 12,
   "metadata": {},
   "outputs": [],
   "source": [
    "# print(AVERAGE3(3,4,5))\n",
    "# print(AVERAGE3(10,100,1000))\n",
    "# print(AVERAGE3(-5,15,5))"
   ]
  },
  {
   "cell_type": "markdown",
   "metadata": {},
   "source": [
    "___\n",
    "### Example: The KATANA Function\n",
    "\n",
    "Create the Katana function for rounding off to the nearest hundredths (to 2 decimal places) and test it for these values:\n",
    "- 25.33694\n",
    "- 15.753951\n",
    "- 3.14159265359"
   ]
  },
  {
   "cell_type": "code",
   "execution_count": 16,
   "metadata": {},
   "outputs": [],
   "source": [
    "def Katana(x) : #define the function \"Katana\"\n",
    "    newX = round(x, 2)\n",
    "    return newX"
   ]
  },
  {
   "cell_type": "code",
   "execution_count": 13,
   "metadata": {},
   "outputs": [
    {
     "name": "stdout",
     "output_type": "stream",
     "text": [
      "25.34\n",
      "15.75\n",
      "3.14\n"
     ]
    }
   ],
   "source": [
    "print(Katana(25.33694))\n",
    "print(Katana(15.753951))\n",
    "print(Katana(3.14159265359))"
   ]
  },
  {
   "cell_type": "markdown",
   "metadata": {},
   "source": [
    "### Exercise: The Wakizashi function\n",
    "\n",
    "Create the Wakizashi function for rounding off to the nearest thousands (to 3 decimal places) and test it for these values:\n",
    "- 25.33694\n",
    "- 15.753951\n",
    "- 3.14159265359"
   ]
  },
  {
   "cell_type": "code",
   "execution_count": 15,
   "metadata": {},
   "outputs": [],
   "source": [
    "def Wakizashi(x) : #define the function \"Katana\"\n",
    "# insert code here    \n",
    "        return newX"
   ]
  },
  {
   "cell_type": "code",
   "execution_count": 14,
   "metadata": {},
   "outputs": [],
   "source": [
    "# print(Wakizashi(25.33694))\n",
    "# print(Wakizashi(15.753951))\n",
    "# print(Wakizashi(3.14159265359))"
   ]
  },
  {
   "cell_type": "markdown",
   "metadata": {},
   "source": [
    "___\n",
    "## Example: <font color=red>Variable Scope</font>\n",
    "An important concept when defining a function is the concept of variable scope. \n",
    "Variables defined inside a function are treated differently from variables defined outside. \n",
    "\n",
    "We can leverage this feature to protect the calling program and not clobber variables as below\n"
   ]
  },
  {
   "cell_type": "code",
   "execution_count": 32,
   "metadata": {},
   "outputs": [],
   "source": [
    "def a(): \n",
    "    x=25\n",
    "    print('\\n Variable x inside function a is',x)\n",
    "    x = x +1\n",
    "    print(' Variable x inside function a is',x,'\\n')\n",
    "    return x"
   ]
  },
  {
   "cell_type": "code",
   "execution_count": 33,
   "metadata": {},
   "outputs": [
    {
     "name": "stdout",
     "output_type": "stream",
     "text": [
      "Variable x before executing function a is 13\n",
      "\n",
      " Variable x inside function a is 25\n",
      " Variable x inside function a is 26 \n",
      "\n",
      "Variable x after executing function a is 13\n",
      "Variable y after executing function a is 26\n"
     ]
    }
   ],
   "source": [
    "# now a silly script\n",
    "x = 13\n",
    "print('Variable x before executing function a is',x)\n",
    "y = a()\n",
    "print('Variable x after executing function a is',x)\n",
    "print('Variable y after executing function a is',y)"
   ]
  },
  {
   "cell_type": "markdown",
   "metadata": {},
   "source": [
    "Now we change **x** into a global variable within the function and get:"
   ]
  },
  {
   "cell_type": "code",
   "execution_count": 34,
   "metadata": {},
   "outputs": [],
   "source": [
    "def a(): \n",
    "    global x\n",
    "    x=25\n",
    "    print('\\n Variable x inside function a is',x)\n",
    "    x = x +1\n",
    "    print(' Variable x inside function a is',x,'\\n')\n",
    "    return x"
   ]
  },
  {
   "cell_type": "code",
   "execution_count": 35,
   "metadata": {},
   "outputs": [
    {
     "name": "stdout",
     "output_type": "stream",
     "text": [
      "Variable x before executing function a is 13\n",
      "\n",
      " Variable x inside function a is 25\n",
      " Variable x inside function a is 26 \n",
      "\n",
      "Variable x after executing function a is 26\n",
      "Variable y after executing function a is 26\n"
     ]
    }
   ],
   "source": [
    "# now a silly script\n",
    "x = 13\n",
    "print('Variable x before executing function a is',x)\n",
    "y = a()\n",
    "print('Variable x after executing function a is',x)\n",
    "print('Variable y after executing function a is',y)"
   ]
  },
  {
   "cell_type": "markdown",
   "metadata": {},
   "source": [
    "___\n",
    "\n",
    "## Example: <font color=gold> Saving a User Function as a Separate Module/File</font>\n",
    "\n",
    "In this section we will invent the `neko()` function, export it to a file, so we can reuse it in later notebooks without having to retype or cut-and-paste. The `neko()` function evaluates:\n",
    "\n",
    "$$f(x) = x\\sqrt{|(1 + x)|}$$\n",
    "\n",
    "Its the same as the dusty() function, except operates on the absolute value in the wadical.\n",
    "\n",
    "1. Create a text file named \"mylibrary.txt\"\n",
    "2. Copy the neko() function script below into that file.\n",
    "\n",
    "        def neko(input_argument) :\n",
    "            import math #ok to import into a function\n",
    "            local_variable = input_argument * math.sqrt(abs(1.0+input_argument))\n",
    "            return local_variable\n",
    "\n",
    "\n",
    "4. rename mylibrary.txt to mylibrary.py (you may need to do this in the file explorer)\n",
    "5. modify the wrapper script to use the neko function as an external module"
   ]
  },
  {
   "cell_type": "raw",
   "metadata": {},
   "source": [
    "# bash commands to make the file and populate it directly on a linux (this is here as a backup) notice its a raw cell\n",
    "! echo 'def neko(input_argument):' > line1.txt\n",
    "! echo '    import math #ok to import into a function' > line2.txt\n",
    "! echo '    local_variable = input_argument * math.sqrt(abs(1.0+input_argument))' > line3.txt\n",
    "! echo '    return local_variable' > line4.txt\n",
    "! cat line1.txt line2.txt line3.txt line4.txt > mylibrary.txt\n",
    "! rm line*.txt\n",
    "! mv mylibrary.txt mylibrary.py"
   ]
  },
  {
   "cell_type": "code",
   "execution_count": 1,
   "metadata": {},
   "outputs": [
    {
     "name": "stdin",
     "output_type": "stream",
     "text": [
      "enter a numeric value 6\n"
     ]
    },
    {
     "name": "stdout",
     "output_type": "stream",
     "text": [
      "f( 6.0 ) =  15.874507866387544\n"
     ]
    }
   ],
   "source": [
    "# wrapper to run the neko function\n",
    "import mylibrary\n",
    "yes = 0\n",
    "while yes == 0:\n",
    "    xvalue = input('enter a numeric value')\n",
    "    try:\n",
    "        xvalue = float(xvalue)\n",
    "        yes = 1\n",
    "    except:\n",
    "        print('enter a bloody number! Try again \\n')\n",
    "# call the function, get value , write output\n",
    "yvalue = mylibrary.neko(xvalue)\n",
    "print('f(',xvalue,') = ',yvalue) # and we are done "
   ]
  },
  {
   "cell_type": "markdown",
   "metadata": {},
   "source": [
    "___\n",
    "In JupyterHub environments, you may discover that sometimes changes you make to your external python file are not reflected when you re-run your script; you need to restart the kernel to get the changes to actually update. "
   ]
  },
  {
   "cell_type": "markdown",
   "metadata": {},
   "source": [
    "___\n",
    "\n",
    "## Exercise \n",
    "\n",
    "Make a function that squares its input:\n",
    "\n",
    "$$ f(x) = x^2 $$\n",
    "\n",
    "and test it for the following values of x:\n",
    "\n",
    "- -1\n",
    "- 0.0\n",
    "- 1.0\n",
    "- 2.0\n",
    "- 3.0\n"
   ]
  },
  {
   "cell_type": "code",
   "execution_count": 50,
   "metadata": {},
   "outputs": [],
   "source": [
    "# define the function here"
   ]
  },
  {
   "cell_type": "code",
   "execution_count": 49,
   "metadata": {},
   "outputs": [],
   "source": [
    "# print(xsquared(-1))\n",
    "# print(xsquared(0.0))\n",
    "# print(xsquared(1.0))\n",
    "# print(xsquared(2.0))\n",
    "# print(xsquared(3.0))"
   ]
  },
  {
   "cell_type": "markdown",
   "metadata": {},
   "source": [
    "___\n",
    "\n",
    "## Readings\n",
    "\n",
    "\n",
    "*Here are some great reads on this topic:* \n",
    "- __\"Functions in Python\"__ available at *https://www.geeksforgeeks.org/functions-in-python/<br>\n",
    "- __\"Defining Your Own Python Function\"__ by __John Sturtz__ available at *https://realpython.com/defining-your-own-python-function/ <br>\n",
    "- __\"Graph Plotting in Python | Set 1\"__ available at *https://www.geeksforgeeks.org/graph-plotting-in-python-set-1/ <br>\n",
    "- __\"Python Plotting With Matplotlib (Guide)\"__ by __Brad Solomon__ available at *https://realpython.com/python-matplotlib-guide/ <br>\n",
    "\n",
    "*Here are some great videos on these topics:* \n",
    "- __\"How To Use Functions In Python (Python Tutorial #3)\"__ by __CS Dojo__ available at *https://www.youtube.com/watch?v=NSbOtYzIQI0 <br>\n",
    "- __\"Python Tutorial for Beginners 8: Functions\"__ by __Corey Schafer__ available at *https://www.youtube.com/watch?v=9Os0o3wzS_I <br>\n",
    "- __\"Python 3 Programming Tutorial - Functions\"__ by __sentdex__ available at *https://www.youtube.com/watch?v=owglNL1KQf0 <br><br>"
   ]
  }
 ],
 "metadata": {
  "kernelspec": {
   "display_name": "Python 3",
   "language": "python",
   "name": "python3"
  },
  "language_info": {
   "codemirror_mode": {
    "name": "ipython",
    "version": 3
   },
   "file_extension": ".py",
   "mimetype": "text/x-python",
   "name": "python",
   "nbconvert_exporter": "python",
   "pygments_lexer": "ipython3",
   "version": "3.8.10"
  }
 },
 "nbformat": 4,
 "nbformat_minor": 4
}
