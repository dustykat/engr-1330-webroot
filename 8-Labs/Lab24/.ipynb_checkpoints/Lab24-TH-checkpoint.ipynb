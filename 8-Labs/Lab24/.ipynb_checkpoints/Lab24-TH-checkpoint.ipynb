{
 "cells": [
  {
   "cell_type": "code",
   "execution_count": 5,
   "metadata": {},
   "outputs": [
    {
     "data": {
      "text/html": [
       "<!--Script block to left align Markdown Tables-->\n",
       "<style>\n",
       "  table {margin-left: 0 !important;}\n",
       "</style>\n"
      ],
      "text/plain": [
       "<IPython.core.display.HTML object>"
      ]
     },
     "metadata": {},
     "output_type": "display_data"
    }
   ],
   "source": [
    "%%html\n",
    "<!--Script block to left align Markdown Tables-->\n",
    "<style>\n",
    "  table {margin-left: 0 !important;}\n",
    "</style>"
   ]
  },
  {
   "cell_type": "markdown",
   "metadata": {},
   "source": [
    "**Download** (right-click, save target as ...) this page as a jupyterlab notebook from: [Lab24-TH](http://54.243.252.9/engr-1330-webroot/8-Labs/Lab24/Lab24-TH.ipynb)\n",
    "\n",
    "___"
   ]
  },
  {
   "cell_type": "markdown",
   "metadata": {},
   "source": [
    "# <font color=green>Exercise Set 24: \"Predictor-Response Data Models\"</font>\n",
    "\n",
    "LAST NAME, FIRST NAME\n",
    "\n",
    "R00000000\n",
    "\n",
    "ENGR 1330 Exercise Set 24 - Homework"
   ]
  },
  {
   "cell_type": "markdown",
   "metadata": {},
   "source": [
    "## Exercise: Building a Dive Computer\n",
    "\n",
    "![](TechDiving_NOAA.png)\n",
    "\n",
    "| Diver with Computer |\n",
    "|---|\n",
    "\n",
    "### Background \n",
    "Scuba divers circa 1980's used to memorize dive tables which provided safe depth-duration combinations (e.g. 60 feet for 60 minutes).  Commerical divers used similar tables. A bounce would occur when a diver at depth notices a shiny object and descends deeper for a very short interval to recover the object - usually something worthless, but occassionally something very valuable. Bounce dives can be quite dangerous - more so if the diver is trying to adapt a memorized dive table to his/her current situation, hence the development of dive computers.\n",
    "\n",
    "The US Navy started development of dive computers in the 1950's to relieve the human of the somewhat tricky task of multi-level dive planning and monitoring. The first digital dive computer was a laboratory model, the XDC-1, based on a desktop electronic calculator, converted to run a DCIEM four-tissue algorithm in 1975. It used pneumofathometer depth input from surface-supplied divers. In 1976 the diving equipment company Dacor developed and marketed a digital dive computer which used a **table lookup** based on stored US Navy tables rather than a real-time tissue gas saturation model. The Dacor Dive Computer (DDC), displayed output on light-emitting diodes for: current depth; elapsed dive time; surface interval; maximum depth of the dive; repetitive dive data; ascent rate, with a warning for exceeding 20 metres per minute; warning when no-decompression limit is reached; battery low warning light; and required decompression. In the subsequent decade several firms developed and marketed dive computers; by 1989, the advent of dive computers had not met with what might be considered widespread acceptance. Combined with the general mistrust, at the time, of taking a piece of electronics that your life might depend upon underwater, there were also objections expressed ranging from dive resorts felt that the increased bottom time would upset their boat and meal schedules, to that experienced divers felt that the increased bottom time would, regardless of the claims, result in many more cases of decompression sickness.\n",
    "\n",
    "By 2015 sophisticated dive computers using real-time tissue gas saturation models were commonplace and comparatively inexpensive (circa 2020 computers are programmable for exotic gasses - greatly relieving the diver's workload in planning and monitoring multi-level (bounce) dives).\n",
    "\n",
    "![](HELOX.png)\n",
    "\n",
    "|Helium-Oxygen Dive Computer Readout|\n",
    "|---|\n",
    "\n",
    "### Problem Statement\n",
    "\n",
    "Using the data below develop a data-model for a dive computer that uses Dacor's original approach (i.e. table lookup in this case replaced by an data model). The table lists allowable time at prescribed depths for a recreational diver with a safety decompression stop at 10 feet depth.\n",
    "\n",
    "![](DiveTable.png)\n",
    "\n",
    "<!--|Depth (feet)|Time (minutes) with Safety Stop|Time (minutes) without Safety Stop|\n",
    "|---|---|---|\n",
    "35 |205|139|\n",
    "40 |140|104|\n",
    "50 |80|63|\n",
    "60 |55|47|\n",
    "70 |45|33|\n",
    "80 |35|25|\n",
    "90 |25|21|\n",
    "100 |22|none|\n",
    "110 | 16|none|\n",
    "120| 13|none|\n",
    "130| 10|none|\n",
    "140| 8|none|-->\n",
    "\n",
    "\n",
    "### Build a Data Model:\n",
    "\n",
    "Build a predictor-response type data model.\n"
   ]
  },
  {
   "cell_type": "markdown",
   "metadata": {},
   "source": [
    "<hr/><hr/> \n",
    "\n",
    "**Part 1:** <hr/>\n",
    "\n",
    "Make a data model using **Depth** as a predictor of **Time** ($Time = \\beta_{0}+\\beta_{1}*Depth$) for a dive with and without safety stops<br> Plot your models and the data on the same plot. Report your values of the parameters."
   ]
  },
  {
   "cell_type": "code",
   "execution_count": 6,
   "metadata": {},
   "outputs": [],
   "source": [
    "# "
   ]
  },
  {
   "cell_type": "markdown",
   "metadata": {},
   "source": [
    "<hr/><hr/> \n",
    "\n",
    "**Part 2:**\n",
    "\n",
    "<hr/>\n",
    "\n",
    "Make a data model using **Depth** as a predictor of **Time** ($Time = \\beta_{0}+\\beta_{1}*log(Depth)$) for a dive with and without safety stops. <br> Plot your models and the data on the same plot. Report your values of the parameters.\n",
    "\n",
    "In your opinion which mapping of **Depth**  (arithmetic or logarithmic) produces a more useful graph? "
   ]
  },
  {
   "cell_type": "code",
   "execution_count": 7,
   "metadata": {},
   "outputs": [],
   "source": [
    "#"
   ]
  },
  {
   "cell_type": "markdown",
   "metadata": {},
   "source": [
    "<hr/><hr/> \n",
    "\n",
    "**Part 3:**\n",
    "\n",
    "<hr/>\n",
    "\n",
    "Using your preferred model, report the time a diver can spend at 65 feet with and without a safety stop."
   ]
  },
  {
   "cell_type": "code",
   "execution_count": 4,
   "metadata": {},
   "outputs": [],
   "source": [
    "#"
   ]
  }
 ],
 "metadata": {
  "kernelspec": {
   "display_name": "Python 3",
   "language": "python",
   "name": "python3"
  },
  "language_info": {
   "codemirror_mode": {
    "name": "ipython",
    "version": 3
   },
   "file_extension": ".py",
   "mimetype": "text/x-python",
   "name": "python",
   "nbconvert_exporter": "python",
   "pygments_lexer": "ipython3",
   "version": "3.8.10"
  }
 },
 "nbformat": 4,
 "nbformat_minor": 4
}
