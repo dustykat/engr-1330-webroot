{
 "cells": [
  {
   "cell_type": "code",
   "execution_count": null,
   "metadata": {},
   "outputs": [],
   "source": [
    "%%html\n",
    "<!--Script block to left align Markdown Tables-->\n",
    "<style>\n",
    "  table {margin-left: 0 !important;}\n",
    "</style>"
   ]
  },
  {
   "cell_type": "markdown",
   "metadata": {},
   "source": [
    "**Download** (right-click, save target as ...) this page as a jupyterlab notebook from: [Lab24](http://54.243.252.9/engr-1330-webroot/8-Labs/Lab24/Lab24.ipynb)\n",
    "\n",
    "___"
   ]
  },
  {
   "cell_type": "markdown",
   "metadata": {},
   "source": [
    "# <font color=green>Laboratory 24: \"Predictor-Response Data Models\"</font>\n",
    "\n",
    "LAST NAME, FIRST NAME\n",
    "\n",
    "R00000000\n",
    "\n",
    "ENGR 1330 Laboratory 24 "
   ]
  },
  {
   "cell_type": "markdown",
   "metadata": {},
   "source": [
    "## Exercise: Watershed Response Metrics \n",
    "\n",
    "### Background \n",
    "Rainfall-Runoff response prediction is a vital step in engineering design for mitigating flood-induced infrastructure failure.   One easy to measure characteristic of a watershed is its drainage area.  Harder to quantify are its characteristic response time, and its conversion (of precipitation into runoff) factor.\n",
    "\n",
    "### Study Database\n",
    "\n",
    "The [watersheds.csv](http://54.243.252.9/engr-1330-webroot/4-Databases/watersheds.csv) dataset contains (measured) drainage area for 92 study watersheds in Texas from [Cleveland, et. al., 2006](https://192.168.1.75/documents/about-me/MyWebPapers/journal_papers/ASCE_Irrigation_Drainage_IR-022737/2006_0602_IUHEvalTexas.pdf), and the associated data:\n",
    "\n",
    "|Columns|Info.|\n",
    "|:---|:---|\n",
    "|STATION_ID |USGS HUC-8 Station ID code|\n",
    "|TDA |Total drainage area (sq. miles) |\n",
    "|RCOEF|Runoff Ratio (Runoff Depth/Precipitation Depth)|\n",
    "|TPEAK|Characteristic Time (minutes)|\n",
    "|FPEAK|Peaking factor (same as NRCS factor)|\n",
    "|QP_OBS|Observed peak discharge (measured)|\n",
    "|QP_MOD|Modeled peak discharge (modeled)| \n",
    "\n",
    "### :\n",
    "\n",
    "Using the following steps, build a predictor-response type data model. \n"
   ]
  },
  {
   "cell_type": "markdown",
   "metadata": {},
   "source": [
    "<hr/><hr/> \n",
    "\n",
    "**Step 1:** \n",
    "\n",
    "<hr/>\n",
    "\n",
    "Read the \"watersheds.csv\" file as a dataframe. Explore the dataframe and in a markdown cell briefly describe the summarize the dataframe. <br>"
   ]
  },
  {
   "cell_type": "code",
   "execution_count": 5,
   "metadata": {},
   "outputs": [
    {
     "data": {
      "text/html": [
       "<div>\n",
       "<style scoped>\n",
       "    .dataframe tbody tr th:only-of-type {\n",
       "        vertical-align: middle;\n",
       "    }\n",
       "\n",
       "    .dataframe tbody tr th {\n",
       "        vertical-align: top;\n",
       "    }\n",
       "\n",
       "    .dataframe thead th {\n",
       "        text-align: right;\n",
       "    }\n",
       "</style>\n",
       "<table border=\"1\" class=\"dataframe\">\n",
       "  <thead>\n",
       "    <tr style=\"text-align: right;\">\n",
       "      <th></th>\n",
       "      <th>STATION_ID</th>\n",
       "      <th>TDA</th>\n",
       "      <th>RCOEF</th>\n",
       "      <th>TPEAK</th>\n",
       "      <th>FPEAK</th>\n",
       "      <th>QP_OBS</th>\n",
       "      <th>QP_MOD</th>\n",
       "    </tr>\n",
       "  </thead>\n",
       "  <tbody>\n",
       "    <tr>\n",
       "      <th>0</th>\n",
       "      <td>08158920</td>\n",
       "      <td>6.3</td>\n",
       "      <td>0.3083</td>\n",
       "      <td>127.43</td>\n",
       "      <td>1.61</td>\n",
       "      <td>0.00932</td>\n",
       "      <td>0.005150</td>\n",
       "    </tr>\n",
       "    <tr>\n",
       "      <th>1</th>\n",
       "      <td>08158930</td>\n",
       "      <td>19.0</td>\n",
       "      <td>0.2108</td>\n",
       "      <td>190.44</td>\n",
       "      <td>3.69</td>\n",
       "      <td>0.00521</td>\n",
       "      <td>0.002680</td>\n",
       "    </tr>\n",
       "    <tr>\n",
       "      <th>2</th>\n",
       "      <td>08158970</td>\n",
       "      <td>27.6</td>\n",
       "      <td>0.1838</td>\n",
       "      <td>339.06</td>\n",
       "      <td>5.59</td>\n",
       "      <td>0.00454</td>\n",
       "      <td>0.001910</td>\n",
       "    </tr>\n",
       "    <tr>\n",
       "      <th>3</th>\n",
       "      <td>08154700</td>\n",
       "      <td>22.3</td>\n",
       "      <td>0.1803</td>\n",
       "      <td>266.64</td>\n",
       "      <td>2.86</td>\n",
       "      <td>0.00498</td>\n",
       "      <td>0.003080</td>\n",
       "    </tr>\n",
       "    <tr>\n",
       "      <th>4</th>\n",
       "      <td>08155200</td>\n",
       "      <td>89.7</td>\n",
       "      <td>0.1876</td>\n",
       "      <td>722.50</td>\n",
       "      <td>2.25</td>\n",
       "      <td>0.00184</td>\n",
       "      <td>0.000745</td>\n",
       "    </tr>\n",
       "  </tbody>\n",
       "</table>\n",
       "</div>"
      ],
      "text/plain": [
       "  STATION_ID   TDA   RCOEF   TPEAK  FPEAK   QP_OBS    QP_MOD\n",
       "0   08158920   6.3  0.3083  127.43   1.61  0.00932  0.005150\n",
       "1   08158930  19.0  0.2108  190.44   3.69  0.00521  0.002680\n",
       "2   08158970  27.6  0.1838  339.06   5.59  0.00454  0.001910\n",
       "3   08154700  22.3  0.1803  266.64   2.86  0.00498  0.003080\n",
       "4   08155200  89.7  0.1876  722.50   2.25  0.00184  0.000745"
      ]
     },
     "execution_count": 5,
     "metadata": {},
     "output_type": "execute_result"
    }
   ],
   "source": [
    "# import packages\n",
    "import pandas, numpy\n",
    "# read data file\n",
    "mydata = pandas.read_csv(\"watersheds.csv\")\n",
    "# summarize contents + markdown cell as needed\n",
    "mydata.head()"
   ]
  },
  {
   "cell_type": "markdown",
   "metadata": {},
   "source": [
    "<hr/><hr/> \n",
    "\n",
    "**Step 2:** <hr/>\n",
    "\n",
    "Make a data model using **TDA** as a predictor of **TPEAK** ($T_{peak} = \\beta_{0}+\\beta_{1}*TDA$) <br> Plot your model and the data on the same plot. Report your values of the parameters."
   ]
  },
  {
   "cell_type": "code",
   "execution_count": 2,
   "metadata": {},
   "outputs": [],
   "source": [
    "# "
   ]
  },
  {
   "cell_type": "markdown",
   "metadata": {},
   "source": [
    "<hr/><hr/> \n",
    "\n",
    "**Step 3:**\n",
    "\n",
    "<hr/>\n",
    "\n",
    "Make a data model using **log(TDA)** as a predictor of **TPEAK** ($T_{peak} = \\beta_{0}+\\beta_{1}*log(TDA)$)\n",
    "\n",
    "In your opinion which mapping of **TDA**  (arithmetic or logarithmic) produces a more useful graph? "
   ]
  },
  {
   "cell_type": "code",
   "execution_count": 3,
   "metadata": {},
   "outputs": [],
   "source": [
    "#"
   ]
  }
 ],
 "metadata": {
  "kernelspec": {
   "display_name": "Python 3",
   "language": "python",
   "name": "python3"
  },
  "language_info": {
   "codemirror_mode": {
    "name": "ipython",
    "version": 3
   },
   "file_extension": ".py",
   "mimetype": "text/x-python",
   "name": "python",
   "nbconvert_exporter": "python",
   "pygments_lexer": "ipython3",
   "version": "3.8.10"
  }
 },
 "nbformat": 4,
 "nbformat_minor": 4
}
