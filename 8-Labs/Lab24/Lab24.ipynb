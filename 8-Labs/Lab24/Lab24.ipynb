{
 "cells": [
  {
   "cell_type": "code",
   "execution_count": null,
   "metadata": {},
   "outputs": [],
   "source": [
    "%%html\n",
    "<!--Script block to left align Markdown Tables-->\n",
    "<style>\n",
    "  table {margin-left: 0 !important;}\n",
    "</style>"
   ]
  },
  {
   "cell_type": "markdown",
   "metadata": {},
   "source": [
    "**Download** (right-click, save target as ...) this page as a jupyterlab notebook from: [Lab24](http://54.243.252.9/engr-1330-webroot/8-Labs/Lab24/Lab24.ipynb)\n",
    "\n",
    "___"
   ]
  },
  {
   "cell_type": "markdown",
   "metadata": {},
   "source": [
    "# <font color=green>Laboratory 24: \"Predictor-Response Data Models\"</font>\n",
    "\n",
    "LAST NAME, FIRST NAME\n",
    "\n",
    "R00000000\n",
    "\n",
    "ENGR 1330 Laboratory 24 "
   ]
  },
  {
   "cell_type": "markdown",
   "metadata": {},
   "source": [
    "## Exercise: Watershed Response Metrics \n",
    "\n",
    "### Background \n",
    "Rainfall-Runoff response prediction is a vital step in engineering design for mitigating flood-induced infrastructure failure.   One easy to measure characteristic of a watershed is its drainage area.  Harder to quantify are its characteristic response time, and its conversion (of precipitation into runoff) factor.\n",
    "\n",
    "### Study Database\n",
    "\n",
    "The [watersheds.csv](http://54.243.252.9/engr-1330-webroot/4-Databases/watersheds.csv) dataset contains (measured) drainage area for 92 study watersheds in Texas from [Cleveland, et. al., 2006](https://192.168.1.75/documents/about-me/MyWebPapers/journal_papers/ASCE_Irrigation_Drainage_IR-022737/2006_0602_IUHEvalTexas.pdf), and the associated data:\n",
    "\n",
    "|Columns|Info.|\n",
    "|:---|:---|\n",
    "|STATION_ID |USGS HUC-8 Station ID code|\n",
    "|TDA |Total drainage area (sq. miles) |\n",
    "|RCOEF|Runoff Ratio (Runoff Depth/Precipitation Depth)|\n",
    "|TPEAK|Characteristic Time (minutes)|\n",
    "|FPEAK|Peaking factor (same as NRCS factor)|\n",
    "|QP_OBS|Observed peak discharge (measured)|\n",
    "|QP_MOD|Modeled peak discharge (modeled)| \n",
    "\n",
    "### :\n",
    "\n",
    "Using the following steps, build a predictor-response type data model. \n"
   ]
  },
  {
   "cell_type": "markdown",
   "metadata": {},
   "source": [
    "<hr/><hr/> \n",
    "\n",
    "**Step 1:** \n",
    "\n",
    "<hr/>\n",
    "\n",
    "Read the \"watersheds.csv\" file as a dataframe. Explore the dataframe and in a markdown cell briefly describe the summarize the dataframe. <br>"
   ]
  },
  {
   "cell_type": "code",
   "execution_count": 1,
   "metadata": {},
   "outputs": [],
   "source": [
    "# import packages\n",
    "# read data file\n",
    "# summarize contents + markdown cell as needed"
   ]
  },
  {
   "cell_type": "markdown",
   "metadata": {},
   "source": [
    "<hr/><hr/> \n",
    "\n",
    "**Step 2:** <hr/>\n",
    "\n",
    "Make a data model using **TDA** as a predictor of **TPEAK** ($T_{peak} = \\beta_{0}+\\beta_{1}*TDA$) <br> Plot your model and the data on the same plot. Report your values of the parameters."
   ]
  },
  {
   "cell_type": "code",
   "execution_count": 2,
   "metadata": {},
   "outputs": [],
   "source": [
    "# "
   ]
  },
  {
   "cell_type": "markdown",
   "metadata": {},
   "source": [
    "<hr/><hr/> \n",
    "\n",
    "**Step 3:**\n",
    "\n",
    "<hr/>\n",
    "\n",
    "Make a data model using **log(TDA)** as a predictor of **TPEAK** ($T_{peak} = \\beta_{0}+\\beta_{1}*log(TDA)$)\n",
    "\n",
    "In your opinion which mapping of **TDA**  (arithmetic or logarithmic) produces a more useful graph? "
   ]
  },
  {
   "cell_type": "code",
   "execution_count": 3,
   "metadata": {},
   "outputs": [],
   "source": [
    "#"
   ]
  }
 ],
 "metadata": {
  "kernelspec": {
   "display_name": "Python 3",
   "language": "python",
   "name": "python3"
  },
  "language_info": {
   "codemirror_mode": {
    "name": "ipython",
    "version": 3
   },
   "file_extension": ".py",
   "mimetype": "text/x-python",
   "name": "python",
   "nbconvert_exporter": "python",
   "pygments_lexer": "ipython3",
   "version": "3.8.10"
  }
 },
 "nbformat": 4,
 "nbformat_minor": 4
}
