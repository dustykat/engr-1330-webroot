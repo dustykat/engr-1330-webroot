{
 "cells": [
  {
   "cell_type": "markdown",
   "metadata": {},
   "source": [
    "**Download** (right-click, save target as ...) this page as a jupyterlab notebook from:\n",
    "\n",
    "[Laboratory 0](https://atomickitty.ddns.net:8000/user/sensei/files/engr-1330-webroot/engr-1330-webbook/ctds-psuedocourse/docs/8-Labs/Lab0/Lab0_Dev_S21.ipynb?_xsrf=2%7C1b4d47c3%7C0c3aca0c53606a3f4b71c448b09296ae%7C1623531240)\n",
    "\n",
    "___\n"
   ]
  },
  {
   "cell_type": "markdown",
   "metadata": {},
   "source": [
    "# <font color=darkred>Laboratory 0: Yes, That's how we count in python!</font>\n",
    "\n"
   ]
  },
  {
   "cell_type": "markdown",
   "metadata": {},
   "source": [
    "![](https://www.efinancialcareers.co.uk/binaries/content/gallery/efinancial-careers/articles/2018/12/Python-1.jpg) <br>\n"
   ]
  },
  {
   "cell_type": "markdown",
   "metadata": {},
   "source": [
    "### Hi, This is a Jupyter Notebook: a medium that we will be using throughout the semester. \n",
    "___\n",
    "\n",
    "## How do we get this?\n",
    "\n",
    "![](https://assets-cdn.anaconda.com/assets/_1200x630_crop_center-center_82_none/anaconda-meta.jpg?mtime=20200506175707&focal=none&tmtime=20200616170545) <br>\n",
    "\n",
    "### There are online services that allow you create, modify, and export Jupyter notebooks. However, to have this on your local machines (computers), you can install <span style='background:yellow'>Anaconda</span>. Anaconda is a package of different software suits including \"Jupyter Notebook\". You can find videos on how to install Anaconda on your devices on BlackBoard:\n",
    "- Go to Anaconda.com\n",
    "- Scroll down to the bottom of the page or click on products > individual edition\n",
    "- Download the right version for your system: Windows, MacOS, and Linux- This may take a while depending on your connection speed\n",
    "- Once the installer file is downloaded, run it and install Anaconda on your machine.\n",
    "    - Anaconda requires almost 3 GB of free space\n",
    "    - Install it in a separate folder- Preferably on a drive with lots of free memory!\n",
    "    - BE PATIENT!- It will take a while. \n",
    "___"
   ]
  },
  {
   "cell_type": "markdown",
   "metadata": {},
   "source": [
    "**To Download A Visual Guide On Installing ANACONDA** ,right-click, and download (save) this file:\n",
    "\n",
    "[ANACONDA Install Help](https://atomickitty.ddns.net:8000/user/sensei/files/engr-1330-webroot/engr-1330-webbook/ctds-psuedocourse/docs/8-Labs/Lab0/Anaconda%20Install.pptx?_xsrf=2%7C1b4d47c3%7C0c3aca0c53606a3f4b71c448b09296ae%7C1623531240)\n",
    "\n",
    "___\n"
   ]
  },
  {
   "cell_type": "markdown",
   "metadata": {},
   "source": [
    "![](https://media.images.yourquote.in/post/720/0/0/38/800/x3bm9879.webp)"
   ]
  },
  {
   "cell_type": "code",
   "execution_count": 3,
   "metadata": {},
   "outputs": [
    {
     "data": {
      "text/plain": [
       "'0xffffb85c4490'"
      ]
     },
     "execution_count": 3,
     "metadata": {},
     "output_type": "execute_result"
    }
   ],
   "source": [
    "hex(id('theodore cleveland'))"
   ]
  },
  {
   "cell_type": "code",
   "execution_count": null,
   "metadata": {},
   "outputs": [],
   "source": []
  }
 ],
 "metadata": {
  "kernelspec": {
   "display_name": "Python 3",
   "language": "python",
   "name": "python3"
  },
  "language_info": {
   "codemirror_mode": {
    "name": "ipython",
    "version": 3
   },
   "file_extension": ".py",
   "mimetype": "text/x-python",
   "name": "python",
   "nbconvert_exporter": "python",
   "pygments_lexer": "ipython3",
   "version": "3.8.10"
  }
 },
 "nbformat": 4,
 "nbformat_minor": 4
}
