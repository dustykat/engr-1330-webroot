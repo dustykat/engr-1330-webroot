{
 "cells": [
  {
   "cell_type": "markdown",
   "metadata": {},
   "source": [
    "**Download** (right-click, save target as ...) this page as a jupyterlab notebook from: (LINK NEEDS FIXING!)\n",
    "\n",
    "[Lab20](https://atomickitty.ddns.net:8000/user/sensei/files/engr-1330-webroot/engr-1330-webbook/ctds-psuedocourse/docs/8-Labs/Lab8/Lab9_Dev.ipynb?_xsrf=2%7C1b4d47c3%7C0c3aca0c53606a3f4b71c448b09296ae%7C1623531240)\n",
    "\n",
    "___"
   ]
  },
  {
   "cell_type": "markdown",
   "metadata": {},
   "source": [
    "# <font color=darkred>Laboratory 20: On Precognition and Other Sins of the Human Brain </font>"
   ]
  },
  {
   "cell_type": "code",
   "execution_count": 1,
   "metadata": {},
   "outputs": [
    {
     "name": "stdout",
     "output_type": "stream",
     "text": [
      "DESKTOP-EH6HD63\n",
      "desktop-eh6hd63\\farha\n",
      "C:\\Users\\Farha\\Anaconda3\\python.exe\n",
      "3.7.4 (default, Aug  9 2019, 18:34:13) [MSC v.1915 64 bit (AMD64)]\n",
      "sys.version_info(major=3, minor=7, micro=4, releaselevel='final', serial=0)\n"
     ]
    }
   ],
   "source": [
    "# Preamble script block to identify host, user, and kernel\n",
    "import sys\n",
    "! hostname\n",
    "! whoami\n",
    "print(sys.executable)\n",
    "print(sys.version)\n",
    "print(sys.version_info)"
   ]
  },
  {
   "cell_type": "markdown",
   "metadata": {},
   "source": [
    "## Full name: \n",
    "## R#: \n",
    "## Title of the notebook\n",
    "## Date: "
   ]
  },
  {
   "cell_type": "markdown",
   "metadata": {},
   "source": [
    "![](https://i.pinimg.com/originals/5f/d5/58/5fd558f8b7a4f9e2138709cbe63c7052.gif) <br>\n"
   ]
  },
  {
   "cell_type": "markdown",
   "metadata": {},
   "source": [
    "#### The human brain is amazing and mysterious in many ways. Have a look at these sequences. You, with the assistance of your brain, can guess the next item in each sequence, right? <br>\n",
    "\n",
    "- A,B,C,D,E, ____ ?\n",
    "- 5,10,15,20,25, ____ ?\n",
    "- 2,4,8,16,32 ____ ?\n",
    "- 0,1,1,2,3, ____ ?\n",
    "- 1, 11, 21, 1211,111221, ____ ?\n",
    "\n",
    "![](https://3.bp.blogspot.com/-cZXhOB-3MCI/U8zCNevhDUI/AAAAAAAABd4/HK-3xKM_SlQ/s1600/The+Golden+Ratio+Spiral+.jpg) <br>\n",
    "![](https://i.pinimg.com/originals/80/50/e5/8050e54fd2b4ceb033c8b98586a12972.jpg) <br>\n",
    "![](https://eternallivinghome.files.wordpress.com/2019/11/image-4.png?w=409) <br>\n",
    "![](https://eternallivinghome.files.wordpress.com/2019/11/image-2.png) <br>\n",
    "![](https://eternallivinghome.files.wordpress.com/2019/11/image-1.png?w=414) <br>\n",
    "![](https://eternallivinghome.files.wordpress.com/2019/11/image-6.png?w=507) <br>\n",
    "![](https://eternallivinghome.files.wordpress.com/2019/11/image-20.png?w=506) <br>\n",
    "![](https://eternallivinghome.files.wordpress.com/2019/11/image-8.png) <br>\n",
    "![](https://eternallivinghome.files.wordpress.com/2019/11/image-22.png?w=1024) <br>\n",
    "\n",
    "\n",
    "#### But how does our brain do this? How do we 'guess | predict' the next step? Is it that there is only one possible option? is it that we have the previous items? or is it the relationship between the items?<br>\n",
    "\n",
    "#### What if we have more than a single sequence? Maybe two sets of numbers? How can we predict the next \"item\" in a situation like that? <br>\n",
    "![](https://media.makeameme.org/created/ring-that-bell-ws9mb9.jpg) <br>\n",
    "#### Blue Points? Red Line? Fit? Does it ring any bells? <br>\n",
    "\n",
    "![](https://38.media.tumblr.com/d51a8aa16dd9e4d40b718b1af803b9be/tumblr_n9kohlL3AR1tofduqo1_500.gif) <br>\n",
    "\n",
    "---\n",
    "---\n",
    "---\n",
    "# 3 Problem 2 (8 pts)\n",
    "The table below contains some experimental observations.\n",
    "\n",
    "|Elapsed Time (s)|Speed (m/s)|\n",
    "|---:|---:|\n",
    "|0 |0|\n",
    "|1.0 |3|\n",
    "|2.0 |7|\n",
    "|3.0 |12|\n",
    "|4.0 |20|\n",
    "|5.0 |30|\n",
    "|6.0 | 45.6| \n",
    "|7.0 | 60.3 |\n",
    "|8.0 | 77.7 |\n",
    "|9.0 | 97.3 |\n",
    "|10.0| 121.1|\n",
    "\n",
    "1. Plot the speed vs time (speed on y-axis, time on x-axis) using a scatter plot.  Use blue markers. \n",
    "2. Plot a red line on the scatterplot based on the linear model $f(x) = mx + b$ \n",
    "3. By trial-and-error find values of $m$ and $b$ that provide a good visual fit (i.e. makes the red line explain the blue markers).\n",
    "4. Using this data model estimate the speed at $t = 15~\\texttt{sec.}$\n",
    "---\n",
    "---\n",
    "---\n",
    "![](https://media1.tenor.com/images/e43d77dca4b2096cad8226e150ae072f/tenor.gif?itemid=17107650) <br>\n",
    "\n",
    "\n",
    "\n"
   ]
  },
  {
   "cell_type": "markdown",
   "metadata": {},
   "source": [
    "### Let's go over some important terminology:\n",
    "\n",
    "    Linear Regression:\n",
    "    a basic predictive analytics technique that uses historical data to predict an output variable.\n",
    "\n",
    "    The Predictor variable (input):\n",
    "    the variable(s) that help predict the value of the output variable. It is commonly referred to as X.\n",
    "    \n",
    "    The Output variable:\n",
    "    the variable that we want to predict. It is commonly referred to as Y.\n",
    "    \n",
    "#### To estimate Y using linear regression, we assume the equation: $Ye = βX + α$\n",
    "*where Yₑ is the estimated or predicted value of Y based on our linear equation.* <br>\n",
    "\n",
    "#### Our goal is to find statistically significant values of the parameters α and β that minimise the difference between Y and Yₑ. If we are able to determine the optimum values of these two parameters, then we will have the line of best fit that we can use to predict the values of Y, given the value of X. <br>\n",
    "\n",
    "## So, how do we estimate α and β? <br>\n",
    "![](https://media3.giphy.com/media/EijsQdawZkiqY/200.gif) <br>\n",
    "\n",
    "#### We can use a method called Ordinary Least Squares (OLS). <br>\n",
    "![](https://miro.medium.com/max/338/1*VVA0rF6MWXcw1JmRNFA87g.png) <br>\n",
    "\n",
    "#### The objective of the least squares method is to find values of α and β that minimise the sum of the squared difference between Y and Yₑ (distance between the linear fit and the observed points). We will not go through the derivation here, but using calculus we can show that the values of the unknown parameters are as follows: <br>\n",
    "![](https://miro.medium.com/max/222/0*gR-W7RFar9ijxwAa) <br>\n",
    "#### where X̄ is the mean of X values and Ȳ is the mean of Y values. β is simply the covariance of X and Y (Cov(X, Y)  devided by the variance of X (Var(X)). <br>\n",
    "\n",
    "    Covariance:\n",
    "    In probability theory and statistics, covariance is a measure of the joint variability of two random variables. If the greater values of one variable mainly correspond with the greater values of the other variable, and the same holds for the lesser values, (i.e., the variables tend to show similar behavior), the covariance is positive. In the opposite case, when the greater values of one variable mainly correspond to the lesser values of the other, (i.e., the variables tend to show opposite behavior), the covariance is negative. The sign of the covariance therefore shows the tendency in the linear relationship between the variables. The magnitude of the covariance is not easy to interpret because it is not normalized and hence depends on the magnitudes of the variables. The normalized version of the covariance, the correlation coefficient, however, shows by its magnitude the strength of the linear relation.\n",
    "![](https://www.wallstreetmojo.com/wp-content/uploads/2019/03/Covariance-Formula.jpg) <br>\n",
    "![](https://media.geeksforgeeks.org/wp-content/uploads/Correl.png) <br>\n",
    "    \n",
    "    The Correlation Coefficient:\n",
    "    Correlation coefficients are used in statistics to measure how strong a relationship is between two variables. There are several types of correlation coefficient, but the most popular is Pearson’s. Pearson’s correlation (also called Pearson’s R) is a correlation coefficient commonly used in linear regression.Correlation coefficient formulas are used to find how strong a relationship is between data. The formulat for Pearson’s R:\n",
    "![](https://www.statisticshowto.com/wp-content/uploads/2012/10/pearson.gif) <br>\n",
    "    \n",
    "    The formulas return a value between -1 and 1, where:\n",
    "![](https://www.statisticshowto.com/wp-content/uploads/2012/10/pearson-2-small.png) <br>\n",
    "\n",
    "    1 : A correlation coefficient of 1 means that for every positive increase in one variable, there is a positive increase of a fixed proportion in the other. For example, shoe sizes go up in (almost) perfect correlation with foot length.\n",
    "    -1: A correlation coefficient of -1 means that for every positive increase in one variable, there is a negative decrease of a fixed proportion in the other. For example, the amount of gas in a tank decreases in (almost) perfect correlation with speed.\n",
    "    0 : Zero means that for every increase, there isn’t a positive or negative increase. The two just aren’t related."
   ]
  },
  {
   "cell_type": "markdown",
   "metadata": {},
   "source": [
    "___\n",
    "### Example: Let's have a look at the Problem  1 from Exam II<br>\n",
    "\n",
    "#### We had a table of recoded times and speeds from some experimental observations:\n",
    "\n",
    "|Elapsed Time (s)|Speed (m/s)|\n",
    "|---:|---:|\n",
    "|0 |0|\n",
    "|1.0 |3|\n",
    "|2.0 |7|\n",
    "|3.0 |12|\n",
    "|4.0 |20|\n",
    "|5.0 |30|\n",
    "|6.0 | 45.6| \n",
    "|7.0 | 60.3 |\n",
    "|8.0 | 77.7 |\n",
    "|9.0 | 97.3 |\n",
    "|10.0| 121.1|"
   ]
  },
  {
   "cell_type": "markdown",
   "metadata": {},
   "source": [
    "#### First let's create a dataframe:\n"
   ]
  },
  {
   "cell_type": "code",
   "execution_count": 2,
   "metadata": {},
   "outputs": [
    {
     "data": {
      "text/html": [
       "<div>\n",
       "<style scoped>\n",
       "    .dataframe tbody tr th:only-of-type {\n",
       "        vertical-align: middle;\n",
       "    }\n",
       "\n",
       "    .dataframe tbody tr th {\n",
       "        vertical-align: top;\n",
       "    }\n",
       "\n",
       "    .dataframe thead th {\n",
       "        text-align: right;\n",
       "    }\n",
       "</style>\n",
       "<table border=\"1\" class=\"dataframe\">\n",
       "  <thead>\n",
       "    <tr style=\"text-align: right;\">\n",
       "      <th></th>\n",
       "      <th>Time</th>\n",
       "      <th>Speed</th>\n",
       "    </tr>\n",
       "  </thead>\n",
       "  <tbody>\n",
       "    <tr>\n",
       "      <td>0</td>\n",
       "      <td>0.0</td>\n",
       "      <td>0.0</td>\n",
       "    </tr>\n",
       "    <tr>\n",
       "      <td>1</td>\n",
       "      <td>1.0</td>\n",
       "      <td>3.0</td>\n",
       "    </tr>\n",
       "    <tr>\n",
       "      <td>2</td>\n",
       "      <td>2.0</td>\n",
       "      <td>7.0</td>\n",
       "    </tr>\n",
       "    <tr>\n",
       "      <td>3</td>\n",
       "      <td>3.0</td>\n",
       "      <td>12.0</td>\n",
       "    </tr>\n",
       "    <tr>\n",
       "      <td>4</td>\n",
       "      <td>4.0</td>\n",
       "      <td>20.0</td>\n",
       "    </tr>\n",
       "    <tr>\n",
       "      <td>5</td>\n",
       "      <td>5.0</td>\n",
       "      <td>30.0</td>\n",
       "    </tr>\n",
       "    <tr>\n",
       "      <td>6</td>\n",
       "      <td>6.0</td>\n",
       "      <td>45.6</td>\n",
       "    </tr>\n",
       "    <tr>\n",
       "      <td>7</td>\n",
       "      <td>7.0</td>\n",
       "      <td>60.3</td>\n",
       "    </tr>\n",
       "    <tr>\n",
       "      <td>8</td>\n",
       "      <td>8.0</td>\n",
       "      <td>77.7</td>\n",
       "    </tr>\n",
       "    <tr>\n",
       "      <td>9</td>\n",
       "      <td>9.0</td>\n",
       "      <td>97.3</td>\n",
       "    </tr>\n",
       "    <tr>\n",
       "      <td>10</td>\n",
       "      <td>10.0</td>\n",
       "      <td>121.2</td>\n",
       "    </tr>\n",
       "  </tbody>\n",
       "</table>\n",
       "</div>"
      ],
      "text/plain": [
       "    Time  Speed\n",
       "0    0.0    0.0\n",
       "1    1.0    3.0\n",
       "2    2.0    7.0\n",
       "3    3.0   12.0\n",
       "4    4.0   20.0\n",
       "5    5.0   30.0\n",
       "6    6.0   45.6\n",
       "7    7.0   60.3\n",
       "8    8.0   77.7\n",
       "9    9.0   97.3\n",
       "10  10.0  121.2"
      ]
     },
     "execution_count": 2,
     "metadata": {},
     "output_type": "execute_result"
    }
   ],
   "source": [
    "# Load the necessary packages\n",
    "import numpy as np\n",
    "import pandas as pd\n",
    "import statistics \n",
    "from matplotlib import pyplot as plt\n",
    "\n",
    "# Create a dataframe:\n",
    "time = [0, 1.0, 2.0, 3.0, 4.0, 5.0, 6.0, 7.0, 8.0, 9.0, 10.0]\n",
    "speed = [0, 3, 7, 12, 20, 30, 45.6, 60.3, 77.7, 97.3, 121.2]\n",
    "data = pd.DataFrame({'Time':time, 'Speed':speed})\n",
    "data"
   ]
  },
  {
   "cell_type": "markdown",
   "metadata": {},
   "source": [
    "#### Now, let's explore the data:\n"
   ]
  },
  {
   "cell_type": "code",
   "execution_count": 3,
   "metadata": {},
   "outputs": [
    {
     "data": {
      "text/html": [
       "<div>\n",
       "<style scoped>\n",
       "    .dataframe tbody tr th:only-of-type {\n",
       "        vertical-align: middle;\n",
       "    }\n",
       "\n",
       "    .dataframe tbody tr th {\n",
       "        vertical-align: top;\n",
       "    }\n",
       "\n",
       "    .dataframe thead th {\n",
       "        text-align: right;\n",
       "    }\n",
       "</style>\n",
       "<table border=\"1\" class=\"dataframe\">\n",
       "  <thead>\n",
       "    <tr style=\"text-align: right;\">\n",
       "      <th></th>\n",
       "      <th>Time</th>\n",
       "      <th>Speed</th>\n",
       "    </tr>\n",
       "  </thead>\n",
       "  <tbody>\n",
       "    <tr>\n",
       "      <td>count</td>\n",
       "      <td>11.000000</td>\n",
       "      <td>11.000000</td>\n",
       "    </tr>\n",
       "    <tr>\n",
       "      <td>mean</td>\n",
       "      <td>5.000000</td>\n",
       "      <td>43.100000</td>\n",
       "    </tr>\n",
       "    <tr>\n",
       "      <td>std</td>\n",
       "      <td>3.316625</td>\n",
       "      <td>41.204077</td>\n",
       "    </tr>\n",
       "    <tr>\n",
       "      <td>min</td>\n",
       "      <td>0.000000</td>\n",
       "      <td>0.000000</td>\n",
       "    </tr>\n",
       "    <tr>\n",
       "      <td>25%</td>\n",
       "      <td>2.500000</td>\n",
       "      <td>9.500000</td>\n",
       "    </tr>\n",
       "    <tr>\n",
       "      <td>50%</td>\n",
       "      <td>5.000000</td>\n",
       "      <td>30.000000</td>\n",
       "    </tr>\n",
       "    <tr>\n",
       "      <td>75%</td>\n",
       "      <td>7.500000</td>\n",
       "      <td>69.000000</td>\n",
       "    </tr>\n",
       "    <tr>\n",
       "      <td>max</td>\n",
       "      <td>10.000000</td>\n",
       "      <td>121.200000</td>\n",
       "    </tr>\n",
       "  </tbody>\n",
       "</table>\n",
       "</div>"
      ],
      "text/plain": [
       "            Time       Speed\n",
       "count  11.000000   11.000000\n",
       "mean    5.000000   43.100000\n",
       "std     3.316625   41.204077\n",
       "min     0.000000    0.000000\n",
       "25%     2.500000    9.500000\n",
       "50%     5.000000   30.000000\n",
       "75%     7.500000   69.000000\n",
       "max    10.000000  121.200000"
      ]
     },
     "execution_count": 3,
     "metadata": {},
     "output_type": "execute_result"
    }
   ],
   "source": [
    "data.describe()"
   ]
  },
  {
   "cell_type": "code",
   "execution_count": 4,
   "metadata": {},
   "outputs": [
    {
     "name": "stdout",
     "output_type": "stream",
     "text": [
      "Variance of recorded times is  11.0\n",
      "Variance of recorded speed is  1697.7759999999998\n"
     ]
    }
   ],
   "source": [
    "time_var = statistics.variance(time)\n",
    "speed_var = statistics.variance(speed)\n",
    "\n",
    "print(\"Variance of recorded times is \",time_var)\n",
    "print(\"Variance of recorded speed is \",speed_var)"
   ]
  },
  {
   "cell_type": "markdown",
   "metadata": {},
   "source": [
    "#### Is there a relationship ( based on covariance, correlation) between time and speed?"
   ]
  },
  {
   "cell_type": "code",
   "execution_count": 5,
   "metadata": {},
   "outputs": [
    {
     "data": {
      "text/html": [
       "<div>\n",
       "<style scoped>\n",
       "    .dataframe tbody tr th:only-of-type {\n",
       "        vertical-align: middle;\n",
       "    }\n",
       "\n",
       "    .dataframe tbody tr th {\n",
       "        vertical-align: top;\n",
       "    }\n",
       "\n",
       "    .dataframe thead th {\n",
       "        text-align: right;\n",
       "    }\n",
       "</style>\n",
       "<table border=\"1\" class=\"dataframe\">\n",
       "  <thead>\n",
       "    <tr style=\"text-align: right;\">\n",
       "      <th></th>\n",
       "      <th>Time</th>\n",
       "      <th>Speed</th>\n",
       "    </tr>\n",
       "  </thead>\n",
       "  <tbody>\n",
       "    <tr>\n",
       "      <td>Time</td>\n",
       "      <td>11.00</td>\n",
       "      <td>131.750</td>\n",
       "    </tr>\n",
       "    <tr>\n",
       "      <td>Speed</td>\n",
       "      <td>131.75</td>\n",
       "      <td>1697.776</td>\n",
       "    </tr>\n",
       "  </tbody>\n",
       "</table>\n",
       "</div>"
      ],
      "text/plain": [
       "         Time     Speed\n",
       "Time    11.00   131.750\n",
       "Speed  131.75  1697.776"
      ]
     },
     "execution_count": 5,
     "metadata": {},
     "output_type": "execute_result"
    }
   ],
   "source": [
    "# To find the covariance  \n",
    "data.cov() "
   ]
  },
  {
   "cell_type": "code",
   "execution_count": 6,
   "metadata": {},
   "outputs": [
    {
     "data": {
      "text/html": [
       "<div>\n",
       "<style scoped>\n",
       "    .dataframe tbody tr th:only-of-type {\n",
       "        vertical-align: middle;\n",
       "    }\n",
       "\n",
       "    .dataframe tbody tr th {\n",
       "        vertical-align: top;\n",
       "    }\n",
       "\n",
       "    .dataframe thead th {\n",
       "        text-align: right;\n",
       "    }\n",
       "</style>\n",
       "<table border=\"1\" class=\"dataframe\">\n",
       "  <thead>\n",
       "    <tr style=\"text-align: right;\">\n",
       "      <th></th>\n",
       "      <th>Time</th>\n",
       "      <th>Speed</th>\n",
       "    </tr>\n",
       "  </thead>\n",
       "  <tbody>\n",
       "    <tr>\n",
       "      <td>Time</td>\n",
       "      <td>1.000000</td>\n",
       "      <td>0.964082</td>\n",
       "    </tr>\n",
       "    <tr>\n",
       "      <td>Speed</td>\n",
       "      <td>0.964082</td>\n",
       "      <td>1.000000</td>\n",
       "    </tr>\n",
       "  </tbody>\n",
       "</table>\n",
       "</div>"
      ],
      "text/plain": [
       "           Time     Speed\n",
       "Time   1.000000  0.964082\n",
       "Speed  0.964082  1.000000"
      ]
     },
     "execution_count": 6,
     "metadata": {},
     "output_type": "execute_result"
    }
   ],
   "source": [
    "# To find the correlation among the columns \n",
    "# using pearson method \n",
    "data.corr(method ='pearson') "
   ]
  },
  {
   "cell_type": "markdown",
   "metadata": {},
   "source": [
    "#### Let's do linear regression with primitive Python:\n",
    "#### To estimate \"y\" using the OLS method, we need to calculate \"xmean\" and \"ymean\", the covariance of X and y (\"xycov\"), and the variance of X (\"xvar\") before we can determine the values for alpha and beta. In our case, X is time and y is Speed."
   ]
  },
  {
   "cell_type": "code",
   "execution_count": 7,
   "metadata": {},
   "outputs": [
    {
     "name": "stdout",
     "output_type": "stream",
     "text": [
      "alpha = -16.78636363636363\n",
      "beta = 11.977272727272727\n"
     ]
    }
   ],
   "source": [
    "# Calculate the mean of X and y\n",
    "xmean = np.mean(time)\n",
    "ymean = np.mean(speed)\n",
    "\n",
    "# Calculate the terms needed for the numator and denominator of beta\n",
    "data['xycov'] = (data['Time'] - xmean) * (data['Speed'] - ymean)\n",
    "data['xvar'] = (data['Time'] - xmean)**2\n",
    "\n",
    "# Calculate beta and alpha\n",
    "beta = data['xycov'].sum() / data['xvar'].sum()\n",
    "alpha = ymean - (beta * xmean)\n",
    "print(f'alpha = {alpha}')\n",
    "print(f'beta = {beta}')\n"
   ]
  },
  {
   "cell_type": "markdown",
   "metadata": {},
   "source": [
    "#### We now have an estimate for alpha and beta! Our model can be written as Yₑ = 11.977 X -16.786, and we can make predictions:"
   ]
  },
  {
   "cell_type": "code",
   "execution_count": 30,
   "metadata": {},
   "outputs": [
    {
     "name": "stdout",
     "output_type": "stream",
     "text": [
      "[-16.78636364  -4.80909091   7.16818182  19.14545455  31.12272727\n",
      "  43.1         55.07727273  67.05454545  79.03181818  91.00909091\n",
      " 102.98636364]\n"
     ]
    }
   ],
   "source": [
    "X = np.array(time)\n",
    "\n",
    "ypred = alpha + beta * X\n",
    "print(ypred)"
   ]
  },
  {
   "cell_type": "markdown",
   "metadata": {},
   "source": [
    "#### Let’s plot our prediction ypred against the actual values of y, to get a better visual understanding of our model:"
   ]
  },
  {
   "cell_type": "code",
   "execution_count": 10,
   "metadata": {},
   "outputs": [
    {
     "data": {
      "image/png": "[encoded data removed]",
      "text/plain": [
       "<Figure size 864x432 with 1 Axes>"
      ]
     },
     "metadata": {
      "needs_background": "light"
     },
     "output_type": "display_data"
    }
   ],
   "source": [
    "# Plot regression against actual data\n",
    "plt.figure(figsize=(12, 6))\n",
    "plt.plot(X, ypred, color=\"red\")     # regression line\n",
    "plt.plot(time, speed, 'ro', color=\"blue\")   # scatter plot showing actual data\n",
    "plt.title('Actual vs Predicted')\n",
    "plt.xlabel('Time (s)')\n",
    "plt.ylabel('Speed (m/s)')\n",
    "\n",
    "plt.show()"
   ]
  },
  {
   "cell_type": "markdown",
   "metadata": {},
   "source": [
    "#### The red line is our line of best fit, Yₑ = 11.977 X -16.786. We can see from this graph that there is a positive linear relationship between X and y. Using our model, we can predict y from any values of X! <br>\n",
    "#### For example, if we had a value X = 20, we can predict that:"
   ]
  },
  {
   "cell_type": "code",
   "execution_count": 11,
   "metadata": {},
   "outputs": [
    {
     "name": "stdout",
     "output_type": "stream",
     "text": [
      "222.7590909090909\n"
     ]
    }
   ],
   "source": [
    "ypred_20 = alpha + beta * 20\n",
    "print(ypred_20)"
   ]
  },
  {
   "cell_type": "markdown",
   "metadata": {},
   "source": [
    "#### Linear Regression with statsmodels:\n",
    "#### First, we use statsmodels’ ols function to initialise our simple linear regression model. This takes the formula y ~ X, where X is the predictor variable (Time) and y is the output variable (Speed). Then, we fit the model by calling the OLS object’s fit() method."
   ]
  },
  {
   "cell_type": "code",
   "execution_count": 31,
   "metadata": {},
   "outputs": [],
   "source": [
    "import statsmodels.formula.api as smf\n",
    "\n",
    "# Initialise and fit linear regression model using `statsmodels`\n",
    "model = smf.ols('Speed ~ Time', data=data)\n",
    "model = model.fit()"
   ]
  },
  {
   "cell_type": "markdown",
   "metadata": {},
   "source": [
    "#### We no longer have to calculate alpha and beta ourselves as this method does it automatically for us! Calling model.params will show us the model’s parameters:"
   ]
  },
  {
   "cell_type": "code",
   "execution_count": 13,
   "metadata": {},
   "outputs": [
    {
     "data": {
      "text/plain": [
       "Intercept   -16.786364\n",
       "Time         11.977273\n",
       "dtype: float64"
      ]
     },
     "execution_count": 13,
     "metadata": {},
     "output_type": "execute_result"
    }
   ],
   "source": [
    "model.params"
   ]
  },
  {
   "cell_type": "markdown",
   "metadata": {},
   "source": [
    "#### In the notation that we have been using, α is the intercept and β is the slope i.e. α =-16.786364 and β = 11.977273."
   ]
  },
  {
   "cell_type": "code",
   "execution_count": 14,
   "metadata": {},
   "outputs": [
    {
     "data": {
      "image/png": "[encoded data removed]",
      "text/plain": [
       "<Figure size 864x432 with 1 Axes>"
      ]
     },
     "metadata": {
      "needs_background": "light"
     },
     "output_type": "display_data"
    }
   ],
   "source": [
    "# Predict values\n",
    "speed_pred = model.predict()\n",
    "\n",
    "# Plot regression against actual data\n",
    "plt.figure(figsize=(12, 6))\n",
    "plt.plot(data['Time'], data['Speed'], 'o')           # scatter plot showing actual data\n",
    "plt.plot(data['Time'], speed_pred, 'r', linewidth=2)   # regression line\n",
    "plt.xlabel('Time (s)')\n",
    "plt.ylabel('Speed (m/s)')\n",
    "plt.title('model vs observed')\n",
    "\n",
    "plt.show()"
   ]
  },
  {
   "cell_type": "markdown",
   "metadata": {},
   "source": [
    "#### How good do you feel about this predictive model? Will you trust it?"
   ]
  },
  {
   "cell_type": "markdown",
   "metadata": {},
   "source": [
    "___\n",
    "### Example: Advertising and Sells! <br>\n",
    "#### This is a classic regression problem. we have a dataset of the spendings on TV, Radio, and Newspaper advertisements and number of sales for a specific product. We are interested in exploring the relationship between these parameters and answering the following questions:\n",
    "- Can TV advertising spending predict the number of sales for the product?\n",
    "- Can Radio advertising spending predict the number of sales for the product?\n",
    "- Can Newspaper advertising spending predict the number of sales for the product?\n",
    "- Can we use the three of them to predict the number of sales for the product? | Multiple Linear Regression Model\n",
    "- Which parameter is a better predictor of the number of sales for the product?"
   ]
  },
  {
   "cell_type": "code",
   "execution_count": 15,
   "metadata": {},
   "outputs": [
    {
     "data": {
      "text/html": [
       "<div>\n",
       "<style scoped>\n",
       "    .dataframe tbody tr th:only-of-type {\n",
       "        vertical-align: middle;\n",
       "    }\n",
       "\n",
       "    .dataframe tbody tr th {\n",
       "        vertical-align: top;\n",
       "    }\n",
       "\n",
       "    .dataframe thead th {\n",
       "        text-align: right;\n",
       "    }\n",
       "</style>\n",
       "<table border=\"1\" class=\"dataframe\">\n",
       "  <thead>\n",
       "    <tr style=\"text-align: right;\">\n",
       "      <th></th>\n",
       "      <th>TV</th>\n",
       "      <th>Radio</th>\n",
       "      <th>Newspaper</th>\n",
       "      <th>Sales</th>\n",
       "    </tr>\n",
       "  </thead>\n",
       "  <tbody>\n",
       "    <tr>\n",
       "      <td>0</td>\n",
       "      <td>230.1</td>\n",
       "      <td>37.8</td>\n",
       "      <td>69.2</td>\n",
       "      <td>22.1</td>\n",
       "    </tr>\n",
       "    <tr>\n",
       "      <td>1</td>\n",
       "      <td>44.5</td>\n",
       "      <td>39.3</td>\n",
       "      <td>45.1</td>\n",
       "      <td>10.4</td>\n",
       "    </tr>\n",
       "    <tr>\n",
       "      <td>2</td>\n",
       "      <td>17.2</td>\n",
       "      <td>45.9</td>\n",
       "      <td>69.3</td>\n",
       "      <td>9.3</td>\n",
       "    </tr>\n",
       "    <tr>\n",
       "      <td>3</td>\n",
       "      <td>151.5</td>\n",
       "      <td>41.3</td>\n",
       "      <td>58.5</td>\n",
       "      <td>18.5</td>\n",
       "    </tr>\n",
       "    <tr>\n",
       "      <td>4</td>\n",
       "      <td>180.8</td>\n",
       "      <td>10.8</td>\n",
       "      <td>58.4</td>\n",
       "      <td>12.9</td>\n",
       "    </tr>\n",
       "  </tbody>\n",
       "</table>\n",
       "</div>"
      ],
      "text/plain": [
       "      TV  Radio  Newspaper  Sales\n",
       "0  230.1   37.8       69.2   22.1\n",
       "1   44.5   39.3       45.1   10.4\n",
       "2   17.2   45.9       69.3    9.3\n",
       "3  151.5   41.3       58.5   18.5\n",
       "4  180.8   10.8       58.4   12.9"
      ]
     },
     "execution_count": 15,
     "metadata": {},
     "output_type": "execute_result"
    }
   ],
   "source": [
    "# Import and display first rows of the advertising dataset\n",
    "df = pd.read_csv('advertising.csv')\n",
    "df.head()"
   ]
  },
  {
   "cell_type": "code",
   "execution_count": 16,
   "metadata": {},
   "outputs": [
    {
     "data": {
      "text/html": [
       "<div>\n",
       "<style scoped>\n",
       "    .dataframe tbody tr th:only-of-type {\n",
       "        vertical-align: middle;\n",
       "    }\n",
       "\n",
       "    .dataframe tbody tr th {\n",
       "        vertical-align: top;\n",
       "    }\n",
       "\n",
       "    .dataframe thead th {\n",
       "        text-align: right;\n",
       "    }\n",
       "</style>\n",
       "<table border=\"1\" class=\"dataframe\">\n",
       "  <thead>\n",
       "    <tr style=\"text-align: right;\">\n",
       "      <th></th>\n",
       "      <th>TV</th>\n",
       "      <th>Radio</th>\n",
       "      <th>Newspaper</th>\n",
       "      <th>Sales</th>\n",
       "    </tr>\n",
       "  </thead>\n",
       "  <tbody>\n",
       "    <tr>\n",
       "      <td>count</td>\n",
       "      <td>200.000000</td>\n",
       "      <td>200.000000</td>\n",
       "      <td>200.000000</td>\n",
       "      <td>200.000000</td>\n",
       "    </tr>\n",
       "    <tr>\n",
       "      <td>mean</td>\n",
       "      <td>147.042500</td>\n",
       "      <td>23.264000</td>\n",
       "      <td>30.554000</td>\n",
       "      <td>14.022500</td>\n",
       "    </tr>\n",
       "    <tr>\n",
       "      <td>std</td>\n",
       "      <td>85.854236</td>\n",
       "      <td>14.846809</td>\n",
       "      <td>21.778621</td>\n",
       "      <td>5.217457</td>\n",
       "    </tr>\n",
       "    <tr>\n",
       "      <td>min</td>\n",
       "      <td>0.700000</td>\n",
       "      <td>0.000000</td>\n",
       "      <td>0.300000</td>\n",
       "      <td>1.600000</td>\n",
       "    </tr>\n",
       "    <tr>\n",
       "      <td>25%</td>\n",
       "      <td>74.375000</td>\n",
       "      <td>9.975000</td>\n",
       "      <td>12.750000</td>\n",
       "      <td>10.375000</td>\n",
       "    </tr>\n",
       "    <tr>\n",
       "      <td>50%</td>\n",
       "      <td>149.750000</td>\n",
       "      <td>22.900000</td>\n",
       "      <td>25.750000</td>\n",
       "      <td>12.900000</td>\n",
       "    </tr>\n",
       "    <tr>\n",
       "      <td>75%</td>\n",
       "      <td>218.825000</td>\n",
       "      <td>36.525000</td>\n",
       "      <td>45.100000</td>\n",
       "      <td>17.400000</td>\n",
       "    </tr>\n",
       "    <tr>\n",
       "      <td>max</td>\n",
       "      <td>296.400000</td>\n",
       "      <td>49.600000</td>\n",
       "      <td>114.000000</td>\n",
       "      <td>27.000000</td>\n",
       "    </tr>\n",
       "  </tbody>\n",
       "</table>\n",
       "</div>"
      ],
      "text/plain": [
       "               TV       Radio   Newspaper       Sales\n",
       "count  200.000000  200.000000  200.000000  200.000000\n",
       "mean   147.042500   23.264000   30.554000   14.022500\n",
       "std     85.854236   14.846809   21.778621    5.217457\n",
       "min      0.700000    0.000000    0.300000    1.600000\n",
       "25%     74.375000    9.975000   12.750000   10.375000\n",
       "50%    149.750000   22.900000   25.750000   12.900000\n",
       "75%    218.825000   36.525000   45.100000   17.400000\n",
       "max    296.400000   49.600000  114.000000   27.000000"
      ]
     },
     "execution_count": 16,
     "metadata": {},
     "output_type": "execute_result"
    }
   ],
   "source": [
    "# Describe the df\n",
    "df.describe()"
   ]
  },
  {
   "cell_type": "code",
   "execution_count": 17,
   "metadata": {},
   "outputs": [],
   "source": [
    "tv = np.array(df['TV'])\n",
    "radio = np.array(df['Radio'])\n",
    "newspaper = np.array(df['Newspaper'])\n",
    "sales = np.array(df['Sales'])\n"
   ]
  },
  {
   "cell_type": "code",
   "execution_count": 18,
   "metadata": {},
   "outputs": [
    {
     "data": {
      "text/html": [
       "<div>\n",
       "<style scoped>\n",
       "    .dataframe tbody tr th:only-of-type {\n",
       "        vertical-align: middle;\n",
       "    }\n",
       "\n",
       "    .dataframe tbody tr th {\n",
       "        vertical-align: top;\n",
       "    }\n",
       "\n",
       "    .dataframe thead th {\n",
       "        text-align: right;\n",
       "    }\n",
       "</style>\n",
       "<table border=\"1\" class=\"dataframe\">\n",
       "  <thead>\n",
       "    <tr style=\"text-align: right;\">\n",
       "      <th></th>\n",
       "      <th>TV</th>\n",
       "      <th>Radio</th>\n",
       "      <th>Newspaper</th>\n",
       "      <th>Sales</th>\n",
       "    </tr>\n",
       "  </thead>\n",
       "  <tbody>\n",
       "    <tr>\n",
       "      <td>TV</td>\n",
       "      <td>7370.949893</td>\n",
       "      <td>69.862492</td>\n",
       "      <td>105.919452</td>\n",
       "      <td>350.390195</td>\n",
       "    </tr>\n",
       "    <tr>\n",
       "      <td>Radio</td>\n",
       "      <td>69.862492</td>\n",
       "      <td>220.427743</td>\n",
       "      <td>114.496979</td>\n",
       "      <td>44.635688</td>\n",
       "    </tr>\n",
       "    <tr>\n",
       "      <td>Newspaper</td>\n",
       "      <td>105.919452</td>\n",
       "      <td>114.496979</td>\n",
       "      <td>474.308326</td>\n",
       "      <td>25.941392</td>\n",
       "    </tr>\n",
       "    <tr>\n",
       "      <td>Sales</td>\n",
       "      <td>350.390195</td>\n",
       "      <td>44.635688</td>\n",
       "      <td>25.941392</td>\n",
       "      <td>27.221853</td>\n",
       "    </tr>\n",
       "  </tbody>\n",
       "</table>\n",
       "</div>"
      ],
      "text/plain": [
       "                    TV       Radio   Newspaper       Sales\n",
       "TV         7370.949893   69.862492  105.919452  350.390195\n",
       "Radio        69.862492  220.427743  114.496979   44.635688\n",
       "Newspaper   105.919452  114.496979  474.308326   25.941392\n",
       "Sales       350.390195   44.635688   25.941392   27.221853"
      ]
     },
     "execution_count": 18,
     "metadata": {},
     "output_type": "execute_result"
    }
   ],
   "source": [
    "# Get Variance and Covariance - What can we infer?\n",
    "df.cov()"
   ]
  },
  {
   "cell_type": "code",
   "execution_count": 19,
   "metadata": {},
   "outputs": [
    {
     "data": {
      "text/html": [
       "<div>\n",
       "<style scoped>\n",
       "    .dataframe tbody tr th:only-of-type {\n",
       "        vertical-align: middle;\n",
       "    }\n",
       "\n",
       "    .dataframe tbody tr th {\n",
       "        vertical-align: top;\n",
       "    }\n",
       "\n",
       "    .dataframe thead th {\n",
       "        text-align: right;\n",
       "    }\n",
       "</style>\n",
       "<table border=\"1\" class=\"dataframe\">\n",
       "  <thead>\n",
       "    <tr style=\"text-align: right;\">\n",
       "      <th></th>\n",
       "      <th>TV</th>\n",
       "      <th>Radio</th>\n",
       "      <th>Newspaper</th>\n",
       "      <th>Sales</th>\n",
       "    </tr>\n",
       "  </thead>\n",
       "  <tbody>\n",
       "    <tr>\n",
       "      <td>TV</td>\n",
       "      <td>1.000000</td>\n",
       "      <td>0.054809</td>\n",
       "      <td>0.056648</td>\n",
       "      <td>0.782224</td>\n",
       "    </tr>\n",
       "    <tr>\n",
       "      <td>Radio</td>\n",
       "      <td>0.054809</td>\n",
       "      <td>1.000000</td>\n",
       "      <td>0.354104</td>\n",
       "      <td>0.576223</td>\n",
       "    </tr>\n",
       "    <tr>\n",
       "      <td>Newspaper</td>\n",
       "      <td>0.056648</td>\n",
       "      <td>0.354104</td>\n",
       "      <td>1.000000</td>\n",
       "      <td>0.228299</td>\n",
       "    </tr>\n",
       "    <tr>\n",
       "      <td>Sales</td>\n",
       "      <td>0.782224</td>\n",
       "      <td>0.576223</td>\n",
       "      <td>0.228299</td>\n",
       "      <td>1.000000</td>\n",
       "    </tr>\n",
       "  </tbody>\n",
       "</table>\n",
       "</div>"
      ],
      "text/plain": [
       "                 TV     Radio  Newspaper     Sales\n",
       "TV         1.000000  0.054809   0.056648  0.782224\n",
       "Radio      0.054809  1.000000   0.354104  0.576223\n",
       "Newspaper  0.056648  0.354104   1.000000  0.228299\n",
       "Sales      0.782224  0.576223   0.228299  1.000000"
      ]
     },
     "execution_count": 19,
     "metadata": {},
     "output_type": "execute_result"
    }
   ],
   "source": [
    "# Get Correlation Coefficient - What can we infer?\n",
    "df.corr(method ='pearson') "
   ]
  },
  {
   "cell_type": "code",
   "execution_count": 20,
   "metadata": {},
   "outputs": [
    {
     "name": "stdout",
     "output_type": "stream",
     "text": [
      "Intercept    7.032594\n",
      "TV           0.047537\n",
      "dtype: float64\n"
     ]
    }
   ],
   "source": [
    "# Answer the first question: Can TV advertising spending predict the number of sales for the product?\n",
    "import statsmodels.formula.api as smf\n",
    "\n",
    "# Initialise and fit linear regression model using `statsmodels`\n",
    "model = smf.ols('Sales ~ TV', data=df)\n",
    "model = model.fit()\n",
    "print(model.params)"
   ]
  },
  {
   "cell_type": "code",
   "execution_count": 21,
   "metadata": {},
   "outputs": [
    {
     "data": {
      "image/png": "[encoded data removed]",
      "text/plain": [
       "<Figure size 864x432 with 1 Axes>"
      ]
     },
     "metadata": {
      "needs_background": "light"
     },
     "output_type": "display_data"
    }
   ],
   "source": [
    "# Predict values\n",
    "TV_pred = model.predict()\n",
    "\n",
    "# Plot regression against actual data - What do we see?\n",
    "plt.figure(figsize=(12, 6))\n",
    "plt.plot(df['TV'], df['Sales'], 'o')           # scatter plot showing actual data\n",
    "plt.plot(df['TV'], TV_pred, 'r', linewidth=2)   # regression line\n",
    "plt.xlabel('TV advertising spending')\n",
    "plt.ylabel('Sales')\n",
    "plt.title('Predicting with TV spendings only')\n",
    "\n",
    "plt.show()"
   ]
  },
  {
   "cell_type": "code",
   "execution_count": 22,
   "metadata": {},
   "outputs": [
    {
     "name": "stdout",
     "output_type": "stream",
     "text": [
      "Intercept    9.311638\n",
      "Radio        0.202496\n",
      "dtype: float64\n"
     ]
    }
   ],
   "source": [
    "# Answer the second question: Can Radio advertising spending predict the number of sales for the product?\n",
    "import statsmodels.formula.api as smf\n",
    "\n",
    "# Initialise and fit linear regression model using `statsmodels`\n",
    "model = smf.ols('Sales ~ Radio', data=df)\n",
    "model = model.fit()\n",
    "print(model.params)"
   ]
  },
  {
   "cell_type": "code",
   "execution_count": 23,
   "metadata": {},
   "outputs": [
    {
     "data": {
      "image/png": "[encoded data removed]",
      "text/plain": [
       "<Figure size 864x432 with 1 Axes>"
      ]
     },
     "metadata": {
      "needs_background": "light"
     },
     "output_type": "display_data"
    }
   ],
   "source": [
    "# Predict values\n",
    "RADIO_pred = model.predict()\n",
    "\n",
    "# Plot regression against actual data - What do we see?\n",
    "plt.figure(figsize=(12, 6))\n",
    "plt.plot(df['Radio'], df['Sales'], 'o')           # scatter plot showing actual data\n",
    "plt.plot(df['Radio'], RADIO_pred, 'r', linewidth=2)   # regression line\n",
    "plt.xlabel('Radio advertising spending')\n",
    "plt.ylabel('Sales')\n",
    "plt.title('Predicting with Radio spendings only')\n",
    "\n",
    "plt.show()"
   ]
  },
  {
   "cell_type": "code",
   "execution_count": 24,
   "metadata": {},
   "outputs": [
    {
     "name": "stdout",
     "output_type": "stream",
     "text": [
      "Intercept    12.351407\n",
      "Newspaper     0.054693\n",
      "dtype: float64\n"
     ]
    }
   ],
   "source": [
    "# Answer the third question: Can Newspaper advertising spending predict the number of sales for the product?\n",
    "import statsmodels.formula.api as smf\n",
    "\n",
    "# Initialise and fit linear regression model using `statsmodels`\n",
    "model = smf.ols('Sales ~ Newspaper', data=df)\n",
    "model = model.fit()\n",
    "print(model.params)"
   ]
  },
  {
   "cell_type": "code",
   "execution_count": 25,
   "metadata": {},
   "outputs": [
    {
     "data": {
      "image/png": "[encoded data removed]",
      "text/plain": [
       "<Figure size 864x432 with 1 Axes>"
      ]
     },
     "metadata": {
      "needs_background": "light"
     },
     "output_type": "display_data"
    }
   ],
   "source": [
    "# Predict values\n",
    "NP_pred = model.predict()\n",
    "\n",
    "# Plot regression against actual data - What do we see?\n",
    "plt.figure(figsize=(12, 6))\n",
    "plt.plot(df['Newspaper'], df['Sales'], 'o')           # scatter plot showing actual data\n",
    "plt.plot(df['Newspaper'], NP_pred, 'r', linewidth=2)   # regression line\n",
    "plt.xlabel('Newspaper advertising spending')\n",
    "plt.ylabel('Sales')\n",
    "plt.title('Predicting with Newspaper spendings only')\n",
    "\n",
    "plt.show()"
   ]
  },
  {
   "cell_type": "code",
   "execution_count": 26,
   "metadata": {},
   "outputs": [],
   "source": [
    "# Answer the fourth question: Can we use the three of them to predict the number of sales for the product?\n",
    "# This is a case of multiple linear regression model. This is simply a linear regression model with more than one predictor:\n",
    "# and is modelled by:  Yₑ = α + β₁X₁ + β₂X₂ + … + βₚXₚ , where p is the number of predictors.\n",
    "# In this case: Sales = α + β1*TV + β2*Radio + β3*Newspaper\n",
    "# Multiple Linear Regression with scikit-learn:\n",
    "from sklearn.linear_model import LinearRegression\n",
    "\n",
    "# Build linear regression model using TV,Radio and Newspaper as predictors\n",
    "# Split data into predictors X and output Y\n",
    "predictors = ['TV', 'Radio', 'Newspaper']\n",
    "X = df[predictors]\n",
    "y = df['Sales']\n",
    "\n",
    "# Initialise and fit model\n",
    "lm = LinearRegression()\n",
    "model = lm.fit(X, y)"
   ]
  },
  {
   "cell_type": "code",
   "execution_count": 27,
   "metadata": {},
   "outputs": [
    {
     "name": "stdout",
     "output_type": "stream",
     "text": [
      "alpha = 2.9388893694594085\n",
      "betas = [ 0.04576465  0.18853002 -0.00103749]\n"
     ]
    }
   ],
   "source": [
    "print(f'alpha = {model.intercept_}')\n",
    "print(f'betas = {model.coef_}')"
   ]
  },
  {
   "cell_type": "code",
   "execution_count": 28,
   "metadata": {},
   "outputs": [
    {
     "name": "stdout",
     "output_type": "stream",
     "text": [
      "[54.32241174]\n"
     ]
    }
   ],
   "source": [
    "# Therefore, our model can be written as:\n",
    "#Sales = 2.938 + 0.046*TV + 0.1885*Radio -0.001*Newspaper\n",
    "# we can predict sales from any combination of TV and Radio and Newspaper advertising costs! \n",
    "#For example, if we wanted to know how many sales we would make if we invested \n",
    "# $300 in TV advertising and $200 in Radio advertising and $50 in Newspaper advertising\n",
    "#all we have to do is plug in the values:\n",
    "new_X = [[300, 200,50]]\n",
    "print(model.predict(new_X))"
   ]
  },
  {
   "cell_type": "code",
   "execution_count": 29,
   "metadata": {},
   "outputs": [],
   "source": [
    "# Answer the final question : Which parameter is a better predictor of the number of sales for the product?\n",
    "# How can we answer that?\n",
    "# WHAT CAN WE INFER FROM THE BETAs ?\n"
   ]
  },
  {
   "cell_type": "markdown",
   "metadata": {},
   "source": [
    "___"
   ]
  },
  {
   "cell_type": "markdown",
   "metadata": {},
   "source": [
    "#### So far on linear regression ... <br>\n",
    "\n",
    "![](https://memegenerator.net/img/instances/73698591.jpg) <br>\n",
    "\n",
    "\n",
    "- __What is linear regression?__<br>\n",
    "    a basic predictive analytics technique that uses historical data to predict an output variable.<br>\n",
    "- __Why do we need linear regression?__\n",
    "    To explore the relationship between predictor and output variables and predict the output variable based on known values of predictors.  <br>    \n",
    "- __How does linear regression work?__\n",
    "    To estimate Y using linear regression, we assume the equation:  𝑌𝑒=β𝑋+α <br>\n",
    "    Our goal is to find statistically significant values of the parameters α and β that minimise the difference between Y and Yₑ. If we are able to determine the optimum values of these two parameters, then we will have the line of best fit that we can use to predict the values of Y, given the value of X. <br>\n",
    "- __How to estimate the coefficients?__\n",
    "    We used a method called \"Ordinary Least Squares (OLS)\". __But that is not the only way. Let's put a pin on that!__\n",
    "\n",
    "![](https://media3.giphy.com/media/15bf6pru8mSR2/giphy.gif) <br>\n",
    "\n",
    "\n",
    "#### Remember when we discussed Probability Density Function (PDF) for the normal distribution? - Probably not!<br>\n",
    "\n",
    "![](https://miro.medium.com/max/572/1*P78bMZPhhKnzLkwcNgeJ0g.png) <br>\n",
    "\n",
    "\n",
    "#### This equation is telling us the probability our sample x from our random variable X, when the true parameters of the distribution are μ and σ. <br>\n"
   ]
  },
  {
   "cell_type": "markdown",
   "metadata": {},
   "source": [
    "### Example1 :Let’s say our sample is 3, what is the probability it comes from a distribution of μ = 3 and σ = 1? What if it came from a distribution with μ = 7 and σ = 2? Which one is more probable?<br>"
   ]
  },
  {
   "cell_type": "code",
   "execution_count": 2,
   "metadata": {},
   "outputs": [],
   "source": [
    "import numpy as np\n",
    "import pandas as pd\n",
    "import statistics\n",
    "import scipy.stats\n",
    "from matplotlib import pyplot as plt"
   ]
  },
  {
   "cell_type": "code",
   "execution_count": 2,
   "metadata": {},
   "outputs": [
    {
     "data": {
      "text/plain": [
       "0.3989422804014327"
      ]
     },
     "execution_count": 2,
     "metadata": {},
     "output_type": "execute_result"
    }
   ],
   "source": [
    "scipy.stats.norm.pdf(3, 3, 1)"
   ]
  },
  {
   "cell_type": "code",
   "execution_count": 3,
   "metadata": {},
   "outputs": [
    {
     "data": {
      "text/plain": [
       "0.02699548325659403"
      ]
     },
     "execution_count": 3,
     "metadata": {},
     "output_type": "execute_result"
    }
   ],
   "source": [
    "scipy.stats.norm.pdf(3, 7, 2)"
   ]
  },
  {
   "cell_type": "markdown",
   "metadata": {},
   "source": [
    "#### So it is much more likely it came from the first distribution. The PDF equation has shown us how likely those values are to appear in a distribution with certain parameters. Keep that in mind for later. But what if we had a bunch of points we wanted to estimate?\n",
    "#### Let’s assume we get a bunch of samples fromX which we know to come from some normal distribution, and all are mutually independent from each other. If this is the case, the total probability of observing all of the data is the product of obtaining each data point individually. \n",
    "#### This should kinda remind you of our class on probability, where we talked about the probability of multiple events happening back to back (e.g., the royal flush set). "
   ]
  },
  {
   "cell_type": "markdown",
   "metadata": {},
   "source": [
    "### Example2 : What is the probability of 2 and 6 being drawn from a distribution with μ = 4 and σ = 1<br>"
   ]
  },
  {
   "cell_type": "code",
   "execution_count": 4,
   "metadata": {},
   "outputs": [
    {
     "data": {
      "text/plain": [
       "0.0029150244650281948"
      ]
     },
     "execution_count": 4,
     "metadata": {},
     "output_type": "execute_result"
    }
   ],
   "source": [
    "scipy.stats.norm.pdf(2, 4, 1) * scipy.stats.norm.pdf(6, 4, 1)"
   ]
  },
  {
   "cell_type": "markdown",
   "metadata": {},
   "source": [
    "#### Maximum Likelihood Estimation (MLE) is used to specify a distribution of unknown parameters, then using your data to pull out the actual parameter values.To go back to the pin!, let's look at our linear model:\n",
    "![](https://miro.medium.com/max/352/1*iJrwssQh4dJARzeuQPw1kw.png) <br>\n",
    "#### The noise parameter (error) is basically why the points (samples) do not fall exactly on the line. The error for each point would be the distance from the point to our line. We’d like to explicitly include those errors in our model. One method of doing this, is to assume the errors are distributed from a Gaussian distribution with a mean of 0 and some unknown variance σ². The Gaussian seems like a good choice, because our errors look like they’re symmetric about were the line would be, and that small errors are more likely than large errors. <br>\n",
    "#### This model has three parameters: the slope and intercept of our line and the variance of the noise distribution. Our main goal is to find the best parameters for the slope and intercept of our line.\n",
    "#### let’s rewrite our model from above as a single conditional distribution given x:\n",
    "![](https://miro.medium.com/max/403/1*S9Wo7Ay3O-CGarsNULSWOA.png) <br>\n",
    "#### This is equivalent to pushing our x through the equation of the line and then adding noise from the 0 mean Gaussian. Now, we can write the conditional distribution of y given x in terms of this Gaussian. This is just the equation of a Gaussian distribution’s probability density function, with our linear equation in place of the mean:\n",
    "![](https://miro.medium.com/max/576/1*3M7mJamXgcFPXzvD0U4yIA.png) <br>\n",
    "#### The semicolon in the conditional distribution acts just like a comma, but it’s a useful notation for separating our observed data from the parameters. <br>\n",
    "#### Each point is independent and identically distributed (iid), so we can write the likelihood function with respect to all of our observed points as the product of each individual probability density. Since σ² is the same for each data point, we can factor out the term of the Gaussian which doesn’t include x or y from the product:\n",
    "![](https://miro.medium.com/max/576/1*JXtvd6fO6ydgAqQR4jAaWQ.png) <br>\n",
    "#### The next step in MLE, is to find the parameters which maximize this function. To make our equation simpler, let’s take the log of our likelihood. Recall, that maximizing the log-likelihood is the same as maximizing the likelihood since the log is monotonic. The natural log cancels out with the exponential, turns products into sums of logs, and division into subtraction of logs; so our log-likelihood looks much simpler:\n",
    "![](https://miro.medium.com/max/576/1*gDNxsKgiWTj6AWmolmkjlQ.png) <br>\n",
    "#### To clean things up a bit more, let’s write the output of our line as a single value:\n",
    "![](https://miro.medium.com/max/226/1*tCAZf5pWI5UYyWLXiZ-tSw.png) <br>\n",
    "#### Now our log-likelihood can be written as::\n",
    "![](https://miro.medium.com/max/576/1*U8yya-GV548dLYdRVabERQ.png) <br>\n",
    "#### To remove the negative signs, let’s recall that maximizing a number is the same thing as minimizing the negative of the number. So instead of maximizing the likelihood, let’s minimize the negative log-likelihood:\n",
    "![](https://miro.medium.com/max/576/1*Y_B6FPJq0jb17qK04MVltw.png) <br>\n",
    "#### Our ultimate goal is to find the parameters of our line. To minimize the negative log-likelihood with respect to the linear parameters (the θs), we can imagine that our variance term is a fixed constant. Removing any constant’s which don’t include our θs won’t alter the solution. Therefore, we can throw out any constant terms and elegantly write what we’re trying to minimize as:\n",
    "![](https://miro.medium.com/max/175/1*O8b2CNiqn3xjUF3fkklrXQ.png) <br>\n",
    "#### The maximum likelihood estimate for our linear model is the line which minimizes the sum of squared errors!\n",
    "![](https://media1.giphy.com/media/SJX3gbZ2dbaEhU92Pu/source.gif) <br>\n",
    "#### Now, let's solve for parameters. We’ve concluded that the maximum likelihood estimates for our slope and intercept can be found by minimizing the sum of squared errors. Let’s expand out our minimization objective and use i as our index over our n data points:\n",
    "![](https://miro.medium.com/max/403/1*0zO8-m3ZdruX0hgJ4zLm9g.png) <br>\n",
    "#### The square in the SSE formula makes it quadratic with a single minimum. The minimum can be found by taking the derivative with respect to each of the parameters, setting it equal to 0, and solving for the parameters in turn. <br>\n",
    "\n",
    "#### Taking the partial derivative with respect to the intercept, Setting the derivative equal to 0 and solving for the intercept gives us:\n",
    "![](https://miro.medium.com/max/227/1*YzIf9e2kTWbjgx58wb-KXw.png) <br>\n",
    "#### Taking the partial derivative with respect to the slope, Setting the derivative equal to 0 and solving for the slope gives us:\n",
    "![](https://miro.medium.com/max/324/1*o0vOZ25b1h57UyidKsJlvQ.png) <br>\n",
    "#### And now it's time to put it all together:\n"
   ]
  },
  {
   "cell_type": "code",
   "execution_count": 5,
   "metadata": {},
   "outputs": [],
   "source": [
    "def find_line(xs, ys):\n",
    "    \"\"\"Calculates the slope and intercept\"\"\"\n",
    "    \n",
    "    # number of points\n",
    "    n = len(xs)\n",
    "    # calculate means\n",
    "    x_bar = sum(xs)/n\n",
    "    y_bar = sum(ys)/n\n",
    "        \n",
    "    # calculate slope\n",
    "    num = 0\n",
    "    denom = 0\n",
    "    for i in range(n):\n",
    "        num += (xs[i]-x_bar)*(ys[i]-y_bar)\n",
    "        denom += (xs[i]-x_bar)**2\n",
    "    slope = num/denom\n",
    "    \n",
    "    # calculate intercept\n",
    "    intercept = y_bar - slope*x_bar\n",
    "    \n",
    "    return slope, intercept"
   ]
  },
  {
   "cell_type": "markdown",
   "metadata": {},
   "source": [
    "### Example: Let's have a look at the familiar problem  from Exam II which was also an Example in the previous lab!<br>\n",
    "\n",
    "#### We had a table of recorded times and speeds from some experimental observations. Use MLE to find the intercept and the slope:\n",
    "\n",
    "|Elapsed Time (s)|Speed (m/s)|\n",
    "|---:|---:|\n",
    "|0 |0|\n",
    "|1.0 |3|\n",
    "|2.0 |7|\n",
    "|3.0 |12|\n",
    "|4.0 |20|\n",
    "|5.0 |30|\n",
    "|6.0 | 45.6| \n",
    "|7.0 | 60.3 |\n",
    "|8.0 | 77.7 |\n",
    "|9.0 | 97.3 |\n",
    "|10.0| 121.1|"
   ]
  },
  {
   "cell_type": "code",
   "execution_count": 6,
   "metadata": {},
   "outputs": [
    {
     "data": {
      "text/plain": [
       "(11.977272727272727, -16.78636363636364)"
      ]
     },
     "execution_count": 6,
     "metadata": {},
     "output_type": "execute_result"
    }
   ],
   "source": [
    "time = [0, 1.0, 2.0, 3.0, 4.0, 5.0, 6.0, 7.0, 8.0, 9.0, 10.0]\n",
    "speed = [0, 3, 7, 12, 20, 30, 45.6, 60.3, 77.7, 97.3, 121.2]\n",
    "find_line(time, speed) #Is this similar to our past results?! "
   ]
  },
  {
   "cell_type": "code",
   "execution_count": 7,
   "metadata": {},
   "outputs": [
    {
     "data": {
      "image/png": "[encoded data removed]",
      "text/plain": [
       "<Figure size 864x432 with 1 Axes>"
      ]
     },
     "metadata": {
      "needs_background": "light"
     },
     "output_type": "display_data"
    }
   ],
   "source": [
    "# Predict values\n",
    "X = np.array(time)\n",
    "alpha = -16.78636363636364\n",
    "beta = 11.977272727272727\n",
    "ypred = alpha + beta * X\n",
    "\n",
    "\n",
    "# Plot regression against actual data\n",
    "plt.figure(figsize=(12, 6))\n",
    "plt.plot(X, speed, 'o')           # scatter plot showing actual data\n",
    "plt.plot(X, ypred, 'r', linewidth=2)   # regression line\n",
    "plt.xlabel('Time (s)')\n",
    "plt.ylabel('Speed (m/s)')\n",
    "plt.title('model vs observed')\n",
    "\n",
    "plt.show()"
   ]
  },
  {
   "cell_type": "markdown",
   "metadata": {},
   "source": [
    "## Goodness-of-Fit <br>\n",
    "### So far, we have assessed the quality of fits visually. We can make numerical assessments as well via Goodness-of-Fit (GOF) measures. Let's discuss three of the most common metrics for evaluating predictions on regression machine learning problems: <br>\n",
    "### Mean Absolute Error (MAE): <br>\n",
    "    The Mean Absolute Error (or MAE) is the average of the absolute differences between predictions and actual values. It gives an idea of how wrong the predictions were. The measure gives an idea of the magnitude of the error, but no idea of the direction (e.g. over or under predicting). Here is the formula:\n",
    "\n",
    "![](https://wikimedia.org/api/rest_v1/media/math/render/svg/3ef87b78a9af65e308cf4aa9acf6f203efbdeded) <br>\n",
    "\n",
    "    It is thus an arithmetic average of the absolute errors |ei|=|yi-xi|, where yi is the prediction and xi the true value.  This is known as a scale-dependent accuracy measure and therefore cannot be used to make comparisons between series using different scales."
   ]
  },
  {
   "cell_type": "code",
   "execution_count": 8,
   "metadata": {},
   "outputs": [
    {
     "name": "stdout",
     "output_type": "stream",
     "text": [
      "Results by manual calculation:\n",
      "MAE: 8.927272727272728\n",
      "8.927272727272728\n"
     ]
    }
   ],
   "source": [
    "# calculate manually\n",
    "d = speed - ypred\n",
    "mae_m = np.mean(abs(d))\n",
    "\n",
    "\n",
    "print(\"Results by manual calculation:\")\n",
    "print(\"MAE:\",mae_m)\n",
    "\n",
    "\n",
    "\n",
    "import sklearn.metrics as metrics\n",
    "mae = metrics.mean_absolute_error(speed, ypred)\n",
    "print(mae)"
   ]
  },
  {
   "cell_type": "markdown",
   "metadata": {},
   "source": [
    "### Mean Squared Error (MSE) and Root Mean Squared Error (RMSE): <br>\n",
    "    The Mean Squared Error (or MSE) is much like the mean absolute error in that it provides a gross idea of the magnitude of error. It measures the average of the squares of the errors—that is, the average squared difference between the estimated values and the actual value. The MSE is a measure of the quality of an estimator—it is always non-negative, and values closer to zero are better. An MSE of zero, meaning that the estimator predicts observations of the parameter with perfect accuracy, is ideal (but typically not possible).Taking the square root of the mean squared error converts the units back to the original units of the output variable and can be meaningful for description and presentation. This is called the Root Mean Squared Error (or RMSE). RMSE is the most widely used metric for regression tasksHere is the formula:\n",
    "\n",
    "![](https://wikimedia.org/api/rest_v1/media/math/render/svg/e258221518869aa1c6561bb75b99476c4734108e) <br>\n"
   ]
  },
  {
   "cell_type": "code",
   "execution_count": 9,
   "metadata": {},
   "outputs": [
    {
     "name": "stdout",
     "output_type": "stream",
     "text": [
      "MSE: 108.88210743801659\n",
      "RMSE: 10.434658951686758\n",
      "108.88210743801659\n",
      "10.434658951686758\n"
     ]
    }
   ],
   "source": [
    "mse_m = np.mean(d**2)\n",
    "rmse_m = np.sqrt(mse_m)\n",
    "print(\"MSE:\", mse_m)\n",
    "print(\"RMSE:\", rmse_m)\n",
    "mse = metrics.mean_squared_error(speed, ypred)\n",
    "rmse = np.sqrt(mse) # or mse**(0.5) \n",
    "print(mse)\n",
    "print(rmse)"
   ]
  },
  {
   "cell_type": "markdown",
   "metadata": {},
   "source": [
    "### R^2 Metric: <br>\n",
    "    The R^2 (or R Squared) metric provides an indication of the goodness of fit of a set of predictions to the actual values. In statistical literature, this measure is called the coefficient of determination. This is a value between 0 and 1 for no-fit and perfect fit respectively. It provides a measure of how well observed outcomes are replicated by the model, based on the proportion of total variation of outcomes explained by the model..Here is the formula:\n",
    "\n",
    "![](https://wikimedia.org/api/rest_v1/media/math/render/svg/3a1f55d7e84c24299917fb3fec4d0439b81e728d) <br>\n",
    "![](https://wikimedia.org/api/rest_v1/media/math/render/svg/2669c9340581d55b274d3b8ea67a7deb2225510b) <br>\n",
    "![](https://wikimedia.org/api/rest_v1/media/math/render/svg/c7e3ab84636f38c257641f85f009bcb422c73151) <br>"
   ]
  },
  {
   "cell_type": "code",
   "execution_count": 10,
   "metadata": {},
   "outputs": [
    {
     "name": "stdout",
     "output_type": "stream",
     "text": [
      "R-Squared: 0.9294545816516323\n",
      "0.9294545816516323\n"
     ]
    }
   ],
   "source": [
    "r2_m = 1-(sum(d**2)/sum((speed-np.mean(speed))**2))\n",
    "print(\"R-Squared:\", r2_m)\n",
    "r2 = metrics.r2_score(speed, ypred)\n",
    "print(r2)"
   ]
  },
  {
   "cell_type": "markdown",
   "metadata": {},
   "source": [
    "![](https://media2.giphy.com/media/5nj4ZZWl6QwneEaBX4/source.gif) <br>\n",
    "\n",
    "*This notebook was inspired by several blogposts including:*\n",
    "- __\"Introduction to Linear Regression in Python\"__ by __Lorraine Li__ available at* https://towardsdatascience.com/introduction-to-linear-regression-in-python-c12a072bedf0 <br>\n",
    "- __\"In Depth: Linear Regression\"__ available at* https://jakevdp.github.io/PythonDataScienceHandbook/05.06-linear-regression.html <br>\n",
    "- __\"A friendly introduction to linear regression (using Python)\"__ available at* https://www.dataschool.io/linear-regression-in-python/ <br>\n",
    "- __\"What is Maximum Likelihood Estimation — Examples in Python\"__ by __Robert R.F. DeFilippi__ available at* https://medium.com/@rrfd/what-is-maximum-likelihood-estimation-examples-in-python-791153818030 <br>\n",
    "- __\"Linear Regression\"__ by __William Fleshman__  available at* https://towardsdatascience.com/linear-regression-91eeae7d6a2e <br>\n",
    "- __\"Regression Accuracy Check in Python (MAE, MSE, RMSE, R-Squared)\"__ available at* https://www.datatechnotes.com/2019/10/accuracy-check-in-python-mae-mse-rmse-r.html <br>\n",
    "\n",
    "*Here are some great reads on these topics:* \n",
    "- __\"Linear Regression in Python\"__ by __Sadrach Pierre__ available at* https://towardsdatascience.com/linear-regression-in-python-a1d8c13f3242 <br>\n",
    "- __\"Introduction to Linear Regression in Python\"__ available at* https://cmdlinetips.com/2019/09/introduction-to-linear-regression-in-python/ <br>\n",
    "- __\"Linear Regression in Python\"__ by __Mirko Stojiljković__ available at* https://realpython.com/linear-regression-in-python/ <br>\n",
    "- __\"A Gentle Introduction to Linear Regression With Maximum Likelihood Estimation\"__ by __Jason Brownlee__ available at* https://machinelearningmastery.com/linear-regression-with-maximum-likelihood-estimation/ <br>\n",
    "- __\"Metrics To Evaluate Machine Learning Algorithms in Python\"__ by __Jason Brownlee__ available at* https://machinelearningmastery.com/metrics-evaluate-machine-learning-algorithms-python/ <br>\n",
    "- __\"A Gentle Introduction to Maximum Likelihood Estimation\"__ by __Jonathan Balaban__ available at* https://towardsdatascience.com/a-gentle-introduction-to-maximum-likelihood-estimation-9fbff27ea12f <br>\n",
    "- __\"Regression: An Explanation of Regression Metrics And What Can Go Wrong\"__ by __Divyanshu Mishra__ available at* https://towardsdatascience.com/regression-an-explanation-of-regression-metrics-and-what-can-go-wrong-a39a9793d914 <br>\n",
    "- __\"Tutorial: Understanding Regression Error Metrics in Python\"__ available at* https://www.dataquest.io/blog/understanding-regression-error-metrics/ <br>\n",
    "\n",
    "*Here are some great videos on these topics:* \n",
    "- __\"StatQuest: Fitting a line to data, aka least squares, aka linear regression.\"__ by __StatQuest with Josh Starmer__ available at* https://www.youtube.com/watch?v=PaFPbb66DxQ&list=PLblh5JKOoLUIzaEkCLIUxQFjPIlapw8nU <br>\n",
    "- __\"Statistics 101: Linear Regression, The Very Basics\"__ by __Brandon Foltz__ available at* https://www.youtube.com/watch?v=ZkjP5RJLQF4 <br>\n",
    "- __\"How to Build a Linear Regression Model in Python | Part 1\" and 2,3,4!__ by __Sigma Coding__ available at* https://www.youtube.com/watch?v=MRm5sBfdBBQ <br>\n",
    "- __\"StatQuest: Maximum Likelihood, clearly explained!!!\"__ by __StatQuest with Josh Starmer__ available at* https://www.youtube.com/watch?v=XepXtl9YKwc <br>\n",
    "- __\"Maximum Likelihood for Regression Coefficients (part 1 of 3)\" and part 2 and 3__ by __Professor Knudson__ available at* https://www.youtube.com/watch?v=avs4V7wBRw0 <br>\n",
    "- __\"StatQuest: R-squared explained\"__ by __StatQuest with Josh Starmer__ available at* https://www.youtube.com/watch?v=2AQKmw14mHM <br>"
   ]
  },
  {
   "cell_type": "markdown",
   "metadata": {},
   "source": [
    "___\n",
    "![](https://media2.giphy.com/media/dNgK7Ws7y176U/200.gif) <br>\n"
   ]
  },
  {
   "cell_type": "markdown",
   "metadata": {},
   "source": [
    "## Exercise: Linear Regression - Yea or Nay <br>\n",
    "\n",
    "### List some of the pros and cons of linear regression.\n",
    "\n",
    "#### _Make sure to cite any resources that you may use._ "
   ]
  },
  {
   "cell_type": "code",
   "execution_count": null,
   "metadata": {},
   "outputs": [],
   "source": []
  },
  {
   "cell_type": "markdown",
   "metadata": {},
   "source": [
    "![](http://quotessayings.net/pics/linear-regression-quote-by-jordan-ellenberg-244617.jpg)"
   ]
  }
 ],
 "metadata": {
  "kernelspec": {
   "display_name": "Python 3",
   "language": "python",
   "name": "python3"
  },
  "language_info": {
   "codemirror_mode": {
    "name": "ipython",
    "version": 3
   },
   "file_extension": ".py",
   "mimetype": "text/x-python",
   "name": "python",
   "nbconvert_exporter": "python",
   "pygments_lexer": "ipython3",
   "version": "3.7.4"
  }
 },
 "nbformat": 4,
 "nbformat_minor": 4
}
