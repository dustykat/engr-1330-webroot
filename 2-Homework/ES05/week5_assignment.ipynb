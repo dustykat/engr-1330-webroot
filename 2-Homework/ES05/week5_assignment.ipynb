{
 "cells": [
  {
   "cell_type": "markdown",
   "metadata": {},
   "source": [
    "**Download** (right-click, save target as ...) this page as a jupyterlab notebook from: [ES05-Weekly Assignment](http://54.243.252.9/engr-1330-webroot/2-Homework/ES05/week5_assignment.ipynb)\n",
    "\n",
    "___"
   ]
  },
  {
   "cell_type": "markdown",
   "metadata": {},
   "source": [
    "# NumPy, Matrices, and Datafiles\r\n",
    "\r\n",
    "*ENGR 1330 | Computational Thinking with Data Science | Texas Tech University*\r\n",
    "\r\n",
    "**Developed By:** Derek Johnston @ Texas Tech University"
   ]
  },
  {
   "cell_type": "code",
   "execution_count": null,
   "metadata": {},
   "outputs": [],
   "source": [
    "import numpy as np\r\n",
    "import csv"
   ]
  },
  {
   "cell_type": "markdown",
   "metadata": {},
   "source": [
    "## Exercise 1 | Creating a Numpy Array\r\n",
    "\r\n",
    "The core datatype of NumPy is the NumPy Array. NumPy Arrays build on the basic Python List datatype to add functionality for vector math and common statistical calculations. The easiest way to create a NumPy Array is to first create a List and then passing it as the argument to the *np.Array()* constructor. In this exercise, you'll create some NumPy arrays, and then perform some simple operations on them.\r\n",
    "\r\n",
    "### Resources\r\n",
    "\r\n",
    "- [Creating a NumPy Array](https://www.w3schools.com/PYTHON/numpy/numpy_creating_arrays.asp)\r\n",
    "- [NumPy Array Shape](https://www.w3schools.com/PYTHON/numpy/numpy_array_shape.asp)\r\n",
    "- [Sorting a NumPy Array](https://www.w3schools.com/PYTHON/numpy/numpy_array_sort.asp)\r\n",
    "\r\n",
    "### Instructions\r\n",
    "\r\n",
    "1. Create a 1-dimensional Array, named *my_arr* containing the elements **[9, 8, 7, 6, 5, 4, 3, 2, 1]**.\r\n",
    "2. Print the shape of *my_arr*.\r\n",
    "3. Create a 2-dimensional Array, named *my_mat* containing rows, each containing a copy of my_arr.\r\n",
    "4. Print the shape of *my_mat*.\r\n",
    "5. Create a new Array named *my_prod* and use it to store the result of the operation **my_arr * my_arr**.\r\n",
    "6. Print out *my_prod*\r\n",
    "7. Use the **np.sort** function to sort *my_prod* and store the result in a new Array named *my_prod_sorted*.\r\n",
    "8. Print out *my_prod_sorted*"
   ]
  },
  {
   "cell_type": "code",
   "execution_count": null,
   "metadata": {},
   "outputs": [],
   "source": [
    "# Exercise 1 Code Goes Here\r\n"
   ]
  },
  {
   "cell_type": "markdown",
   "metadata": {},
   "source": [
    "## Exercise 2 | Working with Matrices\r\n",
    "\r\n",
    "NumPy really shines when it's time to work with vectors and matrices. A lot of complex operations work right out of the box and are very easy to use. In this exercise, we'll look at how to manipulate the shape of matrices, access their rows and columns, and perform some matrix math operations. \r\n",
    "\r\n",
    "### Resources\r\n",
    "\r\n",
    "- [Reshaping an Array](https://www.w3schools.com/PYTHON/numpy/numpy_array_reshape.asp)\r\n",
    "- [Array Indexing](https://www.w3schools.com/PYTHON/numpy/numpy_array_indexing.asp)\r\n",
    "- [NumPy Dot Product](https://pythonexamples.org/python-numpy-dot-product/)\r\n",
    "\r\n",
    "### Instructions\r\n",
    "\r\n",
    "- In exercise 1, you created an array called *my_arr*. Use the **reshape** function to create a 3x3 matrix named *arr_reshaped*.\r\n",
    "- Print out *arr_reshaped* to see the result.\r\n",
    "- Use indexing to print out the last row of the matrix and print out the element at the center of the matrix.\r\n",
    "- Create two 1-dimensional arrays named *X* and *Y* with the elements *[3, 9, 5, 4]* and *[1, 8, 7, 6]*, respectively.\r\n",
    "- Compute the dot product of *X* and *Y* and print the result.\r\n"
   ]
  },
  {
   "cell_type": "code",
   "execution_count": null,
   "metadata": {},
   "outputs": [],
   "source": [
    "# Exercise 2 Code Goes Here\r\n"
   ]
  },
  {
   "cell_type": "markdown",
   "metadata": {},
   "source": [
    "## Exercise 3 | Importing a Datafile\r\n",
    "\r\n",
    "Eventually, we'll want to put our data science skills to work on data from the real world. To do this, we first need to get that data into our Python scripts. It's also a good idea to save our data once we're finished working with it. In this exercise, you'll practice reading-in a *comma-separated (CSV)* file containing some data. You'll also look at how to copy data into a CSV file of your own.\r\n",
    "\r\n",
    "### Resources\r\n",
    "- [Working with CSV Files in Python](https://realpython.com/python-csv/)\r\n",
    "\r\n",
    "\r\n",
    "### Instructions\r\n",
    "\r\n",
    "1. Use a **with** statement to open the *airtravel.csv* for **reading**   The file  as *file*.\r\n",
    "2. Create a csv reader object for *file* with a *,* delimiter\r\n",
    "3. Use a **for** loop to print each row of the CSV file.\r\n",
    "4. Using the same **for** loop that you created in step 3, create a List called *data* and append, to it, each row of the CSV file.\r\n",
    "5. Print the row of *data* which contains the entries for October.\r\n",
    "6. Use a **with open** statement to create a new file called *airtravel_copy.csv* for writing. **Hint:** Use the argument *newline=''* to keep your output file clean.\r\n",
    "7. Create a *csv.writer* object with the arguments *file, quotechar=\"'\", quoting=csv.QUOTE_MINIMAL*.\r\n",
    "8. Using a **for** loop, write each row in your *data* matrix *airtravel_copy.csv*. "
   ]
  },
  {
   "cell_type": "code",
   "execution_count": null,
   "metadata": {},
   "outputs": [],
   "source": [
    "# Exercise 3 Code Goes Here\r\n"
   ]
  },
  {
   "cell_type": "markdown",
   "metadata": {},
   "source": [
    "## CHALLENGE| Putting it all together\r\n",
    "\r\n",
    "The *airtravel.csv* file from Exercise 3 contains the average number of passengers each month for the years 1958, 1959, and 1960. In this challenge, you will use all the skills that you've learned in the previous exercises.\r\n",
    "\r\n",
    "### Resources\r\n",
    "- [Calculating the Mean using NumPy](https://www.geeksforgeeks.org/numpy-mean-in-python/)\r\n",
    "\r\n",
    "### Instructions\r\n",
    "\r\n",
    "1. Read-in the data cont*ined in *airtrvel.csv** into a 2-dimensional list. \r\n",
    "3. Create a 2x3 matrix in which the first row contains the headers *[\"1958\", \"1959\", \"1960\"] and the second row contains the **mean** number of passengers flown during that year.\r\n",
    "3. Save your averages matrix in a CSV file named *averages.csv*\r\n",
    "\r\n",
    "### Hints\r\n",
    "\r\n",
    "- The data that comes out of the CSV file will all be of the *string* datatype. You'll need to come up with a way to convert the numbers to a *numeric* datatype such as *int64* before you can calculate the mean.\r\n",
    "- When you read the CSV file into your script, you'll get an empty row at the end of the matrix. Be sure to remove this row from the matrix."
   ]
  },
  {
   "cell_type": "code",
   "execution_count": null,
   "metadata": {},
   "outputs": [],
   "source": [
    "# Challenge Code Goes Here\r\n"
   ]
  }
 ],
 "metadata": {
  "interpreter": {
   "hash": "713550fe996ccd6bfca49754f8f301cea9aaf39cb14e388a1a9ffc2cf9eed65f"
  },
  "kernelspec": {
   "display_name": "Python 3",
   "language": "python",
   "name": "python3"
  },
  "language_info": {
   "codemirror_mode": {
    "name": "ipython",
    "version": 3
   },
   "file_extension": ".py",
   "mimetype": "text/x-python",
   "name": "python",
   "nbconvert_exporter": "python",
   "pygments_lexer": "ipython3",
   "version": "3.8.10"
  }
 },
 "nbformat": 4,
 "nbformat_minor": 4
}
