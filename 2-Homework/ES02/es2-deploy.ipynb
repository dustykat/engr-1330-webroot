{
 "cells": [
  {
   "cell_type": "markdown",
   "metadata": {},
   "source": [
    "# <font color=darkblue>Week 2 Assignment </font>\n",
    "\n"
   ]
  },
  {
   "cell_type": "markdown",
   "metadata": {},
   "source": [
    "## Full name: \n",
    "## R#: \n",
    "## Title of the notebook:\n",
    "## Date: "
   ]
  },
  {
   "cell_type": "markdown",
   "metadata": {},
   "source": [
    "![](https://media.tenor.com/images/dc545e5a0f93c9b2bf1d4f0af54ebbff/tenor.gif) <br>\n"
   ]
  },
  {
   "cell_type": "markdown",
   "metadata": {},
   "source": [
    "### Question1: List Manipulation\n",
    "\n",
    "For the list given below, index and pick all the elements from index positions 3 to 10. \n",
    "Then, calculate the sum and the length of the elements from index positions 3 to 7. \n",
    "Print the sliced list and the values of the sum and the sliced list.\n",
    "\n",
    "**[22, 45, 54, 87, 10, 97, 88, 75, 99, 11, 19, 39, 47, 81, 84]**"
   ]
  },
  {
   "cell_type": "code",
   "execution_count": null,
   "metadata": {},
   "outputs": [],
   "source": []
  },
  {
   "cell_type": "markdown",
   "metadata": {},
   "source": [
    "___\n",
    "### Question2: Dictionary Manipulation <br>\n",
    "\n",
    "From the nested dictionary given below, index and pick the string 'hello'. \n",
    "\n",
    "**{'k1':[1,2,3,{'tricky':['oh','man','inception',{'target':[1,2,3,'hello']}]}]}**"
   ]
  },
  {
   "cell_type": "code",
   "execution_count": null,
   "metadata": {},
   "outputs": [],
   "source": []
  },
  {
   "cell_type": "markdown",
   "metadata": {},
   "source": [
    "### Question3: Use of Conditional Execution <br>\n",
    "\n",
    "A student will not be allowed to sit in exam if his/her attendence is less than 75%. \n",
    "Take the following inputs from the user: \n",
    "\n",
    "    1. Number of classes held.\n",
    "    2. Number of classes attended. \n",
    "   \n",
    "Compute the percentage of classes attended \n",
    "\n",
    "$$\\%_{attended} = \\frac{Classes_{attended}}{Classes_{total}}*100$$\n",
    "\n",
    "Use the result to decide whether the student will be allowed to sit in the exam or not."
   ]
  },
  {
   "cell_type": "code",
   "execution_count": null,
   "metadata": {},
   "outputs": [],
   "source": []
  },
  {
   "cell_type": "markdown",
   "metadata": {},
   "source": [
    "### Question4: RoboCop Modification  <br>\n",
    "\n",
    "You are driving too fast, and a robotic police officer stops you. \n",
    "The robot is programmed with conditional statements to return one of 3 possible results: \n",
    "\"No ticket\",\"One hundred dollar fine\", or \"Five hundred dollar fine\". according to the following rules\n",
    "\n",
    "* If your speed is 60 or less, the result is \"No Ticket\". \n",
    "* If speed is between 61 and 80 inclusive, the result is a fine of \\$100. \n",
    "* If speed is 81 or more, the result is \\$500. \n",
    "* If it is your birthday, your speed can be higher by a value of 5 in all cases.\n",
    "\n",
    "You discover you are able to hack into the robot and can modify the fine script.\n",
    "\n",
    "Modify it so that:\n",
    "\n",
    "* If speed is between 75 and 85 inclusive, the result is a fine of \\$100.\n",
    "* If speed is 86 or more, the result is \\$500. \n",
    "\n",
    "Leave the rest unchanged.\n",
    "\n"
   ]
  },
  {
   "cell_type": "code",
   "execution_count": null,
   "metadata": {},
   "outputs": [],
   "source": [
    "# Original Script\n",
    "# Input Speed\n",
    "speed = int(input('How Fast ? (numeric)'))\n",
    "# Input Birthday\n",
    "yes = 0\n",
    "# while loop \n",
    "while yes == 0:\n",
    "    userInput = input('Is it your birthday?  (Yes or No)')\n",
    "    try:\n",
    "        if userInput == 'Yes':\n",
    "            is_birthday = True\n",
    "        elif userInput == 'No':\n",
    "            is_birthday = False\n",
    "        yes = 1\n",
    "    except:\n",
    "        print (\"You did not enter Yes or No, try again \\n\")\n",
    "# Exit the while loop when finally have a valid answer\n",
    "\n",
    "if is_birthday:\n",
    "    alterspeed = speed-5\n",
    "else:\n",
    "    alterspeed = speed\n",
    "    \n",
    "if alterspeed > 80:    \n",
    "    print('Fine = $500')\n",
    "elif alterspeed > 60:   \n",
    "    print('Fine = $100')\n",
    "else:\n",
    "    print('No Ticket')"
   ]
  },
  {
   "cell_type": "code",
   "execution_count": null,
   "metadata": {},
   "outputs": [],
   "source": []
  },
  {
   "cell_type": "markdown",
   "metadata": {},
   "source": [
    "### Question5: A Loop for Leaps!  <br>\n",
    "\n",
    "1904 was a leap year. Write a for loop that prints out all the leap years from in the 20th century (1904-1999).  "
   ]
  },
  {
   "cell_type": "code",
   "execution_count": null,
   "metadata": {},
   "outputs": [],
   "source": []
  },
  {
   "cell_type": "markdown",
   "metadata": {},
   "source": [
    "### Question6: Trapped!  <br>\n",
    "\n",
    "Write a script that:\n",
    "- asks user for 3 inputs\n",
    "    - a starting value for $x$\n",
    "    - an ending value for $x$\n",
    "    - a stepsize\n",
    "- creates and prints a sequence based on user's 3 numbers\n",
    "- calculates the value of $y$ for each number in the defined sequence based on the rules below\n",
    "\n",
    "> \\begin{gather}\n",
    "y = x~for~0 <= x < 1 \\\\\n",
    "y = x^3~for~1 <= x < 2 \\\\\n",
    "y = x + 2~for~2 <= x  \\\\\n",
    "\\end{gather}\n",
    "\n",
    "- produces a table like this:\n",
    "\n",
    "|x|y(x)|\n",
    "|---:|---:|\n",
    "|0.0|  |\n",
    "|1.0|  |\n",
    "|2.0|  |\n",
    "|3.0|  |\n",
    "|4.0|  |\n",
    "|5.0|  |\n",
    "\n",
    "*the increment can be different from 1.0 (unlike above).\n",
    "\n",
    "**Include error trapping that:\n",
    "\n",
    "1. Takes any numeric input for starting or ending $x$, and forces into a float.\n",
    "2. Takes any numeric input for stepsize. and forces into an integer.\n",
    "3. Takes any non-numeric input, issues a message that the input needs to be numeric, and makes the user try again.\n",
    "\n",
    "\n",
    "\n",
    "Test your script with the following inputs for x, x_increment, num_steps\n",
    "\n",
    "    Case 1) fred , 0.5, 7\n",
    "    \n",
    "    Case 2) 0.0, 0.5, 7\n",
    "      \n",
    "    Case 3) -3.0, 0.5, 14"
   ]
  },
  {
   "cell_type": "code",
   "execution_count": null,
   "metadata": {},
   "outputs": [],
   "source": []
  },
  {
   "cell_type": "markdown",
   "metadata": {},
   "source": [
    "![](https://www.codester.com/static/uploads/items/000/021/21656/preview.jpg)"
   ]
  }
 ],
 "metadata": {
  "kernelspec": {
   "display_name": "Python 3",
   "language": "python",
   "name": "python3"
  },
  "language_info": {
   "codemirror_mode": {
    "name": "ipython",
    "version": 3
   },
   "file_extension": ".py",
   "mimetype": "text/x-python",
   "name": "python",
   "nbconvert_exporter": "python",
   "pygments_lexer": "ipython3",
   "version": "3.8.10"
  }
 },
 "nbformat": 4,
 "nbformat_minor": 4
}
