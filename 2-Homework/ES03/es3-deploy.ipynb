{
 "cells": [
  {
   "cell_type": "markdown",
   "metadata": {},
   "source": [
    "# <font color=darkblue>Week 3 Assignment </font>"
   ]
  },
  {
   "cell_type": "markdown",
   "metadata": {},
   "source": [
    "## Full name: \n",
    "## R#: \n",
    "## Title of the notebook:\n",
    "## Date: "
   ]
  },
  {
   "cell_type": "markdown",
   "metadata": {},
   "source": [
    "![](https://campaignjr.com/v1/wp-content/uploads/2016/12/12_funny-and-inspiring-graphic-design-related-gifs.gif) <br>\n"
   ]
  },
  {
   "cell_type": "markdown",
   "metadata": {},
   "source": [
    "___\n",
    "### Question1: User-Defined Function \n",
    "Create the function $$f(x) = e^x - 10 cos(x) - 100$$ as a function (i.e. use the `def` keyword)\n",
    "\n",
    "    def name(parameters) :\n",
    "        operations on parameters\n",
    "        ...\n",
    "        ...\n",
    "        return (value, or null)\n",
    "\n",
    "Then apply your function to the value.\n",
    "\n",
    "Use your function to complete the table below:\n",
    "\n",
    "| x | f(x) |\n",
    "|---:|---:|\n",
    "| 0.0 | |\n",
    "| 1.50 | |\n",
    "| 2.00 | |\n",
    "| 2.25 | |\n",
    "| 3.0 | |\n",
    "| 4.25 | |\n"
   ]
  },
  {
   "cell_type": "code",
   "execution_count": null,
   "metadata": {},
   "outputs": [],
   "source": []
  },
  {
   "cell_type": "code",
   "execution_count": null,
   "metadata": {},
   "outputs": [],
   "source": []
  },
  {
   "cell_type": "markdown",
   "metadata": {},
   "source": [
    "___\n",
    "### Question2: Power Plot <br>\n",
    "\n",
    "Copy the wrapper script for the `plotAline()` function (from the Lab4_dev notebook), and modify the copy to create a plot of\n",
    "$$ y = x^2 $$\n",
    "for x raging from 0 to 9 (inclusive) in steps of 1.\n",
    "\n",
    "Label the plot and the plot axes."
   ]
  },
  {
   "cell_type": "code",
   "execution_count": null,
   "metadata": {},
   "outputs": [],
   "source": []
  },
  {
   "cell_type": "code",
   "execution_count": null,
   "metadata": {},
   "outputs": [],
   "source": []
  },
  {
   "cell_type": "markdown",
   "metadata": {},
   "source": [
    "___\n",
    "### Question3: Cars! <br>\n",
    "\n",
    "Write a class named '**CarSpeed**' to calculate the speed (in miles/hour) of different brands of cars based on the information given in the table below.  \n",
    "The formula to calculate speed is also given below.  \n",
    "Based on your output, which brand of car has the highest speed?\n",
    "\n",
    "$$Speed = \\frac{Distance}{Time}$$\n",
    "\n",
    "| Car brand   | Distance (miles) | Time (hours) |\n",
    "| ----------- | -----------------|------------|\n",
    "| Ford        | 120              | 1.75       |\n",
    "| Ferrari     | 100              | 1.20       |\n",
    "| BMW         | 205              | 2.35       |\n",
    "| Porsche     | 155              | 1.85       |\n",
    "| Audi        | 190              | 2.10       |\n",
    "| Jaguar      | 255              | 2.45       |\n",
    "\n",
    "##### Notes: \n",
    "1. Use docstrings to describe the purpose of the class.\n",
    "2. Create an object for each car brand and display the output as shown below.\n",
    "\n",
    "Ford_Speed (miles/hour): **SPEED**  \n",
    "Ferrari_Speed (miles/hour): **SPEED**   \n",
    "BMW_Speed (miles/hour): **SPEED**    \n",
    "Porsche_Speed (miles/hour): **SPEED**   \n",
    "Audi_Speed (miles/hour): **SPEED**  \n",
    "Jaguar_Speed (miles/hour): **SPEED**  \n",
    "The car with the highest speed is: **CAR BRAND**"
   ]
  },
  {
   "cell_type": "code",
   "execution_count": null,
   "metadata": {
    "collapsed": false,
    "jupyter": {
     "outputs_hidden": false
    }
   },
   "outputs": [],
   "source": [
    "\n",
    "    "
   ]
  },
  {
   "cell_type": "code",
   "execution_count": null,
   "metadata": {
    "collapsed": false,
    "jupyter": {
     "outputs_hidden": false
    }
   },
   "outputs": [],
   "source": []
  },
  {
   "cell_type": "code",
   "execution_count": null,
   "metadata": {
    "collapsed": false,
    "jupyter": {
     "outputs_hidden": false
    }
   },
   "outputs": [],
   "source": [
    "\n"
   ]
  },
  {
   "cell_type": "code",
   "execution_count": null,
   "metadata": {
    "collapsed": false,
    "jupyter": {
     "outputs_hidden": false
    }
   },
   "outputs": [],
   "source": []
  },
  {
   "cell_type": "markdown",
   "metadata": {},
   "source": [
    "___\n",
    "### Question4: Tax Class  <br>\n",
    "\n",
    "Write a class named '**Tax**' to calculate the state tax (in dollars) of Employees at Texas Tech University based on their annual salary.  \n",
    "The state tax is 16% if the annual salary is below 80,000 dollars and 22% if the salary is more than 80,000 dollars. \n",
    "\n",
    "$$Tax = Annual salary \\times State\\, tax\\, \\%$$\n",
    "\n",
    "| Employee    | Annual salary (dollars) | \n",
    "| ----------- | ------------------------|\n",
    "| Bob         | 1,50,000                | \n",
    "| Mary        | 78,000                  | \n",
    "| John        | 55,000                  | \n",
    "| Danny       | 1,75,000                | \n",
    "\n",
    "#### Notes: \n",
    "1. Use docstrings to describe the purpose of the class.\n",
    "2. Use if....else conditional statements within the method of the class to choose the relevant tax % based on the annual salary.\n",
    "3. Create an object for employee and display the output as shown below.\n",
    "\n",
    "Bob's tax amount (in dollars): **AMOUNT**  \n",
    "Mary's tax amount (in dollars): **AMOUNT**  \n",
    "John's tax amount (in dollars): **AMOUNT**  \n",
    "Danny's tax amount (in dollars): **AMOUNT** \n",
    "\n"
   ]
  },
  {
   "cell_type": "code",
   "execution_count": null,
   "metadata": {
    "collapsed": false,
    "jupyter": {
     "outputs_hidden": false
    }
   },
   "outputs": [],
   "source": []
  },
  {
   "cell_type": "markdown",
   "metadata": {},
   "source": [
    "![](https://freight.cargo.site/w/1200/i/c96b2ce17b2aee95c6e837552e3e38d058ac4ad2a6759448ed78128963790744/Happy_Coding_BC_6-03-05.png)"
   ]
  },
  {
   "cell_type": "code",
   "execution_count": null,
   "metadata": {},
   "outputs": [],
   "source": []
  }
 ],
 "metadata": {
  "kernelspec": {
   "display_name": "Python 3",
   "language": "python",
   "name": "python3"
  },
  "language_info": {
   "codemirror_mode": {
    "name": "ipython",
    "version": 3
   },
   "file_extension": ".py",
   "mimetype": "text/x-python",
   "name": "python",
   "nbconvert_exporter": "python",
   "pygments_lexer": "ipython3",
   "version": "3.8.10"
  }
 },
 "nbformat": 4,
 "nbformat_minor": 4
}
