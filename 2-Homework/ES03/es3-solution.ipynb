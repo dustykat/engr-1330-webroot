{
 "cells": [
  {
   "cell_type": "markdown",
   "metadata": {},
   "source": [
    "# <font color=darkblue>Week 3 Assignment </font>"
   ]
  },
  {
   "cell_type": "markdown",
   "metadata": {},
   "source": [
    "## Full name: \n",
    "## R#: \n",
    "## Title of the notebook:\n",
    "## Date: "
   ]
  },
  {
   "cell_type": "markdown",
   "metadata": {},
   "source": [
    "![](https://campaignjr.com/v1/wp-content/uploads/2016/12/12_funny-and-inspiring-graphic-design-related-gifs.gif) <br>\n"
   ]
  },
  {
   "cell_type": "markdown",
   "metadata": {},
   "source": [
    "___\n",
    "### Question1: User-Defined Function \n",
    "Create the function $$f(x) = e^x - 10 cos(x) - 100$$ as a function (i.e. use the `def` keyword)\n",
    "\n",
    "    def name(parameters) :\n",
    "        operations on parameters\n",
    "        ...\n",
    "        ...\n",
    "        return (value, or null)\n",
    "\n",
    "Then apply your function to the value.\n",
    "\n",
    "Use your function to complete the table below:\n",
    "\n",
    "| x | f(x) |\n",
    "|---:|---:|\n",
    "| 0.0 | |\n",
    "| 1.50 | |\n",
    "| 2.00 | |\n",
    "| 2.25 | |\n",
    "| 3.0 | |\n",
    "| 4.25 | |\n"
   ]
  },
  {
   "cell_type": "code",
   "execution_count": null,
   "metadata": {},
   "outputs": [],
   "source": [
    "from math import exp # package that contains exp function\n",
    "from math import cos # package that contains cosine function\n",
    "def gollum(x) : #define the function \"gollum\"\n",
    "    precious = exp(x) - 10*cos(x) -100  #as stated by the question\n",
    "    return precious"
   ]
  },
  {
   "cell_type": "code",
   "execution_count": null,
   "metadata": {},
   "outputs": [],
   "source": [
    "from prettytable import PrettyTable #package that contains the PrettyTable function \n",
    "t = PrettyTable(['x', 'y']) #Define an empty table\n",
    "\n",
    "x = [0.0,1.5,2.0,2.25,3.0,4.25] #the list of x values according to the table\n",
    "for i in range(0,6,1): #a counter to go through the list x\n",
    "    t.add_row([x[i], gollum(x[i])]) #for each x value, fill one row in table t with the value of x and the value of gollum function of that x\n",
    "\n",
    "print(t)"
   ]
  },
  {
   "cell_type": "markdown",
   "metadata": {},
   "source": [
    "___\n",
    "### Question2: Power Plot <br>\n",
    "\n",
    "Copy the wrapper script for the `plotAline()` function (from the Lab4_dev notebook), and modify the copy to create a plot of\n",
    "$$ y = x^2 $$\n",
    "for x raging from 0 to 9 (inclusive) in steps of 1.\n",
    "\n",
    "Label the plot and the plot axes."
   ]
  },
  {
   "cell_type": "code",
   "execution_count": 1,
   "metadata": {},
   "outputs": [],
   "source": [
    "def plotAline(list1,list2,strx,stry,strtitle): # plot list1 on x, list2 on y, xlabel, ylabel, title\n",
    "    from matplotlib import pyplot as plt # import the plotting library from matplotlibplt.show()\n",
    "    plt.plot( list1, list2, color ='green', marker ='o', linestyle ='solid') # create a line chart, years on x-axis, gdp on y-axis\n",
    "    plt.title(strtitle)# add a title\n",
    "    plt.ylabel(stry)# add a label to the x and y-axes\n",
    "    plt.xlabel(strx)\n",
    "    plt.show() # display the plot\n",
    "    return #null return"
   ]
  },
  {
   "cell_type": "code",
   "execution_count": 3,
   "metadata": {},
   "outputs": [
    {
     "data": {
      "image/png": "[encoded data removed]",
      "text/plain": [
       "<Figure size 432x288 with 1 Axes>"
      ]
     },
     "metadata": {
      "needs_background": "light"
     },
     "output_type": "display_data"
    }
   ],
   "source": [
    "xxx = [] # null list\n",
    "yyy = [] # null list\n",
    "for i in range(0,10):\n",
    "    xxx.append(1.0*i) #float i and append to the list\n",
    "for i in range(0,10):\n",
    "    yyy.append(xxx[i]**2)\n",
    "plotAline(xxx,yyy,\"X\",\"Y\",\"Plot of Y = X^2 \")"
   ]
  },
  {
   "cell_type": "markdown",
   "metadata": {},
   "source": [
    "___\n",
    "### Question3: Cars! <br>\n",
    "\n",
    "Write a class named '**CarSpeed**' to calculate the speed (in miles/hour) of different brands of cars based on the information given in the table below.  \n",
    "The formula to calculate speed is also given below.  \n",
    "Based on your output, which brand of car has the highest speed?\n",
    "\n",
    "$$Speed = \\frac{Distance}{Time}$$\n",
    "\n",
    "| Car brand   | Distance (miles) | Time (hours) |\n",
    "| ----------- | -----------------|------------|\n",
    "| Ford        | 120              | 1.75       |\n",
    "| Ferrari     | 100              | 1.20       |\n",
    "| BMW         | 205              | 2.35       |\n",
    "| Porsche     | 155              | 1.85       |\n",
    "| Audi        | 190              | 2.10       |\n",
    "| Jaguar      | 255              | 2.45       |\n",
    "\n",
    "##### Notes: \n",
    "1. Use docstrings to describe the purpose of the class.\n",
    "2. Create an object for each car brand and display the output as shown below.\n",
    "\n",
    "Ford_Speed (miles/hour): **SPEED**  \n",
    "Ferrari_Speed (miles/hour): **SPEED**   \n",
    "BMW_Speed (miles/hour): **SPEED**    \n",
    "Porsche_Speed (miles/hour): **SPEED**   \n",
    "Audi_Speed (miles/hour): **SPEED**  \n",
    "Jaguar_Speed (miles/hour): **SPEED**  \n",
    "The car with the highest speed is: **CAR BRAND**"
   ]
  },
  {
   "cell_type": "code",
   "execution_count": 8,
   "metadata": {
    "collapsed": false,
    "jupyter": {
     "outputs_hidden": false
    }
   },
   "outputs": [],
   "source": [
    "class CarSpeed:\n",
    "    \"\"\"This class calculates the speed of the car based on the given distance and time\"\"\"\n",
    "    def __init__(self, distance, time):\n",
    "        self.distance = distance\n",
    "        self.time= time\n",
    "        \n",
    "    def speed(self):\n",
    "        return self.distance/self.time\n",
    "    "
   ]
  },
  {
   "cell_type": "code",
   "execution_count": 9,
   "metadata": {
    "collapsed": false,
    "jupyter": {
     "outputs_hidden": false
    }
   },
   "outputs": [],
   "source": [
    "ford = CarSpeed(120, 1.75)\n",
    "ferrari = CarSpeed(100, 1.20)\n",
    "bmw = CarSpeed(205, 2.35)\n",
    "porsche = CarSpeed(155, 1.85)\n",
    "audi = CarSpeed(190, 2.10)\n",
    "jaguar = CarSpeed(255, 2.45)"
   ]
  },
  {
   "cell_type": "code",
   "execution_count": 10,
   "metadata": {
    "collapsed": false,
    "jupyter": {
     "outputs_hidden": false
    }
   },
   "outputs": [
    {
     "name": "stdout",
     "output_type": "stream",
     "text": [
      "Ford_Speed (miles/hour): 68.57142857142857\n",
      "Ferrari_Speed (miles/hour): 83.33333333333334\n",
      "BMW_Speed (miles/hour): 87.23404255319149\n",
      "Porsche_Speed (miles/hour): 83.78378378378378\n",
      "Audi_Speed (miles/hour): 90.47619047619047\n",
      "Jaguar_Speed (miles/hour): 104.08163265306122\n"
     ]
    }
   ],
   "source": [
    "print(\"Ford_Speed (miles/hour):\", ford.speed())\n",
    "print(\"Ferrari_Speed (miles/hour):\", ferrari.speed())\n",
    "print(\"BMW_Speed (miles/hour):\", bmw.speed())\n",
    "print(\"Porsche_Speed (miles/hour):\", porsche.speed())\n",
    "print(\"Audi_Speed (miles/hour):\", audi.speed())\n",
    "print(\"Jaguar_Speed (miles/hour):\", jaguar.speed())\n"
   ]
  },
  {
   "cell_type": "code",
   "execution_count": 11,
   "metadata": {
    "collapsed": false,
    "jupyter": {
     "outputs_hidden": false
    }
   },
   "outputs": [
    {
     "name": "stdout",
     "output_type": "stream",
     "text": [
      "{'Ford': 68.57142857142857, 'Ferrari': 83.33333333333334, 'BMW': 87.23404255319149, 'Porsche': 83.78378378378378, 'Audi': 90.47619047619047, 'Jaguar': 104.08163265306122}\n",
      "The brand of car with the highest speed is Jaguar\n"
     ]
    }
   ],
   "source": [
    "# which brand of car has the highest speed?\n",
    "BrSp = {\"Ford\":ford.speed(),\"Ferrari\":ferrari.speed(),\"BMW\":bmw.speed(),\"Porsche\":porsche.speed(),\"Audi\":audi.speed(),\"Jaguar\":jaguar.speed()} #Create a dictionary with brands and speeds\n",
    "print(BrSp)\n",
    "max_key = max(BrSp, key=BrSp.get) #Find the key(brand) associated with maximum speed\n",
    "print(\"The brand of car with the highest speed is\",max_key)"
   ]
  },
  {
   "cell_type": "markdown",
   "metadata": {},
   "source": [
    "___\n",
    "### Question4: RoboCop Modification  <br>\n",
    "\n",
    "Write a class named '**Tax**' to calculate the state tax (in dollars) of Employees at Texas Tech University based on their annual salary.  \n",
    "The state tax is 16% if the annual salary is below 80,000 dollars and 22% if the salary is more than 80,000 dollars. \n",
    "\n",
    "$$Tax = Annual salary \\times State\\, tax\\, \\%$$\n",
    "\n",
    "| Employee    | Annual salary (dollars) | \n",
    "| ----------- | ------------------------|\n",
    "| Bob         | 1,50,000                | \n",
    "| Mary        | 78,000                  | \n",
    "| John        | 55,000                  | \n",
    "| Danny       | 1,75,000                | \n",
    "\n",
    "#### Notes: \n",
    "1. Use docstrings to describe the purpose of the class.\n",
    "2. Use if....else conditional statements within the method of the class to choose the relevant tax % based on the annual salary.\n",
    "3. Create an object for employee and display the output as shown below.\n",
    "\n",
    "Bob's tax amount (in dollars): **AMOUNT**  \n",
    "Mary's tax amount (in dollars): **AMOUNT**  \n",
    "John's tax amount (in dollars): **AMOUNT**  \n",
    "Danny's tax amount (in dollars): **AMOUNT** \n",
    "\n"
   ]
  },
  {
   "cell_type": "code",
   "execution_count": 12,
   "metadata": {
    "collapsed": false,
    "jupyter": {
     "outputs_hidden": false
    }
   },
   "outputs": [
    {
     "name": "stdout",
     "output_type": "stream",
     "text": [
      "Bob's tax amount (in dollars): 33000.0\n",
      "Mary's tax amount (in dollars): 12480.0\n",
      "John's tax amount (in dollars): 8800.0\n",
      "Danny's tax amount (in dollars): 38500.0\n"
     ]
    }
   ],
   "source": [
    "class Tax:\n",
    "    \"\"\"This class calculates the tax amount based on the annual salary and the state tax %\"\"\"\n",
    "    def __init__(self, salary):\n",
    "        self.salary = salary\n",
    "        \n",
    "    def taxamount(self):\n",
    "        if self.salary < 80000:\n",
    "            return self.salary*(16/100)\n",
    "        else: \n",
    "            return self.salary*(22/100)\n",
    "    \n",
    "bob = Tax(150000)\n",
    "mary = Tax(78000)\n",
    "john = Tax(55000)\n",
    "danny = Tax(175000)\n",
    "\n",
    "print(\"Bob's tax amount (in dollars):\", bob.taxamount())  \n",
    "print(\"Mary's tax amount (in dollars):\", mary.taxamount())  \n",
    "print(\"John's tax amount (in dollars):\", john.taxamount())  \n",
    "print(\"Danny's tax amount (in dollars):\", danny.taxamount())"
   ]
  },
  {
   "cell_type": "markdown",
   "metadata": {},
   "source": [
    "![](https://freight.cargo.site/w/1200/i/c96b2ce17b2aee95c6e837552e3e38d058ac4ad2a6759448ed78128963790744/Happy_Coding_BC_6-03-05.png)"
   ]
  },
  {
   "cell_type": "code",
   "execution_count": null,
   "metadata": {},
   "outputs": [],
   "source": []
  }
 ],
 "metadata": {
  "kernelspec": {
   "display_name": "Python 3",
   "language": "python",
   "name": "python3"
  },
  "language_info": {
   "codemirror_mode": {
    "name": "ipython",
    "version": 3
   },
   "file_extension": ".py",
   "mimetype": "text/x-python",
   "name": "python",
   "nbconvert_exporter": "python",
   "pygments_lexer": "ipython3",
   "version": "3.8.10"
  }
 },
 "nbformat": 4,
 "nbformat_minor": 4
}
