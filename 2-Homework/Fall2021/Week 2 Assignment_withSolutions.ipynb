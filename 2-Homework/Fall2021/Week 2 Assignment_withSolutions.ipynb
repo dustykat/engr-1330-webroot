{
 "cells": [
  {
   "cell_type": "markdown",
   "metadata": {},
   "source": [
    "# <font color=darkblue>Week 2 Assignment </font>\n",
    "\n"
   ]
  },
  {
   "cell_type": "markdown",
   "metadata": {},
   "source": [
    "## Full name: \n",
    "## R#: \n",
    "## Title of the notebook:\n",
    "## Date: "
   ]
  },
  {
   "cell_type": "markdown",
   "metadata": {},
   "source": [
    "![](https://cdn.dribbble.com/users/846207/screenshots/9192312/office-desk-animation.gif) <br>\n"
   ]
  },
  {
   "cell_type": "markdown",
   "metadata": {},
   "source": [
    "## Question0: Think, Design, Draw, Code!  <br>\n",
    "\n",
    "### For the problem described below, follow the steps:\n",
    "\n",
    "#### The problem statement:\n",
    "> \"Calculate the multiplication of any three numbers and report whether it is an even number or not.\""
   ]
  },
  {
   "cell_type": "markdown",
   "metadata": {},
   "source": [
    "### A) Think about your solution (algorithm) and design your flowchart. Draw your flowchart (either on paper or in a software (PowerPoint) and attach a screenshot."
   ]
  },
  {
   "cell_type": "markdown",
   "metadata": {},
   "source": [
    "---\n",
    "EDIT THIS MARKDOWN CELL\n",
    "\n",
    "\n",
    "---"
   ]
  },
  {
   "cell_type": "markdown",
   "metadata": {},
   "source": [
    "### B) Based on your flowchart, write the pseudocode based on what we discussed.  "
   ]
  },
  {
   "cell_type": "markdown",
   "metadata": {},
   "source": [
    "---\n",
    "EDIT THIS MARKDOWN CELL\n",
    "\n",
    "\n",
    "---"
   ]
  },
  {
   "cell_type": "markdown",
   "metadata": {},
   "source": [
    "### C) Based on your pseudocode, write your code in Python."
   ]
  },
  {
   "cell_type": "code",
   "execution_count": null,
   "metadata": {},
   "outputs": [],
   "source": [
    "print(\"please enter 3 numbers\")\n",
    "x1 = float(input())\n",
    "x2 = float(input())\n",
    "x3 = float(input())\n",
    "x = x1 * x2 * x3\n",
    "if x % 2 == 0:\n",
    "   print(\"The result of the multiplication is equal to\",x,\"which is an even number\")\n",
    "else:\n",
    "   print(\"The result of the multiplication is equal to\",x,\"which is an odd number\")"
   ]
  },
  {
   "cell_type": "markdown",
   "metadata": {},
   "source": [
    "### D) Test your code for these cases:\n",
    "\n",
    "- a) 10,2,1\n",
    "- b) 3,5,7\n",
    "- c) 4,6,8"
   ]
  },
  {
   "cell_type": "code",
   "execution_count": 4,
   "metadata": {},
   "outputs": [
    {
     "name": "stdout",
     "output_type": "stream",
     "text": [
      "please enter 3 numbers\n"
     ]
    },
    {
     "name": "stdin",
     "output_type": "stream",
     "text": [
      " 10\n",
      " 2\n",
      " 1\n"
     ]
    },
    {
     "name": "stdout",
     "output_type": "stream",
     "text": [
      "The result of the multiplication is equal to 20.0 which is an even number\n"
     ]
    }
   ],
   "source": [
    "print(\"please enter 3 numbers\")\n",
    "x1 = float(input())\n",
    "x2 = float(input())\n",
    "x3 = float(input())\n",
    "x = x1 * x2 * x3\n",
    "if x % 2 == 0:\n",
    "   print(\"The result of the multiplication is equal to\",x,\"which is an even number\")\n",
    "else:\n",
    "   print(\"The result of the multiplication is equal to\",x,\"which is an odd number\")"
   ]
  },
  {
   "cell_type": "code",
   "execution_count": 5,
   "metadata": {},
   "outputs": [
    {
     "name": "stdout",
     "output_type": "stream",
     "text": [
      "please enter 3 numbers\n"
     ]
    },
    {
     "name": "stdin",
     "output_type": "stream",
     "text": [
      " 3\n",
      " 5\n",
      " 7\n"
     ]
    },
    {
     "name": "stdout",
     "output_type": "stream",
     "text": [
      "The result of the multiplication is equal to 105.0 which is an odd number\n"
     ]
    }
   ],
   "source": [
    "print(\"please enter 3 numbers\")\n",
    "x1 = float(input())\n",
    "x2 = float(input())\n",
    "x3 = float(input())\n",
    "x = x1 * x2 * x3\n",
    "if x % 2 == 0:\n",
    "   print(\"The result of the multiplication is equal to\",x,\"which is an even number\")\n",
    "else:\n",
    "   print(\"The result of the multiplication is equal to\",x,\"which is an odd number\")"
   ]
  },
  {
   "cell_type": "code",
   "execution_count": 6,
   "metadata": {},
   "outputs": [
    {
     "name": "stdout",
     "output_type": "stream",
     "text": [
      "please enter 3 numbers\n"
     ]
    },
    {
     "name": "stdin",
     "output_type": "stream",
     "text": [
      " 4\n",
      " 6\n",
      " 8\n"
     ]
    },
    {
     "name": "stdout",
     "output_type": "stream",
     "text": [
      "The result of the multiplication is equal to 192.0 which is an even number\n"
     ]
    }
   ],
   "source": [
    "print(\"please enter 3 numbers\")\n",
    "x1 = float(input())\n",
    "x2 = float(input())\n",
    "x3 = float(input())\n",
    "x = x1 * x2 * x3\n",
    "if x % 2 == 0:\n",
    "   print(\"The result of the multiplication is equal to\",x,\"which is an even number\")\n",
    "else:\n",
    "   print(\"The result of the multiplication is equal to\",x,\"which is an odd number\")"
   ]
  },
  {
   "cell_type": "markdown",
   "metadata": {},
   "source": [
    "### E) What kind of structures did you use? sequential? selection? or both? why?\n"
   ]
  },
  {
   "cell_type": "markdown",
   "metadata": {},
   "source": [
    "---\n",
    "EDIT THIS MARKDOWN CELL\n",
    "\n",
    "\n",
    "---"
   ]
  },
  {
   "cell_type": "markdown",
   "metadata": {},
   "source": [
    "___\n",
    "___"
   ]
  },
  {
   "cell_type": "markdown",
   "metadata": {},
   "source": [
    "## Question1: A Weird Lottery <br>\n",
    "\n",
    "\n",
    "### Write a code based on the desciption below:\n",
    "\n",
    "> Receive a 10-digit lottery ticket number from user, <br>\n",
    "    if the number is equal to **\"2205636346\"**, print **\"You are the lucky winner of 10 Million Dollars!\"** <br>\n",
    "    if the number is equal to **\"1010101010\"**, print **\"You are the unlucky winner of a bullet! Bang!\"** <br>\n",
    "    if the number is any other ***even number***, print **\"You win a chocolate dipped hotdog!\"** <br>\n",
    "    if the number is any ***odd number***, print **\"you are odd!\"** <br>"
   ]
  },
  {
   "cell_type": "code",
   "execution_count": null,
   "metadata": {},
   "outputs": [],
   "source": [
    "print(\"please enter your 10-digit lottery ticket number\")\n",
    "x = int(input())\n",
    "\n",
    "if x == 2205636346:\n",
    "   print(\"You are the lucky winner of 10 Million Dollars!\")\n",
    "elif x == 1010101010:\n",
    "   print(\"You are the unlucky winner of a bullet! Bang!\")\n",
    "elif x % 2 == 0:\n",
    "   print(\"You win a chocolate dipped hotdog!\")\n",
    "elif x % 2 != 0:\n",
    "   print(\"you are odd!\")"
   ]
  },
  {
   "cell_type": "markdown",
   "metadata": {},
   "source": [
    "## Question2: What if if if ... <br>\n",
    "\n",
    "\n",
    "### Write a code based on the desciption below:\n",
    "\n",
    "> Receive an integer from user between 0 to 9, <br>\n",
    "    if the number is **greater than 5** and **divisible by 3**, calculate its third power and print the value with an appropriate statement <br>\n",
    "    if the number is **lower than 5** and **divisible by 2**, calculate its summation with 10 and print the value with an appropriate statement <br>\n",
    "    if the number is **equal to 5**, print **\"High Five!\"** <br>\n",
    "    else, print the number itself <br>\n",
    "\n",
    "### Test your code for these cases:\n",
    "- a) 6\n",
    "- b) 4\n",
    "- c) 5\n",
    "- d) 0\n"
   ]
  },
  {
   "cell_type": "code",
   "execution_count": null,
   "metadata": {},
   "outputs": [],
   "source": [
    "print(\"please enter an integer from 0 to 9:\")\n",
    "x = int(input())\n",
    "\n",
    "if x > 5:\n",
    "   if x % 3==0:\n",
    "      y = x**3\n",
    "      print(\"your choice to the power of three is equal to\",y)\n",
    "\n",
    "elif x < 5:\n",
    "   if x % 2==0:\n",
    "      y = x+10\n",
    "      print(\"your choice plus 10 is equal to\",y)\n",
    "elif x == 5:\n",
    "   print(\"High Five!\")\n",
    "else:\n",
    "   print(x)"
   ]
  },
  {
   "cell_type": "code",
   "execution_count": 21,
   "metadata": {},
   "outputs": [
    {
     "name": "stdout",
     "output_type": "stream",
     "text": [
      "please enter an integer from 0 to 9:\n"
     ]
    },
    {
     "name": "stdin",
     "output_type": "stream",
     "text": [
      " 6\n"
     ]
    },
    {
     "name": "stdout",
     "output_type": "stream",
     "text": [
      "your choice to the power of three is equal to 216\n"
     ]
    }
   ],
   "source": [
    "print(\"please enter an integer from 0 to 9:\")\n",
    "x = int(input())\n",
    "\n",
    "if x > 5:\n",
    "   if x % 3==0:\n",
    "      y = x**3\n",
    "      print(\"your choice to the power of three is equal to\",y)\n",
    "\n",
    "elif x < 5:\n",
    "   if x % 2==0:\n",
    "      y = x+10\n",
    "      print(\"your choice plus 10 is equal to\",y)\n",
    "elif x == 5:\n",
    "   print(\"High Five!\")\n",
    "else:\n",
    "   print(x)"
   ]
  },
  {
   "cell_type": "code",
   "execution_count": 22,
   "metadata": {},
   "outputs": [
    {
     "name": "stdout",
     "output_type": "stream",
     "text": [
      "please enter an integer from 0 to 9:\n"
     ]
    },
    {
     "name": "stdin",
     "output_type": "stream",
     "text": [
      " 4\n"
     ]
    },
    {
     "name": "stdout",
     "output_type": "stream",
     "text": [
      "your choice plus 10 is equal to 14\n"
     ]
    }
   ],
   "source": [
    "print(\"please enter an integer from 0 to 9:\")\n",
    "x = int(input())\n",
    "\n",
    "if x > 5:\n",
    "   if x % 3==0:\n",
    "      y = x**3\n",
    "      print(\"your choice to the power of three is equal to\",y)\n",
    "\n",
    "elif x < 5:\n",
    "   if x % 2==0:\n",
    "      y = x+10\n",
    "      print(\"your choice plus 10 is equal to\",y)\n",
    "elif x == 5:\n",
    "   print(\"High Five!\")\n",
    "else:\n",
    "   print(x)"
   ]
  },
  {
   "cell_type": "code",
   "execution_count": 23,
   "metadata": {},
   "outputs": [
    {
     "name": "stdout",
     "output_type": "stream",
     "text": [
      "please enter an integer from 0 to 9:\n"
     ]
    },
    {
     "name": "stdin",
     "output_type": "stream",
     "text": [
      " 5\n"
     ]
    },
    {
     "name": "stdout",
     "output_type": "stream",
     "text": [
      "High Five!\n"
     ]
    }
   ],
   "source": [
    "print(\"please enter an integer from 0 to 9:\")\n",
    "x = int(input())\n",
    "\n",
    "if x > 5:\n",
    "   if x % 3==0:\n",
    "      y = x**3\n",
    "      print(\"your choice to the power of three is equal to\",y)\n",
    "\n",
    "elif x < 5:\n",
    "   if x % 2==0:\n",
    "      y = x+10\n",
    "      print(\"your choice plus 10 is equal to\",y)\n",
    "elif x == 5:\n",
    "   print(\"High Five!\")\n",
    "else:\n",
    "   print(x)"
   ]
  },
  {
   "cell_type": "code",
   "execution_count": 24,
   "metadata": {},
   "outputs": [
    {
     "name": "stdout",
     "output_type": "stream",
     "text": [
      "please enter an integer from 0 to 9:\n"
     ]
    },
    {
     "name": "stdin",
     "output_type": "stream",
     "text": [
      " 0\n"
     ]
    },
    {
     "name": "stdout",
     "output_type": "stream",
     "text": [
      "your choice plus 10 is equal to 10\n"
     ]
    }
   ],
   "source": [
    "print(\"please enter an integer from 0 to 9:\")\n",
    "x = int(input())\n",
    "\n",
    "if x > 5:\n",
    "   if x % 3==0:\n",
    "      y = x**3\n",
    "      print(\"your choice to the power of three is equal to\",y)\n",
    "\n",
    "elif x < 5:\n",
    "   if x % 2==0:\n",
    "      y = x+10\n",
    "      print(\"your choice plus 10 is equal to\",y)\n",
    "elif x == 5:\n",
    "   print(\"High Five!\")\n",
    "else:\n",
    "   print(x)"
   ]
  },
  {
   "cell_type": "markdown",
   "metadata": {},
   "source": [
    "![](https://freight.cargo.site/w/1200/i/c96b2ce17b2aee95c6e837552e3e38d058ac4ad2a6759448ed78128963790744/Happy_Coding_BC_6-03-05.png)"
   ]
  }
 ],
 "metadata": {
  "kernelspec": {
   "display_name": "Python 3",
   "language": "python",
   "name": "python3"
  },
  "language_info": {
   "codemirror_mode": {
    "name": "ipython",
    "version": 3
   },
   "file_extension": ".py",
   "mimetype": "text/x-python",
   "name": "python",
   "nbconvert_exporter": "python",
   "pygments_lexer": "ipython3",
   "version": "3.8.10"
  }
 },
 "nbformat": 4,
 "nbformat_minor": 4
}
