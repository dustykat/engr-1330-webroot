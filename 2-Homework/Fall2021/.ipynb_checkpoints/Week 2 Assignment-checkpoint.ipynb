{
 "cells": [
  {
   "cell_type": "markdown",
   "metadata": {},
   "source": [
    "# <font color=darkblue>Week 2 Assignment </font>\n",
    "\n"
   ]
  },
  {
   "cell_type": "markdown",
   "metadata": {},
   "source": [
    "## Full name: \n",
    "## R#: \n",
    "## Title of the notebook:\n",
    "## Date: "
   ]
  },
  {
   "cell_type": "markdown",
   "metadata": {},
   "source": [
    "![](https://cdn.dribbble.com/users/846207/screenshots/9192312/office-desk-animation.gif) <br>\n"
   ]
  },
  {
   "cell_type": "markdown",
   "metadata": {},
   "source": [
    "## Question0: Think, Design, Draw, Code!  <br>\n",
    "\n",
    "### For the problem described below, follow the steps:\n",
    "\n",
    "#### The problem statement:\n",
    "> \"Calculate the multiplication of any three numbers and report whether it is an even number or not.\""
   ]
  },
  {
   "cell_type": "markdown",
   "metadata": {},
   "source": [
    "### A) Think about your solution (algorithm) and design your flowchart. Draw your flowchart (either on paper or in a software (PowerPoint) and attach a screenshot."
   ]
  },
  {
   "cell_type": "markdown",
   "metadata": {},
   "source": [
    "---\n",
    "EDIT THIS MARKDOWN CELL\n",
    "\n",
    "\n",
    "---"
   ]
  },
  {
   "cell_type": "markdown",
   "metadata": {},
   "source": [
    "### B) Based on your flowchart, write the pseudocode based on what we discussed.  "
   ]
  },
  {
   "cell_type": "markdown",
   "metadata": {},
   "source": [
    "---\n",
    "EDIT THIS MARKDOWN CELL\n",
    "\n",
    "\n",
    "---"
   ]
  },
  {
   "cell_type": "markdown",
   "metadata": {},
   "source": [
    "### C) Based on your pseudocode, write your code in Python."
   ]
  },
  {
   "cell_type": "code",
   "execution_count": null,
   "metadata": {},
   "outputs": [],
   "source": []
  },
  {
   "cell_type": "markdown",
   "metadata": {},
   "source": [
    "### D) Test your code for these cases:\n",
    "\n",
    "- a) 10,2,1\n",
    "- b) 3,5,7\n",
    "- c) 4,6,8"
   ]
  },
  {
   "cell_type": "code",
   "execution_count": null,
   "metadata": {},
   "outputs": [],
   "source": []
  },
  {
   "cell_type": "code",
   "execution_count": null,
   "metadata": {},
   "outputs": [],
   "source": []
  },
  {
   "cell_type": "code",
   "execution_count": null,
   "metadata": {},
   "outputs": [],
   "source": []
  },
  {
   "cell_type": "markdown",
   "metadata": {},
   "source": [
    "### E) What kind of structures did you use? sequential? selection? or both? why?\n"
   ]
  },
  {
   "cell_type": "markdown",
   "metadata": {},
   "source": [
    "---\n",
    "EDIT THIS MARKDOWN CELL\n",
    "\n",
    "\n",
    "---"
   ]
  },
  {
   "cell_type": "markdown",
   "metadata": {},
   "source": [
    "___\n",
    "___"
   ]
  },
  {
   "cell_type": "markdown",
   "metadata": {},
   "source": [
    "## Question1: A Weird Lottery <br>\n",
    "\n",
    "\n",
    "### Write a code based on the desciption below:\n",
    "\n",
    "> Receive a 10-digit lottery ticket number from user, <br>\n",
    "    if the number is equal to **\"2205636346\"**, print **\"You are the lucky winner of 10 Million Dollars!\"** <br>\n",
    "    if the number is equal to **\"1010101010\"**, print **\"You are the unlucky winner of a bullet! Bang!\"** <br>\n",
    "    if the number is any other ***even number***, print **\"You win a chocolate dipped hotdog!\"** <br>\n",
    "    if the number is any ***odd number***, print **\"you are odd!\"** <br>"
   ]
  },
  {
   "cell_type": "code",
   "execution_count": null,
   "metadata": {},
   "outputs": [],
   "source": []
  },
  {
   "cell_type": "markdown",
   "metadata": {},
   "source": [
    "## Question2: What if if if ... <br>\n",
    "\n",
    "\n",
    "### Write a code based on the desciption below:\n",
    "\n",
    "> Receive an integer from user between 0 to 9, <br>\n",
    "    if the number is **greater than 5** and **divisible by 3**, calculate its third power and print the value with an appropriate statement <br>\n",
    "    if the number is **lower than 5** and **divisible by 2**, calculate its summation with 10 and print the value with an appropriate statement <br>\n",
    "    if the number is **equal to 5**, print **\"High Five!\"** <br>\n",
    "    else, print the number itself <br>\n",
    "\n",
    "### Test your code for these cases:\n",
    "- a) 6\n",
    "- b) 4\n",
    "- c) 5\n",
    "- d) 0\n"
   ]
  },
  {
   "cell_type": "code",
   "execution_count": null,
   "metadata": {},
   "outputs": [],
   "source": []
  },
  {
   "cell_type": "code",
   "execution_count": null,
   "metadata": {},
   "outputs": [],
   "source": []
  },
  {
   "cell_type": "code",
   "execution_count": null,
   "metadata": {},
   "outputs": [],
   "source": []
  },
  {
   "cell_type": "code",
   "execution_count": null,
   "metadata": {},
   "outputs": [],
   "source": []
  },
  {
   "cell_type": "code",
   "execution_count": null,
   "metadata": {},
   "outputs": [],
   "source": []
  },
  {
   "cell_type": "markdown",
   "metadata": {},
   "source": [
    "![](https://freight.cargo.site/w/1200/i/c96b2ce17b2aee95c6e837552e3e38d058ac4ad2a6759448ed78128963790744/Happy_Coding_BC_6-03-05.png)"
   ]
  }
 ],
 "metadata": {
  "kernelspec": {
   "display_name": "Python 3",
   "language": "python",
   "name": "python3"
  },
  "language_info": {
   "codemirror_mode": {
    "name": "ipython",
    "version": 3
   },
   "file_extension": ".py",
   "mimetype": "text/x-python",
   "name": "python",
   "nbconvert_exporter": "python",
   "pygments_lexer": "ipython3",
   "version": "3.7.4"
  }
 },
 "nbformat": 4,
 "nbformat_minor": 4
}
