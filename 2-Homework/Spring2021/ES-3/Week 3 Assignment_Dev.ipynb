{
 "cells": [
  {
   "cell_type": "markdown",
   "metadata": {},
   "source": [
    "# <font color=darkblue>Week 3 Assignment </font>"
   ]
  },
  {
   "cell_type": "markdown",
   "metadata": {},
   "source": [
    "## Full name: \n",
    "## R#: \n",
    "## Title of the notebook:\n",
    "## Date: "
   ]
  },
  {
   "cell_type": "markdown",
   "metadata": {},
   "source": [
    "![](https://campaignjr.com/v1/wp-content/uploads/2016/12/12_funny-and-inspiring-graphic-design-related-gifs.gif) <br>\n"
   ]
  },
  {
   "cell_type": "markdown",
   "metadata": {},
   "source": [
    "___\n",
    "### Question1: User-Defined Function \n",
    "Create the function $$f(x) = e^x - 10 cos(x) - 100$$ as a function (i.e. use the `def` keyword)\n",
    "\n",
    "    def name(parameters) :\n",
    "        operations on parameters\n",
    "        ...\n",
    "        ...\n",
    "        return (value, or null)\n",
    "\n",
    "Then apply your function to the value.\n",
    "\n",
    "Use your function to complete the table below:\n",
    "\n",
    "| x | f(x) |\n",
    "|---:|---:|\n",
    "| 0.0 | |\n",
    "| 1.50 | |\n",
    "| 2.00 | |\n",
    "| 2.25 | |\n",
    "| 3.0 | |\n",
    "| 4.25 | |\n"
   ]
  },
  {
   "cell_type": "code",
   "execution_count": 47,
   "metadata": {},
   "outputs": [],
   "source": [
    "def dustykat(inputvalue):\n",
    "    import math\n",
    "    dustykat = math.exp(inputvalue)-10*math.cos(inputvalue)-100\n",
    "    return(dustykat)"
   ]
  },
  {
   "cell_type": "code",
   "execution_count": 50,
   "metadata": {},
   "outputs": [
    {
     "name": "stdout",
     "output_type": "stream",
     "text": [
      "x =  0.0 y =  -109.0\n",
      "x =  1.5 y =  -96.226\n",
      "x =  2.0 y =  -88.449\n",
      "x =  2.25 y =  -84.231\n",
      "x =  3.0 y =  -70.015\n",
      "x =  4.25 y =  -25.434\n"
     ]
    }
   ],
   "source": [
    "import math\n",
    "x=[0.0,1.5,2.0,2.25,3.0,4.25]\n",
    "y=[]\n",
    "for i in range(0,len(x)):\n",
    "    y.append(dustykat(x[i]))\n",
    "    print(\"x = \",round(x[i],3),\"y = \",round(y[i],3))"
   ]
  },
  {
   "cell_type": "markdown",
   "metadata": {},
   "source": [
    "___\n",
    "### Question2: Power Plot <br>\n",
    "\n",
    "Copy the wrapper script for the `plotAline()` function (from the Lab4_dev notebook), and modify the copy to create a plot of\n",
    "$$ y = x^2 $$\n",
    "for x raging from 0 to 9 (inclusive) in steps of 1.\n",
    "\n",
    "Label the plot and the plot axes."
   ]
  },
  {
   "cell_type": "code",
   "execution_count": 37,
   "metadata": {},
   "outputs": [],
   "source": [
    "def xsquared(xin):  #the x^2 function\n",
    "#    global xin\n",
    "    temp = xin**2 \n",
    "    print(\"xin \",xin)\n",
    "    return(temp)"
   ]
  },
  {
   "cell_type": "code",
   "execution_count": 38,
   "metadata": {},
   "outputs": [],
   "source": [
    "def buildAbear(list1,list2,strx,stry,strtitle): # plot list1 on x, list2 on y, xlabel, ylabel, title\n",
    "    from matplotlib import pyplot as plt # import the plotting library from matplotlibplt.show()\n",
    "    plt.plot( list1, list2, color ='green', marker ='o', linestyle ='solid') # create a line chart, years on x-axis, gdp on y-axis\n",
    "    plt.title(strtitle)# add a title\n",
    "    plt.ylabel(stry)# add a label to the x and y-axes\n",
    "    plt.xlabel(strx)\n",
    "    plt.show() # display the plot\n",
    "    return #null return"
   ]
  },
  {
   "cell_type": "code",
   "execution_count": 39,
   "metadata": {},
   "outputs": [
    {
     "name": "stdout",
     "output_type": "stream",
     "text": [
      "xin  0\n",
      "xin  1\n",
      "xin  2\n",
      "xin  3\n",
      "xin  4\n",
      "xin  5\n",
      "xin  6\n",
      "xin  7\n",
      "xin  8\n",
      "xin  9\n"
     ]
    },
    {
     "data": {
      "image/png": "[encoded data removed]",
      "text/plain": [
       "<Figure size 432x288 with 1 Axes>"
      ]
     },
     "metadata": {
      "needs_background": "light"
     },
     "output_type": "display_data"
    },
    {
     "ename": "NameError",
     "evalue": "name 'xin' is not defined",
     "output_type": "error",
     "traceback": [
      "\u001b[0;31m---------------------------------------------------------------------------\u001b[0m",
      "\u001b[0;31mNameError\u001b[0m                                 Traceback (most recent call last)",
      "\u001b[0;32m<ipython-input-39-06c5d5262559>\u001b[0m in \u001b[0;36m<module>\u001b[0;34m\u001b[0m\n\u001b[1;32m      8\u001b[0m     \u001b[0mi\u001b[0m \u001b[0;34m=\u001b[0m \u001b[0mi\u001b[0m\u001b[0;34m+\u001b[0m\u001b[0;36m1\u001b[0m\u001b[0;34m\u001b[0m\u001b[0;34m\u001b[0m\u001b[0m\n\u001b[1;32m      9\u001b[0m \u001b[0mbuildAbear\u001b[0m\u001b[0;34m(\u001b[0m\u001b[0mxxx\u001b[0m\u001b[0;34m,\u001b[0m\u001b[0myyy\u001b[0m\u001b[0;34m,\u001b[0m\u001b[0;34m\"my x axis\"\u001b[0m\u001b[0;34m,\u001b[0m\u001b[0;34m\"why naought\"\u001b[0m\u001b[0;34m,\u001b[0m\u001b[0;34m\"title of the plot\"\u001b[0m\u001b[0;34m)\u001b[0m\u001b[0;34m\u001b[0m\u001b[0;34m\u001b[0m\u001b[0m\n\u001b[0;32m---> 10\u001b[0;31m \u001b[0mxin\u001b[0m\u001b[0;34m\u001b[0m\u001b[0;34m\u001b[0m\u001b[0m\n\u001b[0m",
      "\u001b[0;31mNameError\u001b[0m: name 'xin' is not defined"
     ]
    }
   ],
   "source": [
    "xxx = [(i) for i in range(0,10,1)]\n",
    "yyy = [0]*10\n",
    "#iterable = range(0,10)\n",
    "#for i in iterable:\n",
    "i =0\n",
    "while i < 10 :\n",
    "    yyy[i]=xsquared(xxx[i])\n",
    "    i = i+1\n",
    "buildAbear(xxx,yyy,\"my x axis\",\"why naought\",\"title of the plot\")\n",
    "xin"
   ]
  },
  {
   "cell_type": "markdown",
   "metadata": {},
   "source": [
    "___\n",
    "### Question3: Cars! <br>\n",
    "\n",
    "Write a class named '**CarSpeed**' to calculate the speed (in miles/hour) of different brands of cars based on the information given in the table below.  \n",
    "The formula to calculate speed is also given below.  \n",
    "Based on your output, which brand of car has the highest speed?\n",
    "\n",
    "$$Speed = \\frac{Distance}{Time}$$\n",
    "\n",
    "| Car brand   | Distance (miles) | Time (hours) |\n",
    "| ----------- | -----------------|------------|\n",
    "| Ford        | 120              | 1.75       |\n",
    "| Ferrari     | 100              | 1.20       |\n",
    "| BMW         | 205              | 2.35       |\n",
    "| Porsche     | 155              | 1.85       |\n",
    "| Audi        | 190              | 2.10       |\n",
    "| Jaguar      | 255              | 2.45       |\n",
    "\n",
    "##### Notes: \n",
    "1. Use docstrings to describe the purpose of the class.\n",
    "2. Create an object for each car brand and display the output as shown below.\n",
    "\n",
    "Ford_Speed (miles/hour): **SPEED**  \n",
    "Ferrari_Speed (miles/hour): **SPEED**   \n",
    "BMW_Speed (miles/hour): **SPEED**    \n",
    "Porsche_Speed (miles/hour): **SPEED**   \n",
    "Audi_Speed (miles/hour): **SPEED**  \n",
    "Jaguar_Speed (miles/hour): **SPEED**  \n",
    "The car with the highest speed is: **CAR BRAND**"
   ]
  },
  {
   "cell_type": "code",
   "execution_count": null,
   "metadata": {
    "collapsed": false,
    "jupyter": {
     "outputs_hidden": false
    }
   },
   "outputs": [],
   "source": [
    "\n",
    "    "
   ]
  },
  {
   "cell_type": "code",
   "execution_count": null,
   "metadata": {
    "collapsed": false,
    "jupyter": {
     "outputs_hidden": false
    }
   },
   "outputs": [],
   "source": []
  },
  {
   "cell_type": "code",
   "execution_count": null,
   "metadata": {
    "collapsed": false,
    "jupyter": {
     "outputs_hidden": false
    }
   },
   "outputs": [],
   "source": [
    "\n"
   ]
  },
  {
   "cell_type": "code",
   "execution_count": null,
   "metadata": {
    "collapsed": false,
    "jupyter": {
     "outputs_hidden": false
    }
   },
   "outputs": [],
   "source": []
  },
  {
   "cell_type": "markdown",
   "metadata": {},
   "source": [
    "___\n",
    "### Question4: Tax Class  <br>\n",
    "\n",
    "Write a class named '**Tax**' to calculate the state tax (in dollars) of Employees at Texas Tech University based on their annual salary.  \n",
    "The state tax is 16% if the annual salary is below 80,000 dollars and 22% if the salary is more than 80,000 dollars. \n",
    "\n",
    "$$Tax = Annual salary \\times State\\, tax\\, \\%$$\n",
    "\n",
    "| Employee    | Annual salary (dollars) | \n",
    "| ----------- | ------------------------|\n",
    "| Bob         | 1,50,000                | \n",
    "| Mary        | 78,000                  | \n",
    "| John        | 55,000                  | \n",
    "| Danny       | 1,75,000                | \n",
    "\n",
    "#### Notes: \n",
    "1. Use docstrings to describe the purpose of the class.\n",
    "2. Use if....else conditional statements within the method of the class to choose the relevant tax % based on the annual salary.\n",
    "3. Create an object for employee and display the output as shown below.\n",
    "\n",
    "Bob's tax amount (in dollars): **AMOUNT**  \n",
    "Mary's tax amount (in dollars): **AMOUNT**  \n",
    "John's tax amount (in dollars): **AMOUNT**  \n",
    "Danny's tax amount (in dollars): **AMOUNT** \n",
    "\n"
   ]
  },
  {
   "cell_type": "code",
   "execution_count": null,
   "metadata": {
    "collapsed": false,
    "jupyter": {
     "outputs_hidden": false
    }
   },
   "outputs": [],
   "source": []
  },
  {
   "cell_type": "markdown",
   "metadata": {},
   "source": [
    "![](https://freight.cargo.site/w/1200/i/c96b2ce17b2aee95c6e837552e3e38d058ac4ad2a6759448ed78128963790744/Happy_Coding_BC_6-03-05.png)"
   ]
  },
  {
   "cell_type": "code",
   "execution_count": null,
   "metadata": {},
   "outputs": [],
   "source": []
  }
 ],
 "metadata": {
  "kernelspec": {
   "display_name": "Python 3",
   "language": "python",
   "name": "python3"
  },
  "language_info": {
   "codemirror_mode": {
    "name": "ipython",
    "version": 3
   },
   "file_extension": ".py",
   "mimetype": "text/x-python",
   "name": "python",
   "nbconvert_exporter": "python",
   "pygments_lexer": "ipython3",
   "version": "3.8.10"
  }
 },
 "nbformat": 4,
 "nbformat_minor": 4
}
