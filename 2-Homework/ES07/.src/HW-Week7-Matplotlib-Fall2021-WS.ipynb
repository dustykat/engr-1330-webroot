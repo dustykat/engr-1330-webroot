{
 "cells": [
  {
   "cell_type": "markdown",
   "metadata": {},
   "source": [
    "**Download** (right-click, save target as ...) this page as a jupyterlab notebook from: [ES07](http://54.243.252.9/engr-1330-webroot/2-Homework/ES07/HW-Week7-Matplotlib-Fall2021.ipynb)\n",
    "\n",
    "___"
   ]
  },
  {
   "cell_type": "markdown",
   "metadata": {},
   "source": [
    "## Matplotlib, Pandas, and Numpy for Dataframe Management and Plotting\n",
    "\n",
    "*ENGR 1330 | Computational Thinking with Data Science | Texas Tech University*\n",
    "\n",
    "**Developed By:** Samshul Arefeen @ Texas Tech University"
   ]
  },
  {
   "cell_type": "markdown",
   "metadata": {},
   "source": [
    "### 1) Pandas and Matplotlib libraries"
   ]
  },
  {
   "cell_type": "markdown",
   "metadata": {},
   "source": [
    "##### **Exercise-1: Import all the libraries - numpy, pandas, and matplotlib so that we do not have to worry about importing the libraries later on in this assignment**\n",
    "\n",
    "**(POINTS: 6)**"
   ]
  },
  {
   "cell_type": "code",
   "execution_count": 14,
   "metadata": {},
   "outputs": [],
   "source": [
    "#GIVE YOUR ANSWER FOR EXERCISE-1 IN THIS CELL\n",
    "import numpy as np\n",
    "import pandas as pd\n",
    "import matplotlib.pyplot as plt"
   ]
  },
  {
   "cell_type": "markdown",
   "metadata": {},
   "source": [
    "**Exercise-2: The file [http://54.243.252.9/engr-1330-webroot/2-Homework/ES06/Electric_Vehicle_Population_Data.csv](http://54.243.252.9/engr-1330-webroot/2-Homework/ES06/Electric_Vehicle_Population_Data.csv) contains the database of electric vehicles registered and operated in different cities and states (primarily Washington State) of the United States. It also contains the vehicle details like make, model, model year, vehicle type, electric range, base retail price and fields that are mostly self explanatory.**\n",
    "\n",
    "> *Get the file by either download from link above, or use the script below to automatically get the file; you may need to install the requests module `! pip install requests` will sometimes work when run from the notebook, but not always*\n",
    "\n",
    "**(POINTS: 54 - each task in this exercise carries 9 points)**"
   ]
  },
  {
   "cell_type": "markdown",
   "metadata": {},
   "source": [
    "**Task-1:** Read the **Electric_Vehicle_Population_Data.csv** file and store in a variable name **ev_pop**. After reading, display the first 10 rows of the dataframe **ev_pop** as the output."
   ]
  },
  {
   "cell_type": "code",
   "execution_count": 15,
   "metadata": {},
   "outputs": [
    {
     "name": "stdout",
     "output_type": "stream",
     "text": [
      "Requirement already satisfied: requests in /usr/lib/python3/dist-packages (2.22.0)\n"
     ]
    }
   ],
   "source": [
    "! pip install requests # magic function to install requests into ipython kernel"
   ]
  },
  {
   "cell_type": "code",
   "execution_count": 4,
   "metadata": {},
   "outputs": [],
   "source": [
    "# Get the database -- use the Get Data From URL Script\n",
    "# import needed modules to interact with the internet\n",
    "import requests\n",
    "# make the connection to the remote file (actually its implementing \"bash curl -O http://fqdn/path ...\")\n",
    "remote_url = 'http://54.243.252.9/engr-1330-webroot/2-Homework/ES06/Electric_Vehicle_Population_Data.csv' # an Excel file\n",
    "response = requests.get(remote_url) # Gets the file contents puts into an object\n",
    "output = open('Electric_Vehicle_Population_Data.csv', 'wb') # Prepare a destination, local\n",
    "output.write(response.content) # write contents of object to named local file\n",
    "output.close() # close the connection\n",
    "# check that database is downloaded and non-empty"
   ]
  },
  {
   "cell_type": "code",
   "execution_count": 16,
   "metadata": {},
   "outputs": [
    {
     "data": {
      "text/html": [
       "<div>\n",
       "<style scoped>\n",
       "    .dataframe tbody tr th:only-of-type {\n",
       "        vertical-align: middle;\n",
       "    }\n",
       "\n",
       "    .dataframe tbody tr th {\n",
       "        vertical-align: top;\n",
       "    }\n",
       "\n",
       "    .dataframe thead th {\n",
       "        text-align: right;\n",
       "    }\n",
       "</style>\n",
       "<table border=\"1\" class=\"dataframe\">\n",
       "  <thead>\n",
       "    <tr style=\"text-align: right;\">\n",
       "      <th></th>\n",
       "      <th>VIN (1-10)</th>\n",
       "      <th>County</th>\n",
       "      <th>City</th>\n",
       "      <th>State</th>\n",
       "      <th>ZIP Code</th>\n",
       "      <th>Model Year</th>\n",
       "      <th>Make</th>\n",
       "      <th>Model</th>\n",
       "      <th>Electric Vehicle Type</th>\n",
       "      <th>Clean Alternative Fuel Vehicle (CAFV) Eligibility</th>\n",
       "      <th>Electric Range</th>\n",
       "      <th>Base MSRP</th>\n",
       "      <th>Legislative District</th>\n",
       "      <th>DOL Vehicle ID</th>\n",
       "      <th>Vehicle Location</th>\n",
       "    </tr>\n",
       "  </thead>\n",
       "  <tbody>\n",
       "    <tr>\n",
       "      <th>0</th>\n",
       "      <td>5YJ3E1EB2K</td>\n",
       "      <td>King</td>\n",
       "      <td>KIRKLAND</td>\n",
       "      <td>WA</td>\n",
       "      <td>98033</td>\n",
       "      <td>2019</td>\n",
       "      <td>TESLA</td>\n",
       "      <td>MODEL 3</td>\n",
       "      <td>Battery Electric Vehicle (BEV)</td>\n",
       "      <td>Clean Alternative Fuel Vehicle Eligible</td>\n",
       "      <td>220</td>\n",
       "      <td>35000</td>\n",
       "      <td>48.0</td>\n",
       "      <td>478724459</td>\n",
       "      <td>POINT (-122.188994 47.678406)</td>\n",
       "    </tr>\n",
       "    <tr>\n",
       "      <th>1</th>\n",
       "      <td>5YJSA1E43L</td>\n",
       "      <td>King</td>\n",
       "      <td>SEATTLE</td>\n",
       "      <td>WA</td>\n",
       "      <td>98102</td>\n",
       "      <td>2020</td>\n",
       "      <td>TESLA</td>\n",
       "      <td>MODEL S</td>\n",
       "      <td>Battery Electric Vehicle (BEV)</td>\n",
       "      <td>Clean Alternative Fuel Vehicle Eligible</td>\n",
       "      <td>337</td>\n",
       "      <td>0</td>\n",
       "      <td>43.0</td>\n",
       "      <td>112305420</td>\n",
       "      <td>POINT (-122.321673 47.634289)</td>\n",
       "    </tr>\n",
       "    <tr>\n",
       "      <th>2</th>\n",
       "      <td>JTDKARFP4J</td>\n",
       "      <td>King</td>\n",
       "      <td>BELLEVUE</td>\n",
       "      <td>WA</td>\n",
       "      <td>98004</td>\n",
       "      <td>2018</td>\n",
       "      <td>TOYOTA</td>\n",
       "      <td>PRIUS PRIME</td>\n",
       "      <td>Plug-in Hybrid Electric Vehicle (PHEV)</td>\n",
       "      <td>Not eligible due to low battery range</td>\n",
       "      <td>25</td>\n",
       "      <td>27300</td>\n",
       "      <td>41.0</td>\n",
       "      <td>209061975</td>\n",
       "      <td>POINT (-122.20316899999999 47.619011)</td>\n",
       "    </tr>\n",
       "    <tr>\n",
       "      <th>3</th>\n",
       "      <td>JN1AZ0CP1B</td>\n",
       "      <td>King</td>\n",
       "      <td>SEATTLE</td>\n",
       "      <td>WA</td>\n",
       "      <td>98118</td>\n",
       "      <td>2011</td>\n",
       "      <td>NISSAN</td>\n",
       "      <td>LEAF</td>\n",
       "      <td>Battery Electric Vehicle (BEV)</td>\n",
       "      <td>Clean Alternative Fuel Vehicle Eligible</td>\n",
       "      <td>73</td>\n",
       "      <td>32780</td>\n",
       "      <td>37.0</td>\n",
       "      <td>180648065</td>\n",
       "      <td>POINT (-122.275593 47.54055)</td>\n",
       "    </tr>\n",
       "    <tr>\n",
       "      <th>4</th>\n",
       "      <td>1N4AZ0CP8F</td>\n",
       "      <td>King</td>\n",
       "      <td>REDMOND</td>\n",
       "      <td>WA</td>\n",
       "      <td>98052</td>\n",
       "      <td>2015</td>\n",
       "      <td>NISSAN</td>\n",
       "      <td>LEAF</td>\n",
       "      <td>Battery Electric Vehicle (BEV)</td>\n",
       "      <td>Clean Alternative Fuel Vehicle Eligible</td>\n",
       "      <td>84</td>\n",
       "      <td>29010</td>\n",
       "      <td>45.0</td>\n",
       "      <td>325675787</td>\n",
       "      <td>POINT (-122.122018 47.678465)</td>\n",
       "    </tr>\n",
       "    <tr>\n",
       "      <th>5</th>\n",
       "      <td>5YJXCAE2XL</td>\n",
       "      <td>King</td>\n",
       "      <td>SAMMAMISH</td>\n",
       "      <td>WA</td>\n",
       "      <td>98075</td>\n",
       "      <td>2020</td>\n",
       "      <td>TESLA</td>\n",
       "      <td>MODEL X</td>\n",
       "      <td>Battery Electric Vehicle (BEV)</td>\n",
       "      <td>Clean Alternative Fuel Vehicle Eligible</td>\n",
       "      <td>293</td>\n",
       "      <td>0</td>\n",
       "      <td>41.0</td>\n",
       "      <td>124540307</td>\n",
       "      <td>POINT (-122.028168 47.586173)</td>\n",
       "    </tr>\n",
       "    <tr>\n",
       "      <th>6</th>\n",
       "      <td>1G1FX6S04H</td>\n",
       "      <td>King</td>\n",
       "      <td>KENT</td>\n",
       "      <td>WA</td>\n",
       "      <td>98030</td>\n",
       "      <td>2017</td>\n",
       "      <td>CHEVROLET</td>\n",
       "      <td>BOLT</td>\n",
       "      <td>Battery Electric Vehicle (BEV)</td>\n",
       "      <td>Clean Alternative Fuel Vehicle Eligible</td>\n",
       "      <td>238</td>\n",
       "      <td>37495</td>\n",
       "      <td>47.0</td>\n",
       "      <td>175642190</td>\n",
       "      <td>POINT (-122.19538100000001 47.369696)</td>\n",
       "    </tr>\n",
       "    <tr>\n",
       "      <th>7</th>\n",
       "      <td>1N4AZ0CP9D</td>\n",
       "      <td>King</td>\n",
       "      <td>SEATTLE</td>\n",
       "      <td>WA</td>\n",
       "      <td>98103</td>\n",
       "      <td>2013</td>\n",
       "      <td>NISSAN</td>\n",
       "      <td>LEAF</td>\n",
       "      <td>Battery Electric Vehicle (BEV)</td>\n",
       "      <td>Clean Alternative Fuel Vehicle Eligible</td>\n",
       "      <td>75</td>\n",
       "      <td>28800</td>\n",
       "      <td>43.0</td>\n",
       "      <td>226673961</td>\n",
       "      <td>POINT (-122.343577 47.672491)</td>\n",
       "    </tr>\n",
       "    <tr>\n",
       "      <th>8</th>\n",
       "      <td>WBY8P6C58K</td>\n",
       "      <td>Snohomish</td>\n",
       "      <td>BOTHELL</td>\n",
       "      <td>WA</td>\n",
       "      <td>98021</td>\n",
       "      <td>2019</td>\n",
       "      <td>BMW</td>\n",
       "      <td>I3S</td>\n",
       "      <td>Battery Electric Vehicle (BEV)</td>\n",
       "      <td>Clean Alternative Fuel Vehicle Eligible</td>\n",
       "      <td>153</td>\n",
       "      <td>44450</td>\n",
       "      <td>1.0</td>\n",
       "      <td>332188048</td>\n",
       "      <td>POINT (-122.21210499999998 47.792368)</td>\n",
       "    </tr>\n",
       "    <tr>\n",
       "      <th>9</th>\n",
       "      <td>KNDJX3AE8H</td>\n",
       "      <td>King</td>\n",
       "      <td>SEATTLE</td>\n",
       "      <td>WA</td>\n",
       "      <td>98118</td>\n",
       "      <td>2017</td>\n",
       "      <td>KIA</td>\n",
       "      <td>SOUL</td>\n",
       "      <td>Battery Electric Vehicle (BEV)</td>\n",
       "      <td>Clean Alternative Fuel Vehicle Eligible</td>\n",
       "      <td>93</td>\n",
       "      <td>32250</td>\n",
       "      <td>37.0</td>\n",
       "      <td>139436888</td>\n",
       "      <td>POINT (-122.275593 47.54055)</td>\n",
       "    </tr>\n",
       "  </tbody>\n",
       "</table>\n",
       "</div>"
      ],
      "text/plain": [
       "   VIN (1-10)     County       City State  ZIP Code  Model Year       Make  \\\n",
       "0  5YJ3E1EB2K       King   KIRKLAND    WA     98033        2019      TESLA   \n",
       "1  5YJSA1E43L       King    SEATTLE    WA     98102        2020      TESLA   \n",
       "2  JTDKARFP4J       King   BELLEVUE    WA     98004        2018     TOYOTA   \n",
       "3  JN1AZ0CP1B       King    SEATTLE    WA     98118        2011     NISSAN   \n",
       "4  1N4AZ0CP8F       King    REDMOND    WA     98052        2015     NISSAN   \n",
       "5  5YJXCAE2XL       King  SAMMAMISH    WA     98075        2020      TESLA   \n",
       "6  1G1FX6S04H       King       KENT    WA     98030        2017  CHEVROLET   \n",
       "7  1N4AZ0CP9D       King    SEATTLE    WA     98103        2013     NISSAN   \n",
       "8  WBY8P6C58K  Snohomish    BOTHELL    WA     98021        2019        BMW   \n",
       "9  KNDJX3AE8H       King    SEATTLE    WA     98118        2017        KIA   \n",
       "\n",
       "         Model                   Electric Vehicle Type  \\\n",
       "0      MODEL 3          Battery Electric Vehicle (BEV)   \n",
       "1      MODEL S          Battery Electric Vehicle (BEV)   \n",
       "2  PRIUS PRIME  Plug-in Hybrid Electric Vehicle (PHEV)   \n",
       "3         LEAF          Battery Electric Vehicle (BEV)   \n",
       "4         LEAF          Battery Electric Vehicle (BEV)   \n",
       "5      MODEL X          Battery Electric Vehicle (BEV)   \n",
       "6         BOLT          Battery Electric Vehicle (BEV)   \n",
       "7         LEAF          Battery Electric Vehicle (BEV)   \n",
       "8          I3S          Battery Electric Vehicle (BEV)   \n",
       "9         SOUL          Battery Electric Vehicle (BEV)   \n",
       "\n",
       "  Clean Alternative Fuel Vehicle (CAFV) Eligibility  Electric Range  \\\n",
       "0           Clean Alternative Fuel Vehicle Eligible             220   \n",
       "1           Clean Alternative Fuel Vehicle Eligible             337   \n",
       "2             Not eligible due to low battery range              25   \n",
       "3           Clean Alternative Fuel Vehicle Eligible              73   \n",
       "4           Clean Alternative Fuel Vehicle Eligible              84   \n",
       "5           Clean Alternative Fuel Vehicle Eligible             293   \n",
       "6           Clean Alternative Fuel Vehicle Eligible             238   \n",
       "7           Clean Alternative Fuel Vehicle Eligible              75   \n",
       "8           Clean Alternative Fuel Vehicle Eligible             153   \n",
       "9           Clean Alternative Fuel Vehicle Eligible              93   \n",
       "\n",
       "   Base MSRP  Legislative District  DOL Vehicle ID  \\\n",
       "0      35000                  48.0       478724459   \n",
       "1          0                  43.0       112305420   \n",
       "2      27300                  41.0       209061975   \n",
       "3      32780                  37.0       180648065   \n",
       "4      29010                  45.0       325675787   \n",
       "5          0                  41.0       124540307   \n",
       "6      37495                  47.0       175642190   \n",
       "7      28800                  43.0       226673961   \n",
       "8      44450                   1.0       332188048   \n",
       "9      32250                  37.0       139436888   \n",
       "\n",
       "                        Vehicle Location  \n",
       "0          POINT (-122.188994 47.678406)  \n",
       "1          POINT (-122.321673 47.634289)  \n",
       "2  POINT (-122.20316899999999 47.619011)  \n",
       "3           POINT (-122.275593 47.54055)  \n",
       "4          POINT (-122.122018 47.678465)  \n",
       "5          POINT (-122.028168 47.586173)  \n",
       "6  POINT (-122.19538100000001 47.369696)  \n",
       "7          POINT (-122.343577 47.672491)  \n",
       "8  POINT (-122.21210499999998 47.792368)  \n",
       "9           POINT (-122.275593 47.54055)  "
      ]
     },
     "execution_count": 16,
     "metadata": {},
     "output_type": "execute_result"
    }
   ],
   "source": [
    "#GIVE YOUR ANSWER FOR TASK-1 IN THIS CELL\n",
    "ev_pop = pd.read_csv('Electric_Vehicle_Population_Data.csv')\n",
    "ev_pop.head(10)"
   ]
  },
  {
   "cell_type": "markdown",
   "metadata": {},
   "source": [
    "**Task-2:** Drop the columns 'Clean Alternative Fuel Vehicle (CAFV) Eligibility', 'Legislative District', 'DOL Vehicle ID', 'Vehicle Location' from the dataframe **ev_pop**. After indexing, display the first 5 rows of the dataframe **ev_pop** as the output. [Hint:The drop() function with 'columns' and 'inplace' argument may be used]"
   ]
  },
  {
   "cell_type": "code",
   "execution_count": 17,
   "metadata": {},
   "outputs": [
    {
     "data": {
      "text/html": [
       "<div>\n",
       "<style scoped>\n",
       "    .dataframe tbody tr th:only-of-type {\n",
       "        vertical-align: middle;\n",
       "    }\n",
       "\n",
       "    .dataframe tbody tr th {\n",
       "        vertical-align: top;\n",
       "    }\n",
       "\n",
       "    .dataframe thead th {\n",
       "        text-align: right;\n",
       "    }\n",
       "</style>\n",
       "<table border=\"1\" class=\"dataframe\">\n",
       "  <thead>\n",
       "    <tr style=\"text-align: right;\">\n",
       "      <th></th>\n",
       "      <th>VIN (1-10)</th>\n",
       "      <th>County</th>\n",
       "      <th>City</th>\n",
       "      <th>State</th>\n",
       "      <th>ZIP Code</th>\n",
       "      <th>Model Year</th>\n",
       "      <th>Make</th>\n",
       "      <th>Model</th>\n",
       "      <th>Electric Vehicle Type</th>\n",
       "      <th>Electric Range</th>\n",
       "      <th>Base MSRP</th>\n",
       "    </tr>\n",
       "  </thead>\n",
       "  <tbody>\n",
       "    <tr>\n",
       "      <th>0</th>\n",
       "      <td>5YJ3E1EB2K</td>\n",
       "      <td>King</td>\n",
       "      <td>KIRKLAND</td>\n",
       "      <td>WA</td>\n",
       "      <td>98033</td>\n",
       "      <td>2019</td>\n",
       "      <td>TESLA</td>\n",
       "      <td>MODEL 3</td>\n",
       "      <td>Battery Electric Vehicle (BEV)</td>\n",
       "      <td>220</td>\n",
       "      <td>35000</td>\n",
       "    </tr>\n",
       "    <tr>\n",
       "      <th>1</th>\n",
       "      <td>5YJSA1E43L</td>\n",
       "      <td>King</td>\n",
       "      <td>SEATTLE</td>\n",
       "      <td>WA</td>\n",
       "      <td>98102</td>\n",
       "      <td>2020</td>\n",
       "      <td>TESLA</td>\n",
       "      <td>MODEL S</td>\n",
       "      <td>Battery Electric Vehicle (BEV)</td>\n",
       "      <td>337</td>\n",
       "      <td>0</td>\n",
       "    </tr>\n",
       "    <tr>\n",
       "      <th>2</th>\n",
       "      <td>JTDKARFP4J</td>\n",
       "      <td>King</td>\n",
       "      <td>BELLEVUE</td>\n",
       "      <td>WA</td>\n",
       "      <td>98004</td>\n",
       "      <td>2018</td>\n",
       "      <td>TOYOTA</td>\n",
       "      <td>PRIUS PRIME</td>\n",
       "      <td>Plug-in Hybrid Electric Vehicle (PHEV)</td>\n",
       "      <td>25</td>\n",
       "      <td>27300</td>\n",
       "    </tr>\n",
       "    <tr>\n",
       "      <th>3</th>\n",
       "      <td>JN1AZ0CP1B</td>\n",
       "      <td>King</td>\n",
       "      <td>SEATTLE</td>\n",
       "      <td>WA</td>\n",
       "      <td>98118</td>\n",
       "      <td>2011</td>\n",
       "      <td>NISSAN</td>\n",
       "      <td>LEAF</td>\n",
       "      <td>Battery Electric Vehicle (BEV)</td>\n",
       "      <td>73</td>\n",
       "      <td>32780</td>\n",
       "    </tr>\n",
       "    <tr>\n",
       "      <th>4</th>\n",
       "      <td>1N4AZ0CP8F</td>\n",
       "      <td>King</td>\n",
       "      <td>REDMOND</td>\n",
       "      <td>WA</td>\n",
       "      <td>98052</td>\n",
       "      <td>2015</td>\n",
       "      <td>NISSAN</td>\n",
       "      <td>LEAF</td>\n",
       "      <td>Battery Electric Vehicle (BEV)</td>\n",
       "      <td>84</td>\n",
       "      <td>29010</td>\n",
       "    </tr>\n",
       "  </tbody>\n",
       "</table>\n",
       "</div>"
      ],
      "text/plain": [
       "   VIN (1-10) County      City State  ZIP Code  Model Year    Make  \\\n",
       "0  5YJ3E1EB2K   King  KIRKLAND    WA     98033        2019   TESLA   \n",
       "1  5YJSA1E43L   King   SEATTLE    WA     98102        2020   TESLA   \n",
       "2  JTDKARFP4J   King  BELLEVUE    WA     98004        2018  TOYOTA   \n",
       "3  JN1AZ0CP1B   King   SEATTLE    WA     98118        2011  NISSAN   \n",
       "4  1N4AZ0CP8F   King   REDMOND    WA     98052        2015  NISSAN   \n",
       "\n",
       "         Model                   Electric Vehicle Type  Electric Range  \\\n",
       "0      MODEL 3          Battery Electric Vehicle (BEV)             220   \n",
       "1      MODEL S          Battery Electric Vehicle (BEV)             337   \n",
       "2  PRIUS PRIME  Plug-in Hybrid Electric Vehicle (PHEV)              25   \n",
       "3         LEAF          Battery Electric Vehicle (BEV)              73   \n",
       "4         LEAF          Battery Electric Vehicle (BEV)              84   \n",
       "\n",
       "   Base MSRP  \n",
       "0      35000  \n",
       "1          0  \n",
       "2      27300  \n",
       "3      32780  \n",
       "4      29010  "
      ]
     },
     "execution_count": 17,
     "metadata": {},
     "output_type": "execute_result"
    }
   ],
   "source": [
    "#GIVE YOUR ANSWER FOR TASK-2 IN THIS CELL\n",
    "\n",
    "cols_2b_dropped = ['Clean Alternative Fuel Vehicle (CAFV) Eligibility', 'Legislative District', 'DOL Vehicle ID',\n",
    "       'Vehicle Location']\n",
    "ev_pop.drop(columns = cols_2b_dropped, inplace = True)\n",
    "ev_pop.head()"
   ]
  },
  {
   "cell_type": "markdown",
   "metadata": {},
   "source": [
    "Let's say we first want to see whether the EV purchase has generally shown an growth trend over the years. The strategy to visualize it is to have the 'Model Year' (in an ordered manner) in the x-axis and the value counts of that 'Model Year' in the y-axis as a scatter plot.\n",
    "\n",
    "\n",
    "**Task-3:** Extract the value counts for each 'Model Year' and save the pandas Series in the variable name 'model_year' "
   ]
  },
  {
   "cell_type": "code",
   "execution_count": 18,
   "metadata": {},
   "outputs": [],
   "source": [
    "#GIVE YOUR ANSWER FOR TASK-3 IN THIS CELL\n",
    "\n",
    "model_year = ev_pop['Model Year'].value_counts()"
   ]
  },
  {
   "cell_type": "markdown",
   "metadata": {},
   "source": [
    "At this point model_year is a pandas Series having the 'Model Year' values as its index and count of values as the Series. \n",
    "\n",
    "If we explore the dataset we shall see the 'Base MSRP' column inexplacably contain a good number of values equal to 'zero' and in some case unusually high values (can be disregarded as outlier) which are greater than 100,000.\n",
    "\n",
    "**Task-4:** Plot a scatter plot with the Model Year values in the x-axis and their value counts in the y-axis. Make sure the plot has proper labels and title. [Hint: You can use Series.index attribute to have model year as a data sequence]. Comment on your observations in a following markdown cell.\n"
   ]
  },
  {
   "cell_type": "code",
   "execution_count": 19,
   "metadata": {},
   "outputs": [
    {
     "data": {
      "text/plain": [
       "Text(0.5, 1.0, 'EV Population by Model Year')"
      ]
     },
     "execution_count": 19,
     "metadata": {},
     "output_type": "execute_result"
    },
    {
     "data": {
      "image/png": "[encoded data removed]",
      "text/plain": [
       "<Figure size 432x288 with 1 Axes>"
      ]
     },
     "metadata": {
      "needs_background": "light"
     },
     "output_type": "display_data"
    }
   ],
   "source": [
    "#GIVE YOUR ANSWER FOR TASK-4 IN THIS CELL\n",
    "\n",
    "plt.scatter(model_year.index, model_year)\n",
    "plt.xlabel('Model Year')\n",
    "plt.ylabel('No. of Vehicles')\n",
    "plt.title('EV Population by Model Year')"
   ]
  },
  {
   "cell_type": "markdown",
   "metadata": {},
   "source": [
    "Student Answer (Expected): The observation is the EV usage or purchase shown a general trend of exponential growth which might be slowed down in last couple of years due to COVID and other challenging situations."
   ]
  },
  {
   "cell_type": "markdown",
   "metadata": {},
   "source": [
    "Let's work towards plotting a histogram for 'MRSP Base Price' value of the entire EV Population database with the following two tasks.\n",
    "\n",
    "**Task-5:** Clean up the ev_pop dataframe by selecting only the rows of the dataframe where the two conditions: \n",
    "    a) the Base MSRP is greater than 0\n",
    "    b) the base MSRP is less than or equal to 100000\n",
    "are simultaneously met (**and** operation).Save the modified dataframe as **ev_pop_cleaned**"
   ]
  },
  {
   "cell_type": "code",
   "execution_count": 20,
   "metadata": {},
   "outputs": [],
   "source": [
    "#GIVE YOUR ANSWER FOR TASK-5 IN THIS CELL\n",
    "\n",
    "ev_pop_cleaned = ev_pop[(ev_pop['Base MSRP']>0) & (ev_pop['Base MSRP']<100000)]"
   ]
  },
  {
   "cell_type": "markdown",
   "metadata": {},
   "source": [
    "**Task-6:** Plot the Histogram of the 'Base MSRP' series of the **ev_pop_cleaned** dataframe \n",
    "\n"
   ]
  },
  {
   "cell_type": "code",
   "execution_count": 21,
   "metadata": {},
   "outputs": [
    {
     "data": {
      "text/plain": [
       "Text(0.5, 1.0, 'Distribution of Base MSRP')"
      ]
     },
     "execution_count": 21,
     "metadata": {},
     "output_type": "execute_result"
    },
    {
     "data": {
      "image/png": "[encoded data removed]",
      "text/plain": [
       "<Figure size 432x288 with 1 Axes>"
      ]
     },
     "metadata": {
      "needs_background": "light"
     },
     "output_type": "display_data"
    }
   ],
   "source": [
    "#GIVE YOUR ANSWER FOR TASK-6 IN THIS CELL\n",
    "\n",
    "plt.hist(ev_pop_cleaned['Base MSRP'])\n",
    "plt.xlabel('Base MSRP')\n",
    "plt.title('Distribution of Base MSRP')"
   ]
  },
  {
   "cell_type": "markdown",
   "metadata": {},
   "source": [
    "**Exercise-2: In this exercise, we shall visualize the data from the manufacturer's perspective through following four tasks\"**\n",
    "\n",
    "**(POINTS: 40 - each task in this exercise carries 10 points)**"
   ]
  },
  {
   "cell_type": "markdown",
   "metadata": {},
   "source": [
    "**Task-1:** Using the **ev_pop** dataframe, extract the top ten makers of electric vehicles by the dataset. Print the names of the makers and their corresponding value counts (no. of vehicles by the maker). [Hint: Use the **value_counts()** and **nlargest()** functions in tendem to extract the series of top ten makers]"
   ]
  },
  {
   "cell_type": "code",
   "execution_count": 22,
   "metadata": {},
   "outputs": [
    {
     "name": "stdout",
     "output_type": "stream",
     "text": [
      "TESLA         25880\n",
      "NISSAN        11220\n",
      "CHEVROLET      8382\n",
      "FORD           3671\n",
      "TOYOTA         2832\n",
      "BMW            2626\n",
      "KIA            2262\n",
      "AUDI           1113\n",
      "VOLKSWAGEN      971\n",
      "HYUNDAI         880\n",
      "Name: Make, dtype: int64\n"
     ]
    }
   ],
   "source": [
    "#GIVE YOUR ANSWER FOR TASK-1 IN THIS CELL\n",
    "\n",
    "maker = ev_pop['Make'].value_counts().nlargest(10)\n",
    "print(maker)"
   ]
  },
  {
   "cell_type": "markdown",
   "metadata": {},
   "source": [
    "**Task-2:** Make a bar plot for the top ten makers and their vehicle counts in the **ev_pop** database. Use all the proper plotting practices for labels and title. For better readability make sure the x labels are rotated 90 degrees.\n",
    "\n",
    "**Hint**: Use the xticks.rotation() function for the label rotation. Use pyplot.show() to avoid unwanted texts above the bar graph."
   ]
  },
  {
   "cell_type": "code",
   "execution_count": 23,
   "metadata": {},
   "outputs": [
    {
     "data": {
      "image/png": "[encoded data removed]",
      "text/plain": [
       "<Figure size 432x288 with 1 Axes>"
      ]
     },
     "metadata": {
      "needs_background": "light"
     },
     "output_type": "display_data"
    }
   ],
   "source": [
    "#GIVE YOUR ANSWER FOR TASK-2 IN THIS CELL\n",
    "\n",
    "plt.bar(maker.index, maker, color = 'teal')\n",
    "plt.ylabel('No. of Vehicles')\n",
    "plt.xticks(rotation = 90)\n",
    "plt.show()"
   ]
  },
  {
   "cell_type": "markdown",
   "metadata": {},
   "source": [
    "Now we want to observe the sales (revenue) trend of the top two manufacturers through the following tasks.\n",
    "\n",
    "**Task-3:** Extract two separate dataframes for the top two manufacturers where the 'Make' column value of **ev_pop** matches with the manufacturer. Sort the two dataframes by the ascending values for 'Model Year' and save the two sorted dataframes as **sorted_Tesla** and **sorted_Nissan**. Apply the **groupby()** and **sum()** function together for grouping the sorted dataframes by 'Model Year' and get the summation for numerical fields. It will extract two dataframes (name them **tesla** and **nissan** respectively) which will provide the yearly sum of numerical columns like 'Electric Range' and 'Base MSRP'.\n"
   ]
  },
  {
   "cell_type": "code",
   "execution_count": 24,
   "metadata": {},
   "outputs": [],
   "source": [
    "#GIVE YOUR ANSWER FOR TASK-3 IN THIS CELL\n",
    "\n",
    "ev_Tesla = ev_pop[ev_pop.Make == 'TESLA']\n",
    "sorted_Tesla = ev_Tesla.sort_values('Model Year')\n",
    "\n",
    "ev_Nissan = ev_pop[ev_pop.Make == 'NISSAN']\n",
    "sorted_Nissan = ev_Nissan.sort_values('Model Year')\n",
    "\n",
    "tesla = sorted_Tesla.groupby('Model Year').sum()\n",
    "nissan = sorted_Nissan.groupby('Model Year').sum()\n"
   ]
  },
  {
   "cell_type": "markdown",
   "metadata": {},
   "source": [
    "**Task-4:** Plot an overlaid line plot for 'Model Year' (vs.) 'Revenue (=summed up Base MSRP)' for each of the top two manufacturers. The plot must display an x-label, a y-label, a title, and a legend.\n",
    "\n",
    "**Note-1:** To increase the line width of the line plot, use the argument **`lw`**. For example: lw = 3.\n",
    "\n",
    "**Note-2:** To give your own labels for each color that corresponds to one of the 4 countries, use the argument **`label`**. For example: label = 'Tesla'."
   ]
  },
  {
   "cell_type": "code",
   "execution_count": 25,
   "metadata": {},
   "outputs": [
    {
     "data": {
      "text/plain": [
       "<matplotlib.legend.Legend at 0xffff818a58b0>"
      ]
     },
     "execution_count": 25,
     "metadata": {},
     "output_type": "execute_result"
    },
    {
     "data": {
      "image/png": "[encoded data removed]",
      "text/plain": [
       "<Figure size 432x288 with 1 Axes>"
      ]
     },
     "metadata": {
      "needs_background": "light"
     },
     "output_type": "display_data"
    }
   ],
   "source": [
    "#GIVE YOUR ANSWER FOR TASK-4 IN THIS CELL\n",
    "\n",
    "plt.plot(tesla.index,tesla['Base MSRP'], color = 'black', label = 'Tesla')\n",
    "plt.plot(nissan.index,nissan['Base MSRP'], color = 'orange', label = 'Nissan')\n",
    "plt.xlabel('Year')\n",
    "plt.ylabel('Maker\\'s Revenue')\n",
    "plt.title('Market trend of top two makers')\n",
    "plt.legend()"
   ]
  },
  {
   "cell_type": "code",
   "execution_count": null,
   "metadata": {},
   "outputs": [],
   "source": []
  }
 ],
 "metadata": {
  "kernelspec": {
   "display_name": "Python 3",
   "language": "python",
   "name": "python3"
  },
  "language_info": {
   "codemirror_mode": {
    "name": "ipython",
    "version": 3
   },
   "file_extension": ".py",
   "mimetype": "text/x-python",
   "name": "python",
   "nbconvert_exporter": "python",
   "pygments_lexer": "ipython3",
   "version": "3.8.10"
  }
 },
 "nbformat": 4,
 "nbformat_minor": 4
}
