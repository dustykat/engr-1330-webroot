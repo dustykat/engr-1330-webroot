{
 "cells": [
  {
   "cell_type": "markdown",
   "metadata": {},
   "source": [
    "# <font color=darkblue>Week 1 Assignment </font>\n",
    "\n"
   ]
  },
  {
   "cell_type": "markdown",
   "metadata": {},
   "source": [
    "## Full name: \n",
    "## R#: \n",
    "## Title of the notebook:\n",
    "## Date: "
   ]
  },
  {
   "cell_type": "markdown",
   "metadata": {},
   "source": [
    "![](https://miro.medium.com/max/1600/1*qdAW1TjCN57h1lbuuzvchg.gif) <br>\n"
   ]
  },
  {
   "cell_type": "markdown",
   "metadata": {},
   "source": [
    "## Question1: Playing with a Markdown cell <br>\n",
    "\n",
    "\n",
    "### Use the empty Markdown cell below, set it up so that it meets all the mentioned requirements:\n",
    "\n",
    "\"O Captain! my Captain! our fearful trip is done,\n",
    "The ship has weather’d every rack, the prize we sought is won,\n",
    "The port is near, the bells I hear, the people all exulting,\n",
    "While follow eyes the steady keel, the vessel grim and daring;\"\n",
    "<br> <font color=red>[Have this verse in blue and italic]</font><br>\n",
    "\n",
    "But O heart! heart! heart!\n",
    "O the bleeding drops of red,\n",
    "Where on the deck my Captain lies,\n",
    "Fallen cold and dead.\n",
    "<br> <font color=red>[Have this verse as indented quoting]</font><br>\n",
    "\n",
    "\n",
    "O Captain! my Captain! rise up and hear the bells;\n",
    "Rise up—for you the flag is flung—for you the bugle trills,\n",
    "For you bouquets and ribbon’d wreaths—for you the shores a-crowding,\n",
    "For you they call, the swaying mass, their eager faces turning;\n",
    "<br> <font color=red>[Have this verse in pink and bold]</font><br>\n",
    "\n",
    "Here Captain! dear father!\n",
    "This arm beneath your head!\n",
    "It is some dream that on the deck,\n",
    "You’ve fallen cold and dead.\n",
    "<br> <font color=red>[Have this verse as indented quoting]</font><br>\n",
    "\n",
    "My Captain does not answer, his lips are pale and still,\n",
    "My father does not feel my arm, he has no pulse nor will,\n",
    "The ship is anchor’d safe and sound, its voyage closed and done,\n",
    "From fearful trip the victor ship comes in with object won;\n",
    "<br> <font color=red>[Have this verse in orange, italic and bold]</font><br>\n",
    "\n",
    "Exult O shores, and ring O bells!\n",
    "But I with mournful tread,\n",
    "Walk the deck my Captain lies,\n",
    "Fallen cold and dead.\"\n",
    "<br> <font color=red>[Have this verse as indented quoting]</font><br>\n",
    "\n",
    "\n",
    "<br> <font color=red>[Attach an image of WALT WHITMAN from an online resource here.]</font><br>\n"
   ]
  },
  {
   "cell_type": "markdown",
   "metadata": {},
   "source": [
    "---\n",
    "\n",
    "_<font color=blue> \"O Captain! my Captain! our fearful trip is done,</font>_<br>\n",
    "_<font color=blue>The ship has weather’d every rack, the prize we sought is won,</font>_<br>\n",
    "_<font color=blue>The port is near, the bells I hear, the people all exulting,</font>_<br>\n",
    "_<font color=blue>While follow eyes the steady keel, the vessel grim and daring;\"</font>_<br>\n",
    "\n",
    ">But O heart! heart! heart!\n",
    "O the bleeding drops of red,\n",
    "Where on the deck my Captain lies,\n",
    "Fallen cold and dead.\n",
    "<br> \n",
    "\n",
    "\n",
    "__<font color=pink>O Captain! my Captain! rise up and hear the bells;</font>__<br>\n",
    "__<font color=pink>Rise up—for you the flag is flung—for you the bugle trills,</font>__<br>\n",
    "__<font color=pink>For you bouquets and ribbon’d wreaths—for you the shores a-crowding,</font>__<br>\n",
    "__<font color=pink>For you they call, the swaying mass, their eager faces turning;</font>__<br>\n",
    "\n",
    "> Here Captain! dear father!\n",
    "This arm beneath your head!\n",
    "It is some dream that on the deck,\n",
    "You’ve fallen cold and dead.\n",
    "<br>\n",
    "\n",
    "___<font color=orange>My Captain does not answer, his lips are pale and still,</font>___<br>\n",
    "___<font color=orange>My father does not feel my arm, he has no pulse nor will,</font>___<br>\n",
    "___<font color=orange>The ship is anchor’d safe and sound, its voyage closed and done,</font>___<br>\n",
    "___<font color=orange>From fearful trip the victor ship comes in with object won;</font>___<br>\n",
    "\n",
    "\n",
    "> Exult O shores, and ring O bells!\n",
    "But I with mournful tread,\n",
    "Walk the deck my Captain lies,\n",
    "Fallen cold and dead.\"\n",
    "<br> \n",
    "\n",
    "![](https://www.pbs.org/wgbh/americanexperience/media/canonical_images/film/Walt_Whitman_2800x1576.jpg) <br>\n",
    "\n",
    "\n",
    "---"
   ]
  },
  {
   "cell_type": "markdown",
   "metadata": {},
   "source": [
    "## Question2: To quote or not to quote! <br>\n",
    "\n",
    "\n",
    "### Change the cell below to a code cell and run the script:"
   ]
  },
  {
   "cell_type": "code",
   "execution_count": 7,
   "metadata": {},
   "outputs": [
    {
     "name": "stdout",
     "output_type": "stream",
     "text": [
      "10\n",
      "3 + 7\n",
      "Dusty 10\n",
      "MyName MyNumber\n",
      "5.0\n"
     ]
    }
   ],
   "source": [
    "print(3 + 7 )\n",
    "print('3 + 7')\n",
    "MyNumber = 3+7\n",
    "MyName = 'Dusty'\n",
    "print(MyName, MyNumber)\n",
    "print('MyName', 'MyNumber')\n",
    "MyNumber = 3+2.0\n",
    "print(MyNumber)\n"
   ]
  },
  {
   "cell_type": "markdown",
   "metadata": {},
   "source": [
    "### Answer the following questions based on the output\n",
    "\n",
    "1.  What is the difference between `print( 3 + 7 )` and `print( '3 + 7')`?\n",
    "\n",
    "2.  What is the difference between `print( MyName, MyNumber)` and `print('MyName', 'MyNumber')`\n",
    "\n",
    "3.  Change `MyNumber = 3+2` to `MyNumber = 3+2.0`, and re-run the script, what happens? Why?\n",
    "\n",
    "Write your answers below:"
   ]
  },
  {
   "cell_type": "markdown",
   "metadata": {},
   "source": [
    "> Answer1: print( 3 + 7 ) returns the output of the summation of 3 and 7 which is equal to 10. print( '3 + 7' ) prints the string between quotation marks as is. "
   ]
  },
  {
   "cell_type": "markdown",
   "metadata": {},
   "source": [
    "> Answer2: print( MyName, MyNumber) returns the content of \"MyName\" and \"MyNumber\" variables. But print( 'MyName', 'MyNumber') prints merely those strings. "
   ]
  },
  {
   "cell_type": "markdown",
   "metadata": {},
   "source": [
    "> Answer3: After modifying the script, \"MyNumber\" is now updated to 5.0 which is a float. This is because we summed up an integer (3) and a float (2.0) which will always result in a float (5.0)"
   ]
  },
  {
   "cell_type": "markdown",
   "metadata": {},
   "source": [
    "## Question3: Arithmetic and Expressions <br>\n",
    "\n",
    "\n",
    "### Calculate the expressions below by hand taking care to keep track of result type (integer or float):\n",
    "\n",
    "\n",
    "\n",
    "    x1 = 7 + 3 * 6 / 2 - 1\n",
    "    \n",
    "    x2 = 2 % 2 + 2 * 2 - 2 / 2\n",
    "    \n",
    "    x3 = ( 3 * 9 * ( 3 + ( 9 * 3 / ( 3 ) ) ) )\n",
    "\n",
    "### Write your results below"
   ]
  },
  {
   "cell_type": "markdown",
   "metadata": {},
   "source": [
    "x1 (by hand) = 15"
   ]
  },
  {
   "cell_type": "markdown",
   "metadata": {},
   "source": [
    "x2 (by hand) = 3"
   ]
  },
  {
   "cell_type": "markdown",
   "metadata": {},
   "source": [
    "x3 (by hand) = 324"
   ]
  },
  {
   "cell_type": "markdown",
   "metadata": {},
   "source": [
    "### Now write a script to evaluate and print the results, by\n",
    "\n",
    "1. Assigning a value to a variable.  Use the names above\n",
    "\n",
    "        x1 = 7 + 3 * 6 / 2 - 1\n",
    "        x2 = ...\n",
    "        x3 = ...\n",
    "    \n",
    "2. Then print the type and contents of each variable.\n",
    "\n",
    "        print(type(x1),x1) \n",
    "        print(type(x2),x2)\n",
    "        ..."
   ]
  },
  {
   "cell_type": "code",
   "execution_count": 8,
   "metadata": {},
   "outputs": [
    {
     "name": "stdout",
     "output_type": "stream",
     "text": [
      "<class 'float'> 15.0\n",
      "<class 'float'> 3.0\n",
      "<class 'float'> 324.0\n"
     ]
    }
   ],
   "source": [
    "x1 = 7 + 3 * 6 / 2 - 1   \n",
    "x2 = 2 % 2 + 2 * 2 - 2 / 2\n",
    "x3 = ( 3 * 9 * ( 3 + ( 9 * 3 / ( 3 ) ) ) )\n",
    "print(type(x1),x1) \n",
    "print(type(x2),x2)\n",
    "print(type(x3),x3)"
   ]
  },
  {
   "cell_type": "markdown",
   "metadata": {},
   "source": [
    "## Question4: String Element Manipulation  <br>\n",
    "\n",
    "\n",
    "### Define the string given below in quotes to a meaningful variable name.\n",
    "\n",
    "    some_string ='Computational Thinking'\n",
    "\n",
    "### Then\n",
    "\n",
    "1. Index and print all the elements from index positions 2 to 10.\n",
    "\n",
    "        begin = ???\n",
    "        end = ???\n",
    "        print(some_string[begin:end])\n",
    "        \n",
    "  \n",
    "2. Index and print the string 'Think'.\n",
    "\n"
   ]
  },
  {
   "cell_type": "code",
   "execution_count": 9,
   "metadata": {},
   "outputs": [],
   "source": [
    "Q4string ='Computational Thinking' #Defining the given string"
   ]
  },
  {
   "cell_type": "code",
   "execution_count": 11,
   "metadata": {},
   "outputs": [
    {
     "name": "stdout",
     "output_type": "stream",
     "text": [
      "mputatio\n"
     ]
    }
   ],
   "source": [
    "print(Q4string[2:10])  #Indexing with [#first index:#last index] syntax and printing"
   ]
  },
  {
   "cell_type": "code",
   "execution_count": 14,
   "metadata": {},
   "outputs": [
    {
     "name": "stdout",
     "output_type": "stream",
     "text": [
      "Think\n"
     ]
    }
   ],
   "source": [
    "print(Q4string[14:19]) #Indexing so that we can get \"Think\""
   ]
  },
  {
   "cell_type": "markdown",
   "metadata": {},
   "source": [
    "![](https://freight.cargo.site/w/1200/i/c96b2ce17b2aee95c6e837552e3e38d058ac4ad2a6759448ed78128963790744/Happy_Coding_BC_6-03-05.png)"
   ]
  }
 ],
 "metadata": {
  "kernelspec": {
   "display_name": "Python 3",
   "language": "python",
   "name": "python3"
  },
  "language_info": {
   "codemirror_mode": {
    "name": "ipython",
    "version": 3
   },
   "file_extension": ".py",
   "mimetype": "text/x-python",
   "name": "python",
   "nbconvert_exporter": "python",
   "pygments_lexer": "ipython3",
   "version": "3.8.5"
  }
 },
 "nbformat": 4,
 "nbformat_minor": 4
}
