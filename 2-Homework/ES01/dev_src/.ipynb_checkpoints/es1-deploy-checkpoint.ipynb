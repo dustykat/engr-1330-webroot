{
 "cells": [
  {
   "cell_type": "markdown",
   "metadata": {},
   "source": [
    "# <font color=darkblue>Week 1 Assignment </font>\n",
    "\n"
   ]
  },
  {
   "cell_type": "markdown",
   "metadata": {},
   "source": [
    "\n",
    "## Full name: \n",
    "## R#: \n",
    "## Title of the notebook:\n",
    "## Date: \n",
    "<hr/>"
   ]
  },
  {
   "cell_type": "markdown",
   "metadata": {},
   "source": [
    "![](https://miro.medium.com/max/1600/1*qdAW1TjCN57h1lbuuzvchg.gif) <br>\n"
   ]
  },
  {
   "cell_type": "markdown",
   "metadata": {},
   "source": [
    "---\n",
    "## Question1: Playing with a Markdown cell <br>\n",
    "\n",
    "\n",
    "### Use the empty Markdown cell below, set it up so that it meets all the mentioned requirements:\n",
    "\n",
    "\"O Captain! my Captain! our fearful trip is done,\n",
    "The ship has weather’d every rack, the prize we sought is won,\n",
    "The port is near, the bells I hear, the people all exulting,\n",
    "While follow eyes the steady keel, the vessel grim and daring;\"\n",
    "<br> <font color=red>[Have this verse in blue and italic]</font><br>\n",
    "\n",
    "But O heart! heart! heart!\n",
    "O the bleeding drops of red,\n",
    "Where on the deck my Captain lies,\n",
    "Fallen cold and dead.\n",
    "<br> <font color=red>[Have this verse as indented quoting]</font><br>\n",
    "\n",
    "\n",
    "O Captain! my Captain! rise up and hear the bells;\n",
    "Rise up—for you the flag is flung—for you the bugle trills,\n",
    "For you bouquets and ribbon’d wreaths—for you the shores a-crowding,\n",
    "For you they call, the swaying mass, their eager faces turning;\n",
    "<br> <font color=red>[Have this verse in pink and bold]</font><br>\n",
    "\n",
    "Here Captain! dear father!\n",
    "This arm beneath your head!\n",
    "It is some dream that on the deck,\n",
    "You’ve fallen cold and dead.\n",
    "<br> <font color=red>[Have this verse as indented quoting]</font><br>\n",
    "\n",
    "My Captain does not answer, his lips are pale and still,\n",
    "My father does not feel my arm, he has no pulse nor will,\n",
    "The ship is anchor’d safe and sound, its voyage closed and done,\n",
    "From fearful trip the victor ship comes in with object won;\n",
    "<br> <font color=red>[Have this verse in orange, italic and bold]</font><br>\n",
    "\n",
    "Exult O shores, and ring O bells!\n",
    "But I with mournful tread,\n",
    "Walk the deck my Captain lies,\n",
    "Fallen cold and dead.\"\n",
    "<br> <font color=red>[Have this verse as indented quoting]</font><br>\n",
    "\n",
    "\n",
    "<br> <font color=red>[Attach an image of WALT WHITMAN from an online resource here.]</font><br>\n"
   ]
  },
  {
   "cell_type": "markdown",
   "metadata": {},
   "source": [
    "---\n",
    "**EDIT THIS MARKDOWN CELL**\n",
    "\n",
    "\n",
    "---"
   ]
  },
  {
   "cell_type": "markdown",
   "metadata": {},
   "source": [
    "---\n",
    "## Question2: To quote or not to quote! <br>\n",
    "\n",
    "\n",
    "### Change the cell below to a code cell and run the script:"
   ]
  },
  {
   "cell_type": "markdown",
   "metadata": {},
   "source": [
    "print(3 + 7 )\n",
    "print('3 + 7')\n",
    "MyNumber = 3+7\n",
    "MyName = 'Dusty'\n",
    "print(MyName, MyNumber)\n",
    "print('MyName', 'MyNumber')"
   ]
  },
  {
   "cell_type": "markdown",
   "metadata": {},
   "source": [
    "### Answer the following questions based on the output\n",
    "\n",
    "1.  What is the difference between `print( 3 + 7 )` and `print( '3 + 7')`?\n",
    "\n",
    "2.  What is the difference between `print( MyName, MyNumber)` and `print('MyName', 'MyNumber')`\n",
    "\n",
    "3.  Change `MyNumber = 3+2` to `MyNumber = 3+2.0`, and re-run the script, what happens? Why?\n",
    "\n",
    "Write your answers below:"
   ]
  },
  {
   "cell_type": "markdown",
   "metadata": {},
   "source": [
    "Question 1 Answer"
   ]
  },
  {
   "cell_type": "markdown",
   "metadata": {},
   "source": [
    "Question 2 Answer"
   ]
  },
  {
   "cell_type": "markdown",
   "metadata": {},
   "source": [
    "Question 3 Answer"
   ]
  },
  {
   "cell_type": "markdown",
   "metadata": {},
   "source": [
    "---\n",
    "## Question3: Arithmetic and Expressions <br>\n",
    "\n",
    "\n",
    "### Calculate the expressions below by hand taking care to keep track of result type (integer or float):\n",
    "\n",
    "\n",
    "\n",
    "    x1 = 7 + 3 * 6 / 2 - 1\n",
    "    \n",
    "    x2 = 2 % 2 + 2 * 2 - 2 / 2\n",
    "    \n",
    "    x3 = ( 3 * 9 * ( 3 + ( 9 * 3 / ( 3 ) ) ) )\n",
    "\n",
    "### Write your results below"
   ]
  },
  {
   "cell_type": "markdown",
   "metadata": {},
   "source": [
    "x1 (by hand) ="
   ]
  },
  {
   "cell_type": "markdown",
   "metadata": {},
   "source": [
    "x2 (by hand) ="
   ]
  },
  {
   "cell_type": "markdown",
   "metadata": {},
   "source": [
    "x3 (by hand) ="
   ]
  },
  {
   "cell_type": "markdown",
   "metadata": {},
   "source": [
    "### Now write a script to evaluate and print the results, by\n",
    "\n",
    "1. Assigning a value to a variable.  Use the names above\n",
    "\n",
    "        x1 = 7 + 3 * 6 / 2 - 1\n",
    "        x2 = ...\n",
    "        x3 = ...\n",
    "    \n",
    "2. Then print the type and contents of each variable.\n",
    "\n",
    "        print(type(x1),x1) \n",
    "        print(type(x2),x2)\n",
    "        ..."
   ]
  },
  {
   "cell_type": "code",
   "execution_count": null,
   "metadata": {},
   "outputs": [],
   "source": []
  },
  {
   "cell_type": "markdown",
   "metadata": {},
   "source": [
    "---\n",
    "## Question4: String Element Manipulation  <br>\n",
    "\n",
    "\n",
    "### Define the string given below in quotes to a meaningful variable name.\n",
    "\n",
    "    some_string ='Computational Thinking'\n",
    "\n",
    "### Then\n",
    "\n",
    "1. Index and print all the elements from index positions 2 to 10.\n",
    "\n",
    "        begin = ???\n",
    "        end = ???\n",
    "        print(some_string[begin:end])\n",
    "        \n",
    "  \n",
    "2. Index and print the string 'Think'.\n",
    "\n"
   ]
  },
  {
   "cell_type": "code",
   "execution_count": null,
   "metadata": {},
   "outputs": [],
   "source": []
  },
  {
   "cell_type": "code",
   "execution_count": null,
   "metadata": {},
   "outputs": [],
   "source": []
  },
  {
   "cell_type": "markdown",
   "metadata": {},
   "source": []
  },
  {
   "cell_type": "markdown",
   "metadata": {},
   "source": [
    "![](https://freight.cargo.site/w/1200/i/c96b2ce17b2aee95c6e837552e3e38d058ac4ad2a6759448ed78128963790744/Happy_Coding_BC_6-03-05.png)"
   ]
  },
  {
   "cell_type": "code",
   "execution_count": null,
   "metadata": {},
   "outputs": [],
   "source": []
  }
 ],
 "metadata": {
  "kernelspec": {
   "display_name": "Python 3",
   "language": "python",
   "name": "python3"
  },
  "language_info": {
   "codemirror_mode": {
    "name": "ipython",
    "version": 3
   },
   "file_extension": ".py",
   "mimetype": "text/x-python",
   "name": "python",
   "nbconvert_exporter": "python",
   "pygments_lexer": "ipython3",
   "version": "3.8.5"
  }
 },
 "nbformat": 4,
 "nbformat_minor": 4
}
