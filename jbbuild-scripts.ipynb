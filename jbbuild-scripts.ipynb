{
 "cells": [
  {
   "cell_type": "code",
   "execution_count": 1,
   "metadata": {},
   "outputs": [
    {
     "name": "stdout",
     "output_type": "stream",
     "text": [
      "total 20\n",
      "drwxrwxr-x  4 sensei sensei 4096 Nov 11 20:06 .\n",
      "drwxr-xr-x 44 sensei sensei 4096 Nov 11 19:59 ..\n",
      "drwxrwxr-x  2 sensei sensei 4096 Nov 11 20:06 .ipynb_checkpoints\n",
      "drwxr-xr-x 16 sensei sensei 4096 Nov  8 21:24 engr-1330-webroot\n",
      "-rw-rw-r--  1 sensei sensei   72 Nov 11 20:06 jbbuild-scripts.ipynb\n"
     ]
    }
   ],
   "source": [
    "import sys\n",
    "! ls -la"
   ]
  },
  {
   "cell_type": "code",
   "execution_count": 17,
   "metadata": {},
   "outputs": [
    {
     "name": "stdout",
     "output_type": "stream",
     "text": [
      "Usage: jupyter-book [OPTIONS] COMMAND [ARGS]...\n",
      "\n",
      "  Build and manage books with Jupyter.\n",
      "\n",
      "Options:\n",
      "  --version   Show the version and exit.\n",
      "  -h, --help  Show this message and exit.\n",
      "\n",
      "Commands:\n",
      "  build   Convert your book's or page's content to HTML or a PDF.\n",
      "  clean   Empty the _build directory except jupyter_cache.\n",
      "  config  Inspect your _config.yml file.\n",
      "  create  Create a Jupyter Book template that you can customize.\n",
      "  myst    Manipulate MyST markdown files.\n",
      "  toc     Command-line for sphinx-external-toc.\n"
     ]
    }
   ],
   "source": [
    "! jupyter-book --help"
   ]
  },
  {
   "cell_type": "code",
   "execution_count": 22,
   "metadata": {},
   "outputs": [
    {
     "name": "stdout",
     "output_type": "stream",
     "text": [
      "\n",
      "\u001b[92m===============================================================================\u001b[0m\n",
      "\n",
      "Your book template can be found at\n",
      "\n",
      "    engr1330jb/\n",
      "\n",
      "\u001b[92m===============================================================================\u001b[0m\n",
      "\n"
     ]
    }
   ],
   "source": [
    "! jupyter-book create engr1330jb/"
   ]
  },
  {
   "cell_type": "code",
   "execution_count": 21,
   "metadata": {},
   "outputs": [
    {
     "name": "stdout",
     "output_type": "stream",
     "text": [
      "Usage: jupyter-book config [OPTIONS] COMMAND [ARGS]...\n",
      "Try 'jupyter-book config -h' for help.\n",
      "\n",
      "Error: No such command 'engr1330jb/'.\n"
     ]
    }
   ],
   "source": [
    "! jupyter-book config engr1330jb/"
   ]
  },
  {
   "cell_type": "code",
   "execution_count": null,
   "metadata": {},
   "outputs": [],
   "source": []
  }
 ],
 "metadata": {
  "kernelspec": {
   "display_name": "Python 3",
   "language": "python",
   "name": "python3"
  },
  "language_info": {
   "codemirror_mode": {
    "name": "ipython",
    "version": 3
   },
   "file_extension": ".py",
   "mimetype": "text/x-python",
   "name": "python",
   "nbconvert_exporter": "python",
   "pygments_lexer": "ipython3",
   "version": "3.8.10"
  }
 },
 "nbformat": 4,
 "nbformat_minor": 4
}
