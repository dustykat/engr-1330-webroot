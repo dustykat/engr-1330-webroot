{
 "cells": [
  {
   "cell_type": "code",
   "execution_count": 1,
   "metadata": {},
   "outputs": [
    {
     "name": "stdout",
     "output_type": "stream",
     "text": [
      "total 20\n",
      "drwxrwxr-x  4 sensei sensei 4096 Nov 11 20:06 .\n",
      "drwxr-xr-x 44 sensei sensei 4096 Nov 11 19:59 ..\n",
      "drwxrwxr-x  2 sensei sensei 4096 Nov 11 20:06 .ipynb_checkpoints\n",
      "drwxr-xr-x 16 sensei sensei 4096 Nov  8 21:24 engr-1330-webroot\n",
      "-rw-rw-r--  1 sensei sensei   72 Nov 11 20:06 jbbuild-scripts.ipynb\n"
     ]
    }
   ],
   "source": [
    "import sys\n",
    "! ls -la"
   ]
  },
  {
   "cell_type": "code",
   "execution_count": 2,
   "metadata": {},
   "outputs": [
    {
     "name": "stdout",
     "output_type": "stream",
     "text": [
      "Usage: jupyter-book [OPTIONS] COMMAND [ARGS]...\n",
      "\n",
      "  Build and manage books with Jupyter.\n",
      "\n",
      "Options:\n",
      "  --version   Show the version and exit.\n",
      "  -h, --help  Show this message and exit.\n",
      "\n",
      "Commands:\n",
      "  build   Convert your book's or page's content to HTML or a PDF.\n",
      "  clean   Empty the _build directory except jupyter_cache.\n",
      "  config  Inspect your _config.yml file.\n",
      "  create  Create a Jupyter Book template that you can customize.\n",
      "  myst    Manipulate MyST markdown files.\n",
      "  toc     Command-line for sphinx-external-toc.\n"
     ]
    }
   ],
   "source": [
    "! jupyter-book --help"
   ]
  },
  {
   "cell_type": "code",
   "execution_count": 3,
   "metadata": {},
   "outputs": [
    {
     "name": "stdout",
     "output_type": "stream",
     "text": [
      "\n",
      "\u001b[92m===============================================================================\u001b[0m\n",
      "\n",
      "Your book template can be found at\n",
      "\n",
      "    engr1330/\n",
      "\n",
      "\u001b[92m===============================================================================\u001b[0m\n",
      "\n"
     ]
    }
   ],
   "source": [
    "! jupyter-book create engr1330/"
   ]
  },
  {
   "cell_type": "code",
   "execution_count": 15,
   "metadata": {},
   "outputs": [
    {
     "name": "stdout",
     "output_type": "stream",
     "text": [
      "\u001b[32m\u001b[1mRunning Jupyter-Book v0.12.0\u001b[0m\n",
      "\u001b[34m\u001b[1mSource Folder: \u001b[0m/home/sensei/engr-1330-webroot2022/engr1330jb\n",
      "\u001b[34m\u001b[1mConfig Path: \u001b[0m/home/sensei/engr-1330-webroot2022/engr1330jb/_config.yml\n",
      "\u001b[34m\u001b[1mOutput Path: \u001b[0m/home/sensei/engr-1330-webroot2022/engr1330jb/_build/html\n",
      "\u001b[01mRunning Sphinx v3.5.2\u001b[39;49;00m\n",
      "[etoc] Changing master_doc to 'intro'\n",
      "\u001b[01mloading pickled environment... \u001b[39;49;00mfailed\n",
      "failed: source directory has changed\n",
      "checking for /home/sensei/engr-1330-webroot2022/engr1330jb/references.bib in bibtex cache... not found\n",
      "parsing bibtex file /home/sensei/engr-1330-webroot2022/engr1330jb/references.bib... parsed 5 entries\n",
      "\u001b[01mmyst v0.15.2:\u001b[39;49;00m MdParserConfig(renderer='sphinx', commonmark_only=False, enable_extensions=['colon_fence', 'dollarmath', 'linkify', 'substitution', 'tasklist'], dmath_allow_labels=True, dmath_allow_space=True, dmath_allow_digits=True, dmath_double_inline=False, update_mathjax=True, mathjax_classes='tex2jax_process|mathjax_process|math|output_area', disable_syntax=[], url_schemes=['mailto', 'http', 'https'], heading_anchors=None, heading_slug_func=None, html_meta=[], footnote_transition=True, substitutions=[], sub_delimiters=['{', '}'], words_per_minute=200)\n",
      "\u001b[01mbuilding [mo]: \u001b[39;49;00mtargets for 0 po files that are out of date\n",
      "\u001b[01mbuilding [html]: \u001b[39;49;00mtargets for 29 source files that are out of date\n",
      "\u001b[01mupdating environment: \u001b[39;49;00m[new config] 29 added, 0 changed, 0 removed\n",
      "Executing: lessons/lesson00/lesson00 in: /home/sensei/engr-1330-webroot2022/engr1330jb/lessons/lesson00         \n",
      "Executing: lessons/lesson01 in: /home/sensei/engr-1330-webroot2022/engr1330jb/lessons                           \n",
      "Executing: lessons/lesson02 in: /home/sensei/engr-1330-webroot2022/engr1330jb/lessons                           \n",
      "Executing: lessons/lesson03 in: /home/sensei/engr-1330-webroot2022/engr1330jb/lessons                           \n",
      "Executing: lessons/lesson04 in: /home/sensei/engr-1330-webroot2022/engr1330jb/lessons                           \n",
      "Executing: lessons/lesson05 in: /home/sensei/engr-1330-webroot2022/engr1330jb/lessons                           \n",
      "Executing: lessons/lesson06 in: /home/sensei/engr-1330-webroot2022/engr1330jb/lessons                           \n",
      "Executing: lessons/lesson07 in: /home/sensei/engr-1330-webroot2022/engr1330jb/lessons                           \n",
      "Executing: lessons/lesson08 in: /home/sensei/engr-1330-webroot2022/engr1330jb/lessons                           \n",
      "Executing: lessons/lesson09 in: /home/sensei/engr-1330-webroot2022/engr1330jb/lessons                           \n",
      "Executing: lessons/lesson10 in: /home/sensei/engr-1330-webroot2022/engr1330jb/lessons                           \n",
      "Executing: lessons/lesson11 in: /home/sensei/engr-1330-webroot2022/engr1330jb/lessons                           \n",
      "Executing: lessons/lesson12 in: /home/sensei/engr-1330-webroot2022/engr1330jb/lessons                           \n",
      "Executing: lessons/lesson13 in: /home/sensei/engr-1330-webroot2022/engr1330jb/lessons                           \n",
      "Executing: lessons/lesson14 in: /home/sensei/engr-1330-webroot2022/engr1330jb/lessons                           \n",
      "Executing: lessons/lesson15 in: /home/sensei/engr-1330-webroot2022/engr1330jb/lessons                           \n",
      "Executing: lessons/lesson16 in: /home/sensei/engr-1330-webroot2022/engr1330jb/lessons                           \n",
      "Executing: lessons/lesson17 in: /home/sensei/engr-1330-webroot2022/engr1330jb/lessons                           \n",
      "Executing: lessons/lesson18 in: /home/sensei/engr-1330-webroot2022/engr1330jb/lessons                           \n",
      "Executing: lessons/lesson19 in: /home/sensei/engr-1330-webroot2022/engr1330jb/lessons                           \n",
      "Executing: lessons/lesson20 in: /home/sensei/engr-1330-webroot2022/engr1330jb/lessons                           \n",
      "Executing: lessons/lesson21 in: /home/sensei/engr-1330-webroot2022/engr1330jb/lessons                           \n",
      "Executing: lessons/lesson22 in: /home/sensei/engr-1330-webroot2022/engr1330jb/lessons                           \n",
      "Executing: lessons/lesson23 in: /home/sensei/engr-1330-webroot2022/engr1330jb/lessons                           \n",
      "Executing: lessons/lesson35 in: /home/sensei/engr-1330-webroot2022/engr1330jb/lessons                           \n",
      "Executing: lessons/lesson36 in: /home/sensei/engr-1330-webroot2022/engr1330jb/lessons                           \n",
      "Executing: lessons/lesson37 in: /home/sensei/engr-1330-webroot2022/engr1330jb/lessons                           \n",
      "Executing: lessons/lesson38 in: /home/sensei/engr-1330-webroot2022/engr1330jb/lessons                           \n",
      "\n",
      "\u001b[01mlooking for now-outdated files... \u001b[39;49;00mnone found\n",
      "\u001b[01mpickling environment... \u001b[39;49;00mdone\n",
      "\u001b[01mchecking consistency... \u001b[39;49;00mdone\n",
      "\u001b[01mpreparing documents... \u001b[39;49;00mdone\n",
      "\u001b[01mwriting output... \u001b[39;49;00m[100%] \u001b[32mlessons/lesson38\u001b[39;49;00m                                       \n",
      "\u001b[01mgenerating indices... \u001b[39;49;00mgenindex done\n",
      "\u001b[01mwriting additional pages... \u001b[39;49;00msearch done\n",
      "\u001b[01mcopying images... \u001b[39;49;00m[100%] \u001b[33mlessons/lesson00/bigdata.png\u001b[39;49;00m                           \n",
      "\u001b[01mcopying static files... \u001b[39;49;00mdone\n",
      "\u001b[01mcopying extra files... \u001b[39;49;00mdone\n",
      "\u001b[01mdumping search index in English (code: en)... \u001b[39;49;00mdone\n",
      "\u001b[01mdumping object inventory... \u001b[39;49;00mdone\n",
      "\u001b[01mbuild succeeded.\u001b[39;49;00m\n",
      "\n",
      "The HTML pages are in engr1330jb/_build/html.\n",
      "\n",
      "\u001b[92m===============================================================================\u001b[0m\n",
      "\n",
      "Finished generating HTML for book.\n",
      "Your book's HTML pages are here:\n",
      "    engr1330jb/_build/html/\n",
      "You can look at your book by opening this file in a browser:\n",
      "    engr1330jb/_build/html/index.html\n",
      "Or paste this line directly into your browser bar:\n",
      "    file:///home/sensei/engr-1330-webroot2022/engr1330jb/_build/html/index.html            \n",
      "\n",
      "\u001b[92m===============================================================================\u001b[0m\n",
      "\n"
     ]
    }
   ],
   "source": [
    "! jupyter-book build engr1330jb/"
   ]
  },
  {
   "cell_type": "code",
   "execution_count": null,
   "metadata": {},
   "outputs": [],
   "source": []
  }
 ],
 "metadata": {
  "kernelspec": {
   "display_name": "Python 3",
   "language": "python",
   "name": "python3"
  },
  "language_info": {
   "codemirror_mode": {
    "name": "ipython",
    "version": 3
   },
   "file_extension": ".py",
   "mimetype": "text/x-python",
   "name": "python",
   "nbconvert_exporter": "python",
   "pygments_lexer": "ipython3",
   "version": "3.8.10"
  }
 },
 "nbformat": 4,
 "nbformat_minor": 4
}
