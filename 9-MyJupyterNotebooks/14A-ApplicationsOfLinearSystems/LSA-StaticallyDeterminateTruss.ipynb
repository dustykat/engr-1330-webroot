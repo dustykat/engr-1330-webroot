{
 "cells": [
  {
   "cell_type": "code",
   "execution_count": 15,
   "metadata": {},
   "outputs": [
    {
     "name": "stdout",
     "output_type": "stream",
     "text": [
      "/opt/jupyterhub/bin/python3\n",
      "3.8.2 (default, Apr 27 2020, 15:53:34) \n",
      "[GCC 9.3.0]\n",
      "sys.version_info(major=3, minor=8, micro=2, releaselevel='final', serial=0)\n"
     ]
    }
   ],
   "source": [
    "# Environment Check -- Deactivate on a working host\n",
    "import sys\n",
    "print(sys.executable)\n",
    "print(sys.version)\n",
    "print(sys.version_info)"
   ]
  },
  {
   "cell_type": "markdown",
   "metadata": {},
   "source": [
    "# Application of Linear Systems Analysis"
   ]
  },
  {
   "cell_type": "markdown",
   "metadata": {},
   "source": [
    "A typical static truss analysis problem goes like \n",
    "    \n",
    "    \"The figure below is a simply supported, statically determinate truss with pin connections (zero moment transfer connections).   Find the forces in each member for the loading shown.\"\n",
    "\n",
    "![](StaticTrussSketch.jpg)\n",
    "\n",
    "This notebook will illustrate how to leverage our linear systems solver(s) to analyze the truss.  The approach uses concepts from statics and computational thinking.\n",
    "\n",
    "From statics\n",
    "\n",
    "    1) method of joints (for reactions and internal forcez)\n",
    "    2) direction cosines \n",
    "    \n",
    "From computational thinking\n",
    "\n",
    "    1) read input file\n",
    "    2) construct linear system \\textbf{Ax=b}; solve for \\textbf{x}\n",
    "    3) report results\n",
    "    \n"
   ]
  },
  {
   "cell_type": "markdown",
   "metadata": {},
   "source": [
    "Before even contemplating writing/using a program we need to build a mathematical model of the truss and assemble the system of linear equations that result from the model.  \n",
    "\n",
    "So the first step is to sketch a free-body-diagram as below and build a node naming convention and force names.\n",
    "\n",
    "![](StaticTrussFBD.jpg)\n",
    "\n",
    "Next we will write the force balance for each of the six nodes ($N1$-$N6$), which will produce a total of 12 equations in the 12 unknowns (the 9 member forces, and 3 reactions).\n",
    "\n"
   ]
  },
  {
   "cell_type": "markdown",
   "metadata": {},
   "source": [
    "The figure below is the force balance for node $N1$, the two force equations (for the horizontal, $x$, direction and the vertical, $y$, direction) are listed below the figure.\n",
    "\n",
    "![](Node1.jpg)\n",
    "\n",
    "\\begin{gather}\n",
    "\\begin{matrix}\n",
    "\\sum F_x = 0 = & +F_1cos(45) & + F_2 &  &  &  &  &  &  & + A_x &  &  & & & \\\\\n",
    "\\sum F_y = 0 = & +F_1sin(45) &  & &  &  &  &  &  &  &  & + A_y &  &  & \\\\\n",
    "\\end{matrix}\n",
    "\\end{gather}\n",
    "\n",
    "The equation above is the force balance equation pair for the node.  The $x$ component equation will later be named $N1_x$ to indicate it arises from Node 1, $x$ component equation.   A similar notation convention will also be adopted for the $y$ component equation.  There will be an equation pair for each node.\n"
   ]
  },
  {
   "cell_type": "markdown",
   "metadata": {},
   "source": [
    "Below is a sketch of the force balance for node $N2$, the two force equations (for the horizontal, $x$, direction and the vertical, $y$, direction) are listed below the figure.\n",
    "\n",
    "![](Node2.jpg)\n",
    "\n",
    "\\begin{gather}\n",
    "\\begin{matrix}\n",
    "\\sum F_x = 0 = &  & -F_2 &  &  &  & +F_6 &  &  &  &  &  &  & & \\\\\n",
    "\\sum F_y = 0 =  &  &  & +F_3 &  &  &  &  &  &  &  &  &  & & \\\\\n",
    "\\end{matrix}\n",
    "\\end{gather}"
   ]
  },
  {
   "cell_type": "markdown",
   "metadata": {},
   "source": [
    "Below is a sketch of the force balance for node $N3$, the two force equations (for the horizontal, $x$, direction and the vertical, $y$, direction) are listed below the figure.\n",
    "\n",
    "![](Node3.jpg)\n",
    "\n",
    "\\begin{gather}\n",
    "\\begin{matrix}\n",
    "\\sum F_x = 0 = &  &  &  &  & -F_5cos(30) & -F_6 & & +F_8 &  &  &  &  &  & \\\\\n",
    "\\sum F_y = 0 =  &  &  &  &  & F_5sin(30) &  & +F_7 &  &  &  &  &  &  & -P_3\\\\\n",
    "\\end{matrix}\n",
    "\\end{gather}\n",
    "\n",
    "Above is the force balance equation pair for node $N3$."
   ]
  },
  {
   "cell_type": "markdown",
   "metadata": {},
   "source": [
    "Below is a sketch of the force balance for node $N4$, the two force equations (for the horizontal, $x$, direction and the vertical, $y$, direction) are listed below the figure.\n",
    "\n",
    "![](Node4.jpg)\n",
    "\n",
    "\\begin{gather}\n",
    "\\begin{matrix}\n",
    "\\sum F_x = 0 = &  &  &  &  &  &  &  & -F_8 & -F_9cos(45) &  &  &  &  & \\\\\n",
    "\\sum F_y = 0 =  &  &  &  &  &  &  &  &  & F_9sin(45) &  &  & +B_y  &  & \\\\\n",
    "\\end{matrix}\n",
    "\\end{gather}\n",
    "\n",
    "Above is the force balance equation pair for node $N4$."
   ]
  },
  {
   "cell_type": "markdown",
   "metadata": {},
   "source": [
    "Below is a sketch of the force balance for node $N5$, the two force equations (for the horizontal, $x$, direction and the vertical, $y$, direction) are listed below the figure.\n",
    "\n",
    "![](Node5.jpg)\n",
    "\n",
    "\\begin{gather}\n",
    "\\begin{matrix}\n",
    "\\sum F_x = 0 = & -F_1cos(45) &  &   & +F_4 & +F_5cos(30) &  &  &  &  &  &  &  &  & \\\\\n",
    "\\sum F_y = 0 =  & -F_1sin(45) &  & -F_3 &   & -F_5sin(30) &  &  &  &  &  &  &  &  & -P_1\\\\\n",
    "\\end{matrix}\n",
    "\\end{gather}\n",
    "\n",
    "Above is the force balance equation pair for node $N5$."
   ]
  },
  {
   "cell_type": "markdown",
   "metadata": {},
   "source": [
    "Below is a sketch of the force balance for node $N6$, the two force equations (for the horizontal, $x$, direction and the vertical, $y$, direction) are listed below the figure.\n",
    "\n",
    "![](Node6.jpg)\n",
    "\n",
    "\\begin{gather}\n",
    "\\begin{matrix}\n",
    "\\sum F_x = 0 = &  &  &  & -F_4 &  &  &  &  & F_9sin(45) &  &  &  &  & \\\\\n",
    "\\sum F_y = 0 =  &  &  &  &  &  &  & -F_7 &  & -F_9cos(45) &  &  &  &  & P_2\\\\\n",
    "\\end{matrix}\n",
    "\\end{gather}\n",
    "\n",
    "Above is the force balance equation pair for node $N6$.\n",
    "\n",
    "The next step is to gather the equation pairs into a system of linear equations.   \n",
    "We will move the known loads to the right hand side and essentially construct the matrix equation $\\mathbf{A}\\mathbf{x} = \\mathbf{b}$.   \n",
    "\n",
    "The system below is a matrix representation of the equation pairs with the forces moved to the right hand side $\\mathbf{b} = RHS$. \n",
    "\n",
    "\\begin{gather}\n",
    "\\begin{pmatrix}\n",
    "~ & F_1 & F_2 & F_3 & F_4 & F_5 & F_6 & F_7 & F_8 & F_9 & A_x & A_y & B_y & | & RHS\\\\\n",
    "\\hline\n",
    "N1_x & 0.707 & 1 & 0 & 0 & 0 & 0 & 0 & 0 & 0 & 1 & 0 & 0 & | & 0\\\\\n",
    "N1_y & 0.707 & 0 & 0 & 0 & 0 & 0 & 0 & 0 & 0 & 0 & 1 & 0 & | & 0\\\\\n",
    "N2_x & 0 & -1 & 0 & 0 & 0 & 1 & 0 & 0 & 0 & 0 & 0 & 0 & | & 0\\\\\n",
    "N2_y & 0 & 0 & 1 & 0 & 0 & 0 & 0 & 0 & 0 & 0 & 0 & 0 & | & 0\\\\\n",
    "N3_x & 0 & 0 & 0 & 0 & -0.866 & -1 & 0 & 1 & 0 & 0 & 0 & 0 & | & 0\\\\\n",
    "N3_y & 0 & 0 & 0 & 0 & 0.5 & 0 & 1 & 0 & 0 & 0 & 0 & 0 & | & P_3\\\\\n",
    "N4_x & 0 & 0 & 0 & 0 & 0 & 0 & 0 & -1 & -0.707 & 0 & 0 & 0 & | & 0\\\\\n",
    "N4_y & 0 & 0 & 0 & 0 & 0 & 0 & 0 & 0 & 0.707 & 0 & 0 & 0 & | & 0\\\\\n",
    "N5_x & -0.707 & 0 & 0 & 1 & 0.866 & 0 & 0 & 0 & 0 & 0 & 0 & 0 & | & 0\\\\\n",
    "N5_y & -0.707 & 0 & -1 & 0 & -0.5 & 0 & 0 & 0 & 0 & 0 & 0 & 0 & | & P_1\\\\\n",
    "N6_x & 0 & 0 & 0 & -1 & 0 & 0 & 0 & 0 & 0.707 & 0 & 0 & 0 & | & 0\\\\\n",
    "N6_y & 0 & 0 & 0 & 0 & 0 & 0 & -1 & 0 & -0.707 & 0 & 0 &  0 & | & -P_2\\\\\n",
    "\\end{pmatrix}\n",
    "\\end{gather}\n",
    "\n",
    "In the system, the rows are labeled on the left-most column with their node-related equation name.   \n",
    "Thus each row of the matrix corresponds to an equation derived from a node.   \n",
    "The columns are labeled with their respective unknown force (except the last column, which represents the right-hand-side of the system of linear equations).  \n",
    "Thus the coefficient in each column corresponds to a force in each node equation.   \n",
    "The sign of the coefficient refers to the assumed direction the force acts.   \n",
    "\n",
    "In the analysis all the members were assumed to be in tension (except for the reaction forces).   \n",
    "If a coefficient has a value of zero in a particular row, then that force does no act at the node to which the row corresponds.    "
   ]
  },
  {
   "cell_type": "markdown",
   "metadata": {},
   "source": [
    "From this representation the transition to the formal vector-matrix representation is straightforward. "
   ]
  },
  {
   "cell_type": "markdown",
   "metadata": {},
   "source": [
    "\\begin{gather}\n",
    "\\mathbf{A} =\n",
    "\\begin{pmatrix}\n",
    "0.707 & 1 & 0 & 0 & 0 & 0 & 0 & 0 & 0 & 1 & 0 & 0 \\\\\n",
    "0.707 & 0 & 0 & 0 & 0 & 0 & 0 & 0 & 0 & 0 & 1 & 0 \\\\\n",
    "0 & -1 & 0 & 0 & 0 & 1 & 0 & 0 & 0 & 0 & 0 & 0 \\\\\n",
    "0 & 0 & 1 & 0 & 0 & 0 & 0 & 0 & 0 & 0 & 0 & 0 \\\\\n",
    "0 & 0 & 0 & 0 & -0.866 & -1 & 0 & 1 & 0 & 0 & 0 & 0 \\\\\n",
    "0 & 0 & 0 & 0 & 0.5 & 0 & 1 & 0 & 0 & 0 & 0 & 0 \\\\\n",
    "0 & 0 & 0 & 0 & 0 & 0 & 0 & -1 & -0.707 & 0 & 0 & 0 \\\\\n",
    "0 & 0 & 0 & 0 & 0 & 0 & 0 & 0 & 0.707 & 0 & 0 & 0 \\\\\n",
    "-0.707 & 0 & 0 & 1 & 0.866 & 0 & 0 & 0 & 0 & 0 & 0 & 0 \\\\\n",
    "-0.707 & 0 & -1 & 0 & -0.5 & 0 & 0 & 0 & 0 & 0 & 0 & 0 \\\\\n",
    "0 & 0 & 0 & -1 & 0 & 0 & 0 & 0 & 0.707 & 0 & 0 & 0 \\\\\n",
    "0 & 0 & 0 & 0 & 0 & 0 & -1 & 0 & -0.707 & 0 & 0 &  0 \\\\\n",
    "\\end{pmatrix}\n",
    "\\end{gather}\n",
    "\n",
    "\\begin{gather}\n",
    "\\mathbf{x} =\n",
    "\\begin{pmatrix}\n",
    "F_1\\\\\n",
    "F_2\\\\\n",
    "F_3\\\\\n",
    "F_4\\\\\n",
    "F_5\\\\\n",
    "F_6\\\\\n",
    "F_7\\\\\n",
    "F_8\\\\\n",
    "F_9\\\\\n",
    "A_x\\\\\n",
    "A_y\\\\\n",
    "B_y\\\\\n",
    "\\end{pmatrix}\n",
    "\\end{gather}\n",
    "\n",
    "\\begin{gather}\n",
    "\\mathbf{b} =\n",
    "\\begin{pmatrix}\n",
    "0\\\\\n",
    "0\\\\\n",
    "0\\\\\n",
    "0\\\\\n",
    "0\\\\\n",
    "P_3\\\\\n",
    "0\\\\\n",
    "0\\\\\n",
    "0\\\\\n",
    "P_1\\\\\n",
    "0\\\\\n",
    "-P_2\\\\\n",
    "\\end{pmatrix}\n",
    "\\end{gather}\n",
    "\n",
    "The various matrices above are entere into text files named A.txt and B.txt, we can examine the file contents using the host OS as below"
   ]
  },
  {
   "cell_type": "code",
   "execution_count": 1,
   "metadata": {},
   "outputs": [
    {
     "name": "stdout",
     "output_type": "stream",
     "text": [
      "0.707106781\t1\t0\t0\t0\t0\t0\t0\t0\t1\t0\t0\n",
      "0.707106781\t0\t0\t0\t0\t0\t0\t0\t0\t0\t1\t0\n",
      "0\t-1\t0\t0\t0\t1\t0\t0\t0\t0\t0\t0\n",
      "0\t0\t1\t0\t0\t0\t0\t0\t0\t0\t0\t0\n",
      "0\t0\t0\t0\t-0.866\t-1\t0\t1\t0\t0\t0\t0\n",
      "0\t0\t0\t0\t0.5\t0\t1\t0\t0\t0\t0\t0\n",
      "0\t0\t0\t0\t0\t0\t0\t-1\t-0.707106781\t0\t0\t0\n",
      "0\t0\t0\t0\t0\t0\t0\t0\t0.707106781\t0\t0\t1\n",
      "-0.707106781\t0\t0\t1\t0.866\t0\t0\t0\t0\t0\t0\t0\n",
      "-0.707106781\t0\t-1\t0\t-0.5\t0\t0\t0\t0\t0\t0\t0\n",
      "0\t0\t0\t-1\t0\t0\t0\t0\t0.707106781\t0\t0\t0\n",
      "0\t0\t0\t0\t0\t0\t-1\t0\t-0.707106781\t0\t0\t0\n"
     ]
    }
   ],
   "source": [
    "# list contents of the A matrix, uses call to OS host\n",
    "!(cat A.txt)"
   ]
  },
  {
   "cell_type": "code",
   "execution_count": 2,
   "metadata": {},
   "outputs": [
    {
     "name": "stdout",
     "output_type": "stream",
     "text": [
      "0.0\n",
      "0.0\n",
      "0.0\n",
      "0.0\n",
      "0.0\n",
      "500.0\n",
      "0.0\n",
      "0.0\n",
      "0.0\n",
      "1000.0\n",
      "0.0\n",
      "-500.0\n"
     ]
    }
   ],
   "source": [
    "# list contents of RHS or b vector\n",
    "!(cat B.txt)"
   ]
  },
  {
   "cell_type": "markdown",
   "metadata": {},
   "source": [
    "Now we use our solver tools, here I have not doen much on tidy output, thats left for the reader."
   ]
  },
  {
   "cell_type": "code",
   "execution_count": 3,
   "metadata": {},
   "outputs": [
    {
     "name": "stdout",
     "output_type": "stream",
     "text": [
      "row ranks same -- continuing operation\n",
      "[0.707106781, 1.0, 0.0, 0.0, 0.0, 0.0, 0.0, 0.0, 0.0, 1.0, 0.0, 0.0] 0.0\n",
      "[0.707106781, 0.0, 0.0, 0.0, 0.0, 0.0, 0.0, 0.0, 0.0, 0.0, 1.0, 0.0] 0.0\n",
      "[0.0, -1.0, 0.0, 0.0, 0.0, 1.0, 0.0, 0.0, 0.0, 0.0, 0.0, 0.0] 0.0\n",
      "[0.0, 0.0, 1.0, 0.0, 0.0, 0.0, 0.0, 0.0, 0.0, 0.0, 0.0, 0.0] 0.0\n",
      "[0.0, 0.0, 0.0, 0.0, -0.866, -1.0, 0.0, 1.0, 0.0, 0.0, 0.0, 0.0] 0.0\n",
      "[0.0, 0.0, 0.0, 0.0, 0.5, 0.0, 1.0, 0.0, 0.0, 0.0, 0.0, 0.0] 500.0\n",
      "[0.0, 0.0, 0.0, 0.0, 0.0, 0.0, 0.0, -1.0, -0.707106781, 0.0, 0.0, 0.0] 0.0\n",
      "[0.0, 0.0, 0.0, 0.0, 0.0, 0.0, 0.0, 0.0, 0.707106781, 0.0, 0.0, 1.0] 0.0\n",
      "[-0.707106781, 0.0, 0.0, 1.0, 0.866, 0.0, 0.0, 0.0, 0.0, 0.0, 0.0, 0.0] 0.0\n",
      "[-0.707106781, 0.0, -1.0, 0.0, -0.5, 0.0, 0.0, 0.0, 0.0, 0.0, 0.0, 0.0] 1000.0\n",
      "[0.0, 0.0, 0.0, -1.0, 0.0, 0.0, 0.0, 0.0, 0.707106781, 0.0, 0.0, 0.0] 0.0\n",
      "[0.0, 0.0, 0.0, 0.0, 0.0, 0.0, -1.0, 0.0, -0.707106781, 0.0, 0.0, 0.0] -500.0\n",
      "-----------------------------\n",
      "-1035.2710218174145\n",
      "732.0471596998927\n",
      "0.0\n",
      "-267.9528403001072\n",
      "-535.9056806002143\n",
      "732.0471596998927\n",
      "767.9528403001071\n",
      "267.95284030010714\n",
      "-378.94254092877543\n",
      "0.0\n",
      "732.0471596998927\n",
      "267.9528403001072\n",
      "-----------------------------\n"
     ]
    }
   ],
   "source": [
    "# Linear System Solver\n",
    "\n",
    "from LinearSolverPivot import linearsolver\n",
    "\n",
    "amatrix = [] # null list to store matrix reads\n",
    "bvector = []\n",
    "rowNumA = 0\n",
    "colNumA = 0\n",
    "rowNumB = 0\n",
    "afile = open(\"A.txt\",\"r\")  # connect and read file for MATRIX A \n",
    "for line in afile:\n",
    "    amatrix.append([float(n) for n in line.strip().split()])\n",
    "    rowNumA += 1\n",
    "afile.close() # Disconnect the file\n",
    "colNumA = len(amatrix[0])\n",
    "afile = open(\"B.txt\",\"r\")  # connect and read file for MATRIX B \n",
    "for line in afile:\n",
    "    bvector.append(float(line))  # vector read different -- just float the line\n",
    "    rowNumB += 1\n",
    "afile.close() # Disconnect the file\n",
    "#print (bvector)\n",
    "if rowNumA != rowNumB:   # check the arrays\n",
    "    print (\"row ranks not same -- aborting now\")\n",
    "    quit()\n",
    "else:\n",
    "    print (\"row ranks same -- continuing operation\")\n",
    "# print all columns each row\n",
    "cmatrix = [[0 for j in range(colNumA)]for i in range(rowNumA)]\n",
    "dmatrix = [[0 for j in range(colNumA)]for i in range(rowNumA)]\n",
    "xvector = [0 for i in range(rowNumA)]\n",
    "dvector = [0 for i in range(rowNumA)]\n",
    "for i in range(0,rowNumA,1):\n",
    "    print (amatrix[i][0:colNumA], bvector[i])\n",
    "print (\"-----------------------------\")\n",
    "# copy amatrix into cmatrix\n",
    "cmatrix = [[amatrix[i][j] for j in range(colNumA)]for i in range(rowNumA)]\n",
    "dmatrix = [[amatrix[i][j] for j in range(colNumA)]for i in range(rowNumA)]\n",
    "dvector = [bvector[i] for i in range(rowNumA)]\n",
    "dvector = linearsolver(amatrix,bvector)\n",
    "for i in range(0,rowNumA,1):\n",
    "    print (dvector[i])\n",
    "print (\"-----------------------------\")"
   ]
  },
  {
   "cell_type": "markdown",
   "metadata": {},
   "source": [
    "## References\n",
    "Overland, B. (2018). Python Without Fear. Addison-Wesley \n",
    "ISBN 978-0-13-468747-6. \n",
    "\n",
    "Grus, Joel (2015). Data Science from Scratch: First Principles with Python O’Reilly\n",
    "Media. Kindle Edition.\n",
    "\n",
    "Precord, C. (2010) wxPython 2.8 Application Development Cookbook Packt Publishing Ltd. Birmingham , B27 6PA, UK \n",
    "ISBN 978-1-849511-78-0."
   ]
  },
  {
   "cell_type": "code",
   "execution_count": 4,
   "metadata": {},
   "outputs": [
    {
     "name": "stdout",
     "output_type": "stream",
     "text": [
      "[-1.03527102e+03  7.32047160e+02  0.00000000e+00 -2.67952840e+02\n",
      " -5.35905681e+02  7.32047160e+02  7.67952840e+02  2.67952840e+02\n",
      " -3.78942541e+02 -3.92024878e-14  7.32047160e+02  2.67952840e+02]\n"
     ]
    }
   ],
   "source": [
    "import numpy as np\n",
    "\n",
    "amatrix = [] # null list to store matrix reads\n",
    "bvector = []\n",
    "rowNumA = 0\n",
    "colNumA = 0\n",
    "rowNumB = 0\n",
    "afile = open(\"A.txt\",\"r\")  # connect and read file for MATRIX A \n",
    "for line in afile:\n",
    "    amatrix.append([float(n) for n in line.strip().split()])\n",
    "    rowNumA += 1\n",
    "afile.close() # Disconnect the file\n",
    "afile = open(\"B.txt\",\"r\")  # connect and read file for MATRIX B \n",
    "for line in afile:\n",
    "    bvector.append(float(line))  # vector read different -- just float the line\n",
    "    rowNumB += 1\n",
    "afile.close() # Disconnect the file\n",
    "\n",
    "A = np.array(amatrix)\n",
    "b = np.array(bvector)\n",
    "x = np.linalg.solve(A, b)\n",
    "print(x)"
   ]
  },
  {
   "cell_type": "code",
   "execution_count": null,
   "metadata": {},
   "outputs": [],
   "source": []
  }
 ],
 "metadata": {
  "kernelspec": {
   "display_name": "Python 3",
   "language": "python",
   "name": "python3"
  },
  "language_info": {
   "codemirror_mode": {
    "name": "ipython",
    "version": 3
   },
   "file_extension": ".py",
   "mimetype": "text/x-python",
   "name": "python",
   "nbconvert_exporter": "python",
   "pygments_lexer": "ipython3",
   "version": "3.8.10"
  }
 },
 "nbformat": 4,
 "nbformat_minor": 4
}
