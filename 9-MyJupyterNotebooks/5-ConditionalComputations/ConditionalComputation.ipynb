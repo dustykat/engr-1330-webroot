{
 "cells": [
  {
   "cell_type": "code",
   "execution_count": 1,
   "metadata": {},
   "outputs": [
    {
     "name": "stdout",
     "output_type": "stream",
     "text": [
      "Echo system status -- reset environment if kernel NOT 3.8...\n",
      "/opt/jupyterhub/bin/python3\n",
      "3.8.2 (default, Jul 16 2020, 14:00:26) \n",
      "[GCC 9.3.0]\n",
      "sys.version_info(major=3, minor=8, micro=2, releaselevel='final', serial=0)\n",
      "atomickitty\n"
     ]
    }
   ],
   "source": [
    "import sys\n",
    "print(\"Echo system status -- reset environment if kernel NOT 3.8...\")\n",
    "print(sys.executable)\n",
    "print(sys.version)\n",
    "print(sys.version_info)\n",
    "! hostname"
   ]
  },
  {
   "cell_type": "markdown",
   "metadata": {},
   "source": [
    "# Conditional Computations\n",
    "\n",
    "I could not think of a good name for this section - decisions perhaps? \n",
    "Anyway, this section is all about using conditions - logical expressions that evaluate as TRUE or FALSE and using\n",
    "these results to perform further operations based on these conditions.\n",
    "All flow control in a program depends on evaluating conditions. The program will proceed\n",
    "differently based on the outcome of one or more conditions - really sophisticated \"Artifical Intelligence\" pro-\n",
    "grams are a collection of conditions and correlations (albeit very complex). \n",
    "Amazon knowing what you kind of\n",
    "want is based on correlations of your past behavior compared to other peoples similar, but\n",
    "more recent behavior, and then it uses conditional statements to decide what item to offer\n",
    "you in your recommendation items. Its uncanny, but ultimately just a program.\n",
    "\n",
    "## Comparisons\n",
    "The most common conditional operation is comparison. If we wish to compare whether two\n",
    "variables are the same we use the ``==`` (double equal sign).\n",
    "For example ``x == y`` means the program will ask whether ``x`` and ``y`` have the same value. If\n",
    "they do, the result is ``TRUE`` if not then the result is `FALSE`.\n",
    "Other comparison signs are ``!=`` does NOT equal, ``<`` smaller than,`` >`` larger than, ``<=`` less than\n",
    "or equal, and ``>=`` greater than or equal.\n",
    "Like Excel there are also three logical operators when we want to build multiple compares\n",
    "(multiple conditioning); these are ``and``, ``or``, and ``not``.\n",
    "The ``and`` operator returns ``TRUE`` iff all conditions are ``TRUE``. For instance ``5 == 5 and 5\n",
    "< 6`` will return a ``TRUE`` because both conditions are true.\n",
    "The ``or`` operator returns ``TRUE`` if at least one condition is true. If all conditions are ``FALSE``,\n",
    "then it will return a ``FALSE``. For instance ``4 > 3 or 17 > 20 or 3 == 2`` will return TRUE\n",
    "because the first condition is true.\n",
    "The ``not`` operator returns ``TRUE`` if the condition after the ``not`` keyword is false. Think of it\n",
    "as a way to do a logic reversal.\n",
    "\n",
    "The script below is a few simple examples of compares."
   ]
  },
  {
   "cell_type": "code",
   "execution_count": 2,
   "metadata": {},
   "outputs": [
    {
     "name": "stdout",
     "output_type": "stream",
     "text": [
      "x=  7 y=  10\n",
      "x is equal to y : False\n",
      "x is not equal to y : True\n",
      "x is greater than y : False\n",
      "x is less than y : True\n"
     ]
    }
   ],
   "source": [
    "# compare\n",
    "x = 7\n",
    "y = 10\n",
    "print(\"x= \",x,\"y= \",y)\n",
    "print(\"x is equal to y :\",x==y)\n",
    "print(\"x is not equal to y :\",x!=y)\n",
    "print(\"x is greater than y :\",x>y)\n",
    "print(\"x is less than y :\",x<y)"
   ]
  },
  {
   "cell_type": "markdown",
   "metadata": {},
   "source": [
    "The script below is a few simple examples of logical operators."
   ]
  },
  {
   "cell_type": "code",
   "execution_count": 3,
   "metadata": {},
   "outputs": [
    {
     "name": "stdout",
     "output_type": "stream",
     "text": [
      "5 == 5 and 5 < 6 : True\n",
      "4 > 3 or 17 > 20 or 3 ==2 ? : True\n",
      "not5 == 5 : False\n"
     ]
    }
   ],
   "source": [
    "print(\"5 == 5 and 5 < 6 :\",5 == 5 and 5 < 6)\n",
    "print(\"4 > 3 or 17 > 20 or 3 ==2 ? :\",4 > 3 or 17 > 20 or 3 ==2)\n",
    "print(\"not5 == 5 :\",not 5 == 5)"
   ]
  },
  {
   "cell_type": "markdown",
   "metadata": {},
   "source": [
    "## Block `if` statement\n",
    "\n",
    "The `if` statement is a common \n",
    "flow control statement. It allows the program to evaluate if\n",
    "a certain condition is satisfied and to perform a designed action based on the result of the\n",
    "evaluation. The structure of an `if` statement is\n",
    "\n",
    "    if condition1 is met:\n",
    "        do A\n",
    "    elif condition 2 is met:\n",
    "        do b\n",
    "    elif condition 3 is met:\n",
    "        do c\n",
    "    else:\n",
    "        do e\n",
    "\n",
    "The `elif` means \"else if\". The `:` colon is an important part of the structure it tells where the\n",
    "action begins. Also there are no scope delimiters like `{} ` or `()` common in other programming tools. \n",
    "Instead Python uses indentation to isolate blocks of code. \n",
    "This convention is hugely important -- many other coding envi-\n",
    "ronments use delimiters (called scoping delimiters), but Python does not. The indentation\n",
    "itself is the scoping delimiter.\n",
    "The intent is for the code to be humanly readable for maintenance  - you can use comment symbol ``#`` as a fake, searchable, delimiter but at times that itself gets cluttered.\n",
    "\n",
    "The script below is an example that illustrates how the `if` statements work. The program asks the\n",
    "user for input. The use of `input()` will let the program read any input as a string\n",
    "so non-numeric results will not throw an error. The input is stored in the variable named\n",
    "`userInput`. Next the statement `if userInput == \"1\":` compares the value of userInput\n",
    "with the string \"1\". If the value in the variable is indeed \"1\", then the program will execute\n",
    "the block of code in the indentation after the colon. In this case it will execute\n",
    "\n",
    "    print (\"Hello World\")\n",
    "    print (\"How do you do?\")\n",
    "\n",
    "Alternatively, if the value of ``userInput`` is the string \"2\", then the program will execute\n",
    "\n",
    "    print (\"Snakes on a plane\")\n",
    "\n",
    "For all other values the program will execute\n",
    "\n",
    "    print (\"You did not enter a valid number\")"
   ]
  },
  {
   "cell_type": "code",
   "execution_count": 4,
   "metadata": {},
   "outputs": [
    {
     "name": "stdin",
     "output_type": "stream",
     "text": [
      "Enter the number 1 or the number 2 1\n"
     ]
    },
    {
     "name": "stdout",
     "output_type": "stream",
     "text": [
      "Hello World\n",
      "How do you do?\n"
     ]
    }
   ],
   "source": [
    "# block if\n",
    "userInput = input(\"Enter the number 1 or the number 2\")\n",
    "if userInput == \"1\":\n",
    "    print (\"Hello World\")\n",
    "    print (\"How do you do?\")\n",
    "elif userInput == \"2\":\n",
    "    print(\"Snakes on a plane\")\n",
    "else:\n",
    "    print(\"You did not enter a valid value\")\n"
   ]
  },
  {
   "cell_type": "markdown",
   "metadata": {},
   "source": [
    "## Inline `if` statement\n",
    "An inline if statement is a simpler form of an if statement and is more convenient if you\n",
    "only need to perform a simple conditional task. The syntax is\n",
    "\n",
    "    do TaskA if condition is true else do TaskB\n",
    "\n",
    "An example would be:"
   ]
  },
  {
   "cell_type": "code",
   "execution_count": 5,
   "metadata": {},
   "outputs": [
    {
     "data": {
      "text/plain": [
       "13"
      ]
     },
     "execution_count": 5,
     "metadata": {},
     "output_type": "execute_result"
    }
   ],
   "source": [
    "myInt = 3\n",
    "num1 = 12 if myInt == 0 else 13\n",
    "num1"
   ]
  },
  {
   "cell_type": "markdown",
   "metadata": {},
   "source": [
    "An alternative way is to enclose the condition in brackets for some clarity like"
   ]
  },
  {
   "cell_type": "code",
   "execution_count": 6,
   "metadata": {},
   "outputs": [
    {
     "data": {
      "text/plain": [
       "13"
      ]
     },
     "execution_count": 6,
     "metadata": {},
     "output_type": "execute_result"
    }
   ],
   "source": [
    "myInt = 3\n",
    "num1 = 12 if (myInt == 0) else 13\n",
    "num1"
   ]
  },
  {
   "cell_type": "markdown",
   "metadata": {},
   "source": [
    "In either case the result is that num1 will have the value 13 (unless you set myInt to 0)."
   ]
  },
  {
   "cell_type": "markdown",
   "metadata": {},
   "source": [
    "## `for` loop\n",
    "\n",
    "We have seen the for loop already, but we will formally introduce it here. \n",
    "The loop executes a block of code repeatedly until the condition in the ``for`` statement is no longer true.\n",
    "\n",
    "### Looping through an iterable\n",
    "An iterable is anything that can be looped over - typically a list, string, or tuple. \n",
    "The syntax for looping through an iterable is illustrated by an example.\n",
    "First a generic syntax\n",
    "\n",
    "    for a in iterable:\n",
    "        print a\n",
    "\n",
    "Notice our friends the colon `:` and the indentation.\n",
    "\n",
    "\n",
    "Now a specific example\n",
    "\n",
    "\n"
   ]
  },
  {
   "cell_type": "code",
   "execution_count": 7,
   "metadata": {},
   "outputs": [
    {
     "name": "stdout",
     "output_type": "stream",
     "text": [
      "dusty\n",
      "aspen\n",
      "merrimee\n"
     ]
    }
   ],
   "source": [
    "# set a list\n",
    "MyPets = [\"dusty\",\"aspen\",\"merrimee\"]\n",
    "# loop thru the list\n",
    "for AllStrings in MyPets:\n",
    "    print(AllStrings)"
   ]
  },
  {
   "cell_type": "markdown",
   "metadata": {},
   "source": [
    "We can also display the index of the list elements using the enumerate() function. Try the\n",
    "code below"
   ]
  },
  {
   "cell_type": "code",
   "execution_count": 8,
   "metadata": {},
   "outputs": [
    {
     "name": "stdout",
     "output_type": "stream",
     "text": [
      "0 dusty\n",
      "1 aspen\n",
      "2 merrimee\n"
     ]
    }
   ],
   "source": [
    "# set a list\n",
    "MyPets = [\"dusty\",\"aspen\",\"merrimee\"]\n",
    "# loop thru the list\n",
    "for index, AllStrings in enumerate(MyPets):\n",
    "    print(index,AllStrings)"
   ]
  },
  {
   "cell_type": "markdown",
   "metadata": {},
   "source": [
    "`For` loops can be used for count controlled repetition, they work on a generic increment skip if greater type loop structure. \n",
    "The range function is used in place of the iterable, and the list is accessed directly by a `name[index]` structure"
   ]
  },
  {
   "cell_type": "code",
   "execution_count": 9,
   "metadata": {},
   "outputs": [
    {
     "name": "stdout",
     "output_type": "stream",
     "text": [
      "0 dusty\n",
      "1 aspen\n",
      "2 merrimee\n"
     ]
    }
   ],
   "source": [
    "# set a list\n",
    "MyPets = [\"dusty\",\"aspen\",\"merrimee\"]\n",
    "how_many = len(MyPets)\n",
    "# loop thru the list\n",
    "for index in range(0,how_many,1):\n",
    "    print(index,MyPets[index])"
   ]
  },
  {
   "cell_type": "markdown",
   "metadata": {},
   "source": [
    "### ``while`` loop\n",
    "The while loop repeats a block of instructions inside the loop while a condition remains\n",
    "true. The structure is\n",
    "\n",
    "    while condition is true:\n",
    "        execute a\n",
    "        ....\n",
    "        \n",
    "Notice our friends the colon : and the indentation again.\n",
    "\n",
    "Try the code below to illustrate a while loop:"
   ]
  },
  {
   "cell_type": "code",
   "execution_count": 10,
   "metadata": {},
   "outputs": [
    {
     "name": "stdout",
     "output_type": "stream",
     "text": [
      "Counter =  5\n",
      "Counter =  4\n",
      "Counter =  3\n",
      "Counter =  2\n",
      "Counter =  1\n"
     ]
    }
   ],
   "source": [
    "# set a counter\n",
    "counter = 5\n",
    "# while loop\n",
    "while counter > 0:\n",
    "    print (\"Counter = \",counter)\n",
    "    counter = counter -1\n",
    "\n"
   ]
  },
  {
   "cell_type": "markdown",
   "metadata": {},
   "source": [
    "\n",
    "The `while` loop structure depicted above is a\n",
    "structure that is referred to as \"decrement, skip if equal\" in lower level languages. \n",
    "The next structure, also a while loop is an \"increment, skip if greater\"\n",
    "Try this code:"
   ]
  },
  {
   "cell_type": "code",
   "execution_count": 11,
   "metadata": {},
   "outputs": [
    {
     "name": "stdout",
     "output_type": "stream",
     "text": [
      "Counter =  0\n",
      "Counter =  1\n",
      "Counter =  2\n",
      "Counter =  3\n",
      "Counter =  4\n"
     ]
    }
   ],
   "source": [
    "# set a counter\n",
    "counter = 0\n",
    "# while loop\n",
    "while counter < 5:\n",
    "    print (\"Counter = \",counter)\n",
    "    counter = counter +1"
   ]
  },
  {
   "cell_type": "markdown",
   "metadata": {},
   "source": [
    "A few more variants include that same code, except the \\+=\" operator replaces portions of\n",
    "the code."
   ]
  },
  {
   "cell_type": "code",
   "execution_count": 12,
   "metadata": {},
   "outputs": [
    {
     "name": "stdout",
     "output_type": "stream",
     "text": [
      "Counter =  0\n",
      "Counter =  1\n",
      "Counter =  2\n",
      "Counter =  3\n",
      "Counter =  4\n"
     ]
    }
   ],
   "source": [
    "# set a counter\n",
    "counter = 0\n",
    "# while loop\n",
    "while counter < 5:\n",
    "    print (\"Counter = \",counter)\n",
    "    counter += 1 #use the self+ operator"
   ]
  },
  {
   "cell_type": "markdown",
   "metadata": {},
   "source": [
    "And here we vary the condition slightly and use \\<=\" to capture the value 5 itself."
   ]
  },
  {
   "cell_type": "code",
   "execution_count": 13,
   "metadata": {},
   "outputs": [
    {
     "name": "stdout",
     "output_type": "stream",
     "text": [
      "Counter =  0\n",
      "Counter =  1\n",
      "Counter =  2\n",
      "Counter =  3\n",
      "Counter =  4\n",
      "Counter =  5\n"
     ]
    }
   ],
   "source": [
    "# set a counter\n",
    "counter = 0\n",
    "# while loop\n",
    "while counter <= 5:\n",
    "    print (\"Counter = \",counter)\n",
    "    counter += 1 #use the self+ operator"
   ]
  },
  {
   "cell_type": "markdown",
   "metadata": {},
   "source": [
    "### The infinite loop (a cool street address, poor programming structure)\n",
    "`while` loops need to be used with care, it is reasonably easy to create infinite loops and we\n",
    "have to interrupt with a system call (possibly have to externally kill the process - easy if you are\n",
    "root and know how, a disaster if you have deployed the code to other people who are not\n",
    "programmers and system savvy)\n",
    "Here is an example of an infinite loop. (kill the process by halting the kernel when you run it)\n"
   ]
  },
  {
   "cell_type": "code",
   "execution_count": 14,
   "metadata": {},
   "outputs": [],
   "source": [
    "# set a counter\n",
    "counter = 5\n",
    "counter = -4 #deactivate for infinite loop\n",
    "# while loop\n",
    "while counter > 0:\n",
    "    print (\"Counter = \",counter)\n",
    "    counter = counter +1 # pretend we accidentally incremented instead of decremented the counter!"
   ]
  },
  {
   "cell_type": "markdown",
   "metadata": {},
   "source": [
    "Infinite loops can be frustrating when you are maintaining a large (long) complex code and\n",
    "you have no idea which code segment is causing the infinite loop. Often a system administrator has to kill the process at the OS level."
   ]
  },
  {
   "cell_type": "markdown",
   "metadata": {},
   "source": [
    "### The `break` instruction\n",
    "Sometimes you may want to exit the loop when a certain condition different from the counting\n",
    "condition is met. Perhaps you are looping through a list and want to exit when you find the\n",
    "first element in the list that matches some criterion. The break keyword is useful for such\n",
    "an operation.\n",
    "For example run the following program\n"
   ]
  },
  {
   "cell_type": "code",
   "execution_count": 15,
   "metadata": {},
   "outputs": [
    {
     "name": "stdout",
     "output_type": "stream",
     "text": [
      "i =  0 j =  2\n",
      "i =  1 j =  4\n",
      "i =  2 j =  6\n",
      "break from loop\n",
      "value of j is:  6\n"
     ]
    }
   ],
   "source": [
    "j = 0\n",
    "for i in range(0,5,1):\n",
    "    j += 2\n",
    "    print (\"i = \",i,\"j = \",j)\n",
    "    if j == 6:\n",
    "        print(\"break from loop\")\n",
    "        break\n",
    "print(\"value of j is: \",j)"
   ]
  },
  {
   "cell_type": "code",
   "execution_count": 16,
   "metadata": {},
   "outputs": [
    {
     "name": "stdout",
     "output_type": "stream",
     "text": [
      "i =  0 j =  2\n",
      "i =  1 j =  4\n",
      "i =  2 j =  6\n",
      "i =  3 j =  8\n",
      "i =  4 j =  10\n",
      "value of j is:  10\n"
     ]
    }
   ],
   "source": [
    "j = 0\n",
    "for i in range(0,5,1):\n",
    "    j += 2\n",
    "    print (\"i = \",i,\"j = \",j)\n",
    "    if j == 7:\n",
    "        print(\"break from loop\")\n",
    "        break\n",
    "print(\"value of j is: \",j)"
   ]
  },
  {
   "cell_type": "markdown",
   "metadata": {},
   "source": [
    "Examining these two simple codes. In the first case, the for loop only executes 3\n",
    "times before the condition `j == 6` is `TRUE` and the loop is exited. In the second case, `j == 7` never happens so the loop completes all its directed traverses.\n",
    "In both cases an `if` statement was used within a `for` loop. Such \"mixed\" control structures\n",
    "are quite common (and pretty necessary). A `while` loop contained within a `for` loop, with\n",
    "several `if` statements would be very common and such a structure is called nested control.\n",
    "There is typically an upper limit to nesting but the limit is pretty large -- easily in the\n",
    "hundreds. It depends on the language and the system architecture - suffice to say it is not\n",
    "a practical limit except possibly for AI applications.\n",
    "\n",
    "### The `continue` instruction\n",
    "The `continue` instruction skips the block of code after it is executed for that iteration. \n",
    "It is best illustrated by an example.\n"
   ]
  },
  {
   "cell_type": "code",
   "execution_count": 17,
   "metadata": {},
   "outputs": [
    {
     "name": "stdout",
     "output_type": "stream",
     "text": [
      "\n",
      "i =  0 , j =  2\n",
      " this message will be skipped over if j = 6 \n",
      "\n",
      "i =  1 , j =  4\n",
      " this message will be skipped over if j = 6 \n",
      "\n",
      "i =  2 , j =  6\n",
      "\n",
      "i =  3 , j =  8\n",
      " this message will be skipped over if j = 6 \n",
      "\n",
      "i =  4 , j =  10\n",
      " this message will be skipped over if j = 6 \n"
     ]
    }
   ],
   "source": [
    "j = 0\n",
    "for i in range(0,5,1):\n",
    "    j += 2\n",
    "    print (\"\\ni = \", i , \", j = \", j) #here the \\n is a newline command\n",
    "    if j == 6:\n",
    "        continue\n",
    "    print (\" this message will be skipped over if j = 6 \")"
   ]
  },
  {
   "cell_type": "markdown",
   "metadata": {},
   "source": [
    "When `j==6` the line after the `continue` keyword is not printed. Other than that one\n",
    "difference the rest of the script runs normally."
   ]
  },
  {
   "cell_type": "markdown",
   "metadata": {},
   "source": [
    "### The `try, except` instruction\n",
    "The final control statement (and a pretty cool one for error trapping) is the `try ..., except`\n",
    "statement.\n",
    "The statement controls how the program proceeds when an error(called an exception) occurs in an instruction.\n",
    "The structure is really useful to trap likely errors (divide by zero, wrong kind of input) yet let the program keep running or at least issue a meaningful massage to the user.\n",
    "\n",
    "The syntax is:\n",
    "\n",
    "    try:\n",
    "        do something\n",
    "    except:\n",
    "        do something else if ``do something'' returns an error\n",
    "        \n",
    "Here is a really simple, but hugely important example:"
   ]
  },
  {
   "cell_type": "code",
   "execution_count": 18,
   "metadata": {},
   "outputs": [
    {
     "name": "stdout",
     "output_type": "stream",
     "text": [
      "x =  12.0 y =  12.0 x/y =  1.0\n",
      "x =  12.0 y =  11.0 x/y =  1.0909090909090908\n",
      "x =  12.0 y =  10.0 x/y =  1.2\n",
      "x =  12.0 y =  9.0 x/y =  1.3333333333333333\n",
      "x =  12.0 y =  8.0 x/y =  1.5\n",
      "x =  12.0 y =  7.0 x/y =  1.7142857142857142\n",
      "x =  12.0 y =  6.0 x/y =  2.0\n",
      "x =  12.0 y =  5.0 x/y =  2.4\n",
      "x =  12.0 y =  4.0 x/y =  3.0\n",
      "x =  12.0 y =  3.0 x/y =  4.0\n",
      "x =  12.0 y =  2.0 x/y =  6.0\n",
      "x =  12.0 y =  1.0 x/y =  12.0\n",
      "error divide by zero\n",
      "x =  12.0 y =  -1.0 x/y =  -12.0\n",
      "x =  12.0 y =  -2.0 x/y =  -6.0\n",
      "x =  12.0 y =  -3.0 x/y =  -4.0\n",
      "x =  12.0 y =  -4.0 x/y =  -3.0\n",
      "x =  12.0 y =  -5.0 x/y =  -2.4\n",
      "x =  12.0 y =  -6.0 x/y =  -2.0\n",
      "x =  12.0 y =  -7.0 x/y =  -1.7142857142857142\n",
      "x =  12.0 y =  -8.0 x/y =  -1.5\n",
      "x =  12.0 y =  -9.0 x/y =  -1.3333333333333333\n",
      "x =  12.0 y =  -10.0 x/y =  -1.2\n",
      "x =  12.0 y =  -11.0 x/y =  -1.0909090909090908\n",
      "x =  12.0 y =  -12.0 x/y =  -1.0\n"
     ]
    }
   ],
   "source": [
    "#MyErrorTrap.py\n",
    "x = 12.\n",
    "y = 12.\n",
    "while y >= -12.:\n",
    "    try:\n",
    "        print (\"x = \", x, \"y = \", y, \"x/y = \", x/y)\n",
    "    except:\n",
    "        print (\"error divide by zero\")\n",
    "    y -= 1"
   ]
  },
  {
   "cell_type": "markdown",
   "metadata": {},
   "source": [
    "So this silly code starts with x fixed at a value of 12, and y starting at 12 and decreasing by\n",
    "1 until y equals -12. The code returns the ratio of x to y and at one point y is equal to zero\n",
    "and the division would be undefined. \n",
    "By trapping the error the code can issue us a measure\n",
    "and keep running.\n",
    "Notice how the error is trapped when y is zero and reported as an attempted divide by zero, but the code keeps running."
   ]
  },
  {
   "cell_type": "markdown",
   "metadata": {},
   "source": [
    "# Exercises\n",
    "\n",
    "### 1)\n",
    "Write a Python script that takes a real input value (a float) for x and returns the y\n",
    "value according to the rules below \n",
    "\n",
    "\\begin{equation}\n",
    "y = x for 0 <= x < 1 \\\\\n",
    "y = x^2 for 1 <= x < 2 \\\\\n",
    "y = x + 2 for 2 <= x < inf \\\\\n",
    "\\end{equation}"
   ]
  },
  {
   "cell_type": "code",
   "execution_count": 19,
   "metadata": {},
   "outputs": [
    {
     "name": "stdin",
     "output_type": "stream",
     "text": [
      "Enter a value for x 2\n"
     ]
    },
    {
     "name": "stdout",
     "output_type": "stream",
     "text": [
      "input =:  2.0\n",
      "x and y = : 2.0 4.0\n"
     ]
    }
   ],
   "source": [
    "x = float(input(\"Enter a value for x\"))\n",
    "print(\"input =: \",x)\n",
    "if x < 1:\n",
    "    y=x\n",
    "elif x>= 1 and x<2:\n",
    "    y=x**2\n",
    "elif x >=2:\n",
    "    y=x+2\n",
    "print(\"x and y = :\",x,y)"
   ]
  },
  {
   "cell_type": "markdown",
   "metadata": {},
   "source": [
    "### 2)\n",
    "Modify the script to automatically print a table with x ranging from 0 to 5.0"
   ]
  },
  {
   "cell_type": "code",
   "execution_count": 20,
   "metadata": {},
   "outputs": [
    {
     "name": "stdout",
     "output_type": "stream",
     "text": [
      "x=  0.0 y = 0.0\n",
      "x=  1.0 y = 1.0\n",
      "x=  2.0 y = 4.0\n",
      "x=  3.0 y = 5.0\n",
      "x=  4.0 y = 6.0\n",
      "x=  5.0 y = 7.0\n"
     ]
    }
   ],
   "source": [
    "# getX function\n",
    "def getX(x):\n",
    "    if x < 1:\n",
    "        y=x\n",
    "    elif x>= 1 and x<2:\n",
    "        y=x**2\n",
    "    elif x >=2:\n",
    "        y=x+2\n",
    "    return(y)\n",
    "xlist = [0.,1.,2.,3.,4.,5.]\n",
    "for i in xlist:\n",
    "    print(\"x= \",i,\"y =\",getX(i))"
   ]
  },
  {
   "cell_type": "markdown",
   "metadata": {},
   "source": [
    "### 3)\n",
    "Modify the script again to increment the values by 0 to 0.5. "
   ]
  },
  {
   "cell_type": "code",
   "execution_count": 21,
   "metadata": {},
   "outputs": [
    {
     "name": "stdout",
     "output_type": "stream",
     "text": [
      "x=  0.0 y = 0.0\n",
      "x=  0.5 y = 0.5\n",
      "x=  1.0 y = 1.0\n",
      "x=  1.5 y = 2.25\n",
      "x=  2.0 y = 4.0\n",
      "x=  2.5 y = 4.5\n",
      "x=  3.0 y = 5.0\n",
      "x=  3.5 y = 5.5\n",
      "x=  4.0 y = 6.0\n",
      "x=  4.5 y = 6.5\n",
      "x=  5.0 y = 7.0\n"
     ]
    }
   ],
   "source": [
    "# getX function\n",
    "def getX(x):\n",
    "    if x < 1:\n",
    "        y=x\n",
    "    elif x>= 1 and x<2:\n",
    "        y=x**2\n",
    "    elif x >=2:\n",
    "        y=x+2\n",
    "    return(y)\n",
    "xlist=[] # null list to take input\n",
    "# build a list\n",
    "xlist = [x/2+0.5 for x in range(-1,10,1)]\n",
    "for i in xlist:\n",
    "    if i <= 5.0:\n",
    "        print(\"x= \",i,\"y =\",getX(i))"
   ]
  },
  {
   "cell_type": "markdown",
   "metadata": {},
   "source": [
    "### 4) \n",
    "Repeat Exercise 1 above, but include error trapping that:\n",
    "(a) Takes any numeric input and forces into a float.\n",
    "(b) Takes any non-numeric input, issues a message that the input needs to be numeric,\n",
    "and makes the user try again.11\n",
    "(c) Once you have acceptable input, trap the condition if x < 0 and issue a message,\n",
    "otherwise complete the requisite arithmetic."
   ]
  },
  {
   "cell_type": "code",
   "execution_count": null,
   "metadata": {},
   "outputs": [],
   "source": []
  },
  {
   "cell_type": "code",
   "execution_count": null,
   "metadata": {},
   "outputs": [],
   "source": []
  },
  {
   "cell_type": "code",
   "execution_count": null,
   "metadata": {},
   "outputs": [],
   "source": []
  },
  {
   "cell_type": "code",
   "execution_count": null,
   "metadata": {},
   "outputs": [],
   "source": []
  }
 ],
 "metadata": {
  "kernelspec": {
   "display_name": "Python 3",
   "language": "python",
   "name": "python3"
  },
  "language_info": {
   "codemirror_mode": {
    "name": "ipython",
    "version": 3
   },
   "file_extension": ".py",
   "mimetype": "text/x-python",
   "name": "python",
   "nbconvert_exporter": "python",
   "pygments_lexer": "ipython3",
   "version": "3.8.10"
  }
 },
 "nbformat": 4,
 "nbformat_minor": 4
}
