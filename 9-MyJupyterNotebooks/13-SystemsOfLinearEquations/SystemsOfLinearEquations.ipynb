{
 "cells": [
  {
   "cell_type": "code",
   "execution_count": 1,
   "metadata": {},
   "outputs": [],
   "source": [
    "# linear equations"
   ]
  },
  {
   "cell_type": "code",
   "execution_count": null,
   "metadata": {},
   "outputs": [],
   "source": []
  },
  {
   "cell_type": "code",
   "execution_count": null,
   "metadata": {},
   "outputs": [],
   "source": []
  },
  {
   "cell_type": "code",
   "execution_count": 2,
   "metadata": {},
   "outputs": [],
   "source": [
    "# SolveLinearSystem.py\n",
    "# Code to read A and b\n",
    "# Then solve Ax = b for x by Gaussian elimination with back substitution"
   ]
  },
  {
   "cell_type": "code",
   "execution_count": 1,
   "metadata": {},
   "outputs": [],
   "source": [
    "# linearsolver with pivoting adapted from \n",
    "# https://stackoverflow.com/questions/31957096/gaussian-elimination-with-pivoting-in-python/31959226\n",
    "def linearsolver(A,b):\n",
    "    n = len(A)\n",
    "    M = A\n",
    "\n",
    "    i = 0\n",
    "    for x in M:\n",
    "     x.append(b[i])\n",
    "     i += 1\n",
    "# row reduction with pivots\n",
    "    for k in range(n):\n",
    "     for i in range(k,n):\n",
    "       if abs(M[i][k]) > abs(M[k][k]):\n",
    "          M[k], M[i] = M[i],M[k]\n",
    "       else:\n",
    "          pass\n",
    "\n",
    "     for j in range(k+1,n):\n",
    "         q = float(M[j][k]) / M[k][k]\n",
    "         for m in range(k, n+1):\n",
    "            M[j][m] -=  q * M[k][m]\n",
    "# allocate space for result\n",
    "    x = [0 for i in range(n)]\n",
    "# back-substitution\n",
    "    x[n-1] =float(M[n-1][n])/M[n-1][n-1]\n",
    "    for i in range (n-1,-1,-1):\n",
    "      z = 0\n",
    "      for j in range(i+1,n):\n",
    "          z = z  + float(M[i][j])*x[j]\n",
    "      x[i] = float(M[i][n] - z)/M[i][i]\n",
    "# return result\n",
    "    return(x)\n",
    "#######"
   ]
  },
  {
   "cell_type": "code",
   "execution_count": 2,
   "metadata": {},
   "outputs": [],
   "source": [
    "#"
   ]
  },
  {
   "cell_type": "code",
   "execution_count": 3,
   "metadata": {},
   "outputs": [],
   "source": [
    "# Code to read A and b\n",
    "amatrix = [] # null list to store matrix read\n",
    "bvector = [] # null list to store vector read\n",
    "rowNumA = 0\n",
    "colNumA = 0\n",
    "rowNumB = 0\n",
    "afile = open(\"A.txt\",\"r\") # connect and read file for MATRIX A\n",
    "for line in afile:\n",
    "    amatrix.append([float(n) for n in line.strip().split()])\n",
    "    rowNumA += 1\n",
    "afile.close() # Disconnect the file\n",
    "colNumA = len(amatrix[0])\n",
    "afile = open(\"B.txt\",\"r\") # connect and read file for VECTOR b\n",
    "for line in afile:\n",
    "    bvector.append(float(line))  # vector read different -- just float the line\n",
    "    rowNumB += 1\n",
    "afile.close() # Disconnect the file"
   ]
  },
  {
   "cell_type": "code",
   "execution_count": 4,
   "metadata": {},
   "outputs": [],
   "source": [
    "#"
   ]
  },
  {
   "cell_type": "code",
   "execution_count": 13,
   "metadata": {},
   "outputs": [
    {
     "name": "stdout",
     "output_type": "stream",
     "text": [
      "row ranks same -- solve for x in Ax=b \n",
      "\n",
      "[A]*[x] = b \n",
      "\n",
      "[4.0, 1.5, 0.7, 1.2, 0.5] * [   0.59519 ] =    5.00000\n",
      "[0.0, 5.625, 0.7250000000000001, 1.0999999999999999, 0.575] * [   0.50793 ] =    6.00000\n",
      "[0.0, 0.0, 3.707777777777778, 2.8911111111111114, 0.7544444444444445] * [   0.83171 ] =    7.00000\n",
      "[0.0, 0.0, 0.0, 7.128360803116572, 1.6951333533113575] * [   0.63037 ] =    8.00000\n",
      "[0.0, 0.0, 0.0, 0.0, 4.231527930403315] * [   1.03738 ] =    9.00000\n"
     ]
    }
   ],
   "source": [
    "# check the arrays\n",
    "if rowNumA != rowNumB:\n",
    "    print (\"row ranks not same -- aborting now\")\n",
    "    quit()\n",
    "else:\n",
    "    print (\"row ranks same -- solve for x in Ax=b \\n\")\n",
    "# print all columns each row\n",
    "cmatrix = [[0 for j in range(colNumA)]for i in range(rowNumA)]\n",
    "dmatrix = [[0 for j in range(colNumA)]for i in range(rowNumA)]\n",
    "xvector = [0 for i in range(rowNumA)]\n",
    "dvector = [0 for i in range(rowNumA)]\n",
    "\n",
    "# copy amatrix into cmatrix to preserve original structure\n",
    "cmatrix = [[amatrix[i][j] for j in range(colNumA)]for i in range(rowNumA)]\n",
    "dmatrix = [[amatrix[i][j] for j in range(colNumA)]for i in range(rowNumA)]\n",
    "dvector = [bvector[i] for i in range(rowNumA)]\n",
    "\n",
    "dvector = linearsolver(amatrix,bvector) #Solve the linear system\n",
    "\n",
    "print (\"[A]*[x] = b \\n\")\n",
    "for i in range(0,rowNumA,1):\n",
    "    print ( (cmatrix[i][0:colNumA]), \"* [\",\"%9.5f\"% (dvector[i]),\"] = \", \"%9.5f\"% (bvector[i]))\n",
    "#print (\"-----------------------------\")\n",
    "#for i in range(0,rowNumA,1):\n",
    "#    print (\"%6.3f\"% (dvector[i]))\n",
    "#print (\"-----------------------------\")"
   ]
  },
  {
   "cell_type": "code",
   "execution_count": null,
   "metadata": {},
   "outputs": [],
   "source": []
  }
 ],
 "metadata": {
  "kernelspec": {
   "display_name": "Python 3",
   "language": "python",
   "name": "python3"
  },
  "language_info": {
   "codemirror_mode": {
    "name": "ipython",
    "version": 3
   },
   "file_extension": ".py",
   "mimetype": "text/x-python",
   "name": "python",
   "nbconvert_exporter": "python",
   "pygments_lexer": "ipython3",
   "version": "3.8.10"
  }
 },
 "nbformat": 4,
 "nbformat_minor": 4
}
