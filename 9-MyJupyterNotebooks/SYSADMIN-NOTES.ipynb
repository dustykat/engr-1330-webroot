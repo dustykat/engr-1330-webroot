{
 "cells": [
  {
   "cell_type": "code",
   "execution_count": 2,
   "metadata": {},
   "outputs": [
    {
     "name": "stdout",
     "output_type": "stream",
     "text": [
      "user == compthink  \n",
      "host == atomickitty.aws  \n",
      "/opt/jupyterhub/bin/python3\n",
      "3.6.9 (default, Jul 17 2020, 12:50:27) \n",
      "[GCC 8.4.0]\n",
      "sys.version_info(major=3, minor=6, micro=9, releaselevel='final', serial=0)\n"
     ]
    }
   ],
   "source": [
    " import sys\n",
    "! whoami > afile\n",
    "! echo 'user ==' > bfile\n",
    "! cat bfile afile | tr '\\n' ' '\n",
    "! echo ' '\n",
    "! hostname > afile\n",
    "! echo 'host ==' > bfile\n",
    "! cat bfile afile | tr '\\n' ' '\n",
    "! echo ' '\n",
    " print(sys.executable)\n",
    " print(sys.version)\n",
    " print(sys.version_info)"
   ]
  },
  {
   "cell_type": "markdown",
   "metadata": {},
   "source": [
    "# SYSADMIN NOTES\n",
    "Check output from above, \n",
    "\n",
    "if user == orion, then running on atomickitty.ddns.net\n",
    "\n",
    "if user == compthink, then running on atomickitty.aws (amazon web service)\n",
    "\n",
    "### Installing sitewide packages on atomickitty.ddns.net\n",
    "\n",
    "    1) Open a terminal shell from file menu\n",
    "    2) su theodore (or any sudo user, avoid becoming root, but that will work)\n",
    "    3) Set environment, currently this machine\n",
    "        a) Python 2.7 == OS environment.\n",
    "        b) Python 3.7 == /home/theodore/anaconda3/python3\n",
    "        c) Python 3.8 == /opt/conds/envs/python38  << INTENDED SITE-WIDE ENVIRONMENT\n",
    "        \n",
    "    > cd ~\n",
    "    > conda activate /opt/conda/envs/python38 (or /opt/conda/bin/conda activate ...)\n",
    "    > sudo conda install package_name  (try this first)\n",
    "    > sudo /opt/jupyterhub/bin/python3 -m pip install package_name  (then try this)\n",
    "    "
   ]
  },
  {
   "cell_type": "markdown",
   "metadata": {},
   "source": [
    "If these fail, then have some detective work -- the installers do not have good environment/path management/detection."
   ]
  },
  {
   "cell_type": "markdown",
   "metadata": {},
   "source": [
    "## updated notes for AWS instance -- notice the paths!\n",
    "\n",
    "## Python3 Kernel spec\n",
    "\n",
    "`(base) ubuntu@atomickitty:~$ conda activate /opt/conda/envs/python`\n",
    "\n",
    "`(python) ubuntu@atomickitty:~$ sudo -H /opt/jupyterhub/bin/python3 -m pip install numpy`\n",
    "\n",
    "`(python) ubuntu@atomickitty:~$ sudo -H /opt/jupyterhub/bin/python3 -m pip install pandas`\n",
    "\n",
    "`(python) ubuntu@atomickitty:~$ sudo -H /opt/jupyterhub/bin/python3 -m pip install requests`\n",
    "\n",
    "\n",
    "## Python38 Kernel spec\n",
    "\n",
    "`(python) ubuntu@atomickitty:~$ sudo -H /opt/conda/envs/python/bin/python -m pip install numpy`\n",
    "\n",
    "`(python) ubuntu@atomickitty:~$ sudo -H /opt/conda/envs/python/bin/python -m pip install pandas`\n",
    "\n",
    "`(python) ubuntu@atomickitty:~$ sudo -H /opt/conda/envs/python/bin/python -m pip install requests`\n",
    "\n",
    "`(python) ubuntu@atomickitty:~$ sudo -H /opt/conda/envs/python/bin/python -m pip install matplotlib`\n",
    "\n",
    "`(python) ubuntu@atomickitty:~$ sudo -H /opt/conda/envs/python/bin/python -m pip install scipy`\n",
    "\n",
    "`(python) ubuntu@atomickitty:~$ sudo -H /opt/conda/envs/python/bin/python -m pip install imageio`\n",
    "\n",
    "`(python) ubuntu@atomickitty:~$ sudo -H /opt/conda/envs/python/bin/python -m pip install prettytable`\n",
    "\n",
    "## JupyterHub control\n",
    "\n",
    "Been having problems with notebooks clobbering resources; simple fix is to restart service 4 times/hour in a cron job running as root.  Not ideal, but for time being prevents runaway processes.\n",
    "\n",
    "Here is the crontab for a sudo user\n",
    "\n",
    "`01 * * * * sudo systemctl restart jupyterhub.service`\n",
    "\n",
    "`15 * * * * sudo systemctl restart jupyterhub.service`\n",
    "\n",
    "`31 * * * * sudo systemctl restart jupyterhub.service`\n",
    "\n",
    "`45 * * * * sudo systemctl restart jupyterhub.service`\n",
    "\n",
    "Ok this seems to work, sends a `Server Stopped` error every 15 minutes -- this will be annoying, but as work out bugs, can go to longer intervals; as long as saving checkpoints, minimal data loss. So a worst case is that use 10% of daily CPU time allocation, before a restart, so if process gets out of hand, can regain control without a full instance stop."
   ]
  },
  {
   "cell_type": "markdown",
   "metadata": {},
   "source": [
    "### Install packages from notebook (into user site only)"
   ]
  },
  {
   "cell_type": "code",
   "execution_count": 12,
   "metadata": {},
   "outputs": [],
   "source": [
    "##import sys\n",
    "##!{sys.executable} -m pip install PUT_A_NAME_OF_THE_PACKAGE_HERE"
   ]
  },
  {
   "cell_type": "markdown",
   "metadata": {},
   "source": [
    "Above could be run from ``root`` and would proabably handle the site install issue.\n",
    "The ``-m`` means run module as a script, so the call would treat ``pip`` as a script (or spawn separate PID) the command above is equivalent to ``$ pip install PUT_A_NAME_OF_THE_PACKAGE_HERE`` run from a terminal window "
   ]
  },
  {
   "cell_type": "markdown",
   "metadata": {},
   "source": [
    "### Determine current environment\n",
    "\n",
    "Script below can be run from user space to find current environment, its important for system maintenance."
   ]
  },
  {
   "cell_type": "code",
   "execution_count": 5,
   "metadata": {},
   "outputs": [
    {
     "name": "stdout",
     "output_type": "stream",
     "text": [
      "/opt/conda/envs/python/bin/python\n",
      "\n",
      "     active environment : None\n",
      "       user config file : /home/compthink/.condarc\n",
      " populated config files : \n",
      "          conda version : 4.8.3\n",
      "    conda-build version : not installed\n",
      "         python version : 3.8.1.final.0\n",
      "       virtual packages : __glibc=2.27\n",
      "       base environment : /opt/conda  (read only)\n",
      "           channel URLs : https://repo.anaconda.com/pkgs/main/linux-64\n",
      "                          https://repo.anaconda.com/pkgs/main/noarch\n",
      "                          https://repo.anaconda.com/pkgs/r/linux-64\n",
      "                          https://repo.anaconda.com/pkgs/r/noarch\n",
      "          package cache : /opt/conda/pkgs\n",
      "                          /home/compthink/.conda/pkgs\n",
      "       envs directories : /home/compthink/.conda/envs\n",
      "                          /opt/conda/envs\n",
      "               platform : linux-64\n",
      "             user-agent : conda/4.8.3 requests/2.23.0 CPython/3.8.1 Linux/5.3.0-1030-aws ubuntu/18.04.1 glibc/2.27\n",
      "                UID:GID : 1003:1003\n",
      "             netrc file : None\n",
      "           offline mode : False\n",
      "\n"
     ]
    }
   ],
   "source": [
    "import sys\n",
    "print(sys.executable)\n",
    "# an alternative is\n",
    "!/opt/conda/bin/conda info  # this will vary between machines"
   ]
  },
  {
   "cell_type": "markdown",
   "metadata": {},
   "source": [
    "Here is a script to identify active python running in a notebook, can run from user envionrment"
   ]
  },
  {
   "cell_type": "code",
   "execution_count": 4,
   "metadata": {},
   "outputs": [
    {
     "name": "stdout",
     "output_type": "stream",
     "text": [
      "3.8.3\n"
     ]
    }
   ],
   "source": [
    "from platform import python_version\n",
    "print(python_version())"
   ]
  },
  {
   "cell_type": "markdown",
   "metadata": {},
   "source": [
    "Here is a good script for quick look at environment"
   ]
  },
  {
   "cell_type": "code",
   "execution_count": 3,
   "metadata": {},
   "outputs": [
    {
     "name": "stdout",
     "output_type": "stream",
     "text": [
      "/opt/conda/envs/python/bin/python\n",
      "3.8.3 (default, Jul  2 2020, 16:21:59) \n",
      "[GCC 7.3.0]\n",
      "sys.version_info(major=3, minor=8, micro=3, releaselevel='final', serial=0)\n"
     ]
    }
   ],
   "source": [
    " import sys\n",
    " print(sys.executable)\n",
    " print(sys.version)\n",
    " print(sys.version_info)"
   ]
  },
  {
   "cell_type": "code",
   "execution_count": null,
   "metadata": {},
   "outputs": [],
   "source": []
  },
  {
   "cell_type": "code",
   "execution_count": null,
   "metadata": {},
   "outputs": [],
   "source": []
  }
 ],
 "metadata": {
  "kernelspec": {
   "display_name": "Python 3",
   "language": "python",
   "name": "python3"
  },
  "language_info": {
   "codemirror_mode": {
    "name": "ipython",
    "version": 3
   },
   "file_extension": ".py",
   "mimetype": "text/x-python",
   "name": "python",
   "nbconvert_exporter": "python",
   "pygments_lexer": "ipython3",
   "version": "3.8.10"
  }
 },
 "nbformat": 4,
 "nbformat_minor": 4
}
