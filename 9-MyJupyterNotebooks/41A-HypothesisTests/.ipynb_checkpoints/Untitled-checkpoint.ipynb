{
 "cells": [
  {
   "cell_type": "code",
   "execution_count": null,
   "metadata": {},
   "outputs": [],
   "source": [
    "# build big-ish databases for hypothesis testing"
   ]
  },
  {
   "cell_type": "code",
   "execution_count": 2,
   "metadata": {},
   "outputs": [],
   "source": [
    "import pandas \n",
    "import numpy"
   ]
  },
  {
   "cell_type": "code",
   "execution_count": 4,
   "metadata": {},
   "outputs": [],
   "source": [
    "# construct populations\n",
    "nam=numpy.random.normal(69,12,250000)\n",
    "naf=numpy.random.normal(64,10,250000)\n",
    "sam=numpy.random.normal(67,10,300000)\n",
    "saf=numpy.random.normal(62,8,300000)\n",
    "eum=numpy.random.normal(71,14,400000)\n",
    "euf=numpy.random.normal(66,12,400000)\n",
    "easm=numpy.random.normal(67,9,300000)\n",
    "easf=numpy.random.normal(62,7,300000)\n",
    "asm=numpy.random.normal(64,8,3000000)\n",
    "asf=numpy.random.normal(60,6,3000000)\n",
    "afm=numpy.random.normal(66,12,350000)\n",
    "aff=numpy.random.normal(62,10,350000)"
   ]
  },
  {
   "cell_type": "code",
   "execution_count": 5,
   "metadata": {},
   "outputs": [],
   "source": [
    "northamerica = pandas.DataFrame({'NorthAmericaMale':nam,'NorthAmericaFemale':naf}) \n",
    "southamerica = pandas.DataFrame({'SouthAmericaMale':sam,'SouthAmericaFemale':saf}) \n",
    "westeurope = pandas.DataFrame({'WestEuropeMale':eum,'WestEuropeFemale':euf}) \n",
    "easteurope = pandas.DataFrame({'EastEuropeMale':easm,'EastEuropeFemale':easf,}) \n",
    "asia = pandas.DataFrame({'AsiaMale':asm,'AsiaFemale':asf}) \n",
    "africa = pandas.DataFrame({'AfricaMale':afm,'AfricaFemale':aff}) "
   ]
  },
  {
   "cell_type": "code",
   "execution_count": 7,
   "metadata": {},
   "outputs": [
    {
     "data": {
      "text/plain": [
       "68.99364473398568"
      ]
     },
     "execution_count": 7,
     "metadata": {},
     "output_type": "execute_result"
    }
   ],
   "source": [
    "northamerica['NorthAmericaMale'].mean()"
   ]
  },
  {
   "cell_type": "code",
   "execution_count": 14,
   "metadata": {},
   "outputs": [],
   "source": [
    "maleframes = [northamerica['NorthAmericaMale'],southamerica['SouthAmericaMale'],\n",
    "          westeurope['WestEuropeMale'],easteurope['EastEuropeMale'],\n",
    "          asia['AsiaMale'],africa['AfricaMale']]\n",
    "allmale = pandas.concat(maleframes)\n",
    "femaleframes = [northamerica['NorthAmericaFemale'],southamerica['SouthAmericaFemale'],\n",
    "          westeurope['WestEuropeFemale'],easteurope['EastEuropeFemale'],\n",
    "          asia['AsiaFemale'],africa['AfricaFemale']]\n",
    "allfemale = pandas.concat(femaleframes)"
   ]
  },
  {
   "cell_type": "code",
   "execution_count": 12,
   "metadata": {},
   "outputs": [
    {
     "data": {
      "text/plain": [
       "count    4.600000e+06\n",
       "mean     6.541500e+01\n",
       "std      9.724002e+00\n",
       "min      6.347527e+00\n",
       "25%      5.902140e+01\n",
       "50%      6.504378e+01\n",
       "75%      7.132253e+01\n",
       "max      1.475432e+02\n",
       "dtype: float64"
      ]
     },
     "execution_count": 12,
     "metadata": {},
     "output_type": "execute_result"
    }
   ],
   "source": [
    "allmale.describe()"
   ]
  },
  {
   "cell_type": "code",
   "execution_count": 15,
   "metadata": {},
   "outputs": [
    {
     "data": {
      "text/plain": [
       "count    4.600000e+06\n",
       "mean     6.115518e+01\n",
       "std      7.744032e+00\n",
       "min      1.383211e+01\n",
       "25%      5.617626e+01\n",
       "50%      6.077714e+01\n",
       "75%      6.562573e+01\n",
       "max      1.248890e+02\n",
       "dtype: float64"
      ]
     },
     "execution_count": 15,
     "metadata": {},
     "output_type": "execute_result"
    }
   ],
   "source": [
    "allfemale.describe()"
   ]
  },
  {
   "cell_type": "code",
   "execution_count": null,
   "metadata": {},
   "outputs": [],
   "source": []
  }
 ],
 "metadata": {
  "kernelspec": {
   "display_name": "Python 3",
   "language": "python",
   "name": "python3"
  },
  "language_info": {
   "codemirror_mode": {
    "name": "ipython",
    "version": 3
   },
   "file_extension": ".py",
   "mimetype": "text/x-python",
   "name": "python",
   "nbconvert_exporter": "python",
   "pygments_lexer": "ipython3",
   "version": "3.8.10"
  }
 },
 "nbformat": 4,
 "nbformat_minor": 4
}
