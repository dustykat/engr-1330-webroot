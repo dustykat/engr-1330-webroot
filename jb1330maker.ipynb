{
 "cells": [
  {
   "cell_type": "code",
   "execution_count": 4,
   "metadata": {},
   "outputs": [
    {
     "name": "stdout",
     "output_type": "stream",
     "text": [
      "/home/sensei/engr-1330-webroot\n"
     ]
    }
   ],
   "source": [
    "! pwd"
   ]
  },
  {
   "cell_type": "code",
   "execution_count": 5,
   "metadata": {},
   "outputs": [
    {
     "name": "stdout",
     "output_type": "stream",
     "text": [
      "total 360\n",
      "drwxr-xr-x 17 sensei sensei  4096 Jan  4 23:06 .\n",
      "drwxr-xr-x 36 sensei sensei  4096 Jan  3 22:08 ..\n",
      "-rw-r--r--  1 sensei sensei 10244 Jul 12 18:25 .DS_Store\n",
      "drwxr-xr-x  8 sensei sensei  4096 Jan  5 16:15 .git\n",
      "-rw-r--r--  1 sensei sensei   140 Jul 12 18:25 .gitignore\n",
      "drwxr-xr-x  2 sensei sensei  4096 Jan  4 22:56 .ipynb_checkpoints\n",
      "drwxr-xr-x  5 sensei sensei  4096 Jan  5 16:06 0-Syllabus\n",
      "drwxr-xr-x 29 sensei sensei  4096 Jan  3 22:15 1-Lessons\n",
      "drwxr-xr-x  3 sensei sensei  4096 Aug 25 18:25 10-QandA_Notebooks\n",
      "drwxr-xr-x 12 sensei sensei  4096 Oct 14 19:08 2-Homework\n",
      "drwxr-xr-x  4 sensei sensei  4096 Jan  3 22:15 3-Readings\n",
      "drwxr-xr-x  3 sensei sensei  4096 Jan  3 22:15 4-Databases\n",
      "drwxr-xr-x  7 sensei sensei  4096 Jan  3 22:15 5-ExamProblems\n",
      "drwxr-xr-x  9 sensei sensei  4096 Nov  2 14:43 6-Projects\n",
      "drwxr-xr-x 10 sensei sensei  4096 Nov  9 02:34 7-SpecialNotebooks\n",
      "drwxr-xr-x 31 sensei sensei  4096 Sep 15 23:27 8-Labs\n",
      "drwxr-xr-x 30 sensei sensei  4096 Oct  7 22:00 9-MyJupyterNotebooks\n",
      "-rw-rw-r--  1 sensei sensei 13139 Aug 12 20:27 ComputationBasics.ipynb\n",
      "-rw-r--r--  1 sensei sensei 10315 Feb 15  2021 ComputationalThinking.xlsx\n",
      "-rw-r--r--  1 sensei sensei  7048 Feb 15  2021 LICENSE\n",
      "-rw-r--r--  1 sensei sensei 77596 Feb 15  2021 NotebookDirectory.png\n",
      "-rw-rw-r--  1 sensei sensei  1846 Aug 17 23:26 README.md\n",
      "-rw-rw-r--  1 sensei sensei  5004 Sep 22 21:18 Untitled.ipynb\n",
      "-rw-rw-r--  1 sensei sensei  9480 Jul 15 15:06 course-outline-html-2perWeek-Copy1.ipynb\n",
      "-rw-rw-r--  1 sensei sensei  9554 Jul 20 19:39 course-outline-html-3perWeek-Copy1.ipynb\n",
      "-rw-rw-r--  1 sensei sensei 13485 Jul 15 21:01 course-outline-html-3perWeek.ipynb\n",
      "-rw-rw-r--  1 sensei sensei  5744 Jul 15 14:48 course-outline.ipynb\n",
      "-rw-rw-r--  1 sensei sensei   402 Jan  3 22:13 diary.txt\n",
      "drwxr-xr-x  8 sensei sensei  4096 Jul 12 20:40 engr-1330-webbook\n",
      "drwxr-xr-x  5 sensei sensei  4096 Jan  5 15:49 engr1330jb\n",
      "-rw-rw-r--  1 sensei sensei 26198 Jan  4 23:06 index.html\n",
      "-rw-r--r--  1 sensei sensei 14771 Feb 15  2021 index.html.old\n",
      "-rw-r--r--  1 sensei sensei 21452 Jul 12 18:25 index.html.old2\n",
      "-rw-rw-r--  1 sensei sensei  6602 Jan  4 22:57 jb1330maker.ipynb\n",
      "-rw-r--r--  1 sensei sensei  3705 Nov 11 13:42 markdown.md\n",
      "-rw-r--r--  1 sensei sensei  3378 Nov 11 13:42 notebooks.ipynb\n",
      "-rw-rw-r--  1 sensei sensei 11779 Aug 31 12:53 roll_sheet.xlsx\n",
      "-rw-r--r--  1 sensei sensei  3574 Feb 15  2021 styles.css\n"
     ]
    }
   ],
   "source": [
    "! ls -la"
   ]
  },
  {
   "cell_type": "code",
   "execution_count": 1,
   "metadata": {},
   "outputs": [
    {
     "name": "stdout",
     "output_type": "stream",
     "text": [
      "\u001b[32m\u001b[1mRunning Jupyter-Book v0.12.0\u001b[0m\n",
      "\u001b[34m\u001b[1mSource Folder: \u001b[0m/home/sensei/engr-1330-webroot/engr1330jb\n",
      "\u001b[34m\u001b[1mConfig Path: \u001b[0m/home/sensei/engr-1330-webroot/engr1330jb/_config.yml\n",
      "\u001b[34m\u001b[1mOutput Path: \u001b[0m/home/sensei/engr-1330-webroot/engr1330jb/_build/html\n",
      "\u001b[01mRunning Sphinx v3.5.2\u001b[39;49;00m\n",
      "[etoc] Changing master_doc to 'intro'\n",
      "\u001b[01mloading pickled environment... \u001b[39;49;00mchecking for /home/sensei/engr-1330-webroot/engr1330jb/references.bib in bibtex cache... up to date\n",
      "done\n",
      "\u001b[01mmyst v0.15.2:\u001b[39;49;00m MdParserConfig(renderer='sphinx', commonmark_only=False, enable_extensions=['colon_fence', 'dollarmath', 'linkify', 'substitution', 'tasklist'], dmath_allow_labels=True, dmath_allow_space=True, dmath_allow_digits=True, dmath_double_inline=False, update_mathjax=True, mathjax_classes='tex2jax_process|mathjax_process|math|output_area', disable_syntax=[], url_schemes=['mailto', 'http', 'https'], heading_anchors=None, heading_slug_func=None, html_meta=[], footnote_transition=True, substitutions=[], sub_delimiters=['{', '}'], words_per_minute=200)\n",
      "\u001b[01mbuilding [mo]: \u001b[39;49;00mtargets for 0 po files that are out of date\n",
      "\u001b[01mbuilding [html]: \u001b[39;49;00mtargets for 1 source files that are out of date\n",
      "\u001b[01mupdating environment: \u001b[39;49;00m0 added, 1 changed, 0 removed\n",
      "Executing: lessons/lesson12/lesson12 in: /home/sensei/engr-1330-webroot/engr1330jb/lessons/lesson12             \n",
      "\n",
      "\u001b[01mlooking for now-outdated files... \u001b[39;49;00mnone found\n",
      "\u001b[01mpickling environment... \u001b[39;49;00mdone\n",
      "\u001b[01mchecking consistency... \u001b[39;49;00mdone\n",
      "\u001b[01mpreparing documents... \u001b[39;49;00mdone\n",
      "\u001b[01mwriting output... \u001b[39;49;00m[100%] \u001b[32mlessons/lesson12/lesson12\u001b[39;49;00m                              \n",
      "\u001b[01mgenerating indices... \u001b[39;49;00mgenindex done\n",
      "\u001b[01mwriting additional pages... \u001b[39;49;00msearch done\n",
      "\u001b[01mcopying images... \u001b[39;49;00m[100%] \u001b[33m_build/jupyter_execute/lessons/lesson12/lesson12_18_1.png\u001b[39;49;00m\n",
      "\u001b[01mcopying static files... \u001b[39;49;00mdone\n",
      "\u001b[01mcopying extra files... \u001b[39;49;00mdone\n",
      "\u001b[01mdumping search index in English (code: en)... \u001b[39;49;00mdone\n",
      "\u001b[01mdumping object inventory... \u001b[39;49;00mdone\n",
      "\u001b[01mbuild succeeded.\u001b[39;49;00m\n",
      "\n",
      "The HTML pages are in engr1330jb/_build/html.\n",
      "\n",
      "\u001b[92m===============================================================================\u001b[0m\n",
      "\n",
      "Finished generating HTML for book.\n",
      "Your book's HTML pages are here:\n",
      "    engr1330jb/_build/html/\n",
      "You can look at your book by opening this file in a browser:\n",
      "    engr1330jb/_build/html/index.html\n",
      "Or paste this line directly into your browser bar:\n",
      "    file:///home/sensei/engr-1330-webroot/engr1330jb/_build/html/index.html            \n",
      "\n",
      "\u001b[92m===============================================================================\u001b[0m\n",
      "\n"
     ]
    }
   ],
   "source": [
    "#! jupyter-book clean engr1330jb\n",
    "! jupyter-book build engr1330jb/"
   ]
  },
  {
   "cell_type": "code",
   "execution_count": null,
   "metadata": {},
   "outputs": [],
   "source": []
  }
 ],
 "metadata": {
  "kernelspec": {
   "display_name": "Python 3",
   "language": "python",
   "name": "python3"
  },
  "language_info": {
   "codemirror_mode": {
    "name": "ipython",
    "version": 3
   },
   "file_extension": ".py",
   "mimetype": "text/x-python",
   "name": "python",
   "nbconvert_exporter": "python",
   "pygments_lexer": "ipython3",
   "version": "3.8.10"
  }
 },
 "nbformat": 4,
 "nbformat_minor": 4
}
