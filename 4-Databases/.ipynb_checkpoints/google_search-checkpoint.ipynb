{
 "cells": [
  {
   "cell_type": "markdown",
   "metadata": {},
   "source": [
    "## Install googlesearch\n",
    "- **Windows** and **Mac** users can install using **anaconda power shell** type:`conda install -c conda-forge googlesearch`, wait for the installer to complete.\n",
    "- **Linux** users can install using **pip** type: `sudo -H /opt/jupyterhub/bin/python3 -m pip install google`, wait for the installer to complete; if your python kernel is in a different location, then change the install path (the part between -H and -m).  If you have a Linux anaconda install, use conda first, if that fails then try pip.\n",
    "\n",
    "Once installed, then you can import the package in the cell below, then run it to test the install:"
   ]
  },
  {
   "cell_type": "code",
   "execution_count": 5,
   "metadata": {},
   "outputs": [],
   "source": [
    "import googlesearch "
   ]
  },
  {
   "cell_type": "markdown",
   "metadata": {},
   "source": [
    "if you get an error message from the cell above, it usually means you did not install the package, read the error to debug the install.\n",
    "\n",
    "If successful then here is the rest of the script"
   ]
  },
  {
   "cell_type": "code",
   "execution_count": 6,
   "metadata": {},
   "outputs": [],
   "source": [
    "query = \"python for data science\"\n",
    "top_level_domain = 'co.in'\n",
    "language = 'en'\n",
    "howmany_hits = 100 # This is used to specify the number of results we desire per search block. \n",
    "search_start = 0 # Begin URL list at this non-404 result\n",
    "search_end = 15 # End URL list at this non-404 result\n",
    "how_long_between_http_requests = 2 # Wait time (in seconds) between consecutive HTTP requests. \n",
    "# If the wait time is too small Google will assume the process is a DoS attack and block your IP address.\n",
    "#\n",
    "# syntax:\n",
    "# search(query, tld=top_level_domain, lang=language, num=howmany_hits, start=search_start, stop=search_end, pause=how_long_between_http_requests)\n",
    "# produces an iterable (list) of valid URLs containing the search string\n",
    "#"
   ]
  },
  {
   "cell_type": "code",
   "execution_count": 7,
   "metadata": {},
   "outputs": [],
   "source": [
    "# Add code to prompt user for a search string, and place that string into `query`\n",
    "# Add code to prompt user for how many results to return, put that value into `search_end` limit the value to less than 20"
   ]
  },
  {
   "cell_type": "code",
   "execution_count": null,
   "metadata": {},
   "outputs": [],
   "source": [
    "for i in googlesearch.search(query, tld=top_level_domain, lang=language, num=howmany_hits, \n",
    "                             start=search_start, stop=search_end, pause=how_long_between_http_requests):\n",
    "    print(i)"
   ]
  },
  {
   "cell_type": "code",
   "execution_count": null,
   "metadata": {},
   "outputs": [],
   "source": []
  }
 ],
 "metadata": {
  "kernelspec": {
   "display_name": "Python 3",
   "language": "python",
   "name": "python3"
  },
  "language_info": {
   "codemirror_mode": {
    "name": "ipython",
    "version": 3
   },
   "file_extension": ".py",
   "mimetype": "text/x-python",
   "name": "python",
   "nbconvert_exporter": "python",
   "pygments_lexer": "ipython3",
   "version": "3.8.10"
  }
 },
 "nbformat": 4,
 "nbformat_minor": 4
}
