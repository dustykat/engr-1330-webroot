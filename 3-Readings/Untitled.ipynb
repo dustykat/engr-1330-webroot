{
 "cells": [
  {
   "cell_type": "code",
   "execution_count": 1,
   "metadata": {},
   "outputs": [
    {
     "ename": "IndentationError",
     "evalue": "expected an indented block (<ipython-input-1-5234bb7e8a49>, line 3)",
     "output_type": "error",
     "traceback": [
      "\u001b[0;36m  File \u001b[0;32m\"<ipython-input-1-5234bb7e8a49>\"\u001b[0;36m, line \u001b[0;32m3\u001b[0m\n\u001b[0;31m    integer1=number\u001b[0m\n\u001b[0m    ^\u001b[0m\n\u001b[0;31mIndentationError\u001b[0m\u001b[0;31m:\u001b[0m expected an indented block\n"
     ]
    }
   ],
   "source": [
    "# define variables\n",
    "def number1(x):\n",
    "integer1=number\n",
    "return integer1\n",
    "def number2(x):\n",
    "integer2=number2\n",
    "return integer2\n",
    "# interactive input\n",
    "number1=int(input(\"Give a number for number 1:\"))\n",
    "number2=int(input(\"Give a number for number 2:\"))\n",
    "# computation/compare\n",
    "product=number1*number2\n",
    "sum=number1+number2\n",
    "# report result\n",
    "if (product>666):\n",
    "print(product)\n",
    "else:\n",
    "print(sum)"
   ]
  },
  {
   "cell_type": "code",
   "execution_count": null,
   "metadata": {},
   "outputs": [],
   "source": [
    "# Case 1\n",
    "numberString = input(\"give a number for n\")\n",
    "#check if the number of digits is even or add\n",
    "#get number of digits\n",
    "numDigits = len(numberString)\n",
    "#check if number is even\n",
    "if (numDigits % 2 == 0):\n",
    "#cut the string in half\n",
    "    middlePoint = numDigits // 2\n",
    "    firstHalf = numberString[0:middlePoint]\n",
    "    secondHalf = numberString[middlepoint:]\n",
    "#reverse first half\n",
    "    reverseFirstHalf = firstHalf[::-1]\n",
    "#compare to second half\n",
    "    if(reverseFirstHalf == secondHalf):\n",
    "        print(True)\n",
    "    else:\n",
    "        print(False)\n",
    "    else:\n",
    "#cut the string in half\n",
    "middlePoint = numDigits // 2\n",
    "firstHalf = numberString[0:middlePoint-1]\n",
    "secondHalf = numberString[middlePoint+1:\n",
    "]\n",
    "#reverse first half\n",
    "reverseFirstHalf = firstHalf[\n",
    ":\n",
    ":-1]\n",
    "#compare to second half\n",
    "if(reverseFirstHalf == secondHalf)\n",
    ":\n",
    "print(True)\n",
    "else:\n",
    "print(False)"
   ]
  }
 ],
 "metadata": {
  "kernelspec": {
   "display_name": "Python 3",
   "language": "python",
   "name": "python3"
  },
  "language_info": {
   "codemirror_mode": {
    "name": "ipython",
    "version": 3
   },
   "file_extension": ".py",
   "mimetype": "text/x-python",
   "name": "python",
   "nbconvert_exporter": "python",
   "pygments_lexer": "ipython3",
   "version": "3.8.10"
  }
 },
 "nbformat": 4,
 "nbformat_minor": 4
}
