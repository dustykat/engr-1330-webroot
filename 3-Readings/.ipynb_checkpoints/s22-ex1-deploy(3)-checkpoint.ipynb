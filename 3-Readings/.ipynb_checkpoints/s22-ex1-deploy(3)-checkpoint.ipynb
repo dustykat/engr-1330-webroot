{
 "cells": [
  {
   "cell_type": "markdown",
   "metadata": {},
   "source": [
    "# <font color=darkblue>ENGR 1330-2022-1 Exam1-Laboratory Portion  </font>\n",
    "\n",
    "**SPALDING, SAMUEL**\n",
    "\n",
    "**R11755623**\n",
    "\n",
    "ENGR 1330 Exam 1 - Laboratory/Programming Skills\n",
    "\n",
    "---\n",
    "\n",
    "**Download** (right-click, save target as ...) this page as a jupyterlab notebook from: [s22-ex1-deploy.ipynb](http://54.243.252.9/engr-1330-webroot/5-ExamProblems/Exam1/Exam1/spring2022/s22-ex1-deploy.ipynb)\n",
    "\n",
    "**If you are unable to download the file, create an empty notebook and copy paste the problems into Markdown cells and Code cells (problem-by-problem)**\n",
    "\n"
   ]
  },
  {
   "cell_type": "markdown",
   "metadata": {},
   "source": [
    "---\n",
    "\n",
    "## Problem 1 (10 pts) : <font color = 'magenta'>*Profile your computer*</font>\n",
    "\n",
    "Execute the code cell below exactly as written.  If you get an error just continue to the remaining problems."
   ]
  },
  {
   "cell_type": "code",
   "execution_count": 1,
   "metadata": {},
   "outputs": [
    {
     "name": "stdout",
     "output_type": "stream",
     "text": [
      "Samuels-MacBook-Pro.local\n",
      "sam\n",
      "/Users/sam/opt/anaconda3/bin/python\n",
      "3.9.7 (default, Sep 16 2021, 08:50:36) \n",
      "[Clang 10.0.0 ]\n",
      "sys.version_info(major=3, minor=9, micro=7, releaselevel='final', serial=0)\n"
     ]
    }
   ],
   "source": [
    "# Preamble script block to identify host, user, and kernel\n",
    "import sys\n",
    "! hostname\n",
    "! whoami\n",
    "print(sys.executable)\n",
    "print(sys.version)\n",
    "print(sys.version_info)"
   ]
  },
  {
   "cell_type": "markdown",
   "metadata": {},
   "source": [
    "---\n",
    "\n",
    "## Problem 2 (10 pts): <font color = 'magenta'>*input(),typecast, string reversal, comparison based selection, print()*</font>\n",
    "\n",
    "Build a script where the user will supply a number then determine if it is a palindrome number. A palindrome number is a number that is same after reversal. For example 545, is a palindrome number.\n",
    "- Case 1: 545\n",
    "- Case 2: 123\n",
    "- Case 3: 666"
   ]
  },
  {
   "cell_type": "code",
   "execution_count": null,
   "metadata": {},
   "outputs": [],
   "source": [
    "# define variables\n",
    "# interactive input\n",
    "numberString = input(\"give an number for Palindrome check\")\n",
    "numDigits = len(numberString)\n",
    "print(\"the number of digits in 'numberString'is:\", numDigits)\n",
    "# computation/compare\n",
    "# report result\n",
    "middlePoint = numDigits // 2\n",
    "firstHalf = numberString[0:middlePoint]\n",
    "secondHalf = numberString[middlePoint+1:]\n",
    "reverseFirstHalf = firstHalf[::-1]\n",
    "    #print(middlePoint)\n",
    "    #print(firstHalf)\n",
    "    #print(secondHalf)\n",
    "    #print(reverseFirstHalf)\n",
    "if(reverseFirstHalf == secondHalf):\n",
    "    print(\"true\")\n",
    "else:\n",
    "    print(\"false\")"
   ]
  },
  {
   "cell_type": "code",
   "execution_count": 19,
   "metadata": {},
   "outputs": [
    {
     "name": "stdin",
     "output_type": "stream",
     "text": [
      "give an number for Palindrome check 545\n"
     ]
    },
    {
     "name": "stdout",
     "output_type": "stream",
     "text": [
      "true\n"
     ]
    }
   ],
   "source": [
    "# Case 1\n",
    "numberString = input(\"give an number for Palindrome check\")\n",
    "numDigits = len(numberString)\n",
    "#print(\"the number of digits in 'numberString'is:\", numDigits)\n",
    "# computation/compare\n",
    "# report result\n",
    "middlePoint = numDigits // 2\n",
    "firstHalf = numberString[0:middlePoint]\n",
    "secondHalf = numberString[middlePoint+1:]\n",
    "reverseFirstHalf = firstHalf[::-1]\n",
    "    #print(middlePoint)\n",
    "    #print(firstHalf)\n",
    "    #print(secondHalf)\n",
    "    #print(reverseFirstHalf)\n",
    "if(reverseFirstHalf == secondHalf):\n",
    "    print(\"true\")\n",
    "else:\n",
    "    print(\"false\")"
   ]
  },
  {
   "cell_type": "code",
   "execution_count": 20,
   "metadata": {},
   "outputs": [
    {
     "name": "stdin",
     "output_type": "stream",
     "text": [
      "give an number for Palindrome check 123\n"
     ]
    },
    {
     "name": "stdout",
     "output_type": "stream",
     "text": [
      "false\n"
     ]
    }
   ],
   "source": [
    "# Case 2\n",
    "numberString = input(\"give an number for Palindrome check\")\n",
    "numDigits = len(numberString)\n",
    "#print(\"the number of digits in 'numberString'is:\", numDigits)\n",
    "# computation/compare\n",
    "# report result\n",
    "middlePoint = numDigits // 2\n",
    "firstHalf = numberString[0:middlePoint]\n",
    "secondHalf = numberString[middlePoint+1:]\n",
    "reverseFirstHalf = firstHalf[::-1]\n",
    "    #print(middlePoint)\n",
    "    #print(firstHalf)\n",
    "    #print(secondHalf)\n",
    "    #print(reverseFirstHalf)\n",
    "if(reverseFirstHalf == secondHalf):\n",
    "    print(\"true\")\n",
    "else:\n",
    "    print(\"false\")"
   ]
  },
  {
   "cell_type": "code",
   "execution_count": 18,
   "metadata": {},
   "outputs": [
    {
     "name": "stdin",
     "output_type": "stream",
     "text": [
      "give an number for Palindrome check 666\n"
     ]
    },
    {
     "name": "stdout",
     "output_type": "stream",
     "text": [
      "true\n"
     ]
    }
   ],
   "source": [
    "# Case 3\n",
    "numberString = input(\"give an number for Palindrome check\")\n",
    "numDigits = len(numberString)\n",
    "#print(\"the number of digits in 'numberString'is:\", numDigits)\n",
    "# computation/compare\n",
    "# report result\n",
    "middlePoint = numDigits // 2\n",
    "firstHalf = numberString[0:middlePoint]\n",
    "secondHalf = numberString[middlePoint+1:]\n",
    "reverseFirstHalf = firstHalf[::-1]\n",
    "    #print(middlePoint)\n",
    "    #print(firstHalf)\n",
    "    #print(secondHalf)\n",
    "    #print(reverseFirstHalf)\n",
    "if(reverseFirstHalf == secondHalf):\n",
    "    print(\"true\")\n",
    "else:\n",
    "    print(\"false\")"
   ]
  },
  {
   "cell_type": "markdown",
   "metadata": {},
   "source": [
    "---\n",
    "\n",
    "## Problem 3 (15 pts): <font color = 'magenta'>*len(),compare,accumulator, populate an empty list,for loop, print()*</font>\n",
    "\n",
    "Two lists are defined as\n",
    "\n",
    "```\n",
    "x= [1.0,1.1,1.2,1.3,1.4,1.5,1.6,1.7,1.8]\n",
    "f_of_x = [1.543,1.668,1.811,1.971,2.151,2.352,2.577,2.828,3.107]\n",
    "```\n",
    "\n",
    "Create a script that determines the length of each list and if they are the same length then print the contents of each list row-wise, and the running sum of `f_of_x` so the output looks like\n",
    "\n",
    "```\n",
    "--x--  --f_of_x--  --sum--\n",
    "1.0     1.543      1.543\n",
    "1.1     1.668      3.211\n",
    "...     ...        ...\n",
    "...     ...        ...\n",
    "1.7     2.828      16.901\n",
    "1.8     3.107      20.008\n",
    "```\n",
    "\n",
    "Test your script using the two lists above, then with the two lists below:\n",
    "\n",
    "```\n",
    "x= [1.0,1.1,1.2,1.3,1.4,1.5,1.6,1.7,1.8]\n",
    "f_of_x =[1.543, 3.211, 5.022, 6.993, 9.144, 11.496, 14.073, 16.901, 20.008]\n",
    "```"
   ]
  },
  {
   "cell_type": "code",
   "execution_count": 52,
   "metadata": {},
   "outputs": [
    {
     "name": "stdout",
     "output_type": "stream",
     "text": [
      "the lists are the same length: 9\n",
      "--x-- --f_of_x-- --sum--\n",
      "1.0     1.543     1.543\n",
      "1.1     1.668     3.211\n",
      "1.2     1.811     5.022\n",
      "1.3     1.971     6.993\n",
      "1.4     2.151     9.144\n",
      "1.5     2.352     11.496\n",
      "1.6     2.577     14.073\n",
      "1.7     2.828     16.901\n",
      "1.8     3.107     20.008\n"
     ]
    }
   ],
   "source": [
    "# define variables\n",
    "# Case 1 \n",
    "x= [1.0,1.1,1.2,1.3,1.4,1.5,1.6,1.7,1.8]\n",
    "f_of_x = [1.543,1.668,1.811,1.971,2.151,2.352,2.577,2.828,3.107]\n",
    "floafofx = []\n",
    "sumli = []\n",
    "# validate lengths\n",
    "lengthx = len(x)\n",
    "lengthy = len(f_of_x)\n",
    "if lengthx == lengthy:\n",
    "    print(\"the lists are the same length:\", lengthx)\n",
    "else:\n",
    "    print(\"the lists are not the same length. Length of x:\",lengthx,\"length of f_of_x:\",lengthy)\n",
    "#print(lengthx)\n",
    "#print(lengthy)\n",
    "# initialize accumulator and empty list to store a running sum\n",
    "#sumy= 0\n",
    "for u in f_of_x:\n",
    "    floafofx.append(float(u))\n",
    "#print(floafofx)\n",
    "s = 0\n",
    "\n",
    "for item in f_of_x:\n",
    "    s += item\n",
    "    sumli.append(s)\n",
    "\n",
    "#print(sumli)\n",
    "#print(sumy)\n",
    "# print header line\n",
    "print(\"--x--\", \"--f_of_x--\", \"--sum--\")\n",
    "# repetition (for loop) structure\n",
    "# report result\n",
    "for i in range(len(x)):\n",
    "    print (x[i],\"   \", f_of_x[i],\"   \", sumli[i])"
   ]
  },
  {
   "cell_type": "code",
   "execution_count": 66,
   "metadata": {},
   "outputs": [
    {
     "name": "stdout",
     "output_type": "stream",
     "text": [
      "the lists are the same length: 9\n",
      "--x-- --f_of_x-- --sum--\n",
      "1.0     1.543     1.543\n",
      "1.1     3.211     4.754\n",
      "1.2     5.022     9.776\n",
      "1.3     6.993     16.769\n",
      "1.4     9.144     25.913\n",
      "1.5     11.496     37.409\n",
      "1.6     14.073     51.482\n",
      "1.7     16.901     68.383\n",
      "1.8     20.008     88.391\n"
     ]
    }
   ],
   "source": [
    "# define variables\n",
    "# Case 2\n",
    "# ...\n",
    " # define variables\n",
    "# Case 1 \n",
    "x= [1.0,1.1,1.2,1.3,1.4,1.5,1.6,1.7,1.8]\n",
    "f_of_x = [1.543, 3.211, 5.022, 6.993, 9.144, 11.496, 14.073, 16.901, 20.008]\n",
    "floafofx = []\n",
    "sumli = []\n",
    "# validate lengths\n",
    "lengthx = len(x)\n",
    "lengthy = len(f_of_x)\n",
    "if lengthx == lengthy:\n",
    "    print(\"the lists are the same length:\", lengthx)\n",
    "else:\n",
    "    print(\"the lists are not the same length. Length of x:\",lengthx,\"length of f_of_x:\",lengthy)\n",
    "#print(lengthx)\n",
    "#print(lengthy)\n",
    "# initialize accumulator and empty list to store a running sum\n",
    "#sumy= 0\n",
    "for u in f_of_x:\n",
    "    floafofx.append(float(u))\n",
    "#print(floafofx)\n",
    "s = 0\n",
    "\n",
    "for item in f_of_x:\n",
    "    s += item\n",
    "    sumli.append(s)\n",
    "\n",
    "#print(sumli)\n",
    "#print(sumy)\n",
    "# print header line\n",
    "print(\"--x--\", \"--f_of_x--\", \"--sum--\")\n",
    "# repetition (for loop) structure\n",
    "# report result\n",
    "for i in range(len(x)):\n",
    "    print (x[i],\"   \",f_of_x[i],\"   \",\"%.3f\" % sumli[i])"
   ]
  },
  {
   "cell_type": "markdown",
   "metadata": {},
   "source": [
    "---\n",
    "\n",
    "## Problem 4 Function (15 points) : <font color = 'magenta'> *def ..., input(),typecast,arithmetic based selection, print()* </font>\n",
    "Build a function that takes as input two integer numbers. The function should return their product if the product is greater than 666, otherwise the function should return their sum.  \n",
    "\n",
    "Employ the function in an interactive script and test the following cases:\n",
    "\n",
    "- Case 1: 65 and 10\n",
    "- Case 2: 66 and 11\n",
    "- Case 3: 25 and 5"
   ]
  },
  {
   "cell_type": "code",
   "execution_count": null,
   "metadata": {},
   "outputs": [],
   "source": [
    "# define variables\n",
    "# interactive input\n",
    "\n",
    "def myfunction(x,y):\n",
    "    x=int(input(\"give integer 1\"))\n",
    "    y=int(input(\"give integer 2\"))\n",
    "    # computation/compare\n",
    "    # report result\n",
    "    int(x)\n",
    "    int(y)\n",
    "    n=x*y\n",
    "    if (n)>666:\n",
    "        print(\"the product is greater than 666, the product is:\",(x*y))\n",
    "    else:\n",
    "        print(\"the product is less than 666, the sum is:\",(x+y))\n",
    "myfunction(x,y)"
   ]
  },
  {
   "cell_type": "code",
   "execution_count": 35,
   "metadata": {},
   "outputs": [
    {
     "name": "stdin",
     "output_type": "stream",
     "text": [
      "give integer 1 65\n",
      "give integer 2 10\n"
     ]
    },
    {
     "name": "stdout",
     "output_type": "stream",
     "text": [
      "the product is less than 666, the sum is: 75\n"
     ]
    }
   ],
   "source": [
    "# Case 1\n",
    "myfunction(x,y)"
   ]
  },
  {
   "cell_type": "code",
   "execution_count": 36,
   "metadata": {},
   "outputs": [
    {
     "name": "stdin",
     "output_type": "stream",
     "text": [
      "give integer 1 66\n",
      "give integer 2 11\n"
     ]
    },
    {
     "name": "stdout",
     "output_type": "stream",
     "text": [
      "the product is greater than 666, the product is: 726\n"
     ]
    }
   ],
   "source": [
    "# Case 2\n",
    "myfunction(x,y)"
   ]
  },
  {
   "cell_type": "code",
   "execution_count": 37,
   "metadata": {},
   "outputs": [
    {
     "name": "stdin",
     "output_type": "stream",
     "text": [
      "give integer 1 25\n",
      "give integer 2 5\n"
     ]
    },
    {
     "name": "stdout",
     "output_type": "stream",
     "text": [
      "the product is less than 666, the sum is: 30\n"
     ]
    }
   ],
   "source": [
    "# Case 3\n",
    "myfunction(x,y)"
   ]
  },
  {
   "cell_type": "code",
   "execution_count": null,
   "metadata": {},
   "outputs": [],
   "source": []
  }
 ],
 "metadata": {
  "kernelspec": {
   "display_name": "Python 3 (ipykernel)",
   "language": "python",
   "name": "python3"
  },
  "language_info": {
   "codemirror_mode": {
    "name": "ipython",
    "version": 3
   },
   "file_extension": ".py",
   "mimetype": "text/x-python",
   "name": "python",
   "nbconvert_exporter": "python",
   "pygments_lexer": "ipython3",
   "version": "3.9.7"
  }
 },
 "nbformat": 4,
 "nbformat_minor": 4
}
