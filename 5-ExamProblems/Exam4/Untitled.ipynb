{
 "cells": [
  {
   "cell_type": "markdown",
   "metadata": {},
   "source": [
    "probability estimation models plotting position TC"
   ]
  },
  {
   "cell_type": "markdown",
   "metadata": {},
   "source": [
    "assess quality of a regression (residual plots) TC"
   ]
  },
  {
   "cell_type": "markdown",
   "metadata": {},
   "source": [
    "classifier boundaries with pictures TC"
   ]
  },
  {
   "cell_type": "markdown",
   "metadata": {},
   "source": [
    "logarithmic scale plotting TC"
   ]
  },
  {
   "cell_type": "markdown",
   "metadata": {},
   "source": [
    "package output and find \"things\" TC"
   ]
  }
 ],
 "metadata": {
  "kernelspec": {
   "display_name": "Python 3",
   "language": "python",
   "name": "python3"
  },
  "language_info": {
   "codemirror_mode": {
    "name": "ipython",
    "version": 3
   },
   "file_extension": ".py",
   "mimetype": "text/x-python",
   "name": "python",
   "nbconvert_exporter": "python",
   "pygments_lexer": "ipython3",
   "version": "3.8.10"
  }
 },
 "nbformat": 4,
 "nbformat_minor": 4
}
