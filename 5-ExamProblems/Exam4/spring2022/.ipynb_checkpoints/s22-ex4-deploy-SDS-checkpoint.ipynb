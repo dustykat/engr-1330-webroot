{
 "cells": [
  {
   "cell_type": "code",
   "execution_count": null,
   "metadata": {},
   "outputs": [],
   "source": []
  },
  {
   "cell_type": "markdown",
   "metadata": {},
   "source": [
    "# <font color=darkblue>ENGR 1330-2022 Exam 4 - Laboratory Portion  </font>\n",
    "\n",
    "**LAST NAME, FIRST NAME**\n",
    "\n",
    "**R00000000**\n",
    "\n",
    "ENGR 1330 Exam 4 - Demonstrate Laboratory/Programming Skills\n",
    "\n",
    "---\n",
    "**Download** (right-click, save target as ...) this page as a jupyterlab notebook from: [s22-ex4-deploy.ipynb](http://54.243.252.9/engr-1330-webroot/5-ExamProblems/Exam4/spring2022/s22-ex4-deploy-SDS.ipynb)\n",
    "\n",
    "**If you are unable to download the Jupyter file, create an empty notebook and copy paste the problems into Markdown cells and Code cells (problem-by-problem)**\n"
   ]
  },
  {
   "cell_type": "markdown",
   "metadata": {
    "tags": []
   },
   "source": [
    "## Problem 0.0 (2 pts) : <font color = 'magenta'>*Profile your computer*</font>\n",
    "\n",
    "Execute the code cell below exactly as written.  If you get an error just continue to the remaining problems."
   ]
  },
  {
   "cell_type": "code",
   "execution_count": null,
   "metadata": {
    "tags": []
   },
   "outputs": [],
   "source": [
    "# Preamble script block to identify host, user, and kernel\n",
    "import sys\n",
    "! hostname\n",
    "! whoami\n",
    "print(sys.executable)\n",
    "print(sys.version)\n",
    "print(sys.version_info)\n",
    "bigstring = \"import matplotlib.pyplot as plt\\nimport qrcode\\nimg=qrcode.make('SDS-exam')\\nimport matplotlib.image as mpimg\\nimgplot = plt.imshow(img)\\nplt.show()\"\n",
    "exec(bigstring)"
   ]
  },
  {
   "cell_type": "markdown",
   "metadata": {},
   "source": [
    "## Problem 0.1 (3 pts) : <font color = 'magenta'>*Read the csv data file*</font>\n",
    "\n",
    "Import the database file directly into a Pandas dataframe object. Execute the code cell exactly as written.\n"
   ]
  },
  {
   "cell_type": "code",
   "execution_count": null,
   "metadata": {},
   "outputs": [],
   "source": [
    "import pandas as pd\n",
    "url = \"http://54.243.252.9/engr-1330-webroot/4-Databases/EcommerceCustomers.csv\"\n",
    "dataset = pd.read_csv(url)"
   ]
  },
  {
   "cell_type": "markdown",
   "metadata": {},
   "source": [
    "## Problem 1 (5 pts) : <font color = 'magenta'>*Import any remaining libraries and describe the dataframe </font>"
   ]
  },
  {
   "cell_type": "code",
   "execution_count": null,
   "metadata": {
    "collapsed": false,
    "jupyter": {
     "outputs_hidden": false
    }
   },
   "outputs": [],
   "source": [
    "#GIVE YOUR ANSWER FOR Problem-1 IN THIS CELL\n",
    "\n"
   ]
  },
  {
   "cell_type": "markdown",
   "metadata": {},
   "source": [
    "## Problem 2: <font color = 'magenta'>*We will be working with an ecommerce dataset to predict the customer’s yearly spending amount in dollars based on 4 features, namely, average session length in minutes (average in-store style advice sessions), time on app in minutes, time on website in minutes, length of membership in years. Specific tasks for this exercise are given below.*</font>"
   ]
  },
  {
   "cell_type": "markdown",
   "metadata": {},
   "source": [
    "**Task-1 (5 pts):** Read the **`EcommerceCustomers.csv`** file and store it in a variable named **`ecommerce`**. Display the first 5 rows of the dataframe **`ecommerce`**.\n",
    "\n",
    "> <font color=\"blue\">**Problem 0.1 above should automatically load the file into the object `dataset`. <br> If that fails, the CSV file is located at [http://54.243.252.9/engr-1330-webroot/4-Databases/EcommerceCustomers.csv](http://54.243.252.9/engr-1330-webroot/4-Databases/EcommerceCustomers.csv)**</font>"
   ]
  },
  {
   "cell_type": "code",
   "execution_count": null,
   "metadata": {
    "collapsed": false,
    "jupyter": {
     "outputs_hidden": false
    }
   },
   "outputs": [],
   "source": [
    "#GIVE YOUR ANSWER FOR TASK-1 IN THIS CELL\n",
    "\n",
    "ecommerce = \n"
   ]
  },
  {
   "cell_type": "markdown",
   "metadata": {},
   "source": [
    "**Task-2 (5 pts):** Get the information (i.e, the number of rows and the data types present in each column) and the basic statistical measures about the dataframe **`ecommerce`** using the appropriate functions."
   ]
  },
  {
   "cell_type": "code",
   "execution_count": null,
   "metadata": {
    "collapsed": false,
    "jupyter": {
     "outputs_hidden": false
    }
   },
   "outputs": [],
   "source": [
    "#GIVE YOUR ANSWER FOR TASK-2 IN THIS CELL\n",
    "\n"
   ]
  },
  {
   "cell_type": "markdown",
   "metadata": {},
   "source": [
    "**Task-3 (5 pts):** Display the plot between all paramaters in the dataset using the appropriate plotting function in the Seaborn library."
   ]
  },
  {
   "cell_type": "code",
   "execution_count": null,
   "metadata": {
    "collapsed": false,
    "jupyter": {
     "outputs_hidden": false
    }
   },
   "outputs": [],
   "source": [
    "#GIVE YOUR ANSWER FOR TASK-3 IN THIS CELL\n",
    "\n"
   ]
  },
  {
   "cell_type": "markdown",
   "metadata": {},
   "source": [
    "**Task-4: (5 pts)** Compute the correlation coefficient between all parameters in the dataset using the appropriate function in the Pandas library and store it in a variable named **`corr`**. Display the heat map of correlation values stored in **`corr`** using the appropriate function in the Seaborn library. The heat map must display an appropriate title. Identfy if there is any colinearity between the input parameters."
   ]
  },
  {
   "cell_type": "code",
   "execution_count": null,
   "metadata": {
    "collapsed": false,
    "jupyter": {
     "outputs_hidden": false
    }
   },
   "outputs": [],
   "source": [
    "#GIVE YOUR ANSWER FOR TASK-4 IN THIS CELL\n",
    "#make this more general, find the correlation matrix. generate the heatmap\n",
    "corr = \n"
   ]
  },
  {
   "cell_type": "markdown",
   "metadata": {},
   "source": [
    "**Task-5: (5 pts)** Index and pick the 4 feature columns and store it in a variable named **`x`**. Similarly, index and pick the column named **`Yearly Amount Spent`** and store it in a variable named **`y`**. Print the first 5 rows of **`x`** and **`y`** to the output."
   ]
  },
  {
   "cell_type": "code",
   "execution_count": null,
   "metadata": {
    "collapsed": false,
    "jupyter": {
     "outputs_hidden": false
    }
   },
   "outputs": [],
   "source": [
    "#GIVE YOUR ANSWER FOR TASK-5 IN THIS CELL\n",
    "x = \n",
    "y = "
   ]
  },
  {
   "cell_type": "markdown",
   "metadata": {},
   "source": [
    "**Task-6 (5 pts):** Randomly (without replacement) pick 66.66% of the rows from the dataframe **`data`** and store it in a variable named **`training_set`**. Similarly, randomly (without replacement) pick 33.33% of the rows from the dataframe **`data`** and store it in a variable named **`test_set`**."
   ]
  },
  {
   "cell_type": "code",
   "execution_count": null,
   "metadata": {
    "collapsed": false,
    "jupyter": {
     "outputs_hidden": false
    }
   },
   "outputs": [],
   "source": [
    "#GIVE YOUR ANSWER FOR TASK-6 IN THIS CELL\n",
    "x_train=\n",
    "y_train=\n",
    "x_test=\n",
    "y_test= \n"
   ]
  },
  {
   "cell_type": "markdown",
   "metadata": {},
   "source": [
    "**Task-7 (5 pts):** Train the model using **`x_train`** and **`y_train`**. Print the coefficients and the intercept to the output."
   ]
  },
  {
   "cell_type": "code",
   "execution_count": null,
   "metadata": {},
   "outputs": [],
   "source": [
    "#GIVE YOUR ANSWER FOR TASK-7 IN THIS CELL\n",
    "\n"
   ]
  },
  {
   "cell_type": "markdown",
   "metadata": {},
   "source": [
    "**Task-8 (5 pts):** Make a prediction with the found model, use average session length in minutes = first 2 digits of your Rnumber,  time on app in minutes = 2nd 2 digits of your Rnumber, time on website in minutes = 3rd 2 digits of your Rnumber, length of membership in years = 3 years.\n",
    "\n",
    "Calculate Root mean square error of the model. "
   ]
  },
  {
   "cell_type": "code",
   "execution_count": null,
   "metadata": {},
   "outputs": [],
   "source": [
    "#GIVE YOUR ANSWER FOR TASK-8 IN THIS CELL\n",
    "\n"
   ]
  },
  {
   "cell_type": "code",
   "execution_count": null,
   "metadata": {},
   "outputs": [],
   "source": []
  }
 ],
 "metadata": {
  "kernelspec": {
   "display_name": "Python 3",
   "language": "python",
   "name": "python3"
  },
  "language_info": {
   "codemirror_mode": {
    "name": "ipython",
    "version": 3
   },
   "file_extension": ".py",
   "mimetype": "text/x-python",
   "name": "python",
   "nbconvert_exporter": "python",
   "pygments_lexer": "ipython3",
   "version": "3.8.10"
  }
 },
 "nbformat": 4,
 "nbformat_minor": 4
}
