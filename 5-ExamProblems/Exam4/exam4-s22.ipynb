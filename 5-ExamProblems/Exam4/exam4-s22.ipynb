{
 "cells": [
  {
   "cell_type": "markdown",
   "metadata": {},
   "source": [
    "# Question File Naming\n",
    "\n",
    "Exam 03 - topic"
   ]
  },
  {
   "cell_type": "markdown",
   "metadata": {},
   "source": [
    "# Topic list\n",
    "- probability estimation models\n",
    "  - plotting position and data ordering\n",
    "- regression\n",
    "  - summary tables (choose to omit parameter)\n",
    "  - which regression fits a dataset better (R2)\n",
    "- classification\n",
    "  - general concepts \n",
    "  - simple problem\n",
    "- general cool python shit\n",
    "  - constructor notation\n",
    "  - \n",
    "- optimization topics\n",
    "  - \n",
    "  \n",
    "1. probability estimation models plotting position TC\n",
    "2. constructor notation for polynmoial in sklearn JD\n",
    "3. which regression fits better based on R2 NI\n",
    "4. vectorization for computational efficiency SA\n",
    "5. what is meaning of confusion matrix BB\n",
    "6. assess quality of a regression (residual plots) TC\n",
    "7. accuracy/precision from residuals JD\n",
    "8. general regression concept NI\n",
    "9. simple classification problem SA\n",
    "10. setting up the design matrix (2-nd order, 3-rd order, etc ...) BB\n",
    "11. classifier boundaries with pictures TC\n",
    "12. how is correlation coefficient related to a linear regression (single variable) JD\n",
    "13. prediction interval NI\n",
    "14. concept classification decision boundary SA\n",
    "15. error measures (SSE, MSE, RMSE) why are each used? BB\n",
    "16. logarithmic scale plotting TC\n",
    "17. bias and error meaning JD\n",
    "18. classification general concept NI\n",
    "19. collinearity influences SA\n",
    "20. quantiles BB\n",
    "21. package output and find \"things\" TC\n",
    "22. correlation (graphically) JD\n",
    "23. R2 meaning of the coefficient NI\n",
    "24. overfitting/underfitting a classification engine SA\n",
    "25. classification training and testing sets BB"
   ]
  },
  {
   "cell_type": "code",
   "execution_count": null,
   "metadata": {},
   "outputs": [],
   "source": [
    "# Topic list\n",
    "- probability estimation models\n",
    "  - plotting position and data ordering\n",
    "- regression\n",
    "  - summary tables (choose to omit parameter)\n",
    "  - which regression fits a dataset better (R2)\n",
    "- classification\n",
    "  - general concepts \n",
    "  - simple problem\n",
    "- general cool python shit\n",
    "  - constructor notation\n",
    "  - \n",
    "- optimization topics\n",
    "  - "
   ]
  }
 ],
 "metadata": {
  "kernelspec": {
   "display_name": "Python 3",
   "language": "python",
   "name": "python3"
  },
  "language_info": {
   "codemirror_mode": {
    "name": "ipython",
    "version": 3
   },
   "file_extension": ".py",
   "mimetype": "text/x-python",
   "name": "python",
   "nbconvert_exporter": "python",
   "pygments_lexer": "ipython3",
   "version": "3.8.10"
  }
 },
 "nbformat": 4,
 "nbformat_minor": 4
}
