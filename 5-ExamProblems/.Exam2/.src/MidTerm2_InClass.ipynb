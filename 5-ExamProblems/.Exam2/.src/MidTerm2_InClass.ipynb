{
 "cells": [
  {
   "cell_type": "markdown",
   "metadata": {},
   "source": [
    "## In Class Part"
   ]
  },
  {
   "cell_type": "markdown",
   "metadata": {},
   "source": [
    "#### Q1: Which statement is FALSE ?\n",
    "**A) Correlation means causation**<br>\n",
    "**B) Correlation can be used to identify potential cause and effect**<br>\n",
    "**C) Any relation between the treatment and the outcome is called an association**<br>\n",
    "**D) All of the above**<br>"
   ]
  },
  {
   "cell_type": "code",
   "execution_count": null,
   "metadata": {
    "collapsed": false,
    "jupyter": {
     "outputs_hidden": false
    }
   },
   "outputs": [],
   "source": [
    "#Answer is A"
   ]
  },
  {
   "cell_type": "markdown",
   "metadata": {},
   "source": [
    "#### Q2: What probability is higher?\n",
    "**A) Rolling three consecutive perfect 20s with a D20**<br>\n",
    "**B) Drawing four aces back to back (without replacement)**<br>\n",
    "__C) Rolling ten consecutive 6s with a D6__<br>\n",
    "**D) Drawing four aces back to back (with replacement)**<br>"
   ]
  },
  {
   "cell_type": "code",
   "execution_count": 3,
   "metadata": {
    "collapsed": false,
    "jupyter": {
     "outputs_hidden": false
    }
   },
   "outputs": [
    {
     "name": "stdout",
     "output_type": "stream",
     "text": [
      "0.00012500000000000003 3.6937852063902484e-06 1.6538171687920194e-08 3.501277966457758e-05\n"
     ]
    }
   ],
   "source": [
    "#Answer is A\n",
    "#For Developers' eye only !\n",
    "a = (1/20)*(1/20)*(1/20)\n",
    "b= (4/52)*(3/51)*(2/50)*(1/49)\n",
    "c= (1/6)*(1/6)*(1/6)*(1/6)*(1/6)*(1/6)*(1/6)*(1/6)*(1/6)*(1/6)\n",
    "d= (4/52)*(4/52)*(4/52)*(4/52)\n",
    "print(a,b,c,d)"
   ]
  },
  {
   "cell_type": "markdown",
   "metadata": {},
   "source": [
    "#### Q3: Which statement is False?\n",
    "**A) Events that are certain have probability 1**<br>\n",
    "**B) \"Chance\" only refers to probabilities that are greater than or equal to 0.5**<br>\n",
    "__C) Probabilities are numbers between 0 and 1__<br>\n",
    "**D) Impossible events have probability 0**<br>"
   ]
  },
  {
   "cell_type": "code",
   "execution_count": null,
   "metadata": {
    "collapsed": false,
    "jupyter": {
     "outputs_hidden": false
    }
   },
   "outputs": [],
   "source": [
    "#Asnwer is B"
   ]
  },
  {
   "cell_type": "markdown",
   "metadata": {},
   "source": [
    "#### Q4: When an event can happen in one of two different ways, the chance that it happens is a sum of chances, and hence bigger than the chance of either of the individual ways.\n",
    "**A) TRUE**<br>\n",
    "**B) FALSE**<br>"
   ]
  },
  {
   "cell_type": "code",
   "execution_count": null,
   "metadata": {
    "collapsed": false,
    "jupyter": {
     "outputs_hidden": false
    }
   },
   "outputs": [],
   "source": [
    "#Asnwer is A | TRUE"
   ]
  },
  {
   "cell_type": "markdown",
   "metadata": {},
   "source": [
    "#### Q5: Which statement is True?\n",
    "**A) An Experiment is an occurrence with a certain outcome that we have observed.**<br>\n",
    "**B) Sample Space is another term for population**<br>\n",
    "__C) An Outcome is the result of an experiment__<br>\n",
    "**D) All of the above**<br>"
   ]
  },
  {
   "cell_type": "code",
   "execution_count": null,
   "metadata": {
    "collapsed": false,
    "jupyter": {
     "outputs_hidden": false
    }
   },
   "outputs": [],
   "source": [
    "#Asnwer is C"
   ]
  },
  {
   "cell_type": "markdown",
   "metadata": {},
   "source": [
    "#### Q6: Which one is NOT a central tendency measure?\n",
    "**A) Mean**<br>\n",
    "**B) Median**<br>\n",
    "__C) Mode__<br>\n",
    "**D) Standard Deviation**<br>"
   ]
  },
  {
   "cell_type": "code",
   "execution_count": null,
   "metadata": {
    "collapsed": false,
    "jupyter": {
     "outputs_hidden": false
    }
   },
   "outputs": [],
   "source": [
    "# Answer is D"
   ]
  },
  {
   "cell_type": "markdown",
   "metadata": {},
   "source": [
    "#### Q7: Which one can be used to give a sense of a typical value we would expect to see in a distribution.\n",
    "**A) Geometric Mean**<br>\n",
    "**B) Harmonic Mean**<br>\n",
    "__C) Arithmetic Mean__<br>\n",
    "**D) All of the above**<br>"
   ]
  },
  {
   "cell_type": "code",
   "execution_count": null,
   "metadata": {
    "collapsed": false,
    "jupyter": {
     "outputs_hidden": false
    }
   },
   "outputs": [],
   "source": [
    "# Answer is D"
   ]
  },
  {
   "cell_type": "markdown",
   "metadata": {},
   "source": [
    "#### Q8: If values are rates, it is better to use the geometric mean.\n",
    "**A) TRUE**<br>\n",
    "**B) FALSE**<br>"
   ]
  },
  {
   "cell_type": "code",
   "execution_count": null,
   "metadata": {
    "collapsed": false,
    "jupyter": {
     "outputs_hidden": false
    }
   },
   "outputs": [],
   "source": [
    "# Answer is B | False"
   ]
  },
  {
   "cell_type": "markdown",
   "metadata": {},
   "source": [
    "#### Q9: Which statement is TRUE about mean and median?\n",
    "**A) Median is always a better measure for central tendency**<br>\n",
    "**B) Mean is always a better measure for central tendency**<br>\n",
    "__C) Mean is a better summary because the information from every observation is included__<br>\n",
    "**D) Median is a better summary because the information from every observation is included**<br>"
   ]
  },
  {
   "cell_type": "code",
   "execution_count": null,
   "metadata": {
    "collapsed": false,
    "jupyter": {
     "outputs_hidden": false
    }
   },
   "outputs": [],
   "source": [
    "# Answer is C"
   ]
  },
  {
   "cell_type": "markdown",
   "metadata": {},
   "source": [
    "#### Q10: Measures of dispersion describe how the data varies.\n",
    "**A) TRUE**<br>\n",
    "**B) FALSE**<br>"
   ]
  },
  {
   "cell_type": "code",
   "execution_count": null,
   "metadata": {
    "collapsed": false,
    "jupyter": {
     "outputs_hidden": false
    }
   },
   "outputs": [],
   "source": [
    "# Answer is A | TRUE"
   ]
  },
  {
   "cell_type": "markdown",
   "metadata": {},
   "source": [
    "#### Q11: Which one is true about the 5-number summary in Python?\n",
    "**A) Includes Min, Max, Mean, Median and IQR**<br>\n",
    "**B) Is graphically represented with a histogram with the KDE curve**<br>\n",
    "__C) Is accessible via the describe() function in the Pandas library__<br>\n",
    "**D) A and C**<br>"
   ]
  },
  {
   "cell_type": "code",
   "execution_count": 1,
   "metadata": {
    "collapsed": false,
    "jupyter": {
     "outputs_hidden": false
    }
   },
   "outputs": [],
   "source": [
    "# Answer is C"
   ]
  },
  {
   "cell_type": "markdown",
   "metadata": {},
   "source": [
    "#### Q12: Variance...\n",
    "**A) has the same unit as the data points**<br>\n",
    "__B) is equal to Standard Deviation raised to the power of 2__<br>\n",
    "**C) can only be computed for the samples and not the population**<br>\n",
    "**D) is a measure of data asymmetry**<br>\n",
    "\n"
   ]
  },
  {
   "cell_type": "code",
   "execution_count": null,
   "metadata": {
    "collapsed": false,
    "jupyter": {
     "outputs_hidden": false
    }
   },
   "outputs": [],
   "source": [
    "# Answer is B"
   ]
  },
  {
   "cell_type": "markdown",
   "metadata": {},
   "source": [
    "#### Q13: Which statement is true about Skewness?\n",
    "**A) measures the distance among quartiles in the data samples**<br>\n",
    "**B) negative skewness values indicate that there’s a dominant tail on the left side**<br>\n",
    "__C) Positive skewness values indicate that the dataset is symmetrical__<br>\n",
    "**D) Close to 0 values for skewness means that the sample size is not large enough**<br>"
   ]
  },
  {
   "cell_type": "code",
   "execution_count": null,
   "metadata": {
    "collapsed": false,
    "jupyter": {
     "outputs_hidden": false
    }
   },
   "outputs": [],
   "source": [
    "# Answer is B"
   ]
  },
  {
   "cell_type": "markdown",
   "metadata": {},
   "source": [
    "#### Q14: Which statement is FALSE about Probability Estimation Modeling?\n",
    "\n",
    "**A) The probability distributions are tools to describe the population that the observed (sample) data values belong to.**<br>\n",
    "**B) A probability distribution is just a model of the data**<br>\n",
    "__C) The distribution data models that are suitable for extreme values do not integrate to unity on the domain $-\\infty~to ~ \\infty$.__<br>\n",
    "**D) The distribution data models can be used to explore the exceedance and non-exceedance probability for specific values**<br>"
   ]
  },
  {
   "cell_type": "code",
   "execution_count": null,
   "metadata": {
    "collapsed": false,
    "jupyter": {
     "outputs_hidden": false
    }
   },
   "outputs": [],
   "source": [
    "# Answer is C"
   ]
  },
  {
   "cell_type": "markdown",
   "metadata": {},
   "source": [
    "#### Q15: The Exceedance Probability is the probability that we will observe a value of the random variable less than or equal to some sentinel value.\n",
    "**A) TRUE**<br>\n",
    "**B) FALSE**<br>"
   ]
  },
  {
   "cell_type": "code",
   "execution_count": null,
   "metadata": {
    "collapsed": false,
    "jupyter": {
     "outputs_hidden": false
    }
   },
   "outputs": [],
   "source": [
    "# Answer is A | TRUE"
   ]
  },
  {
   "cell_type": "markdown",
   "metadata": {},
   "source": [
    "#### Q16: Which one is correct about Plotting Position?\n",
    "**A) is a function of sample size and the rank of the particular sample.**<br>\n",
    "**B) Weibull is another name for the Plotting Position Formula**<br>\n",
    "__C) Does not work appropriately with negative values in the samples__<br>\n",
    "**D) provides a graphical representation of the population**<br>"
   ]
  },
  {
   "cell_type": "code",
   "execution_count": null,
   "metadata": {
    "collapsed": false,
    "jupyter": {
     "outputs_hidden": false
    }
   },
   "outputs": [],
   "source": [
    "# Answer is A "
   ]
  },
  {
   "cell_type": "markdown",
   "metadata": {},
   "source": [
    "#### Q17: Which statement is FALSE?\n",
    "**A) Hypothesis testing is a statistical method that is used in making statistical decisions (about population) using experimental data (samples)**<br>\n",
    "**B) A hypothesis test evaluates two mutually exclusive statements about a population to determine which statement is best supported by the sample data**<br>\n",
    "__C) Depending on the research question, a hypothesis test can have one or two tails__<br>\n",
    "**D) Depending on the p-value we can either Accept or Reject the null hypothesis**<br>"
   ]
  },
  {
   "cell_type": "code",
   "execution_count": null,
   "metadata": {
    "collapsed": false,
    "jupyter": {
     "outputs_hidden": false
    }
   },
   "outputs": [],
   "source": [
    "# Answer is D "
   ]
  },
  {
   "cell_type": "markdown",
   "metadata": {},
   "source": [
    "#### Q18: Which statement is TRUE?\n",
    "**A) p-value is defined by the user**<br>\n",
    "**B) A larger significance level indicates a higher confidence level for the test**<br>\n",
    "__C) If p-value <= alpha, we can Reject the null hypothesis__<br>\n",
    "**D) All of the above**<br>"
   ]
  },
  {
   "cell_type": "code",
   "execution_count": null,
   "metadata": {
    "collapsed": false,
    "jupyter": {
     "outputs_hidden": false
    }
   },
   "outputs": [],
   "source": [
    "# Answer is C "
   ]
  },
  {
   "cell_type": "markdown",
   "metadata": {},
   "source": [
    "#### Q19: Mr. Pink tests for COVID-19 and the results are positive. Doctors repeat the test on him right away and this time, the results are negative. After two more repeats, the results remain negative. What type of Error happend in the first time?\n",
    "**A) Type I**<br>\n",
    "**B) Type II**<br>\n",
    "__C) Type III__<br>\n",
    "**D) There was no error**<br>\n",
    "\n"
   ]
  },
  {
   "cell_type": "code",
   "execution_count": null,
   "metadata": {
    "collapsed": false,
    "jupyter": {
     "outputs_hidden": false
    }
   },
   "outputs": [],
   "source": [
    "# Answer is A "
   ]
  },
  {
   "cell_type": "markdown",
   "metadata": {},
   "source": [
    "#### Q20: Which one is NOT true about the Shapiro-Wilk Test?\n",
    "**A) Tests whether a data sample has a Gaussian distribution**<br>\n",
    "**B) Is a parametric test**<br>\n",
    "__C) The null hypothesis is that the sample has a Gaussian distribution__<br>\n",
    "**D) Assumes that the observations in each sample are independent**<br>"
   ]
  },
  {
   "cell_type": "code",
   "execution_count": null,
   "metadata": {
    "collapsed": false,
    "jupyter": {
     "outputs_hidden": false
    }
   },
   "outputs": [],
   "source": [
    "# Answer if B"
   ]
  },
  {
   "cell_type": "markdown",
   "metadata": {},
   "source": [
    "#### Q21: Which function cannot be used if we are not sure about the distribution of our data samples?\n",
    "**A) scipy.stats.mannwhitneyu**<br>\n",
    "**B) scipy.stats.wilcoxon**<br>\n",
    "__C) scipy.stats.ttest_ind__<br>\n",
    "**D) scipy.stats.kruskal**<br>"
   ]
  },
  {
   "cell_type": "code",
   "execution_count": null,
   "metadata": {
    "collapsed": false,
    "jupyter": {
     "outputs_hidden": false
    }
   },
   "outputs": [],
   "source": [
    "# Answer if C"
   ]
  },
  {
   "cell_type": "markdown",
   "metadata": {},
   "source": [
    "#### Q22: Which statement is FALSE about the Normal Distribution Data Model?\n",
    "**A) has a symmetrical shape**<br>\n",
    "**B) has a bell-shaped curve**<br>\n",
    "__C) the mean, median, and mode are equal and equal to 0__<br>\n",
    "**D) Extreme values fall under the tails**<br>"
   ]
  },
  {
   "cell_type": "code",
   "execution_count": null,
   "metadata": {
    "collapsed": false,
    "jupyter": {
     "outputs_hidden": false
    }
   },
   "outputs": [],
   "source": [
    "# Answer if C"
   ]
  },
  {
   "cell_type": "markdown",
   "metadata": {},
   "source": [
    "## Take-Home Part | Alternatives for Bonus Questions"
   ]
  },
  {
   "cell_type": "markdown",
   "metadata": {},
   "source": [
    "#### Question: Precipitation records for Lubbock from 1895 to 2019 for the month of October is given to you. Use all the relative techniques that you have learned (e.g., descriptive statistics, probability estimation modelling, hypothesis testing) to explore and describe this dataset- Visually and Numerically.\n",
    "#### For each step explain what you are looking for, how you want to do it, and what can you report based on it.\n",
    "#### At the end, in a paragraph or two, describe all the important points of your findings in your own words.\n"
   ]
  },
  {
   "cell_type": "code",
   "execution_count": null,
   "metadata": {
    "collapsed": false,
    "jupyter": {
     "outputs_hidden": false
    }
   },
   "outputs": [],
   "source": []
  },
  {
   "cell_type": "code",
   "execution_count": null,
   "metadata": {
    "collapsed": false,
    "jupyter": {
     "outputs_hidden": false
    }
   },
   "outputs": [],
   "source": []
  },
  {
   "cell_type": "code",
   "execution_count": null,
   "metadata": {
    "collapsed": false,
    "jupyter": {
     "outputs_hidden": false
    }
   },
   "outputs": [],
   "source": []
  },
  {
   "cell_type": "code",
   "execution_count": null,
   "metadata": {
    "collapsed": false,
    "jupyter": {
     "outputs_hidden": false
    }
   },
   "outputs": [],
   "source": []
  },
  {
   "cell_type": "code",
   "execution_count": null,
   "metadata": {
    "collapsed": false,
    "jupyter": {
     "outputs_hidden": false
    }
   },
   "outputs": [],
   "source": []
  },
  {
   "cell_type": "code",
   "execution_count": null,
   "metadata": {
    "collapsed": false,
    "jupyter": {
     "outputs_hidden": false
    }
   },
   "outputs": [],
   "source": []
  },
  {
   "cell_type": "code",
   "execution_count": null,
   "metadata": {
    "collapsed": false,
    "jupyter": {
     "outputs_hidden": false
    }
   },
   "outputs": [],
   "source": []
  },
  {
   "cell_type": "markdown",
   "metadata": {},
   "source": [
    "#### Question: \n",
    "- A) Write a function to find the probability of an event in percentage form based on given outcomes and sample space\n",
    "- B) Use the function and compute the probability of rolling a number between 12 and 18 (inclusive) with a D20\n",
    "- C) Use the function and compute the probability of drawing a King of hearts after drawing a card of diamonds from a standard deck of cards (without replacement)\n",
    "- D) Use the function and compute the probability of drawing a Queen or a King or a 5 of spades."
   ]
  },
  {
   "cell_type": "code",
   "execution_count": 1,
   "metadata": {
    "collapsed": false,
    "jupyter": {
     "outputs_hidden": false
    }
   },
   "outputs": [],
   "source": [
    "# A\n",
    "# Create function that returns probability percent rounded to one decimal place\n",
    "def Prob(outcome, sampspace):\n",
    "    probability = (outcome / sampspace) * 100\n",
    "    return round(probability, 1)"
   ]
  },
  {
   "cell_type": "code",
   "execution_count": 3,
   "metadata": {
    "collapsed": false,
    "jupyter": {
     "outputs_hidden": false
    }
   },
   "outputs": [
    {
     "data": {
      "text/plain": [
       "35.0"
      ]
     },
     "execution_count": 3,
     "metadata": {},
     "output_type": "execute_result"
    }
   ],
   "source": [
    "# B\n",
    "outcome = 7       #rolling a number between 12 and 18 (inclusive)\n",
    "space = 20         #Rolling a D20\n",
    "Prob(outcome, space)\n"
   ]
  },
  {
   "cell_type": "code",
   "execution_count": 4,
   "metadata": {
    "collapsed": false,
    "jupyter": {
     "outputs_hidden": false
    }
   },
   "outputs": [
    {
     "data": {
      "text/plain": [
       "0.5"
      ]
     },
     "execution_count": 4,
     "metadata": {},
     "output_type": "execute_result"
    }
   ],
   "source": [
    "# C\n",
    "outcome1 = 1\n",
    "space1 = 51\n",
    "outcome2= 13\n",
    "space2 = 52\n",
    "Prob_KD= ((Prob(outcome1, space1)/100) * (Prob(outcome2, space2)/100))*100 \n",
    "Prob_KD"
   ]
  },
  {
   "cell_type": "code",
   "execution_count": 5,
   "metadata": {
    "collapsed": false,
    "jupyter": {
     "outputs_hidden": false
    }
   },
   "outputs": [
    {
     "data": {
      "text/plain": [
       "17.3"
      ]
     },
     "execution_count": 5,
     "metadata": {},
     "output_type": "execute_result"
    }
   ],
   "source": [
    "# D\n",
    "outcome1 = 4\n",
    "space1 = 52\n",
    "outcome2= 4\n",
    "space2 = 52\n",
    "outcome3= 1\n",
    "space3 = 52\n",
    "Prob_QK5= Prob(outcome1, space1) + Prob(outcome2, space2) + Prob(outcome3, space3)\n",
    "Prob_QK5"
   ]
  },
  {
   "cell_type": "code",
   "execution_count": null,
   "metadata": {
    "collapsed": false,
    "jupyter": {
     "outputs_hidden": false
    }
   },
   "outputs": [],
   "source": []
  }
 ],
 "metadata": {
  "kernelspec": {
   "display_name": "Python 3",
   "language": "python",
   "name": "python3"
  },
  "language_info": {
   "codemirror_mode": {
    "name": "ipython",
    "version": 3
   },
   "file_extension": ".py",
   "mimetype": "text/x-python",
   "name": "python",
   "nbconvert_exporter": "python",
   "pygments_lexer": "ipython3",
   "version": "3.6.9"
  }
 },
 "nbformat": 4,
 "nbformat_minor": 4
}
