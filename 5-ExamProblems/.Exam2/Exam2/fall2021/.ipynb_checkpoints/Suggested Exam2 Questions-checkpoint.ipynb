{
 "cells": [
  {
   "cell_type": "markdown",
   "metadata": {},
   "source": [
    "# <font color=red>Suggested EXAM 2 Questions </font>\n",
    "\n"
   ]
  },
  {
   "cell_type": "markdown",
   "metadata": {},
   "source": [
    "___\n",
    "___\n",
    "## <font color=blue>In-Class Portion</font>"
   ]
  },
  {
   "cell_type": "markdown",
   "metadata": {},
   "source": [
    "### 1. Which one belongs to the numpy library? <br>\n",
    "\n",
    "\n",
    " A) range()  <br>\n",
    " B) read_csv() <br>\n",
    " C) hist() <br>\n",
    " D) array() <br>\n",
    " \n",
    "#### Correct Answer: D"
   ]
  },
  {
   "cell_type": "markdown",
   "metadata": {},
   "source": [
    "### 2. What will be produced by the code below? <br>\n",
    "\n",
    "> np.array([[1,2,3],[4,5,6]])\n",
    "\n",
    " A) A data frame  <br>\n",
    " B) A 1D numpy array <br>\n",
    " C) A 2D numpy array with 2 rows and 3 columns <br>\n",
    " D) A 2D numpy array with 3 rows and 2 columns <br>\n",
    "\n",
    "#### Correct Answer: C"
   ]
  },
  {
   "cell_type": "markdown",
   "metadata": {},
   "source": [
    "### 3. Which function creates an Identity matrix? <br>\n",
    "\n",
    "\n",
    " A) identity()  <br>\n",
    " B) eye() <br>\n",
    " C) I() <br>\n",
    " D) none of the above. <br>\n",
    " \n",
    "#### Correct Answer: B"
   ]
  },
  {
   "cell_type": "markdown",
   "metadata": {},
   "source": [
    "### 4. Which one is a more accurate description for how a Pandas Series Object looks? <br>\n",
    "\n",
    "\n",
    " A) a dictionary of different variables  <br>\n",
    " B) a table of numbers with different rows and columns <br>\n",
    " C) a sequence of numbers  <br>\n",
    " D) a column of contents <br>\n",
    " \n",
    "#### Correct Answer: D"
   ]
  },
  {
   "cell_type": "markdown",
   "metadata": {},
   "source": [
    "### 5. Which one can be used to create a Pandas Dataframe? <br>\n",
    "\n",
    "\n",
    " A) A dictionary   <br>\n",
    " B) A list <br>\n",
    " C) A numpy array <br>\n",
    " D) All of the above <br>\n",
    " \n",
    "#### Correct Answer: D"
   ]
  },
  {
   "cell_type": "markdown",
   "metadata": {},
   "source": [
    "### 6. True or False: The row index for Pandas Dataframes must start at 0.  <br>\n",
    "\n",
    "\n",
    " A) TRUE  <br>\n",
    " B) FALSE <br>\n",
    " \n",
    "#### Correct Answer: B"
   ]
  },
  {
   "cell_type": "markdown",
   "metadata": {},
   "source": [
    "### 7. Which one provides the 5-number summary of the numerical columns? <br>\n",
    "\n",
    "\n",
    " A) info()   <br>\n",
    " B) fivesum() <br>\n",
    " C) describe() <br>\n",
    " D) summary() <br>\n",
    " \n",
    "#### Correct Answer: C"
   ]
  },
  {
   "cell_type": "markdown",
   "metadata": {},
   "source": [
    "### 8. A figure can include multiple plots in Matplotlib.  <br>\n",
    "\n",
    "\n",
    " A) TRUE  <br>\n",
    " B) FALSE <br>\n",
    " \n",
    "#### Correct Answer: A"
   ]
  },
  {
   "cell_type": "markdown",
   "metadata": {},
   "source": [
    "### 9. Which one is not a valid plotting function from Matplotlib? <br>\n",
    "\n",
    "\n",
    " A) scatter() <br>\n",
    " B) multiple.plotting() <br>\n",
    " C) hist() <br>\n",
    " D) barh() <br>\n",
    " \n",
    "#### Correct Answer: B"
   ]
  },
  {
   "cell_type": "markdown",
   "metadata": {},
   "source": [
    "### 10. Which one is not a common element in a file path: <br>\n",
    "\n",
    "\n",
    " A) File size <br>\n",
    " B) Folder path <br>\n",
    " C) File name <br>\n",
    " D) File Extension <br>\n",
    " \n",
    "#### Correct Answer: A"
   ]
  },
  {
   "cell_type": "markdown",
   "metadata": {},
   "source": [
    "### 11. True or False: A \"File System\" is a method of storing and organizing computer files and their data. <br>\n",
    "\n",
    "\n",
    " A) TRUE  <br>\n",
    " B) FALSE <br>\n",
    " \n",
    "#### Correct Answer: A"
   ]
  },
  {
   "cell_type": "markdown",
   "metadata": {},
   "source": [
    "### 12. CRUD stands for ... <br>\n",
    "\n",
    "\n",
    " A) Count, Run, Undo, Delete <br>\n",
    " B) Create, Run, Update, Done <br>\n",
    " C) Create, Read, Update, Delete <br>\n",
    " D) Count, Read, Undo, Done <br>\n",
    " \n",
    "#### Correct Answer: C"
   ]
  },
  {
   "cell_type": "markdown",
   "metadata": {},
   "source": [
    "### 13. What will the following code do for us? <br>\n",
    "\n",
    "> import os <br>\n",
    "os.getcwd()\n",
    "\n",
    "\n",
    " A) It will import the function \"os\" and print the path to the working directory <br>\n",
    " B) It will import the library \"os\" and print the path to the notebook file <br>\n",
    " C) It will import the function \"os\" and print the path to the notebook file <br>\n",
    " D) It will import the library \"os\" and print the path to the working directory <br>\n",
    " \n",
    "#### Correct Answer: D"
   ]
  },
  {
   "cell_type": "markdown",
   "metadata": {},
   "source": [
    "### 14. In the code below, what does \"a\" stand for? <br>\n",
    "\n",
    "> externalfile = open(\"file.txt\",'a')\n",
    "\n",
    "\n",
    "\n",
    " A) A variable's name <br>\n",
    " B) A setting to \"Ask\" for user input <br>\n",
    " C) Append <br>\n",
    " D) All <br>\n",
    " \n",
    "#### Correct Answer: C"
   ]
  },
  {
   "cell_type": "markdown",
   "metadata": {},
   "source": [
    "### 15. Which one is NOT a valid reason to use Numpy? <br>\n",
    "\n",
    "\n",
    "\n",
    "\n",
    " A) Numpy offers more speed in handling numeric data <br>\n",
    " B) Numpy has many functions to handle dataframes easily <br>\n",
    " C) Numpy allows for clearer codes as it reduces the number of required loops <br>\n",
    " D) Numpy arrays are much more memory efficient in comparison to regular python lists and tuples.  <br>\n",
    " \n",
    "#### Correct Answer: B"
   ]
  },
  {
   "cell_type": "markdown",
   "metadata": {},
   "source": [
    "### 16. Which one is correct about the code cell below? <br>\n",
    "\n",
    "> np.full((A,B), C)\n",
    "\n",
    "\n",
    " A) A is the number of rows <br>\n",
    " B) B is the number of rows  <br>\n",
    " C) C is the shape of the array <br>\n",
    " D) It creates a sequence of numbers from A to B with C steps. <br>\n",
    " \n",
    "#### Correct Answer: A"
   ]
  },
  {
   "cell_type": "markdown",
   "metadata": {},
   "source": [
    "### 17. True or False: We can sort a numpy array in columns but not in rows. <br>\n",
    "\n",
    "\n",
    " A) TRUE  <br>\n",
    " B) FALSE <br>\n",
    " \n",
    "#### Correct Answer: B"
   ]
  },
  {
   "cell_type": "markdown",
   "metadata": {},
   "source": [
    "### 18. Which one is correct? <br>\n",
    "\n",
    "\n",
    "\n",
    "\n",
    " A) An experiment is an occurrence with a certain outcome that we can observe. <br>\n",
    " B) Sample space is the set of all possible outcomes that we are interested in. <br>\n",
    " C) Outcome is the result of an experiment. <br>\n",
    " D) Probability is the number of favorable cases divided by the number of unfavorable cases for any given experiment.  <br>\n",
    " \n",
    "#### Correct Answer: C"
   ]
  },
  {
   "cell_type": "markdown",
   "metadata": {},
   "source": [
    "### 19. Which one is correct about \"loc\" and \"iloc\"? <br>\n",
    "\n",
    "\n",
    "\n",
    "\n",
    " A) \"loc\" locates a column by name <br>\n",
    " B) \"iloc\" locates a column by name  <br>\n",
    " C) \"loc\" locates a row by name <br>\n",
    " D) \"iloc\" locates a row by name <br>\n",
    " \n",
    "#### Correct Answer: C"
   ]
  },
  {
   "cell_type": "markdown",
   "metadata": {},
   "source": [
    "### 20. True or False: Pandas allows for having multiple conditions in conditional selection. <br>\n",
    "\n",
    "\n",
    " A) TRUE  <br>\n",
    " B) FALSE <br>\n",
    " \n",
    "#### Correct Answer: A"
   ]
  },
  {
   "cell_type": "markdown",
   "metadata": {},
   "source": [
    "### 21. Which one is not an essential element in a plot? <br>\n",
    "\n",
    "\n",
    "\n",
    "\n",
    " A) Title <br>\n",
    " B) Figure <br>\n",
    " C) Axes labels <br>\n",
    " D) Axes <br>\n",
    " \n",
    "#### Correct Answer: B"
   ]
  },
  {
   "cell_type": "markdown",
   "metadata": {},
   "source": [
    "### 22. A correlation coefficient of r= -0.74, implies that the linear relationship between the two variables is ... <br>\n",
    "\n",
    "\n",
    "\n",
    " A) weak and reverse <br>\n",
    " B) strong and direct  <br>\n",
    " C) weak and direct <br>\n",
    " D) strong and reverse <br>\n",
    " \n",
    "#### Correct Answer: D"
   ]
  },
  {
   "cell_type": "markdown",
   "metadata": {},
   "source": [
    "### 23. Which one has a higher probability? <br>\n",
    "\n",
    "\n",
    "\n",
    " A) Rolling a number greater than 4 on a D6 <br>\n",
    " B) Rolling a number divisible by 5 on a D20  <br>\n",
    " C) Rolling an even number on a D8 <br>\n",
    " D) Drawing an ace or a king or a queen from a deck of cards <br>\n",
    " \n",
    "#### Correct Answer: C"
   ]
  },
  {
   "cell_type": "markdown",
   "metadata": {},
   "source": [
    "### 24. Causation is a statistical measure (expressed as a number) that describes the size and direction of a relationship between two or more variables. <br>\n",
    "\n",
    "\n",
    " A) TRUE  <br>\n",
    " B) FALSE <br>\n",
    " \n",
    "#### Correct Answer: B"
   ]
  },
  {
   "cell_type": "markdown",
   "metadata": {},
   "source": [
    "### 25. The variables x and y has an inverse relationship with a moderate correlation. Which one of the options below can be the Pearson Correlation Coefficient calculated for the two variables x and y.  <br>\n",
    "\n",
    "\n",
    "\n",
    " A) -0.45 <br>\n",
    " B) 0.49  <br>\n",
    " C) -0.12 <br>\n",
    " D) 0.83 <br>\n",
    " \n",
    "#### Correct Answer: A"
   ]
  },
  {
   "cell_type": "markdown",
   "metadata": {},
   "source": [
    "___\n",
    "___\n",
    "## <font color=blue>Take-Home Portion</font>"
   ]
  },
  {
   "cell_type": "markdown",
   "metadata": {},
   "source": [
    "## Full name: \n",
    "## R#: \n",
    "## Title of the notebook:\n",
    "## Date: "
   ]
  },
  {
   "cell_type": "markdown",
   "metadata": {},
   "source": [
    "> # <font color=darkred>Important Notes: </font> <br>\n",
    "> ### 0. Work directly in this notebook, upon completion render the notebook as a PDF file.\n",
    "> ### 1. Please make sure that you have your information ***in the box above!***\n",
    "> ### 2. You ***CAN*** use your ***notes, notebooks, Google, and the internet.*** \n",
    "> ### 3. You ***CAN NOT*** collaborate in any ways or forms with anyone. It is and will be considered as cheating.\n",
    "> ### 4. Please ***READ the questions CAREFULLY.*** \n",
    "> ### 5. Then, ***READ the questions again.*** \n",
    "> ### 6. ***Provide comments*** for your codes. Your code should be ***readable for someone with very basic Python skills.***\n",
    "> ### 7. If you are using the resources on the internet, make sure to ***observe all the steps of the CCMR process: Copy, Cite, Modify, and Run.***\n",
    "> ### 8. Consulting with each other is **not** permitted. Sharing work with each other is **not** permitted. Working together is **not** permitted.\n",
    "> ### 9. YOU NEED TO SUBMIT 2 FILES: YOUR NOTEBOOK (.ipynb file) ***AND*** ITS PDF (.pdf file) on ***Blackboard before the deadline.***\n",
    "> ### 10. You have ***48 hours (2 days)*** to submit your answers. ***Multiple attempts*** are allowed but ***only the last submission will be graded.***"
   ]
  },
  {
   "cell_type": "markdown",
   "metadata": {},
   "source": [
    "___\n",
    "# Question 0 (5 pts): To begin ...\n",
    "\n",
    "#### Run the cell below, and leave the results in your notebook. "
   ]
  },
  {
   "cell_type": "code",
   "execution_count": 3,
   "metadata": {},
   "outputs": [
    {
     "name": "stdout",
     "output_type": "stream",
     "text": [
      "DESKTOP-EH6HD63\n",
      "desktop-eh6hd63\\farha\n",
      "C:\\Users\\Farha\\Anaconda3\\python.exe\n"
     ]
    }
   ],
   "source": [
    "#### RUN! this Cell ####\n",
    "import sys\n",
    "! hostname\n",
    "! whoami\n",
    "print(sys.executable) # OK if generates an exception message on Windows machines \n",
    "# tested ok MacOS, arm linux, x86-64 linux, Windows 10VM, Windows Server"
   ]
  },
  {
   "cell_type": "markdown",
   "metadata": {},
   "source": [
    "___\n",
    "# Question 1 (15 pts): To cause or to correlate; that is the question!\n",
    "\n",
    "![](https://aspectmr.com/wp-content/uploads/2019/11/chicken_makes_you_go_to_the_moon.jpg) <br>\n",
    "\n",
    "### Answer the following questions in your own words:\n",
    "#### A) What is the message behind the above image in relation to causation and correlation?\n",
    "#### B) Why is it important to understand the difference between causation and correlation? \n",
    "#### C) Write two examples of your own to illustrate the difference. "
   ]
  },
  {
   "cell_type": "code",
   "execution_count": null,
   "metadata": {},
   "outputs": [],
   "source": []
  },
  {
   "cell_type": "code",
   "execution_count": null,
   "metadata": {},
   "outputs": [],
   "source": []
  },
  {
   "cell_type": "code",
   "execution_count": null,
   "metadata": {},
   "outputs": [],
   "source": []
  },
  {
   "cell_type": "markdown",
   "metadata": {},
   "source": [
    "___\n",
    "# Question 2 (40 pts): On \"Bottled Poetry\" ...\n",
    "\n",
    "![](https://w7w5t4b3.rocketcdn.me/wp-content/uploads/2016/04/game-of-thonres-tyrion-lannister-i-drink-and-i-know-things.jpg) <br>\n",
    "\n",
    "\n",
    "### The \"winequality.csv\" dataset is provided with information related to red vinho verde wine samples, from the north of Portugal. The goal is to model wine quality based on physicochemical tests. Follow the steps and answer the question. *Due to privacy and logistic issues, only physicochemical (inputs) and sensory (the output) variables are available (e.g. there is no data about grape types, wine brand, wine selling price, etc.).* \n",
    "\n",
    "\n",
    "#### The datasets consists of several Input variables (based on physicochemical tests). \n",
    "\n",
    "|Columns|Info.|\n",
    "|---:|---:|\n",
    "|fixed acidity |most acids involved with wine or fixed or nonvolatile (do not evaporate readily)|\n",
    "|volatile acidity |the amount of acetic acid in wine, which at too high of levels can lead to an unpleasant, vinegar taste|\n",
    "|citric acid |found in small quantities, citric acid can add 'freshness' and flavor to wines|\n",
    "|residual sugar |the amount of sugar remaining after fermentation stops, it's rare to find wines with less than 1 gram/liter|\n",
    "|chlorides |the amount of salt in the wine|\n",
    "|free sulfur dioxide |the free form of SO2 exists in equilibrium between molecular SO2 (as a dissolved gas) and bisulfite ion|\n",
    "|total sulfur dioxide |amount of free and bound forms of S02; in low concentrations, SO2 is mostly undetectable in wine| \n",
    "|density |the density of water is close to that of water depending on the percent alcohol and sugar content|\n",
    "|pH |describes how acidic or basic a wine is on a scale from 0 (very acidic) to 14 (very basic); most wines are between 3-4|\n",
    "|sulphates |a wine additive which can contribute to sulfur dioxide gas (S02) levels, wich acts as an antimicrobial|\n",
    "|alcohol |the percent alcohol content of the wine|\n",
    "|quality (score between 0 and 10) |output variable (based on sensory data, score between 0 and 10)|\n",
    "\n",
    "\n",
    "\n",
    "*Acknowledgements:\n",
    "P. Cortez, A. Cerdeira, F. Almeida, T. Matos and J. Reis. Modeling wine preferences by data mining from physicochemical properties. In Decision Support Systems, Elsevier, 47(4):547-553, 2009.*\n",
    "\n",
    "\n",
    "### Based on the provided dataset, \"winequality.csv\", follow the steps and answer the questions.\n"
   ]
  },
  {
   "cell_type": "markdown",
   "metadata": {},
   "source": [
    "#### A) Read the data as a data frame and print the first few rows. In a few lines explain what can be understood about the data from this.\n"
   ]
  },
  {
   "cell_type": "code",
   "execution_count": 3,
   "metadata": {},
   "outputs": [
    {
     "data": {
      "text/html": [
       "<div>\n",
       "<style scoped>\n",
       "    .dataframe tbody tr th:only-of-type {\n",
       "        vertical-align: middle;\n",
       "    }\n",
       "\n",
       "    .dataframe tbody tr th {\n",
       "        vertical-align: top;\n",
       "    }\n",
       "\n",
       "    .dataframe thead th {\n",
       "        text-align: right;\n",
       "    }\n",
       "</style>\n",
       "<table border=\"1\" class=\"dataframe\">\n",
       "  <thead>\n",
       "    <tr style=\"text-align: right;\">\n",
       "      <th></th>\n",
       "      <th>fixed_acidity</th>\n",
       "      <th>volatile_acidity</th>\n",
       "      <th>citric_acid</th>\n",
       "      <th>residual_sugar</th>\n",
       "      <th>chlorides</th>\n",
       "      <th>free_sulfur_dioxide</th>\n",
       "      <th>total_sulfur_dioxide</th>\n",
       "      <th>density</th>\n",
       "      <th>pH</th>\n",
       "      <th>sulphates</th>\n",
       "      <th>alcohol</th>\n",
       "      <th>quality (score _0to10)</th>\n",
       "    </tr>\n",
       "  </thead>\n",
       "  <tbody>\n",
       "    <tr>\n",
       "      <td>0</td>\n",
       "      <td>7.4</td>\n",
       "      <td>0.70</td>\n",
       "      <td>0.00</td>\n",
       "      <td>1.9</td>\n",
       "      <td>0.076</td>\n",
       "      <td>11.0</td>\n",
       "      <td>34.0</td>\n",
       "      <td>0.9978</td>\n",
       "      <td>3.51</td>\n",
       "      <td>0.56</td>\n",
       "      <td>9.4</td>\n",
       "      <td>5</td>\n",
       "    </tr>\n",
       "    <tr>\n",
       "      <td>1</td>\n",
       "      <td>7.8</td>\n",
       "      <td>0.88</td>\n",
       "      <td>0.00</td>\n",
       "      <td>2.6</td>\n",
       "      <td>0.098</td>\n",
       "      <td>25.0</td>\n",
       "      <td>67.0</td>\n",
       "      <td>0.9968</td>\n",
       "      <td>3.20</td>\n",
       "      <td>0.68</td>\n",
       "      <td>9.8</td>\n",
       "      <td>5</td>\n",
       "    </tr>\n",
       "    <tr>\n",
       "      <td>2</td>\n",
       "      <td>7.8</td>\n",
       "      <td>0.76</td>\n",
       "      <td>0.04</td>\n",
       "      <td>2.3</td>\n",
       "      <td>0.092</td>\n",
       "      <td>15.0</td>\n",
       "      <td>54.0</td>\n",
       "      <td>0.9970</td>\n",
       "      <td>3.26</td>\n",
       "      <td>0.65</td>\n",
       "      <td>9.8</td>\n",
       "      <td>5</td>\n",
       "    </tr>\n",
       "    <tr>\n",
       "      <td>3</td>\n",
       "      <td>11.2</td>\n",
       "      <td>0.28</td>\n",
       "      <td>0.56</td>\n",
       "      <td>1.9</td>\n",
       "      <td>0.075</td>\n",
       "      <td>17.0</td>\n",
       "      <td>60.0</td>\n",
       "      <td>0.9980</td>\n",
       "      <td>3.16</td>\n",
       "      <td>0.58</td>\n",
       "      <td>9.8</td>\n",
       "      <td>6</td>\n",
       "    </tr>\n",
       "    <tr>\n",
       "      <td>4</td>\n",
       "      <td>7.4</td>\n",
       "      <td>0.70</td>\n",
       "      <td>0.00</td>\n",
       "      <td>1.9</td>\n",
       "      <td>0.076</td>\n",
       "      <td>11.0</td>\n",
       "      <td>34.0</td>\n",
       "      <td>0.9978</td>\n",
       "      <td>3.51</td>\n",
       "      <td>0.56</td>\n",
       "      <td>9.4</td>\n",
       "      <td>5</td>\n",
       "    </tr>\n",
       "  </tbody>\n",
       "</table>\n",
       "</div>"
      ],
      "text/plain": [
       "   fixed_acidity  volatile_acidity  citric_acid  residual_sugar  chlorides  \\\n",
       "0            7.4              0.70         0.00             1.9      0.076   \n",
       "1            7.8              0.88         0.00             2.6      0.098   \n",
       "2            7.8              0.76         0.04             2.3      0.092   \n",
       "3           11.2              0.28         0.56             1.9      0.075   \n",
       "4            7.4              0.70         0.00             1.9      0.076   \n",
       "\n",
       "   free_sulfur_dioxide  total_sulfur_dioxide  density    pH  sulphates  \\\n",
       "0                 11.0                  34.0   0.9978  3.51       0.56   \n",
       "1                 25.0                  67.0   0.9968  3.20       0.68   \n",
       "2                 15.0                  54.0   0.9970  3.26       0.65   \n",
       "3                 17.0                  60.0   0.9980  3.16       0.58   \n",
       "4                 11.0                  34.0   0.9978  3.51       0.56   \n",
       "\n",
       "   alcohol  quality (score _0to10)  \n",
       "0      9.4                       5  \n",
       "1      9.8                       5  \n",
       "2      9.8                       5  \n",
       "3      9.8                       6  \n",
       "4      9.4                       5  "
      ]
     },
     "execution_count": 3,
     "metadata": {},
     "output_type": "execute_result"
    }
   ],
   "source": [
    "import pandas as pd\n",
    "\n",
    "\n",
    "df = pd.read_csv('winequality.csv')\n",
    "df.head()"
   ]
  },
  {
   "cell_type": "code",
   "execution_count": null,
   "metadata": {},
   "outputs": [],
   "source": []
  },
  {
   "cell_type": "markdown",
   "metadata": {},
   "source": [
    "#### B) Use the appropriate function and get a summary of information on the data frame. Explain what you can learn from this summary report."
   ]
  },
  {
   "cell_type": "code",
   "execution_count": 4,
   "metadata": {},
   "outputs": [
    {
     "name": "stdout",
     "output_type": "stream",
     "text": [
      "<class 'pandas.core.frame.DataFrame'>\n",
      "RangeIndex: 1599 entries, 0 to 1598\n",
      "Data columns (total 12 columns):\n",
      "fixed_acidity             1599 non-null float64\n",
      "volatile_acidity          1599 non-null float64\n",
      "citric_acid               1599 non-null float64\n",
      "residual_sugar            1599 non-null float64\n",
      "chlorides                 1599 non-null float64\n",
      "free_sulfur_dioxide       1599 non-null float64\n",
      "total_sulfur_dioxide      1599 non-null float64\n",
      "density                   1599 non-null float64\n",
      "pH                        1599 non-null float64\n",
      "sulphates                 1599 non-null float64\n",
      "alcohol                   1599 non-null float64\n",
      "quality (score _0to10)    1599 non-null int64\n",
      "dtypes: float64(11), int64(1)\n",
      "memory usage: 150.0 KB\n"
     ]
    }
   ],
   "source": [
    "df.info()"
   ]
  },
  {
   "cell_type": "code",
   "execution_count": null,
   "metadata": {},
   "outputs": [],
   "source": []
  },
  {
   "cell_type": "markdown",
   "metadata": {},
   "source": [
    "#### C) Are there any missing values in the data? Justify your answer. "
   ]
  },
  {
   "cell_type": "code",
   "execution_count": 6,
   "metadata": {},
   "outputs": [
    {
     "data": {
      "text/plain": [
       "0"
      ]
     },
     "execution_count": 6,
     "metadata": {},
     "output_type": "execute_result"
    }
   ],
   "source": [
    "df.isnull().sum().sum()"
   ]
  },
  {
   "cell_type": "code",
   "execution_count": null,
   "metadata": {},
   "outputs": [],
   "source": []
  },
  {
   "cell_type": "markdown",
   "metadata": {},
   "source": [
    "#### D) Use the appropriate function and get the 5-number summary for the data frame. Explain what you can learn from this summary report for each column."
   ]
  },
  {
   "cell_type": "code",
   "execution_count": 12,
   "metadata": {},
   "outputs": [
    {
     "data": {
      "text/html": [
       "<div>\n",
       "<style scoped>\n",
       "    .dataframe tbody tr th:only-of-type {\n",
       "        vertical-align: middle;\n",
       "    }\n",
       "\n",
       "    .dataframe tbody tr th {\n",
       "        vertical-align: top;\n",
       "    }\n",
       "\n",
       "    .dataframe thead th {\n",
       "        text-align: right;\n",
       "    }\n",
       "</style>\n",
       "<table border=\"1\" class=\"dataframe\">\n",
       "  <thead>\n",
       "    <tr style=\"text-align: right;\">\n",
       "      <th></th>\n",
       "      <th>fixed_acidity</th>\n",
       "      <th>volatile_acidity</th>\n",
       "      <th>citric_acid</th>\n",
       "      <th>residual_sugar</th>\n",
       "      <th>chlorides</th>\n",
       "      <th>free_sulfur_dioxide</th>\n",
       "      <th>total_sulfur_dioxide</th>\n",
       "      <th>density</th>\n",
       "      <th>pH</th>\n",
       "      <th>sulphates</th>\n",
       "      <th>alcohol</th>\n",
       "      <th>quality (score _0to10)</th>\n",
       "    </tr>\n",
       "  </thead>\n",
       "  <tbody>\n",
       "    <tr>\n",
       "      <td>count</td>\n",
       "      <td>1599.000000</td>\n",
       "      <td>1599.000000</td>\n",
       "      <td>1599.000000</td>\n",
       "      <td>1599.000000</td>\n",
       "      <td>1599.000000</td>\n",
       "      <td>1599.000000</td>\n",
       "      <td>1599.000000</td>\n",
       "      <td>1599.000000</td>\n",
       "      <td>1599.000000</td>\n",
       "      <td>1599.000000</td>\n",
       "      <td>1599.000000</td>\n",
       "      <td>1599.000000</td>\n",
       "    </tr>\n",
       "    <tr>\n",
       "      <td>mean</td>\n",
       "      <td>8.319637</td>\n",
       "      <td>0.527821</td>\n",
       "      <td>0.270976</td>\n",
       "      <td>2.538806</td>\n",
       "      <td>0.087467</td>\n",
       "      <td>15.874922</td>\n",
       "      <td>46.467792</td>\n",
       "      <td>0.996747</td>\n",
       "      <td>3.311113</td>\n",
       "      <td>0.658149</td>\n",
       "      <td>10.422983</td>\n",
       "      <td>5.636023</td>\n",
       "    </tr>\n",
       "    <tr>\n",
       "      <td>std</td>\n",
       "      <td>1.741096</td>\n",
       "      <td>0.179060</td>\n",
       "      <td>0.194801</td>\n",
       "      <td>1.409928</td>\n",
       "      <td>0.047065</td>\n",
       "      <td>10.460157</td>\n",
       "      <td>32.895324</td>\n",
       "      <td>0.001887</td>\n",
       "      <td>0.154386</td>\n",
       "      <td>0.169507</td>\n",
       "      <td>1.065668</td>\n",
       "      <td>0.807569</td>\n",
       "    </tr>\n",
       "    <tr>\n",
       "      <td>min</td>\n",
       "      <td>4.600000</td>\n",
       "      <td>0.120000</td>\n",
       "      <td>0.000000</td>\n",
       "      <td>0.900000</td>\n",
       "      <td>0.012000</td>\n",
       "      <td>1.000000</td>\n",
       "      <td>6.000000</td>\n",
       "      <td>0.990070</td>\n",
       "      <td>2.740000</td>\n",
       "      <td>0.330000</td>\n",
       "      <td>8.400000</td>\n",
       "      <td>3.000000</td>\n",
       "    </tr>\n",
       "    <tr>\n",
       "      <td>25%</td>\n",
       "      <td>7.100000</td>\n",
       "      <td>0.390000</td>\n",
       "      <td>0.090000</td>\n",
       "      <td>1.900000</td>\n",
       "      <td>0.070000</td>\n",
       "      <td>7.000000</td>\n",
       "      <td>22.000000</td>\n",
       "      <td>0.995600</td>\n",
       "      <td>3.210000</td>\n",
       "      <td>0.550000</td>\n",
       "      <td>9.500000</td>\n",
       "      <td>5.000000</td>\n",
       "    </tr>\n",
       "    <tr>\n",
       "      <td>50%</td>\n",
       "      <td>7.900000</td>\n",
       "      <td>0.520000</td>\n",
       "      <td>0.260000</td>\n",
       "      <td>2.200000</td>\n",
       "      <td>0.079000</td>\n",
       "      <td>14.000000</td>\n",
       "      <td>38.000000</td>\n",
       "      <td>0.996750</td>\n",
       "      <td>3.310000</td>\n",
       "      <td>0.620000</td>\n",
       "      <td>10.200000</td>\n",
       "      <td>6.000000</td>\n",
       "    </tr>\n",
       "    <tr>\n",
       "      <td>75%</td>\n",
       "      <td>9.200000</td>\n",
       "      <td>0.640000</td>\n",
       "      <td>0.420000</td>\n",
       "      <td>2.600000</td>\n",
       "      <td>0.090000</td>\n",
       "      <td>21.000000</td>\n",
       "      <td>62.000000</td>\n",
       "      <td>0.997835</td>\n",
       "      <td>3.400000</td>\n",
       "      <td>0.730000</td>\n",
       "      <td>11.100000</td>\n",
       "      <td>6.000000</td>\n",
       "    </tr>\n",
       "    <tr>\n",
       "      <td>max</td>\n",
       "      <td>15.900000</td>\n",
       "      <td>1.580000</td>\n",
       "      <td>1.000000</td>\n",
       "      <td>15.500000</td>\n",
       "      <td>0.611000</td>\n",
       "      <td>72.000000</td>\n",
       "      <td>289.000000</td>\n",
       "      <td>1.003690</td>\n",
       "      <td>4.010000</td>\n",
       "      <td>2.000000</td>\n",
       "      <td>14.900000</td>\n",
       "      <td>8.000000</td>\n",
       "    </tr>\n",
       "  </tbody>\n",
       "</table>\n",
       "</div>"
      ],
      "text/plain": [
       "       fixed_acidity  volatile_acidity  citric_acid  residual_sugar  \\\n",
       "count    1599.000000       1599.000000  1599.000000     1599.000000   \n",
       "mean        8.319637          0.527821     0.270976        2.538806   \n",
       "std         1.741096          0.179060     0.194801        1.409928   \n",
       "min         4.600000          0.120000     0.000000        0.900000   \n",
       "25%         7.100000          0.390000     0.090000        1.900000   \n",
       "50%         7.900000          0.520000     0.260000        2.200000   \n",
       "75%         9.200000          0.640000     0.420000        2.600000   \n",
       "max        15.900000          1.580000     1.000000       15.500000   \n",
       "\n",
       "         chlorides  free_sulfur_dioxide  total_sulfur_dioxide      density  \\\n",
       "count  1599.000000          1599.000000           1599.000000  1599.000000   \n",
       "mean      0.087467            15.874922             46.467792     0.996747   \n",
       "std       0.047065            10.460157             32.895324     0.001887   \n",
       "min       0.012000             1.000000              6.000000     0.990070   \n",
       "25%       0.070000             7.000000             22.000000     0.995600   \n",
       "50%       0.079000            14.000000             38.000000     0.996750   \n",
       "75%       0.090000            21.000000             62.000000     0.997835   \n",
       "max       0.611000            72.000000            289.000000     1.003690   \n",
       "\n",
       "                pH    sulphates      alcohol  quality (score _0to10)  \n",
       "count  1599.000000  1599.000000  1599.000000             1599.000000  \n",
       "mean      3.311113     0.658149    10.422983                5.636023  \n",
       "std       0.154386     0.169507     1.065668                0.807569  \n",
       "min       2.740000     0.330000     8.400000                3.000000  \n",
       "25%       3.210000     0.550000     9.500000                5.000000  \n",
       "50%       3.310000     0.620000    10.200000                6.000000  \n",
       "75%       3.400000     0.730000    11.100000                6.000000  \n",
       "max       4.010000     2.000000    14.900000                8.000000  "
      ]
     },
     "execution_count": 12,
     "metadata": {},
     "output_type": "execute_result"
    }
   ],
   "source": [
    "df.describe()"
   ]
  },
  {
   "cell_type": "code",
   "execution_count": null,
   "metadata": {},
   "outputs": [],
   "source": []
  },
  {
   "cell_type": "markdown",
   "metadata": {},
   "source": [
    "#### E) ename the \"quality (score _0to10)\" column heading to \"quality\""
   ]
  },
  {
   "cell_type": "code",
   "execution_count": 13,
   "metadata": {},
   "outputs": [
    {
     "data": {
      "text/html": [
       "<div>\n",
       "<style scoped>\n",
       "    .dataframe tbody tr th:only-of-type {\n",
       "        vertical-align: middle;\n",
       "    }\n",
       "\n",
       "    .dataframe tbody tr th {\n",
       "        vertical-align: top;\n",
       "    }\n",
       "\n",
       "    .dataframe thead th {\n",
       "        text-align: right;\n",
       "    }\n",
       "</style>\n",
       "<table border=\"1\" class=\"dataframe\">\n",
       "  <thead>\n",
       "    <tr style=\"text-align: right;\">\n",
       "      <th></th>\n",
       "      <th>fixed_acidity</th>\n",
       "      <th>volatile_acidity</th>\n",
       "      <th>citric_acid</th>\n",
       "      <th>residual_sugar</th>\n",
       "      <th>chlorides</th>\n",
       "      <th>free_sulfur_dioxide</th>\n",
       "      <th>total_sulfur_dioxide</th>\n",
       "      <th>density</th>\n",
       "      <th>pH</th>\n",
       "      <th>sulphates</th>\n",
       "      <th>alcohol</th>\n",
       "      <th>quality</th>\n",
       "    </tr>\n",
       "  </thead>\n",
       "  <tbody>\n",
       "    <tr>\n",
       "      <td>0</td>\n",
       "      <td>7.4</td>\n",
       "      <td>0.700</td>\n",
       "      <td>0.00</td>\n",
       "      <td>1.9</td>\n",
       "      <td>0.076</td>\n",
       "      <td>11.0</td>\n",
       "      <td>34.0</td>\n",
       "      <td>0.99780</td>\n",
       "      <td>3.51</td>\n",
       "      <td>0.56</td>\n",
       "      <td>9.4</td>\n",
       "      <td>5</td>\n",
       "    </tr>\n",
       "    <tr>\n",
       "      <td>1</td>\n",
       "      <td>7.8</td>\n",
       "      <td>0.880</td>\n",
       "      <td>0.00</td>\n",
       "      <td>2.6</td>\n",
       "      <td>0.098</td>\n",
       "      <td>25.0</td>\n",
       "      <td>67.0</td>\n",
       "      <td>0.99680</td>\n",
       "      <td>3.20</td>\n",
       "      <td>0.68</td>\n",
       "      <td>9.8</td>\n",
       "      <td>5</td>\n",
       "    </tr>\n",
       "    <tr>\n",
       "      <td>2</td>\n",
       "      <td>7.8</td>\n",
       "      <td>0.760</td>\n",
       "      <td>0.04</td>\n",
       "      <td>2.3</td>\n",
       "      <td>0.092</td>\n",
       "      <td>15.0</td>\n",
       "      <td>54.0</td>\n",
       "      <td>0.99700</td>\n",
       "      <td>3.26</td>\n",
       "      <td>0.65</td>\n",
       "      <td>9.8</td>\n",
       "      <td>5</td>\n",
       "    </tr>\n",
       "    <tr>\n",
       "      <td>3</td>\n",
       "      <td>11.2</td>\n",
       "      <td>0.280</td>\n",
       "      <td>0.56</td>\n",
       "      <td>1.9</td>\n",
       "      <td>0.075</td>\n",
       "      <td>17.0</td>\n",
       "      <td>60.0</td>\n",
       "      <td>0.99800</td>\n",
       "      <td>3.16</td>\n",
       "      <td>0.58</td>\n",
       "      <td>9.8</td>\n",
       "      <td>6</td>\n",
       "    </tr>\n",
       "    <tr>\n",
       "      <td>4</td>\n",
       "      <td>7.4</td>\n",
       "      <td>0.700</td>\n",
       "      <td>0.00</td>\n",
       "      <td>1.9</td>\n",
       "      <td>0.076</td>\n",
       "      <td>11.0</td>\n",
       "      <td>34.0</td>\n",
       "      <td>0.99780</td>\n",
       "      <td>3.51</td>\n",
       "      <td>0.56</td>\n",
       "      <td>9.4</td>\n",
       "      <td>5</td>\n",
       "    </tr>\n",
       "    <tr>\n",
       "      <td>...</td>\n",
       "      <td>...</td>\n",
       "      <td>...</td>\n",
       "      <td>...</td>\n",
       "      <td>...</td>\n",
       "      <td>...</td>\n",
       "      <td>...</td>\n",
       "      <td>...</td>\n",
       "      <td>...</td>\n",
       "      <td>...</td>\n",
       "      <td>...</td>\n",
       "      <td>...</td>\n",
       "      <td>...</td>\n",
       "    </tr>\n",
       "    <tr>\n",
       "      <td>1594</td>\n",
       "      <td>6.2</td>\n",
       "      <td>0.600</td>\n",
       "      <td>0.08</td>\n",
       "      <td>2.0</td>\n",
       "      <td>0.090</td>\n",
       "      <td>32.0</td>\n",
       "      <td>44.0</td>\n",
       "      <td>0.99490</td>\n",
       "      <td>3.45</td>\n",
       "      <td>0.58</td>\n",
       "      <td>10.5</td>\n",
       "      <td>5</td>\n",
       "    </tr>\n",
       "    <tr>\n",
       "      <td>1595</td>\n",
       "      <td>5.9</td>\n",
       "      <td>0.550</td>\n",
       "      <td>0.10</td>\n",
       "      <td>2.2</td>\n",
       "      <td>0.062</td>\n",
       "      <td>39.0</td>\n",
       "      <td>51.0</td>\n",
       "      <td>0.99512</td>\n",
       "      <td>3.52</td>\n",
       "      <td>0.76</td>\n",
       "      <td>11.2</td>\n",
       "      <td>6</td>\n",
       "    </tr>\n",
       "    <tr>\n",
       "      <td>1596</td>\n",
       "      <td>6.3</td>\n",
       "      <td>0.510</td>\n",
       "      <td>0.13</td>\n",
       "      <td>2.3</td>\n",
       "      <td>0.076</td>\n",
       "      <td>29.0</td>\n",
       "      <td>40.0</td>\n",
       "      <td>0.99574</td>\n",
       "      <td>3.42</td>\n",
       "      <td>0.75</td>\n",
       "      <td>11.0</td>\n",
       "      <td>6</td>\n",
       "    </tr>\n",
       "    <tr>\n",
       "      <td>1597</td>\n",
       "      <td>5.9</td>\n",
       "      <td>0.645</td>\n",
       "      <td>0.12</td>\n",
       "      <td>2.0</td>\n",
       "      <td>0.075</td>\n",
       "      <td>32.0</td>\n",
       "      <td>44.0</td>\n",
       "      <td>0.99547</td>\n",
       "      <td>3.57</td>\n",
       "      <td>0.71</td>\n",
       "      <td>10.2</td>\n",
       "      <td>5</td>\n",
       "    </tr>\n",
       "    <tr>\n",
       "      <td>1598</td>\n",
       "      <td>6.0</td>\n",
       "      <td>0.310</td>\n",
       "      <td>0.47</td>\n",
       "      <td>3.6</td>\n",
       "      <td>0.067</td>\n",
       "      <td>18.0</td>\n",
       "      <td>42.0</td>\n",
       "      <td>0.99549</td>\n",
       "      <td>3.39</td>\n",
       "      <td>0.66</td>\n",
       "      <td>11.0</td>\n",
       "      <td>6</td>\n",
       "    </tr>\n",
       "  </tbody>\n",
       "</table>\n",
       "<p>1599 rows × 12 columns</p>\n",
       "</div>"
      ],
      "text/plain": [
       "      fixed_acidity  volatile_acidity  citric_acid  residual_sugar  chlorides  \\\n",
       "0               7.4             0.700         0.00             1.9      0.076   \n",
       "1               7.8             0.880         0.00             2.6      0.098   \n",
       "2               7.8             0.760         0.04             2.3      0.092   \n",
       "3              11.2             0.280         0.56             1.9      0.075   \n",
       "4               7.4             0.700         0.00             1.9      0.076   \n",
       "...             ...               ...          ...             ...        ...   \n",
       "1594            6.2             0.600         0.08             2.0      0.090   \n",
       "1595            5.9             0.550         0.10             2.2      0.062   \n",
       "1596            6.3             0.510         0.13             2.3      0.076   \n",
       "1597            5.9             0.645         0.12             2.0      0.075   \n",
       "1598            6.0             0.310         0.47             3.6      0.067   \n",
       "\n",
       "      free_sulfur_dioxide  total_sulfur_dioxide  density    pH  sulphates  \\\n",
       "0                    11.0                  34.0  0.99780  3.51       0.56   \n",
       "1                    25.0                  67.0  0.99680  3.20       0.68   \n",
       "2                    15.0                  54.0  0.99700  3.26       0.65   \n",
       "3                    17.0                  60.0  0.99800  3.16       0.58   \n",
       "4                    11.0                  34.0  0.99780  3.51       0.56   \n",
       "...                   ...                   ...      ...   ...        ...   \n",
       "1594                 32.0                  44.0  0.99490  3.45       0.58   \n",
       "1595                 39.0                  51.0  0.99512  3.52       0.76   \n",
       "1596                 29.0                  40.0  0.99574  3.42       0.75   \n",
       "1597                 32.0                  44.0  0.99547  3.57       0.71   \n",
       "1598                 18.0                  42.0  0.99549  3.39       0.66   \n",
       "\n",
       "      alcohol  quality  \n",
       "0         9.4        5  \n",
       "1         9.8        5  \n",
       "2         9.8        5  \n",
       "3         9.8        6  \n",
       "4         9.4        5  \n",
       "...       ...      ...  \n",
       "1594     10.5        5  \n",
       "1595     11.2        6  \n",
       "1596     11.0        6  \n",
       "1597     10.2        5  \n",
       "1598     11.0        6  \n",
       "\n",
       "[1599 rows x 12 columns]"
      ]
     },
     "execution_count": 13,
     "metadata": {},
     "output_type": "execute_result"
    }
   ],
   "source": [
    "df.rename(columns={\n",
    "        'quality (score _0to10)': 'quality'\n",
    "    }, inplace=True)\n",
    "\n",
    "df"
   ]
  },
  {
   "cell_type": "markdown",
   "metadata": {},
   "source": [
    "#### F) Make a subset of all the wines with a quality above 7. Name this subset \"TopQ\"."
   ]
  },
  {
   "cell_type": "code",
   "execution_count": 15,
   "metadata": {},
   "outputs": [
    {
     "data": {
      "text/html": [
       "<div>\n",
       "<style scoped>\n",
       "    .dataframe tbody tr th:only-of-type {\n",
       "        vertical-align: middle;\n",
       "    }\n",
       "\n",
       "    .dataframe tbody tr th {\n",
       "        vertical-align: top;\n",
       "    }\n",
       "\n",
       "    .dataframe thead th {\n",
       "        text-align: right;\n",
       "    }\n",
       "</style>\n",
       "<table border=\"1\" class=\"dataframe\">\n",
       "  <thead>\n",
       "    <tr style=\"text-align: right;\">\n",
       "      <th></th>\n",
       "      <th>fixed_acidity</th>\n",
       "      <th>volatile_acidity</th>\n",
       "      <th>citric_acid</th>\n",
       "      <th>residual_sugar</th>\n",
       "      <th>chlorides</th>\n",
       "      <th>free_sulfur_dioxide</th>\n",
       "      <th>total_sulfur_dioxide</th>\n",
       "      <th>density</th>\n",
       "      <th>pH</th>\n",
       "      <th>sulphates</th>\n",
       "      <th>alcohol</th>\n",
       "      <th>quality</th>\n",
       "    </tr>\n",
       "  </thead>\n",
       "  <tbody>\n",
       "    <tr>\n",
       "      <td>7</td>\n",
       "      <td>7.3</td>\n",
       "      <td>0.65</td>\n",
       "      <td>0.00</td>\n",
       "      <td>1.2</td>\n",
       "      <td>0.065</td>\n",
       "      <td>15.0</td>\n",
       "      <td>21.0</td>\n",
       "      <td>0.99460</td>\n",
       "      <td>3.39</td>\n",
       "      <td>0.47</td>\n",
       "      <td>10.00</td>\n",
       "      <td>7</td>\n",
       "    </tr>\n",
       "    <tr>\n",
       "      <td>8</td>\n",
       "      <td>7.8</td>\n",
       "      <td>0.58</td>\n",
       "      <td>0.02</td>\n",
       "      <td>2.0</td>\n",
       "      <td>0.073</td>\n",
       "      <td>9.0</td>\n",
       "      <td>18.0</td>\n",
       "      <td>0.99680</td>\n",
       "      <td>3.36</td>\n",
       "      <td>0.57</td>\n",
       "      <td>9.50</td>\n",
       "      <td>7</td>\n",
       "    </tr>\n",
       "    <tr>\n",
       "      <td>16</td>\n",
       "      <td>8.5</td>\n",
       "      <td>0.28</td>\n",
       "      <td>0.56</td>\n",
       "      <td>1.8</td>\n",
       "      <td>0.092</td>\n",
       "      <td>35.0</td>\n",
       "      <td>103.0</td>\n",
       "      <td>0.99690</td>\n",
       "      <td>3.30</td>\n",
       "      <td>0.75</td>\n",
       "      <td>10.50</td>\n",
       "      <td>7</td>\n",
       "    </tr>\n",
       "    <tr>\n",
       "      <td>37</td>\n",
       "      <td>8.1</td>\n",
       "      <td>0.38</td>\n",
       "      <td>0.28</td>\n",
       "      <td>2.1</td>\n",
       "      <td>0.066</td>\n",
       "      <td>13.0</td>\n",
       "      <td>30.0</td>\n",
       "      <td>0.99680</td>\n",
       "      <td>3.23</td>\n",
       "      <td>0.73</td>\n",
       "      <td>9.70</td>\n",
       "      <td>7</td>\n",
       "    </tr>\n",
       "    <tr>\n",
       "      <td>62</td>\n",
       "      <td>7.5</td>\n",
       "      <td>0.52</td>\n",
       "      <td>0.16</td>\n",
       "      <td>1.9</td>\n",
       "      <td>0.085</td>\n",
       "      <td>12.0</td>\n",
       "      <td>35.0</td>\n",
       "      <td>0.99680</td>\n",
       "      <td>3.38</td>\n",
       "      <td>0.62</td>\n",
       "      <td>9.50</td>\n",
       "      <td>7</td>\n",
       "    </tr>\n",
       "    <tr>\n",
       "      <td>...</td>\n",
       "      <td>...</td>\n",
       "      <td>...</td>\n",
       "      <td>...</td>\n",
       "      <td>...</td>\n",
       "      <td>...</td>\n",
       "      <td>...</td>\n",
       "      <td>...</td>\n",
       "      <td>...</td>\n",
       "      <td>...</td>\n",
       "      <td>...</td>\n",
       "      <td>...</td>\n",
       "      <td>...</td>\n",
       "    </tr>\n",
       "    <tr>\n",
       "      <td>1541</td>\n",
       "      <td>7.4</td>\n",
       "      <td>0.25</td>\n",
       "      <td>0.29</td>\n",
       "      <td>2.2</td>\n",
       "      <td>0.054</td>\n",
       "      <td>19.0</td>\n",
       "      <td>49.0</td>\n",
       "      <td>0.99666</td>\n",
       "      <td>3.40</td>\n",
       "      <td>0.76</td>\n",
       "      <td>10.90</td>\n",
       "      <td>7</td>\n",
       "    </tr>\n",
       "    <tr>\n",
       "      <td>1544</td>\n",
       "      <td>8.4</td>\n",
       "      <td>0.37</td>\n",
       "      <td>0.43</td>\n",
       "      <td>2.3</td>\n",
       "      <td>0.063</td>\n",
       "      <td>12.0</td>\n",
       "      <td>19.0</td>\n",
       "      <td>0.99550</td>\n",
       "      <td>3.17</td>\n",
       "      <td>0.81</td>\n",
       "      <td>11.20</td>\n",
       "      <td>7</td>\n",
       "    </tr>\n",
       "    <tr>\n",
       "      <td>1549</td>\n",
       "      <td>7.4</td>\n",
       "      <td>0.36</td>\n",
       "      <td>0.30</td>\n",
       "      <td>1.8</td>\n",
       "      <td>0.074</td>\n",
       "      <td>17.0</td>\n",
       "      <td>24.0</td>\n",
       "      <td>0.99419</td>\n",
       "      <td>3.24</td>\n",
       "      <td>0.70</td>\n",
       "      <td>11.40</td>\n",
       "      <td>8</td>\n",
       "    </tr>\n",
       "    <tr>\n",
       "      <td>1555</td>\n",
       "      <td>7.0</td>\n",
       "      <td>0.56</td>\n",
       "      <td>0.17</td>\n",
       "      <td>1.7</td>\n",
       "      <td>0.065</td>\n",
       "      <td>15.0</td>\n",
       "      <td>24.0</td>\n",
       "      <td>0.99514</td>\n",
       "      <td>3.44</td>\n",
       "      <td>0.68</td>\n",
       "      <td>10.55</td>\n",
       "      <td>7</td>\n",
       "    </tr>\n",
       "    <tr>\n",
       "      <td>1584</td>\n",
       "      <td>6.7</td>\n",
       "      <td>0.32</td>\n",
       "      <td>0.44</td>\n",
       "      <td>2.4</td>\n",
       "      <td>0.061</td>\n",
       "      <td>24.0</td>\n",
       "      <td>34.0</td>\n",
       "      <td>0.99484</td>\n",
       "      <td>3.29</td>\n",
       "      <td>0.80</td>\n",
       "      <td>11.60</td>\n",
       "      <td>7</td>\n",
       "    </tr>\n",
       "  </tbody>\n",
       "</table>\n",
       "<p>217 rows × 12 columns</p>\n",
       "</div>"
      ],
      "text/plain": [
       "      fixed_acidity  volatile_acidity  citric_acid  residual_sugar  chlorides  \\\n",
       "7               7.3              0.65         0.00             1.2      0.065   \n",
       "8               7.8              0.58         0.02             2.0      0.073   \n",
       "16              8.5              0.28         0.56             1.8      0.092   \n",
       "37              8.1              0.38         0.28             2.1      0.066   \n",
       "62              7.5              0.52         0.16             1.9      0.085   \n",
       "...             ...               ...          ...             ...        ...   \n",
       "1541            7.4              0.25         0.29             2.2      0.054   \n",
       "1544            8.4              0.37         0.43             2.3      0.063   \n",
       "1549            7.4              0.36         0.30             1.8      0.074   \n",
       "1555            7.0              0.56         0.17             1.7      0.065   \n",
       "1584            6.7              0.32         0.44             2.4      0.061   \n",
       "\n",
       "      free_sulfur_dioxide  total_sulfur_dioxide  density    pH  sulphates  \\\n",
       "7                    15.0                  21.0  0.99460  3.39       0.47   \n",
       "8                     9.0                  18.0  0.99680  3.36       0.57   \n",
       "16                   35.0                 103.0  0.99690  3.30       0.75   \n",
       "37                   13.0                  30.0  0.99680  3.23       0.73   \n",
       "62                   12.0                  35.0  0.99680  3.38       0.62   \n",
       "...                   ...                   ...      ...   ...        ...   \n",
       "1541                 19.0                  49.0  0.99666  3.40       0.76   \n",
       "1544                 12.0                  19.0  0.99550  3.17       0.81   \n",
       "1549                 17.0                  24.0  0.99419  3.24       0.70   \n",
       "1555                 15.0                  24.0  0.99514  3.44       0.68   \n",
       "1584                 24.0                  34.0  0.99484  3.29       0.80   \n",
       "\n",
       "      alcohol  quality  \n",
       "7       10.00        7  \n",
       "8        9.50        7  \n",
       "16      10.50        7  \n",
       "37       9.70        7  \n",
       "62       9.50        7  \n",
       "...       ...      ...  \n",
       "1541    10.90        7  \n",
       "1544    11.20        7  \n",
       "1549    11.40        8  \n",
       "1555    10.55        7  \n",
       "1584    11.60        7  \n",
       "\n",
       "[217 rows x 12 columns]"
      ]
     },
     "execution_count": 15,
     "metadata": {},
     "output_type": "execute_result"
    }
   ],
   "source": [
    "TopQ = df[df['quality'] >= 7]\n",
    "TopQ"
   ]
  },
  {
   "cell_type": "markdown",
   "metadata": {},
   "source": [
    "#### G) What percentage of wines in \"TopQ\" has an alcohol content less than 10%? What is this percentage out of the entire set of wine (the original data)?"
   ]
  },
  {
   "cell_type": "code",
   "execution_count": 21,
   "metadata": {},
   "outputs": [
    {
     "name": "stdout",
     "output_type": "stream",
     "text": [
      "The percentage of wines with an alcohol content of less than 10% out of the top quality wines (Q>7) is  0.055\n",
      "The percentage of wines with an alcohol content of less than 10% out of the entire dataset is  0.008\n"
     ]
    }
   ],
   "source": [
    "TopQ_a10 = TopQ[TopQ['alcohol'] < 10.00]\n",
    "p1 = len(TopQ_a10)/len(TopQ)\n",
    "p2 = len(TopQ_a10)/len(df)\n",
    "\n",
    "print(\"The percentage of wines with an alcohol content of less than 10% out of the top quality wines (Q>7) is \",round(p1,3))\n",
    "print(\"The percentage of wines with an alcohol content of less than 10% out of the entire dataset is \",round(p2,3))"
   ]
  },
  {
   "cell_type": "markdown",
   "metadata": {},
   "source": [
    "#### H) What percentage of all wines has a ph between 2.5 and 3.5 and sulphates content higher than 0.6?"
   ]
  },
  {
   "cell_type": "code",
   "execution_count": 25,
   "metadata": {},
   "outputs": [
    {
     "data": {
      "text/plain": [
       "0.482801751094434"
      ]
     },
     "execution_count": 25,
     "metadata": {},
     "output_type": "execute_result"
    }
   ],
   "source": [
    "subset = df[(df['pH'] < 3.5) & (df['pH'] > 2.5) & (df['sulphates'] > 0.6)]\n",
    "p3 = len(subset)/len(df)\n",
    "p3"
   ]
  },
  {
   "cell_type": "markdown",
   "metadata": {},
   "source": [
    "#### I) Print the above subset of the dataframe, sorted by wine quality. "
   ]
  },
  {
   "cell_type": "code",
   "execution_count": 28,
   "metadata": {},
   "outputs": [
    {
     "data": {
      "text/html": [
       "<div>\n",
       "<style scoped>\n",
       "    .dataframe tbody tr th:only-of-type {\n",
       "        vertical-align: middle;\n",
       "    }\n",
       "\n",
       "    .dataframe tbody tr th {\n",
       "        vertical-align: top;\n",
       "    }\n",
       "\n",
       "    .dataframe thead th {\n",
       "        text-align: right;\n",
       "    }\n",
       "</style>\n",
       "<table border=\"1\" class=\"dataframe\">\n",
       "  <thead>\n",
       "    <tr style=\"text-align: right;\">\n",
       "      <th></th>\n",
       "      <th>fixed_acidity</th>\n",
       "      <th>volatile_acidity</th>\n",
       "      <th>citric_acid</th>\n",
       "      <th>residual_sugar</th>\n",
       "      <th>chlorides</th>\n",
       "      <th>free_sulfur_dioxide</th>\n",
       "      <th>total_sulfur_dioxide</th>\n",
       "      <th>density</th>\n",
       "      <th>pH</th>\n",
       "      <th>sulphates</th>\n",
       "      <th>alcohol</th>\n",
       "      <th>quality</th>\n",
       "    </tr>\n",
       "  </thead>\n",
       "  <tbody>\n",
       "    <tr>\n",
       "      <td>832</td>\n",
       "      <td>10.4</td>\n",
       "      <td>0.440</td>\n",
       "      <td>0.42</td>\n",
       "      <td>1.5</td>\n",
       "      <td>0.145</td>\n",
       "      <td>34.0</td>\n",
       "      <td>48.0</td>\n",
       "      <td>0.99832</td>\n",
       "      <td>3.38</td>\n",
       "      <td>0.86</td>\n",
       "      <td>9.9</td>\n",
       "      <td>3</td>\n",
       "    </tr>\n",
       "    <tr>\n",
       "      <td>517</td>\n",
       "      <td>10.4</td>\n",
       "      <td>0.610</td>\n",
       "      <td>0.49</td>\n",
       "      <td>2.1</td>\n",
       "      <td>0.200</td>\n",
       "      <td>5.0</td>\n",
       "      <td>16.0</td>\n",
       "      <td>0.99940</td>\n",
       "      <td>3.16</td>\n",
       "      <td>0.63</td>\n",
       "      <td>8.4</td>\n",
       "      <td>3</td>\n",
       "    </tr>\n",
       "    <tr>\n",
       "      <td>833</td>\n",
       "      <td>11.6</td>\n",
       "      <td>0.470</td>\n",
       "      <td>0.44</td>\n",
       "      <td>1.6</td>\n",
       "      <td>0.147</td>\n",
       "      <td>36.0</td>\n",
       "      <td>51.0</td>\n",
       "      <td>0.99836</td>\n",
       "      <td>3.38</td>\n",
       "      <td>0.86</td>\n",
       "      <td>9.9</td>\n",
       "      <td>4</td>\n",
       "    </tr>\n",
       "    <tr>\n",
       "      <td>633</td>\n",
       "      <td>10.1</td>\n",
       "      <td>0.935</td>\n",
       "      <td>0.22</td>\n",
       "      <td>3.4</td>\n",
       "      <td>0.105</td>\n",
       "      <td>11.0</td>\n",
       "      <td>86.0</td>\n",
       "      <td>1.00100</td>\n",
       "      <td>3.43</td>\n",
       "      <td>0.64</td>\n",
       "      <td>11.3</td>\n",
       "      <td>4</td>\n",
       "    </tr>\n",
       "    <tr>\n",
       "      <td>79</td>\n",
       "      <td>8.3</td>\n",
       "      <td>0.625</td>\n",
       "      <td>0.20</td>\n",
       "      <td>1.5</td>\n",
       "      <td>0.080</td>\n",
       "      <td>27.0</td>\n",
       "      <td>119.0</td>\n",
       "      <td>0.99720</td>\n",
       "      <td>3.16</td>\n",
       "      <td>1.12</td>\n",
       "      <td>9.1</td>\n",
       "      <td>4</td>\n",
       "    </tr>\n",
       "    <tr>\n",
       "      <td>...</td>\n",
       "      <td>...</td>\n",
       "      <td>...</td>\n",
       "      <td>...</td>\n",
       "      <td>...</td>\n",
       "      <td>...</td>\n",
       "      <td>...</td>\n",
       "      <td>...</td>\n",
       "      <td>...</td>\n",
       "      <td>...</td>\n",
       "      <td>...</td>\n",
       "      <td>...</td>\n",
       "      <td>...</td>\n",
       "    </tr>\n",
       "    <tr>\n",
       "      <td>267</td>\n",
       "      <td>7.9</td>\n",
       "      <td>0.350</td>\n",
       "      <td>0.46</td>\n",
       "      <td>3.6</td>\n",
       "      <td>0.078</td>\n",
       "      <td>15.0</td>\n",
       "      <td>37.0</td>\n",
       "      <td>0.99730</td>\n",
       "      <td>3.35</td>\n",
       "      <td>0.86</td>\n",
       "      <td>12.8</td>\n",
       "      <td>8</td>\n",
       "    </tr>\n",
       "    <tr>\n",
       "      <td>440</td>\n",
       "      <td>12.6</td>\n",
       "      <td>0.310</td>\n",
       "      <td>0.72</td>\n",
       "      <td>2.2</td>\n",
       "      <td>0.072</td>\n",
       "      <td>6.0</td>\n",
       "      <td>29.0</td>\n",
       "      <td>0.99870</td>\n",
       "      <td>2.88</td>\n",
       "      <td>0.82</td>\n",
       "      <td>9.8</td>\n",
       "      <td>8</td>\n",
       "    </tr>\n",
       "    <tr>\n",
       "      <td>1202</td>\n",
       "      <td>8.6</td>\n",
       "      <td>0.420</td>\n",
       "      <td>0.39</td>\n",
       "      <td>1.8</td>\n",
       "      <td>0.068</td>\n",
       "      <td>6.0</td>\n",
       "      <td>12.0</td>\n",
       "      <td>0.99516</td>\n",
       "      <td>3.35</td>\n",
       "      <td>0.69</td>\n",
       "      <td>11.7</td>\n",
       "      <td>8</td>\n",
       "    </tr>\n",
       "    <tr>\n",
       "      <td>1120</td>\n",
       "      <td>7.9</td>\n",
       "      <td>0.540</td>\n",
       "      <td>0.34</td>\n",
       "      <td>2.5</td>\n",
       "      <td>0.076</td>\n",
       "      <td>8.0</td>\n",
       "      <td>17.0</td>\n",
       "      <td>0.99235</td>\n",
       "      <td>3.20</td>\n",
       "      <td>0.72</td>\n",
       "      <td>13.1</td>\n",
       "      <td>8</td>\n",
       "    </tr>\n",
       "    <tr>\n",
       "      <td>498</td>\n",
       "      <td>10.7</td>\n",
       "      <td>0.350</td>\n",
       "      <td>0.53</td>\n",
       "      <td>2.6</td>\n",
       "      <td>0.070</td>\n",
       "      <td>5.0</td>\n",
       "      <td>16.0</td>\n",
       "      <td>0.99720</td>\n",
       "      <td>3.15</td>\n",
       "      <td>0.65</td>\n",
       "      <td>11.0</td>\n",
       "      <td>8</td>\n",
       "    </tr>\n",
       "  </tbody>\n",
       "</table>\n",
       "<p>772 rows × 12 columns</p>\n",
       "</div>"
      ],
      "text/plain": [
       "      fixed_acidity  volatile_acidity  citric_acid  residual_sugar  chlorides  \\\n",
       "832            10.4             0.440         0.42             1.5      0.145   \n",
       "517            10.4             0.610         0.49             2.1      0.200   \n",
       "833            11.6             0.470         0.44             1.6      0.147   \n",
       "633            10.1             0.935         0.22             3.4      0.105   \n",
       "79              8.3             0.625         0.20             1.5      0.080   \n",
       "...             ...               ...          ...             ...        ...   \n",
       "267             7.9             0.350         0.46             3.6      0.078   \n",
       "440            12.6             0.310         0.72             2.2      0.072   \n",
       "1202            8.6             0.420         0.39             1.8      0.068   \n",
       "1120            7.9             0.540         0.34             2.5      0.076   \n",
       "498            10.7             0.350         0.53             2.6      0.070   \n",
       "\n",
       "      free_sulfur_dioxide  total_sulfur_dioxide  density    pH  sulphates  \\\n",
       "832                  34.0                  48.0  0.99832  3.38       0.86   \n",
       "517                   5.0                  16.0  0.99940  3.16       0.63   \n",
       "833                  36.0                  51.0  0.99836  3.38       0.86   \n",
       "633                  11.0                  86.0  1.00100  3.43       0.64   \n",
       "79                   27.0                 119.0  0.99720  3.16       1.12   \n",
       "...                   ...                   ...      ...   ...        ...   \n",
       "267                  15.0                  37.0  0.99730  3.35       0.86   \n",
       "440                   6.0                  29.0  0.99870  2.88       0.82   \n",
       "1202                  6.0                  12.0  0.99516  3.35       0.69   \n",
       "1120                  8.0                  17.0  0.99235  3.20       0.72   \n",
       "498                   5.0                  16.0  0.99720  3.15       0.65   \n",
       "\n",
       "      alcohol  quality  \n",
       "832       9.9        3  \n",
       "517       8.4        3  \n",
       "833       9.9        4  \n",
       "633      11.3        4  \n",
       "79        9.1        4  \n",
       "...       ...      ...  \n",
       "267      12.8        8  \n",
       "440       9.8        8  \n",
       "1202     11.7        8  \n",
       "1120     13.1        8  \n",
       "498      11.0        8  \n",
       "\n",
       "[772 rows x 12 columns]"
      ]
     },
     "execution_count": 28,
     "metadata": {},
     "output_type": "execute_result"
    }
   ],
   "source": [
    "subset.sort_values(by='quality', ascending=True)"
   ]
  },
  {
   "cell_type": "markdown",
   "metadata": {},
   "source": [
    "#### J) Define a function that labels the wines based on their quality according to the table below: <br>\n",
    "\n",
    "|Quality Score|Label.|\n",
    "|---:|---:|\n",
    "|q>= 7|Top|\n",
    "|5<q<7|Average|\n",
    "|q<=5|Low|\n",
    "\n"
   ]
  },
  {
   "cell_type": "code",
   "execution_count": 33,
   "metadata": {},
   "outputs": [],
   "source": [
    "def WQ(x):\n",
    "    if x >= 7:\n",
    "        return \"Top\"\n",
    "    elif x <7 and x> 5:\n",
    "        return \"Average\"\n",
    "    else:\n",
    "        return \"Low\""
   ]
  },
  {
   "cell_type": "markdown",
   "metadata": {},
   "source": [
    "#### K) Apply the function on the data frame and store the result in a new column \"Qlabel\"."
   ]
  },
  {
   "cell_type": "code",
   "execution_count": 34,
   "metadata": {},
   "outputs": [
    {
     "data": {
      "text/html": [
       "<div>\n",
       "<style scoped>\n",
       "    .dataframe tbody tr th:only-of-type {\n",
       "        vertical-align: middle;\n",
       "    }\n",
       "\n",
       "    .dataframe tbody tr th {\n",
       "        vertical-align: top;\n",
       "    }\n",
       "\n",
       "    .dataframe thead th {\n",
       "        text-align: right;\n",
       "    }\n",
       "</style>\n",
       "<table border=\"1\" class=\"dataframe\">\n",
       "  <thead>\n",
       "    <tr style=\"text-align: right;\">\n",
       "      <th></th>\n",
       "      <th>fixed_acidity</th>\n",
       "      <th>volatile_acidity</th>\n",
       "      <th>citric_acid</th>\n",
       "      <th>residual_sugar</th>\n",
       "      <th>chlorides</th>\n",
       "      <th>free_sulfur_dioxide</th>\n",
       "      <th>total_sulfur_dioxide</th>\n",
       "      <th>density</th>\n",
       "      <th>pH</th>\n",
       "      <th>sulphates</th>\n",
       "      <th>alcohol</th>\n",
       "      <th>quality</th>\n",
       "      <th>Qlabel</th>\n",
       "    </tr>\n",
       "  </thead>\n",
       "  <tbody>\n",
       "    <tr>\n",
       "      <td>0</td>\n",
       "      <td>7.4</td>\n",
       "      <td>0.700</td>\n",
       "      <td>0.00</td>\n",
       "      <td>1.9</td>\n",
       "      <td>0.076</td>\n",
       "      <td>11.0</td>\n",
       "      <td>34.0</td>\n",
       "      <td>0.99780</td>\n",
       "      <td>3.51</td>\n",
       "      <td>0.56</td>\n",
       "      <td>9.4</td>\n",
       "      <td>5</td>\n",
       "      <td>Low</td>\n",
       "    </tr>\n",
       "    <tr>\n",
       "      <td>1</td>\n",
       "      <td>7.8</td>\n",
       "      <td>0.880</td>\n",
       "      <td>0.00</td>\n",
       "      <td>2.6</td>\n",
       "      <td>0.098</td>\n",
       "      <td>25.0</td>\n",
       "      <td>67.0</td>\n",
       "      <td>0.99680</td>\n",
       "      <td>3.20</td>\n",
       "      <td>0.68</td>\n",
       "      <td>9.8</td>\n",
       "      <td>5</td>\n",
       "      <td>Low</td>\n",
       "    </tr>\n",
       "    <tr>\n",
       "      <td>2</td>\n",
       "      <td>7.8</td>\n",
       "      <td>0.760</td>\n",
       "      <td>0.04</td>\n",
       "      <td>2.3</td>\n",
       "      <td>0.092</td>\n",
       "      <td>15.0</td>\n",
       "      <td>54.0</td>\n",
       "      <td>0.99700</td>\n",
       "      <td>3.26</td>\n",
       "      <td>0.65</td>\n",
       "      <td>9.8</td>\n",
       "      <td>5</td>\n",
       "      <td>Low</td>\n",
       "    </tr>\n",
       "    <tr>\n",
       "      <td>3</td>\n",
       "      <td>11.2</td>\n",
       "      <td>0.280</td>\n",
       "      <td>0.56</td>\n",
       "      <td>1.9</td>\n",
       "      <td>0.075</td>\n",
       "      <td>17.0</td>\n",
       "      <td>60.0</td>\n",
       "      <td>0.99800</td>\n",
       "      <td>3.16</td>\n",
       "      <td>0.58</td>\n",
       "      <td>9.8</td>\n",
       "      <td>6</td>\n",
       "      <td>Average</td>\n",
       "    </tr>\n",
       "    <tr>\n",
       "      <td>4</td>\n",
       "      <td>7.4</td>\n",
       "      <td>0.700</td>\n",
       "      <td>0.00</td>\n",
       "      <td>1.9</td>\n",
       "      <td>0.076</td>\n",
       "      <td>11.0</td>\n",
       "      <td>34.0</td>\n",
       "      <td>0.99780</td>\n",
       "      <td>3.51</td>\n",
       "      <td>0.56</td>\n",
       "      <td>9.4</td>\n",
       "      <td>5</td>\n",
       "      <td>Low</td>\n",
       "    </tr>\n",
       "    <tr>\n",
       "      <td>...</td>\n",
       "      <td>...</td>\n",
       "      <td>...</td>\n",
       "      <td>...</td>\n",
       "      <td>...</td>\n",
       "      <td>...</td>\n",
       "      <td>...</td>\n",
       "      <td>...</td>\n",
       "      <td>...</td>\n",
       "      <td>...</td>\n",
       "      <td>...</td>\n",
       "      <td>...</td>\n",
       "      <td>...</td>\n",
       "      <td>...</td>\n",
       "    </tr>\n",
       "    <tr>\n",
       "      <td>1594</td>\n",
       "      <td>6.2</td>\n",
       "      <td>0.600</td>\n",
       "      <td>0.08</td>\n",
       "      <td>2.0</td>\n",
       "      <td>0.090</td>\n",
       "      <td>32.0</td>\n",
       "      <td>44.0</td>\n",
       "      <td>0.99490</td>\n",
       "      <td>3.45</td>\n",
       "      <td>0.58</td>\n",
       "      <td>10.5</td>\n",
       "      <td>5</td>\n",
       "      <td>Low</td>\n",
       "    </tr>\n",
       "    <tr>\n",
       "      <td>1595</td>\n",
       "      <td>5.9</td>\n",
       "      <td>0.550</td>\n",
       "      <td>0.10</td>\n",
       "      <td>2.2</td>\n",
       "      <td>0.062</td>\n",
       "      <td>39.0</td>\n",
       "      <td>51.0</td>\n",
       "      <td>0.99512</td>\n",
       "      <td>3.52</td>\n",
       "      <td>0.76</td>\n",
       "      <td>11.2</td>\n",
       "      <td>6</td>\n",
       "      <td>Average</td>\n",
       "    </tr>\n",
       "    <tr>\n",
       "      <td>1596</td>\n",
       "      <td>6.3</td>\n",
       "      <td>0.510</td>\n",
       "      <td>0.13</td>\n",
       "      <td>2.3</td>\n",
       "      <td>0.076</td>\n",
       "      <td>29.0</td>\n",
       "      <td>40.0</td>\n",
       "      <td>0.99574</td>\n",
       "      <td>3.42</td>\n",
       "      <td>0.75</td>\n",
       "      <td>11.0</td>\n",
       "      <td>6</td>\n",
       "      <td>Average</td>\n",
       "    </tr>\n",
       "    <tr>\n",
       "      <td>1597</td>\n",
       "      <td>5.9</td>\n",
       "      <td>0.645</td>\n",
       "      <td>0.12</td>\n",
       "      <td>2.0</td>\n",
       "      <td>0.075</td>\n",
       "      <td>32.0</td>\n",
       "      <td>44.0</td>\n",
       "      <td>0.99547</td>\n",
       "      <td>3.57</td>\n",
       "      <td>0.71</td>\n",
       "      <td>10.2</td>\n",
       "      <td>5</td>\n",
       "      <td>Low</td>\n",
       "    </tr>\n",
       "    <tr>\n",
       "      <td>1598</td>\n",
       "      <td>6.0</td>\n",
       "      <td>0.310</td>\n",
       "      <td>0.47</td>\n",
       "      <td>3.6</td>\n",
       "      <td>0.067</td>\n",
       "      <td>18.0</td>\n",
       "      <td>42.0</td>\n",
       "      <td>0.99549</td>\n",
       "      <td>3.39</td>\n",
       "      <td>0.66</td>\n",
       "      <td>11.0</td>\n",
       "      <td>6</td>\n",
       "      <td>Average</td>\n",
       "    </tr>\n",
       "  </tbody>\n",
       "</table>\n",
       "<p>1599 rows × 13 columns</p>\n",
       "</div>"
      ],
      "text/plain": [
       "      fixed_acidity  volatile_acidity  citric_acid  residual_sugar  chlorides  \\\n",
       "0               7.4             0.700         0.00             1.9      0.076   \n",
       "1               7.8             0.880         0.00             2.6      0.098   \n",
       "2               7.8             0.760         0.04             2.3      0.092   \n",
       "3              11.2             0.280         0.56             1.9      0.075   \n",
       "4               7.4             0.700         0.00             1.9      0.076   \n",
       "...             ...               ...          ...             ...        ...   \n",
       "1594            6.2             0.600         0.08             2.0      0.090   \n",
       "1595            5.9             0.550         0.10             2.2      0.062   \n",
       "1596            6.3             0.510         0.13             2.3      0.076   \n",
       "1597            5.9             0.645         0.12             2.0      0.075   \n",
       "1598            6.0             0.310         0.47             3.6      0.067   \n",
       "\n",
       "      free_sulfur_dioxide  total_sulfur_dioxide  density    pH  sulphates  \\\n",
       "0                    11.0                  34.0  0.99780  3.51       0.56   \n",
       "1                    25.0                  67.0  0.99680  3.20       0.68   \n",
       "2                    15.0                  54.0  0.99700  3.26       0.65   \n",
       "3                    17.0                  60.0  0.99800  3.16       0.58   \n",
       "4                    11.0                  34.0  0.99780  3.51       0.56   \n",
       "...                   ...                   ...      ...   ...        ...   \n",
       "1594                 32.0                  44.0  0.99490  3.45       0.58   \n",
       "1595                 39.0                  51.0  0.99512  3.52       0.76   \n",
       "1596                 29.0                  40.0  0.99574  3.42       0.75   \n",
       "1597                 32.0                  44.0  0.99547  3.57       0.71   \n",
       "1598                 18.0                  42.0  0.99549  3.39       0.66   \n",
       "\n",
       "      alcohol  quality   Qlabel  \n",
       "0         9.4        5      Low  \n",
       "1         9.8        5      Low  \n",
       "2         9.8        5      Low  \n",
       "3         9.8        6  Average  \n",
       "4         9.4        5      Low  \n",
       "...       ...      ...      ...  \n",
       "1594     10.5        5      Low  \n",
       "1595     11.2        6  Average  \n",
       "1596     11.0        6  Average  \n",
       "1597     10.2        5      Low  \n",
       "1598     11.0        6  Average  \n",
       "\n",
       "[1599 rows x 13 columns]"
      ]
     },
     "execution_count": 34,
     "metadata": {},
     "output_type": "execute_result"
    }
   ],
   "source": [
    "df[\"Qlabel\"] = df[\"quality\"].apply(WQ)\n",
    "df"
   ]
  },
  {
   "cell_type": "markdown",
   "metadata": {},
   "source": [
    "#### L) Report the share of each quality label in percentage."
   ]
  },
  {
   "cell_type": "code",
   "execution_count": 40,
   "metadata": {},
   "outputs": [
    {
     "name": "stdout",
     "output_type": "stream",
     "text": [
      "The share of Top quality wines is  13.57 %\n",
      "The share of Average quality wines is  39.9 %\n",
      "The share of Low quality wines is  46.53 %\n"
     ]
    }
   ],
   "source": [
    "p1 = len(df[df['Qlabel'] == \"Top\"])*100/len(df)\n",
    "p2 = len(df[df['Qlabel'] == \"Average\"])*100/len(df)\n",
    "p3 = len(df[df['Qlabel'] == \"Low\"])*100/len(df)\n",
    "\n",
    "print(\"The share of Top quality wines is \",round(p1,2),\"%\")\n",
    "print(\"The share of Average quality wines is \",round(p2,2),\"%\")\n",
    "print(\"The share of Low quality wines is \",round(p3,2),\"%\")\n"
   ]
  },
  {
   "cell_type": "markdown",
   "metadata": {},
   "source": [
    "#### M) Plot a histogram of pH for all the Low quality wines. Explain what you can infer from this plot. "
   ]
  },
  {
   "cell_type": "code",
   "execution_count": null,
   "metadata": {},
   "outputs": [],
   "source": [
    "import matplotlib.pyplot as plt\n",
    "lq = df[df['Qlabel'] == \"Low\"]\n",
    "\n",
    "plt.hist(lq['pH'])\n",
    "plt.title(' Histogram of pH for Low quality wines')      # Set the plot title\n",
    "plt.xlabel('pH')             # Set the label for x-axis\n",
    "plt.ylabel(' Frequency')             # Set the label for y-axis"
   ]
  },
  {
   "cell_type": "markdown",
   "metadata": {},
   "source": [
    "#### N) Make a similar histogram for pH for all the Top quality wines. Put the new histogram and the previous one next to each other and explain what you can infer by comparing them. "
   ]
  },
  {
   "cell_type": "code",
   "execution_count": 47,
   "metadata": {},
   "outputs": [
    {
     "data": {
      "text/plain": [
       "Text(0, 0.5, ' Frequency')"
      ]
     },
     "execution_count": 47,
     "metadata": {},
     "output_type": "execute_result"
    },
    {
     "data": {
      "image/png": "[encoded data removed]",
      "text/plain": [
       "<Figure size 432x288 with 2 Axes>"
      ]
     },
     "metadata": {
      "needs_background": "light"
     },
     "output_type": "display_data"
    }
   ],
   "source": [
    "tq = df[df['Qlabel'] == \"Top\"]\n",
    "\n",
    "\n",
    "plt.subplot(1,2,1)                 # (nrows,ncols,plot_number)\n",
    "plt.hist(lq['pH'])\n",
    "plt.title(' Histogram of pH for Low quality wines')      # Set the plot title\n",
    "plt.xlabel('pH')             # Set the label for x-axis\n",
    "plt.ylabel(' Frequency')             # Set the label for y-axisplt.subplot(1,2,2)\n",
    "plt.subplot(1,2,2)                 # (nrows,ncols,plot_number)\n",
    "plt.hist(tq['pH'])\n",
    "plt.title(' Histogram of pH for Top quality wines')      # Set the plot title\n",
    "plt.xlabel('pH')             # Set the label for x-axis\n",
    "plt.ylabel(' Frequency')             # Set the label for y-axis\n",
    "\n"
   ]
  },
  {
   "cell_type": "code",
   "execution_count": null,
   "metadata": {},
   "outputs": [],
   "source": []
  },
  {
   "cell_type": "markdown",
   "metadata": {},
   "source": [
    "___\n",
    "# Question 3 (15 pts): The Experiment!\n",
    "\n",
    "![](https://onthewards.org/wp-content/uploads/2017/03/dropping-the-ball-part-1.jpg) <br>\n",
    "\n",
    "\n",
    "### An experiment has been carried out in which a ball is droped from a known height and its speed is recorded at every second. The table below contains that information.\n",
    "\n",
    "|Elapsed Time (s)|Speed (m/s)|\n",
    "|---:|---:|\n",
    "|0 |0|\n",
    "|1.0 |3|\n",
    "|2.0 |7.4|\n",
    "|3.0 |16.2|\n",
    "|4.0 |23.5|\n",
    "|5.0 |32.2|\n",
    "|6.0 | 42.2| \n",
    "|7.0 | 65.1 |\n",
    "|8.0 | 73.5 |\n",
    "|9.0 | 99.3 |\n",
    "|10.0| 123.4|\n",
    "\n",
    "\n",
    "### Based on the provided data, follow the steps and answer the questions.\n"
   ]
  },
  {
   "cell_type": "markdown",
   "metadata": {},
   "source": [
    "#### A) Create a 1D numpy array for \"Elapsed Time\" and another one for \"Speed\"."
   ]
  },
  {
   "cell_type": "code",
   "execution_count": 67,
   "metadata": {},
   "outputs": [
    {
     "name": "stdout",
     "output_type": "stream",
     "text": [
      "[ 0.  1.  2.  3.  4.  5.  6.  7.  8.  9. 10.]\n",
      "[  0.    3.    7.4  16.2  23.5  32.2  42.2  65.1  73.5  99.3 123.4]\n"
     ]
    }
   ],
   "source": [
    "import numpy as np\n",
    "\n",
    "t = np.array([0,1.,2.,3.,4.,5.,6.,7.,8.,9.,10.])\n",
    "print(t)\n",
    "s = np.array([0,3.,7.4,16.2,23.5,32.2,42.2,65.1,73.5,99.3,123.4])\n",
    "print(s)"
   ]
  },
  {
   "cell_type": "markdown",
   "metadata": {},
   "source": [
    "#### B) Use the right numpy function(s) and calculate the average speed over the duration of the experiment. "
   ]
  },
  {
   "cell_type": "code",
   "execution_count": 68,
   "metadata": {},
   "outputs": [
    {
     "name": "stdout",
     "output_type": "stream",
     "text": [
      "The average speed of the ball over the duration of the experiment was  44.16  m/s\n"
     ]
    }
   ],
   "source": [
    "print(\"The average speed of the ball over the duration of the experiment was \", round(s.mean(),2),\" m/s\")\n"
   ]
  },
  {
   "cell_type": "markdown",
   "metadata": {},
   "source": [
    "#### C) Plot the speed vs time (speed on y-axis, time on x-axis) using a scatter plot.  Use blue markers. "
   ]
  },
  {
   "cell_type": "code",
   "execution_count": 69,
   "metadata": {},
   "outputs": [
    {
     "data": {
      "text/plain": [
       "Text(0, 0.5, ' Speed (m/s) ')"
      ]
     },
     "execution_count": 69,
     "metadata": {},
     "output_type": "execute_result"
    },
    {
     "data": {
      "image/png": "[encoded data removed]",
      "text/plain": [
       "<Figure size 432x288 with 1 Axes>"
      ]
     },
     "metadata": {
      "needs_background": "light"
     },
     "output_type": "display_data"
    }
   ],
   "source": [
    "import matplotlib.pyplot as plt\n",
    "\n",
    "plt.scatter(t,s)\n",
    "plt.title(' The Speed vs. Elapsed Time plot')      # Set the plot title\n",
    "plt.xlabel(' Time (s) ')             # Set the label for x-axis\n",
    "plt.ylabel(' Speed (m/s) ')             # Set the label for y-axis"
   ]
  },
  {
   "cell_type": "markdown",
   "metadata": {},
   "source": [
    "#### D) Plot a red line on the scatterplot based on the linear model $f(x) = mx + b$"
   ]
  },
  {
   "cell_type": "code",
   "execution_count": 70,
   "metadata": {},
   "outputs": [
    {
     "data": {
      "text/plain": [
       "[<matplotlib.lines.Line2D at 0x1306a161a08>]"
      ]
     },
     "execution_count": 70,
     "metadata": {},
     "output_type": "execute_result"
    },
    {
     "data": {
      "image/png": "[encoded data removed]",
      "text/plain": [
       "<Figure size 432x288 with 1 Axes>"
      ]
     },
     "metadata": {
      "needs_background": "light"
     },
     "output_type": "display_data"
    }
   ],
   "source": [
    "x = np.linspace(0,10,100)\n",
    "m=12\n",
    "b=-15\n",
    "y = m*x+b\n",
    "\n",
    "plt.scatter(t,s)\n",
    "plt.title(' The Speed vs. Elapsed Time plot')      # Set the plot title\n",
    "plt.xlabel(' Time (s) ')             # Set the label for x-axis\n",
    "plt.ylabel(' Speed (m/s) ')             # Set the label for y-axis\n",
    "plt.plot(x,y,'red')                   # Add the red line\n"
   ]
  },
  {
   "cell_type": "markdown",
   "metadata": {},
   "source": [
    "#### E) By trial-and-error find values of $m$ and $b$ that provide a good visual fit (i.e. makes the red line explain the blue markers)."
   ]
  },
  {
   "cell_type": "code",
   "execution_count": 71,
   "metadata": {},
   "outputs": [],
   "source": [
    "m=12\n",
    "b=-15"
   ]
  },
  {
   "cell_type": "markdown",
   "metadata": {},
   "source": [
    "#### F) Using this data model estimate the speed at $t = 15~\\texttt{sec.}$"
   ]
  },
  {
   "cell_type": "code",
   "execution_count": 72,
   "metadata": {},
   "outputs": [
    {
     "name": "stdout",
     "output_type": "stream",
     "text": [
      "Estimated speed at t=15 sec based on the linear data model is  165  m/s\n"
     ]
    }
   ],
   "source": [
    "x1 = 15\n",
    "y = m*x1+b\n",
    "print(\"Estimated speed at t=15 sec based on the linear data model is \",y,\" m/s\")"
   ]
  },
  {
   "cell_type": "code",
   "execution_count": null,
   "metadata": {},
   "outputs": [],
   "source": []
  },
  {
   "cell_type": "markdown",
   "metadata": {},
   "source": [
    "___\n",
    "# Bonus Question for extra credit!\n",
    "\n",
    "![](https://images.squarespace-cdn.com/content/v1/53e9e56be4b08138fefa5095/1526088540947-YAAMTJM58SEAWNKCJUEE/160912_The_N_That_Connects_1-1.4.1.gif) <br>\n",
    "\n",
    "### This is a simulation of a real-world data analysis project. It will require your knowledge and skills but above all, it will require your engineering judgement. For each question, you need to provide a clear and concise answer, a well-documented code, solid justification for your answer and every decision and assumption you make, and an appropriate visualization if you see fit. \n",
    "\n",
    "#### A dataset is provided that contains  tv shows and movies available on Netflix. This dataset is available at https://www.kaggle.com/shivamb/netflix-shows.   \n",
    "\n",
    "> FEATURES:<br>\n",
    "SHOW-ID - Unique id of each show (not much of a use for us in this notebook)<br>\n",
    "TYPE - The category of a show, can be either a Movie or a TV Show<br>\n",
    "TITLE - Name of the show<br>\n",
    "DIRECTOR - Name of the director(s) of the show<br>\n",
    "CAST - Name of the show<br>\n",
    "COUNTRY - Name of countries the show is available to watch on Netflix<br>\n",
    "DATE ADDED - Date when the show was added on Netflix<br>\n",
    "RATING - Show rating on netflix<br>\n",
    "RELEASE YEAR - Release year of the show<br>\n",
    "DURATION - Time duration of the show<br>\n",
    "LISTED IN - Genre of the show<br>\n",
    "\n",
    "### Questions:\n",
    "#### A) Describe the dataset with as much detail as you see appropriate. \n",
    "#### B) Which country has the most TV Shows and which countries has the least Movies?\n",
    "#### C) How has the Netflix contents changed (in number) for the titles added over the years from 2000 to 2020 (on a yearly basis). Is it different for Movies and TV Shows?\n",
    "#### D) What is the most common rating (age restriction) on Netflix? How has it changed for the products released before 2000 and after 2000?\n"
   ]
  },
  {
   "cell_type": "code",
   "execution_count": 76,
   "metadata": {},
   "outputs": [
    {
     "name": "stdout",
     "output_type": "stream",
     "text": [
      "<class 'pandas.core.frame.DataFrame'>\n",
      "RangeIndex: 8807 entries, 0 to 8806\n",
      "Data columns (total 11 columns):\n",
      "show_id         8807 non-null object\n",
      "type            8807 non-null object\n",
      "title           8807 non-null object\n",
      "director        6173 non-null object\n",
      "cast            7982 non-null object\n",
      "country         7976 non-null object\n",
      "date_added      8797 non-null object\n",
      "release_year    8807 non-null int64\n",
      "rating          8803 non-null object\n",
      "duration        8804 non-null object\n",
      "listed_in       8807 non-null object\n",
      "dtypes: int64(1), object(10)\n",
      "memory usage: 757.0+ KB\n"
     ]
    }
   ],
   "source": [
    "#Suggested Solution:\n",
    "# For A\n",
    "import pandas as pd\n",
    "\n",
    "\n",
    "df = pd.read_csv('NetflixData.csv')\n",
    "df.head()\n",
    "df.describe()\n",
    "df.info()"
   ]
  },
  {
   "cell_type": "code",
   "execution_count": 84,
   "metadata": {},
   "outputs": [
    {
     "name": "stdout",
     "output_type": "stream",
     "text": [
      "col_0         country  type\n",
      "0           Australia    48\n",
      "1               Spain    48\n",
      "2              France    49\n",
      "3              Canada    59\n",
      "4              Taiwan    68\n",
      "5               India    79\n",
      "6         South Korea   158\n",
      "7               Japan   169\n",
      "8      United Kingdom   213\n",
      "9       United States   760\n"
     ]
    },
    {
     "data": {
      "text/plain": [
       "United States     760\n",
       "United Kingdom    213\n",
       "Japan             169\n",
       "South Korea       158\n",
       "India              79\n",
       "Taiwan             68\n",
       "Canada             59\n",
       "France             49\n",
       "Spain              48\n",
       "Australia          48\n",
       "Name: country, dtype: int64"
      ]
     },
     "execution_count": 84,
     "metadata": {},
     "output_type": "execute_result"
    }
   ],
   "source": [
    "# For B\n",
    "movies = df[df['type'] == \"Movie\"]\n",
    "series = df[df['type'] == \"TV Show\"]\n",
    "\n",
    "\n",
    "mtv=pd.crosstab(series[\"country\"],[\"type\"]).sort_values(by=\"type\",ascending=True)[-10:].reset_index()\n",
    "print(mtv)\n",
    "\n",
    "# or ...\n",
    "series['country'].value_counts().head(10)"
   ]
  },
  {
   "cell_type": "code",
   "execution_count": 85,
   "metadata": {},
   "outputs": [
    {
     "name": "stdout",
     "output_type": "stream",
     "text": [
      "col_0                                       country  type\n",
      "0      India, United Kingdom, Canada, United States     1\n",
      "1                                     India, Turkey     1\n",
      "2                                India, Switzerland     1\n",
      "3                                   India, Pakistan     1\n",
      "4                                      India, Nepal     1\n",
      "5                                     India, Mexico     1\n",
      "6                                   India, Malaysia     1\n",
      "7                                      India, Japan     1\n",
      "8                                       India, Iran     1\n",
      "9                                          Zimbabwe     1\n"
     ]
    },
    {
     "data": {
      "text/plain": [
       "United States, Russia                             1\n",
       "Cyprus                                            1\n",
       "Argentina, Spain                                  1\n",
       "Japan, Canada, United States                      1\n",
       "Australia, New Zealand                            1\n",
       "Switzerland                                       1\n",
       "Ireland, Canada, United States, United Kingdom    1\n",
       "United Kingdom, United States, Ireland            1\n",
       "Malaysia, Singapore, Hong Kong                    1\n",
       "United Kingdom, Spain                             1\n",
       "Name: country, dtype: int64"
      ]
     },
     "execution_count": 85,
     "metadata": {},
     "output_type": "execute_result"
    }
   ],
   "source": [
    "# For B\n",
    "movies = df[df['type'] == \"Movie\"]\n",
    "series = df[df['type'] == \"TV Show\"]\n",
    "\n",
    "\n",
    "lm=pd.crosstab(movies[\"country\"],[\"type\"]).sort_values(by=\"type\",ascending=False)[-10:].reset_index()\n",
    "print(lm)\n",
    "\n",
    "# or ...\n",
    "series['country'].value_counts().tail(10)"
   ]
  },
  {
   "cell_type": "code",
   "execution_count": 115,
   "metadata": {},
   "outputs": [
    {
     "data": {
      "text/plain": [
       "[<matplotlib.lines.Line2D at 0x1306a9c4dc8>]"
      ]
     },
     "execution_count": 115,
     "metadata": {},
     "output_type": "execute_result"
    },
    {
     "data": {
      "image/png": "[encoded data removed]",
      "text/plain": [
       "<Figure size 720x360 with 1 Axes>"
      ]
     },
     "metadata": {
      "needs_background": "light"
     },
     "output_type": "display_data"
    }
   ],
   "source": [
    "# For C\n",
    "import numpy as np\n",
    "x = [len(df[df['release_year'] == 2000]),len(df[df['release_year'] == 2001]),len(df[df['release_year'] == 2002]),\n",
    "    len(df[df['release_year'] == 2003]),len(df[df['release_year'] == 2004]),len(df[df['release_year'] == 2005]),\n",
    "    len(df[df['release_year'] == 2006]),len(df[df['release_year'] == 2007]),len(df[df['release_year'] == 2008]),\n",
    "    len(df[df['release_year'] == 2009]),len(df[df['release_year'] == 2010]),len(df[df['release_year'] == 2011]),\n",
    "    len(df[df['release_year'] == 2012]),len(df[df['release_year'] == 2013]),len(df[df['release_year'] == 2014]),\n",
    "    len(df[df['release_year'] == 2015]),len(df[df['release_year'] == 2016]),len(df[df['release_year'] == 2017]),\n",
    "    len(df[df['release_year'] == 2018]),len(df[df['release_year'] == 2019]),len(df[df['release_year'] == 2020])]\n",
    "y = np.arange(2000, 2021, 1)\n",
    "array = np.array(x)\n",
    "zz = np.concatenate((x, y), axis=0)\n",
    "array2d= np.reshape(zz, (21,2), order='F')\n",
    "d=pd.DataFrame(array2d)\n",
    "\n",
    "fig = plt.figure(figsize=(10,5))\n",
    "ax = fig.add_axes([0.1,0.2,0.8,0.9])\n",
    "\n",
    "ax.plot(d[1],d[0])"
   ]
  },
  {
   "cell_type": "code",
   "execution_count": 116,
   "metadata": {},
   "outputs": [],
   "source": [
    "# For D\n",
    "post2000 = df[df['release_year'] >= 2000]\n",
    "pre2000 = df[df['release_year'] < 2000]"
   ]
  },
  {
   "cell_type": "code",
   "execution_count": 119,
   "metadata": {},
   "outputs": [
    {
     "data": {
      "text/plain": [
       "TV-MA    3207\n",
       "TV-14    2160\n",
       "TV-PG     863\n",
       "R         799\n",
       "PG-13     490\n",
       "TV-Y7     334\n",
       "TV-Y      307\n",
       "PG        287\n",
       "TV-G      220\n",
       "NR         80\n",
       "Name: rating, dtype: int64"
      ]
     },
     "execution_count": 119,
     "metadata": {},
     "output_type": "execute_result"
    }
   ],
   "source": [
    "df['rating'].value_counts().head(10)"
   ]
  },
  {
   "cell_type": "code",
   "execution_count": 120,
   "metadata": {},
   "outputs": [
    {
     "data": {
      "text/plain": [
       "TV-MA    3143\n",
       "TV-14    2027\n",
       "TV-PG     809\n",
       "R         688\n",
       "PG-13     421\n",
       "TV-Y7     325\n",
       "TV-Y      305\n",
       "PG        240\n",
       "TV-G      208\n",
       "NR         73\n",
       "Name: rating, dtype: int64"
      ]
     },
     "execution_count": 120,
     "metadata": {},
     "output_type": "execute_result"
    }
   ],
   "source": [
    "post2000['rating'].value_counts().head(10)"
   ]
  },
  {
   "cell_type": "code",
   "execution_count": 121,
   "metadata": {},
   "outputs": [
    {
     "data": {
      "text/plain": [
       "TV-14    133\n",
       "R        111\n",
       "PG-13     69\n",
       "TV-MA     64\n",
       "TV-PG     54\n",
       "PG        47\n",
       "G         16\n",
       "TV-G      12\n",
       "TV-Y7      9\n",
       "NR         7\n",
       "Name: rating, dtype: int64"
      ]
     },
     "execution_count": 121,
     "metadata": {},
     "output_type": "execute_result"
    }
   ],
   "source": [
    "pre2000['rating'].value_counts().head(10)"
   ]
  },
  {
   "cell_type": "markdown",
   "metadata": {},
   "source": [
    "![](https://freight.cargo.site/w/1200/i/c96b2ce17b2aee95c6e837552e3e38d058ac4ad2a6759448ed78128963790744/Happy_Coding_BC_6-03-05.png)"
   ]
  },
  {
   "cell_type": "code",
   "execution_count": null,
   "metadata": {},
   "outputs": [],
   "source": []
  }
 ],
 "metadata": {
  "kernelspec": {
   "display_name": "Python 3",
   "language": "python",
   "name": "python3"
  },
  "language_info": {
   "codemirror_mode": {
    "name": "ipython",
    "version": 3
   },
   "file_extension": ".py",
   "mimetype": "text/x-python",
   "name": "python",
   "nbconvert_exporter": "python",
   "pygments_lexer": "ipython3",
   "version": "3.7.4"
  }
 },
 "nbformat": 4,
 "nbformat_minor": 4
}
