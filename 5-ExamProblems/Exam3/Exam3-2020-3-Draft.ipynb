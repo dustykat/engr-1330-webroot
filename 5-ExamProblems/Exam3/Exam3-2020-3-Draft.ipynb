{
 "cells": [
  {
   "cell_type": "markdown",
   "metadata": {},
   "source": [
    "<div class=\"alert alert-block alert-danger\">\n",
    "    <b><h1> ENGR 1330 Exam 3 Sec 001 Fall 2021 </h1></b> \n",
    "</div>\n",
    "\n",
    "---\n",
    "Instructions:\n",
    "- Work directly in this notebook, upon completion render the notebook as a PDF file.\n",
    "- Upload your solution PDF **AND** the .ipynb  (2 files) to the Blackboard repository for grading!\n",
    "- Multiple attempts are allowed in the 48-hour time window\n",
    "- Internet resources are allowed, remember to cite what you copy from elsewhere.\n",
    "- Consulting with each other is **not** permitted.\n",
    "- Sharing work with each other is **not** permitted.\n",
    "- Working together is **not** permitted.\n",
    "\n",
    "---"
   ]
  },
  {
   "cell_type": "markdown",
   "metadata": {},
   "source": [
    "<div class=\"alert alert-block alert-danger\">\n",
    "    <b><h1> Problem 1: Profile your Computer (10 points) </h1></b> \n",
    "</div>\n",
    "\n",
    "**LAST NAME, FIRST NAME**\n",
    "\n",
    "**R00000000**\n",
    "\n",
    "ENGR 1330 Exam 3 - Take-Home\n",
    "\n",
    "Run the two code cells below (activate correct parts based on your computer type)"
   ]
  },
  {
   "cell_type": "code",
   "execution_count": null,
   "metadata": {},
   "outputs": [],
   "source": [
    "# Run the Preamble script block to identify host, user, and kernel\n",
    "# MacOS \n",
    "import sys\n",
    "! hostname\n",
    "! whoami\n",
    "print(sys.executable)\n",
    "print(sys.version)\n",
    "print(sys.version_info)"
   ]
  },
  {
   "cell_type": "code",
   "execution_count": 113,
   "metadata": {},
   "outputs": [
    {
     "data": {
      "text/html": [
       "<!--Script block to left align Markdown Tables-->\n",
       "<style>\n",
       "  table {margin-left: 0 !important;}\n",
       "</style>\n"
      ],
      "text/plain": [
       "<IPython.core.display.HTML object>"
      ]
     },
     "metadata": {},
     "output_type": "display_data"
    }
   ],
   "source": [
    "%%html\n",
    "<!--Script block to left align Markdown Tables-->\n",
    "<style>\n",
    "  table {margin-left: 0 !important;}\n",
    "</style>"
   ]
  },
  {
   "cell_type": "markdown",
   "metadata": {},
   "source": [
    "---\n",
    "<div class=\"alert alert-block alert-danger\">\n",
    "    <b><h1> Problem 2: Water Quality Comparison (20 points) </h1></b> \n",
    "</div>\n",
    "\n",
    "### Background\n",
    "\n",
    "Country Club Bayou, formerly Slaughterhouse Ditch, is located in southeast Houston.\n",
    "The bayou drains from east to west connecting to Brays Bayou. The upper portion of the\n",
    "bayou is conveyed in a concrete channel that was initially placed in the early 1900’s. The\n",
    "lower portion of the bayou from the Hughes Street railroad bridge to the confluence with\n",
    "Braes Bayou is open, unlined channel.\n",
    "\n",
    "Pollution of the bayou has been problematic for at least a dozen years. Currently\n",
    "suspected high nutrient loading somewhere in the covered portion of the bayou\n",
    "contributes to observed low dissolved oxygen values, a septic `odor`, and septic (black)\n",
    "color. The out-fall from the covered portion of the bayou to the open portion is just\n",
    "upstream of the Hughes Street Bridge. Samples collected at the bridge by the City of\n",
    "Houston Health Department confirm these historical observations.\n",
    "\n",
    "At times the water at the out-fall just upstream of the Hughes Street Bridge has not meet\n",
    "state water quality standards for unclassified waters. Unclassified waters are waters\n",
    "which are not specifically listed in Appendices A or D of §307.10 of Title:30, Part 1,\n",
    "Chapter 307 of the Texas Administrative Code. \n",
    "\n",
    "The table lists some of the relevant standards. \n",
    "<table>\n",
    "<tr><td>Parameter</td><td> Value</td><td> Remarks</td></tr>\n",
    "    <tr><td>Dissolved Oxygen</td><td> 2.0 mg/L - 24 hr. average        </td><td>  </td></tr>\n",
    "    <tr><td>                </td><td> 1.5 mg/L - absolute minimum      </td><td>  </td></tr>\n",
    "    <tr><td>                </td><td> 3.0 mg/L - proposed (circa 1998) </td><td>  </td></tr>\n",
    "    <tr><td>         Sulfate</td><td>  65 mg/L - proposed (circa 1998) </td><td>  </td></tr>\n",
    "    <tr><td>              pH</td><td>  6.5-9.0 - proposed (circa 1998) </td><td>  </td></tr>\n",
    "    <tr><td>  Fecal Coliform</td><td>                    200 cfu/100mL </td><td> Contact recreation </td></tr>\n",
    "    <tr><td>                </td><td>                   2000 cfu/100mL </td><td> Non-contact recreation </td></tr>\n",
    "    <tr><td>     Temperature</td><td> 4oF above ambient</td><td> Fall, Winter, Spring</td></tr>\n",
    "    <tr><td>                </td><td> 1.5oF above ambient</td><td> Summer</td></tr>\n",
    "    </table>\n",
    "These values are proposed for Segment 1014 (Buffalo Bayou above tidal) for contact\n",
    "recreation and limited aquatic life use. \n",
    "\n",
    "See: [http://www.tnrcc.state.tx.us/water/quality/standards/revisions.html](http://www.tnrcc.state.tx.us/water/quality/standards/revisions.html)\n",
    "\n",
    "The figure below is a map of the area with storm and sanitary sewer systems drawn onto the map (the study pre-dates affordable GIS)\n",
    "\n",
    "![figure 1](CCBayoyMap.png)\n",
    "\n",
    "The current land-use in the area ranges includes residential, light-industrial, and several\n",
    "manufacturing facilities. The covered portion of the storm sewer system is owned\n",
    "by the City of Houston, while the open portion appears to be privately owned except for\n",
    "the portion through Wortham Park (COH). There are no known discharge permits issued\n",
    "by any authority for discharge into Country Club Bayou.\n",
    "\n",
    "The figure below shows sample locations were water quality samples were collected\n",
    "\n",
    "![figure 1](SampleLocations.png)\n",
    "\n",
    "For this example, the data from the Hughes Street location are examined.  \n",
    "The data are stored in the file named HUGHES_STREET.txt and look like:\n",
    "\n",
    "    MM\tDD\tYY\tpH\tT_degC\tDO_ppm\tNH3_ppm\tOdor\n",
    "    11\t1\t1999\t6.63\t22.5\t4.54\t0.63\t0\n",
    "    5\t28\t1998\t7.3\t23.2\t1.7\t0.54\t0\n",
    "    6\t3\t1998\t7.2\t24.1\t1.2\t0.31\t0\n",
    "    6\t8\t1998\t7.1\t24.8\t1\t3.96\t0\n",
    "    6\t15\t1998\t7.2\t25\t2.9\t0.57\t0\n",
    "    6\t26\t1998\t7.3\t27.2\t3.1\t1.29\t0\n",
    "    6\t29\t1998\t7.7\t26.2\t7.9\t0.28\t0\n",
    "    7\t8\t1998\t6.5\t26.2\t0.28\t0.21\t0\n",
    "    7\t20\t1998\t6.5\t28\t8.1\t0.32\t0\n",
    "    ...\n",
    "    7\t15\t1999\t7.08\t27.5\t3.19\t0.52\t0\n",
    "    5\t12\t1998\t7\t21.6\t1.41\t0.66\t1\n",
    "    5\t21\t1998\t7.2\t23.9\t1.2\t1.23\t1\n",
    "    5\t27\t1998\t6.9\t23.6\t1.1\t0.36\t1\n",
    "    6\t11\t1998\t7\t24.9\t1.7\t2.5\t1\n",
    "    ...\n",
    "\n",
    "## Problem Statement\n",
    "\n",
    "Determine if the mean value of **pH**,**T_degC**,**DO_ppm**, and **NH3_ppm** are significantly different when the data are separated using the Odor/No Odor code."
   ]
  },
  {
   "cell_type": "markdown",
   "metadata": {},
   "source": [
    "The data are located at [http://54.243.252.9/engr-1330-webroot/4-Databases/HUGHES_STREET.txt](http://54.243.252.9/engr-1330-webroot/4-Databases/HUGHES_STREET.txt)"
   ]
  },
  {
   "cell_type": "markdown",
   "metadata": {},
   "source": [
    "<hr/><hr/> \n",
    "\n",
    "**Step 1:** \n",
    "\n",
    "<hr/>\n",
    "\n",
    "Read the \"HUGHES_STREET.txt\" file as a dataframe. Explore the dataframe and in a markdown cell breifly describe the summarize the dataframe. <br>"
   ]
  },
  {
   "cell_type": "code",
   "execution_count": null,
   "metadata": {},
   "outputs": [],
   "source": [
    "# downloadload datafile\n",
    "# read dataframe and describe contents"
   ]
  },
  {
   "cell_type": "markdown",
   "metadata": {},
   "source": [
    "<hr/><hr/> \n",
    "\n",
    "**Step 2:** \n",
    "\n",
    "<hr/>\n",
    "\n",
    "Split into two databases, No Odor and Odor <br>"
   ]
  },
  {
   "cell_type": "code",
   "execution_count": null,
   "metadata": {},
   "outputs": [],
   "source": [
    "# "
   ]
  },
  {
   "cell_type": "markdown",
   "metadata": {},
   "source": [
    "<hr/><hr/> \n",
    "\n",
    "**Step 3:** \n",
    "\n",
    "<hr/>\n",
    "\n",
    "Describe the resulting data series <br>"
   ]
  },
  {
   "cell_type": "code",
   "execution_count": 24,
   "metadata": {},
   "outputs": [],
   "source": [
    "# No Odor\n",
    "# DO, Temp, NH3, pH - mean, variance "
   ]
  },
  {
   "cell_type": "markdown",
   "metadata": {},
   "source": [
    "<hr/><hr/> \n",
    "\n",
    "**Step 4:** \n",
    "\n",
    "<hr/>\n",
    "\n",
    "Perform appropriate hypothesis tests on the data to determine if the water quality data are different in Odor/No Odor cases.<br>"
   ]
  },
  {
   "cell_type": "code",
   "execution_count": 50,
   "metadata": {},
   "outputs": [],
   "source": [
    "#"
   ]
  },
  {
   "cell_type": "markdown",
   "metadata": {},
   "source": [
    "<!--## References\n",
    "Cleveland, T.G., Davis, J.L., Zhu, H., Bougai, D., Linares, M. 2000. \n",
    "``Investigation and Demonstration of Intervention Strategies to Improve Water Quality on Country Club Bayou.'' Final Report to Houston Wastewater Program, Texas Natural Resources Conservation Commission, City of Houston, and the Environmental Institute of Houston \n",
    "\n",
    "[https://75.3.84.227/documents/about-me/MyWebPapers/project_reports/ccbayou_report/](https://75.3.84.227/documents/about-me/MyWebPapers/project_reports/ccbayou_report/)-->"
   ]
  },
  {
   "cell_type": "markdown",
   "metadata": {},
   "source": [
    "---\n",
    "\n",
    "<div class=\"alert alert-block alert-danger\">\n",
    "    <b><h1> Problem 3: Treaty Terms for the Colorado River (20 points) </h1></b> \n",
    "</div>\n",
    "\n",
    "### Background\n",
    "\n",
    "The Colorado river originates in the Rocky mountains and has contributing tributaries\n",
    "and/or flows through the states of Wyoming, Colorado, Utah, Nevada, Arizona,\n",
    "and California. \n",
    "Prior to dams the river used to actually run to the ocean and at one\n",
    "time in history actually had commerce by river boats. \n",
    "In the late 1800’s and early 1900’s the river and its tributaries were dammed and diverted. \n",
    "Around the 1920’sa legal document called the Colorado River Compact was developed. \n",
    "A Compact is similar to a treaty, except the parties to the treaty are states (essentially the individual states have entered into the treaty with the United States and Mexico). \n",
    "The Colorado River Compact divides the Colorado River into Upper and Lower Basins with the division being at Lee Ferry on the Colorado River one mile below the Paria River in Arizona.\n",
    "The Lower Basin states are Arizona, California, and Nevada, with small portions of New Mexico and Utah that are tributary to the Colorado River below Lee Ferry. The Upper Basin states are Colorado, New Mexico, Utah, and Wyoming, with a small portion of Arizona tributary to the Colorado River above Lee Ferry.\n",
    "\n",
    "Article III of the Compact apportions the waters of the Colorado River to the Upper\n",
    "and Lower Basins as follows:\n",
    "The Compact apportions the right to exclusive beneficial consumptive use of 7.5\n",
    "million acre-feet of water per year from the ”Colorado River System” in perpetuity\n",
    "to the Upper Basin and the Lower Basin.\n",
    "The Compact allows an additional 1.0 million acre-feet per year of increased beneficial\n",
    "consumptive use to the Lower Basin.\n",
    "It provides water for Mexico pursuant to treaty. Water must first come from any\n",
    "surplus over the waters allocated to the states in Article III(a) and (b). If that\n",
    "surplus is insufficient, then the burden of that deficiency shall be shared equally by\n",
    "the Upper and Lower Basins.\n",
    "The Compact provides that the Upper Basin states will not cause the flow of the\n",
    "river at Lee Ferry, Arizona to be depleted below an aggregate of 75 million acrefeet\n",
    "for any period of ten consecutive years beginning with the ratification of the\n",
    "Compact.\n",
    "It provides that the Upper Basin states will not withhold water and the states of the\n",
    "Lower Basin shall not require delivery of water which cannot reasonably be applied\n",
    "to domestic and agricultural uses."
   ]
  },
  {
   "cell_type": "markdown",
   "metadata": {},
   "source": [
    "## Problem Statement\n",
    "\n",
    "The file named [colorado.txt](http://54.243.252.9/engr-1330-webroot/4-Databases/colorado.txt) contains annual natural flows volumes in the upper\n",
    "Colorado river basin from 1906 to present. These flows are historical reconstruction\n",
    "at approximately the same location as the current USGS gage 09380000. The\n",
    "location is approximately above (upstream of) Lee Ferry, hence the data represent\n",
    "the flows out of the upper basin.\n",
    "The data are in two columns, the first is the water year, the second column is\n",
    "cumulative discharge for the year in units of acre-feet.\n",
    "\n",
    "    YEAR ANNUAL.VOLUME\n",
    "    1906 18550021\n",
    "    1907 21201694\n",
    "    1908 12218817\n",
    "    1909 22356301\n",
    "    1910 14650616\n",
    "    ...\n",
    "Prepare an analysis of the data to support or refute the provisions of the Compact.\n",
    "You can assume that the data from 1906 to 1927 (the original Compact was ratified\n",
    "in 1922, many additional Compacts have been signed since that time, all trying to reapportion\n",
    "water in the river basin witout violating the original agreement) were available to the\n",
    "authors of the Colorado River Compact, analyze this period of data and decide if the\n",
    "allocations to the lower basin are realistic (8.5 million acre-feet-per year) assuming\n",
    "the upper basin allocation is removed. Consumptive use means that the water will\n",
    "not return to the basin. The data are ’natural’ flows and the upper basin allocations\n",
    "are not removed in the data. "
   ]
  },
  {
   "cell_type": "markdown",
   "metadata": {},
   "source": [
    "<hr/><hr/> \n",
    "\n",
    "**Step 1:** \n",
    "\n",
    "<hr/>\n",
    "\n",
    "Read the \"colorado.txt\" file as a dataframe. Explore the dataframe and in a markdown cell breifly describe the summarize the dataframe. <br>"
   ]
  },
  {
   "cell_type": "code",
   "execution_count": null,
   "metadata": {},
   "outputs": [],
   "source": [
    "# import packages\n",
    "# download the data file\n",
    "# read into a dataframe\n",
    "# plot\n",
    "# describe the dataframe"
   ]
  },
  {
   "cell_type": "markdown",
   "metadata": {},
   "source": [
    "<hr/><hr/> \n",
    "\n",
    "**Step 2:** \n",
    "\n",
    "<hr/>\n",
    "\n",
    "Evaluate if the mean value in the pre-compact period is substantially different from the post-compact period. <br>"
   ]
  },
  {
   "cell_type": "code",
   "execution_count": 3,
   "metadata": {},
   "outputs": [],
   "source": [
    "# split the data into pre-compact and post-compact\n",
    "# describe the two subsets\n",
    "# box-plot both\n",
    "# test for normal\n",
    "# hypothesis test for difference in means\n",
    "# conclusion(s) "
   ]
  },
  {
   "cell_type": "markdown",
   "metadata": {},
   "source": [
    "<hr/><hr/> \n",
    "\n",
    "**Step 3:** \n",
    "\n",
    "<hr/>\n",
    "\n",
    "Estimate the probability based on the the 20-year period that the lower basin allocation will not be met if upper basin allocation is satisfied. Estimate the probability that the allocation will not be met using the entire data set if the upper basin allocation is satisfied.<br>"
   ]
  },
  {
   "cell_type": "code",
   "execution_count": null,
   "metadata": {},
   "outputs": [],
   "source": [
    "# empirical probability approach on the 20 years pre-compact; full data"
   ]
  },
  {
   "cell_type": "markdown",
   "metadata": {},
   "source": [
    "<hr/><hr/> \n",
    "\n",
    "**Step 4:** \n",
    "\n",
    "<hr/>\n",
    "\n",
    "Next assume that lower basin is satisfied first (this is the historical result of the\n",
    "original and subsequent treaties). Estimate the probability that the upper basin\n",
    "allocation will not be met. Determine an upper basin allocation that will be met\n",
    "95% of the time. Again use the 20 year initial record, then the entire record."
   ]
  },
  {
   "cell_type": "code",
   "execution_count": 5,
   "metadata": {},
   "outputs": [],
   "source": [
    "# empirical probability approach on the 20 years pre-compact; full data"
   ]
  },
  {
   "cell_type": "markdown",
   "metadata": {},
   "source": [
    "<hr/><hr/> \n",
    "\n",
    "**Step 5:** \n",
    "\n",
    "<hr/>\n",
    "\n",
    "Was the initial 20 year period sufficiently different from the later data that the\n",
    "Compact authors made decisions based on unusually high or low flows?"
   ]
  },
  {
   "cell_type": "code",
   "execution_count": 6,
   "metadata": {},
   "outputs": [],
   "source": [
    "# make a decision and report"
   ]
  },
  {
   "cell_type": "markdown",
   "metadata": {},
   "source": [
    "<div class=\"alert alert-block alert-danger\">\n",
    "    <b><h1>Problem 4: Solids in Rivers (20 points) </h1></b> \n",
    "</div>\n",
    "\n",
    "Peterson (1975) presented a series of design charts that related certain hydraulic properties that are\n",
    "assessable to practicing engineers, either by direct measurement or reasonable desktop approximation.\n",
    "These charts can be used to make estimates of mobile solids flux in a stream from predictor variables such\n",
    "as channel slope, clear-water discharge, and solids dimension. The charts in Peterson (1975) are visual\n",
    "representation of regression models of an underlying database.\n",
    "\n",
    "To illustrate the use of the Peterson chart, consider Figure 1 which is one of the dozen charts from the\n",
    "original document. The chart represents the relations between clear water discharge per unit width of\n",
    "channel, q_m2_s, the depth of flow, H_m, a characteristic solids diameter, D50, a solids concentration in parts per\n",
    "hundred thousand, C_ppht, and energy slope, S_m_m.\n",
    "\n",
    "![](http://54.243.252.9/engr-1330-webroot/4-Databases/CMN_Dissertation.jpg)\n",
    "\n",
    "A database containing the data Peterson used as well as an additional 5000 records is available at [http://54.243.252.9/engr-1330-webroot/4-Databases/solids_in_rivers.csv](http://54.243.252.9/engr-1330-webroot/4-Databases/solids_in_rivers.csv)\n",
    "\n",
    "Far more convienent that the Peterson charts would be a data model\n",
    "\n",
    "### Problem Statement\n",
    "\n",
    "Build a data model using the solids_in_rivers.csv database.  Use the model to predict the solids concentration in a river with the following properties\n",
    "\n",
    "|Quantity|Value|\n",
    "|:---|---:|\n",
    "|Q_m3_s|0.018|\n",
    "|U_m_s|0.460|\n",
    "|S_m_m|0.001110|\n",
    "|D50_m|0.000640|\n",
    "|Froude|0.571|\n",
    "\n",
    "### References\n",
    "\n",
    "1. Peterson, A.W. and Howells, R.F. (1973) A compendium of solids transport data for mobile boundary channels. Technical report, Inland Waters Directorate, Envrionment Canada.\n",
    "\n",
    "2. Peterson, A. (1975). Universal flow diagrams for mobile boundary channels. Canadian Journal of Civil Engineering 2, 549-557.\n",
    "\n",
    "3. Cleveland, T.G., Strom, K.B., Barnes, W. J., and Dixon, J. V. 2013. Hydraulic Performance of Staggered-Barrel Culverts for Stream Crossings. Texas Department of Transportation, Research Report 0-6549-1.\n",
    "\n",
    "4. Barnes, W. J. 2013. Experimental Study of Sediment Transport and Culvert Capacity. Ph. D. Dissertation, Texas Tech University."
   ]
  },
  {
   "cell_type": "markdown",
   "metadata": {},
   "source": [
    "<hr/><hr/> \n",
    "\n",
    "**Step 1:** \n",
    "\n",
    "<hr/>\n",
    "\n",
    "Read the \"solids_in_rivers.csv\" file as a dataframe. Explore the dataframe and in a markdown cell breifly describe the summarize the dataframe. <br>"
   ]
  },
  {
   "cell_type": "code",
   "execution_count": 3,
   "metadata": {},
   "outputs": [],
   "source": [
    "# import pandas as pd\n",
    "# df = pd.read_csv('solids_in_rivers.csv')"
   ]
  },
  {
   "cell_type": "markdown",
   "metadata": {},
   "source": [
    "<hr/><hr/> \n",
    "\n",
    "**Step 2:** \n",
    "\n",
    "<hr/>\n",
    "\n",
    "Tidy up the dataframe, by dropping all columns except for:\n",
    "\n",
    "Q_m3_s,q_m2_s ,U_m_s,W_m ,H_m ,R_m,S_m_m,D50_m,qb_kg_m_s,C_ppht,Froude\n",
    "<br>"
   ]
  },
  {
   "cell_type": "code",
   "execution_count": 104,
   "metadata": {},
   "outputs": [],
   "source": [
    "# df_final=df.drop...."
   ]
  },
  {
   "cell_type": "markdown",
   "metadata": {},
   "source": [
    "<hr/><hr/> \n",
    "\n",
    "**Step 3:** \n",
    "\n",
    "<hr/>\n",
    "\n",
    "Make scatterplots of:\n",
    "\n",
    "|Plot Number|Response vs Predictor|\n",
    "|:--|---|    \n",
    "|1|C_ppht (y-axis) vs Q_m3_s (x-axis)|\n",
    "|2|C_ppht (y-axis) vs U_m_s (x-axis)|\n",
    "|3|C_ppht (y-axis) vs S_m_m (x-axis)|\n",
    "|4|C_ppht (y-axis) vs D50_m (x-axis)|\n",
    "|5|C_ppht (y-axis) vs Froude (x-axis)|\n",
    "\n",
    "<br>\n",
    "Comment on which scatterplots (if any) suggest some predictive utility"
   ]
  },
  {
   "cell_type": "code",
   "execution_count": 80,
   "metadata": {},
   "outputs": [],
   "source": [
    "# plot 1 here"
   ]
  },
  {
   "cell_type": "code",
   "execution_count": 81,
   "metadata": {},
   "outputs": [],
   "source": [
    "# plot 2 here"
   ]
  },
  {
   "cell_type": "code",
   "execution_count": 82,
   "metadata": {},
   "outputs": [],
   "source": [
    "# plot 3 here"
   ]
  },
  {
   "cell_type": "code",
   "execution_count": 83,
   "metadata": {},
   "outputs": [],
   "source": [
    "# plot 4 here"
   ]
  },
  {
   "cell_type": "code",
   "execution_count": 84,
   "metadata": {},
   "outputs": [],
   "source": [
    "# plot 5 here"
   ]
  },
  {
   "cell_type": "markdown",
   "metadata": {},
   "source": [
    "<hr/><hr/> \n",
    "\n",
    "**Step 4:** \n",
    "\n",
    "<hr/>\n",
    "\n",
    "Perform a multi-variable regression using Lesson 19 methods (e.g. Multiple Linear Regression with statsmodels.formula.api), use the following structure for your data model\n",
    "\n",
    "$$C_{ppht} = \\beta_0 + \\beta_1*Q_{m^3/s} + \\beta_2*U_{m/s} +\\beta_3*S_{m/m} +\\beta_4*D50_m +\\beta_5*Fr$$\n",
    "\n",
    "Something along the lines of `smf.ols('C_ppht ~ Q_m3_s + U_m_s + S_m_m + D50_m + Froude ',...)`"
   ]
  },
  {
   "cell_type": "code",
   "execution_count": null,
   "metadata": {},
   "outputs": [],
   "source": [
    "# import statsmodels.formula.api as smf\n",
    "# ..."
   ]
  },
  {
   "cell_type": "code",
   "execution_count": 110,
   "metadata": {},
   "outputs": [],
   "source": [
    "# Bonus - plot the model values versus the observed\n",
    "# plt.plot(df_final['C_ppht'], y_preds, 'o')           # scatter plot showing actual data\n",
    "# plt.plot(df_final['C_ppht'], df_final['C_ppht'], 'r', linewidth=2)   # 1-1 equal value line"
   ]
  },
  {
   "cell_type": "markdown",
   "metadata": {},
   "source": [
    "<hr/><hr/> \n",
    "\n",
    "**Step 5:** \n",
    "\n",
    "<hr/>\n",
    "\n",
    "Use your model to estimate the solids load (C_ppht) for a river with the following conditions:\n",
    "\n",
    "|Quantity|Value|\n",
    "|:---|---:|\n",
    "|Q_m3_s|0.018|\n",
    "|U_m_s|0.460|\n",
    "|S_m_m|0.001110|\n",
    "|D50_m|0.000640|\n",
    "|Froude|0.571|"
   ]
  },
  {
   "cell_type": "code",
   "execution_count": 111,
   "metadata": {},
   "outputs": [],
   "source": [
    "#"
   ]
  },
  {
   "cell_type": "markdown",
   "metadata": {},
   "source": [
    "<div class=\"alert alert-block alert-danger\">\n",
    "    <b><h1>Problem 5: Watershed Response Metrics (20 points) </h1></b> \n",
    "</div>\n",
    "\n",
    "### Background \n",
    "Rainfall-Runoff response prediction is a vital step in engineering design for mitigating flood-induced infrastructure failure.   One easy to measure characteristic of a watershed is its drainage area.  Harder to quantify are its characteristic response time, and its conversion (of precipitation into runoff) factor.\n",
    "\n",
    "### Study Database\n",
    "\n",
    "The [watersheds.csv](http://54.243.252.9/engr-1330-webroot/4-Databases/watersheds.csv) dataset contains (measured)drainage area for 92 study watersheds in Texas (cite source), and the accompanying data:\n",
    "\n",
    "|Columns|Info.|\n",
    "|:---|:---|\n",
    "|STATION_ID |USGS HUC-8 Station ID code|\n",
    "|TDA |Total drainage area (sq. miles) |\n",
    "|RCOEF|Runoff Ratio (Runoff Depth/Precipitation Depth)|\n",
    "|TPEAK|Characteristic Time (minutes)|\n",
    "|FPEAK|Peaking factor (same as NRCS factor)|\n",
    "|QP_OBS|Observed peak discharge (measured)|\n",
    "|QP_MOD|Modeled peak discharge (modeled)| \n",
    "\n",
    "### Assess the data:\n",
    "\n",
    "Using the following steps, assess the utility of the response metric.\n"
   ]
  },
  {
   "cell_type": "markdown",
   "metadata": {},
   "source": [
    "<hr/><hr/> \n",
    "\n",
    "**Step 1:** \n",
    "\n",
    "<hr/>\n",
    "\n",
    "Read the \"watersheds.csv\" file as a dataframe. Explore the dataframe and in a markdown cell breifly describe the summarize the dataframe. <br>"
   ]
  },
  {
   "cell_type": "code",
   "execution_count": 22,
   "metadata": {},
   "outputs": [],
   "source": [
    "# import packages\n",
    "# read data file\n",
    "# summarize contents + markdown cell as needed"
   ]
  },
  {
   "cell_type": "markdown",
   "metadata": {},
   "source": [
    "<hr/><hr/> \n",
    "\n",
    "**Step 2:** <hr/>\n",
    "\n",
    "Using your laboratory scripts as a guide, assess the utility of **TDA** as a predictor of **TPEAK** (e.g. perform a regression and produce plots, with **TDA** on the x-axis) <br>"
   ]
  },
  {
   "cell_type": "code",
   "execution_count": 23,
   "metadata": {},
   "outputs": [],
   "source": [
    "# extract lists to use Lab21 example scripts\n",
    "# log transform as needed\n",
    "# regression fits, include plots of data regression line, uncertainty lines\n",
    "\n",
    "# + markdown cell as needed"
   ]
  },
  {
   "cell_type": "markdown",
   "metadata": {},
   "source": [
    "<hr/><hr/> \n",
    "\n",
    "**Step 3:**\n",
    "\n",
    "<hr/>\n",
    "\n",
    "Using your laboratory scripts as a guide, assess the utility of **log(TDA)** as a predictor of **TPEAK** (e.g. perform a regression and produce plots, with **log(TDA)** on the x-axis)\n",
    "\n",
    "Which mapping of **TDA**  (arithmetic or logarithmic) produces a more useful graph? "
   ]
  },
  {
   "cell_type": "code",
   "execution_count": 24,
   "metadata": {},
   "outputs": [],
   "source": [
    "# extract lists to use Lab21 example scripts\n",
    "# log transform as needed\n",
    "# regression fits, include plots of data regression line, uncertainty lines\n",
    "\n",
    "# + markdown cell as needed"
   ]
  },
  {
   "cell_type": "markdown",
   "metadata": {},
   "source": [
    "<hr/><hr/> \n",
    "\n",
    "**Step 4:**\n",
    "\n",
    "<hr/>\n",
    "\n",
    "Using your laboratory scripts as a guide, assess the performance of the underlying (not disclosed) model, using **QP_MOD** as a predictor of **QP_OBS** (e.g. perform a regression and produce plots, with **QP_MOD** on the x-axis).\n",
    "\n",
    "Include an equal value line (x=y) on the plot and make an assertion of model bias (does the model overpredict or underpredict the observations?)\n",
    "<br>"
   ]
  },
  {
   "cell_type": "code",
   "execution_count": 1,
   "metadata": {},
   "outputs": [],
   "source": [
    "# extract lists to use Lab21 example scripts\n",
    "# log transform as needed\n",
    "# regression fits, include plots of data regression line, uncertainty lines\n",
    "\n",
    "# + markdown cell as needed"
   ]
  },
  {
   "cell_type": "markdown",
   "metadata": {},
   "source": [
    "<div class=\"alert alert-block alert-danger\">\n",
    "    <b><h1>Problem 6: Currency Authentication (20 points) </h1></b> \n",
    "</div>\n",
    "\n",
    "### Background \n",
    "The U.S. Secret Santas examined 1372 images of banknotes, and classified them as genuine or forgery. Data were extracted from images using an industrial camera for print inspection; The final images have 400x 400 pixels. Due to the object lens and distance to the investigated object gray-scale pictures with a resolution of about 660 dpi were gained. A Wavelet Transform model was used to extract features from images.  The resulting data model has 4 predictor variables (variance of image, skewness, kurtosis, entropy). The classification variable is encoded as 0 (authentic) or 1 (forgery). \n",
    "\n",
    "### Study Database\n",
    "\n",
    "The [data_banknote_authentication.txt](http://54.243.252.9/engr-1330-webroot/4-Databases/data_banknote_authentication.txt) dataset contains the data as 5 columns.\n",
    "\n",
    "\n",
    "### Problem Statement\n",
    "\n",
    "Build a classification engine (logistic regression) to classify a banknote image into authentic or forgery using a 70/30 training/testing split.\n",
    "\n",
    "Three banknotes are presented for authentication.  Determine which banknote images with with the following parameters are authentic or counterfeit\n",
    "\n",
    "Banknote 1:\n",
    "\n",
    "|Quality|Value|\n",
    "|---|---|\n",
    "|Variance|2.25040|\n",
    "|Skewness|3.57570|\n",
    "|Kurtosis|0.35273|\n",
    "|Entropy|0.28360|\n",
    "\n",
    "\n",
    "Banknote 2: \n",
    "\n",
    "|Quality|Value|\n",
    "|---|---|\n",
    "|Variance|-1.3971|\n",
    "|Skewness| 3.3191|\n",
    "|Kurtosis|-1.3927|\n",
    "|Entropy|-1.9948|\n",
    "\n",
    "\n",
    "Banknote 3: \n",
    "\n",
    "|Quality|Value|\n",
    "|---|---|\n",
    "|Variance|0.93574|\n",
    "|Skewness|8.8865|\n",
    "|Kurtosis|-1.68301|\n",
    "|Entropy|-1.65999|\n",
    "\n"
   ]
  },
  {
   "cell_type": "markdown",
   "metadata": {},
   "source": [
    "<hr/><hr/> \n",
    "\n",
    "**Step 1:** \n",
    "\n",
    "<hr/>\n",
    "\n",
    "Read the \"data_banknote_authentication.txt\" file as a dataframe. Explore the dataframe and in a markdown cell breifly describe the summarize the dataframe. <br>"
   ]
  },
  {
   "cell_type": "code",
   "execution_count": 22,
   "metadata": {},
   "outputs": [],
   "source": [
    "# import packages\n",
    "# read data file\n",
    "# summarize contents + markdown cell as needed"
   ]
  },
  {
   "cell_type": "markdown",
   "metadata": {},
   "source": [
    "<hr/><hr/> \n",
    "\n",
    "**Step 2:** <hr/>\n",
    "\n",
    "make a pairplot to visually examine if classification is feasible and identify outliers <br>"
   ]
  },
  {
   "cell_type": "code",
   "execution_count": 23,
   "metadata": {},
   "outputs": [],
   "source": [
    "# sns.pairplot ...\n",
    "# comments"
   ]
  },
  {
   "cell_type": "markdown",
   "metadata": {},
   "source": [
    "<hr/><hr/> \n",
    "\n",
    "**Step 3:**\n",
    "\n",
    "<hr/>\n",
    "\n",
    "Build training and testing sets (use sklearn as guidance)"
   ]
  },
  {
   "cell_type": "code",
   "execution_count": 24,
   "metadata": {},
   "outputs": [],
   "source": [
    "# inp_df = ...\n",
    "# out_df = ...\n",
    "# scaler = ...\n",
    "# inp_df = ...\n",
    "# X_train, X_test, y_train, y_test = ..."
   ]
  },
  {
   "cell_type": "markdown",
   "metadata": {},
   "source": [
    "<hr/><hr/> \n",
    "\n",
    "**Step 4:**\n",
    "\n",
    "<hr/>\n",
    "\n",
    "Fit the training set; examine accuracy from testing set<br>"
   ]
  },
  {
   "cell_type": "code",
   "execution_count": 1,
   "metadata": {},
   "outputs": [],
   "source": [
    "# from sklearn.linear_model import LogisticRegression\n",
    "# clf = ...\n",
    "# clf.fit(...)\n",
    "# ..."
   ]
  },
  {
   "cell_type": "markdown",
   "metadata": {},
   "source": [
    "<hr/><hr/> \n",
    "\n",
    "**Step 5:**\n",
    "\n",
    "<hr/>\n",
    "\n",
    "Build the classification engine, determine classification of value(s) in problem statement<br>"
   ]
  },
  {
   "cell_type": "code",
   "execution_count": null,
   "metadata": {},
   "outputs": [],
   "source": [
    "# \n",
    "# banknote 1 fake or real?\n",
    "# banknote 2 fake or real?\n",
    "# banknote 3 fake or real?"
   ]
  }
 ],
 "metadata": {
  "kernelspec": {
   "display_name": "Python 3",
   "language": "python",
   "name": "python3"
  },
  "language_info": {
   "codemirror_mode": {
    "name": "ipython",
    "version": 3
   },
   "file_extension": ".py",
   "mimetype": "text/x-python",
   "name": "python",
   "nbconvert_exporter": "python",
   "pygments_lexer": "ipython3",
   "version": "3.8.10"
  }
 },
 "nbformat": 4,
 "nbformat_minor": 4
}
