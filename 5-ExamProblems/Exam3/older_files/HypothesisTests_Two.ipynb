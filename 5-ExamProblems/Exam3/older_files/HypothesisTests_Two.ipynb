{
 "cells": [
  {
   "cell_type": "code",
   "execution_count": 2,
   "metadata": {},
   "outputs": [
    {
     "name": "stdout",
     "output_type": "stream",
     "text": [
      "compthink\n",
      "/opt/conda/envs/python/bin/python\n",
      "3.8.3 (default, Jul  2 2020, 16:21:59) \n",
      "[GCC 7.3.0]\n",
      "sys.version_info(major=3, minor=8, micro=3, releaselevel='final', serial=0)\n"
     ]
    }
   ],
   "source": [
    " import sys\n",
    "! whoami\n",
    " print(sys.executable)\n",
    " print(sys.version)\n",
    " print(sys.version_info)\n",
    "# tested on aws lightsail instance 21 July 2020 using python38 kernel spec"
   ]
  },
  {
   "cell_type": "markdown",
   "metadata": {},
   "source": [
    "# Hypothesis Testing\n",
    "In this notebook we continue with hypothesis testing, but examine larger datasets but using mostly the same themes.\n",
    "\n",
    "Also, we will reinforce the concept of accessing data files from a web server.  \n",
    "The webroot for the subsequent examples/exercises is `http://atomickitty.ddns.net/documents/JupyterOrion/MyJupyterNotebooks/41A-HypothesisTests/`\n",
    "\n",
    "## Example 1 : Do construction activities impact stormwater solids metrics?\n",
    "\n",
    "### Background\n",
    "The Clean Water Act (CWA) prohibits storm water discharge from construction sites\n",
    "that disturb 5 or more acres, unless authorized by a National Pollutant Discharge\n",
    "Elimination System (NPDES) permit. Permittees must provide a site description,\n",
    "identify sources of contaminants that will affect storm water, identify appropriate\n",
    "measures to reduce pollutants in stormwater discharges, and implement these measures.\n",
    "The appropriate measures are further divided into four classes: erosion and\n",
    "sediment control, stabilization practices, structural practices, and storm water management.\n",
    "Collectively the site description and accompanying measures are known as\n",
    "the facility’s Storm Water Pollution Prevention Plan (SW3P).\n",
    "The permit contains no specific performance measures for construction activities,\n",
    "but states that ”EPA anticipates that storm water management will be able to\n",
    "provide for the removal of at least 80% of the total suspended solids (TSS).” The\n",
    "rules also note ”TSS can be used as an indicator parameter to characterize the\n",
    "control of other pollutants, including heavy metals, oxygen demanding pollutants,\n",
    "and nutrients commonly found in stormwater discharges”; therefore, solids control is\n",
    "critical to the success of any SW3P.\n",
    "Although the NPDES permit requires SW3Ps to be in-place, it does not require\n",
    "any performance measures as to the effectiveness of the controls with respect to\n",
    "construction activities. The reason for the exclusion was to reduce costs associated\n",
    "with monitoring storm water discharges, but unfortunately the exclusion also makes\n",
    "it difficult for a permittee to assess the effectiveness of the controls implemented at\n",
    "their site. Assessing the effectiveness of controls will aid the permittee concerned\n",
    "with selecting the most cost effective SW3P.\n",
    "\n",
    "### Problem Statement\n",
    "The files SOLIDS.PRE.TXT and SOLIDS.DUR.TXT contain observations of cumulative\n",
    "rainfall, total solids, and total suspended solids collected from a construction\n",
    "site on Nasa Road 1 in Harris County. The data in the file SOLIDS.PRE.TXT was\n",
    "collected `before` construction began, and the data in the file SOLIDS.DUR.TXT were\n",
    "collected `during` the construction activity.\n",
    "\n",
    "The first few lines of the `SOLIDS.PRE.TXT` file is displayed below. The first column\n",
    "is the date that the observation was made, the second column the total solids (by standard methods), \n",
    "the third column is is the total suspended solids (also by standard methods), and the last column is the cumulative\n",
    "rainfall for that storm.\n",
    "\n",
    "    DATE\tTS.PRE\tTSS.PRE\tRAIN.PRE\n",
    "    03/27/97\t408.5\t111\t1\n",
    "    03/31/97\t524.5\t205.5\t0.52\n",
    "    04/04/97\t171.5\t249\t0.95\n",
    "    04/07/97\t436.5\t65\t0.55\n",
    "    04/11/97\t627\t510.5\t2.19\n",
    "    04/18/97\t412.5\t93\t0.2\n",
    "    ...\n",
    "\n",
    "The first few lines of the `SOLIDS.DUR.TXT` file is displayed below. The first column\n",
    "is the date that the observation was made, the second column is the cumulative\n",
    "rainfall for that storm, the third column is the total solids (by standard methods),\n",
    "and the last column is the total suspended solids (also by standard methods).\n",
    "\n",
    "    DATE RAIN.DUR TS.DUR TSS.DUR\n",
    "    7/9/1997 1.59 3014 2871.5\n",
    "    7/21/1997 0.53 1137 602\n",
    "    8/1/1997 0.74 2362.5 2515\n",
    "    8/4/1997 0.11 395.5 130\n",
    "    8/9/1997 0.27 278.5 36.5\n",
    "    8/25/1997 0.69 506.5 320.5\n",
    "    9/11/1997 1.06 2829.5 3071.5\n",
    "    ...\n",
    "Our task is to analyze these two data sets and decide if construction activities impact stormwater quality in terms of solids measures.\n",
    "\n",
    "Some broad questions to keep in mind as we proceede:\n",
    "\n",
    "    Which summary statistics are relevant? \n",
    "    Are the data approximately normal? \n",
    "    Are the data homoscedastic? \n",
    "    Do the two construction phases represent approximately the same rainfall conditions? \n",
    "    Assuming the observations are upstream of any water quality control feature, what amount of solids load needs to be captured to preserve pre-construction loading to the environment?\n",
    "    \n",
    "These data are not time series (there was sufficient time between site visits that you can safely assume each storm was independent.\n",
    "\n",
    "The first step is to acquire the data and structure a data model - notice how the two files contain similar data, but the rainfall column is in different order, we need to deal with this probably for the beginning.\n",
    "\n",
    "### Acquire the Data from the server"
   ]
  },
  {
   "cell_type": "code",
   "execution_count": 3,
   "metadata": {},
   "outputs": [
    {
     "name": "stdout",
     "output_type": "stream",
     "text": [
      "total 4404\n",
      "drwxrwxr-x  3 compthink compthink    4096 Aug 14 20:46 .\n",
      "drwxrwxr-x 32 compthink compthink    4096 Aug 14 00:35 ..\n",
      "drwxrwxr-x  2 compthink compthink    4096 Aug 14 00:37 .ipynb_checkpoints\n",
      "-rw-rw-r--  1 compthink compthink 1027865 Aug 14 00:33 CCBayoyMap.png\n",
      "-rw-rw-r--  1 compthink compthink    2463 Aug 14 20:34 HUGHES_STREET.txt\n",
      "-rw-rw-r--  1 compthink compthink   22768 Aug 14 20:21 HypothesisTests_One.ipynb\n",
      "-rw-rw-r--  1 compthink compthink   64920 Aug 14 00:41 HypothesisTests_One.pdf\n",
      "-rw-rw-r--  1 compthink compthink  189283 Aug 14 20:46 HypothesisTests_Two.ipynb\n",
      "-rw-rw-r--  1 compthink compthink 2016339 Aug 14 00:40 HypothesisTests_Two.pdf\n",
      "-rw-rw-r--  1 compthink compthink 1147711 Aug 14 00:33 SampleLocations.png\n",
      "-rw-rw-r--  1 compthink compthink    1571 Aug 14 20:34 colorado.txt\n",
      "-rw-rw-r--  1 compthink compthink     987 Aug 14 20:47 solids.dur.txt\n",
      "-rw-rw-r--  1 compthink compthink     439 Aug 14 20:47 solids.pre.txt\n"
     ]
    }
   ],
   "source": [
    "import requests # Module to process http/https requests\n",
    "remote_webroot=\"http://atomickitty.ddns.net/documents/JupyterOrion/MyJupyterNotebooks/41A-HypothesisTests/\"  # set the webroot\n",
    "remote_url=remote_webroot+\"solids.pre.txt\"\n",
    "rget = requests.get(remote_url, allow_redirects=True)  # get the remote resource, follow imbedded links\n",
    "open('solids.pre.txt','wb').write(rget.content) # extract from the remote the contents, assign to a local file same name\n",
    "remote_url=remote_webroot+\"solids.dur.txt\"\n",
    "rget = requests.get(remote_url, allow_redirects=True)  # get the remote resource, follow imbedded links\n",
    "open('solids.dur.txt','wb').write(rget.content) # extract from the remote the contents, assign to a local file same name\n",
    "! ls -la # execute local bash command to show file strtucture\n"
   ]
  },
  {
   "cell_type": "markdown",
   "metadata": {},
   "source": [
    "Examine the files, see if we can understand their structure"
   ]
  },
  {
   "cell_type": "code",
   "execution_count": 4,
   "metadata": {},
   "outputs": [
    {
     "data": {
      "text/plain": [
       "<AxesSubplot:>"
      ]
     },
     "execution_count": 4,
     "metadata": {},
     "output_type": "execute_result"
    },
    {
     "data": {
      "image/png": "[encoded data removed]",
      "text/plain": [
       "<Figure size 432x288 with 1 Axes>"
      ]
     },
     "metadata": {
      "needs_background": "light"
     },
     "output_type": "display_data"
    }
   ],
   "source": [
    "import pandas as pd # Module to process dataframes (not absolutely needed but somewhat easier than using primatives, and gives graphing tools)\n",
    "precon = pd.read_table(\"solids.pre.txt\") # Read the file as a table assign to a dataframe \n",
    "precon.plot.box()"
   ]
  },
  {
   "cell_type": "code",
   "execution_count": 5,
   "metadata": {
    "jupyter": {
     "source_hidden": true
    }
   },
   "outputs": [
    {
     "data": {
      "text/plain": [
       "<AxesSubplot:>"
      ]
     },
     "execution_count": 5,
     "metadata": {},
     "output_type": "execute_result"
    },
    {
     "data": {
      "image/png": "[encoded data removed]",
      "text/plain": [
       "<Figure size 432x288 with 1 Axes>"
      ]
     },
     "metadata": {
      "needs_background": "light"
     },
     "output_type": "display_data"
    }
   ],
   "source": [
    "durcon = pd.read_table(\"solids.dur.txt\") # Read the file as a table assign to a dataframe \n",
    "durcon.plot.box()"
   ]
  },
  {
   "cell_type": "markdown",
   "metadata": {},
   "source": [
    "Here we see that the scales of the two data sets are quite different, but first lets reorder the columns so the two dataframes have the same structure."
   ]
  },
  {
   "cell_type": "code",
   "execution_count": 6,
   "metadata": {
    "jupyter": {
     "source_hidden": true
    }
   },
   "outputs": [
    {
     "data": {
      "text/plain": [
       "<AxesSubplot:>"
      ]
     },
     "execution_count": 6,
     "metadata": {},
     "output_type": "execute_result"
    },
    {
     "data": {
      "image/png": "[encoded data removed]",
      "text/plain": [
       "<Figure size 432x288 with 1 Axes>"
      ]
     },
     "metadata": {
      "needs_background": "light"
     },
     "output_type": "display_data"
    }
   ],
   "source": [
    "durcon = durcon[['TS.DUR','TSS.DUR','RAIN.DUR']] # super sneaky!\n",
    "durcon.plot.box()"
   ]
  },
  {
   "cell_type": "code",
   "execution_count": 7,
   "metadata": {},
   "outputs": [
    {
     "data": {
      "text/plain": [
       "count    17.000000\n",
       "mean      0.878235\n",
       "std       0.882045\n",
       "min       0.130000\n",
       "25%       0.460000\n",
       "50%       0.690000\n",
       "75%       0.950000\n",
       "max       3.760000\n",
       "Name: RAIN.PRE, dtype: float64"
      ]
     },
     "execution_count": 7,
     "metadata": {},
     "output_type": "execute_result"
    }
   ],
   "source": [
    "precon['RAIN.PRE'].describe()"
   ]
  },
  {
   "cell_type": "code",
   "execution_count": 8,
   "metadata": {
    "jupyter": {
     "source_hidden": true
    }
   },
   "outputs": [
    {
     "data": {
      "text/plain": [
       "count    37.000000\n",
       "mean      1.016486\n",
       "std       1.391886\n",
       "min       0.100000\n",
       "25%       0.270000\n",
       "50%       0.550000\n",
       "75%       1.010000\n",
       "max       6.550000\n",
       "Name: RAIN.DUR, dtype: float64"
      ]
     },
     "execution_count": 8,
     "metadata": {},
     "output_type": "execute_result"
    }
   ],
   "source": [
    "durcon['RAIN.DUR'].describe()"
   ]
  },
  {
   "cell_type": "markdown",
   "metadata": {},
   "source": [
    "If we look at the summary statistics, we might conclude there is more rainfall during construction, which could bias our interpretation, a box plot of just rainfall might be useful, as would hypothesis tests. "
   ]
  },
  {
   "cell_type": "code",
   "execution_count": 9,
   "metadata": {
    "jupyter": {
     "source_hidden": true
    }
   },
   "outputs": [
    {
     "data": {
      "text/plain": [
       "<AxesSubplot:>"
      ]
     },
     "execution_count": 9,
     "metadata": {},
     "output_type": "execute_result"
    },
    {
     "data": {
      "image/png": "[encoded data removed]",
      "text/plain": [
       "<Figure size 432x288 with 1 Axes>"
      ]
     },
     "metadata": {
      "needs_background": "light"
     },
     "output_type": "display_data"
    }
   ],
   "source": [
    "precon['RAIN.PRE'].plot.box()"
   ]
  },
  {
   "cell_type": "code",
   "execution_count": 10,
   "metadata": {},
   "outputs": [
    {
     "data": {
      "text/plain": [
       "<AxesSubplot:>"
      ]
     },
     "execution_count": 10,
     "metadata": {},
     "output_type": "execute_result"
    },
    {
     "data": {
      "image/png": "[encoded data removed]",
      "text/plain": [
       "<Figure size 432x288 with 1 Axes>"
      ]
     },
     "metadata": {
      "needs_background": "light"
     },
     "output_type": "display_data"
    }
   ],
   "source": [
    " durcon['RAIN.DUR'].plot.box()"
   ]
  },
  {
   "cell_type": "markdown",
   "metadata": {},
   "source": [
    "Hard to tell from the plots, they look a little different, but are they?  Lets apply some hypothesis tests"
   ]
  },
  {
   "cell_type": "code",
   "execution_count": 11,
   "metadata": {
    "jupyter": {
     "source_hidden": true
    }
   },
   "outputs": [
    {
     "name": "stdout",
     "output_type": "stream",
     "text": [
      "statistic=291.500, p-value at rejection =0.338\n",
      "Probably the same distribution\n"
     ]
    }
   ],
   "source": [
    "from scipy.stats import mannwhitneyu # import a useful non-parametric test\n",
    "stat, p = mannwhitneyu(precon['RAIN.PRE'],durcon['RAIN.DUR'])\n",
    "print('statistic=%.3f, p-value at rejection =%.3f' % (stat, p))\n",
    "if p > 0.05:\n",
    "    print('Probably the same distribution')\n",
    "else:\n",
    "    print('Probably different distributions')"
   ]
  },
  {
   "cell_type": "code",
   "execution_count": 12,
   "metadata": {
    "jupyter": {
     "source_hidden": true
    }
   },
   "outputs": [
    {
     "name": "stdout",
     "output_type": "stream",
     "text": [
      "statistic=-0.375, p-value at rejection =0.709 \n",
      "Probably the same distribution\n"
     ]
    }
   ],
   "source": [
    "from scipy import stats\n",
    "results = stats.ttest_ind(precon['RAIN.PRE'], durcon['RAIN.DUR'])\n",
    "print('statistic=%.3f, p-value at rejection =%.3f ' % (results[0], results[1]))\n",
    "if p > 0.05:\n",
    "    print('Probably the same distribution')\n",
    "else:\n",
    "    print('Probably different distributions')"
   ]
  },
  {
   "cell_type": "markdown",
   "metadata": {},
   "source": [
    "From these two tests (the data are NOT paired) we conclude that the two sets of data originate from the same distribution.\n",
    "Thus the question \"Do the two construction phases represent approximately the same rainfall conditions?\" can be safely answered in the affirmative.\n",
    "\n",
    "Continuing, lets ask the same about total solids, first plots"
   ]
  },
  {
   "cell_type": "code",
   "execution_count": 13,
   "metadata": {
    "jupyter": {
     "source_hidden": true
    }
   },
   "outputs": [
    {
     "data": {
      "text/plain": [
       "<AxesSubplot:>"
      ]
     },
     "execution_count": 13,
     "metadata": {},
     "output_type": "execute_result"
    },
    {
     "data": {
      "image/png": "[encoded data removed]",
      "text/plain": [
       "<Figure size 432x288 with 1 Axes>"
      ]
     },
     "metadata": {
      "needs_background": "light"
     },
     "output_type": "display_data"
    }
   ],
   "source": [
    "precon['TS.PRE'].plot.box()"
   ]
  },
  {
   "cell_type": "code",
   "execution_count": 14,
   "metadata": {},
   "outputs": [
    {
     "data": {
      "text/plain": [
       "<AxesSubplot:>"
      ]
     },
     "execution_count": 14,
     "metadata": {},
     "output_type": "execute_result"
    },
    {
     "data": {
      "image/png": "[encoded data removed]",
      "text/plain": [
       "<Figure size 432x288 with 1 Axes>"
      ]
     },
     "metadata": {
      "needs_background": "light"
     },
     "output_type": "display_data"
    }
   ],
   "source": [
    "durcon['TS.DUR'].plot.box()"
   ]
  },
  {
   "cell_type": "markdown",
   "metadata": {},
   "source": [
    "Look at the difference in scales, the during construction phase, is about 5 to 10 times greater.  \n",
    "But lets apply some tests to formalize our interpretation."
   ]
  },
  {
   "cell_type": "code",
   "execution_count": 15,
   "metadata": {
    "jupyter": {
     "source_hidden": true
    }
   },
   "outputs": [
    {
     "name": "stdout",
     "output_type": "stream",
     "text": [
      "statistic=221.000, p-value at rejection =0.042\n",
      "Probably different distributions\n"
     ]
    }
   ],
   "source": [
    "stat, p = mannwhitneyu(precon['TS.PRE'],durcon['TS.DUR'])\n",
    "print('statistic=%.3f, p-value at rejection =%.3f' % (stat, p))\n",
    "if p > 0.05:\n",
    "    print('Probably the same distribution')\n",
    "else:\n",
    "    print('Probably different distributions')"
   ]
  },
  {
   "cell_type": "code",
   "execution_count": 16,
   "metadata": {
    "jupyter": {
     "source_hidden": true
    }
   },
   "outputs": [
    {
     "name": "stdout",
     "output_type": "stream",
     "text": [
      "statistic=-1.750, p-value at rejection =0.086 \n",
      "Probably different distributions\n"
     ]
    }
   ],
   "source": [
    "results = stats.ttest_ind(precon['TS.PRE'], durcon['TS.DUR'])\n",
    "print('statistic=%.3f, p-value at rejection =%.3f ' % (results[0], results[1]))\n",
    "if p > 0.05:\n",
    "    print('Probably the same distribution')\n",
    "else:\n",
    "    print('Probably different distributions')"
   ]
  },
  {
   "cell_type": "markdown",
   "metadata": {},
   "source": [
    "Both these tests indicate that the data derive from distirbutions with different measures of central tendency (means). Lets now ask the question about normality, we will apply a test called `normaltest`.  This function tests a null hypothesis that a sample comes from a normal distribution. It is based on D’Agostino and Pearson’s test that combines skew and kurtosis to produce an omnibus test of normality.  We will likely get a warning because our sample size is pretty small.\n",
    "\n",
    "#### References\n",
    "\n",
    "D’Agostino, R. B. (1971), “An omnibus test of normality for moderate and large sample size”, Biometrika, 58, 341-348\n",
    "\n",
    "D’Agostino, R. and Pearson, E. S. (1973), “Tests for departure from normality”, Biometrika, 60, 613-622\n"
   ]
  },
  {
   "cell_type": "code",
   "execution_count": 17,
   "metadata": {},
   "outputs": [
    {
     "name": "stdout",
     "output_type": "stream",
     "text": [
      "statistic=32.081, p-value at rejection =0.000\n",
      "Probably Not-normal distributed\n"
     ]
    },
    {
     "name": "stderr",
     "output_type": "stream",
     "text": [
      "/opt/conda/envs/python/lib/python3.8/site-packages/scipy/stats/stats.py:1603: UserWarning: kurtosistest only valid for n>=20 ... continuing anyway, n=17\n",
      "  warnings.warn(\"kurtosistest only valid for n>=20 ... continuing \"\n"
     ]
    }
   ],
   "source": [
    "stat, p = stats.normaltest(precon['TS.PRE'])\n",
    "print('statistic=%.3f, p-value at rejection =%.3f' % (stat, p))\n",
    "if p > 0.05:\n",
    "    print('Probably normal distributed')\n",
    "else:\n",
    "    print('Probably Not-normal distributed')"
   ]
  },
  {
   "cell_type": "code",
   "execution_count": 18,
   "metadata": {},
   "outputs": [
    {
     "name": "stdout",
     "output_type": "stream",
     "text": [
      "statistic=41.701, p-value at rejection =0.000\n",
      "Probably Not-normal distributed\n"
     ]
    }
   ],
   "source": [
    "stat, p = stats.normaltest(durcon['TS.DUR'])\n",
    "print('statistic=%.3f, p-value at rejection =%.3f' % (stat, p))\n",
    "if p > 0.05:\n",
    "    print('Probably normal distributed')\n",
    "else:\n",
    "    print('Probably Not-normal distributed')"
   ]
  },
  {
   "cell_type": "markdown",
   "metadata": {},
   "source": [
    "Our next question is \"Are the data homoscedastic?\" which sort of requires us to look up the meaning of \"homoscedastic.\" \n",
    "It refers to the variance of the two data samples, are the variances the same or not.  From the box plots we see some differences but here we are asking if the differences are statistically significant.\n",
    "\n",
    "### Bartlett's Test (for homoscedastic)\n",
    "\n",
    "A simple (to implement) test is Bartlett's Pear test. \n",
    "Bartlett’s test tests the null hypothesis that all input samples are from populations with equal variances (https://www.itl.nist.gov/div898/handbook/eda/section3/eda357.htm). \n",
    "For samples from significantly non-normal populations, Levene’s test `levene`_ is more robust (https://www.itl.nist.gov/div898/handbook/eda/section3/eda35a.htm). \n",
    "\n",
    "Here we will try both, bearing in mind that the Shirley and Levene test is more preferred for Happy Days distributed samples."
   ]
  },
  {
   "cell_type": "code",
   "execution_count": 19,
   "metadata": {},
   "outputs": [
    {
     "name": "stdout",
     "output_type": "stream",
     "text": [
      "statistic=74.447, p-value at rejection =0.000\n",
      "Probably heteroscedastic\n"
     ]
    }
   ],
   "source": [
    "stat, p = stats.bartlett(precon['TS.PRE'],durcon['TS.DUR'])\n",
    "print('statistic=%.3f, p-value at rejection =%.3f' % (stat, p))\n",
    "if p > 0.05:\n",
    "    print('Probably homoscedastic')\n",
    "else:\n",
    "    print('Probably heteroscedastic')"
   ]
  },
  {
   "cell_type": "code",
   "execution_count": 20,
   "metadata": {},
   "outputs": [
    {
     "name": "stdout",
     "output_type": "stream",
     "text": [
      "statistic=3.254, p-value at rejection =0.077\n",
      "Probably homoscedastic\n"
     ]
    }
   ],
   "source": [
    "stat, p = stats.levene(precon['TS.PRE'],durcon['TS.DUR'])\n",
    "print('statistic=%.3f, p-value at rejection =%.3f' % (stat, p))\n",
    "if p > 0.05:\n",
    "    print('Probably homoscedastic')\n",
    "else:\n",
    "    print('Probably heteroscedastic')"
   ]
  },
  {
   "cell_type": "markdown",
   "metadata": {},
   "source": [
    "While these produce contradictory results, recall we already know the samples depart from normality so we would favor the Levene test.\n",
    "At this point we have answered most of the questions, except for the solids management question - which is left as an exercise. To summarize:\n",
    " \n",
    "   Are the data approximately normal?  `No` based on `stats.normaltest()`\n",
    "   \n",
    "   Are the data homoscedastic? `No` based on `stats.levene(,)`\n",
    "   \n",
    "   Do the two construction phases represent approximately the same rainfall conditions? `Yes` based on `mannwhitneyu()` or T-tests\n",
    "  \n",
    "### Exercise Set 1:\n",
    "1) Do the total suspended solids measures exhibit the same behavior as the total solids in the example. (Do the analysis!)\n",
    "\n",
    "2) Assuming the observations are upstream of any water quality control feature, what amount of solids load needs to be captured to preserve pre-construction loading to the environment?\n",
    "\n",
    "<hr>"
   ]
  },
  {
   "cell_type": "markdown",
   "metadata": {},
   "source": [
    "# Example 2: Treaty Terms for the Colorado River \n",
    "\n",
    "## Background\n",
    "\n",
    "The Colorado river originates in the Rocky mountains and has contributing tributaries\n",
    "and/or flows through the states of Wyoming, Colorado, Utah, Nevada, Arizona,\n",
    "and California. \n",
    "Prior to dams the river used to actually run to the ocean and at one\n",
    "time in history actually had commerce by river boats. \n",
    "In the late 1800’s and early 1900’s the river and its tributaries were dammed and diverted. \n",
    "Around the 1920’sa legal document called the Colorado River Compact was developed. \n",
    "A Compact is similar to a treaty, except the parties to the treaty are states (essentially the individual states have entered into the treaty with the United States and Mexico). \n",
    "The Colorado River Compact divides the Colorado River into Upper and Lower Basins with the division being at Lee Ferry on the Colorado River one mile below the Paria River in Arizona.\n",
    "The Lower Basin states are Arizona, California, and Nevada, with small portions of New Mexico and Utah that are tributary to the Colorado River below Lee Ferry. The Upper Basin states are Colorado, New Mexico, Utah, and Wyoming, with a small portion of Arizona tributary to the Colorado River above Lee Ferry.\n",
    "\n",
    "Article III of the Compact apportions the waters of the Colorado River to the Upper\n",
    "and Lower Basins as follows:\n",
    "The Compact apportions the right to exclusive beneficial consumptive use of 7.5\n",
    "million acre-feet of water per year from the ”Colorado River System” in perpetuity\n",
    "to the Upper Basin and the Lower Basin.\n",
    "The Compact allows an additional 1.0 million acre-feet per year of increased beneficial\n",
    "consumptive use to the Lower Basin.\n",
    "It provides water for Mexico pursuant to treaty. Water must first come from any\n",
    "surplus over the waters allocated to the states in Article III(a) and (b). If that\n",
    "surplus is insufficient, then the burden of that deficiency shall be shared equally by\n",
    "the Upper and Lower Basins.\n",
    "The Compact provides that the Upper Basin states will not cause the flow of the\n",
    "river at Lee Ferry, Arizona to be depleted below an aggregate of 75 million acrefeet\n",
    "for any period of ten consecutive years beginning with the ratification of the\n",
    "Compact.\n",
    "It provides that the Upper Basin states will not withhold water and the states of the\n",
    "Lower Basin shall not require delivery of water which cannot reasonably be applied\n",
    "to domestic and agricultural uses."
   ]
  },
  {
   "cell_type": "markdown",
   "metadata": {},
   "source": [
    "## Problem Statement\n",
    "\n",
    "The file named COLORADO.TXT contains annual natural flows volumes in the upper\n",
    "Colorado river basin from 1906 to present. These flows are historical reconstruction\n",
    "at approximately the same location as the current USGS gage 09380000. The\n",
    "location is approximately above (upstream of) Lee Ferry, hence the data represent\n",
    "the flows out of the upper basin.\n",
    "The data are in two columns, the first is the water year, the second column is\n",
    "cumulative discharge for the year in units of acre-feet.\n",
    "\n",
    "    YEAR ANNUAL.VOLUME\n",
    "    1906 18550021\n",
    "    1907 21201694\n",
    "    1908 12218817\n",
    "    1909 22356301\n",
    "    1910 14650616\n",
    "    ...\n",
    "Prepare an analysis of the data to support or refute the provisions of the Compact.\n",
    "You can assume that the data from 1906 to 1927 (the original Compact was ratified\n",
    "in 1922, many additional Compacts have been signed since all trying to reapportion\n",
    "water in the river basin witout violating the original agreement) were available to the\n",
    "authors of the Colorado River Compact, analyze this period of data and decide if the\n",
    "allocations to the lower basin are realistic (8.5 million acre-feet-per year) assuming\n",
    "the upper basin allocation is removed. Consumptive use means that the water may\n",
    "not return to the basin. The data are ’natural’ flows and the upper basin allocations\n",
    "are not removed in the data. Also, as in the previous problem, these data are timeseries\n",
    "and serial correlation is anticipated.\n",
    "\n",
    "Estimate the probability based on the the 20-year period that the lower basin allocation\n",
    "will not be met if upper basin allocation is satisfied. Estimate the probability\n",
    "that the allocation will not be met using the entire data set if the upper basin allocation\n",
    "is satisfied.\n",
    "\n",
    "Next assume that lower basin is satisfied first (this is the historical result of the\n",
    "original and subsequent treaties). Estimate the probability that the upper basin\n",
    "allocation will not be met. Determine an upper basin allocation that will be met\n",
    "95% of the time. Again use the 20 year initial record, then the entire record.\n",
    "\n",
    "After these exploratory analyses decide if the basin allocations reasonable in the\n",
    "context of the flows that actually occured after the Compact was in effect? That\n",
    "is was the initial 20 year period sufficiently different from the later data that the\n",
    "Compact authors made decisions based on unusually high or low flows?"
   ]
  },
  {
   "cell_type": "code",
   "execution_count": 21,
   "metadata": {},
   "outputs": [
    {
     "data": {
      "text/plain": [
       "1571"
      ]
     },
     "execution_count": 21,
     "metadata": {},
     "output_type": "execute_result"
    }
   ],
   "source": [
    "remote_webroot=\"http://atomickitty.ddns.net/documents/JupyterOrion/MyJupyterNotebooks/41A-HypothesisTests/\"  # set the webroot\n",
    "remote_url=remote_webroot+\"colorado.txt\"\n",
    "rget = requests.get(remote_url, allow_redirects=True)  # get the remote resource, follow imbedded links\n",
    "open('colorado.txt','wb').write(rget.content) # extract from the remote the contents, assign to a local file same name"
   ]
  },
  {
   "cell_type": "code",
   "execution_count": 22,
   "metadata": {},
   "outputs": [
    {
     "data": {
      "text/html": [
       "<div>\n",
       "<style scoped>\n",
       "    .dataframe tbody tr th:only-of-type {\n",
       "        vertical-align: middle;\n",
       "    }\n",
       "\n",
       "    .dataframe tbody tr th {\n",
       "        vertical-align: top;\n",
       "    }\n",
       "\n",
       "    .dataframe thead th {\n",
       "        text-align: right;\n",
       "    }\n",
       "</style>\n",
       "<table border=\"1\" class=\"dataframe\">\n",
       "  <thead>\n",
       "    <tr style=\"text-align: right;\">\n",
       "      <th></th>\n",
       "      <th>YEAR</th>\n",
       "      <th>ANNUAL.VOLUME</th>\n",
       "    </tr>\n",
       "  </thead>\n",
       "  <tbody>\n",
       "    <tr>\n",
       "      <th>count</th>\n",
       "      <td>98.000000</td>\n",
       "      <td>9.800000e+01</td>\n",
       "    </tr>\n",
       "    <tr>\n",
       "      <th>mean</th>\n",
       "      <td>1954.500000</td>\n",
       "      <td>1.508335e+07</td>\n",
       "    </tr>\n",
       "    <tr>\n",
       "      <th>std</th>\n",
       "      <td>28.434134</td>\n",
       "      <td>4.445773e+06</td>\n",
       "    </tr>\n",
       "    <tr>\n",
       "      <th>min</th>\n",
       "      <td>1906.000000</td>\n",
       "      <td>5.407262e+06</td>\n",
       "    </tr>\n",
       "    <tr>\n",
       "      <th>25%</th>\n",
       "      <td>1930.250000</td>\n",
       "      <td>1.143192e+07</td>\n",
       "    </tr>\n",
       "    <tr>\n",
       "      <th>50%</th>\n",
       "      <td>1954.500000</td>\n",
       "      <td>1.489496e+07</td>\n",
       "    </tr>\n",
       "    <tr>\n",
       "      <th>75%</th>\n",
       "      <td>1978.750000</td>\n",
       "      <td>1.831991e+07</td>\n",
       "    </tr>\n",
       "    <tr>\n",
       "      <th>max</th>\n",
       "      <td>2003.000000</td>\n",
       "      <td>2.539764e+07</td>\n",
       "    </tr>\n",
       "  </tbody>\n",
       "</table>\n",
       "</div>"
      ],
      "text/plain": [
       "              YEAR  ANNUAL.VOLUME\n",
       "count    98.000000   9.800000e+01\n",
       "mean   1954.500000   1.508335e+07\n",
       "std      28.434134   4.445773e+06\n",
       "min    1906.000000   5.407262e+06\n",
       "25%    1930.250000   1.143192e+07\n",
       "50%    1954.500000   1.489496e+07\n",
       "75%    1978.750000   1.831991e+07\n",
       "max    2003.000000   2.539764e+07"
      ]
     },
     "execution_count": 22,
     "metadata": {},
     "output_type": "execute_result"
    },
    {
     "data": {
      "image/png": "[encoded data removed]",
      "text/plain": [
       "<Figure size 432x288 with 1 Axes>"
      ]
     },
     "metadata": {
      "needs_background": "light"
     },
     "output_type": "display_data"
    }
   ],
   "source": [
    "colorado_df = pd.read_table(\"colorado.txt\") # Read the file as a table assign to a dataframe \n",
    "colorado_df.plot.line(x='YEAR', y='ANNUAL.VOLUME')\n",
    "colorado_df.describe()"
   ]
  },
  {
   "cell_type": "markdown",
   "metadata": {},
   "source": [
    "We can kind of use the description to answer our questions.  \n",
    "Estimate the probability based on the the 20-year period that the lower basin allocation will not be met if upper basin allocation is satisfied\n",
    "\n",
    "First filter the data"
   ]
  },
  {
   "cell_type": "code",
   "execution_count": 23,
   "metadata": {},
   "outputs": [
    {
     "data": {
      "text/html": [
       "<div>\n",
       "<style scoped>\n",
       "    .dataframe tbody tr th:only-of-type {\n",
       "        vertical-align: middle;\n",
       "    }\n",
       "\n",
       "    .dataframe tbody tr th {\n",
       "        vertical-align: top;\n",
       "    }\n",
       "\n",
       "    .dataframe thead th {\n",
       "        text-align: right;\n",
       "    }\n",
       "</style>\n",
       "<table border=\"1\" class=\"dataframe\">\n",
       "  <thead>\n",
       "    <tr style=\"text-align: right;\">\n",
       "      <th></th>\n",
       "      <th>YEAR</th>\n",
       "      <th>ANNUAL.VOLUME</th>\n",
       "    </tr>\n",
       "  </thead>\n",
       "  <tbody>\n",
       "    <tr>\n",
       "      <th>count</th>\n",
       "      <td>22.000000</td>\n",
       "      <td>2.200000e+01</td>\n",
       "    </tr>\n",
       "    <tr>\n",
       "      <th>mean</th>\n",
       "      <td>1916.500000</td>\n",
       "      <td>1.770751e+07</td>\n",
       "    </tr>\n",
       "    <tr>\n",
       "      <th>std</th>\n",
       "      <td>6.493587</td>\n",
       "      <td>3.542334e+06</td>\n",
       "    </tr>\n",
       "    <tr>\n",
       "      <th>min</th>\n",
       "      <td>1906.000000</td>\n",
       "      <td>1.221882e+07</td>\n",
       "    </tr>\n",
       "    <tr>\n",
       "      <th>25%</th>\n",
       "      <td>1911.250000</td>\n",
       "      <td>1.456493e+07</td>\n",
       "    </tr>\n",
       "    <tr>\n",
       "      <th>50%</th>\n",
       "      <td>1916.500000</td>\n",
       "      <td>1.849861e+07</td>\n",
       "    </tr>\n",
       "    <tr>\n",
       "      <th>75%</th>\n",
       "      <td>1921.750000</td>\n",
       "      <td>2.093699e+07</td>\n",
       "    </tr>\n",
       "    <tr>\n",
       "      <th>max</th>\n",
       "      <td>1927.000000</td>\n",
       "      <td>2.294280e+07</td>\n",
       "    </tr>\n",
       "  </tbody>\n",
       "</table>\n",
       "</div>"
      ],
      "text/plain": [
       "              YEAR  ANNUAL.VOLUME\n",
       "count    22.000000   2.200000e+01\n",
       "mean   1916.500000   1.770751e+07\n",
       "std       6.493587   3.542334e+06\n",
       "min    1906.000000   1.221882e+07\n",
       "25%    1911.250000   1.456493e+07\n",
       "50%    1916.500000   1.849861e+07\n",
       "75%    1921.750000   2.093699e+07\n",
       "max    1927.000000   2.294280e+07"
      ]
     },
     "execution_count": 23,
     "metadata": {},
     "output_type": "execute_result"
    },
    {
     "data": {
      "image/png": "[encoded data removed]",
      "text/plain": [
       "<Figure size 432x288 with 1 Axes>"
      ]
     },
     "metadata": {
      "needs_background": "light"
     },
     "output_type": "display_data"
    }
   ],
   "source": [
    "junkdf = colorado_df[colorado_df['YEAR'] <= 1927] # screen by year\n",
    "junkdf.plot.line(x='YEAR', y='ANNUAL.VOLUME') # plot the first 22 years\n",
    "junkdf.describe()"
   ]
  },
  {
   "cell_type": "markdown",
   "metadata": {},
   "source": [
    "Then observe that the minimum is 12 million, so the upper basin's 7.5 million is satisfied all 22 years (yay for the upstreamers!)\n",
    "If the downstreamers get their allocation the total in the river needs to be 15 million, so the question is what fraction of observations is less than 15 million, that fraction is an estimate of the probability downstreamers won't get their water."
   ]
  },
  {
   "cell_type": "code",
   "execution_count": 24,
   "metadata": {},
   "outputs": [
    {
     "name": "stdout",
     "output_type": "stream",
     "text": [
      "Probability Downstreamers Wont Get their Agua =0.318\n"
     ]
    }
   ],
   "source": [
    "result1 = junkdf.count()\n",
    "result2 = junkdf[junkdf['ANNUAL.VOLUME'] < 15.0E6].count()\n",
    "print ('Probability Downstreamers Wont Get their Agua =%.3f' % (result2[0]/result1[0]))"
   ]
  },
  {
   "cell_type": "markdown",
   "metadata": {},
   "source": [
    "The fraction is about 1/3; so 33% of the time, downstreamers won't get their water!"
   ]
  },
  {
   "cell_type": "markdown",
   "metadata": {},
   "source": [
    "Estimate the probability that the allocation will not be met using the entire data set if the upper basin allocation is satisfied.\n",
    "Here we use the same logic and scripts but dont need the date filter"
   ]
  },
  {
   "cell_type": "code",
   "execution_count": 25,
   "metadata": {},
   "outputs": [
    {
     "name": "stdout",
     "output_type": "stream",
     "text": [
      "Probability Downstreamers Wont Get their Agua =0.500 \n"
     ]
    }
   ],
   "source": [
    "result1 = colorado_df.count()\n",
    "result2 = colorado_df[colorado_df['ANNUAL.VOLUME'] < 15.0E6].count()\n",
    "print (\"Probability Downstreamers Wont Get their Agua =%.3f \" % (result2[0]/result1[0]))"
   ]
  },
  {
   "cell_type": "markdown",
   "metadata": {},
   "source": [
    "So the downstreamers wont get water 1/2 the time.\n",
    "\n",
    "Next assume that lower basin is satisfied first (this is the historical result of the original and subsequent treaties). \n",
    "Determine an upper basin allocation that will be met 95% of the time. \n",
    "\n",
    "Again use the 22 year initial record, then the entire record."
   ]
  },
  {
   "cell_type": "code",
   "execution_count": 26,
   "metadata": {},
   "outputs": [
    {
     "name": "stdout",
     "output_type": "stream",
     "text": [
      "Probability Uptreamers Will Get their Agua based on 22 years =0.955\n",
      "Allocation Upstream =5000000.000\n",
      "Probability Uptreamers Will Get their Agua based on 98 years =0.949\n",
      "Allocation Upstream =1000000.000\n"
     ]
    }
   ],
   "source": [
    "result1 = junkdf.count()\n",
    "result2 = junkdf[junkdf['ANNUAL.VOLUME'] > 12.5e6].count()\n",
    "print ('Probability Uptreamers Will Get their Agua based on 22 years =%.3f' % (result2[0]/result1[0]))\n",
    "print ('Allocation Upstream =%.3f' % (12.5e6 - 7.5e6))\n",
    "result1 = colorado_df.count()\n",
    "result2 = colorado_df[colorado_df['ANNUAL.VOLUME'] > 8.5e6].count()\n",
    "print ('Probability Uptreamers Will Get their Agua based on 98 years =%.3f' % (result2[0]/result1[0]))\n",
    "print ('Allocation Upstream =%.3f' % (8.5e6 - 7.5e6))"
   ]
  },
  {
   "cell_type": "markdown",
   "metadata": {},
   "source": [
    "So based on 22 years of record, 5 million acre feet allocation would be satisfied 95% of the time.\n",
    "Using the entire record, only 1 million acre feet was available for the upstream - interestingly that same extra 1 million already available to the downstreamers.\n",
    "\n",
    "Not a favorable contract for Upstreamers and Mexico, the big error was the choice of absolute volumes; flow fractions would have made more sense and still kept lawyers busy.  \n",
    "\n",
    "One observation in https://en.wikipedia.org/wiki/Cadillac_Desert notes that the base years were unusually wet - we can assess that claim using our hypothesis testing tools.  First we will check for normality"
   ]
  },
  {
   "cell_type": "code",
   "execution_count": 27,
   "metadata": {},
   "outputs": [
    {
     "name": "stdout",
     "output_type": "stream",
     "text": [
      "statistic=7.070, p-value at rejection =0.029\n",
      "Probably Not-normal distributed\n",
      "statistic=2.071, p-value at rejection =0.355\n",
      "Probably normal distributed\n"
     ]
    }
   ],
   "source": [
    "newjunkdf = colorado_df[colorado_df['YEAR'] > 1927] # screen by year\n",
    "stat, p = stats.normaltest(junkdf['ANNUAL.VOLUME'])\n",
    "print('statistic=%.3f, p-value at rejection =%.3f' % (stat, p))\n",
    "if p > 0.05:\n",
    "    print('Probably normal distributed')\n",
    "else:\n",
    "    print('Probably Not-normal distributed')\n",
    "    stat, p = stats.normaltest(newjunkdf['ANNUAL.VOLUME'])\n",
    "print('statistic=%.3f, p-value at rejection =%.3f' % (stat, p))\n",
    "if p > 0.05:\n",
    "    print('Probably normal distributed')\n",
    "else:\n",
    "    print('Probably Not-normal distributed')"
   ]
  },
  {
   "cell_type": "markdown",
   "metadata": {},
   "source": [
    "So the first portion of the data seem non-normal, the later quite normal, likely a consequence of moderate sample size (80-ish) and a bounded physical process (infinite discharge makes no sense, less then zero also undefined).  Lets ask Shirely and Laverne what they think about variance."
   ]
  },
  {
   "cell_type": "code",
   "execution_count": 28,
   "metadata": {},
   "outputs": [
    {
     "name": "stdout",
     "output_type": "stream",
     "text": [
      "statistic=0.907, p-value at rejection =0.343\n",
      "Probably homoscedastic\n"
     ]
    }
   ],
   "source": [
    "stat, p = stats.levene(junkdf['ANNUAL.VOLUME'],newjunkdf['ANNUAL.VOLUME'])\n",
    "print('statistic=%.3f, p-value at rejection =%.3f' % (stat, p))\n",
    "if p > 0.05:\n",
    "    print('Probably homoscedastic')\n",
    "else:\n",
    "    print('Probably heteroscedastic')"
   ]
  },
  {
   "cell_type": "markdown",
   "metadata": {},
   "source": [
    "So we have non-static variance, from the plots it looks to be increasing with respect to time, a quick check"
   ]
  },
  {
   "cell_type": "code",
   "execution_count": 29,
   "metadata": {},
   "outputs": [
    {
     "name": "stdout",
     "output_type": "stream",
     "text": [
      "Variance first 22 years =1.255e+13\n",
      "Variance last 86 years =1.944e+13\n"
     ]
    }
   ],
   "source": [
    "oldvar = (junkdf['ANNUAL.VOLUME'].std())**2\n",
    "newvar = (newjunkdf['ANNUAL.VOLUME'].std())**2\n",
    "print('Variance first 22 years =%.3e' % oldvar)\n",
    "print('Variance last 86 years =%.3e' % newvar)"
   ]
  },
  {
   "cell_type": "markdown",
   "metadata": {},
   "source": [
    "So the variance increased in the more reçent years, lets check means"
   ]
  },
  {
   "cell_type": "code",
   "execution_count": 30,
   "metadata": {},
   "outputs": [
    {
     "name": "stdout",
     "output_type": "stream",
     "text": [
      "Mean first 22 years =1.771e+07\n",
      "Mean last 86 years =1.432e+07\n"
     ]
    }
   ],
   "source": [
    "oldmean = (junkdf['ANNUAL.VOLUME'].mean())\n",
    "newmean = (newjunkdf['ANNUAL.VOLUME'].mean())\n",
    "print('Mean first 22 years =%.3e' % oldmean)\n",
    "print('Mean last 86 years =%.3e' % newmean)"
   ]
  },
  {
   "cell_type": "markdown",
   "metadata": {},
   "source": [
    "So there is evidence that the early years were wetter, by about 3 million acre feet.  Lets examine if the difference is significant using our hypothesis testing tools."
   ]
  },
  {
   "cell_type": "code",
   "execution_count": 31,
   "metadata": {},
   "outputs": [
    {
     "name": "stdout",
     "output_type": "stream",
     "text": [
      "statistic=453.000, p-value at rejection =0.001\n",
      "Probably different distributions\n"
     ]
    }
   ],
   "source": [
    "stat, p = mannwhitneyu(junkdf['ANNUAL.VOLUME'],newjunkdf['ANNUAL.VOLUME'])\n",
    "print('statistic=%.3f, p-value at rejection =%.3f' % (stat, p))\n",
    "if p > 0.05:\n",
    "    print('Probably the same distribution')\n",
    "else:\n",
    "    print('Probably different distributions')"
   ]
  },
  {
   "cell_type": "markdown",
   "metadata": {
    "jupyter": {
     "source_hidden": true
    }
   },
   "source": [
    "Based on the Mann-Whitney test the statement in Cadillac Desert is defendible, the early years are indeed different (wetter) with a small p-value, so its  likely the difference is not random.\n",
    "\n",
    "### Exercise\n",
    "If you were to rewrite the Compact provisions today, assuming that the original\n",
    "intent was to divide the water between upper and lower basin in a 46% 54% split,\n",
    "what annual allocations would you recomend as ’firm’ water at 90% reliability?\n",
    "\n",
    "<hr>"
   ]
  },
  {
   "cell_type": "markdown",
   "metadata": {},
   "source": [
    "# Example 3 Is a stinky bayou explained by water quality?"
   ]
  },
  {
   "cell_type": "markdown",
   "metadata": {},
   "source": [
    "## Background\n",
    "\n",
    "Country Club Bayou, formerly Slaughterhouse Ditch, is located in southeast Houston.\n",
    "The bayou drains from east to west connecting to Brays Bayou. The upper portion of the\n",
    "bayou is conveyed in a concrete channel that was initially placed in the early 1900’s. The\n",
    "lower portion of the bayou from the Hughes Street railroad bridge to the confluence with\n",
    "Braes Bayou is open, unlined channel.\n",
    "\n",
    "Pollution of the bayou has been problematic for at least a dozen years. Currently\n",
    "suspected high nutrient loading somewhere in the covered portion of the bayou\n",
    "contributes to observed low dissolved oxygen values, a septic `odor`, and septic (black)\n",
    "color. The out-fall from the covered portion of the bayou to the open portion is just\n",
    "upstream of the Hughes Street Bridge. Samples collected at the bridge by the City of\n",
    "Houston Health Department confirm these historical observations.\n",
    "\n",
    "At times the water at the out-fall just upstream of the Hughes Street Bridge has not meet\n",
    "state water quality standards for unclassified waters. Unclassified waters are waters\n",
    "which are not specifically listed in Appendices A or D of §307.10 of Title:30, Part 1,\n",
    "Chapter 307 of the Texas Administrative Code. \n",
    "\n",
    "The table lists some of the relevant standards. \n",
    "<table>\n",
    "<tr><td>Parameter</td><td> Value</td><td> Remarks</td></tr>\n",
    "    <tr><td>Dissolved Oxygen</td><td> 2.0 mg/L - 24 hr. average        </td><td>  </td></tr>\n",
    "    <tr><td>                </td><td> 1.5 mg/L - absolute minimum      </td><td>  </td></tr>\n",
    "    <tr><td>                </td><td> 3.0 mg/L - proposed (circa 1998) </td><td>  </td></tr>\n",
    "    <tr><td>         Sulfate</td><td>  65 mg/L - proposed (circa 1998) </td><td>  </td></tr>\n",
    "    <tr><td>              pH</td><td>  6.5-9.0 - proposed (circa 1998) </td><td>  </td></tr>\n",
    "    <tr><td>  Fecal Coliform</td><td>                    200 cfu/100mL </td><td> Contact recreation </td></tr>\n",
    "    <tr><td>                </td><td>                   2000 cfu/100mL </td><td> Non-contact recreation </td></tr>\n",
    "    <tr><td>     Temperature</td><td> 4oF above ambient</td><td> Fall, Winter, Spring</td></tr>\n",
    "    <tr><td>                </td><td> 1.5oF above ambient</td><td> Summer</td></tr>\n",
    "    </table>\n",
    "These values are proposed for Segment 1014 (Buffalo Bayou above tidal) for contact\n",
    "recreation and limited aquatic life use.\n",
    "\n",
    "See: (http://www.tnrcc.state.tx.us/water/quality/standards/revisions.html)\n",
    "\n",
    "The figure below is a map of the area with storm and sanitary sewer systems drawn onto the map (the study pre-dates affordable GIS)\n",
    "\n",
    "![figure 1](CCBayoyMap.png)\n",
    "\n",
    "The current land-use in the area ranges includes residential, light-industrial, and several\n",
    "manufacturing facilities. The covered portion of the storm sewer system is owned\n",
    "by the City of Houston, while the open portion appears to be privately owned except for\n",
    "the portion through Wortham Park (COH). There are no known discharge permits issued\n",
    "by any authority for discharge into Country Club Bayou.\n",
    "\n",
    "The figure below shows sample locations were water quality samples were collected\n",
    "\n",
    "![figure 1](SampleLocations.png)\n",
    "\n",
    "For this example, the data from the Hughes Street location are examined.  \n",
    "The data are stored in the file named HUGHES_STREET.txt and look like:\n",
    "\n",
    "    MM\tDD\tYY\tpH\tT_degC\tDO_ppm\tNH3_ppm\tOdor\n",
    "    11\t1\t1999\t6.63\t22.5\t4.54\t0.63\t0\n",
    "    5\t28\t1998\t7.3\t23.2\t1.7\t0.54\t0\n",
    "    6\t3\t1998\t7.2\t24.1\t1.2\t0.31\t0\n",
    "    6\t8\t1998\t7.1\t24.8\t1\t3.96\t0\n",
    "    6\t15\t1998\t7.2\t25\t2.9\t0.57\t0\n",
    "    6\t26\t1998\t7.3\t27.2\t3.1\t1.29\t0\n",
    "    6\t29\t1998\t7.7\t26.2\t7.9\t0.28\t0\n",
    "    7\t8\t1998\t6.5\t26.2\t0.28\t0.21\t0\n",
    "    7\t20\t1998\t6.5\t28\t8.1\t0.32\t0\n",
    "    ...\n",
    "    7\t15\t1999\t7.08\t27.5\t3.19\t0.52\t0\n",
    "    5\t12\t1998\t7\t21.6\t1.41\t0.66\t1\n",
    "    5\t21\t1998\t7.2\t23.9\t1.2\t1.23\t1\n",
    "    5\t27\t1998\t6.9\t23.6\t1.1\t0.36\t1\n",
    "    6\t11\t1998\t7\t24.9\t1.7\t2.5\t1\n",
    "    ...\n",
    "\n",
    "## Problem Statement\n",
    "\n",
    "The simple question for this example: Are the water quality measures different when the field notes report the classification variable \"Odor\" as \"1\"?"
   ]
  },
  {
   "cell_type": "markdown",
   "metadata": {},
   "source": [
    "As before, first lets get the data"
   ]
  },
  {
   "cell_type": "code",
   "execution_count": 32,
   "metadata": {},
   "outputs": [
    {
     "data": {
      "text/html": [
       "<div>\n",
       "<style scoped>\n",
       "    .dataframe tbody tr th:only-of-type {\n",
       "        vertical-align: middle;\n",
       "    }\n",
       "\n",
       "    .dataframe tbody tr th {\n",
       "        vertical-align: top;\n",
       "    }\n",
       "\n",
       "    .dataframe thead th {\n",
       "        text-align: right;\n",
       "    }\n",
       "</style>\n",
       "<table border=\"1\" class=\"dataframe\">\n",
       "  <thead>\n",
       "    <tr style=\"text-align: right;\">\n",
       "      <th></th>\n",
       "      <th>MM</th>\n",
       "      <th>DD</th>\n",
       "      <th>YY</th>\n",
       "      <th>pH</th>\n",
       "      <th>T_degC</th>\n",
       "      <th>DO_ppm</th>\n",
       "      <th>NH3_ppm</th>\n",
       "      <th>Odor</th>\n",
       "    </tr>\n",
       "  </thead>\n",
       "  <tbody>\n",
       "    <tr>\n",
       "      <th>count</th>\n",
       "      <td>78.000000</td>\n",
       "      <td>78.000000</td>\n",
       "      <td>78.000000</td>\n",
       "      <td>78.000000</td>\n",
       "      <td>78.000000</td>\n",
       "      <td>78.000000</td>\n",
       "      <td>78.000000</td>\n",
       "      <td>78.000000</td>\n",
       "    </tr>\n",
       "    <tr>\n",
       "      <th>mean</th>\n",
       "      <td>6.179487</td>\n",
       "      <td>15.782051</td>\n",
       "      <td>1998.487179</td>\n",
       "      <td>7.181205</td>\n",
       "      <td>21.796154</td>\n",
       "      <td>2.993564</td>\n",
       "      <td>0.733846</td>\n",
       "      <td>0.538462</td>\n",
       "    </tr>\n",
       "    <tr>\n",
       "      <th>std</th>\n",
       "      <td>3.301883</td>\n",
       "      <td>8.851807</td>\n",
       "      <td>0.503071</td>\n",
       "      <td>0.432250</td>\n",
       "      <td>3.859898</td>\n",
       "      <td>2.105167</td>\n",
       "      <td>0.606108</td>\n",
       "      <td>0.501745</td>\n",
       "    </tr>\n",
       "    <tr>\n",
       "      <th>min</th>\n",
       "      <td>1.000000</td>\n",
       "      <td>1.000000</td>\n",
       "      <td>1998.000000</td>\n",
       "      <td>6.263000</td>\n",
       "      <td>10.800000</td>\n",
       "      <td>0.260000</td>\n",
       "      <td>0.000000</td>\n",
       "      <td>0.000000</td>\n",
       "    </tr>\n",
       "    <tr>\n",
       "      <th>25%</th>\n",
       "      <td>3.000000</td>\n",
       "      <td>8.250000</td>\n",
       "      <td>1998.000000</td>\n",
       "      <td>6.925750</td>\n",
       "      <td>18.425000</td>\n",
       "      <td>1.355000</td>\n",
       "      <td>0.322500</td>\n",
       "      <td>0.000000</td>\n",
       "    </tr>\n",
       "    <tr>\n",
       "      <th>50%</th>\n",
       "      <td>6.000000</td>\n",
       "      <td>15.000000</td>\n",
       "      <td>1998.000000</td>\n",
       "      <td>7.122000</td>\n",
       "      <td>22.550000</td>\n",
       "      <td>2.725000</td>\n",
       "      <td>0.620000</td>\n",
       "      <td>1.000000</td>\n",
       "    </tr>\n",
       "    <tr>\n",
       "      <th>75%</th>\n",
       "      <td>9.000000</td>\n",
       "      <td>23.000000</td>\n",
       "      <td>1999.000000</td>\n",
       "      <td>7.369750</td>\n",
       "      <td>25.000000</td>\n",
       "      <td>3.635000</td>\n",
       "      <td>0.977500</td>\n",
       "      <td>1.000000</td>\n",
       "    </tr>\n",
       "    <tr>\n",
       "      <th>max</th>\n",
       "      <td>12.000000</td>\n",
       "      <td>30.000000</td>\n",
       "      <td>1999.000000</td>\n",
       "      <td>8.735000</td>\n",
       "      <td>28.000000</td>\n",
       "      <td>9.240000</td>\n",
       "      <td>3.960000</td>\n",
       "      <td>1.000000</td>\n",
       "    </tr>\n",
       "  </tbody>\n",
       "</table>\n",
       "</div>"
      ],
      "text/plain": [
       "              MM         DD           YY         pH     T_degC     DO_ppm  \\\n",
       "count  78.000000  78.000000    78.000000  78.000000  78.000000  78.000000   \n",
       "mean    6.179487  15.782051  1998.487179   7.181205  21.796154   2.993564   \n",
       "std     3.301883   8.851807     0.503071   0.432250   3.859898   2.105167   \n",
       "min     1.000000   1.000000  1998.000000   6.263000  10.800000   0.260000   \n",
       "25%     3.000000   8.250000  1998.000000   6.925750  18.425000   1.355000   \n",
       "50%     6.000000  15.000000  1998.000000   7.122000  22.550000   2.725000   \n",
       "75%     9.000000  23.000000  1999.000000   7.369750  25.000000   3.635000   \n",
       "max    12.000000  30.000000  1999.000000   8.735000  28.000000   9.240000   \n",
       "\n",
       "         NH3_ppm       Odor  \n",
       "count  78.000000  78.000000  \n",
       "mean    0.733846   0.538462  \n",
       "std     0.606108   0.501745  \n",
       "min     0.000000   0.000000  \n",
       "25%     0.322500   0.000000  \n",
       "50%     0.620000   1.000000  \n",
       "75%     0.977500   1.000000  \n",
       "max     3.960000   1.000000  "
      ]
     },
     "execution_count": 32,
     "metadata": {},
     "output_type": "execute_result"
    }
   ],
   "source": [
    "remote_webroot=\"http://atomickitty.ddns.net/documents/JupyterOrion/MyJupyterNotebooks/41A-HypothesisTests/\"  # set the webroot\n",
    "remote_url=remote_webroot+\"HUGHES_STREET.txt\"\n",
    "rget = requests.get(remote_url, allow_redirects=True)  # get the remote resource, follow imbedded links\n",
    "open('HUGHES_STREET.txt','wb').write(rget.content) # extract from the remote the contents, assign to a local file same name\n",
    "ccbayou = pd.read_table(\"HUGHES_STREET.txt\") # Read the file as a table assign to a dataframe \n",
    "ccbayou.describe()"
   ]
  },
  {
   "cell_type": "markdown",
   "metadata": {},
   "source": [
    "Lets look at some plots, after filtering the dataframe"
   ]
  },
  {
   "cell_type": "code",
   "execution_count": 33,
   "metadata": {},
   "outputs": [
    {
     "data": {
      "text/plain": [
       "<AxesSubplot:>"
      ]
     },
     "execution_count": 33,
     "metadata": {},
     "output_type": "execute_result"
    },
    {
     "data": {
      "image/png": "[encoded data removed]",
      "text/plain": [
       "<Figure size 432x288 with 1 Axes>"
      ]
     },
     "metadata": {
      "needs_background": "light"
     },
     "output_type": "display_data"
    }
   ],
   "source": [
    "yummydf = ccbayou[ccbayou['Odor'] == 0]\n",
    "stinkydf = ccbayou[ccbayou['Odor'] == 1]\n",
    "yummydf['DO_ppm'].plot.box()"
   ]
  },
  {
   "cell_type": "code",
   "execution_count": 34,
   "metadata": {},
   "outputs": [
    {
     "data": {
      "text/plain": [
       "<AxesSubplot:>"
      ]
     },
     "execution_count": 34,
     "metadata": {},
     "output_type": "execute_result"
    },
    {
     "data": {
      "image/png": "[encoded data removed]",
      "text/plain": [
       "<Figure size 432x288 with 1 Axes>"
      ]
     },
     "metadata": {
      "needs_background": "light"
     },
     "output_type": "display_data"
    }
   ],
   "source": [
    "stinkydf['DO_ppm'].plot.box() "
   ]
  },
  {
   "cell_type": "markdown",
   "metadata": {},
   "source": [
    "Not much from a plot, in general if we look at descriptions we will observe lower DO and higher NH3 for the cases where odor is reported.  These data are good candidate for hypothesis testing, first check for normality (if yes then we will T-test)"
   ]
  },
  {
   "cell_type": "code",
   "execution_count": 35,
   "metadata": {},
   "outputs": [
    {
     "name": "stdout",
     "output_type": "stream",
     "text": [
      "Testing on DO_ppm\n",
      "statistic=14.361, p-value at rejection =0.001\n",
      "Probably Not-normal distributed\n",
      "statistic=4.447, p-value at rejection =0.108\n",
      "Probably normal distributed\n",
      "Testing on NH3_ppm\n",
      "statistic=8.570, p-value at rejection =0.014\n",
      "Probably Not-normal distributed\n",
      "statistic=59.546, p-value at rejection =0.000\n",
      "Probably Not-normal distributed\n"
     ]
    }
   ],
   "source": [
    "print('Testing on DO_ppm')\n",
    "stat, p = stats.normaltest(stinkydf['DO_ppm'])\n",
    "print('statistic=%.3f, p-value at rejection =%.3f' % (stat, p))\n",
    "if p > 0.05:\n",
    "    print('Probably normal distributed')\n",
    "else:\n",
    "    print('Probably Not-normal distributed')\n",
    "    stat, p = stats.normaltest(yummydf['DO_ppm'])\n",
    "print('statistic=%.3f, p-value at rejection =%.3f' % (stat, p))\n",
    "if p > 0.05:\n",
    "    print('Probably normal distributed')\n",
    "else:\n",
    "    print('Probably Not-normal distributed')\n",
    "    \n",
    "print('Testing on NH3_ppm')\n",
    "stat, p = stats.normaltest(stinkydf['NH3_ppm'])\n",
    "print('statistic=%.3f, p-value at rejection =%.3f' % (stat, p))\n",
    "if p > 0.05:\n",
    "    print('Probably normal distributed')\n",
    "else:\n",
    "    print('Probably Not-normal distributed')\n",
    "    stat, p = stats.normaltest(yummydf['NH3_ppm'])\n",
    "print('statistic=%.3f, p-value at rejection =%.3f' % (stat, p))\n",
    "if p > 0.05:\n",
    "    print('Probably normal distributed')\n",
    "else:\n",
    "    print('Probably Not-normal distributed')"
   ]
  },
  {
   "cell_type": "markdown",
   "metadata": {},
   "source": [
    "So pretty much non-normal, hence we will rely on Mann-Whitney"
   ]
  },
  {
   "cell_type": "code",
   "execution_count": 36,
   "metadata": {},
   "outputs": [
    {
     "name": "stdout",
     "output_type": "stream",
     "text": [
      "Testing on DO_ppm\n",
      "statistic=493.000, p-value at rejection =0.004\n",
      "Probably different distributions\n",
      "Testing on NH3_ppm\n",
      "statistic=534.500, p-value at rejection =0.013\n",
      "Probably different distributions\n"
     ]
    }
   ],
   "source": [
    "print('Testing on DO_ppm')\n",
    "stat, p = mannwhitneyu(yummydf['DO_ppm'],stinkydf['DO_ppm'])\n",
    "print('statistic=%.3f, p-value at rejection =%.3f' % (stat, p))\n",
    "if p > 0.05:\n",
    "    print('Probably the same distribution')\n",
    "else:\n",
    "    print('Probably different distributions')\n",
    "print('Testing on NH3_ppm')\n",
    "stat, p = mannwhitneyu(yummydf['NH3_ppm'],stinkydf['NH3_ppm'])\n",
    "print('statistic=%.3f, p-value at rejection =%.3f' % (stat, p))\n",
    "if p > 0.05:\n",
    "    print('Probably the same distribution')\n",
    "else:\n",
    "    print('Probably different distributions')"
   ]
  },
  {
   "cell_type": "markdown",
   "metadata": {},
   "source": [
    "These tests suggest that DO and NH3 play a role in the observation of Odor"
   ]
  },
  {
   "cell_type": "code",
   "execution_count": 37,
   "metadata": {},
   "outputs": [
    {
     "name": "stdout",
     "output_type": "stream",
     "text": [
      "Average DO no-odor =3.709\n",
      "Average DO odor =2.380\n",
      "Average NH3 no-odor =0.624\n",
      "Average NH3 odor =0.828\n"
     ]
    }
   ],
   "source": [
    "print('Average DO no-odor =%.3f' % yummydf['DO_ppm'].mean())\n",
    "print('Average DO odor =%.3f' % stinkydf['DO_ppm'].mean())\n",
    "print('Average NH3 no-odor =%.3f' % yummydf['NH3_ppm'].mean())\n",
    "print('Average NH3 odor =%.3f' % stinkydf['NH3_ppm'].mean())"
   ]
  },
  {
   "cell_type": "markdown",
   "metadata": {},
   "source": [
    "## Exercise\n",
    "\n",
    "Are these observations homoscedastic?"
   ]
  },
  {
   "cell_type": "markdown",
   "metadata": {},
   "source": [
    "## References\n",
    "Cleveland, T.G., Davis, J.L., Zhu, H., Bougai, D., Linares, M. 2000. \n",
    "``Investigation and Demonstration of Intervention Strategies to Improve Water Quality on Country Club Bayou.'' Final Report to Houston Wastewater Program, Texas Natural Resources Conservation Commission, City of Houston, and the Environmental Institute of Houston \n",
    "\n",
    "http://atomickitty.ddns.net/documents/resumes/MyWebPapers/project_reports/ccbayou_report/"
   ]
  },
  {
   "cell_type": "code",
   "execution_count": 38,
   "metadata": {},
   "outputs": [],
   "source": [
    "sortedDOyum = yummydf.sort_values(by=['DO_ppm'])\n",
    "sortedDOstk = stinkydf.sort_values(by=['DO_ppm'])"
   ]
  },
  {
   "cell_type": "code",
   "execution_count": 39,
   "metadata": {},
   "outputs": [
    {
     "data": {
      "text/html": [
       "<div>\n",
       "<style scoped>\n",
       "    .dataframe tbody tr th:only-of-type {\n",
       "        vertical-align: middle;\n",
       "    }\n",
       "\n",
       "    .dataframe tbody tr th {\n",
       "        vertical-align: top;\n",
       "    }\n",
       "\n",
       "    .dataframe thead th {\n",
       "        text-align: right;\n",
       "    }\n",
       "</style>\n",
       "<table border=\"1\" class=\"dataframe\">\n",
       "  <thead>\n",
       "    <tr style=\"text-align: right;\">\n",
       "      <th></th>\n",
       "      <th>MM</th>\n",
       "      <th>DD</th>\n",
       "      <th>YY</th>\n",
       "      <th>pH</th>\n",
       "      <th>T_degC</th>\n",
       "      <th>DO_ppm</th>\n",
       "      <th>NH3_ppm</th>\n",
       "      <th>Odor</th>\n",
       "    </tr>\n",
       "  </thead>\n",
       "  <tbody>\n",
       "    <tr>\n",
       "      <th>7</th>\n",
       "      <td>7</td>\n",
       "      <td>8</td>\n",
       "      <td>1998</td>\n",
       "      <td>6.500</td>\n",
       "      <td>26.2</td>\n",
       "      <td>0.280</td>\n",
       "      <td>0.21</td>\n",
       "      <td>0</td>\n",
       "    </tr>\n",
       "    <tr>\n",
       "      <th>3</th>\n",
       "      <td>6</td>\n",
       "      <td>8</td>\n",
       "      <td>1998</td>\n",
       "      <td>7.100</td>\n",
       "      <td>24.8</td>\n",
       "      <td>1.000</td>\n",
       "      <td>3.96</td>\n",
       "      <td>0</td>\n",
       "    </tr>\n",
       "    <tr>\n",
       "      <th>21</th>\n",
       "      <td>11</td>\n",
       "      <td>4</td>\n",
       "      <td>1998</td>\n",
       "      <td>7.370</td>\n",
       "      <td>21.0</td>\n",
       "      <td>1.118</td>\n",
       "      <td>0.32</td>\n",
       "      <td>0</td>\n",
       "    </tr>\n",
       "    <tr>\n",
       "      <th>20</th>\n",
       "      <td>10</td>\n",
       "      <td>28</td>\n",
       "      <td>1998</td>\n",
       "      <td>7.370</td>\n",
       "      <td>22.7</td>\n",
       "      <td>1.140</td>\n",
       "      <td>1.06</td>\n",
       "      <td>0</td>\n",
       "    </tr>\n",
       "    <tr>\n",
       "      <th>33</th>\n",
       "      <td>6</td>\n",
       "      <td>22</td>\n",
       "      <td>1999</td>\n",
       "      <td>6.843</td>\n",
       "      <td>26.2</td>\n",
       "      <td>1.160</td>\n",
       "      <td>0.39</td>\n",
       "      <td>0</td>\n",
       "    </tr>\n",
       "  </tbody>\n",
       "</table>\n",
       "</div>"
      ],
      "text/plain": [
       "    MM  DD    YY     pH  T_degC  DO_ppm  NH3_ppm  Odor\n",
       "7    7   8  1998  6.500    26.2   0.280     0.21     0\n",
       "3    6   8  1998  7.100    24.8   1.000     3.96     0\n",
       "21  11   4  1998  7.370    21.0   1.118     0.32     0\n",
       "20  10  28  1998  7.370    22.7   1.140     1.06     0\n",
       "33   6  22  1999  6.843    26.2   1.160     0.39     0"
      ]
     },
     "execution_count": 39,
     "metadata": {},
     "output_type": "execute_result"
    }
   ],
   "source": [
    "sortedDOyum.head()"
   ]
  },
  {
   "cell_type": "code",
   "execution_count": 40,
   "metadata": {},
   "outputs": [],
   "source": [
    "sDOy = sortedDOyum['DO_ppm']"
   ]
  },
  {
   "cell_type": "code",
   "execution_count": 41,
   "metadata": {},
   "outputs": [
    {
     "data": {
      "text/plain": [
       "count    36.000000\n",
       "mean      3.708833\n",
       "std       2.442435\n",
       "min       0.280000\n",
       "25%       1.760000\n",
       "50%       3.100000\n",
       "75%       4.620000\n",
       "max       9.240000\n",
       "Name: DO_ppm, dtype: float64"
      ]
     },
     "execution_count": 41,
     "metadata": {},
     "output_type": "execute_result"
    }
   ],
   "source": [
    "sDOy.describe()"
   ]
  },
  {
   "cell_type": "code",
   "execution_count": 45,
   "metadata": {},
   "outputs": [],
   "source": [
    "relfreq = [(x+1)/36 for x in range(35) ]"
   ]
  },
  {
   "cell_type": "code",
   "execution_count": 48,
   "metadata": {},
   "outputs": [
    {
     "ename": "KeyError",
     "evalue": "'DO_ppm'",
     "output_type": "error",
     "traceback": [
      "\u001b[0;31m---------------------------------------------------------------------------\u001b[0m",
      "\u001b[0;31mKeyError\u001b[0m                                  Traceback (most recent call last)",
      "\u001b[0;32m<ipython-input-48-e7d3fa15646b>\u001b[0m in \u001b[0;36m<module>\u001b[0;34m\u001b[0m\n\u001b[0;32m----> 1\u001b[0;31m \u001b[0msDOy\u001b[0m\u001b[0;34m[\u001b[0m\u001b[0;34m'DO_ppm'\u001b[0m\u001b[0;34m]\u001b[0m\u001b[0;34m.\u001b[0m\u001b[0mplot\u001b[0m\u001b[0;34m.\u001b[0m\u001b[0mline\u001b[0m\u001b[0;34m(\u001b[0m\u001b[0mx\u001b[0m\u001b[0;34m=\u001b[0m\u001b[0mrelfreq\u001b[0m\u001b[0;34m,\u001b[0m\u001b[0my\u001b[0m\u001b[0;34m=\u001b[0m\u001b[0;34m'DO_ppm'\u001b[0m\u001b[0;34m)\u001b[0m\u001b[0;34m\u001b[0m\u001b[0;34m\u001b[0m\u001b[0m\n\u001b[0m",
      "\u001b[0;32m/opt/conda/envs/python/lib/python3.8/site-packages/pandas/core/series.py\u001b[0m in \u001b[0;36m__getitem__\u001b[0;34m(self, key)\u001b[0m\n\u001b[1;32m    869\u001b[0m         \u001b[0mkey\u001b[0m \u001b[0;34m=\u001b[0m \u001b[0mcom\u001b[0m\u001b[0;34m.\u001b[0m\u001b[0mapply_if_callable\u001b[0m\u001b[0;34m(\u001b[0m\u001b[0mkey\u001b[0m\u001b[0;34m,\u001b[0m \u001b[0mself\u001b[0m\u001b[0;34m)\u001b[0m\u001b[0;34m\u001b[0m\u001b[0;34m\u001b[0m\u001b[0m\n\u001b[1;32m    870\u001b[0m         \u001b[0;32mtry\u001b[0m\u001b[0;34m:\u001b[0m\u001b[0;34m\u001b[0m\u001b[0;34m\u001b[0m\u001b[0m\n\u001b[0;32m--> 871\u001b[0;31m             \u001b[0mresult\u001b[0m \u001b[0;34m=\u001b[0m \u001b[0mself\u001b[0m\u001b[0;34m.\u001b[0m\u001b[0mindex\u001b[0m\u001b[0;34m.\u001b[0m\u001b[0mget_value\u001b[0m\u001b[0;34m(\u001b[0m\u001b[0mself\u001b[0m\u001b[0;34m,\u001b[0m \u001b[0mkey\u001b[0m\u001b[0;34m)\u001b[0m\u001b[0;34m\u001b[0m\u001b[0;34m\u001b[0m\u001b[0m\n\u001b[0m\u001b[1;32m    872\u001b[0m \u001b[0;34m\u001b[0m\u001b[0m\n\u001b[1;32m    873\u001b[0m             \u001b[0;32mif\u001b[0m \u001b[0;32mnot\u001b[0m \u001b[0mis_scalar\u001b[0m\u001b[0;34m(\u001b[0m\u001b[0mresult\u001b[0m\u001b[0;34m)\u001b[0m\u001b[0;34m:\u001b[0m\u001b[0;34m\u001b[0m\u001b[0;34m\u001b[0m\u001b[0m\n",
      "\u001b[0;32m/opt/conda/envs/python/lib/python3.8/site-packages/pandas/core/indexes/base.py\u001b[0m in \u001b[0;36mget_value\u001b[0;34m(self, series, key)\u001b[0m\n\u001b[1;32m   4403\u001b[0m         \u001b[0mk\u001b[0m \u001b[0;34m=\u001b[0m \u001b[0mself\u001b[0m\u001b[0;34m.\u001b[0m\u001b[0m_convert_scalar_indexer\u001b[0m\u001b[0;34m(\u001b[0m\u001b[0mk\u001b[0m\u001b[0;34m,\u001b[0m \u001b[0mkind\u001b[0m\u001b[0;34m=\u001b[0m\u001b[0;34m\"getitem\"\u001b[0m\u001b[0;34m)\u001b[0m\u001b[0;34m\u001b[0m\u001b[0;34m\u001b[0m\u001b[0m\n\u001b[1;32m   4404\u001b[0m         \u001b[0;32mtry\u001b[0m\u001b[0;34m:\u001b[0m\u001b[0;34m\u001b[0m\u001b[0;34m\u001b[0m\u001b[0m\n\u001b[0;32m-> 4405\u001b[0;31m             \u001b[0;32mreturn\u001b[0m \u001b[0mself\u001b[0m\u001b[0;34m.\u001b[0m\u001b[0m_engine\u001b[0m\u001b[0;34m.\u001b[0m\u001b[0mget_value\u001b[0m\u001b[0;34m(\u001b[0m\u001b[0ms\u001b[0m\u001b[0;34m,\u001b[0m \u001b[0mk\u001b[0m\u001b[0;34m,\u001b[0m \u001b[0mtz\u001b[0m\u001b[0;34m=\u001b[0m\u001b[0mgetattr\u001b[0m\u001b[0;34m(\u001b[0m\u001b[0mseries\u001b[0m\u001b[0;34m.\u001b[0m\u001b[0mdtype\u001b[0m\u001b[0;34m,\u001b[0m \u001b[0;34m\"tz\"\u001b[0m\u001b[0;34m,\u001b[0m \u001b[0;32mNone\u001b[0m\u001b[0;34m)\u001b[0m\u001b[0;34m)\u001b[0m\u001b[0;34m\u001b[0m\u001b[0;34m\u001b[0m\u001b[0m\n\u001b[0m\u001b[1;32m   4406\u001b[0m         \u001b[0;32mexcept\u001b[0m \u001b[0mKeyError\u001b[0m \u001b[0;32mas\u001b[0m \u001b[0me1\u001b[0m\u001b[0;34m:\u001b[0m\u001b[0;34m\u001b[0m\u001b[0;34m\u001b[0m\u001b[0m\n\u001b[1;32m   4407\u001b[0m             \u001b[0;32mif\u001b[0m \u001b[0mlen\u001b[0m\u001b[0;34m(\u001b[0m\u001b[0mself\u001b[0m\u001b[0;34m)\u001b[0m \u001b[0;34m>\u001b[0m \u001b[0;36m0\u001b[0m \u001b[0;32mand\u001b[0m \u001b[0;34m(\u001b[0m\u001b[0mself\u001b[0m\u001b[0;34m.\u001b[0m\u001b[0mholds_integer\u001b[0m\u001b[0;34m(\u001b[0m\u001b[0;34m)\u001b[0m \u001b[0;32mor\u001b[0m \u001b[0mself\u001b[0m\u001b[0;34m.\u001b[0m\u001b[0mis_boolean\u001b[0m\u001b[0;34m(\u001b[0m\u001b[0;34m)\u001b[0m\u001b[0;34m)\u001b[0m\u001b[0;34m:\u001b[0m\u001b[0;34m\u001b[0m\u001b[0;34m\u001b[0m\u001b[0m\n",
      "\u001b[0;32mpandas/_libs/index.pyx\u001b[0m in \u001b[0;36mpandas._libs.index.IndexEngine.get_value\u001b[0;34m()\u001b[0m\n",
      "\u001b[0;32mpandas/_libs/index.pyx\u001b[0m in \u001b[0;36mpandas._libs.index.IndexEngine.get_value\u001b[0;34m()\u001b[0m\n",
      "\u001b[0;32mpandas/_libs/index.pyx\u001b[0m in \u001b[0;36mpandas._libs.index.IndexEngine.get_loc\u001b[0;34m()\u001b[0m\n",
      "\u001b[0;32mpandas/_libs/index_class_helper.pxi\u001b[0m in \u001b[0;36mpandas._libs.index.Int64Engine._check_type\u001b[0;34m()\u001b[0m\n",
      "\u001b[0;31mKeyError\u001b[0m: 'DO_ppm'"
     ]
    }
   ],
   "source": [
    "sDOy['DO_ppm'].plot.line(x=relfreq,y='DO_ppm')"
   ]
  },
  {
   "cell_type": "code",
   "execution_count": null,
   "metadata": {},
   "outputs": [],
   "source": []
  },
  {
   "cell_type": "code",
   "execution_count": null,
   "metadata": {},
   "outputs": [],
   "source": []
  }
 ],
 "metadata": {
  "kernelspec": {
   "display_name": "Python 3",
   "language": "python",
   "name": "python3"
  },
  "language_info": {
   "codemirror_mode": {
    "name": "ipython",
    "version": 3
   },
   "file_extension": ".py",
   "mimetype": "text/x-python",
   "name": "python",
   "nbconvert_exporter": "python",
   "pygments_lexer": "ipython3",
   "version": "3.8.10"
  }
 },
 "nbformat": 4,
 "nbformat_minor": 4
}
