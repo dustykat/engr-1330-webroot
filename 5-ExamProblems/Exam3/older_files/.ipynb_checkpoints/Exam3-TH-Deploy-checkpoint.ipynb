{
 "cells": [
  {
   "cell_type": "code",
   "execution_count": 20,
   "metadata": {},
   "outputs": [
    {
     "data": {
      "text/html": [
       "<!--Script block to left align Markdown Tables-->\n",
       "<style>\n",
       "  table {margin-left: 0 !important;}\n",
       "</style>\n"
      ],
      "text/plain": [
       "<IPython.core.display.HTML object>"
      ]
     },
     "metadata": {},
     "output_type": "display_data"
    }
   ],
   "source": [
    "%%html\n",
    "<!--Script block to left align Markdown Tables-->\n",
    "<style>\n",
    "  table {margin-left: 0 !important;}\n",
    "</style>"
   ]
  },
  {
   "cell_type": "markdown",
   "metadata": {},
   "source": [
    "## Full name: \n",
    "## R#: \n",
    "## HEX: \n",
    "## Exam 3 Take-Home_{your name}\n",
    "## Date: \n",
    "---\n",
    "## Problem 0: Run the cell below (10 points)"
   ]
  },
  {
   "cell_type": "code",
   "execution_count": 21,
   "metadata": {},
   "outputs": [
    {
     "name": "stdout",
     "output_type": "stream",
     "text": [
      "atomickitty.aws\n",
      "compthink\n",
      "/opt/conda/envs/python/bin/python\n",
      "3.8.3 (default, Jul  2 2020, 16:21:59) \n",
      "[GCC 7.3.0]\n",
      "sys.version_info(major=3, minor=8, micro=3, releaselevel='final', serial=0)\n"
     ]
    }
   ],
   "source": [
    "# Preamble script block to identify host, user, and kernel\n",
    "import sys\n",
    "! hostname\n",
    "! whoami\n",
    "print(sys.executable)\n",
    "print(sys.version)\n",
    "print(sys.version_info)"
   ]
  },
  {
   "cell_type": "markdown",
   "metadata": {},
   "source": [
    "## Problem 1: Watershed Response Metrics (20 points)\n",
    "\n",
    "### Background \n",
    "Rainfall-Runoff response prediction is a vital step in engineering design for mitigating flood-induced infrastructure failure.   One easy to measure characteristic of a watershed is its drainage area.  Harder to quantify are its characteristic response time, and its conversion (of precipitation into runoff) factor.\n",
    "\n",
    "### Study Database\n",
    "\n",
    "The \"watersheds.csv\" dataset contains (measured)drainage area for 92 study watersheds in Texas (cite source), and the accompanying data:\n",
    "\n",
    "|Columns|Info.|\n",
    "|:---|:---|\n",
    "|STATION_ID |USGS HUC-8 Station ID code|\n",
    "|TDA |Total drainage area (sq. miles) |\n",
    "|RCOEF|Runoff Ratio (Runoff Depth/Precipitation Depth)|\n",
    "|TPEAK|Characteristic Time (minutes)|\n",
    "|FPEAK|Peaking factor (same as NRCS factor)|\n",
    "|QP_OBS|Observed peak discharge (measured)|\n",
    "|QP_MOD|Modeled peak discharge (modeled)| \n",
    "\n",
    "### Assess the data:\n",
    "\n",
    "Using the following steps, assess the utility of the response metric.\n"
   ]
  },
  {
   "cell_type": "markdown",
   "metadata": {},
   "source": [
    "<hr/><hr/> \n",
    "\n",
    "**Step 1:** \n",
    "\n",
    "<hr/>\n",
    "\n",
    "Read the \"watersheds.csv\" file as a dataframe. Explore the dataframe and in a markdown cell breifly describe the summarize the dataframe. <br>"
   ]
  },
  {
   "cell_type": "code",
   "execution_count": 22,
   "metadata": {},
   "outputs": [],
   "source": [
    "# import packages\n",
    "# read data file\n",
    "# summarize contents + markdown cell as needed"
   ]
  },
  {
   "cell_type": "markdown",
   "metadata": {},
   "source": [
    "<hr/><hr/> \n",
    "\n",
    "**Step 2:** <hr/>\n",
    "\n",
    "Using your Laboratory 21 scripts as a guide, assess the utility of **TDA** as a predictor of **TPEAK** (e.g. perform a regression and produce plots, with **TDA** on the x-axis) <br>"
   ]
  },
  {
   "cell_type": "code",
   "execution_count": 23,
   "metadata": {},
   "outputs": [],
   "source": [
    "# extract lists to use Lab21 example scripts\n",
    "# log transform as needed\n",
    "# regression fits, include plots of data regression line, uncertainty lines\n",
    "\n",
    "# + markdown cell as needed"
   ]
  },
  {
   "cell_type": "markdown",
   "metadata": {},
   "source": [
    "<hr/><hr/> \n",
    "\n",
    "**Step 3:**\n",
    "\n",
    "<hr/>\n",
    "\n",
    "Using your Laboratory 21 scripts as a guide, assess the utility of **log(TDA)** as a predictor of **TPEAK** (e.g. perform a regression and produce plots, with **TDA** on the x-axis)\n",
    "\n",
    "Which mapping of **TDA**  (arithmetic or logarithmic) produces a more useful graph? "
   ]
  },
  {
   "cell_type": "code",
   "execution_count": 24,
   "metadata": {},
   "outputs": [],
   "source": [
    "# extract lists to use Lab21 example scripts\n",
    "# log transform as needed\n",
    "# regression fits, include plots of data regression line, uncertainty lines\n",
    "\n",
    "# + markdown cell as needed"
   ]
  },
  {
   "cell_type": "markdown",
   "metadata": {},
   "source": [
    "<hr/><hr/> \n",
    "\n",
    "**Step 4:**\n",
    "\n",
    "<hr/>\n",
    "\n",
    "Using your Laboratory 21 scripts as a guide, assess the performance of the underlying (not disclosed) model, using **QP_MOD** as a predictor of **QP_OBS** (e.g. perform a regression and produce plots, with **QP_MOD** on the x-axis).\n",
    "\n",
    "Include an equal value line (x=y) on the plot and make an assertion of model bias (does the model overpredict or underpredict the observations?)\n",
    "<br>"
   ]
  },
  {
   "cell_type": "code",
   "execution_count": 25,
   "metadata": {},
   "outputs": [],
   "source": [
    "# extract lists to use Lab21 example scripts\n",
    "# log transform as needed\n",
    "# regression fits, include plots of data regression line, uncertainty lines\n",
    "\n",
    "# + markdown cell as needed"
   ]
  },
  {
   "cell_type": "markdown",
   "metadata": {},
   "source": []
  },
  {
   "cell_type": "markdown",
   "metadata": {},
   "source": [
    "<hr/>\n",
    "<hr/>\n",
    "\n",
    "# Problem 2: Streamflow Forecasting in Colorado River, TX. (50 points)\n",
    "\n",
    "![](https://media.istockphoto.com/photos/luxury-homes-austin-texas-colorado-river-mount-bonnell-district-picture-id501581392?k=6&m=501581392&s=612x612&w=0&h=b98iFZUpWH_8dU-5bGfLbrDcGl_IVTd79pfu_uCjg-8=)   \n",
    "\n",
    "## Background \n",
    "The Colorado River is the 18th longest river in the United States and the longest river wholly located in Texas. The Colorado River originates from the Llano Estacado region in west Texas with an elevation of 1000 meters, flows southeast through eleven major reservoirs (e.g. Lake J.B. Thomas, E.V. Spence Reservoir and Lake O.H. Ivie) and eventually empties into the Gulf of Mexico near Matagorda. The river is considered as the life blood of Texas due to its essential role for the state’s economy, environment, agriculture, power production and developing municipalities and industries. The Colorado River begin its journey south of Lubbock as an intermittent stream. This means that there are periods where the riverbed goes dry and the flowrate is lower than measurable amounts. \n",
    "\n",
    "![](https://www.austinchronicle.com/binary/a4b8e7cf/pols_feature-5164.jpeg)\n",
    "\n",
    "## Study Database\n",
    "\n",
    "The \"Colorado River Data.csv\" dataset contains monthly streamflow recordings from 03/1988 to 03/2019 at USGS station #08117995 near Gail, Borden County, Texas as well as several hydro-meteorological variables from PRISM Climate Data:\n",
    "\n",
    "|Columns|Info.|\n",
    "|---:|---:|\n",
    "|Date |Date of recording in YYYY-MM format|\n",
    "|PPT |Accumulated Monthly Precipitation (mm) |\n",
    "|Tmin |Minimum Recorded Temperature (degrees C)|\n",
    "|Tav |Average Recorded Temperature (degrees C)|\n",
    "|Tmax |Maximum Recorded Temperature (degrees C)|\n",
    "|delt |Difference between Maximum and Minimum Recorded Temperatures (degrees C)|\n",
    "|SMI |Soil Moisture Index (SMI) - The product of precipitation and average temperature| \n",
    "|ET |Evapotranspiration (mm)|\n",
    "|Flow_cfs |Average recorded flowrate (cfs)|\n",
    "|Flow? |Flow status: It is 1 when there is a flow and it is 0 when there is no flow.|\n",
    "\n",
    "\n",
    "### Follow the steps below and answer the associated questions:\n",
    "\n",
    "<hr/> Step 0 <hr/>\n",
    "\n",
    "Load required libraries "
   ]
  },
  {
   "cell_type": "code",
   "execution_count": 26,
   "metadata": {},
   "outputs": [],
   "source": [
    "#Step0: Load the necessary libraries"
   ]
  },
  {
   "cell_type": "markdown",
   "metadata": {},
   "source": [
    "<hr/> Step 1: <hr/>\n",
    "Read the \"Colorado River Data.csv\" file as a dataframe. Explore the dataframe and in a markdown cell breifly describe the different variables in your own words. <br>"
   ]
  },
  {
   "cell_type": "code",
   "execution_count": 27,
   "metadata": {},
   "outputs": [],
   "source": [
    "#Step1:Read the \"Colorado River Data.csv\" file as a dataframe\n"
   ]
  },
  {
   "cell_type": "code",
   "execution_count": 28,
   "metadata": {},
   "outputs": [],
   "source": [
    "# Explore the dataframe: Describe and\n",
    "# summarize, add Markdown cell as needed"
   ]
  },
  {
   "cell_type": "markdown",
   "metadata": {},
   "source": [
    "<hr/> Step 2: <hr/>\n",
    "Get the following plots and analyze each one of them:\n",
    "    \n",
    "- Plot a histogram with KDE for precipitation. | What does it show? What are the most common value you expect to see based on this graph?\n",
    "- Plot flow vs. date. | What are the most noteable things you see in this graph? What are some extreme values and why do you think they have happened?\n",
    "- Plot a joint KDE plot with ET on x-axis and flow status on the y-axis. \n",
    "\n",
    "What does this graph show you? Do you think evaporation can be a good predictor for flow status? <br>"
   ]
  },
  {
   "cell_type": "code",
   "execution_count": 29,
   "metadata": {},
   "outputs": [],
   "source": [
    "#Step2-part A:\n",
    "# Make KDE plot, answer questions add Markdown cell as needed"
   ]
  },
  {
   "cell_type": "code",
   "execution_count": 30,
   "metadata": {},
   "outputs": [],
   "source": [
    "#Step2-part B:\n",
    "# Plot here"
   ]
  },
  {
   "cell_type": "code",
   "execution_count": 31,
   "metadata": {},
   "outputs": [],
   "source": [
    "#Step2-part C:\n",
    "# Joint KDE plot"
   ]
  },
  {
   "cell_type": "markdown",
   "metadata": {},
   "source": [
    "<hr/> Step 3: <hr/>\n",
    "Calculate and compare the correlation coefficient of the variables. Analyze the results and decide.\n",
    "- which parameters have the strongest relationship and weakest relationship with the flowrates? Do you identify correlation and causation or just correlation?\n",
    "- what predictor has the strongest relationship with ET?\n",
    "- which parameter has a negative correlation with precipitation?<br>"
   ]
  },
  {
   "cell_type": "code",
   "execution_count": 32,
   "metadata": {},
   "outputs": [],
   "source": [
    "#Step3: Calculate and compare the correlation coefficient\n",
    "#What can we infer?"
   ]
  },
  {
   "cell_type": "markdown",
   "metadata": {},
   "source": [
    "<hr/> Step 4: <hr/>\n",
    "Think about a few enginreeing applications in which we may need to forecast the flowrate in a river? <br>"
   ]
  },
  {
   "cell_type": "code",
   "execution_count": 33,
   "metadata": {},
   "outputs": [],
   "source": [
    "#Step4: Add markdown cell with your answer (or change this cell to markdown)"
   ]
  },
  {
   "cell_type": "markdown",
   "metadata": {},
   "source": [
    "<hr/> Step 5: <hr/>\n",
    "Use linear regression modeling in primitive python, get the linear model's coefficients via Ordinary Least Squares methods, make a plot and VISUALLY assess the quality of a linear fit with precipitation as the predictor, and flowrate as outcome. Then, use RMSE, Pearson's r, and R2 to describe the performance of your model. Explain the results of this analysis in a markdown cell. <br>"
   ]
  },
  {
   "cell_type": "code",
   "execution_count": 34,
   "metadata": {},
   "outputs": [],
   "source": [
    "#Step5:\n",
    "# Calculate the mean of X and y\n",
    "# Calculate the terms needed for the numator and denominator of beta\n",
    "# Calculate beta and alpha\n",
    "# Plot regression against actual data\n",
    "#GOF metrics:"
   ]
  },
  {
   "cell_type": "markdown",
   "metadata": {},
   "source": [
    "<hr/> Step 6: <hr/> \n",
    "\n",
    "Use multiple linear regression modeling with scikit-learn and use all \"ET\",\"SMI\", and \"delt\" to predict the flowrates. Then, use RMSE, Pearson's r, and R2 to describe the performance of your model. Explain the results of this analysis in a markdown cell."
   ]
  },
  {
   "cell_type": "code",
   "execution_count": 35,
   "metadata": {},
   "outputs": [],
   "source": [
    "#Step6:\n",
    "# Split data into predictors X and output Y\n",
    "# Initialise and fit model\n",
    "# Predict values\n",
    "#GOF metrics:"
   ]
  },
  {
   "cell_type": "markdown",
   "metadata": {},
   "source": [
    "<hr/> Step 7: <hr/> \n",
    "\n",
    "Think about a few enginreeing applications in which we may need to forecast the flow status (flow/no flow) in a river?"
   ]
  },
  {
   "cell_type": "code",
   "execution_count": 36,
   "metadata": {},
   "outputs": [],
   "source": [
    "#Step7: Add markdown cell with your answer (or change this cell to markdown)"
   ]
  },
  {
   "cell_type": "markdown",
   "metadata": {},
   "source": [
    "<hr/> Step 8: <hr/>\n",
    "\n",
    "Use logistic regression and \"PPT\",\"SMI\", and \"delt\" as predictors to predict the status of flow. Use a 75/25 split for training and testing. Then, get the confusion matrix and use classification_report to describe the performance of your model. Also, get a heatmap and visually assess the predictions of your model. Calculate accuracy, recall, precision, and F1-score for your model. Explain the results of this analysis in a markdown cell."
   ]
  },
  {
   "cell_type": "code",
   "execution_count": 37,
   "metadata": {},
   "outputs": [],
   "source": [
    "#Step8: \n",
    "#split dataset in features and target variable\n",
    "# import the class\n",
    "# instantiate the model (using the default parameters)\n",
    "# logreg = LogisticRegression()\n",
    "# fit the model with data\n",
    "# import the metrics class\n",
    "# Confusion matrix\n",
    "# Visualize\n",
    "# create heatmap\n",
    "# Accuracy/precision report"
   ]
  },
  {
   "cell_type": "markdown",
   "metadata": {},
   "source": [
    "<hr/> Step 9: <hr/>\n",
    "\n",
    "Was this a balanced classification problem? why?"
   ]
  },
  {
   "cell_type": "code",
   "execution_count": 38,
   "metadata": {},
   "outputs": [],
   "source": [
    "#Step9: Add markdown cell with your answer (or change this cell to markdown)"
   ]
  }
 ],
 "metadata": {
  "kernelspec": {
   "display_name": "Python 38",
   "language": "python",
   "name": "python38"
  },
  "language_info": {
   "codemirror_mode": {
    "name": "ipython",
    "version": 3
   },
   "file_extension": ".py",
   "mimetype": "text/x-python",
   "name": "python",
   "nbconvert_exporter": "python",
   "pygments_lexer": "ipython3",
   "version": "3.8.3"
  }
 },
 "nbformat": 4,
 "nbformat_minor": 4
}
