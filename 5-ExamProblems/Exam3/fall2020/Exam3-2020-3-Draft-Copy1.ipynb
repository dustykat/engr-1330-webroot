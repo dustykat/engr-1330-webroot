{
 "cells": [
  {
   "cell_type": "markdown",
   "metadata": {},
   "source": [
    "1. System Profile"
   ]
  },
  {
   "cell_type": "markdown",
   "metadata": {},
   "source": [
    "2. CCBayou Data"
   ]
  },
  {
   "cell_type": "markdown",
   "metadata": {},
   "source": []
  },
  {
   "cell_type": "markdown",
   "metadata": {},
   "source": [
    "## Problem 3: Treaty Terms for the Colorado River\n",
    "\n",
    "### Background\n",
    "\n",
    "The Colorado river originates in the Rocky mountains and has contributing tributaries\n",
    "and/or flows through the states of Wyoming, Colorado, Utah, Nevada, Arizona,\n",
    "and California. \n",
    "Prior to dams the river used to actually run to the ocean and at one\n",
    "time in history actually had commerce by river boats. \n",
    "In the late 1800’s and early 1900’s the river and its tributaries were dammed and diverted. \n",
    "Around the 1920’sa legal document called the Colorado River Compact was developed. \n",
    "A Compact is similar to a treaty, except the parties to the treaty are states (essentially the individual states have entered into the treaty with the United States and Mexico). \n",
    "The Colorado River Compact divides the Colorado River into Upper and Lower Basins with the division being at Lee Ferry on the Colorado River one mile below the Paria River in Arizona.\n",
    "The Lower Basin states are Arizona, California, and Nevada, with small portions of New Mexico and Utah that are tributary to the Colorado River below Lee Ferry. The Upper Basin states are Colorado, New Mexico, Utah, and Wyoming, with a small portion of Arizona tributary to the Colorado River above Lee Ferry.\n",
    "\n",
    "Article III of the Compact apportions the waters of the Colorado River to the Upper\n",
    "and Lower Basins as follows:\n",
    "The Compact apportions the right to exclusive beneficial consumptive use of 7.5\n",
    "million acre-feet of water per year from the ”Colorado River System” in perpetuity\n",
    "to the Upper Basin and the Lower Basin.\n",
    "The Compact allows an additional 1.0 million acre-feet per year of increased beneficial\n",
    "consumptive use to the Lower Basin.\n",
    "It provides water for Mexico pursuant to treaty. Water must first come from any\n",
    "surplus over the waters allocated to the states in Article III(a) and (b). If that\n",
    "surplus is insufficient, then the burden of that deficiency shall be shared equally by\n",
    "the Upper and Lower Basins.\n",
    "The Compact provides that the Upper Basin states will not cause the flow of the\n",
    "river at Lee Ferry, Arizona to be depleted below an aggregate of 75 million acrefeet\n",
    "for any period of ten consecutive years beginning with the ratification of the\n",
    "Compact.\n",
    "It provides that the Upper Basin states will not withhold water and the states of the\n",
    "Lower Basin shall not require delivery of water which cannot reasonably be applied\n",
    "to domestic and agricultural uses."
   ]
  },
  {
   "cell_type": "markdown",
   "metadata": {},
   "source": [
    "## Problem Statement\n",
    "\n",
    "The file named [colorado.txt](http://54.243.252.9/engr-1330-webroot/4-Databases/colorado.txt) contains annual natural flows volumes in the upper\n",
    "Colorado river basin from 1906 to present. These flows are historical reconstruction\n",
    "at approximately the same location as the current USGS gage 09380000. The\n",
    "location is approximately above (upstream of) Lee Ferry, hence the data represent\n",
    "the flows out of the upper basin.\n",
    "The data are in two columns, the first is the water year, the second column is\n",
    "cumulative discharge for the year in units of acre-feet.\n",
    "\n",
    "    YEAR ANNUAL.VOLUME\n",
    "    1906 18550021\n",
    "    1907 21201694\n",
    "    1908 12218817\n",
    "    1909 22356301\n",
    "    1910 14650616\n",
    "    ...\n",
    "Prepare an analysis of the data to support or refute the provisions of the Compact.\n",
    "You can assume that the data from 1906 to 1927 (the original Compact was ratified\n",
    "in 1922, many additional Compacts have been signed since that time, all trying to reapportion\n",
    "water in the river basin witout violating the original agreement) were available to the\n",
    "authors of the Colorado River Compact, analyze this period of data and decide if the\n",
    "allocations to the lower basin are realistic (8.5 million acre-feet-per year) assuming\n",
    "the upper basin allocation is removed. Consumptive use means that the water will\n",
    "not return to the basin. The data are ’natural’ flows and the upper basin allocations\n",
    "are not removed in the data. "
   ]
  },
  {
   "cell_type": "markdown",
   "metadata": {},
   "source": [
    "<hr/><hr/> \n",
    "\n",
    "**Step 1:** \n",
    "\n",
    "<hr/>\n",
    "\n",
    "Read the \"colorado.txt\" file as a dataframe. Explore the dataframe and in a markdown cell breifly describe the summarize the dataframe. <br>"
   ]
  },
  {
   "cell_type": "code",
   "execution_count": null,
   "metadata": {},
   "outputs": [],
   "source": [
    "# download the data file\n",
    "# read into a dataframe\n",
    "# plot\n",
    "# describe the dataframe"
   ]
  },
  {
   "cell_type": "markdown",
   "metadata": {},
   "source": [
    "<hr/><hr/> \n",
    "\n",
    "**Step 2:** \n",
    "\n",
    "<hr/>\n",
    "\n",
    "Evaluate if the mean value in the pre-compact period is substantially different from the post-compact period. <br>"
   ]
  },
  {
   "cell_type": "code",
   "execution_count": 3,
   "metadata": {},
   "outputs": [],
   "source": [
    "# split the data into pre-compact and post-compact\n",
    "# describe the two subsets\n",
    "# box-plot both\n",
    "# test for normal\n",
    "# hypothesis test for difference in means\n",
    "# conclusion(s) "
   ]
  },
  {
   "cell_type": "markdown",
   "metadata": {},
   "source": [
    "<hr/><hr/> \n",
    "\n",
    "**Step 3:** \n",
    "\n",
    "<hr/>\n",
    "\n",
    "Estimate the probability based on the the 20-year period that the lower basin allocation will not be met if upper basin allocation is satisfied. Estimate the probability that the allocation will not be met using the entire data set if the upper basin allocation is satisfied.<br>"
   ]
  },
  {
   "cell_type": "code",
   "execution_count": null,
   "metadata": {},
   "outputs": [],
   "source": [
    "# empirical probability approach on the 20 years pre-compact; full data"
   ]
  },
  {
   "cell_type": "markdown",
   "metadata": {},
   "source": [
    "<hr/><hr/> \n",
    "\n",
    "**Step 4:** \n",
    "\n",
    "<hr/>\n",
    "\n",
    "Next assume that lower basin is satisfied first (this is the historical result of the\n",
    "original and subsequent treaties). Estimate the probability that the upper basin\n",
    "allocation will not be met. Determine an upper basin allocation that will be met\n",
    "95% of the time. Again use the 20 year initial record, then the entire record."
   ]
  },
  {
   "cell_type": "code",
   "execution_count": 5,
   "metadata": {},
   "outputs": [],
   "source": [
    "# empirical probability approach on the 20 years pre-compact; full data"
   ]
  },
  {
   "cell_type": "markdown",
   "metadata": {},
   "source": [
    "<hr/><hr/> \n",
    "\n",
    "**Step 5:** \n",
    "\n",
    "<hr/>\n",
    "\n",
    "Was the initial 20 year period sufficiently different from the later data that the\n",
    "Compact authors made decisions based on unusually high or low flows?"
   ]
  },
  {
   "cell_type": "code",
   "execution_count": 6,
   "metadata": {},
   "outputs": [],
   "source": [
    "# make a decision and report"
   ]
  },
  {
   "cell_type": "code",
   "execution_count": 2,
   "metadata": {},
   "outputs": [
    {
     "data": {
      "text/html": [
       "<div>\n",
       "<style scoped>\n",
       "    .dataframe tbody tr th:only-of-type {\n",
       "        vertical-align: middle;\n",
       "    }\n",
       "\n",
       "    .dataframe tbody tr th {\n",
       "        vertical-align: top;\n",
       "    }\n",
       "\n",
       "    .dataframe thead th {\n",
       "        text-align: right;\n",
       "    }\n",
       "</style>\n",
       "<table border=\"1\" class=\"dataframe\">\n",
       "  <thead>\n",
       "    <tr style=\"text-align: right;\">\n",
       "      <th></th>\n",
       "      <th>YEAR</th>\n",
       "      <th>ANNUAL.VOLUME</th>\n",
       "    </tr>\n",
       "  </thead>\n",
       "  <tbody>\n",
       "    <tr>\n",
       "      <th>count</th>\n",
       "      <td>98.000000</td>\n",
       "      <td>9.800000e+01</td>\n",
       "    </tr>\n",
       "    <tr>\n",
       "      <th>mean</th>\n",
       "      <td>1954.500000</td>\n",
       "      <td>1.508335e+07</td>\n",
       "    </tr>\n",
       "    <tr>\n",
       "      <th>std</th>\n",
       "      <td>28.434134</td>\n",
       "      <td>4.445773e+06</td>\n",
       "    </tr>\n",
       "    <tr>\n",
       "      <th>min</th>\n",
       "      <td>1906.000000</td>\n",
       "      <td>5.407262e+06</td>\n",
       "    </tr>\n",
       "    <tr>\n",
       "      <th>25%</th>\n",
       "      <td>1930.250000</td>\n",
       "      <td>1.143192e+07</td>\n",
       "    </tr>\n",
       "    <tr>\n",
       "      <th>50%</th>\n",
       "      <td>1954.500000</td>\n",
       "      <td>1.489496e+07</td>\n",
       "    </tr>\n",
       "    <tr>\n",
       "      <th>75%</th>\n",
       "      <td>1978.750000</td>\n",
       "      <td>1.831991e+07</td>\n",
       "    </tr>\n",
       "    <tr>\n",
       "      <th>max</th>\n",
       "      <td>2003.000000</td>\n",
       "      <td>2.539764e+07</td>\n",
       "    </tr>\n",
       "  </tbody>\n",
       "</table>\n",
       "</div>"
      ],
      "text/plain": [
       "              YEAR  ANNUAL.VOLUME\n",
       "count    98.000000   9.800000e+01\n",
       "mean   1954.500000   1.508335e+07\n",
       "std      28.434134   4.445773e+06\n",
       "min    1906.000000   5.407262e+06\n",
       "25%    1930.250000   1.143192e+07\n",
       "50%    1954.500000   1.489496e+07\n",
       "75%    1978.750000   1.831991e+07\n",
       "max    2003.000000   2.539764e+07"
      ]
     },
     "execution_count": 2,
     "metadata": {},
     "output_type": "execute_result"
    },
    {
     "data": {
      "image/png": "[encoded data removed]",
      "text/plain": [
       "<Figure size 432x288 with 1 Axes>"
      ]
     },
     "metadata": {
      "needs_background": "light"
     },
     "output_type": "display_data"
    }
   ],
   "source": [
    "import pandas as pd\n",
    "import numpy as np\n",
    "colorado_df = pd.read_table(\"colorado.txt\") # Read the file as a table assign to a dataframe \n",
    "colorado_df.plot.line(x='YEAR', y='ANNUAL.VOLUME')\n",
    "colorado_df.describe()"
   ]
  },
  {
   "cell_type": "markdown",
   "metadata": {},
   "source": []
  },
  {
   "cell_type": "markdown",
   "metadata": {},
   "source": [
    "We can kind of use the description to answer our questions.  \n",
    "Estimate the probability based on the the 20-year period that the lower basin allocation will not be met if upper basin allocation is satisfied\n",
    "\n",
    "First filter the data"
   ]
  },
  {
   "cell_type": "code",
   "execution_count": 23,
   "metadata": {},
   "outputs": [
    {
     "data": {
      "text/html": [
       "<div>\n",
       "<style scoped>\n",
       "    .dataframe tbody tr th:only-of-type {\n",
       "        vertical-align: middle;\n",
       "    }\n",
       "\n",
       "    .dataframe tbody tr th {\n",
       "        vertical-align: top;\n",
       "    }\n",
       "\n",
       "    .dataframe thead th {\n",
       "        text-align: right;\n",
       "    }\n",
       "</style>\n",
       "<table border=\"1\" class=\"dataframe\">\n",
       "  <thead>\n",
       "    <tr style=\"text-align: right;\">\n",
       "      <th></th>\n",
       "      <th>YEAR</th>\n",
       "      <th>ANNUAL.VOLUME</th>\n",
       "    </tr>\n",
       "  </thead>\n",
       "  <tbody>\n",
       "    <tr>\n",
       "      <th>count</th>\n",
       "      <td>22.000000</td>\n",
       "      <td>2.200000e+01</td>\n",
       "    </tr>\n",
       "    <tr>\n",
       "      <th>mean</th>\n",
       "      <td>1916.500000</td>\n",
       "      <td>1.770751e+07</td>\n",
       "    </tr>\n",
       "    <tr>\n",
       "      <th>std</th>\n",
       "      <td>6.493587</td>\n",
       "      <td>3.542334e+06</td>\n",
       "    </tr>\n",
       "    <tr>\n",
       "      <th>min</th>\n",
       "      <td>1906.000000</td>\n",
       "      <td>1.221882e+07</td>\n",
       "    </tr>\n",
       "    <tr>\n",
       "      <th>25%</th>\n",
       "      <td>1911.250000</td>\n",
       "      <td>1.456493e+07</td>\n",
       "    </tr>\n",
       "    <tr>\n",
       "      <th>50%</th>\n",
       "      <td>1916.500000</td>\n",
       "      <td>1.849861e+07</td>\n",
       "    </tr>\n",
       "    <tr>\n",
       "      <th>75%</th>\n",
       "      <td>1921.750000</td>\n",
       "      <td>2.093699e+07</td>\n",
       "    </tr>\n",
       "    <tr>\n",
       "      <th>max</th>\n",
       "      <td>1927.000000</td>\n",
       "      <td>2.294280e+07</td>\n",
       "    </tr>\n",
       "  </tbody>\n",
       "</table>\n",
       "</div>"
      ],
      "text/plain": [
       "              YEAR  ANNUAL.VOLUME\n",
       "count    22.000000   2.200000e+01\n",
       "mean   1916.500000   1.770751e+07\n",
       "std       6.493587   3.542334e+06\n",
       "min    1906.000000   1.221882e+07\n",
       "25%    1911.250000   1.456493e+07\n",
       "50%    1916.500000   1.849861e+07\n",
       "75%    1921.750000   2.093699e+07\n",
       "max    1927.000000   2.294280e+07"
      ]
     },
     "execution_count": 23,
     "metadata": {},
     "output_type": "execute_result"
    },
    {
     "data": {
      "image/png": "[encoded data removed]",
      "text/plain": [
       "<Figure size 432x288 with 1 Axes>"
      ]
     },
     "metadata": {
      "needs_background": "light"
     },
     "output_type": "display_data"
    }
   ],
   "source": [
    "junkdf = colorado_df[colorado_df['YEAR'] <= 1927] # screen by year\n",
    "junkdf.plot.line(x='YEAR', y='ANNUAL.VOLUME') # plot the first 22 years\n",
    "junkdf.describe()"
   ]
  },
  {
   "cell_type": "markdown",
   "metadata": {},
   "source": [
    "Then observe that the minimum is 12 million, so the upper basin's 7.5 million is satisfied all 22 years (yay for the upstreamers!)\n",
    "If the downstreamers get their allocation the total in the river needs to be 15 million, so the question is what fraction of observations is less than 15 million, that fraction is an estimate of the probability downstreamers won't get their water."
   ]
  },
  {
   "cell_type": "code",
   "execution_count": 24,
   "metadata": {},
   "outputs": [
    {
     "name": "stdout",
     "output_type": "stream",
     "text": [
      "Probability Downstreamers Wont Get their Agua =0.318\n"
     ]
    }
   ],
   "source": [
    "result1 = junkdf.count()\n",
    "result2 = junkdf[junkdf['ANNUAL.VOLUME'] < 15.0E6].count()\n",
    "print ('Probability Downstreamers Wont Get their Agua =%.3f' % (result2[0]/result1[0]))"
   ]
  },
  {
   "cell_type": "markdown",
   "metadata": {},
   "source": [
    "The fraction is about 1/3; so 33% of the time, downstreamers won't get their water!"
   ]
  },
  {
   "cell_type": "markdown",
   "metadata": {},
   "source": [
    "Estimate the probability that the allocation will not be met using the entire data set if the upper basin allocation is satisfied.\n",
    "Here we use the same logic and scripts but dont need the date filter"
   ]
  },
  {
   "cell_type": "code",
   "execution_count": 25,
   "metadata": {},
   "outputs": [
    {
     "name": "stdout",
     "output_type": "stream",
     "text": [
      "Probability Downstreamers Wont Get their Agua =0.500 \n"
     ]
    }
   ],
   "source": [
    "result1 = colorado_df.count()\n",
    "result2 = colorado_df[colorado_df['ANNUAL.VOLUME'] < 15.0E6].count()\n",
    "print (\"Probability Downstreamers Wont Get their Agua =%.3f \" % (result2[0]/result1[0]))"
   ]
  },
  {
   "cell_type": "markdown",
   "metadata": {},
   "source": [
    "So the downstreamers wont get water 1/2 the time.\n",
    "\n",
    "Next assume that lower basin is satisfied first (this is the historical result of the original and subsequent treaties). \n",
    "Determine an upper basin allocation that will be met 95% of the time. \n",
    "\n",
    "Again use the 22 year initial record, then the entire record."
   ]
  },
  {
   "cell_type": "code",
   "execution_count": 26,
   "metadata": {},
   "outputs": [
    {
     "name": "stdout",
     "output_type": "stream",
     "text": [
      "Probability Uptreamers Will Get their Agua based on 22 years =0.955\n",
      "Allocation Upstream =5000000.000\n",
      "Probability Uptreamers Will Get their Agua based on 98 years =0.949\n",
      "Allocation Upstream =1000000.000\n"
     ]
    }
   ],
   "source": [
    "result1 = junkdf.count()\n",
    "result2 = junkdf[junkdf['ANNUAL.VOLUME'] > 12.5e6].count()\n",
    "print ('Probability Uptreamers Will Get their Agua based on 22 years =%.3f' % (result2[0]/result1[0]))\n",
    "print ('Allocation Upstream =%.3f' % (12.5e6 - 7.5e6))\n",
    "result1 = colorado_df.count()\n",
    "result2 = colorado_df[colorado_df['ANNUAL.VOLUME'] > 8.5e6].count()\n",
    "print ('Probability Uptreamers Will Get their Agua based on 98 years =%.3f' % (result2[0]/result1[0]))\n",
    "print ('Allocation Upstream =%.3f' % (8.5e6 - 7.5e6))"
   ]
  },
  {
   "cell_type": "markdown",
   "metadata": {},
   "source": [
    "So based on 22 years of record, 5 million acre feet allocation would be satisfied 95% of the time.\n",
    "Using the entire record, only 1 million acre feet was available for the upstream - interestingly that same extra 1 million already available to the downstreamers.\n",
    "\n",
    "Not a favorable contract for Upstreamers and Mexico, the big error was the choice of absolute volumes; flow fractions would have made more sense and still kept lawyers busy.  \n",
    "\n",
    "One observation in https://en.wikipedia.org/wiki/Cadillac_Desert notes that the base years were unusually wet - we can assess that claim using our hypothesis testing tools.  First we will check for normality"
   ]
  },
  {
   "cell_type": "code",
   "execution_count": 27,
   "metadata": {},
   "outputs": [
    {
     "name": "stdout",
     "output_type": "stream",
     "text": [
      "statistic=7.070, p-value at rejection =0.029\n",
      "Probably Not-normal distributed\n",
      "statistic=2.071, p-value at rejection =0.355\n",
      "Probably normal distributed\n"
     ]
    }
   ],
   "source": [
    "newjunkdf = colorado_df[colorado_df['YEAR'] > 1927] # screen by year\n",
    "stat, p = stats.normaltest(junkdf['ANNUAL.VOLUME'])\n",
    "print('statistic=%.3f, p-value at rejection =%.3f' % (stat, p))\n",
    "if p > 0.05:\n",
    "    print('Probably normal distributed')\n",
    "else:\n",
    "    print('Probably Not-normal distributed')\n",
    "    stat, p = stats.normaltest(newjunkdf['ANNUAL.VOLUME'])\n",
    "print('statistic=%.3f, p-value at rejection =%.3f' % (stat, p))\n",
    "if p > 0.05:\n",
    "    print('Probably normal distributed')\n",
    "else:\n",
    "    print('Probably Not-normal distributed')"
   ]
  },
  {
   "cell_type": "markdown",
   "metadata": {},
   "source": [
    "So the first portion of the data seem non-normal, the later quite normal, likely a consequence of moderate sample size (80-ish) and a bounded physical process (infinite discharge makes no sense, less then zero also undefined).  Lets ask Shirely and Laverne what they think about variance."
   ]
  },
  {
   "cell_type": "code",
   "execution_count": 28,
   "metadata": {},
   "outputs": [
    {
     "name": "stdout",
     "output_type": "stream",
     "text": [
      "statistic=0.907, p-value at rejection =0.343\n",
      "Probably homoscedastic\n"
     ]
    }
   ],
   "source": [
    "stat, p = stats.levene(junkdf['ANNUAL.VOLUME'],newjunkdf['ANNUAL.VOLUME'])\n",
    "print('statistic=%.3f, p-value at rejection =%.3f' % (stat, p))\n",
    "if p > 0.05:\n",
    "    print('Probably homoscedastic')\n",
    "else:\n",
    "    print('Probably heteroscedastic')"
   ]
  },
  {
   "cell_type": "markdown",
   "metadata": {},
   "source": [
    "So we have non-static variance, from the plots it looks to be increasing with respect to time, a quick check"
   ]
  },
  {
   "cell_type": "code",
   "execution_count": 29,
   "metadata": {},
   "outputs": [
    {
     "name": "stdout",
     "output_type": "stream",
     "text": [
      "Variance first 22 years =1.255e+13\n",
      "Variance last 86 years =1.944e+13\n"
     ]
    }
   ],
   "source": [
    "oldvar = (junkdf['ANNUAL.VOLUME'].std())**2\n",
    "newvar = (newjunkdf['ANNUAL.VOLUME'].std())**2\n",
    "print('Variance first 22 years =%.3e' % oldvar)\n",
    "print('Variance last 86 years =%.3e' % newvar)"
   ]
  },
  {
   "cell_type": "markdown",
   "metadata": {},
   "source": [
    "So the variance increased in the more reçent years, lets check means"
   ]
  },
  {
   "cell_type": "code",
   "execution_count": 30,
   "metadata": {},
   "outputs": [
    {
     "name": "stdout",
     "output_type": "stream",
     "text": [
      "Mean first 22 years =1.771e+07\n",
      "Mean last 86 years =1.432e+07\n"
     ]
    }
   ],
   "source": [
    "oldmean = (junkdf['ANNUAL.VOLUME'].mean())\n",
    "newmean = (newjunkdf['ANNUAL.VOLUME'].mean())\n",
    "print('Mean first 22 years =%.3e' % oldmean)\n",
    "print('Mean last 86 years =%.3e' % newmean)"
   ]
  },
  {
   "cell_type": "markdown",
   "metadata": {},
   "source": [
    "So there is evidence that the early years were wetter, by about 3 million acre feet.  Lets examine if the difference is significant using our hypothesis testing tools."
   ]
  },
  {
   "cell_type": "code",
   "execution_count": 31,
   "metadata": {},
   "outputs": [
    {
     "name": "stdout",
     "output_type": "stream",
     "text": [
      "statistic=453.000, p-value at rejection =0.001\n",
      "Probably different distributions\n"
     ]
    }
   ],
   "source": [
    "stat, p = mannwhitneyu(junkdf['ANNUAL.VOLUME'],newjunkdf['ANNUAL.VOLUME'])\n",
    "print('statistic=%.3f, p-value at rejection =%.3f' % (stat, p))\n",
    "if p > 0.05:\n",
    "    print('Probably the same distribution')\n",
    "else:\n",
    "    print('Probably different distributions')"
   ]
  },
  {
   "cell_type": "markdown",
   "metadata": {},
   "source": [
    "Based on the Mann-Whitney test the statement in Cadillac Desert is defendible, the early years are indeed different (wetter) with a small p-value, so its  likely the difference is not random.\n",
    "\n",
    "### Exercise\n",
    "If you were to rewrite the Compact provisions today, assuming that the original\n",
    "intent was to divide the water between upper and lower basin in a 46% 54% split,\n",
    "what annual allocations would you recomend as ’firm’ water at 90% reliability?\n",
    "\n",
    "<hr>"
   ]
  },
  {
   "cell_type": "markdown",
   "metadata": {},
   "source": [
    "## Problem 5: Watershed Response Metrics (20 points)\n",
    "\n",
    "### Background \n",
    "Rainfall-Runoff response prediction is a vital step in engineering design for mitigating flood-induced infrastructure failure.   One easy to measure characteristic of a watershed is its drainage area.  Harder to quantify are its characteristic response time, and its conversion (of precipitation into runoff) factor.\n",
    "\n",
    "### Study Database\n",
    "\n",
    "The [watersheds.csv](http://54.243.252.9/engr-1330-webroot/4-Databases/watersheds.csv) dataset contains (measured)drainage area for 92 study watersheds in Texas (cite source), and the accompanying data:\n",
    "\n",
    "|Columns|Info.|\n",
    "|:---|:---|\n",
    "|STATION_ID |USGS HUC-8 Station ID code|\n",
    "|TDA |Total drainage area (sq. miles) |\n",
    "|RCOEF|Runoff Ratio (Runoff Depth/Precipitation Depth)|\n",
    "|TPEAK|Characteristic Time (minutes)|\n",
    "|FPEAK|Peaking factor (same as NRCS factor)|\n",
    "|QP_OBS|Observed peak discharge (measured)|\n",
    "|QP_MOD|Modeled peak discharge (modeled)| \n",
    "\n",
    "### Assess the data:\n",
    "\n",
    "Using the following steps, assess the utility of the response metric.\n"
   ]
  },
  {
   "cell_type": "markdown",
   "metadata": {},
   "source": [
    "<hr/><hr/> \n",
    "\n",
    "**Step 1:** \n",
    "\n",
    "<hr/>\n",
    "\n",
    "Read the \"watersheds.csv\" file as a dataframe. Explore the dataframe and in a markdown cell breifly describe the summarize the dataframe. <br>"
   ]
  },
  {
   "cell_type": "code",
   "execution_count": 22,
   "metadata": {},
   "outputs": [],
   "source": [
    "# import packages\n",
    "# read data file\n",
    "# summarize contents + markdown cell as needed"
   ]
  },
  {
   "cell_type": "markdown",
   "metadata": {},
   "source": [
    "<hr/><hr/> \n",
    "\n",
    "**Step 2:** <hr/>\n",
    "\n",
    "Using your laboratory scripts as a guide, assess the utility of **TDA** as a predictor of **TPEAK** (e.g. perform a regression and produce plots, with **TDA** on the x-axis) <br>"
   ]
  },
  {
   "cell_type": "code",
   "execution_count": 23,
   "metadata": {},
   "outputs": [],
   "source": [
    "# extract lists to use Lab21 example scripts\n",
    "# log transform as needed\n",
    "# regression fits, include plots of data regression line, uncertainty lines\n",
    "\n",
    "# + markdown cell as needed"
   ]
  },
  {
   "cell_type": "markdown",
   "metadata": {},
   "source": [
    "<hr/><hr/> \n",
    "\n",
    "**Step 3:**\n",
    "\n",
    "<hr/>\n",
    "\n",
    "Using your laboratory scripts as a guide, assess the utility of **log(TDA)** as a predictor of **TPEAK** (e.g. perform a regression and produce plots, with **log(TDA)** on the x-axis)\n",
    "\n",
    "Which mapping of **TDA**  (arithmetic or logarithmic) produces a more useful graph? "
   ]
  },
  {
   "cell_type": "code",
   "execution_count": 24,
   "metadata": {},
   "outputs": [],
   "source": [
    "# extract lists to use Lab21 example scripts\n",
    "# log transform as needed\n",
    "# regression fits, include plots of data regression line, uncertainty lines\n",
    "\n",
    "# + markdown cell as needed"
   ]
  },
  {
   "cell_type": "markdown",
   "metadata": {},
   "source": [
    "<hr/><hr/> \n",
    "\n",
    "**Step 4:**\n",
    "\n",
    "<hr/>\n",
    "\n",
    "Using your laboratory scripts as a guide, assess the performance of the underlying (not disclosed) model, using **QP_MOD** as a predictor of **QP_OBS** (e.g. perform a regression and produce plots, with **QP_MOD** on the x-axis).\n",
    "\n",
    "Include an equal value line (x=y) on the plot and make an assertion of model bias (does the model overpredict or underpredict the observations?)\n",
    "<br>"
   ]
  },
  {
   "cell_type": "code",
   "execution_count": 1,
   "metadata": {
    "jupyter": {
     "source_hidden": true
    }
   },
   "outputs": [],
   "source": [
    "# extract lists to use Lab21 example scripts\n",
    "# log transform as needed\n",
    "# regression fits, include plots of data regression line, uncertainty lines\n",
    "\n",
    "# + markdown cell as needed"
   ]
  },
  {
   "cell_type": "markdown",
   "metadata": {},
   "source": [
    "1. Classification"
   ]
  }
 ],
 "metadata": {
  "kernelspec": {
   "display_name": "Python 3",
   "language": "python",
   "name": "python3"
  },
  "language_info": {
   "codemirror_mode": {
    "name": "ipython",
    "version": 3
   },
   "file_extension": ".py",
   "mimetype": "text/x-python",
   "name": "python",
   "nbconvert_exporter": "python",
   "pygments_lexer": "ipython3",
   "version": "3.8.10"
  }
 },
 "nbformat": 4,
 "nbformat_minor": 4
}
