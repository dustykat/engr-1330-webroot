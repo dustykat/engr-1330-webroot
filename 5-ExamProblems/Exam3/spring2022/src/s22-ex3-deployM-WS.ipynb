{
 "cells": [
  {
   "cell_type": "markdown",
   "metadata": {},
   "source": [
    "# <font color=darkblue>ENGR 1330-2022 Exam 3-Laboratory Portion  </font>\n",
    "\n",
    "**LAST NAME, FIRST NAME**\n",
    "\n",
    "**R00000000**\n",
    "\n",
    "ENGR 1330 Exam 3M - Demonstrate Laboratory/Programming Skills\n",
    "\n",
    "---\n",
    "\n",
    "**Download** (right-click, save target as ...) this page as a jupyterlab notebook from: [s22-ex3-deployM.ipynb](http://54.243.252.9/engr-1330-webroot/5-ExamProblems/Exam3/Exam3/spring2022/s22-ex3-deploy.ipynb)\n",
    "\n",
    "**If you are unable to download the file, create an empty notebook and copy paste the problems into Markdown cells and Code cells (problem-by-problem)**\n",
    "\n"
   ]
  },
  {
   "cell_type": "markdown",
   "metadata": {},
   "source": [
    "## Problem 0 (5 pts) : <font color = 'magenta'>*Profile your computer*</font>\n",
    "\n",
    "Execute the code cell below exactly as written.  If you get an error just continue to the remaining problems."
   ]
  },
  {
   "cell_type": "code",
   "execution_count": 2,
   "metadata": {},
   "outputs": [
    {
     "name": "stdout",
     "output_type": "stream",
     "text": [
      "atomickitty\n",
      "sensei\n",
      "/opt/jupyterhub/bin/python3\n",
      "3.8.10 (default, Mar 15 2022, 12:22:08) \n",
      "[GCC 9.4.0]\n",
      "sys.version_info(major=3, minor=8, micro=10, releaselevel='final', serial=0)\n"
     ]
    }
   ],
   "source": [
    "# Preamble script block to identify host, user, and kernel\n",
    "import sys\n",
    "! hostname\n",
    "! whoami\n",
    "print(sys.executable)\n",
    "print(sys.version)\n",
    "print(sys.version_info)"
   ]
  },
  {
   "cell_type": "markdown",
   "metadata": {},
   "source": [
    "## <font color = \"red\">Scoring Suggestions</font>\n",
    "\n",
    "- +0 points if script is not executed\n",
    "- +4 points if executed and there is an exception (pink) block; the script works regardless of architecture\n",
    "- +5 points if executed.  Examine the user name (\"whoami\"), these should be unique for each student unless they are sharing files.\n",
    "\n",
    "<hr>\n",
    "<hr>"
   ]
  },
  {
   "cell_type": "markdown",
   "metadata": {},
   "source": [
    "## Exercise 1 (5 pts.)\n",
    "The file [http://54.243.252.9/engr-1330-webroot/5-ExamProblems/Exam3/spring2022/boxes.csv](http://54.243.252.9/engr-1330-webroot/5-ExamProblems/Exam3/spring2022/boxes.csv) below contains values of impact strength of packaging materials in foot-pounds of branded boxes. \n",
    "\n",
    "Download the file and read it into a dataframe.\n",
    "\n",
    "<!--```\n",
    "import requests\n",
    "remote_url=\"http://54.243.252.9/engr-1330-webroot/5-ExamProblems/Exam3/spring2022/boxes.csv\"  # set the url\n",
    "rget = requests.get(remote_url, allow_redirects=True)  # get the remote resource, follow imbedded links\n",
    "localfile = open('boxes.csv','wb') # open connection to a local file same name as remote\n",
    "localfile.write(rget.content) # extract from the remote the contents,insert into the local file same name\n",
    "localfile.close() # close connection to the local file\n",
    "```-->"
   ]
  },
  {
   "cell_type": "code",
   "execution_count": 3,
   "metadata": {},
   "outputs": [],
   "source": [
    "# download script goes here\n",
    "import requests\n",
    "remote_url=\"http://54.243.252.9/engr-1330-webroot/5-ExamProblems/Exam3/spring2022/boxes.csv\"  # set the url\n",
    "rget = requests.get(remote_url, allow_redirects=True)  # get the remote resource, follow imbedded links\n",
    "localfile = open('boxes.csv','wb') # open connection to a local file same name as remote\n",
    "localfile.write(rget.content) # extract from the remote the contents,insert into the local file same name\n",
    "localfile.close() # close connection to the local file"
   ]
  },
  {
   "cell_type": "code",
   "execution_count": 4,
   "metadata": {},
   "outputs": [],
   "source": [
    "# read dataframe script goes here\n",
    "import pandas\n",
    "myboxes = pandas.read_csv('boxes.csv')  #Reading a .csv file"
   ]
  },
  {
   "cell_type": "markdown",
   "metadata": {},
   "source": [
    "Describe the dataframe, how many columns are in the dataframe?  What are the column names?"
   ]
  },
  {
   "cell_type": "code",
   "execution_count": 5,
   "metadata": {},
   "outputs": [
    {
     "data": {
      "text/html": [
       "<div>\n",
       "<style scoped>\n",
       "    .dataframe tbody tr th:only-of-type {\n",
       "        vertical-align: middle;\n",
       "    }\n",
       "\n",
       "    .dataframe tbody tr th {\n",
       "        vertical-align: top;\n",
       "    }\n",
       "\n",
       "    .dataframe thead th {\n",
       "        text-align: right;\n",
       "    }\n",
       "</style>\n",
       "<table border=\"1\" class=\"dataframe\">\n",
       "  <thead>\n",
       "    <tr style=\"text-align: right;\">\n",
       "      <th></th>\n",
       "      <th>Amazon Branded Boxes</th>\n",
       "      <th>Walmart Branded Boxes</th>\n",
       "      <th>US Postal Service Branded Boxes</th>\n",
       "    </tr>\n",
       "  </thead>\n",
       "  <tbody>\n",
       "    <tr>\n",
       "      <th>count</th>\n",
       "      <td>250000.000000</td>\n",
       "      <td>250000.000000</td>\n",
       "      <td>250000.000000</td>\n",
       "    </tr>\n",
       "    <tr>\n",
       "      <th>mean</th>\n",
       "      <td>1.210037</td>\n",
       "      <td>0.780308</td>\n",
       "      <td>1.199937</td>\n",
       "    </tr>\n",
       "    <tr>\n",
       "      <th>std</th>\n",
       "      <td>0.300282</td>\n",
       "      <td>0.200181</td>\n",
       "      <td>0.119895</td>\n",
       "    </tr>\n",
       "    <tr>\n",
       "      <th>min</th>\n",
       "      <td>-0.131195</td>\n",
       "      <td>-0.153808</td>\n",
       "      <td>0.663480</td>\n",
       "    </tr>\n",
       "    <tr>\n",
       "      <th>25%</th>\n",
       "      <td>1.007211</td>\n",
       "      <td>0.646009</td>\n",
       "      <td>1.118755</td>\n",
       "    </tr>\n",
       "    <tr>\n",
       "      <th>50%</th>\n",
       "      <td>1.211051</td>\n",
       "      <td>0.780008</td>\n",
       "      <td>1.200183</td>\n",
       "    </tr>\n",
       "    <tr>\n",
       "      <th>75%</th>\n",
       "      <td>1.411952</td>\n",
       "      <td>0.914654</td>\n",
       "      <td>1.280694</td>\n",
       "    </tr>\n",
       "    <tr>\n",
       "      <th>max</th>\n",
       "      <td>2.535326</td>\n",
       "      <td>1.655256</td>\n",
       "      <td>1.730012</td>\n",
       "    </tr>\n",
       "  </tbody>\n",
       "</table>\n",
       "</div>"
      ],
      "text/plain": [
       "       Amazon Branded Boxes  Walmart Branded Boxes  \\\n",
       "count         250000.000000          250000.000000   \n",
       "mean               1.210037               0.780308   \n",
       "std                0.300282               0.200181   \n",
       "min               -0.131195              -0.153808   \n",
       "25%                1.007211               0.646009   \n",
       "50%                1.211051               0.780008   \n",
       "75%                1.411952               0.914654   \n",
       "max                2.535326               1.655256   \n",
       "\n",
       "       US Postal Service Branded Boxes  \n",
       "count                    250000.000000  \n",
       "mean                          1.199937  \n",
       "std                           0.119895  \n",
       "min                           0.663480  \n",
       "25%                           1.118755  \n",
       "50%                           1.200183  \n",
       "75%                           1.280694  \n",
       "max                           1.730012  "
      ]
     },
     "execution_count": 5,
     "metadata": {},
     "output_type": "execute_result"
    }
   ],
   "source": [
    "# your script/answers go here\n",
    "myboxes.describe()"
   ]
  },
  {
   "cell_type": "markdown",
   "metadata": {},
   "source": [
    "## <font color = \"red\">Scoring Suggestions</font>\n",
    "\n",
    "- +0 points if script is not supplied\n",
    "- +1 points if the download block appears to have run sucessfully, without an error block.  Students have used this tool for weeks now, so no excuse for fail to download.  If they manually downloaded, they may have not run the download part, but if the next part is correct award the point there\n",
    "- +2 points if the import and read file are done correctly \n",
    "- +1 points if the import and read file code look OK, but error block and no debug attempt, usually forget to import pandas.\n",
    "- +2 points if the .head() or .describe() or .info() are supplied, or the dataframe is printed\n",
    "\n",
    "<hr>\n",
    "<hr>"
   ]
  },
  {
   "cell_type": "markdown",
   "metadata": {},
   "source": [
    "Exercise 2 (15 pts.) Produce a histogram of the Amazon series and the USPS series on the same plot.  Plot Amazon using red, and USPS using blue.  \n",
    "\n",
    "> - Import suitable package to build histograms\n",
    "> - Apply package with plotting call to prodice two histograms on same figure space\n",
    "> - Label plot and axes with suitable annotation\n",
    "\n",
    "Comment on the histograms, do they overlap?  "
   ]
  },
  {
   "cell_type": "code",
   "execution_count": 33,
   "metadata": {},
   "outputs": [],
   "source": []
  },
  {
   "cell_type": "code",
   "execution_count": 38,
   "metadata": {},
   "outputs": [
    {
     "data": {
      "text/plain": [
       "Text(0.5, 1.0, 'title')"
      ]
     },
     "execution_count": 38,
     "metadata": {},
     "output_type": "execute_result"
    },
    {
     "data": {
      "image/png": "[encoded data removed]",
      "text/plain": [
       "<Figure size 432x288 with 1 Axes>"
      ]
     },
     "metadata": {
      "needs_background": "light"
     },
     "output_type": "display_data"
    }
   ],
   "source": [
    "# your script goes here\n",
    "#myboxes['Amazon Branded Boxes'].hist(alpha=0.4,color='red',density=\"True\",bins=100,legend='True',ax.set_xlabel('x-label'),ax.set_ylabel('y-label'))\n",
    "\n",
    "ax = myboxes['Amazon Branded Boxes'].hist(alpha=0.5,color='red',density=\"False\",bins=100,legend='True')\n",
    "ax = myboxes['US Postal Service Branded Boxes'].hist(alpha=0.5,color='blue',density=\"False\",bins=100,legend='True')\n",
    "\n",
    "ax.set_xlabel('x-label')\n",
    "ax.set_ylabel('y-label')\n",
    "ax.set_title('title')"
   ]
  },
  {
   "cell_type": "markdown",
   "metadata": {},
   "source": [
    "## <font color = \"red\">Scoring Suggestions</font>\n",
    "\n",
    "- +0 points if script is not executed\n",
    "- +5 points if executed and there is an exception (pink) block\n",
    "- +10 points if histograms are plotted on same chart as specified.\n",
    "- -1 no xlabel and/or ylabel\n",
    "- -1 no title\n",
    "- -1 no legend\n",
    "- -2 points if two separate graph objects\n",
    "- -1 points if colors are not explicity specified (defaults will typically be orange and blue)"
   ]
  },
  {
   "cell_type": "raw",
   "metadata": {},
   "source": [
    "import pandas as pd\n",
    "import numpy as np\n",
    "import matplotlib.pyplot as plt\n",
    "\n",
    "myboxes.plot(kind='hist',\n",
    "        alpha=0.5,\n",
    "        bins=100,\n",
    "        title='Histogram Of Box Strength',\n",
    "        rot=45,\n",
    "        grid=True,\n",
    "        figsize=(12,8),\n",
    "        fontsize=15, \n",
    "        color=['red', 'blue', 'green'])\n",
    "plt.xlabel('Strength')\n",
    "plt.ylabel(\"Count\");"
   ]
  },
  {
   "cell_type": "markdown",
   "metadata": {},
   "source": [
    "Exercise 3 (5 pts.) Determine the mean strength and the standard deviation of the Amazon and USPS brands.  Which one has a greater mean value? Which one has the greater standard deviation?"
   ]
  },
  {
   "cell_type": "code",
   "execution_count": 31,
   "metadata": {},
   "outputs": [
    {
     "name": "stdout",
     "output_type": "stream",
     "text": [
      "Amazon mean:  1.210036656744606\n",
      "Amazon   sd:  0.3002821784033327\n",
      "###################################################\n",
      "USPS mean:  1.1999368519101166\n",
      "USPS  sd:  0.11989487155671906\n"
     ]
    }
   ],
   "source": [
    "# your script goes here\n",
    "print(\"Amazon mean: \",myboxes['Amazon Branded Boxes'].mean())\n",
    "print(\"Amazon   sd: \",myboxes['Amazon Branded Boxes'].std())\n",
    "print(\"###################################################\")\n",
    "print(\"USPS mean: \",myboxes['US Postal Service Branded Boxes'].mean())\n",
    "print(\"USPS  sd: \",myboxes['US Postal Service Branded Boxes'].std())"
   ]
  },
  {
   "cell_type": "markdown",
   "metadata": {},
   "source": [
    "## <font color = \"red\">Scoring Suggestions</font>\n",
    "\n",
    "- +0 points if script is not executed\n",
    "- +4 points if executed and there is an exception (pink) block; the script works regardless of architecture\n",
    "- +5 points if executed and report mean and sd each series, with some kind of label .describe() or .info() is fine\n",
    "- -2 syntax, did not access series or move to a list and process."
   ]
  },
  {
   "cell_type": "markdown",
   "metadata": {},
   "source": [
    "Exercise 4 (5 pts.) Test the Amazon data for normality, interpret the results."
   ]
  },
  {
   "cell_type": "code",
   "execution_count": 41,
   "metadata": {},
   "outputs": [
    {
     "name": "stdout",
     "output_type": "stream",
     "text": [
      "stat=1.000, p=1.000\n",
      "H_o: Normal\n"
     ]
    }
   ],
   "source": [
    "# your script here\n",
    "#import warnings\n",
    "#warnings.filterwarnings('ignore')\n",
    "# Example of the Shapiro-Wilk Normality Test\n",
    "from scipy.stats import shapiro\n",
    "data = myboxes['Amazon Branded Boxes']\n",
    "stat, p = shapiro(data)\n",
    "print('stat=%.3f, p=%.3f' % (stat, p))\n",
    "if p > 0.05:\n",
    "\tprint('H_o: Normal')\n",
    "else:\n",
    "\tprint('H_a: Not Normal')"
   ]
  },
  {
   "cell_type": "markdown",
   "metadata": {},
   "source": [
    "## <font color = \"red\">Scoring Suggestions</font>\n",
    "\n",
    "- +0 points if no script executed\n",
    "- +4 points if executed and there is an **exception** (pink) block; \n",
    "- +6 points if suppress warnings (optional bonus)\n",
    "- +5 points if executed.\n",
    "\n",
    "<hr>\n",
    "<hr>"
   ]
  },
  {
   "cell_type": "markdown",
   "metadata": {},
   "source": [
    "Exercise 5 (5 pts.) Test the USPS data for normality, interpret the results."
   ]
  },
  {
   "cell_type": "code",
   "execution_count": 42,
   "metadata": {},
   "outputs": [
    {
     "name": "stdout",
     "output_type": "stream",
     "text": [
      "stat=1.000, p=1.000\n",
      "H_o: Normal\n"
     ]
    }
   ],
   "source": [
    "# your script here\n",
    "import warnings\n",
    "warnings.filterwarnings('ignore')\n",
    "# Example of the Shapiro-Wilk Normality Test\n",
    "from scipy.stats import shapiro\n",
    "data = myboxes['US Postal Service Branded Boxes']\n",
    "stat, p = shapiro(data)\n",
    "print('stat=%.3f, p=%.3f' % (stat, p))\n",
    "if p > 0.05:\n",
    "\tprint('H_o: Normal')\n",
    "else:\n",
    "\tprint('H_a: Not Normal')"
   ]
  },
  {
   "cell_type": "markdown",
   "metadata": {},
   "source": [
    "## <font color = \"red\">Scoring Suggestions</font>\n",
    "\n",
    "- +0 points if no script executed\n",
    "- +4 points if executed and there is an **exception** (pink) block; \n",
    "- +6 points if suppress warnings (optional bonus)\n",
    "- +5 points if executed.\n",
    "\n",
    "<hr>\n",
    "<hr>"
   ]
  },
  {
   "cell_type": "markdown",
   "metadata": {},
   "source": [
    "Exercise 6 (10 pts.)Determine if there is evidence of a difference in mean strength between the two brands.  \n",
    "Use an appropriate hypothesis test to support your assertion at a level of significance of $\\alpha = 0.10$. \n",
    "\n",
    "> - Choose a test and justify choice\n",
    "> - Import suitable package to run the test\n",
    "> - Apply the test and interpret the results\n",
    "> - Report result with suitable annotation"
   ]
  },
  {
   "cell_type": "code",
   "execution_count": 43,
   "metadata": {},
   "outputs": [
    {
     "name": "stdout",
     "output_type": "stream",
     "text": [
      "stat=15.618, p=0.000\n",
      "H_o: Means are equal\n"
     ]
    }
   ],
   "source": [
    "# Example of the Student's t-test\n",
    "alpha = 0.10\n",
    "from scipy.stats import ttest_ind\n",
    "data1 = myboxes['Amazon Branded Boxes']\n",
    "data2 = myboxes['US Postal Service Branded Boxes']\n",
    "stat, p = ttest_ind(data1, data2, equal_var=False)\n",
    "print('stat=%.3f, p=%.3f' % (stat, p))\n",
    "if p > alpha:\n",
    "\tprint('H_a: Means are not equal')\n",
    "else:\n",
    "\tprint('H_o: Means are equal')"
   ]
  },
  {
   "cell_type": "markdown",
   "metadata": {},
   "source": [
    "## <font color = \"red\">Scoring Suggestions</font>\n",
    "\n",
    "- +0 points if no script executed\n",
    "- +4 points if executed and there is an **exception** (pink) block; \n",
    "- -1 points if fail to change the \"alpha\" value\n",
    "- +5 if justify specific hypothesis test, nonparametric OK, but need a justification in the written part\n",
    "- +5 points if executed and sense of test is correct (note need to specify the Ho and Ha to be useful)\n",
    "\n",
    "<hr>\n",
    "<hr>"
   ]
  },
  {
   "cell_type": "code",
   "execution_count": null,
   "metadata": {},
   "outputs": [],
   "source": []
  },
  {
   "cell_type": "code",
   "execution_count": null,
   "metadata": {},
   "outputs": [],
   "source": []
  }
 ],
 "metadata": {
  "kernelspec": {
   "display_name": "Python 3",
   "language": "python",
   "name": "python3"
  },
  "language_info": {
   "codemirror_mode": {
    "name": "ipython",
    "version": 3
   },
   "file_extension": ".py",
   "mimetype": "text/x-python",
   "name": "python",
   "nbconvert_exporter": "python",
   "pygments_lexer": "ipython3",
   "version": "3.8.10"
  }
 },
 "nbformat": 4,
 "nbformat_minor": 4
}
