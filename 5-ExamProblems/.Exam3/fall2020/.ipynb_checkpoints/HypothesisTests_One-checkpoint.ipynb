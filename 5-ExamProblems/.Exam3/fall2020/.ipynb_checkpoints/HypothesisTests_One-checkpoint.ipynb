{
 "cells": [
  {
   "cell_type": "code",
   "execution_count": 39,
   "metadata": {},
   "outputs": [
    {
     "name": "stdout",
     "output_type": "stream",
     "text": [
      "orion\n",
      "/opt/jupyterhub/bin/python3\n",
      "3.8.2 (default, Jul 16 2020, 14:00:26) \n",
      "[GCC 9.3.0]\n",
      "sys.version_info(major=3, minor=8, micro=2, releaselevel='final', serial=0)\n"
     ]
    }
   ],
   "source": [
    " import sys\n",
    "! whoami\n",
    " print(sys.executable)\n",
    " print(sys.version)\n",
    " print(sys.version_info)\n",
    "# tested on aws lightsail instance 21 July 2020 using python38 kernel spec"
   ]
  },
  {
   "cell_type": "markdown",
   "metadata": {},
   "source": [
    "# Hypothesis Testing\n",
    "In this notebook we introduce tests for two independent groups - a common situation in both experimental and observational research.  \n",
    "\n",
    "In experimental research, the sample sizes may be quite small. However the methods will work fine for large data (many records) sets.\n",
    "An important concept is that the two groups are known to be different by some classification or descriptive variable, and can be separated based on that variable.  \n",
    "Furthermore the ideas of:\n",
    "\n",
    "   1) before vs. after (some treatment); \n",
    "\n",
    "   2) pristine vs. impacted; \n",
    "\n",
    "   3) fractured vs. unfractured; \n",
    "\n",
    "   4) upgradient vs. downgradient;\n",
    "\n",
    "   5) other such exclusive distinctions;\n",
    "\n",
    "are utterly important in these kinds of comparisons. \n",
    "\n",
    "Also the concept of `pairing` \n",
    "\n",
    "Consider the example of BMP (a stormwater treatment device) performance monitoring. \n",
    "If we monitor a BMP upstream and downstream during different storms, and a sample is collected at <strong>both</strong> locations during the different events, these are `PAIRED` samples, and are the subject of another notebook.\n",
    "\n",
    "If on the other hand we collect grab samples from a stream at some location on many different days, and in the field notes we observe that some days, the bayou smelled bad (a classification variable), and other days there was no smell, then these two sets of samples (smelly and yummy) are `unpaired`.  \n",
    "\n",
    "Before-after sampling is also usually `unpaired`. \n",
    "\n",
    "### An example -- Assume UNPAIRED\n",
    "Consider two sets of observations of organic nitrogen in samples from an industrial region and from a residential region.\n",
    "First build the data model, and make a boxplot to get an idea of what to expect, our question is are the two areas different? Or more philosophically, given an observation can we make a good guess of whether it is a residential or industrial sample?"
   ]
  },
  {
   "cell_type": "code",
   "execution_count": 40,
   "metadata": {},
   "outputs": [
    {
     "data": {
      "text/plain": [
       "<matplotlib.axes._subplots.AxesSubplot at 0x7fca6654f850>"
      ]
     },
     "execution_count": 40,
     "metadata": {},
     "output_type": "execute_result"
    },
    {
     "data": {
      "image/png": "[encoded data removed]",
      "text/plain": [
       "<Figure size 432x288 with 1 Axes>"
      ]
     },
     "metadata": {
      "needs_background": "light"
     },
     "output_type": "display_data"
    }
   ],
   "source": [
    "industrial_organic_nitrogen=[0.59,0.87,1.1,1.1,1.2,1.3,1.6,1.7,3.2,4.0] # industrial data as a list\n",
    "residential_organic_nitrogen=[0.3,0.36,0.5,0.7,0.7,0.9,0.92,1.0,1.3,8.7] # residential data as a list\n",
    "import pandas as pd\n",
    "import numpy as np\n",
    "# join the two lists\n",
    "organicNH3 = [industrial_organic_nitrogen,residential_organic_nitrogen]\n",
    "#transpose them\n",
    "organicNH3 = np.array(organicNH3).T\n",
    "#build dataframe\n",
    "df = pd.DataFrame(organicNH3, columns=['Industrial', 'Residential'])\n",
    "df.plot.box(grid='True')"
   ]
  },
  {
   "cell_type": "markdown",
   "metadata": {},
   "source": [
    "Examine the boxplots, the residential has a slightly smaller mean value, and except for a single large value all values are smaller than the industrial sample.\n",
    "Lets look closer at the dataframe statistics"
   ]
  },
  {
   "cell_type": "code",
   "execution_count": 41,
   "metadata": {},
   "outputs": [
    {
     "data": {
      "text/html": [
       "<div>\n",
       "<style scoped>\n",
       "    .dataframe tbody tr th:only-of-type {\n",
       "        vertical-align: middle;\n",
       "    }\n",
       "\n",
       "    .dataframe tbody tr th {\n",
       "        vertical-align: top;\n",
       "    }\n",
       "\n",
       "    .dataframe thead th {\n",
       "        text-align: right;\n",
       "    }\n",
       "</style>\n",
       "<table border=\"1\" class=\"dataframe\">\n",
       "  <thead>\n",
       "    <tr style=\"text-align: right;\">\n",
       "      <th></th>\n",
       "      <th>Industrial</th>\n",
       "      <th>Residential</th>\n",
       "    </tr>\n",
       "  </thead>\n",
       "  <tbody>\n",
       "    <tr>\n",
       "      <th>count</th>\n",
       "      <td>10.000000</td>\n",
       "      <td>10.000000</td>\n",
       "    </tr>\n",
       "    <tr>\n",
       "      <th>mean</th>\n",
       "      <td>1.666000</td>\n",
       "      <td>1.538000</td>\n",
       "    </tr>\n",
       "    <tr>\n",
       "      <th>std</th>\n",
       "      <td>1.084714</td>\n",
       "      <td>2.534902</td>\n",
       "    </tr>\n",
       "    <tr>\n",
       "      <th>min</th>\n",
       "      <td>0.590000</td>\n",
       "      <td>0.300000</td>\n",
       "    </tr>\n",
       "    <tr>\n",
       "      <th>25%</th>\n",
       "      <td>1.100000</td>\n",
       "      <td>0.550000</td>\n",
       "    </tr>\n",
       "    <tr>\n",
       "      <th>50%</th>\n",
       "      <td>1.250000</td>\n",
       "      <td>0.800000</td>\n",
       "    </tr>\n",
       "    <tr>\n",
       "      <th>75%</th>\n",
       "      <td>1.675000</td>\n",
       "      <td>0.980000</td>\n",
       "    </tr>\n",
       "    <tr>\n",
       "      <th>max</th>\n",
       "      <td>4.000000</td>\n",
       "      <td>8.700000</td>\n",
       "    </tr>\n",
       "  </tbody>\n",
       "</table>\n",
       "</div>"
      ],
      "text/plain": [
       "       Industrial  Residential\n",
       "count   10.000000    10.000000\n",
       "mean     1.666000     1.538000\n",
       "std      1.084714     2.534902\n",
       "min      0.590000     0.300000\n",
       "25%      1.100000     0.550000\n",
       "50%      1.250000     0.800000\n",
       "75%      1.675000     0.980000\n",
       "max      4.000000     8.700000"
      ]
     },
     "execution_count": 41,
     "metadata": {},
     "output_type": "execute_result"
    }
   ],
   "source": [
    "df.describe()"
   ]
  },
  {
   "cell_type": "markdown",
   "metadata": {},
   "source": [
    "Here we see that the IQR (inter-quartile range) for the residential is entirely contained within the 1st quartile of the industrial sample - an indicator that the two underlying distributions are different. But from the boxplot the two samples are still kind of close. Now lets consider hypothesis tests.\n",
    "\n",
    "## Non-Parametric Tests\n",
    "\n",
    "A non-parametric test means we make no judgement or claim of underlying distribution type.  \n",
    "Such tests do not depand on the data following some particular probability rules, but have low power to discriminate (tell if things are different) unless the data are substantially different. \n",
    "\n",
    "A common non-parametric test is a Rank-Sum test (https://www.itl.nist.gov/div898/software/dataplot/refman1/auxillar/ranksum.htm) in most statistical packages it is some version of the Mann-Whitney(https://en.wikipedia.org/wiki/Mann%E2%80%93Whitney_U_test) or Wilcoxon test https://en.wikipedia.org/wiki/Wilcoxon_signed-rank_test). Mann-Whitney is appropriate for unpaired samples; Wilcoxon for paired -- there are more tests, these are simply a start.\n",
    "\n",
    "### Mann-Whitney U test.\n",
    "The default assumption or null hypothesis is that there is no difference between the distributions of the data samples. Rejection of this hypothesis suggests that there is likely some difference between the samples. More specifically, the test determines whether it is equally likely that any randomly selected observation from one sample will be greater or less than a sample in the other distribution. If violated, it suggests differing distributions."
   ]
  },
  {
   "cell_type": "code",
   "execution_count": 42,
   "metadata": {},
   "outputs": [
    {
     "name": "stdout",
     "output_type": "stream",
     "text": [
      "statistic=23.500, p-value at rejection =0.025\n",
      "Probably different distributions\n"
     ]
    }
   ],
   "source": [
    "from scipy.stats import mannwhitneyu # import a useful non-parametric test\n",
    "stat, p = mannwhitneyu(industrial_organic_nitrogen,residential_organic_nitrogen)\n",
    "print('statistic=%.3f, p-value at rejection =%.3f' % (stat, p))\n",
    "if p > 0.05:\n",
    "    print('Probably the same distribution')\n",
    "else:\n",
    "    print('Probably different distributions')"
   ]
  },
  {
   "cell_type": "markdown",
   "metadata": {},
   "source": [
    "The reported p-value is the level of significance at rejection\n",
    "The interpretation in this example is that the null hypothesis (distributions are the same) is to be rejected at a\n",
    "significance level of $\\alpha$ = 0.05. If the p-value were larger than the significance level,\n",
    "we would not have sufficient evidence to reject the null hypothesis.\n",
    "\n",
    "A useful way to check your interpretation is to perform the test on the same data, the result should do not reject"
   ]
  },
  {
   "cell_type": "code",
   "execution_count": 43,
   "metadata": {},
   "outputs": [
    {
     "name": "stdout",
     "output_type": "stream",
     "text": [
      "statistic=50.000, p-value at rejection =0.485\n",
      "Probably the same distribution\n"
     ]
    }
   ],
   "source": [
    "stat, p = mannwhitneyu(industrial_organic_nitrogen,industrial_organic_nitrogen)\n",
    "print('statistic=%.3f, p-value at rejection =%.3f' % (stat, p))\n",
    "if p > 0.05:\n",
    "    print('Probably the same distribution')\n",
    "else:\n",
    "    print('Probably different distributions')"
   ]
  },
  {
   "cell_type": "markdown",
   "metadata": {},
   "source": [
    "A useful rule-of-thumb way to interpret p-value, is that it represents a probability that the distributions are the same.\n",
    "So in the second case just above the probability that the distribution of industrial organic nitrogen is self-similar is $2*(0.485)=0.97$, the orginal case is that the probability that the distribution of industrial organic nitrogen is the same as residential organic nitrogen is $2*(0.025)=0.05$, quite a bit smaller.  This is a gross simplification, but often helpful in remembering the meaning of p-value."
   ]
  },
  {
   "cell_type": "markdown",
   "metadata": {},
   "source": [
    "## Parametric Tests\n",
    "A parametric test means we make a judgement or requirement of underlying distribution type, often `normal`\n",
    "Such tests depend on the data following some particular probability rules, but better power to discriminate (tell if things are different) even when the data appear similar. \n",
    "\n",
    "### T-Test\n",
    "\n",
    "The t-test is a well documented procedure for comparing two sets of data. It assumes\n",
    "`normality` of the data, and this assumption is critical to defendable application of the\n",
    "test. One can compute t-statistics and make decisions from t-tables, but departure\n",
    "from normality means that the level of significance may be much different than\n",
    "expected.\n",
    "Some considerations about t-tests (as well as the rank-sum test).\n",
    "1. t-test compares means between two sets of data.\n",
    "2. t-test assumes normality of both sets of data.\n",
    "3. Both tests compare central tendency of the data. Rank-sum is probably adaptable to other location measures (i.e. P25). \n",
    "\n",
    "I am unaware if this is commonly done or not.\n",
    "The URL (https://machinelearningmastery.com/how-to-code-the-students-t-test-from-scratch-in-python/) presents the t-test statistic and a python primative implementation (it does use numpy), like before we compute a statistic from the data, compare it to a critical value, and make a decision.\n",
    "A script using an already built module is shown below, and implements much of the same decision logic as the non-parametric test."
   ]
  },
  {
   "cell_type": "code",
   "execution_count": 44,
   "metadata": {},
   "outputs": [
    {
     "name": "stdout",
     "output_type": "stream",
     "text": [
      "statistic=0.147, p-value at rejection =0.885 \n",
      "Probably the same distribution\n"
     ]
    }
   ],
   "source": [
    "from scipy import stats\n",
    "results = stats.ttest_ind(industrial_organic_nitrogen, residential_organic_nitrogen )\n",
    "print('statistic=%.3f, p-value at rejection =%.3f ' % (results[0], results[1]))\n",
    "if p > 0.05:\n",
    "    print('Probably the same distribution')\n",
    "else:\n",
    "    print('Probably different distributions')"
   ]
  },
  {
   "cell_type": "markdown",
   "metadata": {},
   "source": [
    "## An example -- Assume PAIRED \n",
    "In some cases, the data samples may be paired.\n",
    "\n",
    "There are many reasons why this may be the case, for example, the samples are related or matched in some way or represent two measurements of the same technique. More specifically, each sample is independent, but comes from the same population.\n",
    "\n",
    "Examples of paired samples in data science/machine learning might be the same algorithm evaluated on different datasets or different algorithms evaluated on exactly the same training and test data.  Usually experiments designed to test a treatment produce paired samples, the control and the treatment.\n",
    "\n",
    "The samples are no longer independent, therefore the Mann-Whitney U test cannot be used, and the T-test assuming independent is also no longer appropriate.\n",
    "\n",
    "### Wilcoxon Signed-Rank Test\n",
    "\n",
    "For a non-parametric test, the Wilcoxon signed-rank test is used, also called the Wilcoxon T test, named for Frank Wilcoxon. It is the equivalent of the paired Student T-test, but for ranked data instead of real valued data with a Gaussian distribution.\n",
    "\n",
    "The default assumption for the test, the null hypothesis, is that the two samples have the same distribution.  We can build the test in the same fashion.  In this example the pairing matters and a different outcome is inferred"
   ]
  },
  {
   "cell_type": "code",
   "execution_count": 45,
   "metadata": {},
   "outputs": [
    {
     "name": "stdout",
     "output_type": "stream",
     "text": [
      "statistic=10.000, p-value at rejection =0.074\n",
      "Probably the same distribution\n"
     ]
    }
   ],
   "source": [
    "from scipy.stats import wilcoxon # import a useful non-parametric test\n",
    "stat, p = wilcoxon(industrial_organic_nitrogen,residential_organic_nitrogen)\n",
    "print('statistic=%.3f, p-value at rejection =%.3f' % (stat, p))\n",
    "if p > 0.05:\n",
    "    print('Probably the same distribution')\n",
    "else:\n",
    "    print('Probably different distributions')"
   ]
  },
  {
   "cell_type": "markdown",
   "metadata": {},
   "source": [
    "### T-Test Paired \n",
    "Dependent t-test for paired_samples is described at (https://en.wikipedia.org/wiki/Student%27s_t-test). A similarily useful test is the Welch's T-test, which is left as an exercise. The paired T-test below is nearly the same function syntax as before"
   ]
  },
  {
   "cell_type": "code",
   "execution_count": 46,
   "metadata": {},
   "outputs": [
    {
     "name": "stdout",
     "output_type": "stream",
     "text": [
      "statistic=0.230, p-value at rejection =0.823 \n",
      "Probably the same distribution\n"
     ]
    }
   ],
   "source": [
    "results = stats.ttest_rel(industrial_organic_nitrogen, residential_organic_nitrogen)\n",
    "print('statistic=%.3f, p-value at rejection =%.3f ' % (results[0], results[1]))\n",
    "if p > 0.05:\n",
    "    print('Probably the same distribution')\n",
    "else:\n",
    "    print('Probably different distributions')"
   ]
  },
  {
   "cell_type": "code",
   "execution_count": null,
   "metadata": {},
   "outputs": [],
   "source": []
  },
  {
   "cell_type": "code",
   "execution_count": null,
   "metadata": {},
   "outputs": [],
   "source": []
  }
 ],
 "metadata": {
  "kernelspec": {
   "display_name": "Python 38",
   "language": "python",
   "name": "python38"
  },
  "language_info": {
   "codemirror_mode": {
    "name": "ipython",
    "version": 3
   },
   "file_extension": ".py",
   "mimetype": "text/x-python",
   "name": "python",
   "nbconvert_exporter": "python",
   "pygments_lexer": "ipython3",
   "version": "3.8.3"
  }
 },
 "nbformat": 4,
 "nbformat_minor": 4
}
