{
 "cells": [
  {
   "cell_type": "markdown",
   "metadata": {},
   "source": [
    "**Download** (right-click, save target as ...) this page as a jupyterlab notebook from: [Exam 1](http://54.243.252.9/engr-1330-webroot/5-ExamProblems/Exam1/Exam1/.fall2021/Exam1-Fall2021-Deploy.ipynb)\n",
    "\n",
    "___"
   ]
  },
  {
   "cell_type": "markdown",
   "metadata": {},
   "source": [
    "# ENGR 1330 Exam 1 Sec 001 Fall 2021\n",
    "---\n",
    "Instructions:\n",
    "- Work directly in this notebook, upon completion render the notebook as a PDF file.\n",
    "- Upload your solution PDF **AND** the .ipynb  (2 files) to the Blackboard repository for grading!\n",
    "- Multiple attempts are allowed in the 48-hour time window\n",
    "- Internet resources are allowed, remember to cite what you copy from elsewhere.\n",
    "- Consulting with each other is **not** permitted.\n",
    "- Sharing work with each other is **not** permitted.\n",
    "- Working together is **not** permitted.\n",
    "\n",
    "---\n",
    "\n",
    "**LAST NAME, FIRST NAME**\n",
    "\n",
    "**R00000000**\n",
    "\n",
    "ENGR 1330 Exam 1 - Take-Home"
   ]
  },
  {
   "cell_type": "markdown",
   "metadata": {},
   "source": [
    "---\n",
    "\n",
    "## Question 1 (1 pts):\n",
    "Run the cell below, and leave the results in your notebook.  \n",
    "If you get an ERROR message, leave it and continue."
   ]
  },
  {
   "cell_type": "code",
   "execution_count": 5,
   "metadata": {},
   "outputs": [
    {
     "name": "stdout",
     "output_type": "stream",
     "text": [
      "atomickitty\n",
      "sensei\n",
      "/opt/jupyterhub/bin/python3\n"
     ]
    }
   ],
   "source": [
    "#### RUN! this Cell ####\n",
    "import sys\n",
    "! hostname\n",
    "! whoami\n",
    "print(sys.executable) # OK if generates an exception message on Windows machines \n",
    "# tested ok MacOS, arm linux, x86-64 linux, Windows 10VM, Windows Server"
   ]
  },
  {
   "cell_type": "markdown",
   "metadata": {},
   "source": [
    "---\n",
    "## Question 2 (4 pts): \n",
    "\n",
    "The script below is intended to print out all the leap years from 1952 to 1996 (inclusive). \n",
    "However, the programmer keeps getting an error and has become frustrated with it! Please have a look at the code, the error(s), and the output and fix it so that it does what the user wants. Then, explain what was wrong with the script and how you have managed to fix it.  "
   ]
  },
  {
   "cell_type": "code",
   "execution_count": 6,
   "metadata": {
    "collapsed": false,
    "jupyter": {
     "outputs_hidden": false
    }
   },
   "outputs": [
    {
     "ename": "TypeError",
     "evalue": "'float' object cannot be interpreted as an integer",
     "output_type": "error",
     "traceback": [
      "\u001b[0;31m---------------------------------------------------------------------------\u001b[0m",
      "\u001b[0;31mTypeError\u001b[0m                                 Traceback (most recent call last)",
      "\u001b[0;32m<ipython-input-6-d7c12f7d99fa>\u001b[0m in \u001b[0;36m<module>\u001b[0;34m\u001b[0m\n\u001b[0;32m----> 1\u001b[0;31m \u001b[0;32mfor\u001b[0m \u001b[0myears\u001b[0m \u001b[0;32min\u001b[0m \u001b[0mrange\u001b[0m\u001b[0;34m(\u001b[0m\u001b[0;36m1952\u001b[0m\u001b[0;34m,\u001b[0m\u001b[0;36m1996\u001b[0m\u001b[0;34m,\u001b[0m\u001b[0;36m4.0\u001b[0m\u001b[0;34m)\u001b[0m\u001b[0;34m:\u001b[0m\u001b[0;34m\u001b[0m\u001b[0;34m\u001b[0m\u001b[0m\n\u001b[0m\u001b[1;32m      2\u001b[0m   \u001b[0mprint\u001b[0m\u001b[0;34m(\u001b[0m\u001b[0myears\u001b[0m\u001b[0;34m)\u001b[0m\u001b[0;34m\u001b[0m\u001b[0;34m\u001b[0m\u001b[0m\n",
      "\u001b[0;31mTypeError\u001b[0m: 'float' object cannot be interpreted as an integer"
     ]
    }
   ],
   "source": [
    "for years in range(1952,1996,4.0): \n",
    "  print(years)"
   ]
  },
  {
   "cell_type": "markdown",
   "metadata": {},
   "source": [
    "### Deliverables\n",
    "- Error-free script\n",
    "- Correct Output (years 1952,1956 .... , 1996)\n",
    "- Explain the repairs (either direct comment in the code or narrative in markdown cell)"
   ]
  },
  {
   "cell_type": "markdown",
   "metadata": {},
   "source": [
    "---\n",
    "\n",
    "## Question 3 (10 pts): \n",
    "\n",
    "The script below is intended to compute the cosine of values from 0 to 10 (inclusive), store them in a separate list called `ylist`, and ultimately print out a table. However, the programmer keeps getting an error and has become frustrated with it! Please have a look at the code, the error(s), and the output and fix it so that it does what the user wants. Then, explain what was wrong with the script and how you have managed to fix it."
   ]
  },
  {
   "cell_type": "code",
   "execution_count": null,
   "metadata": {
    "collapsed": false,
    "jupyter": {
     "outputs_hidden": false
    }
   },
   "outputs": [],
   "source": [
    "xlist = ()\n",
    "ylist = ()\n",
    "\n",
    "print(\"     Cosines     \")\n",
    "print(\"   x   \",\"|\",\" cos(x) \")\n",
    "print(\"--------|--------\")\n",
    "\n",
    "for x in range(0,10):\n",
    "    xlist.append(x*1.0)\n",
    "    ylist.append(math.cos(x*1.0))\n",
    "    print(\"%.3f\" % xlist[x], \"  |\", \" %.2f \"  % ylist[x])"
   ]
  },
  {
   "cell_type": "markdown",
   "metadata": {},
   "source": [
    "### Deliverables\n",
    "- Error-free script\n",
    "- Correct Output (a table of x and cos(x)) for x values of (0.000,1.000,...,10.000)\n",
    "- Explain the repairs (either direct comment in the code or narrative in markdown cell)"
   ]
  },
  {
   "cell_type": "markdown",
   "metadata": {},
   "source": [
    "****************************************************************************************************************"
   ]
  },
  {
   "cell_type": "markdown",
   "metadata": {},
   "source": [
    "## Question 4 (10 pts):\n",
    "\n",
    "Create a function, named `mypolynomial` that takes the single positional argument `x` as input and produces an output value `y` for the equation\n",
    "\n",
    "$$ y = -5x^5 +4sin(x)^4 -3x^3 +2cos(x)^2 -x $$\n",
    "    \n",
    "Use the function to create a pair of lists of x raging from -10 to 10 (inclusive) in steps of 0.5, and the corresponding `y` values"
   ]
  },
  {
   "cell_type": "code",
   "execution_count": null,
   "metadata": {
    "collapsed": false,
    "jupyter": {
     "outputs_hidden": false
    }
   },
   "outputs": [],
   "source": [
    "# build your script here"
   ]
  },
  {
   "cell_type": "markdown",
   "metadata": {},
   "source": [
    "### Deliverables\n",
    "- Error-free script\n",
    "- Correct Output (a plot of x and y) for x values of (-10.0,-9.5,...,10.0)\n",
    "   - Correct color for curve\n",
    "   - Correct line style\n",
    "   - Correct marker type\n",
    "   - Axes labels meaningful \n",
    "   - Plot title meaningful"
   ]
  },
  {
   "cell_type": "markdown",
   "metadata": {},
   "source": [
    "---\n",
    "\n",
    "## Question 5 (10 pts): Time is on my side, or is it?\n",
    "\n",
    "\n",
    "<img src=\"https://upload.wikimedia.org/wikipedia/commons/8/88/World_Time_Zones_Map.png\" width=\"500\">\n",
    "\n",
    "When it is 8:00 in Lubbock,\n",
    "   - It is 9:00 in New York\n",
    "   - It is 14:00 in London\n",
    "   - It is 15:00 in Cairo\n",
    "   - It is 16:00 in Istanbul\n",
    "   - It is 19:00 in Hyderabad\n",
    "   - It is 22:00 in Tokyo <br>\n",
    "\n",
    "Write a function that reports the time in New York, London, Cairo, Istanbul, Hyderabad, and Tokyo based on the time in Lubbock. Use a 24-hour time format. Include error trapping that:<br>\n",
    "\n",
    "1. Issues a message like \"Please Enter A Number from 00 to 23\" if the first input is numeric but outside the range of [0,23].<br>\n",
    "2. Takes any numeric input for \"Lubbock time\" selection , and forces it into an integer.<br>\n",
    "3. Issues an appropriate message if the user's selection is non-numeric.<br>\n",
    "\n",
    "Test your function for these times:\n",
    "- 8:00\n",
    "- 15:00\n",
    "- 0:00"
   ]
  },
  {
   "cell_type": "code",
   "execution_count": null,
   "metadata": {},
   "outputs": [],
   "source": [
    "# script goes here"
   ]
  },
  {
   "cell_type": "markdown",
   "metadata": {},
   "source": [
    "### Deliverables\n",
    "- Error-free script\n",
    "- Runs that demonstrate:\n",
    "  - Initial prompt for input\n",
    "  - Detect non-numeric entry issues message\n",
    "  - Detect numeric entry, if acceptable perform time conversions\n",
    "- Runs (3) for the requested times\n",
    "\n",
    "---"
   ]
  },
  {
   "cell_type": "markdown",
   "metadata": {},
   "source": [
    "## Question 6 (15 pts):\n",
    "\n",
    "Recall our treasure hunt problem. In the lessons and laboratory we did complete searching of the map to find the treasure, but the real problem is to use the clues to guide the search.\n",
    "\n",
    "*The \"Treasure Hunt Problem\" is from the HackerRank.com avaiable at https://www.hackerrank.com/contests/startatastartup/challenges/treasure-hunt*\n",
    "\n",
    "#### Tresure Hunt Problem\n",
    "                  +-------------------------+\n",
    "                  ¦ 34 ¦ 21 ¦ 32 ¦ 41 ¦ 25  ¦\n",
    "                  +----+----+----+----+-----¦\n",
    "                  ¦ 14 ¦ 42 ¦ 43 ¦ 14 ¦ 31  ¦\n",
    "                  +----+----+----+----+-----¦\n",
    "                  ¦ 54 ¦ 45 ¦ 52 ¦ 42 ¦ 23  ¦\n",
    "                  +----+----+----+----+-----¦\n",
    "                  ¦ 33 ¦ 15 ¦ 51 ¦ 31 ¦ 35  ¦\n",
    "                  +----+----+----+----+-----¦\n",
    "                  ¦ 21 ¦ 52 ¦ 33 ¦ 13 ¦ 23  ¦\n",
    "                  +-------------------------+\n",
    "\n",
    "Write a script to explore the above array for a treasure. The values in the array are clues. Each cell contains an integer between 11 and 55; for each value the ten's digit represents the row number and the unit's digit represents the column number of the cell containing the next clue. Starting in the upper left corner (at 1,1), use the clues to guide your search of the array. (The first three steps are 11 -> 34 -> 42). The treasure is a cell whose value is the same as its coordinates. Your program must first read in the treasure map data into a 5 by 5 array. The treasure map is located at [http://54.243.252.9/engr-1330-webroot/8-Labs/Lab07/treasure1.txt](http://54.243.252.9/engr-1330-webroot/8-Labs/Lab07/treasure1.txt).\n",
    "Your program should output the cells it visits during its search, and a message indicating where you found the treasure."
   ]
  },
  {
   "cell_type": "code",
   "execution_count": null,
   "metadata": {},
   "outputs": [],
   "source": [
    "# put your algorithm here\n",
    "# create storage for the map\n",
    "# read in the data from the file\n",
    "# start at 1,1 and follow the clues\n",
    "# message of cell visited, is there a treasure ?\n",
    "# stop when find a treasure."
   ]
  },
  {
   "cell_type": "markdown",
   "metadata": {},
   "source": [
    "### Deliverables\n",
    "- Error-free script\n",
    "- Run that demonstrates:\n",
    "  - Read map from a file\n",
    "  - Navigates to treasure by following the clues (not enumerative search of the 2D list)\n",
    "  - Detect treasure, report the find, then stop searching\n",
    "  - Report no find, if there is no treasure\n"
   ]
  },
  {
   "cell_type": "markdown",
   "metadata": {},
   "source": [
    "---\n",
    "\n",
    "## Question 7 (15 pts) : Turn up the volume!\n",
    "\n",
    "<img src=\"https://sciencenotes.org/wp-content/uploads/2020/09/what-is-volume.jpg\" width=\"500\"> \n",
    "\n",
    "\n",
    "Create a VOLUME Function to compute the volume of Cylinders, Spheres, Cones, and Rectangular Boxes. This function should:\n",
    "- First, ask the user about __the shape of the object__ of interest using something like:<br>\n",
    "   - *\"Please choose the shape of the object. Enter 1 for \"Cylinder\", 2 for \"Sphere\", 3 for \"Cone\", or 4 for \"Rectangular Box\"\"*<br>\n",
    "- Second, based on user's choice in the previous step, __ask for the necessary inputs__.\n",
    "- Third, print out an statement with __the input values and the calculated volumes__.\n",
    "\n",
    "#### Include error trapping that:\n",
    "\n",
    "1. Issues a message that *\"The object should be either a Cylinder, a Sphere, a Cone, or a Rectangular Box. Please Enter A Number from 1,2,3, and 4!\"* if the first input is non-numeric.\n",
    "2. Takes any numeric input for the initial selection , and force it into an integer.\n",
    "4. Issues an appropriate message if the user's selection is numeric but outside the range of [1,4]\n",
    "3. Takes any numeric input for the shape characteristics , and force it into a float.\n",
    "4. Issues an appropriate message if the object characteristics are as non-numerics.\n",
    "\n",
    "#### Test the script for:\n",
    "1. Sphere, r=10\n",
    "2. Cylinder , r=3, h=10\n",
    "3. Rectangular Box, w=5, h=10, l=0.5\n",
    "\n",
    "\n",
    "- <font color=orange>__Volume of a Cylinder = πr²h__</font>\n",
    "- <font color=orange>__Volume of a Sphere = 4(πr3)/3__</font>\n",
    "- <font color=orange>__Volume of a Cone = (πr²h)/3__</font>\n",
    "- <font color=orange>__Volume of a Rectangular Box = whl__</font>"
   ]
  },
  {
   "cell_type": "code",
   "execution_count": null,
   "metadata": {},
   "outputs": [],
   "source": [
    "# script goes here"
   ]
  },
  {
   "cell_type": "markdown",
   "metadata": {},
   "source": [
    "### Deliverables\n",
    "- Error-free script\n",
    "- Runs that demonstrate:\n",
    "  - Initial prompt for input\n",
    "    - Message for incorrect inputs\n",
    "  - Secondary prompt for input based on shape\n",
    "      - Message for incorrect inputs\n",
    "  - Compute and report values\n",
    "- Runs (3) for the requested shapes\n",
    "\n",
    "---"
   ]
  },
  {
   "cell_type": "markdown",
   "metadata": {},
   "source": [
    "## Bonus Question: WHERE'S WALDO?\n",
    "\n",
    "<img src=\"http://alfalfastudio.com/wp-content/uploads/2020/01/Waldo_Header.jpg\" width=\"500\"> <br>\n",
    "\n",
    "\n",
    "A function is required to look at any given list, look for Waldo, and report whether Waldo is in the list or not. If he is, then his position (the index number) should be reported.\n",
    "\n",
    "*Hint: This is exactly like the JTOI function in lab, just change a few parts to find waldo!*\n",
    "\n",
    "1. Write an appropriate pseudocode for the this function. \n",
    "2. Write an appropriate code for this function. Make sure to add comments to make your code easy to understand. \n",
    "3. Test your code for the following objects:\n",
    "\n",
    "- list1 = [15,\"Wally\",54.3,\"Osvaldo\"]\n",
    "- list2 = [\"Waldo\",\"Wald\",2]\n",
    "- list3 = [1,2,3,4,5,6,7,8,\"WALDO\",10]\n"
   ]
  },
  {
   "cell_type": "code",
   "execution_count": null,
   "metadata": {},
   "outputs": [],
   "source": []
  }
 ],
 "metadata": {
  "kernelspec": {
   "display_name": "Python 3",
   "language": "python",
   "name": "python3"
  },
  "language_info": {
   "codemirror_mode": {
    "name": "ipython",
    "version": 3
   },
   "file_extension": ".py",
   "mimetype": "text/x-python",
   "name": "python",
   "nbconvert_exporter": "python",
   "pygments_lexer": "ipython3",
   "version": "3.8.10"
  }
 },
 "nbformat": 4,
 "nbformat_minor": 4
}
