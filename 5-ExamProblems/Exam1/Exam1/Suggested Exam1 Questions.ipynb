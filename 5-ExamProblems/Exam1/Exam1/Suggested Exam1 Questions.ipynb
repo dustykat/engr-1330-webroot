{
 "cells": [
  {
   "cell_type": "markdown",
   "metadata": {},
   "source": [
    "# <font color=red>Suggested EXAM 1 Questions </font>\n",
    "\n"
   ]
  },
  {
   "cell_type": "markdown",
   "metadata": {},
   "source": [
    "___\n",
    "___\n",
    "## <font color=blue>In-Class Portion</font>"
   ]
  },
  {
   "cell_type": "markdown",
   "metadata": {},
   "source": [
    "### 1. If I run the following in a code cell in Jupyter notebook what will I see: <br>\n",
    "\n",
    "> type(4.2e-4)\n",
    "\n",
    " A) NA  <br>\n",
    " B) int <br>\n",
    " C) A pink box of error <br>\n",
    " D) float <br>\n",
    " \n",
    "#### Correct Answer: D"
   ]
  },
  {
   "cell_type": "markdown",
   "metadata": {},
   "source": [
    "### 2. True or False: 4 and 4.0 are not the same in python. <br>\n",
    "\n",
    "\n",
    " A) TRUE  <br>\n",
    " B) FALSE <br>\n",
    " \n",
    "#### Correct Answer: A"
   ]
  },
  {
   "cell_type": "markdown",
   "metadata": {},
   "source": [
    "### 3. Which one is a valid variable name in Python? <br>\n",
    "\n",
    "\n",
    " A) \"007\"  <br>\n",
    " B) \"R2D2\" <br>\n",
    " C) \"#CR7\" <br>\n",
    " D) \"lambda\" <br>\n",
    " \n",
    "#### Correct Answer: B"
   ]
  },
  {
   "cell_type": "markdown",
   "metadata": {},
   "source": [
    "### 4. Which one is FALSE about tuples? <br>\n",
    "\n",
    "\n",
    " A) A tuple is a kind of array  <br>\n",
    " B) A tuple is a data structure in python <br>\n",
    " C) Tuples are immutable <br>\n",
    " D) Tuples cannot hold more than one data type <br>\n",
    " \n",
    "#### Correct Answer: D"
   ]
  },
  {
   "cell_type": "markdown",
   "metadata": {},
   "source": [
    "### 5. Which one is correct about dictionaries? <br>\n",
    "\n",
    "\n",
    " A) In a dictionary, number of keys should always be higher than the number of data   <br>\n",
    " B) A dictionary cannot hold lists as data <br>\n",
    " C) Keys should be unique in a dictionary <br>\n",
    " D) Data should be unique in a dictionary <br>\n",
    " \n",
    "#### Correct Answer: C"
   ]
  },
  {
   "cell_type": "markdown",
   "metadata": {},
   "source": [
    "### 6. True or False: All lists are arrays but not all arrays are lists. <br>\n",
    "\n",
    "\n",
    " A) TRUE  <br>\n",
    " B) FALSE <br>\n",
    " \n",
    "#### Correct Answer: A"
   ]
  },
  {
   "cell_type": "markdown",
   "metadata": {},
   "source": [
    "### 7. Which one is a basic type of control structures? <br>\n",
    "\n",
    "\n",
    " A) List   <br>\n",
    " B) Dictionary <br>\n",
    " C) Sequence <br>\n",
    " D) Pseudocode <br>\n",
    " \n",
    "#### Correct Answer: C"
   ]
  },
  {
   "cell_type": "markdown",
   "metadata": {},
   "source": [
    "### 8. A number \"x\" that satisfies this is an even number: <br>\n",
    "\n",
    "\n",
    " A) x % 2 != 0 <br>\n",
    " B) x % 2 == 0 <br>\n",
    " C) x // 2 == 0 <br>\n",
    " D) x / 2 != 0 <br>\n",
    " \n",
    "#### Correct Answer: B"
   ]
  },
  {
   "cell_type": "markdown",
   "metadata": {},
   "source": [
    "### 9. True or False: The order of lines does not impact the outcome of a sequence in Python <br>\n",
    "\n",
    "\n",
    " A) TRUE  <br>\n",
    " B) FALSE <br>\n",
    " \n",
    "#### Correct Answer: B"
   ]
  },
  {
   "cell_type": "markdown",
   "metadata": {},
   "source": [
    "### 10. Which structure is more appropriate for the case below? <br>\n",
    "\n",
    "> If a number is divisible by 3, print \"That's odd!\"\n",
    "\n",
    "\n",
    " A) Simple IF <br>\n",
    " B) IF-ELSE <br>\n",
    " C) IF-ELIF-ELSE <br>\n",
    " D) Nested IF <br>\n",
    " \n",
    "#### Correct Answer: A"
   ]
  },
  {
   "cell_type": "markdown",
   "metadata": {},
   "source": [
    "### 11. True or False: A programming structure that implements iteration is called a loop. <br>\n",
    "\n",
    "\n",
    " A) TRUE  <br>\n",
    " B) FALSE <br>\n",
    " \n",
    "#### Correct Answer: A"
   ]
  },
  {
   "cell_type": "markdown",
   "metadata": {},
   "source": [
    "### 12. Which structure is more appropriate for the case below? <br>\n",
    "\n",
    "> Start counting from 0 and keep adding numbers until a number is found that is equal to its previous number multiplied by 2 minus 5.\n",
    "\n",
    "\n",
    "\n",
    " A) Count Controlled Repetition <br>\n",
    " B) Sentinel Controlled Repetition <br>\n",
    " C) Definite Iteration <br>\n",
    " D) None. <br>\n",
    " \n",
    "#### Correct Answer: B"
   ]
  },
  {
   "cell_type": "markdown",
   "metadata": {},
   "source": [
    "### 13. Which statement should be used if we want to terminate the current loop iteration and jump to the top of the loop? <br>\n",
    "\n",
    "\n",
    "\n",
    "\n",
    " A) break <br>\n",
    " B) resume <br>\n",
    " C) skip <br>\n",
    " D) continue <br>\n",
    " \n",
    "#### Correct Answer: D"
   ]
  },
  {
   "cell_type": "markdown",
   "metadata": {},
   "source": [
    "### 14. Which one is a reason for \"Error Trapping\"? <br>\n",
    "\n",
    "\n",
    "\n",
    "\n",
    " A) Troubleshooting <br>\n",
    " B) Identifying the nature of the error for a code <br>\n",
    " C) Handling exceptions <br>\n",
    " D) Testing the quality of a code <br>\n",
    " \n",
    "#### Correct Answer: C"
   ]
  },
  {
   "cell_type": "markdown",
   "metadata": {},
   "source": [
    "### 15. Which one is an appropriate definition for \"Iterable\"? <br>\n",
    "\n",
    "\n",
    "\n",
    "\n",
    " A) The process of looping through the objects or items in a collection <br>\n",
    " B) An object that can be iterated over <br>\n",
    " C) The object that produces successive items or values from its associated iterable <br>\n",
    " D) The built-in function used to obtain an iterator from an iterable <br>\n",
    " \n",
    "#### Correct Answer: B"
   ]
  },
  {
   "cell_type": "markdown",
   "metadata": {},
   "source": [
    "### 16. Which one is correct about the \"range(a, b, c)\" function? <br>\n",
    "\n",
    "\n",
    "\n",
    "\n",
    " A) it returns an iterable that yields integers starting with a, up to but not including b. <br>\n",
    " B) The default value of c is 0  <br>\n",
    " C) it returns an object of class \"list\" <br>\n",
    " D) a,b,c can be integers or floats <br>\n",
    " \n",
    "#### Correct Answer: A"
   ]
  },
  {
   "cell_type": "markdown",
   "metadata": {},
   "source": [
    "### 17. True or False: In programming, a function is a block of code which only runs automatically when the notebook is loaded. <br>\n",
    "\n",
    "\n",
    " A) TRUE  <br>\n",
    " B) FALSE <br>\n",
    " \n",
    "#### Correct Answer: B"
   ]
  },
  {
   "cell_type": "markdown",
   "metadata": {},
   "source": [
    "### 18. Which function converts a float to an integer? <br>\n",
    "\n",
    "\n",
    "\n",
    "\n",
    " A) float() <br>\n",
    " B) int()  <br>\n",
    " C) convert() <br>\n",
    " D) none <br>\n",
    " \n",
    "#### Correct Answer: B"
   ]
  },
  {
   "cell_type": "markdown",
   "metadata": {},
   "source": [
    "### 19. Which option cannot be used to define a dictionary? <br>\n",
    "\n",
    "\n",
    "\n",
    "\n",
    " A) dict() <br>\n",
    " B) {}  <br>\n",
    " C) () <br>\n",
    " D) A and B <br>\n",
    " \n",
    "#### Correct Answer: B"
   ]
  },
  {
   "cell_type": "markdown",
   "metadata": {},
   "source": [
    "### 17. True or False: When defining a function in Python, parameters must be seperated by a colon. <br>\n",
    "\n",
    "\n",
    " A) TRUE  <br>\n",
    " B) FALSE <br>\n",
    " \n",
    "#### Correct Answer: B"
   ]
  },
  {
   "cell_type": "markdown",
   "metadata": {},
   "source": [
    "### 19. Which statement is correct about the following code? <br>\n",
    "\n",
    "     x = \"variable 1\" \n",
    "     def Function():    \n",
    "        x = 2\n",
    "        y = \"variable 2\" \n",
    "        print(y)\n",
    "     print(x)\n",
    "\n",
    "\n",
    "\n",
    " A) \"y\" is a global variable <br>\n",
    " B) print(x) will return: 2   <br>\n",
    " C) print(x) will return: \"variable 1\" <br>\n",
    " D) None <br>\n",
    " \n",
    "#### Correct Answer: C"
   ]
  },
  {
   "cell_type": "markdown",
   "metadata": {},
   "source": [
    "### 20. Which one is the operator for modulo in Python? <br>\n",
    "\n",
    "\n",
    "\n",
    " A) // <br>\n",
    " B) /   <br>\n",
    " C) %% <br>\n",
    " D) % <br>\n",
    " \n",
    "#### Correct Answer: D"
   ]
  },
  {
   "cell_type": "markdown",
   "metadata": {},
   "source": [
    "___\n",
    "___\n",
    "## <font color=blue>Take-Home Portion</font>"
   ]
  },
  {
   "cell_type": "markdown",
   "metadata": {},
   "source": [
    "## Full name: \n",
    "## R#: \n",
    "## Title of the notebook:\n",
    "## Date: "
   ]
  },
  {
   "cell_type": "markdown",
   "metadata": {},
   "source": [
    "> # <font color=darkred>Important Notes: </font> <br>\n",
    "> ### 1. Please make sure that you have your information ***in the box above!***\n",
    "> ### 2. You ***CAN*** use your ***notes, notebooks, your best friend: Google, and the internet.*** \n",
    "> ### 3. You ***CAN NOT*** collaborate in any ways or forms with anyone. It is and will be considered as cheating.\n",
    "> ### 4. Please ***READ the questions CAREFULLY.*** \n",
    "> ### 5. Then, ***READ the questions again.*** \n",
    "> ### 6. ***Provide comments*** for your codes. Your code should be ***readable for someone with very basic Python skills.***\n",
    "> ### 7. If you are using the resources on the internet, make sure to ***observe all the steps of the CCMR process: Copy, Cite, Modifty, and Run.***\n",
    "> ### 8. YOU NEED TO SUBMIT YOUR ***NOTEBOOK (.ipynb file) AND ITS PDF (.pdf file)*** on ***Blackboard before the deadline.***\n"
   ]
  },
  {
   "cell_type": "markdown",
   "metadata": {},
   "source": [
    "___\n",
    "# Question 1: The Bed of Procrustes\n",
    "\n",
    "\n",
    "#### Procrustes (AKA Polypemon, Damastes, or Procoptas) in Greek legend, is a robber dwelling somewhere in Attica. Procrustes had an iron bed on which he compelled his victims to lie. Here, ***if a victim was shorter than the bed, he stretched him by hammering or racking the body to fit. Alternatively, if the victim was longer than the bed, he cut off the legs to make the body fit the bed’s length.*** In either event the victim died. \n",
    "\n",
    "![](https://lh3.googleusercontent.com/proxy/iMLBB-wr7oXy3feUNBgBUSTenGVACnzOFxB2V4r-fISE7b1gbQqY97LfV2KmjYgH5jcjwbuP-52niznpVALcSpxyek0qzudSuvdaGakcyVnVIFVdo3rArCE6fZc) <br>\n",
    "\n",
    "\n",
    "\n",
    "#### The ***“bed of Procrustes,”*** or ***“Procrustean bed,”*** has become proverbial for arbitrarily—and perhaps ruthlessly—forcing someone or something to fit into an unnatural scheme or pattern.\n",
    "\n",
    "#### To end on a rather happy note: Ultimately Procrustes was slain by his own method by the young Attic hero Theseus, who as a young man slayed robbers and monsters whom he encountered while traveling from Trozen to Athens.\n",
    "\n",
    "*source: Brittanica (https://www.britannica.com/topic/Procrustes)\n",
    "___\n",
    "\n",
    "### In another not so well-known version of the story, it is said that Procrustes used a Python function to decide what to do with each guest (victim). This function would take the height of the guest as input and tells Procrustes what to do based on a comparison of that height and the length of the bed. If we assume that Procrustes's bed has a length of 70\":\n",
    "\n",
    "#### A) Write an appropriate pseudocode for the Procrustes' function. \n",
    "#### B) Write an appropriate code for the Procrustes' function. Make sure to add comments to make your code easy to understand. \n",
    "#### C) Test your code for Achilles who is 90\", Bakchos who is 65\", and Theseus who is 70\" ! \n",
    "\n"
   ]
  },
  {
   "cell_type": "markdown",
   "metadata": {},
   "source": [
    "# A\n",
    "1. Get the guest's height (h) in inches\n",
    "2. Compare h with the length of the Procrustes's bed (L= 70\"). \n",
    "3. If h>L, make an statement: \"Some cuts are in order\"\n",
    "4. If h<L, make an statement: \"Well... Time to stretch!\"\n",
    "5. If h=L, make an statement: \"This can't be right! I will come back with another measuring tape!\" "
   ]
  },
  {
   "cell_type": "code",
   "execution_count": 39,
   "metadata": {},
   "outputs": [],
   "source": [
    "# B\n",
    "\n",
    "def Procrustes(h):\n",
    "    L = 70\n",
    "    if h>L:\n",
    "        print(\"Some cuts are in order\")\n",
    "    elif h<L:\n",
    "        print(\"Well... Time to stretch!\")\n",
    "    else:\n",
    "        print(\"This can't be right! I will come back with another measuring tape!\")"
   ]
  },
  {
   "cell_type": "code",
   "execution_count": 40,
   "metadata": {},
   "outputs": [
    {
     "name": "stdout",
     "output_type": "stream",
     "text": [
      "Some cuts are in order\n"
     ]
    }
   ],
   "source": [
    "# C1\n",
    "Procrustes(90)"
   ]
  },
  {
   "cell_type": "code",
   "execution_count": 41,
   "metadata": {},
   "outputs": [
    {
     "name": "stdout",
     "output_type": "stream",
     "text": [
      "Well... Time to stretch!\n"
     ]
    }
   ],
   "source": [
    "# C2\n",
    "Procrustes(65)"
   ]
  },
  {
   "cell_type": "code",
   "execution_count": 42,
   "metadata": {},
   "outputs": [
    {
     "name": "stdout",
     "output_type": "stream",
     "text": [
      "This can't be right! I will come back with another measuring tape!\n"
     ]
    }
   ],
   "source": [
    "# C3\n",
    "Procrustes(70)"
   ]
  },
  {
   "cell_type": "markdown",
   "metadata": {},
   "source": [
    "___\n",
    "# Question 2: It's only a matter of time, or is it?\n",
    "\n",
    "![](https://upload.wikimedia.org/wikipedia/commons/8/88/World_Time_Zones_Map.png) <br>\n",
    "\n",
    "\n",
    "#### When it is 08:00 in Lubbock:\n",
    "- It is 09:00 in New York \n",
    "- It is 14:00 in London \n",
    "- It is 15:00 in Cairo \n",
    "- It is 16:00 in Istanbul \n",
    "- It is 19:00 in Hyderabad and \n",
    "- It is 22:00 in Tokyo.\n",
    "\n",
    "#### Write a function that reports the time in New York, London, Cairo, Istanbul, Hyderabad, and Tokyo based on the time in Lubbock. Use a 24-hour time format. Include error trapping that:\n",
    "\n",
    "1. Issues a message like “Please Enter A Number from 00 to 23” if the first input is numeric but outside the range of [0,23].\n",
    "2. Takes any numeric input for “Lubbock time” selection , and forces it into an integer.\n",
    "3. Issues an appropriate message if the user’s selection is non-numeric\n",
    "\n",
    "#### Test your function for these times: - 8:00 - 15:00 - 0:00\n",
    "\n",
    "\n",
    "\n",
    "\n"
   ]
  },
  {
   "cell_type": "code",
   "execution_count": 50,
   "metadata": {},
   "outputs": [],
   "source": [
    "#Suggested Solution:\n",
    "\n",
    "def LBBtime():\n",
    "    try:\n",
    "        LBK = int(input('What hour is it in Lubbock?- Please enter a number from 0 to 23'))\n",
    "        if LBK>23:\n",
    "            print('Please Enter A Number from 00 to 23')\n",
    "        if LBK<23 and LBK>=0:\n",
    "            if LBK+1 >24:\n",
    "                print(\"Time in New York is\",LBK+1-12,\":00\")\n",
    "            else:\n",
    "                print(\"Time in New York is\",LBK+1,\":00\")\n",
    "            if LBK+6 >24:\n",
    "                print(\"Time in London is\",LBK+6-12,\":00\")\n",
    "            else:\n",
    "                print(\"Time in London is\",LBK+6,\":00\")\n",
    "            if LBK+7 >24:\n",
    "                print(\"Time in Cairo is\",LBK+7-12,\":00\")\n",
    "            else:\n",
    "                print(\"Time in Cairo is\",LBK+7,\":00\")                \n",
    "            if LBK+8 >24:\n",
    "                print(\"Time in Istanbul is\",LBK+8-12,\":00\")\n",
    "            else:\n",
    "                print(\"Time in Istanbul is\",LBK+8,\":00\")                \n",
    "            if LBK+11 >24:\n",
    "                print(\"Time in Hyderabad is\",LBK+11-12,\":00\")\n",
    "            else:\n",
    "                print(\"Time in Hyderabad is\",LBK+11,\":00\")                \n",
    "            if LBK+14 >24:\n",
    "                print(\"Time in Tokyo is\",LBK+14-12,\":00\")\n",
    "            else:\n",
    "                print(\"Time in Tokyo is\",LBK+14,\":00\")                  \n",
    "            return #null return\n",
    "    except:\n",
    "        print(\"Please Enter an Appropriate Input\")"
   ]
  },
  {
   "cell_type": "code",
   "execution_count": 55,
   "metadata": {},
   "outputs": [
    {
     "name": "stdin",
     "output_type": "stream",
     "text": [
      "What hour is it in Lubbock?- Please enter a number from 0 to 23 8\n"
     ]
    },
    {
     "name": "stdout",
     "output_type": "stream",
     "text": [
      "Time in New York is 9 :00\n",
      "Time in London is 14 :00\n",
      "Time in Cairo is 15 :00\n",
      "Time in Istanbul is 16 :00\n",
      "Time in Hyderabad is 19 :00\n",
      "Time in Tokyo is 22 :00\n"
     ]
    }
   ],
   "source": [
    "LBBtime()"
   ]
  },
  {
   "cell_type": "code",
   "execution_count": 56,
   "metadata": {},
   "outputs": [
    {
     "name": "stdin",
     "output_type": "stream",
     "text": [
      "What hour is it in Lubbock?- Please enter a number from 0 to 23 15\n"
     ]
    },
    {
     "name": "stdout",
     "output_type": "stream",
     "text": [
      "Time in New York is 16 :00\n",
      "Time in London is 21 :00\n",
      "Time in Cairo is 22 :00\n",
      "Time in Istanbul is 23 :00\n",
      "Time in Hyderabad is 14 :00\n",
      "Time in Tokyo is 17 :00\n"
     ]
    }
   ],
   "source": [
    "LBBtime()"
   ]
  },
  {
   "cell_type": "code",
   "execution_count": 57,
   "metadata": {},
   "outputs": [
    {
     "name": "stdin",
     "output_type": "stream",
     "text": [
      "What hour is it in Lubbock?- Please enter a number from 0 to 23 0\n"
     ]
    },
    {
     "name": "stdout",
     "output_type": "stream",
     "text": [
      "Time in New York is 1 :00\n",
      "Time in London is 6 :00\n",
      "Time in Cairo is 7 :00\n",
      "Time in Istanbul is 8 :00\n",
      "Time in Hyderabad is 11 :00\n",
      "Time in Tokyo is 14 :00\n"
     ]
    }
   ],
   "source": [
    "LBBtime()"
   ]
  },
  {
   "cell_type": "markdown",
   "metadata": {},
   "source": [
    "___\n",
    "# Question 3:WHERE'S WALDO?\n",
    "\n",
    "![](http://alfalfastudio.com/wp-content/uploads/2020/01/Waldo_Header.jpg) <br>\n",
    "\n",
    "\n",
    "## A function is required to look at any given list, look for Waldo, and report whether Waldo is in the list or not. If he is, then his position (the index number) should be reported.\n",
    "\n",
    "#### A) Write an appropriate pseudocode for the this function. \n",
    "#### B) Write an appropriate code for this function. Make sure to add comments to make your code easy to understand. \n",
    "#### C) Test your code for the following objects:\n",
    "- list1 = [15,\"Wally\",54.3,\"Osvaldo\"]\n",
    "- list2 = [\"Waldo\",\"Wald\",2]\n",
    "- list3 = [1,2,3,4,5,6,7,8,\"WALDO\",10]\n",
    "\n",
    "\n",
    "\n"
   ]
  },
  {
   "cell_type": "markdown",
   "metadata": {},
   "source": [
    "# A\n",
    "1. Get the list of obejct from users\n",
    "2. Iterate over the list \n",
    "3. If \"Waldo\", \"WALDO\", and \"waldo\" were found, make an statement: \"Here's Waldo!\"\n",
    "4. If \"Waldo\", \"WALDO\", and \"waldo\" were found, print their index.\n",
    "5. If not, make an statement: \"Waldo's not here!\" "
   ]
  },
  {
   "cell_type": "code",
   "execution_count": 77,
   "metadata": {},
   "outputs": [],
   "source": [
    "# B\n",
    "def Waldo(l):\n",
    "    print (\"This list has \",len(l),\"objects. Let's look for Waldo!\")\n",
    "    for i in range(0,len(l),1):\n",
    "         if l[i]==\"Waldo\":\n",
    "            print(\"Here's Waldo!\")\n",
    "            print(\"Waldo is at index \",i)\n",
    "         elif l[i]==\"WALDO\":\n",
    "            print(\"Here's Waldo!\")\n",
    "            print(\"Waldo is at index \",i)\n",
    "         elif l[i]==\"waldo\":\n",
    "            print(\"Here's Waldo!\")\n",
    "            print(\"Waldo is at index \",i)\n",
    "         else:\n",
    "            print(\"Waldo's not here!\")"
   ]
  },
  {
   "cell_type": "code",
   "execution_count": 78,
   "metadata": {},
   "outputs": [
    {
     "name": "stdout",
     "output_type": "stream",
     "text": [
      "This list has  4 objects. Let's look for Waldo!\n",
      "Waldo's not here!\n",
      "Waldo's not here!\n",
      "Waldo's not here!\n",
      "Waldo's not here!\n"
     ]
    }
   ],
   "source": [
    "# C\n",
    "Waldo([15,\"Wally\",54.3,\"Osvaldo\"])"
   ]
  },
  {
   "cell_type": "code",
   "execution_count": 79,
   "metadata": {},
   "outputs": [
    {
     "name": "stdout",
     "output_type": "stream",
     "text": [
      "This list has  3 objects. Let's look for Waldo!\n",
      "Here's Waldo!\n",
      "Waldo is at index  0\n",
      "Waldo's not here!\n",
      "Waldo's not here!\n"
     ]
    }
   ],
   "source": [
    "Waldo([\"Waldo\",\"Wald\",2])"
   ]
  },
  {
   "cell_type": "code",
   "execution_count": 80,
   "metadata": {},
   "outputs": [
    {
     "name": "stdout",
     "output_type": "stream",
     "text": [
      "This list has  10 objects. Let's look for Waldo!\n",
      "Waldo's not here!\n",
      "Waldo's not here!\n",
      "Waldo's not here!\n",
      "Waldo's not here!\n",
      "Waldo's not here!\n",
      "Waldo's not here!\n",
      "Waldo's not here!\n",
      "Waldo's not here!\n",
      "Here's Waldo!\n",
      "Waldo is at index  8\n",
      "Waldo's not here!\n"
     ]
    }
   ],
   "source": [
    "Waldo([1,2,3,4,5,6,7,8,\"WALDO\",10])"
   ]
  },
  {
   "cell_type": "markdown",
   "metadata": {},
   "source": [
    "___\n",
    "# Question 3: A Dictionary to Rule Them All!\n",
    "\n",
    "![](https://i.etsystatic.com/7019867/r/il/d7af4b/1532760851/il_fullxfull.1532760851_6ldz.jpg) <br>\n",
    "\n",
    "\n",
    "| Location    |  Character  |\n",
    "| ----------- | ----------- |\n",
    "| Shire      | Bilbo Baggins       |\n",
    "| Mordor      | Witch-King of Angmar       |\n",
    "| Isengard      | Saruman       |\n",
    "| Shire      | Frodo Baggins       |\n",
    "| Rohan      | Eowyn       |\n",
    "| Isengard      | Treebeard       |\n",
    "| Mordor      | Sauron       |\n",
    "| Rivendell      | Elrond       |\n",
    "| Shire      | Samwise Gamgee       |\n",
    "| Rohan      | Theoden       |\n",
    "| Shire      | Pippin Took       |\n",
    "| Mordor      | Ratbag       |\n",
    "\n",
    "\n",
    "\n",
    "\n",
    "\n",
    "### A) Define a dictionary for the table above. Use a proper structure to store the information. <br>\n",
    "### B) Justify your choice of keys and data. <br>\n",
    "### C) Locate Sauron in your dictionary and print it.\n"
   ]
  },
  {
   "cell_type": "code",
   "execution_count": 81,
   "metadata": {},
   "outputs": [],
   "source": [
    "# A\n",
    "LOTR = {\"shire\":[\"Bilbo Baggins\",\"Frodo Baggins\",\"Samwise Gamgee\",\"Pippin Took\"],\"Mordor\":[\"Witch-King of Angmar\",\"Sauron\",\"Ratbag\"],\"Isengard\":[\"Saruman\",\"Treebeard\"],\"Rohan\":[\"Eowyn\",\"Theoden\"],\"Rivendell\":\"Elrond\"}"
   ]
  },
  {
   "cell_type": "code",
   "execution_count": 82,
   "metadata": {},
   "outputs": [
    {
     "name": "stdout",
     "output_type": "stream",
     "text": [
      "{'shire': ['Bilbo Baggins', 'Frodo Baggins', 'Samwise Gamgee', 'Pippin Took'], 'Mordor': ['Witch-King of Angmar', 'Sauron', 'Ratbag'], 'Isengard': ['Saruman', 'Treebeard'], 'Rohan': ['Eowyn', 'Theoden'], 'Rivendell': 'Elrond'}\n"
     ]
    }
   ],
   "source": [
    "print(LOTR)"
   ]
  },
  {
   "cell_type": "code",
   "execution_count": 83,
   "metadata": {},
   "outputs": [
    {
     "name": "stdout",
     "output_type": "stream",
     "text": [
      "Sauron\n"
     ]
    }
   ],
   "source": [
    "# C\n",
    "print(LOTR[\"Mordor\"][1])"
   ]
  },
  {
   "cell_type": "markdown",
   "metadata": {},
   "source": [
    "___\n",
    "# Bonus Question for extra credit!\n",
    "![](https://sciencenotes.org/wp-content/uploads/2020/09/what-is-volume.jpg) <br>\n",
    "\n",
    "\n",
    "#### Write the VOLUME Function to compute the volume of Cylinders, Spheres, Cones, and Rectangular Boxes. This function should:\n",
    "- First, ask the user about __the shape of the object__ of interest using this statement:<br>\n",
    "*\"Please choose the shape of the object. Enter 1 for \"Cylinder\", 2 for \"Sphere\", 3 for \"Cone\", or 4 for \"Rectangular Box\"\"*<br>\n",
    "- Second, based on user's choice in the previous step, __ask for the right inputs__.\n",
    "- Third, print out an statement with __the input values and the calculated volumes__.\n",
    "\n",
    "#### Include error trapping that:\n",
    "\n",
    "1. Issues a message that *\"The object should be either a Cylinder, a Sphere, a Cone, or a Rectangular Box. Please Enter A Number from 1,2,3, and 4!\"* if the first input is non-numeric.\n",
    "2. Takes any numeric input for the initial selection , and force it into an integer.\n",
    "4. Issues an appropriate message if the user's selection is numeric but outside the range of [1,4]\n",
    "3. Takes any numeric input for the shape characteristics , and force it into a float.\n",
    "4. Issues an appropriate message if the object characteristics are as non-numerics.\n",
    "\n",
    "#### Test the script for:\n",
    "1. __Sphere, r=10__\n",
    "2. __r=10 , Sphere__\n",
    "3. __Rectangular Box, w=5, h=10, l=0.5__\n",
    "\n",
    "\n",
    "- <font color=orange>__Volume of a Cylinder = πr²h__</font>\n",
    "- <font color=orange>__Volume of a Sphere = 4(πr3)/3__</font>\n",
    "- <font color=orange>__Volume of a Cone = (πr²h)/3__</font>\n",
    "- <font color=orange>__Volume of a Rectangular Box = whl__</font>"
   ]
  },
  {
   "cell_type": "code",
   "execution_count": null,
   "metadata": {},
   "outputs": [],
   "source": [
    "#Suggested Solution:\n",
    "\n",
    "import numpy as np # import NumPy: for large, multi-dimensional arrays and matrices, along with  high-level mathematical functions to operate on these arrays.\n",
    "pi = np.pi #pi value from the np package\n",
    "\n",
    "def VOLUME():\n",
    "    try:\n",
    "        UI = input('Please choose the shape of the object. Enter 1 for \"Cylinder\", 2 for \"Sphere\", 3 for \"Cone\", or 4 for \"Rectangular Box\"')\n",
    "        UI =int(UI)\n",
    "        if UI==1:\n",
    "                try:\n",
    "                    UI2 = input('Please enter the radius of the Cylinder')\n",
    "                    r= float(UI2)\n",
    "                    UI3 = input('Please enter the height of the Cylinder')\n",
    "                    h= float(UI3)\n",
    "                    V= pi*h*r**2\n",
    "                    print(\"The volume of the Cylinder with the radius of \",r,\" and the height of \",h,\" is equal to\", V)\n",
    "                except:\n",
    "                    print(\"The radius and height of the Cylinder must be numerics. Please Try Again!\")\n",
    "        elif UI==2:\n",
    "                try:\n",
    "                    UI2 = input('Please enter the radius of the Sphere')\n",
    "                    r= float(UI2)\n",
    "                    V= (4*pi*r**3)/3\n",
    "                    print(\"The volume of the Sphere with the radius of \",r,\" is equal to\", V)\n",
    "                except:\n",
    "                    print(\"The radius of the Sphere must be numeric. Please Try Again!\")\n",
    "        elif UI==3:\n",
    "                try:\n",
    "                    UI2 = input('Please enter the radius of the Cone')\n",
    "                    r= float(UI2)\n",
    "                    UI3 = input('Please enter the height of the Cone')\n",
    "                    h= float(UI3)\n",
    "                    V= (pi*h*r**2)/3\n",
    "                    print(\"The volume of the Cone with the radius of \",r,\" and the height of \",h,\" is equal to\", V)\n",
    "                except:\n",
    "                    print(\"The radius and height of the Cone must be numerics. Please Try Again!\")\n",
    "        elif UI==4:\n",
    "                try:\n",
    "                    UI2 = input('Please enter the width of the Rectangular Box')\n",
    "                    w= float(UI2)\n",
    "                    UI3 = input('Please enter the height of the Rectangular Box')\n",
    "                    h= float(UI3)\n",
    "                    UI4 = input('Please enter the length of the Rectangular Box')\n",
    "                    l= float(UI4)\n",
    "                    V= w*h*l\n",
    "                    print(\"The volume of the Rectangular Box with the width of \",w,\" and the height of \",h,\" and the length of \",l,\" is equal to\", V)\n",
    "                except:\n",
    "                    print(\"The width, height, and length of the Rectangular Box must be numerics. Please Try Again!\")\n",
    "        else:\n",
    "            print(\"Please Enter A Number from 1,2,3, and 4!\")\n",
    "\n",
    "    except:\n",
    "        print(\"The object should be either a Cylinder, a Sphere, a Cone, or a Rectangular Box. Please Enter A Number from 1,2,3, and 4!\")\n"
   ]
  },
  {
   "cell_type": "markdown",
   "metadata": {},
   "source": [
    "![](https://freight.cargo.site/w/1200/i/c96b2ce17b2aee95c6e837552e3e38d058ac4ad2a6759448ed78128963790744/Happy_Coding_BC_6-03-05.png)"
   ]
  },
  {
   "cell_type": "code",
   "execution_count": 9,
   "metadata": {},
   "outputs": [
    {
     "name": "stdout",
     "output_type": "stream",
     "text": [
      "fail\n"
     ]
    }
   ],
   "source": [
    "condition = False\n",
    "print(condition) if condition else print('fail')"
   ]
  },
  {
   "cell_type": "code",
   "execution_count": null,
   "metadata": {},
   "outputs": [],
   "source": []
  }
 ],
 "metadata": {
  "kernelspec": {
   "display_name": "Python 3",
   "language": "python",
   "name": "python3"
  },
  "language_info": {
   "codemirror_mode": {
    "name": "ipython",
    "version": 3
   },
   "file_extension": ".py",
   "mimetype": "text/x-python",
   "name": "python",
   "nbconvert_exporter": "python",
   "pygments_lexer": "ipython3",
   "version": "3.8.10"
  }
 },
 "nbformat": 4,
 "nbformat_minor": 4
}
