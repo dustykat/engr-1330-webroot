{
 "cells": [
  {
   "cell_type": "markdown",
   "metadata": {},
   "source": [
    "# Part-2 of the Midterm-1 Exam (Total points: 50)"
   ]
  },
  {
   "cell_type": "markdown",
   "metadata": {},
   "source": [
    "### Please fill in the details below before starting to answer the problems in this notebook.  If the details below are not given, your part-2 of the exam will not be evaluated. To give the details, please click on the cells below twice."
   ]
  },
  {
   "cell_type": "markdown",
   "metadata": {},
   "source": [
    "#### Student Name: "
   ]
  },
  {
   "cell_type": "markdown",
   "metadata": {},
   "source": [
    "#### R-number:"
   ]
  },
  {
   "cell_type": "markdown",
   "metadata": {},
   "source": [
    "#### Class Section Number: "
   ]
  },
  {
   "cell_type": "markdown",
   "metadata": {},
   "source": [
    "### Please read the instructions below carefully:"
   ]
  },
  {
   "cell_type": "markdown",
   "metadata": {},
   "source": [
    "1) The total weightage of part-2 of this midterm-1 exam is 50 points.\n",
    "\n",
    "2) There are 3 problems in this notebook that needs to be completed.  \n",
    "    * Problem-1 is for 10 points and it consists of 5 tasks\n",
    "    * Problem-2 is for 15 points and it consists of 6 tasks\n",
    "    * Problem-3 is for 25 points and it consists of 6 tasks\n",
    "    \n",
    "3) Please read and understand the problem description and the tasks carefully, and then start giving your answers in the cells provided.\n",
    "\n",
    "4) All the instructions that are given in each of the tasks must be followed strictly. Also, most of the tasks will have a note that must be read carefully as it could help you in someway to answer the questions asked in those tasks or to verify your answers for those tasks."
   ]
  },
  {
   "cell_type": "markdown",
   "metadata": {},
   "source": [
    "# ALL THE BEST !!!"
   ]
  },
  {
   "cell_type": "markdown",
   "metadata": {},
   "source": [
    "## Problem-1 (Total points: 10)"
   ]
  },
  {
   "cell_type": "markdown",
   "metadata": {},
   "source": [
    "#### Problem Description:\n",
    "\n",
    "An undergraduate student researcher is working on some data for a climate study. Help the student with the Python skills that you have learned so far! Specific tasks for this problem are given below."
   ]
  },
  {
   "cell_type": "markdown",
   "metadata": {},
   "source": [
    "#### Task-1 (2 points):\n",
    "\n",
    "The student is working on a data structure **data** that is given in the cell below and it contains the temperature values in Celsius of different cold regions in the United States.  The questions to be answered for this task are:\n",
    "\n",
    "1) What type of data structure is stored in the variable name **data**?\n",
    "\n",
    "2) What kind of data types are present inside **data**?"
   ]
  },
  {
   "cell_type": "code",
   "execution_count": null,
   "metadata": {},
   "outputs": [],
   "source": [
    "data = [4, 12, 5.0, 1, 6, 21.0, 5, 2.2, 6, 4, 7.4, 2, 9, 10, 6, 15, 0, 'winter']\n",
    "print(\"Student's data:\", data)"
   ]
  },
  {
   "cell_type": "markdown",
   "metadata": {},
   "source": [
    "**GIVE THE SOLUTION FOR THE QUESTIONS 1) AND 2) OF TASK-1 IN THE MARKDOWN CELL BELOW (CLICK ON THE MARKDOWN CELL BELOW TWICE TO GIVE THE ANSWERS):**"
   ]
  },
  {
   "cell_type": "markdown",
   "metadata": {},
   "source": []
  },
  {
   "cell_type": "markdown",
   "metadata": {},
   "source": [
    "#### Task-2 (2 points):\n",
    "\n",
    "The student realizes that there is a non-number i.e., a string data type inside the data structure **data**. Could you please help the student to remove that string data type from the data structure **data**? After removing the string data type, please print the data structure **data** to the output and check whether you have successfully removed it.\n",
    "\n",
    "**Note:** To do this task, please use an in-built function that was discussed in the lecture class to remove the string data type based on its index position from the data structure **data**.  Also, after using the correct in-built function below, do not run the cell twice because when you run the cell once, the function that you implement would have removed the element that you want to remove and running the cell for the second time will throw an error as that element would have already been removed when you ran the cell the first time itself and the removed element cannot be found anymore."
   ]
  },
  {
   "cell_type": "code",
   "execution_count": null,
   "metadata": {},
   "outputs": [],
   "source": [
    "#GIVE THE SOLUTION FOR TASK-2 IN THIS CELL:\n",
    "\n"
   ]
  },
  {
   "cell_type": "markdown",
   "metadata": {},
   "source": [
    "#### Task-3 (2 points):\n",
    "\n",
    "The student finds that the data structure **data** still has mistakes. The student realizes that every number that is a 6 inside the data structure **data**, should have actually been the number 9. The student has tried to rectify this by writing a function in the cell below to replace the number 6 with number 9 however he is struggling to complete the function. Can you help the student to complete the function below by giving your answers in the places where you find the **TRIPLE QUOTES** so that the student can successfully replace the number 6 with number 9?\n",
    "\n",
    "**Note:** After completing the function in the cell below, run the cell and check whether the number 6 has been replaced with the number 9 successfully in the corrected data structure that is stored in a new variable name **correct_data**.  In other words, if you complete the function in the cell below correctly, you should not see the number 6 in the data structure **correct_data** anymore."
   ]
  },
  {
   "cell_type": "code",
   "execution_count": null,
   "metadata": {},
   "outputs": [],
   "source": [
    "#COMPLETE THE FUNCTION BELOW WHERE YOU FIND TRIPLE QUOTES IN THIS CELL TO FINISH TASK-3:\n",
    "\n",
    "def error_correction(data):\n",
    "    # Creating an empty list and storing it in a new variable name 'corrected_name'\n",
    "    corrected_data = [] \n",
    "    for d in data:\n",
    "        if d == 6:\n",
    "            # Appending the values to the list 'corrected_name'\n",
    "            corrected_data.append(\"\"\"GIVE YOUR ANSWER HERE\"\"\")\n",
    "        else:\n",
    "            # Appending the values to the list 'corrected_name'\n",
    "            corrected_data.append(\"\"\"GIVE YOUR ANSWER HERE\"\"\")\n",
    "    return corrected_data\n",
    "\n",
    "correct_data = error_correction(data)\n",
    "print(\"Student's corrected data:\", correct_data)"
   ]
  },
  {
   "cell_type": "markdown",
   "metadata": {},
   "source": [
    "#### Task-4 (2 points):\n",
    "\n",
    "Now, the student wants to keep track of the frequency of occurence of number 9 in the **correct_data**. The student is trying to implement a condition to check for the number 9 by looping over the data structure **correct_data** to see how many times the number 9 is repeated inside it. However, the student has no idea as to what condition must be implemented.  Could you please help the student by filling in the condition in the place where you find the **TRIPLE QUOTES** inside the loop below?\n",
    "\n",
    "**Note:** After implementing the correct condition, run the cell and check if the output matches with the frequency of occurences of number 9 inside the data structure **data** by looking at it manually."
   ]
  },
  {
   "cell_type": "code",
   "execution_count": null,
   "metadata": {},
   "outputs": [],
   "source": [
    "#COMPLETE THE CONDITION INSIDE THE LOOP BELOW WHERE YOU FIND TRIPLE QUOTES IN THIS CELL TO FINISH TASK-4:\n",
    "\n",
    "counter = 0\n",
    "\n",
    "for e in correct_data:\n",
    "    if \"\"\"GIVE YOUR CONDITION HERE\"\"\":\n",
    "        counter = counter + 1\n",
    "        \n",
    "print(\"Frequency of occurence of number 9:\", counter)"
   ]
  },
  {
   "cell_type": "markdown",
   "metadata": {},
   "source": [
    "#### Task-5 (2 points):\n",
    "\n",
    "The student is now interested in getting the numbers that are **odd and divisible by 3** (both the condition must be satisfied) from the data structure **correct_data**. He is not giving up on his research and is again writing a function below to get all the numbers that satisfy the both the given conditions from the data structure **correct_data**. However, he cannot implement the condition correctly and asks you for help to write the condition in the place where you find **TRIPLE QUOTES** that could help the student in picking all the numbers that are **odd and divisible by 3** from the data structure **correct_data**.  \n",
    "\n",
    "**Note:** After implementing the correct conditions, run the cell and check if the numbers in the data structure **even_and_div_3_data** that you get in the output satisfies the conditions that the numbers are **odd and divisible by 3** by manually checking each of the numbers carefully."
   ]
  },
  {
   "cell_type": "code",
   "execution_count": null,
   "metadata": {},
   "outputs": [],
   "source": [
    "#COMPLETE THE CONDITION INSIDE THE FUNCTION BELOW WHERE YOU FIND TRIPLE QUOTES IN THIS CELL TO FINISH TASK-5:\n",
    "\n",
    "def even_and_div_3_func(correct_data):\n",
    "    condition_data = []\n",
    "    \n",
    "    for f in correct_data:\n",
    "        if \"\"\"GIVE YOUR CONDITIONS HERE\"\"\":\n",
    "            condition_data.append(f)\n",
    "            \n",
    "    return condition_data\n",
    "\n",
    "even_and_div_3_data = even_and_div_3_func(correct_data)\n",
    "print(\"Numbers that are odd and divisible by 3:\", even_and_div_3_data)"
   ]
  },
  {
   "cell_type": "markdown",
   "metadata": {},
   "source": [
    "# -----------------------------------------END OF PROBLEM-1----------------------------------------"
   ]
  },
  {
   "cell_type": "markdown",
   "metadata": {},
   "source": [
    "## Problem-2 (Total points: 15)"
   ]
  },
  {
   "cell_type": "markdown",
   "metadata": {},
   "source": [
    "#### Problem Description:\n",
    "\n",
    "Consider a basic electrical circuit containing 4 resistors which is powered by a DC (Direct Current) voltage source. A resistor is a component in electrical circuit that limits the flow of current through it. This property is called the 'Resistance' and it has a unit named 'Ohm', denoted by $\\Omega$. Assume that the 4 resistor values in an electric circuit are $R_1 = 4\\ \\Omega, R_2 = 5\\ \\Omega, R_3 = 6\\ \\Omega, R_4 = 12\\ \\Omega$.  The circuit is powered by a DC source $V_1$ that generates a voltage of $10\\ V$ (Volt). Specific tasks for this problem are given below."
   ]
  },
  {
   "cell_type": "markdown",
   "metadata": {},
   "source": [
    "#### Task-1 (2 points):\n",
    "\n",
    "Create a list that contains the 4 resistor values given above and store it in a variable name **res**. Also, store the value of voltage given above in another variable name **volt1**.  Print **res** and **volt1** to the output."
   ]
  },
  {
   "cell_type": "code",
   "execution_count": null,
   "metadata": {},
   "outputs": [],
   "source": [
    "#GIVE THE SOLUTION FOR TASK-1 IN THIS CELL:\n",
    "\n"
   ]
  },
  {
   "cell_type": "markdown",
   "metadata": {},
   "source": [
    "#### Task-2 (2 points):\n",
    "\n",
    "Consider that resistors $R_3$ and $R_4$ are in parallel combination (i.e., the resistors are connected in parallel). You can now calculate an equivalent resistor of resistance based on the values of $R_3$ and $R_4$ that are now inside the list **res** using the **Equation (1)** given below.  Store the value of equivalent resistor of resistance that you calculate using **Equation (1)** in a variable name **Rp** and print it to the output. \n",
    "\n",
    "$$ R_p = \\frac{R_3 R_4}{R_3 + R_4} \\qquad \\cdots (1) $$\n",
    "\n",
    "**Note:** Use the idea of list indexing to get the values of $R_3$ and $R_4$ from the list **res** and use that to implement **Equation (1)** to calculate **Rp**."
   ]
  },
  {
   "cell_type": "code",
   "execution_count": null,
   "metadata": {},
   "outputs": [],
   "source": [
    "#GIVE THE SOLUTION FOR TASK-2 IN THIS CELL:\n",
    "\n"
   ]
  },
  {
   "cell_type": "markdown",
   "metadata": {},
   "source": [
    "#### Task-3 (2 points):\n",
    "\n",
    "Consider that resistors $R_1$ and $R_2$ are in series combination (i.e., the resistors are connected in parallel). You can now calculate an equivalent resistor of resistance based on the values of $R_1$ and $R_2$ that are now inside the list **res** using the **Equation (2)** given below. Store the value of equivalent resistor of resistance that you calculate using **Equation (2)** in a variable name **Rs** and print it to the output.  \n",
    "\n",
    "$$ R_s = R_1 + R_2 \\qquad \\cdots (2) $$\n",
    "\n",
    "**Note:** Use the idea of list indexing to get the values of $R_1$ and $R_2$ from the list **res** and use that to implement **Equation (2)** to calculate **R2**."
   ]
  },
  {
   "cell_type": "code",
   "execution_count": null,
   "metadata": {},
   "outputs": [],
   "source": [
    "#GIVE THE SOLUTION FOR TASK-3 IN THIS CELL:\n",
    "\n"
   ]
  },
  {
   "cell_type": "markdown",
   "metadata": {},
   "source": [
    "#### Task-4 (1.5 points):\n",
    "\n",
    "Calculate the total equivalent resistance based on **Rp** and **Rs** that you have calculated in the previous tasks using the **Equation (3)** given below. Store the value of total equivalent resistance in a new variable name **Req** and print it to the output.\n",
    "\n",
    "$$R_{eq} = R_s + R_p \\qquad \\cdots (3)$$"
   ]
  },
  {
   "cell_type": "code",
   "execution_count": null,
   "metadata": {},
   "outputs": [],
   "source": [
    "#GIVE THE SOLUTION FOR TASK-4 IN THIS CELL:\n",
    "\n"
   ]
  },
  {
   "cell_type": "markdown",
   "metadata": {},
   "source": [
    "#### Task-5 (1.5 points):\n",
    "\n",
    "In this task, you have to calculate the current through the equivalent circuit based on the values of voltage **volt1** and total equivalent resistence **Req** using the famous Ohm's law that is given in **Equation (4)** below. Store the value of current to a new variable name **I1** and print it to the output.\n",
    "\n",
    "$$Voltage = Current \\times R_{eq} \\qquad \\cdots (4)$$"
   ]
  },
  {
   "cell_type": "code",
   "execution_count": null,
   "metadata": {},
   "outputs": [],
   "source": [
    "#GIVE THE SOLUTION FOR TASK-5 IN THIS CELL:\n",
    "\n"
   ]
  },
  {
   "cell_type": "markdown",
   "metadata": {},
   "source": [
    "#### Task-6 (6 points):\n",
    "\n",
    "Imagine that the voltage of the equivalent circuit **volt1** is changed from a value of $10\\ V$ to some arbitrary value $V_2$ while the resistor values stored in the list **res** remain the same. Now, create a new variable name **volt2** which will contain the value of voltage that will be **(last two digits of your R-number multiplied by 2)** (i.e., **volt2 = 2 x last two digits of your R-number**). Calculate the new current using **volt2** and **Req** in **Equation (4)** again and save it to a variable named **I2**. Print **volt2** and **I2** to the output. \n",
    "\n",
    "Now, write a conditional statement that will print the following to the output based on the comparison of I2 and I1 values:\n",
    "\n",
    "1) Print *\"More current, more power\"* to the output if the current value **I2** is greater than **I1**  \n",
    "2) Print *\"Less current, less power\"* to the output if the current value **I2** is less than **I1**  \n",
    "3) Print *\"Same current, same power\"* to the output if the current value **I2** has the same value as **I1**   \n",
    "\n",
    "**Note:** After you finish writing the conditional statements **if....elif....else**, run your code and see the effect of voltage change from **volt1** to **volt2**!"
   ]
  },
  {
   "cell_type": "code",
   "execution_count": null,
   "metadata": {},
   "outputs": [],
   "source": [
    "#GIVE THE SOLUTION FOR TASK-6 IN THIS CELL:\n",
    "\n"
   ]
  },
  {
   "cell_type": "markdown",
   "metadata": {},
   "source": [
    "# -----------------------------------------END OF PROBLEM-2----------------------------------------"
   ]
  },
  {
   "cell_type": "markdown",
   "metadata": {},
   "source": [
    "## Problem-3 (Total points: 25)"
   ]
  },
  {
   "cell_type": "markdown",
   "metadata": {},
   "source": [
    "#### Problem Description:\n",
    "\n",
    "Consider that you and your friend are visiting a building that has 15 floors. Assume that you both are going to play a game where your friend will drop a ball from different floors of that building and you have to catch it by staying on the ground. You find that everytime your friend goes to a higher floor and drops the ball, the ball travels with a much higher velocity (hence, difficult to catch the ball on the ground) when compared to the ball being dropped from the lower floors.  This spikes your curiosity and thus, your task is now to find the velocity of the ball when your friend drops the ball from different floors. Each floor is at a different height from the ground and the velocity with which the ball comes down will depend on the heights from which the ball is dropped. Below you can find the table that enlists the height of different floors from the ground in the units of foot (plural form: feet). \n",
    "\n",
    "| Floor number | Height from the ground (feet) | \n",
    "| ------------ | ----------------------------  |\n",
    "| 3            | 9                             | \n",
    "| 5            | 15                            | \n",
    "| 6            | 18                            | \n",
    "| 8            | 24                            | \n",
    "| 9            | 27                            | \n",
    "| 11           | 33                            | \n",
    "| 12           | 36                            | \n",
    "| 14           | 42                            | \n",
    "\n",
    "You would have learned in high school that there are two forms of energy: Potential energy and kinetic energy.  And, you also know that Earth has gravity and it is because of Earth's gravity that any object (in this case, ball) must come down when it is dropped from a particular height.  Potential energy is the energy that the object possesses because of its position in a gravitational space (in this case, Earth's gravity) and hence, it depends on the mass of the ball, Earth's gravity, and the height from which the ball is dropped.  Simply put, \n",
    "\n",
    "$$Potential\\,energy = mass \\times gravity \\times height\\,\\,\\,\\,\\,\\,\\,\\,\\,\\,\\,\\,\\,\\,\\,\\,\\,\\,\\,\\,\\,\\,\\,\\,\\,\\,\\,........ (1)$$\n",
    "\n",
    "Further, kinetic energy is the energy of the object while in motion and hence, it depends on the mass of the ball and the velocity of the ball when it is moving downwards towards the ground. Simply put,\n",
    "\n",
    "$$Kinetic\\,energy = \\frac{1}{2} \\times mass \\times velocity^{2}\\,\\,\\,\\,\\,\\,\\,\\,\\,\\,\\,\\,\\,\\,\\,\\,\\,\\,\\,\\,\\,\\,\\,\\,\\,\\,\\,\\,\\,\\,\\,\\,\\,\\,\\,\\,\\,........ (2)$$\n",
    "\n",
    "When the ball is dropped from a certain height, the potential energy of the ball that is initially at rest before dropping it is converted into kinetic energy when it is in motion (i.e. moving downwards towards the ground). So, in order to get the velocity of the ball you have to simple equate the formulas for potential energy and kinetic energy based on the concept of conservation of energy.\n",
    "\n",
    "$$Potential\\,energy = Kinetic\\,energy\\,\\,\\,\\,\\,\\,\\,\\,\\,\\,\\,\\,\\,\\,\\,\\,\\,\\,\\,\\,\\,\\,\\,\\,\\,\\,\\,\\,\\,\\,\\,\\,\\,\\,\\,\\,\\,\\,\\,\\,\\,\\,\\,\\,\\,\\,\\,\\,\\,........ (3)$$\n",
    "\n",
    "$$mass \\times gravity \\times height = \\frac{1}{2} \\times mass \\times velocity^{2}\\,\\,\\,\\,\\,\\,\\,\\,\\,\\,\\,\\,\\,\\,\\,\\,........ (4)$$\n",
    "\n",
    "Assume that the mass of the ball that your friend drops from different floors (i.e. different heights from the ground) is **(1000 + last two digits of your R-number) grams**.  The gravity of the Earth is **9.8 meter/second<sup>2</sup>**. You have to now use **Equation (4)** to find the velocity of the ball (in the units of meter/second) that is dropped from different heights as given in the table above. Specific tasks for this problem are given below."
   ]
  },
  {
   "cell_type": "markdown",
   "metadata": {},
   "source": [
    "#### Task-1 (5 points):\n",
    "\n",
    "Convert the values of height (in feet) that is given in the table to the unit of meters. To do this, define a **list** which will contain all the height values in feet and store it in a variable **heigths_feet**. Following this, loop over each height value (in feet) in the list **heigths_feet** and convert it to meters (conversion from feet to meters is given below). Append the converted height values in meters to a new list and store it in a new variable **heights_meters**. Print **heights_meters** to the output.\n",
    "\n",
    "$$ 1\\,feet = 0.3048\\,meters$$\n",
    "\n",
    "**Note:** In order to use the values of height in meters for the other tasks in this problem, create an empty list **heights_meters** to which you will append the height values in meters after conversion."
   ]
  },
  {
   "cell_type": "code",
   "execution_count": null,
   "metadata": {},
   "outputs": [],
   "source": [
    "#GIVE THE SOLUTION FOR TASK-1 IN THIS CELL:\n",
    "\n"
   ]
  },
  {
   "cell_type": "markdown",
   "metadata": {},
   "source": [
    "#### Task-2 (5 points):\n",
    "\n",
    "Calculate the velocity of the ball dropped from different heights in meter/second.  To do this task, write a loop again and use the values of mass of the ball, and the list **heights_meters** that contains the height values in meters in **Equation (4)**. Make sure you store the values of mass and gravity in variable names **mass** and **gravity**, respectively. Append the calculated velocity values based on different height values to a new list and store it in a new variable **velocity_values**. Print **velocity_values** to the output.  \n",
    "\n",
    "**Note:** Create an empty list **velocity_values** to which you will append the velocity values that you will calculate based on **Equation (4)**. Also, refer to Problem-1 to know how to define an empty list and to append values to an empty list. "
   ]
  },
  {
   "cell_type": "code",
   "execution_count": null,
   "metadata": {},
   "outputs": [],
   "source": [
    "#GIVE THE SOLUTION FOR TASK-2 IN THIS CELL:\n",
    "\n"
   ]
  },
  {
   "cell_type": "markdown",
   "metadata": {},
   "source": [
    "#### Task-3 (5 points):\n",
    "\n",
    "Perform the same task as above but in this case, you have to do it inside a function.  Specifically, you have to write a function **velocity_func** that will take the value of mass, gravity, and the list **heights_meters** as inputs and then, calculate the velocity values based on different heights inside the function using **Equation (4)**. When you call the function, give it a new variable name **ball_velocity**. Print **ball_velocity** and the type of **ball_velocity** to the output.\n",
    "\n",
    "**Note:** Make sure that the function the you write returns a list which could be done by creating an empty list **velocity_values** inside the function to which you will append the velocity values that you will calculate based on **Equation (4)**. Also, refer to Problem-1 to know how to define an empty list and to append values to an empty list. "
   ]
  },
  {
   "cell_type": "code",
   "execution_count": null,
   "metadata": {},
   "outputs": [],
   "source": [
    "#GIVE THE SOLUTION FOR TASK-3 IN THIS CELL:\n",
    "\n"
   ]
  },
  {
   "cell_type": "markdown",
   "metadata": {},
   "source": [
    "#### Task-4 (5 points):\n",
    "\n",
    "Perform the same task as above but in this case, you have to pass a NumPy array that consists of values of heights in meters to the user-defined function.  Specifically, you have to write a function **velocity_func_array** that will take the value of mass, gravity, and the numpy array **heights_meters_array** as inputs and calculate the velocity values based on different heights inside the function using **Equation (4)**. When you call the function, give it a new variable name **ball_velocity_array**. Print **ball_velocity_array** and the type of **ball_velocity_array** to the output.\n",
    "\n",
    "**Note-1:** You have to convert the list **heights_meters** to a NumPy array **heights_meters_array** and make sure that the function that you write returns a NumPy array. \n",
    "\n",
    "**Note-2:** Also, when you use the values in NumPy array **heights_meters_array** in **Equation (4)** along with the mass and the gravity values to get the velocity values, think what should be done differently when compared to the previous task. In other words, you would have to write a loop in the previous task to get the velocity values for each value of height in meters. Is that necessary here? Remember one of the main advantages of using NumPy arrays over lists."
   ]
  },
  {
   "cell_type": "code",
   "execution_count": null,
   "metadata": {},
   "outputs": [],
   "source": [
    "#GIVE THE SOLUTION FOR TASK-4 IN THIS CELL:\n",
    "\n"
   ]
  },
  {
   "cell_type": "markdown",
   "metadata": {},
   "source": [
    "#### Task-5 (2 points):\n",
    "\n",
    "You somehow find that when the ball travels greater then 11 meter/second, it becomes difficult to catch the ball on the ground.  Now, in this task, you would like to know how many velocity values are greater than 11 meter/second.  In other words, you would like to find how many floors contribute to velocities greater than 11 meter/second.  For this, do a conditional selection on **ball_velocity_array** such that you pick velocity values that are greater than 11 meter/second and store it in a new variable name **ball_velocity_selection**.  Use **ball_velocity_selection** to find the number of velocity values that satisfied the condition and store it in a new variable name **ball_velocity_size**. Print **ball_velocity_selection** and **ball_velocity_size** to the output."
   ]
  },
  {
   "cell_type": "code",
   "execution_count": null,
   "metadata": {},
   "outputs": [],
   "source": [
    "#GIVE THE SOLUTION FOR TASK-5 IN THIS CELL:\n",
    "\n"
   ]
  },
  {
   "cell_type": "markdown",
   "metadata": {},
   "source": [
    "#### Task-6 (3 points):\n",
    "\n",
    "You would now like to find the kinetic energy of the ball in Joules (J) when it travels at a maximum velocity.  The conversion for Joule is given below.\n",
    "\n",
    "$$1\\,Joule = 1\\,Kg \\frac{m^{2}}{s^{2}}$$\n",
    "\n",
    "To finish this task, first get the maximum velocity value from **ball_velocity_selection** and store it in a new variable name **ball_velocity_maximum**. Use **ball_velocity_maximum** to calculate the kinetic energy in Joules based on **Equation (2)**. Store the kinetic energy value that you get in a new variable name **kinetic_energy**.  Print **ball_velocity_maximum** and **kinetic_energy** to the output.\n",
    "\n",
    "**Note:** Be careful with the unit conversions to get the kinetic energy value in Joules."
   ]
  },
  {
   "cell_type": "code",
   "execution_count": null,
   "metadata": {},
   "outputs": [],
   "source": [
    "#GIVE THE SOLUTION FOR TASK-6 IN THIS CELL:\n",
    "\n"
   ]
  },
  {
   "cell_type": "markdown",
   "metadata": {},
   "source": [
    "# -----------------------------------------END OF PROBLEM-3----------------------------------------"
   ]
  },
  {
   "cell_type": "markdown",
   "metadata": {},
   "source": [
    "# ---------------------------END OF PART-2 OF MIDTERM-1 EXAM---------------------------"
   ]
  }
 ],
 "metadata": {
  "kernelspec": {
   "display_name": "Python 3",
   "language": "python",
   "name": "python3"
  },
  "language_info": {
   "codemirror_mode": {
    "name": "ipython",
    "version": 3
   },
   "file_extension": ".py",
   "mimetype": "text/x-python",
   "name": "python",
   "nbconvert_exporter": "python",
   "pygments_lexer": "ipython3",
   "version": "3.8.5"
  }
 },
 "nbformat": 4,
 "nbformat_minor": 4
}
