{
 "cells": [
  {
   "cell_type": "markdown",
   "metadata": {},
   "source": [
    "# ENGR 1330 Exam 1 Sec D01/D04 Spring 2021\n",
    "---\n",
    "Instructions:\n",
    "- Work directly in this notebook, upon completion render the notebook as a PDF file.\n",
    "- Upload your solution PDF **AND** the .csv and .ipynb  (3 files) to the Blackboard repository for grading!\n",
    "- Multiple attempts are allowed in the 24-hour time window\n",
    "- Internet resources are allowed, remember to cite what you copy from elsewhere.\n",
    "- Consulting with each other is not permitted.\n",
    "- Sharing work with each other is not permitted.\n",
    "- Working together is not permitted.\n",
    "\n",
    "---\n",
    "\n",
    "## Full name\n",
    "## R#:\n",
    "## HEX:\n",
    "## ENGR 1330 Exam 1 Sec 003/004\n",
    "## Date:\n",
    "<hr>"
   ]
  },
  {
   "cell_type": "markdown",
   "metadata": {},
   "source": [
    "## Question 1 (1 pts):\n",
    "Run the cell below, and leave the results in your notebook.  \n",
    "If you get an ERROR message, leave it and continue."
   ]
  },
  {
   "cell_type": "code",
   "execution_count": 1,
   "metadata": {},
   "outputs": [
    {
     "name": "stdout",
     "output_type": "stream",
     "text": [
      "atomickitty.aws\n",
      "engr1330content\n",
      "/opt/jupyterhub/bin/python3\n"
     ]
    }
   ],
   "source": [
    "#### RUN! this Cell ####\n",
    "import sys\n",
    "! hostname\n",
    "! whoami\n",
    "print(sys.executable) # OK if generates an exception message on Windows machines \n",
    "# tested ok MacOS, arm linux, x86-64 linux, Windows 10VM, Windows Server"
   ]
  },
  {
   "cell_type": "markdown",
   "metadata": {},
   "source": [
    "---\n",
    "## Question 2 (5 pts): \n",
    "\n",
    "The script below is intended to print out all the leap years from 1952 to 1996 (inclusive). \n",
    "However, the programmer keeps getting an error and has become frustrated with it! Please have a look at the code, the error(s), and the output and fix it so that it does what the user wants. Then, explain what was wrong with the script and how you have managed to fix it.  "
   ]
  },
  {
   "cell_type": "code",
   "execution_count": 2,
   "metadata": {
    "collapsed": false,
    "jupyter": {
     "outputs_hidden": false
    }
   },
   "outputs": [
    {
     "ename": "TypeError",
     "evalue": "'float' object cannot be interpreted as an integer",
     "output_type": "error",
     "traceback": [
      "\u001b[0;31m---------------------------------------------------------------------------\u001b[0m",
      "\u001b[0;31mTypeError\u001b[0m                                 Traceback (most recent call last)",
      "\u001b[0;32m<ipython-input-2-d7c12f7d99fa>\u001b[0m in \u001b[0;36m<module>\u001b[0;34m\u001b[0m\n\u001b[0;32m----> 1\u001b[0;31m \u001b[0;32mfor\u001b[0m \u001b[0myears\u001b[0m \u001b[0;32min\u001b[0m \u001b[0mrange\u001b[0m\u001b[0;34m(\u001b[0m\u001b[0;36m1952\u001b[0m\u001b[0;34m,\u001b[0m\u001b[0;36m1996\u001b[0m\u001b[0;34m,\u001b[0m\u001b[0;36m4.0\u001b[0m\u001b[0;34m)\u001b[0m\u001b[0;34m:\u001b[0m\u001b[0;34m\u001b[0m\u001b[0;34m\u001b[0m\u001b[0m\n\u001b[0m\u001b[1;32m      2\u001b[0m   \u001b[0mprint\u001b[0m\u001b[0;34m(\u001b[0m\u001b[0myears\u001b[0m\u001b[0;34m)\u001b[0m\u001b[0;34m\u001b[0m\u001b[0;34m\u001b[0m\u001b[0m\n",
      "\u001b[0;31mTypeError\u001b[0m: 'float' object cannot be interpreted as an integer"
     ]
    }
   ],
   "source": [
    "for years in range(1952,1996,4.0): \n",
    "  print(years)"
   ]
  },
  {
   "cell_type": "markdown",
   "metadata": {},
   "source": [
    "### Deliverables\n",
    "- Error-free script\n",
    "- Correct Output (years 1952,1956 .... , 1996)\n",
    "- Explain the repairs (either direct comment in the code or narrative in markdown cell)"
   ]
  },
  {
   "cell_type": "markdown",
   "metadata": {},
   "source": [
    "---\n",
    "\n",
    "## Question 3 (10 pts): \n",
    "\n",
    "The script below is intended to compute the cosine of values from 0 to 10 (inclusive), store them in a separate list called ylist, and ultimately print out a table. However, the programmer keeps getting an error and has become frustrated with it! Please have a look at the code, the error(s), and the output and fix it so that it does what the user wants. Then, explain what was wrong with the script and how you have managed to fix it."
   ]
  },
  {
   "cell_type": "code",
   "execution_count": 3,
   "metadata": {
    "collapsed": false,
    "jupyter": {
     "outputs_hidden": false
    }
   },
   "outputs": [
    {
     "name": "stdout",
     "output_type": "stream",
     "text": [
      "     Cosines     \n",
      "   x    |  cos(x) \n",
      "--------|--------\n"
     ]
    },
    {
     "ename": "AttributeError",
     "evalue": "'tuple' object has no attribute 'append'",
     "output_type": "error",
     "traceback": [
      "\u001b[0;31m---------------------------------------------------------------------------\u001b[0m",
      "\u001b[0;31mAttributeError\u001b[0m                            Traceback (most recent call last)",
      "\u001b[0;32m<ipython-input-3-07d3d368a680>\u001b[0m in \u001b[0;36m<module>\u001b[0;34m\u001b[0m\n\u001b[1;32m      7\u001b[0m \u001b[0;34m\u001b[0m\u001b[0m\n\u001b[1;32m      8\u001b[0m \u001b[0;32mfor\u001b[0m \u001b[0mx\u001b[0m \u001b[0;32min\u001b[0m \u001b[0mrange\u001b[0m\u001b[0;34m(\u001b[0m\u001b[0;36m0\u001b[0m\u001b[0;34m,\u001b[0m\u001b[0;36m10\u001b[0m\u001b[0;34m)\u001b[0m\u001b[0;34m:\u001b[0m\u001b[0;34m\u001b[0m\u001b[0;34m\u001b[0m\u001b[0m\n\u001b[0;32m----> 9\u001b[0;31m     \u001b[0mxlist\u001b[0m\u001b[0;34m.\u001b[0m\u001b[0mappend\u001b[0m\u001b[0;34m(\u001b[0m\u001b[0mx\u001b[0m\u001b[0;34m*\u001b[0m\u001b[0;36m1.0\u001b[0m\u001b[0;34m)\u001b[0m\u001b[0;34m\u001b[0m\u001b[0;34m\u001b[0m\u001b[0m\n\u001b[0m\u001b[1;32m     10\u001b[0m     \u001b[0mylist\u001b[0m\u001b[0;34m.\u001b[0m\u001b[0mappend\u001b[0m\u001b[0;34m(\u001b[0m\u001b[0mmath\u001b[0m\u001b[0;34m.\u001b[0m\u001b[0mcos\u001b[0m\u001b[0;34m(\u001b[0m\u001b[0mx\u001b[0m\u001b[0;34m*\u001b[0m\u001b[0;36m1.0\u001b[0m\u001b[0;34m)\u001b[0m\u001b[0;34m)\u001b[0m\u001b[0;34m\u001b[0m\u001b[0;34m\u001b[0m\u001b[0m\n\u001b[1;32m     11\u001b[0m     \u001b[0mprint\u001b[0m\u001b[0;34m(\u001b[0m\u001b[0;34m\"%.3f\"\u001b[0m \u001b[0;34m%\u001b[0m \u001b[0mxlist\u001b[0m\u001b[0;34m[\u001b[0m\u001b[0mx\u001b[0m\u001b[0;34m]\u001b[0m\u001b[0;34m,\u001b[0m \u001b[0;34m\"  |\"\u001b[0m\u001b[0;34m,\u001b[0m \u001b[0;34m\" %.2f \"\u001b[0m  \u001b[0;34m%\u001b[0m \u001b[0mylist\u001b[0m\u001b[0;34m[\u001b[0m\u001b[0mx\u001b[0m\u001b[0;34m]\u001b[0m\u001b[0;34m)\u001b[0m\u001b[0;34m\u001b[0m\u001b[0;34m\u001b[0m\u001b[0m\n",
      "\u001b[0;31mAttributeError\u001b[0m: 'tuple' object has no attribute 'append'"
     ]
    }
   ],
   "source": [
    "xlist = ()\n",
    "ylist = ()\n",
    "\n",
    "print(\"     Cosines     \")\n",
    "print(\"   x   \",\"|\",\" cos(x) \")\n",
    "print(\"--------|--------\")\n",
    "\n",
    "for x in range(0,10):\n",
    "    xlist.append(x*1.0)\n",
    "    ylist.append(math.cos(x*1.0))\n",
    "    print(\"%.3f\" % xlist[x], \"  |\", \" %.2f \"  % ylist[x])"
   ]
  },
  {
   "cell_type": "markdown",
   "metadata": {},
   "source": [
    "### Deliverables\n",
    "- Error-free script\n",
    "- Correct Output (a table of x and cos(x)) for x values of (0.000,1.000,...,10.000)\n",
    "- Explain the repairs (either direct comment in the code or narrative in markdown cell)"
   ]
  },
  {
   "cell_type": "markdown",
   "metadata": {},
   "source": [
    "****************************************************************************************************************"
   ]
  },
  {
   "cell_type": "markdown",
   "metadata": {},
   "source": [
    "# Question 4 (10 pts):\n",
    "\n",
    "Create a function, named \"myplotfunc\" that takes the following positional arguments as inputs:\n",
    "    \n",
    "  - A list of numeric for x\n",
    "  - A list of numeric for y\n",
    "  - A string for the plot title\n",
    "  - A string for the x-axis label\n",
    "  - A string for the y-axis label <br>\n",
    "\n",
    "and produces (plots) a curve with \"red\" color, and a '\\*' shaped marker, and the 'dashdot' linestyle.\n",
    "\n",
    "Use your \"myplotfunc\" function to create a plot of:\n",
    "\n",
    "$$ y = -5x^5 +4sin(x)^4 -3x^3 +2cos(x)^2 -x $$\n",
    "\n",
    "for x raging from -10 to 10 (inclusive) in steps of 0.5."
   ]
  },
  {
   "cell_type": "code",
   "execution_count": 4,
   "metadata": {
    "collapsed": false,
    "jupyter": {
     "outputs_hidden": false
    }
   },
   "outputs": [],
   "source": [
    "# build your script here"
   ]
  },
  {
   "cell_type": "markdown",
   "metadata": {},
   "source": [
    "### Deliverables\n",
    "- Error-free script\n",
    "- Correct Output (a plot of x and y) for x values of (-10.0,-9.5,...,10.0)\n",
    "   - Correct color for curve\n",
    "   - Correct line style\n",
    "   - Correct marker type\n",
    "   - Axes labels meaningful \n",
    "   - Plot title meaningful"
   ]
  },
  {
   "cell_type": "markdown",
   "metadata": {},
   "source": [
    "---\n",
    "\n",
    "## Question 5 (20 pts): \n",
    "Follow the steps below:\n",
    "1. STEP 0: install necessary libraries (numpy and pandas)\n",
    "2. STEP 1: There are 8 digits in your R#. Define a 2x4 array with these 8 digits, name it \"Rarray\", and print it"
   ]
  },
  {
   "cell_type": "code",
   "execution_count": 5,
   "metadata": {},
   "outputs": [],
   "source": [
    "# step 0 and step 1 go here!\n"
   ]
  },
  {
   "cell_type": "markdown",
   "metadata": {},
   "source": [
    "3. STEP 2: Find the maximum value of the \"Rarray\" and its position"
   ]
  },
  {
   "cell_type": "code",
   "execution_count": 6,
   "metadata": {},
   "outputs": [],
   "source": [
    "# step 2 goes here!\n"
   ]
  },
  {
   "cell_type": "markdown",
   "metadata": {},
   "source": [
    "4. STEP 3: Sort the \"Rarray\" along the rows, store it in a new array named \"Rarraysort\", and print the new array out"
   ]
  },
  {
   "cell_type": "code",
   "execution_count": 7,
   "metadata": {},
   "outputs": [],
   "source": [
    "# step 3 goes here!\n"
   ]
  },
  {
   "cell_type": "markdown",
   "metadata": {},
   "source": [
    "5. STEP 4: Define and print a 4x4 array that has the \"Rarray\" as its two first rows, and \"Rarraysort\" as its next rows. Name this new array \"DoubleRarray\""
   ]
  },
  {
   "cell_type": "code",
   "execution_count": 8,
   "metadata": {},
   "outputs": [],
   "source": [
    "# step 4 goes here!\n",
    "\n"
   ]
  },
  {
   "cell_type": "markdown",
   "metadata": {},
   "source": [
    "6. STEP 5: Slice and print a 4x3 array from the \"DoubleRarray\" that contains the last three columns of it. Name this new array \"SliceRarray\"."
   ]
  },
  {
   "cell_type": "code",
   "execution_count": 9,
   "metadata": {},
   "outputs": [],
   "source": [
    "# step 5 goes here!\n"
   ]
  },
  {
   "cell_type": "markdown",
   "metadata": {},
   "source": [
    "7. STEP 6: Define the \"SliceRarray\" as a panda dataframe:\n",
    "    - name it \"Rdataframe\",\n",
    "    - name the rows as \"Row A\",\"Row B\",\"Row C\", and \"Row D\"\n",
    "    - name the columns as \"Column 1\", \"Column 2\", and \"Column 3\""
   ]
  },
  {
   "cell_type": "code",
   "execution_count": 10,
   "metadata": {},
   "outputs": [],
   "source": [
    "# step 6 goes here!"
   ]
  },
  {
   "cell_type": "markdown",
   "metadata": {},
   "source": [
    "8. STEP 7: Print  the first few rows of the \"Rdataframe\"."
   ]
  },
  {
   "cell_type": "code",
   "execution_count": 11,
   "metadata": {},
   "outputs": [],
   "source": [
    "# step 7 goes here!"
   ]
  },
  {
   "cell_type": "markdown",
   "metadata": {},
   "source": [
    "9. STEP 8: Create a new dataframe object (\"R2dataframe\") by adding a column to the \"Rdataframe\", name it \"Column X\" and fill it with \"None\" values. Then, use the appropriate descriptor function and print the data model (data column count, names, data types) of the \"R2dataframe\"\n"
   ]
  },
  {
   "cell_type": "code",
   "execution_count": 12,
   "metadata": {},
   "outputs": [],
   "source": [
    "# step 8 goes here!"
   ]
  },
  {
   "cell_type": "markdown",
   "metadata": {},
   "source": [
    "10. STEP 9: Replace the **'None'** in the \"R2dataframe\" with 0. Then, print the summary statistics of each numeric column in the data frame.\n"
   ]
  },
  {
   "cell_type": "code",
   "execution_count": 13,
   "metadata": {},
   "outputs": [],
   "source": [
    "# step 9 goes here!"
   ]
  },
  {
   "cell_type": "markdown",
   "metadata": {},
   "source": [
    "11. STEP 10: Define a function based on the equation below: \n",
    "\n",
    "$$ y = x^2 - 5x +7 $$\n",
    "\n",
    "apply the function to the entire \"R2dataframe\", store the results in a new dataframe (\"R3dataframe\"), and print the results and the summary statistics again."
   ]
  },
  {
   "cell_type": "code",
   "execution_count": 14,
   "metadata": {},
   "outputs": [],
   "source": [
    "# step 10 goes here!"
   ]
  },
  {
   "cell_type": "markdown",
   "metadata": {},
   "source": [
    "12. STEP 11: Print the number of occurrences of each unique value in \"Column 3\"\n"
   ]
  },
  {
   "cell_type": "code",
   "execution_count": 15,
   "metadata": {},
   "outputs": [],
   "source": [
    "# step 11 goes here!"
   ]
  },
  {
   "cell_type": "markdown",
   "metadata": {},
   "source": [
    "13. STEP 12: Sort the data frame with respect to \"Column 1\" with a descending order and print it\n",
    "\n"
   ]
  },
  {
   "cell_type": "code",
   "execution_count": 16,
   "metadata": {},
   "outputs": [],
   "source": [
    "# step 12 goes here!"
   ]
  },
  {
   "cell_type": "markdown",
   "metadata": {},
   "source": [
    "14. STEP 13: Write the final format of the \"R3dataframe\" on a CSV file, named \"Rfile.csv\"\n"
   ]
  },
  {
   "cell_type": "code",
   "execution_count": 17,
   "metadata": {},
   "outputs": [],
   "source": [
    "# step 13 goes here!"
   ]
  },
  {
   "cell_type": "markdown",
   "metadata": {},
   "source": [
    "15. STEP14: Read the \"Rfile.csv\" and print its content.<br>\n",
    "** __Make sure to attach the \"Rfile.csv\" file to your midterm exam submission.__"
   ]
  },
  {
   "cell_type": "code",
   "execution_count": 18,
   "metadata": {},
   "outputs": [],
   "source": [
    "# step 14 goes here!"
   ]
  },
  {
   "cell_type": "markdown",
   "metadata": {},
   "source": [
    "---\n",
    "## Question 6 (10 pts):\n",
    "\n",
    "Create a class to compute the average grade (out of 10) of the students based on their grades in Quiz1, Quiz2, the Mid-term, Quiz3, and the Final exam.__\n",
    "\n",
    "| Student Name  |   Quiz 1   |   Quiz 2   |   Mid-term   |   Quiz 3   |  Final Exam  |\n",
    "| ------------- | -----------| -----------| -------------| -----------| -------------|\n",
    "| Harry         | 8          | 9          | 8            | 10         | 9            |\n",
    "| Ron           | 7          | 8          | 8            | 7          | 9            |\n",
    "| Hermione      | 10         | 10         | 9            | 10         | 10           |\n",
    "| Draco         | 8          | 7          | 9            | 8          | 9            |\n",
    "| Luna          | 9          | 8          | 7            | 6          | 5            |\n",
    "\n",
    "1. Use docstrings to describe the purpose of the class.\n",
    "2. Create an object for each student and display the output as shown below.\n",
    "\n",
    "\"Student Name\": **Average Grade**  \n",
    "\n",
    "3. Create and print out a dictionary with the student names as keys and their average grades as data.\n"
   ]
  },
  {
   "cell_type": "code",
   "execution_count": 19,
   "metadata": {},
   "outputs": [],
   "source": [
    "# script goes here"
   ]
  },
  {
   "cell_type": "markdown",
   "metadata": {},
   "source": [
    "### Deliverables\n",
    "- Error-free script\n",
    "- Print each student and average grade\n",
    "- Print entire dictionary of students and averages\n",
    "\n",
    "---"
   ]
  },
  {
   "cell_type": "markdown",
   "metadata": {},
   "source": [
    "## Question 7 (10 pts):\n",
    "Fun with functions:\n",
    "\n",
    "When it is 8:00 in Lubbock,\n",
    "   - It is 9:00 in New York\n",
    "   - It is 14:00 in London\n",
    "   - It is 15:00 in Cairo\n",
    "   - It is 16:00 in Istanbul\n",
    "   - It is 19:00 in Hyderabad\n",
    "   - It is 22:00 in Tokyo <br>\n",
    "\n",
    "Write a function that reports the time in New York, London, Cairo, Istanbul, Hyderabad, and Tokyo based on the time in Lubbock. Use a 24-hour time format. Include error trapping that:<br>\n",
    "\n",
    "1. Issues a message like \"Please Enter A Number from 00 to 23\" if the first input is numeric but outside the range of [0,23].<br>\n",
    "2. Takes any numeric input for \"Lubbock time\" selection , and forces it into an integer.<br>\n",
    "3. Issues an appropriate message if the user's selection is non-numeric.<br>\n",
    "\n",
    "Test your function for these times:\n",
    "- 8:00\n",
    "- 15:00\n",
    "- 0:00"
   ]
  },
  {
   "cell_type": "code",
   "execution_count": 20,
   "metadata": {},
   "outputs": [],
   "source": [
    "# script goes here"
   ]
  },
  {
   "cell_type": "markdown",
   "metadata": {},
   "source": [
    "### Deliverables\n",
    "- Error-free script\n",
    "- Runs that demonstrate:\n",
    "  - Initial prompt for input\n",
    "  - Detect non-numeric entry issues message\n",
    "  - Detect numeric entry, if acceptable perform time conversions\n",
    "- Runs (3) for the requested times\n",
    "\n",
    "---"
   ]
  },
  {
   "cell_type": "markdown",
   "metadata": {},
   "source": [
    "### Question 8 (20 pts):\n",
    "\n",
    "Write a pseudo-code or an algorithm for the problem below. Add comments and clearly explain what you want to happen in each step and why.  **Describe the algorithm, DO NOT write a python script for this problem -- a flowchart, psuedo-code, or detailed algorithm is sufficient**\n",
    "\n",
    "*The \"Treasure Hunt Problem\" is from the HackerRank.com avaiable at https://www.hackerrank.com/contests/startatastartup/challenges/treasure-hunt*\n",
    "\n",
    "#### Tresure Hunt Problem\n",
    "                  +-------------------------+\n",
    "                  ¦ 34 ¦ 21 ¦ 32 ¦ 41 ¦ 25  ¦\n",
    "                  +----+----+----+----+-----¦\n",
    "                  ¦ 14 ¦ 42 ¦ 43 ¦ 14 ¦ 31  ¦\n",
    "                  +----+----+----+----+-----¦\n",
    "                  ¦ 54 ¦ 45 ¦ 52 ¦ 42 ¦ 23  ¦\n",
    "                  +----+----+----+----+-----¦\n",
    "                  ¦ 33 ¦ 15 ¦ 51 ¦ 31 ¦ 35  ¦\n",
    "                  +----+----+----+----+-----¦\n",
    "                  ¦ 21 ¦ 52 ¦ 33 ¦ 13 ¦ 23  ¦\n",
    "                  +-------------------------+\n",
    "\n",
    "Do you like treasure hunts? In this problem you are to write a program to explore the above array for a treasure. The values in the array are clues. Each cell contains an integer between 11 and 55; for each value the ten's digit represents the row number and the unit's digit represents the column number of the cell containing the next clue. Starting in the upper left corner (at 1,1), use the clues to guide your search of the array. (The first three clues are 11, 34, 42). The treasure is a cell whose value is the same as its coordinates. Your program must first read in the treasure map data into a 5 by 5 array. Your program should output the cells it visits during its search, and a message indicating where you found the treasure."
   ]
  },
  {
   "cell_type": "code",
   "execution_count": 21,
   "metadata": {},
   "outputs": [],
   "source": [
    "# change this cell to markdown put your algorithm here\n",
    "# insert figures in markdown as\n",
    "# ![](figure_file_name.png)"
   ]
  },
  {
   "cell_type": "markdown",
   "metadata": {},
   "source": [
    "---\n",
    "\n",
    "## Bonus Question for extra credit!\n",
    "\n",
    "Create a VOLUME Function to compute the volume of Cylinders, Spheres, Cones, and Rectangular Boxes. This function should:\n",
    "- First, ask the user about __the shape of the object__ of interest using something like:<br>\n",
    "   - *\"Please choose the shape of the object. Enter 1 for \"Cylinder\", 2 for \"Sphere\", 3 for \"Cone\", or 4 for \"Rectangular Box\"\"*<br>\n",
    "- Second, based on user's choice in the previous step, __ask for the right inputs__.\n",
    "- Third, print out an statement with __the input values and the calculated volumes__.\n",
    "\n",
    "#### Include error trapping that:\n",
    "\n",
    "1. Issues a message that *\"The object should be either a Cylinder, a Sphere, a Cone, or a Rectangular Box. Please Enter A Number from 1,2,3, and 4!\"* if the first input is non-numeric.\n",
    "2. Takes any numeric input for the initial selection , and force it into an integer.\n",
    "4. Issues an appropriate message if the user's selection is numeric but outside the range of [1,4]\n",
    "3. Takes any numeric input for the shape characteristics , and force it into a float.\n",
    "4. Issues an appropriate message if the object characteristics are as non-numerics.\n",
    "\n",
    "#### Test the script for:\n",
    "1. Sphere, r=10\n",
    "2. r=10 , Sphere\n",
    "3. Rectangular Box, w=5, h=10, l=0.5\n",
    "\n",
    "\n",
    "- <font color=orange>__Volume of a Cylinder = πr²h__</font>\n",
    "- <font color=orange>__Volume of a Sphere = 4(πr3)/3__</font>\n",
    "- <font color=orange>__Volume of a Cone = (πr²h)/3__</font>\n",
    "- <font color=orange>__Volume of a Rectangular Box = whl__</font>"
   ]
  },
  {
   "cell_type": "code",
   "execution_count": 22,
   "metadata": {},
   "outputs": [],
   "source": [
    "# script goes here"
   ]
  },
  {
   "cell_type": "markdown",
   "metadata": {},
   "source": [
    "### Deliverables\n",
    "- Error-free script\n",
    "- Runs that demonstrate:\n",
    "  - Initial prompt for input\n",
    "    - Message for incorrect inputs\n",
    "  - Secondary prompt for input based on shape\n",
    "      - Message for incorrect inputs\n",
    "  - Compute and report values\n",
    "- Runs (3) for the requested shapes\n",
    "\n",
    "---"
   ]
  }
 ],
 "metadata": {
  "kernelspec": {
   "display_name": "Python 3",
   "language": "python",
   "name": "python3"
  },
  "language_info": {
   "codemirror_mode": {
    "name": "ipython",
    "version": 3
   },
   "file_extension": ".py",
   "mimetype": "text/x-python",
   "name": "python",
   "nbconvert_exporter": "python",
   "pygments_lexer": "ipython3",
   "version": "3.6.9"
  }
 },
 "nbformat": 4,
 "nbformat_minor": 4
}
