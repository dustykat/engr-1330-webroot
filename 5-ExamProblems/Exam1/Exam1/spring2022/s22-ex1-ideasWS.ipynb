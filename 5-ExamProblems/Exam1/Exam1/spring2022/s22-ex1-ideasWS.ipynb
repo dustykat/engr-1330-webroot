{
 "cells": [
  {
   "cell_type": "markdown",
   "metadata": {},
   "source": [
    "# In-Lab Exam"
   ]
  },
  {
   "cell_type": "markdown",
   "metadata": {},
   "source": [
    "## Problem 1 (10 pts)\n",
    "Build a script where the user will supply two numbers: one number to test (call it `num`) and one number to divide by (`check`). If `check` divides evenly into `num`, tell that to the user. If not, print a different appropriate message.\n",
    "\n",
    "Test your script with:\n",
    "\n",
    "- Case 1: num = 3, check = 3\n",
    "- Case 2: num = 3, check = 2\n",
    "- Case 3: num = 30, check = 3"
   ]
  },
  {
   "cell_type": "code",
   "execution_count": null,
   "metadata": {},
   "outputs": [],
   "source": []
  },
  {
   "cell_type": "code",
   "execution_count": 3,
   "metadata": {},
   "outputs": [],
   "source": [
    "# define variables\n",
    "# interactive input\n",
    "# computation/compare\n",
    "# report result"
   ]
  },
  {
   "cell_type": "code",
   "execution_count": null,
   "metadata": {},
   "outputs": [],
   "source": [
    "# Case 1"
   ]
  },
  {
   "cell_type": "code",
   "execution_count": null,
   "metadata": {},
   "outputs": [],
   "source": [
    "# Case 2"
   ]
  },
  {
   "cell_type": "code",
   "execution_count": null,
   "metadata": {},
   "outputs": [],
   "source": [
    "# Case 3"
   ]
  },
  {
   "cell_type": "markdown",
   "metadata": {},
   "source": [
    "## Problem 2 (10 pts)\n",
    "Build a script where the user will supply a number then determine of it is a palindrome number. A palindrome number is a number that is same after reverse. For example 545, is a palindrome number.\n",
    "- Case 1: 545\n",
    "- Case 2: 123\n",
    "- Case 3: 666"
   ]
  },
  {
   "cell_type": "code",
   "execution_count": null,
   "metadata": {},
   "outputs": [],
   "source": [
    "# define variables\n",
    "# interactive input\n",
    "# computation/compare\n",
    "# report result"
   ]
  },
  {
   "cell_type": "code",
   "execution_count": null,
   "metadata": {},
   "outputs": [],
   "source": [
    "# Case 1"
   ]
  },
  {
   "cell_type": "code",
   "execution_count": null,
   "metadata": {},
   "outputs": [],
   "source": [
    "# Case 2"
   ]
  },
  {
   "cell_type": "code",
   "execution_count": null,
   "metadata": {},
   "outputs": [],
   "source": [
    "# Case 3"
   ]
  },
  {
   "cell_type": "markdown",
   "metadata": {},
   "source": [
    "# Problem 3 Repetition (sum a table supplied in a file)\n",
    "\n",
    "Two lists are defined as\n",
    "\n",
    "```\n",
    "x= [1.0,1.1,1.2,1.3,1.4,1.5,1.6,1.7,1.8]\n",
    "f_of_x = [1.543,1.668,1.811,1.971,2.151,2.352,2.577,2.828,3.107]\n",
    "```\n",
    "\n",
    "Create a script that determines the length of each list and if they are the same length then print the contents of each list row-wise, and the running sum of `f_of_x` so the output looks like\n",
    "\n",
    "```\n",
    "--x--  --f_of_x--  --sum--\n",
    "1.0     1.543      1.543\n",
    "1.1     1.668      3.211\n",
    "...     ...        ...\n",
    "...     ...        ...\n",
    "1.7     2.828      16.901\n",
    "1.8     3.107      20.008\n",
    "```\n",
    "\n",
    "Test your script using the two lists above, then with the two lists below:\n",
    "\n",
    "```\n",
    "x= [1.0,1.1,1.2,1.3,1.4,1.5,1.6,1.7,1.8]\n",
    "f_of_x =[1.543, 4.754, 9.776, 16.769, 25.913, 37.409, 51.482, 68.383, 88.391]\n",
    "```"
   ]
  },
  {
   "cell_type": "code",
   "execution_count": 105,
   "metadata": {},
   "outputs": [
    {
     "name": "stdout",
     "output_type": "stream",
     "text": [
      "1.0 1.543 1.543\n",
      "1.1 3.211 4.754\n",
      "1.2 5.022 9.776\n",
      "1.3 6.993 16.769\n",
      "1.4 9.144 25.912999999999997\n",
      "1.5 11.496 37.409\n",
      "1.6 14.073 51.482\n",
      "1.7 16.901 68.383\n",
      "1.8 20.008 88.39099999999999\n",
      "[1.543, 4.754, 9.776, 16.769, 25.913, 37.409, 51.482, 68.383, 88.391]\n"
     ]
    }
   ],
   "source": [
    "x= [1.0,1.1,1.2,1.3,1.4,1.5,1.6,1.7,1.8]\n",
    "f_of_x = [1.543,3.211,5.022,6.993,9.144,11.496,14.073,16.901,20.008]\n",
    "sum =0.0\n",
    "rsum = []\n",
    "for i in range(len(f_of_x)):\n",
    "    sum=sum+f_of_x[i]\n",
    "    rsum.append(round(sum,3))\n",
    "    print(x[i],f_of_x[i],sum)\n",
    "print(rsum)"
   ]
  },
  {
   "cell_type": "markdown",
   "metadata": {},
   "source": [
    "# Problem 4 Function\n",
    "Build a function that takes as input two integer numbers. The function should return their product if the product is greater than 666, otherwise the function should return their sum.  \n",
    "\n",
    "Employ the function in an interactive script and test the following cases:\n",
    "\n",
    "- Case 1: 65 and 10\n",
    "- Case 2: 66 and 11\n",
    "- Case 3: 25 and 5"
   ]
  },
  {
   "cell_type": "code",
   "execution_count": null,
   "metadata": {},
   "outputs": [],
   "source": [
    "# define variables\n",
    "# interactive input\n",
    "# computation/compare\n",
    "# report result"
   ]
  },
  {
   "cell_type": "code",
   "execution_count": null,
   "metadata": {},
   "outputs": [],
   "source": [
    "# Case 1"
   ]
  },
  {
   "cell_type": "code",
   "execution_count": null,
   "metadata": {},
   "outputs": [],
   "source": [
    "# Case 2"
   ]
  },
  {
   "cell_type": "code",
   "execution_count": null,
   "metadata": {},
   "outputs": [],
   "source": [
    "# Case 3"
   ]
  }
 ],
 "metadata": {
  "kernelspec": {
   "display_name": "Python 3",
   "language": "python",
   "name": "python3"
  },
  "language_info": {
   "codemirror_mode": {
    "name": "ipython",
    "version": 3
   },
   "file_extension": ".py",
   "mimetype": "text/x-python",
   "name": "python",
   "nbconvert_exporter": "python",
   "pygments_lexer": "ipython3",
   "version": "3.8.10"
  }
 },
 "nbformat": 4,
 "nbformat_minor": 4
}
