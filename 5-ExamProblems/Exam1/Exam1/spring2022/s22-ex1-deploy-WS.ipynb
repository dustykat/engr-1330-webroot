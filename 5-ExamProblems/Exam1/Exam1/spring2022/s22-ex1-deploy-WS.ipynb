{
 "cells": [
  {
   "cell_type": "markdown",
   "metadata": {},
   "source": [
    "# <font color=darkblue>ENGR 1330-2022-1 Exam1-Laboratory Portion  </font>\n",
    "\n",
    "**LAST NAME, FIRST NAME**\n",
    "\n",
    "**R00000000**\n",
    "\n",
    "ENGR 1330 Exam 1 - Laboratory/Programming Skills\n",
    "\n",
    "---\n",
    "\n",
    "**Download** (right-click, save target as ...) this page as a jupyterlab notebook from: [s22-ex1-deploy.ipynb](http://54.243.252.9/engr-1330-webroot/5-ExamProblems/Exam1/Exam1/spring2022/s22-ex1-deploy.ipynb)\n",
    "\n",
    "**If you are unable to download the file, create an empty notebook and copy paste the problems into Markdown cells and Code cells (problem-by-problem)**\n",
    "\n"
   ]
  },
  {
   "cell_type": "markdown",
   "metadata": {},
   "source": [
    "---\n",
    "\n",
    "## Problem 1 (10 pts) : <font color = 'magenta'>*Profile your computer*</font>\n",
    "\n",
    "Execute the code cell below exactly as written.  If you get an error just continue to the remaining problems."
   ]
  },
  {
   "cell_type": "code",
   "execution_count": 1,
   "metadata": {},
   "outputs": [
    {
     "name": "stdout",
     "output_type": "stream",
     "text": [
      "atomickitty\n",
      "sensei\n",
      "/opt/jupyterhub/bin/python3\n",
      "3.8.10 (default, Nov 26 2021, 20:14:08) \n",
      "[GCC 9.3.0]\n",
      "sys.version_info(major=3, minor=8, micro=10, releaselevel='final', serial=0)\n"
     ]
    }
   ],
   "source": [
    "# Preamble script block to identify host, user, and kernel\n",
    "import sys\n",
    "! hostname\n",
    "! whoami\n",
    "print(sys.executable)\n",
    "print(sys.version)\n",
    "print(sys.version_info)"
   ]
  },
  {
   "cell_type": "markdown",
   "metadata": {},
   "source": [
    "**The output should be unique to each student's computer**  I usually check the hostname and user, hostname should be unique if two are identical then look at the sys exec line, those should not be same if computers are different.  Flag common entries as possible academic dishonesty and move on, come back later to resolve reasons."
   ]
  },
  {
   "cell_type": "markdown",
   "metadata": {},
   "source": [
    "---\n",
    "\n",
    "## Problem 2 (10 pts): <font color = 'magenta'>*input(),typecast, string reversal, comparison based selection, print()*</font>\n",
    "\n",
    "Build a script where the user will supply a number then determine if it is a palindrome number. A palindrome number is a number that is same after reversal. For example 545, is a palindrome number.\n",
    "- Case 1: 545\n",
    "- Case 2: 123\n",
    "- Case 3: 666"
   ]
  },
  {
   "cell_type": "code",
   "execution_count": null,
   "metadata": {},
   "outputs": [],
   "source": [
    "# non-interactive inputs -1 any instance\n",
    "# omit the typecast (put comment in annotation) (-0)\n",
    "# reversal by slicing Ok; idexing;  failed reversal -1\n",
    "# failed comparison in logic structure -1\n",
    "# fail to report result -1 (message as simple as \"Yay\")"
   ]
  },
  {
   "cell_type": "code",
   "execution_count": 10,
   "metadata": {},
   "outputs": [
    {
     "name": "stdin",
     "output_type": "stream",
     "text": [
      "Enter a number 545\n"
     ]
    },
    {
     "name": "stdout",
     "output_type": "stream",
     "text": [
      "Yay! Its a palindrome number Input  545 Reverse  545\n"
     ]
    }
   ],
   "source": [
    "# Case 1\n",
    "# define variables\n",
    "# interactive input\n",
    "mynumber = str(input(\"Enter a number\"))  #the typecast is unneeded but to be precise ...\n",
    "reverse_mynumber = mynumber[-1::-1]\n",
    "# computation/compare\n",
    "if mynumber == reverse_mynumber:\n",
    "    print (\"Yay! Its a palindrome number\",\"Input \",mynumber,\"Reverse \",reverse_mynumber)\n",
    "else:\n",
    "    print (\"Bummer, its not a palindrome\",\"Input \",mynumber,\"Reverse \",reverse_mynumber)\n",
    "# report result"
   ]
  },
  {
   "cell_type": "code",
   "execution_count": 11,
   "metadata": {},
   "outputs": [
    {
     "name": "stdin",
     "output_type": "stream",
     "text": [
      "Enter a number 123\n"
     ]
    },
    {
     "name": "stdout",
     "output_type": "stream",
     "text": [
      "Bummer, its not a palindrome Input  123 Reverse  321\n"
     ]
    }
   ],
   "source": [
    "# Case 2\n",
    "# define variables\n",
    "# interactive input\n",
    "mynumber = str(input(\"Enter a number\"))  #the typecast is unneeded but to be precise ...\n",
    "reverse_mynumber = mynumber[-1::-1]\n",
    "# computation/compare\n",
    "if mynumber == reverse_mynumber:\n",
    "    print (\"Yay! Its a palindrome number\",\"Input \",mynumber,\"Reverse \",reverse_mynumber)\n",
    "else:\n",
    "    print (\"Bummer, its not a palindrome\",\"Input \",mynumber,\"Reverse \",reverse_mynumber)\n",
    "# report result"
   ]
  },
  {
   "cell_type": "code",
   "execution_count": 12,
   "metadata": {},
   "outputs": [
    {
     "name": "stdin",
     "output_type": "stream",
     "text": [
      "Enter a number 666\n"
     ]
    },
    {
     "name": "stdout",
     "output_type": "stream",
     "text": [
      "Yay! Its a palindrome number Input  666 Reverse  666\n"
     ]
    }
   ],
   "source": [
    "# Case 3\n",
    "# define variables\n",
    "# interactive input\n",
    "mynumber = str(input(\"Enter a number\"))  #the typecast is unneeded but to be precise ...\n",
    "reverse_mynumber = mynumber[-1::-1]\n",
    "# computation/compare\n",
    "if mynumber == reverse_mynumber:\n",
    "    print (\"Yay! Its a palindrome number\",\"Input \",mynumber,\"Reverse \",reverse_mynumber)\n",
    "else:\n",
    "    print (\"Bummer, its not a palindrome\",\"Input \",mynumber,\"Reverse \",reverse_mynumber)\n",
    "# report result"
   ]
  },
  {
   "cell_type": "markdown",
   "metadata": {},
   "source": [
    "---\n",
    "\n",
    "## Problem 3 (15 pts): <font color = 'magenta'>*len(),compare,accumulator, populate an empty list,for loop, print()*</font>\n",
    "\n",
    "Two lists are defined as\n",
    "\n",
    "```\n",
    "x= [1.0,1.1,1.2,1.3,1.4,1.5,1.6,1.7,1.8]\n",
    "f_of_x = [1.543,1.668,1.811,1.971,2.151,2.352,2.577,2.828,3.107]\n",
    "```\n",
    "\n",
    "Create a script that determines the length of each list and if they are the same length then print the contents of each list row-wise, and the running sum of `f_of_x` so the output looks like\n",
    "\n",
    "```\n",
    "--x--  --f_of_x--  --sum--\n",
    "1.0     1.543      1.543\n",
    "1.1     1.668      3.211\n",
    "...     ...        ...\n",
    "...     ...        ...\n",
    "1.7     2.828      16.901\n",
    "1.8     3.107      20.008\n",
    "```\n",
    "\n",
    "Test your script using the two lists above, then with the two lists below:\n",
    "\n",
    "```\n",
    "x= [1.0,1.1,1.2,1.3,1.4,1.5,1.6,1.7,1.8]\n",
    "f_of_x =[1.543, 3.211, 5.022, 6.993, 9.144, 11.496, 14.073, 16.901, 20.008]\n",
    "```"
   ]
  },
  {
   "cell_type": "code",
   "execution_count": null,
   "metadata": {},
   "outputs": [],
   "source": [
    "# fail to use a structured repetition to print result and accumulate sum (-5 points)\n",
    "# sum() is OK but must be in correct location\n",
    "\n",
    "# fail to write the output as specified (-5)"
   ]
  },
  {
   "cell_type": "code",
   "execution_count": 22,
   "metadata": {},
   "outputs": [
    {
     "name": "stdout",
     "output_type": "stream",
     "text": [
      "--x--  --f_of_x--  --sum--\n",
      "1.0      1.543      1.543\n",
      "1.1      1.668      3.211\n",
      "1.2      1.811      5.022\n",
      "1.3      1.971      6.993\n",
      "1.4      2.151      9.144\n",
      "1.5      2.352      11.496\n",
      "1.6      2.577      14.073\n",
      "1.7      2.828      16.901\n",
      "1.8      3.107      20.008\n"
     ]
    }
   ],
   "source": [
    "# define variables\n",
    "# Case 1 \n",
    "x= [1.0,1.1,1.2,1.3,1.4,1.5,1.6,1.7,1.8]\n",
    "f_of_x = [1.543,1.668,1.811,1.971,2.151,2.352,2.577,2.828,3.107]\n",
    "# validate lengths\n",
    "if len(x)==len(f_of_x):\n",
    "    sum =0.0 # initialize accumulator and empty list to store a running sum\n",
    "    rsum = [] \n",
    "    print(\"--x--  --f_of_x--  --sum--\") # print header line\n",
    "    for i in range(len(f_of_x)): # repetition (for loop) structure\n",
    "        sum=sum+f_of_x[i]\n",
    "        rsum.append(round(sum,3))\n",
    "        print(x[i],'    ',f_of_x[i],'    ',round(sum,3)) # report result\n",
    "#    print(rsum)\n",
    "else:\n",
    "    print('Incompatable lengths check your lists!') # report result\n"
   ]
  },
  {
   "cell_type": "code",
   "execution_count": 23,
   "metadata": {},
   "outputs": [
    {
     "name": "stdout",
     "output_type": "stream",
     "text": [
      "--x--  --f_of_x--  --sum--\n",
      "1.0      1.543      1.543\n",
      "1.1      3.211      4.754\n",
      "1.2      5.022      9.776\n",
      "1.3      6.993      16.769\n",
      "1.4      9.144      25.913\n",
      "1.5      11.496      37.409\n",
      "1.6      14.073      51.482\n",
      "1.7      16.901      68.383\n",
      "1.8      20.008      88.391\n"
     ]
    }
   ],
   "source": [
    "# define variables\n",
    "# Case 2\n",
    "# ...\n",
    "x= [1.0,1.1,1.2,1.3,1.4,1.5,1.6,1.7,1.8]\n",
    "f_of_x = [1.543,3.211,5.022,6.993,9.144,11.496,14.073,16.901,20.008]\n",
    "if len(x)==len(f_of_x):\n",
    "    print(\"--x--  --f_of_x--  --sum--\")\n",
    "    sum =0.0\n",
    "    rsum = []\n",
    "    for i in range(len(f_of_x)):\n",
    "        sum=sum+f_of_x[i]\n",
    "        rsum.append(round(sum,3))\n",
    "        print(x[i],'    ',f_of_x[i],'    ',round(sum,3))\n",
    "#    print(rsum)\n",
    "else:\n",
    "    print('Incompatable lengths check your lists!')"
   ]
  },
  {
   "cell_type": "markdown",
   "metadata": {},
   "source": [
    "---\n",
    "\n",
    "## Problem 4 Function (15 points) : <font color = 'magenta'> *def ..., input(),typecast,arithmetic based selection, print()* </font>\n",
    "Build a function that takes as input two integer numbers. The function should return their product if the product is greater than 666, otherwise the function should return their sum.  \n",
    "\n",
    "Employ the function in an interactive script and test the following cases:\n",
    "\n",
    "- Case 1: 65 and 10\n",
    "- Case 2: 66 and 11\n",
    "- Case 3: 25 and 5"
   ]
  },
  {
   "cell_type": "code",
   "execution_count": null,
   "metadata": {},
   "outputs": [],
   "source": [
    "# failed to put the logic into a function (-5 pts)\n",
    "# fail to define before accessing function (not prototyping in the kernel) (-2 failing to to prototype)\n",
    "# not typecasting the input (-1)\n",
    "# failed to create a wrapper script (-5)\n",
    "# fail to use interactive inputs as per specifications (-2)"
   ]
  },
  {
   "cell_type": "code",
   "execution_count": 24,
   "metadata": {},
   "outputs": [],
   "source": [
    "# define function\n",
    "def product(num1,num2):\n",
    "    temp = num1*num2\n",
    "    if temp > 666:\n",
    "        product = temp\n",
    "    else:\n",
    "        product = num1+num2\n",
    "    return product"
   ]
  },
  {
   "cell_type": "code",
   "execution_count": 25,
   "metadata": {},
   "outputs": [
    {
     "name": "stdin",
     "output_type": "stream",
     "text": [
      "Enter an integer 65\n",
      "Enter an integer 10\n"
     ]
    },
    {
     "name": "stdout",
     "output_type": "stream",
     "text": [
      "Result 75\n"
     ]
    }
   ],
   "source": [
    "# Case 1# interactive input\n",
    "num1 = int(input('Enter an integer'))\n",
    "num2 = int(input('Enter an integer'))\n",
    "# computation/compare\n",
    "print(\"Result\",product(num1,num2))\n",
    "# report result"
   ]
  },
  {
   "cell_type": "code",
   "execution_count": 26,
   "metadata": {},
   "outputs": [
    {
     "name": "stdin",
     "output_type": "stream",
     "text": [
      "Enter an integer 66\n",
      "Enter an integer 11\n"
     ]
    },
    {
     "name": "stdout",
     "output_type": "stream",
     "text": [
      "Result 726\n"
     ]
    }
   ],
   "source": [
    "# Case 2\n",
    "# interactive input\n",
    "num1 = int(input('Enter an integer'))\n",
    "num2 = int(input('Enter an integer'))\n",
    "# computation/compare\n",
    "print(\"Result\",product(num1,num2))\n",
    "# report result"
   ]
  },
  {
   "cell_type": "code",
   "execution_count": 27,
   "metadata": {},
   "outputs": [
    {
     "name": "stdin",
     "output_type": "stream",
     "text": [
      "Enter an integer 25\n",
      "Enter an integer 5\n"
     ]
    },
    {
     "name": "stdout",
     "output_type": "stream",
     "text": [
      "Result 30\n"
     ]
    }
   ],
   "source": [
    "# Case 3\n",
    "# interactive input\n",
    "num1 = int(input('Enter an integer'))\n",
    "num2 = int(input('Enter an integer'))\n",
    "# computation/compare\n",
    "print(\"Result\",product(num1,num2))\n",
    "# report result"
   ]
  },
  {
   "cell_type": "code",
   "execution_count": null,
   "metadata": {},
   "outputs": [],
   "source": []
  }
 ],
 "metadata": {
  "kernelspec": {
   "display_name": "Python 3",
   "language": "python",
   "name": "python3"
  },
  "language_info": {
   "codemirror_mode": {
    "name": "ipython",
    "version": 3
   },
   "file_extension": ".py",
   "mimetype": "text/x-python",
   "name": "python",
   "nbconvert_exporter": "python",
   "pygments_lexer": "ipython3",
   "version": "3.8.10"
  }
 },
 "nbformat": 4,
 "nbformat_minor": 4
}
