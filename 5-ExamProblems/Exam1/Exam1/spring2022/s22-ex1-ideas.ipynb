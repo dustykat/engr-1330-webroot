{
 "cells": [
  {
   "cell_type": "markdown",
   "metadata": {},
   "source": [
    "# In-Lab Exam"
   ]
  },
  {
   "cell_type": "code",
   "execution_count": 1,
   "metadata": {},
   "outputs": [],
   "source": [
    "student = {\n",
    " \"name\": \"Emma\",\n",
    " \"class\": 9,\n",
    " \"marks\": 75\n",
    "}"
   ]
  },
  {
   "cell_type": "code",
   "execution_count": 5,
   "metadata": {},
   "outputs": [
    {
     "ename": "KeyError",
     "evalue": "2",
     "output_type": "error",
     "traceback": [
      "\u001b[0;31m---------------------------------------------------------------------------\u001b[0m",
      "\u001b[0;31mKeyError\u001b[0m                                  Traceback (most recent call last)",
      "\u001b[0;32m<ipython-input-5-0f069213015e>\u001b[0m in \u001b[0;36m<module>\u001b[0;34m\u001b[0m\n\u001b[0;32m----> 1\u001b[0;31m \u001b[0mm\u001b[0m \u001b[0;34m=\u001b[0m \u001b[0;34m(\u001b[0m\u001b[0mstudent\u001b[0m\u001b[0;34m[\u001b[0m\u001b[0;36m2\u001b[0m\u001b[0;34m]\u001b[0m\u001b[0;34m)\u001b[0m\u001b[0;34m\u001b[0m\u001b[0;34m\u001b[0m\u001b[0m\n\u001b[0m\u001b[1;32m      2\u001b[0m \u001b[0mprint\u001b[0m\u001b[0;34m(\u001b[0m\u001b[0mm\u001b[0m\u001b[0;34m)\u001b[0m\u001b[0;34m\u001b[0m\u001b[0;34m\u001b[0m\u001b[0m\n",
      "\u001b[0;31mKeyError\u001b[0m: 2"
     ]
    }
   ],
   "source": [
    "m = (student[2])\n",
    "print(m)"
   ]
  },
  {
   "cell_type": "code",
   "execution_count": 10,
   "metadata": {},
   "outputs": [
    {
     "name": "stdout",
     "output_type": "stream",
     "text": [
      "My first code shows:\n",
      "\"         Hello World'           \n"
     ]
    }
   ],
   "source": [
    "\n",
    "\n",
    "mystring=\"My first code shows:\\n\\\"         Hello World\\'           \"\n",
    "\n",
    "print(mystring)\n"
   ]
  },
  {
   "cell_type": "markdown",
   "metadata": {},
   "source": [
    "---\n",
    "\n",
    "## Problem 1 (10 pts) : *input(), arithmetic based selection, print()*\n",
    "\n",
    "Build a script where the user will supply two numbers: one number to test (call it `num`) and one number to divide by (call it `check`). If `check` divides evenly into `num`, tell that to the user. If not, print an alternate appropriate message.\n",
    "\n",
    "Test your script with:\n",
    "\n",
    "- Case 1: num = 3, check = 3\n",
    "- Case 2: num = 3, check = 2\n",
    "- Case 3: num = 30, check = 3"
   ]
  },
  {
   "cell_type": "code",
   "execution_count": 1,
   "metadata": {},
   "outputs": [],
   "source": [
    "# define variables\n",
    "# interactive input\n",
    "# computation/compare\n",
    "# report result"
   ]
  },
  {
   "cell_type": "code",
   "execution_count": 2,
   "metadata": {},
   "outputs": [],
   "source": [
    "# Case 1"
   ]
  },
  {
   "cell_type": "code",
   "execution_count": 3,
   "metadata": {},
   "outputs": [],
   "source": [
    "# Case 2"
   ]
  },
  {
   "cell_type": "code",
   "execution_count": 4,
   "metadata": {},
   "outputs": [],
   "source": [
    "# Case 3"
   ]
  },
  {
   "cell_type": "markdown",
   "metadata": {},
   "source": [
    "---\n",
    "\n",
    "## Problem 2 (10 pts): *input(),typecast, string reversal, comparison based selection, print()*\n",
    "\n",
    "Build a script where the user will supply a number then determine if it is a palindrome number. A palindrome number is a number that is same after reversal. For example 545, is a palindrome number.\n",
    "- Case 1: 545\n",
    "- Case 2: 123\n",
    "- Case 3: 666"
   ]
  },
  {
   "cell_type": "code",
   "execution_count": 5,
   "metadata": {},
   "outputs": [],
   "source": [
    "# define variables\n",
    "# interactive input\n",
    "# computation/compare\n",
    "# report result"
   ]
  },
  {
   "cell_type": "code",
   "execution_count": 6,
   "metadata": {},
   "outputs": [],
   "source": [
    "# Case 1"
   ]
  },
  {
   "cell_type": "code",
   "execution_count": 7,
   "metadata": {},
   "outputs": [],
   "source": [
    "# Case 2"
   ]
  },
  {
   "cell_type": "code",
   "execution_count": 8,
   "metadata": {},
   "outputs": [],
   "source": [
    "# Case 3"
   ]
  },
  {
   "cell_type": "markdown",
   "metadata": {},
   "source": [
    "---\n",
    "\n",
    "## Problem 3 (15 pts): *len(),compare,accumulate and populate empty list,for loop, print()*\n",
    "\n",
    "Two lists are defined as\n",
    "\n",
    "```\n",
    "x= [1.0,1.1,1.2,1.3,1.4,1.5,1.6,1.7,1.8]\n",
    "f_of_x = [1.543,1.668,1.811,1.971,2.151,2.352,2.577,2.828,3.107]\n",
    "```\n",
    "\n",
    "Create a script that determines the length of each list and if they are the same length then print the contents of each list row-wise, and the running sum of `f_of_x` so the output looks like\n",
    "\n",
    "```\n",
    "--x--  --f_of_x--  --sum--\n",
    "1.0     1.543      1.543\n",
    "1.1     1.668      3.211\n",
    "...     ...        ...\n",
    "...     ...        ...\n",
    "1.7     2.828      16.901\n",
    "1.8     3.107      20.008\n",
    "```\n",
    "\n",
    "Test your script using the two lists above, then with the two lists below:\n",
    "\n",
    "```\n",
    "x= [1.0,1.1,1.2,1.3,1.4,1.5,1.6,1.7,1.8]\n",
    "f_of_x =[1.543, 3.211, 5.022, 6.993, 9.144, 11.496, 14.073, 16.901, 20.008]\n",
    "```"
   ]
  },
  {
   "cell_type": "code",
   "execution_count": 15,
   "metadata": {},
   "outputs": [
    {
     "name": "stdout",
     "output_type": "stream",
     "text": [
      "--x--  --f_of_x--  --sum--\n",
      "1.0     1.543     1.543\n",
      "1.1     1.668     3.211\n",
      "1.2     1.811     5.022\n",
      "1.3     1.971     6.993\n",
      "1.4     2.151     9.144\n",
      "1.5     2.352     11.496\n",
      "1.6     2.577     14.073\n",
      "1.7     2.828     16.901\n",
      "1.8     3.107     20.008\n"
     ]
    }
   ],
   "source": [
    "# define variables\n",
    "# Case 1 \n",
    "x= [1.0,1.1,1.2,1.3,1.4,1.5,1.6,1.7,1.8]\n",
    "f_of_x = [1.543,1.668,1.811,1.971,2.151,2.352,2.577,2.828,3.107]\n",
    "# validate lengths\n",
    "if len(x)==len(f_of_x):\n",
    "# initialize accumulator and empty list to store a running sum\n",
    "    sure = 0.0\n",
    "# print header line\n",
    "    print(\"--x--  --f_of_x--  --sum--\")\n",
    "# repetition (for loop) structure\n",
    "    for i in range(len(x)):\n",
    "          sure = sure + f_of_x[i]\n",
    "          print(x[i],\"   \",f_of_x[i],\"   \",sure)\n",
    "# report result\n",
    "else:\n",
    "    print('diferent lengths')"
   ]
  },
  {
   "cell_type": "code",
   "execution_count": 10,
   "metadata": {},
   "outputs": [],
   "source": [
    "# define variables\n",
    "# Case 2\n",
    "# ..."
   ]
  },
  {
   "cell_type": "markdown",
   "metadata": {},
   "source": [
    "---\n",
    "\n",
    "## Problem 4 Function (15 points)\n",
    "Build a function that takes as input two integer numbers. The function should return their product if the product is greater than 666, otherwise the function should return their sum.  \n",
    "\n",
    "Employ the function in an interactive script and test the following cases:\n",
    "\n",
    "- Case 1: 65 and 10\n",
    "- Case 2: 66 and 11\n",
    "- Case 3: 25 and 5"
   ]
  },
  {
   "cell_type": "code",
   "execution_count": 11,
   "metadata": {},
   "outputs": [],
   "source": [
    "# define variables\n",
    "# interactive input\n",
    "# computation/compare\n",
    "# report result"
   ]
  },
  {
   "cell_type": "code",
   "execution_count": 12,
   "metadata": {},
   "outputs": [],
   "source": [
    "# Case 1"
   ]
  },
  {
   "cell_type": "code",
   "execution_count": 13,
   "metadata": {},
   "outputs": [],
   "source": [
    "# Case 2"
   ]
  },
  {
   "cell_type": "code",
   "execution_count": null,
   "metadata": {},
   "outputs": [],
   "source": [
    "# Case 3"
   ]
  }
 ],
 "metadata": {
  "kernelspec": {
   "display_name": "Python 3",
   "language": "python",
   "name": "python3"
  },
  "language_info": {
   "codemirror_mode": {
    "name": "ipython",
    "version": 3
   },
   "file_extension": ".py",
   "mimetype": "text/x-python",
   "name": "python",
   "nbconvert_exporter": "python",
   "pygments_lexer": "ipython3",
   "version": "3.8.10"
  }
 },
 "nbformat": 4,
 "nbformat_minor": 4
}
