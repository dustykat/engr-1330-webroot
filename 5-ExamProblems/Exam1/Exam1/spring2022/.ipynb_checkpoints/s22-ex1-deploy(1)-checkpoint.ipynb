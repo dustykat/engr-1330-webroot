{
 "cells": [
  {
   "cell_type": "markdown",
   "metadata": {},
   "source": [
    "# <font color=darkblue>ENGR 1330-2022-1 Exam1-Laboratory Portion  </font>\n",
    "\n",
    "**Alexander, Keegan**\n",
    "\n",
    "**R11787034**\n",
    "\n",
    "ENGR 1330 Exam 1 - Laboratory/Programming Skills\n",
    "\n",
    "---\n",
    "\n",
    "**Download** (right-click, save target as ...) this page as a jupyterlab notebook from: [s22-ex1-deploy.ipynb](http://54.243.252.9/engr-1330-webroot/5-ExamProblems/Exam1/Exam1/spring2022/s22-ex1-deploy.ipynb)\n",
    "\n",
    "**If you are unable to download the file, create an empty notebook and copy paste the problems into Markdown cells and Code cells (problem-by-problem)**\n",
    "\n"
   ]
  },
  {
   "cell_type": "markdown",
   "metadata": {},
   "source": [
    "---\n",
    "\n",
    "## Problem 1 (10 pts) : <font color = 'magenta'>*Profile your computer*</font>\n",
    "\n",
    "Execute the code cell below exactly as written.  If you get an error just continue to the remaining problems."
   ]
  },
  {
   "cell_type": "code",
   "execution_count": 1,
   "metadata": {},
   "outputs": [
    {
     "name": "stdout",
     "output_type": "stream",
     "text": [
      "DESKTOP-5A5251J\n",
      "desktop-5a5251j\\keega\n",
      "C:\\Users\\keega\\Documents\\Anaconda download\\python.exe\n",
      "3.9.7 (default, Sep 16 2021, 16:59:28) [MSC v.1916 64 bit (AMD64)]\n",
      "sys.version_info(major=3, minor=9, micro=7, releaselevel='final', serial=0)\n"
     ]
    }
   ],
   "source": [
    "# Preamble script block to identify host, user, and kernel\n",
    "import sys\n",
    "! hostname\n",
    "! whoami\n",
    "print(sys.executable)\n",
    "print(sys.version)\n",
    "print(sys.version_info)"
   ]
  },
  {
   "cell_type": "markdown",
   "metadata": {},
   "source": [
    "---\n",
    "\n",
    "## Problem 2 (10 pts): <font color = 'magenta'>*input(),typecast, string reversal, comparison based selection, print()*</font>\n",
    "\n",
    "Build a script where the user will supply a number then determine if it is a palindrome number. A palindrome number is a number that is same after reversal. For example 545, is a palindrome number.\n",
    "- Case 1: 545\n",
    "- Case 2: 123\n",
    "- Case 3: 666"
   ]
  },
  {
   "cell_type": "code",
   "execution_count": 10,
   "metadata": {},
   "outputs": [
    {
     "name": "stdout",
     "output_type": "stream",
     "text": [
      "give a number for n:545\n",
      "545  is a palindrome number.\n"
     ]
    }
   ],
   "source": [
    "# Case 1\n",
    "\n",
    "numberstring = input(\"give a number for n:\")\n",
    "numdigits = len(numberstring)\n",
    "if(numdigits % 2 == 0):\n",
    "    middlepoint = numdigits // 2\n",
    "    print (\"middle point is:\")\n",
    "    firsthalf = numberstring[0:middlepoint]\n",
    "    secondhalf = numberstring[middlepoint:]\n",
    "    print (\"first half is:\", firsthalf)\n",
    "    reversefirsthalf = firsthalf[::-1]\n",
    "    print(\"reverse first half is:\", reversefirsthalf)\n",
    "    print (\"second half is:\", secondhalf)\n",
    "if(numdigits % 3 == 0):\n",
    "    middlepoint = numdigits // 3\n",
    "    if(reversefirsthalf == secondhalf):\n",
    "        print(numberstring,' is a palindrome number.')\n",
    "    else:\n",
    "         print(numberstring,' is not a palindrome number.')"
   ]
  },
  {
   "cell_type": "code",
   "execution_count": 11,
   "metadata": {},
   "outputs": [
    {
     "name": "stdout",
     "output_type": "stream",
     "text": [
      "give a number for n:123\n",
      "123  is a palindrome number.\n"
     ]
    }
   ],
   "source": [
    "# Case 2\n",
    "\n",
    "numberstring = input(\"give a number for n:\")\n",
    "numdigits = len(numberstring)\n",
    "if(numdigits % 2 == 0):\n",
    "    middlepoint = numdigits // 2\n",
    "    print (\"middle point is:\")\n",
    "    firsthalf = numberstring[0:middlepoint]\n",
    "    secondhalf = numberstring[middlepoint:]\n",
    "    print (\"first half is:\", firsthalf)\n",
    "    reversefirsthalf = firsthalf[::-1]\n",
    "    print(\"reverse first half is:\", reversefirsthalf)\n",
    "    print (\"second half is:\", secondhalf)\n",
    "if(numdigits % 3 == 0):\n",
    "    middlepoint = numdigits // 3\n",
    "    if(reversefirsthalf == secondhalf):\n",
    "        print(numberstring,' is a palindrome number.')\n",
    "    else:\n",
    "         print(numberstring,' is not a palindrome number.')"
   ]
  },
  {
   "cell_type": "code",
   "execution_count": 12,
   "metadata": {},
   "outputs": [
    {
     "name": "stdout",
     "output_type": "stream",
     "text": [
      "give a number for n:666\n",
      "666  is a palindrome number.\n"
     ]
    }
   ],
   "source": [
    "# Case 3\n",
    "\n",
    "numberstring = input(\"give a number for n:\")\n",
    "numdigits = len(numberstring)\n",
    "if(numdigits % 2 == 0):\n",
    "    middlepoint = numdigits // 2\n",
    "    print (\"middle point is:\")\n",
    "    firsthalf = numberstring[0:middlepoint]\n",
    "    secondhalf = numberstring[middlepoint:]\n",
    "    print (\"first half is:\", firsthalf)\n",
    "    reversefirsthalf = firsthalf[::-1]\n",
    "    print(\"reverse first half is:\", reversefirsthalf)\n",
    "    print (\"second half is:\", secondhalf)\n",
    "if(numdigits % 3 == 0):\n",
    "    middlepoint = numdigits // 3\n",
    "    if(reversefirsthalf == secondhalf):\n",
    "        print(numberstring,' is a palindrome number.')\n",
    "    else:\n",
    "         print(numberstring,' is not a palindrome number.')"
   ]
  },
  {
   "cell_type": "markdown",
   "metadata": {},
   "source": [
    "---\n",
    "\n",
    "## Problem 3 (15 pts): <font color = 'magenta'>*len(),compare,accumulator, populate an empty list,for loop, print()*</font>\n",
    "\n",
    "Two lists are defined as\n",
    "\n",
    "```\n",
    "x= [1.0,1.1,1.2,1.3,1.4,1.5,1.6,1.7,1.8]\n",
    "f_of_x = [1.543,1.668,1.811,1.971,2.151,2.352,2.577,2.828,3.107]\n",
    "```\n",
    "\n",
    "Create a script that determines the length of each list and if they are the same length then print the contents of each list row-wise, and the running sum of `f_of_x` so the output looks like\n",
    "\n",
    "```\n",
    "--x--  --f_of_x--  --sum--\n",
    "1.0     1.543      1.543\n",
    "1.1     1.668      3.211\n",
    "...     ...        ...\n",
    "...     ...        ...\n",
    "1.7     2.828      16.901\n",
    "1.8     3.107      20.008\n",
    "```\n",
    "\n",
    "Test your script using the two lists above, then with the two lists below:\n",
    "\n",
    "```\n",
    "x= [1.0,1.1,1.2,1.3,1.4,1.5,1.6,1.7,1.8]\n",
    "f_of_x =[1.543, 3.211, 5.022, 6.993, 9.144, 11.496, 14.073, 16.901, 20.008]\n",
    "```"
   ]
  },
  {
   "cell_type": "code",
   "execution_count": 71,
   "metadata": {},
   "outputs": [
    {
     "name": "stdout",
     "output_type": "stream",
     "text": [
      "length of x is  9\n",
      "length of f_of_x is  9\n",
      "--x--  --f_of_x--  --sum--\n",
      "1.0 1.543 1.0\n",
      "1.1 1.668 1.1\n",
      "1.2 1.811 1.2\n",
      "1.3 1.971 1.3\n",
      "1.4 2.151 1.4\n",
      "1.5 2.352 1.5\n",
      "1.6 2.577 1.6\n",
      "1.7 2.828 1.7\n",
      "1.8 3.107 1.8\n"
     ]
    }
   ],
   "source": [
    "# define variables\n",
    "# Case 1 \n",
    "x= [1.0,1.1,1.2,1.3,1.4,1.5,1.6,1.7,1.8]\n",
    "f_of_x = [1.543,1.668,1.811,1.971,2.151,2.352,2.577,2.828,3.107]\n",
    "sum1 = x+f_of_x\n",
    "length = len(x)\n",
    "_length = len(f_of_x)#validate lengths\n",
    "print ('length of x is ',length)\n",
    "print ('length of f_of_x is ',_length)\n",
    "newx = 0 # initialize accumulator and empty list to store a running sum\n",
    "sum2 = []\n",
    "print (\"--x--  --f_of_x--  --sum--\") # print (header line) \n",
    "for i in range (0,9,1):\n",
    "    print (x[i],  f_of_x[i],   sum1[i])\n",
    "    \n",
    "    # report result\n"
   ]
  },
  {
   "cell_type": "code",
   "execution_count": 72,
   "metadata": {},
   "outputs": [
    {
     "name": "stdout",
     "output_type": "stream",
     "text": [
      "length of x is  9\n",
      "length of f_of_x is  9\n",
      "--x--  --f_of_x--  --sum--\n",
      "1.0 1.543 1.0\n",
      "1.1 3.211 1.1\n",
      "1.2 5.022 1.2\n",
      "1.3 6.993 1.3\n",
      "1.4 9.144 1.4\n",
      "1.5 11.496 1.5\n",
      "1.6 14.073 1.6\n",
      "1.7 16.901 1.7\n",
      "1.8 20.008 1.8\n"
     ]
    }
   ],
   "source": [
    "# define variables\n",
    "x= [1.0,1.1,1.2,1.3,1.4,1.5,1.6,1.7,1.8]\n",
    "f_of_x =[1.543, 3.211, 5.022, 6.993, 9.144, 11.496, 14.073, 16.901, 20.008]\n",
    "sum1 = x+f_of_x\n",
    "# Case 2\n",
    "sum1 = x+f_of_x\n",
    "length = len(x)\n",
    "_length = len(f_of_x)#validate lengths\n",
    "print ('length of x is ',length)\n",
    "print ('length of f_of_x is ',_length)\n",
    "newx = 0 # initialize accumulator and empty list to store a running sum\n",
    "sum2 = []\n",
    "print (\"--x--  --f_of_x--  --sum--\") # print (header line) \n",
    "for i in range (0,9,1):\n",
    "    print (x[i], f_of_x[i], sum1[i])"
   ]
  },
  {
   "cell_type": "markdown",
   "metadata": {},
   "source": [
    "---\n",
    "\n",
    "## Problem 4 Function (15 points) : <font color = 'magenta'> *def ..., input(),typecast,arithmetic based selection, print()* </font>\n",
    "Build a function that takes as input two integer numbers. The function should return their product if the product is greater than 666, otherwise the function should return their sum.  \n",
    "\n",
    "Employ the function in an interactive script and test the following cases:\n",
    "\n",
    "- Case 1: 65 and 10\n",
    "- Case 2: 66 and 11\n",
    "- Case 3: 25 and 5"
   ]
  },
  {
   "cell_type": "code",
   "execution_count": 25,
   "metadata": {},
   "outputs": [],
   "source": [
    "# define variables\n",
    "# interactive input\n",
    "# computation/compare\n",
    "# report result"
   ]
  },
  {
   "cell_type": "code",
   "execution_count": 26,
   "metadata": {},
   "outputs": [
    {
     "name": "stdout",
     "output_type": "stream",
     "text": [
      "give a number: 65\n",
      "give another number: 10\n",
      "75\n"
     ]
    }
   ],
   "source": [
    "# Case 1\n",
    "# define variables\n",
    "x = int(input(('give a number: ')))\n",
    "_x = int(input(('give another number: ')))\n",
    "product = x*_x\n",
    "sum1 = x+_x\n",
    "# interactive input\n",
    "# computation/compare\n",
    "if (product > 666):\n",
    "    print(product)\n",
    "else:\n",
    "    print(sum1)\n",
    "# report result"
   ]
  },
  {
   "cell_type": "code",
   "execution_count": 27,
   "metadata": {},
   "outputs": [
    {
     "name": "stdout",
     "output_type": "stream",
     "text": [
      "give a number: 66\n",
      "give another number: 11\n",
      "726\n"
     ]
    }
   ],
   "source": [
    "# Case 2\n",
    "# define variables\n",
    "x = int(input(('give a number: ')))\n",
    "_x = int(input(('give another number: ')))\n",
    "product = x*_x\n",
    "sum1 = x+_x\n",
    "# interactive input\n",
    "# computation/compare\n",
    "if (product > 666):\n",
    "    print(product)\n",
    "else:\n",
    "    print(sum1)\n",
    "# report result"
   ]
  },
  {
   "cell_type": "code",
   "execution_count": 28,
   "metadata": {},
   "outputs": [
    {
     "name": "stdout",
     "output_type": "stream",
     "text": [
      "give a number: 25\n",
      "give another number: 5\n",
      "30\n"
     ]
    }
   ],
   "source": [
    "# Case 3\n",
    "# define variables\n",
    "x = int(input(('give a number: ')))\n",
    "_x = int(input(('give another number: ')))\n",
    "product = x*_x\n",
    "sum1 = x+_x\n",
    "# interactive input\n",
    "# computation/compare\n",
    "if (product > 666):\n",
    "    print(product)\n",
    "else:\n",
    "    print(sum1)\n",
    "# report result"
   ]
  },
  {
   "cell_type": "code",
   "execution_count": null,
   "metadata": {},
   "outputs": [],
   "source": []
  }
 ],
 "metadata": {
  "kernelspec": {
   "display_name": "Python 3 (ipykernel)",
   "language": "python",
   "name": "python3"
  },
  "language_info": {
   "codemirror_mode": {
    "name": "ipython",
    "version": 3
   },
   "file_extension": ".py",
   "mimetype": "text/x-python",
   "name": "python",
   "nbconvert_exporter": "python",
   "pygments_lexer": "ipython3",
   "version": "3.9.7"
  }
 },
 "nbformat": 4,
 "nbformat_minor": 4
}
