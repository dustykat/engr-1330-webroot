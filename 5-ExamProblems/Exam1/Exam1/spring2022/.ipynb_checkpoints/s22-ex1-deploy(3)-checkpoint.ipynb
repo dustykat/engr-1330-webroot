{
 "cells": [
  {
   "cell_type": "markdown",
   "metadata": {},
   "source": [
    "# <font color=darkblue>ENGR 1330-2022-1 Exam1-Laboratory Portion  </font>\n",
    "\n",
    "**Bell, Kathryn**\n",
    "\n",
    "**R11683030**\n",
    "\n",
    "ENGR 1330 Exam 1 - Laboratory/Programming Skills\n",
    "\n",
    "---\n",
    "\n",
    "**Download** (right-click, save target as ...) this page as a jupyterlab notebook from: [s22-ex1-deploy.ipynb](http://54.243.252.9/engr-1330-webroot/5-ExamProblems/Exam1/Exam1/spring2022/s22-ex1-deploy.ipynb)\n",
    "\n",
    "**If you are unable to download the file, create an empty notebook and copy paste the problems into Markdown cells and Code cells (problem-by-problem)**\n",
    "\n"
   ]
  },
  {
   "cell_type": "markdown",
   "metadata": {},
   "source": [
    "---\n",
    "\n",
    "## Problem 1 (10 pts) : <font color = 'magenta'>*Profile your computer*</font>\n",
    "\n",
    "Execute the code cell below exactly as written.  If you get an error just continue to the remaining problems."
   ]
  },
  {
   "cell_type": "code",
   "execution_count": 1,
   "metadata": {},
   "outputs": [
    {
     "name": "stdout",
     "output_type": "stream",
     "text": [
      "DESKTOP-2IEKA0O\n",
      "desktop-2ieka0o\\kbell\n",
      "C:\\Users\\kbell\\anaconda3\\python.exe\n",
      "3.9.7 (default, Sep 16 2021, 16:59:28) [MSC v.1916 64 bit (AMD64)]\n",
      "sys.version_info(major=3, minor=9, micro=7, releaselevel='final', serial=0)\n"
     ]
    }
   ],
   "source": [
    "# Preamble script block to identify host, user, and kernel\n",
    "import sys\n",
    "! hostname\n",
    "! whoami\n",
    "print(sys.executable)\n",
    "print(sys.version)\n",
    "print(sys.version_info)"
   ]
  },
  {
   "cell_type": "markdown",
   "metadata": {},
   "source": [
    "---\n",
    "\n",
    "## Problem 2 (10 pts): <font color = 'magenta'>*input(),typecast, string reversal, comparison based selection, print()*</font>\n",
    "\n",
    "Build a script where the user will supply a number then determine if it is a palindrome number. A palindrome number is a number that is same after reversal. For example 545, is a palindrome number.\n",
    "- Case 1: 545\n",
    "- Case 2: 123\n",
    "- Case 3: 666"
   ]
  },
  {
   "cell_type": "code",
   "execution_count": null,
   "metadata": {},
   "outputs": [],
   "source": [
    "# define variables\n",
    "# interactive input\n",
    "# computation/compare\n",
    "# report result"
   ]
  },
  {
   "cell_type": "code",
   "execution_count": 1,
   "metadata": {},
   "outputs": [
    {
     "name": "stdin",
     "output_type": "stream",
     "text": [
      "give a number for n 545\n"
     ]
    },
    {
     "name": "stdout",
     "output_type": "stream",
     "text": [
      "the number of digits in 'n'is: 3\n",
      "This number is a palindrone\n"
     ]
    }
   ],
   "source": [
    "# Case 1\n",
    "#take input from user and store it in n \n",
    "numberString = input(\"give a number for n\")\n",
    "#check the number of digits\n",
    "#get number of digits\n",
    "numDigits=len(numberString)\n",
    "print(\"the number of digits in 'n'is:\",numDigits)\n",
    "#check if number is the same reversed\n",
    "if numberString==numberString[::-1]:\n",
    "    print('This number is a palindrone')\n",
    "else:\n",
    "    print('This number is NOT a palindrone')\n",
    "#print the results"
   ]
  },
  {
   "cell_type": "code",
   "execution_count": 2,
   "metadata": {},
   "outputs": [
    {
     "name": "stdin",
     "output_type": "stream",
     "text": [
      "give a number for n 123\n"
     ]
    },
    {
     "name": "stdout",
     "output_type": "stream",
     "text": [
      "the number of digits in 'n'is: 3\n",
      "This number is NOT a palindrone\n"
     ]
    }
   ],
   "source": [
    "# Case 2\n",
    "#take input from user and store it in n \n",
    "numberString = input(\"give a number for n\")\n",
    "#check the number of digits\n",
    "#get number of digits\n",
    "numDigits=len(numberString)\n",
    "print(\"the number of digits in 'n'is:\",numDigits)\n",
    "#check if number is the same reversed\n",
    "if numberString==numberString[::-1]:\n",
    "    print('This number is a palindrone')\n",
    "else:\n",
    "    print('This number is NOT a palindrone')\n",
    "#print the results"
   ]
  },
  {
   "cell_type": "code",
   "execution_count": 3,
   "metadata": {},
   "outputs": [
    {
     "name": "stdin",
     "output_type": "stream",
     "text": [
      "give a number for n 666\n"
     ]
    },
    {
     "name": "stdout",
     "output_type": "stream",
     "text": [
      "the number of digits in 'n'is: 3\n",
      "This number is a palindrone\n"
     ]
    }
   ],
   "source": [
    "# Case 3\n",
    "#take input from user and store it in n \n",
    "numberString = input(\"give a number for n\")\n",
    "#check the number of digits\n",
    "#get number of digits\n",
    "numDigits=len(numberString)\n",
    "print(\"the number of digits in 'n'is:\",numDigits)\n",
    "#check if number is the same reversed\n",
    "if numberString==numberString[::-1]:\n",
    "    print('This number is a palindrone')\n",
    "else:\n",
    "    print('This number is NOT a palindrone')\n",
    "#print the results"
   ]
  },
  {
   "cell_type": "markdown",
   "metadata": {},
   "source": [
    "---\n",
    "\n",
    "## Problem 3 (15 pts): <font color = 'magenta'>*len(),compare,accumulator, populate an empty list,for loop, print()*</font>\n",
    "\n",
    "Two lists are defined as\n",
    "\n",
    "```\n",
    "x= [1.0,1.1,1.2,1.3,1.4,1.5,1.6,1.7,1.8]\n",
    "f_of_x = [1.543,1.668,1.811,1.971,2.151,2.352,2.577,2.828,3.107]\n",
    "```\n",
    "\n",
    "Create a script that determines the length of each list and if they are the same length then print the contents of each list row-wise, and the running sum of `f_of_x` so the output looks like\n",
    "\n",
    "```\n",
    "--x--  --f_of_x--  --sum--\n",
    "1.0     1.543      1.543\n",
    "1.1     1.668      3.211\n",
    "...     ...        ...\n",
    "...     ...        ...\n",
    "1.7     2.828      16.901\n",
    "1.8     3.107      20.008\n",
    "```\n",
    "\n",
    "Test your script using the two lists above, then with the two lists below:\n",
    "\n",
    "```\n",
    "x= [1.0,1.1,1.2,1.3,1.4,1.5,1.6,1.7,1.8]\n",
    "f_of_x =[1.543, 3.211, 5.022, 6.993, 9.144, 11.496, 14.073, 16.901, 20.008]\n",
    "```"
   ]
  },
  {
   "cell_type": "code",
   "execution_count": 29,
   "metadata": {},
   "outputs": [
    {
     "name": "stdout",
     "output_type": "stream",
     "text": [
      "length of x: 9\n",
      "length of f of x: 9\n",
      "20.008\n",
      "for x equal to 0 , f(x) is equal to [1.543, 1.668, 1.811, 1.971, 2.151, 2.352, 2.577, 2.828, 3.107] , for sum equal to 20.008\n",
      "for x equal to 1 , f(x) is equal to [1.543, 1.668, 1.811, 1.971, 2.151, 2.352, 2.577, 2.828, 3.107] , for sum equal to 20.008\n",
      "+---+-----------------------------------------------------------------+--------+\n",
      "| x |                               f(x)                              |  sum   |\n",
      "+---+-----------------------------------------------------------------+--------+\n",
      "| 0 | [1.543, 1.668, 1.811, 1.971, 2.151, 2.352, 2.577, 2.828, 3.107] | 20.008 |\n",
      "| 1 | [1.543, 1.668, 1.811, 1.971, 2.151, 2.352, 2.577, 2.828, 3.107] | 20.008 |\n",
      "+---+-----------------------------------------------------------------+--------+\n"
     ]
    }
   ],
   "source": [
    "# define variables\n",
    "# Case 1 \n",
    "x= [1.0,1.1,1.2,1.3,1.4,1.5,1.6,1.7,1.8]\n",
    "f_of_x = [1.543,1.668,1.811,1.971,2.151,2.352,2.577,2.828,3.107]\n",
    "# validate lengths\n",
    "len(x)\n",
    "print(\"length of x:\",len(x))\n",
    "len(f_of_x)\n",
    "print(\"length of f of x:\",len(f_of_x))\n",
    "sum1=sum(f_of_x)\n",
    "print(sum1)\n",
    "from prettytable import PrettyTable #Required to create tables\n",
    "\n",
    "t = PrettyTable(['x', 'f(x)','sum']) #Define an empty table\n",
    "\n",
    "\n",
    "for x in range(0,10,1):\n",
    "    if x >= 0 and x < 2:\n",
    "        y = x\n",
    "        print(\"for x equal to\", x, \", f(x) is equal to\",f_of_x,\", for sum equal to\",sum1)\n",
    "        t.add_row([x, f_of_x, sum1]) #will add a row to the table \"t\"\n",
    "print(t)\n",
    "\n",
    "# initialize accumulator and empty list to store a running sum\n",
    "\n",
    "\n",
    "#print header line\n",
    "#print(\"--x--  --f_of_x--  --sum--)\n",
    "# repetition (for loop) structure\n",
    "# report result"
   ]
  },
  {
   "cell_type": "code",
   "execution_count": 22,
   "metadata": {},
   "outputs": [
    {
     "name": "stdout",
     "output_type": "stream",
     "text": [
      "length of x: 9\n",
      "length of f of x: 9\n",
      "88.39099999999999\n",
      "for x equal to 0 , f(x) is equal to [1.543, 3.211, 5.022, 6.993, 9.144, 11.496, 14.073, 16.901, 20.008] , for sum equal to 88.39099999999999\n",
      "for x equal to 1 , f(x) is equal to [1.543, 3.211, 5.022, 6.993, 9.144, 11.496, 14.073, 16.901, 20.008] , for sum equal to 88.39099999999999\n",
      "+---+---------------------------------------------------------------------+-------------------+\n",
      "| x |                                 f(x)                                |        sum        |\n",
      "+---+---------------------------------------------------------------------+-------------------+\n",
      "| 0 | [1.543, 3.211, 5.022, 6.993, 9.144, 11.496, 14.073, 16.901, 20.008] | 88.39099999999999 |\n",
      "| 1 | [1.543, 3.211, 5.022, 6.993, 9.144, 11.496, 14.073, 16.901, 20.008] | 88.39099999999999 |\n",
      "+---+---------------------------------------------------------------------+-------------------+\n"
     ]
    }
   ],
   "source": [
    "# define variables\n",
    "# Case 2\n",
    "x= [1.0,1.1,1.2,1.3,1.4,1.5,1.6,1.7,1.8]\n",
    "f_of_x = [1.543, 3.211, 5.022, 6.993, 9.144, 11.496, 14.073, 16.901, 20.008]\n",
    "# validate lengths\n",
    "len(x)\n",
    "print(\"length of x:\",len(x))\n",
    "len(f_of_x)\n",
    "print(\"length of f of x:\",len(f_of_x))\n",
    "sum1=sum(f_of_x)\n",
    "print(sum1)\n",
    "from prettytable import PrettyTable #Required to create tables\n",
    "\n",
    "t = PrettyTable(['x', 'f(x)','sum']) #Define an empty table\n",
    "\n",
    "\n",
    "for x in range(0,9,1):\n",
    "    if x >= 0 and x < 2:\n",
    "        y = x\n",
    "        print(\"for x equal to\", x, \", f(x) is equal to\",f_of_x,\", for sum equal to\",sum1)\n",
    "        t.add_row([x, f_of_x, sum1]) #will add a row to the table \"t\"\n",
    "print(t)\n",
    "\n",
    "# initialize accumulator and empty list to store a running sum\n",
    "\n",
    "\n",
    "#print header line\n",
    "#print(\"--x--  --f_of_x--  --sum--)\n",
    "# repetition (for loop) structure\n",
    "# report result"
   ]
  },
  {
   "cell_type": "markdown",
   "metadata": {},
   "source": [
    "---\n",
    "\n",
    "## Problem 4 Function (15 points) : <font color = 'magenta'> *def ..., input(),typecast,arithmetic based selection, print()* </font>\n",
    "Build a function that takes as input two integer numbers. The function should return their product if the product is greater than 666, otherwise the function should return their sum.  \n",
    "\n",
    "Employ the function in an interactive script and test the following cases:\n",
    "\n",
    "- Case 1: 65 and 10\n",
    "- Case 2: 66 and 11\n",
    "- Case 3: 25 and 5"
   ]
  },
  {
   "cell_type": "code",
   "execution_count": null,
   "metadata": {},
   "outputs": [],
   "source": [
    "# define variables\n",
    "# interactive input\n",
    "# computation/compare\n",
    "# report result"
   ]
  },
  {
   "cell_type": "code",
   "execution_count": 6,
   "metadata": {},
   "outputs": [
    {
     "name": "stdin",
     "output_type": "stream",
     "text": [
      "give an interger for n1 65\n"
     ]
    },
    {
     "name": "stdout",
     "output_type": "stream",
     "text": [
      "n1 is now: 65\n"
     ]
    },
    {
     "name": "stdin",
     "output_type": "stream",
     "text": [
      "give an interger for n2 10\n"
     ]
    },
    {
     "name": "stdout",
     "output_type": "stream",
     "text": [
      "n2 is now: 10\n",
      "product (n1*n2) is: 650\n",
      "75\n",
      "sum1= 75\n"
     ]
    }
   ],
   "source": [
    "# Case 1\n",
    "#take input from user and store it in n1 \n",
    "n1 = int(input('give an interger for n1'))\n",
    "print('n1 is now:',n1)\n",
    "#take n2\n",
    "n2 = int(input('give an interger for n2'))\n",
    "print('n2 is now:',n2)\n",
    "#return the product of n1 and n2 if the product is >1000\n",
    "#check product>1000\n",
    "product1 = n1*n2\n",
    "sum1 = n1+n2\n",
    "print('product (n1*n2) is:',product1)\n",
    "if (product1>666):\n",
    "    print(product1)\n",
    "#retun the sum of n1 and n2 if <= 666\n",
    "else:\n",
    "    print(sum1)\n",
    "    print(\"sum1=\",sum1)\n",
    "#print the results"
   ]
  },
  {
   "cell_type": "code",
   "execution_count": 7,
   "metadata": {},
   "outputs": [
    {
     "name": "stdin",
     "output_type": "stream",
     "text": [
      "give an interger for n1 66\n"
     ]
    },
    {
     "name": "stdout",
     "output_type": "stream",
     "text": [
      "n1 is now: 66\n"
     ]
    },
    {
     "name": "stdin",
     "output_type": "stream",
     "text": [
      "give an interger for n2 11\n"
     ]
    },
    {
     "name": "stdout",
     "output_type": "stream",
     "text": [
      "n2 is now: 11\n",
      "product (n1*n2) is: 726\n",
      "726\n"
     ]
    }
   ],
   "source": [
    "# Case 2\n",
    "#take input from user and store it in n1 \n",
    "n1 = int(input('give an interger for n1'))\n",
    "print('n1 is now:',n1)\n",
    "#take n2\n",
    "n2 = int(input('give an interger for n2'))\n",
    "print('n2 is now:',n2)\n",
    "#return the product of n1 and n2 if the product is >1000\n",
    "#check product>1000\n",
    "product1 = n1*n2\n",
    "sum1 = n1+n2\n",
    "print('product (n1*n2) is:',product1)\n",
    "if (product1 >666):\n",
    "    print(product1)\n",
    "#retun the sum of n1 and n2 if <= 666\n",
    "else:\n",
    "    print(sum1)\n",
    "    print(\"sum1=\",sum1)\n",
    "#print the results"
   ]
  },
  {
   "cell_type": "code",
   "execution_count": 5,
   "metadata": {},
   "outputs": [
    {
     "name": "stdin",
     "output_type": "stream",
     "text": [
      "give an interger for n1 25\n"
     ]
    },
    {
     "name": "stdout",
     "output_type": "stream",
     "text": [
      "n1 is now: 25\n"
     ]
    },
    {
     "name": "stdin",
     "output_type": "stream",
     "text": [
      "give an interger for n2 5\n"
     ]
    },
    {
     "name": "stdout",
     "output_type": "stream",
     "text": [
      "n2 is now: 5\n",
      "product (n1*n2) is: 125\n",
      "30\n",
      "sum1= 30\n"
     ]
    }
   ],
   "source": [
    "# Case 3\n",
    "#take input from user and store it in n1 \n",
    "n1 = int(input('give an interger for n1'))\n",
    "print('n1 is now:',n1)\n",
    "#take n2\n",
    "n2 = int(input('give an interger for n2'))\n",
    "print('n2 is now:',n2)\n",
    "#return the product of n1 and n2 if the product is >1000\n",
    "#check product>1000\n",
    "product1 = n1*n2\n",
    "sum1 = n1+n2\n",
    "print('product (n1*n2) is:',product1)\n",
    "if (product1 >666):\n",
    "    print(product1)\n",
    "#retun the sum of n1 and n2 if <= 666\n",
    "else:\n",
    "    print(sum1)\n",
    "    print(\"sum1=\",sum1)\n",
    "#print the results"
   ]
  }
 ],
 "metadata": {
  "kernelspec": {
   "display_name": "Python 3 (ipykernel)",
   "language": "python",
   "name": "python3"
  },
  "language_info": {
   "codemirror_mode": {
    "name": "ipython",
    "version": 3
   },
   "file_extension": ".py",
   "mimetype": "text/x-python",
   "name": "python",
   "nbconvert_exporter": "python",
   "pygments_lexer": "ipython3",
   "version": "3.9.7"
  }
 },
 "nbformat": 4,
 "nbformat_minor": 4
}
