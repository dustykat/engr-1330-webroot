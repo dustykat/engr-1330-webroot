{
 "cells": [
  {
   "cell_type": "code",
   "execution_count": 15,
   "metadata": {},
   "outputs": [
    {
     "data": {
      "text/html": [
       "<!--Script block to left align Markdown Tables-->\n",
       "<style>\n",
       "  table {margin-left: 0 !important;}\n",
       "</style>\n"
      ],
      "text/plain": [
       "<IPython.core.display.HTML object>"
      ]
     },
     "metadata": {},
     "output_type": "display_data"
    }
   ],
   "source": [
    "%%html\n",
    "<!--Script block to left align Markdown Tables-->\n",
    "<style>\n",
    "  table {margin-left: 0 !important;}\n",
    "</style>"
   ]
  },
  {
   "cell_type": "markdown",
   "metadata": {},
   "source": [
    "## Full name: \n",
    "## R#: \n",
    "## HEX: \n",
    "## Exam 2 Examples\n",
    "## Date: "
   ]
  },
  {
   "cell_type": "markdown",
   "metadata": {},
   "source": [
    "# Example Problem \n",
    "Run the cell below as-is!"
   ]
  },
  {
   "cell_type": "code",
   "execution_count": 16,
   "metadata": {},
   "outputs": [
    {
     "name": "stdout",
     "output_type": "stream",
     "text": [
      "atomickitty\n",
      "sensei\n",
      "/opt/jupyterhub/bin/python3\n",
      "/home/sensei/engr-1330-webroot/5-ExamProblems/Exam2/Exam2\n"
     ]
    }
   ],
   "source": [
    "%reset -f\n",
    "# Preamble script block to identify host, user, and kernel\n",
    "import sys\n",
    "! hostname\n",
    "! whoami\n",
    "print(sys.executable)\n",
    "#print(sys.version)\n",
    "#print(sys.version_info)\n",
    "! pwd"
   ]
  },
  {
   "cell_type": "markdown",
   "metadata": {},
   "source": [
    "---\n",
    "# Example Problem 1 \n",
    "The table below contains some experimental observations.\n",
    "\n",
    "|Elapsed Time (s)|Speed (m/s)|\n",
    "|---:|---:|\n",
    "|0 |0|\n",
    "|1.0 |3|\n",
    "|2.0 |7|\n",
    "|3.0 |12|\n",
    "|4.0 |20|\n",
    "|5.0 |30|\n",
    "|6.0 | 45.6| \n",
    "|7.0 | 60.3 |\n",
    "|8.0 | 77.7 |\n",
    "|9.0 | 97.3 |\n",
    "|10.0| 121.1|\n",
    "\n",
    "1. Plot the speed vs time (speed on y-axis, time on x-axis) using a scatter plot.  Use blue markers. \n",
    "2. Plot a red line on the scatterplot based on the linear model $f(x) = mx + b$ \n",
    "3. By trial-and-error find values of $m$ and $b$ that provide a good visual fit (i.e. makes the red line explain the blue markers).\n",
    "4. Using this data model estimate the speed at $t = 15~\\texttt{sec.}$"
   ]
  },
  {
   "cell_type": "code",
   "execution_count": 19,
   "metadata": {},
   "outputs": [],
   "source": [
    "# Create two lists; time  and speed\n",
    "time_obs = [0,1,2,3,4,5,6,7,8,9,10.0]\n",
    "speed_obs = [0,3,7,12,20,30,45.6,60.3,77.7,97.3,121.1]\n",
    "#print(time_obs)\n",
    "#print(speed_obs)"
   ]
  },
  {
   "cell_type": "code",
   "execution_count": 55,
   "metadata": {},
   "outputs": [
    {
     "name": "stdout",
     "output_type": "stream",
     "text": [
      "[0.0, 1.0, 2.0, 3.0, 4.0, 5.0, 6.0, 7.0, 8.0, 9.0, 10.0]\n",
      "[-15.0, -3.0, 9.0, 21.0, 33.0, 45.0, 57.0, 69.0, 81.0, 93.0, 105.0]\n"
     ]
    }
   ],
   "source": [
    "# Create a data model function\n",
    "def fn(x,m,b):\n",
    "    fn = m*x+b\n",
    "    return fn\n",
    "# Create a model list - using same time list\n",
    "m = 12\n",
    "b = -15\n",
    "time_mod = [float(i)*1 for i in range(11)]\n",
    "speed_mod = []\n",
    "for i in range(11):\n",
    "    speed_mod.append(fn(time_mod[i],m,b))\n",
    "print(time_mod)\n",
    "print(speed_mod)"
   ]
  },
  {
   "cell_type": "code",
   "execution_count": 56,
   "metadata": {},
   "outputs": [
    {
     "data": {
      "image/png": "[encoded data removed]",
      "text/plain": [
       "<Figure size 576x576 with 1 Axes>"
      ]
     },
     "metadata": {
      "needs_background": "light"
     },
     "output_type": "display_data"
    }
   ],
   "source": [
    "# Create a srplcatteot chart of time and speed, overlay a line plot of time and modeled speed\n",
    "# Our plotting function ######################\n",
    "import matplotlib.pyplot as plt\n",
    "def make2plot(listx1,listy1,listx2,listy2,strlablx,strlably,strtitle):\n",
    "    mydata = plt.figure(figsize = (8,8)) # build a square drawing canvass from figure class\n",
    "    plt.plot(listx1,listy1, c='blue', marker='p',linewidth=0) # basic data plot\n",
    "    plt.plot(listx2,listy2, c='red',linewidth=1) # basic model plot\n",
    "    plt.xlabel(strlablx)\n",
    "    plt.ylabel(strlably)\n",
    "    plt.legend(['Observations','Data Model'])# modify for argument insertion\n",
    "    plt.title(strtitle)\n",
    "    plt.show()\n",
    "\n",
    "make2plot(time_obs,speed_obs,time_mod,speed_mod,'elapsed time (sec)','speed (m/s)','my plot')"
   ]
  },
  {
   "cell_type": "code",
   "execution_count": 42,
   "metadata": {},
   "outputs": [
    {
     "name": "stdout",
     "output_type": "stream",
     "text": [
      "my best guess of m is:  12  my best guess of b is :  -15\n"
     ]
    }
   ],
   "source": [
    "# Report best values m and b\n",
    "print('my best guess of m is: ',m,' my best guess of b is : ',b)"
   ]
  },
  {
   "cell_type": "code",
   "execution_count": 43,
   "metadata": {},
   "outputs": [
    {
     "name": "stdout",
     "output_type": "stream",
     "text": [
      "Estimated speed at time =  15  sec. is  165.0\n"
     ]
    }
   ],
   "source": [
    "# Estimate speed@ t = 15 sec. using fitted model\n",
    "print('Estimated speed at time = ',15,' sec. is ',fn(15.0,m,b))"
   ]
  },
  {
   "cell_type": "markdown",
   "metadata": {},
   "source": [
    "---\n",
    "\n",
    "# Example Problem 2\n",
    "Consider the script below, which crudely implements a simulation of Russian Roulette.\n",
    "How many times can you spin the cylinder and pull the trigger, before you fail?\n",
    "Play the game 10 times, record the pull count until failure.\n",
    "\n",
    "1. Create a list of pulls until failure for each of your 10 attempts, and make a histogram of the list.\n",
    "2. From your histogram, estimate the mean number of pulls until failure.\n",
    "\n",
    "In the movie `The Deer Hunter` https://en.wikipedia.org/wiki/The_Deer_Hunter the captured soldiers modify the Russian Roulette Game by using more than a single cartridge.  \n",
    "\n",
    "3. Modify the program to the number of cartridges in the movie (3) and play again 10 times, record your pulls to failure\n",
    "4. Make a second histogram of the `Deer Hunter` version of the game.\n",
    "5. From your histogram, estimate the mean number of pulls until failure under the `Deer Hunter` conditions."
   ]
  },
  {
   "cell_type": "code",
   "execution_count": 69,
   "metadata": {},
   "outputs": [
    {
     "name": "stdout",
     "output_type": "stream",
     "text": [
      "THIS IS A RUSSIAN ROULETTE PROGRAM. BEST PLAYED WHILE DRINKING VODKA.\n",
      "Press Enter to Spin the Cylinder & Test Your Courage\n"
     ]
    },
    {
     "name": "stdin",
     "output_type": "stream",
     "text": [
      " \n"
     ]
    },
    {
     "name": "stdout",
     "output_type": "stream",
     "text": [
      "[ BANG!!!! ]\n",
      "[ So long ]\n",
      "[ Comrade. ]\n",
      "Pulls =  1\n"
     ]
    }
   ],
   "source": [
    "\n",
    "#RUSSIAN ROULETTE PROGRAM IN PYTHON:\n",
    "\n",
    "import random\n",
    "print('THIS IS A RUSSIAN ROULETTE PROGRAM. BEST PLAYED WHILE DRINKING VODKA.')\n",
    "leaveprogram=0\n",
    "triggerpulls = 0\n",
    "while leaveprogram != \"q\":\n",
    "    print(\"Press Enter to Spin the Cylinder & Test Your Courage\")\n",
    "    input()\n",
    "    number=random.randint (1, 6)\n",
    "    if number==1:\n",
    "        print(\"[ CLICK! ]\")\n",
    "        triggerpulls += 1\n",
    "        print(\"Pulls = \",triggerpulls, \"Type 'q' to quit\")\n",
    "        leaveprogram=input()\n",
    "    if number==2:\n",
    "        print(\"[ CLICK! ]\")\n",
    "        triggerpulls += 1\n",
    "        print(\"Pulls = \",triggerpulls, \"Type 'q' to quit\")\n",
    "        leaveprogram=input()\n",
    "    if number==3:\n",
    "        print(\"[ CLICK! ]\")\n",
    "        triggerpulls += 1\n",
    "        print(\"Pulls = \",triggerpulls, \"Type 'q' to quit\")\n",
    "        leaveprogram=input()\n",
    "    if number==4:\n",
    "        print(\"[ CLICK! ]\")\n",
    "        triggerpulls += 1\n",
    "        print(\"Pulls = \",triggerpulls, \"Type 'q' to quit\")\n",
    "        leaveprogram=input()\n",
    "    if number==5:\n",
    "        print(\"[ BANG!!!! ]\")\n",
    "        triggerpulls += 1\n",
    "        print(\"[ So long ]\")\n",
    "        print(\"[ Comrade. ]\")\n",
    "        print(\"Pulls = \",triggerpulls)\n",
    "        leaveprogram='q'\n",
    "    if number==6:\n",
    "        print(\"[ CLICK! ]\")\n",
    "        triggerpulls += 1\n",
    "        print(\"Pulls = \",triggerpulls, \"Type 'q' to quit\")\n",
    "        leaveprogram=input()\n",
    "        \n",
    "#"
   ]
  },
  {
   "cell_type": "code",
   "execution_count": 72,
   "metadata": {},
   "outputs": [],
   "source": [
    "# List of results\n",
    "pulls2die = [3,3,4,16,7,3,3,2,4,1]"
   ]
  },
  {
   "cell_type": "code",
   "execution_count": 73,
   "metadata": {},
   "outputs": [
    {
     "data": {
      "text/plain": [
       "(array([2., 4., 2., 0., 1., 0., 0., 0., 0., 1.]),\n",
       " array([ 1. ,  2.5,  4. ,  5.5,  7. ,  8.5, 10. , 11.5, 13. , 14.5, 16. ]),\n",
       " <BarContainer object of 10 artists>)"
      ]
     },
     "execution_count": 73,
     "metadata": {},
     "output_type": "execute_result"
    },
    {
     "data": {
      "image/png": "[encoded data removed]",
      "text/plain": [
       "<Figure size 432x288 with 1 Axes>"
      ]
     },
     "metadata": {
      "needs_background": "light"
     },
     "output_type": "display_data"
    }
   ],
   "source": [
    "# Histogram\n",
    "plt.hist(pulls2die)"
   ]
  },
  {
   "cell_type": "code",
   "execution_count": 79,
   "metadata": {},
   "outputs": [
    {
     "name": "stdout",
     "output_type": "stream",
     "text": [
      "visual estimate meabn pulls to failure is 5, sample estime is : 4.6\n"
     ]
    }
   ],
   "source": [
    "# Mean Pulls to Failure\n",
    "print('visual estimate meabn pulls to failure is 5, sample estime is :',sum(pulls2die)/10)\n"
   ]
  },
  {
   "cell_type": "code",
   "execution_count": 89,
   "metadata": {},
   "outputs": [
    {
     "name": "stdout",
     "output_type": "stream",
     "text": [
      "THIS IS A DEER HUNTER VERSION OF RUSSIAN ROULETTE PROGRAM. BEST PLAYED WHILE DRINKING NASTY MEKONG RIVER WATER.\n",
      "Press Enter to Spin the Cylinder & Test Your Courage\n"
     ]
    },
    {
     "name": "stdin",
     "output_type": "stream",
     "text": [
      " \n"
     ]
    },
    {
     "name": "stdout",
     "output_type": "stream",
     "text": [
      "[ CLICK! ]\n",
      "Pulls =  1 Type 'q' to quit\n"
     ]
    },
    {
     "name": "stdin",
     "output_type": "stream",
     "text": [
      " \n"
     ]
    },
    {
     "name": "stdout",
     "output_type": "stream",
     "text": [
      "Press Enter to Spin the Cylinder & Test Your Courage\n"
     ]
    },
    {
     "name": "stdin",
     "output_type": "stream",
     "text": [
      " \n"
     ]
    },
    {
     "name": "stdout",
     "output_type": "stream",
     "text": [
      "[ BANG!!!! ]\n",
      "[ So long ]\n",
      "[ Comrade. ]\n",
      "Pulls =  2\n"
     ]
    }
   ],
   "source": [
    "# Put Deer Hunter Version Here\n",
    "\n",
    "#RUSSIAN ROULETTE PROGRAM IN PYTHON:\n",
    "\n",
    "import random\n",
    "print('THIS IS A DEER HUNTER VERSION OF RUSSIAN ROULETTE PROGRAM. BEST PLAYED WHILE DRINKING NASTY MEKONG RIVER WATER.')\n",
    "leaveprogram=0\n",
    "triggerpulls = 0\n",
    "while leaveprogram != \"q\":\n",
    "    print(\"Press Enter to Spin the Cylinder & Test Your Courage\")\n",
    "    input()\n",
    "    number=random.randint (1, 6)\n",
    "    if number==1:\n",
    "        print(\"[ CLICK! ]\")\n",
    "        triggerpulls += 1\n",
    "        print(\"Pulls = \",triggerpulls, \"Type 'q' to quit\")\n",
    "        leaveprogram=input()\n",
    "    if number==2:\n",
    "        print(\"[ BANG!!!! ]\")\n",
    "        triggerpulls += 1\n",
    "        print(\"[ So long ]\")\n",
    "        print(\"[ Comrade. ]\")\n",
    "        print(\"Pulls = \",triggerpulls)\n",
    "        leaveprogram='q'\n",
    "    if number==3:\n",
    "        print(\"[ CLICK! ]\")\n",
    "        triggerpulls += 1\n",
    "        print(\"Pulls = \",triggerpulls, \"Type 'q' to quit\")\n",
    "        leaveprogram=input()\n",
    "    if number==4:\n",
    "        print(\"[ BANG!!!! ]\")\n",
    "        triggerpulls += 1\n",
    "        print(\"[ So long ]\")\n",
    "        print(\"[ Comrade. ]\")\n",
    "        print(\"Pulls = \",triggerpulls)\n",
    "        leaveprogram='q'\n",
    "    if number==5:\n",
    "        print(\"[ BANG!!!! ]\")\n",
    "        triggerpulls += 1\n",
    "        print(\"[ So long ]\")\n",
    "        print(\"[ Comrade. ]\")\n",
    "        print(\"Pulls = \",triggerpulls)\n",
    "        leaveprogram='q'\n",
    "    if number==6:\n",
    "        print(\"[ CLICK! ]\")\n",
    "        triggerpulls += 1\n",
    "        print(\"Pulls = \",triggerpulls, \"Type 'q' to quit\")\n",
    "        leaveprogram=input()\n",
    "        \n",
    "#"
   ]
  },
  {
   "cell_type": "code",
   "execution_count": 90,
   "metadata": {},
   "outputs": [],
   "source": [
    "# List of results\n",
    "deerhunterpulls2die = [1,1,2,1,2,1,2,4,2,2]"
   ]
  },
  {
   "cell_type": "code",
   "execution_count": 91,
   "metadata": {},
   "outputs": [
    {
     "data": {
      "text/plain": [
       "(array([4., 0., 0., 5., 0., 0., 0., 0., 0., 1.]),\n",
       " array([1. , 1.3, 1.6, 1.9, 2.2, 2.5, 2.8, 3.1, 3.4, 3.7, 4. ]),\n",
       " <BarContainer object of 10 artists>)"
      ]
     },
     "execution_count": 91,
     "metadata": {},
     "output_type": "execute_result"
    },
    {
     "data": {
      "image/png": "[encoded data removed]",
      "text/plain": [
       "<Figure size 432x288 with 1 Axes>"
      ]
     },
     "metadata": {
      "needs_background": "light"
     },
     "output_type": "display_data"
    }
   ],
   "source": [
    "# Histogram\n",
    "plt.hist(deerhunterpulls2die)"
   ]
  },
  {
   "cell_type": "code",
   "execution_count": 92,
   "metadata": {},
   "outputs": [
    {
     "name": "stdout",
     "output_type": "stream",
     "text": [
      "visual estimate meabn pulls to failure is 5, sample estime is : 1.8\n"
     ]
    }
   ],
   "source": [
    "# Mean Pulls to Failure\n",
    "print('visual estimate meabn pulls to failure is 5, sample estime is :',sum(deerhunterpulls2die)/10)"
   ]
  },
  {
   "cell_type": "code",
   "execution_count": 96,
   "metadata": {},
   "outputs": [
    {
     "data": {
      "image/png": "[encoded data removed]",
      "text/plain": [
       "<Figure size 576x576 with 1 Axes>"
      ]
     },
     "metadata": {
      "needs_background": "light"
     },
     "output_type": "display_data"
    }
   ],
   "source": [
    "myhistograms = plt.figure(figsize = (8,8)) # build a square drawing canvass from figure class\n",
    "plt.hist(pulls2die,color='green')\n",
    "plt.hist(deerhunterpulls2die,color='red')\n",
    "plt.show()"
   ]
  },
  {
   "cell_type": "markdown",
   "metadata": {},
   "source": [
    "# Example Problem 3 \n",
    "The data below are the impact impact strength of packaging materials in foot-pounds of two branded boxes. Produce a histogram of the two series, and determine if there is evidence of a difference in mean strength between the two brands.  Use an appropriate hypothesis test to support your assertion at a level of significance of $\\alpha = 0.10$. \n",
    "\n",
    "| USPS Branded Boxes | DHL Branded Boxes |\n",
    "|:---|:---|\n",
    "| 1.25 | 0.88|\n",
    "| 1.16 | 1.00|\n",
    "| 1.33| 0.96|\n",
    "| 1.15| 0.94|\n",
    "| 1.23| 0.93|\n",
    "| 1.20| 1.01|\n",
    "| 1.32| 0.97|\n",
    "| 1.28| 1.05|\n",
    "| 1.21| 0.97|\n"
   ]
  },
  {
   "cell_type": "code",
   "execution_count": 103,
   "metadata": {},
   "outputs": [
    {
     "data": {
      "text/html": [
       "<div>\n",
       "<style scoped>\n",
       "    .dataframe tbody tr th:only-of-type {\n",
       "        vertical-align: middle;\n",
       "    }\n",
       "\n",
       "    .dataframe tbody tr th {\n",
       "        vertical-align: top;\n",
       "    }\n",
       "\n",
       "    .dataframe thead th {\n",
       "        text-align: right;\n",
       "    }\n",
       "</style>\n",
       "<table border=\"1\" class=\"dataframe\">\n",
       "  <thead>\n",
       "    <tr style=\"text-align: right;\">\n",
       "      <th></th>\n",
       "      <th>usps</th>\n",
       "      <th>dhl</th>\n",
       "    </tr>\n",
       "  </thead>\n",
       "  <tbody>\n",
       "    <tr>\n",
       "      <th>count</th>\n",
       "      <td>9.000000</td>\n",
       "      <td>9.000000</td>\n",
       "    </tr>\n",
       "    <tr>\n",
       "      <th>mean</th>\n",
       "      <td>1.236667</td>\n",
       "      <td>0.967778</td>\n",
       "    </tr>\n",
       "    <tr>\n",
       "      <th>std</th>\n",
       "      <td>0.064420</td>\n",
       "      <td>0.049441</td>\n",
       "    </tr>\n",
       "    <tr>\n",
       "      <th>min</th>\n",
       "      <td>1.150000</td>\n",
       "      <td>0.880000</td>\n",
       "    </tr>\n",
       "    <tr>\n",
       "      <th>25%</th>\n",
       "      <td>1.200000</td>\n",
       "      <td>0.940000</td>\n",
       "    </tr>\n",
       "    <tr>\n",
       "      <th>50%</th>\n",
       "      <td>1.230000</td>\n",
       "      <td>0.970000</td>\n",
       "    </tr>\n",
       "    <tr>\n",
       "      <th>75%</th>\n",
       "      <td>1.280000</td>\n",
       "      <td>1.000000</td>\n",
       "    </tr>\n",
       "    <tr>\n",
       "      <th>max</th>\n",
       "      <td>1.330000</td>\n",
       "      <td>1.050000</td>\n",
       "    </tr>\n",
       "  </tbody>\n",
       "</table>\n",
       "</div>"
      ],
      "text/plain": [
       "           usps       dhl\n",
       "count  9.000000  9.000000\n",
       "mean   1.236667  0.967778\n",
       "std    0.064420  0.049441\n",
       "min    1.150000  0.880000\n",
       "25%    1.200000  0.940000\n",
       "50%    1.230000  0.970000\n",
       "75%    1.280000  1.000000\n",
       "max    1.330000  1.050000"
      ]
     },
     "execution_count": 103,
     "metadata": {},
     "output_type": "execute_result"
    }
   ],
   "source": [
    "# define lists and make into dataframe \n",
    "usps = [1.25,1.16,1.33,1.15,1.23,1.20,1.32,1.28,1.21]\n",
    "dhl = [0.88,1.00,0.96,0.94,0.93,1.01,0.97,1.05,0.97]\n",
    "#print(usps)\n",
    "#print(dhl)\n",
    "import pandas\n",
    "#https://cmdlinetips.com/2018/01/how-to-create-pandas-dataframe-from-multiple-lists/\n",
    "myzip = list(zip(usps,dhl))\n",
    "mydata = pandas.DataFrame(myzip,columns=['usps','dhl'])\n",
    "mydata.describe()"
   ]
  },
  {
   "cell_type": "code",
   "execution_count": 104,
   "metadata": {},
   "outputs": [
    {
     "data": {
      "text/html": [
       "<div>\n",
       "<style scoped>\n",
       "    .dataframe tbody tr th:only-of-type {\n",
       "        vertical-align: middle;\n",
       "    }\n",
       "\n",
       "    .dataframe tbody tr th {\n",
       "        vertical-align: top;\n",
       "    }\n",
       "\n",
       "    .dataframe thead th {\n",
       "        text-align: right;\n",
       "    }\n",
       "</style>\n",
       "<table border=\"1\" class=\"dataframe\">\n",
       "  <thead>\n",
       "    <tr style=\"text-align: right;\">\n",
       "      <th></th>\n",
       "      <th>usps</th>\n",
       "      <th>dhl</th>\n",
       "    </tr>\n",
       "  </thead>\n",
       "  <tbody>\n",
       "    <tr>\n",
       "      <th>count</th>\n",
       "      <td>9.000000</td>\n",
       "      <td>9.000000</td>\n",
       "    </tr>\n",
       "    <tr>\n",
       "      <th>mean</th>\n",
       "      <td>1.236667</td>\n",
       "      <td>0.967778</td>\n",
       "    </tr>\n",
       "    <tr>\n",
       "      <th>std</th>\n",
       "      <td>0.064420</td>\n",
       "      <td>0.049441</td>\n",
       "    </tr>\n",
       "    <tr>\n",
       "      <th>min</th>\n",
       "      <td>1.150000</td>\n",
       "      <td>0.880000</td>\n",
       "    </tr>\n",
       "    <tr>\n",
       "      <th>25%</th>\n",
       "      <td>1.200000</td>\n",
       "      <td>0.940000</td>\n",
       "    </tr>\n",
       "    <tr>\n",
       "      <th>50%</th>\n",
       "      <td>1.230000</td>\n",
       "      <td>0.970000</td>\n",
       "    </tr>\n",
       "    <tr>\n",
       "      <th>75%</th>\n",
       "      <td>1.280000</td>\n",
       "      <td>1.000000</td>\n",
       "    </tr>\n",
       "    <tr>\n",
       "      <th>max</th>\n",
       "      <td>1.330000</td>\n",
       "      <td>1.050000</td>\n",
       "    </tr>\n",
       "  </tbody>\n",
       "</table>\n",
       "</div>"
      ],
      "text/plain": [
       "           usps       dhl\n",
       "count  9.000000  9.000000\n",
       "mean   1.236667  0.967778\n",
       "std    0.064420  0.049441\n",
       "min    1.150000  0.880000\n",
       "25%    1.200000  0.940000\n",
       "50%    1.230000  0.970000\n",
       "75%    1.280000  1.000000\n",
       "max    1.330000  1.050000"
      ]
     },
     "execution_count": 104,
     "metadata": {},
     "output_type": "execute_result"
    }
   ],
   "source": [
    "# describe lists/dataframe \n",
    "mydata.describe()"
   ]
  },
  {
   "cell_type": "code",
   "execution_count": 106,
   "metadata": {},
   "outputs": [
    {
     "data": {
      "text/plain": [
       "array([[<AxesSubplot:title={'center':'dhl'}>]], dtype=object)"
      ]
     },
     "execution_count": 106,
     "metadata": {},
     "output_type": "execute_result"
    },
    {
     "data": {
      "image/png": "[encoded data removed]",
      "text/plain": [
       "<Figure size 432x288 with 1 Axes>"
      ]
     },
     "metadata": {
      "needs_background": "light"
     },
     "output_type": "display_data"
    },
    {
     "data": {
      "image/png": "[encoded data removed]",
      "text/plain": [
       "<Figure size 432x288 with 1 Axes>"
      ]
     },
     "metadata": {
      "needs_background": "light"
     },
     "output_type": "display_data"
    }
   ],
   "source": [
    "# histograms\n",
    "mydata.hist(column='usps')\n",
    "mydata.hist(column='dhl')"
   ]
  },
  {
   "cell_type": "code",
   "execution_count": 114,
   "metadata": {},
   "outputs": [
    {
     "name": "stdout",
     "output_type": "stream",
     "text": [
      "stat=0.949, p=0.679\n",
      "Probably Gaussian\n",
      "stat=0.986, p=0.988\n",
      "Probably Gaussian\n",
      "statistic=0.000, p-value at rejection =0.000\n",
      "Probably different distributions\n",
      "stat=9.934, p=0.000\n",
      "Means Different\n"
     ]
    }
   ],
   "source": [
    "# hypothesis tests are means same?\n",
    "# the Shapiro-Wilk Normality Test for set1\n",
    "from scipy.stats import shapiro\n",
    "\n",
    "stat, p = shapiro(mydata['usps'])\n",
    "print('stat=%.3f, p=%.3f' % (stat, p))\n",
    "if p > 0.05:\n",
    "\tprint('Probably Gaussian')\n",
    "else:\n",
    "\tprint('Probably not Gaussian')\n",
    "# hypothesis tests are means same?\n",
    "# the Shapiro-Wilk Normality Test for set1\n",
    "from scipy.stats import shapiro\n",
    "\n",
    "stat, p = shapiro(mydata['dhl'])\n",
    "print('stat=%.3f, p=%.3f' % (stat, p))\n",
    "if p > 0.05:\n",
    "\tprint('Probably Gaussian')\n",
    "else:\n",
    "\tprint('Probably not Gaussian')\n",
    "from scipy.stats import mannwhitneyu # import a useful non-parametric test\n",
    "\n",
    "stat, p = mannwhitneyu(mydata['usps'],mydata['dhl'])\n",
    "print('statistic=%.3f, p-value at rejection =%.3f' % (stat, p))\n",
    "if p > 0.05:\n",
    "    print('Probably the same distribution')\n",
    "else:\n",
    "    print('Probably different distributions')\n",
    "\n",
    "usps_mean = mydata['usps'].mean()\n",
    "dhl_mean = mydata['dhl'].mean()\n",
    "diffmean= usps_mean - dhl_mean\n",
    "#diffmean\n",
    "\n",
    "# Example of the Student's t-test\n",
    "from scipy.stats import ttest_ind\n",
    "stat, p = ttest_ind(mydata['usps'], mydata['dhl'])\n",
    "print('stat=%.3f, p=%.3f' % (stat, p))\n",
    "if p > 0.05:\n",
    "\tprint('Means same')\n",
    "else:\n",
    "\tprint('Means Different')"
   ]
  },
  {
   "cell_type": "code",
   "execution_count": 27,
   "metadata": {},
   "outputs": [],
   "source": [
    "# interpret findings (could be a markdown cell, or embed into code)"
   ]
  },
  {
   "cell_type": "markdown",
   "metadata": {},
   "source": [
    "# Example Problem 4 (30 points)\n",
    "Evaporation records for Texas (reported as inches per month) are available from the Texas Water Development Board. https://waterdatafortexas.org/lake-evaporation-rainfall\n",
    "The map below shows the quadrants (grid cells) for which data are tabulated.\n",
    "\n",
    "![figure1](EvapMap.png)\n",
    "\n",
    "Cell '911' is located between Corpus Christi and Houston in the Coastal Plains of Texas.  A copy of the dataset downloaded from the Texas Water Development Board is located at [url here]\n",
    "\n",
    "1. Produce a plot of month vs precipitation.  *[Script + Plot 1: data==blue]*\n",
    "2. Describe the entire data set. *[Script]*\n",
    "3. Split the data into two parts at the year 1985.  *[Script]*\n",
    "4. Describe the two data series you have created. *[Script]*\n",
    "5. Plot the two series on the same plot. *[Script + Plot 2: data1==blue, data2==green]*\n",
    "6. Is there evidence of different mean evaporation in the pre-1985 and post-1985 data sets?  Use a hypothesis test to support your assertion. *[Markdown + Script]*\n",
    "7. Using the entire data set prepare an empirical cumulative distribution plot using the weibull plotting position formula.  *[Script + Plot 3: data==blue]*\n",
    "8. What is the 50% evaporation exceedence depth? *[Markdown]*\n",
    "9. What is the 90% evaporation exceedence depth? *[Markdown]*\n",
    "10. Fit the empirical distribution using a normal distribution data model, plot the model using a red curve.  Assess the fit. *[Script + Plot 4: data==blue, model==red]*\n",
    "11. Fit the empirical distribution using a gammal distribution data model, plot the model using a red curve.  Assess the fit. *[Script + Plot 5: data==blue, model==red]*\n",
    "12. Using your preferred model (normal vs. gamma) estimate the 99% evaporation exceedence depth. *[Script + Markdown]*"
   ]
  },
  {
   "cell_type": "code",
   "execution_count": 115,
   "metadata": {},
   "outputs": [
    {
     "data": {
      "text/html": [
       "<div>\n",
       "<style scoped>\n",
       "    .dataframe tbody tr th:only-of-type {\n",
       "        vertical-align: middle;\n",
       "    }\n",
       "\n",
       "    .dataframe tbody tr th {\n",
       "        vertical-align: top;\n",
       "    }\n",
       "\n",
       "    .dataframe thead th {\n",
       "        text-align: right;\n",
       "    }\n",
       "</style>\n",
       "<table border=\"1\" class=\"dataframe\">\n",
       "  <thead>\n",
       "    <tr style=\"text-align: right;\">\n",
       "      <th></th>\n",
       "      <th>YYYY-MM</th>\n",
       "      <th>104</th>\n",
       "      <th>105</th>\n",
       "      <th>106</th>\n",
       "      <th>107</th>\n",
       "      <th>108</th>\n",
       "      <th>204</th>\n",
       "      <th>205</th>\n",
       "      <th>206</th>\n",
       "      <th>207</th>\n",
       "      <th>...</th>\n",
       "      <th>911</th>\n",
       "      <th>912</th>\n",
       "      <th>1008</th>\n",
       "      <th>1009</th>\n",
       "      <th>1010</th>\n",
       "      <th>1011</th>\n",
       "      <th>1108</th>\n",
       "      <th>1109</th>\n",
       "      <th>1110</th>\n",
       "      <th>1210</th>\n",
       "    </tr>\n",
       "  </thead>\n",
       "  <tbody>\n",
       "    <tr>\n",
       "      <th>0</th>\n",
       "      <td>1954-01-01</td>\n",
       "      <td>1.80</td>\n",
       "      <td>1.80</td>\n",
       "      <td>2.02</td>\n",
       "      <td>2.24</td>\n",
       "      <td>2.24</td>\n",
       "      <td>2.34</td>\n",
       "      <td>1.89</td>\n",
       "      <td>1.80</td>\n",
       "      <td>1.99</td>\n",
       "      <td>...</td>\n",
       "      <td>1.42</td>\n",
       "      <td>1.30</td>\n",
       "      <td>2.50</td>\n",
       "      <td>2.42</td>\n",
       "      <td>1.94</td>\n",
       "      <td>1.29</td>\n",
       "      <td>2.59</td>\n",
       "      <td>2.49</td>\n",
       "      <td>2.22</td>\n",
       "      <td>2.27</td>\n",
       "    </tr>\n",
       "    <tr>\n",
       "      <th>1</th>\n",
       "      <td>1954-02-01</td>\n",
       "      <td>4.27</td>\n",
       "      <td>4.27</td>\n",
       "      <td>4.13</td>\n",
       "      <td>3.98</td>\n",
       "      <td>3.90</td>\n",
       "      <td>4.18</td>\n",
       "      <td>4.26</td>\n",
       "      <td>4.27</td>\n",
       "      <td>4.26</td>\n",
       "      <td>...</td>\n",
       "      <td>2.59</td>\n",
       "      <td>2.51</td>\n",
       "      <td>4.71</td>\n",
       "      <td>4.30</td>\n",
       "      <td>3.84</td>\n",
       "      <td>2.50</td>\n",
       "      <td>5.07</td>\n",
       "      <td>4.62</td>\n",
       "      <td>4.05</td>\n",
       "      <td>4.18</td>\n",
       "    </tr>\n",
       "    <tr>\n",
       "      <th>2</th>\n",
       "      <td>1954-03-01</td>\n",
       "      <td>4.98</td>\n",
       "      <td>4.98</td>\n",
       "      <td>4.62</td>\n",
       "      <td>4.25</td>\n",
       "      <td>4.20</td>\n",
       "      <td>5.01</td>\n",
       "      <td>4.98</td>\n",
       "      <td>4.98</td>\n",
       "      <td>4.68</td>\n",
       "      <td>...</td>\n",
       "      <td>3.21</td>\n",
       "      <td>3.21</td>\n",
       "      <td>6.21</td>\n",
       "      <td>6.06</td>\n",
       "      <td>5.02</td>\n",
       "      <td>3.21</td>\n",
       "      <td>6.32</td>\n",
       "      <td>6.20</td>\n",
       "      <td>5.68</td>\n",
       "      <td>5.70</td>\n",
       "    </tr>\n",
       "    <tr>\n",
       "      <th>3</th>\n",
       "      <td>1954-04-01</td>\n",
       "      <td>6.09</td>\n",
       "      <td>5.94</td>\n",
       "      <td>5.94</td>\n",
       "      <td>6.07</td>\n",
       "      <td>5.27</td>\n",
       "      <td>6.31</td>\n",
       "      <td>5.98</td>\n",
       "      <td>5.89</td>\n",
       "      <td>5.72</td>\n",
       "      <td>...</td>\n",
       "      <td>3.83</td>\n",
       "      <td>3.54</td>\n",
       "      <td>6.45</td>\n",
       "      <td>6.25</td>\n",
       "      <td>4.92</td>\n",
       "      <td>3.54</td>\n",
       "      <td>6.59</td>\n",
       "      <td>6.44</td>\n",
       "      <td>5.88</td>\n",
       "      <td>5.95</td>\n",
       "    </tr>\n",
       "    <tr>\n",
       "      <th>4</th>\n",
       "      <td>1954-05-01</td>\n",
       "      <td>5.41</td>\n",
       "      <td>5.09</td>\n",
       "      <td>5.14</td>\n",
       "      <td>4.40</td>\n",
       "      <td>3.61</td>\n",
       "      <td>5.57</td>\n",
       "      <td>4.56</td>\n",
       "      <td>4.47</td>\n",
       "      <td>4.18</td>\n",
       "      <td>...</td>\n",
       "      <td>3.48</td>\n",
       "      <td>3.97</td>\n",
       "      <td>7.92</td>\n",
       "      <td>8.13</td>\n",
       "      <td>6.31</td>\n",
       "      <td>3.99</td>\n",
       "      <td>7.75</td>\n",
       "      <td>7.98</td>\n",
       "      <td>7.40</td>\n",
       "      <td>7.40</td>\n",
       "    </tr>\n",
       "  </tbody>\n",
       "</table>\n",
       "<p>5 rows × 93 columns</p>\n",
       "</div>"
      ],
      "text/plain": [
       "     YYYY-MM   104   105   106   107   108   204   205   206   207  ...   911  \\\n",
       "0 1954-01-01  1.80  1.80  2.02  2.24  2.24  2.34  1.89  1.80  1.99  ...  1.42   \n",
       "1 1954-02-01  4.27  4.27  4.13  3.98  3.90  4.18  4.26  4.27  4.26  ...  2.59   \n",
       "2 1954-03-01  4.98  4.98  4.62  4.25  4.20  5.01  4.98  4.98  4.68  ...  3.21   \n",
       "3 1954-04-01  6.09  5.94  5.94  6.07  5.27  6.31  5.98  5.89  5.72  ...  3.83   \n",
       "4 1954-05-01  5.41  5.09  5.14  4.40  3.61  5.57  4.56  4.47  4.18  ...  3.48   \n",
       "\n",
       "    912  1008  1009  1010  1011  1108  1109  1110  1210  \n",
       "0  1.30  2.50  2.42  1.94  1.29  2.59  2.49  2.22  2.27  \n",
       "1  2.51  4.71  4.30  3.84  2.50  5.07  4.62  4.05  4.18  \n",
       "2  3.21  6.21  6.06  5.02  3.21  6.32  6.20  5.68  5.70  \n",
       "3  3.54  6.45  6.25  4.92  3.54  6.59  6.44  5.88  5.95  \n",
       "4  3.97  7.92  8.13  6.31  3.99  7.75  7.98  7.40  7.40  \n",
       "\n",
       "[5 rows x 93 columns]"
      ]
     },
     "execution_count": 115,
     "metadata": {},
     "output_type": "execute_result"
    }
   ],
   "source": [
    "import pandas\n",
    "# read the file\n",
    "evapdf = pandas.read_csv(\"all_quads_gross_evaporation.csv\",parse_dates=[\"YYYY-MM\"]) # Read the file as a .CSV assign to a dataframe evapdf\n",
    "\n",
    "# display a few lines\n",
    "evapdf.head() # check structure"
   ]
  },
  {
   "cell_type": "code",
   "execution_count": 117,
   "metadata": {},
   "outputs": [
    {
     "data": {
      "text/plain": [
       "count    792.000000\n",
       "mean       4.184040\n",
       "std        1.722582\n",
       "min        1.230000\n",
       "25%        2.677500\n",
       "50%        4.020000\n",
       "75%        5.422500\n",
       "max        9.560000\n",
       "Name: 911, dtype: float64"
      ]
     },
     "execution_count": 117,
     "metadata": {},
     "output_type": "execute_result"
    },
    {
     "data": {
      "image/png": "[encoded data removed]",
      "text/plain": [
       "<Figure size 432x288 with 1 Axes>"
      ]
     },
     "metadata": {
      "needs_background": "light"
     },
     "output_type": "display_data"
    }
   ],
   "source": [
    "# plot data\n",
    "evapdf.plot.line(x='YYYY-MM',y='911') # Plot quadrant 911 evaporation time series \n",
    "# describe data\n",
    "evapdf['911'].describe()"
   ]
  },
  {
   "cell_type": "code",
   "execution_count": 118,
   "metadata": {},
   "outputs": [
    {
     "name": "stdout",
     "output_type": "stream",
     "text": [
      "     YYYY-MM   104   105   106   107   108   204   205   206   207  ...   911  \\\n",
      "0 1954-01-01  1.80  1.80  2.02  2.24  2.24  2.34  1.89  1.80  1.99  ...  1.42   \n",
      "1 1954-02-01  4.27  4.27  4.13  3.98  3.90  4.18  4.26  4.27  4.26  ...  2.59   \n",
      "2 1954-03-01  4.98  4.98  4.62  4.25  4.20  5.01  4.98  4.98  4.68  ...  3.21   \n",
      "3 1954-04-01  6.09  5.94  5.94  6.07  5.27  6.31  5.98  5.89  5.72  ...  3.83   \n",
      "4 1954-05-01  5.41  5.09  5.14  4.40  3.61  5.57  4.56  4.47  4.18  ...  3.48   \n",
      "\n",
      "    912  1008  1009  1010  1011  1108  1109  1110  1210  \n",
      "0  1.30  2.50  2.42  1.94  1.29  2.59  2.49  2.22  2.27  \n",
      "1  2.51  4.71  4.30  3.84  2.50  5.07  4.62  4.05  4.18  \n",
      "2  3.21  6.21  6.06  5.02  3.21  6.32  6.20  5.68  5.70  \n",
      "3  3.54  6.45  6.25  4.92  3.54  6.59  6.44  5.88  5.95  \n",
      "4  3.97  7.92  8.13  6.31  3.99  7.75  7.98  7.40  7.40  \n",
      "\n",
      "[5 rows x 93 columns]\n",
      "       YYYY-MM   104    105    106   107   108   204    205    206   207  ...  \\\n",
      "375 1985-04-01  5.31   6.27   6.75  6.92  4.76  5.32   6.72   6.83  7.04  ...   \n",
      "376 1985-05-01  4.80   5.64   5.51  5.47  5.43  4.90   6.62   6.37  6.13  ...   \n",
      "377 1985-06-01  6.61   9.00   9.05  8.66  8.33  6.39   8.62   8.33  7.55  ...   \n",
      "378 1985-07-01  7.21  10.99  11.10  9.73  8.56  7.30  10.11  10.33  9.40  ...   \n",
      "379 1985-08-01  6.56   9.66   9.76  8.48  7.38  6.31   8.85   8.55  7.45  ...   \n",
      "\n",
      "      911   912  1008  1009  1010  1011  1108  1109  1110  1210  \n",
      "375  4.16  4.45  5.26  5.06  4.91  4.41  6.24  5.58  4.81  4.63  \n",
      "376  5.87  5.17  5.19  5.66  5.69  5.86  5.63  5.59  5.63  5.71  \n",
      "377  6.60  6.46  5.91  5.98  6.03  6.41  6.33  6.17  6.38  6.12  \n",
      "378  7.56  6.64  6.50  7.18  7.09  7.41  7.10  7.18  7.13  7.27  \n",
      "379  8.37  6.93  7.76  8.44  8.72  8.52  8.09  7.94  8.35  8.57  \n",
      "\n",
      "[5 rows x 93 columns]\n"
     ]
    }
   ],
   "source": [
    "# split into two series\n",
    "evB485loc = evapdf['YYYY-MM']<'1985-04'  # filter before 1985\n",
    "evB485 = evapdf[evB485loc]\n",
    "ev85uploc = evapdf['YYYY-MM']>='1985-04' # filter after 1985\n",
    "ev85up= evapdf[ev85uploc]\n",
    "print(evB485.head())\n",
    "print(ev85up.head())"
   ]
  },
  {
   "cell_type": "code",
   "execution_count": 119,
   "metadata": {},
   "outputs": [
    {
     "data": {
      "text/plain": [
       "count    375.000000\n",
       "mean       4.202480\n",
       "std        1.774273\n",
       "min        1.260000\n",
       "25%        2.665000\n",
       "50%        3.900000\n",
       "75%        5.455000\n",
       "max        8.800000\n",
       "Name: 911, dtype: float64"
      ]
     },
     "execution_count": 119,
     "metadata": {},
     "output_type": "execute_result"
    }
   ],
   "source": [
    "# describe the split series\n",
    "evB485['911'].describe()"
   ]
  },
  {
   "cell_type": "code",
   "execution_count": 120,
   "metadata": {},
   "outputs": [
    {
     "data": {
      "text/plain": [
       "count    417.000000\n",
       "mean       4.167458\n",
       "std        1.676704\n",
       "min        1.230000\n",
       "25%        2.680000\n",
       "50%        4.160000\n",
       "75%        5.410000\n",
       "max        9.560000\n",
       "Name: 911, dtype: float64"
      ]
     },
     "execution_count": 120,
     "metadata": {},
     "output_type": "execute_result"
    }
   ],
   "source": [
    "ev85up['911'].describe()"
   ]
  },
  {
   "cell_type": "code",
   "execution_count": 12,
   "metadata": {},
   "outputs": [
    {
     "data": {
      "text/plain": [
       "count    417.000000\n",
       "mean       4.167458\n",
       "std        1.676704\n",
       "min        1.230000\n",
       "25%        2.680000\n",
       "50%        4.160000\n",
       "75%        5.410000\n",
       "max        9.560000\n",
       "Name: 911, dtype: float64"
      ]
     },
     "execution_count": 12,
     "metadata": {},
     "output_type": "execute_result"
    }
   ],
   "source": []
  },
  {
   "cell_type": "code",
   "execution_count": 121,
   "metadata": {},
   "outputs": [
    {
     "data": {
      "text/plain": [
       "<AxesSubplot:xlabel='YYYY-MM'>"
      ]
     },
     "execution_count": 121,
     "metadata": {},
     "output_type": "execute_result"
    },
    {
     "data": {
      "image/png": "[encoded data removed]",
      "text/plain": [
       "<Figure size 432x288 with 1 Axes>"
      ]
     },
     "metadata": {
      "needs_background": "light"
     },
     "output_type": "display_data"
    },
    {
     "data": {
      "image/png": "[encoded data removed]",
      "text/plain": [
       "<Figure size 432x288 with 1 Axes>"
      ]
     },
     "metadata": {
      "needs_background": "light"
     },
     "output_type": "display_data"
    }
   ],
   "source": [
    "# plot the split series (blue == old) (green == new)\n",
    "evB485.plot.line(x='YYYY-MM',y='911',color=\"blue\") \n",
    "ev85up.plot.line(x='YYYY-MM',y='911',color=\"green\") "
   ]
  },
  {
   "cell_type": "code",
   "execution_count": 130,
   "metadata": {},
   "outputs": [
    {
     "name": "stdout",
     "output_type": "stream",
     "text": [
      "count    375.000000\n",
      "mean       4.202480\n",
      "std        1.774273\n",
      "min        1.260000\n",
      "25%        2.665000\n",
      "50%        3.900000\n",
      "75%        5.455000\n",
      "max        8.800000\n",
      "Name: 911, dtype: float64\n",
      "count    417.000000\n",
      "mean       4.167458\n",
      "std        1.676704\n",
      "min        1.230000\n",
      "25%        2.680000\n",
      "50%        4.160000\n",
      "75%        5.410000\n",
      "max        9.560000\n",
      "Name: 911, dtype: float64\n",
      "stat=0.959, p=0.000\n",
      "Probably not Gaussian\n",
      "stat=0.967, p=0.000\n",
      "Probably not Gaussian\n",
      "statistic=78184.500, p-value at rejection =0.500\n",
      "Probably the same mean\n",
      "stat=0.286, p=0.775\n",
      "Means same\n"
     ]
    }
   ],
   "source": [
    "# compare sample means\n",
    "print(evB485['911'].describe())\n",
    "print(ev85up['911'].describe())\n",
    "stat, p = shapiro(evB485['911'])\n",
    "print('stat=%.3f, p=%.3f' % (stat, p))\n",
    "if p > 0.05:\n",
    "\tprint('Probably Gaussian')\n",
    "else:\n",
    "\tprint('Probably not Gaussian')\n",
    "stat, p = shapiro(ev85up['911'])\n",
    "print('stat=%.3f, p=%.3f' % (stat, p))\n",
    "if p > 0.05:\n",
    "\tprint('Probably Gaussian')\n",
    "else:\n",
    "\tprint('Probably not Gaussian')\n",
    "stat, p = mannwhitneyu(evB485['911'],ev85up['911'])\n",
    "print('statistic=%.3f, p-value at rejection =%.3f' % (stat, p))\n",
    "if p > 0.05:\n",
    "    print('Probably the same mean')\n",
    "else:\n",
    "    print('Probably different mean')\n",
    "# Example of the Student's t-test\n",
    "from scipy.stats import ttest_ind\n",
    "stat, p = ttest_ind(evB485['911'],ev85up['911'])\n",
    "print('stat=%.3f, p=%.3f' % (stat, p))\n",
    "if p > 0.05:\n",
    "\tprint('Means same')\n",
    "else:\n",
    "\tprint('Means Different')"
   ]
  },
  {
   "cell_type": "code",
   "execution_count": 135,
   "metadata": {},
   "outputs": [],
   "source": [
    "# Weibull plotting position function OK to copy from lab\n",
    "# sort the sample in place!\n",
    "before_list = evB485['911'].tolist()\n",
    "before_list.sort()\n",
    "# built a relative frequency approximation to probability, assume each pick is equally likely, use weibull plotting position formula\n",
    "weibull_pp = []\n",
    "for i in range(0,len(before_list),1):\n",
    "    weibull_pp.append((i+1)/(len(before_list)+1))\n",
    "    before_list.sort()"
   ]
  },
  {
   "cell_type": "code",
   "execution_count": 39,
   "metadata": {},
   "outputs": [],
   "source": [
    "# Make a data list for plotting position function"
   ]
  },
  {
   "cell_type": "code",
   "execution_count": 29,
   "metadata": {},
   "outputs": [],
   "source": [
    "# Generate quantile values from pp function"
   ]
  },
  {
   "cell_type": "code",
   "execution_count": 136,
   "metadata": {},
   "outputs": [
    {
     "data": {
      "image/png": "[encoded data removed]",
      "text/plain": [
       "<Figure size 576x576 with 1 Axes>"
      ]
     },
     "metadata": {
      "needs_background": "light"
     },
     "output_type": "display_data"
    }
   ],
   "source": [
    "# Make a quantile plot OK to copy from lab and modify for this problem\n",
    "make2plot(weibull_pp, before_list, weibull_pp, before_list,\"Density or Quantile Value\",\n",
    "          \"Value of RV\",\"mytitle\")"
   ]
  },
  {
   "cell_type": "code",
   "execution_count": 31,
   "metadata": {},
   "outputs": [],
   "source": [
    "# Visual interpretation (or Markdown )\n",
    "# 50% is at about ??? inch depth\n",
    "# 90% is at about ??? inch depth"
   ]
  },
  {
   "cell_type": "code",
   "execution_count": 137,
   "metadata": {},
   "outputs": [],
   "source": [
    "# normal distribution data model copy from lesson/lab \n",
    "import math\n",
    "\n",
    "def normdensity(mu,sigma,x):  # positional arguments are in form: parameters,variable\n",
    "    weight = 1.0 /(sigma * math.sqrt(2.0*math.pi))\n",
    "    argument = ((x - mu)**2)/(2.0*sigma**2)\n",
    "    normdensity = weight*math.exp(-1.0*argument)\n",
    "    return normdensity\n",
    "\n",
    "def normdist(mu,sigma,x):\n",
    "    argument = (x - mu)/(math.sqrt(2.0)*sigma)    \n",
    "    normdist = (1.0 + math.erf(argument))/2.0\n",
    "    return normdist"
   ]
  },
  {
   "cell_type": "code",
   "execution_count": 142,
   "metadata": {},
   "outputs": [],
   "source": [
    "# Fitted Model copy from lesson/lab \n",
    "# lets get some statistics\n",
    "sample_mean = 4.202\n",
    "sample_variance = 1.774273**2\n",
    "x = []\n",
    "ycdf = []\n",
    "\n",
    "xlow = 0\n",
    "xhigh = 10\n",
    "howMany = 100\n",
    "xstep = (xhigh - xlow)/howMany\n",
    "\n",
    "for i in range(0,howMany+1,1):\n",
    "    x.append(xlow + i*xstep)\n",
    "    yvalue = normdist(sample_mean,sample_variance,xlow + i*xstep)\n",
    "    ycdf.append(yvalue)"
   ]
  },
  {
   "cell_type": "code",
   "execution_count": 144,
   "metadata": {},
   "outputs": [
    {
     "data": {
      "image/png": "[encoded data removed]",
      "text/plain": [
       "<Figure size 576x576 with 1 Axes>"
      ]
     },
     "metadata": {
      "needs_background": "light"
     },
     "output_type": "display_data"
    }
   ],
   "source": [
    "# Now plot the sample values and plotting position \n",
    "# Built the plot\n",
    "# Make a quantile plot OK to copy from lab and modify for this problem\n",
    "make2plot(weibull_pp, before_list, ycdf , x ,\"Density or Quantile Value\",\n",
    "          \"Value of RV\",\"mytitle\")"
   ]
  },
  {
   "cell_type": "code",
   "execution_count": 35,
   "metadata": {},
   "outputs": [],
   "source": [
    "# gamma distribution data model "
   ]
  },
  {
   "cell_type": "code",
   "execution_count": 36,
   "metadata": {},
   "outputs": [],
   "source": [
    "# Fitted Model copy from lesson/lab "
   ]
  },
  {
   "cell_type": "code",
   "execution_count": 37,
   "metadata": {},
   "outputs": [],
   "source": [
    "# Now plot the sample values and plotting position \n",
    "# Built the plot"
   ]
  },
  {
   "cell_type": "code",
   "execution_count": 150,
   "metadata": {},
   "outputs": [
    {
     "name": "stdout",
     "output_type": "stream",
     "text": [
      "0.9927639655703835\n"
     ]
    }
   ],
   "source": [
    "# Choose best model\n",
    "# Capture parameters\n",
    "# Estimate value at quantile = 0.99\n",
    "yvalue = normdist(sample_mean,sample_variance,11.9)\n",
    "print(yvalue)"
   ]
  },
  {
   "cell_type": "code",
   "execution_count": null,
   "metadata": {},
   "outputs": [],
   "source": []
  },
  {
   "cell_type": "code",
   "execution_count": null,
   "metadata": {},
   "outputs": [],
   "source": []
  }
 ],
 "metadata": {
  "kernelspec": {
   "display_name": "Python 3",
   "language": "python",
   "name": "python3"
  },
  "language_info": {
   "codemirror_mode": {
    "name": "ipython",
    "version": 3
   },
   "file_extension": ".py",
   "mimetype": "text/x-python",
   "name": "python",
   "nbconvert_exporter": "python",
   "pygments_lexer": "ipython3",
   "version": "3.8.10"
  }
 },
 "nbformat": 4,
 "nbformat_minor": 4
}
