{
 "cells": [
  {
   "cell_type": "code",
   "execution_count": 15,
   "metadata": {},
   "outputs": [
    {
     "data": {
      "text/html": [
       "<!--Script block to left align Markdown Tables-->\n",
       "<style>\n",
       "  table {margin-left: 0 !important;}\n",
       "</style>\n"
      ],
      "text/plain": [
       "<IPython.core.display.HTML object>"
      ]
     },
     "metadata": {},
     "output_type": "display_data"
    }
   ],
   "source": [
    "%%html\n",
    "<!--Script block to left align Markdown Tables-->\n",
    "<style>\n",
    "  table {margin-left: 0 !important;}\n",
    "</style>"
   ]
  },
  {
   "cell_type": "markdown",
   "metadata": {},
   "source": [
    "## Full name: \n",
    "## R#: \n",
    "## HEX: \n",
    "## Exam 2 Take-Home_{your name}\n",
    "## Date: "
   ]
  },
  {
   "cell_type": "markdown",
   "metadata": {},
   "source": [
    "# Example Problem \n",
    "Run the cell below as-is!"
   ]
  },
  {
   "cell_type": "code",
   "execution_count": 16,
   "metadata": {},
   "outputs": [
    {
     "name": "stdout",
     "output_type": "stream",
     "text": [
      "atomickitty\n",
      "sensei\n",
      "/opt/jupyterhub/bin/python3\n",
      "/home/sensei/engr-1330-webroot/5-ExamProblems/Exam2/Exam2\n"
     ]
    }
   ],
   "source": [
    "%reset -f\n",
    "# Preamble script block to identify host, user, and kernel\n",
    "import sys\n",
    "! hostname\n",
    "! whoami\n",
    "print(sys.executable)\n",
    "#print(sys.version)\n",
    "#print(sys.version_info)\n",
    "! pwd"
   ]
  },
  {
   "cell_type": "markdown",
   "metadata": {},
   "source": [
    "---\n",
    "# Example Problem 1 \n",
    "The table below contains some experimental observations.\n",
    "\n",
    "|Elapsed Time (s)|Speed (m/s)|\n",
    "|---:|---:|\n",
    "|0 |0|\n",
    "|1.0 |3|\n",
    "|2.0 |7|\n",
    "|3.0 |12|\n",
    "|4.0 |20|\n",
    "|5.0 |30|\n",
    "|6.0 | 45.6| \n",
    "|7.0 | 60.3 |\n",
    "|8.0 | 77.7 |\n",
    "|9.0 | 97.3 |\n",
    "|10.0| 121.1|\n",
    "\n",
    "1. Plot the speed vs time (speed on y-axis, time on x-axis) using a scatter plot.  Use blue markers. \n",
    "2. Plot a red line on the scatterplot based on the linear model $f(x) = mx + b$ \n",
    "3. By trial-and-error find values of $m$ and $b$ that provide a good visual fit (i.e. makes the red line explain the blue markers).\n",
    "4. Using this data model estimate the speed at $t = 15~\\texttt{sec.}$"
   ]
  },
  {
   "cell_type": "code",
   "execution_count": 19,
   "metadata": {},
   "outputs": [],
   "source": [
    "# Create two lists; time  and speed\n",
    "time_obs = [0,1,2,3,4,5,6,7,8,9,10.0]\n",
    "speed_obs = [0,3,7,12,20,30,45.6,60.3,77.7,97.3,121.1]\n",
    "#print(time_obs)\n",
    "#print(speed_obs)"
   ]
  },
  {
   "cell_type": "code",
   "execution_count": 55,
   "metadata": {},
   "outputs": [
    {
     "name": "stdout",
     "output_type": "stream",
     "text": [
      "[0.0, 1.0, 2.0, 3.0, 4.0, 5.0, 6.0, 7.0, 8.0, 9.0, 10.0]\n",
      "[-15.0, -3.0, 9.0, 21.0, 33.0, 45.0, 57.0, 69.0, 81.0, 93.0, 105.0]\n"
     ]
    }
   ],
   "source": [
    "# Create a data model function\n",
    "def fn(x,m,b):\n",
    "    fn = m*x+b\n",
    "    return fn\n",
    "# Create a model list - using same time list\n",
    "m = 12\n",
    "b = -15\n",
    "time_mod = [float(i)*1 for i in range(11)]\n",
    "speed_mod = []\n",
    "for i in range(11):\n",
    "    speed_mod.append(fn(time_mod[i],m,b))\n",
    "print(time_mod)\n",
    "print(speed_mod)"
   ]
  },
  {
   "cell_type": "code",
   "execution_count": 56,
   "metadata": {},
   "outputs": [
    {
     "data": {
      "image/png": "[encoded data removed]",
      "text/plain": [
       "<Figure size 576x576 with 1 Axes>"
      ]
     },
     "metadata": {
      "needs_background": "light"
     },
     "output_type": "display_data"
    }
   ],
   "source": [
    "# Create a srplcatteot chart of time and speed, overlay a line plot of time and modeled speed\n",
    "# Our plotting function ######################\n",
    "import matplotlib.pyplot as plt\n",
    "def make2plot(listx1,listy1,listx2,listy2,strlablx,strlably,strtitle):\n",
    "    mydata = plt.figure(figsize = (8,8)) # build a square drawing canvass from figure class\n",
    "    plt.plot(listx1,listy1, c='blue', marker='p',linewidth=0) # basic data plot\n",
    "    plt.plot(listx2,listy2, c='red',linewidth=1) # basic model plot\n",
    "    plt.xlabel(strlablx)\n",
    "    plt.ylabel(strlably)\n",
    "    plt.legend(['Observations','Data Model'])# modify for argument insertion\n",
    "    plt.title(strtitle)\n",
    "    plt.show()\n",
    "\n",
    "make2plot(time_obs,speed_obs,time_mod,speed_mod,'elapsed time (sec)','speed (m/s)','my plot')"
   ]
  },
  {
   "cell_type": "code",
   "execution_count": 42,
   "metadata": {},
   "outputs": [
    {
     "name": "stdout",
     "output_type": "stream",
     "text": [
      "my best guess of m is:  12  my best guess of b is :  -15\n"
     ]
    }
   ],
   "source": [
    "# Report best values m and b\n",
    "print('my best guess of m is: ',m,' my best guess of b is : ',b)"
   ]
  },
  {
   "cell_type": "code",
   "execution_count": 43,
   "metadata": {},
   "outputs": [
    {
     "name": "stdout",
     "output_type": "stream",
     "text": [
      "Estimated speed at time =  15  sec. is  165.0\n"
     ]
    }
   ],
   "source": [
    "# Estimate speed@ t = 15 sec. using fitted model\n",
    "print('Estimated speed at time = ',15,' sec. is ',fn(15.0,m,b))"
   ]
  },
  {
   "cell_type": "markdown",
   "metadata": {},
   "source": [
    "---\n",
    "\n",
    "# Example Problem 2\n",
    "Consider the script below, which crudely implements a simulation of Russian Roulette.\n",
    "How many times can you spin the cylinder and pull the trigger, before you fail?\n",
    "Play the game 10 times, record the pull count until failure.\n",
    "\n",
    "1. Create a list of pulls until failure for each of your 10 attempts, and make a histogram of the list.\n",
    "2. From your histogram, estimate the mean number of pulls until failure.\n",
    "\n",
    "In the movie `The Deer Hunter` https://en.wikipedia.org/wiki/The_Deer_Hunter the captured soldiers modify the Russian Roulette Game by using more than a single cartridge.  \n",
    "\n",
    "3. Modify the program to the number of cartridges in the movie (3) and play again 10 times, record your pulls to failure\n",
    "4. Make a second histogram of the `Deer Hunter` version of the game.\n",
    "5. From your histogram, estimate the mean number of pulls until failure under the `Deer Hunter` conditions."
   ]
  },
  {
   "cell_type": "code",
   "execution_count": 69,
   "metadata": {},
   "outputs": [
    {
     "name": "stdout",
     "output_type": "stream",
     "text": [
      "THIS IS A RUSSIAN ROULETTE PROGRAM. BEST PLAYED WHILE DRINKING VODKA.\n",
      "Press Enter to Spin the Cylinder & Test Your Courage\n"
     ]
    },
    {
     "name": "stdin",
     "output_type": "stream",
     "text": [
      " \n"
     ]
    },
    {
     "name": "stdout",
     "output_type": "stream",
     "text": [
      "[ BANG!!!! ]\n",
      "[ So long ]\n",
      "[ Comrade. ]\n",
      "Pulls =  1\n"
     ]
    }
   ],
   "source": [
    "\n",
    "#RUSSIAN ROULETTE PROGRAM IN PYTHON:\n",
    "\n",
    "import random\n",
    "print('THIS IS A RUSSIAN ROULETTE PROGRAM. BEST PLAYED WHILE DRINKING VODKA.')\n",
    "leaveprogram=0\n",
    "triggerpulls = 0\n",
    "while leaveprogram != \"q\":\n",
    "    print(\"Press Enter to Spin the Cylinder & Test Your Courage\")\n",
    "    input()\n",
    "    number=random.randint (1, 6)\n",
    "    if number==1:\n",
    "        print(\"[ CLICK! ]\")\n",
    "        triggerpulls += 1\n",
    "        print(\"Pulls = \",triggerpulls, \"Type 'q' to quit\")\n",
    "        leaveprogram=input()\n",
    "    if number==2:\n",
    "        print(\"[ CLICK! ]\")\n",
    "        triggerpulls += 1\n",
    "        print(\"Pulls = \",triggerpulls, \"Type 'q' to quit\")\n",
    "        leaveprogram=input()\n",
    "    if number==3:\n",
    "        print(\"[ CLICK! ]\")\n",
    "        triggerpulls += 1\n",
    "        print(\"Pulls = \",triggerpulls, \"Type 'q' to quit\")\n",
    "        leaveprogram=input()\n",
    "    if number==4:\n",
    "        print(\"[ CLICK! ]\")\n",
    "        triggerpulls += 1\n",
    "        print(\"Pulls = \",triggerpulls, \"Type 'q' to quit\")\n",
    "        leaveprogram=input()\n",
    "    if number==5:\n",
    "        print(\"[ BANG!!!! ]\")\n",
    "        triggerpulls += 1\n",
    "        print(\"[ So long ]\")\n",
    "        print(\"[ Comrade. ]\")\n",
    "        print(\"Pulls = \",triggerpulls)\n",
    "        leaveprogram='q'\n",
    "    if number==6:\n",
    "        print(\"[ CLICK! ]\")\n",
    "        triggerpulls += 1\n",
    "        print(\"Pulls = \",triggerpulls, \"Type 'q' to quit\")\n",
    "        leaveprogram=input()\n",
    "        \n",
    "#"
   ]
  },
  {
   "cell_type": "code",
   "execution_count": 72,
   "metadata": {},
   "outputs": [],
   "source": [
    "# List of results\n",
    "pulls2die = [3,3,4,16,7,3,3,2,4,1]"
   ]
  },
  {
   "cell_type": "code",
   "execution_count": 73,
   "metadata": {},
   "outputs": [
    {
     "data": {
      "text/plain": [
       "(array([2., 4., 2., 0., 1., 0., 0., 0., 0., 1.]),\n",
       " array([ 1. ,  2.5,  4. ,  5.5,  7. ,  8.5, 10. , 11.5, 13. , 14.5, 16. ]),\n",
       " <BarContainer object of 10 artists>)"
      ]
     },
     "execution_count": 73,
     "metadata": {},
     "output_type": "execute_result"
    },
    {
     "data": {
      "image/png": "[encoded data removed]",
      "text/plain": [
       "<Figure size 432x288 with 1 Axes>"
      ]
     },
     "metadata": {
      "needs_background": "light"
     },
     "output_type": "display_data"
    }
   ],
   "source": [
    "# Histogram\n",
    "plt.hist(pulls2die)"
   ]
  },
  {
   "cell_type": "code",
   "execution_count": 79,
   "metadata": {},
   "outputs": [
    {
     "name": "stdout",
     "output_type": "stream",
     "text": [
      "visual estimate meabn pulls to failure is 5, sample estime is : 4.6\n"
     ]
    }
   ],
   "source": [
    "# Mean Pulls to Failure\n",
    "print('visual estimate meabn pulls to failure is 5, sample estime is :',sum(pulls2die)/10)\n"
   ]
  },
  {
   "cell_type": "code",
   "execution_count": 19,
   "metadata": {},
   "outputs": [],
   "source": [
    "# Put Deer Hunter Version Here\n",
    "\n",
    "#RUSSIAN ROULETTE PROGRAM IN PYTHON:\n",
    "\n",
    "import random\n",
    "print('THIS IS A DEER HUNTER VERSION OF RUSSIAN ROULETTE PROGRAM. BEST PLAYED WHILE DRINKING NASTY MEKONG RIVER WATER.')\n",
    "leaveprogram=0\n",
    "triggerpulls = 0\n",
    "while leaveprogram != \"q\":\n",
    "    print(\"Press Enter to Spin the Cylinder & Test Your Courage\")\n",
    "    input()\n",
    "    number=random.randint (1, 6)\n",
    "    if number==1:\n",
    "        print(\"[ CLICK! ]\")\n",
    "        triggerpulls += 1\n",
    "        print(\"Pulls = \",triggerpulls, \"Type 'q' to quit\")\n",
    "        leaveprogram=input()\n",
    "    if number==2:\n",
    "        print(\"[ BANG!!!! ]\")\n",
    "        triggerpulls += 1\n",
    "        print(\"[ So long ]\")\n",
    "        print(\"[ Comrade. ]\")\n",
    "        print(\"Pulls = \",triggerpulls)\n",
    "        leaveprogram='q'\n",
    "    if number==3:\n",
    "        print(\"[ CLICK! ]\")\n",
    "        triggerpulls += 1\n",
    "        print(\"Pulls = \",triggerpulls, \"Type 'q' to quit\")\n",
    "        leaveprogram=input()\n",
    "    if number==4:\n",
    "        print(\"[ BANG!!!! ]\")\n",
    "        triggerpulls += 1\n",
    "        print(\"[ So long ]\")\n",
    "        print(\"[ Comrade. ]\")\n",
    "        print(\"Pulls = \",triggerpulls)\n",
    "        leaveprogram='q'\n",
    "    if number==5:\n",
    "        print(\"[ BANG!!!! ]\")\n",
    "        triggerpulls += 1\n",
    "        print(\"[ So long ]\")\n",
    "        print(\"[ Comrade. ]\")\n",
    "        print(\"Pulls = \",triggerpulls)\n",
    "        leaveprogram='q'\n",
    "    if number==6:\n",
    "        print(\"[ CLICK! ]\")\n",
    "        triggerpulls += 1\n",
    "        print(\"Pulls = \",triggerpulls, \"Type 'q' to quit\")\n",
    "        leaveprogram=input()\n",
    "        \n",
    "#"
   ]
  },
  {
   "cell_type": "code",
   "execution_count": 20,
   "metadata": {},
   "outputs": [],
   "source": [
    "# List of results"
   ]
  },
  {
   "cell_type": "code",
   "execution_count": 21,
   "metadata": {},
   "outputs": [],
   "source": [
    "# Histogram"
   ]
  },
  {
   "cell_type": "code",
   "execution_count": 22,
   "metadata": {},
   "outputs": [],
   "source": [
    "# Mean Pulls to Failure"
   ]
  },
  {
   "cell_type": "markdown",
   "metadata": {},
   "source": [
    "# Example Problem 3 \n",
    "The data below are the impact impact strength of packaging materials in foot-pounds of two branded boxes. Produce a histogram of the two series, and determine if there is evidence of a difference in mean strength between the two brands.  Use an appropriate hypothesis test to support your assertion at a level of significance of $\\alpha = 0.10$. \n",
    "\n",
    "| USPS Branded Boxes | DHL Branded Boxes |\n",
    "|:---|:---|\n",
    "| 1.25 | 0.88|\n",
    "| 1.16 | 1.00|\n",
    "| 1.33| 0.96|\n",
    "| 1.15| 0.94|\n",
    "| 1.23| 0.93|\n",
    "| 1.20| 1.01|\n",
    "| 1.32| 0.97|\n",
    "| 1.28| 1.05|\n",
    "| 1.21| 0.97|\n"
   ]
  },
  {
   "cell_type": "code",
   "execution_count": 23,
   "metadata": {},
   "outputs": [],
   "source": [
    "# define lists and make into dataframe "
   ]
  },
  {
   "cell_type": "code",
   "execution_count": 24,
   "metadata": {},
   "outputs": [],
   "source": [
    "# describe lists/dataframe "
   ]
  },
  {
   "cell_type": "code",
   "execution_count": 25,
   "metadata": {},
   "outputs": [],
   "source": [
    "# histograms"
   ]
  },
  {
   "cell_type": "code",
   "execution_count": 26,
   "metadata": {},
   "outputs": [],
   "source": [
    "# hypothesis tests are means same?"
   ]
  },
  {
   "cell_type": "code",
   "execution_count": 27,
   "metadata": {},
   "outputs": [],
   "source": [
    "# interpret findings (could be a markdown cell, or embed into code)"
   ]
  },
  {
   "cell_type": "markdown",
   "metadata": {},
   "source": [
    "# Example Problem 4 (30 points)\n",
    "Evaporation records for Texas (reported as inches per month) are available from the Texas Water Development Board. https://waterdatafortexas.org/lake-evaporation-rainfall\n",
    "The map below shows the quadrants (grid cells) for which data are tabulated.\n",
    "\n",
    "![figure1](EvapMap.png)\n",
    "\n",
    "Cell '911' is located between Corpus Christi and Houston in the Coastal Plains of Texas.  A copy of the dataset downloaded from the Texas Water Development Board is located at [url here]\n",
    "\n",
    "1. Produce a plot of month vs precipitation.  *[Script + Plot 1: data==blue]*\n",
    "2. Describe the entire data set. *[Script]*\n",
    "3. Split the data into two parts at the year 1985.  *[Script]*\n",
    "4. Describe the two data series you have created. *[Script]*\n",
    "5. Plot the two series on the same plot. *[Script + Plot 2: data1==blue, data2==green]*\n",
    "6. Is there evidence of different mean evaporation in the pre-1985 and post-1985 data sets?  Use a hypothesis test to support your assertion. *[Markdown + Script]*\n",
    "7. Using the entire data set prepare an empirical cumulative distribution plot using the weibull plotting position formula.  *[Script + Plot 3: data==blue]*\n",
    "8. What is the 50% evaporation exceedence depth? *[Markdown]*\n",
    "9. What is the 90% evaporation exceedence depth? *[Markdown]*\n",
    "10. Fit the empirical distribution using a normal distribution data model, plot the model using a red curve.  Assess the fit. *[Script + Plot 4: data==blue, model==red]*\n",
    "11. Fit the empirical distribution using a gammal distribution data model, plot the model using a red curve.  Assess the fit. *[Script + Plot 5: data==blue, model==red]*\n",
    "12. Using your preferred model (normal vs. gamma) estimate the 99% evaporation exceedence depth. *[Script + Markdown]*"
   ]
  },
  {
   "cell_type": "code",
   "execution_count": 5,
   "metadata": {},
   "outputs": [
    {
     "data": {
      "text/html": [
       "<div>\n",
       "<style scoped>\n",
       "    .dataframe tbody tr th:only-of-type {\n",
       "        vertical-align: middle;\n",
       "    }\n",
       "\n",
       "    .dataframe tbody tr th {\n",
       "        vertical-align: top;\n",
       "    }\n",
       "\n",
       "    .dataframe thead th {\n",
       "        text-align: right;\n",
       "    }\n",
       "</style>\n",
       "<table border=\"1\" class=\"dataframe\">\n",
       "  <thead>\n",
       "    <tr style=\"text-align: right;\">\n",
       "      <th></th>\n",
       "      <th>YYYY-MM</th>\n",
       "      <th>104</th>\n",
       "      <th>105</th>\n",
       "      <th>106</th>\n",
       "      <th>107</th>\n",
       "      <th>108</th>\n",
       "      <th>204</th>\n",
       "      <th>205</th>\n",
       "      <th>206</th>\n",
       "      <th>207</th>\n",
       "      <th>...</th>\n",
       "      <th>911</th>\n",
       "      <th>912</th>\n",
       "      <th>1008</th>\n",
       "      <th>1009</th>\n",
       "      <th>1010</th>\n",
       "      <th>1011</th>\n",
       "      <th>1108</th>\n",
       "      <th>1109</th>\n",
       "      <th>1110</th>\n",
       "      <th>1210</th>\n",
       "    </tr>\n",
       "  </thead>\n",
       "  <tbody>\n",
       "    <tr>\n",
       "      <th>0</th>\n",
       "      <td>1954-01-01</td>\n",
       "      <td>1.80</td>\n",
       "      <td>1.80</td>\n",
       "      <td>2.02</td>\n",
       "      <td>2.24</td>\n",
       "      <td>2.24</td>\n",
       "      <td>2.34</td>\n",
       "      <td>1.89</td>\n",
       "      <td>1.80</td>\n",
       "      <td>1.99</td>\n",
       "      <td>...</td>\n",
       "      <td>1.42</td>\n",
       "      <td>1.30</td>\n",
       "      <td>2.50</td>\n",
       "      <td>2.42</td>\n",
       "      <td>1.94</td>\n",
       "      <td>1.29</td>\n",
       "      <td>2.59</td>\n",
       "      <td>2.49</td>\n",
       "      <td>2.22</td>\n",
       "      <td>2.27</td>\n",
       "    </tr>\n",
       "    <tr>\n",
       "      <th>1</th>\n",
       "      <td>1954-02-01</td>\n",
       "      <td>4.27</td>\n",
       "      <td>4.27</td>\n",
       "      <td>4.13</td>\n",
       "      <td>3.98</td>\n",
       "      <td>3.90</td>\n",
       "      <td>4.18</td>\n",
       "      <td>4.26</td>\n",
       "      <td>4.27</td>\n",
       "      <td>4.26</td>\n",
       "      <td>...</td>\n",
       "      <td>2.59</td>\n",
       "      <td>2.51</td>\n",
       "      <td>4.71</td>\n",
       "      <td>4.30</td>\n",
       "      <td>3.84</td>\n",
       "      <td>2.50</td>\n",
       "      <td>5.07</td>\n",
       "      <td>4.62</td>\n",
       "      <td>4.05</td>\n",
       "      <td>4.18</td>\n",
       "    </tr>\n",
       "    <tr>\n",
       "      <th>2</th>\n",
       "      <td>1954-03-01</td>\n",
       "      <td>4.98</td>\n",
       "      <td>4.98</td>\n",
       "      <td>4.62</td>\n",
       "      <td>4.25</td>\n",
       "      <td>4.20</td>\n",
       "      <td>5.01</td>\n",
       "      <td>4.98</td>\n",
       "      <td>4.98</td>\n",
       "      <td>4.68</td>\n",
       "      <td>...</td>\n",
       "      <td>3.21</td>\n",
       "      <td>3.21</td>\n",
       "      <td>6.21</td>\n",
       "      <td>6.06</td>\n",
       "      <td>5.02</td>\n",
       "      <td>3.21</td>\n",
       "      <td>6.32</td>\n",
       "      <td>6.20</td>\n",
       "      <td>5.68</td>\n",
       "      <td>5.70</td>\n",
       "    </tr>\n",
       "    <tr>\n",
       "      <th>3</th>\n",
       "      <td>1954-04-01</td>\n",
       "      <td>6.09</td>\n",
       "      <td>5.94</td>\n",
       "      <td>5.94</td>\n",
       "      <td>6.07</td>\n",
       "      <td>5.27</td>\n",
       "      <td>6.31</td>\n",
       "      <td>5.98</td>\n",
       "      <td>5.89</td>\n",
       "      <td>5.72</td>\n",
       "      <td>...</td>\n",
       "      <td>3.83</td>\n",
       "      <td>3.54</td>\n",
       "      <td>6.45</td>\n",
       "      <td>6.25</td>\n",
       "      <td>4.92</td>\n",
       "      <td>3.54</td>\n",
       "      <td>6.59</td>\n",
       "      <td>6.44</td>\n",
       "      <td>5.88</td>\n",
       "      <td>5.95</td>\n",
       "    </tr>\n",
       "    <tr>\n",
       "      <th>4</th>\n",
       "      <td>1954-05-01</td>\n",
       "      <td>5.41</td>\n",
       "      <td>5.09</td>\n",
       "      <td>5.14</td>\n",
       "      <td>4.40</td>\n",
       "      <td>3.61</td>\n",
       "      <td>5.57</td>\n",
       "      <td>4.56</td>\n",
       "      <td>4.47</td>\n",
       "      <td>4.18</td>\n",
       "      <td>...</td>\n",
       "      <td>3.48</td>\n",
       "      <td>3.97</td>\n",
       "      <td>7.92</td>\n",
       "      <td>8.13</td>\n",
       "      <td>6.31</td>\n",
       "      <td>3.99</td>\n",
       "      <td>7.75</td>\n",
       "      <td>7.98</td>\n",
       "      <td>7.40</td>\n",
       "      <td>7.40</td>\n",
       "    </tr>\n",
       "  </tbody>\n",
       "</table>\n",
       "<p>5 rows × 93 columns</p>\n",
       "</div>"
      ],
      "text/plain": [
       "     YYYY-MM   104   105   106   107   108   204   205   206   207  ...   911  \\\n",
       "0 1954-01-01  1.80  1.80  2.02  2.24  2.24  2.34  1.89  1.80  1.99  ...  1.42   \n",
       "1 1954-02-01  4.27  4.27  4.13  3.98  3.90  4.18  4.26  4.27  4.26  ...  2.59   \n",
       "2 1954-03-01  4.98  4.98  4.62  4.25  4.20  5.01  4.98  4.98  4.68  ...  3.21   \n",
       "3 1954-04-01  6.09  5.94  5.94  6.07  5.27  6.31  5.98  5.89  5.72  ...  3.83   \n",
       "4 1954-05-01  5.41  5.09  5.14  4.40  3.61  5.57  4.56  4.47  4.18  ...  3.48   \n",
       "\n",
       "    912  1008  1009  1010  1011  1108  1109  1110  1210  \n",
       "0  1.30  2.50  2.42  1.94  1.29  2.59  2.49  2.22  2.27  \n",
       "1  2.51  4.71  4.30  3.84  2.50  5.07  4.62  4.05  4.18  \n",
       "2  3.21  6.21  6.06  5.02  3.21  6.32  6.20  5.68  5.70  \n",
       "3  3.54  6.45  6.25  4.92  3.54  6.59  6.44  5.88  5.95  \n",
       "4  3.97  7.92  8.13  6.31  3.99  7.75  7.98  7.40  7.40  \n",
       "\n",
       "[5 rows x 93 columns]"
      ]
     },
     "execution_count": 5,
     "metadata": {},
     "output_type": "execute_result"
    }
   ],
   "source": [
    "#import pandas\n",
    "# read the file\n",
    "#evapdf = pandas.read_csv(\"all_quads_gross_evaporation.csv\",parse_dates=[\"YYYY-MM\"]) # Read the file as a .CSV assign to a dataframe evapdf\n",
    "\n",
    "# display a few lines\n",
    "evapdf.head() # check structure"
   ]
  },
  {
   "cell_type": "code",
   "execution_count": 8,
   "metadata": {},
   "outputs": [
    {
     "data": {
      "text/plain": [
       "count    792.000000\n",
       "mean       4.184040\n",
       "std        1.722582\n",
       "min        1.230000\n",
       "25%        2.677500\n",
       "50%        4.020000\n",
       "75%        5.422500\n",
       "max        9.560000\n",
       "Name: 911, dtype: float64"
      ]
     },
     "execution_count": 8,
     "metadata": {},
     "output_type": "execute_result"
    },
    {
     "data": {
      "image/png": "[encoded data removed]",
      "text/plain": [
       "<Figure size 432x288 with 1 Axes>"
      ]
     },
     "metadata": {
      "needs_background": "light"
     },
     "output_type": "display_data"
    }
   ],
   "source": [
    "# plot data\n",
    "#evapdf.plot.line(x='YYYY-MM',y='911') # Plot quadrant 911 evaporation time series \n",
    "# describe data\n",
    "#evapdf['911'].describe()"
   ]
  },
  {
   "cell_type": "code",
   "execution_count": 10,
   "metadata": {},
   "outputs": [
    {
     "name": "stdout",
     "output_type": "stream",
     "text": [
      "     YYYY-MM   104   105   106   107   108   204   205   206   207  ...   911  \\\n",
      "0 1954-01-01  1.80  1.80  2.02  2.24  2.24  2.34  1.89  1.80  1.99  ...  1.42   \n",
      "1 1954-02-01  4.27  4.27  4.13  3.98  3.90  4.18  4.26  4.27  4.26  ...  2.59   \n",
      "2 1954-03-01  4.98  4.98  4.62  4.25  4.20  5.01  4.98  4.98  4.68  ...  3.21   \n",
      "3 1954-04-01  6.09  5.94  5.94  6.07  5.27  6.31  5.98  5.89  5.72  ...  3.83   \n",
      "4 1954-05-01  5.41  5.09  5.14  4.40  3.61  5.57  4.56  4.47  4.18  ...  3.48   \n",
      "\n",
      "    912  1008  1009  1010  1011  1108  1109  1110  1210  \n",
      "0  1.30  2.50  2.42  1.94  1.29  2.59  2.49  2.22  2.27  \n",
      "1  2.51  4.71  4.30  3.84  2.50  5.07  4.62  4.05  4.18  \n",
      "2  3.21  6.21  6.06  5.02  3.21  6.32  6.20  5.68  5.70  \n",
      "3  3.54  6.45  6.25  4.92  3.54  6.59  6.44  5.88  5.95  \n",
      "4  3.97  7.92  8.13  6.31  3.99  7.75  7.98  7.40  7.40  \n",
      "\n",
      "[5 rows x 93 columns]\n",
      "       YYYY-MM   104    105    106   107   108   204    205    206   207  ...  \\\n",
      "375 1985-04-01  5.31   6.27   6.75  6.92  4.76  5.32   6.72   6.83  7.04  ...   \n",
      "376 1985-05-01  4.80   5.64   5.51  5.47  5.43  4.90   6.62   6.37  6.13  ...   \n",
      "377 1985-06-01  6.61   9.00   9.05  8.66  8.33  6.39   8.62   8.33  7.55  ...   \n",
      "378 1985-07-01  7.21  10.99  11.10  9.73  8.56  7.30  10.11  10.33  9.40  ...   \n",
      "379 1985-08-01  6.56   9.66   9.76  8.48  7.38  6.31   8.85   8.55  7.45  ...   \n",
      "\n",
      "      911   912  1008  1009  1010  1011  1108  1109  1110  1210  \n",
      "375  4.16  4.45  5.26  5.06  4.91  4.41  6.24  5.58  4.81  4.63  \n",
      "376  5.87  5.17  5.19  5.66  5.69  5.86  5.63  5.59  5.63  5.71  \n",
      "377  6.60  6.46  5.91  5.98  6.03  6.41  6.33  6.17  6.38  6.12  \n",
      "378  7.56  6.64  6.50  7.18  7.09  7.41  7.10  7.18  7.13  7.27  \n",
      "379  8.37  6.93  7.76  8.44  8.72  8.52  8.09  7.94  8.35  8.57  \n",
      "\n",
      "[5 rows x 93 columns]\n"
     ]
    }
   ],
   "source": [
    "# split into two series\n",
    "#evB485loc = evapdf['YYYY-MM']<'1985-04'  # filter before 1985\n",
    "#evB485 = evapdf[evB485loc]\n",
    "#ev85uploc = evapdf['YYYY-MM']>='1985-04' # filter after 1985\n",
    "#ev85up= evapdf[ev85uploc]\n",
    "#print(evB485.head())\n",
    "#print(ev85up.head())"
   ]
  },
  {
   "cell_type": "code",
   "execution_count": 13,
   "metadata": {},
   "outputs": [
    {
     "data": {
      "text/plain": [
       "count    375.000000\n",
       "mean       4.202480\n",
       "std        1.774273\n",
       "min        1.260000\n",
       "25%        2.665000\n",
       "50%        3.900000\n",
       "75%        5.455000\n",
       "max        8.800000\n",
       "Name: 911, dtype: float64"
      ]
     },
     "execution_count": 13,
     "metadata": {},
     "output_type": "execute_result"
    }
   ],
   "source": [
    "# describe the split series\n",
    "evB485['911'].describe()"
   ]
  },
  {
   "cell_type": "code",
   "execution_count": 14,
   "metadata": {},
   "outputs": [
    {
     "data": {
      "text/plain": [
       "count    417.000000\n",
       "mean       4.167458\n",
       "std        1.676704\n",
       "min        1.230000\n",
       "25%        2.680000\n",
       "50%        4.160000\n",
       "75%        5.410000\n",
       "max        9.560000\n",
       "Name: 911, dtype: float64"
      ]
     },
     "execution_count": 14,
     "metadata": {},
     "output_type": "execute_result"
    }
   ],
   "source": [
    "ev85up['911'].describe()"
   ]
  },
  {
   "cell_type": "code",
   "execution_count": 12,
   "metadata": {},
   "outputs": [
    {
     "data": {
      "text/plain": [
       "count    417.000000\n",
       "mean       4.167458\n",
       "std        1.676704\n",
       "min        1.230000\n",
       "25%        2.680000\n",
       "50%        4.160000\n",
       "75%        5.410000\n",
       "max        9.560000\n",
       "Name: 911, dtype: float64"
      ]
     },
     "execution_count": 12,
     "metadata": {},
     "output_type": "execute_result"
    }
   ],
   "source": []
  },
  {
   "cell_type": "code",
   "execution_count": 36,
   "metadata": {},
   "outputs": [],
   "source": [
    "# plot the split series (blue == old) (green == new)"
   ]
  },
  {
   "cell_type": "code",
   "execution_count": 37,
   "metadata": {},
   "outputs": [],
   "source": [
    "# compare sample means"
   ]
  },
  {
   "cell_type": "code",
   "execution_count": 38,
   "metadata": {},
   "outputs": [],
   "source": [
    "# Weibull plotting position function OK to copy from lab"
   ]
  },
  {
   "cell_type": "code",
   "execution_count": 39,
   "metadata": {},
   "outputs": [],
   "source": [
    "# Make a data list for plotting position function"
   ]
  },
  {
   "cell_type": "code",
   "execution_count": 29,
   "metadata": {},
   "outputs": [],
   "source": [
    "# Generate quantile values from pp function"
   ]
  },
  {
   "cell_type": "code",
   "execution_count": 30,
   "metadata": {},
   "outputs": [],
   "source": [
    "# Make a quantile plot OK to copy from lab and modify for this problem"
   ]
  },
  {
   "cell_type": "code",
   "execution_count": 31,
   "metadata": {},
   "outputs": [],
   "source": [
    "# Visual interpretation (or Markdown )\n",
    "# 50% is at about ??? inch depth\n",
    "# 90% is at about ??? inch depth"
   ]
  },
  {
   "cell_type": "code",
   "execution_count": 32,
   "metadata": {},
   "outputs": [],
   "source": [
    "# normal distribution data model copy from lesson/lab "
   ]
  },
  {
   "cell_type": "code",
   "execution_count": 33,
   "metadata": {},
   "outputs": [],
   "source": [
    "# Fitted Model copy from lesson/lab "
   ]
  },
  {
   "cell_type": "code",
   "execution_count": 34,
   "metadata": {},
   "outputs": [],
   "source": [
    "# Now plot the sample values and plotting position \n",
    "# Built the plot"
   ]
  },
  {
   "cell_type": "code",
   "execution_count": 35,
   "metadata": {},
   "outputs": [],
   "source": [
    "# gamma distribution data model "
   ]
  },
  {
   "cell_type": "code",
   "execution_count": 36,
   "metadata": {},
   "outputs": [],
   "source": [
    "# Fitted Model copy from lesson/lab "
   ]
  },
  {
   "cell_type": "code",
   "execution_count": 37,
   "metadata": {},
   "outputs": [],
   "source": [
    "# Now plot the sample values and plotting position \n",
    "# Built the plot"
   ]
  },
  {
   "cell_type": "code",
   "execution_count": 38,
   "metadata": {},
   "outputs": [],
   "source": [
    "# Choose best model\n",
    "# Capture parameters\n",
    "# Estimate value at quantile = 0.99"
   ]
  },
  {
   "cell_type": "markdown",
   "metadata": {},
   "source": [
    "---\n",
    "# Bonus Problem (5 pts)\n",
    "Consider the script below, which implements a simulation of Russian Roulette (using an object oriented approach). Run the script to familarize yourself with the output.\n",
    "\n",
    "Then to prevent `Farhang` from dying, determine a way to change his outcome, and explain how you save him.  \n",
    "\n",
    "Like with the robot speeding ticket you are channeling Kirk's approach to the Kobayashi-Maru exercise https://en.wikipedia.org/wiki/Kobayashi_Maru You can find the necessary trick from https://en.wikipedia.org/wiki/WarGames "
   ]
  },
  {
   "cell_type": "code",
   "execution_count": 39,
   "metadata": {},
   "outputs": [
    {
     "name": "stdout",
     "output_type": "stream",
     "text": [
      "Dima lives to see another round!\n",
      "Sergey lives to see another round!\n",
      "Andrey lives to see another round!\n",
      "Neko lives to see another round!\n",
      "Nikita lives to see another round!\n",
      "Farhang lives to see another round!\n",
      "Dima died. :(\n",
      "7 completed.\n"
     ]
    }
   ],
   "source": [
    "import random\n",
    "import itertools\n",
    "\n",
    "class RussianRoulette:\n",
    "\n",
    "    def __init__(self, players, chambers=6):\n",
    "        random.shuffle(players)\n",
    "        self.players = itertools.cycle(players)\n",
    "        self.chambers = [False for _ in range(chambers)]\n",
    "        self.current = None\n",
    "        self.rounds = 0\n",
    "\n",
    "    def load(self):\n",
    "        \"\"\"\n",
    "        Randomly load a chamber with a bullet.\n",
    "        \"\"\"\n",
    "        chamber_to_load = random.randint(0, len(self.chambers)-1)\n",
    "\n",
    "        for i, chamber in enumerate(self.chambers):\n",
    "            if i == chamber_to_load:\n",
    "              self.chambers[i] = True\n",
    "\n",
    "    def next_round(self):\n",
    "        \"\"\"\n",
    "        Advance to the next round.\n",
    "\n",
    "        Returns:\n",
    "            the `player` whose turn it is next\n",
    "        \"\"\"\n",
    "        self.rounds += 1\n",
    "        return next(self.players)\n",
    "\n",
    "    def spin(self):\n",
    "        \"\"\"\n",
    "        Randomly assign a new chamber.\n",
    "        \"\"\"\n",
    "        self.current = random.randrange(0, len(self.chambers))\n",
    "      \n",
    "    def fire(self, player):\n",
    "        \"\"\"\n",
    "        Fires the gun, then advances to the next chamber.\n",
    "\n",
    "        The gun will loop back to the first chamber if we were at the \n",
    "        final chamber in the cyclinder.\n",
    "\n",
    "        Returns:\n",
    "            `None` if no one has died\n",
    "            `player` if the bullet was in the next chamber\n",
    "        \"\"\"\n",
    "        if self.chambers[self.current]:\n",
    "            return player\n",
    "        \n",
    "        self.current = (self.current + 1) % len(self.chambers)\n",
    "\n",
    "if __name__ == '__main__':\n",
    "    players = ['Nikita', 'Dima', 'Sergey', 'Farhang', 'Andrey',  'Neko'] \n",
    "    game = RussianRoulette(players)\n",
    "    \n",
    "    game.load()\n",
    "    game.spin()\n",
    "    \n",
    "    while True:\n",
    "        player = game.next_round()\n",
    "        \n",
    "        choice = random.choice(['spin', 'fire'])\n",
    "        \n",
    "        if choice == 'spin':\n",
    "            game.spin()\n",
    "            #pass\n",
    "        \n",
    "        if game.fire(player):\n",
    "            print(f'{player} died. :(')\n",
    "            print(f'{game.rounds} completed.')\n",
    "            break\n",
    "        \n",
    "        print(f'{player} lives to see another round!')"
   ]
  },
  {
   "cell_type": "markdown",
   "metadata": {},
   "source": []
  },
  {
   "cell_type": "markdown",
   "metadata": {},
   "source": [
    "---\n",
    "# Bonus Problem (30 points)\n",
    "Write a script for the Treasure Hunt problem (repeated below). \n",
    "\n",
    "\n",
    "\n",
    "#### Tresure Hunt Problem\n",
    "                  +-------------------------+\n",
    "                  ¦ 34 ¦ 21 ¦ 32 ¦ 41 ¦ 25  ¦\n",
    "                  +----+----+----+----+-----¦\n",
    "                  ¦ 14 ¦ 42 ¦ 43 ¦ 14 ¦ 31  ¦\n",
    "                  +----+----+----+----+-----¦\n",
    "                  ¦ 54 ¦ 45 ¦ 52 ¦ 42 ¦ 23  ¦\n",
    "                  +----+----+----+----+-----¦\n",
    "                  ¦ 33 ¦ 15 ¦ 51 ¦ 31 ¦ 35  ¦\n",
    "                  +----+----+----+----+-----¦\n",
    "                  ¦ 21 ¦ 52 ¦ 33 ¦ 13 ¦ 23  ¦\n",
    "                  +-------------------------+\n",
    "\n",
    "Do you like treasure hunts? In this problem you are to write a program to explore the above array for a treasure. The values in the array are clues. Each cell contains an integer between 11 and 55; for each value the ten's digit represents the row number and the unit's digit represents the column number of the cell containing the next clue. Starting in the upper left corner (at 1,1), use the clues to guide your search of the array. (The first three clues are  34, 42, 15). The treasure is a cell whose value is the same as its coordinates. Your program must first read in the treasure map data into a 5 by 5 array. Your program should output the cells it visits during its search, and a message indicating where you found the treasure.\n",
    "\n",
    "*The \"Treasure Hunt Problem\" is from the HackerRank.com avaiable at https://www.hackerrank.com/contests/startatastartup/challenges/treasure-hunt*"
   ]
  },
  {
   "cell_type": "code",
   "execution_count": 1,
   "metadata": {},
   "outputs": [],
   "source": [
    "# treasure1.txt is the above treasure map\n",
    "# treasure2.txt is a different treasure map"
   ]
  },
  {
   "cell_type": "code",
   "execution_count": null,
   "metadata": {},
   "outputs": [],
   "source": []
  },
  {
   "cell_type": "code",
   "execution_count": null,
   "metadata": {},
   "outputs": [],
   "source": []
  },
  {
   "cell_type": "code",
   "execution_count": null,
   "metadata": {},
   "outputs": [],
   "source": []
  }
 ],
 "metadata": {
  "kernelspec": {
   "display_name": "Python 3",
   "language": "python",
   "name": "python3"
  },
  "language_info": {
   "codemirror_mode": {
    "name": "ipython",
    "version": 3
   },
   "file_extension": ".py",
   "mimetype": "text/x-python",
   "name": "python",
   "nbconvert_exporter": "python",
   "pygments_lexer": "ipython3",
   "version": "3.8.5"
  }
 },
 "nbformat": 4,
 "nbformat_minor": 4
}
