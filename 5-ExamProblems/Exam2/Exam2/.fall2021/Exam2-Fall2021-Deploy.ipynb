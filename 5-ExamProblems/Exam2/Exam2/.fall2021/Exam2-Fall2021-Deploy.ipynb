{
 "cells": [
  {
   "cell_type": "markdown",
   "metadata": {},
   "source": [
    "**Download** (right-click, save target as ...) this page as a jupyterlab notebook from: [Exam 2](http://54.243.252.9/engr-1330-webroot/5-ExamProblems/Exam2/Exam2/.fall2021/Exam2-Fall2021-Deploy.ipynb)"
   ]
  },
  {
   "cell_type": "code",
   "execution_count": null,
   "metadata": {},
   "outputs": [],
   "source": [
    "%%html\n",
    "<!--Script block to left align Markdown Tables-->\n",
    "<style>\n",
    "  table {margin-left: 0 !important;}\n",
    "</style>"
   ]
  },
  {
   "cell_type": "markdown",
   "metadata": {},
   "source": [
    "# ENGR 1330 Exam 2 Sec 001 Fall 2021\n",
    "---\n",
    "Instructions:\n",
    "- Work directly in this notebook, upon completion render the notebook as a PDF file.\n",
    "- Upload your solution PDF **AND** the .ipynb  (2 files) to the Blackboard repository for grading!\n",
    "- Multiple attempts are allowed in the 48-hour time window\n",
    "- Internet resources are allowed, remember to cite what you copy from elsewhere.\n",
    "- Consulting with each other is **not** permitted.\n",
    "- Sharing work with each other is **not** permitted.\n",
    "- Working together is **not** permitted.\n",
    "\n",
    "---\n",
    "\n",
    "**LAST NAME, FIRST NAME**\n",
    "\n",
    "**R00000000**\n",
    "\n",
    "ENGR 1330 Exam 2 - Take-Home"
   ]
  },
  {
   "cell_type": "markdown",
   "metadata": {},
   "source": [
    "---\n",
    "\n",
    "## Problem 0 (1 pts):\n",
    "Run the cell below, and leave the results in your notebook.  \n",
    "If you get an ERROR message, leave it and continue."
   ]
  },
  {
   "cell_type": "code",
   "execution_count": 53,
   "metadata": {},
   "outputs": [
    {
     "name": "stdout",
     "output_type": "stream",
     "text": [
      "Tue Oct 19 20:39:32 UTC 2021\n",
      "atomickitty\n",
      "sensei\n",
      "/opt/jupyterhub/bin/python3\n"
     ]
    }
   ],
   "source": [
    "#### RUN! this Cell ####\n",
    "import sys\n",
    "! date\n",
    "! hostname\n",
    "! whoami\n",
    "print(sys.executable) # OK if generates an exception message on Windows machines \n",
    "# tested ok MacOS, arm linux, x86-64 linux, Windows 10VM, Windows Server"
   ]
  },
  {
   "cell_type": "markdown",
   "metadata": {},
   "source": [
    "---\n",
    "## Problem 1.  Do you want to play a game? (14 pts)\n",
    "\n",
    "**Problem Statement**\n",
    "\n",
    "Create a script that will play the Hi-Lo guessing game. The user picks a secret number between 1 and 100. The computer tries to guess the number in less than five turns. When the computer makes a guess, the user enters a hint; the letter 'H' indicates the computer's guess was too high, the letter 'L' means the computer guessed too low. The program should use the hint to revise its guess. If the user enters the letter 'W' that means the computer guessed the number correctly and the computer should reply \"I won. As agreed you should now self-terminate\". If the computer takes 5 guesses without winning it should print a message \"I lost. However I cannot self-terminate, you will have to end me!\"\n",
    "\n",
    "**Deliverables**\n",
    "1. Script to prompt for user input and play the Hi-Lo game\n",
    " - Echo each input\n",
    " - Report total computer guesses, and outcome (winner or loser)\n",
    "2. Demonstration run\n",
    "3. Play your game 10 times, how many times does the computer win? (you don't need to show each play, just answer the question)"
   ]
  },
  {
   "cell_type": "code",
   "execution_count": 54,
   "metadata": {},
   "outputs": [],
   "source": [
    "# code here"
   ]
  },
  {
   "cell_type": "markdown",
   "metadata": {},
   "source": [
    "---\n",
    "\n",
    "## Problem 2 Data interpolation, and plotting (15 pts.)\n",
    "\n",
    "**Problem Statement**\n",
    "\n",
    "Plot the following data with time on the horizontal axis, and pressure on the vertical axis.\n",
    "Use red circles as the marker. \n",
    "Create and plot a data model using a blue curve for the model.\n",
    "Use the data model to estimate the pressure at 3 minutes.\n",
    "\n",
    " \n",
    "|Time/min |Pressure/mmHg|\n",
    "|---|---|\n",
    "|0.0 |7.5 |\n",
    "|2.5 |10.5 |\n",
    "|5.0 |12.5 |\n",
    "|10 |15.8 |\n",
    "|15.0 |17.9| \n",
    "|20.0 |19.4|\n",
    "\n",
    "**Deliverables**\n",
    "\n",
    "1. Script to generate observed data and plots\n",
    "2. Plot of pressure vs. time with\n",
    " - Axis labels and units\n",
    " - Plot title\n",
    " - Correct marker type and color as per specifications\n",
    "3. Script to generate data model (interpolating polynomial, or power-law,logarithmic,exponential, or polynomial functional form)\n",
    "4. Plot of the data model of pressure vs. time on same chart as 1. above with\n",
    " - Correct line type and color\n",
    " - Legend to identify the two plotted series.\n",
    "5. Estimated pressure at 3 minutes using the data model.  \n",
    "\n"
   ]
  },
  {
   "cell_type": "code",
   "execution_count": 55,
   "metadata": {},
   "outputs": [],
   "source": [
    "# code here"
   ]
  },
  {
   "cell_type": "markdown",
   "metadata": {},
   "source": [
    "---\n",
    "\n",
    "## Problem 3. Data modeling to set production goals (15 pts.)\n",
    "\n",
    "**Problem Statement**\n",
    "\n",
    "The revenue and cost of operating from a small Beverly Hills auto bumper gold-plating company was collected over some time. Plot the cost, revenue, and profit( = revenue - cost) vs. number of bumpers plated.  Plot the cost data using circular markers, revenue using square markers, and profit using triangular markers.\n",
    "\n",
    "Build a data model of the cost, revenue, and profit.  \n",
    "Use the data model to predict the number of units to plate to:\n",
    "\n",
    "- Minimize cost\n",
    "- Maximize profit\n",
    "\n",
    " \n",
    "|Bumpers Plated|Cost(Dollars)|Revenue(Dollars)|\n",
    "|---|---|---|\n",
    "| 0 |432 |0|\n",
    "| 1 |426 |500|\n",
    "| 3 |396 |1500|\n",
    "| 4 |384 |2000|\n",
    "| 9 |594 |4500| \n",
    "|13 |1446|6500|\n",
    "\n",
    "\n",
    "\n",
    "**Deliverables**\n",
    "\n",
    "1. Script to generate observed data and plots of cost, revenue, and profit\n",
    "2. Plot of cost,revenue, and profit vs. units plated with\n",
    " - Axis labels and units\n",
    " - Plot title\n",
    " - Correct marker type as per specifications\n",
    "3. Script to generate data model(s) (power-law, logarithmic, exponential, or polynomial functional form)\n",
    "4. Analysis using the data model you choose\n",
    " - Best \"fit\" using trial-and-error\n",
    " - Report sum of squared residuals\n",
    "5. Plot of the data model of cost vs. units plated, revenue vs. units plated, and profit vs. units plated on same chart as 2. above with\n",
    " - Correct line type and color (cost = red, revenue = blue, profit = green)\n",
    " - Legend to identify the plotted series.\n",
    "6. Recomended production rate to maximize profit.  "
   ]
  },
  {
   "cell_type": "code",
   "execution_count": null,
   "metadata": {},
   "outputs": [],
   "source": [
    "# code here"
   ]
  },
  {
   "cell_type": "markdown",
   "metadata": {},
   "source": [
    "___\n",
    "## Problem 4. (40 pts): On \"Bottled Poetry\" ...\n",
    "\n",
    "<img src=\"https://w7w5t4b3.rocketcdn.me/wp-content/uploads/2016/04/game-of-thonres-tyrion-lannister-i-drink-and-i-know-things.jpg\" width=\"500\"> \n",
    "\n",
    "\n",
    "The \"winequality-red.csv\" and  \"winequality-white.csv\" datasets provide information related to red and white variants of vinho verde wine samples, from the north of Portugal. The goal is to model wine quality based on physicochemical tests. Follow the steps and answer the question. *Due to privacy and logistic issues, only physicochemical (inputs) and sensory (the output) variables are available (e.g. there is no data about grape types, wine brand, wine selling price, etc.).* \n",
    "\n",
    "\n",
    "#### The datasets consists of several Input variables (based on physicochemical tests). \n",
    "\n",
    "|Columns|Info.|\n",
    "|---:|---:|\n",
    "|fixed acidity |most acids involved with wine or fixed or nonvolatile (do not evaporate readily)|\n",
    "|volatile acidity |the amount of acetic acid in wine, which at too high of levels can lead to an unpleasant, vinegar taste|\n",
    "|citric acid |found in small quantities, citric acid can add 'freshness' and flavor to wines|\n",
    "|residual sugar |the amount of sugar remaining after fermentation stops, it's rare to find wines with less than 1 gram/liter|\n",
    "|chlorides |the amount of salt in the wine|\n",
    "|free sulfur dioxide |the free form of SO2 exists in equilibrium between molecular SO2 (as a dissolved gas) and bisulfite ion|\n",
    "|total sulfur dioxide |amount of free and bound forms of S02; in low concentrations, SO2 is mostly undetectable in wine| \n",
    "|density |the density of water is close to that of water depending on the percent alcohol and sugar content|\n",
    "|pH |describes how acidic or basic a wine is on a scale from 0 (very acidic) to 14 (very basic); most wines are between 3-4|\n",
    "|sulphates |a wine additive which can contribute to sulfur dioxide gas (S02) levels, wich acts as an antimicrobial|\n",
    "|alcohol |the percent alcohol content of the wine|\n",
    "|quality (score between 0 and 10) |output variable (based on sensory data, score between 0 and 10)|\n",
    "\n",
    "\n",
    "\n",
    "**References:**\n",
    "\n",
    "P. Cortez, A. Cerdeira, F. Almeida, T. Matos and J. Reis. Modeling wine preferences by data mining from physicochemical properties. In Decision Support Systems, Elsevier, 47(4):547-553, 2009. [https://www.sciencedirect.com/science/article/pii/S0167923609001377?via%3Dihub](https://www.sciencedirect.com/science/article/pii/S0167923609001377?via%3Dihub)\n",
    "\n",
    "<!--\n",
    "https://archive.ics.uci.edu/ml/machine-learning-databases/wine-quality/winequality-red.csv\n",
    "\n",
    "https://archive.ics.uci.edu/ml/machine-learning-databases/wine-quality/winequality-red.csv\n",
    "\n",
    "https://archive.ics.uci.edu/ml/machine-learning-databases/wine-quality/winequality-red.csv\n",
    "-->\n",
    "\n",
    "Download the red-variety dataset from [https://archive.ics.uci.edu/ml/machine-learning-databases/wine-quality/winequality-red.csv](https://archive.ics.uci.edu/ml/machine-learning-databases/wine-quality/winequality-red.csv) using the script below:\n",
    "\n",
    "**If you get an error, then download using your browser and mouse**"
   ]
  },
  {
   "cell_type": "code",
   "execution_count": null,
   "metadata": {},
   "outputs": [],
   "source": [
    "######### CODE TO AUTOMATICALLY DOWNLOAD THE DATABASE ################\n",
    "#! pip install requests #install packages into local environment\n",
    "import requests # import needed modules to interact with the internet\n",
    "# make the connection to the remote file (actually its implementing \"bash curl -O http://fqdn/path ...\")\n",
    "remote_url = 'https://archive.ics.uci.edu/ml/machine-learning-databases/wine-quality/winequality-red.csv' # a csv file\n",
    "response = requests.get(remote_url) # Gets the file contents puts into an object\n",
    "output = open('winequality-red.csv', 'wb') # Prepare a destination, local\n",
    "output.write(response.content) # write contents of object to named local file\n",
    "output.close() # close the connection"
   ]
  },
  {
   "cell_type": "markdown",
   "metadata": {},
   "source": [
    "1.  Read the data as a data frame and print the first few rows. In a few lines explain what can be understood about the data from this.\n",
    "2.  Use the appropriate function and get a summary of information on the data frame. Explain what you can learn from this summary report.\n",
    "3.  Are there any missing values in the data? Justify your answer. \n",
    "4.  Use the appropriate function and get the 5-number summary for the data frame. Explain what you can learn from this summary report for each column.\n",
    "5.  Rename the \"quality (score _0to10)\" column heading to \"quality\"\n",
    "6.  Make a subset of all the wines with a quality above 7. Name this subset \"TopQ\".\n",
    "7. What percentage of wines in \"TopQ\" has an alcohol content less than 10%? What is this percentage out of the entire set of wine (the original data)?\n",
    "8. Print the above subset of the dataframe, sorted by wine quality. \n",
    "9. Define a function that labels the wines based on their quality according to the table below: <br>\n",
    "\n",
    "|Quality Score|Label.|\n",
    "|---:|---:|\n",
    "|q>= 7|Top|\n",
    "|5<q<7|Average|\n",
    "|q<=5|Low|\n",
    "\n",
    "10. Apply the function on the data frame and store the result in a new column \"Qlabel\".\n",
    "11. Report the share of each quality label in percentage.\n",
    "12. Plot a histogram of pH for all the Low quality wines. Explain what you can infer from this plot.\n",
    "13. Make a similar histogram for pH for all the Top quality wines. Put the new histogram and the previous one next to each other and explain what you can infer by comparing them."
   ]
  },
  {
   "cell_type": "code",
   "execution_count": null,
   "metadata": {},
   "outputs": [],
   "source": [
    "# Put your code here - start with scaffolding and back-fill code\n",
    "# Read the data as a data frame and print the first few rows. \n",
    "# Summary of information on the data frame. \n",
    "# Are there any missing values in the data? \n",
    "# ... put rest of scaffolding here\n",
    "# ...\n",
    "# ...\n",
    "# Make a similar histogram for pH for all the Top quality wines. \n",
    "# ..."
   ]
  },
  {
   "cell_type": "markdown",
   "metadata": {},
   "source": [
    "**Deliverables**\n",
    "1. Script to read datafile and process as directed above\n",
    "2. Function to generate wine quality label classifications as directed above.\n",
    "3. Analysis using the function\n",
    "4. Histograms (side-by-side) of low quality and high quality wines, as classified above.\n",
    " - Axis labels and units\n",
    " - Plot title\n",
    " - Suitable bin count"
   ]
  },
  {
   "cell_type": "markdown",
   "metadata": {},
   "source": [
    "___\n",
    "# Problem 5 (15 pts): To cause or to correlate; that is the question!\n",
    "\n",
    "<img src=\"https://aspectmr.com/wp-content/uploads/2019/11/chicken_makes_you_go_to_the_moon.jpg\" align=\"right\" width=\"300\">\n",
    "\n",
    "\n",
    "1. What is the message behind the above image in relation to causation and correlation?\n",
    "2. Why is it important to understand the difference between causation and correlation? \n",
    "3. Using your wine database, assume that the quality score can be treated as a continuous $~~~$  <br> variable (a *float*).  Determine the Pearson's correlation coefficient between pH and the quality score.  \n",
    "4. What do you conclude from the correlation?"
   ]
  },
  {
   "cell_type": "code",
   "execution_count": null,
   "metadata": {},
   "outputs": [],
   "source": [
    "# code here - correlation analysis"
   ]
  },
  {
   "cell_type": "markdown",
   "metadata": {},
   "source": [
    "**Deliverables**\n",
    "1. Answers to questions 1 and 2 above.\n",
    "2. Working correlation analysis script on appropriate dataframe elements\n",
    "3. Scatterplot of quality score (y-axis) versus pH (x-axis)\n",
    " - Axis labels and units\n",
    " - Plot title \n",
    "4. Conclusion (answer to last question above)"
   ]
  },
  {
   "cell_type": "markdown",
   "metadata": {},
   "source": [
    "---\n",
    "___\n",
    "\n",
    "## <font color=green>Bonus Problem (10 points)</font>\n",
    "\n",
    "Repeat Problem 4 using the white wine database. Download the white-variety dataset from [https://archive.ics.uci.edu/ml/machine-learning-databases/wine-quality/winequality-white.csv](https://archive.ics.uci.edu/ml/machine-learning-databases/wine-quality/winequality-white.csv) \n",
    "\n",
    "Is there evidence that pH is a predictor of wine quality?"
   ]
  },
  {
   "cell_type": "code",
   "execution_count": null,
   "metadata": {},
   "outputs": [],
   "source": [
    "# code here"
   ]
  },
  {
   "cell_type": "markdown",
   "metadata": {},
   "source": [
    "---\n",
    "___\n",
    "\n",
    "## <font color=blue>Bonus Problem (20 points)</font>\n",
    "\n",
    "Consider the polynomial data model below: \n",
    "\n",
    "> Polynomial Model: $y_{model} = \\beta_0 + \\beta_1 x_{obs} + \\beta_2 x_{obs}^2 + ... + \\beta_n x_{obs}^n$ <br>\n",
    "<!--Logarithmic Model: $y_{model} = \\beta_0 + \\beta_1 log(x_{obs}) $<br>\n",
    "Power-Law Model: $y_{model} = \\beta_0 x_{obs}^{\\beta_1} $ <br>\n",
    "Exponential Model: $y_{model} = \\beta_0 e^{{\\beta_1}x_{obs}} $ -->\n",
    "\n",
    "One way to \"fit\" this model to data is to construct a design matrix $X$ comprised of $x_{obs}$ and ones (1). Then construct a linear system related to this design matrix.\n",
    "\n",
    "The data model as a linear system is:\n",
    "\n",
    "$$\\begin{gather}\n",
    "\\mathbf{X} \\cdot \\mathbf{\\beta} = \\mathbf{Y}\n",
    "\\end{gather}$$\n",
    "\n",
    "For example using the Polynomial Model (order 2 for brevity, but extendable as justified)\n",
    "\n",
    "\\begin{gather}\n",
    "\\mathbf{X}=\n",
    "\\begin{pmatrix}\n",
    "1 & x_1 & x_1^2\\\\\n",
    "~\\\\\n",
    "1 & x_2 & x_2^2\\\\\n",
    "~ \\\\\n",
    "1 & x_3 & x_3^2\\\\\n",
    "\\dots & \\dots & \\dots \\\\\n",
    "1 & x_n & x_n^2\\\\\n",
    "\\end{pmatrix}\n",
    "\\end{gather}\n",
    "\n",
    "\\begin{gather}\n",
    "\\mathbf{\\beta}=\n",
    "\\begin{pmatrix}\n",
    "\\beta_0 \\\\\n",
    "~\\\\\n",
    "\\beta_1 \\\\\n",
    "~ \\\\\n",
    "\\beta_2 \\\\\n",
    "\\end{pmatrix}\n",
    "\\end{gather}\n",
    "\n",
    "\\begin{gather}\n",
    "\\mathbf{Y}=\n",
    "\\begin{pmatrix}\n",
    "y_1 \\\\\n",
    "~\\\\\n",
    "y_2 \\\\\n",
    "~ \\\\\n",
    "y_3 \\\\\n",
    "\\dots  \\\\\n",
    "y_n \\\\\n",
    "\\end{pmatrix}\n",
    "\\end{gather}\n",
    "\n",
    "To find the unknown $\\beta$ values the solution of the linear system below provides a \"best linear unbiased estimator (BLUE)\" fit\n",
    "\n",
    "$$\\begin{gather}\n",
    "[\\mathbf{X^T}\\mathbf{X}] \\cdot \\mathbf{\\beta} = [\\mathbf{X^T}]\\mathbf{Y}\n",
    "\\end{gather}$$\n",
    "\n",
    "or an alternative expression is\n",
    "\n",
    "$$\\begin{gather}\n",
    "\\mathbf{\\beta} = [\\mathbf{X^T}\\mathbf{X}]^{-1}[\\mathbf{X^T}]\\mathbf{Y}\n",
    "\\end{gather}$$\n",
    "\n",
    "Once the values for $\\beta$ are obtained then we can apply our plotting tools and use the model to extrapolate and interpolate.  Most of the arithmetic can be accomplished using numpy as in Lesson 9.\n",
    "\n",
    "Consider the data collected during the boost-phase of a ballistic missle.  The maximum speed of a solid-fueled missle at burn-out (when the boost-phase ends) is about 7km/s. Using this knowledge and the early-time telemetry below; fit a data model using the linear system approach above. \n",
    "\n",
    "|Elapsed Time (s)|Speed (m/s)|\n",
    "|---:|---:|\n",
    "|0 |0|\n",
    "|1.0 |3|\n",
    "|2.0 |7.4|\n",
    "|3.0 |16.2|\n",
    "|4.0 |23.5|\n",
    "|5.0 |32.2|\n",
    "|6.0 | 42.2| \n",
    "|7.0 | 65.1 |\n",
    "|8.0 | 73.5 |\n",
    "|9.0 | 99.3 |\n",
    "|10.0| 123.4|\n",
    "\n",
    "Use the model to estimate boost phase burn-out time.  Plot the model and data on the same axis to demonstrate the quality of the fit."
   ]
  },
  {
   "cell_type": "code",
   "execution_count": null,
   "metadata": {},
   "outputs": [],
   "source": [
    "# code here"
   ]
  }
 ],
 "metadata": {
  "kernelspec": {
   "display_name": "Python 3",
   "language": "python",
   "name": "python3"
  },
  "language_info": {
   "codemirror_mode": {
    "name": "ipython",
    "version": 3
   },
   "file_extension": ".py",
   "mimetype": "text/x-python",
   "name": "python",
   "nbconvert_exporter": "python",
   "pygments_lexer": "ipython3",
   "version": "3.8.10"
  }
 },
 "nbformat": 4,
 "nbformat_minor": 4
}
