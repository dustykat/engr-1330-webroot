{
 "cells": [
  {
   "cell_type": "markdown",
   "metadata": {},
   "source": [
    "# <font color=darkblue>ENGR 1330-2022 Exam 2-Laboratory Portion  </font>\n",
    "\n",
    "**LAST NAME, FIRST NAME**\n",
    "\n",
    "**R00000000**\n",
    "\n",
    "ENGR 1330 Exam 2 - Laboratory/Programming Skills\n",
    "\n",
    "---\n",
    "\n",
    "**Download** (right-click, save target as ...) this page as a jupyterlab notebook from: [s22-ex1-deploy.ipynb](http://54.243.252.9/engr-1330-webroot/5-ExamProblems/Exam1/Exam1/spring2022/s22-ex1-deploy.ipynb)\n",
    "\n",
    "**If you are unable to download the file, create an empty notebook and copy paste the problems into Markdown cells and Code cells (problem-by-problem)**\n",
    "\n"
   ]
  },
  {
   "cell_type": "markdown",
   "metadata": {},
   "source": [
    "---\n",
    "\n",
    "## Problem 0 (5 pts) : <font color = 'magenta'>*Profile your computer*</font>\n",
    "\n",
    "Execute the code cell below exactly as written.  If you get an error just continue to the remaining problems."
   ]
  },
  {
   "cell_type": "code",
   "execution_count": 1,
   "metadata": {},
   "outputs": [
    {
     "name": "stdout",
     "output_type": "stream",
     "text": [
      "DESKTOP-C80A038\n",
      "desktop-c80a038\\jbd\n",
      "C:\\Users\\JBD\\anaconda3\\python.exe\n",
      "3.8.3 (default, Jul  2 2020, 17:30:36) [MSC v.1916 64 bit (AMD64)]\n",
      "sys.version_info(major=3, minor=8, micro=3, releaselevel='final', serial=0)\n"
     ]
    }
   ],
   "source": [
    "# Preamble script block to identify host, user, and kernel\n",
    "import sys\n",
    "! hostname\n",
    "! whoami\n",
    "print(sys.executable)\n",
    "print(sys.version)\n",
    "print(sys.version_info)"
   ]
  },
  {
   "cell_type": "markdown",
   "metadata": {},
   "source": [
    "---\n",
    "\n",
    "## Problem 1 NUMPY (10 points) : <font color = 'magenta'> *Show me the money!* </font>\n",
    "\n",
    "Assume that you have access to 900,000 bank accounts belonging to other people. All of these account balances start with \\\\$101.23 USD in them. The interest rate for all the accounts is 5%, compounded daily. [Daily compounding](https://www.eduworks.com/Documents/Workshops/EdMedia1998/class/compound.htm) generally means that the stated annual rate is applied daily (also: [Daily compounding](https://www.cuemath.com/daily-compound-interest-formula/)) $\\frac{5\\%}{365}=0.01369\\%$ per day. \n",
    "The interest is added to the balance of each account, with the exception of the fractions of cents (anything past the third decimal place) that are truncated (dropped). \n",
    "\n",
    "Let's pretend we are online robbers and we want to write some code to skim the excesss interest and place it into our own account. We are going to illegally skim the fractions that get truncated (dropped) out of the other people's accounts evertime their interest is calculated, and add the truncated amounts into our own account. Our account will begin with $0 but grow by the day.\n",
    "\n",
    "Execute the code block below to create the accounts"
   ]
  },
  {
   "cell_type": "code",
   "execution_count": 35,
   "metadata": {},
   "outputs": [],
   "source": [
    "import numpy as np\n",
    "# create the accounts\n",
    "accounts = np.array([101.23 for i in range(900000)])"
   ]
  },
  {
   "cell_type": "markdown",
   "metadata": {},
   "source": [
    "The daily interest is simply the product of the daily compounding rate and the account value\n",
    "\n",
    "$ P_{n+1} = P_{n} + i*P_{n}$  in this problem the result $i*P_{n}$ is only reported to the penny, any smaller part of the value is skimmed into the illegal bitcoin account.\n",
    "\n",
    "A function that performs the computations is shown below"
   ]
  },
  {
   "cell_type": "code",
   "execution_count": 36,
   "metadata": {},
   "outputs": [],
   "source": [
    "# execute this code block to prototype the function\n",
    "def add_interest(current_value,daily_rate):\n",
    "    compounding_amount = current_value*daily_rate      # compute compounding amount.\n",
    "    whole_dollar_ammount = current_value*daily_rate//1 # compute compounding amount whole dollar portion\n",
    "    fractional_dollar_amount = compounding_amount - whole_dollar_ammount # compute compounding amount fractional dollar portion\n",
    "    pennies = fractional_dollar_amount*100//1  # compute portion of fraction that are pennies\n",
    "    skim = fractional_dollar_amount - pennies/100 \n",
    "    output=(whole_dollar_ammount+pennies/100,skim) # return a tuple of interest to add, and amount to skim\n",
    "    return(output) "
   ]
  },
  {
   "cell_type": "markdown",
   "metadata": {},
   "source": [
    "Implement the steps necessary to increase each of the 900,000 accounts by (5/365)% per day, truncate the accounts to the nearest penny, and add the truncated amount into a seperate account titled “bitcoin”\n",
    "    \n",
    "Using a repetition structure determine the abount in the bitcoin account after 1 day, 10 days and 100 days of stealing."
   ]
  },
  {
   "cell_type": "code",
   "execution_count": 1,
   "metadata": {},
   "outputs": [],
   "source": [
    "# complete the script in this block, supply indicated code to compute the steal\n",
    "# generate the bitcoin account\n",
    "bitcoin = 0\n",
    "days = 0\n",
    "# compute daily addition to each account, sweep fractional portion into bitcoin\n",
    "# report bitcoin amount on the 1st, 10th and 100th days since steal begin\n",
    "# stop when have a million dollars"
   ]
  },
  {
   "cell_type": "markdown",
   "metadata": {},
   "source": []
  },
  {
   "cell_type": "markdown",
   "metadata": {},
   "source": [
    "## Problem 2 (5 pts) : <font color = 'magenta'>*Get the data files*</font>\n"
   ]
  },
  {
   "cell_type": "code",
   "execution_count": null,
   "metadata": {},
   "outputs": [],
   "source": [
    "######### CODE TO AUTOMATICALLY DOWNLOAD THE DATABASE ################\n",
    "import requests # import needed modules to interact with the internet\n",
    "# make the connection to the remote file (actually its implementing \"bash curl -O http://fqdn/path ...\")\n",
    "remote_url = 'http://54.243.252.9/engr-1330-webroot/8-Labs/Lab15/galton_subset.csv' # a csv file\n",
    "response = requests.get(remote_url) # Gets the file contents puts into an object\n",
    "output = open('galton_subset.csv', 'wb') # Prepare a destination, local\n",
    "output.write(response.content) # write contents of object to named local file\n",
    "output.close() # close the connection"
   ]
  },
  {
   "cell_type": "markdown",
   "metadata": {},
   "source": [
    "---\n",
    "\n",
    "## Problem 3: Dataframe read/organize (10 pts): <font color = 'magenta'>*read file into a dataframe, rename columns, show a few rows of the dataframe*</font>\n",
    "\n",
    "Read the `galton_subset.csv` into a dataframe.  Name/rename the columns to **\"Father\",\"Mother\",\"Child\"**.  Display the first 9 rows of the dataframe."
   ]
  },
  {
   "cell_type": "code",
   "execution_count": 1,
   "metadata": {},
   "outputs": [],
   "source": [
    "# import necessary packages\n",
    "# read the csv file into a dataframe\n",
    "# rename son to child\n",
    "# show dataframe head"
   ]
  },
  {
   "cell_type": "markdown",
   "metadata": {},
   "source": [
    "---\n",
    "\n",
    "## Problem 4 Dataframe analyze/summarize (10 pts): <font color = 'magenta'>*find mean values, father, mother, child*</font>\n",
    "\n",
    "Using the dataframe from the previous problem, find the average height of **\"Father\",\"Mother\",\"Child\"** columns (series) and the standard deviation of these columns.\n",
    "\n",
    "On average which category is taller (father, mother, child)?"
   ]
  },
  {
   "cell_type": "code",
   "execution_count": 2,
   "metadata": {},
   "outputs": [],
   "source": [
    "# query dataframe by each series\n",
    "# print average height and standard deviation"
   ]
  },
  {
   "cell_type": "code",
   "execution_count": 3,
   "metadata": {},
   "outputs": [],
   "source": [
    "# who is taller?"
   ]
  },
  {
   "cell_type": "markdown",
   "metadata": {},
   "source": [
    "---\n",
    "\n",
    "## Problem 5 Dataframe Histograms (10 points) : <font color = 'magenta'> *histograms; df['...'].hist(alpha=0.5,color='...') OR using subplots* </font>\n",
    "Using the dataframe from the Problem 4, produce a histogram of fathers and a histogram of mothers on the same plot.  Do the histograms suggest that one group is shorter than the other? "
   ]
  },
  {
   "cell_type": "code",
   "execution_count": 23,
   "metadata": {},
   "outputs": [],
   "source": [
    "# build histograms df['...'].hist(alpha=0.5,color='...') of father and mother\n",
    "# show the plot same figure"
   ]
  },
  {
   "cell_type": "code",
   "execution_count": null,
   "metadata": {},
   "outputs": [],
   "source": [
    "# who is shorter?"
   ]
  }
 ],
 "metadata": {
  "kernelspec": {
   "display_name": "Python 3",
   "language": "python",
   "name": "python3"
  },
  "language_info": {
   "codemirror_mode": {
    "name": "ipython",
    "version": 3
   },
   "file_extension": ".py",
   "mimetype": "text/x-python",
   "name": "python",
   "nbconvert_exporter": "python",
   "pygments_lexer": "ipython3",
   "version": "3.8.3"
  }
 },
 "nbformat": 4,
 "nbformat_minor": 4
}
