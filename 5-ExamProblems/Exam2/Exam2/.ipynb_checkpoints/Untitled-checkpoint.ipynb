{
 "cells": [
  {
   "cell_type": "markdown",
   "metadata": {},
   "source": [
    "**Problem Statement**\n",
    "\n",
    "Plot the following data with time on the horizontal axis, and pressure on the vertical axis.\n",
    "Use red circles as the marker. \n",
    "Create and plot a data model using a blue curve for the model.\n",
    "Use the data model to estimate the pressure at 3 minutes.\n",
    "\n",
    " \n",
    "|Time/min |Pressure/mmHg|\n",
    "|---|---|\n",
    "|0.0 |7.5 |\n",
    "|2.5 |10.5 |\n",
    "|5.0 |12.5 |\n",
    "|10 |15.8 |\n",
    "|15.0 |17.9| \n",
    "|20.0 |19.4|\n",
    "\n",
    "**Deliverables**\n",
    "\n",
    "1. Script to generate observed data and plots\n",
    "2. Plot of pressure vs. time with\n",
    " - Axis labels and units\n",
    " - Plot title\n",
    " - Correct marker type and color as per specifications\n",
    "3. Script to generate data model (interpolating polynomial, or power-law,logarithmic,exponential, or polynomial functional form)\n",
    "4. Plot of the data model of pressure vs. time on same chart as 1. above with\n",
    " - Correct line type and color\n",
    " - Legend to identify the two plotted series.\n",
    "5. Estimated pressure at 3 minutes using the data model.  \n",
    "\n"
   ]
  },
  {
   "cell_type": "code",
   "execution_count": null,
   "metadata": {},
   "outputs": [],
   "source": []
  }
 ],
 "metadata": {
  "kernelspec": {
   "display_name": "Python 3",
   "language": "python",
   "name": "python3"
  },
  "language_info": {
   "codemirror_mode": {
    "name": "ipython",
    "version": 3
   },
   "file_extension": ".py",
   "mimetype": "text/x-python",
   "name": "python",
   "nbconvert_exporter": "python",
   "pygments_lexer": "ipython3",
   "version": "3.8.10"
  }
 },
 "nbformat": 4,
 "nbformat_minor": 4
}
