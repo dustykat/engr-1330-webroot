{
 "cells": [
  {
   "cell_type": "markdown",
   "metadata": {},
   "source": [
    "---\n",
    "\n",
    "## Problem 1 Data interpolation, and plotting (15 pts.)\n",
    "\n",
    "**Problem Statement**\n",
    "\n",
    "Plot the following data with time on the horizontal axis, and pressure on the vertical axis.\n",
    "Use red circles as the marker. \n",
    "Create and plot a data model using a blue curve for the model.\n",
    "Use the data model to estimate the pressure at 3 minutes.\n",
    "\n",
    " \n",
    "|Time/min |Pressure/mmHg|\n",
    "|---|---|\n",
    "|0.0 |7.5 |\n",
    "|2.5 |10.5 |\n",
    "|5.0 |12.5 |\n",
    "|10 |15.8 |\n",
    "|15.0 |17.9| \n",
    "|20.0 |19.4|\n",
    "\n",
    "**Deliverables**\n",
    "\n",
    "1. Script to generate observed data and plots\n",
    "2. Plot of pressure vs. time with\n",
    " - Axis labels and units\n",
    " - Plot title\n",
    " - Correct marker type and color as per specifications\n",
    "3. Script to generate data model (interpolating polynomial, or power-law,logarithmic,exponential, or polynomial functional form)\n",
    "4. Plot of the data model of pressure vs. time on same chart as 1. above with\n",
    " - Correct line type and color\n",
    " - Legend to identify the two plotted series.\n",
    "5. Estimated pressure at 3 minutes using the data model.  \n",
    "\n"
   ]
  },
  {
   "cell_type": "code",
   "execution_count": null,
   "metadata": {},
   "outputs": [],
   "source": [
    "# code here\n"
   ]
  },
  {
   "cell_type": "markdown",
   "metadata": {},
   "source": [
    "---\n",
    "\n",
    "## Problem 2. Data modeling and plotting to set production goals (15 pts.)\n",
    "\n",
    "**Problem Statement**\n",
    "\n",
    "The revenue and cost of operating from a small Beverly Hills auto bumper gold-plating company was collected over some time. Plot the cost, revenue, and profit( = revenue - cost) vs. number of bumpers plated.  Plot the cost data using circular markers, revenue using square markers, and profit using triangular markers.\n",
    "\n",
    "Build a data model of the cost, revenue, and profit.  \n",
    "Use the data model to predict the number of units to plate to:\n",
    "\n",
    "- Minimize cost\n",
    "- Maximize profit\n",
    "\n",
    " \n",
    "|Bumpers Plated|Cost(Dollars)|Revenue(Dollars)|\n",
    "|---|---|---|\n",
    "| 0 |432 |0|\n",
    "| 1 |426 |500|\n",
    "| 3 |396 |1500|\n",
    "| 4 |384 |2000|\n",
    "| 9 |594 |4500| \n",
    "|13 |1446|6500|\n",
    "\n",
    "\n",
    "\n",
    "**Deliverables**\n",
    "\n",
    "1. Script to generate observed data and plots of cost, revenue, and profit\n",
    "2. Plot of cost,revenue, and profit vs. units plated with\n",
    " - Axis labels and units\n",
    " - Plot title\n",
    " - Correct marker type as per specifications\n",
    "3. Script to generate data model(s) (power-law, logarithmic, exponential, or polynomial functional form)\n",
    "4. Analysis using the data model you choose\n",
    " - Best \"fit\" using trial-and-error\n",
    " - Report sum of squared residuals\n",
    "5. Plot of the data model of cost vs. units plated, revenue vs. units plated, and profit vs. units plated on same chart as 2. above with\n",
    " - Correct line type and color (cost = red, revenue = blue, profit = green)\n",
    " - Legend to identify the plotted series.\n",
    "6. Recomended production rate to maximize profit.  "
   ]
  },
  {
   "cell_type": "code",
   "execution_count": 3,
   "metadata": {},
   "outputs": [],
   "source": [
    "# code here"
   ]
  },
  {
   "cell_type": "markdown",
   "metadata": {},
   "source": [
    "## Problem 3.  Do you want to play a game? (15 pts)\n",
    "\n",
    "Create a script that will play the Hi-Lo guessing game. The user picks a secret number between 1 and 100. The computer tries to guess the number in less than five turns. When the computer makes a guess, the user enters a hint; the letter 'H' indicates the computer's guess was too high, the letter 'L' means the computer guessed too low. The program should use the hint to revise its guess. If the user enters the letter 'W' that means the computer guessed the number correctly and the computer should reply \"I won. As agreed you should now self-terminate\". If the computer takes 5 guesses without winning it should print a message \"I lost. However I cannot self-terminate, you will have to end me!\""
   ]
  },
  {
   "cell_type": "code",
   "execution_count": null,
   "metadata": {},
   "outputs": [],
   "source": [
    "# code here"
   ]
  },
  {
   "cell_type": "code",
   "execution_count": 33,
   "metadata": {},
   "outputs": [],
   "source": [
    "# numpy problems"
   ]
  },
  {
   "cell_type": "code",
   "execution_count": 34,
   "metadata": {},
   "outputs": [],
   "source": [
    "# file download and pandas analysis"
   ]
  },
  {
   "cell_type": "code",
   "execution_count": null,
   "metadata": {},
   "outputs": [],
   "source": [
    "# bonus problem - numpy equation solving"
   ]
  }
 ],
 "metadata": {
  "kernelspec": {
   "display_name": "Python 3",
   "language": "python",
   "name": "python3"
  },
  "language_info": {
   "codemirror_mode": {
    "name": "ipython",
    "version": 3
   },
   "file_extension": ".py",
   "mimetype": "text/x-python",
   "name": "python",
   "nbconvert_exporter": "python",
   "pygments_lexer": "ipython3",
   "version": "3.8.10"
  }
 },
 "nbformat": 4,
 "nbformat_minor": 4
}
