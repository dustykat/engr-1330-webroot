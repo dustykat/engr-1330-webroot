{
 "cells": [
  {
   "cell_type": "code",
   "execution_count": 47,
   "metadata": {},
   "outputs": [
    {
     "data": {
      "text/html": [
       "<!--Script block to left align Markdown Tables-->\n",
       "<style>\n",
       "  table {margin-left: 0 !important;}\n",
       "</style>\n"
      ],
      "text/plain": [
       "<IPython.core.display.HTML object>"
      ]
     },
     "metadata": {},
     "output_type": "display_data"
    }
   ],
   "source": [
    "%%html\n",
    "<!--Script block to left align Markdown Tables-->\n",
    "<style>\n",
    "  table {margin-left: 0 !important;}\n",
    "</style>"
   ]
  },
  {
   "cell_type": "markdown",
   "metadata": {},
   "source": [
    "## Full name: \n",
    "## R#: \n",
    "## HEX: \n",
    "## Exam 2 Take-Home_{your name}\n",
    "## Date: "
   ]
  },
  {
   "cell_type": "markdown",
   "metadata": {},
   "source": [
    "# Problem 0.0 (1 pts.)\n",
    "Run the cell below as-is!"
   ]
  },
  {
   "cell_type": "code",
   "execution_count": 48,
   "metadata": {},
   "outputs": [
    {
     "name": "stdout",
     "output_type": "stream",
     "text": [
      "atomickitty.aws\n",
      "compthink\n",
      "/opt/conda/envs/python/bin/python\n",
      "/home/compthink/CECE-1330-PsuedoCourse/5-ExamProblems/Exam2\n"
     ]
    }
   ],
   "source": [
    "# Preamble script block to identify host, user, and kernel\n",
    "import sys\n",
    "! hostname\n",
    "! whoami\n",
    "print(sys.executable)\n",
    "#print(sys.version)\n",
    "#print(sys.version_info)\n",
    "! pwd"
   ]
  },
  {
   "cell_type": "markdown",
   "metadata": {},
   "source": [
    "# Problem 1 (5 pts)\n",
    "The table below contains some experimental observations.\n",
    "\n",
    "|Elapsed Time (s)|Speed (m/s)|\n",
    "|---:|---:|\n",
    "|0 |0|\n",
    "|1.0 |3|\n",
    "|2.0 |7|\n",
    "|3.0 |12|\n",
    "|4.0 |20|\n",
    "|5.0 |30|\n",
    "|6.0 | 45.6| \n",
    "|7.0 | 60.3 |\n",
    "|8.0 | 77.7 |\n",
    "|9.0 | 97.3 |\n",
    "|10.0| 121.1|\n",
    "\n",
    "1. Plot the speed vs time (speed on y-axis, time on x-axis) using a scatter plot.  Use blue markers. \n",
    "2. Plot a red line on the scatterplot based on the linear model $f(x) = mx + b$ \n",
    "3. By trial-and-error find values of $m$ and $b$ that provide a good visual fit (i.e. makes the red line explain the blue markers).\n",
    "4. Using this data model estimate the speed at $t = 15~\\texttt{sec.}$"
   ]
  },
  {
   "cell_type": "code",
   "execution_count": 10,
   "metadata": {},
   "outputs": [],
   "source": [
    "# Create two lists; time  and speed"
   ]
  },
  {
   "cell_type": "code",
   "execution_count": 11,
   "metadata": {},
   "outputs": [],
   "source": [
    "# Create a data model function\n",
    "# Create a model list - using same time list"
   ]
  },
  {
   "cell_type": "code",
   "execution_count": 12,
   "metadata": {},
   "outputs": [],
   "source": [
    "# Create a scatterplot chart of time and speed, overlay a line plot of time and modeled speed"
   ]
  },
  {
   "cell_type": "code",
   "execution_count": 13,
   "metadata": {},
   "outputs": [],
   "source": [
    "# Report best values m and b"
   ]
  },
  {
   "cell_type": "code",
   "execution_count": 14,
   "metadata": {},
   "outputs": [],
   "source": [
    "# Estimate speed@ t = 15 sec. using fitted model"
   ]
  },
  {
   "cell_type": "markdown",
   "metadata": {},
   "source": [
    "# Problem 2 (5 pts)\n",
    "Consider the script below, which crudely implements a simulation of Russian Roulette.\n",
    "How many times can you spin the cylinder and pull the trigger, before you fail?\n",
    "Play the game 10 times, record the pull count until failure.\n",
    "\n",
    "1. Create a list of pulls until failure for each of your 10 attempts, and make a histogram of the list.\n",
    "2. From your histogram, estimate the mean number of pulls until failure.\n",
    "\n",
    "In the movie `The Deer Hunter` https://en.wikipedia.org/wiki/The_Deer_Hunter the captured soldiers modify the Russian Roulette Game by using more than a single cartridge.  \n",
    "\n",
    "3. Modify the program to the number of cartridges in the movie (3) and play again 10 times, record your pulls to failure\n",
    "4. Make a second histogram of the `Deer Hunter` version of the game.\n",
    "5. From your histogram, estimate the mean number of pulls until failure under the `Deer Hunter` conditions."
   ]
  },
  {
   "cell_type": "code",
   "execution_count": 15,
   "metadata": {
    "jupyter": {
     "source_hidden": true
    }
   },
   "outputs": [
    {
     "name": "stdout",
     "output_type": "stream",
     "text": [
      "THIS IS A RUSSIAN ROULETTE PROGRAM. BEST PLAYED WHILE DRINKING VODKA.\n",
      "Press Enter to Spin the Cylinder & Test Your Courage\n"
     ]
    },
    {
     "name": "stdin",
     "output_type": "stream",
     "text": [
      " \n"
     ]
    },
    {
     "name": "stdout",
     "output_type": "stream",
     "text": [
      "[ CLICK! ]\n",
      "Pulls =  1 Type 'q' to quit\n"
     ]
    },
    {
     "name": "stdin",
     "output_type": "stream",
     "text": [
      " \n"
     ]
    },
    {
     "name": "stdout",
     "output_type": "stream",
     "text": [
      "Press Enter to Spin the Cylinder & Test Your Courage\n"
     ]
    },
    {
     "name": "stdin",
     "output_type": "stream",
     "text": [
      " \n"
     ]
    },
    {
     "name": "stdout",
     "output_type": "stream",
     "text": [
      "[ BANG!!!! ]\n",
      "[ So long ]\n",
      "[ Comrade. ]\n",
      "Pulls =  2\n"
     ]
    }
   ],
   "source": [
    "#RUSSIAN ROULETTE PROGRAM IN PYTHON:\n",
    "\n",
    "import random\n",
    "print('THIS IS A RUSSIAN ROULETTE PROGRAM. BEST PLAYED WHILE DRINKING VODKA.')\n",
    "leaveprogram=0\n",
    "triggerpulls = 0\n",
    "while leaveprogram != \"q\":\n",
    "    print(\"Press Enter to Spin the Cylinder & Test Your Courage\")\n",
    "    input()\n",
    "    number=random.randint (1, 6)\n",
    "    if number==1:\n",
    "        print(\"[ CLICK! ]\")\n",
    "        triggerpulls += 1\n",
    "        print(\"Pulls = \",triggerpulls, \"Type 'q' to quit\")\n",
    "        leaveprogram=input()\n",
    "    if number==2:\n",
    "        print(\"[ CLICK! ]\")\n",
    "        triggerpulls += 1\n",
    "        print(\"Pulls = \",triggerpulls, \"Type 'q' to quit\")\n",
    "        leaveprogram=input()\n",
    "    if number==3:\n",
    "        print(\"[ CLICK! ]\")\n",
    "        triggerpulls += 1\n",
    "        print(\"Pulls = \",triggerpulls, \"Type 'q' to quit\")\n",
    "        leaveprogram=input()\n",
    "    if number==4:\n",
    "        print(\"[ CLICK! ]\")\n",
    "        triggerpulls += 1\n",
    "        print(\"Pulls = \",triggerpulls, \"Type 'q' to quit\")\n",
    "        leaveprogram=input()\n",
    "    if number==5:\n",
    "        print(\"[ BANG!!!! ]\")\n",
    "        triggerpulls += 1\n",
    "        print(\"[ So long ]\")\n",
    "        print(\"[ Comrade. ]\")\n",
    "        print(\"Pulls = \",triggerpulls)\n",
    "        leaveprogram='q'\n",
    "    if number==6:\n",
    "        print(\"[ CLICK! ]\")\n",
    "        triggerpulls += 1\n",
    "        print(\"Pulls = \",triggerpulls, \"Type 'q' to quit\")\n",
    "        leaveprogram=input()\n",
    "        \n",
    "#"
   ]
  },
  {
   "cell_type": "code",
   "execution_count": 16,
   "metadata": {},
   "outputs": [],
   "source": [
    "# List of results"
   ]
  },
  {
   "cell_type": "code",
   "execution_count": 17,
   "metadata": {},
   "outputs": [],
   "source": [
    "# Histogram"
   ]
  },
  {
   "cell_type": "code",
   "execution_count": 18,
   "metadata": {},
   "outputs": [],
   "source": [
    "# Mean Pulls to Failure"
   ]
  },
  {
   "cell_type": "code",
   "execution_count": 19,
   "metadata": {},
   "outputs": [],
   "source": [
    "# Put Deer Hunter Version Here"
   ]
  },
  {
   "cell_type": "code",
   "execution_count": 20,
   "metadata": {},
   "outputs": [],
   "source": [
    "# List of results"
   ]
  },
  {
   "cell_type": "code",
   "execution_count": 21,
   "metadata": {},
   "outputs": [],
   "source": [
    "# Histogram"
   ]
  },
  {
   "cell_type": "code",
   "execution_count": 22,
   "metadata": {},
   "outputs": [],
   "source": [
    "# Mean Pulls to Failure"
   ]
  },
  {
   "cell_type": "markdown",
   "metadata": {},
   "source": [
    "# Problem 3 (10 points)\n",
    "The data below are the impact impact strength of packaging materials in foot-pounds of two branded boxes. Produce a histogram of the two series, and determine if there is evidence of a difference in mean strength between the two brands.  Use an appropriate hypothesis test to support your assertion at a level of significance of $\\alpha = 0.10$. \n",
    "\n",
    "| Amazon Branded Boxes | Walmart Branded Boxes |\n",
    "|:---|:---|\n",
    "| 1.25 | 0.89|\n",
    "| 1.16 | 1.01|\n",
    "| 1.33| 0.97|\n",
    "| 1.15| 0.95|\n",
    "| 1.23| 0.94|\n",
    "| 1.20| 1.02|\n",
    "| 1.32| 0.98|\n",
    "| 1.28| 1.06|\n",
    "| 1.21| 0.98|\n"
   ]
  },
  {
   "cell_type": "code",
   "execution_count": 23,
   "metadata": {},
   "outputs": [
    {
     "name": "stdout",
     "output_type": "stream",
     "text": [
      "         amazon    wallyw\n",
      "count  9.000000  9.000000\n",
      "mean   1.236667  0.977778\n",
      "std    0.064420  0.049441\n",
      "min    1.150000  0.890000\n",
      "25%    1.200000  0.950000\n",
      "50%    1.230000  0.980000\n",
      "75%    1.280000  1.010000\n",
      "max    1.330000  1.060000\n"
     ]
    },
    {
     "data": {
      "text/plain": [
       "<AxesSubplot:ylabel='Frequency'>"
      ]
     },
     "execution_count": 23,
     "metadata": {},
     "output_type": "execute_result"
    },
    {
     "data": {
      "image/png": "[encoded data removed]",
      "text/plain": [
       "<Figure size 432x288 with 1 Axes>"
      ]
     },
     "metadata": {
      "needs_background": "light"
     },
     "output_type": "display_data"
    }
   ],
   "source": [
    "# define lists and make into dataframe 2 points\n",
    "amazon =[1.25,1.16,1.33,1.15,1.23,1.20,1.32,1.28,1.21]\n",
    "wallyworld = [0.89,1.01,0.97,0.95,0.94,1.02,0.98,1.06,0.98]\n",
    "boxdf = pandas.DataFrame()\n",
    "boxdf['amazon']=amazon\n",
    "boxdf['wallyw']=wallyworld\n",
    "\n",
    "# describe lists/dataframe 2 points\n",
    "print(boxdf.describe())\n",
    "\n",
    "boxdf.plot.hist() # 2 points for histogram"
   ]
  },
  {
   "cell_type": "code",
   "execution_count": 24,
   "metadata": {},
   "outputs": [
    {
     "name": "stdout",
     "output_type": "stream",
     "text": [
      "Student's T-test\n",
      "stat=9.564, p=0.000\n",
      "Reject Ho : means are not the same\n"
     ]
    }
   ],
   "source": [
    "# parametric are means same? 2 points\n",
    "# Example of the Student's t-test\n",
    "from scipy.stats import ttest_ind\n",
    "stat, p = ttest_ind(amazon, wallyworld)\n",
    "print(\"Student's T-test\")\n",
    "print('stat=%.3f, p=%.3f' % (stat, p))\n",
    "if p > 0.1:\n",
    "\tprint('Do not reject Ho : means are the same')\n",
    "else:\n",
    "\tprint('Reject Ho : means are not the same')"
   ]
  },
  {
   "cell_type": "markdown",
   "metadata": {},
   "source": [
    "# Problem 4 (30 points)\n",
    "Precipitation records for Lubbock from 1895 to 2019 for the month of October is located in the file `http://54.243.252.9/engr-1330-psuedo-course/CECE-1330-PsuedoCourse/5-ExamProblems/Exam2/Exam2/`. \n",
    "\n",
    "1. Produce a plot of year vs precipitation.  *[Script + Plot 1: data==blue]*\n",
    "2. Describe the entire data set. *[Script]*\n",
    "3. Split the data into two parts at the year 1960.  *[Script]*\n",
    "4. Describe the two data series you have created. *[Script]*\n",
    "5. Plot the two series on the same plot. *[Script + Plot 2: data1==blue, data2==green]*\n",
    "6. Is there evidence of different mean precipitation in the pre-1990 and post-1990 data sets?  Use a hypothesis test to support your assertion. *[Markdown + Script]*\n",
    "7. Using the entire data set (before the 1960 split) prepare an empirical cumulative distribution plot using the weibull plotting position formula.  *[Script + Plot 3: data==blue]*\n",
    "8. What is the 50% precipitation exceedence depth? *[Markdown]*\n",
    "9. What is the 90% precipitation exceedence depth? *[Markdown]*\n",
    "10. Fit the empirical distribution using a normal distribution data model, plot the model using a red curve.  Assess the fit. *[Script + Plot 4: data==blue, model==red]*\n",
    "11. Fit the empirical distribution using a gammal distribution data model, plot the model using a red curve.  Assess the fit. *[Script + Plot 5: data==blue, model==red]*\n",
    "12. Using your preferred model (normal vs. gamma) estimate the 99% precipitation exceedence depth. *[Script + Markdown]*"
   ]
  },
  {
   "cell_type": "code",
   "execution_count": 25,
   "metadata": {},
   "outputs": [
    {
     "data": {
      "text/html": [
       "<div>\n",
       "<style scoped>\n",
       "    .dataframe tbody tr th:only-of-type {\n",
       "        vertical-align: middle;\n",
       "    }\n",
       "\n",
       "    .dataframe tbody tr th {\n",
       "        vertical-align: top;\n",
       "    }\n",
       "\n",
       "    .dataframe thead th {\n",
       "        text-align: right;\n",
       "    }\n",
       "</style>\n",
       "<table border=\"1\" class=\"dataframe\">\n",
       "  <thead>\n",
       "    <tr style=\"text-align: right;\">\n",
       "      <th></th>\n",
       "      <th>Date</th>\n",
       "      <th>precipitation</th>\n",
       "    </tr>\n",
       "  </thead>\n",
       "  <tbody>\n",
       "    <tr>\n",
       "      <th>0</th>\n",
       "      <td>1895-10</td>\n",
       "      <td>2.14</td>\n",
       "    </tr>\n",
       "    <tr>\n",
       "      <th>1</th>\n",
       "      <td>1896-10</td>\n",
       "      <td>3.33</td>\n",
       "    </tr>\n",
       "    <tr>\n",
       "      <th>2</th>\n",
       "      <td>1897-10</td>\n",
       "      <td>1.13</td>\n",
       "    </tr>\n",
       "    <tr>\n",
       "      <th>3</th>\n",
       "      <td>1898-10</td>\n",
       "      <td>0.26</td>\n",
       "    </tr>\n",
       "    <tr>\n",
       "      <th>4</th>\n",
       "      <td>1899-10</td>\n",
       "      <td>0.76</td>\n",
       "    </tr>\n",
       "  </tbody>\n",
       "</table>\n",
       "</div>"
      ],
      "text/plain": [
       "      Date  precipitation\n",
       "0  1895-10           2.14\n",
       "1  1896-10           3.33\n",
       "2  1897-10           1.13\n",
       "3  1898-10           0.26\n",
       "4  1899-10           0.76"
      ]
     },
     "execution_count": 25,
     "metadata": {},
     "output_type": "execute_result"
    }
   ],
   "source": [
    "# Problem 4\n",
    "import pandas \n",
    "lbbdata = pandas.read_csv(\"Lubbockdata.csv\") #1 pt\n",
    "lbbdata.head()"
   ]
  },
  {
   "cell_type": "code",
   "execution_count": 26,
   "metadata": {},
   "outputs": [
    {
     "data": {
      "text/html": [
       "<div>\n",
       "<style scoped>\n",
       "    .dataframe tbody tr th:only-of-type {\n",
       "        vertical-align: middle;\n",
       "    }\n",
       "\n",
       "    .dataframe tbody tr th {\n",
       "        vertical-align: top;\n",
       "    }\n",
       "\n",
       "    .dataframe thead th {\n",
       "        text-align: right;\n",
       "    }\n",
       "</style>\n",
       "<table border=\"1\" class=\"dataframe\">\n",
       "  <thead>\n",
       "    <tr style=\"text-align: right;\">\n",
       "      <th></th>\n",
       "      <th>precipitation</th>\n",
       "    </tr>\n",
       "  </thead>\n",
       "  <tbody>\n",
       "    <tr>\n",
       "      <th>count</th>\n",
       "      <td>125.000000</td>\n",
       "    </tr>\n",
       "    <tr>\n",
       "      <th>mean</th>\n",
       "      <td>1.823280</td>\n",
       "    </tr>\n",
       "    <tr>\n",
       "      <th>std</th>\n",
       "      <td>1.722971</td>\n",
       "    </tr>\n",
       "    <tr>\n",
       "      <th>min</th>\n",
       "      <td>0.000000</td>\n",
       "    </tr>\n",
       "    <tr>\n",
       "      <th>25%</th>\n",
       "      <td>0.550000</td>\n",
       "    </tr>\n",
       "    <tr>\n",
       "      <th>50%</th>\n",
       "      <td>1.200000</td>\n",
       "    </tr>\n",
       "    <tr>\n",
       "      <th>75%</th>\n",
       "      <td>2.440000</td>\n",
       "    </tr>\n",
       "    <tr>\n",
       "      <th>max</th>\n",
       "      <td>7.220000</td>\n",
       "    </tr>\n",
       "  </tbody>\n",
       "</table>\n",
       "</div>"
      ],
      "text/plain": [
       "       precipitation\n",
       "count     125.000000\n",
       "mean        1.823280\n",
       "std         1.722971\n",
       "min         0.000000\n",
       "25%         0.550000\n",
       "50%         1.200000\n",
       "75%         2.440000\n",
       "max         7.220000"
      ]
     },
     "execution_count": 26,
     "metadata": {},
     "output_type": "execute_result"
    },
    {
     "data": {
      "image/png": "[encoded data removed]",
      "text/plain": [
       "<Figure size 432x288 with 1 Axes>"
      ]
     },
     "metadata": {
      "needs_background": "light"
     },
     "output_type": "display_data"
    }
   ],
   "source": [
    "lbbdata.plot.line() # 1pt\n",
    "lbbdata.describe() # 1pt"
   ]
  },
  {
   "cell_type": "code",
   "execution_count": 27,
   "metadata": {},
   "outputs": [],
   "source": [
    "lbbold = lbbdata[lbbdata['Date'] <= '1960-10'] # 1pt\n",
    "lbbnew = lbbdata[lbbdata['Date'] > '1960-10'] # 1pt"
   ]
  },
  {
   "cell_type": "code",
   "execution_count": 28,
   "metadata": {},
   "outputs": [
    {
     "name": "stdout",
     "output_type": "stream",
     "text": [
      "       precipitation\n",
      "count      66.000000\n",
      "mean        2.022121\n",
      "std         1.730504\n",
      "min         0.000000\n",
      "25%         0.870000\n",
      "50%         1.380000\n",
      "75%         2.642500\n",
      "max         6.920000\n",
      "       precipitation\n",
      "count      59.000000\n",
      "mean        1.600847\n",
      "std         1.701570\n",
      "min         0.000000\n",
      "25%         0.420000\n",
      "50%         1.010000\n",
      "75%         2.125000\n",
      "max         7.220000\n"
     ]
    }
   ],
   "source": [
    "print(lbbold.describe()) # 1pt\n",
    "print(lbbnew.describe()) # 1pt"
   ]
  },
  {
   "cell_type": "code",
   "execution_count": 29,
   "metadata": {},
   "outputs": [
    {
     "data": {
      "image/png": "[encoded data removed]",
      "text/plain": [
       "<Figure size 576x576 with 1 Axes>"
      ]
     },
     "metadata": {
      "needs_background": "light"
     },
     "output_type": "display_data"
    }
   ],
   "source": [
    "import matplotlib.pyplot\n",
    "myfigure = matplotlib.pyplot.figure(figsize = (8,8)) # generate a object from the figure class, set aspect ratio\n",
    "matplotlib.pyplot.plot(lbbold['Date'],lbbold['precipitation'] ,color ='blue')\n",
    "matplotlib.pyplot.plot(lbbnew['Date'],lbbnew['precipitation'] ,color ='green')\n",
    "matplotlib.pyplot.xlabel(\"Date\") \n",
    "matplotlib.pyplot.ylabel(\"Precipitation Value\") \n",
    "matplotlib.pyplot.title(\"Lubbock Precipitation in October\") \n",
    "matplotlib.pyplot.show() # 2 pts for a plot like below; extra point if the year label is readable"
   ]
  },
  {
   "cell_type": "code",
   "execution_count": 30,
   "metadata": {},
   "outputs": [
    {
     "name": "stdout",
     "output_type": "stream",
     "text": [
      "Student's T-test\n",
      "stat=1.369, p=0.173\n",
      "Do not reject Ho : means are the same\n"
     ]
    }
   ],
   "source": [
    "# lbbnew has smaller sample mean, but probably not significant. Reuse the T-test 2 pts\n",
    "# Example of the Student's t-test \n",
    "from scipy.stats import ttest_ind\n",
    "stat, p = ttest_ind(lbbold['precipitation'], lbbnew['precipitation'])\n",
    "print(\"Student's T-test\")\n",
    "print('stat=%.3f, p=%.3f' % (stat, p))\n",
    "if p > 0.05:\n",
    "\tprint('Do not reject Ho : means are the same')\n",
    "else:\n",
    "\tprint('Reject Ho : means are not the same')"
   ]
  },
  {
   "cell_type": "code",
   "execution_count": 31,
   "metadata": {},
   "outputs": [],
   "source": [
    "def weibull_pp(sample): # Weibull plotting position function 1 pt, copy from lab\n",
    "# returns a list of plotting positions; sample must be a numeric list\n",
    "    weibull_pp = [] # null list to return after fill\n",
    "    sample.sort() # sort the sample list in place\n",
    "    for i in range(0,len(sample),1):\n",
    "        weibull_pp.append((i+1)/(len(sample)+1)) #values from the gringorten formula\n",
    "    return weibull_pp"
   ]
  },
  {
   "cell_type": "code",
   "execution_count": 32,
   "metadata": {},
   "outputs": [],
   "source": [
    "lbbprecip = lbbdata['precipitation'].tolist() # 1 pt"
   ]
  },
  {
   "cell_type": "code",
   "execution_count": 33,
   "metadata": {},
   "outputs": [],
   "source": [
    "ecdf = weibull_pp(lbbprecip) # 1pt"
   ]
  },
  {
   "cell_type": "code",
   "execution_count": 34,
   "metadata": {},
   "outputs": [
    {
     "data": {
      "image/png": "[encoded data removed]",
      "text/plain": [
       "<Figure size 432x432 with 1 Axes>"
      ]
     },
     "metadata": {
      "needs_background": "light"
     },
     "output_type": "display_data"
    }
   ],
   "source": [
    "import matplotlib.pyplot # 2 pt, copy from lab\n",
    "myfigure = matplotlib.pyplot.figure(figsize = (6,6)) # generate a object from the figure class, set aspect ratio\n",
    "matplotlib.pyplot.scatter(ecdf, lbbprecip ,color ='blue')\n",
    "matplotlib.pyplot.xlabel(\"Density or Quantile Value\") \n",
    "matplotlib.pyplot.ylabel(\"Precipitation Value\") \n",
    "matplotlib.pyplot.title(\"Quantile Plot for LBB October rains Weibull Plotting Function\") \n",
    "matplotlib.pyplot.show()"
   ]
  },
  {
   "cell_type": "code",
   "execution_count": 35,
   "metadata": {},
   "outputs": [],
   "source": [
    "# 50% is at about 1 inch depth 1 pt\n",
    "# 90% is at about 4 inch depth 1 pt"
   ]
  },
  {
   "cell_type": "code",
   "execution_count": 36,
   "metadata": {},
   "outputs": [],
   "source": [
    "import math  # copy from lesson/lab 13 2 pts\n",
    "\n",
    "def normdist(x,mu,sigma):\n",
    "    argument = (x - mu)/(math.sqrt(2.0)*sigma)    \n",
    "    normdist = (1.0 + math.erf(argument))/2.0\n",
    "    return normdist"
   ]
  },
  {
   "cell_type": "code",
   "execution_count": 37,
   "metadata": {},
   "outputs": [],
   "source": [
    "# Fitted Model # copy from lesson/lab 13 2 pts\n",
    "mu = lbbdata['precipitation'].mean()\n",
    "sigma = lbbdata['precipitation'].std()\n",
    "\n",
    "x = []\n",
    "ycdf = []\n",
    "\n",
    "xlow = lbbdata['precipitation'].min()\n",
    "xhigh = lbbdata['precipitation'].max()\n",
    "howMany = 100\n",
    "xstep = (xhigh - xlow)/howMany\n",
    "\n",
    "for i in range(0,howMany+1,1):\n",
    "    x.append(xlow + i*xstep)\n",
    "    yvalue = normdist(xlow + i*xstep,mu,sigma)\n",
    "    ycdf.append(yvalue) "
   ]
  },
  {
   "cell_type": "code",
   "execution_count": 38,
   "metadata": {},
   "outputs": [
    {
     "data": {
      "image/png": "[encoded data removed]",
      "text/plain": [
       "<Figure size 720x360 with 1 Axes>"
      ]
     },
     "metadata": {
      "needs_background": "light"
     },
     "output_type": "display_data"
    }
   ],
   "source": [
    "# Now plot the sample values and plotting position 2 pts\n",
    "myfigure = matplotlib.pyplot.figure(figsize = (10,5)) # generate a object from the figure class, set aspect ratio\n",
    "\n",
    "# Built the plot\n",
    "matplotlib.pyplot.scatter(ecdf, lbbprecip ,color ='blue')\n",
    "matplotlib.pyplot.plot(ycdf, x,  color ='red') \n",
    "matplotlib.pyplot.xlabel(\"Density or Quantile Value\") \n",
    "matplotlib.pyplot.ylabel(\"Precipitation Value\") \n",
    "matplotlib.pyplot.title(\"Quantile Plot for LBB October rains Weibull Plotting Function\") \n",
    "matplotlib.pyplot.show()\n"
   ]
  },
  {
   "cell_type": "code",
   "execution_count": 39,
   "metadata": {},
   "outputs": [
    {
     "data": {
      "image/png": "[encoded data removed]",
      "text/plain": [
       "<Figure size 504x576 with 1 Axes>"
      ]
     },
     "metadata": {
      "needs_background": "light"
     },
     "output_type": "display_data"
    }
   ],
   "source": [
    "import scipy.stats # import scipy stats package  ## copy from lab 6 pts\n",
    "import math        # import math package\n",
    "import numpy       # import numpy package\n",
    "# log and antilog\n",
    "def loggit(x):  # A prototype function to log transform x\n",
    "    return(math.log(x))\n",
    "def antiloggit(x):  # A prototype function to log transform x\n",
    "    return(math.exp(x))\n",
    "def weibull_pp(sample): # plotting position function\n",
    "# returns a list of plotting positions; sample must be a numeric list\n",
    "    weibull_pp = [] # null list to return after fill\n",
    "    sample.sort() # sort the sample list in place\n",
    "    for i in range(0,len(sample),1):\n",
    "        weibull_pp.append((i+1)/(len(sample)+1))\n",
    "    return weibull_pp\n",
    "def gammacdf(x,tau,alpha,beta): # Gamma Cumulative Density function - with three parameter to one parameter convert\n",
    "    xhat = x-tau\n",
    "    lamda = 1.0/beta\n",
    "    gammacdf = scipy.stats.gamma.cdf(lamda*xhat, alpha)\n",
    "    return gammacdf\n",
    "\n",
    "sample = lbbdata['precipitation'].tolist() # put the log rain into a list\n",
    "sample_mean  = numpy.array(sample).mean()\n",
    "sample_stdev = numpy.array(sample).std()\n",
    "sample_skew  = scipy.stats.skew(sample)\n",
    "sample_alpha = 4.0/(sample_skew**2)\n",
    "sample_beta  = numpy.sign(sample_skew)*math.sqrt(sample_stdev**2/sample_alpha)\n",
    "sample_tau   = sample_mean - sample_alpha*sample_beta\n",
    "\n",
    "plotting = weibull_pp(sample)\n",
    "\n",
    "x = []; ycdf = []\n",
    "xlow = (0.9*min(sample)); xhigh = (1.1*max(sample)) ; howMany = 100\n",
    "xstep = (xhigh - xlow)/howMany\n",
    "for i in range(0,howMany+1,1):\n",
    "    x.append(xlow + i*xstep)\n",
    "    yvalue = gammacdf(xlow + i*xstep,sample_tau,sample_alpha,sample_beta)\n",
    "    ycdf.append(yvalue) \n",
    "    \n",
    "myfigure = matplotlib.pyplot.figure(figsize = (7,8)) # generate a object from the figure class, set aspect ratio\n",
    "matplotlib.pyplot.scatter(plotting, sample ,color ='blue') \n",
    "matplotlib.pyplot.plot(ycdf, x, color ='red') \n",
    "matplotlib.pyplot.xlabel(\"Quantile Value\") \n",
    "matplotlib.pyplot.ylabel(\"Value of RV\") \n",
    "mytitle = \"Pearson Type III Distribution Data Model\\n \"\n",
    "mytitle += \"Mean = \" + str((sample_mean)) + \"\\n\"\n",
    "mytitle += \"SD = \" + str((sample_stdev)) + \"\\n\"\n",
    "mytitle += \"Skew = \" + str((sample_skew)) + \"\\n\"\n",
    "matplotlib.pyplot.title(mytitle) \n",
    "matplotlib.pyplot.show()"
   ]
  },
  {
   "cell_type": "code",
   "execution_count": 40,
   "metadata": {},
   "outputs": [
    {
     "name": "stdout",
     "output_type": "stream",
     "text": [
      "-0.7893085743067978\n",
      "2.3177909391313727\n",
      "1.1271890532482214\n"
     ]
    }
   ],
   "source": [
    "print(sample_tau)\n",
    "print(sample_alpha)\n",
    "print(sample_beta)"
   ]
  },
  {
   "cell_type": "code",
   "execution_count": 41,
   "metadata": {},
   "outputs": [
    {
     "name": "stdout",
     "output_type": "stream",
     "text": [
      "7.347913576046983\n"
     ]
    }
   ],
   "source": [
    "# If we want to get fancy we can use Newton's method to get really close to the root\n",
    "\n",
    "from scipy.optimize import newton\n",
    "\n",
    "def f(x):\n",
    "    sample_tau = -0.7893085743067978\n",
    "    sample_alpha = 2.3177909391313727\n",
    "    sample_beta = 1.1271890532482214\n",
    "    quantile = 0.99\n",
    "    argument = (x)\n",
    "    gammavalue = gammacdf(argument,sample_tau,sample_alpha,sample_beta)\n",
    "    return gammavalue - quantile\n",
    "\n",
    "myguess =  8\n",
    "print(newton(f, myguess))"
   ]
  },
  {
   "cell_type": "code",
   "execution_count": null,
   "metadata": {},
   "outputs": [],
   "source": []
  },
  {
   "cell_type": "code",
   "execution_count": null,
   "metadata": {},
   "outputs": [],
   "source": []
  },
  {
   "cell_type": "markdown",
   "metadata": {},
   "source": [
    "# Bonus Problem (5 pts)\n",
    "Consider the script below, which implements a simulation of Russian Roulette (using an object oriented approach). Run the script to familarize yourself with the output.\n",
    "\n",
    "Then to prevent `Farhang` from dying, determine a way to change his outcome, and explain how you save him.  \n",
    "\n",
    "Like with the robot speeding ticket you are channeling Kirk's approach to the Kobayashi-Maru exercise https://en.wikipedia.org/wiki/Kobayashi_Maru You can find the necessary trick from https://en.wikipedia.org/wiki/WarGames "
   ]
  },
  {
   "cell_type": "code",
   "execution_count": 42,
   "metadata": {},
   "outputs": [
    {
     "name": "stdout",
     "output_type": "stream",
     "text": [
      "Andrey lives to see another round!\n",
      "Farhang lives to see another round!\n",
      "Nikita lives to see another round!\n",
      "Dima lives to see another round!\n",
      "Sergey died. :(\n",
      "5 completed.\n"
     ]
    }
   ],
   "source": [
    "import random\n",
    "import itertools\n",
    "\n",
    "class RussianRoulette:\n",
    "\n",
    "    def __init__(self, players, chambers=6):\n",
    "        random.shuffle(players)\n",
    "        self.players = itertools.cycle(players)\n",
    "        self.chambers = [False for _ in range(chambers)]\n",
    "        self.current = None\n",
    "        self.rounds = 0\n",
    "\n",
    "    def load(self):\n",
    "        \"\"\"\n",
    "        Randomly load a chamber with a bullet.\n",
    "        \"\"\"\n",
    "        chamber_to_load = random.randint(0, len(self.chambers)-1)\n",
    "\n",
    "        for i, chamber in enumerate(self.chambers):\n",
    "            if i == chamber_to_load:\n",
    "              self.chambers[i] = True\n",
    "\n",
    "    def next_round(self):\n",
    "        \"\"\"\n",
    "        Advance to the next round.\n",
    "\n",
    "        Returns:\n",
    "            the `player` whose turn it is next\n",
    "        \"\"\"\n",
    "        self.rounds += 1\n",
    "        return next(self.players)\n",
    "\n",
    "    def spin(self):\n",
    "        \"\"\"\n",
    "        Randomly assign a new chamber.\n",
    "        \"\"\"\n",
    "        self.current = random.randrange(0, len(self.chambers))\n",
    "      \n",
    "    def fire(self, player):\n",
    "        \"\"\"\n",
    "        Fires the gun, then advances to the next chamber.\n",
    "\n",
    "        The gun will loop back to the first chamber if we were at the \n",
    "        final chamber in the cyclinder.\n",
    "\n",
    "        Returns:\n",
    "            `None` if no one has died\n",
    "            `player` if the bullet was in the next chamber\n",
    "        \"\"\"\n",
    "        if self.chambers[self.current]:\n",
    "            return player\n",
    "        \n",
    "        self.current = (self.current + 1) % len(self.chambers)\n",
    "\n",
    "if __name__ == '__main__':\n",
    "    players = ['Nikita', 'Dima', 'Sergey', 'Farhang', 'Andrey',  'Neko'] \n",
    "    game = RussianRoulette(players)\n",
    "    \n",
    "    game.load()\n",
    "    game.spin()\n",
    "    \n",
    "    while True:\n",
    "        player = game.next_round()\n",
    "        \n",
    "        choice = random.choice(['spin', 'fire'])\n",
    "        \n",
    "        if choice == 'spin':\n",
    "            game.spin()\n",
    "            #pass\n",
    "        \n",
    "        if game.fire(player):\n",
    "            print(f'{player} died. :(')\n",
    "            print(f'{game.rounds} completed.')\n",
    "            break\n",
    "        \n",
    "        print(f'{player} lives to see another round!')"
   ]
  },
  {
   "cell_type": "markdown",
   "metadata": {},
   "source": [
    "# Bonus Problem (10 points): \n",
    "1. Write a function to find the probability of an event in percentage form based on given outcomes and sample space\n",
    "     1. Use the function and compute the probability of rolling a number between 12 and 18 (inclusive) with a D20\n",
    "     2. Use the function and compute the probability of drawing a King of hearts after drawing a card of diamonds from a standard deck of cards (without replacement)\n",
    "     3. Use the function and compute the probability of drawing a Queen or a King or a 5 of spades."
   ]
  },
  {
   "cell_type": "code",
   "execution_count": null,
   "metadata": {},
   "outputs": [],
   "source": []
  }
 ],
 "metadata": {
  "kernelspec": {
   "display_name": "Python 38",
   "language": "python",
   "name": "python38"
  },
  "language_info": {
   "codemirror_mode": {
    "name": "ipython",
    "version": 3
   },
   "file_extension": ".py",
   "mimetype": "text/x-python",
   "name": "python",
   "nbconvert_exporter": "python",
   "pygments_lexer": "ipython3",
   "version": "3.8.3"
  }
 },
 "nbformat": 4,
 "nbformat_minor": 4
}
