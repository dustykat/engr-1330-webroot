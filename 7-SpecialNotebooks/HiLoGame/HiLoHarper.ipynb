{
 "cells": [
  {
   "cell_type": "code",
   "execution_count": 1,
   "metadata": {},
   "outputs": [
    {
     "name": "stdout",
     "output_type": "stream",
     "text": [
      "Welcome to the Hi-Lo Guessing Game!  I'll try to guess your number and you tell me if it's too (H)igh, too (L)ow, or if I (W)in!\n",
      "My guess is:  50\n"
     ]
    },
    {
     "name": "stdin",
     "output_type": "stream",
     "text": [
      "Was I high, low or did I win? H\n"
     ]
    },
    {
     "name": "stdout",
     "output_type": "stream",
     "text": [
      "My guess is:  25\n"
     ]
    },
    {
     "name": "stdin",
     "output_type": "stream",
     "text": [
      "Was I high, low or did I win? L\n"
     ]
    },
    {
     "name": "stdout",
     "output_type": "stream",
     "text": [
      "My guess is:  37\n"
     ]
    },
    {
     "name": "stdin",
     "output_type": "stream",
     "text": [
      "Was I high, low or did I win? H\n"
     ]
    },
    {
     "name": "stdout",
     "output_type": "stream",
     "text": [
      "31\n"
     ]
    },
    {
     "name": "stdin",
     "output_type": "stream",
     "text": [
      "Was I high, low or did I win? H\n"
     ]
    },
    {
     "name": "stdout",
     "output_type": "stream",
     "text": [
      "My guess is:  27\n"
     ]
    },
    {
     "name": "stdin",
     "output_type": "stream",
     "text": [
      "Was I high, low or did I win? L\n"
     ]
    },
    {
     "name": "stdout",
     "output_type": "stream",
     "text": [
      "I lost.\n"
     ]
    }
   ],
   "source": [
    "import random\n",
    "print(\"Welcome to the Hi-Lo Guessing Game!  I'll try to guess your number and you tell me if it's too (H)igh, too (L)ow, or if I (W)in!\")\n",
    "GuessCounter=1\n",
    "HighEnd=100\n",
    "LowEnd=0\n",
    "guess=(HighEnd+LowEnd)//2\n",
    "while GuessCounter <7:\n",
    "    if(GuessCounter>=6):\n",
    "        print(\"I lost.\")\n",
    "        break\n",
    "    elif(GuessCounter==4):               #The last guess has some randomness added so the last guess isn't always the same\n",
    "        print(guess)\n",
    "        Result=input(\"Was I high, low or did I win?\")\n",
    "        if(Result==\"H\" or Result==\"h\"):\n",
    "            guess=random.randrange(LowEnd,int(guess-1),1)           #Guess is randomized within the narrowed down range\n",
    "        elif(Result==\"L\" or Result==\"l\"):\n",
    "            guess=random.randrange(int(guess+1),HighEnd,1)          #Guess is randomized within the narrowed down range\n",
    "        elif(Result==\"W\" or Result==\"w\"):\n",
    "            print(\"I won.\")\n",
    "            break\n",
    "        else:\n",
    "            print(\"I'm sorry, I didn't understand that, please tell me H for high, L for low, or W for win\")\n",
    "        GuessCounter+=1\n",
    "    else:                                #First four guesses are in this loop\n",
    "        print(\"My guess is: \",guess)\n",
    "        Result=input(\"Was I high, low or did I win?\")\n",
    "        if(Result==\"H\" or Result==\"h\"):\n",
    "            HighEnd=guess                             #If the guess is too high, it becomes the new upper limit\n",
    "            guess=(HighEnd+LowEnd)//2\n",
    "        elif(Result==\"L\" or Result==\"l\"):\n",
    "            LowEnd=guess                              #If the guess is too low, it becomes the new lower limit\n",
    "            guess=(HighEnd+LowEnd)//2\n",
    "        elif(Result==\"W\" or Result==\"w\"):\n",
    "            print(\"I won.\")\n",
    "            break\n",
    "        else:\n",
    "            print(\"I'm sorry, I didn't understand that, please tell me H for high, L for low, or W for win\")\n",
    "            GuessCounter-=1\n",
    "        GuessCounter+=1"
   ]
  },
  {
   "cell_type": "code",
   "execution_count": null,
   "metadata": {},
   "outputs": [],
   "source": []
  }
 ],
 "metadata": {
  "kernelspec": {
   "display_name": "Python 3",
   "language": "python",
   "name": "python3"
  },
  "language_info": {
   "codemirror_mode": {
    "name": "ipython",
    "version": 3
   },
   "file_extension": ".py",
   "mimetype": "text/x-python",
   "name": "python",
   "nbconvert_exporter": "python",
   "pygments_lexer": "ipython3",
   "version": "3.8.10"
  }
 },
 "nbformat": 4,
 "nbformat_minor": 4
}
