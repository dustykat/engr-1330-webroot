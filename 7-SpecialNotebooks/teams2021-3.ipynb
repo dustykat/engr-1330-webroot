{
 "cells": [
  {
   "cell_type": "markdown",
   "metadata": {},
   "source": [
    "<div class=\"alert alert-block alert-info\">\n",
    "    Project Teams\n",
    "    </div>"
   ]
  },
  {
   "cell_type": "markdown",
   "metadata": {},
   "source": [
    "|Team Name|Team Members|Team Name|Team Members|\n",
    "|---|---|---|---|\n",
    "|Team 1|- Elizabeth Larvin<br>- Alex Calabrese <br>- Rafael Allen|Team 2 *Visible*|- Mateo Castro <br>- Cole Agnew <br>- Rory Maguire|\n",
    "|Team 3|- Stephen Allen <br>- David Park  <br>- Gunnar Krause |Team 4|-Ethan Corley <br> -Brady Sanders <br>-Jose Montanez<br>-Ashley Comin|\n",
    "|Team 5 |-Kiley Eisenmann<br>-Alexis Allen <br>-Jazmine Casillas<br>-Stephanie Gregory|Team 6 *Library*|- Marvin Oriahi <br>-Kathrine McDonald<br>- Mark Riddle<br>-Dylan Woods|\n",
    "|Team 7|- Brant Gault <br> - Edward Cruz <br> - Joshua Mills|Team 8|- William Gilbreath <br> - Chip Rogers <br> - Edmund Partin|\n",
    "|Team 9|- Janessa Gonzalez <br>- Avery Cone <br> - Zachary Gray|Team 10|- name<br>- name <br>- name|\n",
    "|Team 11|- name<br>- name <br>- name|Team 12|- name<br>- name <br>- name|\n",
    "|Team 13|- name<br>- name <br>- name|Team 14|- name<br>- name <br>- name|\n",
    "|Team 15|- name<br>- name <br>- name|Team 16|- name<br>- name <br>- name|\n"
   ]
  }
 ],
 "metadata": {
  "kernelspec": {
   "display_name": "Python 3 (ipykernel)",
   "language": "python",
   "name": "python3"
  },
  "language_info": {
   "codemirror_mode": {
    "name": "ipython",
    "version": 3
   },
   "file_extension": ".py",
   "mimetype": "text/x-python",
   "name": "python",
   "nbconvert_exporter": "python",
   "pygments_lexer": "ipython3",
   "version": "3.8.10"
  }
 },
 "nbformat": 4,
 "nbformat_minor": 4
}
