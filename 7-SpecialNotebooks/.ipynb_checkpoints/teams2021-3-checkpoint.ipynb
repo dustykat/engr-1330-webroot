{
 "cells": [
  {
   "cell_type": "markdown",
   "metadata": {},
   "source": [
    "<div class=\"alert alert-block alert-info\">\n",
    "    Project Teams\n",
    "    </div>"
   ]
  },
  {
   "cell_type": "markdown",
   "metadata": {},
   "source": [
    "|Team Name|Team Members|\n",
    "|---|---|\n",
    "|Team 1|- Elizabeth Larvin<br>- Alex Calabrese <br>- Rafael Allen|\n",
    "|Team 2|- name<br>- name <br>- name|\n",
    "|Team 3|- name<br>- name <br>- name|\n",
    "|Team 4|- name<br>- name <br>- name|\n",
    "|Team 5|- name<br>- name <br>- name|\n",
    "|Team 6|- name<br>- name <br>- name|\n",
    "|Team 7|- name<br>- name <br>- name|\n",
    "|Team 8|- name<br>- name <br>- name|\n",
    "|Team 9|- name<br>- name <br>- name|\n",
    "|Team 10|- name<br>- name <br>- name|\n",
    "|Team 11|- name<br>- name <br>- name|\n",
    "|Team 12|- name<br>- name <br>- name|\n",
    "|Team 13|- name<br>- name <br>- name|\n",
    "|Team 14|- name<br>- name <br>- name|\n",
    "|Team 15|- name<br>- name <br>- name|"
   ]
  },
  {
   "cell_type": "code",
   "execution_count": null,
   "metadata": {},
   "outputs": [],
   "source": []
  }
 ],
 "metadata": {
  "kernelspec": {
   "display_name": "Python 3",
   "language": "python",
   "name": "python3"
  },
  "language_info": {
   "codemirror_mode": {
    "name": "ipython",
    "version": 3
   },
   "file_extension": ".py",
   "mimetype": "text/x-python",
   "name": "python",
   "nbconvert_exporter": "python",
   "pygments_lexer": "ipython3",
   "version": "3.8.10"
  }
 },
 "nbformat": 4,
 "nbformat_minor": 4
}
